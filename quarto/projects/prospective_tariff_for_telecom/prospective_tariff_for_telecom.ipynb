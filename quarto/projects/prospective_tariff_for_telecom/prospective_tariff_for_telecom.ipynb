{
 "cells": [
  {
   "cell_type": "raw",
   "metadata": {
    "vscode": {
     "languageId": "raw"
    }
   },
   "source": [
    "---\n",
    "description: \"Исследование влияния семейного положения и количества детей клиента на факт погашения кредита в срок для кредитного отдела банка.\"\n",
    "\n",
    "format:\n",
    "  html:\n",
    "    code-fold: true\n",
    "    code-summary: \"Show the code\"\n",
    "    fontsize: 16px\n",
    "    smooth-scroll: true\n",
    "    toc: true\n",
    "    toc-location: left-body\n",
    "    toc-title: Оглавление\n",
    "    grid:\n",
    "      body-width: 1100px\n",
    "---"
   ]
  },
  {
   "cell_type": "markdown",
   "metadata": {},
   "source": [
    "# Определение перспективного тарифа для телеком-компании\n"
   ]
  },
  {
   "cell_type": "markdown",
   "metadata": {},
   "source": [
    "**Автор:**  \n",
    "Григорьев Павел\n"
   ]
  },
  {
   "cell_type": "markdown",
   "metadata": {},
   "source": [
    "**Описание проекта:**\n",
    "\n",
    "Коммерческий департамент компании «Мегалайн», федерального оператора сотовой связи, стремится оптимизировать рекламный бюджет, выяснив, какой из тарифных планов - «Смарт» или «Ультра» - приносит больше дохода. Для этого необходимо провести предварительный анализ на основе данных 500 пользователей, включая информацию о тарифах, количестве звонков и сообщений за 2018 год. Нужно проанализировать поведение клиентов и сделать вывод - какой тариф лучше."
   ]
  },
  {
   "cell_type": "markdown",
   "metadata": {},
   "source": [
    "**Цель:**  \n",
    "\n",
    "Провести анализ данных 500 пользователей компании «Мегалайн» для определения более прибыльного тарифного плана («Смарт» или «Ультра») и оптимизации рекламного бюджета."
   ]
  },
  {
   "cell_type": "markdown",
   "metadata": {},
   "source": [
    "**Источники данных:**  \n",
    "\n",
    "Данные о пользователях и тарифных планах предоставлены компанией «Мегалайн»."
   ]
  },
  {
   "cell_type": "markdown",
   "metadata": {},
   "source": [
    "**Условия проведения анализа днных:**  \n",
    "\n",
    "Для анализ будут использоваться данные с 1 января 2018 по 31 декабря 2018 года"
   ]
  },
  {
   "cell_type": "markdown",
   "metadata": {},
   "source": [
    "## Загрузка библиотек <skip>"
   ]
  },
  {
   "cell_type": "code",
   "execution_count": 2,
   "metadata": {},
   "outputs": [],
   "source": [
    "%load_ext autoreload\n",
    "%autoreload 2\n",
    "import pandas as pd\n",
    "import numpy as np\n",
    "import plotly.express as px\n",
    "import pagri_data_tools  # type: ignore\n",
    "pd.set_option('display.max_columns', None)"
   ]
  },
  {
   "cell_type": "markdown",
   "metadata": {},
   "source": [
    "## Описание и изучение данных\n"
   ]
  },
  {
   "cell_type": "markdown",
   "metadata": {},
   "source": [
    "### Описание данных\n"
   ]
  },
  {
   "cell_type": "markdown",
   "metadata": {},
   "source": [
    "Описание тарифов\n",
    "\n",
    "- Тариф «Смарт»\n",
    "\n",
    "    - Ежемесячная плата: 550 рублей\n",
    "    - Включено 500 минут разговора, 50 сообщений и 15 Гб интернет-трафика\n",
    "    - Стоимость услуг сверх тарифного пакета: 1. минута разговора: 3 рубля («Мегалайн» всегда округляет вверх значения минут и мегабайтов. Если пользователь проговорил всего 1 секунду, в тарифе засчитывается целая минута); 2. сообщение: 3 рубля; 3. 1 Гб интернет-трафика: 200 рублей.\n",
    "\n",
    "- Тариф «Ультра»\n",
    "\n",
    "    - Ежемесячная плата: 1950 рублей\n",
    "    - Включено 3000 минут разговора, 1000 сообщений и 30 Гб интернет-трафика\n",
    "    - Стоимость услуг сверх тарифного пакета: 1. минута разговора: 1 рубль; 2. сообщение: 1 рубль; 3. 1 Гб интернет-трафика: 150 рублей.\n"
   ]
  },
  {
   "cell_type": "markdown",
   "metadata": {},
   "source": [
    "**Таблица users (информация о пользователях):**\n"
   ]
  },
  {
   "cell_type": "markdown",
   "metadata": {},
   "source": [
    "- user_id - уникальный идентификатор пользователя\n",
    "- first_name - имя пользователя\n",
    "- last_name - фамилия пользователя\n",
    "- age - возраст пользователя (годы)\n",
    "- reg_date - дата подключения тарифа (день, месяц, год)\n",
    "- churn_date - дата прекращения пользования тарифом (если значение пропущено, то тариф ещё действовал на момент выгрузки данных)\n",
    "- city - город проживания пользователя\n",
    "- tarif - название тарифного плана"
   ]
  },
  {
   "cell_type": "markdown",
   "metadata": {},
   "source": [
    "**Таблица calls (информация о звонках):**"
   ]
  },
  {
   "cell_type": "markdown",
   "metadata": {},
   "source": [
    "- id - уникальный номер звонка\n",
    "- call_date - дата звонка\n",
    "- duration - длительность звонка в минутах\n",
    "- user_id - идентификатор пользователя, сделавшего звонок"
   ]
  },
  {
   "cell_type": "markdown",
   "metadata": {},
   "source": [
    "**Таблица messages (информация о сообщениях):**\n"
   ]
  },
  {
   "cell_type": "markdown",
   "metadata": {},
   "source": [
    "- id - уникальный номер сообщения\n",
    "- message_date - дата сообщения\n",
    "- user_id - идентификатор пользователя, отправившего сообщение"
   ]
  },
  {
   "cell_type": "markdown",
   "metadata": {},
   "source": [
    "**Таблица internet (информация об интернет-сессиях):**"
   ]
  },
  {
   "cell_type": "markdown",
   "metadata": {},
   "source": [
    "- id - уникальный номер сессии\n",
    "- mb_used - объём потраченного за сессию интернет-трафика (в мегабайтах)\n",
    "- session_date - дата интернет-сессии\n",
    "- user_id - идентификатор пользователя"
   ]
  },
  {
   "cell_type": "markdown",
   "metadata": {},
   "source": [
    "**Таблица tariffs (информация о тарифах):**"
   ]
  },
  {
   "cell_type": "markdown",
   "metadata": {},
   "source": [
    "- tariff_name - название тарифа\n",
    "- rub_monthly_fee - ежемесячная абонентская плата в рублях\n",
    "- minutes_included - количество минут разговора в месяц, включённых в абонентскую плату\n",
    "- messages_included - количество сообщений в месяц, включённых в абонентскую плату\n",
    "- mb_per_month_included - объём интернет-трафика, включённого в абонентскую плату (в мегабайтах)\n",
    "- rub_per_minute - стоимость минуты разговора сверх тарифного пакета (например, если в тарифе 100 минут разговора в месяц, то со 101 минуты будет взиматься плата)\n",
    "- rub_per_message - стоимость отправки сообщения сверх тарифного пакета\n",
    "- rub_per_gb - стоимость дополнительного гигабайта интернет-трафика сверх тарифного пакета (1 гигабайт = 1024 мегабайта)"
   ]
  },
  {
   "cell_type": "markdown",
   "metadata": {},
   "source": [
    "### Изучение данных\n"
   ]
  },
  {
   "cell_type": "markdown",
   "metadata": {},
   "source": [
    "#### Изучение переменных\n"
   ]
  },
  {
   "cell_type": "markdown",
   "metadata": {},
   "source": [
    "##### Таблица users (информация о пользователях)"
   ]
  },
  {
   "cell_type": "code",
   "execution_count": 61,
   "metadata": {},
   "outputs": [
    {
     "data": {
      "text/html": [
       "<div>\n",
       "<style scoped>\n",
       "    .dataframe tbody tr th:only-of-type {\n",
       "        vertical-align: middle;\n",
       "    }\n",
       "\n",
       "    .dataframe tbody tr th {\n",
       "        vertical-align: top;\n",
       "    }\n",
       "\n",
       "    .dataframe thead th {\n",
       "        text-align: right;\n",
       "    }\n",
       "</style>\n",
       "<table border=\"1\" class=\"dataframe\">\n",
       "  <thead>\n",
       "    <tr style=\"text-align: right;\">\n",
       "      <th></th>\n",
       "      <th>user_id</th>\n",
       "      <th>age</th>\n",
       "      <th>churn_date</th>\n",
       "      <th>city</th>\n",
       "      <th>first_name</th>\n",
       "      <th>last_name</th>\n",
       "      <th>reg_date</th>\n",
       "      <th>tariff</th>\n",
       "    </tr>\n",
       "  </thead>\n",
       "  <tbody>\n",
       "    <tr>\n",
       "      <th>308</th>\n",
       "      <td>1308</td>\n",
       "      <td>52</td>\n",
       "      <td>NaT</td>\n",
       "      <td>Москва</td>\n",
       "      <td>Инесса</td>\n",
       "      <td>Корнилова</td>\n",
       "      <td>2018-01-04</td>\n",
       "      <td>smart</td>\n",
       "    </tr>\n",
       "    <tr>\n",
       "      <th>13</th>\n",
       "      <td>1013</td>\n",
       "      <td>36</td>\n",
       "      <td>NaT</td>\n",
       "      <td>Иваново</td>\n",
       "      <td>Борис</td>\n",
       "      <td>Андреенко</td>\n",
       "      <td>2018-11-14</td>\n",
       "      <td>ultra</td>\n",
       "    </tr>\n",
       "    <tr>\n",
       "      <th>414</th>\n",
       "      <td>1414</td>\n",
       "      <td>70</td>\n",
       "      <td>NaT</td>\n",
       "      <td>Владимир</td>\n",
       "      <td>Александра</td>\n",
       "      <td>Лобанова</td>\n",
       "      <td>2018-05-05</td>\n",
       "      <td>smart</td>\n",
       "    </tr>\n",
       "    <tr>\n",
       "      <th>32</th>\n",
       "      <td>1032</td>\n",
       "      <td>31</td>\n",
       "      <td>NaT</td>\n",
       "      <td>Ульяновск</td>\n",
       "      <td>Инна</td>\n",
       "      <td>Игнатьева</td>\n",
       "      <td>2018-01-04</td>\n",
       "      <td>smart</td>\n",
       "    </tr>\n",
       "    <tr>\n",
       "      <th>460</th>\n",
       "      <td>1460</td>\n",
       "      <td>64</td>\n",
       "      <td>NaT</td>\n",
       "      <td>Ижевск</td>\n",
       "      <td>Арина</td>\n",
       "      <td>Абашкина</td>\n",
       "      <td>2018-04-06</td>\n",
       "      <td>smart</td>\n",
       "    </tr>\n",
       "  </tbody>\n",
       "</table>\n",
       "</div>"
      ],
      "text/plain": [
       "     user_id  age churn_date       city  first_name  last_name   reg_date  \\\n",
       "308     1308   52        NaT     Москва      Инесса  Корнилова 2018-01-04   \n",
       "13      1013   36        NaT    Иваново       Борис  Андреенко 2018-11-14   \n",
       "414     1414   70        NaT   Владимир  Александра   Лобанова 2018-05-05   \n",
       "32      1032   31        NaT  Ульяновск        Инна  Игнатьева 2018-01-04   \n",
       "460     1460   64        NaT     Ижевск       Арина   Абашкина 2018-04-06   \n",
       "\n",
       "    tariff  \n",
       "308  smart  \n",
       "13   ultra  \n",
       "414  smart  \n",
       "32   smart  \n",
       "460  smart  "
      ]
     },
     "execution_count": 68,
     "metadata": {},
     "output_type": "execute_result"
    }
   ],
   "source": [
    "dtype = {'city': 'category', 'tariff': 'category'}\n",
    "df_users = pd.read_csv('https://code.s3.yandex.net/datasets/users.csv', dtype=dtype\n",
    "                       , parse_dates=['reg_date', 'churn_date'], date_format='%Y-%m-%d')\n",
    "df_users.sample(5, random_state=7)"
   ]
  },
  {
   "cell_type": "markdown",
   "metadata": {},
   "source": [
    "Изучим каждый столбец отдельно."
   ]
  },
  {
   "cell_type": "code",
   "execution_count": 62,
   "metadata": {},
   "outputs": [
    {
     "data": {
      "text/html": [
       "<style type=\"text/css\">\n",
       "#T_e5653 caption {\n",
       "  font-size: 18px;\n",
       "  text-align: left;\n",
       "  font-weight: bold;\n",
       "}\n",
       "#T_e5653_row0_col0, #T_e5653_row0_col1, #T_e5653_row0_col2, #T_e5653_row0_col3, #T_e5653_row0_col4 {\n",
       "  text-align: left;\n",
       "}\n",
       "</style>\n",
       "<table id=\"T_e5653\">\n",
       "  <caption>DataFrame</caption>\n",
       "  <thead>\n",
       "    <tr>\n",
       "      <th id=\"T_e5653_level0_col0\" class=\"col_heading level0 col0\" >Rows</th>\n",
       "      <th id=\"T_e5653_level0_col1\" class=\"col_heading level0 col1\" >Features</th>\n",
       "      <th id=\"T_e5653_level0_col2\" class=\"col_heading level0 col2\" >RAM (Mb)</th>\n",
       "      <th id=\"T_e5653_level0_col3\" class=\"col_heading level0 col3\" >Duplicates</th>\n",
       "      <th id=\"T_e5653_level0_col4\" class=\"col_heading level0 col4\" >Dupl (sub - origin)</th>\n",
       "    </tr>\n",
       "  </thead>\n",
       "  <tbody>\n",
       "    <tr>\n",
       "      <td id=\"T_e5653_row0_col0\" class=\"data row0 col0\" >500</td>\n",
       "      <td id=\"T_e5653_row0_col1\" class=\"data row0 col1\" >8</td>\n",
       "      <td id=\"T_e5653_row0_col2\" class=\"data row0 col2\" >0</td>\n",
       "      <td id=\"T_e5653_row0_col3\" class=\"data row0 col3\" >---</td>\n",
       "      <td id=\"T_e5653_row0_col4\" class=\"data row0 col4\" >---</td>\n",
       "    </tr>\n",
       "  </tbody>\n",
       "</table>\n"
      ],
      "text/plain": [
       "<pandas.io.formats.style.Styler at 0x75deb427a780>"
      ]
     },
     "execution_count": 69,
     "metadata": {},
     "output_type": "execute_result"
    }
   ],
   "source": [
    "gen = pagri_data_tools.info_gen(df_users)\n",
    "next(gen)"
   ]
  },
  {
   "cell_type": "code",
   "execution_count": null,
   "metadata": {},
   "outputs": [],
   "source": [
    "gen = pagri_data_tools.info_gen(df_users)"
   ]
  },
  {
   "cell_type": "code",
   "execution_count": null,
   "metadata": {},
   "outputs": [
    {
     "name": "stdout",
     "output_type": "stream",
     "text": [
      "0\n",
      "1\n",
      "2\n",
      "3\n",
      "4\n",
      "5\n",
      "6\n",
      "7\n",
      "8\n",
      "9\n",
      "Generator has finished\n",
      "Generator has finished\n"
     ]
    }
   ],
   "source": [
    "\n",
    "    \n",
    "# Пример использования\n",
    "gen = info_gen()\n",
    "\n",
    "# Получаем значения по умолчанию\n",
    "print(gen.next())  # Вывод: a 0\n",
    "\n",
    "# Меняем режим на 'else'\n",
    "print(gen.next())  # Вывод: else 0\n",
    "\n",
    "# Меняем режим обратно на 'a'\n",
    "print(gen.next())  # Вывод: a 1\n",
    "\n",
    "# Получаем еще одно значение\n",
    "print(gen.next())  # Вывод: a 2\n",
    "\n",
    "# Достигнем конца генератора\n",
    "for _ in range(7):  # Получим оставшиеся значения\n",
    "    print(gen.next())  # Вывод: a 3, a 4, a 5, a 6, a 7, a 8, a 9\n",
    "\n",
    "# Попробуем вызвать next после окончания генератора\n",
    "print(gen.next())  # Вывод: None"
   ]
  },
  {
   "cell_type": "code",
   "execution_count": 98,
   "metadata": {},
   "outputs": [
    {
     "data": {
      "text/plain": [
       "0"
      ]
     },
     "execution_count": 98,
     "metadata": {},
     "output_type": "execute_result"
    }
   ],
   "source": [
    "next(gen)"
   ]
  },
  {
   "cell_type": "code",
   "execution_count": 104,
   "metadata": {},
   "outputs": [
    {
     "data": {
      "text/plain": [
       "0"
      ]
     },
     "execution_count": 104,
     "metadata": {},
     "output_type": "execute_result"
    }
   ],
   "source": [
    "next(gen)"
   ]
  },
  {
   "cell_type": "code",
   "execution_count": null,
   "metadata": {},
   "outputs": [
    {
     "data": {
      "text/html": [
       "\n",
       "        <div style=\"display: flex; justify-content: flex-start; align-items: flex-end;\">\n",
       "            <style type=\"text/css\">\n",
       "#T_60c99 caption {\n",
       "  font-size: 16px;\n",
       "  text-align: left;\n",
       "  font-weight: bold;\n",
       "}\n",
       "#T_60c99_row0_col0, #T_60c99_row0_col1, #T_60c99_row0_col2, #T_60c99_row0_col3, #T_60c99_row0_col4, #T_60c99_row0_col5, #T_60c99_row0_col6, #T_60c99_row0_col7, #T_60c99_row0_col8, #T_60c99_row1_col0, #T_60c99_row1_col1, #T_60c99_row1_col2, #T_60c99_row1_col3, #T_60c99_row1_col4, #T_60c99_row1_col5, #T_60c99_row1_col6, #T_60c99_row1_col7, #T_60c99_row1_col8, #T_60c99_row2_col0, #T_60c99_row2_col1, #T_60c99_row2_col2, #T_60c99_row2_col3, #T_60c99_row2_col4, #T_60c99_row2_col5, #T_60c99_row2_col6, #T_60c99_row2_col7, #T_60c99_row2_col8, #T_60c99_row3_col0, #T_60c99_row3_col1, #T_60c99_row3_col2, #T_60c99_row3_col3, #T_60c99_row3_col4, #T_60c99_row3_col5, #T_60c99_row3_col6, #T_60c99_row3_col7, #T_60c99_row3_col8 {\n",
       "  text-align: left;\n",
       "}\n",
       "</style>\n",
       "<table id=\"T_60c99\">\n",
       "  <caption>Статистика столбца \"churn_date\"</caption>\n",
       "  <thead>\n",
       "  </thead>\n",
       "  <tbody>\n",
       "    <tr>\n",
       "      <td id=\"T_60c99_row0_col0\" class=\"data row0 col0\" >First date</td>\n",
       "      <td id=\"T_60c99_row0_col1\" class=\"data row0 col1\" >2018-08-17 00:00:00</td>\n",
       "      <td id=\"T_60c99_row0_col2\" class=\"data row0 col2\" >                              </td>\n",
       "      <td id=\"T_60c99_row0_col3\" class=\"data row0 col3\" >Zeros</td>\n",
       "      <td id=\"T_60c99_row0_col4\" class=\"data row0 col4\" >---</td>\n",
       "      <td id=\"T_60c99_row0_col5\" class=\"data row0 col5\" >                              </td>\n",
       "      <td id=\"T_60c99_row0_col6\" class=\"data row0 col6\" >Years missing</td>\n",
       "      <td id=\"T_60c99_row0_col7\" class=\"data row0 col7\" >0%</td>\n",
       "      <td id=\"T_60c99_row0_col8\" class=\"data row0 col8\" >                              </td>\n",
       "    </tr>\n",
       "    <tr>\n",
       "      <td id=\"T_60c99_row1_col0\" class=\"data row1 col0\" >Last date</td>\n",
       "      <td id=\"T_60c99_row1_col1\" class=\"data row1 col1\" >2018-12-30 00:00:00</td>\n",
       "      <td id=\"T_60c99_row1_col2\" class=\"data row1 col2\" >                              </td>\n",
       "      <td id=\"T_60c99_row1_col3\" class=\"data row1 col3\" >Missing</td>\n",
       "      <td id=\"T_60c99_row1_col4\" class=\"data row1 col4\" >462 (92%)</td>\n",
       "      <td id=\"T_60c99_row1_col5\" class=\"data row1 col5\" >                              </td>\n",
       "      <td id=\"T_60c99_row1_col6\" class=\"data row1 col6\" >Months missing</td>\n",
       "      <td id=\"T_60c99_row1_col7\" class=\"data row1 col7\" >0%</td>\n",
       "      <td id=\"T_60c99_row1_col8\" class=\"data row1 col8\" >                              </td>\n",
       "    </tr>\n",
       "    <tr>\n",
       "      <td id=\"T_60c99_row2_col0\" class=\"data row2 col0\" >Values</td>\n",
       "      <td id=\"T_60c99_row2_col1\" class=\"data row2 col1\" >38 (8%)</td>\n",
       "      <td id=\"T_60c99_row2_col2\" class=\"data row2 col2\" >                              </td>\n",
       "      <td id=\"T_60c99_row2_col3\" class=\"data row2 col3\" >Distinct</td>\n",
       "      <td id=\"T_60c99_row2_col4\" class=\"data row2 col4\" >33 (7%)</td>\n",
       "      <td id=\"T_60c99_row2_col5\" class=\"data row2 col5\" >                              </td>\n",
       "      <td id=\"T_60c99_row2_col6\" class=\"data row2 col6\" >Weeks missing</td>\n",
       "      <td id=\"T_60c99_row2_col7\" class=\"data row2 col7\" >30%</td>\n",
       "      <td id=\"T_60c99_row2_col8\" class=\"data row2 col8\" >                              </td>\n",
       "    </tr>\n",
       "    <tr>\n",
       "      <td id=\"T_60c99_row3_col0\" class=\"data row3 col0\" >RAM (Mb)</td>\n",
       "      <td id=\"T_60c99_row3_col1\" class=\"data row3 col1\" ><1 Mb</td>\n",
       "      <td id=\"T_60c99_row3_col2\" class=\"data row3 col2\" >                              </td>\n",
       "      <td id=\"T_60c99_row3_col3\" class=\"data row3 col3\" >Duplicates</td>\n",
       "      <td id=\"T_60c99_row3_col4\" class=\"data row3 col4\" >466 (93%)</td>\n",
       "      <td id=\"T_60c99_row3_col5\" class=\"data row3 col5\" >                              </td>\n",
       "      <td id=\"T_60c99_row3_col6\" class=\"data row3 col6\" >Days missing</td>\n",
       "      <td id=\"T_60c99_row3_col7\" class=\"data row3 col7\" >76%</td>\n",
       "      <td id=\"T_60c99_row3_col8\" class=\"data row3 col8\" >                              </td>\n",
       "    </tr>\n",
       "  </tbody>\n",
       "</table>\n",
       "\n",
       "        </div>\n",
       "        "
      ],
      "text/plain": [
       "<IPython.core.display.HTML object>"
      ]
     },
     "metadata": {},
     "output_type": "display_data"
    }
   ],
   "source": [
    "next(gen)"
   ]
  },
  {
   "cell_type": "markdown",
   "metadata": {},
   "source": [
    "**Наблюдения:**  \n",
    "\n",
    "- В колонке с датой прекращения пользования тарифом 92 % пропусков. Значит 92 % пользователей ещё пользуются таррифом.\n",
    "- Есть пропущенные недели и дни, но в данном случае это нормально.  \n"
   ]
  },
  {
   "cell_type": "code",
   "execution_count": null,
   "metadata": {},
   "outputs": [
    {
     "data": {
      "text/html": [
       "\n",
       "        <div style=\"display: flex; justify-content: flex-start; align-items: flex-end;\">\n",
       "            <style type=\"text/css\">\n",
       "#T_b3428 caption {\n",
       "  font-size: 16px;\n",
       "  text-align: left;\n",
       "  font-weight: bold;\n",
       "}\n",
       "#T_b3428_row0_col0, #T_b3428_row0_col1, #T_b3428_row0_col2, #T_b3428_row0_col3, #T_b3428_row0_col4, #T_b3428_row0_col5, #T_b3428_row0_col6, #T_b3428_row0_col7, #T_b3428_row0_col8, #T_b3428_row1_col0, #T_b3428_row1_col1, #T_b3428_row1_col2, #T_b3428_row1_col3, #T_b3428_row1_col4, #T_b3428_row1_col5, #T_b3428_row1_col6, #T_b3428_row1_col7, #T_b3428_row1_col8, #T_b3428_row2_col0, #T_b3428_row2_col1, #T_b3428_row2_col2, #T_b3428_row2_col3, #T_b3428_row2_col4, #T_b3428_row2_col5, #T_b3428_row2_col6, #T_b3428_row2_col7, #T_b3428_row2_col8, #T_b3428_row3_col0, #T_b3428_row3_col1, #T_b3428_row3_col2, #T_b3428_row3_col3, #T_b3428_row3_col4, #T_b3428_row3_col5, #T_b3428_row3_col6, #T_b3428_row3_col7, #T_b3428_row3_col8 {\n",
       "  text-align: left;\n",
       "}\n",
       "</style>\n",
       "<table id=\"T_b3428\">\n",
       "  <caption>Статистика столбца \"reg_date\"</caption>\n",
       "  <thead>\n",
       "  </thead>\n",
       "  <tbody>\n",
       "    <tr>\n",
       "      <td id=\"T_b3428_row0_col0\" class=\"data row0 col0\" >First date</td>\n",
       "      <td id=\"T_b3428_row0_col1\" class=\"data row0 col1\" >2018-01-01 00:00:00</td>\n",
       "      <td id=\"T_b3428_row0_col2\" class=\"data row0 col2\" >                              </td>\n",
       "      <td id=\"T_b3428_row0_col3\" class=\"data row0 col3\" >Zeros</td>\n",
       "      <td id=\"T_b3428_row0_col4\" class=\"data row0 col4\" >---</td>\n",
       "      <td id=\"T_b3428_row0_col5\" class=\"data row0 col5\" >                              </td>\n",
       "      <td id=\"T_b3428_row0_col6\" class=\"data row0 col6\" >Years missing</td>\n",
       "      <td id=\"T_b3428_row0_col7\" class=\"data row0 col7\" >0%</td>\n",
       "      <td id=\"T_b3428_row0_col8\" class=\"data row0 col8\" >                              </td>\n",
       "    </tr>\n",
       "    <tr>\n",
       "      <td id=\"T_b3428_row1_col0\" class=\"data row1 col0\" >Last date</td>\n",
       "      <td id=\"T_b3428_row1_col1\" class=\"data row1 col1\" >2018-12-31 00:00:00</td>\n",
       "      <td id=\"T_b3428_row1_col2\" class=\"data row1 col2\" >                              </td>\n",
       "      <td id=\"T_b3428_row1_col3\" class=\"data row1 col3\" >Missing</td>\n",
       "      <td id=\"T_b3428_row1_col4\" class=\"data row1 col4\" >---</td>\n",
       "      <td id=\"T_b3428_row1_col5\" class=\"data row1 col5\" >                              </td>\n",
       "      <td id=\"T_b3428_row1_col6\" class=\"data row1 col6\" >Months missing</td>\n",
       "      <td id=\"T_b3428_row1_col7\" class=\"data row1 col7\" >0%</td>\n",
       "      <td id=\"T_b3428_row1_col8\" class=\"data row1 col8\" >                              </td>\n",
       "    </tr>\n",
       "    <tr>\n",
       "      <td id=\"T_b3428_row2_col0\" class=\"data row2 col0\" >Values</td>\n",
       "      <td id=\"T_b3428_row2_col1\" class=\"data row2 col1\" >500 (100%)</td>\n",
       "      <td id=\"T_b3428_row2_col2\" class=\"data row2 col2\" >                              </td>\n",
       "      <td id=\"T_b3428_row2_col3\" class=\"data row2 col3\" >Distinct</td>\n",
       "      <td id=\"T_b3428_row2_col4\" class=\"data row2 col4\" >270 (54%)</td>\n",
       "      <td id=\"T_b3428_row2_col5\" class=\"data row2 col5\" >                              </td>\n",
       "      <td id=\"T_b3428_row2_col6\" class=\"data row2 col6\" >Weeks missing</td>\n",
       "      <td id=\"T_b3428_row2_col7\" class=\"data row2 col7\" >0%</td>\n",
       "      <td id=\"T_b3428_row2_col8\" class=\"data row2 col8\" >                              </td>\n",
       "    </tr>\n",
       "    <tr>\n",
       "      <td id=\"T_b3428_row3_col0\" class=\"data row3 col0\" >RAM (Mb)</td>\n",
       "      <td id=\"T_b3428_row3_col1\" class=\"data row3 col1\" ><1 Mb</td>\n",
       "      <td id=\"T_b3428_row3_col2\" class=\"data row3 col2\" >                              </td>\n",
       "      <td id=\"T_b3428_row3_col3\" class=\"data row3 col3\" >Duplicates</td>\n",
       "      <td id=\"T_b3428_row3_col4\" class=\"data row3 col4\" >230 (46%)</td>\n",
       "      <td id=\"T_b3428_row3_col5\" class=\"data row3 col5\" >                              </td>\n",
       "      <td id=\"T_b3428_row3_col6\" class=\"data row3 col6\" >Days missing</td>\n",
       "      <td id=\"T_b3428_row3_col7\" class=\"data row3 col7\" >26%</td>\n",
       "      <td id=\"T_b3428_row3_col8\" class=\"data row3 col8\" >                              </td>\n",
       "    </tr>\n",
       "  </tbody>\n",
       "</table>\n",
       "\n",
       "        </div>\n",
       "        "
      ],
      "text/plain": [
       "<IPython.core.display.HTML object>"
      ]
     },
     "metadata": {},
     "output_type": "display_data"
    }
   ],
   "source": [
    "next(gen)"
   ]
  },
  {
   "cell_type": "markdown",
   "metadata": {},
   "source": [
    "**Наблюдения:**  \n",
    "\n",
    "- В колонке с датой подключения тарифа 26 % дней пропущено.\n"
   ]
  },
  {
   "cell_type": "code",
   "execution_count": 72,
   "metadata": {},
   "outputs": [
    {
     "data": {
      "text/html": [
       "\n",
       "        <div style=\"display: flex; justify-content: flex-start; align-items: flex-end;\">\n",
       "            <style type=\"text/css\">\n",
       "#T_ea2b2 caption {\n",
       "  font-size: 16px;\n",
       "  text-align: left;\n",
       "  font-weight: bold;\n",
       "}\n",
       "#T_ea2b2_row0_col0, #T_ea2b2_row0_col1, #T_ea2b2_row0_col2, #T_ea2b2_row0_col3, #T_ea2b2_row0_col4, #T_ea2b2_row0_col5, #T_ea2b2_row0_col6, #T_ea2b2_row0_col7, #T_ea2b2_row0_col8, #T_ea2b2_row0_col9, #T_ea2b2_row1_col0, #T_ea2b2_row1_col1, #T_ea2b2_row1_col2, #T_ea2b2_row1_col3, #T_ea2b2_row1_col4, #T_ea2b2_row1_col5, #T_ea2b2_row1_col6, #T_ea2b2_row1_col7, #T_ea2b2_row1_col8, #T_ea2b2_row1_col9, #T_ea2b2_row2_col0, #T_ea2b2_row2_col1, #T_ea2b2_row2_col2, #T_ea2b2_row2_col3, #T_ea2b2_row2_col4, #T_ea2b2_row2_col5, #T_ea2b2_row2_col6, #T_ea2b2_row2_col7, #T_ea2b2_row2_col8, #T_ea2b2_row2_col9, #T_ea2b2_row3_col0, #T_ea2b2_row3_col1, #T_ea2b2_row3_col2, #T_ea2b2_row3_col3, #T_ea2b2_row3_col4, #T_ea2b2_row3_col5, #T_ea2b2_row3_col6, #T_ea2b2_row3_col7, #T_ea2b2_row3_col8, #T_ea2b2_row3_col9, #T_ea2b2_row4_col0, #T_ea2b2_row4_col1, #T_ea2b2_row4_col2, #T_ea2b2_row4_col3, #T_ea2b2_row4_col4, #T_ea2b2_row4_col5, #T_ea2b2_row4_col6, #T_ea2b2_row4_col7, #T_ea2b2_row4_col8, #T_ea2b2_row4_col9, #T_ea2b2_row5_col0, #T_ea2b2_row5_col1, #T_ea2b2_row5_col2, #T_ea2b2_row5_col3, #T_ea2b2_row5_col4, #T_ea2b2_row5_col5, #T_ea2b2_row5_col6, #T_ea2b2_row5_col7, #T_ea2b2_row5_col8, #T_ea2b2_row5_col9, #T_ea2b2_row6_col0, #T_ea2b2_row6_col1, #T_ea2b2_row6_col2, #T_ea2b2_row6_col3, #T_ea2b2_row6_col4, #T_ea2b2_row6_col5, #T_ea2b2_row6_col6, #T_ea2b2_row6_col7, #T_ea2b2_row6_col8, #T_ea2b2_row6_col9 {\n",
       "  text-align: left;\n",
       "}\n",
       "</style>\n",
       "<table id=\"T_ea2b2\">\n",
       "  <caption>Статистика и гистограмма столбца \"user_id\"</caption>\n",
       "  <thead>\n",
       "  </thead>\n",
       "  <tbody>\n",
       "    <tr>\n",
       "      <td id=\"T_ea2b2_row0_col0\" class=\"data row0 col0\" >Values</td>\n",
       "      <td id=\"T_ea2b2_row0_col1\" class=\"data row0 col1\" >500 (100%)</td>\n",
       "      <td id=\"T_ea2b2_row0_col2\" class=\"data row0 col2\" >                              </td>\n",
       "      <td id=\"T_ea2b2_row0_col3\" class=\"data row0 col3\" >Max</td>\n",
       "      <td id=\"T_ea2b2_row0_col4\" class=\"data row0 col4\" >1 499</td>\n",
       "      <td id=\"T_ea2b2_row0_col5\" class=\"data row0 col5\" >                              </td>\n",
       "      <td id=\"T_ea2b2_row0_col6\" class=\"data row0 col6\" >Avg</td>\n",
       "      <td id=\"T_ea2b2_row0_col7\" class=\"data row0 col7\" >1 249.5</td>\n",
       "      <td id=\"T_ea2b2_row0_col8\" class=\"data row0 col8\" >                              </td>\n",
       "      <td id=\"T_ea2b2_row0_col9\" class=\"data row0 col9\" >1 000 <1%</td>\n",
       "    </tr>\n",
       "    <tr>\n",
       "      <td id=\"T_ea2b2_row1_col0\" class=\"data row1 col0\" >Missing</td>\n",
       "      <td id=\"T_ea2b2_row1_col1\" class=\"data row1 col1\" >---</td>\n",
       "      <td id=\"T_ea2b2_row1_col2\" class=\"data row1 col2\" >                              </td>\n",
       "      <td id=\"T_ea2b2_row1_col3\" class=\"data row1 col3\" >95%</td>\n",
       "      <td id=\"T_ea2b2_row1_col4\" class=\"data row1 col4\" >1 474.05</td>\n",
       "      <td id=\"T_ea2b2_row1_col5\" class=\"data row1 col5\" >                              </td>\n",
       "      <td id=\"T_ea2b2_row1_col6\" class=\"data row1 col6\" >Mode</td>\n",
       "      <td id=\"T_ea2b2_row1_col7\" class=\"data row1 col7\" >---</td>\n",
       "      <td id=\"T_ea2b2_row1_col8\" class=\"data row1 col8\" >                              </td>\n",
       "      <td id=\"T_ea2b2_row1_col9\" class=\"data row1 col9\" >1 329 <1%</td>\n",
       "    </tr>\n",
       "    <tr>\n",
       "      <td id=\"T_ea2b2_row2_col0\" class=\"data row2 col0\" >Distinct</td>\n",
       "      <td id=\"T_ea2b2_row2_col1\" class=\"data row2 col1\" >500 (100%)</td>\n",
       "      <td id=\"T_ea2b2_row2_col2\" class=\"data row2 col2\" >                              </td>\n",
       "      <td id=\"T_ea2b2_row2_col3\" class=\"data row2 col3\" >75%</td>\n",
       "      <td id=\"T_ea2b2_row2_col4\" class=\"data row2 col4\" >1 374.25</td>\n",
       "      <td id=\"T_ea2b2_row2_col5\" class=\"data row2 col5\" >                              </td>\n",
       "      <td id=\"T_ea2b2_row2_col6\" class=\"data row2 col6\" >Range</td>\n",
       "      <td id=\"T_ea2b2_row2_col7\" class=\"data row2 col7\" >499</td>\n",
       "      <td id=\"T_ea2b2_row2_col8\" class=\"data row2 col8\" >                              </td>\n",
       "      <td id=\"T_ea2b2_row2_col9\" class=\"data row2 col9\" >1 342 <1%</td>\n",
       "    </tr>\n",
       "    <tr>\n",
       "      <td id=\"T_ea2b2_row3_col0\" class=\"data row3 col0\" >Duplicates</td>\n",
       "      <td id=\"T_ea2b2_row3_col1\" class=\"data row3 col1\" >---</td>\n",
       "      <td id=\"T_ea2b2_row3_col2\" class=\"data row3 col2\" >                              </td>\n",
       "      <td id=\"T_ea2b2_row3_col3\" class=\"data row3 col3\" >Median</td>\n",
       "      <td id=\"T_ea2b2_row3_col4\" class=\"data row3 col4\" >1 249.5</td>\n",
       "      <td id=\"T_ea2b2_row3_col5\" class=\"data row3 col5\" >                              </td>\n",
       "      <td id=\"T_ea2b2_row3_col6\" class=\"data row3 col6\" >iQR</td>\n",
       "      <td id=\"T_ea2b2_row3_col7\" class=\"data row3 col7\" >249.5</td>\n",
       "      <td id=\"T_ea2b2_row3_col8\" class=\"data row3 col8\" >                              </td>\n",
       "      <td id=\"T_ea2b2_row3_col9\" class=\"data row3 col9\" >1 341 <1%</td>\n",
       "    </tr>\n",
       "    <tr>\n",
       "      <td id=\"T_ea2b2_row4_col0\" class=\"data row4 col0\" >Zeros</td>\n",
       "      <td id=\"T_ea2b2_row4_col1\" class=\"data row4 col1\" >---</td>\n",
       "      <td id=\"T_ea2b2_row4_col2\" class=\"data row4 col2\" >                              </td>\n",
       "      <td id=\"T_ea2b2_row4_col3\" class=\"data row4 col3\" >25%</td>\n",
       "      <td id=\"T_ea2b2_row4_col4\" class=\"data row4 col4\" >1 124.75</td>\n",
       "      <td id=\"T_ea2b2_row4_col5\" class=\"data row4 col5\" >                              </td>\n",
       "      <td id=\"T_ea2b2_row4_col6\" class=\"data row4 col6\" >std</td>\n",
       "      <td id=\"T_ea2b2_row4_col7\" class=\"data row4 col7\" >144.48</td>\n",
       "      <td id=\"T_ea2b2_row4_col8\" class=\"data row4 col8\" >                              </td>\n",
       "      <td id=\"T_ea2b2_row4_col9\" class=\"data row4 col9\" >1 340 <1%</td>\n",
       "    </tr>\n",
       "    <tr>\n",
       "      <td id=\"T_ea2b2_row5_col0\" class=\"data row5 col0\" >Negative</td>\n",
       "      <td id=\"T_ea2b2_row5_col1\" class=\"data row5 col1\" >---</td>\n",
       "      <td id=\"T_ea2b2_row5_col2\" class=\"data row5 col2\" >                              </td>\n",
       "      <td id=\"T_ea2b2_row5_col3\" class=\"data row5 col3\" >5%</td>\n",
       "      <td id=\"T_ea2b2_row5_col4\" class=\"data row5 col4\" >1 024.95</td>\n",
       "      <td id=\"T_ea2b2_row5_col5\" class=\"data row5 col5\" >                              </td>\n",
       "      <td id=\"T_ea2b2_row5_col6\" class=\"data row5 col6\" >kurt</td>\n",
       "      <td id=\"T_ea2b2_row5_col7\" class=\"data row5 col7\" >-1.20</td>\n",
       "      <td id=\"T_ea2b2_row5_col8\" class=\"data row5 col8\" >                              </td>\n",
       "      <td id=\"T_ea2b2_row5_col9\" class=\"data row5 col9\" >1 339 <1%</td>\n",
       "    </tr>\n",
       "    <tr>\n",
       "      <td id=\"T_ea2b2_row6_col0\" class=\"data row6 col0\" >RAM (Mb)</td>\n",
       "      <td id=\"T_ea2b2_row6_col1\" class=\"data row6 col1\" ><1 Mb</td>\n",
       "      <td id=\"T_ea2b2_row6_col2\" class=\"data row6 col2\" >                              </td>\n",
       "      <td id=\"T_ea2b2_row6_col3\" class=\"data row6 col3\" >Min</td>\n",
       "      <td id=\"T_ea2b2_row6_col4\" class=\"data row6 col4\" >1 000</td>\n",
       "      <td id=\"T_ea2b2_row6_col5\" class=\"data row6 col5\" >                              </td>\n",
       "      <td id=\"T_ea2b2_row6_col6\" class=\"data row6 col6\" >skew</td>\n",
       "      <td id=\"T_ea2b2_row6_col7\" class=\"data row6 col7\" >0.00</td>\n",
       "      <td id=\"T_ea2b2_row6_col8\" class=\"data row6 col8\" >                              </td>\n",
       "      <td id=\"T_ea2b2_row6_col9\" class=\"data row6 col9\" >1 338 <1%</td>\n",
       "    </tr>\n",
       "  </tbody>\n",
       "</table>\n",
       "\n",
       "            <div>\n",
       "                <img src=\"data:image/png;base64,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\" alt=\"График\"/>\n",
       "            </div>\n",
       "        \n",
       "            <div>\n",
       "                <img src=\"data:image/png;base64,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\" alt=\"График\"/>\n",
       "            </div>            \n",
       "        </div>\n",
       "        "
      ],
      "text/plain": [
       "<IPython.core.display.HTML object>"
      ]
     },
     "metadata": {},
     "output_type": "display_data"
    }
   ],
   "source": [
    "next(gen)"
   ]
  },
  {
   "cell_type": "markdown",
   "metadata": {},
   "source": [
    "**Наблюдения:**  \n",
    "\n",
    "- В таблице users 500 уникльных пользователей.\n"
   ]
  },
  {
   "cell_type": "code",
   "execution_count": 73,
   "metadata": {},
   "outputs": [
    {
     "data": {
      "text/html": [
       "\n",
       "        <div style=\"display: flex; justify-content: flex-start; align-items: flex-end;\">\n",
       "            <style type=\"text/css\">\n",
       "#T_cbd3c caption {\n",
       "  font-size: 16px;\n",
       "  text-align: left;\n",
       "  font-weight: bold;\n",
       "}\n",
       "#T_cbd3c_row0_col0, #T_cbd3c_row0_col1, #T_cbd3c_row0_col2, #T_cbd3c_row0_col3, #T_cbd3c_row0_col4, #T_cbd3c_row0_col5, #T_cbd3c_row0_col6, #T_cbd3c_row0_col7, #T_cbd3c_row0_col8, #T_cbd3c_row0_col9, #T_cbd3c_row1_col0, #T_cbd3c_row1_col1, #T_cbd3c_row1_col2, #T_cbd3c_row1_col3, #T_cbd3c_row1_col4, #T_cbd3c_row1_col5, #T_cbd3c_row1_col6, #T_cbd3c_row1_col7, #T_cbd3c_row1_col8, #T_cbd3c_row1_col9, #T_cbd3c_row2_col0, #T_cbd3c_row2_col1, #T_cbd3c_row2_col2, #T_cbd3c_row2_col3, #T_cbd3c_row2_col4, #T_cbd3c_row2_col5, #T_cbd3c_row2_col6, #T_cbd3c_row2_col7, #T_cbd3c_row2_col8, #T_cbd3c_row2_col9, #T_cbd3c_row3_col0, #T_cbd3c_row3_col1, #T_cbd3c_row3_col2, #T_cbd3c_row3_col3, #T_cbd3c_row3_col4, #T_cbd3c_row3_col5, #T_cbd3c_row3_col6, #T_cbd3c_row3_col7, #T_cbd3c_row3_col8, #T_cbd3c_row3_col9, #T_cbd3c_row4_col0, #T_cbd3c_row4_col1, #T_cbd3c_row4_col2, #T_cbd3c_row4_col3, #T_cbd3c_row4_col4, #T_cbd3c_row4_col5, #T_cbd3c_row4_col6, #T_cbd3c_row4_col7, #T_cbd3c_row4_col8, #T_cbd3c_row4_col9, #T_cbd3c_row5_col0, #T_cbd3c_row5_col1, #T_cbd3c_row5_col2, #T_cbd3c_row5_col3, #T_cbd3c_row5_col4, #T_cbd3c_row5_col5, #T_cbd3c_row5_col6, #T_cbd3c_row5_col7, #T_cbd3c_row5_col8, #T_cbd3c_row5_col9, #T_cbd3c_row6_col0, #T_cbd3c_row6_col1, #T_cbd3c_row6_col2, #T_cbd3c_row6_col3, #T_cbd3c_row6_col4, #T_cbd3c_row6_col5, #T_cbd3c_row6_col6, #T_cbd3c_row6_col7, #T_cbd3c_row6_col8, #T_cbd3c_row6_col9 {\n",
       "  text-align: left;\n",
       "}\n",
       "</style>\n",
       "<table id=\"T_cbd3c\">\n",
       "  <caption>Статистика и гистограмма столбца \"age\"</caption>\n",
       "  <thead>\n",
       "  </thead>\n",
       "  <tbody>\n",
       "    <tr>\n",
       "      <td id=\"T_cbd3c_row0_col0\" class=\"data row0 col0\" >Values</td>\n",
       "      <td id=\"T_cbd3c_row0_col1\" class=\"data row0 col1\" >500 (100%)</td>\n",
       "      <td id=\"T_cbd3c_row0_col2\" class=\"data row0 col2\" >                              </td>\n",
       "      <td id=\"T_cbd3c_row0_col3\" class=\"data row0 col3\" >Max</td>\n",
       "      <td id=\"T_cbd3c_row0_col4\" class=\"data row0 col4\" >75</td>\n",
       "      <td id=\"T_cbd3c_row0_col5\" class=\"data row0 col5\" >                              </td>\n",
       "      <td id=\"T_cbd3c_row0_col6\" class=\"data row0 col6\" >Avg</td>\n",
       "      <td id=\"T_cbd3c_row0_col7\" class=\"data row0 col7\" >46.59</td>\n",
       "      <td id=\"T_cbd3c_row0_col8\" class=\"data row0 col8\" >                              </td>\n",
       "      <td id=\"T_cbd3c_row0_col9\" class=\"data row0 col9\" >53 (3%)</td>\n",
       "    </tr>\n",
       "    <tr>\n",
       "      <td id=\"T_cbd3c_row1_col0\" class=\"data row1 col0\" >Missing</td>\n",
       "      <td id=\"T_cbd3c_row1_col1\" class=\"data row1 col1\" >---</td>\n",
       "      <td id=\"T_cbd3c_row1_col2\" class=\"data row1 col2\" >                              </td>\n",
       "      <td id=\"T_cbd3c_row1_col3\" class=\"data row1 col3\" >95%</td>\n",
       "      <td id=\"T_cbd3c_row1_col4\" class=\"data row1 col4\" >72.05</td>\n",
       "      <td id=\"T_cbd3c_row1_col5\" class=\"data row1 col5\" >                              </td>\n",
       "      <td id=\"T_cbd3c_row1_col6\" class=\"data row1 col6\" >Mode</td>\n",
       "      <td id=\"T_cbd3c_row1_col7\" class=\"data row1 col7\" >---</td>\n",
       "      <td id=\"T_cbd3c_row1_col8\" class=\"data row1 col8\" >                              </td>\n",
       "      <td id=\"T_cbd3c_row1_col9\" class=\"data row1 col9\" >42 (3%)</td>\n",
       "    </tr>\n",
       "    <tr>\n",
       "      <td id=\"T_cbd3c_row2_col0\" class=\"data row2 col0\" >Distinct</td>\n",
       "      <td id=\"T_cbd3c_row2_col1\" class=\"data row2 col1\" >58 (12%)</td>\n",
       "      <td id=\"T_cbd3c_row2_col2\" class=\"data row2 col2\" >                              </td>\n",
       "      <td id=\"T_cbd3c_row2_col3\" class=\"data row2 col3\" >75%</td>\n",
       "      <td id=\"T_cbd3c_row2_col4\" class=\"data row2 col4\" >62</td>\n",
       "      <td id=\"T_cbd3c_row2_col5\" class=\"data row2 col5\" >                              </td>\n",
       "      <td id=\"T_cbd3c_row2_col6\" class=\"data row2 col6\" >Range</td>\n",
       "      <td id=\"T_cbd3c_row2_col7\" class=\"data row2 col7\" >57</td>\n",
       "      <td id=\"T_cbd3c_row2_col8\" class=\"data row2 col8\" >                              </td>\n",
       "      <td id=\"T_cbd3c_row2_col9\" class=\"data row2 col9\" >63 (3%)</td>\n",
       "    </tr>\n",
       "    <tr>\n",
       "      <td id=\"T_cbd3c_row3_col0\" class=\"data row3 col0\" >Duplicates</td>\n",
       "      <td id=\"T_cbd3c_row3_col1\" class=\"data row3 col1\" >442 (88%)</td>\n",
       "      <td id=\"T_cbd3c_row3_col2\" class=\"data row3 col2\" >                              </td>\n",
       "      <td id=\"T_cbd3c_row3_col3\" class=\"data row3 col3\" >Median</td>\n",
       "      <td id=\"T_cbd3c_row3_col4\" class=\"data row3 col4\" >46</td>\n",
       "      <td id=\"T_cbd3c_row3_col5\" class=\"data row3 col5\" >                              </td>\n",
       "      <td id=\"T_cbd3c_row3_col6\" class=\"data row3 col6\" >iQR</td>\n",
       "      <td id=\"T_cbd3c_row3_col7\" class=\"data row3 col7\" >30</td>\n",
       "      <td id=\"T_cbd3c_row3_col8\" class=\"data row3 col8\" >                              </td>\n",
       "      <td id=\"T_cbd3c_row3_col9\" class=\"data row3 col9\" >64 (3%)</td>\n",
       "    </tr>\n",
       "    <tr>\n",
       "      <td id=\"T_cbd3c_row4_col0\" class=\"data row4 col0\" >Zeros</td>\n",
       "      <td id=\"T_cbd3c_row4_col1\" class=\"data row4 col1\" >---</td>\n",
       "      <td id=\"T_cbd3c_row4_col2\" class=\"data row4 col2\" >                              </td>\n",
       "      <td id=\"T_cbd3c_row4_col3\" class=\"data row4 col3\" >25%</td>\n",
       "      <td id=\"T_cbd3c_row4_col4\" class=\"data row4 col4\" >32</td>\n",
       "      <td id=\"T_cbd3c_row4_col5\" class=\"data row4 col5\" >                              </td>\n",
       "      <td id=\"T_cbd3c_row4_col6\" class=\"data row4 col6\" >std</td>\n",
       "      <td id=\"T_cbd3c_row4_col7\" class=\"data row4 col7\" >16.67</td>\n",
       "      <td id=\"T_cbd3c_row4_col8\" class=\"data row4 col8\" >                              </td>\n",
       "      <td id=\"T_cbd3c_row4_col9\" class=\"data row4 col9\" >71 (3%)</td>\n",
       "    </tr>\n",
       "    <tr>\n",
       "      <td id=\"T_cbd3c_row5_col0\" class=\"data row5 col0\" >Negative</td>\n",
       "      <td id=\"T_cbd3c_row5_col1\" class=\"data row5 col1\" >---</td>\n",
       "      <td id=\"T_cbd3c_row5_col2\" class=\"data row5 col2\" >                              </td>\n",
       "      <td id=\"T_cbd3c_row5_col3\" class=\"data row5 col3\" >5%</td>\n",
       "      <td id=\"T_cbd3c_row5_col4\" class=\"data row5 col4\" >21</td>\n",
       "      <td id=\"T_cbd3c_row5_col5\" class=\"data row5 col5\" >                              </td>\n",
       "      <td id=\"T_cbd3c_row5_col6\" class=\"data row5 col6\" >kurt</td>\n",
       "      <td id=\"T_cbd3c_row5_col7\" class=\"data row5 col7\" >-1.20</td>\n",
       "      <td id=\"T_cbd3c_row5_col8\" class=\"data row5 col8\" >                              </td>\n",
       "      <td id=\"T_cbd3c_row5_col9\" class=\"data row5 col9\" >73 (2%)</td>\n",
       "    </tr>\n",
       "    <tr>\n",
       "      <td id=\"T_cbd3c_row6_col0\" class=\"data row6 col0\" >RAM (Mb)</td>\n",
       "      <td id=\"T_cbd3c_row6_col1\" class=\"data row6 col1\" ><1 Mb</td>\n",
       "      <td id=\"T_cbd3c_row6_col2\" class=\"data row6 col2\" >                              </td>\n",
       "      <td id=\"T_cbd3c_row6_col3\" class=\"data row6 col3\" >Min</td>\n",
       "      <td id=\"T_cbd3c_row6_col4\" class=\"data row6 col4\" >18</td>\n",
       "      <td id=\"T_cbd3c_row6_col5\" class=\"data row6 col5\" >                              </td>\n",
       "      <td id=\"T_cbd3c_row6_col6\" class=\"data row6 col6\" >skew</td>\n",
       "      <td id=\"T_cbd3c_row6_col7\" class=\"data row6 col7\" >-0.00</td>\n",
       "      <td id=\"T_cbd3c_row6_col8\" class=\"data row6 col8\" >                              </td>\n",
       "      <td id=\"T_cbd3c_row6_col9\" class=\"data row6 col9\" >21 (2%)</td>\n",
       "    </tr>\n",
       "  </tbody>\n",
       "</table>\n",
       "\n",
       "            <div>\n",
       "                <img src=\"data:image/png;base64,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\" alt=\"График\"/>\n",
       "            </div>\n",
       "        \n",
       "            <div>\n",
       "                <img src=\"data:image/png;base64,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\" alt=\"График\"/>\n",
       "            </div>            \n",
       "        </div>\n",
       "        "
      ],
      "text/plain": [
       "<IPython.core.display.HTML object>"
      ]
     },
     "metadata": {},
     "output_type": "display_data"
    }
   ],
   "source": [
    "next(gen)"
   ]
  },
  {
   "cell_type": "markdown",
   "metadata": {},
   "source": [
    "**Наблюдения:**  \n",
    "\n",
    "- Пользователи имеют возраст от 18 до 75 лет\n",
    "- В основном пользователи имеют возраст от 32 до 62 лет.\n"
   ]
  },
  {
   "cell_type": "code",
   "execution_count": null,
   "metadata": {},
   "outputs": [
    {
     "data": {
      "text/html": [
       "\n",
       "        <div style=\"display: flex; justify-content: flex-start; align-items: flex-end;\">\n",
       "            <style type=\"text/css\">\n",
       "#T_ea2b2 caption {\n",
       "  font-size: 16px;\n",
       "  text-align: left;\n",
       "  font-weight: bold;\n",
       "}\n",
       "#T_ea2b2_row0_col0, #T_ea2b2_row0_col1, #T_ea2b2_row0_col2, #T_ea2b2_row0_col3, #T_ea2b2_row0_col4, #T_ea2b2_row0_col5, #T_ea2b2_row0_col6, #T_ea2b2_row0_col7, #T_ea2b2_row0_col8, #T_ea2b2_row0_col9, #T_ea2b2_row1_col0, #T_ea2b2_row1_col1, #T_ea2b2_row1_col2, #T_ea2b2_row1_col3, #T_ea2b2_row1_col4, #T_ea2b2_row1_col5, #T_ea2b2_row1_col6, #T_ea2b2_row1_col7, #T_ea2b2_row1_col8, #T_ea2b2_row1_col9, #T_ea2b2_row2_col0, #T_ea2b2_row2_col1, #T_ea2b2_row2_col2, #T_ea2b2_row2_col3, #T_ea2b2_row2_col4, #T_ea2b2_row2_col5, #T_ea2b2_row2_col6, #T_ea2b2_row2_col7, #T_ea2b2_row2_col8, #T_ea2b2_row2_col9, #T_ea2b2_row3_col0, #T_ea2b2_row3_col1, #T_ea2b2_row3_col2, #T_ea2b2_row3_col3, #T_ea2b2_row3_col4, #T_ea2b2_row3_col5, #T_ea2b2_row3_col6, #T_ea2b2_row3_col7, #T_ea2b2_row3_col8, #T_ea2b2_row3_col9, #T_ea2b2_row4_col0, #T_ea2b2_row4_col1, #T_ea2b2_row4_col2, #T_ea2b2_row4_col3, #T_ea2b2_row4_col4, #T_ea2b2_row4_col5, #T_ea2b2_row4_col6, #T_ea2b2_row4_col7, #T_ea2b2_row4_col8, #T_ea2b2_row4_col9, #T_ea2b2_row5_col0, #T_ea2b2_row5_col1, #T_ea2b2_row5_col2, #T_ea2b2_row5_col3, #T_ea2b2_row5_col4, #T_ea2b2_row5_col5, #T_ea2b2_row5_col6, #T_ea2b2_row5_col7, #T_ea2b2_row5_col8, #T_ea2b2_row5_col9, #T_ea2b2_row6_col0, #T_ea2b2_row6_col1, #T_ea2b2_row6_col2, #T_ea2b2_row6_col3, #T_ea2b2_row6_col4, #T_ea2b2_row6_col5, #T_ea2b2_row6_col6, #T_ea2b2_row6_col7, #T_ea2b2_row6_col8, #T_ea2b2_row6_col9 {\n",
       "  text-align: left;\n",
       "}\n",
       "</style>\n",
       "<table id=\"T_ea2b2\">\n",
       "  <caption>Статистика и гистограмма столбца \"user_id\"</caption>\n",
       "  <thead>\n",
       "  </thead>\n",
       "  <tbody>\n",
       "    <tr>\n",
       "      <td id=\"T_ea2b2_row0_col0\" class=\"data row0 col0\" >Values</td>\n",
       "      <td id=\"T_ea2b2_row0_col1\" class=\"data row0 col1\" >500 (100%)</td>\n",
       "      <td id=\"T_ea2b2_row0_col2\" class=\"data row0 col2\" >                              </td>\n",
       "      <td id=\"T_ea2b2_row0_col3\" class=\"data row0 col3\" >Max</td>\n",
       "      <td id=\"T_ea2b2_row0_col4\" class=\"data row0 col4\" >1 499</td>\n",
       "      <td id=\"T_ea2b2_row0_col5\" class=\"data row0 col5\" >                              </td>\n",
       "      <td id=\"T_ea2b2_row0_col6\" class=\"data row0 col6\" >Avg</td>\n",
       "      <td id=\"T_ea2b2_row0_col7\" class=\"data row0 col7\" >1 249.5</td>\n",
       "      <td id=\"T_ea2b2_row0_col8\" class=\"data row0 col8\" >                              </td>\n",
       "      <td id=\"T_ea2b2_row0_col9\" class=\"data row0 col9\" >1 000 <1%</td>\n",
       "    </tr>\n",
       "    <tr>\n",
       "      <td id=\"T_ea2b2_row1_col0\" class=\"data row1 col0\" >Missing</td>\n",
       "      <td id=\"T_ea2b2_row1_col1\" class=\"data row1 col1\" >---</td>\n",
       "      <td id=\"T_ea2b2_row1_col2\" class=\"data row1 col2\" >                              </td>\n",
       "      <td id=\"T_ea2b2_row1_col3\" class=\"data row1 col3\" >95%</td>\n",
       "      <td id=\"T_ea2b2_row1_col4\" class=\"data row1 col4\" >1 474.05</td>\n",
       "      <td id=\"T_ea2b2_row1_col5\" class=\"data row1 col5\" >                              </td>\n",
       "      <td id=\"T_ea2b2_row1_col6\" class=\"data row1 col6\" >Mode</td>\n",
       "      <td id=\"T_ea2b2_row1_col7\" class=\"data row1 col7\" >---</td>\n",
       "      <td id=\"T_ea2b2_row1_col8\" class=\"data row1 col8\" >                              </td>\n",
       "      <td id=\"T_ea2b2_row1_col9\" class=\"data row1 col9\" >1 329 <1%</td>\n",
       "    </tr>\n",
       "    <tr>\n",
       "      <td id=\"T_ea2b2_row2_col0\" class=\"data row2 col0\" >Distinct</td>\n",
       "      <td id=\"T_ea2b2_row2_col1\" class=\"data row2 col1\" >500 (100%)</td>\n",
       "      <td id=\"T_ea2b2_row2_col2\" class=\"data row2 col2\" >                              </td>\n",
       "      <td id=\"T_ea2b2_row2_col3\" class=\"data row2 col3\" >75%</td>\n",
       "      <td id=\"T_ea2b2_row2_col4\" class=\"data row2 col4\" >1 374.25</td>\n",
       "      <td id=\"T_ea2b2_row2_col5\" class=\"data row2 col5\" >                              </td>\n",
       "      <td id=\"T_ea2b2_row2_col6\" class=\"data row2 col6\" >Range</td>\n",
       "      <td id=\"T_ea2b2_row2_col7\" class=\"data row2 col7\" >499</td>\n",
       "      <td id=\"T_ea2b2_row2_col8\" class=\"data row2 col8\" >                              </td>\n",
       "      <td id=\"T_ea2b2_row2_col9\" class=\"data row2 col9\" >1 342 <1%</td>\n",
       "    </tr>\n",
       "    <tr>\n",
       "      <td id=\"T_ea2b2_row3_col0\" class=\"data row3 col0\" >Duplicates</td>\n",
       "      <td id=\"T_ea2b2_row3_col1\" class=\"data row3 col1\" >---</td>\n",
       "      <td id=\"T_ea2b2_row3_col2\" class=\"data row3 col2\" >                              </td>\n",
       "      <td id=\"T_ea2b2_row3_col3\" class=\"data row3 col3\" >Median</td>\n",
       "      <td id=\"T_ea2b2_row3_col4\" class=\"data row3 col4\" >1 249.5</td>\n",
       "      <td id=\"T_ea2b2_row3_col5\" class=\"data row3 col5\" >                              </td>\n",
       "      <td id=\"T_ea2b2_row3_col6\" class=\"data row3 col6\" >iQR</td>\n",
       "      <td id=\"T_ea2b2_row3_col7\" class=\"data row3 col7\" >249.5</td>\n",
       "      <td id=\"T_ea2b2_row3_col8\" class=\"data row3 col8\" >                              </td>\n",
       "      <td id=\"T_ea2b2_row3_col9\" class=\"data row3 col9\" >1 341 <1%</td>\n",
       "    </tr>\n",
       "    <tr>\n",
       "      <td id=\"T_ea2b2_row4_col0\" class=\"data row4 col0\" >Zeros</td>\n",
       "      <td id=\"T_ea2b2_row4_col1\" class=\"data row4 col1\" >---</td>\n",
       "      <td id=\"T_ea2b2_row4_col2\" class=\"data row4 col2\" >                              </td>\n",
       "      <td id=\"T_ea2b2_row4_col3\" class=\"data row4 col3\" >25%</td>\n",
       "      <td id=\"T_ea2b2_row4_col4\" class=\"data row4 col4\" >1 124.75</td>\n",
       "      <td id=\"T_ea2b2_row4_col5\" class=\"data row4 col5\" >                              </td>\n",
       "      <td id=\"T_ea2b2_row4_col6\" class=\"data row4 col6\" >std</td>\n",
       "      <td id=\"T_ea2b2_row4_col7\" class=\"data row4 col7\" >144.48</td>\n",
       "      <td id=\"T_ea2b2_row4_col8\" class=\"data row4 col8\" >                              </td>\n",
       "      <td id=\"T_ea2b2_row4_col9\" class=\"data row4 col9\" >1 340 <1%</td>\n",
       "    </tr>\n",
       "    <tr>\n",
       "      <td id=\"T_ea2b2_row5_col0\" class=\"data row5 col0\" >Negative</td>\n",
       "      <td id=\"T_ea2b2_row5_col1\" class=\"data row5 col1\" >---</td>\n",
       "      <td id=\"T_ea2b2_row5_col2\" class=\"data row5 col2\" >                              </td>\n",
       "      <td id=\"T_ea2b2_row5_col3\" class=\"data row5 col3\" >5%</td>\n",
       "      <td id=\"T_ea2b2_row5_col4\" class=\"data row5 col4\" >1 024.95</td>\n",
       "      <td id=\"T_ea2b2_row5_col5\" class=\"data row5 col5\" >                              </td>\n",
       "      <td id=\"T_ea2b2_row5_col6\" class=\"data row5 col6\" >kurt</td>\n",
       "      <td id=\"T_ea2b2_row5_col7\" class=\"data row5 col7\" >-1.20</td>\n",
       "      <td id=\"T_ea2b2_row5_col8\" class=\"data row5 col8\" >                              </td>\n",
       "      <td id=\"T_ea2b2_row5_col9\" class=\"data row5 col9\" >1 339 <1%</td>\n",
       "    </tr>\n",
       "    <tr>\n",
       "      <td id=\"T_ea2b2_row6_col0\" class=\"data row6 col0\" >RAM (Mb)</td>\n",
       "      <td id=\"T_ea2b2_row6_col1\" class=\"data row6 col1\" ><1 Mb</td>\n",
       "      <td id=\"T_ea2b2_row6_col2\" class=\"data row6 col2\" >                              </td>\n",
       "      <td id=\"T_ea2b2_row6_col3\" class=\"data row6 col3\" >Min</td>\n",
       "      <td id=\"T_ea2b2_row6_col4\" class=\"data row6 col4\" >1 000</td>\n",
       "      <td id=\"T_ea2b2_row6_col5\" class=\"data row6 col5\" >                              </td>\n",
       "      <td id=\"T_ea2b2_row6_col6\" class=\"data row6 col6\" >skew</td>\n",
       "      <td id=\"T_ea2b2_row6_col7\" class=\"data row6 col7\" >0.00</td>\n",
       "      <td id=\"T_ea2b2_row6_col8\" class=\"data row6 col8\" >                              </td>\n",
       "      <td id=\"T_ea2b2_row6_col9\" class=\"data row6 col9\" >1 338 <1%</td>\n",
       "    </tr>\n",
       "  </tbody>\n",
       "</table>\n",
       "\n",
       "            <div>\n",
       "                <img src=\"data:image/png;base64,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\" alt=\"График\"/>\n",
       "            </div>\n",
       "        \n",
       "            <div>\n",
       "                <img src=\"data:image/png;base64,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\" alt=\"График\"/>\n",
       "            </div>            \n",
       "        </div>\n",
       "        "
      ],
      "text/plain": [
       "<IPython.core.display.HTML object>"
      ]
     },
     "metadata": {},
     "output_type": "display_data"
    }
   ],
   "source": [
    "next(gen)"
   ]
  },
  {
   "cell_type": "markdown",
   "metadata": {},
   "source": [
    "**Наблюдения:**  \n",
    "\n",
    "- В таблице users 500 уникльных пользователей.\n"
   ]
  },
  {
   "cell_type": "code",
   "execution_count": null,
   "metadata": {},
   "outputs": [
    {
     "data": {
      "text/html": [
       "\n",
       "        <div style=\"display: flex; justify-content: flex-start; align-items: flex-end;\">\n",
       "            <style type=\"text/css\">\n",
       "#T_ea2b2 caption {\n",
       "  font-size: 16px;\n",
       "  text-align: left;\n",
       "  font-weight: bold;\n",
       "}\n",
       "#T_ea2b2_row0_col0, #T_ea2b2_row0_col1, #T_ea2b2_row0_col2, #T_ea2b2_row0_col3, #T_ea2b2_row0_col4, #T_ea2b2_row0_col5, #T_ea2b2_row0_col6, #T_ea2b2_row0_col7, #T_ea2b2_row0_col8, #T_ea2b2_row0_col9, #T_ea2b2_row1_col0, #T_ea2b2_row1_col1, #T_ea2b2_row1_col2, #T_ea2b2_row1_col3, #T_ea2b2_row1_col4, #T_ea2b2_row1_col5, #T_ea2b2_row1_col6, #T_ea2b2_row1_col7, #T_ea2b2_row1_col8, #T_ea2b2_row1_col9, #T_ea2b2_row2_col0, #T_ea2b2_row2_col1, #T_ea2b2_row2_col2, #T_ea2b2_row2_col3, #T_ea2b2_row2_col4, #T_ea2b2_row2_col5, #T_ea2b2_row2_col6, #T_ea2b2_row2_col7, #T_ea2b2_row2_col8, #T_ea2b2_row2_col9, #T_ea2b2_row3_col0, #T_ea2b2_row3_col1, #T_ea2b2_row3_col2, #T_ea2b2_row3_col3, #T_ea2b2_row3_col4, #T_ea2b2_row3_col5, #T_ea2b2_row3_col6, #T_ea2b2_row3_col7, #T_ea2b2_row3_col8, #T_ea2b2_row3_col9, #T_ea2b2_row4_col0, #T_ea2b2_row4_col1, #T_ea2b2_row4_col2, #T_ea2b2_row4_col3, #T_ea2b2_row4_col4, #T_ea2b2_row4_col5, #T_ea2b2_row4_col6, #T_ea2b2_row4_col7, #T_ea2b2_row4_col8, #T_ea2b2_row4_col9, #T_ea2b2_row5_col0, #T_ea2b2_row5_col1, #T_ea2b2_row5_col2, #T_ea2b2_row5_col3, #T_ea2b2_row5_col4, #T_ea2b2_row5_col5, #T_ea2b2_row5_col6, #T_ea2b2_row5_col7, #T_ea2b2_row5_col8, #T_ea2b2_row5_col9, #T_ea2b2_row6_col0, #T_ea2b2_row6_col1, #T_ea2b2_row6_col2, #T_ea2b2_row6_col3, #T_ea2b2_row6_col4, #T_ea2b2_row6_col5, #T_ea2b2_row6_col6, #T_ea2b2_row6_col7, #T_ea2b2_row6_col8, #T_ea2b2_row6_col9 {\n",
       "  text-align: left;\n",
       "}\n",
       "</style>\n",
       "<table id=\"T_ea2b2\">\n",
       "  <caption>Статистика и гистограмма столбца \"user_id\"</caption>\n",
       "  <thead>\n",
       "  </thead>\n",
       "  <tbody>\n",
       "    <tr>\n",
       "      <td id=\"T_ea2b2_row0_col0\" class=\"data row0 col0\" >Values</td>\n",
       "      <td id=\"T_ea2b2_row0_col1\" class=\"data row0 col1\" >500 (100%)</td>\n",
       "      <td id=\"T_ea2b2_row0_col2\" class=\"data row0 col2\" >                              </td>\n",
       "      <td id=\"T_ea2b2_row0_col3\" class=\"data row0 col3\" >Max</td>\n",
       "      <td id=\"T_ea2b2_row0_col4\" class=\"data row0 col4\" >1 499</td>\n",
       "      <td id=\"T_ea2b2_row0_col5\" class=\"data row0 col5\" >                              </td>\n",
       "      <td id=\"T_ea2b2_row0_col6\" class=\"data row0 col6\" >Avg</td>\n",
       "      <td id=\"T_ea2b2_row0_col7\" class=\"data row0 col7\" >1 249.5</td>\n",
       "      <td id=\"T_ea2b2_row0_col8\" class=\"data row0 col8\" >                              </td>\n",
       "      <td id=\"T_ea2b2_row0_col9\" class=\"data row0 col9\" >1 000 <1%</td>\n",
       "    </tr>\n",
       "    <tr>\n",
       "      <td id=\"T_ea2b2_row1_col0\" class=\"data row1 col0\" >Missing</td>\n",
       "      <td id=\"T_ea2b2_row1_col1\" class=\"data row1 col1\" >---</td>\n",
       "      <td id=\"T_ea2b2_row1_col2\" class=\"data row1 col2\" >                              </td>\n",
       "      <td id=\"T_ea2b2_row1_col3\" class=\"data row1 col3\" >95%</td>\n",
       "      <td id=\"T_ea2b2_row1_col4\" class=\"data row1 col4\" >1 474.05</td>\n",
       "      <td id=\"T_ea2b2_row1_col5\" class=\"data row1 col5\" >                              </td>\n",
       "      <td id=\"T_ea2b2_row1_col6\" class=\"data row1 col6\" >Mode</td>\n",
       "      <td id=\"T_ea2b2_row1_col7\" class=\"data row1 col7\" >---</td>\n",
       "      <td id=\"T_ea2b2_row1_col8\" class=\"data row1 col8\" >                              </td>\n",
       "      <td id=\"T_ea2b2_row1_col9\" class=\"data row1 col9\" >1 329 <1%</td>\n",
       "    </tr>\n",
       "    <tr>\n",
       "      <td id=\"T_ea2b2_row2_col0\" class=\"data row2 col0\" >Distinct</td>\n",
       "      <td id=\"T_ea2b2_row2_col1\" class=\"data row2 col1\" >500 (100%)</td>\n",
       "      <td id=\"T_ea2b2_row2_col2\" class=\"data row2 col2\" >                              </td>\n",
       "      <td id=\"T_ea2b2_row2_col3\" class=\"data row2 col3\" >75%</td>\n",
       "      <td id=\"T_ea2b2_row2_col4\" class=\"data row2 col4\" >1 374.25</td>\n",
       "      <td id=\"T_ea2b2_row2_col5\" class=\"data row2 col5\" >                              </td>\n",
       "      <td id=\"T_ea2b2_row2_col6\" class=\"data row2 col6\" >Range</td>\n",
       "      <td id=\"T_ea2b2_row2_col7\" class=\"data row2 col7\" >499</td>\n",
       "      <td id=\"T_ea2b2_row2_col8\" class=\"data row2 col8\" >                              </td>\n",
       "      <td id=\"T_ea2b2_row2_col9\" class=\"data row2 col9\" >1 342 <1%</td>\n",
       "    </tr>\n",
       "    <tr>\n",
       "      <td id=\"T_ea2b2_row3_col0\" class=\"data row3 col0\" >Duplicates</td>\n",
       "      <td id=\"T_ea2b2_row3_col1\" class=\"data row3 col1\" >---</td>\n",
       "      <td id=\"T_ea2b2_row3_col2\" class=\"data row3 col2\" >                              </td>\n",
       "      <td id=\"T_ea2b2_row3_col3\" class=\"data row3 col3\" >Median</td>\n",
       "      <td id=\"T_ea2b2_row3_col4\" class=\"data row3 col4\" >1 249.5</td>\n",
       "      <td id=\"T_ea2b2_row3_col5\" class=\"data row3 col5\" >                              </td>\n",
       "      <td id=\"T_ea2b2_row3_col6\" class=\"data row3 col6\" >iQR</td>\n",
       "      <td id=\"T_ea2b2_row3_col7\" class=\"data row3 col7\" >249.5</td>\n",
       "      <td id=\"T_ea2b2_row3_col8\" class=\"data row3 col8\" >                              </td>\n",
       "      <td id=\"T_ea2b2_row3_col9\" class=\"data row3 col9\" >1 341 <1%</td>\n",
       "    </tr>\n",
       "    <tr>\n",
       "      <td id=\"T_ea2b2_row4_col0\" class=\"data row4 col0\" >Zeros</td>\n",
       "      <td id=\"T_ea2b2_row4_col1\" class=\"data row4 col1\" >---</td>\n",
       "      <td id=\"T_ea2b2_row4_col2\" class=\"data row4 col2\" >                              </td>\n",
       "      <td id=\"T_ea2b2_row4_col3\" class=\"data row4 col3\" >25%</td>\n",
       "      <td id=\"T_ea2b2_row4_col4\" class=\"data row4 col4\" >1 124.75</td>\n",
       "      <td id=\"T_ea2b2_row4_col5\" class=\"data row4 col5\" >                              </td>\n",
       "      <td id=\"T_ea2b2_row4_col6\" class=\"data row4 col6\" >std</td>\n",
       "      <td id=\"T_ea2b2_row4_col7\" class=\"data row4 col7\" >144.48</td>\n",
       "      <td id=\"T_ea2b2_row4_col8\" class=\"data row4 col8\" >                              </td>\n",
       "      <td id=\"T_ea2b2_row4_col9\" class=\"data row4 col9\" >1 340 <1%</td>\n",
       "    </tr>\n",
       "    <tr>\n",
       "      <td id=\"T_ea2b2_row5_col0\" class=\"data row5 col0\" >Negative</td>\n",
       "      <td id=\"T_ea2b2_row5_col1\" class=\"data row5 col1\" >---</td>\n",
       "      <td id=\"T_ea2b2_row5_col2\" class=\"data row5 col2\" >                              </td>\n",
       "      <td id=\"T_ea2b2_row5_col3\" class=\"data row5 col3\" >5%</td>\n",
       "      <td id=\"T_ea2b2_row5_col4\" class=\"data row5 col4\" >1 024.95</td>\n",
       "      <td id=\"T_ea2b2_row5_col5\" class=\"data row5 col5\" >                              </td>\n",
       "      <td id=\"T_ea2b2_row5_col6\" class=\"data row5 col6\" >kurt</td>\n",
       "      <td id=\"T_ea2b2_row5_col7\" class=\"data row5 col7\" >-1.20</td>\n",
       "      <td id=\"T_ea2b2_row5_col8\" class=\"data row5 col8\" >                              </td>\n",
       "      <td id=\"T_ea2b2_row5_col9\" class=\"data row5 col9\" >1 339 <1%</td>\n",
       "    </tr>\n",
       "    <tr>\n",
       "      <td id=\"T_ea2b2_row6_col0\" class=\"data row6 col0\" >RAM (Mb)</td>\n",
       "      <td id=\"T_ea2b2_row6_col1\" class=\"data row6 col1\" ><1 Mb</td>\n",
       "      <td id=\"T_ea2b2_row6_col2\" class=\"data row6 col2\" >                              </td>\n",
       "      <td id=\"T_ea2b2_row6_col3\" class=\"data row6 col3\" >Min</td>\n",
       "      <td id=\"T_ea2b2_row6_col4\" class=\"data row6 col4\" >1 000</td>\n",
       "      <td id=\"T_ea2b2_row6_col5\" class=\"data row6 col5\" >                              </td>\n",
       "      <td id=\"T_ea2b2_row6_col6\" class=\"data row6 col6\" >skew</td>\n",
       "      <td id=\"T_ea2b2_row6_col7\" class=\"data row6 col7\" >0.00</td>\n",
       "      <td id=\"T_ea2b2_row6_col8\" class=\"data row6 col8\" >                              </td>\n",
       "      <td id=\"T_ea2b2_row6_col9\" class=\"data row6 col9\" >1 338 <1%</td>\n",
       "    </tr>\n",
       "  </tbody>\n",
       "</table>\n",
       "\n",
       "            <div>\n",
       "                <img src=\"data:image/png;base64,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\" alt=\"График\"/>\n",
       "            </div>\n",
       "        \n",
       "            <div>\n",
       "                <img src=\"data:image/png;base64,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\" alt=\"График\"/>\n",
       "            </div>            \n",
       "        </div>\n",
       "        "
      ],
      "text/plain": [
       "<IPython.core.display.HTML object>"
      ]
     },
     "metadata": {},
     "output_type": "display_data"
    }
   ],
   "source": [
    "next(gen)"
   ]
  },
  {
   "cell_type": "markdown",
   "metadata": {},
   "source": [
    "**Наблюдения:**  \n",
    "\n",
    "- В таблице users 500 уникльных пользователей.\n"
   ]
  },
  {
   "cell_type": "code",
   "execution_count": null,
   "metadata": {},
   "outputs": [
    {
     "data": {
      "text/html": [
       "\n",
       "        <div style=\"display: flex; justify-content: flex-start; align-items: flex-end;\">\n",
       "            <style type=\"text/css\">\n",
       "#T_ea2b2 caption {\n",
       "  font-size: 16px;\n",
       "  text-align: left;\n",
       "  font-weight: bold;\n",
       "}\n",
       "#T_ea2b2_row0_col0, #T_ea2b2_row0_col1, #T_ea2b2_row0_col2, #T_ea2b2_row0_col3, #T_ea2b2_row0_col4, #T_ea2b2_row0_col5, #T_ea2b2_row0_col6, #T_ea2b2_row0_col7, #T_ea2b2_row0_col8, #T_ea2b2_row0_col9, #T_ea2b2_row1_col0, #T_ea2b2_row1_col1, #T_ea2b2_row1_col2, #T_ea2b2_row1_col3, #T_ea2b2_row1_col4, #T_ea2b2_row1_col5, #T_ea2b2_row1_col6, #T_ea2b2_row1_col7, #T_ea2b2_row1_col8, #T_ea2b2_row1_col9, #T_ea2b2_row2_col0, #T_ea2b2_row2_col1, #T_ea2b2_row2_col2, #T_ea2b2_row2_col3, #T_ea2b2_row2_col4, #T_ea2b2_row2_col5, #T_ea2b2_row2_col6, #T_ea2b2_row2_col7, #T_ea2b2_row2_col8, #T_ea2b2_row2_col9, #T_ea2b2_row3_col0, #T_ea2b2_row3_col1, #T_ea2b2_row3_col2, #T_ea2b2_row3_col3, #T_ea2b2_row3_col4, #T_ea2b2_row3_col5, #T_ea2b2_row3_col6, #T_ea2b2_row3_col7, #T_ea2b2_row3_col8, #T_ea2b2_row3_col9, #T_ea2b2_row4_col0, #T_ea2b2_row4_col1, #T_ea2b2_row4_col2, #T_ea2b2_row4_col3, #T_ea2b2_row4_col4, #T_ea2b2_row4_col5, #T_ea2b2_row4_col6, #T_ea2b2_row4_col7, #T_ea2b2_row4_col8, #T_ea2b2_row4_col9, #T_ea2b2_row5_col0, #T_ea2b2_row5_col1, #T_ea2b2_row5_col2, #T_ea2b2_row5_col3, #T_ea2b2_row5_col4, #T_ea2b2_row5_col5, #T_ea2b2_row5_col6, #T_ea2b2_row5_col7, #T_ea2b2_row5_col8, #T_ea2b2_row5_col9, #T_ea2b2_row6_col0, #T_ea2b2_row6_col1, #T_ea2b2_row6_col2, #T_ea2b2_row6_col3, #T_ea2b2_row6_col4, #T_ea2b2_row6_col5, #T_ea2b2_row6_col6, #T_ea2b2_row6_col7, #T_ea2b2_row6_col8, #T_ea2b2_row6_col9 {\n",
       "  text-align: left;\n",
       "}\n",
       "</style>\n",
       "<table id=\"T_ea2b2\">\n",
       "  <caption>Статистика и гистограмма столбца \"user_id\"</caption>\n",
       "  <thead>\n",
       "  </thead>\n",
       "  <tbody>\n",
       "    <tr>\n",
       "      <td id=\"T_ea2b2_row0_col0\" class=\"data row0 col0\" >Values</td>\n",
       "      <td id=\"T_ea2b2_row0_col1\" class=\"data row0 col1\" >500 (100%)</td>\n",
       "      <td id=\"T_ea2b2_row0_col2\" class=\"data row0 col2\" >                              </td>\n",
       "      <td id=\"T_ea2b2_row0_col3\" class=\"data row0 col3\" >Max</td>\n",
       "      <td id=\"T_ea2b2_row0_col4\" class=\"data row0 col4\" >1 499</td>\n",
       "      <td id=\"T_ea2b2_row0_col5\" class=\"data row0 col5\" >                              </td>\n",
       "      <td id=\"T_ea2b2_row0_col6\" class=\"data row0 col6\" >Avg</td>\n",
       "      <td id=\"T_ea2b2_row0_col7\" class=\"data row0 col7\" >1 249.5</td>\n",
       "      <td id=\"T_ea2b2_row0_col8\" class=\"data row0 col8\" >                              </td>\n",
       "      <td id=\"T_ea2b2_row0_col9\" class=\"data row0 col9\" >1 000 <1%</td>\n",
       "    </tr>\n",
       "    <tr>\n",
       "      <td id=\"T_ea2b2_row1_col0\" class=\"data row1 col0\" >Missing</td>\n",
       "      <td id=\"T_ea2b2_row1_col1\" class=\"data row1 col1\" >---</td>\n",
       "      <td id=\"T_ea2b2_row1_col2\" class=\"data row1 col2\" >                              </td>\n",
       "      <td id=\"T_ea2b2_row1_col3\" class=\"data row1 col3\" >95%</td>\n",
       "      <td id=\"T_ea2b2_row1_col4\" class=\"data row1 col4\" >1 474.05</td>\n",
       "      <td id=\"T_ea2b2_row1_col5\" class=\"data row1 col5\" >                              </td>\n",
       "      <td id=\"T_ea2b2_row1_col6\" class=\"data row1 col6\" >Mode</td>\n",
       "      <td id=\"T_ea2b2_row1_col7\" class=\"data row1 col7\" >---</td>\n",
       "      <td id=\"T_ea2b2_row1_col8\" class=\"data row1 col8\" >                              </td>\n",
       "      <td id=\"T_ea2b2_row1_col9\" class=\"data row1 col9\" >1 329 <1%</td>\n",
       "    </tr>\n",
       "    <tr>\n",
       "      <td id=\"T_ea2b2_row2_col0\" class=\"data row2 col0\" >Distinct</td>\n",
       "      <td id=\"T_ea2b2_row2_col1\" class=\"data row2 col1\" >500 (100%)</td>\n",
       "      <td id=\"T_ea2b2_row2_col2\" class=\"data row2 col2\" >                              </td>\n",
       "      <td id=\"T_ea2b2_row2_col3\" class=\"data row2 col3\" >75%</td>\n",
       "      <td id=\"T_ea2b2_row2_col4\" class=\"data row2 col4\" >1 374.25</td>\n",
       "      <td id=\"T_ea2b2_row2_col5\" class=\"data row2 col5\" >                              </td>\n",
       "      <td id=\"T_ea2b2_row2_col6\" class=\"data row2 col6\" >Range</td>\n",
       "      <td id=\"T_ea2b2_row2_col7\" class=\"data row2 col7\" >499</td>\n",
       "      <td id=\"T_ea2b2_row2_col8\" class=\"data row2 col8\" >                              </td>\n",
       "      <td id=\"T_ea2b2_row2_col9\" class=\"data row2 col9\" >1 342 <1%</td>\n",
       "    </tr>\n",
       "    <tr>\n",
       "      <td id=\"T_ea2b2_row3_col0\" class=\"data row3 col0\" >Duplicates</td>\n",
       "      <td id=\"T_ea2b2_row3_col1\" class=\"data row3 col1\" >---</td>\n",
       "      <td id=\"T_ea2b2_row3_col2\" class=\"data row3 col2\" >                              </td>\n",
       "      <td id=\"T_ea2b2_row3_col3\" class=\"data row3 col3\" >Median</td>\n",
       "      <td id=\"T_ea2b2_row3_col4\" class=\"data row3 col4\" >1 249.5</td>\n",
       "      <td id=\"T_ea2b2_row3_col5\" class=\"data row3 col5\" >                              </td>\n",
       "      <td id=\"T_ea2b2_row3_col6\" class=\"data row3 col6\" >iQR</td>\n",
       "      <td id=\"T_ea2b2_row3_col7\" class=\"data row3 col7\" >249.5</td>\n",
       "      <td id=\"T_ea2b2_row3_col8\" class=\"data row3 col8\" >                              </td>\n",
       "      <td id=\"T_ea2b2_row3_col9\" class=\"data row3 col9\" >1 341 <1%</td>\n",
       "    </tr>\n",
       "    <tr>\n",
       "      <td id=\"T_ea2b2_row4_col0\" class=\"data row4 col0\" >Zeros</td>\n",
       "      <td id=\"T_ea2b2_row4_col1\" class=\"data row4 col1\" >---</td>\n",
       "      <td id=\"T_ea2b2_row4_col2\" class=\"data row4 col2\" >                              </td>\n",
       "      <td id=\"T_ea2b2_row4_col3\" class=\"data row4 col3\" >25%</td>\n",
       "      <td id=\"T_ea2b2_row4_col4\" class=\"data row4 col4\" >1 124.75</td>\n",
       "      <td id=\"T_ea2b2_row4_col5\" class=\"data row4 col5\" >                              </td>\n",
       "      <td id=\"T_ea2b2_row4_col6\" class=\"data row4 col6\" >std</td>\n",
       "      <td id=\"T_ea2b2_row4_col7\" class=\"data row4 col7\" >144.48</td>\n",
       "      <td id=\"T_ea2b2_row4_col8\" class=\"data row4 col8\" >                              </td>\n",
       "      <td id=\"T_ea2b2_row4_col9\" class=\"data row4 col9\" >1 340 <1%</td>\n",
       "    </tr>\n",
       "    <tr>\n",
       "      <td id=\"T_ea2b2_row5_col0\" class=\"data row5 col0\" >Negative</td>\n",
       "      <td id=\"T_ea2b2_row5_col1\" class=\"data row5 col1\" >---</td>\n",
       "      <td id=\"T_ea2b2_row5_col2\" class=\"data row5 col2\" >                              </td>\n",
       "      <td id=\"T_ea2b2_row5_col3\" class=\"data row5 col3\" >5%</td>\n",
       "      <td id=\"T_ea2b2_row5_col4\" class=\"data row5 col4\" >1 024.95</td>\n",
       "      <td id=\"T_ea2b2_row5_col5\" class=\"data row5 col5\" >                              </td>\n",
       "      <td id=\"T_ea2b2_row5_col6\" class=\"data row5 col6\" >kurt</td>\n",
       "      <td id=\"T_ea2b2_row5_col7\" class=\"data row5 col7\" >-1.20</td>\n",
       "      <td id=\"T_ea2b2_row5_col8\" class=\"data row5 col8\" >                              </td>\n",
       "      <td id=\"T_ea2b2_row5_col9\" class=\"data row5 col9\" >1 339 <1%</td>\n",
       "    </tr>\n",
       "    <tr>\n",
       "      <td id=\"T_ea2b2_row6_col0\" class=\"data row6 col0\" >RAM (Mb)</td>\n",
       "      <td id=\"T_ea2b2_row6_col1\" class=\"data row6 col1\" ><1 Mb</td>\n",
       "      <td id=\"T_ea2b2_row6_col2\" class=\"data row6 col2\" >                              </td>\n",
       "      <td id=\"T_ea2b2_row6_col3\" class=\"data row6 col3\" >Min</td>\n",
       "      <td id=\"T_ea2b2_row6_col4\" class=\"data row6 col4\" >1 000</td>\n",
       "      <td id=\"T_ea2b2_row6_col5\" class=\"data row6 col5\" >                              </td>\n",
       "      <td id=\"T_ea2b2_row6_col6\" class=\"data row6 col6\" >skew</td>\n",
       "      <td id=\"T_ea2b2_row6_col7\" class=\"data row6 col7\" >0.00</td>\n",
       "      <td id=\"T_ea2b2_row6_col8\" class=\"data row6 col8\" >                              </td>\n",
       "      <td id=\"T_ea2b2_row6_col9\" class=\"data row6 col9\" >1 338 <1%</td>\n",
       "    </tr>\n",
       "  </tbody>\n",
       "</table>\n",
       "\n",
       "            <div>\n",
       "                <img src=\"data:image/png;base64,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\" alt=\"График\"/>\n",
       "            </div>\n",
       "        \n",
       "            <div>\n",
       "                <img src=\"data:image/png;base64,iVBORw0KGgoAAAANSUhEUgAAASwAAADcCAYAAADKmJzYAAAWoUlEQVR4Xu3deYwUdZ/H8e9Mz8WD4AHesj4Lz6osXquGRY2oCbIrGmMW0Yw3oGAkXiBRE0gwRAUJHhEQvBU2RhAIj6IJhwhGFAH/EFFZF6KL2R0QvJBrzs2vYEZEmPl8f9Kd7q53J8araqrq9at6d1V1T1HS1NTUZAX6GjNmjIW/eCGAQDoESghWOgaarUSgGAQIVjGMItuAQEoECFZKBprNRKAYBAhWMYwi24BASgQIVkoGms1EoBgECFYxjCLbgEBKBAhWSgaazUSgGARyHqyNGzfa1KlTrVu3bjZo0KAWw0WLFtmSJUusU6dOtnXrVhs1apS1a9euVeNcfQ9r6/9ss90767M33qVmFRUZq93VkL1lmFlluzKr3VVv2fzmXUVlxuobGq2xPntf76tsX2YNdU1WX5s9r7LKUitpKrG6LC7Dimnc25VZ53/okNX9N/zwnAZr06ZN9vnnn9t7771nXbt2tcGDBycbuG3bNquurrbZs2dbZWWlTZs2zUpKSmzIkCF5EaxPZn9tH0z/KmuD0eHoKrt04On298dXZW0Z4Qf3H9PL3hq/ymqzGN8r7j/HVsz62rZ8uy1r23JB9alW8/VPtmHVpqwt45QLjrfOJ3e05a+vy9oyimncL7q5u/X8j79lzar5B+c0WM0LHTt2rJ1wwgktwVqwYIHNmzfPJk+enEyyevVqGzdunM2aNYtgHcJdgGDpmARLtwpTpipY06dPt7Vr1yaRCq/169fbwIEDbdmyZS1qkyZN+oPgli1bcvKrOZxh6TsvZ1i6FWdYulVenWHNmDHD1qxZY+PHj28JVri/tXTp0pYtCnHa/xUilovfJSRY+o5FsHQrgqVb5VWwFi5cmNy/Cjfjw2vlypU2YcIEmzlzJpeE/jE96BxcEuqYXBLqVqm7JNy+fbsNGDDA5syZY1VVVTZlyhTLZDI2dOhQguXbb1qdmmDpmARLtyraYNXU1NiKFSts7ty5dvjhh1ufPn2sd+/eyT8vXrw4+atLly7J1xpGjhyZfGLY2itXX2tQLwmbGpuspLTEdv1aa+VVZVaaKUk+7Wzr5bk0aF5G+HpC+MlhOeEJQcpyPMEKy2lsbLK6XQ1WdVi5vAzPJWHztuz4ebf95fBKeRmeTwljl+EJFuNe5Dfd2zqA1f+fb8Hatb0uiUh4lZaVJgd7+M5Qpqy01U3yBKtud7011DZapjyT/Mz6ugYrq8hYeeWef2/tpQarob7Jdu+otYrKMgv/HDaqqanRqtpXtLUIU4MVIrtzW22y7k0NTVaSKbWG3Q1W1bG8zfiqwfozy/AEi3EnWG0eGGGCfAtWY0Oj1e1uSIISzrTKK0stU5Fp8wD0BCu8m+9ZRoOFr2aWV2QsU5mx0tK2z+TUYIVl1Nc1Wv3uhuQsq6w8Y2WVGcuUtb0MPVhmjfWNVrer3hobLfGqqMpYaVnbZ6V6sOKX4QkW406wCjJY4QuZ4YAL38IOsarf3WjhG9OlmUN3hhW+3R0iEvrUlJz67DnYyypaX0YAVYOVHIC7Gqy8KpP8PZwFNdQ3WkW7sjbHRQ9Wk9XuaEhC2LysEMiKv7QdeD1Y8cvwBItxJ1htHhj5eIbVvNLhAAyXhMoZSZjHc4bVvIxwKRhiFWKivtRgNf+8EK76Wi1UzfOowdp3ncMlVVX7cnUzTA3Wn1mGJ1iMO8GSdt58uySUVvoAE8UEK2ZZ3mDFLCMmWN7lxATLu4yYYHmXUUzjXtTfdPcO7MGmJ1g+SYKlexEs3SpMSbAEL4IlIO0zCcHSvQiWbkWwRCuCJULtnYxg6V4ES7ciWKJVCNawgcOtoa5RnMM/WUW7jP3X8hr78D95vIyixz0sRWnPNMV0D+vf7znbjv7r4RY+qMnWK1MenlFW4H+Q6lll/XgukriHcIYlQpkZZ1i6VZgyF29UXc87lmC1NSzsuG0J/f7/52LH5VNC35gUyxsVwRLGnWAJSPtMQrB0r2K6JMzFuBMsYd8iWAISwfIh7Z2aYPnYCJbgRbAEJILlQyJYUV4ES2AjWAISwfIhEawoL4IlsBEsAYlg+ZAIVpRXqoKViwe5RY1CkX0fJxc3X/mU0Len5dunhLHHYmqClasHufl2o9+m5uarT45g+bzyKVh/5lhMUbBy8yA3325EsGK9CJZPLr+CFX8spihYuXmQm283IlixXgTLJ5dfwYo/FlMTrH2H1/uwOG66+w4O7mHpXmm/FeA9FlMZLH132jMlwfKJESzdK+3B0qX2TEmwBDGCJSDtMwnB0r0Ilm5FsEQrgiVC7Z2MYOleBEu3IliiFcESoQiWD4rv37m9uCQUyAiWgMQloQ9p79ScYfnYCJbgRbAEJILlQyJYUV4ES2AjWAISwfIhEawoL4IlsBEsAYlg+ZAIVpQXwRLYCJaARLB8SAQryotgCWwES0AiWD4kghXlRbAENoIlIBEsHxLBivIiWAIbwRKQCJYPiWBFeREsgY1gCUgEy4dEsKK8CJbARrAEJILlQyJYUV4ES2AjWAISwfIhEawoL4IlsBEsAYlg+ZAIVpQXwRLYCJaARLB8SAQryotgCWwES0AiWD4kghXlRbAENoIlIBEsHxLBivIiWAIbwRKQCJYPiWBFeREsgY1gCUgEy4dEsKK8CJbARrAEJILlQyJYUV4ES2AjWAISwfIhEawoL4IlsBEsAYlg+ZAIVpQXwRLYCJaARLB8SAQryotgCWwES0AiWD4kghXlRbAENoIlIBEsHxLBivIiWAIbwRKQCJYPiWBFeREsgY1gCUgEy4dEsKK8CJbARrAEJILlQyJYUV4ES2AjWAISwfIhEawoL4IlsBEsAYlg+ZAIVpQXwRLYCJaARLB8SAQryotgCWwES0AiWD4kghXlRbAENoIlIBEsHxLBivIiWAIbwRKQCJYPiWBFeREsgY1gCUgEy4dEsKK8CJbARrAEJILlQyJYUV4ES2AjWAISwfIhEawoL4IlsBEsAYlg+ZAIVpQXwRLYCJaARLB8SAQryotgCWwES0AiWD4kghXlRbAENoIlIBEsHxLBivIiWAIbwRKQCJYPiWBFeREsgY1gCUgEy4dEsKK8CJbARrAEJILlQyJYUV4ES2AjWAISwfIhEawoL4IlsBEsAYlg+ZAIVpQXwRLYCJaARLB8SAQryotgCWwES0AiWD4kghXllVfBuvTSS62+vr5lQ0aPHm19+/ZtdcPGjBljZ5X1sw2rNkUBKDMRLEXpt2muuP8cWzHra9vy7TbfjI6pL6g+1Wq+/olxF836j+llb41fZbU7fzu+xFnlyXIx7nkVrIkTJ9qIESNkoDAhwXJxWbHsuAQrneNeUMHavHnzH0ZpypQpnGE59l2CpWNxZq1bhSlTd4Y1fPhw69Gjh+3YscPKysqsurrajjjiiBa1EKf9XyFiXBLqOxbB0q0Ilm6VymDty/PKK6/YypUrbfLkydzD8u03rU5NsHRMgqVbpT5YX331lQ0ZMsSWLVtGsHz7DcE6RF4EyweZqkvCtWvX2vbt261nz56J0vz5823u3Ln2wgsvECzffkOwDpEXwfJBpipYGzdutMcff9xOOeUUa2xstJqaGhs2bJiddNJJBMu33xCsQ+RFsHyQqQqWj+a3qflag0+Oe1i6F8HSrVJ/D0ulIliq1J7pCJbuRbB0K4IlWhEsEWrvZARL9yJYuhXBEq0IlghFsHxQZkawfGTcwxK8CJaAtM8knGHpXgRLt+IMS7QiWCIUZ1g+KM6w3F6cYQlkBEtA4gzLh7R3as6wfGwES/AiWAISwfIhEawoL4IlsBEsAYlg+ZAIVpQXwRLYCJaARLB8SAQryotgCWwES0AiWD4kghXlRbAENoIlIBEsHxLBivIiWAIbwRKQCJYPiWBFeREsgY1gCUgEy4dEsKK8CJbARrAEJILlQyJYUV4ES2AjWAISwfIhEawoL4IlsBEsAYlg+ZAIVpQXwRLYCJaARLB8SAQryotgCWwES0AiWD4kghXlRbAENoIlIBEsHxLBivIiWAIbwRKQCJYPiWBFeREsgY1gCUgEy4dEsKK8CJbARrAEJILlQyJYUV4ES2AjWAISwfIhEawoL4IlsBEsAYlg+ZAIVpQXwRLYCJaARLB8SAQryotgCWwES0AiWD4kghXlRbAENoIlIBEsHxLBivIiWAIbwRKQCJYPiWBFeREsgY1gCUgEy4dEsKK8CJbARrAEJILlQyJYUV4ES2AjWAISwfIhEawoL4IlsBEsAYlg+ZAIVpQXwRLYCJaARLB8SAQryotgCWwES0AiWD4kghXlRbAENoIlIBEsHxLBivIiWAIbwRKQCJYPiWBFeREsgY1gCUgEy4dEsKK8CJbARrAEJILlQyJYUV4ES2AjWAISwfIhEawoL4IlsBEsAYlg+ZAIVpQXwRLYCJaARLB8SAQryotgCWwES0AiWD4kghXlRbAENoIlIBEsHxLBivIiWAIbwRKQCJYPiWBFeREsgY1gCUgEy4dEsKK8CJbARrAEJILlQyJYUV4ES2AjWAISwfIhEawoL4IlsBEsAYlg+ZAIVpQXwRLYCJaARLB8SAQryotgCWwES0AiWD4kghXlRbAENoIlIBEsHxLBivIiWAIbwRKQCJYPiWBFeREsgY1gCUgEy4dEsKK8CJbARrAEJILlQyJYUV4ES2AjWAISwfIhEawoL4IlsBEsAYlg+ZAIVpQXwRLYCJaARLB8SAQryotgCWwES0AiWD4kghXlRbAENoIlIBEsHxLBivIiWAIbwRKQCJYPiWBFeREsgY1gCUgEy4dEsKK8CJbARrAEJILlQyJYUV4ES2AjWAISwfIhEawoL4IlsBEsAYlg+ZAIVpQXwRLYCJaARLB8SAQryotgCWwES0AiWD4kghXlRbAENoIlIBEsHxLBivIiWAIbwRKQCJYPiWBFeREsgY1gCUgEy4dEsKK8CJbARrAEJILlQyJYUV6pC9aiRYtsyZIl1qlTJ9u6dauNGjXK2rVr1yoewfLtW/3H9LK3xq+y2p31vhkdU+dix72g+lSr+fon27Bqk2PNfJOecsHx1vnkjrb89XW+GR1Tdzi6yi4deLr9/fFVjrn8kxbLuHc971graWpqavITHNo5tm3bZtXV1TZ79myrrKy0adOmWUlJiQ0ZMoRgHULqYtlxCZZvpyiWcc+bYC1YsMDmzZtnkydPTkZi9erVNm7cOJs1a1bLyLz//vt/GKXw3/6t+/VW898/+UbQMfWJpx1lhx1VaeuW/59jLt+k7TpW2D/3PslWv73BN6Nz6n/t/0/26VsbrK62wTmnPvm/9PtH27Cyxn7+fqc+k3PK7r1PtB//dzvjLroVy7gf97cj8uMMa/r06bZ27dokUuG1fv16GzhwoC1btqzNYIljxmQIIFAEAnlxSThjxgxbs2aNjR8/viVYgwYNsqVLl7ZK/M0331g4y7r11luLYCiKYxOWL19uv/76q/Xt27c4NqgItuLNN9+00047zU4//fSC35q8CNbChQuT+1dTp05NQFeuXGkTJkywmTNnEqwC28UIVv4NGME6xGOyfft2GzBggM2ZM8eqqqpsypQplslkbOjQoQTrEFtn+8cRrGwL+38+wfKbtTnH4sWLLfzVpUuX5GsNI0eOTD4xbO3FJWGbrDmfgGDlnLzNBRKsNolyMwHByo2zZykEy6OVm2kJVm6cWQoCCCDwO4G8uOnOmCCAAAKKAMFSlJgGAQTyQoBg5cUwsBIIIKAIECxFiWkQQCAvBAhWXgwDK4EAAooAwVKUmAYBBPJCgGDlxTCwEgggoAjkZbBWrVplkyZNsnvvvdfOPvvslu0Iv7Lzyy+/2O7du+34449veV5WeLrDc889ZyeeeKJ9++23dvfdd9vJJ5+czHeweRQcptkj0NDQYG+//ba99NJLyWOAml/huWVbtmyxDh062IYNG+zqq6+2Sy65JPnfB3sgY/g1rPBUjs6dO9t3331nV155pV188cVQOwXCL5i/9tpryZNNJk6c+Ie5w5jdddddyS+hh3Fp7Vho7fhxrlbWJ8+7YIXHzISd+pFHHrGHH364JVgff/yxvf766/b0008nKOHhfuF3Dc8991wLT3YYMWKE9ejRw0Lsnn/++eQhgK3Nk3XZIlpAeGpGeXm53XfffbZixYqWLQu/sN6/f//k37/88ku77bbbkqfGhjeUgz2QMTzzLATu5ptvTp7qEH6HNHwTu3379kUklt1Nqaurs/DAgPBmEfbx8Ka8/ys8SCD8qtsNN9yQBCvm+MnuVsT99LwLVvNmBOTwCOTmM6zHHnvMjj322CRO4RXOqH744Qe7/fbbk3fpDz/80EpLS5OzgQsvvNDeeeedJFoHmufBBx+M00rxXJs2bbKrrrrqd8HalyOc2V5zzTXJQRIOjoM9kDFMM3r0aDvrrLOS2cObTvhvl112WYp14zY97OPhzHf/YIX/fthhhyUPEwhnvOFYijl+jjrqqLgVy+JcBROscHkYQhTekcMrPHrmo48+SoJ1zz33JO84za8+ffrYM888kwTrQPM8+eSTWSQtzh/dVrDmz5+fjMFTTz1lrT2Q8aKLLrJXX33VunbtmkA98MADdsYZZ9iNN95YnHBZ3KoDBStcoXz66ad20003JbdUmoMVc/x07949i2sf96MLJljhcuT888+3a6+9tiVY4Z08BCtcq4d7JvsGK9wDC8E60DxPPPFEnFaK52otWOHSZOzYsckZ8ZFHHmmtPZCxd+/e9vLLL1u3bt1agnXmmWcmly68fAL7ByuMQ3gzGD58ePJnIuwbrJjjJzz0L99eBROscKM2/Ik6IVDhFa7Rf/755+S+yRVXXJFcEoZnaNXX1ydnVe+++25y2XigecK7Oi+fwMGCFZ6YEe4tDhs2zDp27Jj80NYeyBjOkB966CE755xzkmnDeF533XUWzop5+QT2D1a4Cf/GG28kt0bC68cff0yeL3f99dfb5s2b3ccPl4SO8dj/HtYnn3ySvHs0/0EVIVR33HGHnXfeeUm0wllWuC8Sbgq/+OKLSaxam8exKkxqZgcKVjjD/eyzz2zw4MHJm0Xzq7UHMj777LPJc87CvcjwpyWF+1fhXgs33f272cHuYTX/pH3PsGKOH/8aZX+OvDvD+uKLL5JPnMKOffnllyf3N5qfDx5uLoazqrKyMjvmmGPslltuSYTCx7LhjCvcFwkfld95553JVxzC62DzZJ+2eJbwwQcf2Lp165I3gfvvvz+5nAufzoZx2bnz9386TviIvWfPnsnN9wM9kDHE7NFHH7XjjjvOvv/+e+vXr5/16tWreLBysCXhU9hgG+7hhntW4X5VOGNt/irPgYLV2rHQ2vGTg81xLSLvguVaeyZGAIFUCRCsVA03G4tAYQsQrMIeP9YegVQJEKxUDTcbi0BhCxCswh4/1h6BVAkQrFQNNxuLQGELEKzCHj/WHoFUCRCsVA03G4tAYQsQrMIeP9YegVQJEKxUDTcbi0BhCxCswh4/1h6BVAkQrFQNNxuLQGELEKzCHj/WHoFUCRCsVA03G4tAYQsQrMIeP9YegVQJEKxUDTcbi0BhCxCswh4/1h6BVAkQrFQNNxuLQGELEKzCHj/WHoFUCRCsVA03G4tAYQsQrMIeP9YegVQJEKxUDTcbi0BhCxCswh4/1h6BVAkQrFQNNxuLQGELEKzCHj/WHoFUCRCsVA03G4tAYQsQrMIeP9YegVQJEKxUDTcbi0BhCxCswh4/1h6BVAn8Pwf2xoLoGgzUAAAAAElFTkSuQmCC\" alt=\"График\"/>\n",
       "            </div>            \n",
       "        </div>\n",
       "        "
      ],
      "text/plain": [
       "<IPython.core.display.HTML object>"
      ]
     },
     "metadata": {},
     "output_type": "display_data"
    }
   ],
   "source": [
    "next(gen)"
   ]
  },
  {
   "cell_type": "markdown",
   "metadata": {},
   "source": [
    "**Наблюдения:**  \n",
    "\n",
    "- В таблице users 500 уникльных пользователей.\n"
   ]
  },
  {
   "cell_type": "markdown",
   "metadata": {},
   "source": [
    "##### Таблица calls (информация о звонках)"
   ]
  },
  {
   "cell_type": "code",
   "execution_count": null,
   "metadata": {},
   "outputs": [
    {
     "data": {
      "text/html": [
       "<div>\n",
       "<style scoped>\n",
       "    .dataframe tbody tr th:only-of-type {\n",
       "        vertical-align: middle;\n",
       "    }\n",
       "\n",
       "    .dataframe tbody tr th {\n",
       "        vertical-align: top;\n",
       "    }\n",
       "\n",
       "    .dataframe thead th {\n",
       "        text-align: right;\n",
       "    }\n",
       "</style>\n",
       "<table border=\"1\" class=\"dataframe\">\n",
       "  <thead>\n",
       "    <tr style=\"text-align: right;\">\n",
       "      <th></th>\n",
       "      <th>id</th>\n",
       "      <th>call_date</th>\n",
       "      <th>duration</th>\n",
       "      <th>user_id</th>\n",
       "    </tr>\n",
       "  </thead>\n",
       "  <tbody>\n",
       "    <tr>\n",
       "      <th>73455</th>\n",
       "      <td>1185_249</td>\n",
       "      <td>2018-10-19</td>\n",
       "      <td>14.37</td>\n",
       "      <td>1185</td>\n",
       "    </tr>\n",
       "    <tr>\n",
       "      <th>12917</th>\n",
       "      <td>1033_168</td>\n",
       "      <td>2018-08-17</td>\n",
       "      <td>12.56</td>\n",
       "      <td>1033</td>\n",
       "    </tr>\n",
       "    <tr>\n",
       "      <th>74950</th>\n",
       "      <td>1186_772</td>\n",
       "      <td>2018-04-27</td>\n",
       "      <td>0.00</td>\n",
       "      <td>1186</td>\n",
       "    </tr>\n",
       "    <tr>\n",
       "      <th>189799</th>\n",
       "      <td>1467_66</td>\n",
       "      <td>2018-12-15</td>\n",
       "      <td>0.00</td>\n",
       "      <td>1467</td>\n",
       "    </tr>\n",
       "    <tr>\n",
       "      <th>165787</th>\n",
       "      <td>1409_412</td>\n",
       "      <td>2018-11-04</td>\n",
       "      <td>2.69</td>\n",
       "      <td>1409</td>\n",
       "    </tr>\n",
       "  </tbody>\n",
       "</table>\n",
       "</div>"
      ],
      "text/plain": [
       "              id  call_date  duration  user_id\n",
       "73455   1185_249 2018-10-19     14.37     1185\n",
       "12917   1033_168 2018-08-17     12.56     1033\n",
       "74950   1186_772 2018-04-27      0.00     1186\n",
       "189799   1467_66 2018-12-15      0.00     1467\n",
       "165787  1409_412 2018-11-04      2.69     1409"
      ]
     },
     "execution_count": 10,
     "metadata": {},
     "output_type": "execute_result"
    }
   ],
   "source": [
    "df_calls = pd.read_csv('https://code.s3.yandex.net/datasets/calls.csv'\n",
    "                       , parse_dates=['call_date'], date_format='%Y-%m-%d')\n",
    "df_calls.sample(5, random_state=7)"
   ]
  },
  {
   "cell_type": "markdown",
   "metadata": {},
   "source": [
    "Изучим каждый столбец отдельно."
   ]
  },
  {
   "cell_type": "code",
   "execution_count": null,
   "metadata": {},
   "outputs": [
    {
     "data": {
      "text/html": [
       "<style type=\"text/css\">\n",
       "#T_097a9 caption {\n",
       "  font-size: 18px;\n",
       "  text-align: left;\n",
       "  font-weight: bold;\n",
       "}\n",
       "#T_097a9_row0_col0, #T_097a9_row0_col1, #T_097a9_row0_col2, #T_097a9_row0_col3, #T_097a9_row0_col4 {\n",
       "  text-align: left;\n",
       "}\n",
       "</style>\n",
       "<table id=\"T_097a9\">\n",
       "  <caption>DataFrame</caption>\n",
       "  <thead>\n",
       "    <tr>\n",
       "      <th id=\"T_097a9_level0_col0\" class=\"col_heading level0 col0\" >Rows</th>\n",
       "      <th id=\"T_097a9_level0_col1\" class=\"col_heading level0 col1\" >Features</th>\n",
       "      <th id=\"T_097a9_level0_col2\" class=\"col_heading level0 col2\" >RAM (Mb)</th>\n",
       "      <th id=\"T_097a9_level0_col3\" class=\"col_heading level0 col3\" >Duplicates</th>\n",
       "      <th id=\"T_097a9_level0_col4\" class=\"col_heading level0 col4\" >Dupl (sub - origin)</th>\n",
       "    </tr>\n",
       "  </thead>\n",
       "  <tbody>\n",
       "    <tr>\n",
       "      <td id=\"T_097a9_row0_col0\" class=\"data row0 col0\" >202 607</td>\n",
       "      <td id=\"T_097a9_row0_col1\" class=\"data row0 col1\" >4</td>\n",
       "      <td id=\"T_097a9_row0_col2\" class=\"data row0 col2\" >16</td>\n",
       "      <td id=\"T_097a9_row0_col3\" class=\"data row0 col3\" >---</td>\n",
       "      <td id=\"T_097a9_row0_col4\" class=\"data row0 col4\" >---</td>\n",
       "    </tr>\n",
       "  </tbody>\n",
       "</table>\n"
      ],
      "text/plain": [
       "<pandas.io.formats.style.Styler at 0x75deb5051b50>"
      ]
     },
     "execution_count": 47,
     "metadata": {},
     "output_type": "execute_result"
    }
   ],
   "source": [
    "gen = pagri_data_tools.info_gen(df_calls)\n",
    "next(gen)"
   ]
  },
  {
   "cell_type": "code",
   "execution_count": 48,
   "metadata": {},
   "outputs": [
    {
     "data": {
      "text/html": [
       "\n",
       "        <div style=\"display: flex; justify-content: flex-start; align-items: flex-end;\">\n",
       "            <style type=\"text/css\">\n",
       "#T_bade5 caption {\n",
       "  font-size: 16px;\n",
       "  text-align: left;\n",
       "  font-weight: bold;\n",
       "}\n",
       "#T_bade5_row0_col0, #T_bade5_row0_col1, #T_bade5_row0_col2, #T_bade5_row0_col3, #T_bade5_row0_col4, #T_bade5_row0_col5, #T_bade5_row0_col6, #T_bade5_row0_col7, #T_bade5_row0_col8, #T_bade5_row1_col0, #T_bade5_row1_col1, #T_bade5_row1_col2, #T_bade5_row1_col3, #T_bade5_row1_col4, #T_bade5_row1_col5, #T_bade5_row1_col6, #T_bade5_row1_col7, #T_bade5_row1_col8, #T_bade5_row2_col0, #T_bade5_row2_col1, #T_bade5_row2_col2, #T_bade5_row2_col3, #T_bade5_row2_col4, #T_bade5_row2_col5, #T_bade5_row2_col6, #T_bade5_row2_col7, #T_bade5_row2_col8, #T_bade5_row3_col0, #T_bade5_row3_col1, #T_bade5_row3_col2, #T_bade5_row3_col3, #T_bade5_row3_col4, #T_bade5_row3_col5, #T_bade5_row3_col6, #T_bade5_row3_col7, #T_bade5_row3_col8 {\n",
       "  text-align: left;\n",
       "}\n",
       "</style>\n",
       "<table id=\"T_bade5\">\n",
       "  <caption>Статистика столбца \"call_date\"</caption>\n",
       "  <thead>\n",
       "  </thead>\n",
       "  <tbody>\n",
       "    <tr>\n",
       "      <td id=\"T_bade5_row0_col0\" class=\"data row0 col0\" >First date</td>\n",
       "      <td id=\"T_bade5_row0_col1\" class=\"data row0 col1\" >2018-01-01 00:00:00</td>\n",
       "      <td id=\"T_bade5_row0_col2\" class=\"data row0 col2\" >                              </td>\n",
       "      <td id=\"T_bade5_row0_col3\" class=\"data row0 col3\" >Zeros</td>\n",
       "      <td id=\"T_bade5_row0_col4\" class=\"data row0 col4\" >---</td>\n",
       "      <td id=\"T_bade5_row0_col5\" class=\"data row0 col5\" >                              </td>\n",
       "      <td id=\"T_bade5_row0_col6\" class=\"data row0 col6\" >Years missing</td>\n",
       "      <td id=\"T_bade5_row0_col7\" class=\"data row0 col7\" >0%</td>\n",
       "      <td id=\"T_bade5_row0_col8\" class=\"data row0 col8\" >                              </td>\n",
       "    </tr>\n",
       "    <tr>\n",
       "      <td id=\"T_bade5_row1_col0\" class=\"data row1 col0\" >Last date</td>\n",
       "      <td id=\"T_bade5_row1_col1\" class=\"data row1 col1\" >2018-12-31 00:00:00</td>\n",
       "      <td id=\"T_bade5_row1_col2\" class=\"data row1 col2\" >                              </td>\n",
       "      <td id=\"T_bade5_row1_col3\" class=\"data row1 col3\" >Missing</td>\n",
       "      <td id=\"T_bade5_row1_col4\" class=\"data row1 col4\" >---</td>\n",
       "      <td id=\"T_bade5_row1_col5\" class=\"data row1 col5\" >                              </td>\n",
       "      <td id=\"T_bade5_row1_col6\" class=\"data row1 col6\" >Months missing</td>\n",
       "      <td id=\"T_bade5_row1_col7\" class=\"data row1 col7\" >0%</td>\n",
       "      <td id=\"T_bade5_row1_col8\" class=\"data row1 col8\" >                              </td>\n",
       "    </tr>\n",
       "    <tr>\n",
       "      <td id=\"T_bade5_row2_col0\" class=\"data row2 col0\" >Values</td>\n",
       "      <td id=\"T_bade5_row2_col1\" class=\"data row2 col1\" >202 607 (100%)</td>\n",
       "      <td id=\"T_bade5_row2_col2\" class=\"data row2 col2\" >                              </td>\n",
       "      <td id=\"T_bade5_row2_col3\" class=\"data row2 col3\" >Distinct</td>\n",
       "      <td id=\"T_bade5_row2_col4\" class=\"data row2 col4\" >365 (<1%)</td>\n",
       "      <td id=\"T_bade5_row2_col5\" class=\"data row2 col5\" >                              </td>\n",
       "      <td id=\"T_bade5_row2_col6\" class=\"data row2 col6\" >Weeks missing</td>\n",
       "      <td id=\"T_bade5_row2_col7\" class=\"data row2 col7\" >0%</td>\n",
       "      <td id=\"T_bade5_row2_col8\" class=\"data row2 col8\" >                              </td>\n",
       "    </tr>\n",
       "    <tr>\n",
       "      <td id=\"T_bade5_row3_col0\" class=\"data row3 col0\" >RAM (Mb)</td>\n",
       "      <td id=\"T_bade5_row3_col1\" class=\"data row3 col1\" >2</td>\n",
       "      <td id=\"T_bade5_row3_col2\" class=\"data row3 col2\" >                              </td>\n",
       "      <td id=\"T_bade5_row3_col3\" class=\"data row3 col3\" >Duplicates</td>\n",
       "      <td id=\"T_bade5_row3_col4\" class=\"data row3 col4\" >202 242 (99.8%)</td>\n",
       "      <td id=\"T_bade5_row3_col5\" class=\"data row3 col5\" >                              </td>\n",
       "      <td id=\"T_bade5_row3_col6\" class=\"data row3 col6\" >Days missing</td>\n",
       "      <td id=\"T_bade5_row3_col7\" class=\"data row3 col7\" >0%</td>\n",
       "      <td id=\"T_bade5_row3_col8\" class=\"data row3 col8\" >                              </td>\n",
       "    </tr>\n",
       "  </tbody>\n",
       "</table>\n",
       "\n",
       "        </div>\n",
       "        "
      ],
      "text/plain": [
       "<IPython.core.display.HTML object>"
      ]
     },
     "metadata": {},
     "output_type": "display_data"
    }
   ],
   "source": [
    "next(gen)"
   ]
  },
  {
   "cell_type": "markdown",
   "metadata": {},
   "source": [
    "**Наблюдения:**  \n",
    "\n",
    "- Пропусков и нулевых значений нет.\n",
    "- Присутствуют данные за каждый день. \n"
   ]
  },
  {
   "cell_type": "code",
   "execution_count": 49,
   "metadata": {},
   "outputs": [
    {
     "data": {
      "text/html": [
       "\n",
       "        <div style=\"display: flex; justify-content: flex-start; align-items: flex-end;\">\n",
       "            <style type=\"text/css\">\n",
       "#T_478a3 caption {\n",
       "  font-size: 16px;\n",
       "  text-align: left;\n",
       "  font-weight: bold;\n",
       "}\n",
       "#T_478a3_row0_col0, #T_478a3_row0_col1, #T_478a3_row0_col2, #T_478a3_row0_col3, #T_478a3_row0_col4, #T_478a3_row0_col5, #T_478a3_row0_col6, #T_478a3_row0_col7, #T_478a3_row0_col8, #T_478a3_row0_col9, #T_478a3_row1_col0, #T_478a3_row1_col1, #T_478a3_row1_col2, #T_478a3_row1_col3, #T_478a3_row1_col4, #T_478a3_row1_col5, #T_478a3_row1_col6, #T_478a3_row1_col7, #T_478a3_row1_col8, #T_478a3_row1_col9, #T_478a3_row2_col0, #T_478a3_row2_col1, #T_478a3_row2_col2, #T_478a3_row2_col3, #T_478a3_row2_col4, #T_478a3_row2_col5, #T_478a3_row2_col6, #T_478a3_row2_col7, #T_478a3_row2_col8, #T_478a3_row2_col9, #T_478a3_row3_col0, #T_478a3_row3_col1, #T_478a3_row3_col2, #T_478a3_row3_col3, #T_478a3_row3_col4, #T_478a3_row3_col5, #T_478a3_row3_col6, #T_478a3_row3_col7, #T_478a3_row3_col8, #T_478a3_row3_col9, #T_478a3_row4_col0, #T_478a3_row4_col1, #T_478a3_row4_col2, #T_478a3_row4_col3, #T_478a3_row4_col4, #T_478a3_row4_col5, #T_478a3_row4_col6, #T_478a3_row4_col7, #T_478a3_row4_col8, #T_478a3_row4_col9, #T_478a3_row5_col0, #T_478a3_row5_col1, #T_478a3_row5_col2, #T_478a3_row5_col3, #T_478a3_row5_col4, #T_478a3_row5_col5, #T_478a3_row5_col6, #T_478a3_row5_col7, #T_478a3_row5_col8, #T_478a3_row5_col9, #T_478a3_row6_col0, #T_478a3_row6_col1, #T_478a3_row6_col2, #T_478a3_row6_col3, #T_478a3_row6_col4, #T_478a3_row6_col5, #T_478a3_row6_col6, #T_478a3_row6_col7, #T_478a3_row6_col8, #T_478a3_row6_col9 {\n",
       "  text-align: left;\n",
       "}\n",
       "</style>\n",
       "<table id=\"T_478a3\">\n",
       "  <caption>Статистика и гистограмма столбца \"duration\"</caption>\n",
       "  <thead>\n",
       "  </thead>\n",
       "  <tbody>\n",
       "    <tr>\n",
       "      <td id=\"T_478a3_row0_col0\" class=\"data row0 col0\" >Values</td>\n",
       "      <td id=\"T_478a3_row0_col1\" class=\"data row0 col1\" >202 607 (100%)</td>\n",
       "      <td id=\"T_478a3_row0_col2\" class=\"data row0 col2\" >                              </td>\n",
       "      <td id=\"T_478a3_row0_col3\" class=\"data row0 col3\" >Max</td>\n",
       "      <td id=\"T_478a3_row0_col4\" class=\"data row0 col4\" >38</td>\n",
       "      <td id=\"T_478a3_row0_col5\" class=\"data row0 col5\" >                              </td>\n",
       "      <td id=\"T_478a3_row0_col6\" class=\"data row0 col6\" >Avg</td>\n",
       "      <td id=\"T_478a3_row0_col7\" class=\"data row0 col7\" >6.76</td>\n",
       "      <td id=\"T_478a3_row0_col8\" class=\"data row0 col8\" >                              </td>\n",
       "      <td id=\"T_478a3_row0_col9\" class=\"data row0 col9\" >0 (20%)</td>\n",
       "    </tr>\n",
       "    <tr>\n",
       "      <td id=\"T_478a3_row1_col0\" class=\"data row1 col0\" >Missing</td>\n",
       "      <td id=\"T_478a3_row1_col1\" class=\"data row1 col1\" >---</td>\n",
       "      <td id=\"T_478a3_row1_col2\" class=\"data row1 col2\" >                              </td>\n",
       "      <td id=\"T_478a3_row1_col3\" class=\"data row1 col3\" >95%</td>\n",
       "      <td id=\"T_478a3_row1_col4\" class=\"data row1 col4\" >17.52</td>\n",
       "      <td id=\"T_478a3_row1_col5\" class=\"data row1 col5\" >                              </td>\n",
       "      <td id=\"T_478a3_row1_col6\" class=\"data row1 col6\" >Mode</td>\n",
       "      <td id=\"T_478a3_row1_col7\" class=\"data row1 col7\" >0</td>\n",
       "      <td id=\"T_478a3_row1_col8\" class=\"data row1 col8\" >                              </td>\n",
       "      <td id=\"T_478a3_row1_col9\" class=\"data row1 col9\" >4.49 <1%</td>\n",
       "    </tr>\n",
       "    <tr>\n",
       "      <td id=\"T_478a3_row2_col0\" class=\"data row2 col0\" >Distinct</td>\n",
       "      <td id=\"T_478a3_row2_col1\" class=\"data row2 col1\" >2 871 (1%)</td>\n",
       "      <td id=\"T_478a3_row2_col2\" class=\"data row2 col2\" >                              </td>\n",
       "      <td id=\"T_478a3_row2_col3\" class=\"data row2 col3\" >75%</td>\n",
       "      <td id=\"T_478a3_row2_col4\" class=\"data row2 col4\" >10.7</td>\n",
       "      <td id=\"T_478a3_row2_col5\" class=\"data row2 col5\" >                              </td>\n",
       "      <td id=\"T_478a3_row2_col6\" class=\"data row2 col6\" >Range</td>\n",
       "      <td id=\"T_478a3_row2_col7\" class=\"data row2 col7\" >38</td>\n",
       "      <td id=\"T_478a3_row2_col8\" class=\"data row2 col8\" >                              </td>\n",
       "      <td id=\"T_478a3_row2_col9\" class=\"data row2 col9\" >5.5 <1%</td>\n",
       "    </tr>\n",
       "    <tr>\n",
       "      <td id=\"T_478a3_row3_col0\" class=\"data row3 col0\" >Duplicates</td>\n",
       "      <td id=\"T_478a3_row3_col1\" class=\"data row3 col1\" >199 736 (99%)</td>\n",
       "      <td id=\"T_478a3_row3_col2\" class=\"data row3 col2\" >                              </td>\n",
       "      <td id=\"T_478a3_row3_col3\" class=\"data row3 col3\" >Median</td>\n",
       "      <td id=\"T_478a3_row3_col4\" class=\"data row3 col4\" >6</td>\n",
       "      <td id=\"T_478a3_row3_col5\" class=\"data row3 col5\" >                              </td>\n",
       "      <td id=\"T_478a3_row3_col6\" class=\"data row3 col6\" >iQR</td>\n",
       "      <td id=\"T_478a3_row3_col7\" class=\"data row3 col7\" >9.4</td>\n",
       "      <td id=\"T_478a3_row3_col8\" class=\"data row3 col8\" >                              </td>\n",
       "      <td id=\"T_478a3_row3_col9\" class=\"data row3 col9\" >6.15 <1%</td>\n",
       "    </tr>\n",
       "    <tr>\n",
       "      <td id=\"T_478a3_row4_col0\" class=\"data row4 col0\" >Zeros</td>\n",
       "      <td id=\"T_478a3_row4_col1\" class=\"data row4 col1\" >39 613 (20%)</td>\n",
       "      <td id=\"T_478a3_row4_col2\" class=\"data row4 col2\" >                              </td>\n",
       "      <td id=\"T_478a3_row4_col3\" class=\"data row4 col3\" >25%</td>\n",
       "      <td id=\"T_478a3_row4_col4\" class=\"data row4 col4\" >1.3</td>\n",
       "      <td id=\"T_478a3_row4_col5\" class=\"data row4 col5\" >                              </td>\n",
       "      <td id=\"T_478a3_row4_col6\" class=\"data row4 col6\" >std</td>\n",
       "      <td id=\"T_478a3_row4_col7\" class=\"data row4 col7\" >5.84</td>\n",
       "      <td id=\"T_478a3_row4_col8\" class=\"data row4 col8\" >                              </td>\n",
       "      <td id=\"T_478a3_row4_col9\" class=\"data row4 col9\" >6.38 <1%</td>\n",
       "    </tr>\n",
       "    <tr>\n",
       "      <td id=\"T_478a3_row5_col0\" class=\"data row5 col0\" >Negative</td>\n",
       "      <td id=\"T_478a3_row5_col1\" class=\"data row5 col1\" >---</td>\n",
       "      <td id=\"T_478a3_row5_col2\" class=\"data row5 col2\" >                              </td>\n",
       "      <td id=\"T_478a3_row5_col3\" class=\"data row5 col3\" >5%</td>\n",
       "      <td id=\"T_478a3_row5_col4\" class=\"data row5 col4\" >0</td>\n",
       "      <td id=\"T_478a3_row5_col5\" class=\"data row5 col5\" >                              </td>\n",
       "      <td id=\"T_478a3_row5_col6\" class=\"data row5 col6\" >kurt</td>\n",
       "      <td id=\"T_478a3_row5_col7\" class=\"data row5 col7\" >-0.11</td>\n",
       "      <td id=\"T_478a3_row5_col8\" class=\"data row5 col8\" >                              </td>\n",
       "      <td id=\"T_478a3_row5_col9\" class=\"data row5 col9\" >4.92 <1%</td>\n",
       "    </tr>\n",
       "    <tr>\n",
       "      <td id=\"T_478a3_row6_col0\" class=\"data row6 col0\" >RAM (Mb)</td>\n",
       "      <td id=\"T_478a3_row6_col1\" class=\"data row6 col1\" >2</td>\n",
       "      <td id=\"T_478a3_row6_col2\" class=\"data row6 col2\" >                              </td>\n",
       "      <td id=\"T_478a3_row6_col3\" class=\"data row6 col3\" >Min</td>\n",
       "      <td id=\"T_478a3_row6_col4\" class=\"data row6 col4\" >0</td>\n",
       "      <td id=\"T_478a3_row6_col5\" class=\"data row6 col5\" >                              </td>\n",
       "      <td id=\"T_478a3_row6_col6\" class=\"data row6 col6\" >skew</td>\n",
       "      <td id=\"T_478a3_row6_col7\" class=\"data row6 col7\" >0.69</td>\n",
       "      <td id=\"T_478a3_row6_col8\" class=\"data row6 col8\" >                              </td>\n",
       "      <td id=\"T_478a3_row6_col9\" class=\"data row6 col9\" >5.05 <1%</td>\n",
       "    </tr>\n",
       "  </tbody>\n",
       "</table>\n",
       "\n",
       "            <div>\n",
       "                <img src=\"data:image/png;base64,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\" alt=\"График\"/>\n",
       "            </div>\n",
       "        \n",
       "            <div>\n",
       "                <img src=\"data:image/png;base64,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\" alt=\"График\"/>\n",
       "            </div>            \n",
       "        </div>\n",
       "        "
      ],
      "text/plain": [
       "<IPython.core.display.HTML object>"
      ]
     },
     "metadata": {},
     "output_type": "display_data"
    }
   ],
   "source": [
    "next(gen)"
   ]
  },
  {
   "cell_type": "markdown",
   "metadata": {},
   "source": [
    "**Наблюдения:**  \n",
    "\n",
    "- В колонке с длительностью звонка 20 процентов нулей.\n",
    "- Максимальная длительность звонка 38 минут.\n",
    "- Длительность звонка варьируется от 0 до 38 минут.\n",
    "- В основном длительность звонка находится в диапазоне от 1.3 до 10.7 минут.\n",
    "- Чаще всего звонок составляет 0 минут."
   ]
  },
  {
   "cell_type": "code",
   "execution_count": 50,
   "metadata": {},
   "outputs": [
    {
     "data": {
      "text/html": [
       "\n",
       "        <div style=\"display: flex; justify-content: flex-start; align-items: flex-end;\">\n",
       "            <style type=\"text/css\">\n",
       "#T_814b0 caption {\n",
       "  font-size: 16px;\n",
       "  text-align: left;\n",
       "  font-weight: bold;\n",
       "}\n",
       "#T_814b0_row0_col0, #T_814b0_row0_col1, #T_814b0_row0_col2, #T_814b0_row0_col3, #T_814b0_row0_col4, #T_814b0_row0_col5, #T_814b0_row0_col6, #T_814b0_row0_col7, #T_814b0_row0_col8, #T_814b0_row0_col9, #T_814b0_row1_col0, #T_814b0_row1_col1, #T_814b0_row1_col2, #T_814b0_row1_col3, #T_814b0_row1_col4, #T_814b0_row1_col5, #T_814b0_row1_col6, #T_814b0_row1_col7, #T_814b0_row1_col8, #T_814b0_row1_col9, #T_814b0_row2_col0, #T_814b0_row2_col1, #T_814b0_row2_col2, #T_814b0_row2_col3, #T_814b0_row2_col4, #T_814b0_row2_col5, #T_814b0_row2_col6, #T_814b0_row2_col7, #T_814b0_row2_col8, #T_814b0_row2_col9, #T_814b0_row3_col0, #T_814b0_row3_col1, #T_814b0_row3_col2, #T_814b0_row3_col3, #T_814b0_row3_col4, #T_814b0_row3_col5, #T_814b0_row3_col6, #T_814b0_row3_col7, #T_814b0_row3_col8, #T_814b0_row3_col9, #T_814b0_row4_col0, #T_814b0_row4_col1, #T_814b0_row4_col2, #T_814b0_row4_col3, #T_814b0_row4_col4, #T_814b0_row4_col5, #T_814b0_row4_col6, #T_814b0_row4_col7, #T_814b0_row4_col8, #T_814b0_row4_col9, #T_814b0_row5_col0, #T_814b0_row5_col1, #T_814b0_row5_col2, #T_814b0_row5_col3, #T_814b0_row5_col4, #T_814b0_row5_col5, #T_814b0_row5_col6, #T_814b0_row5_col7, #T_814b0_row5_col8, #T_814b0_row5_col9, #T_814b0_row6_col0, #T_814b0_row6_col1, #T_814b0_row6_col2, #T_814b0_row6_col3, #T_814b0_row6_col4, #T_814b0_row6_col5, #T_814b0_row6_col6, #T_814b0_row6_col7, #T_814b0_row6_col8, #T_814b0_row6_col9 {\n",
       "  text-align: left;\n",
       "}\n",
       "</style>\n",
       "<table id=\"T_814b0\">\n",
       "  <caption>Статистика и гистограмма столбца \"user_id\"</caption>\n",
       "  <thead>\n",
       "  </thead>\n",
       "  <tbody>\n",
       "    <tr>\n",
       "      <td id=\"T_814b0_row0_col0\" class=\"data row0 col0\" >Values</td>\n",
       "      <td id=\"T_814b0_row0_col1\" class=\"data row0 col1\" >202 607 (100%)</td>\n",
       "      <td id=\"T_814b0_row0_col2\" class=\"data row0 col2\" >                              </td>\n",
       "      <td id=\"T_814b0_row0_col3\" class=\"data row0 col3\" >Max</td>\n",
       "      <td id=\"T_814b0_row0_col4\" class=\"data row0 col4\" >1 499</td>\n",
       "      <td id=\"T_814b0_row0_col5\" class=\"data row0 col5\" >                              </td>\n",
       "      <td id=\"T_814b0_row0_col6\" class=\"data row0 col6\" >Avg</td>\n",
       "      <td id=\"T_814b0_row0_col7\" class=\"data row0 col7\" >1 253.94</td>\n",
       "      <td id=\"T_814b0_row0_col8\" class=\"data row0 col8\" >                              </td>\n",
       "      <td id=\"T_814b0_row0_col9\" class=\"data row0 col9\" >1 377 <1%</td>\n",
       "    </tr>\n",
       "    <tr>\n",
       "      <td id=\"T_814b0_row1_col0\" class=\"data row1 col0\" >Missing</td>\n",
       "      <td id=\"T_814b0_row1_col1\" class=\"data row1 col1\" >---</td>\n",
       "      <td id=\"T_814b0_row1_col2\" class=\"data row1 col2\" >                              </td>\n",
       "      <td id=\"T_814b0_row1_col3\" class=\"data row1 col3\" >95%</td>\n",
       "      <td id=\"T_814b0_row1_col4\" class=\"data row1 col4\" >1 472</td>\n",
       "      <td id=\"T_814b0_row1_col5\" class=\"data row1 col5\" >                              </td>\n",
       "      <td id=\"T_814b0_row1_col6\" class=\"data row1 col6\" >Mode</td>\n",
       "      <td id=\"T_814b0_row1_col7\" class=\"data row1 col7\" >1 377</td>\n",
       "      <td id=\"T_814b0_row1_col8\" class=\"data row1 col8\" >                              </td>\n",
       "      <td id=\"T_814b0_row1_col9\" class=\"data row1 col9\" >1 168 <1%</td>\n",
       "    </tr>\n",
       "    <tr>\n",
       "      <td id=\"T_814b0_row2_col0\" class=\"data row2 col0\" >Distinct</td>\n",
       "      <td id=\"T_814b0_row2_col1\" class=\"data row2 col1\" >492 (<1%)</td>\n",
       "      <td id=\"T_814b0_row2_col2\" class=\"data row2 col2\" >                              </td>\n",
       "      <td id=\"T_814b0_row2_col3\" class=\"data row2 col3\" >75%</td>\n",
       "      <td id=\"T_814b0_row2_col4\" class=\"data row2 col4\" >1 379</td>\n",
       "      <td id=\"T_814b0_row2_col5\" class=\"data row2 col5\" >                              </td>\n",
       "      <td id=\"T_814b0_row2_col6\" class=\"data row2 col6\" >Range</td>\n",
       "      <td id=\"T_814b0_row2_col7\" class=\"data row2 col7\" >499</td>\n",
       "      <td id=\"T_814b0_row2_col8\" class=\"data row2 col8\" >                              </td>\n",
       "      <td id=\"T_814b0_row2_col9\" class=\"data row2 col9\" >1 375 <1%</td>\n",
       "    </tr>\n",
       "    <tr>\n",
       "      <td id=\"T_814b0_row3_col0\" class=\"data row3 col0\" >Duplicates</td>\n",
       "      <td id=\"T_814b0_row3_col1\" class=\"data row3 col1\" >202 115 (99.8%)</td>\n",
       "      <td id=\"T_814b0_row3_col2\" class=\"data row3 col2\" >                              </td>\n",
       "      <td id=\"T_814b0_row3_col3\" class=\"data row3 col3\" >Median</td>\n",
       "      <td id=\"T_814b0_row3_col4\" class=\"data row3 col4\" >1 260</td>\n",
       "      <td id=\"T_814b0_row3_col5\" class=\"data row3 col5\" >                              </td>\n",
       "      <td id=\"T_814b0_row3_col6\" class=\"data row3 col6\" >iQR</td>\n",
       "      <td id=\"T_814b0_row3_col7\" class=\"data row3 col7\" >253</td>\n",
       "      <td id=\"T_814b0_row3_col8\" class=\"data row3 col8\" >                              </td>\n",
       "      <td id=\"T_814b0_row3_col9\" class=\"data row3 col9\" >1 453 <1%</td>\n",
       "    </tr>\n",
       "    <tr>\n",
       "      <td id=\"T_814b0_row4_col0\" class=\"data row4 col0\" >Zeros</td>\n",
       "      <td id=\"T_814b0_row4_col1\" class=\"data row4 col1\" >---</td>\n",
       "      <td id=\"T_814b0_row4_col2\" class=\"data row4 col2\" >                              </td>\n",
       "      <td id=\"T_814b0_row4_col3\" class=\"data row4 col3\" >25%</td>\n",
       "      <td id=\"T_814b0_row4_col4\" class=\"data row4 col4\" >1 126</td>\n",
       "      <td id=\"T_814b0_row4_col5\" class=\"data row4 col5\" >                              </td>\n",
       "      <td id=\"T_814b0_row4_col6\" class=\"data row4 col6\" >std</td>\n",
       "      <td id=\"T_814b0_row4_col7\" class=\"data row4 col7\" >144.72</td>\n",
       "      <td id=\"T_814b0_row4_col8\" class=\"data row4 col8\" >                              </td>\n",
       "      <td id=\"T_814b0_row4_col9\" class=\"data row4 col9\" >1 196 <1%</td>\n",
       "    </tr>\n",
       "    <tr>\n",
       "      <td id=\"T_814b0_row5_col0\" class=\"data row5 col0\" >Negative</td>\n",
       "      <td id=\"T_814b0_row5_col1\" class=\"data row5 col1\" >---</td>\n",
       "      <td id=\"T_814b0_row5_col2\" class=\"data row5 col2\" >                              </td>\n",
       "      <td id=\"T_814b0_row5_col3\" class=\"data row5 col3\" >5%</td>\n",
       "      <td id=\"T_814b0_row5_col4\" class=\"data row5 col4\" >1 027</td>\n",
       "      <td id=\"T_814b0_row5_col5\" class=\"data row5 col5\" >                              </td>\n",
       "      <td id=\"T_814b0_row5_col6\" class=\"data row5 col6\" >kurt</td>\n",
       "      <td id=\"T_814b0_row5_col7\" class=\"data row5 col7\" >-1.24</td>\n",
       "      <td id=\"T_814b0_row5_col8\" class=\"data row5 col8\" >                              </td>\n",
       "      <td id=\"T_814b0_row5_col9\" class=\"data row5 col9\" >1 021 <1%</td>\n",
       "    </tr>\n",
       "    <tr>\n",
       "      <td id=\"T_814b0_row6_col0\" class=\"data row6 col0\" >RAM (Mb)</td>\n",
       "      <td id=\"T_814b0_row6_col1\" class=\"data row6 col1\" >2</td>\n",
       "      <td id=\"T_814b0_row6_col2\" class=\"data row6 col2\" >                              </td>\n",
       "      <td id=\"T_814b0_row6_col3\" class=\"data row6 col3\" >Min</td>\n",
       "      <td id=\"T_814b0_row6_col4\" class=\"data row6 col4\" >1 000</td>\n",
       "      <td id=\"T_814b0_row6_col5\" class=\"data row6 col5\" >                              </td>\n",
       "      <td id=\"T_814b0_row6_col6\" class=\"data row6 col6\" >skew</td>\n",
       "      <td id=\"T_814b0_row6_col7\" class=\"data row6 col7\" >-0.05</td>\n",
       "      <td id=\"T_814b0_row6_col8\" class=\"data row6 col8\" >                              </td>\n",
       "      <td id=\"T_814b0_row6_col9\" class=\"data row6 col9\" >1 363 <1%</td>\n",
       "    </tr>\n",
       "  </tbody>\n",
       "</table>\n",
       "\n",
       "            <div>\n",
       "                <img src=\"data:image/png;base64,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\" alt=\"График\"/>\n",
       "            </div>\n",
       "        \n",
       "            <div>\n",
       "                <img src=\"data:image/png;base64,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\" alt=\"График\"/>\n",
       "            </div>            \n",
       "        </div>\n",
       "        "
      ],
      "text/plain": [
       "<IPython.core.display.HTML object>"
      ]
     },
     "metadata": {},
     "output_type": "display_data"
    }
   ],
   "source": [
    "next(gen)"
   ]
  },
  {
   "cell_type": "markdown",
   "metadata": {},
   "source": [
    "**Наблюдения:**  \n",
    "\n",
    "- В таблице users 492 уникальных пользователя. "
   ]
  },
  {
   "cell_type": "code",
   "execution_count": 51,
   "metadata": {},
   "outputs": [
    {
     "data": {
      "text/html": [
       "\n",
       "        <div style=\"display: flex; justify-content: flex-start; align-items: flex-end;\">\n",
       "            <style type=\"text/css\">\n",
       "#T_a1a97 caption {\n",
       "  font-size: 16px;\n",
       "  text-align: left;\n",
       "  font-weight: bold;\n",
       "}\n",
       "#T_a1a97_row0_col0, #T_a1a97_row0_col1, #T_a1a97_row0_col2, #T_a1a97_row0_col3, #T_a1a97_row1_col0, #T_a1a97_row1_col1, #T_a1a97_row1_col2, #T_a1a97_row1_col3, #T_a1a97_row2_col0, #T_a1a97_row2_col1, #T_a1a97_row2_col2, #T_a1a97_row2_col3, #T_a1a97_row3_col0, #T_a1a97_row3_col1, #T_a1a97_row3_col2, #T_a1a97_row3_col3, #T_a1a97_row4_col0, #T_a1a97_row4_col1, #T_a1a97_row4_col2, #T_a1a97_row4_col3, #T_a1a97_row5_col0, #T_a1a97_row5_col1, #T_a1a97_row5_col2, #T_a1a97_row5_col3, #T_a1a97_row6_col0, #T_a1a97_row6_col1, #T_a1a97_row6_col2, #T_a1a97_row6_col3 {\n",
       "  text-align: left;\n",
       "}\n",
       "</style>\n",
       "<table id=\"T_a1a97\">\n",
       "  <caption>Статистика и топ-10 значений столбца \"id\"</caption>\n",
       "  <thead>\n",
       "  </thead>\n",
       "  <tbody>\n",
       "    <tr>\n",
       "      <td id=\"T_a1a97_row0_col0\" class=\"data row0 col0\" >Values</td>\n",
       "      <td id=\"T_a1a97_row0_col1\" class=\"data row0 col1\" >202 607 (100%)</td>\n",
       "      <td id=\"T_a1a97_row0_col2\" class=\"data row0 col2\" >                              </td>\n",
       "      <td id=\"T_a1a97_row0_col3\" class=\"data row0 col3\" >1000_0 <1%</td>\n",
       "    </tr>\n",
       "    <tr>\n",
       "      <td id=\"T_a1a97_row1_col0\" class=\"data row1 col0\" >Missing</td>\n",
       "      <td id=\"T_a1a97_row1_col1\" class=\"data row1 col1\" >---</td>\n",
       "      <td id=\"T_a1a97_row1_col2\" class=\"data row1 col2\" >                              </td>\n",
       "      <td id=\"T_a1a97_row1_col3\" class=\"data row1 col3\" >1344_881 <1%</td>\n",
       "    </tr>\n",
       "    <tr>\n",
       "      <td id=\"T_a1a97_row2_col0\" class=\"data row2 col0\" >Distinct</td>\n",
       "      <td id=\"T_a1a97_row2_col1\" class=\"data row2 col1\" >202 607 (100%)</td>\n",
       "      <td id=\"T_a1a97_row2_col2\" class=\"data row2 col2\" >                              </td>\n",
       "      <td id=\"T_a1a97_row2_col3\" class=\"data row2 col3\" >1344_883 <1%</td>\n",
       "    </tr>\n",
       "    <tr>\n",
       "      <td id=\"T_a1a97_row3_col0\" class=\"data row3 col0\" >Duplicated origin</td>\n",
       "      <td id=\"T_a1a97_row3_col1\" class=\"data row3 col1\" >---</td>\n",
       "      <td id=\"T_a1a97_row3_col2\" class=\"data row3 col2\" >                              </td>\n",
       "      <td id=\"T_a1a97_row3_col3\" class=\"data row3 col3\" >1344_884 <1%</td>\n",
       "    </tr>\n",
       "    <tr>\n",
       "      <td id=\"T_a1a97_row4_col0\" class=\"data row4 col0\" >Dupl (modify - origin)</td>\n",
       "      <td id=\"T_a1a97_row4_col1\" class=\"data row4 col1\" >---</td>\n",
       "      <td id=\"T_a1a97_row4_col2\" class=\"data row4 col2\" >                              </td>\n",
       "      <td id=\"T_a1a97_row4_col3\" class=\"data row4 col3\" >1344_885 <1%</td>\n",
       "    </tr>\n",
       "    <tr>\n",
       "      <td id=\"T_a1a97_row5_col0\" class=\"data row5 col0\" >Empty</td>\n",
       "      <td id=\"T_a1a97_row5_col1\" class=\"data row5 col1\" >---</td>\n",
       "      <td id=\"T_a1a97_row5_col2\" class=\"data row5 col2\" >                              </td>\n",
       "      <td id=\"T_a1a97_row5_col3\" class=\"data row5 col3\" >1344_886 <1%</td>\n",
       "    </tr>\n",
       "    <tr>\n",
       "      <td id=\"T_a1a97_row6_col0\" class=\"data row6 col0\" >RAM (Mb)</td>\n",
       "      <td id=\"T_a1a97_row6_col1\" class=\"data row6 col1\" >11</td>\n",
       "      <td id=\"T_a1a97_row6_col2\" class=\"data row6 col2\" >                              </td>\n",
       "      <td id=\"T_a1a97_row6_col3\" class=\"data row6 col3\" >1344_887 <1%</td>\n",
       "    </tr>\n",
       "  </tbody>\n",
       "</table>\n",
       "\n",
       "            <div>\n",
       "                <img src=\"data:image/png;base64,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\" alt=\"График\"/>\n",
       "            </div>\n",
       "                  \n",
       "        </div>\n",
       "        "
      ],
      "text/plain": [
       "<IPython.core.display.HTML object>"
      ]
     },
     "metadata": {},
     "output_type": "display_data"
    }
   ],
   "source": [
    "next(gen)"
   ]
  },
  {
   "cell_type": "markdown",
   "metadata": {},
   "source": [
    "**Наблюдения:**  \n",
    "\n",
    "- Все id звонков уникальны. Так и должно быть. "
   ]
  },
  {
   "cell_type": "markdown",
   "metadata": {},
   "source": [
    "##### Таблица messages (информация о сообщениях)"
   ]
  },
  {
   "cell_type": "code",
   "execution_count": null,
   "metadata": {},
   "outputs": [
    {
     "data": {
      "text/html": [
       "<div>\n",
       "<style scoped>\n",
       "    .dataframe tbody tr th:only-of-type {\n",
       "        vertical-align: middle;\n",
       "    }\n",
       "\n",
       "    .dataframe tbody tr th {\n",
       "        vertical-align: top;\n",
       "    }\n",
       "\n",
       "    .dataframe thead th {\n",
       "        text-align: right;\n",
       "    }\n",
       "</style>\n",
       "<table border=\"1\" class=\"dataframe\">\n",
       "  <thead>\n",
       "    <tr style=\"text-align: right;\">\n",
       "      <th></th>\n",
       "      <th>Unnamed: 0</th>\n",
       "      <th>id</th>\n",
       "      <th>mb_used</th>\n",
       "      <th>session_date</th>\n",
       "      <th>user_id</th>\n",
       "    </tr>\n",
       "  </thead>\n",
       "  <tbody>\n",
       "    <tr>\n",
       "      <th>0</th>\n",
       "      <td>0</td>\n",
       "      <td>1000_0</td>\n",
       "      <td>112.95</td>\n",
       "      <td>2018-11-25</td>\n",
       "      <td>1000</td>\n",
       "    </tr>\n",
       "    <tr>\n",
       "      <th>3</th>\n",
       "      <td>3</td>\n",
       "      <td>1000_3</td>\n",
       "      <td>550.27</td>\n",
       "      <td>2018-08-22</td>\n",
       "      <td>1000</td>\n",
       "    </tr>\n",
       "    <tr>\n",
       "      <th>2</th>\n",
       "      <td>2</td>\n",
       "      <td>1000_2</td>\n",
       "      <td>1197.26</td>\n",
       "      <td>2018-06-25</td>\n",
       "      <td>1000</td>\n",
       "    </tr>\n",
       "    <tr>\n",
       "      <th>1</th>\n",
       "      <td>1</td>\n",
       "      <td>1000_1</td>\n",
       "      <td>1052.81</td>\n",
       "      <td>2018-09-07</td>\n",
       "      <td>1000</td>\n",
       "    </tr>\n",
       "    <tr>\n",
       "      <th>4</th>\n",
       "      <td>4</td>\n",
       "      <td>1000_4</td>\n",
       "      <td>302.56</td>\n",
       "      <td>2018-09-24</td>\n",
       "      <td>1000</td>\n",
       "    </tr>\n",
       "  </tbody>\n",
       "</table>\n",
       "</div>"
      ],
      "text/plain": [
       "   Unnamed: 0      id  mb_used session_date  user_id\n",
       "0           0  1000_0   112.95   2018-11-25     1000\n",
       "3           3  1000_3   550.27   2018-08-22     1000\n",
       "2           2  1000_2  1197.26   2018-06-25     1000\n",
       "1           1  1000_1  1052.81   2018-09-07     1000\n",
       "4           4  1000_4   302.56   2018-09-24     1000"
      ]
     },
     "execution_count": 54,
     "metadata": {},
     "output_type": "execute_result"
    }
   ],
   "source": [
    "df_users = pd.read_csv('https://code.s3.yandex.net/datasets/messages.csv', nrows=5)\n",
    "df_users.sample(5, random_state=7)"
   ]
  },
  {
   "cell_type": "markdown",
   "metadata": {},
   "source": [
    "Изучим каждый столбец отдельно."
   ]
  },
  {
   "cell_type": "code",
   "execution_count": null,
   "metadata": {},
   "outputs": [
    {
     "data": {
      "text/html": [
       "<style type=\"text/css\">\n",
       "#T_097a9 caption {\n",
       "  font-size: 18px;\n",
       "  text-align: left;\n",
       "  font-weight: bold;\n",
       "}\n",
       "#T_097a9_row0_col0, #T_097a9_row0_col1, #T_097a9_row0_col2, #T_097a9_row0_col3, #T_097a9_row0_col4 {\n",
       "  text-align: left;\n",
       "}\n",
       "</style>\n",
       "<table id=\"T_097a9\">\n",
       "  <caption>DataFrame</caption>\n",
       "  <thead>\n",
       "    <tr>\n",
       "      <th id=\"T_097a9_level0_col0\" class=\"col_heading level0 col0\" >Rows</th>\n",
       "      <th id=\"T_097a9_level0_col1\" class=\"col_heading level0 col1\" >Features</th>\n",
       "      <th id=\"T_097a9_level0_col2\" class=\"col_heading level0 col2\" >RAM (Mb)</th>\n",
       "      <th id=\"T_097a9_level0_col3\" class=\"col_heading level0 col3\" >Duplicates</th>\n",
       "      <th id=\"T_097a9_level0_col4\" class=\"col_heading level0 col4\" >Dupl (sub - origin)</th>\n",
       "    </tr>\n",
       "  </thead>\n",
       "  <tbody>\n",
       "    <tr>\n",
       "      <td id=\"T_097a9_row0_col0\" class=\"data row0 col0\" >202 607</td>\n",
       "      <td id=\"T_097a9_row0_col1\" class=\"data row0 col1\" >4</td>\n",
       "      <td id=\"T_097a9_row0_col2\" class=\"data row0 col2\" >16</td>\n",
       "      <td id=\"T_097a9_row0_col3\" class=\"data row0 col3\" >---</td>\n",
       "      <td id=\"T_097a9_row0_col4\" class=\"data row0 col4\" >---</td>\n",
       "    </tr>\n",
       "  </tbody>\n",
       "</table>\n"
      ],
      "text/plain": [
       "<pandas.io.formats.style.Styler at 0x75deb5051b50>"
      ]
     },
     "metadata": {},
     "output_type": "display_data"
    }
   ],
   "source": [
    "gen = pagri_data_tools.info_gen(df_users)\n",
    "next(gen)"
   ]
  },
  {
   "cell_type": "code",
   "execution_count": null,
   "metadata": {},
   "outputs": [
    {
     "data": {
      "text/html": [
       "\n",
       "        <div style=\"display: flex; justify-content: flex-start; align-items: flex-end;\">\n",
       "            <style type=\"text/css\">\n",
       "#T_bade5 caption {\n",
       "  font-size: 16px;\n",
       "  text-align: left;\n",
       "  font-weight: bold;\n",
       "}\n",
       "#T_bade5_row0_col0, #T_bade5_row0_col1, #T_bade5_row0_col2, #T_bade5_row0_col3, #T_bade5_row0_col4, #T_bade5_row0_col5, #T_bade5_row0_col6, #T_bade5_row0_col7, #T_bade5_row0_col8, #T_bade5_row1_col0, #T_bade5_row1_col1, #T_bade5_row1_col2, #T_bade5_row1_col3, #T_bade5_row1_col4, #T_bade5_row1_col5, #T_bade5_row1_col6, #T_bade5_row1_col7, #T_bade5_row1_col8, #T_bade5_row2_col0, #T_bade5_row2_col1, #T_bade5_row2_col2, #T_bade5_row2_col3, #T_bade5_row2_col4, #T_bade5_row2_col5, #T_bade5_row2_col6, #T_bade5_row2_col7, #T_bade5_row2_col8, #T_bade5_row3_col0, #T_bade5_row3_col1, #T_bade5_row3_col2, #T_bade5_row3_col3, #T_bade5_row3_col4, #T_bade5_row3_col5, #T_bade5_row3_col6, #T_bade5_row3_col7, #T_bade5_row3_col8 {\n",
       "  text-align: left;\n",
       "}\n",
       "</style>\n",
       "<table id=\"T_bade5\">\n",
       "  <caption>Статистика столбца \"call_date\"</caption>\n",
       "  <thead>\n",
       "  </thead>\n",
       "  <tbody>\n",
       "    <tr>\n",
       "      <td id=\"T_bade5_row0_col0\" class=\"data row0 col0\" >First date</td>\n",
       "      <td id=\"T_bade5_row0_col1\" class=\"data row0 col1\" >2018-01-01 00:00:00</td>\n",
       "      <td id=\"T_bade5_row0_col2\" class=\"data row0 col2\" >                              </td>\n",
       "      <td id=\"T_bade5_row0_col3\" class=\"data row0 col3\" >Zeros</td>\n",
       "      <td id=\"T_bade5_row0_col4\" class=\"data row0 col4\" >---</td>\n",
       "      <td id=\"T_bade5_row0_col5\" class=\"data row0 col5\" >                              </td>\n",
       "      <td id=\"T_bade5_row0_col6\" class=\"data row0 col6\" >Years missing</td>\n",
       "      <td id=\"T_bade5_row0_col7\" class=\"data row0 col7\" >0%</td>\n",
       "      <td id=\"T_bade5_row0_col8\" class=\"data row0 col8\" >                              </td>\n",
       "    </tr>\n",
       "    <tr>\n",
       "      <td id=\"T_bade5_row1_col0\" class=\"data row1 col0\" >Last date</td>\n",
       "      <td id=\"T_bade5_row1_col1\" class=\"data row1 col1\" >2018-12-31 00:00:00</td>\n",
       "      <td id=\"T_bade5_row1_col2\" class=\"data row1 col2\" >                              </td>\n",
       "      <td id=\"T_bade5_row1_col3\" class=\"data row1 col3\" >Missing</td>\n",
       "      <td id=\"T_bade5_row1_col4\" class=\"data row1 col4\" >---</td>\n",
       "      <td id=\"T_bade5_row1_col5\" class=\"data row1 col5\" >                              </td>\n",
       "      <td id=\"T_bade5_row1_col6\" class=\"data row1 col6\" >Months missing</td>\n",
       "      <td id=\"T_bade5_row1_col7\" class=\"data row1 col7\" >0%</td>\n",
       "      <td id=\"T_bade5_row1_col8\" class=\"data row1 col8\" >                              </td>\n",
       "    </tr>\n",
       "    <tr>\n",
       "      <td id=\"T_bade5_row2_col0\" class=\"data row2 col0\" >Values</td>\n",
       "      <td id=\"T_bade5_row2_col1\" class=\"data row2 col1\" >202 607 (100%)</td>\n",
       "      <td id=\"T_bade5_row2_col2\" class=\"data row2 col2\" >                              </td>\n",
       "      <td id=\"T_bade5_row2_col3\" class=\"data row2 col3\" >Distinct</td>\n",
       "      <td id=\"T_bade5_row2_col4\" class=\"data row2 col4\" >365 (<1%)</td>\n",
       "      <td id=\"T_bade5_row2_col5\" class=\"data row2 col5\" >                              </td>\n",
       "      <td id=\"T_bade5_row2_col6\" class=\"data row2 col6\" >Weeks missing</td>\n",
       "      <td id=\"T_bade5_row2_col7\" class=\"data row2 col7\" >0%</td>\n",
       "      <td id=\"T_bade5_row2_col8\" class=\"data row2 col8\" >                              </td>\n",
       "    </tr>\n",
       "    <tr>\n",
       "      <td id=\"T_bade5_row3_col0\" class=\"data row3 col0\" >RAM (Mb)</td>\n",
       "      <td id=\"T_bade5_row3_col1\" class=\"data row3 col1\" >2</td>\n",
       "      <td id=\"T_bade5_row3_col2\" class=\"data row3 col2\" >                              </td>\n",
       "      <td id=\"T_bade5_row3_col3\" class=\"data row3 col3\" >Duplicates</td>\n",
       "      <td id=\"T_bade5_row3_col4\" class=\"data row3 col4\" >202 242 (99.8%)</td>\n",
       "      <td id=\"T_bade5_row3_col5\" class=\"data row3 col5\" >                              </td>\n",
       "      <td id=\"T_bade5_row3_col6\" class=\"data row3 col6\" >Days missing</td>\n",
       "      <td id=\"T_bade5_row3_col7\" class=\"data row3 col7\" >0%</td>\n",
       "      <td id=\"T_bade5_row3_col8\" class=\"data row3 col8\" >                              </td>\n",
       "    </tr>\n",
       "  </tbody>\n",
       "</table>\n",
       "\n",
       "        </div>\n",
       "        "
      ],
      "text/plain": [
       "<IPython.core.display.HTML object>"
      ]
     },
     "metadata": {},
     "output_type": "display_data"
    }
   ],
   "source": [
    "next(gen)"
   ]
  },
  {
   "cell_type": "code",
   "execution_count": null,
   "metadata": {},
   "outputs": [],
   "source": []
  },
  {
   "cell_type": "markdown",
   "metadata": {},
   "source": [
    "> Для дальнейшего анализа срауз приведем колонку education к нижнему регистру и удалим лишние пробелы\n"
   ]
  },
  {
   "cell_type": "markdown",
   "metadata": {},
   "source": [
    "Нужно проверить, что после нормализации категориальный тип остался прежний\n"
   ]
  },
  {
   "cell_type": "code",
   "execution_count": null,
   "metadata": {},
   "outputs": [
    {
     "data": {
      "text/plain": [
       "среднее                15233\n",
       "высшее                  5260\n",
       "неоконченное высшее      744\n",
       "начальное                282\n",
       "ученая степень             6\n",
       "Name: education, dtype: int64"
      ]
     },
     "execution_count": 3,
     "metadata": {},
     "output_type": "execute_result"
    }
   ],
   "source": [
    "df.education = pagri_prep.normalize_string_series(df.education)\n",
    "df.education.value_counts()"
   ]
  },
  {
   "cell_type": "code",
   "execution_count": null,
   "metadata": {},
   "outputs": [],
   "source": [
    "df.education.dtype"
   ]
  },
  {
   "cell_type": "markdown",
   "metadata": {},
   "source": [
    "> сделать предположения, почему могло так произойти, выдвигаем гипотезы\n"
   ]
  },
  {
   "cell_type": "markdown",
   "metadata": {},
   "source": [
    "> придумать способы проверки выдвинутых гипотез и записать\n"
   ]
  },
  {
   "cell_type": "markdown",
   "metadata": {},
   "source": [
    "> если у нас по оси x время, то проанализировать сезонность\n"
   ]
  },
  {
   "cell_type": "markdown",
   "metadata": {},
   "source": [
    "> подумать а так и должно было получиться, основываясь на понимании физики параметра\n"
   ]
  },
  {
   "cell_type": "markdown",
   "metadata": {},
   "source": [
    "> зафиксировать возможные рекомендации\n"
   ]
  },
  {
   "cell_type": "markdown",
   "metadata": {},
   "source": [
    "> Для гистограмм, нужно понять почему именно такое распределение метрики.  \n",
    "> Совпадет это с логикой этой метрики.\n"
   ]
  },
  {
   "cell_type": "markdown",
   "metadata": {},
   "source": [
    "> Также когда строим гистограммы и вайолин плот, то не просто фиксируем, что есть тяжелые хвосты, разброс между квартилями такой-то.  \n",
    "> А думаем почему так, пытаемся связать это с физикой параметра. Должно быть физическое объяснение всех аномалий.  \n",
    "> Если объяснения нет, то возможно это инсайт.\n"
   ]
  },
  {
   "cell_type": "markdown",
   "metadata": {},
   "source": [
    "> Важно убедиться, что у нас есть данные на все источники, которые заявлены. Например, мы изучаем источники трафика и у нас они в разных таблицах.  \n",
    "> Нужно убедиться, что во всех таблицах есть все источники, и проверить нет ли аномалий, возможно какой-то сильно выбивается или какого-то вообще где-то нет.\n"
   ]
  },
  {
   "cell_type": "markdown",
   "metadata": {},
   "source": [
    "> И очень важно сверить, что периоды в разных таблицах (если у нас больше одной таблицы) совпадают.\n"
   ]
  },
  {
   "cell_type": "markdown",
   "metadata": {},
   "source": [
    "> Важно проверить соответствуют ли временной период данных тому, который заявлен в задании,  \n",
    "> определиться что будем делать с неполными периодами.\n"
   ]
  },
  {
   "cell_type": "markdown",
   "metadata": {},
   "source": [
    "> Вообще, когда у нас несколько таблиц и там есть категориальные переменные или время, то  \n",
    "> мы должны взять уникальные значения категориальных переменных из каждой таблицы (одниаковые переменные) и сравнить.  \n",
    "> Количество уникальных должно совпадать, иначе нужно разбираться  \n",
    "> И с верменем как минимум мин и макс даты должны совпадать до дня, а лушше до минуты часа\n"
   ]
  },
  {
   "cell_type": "markdown",
   "metadata": {},
   "source": [
    "> Очень важно, если у нас есть стартовая дата чего-то и конечная, то обязательно нужно проверить,  \n",
    "> нет ли у нас записей, где конечная дата меньше стартовой.\n"
   ]
  },
  {
   "cell_type": "markdown",
   "metadata": {},
   "source": [
    "> Важная проверка, если у нас есть категории и даты, то сгруппировать по категориями и\n",
    "> вывести количество занчений, минимальную и максимальную дату  \n",
    "> Таким образом мы сразу поймем распределение в категории и  \n",
    "> увидем какие временные интервалы у каждой категории  \n",
    "> Если у нас все категории должны быть в один день, то мы поймем нет ли багов\n"
   ]
  },
  {
   "cell_type": "markdown",
   "metadata": {},
   "source": [
    "> Вообще очень важно смотреть не только на аномалии в значениях, но и аномалии в категориальных переменных.  \n",
    "> А тут аномалией будет отстутствие какого-то значения, хотя в описании или поставновке задачи оно есть.  \n",
    "> Также совпадение количества значений категориальных переменных в разных таблицах.\n"
   ]
  },
  {
   "cell_type": "markdown",
   "metadata": {},
   "source": [
    "> Внимательно посмотреть на столбцы, если есть столбцы, в которых могут быть потенциальные анамали, то проверить их.  \n",
    "> Например, есть столбец возрасти стаж работы, проверить, что возраст больше стажа.  \n",
    "> И подобные случаи.\n"
   ]
  },
  {
   "cell_type": "markdown",
   "metadata": {},
   "source": [
    "> Проверка на нарушения уникальности  \n",
    "> Убедить, что столбцы, значения в которых не должны повторяться и должны быть уникальными, такие в действительности.  \n",
    "> Смотрим на результат функции `my_info`\n"
   ]
  },
  {
   "cell_type": "markdown",
   "metadata": {},
   "source": [
    "> Проверка на ошибки целостности  \n",
    "> Если у нас есть столбцы, в которых значения должны совпдаать попарно, то проверяем на это  \n",
    "> `get_non_matching_rows`\n"
   ]
  },
  {
   "cell_type": "code",
   "execution_count": null,
   "metadata": {},
   "outputs": [],
   "source": [
    "pagri_data_tools.get_non_matching_rows()"
   ]
  },
  {
   "cell_type": "markdown",
   "metadata": {},
   "source": [
    "> Проверка условий  \n",
    "> Проверьте, что данные в датафрейме удовлетворяют определенным условиям, таким как \"возраст > 18\" или \"страна == 'Россия'\"\n"
   ]
  },
  {
   "cell_type": "markdown",
   "metadata": {},
   "source": [
    "#### Изучение дубликатов\n"
   ]
  },
  {
   "cell_type": "markdown",
   "metadata": {},
   "source": [
    "ВАЖНО  \n",
    "в временный файл записываем наблюдения по дубликатам, выбросам, нулевым, отрицательным значениям и пропусах,  \n",
    "которые нужны для обработки. Чтобы потом не бегать по отчету.  \n",
    "Записываем наблюдения, которые нужны для обработки, нарпимер, у нас есть записи с 0 комнат и мы их  \n",
    "изучили в разрезе площади и увидели что все они скорее всего студии и однокомнатыне.  \n",
    "Это нужно записать, чтобы в обработке заменить 0 на 1.  "
   ]
  },
  {
   "cell_type": "markdown",
   "metadata": {},
   "source": [
    "Вообще основная задача этого этапа изучения данных не только обнаружить дубли, аномалии, пропуски,  \n",
    "но и сформулировать гипотезы, которые помогут нам в обработке.   \n",
    "Поэтому думаем не только что видим, а думаем сразу как будем обрабатывать и как можно проверить гипотезы."
   ]
  },
  {
   "cell_type": "markdown",
   "metadata": {},
   "source": [
    "В дальшейших разделах изучения данных схема такая \n",
    "- смотрим каждый столбец \n",
    "- изучаем его аномалии по категориям\n",
    "- в процессе изучения по категориям стараемся определить закономерности, которые помогут обработать аномалии\n",
    "- для каждого столбца думаем как можно обработать аномалии, какие другие столбцы могут помочь определить закономерности.  \n",
    "- если определили числовой столбец, который может помочь, то сразу выдвигаем и проверяем гипотезу.  \n",
    "- и все записываем во временный файл, чтобы потом обрабатывать столбцы"
   ]
  },
  {
   "cell_type": "markdown",
   "metadata": {},
   "source": [
    "> Не забываем про ИИ.  \n",
    "> Пишем список столбцов (именно что они значат, то есть образование, пол и прочее), говорим, что есть дубли.  \n",
    "> И просим предложить причины этих дублей. Если видим важное, то используем для рекомендаций, выводов и замены дублей в предобработке.\n"
   ]
  },
  {
   "cell_type": "markdown",
   "metadata": {},
   "source": [
    "> Проверяем на дубли\n",
    "\n",
    "- Важно помнить, что если у нас есть id и название товара, то названия товара все равно нужно проверить на дубли,\n",
    "  > возможно у нас 2 ай ди с одним названием.\n",
    "- Также важно в каждой отдельной колонке проверить дубли и если их много, то посмотреть на соседние колонки, что там происходит\n",
    "- Дубликаты часто носят скрытый характер.\n",
    "  > То есть это могут быть поля, которые записаны по разному, но относятся к одному и тому же.  \n",
    "  > Поэтому важно, если у нас категориальный признак, изучить нет ли повторящихся категорий, которые записаны немного по разному.  \n",
    "  > Так как это создает шум, мы по сути имеем две разные категории, но на самом деле это одна. Нужно собрать их в одну.\n",
    "- И очень важно, если мы не подтвердили, что это действительно дубликат (например у нас нет ай ди клиента и мы не смогли выяснить один и тот же ли это человек),\n",
    "  > то нужно аккуратно удалять их. Но и оставлять много дублей плохо, так как они вносят шумы и искажения.\n",
    "- Помним, что наличие дубликата не говорит точно, что это дубль, возможно у нас нет ещё колонок, котоыре бы детализировали и разделили эти дубли.\n",
    "  > Поэтому тут могут быть рекомендации, чтобы добавли в фрейм доп колонки, которые помогут убрать дубли (либо сам ищешь ещё поля)\n"
   ]
  },
  {
   "cell_type": "markdown",
   "metadata": {},
   "source": [
    "> Когда смотрим на дубли, то нужно ответить на вопрос так и должно быть, это нормально, что дубли в этих колонках.  \n",
    "> Например у нас дубли во всех строках таблицы, нам нужно понять это может быть или этого не может быть, и нужно разбираться.  \n",
    "> Аналогично когда смотрим колонки по 2, 3 и так далее, то самое главное, ответить на вопрос дубли могут быть в этих колонках.  \n",
    "> Также когда разбиваем по категориям, задаем себе вопрос так могли распреедлеиться дубли.\n"
   ]
  },
  {
   "cell_type": "markdown",
   "metadata": {},
   "source": [
    "> `check_duplicated`  \n",
    "> `check_duplicated_combinations_gen`  \n",
    "> В первую функцию можно передавать весь датафрейм и можно выбирать нужные столбцы для проверки на дубли и передавать их.\n"
   ]
  },
  {
   "cell_type": "markdown",
   "metadata": {},
   "source": [
    "> Если мы нашли колонки в которых дубликатов не должно быть, то нужно изучить эти дубликаты по категориальным переменным в нашем датафрейме  \n",
    "> `pagri_data_tools.analyze_anomaly_by_category`\n"
   ]
  },
  {
   "cell_type": "code",
   "execution_count": null,
   "metadata": {},
   "outputs": [],
   "source": [
    "pagri_data_tools.analyze_anomaly_by_category(df, series_zeros, \"by_category\", \"rooms\", 'studio')"
   ]
  },
  {
   "cell_type": "markdown",
   "metadata": {},
   "source": [
    "**Наблюдения:**\n",
    "\n",
    "- Особых перекосов в сторону определенного значения в категории не наблюдается\n"
   ]
  },
  {
   "cell_type": "markdown",
   "metadata": {},
   "source": [
    "> Идем по порядку с помощью next(gen)  \n",
    "> если в выводе нет ничего интересного, то выше помещаем ячейку с таким содержимым\n",
    "> %%capture  \n",
    "> next(gen)  \n",
    "> снова выполняем next(gen), если снова ничего интересного то, к ячейке выше добавляем next(gen) будет так  \n",
    "> %%capture  \n",
    "> next(gen);next(gen)  \n",
    "> и так далее, пока не появится важная ячейка  \n",
    "> далее оставляем эту важную ячейку и снова повторяем с первого пункта,  \n",
    "> в итоге между ячейками с нужным выводом будут ячейки с запрещенным выводом и можно будет прогонять ноутбук весь целиком и выводы будут в нужнфх местах\n"
   ]
  },
  {
   "cell_type": "markdown",
   "metadata": {},
   "source": [
    "> Посмотрим на дубли во всем датафрейме\n"
   ]
  },
  {
   "cell_type": "code",
   "execution_count": null,
   "metadata": {},
   "outputs": [],
   "source": [
    "pagri_data_tools.check_duplicated(df)"
   ]
  },
  {
   "cell_type": "markdown",
   "metadata": {},
   "source": [
    "> Посмотрим сколько у нас дублей в каждой колонке\n"
   ]
  },
  {
   "cell_type": "code",
   "execution_count": null,
   "metadata": {},
   "outputs": [],
   "source": [
    "series_duplicated = pagri_data_tools.find_columns_with_duplicates(df)"
   ]
  },
  {
   "cell_type": "markdown",
   "metadata": {},
   "source": [
    "> Думаем какие столбцы должны быть уникальными и где дублей не должно быть.  \n",
    "> И их уже изучаем на дубли.\n"
   ]
  },
  {
   "cell_type": "markdown",
   "metadata": {},
   "source": [
    "> Можно посмотреть на строки датафрейма в колонках с дублями  \n",
    "> Это делаем, если есть время, так как этот шаг редко даст результат, так как на глаз сложно определить закономерности.  \n",
    "> Суть этого шага посмотреть на строки датафрейма в разных колонках с дублями и выдвинуть гипотезы с закономеностями в этих дублях\n",
    "> по очереди берем колонки и смотрим на датафреймы (записано рядом, чтобы показать, что не одну колонку только беерем)"
   ]
  },
  {
   "cell_type": "code",
   "execution_count": null,
   "metadata": {},
   "outputs": [],
   "source": [
    "col1_duplicated = series_duplicated['col1']\n",
    "col2_duplicated = series_duplicated['col2']"
   ]
  },
  {
   "cell_type": "code",
   "execution_count": null,
   "metadata": {},
   "outputs": [],
   "source": [
    "col1_duplicated.head()\n",
    "col2_duplicated.head()"
   ]
  },
  {
   "cell_type": "markdown",
   "metadata": {},
   "source": [
    "Важно подумать не только о одиночных столбцах, которые долны иметь уникальные значения.  \n",
    "Но обязательно подумать какие комбинации столбцов должны быть уникальными.  \n",
    "Если есть такие комбинации, то фильтруем датафрейм по этим столбцам и используем\n"
   ]
  },
  {
   "cell_type": "code",
   "execution_count": null,
   "metadata": {},
   "outputs": [],
   "source": [
    "filtered_df = df[['col1', 'col2']]\n",
    "pagri_data_tools.check_duplicated(filtered_df)"
   ]
  },
  {
   "cell_type": "markdown",
   "metadata": {},
   "source": [
    "> Если у нас есть столбцы в которых значения должны быть уникальными, то помещаем их в отдельный датафрейим и изучаем дальше.\n"
   ]
  },
  {
   "cell_type": "markdown",
   "metadata": {},
   "source": [
    "> когда изучаем по категориям, то смотрим на diff_sum_pct, тут логика такая -  \n",
    "нам нужно сравнить количество строк с пропусками в каждой категории, учитывая размер этой категории.  \n",
    "То есть если у нас категории например дорогие квартиры и дешевые (категориальная переменная нарпимер категория стоимости)  \n",
    "и в них соотношение пропусков 1000 к 500, а общее соотношение групп 700 на 800, то явно отличается количество.  \n",
    "Поэтому мы смотрим на отличия, и если они существенны, то делаем вывод, что категория влияет на пропуски.  \n",
    "Иначе пишем, что влияние не обнаружено.  "
   ]
  },
  {
   "cell_type": "code",
   "execution_count": null,
   "metadata": {},
   "outputs": [],
   "source": [
    "gen = pagri_data_tools.check_duplicated_combinations_gen()"
   ]
  },
  {
   "cell_type": "markdown",
   "metadata": {},
   "source": [
    "> смотрим по категориям"
   ]
  },
  {
   "cell_type": "markdown",
   "metadata": {},
   "source": [
    "> ВАЖНО - убедиться, что нет в ноутбуке `_gen_` (делаем ctrl+F и вбиваем `_gen_`)  \n",
    "ставим `_gen_` в том месте где хотим чтобы появились ячейки после работы в prep_dash  "
   ]
  },
  {
   "cell_type": "markdown",
   "metadata": {},
   "source": [
    "Строчку с созданием gen оставляем без is_dash, это для отчета,  \n",
    "И ниже пишем строчку с is_dash для создания dash app и потом ее удаляем"
   ]
  },
  {
   "cell_type": "markdown",
   "metadata": {},
   "source": [
    "Код появится после работы в dash"
   ]
  },
  {
   "cell_type": "code",
   "execution_count": null,
   "metadata": {},
   "outputs": [],
   "source": [
    "_gen_ "
   ]
  },
  {
   "cell_type": "markdown",
   "metadata": {},
   "source": [
    "ВАЖНО  \n",
    "добавить в приложение dash возможность писать код на питоне для работы с текущим датафреймом.  \n",
    "Это нужно чтобы изучить аномалии. То есть мы запускаем dash app.  \n",
    "Далее у нас для каждой колонки будут выводиться разбивки по категориям  \n",
    "Но дополнительно нужно будет проверять разные гипотезы, чтобы потом на основе этого обрабатывать данные.\n",
    "Для этого нужно иметь возможность выполнять код и видеть результат.  \n",
    "и чтобы можно было нужный код (который хотим поместить в отчет) сохранить также как next(gen)"
   ]
  },
  {
   "cell_type": "code",
   "execution_count": null,
   "metadata": {},
   "outputs": [],
   "source": [
    "import sys\n",
    "sys.path.append('/colab/pagri_private_modules')\n",
    "import pagri_dash\n",
    "gen = pagri_data_tools.analyze_by_category_gen(df, series_duplicated, is_dash=True)\n",
    "pagri_dash.prep_dash(gen, \"/colab/pagri-projects/quarto/projects/housing-ads-investigation/housing_ads_investigation.ipynb\")"
   ]
  },
  {
   "cell_type": "markdown",
   "metadata": {},
   "source": [
    "> Важно на дубли проверить и отдельные строки и целиком таблицу и подумать какие группы столбцов могут дать дубли и на это тоже проверить.\n"
   ]
  },
  {
   "cell_type": "markdown",
   "metadata": {},
   "source": [
    "> Если в дублях у нас есть ай ди клиента, то тут понятно, если нет ай ди, то пишем рекомендацию, чтобы данные приходили с ай ди,  \n",
    "> чтобы можно было понять это один человек или нет\n"
   ]
  },
  {
   "cell_type": "markdown",
   "metadata": {},
   "source": [
    "> Если у нас id пользователя встречается не одни раз в таблице и есть другие поля которые должны быть всегда одни и те же,  \n",
    "> напримем пол и прочее, то нужно проверить у всех ли пользователей все значения одинаковые в этом столбце.  \n",
    "> Это может быть не только ай ди, любое уникальное поле, которое повторяется и для каждого этого поля есть другое  \n",
    "> поле, которое не должно меняться, нужно проверять а действительно ли это поле не меняется.\n"
   ]
  },
  {
   "cell_type": "markdown",
   "metadata": {},
   "source": [
    "#### Изучение пропусков\n"
   ]
  },
  {
   "cell_type": "markdown",
   "metadata": {},
   "source": [
    "> Не забываем про ИИ.  \n",
    "> Пишем название столбца (именно что они значат, то есть образование, пол и прочее), говорим, что есть пропуски.  \n",
    "> И просим предложить причины этих пропусков. Если видим важное, то используем для рекомендаций, выводов и замены пропусков в предобработке.\n"
   ]
  },
  {
   "cell_type": "markdown",
   "metadata": {},
   "source": [
    "> Проверяем на пропуски\n"
   ]
  },
  {
   "cell_type": "markdown",
   "metadata": {},
   "source": [
    "> Когда смотрим на пропуски, то нужно ответить на вопрос так и должно быть, это нормально, что пропуски в этих колонках.  \n",
    "> Когда смотрим на пропуски по категориям, то думаем есть ли закономерность, не случайно ли распределение по категориям\n"
   ]
  },
  {
   "cell_type": "markdown",
   "metadata": {},
   "source": [
    "> Когда мы встречаем пропуски, прежде всего, нужно ответить на вопрос, существует ли закономерность в появлении пропусков.  \n",
    "> Иными словами, не случайно ли их возникновение в наборе данных.  \n",
    "> Случайно, значит нет закономерности с соседними столбцами, то есть пропуски есть для разных значений.  \n",
    "> А могут быть неслучайные, то есть существует явная закономерностЬ, что пропуски есть только у сторок с общими занчениями в другом столбце.  \n",
    "> Чтобы это проверить, нужно взять столбец с пропусками, отфильтровать только пропуски (взять их) и  \n",
    "> посмотреть как эти пропуски распределены по другой переменной.\n"
   ]
  },
  {
   "cell_type": "markdown",
   "metadata": {},
   "source": [
    "- Первое что нужно сделать, когда мы видим пропуск или выброс, это проверить является ли оно случайным.\n",
    "  > То есть посмотреть не относятся ли все выбросы к одной категории. Если это так, то это уже не случайно и мы нашли аномалию, которую можно изучать.  \n",
    "  > Если у нас случайны разброс пропусков в категориях, то значит тут есть случайность.  \n",
    "  > Например, у нас возраст 0, и мы видим, что больше всего это у женщин. Следовательно получаем гипотезу, что женщины не хотят сообщать свой возраст.\n",
    "- В пропусках мы можем определить какие категории, платформы и прочее не собираются данные. Смотрим пропуски, далее смотрим у каких категорий их больше,\n",
    "  > и получаем вывод, что нужно обратить внимание на эти категории или системы, почему там пропуски\n"
   ]
  },
  {
   "cell_type": "markdown",
   "metadata": {},
   "source": [
    "> `find_columns_with_missing_values`  \n",
    "> `check_na_in_both_columns`  \n",
    "> `analyze_by_category_gen`\n"
   ]
  },
  {
   "cell_type": "code",
   "execution_count": null,
   "metadata": {},
   "outputs": [
    {
     "data": {
      "text/html": [
       "<style type=\"text/css\">\n",
       "#T_eac9c_ caption {\n",
       "  font-size: 18px;\n",
       "  text-align: left;\n",
       "  font-weight: bold;\n",
       "}\n",
       "</style>\n",
       "<table id=\"T_eac9c_\">\n",
       "  <caption>Missings</caption>\n",
       "  <thead>\n",
       "  </thead>\n",
       "  <tbody>\n",
       "    <tr>\n",
       "      <th id=\"T_eac9c_level0_row0\" class=\"row_heading level0 row0\" >days_employed</th>\n",
       "      <td id=\"T_eac9c_row0_col0\" class=\"data row0 col0\" >2174 (10.10%)</td>\n",
       "    </tr>\n",
       "    <tr>\n",
       "      <th id=\"T_eac9c_level0_row1\" class=\"row_heading level0 row1\" >total_income</th>\n",
       "      <td id=\"T_eac9c_row1_col0\" class=\"data row1 col0\" >2174 (10.10%)</td>\n",
       "    </tr>\n",
       "  </tbody>\n",
       "</table>\n"
      ],
      "text/plain": [
       "<pandas.io.formats.style.Styler at 0x15835198>"
      ]
     },
     "metadata": {},
     "output_type": "display_data"
    }
   ],
   "source": [
    "series_missed = pagri_prep.find_columns_with_missing_values(df)"
   ]
  },
  {
   "cell_type": "markdown",
   "metadata": {},
   "source": [
    "> Можно посмотреть на строки датафрейма в колонках с пропусками  \n",
    "> Это делаем, если есть время, так как этот шаг редко даст результат, так как на глаз сложно определить закономерности.  \n",
    "> Суть этого шага посмотреть на строки датафрейма в разных колонках с пропусками и выдвинуть гипотезы с закономеностями в этих пропусках\n",
    "> по очереди берем колонки и смотрим на датафреймы (записано рядом, чтобы показать, что не одну колонку только беерем)\n"
   ]
  },
  {
   "cell_type": "code",
   "execution_count": null,
   "metadata": {},
   "outputs": [],
   "source": [
    "col1_missed = series_missed['col1']\n",
    "col2_missed = series_missed['col2']\n",
    "col1_missed.head()\n",
    "col2_missed.head()"
   ]
  },
  {
   "cell_type": "markdown",
   "metadata": {},
   "source": [
    "> Думаем какие столбцы связаны, и их лучше изучить вместе на пропуски.  \n",
    "> Смотрим на количество и процент пропусков в разных колонках и если они равны, то можно выдвинуть гипотезу, что пропуски совпадают\n",
    "> То есть у нас может появиться гипотеза, что пропуски в нескольких столбцах связаны между собой.  \n",
    "> Вот мы береме эти столбцы и смотрим сколько прпоусков в обеих колонках вместе, если это совпадает с пропусками в каждой колонке,  \n",
    "> то гипотеза подтвердилась.\n"
   ]
  },
  {
   "cell_type": "markdown",
   "metadata": {},
   "source": [
    "> Пример  \n",
    "Можно заметить, что количество пропусков в колонке с количеством парков рядом и количеством прудов рядом совпадает.  \n",
    "Выдвигаем гипотезу, что пропуски в одних и тех же строках в обоих столбцах.  "
   ]
  },
  {
   "cell_type": "markdown",
   "metadata": {},
   "source": [
    "> Проверим эту гипотезу, для этого посмотрим сколько пропусков в обоих колонках вместе\n"
   ]
  },
  {
   "cell_type": "code",
   "execution_count": null,
   "metadata": {},
   "outputs": [],
   "source": [
    "df_na_in_both_columns = pagri_data_tools.check_na_in_both_columns(df, ['parks_around3000', 'ponds_around3000'])\n",
    "df_na_in_both_columns.sample(10)"
   ]
  },
  {
   "cell_type": "markdown",
   "metadata": {},
   "source": [
    "Смотрим на строки не только всего датафрейма, но и только на выбранные строки.  "
   ]
  },
  {
   "cell_type": "code",
   "execution_count": null,
   "metadata": {},
   "outputs": [],
   "source": [
    "series_missed['living_area'][['total_area', 'living_area', 'kitchen_area']].sample(10)"
   ]
  },
  {
   "cell_type": "markdown",
   "metadata": {},
   "source": [
    "**Гипотеза подтвердилась**:\n",
    "- Пропуски в одних и тех же строках в колонках с количеством парков рядом, количеством прудов рядом совпадает,  \n",
    "растоянием до центра, растоянием до аэропорта примерно равны  "
   ]
  },
  {
   "cell_type": "markdown",
   "metadata": {},
   "source": [
    "Посмотрим как распределены пропуски по категориям в строках, где прпоуски одновременно в этих столбцах.  "
   ]
  },
  {
   "cell_type": "code",
   "execution_count": null,
   "metadata": {},
   "outputs": [],
   "source": [
    "gen = pagri_data_tools.analys_filtered_df_by_category(df, df_na_in_both_columns, 'df with na')"
   ]
  },
  {
   "cell_type": "markdown",
   "metadata": {},
   "source": [
    "Если хотим показать только часть из gen, то подставляем нужные категории в эту функцию  \n"
   ]
  },
  {
   "cell_type": "code",
   "execution_count": null,
   "metadata": {},
   "outputs": [],
   "source": [
    "pagri_data_tools.analyze_share_by_category(df, df_na_in_both_columns, 'df with na', 'is_apartment')"
   ]
  },
  {
   "cell_type": "markdown",
   "metadata": {},
   "source": [
    "> Изучаем пропуски по категориям\n"
   ]
  },
  {
   "cell_type": "markdown",
   "metadata": {},
   "source": [
    "> ВАЖНО - убедиться, что нет в ноутбуке `_gen_` (делаем ctrl+F и вбиваем `_gen_`)  \n",
    "ставим `_gen_` в том месте где хотим чтобы появились ячейки после работы в prep_dash  "
   ]
  },
  {
   "cell_type": "markdown",
   "metadata": {},
   "source": [
    "Строчку с созданием gen оставляем без is_dash, это для отчета,  \n",
    "И ниже пишем строчку с is_dash для создания dash app и потом ее удаляем"
   ]
  },
  {
   "cell_type": "code",
   "execution_count": null,
   "metadata": {},
   "outputs": [],
   "source": [
    "_gen_ "
   ]
  },
  {
   "cell_type": "code",
   "execution_count": null,
   "metadata": {},
   "outputs": [],
   "source": [
    "import sys\n",
    "sys.path.append('/colab/pagri_private_modules')\n",
    "import pagri_dash\n",
    "gen = pagri_data_tools.analyze_by_category_gen(df, series_missed, is_dash=True)\n",
    "pagri_dash.prep_dash(gen, \"/colab/pagri-projects/quarto/projects/housing-ads-investigation/housing_ads_investigation.ipynb\")"
   ]
  },
  {
   "cell_type": "markdown",
   "metadata": {},
   "source": [
    "> когда изучаем по категориям, то смотрим на diff_sum_pct, тут логика такая -  \n",
    "нам нужно сравнить количество строк с пропусками в каждой категории, учитывая размер этой категории.  \n",
    "То есть если у нас категории например дорогие квартиры и дешевые (категориальная переменная нарпимер категория стоимости)  \n",
    "и в них соотношение пропусков 1000 к 500, а общее соотношение групп 700 на 800, то явно отличается количество.  \n",
    "Поэтому мы смотрим на отличия, и если они существенны, то делаем вывод, что категория влияет на пропуски.  \n",
    "Иначе пишем, что влияние не обнаружено.  "
   ]
  },
  {
   "cell_type": "markdown",
   "metadata": {},
   "source": [
    "> Смотрим на все поля  \n",
    "> in_category_pct говорит о том сколько в этом значении категории изучаемых значений  \n",
    "> in_column_pct говорит о том сколько процентов изучаемого значения данного значения категории в общем  \n",
    "> total_count_pct помогает анализировать in_column_pct, так как мы видим сколько занимает это значение в общем\n"
   ]
  },
  {
   "cell_type": "markdown",
   "metadata": {},
   "source": [
    "#### Изучение выбросов\n"
   ]
  },
  {
   "cell_type": "markdown",
   "metadata": {},
   "source": [
    "ВАЖНО   \n",
    "когда изучаем выбросы, нулевые и отрицательные значения, то нужно сразу проверять гипотезы.  \n",
    "То есть если у нас нарпимер 0 команат, то мы выдвигаем гипотезу, что это студии и однокомнатыне и если у нас есть площадь или  \n",
    "другой паарметр по которому мы можем проверить гипотезу, то проверяем.  \n",
    "Также с другими параметрами.  \n",
    "Именно тут в изучении данных мы должны выдвигать гипотезы и проверять их.  \n",
    "И результаты писать в отчет и во верменный файл, чтобы потом в обработке данных использовать эти выводы гиптоез для замены пропусков.  "
   ]
  },
  {
   "cell_type": "markdown",
   "metadata": {},
   "source": [
    "Не забываем изучать по категориям сильно низкие и сильно высокие знения.  \n",
    "Например, если у нас цены на квартиры, то нужно посмотреть по категории населенный пункт.  \n",
    "Так как мы сможем понять в этом населенном пункте могут быть такие занчения или нет.  \n",
    "Аналогично и не с населенными пунктами.  \n",
    "Наша задача - определить какая категориальная переменная характеризует переменную с выбросами.  \n",
    "И посмотреть в ее разрезе, что поможет нам понять, что это за выбросы."
   ]
  },
  {
   "cell_type": "markdown",
   "metadata": {},
   "source": [
    "> Не забываем про ИИ.  \n",
    "> Пишем название столбца (именно что они значат, то есть образование, пол и прочее), говорим, что есть выбросы.  \n",
    "> Обязательно приводим значения выбросов, самые характерные, чтобы дать ИИ болше информации.\n",
    "> И просим предложить причины этих выбросов. Если видим важное, то используем для рекомендаций, выводов и замены выбросов в предобработке.\n"
   ]
  },
  {
   "cell_type": "markdown",
   "metadata": {},
   "source": [
    "> Когда смотрим на выбросы, то нужно ответить на вопрос так и должно быть, это нормально, что выбросы в этих колонках.\n"
   ]
  },
  {
   "cell_type": "markdown",
   "metadata": {},
   "source": [
    "- Выбросы это не только просто сильно большое или сильно маленькое значение.\n",
    "- Выбросы нужно также смотреть по мультипараметрам, с помощью моделей и искать аномалии.\n",
    "- Выброс это то, что отделяется от других, что выбивается из общей картины. Следовательно это что-то особенное.\n",
    "- Тажке выбросы говорят не только о плюсах, но и о минусах. Выбросы могут сказать, что у нас что-то сломалось.\n",
    "  > Что-то не записывается, или работает с багами. Все это можно увдитеь по выбрасам и аномалиям.\n",
    "- Обязательно посмотреть выбросы в разрезе категорий, так как мы сможем сделать выводы об их источнике.\n",
    "- Если мы работаем со строгой отчетностью, то тут любой выброс это уже инсайт и нужно идти разбираться откуда это взялось.\n"
   ]
  },
  {
   "cell_type": "markdown",
   "metadata": {},
   "source": [
    "> Если мы во время изучения данных выявили потенциальные выбросы, то нужно их отдельно изучить.  \n",
    "> Для этого создаем датафрейм с нужными значениями и помещаем его в `Series`,  \n",
    "> индекс это название колонки, в которой мы изучаем выброс.  \n",
    "> Далее отдаем этот `Series` в функцию `analyze_by_category_gen`.\n"
   ]
  },
  {
   "cell_type": "markdown",
   "metadata": {},
   "source": [
    "> Сначала изучим потенциальные выбросы, которые мы выявили при изучении колонок.  \n",
    "> У нас в количестве детей есть значение 20.  \n",
    "> Изучим его подробнее.\n"
   ]
  },
  {
   "cell_type": "markdown",
   "metadata": {},
   "source": [
    "> Важно при изучении колонок записывать выбросы отдельно и потом коппировать сюда.  \n",
    "> А тут нужно изучить эти значения отдельно.\n"
   ]
  },
  {
   "cell_type": "markdown",
   "metadata": {},
   "source": [
    "> когда изучаем по категориям, то смотрим на diff_sum_pct, тут логика такая -  \n",
    "нам нужно сравнить количество строк с пропусками в каждой категории, учитывая размер этой категории.  \n",
    "То есть если у нас категории например дорогие квартиры и дешевые (категориальная переменная нарпимер категория стоимости)  \n",
    "и в них соотношение пропусков 1000 к 500, а общее соотношение групп 700 на 800, то явно отличается количество.  \n",
    "Поэтому мы смотрим на отличия, и если они существенны, то делаем вывод, что категория влияет на пропуски.  \n",
    "Иначе пишем, что влияние не обнаружено.  "
   ]
  },
  {
   "cell_type": "markdown",
   "metadata": {},
   "source": [
    "Строчку с созданием gen оставляем без is_dash, это для отчета,  \n",
    "И ниже пишем строчку с is_dash для создания dash app и потом ее удаляем"
   ]
  },
  {
   "cell_type": "markdown",
   "metadata": {},
   "source": [
    "> ВАЖНО - убедиться, что нет в ноутбуке `_gen_` (делаем ctrl+F и вбиваем `_gen_`)  \n",
    "ставим `_gen_` в том месте где хотим чтобы появились ячейки после работы в prep_dash  "
   ]
  },
  {
   "cell_type": "markdown",
   "metadata": {},
   "source": [
    "Если выбросов мало (меньше 10), то лучше просто показать датафрейм с этими выбросами и написать наблюдения.  "
   ]
  },
  {
   "cell_type": "code",
   "execution_count": null,
   "metadata": {},
   "outputs": [],
   "source": [
    "series_outliers = pd.Series([df[df.children == 20]], index=['children'])"
   ]
  },
  {
   "cell_type": "code",
   "execution_count": null,
   "metadata": {},
   "outputs": [],
   "source": [
    "_gen_ "
   ]
  },
  {
   "cell_type": "code",
   "execution_count": null,
   "metadata": {},
   "outputs": [],
   "source": [
    "import sys\n",
    "sys.path.append('/colab/pagri_private_modules')\n",
    "import pagri_dash\n",
    "gen = pagri_data_tools.analyze_by_category_gen(df, series_outliers, is_dash=True)\n",
    "pagri_dash.prep_dash(gen, \"/colab/pagri-projects/quarto/projects/housing-ads-investigation/housing_ads_investigation.ipynb\")"
   ]
  },
  {
   "cell_type": "markdown",
   "metadata": {},
   "source": [
    "> Смотрим на выбросы используя Z-score  \n",
    "> `detect_outliers_Zscore`\n"
   ]
  },
  {
   "cell_type": "code",
   "execution_count": null,
   "metadata": {},
   "outputs": [],
   "source": [
    "series_outliers = pagri_data_tools.detect_outliers_Zscore()\n",
    "# сначала смотрим на значения с большим количеством выбросов\n",
    "series_outliers['col'].col.value_counts().to_frame('outliers')\n",
    "# затем уже изучаем определенные датафреймы в series_outliers\n",
    "series_outliers['col'].head()"
   ]
  },
  {
   "cell_type": "markdown",
   "metadata": {},
   "source": [
    "Строчку с созданием gen оставляем без is_dash, это для отчета,  \n",
    "И ниже пишем строчку с is_dash для создания dash app и потом ее удаляем"
   ]
  },
  {
   "cell_type": "code",
   "execution_count": null,
   "metadata": {},
   "outputs": [],
   "source": [
    "_gen_ "
   ]
  },
  {
   "cell_type": "code",
   "execution_count": null,
   "metadata": {},
   "outputs": [],
   "source": [
    "import sys\n",
    "sys.path.append('/colab/pagri_private_modules')\n",
    "import pagri_dash\n",
    "gen = pagri_data_tools.analyze_by_category_gen(df, series_outliers, is_dash=True)\n",
    "pagri_dash.prep_dash(gen, \"/colab/pagri-projects/quarto/projects/housing-ads-investigation/housing_ads_investigation.ipynb\")"
   ]
  },
  {
   "cell_type": "markdown",
   "metadata": {},
   "source": [
    "> Смотрим на выбросы используя квантили  \n",
    "> `detect_outliers_quantile`\n"
   ]
  },
  {
   "cell_type": "code",
   "execution_count": null,
   "metadata": {},
   "outputs": [],
   "source": [
    "series_outliers = pagri_data_tools.detect_outliers_quantile(df)"
   ]
  },
  {
   "cell_type": "markdown",
   "metadata": {},
   "source": [
    "Строчку с созданием gen оставляем без is_dash, это для отчета,  \n",
    "И ниже пишем строчку с is_dash для создания dash app и потом ее удаляем"
   ]
  },
  {
   "cell_type": "code",
   "execution_count": null,
   "metadata": {},
   "outputs": [],
   "source": [
    "_gen_ "
   ]
  },
  {
   "cell_type": "code",
   "execution_count": null,
   "metadata": {},
   "outputs": [],
   "source": [
    "import sys\n",
    "sys.path.append('/colab/pagri_private_modules')\n",
    "import pagri_dash\n",
    "gen = pagri_data_tools.analyze_by_category_gen(df, series_outliers, is_dash=True)\n",
    "pagri_dash.prep_dash(gen, \"/colab/pagri-projects/quarto/projects/housing-ads-investigation/housing_ads_investigation.ipynb\")"
   ]
  },
  {
   "cell_type": "markdown",
   "metadata": {},
   "source": [
    "> Посмотрим на строки датафрейма с выбросами\n"
   ]
  },
  {
   "cell_type": "code",
   "execution_count": null,
   "metadata": {},
   "outputs": [],
   "source": [
    "col1_outliers = series_outliers['col1']\n",
    "col2_outliers = series_outliers['col2']"
   ]
  },
  {
   "cell_type": "code",
   "execution_count": null,
   "metadata": {},
   "outputs": [],
   "source": [
    "col1_outliers.head()\n",
    "col2_outliers.head()"
   ]
  },
  {
   "cell_type": "markdown",
   "metadata": {},
   "source": [
    "> Изучить выбросы по категориями  \n",
    "> `analyze_by_category_gen`\n"
   ]
  },
  {
   "cell_type": "markdown",
   "metadata": {},
   "source": [
    "> Смотрим на все поля  \n",
    "> `in_category_pct` говорит о том сколько в этом значении категории изучаемых значений  \n",
    "> `in_column_pct` говорит о том сколько процентов изучаемого значения данного значения категории в общем  \n",
    "> `total_count_pct` помогает анализировать `in_column_pct`, так как мы видим сколько занимает это значение в общем\n"
   ]
  },
  {
   "cell_type": "markdown",
   "metadata": {},
   "source": [
    "Строчку с созданием gen оставляем без is_dash, это для отчета,  \n",
    "И ниже пишем строчку с is_dash для создания dash app и потом ее удаляем"
   ]
  },
  {
   "cell_type": "code",
   "execution_count": null,
   "metadata": {},
   "outputs": [],
   "source": [
    "_gen_ "
   ]
  },
  {
   "cell_type": "code",
   "execution_count": null,
   "metadata": {},
   "outputs": [],
   "source": [
    "import sys\n",
    "sys.path.append('/colab/pagri_private_modules')\n",
    "import pagri_dash\n",
    "gen = pagri_data_tools.analyze_by_category_gen(df, series_outliers, is_dash=True)\n",
    "pagri_dash.prep_dash(gen, \"/colab/pagri-projects/quarto/projects/housing-ads-investigation/housing_ads_investigation.ipynb\")"
   ]
  },
  {
   "cell_type": "markdown",
   "metadata": {},
   "source": [
    "Если переменная распределенна нормально, то выбросы можно определить как точки за пределами плюс минус 3 стандартных отклонения.  "
   ]
  },
  {
   "cell_type": "markdown",
   "metadata": {},
   "source": [
    "Написать функцию для определения выбросов через 3 стандартных отклонения."
   ]
  },
  {
   "cell_type": "markdown",
   "metadata": {},
   "source": [
    "#### Изучение отрицательных значений\n"
   ]
  },
  {
   "cell_type": "markdown",
   "metadata": {},
   "source": [
    "> Не забываем про ИИ.  \n",
    "> Пишем название столбца (именно что они значат, то есть образование, пол и прочее), говорим, что есть отрицательные значения там где их быть не должно.  \n",
    "> Обязательно приводим значения, самые характерные, чтобы дать ИИ болше информации.\n",
    "> И просим предложить причины этих отрицательных значений. Если видим важное, то используем для рекомендаций, выводов и замены отрицательных значений в предобработке.\n"
   ]
  },
  {
   "cell_type": "markdown",
   "metadata": {},
   "source": [
    "> Очень важно, если у нас есть столбец, в котором не должно быть отрицательных значений, то нам нужно отдельно изучить положительные и отрицательные значения.  \n",
    "> И те и те посмотреть по категориям.  \n",
    "> И на основе этого изучения мы моежм заметить причины отрицательных значений.  \n",
    "> Например, в колонке стажа у нас очень много отрицательных значений и есть положительные значения.  \n",
    "> Мы отдельно посмотрели отрицательные значения и они в основном принадлежат работающим людям.  \n",
    "> А положительные пренадлежат пенсионерам.  \n",
    "> Важно и полоительные и отрицательные значения посмотреть их макс и мин.  \n",
    "> Вот мы для стажа посмотрели макси и мин и видим, что отрицательные значения похожи на реальные значения в годах.  \n",
    "> А вот положительные слишком большие, и далее мы поняли, что это данные в часах.  \n",
    "> В итоге у нас уже много предположений, которые помогут выяснить откуда появляются странные данные в этом столбце.  \n",
    "> К тому же мы можем попробовать заменить отрицательные значения, если у нас есть уверенность на основе анализа.\n"
   ]
  },
  {
   "cell_type": "markdown",
   "metadata": {},
   "source": [
    "> Изучаем отрицательные значения\n"
   ]
  },
  {
   "cell_type": "code",
   "execution_count": null,
   "metadata": {},
   "outputs": [],
   "source": [
    "series_negative = pagri_data_tools.find_columns_with_negative_values(df)"
   ]
  },
  {
   "cell_type": "markdown",
   "metadata": {},
   "source": [
    "> Определяем в каких колонках не должно быть орицательных значений.  \n",
    "> Колонки в которых допустимы отрицательные значения удаляем из `series_negative`\n"
   ]
  },
  {
   "cell_type": "markdown",
   "metadata": {},
   "source": [
    "> Изучим отрицательные значения в разрезе категорий\n"
   ]
  },
  {
   "cell_type": "markdown",
   "metadata": {},
   "source": [
    "> Смотрим на все поля  \n",
    "> in_category_pct говорит о том сколько в этом значении категории изучаемых значений  \n",
    "> in_column_pct говорит о том сколько процентов изучаемого значения данного значения категории в общем  \n",
    "> total_count_pct помогает анализировать in_column_pct, так как мы видим сколько занимает это значение в общем\n"
   ]
  },
  {
   "cell_type": "markdown",
   "metadata": {},
   "source": [
    "> когда изучаем по категориям, то смотрим на diff_sum_pct, тут логика такая -  \n",
    "нам нужно сравнить количество строк с пропусками в каждой категории, учитывая размер этой категории.  \n",
    "То есть если у нас категории например дорогие квартиры и дешевые (категориальная переменная нарпимер категория стоимости)  \n",
    "и в них соотношение пропусков 1000 к 500, а общее соотношение групп 700 на 800, то явно отличается количество.  \n",
    "Поэтому мы смотрим на отличия, и если они существенны, то делаем вывод, что категория влияет на пропуски.  \n",
    "Иначе пишем, что влияние не обнаружено.  "
   ]
  },
  {
   "cell_type": "markdown",
   "metadata": {},
   "source": [
    "> ВАЖНО - убедиться, что нет в ноутбуке `_gen_` (делаем ctrl+F и вбиваем `_gen_`)  \n",
    "ставим `_gen_` в том месте где хотим чтобы появились ячейки после работы в prep_dash  "
   ]
  },
  {
   "cell_type": "markdown",
   "metadata": {},
   "source": [
    "Строчку с созданием gen оставляем без is_dash, это для отчета,  \n",
    "И ниже пишем строчку с is_dash для создания dash app и потом ее удаляем"
   ]
  },
  {
   "cell_type": "code",
   "execution_count": null,
   "metadata": {},
   "outputs": [],
   "source": [
    "_gen_ "
   ]
  },
  {
   "cell_type": "code",
   "execution_count": null,
   "metadata": {},
   "outputs": [],
   "source": [
    "import sys\n",
    "sys.path.append('/colab/pagri_private_modules')\n",
    "import pagri_dash\n",
    "gen = pagri_data_tools.analyze_by_category_gen(df, series_negative, is_dash=True)\n",
    "pagri_dash.prep_dash(gen, \"/colab/pagri-projects/quarto/projects/housing-ads-investigation/housing_ads_investigation.ipynb\")"
   ]
  },
  {
   "cell_type": "markdown",
   "metadata": {},
   "source": [
    "#### Изучение нулевых значений\n"
   ]
  },
  {
   "cell_type": "markdown",
   "metadata": {},
   "source": [
    "Помним, что важно выдвигать гипотезы и потом их проверять.   \n",
    "Например так  \n",
    "Выдвинем гипотезу, что 0 комнат у студий и однокомнатных.  \n",
    "Проверим гипотезу по полощади.  "
   ]
  },
  {
   "cell_type": "markdown",
   "metadata": {},
   "source": [
    "> Не забываем про ИИ.  \n",
    "> Пишем название столбца (именно что они значат, то есть образование, пол и прочее), говорим, что есть нули там, гед их быть не должно.  \n",
    "> И просим предложить причины этих нулей. Если видим важное, то используем для рекомендаций, выводов и замены нулей в предобработке.\n"
   ]
  },
  {
   "cell_type": "markdown",
   "metadata": {},
   "source": [
    "> Изучаем нулевые значения\n"
   ]
  },
  {
   "cell_type": "code",
   "execution_count": null,
   "metadata": {},
   "outputs": [],
   "source": [
    "series_zeros = pagri_data_tools.find_columns_with_zeros_values(df)"
   ]
  },
  {
   "cell_type": "markdown",
   "metadata": {},
   "source": [
    "> Определяем в каких колонках не должно быть нулевых значений.  \n",
    "> Колонки в которых допустимы нулевые значения удаляем из `series_negative`\n"
   ]
  },
  {
   "cell_type": "code",
   "execution_count": null,
   "metadata": {},
   "outputs": [
    {
     "data": {
      "text/plain": [
       "dob_years           children  days_employed  dob_years educ...\n",
       "dtype: object"
      ]
     },
     "metadata": {},
     "output_type": "display_data"
    }
   ],
   "source": [
    "series_zeros = series_zeros.drop('children')\n",
    "series_zeros = series_zeros.loc[['rooms', 'airports_nearest']]\n",
    "series_zeros"
   ]
  },
  {
   "cell_type": "markdown",
   "metadata": {},
   "source": [
    "> Изучим нулевые значения в разрезе категорий\n"
   ]
  },
  {
   "cell_type": "markdown",
   "metadata": {},
   "source": [
    "> когда изучаем по категориям, то смотрим на diff_sum_pct, тут логика такая -  \n",
    "нам нужно сравнить количество строк с пропусками в каждой категории, учитывая размер этой категории.  \n",
    "То есть если у нас категории например дорогие квартиры и дешевые (категориальная переменная нарпимер категория стоимости)  \n",
    "и в них соотношение пропусков 1000 к 500, а общее соотношение групп 700 на 800, то явно отличается количество.  \n",
    "Поэтому мы смотрим на отличия, и если они существенны, то делаем вывод, что категория влияет на пропуски.  \n",
    "Иначе пишем, что влияние не обнаружено.  "
   ]
  },
  {
   "cell_type": "markdown",
   "metadata": {},
   "source": [
    "> Смотрим на все поля  \n",
    "> in_category_pct говорит о том сколько в этом значении категории изучаемых значений  \n",
    "> in_column_pct говорит о том сколько процентов изучаемого значения данного значения категории в общем  \n",
    "> total_count_pct помогает анализировать in_column_pct, так как мы видим сколько занимает это значение в общем\n"
   ]
  },
  {
   "cell_type": "markdown",
   "metadata": {},
   "source": [
    "> ВАЖНО - убедиться, что нет в ноутбуке `_gen_` (делаем ctrl+F и вбиваем `_gen_`)  \n",
    "ставим `_gen_` в том месте где хотим чтобы появились ячейки после работы в prep_dash  "
   ]
  },
  {
   "cell_type": "markdown",
   "metadata": {},
   "source": [
    "Строчку с созданием gen оставляем без is_dash, это для отчета,  \n",
    "И ниже пишем строчку с is_dash для создания dash app и потом ее удаляем"
   ]
  },
  {
   "cell_type": "code",
   "execution_count": null,
   "metadata": {},
   "outputs": [],
   "source": [
    "_gen_ "
   ]
  },
  {
   "cell_type": "code",
   "execution_count": null,
   "metadata": {},
   "outputs": [],
   "source": [
    "import sys\n",
    "sys.path.append('/colab/pagri_private_modules')\n",
    "import pagri_dash\n",
    "gen = pagri_data_tools.analyze_by_category_gen(df, series_zeros, is_dash=True)\n",
    "pagri_dash.prep_dash(gen, \"/colab/pagri-projects/quarto/projects/housing-ads-investigation/housing_ads_investigation.ipynb\")"
   ]
  },
  {
   "cell_type": "markdown",
   "metadata": {},
   "source": [
    "> После изучения данных у нас могут возникнуть вопросы по определенным значениям, это возможно не выбросы,  \n",
    "> мы просто хотим подробнее их изучить.  \n",
    "> Для этого создаем датафрейм с нужными значениями и помещаем его в `Series`,  \n",
    "> индекс это название колонки, в которой мы изучаем выброс.  \n",
    "> Далее отдаем этот `Series` в функцию `analyze_by_category_gen`.  \n",
    "> Нужно сделать специальную функцию для этого, чтобы не использовать `analyze_by_category_gen`\n"
   ]
  },
  {
   "cell_type": "code",
   "execution_count": null,
   "metadata": {},
   "outputs": [],
   "source": [
    "check_series = pd.Series([df[df.col_for_check == value_for_check]], index=['col_for_check'])\n",
    "gen = pagri_data_tools.analyze_by_category_gen(df, check_series)\n",
    "next(gen)"
   ]
  },
  {
   "cell_type": "markdown",
   "metadata": {},
   "source": [
    "> Также мы можем изучить любые столбцы (или часть столбцов) по категориям.  \n",
    "> То есть мы изучаем как распределены элементы по категориям\n"
   ]
  },
  {
   "cell_type": "code",
   "execution_count": null,
   "metadata": {},
   "outputs": [],
   "source": [
    "check_series = pd.Series([df[df.col_for_check == value_for_check]], index=['col_for_check'])\n",
    "gen = pagri_data_tools.analyze_by_category_gen(df, check_series)\n",
    "next(gen)"
   ]
  },
  {
   "cell_type": "markdown",
   "metadata": {},
   "source": [
    "> Сделать функцию определения выбросов на основе машинного обучения\n"
   ]
  },
  {
   "cell_type": "markdown",
   "metadata": {},
   "source": [
    "> Дополнительные моменты, которые стоит проверить и изучить\n",
    "\n",
    "- Проверить на сложные выбросы, типа у нас есть статус и возраст и мы видим что студент имеет возраст 60 лет, это реально, но уже подозрительно.\n",
    "  > Вот таких моментов может быть много, но нужно додуматься, чтобы найти такие комбинации, но это важно делать.\n",
    "- важно проверить на корректность данные, то есть смотрим по отдельности каждый столбец и изучаем мин, макс, и другие параметры, и\n",
    "  > думаем, это физически реально. И особенно, когда у нас несколько связаных параметров, нет ли между ними противоречия.  \n",
    "  > Например, у нас есть дата показа рекламы и есть дата создания рекламы, естественно создание должно быть раньше, это нужно проверить.\n",
    "- Проверяем данные ошибки\n",
    "  > Ошибки которые не являются дублями, пропусками или выбросами.  \n",
    "  > Это сложно сделать, хотя бы заметить явные ошибки\n",
    "- Проверить на ошибки согласованности\n",
    "  > Например, у нас пользователь с одним ай ди имеет разные имена.\n",
    "  > `display(df.groupby('name')['age'].nunique())`\n",
    "- вообще нужно придумать разные проверки для колонок, особенно связанных. И провести эту проверку.\n"
   ]
  },
  {
   "cell_type": "markdown",
   "metadata": {},
   "source": [
    "### Промежуточный вывод\n"
   ]
  },
  {
   "cell_type": "markdown",
   "metadata": {},
   "source": [
    "> Из наблюдений собираем важные выводы\n"
   ]
  },
  {
   "cell_type": "markdown",
   "metadata": {},
   "source": [
    "Тут помещаем все наблюдения про диапазоны столбцов, основные диапазон и медианы с модами.  \n",
    "Чтобы в конце скопировать отсюда и составить уже общий вывод.  "
   ]
  },
  {
   "cell_type": "markdown",
   "id": "portable-collect",
   "metadata": {},
   "source": [
    "> Принимаем решение, как именно мы будем проводить обработку, почему именно так, \\*зафиксировать рекомендации.  \n",
    "> То есть отвечаем на вопрос, что будем делать с выбросами, что будем делать с null.  \n",
    "> Будет идеально если тут зафиксировать рекомендации\n"
   ]
  },
  {
   "cell_type": "markdown",
   "metadata": {},
   "source": [
    "**Промежуточный вывод**\n",
    "\n",
    ">\n",
    "\n",
    "- **children** Присутствует 47 отрицательных значений с \"-1\", а также аномалия в виде 20 детей ...\n",
    "- **days_employed** Большая часть данных стобца со знаком \"-\". Однако, эти данные представляют из себя 84% всей выборки. ... будут заменены на .. исходя из определенного критерия, который будет описан далее.\n",
    "  > - Причины пропущенных значений в столбцах **days_employed** и **income**:\n",
    "  >   - Во-первых, это может быть из-за неправильной выгрузки данных. Оставим это предположение до того момента, пока не убедимся в неверности других предположений.**Наиболее вероятно**\n",
    "  >   - Во-вторых, одной из гипотез было предположение об отсутствии трудового опыта у данной части выборки. Однако, если распределение по возрасту в данной группе равномерное по всем возрастам выборки. Также большая доля этой части выборки трудоустроена. **Гипотеза не подтверждена**\n",
    "  >   - В-третьих, возможно, что эта часть выборки не имеет официального трудоустройства. Данная гипотеза вызывает сомнение в связи с тем, что при наличии достаточно большого стажа работы у представителей выборки у ее представителей нет официального трудового стажа. К тому же 18.9% данной выборки являются госслужащими. **Гипотез не подтверждена**\n",
    "- **age** .. 0 возраст у 101 человека.\n",
    "- **education & education_id** Необходимо будет привести данную категорийнуй переменную к общему виду. Избавиться от разного регистра. Но можно не тратить на это время и использовать следующий столбец **education_id**. Это позволит использовать меньше памяти и не повлияет на качество анализа.\n",
    "- ...\n"
   ]
  },
  {
   "cell_type": "markdown",
   "metadata": {},
   "source": [
    "## Предобработка данных\n"
   ]
  },
  {
   "cell_type": "markdown",
   "metadata": {},
   "source": [
    "ВАЖНО  \n",
    "помним, что когда мы удаляем записи  \n",
    "`df = df[df.column > 0]`\n",
    "то удаляются `na`  \n",
    "поэтому нужно делать так  \n",
    "`df = df[~(df.column <= 0)]`"
   ]
  },
  {
   "cell_type": "markdown",
   "metadata": {},
   "source": [
    "Сразу записываем в файл что заменили и что удалили для промежуточного вывода.  "
   ]
  },
  {
   "cell_type": "markdown",
   "metadata": {},
   "source": [
    "для некоторых пропущенных значений можно предположить логичную замену. Например, если человек не указал число балконов - скорее всего, их нет.   \n",
    "Такие пропуски правильно заменить на 0. Для других типов данных нет подходящего значения на замену.   \n",
    "В этом случае правильно оставить эти значения пустыми. Отсутствие значения - тоже важный сигнал, который не нужно прятать;"
   ]
  },
  {
   "cell_type": "markdown",
   "metadata": {},
   "source": [
    "> Важно, когда удаляем строки, то делаем сброс индекса\n"
   ]
  },
  {
   "cell_type": "code",
   "execution_count": null,
   "metadata": {},
   "outputs": [],
   "source": [
    ".reset_index(drop=True)"
   ]
  },
  {
   "cell_type": "markdown",
   "metadata": {},
   "source": [
    "> Не забываем про ИИ  \n",
    "> Когда мы проводим предобработку данных, то первый вопрос мы себе задать следующий\n",
    "> Какава вероятнсоть, что это является истиной? Если вероятнсоть ниже 60 прцоентов, то это делать не стоти и может лучше оставить как есть или не трогать этот столбец.  \n",
    "> Например, у нас дубли или отрицательные значеия и мы выдвинули гипотезу, что это просто неправильный знак и хотим взять модель числа.  \n",
    "> Но если мы подумаем, а высокая ли вероятность, что число просто с неверным знаком, то вероятнсот этого низкая.  \n",
    "> Поэтому это делать не нужно.  \n",
    "> Другое дело у нас датафрейме 1 прцоент полных дублей и при этом у нас есть достаточно точные колонки типа зарплаты с точностью до рублей или стаж в днях.  \n",
    "> Вот тут мы можем с высокой вероятностью утверждать, что это дубли, так как мало вероятно что будет две записи настолько точно совпадать.  \n",
    "> Поэтому сначала думаем насколько вероятна та гипотеза, которую мы выдвинули и хотим по ней изменить наши данные.  \n",
    "> Тут лучше придерживаться правила не навреди.\n"
   ]
  },
  {
   "cell_type": "markdown",
   "metadata": {},
   "source": [
    "> Когда удаляем значения из категориальных столбцов pandas, и в этом столбце нет больше таких занчений, которые удалил.  \n",
    "> То нужно удалить это значение из категории\n"
   ]
  },
  {
   "cell_type": "code",
   "execution_count": null,
   "metadata": {},
   "outputs": [],
   "source": [
    "df.drop(df[df.gender == 'XNA'].index, inplace=True)\n",
    "df['gender'] = df['gender'].cat.remove_unused_categories()\n",
    "df.value_counts(dropna=False)"
   ]
  },
  {
   "cell_type": "code",
   "execution_count": null,
   "metadata": {},
   "outputs": [],
   "source": [
    "df.shape[0]"
   ]
  },
  {
   "cell_type": "markdown",
   "metadata": {},
   "source": [
    "### Обрезание неполных временных периодов\n"
   ]
  },
  {
   "cell_type": "markdown",
   "metadata": {},
   "source": [
    "> Если у нас датасет за год, например, и первый или последний месяц неполные, то их лучше выбрасить, если мы будем  \n",
    "> расчитывать месячные метрики.  \n",
    "> Но сначала конечно нужно проанализировать столбцы без обрезания, чтобы убедиться, что там нет ничего необычного.\n"
   ]
  },
  {
   "cell_type": "markdown",
   "metadata": {},
   "source": [
    "### Выбор нужных столбцов для дальнейшего анализа\n"
   ]
  },
  {
   "cell_type": "markdown",
   "metadata": {},
   "source": [
    "> Сохраним исходный датафрейм в переменную df_origin, чтобы была возможность вернуться к нему\n"
   ]
  },
  {
   "cell_type": "code",
   "execution_count": null,
   "metadata": {},
   "outputs": [],
   "source": [
    "df_origin = df.copy()"
   ]
  },
  {
   "cell_type": "markdown",
   "metadata": {},
   "source": [
    "> Удаляем ненужные столбцы\n"
   ]
  },
  {
   "cell_type": "code",
   "execution_count": null,
   "metadata": {},
   "outputs": [],
   "source": [
    "df = df.drop(['col1', 'col2'], axis=1)\n",
    "df.head(1)"
   ]
  },
  {
   "cell_type": "markdown",
   "metadata": {},
   "source": [
    "- Думаем, какие колонки нам нужны, выбираем только их для дальнейшей работы.\n",
    "  > Остальные убираем в другой датасет.\n",
    "- Важно после изученя данных сначала убрать не нужные столбцы, а потом уже заниматься преобразованием (удалением пропусков и выбросов).\n",
    "  > Думаем прежде чем удалять строки, так как возможно лучше удалить столбец и строки удалять будет не нужно.\n",
    "- Пишем почему выбираем определенные столбцы\n"
   ]
  },
  {
   "cell_type": "markdown",
   "metadata": {},
   "source": [
    "### Обработка выбросов\n"
   ]
  },
  {
   "cell_type": "markdown",
   "metadata": {},
   "source": [
    "> Не забываем про нулевые значения и отрицательный.  \n",
    "> В столбцах, где их быть не должно, они являются выбросами.\n"
   ]
  },
  {
   "cell_type": "markdown",
   "metadata": {},
   "source": [
    "> С обработкай нулевых и отрицательных значений нужно быть внимательным.  \n",
    "> Нужно сначала хорошо подумать, откуда могло это появиться,  \n",
    "> тут поможет анализ этих значений в предыдущей главе.  \n",
    "> Думаем откуад появилось отрицательное или нулевое занчение,  \n",
    "> и если у нас есть гипотезы, которые похожи на правду (мы думаем что вероятность их истины больше 60%),  \n",
    "> то мы обрабатываем их исходя из гипотезы.  \n",
    "> Например, -1 часто бывает как отсутсвие чего-то, то есть мы в зависимости от контекста можем заменить его на 0.\n"
   ]
  },
  {
   "cell_type": "markdown",
   "metadata": {},
   "source": [
    "> Важно каждый раз, когда мы удаляем что-то из датафрейма, то убедиться, что мы удалили столько строк, сколько и хотели.  \n",
    "> Для этого выводим размер датафрейма до удаления.  \n",
    "> Смотрим сколько строк мы хотим удалить.  \n",
    "> Далее не сохраняя в датафрейм удаляем строки и смотрим верный ли итоговый размер.  \n",
    "> Если все верно, то удаляем уже с сохранением.\n"
   ]
  },
  {
   "cell_type": "markdown",
   "metadata": {},
   "source": [
    "> Не забываем, что выбросы мы также можем заменять на медианные значения.\n"
   ]
  },
  {
   "cell_type": "markdown",
   "metadata": {},
   "source": [
    "> Посмотрим где у нас отрицательные значения\n"
   ]
  },
  {
   "cell_type": "code",
   "execution_count": null,
   "metadata": {},
   "outputs": [],
   "source": [
    "pagri_data_tools.check_negative_value_in_df(df)"
   ]
  },
  {
   "cell_type": "code",
   "execution_count": null,
   "metadata": {},
   "outputs": [
    {
     "data": {
      "text/plain": [
       "21525"
      ]
     },
     "metadata": {},
     "output_type": "display_data"
    }
   ],
   "source": [
    "df.shape[0]"
   ]
  },
  {
   "cell_type": "code",
   "execution_count": null,
   "metadata": {},
   "outputs": [
    {
     "data": {
      "text/plain": [
       "21478"
      ]
     },
     "metadata": {},
     "output_type": "display_data"
    }
   ],
   "source": [
    "df = df[df.children >= 0]\n",
    "df.shape[0]"
   ]
  },
  {
   "cell_type": "markdown",
   "metadata": {},
   "source": [
    "> Посмотрим где у нас нулевые значения\n"
   ]
  },
  {
   "cell_type": "code",
   "execution_count": null,
   "metadata": {},
   "outputs": [],
   "source": [
    "pagri_data_tools.check_zeros_value_in_df(df)"
   ]
  },
  {
   "cell_type": "markdown",
   "metadata": {},
   "source": [
    "> Обрабатываем нулевые и отрицательные значения, затем снова проверяем\n"
   ]
  },
  {
   "cell_type": "code",
   "execution_count": null,
   "metadata": {},
   "outputs": [
    {
     "data": {
      "text/html": [
       "<div>\n",
       "<style scoped>\n",
       "    .dataframe tbody tr th:only-of-type {\n",
       "        vertical-align: middle;\n",
       "    }\n",
       "\n",
       "    .dataframe tbody tr th {\n",
       "        vertical-align: top;\n",
       "    }\n",
       "\n",
       "    .dataframe thead th {\n",
       "        text-align: right;\n",
       "    }\n",
       "</style>\n",
       "<table border=\"1\" class=\"dataframe\">\n",
       "  <thead>\n",
       "    <tr style=\"text-align: right;\">\n",
       "      <th></th>\n",
       "      <th>negative</th>\n",
       "    </tr>\n",
       "  </thead>\n",
       "  <tbody>\n",
       "  </tbody>\n",
       "</table>\n",
       "</div>"
      ],
      "text/plain": [
       "Empty DataFrame\n",
       "Columns: [negative]\n",
       "Index: []"
      ]
     },
     "metadata": {},
     "output_type": "display_data"
    }
   ],
   "source": [
    "pagri_data_tools.check_negative_value_in_df(df)"
   ]
  },
  {
   "cell_type": "code",
   "execution_count": null,
   "metadata": {},
   "outputs": [
    {
     "data": {
      "text/html": [
       "<div>\n",
       "<style scoped>\n",
       "    .dataframe tbody tr th:only-of-type {\n",
       "        vertical-align: middle;\n",
       "    }\n",
       "\n",
       "    .dataframe tbody tr th {\n",
       "        vertical-align: top;\n",
       "    }\n",
       "\n",
       "    .dataframe thead th {\n",
       "        text-align: right;\n",
       "    }\n",
       "</style>\n",
       "<table border=\"1\" class=\"dataframe\">\n",
       "  <thead>\n",
       "    <tr style=\"text-align: right;\">\n",
       "      <th></th>\n",
       "      <th>zeros</th>\n",
       "    </tr>\n",
       "  </thead>\n",
       "  <tbody>\n",
       "  </tbody>\n",
       "</table>\n",
       "</div>"
      ],
      "text/plain": [
       "Empty DataFrame\n",
       "Columns: [zeros]\n",
       "Index: []"
      ]
     },
     "metadata": {},
     "output_type": "display_data"
    }
   ],
   "source": [
    "pagri_data_tools.check_zeros_value_in_df(df)"
   ]
  },
  {
   "cell_type": "markdown",
   "metadata": {},
   "source": [
    "> Также нужно обработать выбросы, которые мы обнаружили при изучении данных.  \n",
    "> Это могут быть любые колонки со значениями, которые не моут быть в реальности.\n"
   ]
  },
  {
   "cell_type": "markdown",
   "metadata": {},
   "source": [
    "> Нужно сначала обработать выбросы, а потом уже обрабатываться пропуски.  \n",
    "> Так как мы заоплняем пропуски, учитывая значения в колонке, которые возможно мы потом удалим.\n"
   ]
  },
  {
   "cell_type": "markdown",
   "metadata": {},
   "source": [
    "- Помним про нулевые и отрицательные значения\n",
    "- Нулевые значения, отрицательные значения являются выбросами, если они не могут быть у этой колонки.\n",
    "- Очень важно понимать, когда выброс можно отбросить и он реально выброс и когда нельзя.\n",
    "  > Опираемся на физику параметра, думаем это значение физически возможно.\n",
    "- Также выброс может казаться выбрасом, но для бизнеса это не выброс.\n",
    "  > Например у нас суммы покупок и одна покупка сильно выделяется, а там просто человек купил супе дорогой каньяк, например.\n",
    "- Когда хотим обрезать выбросы, то думаем, какой порог может быть физически реальным и по нему режем, а не просто так берем какой-то перцентиль.\n",
    "  > Всегда нужно думать с точки зрения физического возможного значения параметра и по нему резать (подумать а какое значение может быть максимально реальным и по нему обрезать)\n",
    "- Если мы имеем дело со строгой отчестностью, то выбросы убирать нельзя, нужно разобраться откуда они.\n",
    "- Если мы не можем с увереностью сказать, что это выброс, то нам не стоит его выкидывать, но работать как то нужно с ними,\n",
    "  > тогда, логарифмируем (лучше использовать натуральный логарифм) эту колонку и работаем с такими значениями (тогда выбросы сожмуться).\n"
   ]
  },
  {
   "cell_type": "markdown",
   "metadata": {},
   "source": [
    "> После удаления выбрасов, можно снова выполнить пункт про изучение выбрасов, так как выбросы могут появиться новые,  \n",
    "> если у нас например выбросы были слишком нереальные значения, когда мы от них избавимся, будет лучше видно другое\n"
   ]
  },
  {
   "cell_type": "markdown",
   "metadata": {},
   "source": [
    "### Обработка пропусков\n"
   ]
  },
  {
   "cell_type": "markdown",
   "metadata": {},
   "source": [
    "Если мы не можем заполнить прпоуски в категориальной переменной, то даем им название.  "
   ]
  },
  {
   "cell_type": "code",
   "execution_count": null,
   "metadata": {},
   "outputs": [],
   "source": [
    "df['is_apartment'] = df['is_apartment'].fillna('не указано')"
   ]
  },
  {
   "cell_type": "markdown",
   "metadata": {},
   "source": [
    "> Важно помнить, что пропус может быть вызван тем, что во измежании дублирования строк, при созаднии сводной таблицы,  \n",
    "> занчения не повторяются, а если потом эту таблицу куда то отправить, то там эти пропуски могут стать null  \n",
    "> Поэтому сначала смотрим последовательно на значения и думаем, не может ли это быть таким случаем.  \n",
    "> Это могут быть даты, которые идут подряд и меду ними пропуски.  \n",
    "> Или список названий четко по порядоку и между ними пропуски, это может быть вызвано как раз последствием создания сводной таблицы.  \n",
    "> В пандас это видно, когда мы группируем строки, у нас в индексе дубли не пишуться, но пандас занчет, что там есть занчения,  \n",
    "> но после импорта куда-то там могут не продублироваться значения и возникнут пропуски.\n"
   ]
  },
  {
   "cell_type": "markdown",
   "metadata": {},
   "source": [
    "> Прежде чем обрабатывать пропуски, нужно подумать а можем ли мы их заменить исходя из имеющихся столбцов.  \n",
    "> Например, у нас есть столбец с пропусками возраст, и есть стаж,  \n",
    "> мы можем возраст заменить так стаж + 18 + 5  \n",
    "> Аналогично другие ситуации нужно сообразить как можно заменить пропуски.  \n",
    "> И только если нет идей, тогда уже заменяем на медиану, например, по группам.\n"
   ]
  },
  {
   "cell_type": "code",
   "execution_count": null,
   "metadata": {},
   "outputs": [],
   "source": [
    "pagri_data_tools.check_missed_value_in_df(df)"
   ]
  },
  {
   "cell_type": "markdown",
   "metadata": {},
   "source": [
    "> Если решии заменять прпоуски значениями, учитывая категории, то нужно убедиться, что размер этих категорий достаточный.\n"
   ]
  },
  {
   "cell_type": "markdown",
   "metadata": {},
   "source": [
    "> Посмотрим размеры групп, если заменять внутри этих групп\n"
   ]
  },
  {
   "cell_type": "code",
   "execution_count": null,
   "metadata": {},
   "outputs": [],
   "source": [
    "category_columns = ['education', 'family_status', 'gender', 'income_type']\n",
    "value_column = 'total_income'\n",
    "pagri_data_tools.check_group_count(df, category_columns, value_column)"
   ]
  },
  {
   "cell_type": "markdown",
   "metadata": {},
   "source": [
    "> Заполним пропуски в группах от 10 элементов\n"
   ]
  },
  {
   "cell_type": "code",
   "execution_count": null,
   "metadata": {},
   "outputs": [],
   "source": [
    "df[value_column] = pagri_data_tools.fill_na_with_function_by_categories(df, category_columns, value_column, func='median', minimal_group_size=10)"
   ]
  },
  {
   "cell_type": "markdown",
   "metadata": {},
   "source": [
    "> Проверим сколько у нас осталось пропусков\n"
   ]
  },
  {
   "cell_type": "code",
   "execution_count": null,
   "metadata": {},
   "outputs": [],
   "source": [
    "pagri_data_tools.check_missed_value_in_df(df)"
   ]
  },
  {
   "cell_type": "markdown",
   "metadata": {},
   "source": [
    "> Если пропуски остались, то убираем какую-нибудь категорию и повторяем.\n"
   ]
  },
  {
   "cell_type": "markdown",
   "id": "dried-general",
   "metadata": {},
   "source": [
    "> что-то изменили - > посмотрели не изменилось ли количество дублей  \n",
    "> `check_duplicated`\n"
   ]
  },
  {
   "cell_type": "code",
   "execution_count": null,
   "metadata": {},
   "outputs": [],
   "source": [
    "pagri_data_tools.check_duplicated()"
   ]
  },
  {
   "cell_type": "markdown",
   "metadata": {},
   "source": [
    "> Увидели пропуск - подумайте, нормально ли это. Сколько вообще пропусков может быть в этом столбце?  \n",
    "> К примеру, в списке с электронными адресами пользователей, согласных на рассылку, будет много пропусков. Далеко не все предоставляют email.\n"
   ]
  },
  {
   "cell_type": "markdown",
   "metadata": {},
   "source": [
    "> Можно использвоать такой подход\n",
    "\n",
    "- если количество пропусков меньше 5 процентов, то удаляем (лучше меньше 1 процента)\n",
    "- если количество пропусков от 5 до 20 процентов, то подбираем чем заменить, удалять не стоит\n",
    "- если больше 20 процентов, то не трогаем, так как исказим\n"
   ]
  },
  {
   "cell_type": "markdown",
   "metadata": {},
   "source": [
    "> Но оставляя пропуски, нам нужно помнить, что мы не можем по этим полям считать корреляцию с другими,  \n",
    "> так как пропуски испортят расчет коэффициента корреляции. Аналогично другие метрики могут считаться некорректно.  \n",
    "> Поэтому, если мы будем считать показатели по столбцу с пропусками, то их нужно либо убирать, либо этот столбец не использовать для расчетов.\n"
   ]
  },
  {
   "cell_type": "markdown",
   "metadata": {},
   "source": [
    "> Для категориальных переменных оставлять пропуски нельзя, так как мы скорее всего будем группировать по ним и смотреть разные разрезы.  \n",
    "> Поэтому в худшем случае, если не можем ничем заменить, и нет уверености, что пропуск можно заполнить пустой строкой (если значения физически нет),  \n",
    "> то создаем категорию например `other` из пропусков.\n"
   ]
  },
  {
   "cell_type": "markdown",
   "metadata": {},
   "source": [
    "> Если у нас пропуски в категориальной переменной и есть разные периоды или просто данные разбиты на части (то есть эта категориальная переменная повторяется),  \n",
    "> то мы можем взять ещё какую-нибудь переменную, у которой нет пропусков, где пропуски у первой переменной и далее посмотреть другие периоды  \n",
    "> Таким образом у нас будет предыдущий период, где будет занчение второй переменной и первой и если в нескольких периодах они одинаковые, то мы можем  \n",
    "> заполнить и пропуски этим значением.  \n",
    "> Ещё раз схема такая - берем 2 поля одно с пропусками, другое без, получаем новую таблицу, в этой таблице оставляем только униклаьные значения в поле без пропусков,  \n",
    "> по этому полю будем джойнить. Далее в основнйо таблице дропаем описание и создаем новое описание из таблицы справочника.  \n",
    "> `fill_missing_values_using_helper_column`\n"
   ]
  },
  {
   "cell_type": "code",
   "execution_count": null,
   "metadata": {},
   "outputs": [],
   "source": [
    "pagri_data_tools.fill_missing_values_using_helper_column()"
   ]
  },
  {
   "cell_type": "markdown",
   "metadata": {},
   "source": [
    "> Заполняем пропуски учитвая категории  \n",
    "> `fill_na_with_function_by_categories`\n"
   ]
  },
  {
   "cell_type": "markdown",
   "metadata": {},
   "source": [
    "> Важно следить, чтобы категории, по которым будем заполнять пропуски были обработаны.  \n",
    "> Если у нас в категориальной переменной есть значение с большой буквы и с маленькой, то это одна категория,  \n",
    "> но замена будет идити по двум, чтобы такого не было, нужно сначала обработать категориальную переменную.\n"
   ]
  },
  {
   "cell_type": "markdown",
   "metadata": {},
   "source": [
    "> Также важно, чтобы в группах по которым мы будем считать значение для заополения было достаточно значений  \n",
    "> для выбранной функции.  \n",
    "> Например, если мы решили брать среднее, а в группе у нас 5 значений, то среди них может быть выброс и наше среднее будет некорректно.  \n",
    "> Лучше в такой ситуации брать группу побольше для этих микрогрупп.  \n",
    "> В идеале группы должны быть от 30 элементов.\n"
   ]
  },
  {
   "cell_type": "markdown",
   "metadata": {},
   "source": [
    "> Можно посмотреть какой процент группах без значений\n"
   ]
  },
  {
   "cell_type": "code",
   "execution_count": null,
   "metadata": {},
   "outputs": [],
   "source": [
    "temp = df.groupby(['education', 'family_status', 'gender', 'income_type'])['total_income'].sum()\n",
    "(temp == 0).sum() * 100 / temp.size"
   ]
  },
  {
   "cell_type": "code",
   "execution_count": null,
   "metadata": {},
   "outputs": [],
   "source": []
  },
  {
   "cell_type": "code",
   "execution_count": null,
   "metadata": {},
   "outputs": [],
   "source": [
    "pagri_data_tools.fill_na_with_function_by_categories()"
   ]
  },
  {
   "cell_type": "markdown",
   "metadata": {},
   "source": [
    "> Сделать функцию заполнения пропусков с помощью машинного обучения\n"
   ]
  },
  {
   "cell_type": "markdown",
   "metadata": {},
   "source": [
    "> После удаления пропусков и выбросов желательно проверить какой прцоент строк мы удалили.\n"
   ]
  },
  {
   "cell_type": "markdown",
   "metadata": {},
   "source": [
    "### Обработка дубликатов\n"
   ]
  },
  {
   "cell_type": "markdown",
   "metadata": {},
   "source": [
    "> Все значения в колонках во всех таблицах нужно привести к нижнему регистру и по возможности к одному языку,  \n",
    "> для перевода к одному языку можно использовать словарь, с помощью которого изменить неправильный язык  \n",
    "> Это нужно, чтобы когда будем соединять таблицы, у нас условие соеденения правильно сравнивало равные значения.\n"
   ]
  },
  {
   "cell_type": "markdown",
   "metadata": {},
   "source": [
    "> Можно посмотреть снвоа на дубликаты после обработки пропусков.\n"
   ]
  },
  {
   "cell_type": "markdown",
   "metadata": {},
   "source": [
    "> `check_duplicated`  \n",
    "> `find_columns_with_duplicates`  \n",
    "> `check_duplicated_combinations_gen`  \n",
    "> `get_duplicates_value_proportion_by_category`  \n",
    "> В первую функцию можно передавать весь датафрейм и можно выбирать нужные столбцы для проверки на дубли и передавать их.\n"
   ]
  },
  {
   "cell_type": "code",
   "execution_count": null,
   "metadata": {},
   "outputs": [],
   "source": [
    "pagri_data_tools.check_duplicated()"
   ]
  },
  {
   "cell_type": "code",
   "execution_count": null,
   "metadata": {},
   "outputs": [],
   "source": [
    "pagri_data_tools.check_duplicated_value_in_df(df)"
   ]
  },
  {
   "cell_type": "code",
   "execution_count": null,
   "metadata": {},
   "outputs": [],
   "source": [
    "pagri_data_tools.find_columns_with_duplicates()"
   ]
  },
  {
   "cell_type": "markdown",
   "metadata": {},
   "source": [
    "> Заполним пропуски в группах от 10 элементов\n"
   ]
  },
  {
   "cell_type": "code",
   "execution_count": null,
   "metadata": {},
   "outputs": [],
   "source": [
    "df[value_column] = pagri_data_tools.fill_na_with_function_by_categories(df, category_columns, value_column, func='median', minimal_group_size=10)"
   ]
  },
  {
   "cell_type": "code",
   "execution_count": null,
   "metadata": {},
   "outputs": [
    {
     "data": {
      "text/html": [
       "<div>\n",
       "<style scoped>\n",
       "    .dataframe tbody tr th:only-of-type {\n",
       "        vertical-align: middle;\n",
       "    }\n",
       "\n",
       "    .dataframe tbody tr th {\n",
       "        vertical-align: top;\n",
       "    }\n",
       "\n",
       "    .dataframe thead th {\n",
       "        text-align: right;\n",
       "    }\n",
       "</style>\n",
       "<table border=\"1\" class=\"dataframe\">\n",
       "  <thead>\n",
       "    <tr style=\"text-align: right;\">\n",
       "      <th></th>\n",
       "      <th>missed</th>\n",
       "    </tr>\n",
       "  </thead>\n",
       "  <tbody>\n",
       "    <tr>\n",
       "      <th>total_income</th>\n",
       "      <td>63 (0.3%)</td>\n",
       "    </tr>\n",
       "  </tbody>\n",
       "</table>\n",
       "</div>"
      ],
      "text/plain": [
       "                 missed\n",
       "total_income  63 (0.3%)"
      ]
     },
     "metadata": {},
     "output_type": "display_data"
    }
   ],
   "source": [
    "pagri_data_tools.check_missed_value_in_df(df)"
   ]
  },
  {
   "cell_type": "markdown",
   "metadata": {},
   "source": [
    "> Если есть дубли, и мы считаем, что это не дубли, а просто разделились данные,  \n",
    "> то объединеняем записи, которые имеют одинаковые значения ключевых признаков.  \n",
    "> `merge_duplicates`\n"
   ]
  },
  {
   "cell_type": "code",
   "execution_count": null,
   "metadata": {},
   "outputs": [],
   "source": [
    "pagri_data_tools.merge_duplicates()"
   ]
  },
  {
   "cell_type": "markdown",
   "metadata": {},
   "source": [
    "> Если мы не уверены, что дубль является дублем и не хотим удалять, то можно использовать  \n",
    "> маркировку дублей, можно добавить новую колонку, которая будет содержать информацию о том,  \n",
    "> является ли строка дубликатом или нет.  \n",
    "> `df['is_duplicate'] = df.duplicated()`\n"
   ]
  },
  {
   "cell_type": "code",
   "execution_count": null,
   "metadata": {},
   "outputs": [],
   "source": [
    "df['is_duplicate'] = df.duplicated()"
   ]
  },
  {
   "cell_type": "markdown",
   "metadata": {},
   "source": [
    "> Подумать, а можем ли мы обогатить данные, что разделит дубли.  \n",
    "> То есть возможно в наших данных нет какого-то столбца, и тогда дубли уже не будут дублями.\n"
   ]
  },
  {
   "cell_type": "markdown",
   "metadata": {},
   "source": [
    "> Если уверены, что это дубли, то удаляем их  \n",
    "> `df.drop_duplicates()`\n"
   ]
  },
  {
   "cell_type": "code",
   "execution_count": null,
   "metadata": {},
   "outputs": [],
   "source": [
    "df.drop_duplicates()"
   ]
  },
  {
   "cell_type": "markdown",
   "metadata": {},
   "source": [
    "### Приведение данных к удобной форме\n"
   ]
  },
  {
   "cell_type": "markdown",
   "metadata": {},
   "source": [
    "> Изменяем значения в столбцах на более удобные\n"
   ]
  },
  {
   "cell_type": "code",
   "execution_count": null,
   "metadata": {},
   "outputs": [],
   "source": [
    "df.debt = df.debt.apply(lambda x: 'есть' if x == '1' else 'нет').astype('category')"
   ]
  },
  {
   "cell_type": "code",
   "execution_count": null,
   "metadata": {},
   "outputs": [],
   "source": [
    "df.is_apartment.astype(str).map({'True': 'да', 'False': 'нет'}).astype('category')"
   ]
  },
  {
   "cell_type": "markdown",
   "metadata": {},
   "source": [
    "> Если у нас в столбце, например, стаж данные в днях, то это нужно преобразовать в года.  \n",
    "> Также если у нас в других столбцах данные в формате, который нужно изменить для лучшего анализа, то делаем это.\n"
   ]
  },
  {
   "cell_type": "markdown",
   "metadata": {},
   "source": [
    "> Округлим значения в поле дохода до целого.  \n",
    "> Целая часть выглядит реальной. А с дробной частью нужно разбираться почему стоько знаков.\n"
   ]
  },
  {
   "cell_type": "code",
   "execution_count": null,
   "metadata": {},
   "outputs": [
    {
     "data": {
      "text/html": [
       "<div>\n",
       "<style scoped>\n",
       "    .dataframe tbody tr th:only-of-type {\n",
       "        vertical-align: middle;\n",
       "    }\n",
       "\n",
       "    .dataframe tbody tr th {\n",
       "        vertical-align: top;\n",
       "    }\n",
       "\n",
       "    .dataframe thead th {\n",
       "        text-align: right;\n",
       "    }\n",
       "</style>\n",
       "<table border=\"1\" class=\"dataframe\">\n",
       "  <thead>\n",
       "    <tr style=\"text-align: right;\">\n",
       "      <th></th>\n",
       "      <th>children</th>\n",
       "      <th>age</th>\n",
       "      <th>education</th>\n",
       "      <th>family_status</th>\n",
       "      <th>gender</th>\n",
       "      <th>income_type</th>\n",
       "      <th>debt</th>\n",
       "      <th>total_income</th>\n",
       "      <th>purpose</th>\n",
       "    </tr>\n",
       "  </thead>\n",
       "  <tbody>\n",
       "    <tr>\n",
       "      <th>0</th>\n",
       "      <td>1</td>\n",
       "      <td>42</td>\n",
       "      <td>высшее</td>\n",
       "      <td>женат / замужем</td>\n",
       "      <td>F</td>\n",
       "      <td>сотрудник</td>\n",
       "      <td>0</td>\n",
       "      <td>253876</td>\n",
       "      <td>покупка жилья</td>\n",
       "    </tr>\n",
       "  </tbody>\n",
       "</table>\n",
       "</div>"
      ],
      "text/plain": [
       "   children  age education    family_status gender income_type debt  \\\n",
       "0         1   42    высшее  женат / замужем      F   сотрудник    0   \n",
       "\n",
       "   total_income        purpose  \n",
       "0        253876  покупка жилья  "
      ]
     },
     "metadata": {},
     "output_type": "display_data"
    }
   ],
   "source": [
    "df.total_income = df.total_income.round().astype('int32')\n",
    "df.head(1)"
   ]
  },
  {
   "cell_type": "markdown",
   "metadata": {},
   "source": [
    "> Посмотрим сколько у нас людей с полом XNA осталось\n"
   ]
  },
  {
   "cell_type": "code",
   "execution_count": null,
   "metadata": {},
   "outputs": [
    {
     "data": {
      "text/plain": [
       "1"
      ]
     },
     "metadata": {},
     "output_type": "display_data"
    }
   ],
   "source": [
    "(df.gender == 'XNA').sum()"
   ]
  },
  {
   "cell_type": "markdown",
   "metadata": {},
   "source": [
    "> Посмотрим кто это\n"
   ]
  },
  {
   "cell_type": "code",
   "execution_count": null,
   "metadata": {},
   "outputs": [
    {
     "data": {
      "text/html": [
       "<div>\n",
       "<style scoped>\n",
       "    .dataframe tbody tr th:only-of-type {\n",
       "        vertical-align: middle;\n",
       "    }\n",
       "\n",
       "    .dataframe tbody tr th {\n",
       "        vertical-align: top;\n",
       "    }\n",
       "\n",
       "    .dataframe thead th {\n",
       "        text-align: right;\n",
       "    }\n",
       "</style>\n",
       "<table border=\"1\" class=\"dataframe\">\n",
       "  <thead>\n",
       "    <tr style=\"text-align: right;\">\n",
       "      <th></th>\n",
       "      <th>children</th>\n",
       "      <th>age</th>\n",
       "      <th>education</th>\n",
       "      <th>family_status</th>\n",
       "      <th>gender</th>\n",
       "      <th>income_type</th>\n",
       "      <th>debt</th>\n",
       "      <th>total_income</th>\n",
       "      <th>purpose</th>\n",
       "    </tr>\n",
       "  </thead>\n",
       "  <tbody>\n",
       "    <tr>\n",
       "      <th>10701</th>\n",
       "      <td>0</td>\n",
       "      <td>24</td>\n",
       "      <td>неоконченное высшее</td>\n",
       "      <td>гражданский брак</td>\n",
       "      <td>XNA</td>\n",
       "      <td>компаньон</td>\n",
       "      <td>0</td>\n",
       "      <td>203905</td>\n",
       "      <td>покупка недвижимости</td>\n",
       "    </tr>\n",
       "  </tbody>\n",
       "</table>\n",
       "</div>"
      ],
      "text/plain": [
       "       children  age            education     family_status gender  \\\n",
       "10701         0   24  неоконченное высшее  гражданский брак    XNA   \n",
       "\n",
       "      income_type debt  total_income               purpose  \n",
       "10701   компаньон    0        203905  покупка недвижимости  "
      ]
     },
     "metadata": {},
     "output_type": "display_data"
    }
   ],
   "source": [
    "df[df.gender == 'XNA']"
   ]
  },
  {
   "cell_type": "markdown",
   "metadata": {},
   "source": [
    "> Всего 1 человек. И мы не можем идентифицировать его пол.  \n",
    "> Удалим, чтобы не мешало анализировать графики.\n"
   ]
  },
  {
   "cell_type": "code",
   "execution_count": null,
   "metadata": {},
   "outputs": [
    {
     "data": {
      "text/plain": [
       "21402"
      ]
     },
     "metadata": {},
     "output_type": "display_data"
    }
   ],
   "source": [
    "df.shape[0]"
   ]
  },
  {
   "cell_type": "code",
   "execution_count": null,
   "metadata": {},
   "outputs": [
    {
     "data": {
      "text/plain": [
       "21401"
      ]
     },
     "metadata": {},
     "output_type": "display_data"
    }
   ],
   "source": [
    "df.drop(df[df.gender == 'XNA'].index, inplace=True)\n",
    "df['gender'] = df['gender'].cat.remove_unused_categories()\n",
    "df.value_counts(dropna=False)"
   ]
  },
  {
   "cell_type": "code",
   "execution_count": null,
   "metadata": {},
   "outputs": [],
   "source": [
    "df.shape[0]"
   ]
  },
  {
   "cell_type": "markdown",
   "metadata": {},
   "source": [
    "### Промежуточный вывод\n"
   ]
  },
  {
   "cell_type": "markdown",
   "metadata": {},
   "source": [
    "> пишем как обработали данные, например\n"
   ]
  },
  {
   "cell_type": "markdown",
   "metadata": {},
   "source": [
    "- Удалили колонки с id образования и семейного статуса, так как нам для графиков лучше подойдут названия, а не id.\n",
    "- Колонка со стажем имеет совершенно некорректные данные. Чтобы не внести искажение в анализ, удалим эту колонку.\n",
    "- Удалили отрицательные значения в колонке с количеством детей, которые составляли 0,2% от общего количества записей в данных.\n"
   ]
  },
  {
   "cell_type": "markdown",
   "metadata": {},
   "source": [
    "## Обогащение данных и создание новых переменных"
   ]
  },
  {
   "cell_type": "markdown",
   "metadata": {},
   "source": [
    "### Парсинг внешних источников"
   ]
  },
  {
   "cell_type": "markdown",
   "metadata": {},
   "source": [
    "описываем процесс парсинга  \n",
    "описываем источники и переменные"
   ]
  },
  {
   "cell_type": "markdown",
   "metadata": {},
   "source": [
    "### Создание новых числовых переменных"
   ]
  },
  {
   "cell_type": "markdown",
   "metadata": {},
   "source": [
    "Сразу пишем в файл какие новые переменные создали для промежуточного вывода.  "
   ]
  },
  {
   "cell_type": "markdown",
   "metadata": {},
   "source": [
    "Числовые переменные создаем не только для дальнейшего их анализа.  \n",
    "Создание числовой переменной может помочь создать новую категориальную переменную.  "
   ]
  },
  {
   "cell_type": "markdown",
   "metadata": {},
   "source": [
    "Например есть у нас расстояние до центра в метрах.  \n",
    "Мы создаем новую числовую переменную расстояние в км.  \n",
    "Далее строим график зависимости расстояния и цены.  \n",
    "И определеяем где цена резко меняется и получаем границу для создания новой категориальной переменной, в которой будет центр и остальное.  "
   ]
  },
  {
   "cell_type": "markdown",
   "metadata": {},
   "source": [
    "Создадим переменную соотношение жилой и общей площади"
   ]
  },
  {
   "cell_type": "code",
   "execution_count": null,
   "metadata": {},
   "outputs": [],
   "source": [
    "df['living_total_ratio'] = round(df['living_area'] / df['total_area'],2)"
   ]
  },
  {
   "cell_type": "code",
   "execution_count": null,
   "metadata": {},
   "outputs": [
    {
     "data": {
      "text/html": [
       "\n",
       "        <div style=\"display: flex; justify-content: flex-start; align-items: flex-end;\">\n",
       "            <style type=\"text/css\">\n",
       "#T_a9dbc caption {\n",
       "  font-size: 16px;\n",
       "  text-align: left;\n",
       "  font-weight: bold;\n",
       "}\n",
       "#T_a9dbc_row0_col0, #T_a9dbc_row0_col1, #T_a9dbc_row0_col2, #T_a9dbc_row0_col3, #T_a9dbc_row0_col4, #T_a9dbc_row0_col5, #T_a9dbc_row0_col6, #T_a9dbc_row0_col7, #T_a9dbc_row0_col8, #T_a9dbc_row0_col9, #T_a9dbc_row1_col0, #T_a9dbc_row1_col1, #T_a9dbc_row1_col2, #T_a9dbc_row1_col3, #T_a9dbc_row1_col4, #T_a9dbc_row1_col5, #T_a9dbc_row1_col6, #T_a9dbc_row1_col7, #T_a9dbc_row1_col8, #T_a9dbc_row1_col9, #T_a9dbc_row2_col0, #T_a9dbc_row2_col1, #T_a9dbc_row2_col2, #T_a9dbc_row2_col3, #T_a9dbc_row2_col4, #T_a9dbc_row2_col5, #T_a9dbc_row2_col6, #T_a9dbc_row2_col7, #T_a9dbc_row2_col8, #T_a9dbc_row2_col9, #T_a9dbc_row3_col0, #T_a9dbc_row3_col1, #T_a9dbc_row3_col2, #T_a9dbc_row3_col3, #T_a9dbc_row3_col4, #T_a9dbc_row3_col5, #T_a9dbc_row3_col6, #T_a9dbc_row3_col7, #T_a9dbc_row3_col8, #T_a9dbc_row3_col9, #T_a9dbc_row4_col0, #T_a9dbc_row4_col1, #T_a9dbc_row4_col2, #T_a9dbc_row4_col3, #T_a9dbc_row4_col4, #T_a9dbc_row4_col5, #T_a9dbc_row4_col6, #T_a9dbc_row4_col7, #T_a9dbc_row4_col8, #T_a9dbc_row4_col9, #T_a9dbc_row5_col0, #T_a9dbc_row5_col1, #T_a9dbc_row5_col2, #T_a9dbc_row5_col3, #T_a9dbc_row5_col4, #T_a9dbc_row5_col5, #T_a9dbc_row5_col6, #T_a9dbc_row5_col7, #T_a9dbc_row5_col8, #T_a9dbc_row5_col9, #T_a9dbc_row6_col0, #T_a9dbc_row6_col1, #T_a9dbc_row6_col2, #T_a9dbc_row6_col3, #T_a9dbc_row6_col4, #T_a9dbc_row6_col5, #T_a9dbc_row6_col6, #T_a9dbc_row6_col7, #T_a9dbc_row6_col8, #T_a9dbc_row6_col9 {\n",
       "  text-align: left;\n",
       "}\n",
       "</style>\n",
       "<table id=\"T_a9dbc\">\n",
       "  <caption>living_total_ratio</caption>\n",
       "  <thead>\n",
       "  </thead>\n",
       "  <tbody>\n",
       "    <tr>\n",
       "      <td id=\"T_a9dbc_row0_col0\" class=\"data row0 col0\" >Values</td>\n",
       "      <td id=\"T_a9dbc_row0_col1\" class=\"data row0 col1\" >21 796 (92%)</td>\n",
       "      <td id=\"T_a9dbc_row0_col2\" class=\"data row0 col2\" >                              </td>\n",
       "      <td id=\"T_a9dbc_row0_col3\" class=\"data row0 col3\" >Max</td>\n",
       "      <td id=\"T_a9dbc_row0_col4\" class=\"data row0 col4\" >1</td>\n",
       "      <td id=\"T_a9dbc_row0_col5\" class=\"data row0 col5\" >                              </td>\n",
       "      <td id=\"T_a9dbc_row0_col6\" class=\"data row0 col6\" >Avg</td>\n",
       "      <td id=\"T_a9dbc_row0_col7\" class=\"data row0 col7\" >0.56</td>\n",
       "      <td id=\"T_a9dbc_row0_col8\" class=\"data row0 col8\" >                              </td>\n",
       "      <td id=\"T_a9dbc_row0_col9\" class=\"data row0 col9\" >0.56 (4%)</td>\n",
       "    </tr>\n",
       "    <tr>\n",
       "      <td id=\"T_a9dbc_row1_col0\" class=\"data row1 col0\" >Missing</td>\n",
       "      <td id=\"T_a9dbc_row1_col1\" class=\"data row1 col1\" >1 903 (8%)</td>\n",
       "      <td id=\"T_a9dbc_row1_col2\" class=\"data row1 col2\" >                              </td>\n",
       "      <td id=\"T_a9dbc_row1_col3\" class=\"data row1 col3\" >95%</td>\n",
       "      <td id=\"T_a9dbc_row1_col4\" class=\"data row1 col4\" >0.73</td>\n",
       "      <td id=\"T_a9dbc_row1_col5\" class=\"data row1 col5\" >                              </td>\n",
       "      <td id=\"T_a9dbc_row1_col6\" class=\"data row1 col6\" >Mode</td>\n",
       "      <td id=\"T_a9dbc_row1_col7\" class=\"data row1 col7\" >0.56</td>\n",
       "      <td id=\"T_a9dbc_row1_col8\" class=\"data row1 col8\" >                              </td>\n",
       "      <td id=\"T_a9dbc_row1_col9\" class=\"data row1 col9\" >0.55 (4%)</td>\n",
       "    </tr>\n",
       "    <tr>\n",
       "      <td id=\"T_a9dbc_row2_col0\" class=\"data row2 col0\" >Distinct</td>\n",
       "      <td id=\"T_a9dbc_row2_col1\" class=\"data row2 col1\" >91 (<1%)</td>\n",
       "      <td id=\"T_a9dbc_row2_col2\" class=\"data row2 col2\" >                              </td>\n",
       "      <td id=\"T_a9dbc_row2_col3\" class=\"data row2 col3\" >75%</td>\n",
       "      <td id=\"T_a9dbc_row2_col4\" class=\"data row2 col4\" >0.64</td>\n",
       "      <td id=\"T_a9dbc_row2_col5\" class=\"data row2 col5\" >                              </td>\n",
       "      <td id=\"T_a9dbc_row2_col6\" class=\"data row2 col6\" >Range</td>\n",
       "      <td id=\"T_a9dbc_row2_col7\" class=\"data row2 col7\" >0.98</td>\n",
       "      <td id=\"T_a9dbc_row2_col8\" class=\"data row2 col8\" >                              </td>\n",
       "      <td id=\"T_a9dbc_row2_col9\" class=\"data row2 col9\" >0.6 (4%)</td>\n",
       "    </tr>\n",
       "    <tr>\n",
       "      <td id=\"T_a9dbc_row3_col0\" class=\"data row3 col0\" >Duplicates</td>\n",
       "      <td id=\"T_a9dbc_row3_col1\" class=\"data row3 col1\" >23 607 (99.6%)</td>\n",
       "      <td id=\"T_a9dbc_row3_col2\" class=\"data row3 col2\" >                              </td>\n",
       "      <td id=\"T_a9dbc_row3_col3\" class=\"data row3 col3\" >Median</td>\n",
       "      <td id=\"T_a9dbc_row3_col4\" class=\"data row3 col4\" >0.57</td>\n",
       "      <td id=\"T_a9dbc_row3_col5\" class=\"data row3 col5\" >                              </td>\n",
       "      <td id=\"T_a9dbc_row3_col6\" class=\"data row3 col6\" >iQR</td>\n",
       "      <td id=\"T_a9dbc_row3_col7\" class=\"data row3 col7\" >0.14</td>\n",
       "      <td id=\"T_a9dbc_row3_col8\" class=\"data row3 col8\" >                              </td>\n",
       "      <td id=\"T_a9dbc_row3_col9\" class=\"data row3 col9\" >0.62 (4%)</td>\n",
       "    </tr>\n",
       "    <tr>\n",
       "      <td id=\"T_a9dbc_row4_col0\" class=\"data row4 col0\" >Zeros</td>\n",
       "      <td id=\"T_a9dbc_row4_col1\" class=\"data row4 col1\" >---</td>\n",
       "      <td id=\"T_a9dbc_row4_col2\" class=\"data row4 col2\" >                              </td>\n",
       "      <td id=\"T_a9dbc_row4_col3\" class=\"data row4 col3\" >25%</td>\n",
       "      <td id=\"T_a9dbc_row4_col4\" class=\"data row4 col4\" >0.5</td>\n",
       "      <td id=\"T_a9dbc_row4_col5\" class=\"data row4 col5\" >                              </td>\n",
       "      <td id=\"T_a9dbc_row4_col6\" class=\"data row4 col6\" >std</td>\n",
       "      <td id=\"T_a9dbc_row4_col7\" class=\"data row4 col7\" >0.11</td>\n",
       "      <td id=\"T_a9dbc_row4_col8\" class=\"data row4 col8\" >                              </td>\n",
       "      <td id=\"T_a9dbc_row4_col9\" class=\"data row4 col9\" >0.58 (4%)</td>\n",
       "    </tr>\n",
       "    <tr>\n",
       "      <td id=\"T_a9dbc_row5_col0\" class=\"data row5 col0\" >Negative</td>\n",
       "      <td id=\"T_a9dbc_row5_col1\" class=\"data row5 col1\" >---</td>\n",
       "      <td id=\"T_a9dbc_row5_col2\" class=\"data row5 col2\" >                              </td>\n",
       "      <td id=\"T_a9dbc_row5_col3\" class=\"data row5 col3\" >5%</td>\n",
       "      <td id=\"T_a9dbc_row5_col4\" class=\"data row5 col4\" >0.39</td>\n",
       "      <td id=\"T_a9dbc_row5_col5\" class=\"data row5 col5\" >                              </td>\n",
       "      <td id=\"T_a9dbc_row5_col6\" class=\"data row5 col6\" >kurt</td>\n",
       "      <td id=\"T_a9dbc_row5_col7\" class=\"data row5 col7\" >0.23</td>\n",
       "      <td id=\"T_a9dbc_row5_col8\" class=\"data row5 col8\" >                              </td>\n",
       "      <td id=\"T_a9dbc_row5_col9\" class=\"data row5 col9\" >0.57 (4%)</td>\n",
       "    </tr>\n",
       "    <tr>\n",
       "      <td id=\"T_a9dbc_row6_col0\" class=\"data row6 col0\" >RAM (Mb)</td>\n",
       "      <td id=\"T_a9dbc_row6_col1\" class=\"data row6 col1\" ><1 Mb</td>\n",
       "      <td id=\"T_a9dbc_row6_col2\" class=\"data row6 col2\" >                              </td>\n",
       "      <td id=\"T_a9dbc_row6_col3\" class=\"data row6 col3\" >Min</td>\n",
       "      <td id=\"T_a9dbc_row6_col4\" class=\"data row6 col4\" >0.02</td>\n",
       "      <td id=\"T_a9dbc_row6_col5\" class=\"data row6 col5\" >                              </td>\n",
       "      <td id=\"T_a9dbc_row6_col6\" class=\"data row6 col6\" >skew</td>\n",
       "      <td id=\"T_a9dbc_row6_col7\" class=\"data row6 col7\" >-0.14</td>\n",
       "      <td id=\"T_a9dbc_row6_col8\" class=\"data row6 col8\" >                              </td>\n",
       "      <td id=\"T_a9dbc_row6_col9\" class=\"data row6 col9\" >0.59 (4%)</td>\n",
       "    </tr>\n",
       "  </tbody>\n",
       "</table>\n",
       "\n",
       "            <div>\n",
       "                <img src=\"data:image/png;base64,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\" alt=\"График\"/>\n",
       "            </div>\n",
       "        </div>\n",
       "        "
      ],
      "text/plain": [
       "<IPython.core.display.HTML object>"
      ]
     },
     "metadata": {},
     "output_type": "display_data"
    }
   ],
   "source": [
    "pagri_data_tools.info_column(df, 'living_total_ratio')"
   ]
  },
  {
   "cell_type": "code",
   "execution_count": null,
   "metadata": {},
   "outputs": [],
   "source": []
  },
  {
   "cell_type": "markdown",
   "metadata": {},
   "source": [
    "### Категоризация данных\n"
   ]
  },
  {
   "cell_type": "markdown",
   "metadata": {},
   "source": [
    "ВАЖНО  \n",
    "следим, чтобы не осталось пропусков в категориальной переменной  \n",
    "все пропуски нужно заменить на что-то типа - не указано"
   ]
  },
  {
   "cell_type": "code",
   "execution_count": null,
   "metadata": {},
   "outputs": [],
   "source": [
    "df.columns.isna()sum()"
   ]
  },
  {
   "cell_type": "markdown",
   "metadata": {},
   "source": [
    "Если есть пропуски, то добавляем "
   ]
  },
  {
   "cell_type": "code",
   "execution_count": null,
   "metadata": {},
   "outputs": [],
   "source": [
    ".fillna(\"не указано\").astype('category')"
   ]
  },
  {
   "cell_type": "markdown",
   "metadata": {},
   "source": [
    "Не забываем новые каеториальные переменные делать `.astype('category')`"
   ]
  },
  {
   "cell_type": "code",
   "execution_count": null,
   "metadata": {},
   "outputs": [],
   "source": [
    ".astype('category')"
   ]
  },
  {
   "cell_type": "markdown",
   "metadata": {},
   "source": [
    "ВАЖНО  \n",
    "создали новую переменную, сразу же изучили ее использу `info_gen`  \n",
    "задаем вопросы и пишем важные наблюдения  "
   ]
  },
  {
   "cell_type": "code",
   "execution_count": null,
   "metadata": {},
   "outputs": [],
   "source": [
    "pagri_data_tools.info_column(df, 'price_segment')"
   ]
  },
  {
   "cell_type": "markdown",
   "metadata": {},
   "source": [
    "Если мы при загрузке данных не смогли изменить типы данных из-за пропусков, то теперь меняем типы данных. "
   ]
  },
  {
   "cell_type": "markdown",
   "metadata": {},
   "source": [
    "У нас могут быть категориальные переменные не только для изучения данных на графиках под другим углом,  \n",
    "но категориальные переменные можно использовать для изучения среза данных.  \n",
    "Таким образом думаем какие срезы в датафрейме дадут нам важную информацию. И создаем категориальную переменную для них.  \n",
    "Например, у нас в данных есть растояние до центра, мы можем создать новую категориальную переменную и поместить туда катгории растояния до центра.  \n",
    "И затем изучить отдельные срезы в данных, например квартиры только в центре.  "
   ]
  },
  {
   "cell_type": "markdown",
   "metadata": {},
   "source": [
    "Думаем какие категориальные переменные сделать для срезов.  "
   ]
  },
  {
   "cell_type": "markdown",
   "metadata": {},
   "source": [
    "Могут быть операции разность, сумма отношение с другими переменными, которые дадут новую переменную.  \n",
    "Смотрим на имеющиеся переменные и думаем какие из этих операций можно применить.  "
   ]
  },
  {
   "cell_type": "markdown",
   "metadata": {},
   "source": [
    "> Важно, когда создали новые переменные, особенно числовые, то нужно их изучить через my_info (взять df только с нужными столбцами)  \n",
    "Посмотреть на гистограммы и стат параметры.  "
   ]
  },
  {
   "cell_type": "markdown",
   "metadata": {},
   "source": [
    "> Если у нас есть категориальная переменная, в которйо больше 3 значений, то нужно подумать а не можем ли мы из нее сделать  \n",
    "> новую категориальную переменную с 2-3 значениями, но тут важно, чтобы это несло смысл. Тут нам может помочь ИИ. И сообразительнсоть. Часто сразу не заментны возможные категории, котоыре несут смысл.  \n",
    "> Тут исходим из смысла, наша задача созадть перменную, которая добавит нашему исследованию новый смысл, даст как бы новый разрез, и это улучшит  \n",
    "> качество наших выводов.  \n",
    "> Например, у нас столбец семейный стату, и там 6-7 статусов, мы можем собрать их в 2 семейный статус и не семейный статус.  \n",
    "> Тут отлично помогает ИИ. Пишешь ему название переменной, униальные значения в ней,  \n",
    "> и просишь придумать возможную новую категориальнуюд переменную из 2-3 значений.\n"
   ]
  },
  {
   "cell_type": "markdown",
   "metadata": {},
   "source": [
    "> Вообще при категоризации ИИ очень хорошо помогает, он может дать идеи возможных категорий на оснвое имеющихся значений.  \n",
    "> Поэтому можно все столбцы прогонять через ИИ и смотреть что он предлагает, если есть то , что даст новый разрез нашим данным, то созадем категорийю.\n"
   ]
  },
  {
   "cell_type": "markdown",
   "metadata": {},
   "source": [
    "> Важно, когда мы создаем категории, то всегда смотреть value_counts.  \n",
    "> И делаем так, чтобы в каждой группе было достаточно элементов, хотя бы больше 30, а лучше больше 100.  \n",
    "> Иначе выводы будут некоректные.  \n",
    "> В идеале, чтобы количество элементов в каждой группе было от 1000. Лучше изменить диапазон и забрать часть данных от другой категории.\n"
   ]
  },
  {
   "cell_type": "markdown",
   "metadata": {},
   "source": [
    "> Важно, когда создаем категориальную переменную, то даем ей тип `category`  \n",
    "> Чтобы она появилась на графиках (так как идет фильтрация на числовые и категориальные)  \n",
    "> и чтобы места меньше занимала\n"
   ]
  },
  {
   "cell_type": "markdown",
   "metadata": {},
   "source": [
    "> Придумываем какие колонки можно дополнительно сделать из имеющихся.  \n",
    "> Например у нас есть колонка длительность звонков, и 0 это пропущенный звонок,  \n",
    "> мы можем сделать колонку is_missed, в которой будет true или false\n"
   ]
  },
  {
   "cell_type": "markdown",
   "metadata": {},
   "source": [
    "> Стараемся сделать категориальную колонку с да нет для всех возможных колонок.  \n",
    "> Например, у нас колонка количество детей и есть 0, 1, 2, 3, 4, 5 мы созадем колнку  \n",
    "> есть дети или нет. 2 значения  \n",
    "> Это очень полезно, так как мы можем посмотреть это на графиках и проверить гипотезы  \n",
    "> стат тестами.\n"
   ]
  },
  {
   "cell_type": "markdown",
   "metadata": {},
   "source": [
    "> Смотрим на колонки и думаем можно ли из нее сделать колонку с 2 значениями,  \n",
    "> например есть и нет что-то\n"
   ]
  },
  {
   "cell_type": "markdown",
   "metadata": {},
   "source": [
    "> Очень важно, когда мы создаем новые колонки, в которых используем несколько дургих, то нужно проверить распределение этой новой переменной, особенно выбросы.  \n",
    "> Например, у нас начальная и конечная дата сессии и мы считаем длительность сессии. Вот тут нужно посмотреть какая минимальная длительность  \n",
    "> и какая максимальная. Ну и естественно проверить есть ли длительность 0 и меньше нуля.  \n",
    "> Таким образом мы можем найти инсайты уже после создания новых колонок, хотя в изначальных данных этих инсайдов не было видно.\n"
   ]
  },
  {
   "cell_type": "markdown",
   "metadata": {},
   "source": [
    "> Обычная категоризация данных\n"
   ]
  },
  {
   "cell_type": "markdown",
   "metadata": {},
   "source": [
    "> Категоризация помогает избежать проблемы с разреженными данными, когда у нас есть слишком много групп с небольшим количеством элементов.  \n",
    "> Это может привести к некорректным выводам и ошибкам в анализе.\n",
    "> Категоризация нужна, чтобы образовать группы, в которых достаточно значений для использования статистических методов.  \n",
    "> И вообще, если в группе 1-10 элементов, например у нас возраст пользователей и 5 человек с возрастом 22, 3 человека с возрастом 23 и так далее.  \n",
    "> Мы не можем разбивать по таким группам, так как их размер небльшой и выводы будут некорректные, поэтому нам нужно собрать их в группы,  \n",
    "> чтобы у нас были группы с достаточным размером.\n"
   ]
  },
  {
   "cell_type": "markdown",
   "metadata": {},
   "source": [
    "- Если у нас категориальная переменная имеет много значений, то мы не можем номрально с ней работать.\n",
    "  > Так как мы не можем построить графики по ним, так как их много и они не числовые. Не можем сравнить их все.  \n",
    "  > Поэтому нам нужно сократить категории.\n",
    "- Нужно посмотреть на данные и подумать можем ли мы разделить их по сегментам рынка или по другим категориям, которые нам помогут.\n",
    "- Мы можем категоризировать на основе и числовых и категориальных столбцов. То есть мы можем из категориальной переменной сделать\n",
    "  > другую категориальную, уменьшив или увеличив разбиение.\n",
    "- добавление категорий обогощает данные, при чем категории могут формироваться не из одной колонки, а из серии, то есть чтобы попасть\n",
    "  > в определенную категорию значения столбцов должно быть такое то, а не только один столбец определяет категорию.\n",
    "- категории могут быть да нет, то есть состоять из двух значений, например, у нас есть данные о рекламе и столбец где она показвалась,\n",
    "  > и у нас много много разных устройств. Мы можем разбить на да нет, то есть показвалась реклама по телеку или нет\n"
   ]
  },
  {
   "cell_type": "markdown",
   "metadata": {},
   "source": [
    "> Мы можем разбить данные на категории двумя способами\n",
    "\n",
    "- разбивать на равные части\n",
    "  > подходит, когда\n",
    "  >\n",
    "  > - диапазон значений является равномерным и имеет линейную структуру\n",
    "  > - мы понимаем на какие интервалы хотим разбить данные\n",
    "  > - мы хотим разделить диапазон значений на равные части для удобства анализа.\n",
    "- разбить на основе квантилей\n",
    "  > подходит, если\n",
    "  >\n",
    "  > - диапазон значений имеет неравномерную структуру\n",
    "  > - мы не можем понять какие интервалы выбрать\n",
    "  > - хотим выделить группы с конкретными характеристиками (например, группы с низким доходом, средним доходом и высоким доходом)\n"
   ]
  },
  {
   "cell_type": "markdown",
   "metadata": {},
   "source": [
    "> Выбираем нужные способ и используем  \n",
    "> `create_category_column`\n"
   ]
  },
  {
   "cell_type": "markdown",
   "metadata": {},
   "source": [
    "> Чтобы посмотреть распределение по квантилям используем `pagri_data_tools.quantiles_columns()`\n"
   ]
  },
  {
   "cell_type": "code",
   "execution_count": null,
   "metadata": {},
   "outputs": [],
   "source": [
    "df['floor_cat'] = df.apply(lambda x: 'первый' if x['floor'] == 1 else 'последний' if x['floor'] == x['floors_total'] else 'другой', axis=1).value_counts()"
   ]
  },
  {
   "cell_type": "code",
   "execution_count": null,
   "metadata": {},
   "outputs": [],
   "source": [
    "pagri_data_tools.quantiles_columns()"
   ]
  },
  {
   "cell_type": "code",
   "execution_count": null,
   "metadata": {},
   "outputs": [],
   "source": [
    "pagri_data_tools.create_category_column()"
   ]
  },
  {
   "cell_type": "markdown",
   "metadata": {},
   "source": [
    "> Сделаем следующие группы\n",
    "\n",
    "- до 30 лет\n",
    "- от 30 до 40 лет\n",
    "- от 40 до 50 лет\n",
    "- от 50 до 60 лет\n",
    "- старше 60 лет\n"
   ]
  },
  {
   "cell_type": "code",
   "execution_count": null,
   "metadata": {},
   "outputs": [],
   "source": [
    "labels = ['до 30', '30-40', '40-50', '50-60', 'старше 60']\n",
    "bins = [-np.inf, 30, 40, 50, 60, np.inf]"
   ]
  },
  {
   "cell_type": "code",
   "execution_count": null,
   "metadata": {},
   "outputs": [
    {
     "data": {
      "text/plain": [
       "30-40        5704\n",
       "40-50        5241\n",
       "50-60        4520\n",
       "до 30        3804\n",
       "старше 60    2132\n",
       "Name: age_cat, dtype: int64"
      ]
     },
     "metadata": {},
     "output_type": "display_data"
    }
   ],
   "source": [
    "df['age_cat'] = pagri_data_tools.create_category_column(df.age, labels=labels, bins=bins)\n",
    "df['age_cat'].value_counts(dropna=False)"
   ]
  },
  {
   "cell_type": "markdown",
   "metadata": {},
   "source": [
    "Создаем новые переменные из времени"
   ]
  },
  {
   "cell_type": "code",
   "execution_count": null,
   "metadata": {},
   "outputs": [],
   "source": []
  },
  {
   "cell_type": "code",
   "execution_count": null,
   "metadata": {},
   "outputs": [],
   "source": [
    "weekday_dict = {\n",
    "    'Monday': 'Понедельник',\n",
    "    'Tuesday': 'Вторник',\n",
    "    'Wednesday': 'Среда',\n",
    "    'Thursday': 'Четверг',\n",
    "    'Friday': 'Пятница',\n",
    "    'Saturday': 'Суббота',\n",
    "    'Sunday': 'Воскресенье'\n",
    "}\n",
    "month_dict = {\n",
    "    1: 'Январь',\n",
    "    2: 'Февраль',\n",
    "    3: 'Март',\n",
    "    4: 'Апрель',\n",
    "    5: 'Май',\n",
    "    6: 'Июнь',\n",
    "    7: 'Июль',\n",
    "    8: 'Август',\n",
    "    9: 'Сентябрь',\n",
    "    10: 'Октябрь',\n",
    "    11: 'Ноябрь',\n",
    "    12: 'Декабрь'\n",
    "}"
   ]
  },
  {
   "cell_type": "code",
   "execution_count": null,
   "metadata": {},
   "outputs": [],
   "source": [
    "df['publication_weekday'] = df['first_day_exposition'].dt.day_name().map(weekday_dict).astype('category')\n",
    "df['publication_month'] = df['first_day_exposition'].dt.month.map(month_dict).astype('category')\n",
    "df['publication_year'] = df['first_day_exposition'].dt.year.astype(str).astype('category')\n",
    "# Задаем порядок для weekdays\n",
    "weekday_order = ['Понедельник', 'Вторник', 'Среда', 'Четверг', 'Пятница', 'Суббота', 'Воскресенье']\n",
    "df['publication_weekday'] = df['publication_weekday'].cat.reorder_categories(weekday_order, ordered=True)\n",
    "\n",
    "# Задаем порядок для months\n",
    "month_order = ['Январь', 'Февраль', 'Март', 'Апрель', 'Май', 'Июнь', 'Июль', 'Август', 'Сентябрь', 'Октябрь', 'Ноябрь', 'Декабрь']\n",
    "df['publication_month'] = df['publication_month'].cat.reorder_categories(month_order, ordered=True)\n"
   ]
  },
  {
   "cell_type": "code",
   "execution_count": null,
   "metadata": {},
   "outputs": [],
   "source": [
    "df.columns.isna()sum()"
   ]
  },
  {
   "cell_type": "markdown",
   "metadata": {},
   "source": [
    "Чтобы получить формат `янв'09`"
   ]
  },
  {
   "cell_type": "code",
   "execution_count": null,
   "metadata": {},
   "outputs": [],
   "source": [
    "# Словарь для замены месяцев\n",
    "months_translation = {\n",
    "    'Jan': 'Янв',\n",
    "    'Feb': 'Фев',\n",
    "    'Mar': 'Мар',\n",
    "    'Apr': 'Апр',\n",
    "    'May': 'Май',\n",
    "    'Jun': 'Июн',\n",
    "    'Jul': 'Июл',\n",
    "    'Aug': 'Авг',\n",
    "    'Sep': 'Сен',\n",
    "    'Oct': 'Окт',\n",
    "    'Nov': 'Ноя',\n",
    "    'Dec': 'Дек'\n",
    "}\n",
    "# Получаем отдельно месяц и год\n",
    "months = df['first_day_exposition'].dt.strftime('%b').astype('category').cat.reorder_categories(list(months_translation.keys()), ordered=True)\n",
    "years = df['first_day_exposition'].dt.strftime('%y')\n",
    "months_years = pd.concat([months, years], axis=1)\n",
    "months_years.columns = ['month', 'year']\n",
    "# Создаем список уникальных (год, месяц) и сортируем\n",
    "unique_months = months_years.drop_duplicates().sort_values(by=['year', 'month'])\n",
    "\n",
    "# Создаем список для порядка\n",
    "month_year_order = []\n",
    "\n",
    "# Формируем month_year_order на основе уникальных (год, месяц)\n",
    "for _, row in unique_months.iterrows():\n",
    "    year = row['year']\n",
    "    month = row['month']\n",
    "    month_year_order.append(f\"{months_translation[month]}'{str(year)[-2:]}\")\n",
    "\n",
    "# Заменяем месяцы и соединяем с годом\n",
    "df['publication_month_year'] = months.astype(str).map(months_translation) + \"'\" + years\n",
    "df['publication_month_year'] = df['publication_month_year'].astype('category')\n",
    "df['publication_month_year'] = df['publication_month_year'].cat.reorder_categories(month_year_order, ordered=True)\n",
    "df['publication_month_year']"
   ]
  },
  {
   "cell_type": "code",
   "execution_count": null,
   "metadata": {},
   "outputs": [],
   "source": [
    "df.columns.isna()sum()"
   ]
  },
  {
   "cell_type": "markdown",
   "metadata": {},
   "source": [
    "Для верменных переменных нужно делать не только отедльно месяц, год.  \n",
    "Но и делать категориальную переменную обрезая время.  \n",
    "То есть мы созадем переменную   \n",
    "Янв'23"
   ]
  },
  {
   "cell_type": "markdown",
   "metadata": {},
   "source": [
    "Но нужно подумать, нужна ли нам будет именно временная переменная, или достаточно категории,  \n",
    "если будет нужна временная, то создаем обрезанную переменную datetime используя .dt.round()"
   ]
  },
  {
   "cell_type": "markdown",
   "metadata": {},
   "source": [
    "> Категоризация с использованием лемматизации\n"
   ]
  },
  {
   "cell_type": "markdown",
   "metadata": {},
   "source": [
    "> Если у нас есть столбец и мы хотим его лематизировать, то используем функцию  \n",
    "> `lemmatize_column`\n"
   ]
  },
  {
   "cell_type": "markdown",
   "metadata": {},
   "source": [
    "> Чтобы создать лемы для словаря категоризации, можно посмотреть имеющиеся предложения и использовать\n",
    ">\n",
    "> ```\n",
    "> m = Mystem()\n",
    "> m.lemmatize('образованием')\n",
    "> ```\n"
   ]
  },
  {
   "cell_type": "code",
   "execution_count": null,
   "metadata": {},
   "outputs": [],
   "source": [
    "m = Mystem()\n",
    "m.lemmatize('образованием')"
   ]
  },
  {
   "cell_type": "code",
   "execution_count": null,
   "metadata": {},
   "outputs": [],
   "source": [
    "pagri_data_tools.lemmatize_column()"
   ]
  },
  {
   "cell_type": "code",
   "execution_count": null,
   "metadata": {},
   "outputs": [],
   "source": [
    "categorization_dict = {\n",
    "    'недвижимость': ['жилье', 'недвижимость']\n",
    "    , 'образование': ['образование']\n",
    "    , 'автомобиль': ['автомобиль', 'машина']\n",
    "    , 'свадьба': ['свадьба'] \n",
    "}"
   ]
  },
  {
   "cell_type": "code",
   "execution_count": null,
   "metadata": {},
   "outputs": [
    {
     "data": {
      "text/plain": [
       "недвижимость    10779\n",
       "автомобиль       4288\n",
       "образование      3997\n",
       "свадьба          2337\n",
       "Name: purpose_new, dtype: int64"
      ]
     },
     "metadata": {},
     "output_type": "display_data"
    }
   ],
   "source": [
    "df['purpose_new'] = pagri_data_tools.categorize_column_by_lemmatize(df.purpose, categorization_dict, use_cache=True)\n",
    "df['purpose_new'].value_counts(dropna=False)"
   ]
  },
  {
   "cell_type": "markdown",
   "metadata": {},
   "source": [
    "> Если нужно, уддалим старую колонку\n"
   ]
  },
  {
   "cell_type": "code",
   "execution_count": null,
   "metadata": {},
   "outputs": [
    {
     "data": {
      "text/html": [
       "<div>\n",
       "<style scoped>\n",
       "    .dataframe tbody tr th:only-of-type {\n",
       "        vertical-align: middle;\n",
       "    }\n",
       "\n",
       "    .dataframe tbody tr th {\n",
       "        vertical-align: top;\n",
       "    }\n",
       "\n",
       "    .dataframe thead th {\n",
       "        text-align: right;\n",
       "    }\n",
       "</style>\n",
       "<table border=\"1\" class=\"dataframe\">\n",
       "  <thead>\n",
       "    <tr style=\"text-align: right;\">\n",
       "      <th></th>\n",
       "      <th>children</th>\n",
       "      <th>dob_years</th>\n",
       "      <th>education</th>\n",
       "      <th>family_status</th>\n",
       "      <th>gender</th>\n",
       "      <th>income_type</th>\n",
       "      <th>debt</th>\n",
       "      <th>total_income</th>\n",
       "      <th>purpose</th>\n",
       "      <th>dob_cat</th>\n",
       "      <th>total_income_cat</th>\n",
       "    </tr>\n",
       "  </thead>\n",
       "  <tbody>\n",
       "    <tr>\n",
       "      <th>0</th>\n",
       "      <td>1</td>\n",
       "      <td>42</td>\n",
       "      <td>высшее</td>\n",
       "      <td>женат / замужем</td>\n",
       "      <td>F</td>\n",
       "      <td>сотрудник</td>\n",
       "      <td>0</td>\n",
       "      <td>253876</td>\n",
       "      <td>Недвижимость</td>\n",
       "      <td>40-50</td>\n",
       "      <td>200-500 тыс</td>\n",
       "    </tr>\n",
       "  </tbody>\n",
       "</table>\n",
       "</div>"
      ],
      "text/plain": [
       "   children  dob_years education    family_status gender income_type debt  \\\n",
       "0         1         42    высшее  женат / замужем      F   сотрудник    0   \n",
       "\n",
       "   total_income       purpose dob_cat total_income_cat  \n",
       "0        253876  Недвижимость   40-50      200-500 тыс  "
      ]
     },
     "metadata": {},
     "output_type": "display_data"
    }
   ],
   "source": [
    "df = df.drop('purpose', axis=1).rename(columns={'purpose_new': 'purpose'})\n",
    "df.head(1)"
   ]
  },
  {
   "cell_type": "markdown",
   "metadata": {},
   "source": [
    "> С помощью лематизации мы можем сократить количество категорий.\n"
   ]
  },
  {
   "cell_type": "markdown",
   "metadata": {},
   "source": [
    "> Например мы можем выделить группы:\n",
    "\n",
    "- операции с автомобилем (ключевое слово - автомобиль)\n",
    "- операции с недвижимостью (ключевые слова: жилье, недвижимость)\n",
    "- проведение свадьбы (ключевое слово: свадьба)\n",
    "- получение образования (ключевое слово: образование)\n"
   ]
  },
  {
   "cell_type": "markdown",
   "metadata": {},
   "source": [
    "> Используем функцию  \n",
    "> `categorize_column_by_lemmatize`\n"
   ]
  },
  {
   "cell_type": "code",
   "execution_count": null,
   "metadata": {},
   "outputs": [],
   "source": [
    "pagri_data_tools.categorize_column_by_lemmatize()"
   ]
  },
  {
   "cell_type": "markdown",
   "metadata": {},
   "source": [
    "Из времени также можно сделать категориальный переменные, например, создать переменную для времени заправки, если больше 1 минуты, то долгая заправка, иначе короткая и так далее.\n"
   ]
  },
  {
   "cell_type": "markdown",
   "metadata": {},
   "source": [
    "ВАЖНО подумать какие переменные мы можем создать не только категориальные, но и числовые и временные.  \n",
    "Например, обрезание времени, чтобы получить дату по часам и прочее,\n"
   ]
  },
  {
   "cell_type": "markdown",
   "metadata": {},
   "source": [
    "> Если мы хотим преобразовать категории в числа, то мы можем использовать\n",
    "\n",
    "- lable encoding\n",
    "  > Заменяем быквы числами. Хорошо работает, когда у нас порядковые категориальные переменные.  \n",
    "  > Не забываем про порядок, если у нас алфавитный порядок наших категорий соотвествует числовому, то ок,  \n",
    "  > если нет, то нам нужно самим определить порядок чисел, чтобы они соответствовали категориям в нужном порядке.\n",
    "- one hot encoding\n",
    "  > Если у нас категориальная переменная не упорядочиваемая, то лучше использовать one hot encoding, чтобы разница между числами не вносила шум,  \n",
    "  > так как черный и белый и красный цвет закодированные 1, 2, 3 вносят смысл количества, но они не имеют этого свойства.\n",
    "- target encoding\n",
    "  > замена категориальной переменной на каую-то статистику по одной из категорий внутри этой переменной.  \n",
    "  > Например у нас категориальная переменная это наличие задержки. Значение задержан / незадержан. Мы кодируем их как 0 и 1. Далее мы берем и считаем по каждой группе (для задержан и для незадержан)  \n",
    "  > статистику, например, среднее и получаем столбец, где вместо каждой буквы будет ее среднее.  \n",
    "  > Тут важно делать регуляризацию. Так как маленькие группы могут иметь сильно зашумленные статистики, так как если у нас  \n",
    "  > группа из 5 значений, то среди них может быть легко экстремальное одно и оно сбивает статистику, поэтому добавляем штраф всем статистикам.  \n",
    "  > Регуляризация это что-то похожее на сглаживание.  \n",
    "  > Как это делается\n",
    "  >\n",
    "  > - берем считаем среднее по таргету (целевой переменной, то есть той, по которой мы счтаем статистику) всей таблице (то есть не делим на категории)\n",
    "  > - Далее используем следующую формулу для сглаженного значения среднего по конкретной группе:  \n",
    "  >   (среднее по группе _ количество элементов в группе + среднее по таргету без учета категорий _ размер регуляризирующей группы) / (количество элементов в категории + размер регуляризирующей группы)  \n",
    "  >   Количество элементов в регуляризационнной группе выбирает эмперически. То есть это количество элементов, которым мы сглаживаем.  \n",
    "  >   Смысл в том, что мы берем сколько-то элементов с занчением для всех категорий и сглаживаем им наши отдельные категории.\n",
    "  > - Размер регуляризирующей группы обычно выбирают с помощью grid search, то есть берут цикл для размера этой группы и считают результат модели для каждого размера,  \n",
    "  >   и потом выбирают тот размер, для которого результат лучше.\n",
    "  >\n",
    "  > `target_encoding_linear`  \n",
    "  > `target_encoding_bayes`\n"
   ]
  },
  {
   "cell_type": "code",
   "execution_count": null,
   "metadata": {},
   "outputs": [],
   "source": [
    "pagri_data_tools.target_encoding_linear()\n",
    "pagri_data_tools.target_encoding_bayes()"
   ]
  },
  {
   "cell_type": "markdown",
   "metadata": {},
   "source": [
    "> Использование кластеризации для категоризации\n"
   ]
  },
  {
   "cell_type": "markdown",
   "metadata": {},
   "source": [
    "> Можно понизить размерность до 3  \n",
    "> и построить 3 д график  \n",
    "> По этому графику посмотреть есть ли у нас возможные кластеры  \n",
    "> Если есть, то выделить их  \n",
    "> Причем для понижения размерности можно брать все столбцы, а можно только часть.\n"
   ]
  },
  {
   "cell_type": "markdown",
   "metadata": {},
   "source": [
    "### Расчет метрик\n"
   ]
  },
  {
   "cell_type": "markdown",
   "metadata": {},
   "source": [
    "#### Метрики продукта\n"
   ]
  },
  {
   "cell_type": "markdown",
   "metadata": {},
   "source": [
    "> тут будут расчеты продуктовых метрик\n"
   ]
  },
  {
   "cell_type": "markdown",
   "metadata": {},
   "source": [
    "#### Экономические метрики\n"
   ]
  },
  {
   "cell_type": "markdown",
   "metadata": {},
   "source": [
    "> тут будут расчеты экономических метрик\n"
   ]
  },
  {
   "cell_type": "markdown",
   "metadata": {},
   "source": [
    "> Если расчет метрик является важным аспектом вашего исследования и требует подробного описания, то создание отдельной главы будет лучшим решением.  \n",
    "> Если в этом разделе будет немного расчетов, то можно сделать расчеты метрик разделом предобработки данных\n"
   ]
  },
  {
   "cell_type": "markdown",
   "metadata": {},
   "source": [
    "> Расчитываем разные метрики на основе имеющихся данных и тех, которыми смогли обогатить данные\n"
   ]
  },
  {
   "cell_type": "markdown",
   "metadata": {},
   "source": [
    "> Важно следить за количеством недель в году, если мы создаем столбец месяца.  \n",
    "> Проверять чтобы у нас не появлялась неделя дополнительная, из за того, что мы захватили предыдущий год\n"
   ]
  },
  {
   "cell_type": "markdown",
   "metadata": {},
   "source": [
    "### Объединение данных\n"
   ]
  },
  {
   "cell_type": "markdown",
   "metadata": {},
   "source": [
    "> Проверка соответствия:  \n",
    "> Если у нас в разных таблицах есть значения, которые дожны быть одинакоые,  \n",
    "> то нужно проверить, что значения в одном столбце соответствуют значениям в другом столбце.\n"
   ]
  },
  {
   "cell_type": "code",
   "execution_count": null,
   "metadata": {},
   "outputs": [],
   "source": [
    "df['column_name1'].equals(df['column_name2'])"
   ]
  },
  {
   "cell_type": "markdown",
   "metadata": {},
   "source": [
    "> Обоготить данные можно следующими способами\n",
    "\n",
    "- взять поле нашей таблицы и найти дополнительные данные в интернете или ещё где-то и потом связать с нашей колонкой по этому полю\n",
    "  > Самое просто это дата, если у нас есть дата, то мы можем много разной доп информации внести в наши данные связывая по дате.  \n",
    "  > Также, например, у нас есть какие-то коды чего-то, мы ищем информацию по этим кодам и находим табличку с доп инфой по этим кодам и можем обоготить ими  \n",
    "  > нашу таблицу. Например, у нас города или страны, мы можем по ним также внести доп инфу из какого-то источника, которая нам поможет.  \n",
    "  > Вообще любое поле нашей таблицы это потенцильная нить для обогощения. Главное понять с чем полезным мы можем соеденить  \n",
    "  > через конкретное поле, чтобы получить больше полезной информации для анализа, по сути для детализации наших зависимостей или для поиска  \n",
    "  > новых зависимостей и инсайтов в них.  \n",
    "  > Процесс следующий - мы берем каждую колонку нашего дата сета и думаем, с чем через нее мы можем связать и если придумываем, то идешь ищем эту информацию и  \n",
    "  > в итоге соединяем.\n",
    "- Можно пойти от обратного. Сначал подумтаь какие данные нам могут помочь и поискать их в интернете например, а потом уже думать как их соеденить с нашими\n",
    "  > данными. Оба способа лучше делать одновременно.\n"
   ]
  },
  {
   "cell_type": "markdown",
   "metadata": {},
   "source": [
    "> Каждый раз, когда мы работаем с дата сетом, мы должны понять что является сущностью этого дата сета.  \n",
    "> Например событие, человек и прочее.  \n",
    "> Далее нам нужно поянть а можем ли мы его идентифицировать по текущим данным (не всегда есть уникальный ай ди).  \n",
    "> Если не можем, то нужно думта как обогатить данные, чтобы четко идентифицировать сущности\n"
   ]
  },
  {
   "cell_type": "markdown",
   "metadata": {},
   "source": [
    "> Что нужно обязательно првоерить после соединения\n",
    "\n",
    "- если мы соединяем по полю, которое уникально в обеих таблицах\n",
    "  > - количество строк в левом датафрейме равно количеству строк в итоговом\n",
    "  > - параметры каждого дата сета не изменились (если мы соединили правильно, то итоговые суммы по столбцам не должны измениться)\n",
    "  >   - используем `df.sum(numeric_only=True)` для каждой таблицы до соединения и для общей таблицы и сравниваем значения\n",
    "  >   - можно использвоать `df.describe` также до и после объединения и сравнивать параметры\n",
    "- если у нас в одной из колонок для соединения не уникальные значения (то есть для одной строки в левой таблице будет несколько в итоговй)\n",
    "  > - Сначала группируем таблицы, чтобы поле для соединения в обеих таблицах было уникальное\n",
    "  >   и применяем предыдущий шаг с количеством строк в левой и итоговой и суммой значений в левой и итоговой одинаковой\n",
    "  > - Если нам нужно соеденить без группировки (но это редко может быть, поэтому нужно подумать точно ли не моежм сгруппировать)  \n",
    "  >   тогда нет выбора и остаются только следующие варианты  \n",
    "  >    - если в левой таблице уникальные записи в колонке, по которйо соединяем  \n",
    "  >    - тогда считаем сколько было записей в левой таблице в колонке для соединения и сравниваем с количеством **уникальных** записей в итоговой  \n",
    "  >    они должны совпадать, но тут важно в итоговой брать уникальные записи - есил и в левой и правой нет уникальных - тут считаем сколько **уникальных** в левой до и сколько **уникальных** в итоговой, должно совпадать\n"
   ]
  },
  {
   "cell_type": "markdown",
   "metadata": {},
   "source": [
    "> Если у нас что-то не сходится после соединения таблиц, то нужно внимально изучить это.  \n",
    "> Тут может быть инсайт (кто-то не правильно вносит информацию, какие-то значения неверные или кто-то что-то хотел спрятать, не указать и прчоее).  \n",
    "> Когда видим нестыковки после соединения таблиц, то должна загораться красная лампочка. Это потенциальный инсайт, баг, который мы можем найти и сообщить, чтобы его починили.\n"
   ]
  },
  {
   "cell_type": "markdown",
   "metadata": {},
   "source": [
    "> помним, что метод соединения inner стоит по умолчанию в merge\n"
   ]
  },
  {
   "cell_type": "markdown",
   "metadata": {},
   "source": [
    "> В колонках, по которым будем соеднить, проверяем, нет ли пропусков, пропуски нужно заменить нулями.  \n",
    "> Иначе будет либо ошибка, либо пропуски сджойнятся с пропусками\n"
   ]
  },
  {
   "cell_type": "markdown",
   "metadata": {},
   "source": [
    "> Проблема справочников  \n",
    "> При объединение таблиц важно помнить про то, что в разных таблицах не только названия столбцов может быть разное,  \n",
    "> но и одно значение может быть записано по разному в разных таблицах, например, названия профессий, названия городов,  \n",
    "> имя в одной таблице на русском, а в другой на английском, номер телефона с черточкой или плюсом и без черточки или плюса.  \n",
    "> Поэтому не забываем привести все значения таблиц к нижнему регистру, чтобы не было проблем разными регистрами для одного слова\n"
   ]
  },
  {
   "cell_type": "markdown",
   "metadata": {},
   "source": [
    "> Проблема временных зон  \n",
    "> В одной таблице может быть выгрузка по местному времени, а в другом по московскому\n"
   ]
  },
  {
   "cell_type": "markdown",
   "metadata": {},
   "source": [
    "> Проблема курсов валют  \n",
    "> Разыне системы могут брать курс за разные промежутки вермени, например, одна система берет курс в гугле (раз в час обновляется),  \n",
    "> а другая система берет курс в ЦБ (обновляется раз в сутки)  \n",
    "> И поэтому итоговые резултаты могут не состыковаться, поэтому, когда видим курсы валют, то нужно убедиться. что они взяты из одного испточника  \n",
    "> и за один промежуток времени\n"
   ]
  },
  {
   "cell_type": "markdown",
   "metadata": {},
   "source": [
    "> Когда мы работаем с данными, нам важно четко идентифицировать клиентов, событие или другую сущность, с которой мы работаем.  \n",
    "> Иначе у нас будет шум, так как мы одного и того же клиента учтем более одного раза.\n"
   ]
  },
  {
   "cell_type": "markdown",
   "metadata": {},
   "source": [
    "> Как можно обоготить данные, чтобы лучше идентифицировать сущности\n",
    "\n",
    "- Добавить для клиента email, телефон, устройство, 4 цифры карты и другое, что может помочь его идентифицировать\n",
    "  > Это важно так как у клиента могут быть разные телефоны, устройства, карты, но все это вместе поможет его идентифицировать точнее\n",
    "- Добавить для события локацию, погоду, связанные событие, праздники, что поможет нам идентифицировать событие\n"
   ]
  },
  {
   "cell_type": "markdown",
   "metadata": {},
   "source": [
    "### Промежуточный вывод\n"
   ]
  },
  {
   "cell_type": "markdown",
   "metadata": {},
   "source": [
    "## Визуализация взаимосвязей переменных\n"
   ]
  },
  {
   "cell_type": "markdown",
   "metadata": {},
   "source": [
    "### Исследование корреляционных связей"
   ]
  },
  {
   "cell_type": "markdown",
   "metadata": {},
   "source": [
    "Следим за правильным порядком переменных полученных из времени"
   ]
  },
  {
   "cell_type": "markdown",
   "metadata": {},
   "source": [
    "Чтобы подготовить title_for_axis, пишем ии так  "
   ]
  },
  {
   "cell_type": "markdown",
   "metadata": {},
   "source": [
    "запомни - total_images = ['Число фотографий', 'числа фотографий', 0], - тут первый элемент списка это общая форма и с большой буквы, второй элемент это форма первого элемента при ответе на вопрос Чего и третий элеент списка это род элемента (0 - средний род, 1 - мужской род, 2 женский род) понятно?  "
   ]
  },
  {
   "cell_type": "markdown",
   "metadata": {},
   "source": [
    "и далее даем список нужных названий колонок в таком виде "
   ]
  },
  {
   "cell_type": "markdown",
   "metadata": {},
   "source": [
    "Для корреляций достаточно просто указать название без рода и склонения"
   ]
  },
  {
   "cell_type": "code",
   "execution_count": null,
   "metadata": {},
   "outputs": [],
   "source": [
    "\n",
    "titles_for_axis= dict(\n",
    "        total_images = 'числа фотографий',\n",
    "        last_price = 'цена',\n",
    "        total_area = 'общая площадь',\n",
    "        rooms = 'число комнат',\n",
    "        ceiling_height = 'высота потолков',\n",
    "        floors_total = 'всего этажей',\n",
    "        living_area = 'жилая площадь',\n",
    "        floor = 'этаж'\n",
    ")"
   ]
  },
  {
   "cell_type": "markdown",
   "metadata": {},
   "source": [
    "ВАЖНО  \n",
    "проверить, что все категориальные переменные по прежнему имеют категориальный тип, чтобы при анализе они не поетрялись"
   ]
  },
  {
   "cell_type": "code",
   "execution_count": null,
   "metadata": {},
   "outputs": [],
   "source": [
    "df.dtypes"
   ]
  },
  {
   "cell_type": "markdown",
   "metadata": {},
   "source": [
    ">Топ n значений одного столбца по значениям в другом\n",
    ">Сделать функцию, чтобы в столбцах, где бльше 20 уникльных значений посмотреть топ n значений по другой колонке.  \n",
    ">Например, топ 10 покупателей по сумме покупок и прочее.  \n",
    ">Идея в том, что если  в столбце до 20 уникальных значений, то мы проанализируем комбинации с другими стобцами на графиках.  \n",
    ">А вот если у нас столбец не числовой и в нем больше 20 уникальных значений, то на графике мы не сможем понять топ n."
   ]
  },
  {
   "cell_type": "markdown",
   "metadata": {},
   "source": [
    ">Изучаем топ n значений в категориальных столбцах датафрейма, где значений больше порогового, по значению в столбце value_column.  \n",
    ">Тут можно делать разные топы, использовать разные функции.  \n",
    ">Задача изучить то, что мы не сможем изучить на графиках из-за болшого количества занчений в категориальной переменной,  \n",
    ">поэтому мы берем топ n значений.  "
   ]
  },
  {
   "cell_type": "code",
   "execution_count": null,
   "metadata": {},
   "outputs": [],
   "source": [
    "gen = pagri_data_tools.top_n_values_gen()\n",
    "next(gen)"
   ]
  },
  {
   "cell_type": "markdown",
   "metadata": {},
   "source": [
    ">Чтобы сравнить метрики между собой мы можем\n",
    "- использовать корреляционный анализ (Пирсена, Спирмена, Кенделла)\n"
   ]
  },
  {
   "cell_type": "markdown",
   "metadata": {},
   "source": [
    ">`heatmap_corr(df)`"
   ]
  },
  {
   "cell_type": "markdown",
   "metadata": {},
   "source": [
    "( r = 1 ): Полная положительная линейная зависимость.  \n",
    "( 0.7 < r < 1 ): Сильная положительная линейная зависимость.  \n",
    "( 0.3 < r \\leq 0.7 ): Умеренная положительная линейная зависимость.  "
   ]
  },
  {
   "cell_type": "markdown",
   "metadata": {},
   "source": [
    "Если числовых переменных не много и они входят на один график, то просто строим график"
   ]
  },
  {
   "cell_type": "code",
   "execution_count": null,
   "metadata": {},
   "outputs": [],
   "source": [
    "pagri_data_tools.pagri_data_tools.heatmap_corr(df)"
   ]
  },
  {
   "cell_type": "markdown",
   "metadata": {},
   "source": [
    "Если переменных много и нужно разделить на части, то используем эту функцию "
   ]
  },
  {
   "cell_type": "code",
   "execution_count": null,
   "metadata": {},
   "outputs": [],
   "source": [
    "gen = pagri_data_tools.heatmap_corr_gen(df, part_size=10, titles_for_axis=titles_for_axis)\n",
    "next(gen)"
   ]
  },
  {
   "cell_type": "markdown",
   "metadata": {},
   "source": [
    ">Использование регрессии и случайного леса для определения влияния переменных  "
   ]
  },
  {
   "cell_type": "markdown",
   "metadata": {},
   "source": [
    ">Коэффициенты регрессии позволяют оценить влияние каждой переменной на целевую переменную, учитывая влияние других переменных,  \n",
    ">в то время как важные компоненты в случайном лесе позволяют оценить важность каждой переменной для предсказания целевой переменной."
   ]
  },
  {
   "cell_type": "markdown",
   "metadata": {},
   "source": [
    ">Используем регрессиию"
   ]
  },
  {
   "cell_type": "markdown",
   "metadata": {},
   "source": [
    ">Чтобы построить регрессию и посмотреть стат значимость и коэффициенты удобно использовать модуль statsmodel"
   ]
  },
  {
   "cell_type": "markdown",
   "metadata": {},
   "source": [
    ">VIF означает Variance Inflation Factor (Фактор инфляции дисперсии). Это статистическая метрика,   \n",
    ">используемая для обнаружения мультиколлинеарности (сильной корреляции) между предикторами (фичами) в линейной регрессии."
   ]
  },
  {
   "cell_type": "markdown",
   "metadata": {},
   "source": [
    ">Обычно, VIF интерпретируется следующим образом:\n",
    ">\n",
    "- VIF < 5: слабая мультиколлинеарность\n",
    "- 5 ≤ VIF < 10: умеренная мультиколлинеарность\n",
    "- VIF ≥ 10: сильная мультиколлинеарность"
   ]
  },
  {
   "cell_type": "markdown",
   "metadata": {},
   "source": [
    ">\n",
    ">Смотрим R2 (коэффициент детерминации)\n",
    "- использовать коэффициенты у регресси\n",
    ">Мы строим регрессию и смотрим, у каких метрик больше коэффициенты. Таким образом мы поймем какие метрики сильнее зависят с целевой.  \n",
    ">Важно, чтобы независимые переменные некоррелировали по отдельности и вместе (мультиколлиниарность).  \n",
    ">По отдельности смотрим матрицу корреляции.  \n",
    ">Чтобы определить коррелириуют ли вместе, береме независимые переменные,  \n",
    ">и перебираем их выбирая одну из них целевой и смотрим R2.  \n",
    ">Если R2 большой, то значит эта метрика (которая целевая на этом шаге) хорошо описывается другими и ее можно выбросить.\n",
    ">Также не забываем поправки на гетероскедостичность (HC0, HC1, HC2, HC3) в статпакетах.  \n",
    ">Нам нужно ответить на следующие вопросы\n",
    ">    - Влияет ли метрика на целевую?\n",
    ">    Оцениваем коэффициенты в уравнении регресси у каждой метрики.  \n",
    ">    - Как влияет метрика на целевую?\n",
    ">    Смотрим R2 (коэффициент детерминации). И определяем какая часть целевой переменной определяется независимыми метриками.  \n",
    ">    - Коэффициенты при метриках в уравнении статистически значим? При какаом уровне значимости?\n",
    ">    Смотрим в стат пакете p value для каждого коэффициента, что нам говорит значим ли этот коэффициент.  \n",
    ">    То есть мы не просто смотрим его абсолютное значение, а учитываем p value.   \n",
    ">    - Дайте содержательную интерпретацию коэффицентам?\n",
    ">    При увеличении метрики k на 1, целевая метрика увеличивается на $b_{k} * 1$\n",
    ">    То есть нужно перевести коэффициенты в реальное сравнение, насколько увелчисться целевая метрика при изменении определенной метрики на 1\n",
    ">    - Найдите 95 процентный доверительный интервал.\n",
    ">    В стат пакете смотрим значение и оно говорит, что если мы многократно повторим ноши вычисления с новыми данными, то 95 процентов наших  \n",
    ">    полученных коэффицентов будут лежать в этом диапазоне.  "
   ]
  },
  {
   "cell_type": "markdown",
   "metadata": {},
   "source": [
    ">Строим модель и изучаем результат  \n",
    ">`linear_regression_with_vif`"
   ]
  },
  {
   "cell_type": "code",
   "execution_count": null,
   "metadata": {},
   "outputs": [],
   "source": [
    "pagri_data_tools.linear_regression_with_vif()"
   ]
  },
  {
   "cell_type": "markdown",
   "metadata": {},
   "source": [
    ">Испльзовать коэффициенты у классификацию    \n",
    ">Строим случайный лес какие метрики сильнее всего влияют на решения модели.   \n",
    ">`plot_feature_importances_classifier`   \n",
    ">`plot_feature_importances_regression`"
   ]
  },
  {
   "cell_type": "markdown",
   "metadata": {},
   "source": [
    ">Тут нужно подумать как использовать категориальные переменные тоже   \n",
    ">Нужно их перевести в one hot encoding или подобное, чтобы также проверить силу их влияния на целевую перменную"
   ]
  },
  {
   "cell_type": "code",
   "execution_count": null,
   "metadata": {},
   "outputs": [],
   "source": [
    "titles_for_axis = dict(\n",
    "    debt = 'долга'\n",
    "    , children = 'Кол-во детей'\n",
    "    , age = 'Возраст'\n",
    "    , total_income = 'Доход'\n",
    ")\n",
    "title = 'График важности признаков для предсказания цены'\n",
    "pagri_data_tools.plot_feature_importances_classifier(df, target='debt', titles_for_axis=titles_for_axis, title=title)\n",
    "pagri_data_tools.plot_feature_importances_regression()"
   ]
  },
  {
   "cell_type": "markdown",
   "metadata": {},
   "source": [
    ">На основе полученных данных формулируем гипотезы, которые будем проверять в блоке проверки гипотез"
   ]
  },
  {
   "cell_type": "markdown",
   "metadata": {},
   "source": [
    "> используем быблиотеку `shap`, чтобы определить метрики, которые лучше других помогают предсказывать целевую перемменную"
   ]
  },
  {
   "cell_type": "markdown",
   "metadata": {},
   "source": [
    "Добавить в dash app возможность сохранять код для ячейки с фильтром (срезом данных).  \n",
    "То есть у нас есть фильтр, мы хотим посмотреть срез данных и фильтруем данные.  \n",
    "И если увидели что-то важное, то мы сохраняем код для создания графика с этими x, y, category и фильтром.  \n",
    "То есть в коде сначала будет фильтрация датафрейма и потом создание графика в 2 строки.  "
   ]
  },
  {
   "cell_type": "markdown",
   "metadata": {},
   "source": [
    "важно мы не пишем все наблюдения, а только те, которые могут быть важны для анализа, то есть мы смотрим, задаем вопросы данным и   \n",
    "и если ответ важен, то мы записываем наблюдения)"
   ]
  },
  {
   "cell_type": "markdown",
   "metadata": {},
   "source": [
    "ВАЖНО   \n",
    "Когда мы видим таблицу или график, то мы придумываем вопросы к результату.  \n",
    "Все возможные вопросы (как, почему, зачем, сколько, как долго, быстро ли, медленно ли, важно ли это, из-за чего это и прочие вопрсоы)\n",
    "И отвечая на эти вопросы мы получаем наблюдения и выводы\n",
    "И чтобы задавать правильные вопросы, мы должны сначала подумать о физике параметров, которые мы видим."
   ]
  },
  {
   "cell_type": "markdown",
   "metadata": {},
   "source": [
    "Если у нас много значений в переменной, то мы агрегируем данные и можем построить бары.  \n",
    "Но если мы агрегируем данные по переменной, в которой много значений и нам это нужно.  \n",
    "То мы не сможем построить бары, и тогда мы строим гистограмму. То есть мы берем, например, для каждой заправки считаем среднее время заправки и так как у нас много заправок,  \n",
    "но мы хотим визуализировать среднее время по ним, и не агрегировать по другому параметру, то мы можем испльзовать гистограмму.  \n",
    "В данном случае гистограмма своего рода агрегация в бины, то есть мы получаем как бы новую переменную из бинов, в каждом бине будет агрегированы данные.  \n",
    "Это работает, когда нам нужно просто посмотреть колечество, так как в бинах будет количество. Таким образом мы получаем сколько у нас заправок имеют определенное среднее вермя заправки.\n"
   ]
  },
  {
   "cell_type": "markdown",
   "metadata": {},
   "source": [
    "> Про размер графиков  \n",
    "> Стандартный размер графиков width=600, height=400  \n",
    "> Для более сложных графиков, когда требуется больше места для отображения данных, можно использовать размеры width=800, height=600 или width=1000, height=800\n"
   ]
  },
  {
   "cell_type": "markdown",
   "metadata": {},
   "source": [
    "> Сравнивать количество элементов нужно в абсолютных и относительных величинах.  \n",
    "> Когда мы сравниваем только в абсолютных величинах, мы не учитываем размеры групп.  \n",
    "> В одной группе может быть элементов больше чем в другой и тогда сравнение будет не совсем точным.  \n",
    "> Если у нас 2 категориальные переменные, то мы можем сравнивать отностельные величины  \n",
    "> по одной переменной, а можем по другой.  \n",
    "> Это как сравнивать суммарный возраст в группах, это не дает полной картины и мы сравниваем средний возраст,  \n",
    "> чтобы размер группы не влиял.\n"
   ]
  },
  {
   "cell_type": "markdown",
   "metadata": {},
   "source": [
    "> ВАЖНО\n",
    "> Анализ графиков и выводы для них должны полностью перекрывать постановку задачи и цель.  \n",
    "> Это значит, что если цель проанализировать зависимость наличия долга, то мы в идеале должны проанализировать  \n",
    "> влиянеие каждой переменной на наличие долга (числовой и категориальной)  \n",
    "> Кончено нужно проанализировать все возможные зависимости.  \n",
    "> Но все зависимости с переменной в постновке задачи мы обязаны проверить и дать выводы. И о наличии и об отсутствие.  \n",
    "> Важные выводы делаем не только о наличие интересных моментов, но и об отсутствие.\n"
   ]
  },
  {
   "cell_type": "markdown",
   "metadata": {},
   "source": [
    "> Сначала раздел графиков  \n",
    "> На основе графиков формируются гипотезы (например, у нас у мужчин зп больше)\n",
    "> И после раздела графиков идет раздел проверки гипотез. Тут мы првоеряем разные гипотезы новые и те, что увидели на графиках.  \n",
    "> Это правильная последовательность сначала изучили графики и потом на основе их сформировали гипоетзы\n",
    "> Перед разделом про графики идет раздел с корреляцией и поиском главных компонет случайного леса.  \n",
    "> Мы выбиарем переменную, для которой мы далее хотим посмотреть разыне зависимости и указываем ее целевой для сучайного леса  \n",
    "> И смотрим какие фичи сильнее влияют.  \n",
    "> И теперь можем построить графики с целевой перменно и этими главными фичами и в выводе можно указать про то что это важные компоненты случаного леса\n"
   ]
  },
  {
   "cell_type": "markdown",
   "metadata": {},
   "source": [
    "> На основе полученных данных формулируем гипотезы, которые будем проверять в блоке проверки гипотез\n"
   ]
  },
  {
   "cell_type": "markdown",
   "metadata": {},
   "source": [
    "### Изучение зависимостей между числовыми переменными\n"
   ]
  },
  {
   "cell_type": "markdown",
   "metadata": {},
   "source": [
    "> Изучаем scatter plots\n"
   ]
  },
  {
   "cell_type": "code",
   "execution_count": null,
   "metadata": {},
   "outputs": [],
   "source": [
    "titles_for_axis = dict(\n",
    "    # numeric column\n",
    "    children = 'Кол-во детей'\n",
    "    , age = 'Возраст'\n",
    "    , total_income = 'Доход'    \n",
    ")"
   ]
  },
  {
   "cell_type": "code",
   "execution_count": null,
   "metadata": {},
   "outputs": [],
   "source": [
    "pairs = {('total_images', 'last_price'): None, ('total_images', 'floors_total'): {'total_images': [-2.15, 22.45], 'floors_total': [0.51, 28.54]}, ('total_images', 'kitchen_area'): {'total_images': [-1.04, 28.44], 'kitchen_area': [-0.6, 59.26]}, ('total_images', 'parks_nearest'): {'total_images': [np.int64(0), np.int64(50)], 'parks_nearest': [np.float64(1.0), np.float64(3190.0)]}, ('total_images', 'ponds_around3000'): {'total_images': [np.int64(0), np.int64(50)], 'ponds_around3000': [np.float64(0.0), np.float64(3.0)]}, ('total_images', 'living_total_ratio'): {'total_images': [np.int64(0), np.int64(50)], 'living_total_ratio': [np.float64(0.02), np.float64(1.0)]}, ('total_images', 'kitchen_total_ratio'): {'total_images': [np.int64(0), np.int64(50)], 'kitchen_total_ratio': [np.float64(0.03), np.float64(0.79)]}, ('total_images', 'price_per_sqm'): {'total_images': [np.int64(0), np.int64(50)], 'price_per_sqm': [np.int64(7962), np.int64(1907500)]}, ('last_price', 'living_area'): {'last_price': [np.int64(430000), np.int64(763000000)], 'living_area': [np.float64(2.0), np.float64(427.55)]}}\n",
    "pagri_data_tools.pairplot_pairs(df, pairs, coloring=True, horizontal_spacing=0.12, rows=3, cols=3).show(config=dict(displayModeBar=False, dpi=200), renderer=\"png\")\n",
    "# если нужно интерактивый график, то\n",
    "pagri_data_tools.pairplot_pairs(df, pairs, coloring=True, horizontal_spacing=0.12, rows=3, cols=3)"
   ]
  },
  {
   "cell_type": "markdown",
   "metadata": {},
   "source": [
    "Чтобы в dash app выбрать нужные пары для scatterplot   \n",
    "ставим  `_gen_` в месте где хотим чтобы появились ячейки с кодом для постройки графиков      \n",
    "далее используем  `pagri_dash.scatterplot_analysis_dash`"
   ]
  },
  {
   "cell_type": "code",
   "execution_count": null,
   "metadata": {},
   "outputs": [],
   "source": [
    "_gen_ "
   ]
  },
  {
   "cell_type": "code",
   "execution_count": null,
   "metadata": {},
   "outputs": [],
   "source": [
    "import sys\n",
    "sys.path.append('/colab/pagri_private_modules')\n",
    "import pagri_dash\n",
    "pagri_dash.scatterplot_analysis_dash(df, \"path/to/notebook/for/save\")"
   ]
  },
  {
   "cell_type": "markdown",
   "metadata": {},
   "source": [
    "### Изучение зависимостей между категориальными переменными\n"
   ]
  },
  {
   "cell_type": "markdown",
   "metadata": {},
   "source": [
    "> Чтобы автоматически генерировались подписи осей и заголовок графика для категориальных, временных и числовых с категориальными зависимостейь\n",
    "> , нужно заполшнить такой словарь.  \n",
    "> Первый элемент списка - это подпись оси  \n",
    "> Второй элемент списка - это как это название будет отображаться в заголовке графика  \n",
    "> Для числовых столбцов также указывается род, чтобы правильно выбрать (Середнее, средний, средняя) (0 - средний род, 1 - мужской род, 2 - женский род)\n"
   ]
  },
  {
   "cell_type": "code",
   "execution_count": null,
   "metadata": {},
   "outputs": [],
   "source": [
    "f'Среднее / Медианное / Суммарное {numeric} в зависимости от {category} и {category}'  "
   ]
  },
  {
   "cell_type": "code",
   "execution_count": null,
   "metadata": {},
   "outputs": [],
   "source": [
    "titles_for_axis = dict(\n",
    "    # numeric column (0 - средний род, 1 - мужской род, 2 - женский род) (Середнее образовние, средний доход, средняя температура) )\n",
    "    children = ['Количество детей', 'количество детей', 0]\n",
    "    , age = ['Возраст, лет', 'возраст', 1]\n",
    "    , total_income = ['Ежемесячный доход', 'ежемесячный доход', 1]    \n",
    "     # category column\n",
    "    , education = ['Уровень образования', 'уровня образования']\n",
    "    , family_status = ['Семейное положение', 'семейного положения']\n",
    "    , gender = ['Пол', 'пола']\n",
    "    , income_type = ['Тип занятости', 'типа занятости']\n",
    "    , debt = ['Задолженность (1 - имеется, 0 - нет)', 'задолженности']\n",
    "    , purpose = ['Цель получения кредита', 'цели получения кредита']\n",
    "    , dob_cat = ['Возрастная категория, лет', 'возрастной категории']\n",
    "    , total_income_cat = ['Категория дохода', 'категории дохода']\n",
    ")"
   ]
  },
  {
   "cell_type": "markdown",
   "metadata": {},
   "source": [
    "Важно когда мы смотрем очередной график, то задавать не только вопросы к данным, но и думать как можно отфильтровать  \n",
    "данные, чтобы сделать дополнительные полезные выводы.  \n",
    "То есть мы фильтруем данные и потом эти графики поместим в раздел с анализом срезов.  "
   ]
  },
  {
   "cell_type": "markdown",
   "metadata": {},
   "source": [
    "Чтобы в dash app выбрать нужные пары для scatterplot   \n",
    "ставим  `_gen_` в месте где хотим чтобы появились ячейки с кодом для постройки графиков      \n",
    "далее используем  `pagri_dash.scatterplot_analysis_dash`"
   ]
  },
  {
   "cell_type": "code",
   "execution_count": null,
   "metadata": {},
   "outputs": [],
   "source": [
    "_gen_ "
   ]
  },
  {
   "cell_type": "code",
   "execution_count": null,
   "metadata": {},
   "outputs": [],
   "source": [
    "import sys\n",
    "sys.path.append('/colab/pagri_private_modules')\n",
    "import pagri_dash\n",
    "pagri_dash.category_analysis_dash(df, \"path/to/notebook/for/save\")"
   ]
  },
  {
   "cell_type": "markdown",
   "metadata": {},
   "source": [
    "> Строим матрицу тепловой карты для категориальных переменных и изучаем зависимости  \n"
   ]
  },
  {
   "cell_type": "markdown",
   "metadata": {},
   "source": [
    "Чтобы в dash app выбрать нужные пары для scatterplot   \n",
    "ставим  `_gen_` в месте где хотим чтобы появились ячейки с кодом для постройки графиков      \n",
    "далее используем  `pagri_dash.scatterplot_analysis_dash`"
   ]
  },
  {
   "cell_type": "code",
   "execution_count": null,
   "metadata": {},
   "outputs": [],
   "source": [
    "_gen_ "
   ]
  },
  {
   "cell_type": "code",
   "execution_count": null,
   "metadata": {},
   "outputs": [],
   "source": [
    "import sys\n",
    "sys.path.append('/home/pagri/git_repos/pagri_private_modules')\n",
    "import pagri_dash\n",
    "pagri_dash.categorical_heatmap_matrix_dash(df, \"/home/pagri/git_repos/pagri-projects/quarto/projects/housing-ads-investigation/temp.ipynb\")"
   ]
  },
  {
   "cell_type": "markdown",
   "metadata": {},
   "source": [
    "> Посмотрим на распределение количества элементов между группами\n"
   ]
  },
  {
   "cell_type": "markdown",
   "metadata": {},
   "source": [
    "> Нужно подумать как отобразить не только процент от всего количества, но и пороцент в группе  \n",
    "> То есть у нас есть значение в ячейке, сумма всех, сумма по категории на оси x и сумма по категории на оси Y  \n",
    "> Вот нужно как-то отобразить процент от суммы, процент от одной категории и от другой категории\n"
   ]
  },
  {
   "cell_type": "code",
   "execution_count": null,
   "metadata": {},
   "outputs": [],
   "source": [
    "12 (0.5% of total, 20% of row, 15% of col) "
   ]
  },
  {
   "cell_type": "markdown",
   "metadata": {},
   "source": [
    "> Можно сделать кнопки, чтобы можно было подсветку делать внури колонок и строк\n"
   ]
  },
  {
   "cell_type": "markdown",
   "metadata": {},
   "source": [
    "> Можно сделать кнопки (процент от общего) (процент от тут указывается название оси x) (аналогично для второй оси)\n"
   ]
  },
  {
   "cell_type": "code",
   "execution_count": null,
   "metadata": {},
   "outputs": [],
   "source": [
    "pagri_data_tools.categorical_graph_analys_gen()"
   ]
  },
  {
   "cell_type": "markdown",
   "metadata": {},
   "source": [
    "> Строим treemap  \n",
    "> `treemap`  \n",
    "> `treemap_dash`\n",
    ">\n",
    "> ```\n",
    "> app = treemap_dash(df)\n",
    "> if __name__ == '__main__':\n",
    ">    app.run_server(debug=True)\n",
    "> ```\n"
   ]
  },
  {
   "cell_type": "code",
   "execution_count": null,
   "metadata": {},
   "outputs": [],
   "source": [
    "pagri_data_tools.treemap()"
   ]
  },
  {
   "cell_type": "code",
   "execution_count": null,
   "metadata": {},
   "outputs": [],
   "source": [
    "app = pagri_data_tools.treemap_dash(df)\n",
    "if __name__ == '__main__':\n",
    "    app.run_server(debug=True)"
   ]
  },
  {
   "cell_type": "markdown",
   "metadata": {},
   "source": [
    "> Строим parallel_categories  \n",
    "> `parallel_categories `  \n",
    "> `parallel_categories_dash `\n",
    ">\n",
    "> ```\n",
    "> app = treemap_dash(df)\n",
    "> if __name__ == '__main__':\n",
    ">    app.run_server(debug=True)\n",
    "> ```\n"
   ]
  },
  {
   "cell_type": "code",
   "execution_count": null,
   "metadata": {},
   "outputs": [],
   "source": [
    "pagri_data_tools.parallel_categories()"
   ]
  },
  {
   "cell_type": "code",
   "execution_count": null,
   "metadata": {},
   "outputs": [],
   "source": [
    "app = pagri_data_tools.parallel_categories_dash(df)\n",
    "if __name__ == '__main__':\n",
    "    app.run_server(debug=True)"
   ]
  },
  {
   "cell_type": "markdown",
   "metadata": {},
   "source": [
    "> Строим Sankey  \n",
    "> `sankey `  \n",
    "> `sankey_dash`\n",
    ">\n",
    "> ```\n",
    "> app = treemap_dash(df)\n",
    "> if __name__ == '__main__':\n",
    ">    app.run_server(debug=True)\n",
    "> ```\n"
   ]
  },
  {
   "cell_type": "code",
   "execution_count": null,
   "metadata": {},
   "outputs": [],
   "source": [
    "pagri_data_tools.sankey()"
   ]
  },
  {
   "cell_type": "code",
   "execution_count": null,
   "metadata": {},
   "outputs": [],
   "source": [
    "app = pagri_data_tools.sankey_dash(df)\n",
    "if __name__ == '__main__':\n",
    "    app.run_server(debug=True)"
   ]
  },
  {
   "cell_type": "markdown",
   "metadata": {},
   "source": [
    "### Анализ временных зависимостей\n"
   ]
  },
  {
   "cell_type": "markdown",
   "metadata": {},
   "source": [
    "Когда мы хотим изучить верменную зависимость, то нам нуно создать новые переменные с обрезанными (trunc or round) значениям, чтобы можно было сгруппировать используя groupby or pivot_table  \n",
    "по этой обрезанной переменной и применить функцию агрегации и построить график, например, среднее время заправки на азс по часам.  \n",
    "Вот когда мы работаем с временем, нам нужно думать какие переменные создать, обрезая текущее время.\n"
   ]
  },
  {
   "cell_type": "markdown",
   "metadata": {},
   "source": [
    "> Строим когортный анализ, если есть возможность\n"
   ]
  },
  {
   "cell_type": "markdown",
   "metadata": {},
   "source": [
    "> Если у нас есть даты, то мы можем посмотреть не просто абсолютные значения на каждую дату какой-то метрики,  \n",
    "> а посмотреть относительные значения относительно предыдущего значения.  \n",
    "> Для этого нужно составить таблицу, в которой будет изменение в процентах относительно предыдущего значения.  \n",
    "> И затем визуализировать для каждой даты динамику этого показателя\n"
   ]
  },
  {
   "cell_type": "markdown",
   "metadata": {},
   "source": [
    "### Изучение зависимостей между числовыми и категориальными переменными\n"
   ]
  },
  {
   "cell_type": "markdown",
   "metadata": {},
   "source": [
    "добавить слайдер как доп переменную и анимация будет сразу"
   ]
  },
  {
   "cell_type": "code",
   "execution_count": null,
   "metadata": {},
   "outputs": [],
   "source": [
    "df = px.data.gapminder()\n",
    "\n",
    "fig = px.bar(df, x=\"continent\", y=\"pop\", color=\"continent\",\n",
    "  animation_frame=\"year\", animation_group=\"country\", range_y=[0,4000000000], width=900, height=500)\n",
    "fig.show()"
   ]
  },
  {
   "cell_type": "markdown",
   "metadata": {},
   "source": [
    "Важно когда мы смотрем очередной график, то задавать не только вопросы к данным, но и думать как можно отфильтровать  \n",
    "данные, чтобы сделать дополнительные полезные выводы.  \n",
    "То есть мы фильтруем данные и потом эти графики поместим в раздел с анализом срезов.  "
   ]
  },
  {
   "cell_type": "markdown",
   "metadata": {},
   "source": [
    "> Можно добавить кнопку среднее и количество  \n",
    "> Чтобы можно было посмотртеть распределение по количеству, когда смотрить среднее.\n"
   ]
  },
  {
   "cell_type": "code",
   "execution_count": null,
   "metadata": {},
   "outputs": [],
   "source": [
    "_gen_ "
   ]
  },
  {
   "cell_type": "markdown",
   "metadata": {},
   "source": [
    "Добавить в hover количество элементов в группе,  \n",
    "чтобы понимать размер группы."
   ]
  },
  {
   "cell_type": "markdown",
   "metadata": {},
   "source": [
    "Добавить возможность перескакивать комбинации.  \n",
    "Если много колонок, то комбинаций очень много и часть может быть просто не нужна для анализа.  "
   ]
  },
  {
   "cell_type": "markdown",
   "metadata": {},
   "source": [
    "Изучаем следующим образом  \n",
    "- смотрим на график и определяем есть ли взаимодейсвие (то есть отличаются ли значения в разных группах, это будет видно как разная высота баров)\n",
    "- если разницы в барах нет, или она минимальная, то сразу можно пропускать\n",
    "- если разница есть, то думаем важна ли для нас ээта комбинация столбцов\n",
    "- если нет, то пропускаем\n",
    "- если да, то пишем наблюдения и сохраняем"
   ]
  },
  {
   "cell_type": "markdown",
   "metadata": {},
   "source": [
    "Не забываем смотреть 1_cat чтобы изучить отдельную категорию.  \n",
    "То есть график появлился, смотрим на обе категории и на числовую переменную и думаем, нужно ли нам по отдельности изучить  \n",
    "каждую категориальную переменную c числовой. Если уже изучили, то не изучаем.\n",
    "Нужно подумать как сохранять уже изученые комбинации, чтобы не повторяться (может в dash app добавить всплывающее окно, для графиков, для которых уже был вывод, что уже было)"
   ]
  },
  {
   "cell_type": "markdown",
   "metadata": {},
   "source": [
    "Нужно сделать в dash app чтобы было 4 графика \n",
    "- каждая категория с числвой (2 графика)\n",
    "- и по 2 категории вместе с числовой для разной последовательности категорий (то есть сначала одна легенда, потом другая)  \n",
    "Так будет удобно и в браузере есть место для 4 графиков."
   ]
  },
  {
   "cell_type": "code",
   "execution_count": null,
   "metadata": {},
   "outputs": [],
   "source": [
    "import sys\n",
    "sys.path.append('/home/pagri/git_repos/pagri_private_modules')\n",
    "import pagri_dash\n",
    "pagri_dash.numeric_category_analysis_dash(df, \"/home/pagri/git_repos/pagri-projects/quarto/projects/housing-ads-investigation/temp.ipynb\")"
   ]
  },
  {
   "cell_type": "markdown",
   "metadata": {},
   "source": [
    "### Анализ срезов данных "
   ]
  },
  {
   "cell_type": "markdown",
   "metadata": {},
   "source": [
    "Срезы нужно обязательно сравнить со всем датафреймом.  \n",
    "То есть мы например, изучили центр города и нужно сделать выводы основываясь на сравнении центра и всего города."
   ]
  },
  {
   "cell_type": "markdown",
   "metadata": {},
   "source": [
    "Нужно создать 2 генератора и параллельно идти, чтобы сначала выводился срез, а потом уже целый датафрейм.  \n",
    "Тут наша задача не изучать выбросы, дубли и прочее.  \n",
    "Тут задача найти отличия среза от всего датафрейма."
   ]
  },
  {
   "cell_type": "markdown",
   "metadata": {},
   "source": [
    "Возможно лучше прйти все колонки так попарно, а потом выбрать только те, которые имеют отличия.  \n",
    "И построить только их."
   ]
  },
  {
   "cell_type": "markdown",
   "metadata": {},
   "source": [
    "Срезы нужны не только чтобы изучить отдельно часть данных, важно сравнивать срез со всем датафреймом.  \n",
    "Нужно подумать какие срезы будет полезно сравнить со всем датафреймом.  \n",
    "И провести сравнительный анализ. И поместить в отчет то, что имеет отличия и важно для выводов."
   ]
  },
  {
   "cell_type": "markdown",
   "metadata": {},
   "source": [
    "сделать приложение dash чтобы можно было выбирать колонки для анализа,  \n",
    "чтобы можно было фильтровать по всем категориальным переменным,  \n",
    "чтобы были слайдеры для фильтрации по числовым переменным,\n",
    "чтобы можно было выбирать типы графиков и строить разные графики.  \n",
    "Это не генератор, а это для ad-hoc анализа.   \n",
    "То есть мы подумали что интересно будет изучить этот срез и эти переменные и изучили.  \n",
    "А потом можно подумать как это автоматиировать, чтобы в цикле строились нужные графики.  "
   ]
  },
  {
   "cell_type": "markdown",
   "metadata": {},
   "source": [
    "Анализ срезов состоит из анализа срезов из одного значения, то есть мы выбираем конкретное значени и по  нему фильтруем.  \n",
    "и анализа срезов из нескольких переменных, когда мы выбираем несколько значений для среза или даже несколько переменных и в них выбираем определенные значения.  "
   ]
  },
  {
   "cell_type": "markdown",
   "metadata": {},
   "source": [
    "Анализ срезов по одному значению мы просто фильтруем по нему и смотрим результат функции `info_gen` или 'info_column'  "
   ]
  },
  {
   "cell_type": "markdown",
   "metadata": {},
   "source": [
    "А анализ срезво по нескольким значениям или переменным будет результатом анализа графиков в dash app.  \n",
    "То есть мы в процессе анализа фильтруем данные и после работы в dahs app мы фильтрованные графики помещаюем в этот раздел.  \n",
    "Чтобы разделить срезы и полный анализ.  "
   ]
  },
  {
   "cell_type": "markdown",
   "metadata": {},
   "source": [
    "Нужно подумать как лучше изучать срезы.  \n",
    "В данном разделе лучше изучить срезы отдельных значений, то есть отдельный город, отдельный пол и прочее.  \n",
    "То есть мы фильтруем по одному значению и его изучаем в функцией `info`  \n",
    "А изучение срезов данных, которые состоят из набора значений (например изучить цену в топ 10 городах), это уже будет сделано  \n",
    "в анализе графиков.  "
   ]
  },
  {
   "cell_type": "markdown",
   "metadata": {},
   "source": [
    "Тут мы изучаем подготовленный набор данных в разрезе разных категориальных переменных.  \n",
    "Задача посмотреть на отдельные срезы и найти закономерности в данных.  "
   ]
  },
  {
   "cell_type": "markdown",
   "metadata": {},
   "source": [
    "Например у нас есть данные о продажах квартир, мы создали новые категориальные перменные, обогатили данные  \n",
    "И теперь хотим посмотреть какое распределение цены только в центре, или какая площадь квартир возле парков и прочее.  \n",
    "То есть мы тут изучаем отдельно переменные в разрезе категорий, то есть строим срезы.  \n",
    "ВАжно, что тут мы изучаем отедльные переменные, срезы в зависимостях переменных будем строить в разаделе визуализации. "
   ]
  },
  {
   "cell_type": "markdown",
   "metadata": {},
   "source": [
    "Определить цель. Прежде чем начинать анализ срезов, важно четко определить, какие вопросы вы хотите ответить или какие гипотезы хотите проверить. Это может включать:\n",
    "- Сравнение различных групп (например, по возрасту, полу, региону).\n",
    "- Изучение влияния определенных факторов на целевую переменную.\n",
    "- Выявление аномалий или неожиданных паттернов в данных."
   ]
  },
  {
   "cell_type": "markdown",
   "metadata": {},
   "source": [
    "Выбор переменных для срезов. Выберите переменные, по которым вы хотите сделать срезы. Это могут быть как категориальные, так и количественные переменные. Примеры:\n",
    "- Категориальные переменные: пол, категория товара, регион, уровень образования.\n",
    "- Количественные переменные: возраст, доход, количество покупок (то есть мы можем просто взять срез с зарплатой до 100 тысяч и прочее, не обязательно иметь категорию для создания срезов, причем у нас может быть категория доходов, но срез мы можем взять в другом диапазоне)."
   ]
  },
  {
   "cell_type": "markdown",
   "metadata": {},
   "source": [
    "Важно когда мы выбрали параметры по которым хотим сделать срез, то далее нужно выбрать условие по которому мы будем создавать срез.  \n",
    "Срез это фильтрация или группировка, то есть должна быть либо функция аггрегации или значения по которым мы будем фильтровть.  \n",
    "Например мы для среза выбрали параметр города. Теперь нам нужно отобрать города для среза.  \n",
    "Мы выбираем параметр количество объявлений (все зависит от цели, можно было выбрать и количество населения, значение других параметров, все что поможет нам создать топ)\n",
    "И далее по нему фильтруем или аггрегируем.  "
   ]
  },
  {
   "cell_type": "markdown",
   "metadata": {},
   "source": [
    "Срезы данных можно создавать различными способами. Вот несколько подходов:\n",
    "- Фильтрация данных: Используйте условия для выбора подмножеств данных.  \n",
    "Например, выберите только тех клиентов, которые находятся в определенном регионе или имеют доход выше определенного порога.  \n",
    "- Группировка данных: Используйте функции группировки (например, groupby в pandas для Python) для агрегирования данных по выбранным переменным.   \n",
    "Это позволяет вам получить сводные статистики по группам.\n",
    "- Кросс-табуляция: Для категориальных переменных создайте кросс-таблицы, чтобы увидеть взаимосвязи между переменными."
   ]
  },
  {
   "cell_type": "markdown",
   "metadata": {},
   "source": [
    "Анализ срезов. После создания срезов данных проведите анализ:\n",
    "- Статистический анализ: Рассчитайте основные статистики (среднее, медиана, стандартное отклонение) для каждой группы или среза. Это поможет вам понять, как различаются группы по ключевым показателям.\n",
    "- Визуализация: Постройте графики для визуального представления данных. Это могут быть:  \n",
    "Гистограммы для распределения количественных переменных.  \n",
    "Столбчатые графики для сравнения категориальных переменных.  \n",
    "Ящики с усами (boxplots) для визуализации разброса и выявления аномалий.  \n",
    "- Сравнительный анализ: Сравните срезы между собой. Например, как различается средний доход мужчин и женщин или как меняется поведение клиентов в зависимости от региона."
   ]
  },
  {
   "cell_type": "markdown",
   "metadata": {},
   "source": [
    "Если мы для среза выбрали одно значение (например конкретный город), то мы просто посмотреть результат функции`info` и проанализировать его  \n",
    "Но если мы выбрали для среза набор значений, то нам нужно уже построить графики для сравнения стат параметров или других аггреигующих параметров  \n",
    "для каждого занчения в срезе. То есть нам нужно выбрать параметры по которым мы будем сравнивать значения в срезе.  "
   ]
  },
  {
   "cell_type": "markdown",
   "metadata": {},
   "source": [
    "Фильруем датасет по определенному значению и далее либо изучаем по отедльным столбцам, либо по всем испоьзуя генератор"
   ]
  },
  {
   "cell_type": "markdown",
   "metadata": {},
   "source": [
    "То есть мы изучаем срез по одному значению"
   ]
  },
  {
   "cell_type": "markdown",
   "metadata": {},
   "source": [
    "Созадем 2 генератора (или больше, если хотим сравнить несколько срезов), для среза и всего датафрейма и идем изучаем их вместе.  "
   ]
  },
  {
   "cell_type": "markdown",
   "metadata": {},
   "source": [
    "Нужно сделать отдельный генератор, чтобы в нем не было информации про пропуски, нули и прочее,   \n",
    "И организовать так, чтобы было удобно сравнивать.  \n",
    "Также гистограммы нужно сделать на одном графике, чтобы накладывлись друг на друга и сделать прозрачность.    \n",
    "Это очень удобно и если гистограммы будут накладываться друг на друга, то можно будет увидеть сразу отличия средних и мод на графике.    \n",
    "В идеале сделать, чтобы были не столбцы, а типа каги, то есть линия со ступеньками, так удобнее сравнивать гистограммы. "
   ]
  },
  {
   "cell_type": "markdown",
   "metadata": {},
   "source": [
    "ОЧЕНЬ ВАЖНО  \n",
    "- в наблюдения пишем обязательно диапазон значений столбца.  \n",
    "Рынок жилья представлен объектами общей площадью от 12 до 900 кв.м. \n",
    "- пишем медианное занчение и по гистограмме и по квантилям определяем оснвоной диапазон.  \n",
    "В основном это жилье от 30 до 100 кв.м. с пиком в сегменте 30-75 кв.м  \n",
    "Это все нужно, чтобы потом сформулировать вот такой вывод (в оснвоном выводе отчета), то есть мы для разных столбцов пишем диапазоны,  \n",
    "основной дипазаон, медианы, моды, а потом уже собираем это в 1 или несколько выводов,  \n",
    "Например.  \n",
    "Рынок жилья представлен объектами общей площадью от 12 до 900 кв.м. В основном это жилье от 30 до 100 кв.м. с пиком в сегменте 30-75 кв.м. В жилой площади квартиры преобладает диапазон 15-50 кв.м. Размер площади кухни-от 5 до 15 кв.м., с пиком 9 кв.м. Это стандартные небольшие квартиры эконом-класса. Подавляющее большинство квартир- 1-3 комнатные, с высотой потолка 2,6-2,7 м., но встречаются редкие варианты до 19 комнат и высотой потолка до 20 кв.м. (либо ошибка, либо свободная планировка с возможностью многоуровневости).\n"
   ]
  },
  {
   "cell_type": "markdown",
   "metadata": {},
   "source": [
    "В итоге мы сраним диапазоны, моды, медианы в срезе и во всем датафйреме.  \n"
   ]
  },
  {
   "cell_type": "markdown",
   "metadata": {},
   "source": [
    "Было бы идеально определить отличия в срезе и в общей картине, не просто сухими цифрами,  \n",
    "а собрать все наблюдения вместе и расписать это в подобном виде-   \n",
    "Рынок недвижимости центральной части города представлен несколько более широким по площади диапазоном : основная масса- это жилье от 30 до 150 кв.м с пиком в сегменте 45-80 кв.м. При этом жилая площадь занимает большую долю, чем среднестатистическая квартира: в центре СПб большое количество домов старой застройки, в которой пространство \"сдвинуто\" в пользу жилой площади. Особенностью этой части города является то, что большинство квартир, предлагаемых на продажу,- 2-3 комнатные: здесь в общей массе достаточно низкая доля 1-комнатного жилья и выше доля 4-комнатных квартир. Наибольшее количество предложений в абсолютном выражении (цена за объект) приходится на диапазон 5-15 млн.руб. с пиком 5-8 млн.руб.(маленькие квартиры эконом-класса), но есть и уникальные объекты стоимостью до 35 млн.руб. Стоимость квадратного метра недвижимости в основном варьируется от 70 до 150 тыс.руб. с пиком в 100 тыс.руб. Наряду с типовыми предложениями на продажу выставлено жилье со стоимостью 1 кв.м. до 266 тыс.руб за кв.м. В целом цены жилья центра города выше по цене, чем аналогичное в других районах."
   ]
  },
  {
   "cell_type": "code",
   "execution_count": null,
   "metadata": {},
   "outputs": [],
   "source": [
    "df_sliced = df[df.location_zone == 'Центр']\n",
    "gen_slice = pagri_data_tools.info_gen(df_sliced)\n",
    "gen = pagri_data_tools.info_gen(df)"
   ]
  },
  {
   "cell_type": "code",
   "execution_count": null,
   "metadata": {},
   "outputs": [],
   "source": [
    "next(gen_slice)\n",
    "next(gen)"
   ]
  },
  {
   "cell_type": "markdown",
   "metadata": {},
   "source": [
    "Если есть что-то важное и есть отличия, по которым можно сделать выводы, то строим отдельно в отчет"
   ]
  },
  {
   "cell_type": "code",
   "execution_count": null,
   "metadata": {},
   "outputs": [],
   "source": [
    "print('Центр города')\n",
    "pagri_data_tools.info_column(df_sliced, 'last_price')\n",
    "print('Весь датафрейм')\n",
    "pagri_data_tools.info_column(df, 'last_price')"
   ]
  },
  {
   "cell_type": "markdown",
   "metadata": {},
   "source": [
    "**Наблюдения:**  \n",
    "- пишем тут наблюдения"
   ]
  },
  {
   "cell_type": "markdown",
   "metadata": {},
   "source": [
    "ВАЖНО  \n",
    "Сравниваем не только отдельные столбцы с общей картиной.  \n",
    "Нужно взять срез и посмотреть на корреляцию, зависимости между числовыми, категориальными и т.д.  \n",
    "Как это делали для всего датафрейма, только в укороченной версии, то есть можно взять общей картины, что мы нашли интересного  \n",
    "(то есть взять названия столбцов) и посмотреть на эти же графики, но уже в срезах.  \n",
    "Если есть время, то можно и полностью прогнать все необходимые срезы по всем столбцам как для всего датафрейма.  "
   ]
  },
  {
   "cell_type": "markdown",
   "metadata": {},
   "source": [
    "Полезно изучить топ определенного столбца.  \n",
    "То есть нам нужно выбрать параметр по которому мы отберем топ значений для категорий.  \n",
    "Затем выбрать параметр для которого мы будем считать топ значений (числовая переменная)\n",
    "И построить топ.  \n",
    "Например, топ цен квартир в 10 городах с максимальным количеством объявлений.  \n"
   ]
  },
  {
   "cell_type": "code",
   "execution_count": null,
   "metadata": {},
   "outputs": [],
   "source": [
    "selected_cities = df.groupby('locality_name').size().rename('count').sort_values(ascending=False).to_frame().head(10)\n",
    "selected_cities"
   ]
  },
  {
   "cell_type": "code",
   "execution_count": null,
   "metadata": {},
   "outputs": [],
   "source": [
    "selected_cities = selected_cities.index"
   ]
  },
  {
   "cell_type": "code",
   "execution_count": null,
   "metadata": {},
   "outputs": [],
   "source": [
    "config = dict(\n",
    "    df = df[df.locality_name.isin(selected_cities)]\n",
    "    , x = 'locality_name'\n",
    "    , x_axis_label = 'Название населённого пункта'\n",
    "    , y = 'price_per_sqm'\n",
    "    , y_axis_label = 'Цена квадратного метра'\n",
    "    , title = 'Цена кв метра в зависимости от населенного пункта'\n",
    "    , func = 'mean'\n",
    "    , width = None\n",
    "    , height = None\n",
    "    , orientation = 'v'\n",
    ")\n",
    "pagri_data_tools.bar(config)"
   ]
  },
  {
   "cell_type": "markdown",
   "metadata": {},
   "source": [
    "### Когортный анализ\n"
   ]
  },
  {
   "cell_type": "markdown",
   "metadata": {},
   "source": [
    "> Не забывать про когортный анализ. Если у нас есть параметр, по которому мы можем наши данные разбить на когорты, то  \n",
    "> нужно разложить на когорты и посмотреть динамику по когортам.  \n",
    "> Когорты это например, пользователи пришедшие в одни день или месяц.  \n",
    "> Если мы объеденим пользователей в когорты и посмотрим динамику какого-то параметра по месяцам например, то увидим как изменяется.  \n",
    "> Тут также нужно помнить, что если значение например за 3 месяц больше значения за 4 месяц, то это ничего не значит само по себе.  \n",
    "> Так как мы имеем дело с выборкой, то нам нужно проверить статистически значимая это разница.  \n",
    "> Тут нам понядобятся стат тесты.\n"
   ]
  },
  {
   "cell_type": "markdown",
   "metadata": {},
   "source": [
    "### Промежуточный вывод\n"
   ]
  },
  {
   "cell_type": "markdown",
   "metadata": {},
   "source": [
    "ВАЖНО  \n",
    "подумать для каждого раздела в визуализации (временные, числовые, категориальные и числовые с категориальными)  \n",
    "какие закономерности не проверил.  \n",
    "убедиться, что все зависимости, которые были в задании изучили.  \n",
    "Это самый важный моменты, тут лучше остановится и тщательно подумать,  \n",
    "так как могут быть изучены не все зависимости."
   ]
  },
  {
   "cell_type": "markdown",
   "metadata": {},
   "source": [
    "ВАЖНО   \n",
    "Убедиться, что сетки по осям стоят где нужно, часто для вертикальных или горизонатльных графиков лишняя сетка вдоль баров"
   ]
  },
  {
   "cell_type": "markdown",
   "metadata": {},
   "source": [
    "## Формулирование и провера гипотез\n"
   ]
  },
  {
   "cell_type": "markdown",
   "metadata": {},
   "source": [
    "### Формулирование гипотез\n"
   ]
  },
  {
   "cell_type": "markdown",
   "metadata": {},
   "source": [
    "ВАЖНО  \n",
    "это редко бывает, но нужно об этом помнить  \n",
    "Когда мы хотим проверить какую-то гипотезу на основе среднего или другой статистики, то нужно подумать нет ли сильного разделения на группы  \n",
    "по какой-нибудь категориальной переменной.  \n",
    "Если у нас есть такое разделение, то нужно использовать стратифицированную выборку.  \n",
    "То есть мы должны взять выборку из каждой группы пропорционально её размеру.  \n",
    "Считаем коэффициенты каждой группы (ее размер делим на количество всей выборки) и умнажаем их на количество нужных элементов.  \n",
    "То есть мы из каждой страты возьмем прпорциональное количество элементов.  \n",
    "Нарпимер, мы хотим сравнить средние значения дохода в двух компаниях.  \n",
    "И берем по 100 сотрудников из каждой. Без стратификации у нас редкие сотрудники могут не попасть.  \n",
    "Поэтому мы берем категориальную переменную (например должность) и делим выборку на группы. И из каждой берем пропорциональное количество элементов."
   ]
  },
  {
   "cell_type": "markdown",
   "metadata": {},
   "source": [
    "Смотрим выводы и из них формулируем гипотезы.  "
   ]
  },
  {
   "cell_type": "markdown",
   "metadata": {},
   "source": [
    "И далее думаем какие гипотезы можно ещё проверить, которых у нас нет в выводах.  "
   ]
  },
  {
   "cell_type": "markdown",
   "metadata": {},
   "source": [
    "> На основе проведенного анализа данных сформулирем следующие гипотезы:\n"
   ]
  },
  {
   "cell_type": "markdown",
   "metadata": {},
   "source": [
    "> Гипотеза 1: Нет зависимость между наличием детей и возвратом кредита в срок.  \n",
    "> Гипотеза 2: У мужчин средний доход выше  \n",
    "> Гипотеза 3: Цель получения кредита не зависит от среднего ежемесяченого доход  \n",
    "> Гипотеза 4: Средний доход по семейному статусу одинаковый, но у вдовцов отличается  \n",
    "> Гипотеза 5: У должников в среднем больше детей  \n",
    "> Гипотеза 6: У должников средний возраст ниже  \n",
    "> Гипотеза 7: Медианный доход у должников и не должников не отличается\n"
   ]
  },
  {
   "cell_type": "markdown",
   "metadata": {},
   "source": [
    "> Не забываем что гипотезы можно проверять и между 2 категориальными переменными.  \n",
    "> Проверять есть ли между ними зависимости.  \n",
    "> Также если мы на графиках определили, что есть между 2 категориальными перменными связь, то тут можем это проверить\n"
   ]
  },
  {
   "cell_type": "markdown",
   "metadata": {},
   "source": [
    "### Проверка гипотез\n"
   ]
  },
  {
   "cell_type": "markdown",
   "metadata": {},
   "source": [
    "ВАЖНО  \n",
    "принято в выводе писать положительный результат  \n",
    "то есть пишем что гипотеза подтвердилась и указваем какая гипотеза.  \n",
    "То если мы опровергли нулевую гипотезу, то пишем альтернативную гипотезу и пишем что она подтвердилась.  \n",
    "Если у нас нет оснований отвергнуть нулевую гипотезу, то пишем нулевую гипотезу и пишем что нет оснований ее отвергнуть.  \n",
    "То есть если мы отвергаем, то формулируем вывод как положительный, чтобы не было путаницы, а если нет оснований, то так и пишем.  "
   ]
  },
  {
   "cell_type": "markdown",
   "metadata": {},
   "source": [
    "> Проверим сформулированные гипотезы.\n"
   ]
  },
  {
   "cell_type": "markdown",
   "metadata": {},
   "source": [
    "> **Гипотеза 1: Название гипотезы**\n"
   ]
  },
  {
   "cell_type": "markdown",
   "metadata": {},
   "source": [
    "> H0: The two categorical variables are independent.  \n",
    "> H1: The two categorical variables are not independent (i.e., there is a significant association between them).\n"
   ]
  },
  {
   "cell_type": "markdown",
   "metadata": {},
   "source": [
    "Далее нужно определить какой тест нам нужен"
   ]
  },
  {
   "cell_type": "markdown",
   "metadata": {},
   "source": [
    "Если у нас 2 категориальные переменные, то тут просто"
   ]
  },
  {
   "cell_type": "markdown",
   "metadata": {},
   "source": [
    "Если у нас категориальная и числовая, то сначала смотрим на распределение числовой переменной.  \n",
    "Если сразу решаем использовать не параметрику, то манна уитни или крускал -уоллис.  \n",
    "Если параметрика, то нужно проверить на равенство дисперсий в группах.  \n",
    "И далее если равны, то т тест / тест вэлча или anova / anova вэлча.  \n",
    "Если использовали anova, welch anova, kruskal, то если есть отличия, то используем тест тьюки, чтобы определить какие группы отличаются."
   ]
  },
  {
   "cell_type": "markdown",
   "metadata": {},
   "source": [
    "> Примеры гипотез\n",
    "\n",
    "- Есть ли зависимость между наличием детей и возвратом кредита в срок?\n"
   ]
  },
  {
   "cell_type": "markdown",
   "metadata": {},
   "source": [
    "> Это будет часто возникать когда у нас категориальная целевая переменная и другие категориальные переменные.  \n",
    "> И мы хотим проверить влияют ли категориальные переменные на целевую.  \n",
    "> Например у нас есть поле наличие долга (есть или нет)  \n",
    "> Вот тут мы можем провести тесты со всеми каетгориями на наличие зависимости с наличием долга.  \n",
    "> В идеале мы на графиках должны найти гипотезы и тут их проверить.  \n",
    "> Но если у нас целевая переменная, то мы можем сравнить ее со всеми категориями\n"
   ]
  },
  {
   "cell_type": "code",
   "execution_count": null,
   "metadata": {},
   "outputs": [],
   "source": [
    "pagri_data_tools.chi2_pearson()"
   ]
  },
  {
   "cell_type": "markdown",
   "metadata": {},
   "source": [
    "> Формируем словарь для подписей осей и названия гистограм\n"
   ]
  },
  {
   "cell_type": "code",
   "execution_count": null,
   "metadata": {},
   "outputs": [],
   "source": [
    "titles_for_axis = dict(\n",
    "    # numeric column\n",
    "    children = ['Количество детей', 'количества детей']\n",
    "    , age = ['Возраст', 'возраста']\n",
    "    , total_income = ['Ежемесячный доход', 'ежемесячного дохода']    \n",
    ")"
   ]
  },
  {
   "cell_type": "markdown",
   "metadata": {},
   "source": [
    "> Нулевая гипотеза должна быть направлена на отсутствие эффекта, а альтернативная гипотеза должна быть направлена на наличие эффекта.\n"
   ]
  },
  {
   "cell_type": "markdown",
   "metadata": {},
   "source": [
    "> Формулируем гипотезу через H0, H1\n"
   ]
  },
  {
   "cell_type": "markdown",
   "metadata": {},
   "source": [
    "> H0: У мужчин средний доход не выше, чем у женщин  \n",
    "> H1: У мужчин средний доход выше, чем у женщин\n"
   ]
  },
  {
   "cell_type": "markdown",
   "metadata": {},
   "source": [
    "> Смотрим распределение метрики\n"
   ]
  },
  {
   "cell_type": "code",
   "execution_count": null,
   "metadata": {},
   "outputs": [],
   "source": [
    "pagri_data_tools.histogram(df.total_income, titles_for_axis)"
   ]
  },
  {
   "cell_type": "markdown",
   "metadata": {},
   "source": [
    "> Делаем вывод о распределении.  \n",
    "> Выбираем критерий для проверки гипотезы.  \n",
    "> Определяем уровнь значимости.\n"
   ]
  },
  {
   "cell_type": "markdown",
   "metadata": {},
   "source": [
    "> Проводим тест  \n",
    "> ВАЖНО  \n",
    "> df в ttest_ind_df и подобных можно испльзовать только для 2 стороннего случая  \n",
    "> Для одностороннего нужно придумать как определять какая группа первая по порядку пойдет в тест,  \n",
    "> в зависимости от постановки гипотезы, так как альтернатива опредляется исходя из порядка аргументов в функции теста\n"
   ]
  },
  {
   "cell_type": "markdown",
   "metadata": {},
   "source": [
    "> Если используем ттест или анову, то сначала проводим тест на проверку дисперсии\n"
   ]
  },
  {
   "cell_type": "markdown",
   "metadata": {},
   "source": [
    "> H0: У должников и не должников дисперсия не отличается  \n",
    "> H1: У должников и не должников дисперсия отличается\n"
   ]
  },
  {
   "cell_type": "code",
   "execution_count": null,
   "metadata": {},
   "outputs": [],
   "source": [
    "pagri_data_tools.levene_df\n",
    "pagri_data_tools.levene\n",
    "pagri_data_tools.bartlett_df\n",
    "pagri_data_tools.bartlett"
   ]
  },
  {
   "cell_type": "markdown",
   "metadata": {},
   "source": [
    "> Выбираем критерий\n"
   ]
  },
  {
   "cell_type": "code",
   "execution_count": null,
   "metadata": {},
   "outputs": [],
   "source": [
    "pagri_data_tools.chi2_pearson\n",
    "pagri_data_tools.ttest_ind_df\n",
    "pagri_data_tools.ttest_ind\n",
    "pagri_data_tools.mannwhitneyu_df\n",
    "pagri_data_tools.mannwhitneyu\n",
    "pagri_data_tools.proportion_ztest_1sample\n",
    "pagri_data_tools.proportions_ztest_2sample\n",
    "pagri_data_tools.proportions_ztest_column_2sample\n",
    "pagri_data_tools.proportions_chi2\n",
    "pagri_data_tools.proportions_chi2_column\n",
    "pagri_data_tools.anova_oneway_df\n",
    "pagri_data_tools.anova_oneway\n",
    "pagri_data_tools.tukey_hsd_df\n",
    "pagri_data_tools.anova_oneway_welch_df\n",
    "pagri_data_tools.kruskal_df\n",
    "pagri_data_tools.kruskal\n",
    "pagri_data_tools.bootstrap_diff_2sample # важно, сохраняем fig и в следующей ячейке делаем fig.shwo(), иначе на google colab работает некорректно"
   ]
  },
  {
   "cell_type": "markdown",
   "metadata": {},
   "source": [
    "> Проводим тест\n"
   ]
  },
  {
   "cell_type": "markdown",
   "metadata": {},
   "source": [
    "> Если отклоняем гипотезу, то строим доверитлеьный интервал\n"
   ]
  },
  {
   "cell_type": "code",
   "execution_count": null,
   "metadata": {},
   "outputs": [],
   "source": [
    "pagri_data_tools.confint_t_2samples\n",
    "pagri_data_tools.confint_t_2samples_df\n",
    "pagri_data_tools.confint_proportion_ztest_2sample\n",
    "pagri_data_tools.confint_proportion_ztest_column_2sample\n",
    "pagri_data_tools.confint_proportion_2sample_statsmodels\n",
    "pagri_data_tools.confint_proportion_coluns_2sample_statsmodels"
   ]
  },
  {
   "cell_type": "code",
   "execution_count": null,
   "metadata": {},
   "outputs": [],
   "source": [
    "titles_for_axis = dict(\n",
    "    # numeric column\n",
    "    children = ['Количество детей', 'количества детей']\n",
    "    , age = ['Возраст', 'возраста']\n",
    "    , total_income = ['Ежемесячный доход', 'ежемесячного дохода']    \n",
    ")"
   ]
  },
  {
   "cell_type": "markdown",
   "metadata": {},
   "source": [
    "Примеры для разных критериев"
   ]
  },
  {
   "cell_type": "markdown",
   "metadata": {},
   "source": [
    "2 категориальные переменные или 1 категориальная переменная и мы хотим сравнить количество в каждой группе."
   ]
  },
  {
   "cell_type": "markdown",
   "metadata": {},
   "source": [
    "**Гипотеза 1: Нет зависимость между наличием детей и возвратом кредита в срок**\n"
   ]
  },
  {
   "cell_type": "markdown",
   "metadata": {},
   "source": [
    "> H0: Наличие детей не влияет на возврат кредита в срок.  \n",
    "> H1: Наличие детей влияет на возврат кредита в срок.\n"
   ]
  },
  {
   "cell_type": "markdown",
   "metadata": {},
   "source": [
    "> Так как у нас обе переменных категориальные, то воспользуемся критерием хи-квадрат Пирсона.  \n",
    "> Уровень значимости alpha выберем 0.05\n"
   ]
  },
  {
   "cell_type": "code",
   "execution_count": null,
   "metadata": {},
   "outputs": [
    {
     "name": "stdout",
     "output_type": "stream",
     "text": [
      "Хи-квадрат Пирсона\n",
      "alpha =  0.05\n",
      "p-value =  1.724356890544321e-05\n",
      "Отклоняем нулевую гипотезу, поскольку p-value меньше уровня значимости\n"
     ]
    }
   ],
   "source": [
    "pagri_data_tools.chi2_pearson(df.has_child, df.debt)"
   ]
  },
  {
   "cell_type": "markdown",
   "metadata": {},
   "source": [
    "**Результат:**  \n",
    "\n",
    "На уровне значимости 0.05 нулевая гипотеза о том, что наличие детей не влияет на возврат кредита в срок, была отклонена. Это свидетельствует о том, что существует статистически значимое влияние наличия детей на возврат кредита в срок.\n"
   ]
  },
  {
   "cell_type": "markdown",
   "metadata": {},
   "source": [
    "Если мы хотим проверить отличается ли количество в одной категориальной переменной, то используем chisquare"
   ]
  },
  {
   "cell_type": "markdown",
   "metadata": {},
   "source": [
    "Он проверяет, насколько наблюдаемое распределение категориальной переменной отличается от ожидаемого равномерного распределения.  "
   ]
  },
  {
   "cell_type": "markdown",
   "metadata": {},
   "source": [
    "**Гипотеза 1: Нет зависимости между количеством публикаций и днем недели.**  "
   ]
  },
  {
   "cell_type": "markdown",
   "metadata": {},
   "source": [
    "H0: День недели не влияет на количество объявлений  \n",
    "H1: День недели влияет на количество объявлений"
   ]
  },
  {
   "cell_type": "code",
   "execution_count": null,
   "metadata": {},
   "outputs": [
    {
     "data": {
      "text/plain": [
       "publication_weekday\n",
       "Понедельник    3591\n",
       "Вторник        4157\n",
       "Среда          3940\n",
       "Четверг        4270\n",
       "Пятница        3970\n",
       "Суббота        1918\n",
       "Воскресенье    1681\n",
       "Name: count, dtype: int64"
      ]
     },
     "metadata": {},
     "output_type": "display_data"
    }
   ],
   "source": [
    "daily_counts = df['publication_weekday'].value_counts().sort_index()\n",
    "daily_counts"
   ]
  },
  {
   "cell_type": "code",
   "execution_count": null,
   "metadata": {},
   "outputs": [],
   "source": [
    "pagri_data_tools.chisquare(daily_counts)"
   ]
  },
  {
   "cell_type": "markdown",
   "metadata": {},
   "source": [
    "**Результат:**  \n",
    "\n",
    "- На уровне значимости 0.05 нулевая гипотеза о том, что день недели не влияет на количество объявлений, была отклонена. Это указывает на то, что существует статистически значимое влияние дня недели на количество объявлений."
   ]
  },
  {
   "cell_type": "code",
   "execution_count": null,
   "metadata": {},
   "outputs": [],
   "source": []
  },
  {
   "cell_type": "markdown",
   "metadata": {},
   "source": [
    "Категориальная с 2 значениями и числовая переменная  (т тест или тест манна уитни)"
   ]
  },
  {
   "cell_type": "markdown",
   "metadata": {},
   "source": [
    "**Гипотеза 2: У мужчин средний доход выше**  "
   ]
  },
  {
   "cell_type": "markdown",
   "metadata": {},
   "source": [
    "H0: У мужчин средний доход не выше, чем у женщин   \n",
    "H1: У мужчин средний доход выше, чем у женщин"
   ]
  },
  {
   "cell_type": "markdown",
   "metadata": {},
   "source": [
    "посмотрим на распределение"
   ]
  },
  {
   "cell_type": "code",
   "execution_count": null,
   "metadata": {},
   "outputs": [],
   "source": [
    "pagri_data_tools.histogram(df.total_income, titles_for_axis)"
   ]
  },
  {
   "cell_type": "markdown",
   "metadata": {},
   "source": [
    "Если распределение не нормальное или много выбросов или просто нет уверености, что параметрика будет хрошо работать, то используем  \n",
    "тест манна уитни"
   ]
  },
  {
   "cell_type": "markdown",
   "metadata": {},
   "source": [
    "Используем критерий Манна-Уитни  \n",
    "Альтернатива будет - больше  \n",
    "Уровень значимости alpha выберем 0.05  "
   ]
  },
  {
   "cell_type": "code",
   "execution_count": null,
   "metadata": {},
   "outputs": [],
   "source": [
    "male = df[df.gender=='M']['total_income']\n",
    "female = df[df.gender=='F']['total_income']"
   ]
  },
  {
   "cell_type": "code",
   "execution_count": null,
   "metadata": {},
   "outputs": [],
   "source": [
    "my_module.mannwhitneyu(male, female, alternative='l')"
   ]
  },
  {
   "cell_type": "markdown",
   "metadata": {},
   "source": [
    "**Результат:**  \n",
    "\n",
    "- На уровне значимости 0.05 нулевая гипотеза о том, что у мужчин средний доход не выше, чем у женщин, была отклонена. Это указывает на то, что доход мужчин статистически значимо выше, чем у женщин."
   ]
  },
  {
   "cell_type": "markdown",
   "metadata": {},
   "source": [
    "Если мы решили использовать т тест"
   ]
  },
  {
   "cell_type": "markdown",
   "metadata": {},
   "source": [
    "\n",
    "Проверим гипотезу, что дисперсии в группах не отличаются\n",
    "\n",
    "H0: У должников и не должников дисперсия не отличается  \n",
    "H1: У должников и не должников дисперсия отличается\n",
    "\n",
    "Используем тест Левена\n"
   ]
  },
  {
   "cell_type": "code",
   "execution_count": null,
   "metadata": {},
   "outputs": [],
   "source": [
    "yes = df[df.debt=='есть']['age']\n",
    "no = df[df.debt=='нет']['age']"
   ]
  },
  {
   "cell_type": "code",
   "execution_count": null,
   "metadata": {},
   "outputs": [],
   "source": [
    "my_module.levene([yes, no])"
   ]
  },
  {
   "cell_type": "markdown",
   "metadata": {},
   "source": [
    "Так как дисперсия в группах разная, будем использовать тест Уэлча.  \n",
    "Уровень значимости alpha выберем 0.05"
   ]
  },
  {
   "cell_type": "code",
   "execution_count": null,
   "metadata": {},
   "outputs": [],
   "source": [
    "my_module.ttest_ind(yes, no, equal_var=False, alternative='s')"
   ]
  },
  {
   "cell_type": "markdown",
   "metadata": {},
   "source": [
    "Построим доверительный интервал"
   ]
  },
  {
   "cell_type": "code",
   "execution_count": null,
   "metadata": {},
   "outputs": [],
   "source": [
    "my_module.confint_t_2samples(yes, no, equal_var=False, alternative='s')"
   ]
  },
  {
   "cell_type": "markdown",
   "metadata": {},
   "source": [
    "категориальная переменная, у которой больше 2 значений и числовая. "
   ]
  },
  {
   "cell_type": "markdown",
   "metadata": {},
   "source": [
    "Предположения ANOVA:\n",
    "- Данные должны быть нормально распределены.\n",
    "- Дисперсии в группах должны быть равны (гомоскедастичность).\n",
    "- Наблюдения должны быть независимыми."
   ]
  },
  {
   "cell_type": "markdown",
   "metadata": {},
   "source": [
    "Если хоть одно из этого не выполняется, то лучше использовать kruskal"
   ]
  },
  {
   "cell_type": "markdown",
   "metadata": {},
   "source": [
    "**Гипотеза 4: Средний доход по семейному статусу одинаковый, но у вдовцов отличается**  \n",
    "\n",
    "H0: Средний ежемесячный доход не различается между группами по семейному статусу  \n",
    "H1: Средний ежемесячный доход различается между группами по семейному статусу  \n"
   ]
  },
  {
   "cell_type": "markdown",
   "metadata": {},
   "source": [
    "Используем критерий Краскела-Уоллиса  \n",
    "Уровень значимости alpha выберем 0.05\n"
   ]
  },
  {
   "cell_type": "code",
   "execution_count": null,
   "metadata": {},
   "outputs": [],
   "source": [
    "pagri_data_tools.kruskal_df(df[['family_status', 'total_income']])"
   ]
  },
  {
   "cell_type": "markdown",
   "metadata": {},
   "source": [
    "Используем тест Тьюки, чтобы определить различия между группами  \n",
    "Уровень значимости alpha выберем 0.05"
   ]
  },
  {
   "cell_type": "code",
   "execution_count": null,
   "metadata": {},
   "outputs": [],
   "source": [
    "pagri_data_tools.tukey_hsd_df(df[['family_status', 'total_income']])"
   ]
  },
  {
   "cell_type": "markdown",
   "metadata": {},
   "source": [
    "Видим, что гипотеза отвергается в парах где есть вдова / вдовец\n"
   ]
  },
  {
   "cell_type": "markdown",
   "metadata": {},
   "source": [
    "**Результат:**  \n",
    "\n",
    "- На уровне значимости 0.05 нулевая гипотеза о том, что средний ежемесячный доход не различается между группами по семейному статусу, была отклонена.  \n",
    "Это указывает на то, что семейный статус оказывает статистически значимое влияние на ежемесячный доход."
   ]
  },
  {
   "cell_type": "markdown",
   "metadata": {},
   "source": [
    "Бутстреп"
   ]
  },
  {
   "cell_type": "markdown",
   "metadata": {},
   "source": [
    "Вместо теста манна уитни, когда нет уверености в т тесте, можно использовать бутстреп"
   ]
  },
  {
   "cell_type": "markdown",
   "metadata": {},
   "source": [
    "**Гипотеза 7:  Медианный доход у должников и не должников не отличается**  \n",
    "\n",
    "H0: Медианный доход у должников и не должников не отличается  \n",
    "H1: Медианный доход у должников и не должников отличается\n"
   ]
  },
  {
   "cell_type": "markdown",
   "metadata": {},
   "source": [
    "Используем бутстреп для проверке гипотезы  \n",
    "Уровень значимости alpha выберем 0.05"
   ]
  },
  {
   "cell_type": "code",
   "execution_count": null,
   "metadata": {},
   "outputs": [],
   "source": [
    "yes = df[df.debt=='есть']['total_income']\n",
    "no = df[df.debt=='нет']['total_income']"
   ]
  },
  {
   "cell_type": "code",
   "execution_count": null,
   "metadata": {},
   "outputs": [],
   "source": [
    "fig = pagri_data_tools.bootstrap_diff_2sample(yes, no, stat_func=np.median)"
   ]
  },
  {
   "cell_type": "code",
   "execution_count": null,
   "metadata": {},
   "outputs": [],
   "source": [
    "fig.show()"
   ]
  },
  {
   "cell_type": "markdown",
   "metadata": {},
   "source": [
    "**Результат:**  \n",
    "\n",
    "- На уровне значимости 0.05 нулевая гипотеза о том, что медианный доход у должников и не должников не отличается, была отклонена.  \n",
    "Это указывает на то, что существует статистически значимая разница между медианным доходом должников и не должников.  \n",
    "95 % доверительный интервал разницы между медианным доходом должников и не должников равен (-2648.05, 179.34)\n"
   ]
  },
  {
   "cell_type": "code",
   "execution_count": null,
   "metadata": {},
   "outputs": [],
   "source": []
  },
  {
   "cell_type": "markdown",
   "metadata": {},
   "source": [
    "> Сделать опцию в бутстреп функции, чтобы строился только доверительный интервал\n"
   ]
  },
  {
   "cell_type": "markdown",
   "metadata": {},
   "source": [
    "> Также сделать функцию для доверилеьных интервалов для мана уитни через  \n",
    "> the Hodges-Lehmann estimation, which provides a point estimate and a confidence interval for the difference in medians.\n"
   ]
  },
  {
   "cell_type": "code",
   "execution_count": null,
   "metadata": {},
   "outputs": [],
   "source": [
    "import pingouin as pg\n",
    "\n",
    "# Perform the Mann-Whitney U test and calculate the confidence interval\n",
    "mw_test = pg.mwu(x, y, tail='two-sided', confidence=0.95)\n",
    "\n",
    "# Print the results\n",
    "print(mw_test)"
   ]
  },
  {
   "cell_type": "code",
   "execution_count": null,
   "metadata": {},
   "outputs": [],
   "source": [
    "import numpy as np\n",
    "from scipy import stats\n",
    "\n",
    "# Perform the Mann-Whitney U test\n",
    "u_stat, p_value = stats.mannwhitneyu(x, y, alternative='two-sided')\n",
    "\n",
    "# Calculate the Hodges-Lehmann estimation\n",
    "hl_est = np.median(np.array([x_i - y_j for x_i in x for y_j in y]))\n",
    "\n",
    "# Calculate the confidence interval\n",
    "ci = stats.t.interval(0.95, len(x) + len(y) - 2, loc=hl_est, scale=stats.sem(np.array([x_i - y_j for x_i in x for y_j in y])))\n",
    "\n",
    "# Print the results\n",
    "print('Hodges-Lehmann estimation:', hl_est)\n",
    "print('Confidence interval:', ci)"
   ]
  },
  {
   "cell_type": "markdown",
   "metadata": {},
   "source": [
    "> Подход следуюищй - мы до раздела проверка гипотез, когда изучаем данные (разделы пропусков, выбросов, дубликатов, зависиместей между перменными и графики),  \n",
    "> то мы делаем выводы и формируем наблюдеия.  \n",
    "> Вот эти наблюдения и выводы нужно проверить в проверке гипотез.  \n",
    "> И потом в основном выводе уже писать не просто, что у нас мужчин больше чем женьшин, а писать, что на уровен значисомти таком то у нас мужчина больше чем  \n",
    "> женщин с таким то доверительным интервалом.  \n",
    "> Таким образом выводы по вомзожности должны проходить через этап проверки гипотез, тогда эти выводы становятся более существенными.\n"
   ]
  },
  {
   "cell_type": "markdown",
   "metadata": {},
   "source": [
    "- Гипотезы появляются, когда мы задаем вопросы данным. Мы изучили данные, преобработали и теперь начинаем задавать вопросы.\n",
    "- Выдвигаем гипотезу (заметили что-то необычное и хотим проверить), далее формулируем ее и далее проверяем.\n",
    "- Не забываем формулировать гипотезы словами. Пишем что является гипотезой H0, а что гипотезой H1\n",
    "- Формулируем все гипотезы, которые хотим проверить. Если будет 100 гипотез, то все 100 нужно сформулировать и потом проверить и сделать вывод.\n",
    "- Гипотезы могут быть и простыми вопросами без гипотез H0 и H1, такие гипотезы мы проверяем графиками или анализируя таблицу.\n",
    "- Восновном, когда мы собиаремся применить стат аппарат для проверки гипотезы, то мы должны записать ее через H0 и H1.\n"
   ]
  },
  {
   "cell_type": "markdown",
   "metadata": {},
   "source": [
    "> Алгоритм проверки статистических гипотез\n",
    "\n",
    "- постановка задачи\n",
    "  > - Сформулировать, что мы хотим узнать о выборках с точки зрения бизнес задачи (равны ли средние доходы в группах)\n",
    "  > - перевод бизнес-вопроса на язык статистики: средний доход в группах - проверка равенства средних значений\n",
    "- формулировка гипотез\n",
    "  > - формулировка нулевой гипотезы - с т.зр. равенства стат прараметров оцениваемых выборок  \n",
    "  >   (Н0: Средние траты клиентов по группе А равны средним тратам клинентов по группе В)\n",
    "  > - формулировка альтернативной гипотезы - с точки зрения неравенства параметров  \n",
    "  >   (Н1: Средние траты клиентов по группе А не равны средним тратам клинентов по группе В)\n",
    "- выбор критерия alpha (почему 0.05 или 0.01)\n",
    "  > - цена ошибки первого рода (при большой цене ошибки - в мед исследованиях, потенциальном ущербе ) - значение может быть больше, например 0.1\n",
    "  > - в ежедневных бизнес задачах, обычно - 0.05\n",
    "- анализ распределения\n",
    "  > - визуальная оценка\n",
    "  > - следим за выбросами\n",
    "  > - проверка гипотез о типе распредеделения (например критерий Шапиро-Уилка)\n",
    "  > - если распределение не нормальное и размер выборки достаточный (больше 30-50 элементов)  \n",
    "  >   может быть использован t-test именно для проверки гипотезы о равенстве средних.  \n",
    "  >   Согласно ЦПТ (центральная предельная теорема) средние этих выборок будут распределены нормально. См. статью Зотова\n",
    "- выбор критерия\n",
    "  > - при оценке равенства средних T-test или Welch T-test (если есть сомнения, то лучше Уэлча)\n",
    "  >   - при рвенстве дисперсий используем обычный т тест\n",
    "  >   - если дисперсии в выборках разные, то используем т теста Уэлча\n",
    "- получение результата\n",
    "  > - расчет p-value\n",
    "- интерпретация p-value\n",
    "  > - сравнение p-value и alpha\n",
    "  > - если альфа > p-value - отвергаем нулевую гипотезу\n",
    "  > - если альфа < p-value - не можем отвергнуть нулевую гипотезу\n"
   ]
  },
  {
   "cell_type": "markdown",
   "metadata": {},
   "source": [
    "> Какая у нас задача\n",
    "\n",
    "- Исследовать взаимосвязь между 2 переменными\n",
    "  > - обе переменные наминативные\n",
    "  >   - Хи-квадрат Пирсона (не чувствителен к гетероскедастичности) (нормальность не обязательна)\n",
    "  > - обе переменные количественные\n",
    "  >   - Коэффициент корреляции Пирсона (параметрика) (чувствителен к выбросам) (только непрерывные переменные)\n",
    "  >   - Коэффициент корреляции Спирмена (чувствителен к выбросам) / Кендалла (менее чувствителен к выбросам) (непараметрика) (непрерывные переменные и порядковые категориальные переменные)\n",
    "  > - одна переменная номинативная (принимает 2 занчения), вторая количественная\n",
    "  >   - значения\n",
    "  >     - Т-критерий Стьюдента (параметрика) (желательно нормальность) (чувствителен к выбросам) (чувствителен к гетероскедастичности)\n",
    "  >       - если дисперсии равны (тест левена, барлета) и количество в группах равно (тест на равенство пропорций), то используем обычный т тест (эта формула более точно даст результат для этого случая)\n",
    "  >       - если дисперсии не равны (тест левена, барлета) или количество в группах не равно (тест на равенство пропорций), то используем тест Уэлча (эта формула использует больше неопределенности и лучше подходит для этого случая)\n",
    "  >     - U-критерий Манна-Уитни (непараметрика) (нормальность не обязательна) (не чувствителен к гетероскедастичности)\n",
    "  >       Если тестируемая фича полностью сдвигает выборку на некий коэффициент theta или масштабирует выборку на некий параметр theta (theta > 0),  \n",
    "  >       то критерий Манна-Уитни применим\n",
    "  >   - доли\n",
    "  >     - Z тест для долей (параметрика) (желательно нормальность) (чувствителен к выбросам) (чувствителен к гетероскедастичности)\n",
    "  >     - Chi-square тест для долей (непараметрика) (нормальность не обязательна) (не чувствителен к гетероскедастичности)\n",
    "- Исследовать взаимосвязь между несколькими переменными\n",
    "  > - Дисперсионный анализ (параметрика) (дисперсии в группах должны быть примерно равны) (желательно нормальность) (чувствителен к выбросам) (чувствителен к гетероскедастичности)\n",
    "  > - Welch's ANOVA (устройчив к разной дисперсии в группах) (требует более больших размеров групп для точных результатов) (желательно нормальность) (чувствителен к выбросам) (не чувствителен к гетероскедастичности)\n",
    "  > - Критерий Краскела-Уоллиса (непараметрика) (нормальность не обязательна) (не чувствителен к гетероскедастичности)\n",
    "  > - Тест Тьюки (если anova или Краскела-Уоллиса нашил различия) (дисперсии в группах должны быть примерно равны) (параметрика) (желательно нормальность) (чувствителен к выбросам) (чувствителен к гетероскедастичности)\n",
    "- Проверить на равенство дисперсий в группах перед anova\n",
    "  > - Levene's test (не требует нормальность) (менее чувствительный)\n",
    "  > - Bartlett's test (требует нормальность) (более чувствительный)\n"
   ]
  },
  {
   "cell_type": "markdown",
   "metadata": {},
   "source": [
    "> Отличная статья про доверительные интервалы для разных статистик  \n",
    "> https://habr.com/ru/articles/807051/\n"
   ]
  },
  {
   "cell_type": "markdown",
   "metadata": {},
   "source": [
    "> Bootstrapping\n"
   ]
  },
  {
   "cell_type": "markdown",
   "metadata": {},
   "source": [
    "> В бутстрепе, если мы хотим сравнить две выборки, то нельзя смотреть  \n",
    "> где находится исходная разница средних в бутстрапированной выборке  \n",
    "> Так как мы берем бутстреп из наших выборок и впролне реально.что наша разность  \n",
    "> будет близка к с реднему бутстропированной выборки  \n",
    "> Поэтому p value нужно определять по месту нуля в бутстропированной выборке\n"
   ]
  },
  {
   "cell_type": "markdown",
   "metadata": {},
   "source": [
    "> Посмотрим p value для 0 (если различий нет, то разница должна быть 0)\n",
    "> Для этого посчитаем cdf для + и - среднего, чтобы получить 2 значения cdf\n",
    "> а теперь возьмем минимум и умножим на 2, так как альт гипотеза у нас.что\n",
    "> просто не равно 0, значит и справа и слева\n"
   ]
  },
  {
   "cell_type": "code",
   "execution_count": 182,
   "metadata": {},
   "outputs": [],
   "source": []
  },
  {
   "cell_type": "code",
   "execution_count": null,
   "metadata": {},
   "outputs": [],
   "source": [
    "Estimating the power of a non-parametric test using bootstrapping involves simulating the testing process multiple times to estimate the probability of rejecting the null hypothesis. Here's a general outline of the steps:\n",
    "\n",
    "**Specify the null and alternative hypotheses **: Define the null and alternative hypotheses for your test. For example, the null hypothesis might be that the two groups have the same distribution, and the alternative hypothesis might be that the two groups have different distributions.\n",
    "\n",
    "Generate simulated data: Generate simulated data that reflects the null hypothesis. For example, you could generate two groups of random data from the same distribution.\n",
    "\n",
    "Perform the Mann-Whitney U test: Perform the Mann-Whitney U test on the simulated data to obtain a p-value.\n",
    "\n",
    "Repeat steps 2-3 many times: Repeat steps 2-3 many times (e.g., 1000 times) to generate a distribution of p-values under the null hypothesis.\n",
    "\n",
    "Estimate the power: Estimate the power of the test by calculating the proportion of times the p-value is below a certain significance level (e.g., 0.05) when the alternative hypothesis is true. To do this, you'll need to generate simulated data that reflects the alternative hypothesis and repeat steps 2-4."
   ]
  },
  {
   "cell_type": "markdown",
   "metadata": {},
   "source": [
    "### Промежуточный вывод\n"
   ]
  },
  {
   "cell_type": "markdown",
   "metadata": {},
   "source": [
    "- На уровне значимости 0.05 гипотеза, что есть зависимость между количеством публикаций и днем недели подтвердилась.  \n",
    "- На уровне значимости 0.05 гипотеза, что удаленность от центра влияет на количество публикаций, подтвердилась.  "
   ]
  },
  {
   "cell_type": "markdown",
   "metadata": {},
   "source": [
    "## Общий вывод\n"
   ]
  },
  {
   "cell_type": "markdown",
   "metadata": {},
   "source": [
    "ВАЖНО  \n",
    "проверить, что результат проверки гипотез учтен в выводах.  \n",
    "То есть если у нас был промежуточный вывод, но проверка гипотез опровергла этот вывод, то нужно изменить вывод на противоположный."
   ]
  },
  {
   "cell_type": "markdown",
   "metadata": {},
   "source": [
    "Проходим собираем все промежуточные выводы, вставляем сюда и выбираем важные. "
   ]
  },
  {
   "cell_type": "markdown",
   "metadata": {},
   "source": [
    "ВАЖНО  \n",
    "из промежуточных выводов в изучении данных собрать подобные выводы:  \n",
    "- Рынок жилья представлен объектами общей площадью от 12 до 900 кв.м. В основном это жилье от 30 до 100 кв.м. с пиком в сегменте 30-75 кв.м. В жилой площади квартиры преобладает диапазон 15-50 кв.м. Размер площади кухни-от 5 до 15 кв.м., с пиком 9 кв.м. Это стандартные небольшие квартиры эконом-класса. Подавляющее большинство квартир- 1-3 комнатные, с высотой потолка 2,6-2,7 м., но встречаются редкие варианты до 19 комнат и высотой потолка до 20 кв.м. (либо ошибка, либо свободная планировка с возможностью многоуровневости).\n",
    "- Цены на квартиры в основном находятся в диапазоне 2.5-15 млн.руб. с пиком в области 3-5 млн.руб.(небольшие квартиры эконом-класса), но есть и уникальные объекты стоимостью до 763 млн.руб. Стоимость квадратного метра недвижимости варьируется от 50-130 тыс.руб. с пиком в 90-100 тыс.руб. Наряду с типовыми предложениями на продажу выставлено жилье премиум-класса со стоимостью 1 кв.м. до 1.9 млн.руб.\n",
    "- Общее время продажи жилой недвижимости-до 1618 дней. Половина квартир продается за период до 94 дней, а среднее значение по всему массиву данных -185 дней. При этом можно увидеть, что пик продаж приходится на 45-60 день с момента публикации. Исходя из расчета выбросов можно сказать, что продажи прошли аномально быстро, если сделки были оформлены в период до 16 дней и слишком долго, если до оформления сделки свыше 1134 дней.    "
   ]
  },
  {
   "cell_type": "markdown",
   "metadata": {},
   "source": [
    "Это важно, так как дает представление о данных в сжатой и удобной форме.  \n",
    "А далее уже идут выводы о зависимостях.  "
   ]
  },
  {
   "cell_type": "markdown",
   "metadata": {},
   "source": [
    "Не забываем ставить 2 пробела после Выводы и другие для quarto"
   ]
  },
  {
   "cell_type": "markdown",
   "metadata": {},
   "source": [
    "После каждой строки поставить либо перенос, либо 2 пробела для quarto  \n",
    "так как когда следующая строка начинается с дефиса и jupyter это понимает и делает новую строку,   \n",
    "то quarto не сделает новую строку"
   ]
  },
  {
   "cell_type": "markdown",
   "metadata": {},
   "source": [
    "**Выводы:**  \n"
   ]
  },
  {
   "cell_type": "markdown",
   "metadata": {},
   "source": [
    "- Долги есть у людей с разным доходом.  \n",
    "- У должников в среднем больше детей.  \n",
    "- У должников среднее количество детей больше у женщин, а у не должников срднее количество детей больше у мужчин  \n",
    "- У должников средний возраст немного ниже для всех категорий семейного положения.  \n",
    "- Медианный доход у должников и не должников практически не отличается  \n",
    "- Должники имеют ниже средний возраст как мужчины так и женщины. Ситуация сохраняется во всех группах дохода.  \n",
    "- Цель получения кредита практически не зависит от среднего ежемесяченого дохода.  \n",
    "- 92 % клиентов не имеют долга.  \n",
    "- Люди от 30 до 50 лет имеют самый высокий средний доход.  \n",
    "- Больше всего кредит берут на цели, связанные с недвижимостью, кроме людей в гражданском браке  \n",
    "- Люди в гражданском браке чаще берут кредит на свадьбу  \n",
    "- Женщины чаще возвращают кредит.  \n",
    "- Анализ значимости признаков для модели случайного леса показал, что доход является самым значимым признаком для предсказания задолженности.  \n",
    "- 58 % клиентов либо женаты, либо замужем. 19 % в гражданском браке. Можно сделать вывод что большинство в браке.  \n",
    "- Большинство клиентов женщины (66 процентов).  \n",
    "- Только 5 процентов клиентов моложе 25 лет. Основная часть клиентов старше 30 лет.  \n",
    "- Чем меньше количество детей, тем больше значений с высоким доходом.  \n",
    "- Болшая часть женатых имеет доход 100-200 тыс  \n",
    "- На всех уровнях образоания, кроме ученой степени, доход у мужчин выше.  \n",
    "- У мужчин, которые в браке или были в браке, количество детей больше, чем у женщин в той же категории.  \n"
   ]
  },
  {
   "cell_type": "markdown",
   "metadata": {},
   "source": [
    "**Аномалии и особенности в данных:**  \n",
    "\n",
    "- В датафрейме есть строки дубликаты. 54 строки. Меньше 1 % от всего датафрейма.  \n",
    "- В столбце с количеством детей есть отрицательные значения. 47 штук. Меньше 1 процента от всего датафрейма. Также есть клиенты с 20 детьми.  \n",
    "- Колонока общий трудовой стаж содержит 74 % отрицаетльных значений. А также максимальное количество дней стажа больше 400 тысяч дней, это больше 1000 лет.  \n",
    "- В колонке возраста 101 нулевое значени.  \n",
    "- Колонка дохода имеет слишком много знаков после запятой.  \n",
    "- В колонке с образованием присутствуют одни и те же знчения с разными регистрами. При этом в колонке с id образования все впрорядке.  \n"
   ]
  },
  {
   "cell_type": "markdown",
   "metadata": {},
   "source": [
    "**Результаты предобработки данных:**  \n",
    "\n",
    "- Удалили колонки с id образования и семейного статуса, так как нам для графиков лучше подойдут названия, а не id.\n",
    "- Колонка со стажем имеет совершенно некорректные данные. Чтобы не внести искажение в анализ, удалим эту колонку.\n"
   ]
  },
  {
   "cell_type": "markdown",
   "metadata": {},
   "source": [
    "**Результаты проверки гипотез:**  \n",
    "\n",
    "- Гипотеза 1: У мужчин средний доход выше, чем у женщин  \n",
    "**Результат:** На уровне значимости 0.05 гипотеза подтвердилась.  \n",
    "- Гипотеза 2: Цель получения кредита практически не зависит от среднего ежемесячного дохода  \n",
    "**Результат:** На уровне значимости 0.05 у нас нет оснований отвергнуть гипотезу.  \n",
    "- Гипотеза 3: Средний доход по семейному статусу примерно одинаковый, но у вдовцов отличается  \n",
    "**Результат:** На уровне значимости 0.05 гипотеза подтвердилась.  \n",
    "- Гипотеза 4: У должников в среднем больше детей  \n",
    "**Результат:** На уровне значимости 0.05 гипотеза подтвердилась.  \n",
    "- Гипотеза 5: У должников средний возраст ниже  \n",
    "**Результат:** На уровне значимости 0.05 гипотеза подтвердилась. 95% доверительный интервал для разницы средних возрастов для должников и не должников равен   (-inf, -2.74).  \n",
    "- Гипотеза 6: Медианный доход у должников и не должников не отличается  \n",
    "**Результат:** На уровне значимости 0.05 нет оснований отвергнуть гипотезу. 95% доверительный интервал разницы между медианным доходом должников и не должников равен (-2648.05, 179.34).  \n",
    "- Гипотеза 7: Наличие детей не влияет на возврат кредита в срок  \n",
    "**Результат:** На уровне значимости 0.05 гипотеза не подтвердилась.  \n"
   ]
  },
  {
   "cell_type": "markdown",
   "metadata": {},
   "source": [
    "**Рекомендации:**  \n",
    "\n",
    "- Добавить контроль данных, чтобы не дублировались значения с разными регистрами в колонке с образованием.\n",
    "- Добавить уникальный идентификатор клиента, чтобы избежать дублирования строк.\n",
    "- Добавить проверку на отрицательные значения и на слишком болшьшие значения в количестве детей при загрузке данных.\n",
    "- Выяснить откуда возникают отрицательные значения в трудовом стаже и добавить контроль ввода невалидных данных.\n",
    "- Выяснить причину нулевых значений в колонке возраста и добавить проверку на нулевые значения при загрузке данных.\n",
    "- Выяснить причину большого количества знаков после запятой в колонке дохода.\n"
   ]
  },
  {
   "cell_type": "markdown",
   "metadata": {},
   "source": [
    "> Что нужно сообщить в выводе\n",
    "\n",
    "- информацию о том, что удалось подтвердить гипотезы (тут пишем только те, которые удалось подтвердить)\n",
    "- всю информацию о датасете, которые важны. Дубликаты, которые несут практическую пользу и рекомендации по ним, пропуски также с рекомендациями\n",
    "  > и остальные моменты по данным и рекомендации. Тут важно указывать именно найденные аномалии, которые имеют практическую пользу, которые нужно исправить и прочее.  \n",
    "  > Пишем, что были найдены выбросы, они были связаны возможно с тем то и тем то.\n",
    "- и в конце обязательно call to action\n",
    "  > написать что необходимо сделать с этими результатами\n"
   ]
  },
  {
   "cell_type": "markdown",
   "metadata": {},
   "source": [
    "> Советы по оформлению общего выывод\n",
    "\n",
    "- не нужно вставлять таблицы и графики в вывод.\n",
    "  > В выводе пишем словами самое важное и практически полезное, что мы получили, причем в порядке убывания важности.  \n",
    "  > И когда мы пишем, что увидели то-то, то приводим гиперссылку на график или результат ячейки, где это получено.  \n",
    "  > Так будет компактный вывод и при необходимости человек сможет быстро перейти и посмотреть график или таблицу\n"
   ]
  },
  {
   "cell_type": "markdown",
   "metadata": {},
   "source": [
    "**Удалось подтвердить гипотезу** о влиянии различных характеристик клиента на факт погашения кредита в срок. Каждый из рассмотренных параметров оказывает влияние на надёжность заёмщика. Рассмотренные факторы по-разному влияют на надёжность заёмщиков. Например, семейное положение оказалось более значимым фактором, чем уровень дохода.\n"
   ]
  },
  {
   "cell_type": "markdown",
   "id": "ruled-penny",
   "metadata": {},
   "source": [
    "- В ходе анализа исходного набора данных было проведено (были устранены пропуски в двух колонках с числовыми значениями - 'total_income' и 'days_employed').\n",
    "- После **устранения явных и скрытых дупликатов** и удаления оставшихся после обогащения пропусков объем датасета сократился на 0.05%\n",
    "- Были устранены **выбросы** в колонках 'days_employed' и 'children': в первом случае выбросы возникли в результате системной ошибки (данные были внесены в часах, а не в днях); во втором случае ошибка, вероятнее всего была допущена людьми, вносившими данные в систему\n",
    "- ...\n"
   ]
  },
  {
   "cell_type": "markdown",
   "id": "alleged-strand",
   "metadata": {},
   "source": [
    "**Необходимо**\n"
   ]
  },
  {
   "cell_type": "markdown",
   "id": "critical-worker",
   "metadata": {},
   "source": [
    "> 1.  Запросить в отделе по работе с клиентами информацию о возможности брать кредит без подтверждения дохода.\n",
    ">\n",
    "> 2.  Сообщить коллегам, занимающимся выгрузкой о наличие дубликатов, если вопрос не разрешится, запросить индентификационный номер клиента к датасету.\n",
    ">\n",
    "> 3.  Прописать в задаче на поставку данных формат данных (пол только F и M, положительные значения). Приложить информацию о найденных аномалиях.\n"
   ]
  },
  {
   "cell_type": "code",
   "execution_count": null,
   "metadata": {},
   "outputs": [],
   "source": []
  },
  {
   "cell_type": "markdown",
   "metadata": {},
   "source": [
    "**Сначала проверяем орфографические ошибки**\n"
   ]
  },
  {
   "cell_type": "code",
   "execution_count": null,
   "metadata": {},
   "outputs": [],
   "source": [
    "pagri_data_tools.correct_notebook_text()"
   ]
  },
  {
   "cell_type": "markdown",
   "metadata": {},
   "source": [
    "**Затем создаем номера у глав и оглавление**\n"
   ]
  },
  {
   "cell_type": "markdown",
   "metadata": {},
   "source": [
    "> Чтобы добавить номера глав и ссылки для оглавления и сделать оглавлнеие  \n",
    "> оглавление добавиться в начало ноутбука\n"
   ]
  },
  {
   "cell_type": "markdown",
   "metadata": {},
   "source": [
    "> Сначала можно в режиме `draft` сделать пробный варант, проверить и потом уже запустить в режиме `final`\n"
   ]
  },
  {
   "cell_type": "code",
   "execution_count": null,
   "metadata": {},
   "outputs": [],
   "source": [
    "pagri_data_tools.make_headers_link_and_toc()"
   ]
  },
  {
   "cell_type": "markdown",
   "metadata": {},
   "source": [
    "**Далее создаем ссыки на выводы и аномалии**\n"
   ]
  },
  {
   "cell_type": "markdown",
   "metadata": {},
   "source": [
    "> Чтобы было удобно искать где вставить якорь для ссылки, названия выводов и аномалий должно точно совпадать  \n",
    "> в итоговом списке аномалий и выводов и в тех местах (то есть в наблюдениях под ячейками), куда мы будем помещать ссылки\n"
   ]
  },
  {
   "cell_type": "markdown",
   "metadata": {},
   "source": [
    "> Чтобы сделать ссылки на выводы и аномалии, нужно  \n",
    "> в тех местах, куда хотим переходить по ссылке вставить текст выводов или аномалий (берем прямо из основных выводов)  \n",
    "> выводы должны начинаться с `_conclusion_`  \n",
    "> аномалии должны начинаться с `_anomaly_`  \n",
    "> Примеры:  \n",
    ">\n"
   ]
  },
  {
   "cell_type": "markdown",
   "metadata": {},
   "source": [
    "Окончательный текст выводов можно будет потом исправить в выводах всего отчета и поместить их в начало,  \n",
    "важно, выводы не менять до момента, пока мы не создадим ссылки на них.  \n",
    "Чтобы автомтика не нарушилась.  \n",
    "Затем можно будет исправить уже сам текст выводов и это не нарушит ссылки."
   ]
  },
  {
   "cell_type": "code",
   "execution_count": null,
   "metadata": {},
   "outputs": [],
   "source": [
    "_anomalies_ В столбце с количеством детей есть отрицательные значения. 47 штук. "
   ]
  },
  {
   "cell_type": "markdown",
   "metadata": {},
   "source": [
    "> Можно в одной ячейке и выводы и аномалии, с обеих ссылок будет переходить сюда, но назад будет возвращаться только в одно место,  \n",
    "> в то, которое было первым в ячейке\n"
   ]
  },
  {
   "cell_type": "markdown",
   "metadata": {},
   "source": [
    "ВАЖНО  \n",
    "разобраться почему когда рядом ставишь 2 вывода или аномалии или 1 вывод плюс 1 аномалия (вместе 2), то появляется  \n",
    "2 ссылки на оглавление"
   ]
  },
  {
   "cell_type": "code",
   "execution_count": null,
   "metadata": {},
   "outputs": [],
   "source": [
    "_conclusion_ Только 5 процентов клиентов моложе 25 лет. Основная часть клиентов старше 30 лет.\n",
    "_anomalies_ В колонке возраста 101 нулевое значени."
   ]
  },
  {
   "cell_type": "markdown",
   "metadata": {},
   "source": [
    "ВАЖНО  \n",
    "Проийти просмотреть чтобы не было 2 раза близко \"к оглавлению\"  \n",
    "это может быть из-за того что у нас ссылки на выводы рядом с названием главы или раздела  \n",
    "Или просто могут быть 2 выводы рядом.  "
   ]
  },
  {
   "cell_type": "markdown",
   "metadata": {},
   "source": [
    "**Ставим переносы для булитов там, где их нет**"
   ]
  },
  {
   "cell_type": "code",
   "execution_count": null,
   "metadata": {},
   "outputs": [],
   "source": [
    "import IPython\n",
    "notebook_path = \"/\".join(\n",
    "        IPython.extract_module_locals()[1][\"__vsc_ipynb_file__\"].split(\"/\"))\n",
    "pagri_data_tools.check_observes_new_line(notebook_path, mode='final')"
   ]
  },
  {
   "cell_type": "markdown",
   "metadata": {},
   "source": [
    "> Содеражние выводов и аномалий появится в начале ноутбука  \n",
    "> также 2 режима `draft` и `final`\n"
   ]
  },
  {
   "cell_type": "markdown",
   "metadata": {},
   "source": [
    "> Подумать как сделать удобнее создание выводов  \n",
    "> Пока лучше сначала взять выводы из наблюдений и выбрать из них наиболее важные и интересные, не меняя их.  \n",
    "> Далее берем этот список и поиском находим ячейку с этим выводом и перед графиком помещаем  \n",
    "> _conclusion_ и сам вывод\n"
   ]
  },
  {
   "cell_type": "code",
   "execution_count": null,
   "metadata": {},
   "outputs": [],
   "source": []
  },
  {
   "cell_type": "markdown",
   "metadata": {},
   "source": [
    "> Чтобы был нужный порядок в списке выводов и аномалий в начале отчета, нужно передвать словарь со списками выводов и аномалий.  \n",
    "> Переменная order принимает словарь, где ключи `onclusions` и `anomalies`, а значения это соответствующие списки\n"
   ]
  },
  {
   "cell_type": "markdown",
   "metadata": {},
   "source": [
    "> Примеры списков\n"
   ]
  },
  {
   "cell_type": "code",
   "execution_count": null,
   "metadata": {},
   "outputs": [],
   "source": [
    "order = dict(\n",
    "            conclusions =[ 'Женщины чаще возвращают кредит, чем мужчины.']\n",
    "            , anomalies = ['В датафрейме есть строки дубликаты. 54 строки. Меньше 1 % от всего датафрейма.  ']\n",
    ")"
   ]
  },
  {
   "cell_type": "code",
   "execution_count": null,
   "metadata": {},
   "outputs": [],
   "source": [
    "pagri_data_tools.add_conclusions_and_anomalies()"
   ]
  },
  {
   "cell_type": "markdown",
   "metadata": {},
   "source": [
    "**Если сильно нужно, создаем ссыки на гипотезы**\n"
   ]
  },
  {
   "cell_type": "markdown",
   "metadata": {},
   "source": [
    "> В главе гипотез для каждой гипоетзы, куда будем переходить из оглавления, в начале перед гипотезой ставим _hypothesis_ и пробел\n"
   ]
  },
  {
   "cell_type": "code",
   "execution_count": null,
   "metadata": {},
   "outputs": [],
   "source": [
    "_hypotsis_ **Гипотеза 1: Название гипотезы**"
   ]
  },
  {
   "cell_type": "markdown",
   "metadata": {},
   "source": [
    "> Выполняем следующую функцию и в начале отчета появится список гипотез с ссылками  \n",
    "> Далее нужно добавить результат гипотез вручную\n"
   ]
  },
  {
   "cell_type": "code",
   "execution_count": null,
   "metadata": {},
   "outputs": [],
   "source": [
    "pagri_data_tools.add_hypotheses_links_and_toc()"
   ]
  },
  {
   "cell_type": "markdown",
   "metadata": {},
   "source": [
    "**Финальное размещение ноутбука на git hub с ссылкой на google colab**\n"
   ]
  },
  {
   "cell_type": "markdown",
   "metadata": {},
   "source": [
    "> Комитим на гит хаб финальную версию ноутбука.  \n",
    "> Создаем на гит хаб readme файл проекта, в котором в начале идет ссылка на google colab  \n",
    "> Далее ее открываем и переходим на google colab  \n",
    "> Выполняем все ячейки, смотрим все ли правильно отобразилось.  \n",
    "> Далее в меню File выбираем сохранить копию на гит хаб.  \n",
    "> Не меняем имя, тогда все содержимое ноутбука сохраниться на гит хаб.\n"
   ]
  }
 ],
 "metadata": {
  "kernelspec": {
   "display_name": "pagri-projects-W8_aXYna-py3.12",
   "language": "python",
   "name": "python3"
  },
  "language_info": {
   "codemirror_mode": {
    "name": "ipython",
    "version": 3
   },
   "file_extension": ".py",
   "mimetype": "text/x-python",
   "name": "python",
   "nbconvert_exporter": "python",
   "pygments_lexer": "ipython3",
   "version": "3.12.6"
  }
 },
 "nbformat": 4,
 "nbformat_minor": 2
}
