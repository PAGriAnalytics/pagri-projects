{
 "cells": [
  {
   "cell_type": "code",
   "execution_count": null,
   "id": "1d7300f2",
   "metadata": {},
   "outputs": [],
   "source": [
    "pagri_data_tools.func(total_images, kitchen_area)\n",
    "ranges_x = [0.5097517730496456, 26.883865248226954]\n",
    "ranges_y = [-0.15169288312557122, 74.8896623061352]\n"
   ]
  },
  {
   "cell_type": "code",
   "execution_count": null,
   "id": "4c338ba9",
   "metadata": {},
   "outputs": [],
   "source": [
    "pagri_data_tools.func(total_images, floor)\n",
    "ranges_x = [1.3962765957446812, 18.90514184397163]\n",
    "ranges_y = [0.9705340699815773, 21.832412523020256]\n"
   ]
  },
  {
   "cell_type": "code",
   "execution_count": null,
   "id": "3e5d317c",
   "metadata": {},
   "outputs": [],
   "source": [
    "pagri_data_tools.func(total_images, city_centers_nearest)\n",
    "ranges_x = (np.int64(0), np.int64(50))\n",
    "ranges_y = (np.float64(181.0), np.float64(65968.0))\n"
   ]
  },
  {
   "cell_type": "code",
   "execution_count": null,
   "id": "bbe314d6",
   "metadata": {},
   "outputs": [],
   "source": [
    "pagri_data_tools.func(total_images, days_exposition)\n",
    "ranges_x = (np.int64(0), np.int64(50))\n",
    "ranges_y = (np.float64(1.0), np.float64(1580.0))\n"
   ]
  },
  {
   "cell_type": "code",
   "execution_count": null,
   "id": "8ca45cf1",
   "metadata": {},
   "outputs": [],
   "source": [
    "pagri_data_tools.func(last_price, living_area)\n",
    "ranges_x = (np.int64(430000), np.int64(763000000))\n",
    "ranges_y = (np.float64(2.0), np.float64(427.54672897196264))\n"
   ]
  },
  {
   "cell_type": "code",
   "execution_count": null,
   "metadata": {
    "vscode": {
     "languageId": "plaintext"
    }
   },
   "outputs": [],
   "source": [
    "_gen_"
   ]
  }
 ],
 "metadata": {
  "language_info": {
   "name": "python"
  }
 },
 "nbformat": 4,
 "nbformat_minor": 2
}
