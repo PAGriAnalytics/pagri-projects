{
 "cells": [
  {
   "cell_type": "code",
   "execution_count": null,
   "id": "311c795c",
   "metadata": {},
   "outputs": [],
   "source": [
    "config = dict(\n",
    "    df = df\n",
    "    , x = 'is_apartment'\n",
    "    , y = 'total_images'  \n",
    "    , barmode = 'group'\n",
    "    , orientation = 'v'\n",
    "    , func = 'median'\n",
    "    , xaxis_show = True\n",
    "    , yaxis_show = True\n",
    "    , showgrid_x = True\n",
    "    , showgrid_y = True                                                \n",
    ")\n",
    "pagri_data_tools.bar(config, titles_for_axis)\n"
   ]
  },
  {
   "cell_type": "markdown",
   "id": "96ffe2e3",
   "metadata": {},
   "source": [
    "**Наблюдения:**   \n",
    "- median 1"
   ]
  },
  {
   "cell_type": "code",
   "execution_count": null,
   "id": "bd3aed92",
   "metadata": {},
   "outputs": [],
   "source": [
    "config = dict(\n",
    "    df = df\n",
    "    , x = 'is_apartment'\n",
    "    , y = 'total_images'  \n",
    "    , barmode = 'group'\n",
    "    , orientation = 'v'\n",
    "    , func = 'sum'\n",
    "    , xaxis_show = True\n",
    "    , yaxis_show = True\n",
    "    , showgrid_x = True\n",
    "    , showgrid_y = True                                                \n",
    ")\n",
    "pagri_data_tools.bar(config, titles_for_axis)\n"
   ]
  },
  {
   "cell_type": "markdown",
   "id": "fed1b82e",
   "metadata": {},
   "source": [
    "**Наблюдения:**   \n",
    "- 2 sum"
   ]
  },
  {
   "cell_type": "code",
   "execution_count": null,
   "id": "8de3c182",
   "metadata": {},
   "outputs": [],
   "source": [
    "config = dict(\n",
    "    df = df\n",
    "    , x = 'is_apartment'\n",
    "    , y = 'total_images'  \n",
    "    , category = studio \n",
    "    , barmode = 'group'\n",
    "    , orientation = 'h'\n",
    "    , func = 'mean'\n",
    "    , xaxis_show = True\n",
    "    , yaxis_show = True\n",
    "    , showgrid_x = True\n",
    "    , showgrid_y = True                                                \n",
    ")\n",
    "pagri_data_tools.bar(config, titles_for_axis)\n"
   ]
  },
  {
   "cell_type": "markdown",
   "id": "782d4401",
   "metadata": {},
   "source": [
    "**Наблюдения:**   \n",
    "- 3 h"
   ]
  },
  {
   "cell_type": "code",
   "execution_count": null,
   "id": "e4e37f1c",
   "metadata": {},
   "outputs": [],
   "source": [
    "config = dict(\n",
    "    df = df\n",
    "    , x = 'is_apartment'\n",
    "    , y = 'total_images'  \n",
    "    , category = studio \n",
    "    , barmode = 'stack'\n",
    "    , orientation = 'v'\n",
    "    , func = 'mean'\n",
    "    , xaxis_show = True\n",
    "    , yaxis_show = True\n",
    "    , showgrid_x = True\n",
    "    , showgrid_y = True                                                \n",
    ")\n",
    "pagri_data_tools.bar(config, titles_for_axis)\n"
   ]
  },
  {
   "cell_type": "markdown",
   "id": "20bad214",
   "metadata": {},
   "source": [
    "**Наблюдения:**   \n",
    "- 4 stack"
   ]
  },
  {
   "cell_type": "code",
   "execution_count": null,
   "metadata": {},
   "outputs": [],
   "source": [
    "_gen_"
   ]
  }
 ],
 "metadata": {
  "language_info": {
   "name": "python"
  }
 },
 "nbformat": 4,
 "nbformat_minor": 2
}
