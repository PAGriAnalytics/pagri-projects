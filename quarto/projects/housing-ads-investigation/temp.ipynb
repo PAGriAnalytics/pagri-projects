{
 "cells": [
  {
   "cell_type": "code",
   "execution_count": null,
   "id": "bc4a8132",
   "metadata": {},
   "outputs": [],
   "source": [
    "config = dict(\n",
    "    df = df\n",
    "    , x = 'is_apartment'\n",
    "    , y = 'total_images'  \n",
    "    , barmode = 'group'\n",
    "    , orientation = 'v'\n",
    "    , func = 'mean'\n",
    "    , xaxis_show = True\n",
    "    , yaxis_show = True\n",
    "    , showgrid_x = True\n",
    "    , showgrid_y = True                                                \n",
    ")\n",
    "pagri_data_tools.bar(config, titles_for_axis)\n"
   ]
  },
  {
   "cell_type": "code",
   "execution_count": null,
   "id": "df002f35",
   "metadata": {},
   "outputs": [],
   "source": [
    "config = dict(\n",
    "    df = df\n",
    "    , x = 'is_apartment'\n",
    "    , y = 'last_price'  \n",
    "    , barmode = 'group'\n",
    "    , orientation = 'v'\n",
    "    , func = 'mean'\n",
    "    , xaxis_show = True\n",
    "    , yaxis_show = True\n",
    "    , showgrid_x = True\n",
    "    , showgrid_y = True                                                \n",
    ")\n",
    "pagri_data_tools.bar(config, titles_for_axis)\n"
   ]
  },
  {
   "cell_type": "code",
   "execution_count": null,
   "id": "a1f35dc4",
   "metadata": {},
   "outputs": [],
   "source": [
    "config = dict(\n",
    "    df = df\n",
    "    , x = 'is_apartment'\n",
    "    , y = 'total_area'  \n",
    "    , barmode = 'group'\n",
    "    , orientation = 'v'\n",
    "    , func = 'mean'\n",
    "    , xaxis_show = True\n",
    "    , yaxis_show = True\n",
    "    , showgrid_x = True\n",
    "    , showgrid_y = True                                                \n",
    ")\n",
    "pagri_data_tools.bar(config, titles_for_axis)\n"
   ]
  },
  {
   "cell_type": "code",
   "execution_count": null,
   "id": "9ab9e9ae",
   "metadata": {},
   "outputs": [],
   "source": [
    "config = dict(\n",
    "    df = df\n",
    "    , x = 'is_apartment'\n",
    "    , y = 'rooms'  \n",
    "    , barmode = 'group'\n",
    "    , orientation = 'v'\n",
    "    , func = 'mean'\n",
    "    , xaxis_show = True\n",
    "    , yaxis_show = True\n",
    "    , showgrid_x = True\n",
    "    , showgrid_y = True                                                \n",
    ")\n",
    "pagri_data_tools.bar(config, titles_for_axis)\n"
   ]
  },
  {
   "cell_type": "code",
   "execution_count": null,
   "metadata": {},
   "outputs": [],
   "source": [
    "_gen_"
   ]
  }
 ],
 "metadata": {
  "language_info": {
   "name": "python"
  }
 },
 "nbformat": 4,
 "nbformat_minor": 2
}
