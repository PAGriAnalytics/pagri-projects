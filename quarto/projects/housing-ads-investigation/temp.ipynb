{
 "cells": [
  {
   "cell_type": "code",
   "execution_count": null,
   "id": "a05cfd8f",
   "metadata": {},
   "outputs": [],
   "source": [
    "config = dict(\n",
    "    df = df\n",
    "    , x = 'floor_position'\n",
    "    , y = 'rooms'  \n",
    "    , category = price_segment \n",
    "    , barmode = 'group'\n",
    "    , orientation = 'v'\n",
    "    , func = 'mean'\n",
    "    , xaxis_show = True\n",
    "    , yaxis_show = True\n",
    "    , showgrid_x = True\n",
    "    , showgrid_y = True                                                \n",
    ")\n",
    "pagri_data_tools.bar(config, titles_for_axis)\n"
   ]
  },
  {
   "cell_type": "markdown",
   "id": "ec5f46f8",
   "metadata": {},
   "source": [
    "**Наблюдения:**   \n",
    "- В премиуме среднее количество комнат больше на всех этажах"
   ]
  },
  {
   "cell_type": "code",
   "execution_count": null,
   "id": "f0741655",
   "metadata": {},
   "outputs": [],
   "source": [
    "config = dict(\n",
    "    df = df\n",
    "    , x = 'floor_position'\n",
    "    , y = 'living_area'  \n",
    "    , category = price_segment \n",
    "    , barmode = 'group'\n",
    "    , orientation = 'v'\n",
    "    , func = 'mean'\n",
    "    , xaxis_show = True\n",
    "    , yaxis_show = True\n",
    "    , showgrid_x = True\n",
    "    , showgrid_y = True                                                \n",
    ")\n",
    "pagri_data_tools.bar(config, titles_for_axis)\n"
   ]
  },
  {
   "cell_type": "markdown",
   "id": "7422968f",
   "metadata": {},
   "source": [
    "**Наблюдения:**   \n",
    "- У премиума площавь квартир больше на всех этажах"
   ]
  },
  {
   "cell_type": "code",
   "execution_count": null,
   "id": "333e90ad",
   "metadata": {},
   "outputs": [],
   "source": [
    "config = dict(\n",
    "    df = df\n",
    "    , x = 'location_zone'\n",
    "    , y = 'last_price'  \n",
    "    , barmode = 'group'\n",
    "    , orientation = 'v'\n",
    "    , func = 'median'\n",
    "    , xaxis_show = True\n",
    "    , yaxis_show = True\n",
    "    , showgrid_x = True\n",
    "    , showgrid_y = True                                                \n",
    ")\n",
    "pagri_data_tools.bar(config, titles_for_axis)\n"
   ]
  },
  {
   "cell_type": "markdown",
   "id": "32d1cf9e",
   "metadata": {},
   "source": [
    "**Наблюдения:**   \n",
    "- В центре медианная стоимость квартир выше"
   ]
  },
  {
   "cell_type": "code",
   "execution_count": null,
   "id": "cff000fd",
   "metadata": {},
   "outputs": [],
   "source": [
    "config = dict(\n",
    "    df = df\n",
    "    , x = 'location_zone'\n",
    "    , y = 'total_area'  \n",
    "    , barmode = 'group'\n",
    "    , orientation = 'v'\n",
    "    , func = 'median'\n",
    "    , xaxis_show = True\n",
    "    , yaxis_show = True\n",
    "    , showgrid_x = True\n",
    "    , showgrid_y = True                                                \n",
    ")\n",
    "pagri_data_tools.bar(config, titles_for_axis)\n"
   ]
  },
  {
   "cell_type": "markdown",
   "id": "e16ad589",
   "metadata": {},
   "source": [
    "**Наблюдения:**   \n",
    "- В центре медианная площадь квартир больше"
   ]
  },
  {
   "cell_type": "code",
   "execution_count": null,
   "id": "1082c51b",
   "metadata": {},
   "outputs": [],
   "source": [
    "config = dict(\n",
    "    df = df\n",
    "    , x = 'location_zone'\n",
    "    , y = 'rooms'  \n",
    "    , barmode = 'group'\n",
    "    , orientation = 'v'\n",
    "    , func = 'median'\n",
    "    , xaxis_show = True\n",
    "    , yaxis_show = True\n",
    "    , showgrid_x = True\n",
    "    , showgrid_y = True                                                \n",
    ")\n",
    "pagri_data_tools.bar(config, titles_for_axis)\n"
   ]
  },
  {
   "cell_type": "markdown",
   "id": "6919a354",
   "metadata": {},
   "source": [
    "**Наблюдения:**   \n",
    "- В центре медианное количество комнат больше"
   ]
  },
  {
   "cell_type": "code",
   "execution_count": null,
   "id": "00eae07a",
   "metadata": {},
   "outputs": [],
   "source": [
    "config = dict(\n",
    "    df = df\n",
    "    , x = 'location_zone'\n",
    "    , y = 'ceiling_height'  \n",
    "    , barmode = 'group'\n",
    "    , orientation = 'v'\n",
    "    , func = 'median'\n",
    "    , xaxis_show = True\n",
    "    , yaxis_show = True\n",
    "    , showgrid_x = True\n",
    "    , showgrid_y = True                                                \n",
    ")\n",
    "pagri_data_tools.bar(config, titles_for_axis)\n"
   ]
  },
  {
   "cell_type": "markdown",
   "id": "d5bff17f",
   "metadata": {},
   "source": [
    "**Наблюдения:**   \n",
    "- В центре медианная высота потолков выше."
   ]
  },
  {
   "cell_type": "code",
   "execution_count": null,
   "id": "49d7e51d",
   "metadata": {},
   "outputs": [],
   "source": [
    "config = dict(\n",
    "    df = df\n",
    "    , x = 'location_zone'\n",
    "    , y = 'floors_total'  \n",
    "    , barmode = 'group'\n",
    "    , orientation = 'v'\n",
    "    , func = 'median'\n",
    "    , xaxis_show = True\n",
    "    , yaxis_show = True\n",
    "    , showgrid_x = True\n",
    "    , showgrid_y = True                                                \n",
    ")\n",
    "pagri_data_tools.bar(config, titles_for_axis)\n"
   ]
  },
  {
   "cell_type": "markdown",
   "id": "9058f169",
   "metadata": {},
   "source": [
    "**Наблюдения:**   \n",
    "- Самые высокие дома находятся на средней удаленности от центра"
   ]
  },
  {
   "cell_type": "code",
   "execution_count": null,
   "id": "aaddf81c",
   "metadata": {},
   "outputs": [],
   "source": [
    "config = dict(\n",
    "    df = df\n",
    "    , x = 'location_zone'\n",
    "    , y = 'days_exposition'  \n",
    "    , barmode = 'group'\n",
    "    , orientation = 'v'\n",
    "    , func = 'median'\n",
    "    , xaxis_show = True\n",
    "    , yaxis_show = True\n",
    "    , showgrid_x = True\n",
    "    , showgrid_y = True                                                \n",
    ")\n",
    "pagri_data_tools.bar(config, titles_for_axis)\n"
   ]
  },
  {
   "cell_type": "markdown",
   "id": "d10f0652",
   "metadata": {},
   "source": [
    "**Наблюдения:**   \n",
    "- В центре медианное количество дней экспозиции больше. "
   ]
  },
  {
   "cell_type": "code",
   "execution_count": null,
   "id": "d635bcb1",
   "metadata": {},
   "outputs": [],
   "source": [
    "config = dict(\n",
    "    df = df\n",
    "    , x = 'location_zone'\n",
    "    , y = 'price_per_sqm'  \n",
    "    , barmode = 'group'\n",
    "    , orientation = 'v'\n",
    "    , func = 'median'\n",
    "    , xaxis_show = True\n",
    "    , yaxis_show = True\n",
    "    , showgrid_x = True\n",
    "    , showgrid_y = True                                                \n",
    ")\n",
    "pagri_data_tools.bar(config, titles_for_axis)\n"
   ]
  },
  {
   "cell_type": "markdown",
   "id": "5813fbea",
   "metadata": {},
   "source": [
    "**Наблюдения:**   \n",
    "- Средняя цена квадратного метра в центре выше."
   ]
  },
  {
   "cell_type": "code",
   "execution_count": null,
   "id": "48259d10",
   "metadata": {},
   "outputs": [],
   "source": [
    "config = dict(\n",
    "    df = df\n",
    "    , x = 'publication_year'\n",
    "    , y = 'total_images'  \n",
    "    , barmode = 'group'\n",
    "    , orientation = 'v'\n",
    "    , func = 'median'\n",
    "    , xaxis_show = True\n",
    "    , yaxis_show = True\n",
    "    , showgrid_x = True\n",
    "    , showgrid_y = True                                                \n",
    ")\n",
    "pagri_data_tools.bar(config, titles_for_axis)\n"
   ]
  },
  {
   "cell_type": "markdown",
   "id": "5bef0c70",
   "metadata": {},
   "source": [
    "**Наблюдения:**   \n",
    "- Есть тренд на увеличение количества фотографий по годам."
   ]
  },
  {
   "cell_type": "code",
   "execution_count": null,
   "id": "34d817a4",
   "metadata": {},
   "outputs": [],
   "source": [
    "config = dict(\n",
    "    df = df\n",
    "    , x = 'publication_month_year'\n",
    "    , y = 'last_price'  \n",
    "    , barmode = 'group'\n",
    "    , orientation = 'v'\n",
    "    , func = 'median'\n",
    "    , xaxis_show = True\n",
    "    , yaxis_show = True\n",
    "    , showgrid_x = True\n",
    "    , showgrid_y = True                                                \n",
    ")\n",
    "pagri_data_tools.bar(config, titles_for_axis)\n"
   ]
  },
  {
   "cell_type": "markdown",
   "id": "e0ec38a5",
   "metadata": {},
   "source": [
    "**Наблюдения:**   \n",
    "- Зависимость цены по годам"
   ]
  },
  {
   "cell_type": "code",
   "execution_count": null,
   "id": "2360b094",
   "metadata": {},
   "outputs": [],
   "source": [
    "config = dict(\n",
    "    df = df\n",
    "    , x = 'publication_month_year'\n",
    "    , y = 'total_area'  \n",
    "    , barmode = 'group'\n",
    "    , orientation = 'v'\n",
    "    , func = 'median'\n",
    "    , xaxis_show = True\n",
    "    , yaxis_show = True\n",
    "    , showgrid_x = True\n",
    "    , showgrid_y = True                                                \n",
    ")\n",
    "pagri_data_tools.bar(config, titles_for_axis)\n"
   ]
  },
  {
   "cell_type": "code",
   "execution_count": null,
   "id": "66b93ff9",
   "metadata": {},
   "outputs": [],
   "source": [
    "config = dict(\n",
    "    df = df\n",
    "    , x = 'publication_month_year'\n",
    "    , y = 'living_area'  \n",
    "    , barmode = 'group'\n",
    "    , orientation = 'v'\n",
    "    , func = 'median'\n",
    "    , xaxis_show = True\n",
    "    , yaxis_show = True\n",
    "    , showgrid_x = True\n",
    "    , showgrid_y = True                                                \n",
    ")\n",
    "pagri_data_tools.bar(config, titles_for_axis)\n"
   ]
  },
  {
   "cell_type": "code",
   "execution_count": null,
   "metadata": {},
   "outputs": [],
   "source": [
    "Цена квадратного метра по годам, месяцам, и годам-месяцам"
   ]
  },
  {
   "cell_type": "code",
   "execution_count": null,
   "metadata": {},
   "outputs": [],
   "source": [
    "_gen_"
   ]
  }
 ],
 "metadata": {
  "language_info": {
   "name": "python"
  }
 },
 "nbformat": 4,
 "nbformat_minor": 2
}
