{
 "cells": [
  {
   "cell_type": "code",
   "execution_count": null,
   "id": "405a3408",
   "metadata": {},
   "outputs": [],
   "source": [
    "\n",
    "config = dict(\n",
    "    df = df\n",
    "    , pairs = {('total_images', 'floor'): {'total_images': [3.169326241134752, 22.229609929078016], 'floor': [7.453038674033144, 20.18232044198895]}, ('total_images', 'kitchen_area'): {'total_images': [3.3909574468085113, 32.42464539007093], 'kitchen_area': [9.228476515532025, 32.45556264554131]}}\n",
    ")\n"
   ]
  },
  {
   "cell_type": "code",
   "execution_count": null,
   "id": "b6860284",
   "metadata": {},
   "outputs": [],
   "source": [
    "\n",
    "pairs = {('total_images', 'last_price'): {'total_images': [0.73, 23.12], 'last_price': [-14315828.73, 485637983.43]}, ('total_images', 'floors_total'): {'total_images': [-2.15, 22.45], 'floors_total': [0.51, 28.54]}, ('total_images', 'kitchen_area'): {'total_images': [-1.04, 28.44], 'kitchen_area': [-0.6, 59.26]}, ('total_images', 'parks_nearest'): {'total_images': [np.int64(0), np.int64(50)], 'parks_nearest': [np.float64(1.0), np.float64(3190.0)]}, ('total_images', 'ponds_around3000'): {'total_images': [np.int64(0), np.int64(50)], 'ponds_around3000': [np.float64(0.0), np.float64(3.0)]}, ('total_images', 'living_total_ratio'): {'total_images': [np.int64(0), np.int64(50)], 'living_total_ratio': [np.float64(0.02), np.float64(1.0)]}, ('total_images', 'kitchen_total_ratio'): {'total_images': [np.int64(0), np.int64(50)], 'kitchen_total_ratio': [np.float64(0.03), np.float64(0.79)]}, ('total_images', 'price_per_sqm'): {'total_images': [np.int64(0), np.int64(50)], 'price_per_sqm': [np.int64(7962), np.int64(1907500)]}, ('last_price', 'living_area'): {'last_price': [np.int64(430000), np.int64(763000000)], 'living_area': [np.float64(2.0), np.float64(427.55)]}}\n",
    "pagri_data_tools.pairplot_pairs(df, pairs, horizontal_spacing=0.12, rows=3, cols=3).show(config=dict(displayModeBar=False, dpi=200), renderer=\"png\")\n"
   ]
  },
  {
   "cell_type": "code",
   "execution_count": null,
   "id": "c538ed46",
   "metadata": {},
   "outputs": [],
   "source": [
    "\n",
    "pairs = {('last_price', 'total_area'): {'last_price': [np.int64(430000), np.int64(763000000)], 'total_area': [np.float64(12.0), np.float64(900.0)]}, ('last_price', 'balcony'): {'last_price': [np.int64(430000), np.int64(763000000)], 'balcony': [np.float64(0.0), np.float64(5.0)]}, ('last_price', 'parks_around3000'): {'last_price': [np.int64(430000), np.int64(763000000)], 'parks_around3000': [np.float64(0.0), np.float64(3.0)]}, ('last_price', 'ponds_nearest'): {'last_price': [np.int64(430000), np.int64(763000000)], 'ponds_nearest': [np.float64(13.0), np.float64(1344.0)]}, ('last_price', 'parks_nearest'): {'last_price': [np.int64(430000), np.int64(763000000)], 'parks_nearest': [np.float64(1.0), np.float64(3190.0)]}, ('last_price', 'ponds_around3000'): {'last_price': [np.int64(430000), np.int64(763000000)], 'ponds_around3000': [np.float64(0.0), np.float64(3.0)]}, ('last_price', 'price_per_sqm'): {'last_price': [np.int64(430000), np.int64(763000000)], 'price_per_sqm': [np.int64(7962), np.int64(1907500)]}}\n",
    "pagri_data_tools.pairplot_pairs(df, pairs, horizontal_spacing=0.12, rows=3, cols=3).show(config=dict(displayModeBar=False, dpi=200), renderer=\"png\")\n"
   ]
  },
  {
   "cell_type": "code",
   "execution_count": null,
   "metadata": {},
   "outputs": [],
   "source": [
    "_gen_"
   ]
  }
 ],
 "metadata": {
  "language_info": {
   "name": "python"
  }
 },
 "nbformat": 4,
 "nbformat_minor": 2
}
