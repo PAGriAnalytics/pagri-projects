{
 "cells": [
  {
   "cell_type": "raw",
   "metadata": {
    "id": "PMqpHJIyrRPP"
   },
   "source": [
    "---\n",
    "format:\n",
    "  html:\n",
    "    code-fold: true\n",
    "    code-summary: \"Show the code\"\n",
    "    fontsize: 16px\n",
    "    smooth-scroll: true\n",
    "    toc: true\n",
    "    toc-location: left\n",
    "    toc-title: Оглавление\n",
    "    grid:\n",
    "      body-width: 1100px\n",
    "---"
   ]
  },
  {
   "cell_type": "markdown",
   "metadata": {
    "id": "fbFSQIPSrRPZ"
   },
   "source": [
    "# Исследование объявлений о продаже квартир"
   ]
  },
  {
   "cell_type": "markdown",
   "metadata": {
    "id": "VMdW6PFbrRPd"
   },
   "source": [
    "**Описание проекта:**   \n",
    "Проект направлен на исследование факторов, влияющих на ценообразование на рынке недвижимости в Санкт-Петербурге.  \n",
    "В ходе проекта будут выявлены ключевые параметры, которые определяют стоимость квартир.  \n",
    "Полученные знания будут использованы для создания системы, которая будет отслеживать аномалии и предупреждать о возможных случаях мошенничества."
   ]
  },
  {
   "cell_type": "markdown",
   "metadata": {
    "id": "ipt2JTR8rRPe"
   },
   "source": [
    "**Автор:**  \n",
    "Григорьев Павел   "
   ]
  },
  {
   "cell_type": "markdown",
   "metadata": {
    "id": "ZsEHbcUfrRPf"
   },
   "source": [
    "**Цель:**    \n",
    "Выявить ключевые параметры, определяющие стоимость квартир, и разработать рекомендации для создания системы мониторинга,   \n",
    "которая поможет выявлять аномалии в ценах и предупреждать о мошенничестве на рынке недвижимости."
   ]
  },
  {
   "cell_type": "markdown",
   "metadata": {
    "id": "Vt5tonHmrRPk"
   },
   "source": [
    "**Источники данных:**  \n",
    "Данные сервиса Яндекс.Недвижимость — архив объявлений о продаже квартир в Санкт-Петербурге и соседних населённых пунктах за несколько лет."
   ]
  },
  {
   "cell_type": "markdown",
   "metadata": {
    "id": "slmTSmB-rRPp"
   },
   "source": [
    "**Условия проведения анализа днных:**  \n"
   ]
  },
  {
   "cell_type": "markdown",
   "metadata": {
    "id": "gRfc-gMHrRPq"
   },
   "source": [
    ">указываем временной интервал выборки  \n",
    ">Например, 'для анализ будут использоваться данные за год с 1 июня 2017 по 31 мая 2018 года'"
   ]
  },
  {
   "cell_type": "markdown",
   "metadata": {
    "id": "E8uSCXA8rRPv"
   },
   "source": [
    ">Например, 'для анализ будут использоваться данные за год с 1 июня 2017 по 31 мая 2018 года'"
   ]
  },
  {
   "cell_type": "markdown",
   "metadata": {
    "id": "rReqmmGVrRPx"
   },
   "source": [
    "**Главные выводы:**   \n",
    "тут помещаем самое главное из общего вывода, примерно до полустраницы, чтобы не было сильно много и при этом указать все главные выводы\n",
    "Будет идеально, елси выводы на похожие темы будут рядом, то есть елси мы имеем несколько выводов о доходе, то лушче поместить их рядом\n",
    "- Женщины чаще возвращают кредит, чем мужчины.\n",
    "- Долги присутствуют у людей с разным доходом.\n"
   ]
  },
  {
   "cell_type": "markdown",
   "metadata": {
    "id": "FFCiroaarRPy"
   },
   "source": [
    "**Аномалии и особенности в данных:**\n",
    "- В датафрейме есть строки дубликаты. 54 строки. Меньше 1 % от всего датафрейма.  \n",
    "- В столбце с количеством детей есть отрицательные значения. 47 штук. Меньше 1 процента от всего датафрейма. Также есть клиенты с 20 детьми."
   ]
  },
  {
   "cell_type": "markdown",
   "metadata": {
    "id": "Kgq29KQ6rRP0"
   },
   "source": [
    "**Рекомендации:**  \n",
    "- Добавить контроль данных, чтобы не дублировались значения с разными регистрами в колонке с образованием.\n",
    "- Добавить уникальный идентификатор клиента, чтобы избежать дублирования строк."
   ]
  },
  {
   "cell_type": "markdown",
   "metadata": {
    "id": "m-kodx1srRP1"
   },
   "source": [
    "\n",
    "**Оглавление**\n"
   ]
  },
  {
   "cell_type": "markdown",
   "metadata": {
    "id": "7pogbnogrRP3"
   },
   "source": [
    "## Загрузка библиотек"
   ]
  },
  {
   "cell_type": "code",
   "execution_count": 1,
   "metadata": {
    "id": "uz_XD2forRP_"
   },
   "outputs": [],
   "source": [
    "%load_ext autoreload\n",
    "%autoreload 2\n",
    "import pandas as pd\n",
    "import numpy as np\n",
    "import plotly.express as px\n",
    "import pagri_data_tools  # type: ignore"
   ]
  },
  {
   "cell_type": "markdown",
   "metadata": {
    "id": "jMNnqZ9UrRQE"
   },
   "source": [
    "## Описание и изучение данных"
   ]
  },
  {
   "cell_type": "markdown",
   "metadata": {},
   "source": []
  },
  {
   "cell_type": "markdown",
   "metadata": {
    "id": "JzdBuNfWrRQF"
   },
   "source": [
    "### Описание данных\n"
   ]
  },
  {
   "cell_type": "markdown",
   "metadata": {
    "id": "P9un_cDqrRQG"
   },
   "source": [
    "По каждой квартире на продажу доступны два вида данных. Первые вписаны пользователем, вторые — получены автоматически на основе картографических данных.  \n",
    "Например, расстояние до центра, аэропорта, ближайшего парка и водоёма."
   ]
  },
  {
   "cell_type": "markdown",
   "metadata": {
    "id": "Fcn-u3VhrRQH",
    "notebookRunGroups": {
     "groupValue": "1"
    }
   },
   "source": [
    "- airports_nearest - расстояние до ближайшего аэропорта в метрах (м)\n",
    "- balcony - число балконов\n",
    "- ceiling_height - высота потолков (м)\n",
    "- cityCenters_nearest - расстояние до центра города (м)\n",
    "- days_exposition - сколько дней было размещено объявление (от публикации до снятия)\n",
    "- first_day_exposition - дата публикации\n",
    "- floor - этаж\n",
    "- floors_total - всего этажей в доме\n",
    "- is_apartment - апартаменты (булев тип)\n",
    "- kitchen_area - площадь кухни в квадратных метрах (м²)\n",
    "- last_price - цена на момент снятия с публикации\n",
    "- living_area - жилая площадь в квадратных метрах(м²)\n",
    "- locality_name - название населённого пункта\n",
    "- open_plan - свободная планировка (булев тип)\n",
    "- parks_around3000 - число парков в радиусе 3 км\n",
    "- parks_nearest - расстояние до ближайшего парка (м)\n",
    "- ponds_around3000 - число водоёмов в радиусе 3 км\n",
    "- ponds_nearest - расстояние до ближайшего водоёма (м)\n",
    "- rooms - число комнат\n",
    "- studio - квартира-студия (булев тип)\n",
    "- total_area - площадь квартиры в квадратных метрах (м²)\n",
    "- total_images - число фотографий квартиры в объявлении"
   ]
  },
  {
   "cell_type": "markdown",
   "metadata": {
    "id": "K_8EphhRrRQJ"
   },
   "source": [
    "### Изучение данных"
   ]
  },
  {
   "cell_type": "markdown",
   "metadata": {
    "id": "znl0wLhbrRQM"
   },
   "source": [
    "#### Изучение переменных"
   ]
  },
  {
   "cell_type": "markdown",
   "metadata": {
    "id": "SIgjU21XrRQO"
   },
   "source": [
    "Оставим тип float, так как у нас пропуски в данных и мы не можем преобразовать нужные столбцы в int"
   ]
  },
  {
   "cell_type": "code",
   "execution_count": 2,
   "metadata": {
    "id": "XPtQU0DErRQP",
    "outputId": "99d3fcc0-1f70-4c60-de65-49c33603bd31"
   },
   "outputs": [
    {
     "data": {
      "text/html": [
       "\n",
       "  <div id=\"df-60d56f22-ba61-4afd-b345-6827cb2a149e\" class=\"colab-df-container\">\n",
       "    <div>\n",
       "<style scoped>\n",
       "    .dataframe tbody tr th:only-of-type {\n",
       "        vertical-align: middle;\n",
       "    }\n",
       "\n",
       "    .dataframe tbody tr th {\n",
       "        vertical-align: top;\n",
       "    }\n",
       "\n",
       "    .dataframe thead th {\n",
       "        text-align: right;\n",
       "    }\n",
       "</style>\n",
       "<table border=\"1\" class=\"dataframe\">\n",
       "  <thead>\n",
       "    <tr style=\"text-align: right;\">\n",
       "      <th></th>\n",
       "      <th>total_images</th>\n",
       "      <th>last_price</th>\n",
       "      <th>total_area</th>\n",
       "      <th>first_day_exposition</th>\n",
       "      <th>rooms</th>\n",
       "      <th>ceiling_height</th>\n",
       "      <th>floors_total</th>\n",
       "      <th>living_area</th>\n",
       "      <th>floor</th>\n",
       "      <th>is_apartment</th>\n",
       "      <th>...</th>\n",
       "      <th>kitchen_area</th>\n",
       "      <th>balcony</th>\n",
       "      <th>locality_name</th>\n",
       "      <th>airports_nearest</th>\n",
       "      <th>city_centers_nearest</th>\n",
       "      <th>parks_around3000</th>\n",
       "      <th>parks_nearest</th>\n",
       "      <th>ponds_around3000</th>\n",
       "      <th>ponds_nearest</th>\n",
       "      <th>days_exposition</th>\n",
       "    </tr>\n",
       "  </thead>\n",
       "  <tbody>\n",
       "    <tr>\n",
       "      <th>6029</th>\n",
       "      <td>7</td>\n",
       "      <td>4200000.0</td>\n",
       "      <td>42.00</td>\n",
       "      <td>2017-12-05</td>\n",
       "      <td>2</td>\n",
       "      <td>2.58</td>\n",
       "      <td>5.0</td>\n",
       "      <td>28.5</td>\n",
       "      <td>5</td>\n",
       "      <td>NaN</td>\n",
       "      <td>...</td>\n",
       "      <td>5.00</td>\n",
       "      <td>NaN</td>\n",
       "      <td>Санкт-Петербург</td>\n",
       "      <td>36416.0</td>\n",
       "      <td>9534.0</td>\n",
       "      <td>2.0</td>\n",
       "      <td>446.0</td>\n",
       "      <td>3.0</td>\n",
       "      <td>459.0</td>\n",
       "      <td>18.0</td>\n",
       "    </tr>\n",
       "    <tr>\n",
       "      <th>21836</th>\n",
       "      <td>7</td>\n",
       "      <td>3950000.0</td>\n",
       "      <td>45.00</td>\n",
       "      <td>2015-06-10</td>\n",
       "      <td>2</td>\n",
       "      <td>NaN</td>\n",
       "      <td>9.0</td>\n",
       "      <td>28.0</td>\n",
       "      <td>7</td>\n",
       "      <td>NaN</td>\n",
       "      <td>...</td>\n",
       "      <td>7.00</td>\n",
       "      <td>0.0</td>\n",
       "      <td>Санкт-Петербург</td>\n",
       "      <td>27880.0</td>\n",
       "      <td>12138.0</td>\n",
       "      <td>1.0</td>\n",
       "      <td>638.0</td>\n",
       "      <td>1.0</td>\n",
       "      <td>593.0</td>\n",
       "      <td>437.0</td>\n",
       "    </tr>\n",
       "    <tr>\n",
       "      <th>5698</th>\n",
       "      <td>7</td>\n",
       "      <td>450000.0</td>\n",
       "      <td>42.00</td>\n",
       "      <td>2017-07-31</td>\n",
       "      <td>2</td>\n",
       "      <td>NaN</td>\n",
       "      <td>1.0</td>\n",
       "      <td>23.0</td>\n",
       "      <td>1</td>\n",
       "      <td>NaN</td>\n",
       "      <td>...</td>\n",
       "      <td>5.80</td>\n",
       "      <td>NaN</td>\n",
       "      <td>городской посёлок Будогощь</td>\n",
       "      <td>NaN</td>\n",
       "      <td>NaN</td>\n",
       "      <td>NaN</td>\n",
       "      <td>NaN</td>\n",
       "      <td>NaN</td>\n",
       "      <td>NaN</td>\n",
       "      <td>233.0</td>\n",
       "    </tr>\n",
       "    <tr>\n",
       "      <th>9402</th>\n",
       "      <td>11</td>\n",
       "      <td>4900000.0</td>\n",
       "      <td>55.00</td>\n",
       "      <td>2017-06-19</td>\n",
       "      <td>2</td>\n",
       "      <td>NaN</td>\n",
       "      <td>14.0</td>\n",
       "      <td>32.0</td>\n",
       "      <td>14</td>\n",
       "      <td>NaN</td>\n",
       "      <td>...</td>\n",
       "      <td>8.50</td>\n",
       "      <td>2.0</td>\n",
       "      <td>Санкт-Петербург</td>\n",
       "      <td>39931.0</td>\n",
       "      <td>12834.0</td>\n",
       "      <td>0.0</td>\n",
       "      <td>NaN</td>\n",
       "      <td>0.0</td>\n",
       "      <td>NaN</td>\n",
       "      <td>15.0</td>\n",
       "    </tr>\n",
       "    <tr>\n",
       "      <th>2519</th>\n",
       "      <td>6</td>\n",
       "      <td>3511000.0</td>\n",
       "      <td>39.41</td>\n",
       "      <td>2018-08-07</td>\n",
       "      <td>1</td>\n",
       "      <td>2.65</td>\n",
       "      <td>27.0</td>\n",
       "      <td>NaN</td>\n",
       "      <td>12</td>\n",
       "      <td>NaN</td>\n",
       "      <td>...</td>\n",
       "      <td>11.28</td>\n",
       "      <td>1.0</td>\n",
       "      <td>посёлок Мурино</td>\n",
       "      <td>NaN</td>\n",
       "      <td>NaN</td>\n",
       "      <td>NaN</td>\n",
       "      <td>NaN</td>\n",
       "      <td>NaN</td>\n",
       "      <td>NaN</td>\n",
       "      <td>60.0</td>\n",
       "    </tr>\n",
       "  </tbody>\n",
       "</table>\n",
       "<p>5 rows × 22 columns</p>\n",
       "</div>\n",
       "    <div class=\"colab-df-buttons\">\n",
       "      \n",
       "  <div class=\"colab-df-container\">\n",
       "    <button class=\"colab-df-convert\" onclick=\"convertToInteractive('df-60d56f22-ba61-4afd-b345-6827cb2a149e')\"\n",
       "            title=\"Convert this dataframe to an interactive table.\"\n",
       "            style=\"display:none;\">\n",
       "      \n",
       "  <svg xmlns=\"http://www.w3.org/2000/svg\" height=\"24px\" viewBox=\"0 -960 960 960\">\n",
       "    <path d=\"M120-120v-720h720v720H120Zm60-500h600v-160H180v160Zm220 220h160v-160H400v160Zm0 220h160v-160H400v160ZM180-400h160v-160H180v160Zm440 0h160v-160H620v160ZM180-180h160v-160H180v160Zm440 0h160v-160H620v160Z\"/>\n",
       "  </svg>\n",
       "    </button>\n",
       "    \n",
       "  <style>\n",
       "    .colab-df-container {\n",
       "      display:flex;\n",
       "      gap: 12px;\n",
       "    }\n",
       "\n",
       "    .colab-df-convert {\n",
       "      background-color: #E8F0FE;\n",
       "      border: none;\n",
       "      border-radius: 50%;\n",
       "      cursor: pointer;\n",
       "      display: none;\n",
       "      fill: #1967D2;\n",
       "      height: 32px;\n",
       "      padding: 0 0 0 0;\n",
       "      width: 32px;\n",
       "    }\n",
       "\n",
       "    .colab-df-convert:hover {\n",
       "      background-color: #E2EBFA;\n",
       "      box-shadow: 0px 1px 2px rgba(60, 64, 67, 0.3), 0px 1px 3px 1px rgba(60, 64, 67, 0.15);\n",
       "      fill: #174EA6;\n",
       "    }\n",
       "\n",
       "    .colab-df-buttons div {\n",
       "      margin-bottom: 4px;\n",
       "    }\n",
       "\n",
       "    [theme=dark] .colab-df-convert {\n",
       "      background-color: #3B4455;\n",
       "      fill: #D2E3FC;\n",
       "    }\n",
       "\n",
       "    [theme=dark] .colab-df-convert:hover {\n",
       "      background-color: #434B5C;\n",
       "      box-shadow: 0px 1px 3px 1px rgba(0, 0, 0, 0.15);\n",
       "      filter: drop-shadow(0px 1px 2px rgba(0, 0, 0, 0.3));\n",
       "      fill: #FFFFFF;\n",
       "    }\n",
       "  </style>\n",
       "\n",
       "    <script>\n",
       "      const buttonEl =\n",
       "        document.querySelector('#df-60d56f22-ba61-4afd-b345-6827cb2a149e button.colab-df-convert');\n",
       "      buttonEl.style.display =\n",
       "        google.colab.kernel.accessAllowed ? 'block' : 'none';\n",
       "\n",
       "      async function convertToInteractive(key) {\n",
       "        const element = document.querySelector('#df-60d56f22-ba61-4afd-b345-6827cb2a149e');\n",
       "        const dataTable =\n",
       "          await google.colab.kernel.invokeFunction('convertToInteractive',\n",
       "                                                    [key], {});\n",
       "        if (!dataTable) return;\n",
       "\n",
       "        const docLinkHtml = 'Like what you see? Visit the ' +\n",
       "          '<a target=\"_blank\" href=https://colab.research.google.com/notebooks/data_table.ipynb>data table notebook</a>'\n",
       "          + ' to learn more about interactive tables.';\n",
       "        element.innerHTML = '';\n",
       "        dataTable['output_type'] = 'display_data';\n",
       "        await google.colab.output.renderOutput(dataTable, element);\n",
       "        const docLink = document.createElement('div');\n",
       "        docLink.innerHTML = docLinkHtml;\n",
       "        element.appendChild(docLink);\n",
       "      }\n",
       "    </script>\n",
       "  </div>\n",
       "  \n",
       "    </div>\n",
       "  </div>\n",
       "  "
      ],
      "text/plain": [
       "       total_images  last_price  total_area first_day_exposition  rooms  \\\n",
       "6029              7   4200000.0       42.00           2017-12-05      2   \n",
       "21836             7   3950000.0       45.00           2015-06-10      2   \n",
       "5698              7    450000.0       42.00           2017-07-31      2   \n",
       "9402             11   4900000.0       55.00           2017-06-19      2   \n",
       "2519              6   3511000.0       39.41           2018-08-07      1   \n",
       "\n",
       "       ceiling_height  floors_total  living_area  floor is_apartment  ...  \\\n",
       "6029             2.58           5.0         28.5      5          NaN  ...   \n",
       "21836             NaN           9.0         28.0      7          NaN  ...   \n",
       "5698              NaN           1.0         23.0      1          NaN  ...   \n",
       "9402              NaN          14.0         32.0     14          NaN  ...   \n",
       "2519             2.65          27.0          NaN     12          NaN  ...   \n",
       "\n",
       "      kitchen_area balcony               locality_name  airports_nearest  \\\n",
       "6029          5.00     NaN             Санкт-Петербург           36416.0   \n",
       "21836         7.00     0.0             Санкт-Петербург           27880.0   \n",
       "5698          5.80     NaN  городской посёлок Будогощь               NaN   \n",
       "9402          8.50     2.0             Санкт-Петербург           39931.0   \n",
       "2519         11.28     1.0              посёлок Мурино               NaN   \n",
       "\n",
       "      city_centers_nearest  parks_around3000  parks_nearest  ponds_around3000  \\\n",
       "6029                9534.0               2.0          446.0               3.0   \n",
       "21836              12138.0               1.0          638.0               1.0   \n",
       "5698                   NaN               NaN            NaN               NaN   \n",
       "9402               12834.0               0.0            NaN               0.0   \n",
       "2519                   NaN               NaN            NaN               NaN   \n",
       "\n",
       "       ponds_nearest  days_exposition  \n",
       "6029           459.0             18.0  \n",
       "21836          593.0            437.0  \n",
       "5698             NaN            233.0  \n",
       "9402             NaN             15.0  \n",
       "2519             NaN             60.0  \n",
       "\n",
       "[5 rows x 22 columns]"
      ]
     },
     "execution_count": 2,
     "metadata": {},
     "output_type": "execute_result"
    }
   ],
   "source": [
    "dtype = {'is_apartment': 'category', 'studio': 'category', 'open_plan': 'category'}\n",
    "df = pd.read_csv('https://code.s3.yandex.net/datasets/real_estate_data.csv', dtype=dtype, sep='\\t'\n",
    "                , parse_dates=['first_day_exposition'], date_format='%Y-%m-%dT%H:%M:%S')\n",
    "df.rename(columns={'cityCenters_nearest': 'city_centers_nearest'}, inplace=True)\n",
    "df.sample(5, random_state=7)"
   ]
  },
  {
   "cell_type": "markdown",
   "metadata": {
    "id": "Po0h43KRrRQV"
   },
   "source": [
    "Изучим каждую колонку отдельно"
   ]
  },
  {
   "cell_type": "code",
   "execution_count": 364,
   "metadata": {
    "id": "K49UBEV_rRQY",
    "outputId": "df49dbe7-b3cb-45da-f13e-5ece787e7ce4"
   },
   "outputs": [
    {
     "data": {
      "text/html": [
       "<style type=\"text/css\">\n",
       "#T_5b249 caption {\n",
       "  font-size: 18px;\n",
       "  text-align: left;\n",
       "  font-weight: bold;\n",
       "}\n",
       "#T_5b249_row0_col0, #T_5b249_row0_col1, #T_5b249_row0_col2, #T_5b249_row0_col3, #T_5b249_row0_col4 {\n",
       "  text-align: left;\n",
       "}\n",
       "</style>\n",
       "<table id=\"T_5b249\" class=\"dataframe\">\n",
       "  <caption>DataFrame</caption>\n",
       "  <thead>\n",
       "    <tr>\n",
       "      <th id=\"T_5b249_level0_col0\" class=\"col_heading level0 col0\" >Rows</th>\n",
       "      <th id=\"T_5b249_level0_col1\" class=\"col_heading level0 col1\" >Features</th>\n",
       "      <th id=\"T_5b249_level0_col2\" class=\"col_heading level0 col2\" >RAM (Mb)</th>\n",
       "      <th id=\"T_5b249_level0_col3\" class=\"col_heading level0 col3\" >Duplicates</th>\n",
       "      <th id=\"T_5b249_level0_col4\" class=\"col_heading level0 col4\" >Dupl (sub - origin)</th>\n",
       "    </tr>\n",
       "  </thead>\n",
       "  <tbody>\n",
       "    <tr>\n",
       "      <td id=\"T_5b249_row0_col0\" class=\"data row0 col0\" >23 699</td>\n",
       "      <td id=\"T_5b249_row0_col1\" class=\"data row0 col1\" >22</td>\n",
       "      <td id=\"T_5b249_row0_col2\" class=\"data row0 col2\" >6</td>\n",
       "      <td id=\"T_5b249_row0_col3\" class=\"data row0 col3\" >---</td>\n",
       "      <td id=\"T_5b249_row0_col4\" class=\"data row0 col4\" >---</td>\n",
       "    </tr>\n",
       "  </tbody>\n",
       "</table>\n"
      ],
      "text/plain": [
       "<pandas.io.formats.style.Styler at 0x7fe6de46f340>"
      ]
     },
     "execution_count": 364,
     "metadata": {},
     "output_type": "execute_result"
    }
   ],
   "source": [
    "gen = pagri_data_tools.my_info_gen(df)\n",
    "next(gen)"
   ]
  },
  {
   "cell_type": "markdown",
   "metadata": {
    "id": "p02xR_u8rRQZ"
   },
   "source": [
    "**Наблюдения:**\n",
    "- Полных дубликатов в датафрейме нет"
   ]
  },
  {
   "cell_type": "code",
   "execution_count": 365,
   "metadata": {
    "id": "MnUco9corRQb"
   },
   "outputs": [
    {
     "data": {
      "text/html": [
       "\n",
       "        <div style=\"display: flex; justify-content: flex-start; align-items: flex-end;\">\n",
       "            <style type=\"text/css\">\n",
       "#T_91333 caption {\n",
       "  font-size: 16px;\n",
       "  text-align: left;\n",
       "  font-weight: bold;\n",
       "}\n",
       "#T_91333_row0_col0, #T_91333_row0_col1, #T_91333_row0_col2, #T_91333_row0_col3, #T_91333_row0_col4, #T_91333_row0_col5, #T_91333_row0_col6, #T_91333_row0_col7, #T_91333_row0_col8, #T_91333_row1_col0, #T_91333_row1_col1, #T_91333_row1_col2, #T_91333_row1_col3, #T_91333_row1_col4, #T_91333_row1_col5, #T_91333_row1_col6, #T_91333_row1_col7, #T_91333_row1_col8, #T_91333_row2_col0, #T_91333_row2_col1, #T_91333_row2_col2, #T_91333_row2_col3, #T_91333_row2_col4, #T_91333_row2_col5, #T_91333_row2_col6, #T_91333_row2_col7, #T_91333_row2_col8, #T_91333_row3_col0, #T_91333_row3_col1, #T_91333_row3_col2, #T_91333_row3_col3, #T_91333_row3_col4, #T_91333_row3_col5, #T_91333_row3_col6, #T_91333_row3_col7, #T_91333_row3_col8 {\n",
       "  text-align: left;\n",
       "}\n",
       "</style>\n",
       "<table id=\"T_91333\">\n",
       "  <caption>first_day_exposition</caption>\n",
       "  <thead>\n",
       "  </thead>\n",
       "  <tbody>\n",
       "    <tr>\n",
       "      <td id=\"T_91333_row0_col0\" class=\"data row0 col0\" >First date</td>\n",
       "      <td id=\"T_91333_row0_col1\" class=\"data row0 col1\" >2014-11-27 00:00:00</td>\n",
       "      <td id=\"T_91333_row0_col2\" class=\"data row0 col2\" >                              </td>\n",
       "      <td id=\"T_91333_row0_col3\" class=\"data row0 col3\" >Zeros</td>\n",
       "      <td id=\"T_91333_row0_col4\" class=\"data row0 col4\" >---</td>\n",
       "      <td id=\"T_91333_row0_col5\" class=\"data row0 col5\" >                              </td>\n",
       "      <td id=\"T_91333_row0_col6\" class=\"data row0 col6\" >Years missing</td>\n",
       "      <td id=\"T_91333_row0_col7\" class=\"data row0 col7\" >0%</td>\n",
       "      <td id=\"T_91333_row0_col8\" class=\"data row0 col8\" >                              </td>\n",
       "    </tr>\n",
       "    <tr>\n",
       "      <td id=\"T_91333_row1_col0\" class=\"data row1 col0\" >Last date</td>\n",
       "      <td id=\"T_91333_row1_col1\" class=\"data row1 col1\" >2019-05-03 00:00:00</td>\n",
       "      <td id=\"T_91333_row1_col2\" class=\"data row1 col2\" >                              </td>\n",
       "      <td id=\"T_91333_row1_col3\" class=\"data row1 col3\" >Missing</td>\n",
       "      <td id=\"T_91333_row1_col4\" class=\"data row1 col4\" >---</td>\n",
       "      <td id=\"T_91333_row1_col5\" class=\"data row1 col5\" >                              </td>\n",
       "      <td id=\"T_91333_row1_col6\" class=\"data row1 col6\" >Months missing</td>\n",
       "      <td id=\"T_91333_row1_col7\" class=\"data row1 col7\" >0%</td>\n",
       "      <td id=\"T_91333_row1_col8\" class=\"data row1 col8\" >                              </td>\n",
       "    </tr>\n",
       "    <tr>\n",
       "      <td id=\"T_91333_row2_col0\" class=\"data row2 col0\" >Values</td>\n",
       "      <td id=\"T_91333_row2_col1\" class=\"data row2 col1\" >23 699 (100%)</td>\n",
       "      <td id=\"T_91333_row2_col2\" class=\"data row2 col2\" >                              </td>\n",
       "      <td id=\"T_91333_row2_col3\" class=\"data row2 col3\" >Distinct</td>\n",
       "      <td id=\"T_91333_row2_col4\" class=\"data row2 col4\" >1 491 (6%)</td>\n",
       "      <td id=\"T_91333_row2_col5\" class=\"data row2 col5\" >                              </td>\n",
       "      <td id=\"T_91333_row2_col6\" class=\"data row2 col6\" >Weeks missing</td>\n",
       "      <td id=\"T_91333_row2_col7\" class=\"data row2 col7\" >0%</td>\n",
       "      <td id=\"T_91333_row2_col8\" class=\"data row2 col8\" >                              </td>\n",
       "    </tr>\n",
       "    <tr>\n",
       "      <td id=\"T_91333_row3_col0\" class=\"data row3 col0\" >RAM (Mb)</td>\n",
       "      <td id=\"T_91333_row3_col1\" class=\"data row3 col1\" ><1 Mb</td>\n",
       "      <td id=\"T_91333_row3_col2\" class=\"data row3 col2\" >                              </td>\n",
       "      <td id=\"T_91333_row3_col3\" class=\"data row3 col3\" >Duplicates</td>\n",
       "      <td id=\"T_91333_row3_col4\" class=\"data row3 col4\" >22 208 (94%)</td>\n",
       "      <td id=\"T_91333_row3_col5\" class=\"data row3 col5\" >                              </td>\n",
       "      <td id=\"T_91333_row3_col6\" class=\"data row3 col6\" >Days missing</td>\n",
       "      <td id=\"T_91333_row3_col7\" class=\"data row3 col7\" >8%</td>\n",
       "      <td id=\"T_91333_row3_col8\" class=\"data row3 col8\" >                              </td>\n",
       "    </tr>\n",
       "  </tbody>\n",
       "</table>\n",
       "\n",
       "        </div>\n",
       "        "
      ],
      "text/plain": [
       "<IPython.core.display.HTML object>"
      ]
     },
     "metadata": {},
     "output_type": "display_data"
    }
   ],
   "source": [
    "next(gen)"
   ]
  },
  {
   "cell_type": "markdown",
   "metadata": {},
   "source": [
    "**Наблюдения:**\n",
    "- В колонке с датой пропущенных значений нет.\n",
    "- Нет пропущенных годов и месяцев.\n",
    "- 8 процентов дней пропущено"
   ]
  },
  {
   "cell_type": "code",
   "execution_count": 366,
   "metadata": {},
   "outputs": [
    {
     "data": {
      "text/html": [
       "\n",
       "        <div style=\"display: flex; justify-content: flex-start; align-items: flex-end;\">\n",
       "            <style type=\"text/css\">\n",
       "#T_faf41 caption {\n",
       "  font-size: 16px;\n",
       "  text-align: left;\n",
       "  font-weight: bold;\n",
       "}\n",
       "#T_faf41_row0_col0, #T_faf41_row0_col1, #T_faf41_row0_col2, #T_faf41_row0_col3, #T_faf41_row0_col4, #T_faf41_row0_col5, #T_faf41_row0_col6, #T_faf41_row0_col7, #T_faf41_row0_col8, #T_faf41_row0_col9, #T_faf41_row1_col0, #T_faf41_row1_col1, #T_faf41_row1_col2, #T_faf41_row1_col3, #T_faf41_row1_col4, #T_faf41_row1_col5, #T_faf41_row1_col6, #T_faf41_row1_col7, #T_faf41_row1_col8, #T_faf41_row1_col9, #T_faf41_row2_col0, #T_faf41_row2_col1, #T_faf41_row2_col2, #T_faf41_row2_col3, #T_faf41_row2_col4, #T_faf41_row2_col5, #T_faf41_row2_col6, #T_faf41_row2_col7, #T_faf41_row2_col8, #T_faf41_row2_col9, #T_faf41_row3_col0, #T_faf41_row3_col1, #T_faf41_row3_col2, #T_faf41_row3_col3, #T_faf41_row3_col4, #T_faf41_row3_col5, #T_faf41_row3_col6, #T_faf41_row3_col7, #T_faf41_row3_col8, #T_faf41_row3_col9, #T_faf41_row4_col0, #T_faf41_row4_col1, #T_faf41_row4_col2, #T_faf41_row4_col3, #T_faf41_row4_col4, #T_faf41_row4_col5, #T_faf41_row4_col6, #T_faf41_row4_col7, #T_faf41_row4_col8, #T_faf41_row4_col9, #T_faf41_row5_col0, #T_faf41_row5_col1, #T_faf41_row5_col2, #T_faf41_row5_col3, #T_faf41_row5_col4, #T_faf41_row5_col5, #T_faf41_row5_col6, #T_faf41_row5_col7, #T_faf41_row5_col8, #T_faf41_row5_col9, #T_faf41_row6_col0, #T_faf41_row6_col1, #T_faf41_row6_col2, #T_faf41_row6_col3, #T_faf41_row6_col4, #T_faf41_row6_col5, #T_faf41_row6_col6, #T_faf41_row6_col7, #T_faf41_row6_col8, #T_faf41_row6_col9 {\n",
       "  text-align: left;\n",
       "}\n",
       "</style>\n",
       "<table id=\"T_faf41\">\n",
       "  <caption>total_images</caption>\n",
       "  <thead>\n",
       "  </thead>\n",
       "  <tbody>\n",
       "    <tr>\n",
       "      <td id=\"T_faf41_row0_col0\" class=\"data row0 col0\" >Values</td>\n",
       "      <td id=\"T_faf41_row0_col1\" class=\"data row0 col1\" >23 699 (100%)</td>\n",
       "      <td id=\"T_faf41_row0_col2\" class=\"data row0 col2\" >                              </td>\n",
       "      <td id=\"T_faf41_row0_col3\" class=\"data row0 col3\" >Max</td>\n",
       "      <td id=\"T_faf41_row0_col4\" class=\"data row0 col4\" >50</td>\n",
       "      <td id=\"T_faf41_row0_col5\" class=\"data row0 col5\" >                              </td>\n",
       "      <td id=\"T_faf41_row0_col6\" class=\"data row0 col6\" >Avg</td>\n",
       "      <td id=\"T_faf41_row0_col7\" class=\"data row0 col7\" >9.86</td>\n",
       "      <td id=\"T_faf41_row0_col8\" class=\"data row0 col8\" >                              </td>\n",
       "      <td id=\"T_faf41_row0_col9\" class=\"data row0 col9\" >10 (8%)</td>\n",
       "    </tr>\n",
       "    <tr>\n",
       "      <td id=\"T_faf41_row1_col0\" class=\"data row1 col0\" >Missing</td>\n",
       "      <td id=\"T_faf41_row1_col1\" class=\"data row1 col1\" >---</td>\n",
       "      <td id=\"T_faf41_row1_col2\" class=\"data row1 col2\" >                              </td>\n",
       "      <td id=\"T_faf41_row1_col3\" class=\"data row1 col3\" >95%</td>\n",
       "      <td id=\"T_faf41_row1_col4\" class=\"data row1 col4\" >20</td>\n",
       "      <td id=\"T_faf41_row1_col5\" class=\"data row1 col5\" >                              </td>\n",
       "      <td id=\"T_faf41_row1_col6\" class=\"data row1 col6\" >Mode</td>\n",
       "      <td id=\"T_faf41_row1_col7\" class=\"data row1 col7\" >10</td>\n",
       "      <td id=\"T_faf41_row1_col8\" class=\"data row1 col8\" >                              </td>\n",
       "      <td id=\"T_faf41_row1_col9\" class=\"data row1 col9\" >9 (7%)</td>\n",
       "    </tr>\n",
       "    <tr>\n",
       "      <td id=\"T_faf41_row2_col0\" class=\"data row2 col0\" >Distinct</td>\n",
       "      <td id=\"T_faf41_row2_col1\" class=\"data row2 col1\" >38 (<1%)</td>\n",
       "      <td id=\"T_faf41_row2_col2\" class=\"data row2 col2\" >                              </td>\n",
       "      <td id=\"T_faf41_row2_col3\" class=\"data row2 col3\" >75%</td>\n",
       "      <td id=\"T_faf41_row2_col4\" class=\"data row2 col4\" >14</td>\n",
       "      <td id=\"T_faf41_row2_col5\" class=\"data row2 col5\" >                              </td>\n",
       "      <td id=\"T_faf41_row2_col6\" class=\"data row2 col6\" >Range</td>\n",
       "      <td id=\"T_faf41_row2_col7\" class=\"data row2 col7\" >50</td>\n",
       "      <td id=\"T_faf41_row2_col8\" class=\"data row2 col8\" >                              </td>\n",
       "      <td id=\"T_faf41_row2_col9\" class=\"data row2 col9\" >20 (7%)</td>\n",
       "    </tr>\n",
       "    <tr>\n",
       "      <td id=\"T_faf41_row3_col0\" class=\"data row3 col0\" >Duplicates</td>\n",
       "      <td id=\"T_faf41_row3_col1\" class=\"data row3 col1\" >23 661 (99.8%)</td>\n",
       "      <td id=\"T_faf41_row3_col2\" class=\"data row3 col2\" >                              </td>\n",
       "      <td id=\"T_faf41_row3_col3\" class=\"data row3 col3\" >Median</td>\n",
       "      <td id=\"T_faf41_row3_col4\" class=\"data row3 col4\" >9</td>\n",
       "      <td id=\"T_faf41_row3_col5\" class=\"data row3 col5\" >                              </td>\n",
       "      <td id=\"T_faf41_row3_col6\" class=\"data row3 col6\" >iQR</td>\n",
       "      <td id=\"T_faf41_row3_col7\" class=\"data row3 col7\" >8</td>\n",
       "      <td id=\"T_faf41_row3_col8\" class=\"data row3 col8\" >                              </td>\n",
       "      <td id=\"T_faf41_row3_col9\" class=\"data row3 col9\" >8 (7%)</td>\n",
       "    </tr>\n",
       "    <tr>\n",
       "      <td id=\"T_faf41_row4_col0\" class=\"data row4 col0\" >Zeros</td>\n",
       "      <td id=\"T_faf41_row4_col1\" class=\"data row4 col1\" >1 059 (4%)</td>\n",
       "      <td id=\"T_faf41_row4_col2\" class=\"data row4 col2\" >                              </td>\n",
       "      <td id=\"T_faf41_row4_col3\" class=\"data row4 col3\" >25%</td>\n",
       "      <td id=\"T_faf41_row4_col4\" class=\"data row4 col4\" >6</td>\n",
       "      <td id=\"T_faf41_row4_col5\" class=\"data row4 col5\" >                              </td>\n",
       "      <td id=\"T_faf41_row4_col6\" class=\"data row4 col6\" >std</td>\n",
       "      <td id=\"T_faf41_row4_col7\" class=\"data row4 col7\" >5.68</td>\n",
       "      <td id=\"T_faf41_row4_col8\" class=\"data row4 col8\" >                              </td>\n",
       "      <td id=\"T_faf41_row4_col9\" class=\"data row4 col9\" >7 (6%)</td>\n",
       "    </tr>\n",
       "    <tr>\n",
       "      <td id=\"T_faf41_row5_col0\" class=\"data row5 col0\" >Negative</td>\n",
       "      <td id=\"T_faf41_row5_col1\" class=\"data row5 col1\" >---</td>\n",
       "      <td id=\"T_faf41_row5_col2\" class=\"data row5 col2\" >                              </td>\n",
       "      <td id=\"T_faf41_row5_col3\" class=\"data row5 col3\" >5%</td>\n",
       "      <td id=\"T_faf41_row5_col4\" class=\"data row5 col4\" >1</td>\n",
       "      <td id=\"T_faf41_row5_col5\" class=\"data row5 col5\" >                              </td>\n",
       "      <td id=\"T_faf41_row5_col6\" class=\"data row5 col6\" >kurt</td>\n",
       "      <td id=\"T_faf41_row5_col7\" class=\"data row5 col7\" >-0.34</td>\n",
       "      <td id=\"T_faf41_row5_col8\" class=\"data row5 col8\" >                              </td>\n",
       "      <td id=\"T_faf41_row5_col9\" class=\"data row5 col9\" >6 (6%)</td>\n",
       "    </tr>\n",
       "    <tr>\n",
       "      <td id=\"T_faf41_row6_col0\" class=\"data row6 col0\" >RAM (Mb)</td>\n",
       "      <td id=\"T_faf41_row6_col1\" class=\"data row6 col1\" ><1 Mb</td>\n",
       "      <td id=\"T_faf41_row6_col2\" class=\"data row6 col2\" >                              </td>\n",
       "      <td id=\"T_faf41_row6_col3\" class=\"data row6 col3\" >Min</td>\n",
       "      <td id=\"T_faf41_row6_col4\" class=\"data row6 col4\" >0</td>\n",
       "      <td id=\"T_faf41_row6_col5\" class=\"data row6 col5\" >                              </td>\n",
       "      <td id=\"T_faf41_row6_col6\" class=\"data row6 col6\" >skew</td>\n",
       "      <td id=\"T_faf41_row6_col7\" class=\"data row6 col7\" >0.26</td>\n",
       "      <td id=\"T_faf41_row6_col8\" class=\"data row6 col8\" >                              </td>\n",
       "      <td id=\"T_faf41_row6_col9\" class=\"data row6 col9\" >11 (6%)</td>\n",
       "    </tr>\n",
       "  </tbody>\n",
       "</table>\n",
       "\n",
       "            <div>\n",
       "                <img src=\"data:image/png;base64,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\" alt=\"График\"/>\n",
       "            </div>\n",
       "        </div>\n",
       "        "
      ],
      "text/plain": [
       "<IPython.core.display.HTML object>"
      ]
     },
     "metadata": {},
     "output_type": "display_data"
    }
   ],
   "source": [
    "next(gen)"
   ]
  },
  {
   "cell_type": "markdown",
   "metadata": {},
   "source": [
    "**Наблюдения:**\n",
    "- В колонке с количеством фотографий пропусков нет\n",
    "- 4 процента записей с нулями, это нормально, поскольку у части объявлений нет изображений.\n",
    "- Максимальное количество фотографиий 50. Это многовато, нужно будет это проверить.\n",
    "- Медианное значение 9, похоже на правду.\n",
    "- 7 процентов записей имеют 20 фотографий. "
   ]
  },
  {
   "cell_type": "code",
   "execution_count": 367,
   "metadata": {},
   "outputs": [
    {
     "data": {
      "text/html": [
       "\n",
       "        <div style=\"display: flex; justify-content: flex-start; align-items: flex-end;\">\n",
       "            <style type=\"text/css\">\n",
       "#T_155c6 caption {\n",
       "  font-size: 16px;\n",
       "  text-align: left;\n",
       "  font-weight: bold;\n",
       "}\n",
       "#T_155c6_row0_col0, #T_155c6_row0_col1, #T_155c6_row0_col2, #T_155c6_row0_col3, #T_155c6_row0_col4, #T_155c6_row0_col5, #T_155c6_row0_col6, #T_155c6_row0_col7, #T_155c6_row0_col8, #T_155c6_row0_col9, #T_155c6_row1_col0, #T_155c6_row1_col1, #T_155c6_row1_col2, #T_155c6_row1_col3, #T_155c6_row1_col4, #T_155c6_row1_col5, #T_155c6_row1_col6, #T_155c6_row1_col7, #T_155c6_row1_col8, #T_155c6_row1_col9, #T_155c6_row2_col0, #T_155c6_row2_col1, #T_155c6_row2_col2, #T_155c6_row2_col3, #T_155c6_row2_col4, #T_155c6_row2_col5, #T_155c6_row2_col6, #T_155c6_row2_col7, #T_155c6_row2_col8, #T_155c6_row2_col9, #T_155c6_row3_col0, #T_155c6_row3_col1, #T_155c6_row3_col2, #T_155c6_row3_col3, #T_155c6_row3_col4, #T_155c6_row3_col5, #T_155c6_row3_col6, #T_155c6_row3_col7, #T_155c6_row3_col8, #T_155c6_row3_col9, #T_155c6_row4_col0, #T_155c6_row4_col1, #T_155c6_row4_col2, #T_155c6_row4_col3, #T_155c6_row4_col4, #T_155c6_row4_col5, #T_155c6_row4_col6, #T_155c6_row4_col7, #T_155c6_row4_col8, #T_155c6_row4_col9, #T_155c6_row5_col0, #T_155c6_row5_col1, #T_155c6_row5_col2, #T_155c6_row5_col3, #T_155c6_row5_col4, #T_155c6_row5_col5, #T_155c6_row5_col6, #T_155c6_row5_col7, #T_155c6_row5_col8, #T_155c6_row5_col9, #T_155c6_row6_col0, #T_155c6_row6_col1, #T_155c6_row6_col2, #T_155c6_row6_col3, #T_155c6_row6_col4, #T_155c6_row6_col5, #T_155c6_row6_col6, #T_155c6_row6_col7, #T_155c6_row6_col8, #T_155c6_row6_col9 {\n",
       "  text-align: left;\n",
       "}\n",
       "</style>\n",
       "<table id=\"T_155c6\">\n",
       "  <caption>last_price</caption>\n",
       "  <thead>\n",
       "  </thead>\n",
       "  <tbody>\n",
       "    <tr>\n",
       "      <td id=\"T_155c6_row0_col0\" class=\"data row0 col0\" >Values</td>\n",
       "      <td id=\"T_155c6_row0_col1\" class=\"data row0 col1\" >23 699 (100%)</td>\n",
       "      <td id=\"T_155c6_row0_col2\" class=\"data row0 col2\" >                              </td>\n",
       "      <td id=\"T_155c6_row0_col3\" class=\"data row0 col3\" >Max</td>\n",
       "      <td id=\"T_155c6_row0_col4\" class=\"data row0 col4\" >763 000 000</td>\n",
       "      <td id=\"T_155c6_row0_col5\" class=\"data row0 col5\" >                              </td>\n",
       "      <td id=\"T_155c6_row0_col6\" class=\"data row0 col6\" >Avg</td>\n",
       "      <td id=\"T_155c6_row0_col7\" class=\"data row0 col7\" >6 541 548.77</td>\n",
       "      <td id=\"T_155c6_row0_col8\" class=\"data row0 col8\" >                              </td>\n",
       "      <td id=\"T_155c6_row0_col9\" class=\"data row0 col9\" >4 500 000 (1%)</td>\n",
       "    </tr>\n",
       "    <tr>\n",
       "      <td id=\"T_155c6_row1_col0\" class=\"data row1 col0\" >Missing</td>\n",
       "      <td id=\"T_155c6_row1_col1\" class=\"data row1 col1\" >---</td>\n",
       "      <td id=\"T_155c6_row1_col2\" class=\"data row1 col2\" >                              </td>\n",
       "      <td id=\"T_155c6_row1_col3\" class=\"data row1 col3\" >95%</td>\n",
       "      <td id=\"T_155c6_row1_col4\" class=\"data row1 col4\" >15 300 000</td>\n",
       "      <td id=\"T_155c6_row1_col5\" class=\"data row1 col5\" >                              </td>\n",
       "      <td id=\"T_155c6_row1_col6\" class=\"data row1 col6\" >Mode</td>\n",
       "      <td id=\"T_155c6_row1_col7\" class=\"data row1 col7\" >4 500 000</td>\n",
       "      <td id=\"T_155c6_row1_col8\" class=\"data row1 col8\" >                              </td>\n",
       "      <td id=\"T_155c6_row1_col9\" class=\"data row1 col9\" >3 500 000 (1%)</td>\n",
       "    </tr>\n",
       "    <tr>\n",
       "      <td id=\"T_155c6_row2_col0\" class=\"data row2 col0\" >Distinct</td>\n",
       "      <td id=\"T_155c6_row2_col1\" class=\"data row2 col1\" >2 978 (13%)</td>\n",
       "      <td id=\"T_155c6_row2_col2\" class=\"data row2 col2\" >                              </td>\n",
       "      <td id=\"T_155c6_row2_col3\" class=\"data row2 col3\" >75%</td>\n",
       "      <td id=\"T_155c6_row2_col4\" class=\"data row2 col4\" >6 800 000</td>\n",
       "      <td id=\"T_155c6_row2_col5\" class=\"data row2 col5\" >                              </td>\n",
       "      <td id=\"T_155c6_row2_col6\" class=\"data row2 col6\" >Range</td>\n",
       "      <td id=\"T_155c6_row2_col7\" class=\"data row2 col7\" >762 987 810</td>\n",
       "      <td id=\"T_155c6_row2_col8\" class=\"data row2 col8\" >                              </td>\n",
       "      <td id=\"T_155c6_row2_col9\" class=\"data row2 col9\" >4 300 000 (1%)</td>\n",
       "    </tr>\n",
       "    <tr>\n",
       "      <td id=\"T_155c6_row3_col0\" class=\"data row3 col0\" >Duplicates</td>\n",
       "      <td id=\"T_155c6_row3_col1\" class=\"data row3 col1\" >20 721 (87%)</td>\n",
       "      <td id=\"T_155c6_row3_col2\" class=\"data row3 col2\" >                              </td>\n",
       "      <td id=\"T_155c6_row3_col3\" class=\"data row3 col3\" >Median</td>\n",
       "      <td id=\"T_155c6_row3_col4\" class=\"data row3 col4\" >4 650 000</td>\n",
       "      <td id=\"T_155c6_row3_col5\" class=\"data row3 col5\" >                              </td>\n",
       "      <td id=\"T_155c6_row3_col6\" class=\"data row3 col6\" >iQR</td>\n",
       "      <td id=\"T_155c6_row3_col7\" class=\"data row3 col7\" >3 400 000</td>\n",
       "      <td id=\"T_155c6_row3_col8\" class=\"data row3 col8\" >                              </td>\n",
       "      <td id=\"T_155c6_row3_col9\" class=\"data row3 col9\" >4 000 000 (1%)</td>\n",
       "    </tr>\n",
       "    <tr>\n",
       "      <td id=\"T_155c6_row4_col0\" class=\"data row4 col0\" >Zeros</td>\n",
       "      <td id=\"T_155c6_row4_col1\" class=\"data row4 col1\" >---</td>\n",
       "      <td id=\"T_155c6_row4_col2\" class=\"data row4 col2\" >                              </td>\n",
       "      <td id=\"T_155c6_row4_col3\" class=\"data row4 col3\" >25%</td>\n",
       "      <td id=\"T_155c6_row4_col4\" class=\"data row4 col4\" >3 400 000</td>\n",
       "      <td id=\"T_155c6_row4_col5\" class=\"data row4 col5\" >                              </td>\n",
       "      <td id=\"T_155c6_row4_col6\" class=\"data row4 col6\" >std</td>\n",
       "      <td id=\"T_155c6_row4_col7\" class=\"data row4 col7\" >10 887 013.27</td>\n",
       "      <td id=\"T_155c6_row4_col8\" class=\"data row4 col8\" >                              </td>\n",
       "      <td id=\"T_155c6_row4_col9\" class=\"data row4 col9\" >4 200 000 (1%)</td>\n",
       "    </tr>\n",
       "    <tr>\n",
       "      <td id=\"T_155c6_row5_col0\" class=\"data row5 col0\" >Negative</td>\n",
       "      <td id=\"T_155c6_row5_col1\" class=\"data row5 col1\" >---</td>\n",
       "      <td id=\"T_155c6_row5_col2\" class=\"data row5 col2\" >                              </td>\n",
       "      <td id=\"T_155c6_row5_col3\" class=\"data row5 col3\" >5%</td>\n",
       "      <td id=\"T_155c6_row5_col4\" class=\"data row5 col4\" >1 870 000</td>\n",
       "      <td id=\"T_155c6_row5_col5\" class=\"data row5 col5\" >                              </td>\n",
       "      <td id=\"T_155c6_row5_col6\" class=\"data row5 col6\" >kurt</td>\n",
       "      <td id=\"T_155c6_row5_col7\" class=\"data row5 col7\" >1277.68</td>\n",
       "      <td id=\"T_155c6_row5_col8\" class=\"data row5 col8\" >                              </td>\n",
       "      <td id=\"T_155c6_row5_col9\" class=\"data row5 col9\" >3 600 000 (1%)</td>\n",
       "    </tr>\n",
       "    <tr>\n",
       "      <td id=\"T_155c6_row6_col0\" class=\"data row6 col0\" >RAM (Mb)</td>\n",
       "      <td id=\"T_155c6_row6_col1\" class=\"data row6 col1\" ><1 Mb</td>\n",
       "      <td id=\"T_155c6_row6_col2\" class=\"data row6 col2\" >                              </td>\n",
       "      <td id=\"T_155c6_row6_col3\" class=\"data row6 col3\" >Min</td>\n",
       "      <td id=\"T_155c6_row6_col4\" class=\"data row6 col4\" >12 190</td>\n",
       "      <td id=\"T_155c6_row6_col5\" class=\"data row6 col5\" >                              </td>\n",
       "      <td id=\"T_155c6_row6_col6\" class=\"data row6 col6\" >skew</td>\n",
       "      <td id=\"T_155c6_row6_col7\" class=\"data row6 col7\" >25.80</td>\n",
       "      <td id=\"T_155c6_row6_col8\" class=\"data row6 col8\" >                              </td>\n",
       "      <td id=\"T_155c6_row6_col9\" class=\"data row6 col9\" >3 300 000 (1%)</td>\n",
       "    </tr>\n",
       "  </tbody>\n",
       "</table>\n",
       "\n",
       "            <div>\n",
       "                <img src=\"data:image/png;base64,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\" alt=\"График\"/>\n",
       "            </div>\n",
       "        </div>\n",
       "        "
      ],
      "text/plain": [
       "<IPython.core.display.HTML object>"
      ]
     },
     "metadata": {},
     "output_type": "display_data"
    }
   ],
   "source": [
    "next(gen)"
   ]
  },
  {
   "cell_type": "markdown",
   "metadata": {},
   "source": [
    "**Наблюдения:**\n",
    "- В цене есть выбросы.\n",
    "- Минимальное занчение 12 190 и максимальное значение 763 млн выглядят подозрительно."
   ]
  },
  {
   "cell_type": "code",
   "execution_count": 368,
   "metadata": {},
   "outputs": [
    {
     "data": {
      "text/html": [
       "\n",
       "        <div style=\"display: flex; justify-content: flex-start; align-items: flex-end;\">\n",
       "            <style type=\"text/css\">\n",
       "#T_3b9d2 caption {\n",
       "  font-size: 16px;\n",
       "  text-align: left;\n",
       "  font-weight: bold;\n",
       "}\n",
       "#T_3b9d2_row0_col0, #T_3b9d2_row0_col1, #T_3b9d2_row0_col2, #T_3b9d2_row0_col3, #T_3b9d2_row0_col4, #T_3b9d2_row0_col5, #T_3b9d2_row0_col6, #T_3b9d2_row0_col7, #T_3b9d2_row0_col8, #T_3b9d2_row0_col9, #T_3b9d2_row1_col0, #T_3b9d2_row1_col1, #T_3b9d2_row1_col2, #T_3b9d2_row1_col3, #T_3b9d2_row1_col4, #T_3b9d2_row1_col5, #T_3b9d2_row1_col6, #T_3b9d2_row1_col7, #T_3b9d2_row1_col8, #T_3b9d2_row1_col9, #T_3b9d2_row2_col0, #T_3b9d2_row2_col1, #T_3b9d2_row2_col2, #T_3b9d2_row2_col3, #T_3b9d2_row2_col4, #T_3b9d2_row2_col5, #T_3b9d2_row2_col6, #T_3b9d2_row2_col7, #T_3b9d2_row2_col8, #T_3b9d2_row2_col9, #T_3b9d2_row3_col0, #T_3b9d2_row3_col1, #T_3b9d2_row3_col2, #T_3b9d2_row3_col3, #T_3b9d2_row3_col4, #T_3b9d2_row3_col5, #T_3b9d2_row3_col6, #T_3b9d2_row3_col7, #T_3b9d2_row3_col8, #T_3b9d2_row3_col9, #T_3b9d2_row4_col0, #T_3b9d2_row4_col1, #T_3b9d2_row4_col2, #T_3b9d2_row4_col3, #T_3b9d2_row4_col4, #T_3b9d2_row4_col5, #T_3b9d2_row4_col6, #T_3b9d2_row4_col7, #T_3b9d2_row4_col8, #T_3b9d2_row4_col9, #T_3b9d2_row5_col0, #T_3b9d2_row5_col1, #T_3b9d2_row5_col2, #T_3b9d2_row5_col3, #T_3b9d2_row5_col4, #T_3b9d2_row5_col5, #T_3b9d2_row5_col6, #T_3b9d2_row5_col7, #T_3b9d2_row5_col8, #T_3b9d2_row5_col9, #T_3b9d2_row6_col0, #T_3b9d2_row6_col1, #T_3b9d2_row6_col2, #T_3b9d2_row6_col3, #T_3b9d2_row6_col4, #T_3b9d2_row6_col5, #T_3b9d2_row6_col6, #T_3b9d2_row6_col7, #T_3b9d2_row6_col8, #T_3b9d2_row6_col9 {\n",
       "  text-align: left;\n",
       "}\n",
       "</style>\n",
       "<table id=\"T_3b9d2\">\n",
       "  <caption>total_area</caption>\n",
       "  <thead>\n",
       "  </thead>\n",
       "  <tbody>\n",
       "    <tr>\n",
       "      <td id=\"T_3b9d2_row0_col0\" class=\"data row0 col0\" >Values</td>\n",
       "      <td id=\"T_3b9d2_row0_col1\" class=\"data row0 col1\" >23 699 (100%)</td>\n",
       "      <td id=\"T_3b9d2_row0_col2\" class=\"data row0 col2\" >                              </td>\n",
       "      <td id=\"T_3b9d2_row0_col3\" class=\"data row0 col3\" >Max</td>\n",
       "      <td id=\"T_3b9d2_row0_col4\" class=\"data row0 col4\" >900</td>\n",
       "      <td id=\"T_3b9d2_row0_col5\" class=\"data row0 col5\" >                              </td>\n",
       "      <td id=\"T_3b9d2_row0_col6\" class=\"data row0 col6\" >Avg</td>\n",
       "      <td id=\"T_3b9d2_row0_col7\" class=\"data row0 col7\" >60.35</td>\n",
       "      <td id=\"T_3b9d2_row0_col8\" class=\"data row0 col8\" >                              </td>\n",
       "      <td id=\"T_3b9d2_row0_col9\" class=\"data row0 col9\" >45 (2%)</td>\n",
       "    </tr>\n",
       "    <tr>\n",
       "      <td id=\"T_3b9d2_row1_col0\" class=\"data row1 col0\" >Missing</td>\n",
       "      <td id=\"T_3b9d2_row1_col1\" class=\"data row1 col1\" >---</td>\n",
       "      <td id=\"T_3b9d2_row1_col2\" class=\"data row1 col2\" >                              </td>\n",
       "      <td id=\"T_3b9d2_row1_col3\" class=\"data row1 col3\" >95%</td>\n",
       "      <td id=\"T_3b9d2_row1_col4\" class=\"data row1 col4\" >116</td>\n",
       "      <td id=\"T_3b9d2_row1_col5\" class=\"data row1 col5\" >                              </td>\n",
       "      <td id=\"T_3b9d2_row1_col6\" class=\"data row1 col6\" >Mode</td>\n",
       "      <td id=\"T_3b9d2_row1_col7\" class=\"data row1 col7\" >45</td>\n",
       "      <td id=\"T_3b9d2_row1_col8\" class=\"data row1 col8\" >                              </td>\n",
       "      <td id=\"T_3b9d2_row1_col9\" class=\"data row1 col9\" >42 (2%)</td>\n",
       "    </tr>\n",
       "    <tr>\n",
       "      <td id=\"T_3b9d2_row2_col0\" class=\"data row2 col0\" >Distinct</td>\n",
       "      <td id=\"T_3b9d2_row2_col1\" class=\"data row2 col1\" >2 182 (9%)</td>\n",
       "      <td id=\"T_3b9d2_row2_col2\" class=\"data row2 col2\" >                              </td>\n",
       "      <td id=\"T_3b9d2_row2_col3\" class=\"data row2 col3\" >75%</td>\n",
       "      <td id=\"T_3b9d2_row2_col4\" class=\"data row2 col4\" >69.9</td>\n",
       "      <td id=\"T_3b9d2_row2_col5\" class=\"data row2 col5\" >                              </td>\n",
       "      <td id=\"T_3b9d2_row2_col6\" class=\"data row2 col6\" >Range</td>\n",
       "      <td id=\"T_3b9d2_row2_col7\" class=\"data row2 col7\" >888</td>\n",
       "      <td id=\"T_3b9d2_row2_col8\" class=\"data row2 col8\" >                              </td>\n",
       "      <td id=\"T_3b9d2_row2_col9\" class=\"data row2 col9\" >60 (1%)</td>\n",
       "    </tr>\n",
       "    <tr>\n",
       "      <td id=\"T_3b9d2_row3_col0\" class=\"data row3 col0\" >Duplicates</td>\n",
       "      <td id=\"T_3b9d2_row3_col1\" class=\"data row3 col1\" >21 517 (91%)</td>\n",
       "      <td id=\"T_3b9d2_row3_col2\" class=\"data row3 col2\" >                              </td>\n",
       "      <td id=\"T_3b9d2_row3_col3\" class=\"data row3 col3\" >Median</td>\n",
       "      <td id=\"T_3b9d2_row3_col4\" class=\"data row3 col4\" >52</td>\n",
       "      <td id=\"T_3b9d2_row3_col5\" class=\"data row3 col5\" >                              </td>\n",
       "      <td id=\"T_3b9d2_row3_col6\" class=\"data row3 col6\" >iQR</td>\n",
       "      <td id=\"T_3b9d2_row3_col7\" class=\"data row3 col7\" >29.9</td>\n",
       "      <td id=\"T_3b9d2_row3_col8\" class=\"data row3 col8\" >                              </td>\n",
       "      <td id=\"T_3b9d2_row3_col9\" class=\"data row3 col9\" >31 (1%)</td>\n",
       "    </tr>\n",
       "    <tr>\n",
       "      <td id=\"T_3b9d2_row4_col0\" class=\"data row4 col0\" >Zeros</td>\n",
       "      <td id=\"T_3b9d2_row4_col1\" class=\"data row4 col1\" >---</td>\n",
       "      <td id=\"T_3b9d2_row4_col2\" class=\"data row4 col2\" >                              </td>\n",
       "      <td id=\"T_3b9d2_row4_col3\" class=\"data row4 col3\" >25%</td>\n",
       "      <td id=\"T_3b9d2_row4_col4\" class=\"data row4 col4\" >40</td>\n",
       "      <td id=\"T_3b9d2_row4_col5\" class=\"data row4 col5\" >                              </td>\n",
       "      <td id=\"T_3b9d2_row4_col6\" class=\"data row4 col6\" >std</td>\n",
       "      <td id=\"T_3b9d2_row4_col7\" class=\"data row4 col7\" >35.65</td>\n",
       "      <td id=\"T_3b9d2_row4_col8\" class=\"data row4 col8\" >                              </td>\n",
       "      <td id=\"T_3b9d2_row4_col9\" class=\"data row4 col9\" >44 (1%)</td>\n",
       "    </tr>\n",
       "    <tr>\n",
       "      <td id=\"T_3b9d2_row5_col0\" class=\"data row5 col0\" >Negative</td>\n",
       "      <td id=\"T_3b9d2_row5_col1\" class=\"data row5 col1\" >---</td>\n",
       "      <td id=\"T_3b9d2_row5_col2\" class=\"data row5 col2\" >                              </td>\n",
       "      <td id=\"T_3b9d2_row5_col3\" class=\"data row5 col3\" >5%</td>\n",
       "      <td id=\"T_3b9d2_row5_col4\" class=\"data row5 col4\" >31</td>\n",
       "      <td id=\"T_3b9d2_row5_col5\" class=\"data row5 col5\" >                              </td>\n",
       "      <td id=\"T_3b9d2_row5_col6\" class=\"data row5 col6\" >kurt</td>\n",
       "      <td id=\"T_3b9d2_row5_col7\" class=\"data row5 col7\" >47.52</td>\n",
       "      <td id=\"T_3b9d2_row5_col8\" class=\"data row5 col8\" >                              </td>\n",
       "      <td id=\"T_3b9d2_row5_col9\" class=\"data row5 col9\" >40 (1%)</td>\n",
       "    </tr>\n",
       "    <tr>\n",
       "      <td id=\"T_3b9d2_row6_col0\" class=\"data row6 col0\" >RAM (Mb)</td>\n",
       "      <td id=\"T_3b9d2_row6_col1\" class=\"data row6 col1\" ><1 Mb</td>\n",
       "      <td id=\"T_3b9d2_row6_col2\" class=\"data row6 col2\" >                              </td>\n",
       "      <td id=\"T_3b9d2_row6_col3\" class=\"data row6 col3\" >Min</td>\n",
       "      <td id=\"T_3b9d2_row6_col4\" class=\"data row6 col4\" >12</td>\n",
       "      <td id=\"T_3b9d2_row6_col5\" class=\"data row6 col5\" >                              </td>\n",
       "      <td id=\"T_3b9d2_row6_col6\" class=\"data row6 col6\" >skew</td>\n",
       "      <td id=\"T_3b9d2_row6_col7\" class=\"data row6 col7\" >4.77</td>\n",
       "      <td id=\"T_3b9d2_row6_col8\" class=\"data row6 col8\" >                              </td>\n",
       "      <td id=\"T_3b9d2_row6_col9\" class=\"data row6 col9\" >43 (1%)</td>\n",
       "    </tr>\n",
       "  </tbody>\n",
       "</table>\n",
       "\n",
       "            <div>\n",
       "                <img src=\"data:image/png;base64,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\" alt=\"График\"/>\n",
       "            </div>\n",
       "        </div>\n",
       "        "
      ],
      "text/plain": [
       "<IPython.core.display.HTML object>"
      ]
     },
     "metadata": {},
     "output_type": "display_data"
    }
   ],
   "source": [
    "next(gen)"
   ]
  },
  {
   "cell_type": "markdown",
   "metadata": {},
   "source": [
    "**Наблюдения:**\n",
    "- Максимальная площадь в 900 квадратов многовато.\n",
    "- Также нужно проверить площадь 12 квадратов"
   ]
  },
  {
   "cell_type": "code",
   "execution_count": 369,
   "metadata": {},
   "outputs": [
    {
     "data": {
      "text/html": [
       "\n",
       "        <div style=\"display: flex; justify-content: flex-start; align-items: flex-end;\">\n",
       "            <style type=\"text/css\">\n",
       "#T_71ec6 caption {\n",
       "  font-size: 16px;\n",
       "  text-align: left;\n",
       "  font-weight: bold;\n",
       "}\n",
       "#T_71ec6_row0_col0, #T_71ec6_row0_col1, #T_71ec6_row0_col2, #T_71ec6_row0_col3, #T_71ec6_row0_col4, #T_71ec6_row0_col5, #T_71ec6_row0_col6, #T_71ec6_row0_col7, #T_71ec6_row0_col8, #T_71ec6_row0_col9, #T_71ec6_row1_col0, #T_71ec6_row1_col1, #T_71ec6_row1_col2, #T_71ec6_row1_col3, #T_71ec6_row1_col4, #T_71ec6_row1_col5, #T_71ec6_row1_col6, #T_71ec6_row1_col7, #T_71ec6_row1_col8, #T_71ec6_row1_col9, #T_71ec6_row2_col0, #T_71ec6_row2_col1, #T_71ec6_row2_col2, #T_71ec6_row2_col3, #T_71ec6_row2_col4, #T_71ec6_row2_col5, #T_71ec6_row2_col6, #T_71ec6_row2_col7, #T_71ec6_row2_col8, #T_71ec6_row2_col9, #T_71ec6_row3_col0, #T_71ec6_row3_col1, #T_71ec6_row3_col2, #T_71ec6_row3_col3, #T_71ec6_row3_col4, #T_71ec6_row3_col5, #T_71ec6_row3_col6, #T_71ec6_row3_col7, #T_71ec6_row3_col8, #T_71ec6_row3_col9, #T_71ec6_row4_col0, #T_71ec6_row4_col1, #T_71ec6_row4_col2, #T_71ec6_row4_col3, #T_71ec6_row4_col4, #T_71ec6_row4_col5, #T_71ec6_row4_col6, #T_71ec6_row4_col7, #T_71ec6_row4_col8, #T_71ec6_row4_col9, #T_71ec6_row5_col0, #T_71ec6_row5_col1, #T_71ec6_row5_col2, #T_71ec6_row5_col3, #T_71ec6_row5_col4, #T_71ec6_row5_col5, #T_71ec6_row5_col6, #T_71ec6_row5_col7, #T_71ec6_row5_col8, #T_71ec6_row5_col9, #T_71ec6_row6_col0, #T_71ec6_row6_col1, #T_71ec6_row6_col2, #T_71ec6_row6_col3, #T_71ec6_row6_col4, #T_71ec6_row6_col5, #T_71ec6_row6_col6, #T_71ec6_row6_col7, #T_71ec6_row6_col8, #T_71ec6_row6_col9 {\n",
       "  text-align: left;\n",
       "}\n",
       "</style>\n",
       "<table id=\"T_71ec6\">\n",
       "  <caption>rooms</caption>\n",
       "  <thead>\n",
       "  </thead>\n",
       "  <tbody>\n",
       "    <tr>\n",
       "      <td id=\"T_71ec6_row0_col0\" class=\"data row0 col0\" >Values</td>\n",
       "      <td id=\"T_71ec6_row0_col1\" class=\"data row0 col1\" >23 699 (100%)</td>\n",
       "      <td id=\"T_71ec6_row0_col2\" class=\"data row0 col2\" >                              </td>\n",
       "      <td id=\"T_71ec6_row0_col3\" class=\"data row0 col3\" >Max</td>\n",
       "      <td id=\"T_71ec6_row0_col4\" class=\"data row0 col4\" >19</td>\n",
       "      <td id=\"T_71ec6_row0_col5\" class=\"data row0 col5\" >                              </td>\n",
       "      <td id=\"T_71ec6_row0_col6\" class=\"data row0 col6\" >Avg</td>\n",
       "      <td id=\"T_71ec6_row0_col7\" class=\"data row0 col7\" >2.07</td>\n",
       "      <td id=\"T_71ec6_row0_col8\" class=\"data row0 col8\" >                              </td>\n",
       "      <td id=\"T_71ec6_row0_col9\" class=\"data row0 col9\" >1 (34%)</td>\n",
       "    </tr>\n",
       "    <tr>\n",
       "      <td id=\"T_71ec6_row1_col0\" class=\"data row1 col0\" >Missing</td>\n",
       "      <td id=\"T_71ec6_row1_col1\" class=\"data row1 col1\" >---</td>\n",
       "      <td id=\"T_71ec6_row1_col2\" class=\"data row1 col2\" >                              </td>\n",
       "      <td id=\"T_71ec6_row1_col3\" class=\"data row1 col3\" >95%</td>\n",
       "      <td id=\"T_71ec6_row1_col4\" class=\"data row1 col4\" >4</td>\n",
       "      <td id=\"T_71ec6_row1_col5\" class=\"data row1 col5\" >                              </td>\n",
       "      <td id=\"T_71ec6_row1_col6\" class=\"data row1 col6\" >Mode</td>\n",
       "      <td id=\"T_71ec6_row1_col7\" class=\"data row1 col7\" >1</td>\n",
       "      <td id=\"T_71ec6_row1_col8\" class=\"data row1 col8\" >                              </td>\n",
       "      <td id=\"T_71ec6_row1_col9\" class=\"data row1 col9\" >2 (34%)</td>\n",
       "    </tr>\n",
       "    <tr>\n",
       "      <td id=\"T_71ec6_row2_col0\" class=\"data row2 col0\" >Distinct</td>\n",
       "      <td id=\"T_71ec6_row2_col1\" class=\"data row2 col1\" >17 (<1%)</td>\n",
       "      <td id=\"T_71ec6_row2_col2\" class=\"data row2 col2\" >                              </td>\n",
       "      <td id=\"T_71ec6_row2_col3\" class=\"data row2 col3\" >75%</td>\n",
       "      <td id=\"T_71ec6_row2_col4\" class=\"data row2 col4\" >3</td>\n",
       "      <td id=\"T_71ec6_row2_col5\" class=\"data row2 col5\" >                              </td>\n",
       "      <td id=\"T_71ec6_row2_col6\" class=\"data row2 col6\" >Range</td>\n",
       "      <td id=\"T_71ec6_row2_col7\" class=\"data row2 col7\" >19</td>\n",
       "      <td id=\"T_71ec6_row2_col8\" class=\"data row2 col8\" >                              </td>\n",
       "      <td id=\"T_71ec6_row2_col9\" class=\"data row2 col9\" >3 (25%)</td>\n",
       "    </tr>\n",
       "    <tr>\n",
       "      <td id=\"T_71ec6_row3_col0\" class=\"data row3 col0\" >Duplicates</td>\n",
       "      <td id=\"T_71ec6_row3_col1\" class=\"data row3 col1\" >23 682 (99.9%)</td>\n",
       "      <td id=\"T_71ec6_row3_col2\" class=\"data row3 col2\" >                              </td>\n",
       "      <td id=\"T_71ec6_row3_col3\" class=\"data row3 col3\" >Median</td>\n",
       "      <td id=\"T_71ec6_row3_col4\" class=\"data row3 col4\" >2</td>\n",
       "      <td id=\"T_71ec6_row3_col5\" class=\"data row3 col5\" >                              </td>\n",
       "      <td id=\"T_71ec6_row3_col6\" class=\"data row3 col6\" >iQR</td>\n",
       "      <td id=\"T_71ec6_row3_col7\" class=\"data row3 col7\" >2</td>\n",
       "      <td id=\"T_71ec6_row3_col8\" class=\"data row3 col8\" >                              </td>\n",
       "      <td id=\"T_71ec6_row3_col9\" class=\"data row3 col9\" >4 (5%)</td>\n",
       "    </tr>\n",
       "    <tr>\n",
       "      <td id=\"T_71ec6_row4_col0\" class=\"data row4 col0\" >Zeros</td>\n",
       "      <td id=\"T_71ec6_row4_col1\" class=\"data row4 col1\" >197 (1%)</td>\n",
       "      <td id=\"T_71ec6_row4_col2\" class=\"data row4 col2\" >                              </td>\n",
       "      <td id=\"T_71ec6_row4_col3\" class=\"data row4 col3\" >25%</td>\n",
       "      <td id=\"T_71ec6_row4_col4\" class=\"data row4 col4\" >1</td>\n",
       "      <td id=\"T_71ec6_row4_col5\" class=\"data row4 col5\" >                              </td>\n",
       "      <td id=\"T_71ec6_row4_col6\" class=\"data row4 col6\" >std</td>\n",
       "      <td id=\"T_71ec6_row4_col7\" class=\"data row4 col7\" >1.08</td>\n",
       "      <td id=\"T_71ec6_row4_col8\" class=\"data row4 col8\" >                              </td>\n",
       "      <td id=\"T_71ec6_row4_col9\" class=\"data row4 col9\" >5 (1%)</td>\n",
       "    </tr>\n",
       "    <tr>\n",
       "      <td id=\"T_71ec6_row5_col0\" class=\"data row5 col0\" >Negative</td>\n",
       "      <td id=\"T_71ec6_row5_col1\" class=\"data row5 col1\" >---</td>\n",
       "      <td id=\"T_71ec6_row5_col2\" class=\"data row5 col2\" >                              </td>\n",
       "      <td id=\"T_71ec6_row5_col3\" class=\"data row5 col3\" >5%</td>\n",
       "      <td id=\"T_71ec6_row5_col4\" class=\"data row5 col4\" >1</td>\n",
       "      <td id=\"T_71ec6_row5_col5\" class=\"data row5 col5\" >                              </td>\n",
       "      <td id=\"T_71ec6_row5_col6\" class=\"data row5 col6\" >kurt</td>\n",
       "      <td id=\"T_71ec6_row5_col7\" class=\"data row5 col7\" >8.69</td>\n",
       "      <td id=\"T_71ec6_row5_col8\" class=\"data row5 col8\" >                              </td>\n",
       "      <td id=\"T_71ec6_row5_col9\" class=\"data row5 col9\" >0 <1%</td>\n",
       "    </tr>\n",
       "    <tr>\n",
       "      <td id=\"T_71ec6_row6_col0\" class=\"data row6 col0\" >RAM (Mb)</td>\n",
       "      <td id=\"T_71ec6_row6_col1\" class=\"data row6 col1\" ><1 Mb</td>\n",
       "      <td id=\"T_71ec6_row6_col2\" class=\"data row6 col2\" >                              </td>\n",
       "      <td id=\"T_71ec6_row6_col3\" class=\"data row6 col3\" >Min</td>\n",
       "      <td id=\"T_71ec6_row6_col4\" class=\"data row6 col4\" >0</td>\n",
       "      <td id=\"T_71ec6_row6_col5\" class=\"data row6 col5\" >                              </td>\n",
       "      <td id=\"T_71ec6_row6_col6\" class=\"data row6 col6\" >skew</td>\n",
       "      <td id=\"T_71ec6_row6_col7\" class=\"data row6 col7\" >1.52</td>\n",
       "      <td id=\"T_71ec6_row6_col8\" class=\"data row6 col8\" >                              </td>\n",
       "      <td id=\"T_71ec6_row6_col9\" class=\"data row6 col9\" >6 <1%</td>\n",
       "    </tr>\n",
       "  </tbody>\n",
       "</table>\n",
       "\n",
       "            <div>\n",
       "                <img src=\"data:image/png;base64,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\" alt=\"График\"/>\n",
       "            </div>\n",
       "        </div>\n",
       "        "
      ],
      "text/plain": [
       "<IPython.core.display.HTML object>"
      ]
     },
     "metadata": {},
     "output_type": "display_data"
    }
   ],
   "source": [
    "next(gen)"
   ]
  },
  {
   "cell_type": "markdown",
   "metadata": {},
   "source": [
    "**Наблюдения:**\n",
    "- Есть квартиры с 0 комнат, возможно так обозначили студии.\n",
    "- Максимальное количество комнад 19 нужно изучить.\n",
    "- Треть квартир с 1 комнатой и треть квартир с двумя комнатами. Четверть с 3 комнатами.\n",
    "- Квартир с 4 и более комант около 6 процентов."
   ]
  },
  {
   "cell_type": "code",
   "execution_count": 370,
   "metadata": {},
   "outputs": [
    {
     "data": {
      "text/html": [
       "\n",
       "        <div style=\"display: flex; justify-content: flex-start; align-items: flex-end;\">\n",
       "            <style type=\"text/css\">\n",
       "#T_cf867 caption {\n",
       "  font-size: 16px;\n",
       "  text-align: left;\n",
       "  font-weight: bold;\n",
       "}\n",
       "#T_cf867_row0_col0, #T_cf867_row0_col1, #T_cf867_row0_col2, #T_cf867_row0_col3, #T_cf867_row0_col4, #T_cf867_row0_col5, #T_cf867_row0_col6, #T_cf867_row0_col7, #T_cf867_row0_col8, #T_cf867_row0_col9, #T_cf867_row1_col0, #T_cf867_row1_col1, #T_cf867_row1_col2, #T_cf867_row1_col3, #T_cf867_row1_col4, #T_cf867_row1_col5, #T_cf867_row1_col6, #T_cf867_row1_col7, #T_cf867_row1_col8, #T_cf867_row1_col9, #T_cf867_row2_col0, #T_cf867_row2_col1, #T_cf867_row2_col2, #T_cf867_row2_col3, #T_cf867_row2_col4, #T_cf867_row2_col5, #T_cf867_row2_col6, #T_cf867_row2_col7, #T_cf867_row2_col8, #T_cf867_row2_col9, #T_cf867_row3_col0, #T_cf867_row3_col1, #T_cf867_row3_col2, #T_cf867_row3_col3, #T_cf867_row3_col4, #T_cf867_row3_col5, #T_cf867_row3_col6, #T_cf867_row3_col7, #T_cf867_row3_col8, #T_cf867_row3_col9, #T_cf867_row4_col0, #T_cf867_row4_col1, #T_cf867_row4_col2, #T_cf867_row4_col3, #T_cf867_row4_col4, #T_cf867_row4_col5, #T_cf867_row4_col6, #T_cf867_row4_col7, #T_cf867_row4_col8, #T_cf867_row4_col9, #T_cf867_row5_col0, #T_cf867_row5_col1, #T_cf867_row5_col2, #T_cf867_row5_col3, #T_cf867_row5_col4, #T_cf867_row5_col5, #T_cf867_row5_col6, #T_cf867_row5_col7, #T_cf867_row5_col8, #T_cf867_row5_col9, #T_cf867_row6_col0, #T_cf867_row6_col1, #T_cf867_row6_col2, #T_cf867_row6_col3, #T_cf867_row6_col4, #T_cf867_row6_col5, #T_cf867_row6_col6, #T_cf867_row6_col7, #T_cf867_row6_col8, #T_cf867_row6_col9 {\n",
       "  text-align: left;\n",
       "}\n",
       "</style>\n",
       "<table id=\"T_cf867\">\n",
       "  <caption>ceiling_height</caption>\n",
       "  <thead>\n",
       "  </thead>\n",
       "  <tbody>\n",
       "    <tr>\n",
       "      <td id=\"T_cf867_row0_col0\" class=\"data row0 col0\" >Values</td>\n",
       "      <td id=\"T_cf867_row0_col1\" class=\"data row0 col1\" >14 504 (61%)</td>\n",
       "      <td id=\"T_cf867_row0_col2\" class=\"data row0 col2\" >                              </td>\n",
       "      <td id=\"T_cf867_row0_col3\" class=\"data row0 col3\" >Max</td>\n",
       "      <td id=\"T_cf867_row0_col4\" class=\"data row0 col4\" >100</td>\n",
       "      <td id=\"T_cf867_row0_col5\" class=\"data row0 col5\" >                              </td>\n",
       "      <td id=\"T_cf867_row0_col6\" class=\"data row0 col6\" >Avg</td>\n",
       "      <td id=\"T_cf867_row0_col7\" class=\"data row0 col7\" >2.77</td>\n",
       "      <td id=\"T_cf867_row0_col8\" class=\"data row0 col8\" >                              </td>\n",
       "      <td id=\"T_cf867_row0_col9\" class=\"data row0 col9\" >2.5 (24%)</td>\n",
       "    </tr>\n",
       "    <tr>\n",
       "      <td id=\"T_cf867_row1_col0\" class=\"data row1 col0\" >Missing</td>\n",
       "      <td id=\"T_cf867_row1_col1\" class=\"data row1 col1\" >9 195 (39%)</td>\n",
       "      <td id=\"T_cf867_row1_col2\" class=\"data row1 col2\" >                              </td>\n",
       "      <td id=\"T_cf867_row1_col3\" class=\"data row1 col3\" >95%</td>\n",
       "      <td id=\"T_cf867_row1_col4\" class=\"data row1 col4\" >3.3</td>\n",
       "      <td id=\"T_cf867_row1_col5\" class=\"data row1 col5\" >                              </td>\n",
       "      <td id=\"T_cf867_row1_col6\" class=\"data row1 col6\" >Mode</td>\n",
       "      <td id=\"T_cf867_row1_col7\" class=\"data row1 col7\" >2.5</td>\n",
       "      <td id=\"T_cf867_row1_col8\" class=\"data row1 col8\" >                              </td>\n",
       "      <td id=\"T_cf867_row1_col9\" class=\"data row1 col9\" >2.6 (11%)</td>\n",
       "    </tr>\n",
       "    <tr>\n",
       "      <td id=\"T_cf867_row2_col0\" class=\"data row2 col0\" >Distinct</td>\n",
       "      <td id=\"T_cf867_row2_col1\" class=\"data row2 col1\" >183 (1%)</td>\n",
       "      <td id=\"T_cf867_row2_col2\" class=\"data row2 col2\" >                              </td>\n",
       "      <td id=\"T_cf867_row2_col3\" class=\"data row2 col3\" >75%</td>\n",
       "      <td id=\"T_cf867_row2_col4\" class=\"data row2 col4\" >2.8</td>\n",
       "      <td id=\"T_cf867_row2_col5\" class=\"data row2 col5\" >                              </td>\n",
       "      <td id=\"T_cf867_row2_col6\" class=\"data row2 col6\" >Range</td>\n",
       "      <td id=\"T_cf867_row2_col7\" class=\"data row2 col7\" >99</td>\n",
       "      <td id=\"T_cf867_row2_col8\" class=\"data row2 col8\" >                              </td>\n",
       "      <td id=\"T_cf867_row2_col9\" class=\"data row2 col9\" >2.7 (11%)</td>\n",
       "    </tr>\n",
       "    <tr>\n",
       "      <td id=\"T_cf867_row3_col0\" class=\"data row3 col0\" >Duplicates</td>\n",
       "      <td id=\"T_cf867_row3_col1\" class=\"data row3 col1\" >23 515 (99.2%)</td>\n",
       "      <td id=\"T_cf867_row3_col2\" class=\"data row3 col2\" >                              </td>\n",
       "      <td id=\"T_cf867_row3_col3\" class=\"data row3 col3\" >Median</td>\n",
       "      <td id=\"T_cf867_row3_col4\" class=\"data row3 col4\" >2.65</td>\n",
       "      <td id=\"T_cf867_row3_col5\" class=\"data row3 col5\" >                              </td>\n",
       "      <td id=\"T_cf867_row3_col6\" class=\"data row3 col6\" >iQR</td>\n",
       "      <td id=\"T_cf867_row3_col7\" class=\"data row3 col7\" >0.28</td>\n",
       "      <td id=\"T_cf867_row3_col8\" class=\"data row3 col8\" >                              </td>\n",
       "      <td id=\"T_cf867_row3_col9\" class=\"data row3 col9\" >3 (8%)</td>\n",
       "    </tr>\n",
       "    <tr>\n",
       "      <td id=\"T_cf867_row4_col0\" class=\"data row4 col0\" >Zeros</td>\n",
       "      <td id=\"T_cf867_row4_col1\" class=\"data row4 col1\" >---</td>\n",
       "      <td id=\"T_cf867_row4_col2\" class=\"data row4 col2\" >                              </td>\n",
       "      <td id=\"T_cf867_row4_col3\" class=\"data row4 col3\" >25%</td>\n",
       "      <td id=\"T_cf867_row4_col4\" class=\"data row4 col4\" >2.52</td>\n",
       "      <td id=\"T_cf867_row4_col5\" class=\"data row4 col5\" >                              </td>\n",
       "      <td id=\"T_cf867_row4_col6\" class=\"data row4 col6\" >std</td>\n",
       "      <td id=\"T_cf867_row4_col7\" class=\"data row4 col7\" >1.26</td>\n",
       "      <td id=\"T_cf867_row4_col8\" class=\"data row4 col8\" >                              </td>\n",
       "      <td id=\"T_cf867_row4_col9\" class=\"data row4 col9\" >2.8 (7%)</td>\n",
       "    </tr>\n",
       "    <tr>\n",
       "      <td id=\"T_cf867_row5_col0\" class=\"data row5 col0\" >Negative</td>\n",
       "      <td id=\"T_cf867_row5_col1\" class=\"data row5 col1\" >---</td>\n",
       "      <td id=\"T_cf867_row5_col2\" class=\"data row5 col2\" >                              </td>\n",
       "      <td id=\"T_cf867_row5_col3\" class=\"data row5 col3\" >5%</td>\n",
       "      <td id=\"T_cf867_row5_col4\" class=\"data row5 col4\" >2.5</td>\n",
       "      <td id=\"T_cf867_row5_col5\" class=\"data row5 col5\" >                              </td>\n",
       "      <td id=\"T_cf867_row5_col6\" class=\"data row5 col6\" >kurt</td>\n",
       "      <td id=\"T_cf867_row5_col7\" class=\"data row5 col7\" >2627.14</td>\n",
       "      <td id=\"T_cf867_row5_col8\" class=\"data row5 col8\" >                              </td>\n",
       "      <td id=\"T_cf867_row5_col9\" class=\"data row5 col9\" >2.55 (7%)</td>\n",
       "    </tr>\n",
       "    <tr>\n",
       "      <td id=\"T_cf867_row6_col0\" class=\"data row6 col0\" >RAM (Mb)</td>\n",
       "      <td id=\"T_cf867_row6_col1\" class=\"data row6 col1\" ><1 Mb</td>\n",
       "      <td id=\"T_cf867_row6_col2\" class=\"data row6 col2\" >                              </td>\n",
       "      <td id=\"T_cf867_row6_col3\" class=\"data row6 col3\" >Min</td>\n",
       "      <td id=\"T_cf867_row6_col4\" class=\"data row6 col4\" >1</td>\n",
       "      <td id=\"T_cf867_row6_col5\" class=\"data row6 col5\" >                              </td>\n",
       "      <td id=\"T_cf867_row6_col6\" class=\"data row6 col6\" >skew</td>\n",
       "      <td id=\"T_cf867_row6_col7\" class=\"data row6 col7\" >41.71</td>\n",
       "      <td id=\"T_cf867_row6_col8\" class=\"data row6 col8\" >                              </td>\n",
       "      <td id=\"T_cf867_row6_col9\" class=\"data row6 col9\" >2.75 (6%)</td>\n",
       "    </tr>\n",
       "  </tbody>\n",
       "</table>\n",
       "\n",
       "            <div>\n",
       "                <img src=\"data:image/png;base64,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\" alt=\"График\"/>\n",
       "            </div>\n",
       "        </div>\n",
       "        "
      ],
      "text/plain": [
       "<IPython.core.display.HTML object>"
      ]
     },
     "metadata": {},
     "output_type": "display_data"
    }
   ],
   "source": [
    "next(gen)"
   ]
  },
  {
   "cell_type": "markdown",
   "metadata": {},
   "source": [
    "**Наблюдения:**\n",
    "- В высоте потолков пропуски (39 процентов)\n",
    "- Явный выбрас 100."
   ]
  },
  {
   "cell_type": "code",
   "execution_count": 371,
   "metadata": {},
   "outputs": [
    {
     "data": {
      "text/html": [
       "\n",
       "        <div style=\"display: flex; justify-content: flex-start; align-items: flex-end;\">\n",
       "            <style type=\"text/css\">\n",
       "#T_90855 caption {\n",
       "  font-size: 16px;\n",
       "  text-align: left;\n",
       "  font-weight: bold;\n",
       "}\n",
       "#T_90855_row0_col0, #T_90855_row0_col1, #T_90855_row0_col2, #T_90855_row0_col3, #T_90855_row0_col4, #T_90855_row0_col5, #T_90855_row0_col6, #T_90855_row0_col7, #T_90855_row0_col8, #T_90855_row0_col9, #T_90855_row1_col0, #T_90855_row1_col1, #T_90855_row1_col2, #T_90855_row1_col3, #T_90855_row1_col4, #T_90855_row1_col5, #T_90855_row1_col6, #T_90855_row1_col7, #T_90855_row1_col8, #T_90855_row1_col9, #T_90855_row2_col0, #T_90855_row2_col1, #T_90855_row2_col2, #T_90855_row2_col3, #T_90855_row2_col4, #T_90855_row2_col5, #T_90855_row2_col6, #T_90855_row2_col7, #T_90855_row2_col8, #T_90855_row2_col9, #T_90855_row3_col0, #T_90855_row3_col1, #T_90855_row3_col2, #T_90855_row3_col3, #T_90855_row3_col4, #T_90855_row3_col5, #T_90855_row3_col6, #T_90855_row3_col7, #T_90855_row3_col8, #T_90855_row3_col9, #T_90855_row4_col0, #T_90855_row4_col1, #T_90855_row4_col2, #T_90855_row4_col3, #T_90855_row4_col4, #T_90855_row4_col5, #T_90855_row4_col6, #T_90855_row4_col7, #T_90855_row4_col8, #T_90855_row4_col9, #T_90855_row5_col0, #T_90855_row5_col1, #T_90855_row5_col2, #T_90855_row5_col3, #T_90855_row5_col4, #T_90855_row5_col5, #T_90855_row5_col6, #T_90855_row5_col7, #T_90855_row5_col8, #T_90855_row5_col9, #T_90855_row6_col0, #T_90855_row6_col1, #T_90855_row6_col2, #T_90855_row6_col3, #T_90855_row6_col4, #T_90855_row6_col5, #T_90855_row6_col6, #T_90855_row6_col7, #T_90855_row6_col8, #T_90855_row6_col9 {\n",
       "  text-align: left;\n",
       "}\n",
       "</style>\n",
       "<table id=\"T_90855\">\n",
       "  <caption>floors_total</caption>\n",
       "  <thead>\n",
       "  </thead>\n",
       "  <tbody>\n",
       "    <tr>\n",
       "      <td id=\"T_90855_row0_col0\" class=\"data row0 col0\" >Values</td>\n",
       "      <td id=\"T_90855_row0_col1\" class=\"data row0 col1\" >23 613 (99.6%)</td>\n",
       "      <td id=\"T_90855_row0_col2\" class=\"data row0 col2\" >                              </td>\n",
       "      <td id=\"T_90855_row0_col3\" class=\"data row0 col3\" >Max</td>\n",
       "      <td id=\"T_90855_row0_col4\" class=\"data row0 col4\" >60</td>\n",
       "      <td id=\"T_90855_row0_col5\" class=\"data row0 col5\" >                              </td>\n",
       "      <td id=\"T_90855_row0_col6\" class=\"data row0 col6\" >Avg</td>\n",
       "      <td id=\"T_90855_row0_col7\" class=\"data row0 col7\" >10.67</td>\n",
       "      <td id=\"T_90855_row0_col8\" class=\"data row0 col8\" >                              </td>\n",
       "      <td id=\"T_90855_row0_col9\" class=\"data row0 col9\" >5 (25%)</td>\n",
       "    </tr>\n",
       "    <tr>\n",
       "      <td id=\"T_90855_row1_col0\" class=\"data row1 col0\" >Missing</td>\n",
       "      <td id=\"T_90855_row1_col1\" class=\"data row1 col1\" >86 (<1%)</td>\n",
       "      <td id=\"T_90855_row1_col2\" class=\"data row1 col2\" >                              </td>\n",
       "      <td id=\"T_90855_row1_col3\" class=\"data row1 col3\" >95%</td>\n",
       "      <td id=\"T_90855_row1_col4\" class=\"data row1 col4\" >25</td>\n",
       "      <td id=\"T_90855_row1_col5\" class=\"data row1 col5\" >                              </td>\n",
       "      <td id=\"T_90855_row1_col6\" class=\"data row1 col6\" >Mode</td>\n",
       "      <td id=\"T_90855_row1_col7\" class=\"data row1 col7\" >5</td>\n",
       "      <td id=\"T_90855_row1_col8\" class=\"data row1 col8\" >                              </td>\n",
       "      <td id=\"T_90855_row1_col9\" class=\"data row1 col9\" >9 (16%)</td>\n",
       "    </tr>\n",
       "    <tr>\n",
       "      <td id=\"T_90855_row2_col0\" class=\"data row2 col0\" >Distinct</td>\n",
       "      <td id=\"T_90855_row2_col1\" class=\"data row2 col1\" >36 (<1%)</td>\n",
       "      <td id=\"T_90855_row2_col2\" class=\"data row2 col2\" >                              </td>\n",
       "      <td id=\"T_90855_row2_col3\" class=\"data row2 col3\" >75%</td>\n",
       "      <td id=\"T_90855_row2_col4\" class=\"data row2 col4\" >16</td>\n",
       "      <td id=\"T_90855_row2_col5\" class=\"data row2 col5\" >                              </td>\n",
       "      <td id=\"T_90855_row2_col6\" class=\"data row2 col6\" >Range</td>\n",
       "      <td id=\"T_90855_row2_col7\" class=\"data row2 col7\" >59</td>\n",
       "      <td id=\"T_90855_row2_col8\" class=\"data row2 col8\" >                              </td>\n",
       "      <td id=\"T_90855_row2_col9\" class=\"data row2 col9\" >16 (6%)</td>\n",
       "    </tr>\n",
       "    <tr>\n",
       "      <td id=\"T_90855_row3_col0\" class=\"data row3 col0\" >Duplicates</td>\n",
       "      <td id=\"T_90855_row3_col1\" class=\"data row3 col1\" >23 662 (99.8%)</td>\n",
       "      <td id=\"T_90855_row3_col2\" class=\"data row3 col2\" >                              </td>\n",
       "      <td id=\"T_90855_row3_col3\" class=\"data row3 col3\" >Median</td>\n",
       "      <td id=\"T_90855_row3_col4\" class=\"data row3 col4\" >9</td>\n",
       "      <td id=\"T_90855_row3_col5\" class=\"data row3 col5\" >                              </td>\n",
       "      <td id=\"T_90855_row3_col6\" class=\"data row3 col6\" >iQR</td>\n",
       "      <td id=\"T_90855_row3_col7\" class=\"data row3 col7\" >11</td>\n",
       "      <td id=\"T_90855_row3_col8\" class=\"data row3 col8\" >                              </td>\n",
       "      <td id=\"T_90855_row3_col9\" class=\"data row3 col9\" >12 (6%)</td>\n",
       "    </tr>\n",
       "    <tr>\n",
       "      <td id=\"T_90855_row4_col0\" class=\"data row4 col0\" >Zeros</td>\n",
       "      <td id=\"T_90855_row4_col1\" class=\"data row4 col1\" >---</td>\n",
       "      <td id=\"T_90855_row4_col2\" class=\"data row4 col2\" >                              </td>\n",
       "      <td id=\"T_90855_row4_col3\" class=\"data row4 col3\" >25%</td>\n",
       "      <td id=\"T_90855_row4_col4\" class=\"data row4 col4\" >5</td>\n",
       "      <td id=\"T_90855_row4_col5\" class=\"data row4 col5\" >                              </td>\n",
       "      <td id=\"T_90855_row4_col6\" class=\"data row4 col6\" >std</td>\n",
       "      <td id=\"T_90855_row4_col7\" class=\"data row4 col7\" >6.6</td>\n",
       "      <td id=\"T_90855_row4_col8\" class=\"data row4 col8\" >                              </td>\n",
       "      <td id=\"T_90855_row4_col9\" class=\"data row4 col9\" >4 (5%)</td>\n",
       "    </tr>\n",
       "    <tr>\n",
       "      <td id=\"T_90855_row5_col0\" class=\"data row5 col0\" >Negative</td>\n",
       "      <td id=\"T_90855_row5_col1\" class=\"data row5 col1\" >---</td>\n",
       "      <td id=\"T_90855_row5_col2\" class=\"data row5 col2\" >                              </td>\n",
       "      <td id=\"T_90855_row5_col3\" class=\"data row5 col3\" >5%</td>\n",
       "      <td id=\"T_90855_row5_col4\" class=\"data row5 col4\" >4</td>\n",
       "      <td id=\"T_90855_row5_col5\" class=\"data row5 col5\" >                              </td>\n",
       "      <td id=\"T_90855_row5_col6\" class=\"data row5 col6\" >kurt</td>\n",
       "      <td id=\"T_90855_row5_col7\" class=\"data row5 col7\" >0.04</td>\n",
       "      <td id=\"T_90855_row5_col8\" class=\"data row5 col8\" >                              </td>\n",
       "      <td id=\"T_90855_row5_col9\" class=\"data row5 col9\" >10 (5%)</td>\n",
       "    </tr>\n",
       "    <tr>\n",
       "      <td id=\"T_90855_row6_col0\" class=\"data row6 col0\" >RAM (Mb)</td>\n",
       "      <td id=\"T_90855_row6_col1\" class=\"data row6 col1\" ><1 Mb</td>\n",
       "      <td id=\"T_90855_row6_col2\" class=\"data row6 col2\" >                              </td>\n",
       "      <td id=\"T_90855_row6_col3\" class=\"data row6 col3\" >Min</td>\n",
       "      <td id=\"T_90855_row6_col4\" class=\"data row6 col4\" >1</td>\n",
       "      <td id=\"T_90855_row6_col5\" class=\"data row6 col5\" >                              </td>\n",
       "      <td id=\"T_90855_row6_col6\" class=\"data row6 col6\" >skew</td>\n",
       "      <td id=\"T_90855_row6_col7\" class=\"data row6 col7\" >0.94</td>\n",
       "      <td id=\"T_90855_row6_col8\" class=\"data row6 col8\" >                              </td>\n",
       "      <td id=\"T_90855_row6_col9\" class=\"data row6 col9\" >25 (5%)</td>\n",
       "    </tr>\n",
       "  </tbody>\n",
       "</table>\n",
       "\n",
       "            <div>\n",
       "                <img src=\"data:image/png;base64,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\" alt=\"График\"/>\n",
       "            </div>\n",
       "        </div>\n",
       "        "
      ],
      "text/plain": [
       "<IPython.core.display.HTML object>"
      ]
     },
     "metadata": {},
     "output_type": "display_data"
    }
   ],
   "source": [
    "next(gen)"
   ]
  },
  {
   "cell_type": "markdown",
   "metadata": {},
   "source": [
    "**Наблюдения:**\n",
    "- В количестве этажей есть пропуски (меньше 1 процента)\n",
    "- Максимальное количество этаже 60 нужно проверить.\n",
    "- Больше всего пятиэтажек (25 процентов)"
   ]
  },
  {
   "cell_type": "code",
   "execution_count": 372,
   "metadata": {},
   "outputs": [
    {
     "data": {
      "text/html": [
       "\n",
       "        <div style=\"display: flex; justify-content: flex-start; align-items: flex-end;\">\n",
       "            <style type=\"text/css\">\n",
       "#T_bfca1 caption {\n",
       "  font-size: 16px;\n",
       "  text-align: left;\n",
       "  font-weight: bold;\n",
       "}\n",
       "#T_bfca1_row0_col0, #T_bfca1_row0_col1, #T_bfca1_row0_col2, #T_bfca1_row0_col3, #T_bfca1_row0_col4, #T_bfca1_row0_col5, #T_bfca1_row0_col6, #T_bfca1_row0_col7, #T_bfca1_row0_col8, #T_bfca1_row0_col9, #T_bfca1_row1_col0, #T_bfca1_row1_col1, #T_bfca1_row1_col2, #T_bfca1_row1_col3, #T_bfca1_row1_col4, #T_bfca1_row1_col5, #T_bfca1_row1_col6, #T_bfca1_row1_col7, #T_bfca1_row1_col8, #T_bfca1_row1_col9, #T_bfca1_row2_col0, #T_bfca1_row2_col1, #T_bfca1_row2_col2, #T_bfca1_row2_col3, #T_bfca1_row2_col4, #T_bfca1_row2_col5, #T_bfca1_row2_col6, #T_bfca1_row2_col7, #T_bfca1_row2_col8, #T_bfca1_row2_col9, #T_bfca1_row3_col0, #T_bfca1_row3_col1, #T_bfca1_row3_col2, #T_bfca1_row3_col3, #T_bfca1_row3_col4, #T_bfca1_row3_col5, #T_bfca1_row3_col6, #T_bfca1_row3_col7, #T_bfca1_row3_col8, #T_bfca1_row3_col9, #T_bfca1_row4_col0, #T_bfca1_row4_col1, #T_bfca1_row4_col2, #T_bfca1_row4_col3, #T_bfca1_row4_col4, #T_bfca1_row4_col5, #T_bfca1_row4_col6, #T_bfca1_row4_col7, #T_bfca1_row4_col8, #T_bfca1_row4_col9, #T_bfca1_row5_col0, #T_bfca1_row5_col1, #T_bfca1_row5_col2, #T_bfca1_row5_col3, #T_bfca1_row5_col4, #T_bfca1_row5_col5, #T_bfca1_row5_col6, #T_bfca1_row5_col7, #T_bfca1_row5_col8, #T_bfca1_row5_col9, #T_bfca1_row6_col0, #T_bfca1_row6_col1, #T_bfca1_row6_col2, #T_bfca1_row6_col3, #T_bfca1_row6_col4, #T_bfca1_row6_col5, #T_bfca1_row6_col6, #T_bfca1_row6_col7, #T_bfca1_row6_col8, #T_bfca1_row6_col9 {\n",
       "  text-align: left;\n",
       "}\n",
       "</style>\n",
       "<table id=\"T_bfca1\">\n",
       "  <caption>living_area</caption>\n",
       "  <thead>\n",
       "  </thead>\n",
       "  <tbody>\n",
       "    <tr>\n",
       "      <td id=\"T_bfca1_row0_col0\" class=\"data row0 col0\" >Values</td>\n",
       "      <td id=\"T_bfca1_row0_col1\" class=\"data row0 col1\" >21 796 (92%)</td>\n",
       "      <td id=\"T_bfca1_row0_col2\" class=\"data row0 col2\" >                              </td>\n",
       "      <td id=\"T_bfca1_row0_col3\" class=\"data row0 col3\" >Max</td>\n",
       "      <td id=\"T_bfca1_row0_col4\" class=\"data row0 col4\" >409.7</td>\n",
       "      <td id=\"T_bfca1_row0_col5\" class=\"data row0 col5\" >                              </td>\n",
       "      <td id=\"T_bfca1_row0_col6\" class=\"data row0 col6\" >Avg</td>\n",
       "      <td id=\"T_bfca1_row0_col7\" class=\"data row0 col7\" >34.46</td>\n",
       "      <td id=\"T_bfca1_row0_col8\" class=\"data row0 col8\" >                              </td>\n",
       "      <td id=\"T_bfca1_row0_col9\" class=\"data row0 col9\" >18 (4%)</td>\n",
       "    </tr>\n",
       "    <tr>\n",
       "      <td id=\"T_bfca1_row1_col0\" class=\"data row1 col0\" >Missing</td>\n",
       "      <td id=\"T_bfca1_row1_col1\" class=\"data row1 col1\" >1 903 (8%)</td>\n",
       "      <td id=\"T_bfca1_row1_col2\" class=\"data row1 col2\" >                              </td>\n",
       "      <td id=\"T_bfca1_row1_col3\" class=\"data row1 col3\" >95%</td>\n",
       "      <td id=\"T_bfca1_row1_col4\" class=\"data row1 col4\" >69</td>\n",
       "      <td id=\"T_bfca1_row1_col5\" class=\"data row1 col5\" >                              </td>\n",
       "      <td id=\"T_bfca1_row1_col6\" class=\"data row1 col6\" >Mode</td>\n",
       "      <td id=\"T_bfca1_row1_col7\" class=\"data row1 col7\" >18</td>\n",
       "      <td id=\"T_bfca1_row1_col8\" class=\"data row1 col8\" >                              </td>\n",
       "      <td id=\"T_bfca1_row1_col9\" class=\"data row1 col9\" >17 (3%)</td>\n",
       "    </tr>\n",
       "    <tr>\n",
       "      <td id=\"T_bfca1_row2_col0\" class=\"data row2 col0\" >Distinct</td>\n",
       "      <td id=\"T_bfca1_row2_col1\" class=\"data row2 col1\" >1 782 (8%)</td>\n",
       "      <td id=\"T_bfca1_row2_col2\" class=\"data row2 col2\" >                              </td>\n",
       "      <td id=\"T_bfca1_row2_col3\" class=\"data row2 col3\" >75%</td>\n",
       "      <td id=\"T_bfca1_row2_col4\" class=\"data row2 col4\" >42.3</td>\n",
       "      <td id=\"T_bfca1_row2_col5\" class=\"data row2 col5\" >                              </td>\n",
       "      <td id=\"T_bfca1_row2_col6\" class=\"data row2 col6\" >Range</td>\n",
       "      <td id=\"T_bfca1_row2_col7\" class=\"data row2 col7\" >407.7</td>\n",
       "      <td id=\"T_bfca1_row2_col8\" class=\"data row2 col8\" >                              </td>\n",
       "      <td id=\"T_bfca1_row2_col9\" class=\"data row2 col9\" >30 (3%)</td>\n",
       "    </tr>\n",
       "    <tr>\n",
       "      <td id=\"T_bfca1_row3_col0\" class=\"data row3 col0\" >Duplicates</td>\n",
       "      <td id=\"T_bfca1_row3_col1\" class=\"data row3 col1\" >21 916 (92%)</td>\n",
       "      <td id=\"T_bfca1_row3_col2\" class=\"data row3 col2\" >                              </td>\n",
       "      <td id=\"T_bfca1_row3_col3\" class=\"data row3 col3\" >Median</td>\n",
       "      <td id=\"T_bfca1_row3_col4\" class=\"data row3 col4\" >30</td>\n",
       "      <td id=\"T_bfca1_row3_col5\" class=\"data row3 col5\" >                              </td>\n",
       "      <td id=\"T_bfca1_row3_col6\" class=\"data row3 col6\" >iQR</td>\n",
       "      <td id=\"T_bfca1_row3_col7\" class=\"data row3 col7\" >23.7</td>\n",
       "      <td id=\"T_bfca1_row3_col8\" class=\"data row3 col8\" >                              </td>\n",
       "      <td id=\"T_bfca1_row3_col9\" class=\"data row3 col9\" >16 (2%)</td>\n",
       "    </tr>\n",
       "    <tr>\n",
       "      <td id=\"T_bfca1_row4_col0\" class=\"data row4 col0\" >Zeros</td>\n",
       "      <td id=\"T_bfca1_row4_col1\" class=\"data row4 col1\" >---</td>\n",
       "      <td id=\"T_bfca1_row4_col2\" class=\"data row4 col2\" >                              </td>\n",
       "      <td id=\"T_bfca1_row4_col3\" class=\"data row4 col3\" >25%</td>\n",
       "      <td id=\"T_bfca1_row4_col4\" class=\"data row4 col4\" >18.6</td>\n",
       "      <td id=\"T_bfca1_row4_col5\" class=\"data row4 col5\" >                              </td>\n",
       "      <td id=\"T_bfca1_row4_col6\" class=\"data row4 col6\" >std</td>\n",
       "      <td id=\"T_bfca1_row4_col7\" class=\"data row4 col7\" >22.03</td>\n",
       "      <td id=\"T_bfca1_row4_col8\" class=\"data row4 col8\" >                              </td>\n",
       "      <td id=\"T_bfca1_row4_col9\" class=\"data row4 col9\" >20 (2%)</td>\n",
       "    </tr>\n",
       "    <tr>\n",
       "      <td id=\"T_bfca1_row5_col0\" class=\"data row5 col0\" >Negative</td>\n",
       "      <td id=\"T_bfca1_row5_col1\" class=\"data row5 col1\" >---</td>\n",
       "      <td id=\"T_bfca1_row5_col2\" class=\"data row5 col2\" >                              </td>\n",
       "      <td id=\"T_bfca1_row5_col3\" class=\"data row5 col3\" >5%</td>\n",
       "      <td id=\"T_bfca1_row5_col4\" class=\"data row5 col4\" >15.2</td>\n",
       "      <td id=\"T_bfca1_row5_col5\" class=\"data row5 col5\" >                              </td>\n",
       "      <td id=\"T_bfca1_row5_col6\" class=\"data row5 col6\" >kurt</td>\n",
       "      <td id=\"T_bfca1_row5_col7\" class=\"data row5 col7\" >31.36</td>\n",
       "      <td id=\"T_bfca1_row5_col8\" class=\"data row5 col8\" >                              </td>\n",
       "      <td id=\"T_bfca1_row5_col9\" class=\"data row5 col9\" >28 (2%)</td>\n",
       "    </tr>\n",
       "    <tr>\n",
       "      <td id=\"T_bfca1_row6_col0\" class=\"data row6 col0\" >RAM (Mb)</td>\n",
       "      <td id=\"T_bfca1_row6_col1\" class=\"data row6 col1\" ><1 Mb</td>\n",
       "      <td id=\"T_bfca1_row6_col2\" class=\"data row6 col2\" >                              </td>\n",
       "      <td id=\"T_bfca1_row6_col3\" class=\"data row6 col3\" >Min</td>\n",
       "      <td id=\"T_bfca1_row6_col4\" class=\"data row6 col4\" >2</td>\n",
       "      <td id=\"T_bfca1_row6_col5\" class=\"data row6 col5\" >                              </td>\n",
       "      <td id=\"T_bfca1_row6_col6\" class=\"data row6 col6\" >skew</td>\n",
       "      <td id=\"T_bfca1_row6_col7\" class=\"data row6 col7\" >3.91</td>\n",
       "      <td id=\"T_bfca1_row6_col8\" class=\"data row6 col8\" >                              </td>\n",
       "      <td id=\"T_bfca1_row6_col9\" class=\"data row6 col9\" >31 (2%)</td>\n",
       "    </tr>\n",
       "  </tbody>\n",
       "</table>\n",
       "\n",
       "            <div>\n",
       "                <img src=\"data:image/png;base64,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\" alt=\"График\"/>\n",
       "            </div>\n",
       "        </div>\n",
       "        "
      ],
      "text/plain": [
       "<IPython.core.display.HTML object>"
      ]
     },
     "metadata": {},
     "output_type": "display_data"
    }
   ],
   "source": [
    "next(gen)"
   ]
  },
  {
   "cell_type": "markdown",
   "metadata": {},
   "source": [
    "**Наблюдения:**\n",
    "- В жилой площади 8 процентов пропусков.\n",
    "- Нужно проверить минимальную и максимальную жилую площади."
   ]
  },
  {
   "cell_type": "code",
   "execution_count": 373,
   "metadata": {},
   "outputs": [
    {
     "data": {
      "text/html": [
       "\n",
       "        <div style=\"display: flex; justify-content: flex-start; align-items: flex-end;\">\n",
       "            <style type=\"text/css\">\n",
       "#T_fd83f caption {\n",
       "  font-size: 16px;\n",
       "  text-align: left;\n",
       "  font-weight: bold;\n",
       "}\n",
       "#T_fd83f_row0_col0, #T_fd83f_row0_col1, #T_fd83f_row0_col2, #T_fd83f_row0_col3, #T_fd83f_row0_col4, #T_fd83f_row0_col5, #T_fd83f_row0_col6, #T_fd83f_row0_col7, #T_fd83f_row0_col8, #T_fd83f_row0_col9, #T_fd83f_row1_col0, #T_fd83f_row1_col1, #T_fd83f_row1_col2, #T_fd83f_row1_col3, #T_fd83f_row1_col4, #T_fd83f_row1_col5, #T_fd83f_row1_col6, #T_fd83f_row1_col7, #T_fd83f_row1_col8, #T_fd83f_row1_col9, #T_fd83f_row2_col0, #T_fd83f_row2_col1, #T_fd83f_row2_col2, #T_fd83f_row2_col3, #T_fd83f_row2_col4, #T_fd83f_row2_col5, #T_fd83f_row2_col6, #T_fd83f_row2_col7, #T_fd83f_row2_col8, #T_fd83f_row2_col9, #T_fd83f_row3_col0, #T_fd83f_row3_col1, #T_fd83f_row3_col2, #T_fd83f_row3_col3, #T_fd83f_row3_col4, #T_fd83f_row3_col5, #T_fd83f_row3_col6, #T_fd83f_row3_col7, #T_fd83f_row3_col8, #T_fd83f_row3_col9, #T_fd83f_row4_col0, #T_fd83f_row4_col1, #T_fd83f_row4_col2, #T_fd83f_row4_col3, #T_fd83f_row4_col4, #T_fd83f_row4_col5, #T_fd83f_row4_col6, #T_fd83f_row4_col7, #T_fd83f_row4_col8, #T_fd83f_row4_col9, #T_fd83f_row5_col0, #T_fd83f_row5_col1, #T_fd83f_row5_col2, #T_fd83f_row5_col3, #T_fd83f_row5_col4, #T_fd83f_row5_col5, #T_fd83f_row5_col6, #T_fd83f_row5_col7, #T_fd83f_row5_col8, #T_fd83f_row5_col9, #T_fd83f_row6_col0, #T_fd83f_row6_col1, #T_fd83f_row6_col2, #T_fd83f_row6_col3, #T_fd83f_row6_col4, #T_fd83f_row6_col5, #T_fd83f_row6_col6, #T_fd83f_row6_col7, #T_fd83f_row6_col8, #T_fd83f_row6_col9 {\n",
       "  text-align: left;\n",
       "}\n",
       "</style>\n",
       "<table id=\"T_fd83f\">\n",
       "  <caption>floor</caption>\n",
       "  <thead>\n",
       "  </thead>\n",
       "  <tbody>\n",
       "    <tr>\n",
       "      <td id=\"T_fd83f_row0_col0\" class=\"data row0 col0\" >Values</td>\n",
       "      <td id=\"T_fd83f_row0_col1\" class=\"data row0 col1\" >23 699 (100%)</td>\n",
       "      <td id=\"T_fd83f_row0_col2\" class=\"data row0 col2\" >                              </td>\n",
       "      <td id=\"T_fd83f_row0_col3\" class=\"data row0 col3\" >Max</td>\n",
       "      <td id=\"T_fd83f_row0_col4\" class=\"data row0 col4\" >33</td>\n",
       "      <td id=\"T_fd83f_row0_col5\" class=\"data row0 col5\" >                              </td>\n",
       "      <td id=\"T_fd83f_row0_col6\" class=\"data row0 col6\" >Avg</td>\n",
       "      <td id=\"T_fd83f_row0_col7\" class=\"data row0 col7\" >5.89</td>\n",
       "      <td id=\"T_fd83f_row0_col8\" class=\"data row0 col8\" >                              </td>\n",
       "      <td id=\"T_fd83f_row0_col9\" class=\"data row0 col9\" >2 (14%)</td>\n",
       "    </tr>\n",
       "    <tr>\n",
       "      <td id=\"T_fd83f_row1_col0\" class=\"data row1 col0\" >Missing</td>\n",
       "      <td id=\"T_fd83f_row1_col1\" class=\"data row1 col1\" >---</td>\n",
       "      <td id=\"T_fd83f_row1_col2\" class=\"data row1 col2\" >                              </td>\n",
       "      <td id=\"T_fd83f_row1_col3\" class=\"data row1 col3\" >95%</td>\n",
       "      <td id=\"T_fd83f_row1_col4\" class=\"data row1 col4\" >16</td>\n",
       "      <td id=\"T_fd83f_row1_col5\" class=\"data row1 col5\" >                              </td>\n",
       "      <td id=\"T_fd83f_row1_col6\" class=\"data row1 col6\" >Mode</td>\n",
       "      <td id=\"T_fd83f_row1_col7\" class=\"data row1 col7\" >2</td>\n",
       "      <td id=\"T_fd83f_row1_col8\" class=\"data row1 col8\" >                              </td>\n",
       "      <td id=\"T_fd83f_row1_col9\" class=\"data row1 col9\" >3 (13%)</td>\n",
       "    </tr>\n",
       "    <tr>\n",
       "      <td id=\"T_fd83f_row2_col0\" class=\"data row2 col0\" >Distinct</td>\n",
       "      <td id=\"T_fd83f_row2_col1\" class=\"data row2 col1\" >33 (<1%)</td>\n",
       "      <td id=\"T_fd83f_row2_col2\" class=\"data row2 col2\" >                              </td>\n",
       "      <td id=\"T_fd83f_row2_col3\" class=\"data row2 col3\" >75%</td>\n",
       "      <td id=\"T_fd83f_row2_col4\" class=\"data row2 col4\" >8</td>\n",
       "      <td id=\"T_fd83f_row2_col5\" class=\"data row2 col5\" >                              </td>\n",
       "      <td id=\"T_fd83f_row2_col6\" class=\"data row2 col6\" >Range</td>\n",
       "      <td id=\"T_fd83f_row2_col7\" class=\"data row2 col7\" >32</td>\n",
       "      <td id=\"T_fd83f_row2_col8\" class=\"data row2 col8\" >                              </td>\n",
       "      <td id=\"T_fd83f_row2_col9\" class=\"data row2 col9\" >1 (12%)</td>\n",
       "    </tr>\n",
       "    <tr>\n",
       "      <td id=\"T_fd83f_row3_col0\" class=\"data row3 col0\" >Duplicates</td>\n",
       "      <td id=\"T_fd83f_row3_col1\" class=\"data row3 col1\" >23 666 (99.9%)</td>\n",
       "      <td id=\"T_fd83f_row3_col2\" class=\"data row3 col2\" >                              </td>\n",
       "      <td id=\"T_fd83f_row3_col3\" class=\"data row3 col3\" >Median</td>\n",
       "      <td id=\"T_fd83f_row3_col4\" class=\"data row3 col4\" >4</td>\n",
       "      <td id=\"T_fd83f_row3_col5\" class=\"data row3 col5\" >                              </td>\n",
       "      <td id=\"T_fd83f_row3_col6\" class=\"data row3 col6\" >iQR</td>\n",
       "      <td id=\"T_fd83f_row3_col7\" class=\"data row3 col7\" >6</td>\n",
       "      <td id=\"T_fd83f_row3_col8\" class=\"data row3 col8\" >                              </td>\n",
       "      <td id=\"T_fd83f_row3_col9\" class=\"data row3 col9\" >4 (12%)</td>\n",
       "    </tr>\n",
       "    <tr>\n",
       "      <td id=\"T_fd83f_row4_col0\" class=\"data row4 col0\" >Zeros</td>\n",
       "      <td id=\"T_fd83f_row4_col1\" class=\"data row4 col1\" >---</td>\n",
       "      <td id=\"T_fd83f_row4_col2\" class=\"data row4 col2\" >                              </td>\n",
       "      <td id=\"T_fd83f_row4_col3\" class=\"data row4 col3\" >25%</td>\n",
       "      <td id=\"T_fd83f_row4_col4\" class=\"data row4 col4\" >2</td>\n",
       "      <td id=\"T_fd83f_row4_col5\" class=\"data row4 col5\" >                              </td>\n",
       "      <td id=\"T_fd83f_row4_col6\" class=\"data row4 col6\" >std</td>\n",
       "      <td id=\"T_fd83f_row4_col7\" class=\"data row4 col7\" >4.89</td>\n",
       "      <td id=\"T_fd83f_row4_col8\" class=\"data row4 col8\" >                              </td>\n",
       "      <td id=\"T_fd83f_row4_col9\" class=\"data row4 col9\" >5 (11%)</td>\n",
       "    </tr>\n",
       "    <tr>\n",
       "      <td id=\"T_fd83f_row5_col0\" class=\"data row5 col0\" >Negative</td>\n",
       "      <td id=\"T_fd83f_row5_col1\" class=\"data row5 col1\" >---</td>\n",
       "      <td id=\"T_fd83f_row5_col2\" class=\"data row5 col2\" >                              </td>\n",
       "      <td id=\"T_fd83f_row5_col3\" class=\"data row5 col3\" >5%</td>\n",
       "      <td id=\"T_fd83f_row5_col4\" class=\"data row5 col4\" >1</td>\n",
       "      <td id=\"T_fd83f_row5_col5\" class=\"data row5 col5\" >                              </td>\n",
       "      <td id=\"T_fd83f_row5_col6\" class=\"data row5 col6\" >kurt</td>\n",
       "      <td id=\"T_fd83f_row5_col7\" class=\"data row5 col7\" >2.33</td>\n",
       "      <td id=\"T_fd83f_row5_col8\" class=\"data row5 col8\" >                              </td>\n",
       "      <td id=\"T_fd83f_row5_col9\" class=\"data row5 col9\" >6 (6%)</td>\n",
       "    </tr>\n",
       "    <tr>\n",
       "      <td id=\"T_fd83f_row6_col0\" class=\"data row6 col0\" >RAM (Mb)</td>\n",
       "      <td id=\"T_fd83f_row6_col1\" class=\"data row6 col1\" ><1 Mb</td>\n",
       "      <td id=\"T_fd83f_row6_col2\" class=\"data row6 col2\" >                              </td>\n",
       "      <td id=\"T_fd83f_row6_col3\" class=\"data row6 col3\" >Min</td>\n",
       "      <td id=\"T_fd83f_row6_col4\" class=\"data row6 col4\" >1</td>\n",
       "      <td id=\"T_fd83f_row6_col5\" class=\"data row6 col5\" >                              </td>\n",
       "      <td id=\"T_fd83f_row6_col6\" class=\"data row6 col6\" >skew</td>\n",
       "      <td id=\"T_fd83f_row6_col7\" class=\"data row6 col7\" >1.55</td>\n",
       "      <td id=\"T_fd83f_row6_col8\" class=\"data row6 col8\" >                              </td>\n",
       "      <td id=\"T_fd83f_row6_col9\" class=\"data row6 col9\" >7 (5%)</td>\n",
       "    </tr>\n",
       "  </tbody>\n",
       "</table>\n",
       "\n",
       "            <div>\n",
       "                <img src=\"data:image/png;base64,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\" alt=\"График\"/>\n",
       "            </div>\n",
       "        </div>\n",
       "        "
      ],
      "text/plain": [
       "<IPython.core.display.HTML object>"
      ]
     },
     "metadata": {},
     "output_type": "display_data"
    }
   ],
   "source": [
    "next(gen)"
   ]
  },
  {
   "cell_type": "markdown",
   "metadata": {},
   "source": [
    "**Наблюдения:**\n",
    "- Больше всего квартир с 1 по 5 этаж. Это логично, учитывая, что у нас больше всего пятиэтажек."
   ]
  },
  {
   "cell_type": "code",
   "execution_count": 374,
   "metadata": {},
   "outputs": [
    {
     "data": {
      "text/html": [
       "\n",
       "        <div style=\"display: flex; justify-content: flex-start; align-items: flex-end;\">\n",
       "            <style type=\"text/css\">\n",
       "#T_fc45f caption {\n",
       "  font-size: 16px;\n",
       "  text-align: left;\n",
       "  font-weight: bold;\n",
       "}\n",
       "#T_fc45f_row0_col0, #T_fc45f_row0_col1, #T_fc45f_row0_col2, #T_fc45f_row0_col3, #T_fc45f_row0_col4, #T_fc45f_row0_col5, #T_fc45f_row0_col6, #T_fc45f_row0_col7, #T_fc45f_row0_col8, #T_fc45f_row0_col9, #T_fc45f_row1_col0, #T_fc45f_row1_col1, #T_fc45f_row1_col2, #T_fc45f_row1_col3, #T_fc45f_row1_col4, #T_fc45f_row1_col5, #T_fc45f_row1_col6, #T_fc45f_row1_col7, #T_fc45f_row1_col8, #T_fc45f_row1_col9, #T_fc45f_row2_col0, #T_fc45f_row2_col1, #T_fc45f_row2_col2, #T_fc45f_row2_col3, #T_fc45f_row2_col4, #T_fc45f_row2_col5, #T_fc45f_row2_col6, #T_fc45f_row2_col7, #T_fc45f_row2_col8, #T_fc45f_row2_col9, #T_fc45f_row3_col0, #T_fc45f_row3_col1, #T_fc45f_row3_col2, #T_fc45f_row3_col3, #T_fc45f_row3_col4, #T_fc45f_row3_col5, #T_fc45f_row3_col6, #T_fc45f_row3_col7, #T_fc45f_row3_col8, #T_fc45f_row3_col9, #T_fc45f_row4_col0, #T_fc45f_row4_col1, #T_fc45f_row4_col2, #T_fc45f_row4_col3, #T_fc45f_row4_col4, #T_fc45f_row4_col5, #T_fc45f_row4_col6, #T_fc45f_row4_col7, #T_fc45f_row4_col8, #T_fc45f_row4_col9, #T_fc45f_row5_col0, #T_fc45f_row5_col1, #T_fc45f_row5_col2, #T_fc45f_row5_col3, #T_fc45f_row5_col4, #T_fc45f_row5_col5, #T_fc45f_row5_col6, #T_fc45f_row5_col7, #T_fc45f_row5_col8, #T_fc45f_row5_col9, #T_fc45f_row6_col0, #T_fc45f_row6_col1, #T_fc45f_row6_col2, #T_fc45f_row6_col3, #T_fc45f_row6_col4, #T_fc45f_row6_col5, #T_fc45f_row6_col6, #T_fc45f_row6_col7, #T_fc45f_row6_col8, #T_fc45f_row6_col9 {\n",
       "  text-align: left;\n",
       "}\n",
       "</style>\n",
       "<table id=\"T_fc45f\">\n",
       "  <caption>kitchen_area</caption>\n",
       "  <thead>\n",
       "  </thead>\n",
       "  <tbody>\n",
       "    <tr>\n",
       "      <td id=\"T_fc45f_row0_col0\" class=\"data row0 col0\" >Values</td>\n",
       "      <td id=\"T_fc45f_row0_col1\" class=\"data row0 col1\" >21 421 (90%)</td>\n",
       "      <td id=\"T_fc45f_row0_col2\" class=\"data row0 col2\" >                              </td>\n",
       "      <td id=\"T_fc45f_row0_col3\" class=\"data row0 col3\" >Max</td>\n",
       "      <td id=\"T_fc45f_row0_col4\" class=\"data row0 col4\" >112</td>\n",
       "      <td id=\"T_fc45f_row0_col5\" class=\"data row0 col5\" >                              </td>\n",
       "      <td id=\"T_fc45f_row0_col6\" class=\"data row0 col6\" >Avg</td>\n",
       "      <td id=\"T_fc45f_row0_col7\" class=\"data row0 col7\" >10.57</td>\n",
       "      <td id=\"T_fc45f_row0_col8\" class=\"data row0 col8\" >                              </td>\n",
       "      <td id=\"T_fc45f_row0_col9\" class=\"data row0 col9\" >6 (6%)</td>\n",
       "    </tr>\n",
       "    <tr>\n",
       "      <td id=\"T_fc45f_row1_col0\" class=\"data row1 col0\" >Missing</td>\n",
       "      <td id=\"T_fc45f_row1_col1\" class=\"data row1 col1\" >2 278 (10%)</td>\n",
       "      <td id=\"T_fc45f_row1_col2\" class=\"data row1 col2\" >                              </td>\n",
       "      <td id=\"T_fc45f_row1_col3\" class=\"data row1 col3\" >95%</td>\n",
       "      <td id=\"T_fc45f_row1_col4\" class=\"data row1 col4\" >20</td>\n",
       "      <td id=\"T_fc45f_row1_col5\" class=\"data row1 col5\" >                              </td>\n",
       "      <td id=\"T_fc45f_row1_col6\" class=\"data row1 col6\" >Mode</td>\n",
       "      <td id=\"T_fc45f_row1_col7\" class=\"data row1 col7\" >6</td>\n",
       "      <td id=\"T_fc45f_row1_col8\" class=\"data row1 col8\" >                              </td>\n",
       "      <td id=\"T_fc45f_row1_col9\" class=\"data row1 col9\" >10 (6%)</td>\n",
       "    </tr>\n",
       "    <tr>\n",
       "      <td id=\"T_fc45f_row2_col0\" class=\"data row2 col0\" >Distinct</td>\n",
       "      <td id=\"T_fc45f_row2_col1\" class=\"data row2 col1\" >971 (4%)</td>\n",
       "      <td id=\"T_fc45f_row2_col2\" class=\"data row2 col2\" >                              </td>\n",
       "      <td id=\"T_fc45f_row2_col3\" class=\"data row2 col3\" >75%</td>\n",
       "      <td id=\"T_fc45f_row2_col4\" class=\"data row2 col4\" >12</td>\n",
       "      <td id=\"T_fc45f_row2_col5\" class=\"data row2 col5\" >                              </td>\n",
       "      <td id=\"T_fc45f_row2_col6\" class=\"data row2 col6\" >Range</td>\n",
       "      <td id=\"T_fc45f_row2_col7\" class=\"data row2 col7\" >110.7</td>\n",
       "      <td id=\"T_fc45f_row2_col8\" class=\"data row2 col8\" >                              </td>\n",
       "      <td id=\"T_fc45f_row2_col9\" class=\"data row2 col9\" >8 (5%)</td>\n",
       "    </tr>\n",
       "    <tr>\n",
       "      <td id=\"T_fc45f_row3_col0\" class=\"data row3 col0\" >Duplicates</td>\n",
       "      <td id=\"T_fc45f_row3_col1\" class=\"data row3 col1\" >22 727 (96%)</td>\n",
       "      <td id=\"T_fc45f_row3_col2\" class=\"data row3 col2\" >                              </td>\n",
       "      <td id=\"T_fc45f_row3_col3\" class=\"data row3 col3\" >Median</td>\n",
       "      <td id=\"T_fc45f_row3_col4\" class=\"data row3 col4\" >9.1</td>\n",
       "      <td id=\"T_fc45f_row3_col5\" class=\"data row3 col5\" >                              </td>\n",
       "      <td id=\"T_fc45f_row3_col6\" class=\"data row3 col6\" >iQR</td>\n",
       "      <td id=\"T_fc45f_row3_col7\" class=\"data row3 col7\" >5</td>\n",
       "      <td id=\"T_fc45f_row3_col8\" class=\"data row3 col8\" >                              </td>\n",
       "      <td id=\"T_fc45f_row3_col9\" class=\"data row3 col9\" >9 (5%)</td>\n",
       "    </tr>\n",
       "    <tr>\n",
       "      <td id=\"T_fc45f_row4_col0\" class=\"data row4 col0\" >Zeros</td>\n",
       "      <td id=\"T_fc45f_row4_col1\" class=\"data row4 col1\" >---</td>\n",
       "      <td id=\"T_fc45f_row4_col2\" class=\"data row4 col2\" >                              </td>\n",
       "      <td id=\"T_fc45f_row4_col3\" class=\"data row4 col3\" >25%</td>\n",
       "      <td id=\"T_fc45f_row4_col4\" class=\"data row4 col4\" >7</td>\n",
       "      <td id=\"T_fc45f_row4_col5\" class=\"data row4 col5\" >                              </td>\n",
       "      <td id=\"T_fc45f_row4_col6\" class=\"data row4 col6\" >std</td>\n",
       "      <td id=\"T_fc45f_row4_col7\" class=\"data row4 col7\" >5.91</td>\n",
       "      <td id=\"T_fc45f_row4_col8\" class=\"data row4 col8\" >                              </td>\n",
       "      <td id=\"T_fc45f_row4_col9\" class=\"data row4 col9\" >7 (5%)</td>\n",
       "    </tr>\n",
       "    <tr>\n",
       "      <td id=\"T_fc45f_row5_col0\" class=\"data row5 col0\" >Negative</td>\n",
       "      <td id=\"T_fc45f_row5_col1\" class=\"data row5 col1\" >---</td>\n",
       "      <td id=\"T_fc45f_row5_col2\" class=\"data row5 col2\" >                              </td>\n",
       "      <td id=\"T_fc45f_row5_col3\" class=\"data row5 col3\" >5%</td>\n",
       "      <td id=\"T_fc45f_row5_col4\" class=\"data row5 col4\" >5.5</td>\n",
       "      <td id=\"T_fc45f_row5_col5\" class=\"data row5 col5\" >                              </td>\n",
       "      <td id=\"T_fc45f_row5_col6\" class=\"data row5 col6\" >kurt</td>\n",
       "      <td id=\"T_fc45f_row5_col7\" class=\"data row5 col7\" >33.76</td>\n",
       "      <td id=\"T_fc45f_row5_col8\" class=\"data row5 col8\" >                              </td>\n",
       "      <td id=\"T_fc45f_row5_col9\" class=\"data row5 col9\" >11 (4%)</td>\n",
       "    </tr>\n",
       "    <tr>\n",
       "      <td id=\"T_fc45f_row6_col0\" class=\"data row6 col0\" >RAM (Mb)</td>\n",
       "      <td id=\"T_fc45f_row6_col1\" class=\"data row6 col1\" ><1 Mb</td>\n",
       "      <td id=\"T_fc45f_row6_col2\" class=\"data row6 col2\" >                              </td>\n",
       "      <td id=\"T_fc45f_row6_col3\" class=\"data row6 col3\" >Min</td>\n",
       "      <td id=\"T_fc45f_row6_col4\" class=\"data row6 col4\" >1.3</td>\n",
       "      <td id=\"T_fc45f_row6_col5\" class=\"data row6 col5\" >                              </td>\n",
       "      <td id=\"T_fc45f_row6_col6\" class=\"data row6 col6\" >skew</td>\n",
       "      <td id=\"T_fc45f_row6_col7\" class=\"data row6 col7\" >4.21</td>\n",
       "      <td id=\"T_fc45f_row6_col8\" class=\"data row6 col8\" >                              </td>\n",
       "      <td id=\"T_fc45f_row6_col9\" class=\"data row6 col9\" >12 (3%)</td>\n",
       "    </tr>\n",
       "  </tbody>\n",
       "</table>\n",
       "\n",
       "            <div>\n",
       "                <img src=\"data:image/png;base64,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\" alt=\"График\"/>\n",
       "            </div>\n",
       "        </div>\n",
       "        "
      ],
      "text/plain": [
       "<IPython.core.display.HTML object>"
      ]
     },
     "metadata": {},
     "output_type": "display_data"
    }
   ],
   "source": [
    "next(gen)"
   ]
  },
  {
   "cell_type": "markdown",
   "metadata": {},
   "source": [
    "**Наблюдения:**\n",
    "- В площади кухни 10 процентов пропусков.  \n",
    "- Нужно проверить опять же максимальные и минимальные кухонные площади."
   ]
  },
  {
   "cell_type": "code",
   "execution_count": 375,
   "metadata": {},
   "outputs": [
    {
     "data": {
      "text/html": [
       "\n",
       "        <div style=\"display: flex; justify-content: flex-start; align-items: flex-end;\">\n",
       "            <style type=\"text/css\">\n",
       "#T_5d184 caption {\n",
       "  font-size: 16px;\n",
       "  text-align: left;\n",
       "  font-weight: bold;\n",
       "}\n",
       "#T_5d184_row0_col0, #T_5d184_row0_col1, #T_5d184_row0_col2, #T_5d184_row0_col3, #T_5d184_row0_col4, #T_5d184_row0_col5, #T_5d184_row0_col6, #T_5d184_row0_col7, #T_5d184_row0_col8, #T_5d184_row0_col9, #T_5d184_row1_col0, #T_5d184_row1_col1, #T_5d184_row1_col2, #T_5d184_row1_col3, #T_5d184_row1_col4, #T_5d184_row1_col5, #T_5d184_row1_col6, #T_5d184_row1_col7, #T_5d184_row1_col8, #T_5d184_row1_col9, #T_5d184_row2_col0, #T_5d184_row2_col1, #T_5d184_row2_col2, #T_5d184_row2_col3, #T_5d184_row2_col4, #T_5d184_row2_col5, #T_5d184_row2_col6, #T_5d184_row2_col7, #T_5d184_row2_col8, #T_5d184_row2_col9, #T_5d184_row3_col0, #T_5d184_row3_col1, #T_5d184_row3_col2, #T_5d184_row3_col3, #T_5d184_row3_col4, #T_5d184_row3_col5, #T_5d184_row3_col6, #T_5d184_row3_col7, #T_5d184_row3_col8, #T_5d184_row3_col9, #T_5d184_row4_col0, #T_5d184_row4_col1, #T_5d184_row4_col2, #T_5d184_row4_col3, #T_5d184_row4_col4, #T_5d184_row4_col5, #T_5d184_row4_col6, #T_5d184_row4_col7, #T_5d184_row4_col8, #T_5d184_row4_col9, #T_5d184_row5_col0, #T_5d184_row5_col1, #T_5d184_row5_col2, #T_5d184_row5_col3, #T_5d184_row5_col4, #T_5d184_row5_col5, #T_5d184_row5_col6, #T_5d184_row5_col7, #T_5d184_row5_col8, #T_5d184_row5_col9, #T_5d184_row6_col0, #T_5d184_row6_col1, #T_5d184_row6_col2, #T_5d184_row6_col3, #T_5d184_row6_col4, #T_5d184_row6_col5, #T_5d184_row6_col6, #T_5d184_row6_col7, #T_5d184_row6_col8, #T_5d184_row6_col9 {\n",
       "  text-align: left;\n",
       "}\n",
       "</style>\n",
       "<table id=\"T_5d184\">\n",
       "  <caption>balcony</caption>\n",
       "  <thead>\n",
       "  </thead>\n",
       "  <tbody>\n",
       "    <tr>\n",
       "      <td id=\"T_5d184_row0_col0\" class=\"data row0 col0\" >Values</td>\n",
       "      <td id=\"T_5d184_row0_col1\" class=\"data row0 col1\" >12 180 (51%)</td>\n",
       "      <td id=\"T_5d184_row0_col2\" class=\"data row0 col2\" >                              </td>\n",
       "      <td id=\"T_5d184_row0_col3\" class=\"data row0 col3\" >Max</td>\n",
       "      <td id=\"T_5d184_row0_col4\" class=\"data row0 col4\" >5</td>\n",
       "      <td id=\"T_5d184_row0_col5\" class=\"data row0 col5\" >                              </td>\n",
       "      <td id=\"T_5d184_row0_col6\" class=\"data row0 col6\" >Avg</td>\n",
       "      <td id=\"T_5d184_row0_col7\" class=\"data row0 col7\" >1.15</td>\n",
       "      <td id=\"T_5d184_row0_col8\" class=\"data row0 col8\" >                              </td>\n",
       "      <td id=\"T_5d184_row0_col9\" class=\"data row0 col9\" >1 (34%)</td>\n",
       "    </tr>\n",
       "    <tr>\n",
       "      <td id=\"T_5d184_row1_col0\" class=\"data row1 col0\" >Missing</td>\n",
       "      <td id=\"T_5d184_row1_col1\" class=\"data row1 col1\" >11 519 (49%)</td>\n",
       "      <td id=\"T_5d184_row1_col2\" class=\"data row1 col2\" >                              </td>\n",
       "      <td id=\"T_5d184_row1_col3\" class=\"data row1 col3\" >95%</td>\n",
       "      <td id=\"T_5d184_row1_col4\" class=\"data row1 col4\" >2</td>\n",
       "      <td id=\"T_5d184_row1_col5\" class=\"data row1 col5\" >                              </td>\n",
       "      <td id=\"T_5d184_row1_col6\" class=\"data row1 col6\" >Mode</td>\n",
       "      <td id=\"T_5d184_row1_col7\" class=\"data row1 col7\" >1</td>\n",
       "      <td id=\"T_5d184_row1_col8\" class=\"data row1 col8\" >                              </td>\n",
       "      <td id=\"T_5d184_row1_col9\" class=\"data row1 col9\" >0 (31%)</td>\n",
       "    </tr>\n",
       "    <tr>\n",
       "      <td id=\"T_5d184_row2_col0\" class=\"data row2 col0\" >Distinct</td>\n",
       "      <td id=\"T_5d184_row2_col1\" class=\"data row2 col1\" >6 (<1%)</td>\n",
       "      <td id=\"T_5d184_row2_col2\" class=\"data row2 col2\" >                              </td>\n",
       "      <td id=\"T_5d184_row2_col3\" class=\"data row2 col3\" >75%</td>\n",
       "      <td id=\"T_5d184_row2_col4\" class=\"data row2 col4\" >2</td>\n",
       "      <td id=\"T_5d184_row2_col5\" class=\"data row2 col5\" >                              </td>\n",
       "      <td id=\"T_5d184_row2_col6\" class=\"data row2 col6\" >Range</td>\n",
       "      <td id=\"T_5d184_row2_col7\" class=\"data row2 col7\" >5</td>\n",
       "      <td id=\"T_5d184_row2_col8\" class=\"data row2 col8\" >                              </td>\n",
       "      <td id=\"T_5d184_row2_col9\" class=\"data row2 col9\" >2 (30%)</td>\n",
       "    </tr>\n",
       "    <tr>\n",
       "      <td id=\"T_5d184_row3_col0\" class=\"data row3 col0\" >Duplicates</td>\n",
       "      <td id=\"T_5d184_row3_col1\" class=\"data row3 col1\" >23 692 (99.9%)</td>\n",
       "      <td id=\"T_5d184_row3_col2\" class=\"data row3 col2\" >                              </td>\n",
       "      <td id=\"T_5d184_row3_col3\" class=\"data row3 col3\" >Median</td>\n",
       "      <td id=\"T_5d184_row3_col4\" class=\"data row3 col4\" >1</td>\n",
       "      <td id=\"T_5d184_row3_col5\" class=\"data row3 col5\" >                              </td>\n",
       "      <td id=\"T_5d184_row3_col6\" class=\"data row3 col6\" >iQR</td>\n",
       "      <td id=\"T_5d184_row3_col7\" class=\"data row3 col7\" >2</td>\n",
       "      <td id=\"T_5d184_row3_col8\" class=\"data row3 col8\" >                              </td>\n",
       "      <td id=\"T_5d184_row3_col9\" class=\"data row3 col9\" >5 (2%)</td>\n",
       "    </tr>\n",
       "    <tr>\n",
       "      <td id=\"T_5d184_row4_col0\" class=\"data row4 col0\" >Zeros</td>\n",
       "      <td id=\"T_5d184_row4_col1\" class=\"data row4 col1\" >3 758 (16%)</td>\n",
       "      <td id=\"T_5d184_row4_col2\" class=\"data row4 col2\" >                              </td>\n",
       "      <td id=\"T_5d184_row4_col3\" class=\"data row4 col3\" >25%</td>\n",
       "      <td id=\"T_5d184_row4_col4\" class=\"data row4 col4\" >0</td>\n",
       "      <td id=\"T_5d184_row4_col5\" class=\"data row4 col5\" >                              </td>\n",
       "      <td id=\"T_5d184_row4_col6\" class=\"data row4 col6\" >std</td>\n",
       "      <td id=\"T_5d184_row4_col7\" class=\"data row4 col7\" >1.07</td>\n",
       "      <td id=\"T_5d184_row4_col8\" class=\"data row4 col8\" >                              </td>\n",
       "      <td id=\"T_5d184_row4_col9\" class=\"data row4 col9\" >4 (2%)</td>\n",
       "    </tr>\n",
       "    <tr>\n",
       "      <td id=\"T_5d184_row5_col0\" class=\"data row5 col0\" >Negative</td>\n",
       "      <td id=\"T_5d184_row5_col1\" class=\"data row5 col1\" >---</td>\n",
       "      <td id=\"T_5d184_row5_col2\" class=\"data row5 col2\" >                              </td>\n",
       "      <td id=\"T_5d184_row5_col3\" class=\"data row5 col3\" >5%</td>\n",
       "      <td id=\"T_5d184_row5_col4\" class=\"data row5 col4\" >0</td>\n",
       "      <td id=\"T_5d184_row5_col5\" class=\"data row5 col5\" >                              </td>\n",
       "      <td id=\"T_5d184_row5_col6\" class=\"data row5 col6\" >kurt</td>\n",
       "      <td id=\"T_5d184_row5_col7\" class=\"data row5 col7\" >2.51</td>\n",
       "      <td id=\"T_5d184_row5_col8\" class=\"data row5 col8\" >                              </td>\n",
       "      <td id=\"T_5d184_row5_col9\" class=\"data row5 col9\" >3 <1%</td>\n",
       "    </tr>\n",
       "    <tr>\n",
       "      <td id=\"T_5d184_row6_col0\" class=\"data row6 col0\" >RAM (Mb)</td>\n",
       "      <td id=\"T_5d184_row6_col1\" class=\"data row6 col1\" ><1 Mb</td>\n",
       "      <td id=\"T_5d184_row6_col2\" class=\"data row6 col2\" >                              </td>\n",
       "      <td id=\"T_5d184_row6_col3\" class=\"data row6 col3\" >Min</td>\n",
       "      <td id=\"T_5d184_row6_col4\" class=\"data row6 col4\" >0</td>\n",
       "      <td id=\"T_5d184_row6_col5\" class=\"data row6 col5\" >                              </td>\n",
       "      <td id=\"T_5d184_row6_col6\" class=\"data row6 col6\" >skew</td>\n",
       "      <td id=\"T_5d184_row6_col7\" class=\"data row6 col7\" >1.24</td>\n",
       "      <td id=\"T_5d184_row6_col8\" class=\"data row6 col8\" >                              </td>\n",
       "      <td id=\"T_5d184_row6_col9\" class=\"data row6 col9\" >nan</td>\n",
       "    </tr>\n",
       "  </tbody>\n",
       "</table>\n",
       "\n",
       "            <div>\n",
       "                <img src=\"data:image/png;base64,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\" alt=\"График\"/>\n",
       "            </div>\n",
       "        </div>\n",
       "        "
      ],
      "text/plain": [
       "<IPython.core.display.HTML object>"
      ]
     },
     "metadata": {},
     "output_type": "display_data"
    }
   ],
   "source": [
    "next(gen)"
   ]
  },
  {
   "cell_type": "markdown",
   "metadata": {},
   "source": [
    "**Наблюдения:**\n",
    "- В числе балконов 49 прцоентов пропусков. Скорее всего пропуски это отсутствие балкона.  \n",
    "- Треть квартир без балковнов, также по трети квартир с 1 и 2 балконами."
   ]
  },
  {
   "cell_type": "code",
   "execution_count": 376,
   "metadata": {},
   "outputs": [
    {
     "data": {
      "text/html": [
       "\n",
       "        <div style=\"display: flex; justify-content: flex-start; align-items: flex-end;\">\n",
       "            <style type=\"text/css\">\n",
       "#T_1c9f7 caption {\n",
       "  font-size: 16px;\n",
       "  text-align: left;\n",
       "  font-weight: bold;\n",
       "}\n",
       "#T_1c9f7_row0_col0, #T_1c9f7_row0_col1, #T_1c9f7_row0_col2, #T_1c9f7_row0_col3, #T_1c9f7_row0_col4, #T_1c9f7_row0_col5, #T_1c9f7_row0_col6, #T_1c9f7_row0_col7, #T_1c9f7_row0_col8, #T_1c9f7_row0_col9, #T_1c9f7_row1_col0, #T_1c9f7_row1_col1, #T_1c9f7_row1_col2, #T_1c9f7_row1_col3, #T_1c9f7_row1_col4, #T_1c9f7_row1_col5, #T_1c9f7_row1_col6, #T_1c9f7_row1_col7, #T_1c9f7_row1_col8, #T_1c9f7_row1_col9, #T_1c9f7_row2_col0, #T_1c9f7_row2_col1, #T_1c9f7_row2_col2, #T_1c9f7_row2_col3, #T_1c9f7_row2_col4, #T_1c9f7_row2_col5, #T_1c9f7_row2_col6, #T_1c9f7_row2_col7, #T_1c9f7_row2_col8, #T_1c9f7_row2_col9, #T_1c9f7_row3_col0, #T_1c9f7_row3_col1, #T_1c9f7_row3_col2, #T_1c9f7_row3_col3, #T_1c9f7_row3_col4, #T_1c9f7_row3_col5, #T_1c9f7_row3_col6, #T_1c9f7_row3_col7, #T_1c9f7_row3_col8, #T_1c9f7_row3_col9, #T_1c9f7_row4_col0, #T_1c9f7_row4_col1, #T_1c9f7_row4_col2, #T_1c9f7_row4_col3, #T_1c9f7_row4_col4, #T_1c9f7_row4_col5, #T_1c9f7_row4_col6, #T_1c9f7_row4_col7, #T_1c9f7_row4_col8, #T_1c9f7_row4_col9, #T_1c9f7_row5_col0, #T_1c9f7_row5_col1, #T_1c9f7_row5_col2, #T_1c9f7_row5_col3, #T_1c9f7_row5_col4, #T_1c9f7_row5_col5, #T_1c9f7_row5_col6, #T_1c9f7_row5_col7, #T_1c9f7_row5_col8, #T_1c9f7_row5_col9, #T_1c9f7_row6_col0, #T_1c9f7_row6_col1, #T_1c9f7_row6_col2, #T_1c9f7_row6_col3, #T_1c9f7_row6_col4, #T_1c9f7_row6_col5, #T_1c9f7_row6_col6, #T_1c9f7_row6_col7, #T_1c9f7_row6_col8, #T_1c9f7_row6_col9 {\n",
       "  text-align: left;\n",
       "}\n",
       "</style>\n",
       "<table id=\"T_1c9f7\">\n",
       "  <caption>airports_nearest</caption>\n",
       "  <thead>\n",
       "  </thead>\n",
       "  <tbody>\n",
       "    <tr>\n",
       "      <td id=\"T_1c9f7_row0_col0\" class=\"data row0 col0\" >Values</td>\n",
       "      <td id=\"T_1c9f7_row0_col1\" class=\"data row0 col1\" >18 157 (77%)</td>\n",
       "      <td id=\"T_1c9f7_row0_col2\" class=\"data row0 col2\" >                              </td>\n",
       "      <td id=\"T_1c9f7_row0_col3\" class=\"data row0 col3\" >Max</td>\n",
       "      <td id=\"T_1c9f7_row0_col4\" class=\"data row0 col4\" >84 869</td>\n",
       "      <td id=\"T_1c9f7_row0_col5\" class=\"data row0 col5\" >                              </td>\n",
       "      <td id=\"T_1c9f7_row0_col6\" class=\"data row0 col6\" >Avg</td>\n",
       "      <td id=\"T_1c9f7_row0_col7\" class=\"data row0 col7\" >28 793.67</td>\n",
       "      <td id=\"T_1c9f7_row0_col8\" class=\"data row0 col8\" >                              </td>\n",
       "      <td id=\"T_1c9f7_row0_col9\" class=\"data row0 col9\" >37 434 <1%</td>\n",
       "    </tr>\n",
       "    <tr>\n",
       "      <td id=\"T_1c9f7_row1_col0\" class=\"data row1 col0\" >Missing</td>\n",
       "      <td id=\"T_1c9f7_row1_col1\" class=\"data row1 col1\" >5 542 (23%)</td>\n",
       "      <td id=\"T_1c9f7_row1_col2\" class=\"data row1 col2\" >                              </td>\n",
       "      <td id=\"T_1c9f7_row1_col3\" class=\"data row1 col3\" >95%</td>\n",
       "      <td id=\"T_1c9f7_row1_col4\" class=\"data row1 col4\" >51 340</td>\n",
       "      <td id=\"T_1c9f7_row1_col5\" class=\"data row1 col5\" >                              </td>\n",
       "      <td id=\"T_1c9f7_row1_col6\" class=\"data row1 col6\" >Mode</td>\n",
       "      <td id=\"T_1c9f7_row1_col7\" class=\"data row1 col7\" >37 434</td>\n",
       "      <td id=\"T_1c9f7_row1_col8\" class=\"data row1 col8\" >                              </td>\n",
       "      <td id=\"T_1c9f7_row1_col9\" class=\"data row1 col9\" >21 928 <1%</td>\n",
       "    </tr>\n",
       "    <tr>\n",
       "      <td id=\"T_1c9f7_row2_col0\" class=\"data row2 col0\" >Distinct</td>\n",
       "      <td id=\"T_1c9f7_row2_col1\" class=\"data row2 col1\" >8 275 (35%)</td>\n",
       "      <td id=\"T_1c9f7_row2_col2\" class=\"data row2 col2\" >                              </td>\n",
       "      <td id=\"T_1c9f7_row2_col3\" class=\"data row2 col3\" >75%</td>\n",
       "      <td id=\"T_1c9f7_row2_col4\" class=\"data row2 col4\" >37 273</td>\n",
       "      <td id=\"T_1c9f7_row2_col5\" class=\"data row2 col5\" >                              </td>\n",
       "      <td id=\"T_1c9f7_row2_col6\" class=\"data row2 col6\" >Range</td>\n",
       "      <td id=\"T_1c9f7_row2_col7\" class=\"data row2 col7\" >84 869</td>\n",
       "      <td id=\"T_1c9f7_row2_col8\" class=\"data row2 col8\" >                              </td>\n",
       "      <td id=\"T_1c9f7_row2_col9\" class=\"data row2 col9\" >44 870 <1%</td>\n",
       "    </tr>\n",
       "    <tr>\n",
       "      <td id=\"T_1c9f7_row3_col0\" class=\"data row3 col0\" >Duplicates</td>\n",
       "      <td id=\"T_1c9f7_row3_col1\" class=\"data row3 col1\" >15 423 (65%)</td>\n",
       "      <td id=\"T_1c9f7_row3_col2\" class=\"data row3 col2\" >                              </td>\n",
       "      <td id=\"T_1c9f7_row3_col3\" class=\"data row3 col3\" >Median</td>\n",
       "      <td id=\"T_1c9f7_row3_col4\" class=\"data row3 col4\" >26 726</td>\n",
       "      <td id=\"T_1c9f7_row3_col5\" class=\"data row3 col5\" >                              </td>\n",
       "      <td id=\"T_1c9f7_row3_col6\" class=\"data row3 col6\" >iQR</td>\n",
       "      <td id=\"T_1c9f7_row3_col7\" class=\"data row3 col7\" >18 688</td>\n",
       "      <td id=\"T_1c9f7_row3_col8\" class=\"data row3 col8\" >                              </td>\n",
       "      <td id=\"T_1c9f7_row3_col9\" class=\"data row3 col9\" >39 946 <1%</td>\n",
       "    </tr>\n",
       "    <tr>\n",
       "      <td id=\"T_1c9f7_row4_col0\" class=\"data row4 col0\" >Zeros</td>\n",
       "      <td id=\"T_1c9f7_row4_col1\" class=\"data row4 col1\" >1 (<1%)</td>\n",
       "      <td id=\"T_1c9f7_row4_col2\" class=\"data row4 col2\" >                              </td>\n",
       "      <td id=\"T_1c9f7_row4_col3\" class=\"data row4 col3\" >25%</td>\n",
       "      <td id=\"T_1c9f7_row4_col4\" class=\"data row4 col4\" >18 585</td>\n",
       "      <td id=\"T_1c9f7_row4_col5\" class=\"data row4 col5\" >                              </td>\n",
       "      <td id=\"T_1c9f7_row4_col6\" class=\"data row4 col6\" >std</td>\n",
       "      <td id=\"T_1c9f7_row4_col7\" class=\"data row4 col7\" >12 630.88</td>\n",
       "      <td id=\"T_1c9f7_row4_col8\" class=\"data row4 col8\" >                              </td>\n",
       "      <td id=\"T_1c9f7_row4_col9\" class=\"data row4 col9\" >18 732 <1%</td>\n",
       "    </tr>\n",
       "    <tr>\n",
       "      <td id=\"T_1c9f7_row5_col0\" class=\"data row5 col0\" >Negative</td>\n",
       "      <td id=\"T_1c9f7_row5_col1\" class=\"data row5 col1\" >---</td>\n",
       "      <td id=\"T_1c9f7_row5_col2\" class=\"data row5 col2\" >                              </td>\n",
       "      <td id=\"T_1c9f7_row5_col3\" class=\"data row5 col3\" >5%</td>\n",
       "      <td id=\"T_1c9f7_row5_col4\" class=\"data row5 col4\" >11 557.4</td>\n",
       "      <td id=\"T_1c9f7_row5_col5\" class=\"data row5 col5\" >                              </td>\n",
       "      <td id=\"T_1c9f7_row5_col6\" class=\"data row5 col6\" >kurt</td>\n",
       "      <td id=\"T_1c9f7_row5_col7\" class=\"data row5 col7\" >-0.29</td>\n",
       "      <td id=\"T_1c9f7_row5_col8\" class=\"data row5 col8\" >                              </td>\n",
       "      <td id=\"T_1c9f7_row5_col9\" class=\"data row5 col9\" >37 407 <1%</td>\n",
       "    </tr>\n",
       "    <tr>\n",
       "      <td id=\"T_1c9f7_row6_col0\" class=\"data row6 col0\" >RAM (Mb)</td>\n",
       "      <td id=\"T_1c9f7_row6_col1\" class=\"data row6 col1\" ><1 Mb</td>\n",
       "      <td id=\"T_1c9f7_row6_col2\" class=\"data row6 col2\" >                              </td>\n",
       "      <td id=\"T_1c9f7_row6_col3\" class=\"data row6 col3\" >Min</td>\n",
       "      <td id=\"T_1c9f7_row6_col4\" class=\"data row6 col4\" >0</td>\n",
       "      <td id=\"T_1c9f7_row6_col5\" class=\"data row6 col5\" >                              </td>\n",
       "      <td id=\"T_1c9f7_row6_col6\" class=\"data row6 col6\" >skew</td>\n",
       "      <td id=\"T_1c9f7_row6_col7\" class=\"data row6 col7\" >0.54</td>\n",
       "      <td id=\"T_1c9f7_row6_col8\" class=\"data row6 col8\" >                              </td>\n",
       "      <td id=\"T_1c9f7_row6_col9\" class=\"data row6 col9\" >39 140 <1%</td>\n",
       "    </tr>\n",
       "  </tbody>\n",
       "</table>\n",
       "\n",
       "            <div>\n",
       "                <img src=\"data:image/png;base64,iVBORw0KGgoAAAANSUhEUgAAASwAAADcCAYAAADKmJzYAAAfh0lEQVR4Xu2dCXQUVbrH/92dTkhIIgZIWESUgKiIIMoiT7bg6LhxBIIjeniMqLyRER3HgfEdtjAocRtgnBlx3J46o+MgM26oiAq4sSgoB8MAsimrYQmLIVtv73yX6UC2Ttftqqaq878ejudAfVV1f9+9v751q+qWKxQKhcBCAiRAAg4g4KKwHJAlniIJkIAiQGGxIZAACTiGAIXlmFTxREmABCgstgESIAHHEKCwHJMqnigJkACFxTZAAiTgGAIUlmNSxRMlARKgsNgGSIAEHEOAwnJMqniiJEACCSGsgoICyB8WEiCBxCZAYSV2flk7EkgoAhRWQqWTlSGBxCZAYSV2flk7EkgoAhRWQqWTlSGBxCZAYSV2flk7EkgoAhRWQqWTlSGBxCZwWoRVWlqK+fPno3nz5pgwYUI1YXk0YdGiRTWIr169Gh6PJ2IWmsJjDaWHK+Ar8xtujUkpHmS0SjUcxwASsCOBuAtrw4YNWLJkCdavX49evXph4sSJ1VxmzZqF8ePH1+CUk5PTKLemIKzirUfx4VPrG2VRe4PB47qh/YVZhuMYQAJ2JBB3YYUhTJs2DdnZ2XWEJX9vtDQFYe3ddBh/f+Azo2iQP/NydOzRynAcA0jAjgQoLDtmpZ5zorAckiiepqUEbCWs2bNnw+Vywe/3o6qqCnl5eRgyZEgNAEeOHKkDZN68eQn/ag6FZWk/4M4dQsBWwjqV2cGDBzF27FhMmjQJgwcPrv4nkVPtIhJL9HcJKSyH9CiepqUEbCssqbWMuHw+H2bMmBERQlOfwyo7XInUFilwuepi4hyWpf2HO48zAVsJa9u2bcjNza1GUFhYqIQ1ffp0CqvWpHswEETlcT+S07zwVfjgTU2CryyA5LQkuD0nzUVhxblH8XCWErCVsOSxhvBdwsrKSowePRr33HNPjUvC+mg0xRGWfP826AvCVxlAMAi43S54m3ngTnKpecBwobAs7T/ceZwJxF1YRUVFWLFihXoWKy0tDYMGDVIT6506dcLkyZNV9TMzM1FSUoL+/fsjPz+/USRNUVjBQAgVpT54ktwIIQRRVNAfQkq6lyOsRlsMN3AqgbgLywpQThLW9+sOoOijXYYwuN3AhXlnY+GMldVxaoQVCClhlR+tQuoZyQj4QnAngSMsQ3S5sZMIUFhxztaWlfvw1iNrDB3VneTGiKl9sLBgVb1xVRV+eFM8NUTFS0JDiLmxQwhQWHFOlBXCilQFzmHFOcE8nKUEKCxL8dbdOYUVZ+A8XEIRoLDinE4KK87AebiEIkBhxTmdkYTV0AOgjc1h8ZIwzknk4U4bAQorzuhrCyuaB0AprDgniYezLQEKK86pqS2saB4ApbDinCQezrYEKKw4p6buCKvxB0AprDgniYezLQEKK86pqXeE1cgDoBRWnJPEw9mWAIUV59REmnRv6AFQCivOSeLhbEuAwtJMzebP92Lrqh8MRadnNUN2p0y8O/drQ3EUliFc3DiBCVBYmsn96p0dWPZMkaHolh0y0HdkZ7w7j8IyBI4bk8B/CFBYmk2BwtIExzASiIEAhaUJj8LSBMcwEoiBAIWlCY/C0gTHMBKIgQCFpQmvIWEF/EFUlfuRmpFcZ8+cw9KEzTAS4BxWbG2gtrD8lQH4fUF4Uz3wVwSRlOyGr8KPlPTk6o9DUFixMWc0CXCEpdkGagsrFAzB7w/CXyFrrIeQ5HUjKTkJHu/J9dUpLE3YDCMBjrBiawN1Rli+AKrK/GpkFQwACMlK60CzdG/1SqAUVmzMGU0CHGFptoHawpJVF6SIpHzlASUqmc+SNdfDhcLShM0wEuAIK7Y20NCku4gr4Ae8KSdFRWHFxprRJBAmwBGWZlvgYw2a4BhGAjEQoLA04TlFWKNm9cfZ3Vtq1pJhJGAvAhSWZj6cIqybZvXHj4fKEDoxxRZ1adGmOdpfmBX19tyQBOJBgMLSpOwUYclnvt4s/AK+Crl1GX356b090W1Ih+gDuCUJxIEAhaUJmcKqH1zZkSpsX1OMitIqQ2TPyElDl8vbGorhxk2PAIWlmXMKq35wPx4sx+sPfYEDO44ZItstrwN+ek9PQzHcuOkRoLA0c05hUViaTYdhMRCgsDThJYKwyn+sQnIzDzxeTx0KN07pjdYdM+WBfUPFXxXAO3O+4gjLEDVuHC0BCitaUrW2c6qwREAVP1apl7QDVUEkNZOXtQNwJ3lqPOw6fGofrHx1M348VGGI0JA7L8Lq17ZQWIaoceNoCVBY0ZJKEGFJNeSVIVldIuAPqZUkvCkyynLD5T75oraMsJY+XYRjB8oNEbr2173w5etb6xWWr9yvXl1KTk2qs0/OYRnC3GQ3prA0U+/kEVZlqe/EW48ul3rX0VfpR3KqV724HS5mCqvyuA9ukaHbDRdCkI/HynNhyWknxUVhaTbEJhZGYWkm3KnCUiMs34lLwMrjVfA2k9UkZNzjgttjzQhLvV9ZFYSvSp5eDSEp2aP+nHo8CkuzITaxMApLM+FOFla4yr6qADwedw1xWDHCkhVYRVhurwvyX8AXhCfZg+TUk5P9FJZmQ2xiYRSWZsITQViRqh7pkjDS3cX65rBkzsztdkPuIKoRVooHoUAI8r3FcKGwNBtiEwujsDQT3tSEFe3dxUiT7iIumTqTCf7ahcLSbIhNLIzC0kx4UxNWtHcXIwkrEmoKS7MhNrGw0yKs0tJSzJ8/H82bN8eECROqkZeVleGRRx5BUlIS9u/fj1GjRmHgwIGNpqSgoADyJ56lqQlLRljR3F2ksOLZCpveseIurA0bNmDJkiVYv349evXqhYkTJ1ZTf+yxx5CVlYXbb78dhw8fRn5+Pl599VW0bt06YmYorIbx6K7WUN8cVjR3FymspieReNY47sIKV27atGnIzs6uFlYwGMTQoUPxxBNPoHv37mqzO+64A3l5ebjlllsorKl9sLBgleG2YaawwgePdHeRwjKcIgYYIGAbYe3duxfDhg3D+++/j5YtT6yQOXPmTPX/GTNmUFg2ElakZFBYBnofNzVMwDbC2rhxI8aMGYPly5cjPT1dVUQuEfft24c5c+ZQWBSW4cbNgMQjYDthLVu2DBkZGQ0K69FHH62TBZms56R7/Y3TiktCjrASTwROqZFthBW+JFy8eDFatWql+ImEPB4PZL4rXEROtYtIjMKisJzS6Xie+gRsIyyZdL/yyisxd+5c9OjRQ9Vo3LhxuOqqq3DzzTfzkpCXhPqtnJEJQ8A2wgrPWbVo0QJ33nknSkpK1GMNCxYsqB5xNUSdjzU03B55SZgwfZUVkVf0Q7LWRxxLUVERVqxYoZ7FSktLw6BBgzBkyBB06tQJcrlXWFio/r64uBgjR47EgAEDGj07CovCarSRcIOEIBB3YVlBjcKisKxoV9yn/QhQWJo5aWqv5kSLic9hRUuK2+kQoLB0qAGgsOoHR2FpNiiGRUWAwooKU92NKCwKS7PpMCwGAhSWJjwKi8LSbDoMi4EAhaUJj8KisDSbDsNiIEBhacKjsCgszabDsBgIUFia8CgsCkuz6TAsBgIUliY8CovC0mw6DIuBAIWlCY/CorA0mw7DYiBAYWnCo7AoLM2mw7AYCFBYmvAoLApLs+kwLAYCFJYmPAqLwtJsOgyLgQCFpQmPwqKwNJsOw2IgQGFpwqOwKCzNpsOwGAhQWJrwKCwKS7PpMCwGAhSWJjwKi8LSbDoMi4EAhaUJj8KisDSbDsNiIEBhacKjsCgszabDsBgIUFia8CgsCkuz6TAsBgIUliY8CovC0mw6DIuBAIWlCY/CorA0mw7DYiBAYWnCo7DMFVbPa85Br+vPheGPzrmArPbpmllkmNMIUFiaGaOwzBXWkNu74fC+4yjeetRQRtp0boEB/30+vM2SDMVxY2cSoLA080ZhmSusweO6YfuaYuxcf9BQRs7u0Qo3/m9vCssQNeduTGFp5o7CorA0mw7DYiBAYWnCo7AoLM2mw7AYCFBYmvAoLApLs+kwLAYCFJYmPAorfsLylfsRApCcWndinXNYmg3YoWEUlmbiKCzrhVV53Ae32wW43XAhhFAohFAQSE47KS4KS7MBOzSMwtJMHIVlvbCCgSACVUH4qoIAQkhK9qg/bo+r+uAUlmYDdmgYhaWZOArLemFVlfuVsNxeF+S/gC8IT7IHyakeCkuz3To9jMLSzCCFZb2wAv4g3G43/FWBEyOsFA9CgRDcSW4KS7PdOj2MwtLMIIVlvbDCRxBxyay7x3tSVOF/4yWhZgN2aBiFpZk4Cit+woqUIgpLswE7NIzC0kwchWUTYfVshRFT+sDjPTmvpZlShjmAAIWlmSQKyx7Cumx4LtIykrHzm0OGMtmiTRr6juqC9KxmhuK48eklQGFp8qew7COsssOV+Pfy3YYymX1uJm6c2gcZLVMNxXHj00uAwtLkT2FRWJpNh2ExELCVsAoKCrBo0aIa1Vm9ejU8nsjzExInf+JZKCwKK57tjcc6QcBWwpo1axbGjx9fIzc5OTmN5orCahhR/szL8WbhF/BVyLNM0Zcbp/TG0qeLcOxAefRBAK79dS98+fpWHNhxzFCc7npYMofFS0JDqB29se2ENW3aNMNAKSwKq745rEgvTXMOy3A3s0UAhaWZBl4S2veSMJqXpikszYZ/msNsJazZs2fD5XLB7/ejqqoKeXl5GDJkSA1Er7zySh1k3377LeewGmhITfGSMJqXpims02wezcPbSlin1uHgwYMYO3YsJk2ahMGDB1f/k8ipdhGJcdK9/hbQFIUV1UvTF7fC4NsuRFAW2jJQXG4X0lukIK1FioEobmoWAdsKSyooIy6fz4cZM2ZErC/nsDiHdeocVjQvTXe9op36PNiqBVsM9aXM7FSMmN6XnxYzRM28jW0lrG3btiE3N7e6doWFhUpY06dPp7Cm9sHCglWGM98UR1hhSJFemlbCapeOlQvqjtgjQc7MTsPIGRSW4YZoUoCthCWPNYTvElZWVmL06NG45557alwS1ldvjrA4wjL6pDuFZZJB4rwbWwlr8uTJqvqZmZkoKSlB//79kZ+f3ygSCovCorAa7SYJsYGthKVLlMKisCgs3d7jrDgKSzNffA6rfnBOedI90iWhzH3JncbUjOQ6leQclmaHMSmMwtIESWElnrD8lQH4fUF4Uz3wVwSRlOyGr8KPlPRkuP7z3QsKS7PDmBRGYWmCpLAST1ihYAh+fxD+igCCwRCSvG4kJSfB4z35lR4KS7PDmBRGYWmCpLAST1h+XwBVZX41sgqq716E1Adcm6V71RsY6oYQH2vQ7DHmhFFYmhwprMQTlrzSI0Uk5SsPKFHJfJbnlK/0UFiaHcakMApLEySFlXjCCtdIvYvoB7wpdb/SQ2FpdhiTwigsTZAUVuIKK1KToLA0O4xJYRSWJkgKi8LSbDoMi4EAhaUJj8KisDSbDsNiIEBhacKjsCgszabDsBgIUFgNwPthyxF89vIm5Bf0q3cLCovCiqHfMVSTAIVVC9ymT/bgu3UH0GdkZ3z19g507tsGa9/ahhHT+1U/7SwhFBaFpdnnGBYDAQqrFjx5cHDbmmKsX/wdju4vR27vHFw09GzkdD6jxpYUFoUVQ79jqCYBCqsWuO1rivHxC//GRUM7oHjrUVSW+SDL4g6f0kf9P1woLApLs88xLAYCFFYteD8eLEcwEFJPOK94ZTOun3Qpfth6BG06t+AIK4qGlgirNUSqJp/DiqIRWLgJhdUAXBHXno2Hcf6Adpx0N9AAKSwDsLipYQIUlmFkJwJ4SchLQs2mw7AYCFBYmvAoLApLs+kwLAYCFJYmPAqLwqpNoLFn9zSbGsNOIUBhaTYHCovCChOI9tk9zabGMAor9jZAYVFYYQLRPrsXe6vjHjjC0mwDFBaFFSYQ7bN7mk0tYtiTY97HXS9dXeMtDCuOY5d9UliamaCwKKwwgWif3dNsanXC5HjvzPkKP7mrB1b8fRP+69bzsfTpIlx1dw9ktk416zC23A+FpZkWCovCqk2gsWf3IjU1IyMlWRF11zeH8PU7O3BodyladshAz2vOQYfuLWss56zZtG0dRmFppofCorA0m051mO5I6dj+crz58Jdoe96Z6tWxZs292LvpMIY9cBnOyEmL9bRsHd/khVWyuxTytRQjJSnFgx1r9mP58xuMhKlfwr4jO+PdeV8binMnuTFiah8sLFhlKE42zp95Od4s/AK+CmN1vHFKb3WZcexAuaFj8kn36HHpjpTkc2T7thxBu65n4q/3fYIxcweq916zO2XWeN810pn8a9Zq9BvVBe3Oz4r+hG2wZcIL68t/bVXfmOub36Ve3J++uBFfv/edoVR07NkK7S/Iwsf/929DcRRWw7gGj+sGmbzeuf6gIaaXDc9F2eFKOPFT9WaMlNa8uQ2X3tApKlGFQsDCGStx6bBO2LF2Py65/lysfWs7OlzUqsFX0GonQ1d0jfXDaJOesMJa9mwR0rOaIaN1mvq+XNnRSjVakI5xaln+3AasfXt7tLzUduf2ysbZPVpRWPVQ4wgr+qZkxkgp+qOd2HL/9qP45oOd2PZlMc7ITkX3n3REbp8cpDT3NrirWEQXbT+Mth4JKyyZH5AH+oo+2gW4gG55HXD+Fe2RmV3zLgqFVX9T4SVh/VysWq3ByEgp2s5dezsRz5uFX8Jf6UdqZgqyO52Boo92YuB/X6ikFanoiE72F20/jLZOCSusVQu+xZaVP0Au38RY3687gNy+bdD/5vM4woqidVBY8RVWFCkxZZO9m0rQtmsW3p2zFv1u6orkVI+6nJSrkYZKLKKLth9GW7mEFdb+HUdxZtt0bPx4t5rDkgX5juw7jlYdMymsKFoHhZWYwgrXavPne9Vdxmif29IRnboEjbIfRtEk1SYJK6wwgL2bD0PmCmSSvL7CS0JeEkbbWWQ7qy4JjZzD6dzWqOii7YfR1inhhdUYCAqLwmqsjZz6701dWEZYWbEthcW7hPW2K14SNnxJ+LOH+kd9KWVFp23K+6SwKCwKy4AB2l2Qhd43dsLmz/YZiAI8Xjd6D++Mlh3SDcVx45oEKCwKi8IyYAWZC71gUHt8+NQ3BqKA5NQk/Gx2f2SfW/NzcYZ2wo0Tf9K9sRxzDotzWI21kVP/ncIyQsv8bW01wiorK8MjjzyCpKQk7N+/H6NGjcLAgQMbrXVBQQHkj06hsCgsI+3mdAirZE8p9mw4ZOQ01batzz0DbbrU/Dyd4Z3YLMBWwnrssceQlZWF22+/HYcPH0Z+fj5effVVtG7dOiI2CqthPHz5uX42Xa9oh6x26Vi54FtDXTIWYd36+ABktTc+hyVPmf/1/k+AkKFTVas3dOnX1liQzbe2jbCCwSCGDh2KJ554At27d1fY7rjjDuTl5eGWW26hsLhaQ71tIN4vP+sKq/mZKbju172w7r3vDStBXlL+x5TPKSw7PTi6d+9eDBs2DO+//z5atmypkjpz5kz1/xkzZlBYFJajhSWvvgz9n+7qXT6j5aYH+2PBtBWGhTWyoC/OuuBEXzJSXC4XPMluIyFx29Y2I6yNGzdizJgxWL58OdLTTwyb5RJx3759mDNnTjUQ+ffaRf5u2tTIUquXqAsoWrIT278qNgQ8J7cFsto3x8ZP9hiKy2iVitzLcrBusbHlbNxuF/qM6IxVC7cYOp5s3G/UeVjzxlb4fUFDsb1vzMWGpbtQdqzKUNwl156D7Wv342hxmaG4i/I6qJUE9n93zFBcl8vboPxYFXZvKDEUd9aFWUjNSMGW1cYeT5Algtp2aYGipbsMHS813YtuQztgzZvGVgaRg1z+s65Y+Y/Nho6n4m46D9+vPwh/hd9QbG6fNmrtNqMl4AugqjKgVkcxUuRdxoyW0S3tbDthLVu2DBkZJ2AZEZYRQNyWBEjAXgSivWlmG2GFLwkXL16MVq1khQWoO38ejwfTpk2LSDc86ho8eLC9smDS2fj9fjz88MOYOnWqSXu0324k7y1atEC/fv3sd3ImnFFpaSmeeuop/OY3vzFhb/bcxRtvvIFzzjkHPXv2tOwEbSMsmXS/8sorMXfuXPTo0UNVeNy4cbjqqqtw8803U1gUlmWdIB47prDMoWwbYYUvAeVX9s4770RJSYl6rGHBggXVI66GqswRljmN4XTuhSOs00nfnGM3qRGWIJMHRwsLC5GWlobi4mKMHDkSAwYMaJQmhdUoIttvQGHZPkWNnmCTE1ajRBrYgMLSJWefOArLPrnQPRMKS5cc40iABBKSgK3msBKSMCtFAiRgGgEKyzSU3BEJkIDVBCgsqwlz/yRAAqYRoLBMQ8kdkQAJWE2AwrKaMPdPAiRgGgEKyzSU3BEJkIDVBBwvrGeeeQbfffcdKioqcMEFF6g1tJxUjh8/jokTJ+Kss86CLOtx9OhR3HfffejYsaOqxvfff6/WCDvzzDPVw7TyLpr829q1a9XyO7/4xS9w7bXXOqbKUgdZSfaDDz5ASkqKOu/6cigcnn/+eXz88ceQ53vsXgKBAJ588kns3r0bycnJqk2+8MIL6l3YRMhheXm5ep9Vis/nU3V84IEH0KzZiS9GxyuHjhbW0qVLsXDhQtVQQqEQxo4di9tuuw1Dhgyxe/uuPr8jR46oVVVFPFJefPFFfPTRR3jppZdUnWTxwt/+9rfqhdJPPvlEvUD7yiuvqG1//vOf46abbnKUsKQuUr/PP/9cCStSDlesWIFHH33UEcL64x//qFbJnT59usrNH/7wB9x9991wu90JkcPnnnsOGzZsqF7qSX5k5Z1fGSDEM4eOFtb999+vVieVjitl/vz52Lp1K37/+987RljyyyyjCVkaWsoXX3yhGvrKlStVXWS5aBGVNPzKykoMGjRISa1r166OE5aMlr7++mv87W9/qxZWpBw6RVjyStnVV1+tRlS5ubk12t7mzZsTIodTpkxRo/zwahOy9JP82D700EOIZw4dLawbbrhBXU7Jig5SFi1ahKeffhpvvfWWY4RV+0Q//PBDtQ6YrLz69ttvKznJKDJcZFXW8ePH4/rrr68hrNdff13V/95778XFF19su/pLp541axbuuusujBgxolpYkXJ4qrCOHTumRqGyZLaMpL1er23quGbNGvzqV7/Cp59+qi7rTy2JkkOph1yaS/+SlVVkZCXv+kp7jGcOHS0s+aKOdAIZdUiRoanM68gvuVPL7Nmz1cvf0gFkJPLee+/h5Zdfrq6OLLUjDeTWW2+tFpZ0YvnakPzShVdrtVv95RLpuuuuU5eBw4cPrxZWpByeKqwlS5aoeUrpIHYr7777rloWafTo0Wq+6sCBA2paQubqEiWHMj0h7Uu+ZiVzWPJhGLkMFkHHM4eOF9bvfvc7hBfuc7qwZKJWJjJlvqB58+aqsUtnCM9ZSUetT1jy8vcvf/nL6ol6u3XoTZs2QVaSldHVrl276giroRyGhSU/SvLr3thCjqer3jKy/dOf/oR//vOfKm+HDh1So0iZf9uyZUtC5FAm1SV3kisZYUk7lWkJmbIQYcUrh44Wlow0ZL5H5g+kyLBVOrsT7irV7lzSyKVDyp+2bU98mknqI/Mi0hHCReosHV/uDMrcnTQeuYMjoyz5e7sVmaOT+Q8Z+croqrawIuVQhCWT2N26dcM333yjOMg8it3KZ599pvImUg6XCRMmqPlVufvr9BxKnWR0LPNX4RtacuNk3rx5qo3GM4eOFpYMUaUxy8qkUv785z+r28kyB+SkIrKSdcAmTZqEnJyc6lMPT9jKJa7cHpdJd/k1k5FXly5dlLBklVa5gyjzO3K3UTqInYrcWZI5t9TUEx8ZEMHKfJQs1Ch1lnNuKIciLFkmWzrF5MmT1UKOdhxlHTx4ENdccw1kiZzwF5/kh1TyIuu5ySjEyTmUvMk8sfx4XHHFFSqPciPowQcfhFyqR+qHZufQ0cKSS8DXXntN3R2Ua2z56o6sVhqe07JTx23oXGS+QxqCXNKF7xTKttI5ZWJZHmsQkfXq1Us1kr/85S/Vc1qnPtYgHVvu2sivnp2KzHfI6rHhIl9BkglbGQVnZ2dDRicN5fDUOSyZGxIWMukrgrNbkU576aWXqnOUNfjlpojMK8oNEKfnUFjL6EouAaV/SZFL4J07d6rL3kj90OwcOlpYAk4asDysJx2jc+fO6tfMSUU6rvxS1S7PPvus+oWWEaM8ONqmTRvs2bNH/ZqdffbZWLdunbrUuuyyy9R3G+XXXcQn9bfjpWG4frUvCRvKoYwm5fNuctdU6t+pUydVN/lhEjlL57FTkUdTpPPKF59E0JdccomahJeSCDmUB34ff/xx9aMql/kyShaJyY9OPHPoeGHZqdHyXEiABKwlQGFZy5d7JwESMJEAhWUiTO6KBEjAWgIUlrV8uXcSIAETCVBYJsLkrkiABKwlQGFZy5d7JwESMJEAhWUiTO6KBEjAWgIUlrV8uXcSIAETCVBYJsLkrkiABKwlQGFZy5d7JwESMJEAhWUiTO6KBEjAWgIUlrV8uXcSIAETCVBYJsLkrkiABKwlQGFZy5d7JwESMJEAhWUiTO6KBEjAWgIUlrV8uXcSIAETCVBYJsLkrkiABKwlQGFZy5d7JwESMJEAhWUiTO6KBEjAWgIUlrV8uXcSIAETCVBYJsLkrkiABKwlQGFZy5d7JwESMJEAhWUiTO6KBEjAWgIUlrV8uXcSIAETCVBYJsLkrkiABKwlQGFZy5d7JwESMJEAhWUiTO6KBEjAWgIUlrV8uXcSIAETCVBYJsLkrkiABKwlQGFZy5d7JwESMJHA/wNFnvdcTtrlfgAAAABJRU5ErkJggg==\" alt=\"График\"/>\n",
       "            </div>\n",
       "        </div>\n",
       "        "
      ],
      "text/plain": [
       "<IPython.core.display.HTML object>"
      ]
     },
     "metadata": {},
     "output_type": "display_data"
    }
   ],
   "source": [
    "next(gen)"
   ]
  },
  {
   "cell_type": "markdown",
   "metadata": {},
   "source": [
    "**Наблюдения:**\n",
    "- В растоянии до ближайшего аэропорта 23 проента пропусков.\n",
    "- 1 нулевое значение "
   ]
  },
  {
   "cell_type": "code",
   "execution_count": 377,
   "metadata": {},
   "outputs": [
    {
     "data": {
      "text/html": [
       "\n",
       "        <div style=\"display: flex; justify-content: flex-start; align-items: flex-end;\">\n",
       "            <style type=\"text/css\">\n",
       "#T_751be caption {\n",
       "  font-size: 16px;\n",
       "  text-align: left;\n",
       "  font-weight: bold;\n",
       "}\n",
       "#T_751be_row0_col0, #T_751be_row0_col1, #T_751be_row0_col2, #T_751be_row0_col3, #T_751be_row0_col4, #T_751be_row0_col5, #T_751be_row0_col6, #T_751be_row0_col7, #T_751be_row0_col8, #T_751be_row0_col9, #T_751be_row1_col0, #T_751be_row1_col1, #T_751be_row1_col2, #T_751be_row1_col3, #T_751be_row1_col4, #T_751be_row1_col5, #T_751be_row1_col6, #T_751be_row1_col7, #T_751be_row1_col8, #T_751be_row1_col9, #T_751be_row2_col0, #T_751be_row2_col1, #T_751be_row2_col2, #T_751be_row2_col3, #T_751be_row2_col4, #T_751be_row2_col5, #T_751be_row2_col6, #T_751be_row2_col7, #T_751be_row2_col8, #T_751be_row2_col9, #T_751be_row3_col0, #T_751be_row3_col1, #T_751be_row3_col2, #T_751be_row3_col3, #T_751be_row3_col4, #T_751be_row3_col5, #T_751be_row3_col6, #T_751be_row3_col7, #T_751be_row3_col8, #T_751be_row3_col9, #T_751be_row4_col0, #T_751be_row4_col1, #T_751be_row4_col2, #T_751be_row4_col3, #T_751be_row4_col4, #T_751be_row4_col5, #T_751be_row4_col6, #T_751be_row4_col7, #T_751be_row4_col8, #T_751be_row4_col9, #T_751be_row5_col0, #T_751be_row5_col1, #T_751be_row5_col2, #T_751be_row5_col3, #T_751be_row5_col4, #T_751be_row5_col5, #T_751be_row5_col6, #T_751be_row5_col7, #T_751be_row5_col8, #T_751be_row5_col9, #T_751be_row6_col0, #T_751be_row6_col1, #T_751be_row6_col2, #T_751be_row6_col3, #T_751be_row6_col4, #T_751be_row6_col5, #T_751be_row6_col6, #T_751be_row6_col7, #T_751be_row6_col8, #T_751be_row6_col9 {\n",
       "  text-align: left;\n",
       "}\n",
       "</style>\n",
       "<table id=\"T_751be\">\n",
       "  <caption>city_centers_nearest</caption>\n",
       "  <thead>\n",
       "  </thead>\n",
       "  <tbody>\n",
       "    <tr>\n",
       "      <td id=\"T_751be_row0_col0\" class=\"data row0 col0\" >Values</td>\n",
       "      <td id=\"T_751be_row0_col1\" class=\"data row0 col1\" >18 180 (77%)</td>\n",
       "      <td id=\"T_751be_row0_col2\" class=\"data row0 col2\" >                              </td>\n",
       "      <td id=\"T_751be_row0_col3\" class=\"data row0 col3\" >Max</td>\n",
       "      <td id=\"T_751be_row0_col4\" class=\"data row0 col4\" >65 968</td>\n",
       "      <td id=\"T_751be_row0_col5\" class=\"data row0 col5\" >                              </td>\n",
       "      <td id=\"T_751be_row0_col6\" class=\"data row0 col6\" >Avg</td>\n",
       "      <td id=\"T_751be_row0_col7\" class=\"data row0 col7\" >14 191.28</td>\n",
       "      <td id=\"T_751be_row0_col8\" class=\"data row0 col8\" >                              </td>\n",
       "      <td id=\"T_751be_row0_col9\" class=\"data row0 col9\" >8 460 <1%</td>\n",
       "    </tr>\n",
       "    <tr>\n",
       "      <td id=\"T_751be_row1_col0\" class=\"data row1 col0\" >Missing</td>\n",
       "      <td id=\"T_751be_row1_col1\" class=\"data row1 col1\" >5 519 (23%)</td>\n",
       "      <td id=\"T_751be_row1_col2\" class=\"data row1 col2\" >                              </td>\n",
       "      <td id=\"T_751be_row1_col3\" class=\"data row1 col3\" >95%</td>\n",
       "      <td id=\"T_751be_row1_col4\" class=\"data row1 col4\" >31 671.6</td>\n",
       "      <td id=\"T_751be_row1_col5\" class=\"data row1 col5\" >                              </td>\n",
       "      <td id=\"T_751be_row1_col6\" class=\"data row1 col6\" >Mode</td>\n",
       "      <td id=\"T_751be_row1_col7\" class=\"data row1 col7\" >8 460</td>\n",
       "      <td id=\"T_751be_row1_col8\" class=\"data row1 col8\" >                              </td>\n",
       "      <td id=\"T_751be_row1_col9\" class=\"data row1 col9\" >20 802 <1%</td>\n",
       "    </tr>\n",
       "    <tr>\n",
       "      <td id=\"T_751be_row2_col0\" class=\"data row2 col0\" >Distinct</td>\n",
       "      <td id=\"T_751be_row2_col1\" class=\"data row2 col1\" >7 642 (32%)</td>\n",
       "      <td id=\"T_751be_row2_col2\" class=\"data row2 col2\" >                              </td>\n",
       "      <td id=\"T_751be_row2_col3\" class=\"data row2 col3\" >75%</td>\n",
       "      <td id=\"T_751be_row2_col4\" class=\"data row2 col4\" >16 293</td>\n",
       "      <td id=\"T_751be_row2_col5\" class=\"data row2 col5\" >                              </td>\n",
       "      <td id=\"T_751be_row2_col6\" class=\"data row2 col6\" >Range</td>\n",
       "      <td id=\"T_751be_row2_col7\" class=\"data row2 col7\" >65 787</td>\n",
       "      <td id=\"T_751be_row2_col8\" class=\"data row2 col8\" >                              </td>\n",
       "      <td id=\"T_751be_row2_col9\" class=\"data row2 col9\" >10 720 <1%</td>\n",
       "    </tr>\n",
       "    <tr>\n",
       "      <td id=\"T_751be_row3_col0\" class=\"data row3 col0\" >Duplicates</td>\n",
       "      <td id=\"T_751be_row3_col1\" class=\"data row3 col1\" >16 056 (68%)</td>\n",
       "      <td id=\"T_751be_row3_col2\" class=\"data row3 col2\" >                              </td>\n",
       "      <td id=\"T_751be_row3_col3\" class=\"data row3 col3\" >Median</td>\n",
       "      <td id=\"T_751be_row3_col4\" class=\"data row3 col4\" >13 098.5</td>\n",
       "      <td id=\"T_751be_row3_col5\" class=\"data row3 col5\" >                              </td>\n",
       "      <td id=\"T_751be_row3_col6\" class=\"data row3 col6\" >iQR</td>\n",
       "      <td id=\"T_751be_row3_col7\" class=\"data row3 col7\" >7 055</td>\n",
       "      <td id=\"T_751be_row3_col8\" class=\"data row3 col8\" >                              </td>\n",
       "      <td id=\"T_751be_row3_col9\" class=\"data row3 col9\" >20 444 <1%</td>\n",
       "    </tr>\n",
       "    <tr>\n",
       "      <td id=\"T_751be_row4_col0\" class=\"data row4 col0\" >Zeros</td>\n",
       "      <td id=\"T_751be_row4_col1\" class=\"data row4 col1\" >---</td>\n",
       "      <td id=\"T_751be_row4_col2\" class=\"data row4 col2\" >                              </td>\n",
       "      <td id=\"T_751be_row4_col3\" class=\"data row4 col3\" >25%</td>\n",
       "      <td id=\"T_751be_row4_col4\" class=\"data row4 col4\" >9 238</td>\n",
       "      <td id=\"T_751be_row4_col5\" class=\"data row4 col5\" >                              </td>\n",
       "      <td id=\"T_751be_row4_col6\" class=\"data row4 col6\" >std</td>\n",
       "      <td id=\"T_751be_row4_col7\" class=\"data row4 col7\" >8 608.39</td>\n",
       "      <td id=\"T_751be_row4_col8\" class=\"data row4 col8\" >                              </td>\n",
       "      <td id=\"T_751be_row4_col9\" class=\"data row4 col9\" >8 434 <1%</td>\n",
       "    </tr>\n",
       "    <tr>\n",
       "      <td id=\"T_751be_row5_col0\" class=\"data row5 col0\" >Negative</td>\n",
       "      <td id=\"T_751be_row5_col1\" class=\"data row5 col1\" >---</td>\n",
       "      <td id=\"T_751be_row5_col2\" class=\"data row5 col2\" >                              </td>\n",
       "      <td id=\"T_751be_row5_col3\" class=\"data row5 col3\" >5%</td>\n",
       "      <td id=\"T_751be_row5_col4\" class=\"data row5 col4\" >3 541</td>\n",
       "      <td id=\"T_751be_row5_col5\" class=\"data row5 col5\" >                              </td>\n",
       "      <td id=\"T_751be_row5_col6\" class=\"data row5 col6\" >kurt</td>\n",
       "      <td id=\"T_751be_row5_col7\" class=\"data row5 col7\" >4.36</td>\n",
       "      <td id=\"T_751be_row5_col8\" class=\"data row5 col8\" >                              </td>\n",
       "      <td id=\"T_751be_row5_col9\" class=\"data row5 col9\" >8 370 <1%</td>\n",
       "    </tr>\n",
       "    <tr>\n",
       "      <td id=\"T_751be_row6_col0\" class=\"data row6 col0\" >RAM (Mb)</td>\n",
       "      <td id=\"T_751be_row6_col1\" class=\"data row6 col1\" ><1 Mb</td>\n",
       "      <td id=\"T_751be_row6_col2\" class=\"data row6 col2\" >                              </td>\n",
       "      <td id=\"T_751be_row6_col3\" class=\"data row6 col3\" >Min</td>\n",
       "      <td id=\"T_751be_row6_col4\" class=\"data row6 col4\" >181</td>\n",
       "      <td id=\"T_751be_row6_col5\" class=\"data row6 col5\" >                              </td>\n",
       "      <td id=\"T_751be_row6_col6\" class=\"data row6 col6\" >skew</td>\n",
       "      <td id=\"T_751be_row6_col7\" class=\"data row6 col7\" >1.67</td>\n",
       "      <td id=\"T_751be_row6_col8\" class=\"data row6 col8\" >                              </td>\n",
       "      <td id=\"T_751be_row6_col9\" class=\"data row6 col9\" >10 364 <1%</td>\n",
       "    </tr>\n",
       "  </tbody>\n",
       "</table>\n",
       "\n",
       "            <div>\n",
       "                <img src=\"data:image/png;base64,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\" alt=\"График\"/>\n",
       "            </div>\n",
       "        </div>\n",
       "        "
      ],
      "text/plain": [
       "<IPython.core.display.HTML object>"
      ]
     },
     "metadata": {},
     "output_type": "display_data"
    }
   ],
   "source": [
    "next(gen)"
   ]
  },
  {
   "cell_type": "markdown",
   "metadata": {},
   "source": [
    "**Наблюдения:**\n",
    "- В растоянии до центар города 23 процента пропусков. "
   ]
  },
  {
   "cell_type": "code",
   "execution_count": 378,
   "metadata": {},
   "outputs": [
    {
     "data": {
      "text/html": [
       "\n",
       "        <div style=\"display: flex; justify-content: flex-start; align-items: flex-end;\">\n",
       "            <style type=\"text/css\">\n",
       "#T_b6b40 caption {\n",
       "  font-size: 16px;\n",
       "  text-align: left;\n",
       "  font-weight: bold;\n",
       "}\n",
       "#T_b6b40_row0_col0, #T_b6b40_row0_col1, #T_b6b40_row0_col2, #T_b6b40_row0_col3, #T_b6b40_row0_col4, #T_b6b40_row0_col5, #T_b6b40_row0_col6, #T_b6b40_row0_col7, #T_b6b40_row0_col8, #T_b6b40_row0_col9, #T_b6b40_row1_col0, #T_b6b40_row1_col1, #T_b6b40_row1_col2, #T_b6b40_row1_col3, #T_b6b40_row1_col4, #T_b6b40_row1_col5, #T_b6b40_row1_col6, #T_b6b40_row1_col7, #T_b6b40_row1_col8, #T_b6b40_row1_col9, #T_b6b40_row2_col0, #T_b6b40_row2_col1, #T_b6b40_row2_col2, #T_b6b40_row2_col3, #T_b6b40_row2_col4, #T_b6b40_row2_col5, #T_b6b40_row2_col6, #T_b6b40_row2_col7, #T_b6b40_row2_col8, #T_b6b40_row2_col9, #T_b6b40_row3_col0, #T_b6b40_row3_col1, #T_b6b40_row3_col2, #T_b6b40_row3_col3, #T_b6b40_row3_col4, #T_b6b40_row3_col5, #T_b6b40_row3_col6, #T_b6b40_row3_col7, #T_b6b40_row3_col8, #T_b6b40_row3_col9, #T_b6b40_row4_col0, #T_b6b40_row4_col1, #T_b6b40_row4_col2, #T_b6b40_row4_col3, #T_b6b40_row4_col4, #T_b6b40_row4_col5, #T_b6b40_row4_col6, #T_b6b40_row4_col7, #T_b6b40_row4_col8, #T_b6b40_row4_col9, #T_b6b40_row5_col0, #T_b6b40_row5_col1, #T_b6b40_row5_col2, #T_b6b40_row5_col3, #T_b6b40_row5_col4, #T_b6b40_row5_col5, #T_b6b40_row5_col6, #T_b6b40_row5_col7, #T_b6b40_row5_col8, #T_b6b40_row5_col9, #T_b6b40_row6_col0, #T_b6b40_row6_col1, #T_b6b40_row6_col2, #T_b6b40_row6_col3, #T_b6b40_row6_col4, #T_b6b40_row6_col5, #T_b6b40_row6_col6, #T_b6b40_row6_col7, #T_b6b40_row6_col8, #T_b6b40_row6_col9 {\n",
       "  text-align: left;\n",
       "}\n",
       "</style>\n",
       "<table id=\"T_b6b40\">\n",
       "  <caption>parks_around3000</caption>\n",
       "  <thead>\n",
       "  </thead>\n",
       "  <tbody>\n",
       "    <tr>\n",
       "      <td id=\"T_b6b40_row0_col0\" class=\"data row0 col0\" >Values</td>\n",
       "      <td id=\"T_b6b40_row0_col1\" class=\"data row0 col1\" >18 181 (77%)</td>\n",
       "      <td id=\"T_b6b40_row0_col2\" class=\"data row0 col2\" >                              </td>\n",
       "      <td id=\"T_b6b40_row0_col3\" class=\"data row0 col3\" >Max</td>\n",
       "      <td id=\"T_b6b40_row0_col4\" class=\"data row0 col4\" >3</td>\n",
       "      <td id=\"T_b6b40_row0_col5\" class=\"data row0 col5\" >                              </td>\n",
       "      <td id=\"T_b6b40_row0_col6\" class=\"data row0 col6\" >Avg</td>\n",
       "      <td id=\"T_b6b40_row0_col7\" class=\"data row0 col7\" >0.61</td>\n",
       "      <td id=\"T_b6b40_row0_col8\" class=\"data row0 col8\" >                              </td>\n",
       "      <td id=\"T_b6b40_row0_col9\" class=\"data row0 col9\" >0 (56%)</td>\n",
       "    </tr>\n",
       "    <tr>\n",
       "      <td id=\"T_b6b40_row1_col0\" class=\"data row1 col0\" >Missing</td>\n",
       "      <td id=\"T_b6b40_row1_col1\" class=\"data row1 col1\" >5 518 (23%)</td>\n",
       "      <td id=\"T_b6b40_row1_col2\" class=\"data row1 col2\" >                              </td>\n",
       "      <td id=\"T_b6b40_row1_col3\" class=\"data row1 col3\" >95%</td>\n",
       "      <td id=\"T_b6b40_row1_col4\" class=\"data row1 col4\" >2</td>\n",
       "      <td id=\"T_b6b40_row1_col5\" class=\"data row1 col5\" >                              </td>\n",
       "      <td id=\"T_b6b40_row1_col6\" class=\"data row1 col6\" >Mode</td>\n",
       "      <td id=\"T_b6b40_row1_col7\" class=\"data row1 col7\" >0</td>\n",
       "      <td id=\"T_b6b40_row1_col8\" class=\"data row1 col8\" >                              </td>\n",
       "      <td id=\"T_b6b40_row1_col9\" class=\"data row1 col9\" >1 (31%)</td>\n",
       "    </tr>\n",
       "    <tr>\n",
       "      <td id=\"T_b6b40_row2_col0\" class=\"data row2 col0\" >Distinct</td>\n",
       "      <td id=\"T_b6b40_row2_col1\" class=\"data row2 col1\" >4 (<1%)</td>\n",
       "      <td id=\"T_b6b40_row2_col2\" class=\"data row2 col2\" >                              </td>\n",
       "      <td id=\"T_b6b40_row2_col3\" class=\"data row2 col3\" >75%</td>\n",
       "      <td id=\"T_b6b40_row2_col4\" class=\"data row2 col4\" >1</td>\n",
       "      <td id=\"T_b6b40_row2_col5\" class=\"data row2 col5\" >                              </td>\n",
       "      <td id=\"T_b6b40_row2_col6\" class=\"data row2 col6\" >Range</td>\n",
       "      <td id=\"T_b6b40_row2_col7\" class=\"data row2 col7\" >3</td>\n",
       "      <td id=\"T_b6b40_row2_col8\" class=\"data row2 col8\" >                              </td>\n",
       "      <td id=\"T_b6b40_row2_col9\" class=\"data row2 col9\" >2 (10%)</td>\n",
       "    </tr>\n",
       "    <tr>\n",
       "      <td id=\"T_b6b40_row3_col0\" class=\"data row3 col0\" >Duplicates</td>\n",
       "      <td id=\"T_b6b40_row3_col1\" class=\"data row3 col1\" >23 694 (99.9%)</td>\n",
       "      <td id=\"T_b6b40_row3_col2\" class=\"data row3 col2\" >                              </td>\n",
       "      <td id=\"T_b6b40_row3_col3\" class=\"data row3 col3\" >Median</td>\n",
       "      <td id=\"T_b6b40_row3_col4\" class=\"data row3 col4\" >0</td>\n",
       "      <td id=\"T_b6b40_row3_col5\" class=\"data row3 col5\" >                              </td>\n",
       "      <td id=\"T_b6b40_row3_col6\" class=\"data row3 col6\" >iQR</td>\n",
       "      <td id=\"T_b6b40_row3_col7\" class=\"data row3 col7\" >1</td>\n",
       "      <td id=\"T_b6b40_row3_col8\" class=\"data row3 col8\" >                              </td>\n",
       "      <td id=\"T_b6b40_row3_col9\" class=\"data row3 col9\" >3 (4%)</td>\n",
       "    </tr>\n",
       "    <tr>\n",
       "      <td id=\"T_b6b40_row4_col0\" class=\"data row4 col0\" >Zeros</td>\n",
       "      <td id=\"T_b6b40_row4_col1\" class=\"data row4 col1\" >10 106 (43%)</td>\n",
       "      <td id=\"T_b6b40_row4_col2\" class=\"data row4 col2\" >                              </td>\n",
       "      <td id=\"T_b6b40_row4_col3\" class=\"data row4 col3\" >25%</td>\n",
       "      <td id=\"T_b6b40_row4_col4\" class=\"data row4 col4\" >0</td>\n",
       "      <td id=\"T_b6b40_row4_col5\" class=\"data row4 col5\" >                              </td>\n",
       "      <td id=\"T_b6b40_row4_col6\" class=\"data row4 col6\" >std</td>\n",
       "      <td id=\"T_b6b40_row4_col7\" class=\"data row4 col7\" >0.8</td>\n",
       "      <td id=\"T_b6b40_row4_col8\" class=\"data row4 col8\" >                              </td>\n",
       "      <td id=\"T_b6b40_row4_col9\" class=\"data row4 col9\" >nan</td>\n",
       "    </tr>\n",
       "    <tr>\n",
       "      <td id=\"T_b6b40_row5_col0\" class=\"data row5 col0\" >Negative</td>\n",
       "      <td id=\"T_b6b40_row5_col1\" class=\"data row5 col1\" >---</td>\n",
       "      <td id=\"T_b6b40_row5_col2\" class=\"data row5 col2\" >                              </td>\n",
       "      <td id=\"T_b6b40_row5_col3\" class=\"data row5 col3\" >5%</td>\n",
       "      <td id=\"T_b6b40_row5_col4\" class=\"data row5 col4\" >0</td>\n",
       "      <td id=\"T_b6b40_row5_col5\" class=\"data row5 col5\" >                              </td>\n",
       "      <td id=\"T_b6b40_row5_col6\" class=\"data row5 col6\" >kurt</td>\n",
       "      <td id=\"T_b6b40_row5_col7\" class=\"data row5 col7\" >0.87</td>\n",
       "      <td id=\"T_b6b40_row5_col8\" class=\"data row5 col8\" >                              </td>\n",
       "      <td id=\"T_b6b40_row5_col9\" class=\"data row5 col9\" >nan</td>\n",
       "    </tr>\n",
       "    <tr>\n",
       "      <td id=\"T_b6b40_row6_col0\" class=\"data row6 col0\" >RAM (Mb)</td>\n",
       "      <td id=\"T_b6b40_row6_col1\" class=\"data row6 col1\" ><1 Mb</td>\n",
       "      <td id=\"T_b6b40_row6_col2\" class=\"data row6 col2\" >                              </td>\n",
       "      <td id=\"T_b6b40_row6_col3\" class=\"data row6 col3\" >Min</td>\n",
       "      <td id=\"T_b6b40_row6_col4\" class=\"data row6 col4\" >0</td>\n",
       "      <td id=\"T_b6b40_row6_col5\" class=\"data row6 col5\" >                              </td>\n",
       "      <td id=\"T_b6b40_row6_col6\" class=\"data row6 col6\" >skew</td>\n",
       "      <td id=\"T_b6b40_row6_col7\" class=\"data row6 col7\" >1.23</td>\n",
       "      <td id=\"T_b6b40_row6_col8\" class=\"data row6 col8\" >                              </td>\n",
       "      <td id=\"T_b6b40_row6_col9\" class=\"data row6 col9\" >nan</td>\n",
       "    </tr>\n",
       "  </tbody>\n",
       "</table>\n",
       "\n",
       "            <div>\n",
       "                <img src=\"data:image/png;base64,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\" alt=\"График\"/>\n",
       "            </div>\n",
       "        </div>\n",
       "        "
      ],
      "text/plain": [
       "<IPython.core.display.HTML object>"
      ]
     },
     "metadata": {},
     "output_type": "display_data"
    }
   ],
   "source": [
    "next(gen)"
   ]
  },
  {
   "cell_type": "markdown",
   "metadata": {},
   "source": [
    "**Наблюдения:**\n",
    "- В колонке с количеством парков рядом 23 процента пропусков.  "
   ]
  },
  {
   "cell_type": "code",
   "execution_count": 379,
   "metadata": {},
   "outputs": [
    {
     "data": {
      "text/html": [
       "\n",
       "        <div style=\"display: flex; justify-content: flex-start; align-items: flex-end;\">\n",
       "            <style type=\"text/css\">\n",
       "#T_2edf8 caption {\n",
       "  font-size: 16px;\n",
       "  text-align: left;\n",
       "  font-weight: bold;\n",
       "}\n",
       "#T_2edf8_row0_col0, #T_2edf8_row0_col1, #T_2edf8_row0_col2, #T_2edf8_row0_col3, #T_2edf8_row0_col4, #T_2edf8_row0_col5, #T_2edf8_row0_col6, #T_2edf8_row0_col7, #T_2edf8_row0_col8, #T_2edf8_row0_col9, #T_2edf8_row1_col0, #T_2edf8_row1_col1, #T_2edf8_row1_col2, #T_2edf8_row1_col3, #T_2edf8_row1_col4, #T_2edf8_row1_col5, #T_2edf8_row1_col6, #T_2edf8_row1_col7, #T_2edf8_row1_col8, #T_2edf8_row1_col9, #T_2edf8_row2_col0, #T_2edf8_row2_col1, #T_2edf8_row2_col2, #T_2edf8_row2_col3, #T_2edf8_row2_col4, #T_2edf8_row2_col5, #T_2edf8_row2_col6, #T_2edf8_row2_col7, #T_2edf8_row2_col8, #T_2edf8_row2_col9, #T_2edf8_row3_col0, #T_2edf8_row3_col1, #T_2edf8_row3_col2, #T_2edf8_row3_col3, #T_2edf8_row3_col4, #T_2edf8_row3_col5, #T_2edf8_row3_col6, #T_2edf8_row3_col7, #T_2edf8_row3_col8, #T_2edf8_row3_col9, #T_2edf8_row4_col0, #T_2edf8_row4_col1, #T_2edf8_row4_col2, #T_2edf8_row4_col3, #T_2edf8_row4_col4, #T_2edf8_row4_col5, #T_2edf8_row4_col6, #T_2edf8_row4_col7, #T_2edf8_row4_col8, #T_2edf8_row4_col9, #T_2edf8_row5_col0, #T_2edf8_row5_col1, #T_2edf8_row5_col2, #T_2edf8_row5_col3, #T_2edf8_row5_col4, #T_2edf8_row5_col5, #T_2edf8_row5_col6, #T_2edf8_row5_col7, #T_2edf8_row5_col8, #T_2edf8_row5_col9, #T_2edf8_row6_col0, #T_2edf8_row6_col1, #T_2edf8_row6_col2, #T_2edf8_row6_col3, #T_2edf8_row6_col4, #T_2edf8_row6_col5, #T_2edf8_row6_col6, #T_2edf8_row6_col7, #T_2edf8_row6_col8, #T_2edf8_row6_col9 {\n",
       "  text-align: left;\n",
       "}\n",
       "</style>\n",
       "<table id=\"T_2edf8\">\n",
       "  <caption>parks_nearest</caption>\n",
       "  <thead>\n",
       "  </thead>\n",
       "  <tbody>\n",
       "    <tr>\n",
       "      <td id=\"T_2edf8_row0_col0\" class=\"data row0 col0\" >Values</td>\n",
       "      <td id=\"T_2edf8_row0_col1\" class=\"data row0 col1\" >8 079 (34%)</td>\n",
       "      <td id=\"T_2edf8_row0_col2\" class=\"data row0 col2\" >                              </td>\n",
       "      <td id=\"T_2edf8_row0_col3\" class=\"data row0 col3\" >Max</td>\n",
       "      <td id=\"T_2edf8_row0_col4\" class=\"data row0 col4\" >3 190</td>\n",
       "      <td id=\"T_2edf8_row0_col5\" class=\"data row0 col5\" >                              </td>\n",
       "      <td id=\"T_2edf8_row0_col6\" class=\"data row0 col6\" >Avg</td>\n",
       "      <td id=\"T_2edf8_row0_col7\" class=\"data row0 col7\" >490.8</td>\n",
       "      <td id=\"T_2edf8_row0_col8\" class=\"data row0 col8\" >                              </td>\n",
       "      <td id=\"T_2edf8_row0_col9\" class=\"data row0 col9\" >441 <1%</td>\n",
       "    </tr>\n",
       "    <tr>\n",
       "      <td id=\"T_2edf8_row1_col0\" class=\"data row1 col0\" >Missing</td>\n",
       "      <td id=\"T_2edf8_row1_col1\" class=\"data row1 col1\" >15 620 (66%)</td>\n",
       "      <td id=\"T_2edf8_row1_col2\" class=\"data row1 col2\" >                              </td>\n",
       "      <td id=\"T_2edf8_row1_col3\" class=\"data row1 col3\" >95%</td>\n",
       "      <td id=\"T_2edf8_row1_col4\" class=\"data row1 col4\" >968</td>\n",
       "      <td id=\"T_2edf8_row1_col5\" class=\"data row1 col5\" >                              </td>\n",
       "      <td id=\"T_2edf8_row1_col6\" class=\"data row1 col6\" >Mode</td>\n",
       "      <td id=\"T_2edf8_row1_col7\" class=\"data row1 col7\" >441</td>\n",
       "      <td id=\"T_2edf8_row1_col8\" class=\"data row1 col8\" >                              </td>\n",
       "      <td id=\"T_2edf8_row1_col9\" class=\"data row1 col9\" >173 <1%</td>\n",
       "    </tr>\n",
       "    <tr>\n",
       "      <td id=\"T_2edf8_row2_col0\" class=\"data row2 col0\" >Distinct</td>\n",
       "      <td id=\"T_2edf8_row2_col1\" class=\"data row2 col1\" >995 (4%)</td>\n",
       "      <td id=\"T_2edf8_row2_col2\" class=\"data row2 col2\" >                              </td>\n",
       "      <td id=\"T_2edf8_row2_col3\" class=\"data row2 col3\" >75%</td>\n",
       "      <td id=\"T_2edf8_row2_col4\" class=\"data row2 col4\" >612</td>\n",
       "      <td id=\"T_2edf8_row2_col5\" class=\"data row2 col5\" >                              </td>\n",
       "      <td id=\"T_2edf8_row2_col6\" class=\"data row2 col6\" >Range</td>\n",
       "      <td id=\"T_2edf8_row2_col7\" class=\"data row2 col7\" >3 189</td>\n",
       "      <td id=\"T_2edf8_row2_col8\" class=\"data row2 col8\" >                              </td>\n",
       "      <td id=\"T_2edf8_row2_col9\" class=\"data row2 col9\" >392 <1%</td>\n",
       "    </tr>\n",
       "    <tr>\n",
       "      <td id=\"T_2edf8_row3_col0\" class=\"data row3 col0\" >Duplicates</td>\n",
       "      <td id=\"T_2edf8_row3_col1\" class=\"data row3 col1\" >22 703 (96%)</td>\n",
       "      <td id=\"T_2edf8_row3_col2\" class=\"data row3 col2\" >                              </td>\n",
       "      <td id=\"T_2edf8_row3_col3\" class=\"data row3 col3\" >Median</td>\n",
       "      <td id=\"T_2edf8_row3_col4\" class=\"data row3 col4\" >455</td>\n",
       "      <td id=\"T_2edf8_row3_col5\" class=\"data row3 col5\" >                              </td>\n",
       "      <td id=\"T_2edf8_row3_col6\" class=\"data row3 col6\" >iQR</td>\n",
       "      <td id=\"T_2edf8_row3_col7\" class=\"data row3 col7\" >324</td>\n",
       "      <td id=\"T_2edf8_row3_col8\" class=\"data row3 col8\" >                              </td>\n",
       "      <td id=\"T_2edf8_row3_col9\" class=\"data row3 col9\" >456 <1%</td>\n",
       "    </tr>\n",
       "    <tr>\n",
       "      <td id=\"T_2edf8_row4_col0\" class=\"data row4 col0\" >Zeros</td>\n",
       "      <td id=\"T_2edf8_row4_col1\" class=\"data row4 col1\" >---</td>\n",
       "      <td id=\"T_2edf8_row4_col2\" class=\"data row4 col2\" >                              </td>\n",
       "      <td id=\"T_2edf8_row4_col3\" class=\"data row4 col3\" >25%</td>\n",
       "      <td id=\"T_2edf8_row4_col4\" class=\"data row4 col4\" >288</td>\n",
       "      <td id=\"T_2edf8_row4_col5\" class=\"data row4 col5\" >                              </td>\n",
       "      <td id=\"T_2edf8_row4_col6\" class=\"data row4 col6\" >std</td>\n",
       "      <td id=\"T_2edf8_row4_col7\" class=\"data row4 col7\" >342.32</td>\n",
       "      <td id=\"T_2edf8_row4_col8\" class=\"data row4 col8\" >                              </td>\n",
       "      <td id=\"T_2edf8_row4_col9\" class=\"data row4 col9\" >471 <1%</td>\n",
       "    </tr>\n",
       "    <tr>\n",
       "      <td id=\"T_2edf8_row5_col0\" class=\"data row5 col0\" >Negative</td>\n",
       "      <td id=\"T_2edf8_row5_col1\" class=\"data row5 col1\" >---</td>\n",
       "      <td id=\"T_2edf8_row5_col2\" class=\"data row5 col2\" >                              </td>\n",
       "      <td id=\"T_2edf8_row5_col3\" class=\"data row5 col3\" >5%</td>\n",
       "      <td id=\"T_2edf8_row5_col4\" class=\"data row5 col4\" >95.9</td>\n",
       "      <td id=\"T_2edf8_row5_col5\" class=\"data row5 col5\" >                              </td>\n",
       "      <td id=\"T_2edf8_row5_col6\" class=\"data row5 col6\" >kurt</td>\n",
       "      <td id=\"T_2edf8_row5_col7\" class=\"data row5 col7\" >12.22</td>\n",
       "      <td id=\"T_2edf8_row5_col8\" class=\"data row5 col8\" >                              </td>\n",
       "      <td id=\"T_2edf8_row5_col9\" class=\"data row5 col9\" >2 102 <1%</td>\n",
       "    </tr>\n",
       "    <tr>\n",
       "      <td id=\"T_2edf8_row6_col0\" class=\"data row6 col0\" >RAM (Mb)</td>\n",
       "      <td id=\"T_2edf8_row6_col1\" class=\"data row6 col1\" ><1 Mb</td>\n",
       "      <td id=\"T_2edf8_row6_col2\" class=\"data row6 col2\" >                              </td>\n",
       "      <td id=\"T_2edf8_row6_col3\" class=\"data row6 col3\" >Min</td>\n",
       "      <td id=\"T_2edf8_row6_col4\" class=\"data row6 col4\" >1</td>\n",
       "      <td id=\"T_2edf8_row6_col5\" class=\"data row6 col5\" >                              </td>\n",
       "      <td id=\"T_2edf8_row6_col6\" class=\"data row6 col6\" >skew</td>\n",
       "      <td id=\"T_2edf8_row6_col7\" class=\"data row6 col7\" >2.72</td>\n",
       "      <td id=\"T_2edf8_row6_col8\" class=\"data row6 col8\" >                              </td>\n",
       "      <td id=\"T_2edf8_row6_col9\" class=\"data row6 col9\" >541 <1%</td>\n",
       "    </tr>\n",
       "  </tbody>\n",
       "</table>\n",
       "\n",
       "            <div>\n",
       "                <img src=\"data:image/png;base64,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\" alt=\"График\"/>\n",
       "            </div>\n",
       "        </div>\n",
       "        "
      ],
      "text/plain": [
       "<IPython.core.display.HTML object>"
      ]
     },
     "metadata": {},
     "output_type": "display_data"
    }
   ],
   "source": [
    "next(gen)"
   ]
  },
  {
   "cell_type": "markdown",
   "metadata": {},
   "source": [
    "**Наблюдения:**\n",
    "- В колонке с растоянием до ближайшего парка 66 процентов пропусков.  \n"
   ]
  },
  {
   "cell_type": "code",
   "execution_count": 380,
   "metadata": {},
   "outputs": [
    {
     "data": {
      "text/html": [
       "\n",
       "        <div style=\"display: flex; justify-content: flex-start; align-items: flex-end;\">\n",
       "            <style type=\"text/css\">\n",
       "#T_e3b12 caption {\n",
       "  font-size: 16px;\n",
       "  text-align: left;\n",
       "  font-weight: bold;\n",
       "}\n",
       "#T_e3b12_row0_col0, #T_e3b12_row0_col1, #T_e3b12_row0_col2, #T_e3b12_row0_col3, #T_e3b12_row0_col4, #T_e3b12_row0_col5, #T_e3b12_row0_col6, #T_e3b12_row0_col7, #T_e3b12_row0_col8, #T_e3b12_row0_col9, #T_e3b12_row1_col0, #T_e3b12_row1_col1, #T_e3b12_row1_col2, #T_e3b12_row1_col3, #T_e3b12_row1_col4, #T_e3b12_row1_col5, #T_e3b12_row1_col6, #T_e3b12_row1_col7, #T_e3b12_row1_col8, #T_e3b12_row1_col9, #T_e3b12_row2_col0, #T_e3b12_row2_col1, #T_e3b12_row2_col2, #T_e3b12_row2_col3, #T_e3b12_row2_col4, #T_e3b12_row2_col5, #T_e3b12_row2_col6, #T_e3b12_row2_col7, #T_e3b12_row2_col8, #T_e3b12_row2_col9, #T_e3b12_row3_col0, #T_e3b12_row3_col1, #T_e3b12_row3_col2, #T_e3b12_row3_col3, #T_e3b12_row3_col4, #T_e3b12_row3_col5, #T_e3b12_row3_col6, #T_e3b12_row3_col7, #T_e3b12_row3_col8, #T_e3b12_row3_col9, #T_e3b12_row4_col0, #T_e3b12_row4_col1, #T_e3b12_row4_col2, #T_e3b12_row4_col3, #T_e3b12_row4_col4, #T_e3b12_row4_col5, #T_e3b12_row4_col6, #T_e3b12_row4_col7, #T_e3b12_row4_col8, #T_e3b12_row4_col9, #T_e3b12_row5_col0, #T_e3b12_row5_col1, #T_e3b12_row5_col2, #T_e3b12_row5_col3, #T_e3b12_row5_col4, #T_e3b12_row5_col5, #T_e3b12_row5_col6, #T_e3b12_row5_col7, #T_e3b12_row5_col8, #T_e3b12_row5_col9, #T_e3b12_row6_col0, #T_e3b12_row6_col1, #T_e3b12_row6_col2, #T_e3b12_row6_col3, #T_e3b12_row6_col4, #T_e3b12_row6_col5, #T_e3b12_row6_col6, #T_e3b12_row6_col7, #T_e3b12_row6_col8, #T_e3b12_row6_col9 {\n",
       "  text-align: left;\n",
       "}\n",
       "</style>\n",
       "<table id=\"T_e3b12\">\n",
       "  <caption>ponds_around3000</caption>\n",
       "  <thead>\n",
       "  </thead>\n",
       "  <tbody>\n",
       "    <tr>\n",
       "      <td id=\"T_e3b12_row0_col0\" class=\"data row0 col0\" >Values</td>\n",
       "      <td id=\"T_e3b12_row0_col1\" class=\"data row0 col1\" >18 181 (77%)</td>\n",
       "      <td id=\"T_e3b12_row0_col2\" class=\"data row0 col2\" >                              </td>\n",
       "      <td id=\"T_e3b12_row0_col3\" class=\"data row0 col3\" >Max</td>\n",
       "      <td id=\"T_e3b12_row0_col4\" class=\"data row0 col4\" >3</td>\n",
       "      <td id=\"T_e3b12_row0_col5\" class=\"data row0 col5\" >                              </td>\n",
       "      <td id=\"T_e3b12_row0_col6\" class=\"data row0 col6\" >Avg</td>\n",
       "      <td id=\"T_e3b12_row0_col7\" class=\"data row0 col7\" >0.77</td>\n",
       "      <td id=\"T_e3b12_row0_col8\" class=\"data row0 col8\" >                              </td>\n",
       "      <td id=\"T_e3b12_row0_col9\" class=\"data row0 col9\" >0 (50%)</td>\n",
       "    </tr>\n",
       "    <tr>\n",
       "      <td id=\"T_e3b12_row1_col0\" class=\"data row1 col0\" >Missing</td>\n",
       "      <td id=\"T_e3b12_row1_col1\" class=\"data row1 col1\" >5 518 (23%)</td>\n",
       "      <td id=\"T_e3b12_row1_col2\" class=\"data row1 col2\" >                              </td>\n",
       "      <td id=\"T_e3b12_row1_col3\" class=\"data row1 col3\" >95%</td>\n",
       "      <td id=\"T_e3b12_row1_col4\" class=\"data row1 col4\" >3</td>\n",
       "      <td id=\"T_e3b12_row1_col5\" class=\"data row1 col5\" >                              </td>\n",
       "      <td id=\"T_e3b12_row1_col6\" class=\"data row1 col6\" >Mode</td>\n",
       "      <td id=\"T_e3b12_row1_col7\" class=\"data row1 col7\" >0</td>\n",
       "      <td id=\"T_e3b12_row1_col8\" class=\"data row1 col8\" >                              </td>\n",
       "      <td id=\"T_e3b12_row1_col9\" class=\"data row1 col9\" >1 (31%)</td>\n",
       "    </tr>\n",
       "    <tr>\n",
       "      <td id=\"T_e3b12_row2_col0\" class=\"data row2 col0\" >Distinct</td>\n",
       "      <td id=\"T_e3b12_row2_col1\" class=\"data row2 col1\" >4 (<1%)</td>\n",
       "      <td id=\"T_e3b12_row2_col2\" class=\"data row2 col2\" >                              </td>\n",
       "      <td id=\"T_e3b12_row2_col3\" class=\"data row2 col3\" >75%</td>\n",
       "      <td id=\"T_e3b12_row2_col4\" class=\"data row2 col4\" >1</td>\n",
       "      <td id=\"T_e3b12_row2_col5\" class=\"data row2 col5\" >                              </td>\n",
       "      <td id=\"T_e3b12_row2_col6\" class=\"data row2 col6\" >Range</td>\n",
       "      <td id=\"T_e3b12_row2_col7\" class=\"data row2 col7\" >3</td>\n",
       "      <td id=\"T_e3b12_row2_col8\" class=\"data row2 col8\" >                              </td>\n",
       "      <td id=\"T_e3b12_row2_col9\" class=\"data row2 col9\" >2 (10%)</td>\n",
       "    </tr>\n",
       "    <tr>\n",
       "      <td id=\"T_e3b12_row3_col0\" class=\"data row3 col0\" >Duplicates</td>\n",
       "      <td id=\"T_e3b12_row3_col1\" class=\"data row3 col1\" >23 694 (99.9%)</td>\n",
       "      <td id=\"T_e3b12_row3_col2\" class=\"data row3 col2\" >                              </td>\n",
       "      <td id=\"T_e3b12_row3_col3\" class=\"data row3 col3\" >Median</td>\n",
       "      <td id=\"T_e3b12_row3_col4\" class=\"data row3 col4\" >1</td>\n",
       "      <td id=\"T_e3b12_row3_col5\" class=\"data row3 col5\" >                              </td>\n",
       "      <td id=\"T_e3b12_row3_col6\" class=\"data row3 col6\" >iQR</td>\n",
       "      <td id=\"T_e3b12_row3_col7\" class=\"data row3 col7\" >1</td>\n",
       "      <td id=\"T_e3b12_row3_col8\" class=\"data row3 col8\" >                              </td>\n",
       "      <td id=\"T_e3b12_row3_col9\" class=\"data row3 col9\" >3 (8%)</td>\n",
       "    </tr>\n",
       "    <tr>\n",
       "      <td id=\"T_e3b12_row4_col0\" class=\"data row4 col0\" >Zeros</td>\n",
       "      <td id=\"T_e3b12_row4_col1\" class=\"data row4 col1\" >9 071 (38%)</td>\n",
       "      <td id=\"T_e3b12_row4_col2\" class=\"data row4 col2\" >                              </td>\n",
       "      <td id=\"T_e3b12_row4_col3\" class=\"data row4 col3\" >25%</td>\n",
       "      <td id=\"T_e3b12_row4_col4\" class=\"data row4 col4\" >0</td>\n",
       "      <td id=\"T_e3b12_row4_col5\" class=\"data row4 col5\" >                              </td>\n",
       "      <td id=\"T_e3b12_row4_col6\" class=\"data row4 col6\" >std</td>\n",
       "      <td id=\"T_e3b12_row4_col7\" class=\"data row4 col7\" >0.94</td>\n",
       "      <td id=\"T_e3b12_row4_col8\" class=\"data row4 col8\" >                              </td>\n",
       "      <td id=\"T_e3b12_row4_col9\" class=\"data row4 col9\" >nan</td>\n",
       "    </tr>\n",
       "    <tr>\n",
       "      <td id=\"T_e3b12_row5_col0\" class=\"data row5 col0\" >Negative</td>\n",
       "      <td id=\"T_e3b12_row5_col1\" class=\"data row5 col1\" >---</td>\n",
       "      <td id=\"T_e3b12_row5_col2\" class=\"data row5 col2\" >                              </td>\n",
       "      <td id=\"T_e3b12_row5_col3\" class=\"data row5 col3\" >5%</td>\n",
       "      <td id=\"T_e3b12_row5_col4\" class=\"data row5 col4\" >0</td>\n",
       "      <td id=\"T_e3b12_row5_col5\" class=\"data row5 col5\" >                              </td>\n",
       "      <td id=\"T_e3b12_row5_col6\" class=\"data row5 col6\" >kurt</td>\n",
       "      <td id=\"T_e3b12_row5_col7\" class=\"data row5 col7\" >0.17</td>\n",
       "      <td id=\"T_e3b12_row5_col8\" class=\"data row5 col8\" >                              </td>\n",
       "      <td id=\"T_e3b12_row5_col9\" class=\"data row5 col9\" >nan</td>\n",
       "    </tr>\n",
       "    <tr>\n",
       "      <td id=\"T_e3b12_row6_col0\" class=\"data row6 col0\" >RAM (Mb)</td>\n",
       "      <td id=\"T_e3b12_row6_col1\" class=\"data row6 col1\" ><1 Mb</td>\n",
       "      <td id=\"T_e3b12_row6_col2\" class=\"data row6 col2\" >                              </td>\n",
       "      <td id=\"T_e3b12_row6_col3\" class=\"data row6 col3\" >Min</td>\n",
       "      <td id=\"T_e3b12_row6_col4\" class=\"data row6 col4\" >0</td>\n",
       "      <td id=\"T_e3b12_row6_col5\" class=\"data row6 col5\" >                              </td>\n",
       "      <td id=\"T_e3b12_row6_col6\" class=\"data row6 col6\" >skew</td>\n",
       "      <td id=\"T_e3b12_row6_col7\" class=\"data row6 col7\" >1.07</td>\n",
       "      <td id=\"T_e3b12_row6_col8\" class=\"data row6 col8\" >                              </td>\n",
       "      <td id=\"T_e3b12_row6_col9\" class=\"data row6 col9\" >nan</td>\n",
       "    </tr>\n",
       "  </tbody>\n",
       "</table>\n",
       "\n",
       "            <div>\n",
       "                <img src=\"data:image/png;base64,iVBORw0KGgoAAAANSUhEUgAAASwAAADcCAYAAADKmJzYAAAULUlEQVR4Xu2de2xV1Z7Hf+fV2lqkFBjgjiOTm+tl7h1J1QyjlwS4AexEUIxCc0kNMVIw4Gs0aiSRR4kgEhAif0kQRUSEihkMRh7RAMaEhJjcf8hUCRofsb0tsYUEatvTc85krbGF8uj57W33Pnvv89kJIdLf2mftz/quj2s/uk8sl8vlhA0CEIBACAjEEFYIRokuQgAClgDCIggQgEBoCCCs0AwVHYUABBAWGYAABEJDAGGFZqjoKAQggLDIAAQgEBoCCCs0Q0VHIQABhEUGIACB0BBAWKEZKjoKAQhEQlgNDQ1i/rBBAALRJoCwoj2+HB0EIkUAYUVqODkYCESbAMKK9vhydBCIFAGEFanh5GAgEG0CCCva48vRQSBSBBBWpIaTg4FAtAlERlj//djzIm5eRRgTGfG7imiPMkcHgYgQiIyw/vovtfJTU7vjYfnnP1XJX+v/3XE7GkAAAv4TiIywqpOz5NsvWx0T/P1/jJEHl/+n43Y0gAAE/CeAsBCW/6njEyHgkgDCQlguo0MzCPhPAGEhLP9TxydCwCWBohBWZ0e3lFWWSix2NSWuYblMDs0gUAACkRVWNpOV7ou9UlKeknRXWlJlSUl3ZqSkPCnxxCVzIawCpI6PhIBLApEVlvl+2Gw6K+nujGSzIvF4TFI3JCSejEnssqUWwnKZHJpBoAAEIiusbCYnXRfSkkjGJSc5MWuqbG9OSitSrLAKEDQ+EgJDQSCywrIrrEzOCuuX8z1SNrxEMumcxJPCCmsoksM+IFAAApEV1uUse7p6JVWaGCCqvp9zSliA1PGREHBJoCiENRgbhOUyOTSDQAEIICyewypA7PhICLgjgLAQlrvk0AoCBSCAsBBWAWLHR0LAHQGEhbDcJYdWECgAAYSFsAoQOz4SAu4IICyE5S45tIJAAQggLIRVgNjxkRBwRwBhISx3yaEVBApAAGEhrALEjo+EgDsCCAthuUsOrSBQAAIIC2EVIHZ8JATcEUBYCMtdcmgFgQIQKKiwjh8/Lm+//bbs2LHDHnpnZ6esX79eksmktLW1SW1trUydOjUvloaGBuFrvvJiogACoSdQMGEZOc2fP1+qqqr6hbVhwwb73/X19dLR0SHz5s2TPXv2yOjRowcFjbBCn0MOAAIqAgUT1uuvvy7pdFpOnTplhZXNZmXGjBmyZcsWmThxou38okWLZPr06VJXV4ewVMNJEQSiTaAgwmpqapJjx47JuHHjZP/+/VZYzc3NMmfOHDl8+LCMHDnSUl+9erX9e9WqVQgr2jnk6CCgIuC7sDKZjLz00ktWRgcPHuwXlpHYggULrMgqKips580pYktLi2zatKn/YC5cuHDVgW3cuJFrWKrhpggC4Sbgu7Def/99GT9+vEyePNnKqm+F1Seso0ePyrBhw64rLCOnKzcjMS66hzuI9B4CGgK+Cqu1tVW2bdsmy5cvt327XFh9p4SHDh2SUaNG2Z+bi+mJREJWrFjBKaFmNKmBQMQJ+CqsnTt3yvbt2yWVSlmsPT099o85Bfz4449l1qxZsnnzZqmurrY/X7hwodTU1Ni7iYNt3CWMeEo5PAj8SsBXYV28eFEuvwZlLrAfOXJEXnvtNRkzZoy9ZlVZWSmLFy+W9vZ2+1hDY2Nj/4rreqOGsMgzBIqDgK/CuhLp5aeE5mfm2ax169ZJeXm5mNPHuXPnypQpU/KOBMLKi4gCCESCQEGFNVQEEdZQkWQ/EAg2AYTF7xIGO6H0DgKXEUBYCIsJAYHQEEBYCCs0YaWjEEBYCItZAIHQEEBYCCs0YaWjEEBYCItZAIHQEEBYCCs0YaWjEEBYCItZAIHQEEBYCCs0YaWjEEBYCItZAIHQEEBYCCs0YaWjEEBYCItZAIHQEEBYCCs0YaWjEEBYCItZAIHQEEBYCCs0YaWjEEBYCItZAIHQEEBYCCs0YaWjEEBYCItZAIHQEEBYCCs0YaWjEEBYCItZAIHQEEBYRSisE3tPyz/OnHMc0rF/qJS//O2PjtvRAAJDRQBhFaGw/mfNSfn2y1bHGfp9EbJyDIkGnhJAWEU4CRGWp3OKnXtIAGEhLHW8WGGpUVHoEQGEhbDU0UJYalQUekQAYSGsAdHq7OiWsspSicWuThzC8mgWsls1AYSFsCSbyUr3xV4pKU9JuistqbKkpDszUlKelHjikrkQlnpeUegRAYSFsCSXy0k2nZV0d0ayWZF4PCapGxIST8YkdtlSC2F5NAvZrZoAwkJYks3kpOtCWhLJuOQkJ2ZNle3NSWlFihWWeipR6AcBhIWw/n+FlclZYf1yvkfKhpdIJp2TeFJYYfkxC/kMNQGEhbAGhKWnq1dSpYkBouor4JRQPa8o9IgAwkJY6mghLDUqCj0igLAQljpaCEuNikKPCCAshKWOFsJSo6LQIwIIC2Gpo4Ww1Kgo9IgAwkJY6mghLDUqCj0igLAQljpaCEuNikKPCCAshKWOFsJSo6LQIwIIC2Gpo4Ww1Kgo9IgAwkJY6mghLDUqCj0igLAQljpaCEuNikKPCCAshKWOFsJSo6LQIwIIC2Gpo4Ww1Kgo9IgAwkJY6mghLDUqCj0igLAQljpaCEuNikKPCCAshKWOFsJSo6LQIwIIC2Gpo4Ww1Kgo9IgAwkJY6mghLDUqCj0igLAQljpaCEuNikKPCPgurJUrV0pXV5cMGzZMmpubZcGCBTJ58mR7eJ2dnbJ+/XpJJpPS1tYmtbW1MnXq1LyH3tDQINXJWfLtl615a68sKMZJyFfVO44JDQJCwHdhvfrqq7Js2TJ7+KdOnZIlS5bIgQMHZMSIEbJhwwapqqqS+vp66ejokHnz5smePXtk9OjRg+JCWM7ShLCc8aI6OAR8F9bZs2f7BZTJZOSuu+6SrVu3yh133CEzZsyQLVu2yMSJEy2hRYsWyfTp06Wurg5hDWFmENYQwmRXvhLwXViXH51ZRd1zzz2yb98+KSkpkTlz5sjhw4dl5MiRtmz16tX271WrViGsIYwFwhpCmOzKVwIFFZaR065du+Tdd9+VpqYmez3r2LFjUlFRYSGYU8SWlhbZtGlTP5TTp09fBWj37t1cw3IQG4TlABalgSJQMGF1d3fba1UrVqyQCRMm9Avr6NGj9oL89YRl5HTlZiTGRXd9rhCWnhWVwSJQEGGZa1fmbuHs2bP77xCaO4bmlPDQoUMyatQoS8lcTE8kElZqg21cdHcWKoTljBfVwSHgu7CMrNauXSv33nuvTJo0qZ9ENpuVmTNnyubNm6W6utr++8KFC6Wmpkbmz5+PsIYwMwhrCGGyK18J+Cqs3t5eu7KaNm1a/51Ac7Q33XSTvW5lrllVVlbK4sWLpb293T7W0NjY2L/iuh4ZVljOMoOwnPGiOjgEfBXWjz/+KA8++OBVR7906VJ7Pcs8OLpu3TopLy+X1tZWmTt3rkyZMiUvLYSVF9GAAoTljBfVwSHgq7C8OmyE5YwswnLGi+rgEEBY/C6hOo3F+GtMajgU+kIAYSEsddAQlhoVhR4RQFgISx0thKVGRaFHBBAWwlJHC2GpUVHoEQGEhbDU0UJYalQUekQAYSEsdbQQlhoVhR4RQFgISx0thKVGRaFHBBAWwlJHC2GpUVHoEQGEhbDU0UJYalQUekQAYSEsdbQQlhoVhR4RQFgISx0thKVGRaFHBBAWwlJHC2GpUVHoEQGEhbDU0UJYalQUekQAYSEsdbQQlhoVhR4RQFgISx0thKVGRaFHBBAWwlJHC2GpUVHoEQGEhbDU0UJYalQUekQAYSEsdbQQlhoVhR4RQFgISx0thKVGRaFHBBAWwlJHC2GpUVHoEQGEhbDU0UJYalQUekQAYSEsdbQQlhoVhR4RQFgISx2tYhRW14W0ms+VhTdUpFy3peG1CSAshKWeG8UorOM7/leam9rVjPoKf/dvVTLt0T87bkeDwQkgLISlniPFKCy+dFYdD18KERbCUgcNYalRSTGy0tNxX4mwEJY6PcU4CVlhqePhSyHCQljqoCEsNSpWWHpUjioRFsJSBwZhDUTV2dEtZZWlEotdjbAYWamD9BsKERbCUsenGCfhlaeE2UxWui/2Skl5StJdaUmVJSXdmZGS8qTEE5fMVYysvv97m/zi4jEQ8/jHv97xT6ocIiyEpQqKKSrGSXilsHK5nGTTWUl3ZySbFYnHY5K6ISHxZExily21YKWOlaNcISyEpU4Wk1Akm8mJeZg0kYxLTnJi1lTZ3pyUVqSKfoXlxw0KhIWwENYgBK65wsrkrLB+Od8jZcNLJJPOSTwprLDWnJRvv2xV56mv0Mn/CBEWwlIHzEmw1DsNeOFgq4aerl5JlSYGiMrNJAw4AnX3WGEpUTU0NEh1cpbndld2J/BlfgQr8BCUHYSVEpSIDMZqqO6ossJihaVOJCssNSpHF5L1ew12pR93VBEWwlLPAoSlRoWwRMSLO6oIC2GpZyHCUqNCWObuqQd3VBEWwlLPQoSlRoWw+lZYQ3xHFWEhLPUsRFhqVAjrClRDdUcVYSEs9SxEWGpUCEuPyhErhIWw1NFCWGpUjiahfq/BrvTjERCEhbDUswBhqVEhLD0qR6wQFsJSRwthqVE5moT6vQa7khWWcnx40l0J6tcyP4LlrEfBrYaVfmz8YMUKixWWOpGssNSoWGHpUTlihbAQljpaCEuNytEk1O812JWssJTjwymhEhSnhM5A5fmF3sF2htz1qJ2wYoXFCkudLCfBUu804IV+rBoCjkDdPT9YBUpYnZ2dsn79ekkmk9LW1ia1tbUyderUvMBYYeVFNKDAj2A561Fwq2GlHxs/WAVKWBs2bJCqqiqpr6+Xjo4OmTdvnuzZs0dGjx49KDWEpQ+VqfQjWM56FNxqWOnHxg9WgRFWNpuVGTNmyJYtW2TixImW0qJFi2T69OlSV1eHsPS5yVvpR7DydiIkBbDSD5QfrAIjrObmZpkzZ44cPnxYRo4caSmtXr3a/r1q1SqEpc9N3ko/gpW3EyEpgJV+oPxgFRhhNTU1yYIFC+TYsWNSUVFhKZlTxJaWFtm0aVM/NfPzKzfzb//1pzr5x5lzerq/Vo79Q6X85W9/dNwuzA1O7D0NK+UAwkoJSkT8YBU4YR09elSGDRvmWFh6rFRCAAJBI2CuQ2u2wAir75Tw0KFDMmrUKNt3cxCJREJWrFihOZbr1pj9aIH8pg+KQGNY6QcRVv6zCoywzEX3mTNnyubNm6W6utqSWLhwodTU1Mj8+fP1ZK5RSbD0+GAFKz0BfeVQ5SowwjKHbq5ZVVZWyuLFi6W9vd0+1tDY2Ni/4tLjGVg5VLDcfn6Y2sFKP1qw8p9VoIRlHhxdt26dlJeXS2trq8ydO1emTJmip3KdSoKlRwgrWOkJ6CuHKleBEpb+8J1VDhUsZ58azmpY6ccNVv6zKgph6bFSCQEIBJkAwgry6NA3CEBgAAGERSAgAIHQEEBYoRkqOgoBCCAsMgABCISGAMIKzVDRUQhAAGGRAQhAIDQEIi2s77//3r5fa8SIEfZB1Oeff17Gjx8fmsHxu6M//PCDfePrww8/LJMnT/b740PxeRcvXpSnnnpKbr75ZonFYnL+/Hl59tlnydU1Rq+7u1sef/xxGTt2rJSUlNg3rzz55JNy2223uR7ryAorl8vZF/+9+OKLcvvtt8vnn38ub7zxhuzevds1rCg3PHLkiJw5c0Y+/PBDefnllxHWdQb73Llz9i24S5YssRXvvPOOfPbZZ7Jz584ox8PVsZnfXHnrrbespMz2wQcfyK5du+Sjjz5ytT/TKLLC+vrrr+2rlo2o4vG4GNtPmzbNBmzChAmugUW94axZs2T58uUI6zoDnclk7KrKvMrbbCdPnrQT8sSJE/bNImwDCZh5V1pa2s/q6aeftqzM6tTNFllhHThwwMpp3759/VzMG00fe+wxue+++9ywKoo2CMvZMH/66af2l/bNm3LZBidgLs+YL5dZs2aNa1SRFZZZeh48eFDee++9fjjmNTX333+/vUbDdm0CCMtZMl555RX7y/rPPPOMs4ZFVL1t2za7qiorK5O1a9faN7K43SItrE8++WTANSuElT8mCCs/o76K7777TpYtWybbt2+XG2+8Ud+wSCuPHz8uGzdutHOy763CTlFEVljmlHDHjh32InLfZlZXS5cuFTMp2Vhh/ZYM/Pzzz/ZNuObPuHHjfsuuiqrtAw88YC/LzJ4929VxR1ZYfRfdjdXNxVBz8c98Kas5Vbz11ltdwSqGRqyw8o+ykZV5b9sLL7wgY8aMyd+gSCvMY0XDhw8fcApo3nH36KOPur6OHFlh9T3WYEJ155132ruFW7duHXBNq0hzNOhhI6zBU3H27FlZuXKlPPHEE/13Ck0L8z0E5lkjtksEvvjiC+np6bHfLWq2b775xr72fO/evfbZLDdbZIVlYJhrDObOhIHz008/yXPPPSe33HKLG06Rb2OeJfrqq6/sM0Z33323/TLbhx56qP8r1yIPQHmA+/fvv+ZdrjfffNM+78d2iYA5yzEPIvc9rG1k/8gjj8ikSZNcY4q0sFxToSEEIBBIAggrkMNCpyAAgWsRQFjkAgIQCA0BhBWaoaKjEIAAwiIDEIBAaAggrNAMFR2FAAQQFhmAAARCQwBhhWao6CgEIICwyAAEIBAaAggrNENFRyEAAYRFBiAAgdAQQFihGSo6CgEIICwyAAEIhIYAwgrNUNFRCEAAYZEBCEAgNAQQVmiGio5CAAIIiwxAAAKhIYCwQjNUdBQCEEBYZAACEAgNAYQVmqGioxCAAMIiAxCAQGgIIKzQDBUdhQAEEBYZgAAEQkMAYYVmqOgoBCCAsMgABCAQGgIIKzRDRUchAAGERQYgAIHQEEBYoRkqOgoBCCAsMgABCISGAMIKzVDRUQhA4P8AVZOPP6MharsAAAAASUVORK5CYII=\" alt=\"График\"/>\n",
       "            </div>\n",
       "        </div>\n",
       "        "
      ],
      "text/plain": [
       "<IPython.core.display.HTML object>"
      ]
     },
     "metadata": {},
     "output_type": "display_data"
    }
   ],
   "source": [
    "next(gen)"
   ]
  },
  {
   "cell_type": "markdown",
   "metadata": {},
   "source": [
    "**Наблюдения:**\n",
    "- В колонке с количеством прудов 23 прцоента пропусков, скорее всего это отсутствие парков.  "
   ]
  },
  {
   "cell_type": "code",
   "execution_count": 381,
   "metadata": {},
   "outputs": [
    {
     "data": {
      "text/html": [
       "\n",
       "        <div style=\"display: flex; justify-content: flex-start; align-items: flex-end;\">\n",
       "            <style type=\"text/css\">\n",
       "#T_9404d caption {\n",
       "  font-size: 16px;\n",
       "  text-align: left;\n",
       "  font-weight: bold;\n",
       "}\n",
       "#T_9404d_row0_col0, #T_9404d_row0_col1, #T_9404d_row0_col2, #T_9404d_row0_col3, #T_9404d_row0_col4, #T_9404d_row0_col5, #T_9404d_row0_col6, #T_9404d_row0_col7, #T_9404d_row0_col8, #T_9404d_row0_col9, #T_9404d_row1_col0, #T_9404d_row1_col1, #T_9404d_row1_col2, #T_9404d_row1_col3, #T_9404d_row1_col4, #T_9404d_row1_col5, #T_9404d_row1_col6, #T_9404d_row1_col7, #T_9404d_row1_col8, #T_9404d_row1_col9, #T_9404d_row2_col0, #T_9404d_row2_col1, #T_9404d_row2_col2, #T_9404d_row2_col3, #T_9404d_row2_col4, #T_9404d_row2_col5, #T_9404d_row2_col6, #T_9404d_row2_col7, #T_9404d_row2_col8, #T_9404d_row2_col9, #T_9404d_row3_col0, #T_9404d_row3_col1, #T_9404d_row3_col2, #T_9404d_row3_col3, #T_9404d_row3_col4, #T_9404d_row3_col5, #T_9404d_row3_col6, #T_9404d_row3_col7, #T_9404d_row3_col8, #T_9404d_row3_col9, #T_9404d_row4_col0, #T_9404d_row4_col1, #T_9404d_row4_col2, #T_9404d_row4_col3, #T_9404d_row4_col4, #T_9404d_row4_col5, #T_9404d_row4_col6, #T_9404d_row4_col7, #T_9404d_row4_col8, #T_9404d_row4_col9, #T_9404d_row5_col0, #T_9404d_row5_col1, #T_9404d_row5_col2, #T_9404d_row5_col3, #T_9404d_row5_col4, #T_9404d_row5_col5, #T_9404d_row5_col6, #T_9404d_row5_col7, #T_9404d_row5_col8, #T_9404d_row5_col9, #T_9404d_row6_col0, #T_9404d_row6_col1, #T_9404d_row6_col2, #T_9404d_row6_col3, #T_9404d_row6_col4, #T_9404d_row6_col5, #T_9404d_row6_col6, #T_9404d_row6_col7, #T_9404d_row6_col8, #T_9404d_row6_col9 {\n",
       "  text-align: left;\n",
       "}\n",
       "</style>\n",
       "<table id=\"T_9404d\">\n",
       "  <caption>ponds_nearest</caption>\n",
       "  <thead>\n",
       "  </thead>\n",
       "  <tbody>\n",
       "    <tr>\n",
       "      <td id=\"T_9404d_row0_col0\" class=\"data row0 col0\" >Values</td>\n",
       "      <td id=\"T_9404d_row0_col1\" class=\"data row0 col1\" >9 110 (38%)</td>\n",
       "      <td id=\"T_9404d_row0_col2\" class=\"data row0 col2\" >                              </td>\n",
       "      <td id=\"T_9404d_row0_col3\" class=\"data row0 col3\" >Max</td>\n",
       "      <td id=\"T_9404d_row0_col4\" class=\"data row0 col4\" >1 344</td>\n",
       "      <td id=\"T_9404d_row0_col5\" class=\"data row0 col5\" >                              </td>\n",
       "      <td id=\"T_9404d_row0_col6\" class=\"data row0 col6\" >Avg</td>\n",
       "      <td id=\"T_9404d_row0_col7\" class=\"data row0 col7\" >517.98</td>\n",
       "      <td id=\"T_9404d_row0_col8\" class=\"data row0 col8\" >                              </td>\n",
       "      <td id=\"T_9404d_row0_col9\" class=\"data row0 col9\" >427 <1%</td>\n",
       "    </tr>\n",
       "    <tr>\n",
       "      <td id=\"T_9404d_row1_col0\" class=\"data row1 col0\" >Missing</td>\n",
       "      <td id=\"T_9404d_row1_col1\" class=\"data row1 col1\" >14 589 (62%)</td>\n",
       "      <td id=\"T_9404d_row1_col2\" class=\"data row1 col2\" >                              </td>\n",
       "      <td id=\"T_9404d_row1_col3\" class=\"data row1 col3\" >95%</td>\n",
       "      <td id=\"T_9404d_row1_col4\" class=\"data row1 col4\" >976.55</td>\n",
       "      <td id=\"T_9404d_row1_col5\" class=\"data row1 col5\" >                              </td>\n",
       "      <td id=\"T_9404d_row1_col6\" class=\"data row1 col6\" >Mode</td>\n",
       "      <td id=\"T_9404d_row1_col7\" class=\"data row1 col7\" >427</td>\n",
       "      <td id=\"T_9404d_row1_col8\" class=\"data row1 col8\" >                              </td>\n",
       "      <td id=\"T_9404d_row1_col9\" class=\"data row1 col9\" >454 <1%</td>\n",
       "    </tr>\n",
       "    <tr>\n",
       "      <td id=\"T_9404d_row2_col0\" class=\"data row2 col0\" >Distinct</td>\n",
       "      <td id=\"T_9404d_row2_col1\" class=\"data row2 col1\" >1 096 (5%)</td>\n",
       "      <td id=\"T_9404d_row2_col2\" class=\"data row2 col2\" >                              </td>\n",
       "      <td id=\"T_9404d_row2_col3\" class=\"data row2 col3\" >75%</td>\n",
       "      <td id=\"T_9404d_row2_col4\" class=\"data row2 col4\" >729</td>\n",
       "      <td id=\"T_9404d_row2_col5\" class=\"data row2 col5\" >                              </td>\n",
       "      <td id=\"T_9404d_row2_col6\" class=\"data row2 col6\" >Range</td>\n",
       "      <td id=\"T_9404d_row2_col7\" class=\"data row2 col7\" >1 331</td>\n",
       "      <td id=\"T_9404d_row2_col8\" class=\"data row2 col8\" >                              </td>\n",
       "      <td id=\"T_9404d_row2_col9\" class=\"data row2 col9\" >153 <1%</td>\n",
       "    </tr>\n",
       "    <tr>\n",
       "      <td id=\"T_9404d_row3_col0\" class=\"data row3 col0\" >Duplicates</td>\n",
       "      <td id=\"T_9404d_row3_col1\" class=\"data row3 col1\" >22 602 (95%)</td>\n",
       "      <td id=\"T_9404d_row3_col2\" class=\"data row3 col2\" >                              </td>\n",
       "      <td id=\"T_9404d_row3_col3\" class=\"data row3 col3\" >Median</td>\n",
       "      <td id=\"T_9404d_row3_col4\" class=\"data row3 col4\" >502</td>\n",
       "      <td id=\"T_9404d_row3_col5\" class=\"data row3 col5\" >                              </td>\n",
       "      <td id=\"T_9404d_row3_col6\" class=\"data row3 col6\" >iQR</td>\n",
       "      <td id=\"T_9404d_row3_col7\" class=\"data row3 col7\" >435</td>\n",
       "      <td id=\"T_9404d_row3_col8\" class=\"data row3 col8\" >                              </td>\n",
       "      <td id=\"T_9404d_row3_col9\" class=\"data row3 col9\" >433 <1%</td>\n",
       "    </tr>\n",
       "    <tr>\n",
       "      <td id=\"T_9404d_row4_col0\" class=\"data row4 col0\" >Zeros</td>\n",
       "      <td id=\"T_9404d_row4_col1\" class=\"data row4 col1\" >---</td>\n",
       "      <td id=\"T_9404d_row4_col2\" class=\"data row4 col2\" >                              </td>\n",
       "      <td id=\"T_9404d_row4_col3\" class=\"data row4 col3\" >25%</td>\n",
       "      <td id=\"T_9404d_row4_col4\" class=\"data row4 col4\" >294</td>\n",
       "      <td id=\"T_9404d_row4_col5\" class=\"data row4 col5\" >                              </td>\n",
       "      <td id=\"T_9404d_row4_col6\" class=\"data row4 col6\" >std</td>\n",
       "      <td id=\"T_9404d_row4_col7\" class=\"data row4 col7\" >277.72</td>\n",
       "      <td id=\"T_9404d_row4_col8\" class=\"data row4 col8\" >                              </td>\n",
       "      <td id=\"T_9404d_row4_col9\" class=\"data row4 col9\" >474 <1%</td>\n",
       "    </tr>\n",
       "    <tr>\n",
       "      <td id=\"T_9404d_row5_col0\" class=\"data row5 col0\" >Negative</td>\n",
       "      <td id=\"T_9404d_row5_col1\" class=\"data row5 col1\" >---</td>\n",
       "      <td id=\"T_9404d_row5_col2\" class=\"data row5 col2\" >                              </td>\n",
       "      <td id=\"T_9404d_row5_col3\" class=\"data row5 col3\" >5%</td>\n",
       "      <td id=\"T_9404d_row5_col4\" class=\"data row5 col4\" >93</td>\n",
       "      <td id=\"T_9404d_row5_col5\" class=\"data row5 col5\" >                              </td>\n",
       "      <td id=\"T_9404d_row5_col6\" class=\"data row5 col6\" >kurt</td>\n",
       "      <td id=\"T_9404d_row5_col7\" class=\"data row5 col7\" >-0.73</td>\n",
       "      <td id=\"T_9404d_row5_col8\" class=\"data row5 col8\" >                              </td>\n",
       "      <td id=\"T_9404d_row5_col9\" class=\"data row5 col9\" >564 <1%</td>\n",
       "    </tr>\n",
       "    <tr>\n",
       "      <td id=\"T_9404d_row6_col0\" class=\"data row6 col0\" >RAM (Mb)</td>\n",
       "      <td id=\"T_9404d_row6_col1\" class=\"data row6 col1\" ><1 Mb</td>\n",
       "      <td id=\"T_9404d_row6_col2\" class=\"data row6 col2\" >                              </td>\n",
       "      <td id=\"T_9404d_row6_col3\" class=\"data row6 col3\" >Min</td>\n",
       "      <td id=\"T_9404d_row6_col4\" class=\"data row6 col4\" >13</td>\n",
       "      <td id=\"T_9404d_row6_col5\" class=\"data row6 col5\" >                              </td>\n",
       "      <td id=\"T_9404d_row6_col6\" class=\"data row6 col6\" >skew</td>\n",
       "      <td id=\"T_9404d_row6_col7\" class=\"data row6 col7\" >0.22</td>\n",
       "      <td id=\"T_9404d_row6_col8\" class=\"data row6 col8\" >                              </td>\n",
       "      <td id=\"T_9404d_row6_col9\" class=\"data row6 col9\" >303 <1%</td>\n",
       "    </tr>\n",
       "  </tbody>\n",
       "</table>\n",
       "\n",
       "            <div>\n",
       "                <img src=\"data:image/png;base64,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\" alt=\"График\"/>\n",
       "            </div>\n",
       "        </div>\n",
       "        "
      ],
      "text/plain": [
       "<IPython.core.display.HTML object>"
      ]
     },
     "metadata": {},
     "output_type": "display_data"
    }
   ],
   "source": [
    "next(gen)"
   ]
  },
  {
   "cell_type": "markdown",
   "metadata": {},
   "source": [
    "**Наблюдения:**\n",
    "- В колоке с растоянием до ближайшего пруда 62 прцоента пропусков. "
   ]
  },
  {
   "cell_type": "code",
   "execution_count": 382,
   "metadata": {},
   "outputs": [
    {
     "data": {
      "text/html": [
       "\n",
       "        <div style=\"display: flex; justify-content: flex-start; align-items: flex-end;\">\n",
       "            <style type=\"text/css\">\n",
       "#T_57f2b caption {\n",
       "  font-size: 16px;\n",
       "  text-align: left;\n",
       "  font-weight: bold;\n",
       "}\n",
       "#T_57f2b_row0_col0, #T_57f2b_row0_col1, #T_57f2b_row0_col2, #T_57f2b_row0_col3, #T_57f2b_row0_col4, #T_57f2b_row0_col5, #T_57f2b_row0_col6, #T_57f2b_row0_col7, #T_57f2b_row0_col8, #T_57f2b_row0_col9, #T_57f2b_row1_col0, #T_57f2b_row1_col1, #T_57f2b_row1_col2, #T_57f2b_row1_col3, #T_57f2b_row1_col4, #T_57f2b_row1_col5, #T_57f2b_row1_col6, #T_57f2b_row1_col7, #T_57f2b_row1_col8, #T_57f2b_row1_col9, #T_57f2b_row2_col0, #T_57f2b_row2_col1, #T_57f2b_row2_col2, #T_57f2b_row2_col3, #T_57f2b_row2_col4, #T_57f2b_row2_col5, #T_57f2b_row2_col6, #T_57f2b_row2_col7, #T_57f2b_row2_col8, #T_57f2b_row2_col9, #T_57f2b_row3_col0, #T_57f2b_row3_col1, #T_57f2b_row3_col2, #T_57f2b_row3_col3, #T_57f2b_row3_col4, #T_57f2b_row3_col5, #T_57f2b_row3_col6, #T_57f2b_row3_col7, #T_57f2b_row3_col8, #T_57f2b_row3_col9, #T_57f2b_row4_col0, #T_57f2b_row4_col1, #T_57f2b_row4_col2, #T_57f2b_row4_col3, #T_57f2b_row4_col4, #T_57f2b_row4_col5, #T_57f2b_row4_col6, #T_57f2b_row4_col7, #T_57f2b_row4_col8, #T_57f2b_row4_col9, #T_57f2b_row5_col0, #T_57f2b_row5_col1, #T_57f2b_row5_col2, #T_57f2b_row5_col3, #T_57f2b_row5_col4, #T_57f2b_row5_col5, #T_57f2b_row5_col6, #T_57f2b_row5_col7, #T_57f2b_row5_col8, #T_57f2b_row5_col9, #T_57f2b_row6_col0, #T_57f2b_row6_col1, #T_57f2b_row6_col2, #T_57f2b_row6_col3, #T_57f2b_row6_col4, #T_57f2b_row6_col5, #T_57f2b_row6_col6, #T_57f2b_row6_col7, #T_57f2b_row6_col8, #T_57f2b_row6_col9 {\n",
       "  text-align: left;\n",
       "}\n",
       "</style>\n",
       "<table id=\"T_57f2b\">\n",
       "  <caption>days_exposition</caption>\n",
       "  <thead>\n",
       "  </thead>\n",
       "  <tbody>\n",
       "    <tr>\n",
       "      <td id=\"T_57f2b_row0_col0\" class=\"data row0 col0\" >Values</td>\n",
       "      <td id=\"T_57f2b_row0_col1\" class=\"data row0 col1\" >20 518 (87%)</td>\n",
       "      <td id=\"T_57f2b_row0_col2\" class=\"data row0 col2\" >                              </td>\n",
       "      <td id=\"T_57f2b_row0_col3\" class=\"data row0 col3\" >Max</td>\n",
       "      <td id=\"T_57f2b_row0_col4\" class=\"data row0 col4\" >1 580</td>\n",
       "      <td id=\"T_57f2b_row0_col5\" class=\"data row0 col5\" >                              </td>\n",
       "      <td id=\"T_57f2b_row0_col6\" class=\"data row0 col6\" >Avg</td>\n",
       "      <td id=\"T_57f2b_row0_col7\" class=\"data row0 col7\" >180.89</td>\n",
       "      <td id=\"T_57f2b_row0_col8\" class=\"data row0 col8\" >                              </td>\n",
       "      <td id=\"T_57f2b_row0_col9\" class=\"data row0 col9\" >45.0 (4%)</td>\n",
       "    </tr>\n",
       "    <tr>\n",
       "      <td id=\"T_57f2b_row1_col0\" class=\"data row1 col0\" >Missing</td>\n",
       "      <td id=\"T_57f2b_row1_col1\" class=\"data row1 col1\" >3 181 (13%)</td>\n",
       "      <td id=\"T_57f2b_row1_col2\" class=\"data row1 col2\" >                              </td>\n",
       "      <td id=\"T_57f2b_row1_col3\" class=\"data row1 col3\" >95%</td>\n",
       "      <td id=\"T_57f2b_row1_col4\" class=\"data row1 col4\" >647</td>\n",
       "      <td id=\"T_57f2b_row1_col5\" class=\"data row1 col5\" >                              </td>\n",
       "      <td id=\"T_57f2b_row1_col6\" class=\"data row1 col6\" >Mode</td>\n",
       "      <td id=\"T_57f2b_row1_col7\" class=\"data row1 col7\" >45.0</td>\n",
       "      <td id=\"T_57f2b_row1_col8\" class=\"data row1 col8\" >                              </td>\n",
       "      <td id=\"T_57f2b_row1_col9\" class=\"data row1 col9\" >60 (3%)</td>\n",
       "    </tr>\n",
       "    <tr>\n",
       "      <td id=\"T_57f2b_row2_col0\" class=\"data row2 col0\" >Distinct</td>\n",
       "      <td id=\"T_57f2b_row2_col1\" class=\"data row2 col1\" >1 141 (5%)</td>\n",
       "      <td id=\"T_57f2b_row2_col2\" class=\"data row2 col2\" >                              </td>\n",
       "      <td id=\"T_57f2b_row2_col3\" class=\"data row2 col3\" >75%</td>\n",
       "      <td id=\"T_57f2b_row2_col4\" class=\"data row2 col4\" >232</td>\n",
       "      <td id=\"T_57f2b_row2_col5\" class=\"data row2 col5\" >                              </td>\n",
       "      <td id=\"T_57f2b_row2_col6\" class=\"data row2 col6\" >Range</td>\n",
       "      <td id=\"T_57f2b_row2_col7\" class=\"data row2 col7\" >1 579</td>\n",
       "      <td id=\"T_57f2b_row2_col8\" class=\"data row2 col8\" >                              </td>\n",
       "      <td id=\"T_57f2b_row2_col9\" class=\"data row2 col9\" >7 (1%)</td>\n",
       "    </tr>\n",
       "    <tr>\n",
       "      <td id=\"T_57f2b_row3_col0\" class=\"data row3 col0\" >Duplicates</td>\n",
       "      <td id=\"T_57f2b_row3_col1\" class=\"data row3 col1\" >22 557 (95%)</td>\n",
       "      <td id=\"T_57f2b_row3_col2\" class=\"data row3 col2\" >                              </td>\n",
       "      <td id=\"T_57f2b_row3_col3\" class=\"data row3 col3\" >Median</td>\n",
       "      <td id=\"T_57f2b_row3_col4\" class=\"data row3 col4\" >95</td>\n",
       "      <td id=\"T_57f2b_row3_col5\" class=\"data row3 col5\" >                              </td>\n",
       "      <td id=\"T_57f2b_row3_col6\" class=\"data row3 col6\" >iQR</td>\n",
       "      <td id=\"T_57f2b_row3_col7\" class=\"data row3 col7\" >187</td>\n",
       "      <td id=\"T_57f2b_row3_col8\" class=\"data row3 col8\" >                              </td>\n",
       "      <td id=\"T_57f2b_row3_col9\" class=\"data row3 col9\" >30 (1%)</td>\n",
       "    </tr>\n",
       "    <tr>\n",
       "      <td id=\"T_57f2b_row4_col0\" class=\"data row4 col0\" >Zeros</td>\n",
       "      <td id=\"T_57f2b_row4_col1\" class=\"data row4 col1\" >---</td>\n",
       "      <td id=\"T_57f2b_row4_col2\" class=\"data row4 col2\" >                              </td>\n",
       "      <td id=\"T_57f2b_row4_col3\" class=\"data row4 col3\" >25%</td>\n",
       "      <td id=\"T_57f2b_row4_col4\" class=\"data row4 col4\" >45.0</td>\n",
       "      <td id=\"T_57f2b_row4_col5\" class=\"data row4 col5\" >                              </td>\n",
       "      <td id=\"T_57f2b_row4_col6\" class=\"data row4 col6\" >std</td>\n",
       "      <td id=\"T_57f2b_row4_col7\" class=\"data row4 col7\" >219.73</td>\n",
       "      <td id=\"T_57f2b_row4_col8\" class=\"data row4 col8\" >                              </td>\n",
       "      <td id=\"T_57f2b_row4_col9\" class=\"data row4 col9\" >90.0 <1%</td>\n",
       "    </tr>\n",
       "    <tr>\n",
       "      <td id=\"T_57f2b_row5_col0\" class=\"data row5 col0\" >Negative</td>\n",
       "      <td id=\"T_57f2b_row5_col1\" class=\"data row5 col1\" >---</td>\n",
       "      <td id=\"T_57f2b_row5_col2\" class=\"data row5 col2\" >                              </td>\n",
       "      <td id=\"T_57f2b_row5_col3\" class=\"data row5 col3\" >5%</td>\n",
       "      <td id=\"T_57f2b_row5_col4\" class=\"data row5 col4\" >9</td>\n",
       "      <td id=\"T_57f2b_row5_col5\" class=\"data row5 col5\" >                              </td>\n",
       "      <td id=\"T_57f2b_row5_col6\" class=\"data row5 col6\" >kurt</td>\n",
       "      <td id=\"T_57f2b_row5_col7\" class=\"data row5 col7\" >6.28</td>\n",
       "      <td id=\"T_57f2b_row5_col8\" class=\"data row5 col8\" >                              </td>\n",
       "      <td id=\"T_57f2b_row5_col9\" class=\"data row5 col9\" >4 <1%</td>\n",
       "    </tr>\n",
       "    <tr>\n",
       "      <td id=\"T_57f2b_row6_col0\" class=\"data row6 col0\" >RAM (Mb)</td>\n",
       "      <td id=\"T_57f2b_row6_col1\" class=\"data row6 col1\" ><1 Mb</td>\n",
       "      <td id=\"T_57f2b_row6_col2\" class=\"data row6 col2\" >                              </td>\n",
       "      <td id=\"T_57f2b_row6_col3\" class=\"data row6 col3\" >Min</td>\n",
       "      <td id=\"T_57f2b_row6_col4\" class=\"data row6 col4\" >1</td>\n",
       "      <td id=\"T_57f2b_row6_col5\" class=\"data row6 col5\" >                              </td>\n",
       "      <td id=\"T_57f2b_row6_col6\" class=\"data row6 col6\" >skew</td>\n",
       "      <td id=\"T_57f2b_row6_col7\" class=\"data row6 col7\" >2.31</td>\n",
       "      <td id=\"T_57f2b_row6_col8\" class=\"data row6 col8\" >                              </td>\n",
       "      <td id=\"T_57f2b_row6_col9\" class=\"data row6 col9\" >3.0 <1%</td>\n",
       "    </tr>\n",
       "  </tbody>\n",
       "</table>\n",
       "\n",
       "            <div>\n",
       "                <img src=\"data:image/png;base64,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\" alt=\"График\"/>\n",
       "            </div>\n",
       "        </div>\n",
       "        "
      ],
      "text/plain": [
       "<IPython.core.display.HTML object>"
      ]
     },
     "metadata": {},
     "output_type": "display_data"
    }
   ],
   "source": [
    "next(gen)"
   ]
  },
  {
   "cell_type": "markdown",
   "metadata": {},
   "source": [
    "**Наблюдения:**\n",
    "- В среднем объявление находится в продаже 180 дней, но из за выбросов оно не совсем точно описывает ситуацию.\n",
    "- Лучше использовать медиану. Она составляет 95 дней. \n",
    "- Чаще всего объявления находятся в продаже 45 дней. \n",
    "- В колонке с количеством дней экспозиции 13 процентов пропусков. \n",
    "- Максимальное значение в 1580 дней похоже на выброс."
   ]
  },
  {
   "cell_type": "code",
   "execution_count": 383,
   "metadata": {},
   "outputs": [
    {
     "data": {
      "text/html": [
       "\n",
       "        <div style=\"display: flex; justify-content: flex-start; align-items: flex-end;\">\n",
       "            <style type=\"text/css\">\n",
       "#T_e5ac5 caption {\n",
       "  font-size: 16px;\n",
       "  text-align: left;\n",
       "  font-weight: bold;\n",
       "}\n",
       "#T_e5ac5_row0_col0, #T_e5ac5_row0_col1, #T_e5ac5_row0_col2, #T_e5ac5_row0_col3, #T_e5ac5_row1_col0, #T_e5ac5_row1_col1, #T_e5ac5_row1_col2, #T_e5ac5_row1_col3, #T_e5ac5_row2_col0, #T_e5ac5_row2_col1, #T_e5ac5_row2_col2, #T_e5ac5_row2_col3, #T_e5ac5_row3_col0, #T_e5ac5_row3_col1, #T_e5ac5_row3_col2, #T_e5ac5_row3_col3, #T_e5ac5_row4_col0, #T_e5ac5_row4_col1, #T_e5ac5_row4_col2, #T_e5ac5_row4_col3, #T_e5ac5_row5_col0, #T_e5ac5_row5_col1, #T_e5ac5_row5_col2, #T_e5ac5_row5_col3, #T_e5ac5_row6_col0, #T_e5ac5_row6_col1, #T_e5ac5_row6_col2, #T_e5ac5_row6_col3 {\n",
       "  text-align: left;\n",
       "}\n",
       "</style>\n",
       "<table id=\"T_e5ac5\">\n",
       "  <caption>is_apartment</caption>\n",
       "  <thead>\n",
       "  </thead>\n",
       "  <tbody>\n",
       "    <tr>\n",
       "      <td id=\"T_e5ac5_row0_col0\" class=\"data row0 col0\" >Values</td>\n",
       "      <td id=\"T_e5ac5_row0_col1\" class=\"data row0 col1\" >2 775 (12%)</td>\n",
       "      <td id=\"T_e5ac5_row0_col2\" class=\"data row0 col2\" >                              </td>\n",
       "      <td id=\"T_e5ac5_row0_col3\" class=\"data row0 col3\" >False (98%)</td>\n",
       "    </tr>\n",
       "    <tr>\n",
       "      <td id=\"T_e5ac5_row1_col0\" class=\"data row1 col0\" >Missing</td>\n",
       "      <td id=\"T_e5ac5_row1_col1\" class=\"data row1 col1\" >20 924 (88%)</td>\n",
       "      <td id=\"T_e5ac5_row1_col2\" class=\"data row1 col2\" >                              </td>\n",
       "      <td id=\"T_e5ac5_row1_col3\" class=\"data row1 col3\" >True (2%)</td>\n",
       "    </tr>\n",
       "    <tr>\n",
       "      <td id=\"T_e5ac5_row2_col0\" class=\"data row2 col0\" >Distinct</td>\n",
       "      <td id=\"T_e5ac5_row2_col1\" class=\"data row2 col1\" >2 (<1%)</td>\n",
       "      <td id=\"T_e5ac5_row2_col2\" class=\"data row2 col2\" >                              </td>\n",
       "      <td id=\"T_e5ac5_row2_col3\" class=\"data row2 col3\" >nan</td>\n",
       "    </tr>\n",
       "    <tr>\n",
       "      <td id=\"T_e5ac5_row3_col0\" class=\"data row3 col0\" >Duplicated origin</td>\n",
       "      <td id=\"T_e5ac5_row3_col1\" class=\"data row3 col1\" >23 696 (99.9%)</td>\n",
       "      <td id=\"T_e5ac5_row3_col2\" class=\"data row3 col2\" >                              </td>\n",
       "      <td id=\"T_e5ac5_row3_col3\" class=\"data row3 col3\" >nan</td>\n",
       "    </tr>\n",
       "    <tr>\n",
       "      <td id=\"T_e5ac5_row4_col0\" class=\"data row4 col0\" >Dupl (modify - origin)</td>\n",
       "      <td id=\"T_e5ac5_row4_col1\" class=\"data row4 col1\" >---</td>\n",
       "      <td id=\"T_e5ac5_row4_col2\" class=\"data row4 col2\" >                              </td>\n",
       "      <td id=\"T_e5ac5_row4_col3\" class=\"data row4 col3\" >nan</td>\n",
       "    </tr>\n",
       "    <tr>\n",
       "      <td id=\"T_e5ac5_row5_col0\" class=\"data row5 col0\" >Empty</td>\n",
       "      <td id=\"T_e5ac5_row5_col1\" class=\"data row5 col1\" >---</td>\n",
       "      <td id=\"T_e5ac5_row5_col2\" class=\"data row5 col2\" >                              </td>\n",
       "      <td id=\"T_e5ac5_row5_col3\" class=\"data row5 col3\" >nan</td>\n",
       "    </tr>\n",
       "    <tr>\n",
       "      <td id=\"T_e5ac5_row6_col0\" class=\"data row6 col0\" >RAM (Mb)</td>\n",
       "      <td id=\"T_e5ac5_row6_col1\" class=\"data row6 col1\" ><1 Mb</td>\n",
       "      <td id=\"T_e5ac5_row6_col2\" class=\"data row6 col2\" >                              </td>\n",
       "      <td id=\"T_e5ac5_row6_col3\" class=\"data row6 col3\" >nan</td>\n",
       "    </tr>\n",
       "  </tbody>\n",
       "</table>\n",
       "\n",
       "            <div>\n",
       "                <img src=\"data:image/png;base64,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\" alt=\"График\"/>\n",
       "            </div>\n",
       "        </div>\n",
       "        "
      ],
      "text/plain": [
       "<IPython.core.display.HTML object>"
      ]
     },
     "metadata": {},
     "output_type": "display_data"
    }
   ],
   "source": [
    "next(gen)"
   ]
  },
  {
   "cell_type": "markdown",
   "metadata": {},
   "source": [
    "**Наблюдения:**\n",
    "- В колоке с признаком является ли квартира аппартаментом 88 процентов пропусков. Скорее всего эти квартиры не являются аппартаментами.  "
   ]
  },
  {
   "cell_type": "code",
   "execution_count": 384,
   "metadata": {},
   "outputs": [
    {
     "data": {
      "text/html": [
       "\n",
       "        <div style=\"display: flex; justify-content: flex-start; align-items: flex-end;\">\n",
       "            <style type=\"text/css\">\n",
       "#T_d6d8f caption {\n",
       "  font-size: 16px;\n",
       "  text-align: left;\n",
       "  font-weight: bold;\n",
       "}\n",
       "#T_d6d8f_row0_col0, #T_d6d8f_row0_col1, #T_d6d8f_row0_col2, #T_d6d8f_row0_col3, #T_d6d8f_row1_col0, #T_d6d8f_row1_col1, #T_d6d8f_row1_col2, #T_d6d8f_row1_col3, #T_d6d8f_row2_col0, #T_d6d8f_row2_col1, #T_d6d8f_row2_col2, #T_d6d8f_row2_col3, #T_d6d8f_row3_col0, #T_d6d8f_row3_col1, #T_d6d8f_row3_col2, #T_d6d8f_row3_col3, #T_d6d8f_row4_col0, #T_d6d8f_row4_col1, #T_d6d8f_row4_col2, #T_d6d8f_row4_col3, #T_d6d8f_row5_col0, #T_d6d8f_row5_col1, #T_d6d8f_row5_col2, #T_d6d8f_row5_col3, #T_d6d8f_row6_col0, #T_d6d8f_row6_col1, #T_d6d8f_row6_col2, #T_d6d8f_row6_col3 {\n",
       "  text-align: left;\n",
       "}\n",
       "</style>\n",
       "<table id=\"T_d6d8f\">\n",
       "  <caption>studio</caption>\n",
       "  <thead>\n",
       "  </thead>\n",
       "  <tbody>\n",
       "    <tr>\n",
       "      <td id=\"T_d6d8f_row0_col0\" class=\"data row0 col0\" >Values</td>\n",
       "      <td id=\"T_d6d8f_row0_col1\" class=\"data row0 col1\" >23 699 (100%)</td>\n",
       "      <td id=\"T_d6d8f_row0_col2\" class=\"data row0 col2\" >                              </td>\n",
       "      <td id=\"T_d6d8f_row0_col3\" class=\"data row0 col3\" >False (99%)</td>\n",
       "    </tr>\n",
       "    <tr>\n",
       "      <td id=\"T_d6d8f_row1_col0\" class=\"data row1 col0\" >Missing</td>\n",
       "      <td id=\"T_d6d8f_row1_col1\" class=\"data row1 col1\" >---</td>\n",
       "      <td id=\"T_d6d8f_row1_col2\" class=\"data row1 col2\" >                              </td>\n",
       "      <td id=\"T_d6d8f_row1_col3\" class=\"data row1 col3\" >True <1%</td>\n",
       "    </tr>\n",
       "    <tr>\n",
       "      <td id=\"T_d6d8f_row2_col0\" class=\"data row2 col0\" >Distinct</td>\n",
       "      <td id=\"T_d6d8f_row2_col1\" class=\"data row2 col1\" >2 (<1%)</td>\n",
       "      <td id=\"T_d6d8f_row2_col2\" class=\"data row2 col2\" >                              </td>\n",
       "      <td id=\"T_d6d8f_row2_col3\" class=\"data row2 col3\" >nan</td>\n",
       "    </tr>\n",
       "    <tr>\n",
       "      <td id=\"T_d6d8f_row3_col0\" class=\"data row3 col0\" >Duplicated origin</td>\n",
       "      <td id=\"T_d6d8f_row3_col1\" class=\"data row3 col1\" >23 697 (99.9%)</td>\n",
       "      <td id=\"T_d6d8f_row3_col2\" class=\"data row3 col2\" >                              </td>\n",
       "      <td id=\"T_d6d8f_row3_col3\" class=\"data row3 col3\" >nan</td>\n",
       "    </tr>\n",
       "    <tr>\n",
       "      <td id=\"T_d6d8f_row4_col0\" class=\"data row4 col0\" >Dupl (modify - origin)</td>\n",
       "      <td id=\"T_d6d8f_row4_col1\" class=\"data row4 col1\" >---</td>\n",
       "      <td id=\"T_d6d8f_row4_col2\" class=\"data row4 col2\" >                              </td>\n",
       "      <td id=\"T_d6d8f_row4_col3\" class=\"data row4 col3\" >nan</td>\n",
       "    </tr>\n",
       "    <tr>\n",
       "      <td id=\"T_d6d8f_row5_col0\" class=\"data row5 col0\" >Empty</td>\n",
       "      <td id=\"T_d6d8f_row5_col1\" class=\"data row5 col1\" >---</td>\n",
       "      <td id=\"T_d6d8f_row5_col2\" class=\"data row5 col2\" >                              </td>\n",
       "      <td id=\"T_d6d8f_row5_col3\" class=\"data row5 col3\" >nan</td>\n",
       "    </tr>\n",
       "    <tr>\n",
       "      <td id=\"T_d6d8f_row6_col0\" class=\"data row6 col0\" >RAM (Mb)</td>\n",
       "      <td id=\"T_d6d8f_row6_col1\" class=\"data row6 col1\" ><1 Mb</td>\n",
       "      <td id=\"T_d6d8f_row6_col2\" class=\"data row6 col2\" >                              </td>\n",
       "      <td id=\"T_d6d8f_row6_col3\" class=\"data row6 col3\" >nan</td>\n",
       "    </tr>\n",
       "  </tbody>\n",
       "</table>\n",
       "\n",
       "            <div>\n",
       "                <img src=\"data:image/png;base64,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\" alt=\"График\"/>\n",
       "            </div>\n",
       "        </div>\n",
       "        "
      ],
      "text/plain": [
       "<IPython.core.display.HTML object>"
      ]
     },
     "metadata": {},
     "output_type": "display_data"
    }
   ],
   "source": [
    "next(gen)"
   ]
  },
  {
   "cell_type": "markdown",
   "metadata": {},
   "source": [
    "**Наблюдения:**\n",
    "- Студий меньше 1 процента. "
   ]
  },
  {
   "cell_type": "code",
   "execution_count": 385,
   "metadata": {},
   "outputs": [
    {
     "data": {
      "text/html": [
       "\n",
       "        <div style=\"display: flex; justify-content: flex-start; align-items: flex-end;\">\n",
       "            <style type=\"text/css\">\n",
       "#T_940e9 caption {\n",
       "  font-size: 16px;\n",
       "  text-align: left;\n",
       "  font-weight: bold;\n",
       "}\n",
       "#T_940e9_row0_col0, #T_940e9_row0_col1, #T_940e9_row0_col2, #T_940e9_row0_col3, #T_940e9_row1_col0, #T_940e9_row1_col1, #T_940e9_row1_col2, #T_940e9_row1_col3, #T_940e9_row2_col0, #T_940e9_row2_col1, #T_940e9_row2_col2, #T_940e9_row2_col3, #T_940e9_row3_col0, #T_940e9_row3_col1, #T_940e9_row3_col2, #T_940e9_row3_col3, #T_940e9_row4_col0, #T_940e9_row4_col1, #T_940e9_row4_col2, #T_940e9_row4_col3, #T_940e9_row5_col0, #T_940e9_row5_col1, #T_940e9_row5_col2, #T_940e9_row5_col3, #T_940e9_row6_col0, #T_940e9_row6_col1, #T_940e9_row6_col2, #T_940e9_row6_col3 {\n",
       "  text-align: left;\n",
       "}\n",
       "</style>\n",
       "<table id=\"T_940e9\">\n",
       "  <caption>open_plan</caption>\n",
       "  <thead>\n",
       "  </thead>\n",
       "  <tbody>\n",
       "    <tr>\n",
       "      <td id=\"T_940e9_row0_col0\" class=\"data row0 col0\" >Values</td>\n",
       "      <td id=\"T_940e9_row0_col1\" class=\"data row0 col1\" >23 699 (100%)</td>\n",
       "      <td id=\"T_940e9_row0_col2\" class=\"data row0 col2\" >                              </td>\n",
       "      <td id=\"T_940e9_row0_col3\" class=\"data row0 col3\" >False (100%)</td>\n",
       "    </tr>\n",
       "    <tr>\n",
       "      <td id=\"T_940e9_row1_col0\" class=\"data row1 col0\" >Missing</td>\n",
       "      <td id=\"T_940e9_row1_col1\" class=\"data row1 col1\" >---</td>\n",
       "      <td id=\"T_940e9_row1_col2\" class=\"data row1 col2\" >                              </td>\n",
       "      <td id=\"T_940e9_row1_col3\" class=\"data row1 col3\" >True <1%</td>\n",
       "    </tr>\n",
       "    <tr>\n",
       "      <td id=\"T_940e9_row2_col0\" class=\"data row2 col0\" >Distinct</td>\n",
       "      <td id=\"T_940e9_row2_col1\" class=\"data row2 col1\" >2 (<1%)</td>\n",
       "      <td id=\"T_940e9_row2_col2\" class=\"data row2 col2\" >                              </td>\n",
       "      <td id=\"T_940e9_row2_col3\" class=\"data row2 col3\" >nan</td>\n",
       "    </tr>\n",
       "    <tr>\n",
       "      <td id=\"T_940e9_row3_col0\" class=\"data row3 col0\" >Duplicated origin</td>\n",
       "      <td id=\"T_940e9_row3_col1\" class=\"data row3 col1\" >23 697 (99.9%)</td>\n",
       "      <td id=\"T_940e9_row3_col2\" class=\"data row3 col2\" >                              </td>\n",
       "      <td id=\"T_940e9_row3_col3\" class=\"data row3 col3\" >nan</td>\n",
       "    </tr>\n",
       "    <tr>\n",
       "      <td id=\"T_940e9_row4_col0\" class=\"data row4 col0\" >Dupl (modify - origin)</td>\n",
       "      <td id=\"T_940e9_row4_col1\" class=\"data row4 col1\" >---</td>\n",
       "      <td id=\"T_940e9_row4_col2\" class=\"data row4 col2\" >                              </td>\n",
       "      <td id=\"T_940e9_row4_col3\" class=\"data row4 col3\" >nan</td>\n",
       "    </tr>\n",
       "    <tr>\n",
       "      <td id=\"T_940e9_row5_col0\" class=\"data row5 col0\" >Empty</td>\n",
       "      <td id=\"T_940e9_row5_col1\" class=\"data row5 col1\" >---</td>\n",
       "      <td id=\"T_940e9_row5_col2\" class=\"data row5 col2\" >                              </td>\n",
       "      <td id=\"T_940e9_row5_col3\" class=\"data row5 col3\" >nan</td>\n",
       "    </tr>\n",
       "    <tr>\n",
       "      <td id=\"T_940e9_row6_col0\" class=\"data row6 col0\" >RAM (Mb)</td>\n",
       "      <td id=\"T_940e9_row6_col1\" class=\"data row6 col1\" ><1 Mb</td>\n",
       "      <td id=\"T_940e9_row6_col2\" class=\"data row6 col2\" >                              </td>\n",
       "      <td id=\"T_940e9_row6_col3\" class=\"data row6 col3\" >nan</td>\n",
       "    </tr>\n",
       "  </tbody>\n",
       "</table>\n",
       "\n",
       "            <div>\n",
       "                <img src=\"data:image/png;base64,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\" alt=\"График\"/>\n",
       "            </div>\n",
       "        </div>\n",
       "        "
      ],
      "text/plain": [
       "<IPython.core.display.HTML object>"
      ]
     },
     "metadata": {},
     "output_type": "display_data"
    }
   ],
   "source": [
    "next(gen)"
   ]
  },
  {
   "cell_type": "markdown",
   "metadata": {},
   "source": [
    "**Наблюдения:**\n",
    "- Почти все квартиры с открытой планировкой."
   ]
  },
  {
   "cell_type": "code",
   "execution_count": 386,
   "metadata": {},
   "outputs": [
    {
     "data": {
      "text/html": [
       "\n",
       "        <div style=\"display: flex; justify-content: flex-start; align-items: flex-end;\">\n",
       "            <style type=\"text/css\">\n",
       "#T_5bff4 caption {\n",
       "  font-size: 16px;\n",
       "  text-align: left;\n",
       "  font-weight: bold;\n",
       "}\n",
       "#T_5bff4_row0_col0, #T_5bff4_row0_col1, #T_5bff4_row0_col2, #T_5bff4_row0_col3, #T_5bff4_row1_col0, #T_5bff4_row1_col1, #T_5bff4_row1_col2, #T_5bff4_row1_col3, #T_5bff4_row2_col0, #T_5bff4_row2_col1, #T_5bff4_row2_col2, #T_5bff4_row2_col3, #T_5bff4_row3_col0, #T_5bff4_row3_col1, #T_5bff4_row3_col2, #T_5bff4_row3_col3, #T_5bff4_row4_col0, #T_5bff4_row4_col1, #T_5bff4_row4_col2, #T_5bff4_row4_col3, #T_5bff4_row5_col0, #T_5bff4_row5_col1, #T_5bff4_row5_col2, #T_5bff4_row5_col3, #T_5bff4_row6_col0, #T_5bff4_row6_col1, #T_5bff4_row6_col2, #T_5bff4_row6_col3 {\n",
       "  text-align: left;\n",
       "}\n",
       "</style>\n",
       "<table id=\"T_5bff4\">\n",
       "  <caption>locality_name</caption>\n",
       "  <thead>\n",
       "  </thead>\n",
       "  <tbody>\n",
       "    <tr>\n",
       "      <td id=\"T_5bff4_row0_col0\" class=\"data row0 col0\" >Values</td>\n",
       "      <td id=\"T_5bff4_row0_col1\" class=\"data row0 col1\" >23 650 (99.8%)</td>\n",
       "      <td id=\"T_5bff4_row0_col2\" class=\"data row0 col2\" >                              </td>\n",
       "      <td id=\"T_5bff4_row0_col3\" class=\"data row0 col3\" >Санкт-Петербург (66%)</td>\n",
       "    </tr>\n",
       "    <tr>\n",
       "      <td id=\"T_5bff4_row1_col0\" class=\"data row1 col0\" >Missing</td>\n",
       "      <td id=\"T_5bff4_row1_col1\" class=\"data row1 col1\" >49 (<1%)</td>\n",
       "      <td id=\"T_5bff4_row1_col2\" class=\"data row1 col2\" >                              </td>\n",
       "      <td id=\"T_5bff4_row1_col3\" class=\"data row1 col3\" >посёлок Мурино (2%)</td>\n",
       "    </tr>\n",
       "    <tr>\n",
       "      <td id=\"T_5bff4_row2_col0\" class=\"data row2 col0\" >Distinct</td>\n",
       "      <td id=\"T_5bff4_row2_col1\" class=\"data row2 col1\" >364 (2%)</td>\n",
       "      <td id=\"T_5bff4_row2_col2\" class=\"data row2 col2\" >                              </td>\n",
       "      <td id=\"T_5bff4_row2_col3\" class=\"data row2 col3\" >посёлок Шушары (2%)</td>\n",
       "    </tr>\n",
       "    <tr>\n",
       "      <td id=\"T_5bff4_row3_col0\" class=\"data row3 col0\" >Duplicated origin</td>\n",
       "      <td id=\"T_5bff4_row3_col1\" class=\"data row3 col1\" >23 334 (98%)</td>\n",
       "      <td id=\"T_5bff4_row3_col2\" class=\"data row3 col2\" >                              </td>\n",
       "      <td id=\"T_5bff4_row3_col3\" class=\"data row3 col3\" >Всеволожск (2%)</td>\n",
       "    </tr>\n",
       "    <tr>\n",
       "      <td id=\"T_5bff4_row4_col0\" class=\"data row4 col0\" >Dupl (modify - origin)</td>\n",
       "      <td id=\"T_5bff4_row4_col1\" class=\"data row4 col1\" >---</td>\n",
       "      <td id=\"T_5bff4_row4_col2\" class=\"data row4 col2\" >                              </td>\n",
       "      <td id=\"T_5bff4_row4_col3\" class=\"data row4 col3\" >Пушкин (2%)</td>\n",
       "    </tr>\n",
       "    <tr>\n",
       "      <td id=\"T_5bff4_row5_col0\" class=\"data row5 col0\" >Empty</td>\n",
       "      <td id=\"T_5bff4_row5_col1\" class=\"data row5 col1\" >---</td>\n",
       "      <td id=\"T_5bff4_row5_col2\" class=\"data row5 col2\" >                              </td>\n",
       "      <td id=\"T_5bff4_row5_col3\" class=\"data row5 col3\" >Колпино (1%)</td>\n",
       "    </tr>\n",
       "    <tr>\n",
       "      <td id=\"T_5bff4_row6_col0\" class=\"data row6 col0\" >RAM (Mb)</td>\n",
       "      <td id=\"T_5bff4_row6_col1\" class=\"data row6 col1\" >2</td>\n",
       "      <td id=\"T_5bff4_row6_col2\" class=\"data row6 col2\" >                              </td>\n",
       "      <td id=\"T_5bff4_row6_col3\" class=\"data row6 col3\" >посёлок Парголово (1%)</td>\n",
       "    </tr>\n",
       "  </tbody>\n",
       "</table>\n",
       "\n",
       "            <div>\n",
       "                <img src=\"data:image/png;base64,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\" alt=\"График\"/>\n",
       "            </div>\n",
       "        </div>\n",
       "        "
      ],
      "text/plain": [
       "<IPython.core.display.HTML object>"
      ]
     },
     "metadata": {},
     "output_type": "display_data"
    }
   ],
   "source": [
    "next(gen)"
   ]
  },
  {
   "cell_type": "markdown",
   "metadata": {},
   "source": [
    "**Наблюдения:**\n",
    "- В колонке с названием населенного пункта 49 пропущенных значений (меньше 1 процента)"
   ]
  },
  {
   "cell_type": "markdown",
   "metadata": {
    "id": "GNxq7zArrRQ6"
   },
   "source": [
    "#### Изучение дубликатов"
   ]
  },
  {
   "cell_type": "markdown",
   "metadata": {
    "id": "eSVLQmfkrRRE"
   },
   "source": [
    "Посмотрим на дубли во всем датафрейме"
   ]
  },
  {
   "cell_type": "code",
   "execution_count": 387,
   "metadata": {
    "id": "mgepwDqkrRRF"
   },
   "outputs": [
    {
     "data": {
      "application/vnd.google.colaboratory.intrinsic+json": {
       "type": "string"
      },
      "text/plain": [
       "'no duplicates'"
      ]
     },
     "execution_count": 387,
     "metadata": {},
     "output_type": "execute_result"
    }
   ],
   "source": [
    "pagri_data_tools.check_duplicated(df)"
   ]
  },
  {
   "cell_type": "markdown",
   "metadata": {},
   "source": [
    "Полных дубликатов у нас нет."
   ]
  },
  {
   "cell_type": "markdown",
   "metadata": {
    "id": "w6o9SPOcrRRF"
   },
   "source": [
    "Посмотрим сколько у нас дублей в каждой колонке"
   ]
  },
  {
   "cell_type": "code",
   "execution_count": 388,
   "metadata": {
    "id": "y4DqQnU9rRRI"
   },
   "outputs": [
    {
     "data": {
      "text/html": [
       "<style type=\"text/css\">\n",
       "#T_da964 caption {\n",
       "  font-size: 18px;\n",
       "  text-align: left;\n",
       "  font-weight: bold;\n",
       "}\n",
       "</style>\n",
       "<table id=\"T_da964\" class=\"dataframe\">\n",
       "  <caption>Duplicates</caption>\n",
       "  <thead>\n",
       "  </thead>\n",
       "  <tbody>\n",
       "    <tr>\n",
       "      <th id=\"T_da964_level0_row0\" class=\"row_heading level0 row0\" >total_images</th>\n",
       "      <td id=\"T_da964_row0_col0\" class=\"data row0 col0\" >23661 (99.84%)</td>\n",
       "    </tr>\n",
       "    <tr>\n",
       "      <th id=\"T_da964_level0_row1\" class=\"row_heading level0 row1\" >last_price</th>\n",
       "      <td id=\"T_da964_row1_col0\" class=\"data row1 col0\" >20721 (87.43%)</td>\n",
       "    </tr>\n",
       "    <tr>\n",
       "      <th id=\"T_da964_level0_row2\" class=\"row_heading level0 row2\" >total_area</th>\n",
       "      <td id=\"T_da964_row2_col0\" class=\"data row2 col0\" >21517 (90.79%)</td>\n",
       "    </tr>\n",
       "    <tr>\n",
       "      <th id=\"T_da964_level0_row3\" class=\"row_heading level0 row3\" >first_day_exposition</th>\n",
       "      <td id=\"T_da964_row3_col0\" class=\"data row3 col0\" >22208 (93.71%)</td>\n",
       "    </tr>\n",
       "    <tr>\n",
       "      <th id=\"T_da964_level0_row4\" class=\"row_heading level0 row4\" >rooms</th>\n",
       "      <td id=\"T_da964_row4_col0\" class=\"data row4 col0\" >23682 (99.93%)</td>\n",
       "    </tr>\n",
       "    <tr>\n",
       "      <th id=\"T_da964_level0_row5\" class=\"row_heading level0 row5\" >ceiling_height</th>\n",
       "      <td id=\"T_da964_row5_col0\" class=\"data row5 col0\" >23515 (99.22%)</td>\n",
       "    </tr>\n",
       "    <tr>\n",
       "      <th id=\"T_da964_level0_row6\" class=\"row_heading level0 row6\" >floors_total</th>\n",
       "      <td id=\"T_da964_row6_col0\" class=\"data row6 col0\" >23662 (99.84%)</td>\n",
       "    </tr>\n",
       "    <tr>\n",
       "      <th id=\"T_da964_level0_row7\" class=\"row_heading level0 row7\" >living_area</th>\n",
       "      <td id=\"T_da964_row7_col0\" class=\"data row7 col0\" >21916 (92.48%)</td>\n",
       "    </tr>\n",
       "    <tr>\n",
       "      <th id=\"T_da964_level0_row8\" class=\"row_heading level0 row8\" >floor</th>\n",
       "      <td id=\"T_da964_row8_col0\" class=\"data row8 col0\" >23666 (99.86%)</td>\n",
       "    </tr>\n",
       "    <tr>\n",
       "      <th id=\"T_da964_level0_row9\" class=\"row_heading level0 row9\" >is_apartment</th>\n",
       "      <td id=\"T_da964_row9_col0\" class=\"data row9 col0\" >23696 (99.99%)</td>\n",
       "    </tr>\n",
       "    <tr>\n",
       "      <th id=\"T_da964_level0_row10\" class=\"row_heading level0 row10\" >studio</th>\n",
       "      <td id=\"T_da964_row10_col0\" class=\"data row10 col0\" >23697 (99.99%)</td>\n",
       "    </tr>\n",
       "    <tr>\n",
       "      <th id=\"T_da964_level0_row11\" class=\"row_heading level0 row11\" >open_plan</th>\n",
       "      <td id=\"T_da964_row11_col0\" class=\"data row11 col0\" >23697 (99.99%)</td>\n",
       "    </tr>\n",
       "    <tr>\n",
       "      <th id=\"T_da964_level0_row12\" class=\"row_heading level0 row12\" >kitchen_area</th>\n",
       "      <td id=\"T_da964_row12_col0\" class=\"data row12 col0\" >22727 (95.90%)</td>\n",
       "    </tr>\n",
       "    <tr>\n",
       "      <th id=\"T_da964_level0_row13\" class=\"row_heading level0 row13\" >balcony</th>\n",
       "      <td id=\"T_da964_row13_col0\" class=\"data row13 col0\" >23692 (99.97%)</td>\n",
       "    </tr>\n",
       "    <tr>\n",
       "      <th id=\"T_da964_level0_row14\" class=\"row_heading level0 row14\" >locality_name</th>\n",
       "      <td id=\"T_da964_row14_col0\" class=\"data row14 col0\" >23334 (98.46%)</td>\n",
       "    </tr>\n",
       "    <tr>\n",
       "      <th id=\"T_da964_level0_row15\" class=\"row_heading level0 row15\" >airports_nearest</th>\n",
       "      <td id=\"T_da964_row15_col0\" class=\"data row15 col0\" >15423 (65.08%)</td>\n",
       "    </tr>\n",
       "    <tr>\n",
       "      <th id=\"T_da964_level0_row16\" class=\"row_heading level0 row16\" >city_centers_nearest</th>\n",
       "      <td id=\"T_da964_row16_col0\" class=\"data row16 col0\" >16056 (67.75%)</td>\n",
       "    </tr>\n",
       "    <tr>\n",
       "      <th id=\"T_da964_level0_row17\" class=\"row_heading level0 row17\" >parks_around3000</th>\n",
       "      <td id=\"T_da964_row17_col0\" class=\"data row17 col0\" >23694 (99.98%)</td>\n",
       "    </tr>\n",
       "    <tr>\n",
       "      <th id=\"T_da964_level0_row18\" class=\"row_heading level0 row18\" >parks_nearest</th>\n",
       "      <td id=\"T_da964_row18_col0\" class=\"data row18 col0\" >22703 (95.80%)</td>\n",
       "    </tr>\n",
       "    <tr>\n",
       "      <th id=\"T_da964_level0_row19\" class=\"row_heading level0 row19\" >ponds_around3000</th>\n",
       "      <td id=\"T_da964_row19_col0\" class=\"data row19 col0\" >23694 (99.98%)</td>\n",
       "    </tr>\n",
       "    <tr>\n",
       "      <th id=\"T_da964_level0_row20\" class=\"row_heading level0 row20\" >ponds_nearest</th>\n",
       "      <td id=\"T_da964_row20_col0\" class=\"data row20 col0\" >22602 (95.37%)</td>\n",
       "    </tr>\n",
       "    <tr>\n",
       "      <th id=\"T_da964_level0_row21\" class=\"row_heading level0 row21\" >days_exposition</th>\n",
       "      <td id=\"T_da964_row21_col0\" class=\"data row21 col0\" >22557 (95.18%)</td>\n",
       "    </tr>\n",
       "  </tbody>\n",
       "</table>\n"
      ],
      "text/plain": [
       "<pandas.io.formats.style.Styler at 0x7fe6de411660>"
      ]
     },
     "metadata": {},
     "output_type": "display_data"
    }
   ],
   "source": [
    "series_duplicated = pagri_data_tools.find_columns_with_duplicates(df)"
   ]
  },
  {
   "cell_type": "markdown",
   "metadata": {},
   "source": [
    "У нас нет столбцов, в которых данные должны быть уникальны, поэтому проверять на дубли нечего."
   ]
  },
  {
   "cell_type": "markdown",
   "metadata": {
    "id": "snznjs1VrRRS"
   },
   "source": [
    "#### Изучение пропусков"
   ]
  },
  {
   "cell_type": "markdown",
   "metadata": {
    "id": "xgXLv1s_rRRU"
   },
   "source": [
    "Посмотрим на столбцы, в которых есть пропуски."
   ]
  },
  {
   "cell_type": "code",
   "execution_count": 8,
   "metadata": {
    "id": "9EPw-6YCrRRZ",
    "outputId": "5b8885fe-845d-4893-a884-f592175a18ca"
   },
   "outputs": [
    {
     "data": {
      "text/html": [
       "<style type=\"text/css\">\n",
       "#T_e947f caption {\n",
       "  font-size: 18px;\n",
       "  text-align: left;\n",
       "  font-weight: bold;\n",
       "}\n",
       "</style>\n",
       "<table id=\"T_e947f\" class=\"dataframe\">\n",
       "  <caption>Missings</caption>\n",
       "  <thead>\n",
       "  </thead>\n",
       "  <tbody>\n",
       "    <tr>\n",
       "      <th id=\"T_e947f_level0_row0\" class=\"row_heading level0 row0\" >ceiling_height</th>\n",
       "      <td id=\"T_e947f_row0_col0\" class=\"data row0 col0\" >9195 (38.80%)</td>\n",
       "    </tr>\n",
       "    <tr>\n",
       "      <th id=\"T_e947f_level0_row1\" class=\"row_heading level0 row1\" >floors_total</th>\n",
       "      <td id=\"T_e947f_row1_col0\" class=\"data row1 col0\" >86 (0.36%)</td>\n",
       "    </tr>\n",
       "    <tr>\n",
       "      <th id=\"T_e947f_level0_row2\" class=\"row_heading level0 row2\" >living_area</th>\n",
       "      <td id=\"T_e947f_row2_col0\" class=\"data row2 col0\" >1903 (8.03%)</td>\n",
       "    </tr>\n",
       "    <tr>\n",
       "      <th id=\"T_e947f_level0_row3\" class=\"row_heading level0 row3\" >is_apartment</th>\n",
       "      <td id=\"T_e947f_row3_col0\" class=\"data row3 col0\" >20924 (88.29%)</td>\n",
       "    </tr>\n",
       "    <tr>\n",
       "      <th id=\"T_e947f_level0_row4\" class=\"row_heading level0 row4\" >kitchen_area</th>\n",
       "      <td id=\"T_e947f_row4_col0\" class=\"data row4 col0\" >2278 (9.61%)</td>\n",
       "    </tr>\n",
       "    <tr>\n",
       "      <th id=\"T_e947f_level0_row5\" class=\"row_heading level0 row5\" >balcony</th>\n",
       "      <td id=\"T_e947f_row5_col0\" class=\"data row5 col0\" >11519 (48.61%)</td>\n",
       "    </tr>\n",
       "    <tr>\n",
       "      <th id=\"T_e947f_level0_row6\" class=\"row_heading level0 row6\" >locality_name</th>\n",
       "      <td id=\"T_e947f_row6_col0\" class=\"data row6 col0\" >49 (0.21%)</td>\n",
       "    </tr>\n",
       "    <tr>\n",
       "      <th id=\"T_e947f_level0_row7\" class=\"row_heading level0 row7\" >airports_nearest</th>\n",
       "      <td id=\"T_e947f_row7_col0\" class=\"data row7 col0\" >5542 (23.38%)</td>\n",
       "    </tr>\n",
       "    <tr>\n",
       "      <th id=\"T_e947f_level0_row8\" class=\"row_heading level0 row8\" >city_centers_nearest</th>\n",
       "      <td id=\"T_e947f_row8_col0\" class=\"data row8 col0\" >5519 (23.29%)</td>\n",
       "    </tr>\n",
       "    <tr>\n",
       "      <th id=\"T_e947f_level0_row9\" class=\"row_heading level0 row9\" >parks_around3000</th>\n",
       "      <td id=\"T_e947f_row9_col0\" class=\"data row9 col0\" >5518 (23.28%)</td>\n",
       "    </tr>\n",
       "    <tr>\n",
       "      <th id=\"T_e947f_level0_row10\" class=\"row_heading level0 row10\" >parks_nearest</th>\n",
       "      <td id=\"T_e947f_row10_col0\" class=\"data row10 col0\" >15620 (65.91%)</td>\n",
       "    </tr>\n",
       "    <tr>\n",
       "      <th id=\"T_e947f_level0_row11\" class=\"row_heading level0 row11\" >ponds_around3000</th>\n",
       "      <td id=\"T_e947f_row11_col0\" class=\"data row11 col0\" >5518 (23.28%)</td>\n",
       "    </tr>\n",
       "    <tr>\n",
       "      <th id=\"T_e947f_level0_row12\" class=\"row_heading level0 row12\" >ponds_nearest</th>\n",
       "      <td id=\"T_e947f_row12_col0\" class=\"data row12 col0\" >14589 (61.56%)</td>\n",
       "    </tr>\n",
       "    <tr>\n",
       "      <th id=\"T_e947f_level0_row13\" class=\"row_heading level0 row13\" >days_exposition</th>\n",
       "      <td id=\"T_e947f_row13_col0\" class=\"data row13 col0\" >3181 (13.42%)</td>\n",
       "    </tr>\n",
       "  </tbody>\n",
       "</table>\n"
      ],
      "text/plain": [
       "<pandas.io.formats.style.Styler at 0x7819d9d40c10>"
      ]
     },
     "metadata": {},
     "output_type": "display_data"
    }
   ],
   "source": [
    "series_missed = pagri_data_tools.find_columns_with_missing_values(df)"
   ]
  },
  {
   "cell_type": "markdown",
   "metadata": {},
   "source": [
    "У нас есть прпоуски в площадях. Посмотрим как они распределены."
   ]
  },
  {
   "cell_type": "markdown",
   "metadata": {},
   "source": [
    "Посмотрим есть ли пропуски сразу во всех площадях. "
   ]
  },
  {
   "cell_type": "code",
   "execution_count": 390,
   "metadata": {},
   "outputs": [
    {
     "name": "stdout",
     "output_type": "stream",
     "text": [
      "0 (0.00%) rows with missings simultaneously in ['total_area', 'living_area', 'kitchen_area']\n"
     ]
    },
    {
     "data": {
      "text/html": [
       "\n",
       "  <div id=\"df-01896ad0-3dbc-4004-948a-7d502bf93c9f\" class=\"colab-df-container\">\n",
       "    <div>\n",
       "<style scoped>\n",
       "    .dataframe tbody tr th:only-of-type {\n",
       "        vertical-align: middle;\n",
       "    }\n",
       "\n",
       "    .dataframe tbody tr th {\n",
       "        vertical-align: top;\n",
       "    }\n",
       "\n",
       "    .dataframe thead th {\n",
       "        text-align: right;\n",
       "    }\n",
       "</style>\n",
       "<table border=\"1\" class=\"dataframe\">\n",
       "  <thead>\n",
       "    <tr style=\"text-align: right;\">\n",
       "      <th></th>\n",
       "      <th>total_images</th>\n",
       "      <th>last_price</th>\n",
       "      <th>total_area</th>\n",
       "      <th>first_day_exposition</th>\n",
       "      <th>rooms</th>\n",
       "      <th>ceiling_height</th>\n",
       "      <th>floors_total</th>\n",
       "      <th>living_area</th>\n",
       "      <th>floor</th>\n",
       "      <th>is_apartment</th>\n",
       "      <th>...</th>\n",
       "      <th>kitchen_area</th>\n",
       "      <th>balcony</th>\n",
       "      <th>locality_name</th>\n",
       "      <th>airports_nearest</th>\n",
       "      <th>city_centers_nearest</th>\n",
       "      <th>parks_around3000</th>\n",
       "      <th>parks_nearest</th>\n",
       "      <th>ponds_around3000</th>\n",
       "      <th>ponds_nearest</th>\n",
       "      <th>days_exposition</th>\n",
       "    </tr>\n",
       "  </thead>\n",
       "  <tbody>\n",
       "  </tbody>\n",
       "</table>\n",
       "<p>0 rows × 22 columns</p>\n",
       "</div>\n",
       "    <div class=\"colab-df-buttons\">\n",
       "      \n",
       "  <div class=\"colab-df-container\">\n",
       "    <button class=\"colab-df-convert\" onclick=\"convertToInteractive('df-01896ad0-3dbc-4004-948a-7d502bf93c9f')\"\n",
       "            title=\"Convert this dataframe to an interactive table.\"\n",
       "            style=\"display:none;\">\n",
       "      \n",
       "  <svg xmlns=\"http://www.w3.org/2000/svg\" height=\"24px\" viewBox=\"0 -960 960 960\">\n",
       "    <path d=\"M120-120v-720h720v720H120Zm60-500h600v-160H180v160Zm220 220h160v-160H400v160Zm0 220h160v-160H400v160ZM180-400h160v-160H180v160Zm440 0h160v-160H620v160ZM180-180h160v-160H180v160Zm440 0h160v-160H620v160Z\"/>\n",
       "  </svg>\n",
       "    </button>\n",
       "    \n",
       "  <style>\n",
       "    .colab-df-container {\n",
       "      display:flex;\n",
       "      gap: 12px;\n",
       "    }\n",
       "\n",
       "    .colab-df-convert {\n",
       "      background-color: #E8F0FE;\n",
       "      border: none;\n",
       "      border-radius: 50%;\n",
       "      cursor: pointer;\n",
       "      display: none;\n",
       "      fill: #1967D2;\n",
       "      height: 32px;\n",
       "      padding: 0 0 0 0;\n",
       "      width: 32px;\n",
       "    }\n",
       "\n",
       "    .colab-df-convert:hover {\n",
       "      background-color: #E2EBFA;\n",
       "      box-shadow: 0px 1px 2px rgba(60, 64, 67, 0.3), 0px 1px 3px 1px rgba(60, 64, 67, 0.15);\n",
       "      fill: #174EA6;\n",
       "    }\n",
       "\n",
       "    .colab-df-buttons div {\n",
       "      margin-bottom: 4px;\n",
       "    }\n",
       "\n",
       "    [theme=dark] .colab-df-convert {\n",
       "      background-color: #3B4455;\n",
       "      fill: #D2E3FC;\n",
       "    }\n",
       "\n",
       "    [theme=dark] .colab-df-convert:hover {\n",
       "      background-color: #434B5C;\n",
       "      box-shadow: 0px 1px 3px 1px rgba(0, 0, 0, 0.15);\n",
       "      filter: drop-shadow(0px 1px 2px rgba(0, 0, 0, 0.3));\n",
       "      fill: #FFFFFF;\n",
       "    }\n",
       "  </style>\n",
       "\n",
       "    <script>\n",
       "      const buttonEl =\n",
       "        document.querySelector('#df-01896ad0-3dbc-4004-948a-7d502bf93c9f button.colab-df-convert');\n",
       "      buttonEl.style.display =\n",
       "        google.colab.kernel.accessAllowed ? 'block' : 'none';\n",
       "\n",
       "      async function convertToInteractive(key) {\n",
       "        const element = document.querySelector('#df-01896ad0-3dbc-4004-948a-7d502bf93c9f');\n",
       "        const dataTable =\n",
       "          await google.colab.kernel.invokeFunction('convertToInteractive',\n",
       "                                                    [key], {});\n",
       "        if (!dataTable) return;\n",
       "\n",
       "        const docLinkHtml = 'Like what you see? Visit the ' +\n",
       "          '<a target=\"_blank\" href=https://colab.research.google.com/notebooks/data_table.ipynb>data table notebook</a>'\n",
       "          + ' to learn more about interactive tables.';\n",
       "        element.innerHTML = '';\n",
       "        dataTable['output_type'] = 'display_data';\n",
       "        await google.colab.output.renderOutput(dataTable, element);\n",
       "        const docLink = document.createElement('div');\n",
       "        docLink.innerHTML = docLinkHtml;\n",
       "        element.appendChild(docLink);\n",
       "      }\n",
       "    </script>\n",
       "  </div>\n",
       "  \n",
       "    </div>\n",
       "  </div>\n",
       "  "
      ],
      "text/plain": [
       "Empty DataFrame\n",
       "Columns: [total_images, last_price, total_area, first_day_exposition, rooms, ceiling_height, floors_total, living_area, floor, is_apartment, studio, open_plan, kitchen_area, balcony, locality_name, airports_nearest, city_centers_nearest, parks_around3000, parks_nearest, ponds_around3000, ponds_nearest, days_exposition]\n",
       "Index: []\n",
       "\n",
       "[0 rows x 22 columns]"
      ]
     },
     "execution_count": 390,
     "metadata": {},
     "output_type": "execute_result"
    }
   ],
   "source": [
    "df_na_in_both_columns = pagri_data_tools.check_na_in_both_columns(df, ['total_area', 'living_area', 'kitchen_area'])\n",
    "df_na_in_both_columns.head()"
   ]
  },
  {
   "cell_type": "markdown",
   "metadata": {},
   "source": [
    "Пропусков одновременно во всех столбцах с площадями нет.  \n",
    "Посмотрим на строки датафрейма, где пропуски во всех площадях.  "
   ]
  },
  {
   "cell_type": "code",
   "execution_count": 391,
   "metadata": {},
   "outputs": [
    {
     "data": {
      "text/html": [
       "\n",
       "  <div id=\"df-999d97ca-148e-4ae4-9c46-34b362755b89\" class=\"colab-df-container\">\n",
       "    <div>\n",
       "<style scoped>\n",
       "    .dataframe tbody tr th:only-of-type {\n",
       "        vertical-align: middle;\n",
       "    }\n",
       "\n",
       "    .dataframe tbody tr th {\n",
       "        vertical-align: top;\n",
       "    }\n",
       "\n",
       "    .dataframe thead th {\n",
       "        text-align: right;\n",
       "    }\n",
       "</style>\n",
       "<table border=\"1\" class=\"dataframe\">\n",
       "  <thead>\n",
       "    <tr style=\"text-align: right;\">\n",
       "      <th></th>\n",
       "      <th>total_area</th>\n",
       "      <th>living_area</th>\n",
       "      <th>kitchen_area</th>\n",
       "    </tr>\n",
       "  </thead>\n",
       "  <tbody>\n",
       "    <tr>\n",
       "      <th>23517</th>\n",
       "      <td>46.0</td>\n",
       "      <td>NaN</td>\n",
       "      <td>NaN</td>\n",
       "    </tr>\n",
       "    <tr>\n",
       "      <th>10914</th>\n",
       "      <td>60.8</td>\n",
       "      <td>NaN</td>\n",
       "      <td>NaN</td>\n",
       "    </tr>\n",
       "    <tr>\n",
       "      <th>5827</th>\n",
       "      <td>30.0</td>\n",
       "      <td>NaN</td>\n",
       "      <td>NaN</td>\n",
       "    </tr>\n",
       "    <tr>\n",
       "      <th>10547</th>\n",
       "      <td>36.0</td>\n",
       "      <td>NaN</td>\n",
       "      <td>NaN</td>\n",
       "    </tr>\n",
       "    <tr>\n",
       "      <th>195</th>\n",
       "      <td>60.0</td>\n",
       "      <td>NaN</td>\n",
       "      <td>NaN</td>\n",
       "    </tr>\n",
       "    <tr>\n",
       "      <th>6392</th>\n",
       "      <td>24.0</td>\n",
       "      <td>NaN</td>\n",
       "      <td>NaN</td>\n",
       "    </tr>\n",
       "    <tr>\n",
       "      <th>2986</th>\n",
       "      <td>46.0</td>\n",
       "      <td>NaN</td>\n",
       "      <td>NaN</td>\n",
       "    </tr>\n",
       "    <tr>\n",
       "      <th>17538</th>\n",
       "      <td>48.0</td>\n",
       "      <td>NaN</td>\n",
       "      <td>NaN</td>\n",
       "    </tr>\n",
       "    <tr>\n",
       "      <th>20470</th>\n",
       "      <td>64.8</td>\n",
       "      <td>NaN</td>\n",
       "      <td>NaN</td>\n",
       "    </tr>\n",
       "    <tr>\n",
       "      <th>22015</th>\n",
       "      <td>70.4</td>\n",
       "      <td>NaN</td>\n",
       "      <td>NaN</td>\n",
       "    </tr>\n",
       "  </tbody>\n",
       "</table>\n",
       "</div>\n",
       "    <div class=\"colab-df-buttons\">\n",
       "      \n",
       "  <div class=\"colab-df-container\">\n",
       "    <button class=\"colab-df-convert\" onclick=\"convertToInteractive('df-999d97ca-148e-4ae4-9c46-34b362755b89')\"\n",
       "            title=\"Convert this dataframe to an interactive table.\"\n",
       "            style=\"display:none;\">\n",
       "      \n",
       "  <svg xmlns=\"http://www.w3.org/2000/svg\" height=\"24px\" viewBox=\"0 -960 960 960\">\n",
       "    <path d=\"M120-120v-720h720v720H120Zm60-500h600v-160H180v160Zm220 220h160v-160H400v160Zm0 220h160v-160H400v160ZM180-400h160v-160H180v160Zm440 0h160v-160H620v160ZM180-180h160v-160H180v160Zm440 0h160v-160H620v160Z\"/>\n",
       "  </svg>\n",
       "    </button>\n",
       "    \n",
       "  <style>\n",
       "    .colab-df-container {\n",
       "      display:flex;\n",
       "      gap: 12px;\n",
       "    }\n",
       "\n",
       "    .colab-df-convert {\n",
       "      background-color: #E8F0FE;\n",
       "      border: none;\n",
       "      border-radius: 50%;\n",
       "      cursor: pointer;\n",
       "      display: none;\n",
       "      fill: #1967D2;\n",
       "      height: 32px;\n",
       "      padding: 0 0 0 0;\n",
       "      width: 32px;\n",
       "    }\n",
       "\n",
       "    .colab-df-convert:hover {\n",
       "      background-color: #E2EBFA;\n",
       "      box-shadow: 0px 1px 2px rgba(60, 64, 67, 0.3), 0px 1px 3px 1px rgba(60, 64, 67, 0.15);\n",
       "      fill: #174EA6;\n",
       "    }\n",
       "\n",
       "    .colab-df-buttons div {\n",
       "      margin-bottom: 4px;\n",
       "    }\n",
       "\n",
       "    [theme=dark] .colab-df-convert {\n",
       "      background-color: #3B4455;\n",
       "      fill: #D2E3FC;\n",
       "    }\n",
       "\n",
       "    [theme=dark] .colab-df-convert:hover {\n",
       "      background-color: #434B5C;\n",
       "      box-shadow: 0px 1px 3px 1px rgba(0, 0, 0, 0.15);\n",
       "      filter: drop-shadow(0px 1px 2px rgba(0, 0, 0, 0.3));\n",
       "      fill: #FFFFFF;\n",
       "    }\n",
       "  </style>\n",
       "\n",
       "    <script>\n",
       "      const buttonEl =\n",
       "        document.querySelector('#df-999d97ca-148e-4ae4-9c46-34b362755b89 button.colab-df-convert');\n",
       "      buttonEl.style.display =\n",
       "        google.colab.kernel.accessAllowed ? 'block' : 'none';\n",
       "\n",
       "      async function convertToInteractive(key) {\n",
       "        const element = document.querySelector('#df-999d97ca-148e-4ae4-9c46-34b362755b89');\n",
       "        const dataTable =\n",
       "          await google.colab.kernel.invokeFunction('convertToInteractive',\n",
       "                                                    [key], {});\n",
       "        if (!dataTable) return;\n",
       "\n",
       "        const docLinkHtml = 'Like what you see? Visit the ' +\n",
       "          '<a target=\"_blank\" href=https://colab.research.google.com/notebooks/data_table.ipynb>data table notebook</a>'\n",
       "          + ' to learn more about interactive tables.';\n",
       "        element.innerHTML = '';\n",
       "        dataTable['output_type'] = 'display_data';\n",
       "        await google.colab.output.renderOutput(dataTable, element);\n",
       "        const docLink = document.createElement('div');\n",
       "        docLink.innerHTML = docLinkHtml;\n",
       "        element.appendChild(docLink);\n",
       "      }\n",
       "    </script>\n",
       "  </div>\n",
       "  \n",
       "    </div>\n",
       "  </div>\n",
       "  "
      ],
      "text/plain": [
       "       total_area  living_area  kitchen_area\n",
       "23517        46.0          NaN           NaN\n",
       "10914        60.8          NaN           NaN\n",
       "5827         30.0          NaN           NaN\n",
       "10547        36.0          NaN           NaN\n",
       "195          60.0          NaN           NaN\n",
       "6392         24.0          NaN           NaN\n",
       "2986         46.0          NaN           NaN\n",
       "17538        48.0          NaN           NaN\n",
       "20470        64.8          NaN           NaN\n",
       "22015        70.4          NaN           NaN"
      ]
     },
     "execution_count": 391,
     "metadata": {},
     "output_type": "execute_result"
    }
   ],
   "source": [
    "series_missed['living_area'][['total_area', 'living_area', 'kitchen_area']].sample(10)"
   ]
  },
  {
   "cell_type": "markdown",
   "metadata": {},
   "source": [
    "У нас нет пропусков в общей площади. Поэтому мы сможем заменить значения пропусков в площади кухни и жилой площади.  "
   ]
  },
  {
   "cell_type": "markdown",
   "metadata": {},
   "source": [
    "Можно заметить, что количество пропусков в колонке с количеством парков рядом, количеством прудов рядом совпадает,\n",
    "растоянием до центра, растоянием до аэропорта примерно равны.\n",
    "Выдвигаем гипотезу, что пропуски в одних и тех же строках в обоих столбцах.  "
   ]
  },
  {
   "cell_type": "markdown",
   "metadata": {
    "id": "TxzmmGbArRRe"
   },
   "source": [
    "Посмотрим сколько пропусков в обоих колонках вместе"
   ]
  },
  {
   "cell_type": "code",
   "execution_count": 26,
   "metadata": {
    "id": "OSh3L0RKrRRf"
   },
   "outputs": [
    {
     "name": "stdout",
     "output_type": "stream",
     "text": [
      "5518 (23.28%) rows with missings simultaneously in ['airports_nearest', 'city_centers_nearest', 'parks_around3000', 'ponds_around3000']\n"
     ]
    },
    {
     "data": {
      "text/html": [
       "\n",
       "  <div id=\"df-37127e3f-9031-489c-8980-94bb9f05b7ab\" class=\"colab-df-container\">\n",
       "    <div>\n",
       "<style scoped>\n",
       "    .dataframe tbody tr th:only-of-type {\n",
       "        vertical-align: middle;\n",
       "    }\n",
       "\n",
       "    .dataframe tbody tr th {\n",
       "        vertical-align: top;\n",
       "    }\n",
       "\n",
       "    .dataframe thead th {\n",
       "        text-align: right;\n",
       "    }\n",
       "</style>\n",
       "<table border=\"1\" class=\"dataframe\">\n",
       "  <thead>\n",
       "    <tr style=\"text-align: right;\">\n",
       "      <th></th>\n",
       "      <th>total_images</th>\n",
       "      <th>last_price</th>\n",
       "      <th>total_area</th>\n",
       "      <th>first_day_exposition</th>\n",
       "      <th>rooms</th>\n",
       "      <th>ceiling_height</th>\n",
       "      <th>floors_total</th>\n",
       "      <th>living_area</th>\n",
       "      <th>floor</th>\n",
       "      <th>is_apartment</th>\n",
       "      <th>...</th>\n",
       "      <th>kitchen_area</th>\n",
       "      <th>balcony</th>\n",
       "      <th>locality_name</th>\n",
       "      <th>airports_nearest</th>\n",
       "      <th>city_centers_nearest</th>\n",
       "      <th>parks_around3000</th>\n",
       "      <th>parks_nearest</th>\n",
       "      <th>ponds_around3000</th>\n",
       "      <th>ponds_nearest</th>\n",
       "      <th>days_exposition</th>\n",
       "    </tr>\n",
       "  </thead>\n",
       "  <tbody>\n",
       "    <tr>\n",
       "      <th>5</th>\n",
       "      <td>10</td>\n",
       "      <td>2890000.0</td>\n",
       "      <td>30.40</td>\n",
       "      <td>2018-09-10</td>\n",
       "      <td>1</td>\n",
       "      <td>NaN</td>\n",
       "      <td>12.0</td>\n",
       "      <td>14.40</td>\n",
       "      <td>5</td>\n",
       "      <td>NaN</td>\n",
       "      <td>...</td>\n",
       "      <td>9.10</td>\n",
       "      <td>NaN</td>\n",
       "      <td>городской посёлок Янино-1</td>\n",
       "      <td>NaN</td>\n",
       "      <td>NaN</td>\n",
       "      <td>NaN</td>\n",
       "      <td>NaN</td>\n",
       "      <td>NaN</td>\n",
       "      <td>NaN</td>\n",
       "      <td>55.0</td>\n",
       "    </tr>\n",
       "    <tr>\n",
       "      <th>8</th>\n",
       "      <td>20</td>\n",
       "      <td>2900000.0</td>\n",
       "      <td>33.16</td>\n",
       "      <td>2018-05-23</td>\n",
       "      <td>1</td>\n",
       "      <td>NaN</td>\n",
       "      <td>27.0</td>\n",
       "      <td>15.43</td>\n",
       "      <td>26</td>\n",
       "      <td>NaN</td>\n",
       "      <td>...</td>\n",
       "      <td>8.81</td>\n",
       "      <td>NaN</td>\n",
       "      <td>посёлок Мурино</td>\n",
       "      <td>NaN</td>\n",
       "      <td>NaN</td>\n",
       "      <td>NaN</td>\n",
       "      <td>NaN</td>\n",
       "      <td>NaN</td>\n",
       "      <td>NaN</td>\n",
       "      <td>189.0</td>\n",
       "    </tr>\n",
       "    <tr>\n",
       "      <th>12</th>\n",
       "      <td>10</td>\n",
       "      <td>3890000.0</td>\n",
       "      <td>54.00</td>\n",
       "      <td>2016-06-30</td>\n",
       "      <td>2</td>\n",
       "      <td>NaN</td>\n",
       "      <td>5.0</td>\n",
       "      <td>30.00</td>\n",
       "      <td>5</td>\n",
       "      <td>NaN</td>\n",
       "      <td>...</td>\n",
       "      <td>9.00</td>\n",
       "      <td>0.0</td>\n",
       "      <td>Сертолово</td>\n",
       "      <td>NaN</td>\n",
       "      <td>NaN</td>\n",
       "      <td>NaN</td>\n",
       "      <td>NaN</td>\n",
       "      <td>NaN</td>\n",
       "      <td>NaN</td>\n",
       "      <td>90.0</td>\n",
       "    </tr>\n",
       "    <tr>\n",
       "      <th>22</th>\n",
       "      <td>20</td>\n",
       "      <td>5000000.0</td>\n",
       "      <td>58.00</td>\n",
       "      <td>2017-04-24</td>\n",
       "      <td>2</td>\n",
       "      <td>2.75</td>\n",
       "      <td>25.0</td>\n",
       "      <td>30.00</td>\n",
       "      <td>15</td>\n",
       "      <td>NaN</td>\n",
       "      <td>...</td>\n",
       "      <td>11.00</td>\n",
       "      <td>2.0</td>\n",
       "      <td>деревня Кудрово</td>\n",
       "      <td>NaN</td>\n",
       "      <td>NaN</td>\n",
       "      <td>NaN</td>\n",
       "      <td>NaN</td>\n",
       "      <td>NaN</td>\n",
       "      <td>NaN</td>\n",
       "      <td>60.0</td>\n",
       "    </tr>\n",
       "    <tr>\n",
       "      <th>30</th>\n",
       "      <td>12</td>\n",
       "      <td>2200000.0</td>\n",
       "      <td>32.80</td>\n",
       "      <td>2018-02-19</td>\n",
       "      <td>1</td>\n",
       "      <td>NaN</td>\n",
       "      <td>9.0</td>\n",
       "      <td>NaN</td>\n",
       "      <td>2</td>\n",
       "      <td>NaN</td>\n",
       "      <td>...</td>\n",
       "      <td>NaN</td>\n",
       "      <td>NaN</td>\n",
       "      <td>Коммунар</td>\n",
       "      <td>NaN</td>\n",
       "      <td>NaN</td>\n",
       "      <td>NaN</td>\n",
       "      <td>NaN</td>\n",
       "      <td>NaN</td>\n",
       "      <td>NaN</td>\n",
       "      <td>63.0</td>\n",
       "    </tr>\n",
       "  </tbody>\n",
       "</table>\n",
       "<p>5 rows × 22 columns</p>\n",
       "</div>\n",
       "    <div class=\"colab-df-buttons\">\n",
       "      \n",
       "  <div class=\"colab-df-container\">\n",
       "    <button class=\"colab-df-convert\" onclick=\"convertToInteractive('df-37127e3f-9031-489c-8980-94bb9f05b7ab')\"\n",
       "            title=\"Convert this dataframe to an interactive table.\"\n",
       "            style=\"display:none;\">\n",
       "      \n",
       "  <svg xmlns=\"http://www.w3.org/2000/svg\" height=\"24px\" viewBox=\"0 -960 960 960\">\n",
       "    <path d=\"M120-120v-720h720v720H120Zm60-500h600v-160H180v160Zm220 220h160v-160H400v160Zm0 220h160v-160H400v160ZM180-400h160v-160H180v160Zm440 0h160v-160H620v160ZM180-180h160v-160H180v160Zm440 0h160v-160H620v160Z\"/>\n",
       "  </svg>\n",
       "    </button>\n",
       "    \n",
       "  <style>\n",
       "    .colab-df-container {\n",
       "      display:flex;\n",
       "      gap: 12px;\n",
       "    }\n",
       "\n",
       "    .colab-df-convert {\n",
       "      background-color: #E8F0FE;\n",
       "      border: none;\n",
       "      border-radius: 50%;\n",
       "      cursor: pointer;\n",
       "      display: none;\n",
       "      fill: #1967D2;\n",
       "      height: 32px;\n",
       "      padding: 0 0 0 0;\n",
       "      width: 32px;\n",
       "    }\n",
       "\n",
       "    .colab-df-convert:hover {\n",
       "      background-color: #E2EBFA;\n",
       "      box-shadow: 0px 1px 2px rgba(60, 64, 67, 0.3), 0px 1px 3px 1px rgba(60, 64, 67, 0.15);\n",
       "      fill: #174EA6;\n",
       "    }\n",
       "\n",
       "    .colab-df-buttons div {\n",
       "      margin-bottom: 4px;\n",
       "    }\n",
       "\n",
       "    [theme=dark] .colab-df-convert {\n",
       "      background-color: #3B4455;\n",
       "      fill: #D2E3FC;\n",
       "    }\n",
       "\n",
       "    [theme=dark] .colab-df-convert:hover {\n",
       "      background-color: #434B5C;\n",
       "      box-shadow: 0px 1px 3px 1px rgba(0, 0, 0, 0.15);\n",
       "      filter: drop-shadow(0px 1px 2px rgba(0, 0, 0, 0.3));\n",
       "      fill: #FFFFFF;\n",
       "    }\n",
       "  </style>\n",
       "\n",
       "    <script>\n",
       "      const buttonEl =\n",
       "        document.querySelector('#df-37127e3f-9031-489c-8980-94bb9f05b7ab button.colab-df-convert');\n",
       "      buttonEl.style.display =\n",
       "        google.colab.kernel.accessAllowed ? 'block' : 'none';\n",
       "\n",
       "      async function convertToInteractive(key) {\n",
       "        const element = document.querySelector('#df-37127e3f-9031-489c-8980-94bb9f05b7ab');\n",
       "        const dataTable =\n",
       "          await google.colab.kernel.invokeFunction('convertToInteractive',\n",
       "                                                    [key], {});\n",
       "        if (!dataTable) return;\n",
       "\n",
       "        const docLinkHtml = 'Like what you see? Visit the ' +\n",
       "          '<a target=\"_blank\" href=https://colab.research.google.com/notebooks/data_table.ipynb>data table notebook</a>'\n",
       "          + ' to learn more about interactive tables.';\n",
       "        element.innerHTML = '';\n",
       "        dataTable['output_type'] = 'display_data';\n",
       "        await google.colab.output.renderOutput(dataTable, element);\n",
       "        const docLink = document.createElement('div');\n",
       "        docLink.innerHTML = docLinkHtml;\n",
       "        element.appendChild(docLink);\n",
       "      }\n",
       "    </script>\n",
       "  </div>\n",
       "  \n",
       "    </div>\n",
       "  </div>\n",
       "  "
      ],
      "text/plain": [
       "    total_images  last_price  total_area first_day_exposition  rooms  \\\n",
       "5             10   2890000.0       30.40           2018-09-10      1   \n",
       "8             20   2900000.0       33.16           2018-05-23      1   \n",
       "12            10   3890000.0       54.00           2016-06-30      2   \n",
       "22            20   5000000.0       58.00           2017-04-24      2   \n",
       "30            12   2200000.0       32.80           2018-02-19      1   \n",
       "\n",
       "    ceiling_height  floors_total  living_area  floor is_apartment  ...  \\\n",
       "5              NaN          12.0        14.40      5          NaN  ...   \n",
       "8              NaN          27.0        15.43     26          NaN  ...   \n",
       "12             NaN           5.0        30.00      5          NaN  ...   \n",
       "22            2.75          25.0        30.00     15          NaN  ...   \n",
       "30             NaN           9.0          NaN      2          NaN  ...   \n",
       "\n",
       "   kitchen_area balcony              locality_name  airports_nearest  \\\n",
       "5          9.10     NaN  городской посёлок Янино-1               NaN   \n",
       "8          8.81     NaN             посёлок Мурино               NaN   \n",
       "12         9.00     0.0                  Сертолово               NaN   \n",
       "22        11.00     2.0            деревня Кудрово               NaN   \n",
       "30          NaN     NaN                   Коммунар               NaN   \n",
       "\n",
       "   city_centers_nearest  parks_around3000  parks_nearest  ponds_around3000  \\\n",
       "5                   NaN               NaN            NaN               NaN   \n",
       "8                   NaN               NaN            NaN               NaN   \n",
       "12                  NaN               NaN            NaN               NaN   \n",
       "22                  NaN               NaN            NaN               NaN   \n",
       "30                  NaN               NaN            NaN               NaN   \n",
       "\n",
       "    ponds_nearest  days_exposition  \n",
       "5             NaN             55.0  \n",
       "8             NaN            189.0  \n",
       "12            NaN             90.0  \n",
       "22            NaN             60.0  \n",
       "30            NaN             63.0  \n",
       "\n",
       "[5 rows x 22 columns]"
      ]
     },
     "execution_count": 26,
     "metadata": {},
     "output_type": "execute_result"
    }
   ],
   "source": [
    "df_na_in_both_columns = pagri_data_tools.check_na_in_both_columns(df, ['airports_nearest', 'city_centers_nearest', 'parks_around3000', 'ponds_around3000'])\n",
    "df_na_in_both_columns.head()"
   ]
  },
  {
   "cell_type": "markdown",
   "metadata": {},
   "source": [
    "**Гипотеза подтвердилась**:\n",
    "- Пропуски в одних и тех же строках в колонках с количеством парков рядом, количеством прудов рядом совпадает,\n",
    "растоянием до центра, растоянием до аэропорта примерно равны"
   ]
  },
  {
   "cell_type": "markdown",
   "metadata": {},
   "source": [
    "Посмотрим как распределены пропуски по категориям в строках, где прпоуски одновременно в этих столбцах.  "
   ]
  },
  {
   "cell_type": "code",
   "execution_count": 27,
   "metadata": {},
   "outputs": [],
   "source": [
    "gen = pagri_data_tools.analyze_filtered_df_by_category(df, df_na_in_both_columns, 'df with na')"
   ]
  },
  {
   "cell_type": "code",
   "execution_count": 28,
   "metadata": {},
   "outputs": [
    {
     "data": {
      "text/html": [
       "<style type=\"text/css\">\n",
       "#T_53626 caption {\n",
       "  font-size: 18px;\n",
       "  text-align: left;\n",
       "  font-weight: bold;\n",
       "}\n",
       "</style>\n",
       "<table id=\"T_53626\" class=\"dataframe\">\n",
       "  <caption>Value in \"df with na\" by category \"is_apartment\"</caption>\n",
       "  <thead>\n",
       "    <tr>\n",
       "      <th id=\"T_53626_level0_col0\" class=\"col_heading level0 col0\" >is_apartment</th>\n",
       "      <th id=\"T_53626_level0_col1\" class=\"col_heading level0 col1\" >total</th>\n",
       "      <th id=\"T_53626_level0_col2\" class=\"col_heading level0 col2\" >count</th>\n",
       "      <th id=\"T_53626_level0_col3\" class=\"col_heading level0 col3\" >count_in_total_pct</th>\n",
       "      <th id=\"T_53626_level0_col4\" class=\"col_heading level0 col4\" >count_in_sum_count_pct</th>\n",
       "      <th id=\"T_53626_level0_col5\" class=\"col_heading level0 col5\" >total_in_sum_total_pct</th>\n",
       "      <th id=\"T_53626_level0_col6\" class=\"col_heading level0 col6\" >diff_sum_pct</th>\n",
       "    </tr>\n",
       "  </thead>\n",
       "  <tbody>\n",
       "    <tr>\n",
       "      <td id=\"T_53626_row0_col0\" class=\"data row0 col0\" >False</td>\n",
       "      <td id=\"T_53626_row0_col1\" class=\"data row0 col1\" >2725</td>\n",
       "      <td id=\"T_53626_row0_col2\" class=\"data row0 col2\" >621</td>\n",
       "      <td id=\"T_53626_row0_col3\" class=\"data row0 col3\" >22.8%</td>\n",
       "      <td id=\"T_53626_row0_col4\" class=\"data row0 col4\" >11.3%</td>\n",
       "      <td id=\"T_53626_row0_col5\" class=\"data row0 col5\" >11.5%</td>\n",
       "      <td id=\"T_53626_row0_col6\" class=\"data row0 col6\" >-0.2%</td>\n",
       "    </tr>\n",
       "    <tr>\n",
       "      <td id=\"T_53626_row1_col0\" class=\"data row1 col0\" >True</td>\n",
       "      <td id=\"T_53626_row1_col1\" class=\"data row1 col1\" >50</td>\n",
       "      <td id=\"T_53626_row1_col2\" class=\"data row1 col2\" >7</td>\n",
       "      <td id=\"T_53626_row1_col3\" class=\"data row1 col3\" >14.0%</td>\n",
       "      <td id=\"T_53626_row1_col4\" class=\"data row1 col4\" >0.1%</td>\n",
       "      <td id=\"T_53626_row1_col5\" class=\"data row1 col5\" >0.2%</td>\n",
       "      <td id=\"T_53626_row1_col6\" class=\"data row1 col6\" >-0.1%</td>\n",
       "    </tr>\n",
       "    <tr>\n",
       "      <td id=\"T_53626_row2_col0\" class=\"data row2 col0\" >nan</td>\n",
       "      <td id=\"T_53626_row2_col1\" class=\"data row2 col1\" >20924</td>\n",
       "      <td id=\"T_53626_row2_col2\" class=\"data row2 col2\" >4890</td>\n",
       "      <td id=\"T_53626_row2_col3\" class=\"data row2 col3\" >23.4%</td>\n",
       "      <td id=\"T_53626_row2_col4\" class=\"data row2 col4\" >88.6%</td>\n",
       "      <td id=\"T_53626_row2_col5\" class=\"data row2 col5\" >88.3%</td>\n",
       "      <td id=\"T_53626_row2_col6\" class=\"data row2 col6\" >0.3%</td>\n",
       "    </tr>\n",
       "  </tbody>\n",
       "</table>\n"
      ],
      "text/plain": [
       "<pandas.io.formats.style.Styler at 0x7819e0c0c070>"
      ]
     },
     "metadata": {},
     "output_type": "display_data"
    }
   ],
   "source": [
    "next(gen)"
   ]
  },
  {
   "cell_type": "code",
   "execution_count": 29,
   "metadata": {},
   "outputs": [
    {
     "data": {
      "text/html": [
       "<style type=\"text/css\">\n",
       "#T_f3ce3 caption {\n",
       "  font-size: 18px;\n",
       "  text-align: left;\n",
       "  font-weight: bold;\n",
       "}\n",
       "</style>\n",
       "<table id=\"T_f3ce3\" class=\"dataframe\">\n",
       "  <caption>Value in \"df with na\" by category \"studio\"</caption>\n",
       "  <thead>\n",
       "    <tr>\n",
       "      <th id=\"T_f3ce3_level0_col0\" class=\"col_heading level0 col0\" >studio</th>\n",
       "      <th id=\"T_f3ce3_level0_col1\" class=\"col_heading level0 col1\" >total</th>\n",
       "      <th id=\"T_f3ce3_level0_col2\" class=\"col_heading level0 col2\" >count</th>\n",
       "      <th id=\"T_f3ce3_level0_col3\" class=\"col_heading level0 col3\" >count_in_total_pct</th>\n",
       "      <th id=\"T_f3ce3_level0_col4\" class=\"col_heading level0 col4\" >count_in_sum_count_pct</th>\n",
       "      <th id=\"T_f3ce3_level0_col5\" class=\"col_heading level0 col5\" >total_in_sum_total_pct</th>\n",
       "      <th id=\"T_f3ce3_level0_col6\" class=\"col_heading level0 col6\" >diff_sum_pct</th>\n",
       "    </tr>\n",
       "  </thead>\n",
       "  <tbody>\n",
       "    <tr>\n",
       "      <td id=\"T_f3ce3_row0_col0\" class=\"data row0 col0\" >False</td>\n",
       "      <td id=\"T_f3ce3_row0_col1\" class=\"data row0 col1\" >23550</td>\n",
       "      <td id=\"T_f3ce3_row0_col2\" class=\"data row0 col2\" >5461</td>\n",
       "      <td id=\"T_f3ce3_row0_col3\" class=\"data row0 col3\" >23.2%</td>\n",
       "      <td id=\"T_f3ce3_row0_col4\" class=\"data row0 col4\" >99.0%</td>\n",
       "      <td id=\"T_f3ce3_row0_col5\" class=\"data row0 col5\" >99.4%</td>\n",
       "      <td id=\"T_f3ce3_row0_col6\" class=\"data row0 col6\" >-0.4%</td>\n",
       "    </tr>\n",
       "    <tr>\n",
       "      <td id=\"T_f3ce3_row1_col0\" class=\"data row1 col0\" >True</td>\n",
       "      <td id=\"T_f3ce3_row1_col1\" class=\"data row1 col1\" >149</td>\n",
       "      <td id=\"T_f3ce3_row1_col2\" class=\"data row1 col2\" >57</td>\n",
       "      <td id=\"T_f3ce3_row1_col3\" class=\"data row1 col3\" >38.3%</td>\n",
       "      <td id=\"T_f3ce3_row1_col4\" class=\"data row1 col4\" >1.0%</td>\n",
       "      <td id=\"T_f3ce3_row1_col5\" class=\"data row1 col5\" >0.6%</td>\n",
       "      <td id=\"T_f3ce3_row1_col6\" class=\"data row1 col6\" >0.4%</td>\n",
       "    </tr>\n",
       "  </tbody>\n",
       "</table>\n"
      ],
      "text/plain": [
       "<pandas.io.formats.style.Styler at 0x7819e0c0fc70>"
      ]
     },
     "metadata": {},
     "output_type": "display_data"
    }
   ],
   "source": [
    "next(gen)"
   ]
  },
  {
   "cell_type": "code",
   "execution_count": 30,
   "metadata": {},
   "outputs": [
    {
     "data": {
      "text/html": [
       "<style type=\"text/css\">\n",
       "#T_afeba caption {\n",
       "  font-size: 18px;\n",
       "  text-align: left;\n",
       "  font-weight: bold;\n",
       "}\n",
       "</style>\n",
       "<table id=\"T_afeba\" class=\"dataframe\">\n",
       "  <caption>Value in \"df with na\" by category \"open_plan\"</caption>\n",
       "  <thead>\n",
       "    <tr>\n",
       "      <th id=\"T_afeba_level0_col0\" class=\"col_heading level0 col0\" >open_plan</th>\n",
       "      <th id=\"T_afeba_level0_col1\" class=\"col_heading level0 col1\" >total</th>\n",
       "      <th id=\"T_afeba_level0_col2\" class=\"col_heading level0 col2\" >count</th>\n",
       "      <th id=\"T_afeba_level0_col3\" class=\"col_heading level0 col3\" >count_in_total_pct</th>\n",
       "      <th id=\"T_afeba_level0_col4\" class=\"col_heading level0 col4\" >count_in_sum_count_pct</th>\n",
       "      <th id=\"T_afeba_level0_col5\" class=\"col_heading level0 col5\" >total_in_sum_total_pct</th>\n",
       "      <th id=\"T_afeba_level0_col6\" class=\"col_heading level0 col6\" >diff_sum_pct</th>\n",
       "    </tr>\n",
       "  </thead>\n",
       "  <tbody>\n",
       "    <tr>\n",
       "      <td id=\"T_afeba_row0_col0\" class=\"data row0 col0\" >False</td>\n",
       "      <td id=\"T_afeba_row0_col1\" class=\"data row0 col1\" >23632</td>\n",
       "      <td id=\"T_afeba_row0_col2\" class=\"data row0 col2\" >5488</td>\n",
       "      <td id=\"T_afeba_row0_col3\" class=\"data row0 col3\" >23.2%</td>\n",
       "      <td id=\"T_afeba_row0_col4\" class=\"data row0 col4\" >99.5%</td>\n",
       "      <td id=\"T_afeba_row0_col5\" class=\"data row0 col5\" >99.7%</td>\n",
       "      <td id=\"T_afeba_row0_col6\" class=\"data row0 col6\" >-0.3%</td>\n",
       "    </tr>\n",
       "    <tr>\n",
       "      <td id=\"T_afeba_row1_col0\" class=\"data row1 col0\" >True</td>\n",
       "      <td id=\"T_afeba_row1_col1\" class=\"data row1 col1\" >67</td>\n",
       "      <td id=\"T_afeba_row1_col2\" class=\"data row1 col2\" >30</td>\n",
       "      <td id=\"T_afeba_row1_col3\" class=\"data row1 col3\" >44.8%</td>\n",
       "      <td id=\"T_afeba_row1_col4\" class=\"data row1 col4\" >0.5%</td>\n",
       "      <td id=\"T_afeba_row1_col5\" class=\"data row1 col5\" >0.3%</td>\n",
       "      <td id=\"T_afeba_row1_col6\" class=\"data row1 col6\" >0.3%</td>\n",
       "    </tr>\n",
       "  </tbody>\n",
       "</table>\n"
      ],
      "text/plain": [
       "<pandas.io.formats.style.Styler at 0x7819e0c0db10>"
      ]
     },
     "metadata": {},
     "output_type": "display_data"
    }
   ],
   "source": [
    "next(gen)"
   ]
  },
  {
   "cell_type": "markdown",
   "metadata": {},
   "source": [
    "**Наблюдения:**\n",
    "- Явных зависимостей от категорий не обнаружено"
   ]
  },
  {
   "cell_type": "markdown",
   "metadata": {
    "id": "Gp0GAavDrRRg"
   },
   "source": [
    "Изучим пропуски по категориям"
   ]
  },
  {
   "cell_type": "code",
   "execution_count": 18,
   "id": "7c08c45d",
   "metadata": {},
   "outputs": [
    {
     "data": {
      "text/html": [
       "<style type=\"text/css\">\n",
       "#T_ca641 caption {\n",
       "  font-size: 18px;\n",
       "  text-align: left;\n",
       "  font-weight: bold;\n",
       "}\n",
       "</style>\n",
       "<table id=\"T_ca641\" class=\"dataframe\">\n",
       "  <caption>Share in \"floors_total\" by category \"is_apartment\"</caption>\n",
       "  <thead>\n",
       "    <tr>\n",
       "      <th id=\"T_ca641_level0_col0\" class=\"col_heading level0 col0\" >is_apartment</th>\n",
       "      <th id=\"T_ca641_level0_col1\" class=\"col_heading level0 col1\" >total</th>\n",
       "      <th id=\"T_ca641_level0_col2\" class=\"col_heading level0 col2\" >count</th>\n",
       "      <th id=\"T_ca641_level0_col3\" class=\"col_heading level0 col3\" >count_in_total_pct</th>\n",
       "      <th id=\"T_ca641_level0_col4\" class=\"col_heading level0 col4\" >count_in_sum_count_pct</th>\n",
       "      <th id=\"T_ca641_level0_col5\" class=\"col_heading level0 col5\" >total_in_sum_total_pct</th>\n",
       "      <th id=\"T_ca641_level0_col6\" class=\"col_heading level0 col6\" >diff_sum_pct</th>\n",
       "    </tr>\n",
       "  </thead>\n",
       "  <tbody>\n",
       "    <tr>\n",
       "      <td id=\"T_ca641_row0_col0\" class=\"data row0 col0\" >False</td>\n",
       "      <td id=\"T_ca641_row0_col1\" class=\"data row0 col1\" >2725</td>\n",
       "      <td id=\"T_ca641_row0_col2\" class=\"data row0 col2\" >0</td>\n",
       "      <td id=\"T_ca641_row0_col3\" class=\"data row0 col3\" >0.0%</td>\n",
       "      <td id=\"T_ca641_row0_col4\" class=\"data row0 col4\" >0.0%</td>\n",
       "      <td id=\"T_ca641_row0_col5\" class=\"data row0 col5\" >11.5%</td>\n",
       "      <td id=\"T_ca641_row0_col6\" class=\"data row0 col6\" >-11.5%</td>\n",
       "    </tr>\n",
       "    <tr>\n",
       "      <td id=\"T_ca641_row1_col0\" class=\"data row1 col0\" >True</td>\n",
       "      <td id=\"T_ca641_row1_col1\" class=\"data row1 col1\" >50</td>\n",
       "      <td id=\"T_ca641_row1_col2\" class=\"data row1 col2\" >0</td>\n",
       "      <td id=\"T_ca641_row1_col3\" class=\"data row1 col3\" >0.0%</td>\n",
       "      <td id=\"T_ca641_row1_col4\" class=\"data row1 col4\" >0.0%</td>\n",
       "      <td id=\"T_ca641_row1_col5\" class=\"data row1 col5\" >0.2%</td>\n",
       "      <td id=\"T_ca641_row1_col6\" class=\"data row1 col6\" >-0.2%</td>\n",
       "    </tr>\n",
       "    <tr>\n",
       "      <td id=\"T_ca641_row2_col0\" class=\"data row2 col0\" >nan</td>\n",
       "      <td id=\"T_ca641_row2_col1\" class=\"data row2 col1\" >20924</td>\n",
       "      <td id=\"T_ca641_row2_col2\" class=\"data row2 col2\" >86</td>\n",
       "      <td id=\"T_ca641_row2_col3\" class=\"data row2 col3\" >0.4%</td>\n",
       "      <td id=\"T_ca641_row2_col4\" class=\"data row2 col4\" >100.0%</td>\n",
       "      <td id=\"T_ca641_row2_col5\" class=\"data row2 col5\" >88.3%</td>\n",
       "      <td id=\"T_ca641_row2_col6\" class=\"data row2 col6\" >11.7%</td>\n",
       "    </tr>\n",
       "  </tbody>\n",
       "</table>\n"
      ],
      "text/plain": [
       "<pandas.io.formats.style.Styler at 0x7819d364cc70>"
      ]
     },
     "metadata": {},
     "output_type": "display_data"
    }
   ],
   "source": [
    "pagri_data_tools.analyze_anomaly_by_category(df, series_missed, \"by_category\", \"floors_total\", \"is_apartment\")"
   ]
  },
  {
   "cell_type": "markdown",
   "id": "8f7e038c",
   "metadata": {},
   "source": [
    "**Наблюдения:**\n",
    "- Пропуски в количестве этажей совпадают с пропусками в признаке является ли квартира апартаментом."
   ]
  },
  {
   "cell_type": "code",
   "execution_count": 19,
   "id": "5b1f0510",
   "metadata": {},
   "outputs": [
    {
     "data": {
      "text/html": [
       "<style type=\"text/css\">\n",
       "#T_3621c caption {\n",
       "  font-size: 18px;\n",
       "  text-align: left;\n",
       "  font-weight: bold;\n",
       "}\n",
       "</style>\n",
       "<table id=\"T_3621c\" class=\"dataframe\">\n",
       "  <caption>Share in \"floors_total\" by category \"studio\"</caption>\n",
       "  <thead>\n",
       "    <tr>\n",
       "      <th id=\"T_3621c_level0_col0\" class=\"col_heading level0 col0\" >studio</th>\n",
       "      <th id=\"T_3621c_level0_col1\" class=\"col_heading level0 col1\" >total</th>\n",
       "      <th id=\"T_3621c_level0_col2\" class=\"col_heading level0 col2\" >count</th>\n",
       "      <th id=\"T_3621c_level0_col3\" class=\"col_heading level0 col3\" >count_in_total_pct</th>\n",
       "      <th id=\"T_3621c_level0_col4\" class=\"col_heading level0 col4\" >count_in_sum_count_pct</th>\n",
       "      <th id=\"T_3621c_level0_col5\" class=\"col_heading level0 col5\" >total_in_sum_total_pct</th>\n",
       "      <th id=\"T_3621c_level0_col6\" class=\"col_heading level0 col6\" >diff_sum_pct</th>\n",
       "    </tr>\n",
       "  </thead>\n",
       "  <tbody>\n",
       "    <tr>\n",
       "      <td id=\"T_3621c_row0_col0\" class=\"data row0 col0\" >False</td>\n",
       "      <td id=\"T_3621c_row0_col1\" class=\"data row0 col1\" >23550</td>\n",
       "      <td id=\"T_3621c_row0_col2\" class=\"data row0 col2\" >83</td>\n",
       "      <td id=\"T_3621c_row0_col3\" class=\"data row0 col3\" >0.4%</td>\n",
       "      <td id=\"T_3621c_row0_col4\" class=\"data row0 col4\" >96.5%</td>\n",
       "      <td id=\"T_3621c_row0_col5\" class=\"data row0 col5\" >99.4%</td>\n",
       "      <td id=\"T_3621c_row0_col6\" class=\"data row0 col6\" >-2.9%</td>\n",
       "    </tr>\n",
       "    <tr>\n",
       "      <td id=\"T_3621c_row1_col0\" class=\"data row1 col0\" >True</td>\n",
       "      <td id=\"T_3621c_row1_col1\" class=\"data row1 col1\" >149</td>\n",
       "      <td id=\"T_3621c_row1_col2\" class=\"data row1 col2\" >3</td>\n",
       "      <td id=\"T_3621c_row1_col3\" class=\"data row1 col3\" >2.0%</td>\n",
       "      <td id=\"T_3621c_row1_col4\" class=\"data row1 col4\" >3.5%</td>\n",
       "      <td id=\"T_3621c_row1_col5\" class=\"data row1 col5\" >0.6%</td>\n",
       "      <td id=\"T_3621c_row1_col6\" class=\"data row1 col6\" >2.9%</td>\n",
       "    </tr>\n",
       "  </tbody>\n",
       "</table>\n"
      ],
      "text/plain": [
       "<pandas.io.formats.style.Styler at 0x7819d364c1c0>"
      ]
     },
     "metadata": {},
     "output_type": "display_data"
    }
   ],
   "source": [
    "pagri_data_tools.analyze_anomaly_by_category(df, series_missed, \"by_category\", \"floors_total\", \"studio\")"
   ]
  },
  {
   "cell_type": "markdown",
   "id": "35c7afd0",
   "metadata": {},
   "source": [
    "**Наблюдения:**\n",
    "- В количестве этаже пропуски зависят от признака является ли квартира студией.  \n",
    "- Почти все пропуски в квартирах, которые не являются студиями, даже учитвая общее количество пропорций."
   ]
  },
  {
   "cell_type": "code",
   "execution_count": 20,
   "id": "61a5b639",
   "metadata": {},
   "outputs": [
    {
     "data": {
      "text/html": [
       "<style type=\"text/css\">\n",
       "#T_f4d7f caption {\n",
       "  font-size: 18px;\n",
       "  text-align: left;\n",
       "  font-weight: bold;\n",
       "}\n",
       "</style>\n",
       "<table id=\"T_f4d7f\" class=\"dataframe\">\n",
       "  <caption>Share in \"kitchen_area\" by category \"studio\"</caption>\n",
       "  <thead>\n",
       "    <tr>\n",
       "      <th id=\"T_f4d7f_level0_col0\" class=\"col_heading level0 col0\" >studio</th>\n",
       "      <th id=\"T_f4d7f_level0_col1\" class=\"col_heading level0 col1\" >total</th>\n",
       "      <th id=\"T_f4d7f_level0_col2\" class=\"col_heading level0 col2\" >count</th>\n",
       "      <th id=\"T_f4d7f_level0_col3\" class=\"col_heading level0 col3\" >count_in_total_pct</th>\n",
       "      <th id=\"T_f4d7f_level0_col4\" class=\"col_heading level0 col4\" >count_in_sum_count_pct</th>\n",
       "      <th id=\"T_f4d7f_level0_col5\" class=\"col_heading level0 col5\" >total_in_sum_total_pct</th>\n",
       "      <th id=\"T_f4d7f_level0_col6\" class=\"col_heading level0 col6\" >diff_sum_pct</th>\n",
       "    </tr>\n",
       "  </thead>\n",
       "  <tbody>\n",
       "    <tr>\n",
       "      <td id=\"T_f4d7f_row0_col0\" class=\"data row0 col0\" >False</td>\n",
       "      <td id=\"T_f4d7f_row0_col1\" class=\"data row0 col1\" >23550</td>\n",
       "      <td id=\"T_f4d7f_row0_col2\" class=\"data row0 col2\" >2129</td>\n",
       "      <td id=\"T_f4d7f_row0_col3\" class=\"data row0 col3\" >9.0%</td>\n",
       "      <td id=\"T_f4d7f_row0_col4\" class=\"data row0 col4\" >93.5%</td>\n",
       "      <td id=\"T_f4d7f_row0_col5\" class=\"data row0 col5\" >99.4%</td>\n",
       "      <td id=\"T_f4d7f_row0_col6\" class=\"data row0 col6\" >-5.9%</td>\n",
       "    </tr>\n",
       "    <tr>\n",
       "      <td id=\"T_f4d7f_row1_col0\" class=\"data row1 col0\" >True</td>\n",
       "      <td id=\"T_f4d7f_row1_col1\" class=\"data row1 col1\" >149</td>\n",
       "      <td id=\"T_f4d7f_row1_col2\" class=\"data row1 col2\" >149</td>\n",
       "      <td id=\"T_f4d7f_row1_col3\" class=\"data row1 col3\" >100.0%</td>\n",
       "      <td id=\"T_f4d7f_row1_col4\" class=\"data row1 col4\" >6.5%</td>\n",
       "      <td id=\"T_f4d7f_row1_col5\" class=\"data row1 col5\" >0.6%</td>\n",
       "      <td id=\"T_f4d7f_row1_col6\" class=\"data row1 col6\" >5.9%</td>\n",
       "    </tr>\n",
       "  </tbody>\n",
       "</table>\n"
      ],
      "text/plain": [
       "<pandas.io.formats.style.Styler at 0x7819d364c490>"
      ]
     },
     "metadata": {},
     "output_type": "display_data"
    }
   ],
   "source": [
    "pagri_data_tools.analyze_anomaly_by_category(df, series_missed, \"by_category\", \"kitchen_area\", \"studio\")"
   ]
  },
  {
   "cell_type": "markdown",
   "id": "bec64a7a",
   "metadata": {},
   "source": [
    "**Наблюдения:**\n",
    "- В студиях в поле площадь кухни одни пропуски."
   ]
  },
  {
   "cell_type": "code",
   "execution_count": 21,
   "id": "25db06d1",
   "metadata": {},
   "outputs": [
    {
     "data": {
      "text/html": [
       "<style type=\"text/css\">\n",
       "#T_0a5de caption {\n",
       "  font-size: 18px;\n",
       "  text-align: left;\n",
       "  font-weight: bold;\n",
       "}\n",
       "</style>\n",
       "<table id=\"T_0a5de\" class=\"dataframe\">\n",
       "  <caption>Share in \"kitchen_area\" by category \"open_plan\"</caption>\n",
       "  <thead>\n",
       "    <tr>\n",
       "      <th id=\"T_0a5de_level0_col0\" class=\"col_heading level0 col0\" >open_plan</th>\n",
       "      <th id=\"T_0a5de_level0_col1\" class=\"col_heading level0 col1\" >total</th>\n",
       "      <th id=\"T_0a5de_level0_col2\" class=\"col_heading level0 col2\" >count</th>\n",
       "      <th id=\"T_0a5de_level0_col3\" class=\"col_heading level0 col3\" >count_in_total_pct</th>\n",
       "      <th id=\"T_0a5de_level0_col4\" class=\"col_heading level0 col4\" >count_in_sum_count_pct</th>\n",
       "      <th id=\"T_0a5de_level0_col5\" class=\"col_heading level0 col5\" >total_in_sum_total_pct</th>\n",
       "      <th id=\"T_0a5de_level0_col6\" class=\"col_heading level0 col6\" >diff_sum_pct</th>\n",
       "    </tr>\n",
       "  </thead>\n",
       "  <tbody>\n",
       "    <tr>\n",
       "      <td id=\"T_0a5de_row0_col0\" class=\"data row0 col0\" >False</td>\n",
       "      <td id=\"T_0a5de_row0_col1\" class=\"data row0 col1\" >23632</td>\n",
       "      <td id=\"T_0a5de_row0_col2\" class=\"data row0 col2\" >2211</td>\n",
       "      <td id=\"T_0a5de_row0_col3\" class=\"data row0 col3\" >9.4%</td>\n",
       "      <td id=\"T_0a5de_row0_col4\" class=\"data row0 col4\" >97.1%</td>\n",
       "      <td id=\"T_0a5de_row0_col5\" class=\"data row0 col5\" >99.7%</td>\n",
       "      <td id=\"T_0a5de_row0_col6\" class=\"data row0 col6\" >-2.7%</td>\n",
       "    </tr>\n",
       "    <tr>\n",
       "      <td id=\"T_0a5de_row1_col0\" class=\"data row1 col0\" >True</td>\n",
       "      <td id=\"T_0a5de_row1_col1\" class=\"data row1 col1\" >67</td>\n",
       "      <td id=\"T_0a5de_row1_col2\" class=\"data row1 col2\" >67</td>\n",
       "      <td id=\"T_0a5de_row1_col3\" class=\"data row1 col3\" >100.0%</td>\n",
       "      <td id=\"T_0a5de_row1_col4\" class=\"data row1 col4\" >2.9%</td>\n",
       "      <td id=\"T_0a5de_row1_col5\" class=\"data row1 col5\" >0.3%</td>\n",
       "      <td id=\"T_0a5de_row1_col6\" class=\"data row1 col6\" >2.7%</td>\n",
       "    </tr>\n",
       "  </tbody>\n",
       "</table>\n"
      ],
      "text/plain": [
       "<pandas.io.formats.style.Styler at 0x7819d364fe80>"
      ]
     },
     "metadata": {},
     "output_type": "display_data"
    }
   ],
   "source": [
    "pagri_data_tools.analyze_anomaly_by_category(df, series_missed, \"by_category\", \"kitchen_area\", \"open_plan\")"
   ]
  },
  {
   "cell_type": "markdown",
   "id": "b72cdbae",
   "metadata": {},
   "source": [
    "**Наблюдения:**\n",
    "- В студиях в поле площадь кухни одни пропуски. "
   ]
  },
  {
   "cell_type": "markdown",
   "metadata": {
    "id": "F3OueZxUrRRm"
   },
   "source": [
    "#### Изучение выбросов"
   ]
  },
  {
   "cell_type": "markdown",
   "metadata": {
    "id": "XY94COpBrRRq"
   },
   "source": [
    "Сначала изучим потенциальные выбросы, которые мы выявили при изучении колонок.  "
   ]
  },
  {
   "cell_type": "markdown",
   "metadata": {},
   "source": [
    "Изучим выброс с ценой 12190.0"
   ]
  },
  {
   "cell_type": "code",
   "execution_count": 410,
   "metadata": {},
   "outputs": [
    {
     "data": {
      "text/html": [
       "\n",
       "  <div id=\"df-6bb0e815-7d87-4ad0-a832-3aaa226df16a\" class=\"colab-df-container\">\n",
       "    <div>\n",
       "<style scoped>\n",
       "    .dataframe tbody tr th:only-of-type {\n",
       "        vertical-align: middle;\n",
       "    }\n",
       "\n",
       "    .dataframe tbody tr th {\n",
       "        vertical-align: top;\n",
       "    }\n",
       "\n",
       "    .dataframe thead th {\n",
       "        text-align: right;\n",
       "    }\n",
       "</style>\n",
       "<table border=\"1\" class=\"dataframe\">\n",
       "  <thead>\n",
       "    <tr style=\"text-align: right;\">\n",
       "      <th></th>\n",
       "      <th>total_images</th>\n",
       "      <th>last_price</th>\n",
       "      <th>total_area</th>\n",
       "      <th>first_day_exposition</th>\n",
       "      <th>rooms</th>\n",
       "      <th>ceiling_height</th>\n",
       "      <th>floors_total</th>\n",
       "      <th>living_area</th>\n",
       "      <th>floor</th>\n",
       "      <th>is_apartment</th>\n",
       "      <th>...</th>\n",
       "      <th>kitchen_area</th>\n",
       "      <th>balcony</th>\n",
       "      <th>locality_name</th>\n",
       "      <th>airports_nearest</th>\n",
       "      <th>city_centers_nearest</th>\n",
       "      <th>parks_around3000</th>\n",
       "      <th>parks_nearest</th>\n",
       "      <th>ponds_around3000</th>\n",
       "      <th>ponds_nearest</th>\n",
       "      <th>days_exposition</th>\n",
       "    </tr>\n",
       "  </thead>\n",
       "  <tbody>\n",
       "    <tr>\n",
       "      <th>8793</th>\n",
       "      <td>7</td>\n",
       "      <td>12190.0</td>\n",
       "      <td>109.0</td>\n",
       "      <td>2019-03-20</td>\n",
       "      <td>2</td>\n",
       "      <td>2.75</td>\n",
       "      <td>25.0</td>\n",
       "      <td>32.0</td>\n",
       "      <td>25</td>\n",
       "      <td>NaN</td>\n",
       "      <td>...</td>\n",
       "      <td>40.5</td>\n",
       "      <td>NaN</td>\n",
       "      <td>Санкт-Петербург</td>\n",
       "      <td>36421.0</td>\n",
       "      <td>9176.0</td>\n",
       "      <td>1.0</td>\n",
       "      <td>805.0</td>\n",
       "      <td>0.0</td>\n",
       "      <td>NaN</td>\n",
       "      <td>8.0</td>\n",
       "    </tr>\n",
       "  </tbody>\n",
       "</table>\n",
       "<p>1 rows × 22 columns</p>\n",
       "</div>\n",
       "    <div class=\"colab-df-buttons\">\n",
       "      \n",
       "  <div class=\"colab-df-container\">\n",
       "    <button class=\"colab-df-convert\" onclick=\"convertToInteractive('df-6bb0e815-7d87-4ad0-a832-3aaa226df16a')\"\n",
       "            title=\"Convert this dataframe to an interactive table.\"\n",
       "            style=\"display:none;\">\n",
       "      \n",
       "  <svg xmlns=\"http://www.w3.org/2000/svg\" height=\"24px\" viewBox=\"0 -960 960 960\">\n",
       "    <path d=\"M120-120v-720h720v720H120Zm60-500h600v-160H180v160Zm220 220h160v-160H400v160Zm0 220h160v-160H400v160ZM180-400h160v-160H180v160Zm440 0h160v-160H620v160ZM180-180h160v-160H180v160Zm440 0h160v-160H620v160Z\"/>\n",
       "  </svg>\n",
       "    </button>\n",
       "    \n",
       "  <style>\n",
       "    .colab-df-container {\n",
       "      display:flex;\n",
       "      gap: 12px;\n",
       "    }\n",
       "\n",
       "    .colab-df-convert {\n",
       "      background-color: #E8F0FE;\n",
       "      border: none;\n",
       "      border-radius: 50%;\n",
       "      cursor: pointer;\n",
       "      display: none;\n",
       "      fill: #1967D2;\n",
       "      height: 32px;\n",
       "      padding: 0 0 0 0;\n",
       "      width: 32px;\n",
       "    }\n",
       "\n",
       "    .colab-df-convert:hover {\n",
       "      background-color: #E2EBFA;\n",
       "      box-shadow: 0px 1px 2px rgba(60, 64, 67, 0.3), 0px 1px 3px 1px rgba(60, 64, 67, 0.15);\n",
       "      fill: #174EA6;\n",
       "    }\n",
       "\n",
       "    .colab-df-buttons div {\n",
       "      margin-bottom: 4px;\n",
       "    }\n",
       "\n",
       "    [theme=dark] .colab-df-convert {\n",
       "      background-color: #3B4455;\n",
       "      fill: #D2E3FC;\n",
       "    }\n",
       "\n",
       "    [theme=dark] .colab-df-convert:hover {\n",
       "      background-color: #434B5C;\n",
       "      box-shadow: 0px 1px 3px 1px rgba(0, 0, 0, 0.15);\n",
       "      filter: drop-shadow(0px 1px 2px rgba(0, 0, 0, 0.3));\n",
       "      fill: #FFFFFF;\n",
       "    }\n",
       "  </style>\n",
       "\n",
       "    <script>\n",
       "      const buttonEl =\n",
       "        document.querySelector('#df-6bb0e815-7d87-4ad0-a832-3aaa226df16a button.colab-df-convert');\n",
       "      buttonEl.style.display =\n",
       "        google.colab.kernel.accessAllowed ? 'block' : 'none';\n",
       "\n",
       "      async function convertToInteractive(key) {\n",
       "        const element = document.querySelector('#df-6bb0e815-7d87-4ad0-a832-3aaa226df16a');\n",
       "        const dataTable =\n",
       "          await google.colab.kernel.invokeFunction('convertToInteractive',\n",
       "                                                    [key], {});\n",
       "        if (!dataTable) return;\n",
       "\n",
       "        const docLinkHtml = 'Like what you see? Visit the ' +\n",
       "          '<a target=\"_blank\" href=https://colab.research.google.com/notebooks/data_table.ipynb>data table notebook</a>'\n",
       "          + ' to learn more about interactive tables.';\n",
       "        element.innerHTML = '';\n",
       "        dataTable['output_type'] = 'display_data';\n",
       "        await google.colab.output.renderOutput(dataTable, element);\n",
       "        const docLink = document.createElement('div');\n",
       "        docLink.innerHTML = docLinkHtml;\n",
       "        element.appendChild(docLink);\n",
       "      }\n",
       "    </script>\n",
       "  </div>\n",
       "  \n",
       "    </div>\n",
       "  </div>\n",
       "  "
      ],
      "text/plain": [
       "      total_images  last_price  total_area first_day_exposition  rooms  \\\n",
       "8793             7     12190.0       109.0           2019-03-20      2   \n",
       "\n",
       "      ceiling_height  floors_total  living_area  floor is_apartment  ...  \\\n",
       "8793            2.75          25.0         32.0     25          NaN  ...   \n",
       "\n",
       "     kitchen_area balcony    locality_name  airports_nearest  \\\n",
       "8793         40.5     NaN  Санкт-Петербург           36421.0   \n",
       "\n",
       "     city_centers_nearest  parks_around3000  parks_nearest  ponds_around3000  \\\n",
       "8793               9176.0               1.0          805.0               0.0   \n",
       "\n",
       "      ponds_nearest  days_exposition  \n",
       "8793            NaN              8.0  \n",
       "\n",
       "[1 rows x 22 columns]"
      ]
     },
     "execution_count": 410,
     "metadata": {},
     "output_type": "execute_result"
    }
   ],
   "source": [
    "df[df.last_price == 12190]"
   ]
  },
  {
   "cell_type": "markdown",
   "metadata": {},
   "source": [
    "**Наблюдения**:  \n",
    "- Ничего особенно не обнаружено.  \n",
    "- Скорее всего ошиблись не поставили нули."
   ]
  },
  {
   "cell_type": "markdown",
   "metadata": {},
   "source": [
    "Посмотрим на выбросы с площадью квартиры. "
   ]
  },
  {
   "cell_type": "code",
   "execution_count": 411,
   "metadata": {},
   "outputs": [
    {
     "data": {
      "text/html": [
       "\n",
       "  <div id=\"df-d9021a32-cd89-4eeb-b143-d44e62bc8294\" class=\"colab-df-container\">\n",
       "    <div>\n",
       "<style scoped>\n",
       "    .dataframe tbody tr th:only-of-type {\n",
       "        vertical-align: middle;\n",
       "    }\n",
       "\n",
       "    .dataframe tbody tr th {\n",
       "        vertical-align: top;\n",
       "    }\n",
       "\n",
       "    .dataframe thead th {\n",
       "        text-align: right;\n",
       "    }\n",
       "</style>\n",
       "<table border=\"1\" class=\"dataframe\">\n",
       "  <thead>\n",
       "    <tr style=\"text-align: right;\">\n",
       "      <th></th>\n",
       "      <th>total_images</th>\n",
       "      <th>last_price</th>\n",
       "      <th>total_area</th>\n",
       "      <th>first_day_exposition</th>\n",
       "      <th>rooms</th>\n",
       "      <th>ceiling_height</th>\n",
       "      <th>floors_total</th>\n",
       "      <th>living_area</th>\n",
       "      <th>floor</th>\n",
       "      <th>is_apartment</th>\n",
       "      <th>...</th>\n",
       "      <th>kitchen_area</th>\n",
       "      <th>balcony</th>\n",
       "      <th>locality_name</th>\n",
       "      <th>airports_nearest</th>\n",
       "      <th>city_centers_nearest</th>\n",
       "      <th>parks_around3000</th>\n",
       "      <th>parks_nearest</th>\n",
       "      <th>ponds_around3000</th>\n",
       "      <th>ponds_nearest</th>\n",
       "      <th>days_exposition</th>\n",
       "    </tr>\n",
       "  </thead>\n",
       "  <tbody>\n",
       "    <tr>\n",
       "      <th>3117</th>\n",
       "      <td>19</td>\n",
       "      <td>140000000.0</td>\n",
       "      <td>631.0</td>\n",
       "      <td>2019-03-30</td>\n",
       "      <td>7</td>\n",
       "      <td>NaN</td>\n",
       "      <td>5.0</td>\n",
       "      <td>NaN</td>\n",
       "      <td>5</td>\n",
       "      <td>NaN</td>\n",
       "      <td>...</td>\n",
       "      <td>60.0</td>\n",
       "      <td>NaN</td>\n",
       "      <td>Санкт-Петербург</td>\n",
       "      <td>25707.0</td>\n",
       "      <td>4972.0</td>\n",
       "      <td>0.0</td>\n",
       "      <td>NaN</td>\n",
       "      <td>2.0</td>\n",
       "      <td>210.0</td>\n",
       "      <td>NaN</td>\n",
       "    </tr>\n",
       "    <tr>\n",
       "      <th>4237</th>\n",
       "      <td>1</td>\n",
       "      <td>50000000.0</td>\n",
       "      <td>517.0</td>\n",
       "      <td>2017-10-14</td>\n",
       "      <td>7</td>\n",
       "      <td>NaN</td>\n",
       "      <td>4.0</td>\n",
       "      <td>332.0</td>\n",
       "      <td>3</td>\n",
       "      <td>NaN</td>\n",
       "      <td>...</td>\n",
       "      <td>22.0</td>\n",
       "      <td>NaN</td>\n",
       "      <td>Санкт-Петербург</td>\n",
       "      <td>22835.0</td>\n",
       "      <td>1847.0</td>\n",
       "      <td>2.0</td>\n",
       "      <td>477.0</td>\n",
       "      <td>2.0</td>\n",
       "      <td>540.0</td>\n",
       "      <td>NaN</td>\n",
       "    </tr>\n",
       "    <tr>\n",
       "      <th>5358</th>\n",
       "      <td>20</td>\n",
       "      <td>65000000.0</td>\n",
       "      <td>590.0</td>\n",
       "      <td>2019-02-14</td>\n",
       "      <td>15</td>\n",
       "      <td>3.50</td>\n",
       "      <td>6.0</td>\n",
       "      <td>409.0</td>\n",
       "      <td>3</td>\n",
       "      <td>NaN</td>\n",
       "      <td>...</td>\n",
       "      <td>100.0</td>\n",
       "      <td>NaN</td>\n",
       "      <td>Санкт-Петербург</td>\n",
       "      <td>24447.0</td>\n",
       "      <td>4666.0</td>\n",
       "      <td>1.0</td>\n",
       "      <td>767.0</td>\n",
       "      <td>0.0</td>\n",
       "      <td>NaN</td>\n",
       "      <td>14.0</td>\n",
       "    </tr>\n",
       "    <tr>\n",
       "      <th>8018</th>\n",
       "      <td>20</td>\n",
       "      <td>84000000.0</td>\n",
       "      <td>507.0</td>\n",
       "      <td>2015-12-17</td>\n",
       "      <td>5</td>\n",
       "      <td>4.45</td>\n",
       "      <td>7.0</td>\n",
       "      <td>301.5</td>\n",
       "      <td>7</td>\n",
       "      <td>True</td>\n",
       "      <td>...</td>\n",
       "      <td>45.5</td>\n",
       "      <td>1.0</td>\n",
       "      <td>Санкт-Петербург</td>\n",
       "      <td>NaN</td>\n",
       "      <td>5735.0</td>\n",
       "      <td>2.0</td>\n",
       "      <td>110.0</td>\n",
       "      <td>0.0</td>\n",
       "      <td>NaN</td>\n",
       "      <td>1078.0</td>\n",
       "    </tr>\n",
       "    <tr>\n",
       "      <th>12859</th>\n",
       "      <td>20</td>\n",
       "      <td>140000000.0</td>\n",
       "      <td>631.2</td>\n",
       "      <td>2019-04-09</td>\n",
       "      <td>7</td>\n",
       "      <td>3.90</td>\n",
       "      <td>4.0</td>\n",
       "      <td>322.3</td>\n",
       "      <td>4</td>\n",
       "      <td>NaN</td>\n",
       "      <td>...</td>\n",
       "      <td>19.5</td>\n",
       "      <td>1.0</td>\n",
       "      <td>Санкт-Петербург</td>\n",
       "      <td>25707.0</td>\n",
       "      <td>4972.0</td>\n",
       "      <td>0.0</td>\n",
       "      <td>NaN</td>\n",
       "      <td>2.0</td>\n",
       "      <td>210.0</td>\n",
       "      <td>NaN</td>\n",
       "    </tr>\n",
       "    <tr>\n",
       "      <th>15651</th>\n",
       "      <td>20</td>\n",
       "      <td>300000000.0</td>\n",
       "      <td>618.0</td>\n",
       "      <td>2017-12-18</td>\n",
       "      <td>7</td>\n",
       "      <td>3.40</td>\n",
       "      <td>7.0</td>\n",
       "      <td>258.0</td>\n",
       "      <td>5</td>\n",
       "      <td>NaN</td>\n",
       "      <td>...</td>\n",
       "      <td>70.0</td>\n",
       "      <td>NaN</td>\n",
       "      <td>Санкт-Петербург</td>\n",
       "      <td>32440.0</td>\n",
       "      <td>5297.0</td>\n",
       "      <td>0.0</td>\n",
       "      <td>NaN</td>\n",
       "      <td>2.0</td>\n",
       "      <td>198.0</td>\n",
       "      <td>111.0</td>\n",
       "    </tr>\n",
       "    <tr>\n",
       "      <th>19540</th>\n",
       "      <td>8</td>\n",
       "      <td>420000000.0</td>\n",
       "      <td>900.0</td>\n",
       "      <td>2017-12-06</td>\n",
       "      <td>12</td>\n",
       "      <td>2.80</td>\n",
       "      <td>25.0</td>\n",
       "      <td>409.7</td>\n",
       "      <td>25</td>\n",
       "      <td>NaN</td>\n",
       "      <td>...</td>\n",
       "      <td>112.0</td>\n",
       "      <td>NaN</td>\n",
       "      <td>Санкт-Петербург</td>\n",
       "      <td>30706.0</td>\n",
       "      <td>7877.0</td>\n",
       "      <td>0.0</td>\n",
       "      <td>NaN</td>\n",
       "      <td>2.0</td>\n",
       "      <td>318.0</td>\n",
       "      <td>106.0</td>\n",
       "    </tr>\n",
       "  </tbody>\n",
       "</table>\n",
       "<p>7 rows × 22 columns</p>\n",
       "</div>\n",
       "    <div class=\"colab-df-buttons\">\n",
       "      \n",
       "  <div class=\"colab-df-container\">\n",
       "    <button class=\"colab-df-convert\" onclick=\"convertToInteractive('df-d9021a32-cd89-4eeb-b143-d44e62bc8294')\"\n",
       "            title=\"Convert this dataframe to an interactive table.\"\n",
       "            style=\"display:none;\">\n",
       "      \n",
       "  <svg xmlns=\"http://www.w3.org/2000/svg\" height=\"24px\" viewBox=\"0 -960 960 960\">\n",
       "    <path d=\"M120-120v-720h720v720H120Zm60-500h600v-160H180v160Zm220 220h160v-160H400v160Zm0 220h160v-160H400v160ZM180-400h160v-160H180v160Zm440 0h160v-160H620v160ZM180-180h160v-160H180v160Zm440 0h160v-160H620v160Z\"/>\n",
       "  </svg>\n",
       "    </button>\n",
       "    \n",
       "  <style>\n",
       "    .colab-df-container {\n",
       "      display:flex;\n",
       "      gap: 12px;\n",
       "    }\n",
       "\n",
       "    .colab-df-convert {\n",
       "      background-color: #E8F0FE;\n",
       "      border: none;\n",
       "      border-radius: 50%;\n",
       "      cursor: pointer;\n",
       "      display: none;\n",
       "      fill: #1967D2;\n",
       "      height: 32px;\n",
       "      padding: 0 0 0 0;\n",
       "      width: 32px;\n",
       "    }\n",
       "\n",
       "    .colab-df-convert:hover {\n",
       "      background-color: #E2EBFA;\n",
       "      box-shadow: 0px 1px 2px rgba(60, 64, 67, 0.3), 0px 1px 3px 1px rgba(60, 64, 67, 0.15);\n",
       "      fill: #174EA6;\n",
       "    }\n",
       "\n",
       "    .colab-df-buttons div {\n",
       "      margin-bottom: 4px;\n",
       "    }\n",
       "\n",
       "    [theme=dark] .colab-df-convert {\n",
       "      background-color: #3B4455;\n",
       "      fill: #D2E3FC;\n",
       "    }\n",
       "\n",
       "    [theme=dark] .colab-df-convert:hover {\n",
       "      background-color: #434B5C;\n",
       "      box-shadow: 0px 1px 3px 1px rgba(0, 0, 0, 0.15);\n",
       "      filter: drop-shadow(0px 1px 2px rgba(0, 0, 0, 0.3));\n",
       "      fill: #FFFFFF;\n",
       "    }\n",
       "  </style>\n",
       "\n",
       "    <script>\n",
       "      const buttonEl =\n",
       "        document.querySelector('#df-d9021a32-cd89-4eeb-b143-d44e62bc8294 button.colab-df-convert');\n",
       "      buttonEl.style.display =\n",
       "        google.colab.kernel.accessAllowed ? 'block' : 'none';\n",
       "\n",
       "      async function convertToInteractive(key) {\n",
       "        const element = document.querySelector('#df-d9021a32-cd89-4eeb-b143-d44e62bc8294');\n",
       "        const dataTable =\n",
       "          await google.colab.kernel.invokeFunction('convertToInteractive',\n",
       "                                                    [key], {});\n",
       "        if (!dataTable) return;\n",
       "\n",
       "        const docLinkHtml = 'Like what you see? Visit the ' +\n",
       "          '<a target=\"_blank\" href=https://colab.research.google.com/notebooks/data_table.ipynb>data table notebook</a>'\n",
       "          + ' to learn more about interactive tables.';\n",
       "        element.innerHTML = '';\n",
       "        dataTable['output_type'] = 'display_data';\n",
       "        await google.colab.output.renderOutput(dataTable, element);\n",
       "        const docLink = document.createElement('div');\n",
       "        docLink.innerHTML = docLinkHtml;\n",
       "        element.appendChild(docLink);\n",
       "      }\n",
       "    </script>\n",
       "  </div>\n",
       "  \n",
       "    </div>\n",
       "  </div>\n",
       "  "
      ],
      "text/plain": [
       "       total_images   last_price  total_area first_day_exposition  rooms  \\\n",
       "3117             19  140000000.0       631.0           2019-03-30      7   \n",
       "4237              1   50000000.0       517.0           2017-10-14      7   \n",
       "5358             20   65000000.0       590.0           2019-02-14     15   \n",
       "8018             20   84000000.0       507.0           2015-12-17      5   \n",
       "12859            20  140000000.0       631.2           2019-04-09      7   \n",
       "15651            20  300000000.0       618.0           2017-12-18      7   \n",
       "19540             8  420000000.0       900.0           2017-12-06     12   \n",
       "\n",
       "       ceiling_height  floors_total  living_area  floor is_apartment  ...  \\\n",
       "3117              NaN           5.0          NaN      5          NaN  ...   \n",
       "4237              NaN           4.0        332.0      3          NaN  ...   \n",
       "5358             3.50           6.0        409.0      3          NaN  ...   \n",
       "8018             4.45           7.0        301.5      7         True  ...   \n",
       "12859            3.90           4.0        322.3      4          NaN  ...   \n",
       "15651            3.40           7.0        258.0      5          NaN  ...   \n",
       "19540            2.80          25.0        409.7     25          NaN  ...   \n",
       "\n",
       "      kitchen_area balcony    locality_name  airports_nearest  \\\n",
       "3117          60.0     NaN  Санкт-Петербург           25707.0   \n",
       "4237          22.0     NaN  Санкт-Петербург           22835.0   \n",
       "5358         100.0     NaN  Санкт-Петербург           24447.0   \n",
       "8018          45.5     1.0  Санкт-Петербург               NaN   \n",
       "12859         19.5     1.0  Санкт-Петербург           25707.0   \n",
       "15651         70.0     NaN  Санкт-Петербург           32440.0   \n",
       "19540        112.0     NaN  Санкт-Петербург           30706.0   \n",
       "\n",
       "      city_centers_nearest  parks_around3000  parks_nearest  ponds_around3000  \\\n",
       "3117                4972.0               0.0            NaN               2.0   \n",
       "4237                1847.0               2.0          477.0               2.0   \n",
       "5358                4666.0               1.0          767.0               0.0   \n",
       "8018                5735.0               2.0          110.0               0.0   \n",
       "12859               4972.0               0.0            NaN               2.0   \n",
       "15651               5297.0               0.0            NaN               2.0   \n",
       "19540               7877.0               0.0            NaN               2.0   \n",
       "\n",
       "       ponds_nearest  days_exposition  \n",
       "3117           210.0              NaN  \n",
       "4237           540.0              NaN  \n",
       "5358             NaN             14.0  \n",
       "8018             NaN           1078.0  \n",
       "12859          210.0              NaN  \n",
       "15651          198.0            111.0  \n",
       "19540          318.0            106.0  \n",
       "\n",
       "[7 rows x 22 columns]"
      ]
     },
     "execution_count": 411,
     "metadata": {},
     "output_type": "execute_result"
    }
   ],
   "source": [
    "df[df.total_area > 500]"
   ]
  },
  {
   "cell_type": "markdown",
   "metadata": {},
   "source": [
    "**Наблюдения**:  \n",
    "- Не похоже на выбросы. Цена большая, количество комнат болшое. Скорее всего просто большие дорогие квартиры. "
   ]
  },
  {
   "cell_type": "code",
   "execution_count": 412,
   "metadata": {},
   "outputs": [
    {
     "data": {
      "text/html": [
       "\n",
       "  <div id=\"df-5a038303-c2d3-4615-bcf8-250dcbe2b1c4\" class=\"colab-df-container\">\n",
       "    <div>\n",
       "<style scoped>\n",
       "    .dataframe tbody tr th:only-of-type {\n",
       "        vertical-align: middle;\n",
       "    }\n",
       "\n",
       "    .dataframe tbody tr th {\n",
       "        vertical-align: top;\n",
       "    }\n",
       "\n",
       "    .dataframe thead th {\n",
       "        text-align: right;\n",
       "    }\n",
       "</style>\n",
       "<table border=\"1\" class=\"dataframe\">\n",
       "  <thead>\n",
       "    <tr style=\"text-align: right;\">\n",
       "      <th></th>\n",
       "      <th>total_images</th>\n",
       "      <th>last_price</th>\n",
       "      <th>total_area</th>\n",
       "      <th>first_day_exposition</th>\n",
       "      <th>rooms</th>\n",
       "      <th>ceiling_height</th>\n",
       "      <th>floors_total</th>\n",
       "      <th>living_area</th>\n",
       "      <th>floor</th>\n",
       "      <th>is_apartment</th>\n",
       "      <th>...</th>\n",
       "      <th>kitchen_area</th>\n",
       "      <th>balcony</th>\n",
       "      <th>locality_name</th>\n",
       "      <th>airports_nearest</th>\n",
       "      <th>city_centers_nearest</th>\n",
       "      <th>parks_around3000</th>\n",
       "      <th>parks_nearest</th>\n",
       "      <th>ponds_around3000</th>\n",
       "      <th>ponds_nearest</th>\n",
       "      <th>days_exposition</th>\n",
       "    </tr>\n",
       "  </thead>\n",
       "  <tbody>\n",
       "    <tr>\n",
       "      <th>17961</th>\n",
       "      <td>3</td>\n",
       "      <td>1400000.0</td>\n",
       "      <td>13.0</td>\n",
       "      <td>2017-12-03</td>\n",
       "      <td>1</td>\n",
       "      <td>2.60</td>\n",
       "      <td>9.0</td>\n",
       "      <td>NaN</td>\n",
       "      <td>1</td>\n",
       "      <td>NaN</td>\n",
       "      <td>...</td>\n",
       "      <td>NaN</td>\n",
       "      <td>NaN</td>\n",
       "      <td>Санкт-Петербург</td>\n",
       "      <td>14350.0</td>\n",
       "      <td>15945.0</td>\n",
       "      <td>0.0</td>\n",
       "      <td>NaN</td>\n",
       "      <td>1.0</td>\n",
       "      <td>185.0</td>\n",
       "      <td>410.0</td>\n",
       "    </tr>\n",
       "    <tr>\n",
       "      <th>19546</th>\n",
       "      <td>3</td>\n",
       "      <td>1850000.0</td>\n",
       "      <td>13.0</td>\n",
       "      <td>2019-03-11</td>\n",
       "      <td>1</td>\n",
       "      <td>3.40</td>\n",
       "      <td>5.0</td>\n",
       "      <td>NaN</td>\n",
       "      <td>2</td>\n",
       "      <td>False</td>\n",
       "      <td>...</td>\n",
       "      <td>NaN</td>\n",
       "      <td>NaN</td>\n",
       "      <td>Санкт-Петербург</td>\n",
       "      <td>24915.0</td>\n",
       "      <td>5483.0</td>\n",
       "      <td>1.0</td>\n",
       "      <td>644.0</td>\n",
       "      <td>0.0</td>\n",
       "      <td>NaN</td>\n",
       "      <td>24.0</td>\n",
       "    </tr>\n",
       "    <tr>\n",
       "      <th>19558</th>\n",
       "      <td>2</td>\n",
       "      <td>1686000.0</td>\n",
       "      <td>13.2</td>\n",
       "      <td>2018-12-17</td>\n",
       "      <td>1</td>\n",
       "      <td>NaN</td>\n",
       "      <td>5.0</td>\n",
       "      <td>NaN</td>\n",
       "      <td>1</td>\n",
       "      <td>NaN</td>\n",
       "      <td>...</td>\n",
       "      <td>NaN</td>\n",
       "      <td>NaN</td>\n",
       "      <td>Санкт-Петербург</td>\n",
       "      <td>19891.0</td>\n",
       "      <td>4165.0</td>\n",
       "      <td>1.0</td>\n",
       "      <td>361.0</td>\n",
       "      <td>1.0</td>\n",
       "      <td>155.0</td>\n",
       "      <td>19.0</td>\n",
       "    </tr>\n",
       "    <tr>\n",
       "      <th>19642</th>\n",
       "      <td>5</td>\n",
       "      <td>1190000.0</td>\n",
       "      <td>14.0</td>\n",
       "      <td>2018-07-29</td>\n",
       "      <td>1</td>\n",
       "      <td>NaN</td>\n",
       "      <td>5.0</td>\n",
       "      <td>11.0</td>\n",
       "      <td>1</td>\n",
       "      <td>NaN</td>\n",
       "      <td>...</td>\n",
       "      <td>2.0</td>\n",
       "      <td>NaN</td>\n",
       "      <td>Санкт-Петербург</td>\n",
       "      <td>9898.0</td>\n",
       "      <td>11122.0</td>\n",
       "      <td>0.0</td>\n",
       "      <td>NaN</td>\n",
       "      <td>0.0</td>\n",
       "      <td>NaN</td>\n",
       "      <td>4.0</td>\n",
       "    </tr>\n",
       "    <tr>\n",
       "      <th>19807</th>\n",
       "      <td>0</td>\n",
       "      <td>3800000.0</td>\n",
       "      <td>13.0</td>\n",
       "      <td>2018-07-04</td>\n",
       "      <td>1</td>\n",
       "      <td>NaN</td>\n",
       "      <td>5.0</td>\n",
       "      <td>10.0</td>\n",
       "      <td>3</td>\n",
       "      <td>NaN</td>\n",
       "      <td>...</td>\n",
       "      <td>NaN</td>\n",
       "      <td>NaN</td>\n",
       "      <td>Санкт-Петербург</td>\n",
       "      <td>21302.0</td>\n",
       "      <td>1242.0</td>\n",
       "      <td>1.0</td>\n",
       "      <td>592.0</td>\n",
       "      <td>3.0</td>\n",
       "      <td>27.0</td>\n",
       "      <td>9.0</td>\n",
       "    </tr>\n",
       "    <tr>\n",
       "      <th>19904</th>\n",
       "      <td>4</td>\n",
       "      <td>2400000.0</td>\n",
       "      <td>12.0</td>\n",
       "      <td>2017-07-19</td>\n",
       "      <td>1</td>\n",
       "      <td>2.55</td>\n",
       "      <td>5.0</td>\n",
       "      <td>10.0</td>\n",
       "      <td>2</td>\n",
       "      <td>NaN</td>\n",
       "      <td>...</td>\n",
       "      <td>NaN</td>\n",
       "      <td>NaN</td>\n",
       "      <td>Санкт-Петербург</td>\n",
       "      <td>21314.0</td>\n",
       "      <td>964.0</td>\n",
       "      <td>1.0</td>\n",
       "      <td>886.0</td>\n",
       "      <td>2.0</td>\n",
       "      <td>45.0</td>\n",
       "      <td>200.0</td>\n",
       "    </tr>\n",
       "  </tbody>\n",
       "</table>\n",
       "<p>6 rows × 22 columns</p>\n",
       "</div>\n",
       "    <div class=\"colab-df-buttons\">\n",
       "      \n",
       "  <div class=\"colab-df-container\">\n",
       "    <button class=\"colab-df-convert\" onclick=\"convertToInteractive('df-5a038303-c2d3-4615-bcf8-250dcbe2b1c4')\"\n",
       "            title=\"Convert this dataframe to an interactive table.\"\n",
       "            style=\"display:none;\">\n",
       "      \n",
       "  <svg xmlns=\"http://www.w3.org/2000/svg\" height=\"24px\" viewBox=\"0 -960 960 960\">\n",
       "    <path d=\"M120-120v-720h720v720H120Zm60-500h600v-160H180v160Zm220 220h160v-160H400v160Zm0 220h160v-160H400v160ZM180-400h160v-160H180v160Zm440 0h160v-160H620v160ZM180-180h160v-160H180v160Zm440 0h160v-160H620v160Z\"/>\n",
       "  </svg>\n",
       "    </button>\n",
       "    \n",
       "  <style>\n",
       "    .colab-df-container {\n",
       "      display:flex;\n",
       "      gap: 12px;\n",
       "    }\n",
       "\n",
       "    .colab-df-convert {\n",
       "      background-color: #E8F0FE;\n",
       "      border: none;\n",
       "      border-radius: 50%;\n",
       "      cursor: pointer;\n",
       "      display: none;\n",
       "      fill: #1967D2;\n",
       "      height: 32px;\n",
       "      padding: 0 0 0 0;\n",
       "      width: 32px;\n",
       "    }\n",
       "\n",
       "    .colab-df-convert:hover {\n",
       "      background-color: #E2EBFA;\n",
       "      box-shadow: 0px 1px 2px rgba(60, 64, 67, 0.3), 0px 1px 3px 1px rgba(60, 64, 67, 0.15);\n",
       "      fill: #174EA6;\n",
       "    }\n",
       "\n",
       "    .colab-df-buttons div {\n",
       "      margin-bottom: 4px;\n",
       "    }\n",
       "\n",
       "    [theme=dark] .colab-df-convert {\n",
       "      background-color: #3B4455;\n",
       "      fill: #D2E3FC;\n",
       "    }\n",
       "\n",
       "    [theme=dark] .colab-df-convert:hover {\n",
       "      background-color: #434B5C;\n",
       "      box-shadow: 0px 1px 3px 1px rgba(0, 0, 0, 0.15);\n",
       "      filter: drop-shadow(0px 1px 2px rgba(0, 0, 0, 0.3));\n",
       "      fill: #FFFFFF;\n",
       "    }\n",
       "  </style>\n",
       "\n",
       "    <script>\n",
       "      const buttonEl =\n",
       "        document.querySelector('#df-5a038303-c2d3-4615-bcf8-250dcbe2b1c4 button.colab-df-convert');\n",
       "      buttonEl.style.display =\n",
       "        google.colab.kernel.accessAllowed ? 'block' : 'none';\n",
       "\n",
       "      async function convertToInteractive(key) {\n",
       "        const element = document.querySelector('#df-5a038303-c2d3-4615-bcf8-250dcbe2b1c4');\n",
       "        const dataTable =\n",
       "          await google.colab.kernel.invokeFunction('convertToInteractive',\n",
       "                                                    [key], {});\n",
       "        if (!dataTable) return;\n",
       "\n",
       "        const docLinkHtml = 'Like what you see? Visit the ' +\n",
       "          '<a target=\"_blank\" href=https://colab.research.google.com/notebooks/data_table.ipynb>data table notebook</a>'\n",
       "          + ' to learn more about interactive tables.';\n",
       "        element.innerHTML = '';\n",
       "        dataTable['output_type'] = 'display_data';\n",
       "        await google.colab.output.renderOutput(dataTable, element);\n",
       "        const docLink = document.createElement('div');\n",
       "        docLink.innerHTML = docLinkHtml;\n",
       "        element.appendChild(docLink);\n",
       "      }\n",
       "    </script>\n",
       "  </div>\n",
       "  \n",
       "    </div>\n",
       "  </div>\n",
       "  "
      ],
      "text/plain": [
       "       total_images  last_price  total_area first_day_exposition  rooms  \\\n",
       "17961             3   1400000.0        13.0           2017-12-03      1   \n",
       "19546             3   1850000.0        13.0           2019-03-11      1   \n",
       "19558             2   1686000.0        13.2           2018-12-17      1   \n",
       "19642             5   1190000.0        14.0           2018-07-29      1   \n",
       "19807             0   3800000.0        13.0           2018-07-04      1   \n",
       "19904             4   2400000.0        12.0           2017-07-19      1   \n",
       "\n",
       "       ceiling_height  floors_total  living_area  floor is_apartment  ...  \\\n",
       "17961            2.60           9.0          NaN      1          NaN  ...   \n",
       "19546            3.40           5.0          NaN      2        False  ...   \n",
       "19558             NaN           5.0          NaN      1          NaN  ...   \n",
       "19642             NaN           5.0         11.0      1          NaN  ...   \n",
       "19807             NaN           5.0         10.0      3          NaN  ...   \n",
       "19904            2.55           5.0         10.0      2          NaN  ...   \n",
       "\n",
       "      kitchen_area balcony    locality_name  airports_nearest  \\\n",
       "17961          NaN     NaN  Санкт-Петербург           14350.0   \n",
       "19546          NaN     NaN  Санкт-Петербург           24915.0   \n",
       "19558          NaN     NaN  Санкт-Петербург           19891.0   \n",
       "19642          2.0     NaN  Санкт-Петербург            9898.0   \n",
       "19807          NaN     NaN  Санкт-Петербург           21302.0   \n",
       "19904          NaN     NaN  Санкт-Петербург           21314.0   \n",
       "\n",
       "      city_centers_nearest  parks_around3000  parks_nearest  ponds_around3000  \\\n",
       "17961              15945.0               0.0            NaN               1.0   \n",
       "19546               5483.0               1.0          644.0               0.0   \n",
       "19558               4165.0               1.0          361.0               1.0   \n",
       "19642              11122.0               0.0            NaN               0.0   \n",
       "19807               1242.0               1.0          592.0               3.0   \n",
       "19904                964.0               1.0          886.0               2.0   \n",
       "\n",
       "       ponds_nearest  days_exposition  \n",
       "17961          185.0            410.0  \n",
       "19546            NaN             24.0  \n",
       "19558          155.0             19.0  \n",
       "19642            NaN              4.0  \n",
       "19807           27.0              9.0  \n",
       "19904           45.0            200.0  \n",
       "\n",
       "[6 rows x 22 columns]"
      ]
     },
     "execution_count": 412,
     "metadata": {},
     "output_type": "execute_result"
    }
   ],
   "source": [
    "df[df.total_area < 15]"
   ]
  },
  {
   "cell_type": "markdown",
   "metadata": {},
   "source": [
    "**Наблюдения**:  \n",
    "- Не похоже на выбросы. Скорее всего это мелко нарезанные студии. Тем более этаж низкий."
   ]
  },
  {
   "cell_type": "markdown",
   "metadata": {},
   "source": [
    "Изучим выброс в высоте потолка.  "
   ]
  },
  {
   "cell_type": "code",
   "execution_count": 413,
   "metadata": {},
   "outputs": [
    {
     "data": {
      "text/html": [
       "<div>\n",
       "<style scoped>\n",
       "    .dataframe tbody tr th:only-of-type {\n",
       "        vertical-align: middle;\n",
       "    }\n",
       "\n",
       "    .dataframe tbody tr th {\n",
       "        vertical-align: top;\n",
       "    }\n",
       "\n",
       "    .dataframe thead th {\n",
       "        text-align: right;\n",
       "    }\n",
       "</style>\n",
       "<table border=\"1\" class=\"dataframe\">\n",
       "  <thead>\n",
       "    <tr style=\"text-align: right;\">\n",
       "      <th></th>\n",
       "      <th>count</th>\n",
       "    </tr>\n",
       "    <tr>\n",
       "      <th>ceiling_height</th>\n",
       "      <th></th>\n",
       "    </tr>\n",
       "  </thead>\n",
       "  <tbody>\n",
       "    <tr>\n",
       "      <th>27.0</th>\n",
       "      <td>8</td>\n",
       "    </tr>\n",
       "    <tr>\n",
       "      <th>25.0</th>\n",
       "      <td>7</td>\n",
       "    </tr>\n",
       "    <tr>\n",
       "      <th>32.0</th>\n",
       "      <td>2</td>\n",
       "    </tr>\n",
       "    <tr>\n",
       "      <th>24.0</th>\n",
       "      <td>1</td>\n",
       "    </tr>\n",
       "    <tr>\n",
       "      <th>26.0</th>\n",
       "      <td>1</td>\n",
       "    </tr>\n",
       "    <tr>\n",
       "      <th>14.0</th>\n",
       "      <td>1</td>\n",
       "    </tr>\n",
       "    <tr>\n",
       "      <th>20.0</th>\n",
       "      <td>1</td>\n",
       "    </tr>\n",
       "    <tr>\n",
       "      <th>22.6</th>\n",
       "      <td>1</td>\n",
       "    </tr>\n",
       "    <tr>\n",
       "      <th>27.5</th>\n",
       "      <td>1</td>\n",
       "    </tr>\n",
       "    <tr>\n",
       "      <th>10.3</th>\n",
       "      <td>1</td>\n",
       "    </tr>\n",
       "    <tr>\n",
       "      <th>100.0</th>\n",
       "      <td>1</td>\n",
       "    </tr>\n",
       "  </tbody>\n",
       "</table>\n",
       "</div><br><label><b>dtype:</b> int64</label>"
      ],
      "text/plain": [
       "ceiling_height\n",
       "27.0     8\n",
       "25.0     7\n",
       "32.0     2\n",
       "24.0     1\n",
       "26.0     1\n",
       "14.0     1\n",
       "20.0     1\n",
       "22.6     1\n",
       "27.5     1\n",
       "10.3     1\n",
       "100.0    1\n",
       "Name: count, dtype: int64"
      ]
     },
     "execution_count": 413,
     "metadata": {},
     "output_type": "execute_result"
    }
   ],
   "source": [
    "df[df.ceiling_height > 10].ceiling_height.value_counts()"
   ]
  },
  {
   "cell_type": "code",
   "execution_count": 414,
   "metadata": {},
   "outputs": [
    {
     "data": {
      "text/html": [
       "\n",
       "  <div id=\"df-cd4586e7-70b4-4053-a822-05ae1db6a295\" class=\"colab-df-container\">\n",
       "    <div>\n",
       "<style scoped>\n",
       "    .dataframe tbody tr th:only-of-type {\n",
       "        vertical-align: middle;\n",
       "    }\n",
       "\n",
       "    .dataframe tbody tr th {\n",
       "        vertical-align: top;\n",
       "    }\n",
       "\n",
       "    .dataframe thead th {\n",
       "        text-align: right;\n",
       "    }\n",
       "</style>\n",
       "<table border=\"1\" class=\"dataframe\">\n",
       "  <thead>\n",
       "    <tr style=\"text-align: right;\">\n",
       "      <th></th>\n",
       "      <th>total_images</th>\n",
       "      <th>last_price</th>\n",
       "      <th>total_area</th>\n",
       "      <th>first_day_exposition</th>\n",
       "      <th>rooms</th>\n",
       "      <th>ceiling_height</th>\n",
       "      <th>floors_total</th>\n",
       "      <th>living_area</th>\n",
       "      <th>floor</th>\n",
       "      <th>is_apartment</th>\n",
       "      <th>...</th>\n",
       "      <th>kitchen_area</th>\n",
       "      <th>balcony</th>\n",
       "      <th>locality_name</th>\n",
       "      <th>airports_nearest</th>\n",
       "      <th>city_centers_nearest</th>\n",
       "      <th>parks_around3000</th>\n",
       "      <th>parks_nearest</th>\n",
       "      <th>ponds_around3000</th>\n",
       "      <th>ponds_nearest</th>\n",
       "      <th>days_exposition</th>\n",
       "    </tr>\n",
       "  </thead>\n",
       "  <tbody>\n",
       "    <tr>\n",
       "      <th>3148</th>\n",
       "      <td>14</td>\n",
       "      <td>2900000.0</td>\n",
       "      <td>75.0</td>\n",
       "      <td>2018-11-12</td>\n",
       "      <td>3</td>\n",
       "      <td>32.0</td>\n",
       "      <td>3.0</td>\n",
       "      <td>53.0</td>\n",
       "      <td>2</td>\n",
       "      <td>NaN</td>\n",
       "      <td>...</td>\n",
       "      <td>8.0</td>\n",
       "      <td>NaN</td>\n",
       "      <td>Волхов</td>\n",
       "      <td>NaN</td>\n",
       "      <td>NaN</td>\n",
       "      <td>NaN</td>\n",
       "      <td>NaN</td>\n",
       "      <td>NaN</td>\n",
       "      <td>NaN</td>\n",
       "      <td>NaN</td>\n",
       "    </tr>\n",
       "    <tr>\n",
       "      <th>22336</th>\n",
       "      <td>19</td>\n",
       "      <td>9999000.0</td>\n",
       "      <td>92.4</td>\n",
       "      <td>2019-04-05</td>\n",
       "      <td>2</td>\n",
       "      <td>32.0</td>\n",
       "      <td>6.0</td>\n",
       "      <td>55.5</td>\n",
       "      <td>5</td>\n",
       "      <td>False</td>\n",
       "      <td>...</td>\n",
       "      <td>16.5</td>\n",
       "      <td>4.0</td>\n",
       "      <td>Санкт-Петербург</td>\n",
       "      <td>18838.0</td>\n",
       "      <td>3506.0</td>\n",
       "      <td>0.0</td>\n",
       "      <td>NaN</td>\n",
       "      <td>3.0</td>\n",
       "      <td>511.0</td>\n",
       "      <td>NaN</td>\n",
       "    </tr>\n",
       "    <tr>\n",
       "      <th>22869</th>\n",
       "      <td>0</td>\n",
       "      <td>15000000.0</td>\n",
       "      <td>25.0</td>\n",
       "      <td>2018-07-25</td>\n",
       "      <td>1</td>\n",
       "      <td>100.0</td>\n",
       "      <td>5.0</td>\n",
       "      <td>14.0</td>\n",
       "      <td>5</td>\n",
       "      <td>True</td>\n",
       "      <td>...</td>\n",
       "      <td>11.0</td>\n",
       "      <td>5.0</td>\n",
       "      <td>Санкт-Петербург</td>\n",
       "      <td>34963.0</td>\n",
       "      <td>8283.0</td>\n",
       "      <td>1.0</td>\n",
       "      <td>223.0</td>\n",
       "      <td>3.0</td>\n",
       "      <td>30.0</td>\n",
       "      <td>19.0</td>\n",
       "    </tr>\n",
       "  </tbody>\n",
       "</table>\n",
       "<p>3 rows × 22 columns</p>\n",
       "</div>\n",
       "    <div class=\"colab-df-buttons\">\n",
       "      \n",
       "  <div class=\"colab-df-container\">\n",
       "    <button class=\"colab-df-convert\" onclick=\"convertToInteractive('df-cd4586e7-70b4-4053-a822-05ae1db6a295')\"\n",
       "            title=\"Convert this dataframe to an interactive table.\"\n",
       "            style=\"display:none;\">\n",
       "      \n",
       "  <svg xmlns=\"http://www.w3.org/2000/svg\" height=\"24px\" viewBox=\"0 -960 960 960\">\n",
       "    <path d=\"M120-120v-720h720v720H120Zm60-500h600v-160H180v160Zm220 220h160v-160H400v160Zm0 220h160v-160H400v160ZM180-400h160v-160H180v160Zm440 0h160v-160H620v160ZM180-180h160v-160H180v160Zm440 0h160v-160H620v160Z\"/>\n",
       "  </svg>\n",
       "    </button>\n",
       "    \n",
       "  <style>\n",
       "    .colab-df-container {\n",
       "      display:flex;\n",
       "      gap: 12px;\n",
       "    }\n",
       "\n",
       "    .colab-df-convert {\n",
       "      background-color: #E8F0FE;\n",
       "      border: none;\n",
       "      border-radius: 50%;\n",
       "      cursor: pointer;\n",
       "      display: none;\n",
       "      fill: #1967D2;\n",
       "      height: 32px;\n",
       "      padding: 0 0 0 0;\n",
       "      width: 32px;\n",
       "    }\n",
       "\n",
       "    .colab-df-convert:hover {\n",
       "      background-color: #E2EBFA;\n",
       "      box-shadow: 0px 1px 2px rgba(60, 64, 67, 0.3), 0px 1px 3px 1px rgba(60, 64, 67, 0.15);\n",
       "      fill: #174EA6;\n",
       "    }\n",
       "\n",
       "    .colab-df-buttons div {\n",
       "      margin-bottom: 4px;\n",
       "    }\n",
       "\n",
       "    [theme=dark] .colab-df-convert {\n",
       "      background-color: #3B4455;\n",
       "      fill: #D2E3FC;\n",
       "    }\n",
       "\n",
       "    [theme=dark] .colab-df-convert:hover {\n",
       "      background-color: #434B5C;\n",
       "      box-shadow: 0px 1px 3px 1px rgba(0, 0, 0, 0.15);\n",
       "      filter: drop-shadow(0px 1px 2px rgba(0, 0, 0, 0.3));\n",
       "      fill: #FFFFFF;\n",
       "    }\n",
       "  </style>\n",
       "\n",
       "    <script>\n",
       "      const buttonEl =\n",
       "        document.querySelector('#df-cd4586e7-70b4-4053-a822-05ae1db6a295 button.colab-df-convert');\n",
       "      buttonEl.style.display =\n",
       "        google.colab.kernel.accessAllowed ? 'block' : 'none';\n",
       "\n",
       "      async function convertToInteractive(key) {\n",
       "        const element = document.querySelector('#df-cd4586e7-70b4-4053-a822-05ae1db6a295');\n",
       "        const dataTable =\n",
       "          await google.colab.kernel.invokeFunction('convertToInteractive',\n",
       "                                                    [key], {});\n",
       "        if (!dataTable) return;\n",
       "\n",
       "        const docLinkHtml = 'Like what you see? Visit the ' +\n",
       "          '<a target=\"_blank\" href=https://colab.research.google.com/notebooks/data_table.ipynb>data table notebook</a>'\n",
       "          + ' to learn more about interactive tables.';\n",
       "        element.innerHTML = '';\n",
       "        dataTable['output_type'] = 'display_data';\n",
       "        await google.colab.output.renderOutput(dataTable, element);\n",
       "        const docLink = document.createElement('div');\n",
       "        docLink.innerHTML = docLinkHtml;\n",
       "        element.appendChild(docLink);\n",
       "      }\n",
       "    </script>\n",
       "  </div>\n",
       "  \n",
       "    </div>\n",
       "  </div>\n",
       "  "
      ],
      "text/plain": [
       "       total_images  last_price  total_area first_day_exposition  rooms  \\\n",
       "3148             14   2900000.0        75.0           2018-11-12      3   \n",
       "22336            19   9999000.0        92.4           2019-04-05      2   \n",
       "22869             0  15000000.0        25.0           2018-07-25      1   \n",
       "\n",
       "       ceiling_height  floors_total  living_area  floor is_apartment  ...  \\\n",
       "3148             32.0           3.0         53.0      2          NaN  ...   \n",
       "22336            32.0           6.0         55.5      5        False  ...   \n",
       "22869           100.0           5.0         14.0      5         True  ...   \n",
       "\n",
       "      kitchen_area balcony    locality_name  airports_nearest  \\\n",
       "3148           8.0     NaN           Волхов               NaN   \n",
       "22336         16.5     4.0  Санкт-Петербург           18838.0   \n",
       "22869         11.0     5.0  Санкт-Петербург           34963.0   \n",
       "\n",
       "      city_centers_nearest  parks_around3000  parks_nearest  ponds_around3000  \\\n",
       "3148                   NaN               NaN            NaN               NaN   \n",
       "22336               3506.0               0.0            NaN               3.0   \n",
       "22869               8283.0               1.0          223.0               3.0   \n",
       "\n",
       "       ponds_nearest  days_exposition  \n",
       "3148             NaN              NaN  \n",
       "22336          511.0              NaN  \n",
       "22869           30.0             19.0  \n",
       "\n",
       "[3 rows x 22 columns]"
      ]
     },
     "execution_count": 414,
     "metadata": {},
     "output_type": "execute_result"
    }
   ],
   "source": [
    "df[df.ceiling_height > 30]"
   ]
  },
  {
   "cell_type": "markdown",
   "metadata": {},
   "source": [
    "**Наблюдения**:  \n",
    "- Значения от 20 до 32 скорее всего поставили не там запятую.  \n",
    "- А вот значения 10 и 100 странные."
   ]
  },
  {
   "cell_type": "markdown",
   "metadata": {},
   "source": [
    "Изучим выбросы в количестве этажей"
   ]
  },
  {
   "cell_type": "code",
   "execution_count": 415,
   "metadata": {},
   "outputs": [
    {
     "data": {
      "text/html": [
       "\n",
       "  <div id=\"df-6a79173f-d1e1-428b-abbf-0e574e898777\" class=\"colab-df-container\">\n",
       "    <div>\n",
       "<style scoped>\n",
       "    .dataframe tbody tr th:only-of-type {\n",
       "        vertical-align: middle;\n",
       "    }\n",
       "\n",
       "    .dataframe tbody tr th {\n",
       "        vertical-align: top;\n",
       "    }\n",
       "\n",
       "    .dataframe thead th {\n",
       "        text-align: right;\n",
       "    }\n",
       "</style>\n",
       "<table border=\"1\" class=\"dataframe\">\n",
       "  <thead>\n",
       "    <tr style=\"text-align: right;\">\n",
       "      <th></th>\n",
       "      <th>total_images</th>\n",
       "      <th>last_price</th>\n",
       "      <th>total_area</th>\n",
       "      <th>first_day_exposition</th>\n",
       "      <th>rooms</th>\n",
       "      <th>ceiling_height</th>\n",
       "      <th>floors_total</th>\n",
       "      <th>living_area</th>\n",
       "      <th>floor</th>\n",
       "      <th>is_apartment</th>\n",
       "      <th>...</th>\n",
       "      <th>kitchen_area</th>\n",
       "      <th>balcony</th>\n",
       "      <th>locality_name</th>\n",
       "      <th>airports_nearest</th>\n",
       "      <th>city_centers_nearest</th>\n",
       "      <th>parks_around3000</th>\n",
       "      <th>parks_nearest</th>\n",
       "      <th>ponds_around3000</th>\n",
       "      <th>ponds_nearest</th>\n",
       "      <th>days_exposition</th>\n",
       "    </tr>\n",
       "  </thead>\n",
       "  <tbody>\n",
       "    <tr>\n",
       "      <th>397</th>\n",
       "      <td>15</td>\n",
       "      <td>5990000.0</td>\n",
       "      <td>54.0</td>\n",
       "      <td>2018-03-22</td>\n",
       "      <td>2</td>\n",
       "      <td>NaN</td>\n",
       "      <td>36.0</td>\n",
       "      <td>21.4</td>\n",
       "      <td>28</td>\n",
       "      <td>NaN</td>\n",
       "      <td>...</td>\n",
       "      <td>18.70</td>\n",
       "      <td>1.0</td>\n",
       "      <td>Санкт-Петербург</td>\n",
       "      <td>18732.0</td>\n",
       "      <td>20444.0</td>\n",
       "      <td>0.0</td>\n",
       "      <td>NaN</td>\n",
       "      <td>3.0</td>\n",
       "      <td>80.0</td>\n",
       "      <td>11.0</td>\n",
       "    </tr>\n",
       "    <tr>\n",
       "      <th>2253</th>\n",
       "      <td>12</td>\n",
       "      <td>3800000.0</td>\n",
       "      <td>45.5</td>\n",
       "      <td>2018-06-28</td>\n",
       "      <td>2</td>\n",
       "      <td>2.88</td>\n",
       "      <td>60.0</td>\n",
       "      <td>27.4</td>\n",
       "      <td>4</td>\n",
       "      <td>NaN</td>\n",
       "      <td>...</td>\n",
       "      <td>7.40</td>\n",
       "      <td>NaN</td>\n",
       "      <td>Кронштадт</td>\n",
       "      <td>67763.0</td>\n",
       "      <td>49488.0</td>\n",
       "      <td>2.0</td>\n",
       "      <td>342.0</td>\n",
       "      <td>3.0</td>\n",
       "      <td>614.0</td>\n",
       "      <td>166.0</td>\n",
       "    </tr>\n",
       "    <tr>\n",
       "      <th>5807</th>\n",
       "      <td>17</td>\n",
       "      <td>8150000.0</td>\n",
       "      <td>80.0</td>\n",
       "      <td>2019-01-09</td>\n",
       "      <td>2</td>\n",
       "      <td>27.00</td>\n",
       "      <td>36.0</td>\n",
       "      <td>41.0</td>\n",
       "      <td>13</td>\n",
       "      <td>NaN</td>\n",
       "      <td>...</td>\n",
       "      <td>12.00</td>\n",
       "      <td>5.0</td>\n",
       "      <td>Санкт-Петербург</td>\n",
       "      <td>18732.0</td>\n",
       "      <td>20444.0</td>\n",
       "      <td>0.0</td>\n",
       "      <td>NaN</td>\n",
       "      <td>3.0</td>\n",
       "      <td>80.0</td>\n",
       "      <td>38.0</td>\n",
       "    </tr>\n",
       "    <tr>\n",
       "      <th>11079</th>\n",
       "      <td>16</td>\n",
       "      <td>9200000.0</td>\n",
       "      <td>75.0</td>\n",
       "      <td>2019-02-22</td>\n",
       "      <td>2</td>\n",
       "      <td>2.70</td>\n",
       "      <td>36.0</td>\n",
       "      <td>40.0</td>\n",
       "      <td>29</td>\n",
       "      <td>NaN</td>\n",
       "      <td>...</td>\n",
       "      <td>12.00</td>\n",
       "      <td>2.0</td>\n",
       "      <td>Санкт-Петербург</td>\n",
       "      <td>18732.0</td>\n",
       "      <td>20444.0</td>\n",
       "      <td>0.0</td>\n",
       "      <td>NaN</td>\n",
       "      <td>3.0</td>\n",
       "      <td>80.0</td>\n",
       "      <td>NaN</td>\n",
       "    </tr>\n",
       "    <tr>\n",
       "      <th>16731</th>\n",
       "      <td>9</td>\n",
       "      <td>3978000.0</td>\n",
       "      <td>40.0</td>\n",
       "      <td>2018-09-24</td>\n",
       "      <td>1</td>\n",
       "      <td>2.65</td>\n",
       "      <td>52.0</td>\n",
       "      <td>10.5</td>\n",
       "      <td>18</td>\n",
       "      <td>NaN</td>\n",
       "      <td>...</td>\n",
       "      <td>14.00</td>\n",
       "      <td>NaN</td>\n",
       "      <td>Санкт-Петербург</td>\n",
       "      <td>20728.0</td>\n",
       "      <td>12978.0</td>\n",
       "      <td>1.0</td>\n",
       "      <td>793.0</td>\n",
       "      <td>0.0</td>\n",
       "      <td>NaN</td>\n",
       "      <td>45.0</td>\n",
       "    </tr>\n",
       "    <tr>\n",
       "      <th>16934</th>\n",
       "      <td>5</td>\n",
       "      <td>4100000.0</td>\n",
       "      <td>40.0</td>\n",
       "      <td>2017-10-17</td>\n",
       "      <td>1</td>\n",
       "      <td>1.75</td>\n",
       "      <td>37.0</td>\n",
       "      <td>17.4</td>\n",
       "      <td>5</td>\n",
       "      <td>NaN</td>\n",
       "      <td>...</td>\n",
       "      <td>8.34</td>\n",
       "      <td>NaN</td>\n",
       "      <td>Санкт-Петербург</td>\n",
       "      <td>18732.0</td>\n",
       "      <td>20444.0</td>\n",
       "      <td>0.0</td>\n",
       "      <td>NaN</td>\n",
       "      <td>3.0</td>\n",
       "      <td>80.0</td>\n",
       "      <td>71.0</td>\n",
       "    </tr>\n",
       "  </tbody>\n",
       "</table>\n",
       "<p>6 rows × 22 columns</p>\n",
       "</div>\n",
       "    <div class=\"colab-df-buttons\">\n",
       "      \n",
       "  <div class=\"colab-df-container\">\n",
       "    <button class=\"colab-df-convert\" onclick=\"convertToInteractive('df-6a79173f-d1e1-428b-abbf-0e574e898777')\"\n",
       "            title=\"Convert this dataframe to an interactive table.\"\n",
       "            style=\"display:none;\">\n",
       "      \n",
       "  <svg xmlns=\"http://www.w3.org/2000/svg\" height=\"24px\" viewBox=\"0 -960 960 960\">\n",
       "    <path d=\"M120-120v-720h720v720H120Zm60-500h600v-160H180v160Zm220 220h160v-160H400v160Zm0 220h160v-160H400v160ZM180-400h160v-160H180v160Zm440 0h160v-160H620v160ZM180-180h160v-160H180v160Zm440 0h160v-160H620v160Z\"/>\n",
       "  </svg>\n",
       "    </button>\n",
       "    \n",
       "  <style>\n",
       "    .colab-df-container {\n",
       "      display:flex;\n",
       "      gap: 12px;\n",
       "    }\n",
       "\n",
       "    .colab-df-convert {\n",
       "      background-color: #E8F0FE;\n",
       "      border: none;\n",
       "      border-radius: 50%;\n",
       "      cursor: pointer;\n",
       "      display: none;\n",
       "      fill: #1967D2;\n",
       "      height: 32px;\n",
       "      padding: 0 0 0 0;\n",
       "      width: 32px;\n",
       "    }\n",
       "\n",
       "    .colab-df-convert:hover {\n",
       "      background-color: #E2EBFA;\n",
       "      box-shadow: 0px 1px 2px rgba(60, 64, 67, 0.3), 0px 1px 3px 1px rgba(60, 64, 67, 0.15);\n",
       "      fill: #174EA6;\n",
       "    }\n",
       "\n",
       "    .colab-df-buttons div {\n",
       "      margin-bottom: 4px;\n",
       "    }\n",
       "\n",
       "    [theme=dark] .colab-df-convert {\n",
       "      background-color: #3B4455;\n",
       "      fill: #D2E3FC;\n",
       "    }\n",
       "\n",
       "    [theme=dark] .colab-df-convert:hover {\n",
       "      background-color: #434B5C;\n",
       "      box-shadow: 0px 1px 3px 1px rgba(0, 0, 0, 0.15);\n",
       "      filter: drop-shadow(0px 1px 2px rgba(0, 0, 0, 0.3));\n",
       "      fill: #FFFFFF;\n",
       "    }\n",
       "  </style>\n",
       "\n",
       "    <script>\n",
       "      const buttonEl =\n",
       "        document.querySelector('#df-6a79173f-d1e1-428b-abbf-0e574e898777 button.colab-df-convert');\n",
       "      buttonEl.style.display =\n",
       "        google.colab.kernel.accessAllowed ? 'block' : 'none';\n",
       "\n",
       "      async function convertToInteractive(key) {\n",
       "        const element = document.querySelector('#df-6a79173f-d1e1-428b-abbf-0e574e898777');\n",
       "        const dataTable =\n",
       "          await google.colab.kernel.invokeFunction('convertToInteractive',\n",
       "                                                    [key], {});\n",
       "        if (!dataTable) return;\n",
       "\n",
       "        const docLinkHtml = 'Like what you see? Visit the ' +\n",
       "          '<a target=\"_blank\" href=https://colab.research.google.com/notebooks/data_table.ipynb>data table notebook</a>'\n",
       "          + ' to learn more about interactive tables.';\n",
       "        element.innerHTML = '';\n",
       "        dataTable['output_type'] = 'display_data';\n",
       "        await google.colab.output.renderOutput(dataTable, element);\n",
       "        const docLink = document.createElement('div');\n",
       "        docLink.innerHTML = docLinkHtml;\n",
       "        element.appendChild(docLink);\n",
       "      }\n",
       "    </script>\n",
       "  </div>\n",
       "  \n",
       "    </div>\n",
       "  </div>\n",
       "  "
      ],
      "text/plain": [
       "       total_images  last_price  total_area first_day_exposition  rooms  \\\n",
       "397              15   5990000.0        54.0           2018-03-22      2   \n",
       "2253             12   3800000.0        45.5           2018-06-28      2   \n",
       "5807             17   8150000.0        80.0           2019-01-09      2   \n",
       "11079            16   9200000.0        75.0           2019-02-22      2   \n",
       "16731             9   3978000.0        40.0           2018-09-24      1   \n",
       "16934             5   4100000.0        40.0           2017-10-17      1   \n",
       "\n",
       "       ceiling_height  floors_total  living_area  floor is_apartment  ...  \\\n",
       "397               NaN          36.0         21.4     28          NaN  ...   \n",
       "2253             2.88          60.0         27.4      4          NaN  ...   \n",
       "5807            27.00          36.0         41.0     13          NaN  ...   \n",
       "11079            2.70          36.0         40.0     29          NaN  ...   \n",
       "16731            2.65          52.0         10.5     18          NaN  ...   \n",
       "16934            1.75          37.0         17.4      5          NaN  ...   \n",
       "\n",
       "      kitchen_area balcony    locality_name  airports_nearest  \\\n",
       "397          18.70     1.0  Санкт-Петербург           18732.0   \n",
       "2253          7.40     NaN        Кронштадт           67763.0   \n",
       "5807         12.00     5.0  Санкт-Петербург           18732.0   \n",
       "11079        12.00     2.0  Санкт-Петербург           18732.0   \n",
       "16731        14.00     NaN  Санкт-Петербург           20728.0   \n",
       "16934         8.34     NaN  Санкт-Петербург           18732.0   \n",
       "\n",
       "      city_centers_nearest  parks_around3000  parks_nearest  ponds_around3000  \\\n",
       "397                20444.0               0.0            NaN               3.0   \n",
       "2253               49488.0               2.0          342.0               3.0   \n",
       "5807               20444.0               0.0            NaN               3.0   \n",
       "11079              20444.0               0.0            NaN               3.0   \n",
       "16731              12978.0               1.0          793.0               0.0   \n",
       "16934              20444.0               0.0            NaN               3.0   \n",
       "\n",
       "       ponds_nearest  days_exposition  \n",
       "397             80.0             11.0  \n",
       "2253           614.0            166.0  \n",
       "5807            80.0             38.0  \n",
       "11079           80.0              NaN  \n",
       "16731            NaN             45.0  \n",
       "16934           80.0             71.0  \n",
       "\n",
       "[6 rows x 22 columns]"
      ]
     },
     "execution_count": 415,
     "metadata": {},
     "output_type": "execute_result"
    }
   ],
   "source": [
    "df[df.floors_total > 35]"
   ]
  },
  {
   "cell_type": "markdown",
   "metadata": {},
   "source": [
    "**Наблюдения**:  \n",
    "- Так как в Санкт-Петербург\tесть здания такой высоты, то нет оснований считать это выбросами. "
   ]
  },
  {
   "cell_type": "markdown",
   "metadata": {
    "id": "wLmJ8BBFrRR4"
   },
   "source": [
    "#### Изучение отрицательных значений"
   ]
  },
  {
   "cell_type": "markdown",
   "metadata": {
    "id": "G93V0SfVrRR6"
   },
   "source": [
    "Изучаем отрицательные значения"
   ]
  },
  {
   "cell_type": "code",
   "execution_count": 416,
   "metadata": {
    "id": "MOCqs2FErRR7"
   },
   "outputs": [
    {
     "data": {
      "text/html": [
       "<style type=\"text/css\">\n",
       "#T_7019e caption {\n",
       "  font-size: 18px;\n",
       "  text-align: left;\n",
       "  font-weight: bold;\n",
       "}\n",
       "</style>\n",
       "<table id=\"T_7019e\" class=\"dataframe\">\n",
       "  <caption>Negative</caption>\n",
       "  <thead>\n",
       "  </thead>\n",
       "  <tbody>\n",
       "  </tbody>\n",
       "</table>\n"
      ],
      "text/plain": [
       "<pandas.io.formats.style.Styler at 0x7fe6ddedcbb0>"
      ]
     },
     "metadata": {},
     "output_type": "display_data"
    }
   ],
   "source": [
    "series_negative = pagri_data_tools.find_columns_with_negative_values(df)"
   ]
  },
  {
   "cell_type": "markdown",
   "metadata": {},
   "source": [
    "У нас нет отрицательных значений. "
   ]
  },
  {
   "cell_type": "markdown",
   "metadata": {
    "id": "UmMPQBCvrRSA"
   },
   "source": [
    "#### Изучение нулевых значений"
   ]
  },
  {
   "cell_type": "markdown",
   "metadata": {
    "id": "jdAS2wFlrRSB"
   },
   "source": [
    "Изучаем нулевые значения"
   ]
  },
  {
   "cell_type": "code",
   "execution_count": 33,
   "metadata": {
    "id": "jCVLe3DarRSC"
   },
   "outputs": [
    {
     "data": {
      "text/html": [
       "<style type=\"text/css\">\n",
       "#T_f9d53 caption {\n",
       "  font-size: 18px;\n",
       "  text-align: left;\n",
       "  font-weight: bold;\n",
       "}\n",
       "</style>\n",
       "<table id=\"T_f9d53\" class=\"dataframe\">\n",
       "  <caption>Zeros</caption>\n",
       "  <thead>\n",
       "  </thead>\n",
       "  <tbody>\n",
       "    <tr>\n",
       "      <th id=\"T_f9d53_level0_row0\" class=\"row_heading level0 row0\" >total_images</th>\n",
       "      <td id=\"T_f9d53_row0_col0\" class=\"data row0 col0\" >1059 (4.47%)</td>\n",
       "    </tr>\n",
       "    <tr>\n",
       "      <th id=\"T_f9d53_level0_row1\" class=\"row_heading level0 row1\" >rooms</th>\n",
       "      <td id=\"T_f9d53_row1_col0\" class=\"data row1 col0\" >197 (0.83%)</td>\n",
       "    </tr>\n",
       "    <tr>\n",
       "      <th id=\"T_f9d53_level0_row2\" class=\"row_heading level0 row2\" >balcony</th>\n",
       "      <td id=\"T_f9d53_row2_col0\" class=\"data row2 col0\" >3758 (15.86%)</td>\n",
       "    </tr>\n",
       "    <tr>\n",
       "      <th id=\"T_f9d53_level0_row3\" class=\"row_heading level0 row3\" >airports_nearest</th>\n",
       "      <td id=\"T_f9d53_row3_col0\" class=\"data row3 col0\" >1 (0.00%)</td>\n",
       "    </tr>\n",
       "    <tr>\n",
       "      <th id=\"T_f9d53_level0_row4\" class=\"row_heading level0 row4\" >parks_around3000</th>\n",
       "      <td id=\"T_f9d53_row4_col0\" class=\"data row4 col0\" >10106 (42.64%)</td>\n",
       "    </tr>\n",
       "    <tr>\n",
       "      <th id=\"T_f9d53_level0_row5\" class=\"row_heading level0 row5\" >ponds_around3000</th>\n",
       "      <td id=\"T_f9d53_row5_col0\" class=\"data row5 col0\" >9071 (38.28%)</td>\n",
       "    </tr>\n",
       "  </tbody>\n",
       "</table>\n"
      ],
      "text/plain": [
       "<pandas.io.formats.style.Styler at 0x7819d3fb0e50>"
      ]
     },
     "metadata": {},
     "output_type": "display_data"
    }
   ],
   "source": [
    "series_zeros = pagri_data_tools.find_columns_with_zeros_values(df)"
   ]
  },
  {
   "cell_type": "markdown",
   "metadata": {},
   "source": [
    "Все кроме количества комнат и растояния до ближайщего аэропорта может быть нулями, поэтому удалим их из текущего изучения.  "
   ]
  },
  {
   "cell_type": "code",
   "execution_count": 34,
   "metadata": {
    "id": "TY8olJPBrRSF",
    "outputId": "1a559f7c-ede7-4008-b129-323dd72eda51"
   },
   "outputs": [],
   "source": [
    "series_zeros = series_zeros.loc[['rooms']]"
   ]
  },
  {
   "cell_type": "markdown",
   "metadata": {},
   "source": [
    "Посмотрим отдельно на нулевое значение в растоянии до аэропорта.  "
   ]
  },
  {
   "cell_type": "code",
   "execution_count": 419,
   "metadata": {},
   "outputs": [
    {
     "data": {
      "text/html": [
       "\n",
       "  <div id=\"df-60f43fb3-b754-4206-bf34-d4c278eb2989\" class=\"colab-df-container\">\n",
       "    <div>\n",
       "<style scoped>\n",
       "    .dataframe tbody tr th:only-of-type {\n",
       "        vertical-align: middle;\n",
       "    }\n",
       "\n",
       "    .dataframe tbody tr th {\n",
       "        vertical-align: top;\n",
       "    }\n",
       "\n",
       "    .dataframe thead th {\n",
       "        text-align: right;\n",
       "    }\n",
       "</style>\n",
       "<table border=\"1\" class=\"dataframe\">\n",
       "  <thead>\n",
       "    <tr style=\"text-align: right;\">\n",
       "      <th></th>\n",
       "      <th>total_images</th>\n",
       "      <th>last_price</th>\n",
       "      <th>total_area</th>\n",
       "      <th>first_day_exposition</th>\n",
       "      <th>rooms</th>\n",
       "      <th>ceiling_height</th>\n",
       "      <th>floors_total</th>\n",
       "      <th>living_area</th>\n",
       "      <th>floor</th>\n",
       "      <th>is_apartment</th>\n",
       "      <th>...</th>\n",
       "      <th>kitchen_area</th>\n",
       "      <th>balcony</th>\n",
       "      <th>locality_name</th>\n",
       "      <th>airports_nearest</th>\n",
       "      <th>city_centers_nearest</th>\n",
       "      <th>parks_around3000</th>\n",
       "      <th>parks_nearest</th>\n",
       "      <th>ponds_around3000</th>\n",
       "      <th>ponds_nearest</th>\n",
       "      <th>days_exposition</th>\n",
       "    </tr>\n",
       "  </thead>\n",
       "  <tbody>\n",
       "    <tr>\n",
       "      <th>21085</th>\n",
       "      <td>0</td>\n",
       "      <td>7000000.0</td>\n",
       "      <td>34.7</td>\n",
       "      <td>2018-09-23</td>\n",
       "      <td>1</td>\n",
       "      <td>2.7</td>\n",
       "      <td>9.0</td>\n",
       "      <td>19.8</td>\n",
       "      <td>3</td>\n",
       "      <td>NaN</td>\n",
       "      <td>...</td>\n",
       "      <td>6.0</td>\n",
       "      <td>2.0</td>\n",
       "      <td>Санкт-Петербург</td>\n",
       "      <td>0.0</td>\n",
       "      <td>22801.0</td>\n",
       "      <td>0.0</td>\n",
       "      <td>NaN</td>\n",
       "      <td>0.0</td>\n",
       "      <td>NaN</td>\n",
       "      <td>60.0</td>\n",
       "    </tr>\n",
       "  </tbody>\n",
       "</table>\n",
       "<p>1 rows × 22 columns</p>\n",
       "</div>\n",
       "    <div class=\"colab-df-buttons\">\n",
       "      \n",
       "  <div class=\"colab-df-container\">\n",
       "    <button class=\"colab-df-convert\" onclick=\"convertToInteractive('df-60f43fb3-b754-4206-bf34-d4c278eb2989')\"\n",
       "            title=\"Convert this dataframe to an interactive table.\"\n",
       "            style=\"display:none;\">\n",
       "      \n",
       "  <svg xmlns=\"http://www.w3.org/2000/svg\" height=\"24px\" viewBox=\"0 -960 960 960\">\n",
       "    <path d=\"M120-120v-720h720v720H120Zm60-500h600v-160H180v160Zm220 220h160v-160H400v160Zm0 220h160v-160H400v160ZM180-400h160v-160H180v160Zm440 0h160v-160H620v160ZM180-180h160v-160H180v160Zm440 0h160v-160H620v160Z\"/>\n",
       "  </svg>\n",
       "    </button>\n",
       "    \n",
       "  <style>\n",
       "    .colab-df-container {\n",
       "      display:flex;\n",
       "      gap: 12px;\n",
       "    }\n",
       "\n",
       "    .colab-df-convert {\n",
       "      background-color: #E8F0FE;\n",
       "      border: none;\n",
       "      border-radius: 50%;\n",
       "      cursor: pointer;\n",
       "      display: none;\n",
       "      fill: #1967D2;\n",
       "      height: 32px;\n",
       "      padding: 0 0 0 0;\n",
       "      width: 32px;\n",
       "    }\n",
       "\n",
       "    .colab-df-convert:hover {\n",
       "      background-color: #E2EBFA;\n",
       "      box-shadow: 0px 1px 2px rgba(60, 64, 67, 0.3), 0px 1px 3px 1px rgba(60, 64, 67, 0.15);\n",
       "      fill: #174EA6;\n",
       "    }\n",
       "\n",
       "    .colab-df-buttons div {\n",
       "      margin-bottom: 4px;\n",
       "    }\n",
       "\n",
       "    [theme=dark] .colab-df-convert {\n",
       "      background-color: #3B4455;\n",
       "      fill: #D2E3FC;\n",
       "    }\n",
       "\n",
       "    [theme=dark] .colab-df-convert:hover {\n",
       "      background-color: #434B5C;\n",
       "      box-shadow: 0px 1px 3px 1px rgba(0, 0, 0, 0.15);\n",
       "      filter: drop-shadow(0px 1px 2px rgba(0, 0, 0, 0.3));\n",
       "      fill: #FFFFFF;\n",
       "    }\n",
       "  </style>\n",
       "\n",
       "    <script>\n",
       "      const buttonEl =\n",
       "        document.querySelector('#df-60f43fb3-b754-4206-bf34-d4c278eb2989 button.colab-df-convert');\n",
       "      buttonEl.style.display =\n",
       "        google.colab.kernel.accessAllowed ? 'block' : 'none';\n",
       "\n",
       "      async function convertToInteractive(key) {\n",
       "        const element = document.querySelector('#df-60f43fb3-b754-4206-bf34-d4c278eb2989');\n",
       "        const dataTable =\n",
       "          await google.colab.kernel.invokeFunction('convertToInteractive',\n",
       "                                                    [key], {});\n",
       "        if (!dataTable) return;\n",
       "\n",
       "        const docLinkHtml = 'Like what you see? Visit the ' +\n",
       "          '<a target=\"_blank\" href=https://colab.research.google.com/notebooks/data_table.ipynb>data table notebook</a>'\n",
       "          + ' to learn more about interactive tables.';\n",
       "        element.innerHTML = '';\n",
       "        dataTable['output_type'] = 'display_data';\n",
       "        await google.colab.output.renderOutput(dataTable, element);\n",
       "        const docLink = document.createElement('div');\n",
       "        docLink.innerHTML = docLinkHtml;\n",
       "        element.appendChild(docLink);\n",
       "      }\n",
       "    </script>\n",
       "  </div>\n",
       "  \n",
       "    </div>\n",
       "  </div>\n",
       "  "
      ],
      "text/plain": [
       "       total_images  last_price  total_area first_day_exposition  rooms  \\\n",
       "21085             0   7000000.0        34.7           2018-09-23      1   \n",
       "\n",
       "       ceiling_height  floors_total  living_area  floor is_apartment  ...  \\\n",
       "21085             2.7           9.0         19.8      3          NaN  ...   \n",
       "\n",
       "      kitchen_area balcony    locality_name  airports_nearest  \\\n",
       "21085          6.0     2.0  Санкт-Петербург               0.0   \n",
       "\n",
       "      city_centers_nearest  parks_around3000  parks_nearest  ponds_around3000  \\\n",
       "21085              22801.0               0.0            NaN               0.0   \n",
       "\n",
       "       ponds_nearest  days_exposition  \n",
       "21085            NaN             60.0  \n",
       "\n",
       "[1 rows x 22 columns]"
      ]
     },
     "execution_count": 419,
     "metadata": {},
     "output_type": "execute_result"
    }
   ],
   "source": [
    "df[df.airports_nearest == 0]"
   ]
  },
  {
   "cell_type": "code",
   "execution_count": 35,
   "metadata": {},
   "outputs": [
    {
     "name": "stdout",
     "output_type": "stream",
     "text": [
      "Value counts in rooms (0.83%)\n"
     ]
    },
    {
     "data": {
      "text/html": [
       "<style type=\"text/css\">\n",
       "#T_5fd38 caption {\n",
       "  font-size: 18px;\n",
       "  text-align: left;\n",
       "  font-weight: bold;\n",
       "}\n",
       "</style>\n",
       "<table id=\"T_5fd38\" class=\"dataframe\">\n",
       "  <caption>rooms</caption>\n",
       "  <thead>\n",
       "    <tr>\n",
       "      <th class=\"blank level0\" >&nbsp;</th>\n",
       "      <th id=\"T_5fd38_level0_col0\" class=\"col_heading level0 col0\" >count</th>\n",
       "    </tr>\n",
       "    <tr>\n",
       "      <th class=\"index_name level0\" >rooms</th>\n",
       "      <th class=\"blank col0\" >&nbsp;</th>\n",
       "    </tr>\n",
       "  </thead>\n",
       "  <tbody>\n",
       "    <tr>\n",
       "      <th id=\"T_5fd38_level0_row0\" class=\"row_heading level0 row0\" >0</th>\n",
       "      <td id=\"T_5fd38_row0_col0\" class=\"data row0 col0\" >197</td>\n",
       "    </tr>\n",
       "  </tbody>\n",
       "</table>\n"
      ],
      "text/plain": [
       "<pandas.io.formats.style.Styler at 0x7819d910dc00>"
      ]
     },
     "metadata": {},
     "output_type": "display_data"
    }
   ],
   "source": [
    "pagri_data_tools.analyze_anomaly_by_category(df, series_zeros, \"value_counts\", \"rooms\")"
   ]
  },
  {
   "cell_type": "markdown",
   "metadata": {},
   "source": [
    "Выдвинем гипотезу, что 0 комнат у студий и однокомнатных.  \n",
    "Проверим гипотезу по полощади.  \n",
    "Предположим, что площадь студий и однокомнатных квартир составляет не более 40 м2."
   ]
  },
  {
   "cell_type": "markdown",
   "metadata": {},
   "source": [
    "Посмотрим на выборку из датафрейма"
   ]
  },
  {
   "cell_type": "code",
   "execution_count": 36,
   "metadata": {},
   "outputs": [
    {
     "data": {
      "text/html": [
       "\n",
       "  <div id=\"df-6060eac3-de1d-4894-b66f-a91b2b2ec6c4\" class=\"colab-df-container\">\n",
       "    <div>\n",
       "<style scoped>\n",
       "    .dataframe tbody tr th:only-of-type {\n",
       "        vertical-align: middle;\n",
       "    }\n",
       "\n",
       "    .dataframe tbody tr th {\n",
       "        vertical-align: top;\n",
       "    }\n",
       "\n",
       "    .dataframe thead th {\n",
       "        text-align: right;\n",
       "    }\n",
       "</style>\n",
       "<table border=\"1\" class=\"dataframe\">\n",
       "  <thead>\n",
       "    <tr style=\"text-align: right;\">\n",
       "      <th></th>\n",
       "      <th>last_price</th>\n",
       "      <th>total_area</th>\n",
       "      <th>living_area</th>\n",
       "      <th>kitchen_area</th>\n",
       "      <th>studio</th>\n",
       "      <th>open_plan</th>\n",
       "    </tr>\n",
       "  </thead>\n",
       "  <tbody>\n",
       "    <tr>\n",
       "      <th>3458</th>\n",
       "      <td>7400000.0</td>\n",
       "      <td>73.60</td>\n",
       "      <td>50.0</td>\n",
       "      <td>NaN</td>\n",
       "      <td>True</td>\n",
       "      <td>False</td>\n",
       "    </tr>\n",
       "    <tr>\n",
       "      <th>7237</th>\n",
       "      <td>2999000.0</td>\n",
       "      <td>42.63</td>\n",
       "      <td>25.7</td>\n",
       "      <td>NaN</td>\n",
       "      <td>False</td>\n",
       "      <td>True</td>\n",
       "    </tr>\n",
       "    <tr>\n",
       "      <th>10008</th>\n",
       "      <td>5050000.0</td>\n",
       "      <td>44.20</td>\n",
       "      <td>32.2</td>\n",
       "      <td>NaN</td>\n",
       "      <td>True</td>\n",
       "      <td>False</td>\n",
       "    </tr>\n",
       "    <tr>\n",
       "      <th>13613</th>\n",
       "      <td>8100000.0</td>\n",
       "      <td>58.40</td>\n",
       "      <td>33.0</td>\n",
       "      <td>NaN</td>\n",
       "      <td>True</td>\n",
       "      <td>False</td>\n",
       "    </tr>\n",
       "    <tr>\n",
       "      <th>15319</th>\n",
       "      <td>5970000.0</td>\n",
       "      <td>43.30</td>\n",
       "      <td>28.2</td>\n",
       "      <td>NaN</td>\n",
       "      <td>True</td>\n",
       "      <td>False</td>\n",
       "    </tr>\n",
       "    <tr>\n",
       "      <th>16130</th>\n",
       "      <td>5000000.0</td>\n",
       "      <td>42.10</td>\n",
       "      <td>30.0</td>\n",
       "      <td>NaN</td>\n",
       "      <td>True</td>\n",
       "      <td>False</td>\n",
       "    </tr>\n",
       "    <tr>\n",
       "      <th>19392</th>\n",
       "      <td>71000000.0</td>\n",
       "      <td>371.00</td>\n",
       "      <td>NaN</td>\n",
       "      <td>NaN</td>\n",
       "      <td>False</td>\n",
       "      <td>True</td>\n",
       "    </tr>\n",
       "    <tr>\n",
       "      <th>20082</th>\n",
       "      <td>16300000.0</td>\n",
       "      <td>98.40</td>\n",
       "      <td>60.5</td>\n",
       "      <td>NaN</td>\n",
       "      <td>True</td>\n",
       "      <td>False</td>\n",
       "    </tr>\n",
       "    <tr>\n",
       "      <th>21227</th>\n",
       "      <td>8200000.0</td>\n",
       "      <td>71.00</td>\n",
       "      <td>68.0</td>\n",
       "      <td>NaN</td>\n",
       "      <td>True</td>\n",
       "      <td>False</td>\n",
       "    </tr>\n",
       "  </tbody>\n",
       "</table>\n",
       "</div>\n",
       "    <div class=\"colab-df-buttons\">\n",
       "      \n",
       "  <div class=\"colab-df-container\">\n",
       "    <button class=\"colab-df-convert\" onclick=\"convertToInteractive('df-6060eac3-de1d-4894-b66f-a91b2b2ec6c4')\"\n",
       "            title=\"Convert this dataframe to an interactive table.\"\n",
       "            style=\"display:none;\">\n",
       "      \n",
       "  <svg xmlns=\"http://www.w3.org/2000/svg\" height=\"24px\" viewBox=\"0 -960 960 960\">\n",
       "    <path d=\"M120-120v-720h720v720H120Zm60-500h600v-160H180v160Zm220 220h160v-160H400v160Zm0 220h160v-160H400v160ZM180-400h160v-160H180v160Zm440 0h160v-160H620v160ZM180-180h160v-160H180v160Zm440 0h160v-160H620v160Z\"/>\n",
       "  </svg>\n",
       "    </button>\n",
       "    \n",
       "  <style>\n",
       "    .colab-df-container {\n",
       "      display:flex;\n",
       "      gap: 12px;\n",
       "    }\n",
       "\n",
       "    .colab-df-convert {\n",
       "      background-color: #E8F0FE;\n",
       "      border: none;\n",
       "      border-radius: 50%;\n",
       "      cursor: pointer;\n",
       "      display: none;\n",
       "      fill: #1967D2;\n",
       "      height: 32px;\n",
       "      padding: 0 0 0 0;\n",
       "      width: 32px;\n",
       "    }\n",
       "\n",
       "    .colab-df-convert:hover {\n",
       "      background-color: #E2EBFA;\n",
       "      box-shadow: 0px 1px 2px rgba(60, 64, 67, 0.3), 0px 1px 3px 1px rgba(60, 64, 67, 0.15);\n",
       "      fill: #174EA6;\n",
       "    }\n",
       "\n",
       "    .colab-df-buttons div {\n",
       "      margin-bottom: 4px;\n",
       "    }\n",
       "\n",
       "    [theme=dark] .colab-df-convert {\n",
       "      background-color: #3B4455;\n",
       "      fill: #D2E3FC;\n",
       "    }\n",
       "\n",
       "    [theme=dark] .colab-df-convert:hover {\n",
       "      background-color: #434B5C;\n",
       "      box-shadow: 0px 1px 3px 1px rgba(0, 0, 0, 0.15);\n",
       "      filter: drop-shadow(0px 1px 2px rgba(0, 0, 0, 0.3));\n",
       "      fill: #FFFFFF;\n",
       "    }\n",
       "  </style>\n",
       "\n",
       "    <script>\n",
       "      const buttonEl =\n",
       "        document.querySelector('#df-6060eac3-de1d-4894-b66f-a91b2b2ec6c4 button.colab-df-convert');\n",
       "      buttonEl.style.display =\n",
       "        google.colab.kernel.accessAllowed ? 'block' : 'none';\n",
       "\n",
       "      async function convertToInteractive(key) {\n",
       "        const element = document.querySelector('#df-6060eac3-de1d-4894-b66f-a91b2b2ec6c4');\n",
       "        const dataTable =\n",
       "          await google.colab.kernel.invokeFunction('convertToInteractive',\n",
       "                                                    [key], {});\n",
       "        if (!dataTable) return;\n",
       "\n",
       "        const docLinkHtml = 'Like what you see? Visit the ' +\n",
       "          '<a target=\"_blank\" href=https://colab.research.google.com/notebooks/data_table.ipynb>data table notebook</a>'\n",
       "          + ' to learn more about interactive tables.';\n",
       "        element.innerHTML = '';\n",
       "        dataTable['output_type'] = 'display_data';\n",
       "        await google.colab.output.renderOutput(dataTable, element);\n",
       "        const docLink = document.createElement('div');\n",
       "        docLink.innerHTML = docLinkHtml;\n",
       "        element.appendChild(docLink);\n",
       "      }\n",
       "    </script>\n",
       "  </div>\n",
       "  \n",
       "    </div>\n",
       "  </div>\n",
       "  "
      ],
      "text/plain": [
       "       last_price  total_area  living_area  kitchen_area studio open_plan\n",
       "3458    7400000.0       73.60         50.0           NaN   True     False\n",
       "7237    2999000.0       42.63         25.7           NaN  False      True\n",
       "10008   5050000.0       44.20         32.2           NaN   True     False\n",
       "13613   8100000.0       58.40         33.0           NaN   True     False\n",
       "15319   5970000.0       43.30         28.2           NaN   True     False\n",
       "16130   5000000.0       42.10         30.0           NaN   True     False\n",
       "19392  71000000.0      371.00          NaN           NaN  False      True\n",
       "20082  16300000.0       98.40         60.5           NaN   True     False\n",
       "21227   8200000.0       71.00         68.0           NaN   True     False"
      ]
     },
     "execution_count": 36,
     "metadata": {},
     "output_type": "execute_result"
    }
   ],
   "source": [
    "series_zeros['rooms'][['last_price', 'total_area', 'living_area', 'kitchen_area', 'studio', 'open_plan']].query('total_area > 40')"
   ]
  },
  {
   "cell_type": "markdown",
   "metadata": {},
   "source": [
    "**Наблюдения:**  \n",
    "- Видим, что почти все квартиры с 0 комнат имеют площадь до 40 кв. \n",
    "- 2 кваритры имеют открытую планировку  \n",
    "- Можно будет заменить 0 на 1."
   ]
  },
  {
   "cell_type": "code",
   "execution_count": 37,
   "metadata": {},
   "outputs": [
    {
     "data": {
      "text/html": [
       "<style type=\"text/css\">\n",
       "#T_db476 caption {\n",
       "  font-size: 18px;\n",
       "  text-align: left;\n",
       "  font-weight: bold;\n",
       "}\n",
       "</style>\n",
       "<table id=\"T_db476\" class=\"dataframe\">\n",
       "  <caption>Share in \"rooms\" by category \"studio\"</caption>\n",
       "  <thead>\n",
       "    <tr>\n",
       "      <th id=\"T_db476_level0_col0\" class=\"col_heading level0 col0\" >studio</th>\n",
       "      <th id=\"T_db476_level0_col1\" class=\"col_heading level0 col1\" >total</th>\n",
       "      <th id=\"T_db476_level0_col2\" class=\"col_heading level0 col2\" >count</th>\n",
       "      <th id=\"T_db476_level0_col3\" class=\"col_heading level0 col3\" >count_in_total_pct</th>\n",
       "      <th id=\"T_db476_level0_col4\" class=\"col_heading level0 col4\" >count_in_sum_count_pct</th>\n",
       "      <th id=\"T_db476_level0_col5\" class=\"col_heading level0 col5\" >total_in_sum_total_pct</th>\n",
       "      <th id=\"T_db476_level0_col6\" class=\"col_heading level0 col6\" >diff_sum_pct</th>\n",
       "    </tr>\n",
       "  </thead>\n",
       "  <tbody>\n",
       "    <tr>\n",
       "      <td id=\"T_db476_row0_col0\" class=\"data row0 col0\" >False</td>\n",
       "      <td id=\"T_db476_row0_col1\" class=\"data row0 col1\" >23550</td>\n",
       "      <td id=\"T_db476_row0_col2\" class=\"data row0 col2\" >59</td>\n",
       "      <td id=\"T_db476_row0_col3\" class=\"data row0 col3\" >0.3%</td>\n",
       "      <td id=\"T_db476_row0_col4\" class=\"data row0 col4\" >29.9%</td>\n",
       "      <td id=\"T_db476_row0_col5\" class=\"data row0 col5\" >99.4%</td>\n",
       "      <td id=\"T_db476_row0_col6\" class=\"data row0 col6\" >-69.4%</td>\n",
       "    </tr>\n",
       "    <tr>\n",
       "      <td id=\"T_db476_row1_col0\" class=\"data row1 col0\" >True</td>\n",
       "      <td id=\"T_db476_row1_col1\" class=\"data row1 col1\" >149</td>\n",
       "      <td id=\"T_db476_row1_col2\" class=\"data row1 col2\" >138</td>\n",
       "      <td id=\"T_db476_row1_col3\" class=\"data row1 col3\" >92.6%</td>\n",
       "      <td id=\"T_db476_row1_col4\" class=\"data row1 col4\" >70.1%</td>\n",
       "      <td id=\"T_db476_row1_col5\" class=\"data row1 col5\" >0.6%</td>\n",
       "      <td id=\"T_db476_row1_col6\" class=\"data row1 col6\" >69.4%</td>\n",
       "    </tr>\n",
       "  </tbody>\n",
       "</table>\n"
      ],
      "text/plain": [
       "<pandas.io.formats.style.Styler at 0x7819e0a08910>"
      ]
     },
     "metadata": {},
     "output_type": "display_data"
    }
   ],
   "source": [
    "pagri_data_tools.analyze_anomaly_by_category(df, series_zeros, \"by_category\", \"rooms\", 'studio')"
   ]
  },
  {
   "cell_type": "markdown",
   "metadata": {},
   "source": [
    "**Наблюдения**:  \n",
    "- Большая часть квартир с нулем комнат являются студиями."
   ]
  },
  {
   "cell_type": "markdown",
   "metadata": {
    "id": "tWtmydg6rRSO"
   },
   "source": [
    "### Промежуточный вывод"
   ]
  },
  {
   "cell_type": "code",
   "execution_count": null,
   "metadata": {},
   "outputs": [],
   "source": []
  },
  {
   "cell_type": "markdown",
   "metadata": {
    "id": "hjcIWNlMrRSS"
   },
   "source": [
    "## Предобработка данных"
   ]
  },
  {
   "cell_type": "markdown",
   "metadata": {
    "id": "ddxIC_jJrRSa"
   },
   "source": [
    "### Выбор нужных столбцов для дальнейшей работы"
   ]
  },
  {
   "cell_type": "markdown",
   "metadata": {
    "id": "uXFf5ew6rRSb"
   },
   "source": [
    "Сохраним исходный датафрейм в переменную df_origin, чтобы была возможность вернуться к нему\n"
   ]
  },
  {
   "cell_type": "code",
   "execution_count": 424,
   "metadata": {
    "id": "hhciwFDTrRSb"
   },
   "outputs": [],
   "source": [
    "df_origin = df.copy()"
   ]
  },
  {
   "cell_type": "markdown",
   "metadata": {
    "id": "5QaWzgIDrRSg"
   },
   "source": [
    "### Обработка выбросов"
   ]
  },
  {
   "cell_type": "markdown",
   "metadata": {
    "id": "gXcDFcGsrRSn",
    "outputId": "b801ef86-cca3-47ec-dc3b-d5fef1a4a5c2"
   },
   "source": [
    "После изучения данных отрицательные значения не обнаружены, но есть колонки с нулевыми занчениями, где их быть не должно.  "
   ]
  },
  {
   "cell_type": "markdown",
   "metadata": {
    "id": "eMVc8fZ4rRSr"
   },
   "source": [
    "Посмотрим где у нас нулевые значения"
   ]
  },
  {
   "cell_type": "code",
   "execution_count": 425,
   "metadata": {
    "id": "igHKE18BrRSs"
   },
   "outputs": [
    {
     "data": {
      "text/html": [
       "\n",
       "  <div id=\"df-98fd1c6a-66df-4e0a-b7b1-17254e0d1b47\" class=\"colab-df-container\">\n",
       "    <div>\n",
       "<style scoped>\n",
       "    .dataframe tbody tr th:only-of-type {\n",
       "        vertical-align: middle;\n",
       "    }\n",
       "\n",
       "    .dataframe tbody tr th {\n",
       "        vertical-align: top;\n",
       "    }\n",
       "\n",
       "    .dataframe thead th {\n",
       "        text-align: right;\n",
       "    }\n",
       "</style>\n",
       "<table border=\"1\" class=\"dataframe\">\n",
       "  <thead>\n",
       "    <tr style=\"text-align: right;\">\n",
       "      <th></th>\n",
       "      <th>zeros</th>\n",
       "    </tr>\n",
       "  </thead>\n",
       "  <tbody>\n",
       "    <tr>\n",
       "      <th>total_images</th>\n",
       "      <td>1059 (4.5%)</td>\n",
       "    </tr>\n",
       "    <tr>\n",
       "      <th>rooms</th>\n",
       "      <td>197 (0.8%)</td>\n",
       "    </tr>\n",
       "    <tr>\n",
       "      <th>balcony</th>\n",
       "      <td>3758 (15.9%)</td>\n",
       "    </tr>\n",
       "    <tr>\n",
       "      <th>airports_nearest</th>\n",
       "      <td>1 (0.0%)</td>\n",
       "    </tr>\n",
       "    <tr>\n",
       "      <th>parks_around3000</th>\n",
       "      <td>10106 (42.6%)</td>\n",
       "    </tr>\n",
       "    <tr>\n",
       "      <th>ponds_around3000</th>\n",
       "      <td>9071 (38.3%)</td>\n",
       "    </tr>\n",
       "  </tbody>\n",
       "</table>\n",
       "</div>\n",
       "    <div class=\"colab-df-buttons\">\n",
       "      \n",
       "  <div class=\"colab-df-container\">\n",
       "    <button class=\"colab-df-convert\" onclick=\"convertToInteractive('df-98fd1c6a-66df-4e0a-b7b1-17254e0d1b47')\"\n",
       "            title=\"Convert this dataframe to an interactive table.\"\n",
       "            style=\"display:none;\">\n",
       "      \n",
       "  <svg xmlns=\"http://www.w3.org/2000/svg\" height=\"24px\" viewBox=\"0 -960 960 960\">\n",
       "    <path d=\"M120-120v-720h720v720H120Zm60-500h600v-160H180v160Zm220 220h160v-160H400v160Zm0 220h160v-160H400v160ZM180-400h160v-160H180v160Zm440 0h160v-160H620v160ZM180-180h160v-160H180v160Zm440 0h160v-160H620v160Z\"/>\n",
       "  </svg>\n",
       "    </button>\n",
       "    \n",
       "  <style>\n",
       "    .colab-df-container {\n",
       "      display:flex;\n",
       "      gap: 12px;\n",
       "    }\n",
       "\n",
       "    .colab-df-convert {\n",
       "      background-color: #E8F0FE;\n",
       "      border: none;\n",
       "      border-radius: 50%;\n",
       "      cursor: pointer;\n",
       "      display: none;\n",
       "      fill: #1967D2;\n",
       "      height: 32px;\n",
       "      padding: 0 0 0 0;\n",
       "      width: 32px;\n",
       "    }\n",
       "\n",
       "    .colab-df-convert:hover {\n",
       "      background-color: #E2EBFA;\n",
       "      box-shadow: 0px 1px 2px rgba(60, 64, 67, 0.3), 0px 1px 3px 1px rgba(60, 64, 67, 0.15);\n",
       "      fill: #174EA6;\n",
       "    }\n",
       "\n",
       "    .colab-df-buttons div {\n",
       "      margin-bottom: 4px;\n",
       "    }\n",
       "\n",
       "    [theme=dark] .colab-df-convert {\n",
       "      background-color: #3B4455;\n",
       "      fill: #D2E3FC;\n",
       "    }\n",
       "\n",
       "    [theme=dark] .colab-df-convert:hover {\n",
       "      background-color: #434B5C;\n",
       "      box-shadow: 0px 1px 3px 1px rgba(0, 0, 0, 0.15);\n",
       "      filter: drop-shadow(0px 1px 2px rgba(0, 0, 0, 0.3));\n",
       "      fill: #FFFFFF;\n",
       "    }\n",
       "  </style>\n",
       "\n",
       "    <script>\n",
       "      const buttonEl =\n",
       "        document.querySelector('#df-98fd1c6a-66df-4e0a-b7b1-17254e0d1b47 button.colab-df-convert');\n",
       "      buttonEl.style.display =\n",
       "        google.colab.kernel.accessAllowed ? 'block' : 'none';\n",
       "\n",
       "      async function convertToInteractive(key) {\n",
       "        const element = document.querySelector('#df-98fd1c6a-66df-4e0a-b7b1-17254e0d1b47');\n",
       "        const dataTable =\n",
       "          await google.colab.kernel.invokeFunction('convertToInteractive',\n",
       "                                                    [key], {});\n",
       "        if (!dataTable) return;\n",
       "\n",
       "        const docLinkHtml = 'Like what you see? Visit the ' +\n",
       "          '<a target=\"_blank\" href=https://colab.research.google.com/notebooks/data_table.ipynb>data table notebook</a>'\n",
       "          + ' to learn more about interactive tables.';\n",
       "        element.innerHTML = '';\n",
       "        dataTable['output_type'] = 'display_data';\n",
       "        await google.colab.output.renderOutput(dataTable, element);\n",
       "        const docLink = document.createElement('div');\n",
       "        docLink.innerHTML = docLinkHtml;\n",
       "        element.appendChild(docLink);\n",
       "      }\n",
       "    </script>\n",
       "  </div>\n",
       "  \n",
       "    </div>\n",
       "  </div>\n",
       "  "
      ],
      "text/plain": [
       "                          zeros\n",
       "total_images        1059 (4.5%)\n",
       "rooms                197 (0.8%)\n",
       "balcony            3758 (15.9%)\n",
       "airports_nearest       1 (0.0%)\n",
       "parks_around3000  10106 (42.6%)\n",
       "ponds_around3000   9071 (38.3%)"
      ]
     },
     "metadata": {},
     "output_type": "display_data"
    }
   ],
   "source": [
    "pagri_data_tools.check_zeros_value_in_df(df)"
   ]
  },
  {
   "cell_type": "markdown",
   "metadata": {},
   "source": [
    "Нам нужно обработать нули в количестве комнат и в растоянии до аэропорта. "
   ]
  },
  {
   "cell_type": "code",
   "execution_count": 426,
   "metadata": {},
   "outputs": [
    {
     "data": {
      "text/html": [
       "\n",
       "  <div id=\"df-4c98050d-66ec-43e9-a1e2-d83847e3c6db\" class=\"colab-df-container\">\n",
       "    <div>\n",
       "<style scoped>\n",
       "    .dataframe tbody tr th:only-of-type {\n",
       "        vertical-align: middle;\n",
       "    }\n",
       "\n",
       "    .dataframe tbody tr th {\n",
       "        vertical-align: top;\n",
       "    }\n",
       "\n",
       "    .dataframe thead th {\n",
       "        text-align: right;\n",
       "    }\n",
       "</style>\n",
       "<table border=\"1\" class=\"dataframe\">\n",
       "  <thead>\n",
       "    <tr style=\"text-align: right;\">\n",
       "      <th></th>\n",
       "      <th>total_images</th>\n",
       "      <th>last_price</th>\n",
       "      <th>total_area</th>\n",
       "      <th>first_day_exposition</th>\n",
       "      <th>rooms</th>\n",
       "      <th>ceiling_height</th>\n",
       "      <th>floors_total</th>\n",
       "      <th>living_area</th>\n",
       "      <th>floor</th>\n",
       "      <th>is_apartment</th>\n",
       "      <th>...</th>\n",
       "      <th>kitchen_area</th>\n",
       "      <th>balcony</th>\n",
       "      <th>locality_name</th>\n",
       "      <th>airports_nearest</th>\n",
       "      <th>city_centers_nearest</th>\n",
       "      <th>parks_around3000</th>\n",
       "      <th>parks_nearest</th>\n",
       "      <th>ponds_around3000</th>\n",
       "      <th>ponds_nearest</th>\n",
       "      <th>days_exposition</th>\n",
       "    </tr>\n",
       "  </thead>\n",
       "  <tbody>\n",
       "    <tr>\n",
       "      <th>21085</th>\n",
       "      <td>0</td>\n",
       "      <td>7000000.0</td>\n",
       "      <td>34.7</td>\n",
       "      <td>2018-09-23</td>\n",
       "      <td>1</td>\n",
       "      <td>2.7</td>\n",
       "      <td>9.0</td>\n",
       "      <td>19.8</td>\n",
       "      <td>3</td>\n",
       "      <td>NaN</td>\n",
       "      <td>...</td>\n",
       "      <td>6.0</td>\n",
       "      <td>2.0</td>\n",
       "      <td>Санкт-Петербург</td>\n",
       "      <td>0.0</td>\n",
       "      <td>22801.0</td>\n",
       "      <td>0.0</td>\n",
       "      <td>NaN</td>\n",
       "      <td>0.0</td>\n",
       "      <td>NaN</td>\n",
       "      <td>60.0</td>\n",
       "    </tr>\n",
       "  </tbody>\n",
       "</table>\n",
       "<p>1 rows × 22 columns</p>\n",
       "</div>\n",
       "    <div class=\"colab-df-buttons\">\n",
       "      \n",
       "  <div class=\"colab-df-container\">\n",
       "    <button class=\"colab-df-convert\" onclick=\"convertToInteractive('df-4c98050d-66ec-43e9-a1e2-d83847e3c6db')\"\n",
       "            title=\"Convert this dataframe to an interactive table.\"\n",
       "            style=\"display:none;\">\n",
       "      \n",
       "  <svg xmlns=\"http://www.w3.org/2000/svg\" height=\"24px\" viewBox=\"0 -960 960 960\">\n",
       "    <path d=\"M120-120v-720h720v720H120Zm60-500h600v-160H180v160Zm220 220h160v-160H400v160Zm0 220h160v-160H400v160ZM180-400h160v-160H180v160Zm440 0h160v-160H620v160ZM180-180h160v-160H180v160Zm440 0h160v-160H620v160Z\"/>\n",
       "  </svg>\n",
       "    </button>\n",
       "    \n",
       "  <style>\n",
       "    .colab-df-container {\n",
       "      display:flex;\n",
       "      gap: 12px;\n",
       "    }\n",
       "\n",
       "    .colab-df-convert {\n",
       "      background-color: #E8F0FE;\n",
       "      border: none;\n",
       "      border-radius: 50%;\n",
       "      cursor: pointer;\n",
       "      display: none;\n",
       "      fill: #1967D2;\n",
       "      height: 32px;\n",
       "      padding: 0 0 0 0;\n",
       "      width: 32px;\n",
       "    }\n",
       "\n",
       "    .colab-df-convert:hover {\n",
       "      background-color: #E2EBFA;\n",
       "      box-shadow: 0px 1px 2px rgba(60, 64, 67, 0.3), 0px 1px 3px 1px rgba(60, 64, 67, 0.15);\n",
       "      fill: #174EA6;\n",
       "    }\n",
       "\n",
       "    .colab-df-buttons div {\n",
       "      margin-bottom: 4px;\n",
       "    }\n",
       "\n",
       "    [theme=dark] .colab-df-convert {\n",
       "      background-color: #3B4455;\n",
       "      fill: #D2E3FC;\n",
       "    }\n",
       "\n",
       "    [theme=dark] .colab-df-convert:hover {\n",
       "      background-color: #434B5C;\n",
       "      box-shadow: 0px 1px 3px 1px rgba(0, 0, 0, 0.15);\n",
       "      filter: drop-shadow(0px 1px 2px rgba(0, 0, 0, 0.3));\n",
       "      fill: #FFFFFF;\n",
       "    }\n",
       "  </style>\n",
       "\n",
       "    <script>\n",
       "      const buttonEl =\n",
       "        document.querySelector('#df-4c98050d-66ec-43e9-a1e2-d83847e3c6db button.colab-df-convert');\n",
       "      buttonEl.style.display =\n",
       "        google.colab.kernel.accessAllowed ? 'block' : 'none';\n",
       "\n",
       "      async function convertToInteractive(key) {\n",
       "        const element = document.querySelector('#df-4c98050d-66ec-43e9-a1e2-d83847e3c6db');\n",
       "        const dataTable =\n",
       "          await google.colab.kernel.invokeFunction('convertToInteractive',\n",
       "                                                    [key], {});\n",
       "        if (!dataTable) return;\n",
       "\n",
       "        const docLinkHtml = 'Like what you see? Visit the ' +\n",
       "          '<a target=\"_blank\" href=https://colab.research.google.com/notebooks/data_table.ipynb>data table notebook</a>'\n",
       "          + ' to learn more about interactive tables.';\n",
       "        element.innerHTML = '';\n",
       "        dataTable['output_type'] = 'display_data';\n",
       "        await google.colab.output.renderOutput(dataTable, element);\n",
       "        const docLink = document.createElement('div');\n",
       "        docLink.innerHTML = docLinkHtml;\n",
       "        element.appendChild(docLink);\n",
       "      }\n",
       "    </script>\n",
       "  </div>\n",
       "  \n",
       "    </div>\n",
       "  </div>\n",
       "  "
      ],
      "text/plain": [
       "       total_images  last_price  total_area first_day_exposition  rooms  \\\n",
       "21085             0   7000000.0        34.7           2018-09-23      1   \n",
       "\n",
       "       ceiling_height  floors_total  living_area  floor is_apartment  ...  \\\n",
       "21085             2.7           9.0         19.8      3          NaN  ...   \n",
       "\n",
       "      kitchen_area balcony    locality_name  airports_nearest  \\\n",
       "21085          6.0     2.0  Санкт-Петербург               0.0   \n",
       "\n",
       "      city_centers_nearest  parks_around3000  parks_nearest  ponds_around3000  \\\n",
       "21085              22801.0               0.0            NaN               0.0   \n",
       "\n",
       "       ponds_nearest  days_exposition  \n",
       "21085            NaN             60.0  \n",
       "\n",
       "[1 rows x 22 columns]"
      ]
     },
     "execution_count": 426,
     "metadata": {},
     "output_type": "execute_result"
    }
   ],
   "source": [
    "df[df.airports_nearest == 0]"
   ]
  },
  {
   "cell_type": "markdown",
   "metadata": {},
   "source": [
    "Так как это всего одна запись и точно восстановить расстояние невозможно, то лучше удалить ее.  "
   ]
  },
  {
   "cell_type": "code",
   "execution_count": 427,
   "metadata": {},
   "outputs": [
    {
     "data": {
      "text/plain": [
       "23699"
      ]
     },
     "execution_count": 427,
     "metadata": {},
     "output_type": "execute_result"
    }
   ],
   "source": [
    "df.shape[0]"
   ]
  },
  {
   "cell_type": "code",
   "execution_count": 428,
   "metadata": {},
   "outputs": [],
   "source": [
    "df = df[df.airports_nearest != 0]"
   ]
  },
  {
   "cell_type": "code",
   "execution_count": 429,
   "metadata": {},
   "outputs": [
    {
     "data": {
      "text/plain": [
       "23698"
      ]
     },
     "execution_count": 429,
     "metadata": {},
     "output_type": "execute_result"
    }
   ],
   "source": [
    "df.shape[0]"
   ]
  },
  {
   "cell_type": "markdown",
   "metadata": {},
   "source": [
    "Обработаем нулевые значения в количестве комнат."
   ]
  },
  {
   "cell_type": "markdown",
   "metadata": {},
   "source": [
    "Так как мы выяснили, что 0 комнат указано у студий и в открытой планеровке, либо у квартир с площадью до 40 кв.,  \n",
    "то заменим 0 на 1.  "
   ]
  },
  {
   "cell_type": "code",
   "execution_count": 430,
   "metadata": {},
   "outputs": [],
   "source": [
    "tt = df.copy()"
   ]
  },
  {
   "cell_type": "code",
   "execution_count": 431,
   "metadata": {},
   "outputs": [],
   "source": [
    "tt.rooms = tt.rooms.apply(lambda x: 1 if x == 0 else x)"
   ]
  },
  {
   "cell_type": "code",
   "execution_count": 432,
   "metadata": {},
   "outputs": [],
   "source": [
    "df.loc[:, 'rooms'] = df.rooms.apply(lambda x: 1 if x == 0 else x)"
   ]
  },
  {
   "cell_type": "markdown",
   "metadata": {},
   "source": [
    "Убедимся, что у нас не осталось нулевых и отрицательных значений где их быть не должно.  "
   ]
  },
  {
   "cell_type": "code",
   "execution_count": 433,
   "metadata": {
    "id": "EyGPNgfhrRSu",
    "outputId": "6185a3b4-e165-42e7-ef6b-39603ed44ad8"
   },
   "outputs": [
    {
     "data": {
      "text/html": [
       "\n",
       "  <div id=\"df-c88cadc1-3dfc-46c5-964e-6882a9e677f3\" class=\"colab-df-container\">\n",
       "    <div>\n",
       "<style scoped>\n",
       "    .dataframe tbody tr th:only-of-type {\n",
       "        vertical-align: middle;\n",
       "    }\n",
       "\n",
       "    .dataframe tbody tr th {\n",
       "        vertical-align: top;\n",
       "    }\n",
       "\n",
       "    .dataframe thead th {\n",
       "        text-align: right;\n",
       "    }\n",
       "</style>\n",
       "<table border=\"1\" class=\"dataframe\">\n",
       "  <thead>\n",
       "    <tr style=\"text-align: right;\">\n",
       "      <th></th>\n",
       "      <th>negative</th>\n",
       "    </tr>\n",
       "  </thead>\n",
       "  <tbody>\n",
       "  </tbody>\n",
       "</table>\n",
       "</div>\n",
       "    <div class=\"colab-df-buttons\">\n",
       "      \n",
       "  <div class=\"colab-df-container\">\n",
       "    <button class=\"colab-df-convert\" onclick=\"convertToInteractive('df-c88cadc1-3dfc-46c5-964e-6882a9e677f3')\"\n",
       "            title=\"Convert this dataframe to an interactive table.\"\n",
       "            style=\"display:none;\">\n",
       "      \n",
       "  <svg xmlns=\"http://www.w3.org/2000/svg\" height=\"24px\" viewBox=\"0 -960 960 960\">\n",
       "    <path d=\"M120-120v-720h720v720H120Zm60-500h600v-160H180v160Zm220 220h160v-160H400v160Zm0 220h160v-160H400v160ZM180-400h160v-160H180v160Zm440 0h160v-160H620v160ZM180-180h160v-160H180v160Zm440 0h160v-160H620v160Z\"/>\n",
       "  </svg>\n",
       "    </button>\n",
       "    \n",
       "  <style>\n",
       "    .colab-df-container {\n",
       "      display:flex;\n",
       "      gap: 12px;\n",
       "    }\n",
       "\n",
       "    .colab-df-convert {\n",
       "      background-color: #E8F0FE;\n",
       "      border: none;\n",
       "      border-radius: 50%;\n",
       "      cursor: pointer;\n",
       "      display: none;\n",
       "      fill: #1967D2;\n",
       "      height: 32px;\n",
       "      padding: 0 0 0 0;\n",
       "      width: 32px;\n",
       "    }\n",
       "\n",
       "    .colab-df-convert:hover {\n",
       "      background-color: #E2EBFA;\n",
       "      box-shadow: 0px 1px 2px rgba(60, 64, 67, 0.3), 0px 1px 3px 1px rgba(60, 64, 67, 0.15);\n",
       "      fill: #174EA6;\n",
       "    }\n",
       "\n",
       "    .colab-df-buttons div {\n",
       "      margin-bottom: 4px;\n",
       "    }\n",
       "\n",
       "    [theme=dark] .colab-df-convert {\n",
       "      background-color: #3B4455;\n",
       "      fill: #D2E3FC;\n",
       "    }\n",
       "\n",
       "    [theme=dark] .colab-df-convert:hover {\n",
       "      background-color: #434B5C;\n",
       "      box-shadow: 0px 1px 3px 1px rgba(0, 0, 0, 0.15);\n",
       "      filter: drop-shadow(0px 1px 2px rgba(0, 0, 0, 0.3));\n",
       "      fill: #FFFFFF;\n",
       "    }\n",
       "  </style>\n",
       "\n",
       "    <script>\n",
       "      const buttonEl =\n",
       "        document.querySelector('#df-c88cadc1-3dfc-46c5-964e-6882a9e677f3 button.colab-df-convert');\n",
       "      buttonEl.style.display =\n",
       "        google.colab.kernel.accessAllowed ? 'block' : 'none';\n",
       "\n",
       "      async function convertToInteractive(key) {\n",
       "        const element = document.querySelector('#df-c88cadc1-3dfc-46c5-964e-6882a9e677f3');\n",
       "        const dataTable =\n",
       "          await google.colab.kernel.invokeFunction('convertToInteractive',\n",
       "                                                    [key], {});\n",
       "        if (!dataTable) return;\n",
       "\n",
       "        const docLinkHtml = 'Like what you see? Visit the ' +\n",
       "          '<a target=\"_blank\" href=https://colab.research.google.com/notebooks/data_table.ipynb>data table notebook</a>'\n",
       "          + ' to learn more about interactive tables.';\n",
       "        element.innerHTML = '';\n",
       "        dataTable['output_type'] = 'display_data';\n",
       "        await google.colab.output.renderOutput(dataTable, element);\n",
       "        const docLink = document.createElement('div');\n",
       "        docLink.innerHTML = docLinkHtml;\n",
       "        element.appendChild(docLink);\n",
       "      }\n",
       "    </script>\n",
       "  </div>\n",
       "  \n",
       "    </div>\n",
       "  </div>\n",
       "  "
      ],
      "text/plain": [
       "Empty DataFrame\n",
       "Columns: [negative]\n",
       "Index: []"
      ]
     },
     "metadata": {},
     "output_type": "display_data"
    }
   ],
   "source": [
    "pagri_data_tools.check_negative_value_in_df(df)"
   ]
  },
  {
   "cell_type": "code",
   "execution_count": 434,
   "metadata": {
    "id": "D2TQr94lrRSw",
    "outputId": "ac6cb221-0e55-474a-d470-571e64883850"
   },
   "outputs": [
    {
     "data": {
      "text/html": [
       "\n",
       "  <div id=\"df-a292f2ad-e06f-40c9-9e06-30d97e5f39be\" class=\"colab-df-container\">\n",
       "    <div>\n",
       "<style scoped>\n",
       "    .dataframe tbody tr th:only-of-type {\n",
       "        vertical-align: middle;\n",
       "    }\n",
       "\n",
       "    .dataframe tbody tr th {\n",
       "        vertical-align: top;\n",
       "    }\n",
       "\n",
       "    .dataframe thead th {\n",
       "        text-align: right;\n",
       "    }\n",
       "</style>\n",
       "<table border=\"1\" class=\"dataframe\">\n",
       "  <thead>\n",
       "    <tr style=\"text-align: right;\">\n",
       "      <th></th>\n",
       "      <th>zeros</th>\n",
       "    </tr>\n",
       "  </thead>\n",
       "  <tbody>\n",
       "    <tr>\n",
       "      <th>total_images</th>\n",
       "      <td>1058 (4.5%)</td>\n",
       "    </tr>\n",
       "    <tr>\n",
       "      <th>balcony</th>\n",
       "      <td>3758 (15.9%)</td>\n",
       "    </tr>\n",
       "    <tr>\n",
       "      <th>parks_around3000</th>\n",
       "      <td>10105 (42.6%)</td>\n",
       "    </tr>\n",
       "    <tr>\n",
       "      <th>ponds_around3000</th>\n",
       "      <td>9070 (38.3%)</td>\n",
       "    </tr>\n",
       "  </tbody>\n",
       "</table>\n",
       "</div>\n",
       "    <div class=\"colab-df-buttons\">\n",
       "      \n",
       "  <div class=\"colab-df-container\">\n",
       "    <button class=\"colab-df-convert\" onclick=\"convertToInteractive('df-a292f2ad-e06f-40c9-9e06-30d97e5f39be')\"\n",
       "            title=\"Convert this dataframe to an interactive table.\"\n",
       "            style=\"display:none;\">\n",
       "      \n",
       "  <svg xmlns=\"http://www.w3.org/2000/svg\" height=\"24px\" viewBox=\"0 -960 960 960\">\n",
       "    <path d=\"M120-120v-720h720v720H120Zm60-500h600v-160H180v160Zm220 220h160v-160H400v160Zm0 220h160v-160H400v160ZM180-400h160v-160H180v160Zm440 0h160v-160H620v160ZM180-180h160v-160H180v160Zm440 0h160v-160H620v160Z\"/>\n",
       "  </svg>\n",
       "    </button>\n",
       "    \n",
       "  <style>\n",
       "    .colab-df-container {\n",
       "      display:flex;\n",
       "      gap: 12px;\n",
       "    }\n",
       "\n",
       "    .colab-df-convert {\n",
       "      background-color: #E8F0FE;\n",
       "      border: none;\n",
       "      border-radius: 50%;\n",
       "      cursor: pointer;\n",
       "      display: none;\n",
       "      fill: #1967D2;\n",
       "      height: 32px;\n",
       "      padding: 0 0 0 0;\n",
       "      width: 32px;\n",
       "    }\n",
       "\n",
       "    .colab-df-convert:hover {\n",
       "      background-color: #E2EBFA;\n",
       "      box-shadow: 0px 1px 2px rgba(60, 64, 67, 0.3), 0px 1px 3px 1px rgba(60, 64, 67, 0.15);\n",
       "      fill: #174EA6;\n",
       "    }\n",
       "\n",
       "    .colab-df-buttons div {\n",
       "      margin-bottom: 4px;\n",
       "    }\n",
       "\n",
       "    [theme=dark] .colab-df-convert {\n",
       "      background-color: #3B4455;\n",
       "      fill: #D2E3FC;\n",
       "    }\n",
       "\n",
       "    [theme=dark] .colab-df-convert:hover {\n",
       "      background-color: #434B5C;\n",
       "      box-shadow: 0px 1px 3px 1px rgba(0, 0, 0, 0.15);\n",
       "      filter: drop-shadow(0px 1px 2px rgba(0, 0, 0, 0.3));\n",
       "      fill: #FFFFFF;\n",
       "    }\n",
       "  </style>\n",
       "\n",
       "    <script>\n",
       "      const buttonEl =\n",
       "        document.querySelector('#df-a292f2ad-e06f-40c9-9e06-30d97e5f39be button.colab-df-convert');\n",
       "      buttonEl.style.display =\n",
       "        google.colab.kernel.accessAllowed ? 'block' : 'none';\n",
       "\n",
       "      async function convertToInteractive(key) {\n",
       "        const element = document.querySelector('#df-a292f2ad-e06f-40c9-9e06-30d97e5f39be');\n",
       "        const dataTable =\n",
       "          await google.colab.kernel.invokeFunction('convertToInteractive',\n",
       "                                                    [key], {});\n",
       "        if (!dataTable) return;\n",
       "\n",
       "        const docLinkHtml = 'Like what you see? Visit the ' +\n",
       "          '<a target=\"_blank\" href=https://colab.research.google.com/notebooks/data_table.ipynb>data table notebook</a>'\n",
       "          + ' to learn more about interactive tables.';\n",
       "        element.innerHTML = '';\n",
       "        dataTable['output_type'] = 'display_data';\n",
       "        await google.colab.output.renderOutput(dataTable, element);\n",
       "        const docLink = document.createElement('div');\n",
       "        docLink.innerHTML = docLinkHtml;\n",
       "        element.appendChild(docLink);\n",
       "      }\n",
       "    </script>\n",
       "  </div>\n",
       "  \n",
       "    </div>\n",
       "  </div>\n",
       "  "
      ],
      "text/plain": [
       "                          zeros\n",
       "total_images        1058 (4.5%)\n",
       "balcony            3758 (15.9%)\n",
       "parks_around3000  10105 (42.6%)\n",
       "ponds_around3000   9070 (38.3%)"
      ]
     },
     "metadata": {},
     "output_type": "display_data"
    }
   ],
   "source": [
    "pagri_data_tools.check_zeros_value_in_df(df)"
   ]
  },
  {
   "cell_type": "markdown",
   "metadata": {},
   "source": [
    "У нас в цене есть одна запись со значением 12190.\n",
    "Скорее всего не поставили нули, но сложно определить сколько именно нулей не поставили.  \n",
    "Так как это всего 1 запись, то удалим ее. "
   ]
  },
  {
   "cell_type": "code",
   "execution_count": 435,
   "metadata": {},
   "outputs": [
    {
     "data": {
      "text/plain": [
       "23698"
      ]
     },
     "execution_count": 435,
     "metadata": {},
     "output_type": "execute_result"
    }
   ],
   "source": [
    "df.shape[0]"
   ]
  },
  {
   "cell_type": "code",
   "execution_count": 436,
   "metadata": {},
   "outputs": [],
   "source": [
    "df = df[df.last_price != 12190]"
   ]
  },
  {
   "cell_type": "code",
   "execution_count": 437,
   "metadata": {},
   "outputs": [
    {
     "data": {
      "text/plain": [
       "23697"
      ]
     },
     "execution_count": 437,
     "metadata": {},
     "output_type": "execute_result"
    }
   ],
   "source": [
    "df.shape[0]"
   ]
  },
  {
   "cell_type": "markdown",
   "metadata": {},
   "source": [
    "Обработаем выбросы в высоте потолков. "
   ]
  },
  {
   "cell_type": "markdown",
   "metadata": {},
   "source": [
    "Будем считать, что высота потолков больше 5 метров явялется маловероятным.  \n",
    "Посмотрим сколько у нас записей с высотой потолка больше 5 метров.  "
   ]
  },
  {
   "cell_type": "code",
   "execution_count": 438,
   "metadata": {},
   "outputs": [
    {
     "data": {
      "application/vnd.google.colaboratory.intrinsic+json": {
       "type": "string"
      },
      "text/plain": [
       "'36 (0.2%)'"
      ]
     },
     "execution_count": 438,
     "metadata": {},
     "output_type": "execute_result"
    }
   ],
   "source": [
    "pagri_data_tools.count_share(df.ceiling_height > 5)"
   ]
  },
  {
   "cell_type": "markdown",
   "metadata": {},
   "source": [
    "Так как их очень мало и мы не можем обработать эти выбросы, то удалим их.  "
   ]
  },
  {
   "cell_type": "code",
   "execution_count": 439,
   "metadata": {},
   "outputs": [
    {
     "data": {
      "text/plain": [
       "23697"
      ]
     },
     "execution_count": 439,
     "metadata": {},
     "output_type": "execute_result"
    }
   ],
   "source": [
    "df.shape[0]"
   ]
  },
  {
   "cell_type": "code",
   "execution_count": 440,
   "metadata": {},
   "outputs": [
    {
     "data": {
      "text/plain": [
       "36"
      ]
     },
     "execution_count": 440,
     "metadata": {},
     "output_type": "execute_result"
    }
   ],
   "source": [
    "df[df.ceiling_height > 5].shape[0]"
   ]
  },
  {
   "cell_type": "code",
   "execution_count": 441,
   "metadata": {},
   "outputs": [],
   "source": [
    "df = df[~(df.ceiling_height > 5)]"
   ]
  },
  {
   "cell_type": "code",
   "execution_count": 442,
   "metadata": {},
   "outputs": [
    {
     "data": {
      "text/plain": [
       "23661"
      ]
     },
     "execution_count": 442,
     "metadata": {},
     "output_type": "execute_result"
    }
   ],
   "source": [
    "df.shape[0]"
   ]
  },
  {
   "cell_type": "markdown",
   "metadata": {
    "id": "tNmcU32IrRS3"
   },
   "source": [
    "### Обработка пропусков"
   ]
  },
  {
   "cell_type": "markdown",
   "metadata": {},
   "source": [
    "Посмотрим где у нас пропуски.  "
   ]
  },
  {
   "cell_type": "code",
   "execution_count": 461,
   "metadata": {
    "id": "PCgCFWYurRS5"
   },
   "outputs": [
    {
     "data": {
      "text/html": [
       "\n",
       "  <div id=\"df-1ad1e19e-50d8-4d4c-a6f8-87be31635715\" class=\"colab-df-container\">\n",
       "    <div>\n",
       "<style scoped>\n",
       "    .dataframe tbody tr th:only-of-type {\n",
       "        vertical-align: middle;\n",
       "    }\n",
       "\n",
       "    .dataframe tbody tr th {\n",
       "        vertical-align: top;\n",
       "    }\n",
       "\n",
       "    .dataframe thead th {\n",
       "        text-align: right;\n",
       "    }\n",
       "</style>\n",
       "<table border=\"1\" class=\"dataframe\">\n",
       "  <thead>\n",
       "    <tr style=\"text-align: right;\">\n",
       "      <th></th>\n",
       "      <th>missed</th>\n",
       "    </tr>\n",
       "  </thead>\n",
       "  <tbody>\n",
       "    <tr>\n",
       "      <th>ceiling_height</th>\n",
       "      <td>9118 (38.7%)</td>\n",
       "    </tr>\n",
       "    <tr>\n",
       "      <th>balcony</th>\n",
       "      <td>11468 (48.6%)</td>\n",
       "    </tr>\n",
       "    <tr>\n",
       "      <th>locality_name</th>\n",
       "      <td>48 (0.2%)</td>\n",
       "    </tr>\n",
       "    <tr>\n",
       "      <th>airports_nearest</th>\n",
       "      <td>5522 (23.4%)</td>\n",
       "    </tr>\n",
       "    <tr>\n",
       "      <th>city_centers_nearest</th>\n",
       "      <td>5499 (23.3%)</td>\n",
       "    </tr>\n",
       "    <tr>\n",
       "      <th>parks_around3000</th>\n",
       "      <td>5498 (23.3%)</td>\n",
       "    </tr>\n",
       "    <tr>\n",
       "      <th>parks_nearest</th>\n",
       "      <td>15546 (65.9%)</td>\n",
       "    </tr>\n",
       "    <tr>\n",
       "      <th>ponds_around3000</th>\n",
       "      <td>5498 (23.3%)</td>\n",
       "    </tr>\n",
       "    <tr>\n",
       "      <th>ponds_nearest</th>\n",
       "      <td>14529 (61.6%)</td>\n",
       "    </tr>\n",
       "    <tr>\n",
       "      <th>days_exposition</th>\n",
       "      <td>3164 (13.4%)</td>\n",
       "    </tr>\n",
       "  </tbody>\n",
       "</table>\n",
       "</div>\n",
       "    <div class=\"colab-df-buttons\">\n",
       "      \n",
       "  <div class=\"colab-df-container\">\n",
       "    <button class=\"colab-df-convert\" onclick=\"convertToInteractive('df-1ad1e19e-50d8-4d4c-a6f8-87be31635715')\"\n",
       "            title=\"Convert this dataframe to an interactive table.\"\n",
       "            style=\"display:none;\">\n",
       "      \n",
       "  <svg xmlns=\"http://www.w3.org/2000/svg\" height=\"24px\" viewBox=\"0 -960 960 960\">\n",
       "    <path d=\"M120-120v-720h720v720H120Zm60-500h600v-160H180v160Zm220 220h160v-160H400v160Zm0 220h160v-160H400v160ZM180-400h160v-160H180v160Zm440 0h160v-160H620v160ZM180-180h160v-160H180v160Zm440 0h160v-160H620v160Z\"/>\n",
       "  </svg>\n",
       "    </button>\n",
       "    \n",
       "  <style>\n",
       "    .colab-df-container {\n",
       "      display:flex;\n",
       "      gap: 12px;\n",
       "    }\n",
       "\n",
       "    .colab-df-convert {\n",
       "      background-color: #E8F0FE;\n",
       "      border: none;\n",
       "      border-radius: 50%;\n",
       "      cursor: pointer;\n",
       "      display: none;\n",
       "      fill: #1967D2;\n",
       "      height: 32px;\n",
       "      padding: 0 0 0 0;\n",
       "      width: 32px;\n",
       "    }\n",
       "\n",
       "    .colab-df-convert:hover {\n",
       "      background-color: #E2EBFA;\n",
       "      box-shadow: 0px 1px 2px rgba(60, 64, 67, 0.3), 0px 1px 3px 1px rgba(60, 64, 67, 0.15);\n",
       "      fill: #174EA6;\n",
       "    }\n",
       "\n",
       "    .colab-df-buttons div {\n",
       "      margin-bottom: 4px;\n",
       "    }\n",
       "\n",
       "    [theme=dark] .colab-df-convert {\n",
       "      background-color: #3B4455;\n",
       "      fill: #D2E3FC;\n",
       "    }\n",
       "\n",
       "    [theme=dark] .colab-df-convert:hover {\n",
       "      background-color: #434B5C;\n",
       "      box-shadow: 0px 1px 3px 1px rgba(0, 0, 0, 0.15);\n",
       "      filter: drop-shadow(0px 1px 2px rgba(0, 0, 0, 0.3));\n",
       "      fill: #FFFFFF;\n",
       "    }\n",
       "  </style>\n",
       "\n",
       "    <script>\n",
       "      const buttonEl =\n",
       "        document.querySelector('#df-1ad1e19e-50d8-4d4c-a6f8-87be31635715 button.colab-df-convert');\n",
       "      buttonEl.style.display =\n",
       "        google.colab.kernel.accessAllowed ? 'block' : 'none';\n",
       "\n",
       "      async function convertToInteractive(key) {\n",
       "        const element = document.querySelector('#df-1ad1e19e-50d8-4d4c-a6f8-87be31635715');\n",
       "        const dataTable =\n",
       "          await google.colab.kernel.invokeFunction('convertToInteractive',\n",
       "                                                    [key], {});\n",
       "        if (!dataTable) return;\n",
       "\n",
       "        const docLinkHtml = 'Like what you see? Visit the ' +\n",
       "          '<a target=\"_blank\" href=https://colab.research.google.com/notebooks/data_table.ipynb>data table notebook</a>'\n",
       "          + ' to learn more about interactive tables.';\n",
       "        element.innerHTML = '';\n",
       "        dataTable['output_type'] = 'display_data';\n",
       "        await google.colab.output.renderOutput(dataTable, element);\n",
       "        const docLink = document.createElement('div');\n",
       "        docLink.innerHTML = docLinkHtml;\n",
       "        element.appendChild(docLink);\n",
       "      }\n",
       "    </script>\n",
       "  </div>\n",
       "  \n",
       "    </div>\n",
       "  </div>\n",
       "  "
      ],
      "text/plain": [
       "                             missed\n",
       "ceiling_height         9118 (38.7%)\n",
       "balcony               11468 (48.6%)\n",
       "locality_name             48 (0.2%)\n",
       "airports_nearest       5522 (23.4%)\n",
       "city_centers_nearest   5499 (23.3%)\n",
       "parks_around3000       5498 (23.3%)\n",
       "parks_nearest         15546 (65.9%)\n",
       "ponds_around3000       5498 (23.3%)\n",
       "ponds_nearest         14529 (61.6%)\n",
       "days_exposition        3164 (13.4%)"
      ]
     },
     "metadata": {},
     "output_type": "display_data"
    }
   ],
   "source": [
    "pagri_data_tools.check_missed_value_in_df(df)"
   ]
  },
  {
   "cell_type": "markdown",
   "metadata": {},
   "source": [
    "Мы выяснили, что у нас пропуски в столбцах 'airports_nearest', 'city_centers_nearest', 'parks_around3000', 'ponds_around3000'  \n",
    "в одних и тех же строчках.    \n",
    "Так как количество пропусков болшое, то заменять их нельзя.  \n",
    "Поэтому оставим их как есть. "
   ]
  },
  {
   "cell_type": "markdown",
   "metadata": {},
   "source": [
    "Пропуски в высоте потолков мы обрабатывать не можем, так как их сильно много.  "
   ]
  },
  {
   "cell_type": "markdown",
   "metadata": {},
   "source": [
    "Пропуски в количестве этажей удалим, так как их мало.  "
   ]
  },
  {
   "cell_type": "code",
   "execution_count": 444,
   "metadata": {},
   "outputs": [
    {
     "data": {
      "text/plain": [
       "23661"
      ]
     },
     "execution_count": 444,
     "metadata": {},
     "output_type": "execute_result"
    }
   ],
   "source": [
    "df.shape[0]"
   ]
  },
  {
   "cell_type": "code",
   "execution_count": 445,
   "metadata": {},
   "outputs": [],
   "source": [
    "df = df.dropna(subset=['floors_total'])"
   ]
  },
  {
   "cell_type": "code",
   "execution_count": 446,
   "metadata": {},
   "outputs": [
    {
     "data": {
      "text/plain": [
       "23575"
      ]
     },
     "execution_count": 446,
     "metadata": {},
     "output_type": "execute_result"
    }
   ],
   "source": [
    "df.shape[0]"
   ]
  },
  {
   "cell_type": "markdown",
   "metadata": {},
   "source": [
    "Пропуски в жилой площади и в площади кухни обработаем с помощью коэффициентов отношения площадей.  \n",
    "При этом расчитывать будем с учетом количества комнат, чтобы было точнее.  "
   ]
  },
  {
   "cell_type": "code",
   "execution_count": 447,
   "metadata": {},
   "outputs": [
    {
     "data": {
      "text/html": [
       "\n",
       "  <div id=\"df-6e143776-8bc4-4af4-8952-f8280b65603b\" class=\"colab-df-container\">\n",
       "    <div>\n",
       "<style scoped>\n",
       "    .dataframe tbody tr th:only-of-type {\n",
       "        vertical-align: middle;\n",
       "    }\n",
       "\n",
       "    .dataframe tbody tr th {\n",
       "        vertical-align: top;\n",
       "    }\n",
       "\n",
       "    .dataframe thead th {\n",
       "        text-align: right;\n",
       "    }\n",
       "</style>\n",
       "<table border=\"1\" class=\"dataframe\">\n",
       "  <thead>\n",
       "    <tr style=\"text-align: right;\">\n",
       "      <th></th>\n",
       "      <th>total_area</th>\n",
       "      <th>living_area</th>\n",
       "      <th>rooms</th>\n",
       "      <th>kitchen_area</th>\n",
       "      <th>balcony</th>\n",
       "    </tr>\n",
       "  </thead>\n",
       "  <tbody>\n",
       "    <tr>\n",
       "      <th>13287</th>\n",
       "      <td>35.0</td>\n",
       "      <td>19.1</td>\n",
       "      <td>1</td>\n",
       "      <td>8.2</td>\n",
       "      <td>NaN</td>\n",
       "    </tr>\n",
       "    <tr>\n",
       "      <th>17048</th>\n",
       "      <td>45.9</td>\n",
       "      <td>30.8</td>\n",
       "      <td>2</td>\n",
       "      <td>6.5</td>\n",
       "      <td>NaN</td>\n",
       "    </tr>\n",
       "    <tr>\n",
       "      <th>23297</th>\n",
       "      <td>48.2</td>\n",
       "      <td>42.2</td>\n",
       "      <td>2</td>\n",
       "      <td>6.0</td>\n",
       "      <td>1.0</td>\n",
       "    </tr>\n",
       "    <tr>\n",
       "      <th>18227</th>\n",
       "      <td>72.6</td>\n",
       "      <td>36.6</td>\n",
       "      <td>2</td>\n",
       "      <td>NaN</td>\n",
       "      <td>0.0</td>\n",
       "    </tr>\n",
       "    <tr>\n",
       "      <th>18195</th>\n",
       "      <td>61.3</td>\n",
       "      <td>33.4</td>\n",
       "      <td>2</td>\n",
       "      <td>11.5</td>\n",
       "      <td>0.0</td>\n",
       "    </tr>\n",
       "  </tbody>\n",
       "</table>\n",
       "</div>\n",
       "    <div class=\"colab-df-buttons\">\n",
       "      \n",
       "  <div class=\"colab-df-container\">\n",
       "    <button class=\"colab-df-convert\" onclick=\"convertToInteractive('df-6e143776-8bc4-4af4-8952-f8280b65603b')\"\n",
       "            title=\"Convert this dataframe to an interactive table.\"\n",
       "            style=\"display:none;\">\n",
       "      \n",
       "  <svg xmlns=\"http://www.w3.org/2000/svg\" height=\"24px\" viewBox=\"0 -960 960 960\">\n",
       "    <path d=\"M120-120v-720h720v720H120Zm60-500h600v-160H180v160Zm220 220h160v-160H400v160Zm0 220h160v-160H400v160ZM180-400h160v-160H180v160Zm440 0h160v-160H620v160ZM180-180h160v-160H180v160Zm440 0h160v-160H620v160Z\"/>\n",
       "  </svg>\n",
       "    </button>\n",
       "    \n",
       "  <style>\n",
       "    .colab-df-container {\n",
       "      display:flex;\n",
       "      gap: 12px;\n",
       "    }\n",
       "\n",
       "    .colab-df-convert {\n",
       "      background-color: #E8F0FE;\n",
       "      border: none;\n",
       "      border-radius: 50%;\n",
       "      cursor: pointer;\n",
       "      display: none;\n",
       "      fill: #1967D2;\n",
       "      height: 32px;\n",
       "      padding: 0 0 0 0;\n",
       "      width: 32px;\n",
       "    }\n",
       "\n",
       "    .colab-df-convert:hover {\n",
       "      background-color: #E2EBFA;\n",
       "      box-shadow: 0px 1px 2px rgba(60, 64, 67, 0.3), 0px 1px 3px 1px rgba(60, 64, 67, 0.15);\n",
       "      fill: #174EA6;\n",
       "    }\n",
       "\n",
       "    .colab-df-buttons div {\n",
       "      margin-bottom: 4px;\n",
       "    }\n",
       "\n",
       "    [theme=dark] .colab-df-convert {\n",
       "      background-color: #3B4455;\n",
       "      fill: #D2E3FC;\n",
       "    }\n",
       "\n",
       "    [theme=dark] .colab-df-convert:hover {\n",
       "      background-color: #434B5C;\n",
       "      box-shadow: 0px 1px 3px 1px rgba(0, 0, 0, 0.15);\n",
       "      filter: drop-shadow(0px 1px 2px rgba(0, 0, 0, 0.3));\n",
       "      fill: #FFFFFF;\n",
       "    }\n",
       "  </style>\n",
       "\n",
       "    <script>\n",
       "      const buttonEl =\n",
       "        document.querySelector('#df-6e143776-8bc4-4af4-8952-f8280b65603b button.colab-df-convert');\n",
       "      buttonEl.style.display =\n",
       "        google.colab.kernel.accessAllowed ? 'block' : 'none';\n",
       "\n",
       "      async function convertToInteractive(key) {\n",
       "        const element = document.querySelector('#df-6e143776-8bc4-4af4-8952-f8280b65603b');\n",
       "        const dataTable =\n",
       "          await google.colab.kernel.invokeFunction('convertToInteractive',\n",
       "                                                    [key], {});\n",
       "        if (!dataTable) return;\n",
       "\n",
       "        const docLinkHtml = 'Like what you see? Visit the ' +\n",
       "          '<a target=\"_blank\" href=https://colab.research.google.com/notebooks/data_table.ipynb>data table notebook</a>'\n",
       "          + ' to learn more about interactive tables.';\n",
       "        element.innerHTML = '';\n",
       "        dataTable['output_type'] = 'display_data';\n",
       "        await google.colab.output.renderOutput(dataTable, element);\n",
       "        const docLink = document.createElement('div');\n",
       "        docLink.innerHTML = docLinkHtml;\n",
       "        element.appendChild(docLink);\n",
       "      }\n",
       "    </script>\n",
       "  </div>\n",
       "  \n",
       "    </div>\n",
       "  </div>\n",
       "  "
      ],
      "text/plain": [
       "       total_area  living_area  rooms  kitchen_area  balcony\n",
       "13287        35.0         19.1      1           8.2      NaN\n",
       "17048        45.9         30.8      2           6.5      NaN\n",
       "23297        48.2         42.2      2           6.0      1.0\n",
       "18227        72.6         36.6      2           NaN      0.0\n",
       "18195        61.3         33.4      2          11.5      0.0"
      ]
     },
     "execution_count": 447,
     "metadata": {},
     "output_type": "execute_result"
    }
   ],
   "source": [
    "df[['total_area', 'living_area', 'rooms', 'kitchen_area', 'balcony']].sample(5)"
   ]
  },
  {
   "cell_type": "code",
   "execution_count": 448,
   "metadata": {},
   "outputs": [
    {
     "data": {
      "text/plain": [
       "23575"
      ]
     },
     "execution_count": 448,
     "metadata": {},
     "output_type": "execute_result"
    }
   ],
   "source": [
    "df.shape[0]"
   ]
  },
  {
   "cell_type": "code",
   "execution_count": 449,
   "metadata": {},
   "outputs": [],
   "source": [
    "kitchen_ratio = df.groupby('rooms')['kitchen_area'].transform(\n",
    "    lambda x: x.median() / df.loc[x.index, 'total_area'].median() \n",
    "    if len(x) >= 30 \n",
    "    else df['kitchen_area'].median() / df['total_area'].median()\n",
    ")\n",
    "\n",
    "living_ratio = df.groupby('rooms')['living_area'].transform(\n",
    "    lambda x: x.median() / df.loc[x.index, 'total_area'].median()\n",
    "    if len(x) >= 30 \n",
    "    else df['living_area'].median() / df['total_area'].median()\n",
    ")\n",
    "\n",
    "df['kitchen_area'] = df['kitchen_area'].fillna(df['total_area'] * kitchen_ratio)\n",
    "df['living_area'] = df['living_area'].fillna(df['total_area'] * living_ratio)\n"
   ]
  },
  {
   "cell_type": "code",
   "execution_count": 450,
   "metadata": {},
   "outputs": [
    {
     "data": {
      "text/plain": [
       "23575"
      ]
     },
     "execution_count": 450,
     "metadata": {},
     "output_type": "execute_result"
    }
   ],
   "source": [
    "df.shape[0]"
   ]
  },
  {
   "cell_type": "markdown",
   "metadata": {},
   "source": [
    "Признак является ли квартира аппартаментом имеет много пропусков.  \n",
    "Определить является ли квартира аппартаментом мы не можем, поэтому заменим на значение \"не указано\"."
   ]
  },
  {
   "cell_type": "code",
   "execution_count": 452,
   "metadata": {},
   "outputs": [],
   "source": [
    "df['is_apartment'] = df.is_apartment.astype(str).map({'True': 'да', 'False': 'нет'}).fillna(\"не указано\").astype('category')"
   ]
  },
  {
   "cell_type": "markdown",
   "metadata": {},
   "source": [
    "Пропуски в названии населенного пункта мы заменить не можем, и их очень мало, поэтому удалим их."
   ]
  },
  {
   "cell_type": "code",
   "execution_count": 239,
   "metadata": {},
   "outputs": [],
   "source": [
    "df = df.dropna(subset=['locality_name'])"
   ]
  },
  {
   "cell_type": "code",
   "execution_count": 240,
   "metadata": {},
   "outputs": [
    {
     "data": {
      "text/plain": [
       "23527"
      ]
     },
     "execution_count": 240,
     "metadata": {},
     "output_type": "execute_result"
    }
   ],
   "source": [
    "df.shape[0] "
   ]
  },
  {
   "cell_type": "code",
   "execution_count": 241,
   "metadata": {
    "id": "MHHD3xlGrRTV"
   },
   "outputs": [
    {
     "data": {
      "text/html": [
       "\n",
       "  <div id=\"df-09b61d04-4400-439e-82b6-3aa5735dd43e\" class=\"colab-df-container\">\n",
       "    <div>\n",
       "<style scoped>\n",
       "    .dataframe tbody tr th:only-of-type {\n",
       "        vertical-align: middle;\n",
       "    }\n",
       "\n",
       "    .dataframe tbody tr th {\n",
       "        vertical-align: top;\n",
       "    }\n",
       "\n",
       "    .dataframe thead th {\n",
       "        text-align: right;\n",
       "    }\n",
       "</style>\n",
       "<table border=\"1\" class=\"dataframe\">\n",
       "  <thead>\n",
       "    <tr style=\"text-align: right;\">\n",
       "      <th></th>\n",
       "      <th>missed</th>\n",
       "    </tr>\n",
       "  </thead>\n",
       "  <tbody>\n",
       "    <tr>\n",
       "      <th>ceiling_height</th>\n",
       "      <td>9084 (38.6%)</td>\n",
       "    </tr>\n",
       "    <tr>\n",
       "      <th>is_apartment</th>\n",
       "      <td>20780 (88.3%)</td>\n",
       "    </tr>\n",
       "    <tr>\n",
       "      <th>balcony</th>\n",
       "      <td>11463 (48.7%)</td>\n",
       "    </tr>\n",
       "    <tr>\n",
       "      <th>airports_nearest</th>\n",
       "      <td>5514 (23.4%)</td>\n",
       "    </tr>\n",
       "    <tr>\n",
       "      <th>city_centers_nearest</th>\n",
       "      <td>5491 (23.3%)</td>\n",
       "    </tr>\n",
       "    <tr>\n",
       "      <th>parks_around3000</th>\n",
       "      <td>5490 (23.3%)</td>\n",
       "    </tr>\n",
       "    <tr>\n",
       "      <th>parks_nearest</th>\n",
       "      <td>15513 (65.9%)</td>\n",
       "    </tr>\n",
       "    <tr>\n",
       "      <th>ponds_around3000</th>\n",
       "      <td>5490 (23.3%)</td>\n",
       "    </tr>\n",
       "    <tr>\n",
       "      <th>ponds_nearest</th>\n",
       "      <td>14506 (61.7%)</td>\n",
       "    </tr>\n",
       "    <tr>\n",
       "      <th>days_exposition</th>\n",
       "      <td>3163 (13.4%)</td>\n",
       "    </tr>\n",
       "  </tbody>\n",
       "</table>\n",
       "</div>\n",
       "    <div class=\"colab-df-buttons\">\n",
       "      \n",
       "  <div class=\"colab-df-container\">\n",
       "    <button class=\"colab-df-convert\" onclick=\"convertToInteractive('df-09b61d04-4400-439e-82b6-3aa5735dd43e')\"\n",
       "            title=\"Convert this dataframe to an interactive table.\"\n",
       "            style=\"display:none;\">\n",
       "      \n",
       "  <svg xmlns=\"http://www.w3.org/2000/svg\" height=\"24px\" viewBox=\"0 -960 960 960\">\n",
       "    <path d=\"M120-120v-720h720v720H120Zm60-500h600v-160H180v160Zm220 220h160v-160H400v160Zm0 220h160v-160H400v160ZM180-400h160v-160H180v160Zm440 0h160v-160H620v160ZM180-180h160v-160H180v160Zm440 0h160v-160H620v160Z\"/>\n",
       "  </svg>\n",
       "    </button>\n",
       "    \n",
       "  <style>\n",
       "    .colab-df-container {\n",
       "      display:flex;\n",
       "      gap: 12px;\n",
       "    }\n",
       "\n",
       "    .colab-df-convert {\n",
       "      background-color: #E8F0FE;\n",
       "      border: none;\n",
       "      border-radius: 50%;\n",
       "      cursor: pointer;\n",
       "      display: none;\n",
       "      fill: #1967D2;\n",
       "      height: 32px;\n",
       "      padding: 0 0 0 0;\n",
       "      width: 32px;\n",
       "    }\n",
       "\n",
       "    .colab-df-convert:hover {\n",
       "      background-color: #E2EBFA;\n",
       "      box-shadow: 0px 1px 2px rgba(60, 64, 67, 0.3), 0px 1px 3px 1px rgba(60, 64, 67, 0.15);\n",
       "      fill: #174EA6;\n",
       "    }\n",
       "\n",
       "    .colab-df-buttons div {\n",
       "      margin-bottom: 4px;\n",
       "    }\n",
       "\n",
       "    [theme=dark] .colab-df-convert {\n",
       "      background-color: #3B4455;\n",
       "      fill: #D2E3FC;\n",
       "    }\n",
       "\n",
       "    [theme=dark] .colab-df-convert:hover {\n",
       "      background-color: #434B5C;\n",
       "      box-shadow: 0px 1px 3px 1px rgba(0, 0, 0, 0.15);\n",
       "      filter: drop-shadow(0px 1px 2px rgba(0, 0, 0, 0.3));\n",
       "      fill: #FFFFFF;\n",
       "    }\n",
       "  </style>\n",
       "\n",
       "    <script>\n",
       "      const buttonEl =\n",
       "        document.querySelector('#df-09b61d04-4400-439e-82b6-3aa5735dd43e button.colab-df-convert');\n",
       "      buttonEl.style.display =\n",
       "        google.colab.kernel.accessAllowed ? 'block' : 'none';\n",
       "\n",
       "      async function convertToInteractive(key) {\n",
       "        const element = document.querySelector('#df-09b61d04-4400-439e-82b6-3aa5735dd43e');\n",
       "        const dataTable =\n",
       "          await google.colab.kernel.invokeFunction('convertToInteractive',\n",
       "                                                    [key], {});\n",
       "        if (!dataTable) return;\n",
       "\n",
       "        const docLinkHtml = 'Like what you see? Visit the ' +\n",
       "          '<a target=\"_blank\" href=https://colab.research.google.com/notebooks/data_table.ipynb>data table notebook</a>'\n",
       "          + ' to learn more about interactive tables.';\n",
       "        element.innerHTML = '';\n",
       "        dataTable['output_type'] = 'display_data';\n",
       "        await google.colab.output.renderOutput(dataTable, element);\n",
       "        const docLink = document.createElement('div');\n",
       "        docLink.innerHTML = docLinkHtml;\n",
       "        element.appendChild(docLink);\n",
       "      }\n",
       "    </script>\n",
       "  </div>\n",
       "  \n",
       "    </div>\n",
       "  </div>\n",
       "  "
      ],
      "text/plain": [
       "                             missed\n",
       "ceiling_height         9084 (38.6%)\n",
       "is_apartment          20780 (88.3%)\n",
       "balcony               11463 (48.7%)\n",
       "airports_nearest       5514 (23.4%)\n",
       "city_centers_nearest   5491 (23.3%)\n",
       "parks_around3000       5490 (23.3%)\n",
       "parks_nearest         15513 (65.9%)\n",
       "ponds_around3000       5490 (23.3%)\n",
       "ponds_nearest         14506 (61.7%)\n",
       "days_exposition        3163 (13.4%)"
      ]
     },
     "metadata": {},
     "output_type": "display_data"
    }
   ],
   "source": [
    "pagri_data_tools.check_missed_value_in_df(df)"
   ]
  },
  {
   "cell_type": "markdown",
   "metadata": {},
   "source": [
    "Остальные пропуски оставим как есть, чтобы не исказить данные.  "
   ]
  },
  {
   "cell_type": "markdown",
   "metadata": {
    "id": "c0oIFJ3rrRTs"
   },
   "source": [
    "###  Приведение данных к удобной форме"
   ]
  },
  {
   "cell_type": "markdown",
   "metadata": {
    "id": "kTgi0zcjrRTt"
   },
   "source": [
    "Изменим значения в столбцах на более удобные"
   ]
  },
  {
   "cell_type": "code",
   "execution_count": null,
   "metadata": {
    "id": "m_envHF-rRTu"
   },
   "outputs": [],
   "source": [
    "df.studio = df.studio.astype(str).map({'True': 'да', 'False': 'нет'}).astype('category')"
   ]
  },
  {
   "cell_type": "code",
   "execution_count": null,
   "metadata": {},
   "outputs": [],
   "source": [
    "df.open_plan = df.open_plan.astype(str).map({'True': 'да', 'False': 'нет'}).astype('category')"
   ]
  },
  {
   "cell_type": "markdown",
   "metadata": {},
   "source": [
    "Изменим типы данных на более подходящие."
   ]
  },
  {
   "cell_type": "markdown",
   "metadata": {},
   "source": [
    "Убедимся, что у нас нет дробных чисел в цене.  "
   ]
  },
  {
   "cell_type": "code",
   "execution_count": 465,
   "metadata": {},
   "outputs": [
    {
     "data": {
      "text/plain": [
       "0"
      ]
     },
     "execution_count": 465,
     "metadata": {},
     "output_type": "execute_result"
    }
   ],
   "source": [
    "(df.last_price != df.last_price.astype(int)).sum()"
   ]
  },
  {
   "cell_type": "markdown",
   "metadata": {},
   "source": [
    "Приведем цену к целому типу.  "
   ]
  },
  {
   "cell_type": "code",
   "execution_count": 466,
   "metadata": {},
   "outputs": [],
   "source": [
    "df.last_price = df.last_price.astype(int)"
   ]
  },
  {
   "cell_type": "code",
   "execution_count": null,
   "metadata": {},
   "outputs": [],
   "source": []
  },
  {
   "cell_type": "markdown",
   "metadata": {
    "id": "pivCz8UGrRVT"
   },
   "source": [
    "### Промежуточный вывод"
   ]
  },
  {
   "cell_type": "markdown",
   "metadata": {
    "id": "fEqgwfVYrRVV"
   },
   "source": [
    ">пишем как обработали данные, например"
   ]
  },
  {
   "cell_type": "markdown",
   "metadata": {
    "id": "mZWnmjS0rRVX"
   },
   "source": [
    "- Удалили колонки с id образования и семейного статуса, так как нам для графиков лучше подойдут названия, а не id.\n",
    "- Колонка со стажем имеет совершенно некорректные данные. Чтобы не внести искажение в анализ, удалим эту колонку.\n",
    "- Удалили отрицательные значения в колонке с количеством детей, которые составляли 0,2% от общего количества записей в данных."
   ]
  },
  {
   "cell_type": "markdown",
   "metadata": {},
   "source": [
    "## Создание новых переменных"
   ]
  },
  {
   "cell_type": "markdown",
   "metadata": {},
   "source": [
    "### Категоризация данных"
   ]
  },
  {
   "cell_type": "code",
   "execution_count": null,
   "metadata": {},
   "outputs": [
    {
     "data": {
      "text/html": [
       "\n",
       "  <div id=\"df-05eca9ed-7d13-4f8d-a13f-9f91dad940d7\" class=\"colab-df-container\">\n",
       "    <div>\n",
       "<style scoped>\n",
       "    .dataframe tbody tr th:only-of-type {\n",
       "        vertical-align: middle;\n",
       "    }\n",
       "\n",
       "    .dataframe tbody tr th {\n",
       "        vertical-align: top;\n",
       "    }\n",
       "\n",
       "    .dataframe thead th {\n",
       "        text-align: right;\n",
       "    }\n",
       "</style>\n",
       "<table border=\"1\" class=\"dataframe\">\n",
       "  <thead>\n",
       "    <tr style=\"text-align: right;\">\n",
       "      <th></th>\n",
       "      <th>total_images</th>\n",
       "      <th>last_price</th>\n",
       "      <th>total_area</th>\n",
       "      <th>first_day_exposition</th>\n",
       "      <th>rooms</th>\n",
       "      <th>ceiling_height</th>\n",
       "      <th>floors_total</th>\n",
       "      <th>living_area</th>\n",
       "      <th>floor</th>\n",
       "      <th>is_apartment</th>\n",
       "      <th>...</th>\n",
       "      <th>kitchen_area</th>\n",
       "      <th>balcony</th>\n",
       "      <th>locality_name</th>\n",
       "      <th>airports_nearest</th>\n",
       "      <th>city_centers_nearest</th>\n",
       "      <th>parks_around3000</th>\n",
       "      <th>parks_nearest</th>\n",
       "      <th>ponds_around3000</th>\n",
       "      <th>ponds_nearest</th>\n",
       "      <th>days_exposition</th>\n",
       "    </tr>\n",
       "  </thead>\n",
       "  <tbody>\n",
       "    <tr>\n",
       "      <th>0</th>\n",
       "      <td>20</td>\n",
       "      <td>13000000</td>\n",
       "      <td>108.0</td>\n",
       "      <td>2019-03-07</td>\n",
       "      <td>3</td>\n",
       "      <td>2.7</td>\n",
       "      <td>16.0</td>\n",
       "      <td>51.0</td>\n",
       "      <td>8</td>\n",
       "      <td>не указано</td>\n",
       "      <td>...</td>\n",
       "      <td>25.0</td>\n",
       "      <td>NaN</td>\n",
       "      <td>Санкт-Петербург</td>\n",
       "      <td>18863.0</td>\n",
       "      <td>16028.0</td>\n",
       "      <td>1.0</td>\n",
       "      <td>482.0</td>\n",
       "      <td>2.0</td>\n",
       "      <td>755.0</td>\n",
       "      <td>NaN</td>\n",
       "    </tr>\n",
       "  </tbody>\n",
       "</table>\n",
       "<p>1 rows × 22 columns</p>\n",
       "</div>\n",
       "    <div class=\"colab-df-buttons\">\n",
       "      \n",
       "  <div class=\"colab-df-container\">\n",
       "    <button class=\"colab-df-convert\" onclick=\"convertToInteractive('df-05eca9ed-7d13-4f8d-a13f-9f91dad940d7')\"\n",
       "            title=\"Convert this dataframe to an interactive table.\"\n",
       "            style=\"display:none;\">\n",
       "      \n",
       "  <svg xmlns=\"http://www.w3.org/2000/svg\" height=\"24px\" viewBox=\"0 -960 960 960\">\n",
       "    <path d=\"M120-120v-720h720v720H120Zm60-500h600v-160H180v160Zm220 220h160v-160H400v160Zm0 220h160v-160H400v160ZM180-400h160v-160H180v160Zm440 0h160v-160H620v160ZM180-180h160v-160H180v160Zm440 0h160v-160H620v160Z\"/>\n",
       "  </svg>\n",
       "    </button>\n",
       "    \n",
       "  <style>\n",
       "    .colab-df-container {\n",
       "      display:flex;\n",
       "      gap: 12px;\n",
       "    }\n",
       "\n",
       "    .colab-df-convert {\n",
       "      background-color: #E8F0FE;\n",
       "      border: none;\n",
       "      border-radius: 50%;\n",
       "      cursor: pointer;\n",
       "      display: none;\n",
       "      fill: #1967D2;\n",
       "      height: 32px;\n",
       "      padding: 0 0 0 0;\n",
       "      width: 32px;\n",
       "    }\n",
       "\n",
       "    .colab-df-convert:hover {\n",
       "      background-color: #E2EBFA;\n",
       "      box-shadow: 0px 1px 2px rgba(60, 64, 67, 0.3), 0px 1px 3px 1px rgba(60, 64, 67, 0.15);\n",
       "      fill: #174EA6;\n",
       "    }\n",
       "\n",
       "    .colab-df-buttons div {\n",
       "      margin-bottom: 4px;\n",
       "    }\n",
       "\n",
       "    [theme=dark] .colab-df-convert {\n",
       "      background-color: #3B4455;\n",
       "      fill: #D2E3FC;\n",
       "    }\n",
       "\n",
       "    [theme=dark] .colab-df-convert:hover {\n",
       "      background-color: #434B5C;\n",
       "      box-shadow: 0px 1px 3px 1px rgba(0, 0, 0, 0.15);\n",
       "      filter: drop-shadow(0px 1px 2px rgba(0, 0, 0, 0.3));\n",
       "      fill: #FFFFFF;\n",
       "    }\n",
       "  </style>\n",
       "\n",
       "    <script>\n",
       "      const buttonEl =\n",
       "        document.querySelector('#df-05eca9ed-7d13-4f8d-a13f-9f91dad940d7 button.colab-df-convert');\n",
       "      buttonEl.style.display =\n",
       "        google.colab.kernel.accessAllowed ? 'block' : 'none';\n",
       "\n",
       "      async function convertToInteractive(key) {\n",
       "        const element = document.querySelector('#df-05eca9ed-7d13-4f8d-a13f-9f91dad940d7');\n",
       "        const dataTable =\n",
       "          await google.colab.kernel.invokeFunction('convertToInteractive',\n",
       "                                                    [key], {});\n",
       "        if (!dataTable) return;\n",
       "\n",
       "        const docLinkHtml = 'Like what you see? Visit the ' +\n",
       "          '<a target=\"_blank\" href=https://colab.research.google.com/notebooks/data_table.ipynb>data table notebook</a>'\n",
       "          + ' to learn more about interactive tables.';\n",
       "        element.innerHTML = '';\n",
       "        dataTable['output_type'] = 'display_data';\n",
       "        await google.colab.output.renderOutput(dataTable, element);\n",
       "        const docLink = document.createElement('div');\n",
       "        docLink.innerHTML = docLinkHtml;\n",
       "        element.appendChild(docLink);\n",
       "      }\n",
       "    </script>\n",
       "  </div>\n",
       "  \n",
       "    </div>\n",
       "  </div>\n",
       "  "
      ],
      "text/plain": [
       "   total_images  last_price  total_area first_day_exposition  rooms  \\\n",
       "0            20    13000000       108.0           2019-03-07      3   \n",
       "\n",
       "   ceiling_height  floors_total  living_area  floor is_apartment  ...  \\\n",
       "0             2.7          16.0         51.0      8   не указано  ...   \n",
       "\n",
       "  kitchen_area balcony    locality_name  airports_nearest  \\\n",
       "0         25.0     NaN  Санкт-Петербург           18863.0   \n",
       "\n",
       "  city_centers_nearest  parks_around3000  parks_nearest  ponds_around3000  \\\n",
       "0              16028.0               1.0          482.0               2.0   \n",
       "\n",
       "   ponds_nearest  days_exposition  \n",
       "0          755.0              NaN  \n",
       "\n",
       "[1 rows x 22 columns]"
      ]
     },
     "metadata": {},
     "output_type": "display_data"
    }
   ],
   "source": [
    "df.head(1)"
   ]
  },
  {
   "cell_type": "markdown",
   "metadata": {},
   "source": [
    "Создадим новую категориальную переменную из этажа.  \n",
    "Сделаем 3 значения - первый, последний и другой"
   ]
  },
  {
   "cell_type": "code",
   "execution_count": 13,
   "metadata": {},
   "outputs": [],
   "source": [
    "df['floor_position'] = df.apply(lambda x: 'первый' if x['floor'] == 1 else 'последний' if x['floor'] == x['floors_total'] else 'другой', axis=1).astype('category')"
   ]
  },
  {
   "cell_type": "code",
   "execution_count": 14,
   "metadata": {},
   "outputs": [
    {
     "data": {
      "text/html": [
       "\n",
       "        <div style=\"display: flex; justify-content: flex-start; align-items: flex-end;\">\n",
       "            <style type=\"text/css\">\n",
       "#T_ce98b caption {\n",
       "  font-size: 16px;\n",
       "  text-align: left;\n",
       "  font-weight: bold;\n",
       "}\n",
       "#T_ce98b_row0_col0, #T_ce98b_row0_col1, #T_ce98b_row0_col2, #T_ce98b_row0_col3, #T_ce98b_row1_col0, #T_ce98b_row1_col1, #T_ce98b_row1_col2, #T_ce98b_row1_col3, #T_ce98b_row2_col0, #T_ce98b_row2_col1, #T_ce98b_row2_col2, #T_ce98b_row2_col3, #T_ce98b_row3_col0, #T_ce98b_row3_col1, #T_ce98b_row3_col2, #T_ce98b_row3_col3, #T_ce98b_row4_col0, #T_ce98b_row4_col1, #T_ce98b_row4_col2, #T_ce98b_row4_col3, #T_ce98b_row5_col0, #T_ce98b_row5_col1, #T_ce98b_row5_col2, #T_ce98b_row5_col3, #T_ce98b_row6_col0, #T_ce98b_row6_col1, #T_ce98b_row6_col2, #T_ce98b_row6_col3 {\n",
       "  text-align: left;\n",
       "}\n",
       "</style>\n",
       "<table id=\"T_ce98b\">\n",
       "  <caption>floor_position</caption>\n",
       "  <thead>\n",
       "  </thead>\n",
       "  <tbody>\n",
       "    <tr>\n",
       "      <td id=\"T_ce98b_row0_col0\" class=\"data row0 col0\" >Values</td>\n",
       "      <td id=\"T_ce98b_row0_col1\" class=\"data row0 col1\" >23 699 (100%)</td>\n",
       "      <td id=\"T_ce98b_row0_col2\" class=\"data row0 col2\" >                              </td>\n",
       "      <td id=\"T_ce98b_row0_col3\" class=\"data row0 col3\" >другой (74%)</td>\n",
       "    </tr>\n",
       "    <tr>\n",
       "      <td id=\"T_ce98b_row1_col0\" class=\"data row1 col0\" >Missing</td>\n",
       "      <td id=\"T_ce98b_row1_col1\" class=\"data row1 col1\" >---</td>\n",
       "      <td id=\"T_ce98b_row1_col2\" class=\"data row1 col2\" >                              </td>\n",
       "      <td id=\"T_ce98b_row1_col3\" class=\"data row1 col3\" >последний (14%)</td>\n",
       "    </tr>\n",
       "    <tr>\n",
       "      <td id=\"T_ce98b_row2_col0\" class=\"data row2 col0\" >Distinct</td>\n",
       "      <td id=\"T_ce98b_row2_col1\" class=\"data row2 col1\" >3 (<1%)</td>\n",
       "      <td id=\"T_ce98b_row2_col2\" class=\"data row2 col2\" >                              </td>\n",
       "      <td id=\"T_ce98b_row2_col3\" class=\"data row2 col3\" >первый (12%)</td>\n",
       "    </tr>\n",
       "    <tr>\n",
       "      <td id=\"T_ce98b_row3_col0\" class=\"data row3 col0\" >Duplicated origin</td>\n",
       "      <td id=\"T_ce98b_row3_col1\" class=\"data row3 col1\" >23 696 (99.9%)</td>\n",
       "      <td id=\"T_ce98b_row3_col2\" class=\"data row3 col2\" >                              </td>\n",
       "      <td id=\"T_ce98b_row3_col3\" class=\"data row3 col3\" ></td>\n",
       "    </tr>\n",
       "    <tr>\n",
       "      <td id=\"T_ce98b_row4_col0\" class=\"data row4 col0\" >Dupl (modify - origin)</td>\n",
       "      <td id=\"T_ce98b_row4_col1\" class=\"data row4 col1\" >---</td>\n",
       "      <td id=\"T_ce98b_row4_col2\" class=\"data row4 col2\" >                              </td>\n",
       "      <td id=\"T_ce98b_row4_col3\" class=\"data row4 col3\" ></td>\n",
       "    </tr>\n",
       "    <tr>\n",
       "      <td id=\"T_ce98b_row5_col0\" class=\"data row5 col0\" >Empty</td>\n",
       "      <td id=\"T_ce98b_row5_col1\" class=\"data row5 col1\" >---</td>\n",
       "      <td id=\"T_ce98b_row5_col2\" class=\"data row5 col2\" >                              </td>\n",
       "      <td id=\"T_ce98b_row5_col3\" class=\"data row5 col3\" ></td>\n",
       "    </tr>\n",
       "    <tr>\n",
       "      <td id=\"T_ce98b_row6_col0\" class=\"data row6 col0\" >RAM (Mb)</td>\n",
       "      <td id=\"T_ce98b_row6_col1\" class=\"data row6 col1\" ><1 Mb</td>\n",
       "      <td id=\"T_ce98b_row6_col2\" class=\"data row6 col2\" >                              </td>\n",
       "      <td id=\"T_ce98b_row6_col3\" class=\"data row6 col3\" ></td>\n",
       "    </tr>\n",
       "  </tbody>\n",
       "</table>\n",
       "\n",
       "            <div>\n",
       "                <img src=\"data:image/png;base64,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\" alt=\"График\"/>\n",
       "            </div>\n",
       "        </div>\n",
       "        "
      ],
      "text/plain": [
       "<IPython.core.display.HTML object>"
      ]
     },
     "metadata": {},
     "output_type": "display_data"
    }
   ],
   "source": [
    "pagri_data_tools.my_info_column(df, 'floor_position')"
   ]
  },
  {
   "cell_type": "markdown",
   "metadata": {},
   "source": [
    "Создадим новую категориальную переменную из цены"
   ]
  },
  {
   "cell_type": "code",
   "execution_count": null,
   "metadata": {},
   "outputs": [
    {
     "data": {
      "text/html": [
       "<style type=\"text/css\">\n",
       "#T_3ca77 caption {\n",
       "  font-size: 15px;\n",
       "}\n",
       "#T_3ca77_row0_col0, #T_3ca77_row0_col1, #T_3ca77_row1_col0, #T_3ca77_row1_col1, #T_3ca77_row2_col0, #T_3ca77_row2_col1, #T_3ca77_row3_col0, #T_3ca77_row3_col1, #T_3ca77_row4_col0, #T_3ca77_row4_col1, #T_3ca77_row5_col0, #T_3ca77_row5_col1, #T_3ca77_row6_col0, #T_3ca77_row6_col1 {\n",
       "  text-align: left;\n",
       "}\n",
       "</style>\n",
       "<table id=\"T_3ca77\" class=\"dataframe\">\n",
       "  <caption>Quantiles</caption>\n",
       "  <thead>\n",
       "  </thead>\n",
       "  <tbody>\n",
       "    <tr>\n",
       "      <td id=\"T_3ca77_row0_col0\" class=\"data row0 col0\" >Max</td>\n",
       "      <td id=\"T_3ca77_row0_col1\" class=\"data row0 col1\" >763 000 000</td>\n",
       "    </tr>\n",
       "    <tr>\n",
       "      <td id=\"T_3ca77_row1_col0\" class=\"data row1 col0\" >5</td>\n",
       "      <td id=\"T_3ca77_row1_col1\" class=\"data row1 col1\" >1 870 000</td>\n",
       "    </tr>\n",
       "    <tr>\n",
       "      <td id=\"T_3ca77_row2_col0\" class=\"data row2 col0\" >25</td>\n",
       "      <td id=\"T_3ca77_row2_col1\" class=\"data row2 col1\" >3 400 000</td>\n",
       "    </tr>\n",
       "    <tr>\n",
       "      <td id=\"T_3ca77_row3_col0\" class=\"data row3 col0\" >50</td>\n",
       "      <td id=\"T_3ca77_row3_col1\" class=\"data row3 col1\" >4 650 000</td>\n",
       "    </tr>\n",
       "    <tr>\n",
       "      <td id=\"T_3ca77_row4_col0\" class=\"data row4 col0\" >75</td>\n",
       "      <td id=\"T_3ca77_row4_col1\" class=\"data row4 col1\" >6 800 000</td>\n",
       "    </tr>\n",
       "    <tr>\n",
       "      <td id=\"T_3ca77_row5_col0\" class=\"data row5 col0\" >95</td>\n",
       "      <td id=\"T_3ca77_row5_col1\" class=\"data row5 col1\" >15 300 000</td>\n",
       "    </tr>\n",
       "    <tr>\n",
       "      <td id=\"T_3ca77_row6_col0\" class=\"data row6 col0\" >Min</td>\n",
       "      <td id=\"T_3ca77_row6_col1\" class=\"data row6 col1\" >12 190</td>\n",
       "    </tr>\n",
       "  </tbody>\n",
       "</table>\n"
      ],
      "text/plain": [
       "<pandas.io.formats.style.Styler at 0x7819e05ecfa0>"
      ]
     },
     "metadata": {},
     "output_type": "display_data"
    }
   ],
   "source": [
    "pagri_data_tools.quantiles_columns(df.last_price)"
   ]
  },
  {
   "cell_type": "code",
   "execution_count": 15,
   "metadata": {},
   "outputs": [],
   "source": [
    "labels = ['эконом', 'комфорт', 'премиум']\n",
    "bins = [-np.inf, 4_000_000, 10_000_000, np.inf]"
   ]
  },
  {
   "cell_type": "code",
   "execution_count": null,
   "metadata": {},
   "outputs": [],
   "source": [
    "df['price_segment'] = pagri_data_tools.create_category_column(df.last_price, labels=labels, bins=bins).astype('category')"
   ]
  },
  {
   "cell_type": "code",
   "execution_count": 17,
   "metadata": {},
   "outputs": [
    {
     "data": {
      "text/html": [
       "\n",
       "        <div style=\"display: flex; justify-content: flex-start; align-items: flex-end;\">\n",
       "            <style type=\"text/css\">\n",
       "#T_c018f caption {\n",
       "  font-size: 16px;\n",
       "  text-align: left;\n",
       "  font-weight: bold;\n",
       "}\n",
       "#T_c018f_row0_col0, #T_c018f_row0_col1, #T_c018f_row0_col2, #T_c018f_row0_col3, #T_c018f_row1_col0, #T_c018f_row1_col1, #T_c018f_row1_col2, #T_c018f_row1_col3, #T_c018f_row2_col0, #T_c018f_row2_col1, #T_c018f_row2_col2, #T_c018f_row2_col3, #T_c018f_row3_col0, #T_c018f_row3_col1, #T_c018f_row3_col2, #T_c018f_row3_col3, #T_c018f_row4_col0, #T_c018f_row4_col1, #T_c018f_row4_col2, #T_c018f_row4_col3, #T_c018f_row5_col0, #T_c018f_row5_col1, #T_c018f_row5_col2, #T_c018f_row5_col3, #T_c018f_row6_col0, #T_c018f_row6_col1, #T_c018f_row6_col2, #T_c018f_row6_col3 {\n",
       "  text-align: left;\n",
       "}\n",
       "</style>\n",
       "<table id=\"T_c018f\">\n",
       "  <caption>price_segment</caption>\n",
       "  <thead>\n",
       "  </thead>\n",
       "  <tbody>\n",
       "    <tr>\n",
       "      <td id=\"T_c018f_row0_col0\" class=\"data row0 col0\" >Values</td>\n",
       "      <td id=\"T_c018f_row0_col1\" class=\"data row0 col1\" >23 699 (100%)</td>\n",
       "      <td id=\"T_c018f_row0_col2\" class=\"data row0 col2\" >                              </td>\n",
       "      <td id=\"T_c018f_row0_col3\" class=\"data row0 col3\" >комфорт (50%)</td>\n",
       "    </tr>\n",
       "    <tr>\n",
       "      <td id=\"T_c018f_row1_col0\" class=\"data row1 col0\" >Missing</td>\n",
       "      <td id=\"T_c018f_row1_col1\" class=\"data row1 col1\" >---</td>\n",
       "      <td id=\"T_c018f_row1_col2\" class=\"data row1 col2\" >                              </td>\n",
       "      <td id=\"T_c018f_row1_col3\" class=\"data row1 col3\" >эконом (38%)</td>\n",
       "    </tr>\n",
       "    <tr>\n",
       "      <td id=\"T_c018f_row2_col0\" class=\"data row2 col0\" >Distinct</td>\n",
       "      <td id=\"T_c018f_row2_col1\" class=\"data row2 col1\" >3 (<1%)</td>\n",
       "      <td id=\"T_c018f_row2_col2\" class=\"data row2 col2\" >                              </td>\n",
       "      <td id=\"T_c018f_row2_col3\" class=\"data row2 col3\" >премиум (11%)</td>\n",
       "    </tr>\n",
       "    <tr>\n",
       "      <td id=\"T_c018f_row3_col0\" class=\"data row3 col0\" >Duplicated origin</td>\n",
       "      <td id=\"T_c018f_row3_col1\" class=\"data row3 col1\" >23 696 (99.9%)</td>\n",
       "      <td id=\"T_c018f_row3_col2\" class=\"data row3 col2\" >                              </td>\n",
       "      <td id=\"T_c018f_row3_col3\" class=\"data row3 col3\" ></td>\n",
       "    </tr>\n",
       "    <tr>\n",
       "      <td id=\"T_c018f_row4_col0\" class=\"data row4 col0\" >Dupl (modify - origin)</td>\n",
       "      <td id=\"T_c018f_row4_col1\" class=\"data row4 col1\" >---</td>\n",
       "      <td id=\"T_c018f_row4_col2\" class=\"data row4 col2\" >                              </td>\n",
       "      <td id=\"T_c018f_row4_col3\" class=\"data row4 col3\" ></td>\n",
       "    </tr>\n",
       "    <tr>\n",
       "      <td id=\"T_c018f_row5_col0\" class=\"data row5 col0\" >Empty</td>\n",
       "      <td id=\"T_c018f_row5_col1\" class=\"data row5 col1\" >---</td>\n",
       "      <td id=\"T_c018f_row5_col2\" class=\"data row5 col2\" >                              </td>\n",
       "      <td id=\"T_c018f_row5_col3\" class=\"data row5 col3\" ></td>\n",
       "    </tr>\n",
       "    <tr>\n",
       "      <td id=\"T_c018f_row6_col0\" class=\"data row6 col0\" >RAM (Mb)</td>\n",
       "      <td id=\"T_c018f_row6_col1\" class=\"data row6 col1\" ><1 Mb</td>\n",
       "      <td id=\"T_c018f_row6_col2\" class=\"data row6 col2\" >                              </td>\n",
       "      <td id=\"T_c018f_row6_col3\" class=\"data row6 col3\" ></td>\n",
       "    </tr>\n",
       "  </tbody>\n",
       "</table>\n",
       "\n",
       "            <div>\n",
       "                <img src=\"data:image/png;base64,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\" alt=\"График\"/>\n",
       "            </div>\n",
       "        </div>\n",
       "        "
      ],
      "text/plain": [
       "<IPython.core.display.HTML object>"
      ]
     },
     "metadata": {},
     "output_type": "display_data"
    }
   ],
   "source": [
    "pagri_data_tools.my_info_column(df, 'price_segment')"
   ]
  },
  {
   "cell_type": "markdown",
   "metadata": {},
   "source": [
    "Создадим переменные день недели, месяц и год публикации объявления."
   ]
  },
  {
   "cell_type": "code",
   "execution_count": 19,
   "metadata": {},
   "outputs": [],
   "source": [
    "weekday_dict = {\n",
    "    'Monday': 'Понедельник',\n",
    "    'Tuesday': 'Вторник',\n",
    "    'Wednesday': 'Среда',\n",
    "    'Thursday': 'Четверг',\n",
    "    'Friday': 'Пятница',\n",
    "    'Saturday': 'Суббота',\n",
    "    'Sunday': 'Воскресенье'\n",
    "}\n",
    "month_dict = {\n",
    "    1: 'Январь',\n",
    "    2: 'Февраль',\n",
    "    3: 'Март',\n",
    "    4: 'Апрель',\n",
    "    5: 'Май',\n",
    "    6: 'Июнь',\n",
    "    7: 'Июль',\n",
    "    8: 'Август',\n",
    "    9: 'Сентябрь',\n",
    "    10: 'Октябрь',\n",
    "    11: 'Ноябрь',\n",
    "    12: 'Декабрь'\n",
    "}"
   ]
  },
  {
   "cell_type": "code",
   "execution_count": 20,
   "metadata": {},
   "outputs": [],
   "source": [
    "df['publication_weekday'] = df['first_day_exposition'].dt.day_name().map(weekday_dict).astype('category')\n",
    "df['publication_month'] = df['first_day_exposition'].dt.month.map(month_dict).astype('category')\n",
    "df['publication_year'] = df['first_day_exposition'].dt.year.astype(str).astype('category')"
   ]
  },
  {
   "cell_type": "code",
   "execution_count": 21,
   "metadata": {},
   "outputs": [
    {
     "data": {
      "text/html": [
       "\n",
       "        <div style=\"display: flex; justify-content: flex-start; align-items: flex-end;\">\n",
       "            <style type=\"text/css\">\n",
       "#T_528d8 caption {\n",
       "  font-size: 16px;\n",
       "  text-align: left;\n",
       "  font-weight: bold;\n",
       "}\n",
       "#T_528d8_row0_col0, #T_528d8_row0_col1, #T_528d8_row0_col2, #T_528d8_row0_col3, #T_528d8_row1_col0, #T_528d8_row1_col1, #T_528d8_row1_col2, #T_528d8_row1_col3, #T_528d8_row2_col0, #T_528d8_row2_col1, #T_528d8_row2_col2, #T_528d8_row2_col3, #T_528d8_row3_col0, #T_528d8_row3_col1, #T_528d8_row3_col2, #T_528d8_row3_col3, #T_528d8_row4_col0, #T_528d8_row4_col1, #T_528d8_row4_col2, #T_528d8_row4_col3, #T_528d8_row5_col0, #T_528d8_row5_col1, #T_528d8_row5_col2, #T_528d8_row5_col3, #T_528d8_row6_col0, #T_528d8_row6_col1, #T_528d8_row6_col2, #T_528d8_row6_col3 {\n",
       "  text-align: left;\n",
       "}\n",
       "</style>\n",
       "<table id=\"T_528d8\">\n",
       "  <caption>publication_weekday</caption>\n",
       "  <thead>\n",
       "  </thead>\n",
       "  <tbody>\n",
       "    <tr>\n",
       "      <td id=\"T_528d8_row0_col0\" class=\"data row0 col0\" >Values</td>\n",
       "      <td id=\"T_528d8_row0_col1\" class=\"data row0 col1\" >23 699 (100%)</td>\n",
       "      <td id=\"T_528d8_row0_col2\" class=\"data row0 col2\" >                              </td>\n",
       "      <td id=\"T_528d8_row0_col3\" class=\"data row0 col3\" >Четверг (18%)</td>\n",
       "    </tr>\n",
       "    <tr>\n",
       "      <td id=\"T_528d8_row1_col0\" class=\"data row1 col0\" >Missing</td>\n",
       "      <td id=\"T_528d8_row1_col1\" class=\"data row1 col1\" >---</td>\n",
       "      <td id=\"T_528d8_row1_col2\" class=\"data row1 col2\" >                              </td>\n",
       "      <td id=\"T_528d8_row1_col3\" class=\"data row1 col3\" >Вторник (18%)</td>\n",
       "    </tr>\n",
       "    <tr>\n",
       "      <td id=\"T_528d8_row2_col0\" class=\"data row2 col0\" >Distinct</td>\n",
       "      <td id=\"T_528d8_row2_col1\" class=\"data row2 col1\" >7 (<1%)</td>\n",
       "      <td id=\"T_528d8_row2_col2\" class=\"data row2 col2\" >                              </td>\n",
       "      <td id=\"T_528d8_row2_col3\" class=\"data row2 col3\" >Пятница (17%)</td>\n",
       "    </tr>\n",
       "    <tr>\n",
       "      <td id=\"T_528d8_row3_col0\" class=\"data row3 col0\" >Duplicated origin</td>\n",
       "      <td id=\"T_528d8_row3_col1\" class=\"data row3 col1\" >23 692 (99.9%)</td>\n",
       "      <td id=\"T_528d8_row3_col2\" class=\"data row3 col2\" >                              </td>\n",
       "      <td id=\"T_528d8_row3_col3\" class=\"data row3 col3\" >Среда (17%)</td>\n",
       "    </tr>\n",
       "    <tr>\n",
       "      <td id=\"T_528d8_row4_col0\" class=\"data row4 col0\" >Dupl (modify - origin)</td>\n",
       "      <td id=\"T_528d8_row4_col1\" class=\"data row4 col1\" >---</td>\n",
       "      <td id=\"T_528d8_row4_col2\" class=\"data row4 col2\" >                              </td>\n",
       "      <td id=\"T_528d8_row4_col3\" class=\"data row4 col3\" >Понедельник (15%)</td>\n",
       "    </tr>\n",
       "    <tr>\n",
       "      <td id=\"T_528d8_row5_col0\" class=\"data row5 col0\" >Empty</td>\n",
       "      <td id=\"T_528d8_row5_col1\" class=\"data row5 col1\" >---</td>\n",
       "      <td id=\"T_528d8_row5_col2\" class=\"data row5 col2\" >                              </td>\n",
       "      <td id=\"T_528d8_row5_col3\" class=\"data row5 col3\" >Суббота (8%)</td>\n",
       "    </tr>\n",
       "    <tr>\n",
       "      <td id=\"T_528d8_row6_col0\" class=\"data row6 col0\" >RAM (Mb)</td>\n",
       "      <td id=\"T_528d8_row6_col1\" class=\"data row6 col1\" ><1 Mb</td>\n",
       "      <td id=\"T_528d8_row6_col2\" class=\"data row6 col2\" >                              </td>\n",
       "      <td id=\"T_528d8_row6_col3\" class=\"data row6 col3\" >Воскресенье (7%)</td>\n",
       "    </tr>\n",
       "  </tbody>\n",
       "</table>\n",
       "\n",
       "            <div>\n",
       "                <img src=\"data:image/png;base64,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\" alt=\"График\"/>\n",
       "            </div>\n",
       "        </div>\n",
       "        "
      ],
      "text/plain": [
       "<IPython.core.display.HTML object>"
      ]
     },
     "metadata": {},
     "output_type": "display_data"
    }
   ],
   "source": [
    "pagri_data_tools.my_info_column(df, 'publication_weekday')"
   ]
  },
  {
   "cell_type": "code",
   "execution_count": 22,
   "metadata": {},
   "outputs": [
    {
     "data": {
      "text/html": [
       "\n",
       "        <div style=\"display: flex; justify-content: flex-start; align-items: flex-end;\">\n",
       "            <style type=\"text/css\">\n",
       "#T_dbef4 caption {\n",
       "  font-size: 16px;\n",
       "  text-align: left;\n",
       "  font-weight: bold;\n",
       "}\n",
       "#T_dbef4_row0_col0, #T_dbef4_row0_col1, #T_dbef4_row0_col2, #T_dbef4_row0_col3, #T_dbef4_row1_col0, #T_dbef4_row1_col1, #T_dbef4_row1_col2, #T_dbef4_row1_col3, #T_dbef4_row2_col0, #T_dbef4_row2_col1, #T_dbef4_row2_col2, #T_dbef4_row2_col3, #T_dbef4_row3_col0, #T_dbef4_row3_col1, #T_dbef4_row3_col2, #T_dbef4_row3_col3, #T_dbef4_row4_col0, #T_dbef4_row4_col1, #T_dbef4_row4_col2, #T_dbef4_row4_col3, #T_dbef4_row5_col0, #T_dbef4_row5_col1, #T_dbef4_row5_col2, #T_dbef4_row5_col3, #T_dbef4_row6_col0, #T_dbef4_row6_col1, #T_dbef4_row6_col2, #T_dbef4_row6_col3 {\n",
       "  text-align: left;\n",
       "}\n",
       "</style>\n",
       "<table id=\"T_dbef4\">\n",
       "  <caption>publication_month</caption>\n",
       "  <thead>\n",
       "  </thead>\n",
       "  <tbody>\n",
       "    <tr>\n",
       "      <td id=\"T_dbef4_row0_col0\" class=\"data row0 col0\" >Values</td>\n",
       "      <td id=\"T_dbef4_row0_col1\" class=\"data row0 col1\" >23 699 (100%)</td>\n",
       "      <td id=\"T_dbef4_row0_col2\" class=\"data row0 col2\" >                              </td>\n",
       "      <td id=\"T_dbef4_row0_col3\" class=\"data row0 col3\" >Февраль (11%)</td>\n",
       "    </tr>\n",
       "    <tr>\n",
       "      <td id=\"T_dbef4_row1_col0\" class=\"data row1 col0\" >Missing</td>\n",
       "      <td id=\"T_dbef4_row1_col1\" class=\"data row1 col1\" >---</td>\n",
       "      <td id=\"T_dbef4_row1_col2\" class=\"data row1 col2\" >                              </td>\n",
       "      <td id=\"T_dbef4_row1_col3\" class=\"data row1 col3\" >Март (11%)</td>\n",
       "    </tr>\n",
       "    <tr>\n",
       "      <td id=\"T_dbef4_row2_col0\" class=\"data row2 col0\" >Distinct</td>\n",
       "      <td id=\"T_dbef4_row2_col1\" class=\"data row2 col1\" >12 (<1%)</td>\n",
       "      <td id=\"T_dbef4_row2_col2\" class=\"data row2 col2\" >                              </td>\n",
       "      <td id=\"T_dbef4_row2_col3\" class=\"data row2 col3\" >Апрель (10%)</td>\n",
       "    </tr>\n",
       "    <tr>\n",
       "      <td id=\"T_dbef4_row3_col0\" class=\"data row3 col0\" >Duplicated origin</td>\n",
       "      <td id=\"T_dbef4_row3_col1\" class=\"data row3 col1\" >23 687 (99.9%)</td>\n",
       "      <td id=\"T_dbef4_row3_col2\" class=\"data row3 col2\" >                              </td>\n",
       "      <td id=\"T_dbef4_row3_col3\" class=\"data row3 col3\" >Ноябрь (10%)</td>\n",
       "    </tr>\n",
       "    <tr>\n",
       "      <td id=\"T_dbef4_row4_col0\" class=\"data row4 col0\" >Dupl (modify - origin)</td>\n",
       "      <td id=\"T_dbef4_row4_col1\" class=\"data row4 col1\" >---</td>\n",
       "      <td id=\"T_dbef4_row4_col2\" class=\"data row4 col2\" >                              </td>\n",
       "      <td id=\"T_dbef4_row4_col3\" class=\"data row4 col3\" >Октябрь (9%)</td>\n",
       "    </tr>\n",
       "    <tr>\n",
       "      <td id=\"T_dbef4_row5_col0\" class=\"data row5 col0\" >Empty</td>\n",
       "      <td id=\"T_dbef4_row5_col1\" class=\"data row5 col1\" >---</td>\n",
       "      <td id=\"T_dbef4_row5_col2\" class=\"data row5 col2\" >                              </td>\n",
       "      <td id=\"T_dbef4_row5_col3\" class=\"data row5 col3\" >Сентябрь (8%)</td>\n",
       "    </tr>\n",
       "    <tr>\n",
       "      <td id=\"T_dbef4_row6_col0\" class=\"data row6 col0\" >RAM (Mb)</td>\n",
       "      <td id=\"T_dbef4_row6_col1\" class=\"data row6 col1\" ><1 Mb</td>\n",
       "      <td id=\"T_dbef4_row6_col2\" class=\"data row6 col2\" >                              </td>\n",
       "      <td id=\"T_dbef4_row6_col3\" class=\"data row6 col3\" >Июнь (7%)</td>\n",
       "    </tr>\n",
       "  </tbody>\n",
       "</table>\n",
       "\n",
       "            <div>\n",
       "                <img src=\"data:image/png;base64,iVBORw0KGgoAAAANSUhEUgAAAfQAAADcCAYAAACGXlNlAAAgAElEQVR4Xu2dB3QV1fbGNyU0CSWEEikR4SHdUAM+EAHpXWn6QAWpEaSDCEov0pHeQUoQULqANAMIGKQ/Ov5RmkHpvfNf337v5oU0bpI7NzNzv7OWy3DvzJlzfmfP/Wbvc+bsJM+ePXsmLCRAAiRAAiRAApYmkISCbunxY+NJgARIgARIQAlQ0GkIJEACJEACJGADAhR0Gwwiu0ACJEACJEACFHTaAAmQAAmQAAnYgAAF3aBB/Mc//iGnTp0yqHZWSwIkQAIkQALPE6CgG2QREPS9Ow8J3yEwCDCrJQESIAELE0j1UnJJ+ZKXS3tAQXcpzv9VBkGf+OlSufTbDYOuwGpJgARIgASsSCBlmuRSuU1R8X3F26XNp6C7FOfzgj6mdbD8efK6QVdgtSRAAiRAAlYkAM+8ZpdikvmVdC5tvikE/ZdffpGePXtKSEiISzuXmJXBQ6egJ+YI8NokQAIkYE4CthT0AwcOyNixY+XEiRNy7do18ff3l7Jly0r37t3F29u1oQh3DysF3d3EeT0SIAESsAYB2wl6WFiY1KhRQ0aPHi2pU6eWzz77TH744Qfp37+/3LlzRyZPnqwjs2XLFj3m3r17kiNHDhk3bpz4+PhIhw4dBJ59mjRpBLvXNm3aVIKCguTQoUNaV2BgoK4yv3XrlvTt21dKlSolT58+lYEDB8q2bdvk8ePHUqZMGRk6dKgkT55cr1WlShWty8vLS9C+rl27SvPmzfXcZcuW6QOHs4WC7iwpHkcCJEACnkXAdoI+d+5c2bVrl0ybNk2F2RFyv3r1qooxvHeIce3atWXBggWSP39+mTVrlvz6668yZcoUFfQ333xTGjdurOKLv3fv3q1/16tXT2bOnCkVKlTQMP7gwYNl48aNsmHDBn0gWLlypQp3/fr15ZNPPtFr4N+FCxeWnTt3Svr06aVbt24SEBDglKCfO3cuijVWqlSJIXfPukfZWxIgARJwioDtBH3UqFFy8+ZN9Zgjz6EXKlRI1qxZo5+vX79eIP4o8NxLliypXniXLl3CBf3s2bPyzjvvyPbt2+XMmTPSrFkz2bdvn54DT7xAgQJaFzz7Bw8eSMqUKfW7Pn36qNffvn17fRBAxGD//v36XVwEvUWLFlEGcceOHRR0p0ybB5EACZCAZxGwnaAHBwer1zx79uznBP3vv/+WcuXKqYc+f/58mThxomTMmDF8tOG1Q+TxIHDw4EFJly6dXLhwQTp16iQQ1qNHj6pAR1xgV7RoUfXKIejDhg2T48ePa5j9/Pnz6oHDSw8NDdXw+4oVK6IVdD8/Pw3F42EAoX20MbbCkLtn3aDsLQmQAAk4S8B2gn7jxg2pXLmyiigWwGHee+3atfLll19KihQpZPjw4SrC69atk6lTp0bhFDHkDpGHdw3xx7nvvfeePhAkSZJEPXKE0uGhT5gwQe7fvy+DBg1SQcc1c+bMqYKOBwx49SNHjozVQ8eDAqYHUB8F3Vnz5XEkQAIkQAIOArYTdHQMnvKAAQPk9OnTGn7PkiWLinzv3r3VE758+bLUqlVLFi9eLLlz59ZQ+/Lly6Vfv37PzaE/fPhQqlatqg8B8NgRfsfqeYg8PG7M0+PBAA8BxYoVk48//livif9j/rxHjx76HebcGzVqFKugQ8g7duyoHj0FnTcoCZAACZBAXAnYUtAdEGJ7D33r1q2C+XZ41vDksWId8+gQ4L179+pnmCd/++239UHg2LFjKrj4N1bIw0tHmL1EiRLqgUO88bBQpEgRwcK1Xr166XdYjLdw4UJdNY8SeQ49U6ZM6tU/efJEX6vDgwcFPa5mzONJgARIgARsLeiuHF7MoUPQN2/e7Mpq41wX59DjjIwnkAAJkIBHEKCgOznMZhL0eQPWyJVzt5xsOQ8jARIgARLwBAJeqZNLqQZ5JFNO126gZoqtX105gGYSdKZPdeXIsi4SIAESIIHYCNhO0M0y3MyHbpaRYDtIgARIwDMIUNANGmcKukFgWS0JkAAJkEC0BCjoBhkGBP2H+dvlwZ1HBl2B1ZIACZAACZiVQLa8GcTX37Vz5C/qKwX9RYTi+T1XuccTHE8jARIgAYsTSJJEpHaPEuKX73+7nLqjS7YRdMee7Q0aNJARI0Y8xw7vrn/77bf6jrojs5rRcCnoRhNm/SRAAiRgTgIU9ASOCwQdu8BhAxjs9Z4qVSqt8dGjR1K9enVNvoK93ynoCQTN00mABEiABGIlQEFPoIFA0F9//XXdIa5atWpSs2ZNrfGnn37S7WKRa93hoS9ZskSmT5+uO8xlz55dd6JD8pUZM2Zochfs/46d4yD+Y8aMkSFDhsjJkycFaVLxwIDd5LBlbenSpWNsNT30BA4oTycBEiABixKgoCdw4CDOSLs6adIkWbZsWXhCF2zTWqVKFd0qFoKOPePLly+vudGROvXzzz+XZMmSacKWOXPmyPjx43WXOQg3Qvc4HvnUURo2bCiffvqppm19UaGgv4gQvycBEiABexKgoCdwXB2CfvjwYRVcR9gdHjsEGhnXHB469oV3hORXrVol33//veZch6BjX3lHdrddu3ZpmlYkdolN0JcuXRql9XhQGNM6WP48eT2BPePpJEACJEACViJAQU/gaDkE/cSJE+p1I/lKhgwZNOT+1VdfCTxmCDq8cXjxjsQtSOP68ssvyzfffKOCjmMci+rwcNC2bVvZuXNnrIKObG6RC8L4FPQEDipPJwESIAELEqCgJ3DQIgr67t27ZfLkyZpKtUmTJhpidwj6pk2bNC86UrIiUxvm1/GfQ9Ah3phLR9m+fbvma3+Rhx5d0xlyT+CA8nQSIAESsCgBCnoCBy6ioD99+lTnzZE6FXPl8Modgh4cHKxCjUVxmB/HnPjt27d13h0e+tdffy2rV6/W+XVHXvb+/fvH6qFT0BM4eDydBEiABGxEgIKewMGMKOioCp71w4cPxSHGDkGHiLdp00bFHCvbO3fuLO3bt5f69etL1qxZZf/+/brK/fjx47oCHgLv6+tLQU/g+PB0EiABEvAUAhR0E4w0PHRkSMPDQEILQ+4JJcjzSYAESMCaBCjoJhg3CroJBoFNIAESIAGLE6Cgm2AAXS3oa+dtk3u3HpqgZ2wCCZAACZCAOwlkL+gjvjmZnMWdzA27FtOnGoaWFZMACZAACURDwDbJWcw2uhR0s40I20MCJEAC9iZAQTdofCnoBoFltSRAAiRAAtESoKAbZBgQ9PlDfpBrF28bdAVWSwIkQAIkEBuBotX8JXsBH4+BREE3aKj52ppBYFktCZAACThJoPqnAZKr6H/2EfGEYglBb9y4sdy9e1fWrFljmTGhoFtmqNhQEiABmxKgoJtsYLHRy/Dhw3X7VuzoVqxYMZO1MPrmUNAtMUxsJAmQgI0JUNBNNrgQ87x580rKlCllz549ms4U5eTJk1K3bl3JnTu3/htbuULsJ06cKK1atdK927F96/Xr1yV//vx6npeXl2ZZGz16tNy7d0/3ax83bpz4+PxnjgX7vz979kyPCwsLk65du0rz5s2lVKlSute7v7+/03Qo6E6j4oEkQAIkYAgBCrohWONX6ZMnT1RkkbMcHnq1atUE2dJSpEihgt6yZUvZsWOHVr5kyRLZtm2bCnq7du3k6tWrsmjRIkmaNKlmXPvggw9UmGvXri0LFixQkZ81a5b8+uuvMmXKFBVy5ExHtrX06dNLt27dJCAggIIev6HjWSRAAiSQ6AQo6Ik+BP9rAHKZI7Xp+PHj9cMePXpI5cqVpXr16i8U9MDAQGnRooWeBy/c4amvX79e5s6dq5/fuXNHSpYsKYcOHZIrV65IjRo1NDkLSlwEvXv37lGorVy5kvnQTWRLbAoJkIDnEaCgm2jMkdoUog7vHAUee9myZWXatGkvFHR49u+++66eN3PmTDly5IgUKFBAPfiMGTOG9/LWrVsCkf/99981KcuKFSuiFXRkZkMoHqH/oKAgKVeuXHgdBw8ejEKtYcOGFHQT2RKbQgIk4HkEKOgmGXPMiUOUkbscIXYUpEiFkP7www9y+fLlWEPu8Lwxl44yatQozXmOOfZ169bJ1KlTo/QSedL37dsnI0eOjNVDDwkJkZ49e8ovv/wSKynOoZvEkNgMEiABjyVAQTfJ0C9cuFBCQ0PDw+2OZiHsjrlueOqxzaFD8DFXjtKgQQOBt4859Fq1asnixYt1MR1C7Qjp9+vXTzp06CAVKlSQRo0axSroEPKOHTtq22IrFHSTGBKbQQIk4LEEKOgmGXqErD/66CNdxBaxbNy4USZNmiQjRoyIVdAh2FjwhtXq5cuXl0GDBmnofuvWreqx379/X7y9vaVv376yevVqFXc8RKRJkyZaQc+UKZMkT55cw/6YM8dcPgXdJMbCZpAACZBANAQo6DYwC6xyxwK3evXqJVpv6KEnGnpemARIgASUAAXdBoZgFkEf3/5bCTt93QZE2QUSIAESsB6BKu2LSs4i3PrVeiMXocVmEfRta/fI08dPLc2SjScBEiABqxJInT6F+GRPa9Xmx7ndltjLPc69MsEJTJ9qgkFgE0iABEjAgwhQ0A0abAq6QWBZLQmQAAmQQLQEKOgGGQYEfc+OgyLPDLoAqyUBEiABEoiRQMq0ySV12v/sYeIphYJu0EhD0Kf2+F7+PnPToCuwWhIgARIggegIeKVOJm9+UFAyv5LOowB5pKCfP39et3jFznBIyjJnzhyXDzpfW3M5UlZIAiRAAk4RSJEmudTsUlyy5KagOwXMyIOwxSv2Xce2r9myZQu/FIQXO7VFt3Wrs+1Zu3atZldDgpdChQppmlWkUXV1oaC7mijrIwESIAHnCFDQnePklqOMEnSkVMW2rci2hkQrRhYKupF0WTcJkAAJxEyAgm4i63BG0J8+fappUZEpLUmSJFKkSBHp37+/pE2bVrdwhWgjMxrqQmrUPXv2yJo1a+Ts2bNy5swZQYa07Nmzy4ABAyRXrlwyY8YMOXr0qDx48EBzqWOb1zFjxkiWLFl0D/hly5aJv7+/05Qo6E6j4oEkQAIk4FICFHSX4kxYZc4IOsQZofdvv/1W91/v1KmT5MyZU5OwFC1aVMUbovrHH38I9oWHoCN1Kj4fPXq0FCxYUAX7wIEDMn/+fJ1HR971zZs3C/Ztx17xyPg2ePDgFwo68qpHLgEBAUyfmjAz4NkkQAIkEC8CFPR4YTPmJIeg+/j4qPftKEioUqZMGRVyJEiBKCPjGsqOHTs09enSpUulePHignSo8NojCjpEGgvivv76az0HnnhgYKB65sjMFnF+fteuXTJw4EBNt/oiD71+/fpRQCD/+pjWwfLnSW79aoyVsFYSIAESiJ4ABd1EluEQ9JUrV0rmzJnDWwZv/N///rcKOoS8Tp06mhoVBZ9jy1cIO7zwIUOGSMaMGTV0/ueff6qHPnbsWLlx44aG5lGwwj1fvnyyc+dOPefYsWPqmaMcPnxY2rZtq99B0P38/HTeHWH8oKAgzcseW2HI3UQGxaaQAAl4FAEKuomG25mQO/Kiw0Nv0aKFthwr4pEWFQ8BFy5ckCZNmujft2/fDg+5w3vHcRE9dHj88KbhoUO8MZfuqG/o0KFRPPSQkBDp2bOnevMUdBMZDZtCAiRAAv8lQEE3kSk4I+gIheP1s8WLF6vXjLlzeMWdO3eWVq1aqQeNfOoRQ+6XLl2SunXrqtDjdTh4+hBmzJ/jPwg9cqPjNbbevXtrvfDmI4bccTxWyoeGhlLQTWQzbAoJkAAJOAhQ0E1kC84IOsLlEyZMELxXjr9Lliwpffv2la1bt8qkSZNk1apVGm6PKOjoIgQbDwK4BoR70KBButodgr5//35d5X78+HH9DALv6+urgo6FcqjvyZMnOn9fuXJlCrqJbIZNIQESIAEKOtSQRQX91KlTgjC7Kwrn0F1BkXWQAAmQQNwJ0EOPOzNbnWGEoM/ss1Iu/3HLVpzYGRIgARIwOwGvVMnkjaavia+/t9mb6tL2eeRe7tERNELQfwk5wGxrLjVXVkYCJEACzhFInc5LUnsz25pztHhUrASYD50GQgIkQAIk4E4C9NANok1BNwgsqyUBEiABEoiWAAXdIMOAoO9Y/6s8efTUoCuwWhIgARIwB4GkyZNIppxpxStlcnM0yENb4ZGCznzoHmrt7DYJkIAhBDLl8paaXYp53Jy1ITATUKkpBB2Z07AoDVu7QmzTpUsnlSpVkm7duun7364szIfuSpqsiwRIgAREKOjmsAJTCDqSoGzbtk1Tmb7++usSFham+67/3//9n24Egw1dXFGYD90VFFkHCZAACTxPgIJuDotIdEFH4pSKFSuqcGPe2VGwI1v16tWldevW0rhxY028UqNGDalXr57upZ4nTx5ZsWKFHn769GnJmzev/r18+XL57rvvmA/dHPbFVpAACXgAAQq6OQY50QUdW7RiK1bszR65wEv/7bffNI+5Q9Ah+kjMgv3Y4bljq9bChQtrtjXsvY5/uzsfenRDyZ3izGHgbAUJkIDxBCjoxjN25gqJLugLFy6UDRs2yDfffBOlvfgOQo9MaBB07J++ZMkSFfTSpUvr8ZEF/eHDh27Ph7558+YobUd7mQ/dGRPkMSRAAlYnQEE3xwgmuqBv2bJFc5CvX78+CpFx48bpPDqSpEAgkeYUBQKaIsV/dgCKLOj4zN350IcNGxal7bNnz6agm8PG2QoSIAGDCVDQDQbsZPWJLuiXL1/WOXSscEd+c0fByveaNWtK27ZtpUGDBuEhd+Qsf+2116Rly5YxCjrzoTs5+jyMBEiABFxAgILuAoguqCLRBR19GD9+vKY7RaazgIAAuXbtmsDrRerT77//XpImTRou6MWKFZNGjRrJxo0b9fW26Dx05kN3gWWwChIgARJwkgAF3UlQBh9mCkFHBle8hx4cHCzwrr29vXW+HHPlGTNmVAQRV7n37t1bMmTIIL169Yoi6HjPnPnQDbYaVk8CJEACEQhQ0M1hDqYQdDOgMCLbGhfFmWFk2QYSIAGjCVDQjSbsXP0U9P9yoqA7ZzA8igRIgAQiE6Cgm8MmKOgGCvrqWT/JnesPzDHSbAUJkAAJGEQgVdoUkrdMVkmZxsugK7BaZwhQ0J2hFI9jmD41HtB4CgmQAAmQQLwJUNDjjS72EynoBoFltSRAAiRAAtESoKAbZBgUdIPAsloSIAESIAEKujttAIK+aibn0N3JnNciARKInUCSpEnk1RJZJOPLLxGVDQl4pIeOnOvI1LZv3z5xvAPv6rFlchZXE2V9JEACCSWQPEVSqdWthGTNkz6hVfF8ExJwm6DfunVLRo8eLT/++KPcuHFDcuTIIe+//758+OGHbsWCjWeQ3Q2pWQsVKqQpW9EWVxcKuquJsj4SIIGEEqCgJ5Sguc93i6Ajt3nTpk0lderUgl3e/P395dChQ9KnTx959913JSgoyC2Url69Kh07dtRc6V5exr5eQUF3y5DyIiRAAnEgQEGPAywLHuoWQd+0aZOK99atWyVNmjThmE6cOKFbvVaqVElu374t/fv3lwMHDggeANq3by+NGzfWY0uVKiXLli3TB4HHjx9LgQIFZPfu3dKsWTP9/vTp05I3b179e/ny5fLdd9+paCM/Oo6/cuWK7NmzR7OwnT17Vs6cOSMHDx6U7Nmzy4ABAyRXrlwyY8YMOXr0qG4lC+FHrvUxY8ZIlixZnru+s2NMQXeWFI8jARJwFwEKurtIJ8513CLoSLpy/fp1TZMaUxk8eLAmZcExN2/e1AxrkydP1gxs0Qk6hP+ll16Kspc7BLlo0aIq3hBVJHhp2LChCvrEiRP1c4T+US8EG/XMnz9f95JHkhikZs2UKVN4O9CuiNd3dpgo6M6S4nEkQALuIkBBdxfpxLmOWwQdYXYfHx9NthJTeeONN1RwixcvrocMHz5cQ/SdOnWKk6A/fPhQ60CilyJFijwn6HhYwII45FdHgSceGBionvmCBQvkl19+kalTp+p3u3btkoEDB8q6deteKOhDhgyJ0i1ECLiXe+IYNa9KAiQQPQEKur0twy2CDgH9/fff1SOOqRQuXFgzqCVLlkwPgTAjH/oXX3yhggqv2THvffz4cfWso/PQcS68cIgsMrUhdP7nn3+qhz527FhdkIfQPgpWuOfLl0+QYx3nHDt2LDyKcPjwYc3Fju9wfT8/P70+wviY8y9Xrlx4VzCVELm0adOGgm7ve4e9IwHLEaCgW27I4tRgtwg6RPGTTz7ROXSItqNg7nv16tXSpUsXTZc6YcIEDYVHLnEJueNczMs3adJEVq5cqXPzjpD70qVLZfv27c956GXKlJEjR46oh452Yi4dBcdhqiCyhx4SEiI9e/ZUbz62wpB7nOyQB5MACbiBAAXdDZAT8RJuEXT0D6+n3blzR73jPHnyqIgin/lHH30kzZs3V/G8d++ehrmxkG3kyJFSu3ZtnQ+Pq6C3atVKPWjUHXEO/dKlS1K3bl0V+mzZsml4HcKM+XP8h0gCHjDwGhumCeCNo70Rr4/jsVI+NDSUgp6IhstLkwAJxJ0ABT3uzKx0htsEHZ7yqFGjwt9Dx4r11q1b6+I3FHyPFed79+7Vf7/55pvSt29fDZnHRdDxnvmkSZNk1apVem5EQUe9EGy8h46HBgj3oEGDdLU7BH3//v26yA4hfXwGgff19Q0P+aM+rMDv3r27RhTooVvJ1NlWEiABCrq9bcBtgm52jMyHbvYRYvtIgAQSSoCCnlCC5j6fgv7f8aGgm9tQ2ToSIIGEE6CgJ5yhmWugoBso6Ds2/CpPHj018/izbSRAAh5EIImIpPVJJd6ZU3tQrz2nqxR0g8aa6VMNAstqSYAESIAEoiVAQTfIMCjoBoFltSRAAiRAAhR0d9oABD005IA7L8lrkQAJmJyAV6pkGvJmIQEjCNBDN4KqiO4jP/PzlXL5j5sGXYHVkgAJWI1AYON8kqOgj9WazfZahAAF3aCB4k5xBoFltSRgYQLVOgaI/+u+Fu4Bm25mApYXdEc61VOnToVzvnv3rlSpUkWwrSsyqyVGoaAnBnVekwTMTYCCbu7xsXrrbCnoSAKzZMkS+ec//0lBt7qFsv0kYCMCFHQbDaYJu2I7QUdiFmwni21lsYUrPHTkO0d2NvwdFhYmffr00S1c79+/r4lWkG414jEYJzwUYBtY7OnOfOgmtFw2iQQsSICCbsFBs1CTbSfon376qeTPn1/3Yt+2bVsUQUfWN3ju77//vop8586dZfPmzbJo0aJw0aegW8iC2VQSsBABCrqFBsuCTbWVoCPneY8ePWTDhg2yfv36KIKO5DABAQGyceNGyZIliw5X6dKlBWlVIf4OLz6ugl6nTp0oQ4/owJjWwfLnyesWNAs2mQRIwAgCFHQjqLJOBwHbCPqJEyc01N6uXTupUaOGpkiN6KGPGzdOU6aePHlSs6qlTZtWGVSsWFHGjh0rhw8fFhzz8ssv6+d///231KtXLzzk7ufnJ15eXppSNSgoSNOzOgrSvkYuSPtKQeeNRgIkEJEABZ32YCQBWwh64cKFNQ3q999/L8HBwcorsqDD+4aHXqRIEfXekTr12bNnUqJECVmxYoWEhIQ45aHjOMy7Iy96bIWr3I00W9ZNAtYkQEG35rhZpdW2EHSItI+Pj0yfPl0KFSoUo6BjUdzHH3+sYfeOHTtqaH7kyJGao33hwoVOCTqEHOeGhoZS0K1i5WwnCZiEAAXdJANh02bYQtALFCggDRs2lGHDhoUPU3QeOgT97NmzGkb/66+/NOw+cOBA9dpftMo9U6ZMkjx5cl0d3717d6lcuTIF3aY3BbtFAkYRoKAbRZb1goDlBd2sw8iQu1lHhu0igcQjQEFPPPaecGUKukGjDEGf1uN7+esM93I3CDGrJQHLEfhnswKSsxD3crfcwFmkwRR0gwYKgr5nxwGRpwZdgNWSAAlYjoBXquTyUsaUlms3G2wNAhR0g8aJ+dANAstqSYAESIAEoiVAQTfIMCjoBoFltSRAAiRAAhR0d9oABH37D3vkyWPG3N3JndciAbMRSJI0ifhkTyup0nqZrWlsj80I0EM3aEAh6OPafythp7j1q0GIWS0JWIJA+qxppFqH18XbN7Ul2stGWpeAJQV9y5Yt0q1bNxkwYIDUrVvXlPT52poph4WNIgG3E4Cg1+xSjILudvKed0FLCnqHDh2kbNmysmnTJpkzZ44pR42CbsphYaNIwO0EKOhuR+6xF7ScoF+/fl0aNWqk27UiCcu8efMka9asOoAQemzNmiZNGt2nvWnTpppIBbvAIb85krNgV7nMmTNrrvP+/fvreTdu3NCUqkjmsn37dk3S8ujRIwkMDNTd55DBDUldzp07J9gxDvUjOoBMbTEVCrrH3lPsOAk8R4CCToNwFwHLCfqCBQt029auXbvKxIkTNftZ69atwwX9zTfflMaNG0tYWJjg7927d8vatWuf26f9yJEj0rJlS/n55591O1ckZ1m1apVuA4uMbUjygqxr7du31+Qtbdu21fqxvSzyraPeFxUK+osI8XsS8AwCFHTPGGcz9NJygv7OO+9oQpU8efKox4x0qRBsh4fuEHTs2Y5j4XEvW7bsOUHHsVWrVpUvvvhCypcvr158pUqVdJ/2rVu3ytSpU7U+pEVNliyZpEiRIlZBP3ToUJSxfPfdd5k+1QwWzjaQQCIToKAn8gB40OUtJeinT5+WWrVqacjbUe7evaseNbKsIeR+8OBBSZcunVy4cEE6deokLVq0iJJ4BedOmDBBE7Ug7SrC7Vho9+233wquMWLEiGhNICYPHQv0Ihd4/MyH7kF3ErtKAjEQoKDTNNxFwFKCDqFNnz59eAgckLAoDuLdt29fFXSHh37r1i2dY0dY/vDhw1E89N9//13D6xB0iC9Sry5dulRTqs6cOVP5Y24dDwx+fn6xeujRDRZD7u4yYV6HBMxNgIJu7p45wrgAABOCSURBVPGxU+ssI+gIh0Osv/nmGw23OwrC7vCcMR/euXPncEF/+PChhtWHDx8up06diiLoOL9+/fpy7do1nY+vV6+ezrvjIWDJkiXy6quvan2FCxfmHLqdLJ59IQE3E6Cguxm4B1/OMoKOFeiDBw/W1e2RS506daRLly4aet+7d694e3vL48eP5e2339bc51hId+DAAUE+9Ihl9uzZ+hlWxiM3Osq6detk6NChej5C8fj7RXPo9NA9+A5i10ngBQQo6DQRdxGwjKAbAWTNmjX6gPD111+7vHqG3F2OlBWSgCUJUNAtOWyWbLTHCvrt27f1PXW8i16yZEmXDx4F3eVIWSEJWJIABd2Sw2bJRnukoG/evFkX0b333nv6XrkRBYI+f+hauXbxrhHVs04SIAGLEEiTPoUUr/2qePumskiL2UyrEvBIQXfHYDF9qjso8xokQAIkQAIOAhR0g2yBgm4QWFZLAiRAAiQQLQEKukGGQUE3CCyrJQESIAESoKC70wYg6Gvmhsj9W4/ceVleiwRIIBEIvOSTUvKWzpYIV+YlSeB/BOihG2QNXOVuEFhWSwImJPCPMn5SsVUhE7aMTfIkApYXdGwAg5So2A3OUbBda5UqVaRMmTJRNpNx1+BS0N1FmtchgcQnQEFP/DFgC0RsKejIfY7tW7HTW+Td4dw16BR0d5HmdUgg8QlQ0BN/DNgCGwo6ErUg6QpypB8/flwFPWLSltDQUP0MGduQGhVbu2bJkkVtAV79s2fPxMvLS/d1xx7vzZs3l1KlSmkKVn9/f6dthoLuNCoeSAKWJ0BBt/wQ2qIDtvPQsVFM/vz5JXv27IL93yMKOpKxIO/53LlzJW/evDJt2jQN1Y8aNUqFHIlYdu7cqRndkBI1ICCAgm4LM2cnSMBYAhR0Y/myducI2ErQ9+zZIz169NAUqOvXr48i6BB6CPXGjRuVDsQc+dJ37NgRnmlt//79+l1cBH3KlClRaCPsz3zozhkhjyIBqxOgoFt9BO3RftsI+okTJzTU3q5dO02BunLlyucE/eDBg5I8eXJJly6dfody8eJFDbMfOXJEEIpH+H3FihXRCjpyoiMUnzJlSgkKCpJy5cqFWwCyvEUuvXr1oqDb4x5hL0jghQQo6C9ExAPcQMAWgo5Q+aBBgzR9anBwsGKLLOjIpZ4vXz7p1KmThISE6DFHjx7VXOfbt2/X8/bt2ycjR46M1UPHuT179tSUq7EVzqG7wXp5CRIwCQEKukkGwsObYQtBL1KkiPj4+Mj06dOlUKH/vAsanaAjbzqEfdKkSVK6dGkZOHCg3L9/Xz1zLJyrUKGCNGrUKFZBh5B37NhRPXoKuoffPew+CfyXAAWdpmAGArYQdLyH3rBhQxk2bFg40+gEvXHjxuqN47hHjx5J7ty59W/kQz906JAsXLhQV7+jRJ5Dz5Qpk4bsnzx5It27d5fKlStT0M1gwWwDCZiAAAXdBIPAJlj/PXSzjiFD7mYdGbaLBFxPgILueqasMe4ELO+hx73L7jmDgu4ezrwKCZiBAAXdDKPANlDQDbIBCPq6+dvlwd3HBl2B1ZIACZiFQGpvL3m1VFazNIft8FACFHSDBp7pUw0Cy2pJgARIgASiJUBBN8gwKOgGgWW1JEACJEACFHR32gAF3Z20eS0SIAESIAF66AbZAAR97oDVcuXcbYOuwGpJgATcRSBHoUxSvHZud12O1yGBeBHwSEE/f/68bvGKneGQlGXOnDnxghfbSVzl7nKkrJAEEo1A/vIvy5sfFky06/PCJOAMAdMIOnZqQ1IVR8G+7CNGjHCmD3E6Zu3atYJkKtWrV9dd5SC8OXLkiFMdzhxMQXeGEo8hAWsQoKBbY5w8vZWmEfR33nlHt1QtX768zJ49W06fPu1yQb969apeA+lTkWjFyEJBN5Iu6yYB9xKgoLuXN68WPwKmEfTAwEDdehV5ymfOnCknT54MF/QtW7ZoXvN79+6pNz1u3Djdu92RWa1evXqaMAXpUVu2bClIgdq/f3+5ffu2pEiRQvr16ydlypSRNWvWyNmzZ+XMmTOC7GvImT5gwADJlSuXzJgxQ5O1PHjwQCD82OYVKVCzZMkipUqVkmXLlom/v7/TlCnoTqPigSRgegIUdNMPERsoYo6tX+/evSuvv/66iiz2Uo8o6GFhYVK7dm1ZsGCBCvasWbPk119/1bC5Q9AhnsiDjv3bIcS1atWSNm3aCIQenyEZy48//igTJ05UUcfDQcGCBVWwDxw4IPPnz9d59PHjx8vmzZsF+7Yj3H/z5k0ZPHgwBZ23Cgl4OAEKuocbgEW6bwoPHZ4xBHjHjh2KLaKgL168WNavX69hcpQ7d+5IyZIlNZkKwudIkrJkyRIVdGRQQ3n48KEKe9KkSeXSpUvy1ltvybFjx1SksSAOyVhQ4IkjMoDr44EBmdSmTp2q3+3atUuzsa1bt+6Fgv7hhx9GGe6dO3cyH7pFbgI2kwReRICC/iJC/N4MBEwh6EuXLlXhxNx5ZEFHSlR41hkzZgzndevWLRX5L7/8Uo4cOaKfw7NGeB0Fdc2bN08zqiE7GsT8xIkTMnbsWLlx44aG41Gwwh050iG+8Nwdoo/vDh8+rLnS8R1C7n5+fjrvnjJlSgkKCpJy5cqFt+fChQtRxhIPEWNaB8ufJ6+bYZzZBhIggQQQoKAnAB5PdRsBUwg60pG+8sormpM8sqAjZA6BdnjOEck4Qu4Q3ddee03nz69cuaJ5zfFaGubjL168KBUrVlRBx4MD0qdG9NAxt46HAnjoqAdz6Sg4DnnSI3voISEhOl8Pbz62wjl0t9kwL0QChhOgoBuOmBdwAYFEF3SExKtWrapi++qrr2qX4KmfOnVKvvrqKw2LY04coXfkL0eoffny5brQzSHoxYoVk0aNGsnGjRsFc+7NmjXT8L1jYdu0adPU44Z3XrduXZ1Xz5Ytmz4kQJgxf47/IPSrV6/WhXe9e/dWbxzefMRFcTgeof7Q0FAKugsMkFWQgBUIUNCtMEpsY6IK+m+//abvg8dUatasqQvVtm7dKqNGjZL79++Lt7e39O3bV+fRI65yhwBnyJBBevXqpfPpEFxfX1/p2rWrCjXm1fEgAMHGgrrHjx+rcA8aNEhXu0PQsToeq9yPHz+un+E81AFBx0I5PCAghI+IAubu6aHzBiIBzyBAQfeMcbZ6LxNd0LGgzLEYLiLMRYsWqfcMQXdHgaAjKoAwuysKQ+6uoMg6SMAcBCjo5hgHtiJ2AhT0//IxQtAndloql367SRskARKwOIG8gVnljaavWbwXbL7dCVDQDRT0vTsPybOnz+xuQ+wfCdieQNJkScTbN7Xt+8kOWptAogq6tdHF3nqmT7Xz6LJvJEACJGA+AhR0g8YEgs5CAiRAAiRAAu4iQEE3iDS2k8XGNR988IFBV7BHtdizH3vzT5482R4dMrAX7733nr55kTlzZgOvYv2qsREV3mCpX7++9TtjYA+whfZ3330nw4YNM/Aq9qgab1xhbxPH5mVm7RUF3aCRoaA7B5aC7hwnHEVBd44VBd05ThR05zjhKAq686xseSQF3blhpaA7x4mC7jwnCrpzrCjoznGioDvPybZHUtCdG1oKunOcKOjOc6KgO8eKgu4cJwq685xseyQF3bmhpaA7x4mC7jwnCrpzrCjoznGioDvPiUeSAAmQAAmQAAm4gAAXxbkAIqsgARIgARIggcQmQEFP7BHg9UmABEiABEjABQQo6C6AyCpIgARIgARIILEJUNATewR4fRIgARIgARJwAQEKugsgRq5i2rRpsnDhQs3BXq1aNfniiy80l7onloYNG8rRo0clSZIk2n3ks9+9e7f+vW3bNhk+fLj89ddfUrRoUfnqq6/Cd0HzFIarVq1S+wCHGjVqhJtITGwePHggffr0ke3bt0uaNGmkTZs2uuEMytmzZ+Xzzz+XY8eOSfbs2aVfv35SokQJW5gdbKhjx45Svnx56d+/f3if4mNfsTG0OqzNmzfLiBEj9J4qWLCgDB48WHLnzi3xtZvY7lErszp9+rTed8ePH5esWbNKr169pGLFivqb1KpVK/Hy8grv3meffSbNmzePN0N3cqKgu5g2crjjR3Xx4sX6gxsUFCRVqlSRZs2aufhK1qiuatWqMmnSJIm8t/2tW7ekcuXKAuEuUqSIbml65swZmTBhgngKw9mzZ0toaKj8/fff+iPiEPTY2IDTqVOnZOTIkXL58mVp0qSJoJ7XXntN/vWvf8nbb7+t2w3//PPP0rt3b/npp5+e+3GyhtU838p9+/apiOfLl0/Spk37nKDHx75iY2hFPo42h4WFqQ3NnDlTihUrplsqg92CBQv0/oqr3dy/fz/Ge9TKnNB2cGrcuLF89NFHsmPHDunQoYM6Gngg2rBhg/4ORS7xYRjxwcAdzCjoLqaMHx4/Pz9p27at1gwDwQ8uPHZPLGXLlpXly5dLtmzZnuv+unXrZOnSpcoGBSJWpkwZ2b9/vwwdOtQjGMLrLFCggHz44YfqZTsEPTY29erV0723AwIClBtYQeQg5nhAwrvFjmgQjsXDZWBgoKVN748//hBfX1+ZO3euPvxE9NDjY18xMfz0008tzQmCjvvHYUewL0RwIFj4LK52c/Xq1RjvUbPvaR7bQD5+/Fj7heiOQ3DxAIS92nfu3CmHDx/W+ypyiQ9Dd997FHQX38L4cX7//fc11I7y22+/abgGhuKJpVChQvLWW2/J3r17NZzerVs3/TeSscDD/PLLL8OxQNCDg4P1B9uTGMKjjijosbHBntK7du2SDBkyKLdFixbJnj17NAIElmvXrg3n2alTJ4HgNW3a1Bamh0hPZEGPj33FxHDs2LG24OToxPTp0+XIkSMyfvx4fXCMq91A0GO6RxHGt0s5ePCgeuhbt26VWbNmyfr163W6FP2vUKGC9O3bVx+a48PQ3fceBd3FVokwzieffKKGgHLx4kWpVauWPjl7Wnn69KmGfdH/N954Q2+Y7t27a0gLEYsnT55Iz549w7FgDgs/2hB0T2IYWdBHjx4dLRuEUOFVwINIlSqVckP0Azwh6BAkZM9yFMz9IRTfokULW5heZEGPj33FxnDq1Km24IROYI0FHvDwgJwpUyadT4+r3UDQYrpHUZ8dyrlz5/T+wHoTrM/AvQROH3/8sWbL7NKli+TJk0d/x+LD0N33HgXdxVaJORnMazrCXlh84ZincfGlLFkdhAcPPRcuXJBLly49Fz5FeGrJkiV6c3kSw8iCPmXKlBjZVK9eXefHfXx8dPzxYIR5UoTcsVgO4XpHQQi5XLlyytsOJToPPXK/nLGvmBjiQcoOBQstsf3tjBkzxN/fX7sE7zKudnPlypUY7dBRr5V5YUEcHAdMS2G6KrqCNS74ftOmTfFi6O57j4LuYoscOHCgpE+fXhDuRFm5cqV6UZj/87Ry9+5dwV7tjvle9B9CjQecpEmTyrx58zRkjIL5PywedMyhexLDyIIOLyEmNpj/xepcTE+g4McmZ86cyhVRIfwApU6dWr/DjxQWzxUvXtwWphdZ0ONrXzExbN++veU5QXgQqcHvDaa4HAVRsrjaDaY3YrJDq7+1gzdC4D3jjYCIb4LAAcObOFj5joKHILwpgAfl+DB0971HQXfxLYxFSV27dlVP86WXXtIVx/CeECr1tHLt2jV9FQTeAjzFkJAQDWFt3LhRUqZMKZUqVdL5vVKlSsmgQYMEP9AQIE9jGFnQb9++HSMbiBo8cvwf4ULYFmztlVdeUVtDlKNdu3Y6l44fdvzAJ0uWzBamF1nQ42tfsTG0MqgbN25I7dq1NcyeI0eO57oSH7u5d+9ejHZoZU5oOyI5uHciviqKzyHwJ06c0LcCEHJHlAvRjR49eug9Z/Z7j4JugGXitRE82WI1ZZ06dQRzmfBIPbFg3hzvlyO8jh8ZeJRYqIWC1bdDhgzRhU54ksVxGTNm1O88gSE8RXgEjx49UtGFjYwaNUp/ZGJig8U6CK3jfVk8MOLd7AYNGiiz8+fP6/u0eA89V65c6lkULlzY8mYHG0EkB/O5+JGFd4hQJqZm4mNfsTG0Mqxly5bpXG/kFeiwJdhKfOwmtnvUqqzwIAxnIjInPADD8cDaAzgfsDNEucANUS8r3HsUdKtaJdtNAiRAAiRAAhEIUNBpDiRAAiRAAiRgAwIUdBsMIrtAAiRAAiRAAhR02gAJkAAJkAAJ2IAABd0Gg8gukAAJkAAJkAAFnTZAAiRAAiRAAjYgQEG3wSCyCyRAAiRAAiRAQacNkAAJkAAJkIANCFDQbTCI7AIJkAAJkAAJUNBpAyRAAiRAAiRgAwIUdBsMIrtAAiRAAiRAAhR02gAJkAAJkAAJ2IAABd0Gg8gukAAJkAAJkAAFnTZAAiRAAiRAAjYgQEG3wSCyCyRAAiRAAiRAQacNkAAJkAAJkIANCFDQbTCI7AIJkAAJkAAJUNBpAyRAAiRAAiRgAwIUdBsMIrtAAiRAAiRAAhR02gAJkAAJkAAJ2IAABd0Gg8gukAAJkAAJkAAFnTZAAiRAAiRAAjYgQEG3wSCyCyRAAiRAAiRAQacNkAAJkAAJkIANCFDQbTCI7AIJkAAJkAAJUNBpAyRAAiRAAiRgAwIUdBsMIrtAAiRAAiRAAhR02gAJkAAJkAAJ2IDA/wPbNlyes8KQGQAAAABJRU5ErkJggg==\" alt=\"График\"/>\n",
       "            </div>\n",
       "        </div>\n",
       "        "
      ],
      "text/plain": [
       "<IPython.core.display.HTML object>"
      ]
     },
     "metadata": {},
     "output_type": "display_data"
    }
   ],
   "source": [
    "pagri_data_tools.my_info_column(df, 'publication_month')"
   ]
  },
  {
   "cell_type": "code",
   "execution_count": 23,
   "metadata": {},
   "outputs": [
    {
     "data": {
      "text/html": [
       "\n",
       "        <div style=\"display: flex; justify-content: flex-start; align-items: flex-end;\">\n",
       "            <style type=\"text/css\">\n",
       "#T_9655c caption {\n",
       "  font-size: 16px;\n",
       "  text-align: left;\n",
       "  font-weight: bold;\n",
       "}\n",
       "#T_9655c_row0_col0, #T_9655c_row0_col1, #T_9655c_row0_col2, #T_9655c_row0_col3, #T_9655c_row1_col0, #T_9655c_row1_col1, #T_9655c_row1_col2, #T_9655c_row1_col3, #T_9655c_row2_col0, #T_9655c_row2_col1, #T_9655c_row2_col2, #T_9655c_row2_col3, #T_9655c_row3_col0, #T_9655c_row3_col1, #T_9655c_row3_col2, #T_9655c_row3_col3, #T_9655c_row4_col0, #T_9655c_row4_col1, #T_9655c_row4_col2, #T_9655c_row4_col3, #T_9655c_row5_col0, #T_9655c_row5_col1, #T_9655c_row5_col2, #T_9655c_row5_col3, #T_9655c_row6_col0, #T_9655c_row6_col1, #T_9655c_row6_col2, #T_9655c_row6_col3 {\n",
       "  text-align: left;\n",
       "}\n",
       "</style>\n",
       "<table id=\"T_9655c\">\n",
       "  <caption>publication_year</caption>\n",
       "  <thead>\n",
       "  </thead>\n",
       "  <tbody>\n",
       "    <tr>\n",
       "      <td id=\"T_9655c_row0_col0\" class=\"data row0 col0\" >Values</td>\n",
       "      <td id=\"T_9655c_row0_col1\" class=\"data row0 col1\" >23 699 (100%)</td>\n",
       "      <td id=\"T_9655c_row0_col2\" class=\"data row0 col2\" >                              </td>\n",
       "      <td id=\"T_9655c_row0_col3\" class=\"data row0 col3\" >2018 (36%)</td>\n",
       "    </tr>\n",
       "    <tr>\n",
       "      <td id=\"T_9655c_row1_col0\" class=\"data row1 col0\" >Missing</td>\n",
       "      <td id=\"T_9655c_row1_col1\" class=\"data row1 col1\" >---</td>\n",
       "      <td id=\"T_9655c_row1_col2\" class=\"data row1 col2\" >                              </td>\n",
       "      <td id=\"T_9655c_row1_col3\" class=\"data row1 col3\" >2017 (35%)</td>\n",
       "    </tr>\n",
       "    <tr>\n",
       "      <td id=\"T_9655c_row2_col0\" class=\"data row2 col0\" >Distinct</td>\n",
       "      <td id=\"T_9655c_row2_col1\" class=\"data row2 col1\" >6 (<1%)</td>\n",
       "      <td id=\"T_9655c_row2_col2\" class=\"data row2 col2\" >                              </td>\n",
       "      <td id=\"T_9655c_row2_col3\" class=\"data row2 col3\" >2019 (12%)</td>\n",
       "    </tr>\n",
       "    <tr>\n",
       "      <td id=\"T_9655c_row3_col0\" class=\"data row3 col0\" >Duplicated origin</td>\n",
       "      <td id=\"T_9655c_row3_col1\" class=\"data row3 col1\" >23 693 (99.9%)</td>\n",
       "      <td id=\"T_9655c_row3_col2\" class=\"data row3 col2\" >                              </td>\n",
       "      <td id=\"T_9655c_row3_col3\" class=\"data row3 col3\" >2016 (12%)</td>\n",
       "    </tr>\n",
       "    <tr>\n",
       "      <td id=\"T_9655c_row4_col0\" class=\"data row4 col0\" >Dupl (modify - origin)</td>\n",
       "      <td id=\"T_9655c_row4_col1\" class=\"data row4 col1\" >---</td>\n",
       "      <td id=\"T_9655c_row4_col2\" class=\"data row4 col2\" >                              </td>\n",
       "      <td id=\"T_9655c_row4_col3\" class=\"data row4 col3\" >2015 (5%)</td>\n",
       "    </tr>\n",
       "    <tr>\n",
       "      <td id=\"T_9655c_row5_col0\" class=\"data row5 col0\" >Empty</td>\n",
       "      <td id=\"T_9655c_row5_col1\" class=\"data row5 col1\" >---</td>\n",
       "      <td id=\"T_9655c_row5_col2\" class=\"data row5 col2\" >                              </td>\n",
       "      <td id=\"T_9655c_row5_col3\" class=\"data row5 col3\" >2014 <1%</td>\n",
       "    </tr>\n",
       "    <tr>\n",
       "      <td id=\"T_9655c_row6_col0\" class=\"data row6 col0\" >RAM (Mb)</td>\n",
       "      <td id=\"T_9655c_row6_col1\" class=\"data row6 col1\" ><1 Mb</td>\n",
       "      <td id=\"T_9655c_row6_col2\" class=\"data row6 col2\" >                              </td>\n",
       "      <td id=\"T_9655c_row6_col3\" class=\"data row6 col3\" ></td>\n",
       "    </tr>\n",
       "  </tbody>\n",
       "</table>\n",
       "\n",
       "            <div>\n",
       "                <img src=\"data:image/png;base64,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\" alt=\"График\"/>\n",
       "            </div>\n",
       "        </div>\n",
       "        "
      ],
      "text/plain": [
       "<IPython.core.display.HTML object>"
      ]
     },
     "metadata": {},
     "output_type": "display_data"
    }
   ],
   "source": [
    "pagri_data_tools.my_info_column(df, 'publication_year')"
   ]
  },
  {
   "cell_type": "markdown",
   "metadata": {},
   "source": [
    "### Создание новых числовых переменных"
   ]
  },
  {
   "cell_type": "markdown",
   "metadata": {},
   "source": [
    "Создадим переменную соотношение жилой и общей площади"
   ]
  },
  {
   "cell_type": "code",
   "execution_count": 25,
   "metadata": {},
   "outputs": [],
   "source": [
    "df['living_total_ratio'] = round(df['living_area'] / df['total_area'],2)"
   ]
  },
  {
   "cell_type": "code",
   "execution_count": 26,
   "metadata": {},
   "outputs": [
    {
     "data": {
      "text/html": [
       "\n",
       "        <div style=\"display: flex; justify-content: flex-start; align-items: flex-end;\">\n",
       "            <style type=\"text/css\">\n",
       "#T_a9dbc caption {\n",
       "  font-size: 16px;\n",
       "  text-align: left;\n",
       "  font-weight: bold;\n",
       "}\n",
       "#T_a9dbc_row0_col0, #T_a9dbc_row0_col1, #T_a9dbc_row0_col2, #T_a9dbc_row0_col3, #T_a9dbc_row0_col4, #T_a9dbc_row0_col5, #T_a9dbc_row0_col6, #T_a9dbc_row0_col7, #T_a9dbc_row0_col8, #T_a9dbc_row0_col9, #T_a9dbc_row1_col0, #T_a9dbc_row1_col1, #T_a9dbc_row1_col2, #T_a9dbc_row1_col3, #T_a9dbc_row1_col4, #T_a9dbc_row1_col5, #T_a9dbc_row1_col6, #T_a9dbc_row1_col7, #T_a9dbc_row1_col8, #T_a9dbc_row1_col9, #T_a9dbc_row2_col0, #T_a9dbc_row2_col1, #T_a9dbc_row2_col2, #T_a9dbc_row2_col3, #T_a9dbc_row2_col4, #T_a9dbc_row2_col5, #T_a9dbc_row2_col6, #T_a9dbc_row2_col7, #T_a9dbc_row2_col8, #T_a9dbc_row2_col9, #T_a9dbc_row3_col0, #T_a9dbc_row3_col1, #T_a9dbc_row3_col2, #T_a9dbc_row3_col3, #T_a9dbc_row3_col4, #T_a9dbc_row3_col5, #T_a9dbc_row3_col6, #T_a9dbc_row3_col7, #T_a9dbc_row3_col8, #T_a9dbc_row3_col9, #T_a9dbc_row4_col0, #T_a9dbc_row4_col1, #T_a9dbc_row4_col2, #T_a9dbc_row4_col3, #T_a9dbc_row4_col4, #T_a9dbc_row4_col5, #T_a9dbc_row4_col6, #T_a9dbc_row4_col7, #T_a9dbc_row4_col8, #T_a9dbc_row4_col9, #T_a9dbc_row5_col0, #T_a9dbc_row5_col1, #T_a9dbc_row5_col2, #T_a9dbc_row5_col3, #T_a9dbc_row5_col4, #T_a9dbc_row5_col5, #T_a9dbc_row5_col6, #T_a9dbc_row5_col7, #T_a9dbc_row5_col8, #T_a9dbc_row5_col9, #T_a9dbc_row6_col0, #T_a9dbc_row6_col1, #T_a9dbc_row6_col2, #T_a9dbc_row6_col3, #T_a9dbc_row6_col4, #T_a9dbc_row6_col5, #T_a9dbc_row6_col6, #T_a9dbc_row6_col7, #T_a9dbc_row6_col8, #T_a9dbc_row6_col9 {\n",
       "  text-align: left;\n",
       "}\n",
       "</style>\n",
       "<table id=\"T_a9dbc\">\n",
       "  <caption>living_total_ratio</caption>\n",
       "  <thead>\n",
       "  </thead>\n",
       "  <tbody>\n",
       "    <tr>\n",
       "      <td id=\"T_a9dbc_row0_col0\" class=\"data row0 col0\" >Values</td>\n",
       "      <td id=\"T_a9dbc_row0_col1\" class=\"data row0 col1\" >21 796 (92%)</td>\n",
       "      <td id=\"T_a9dbc_row0_col2\" class=\"data row0 col2\" >                              </td>\n",
       "      <td id=\"T_a9dbc_row0_col3\" class=\"data row0 col3\" >Max</td>\n",
       "      <td id=\"T_a9dbc_row0_col4\" class=\"data row0 col4\" >1</td>\n",
       "      <td id=\"T_a9dbc_row0_col5\" class=\"data row0 col5\" >                              </td>\n",
       "      <td id=\"T_a9dbc_row0_col6\" class=\"data row0 col6\" >Avg</td>\n",
       "      <td id=\"T_a9dbc_row0_col7\" class=\"data row0 col7\" >0.56</td>\n",
       "      <td id=\"T_a9dbc_row0_col8\" class=\"data row0 col8\" >                              </td>\n",
       "      <td id=\"T_a9dbc_row0_col9\" class=\"data row0 col9\" >0.56 (4%)</td>\n",
       "    </tr>\n",
       "    <tr>\n",
       "      <td id=\"T_a9dbc_row1_col0\" class=\"data row1 col0\" >Missing</td>\n",
       "      <td id=\"T_a9dbc_row1_col1\" class=\"data row1 col1\" >1 903 (8%)</td>\n",
       "      <td id=\"T_a9dbc_row1_col2\" class=\"data row1 col2\" >                              </td>\n",
       "      <td id=\"T_a9dbc_row1_col3\" class=\"data row1 col3\" >95%</td>\n",
       "      <td id=\"T_a9dbc_row1_col4\" class=\"data row1 col4\" >0.73</td>\n",
       "      <td id=\"T_a9dbc_row1_col5\" class=\"data row1 col5\" >                              </td>\n",
       "      <td id=\"T_a9dbc_row1_col6\" class=\"data row1 col6\" >Mode</td>\n",
       "      <td id=\"T_a9dbc_row1_col7\" class=\"data row1 col7\" >0.56</td>\n",
       "      <td id=\"T_a9dbc_row1_col8\" class=\"data row1 col8\" >                              </td>\n",
       "      <td id=\"T_a9dbc_row1_col9\" class=\"data row1 col9\" >0.55 (4%)</td>\n",
       "    </tr>\n",
       "    <tr>\n",
       "      <td id=\"T_a9dbc_row2_col0\" class=\"data row2 col0\" >Distinct</td>\n",
       "      <td id=\"T_a9dbc_row2_col1\" class=\"data row2 col1\" >91 (<1%)</td>\n",
       "      <td id=\"T_a9dbc_row2_col2\" class=\"data row2 col2\" >                              </td>\n",
       "      <td id=\"T_a9dbc_row2_col3\" class=\"data row2 col3\" >75%</td>\n",
       "      <td id=\"T_a9dbc_row2_col4\" class=\"data row2 col4\" >0.64</td>\n",
       "      <td id=\"T_a9dbc_row2_col5\" class=\"data row2 col5\" >                              </td>\n",
       "      <td id=\"T_a9dbc_row2_col6\" class=\"data row2 col6\" >Range</td>\n",
       "      <td id=\"T_a9dbc_row2_col7\" class=\"data row2 col7\" >0.98</td>\n",
       "      <td id=\"T_a9dbc_row2_col8\" class=\"data row2 col8\" >                              </td>\n",
       "      <td id=\"T_a9dbc_row2_col9\" class=\"data row2 col9\" >0.6 (4%)</td>\n",
       "    </tr>\n",
       "    <tr>\n",
       "      <td id=\"T_a9dbc_row3_col0\" class=\"data row3 col0\" >Duplicates</td>\n",
       "      <td id=\"T_a9dbc_row3_col1\" class=\"data row3 col1\" >23 607 (99.6%)</td>\n",
       "      <td id=\"T_a9dbc_row3_col2\" class=\"data row3 col2\" >                              </td>\n",
       "      <td id=\"T_a9dbc_row3_col3\" class=\"data row3 col3\" >Median</td>\n",
       "      <td id=\"T_a9dbc_row3_col4\" class=\"data row3 col4\" >0.57</td>\n",
       "      <td id=\"T_a9dbc_row3_col5\" class=\"data row3 col5\" >                              </td>\n",
       "      <td id=\"T_a9dbc_row3_col6\" class=\"data row3 col6\" >iQR</td>\n",
       "      <td id=\"T_a9dbc_row3_col7\" class=\"data row3 col7\" >0.14</td>\n",
       "      <td id=\"T_a9dbc_row3_col8\" class=\"data row3 col8\" >                              </td>\n",
       "      <td id=\"T_a9dbc_row3_col9\" class=\"data row3 col9\" >0.62 (4%)</td>\n",
       "    </tr>\n",
       "    <tr>\n",
       "      <td id=\"T_a9dbc_row4_col0\" class=\"data row4 col0\" >Zeros</td>\n",
       "      <td id=\"T_a9dbc_row4_col1\" class=\"data row4 col1\" >---</td>\n",
       "      <td id=\"T_a9dbc_row4_col2\" class=\"data row4 col2\" >                              </td>\n",
       "      <td id=\"T_a9dbc_row4_col3\" class=\"data row4 col3\" >25%</td>\n",
       "      <td id=\"T_a9dbc_row4_col4\" class=\"data row4 col4\" >0.5</td>\n",
       "      <td id=\"T_a9dbc_row4_col5\" class=\"data row4 col5\" >                              </td>\n",
       "      <td id=\"T_a9dbc_row4_col6\" class=\"data row4 col6\" >std</td>\n",
       "      <td id=\"T_a9dbc_row4_col7\" class=\"data row4 col7\" >0.11</td>\n",
       "      <td id=\"T_a9dbc_row4_col8\" class=\"data row4 col8\" >                              </td>\n",
       "      <td id=\"T_a9dbc_row4_col9\" class=\"data row4 col9\" >0.58 (4%)</td>\n",
       "    </tr>\n",
       "    <tr>\n",
       "      <td id=\"T_a9dbc_row5_col0\" class=\"data row5 col0\" >Negative</td>\n",
       "      <td id=\"T_a9dbc_row5_col1\" class=\"data row5 col1\" >---</td>\n",
       "      <td id=\"T_a9dbc_row5_col2\" class=\"data row5 col2\" >                              </td>\n",
       "      <td id=\"T_a9dbc_row5_col3\" class=\"data row5 col3\" >5%</td>\n",
       "      <td id=\"T_a9dbc_row5_col4\" class=\"data row5 col4\" >0.39</td>\n",
       "      <td id=\"T_a9dbc_row5_col5\" class=\"data row5 col5\" >                              </td>\n",
       "      <td id=\"T_a9dbc_row5_col6\" class=\"data row5 col6\" >kurt</td>\n",
       "      <td id=\"T_a9dbc_row5_col7\" class=\"data row5 col7\" >0.23</td>\n",
       "      <td id=\"T_a9dbc_row5_col8\" class=\"data row5 col8\" >                              </td>\n",
       "      <td id=\"T_a9dbc_row5_col9\" class=\"data row5 col9\" >0.57 (4%)</td>\n",
       "    </tr>\n",
       "    <tr>\n",
       "      <td id=\"T_a9dbc_row6_col0\" class=\"data row6 col0\" >RAM (Mb)</td>\n",
       "      <td id=\"T_a9dbc_row6_col1\" class=\"data row6 col1\" ><1 Mb</td>\n",
       "      <td id=\"T_a9dbc_row6_col2\" class=\"data row6 col2\" >                              </td>\n",
       "      <td id=\"T_a9dbc_row6_col3\" class=\"data row6 col3\" >Min</td>\n",
       "      <td id=\"T_a9dbc_row6_col4\" class=\"data row6 col4\" >0.02</td>\n",
       "      <td id=\"T_a9dbc_row6_col5\" class=\"data row6 col5\" >                              </td>\n",
       "      <td id=\"T_a9dbc_row6_col6\" class=\"data row6 col6\" >skew</td>\n",
       "      <td id=\"T_a9dbc_row6_col7\" class=\"data row6 col7\" >-0.14</td>\n",
       "      <td id=\"T_a9dbc_row6_col8\" class=\"data row6 col8\" >                              </td>\n",
       "      <td id=\"T_a9dbc_row6_col9\" class=\"data row6 col9\" >0.59 (4%)</td>\n",
       "    </tr>\n",
       "  </tbody>\n",
       "</table>\n",
       "\n",
       "            <div>\n",
       "                <img src=\"data:image/png;base64,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\" alt=\"График\"/>\n",
       "            </div>\n",
       "        </div>\n",
       "        "
      ],
      "text/plain": [
       "<IPython.core.display.HTML object>"
      ]
     },
     "metadata": {},
     "output_type": "display_data"
    }
   ],
   "source": [
    "pagri_data_tools.my_info_column(df, 'living_total_ratio')"
   ]
  },
  {
   "cell_type": "markdown",
   "metadata": {},
   "source": [
    "Создадим переменную отношения площади кухни к общей."
   ]
  },
  {
   "cell_type": "code",
   "execution_count": 28,
   "metadata": {},
   "outputs": [],
   "source": [
    "df['kitchen_total_ratio'] = round(df['kitchen_area'] / df['total_area'],2)"
   ]
  },
  {
   "cell_type": "code",
   "execution_count": 29,
   "metadata": {},
   "outputs": [
    {
     "data": {
      "text/html": [
       "\n",
       "        <div style=\"display: flex; justify-content: flex-start; align-items: flex-end;\">\n",
       "            <style type=\"text/css\">\n",
       "#T_33a43 caption {\n",
       "  font-size: 16px;\n",
       "  text-align: left;\n",
       "  font-weight: bold;\n",
       "}\n",
       "#T_33a43_row0_col0, #T_33a43_row0_col1, #T_33a43_row0_col2, #T_33a43_row0_col3, #T_33a43_row0_col4, #T_33a43_row0_col5, #T_33a43_row0_col6, #T_33a43_row0_col7, #T_33a43_row0_col8, #T_33a43_row0_col9, #T_33a43_row1_col0, #T_33a43_row1_col1, #T_33a43_row1_col2, #T_33a43_row1_col3, #T_33a43_row1_col4, #T_33a43_row1_col5, #T_33a43_row1_col6, #T_33a43_row1_col7, #T_33a43_row1_col8, #T_33a43_row1_col9, #T_33a43_row2_col0, #T_33a43_row2_col1, #T_33a43_row2_col2, #T_33a43_row2_col3, #T_33a43_row2_col4, #T_33a43_row2_col5, #T_33a43_row2_col6, #T_33a43_row2_col7, #T_33a43_row2_col8, #T_33a43_row2_col9, #T_33a43_row3_col0, #T_33a43_row3_col1, #T_33a43_row3_col2, #T_33a43_row3_col3, #T_33a43_row3_col4, #T_33a43_row3_col5, #T_33a43_row3_col6, #T_33a43_row3_col7, #T_33a43_row3_col8, #T_33a43_row3_col9, #T_33a43_row4_col0, #T_33a43_row4_col1, #T_33a43_row4_col2, #T_33a43_row4_col3, #T_33a43_row4_col4, #T_33a43_row4_col5, #T_33a43_row4_col6, #T_33a43_row4_col7, #T_33a43_row4_col8, #T_33a43_row4_col9, #T_33a43_row5_col0, #T_33a43_row5_col1, #T_33a43_row5_col2, #T_33a43_row5_col3, #T_33a43_row5_col4, #T_33a43_row5_col5, #T_33a43_row5_col6, #T_33a43_row5_col7, #T_33a43_row5_col8, #T_33a43_row5_col9, #T_33a43_row6_col0, #T_33a43_row6_col1, #T_33a43_row6_col2, #T_33a43_row6_col3, #T_33a43_row6_col4, #T_33a43_row6_col5, #T_33a43_row6_col6, #T_33a43_row6_col7, #T_33a43_row6_col8, #T_33a43_row6_col9 {\n",
       "  text-align: left;\n",
       "}\n",
       "</style>\n",
       "<table id=\"T_33a43\">\n",
       "  <caption>kitchen_total_ratio</caption>\n",
       "  <thead>\n",
       "  </thead>\n",
       "  <tbody>\n",
       "    <tr>\n",
       "      <td id=\"T_33a43_row0_col0\" class=\"data row0 col0\" >Values</td>\n",
       "      <td id=\"T_33a43_row0_col1\" class=\"data row0 col1\" >21 421 (90%)</td>\n",
       "      <td id=\"T_33a43_row0_col2\" class=\"data row0 col2\" >                              </td>\n",
       "      <td id=\"T_33a43_row0_col3\" class=\"data row0 col3\" >Max</td>\n",
       "      <td id=\"T_33a43_row0_col4\" class=\"data row0 col4\" >0.79</td>\n",
       "      <td id=\"T_33a43_row0_col5\" class=\"data row0 col5\" >                              </td>\n",
       "      <td id=\"T_33a43_row0_col6\" class=\"data row0 col6\" >Avg</td>\n",
       "      <td id=\"T_33a43_row0_col7\" class=\"data row0 col7\" >0.19</td>\n",
       "      <td id=\"T_33a43_row0_col8\" class=\"data row0 col8\" >                              </td>\n",
       "      <td id=\"T_33a43_row0_col9\" class=\"data row0 col9\" >0.14 (7%)</td>\n",
       "    </tr>\n",
       "    <tr>\n",
       "      <td id=\"T_33a43_row1_col0\" class=\"data row1 col0\" >Missing</td>\n",
       "      <td id=\"T_33a43_row1_col1\" class=\"data row1 col1\" >2 278 (10%)</td>\n",
       "      <td id=\"T_33a43_row1_col2\" class=\"data row1 col2\" >                              </td>\n",
       "      <td id=\"T_33a43_row1_col3\" class=\"data row1 col3\" >95%</td>\n",
       "      <td id=\"T_33a43_row1_col4\" class=\"data row1 col4\" >0.31</td>\n",
       "      <td id=\"T_33a43_row1_col5\" class=\"data row1 col5\" >                              </td>\n",
       "      <td id=\"T_33a43_row1_col6\" class=\"data row1 col6\" >Mode</td>\n",
       "      <td id=\"T_33a43_row1_col7\" class=\"data row1 col7\" >0.14</td>\n",
       "      <td id=\"T_33a43_row1_col8\" class=\"data row1 col8\" >                              </td>\n",
       "      <td id=\"T_33a43_row1_col9\" class=\"data row1 col9\" >0.16 (7%)</td>\n",
       "    </tr>\n",
       "    <tr>\n",
       "      <td id=\"T_33a43_row2_col0\" class=\"data row2 col0\" >Distinct</td>\n",
       "      <td id=\"T_33a43_row2_col1\" class=\"data row2 col1\" >66 (<1%)</td>\n",
       "      <td id=\"T_33a43_row2_col2\" class=\"data row2 col2\" >                              </td>\n",
       "      <td id=\"T_33a43_row2_col3\" class=\"data row2 col3\" >75%</td>\n",
       "      <td id=\"T_33a43_row2_col4\" class=\"data row2 col4\" >0.23</td>\n",
       "      <td id=\"T_33a43_row2_col5\" class=\"data row2 col5\" >                              </td>\n",
       "      <td id=\"T_33a43_row2_col6\" class=\"data row2 col6\" >Range</td>\n",
       "      <td id=\"T_33a43_row2_col7\" class=\"data row2 col7\" >0.76</td>\n",
       "      <td id=\"T_33a43_row2_col8\" class=\"data row2 col8\" >                              </td>\n",
       "      <td id=\"T_33a43_row2_col9\" class=\"data row2 col9\" >0.12 (7%)</td>\n",
       "    </tr>\n",
       "    <tr>\n",
       "      <td id=\"T_33a43_row3_col0\" class=\"data row3 col0\" >Duplicates</td>\n",
       "      <td id=\"T_33a43_row3_col1\" class=\"data row3 col1\" >23 632 (99.7%)</td>\n",
       "      <td id=\"T_33a43_row3_col2\" class=\"data row3 col2\" >                              </td>\n",
       "      <td id=\"T_33a43_row3_col3\" class=\"data row3 col3\" >Median</td>\n",
       "      <td id=\"T_33a43_row3_col4\" class=\"data row3 col4\" >0.17</td>\n",
       "      <td id=\"T_33a43_row3_col5\" class=\"data row3 col5\" >                              </td>\n",
       "      <td id=\"T_33a43_row3_col6\" class=\"data row3 col6\" >iQR</td>\n",
       "      <td id=\"T_33a43_row3_col7\" class=\"data row3 col7\" >0.1</td>\n",
       "      <td id=\"T_33a43_row3_col8\" class=\"data row3 col8\" >                              </td>\n",
       "      <td id=\"T_33a43_row3_col9\" class=\"data row3 col9\" >0.15 (6%)</td>\n",
       "    </tr>\n",
       "    <tr>\n",
       "      <td id=\"T_33a43_row4_col0\" class=\"data row4 col0\" >Zeros</td>\n",
       "      <td id=\"T_33a43_row4_col1\" class=\"data row4 col1\" >---</td>\n",
       "      <td id=\"T_33a43_row4_col2\" class=\"data row4 col2\" >                              </td>\n",
       "      <td id=\"T_33a43_row4_col3\" class=\"data row4 col3\" >25%</td>\n",
       "      <td id=\"T_33a43_row4_col4\" class=\"data row4 col4\" >0.13</td>\n",
       "      <td id=\"T_33a43_row4_col5\" class=\"data row4 col5\" >                              </td>\n",
       "      <td id=\"T_33a43_row4_col6\" class=\"data row4 col6\" >std</td>\n",
       "      <td id=\"T_33a43_row4_col7\" class=\"data row4 col7\" >0.07</td>\n",
       "      <td id=\"T_33a43_row4_col8\" class=\"data row4 col8\" >                              </td>\n",
       "      <td id=\"T_33a43_row4_col9\" class=\"data row4 col9\" >0.13 (6%)</td>\n",
       "    </tr>\n",
       "    <tr>\n",
       "      <td id=\"T_33a43_row5_col0\" class=\"data row5 col0\" >Negative</td>\n",
       "      <td id=\"T_33a43_row5_col1\" class=\"data row5 col1\" >---</td>\n",
       "      <td id=\"T_33a43_row5_col2\" class=\"data row5 col2\" >                              </td>\n",
       "      <td id=\"T_33a43_row5_col3\" class=\"data row5 col3\" >5%</td>\n",
       "      <td id=\"T_33a43_row5_col4\" class=\"data row5 col4\" >0.1</td>\n",
       "      <td id=\"T_33a43_row5_col5\" class=\"data row5 col5\" >                              </td>\n",
       "      <td id=\"T_33a43_row5_col6\" class=\"data row5 col6\" >kurt</td>\n",
       "      <td id=\"T_33a43_row5_col7\" class=\"data row5 col7\" >2.88</td>\n",
       "      <td id=\"T_33a43_row5_col8\" class=\"data row5 col8\" >                              </td>\n",
       "      <td id=\"T_33a43_row5_col9\" class=\"data row5 col9\" >0.11 (6%)</td>\n",
       "    </tr>\n",
       "    <tr>\n",
       "      <td id=\"T_33a43_row6_col0\" class=\"data row6 col0\" >RAM (Mb)</td>\n",
       "      <td id=\"T_33a43_row6_col1\" class=\"data row6 col1\" ><1 Mb</td>\n",
       "      <td id=\"T_33a43_row6_col2\" class=\"data row6 col2\" >                              </td>\n",
       "      <td id=\"T_33a43_row6_col3\" class=\"data row6 col3\" >Min</td>\n",
       "      <td id=\"T_33a43_row6_col4\" class=\"data row6 col4\" >0.03</td>\n",
       "      <td id=\"T_33a43_row6_col5\" class=\"data row6 col5\" >                              </td>\n",
       "      <td id=\"T_33a43_row6_col6\" class=\"data row6 col6\" >skew</td>\n",
       "      <td id=\"T_33a43_row6_col7\" class=\"data row6 col7\" >1.23</td>\n",
       "      <td id=\"T_33a43_row6_col8\" class=\"data row6 col8\" >                              </td>\n",
       "      <td id=\"T_33a43_row6_col9\" class=\"data row6 col9\" >0.19 (5%)</td>\n",
       "    </tr>\n",
       "  </tbody>\n",
       "</table>\n",
       "\n",
       "            <div>\n",
       "                <img src=\"data:image/png;base64,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\" alt=\"График\"/>\n",
       "            </div>\n",
       "        </div>\n",
       "        "
      ],
      "text/plain": [
       "<IPython.core.display.HTML object>"
      ]
     },
     "metadata": {},
     "output_type": "display_data"
    }
   ],
   "source": [
    "pagri_data_tools.my_info_column(df, 'kitchen_total_ratio')"
   ]
  },
  {
   "cell_type": "markdown",
   "metadata": {},
   "source": [
    "Создадим переменную цена квадратного метра"
   ]
  },
  {
   "cell_type": "code",
   "execution_count": 30,
   "metadata": {},
   "outputs": [],
   "source": [
    "df['price_per_sqm'] = (df['last_price'] / df['total_area']).astype(int)"
   ]
  },
  {
   "cell_type": "code",
   "execution_count": 31,
   "metadata": {},
   "outputs": [
    {
     "data": {
      "text/html": [
       "\n",
       "        <div style=\"display: flex; justify-content: flex-start; align-items: flex-end;\">\n",
       "            <style type=\"text/css\">\n",
       "#T_65c6d caption {\n",
       "  font-size: 16px;\n",
       "  text-align: left;\n",
       "  font-weight: bold;\n",
       "}\n",
       "#T_65c6d_row0_col0, #T_65c6d_row0_col1, #T_65c6d_row0_col2, #T_65c6d_row0_col3, #T_65c6d_row0_col4, #T_65c6d_row0_col5, #T_65c6d_row0_col6, #T_65c6d_row0_col7, #T_65c6d_row0_col8, #T_65c6d_row0_col9, #T_65c6d_row1_col0, #T_65c6d_row1_col1, #T_65c6d_row1_col2, #T_65c6d_row1_col3, #T_65c6d_row1_col4, #T_65c6d_row1_col5, #T_65c6d_row1_col6, #T_65c6d_row1_col7, #T_65c6d_row1_col8, #T_65c6d_row1_col9, #T_65c6d_row2_col0, #T_65c6d_row2_col1, #T_65c6d_row2_col2, #T_65c6d_row2_col3, #T_65c6d_row2_col4, #T_65c6d_row2_col5, #T_65c6d_row2_col6, #T_65c6d_row2_col7, #T_65c6d_row2_col8, #T_65c6d_row2_col9, #T_65c6d_row3_col0, #T_65c6d_row3_col1, #T_65c6d_row3_col2, #T_65c6d_row3_col3, #T_65c6d_row3_col4, #T_65c6d_row3_col5, #T_65c6d_row3_col6, #T_65c6d_row3_col7, #T_65c6d_row3_col8, #T_65c6d_row3_col9, #T_65c6d_row4_col0, #T_65c6d_row4_col1, #T_65c6d_row4_col2, #T_65c6d_row4_col3, #T_65c6d_row4_col4, #T_65c6d_row4_col5, #T_65c6d_row4_col6, #T_65c6d_row4_col7, #T_65c6d_row4_col8, #T_65c6d_row4_col9, #T_65c6d_row5_col0, #T_65c6d_row5_col1, #T_65c6d_row5_col2, #T_65c6d_row5_col3, #T_65c6d_row5_col4, #T_65c6d_row5_col5, #T_65c6d_row5_col6, #T_65c6d_row5_col7, #T_65c6d_row5_col8, #T_65c6d_row5_col9, #T_65c6d_row6_col0, #T_65c6d_row6_col1, #T_65c6d_row6_col2, #T_65c6d_row6_col3, #T_65c6d_row6_col4, #T_65c6d_row6_col5, #T_65c6d_row6_col6, #T_65c6d_row6_col7, #T_65c6d_row6_col8, #T_65c6d_row6_col9 {\n",
       "  text-align: left;\n",
       "}\n",
       "</style>\n",
       "<table id=\"T_65c6d\">\n",
       "  <caption>kitchen_total_ratio</caption>\n",
       "  <thead>\n",
       "  </thead>\n",
       "  <tbody>\n",
       "    <tr>\n",
       "      <td id=\"T_65c6d_row0_col0\" class=\"data row0 col0\" >Values</td>\n",
       "      <td id=\"T_65c6d_row0_col1\" class=\"data row0 col1\" >21 421 (90%)</td>\n",
       "      <td id=\"T_65c6d_row0_col2\" class=\"data row0 col2\" >                              </td>\n",
       "      <td id=\"T_65c6d_row0_col3\" class=\"data row0 col3\" >Max</td>\n",
       "      <td id=\"T_65c6d_row0_col4\" class=\"data row0 col4\" >0.79</td>\n",
       "      <td id=\"T_65c6d_row0_col5\" class=\"data row0 col5\" >                              </td>\n",
       "      <td id=\"T_65c6d_row0_col6\" class=\"data row0 col6\" >Avg</td>\n",
       "      <td id=\"T_65c6d_row0_col7\" class=\"data row0 col7\" >0.19</td>\n",
       "      <td id=\"T_65c6d_row0_col8\" class=\"data row0 col8\" >                              </td>\n",
       "      <td id=\"T_65c6d_row0_col9\" class=\"data row0 col9\" >0.14 (7%)</td>\n",
       "    </tr>\n",
       "    <tr>\n",
       "      <td id=\"T_65c6d_row1_col0\" class=\"data row1 col0\" >Missing</td>\n",
       "      <td id=\"T_65c6d_row1_col1\" class=\"data row1 col1\" >2 278 (10%)</td>\n",
       "      <td id=\"T_65c6d_row1_col2\" class=\"data row1 col2\" >                              </td>\n",
       "      <td id=\"T_65c6d_row1_col3\" class=\"data row1 col3\" >95%</td>\n",
       "      <td id=\"T_65c6d_row1_col4\" class=\"data row1 col4\" >0.31</td>\n",
       "      <td id=\"T_65c6d_row1_col5\" class=\"data row1 col5\" >                              </td>\n",
       "      <td id=\"T_65c6d_row1_col6\" class=\"data row1 col6\" >Mode</td>\n",
       "      <td id=\"T_65c6d_row1_col7\" class=\"data row1 col7\" >0.14</td>\n",
       "      <td id=\"T_65c6d_row1_col8\" class=\"data row1 col8\" >                              </td>\n",
       "      <td id=\"T_65c6d_row1_col9\" class=\"data row1 col9\" >0.16 (7%)</td>\n",
       "    </tr>\n",
       "    <tr>\n",
       "      <td id=\"T_65c6d_row2_col0\" class=\"data row2 col0\" >Distinct</td>\n",
       "      <td id=\"T_65c6d_row2_col1\" class=\"data row2 col1\" >66 (<1%)</td>\n",
       "      <td id=\"T_65c6d_row2_col2\" class=\"data row2 col2\" >                              </td>\n",
       "      <td id=\"T_65c6d_row2_col3\" class=\"data row2 col3\" >75%</td>\n",
       "      <td id=\"T_65c6d_row2_col4\" class=\"data row2 col4\" >0.23</td>\n",
       "      <td id=\"T_65c6d_row2_col5\" class=\"data row2 col5\" >                              </td>\n",
       "      <td id=\"T_65c6d_row2_col6\" class=\"data row2 col6\" >Range</td>\n",
       "      <td id=\"T_65c6d_row2_col7\" class=\"data row2 col7\" >0.76</td>\n",
       "      <td id=\"T_65c6d_row2_col8\" class=\"data row2 col8\" >                              </td>\n",
       "      <td id=\"T_65c6d_row2_col9\" class=\"data row2 col9\" >0.12 (7%)</td>\n",
       "    </tr>\n",
       "    <tr>\n",
       "      <td id=\"T_65c6d_row3_col0\" class=\"data row3 col0\" >Duplicates</td>\n",
       "      <td id=\"T_65c6d_row3_col1\" class=\"data row3 col1\" >23 632 (99.7%)</td>\n",
       "      <td id=\"T_65c6d_row3_col2\" class=\"data row3 col2\" >                              </td>\n",
       "      <td id=\"T_65c6d_row3_col3\" class=\"data row3 col3\" >Median</td>\n",
       "      <td id=\"T_65c6d_row3_col4\" class=\"data row3 col4\" >0.17</td>\n",
       "      <td id=\"T_65c6d_row3_col5\" class=\"data row3 col5\" >                              </td>\n",
       "      <td id=\"T_65c6d_row3_col6\" class=\"data row3 col6\" >iQR</td>\n",
       "      <td id=\"T_65c6d_row3_col7\" class=\"data row3 col7\" >0.1</td>\n",
       "      <td id=\"T_65c6d_row3_col8\" class=\"data row3 col8\" >                              </td>\n",
       "      <td id=\"T_65c6d_row3_col9\" class=\"data row3 col9\" >0.15 (6%)</td>\n",
       "    </tr>\n",
       "    <tr>\n",
       "      <td id=\"T_65c6d_row4_col0\" class=\"data row4 col0\" >Zeros</td>\n",
       "      <td id=\"T_65c6d_row4_col1\" class=\"data row4 col1\" >---</td>\n",
       "      <td id=\"T_65c6d_row4_col2\" class=\"data row4 col2\" >                              </td>\n",
       "      <td id=\"T_65c6d_row4_col3\" class=\"data row4 col3\" >25%</td>\n",
       "      <td id=\"T_65c6d_row4_col4\" class=\"data row4 col4\" >0.13</td>\n",
       "      <td id=\"T_65c6d_row4_col5\" class=\"data row4 col5\" >                              </td>\n",
       "      <td id=\"T_65c6d_row4_col6\" class=\"data row4 col6\" >std</td>\n",
       "      <td id=\"T_65c6d_row4_col7\" class=\"data row4 col7\" >0.07</td>\n",
       "      <td id=\"T_65c6d_row4_col8\" class=\"data row4 col8\" >                              </td>\n",
       "      <td id=\"T_65c6d_row4_col9\" class=\"data row4 col9\" >0.13 (6%)</td>\n",
       "    </tr>\n",
       "    <tr>\n",
       "      <td id=\"T_65c6d_row5_col0\" class=\"data row5 col0\" >Negative</td>\n",
       "      <td id=\"T_65c6d_row5_col1\" class=\"data row5 col1\" >---</td>\n",
       "      <td id=\"T_65c6d_row5_col2\" class=\"data row5 col2\" >                              </td>\n",
       "      <td id=\"T_65c6d_row5_col3\" class=\"data row5 col3\" >5%</td>\n",
       "      <td id=\"T_65c6d_row5_col4\" class=\"data row5 col4\" >0.1</td>\n",
       "      <td id=\"T_65c6d_row5_col5\" class=\"data row5 col5\" >                              </td>\n",
       "      <td id=\"T_65c6d_row5_col6\" class=\"data row5 col6\" >kurt</td>\n",
       "      <td id=\"T_65c6d_row5_col7\" class=\"data row5 col7\" >2.88</td>\n",
       "      <td id=\"T_65c6d_row5_col8\" class=\"data row5 col8\" >                              </td>\n",
       "      <td id=\"T_65c6d_row5_col9\" class=\"data row5 col9\" >0.11 (6%)</td>\n",
       "    </tr>\n",
       "    <tr>\n",
       "      <td id=\"T_65c6d_row6_col0\" class=\"data row6 col0\" >RAM (Mb)</td>\n",
       "      <td id=\"T_65c6d_row6_col1\" class=\"data row6 col1\" ><1 Mb</td>\n",
       "      <td id=\"T_65c6d_row6_col2\" class=\"data row6 col2\" >                              </td>\n",
       "      <td id=\"T_65c6d_row6_col3\" class=\"data row6 col3\" >Min</td>\n",
       "      <td id=\"T_65c6d_row6_col4\" class=\"data row6 col4\" >0.03</td>\n",
       "      <td id=\"T_65c6d_row6_col5\" class=\"data row6 col5\" >                              </td>\n",
       "      <td id=\"T_65c6d_row6_col6\" class=\"data row6 col6\" >skew</td>\n",
       "      <td id=\"T_65c6d_row6_col7\" class=\"data row6 col7\" >1.23</td>\n",
       "      <td id=\"T_65c6d_row6_col8\" class=\"data row6 col8\" >                              </td>\n",
       "      <td id=\"T_65c6d_row6_col9\" class=\"data row6 col9\" >0.19 (5%)</td>\n",
       "    </tr>\n",
       "  </tbody>\n",
       "</table>\n",
       "\n",
       "            <div>\n",
       "                <img src=\"data:image/png;base64,iVBORw0KGgoAAAANSUhEUgAAASwAAADcCAYAAADKmJzYAAAZ70lEQVR4Xu2dC2xU1brH/51HS0sLpQ9RFI8C9yBiU1FB5aZFWqxRpAlpUQ7aqBSMEh+5Pk58Ia97QKy2SlREQ2IORBEJcsQTKYlQuYJ6L3rVi/Z4feC5QGsLtqBQWqaduVnL054CpbNXv86evWf+O2nQdn97r/X71vzm22vvWZMQCoVC4EYCJEACLiCQQGG5IEtsIgmQgCZAYXEgkAAJuIYAheWaVLGhJEACFBbHAAmQgGsIUFiuSRUbSgIkQGFxDJAACbiGAIXlmlSxoSRAAhQWxwAJkIBrCNgurCVLluDIkSMYPHgw9u/fj2nTpuHGG2/UwFpaWrB8+XL4fD40NjZixowZyM/Pdw1MNpQESCCyBGwXVkVFBR5++GHdqx9++AEzZ87Epk2bMGzYMKi/ZWRkoLy8HM3NzSgtLcW6deuQnZ3dK4WFCxdC/XAjARKIbQK2C6utrQ1JSUmaant7O6666iqsXr0aOTk5KCwsxIoVK/R/q23OnDkoKCjArFmzKKzYHofsHQlYImC7sLq3aufOnbqqevPNN/Hzzz+juLgY1dXVyMzM1LstWrRI/7tgwQIKy1I6uRMJxDaBqAhr27Zt2LhxIw4dOoT58+dj7NixqK2tRVlZGWpqapCamqqpK5nV19ejsrKyKws7duw4LSPqeLwkjO2Byt6RgCIQFWF1oj9w4ADuvPNOLFu2DH6/Xwtr+/btSEtLO6OwlJxO3ZTEKCwOaBKIfQJRFZbCu3jxYk1ZzVepS8ItW7YgKytL/05JyOv16iqst42T7rE/UNlDErC9wlIT7nv37sVFF13URX/p0qUIBAJaSlOmTEFVVRVyc3P132fPno2ioiJ9J5HC4oAlARKwtcI6fvw4Xnjhha7HGlpbW3HzzTfj/vvv13cD1ZxVeno65s6di6amJv1Yw/r167sqrjOlK5oVVnPdUaAvSyAmAEOG/TZXx40ESMAaAVuFFQwGtYyGDh2K5ORk/XBoXl4ebrrpJt1a9eComs9KSUlBQ0MDSkpK9N/DbdEUVs3qr3CgtilcE0/7+7ljMnBN+VjjOAaQQDwTsFVYkQIdTWG9/e//iR92Nxh3bcQVQzH9iQnGcQwggXgmQGEJs99XYV16wwW4pPB8BNo6jFvgT/Ji6MjBxnEMIAG3E6CwhBnsq7Am/mE0fvr2MKszIX+GxxcBCkuYbwpLCJDhJGBAgMIygNXTrr0Jq6W5DcnpSUhIOD2SFZYQPMPjkgCFJUz7qcIKdgTRdqwdiSl+BFoD8Cf7EGjpQGKKDx7vP81FYQnBMzwuCVBYwrSfKiz1vbTBQFBPpgeDgMeTAP8ALzy+BCR0K7XCCau36ox3GIVJY7hrCVBYwtSdXmGF0Ho0AK/PgxBCUDVVsD2EpFR/2ArLanVGYQmTxnDXEqCwhKnrscLqCGlhHT9yAsmDE9ERCMHjQ9gKy2p1RmEJk8Zw1xKgsISp623S/URrO9QzU90vBTtP19MlYbDDWnVGYQmTxnDXEqCwhKnrz8cadIVloTqjsIRJY7hrCVBYwtT1p7C6N6W36ozCEiaN4a4lQGEJUxcpYfXWLApLmDSGu5YAhSVMHYUlBMhwEjAgQGEZwOppVwpLCJDhJGBAgMIygEVhCWExnASEBCgsIUBWWEKADCcBAwIUlgEsVlhCWAwnASEBCksIkBWWECDDScCAAIVlAIsVlhAWw0lASIDCEgJkhSUEyHASMCBAYRnAYoUlhMVwEhASoLCEAFlhCQEynAQMCFBYBrBYYQlhMZwEhAQoLCFAVlhCgAwnAQMCFJYBLFZYQlgMJwEhAQpLCJAVlhAgw0nAgACFZQCLFZYQFsNJQEiAwhICZIUlBMhwEjAgQGEZwGKFJYTFcBIQEqCwhABZYQkBMpwEDAhQWAawWGEJYTGcBIQEKCwhQFZYQoAMJwEDAhSWASxWWEJYDCcBIQEKSwiQFZYQIMNJwIAAhWUAixWWEBbDSUBIgMISAmSFJQTIcBIwIEBhGcBihSWExXASEBKgsIQAWWEJATKcBAwIUFgGsFhhCWExnASEBCgsIUBWWEKADCcBAwK2C+vJJ59Ea2sr0tLSUFdXh7KyMkycOFE3uaWlBcuXL4fP50NjYyNmzJiB/Pz8sN1ZuHAh1E80NgorGtR5znglYLuwnnrqKTzyyCOa9549e3DXXXdh8+bNGDJkCCoqKpCRkYHy8nI0NzejtLQU69atQ3Z2dq/5obDidfiy3/FGwHZhHTx4sEtAHR0duPLKK7Fq1SqMGzcOhYWFWLFiBXJycnQe5syZg4KCAsyaNYvC6kZgxBVDMf2JCfE2VtlfEoDtwurOXFVR1157LTZs2IDExEQUFxejuroamZmZerdFixbpfxcsWEBhUVh8uZJAdIWl5LR27VqsWbMGtbW1ej6rpqYGqampOjXqErG+vh6VlZVdqdqxY8dpadu2bRvnsDiYSSAOCEStwmpra9NzVfPnz8fo0aO7hLV9+3Y9IX8mYSk5nbopiXHSPQ5GK7sY9wSiIiw1d6XuFk6dOrXrDqG6Y6guCbds2YKsrCydGCUhr9erpdbbxkn3uB/HBBAnBGwXlpLVn/70J1x//fUYP358F+ZgMIgpU6agqqoKubm5+vezZ89GUVERZs6cSWFxDitOXpLsZm8EbBVWe3u7rqwmTZrUdSdQNW7QoEF63krNWaWnp2Pu3LloamrSjzWsX7++q+I6U0dYYXGQk0B8ELBVWPv27cP06dNPI3v33Xfr+Sz14OiyZcuQkpKChoYGlJSUIC8vL2wmKKywiLgDCcQEAVuFFSliFFakyPK4JOAsAhSWMB/8aI4QIMNJwIAAhWUAq6ddKSwhQIaTgAEBCssAFoUlhMVwEhASoLCEAFlhCQEynAQMCFBYBrBYYQlhMZwEhAQoLCFAVlhCgAwnAQMCFJYBLFZYQlgMJwEhAQpLCJAVlhAgw0nAgACFZQCLFZYQFsNJQEiAwhICjEaFdWXpvyAxxYef/+9X49ZnDk/DhJJRxnEMIAEnEKCwhFmIhrAm/mE0fvr2MH7Y3WDcei6vbIyMAQ4iQGEJk0FhCQEynAQMCFBYBrCcMofFCkuYNIa7lgCFJUwdKywhQIaTgAEBCssAllsqrJbmNiSnJyEh4fQWcw5LmHCGR5UAhSXE75QKK9gRRNuxdiSm+BFoDcCf7EOgpUPfTfR4/2kuCkuYcIZHlQCFJcTvFGGFQiEEA0EE2joQDAIeTwL8A7zw+BKQ0K3UorCECWd4VAlQWEL8ThFWsCOE1qMBeH0ehBCCqqmC7SEkpfpZYQlzzHDnEKCwhLlwirB0hdUR0sI6fuQEkgcnoiMQgscHVljCHDPcOQQoLGEunCKs7t040doOf5L3JFF1/p2XhMKEMzyqBCgsIX4nCqu3LlFYwoQzPKoEKCwhfgpLCJDhJGBAgMIygNXTrhSWECDDScCAAIVlAIvCEsJiOAkICVBYQoCssIQAGU4CBgQoLANYsVBhXVI4HJfecAHaA0Hjnnv9Hpw9Mt04jgEk0F8EKCwhSbdVWGqlh0N//xV7P2s07vkFl2Wj+I9XGMcxgAT6iwCFJSTpRmFx8T9h0hkeNQIUlhA9hSUEyHASMCBAYRnAioU5LC7+J0w4w6NKgMIS4meFJQTIcBIwIEBhGcCKhwqLi/8JBwTDI0qAwhLijYUKi4v/CQcBw20jQGEJUceCsLj4n3AQMNw2AhSWEHUsCIuL/wkHAcNtI0BhCVHHgrC4+J9wEDDcNgIUlhB1LAirOwIu/iccEAyPKAEKS4g31oTVGw4u/iccLAwXE6CwhAgpLCFAhpOAAQEKywBWT7tSWEKADCcBAwJREdbRo0excuVKDBw4EPPmzetqbktLC5YvXw6fz4fGxkbMmDED+fn5YbuzcOFCqJ9obBRWNKjznPFKwHZhffXVV9i6dSu+/PJLXHbZZbj33nu72FdUVCAjIwPl5eVobm5GaWkp1q1bh+zs7F7zQ2FZH778LKF1VtzTeQRsF1Yngvnz5+Oss87qElYwGERhYSFWrFiBnJwcvducOXNQUFCAWbNmUVjdCEikI4nlpLvzXsDx1iLHCKuurg7FxcWorq5GZmamzsOiRYv0vwsWLKCwKKx4e22yvz0QcIywamtrUVZWhpqaGqSmpuqmqkvE+vp6VFZWdjVd/f3UTf2Oc1jWxjcrLGucuJczCThOWNu3b0daWhqF1ct4kUhHEstLQme+iOOpVY4RVucl4ZYtW5CVlaVzoKomr9cLNd/V28ZJd+tDlsKyzop7Oo+AY4SlJt2nTJmCqqoq5ObmalKzZ89GUVERZs6cSWFxDst5rx62yHYCjhFW55xVeno65s6di6amJv1Yw/r167sqrjPRYYVlfdywwrLOins6j4DtwtqzZw927dqln8VKSUnBpEmTMHnyZIwYMQLqwdFly5bp3zc0NKCkpAR5eXlhqVFYYRF17UBhWWfFPZ1HwHZhRQIBhWWdKoVlnRX3dB4BCkuYE340RwiQ4SRgQIDCMoDV064UlhAgw0nAgACFZQCLwhqK6U9MEBJjOAn0nQCF1Xd2OpIVlhAgw0nAgACFZQCLFRYrLOFwYbiQAIUlBMgKSwiQ4SRgQIDCMoDFCosVlnC4MFxIgMISAmSFJQTIcBIwIEBhGcBihcUKSzhcGC4kQGGFAfhSWTXu/vN1SEjoeUdWWMIRyHASMCBAYfUA69dDx/HXys9w7d252PXG3/Cvt1yEba/sQdE9uRiUnXxSBIVlMNq4KwkICVBYPQAMdgSx739+xn//dS9+3n8UmcPTcOn1F2B4Tia8Pg+FJRx0DCeBvhKgsHog90vjcfzlqf/COb8fgraWAAYM9KPub80ofuQKDB6aQmH1dbQxjgSEBCisHgCGgiHUf3sYw0YPwZp/24Gyqnw0fHcEZ40YhATPyZNZvCQUjkCGk4ABAQorDKzdf/kel08bcZqoOsMoLIPRxl1JQEiAwhICpLCEABlOAgYEKCwDWD3tSmEJATKcBAwIUFgGsCgsPjgqHC4MFxKgsIQAWWEJATKcBAwIUFgGsFhhscISDheGCwlQWEKArLCEABlOAgYEKCwDWKywWGEJhwvDhQQoLCFAVlhCgP8ID/ch8/45C4/idgIUljCD8SSsy4tH4LyxmTh+pM2YWvLgRIy68pyT4kw+ZG58QgbEJAEKC8CJlvY+JdfjTcDmik/xw+4G43jJF5q6MXbEFadfTpp8yNwYMANikgCFBeA//lyLum+ajRN8SeFw/O+uegrLArmehGXyIfPeTsHLSQsJiJFdKKw4+6quaFVnPQnL5EPmp77eeDkZIwYy7AaFRWFZHjIS2fUkrO4nDvch81Mb2V+Xk6zOLKffETtSWBSW5YEYTlgtzW1ITk/qcTnpcMKy3Ih/7Ci5nOyv6oyyM82afP+4EFa4gRVPd/rCSae3IdVTrKp02o61IzHFj0BrAP5kHwItHUhM8UHdlOjc+ltYkstJSXXmBNmFG8+Rmu+L1nm79ydmhWUysCgsa+98PQkrFAohGAgi0NaBYBDweBLgH+CFx5eAhG7f3NHfwpJcTkqqs2jJzmQ89+d8X7TOe6YRGbPCMhlYFFbfhRXsCKH1aECvdR9CCKqmCraHkJTqj2iFZa3FPe8lqc6iJTuT8dyf833ROm/cCctkYFFY1l7+Z6ywOkJaWMePnIB6QLQjEILHB9sqLGut73kv08n+aMnOZDyf2lM3xsadsEwGFoVl7SUfbv7rRGs7/Enek0QVqTksay2O7F52ys5kPJ/aazfGxp2wTOY4KCxrL+xwwurtKJGcw7LWemftZSo7k/HcW0/deN64mHQ3GZ4UljVaFJY1TtwrcgRidtLdBBmFZY0WhWWNE/eKHAEKiw+OWh5dEmFdPHk4riwdBXXXyXRTz3NlnJtmGsb9Y5AAhUVhWR7WEmGp2Kb9R/H3zw9aPl/njr+7NBtTH7zMOI4BsUeAwqKwLI9qqbB++vZwn1a24IS95RTF/I6OElZLSwuWL18On8+HxsZGzJgxA/n5+WGTsHDhQqifvm6cw7JGjsKyxol7RY6Ao4RVUVGBjIwMlJeXo7m5GaWlpVi3bh2ys7N7JUBhWR8g0ZKO5Lzjp49C9gWDoD4mYrqlZQ3AmEnnmYZxf4cScIywgsEgCgsLsWLFCuTk5Ghcc+bMQUFBAWbNmkVhdSMgefHHWywvJx1qnj42yzHCqqurQ3FxMaqrq5GZmam7s2jRIv3vggULKCwKq0/zX1ff/HskDvDh4I+/GL9Esi4YhPHTRxrHMSByBBwjrNraWpSVlaGmpgapqam6x+oSsb6+HpWVlV0E1N9P3dTv/vjAY0AwZEzK6/fgs3f34qfvDhvHjsk/F811xxhrgZwbWV2Ud67+mNHhn45Z6OHJu2T9bhCGjhgE9eFw0y3BAySnJpmGde3v8Xv6HNuXx046T6Y+lhXpzXHC2r59O9LSfnvmxkRYkQbF45MACUSOgNWbZo4RVucl4ZYtW5CVlaXJqE54vV7Mnz+/V1KdVdc111wTOaIOOjL766BkRKApzO+ZoTpGWGrSfcqUKaiqqkJubq5u8ezZs1FUVISZM2dSWN0IcEBHwBIOOiTz6wJhdV4CpqenY+7cuWhqatKPNaxfv76r4jpTN5hgB73aItAU5jcCUB10SJP8OqbCUvzUg6PLli1DSkoKGhoaUFJSgry8vLBoTToc9mAu2IH9dUGSBE1kfl1SYfU1x0xwX8m5I475dUee+tpKk/w6qsLqa4cZRwIkEB8EKKz4yDN7SQIxQYDCiok0shMkEB8EKKz4yDN7SQIxQYDCiok0shMkEB8EKKz4yDN7SQIxQYDCiok0shMkEB8EXC+sV199FT/++CNaW1sxZswYvYZWLGxWV1/9/PPP8cILL+D888/HsWPH9AfHH3jgAf3wrZs2q/3t3qeOjg7cdtttmDdvHiZOnOim7uqHpK2urqs+9fHss8/qlXiPHz+OgQMHhl1yyWkwTPr72muv4csvv8SQIUNw8OBBPPzwwxg+fLjukquFtW3bNmzYsAEvvfQSQqGQHrx33HEHJk+e7LR8GbfH6uqr77//PgYNGoTx48frc9x3330YOXIk7r//fuNzRjPAan+7t/GNN97Ac889pz9/6jZhWe2vGtdqBV71qY+pU6fq7qvlltSbkps2q/1Vb8APPfQQ3nvvPfj9fih5ffLJJ1i5cqX7hfXggw/q1Ulvv/123RnVqe+++06/G7l5M1l99ciRIxgwYACSkn5bP0kxUElftWqVaxCY9LezU+qjW6q63rVrF5544glXCcukv7t378Zjjz0GtYqJx9P3da6iORhM+rtx40a89dZbUG9GalNFydNPP6377/oKa9q0abj33nv1ig5qe/fdd/HKK6/gnXfeiWZ+xOeWrL6qLjOUxJYuXSpuh10H6Et/1Wq099xzj1700W3CMumveuP5+uuv8fzzz9uVjn4/j0l/9+7dizvvvFMveqAuCVXx8csvv3StPuzqS0L1jTpLlizBpEmTumysBvIHH3zQ79DtPKDV1Vd7apNa4UJdDlr50LidfertXKb9Vfk9dOiQvky64YYbXCcsk/6q8b1//35cfPHFevVdNRekpj4uv/xyp6QvbDtM+qsOtnbtWl1hnXfeedi3b5/+f/XlNK6vsJSwFi9ejM6F+1T5GEvCCrf66qkjRVWWH3/8sauqK9WHzgFtpb/qBatexKqCVMsXu1lYVvqrxrOqMNRlkVrMcufOnfoSUeV68ODBYWXhhB1M8qsugVVf1dyVunH0+uuv48MPP9Tz1K4XlrokVJcF1113ne7M5s2bsXr1amzatMkJeepzG/qy+uoXX3yBNWvW6BdyYmJin88djUCT/qpLIzX5PGrUKN1UNwrLtL+qynjmmWd0f9Uk/NVXX62/XWrChAnRSJfxOU36++STT+qbSGriXW2HDx/WC3sqQQ8bNszddwnVpPvYsWP1yqRqe/HFF/UjDuqOhJs309VX1ST722+/jccff9x1slJ5MumvuvxXd486N1V9qHfiW2+91TWPtJj0d+vWrfrmgpqI7tzUHVE11seNG+eKYW7S30cffRRnn312111u9aiOyrnq/4UXXuhuYalLQNURdWdMvfOoCVi1WmnnnJYrsnmGRirpnmn1VXVNrzb1Iv3000/1Nb66za0uGXTZnJCAc845x1Xdt9pf9Y3gKtedm5rPUY9yqJyr55Pcslntr3q+cPr06frxjdGjR+P777/Xk9Kq4ojF/qq5KzVH+fLLL+tUfvTRR3qaR109qTcqV0+6qw6pu4JqUjIQCOjLBPXMSixsva2+qt6F1KZWZ1Vf0KGeWem+KXGpZ1fctFnt76l9cuMloeqDSX+/+eYbPc5V5XHgwAHccsstXc/duSXHVvvb3t6un6tTlbN6CFpdDquHwTu/58H1wnJLwthOEiABOQEKS86QRyABErCJAIVlE2iehgRIQE6AwpIz5BFIgARsIkBh2QSapyEBEpAToLDkDHkEEiABmwhQWDaB5mlIgATkBCgsOUMegQRIwCYCFJZNoHkaEiABOQEKS86QRyABErCJAIVlE2iehgRIQE6AwpIz5BFIgARsIkBh2QSapyEBEpAToLDkDHkEEiABmwhQWDaB5mlIgATkBCgsOUMegQRIwCYCFJZNoHkaEiABOQEKS86QRyABErCJAIVlE2iehgRIQE6AwpIz5BFIgARsIkBh2QSapyEBEpAToLDkDHkEEiABmwhQWDaB5mlIgATkBCgsOUMegQRIwCYCFJZNoHkaEiABOQEKS86QRyABErCJAIVlE2iehgRIQE6AwpIz5BFIgARsIkBh2QSapyEBEpAToLDkDHkEEiABmwj8P4ADbvN2jcgQAAAAAElFTkSuQmCC\" alt=\"График\"/>\n",
       "            </div>\n",
       "        </div>\n",
       "        "
      ],
      "text/plain": [
       "<IPython.core.display.HTML object>"
      ]
     },
     "metadata": {},
     "output_type": "display_data"
    }
   ],
   "source": [
    "pagri_data_tools.my_info_column(df, 'kitchen_total_ratio')"
   ]
  },
  {
   "cell_type": "markdown",
   "metadata": {},
   "source": [
    "Создадим новую переменную - расстояние до центра киллометрах."
   ]
  },
  {
   "cell_type": "code",
   "execution_count": 3,
   "metadata": {},
   "outputs": [
    {
     "data": {
      "text/plain": [
       "Index(['total_images', 'last_price', 'total_area', 'first_day_exposition',\n",
       "       'rooms', 'ceiling_height', 'floors_total', 'living_area', 'floor',\n",
       "       'is_apartment', 'studio', 'open_plan', 'kitchen_area', 'balcony',\n",
       "       'locality_name', 'airports_nearest', 'city_centers_nearest',\n",
       "       'parks_around3000', 'parks_nearest', 'ponds_around3000',\n",
       "       'ponds_nearest', 'days_exposition'],\n",
       "      dtype='object')"
      ]
     },
     "execution_count": 3,
     "metadata": {},
     "output_type": "execute_result"
    }
   ],
   "source": [
    "df.columns"
   ]
  },
  {
   "cell_type": "code",
   "execution_count": 6,
   "metadata": {},
   "outputs": [
    {
     "data": {
      "text/html": [
       "<div>\n",
       "<style scoped>\n",
       "    .dataframe tbody tr th:only-of-type {\n",
       "        vertical-align: middle;\n",
       "    }\n",
       "\n",
       "    .dataframe tbody tr th {\n",
       "        vertical-align: top;\n",
       "    }\n",
       "\n",
       "    .dataframe thead th {\n",
       "        text-align: right;\n",
       "    }\n",
       "</style>\n",
       "<table border=\"1\" class=\"dataframe\">\n",
       "  <thead>\n",
       "    <tr style=\"text-align: right;\">\n",
       "      <th></th>\n",
       "      <th>count</th>\n",
       "    </tr>\n",
       "    <tr>\n",
       "      <th>city_centers_nearest</th>\n",
       "      <th></th>\n",
       "    </tr>\n",
       "  </thead>\n",
       "  <tbody>\n",
       "    <tr>\n",
       "      <th>8460.0</th>\n",
       "      <td>61</td>\n",
       "    </tr>\n",
       "    <tr>\n",
       "      <th>20802.0</th>\n",
       "      <td>32</td>\n",
       "    </tr>\n",
       "    <tr>\n",
       "      <th>10720.0</th>\n",
       "      <td>30</td>\n",
       "    </tr>\n",
       "    <tr>\n",
       "      <th>20444.0</th>\n",
       "      <td>27</td>\n",
       "    </tr>\n",
       "    <tr>\n",
       "      <th>8434.0</th>\n",
       "      <td>27</td>\n",
       "    </tr>\n",
       "    <tr>\n",
       "      <th>...</th>\n",
       "      <td>...</td>\n",
       "    </tr>\n",
       "    <tr>\n",
       "      <th>16631.0</th>\n",
       "      <td>1</td>\n",
       "    </tr>\n",
       "    <tr>\n",
       "      <th>24311.0</th>\n",
       "      <td>1</td>\n",
       "    </tr>\n",
       "    <tr>\n",
       "      <th>15782.0</th>\n",
       "      <td>1</td>\n",
       "    </tr>\n",
       "    <tr>\n",
       "      <th>11940.0</th>\n",
       "      <td>1</td>\n",
       "    </tr>\n",
       "    <tr>\n",
       "      <th>6263.0</th>\n",
       "      <td>1</td>\n",
       "    </tr>\n",
       "  </tbody>\n",
       "</table>\n",
       "<p>7642 rows × 1 columns</p>\n",
       "</div><br><label><b>dtype:</b> int64</label>"
      ],
      "text/plain": [
       "city_centers_nearest\n",
       "8460.0     61\n",
       "20802.0    32\n",
       "10720.0    30\n",
       "20444.0    27\n",
       "8434.0     27\n",
       "           ..\n",
       "16631.0     1\n",
       "24311.0     1\n",
       "15782.0     1\n",
       "11940.0     1\n",
       "6263.0      1\n",
       "Name: count, Length: 7642, dtype: int64"
      ]
     },
     "execution_count": 6,
     "metadata": {},
     "output_type": "execute_result"
    }
   ],
   "source": [
    "df.city_centers_nearest.value_counts()"
   ]
  },
  {
   "cell_type": "code",
   "execution_count": 11,
   "metadata": {},
   "outputs": [],
   "source": [
    "df['city_centers_nearest_km'] = round(df.city_centers_nearest / 1000)"
   ]
  },
  {
   "cell_type": "markdown",
   "metadata": {},
   "source": [
    "## Анализ корреляций между переменными"
   ]
  },
  {
   "cell_type": "markdown",
   "metadata": {},
   "source": [
    "ВАЖНО  \n",
    "проверить, что все категориальные переменные по прежнему имеют категориальный тип, чтобы при анализе они не поетрялись"
   ]
  },
  {
   "cell_type": "code",
   "execution_count": null,
   "metadata": {},
   "outputs": [],
   "source": [
    "df.dtypes"
   ]
  },
  {
   "cell_type": "markdown",
   "metadata": {},
   "source": [
    "### Исследование корреляционных связей"
   ]
  },
  {
   "cell_type": "markdown",
   "metadata": {},
   "source": [
    ">Топ n значений одного столбца по значениям в другом\n",
    ">Сделать функцию, чтобы в столбцах, где бльше 20 уникльных значений посмотреть топ n значений по другой колонке.  \n",
    ">Например, топ 10 покупателей по сумме покупок и прочее.  \n",
    ">Идея в том, что если  в столбце до 20 уникальных значений, то мы проанализируем комбинации с другими стобцами на графиках.  \n",
    ">А вот если у нас столбец не числовой и в нем больше 20 уникальных значений, то на графике мы не сможем понять топ n."
   ]
  },
  {
   "cell_type": "markdown",
   "metadata": {},
   "source": [
    ">Изучаем топ n значений в категориальных столбцах датафрейма, где значений больше порогового, по значению в столбце value_column.  \n",
    ">Тут можно делать разные топы, использовать разные функции.  \n",
    ">Задача изучить то, что мы не сможем изучить на графиках из-за болшого количества занчений в категориальной переменной,  \n",
    ">поэтому мы берем топ n значений.  "
   ]
  },
  {
   "cell_type": "code",
   "execution_count": null,
   "metadata": {},
   "outputs": [],
   "source": [
    "gen = pagri_data_tools.top_n_values_gen()\n",
    "next(gen)"
   ]
  },
  {
   "cell_type": "markdown",
   "metadata": {},
   "source": [
    ">Чтобы сравнить метрики между собой мы можем\n",
    "- использовать корреляционный анализ (Пирсена, Спирмена, Кенделла)\n"
   ]
  },
  {
   "cell_type": "markdown",
   "metadata": {},
   "source": [
    ">`heatmap_corr(df)`"
   ]
  },
  {
   "cell_type": "code",
   "execution_count": null,
   "metadata": {},
   "outputs": [],
   "source": [
    "pagri_data_tools.pagri_data_tools.heatmap_corr(df)"
   ]
  },
  {
   "cell_type": "markdown",
   "metadata": {},
   "source": [
    ">Использование регрессии и случайного леса для определения влияния переменных  "
   ]
  },
  {
   "cell_type": "markdown",
   "metadata": {},
   "source": [
    ">Коэффициенты регрессии позволяют оценить влияние каждой переменной на целевую переменную, учитывая влияние других переменных,  \n",
    ">в то время как важные компоненты в случайном лесе позволяют оценить важность каждой переменной для предсказания целевой переменной."
   ]
  },
  {
   "cell_type": "markdown",
   "metadata": {},
   "source": [
    ">Используем регрессиию"
   ]
  },
  {
   "cell_type": "markdown",
   "metadata": {},
   "source": [
    ">Чтобы построить регрессию и посмотреть стат значимость и коэффициенты удобно использовать модуль statsmodel"
   ]
  },
  {
   "cell_type": "markdown",
   "metadata": {},
   "source": [
    ">VIF означает Variance Inflation Factor (Фактор инфляции дисперсии). Это статистическая метрика,   \n",
    ">используемая для обнаружения мультиколлинеарности (сильной корреляции) между предикторами (фичами) в линейной регрессии."
   ]
  },
  {
   "cell_type": "markdown",
   "metadata": {},
   "source": [
    ">Обычно, VIF интерпретируется следующим образом:\n",
    ">\n",
    "- VIF < 5: слабая мультиколлинеарность\n",
    "- 5 ≤ VIF < 10: умеренная мультиколлинеарность\n",
    "- VIF ≥ 10: сильная мультиколлинеарность"
   ]
  },
  {
   "cell_type": "markdown",
   "metadata": {},
   "source": [
    ">\n",
    ">Смотрим R2 (коэффициент детерминации)\n",
    "- использовать коэффициенты у регресси\n",
    ">Мы строим регрессию и смотрим, у каких метрик больше коэффициенты. Таким образом мы поймем какие метрики сильнее зависят с целевой.  \n",
    ">Важно, чтобы независимые переменные некоррелировали по отдельности и вместе (мультиколлиниарность).  \n",
    ">По отдельности смотрим матрицу корреляции.  \n",
    ">Чтобы определить коррелириуют ли вместе, береме независимые переменные,  \n",
    ">и перебираем их выбирая одну из них целевой и смотрим R2.  \n",
    ">Если R2 большой, то значит эта метрика (которая целевая на этом шаге) хорошо описывается другими и ее можно выбросить.\n",
    ">Также не забываем поправки на гетероскедостичность (HC0, HC1, HC2, HC3) в статпакетах.  \n",
    ">Нам нужно ответить на следующие вопросы\n",
    ">    - Влияет ли метрика на целевую?\n",
    ">    Оцениваем коэффициенты в уравнении регресси у каждой метрики.  \n",
    ">    - Как влияет метрика на целевую?\n",
    ">    Смотрим R2 (коэффициент детерминации). И определяем какая часть целевой переменной определяется независимыми метриками.  \n",
    ">    - Коэффициенты при метриках в уравнении статистически значим? При какаом уровне значимости?\n",
    ">    Смотрим в стат пакете p value для каждого коэффициента, что нам говорит значим ли этот коэффициент.  \n",
    ">    То есть мы не просто смотрим его абсолютное значение, а учитываем p value.   \n",
    ">    - Дайте содержательную интерпретацию коэффицентам?\n",
    ">    При увеличении метрики k на 1, целевая метрика увеличивается на $b_{k} * 1$\n",
    ">    То есть нужно перевести коэффициенты в реальное сравнение, насколько увелчисться целевая метрика при изменении определенной метрики на 1\n",
    ">    - Найдите 95 процентный доверительный интервал.\n",
    ">    В стат пакете смотрим значение и оно говорит, что если мы многократно повторим ноши вычисления с новыми данными, то 95 процентов наших  \n",
    ">    полученных коэффицентов будут лежать в этом диапазоне.  "
   ]
  },
  {
   "cell_type": "markdown",
   "metadata": {},
   "source": [
    ">Строим модель и изучаем результат  \n",
    ">`linear_regression_with_vif`"
   ]
  },
  {
   "cell_type": "code",
   "execution_count": null,
   "metadata": {},
   "outputs": [],
   "source": [
    "pagri_data_tools.linear_regression_with_vif()"
   ]
  },
  {
   "cell_type": "markdown",
   "metadata": {},
   "source": [
    ">Испльзовать коэффициенты у классификацию    \n",
    ">Строим случайный лес какие метрики сильнее всего влияют на решения модели.   \n",
    ">`plot_feature_importances_classifier`   \n",
    ">`plot_feature_importances_regression`"
   ]
  },
  {
   "cell_type": "markdown",
   "metadata": {},
   "source": [
    ">Тут нужно подумать как использовать категориальные переменные тоже   \n",
    ">Нужно их перевести в one hot encoding или подобное, чтобы также проверить силу их влияния на целевую перменную"
   ]
  },
  {
   "cell_type": "code",
   "execution_count": null,
   "metadata": {},
   "outputs": [],
   "source": [
    "titles_for_axis = dict(\n",
    "    debt = 'долга'\n",
    "    , children = 'Кол-во детей'\n",
    "    , age = 'Возраст'\n",
    "    , total_income = 'Доход'\n",
    ")\n",
    "\n",
    "pagri_data_tools.plot_feature_importances_classifier(df, target='debt', titles_for_axis=titles_for_axis)\n",
    "pagri_data_tools.plot_feature_importances_regression()"
   ]
  },
  {
   "cell_type": "markdown",
   "metadata": {},
   "source": [
    ">На основе полученных данных формулируем гипотезы, которые будем проверять в блоке проверки гипотез"
   ]
  },
  {
   "cell_type": "markdown",
   "metadata": {},
   "source": [
    "> используем быблиотеку `shap`, чтобы определить метрики, которые лучше других помогают предсказывать целевую перемменную"
   ]
  },
  {
   "cell_type": "markdown",
   "metadata": {},
   "source": [
    "### Промежуточный вывод"
   ]
  },
  {
   "cell_type": "markdown",
   "metadata": {
    "id": "3TP7GMcjrRWB"
   },
   "source": [
    "## Анализ взаимосвязей переменных на графиках"
   ]
  },
  {
   "cell_type": "markdown",
   "metadata": {
    "id": "YxeFoGibrRWC"
   },
   "source": [
    "Если у нас много значений в переменной, то мы агрегируем данные и можем построить бары.  \n",
    "Но если мы агрегируем данные по переменной, в которой много значений и нам это нужно.   \n",
    "То мы не сможем построить бары, и тогда мы строим гистограмму. То есть мы берем, например, для каждой заправки считаем среднее время заправки и так как у нас много заправок,  \n",
    "но мы хотим визуализировать среднее время по ним, и не агрегировать по другому параметру, то мы можем испльзовать гистограмму.  \n",
    "В данном случае гистограмма своего рода агрегация в бины, то есть мы получаем как бы новую переменную из бинов, в каждом бине будет агрегированы данные.  \n",
    "Это работает, когда нам нужно просто посмотреть колечество, так как в бинах будет количество. Таким образом мы получаем сколько у нас заправок имеют определенное среднее вермя заправки.  "
   ]
  },
  {
   "cell_type": "markdown",
   "metadata": {
    "id": "LLBtkndcrRWC"
   },
   "source": [
    ">Про размер графиков    \n",
    ">Стандартный размер графиков width=600, height=400  \n",
    ">Для более сложных графиков, когда  требуется больше места для отображения данных, можно использовать размеры width=800, height=600 или width=1000, height=800"
   ]
  },
  {
   "cell_type": "markdown",
   "metadata": {
    "id": "0MR9PIJKrRWD"
   },
   "source": [
    ">Сравнивать количество элементов нужно в абсолютных и относительных величинах.  \n",
    ">Когда мы сравниваем только в абсолютных величинах, мы не учитываем размеры групп.  \n",
    ">В одной группе может быть элементов больше чем в другой и тогда сравнение будет не совсем точным.   \n",
    ">Если у нас 2 категориальные переменные, то мы можем сравнивать отностельные величины  \n",
    ">по одной переменной, а можем по другой.  \n",
    ">Это как сравнивать суммарный возраст в группах, это не дает полной картины и мы сравниваем средний возраст,  \n",
    ">чтобы размер группы не влиял.  "
   ]
  },
  {
   "cell_type": "markdown",
   "metadata": {
    "id": "OiwGuCgCrRWE"
   },
   "source": [
    ">ВАЖНО\n",
    ">Анализ графиков и выводы для них должны полностью перекрывать постановку задачи и цель.  \n",
    ">Это значит, что если цель проанализировать зависимость наличия долга, то мы в идеале должны проанализировать  \n",
    ">влиянеие каждой переменной на наличие долга (числовой и категориальной)  \n",
    ">Кончено нужно проанализировать все возможные зависимости.  \n",
    ">Но все зависимости с переменной в постновке задачи мы обязаны проверить и дать выводы. И о наличии и об отсутствие.  \n",
    ">Важные выводы делаем не только о наличие интересных моментов, но и об отсутствие.  \n"
   ]
  },
  {
   "cell_type": "markdown",
   "metadata": {
    "id": "jED9tGlWrRWF"
   },
   "source": [
    ">Сначала раздел графиков  \n",
    ">На основе графиков формируются гипотезы (например, у нас у мужчин зп больше)\n",
    ">И после раздела графиков идет раздел проверки гипотез. Тут мы првоеряем разные гипотезы новые и те, что увидели на графиках.  \n",
    ">Это правильная последовательность сначала изучили графики и потом на основе их сформировали гипоетзы\n",
    ">Перед разделом про графики идет раздел с корреляцией и поиском главных компонет случайного леса.  \n",
    ">Мы выбиарем переменную, для которой мы далее хотим посмотреть разыне зависимости и указываем ее целевой для сучайного леса  \n",
    ">И смотрим какие фичи сильнее влияют.  \n",
    ">И теперь можем построить графики с целевой перменно и этими главными фичами и в выводе можно указать про то что это важные компоненты случаного леса"
   ]
  },
  {
   "cell_type": "markdown",
   "metadata": {
    "id": "X8lnyKv3rRWH"
   },
   "source": [
    ">На основе полученных данных формулируем гипотезы, которые будем проверять в блоке проверки гипотез"
   ]
  },
  {
   "cell_type": "markdown",
   "metadata": {
    "id": "dXPbM2PFrRWI"
   },
   "source": [
    "### Анализ временных зависимостей"
   ]
  },
  {
   "cell_type": "markdown",
   "metadata": {},
   "source": [
    "Изучить сезонность."
   ]
  },
  {
   "cell_type": "markdown",
   "metadata": {
    "id": "TCWZWLj8rRWJ"
   },
   "source": [
    "Когда мы хотим изучить верменную зависимость, то нам нуно создать новые переменные с обрезанными (trunc or round) значениям, чтобы можно было сгруппировать используя groupby or pivot_table  \n",
    "по этой обрезанной переменной и применить функцию агрегации и построить график, например, среднее время заправки на азс по часам.  \n",
    "Вот когда мы работаем с временем, нам нужно думать какие переменные создать, обрезая текущее время.  "
   ]
  },
  {
   "cell_type": "markdown",
   "metadata": {
    "id": "pgxVlrshrRWL"
   },
   "source": [
    ">Строим когортный анализ, если есть возможность"
   ]
  },
  {
   "cell_type": "markdown",
   "metadata": {
    "id": "IkpH8AAMrRWM"
   },
   "source": [
    ">Если у нас есть даты, то мы можем посмотреть не просто абсолютные значения на каждую дату какой-то метрики,  \n",
    ">а посмотреть относительные значения относительно предыдущего значения.  \n",
    ">Для этого нужно составить таблицу, в которой будет изменение в процентах относительно предыдущего значения.  \n",
    ">И затем визуализировать для каждой даты динамику этого показателя"
   ]
  },
  {
   "cell_type": "markdown",
   "metadata": {
    "id": "tLUcKLTUrRWO"
   },
   "source": [
    "### Изучение зависимостей между числовыми переменными"
   ]
  },
  {
   "cell_type": "code",
   "execution_count": null,
   "metadata": {
    "id": "dL3DReC5rRWP"
   },
   "outputs": [],
   "source": [
    "Построить hexbinplot"
   ]
  },
  {
   "cell_type": "markdown",
   "metadata": {
    "id": "cZfkNn4XrRWQ"
   },
   "source": [
    ">Изучаем scatter plots"
   ]
  },
  {
   "cell_type": "code",
   "execution_count": null,
   "metadata": {
    "id": "u_BwuRkXrRWR"
   },
   "outputs": [],
   "source": [
    "titles_for_axis = dict(\n",
    "    # numeric column\n",
    "    children = 'Кол-во детей'\n",
    "    , age = 'Возраст'\n",
    "    , total_income = 'Доход'\n",
    ")"
   ]
  },
  {
   "cell_type": "code",
   "execution_count": null,
   "metadata": {
    "id": "LPsVG9hZrRWR"
   },
   "outputs": [],
   "source": [
    "pagri_data_tools.pairplot(df, titles_for_axis=titles_for_axis, horizontal_spacing=0.12, height=400, width=1200, rows=1, cols=3).show(config=dict(displayModeBar=False, dpi=200), renderer=\"png\")\n",
    "# если нужно интерактивый график, то\n",
    "fig = pagri_data_tools.pairplot(df, titles_for_axis=titles_for_axis, horizontal_spacing=0.12, height=800, width=800)\n",
    "fig.show()"
   ]
  },
  {
   "cell_type": "markdown",
   "metadata": {
    "id": "woFev77NrRWT"
   },
   "source": [
    "### Изучение зависимостей между категориальными переменными"
   ]
  },
  {
   "cell_type": "code",
   "execution_count": null,
   "metadata": {
    "id": "kHlQh2xxrRWU"
   },
   "outputs": [],
   "source": [
    "gen = pagri_graphs.categorical_graph_analys_gen(df)"
   ]
  },
  {
   "cell_type": "code",
   "execution_count": null,
   "metadata": {
    "id": "hgddp4BfrRWV"
   },
   "outputs": [],
   "source": [
    "next(gen)"
   ]
  },
  {
   "cell_type": "markdown",
   "metadata": {
    "id": "6Dp3O-plrRWW"
   },
   "source": [
    ">Строим матрицу тепловой карты для категориальных переменных и изучаем зависимости  \n",
    ">`categorical_heatmap_matrix_gen`"
   ]
  },
  {
   "cell_type": "markdown",
   "metadata": {
    "id": "HgXCzTD9rRWW"
   },
   "source": [
    ">Посмотрим на распределение количества элементов между группами"
   ]
  },
  {
   "cell_type": "markdown",
   "metadata": {
    "id": "fPjUNRxxrRWX"
   },
   "source": [
    ">Нужно подумать как отобразить не только процент от всего количества, но и пороцент в группе  \n",
    ">То есть у нас есть значение в ячейке, сумма всех, сумма по категории на оси x и сумма по категории на оси Y   \n",
    ">Вот нужно как-то отобразить процент от суммы, процент от одной категории и от другой категории"
   ]
  },
  {
   "cell_type": "code",
   "execution_count": null,
   "metadata": {
    "id": "_u_6VeubrRWY"
   },
   "outputs": [],
   "source": [
    "12 (0.5% of total, 20% of row, 15% of col)"
   ]
  },
  {
   "cell_type": "markdown",
   "metadata": {
    "id": "sqq1xEZKrRWZ"
   },
   "source": [
    ">Можно сделать кнопки, чтобы можно было подсветку делать внури колонок и строк  "
   ]
  },
  {
   "cell_type": "markdown",
   "metadata": {
    "id": "3Rrg5-GkrRWb"
   },
   "source": [
    ">Можно сделать кнопки (процент от общего) (процент от тут указывается название оси x) (аналогично для второй оси)"
   ]
  },
  {
   "cell_type": "code",
   "execution_count": null,
   "metadata": {
    "id": "Pv87vcOUrRWb"
   },
   "outputs": [],
   "source": [
    "titles_for_axis = dict(\n",
    "    # numeric column\n",
    "    children = ['Количество детей', 'количество детей', 0]\n",
    "    , age = ['Возраст, лет', 'возраст', 1]\n",
    "    , total_income = ['Ежемесячный доход', 'ежемесячный доход', 1]\n",
    "     # category column\n",
    "    , education = ['Уровень образования', 'уровня образования']\n",
    "    , family_status = ['Семейное положение', 'семейного положения']\n",
    "    , gender = ['Пол', 'пола']\n",
    "    , income_type = ['Тип занятости', 'типа занятости']\n",
    "    , debt = ['Задолженность', 'задолженности']\n",
    "    , purpose = ['Цель получения кредита', 'цели получения кредита']\n",
    "    , has_child = ['Наличие детей', 'наличия детей']\n",
    "    , age_cat = ['Возрастная категория, лет', 'возрастной категории']\n",
    "    , total_income_cat = ['Категория дохода', 'категории дохода']\n",
    ")"
   ]
  },
  {
   "cell_type": "code",
   "execution_count": null,
   "metadata": {
    "id": "Se0I9zVhrRWc"
   },
   "outputs": [],
   "source": [
    "pagri_data_tools.categorical_graph_analys_gen()"
   ]
  },
  {
   "cell_type": "markdown",
   "metadata": {
    "id": "2UuHpjRLrRWd"
   },
   "source": [
    ">Строим treemap  \n",
    ">`treemap`   \n",
    ">`treemap_dash`   \n",
    ">```\n",
    ">app = treemap_dash(df)\n",
    ">if __name__ == '__main__':\n",
    ">    app.run_server(debug=True)\n",
    ">```"
   ]
  },
  {
   "cell_type": "code",
   "execution_count": null,
   "metadata": {
    "id": "hCtjpyw8rRWe"
   },
   "outputs": [],
   "source": [
    "pagri_data_tools.treemap()"
   ]
  },
  {
   "cell_type": "code",
   "execution_count": null,
   "metadata": {
    "id": "ikMDeIzkrRWf"
   },
   "outputs": [],
   "source": [
    "app = pagri_data_tools.treemap_dash(df)\n",
    "if __name__ == '__main__':\n",
    "    app.run_server(debug=True)"
   ]
  },
  {
   "cell_type": "markdown",
   "metadata": {
    "id": "IJ7NitLfrRWg"
   },
   "source": [
    ">Строим parallel_categories    \n",
    ">`parallel_categories `  \n",
    ">`parallel_categories_dash `  \n",
    ">```\n",
    ">app = treemap_dash(df)\n",
    ">if __name__ == '__main__':\n",
    ">    app.run_server(debug=True)\n",
    ">```"
   ]
  },
  {
   "cell_type": "code",
   "execution_count": null,
   "metadata": {
    "id": "YfLQJeYqrRWh"
   },
   "outputs": [],
   "source": [
    "pagri_data_tools.parallel_categories()"
   ]
  },
  {
   "cell_type": "code",
   "execution_count": null,
   "metadata": {
    "id": "odcDD06VrRWh"
   },
   "outputs": [],
   "source": [
    "app = pagri_data_tools.parallel_categories_dash(df)\n",
    "if __name__ == '__main__':\n",
    "    app.run_server(debug=True)"
   ]
  },
  {
   "cell_type": "markdown",
   "metadata": {
    "id": "mfipm_NfrRWj"
   },
   "source": [
    ">Строим Sankey  \n",
    ">`sankey `   \n",
    ">`sankey_dash`\n",
    ">\n",
    ">```\n",
    ">app = treemap_dash(df)\n",
    ">if __name__ == '__main__':\n",
    ">    app.run_server(debug=True)\n",
    ">```"
   ]
  },
  {
   "cell_type": "code",
   "execution_count": null,
   "metadata": {
    "id": "ZwI8SqNgrRWj"
   },
   "outputs": [],
   "source": [
    "pagri_data_tools.sankey()"
   ]
  },
  {
   "cell_type": "code",
   "execution_count": null,
   "metadata": {
    "id": "yZ7CnD_WrRWk"
   },
   "outputs": [],
   "source": [
    "app = pagri_data_tools.sankey_dash(df)\n",
    "if __name__ == '__main__':\n",
    "    app.run_server(debug=True)"
   ]
  },
  {
   "cell_type": "markdown",
   "metadata": {
    "id": "zv26sBXArRWl"
   },
   "source": [
    "### Изучение зависимостей между числовыми и категориальными переменными"
   ]
  },
  {
   "cell_type": "markdown",
   "metadata": {
    "id": "8GP7z1uCrRWl"
   },
   "source": [
    ">Можно добавить кнопку среднее и количество  \n",
    ">Чтобы можно было посмотртеть распределение по количеству, когда смотрить среднее.  \n"
   ]
  },
  {
   "cell_type": "markdown",
   "metadata": {
    "id": "XMziOQWrrRWn"
   },
   "source": [
    ">```graph_analysis```"
   ]
  },
  {
   "cell_type": "code",
   "execution_count": null,
   "metadata": {
    "id": "_l0G0NkxrRWn"
   },
   "outputs": [],
   "source": [
    "gen = pagri_data_tools.graph_analysis()"
   ]
  },
  {
   "cell_type": "markdown",
   "metadata": {
    "id": "aw2wflHxrRWp"
   },
   "source": [
    ">Когда выбрали нужные графики, то стоим их"
   ]
  },
  {
   "cell_type": "markdown",
   "metadata": {
    "id": "i7cGg9rNrRWq"
   },
   "source": [
    ">Чтобы автоматически генерировались подписи осей и заголовок графика, нужно заполшнить такой словарь.    \n",
    ">Первый элемент списка - это подпись оси  \n",
    ">Второй элемент списка - это как это название будет отображаться в заголовке графика  \n",
    ">Для числовых столбцов также указывается род, чтобы правильно выбрать (Середнее, средний, средняя) (0 - средний род, 1 - мужской род, 2 - женский род)"
   ]
  },
  {
   "cell_type": "code",
   "execution_count": null,
   "metadata": {
    "id": "1GQbB3jQrRWq"
   },
   "outputs": [],
   "source": [
    "f'Среднее / Медианное / Суммарное {numeric} в зависимости от {category} и {category}'"
   ]
  },
  {
   "cell_type": "code",
   "execution_count": null,
   "metadata": {
    "id": "IzjN2-C8rRWs"
   },
   "outputs": [],
   "source": [
    "titles_for_axis = dict(\n",
    "    # numeric column (0 - средний род, 1 - мужской род, 2 - женский род) (Середнее образовние, средний доход, средняя температура) )\n",
    "    children = ['Количество детей', 'количество детей', 0]\n",
    "    , age = ['Возраст, лет', 'возраст', 1]\n",
    "    , total_income = ['Ежемесячный доход', 'ежемесячный доход', 1]\n",
    "     # category column\n",
    "    , education = ['Уровень образования', 'уровня образования']\n",
    "    , family_status = ['Семейное положение', 'семейного положения']\n",
    "    , gender = ['Пол', 'пола']\n",
    "    , income_type = ['Тип занятости', 'типа занятости']\n",
    "    , debt = ['Задолженность (1 - имеется, 0 - нет)', 'задолженности']\n",
    "    , purpose = ['Цель получения кредита', 'цели получения кредита']\n",
    "    , dob_cat = ['Возрастная категория, лет', 'возрастной категории']\n",
    "    , total_income_cat = ['Категория дохода', 'категории дохода']\n",
    ")"
   ]
  },
  {
   "cell_type": "code",
   "execution_count": null,
   "metadata": {
    "id": "DyTcC1YVrRWt"
   },
   "outputs": [],
   "source": [
    "summory = []\n",
    "columns = []"
   ]
  },
  {
   "cell_type": "code",
   "execution_count": null,
   "metadata": {
    "id": "3SGqWIIerRWu"
   },
   "outputs": [],
   "source": [
    "gen = pagri_data_tools.graph_analysis_gen(df)"
   ]
  },
  {
   "cell_type": "markdown",
   "metadata": {
    "id": "REGNoPijrRWv"
   },
   "source": [
    ">Сначала запускаем код через 1 ячейку `columns = next(gen)`,  \n",
    ">чтобы появлися график и в `colunns` появились текущие названия колонок  \n",
    ">Далее пишем наблюдения, если хотим сохранить график и выполняем ячейку ниже.  \n",
    ">Если сохранять не хотим, то просто выполняем дальше `columns = next(gen)`  "
   ]
  },
  {
   "cell_type": "code",
   "execution_count": null,
   "metadata": {
    "id": "xFgxOzfGrRWw"
   },
   "outputs": [],
   "source": [
    "summory.append(dict(\n",
    "    columns = columns\n",
    "    , observations =\n",
    "'''\n",
    "**Наблюдения:**\n",
    "- 21\n",
    "- Размер больше\n",
    "- 1\n",
    "- Сильнее других\n",
    "-\n",
    "'''))"
   ]
  },
  {
   "cell_type": "code",
   "execution_count": null,
   "metadata": {
    "id": "7ncjoOEVrRWx"
   },
   "outputs": [],
   "source": [
    "columns = next(gen)"
   ]
  },
  {
   "cell_type": "markdown",
   "metadata": {
    "id": "V7biJxcCrRWz"
   },
   "source": [
    ">В `summory` находятся названия колонок и наблюдения для графиков, которые стоит построить"
   ]
  },
  {
   "cell_type": "markdown",
   "metadata": {
    "id": "Og3AZtsirRWz"
   },
   "source": [
    ">ВАЖНО  \n",
    ">После построеня всех графиков и коппирования комментариев из summory  \n",
    ">Мы в предваретельном выводе после раздела графиков вставляем выводы из summory  \n",
    ">Чтобы их не собирать  вручную у каждого графика"
   ]
  },
  {
   "cell_type": "code",
   "execution_count": null,
   "metadata": {
    "id": "abgDg8EvrRW1"
   },
   "outputs": [],
   "source": [
    "def gen_temp():\n",
    "    for item in summory:\n",
    "        colunns = item['columns']\n",
    "        observations = item['observations']\n",
    "        print(observations)\n",
    "        yield colunns"
   ]
  },
  {
   "cell_type": "code",
   "execution_count": null,
   "metadata": {
    "id": "wp1UEM0zrRW2"
   },
   "outputs": [],
   "source": [
    "gen = gen_temp()"
   ]
  },
  {
   "cell_type": "code",
   "execution_count": null,
   "metadata": {
    "id": "PCKlNjH6rRW3",
    "outputId": "931b63d3-84a4-4193-a819-053cf34441ab"
   },
   "outputs": [
    {
     "name": "stdout",
     "output_type": "stream",
     "text": [
      "\n",
      "**Наблюдения:**  \n",
      "- 21\n",
      "- Размер больше\n",
      "- 1\n",
      "- Сильнее других\n",
      "- \n",
      "\n"
     ]
    }
   ],
   "source": [
    "colunns = next(gen)"
   ]
  },
  {
   "cell_type": "markdown",
   "metadata": {
    "id": "icWQxJ7urRW5"
   },
   "source": [
    ">Чтобы построить график без category- просто закоментируй  строку с category."
   ]
  },
  {
   "cell_type": "code",
   "execution_count": null,
   "metadata": {
    "id": "vxsvQTy2rRW6"
   },
   "outputs": [],
   "source": [
    "config = dict(df = df\n",
    "    , x = colunns[1]\n",
    "    , y = colunns[0]\n",
    "    , category = colunns[2]\n",
    "    # , width = 800\n",
    "    # , orientation = 'h'\n",
    ")\n",
    "pagri_data_tools.bar(config, titles_for_axis)"
   ]
  },
  {
   "cell_type": "markdown",
   "metadata": {
    "id": "JMEnXs7nrRW7"
   },
   "source": [
    "**Наблюдения:**\n",
    "-  У мужчин средний доход выше"
   ]
  },
  {
   "cell_type": "markdown",
   "metadata": {
    "id": "wrxiPxZgrRW8"
   },
   "source": [
    "**Наблюдения:**\n",
    "-  текст"
   ]
  },
  {
   "cell_type": "markdown",
   "metadata": {
    "id": "QZsaqIcKrRW8"
   },
   "source": [
    "### Промежуточный вывод"
   ]
  },
  {
   "cell_type": "markdown",
   "metadata": {
    "id": "I8uO7Ex8rRW9"
   },
   "source": [
    "## Формулирование и провера гипотез"
   ]
  },
  {
   "cell_type": "markdown",
   "metadata": {
    "id": "5Sy6zulkrRW-"
   },
   "source": [
    "### Формулирование гипотез"
   ]
  },
  {
   "cell_type": "markdown",
   "metadata": {
    "id": "WscMhNG5rRW_"
   },
   "source": [
    ">На основе проведенного анализа данных сформулирем следующие гипотезы:"
   ]
  },
  {
   "cell_type": "markdown",
   "metadata": {
    "id": "qN3FLBpErRXA"
   },
   "source": [
    ">Гипотеза 1: Нет зависимость между наличием детей и возвратом кредита в срок.  \n",
    ">Гипотеза 2: У мужчин средний доход выше  \n",
    ">Гипотеза 3: Цель получения кредита не зависит от среднего ежемесяченого доход  \n",
    ">Гипотеза 4: Средний доход по семейному статусу одинаковый, но у вдовцов отличается  \n",
    ">Гипотеза 5: У должников в среднем больше детей   \n",
    ">Гипотеза 6: У должников средний возраст ниже  \n",
    ">Гипотеза 7: Медианный доход у должников и не должников не  отличается  "
   ]
  },
  {
   "cell_type": "markdown",
   "metadata": {
    "id": "5xi738wWrRXB"
   },
   "source": [
    ">Не забываем что гипотезы можно проверять и между 2 категориальными переменными.  \n",
    ">Проверять есть ли между ними зависимости.  \n",
    ">Также если мы на графиках определили, что есть между 2 категориальными перменными связь,  то тут можем это проверить"
   ]
  },
  {
   "cell_type": "markdown",
   "metadata": {
    "id": "8z2eyVyYrRXC"
   },
   "source": [
    "### Проверка гипотез"
   ]
  },
  {
   "cell_type": "markdown",
   "metadata": {
    "id": "eyXxW9R-rRXD"
   },
   "source": [
    ">Проверим сформулированные гипотезы."
   ]
  },
  {
   "cell_type": "markdown",
   "metadata": {
    "id": "VU2oNNYDrRXE"
   },
   "source": [
    ">_hypothesis_ **Гипотеза 1: Название гипотезы**"
   ]
  },
  {
   "cell_type": "markdown",
   "metadata": {
    "id": "GknXuEMtrRXE"
   },
   "source": [
    ">H0: The two categorical variables are independent.    \n",
    ">H1: The two categorical variables are not independent (i.e., there is a significant association between them).    "
   ]
  },
  {
   "cell_type": "markdown",
   "metadata": {
    "id": "xZ9OgdF4rRXF"
   },
   "source": [
    ">Примеры гипотез\n",
    "- Есть ли зависимость между наличием детей и возвратом кредита в срок?"
   ]
  },
  {
   "cell_type": "markdown",
   "metadata": {
    "id": "texOpfUnrRXG"
   },
   "source": [
    ">Это будет часто возникать когда у нас категориальная целевая переменная и другие категориальные переменные.  \n",
    ">И мы хотим проверить влияют ли категориальные переменные на целевую.  \n",
    ">Например у нас есть поле наличие долга (есть или нет)  \n",
    ">Вот тут мы можем провести тесты со всеми каетгориями на наличие зависимости с наличием долга.  \n",
    ">В идеале мы на графиках должны найти гипотезы и тут их проверить.  \n",
    ">Но если у нас целевая переменная, то мы можем сравнить ее со всеми категориями"
   ]
  },
  {
   "cell_type": "code",
   "execution_count": null,
   "metadata": {
    "id": "_TSzFOvXrRXH"
   },
   "outputs": [],
   "source": [
    "pagri_data_tools.chi2_pearson()"
   ]
  },
  {
   "cell_type": "markdown",
   "metadata": {
    "id": "dduyuRwarRXI"
   },
   "source": [
    ">Формируем словарь для подписей осей и названия гистограм"
   ]
  },
  {
   "cell_type": "code",
   "execution_count": null,
   "metadata": {
    "id": "fy1w5SrArRXI"
   },
   "outputs": [],
   "source": [
    "titles_for_axis = dict(\n",
    "    # numeric column\n",
    "    children = ['Количество детей', 'количества детей']\n",
    "    , age = ['Возраст', 'возраста']\n",
    "    , total_income = ['Ежемесячный доход', 'ежемесячного дохода']\n",
    ")"
   ]
  },
  {
   "cell_type": "markdown",
   "metadata": {
    "id": "C97hB7dSrRXK"
   },
   "source": [
    ">Нулевая гипотеза должна быть направлена на отсутствие эффекта, а альтернативная гипотеза должна быть направлена на наличие эффекта."
   ]
  },
  {
   "cell_type": "markdown",
   "metadata": {
    "id": "O6YuDu-JrRXL"
   },
   "source": [
    ">Формулируем гипотезу через H0, H1"
   ]
  },
  {
   "cell_type": "markdown",
   "metadata": {
    "id": "5bJVOeKbrRXM"
   },
   "source": [
    ">H0: У мужчин средний доход не выше, чем у женщин  \n",
    ">H1: У мужчин средний доход выше, чем у женщин"
   ]
  },
  {
   "cell_type": "markdown",
   "metadata": {
    "id": "QhjxDS1FrRXN"
   },
   "source": [
    ">Смотрим распределение метрики"
   ]
  },
  {
   "cell_type": "code",
   "execution_count": null,
   "metadata": {
    "id": "Qv-CnzHqrRXN"
   },
   "outputs": [],
   "source": [
    "pagri_data_tools.histogram(df.total_income, titles_for_axis)"
   ]
  },
  {
   "cell_type": "markdown",
   "metadata": {
    "id": "85buucVMrRXO"
   },
   "source": [
    ">Делаем вывод о распределении.    \n",
    ">Выбираем критерий для проверки гипотезы.  \n",
    ">Определяем уровнь значимости."
   ]
  },
  {
   "cell_type": "markdown",
   "metadata": {
    "id": "afvL5rUVrRXP"
   },
   "source": [
    ">Проводим тест  \n",
    ">ВАЖНО  \n",
    ">df в ttest_ind_df и подобных можно испльзовать только для 2 стороннего случая  \n",
    ">Для одностороннего нужно придумать как определять какая группа первая по порядку пойдет в тест,  \n",
    ">в зависимости от постановки гипотезы, так как альтернатива опредляется исходя из порядка аргументов в функции теста"
   ]
  },
  {
   "cell_type": "markdown",
   "metadata": {
    "id": "QuRfU2H9rRXQ"
   },
   "source": [
    ">Если используем ттест или анову, то сначала проводим тест на проверку дисперсии"
   ]
  },
  {
   "cell_type": "markdown",
   "metadata": {
    "id": "m6yvTzDhrRXR"
   },
   "source": [
    ">H0: У должников и не должников дисперсия не отличается  \n",
    ">H1: У должников и не должников дисперсия отличается"
   ]
  },
  {
   "cell_type": "code",
   "execution_count": null,
   "metadata": {
    "id": "JKkKDQfxrRXS"
   },
   "outputs": [],
   "source": [
    "pagri_data_tools.levene_df\n",
    "pagri_data_tools.levene\n",
    "pagri_data_tools.bartlett_df\n",
    "pagri_data_tools.bartlett"
   ]
  },
  {
   "cell_type": "markdown",
   "metadata": {
    "id": "7K2G0OA7rRXU"
   },
   "source": [
    ">Выбираем критерий"
   ]
  },
  {
   "cell_type": "code",
   "execution_count": null,
   "metadata": {
    "id": "_pA0REavrRXV"
   },
   "outputs": [],
   "source": [
    "pagri_data_tools.chi2_pearson\n",
    "pagri_data_tools.ttest_ind_df\n",
    "pagri_data_tools.ttest_ind\n",
    "pagri_data_tools.mannwhitneyu_df\n",
    "pagri_data_tools.mannwhitneyu\n",
    "pagri_data_tools.proportion_ztest_1sample\n",
    "pagri_data_tools.proportions_ztest_2sample\n",
    "pagri_data_tools.proportions_ztest_column_2sample\n",
    "pagri_data_tools.proportions_chi2\n",
    "pagri_data_tools.proportions_chi2_column\n",
    "pagri_data_tools.anova_oneway_df\n",
    "pagri_data_tools.anova_oneway\n",
    "pagri_data_tools.tukey_hsd_df\n",
    "pagri_data_tools.anova_oneway_welch_df\n",
    "pagri_data_tools.kruskal_df\n",
    "pagri_data_tools.kruskal\n",
    "pagri_data_tools.bootstrap_diff_2sample # важно, сохраняем fig и в следующей ячейке делаем fig.shwo(), иначе на google colab работает некорректно"
   ]
  },
  {
   "cell_type": "markdown",
   "metadata": {
    "id": "BSkUAiForRXW"
   },
   "source": [
    ">Проводим тест"
   ]
  },
  {
   "cell_type": "markdown",
   "metadata": {
    "id": "sBn8aa2ErRXX"
   },
   "source": [
    ">Если отклоняем гипотезу, то строим доверитлеьный интервал"
   ]
  },
  {
   "cell_type": "code",
   "execution_count": null,
   "metadata": {
    "id": "zXwTlrPKrRXY"
   },
   "outputs": [],
   "source": [
    "pagri_data_tools.confint_t_2samples\n",
    "pagri_data_tools.confint_t_2samples_df\n",
    "pagri_data_tools.confint_proportion_ztest_2sample\n",
    "pagri_data_tools.confint_proportion_ztest_column_2sample\n",
    "pagri_data_tools.confint_proportion_2sample_statsmodels\n",
    "pagri_data_tools.confint_proportion_coluns_2sample_statsmodels"
   ]
  },
  {
   "cell_type": "code",
   "execution_count": null,
   "metadata": {
    "id": "nod4lXT0rRXZ"
   },
   "outputs": [],
   "source": [
    "titles_for_axis = dict(\n",
    "    # numeric column\n",
    "    children = ['Количество детей', 'количества детей']\n",
    "    , age = ['Возраст', 'возраста']\n",
    "    , total_income = ['Ежемесячный доход', 'ежемесячного дохода']\n",
    ")"
   ]
  },
  {
   "cell_type": "markdown",
   "metadata": {
    "id": "7OHwYdFIrRXa"
   },
   "source": [
    ">Проверим эти гипотезы  \n"
   ]
  },
  {
   "cell_type": "markdown",
   "metadata": {
    "id": "X82aIyOOrRXb"
   },
   "source": [
    "**Гипотеза 1: Нет зависимость между наличием детей и возвратом кредита в срок**"
   ]
  },
  {
   "cell_type": "markdown",
   "metadata": {
    "id": "0DcR1S2zrRXd"
   },
   "source": [
    ">H0: Наличие детей не влияет на возврат кредита в срок.  \n",
    ">H1: Наличие детей влияет на возврат кредита в срок."
   ]
  },
  {
   "cell_type": "markdown",
   "metadata": {
    "id": "0UQjDuvdrRXe"
   },
   "source": [
    ">Так как у нас обе переменных категориальные, то воспользуемся критерием хи-квадрат Пирсона.  \n",
    ">Уровень значимости alpha выберем 0.05"
   ]
  },
  {
   "cell_type": "code",
   "execution_count": null,
   "metadata": {
    "id": "Y_EOyOoRrRXg",
    "outputId": "5b38741d-75fa-4cfb-b881-534f42f8f055"
   },
   "outputs": [
    {
     "name": "stdout",
     "output_type": "stream",
     "text": [
      "Хи-квадрат Пирсона\n",
      "alpha =  0.05\n",
      "p-value =  1.724356890544321e-05\n",
      "Отклоняем нулевую гипотезу, поскольку p-value меньше уровня значимости\n"
     ]
    }
   ],
   "source": [
    "pagri_data_tools.chi2_pearson(df.has_child, df.debt)"
   ]
  },
  {
   "cell_type": "markdown",
   "metadata": {
    "id": "WRfb3J6xrRXh"
   },
   "source": [
    "**Результат:**  \n",
    ">На уровне значимости 0.05 гипотеза, что наличие детей не влияет на возврат кредита в срок не подтвердилась."
   ]
  },
  {
   "cell_type": "markdown",
   "metadata": {
    "id": "NWR-l7cXrRXi"
   },
   "source": [
    ">Сделать опцию в бутстреп функции, чтобы строился только доверительный интервал"
   ]
  },
  {
   "cell_type": "markdown",
   "metadata": {
    "id": "X0pMqlSlrRXj"
   },
   "source": [
    ">Также сделать функцию для доверилеьных интервалов для мана уитни через   \n",
    ">the Hodges-Lehmann estimation, which provides a point estimate and a confidence interval for the difference in medians."
   ]
  },
  {
   "cell_type": "code",
   "execution_count": null,
   "metadata": {
    "id": "PZknGO7PrRXk"
   },
   "outputs": [],
   "source": [
    "import pingouin as pg\n",
    "\n",
    "# Perform the Mann-Whitney U test and calculate the confidence interval\n",
    "mw_test = pg.mwu(x, y, tail='two-sided', confidence=0.95)\n",
    "\n",
    "# Print the results\n",
    "print(mw_test)"
   ]
  },
  {
   "cell_type": "code",
   "execution_count": null,
   "metadata": {
    "id": "xEWM4ciarRXk"
   },
   "outputs": [],
   "source": [
    "import numpy as np\n",
    "from scipy import stats\n",
    "\n",
    "# Perform the Mann-Whitney U test\n",
    "u_stat, p_value = stats.mannwhitneyu(x, y, alternative='two-sided')\n",
    "\n",
    "# Calculate the Hodges-Lehmann estimation\n",
    "hl_est = np.median(np.array([x_i - y_j for x_i in x for y_j in y]))\n",
    "\n",
    "# Calculate the confidence interval\n",
    "ci = stats.t.interval(0.95, len(x) + len(y) - 2, loc=hl_est, scale=stats.sem(np.array([x_i - y_j for x_i in x for y_j in y])))\n",
    "\n",
    "# Print the results\n",
    "print('Hodges-Lehmann estimation:', hl_est)\n",
    "print('Confidence interval:', ci)"
   ]
  },
  {
   "cell_type": "markdown",
   "metadata": {
    "id": "RDvZCKw7rRXl"
   },
   "source": [
    ">Подход следуюищй - мы до раздела проверка гипотез, когда изучаем данные (разделы пропусков, выбросов, дубликатов, зависиместей между перменными и графики),  \n",
    ">то мы делаем выводы и формируем наблюдеия.  \n",
    ">Вот эти наблюдения и выводы нужно проверить в проверке гипотез.  \n",
    ">И потом в основном выводе уже писать не просто, что у нас мужчин больше чем женьшин, а писать, что на уровен значисомти таком то у нас мужчина больше чем  \n",
    ">женщин с таким то доверительным интервалом.  \n",
    ">Таким образом выводы по вомзожности должны проходить через этап проверки гипотез, тогда эти выводы становятся более существенными.  "
   ]
  },
  {
   "cell_type": "markdown",
   "metadata": {
    "id": "jaKAk-NurRXn"
   },
   "source": [
    "- Гипотезы появляются, когда мы задаем вопросы данным. Мы изучили данные, преобработали и теперь начинаем задавать вопросы.  \n",
    "- Выдвигаем гипотезу (заметили что-то необычное и хотим проверить), далее формулируем ее и далее проверяем.  \n",
    "- Не забываем формулировать гипотезы словами. Пишем что является гипотезой H0, а что гипотезой H1  \n",
    "- Формулируем все гипотезы, которые хотим проверить. Если будет 100 гипотез, то все 100 нужно сформулировать и потом проверить и сделать вывод.  \n",
    "- Гипотезы могут быть и простыми вопросами без гипотез H0 и H1, такие гипотезы мы проверяем графиками или анализируя таблицу.  \n",
    "- Восновном, когда мы собиаремся применить стат аппарат для проверки гипотезы, то мы должны записать ее через H0 и H1.  "
   ]
  },
  {
   "cell_type": "markdown",
   "metadata": {
    "id": "mF0Tq5iorRXo"
   },
   "source": [
    ">Алгоритм проверки статистических гипотез\n",
    ">\n",
    "- постановка задачи\n",
    ">    - Сформулировать, что мы хотим узнать о выборках с точки зрения бизнес задачи (равны ли средние доходы в группах)\n",
    ">    - перевод бизнес-вопроса на язык статистики: средний доход в группах - проверка равенства средних значений\n",
    "- формулировка гипотез\n",
    ">    - формулировка нулевой гипотезы - с т.зр. равенства стат прараметров оцениваемых выборок   \n",
    ">    (Н0: Средние траты клиентов по группе А равны средним тратам клинентов по группе В)\n",
    ">    - формулировка альтернативной гипотезы - с точки зрения неравенства параметров  \n",
    ">    (Н1: Средние траты клиентов по группе А не равны средним тратам клинентов по группе В)\n",
    "- выбор критерия alpha (почему 0.05 или 0.01)\n",
    ">    - цена ошибки первого рода (при большой цене ошибки - в мед исследованиях, потенциальном ущербе ) - значение может быть больше, например 0.1\n",
    ">    - в ежедневных бизнес задачах, обычно - 0.05\n",
    "- анализ распределения\n",
    ">    - визуальная оценка\n",
    ">    - следим за выбросами\n",
    ">    - проверка гипотез о типе распредеделения (например критерий Шапиро-Уилка)\n",
    ">    - если распределение не нормальное и размер выборки достаточный (больше 30-50 элементов)  \n",
    ">    может быть использован t-test именно для проверки гипотезы о равенстве средних.  \n",
    ">    Согласно ЦПТ (центральная предельная теорема) средние этих выборок будут распределены нормально. См. статью Зотова\n",
    "- выбор критерия\n",
    ">    - при оценке равенства средних T-test или Welch T-test (если есть сомнения, то лучше Уэлча)\n",
    ">        - при рвенстве дисперсий используем обычный т тест\n",
    ">        - если дисперсии в выборках разные, то используем т теста Уэлча\n",
    "- получение результата\n",
    ">    - расчет p-value\n",
    "- интерпретация p-value\n",
    ">    - сравнение p-value и alpha\n",
    ">    - если альфа > p-value - отвергаем нулевую гипотезу\n",
    ">    - если альфа < p-value - не можем отвергнуть нулевую гипотезу"
   ]
  },
  {
   "cell_type": "markdown",
   "metadata": {
    "id": "UoXK9bsErRXp"
   },
   "source": [
    ">Какая у нас задача\n",
    "- Исследовать взаимосвязь между 2 переменными\n",
    ">    - обе переменные наминативные\n",
    ">        - Хи-квадрат Пирсона (не чувствителен к гетероскедастичности) (нормальность не обязательна)\n",
    ">    - обе переменные количественные\n",
    ">        - Коэффициент корреляции Пирсона (параметрика) (чувствителен к выбросам) (только непрерывные переменные)\n",
    ">        - Коэффициент корреляции Спирмена (чувствителен к выбросам) / Кендалла (менее чувствителен к выбросам) (непараметрика) (непрерывные переменные и порядковые категориальные переменные)  \n",
    ">    - одна переменная номинативная (принимает 2 занчения), вторая количественная\n",
    ">        - значения\n",
    ">            - Т-критерий Стьюдента (параметрика) (желательно нормальность) (чувствителен к выбросам) (чувствителен к гетероскедастичности)\n",
    ">                - если дисперсии равны (тест левена, барлета) и количество в группах равно (тест на равенство пропорций), то используем обычный т тест (эта формула более точно даст результат для этого случая)\n",
    ">                - если дисперсии не равны (тест левена, барлета) или количество в группах не равно (тест на равенство пропорций), то используем тест Уэлча (эта формула использует больше неопределенности и лучше подходит для этого случая)\n",
    ">            - U-критерий Манна-Уитни (непараметрика) (нормальность не обязательна) (не чувствителен к гетероскедастичности)\n",
    ">            Если тестируемая фича полностью сдвигает выборку на некий коэффициент theta или масштабирует выборку на некий параметр theta (theta > 0),  \n",
    ">            то критерий Манна-Уитни применим\n",
    ">        - доли\n",
    ">            - Z тест для долей (параметрика) (желательно нормальность) (чувствителен к выбросам) (чувствителен к гетероскедастичности)\n",
    ">            - Chi-square тест для долей (непараметрика) (нормальность не обязательна) (не чувствителен к гетероскедастичности)\n",
    "- Исследовать взаимосвязь между несколькими переменными\n",
    ">    - Дисперсионный анализ (параметрика) (дисперсии в группах должны быть примерно равны) (желательно нормальность) (чувствителен к выбросам) (чувствителен к гетероскедастичности)\n",
    ">    - Welch's ANOVA (устройчив к разной дисперсии в группах) (требует более больших размеров групп для точных результатов) (желательно нормальность) (чувствителен к выбросам) (не чувствителен к гетероскедастичности)\n",
    ">    - Критерий Краскела-Уоллиса (непараметрика) (нормальность не обязательна) (не чувствителен к гетероскедастичности)\n",
    ">    - Тест Тьюки (если anova или Краскела-Уоллиса нашил различия) (дисперсии в группах должны быть примерно равны) (параметрика) (желательно нормальность) (чувствителен к выбросам) (чувствителен к гетероскедастичности)\n",
    "- Проверить на равенство дисперсий в группах перед anova\n",
    ">    - Levene's test (не требует нормальность) (менее чувствительный)\n",
    ">    - Bartlett's test (требует нормальность) (более чувствительный)"
   ]
  },
  {
   "cell_type": "markdown",
   "metadata": {
    "id": "ear1oNyvrRXq"
   },
   "source": [
    ">Отличная статья про доверительные интервалы для разных статистик  \n",
    ">https://habr.com/ru/articles/807051/"
   ]
  },
  {
   "cell_type": "markdown",
   "metadata": {
    "id": "Eju4cQNtrRXr"
   },
   "source": [
    ">Bootstrapping"
   ]
  },
  {
   "cell_type": "markdown",
   "metadata": {
    "id": "elZyoqqtrRXt"
   },
   "source": [
    ">В бутстрепе, если мы хотим сравнить две выборки, то нельзя смотреть  \n",
    ">где находится исходная разница средних в бутстрапированной выборке  \n",
    ">Так как мы берем бутстреп из наших выборок и впролне реально.что наша разность  \n",
    ">будет близка к с реднему бутстропированной выборки  \n",
    ">Поэтому p value нужно определять по месту нуля в бутстропированной выборке"
   ]
  },
  {
   "cell_type": "markdown",
   "metadata": {
    "id": "hXuKniDLrRXv"
   },
   "source": [
    ">Посмотрим p value для 0 (если различий нет, то разница должна быть 0)\n",
    ">Для этого посчитаем cdf для + и - среднего, чтобы получить 2 значения cdf\n",
    ">а теперь возьмем минимум и умножим на 2, так как альт гипотеза у нас.что\n",
    ">просто не равно 0, значит и справа и слева"
   ]
  },
  {
   "cell_type": "code",
   "execution_count": null,
   "metadata": {
    "id": "Ih2pQOKorRXx"
   },
   "outputs": [],
   "source": []
  },
  {
   "cell_type": "code",
   "execution_count": null,
   "metadata": {
    "id": "D-GsmYRmrRXy"
   },
   "outputs": [],
   "source": [
    "Estimating the power of a non-parametric test using bootstrapping involves simulating the testing process multiple times to estimate the probability of rejecting the null hypothesis. Here's a general outline of the steps:\n",
    "\n",
    "**Specify the null and alternative hypotheses **: Define the null and alternative hypotheses for your test. For example, the null hypothesis might be that the two groups have the same distribution, and the alternative hypothesis might be that the two groups have different distributions.\n",
    "\n",
    "Generate simulated data: Generate simulated data that reflects the null hypothesis. For example, you could generate two groups of random data from the same distribution.\n",
    "\n",
    "Perform the Mann-Whitney U test: Perform the Mann-Whitney U test on the simulated data to obtain a p-value.\n",
    "\n",
    "Repeat steps 2-3 many times: Repeat steps 2-3 many times (e.g., 1000 times) to generate a distribution of p-values under the null hypothesis.\n",
    "\n",
    "Estimate the power: Estimate the power of the test by calculating the proportion of times the p-value is below a certain significance level (e.g., 0.05) when the alternative hypothesis is true. To do this, you'll need to generate simulated data that reflects the alternative hypothesis and repeat steps 2-4."
   ]
  },
  {
   "cell_type": "markdown",
   "metadata": {
    "id": "n4R_n4iprRXz"
   },
   "source": [
    "### Промежуточный вывод"
   ]
  },
  {
   "cell_type": "markdown",
   "metadata": {
    "id": "r9P9N3IDrRX0"
   },
   "source": [
    "## Общий вывод"
   ]
  },
  {
   "cell_type": "markdown",
   "metadata": {
    "id": "bmpuP5d_rRX3"
   },
   "source": [
    "**Выводы:**"
   ]
  },
  {
   "cell_type": "markdown",
   "metadata": {
    "id": "7RLsSTVirRX4"
   },
   "source": [
    "- Долги есть у людей с разным доходом.\n",
    "- У должников в среднем больше детей.\n",
    "- У должников среднее количество детей больше у женщин, а у не должников срднее количество детей больше у мужчин\n",
    "- У должников средний возраст немного ниже для всех категорий семейного положения.\n",
    "- Медианный доход у должников и не должников практически не отличается\n",
    "- Должники имеют ниже средний возраст как мужчины так и женщины. Ситуация сохраняется во всех группах дохода.\n",
    "- Цель получения кредита практически не зависит от среднего ежемесяченого дохода.\n",
    "- 92 % клиентов не имеют долга.\n",
    "- Люди от 30 до 50 лет имеют самый высокий средний доход.\n",
    "- Больше всего кредит берут на цели, связанные с недвижимостью, кроме людей в гражданском браке\n",
    "- Люди в гражданском браке чаще берут кредит на свадьбу\n",
    "- Женщины чаще возвращают кредит.\n",
    "- Анализ значимости признаков для модели случайного леса показал, что доход является самым значимым признаком для предсказания задолженности.\n",
    "- 58 % клиентов либо женаты, либо замужем. 19 % в гражданском браке. Можно сделать вывод что большинство в браке.  \n",
    "- Большинство клиентов женщины (66 процентов).\n",
    "- Только 5 процентов клиентов моложе 25 лет. Основная часть клиентов старше 30 лет.\n",
    "- Чем меньше количество детей, тем больше значений с высоким доходом.\n",
    "- Болшая часть женатых имеет доход 100-200 тыс\n",
    "- На всех уровнях образоания, кроме ученой степени, доход у мужчин выше.\n",
    "- У мужчин, которые в браке или были в браке, количество детей больше, чем у женщин в той же категории."
   ]
  },
  {
   "cell_type": "markdown",
   "metadata": {
    "id": "MeADEbPOrRX5"
   },
   "source": [
    "**Аномалии и особенности в данных:**\n",
    "- В датафрейме есть строки дубликаты. 54 строки. Меньше 1 % от всего датафрейма.  \n",
    "- В столбце с количеством детей есть отрицательные значения. 47 штук. Меньше 1 процента от всего датафрейма. Также есть клиенты с 20 детьми.\n",
    "- Колонока общий трудовой стаж содержит 74 % отрицаетльных значений. А также максимальное количество дней стажа больше 400 тысяч дней, это больше 1000 лет.\n",
    "- В колонке возраста 101 нулевое значени.\n",
    "- Колонка дохода имеет слишком много знаков после запятой.\n",
    "- В колонке с образованием присутствуют одни и те же знчения с разными регистрами. При этом в колонке с id образования все впрорядке.   "
   ]
  },
  {
   "cell_type": "markdown",
   "metadata": {
    "id": "aX3fyCp9rRX6"
   },
   "source": [
    "**Результаты предобработки данных:**\n",
    "- Удалили колонки с id образования и семейного статуса, так как нам для графиков лучше подойдут названия, а не id.\n",
    "- Колонка со стажем имеет совершенно некорректные данные. Чтобы не внести искажение в анализ, удалим эту колонку."
   ]
  },
  {
   "cell_type": "markdown",
   "metadata": {
    "id": "0pnmiAswrRX8"
   },
   "source": [
    "**Результаты проверки гипотез:**  \n",
    "- Гипотеза 1: У мужчин средний доход выше, чем у женщин  \n",
    "> **Результат:** На уровне значимости 0.05 гипотеза подтвердилась.\n",
    "- Гипотеза 2: Цель получения кредита практически не зависит от среднего ежемесячного дохода  \n",
    "> **Результат:** На уровне значимости 0.05 у нас нет оснований отвергнуть гипотезу.\n",
    "- Гипотеза 3: Средний доход по семейному статусу примерно одинаковый, но у вдовцов отличается  \n",
    "> **Результат:** На уровне значимости 0.05 гипотеза подтвердилась.\n",
    "- Гипотеза 4: У должников в среднем больше детей  \n",
    "> **Результат:** На уровне значимости 0.05 гипотеза подтвердилась.   \n",
    "- Гипотеза 5: У должников средний возраст ниже  \n",
    "> **Результат:** На уровне значимости 0.05 гипотеза подтвердилась. 95% доверительный интервал для разницы средних возрастов для должников и не должников равен (-inf, -2.74).  \n",
    "- Гипотеза 6: Медианный доход у должников и не должников не отличается  \n",
    "> **Результат:** На уровне значимости 0.05 нет оснований отвергнуть гипотезу. 95% доверительный интервал разницы между медианным доходом должников и не должников равен (-2648.05, 179.34).  \n",
    "- Гипотеза 7: Наличие детей не влияет на возврат кредита в срок  \n",
    "> **Результат:** На уровне значимости 0.05 гипотеза не подтвердилась."
   ]
  },
  {
   "cell_type": "markdown",
   "metadata": {
    "id": "13tLv9HRrRX9"
   },
   "source": [
    "**Рекомендации:**\n",
    "- Добавить контроль данных, чтобы не дублировались значения с разными регистрами в колонке с образованием.\n",
    "- Добавить уникальный идентификатор клиента, чтобы избежать дублирования строк.\n",
    "- Добавить проверку на отрицательные значения и на слишком болшьшие значения в количестве детей при загрузке данных.\n",
    "- Выяснить откуда возникают отрицательные значения в трудовом стаже и добавить контроль ввода невалидных данных.\n",
    "- Выяснить причину нулевых значений в колонке возраста и добавить проверку на нулевые значения при загрузке данных.\n",
    "- Выяснить причину большого количества знаков после запятой в колонке дохода."
   ]
  },
  {
   "cell_type": "markdown",
   "metadata": {
    "id": "Pmj-ObRTrRX-"
   },
   "source": [
    ">Что нужно сообщить в выводе\n",
    "- информацию о том, что удалось подтвердить гипотезы (тут пишем только те, которые удалось подтвердить)\n",
    "- всю информацию о датасете, которые важны. Дубликаты, которые несут практическую пользу и рекомендации по ним, пропуски также с рекомендациями  \n",
    ">и остальные моменты по данным и рекомендации. Тут важно указывать именно найденные аномалии, которые имеют практическую пользу, которые нужно исправить и прочее.  \n",
    ">Пишем, что были найдены выбросы, они были связаны возможно с тем то и тем то.\n",
    "- и в конце обязательно call to action\n",
    ">написать что необходимо сделать с этими результатами"
   ]
  },
  {
   "cell_type": "markdown",
   "metadata": {
    "id": "WWPG6qpdrRX_"
   },
   "source": [
    ">Советы по оформлению общего выывод\n",
    "- не нужно вставлять таблицы и графики в вывод.\n",
    ">В выводе пишем словами самое важное и практически полезное, что мы получили, причем в порядке убывания важности.  \n",
    ">И когда мы пишем, что увидели то-то, то приводим гиперссылку на график или результат ячейки, где это получено.  \n",
    ">Так будет компактный вывод и при необходимости человек сможет быстро перейти и посмотреть график или таблицу  "
   ]
  },
  {
   "cell_type": "markdown",
   "metadata": {
    "id": "qAw7KEN2rRYC"
   },
   "source": [
    "**Удалось подтвердить гипотезу** о влиянии различных характеристик клиента на факт погашения кредита в срок. Каждый из рассмотренных параметров оказывает влияние на надёжность заёмщика. Рассмотренные факторы по-разному влияют на надёжность заёмщиков. Например, семейное положение оказалось более значимым фактором, чем уровень дохода.\n"
   ]
  },
  {
   "cell_type": "markdown",
   "metadata": {
    "id": "ruled-penny"
   },
   "source": [
    "- В ходе анализа исходного набора данных было проведено (были устранены пропуски в двух колонках с числовыми значениями - 'total_income' и 'days_employed').  \n",
    "- После __устранения явных и скрытых дупликатов__ и удаления оставшихся после обогащения пропусков объем датасета сократился на 0.05%\n",
    "- Были устранены __выбросы__ в колонках 'days_employed' и 'children': в первом случае выбросы возникли в результате системной ошибки (данные были внесены в часах, а не в днях); во втором случае ошибка, вероятнее всего была допущена людьми, вносившими данные в систему\n",
    "- ..."
   ]
  },
  {
   "cell_type": "markdown",
   "metadata": {
    "id": "alleged-strand"
   },
   "source": [
    "**Необходимо**"
   ]
  },
  {
   "cell_type": "markdown",
   "metadata": {
    "id": "critical-worker"
   },
   "source": [
    ">1. Запросить в отделе по работе с клиентами информацию о возможности брать кредит без подтверждения дохода.\n",
    ">\n",
    ">2. Сообщить коллегам, занимающимся выгрузкой о наличие дубликатов, если вопрос не разрешится, запросить индентификационный номер клиента к датасету.\n",
    ">\n",
    ">3. Прописать в задаче на поставку данных формат данных (пол только F и M, положительные значения). Приложить информацию о найденных аномалиях."
   ]
  },
  {
   "cell_type": "code",
   "execution_count": null,
   "metadata": {
    "id": "io4IDHAJrRYG"
   },
   "outputs": [],
   "source": []
  },
  {
   "cell_type": "markdown",
   "metadata": {
    "id": "Er7EiuWYrRYG"
   },
   "source": [
    "**Сначала проверяем орфографические ошибки**"
   ]
  },
  {
   "cell_type": "code",
   "execution_count": null,
   "metadata": {
    "id": "_pW5GiprrRYH"
   },
   "outputs": [],
   "source": [
    "pagri_data_tools.correct_notebook_text()"
   ]
  },
  {
   "cell_type": "markdown",
   "metadata": {
    "id": "rCrdX7U5rRYI"
   },
   "source": [
    "**Затем создаем номера у глав и оглавление**"
   ]
  },
  {
   "cell_type": "markdown",
   "metadata": {
    "id": "RM6jELrjrRYJ"
   },
   "source": [
    ">Чтобы добавить номера глав и ссылки для оглавления и сделать оглавлнеие  \n",
    ">оглавление добавиться в начало ноутбука"
   ]
  },
  {
   "cell_type": "markdown",
   "metadata": {
    "id": "EG1gPMlerRYK"
   },
   "source": [
    ">Сначала можно в режиме `draft` сделать пробный варант, проверить и потом уже запустить в режиме `final`"
   ]
  },
  {
   "cell_type": "code",
   "execution_count": null,
   "metadata": {
    "id": "WRtUnZFcrRYL"
   },
   "outputs": [],
   "source": [
    "pagri_data_tools.make_headers_link_and_toc()"
   ]
  },
  {
   "cell_type": "markdown",
   "metadata": {
    "id": "mdRLzR2qrRYN"
   },
   "source": [
    "**Далее создаем ссыки на выводы и аномалии**"
   ]
  },
  {
   "cell_type": "markdown",
   "metadata": {
    "id": "K3DLmJLfrRYO"
   },
   "source": [
    ">Чтобы было удобно искать где вставить якорь для ссылки, названия выводов и аномалий должно точно совпадать   \n",
    ">в итоговом списке аномалий и выводов и в тех местах (то есть в наблюдениях под ячейками), куда мы будем помещать ссылки"
   ]
  },
  {
   "cell_type": "markdown",
   "metadata": {
    "id": "tMDpLns0rRYR"
   },
   "source": [
    ">Чтобы сделать ссылки на выводы и аномалии, нужно  \n",
    ">в тех местах, куда хотим переходить по ссылке вставить текст выводов или аномалий (берем прямо из основных выводов)  \n",
    ">выводы должны начинаться с `_conclusion_`  \n",
    ">аномалии  должны начинаться с `_anomaly_`  \n",
    ">Примеры:  \n",
    ">    "
   ]
  },
  {
   "cell_type": "code",
   "execution_count": null,
   "metadata": {
    "id": "V-mursy7rRYS"
   },
   "outputs": [],
   "source": [
    "_anomalies_ В столбце с количеством детей есть отрицательные значения. 47 штук."
   ]
  },
  {
   "cell_type": "markdown",
   "metadata": {
    "id": "83VYwFe0rRYT"
   },
   "source": [
    ">Можно в одной ячейке и выводы и аномалии, с обеих ссылок будет переходить сюда, но назад будет возвращаться только в одно место,    \n",
    ">в то, которое было первым в ячейке"
   ]
  },
  {
   "cell_type": "code",
   "execution_count": null,
   "metadata": {
    "id": "W6wIplrhrRYT"
   },
   "outputs": [],
   "source": [
    "_conclusion_ Только 5 процентов клиентов моложе 25 лет. Основная часть клиентов старше 30 лет.\n",
    "_anomalies_ В колонке возраста 101 нулевое значени."
   ]
  },
  {
   "cell_type": "markdown",
   "metadata": {
    "id": "9xYuxh5CrRYU"
   },
   "source": [
    ">Содеражние выводов и аномалий появится в начале ноутбука  \n",
    ">также 2 режима `draft` и `final`"
   ]
  },
  {
   "cell_type": "markdown",
   "metadata": {
    "id": "J0Zbbz6trRYW"
   },
   "source": [
    ">Подумать как сделать удобнее создание выводов  \n",
    ">Пока лучше сначала взять выводы из наблюдений и выбрать из них  наиболее важные и интересные, не меняя их.  \n",
    ">Далее берем этот список и поиском находим ячейку с этим выводом и перед графиком помещаем  \n",
    ">_conclusion_ и сам вывод  "
   ]
  },
  {
   "cell_type": "code",
   "execution_count": null,
   "metadata": {
    "id": "ItV52I6mrRYW"
   },
   "outputs": [],
   "source": []
  },
  {
   "cell_type": "markdown",
   "metadata": {
    "id": "LWSV7JF-rRYX"
   },
   "source": [
    ">Чтобы был нужный порядок в списке выводов и аномалий в начале отчета, нужно передвать словарь со списками выводов и аномалий.  \n",
    ">Переменная order принимает словарь, где ключи `onclusions` и `anomalies`, а значения это соответствующие списки  "
   ]
  },
  {
   "cell_type": "markdown",
   "metadata": {
    "id": "mT3LIclPrRYY"
   },
   "source": [
    ">Примеры списков"
   ]
  },
  {
   "cell_type": "code",
   "execution_count": null,
   "metadata": {
    "id": "1Ews3qfcrRYZ"
   },
   "outputs": [],
   "source": [
    "order = dict(\n",
    "            conclusions =[ 'Женщины чаще возвращают кредит, чем мужчины.']\n",
    "            , anomalies = ['В датафрейме есть строки дубликаты. 54 строки. Меньше 1 % от всего датафрейма.  ']\n",
    ")"
   ]
  },
  {
   "cell_type": "code",
   "execution_count": null,
   "metadata": {
    "id": "HQanlkhNrRYa"
   },
   "outputs": [],
   "source": [
    "pagri_data_tools.add_conclusions_and_anomalies()"
   ]
  },
  {
   "cell_type": "markdown",
   "metadata": {
    "id": "nXcpETvwrRYb"
   },
   "source": [
    "**Если сильно нужно, создаем ссыки на гипотезы**"
   ]
  },
  {
   "cell_type": "markdown",
   "metadata": {
    "id": "TPCep4jrrRYb"
   },
   "source": [
    ">В главе гипотез для каждой гипоетзы, куда будем переходить из оглавления, в начале перед гипотезой ставим _hypothesis_ и пробел"
   ]
  },
  {
   "cell_type": "code",
   "execution_count": null,
   "metadata": {
    "id": "EDPR_o9prRYe"
   },
   "outputs": [],
   "source": [
    "_hypothesis_ **Гипотеза 1: Название гипотезы**"
   ]
  },
  {
   "cell_type": "markdown",
   "metadata": {
    "id": "HnjOZbIXrRYj"
   },
   "source": [
    ">Выполняем следующую функцию и в начале отчета появится список гипотез с ссылками  \n",
    ">Далее нужно добавить результат гипотез вручную"
   ]
  },
  {
   "cell_type": "code",
   "execution_count": null,
   "metadata": {
    "id": "GBNMSqhNrRYm"
   },
   "outputs": [],
   "source": [
    "pagri_data_tools.add_hypotheses_links_and_toc()"
   ]
  },
  {
   "cell_type": "markdown",
   "metadata": {
    "id": "4-27OHTarRYo"
   },
   "source": [
    "**Финальное размещение ноутбука на git hub с ссылкой на google colab**  "
   ]
  },
  {
   "cell_type": "markdown",
   "metadata": {
    "id": "cR-da__XrRYq"
   },
   "source": [
    ">Комитим на гит хаб финальную версию ноутбука.  \n",
    ">Создаем на гит хаб readme файл проекта, в котором в начале идет ссылка на google colab  \n",
    ">Далее ее открываем и переходим на google colab  \n",
    ">Выполняем все ячейки, смотрим все ли правильно отобразилось.  \n",
    ">Далее в меню File выбираем сохранить копию на гит хаб.  \n",
    ">Не меняем имя, тогда все содержимое ноутбука сохраниться на гит хаб.  "
   ]
  }
 ],
 "metadata": {
  "colab": {
   "provenance": []
  },
  "kernelspec": {
   "display_name": "Python 3",
   "language": "python",
   "name": "python3"
  },
  "language_info": {
   "codemirror_mode": {
    "name": "ipython",
    "version": 3
   },
   "file_extension": ".py",
   "mimetype": "text/x-python",
   "name": "python",
   "nbconvert_exporter": "python",
   "pygments_lexer": "ipython3",
   "version": "3.10.12"
  }
 },
 "nbformat": 4,
 "nbformat_minor": 0
}
