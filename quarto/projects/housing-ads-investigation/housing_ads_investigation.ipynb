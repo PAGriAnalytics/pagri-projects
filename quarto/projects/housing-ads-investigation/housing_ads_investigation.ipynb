{
 "cells": [
  {
   "cell_type": "raw",
   "metadata": {
    "id": "PMqpHJIyrRPP"
   },
   "source": [
    "---\n",
    "format:\n",
    "  html:\n",
    "    code-fold: true\n",
    "    code-summary: \"Show the code\"\n",
    "    fontsize: 16px\n",
    "    smooth-scroll: true\n",
    "    toc: true\n",
    "    toc-location: left\n",
    "    toc-title: Оглавление\n",
    "    grid:\n",
    "      body-width: 1100px\n",
    "---"
   ]
  },
  {
   "cell_type": "markdown",
   "metadata": {
    "id": "fbFSQIPSrRPZ"
   },
   "source": [
    "# Исследование объявлений о продаже квартир"
   ]
  },
  {
   "cell_type": "markdown",
   "metadata": {
    "id": "VMdW6PFbrRPd"
   },
   "source": [
    "**Описание проекта:**   \n",
    "Проект направлен на исследование факторов, влияющих на ценообразование на рынке недвижимости в Санкт-Петербурге.  \n",
    "В ходе проекта будут выявлены ключевые параметры, которые определяют стоимость квартир.  \n",
    "Полученные знания будут использованы для создания системы, которая будет отслеживать аномалии и предупреждать о возможных случаях мошенничества."
   ]
  },
  {
   "cell_type": "markdown",
   "metadata": {
    "id": "ipt2JTR8rRPe"
   },
   "source": [
    "**Автор:**  \n",
    "Григорьев Павел   "
   ]
  },
  {
   "cell_type": "markdown",
   "metadata": {
    "id": "ZsEHbcUfrRPf"
   },
   "source": [
    "**Цель:**    \n",
    "Выявить ключевые параметры, определяющие стоимость квартир, и разработать рекомендации для создания системы мониторинга,   \n",
    "которая поможет выявлять аномалии в ценах и предупреждать о мошенничестве на рынке недвижимости."
   ]
  },
  {
   "cell_type": "markdown",
   "metadata": {
    "id": "Vt5tonHmrRPk"
   },
   "source": [
    "**Источники данных:**  \n",
    "Данные сервиса Яндекс.Недвижимость — архив объявлений о продаже квартир в Санкт-Петербурге и соседних населённых пунктах за несколько лет."
   ]
  },
  {
   "cell_type": "markdown",
   "metadata": {
    "id": "slmTSmB-rRPp"
   },
   "source": [
    "**Условия проведения анализа днных:**  \n"
   ]
  },
  {
   "cell_type": "markdown",
   "metadata": {
    "id": "gRfc-gMHrRPq"
   },
   "source": [
    ">указываем временной интервал выборки  \n",
    ">Например, 'для анализ будут использоваться данные за год с 1 июня 2017 по 31 мая 2018 года'"
   ]
  },
  {
   "cell_type": "markdown",
   "metadata": {
    "id": "E8uSCXA8rRPv"
   },
   "source": [
    ">Например, 'для анализ будут использоваться данные за год с 1 июня 2017 по 31 мая 2018 года'"
   ]
  },
  {
   "cell_type": "markdown",
   "metadata": {
    "id": "rReqmmGVrRPx"
   },
   "source": [
    "**Главные выводы:**   \n",
    "тут помещаем самое главное из общего вывода, примерно до полустраницы, чтобы не было сильно много и при этом указать все главные выводы\n",
    "Будет идеально, елси выводы на похожие темы будут рядом, то есть елси мы имеем несколько выводов о доходе, то лушче поместить их рядом\n",
    "- Женщины чаще возвращают кредит, чем мужчины.\n",
    "- Долги присутствуют у людей с разным доходом.\n"
   ]
  },
  {
   "cell_type": "markdown",
   "metadata": {
    "id": "FFCiroaarRPy"
   },
   "source": [
    "**Аномалии и особенности в данных:**\n",
    "- В датафрейме есть строки дубликаты. 54 строки. Меньше 1 % от всего датафрейма.  \n",
    "- В столбце с количеством детей есть отрицательные значения. 47 штук. Меньше 1 процента от всего датафрейма. Также есть клиенты с 20 детьми."
   ]
  },
  {
   "cell_type": "markdown",
   "metadata": {
    "id": "Kgq29KQ6rRP0"
   },
   "source": [
    "**Рекомендации:**  \n",
    "- Добавить контроль данных, чтобы не дублировались значения с разными регистрами в колонке с образованием.\n",
    "- Добавить уникальный идентификатор клиента, чтобы избежать дублирования строк."
   ]
  },
  {
   "cell_type": "markdown",
   "metadata": {
    "id": "m-kodx1srRP1"
   },
   "source": [
    "\n",
    "**Оглавление**\n"
   ]
  },
  {
   "cell_type": "markdown",
   "metadata": {
    "id": "7pogbnogrRP3"
   },
   "source": [
    "## Загрузка библиотек"
   ]
  },
  {
   "cell_type": "code",
   "execution_count": 1,
   "metadata": {
    "id": "uz_XD2forRP_"
   },
   "outputs": [],
   "source": [
    "%load_ext autoreload\n",
    "%autoreload 2\n",
    "import pandas as pd\n",
    "import numpy as np\n",
    "import plotly.express as px\n",
    "import pagri_data_tools  # type: ignore"
   ]
  },
  {
   "cell_type": "markdown",
   "metadata": {
    "id": "jMNnqZ9UrRQE"
   },
   "source": [
    "## Описание и изучение данных"
   ]
  },
  {
   "cell_type": "markdown",
   "metadata": {
    "id": "JzdBuNfWrRQF"
   },
   "source": [
    "### Описание данных\n"
   ]
  },
  {
   "cell_type": "markdown",
   "metadata": {
    "id": "P9un_cDqrRQG"
   },
   "source": [
    "По каждой квартире на продажу доступны два вида данных. Первые вписаны пользователем, вторые — получены автоматически на основе картографических данных.  \n",
    "Например, расстояние до центра, аэропорта, ближайшего парка и водоёма."
   ]
  },
  {
   "cell_type": "markdown",
   "metadata": {
    "id": "Fcn-u3VhrRQH"
   },
   "source": [
    "- airports_nearest - расстояние до ближайшего аэропорта в метрах (м)\n",
    "- balcony - число балконов\n",
    "- ceiling_height - высота потолков (м)\n",
    "- cityCenters_nearest - расстояние до центра города (м)\n",
    "- days_exposition - сколько дней было размещено объявление (от публикации до снятия)\n",
    "- first_day_exposition - дата публикации\n",
    "- floor - этаж\n",
    "- floors_total - всего этажей в доме\n",
    "- is_apartment - апартаменты (булев тип)\n",
    "- kitchen_area - площадь кухни в квадратных метрах (м²)\n",
    "- last_price - цена на момент снятия с публикации\n",
    "- living_area - жилая площадь в квадратных метрах(м²)\n",
    "- locality_name - название населённого пункта\n",
    "- open_plan - свободная планировка (булев тип)\n",
    "- parks_around3000 - число парков в радиусе 3 км\n",
    "- parks_nearest - расстояние до ближайшего парка (м)\n",
    "- ponds_around3000 - число водоёмов в радиусе 3 км\n",
    "- ponds_nearest - расстояние до ближайшего водоёма (м)\n",
    "- rooms - число комнат\n",
    "- studio - квартира-студия (булев тип)\n",
    "- total_area - площадь квартиры в квадратных метрах (м²)\n",
    "- total_images - число фотографий квартиры в объявлении"
   ]
  },
  {
   "cell_type": "markdown",
   "metadata": {
    "id": "K_8EphhRrRQJ"
   },
   "source": [
    "### Изучение данных"
   ]
  },
  {
   "cell_type": "markdown",
   "metadata": {
    "id": "znl0wLhbrRQM"
   },
   "source": [
    "#### Изучение переменных"
   ]
  },
  {
   "cell_type": "markdown",
   "metadata": {
    "id": "SIgjU21XrRQO"
   },
   "source": [
    "Оставим тип float, так как у нас пропуски в данных и мы не можем преобразовать нужные столбцы в int"
   ]
  },
  {
   "cell_type": "code",
   "execution_count": 2,
   "metadata": {
    "id": "XPtQU0DErRQP",
    "outputId": "99d3fcc0-1f70-4c60-de65-49c33603bd31"
   },
   "outputs": [
    {
     "data": {
      "text/html": [
       "\n",
       "  <div id=\"df-f67c3d21-7239-42ad-9f73-e64f87c6d642\" class=\"colab-df-container\">\n",
       "    <div>\n",
       "<style scoped>\n",
       "    .dataframe tbody tr th:only-of-type {\n",
       "        vertical-align: middle;\n",
       "    }\n",
       "\n",
       "    .dataframe tbody tr th {\n",
       "        vertical-align: top;\n",
       "    }\n",
       "\n",
       "    .dataframe thead th {\n",
       "        text-align: right;\n",
       "    }\n",
       "</style>\n",
       "<table border=\"1\" class=\"dataframe\">\n",
       "  <thead>\n",
       "    <tr style=\"text-align: right;\">\n",
       "      <th></th>\n",
       "      <th>total_images</th>\n",
       "      <th>last_price</th>\n",
       "      <th>total_area</th>\n",
       "      <th>first_day_exposition</th>\n",
       "      <th>rooms</th>\n",
       "      <th>ceiling_height</th>\n",
       "      <th>floors_total</th>\n",
       "      <th>living_area</th>\n",
       "      <th>floor</th>\n",
       "      <th>is_apartment</th>\n",
       "      <th>...</th>\n",
       "      <th>kitchen_area</th>\n",
       "      <th>balcony</th>\n",
       "      <th>locality_name</th>\n",
       "      <th>airports_nearest</th>\n",
       "      <th>city_centers_nearest</th>\n",
       "      <th>parks_around3000</th>\n",
       "      <th>parks_nearest</th>\n",
       "      <th>ponds_around3000</th>\n",
       "      <th>ponds_nearest</th>\n",
       "      <th>days_exposition</th>\n",
       "    </tr>\n",
       "  </thead>\n",
       "  <tbody>\n",
       "    <tr>\n",
       "      <th>6029</th>\n",
       "      <td>7</td>\n",
       "      <td>4200000.0</td>\n",
       "      <td>42.00</td>\n",
       "      <td>2017-12-05</td>\n",
       "      <td>2</td>\n",
       "      <td>2.58</td>\n",
       "      <td>5.0</td>\n",
       "      <td>28.5</td>\n",
       "      <td>5</td>\n",
       "      <td>NaN</td>\n",
       "      <td>...</td>\n",
       "      <td>5.00</td>\n",
       "      <td>NaN</td>\n",
       "      <td>Санкт-Петербург</td>\n",
       "      <td>36416.0</td>\n",
       "      <td>9534.0</td>\n",
       "      <td>2.0</td>\n",
       "      <td>446.0</td>\n",
       "      <td>3.0</td>\n",
       "      <td>459.0</td>\n",
       "      <td>18.0</td>\n",
       "    </tr>\n",
       "    <tr>\n",
       "      <th>21836</th>\n",
       "      <td>7</td>\n",
       "      <td>3950000.0</td>\n",
       "      <td>45.00</td>\n",
       "      <td>2015-06-10</td>\n",
       "      <td>2</td>\n",
       "      <td>NaN</td>\n",
       "      <td>9.0</td>\n",
       "      <td>28.0</td>\n",
       "      <td>7</td>\n",
       "      <td>NaN</td>\n",
       "      <td>...</td>\n",
       "      <td>7.00</td>\n",
       "      <td>0.0</td>\n",
       "      <td>Санкт-Петербург</td>\n",
       "      <td>27880.0</td>\n",
       "      <td>12138.0</td>\n",
       "      <td>1.0</td>\n",
       "      <td>638.0</td>\n",
       "      <td>1.0</td>\n",
       "      <td>593.0</td>\n",
       "      <td>437.0</td>\n",
       "    </tr>\n",
       "    <tr>\n",
       "      <th>5698</th>\n",
       "      <td>7</td>\n",
       "      <td>450000.0</td>\n",
       "      <td>42.00</td>\n",
       "      <td>2017-07-31</td>\n",
       "      <td>2</td>\n",
       "      <td>NaN</td>\n",
       "      <td>1.0</td>\n",
       "      <td>23.0</td>\n",
       "      <td>1</td>\n",
       "      <td>NaN</td>\n",
       "      <td>...</td>\n",
       "      <td>5.80</td>\n",
       "      <td>NaN</td>\n",
       "      <td>городской посёлок Будогощь</td>\n",
       "      <td>NaN</td>\n",
       "      <td>NaN</td>\n",
       "      <td>NaN</td>\n",
       "      <td>NaN</td>\n",
       "      <td>NaN</td>\n",
       "      <td>NaN</td>\n",
       "      <td>233.0</td>\n",
       "    </tr>\n",
       "    <tr>\n",
       "      <th>9402</th>\n",
       "      <td>11</td>\n",
       "      <td>4900000.0</td>\n",
       "      <td>55.00</td>\n",
       "      <td>2017-06-19</td>\n",
       "      <td>2</td>\n",
       "      <td>NaN</td>\n",
       "      <td>14.0</td>\n",
       "      <td>32.0</td>\n",
       "      <td>14</td>\n",
       "      <td>NaN</td>\n",
       "      <td>...</td>\n",
       "      <td>8.50</td>\n",
       "      <td>2.0</td>\n",
       "      <td>Санкт-Петербург</td>\n",
       "      <td>39931.0</td>\n",
       "      <td>12834.0</td>\n",
       "      <td>0.0</td>\n",
       "      <td>NaN</td>\n",
       "      <td>0.0</td>\n",
       "      <td>NaN</td>\n",
       "      <td>15.0</td>\n",
       "    </tr>\n",
       "    <tr>\n",
       "      <th>2519</th>\n",
       "      <td>6</td>\n",
       "      <td>3511000.0</td>\n",
       "      <td>39.41</td>\n",
       "      <td>2018-08-07</td>\n",
       "      <td>1</td>\n",
       "      <td>2.65</td>\n",
       "      <td>27.0</td>\n",
       "      <td>NaN</td>\n",
       "      <td>12</td>\n",
       "      <td>NaN</td>\n",
       "      <td>...</td>\n",
       "      <td>11.28</td>\n",
       "      <td>1.0</td>\n",
       "      <td>посёлок Мурино</td>\n",
       "      <td>NaN</td>\n",
       "      <td>NaN</td>\n",
       "      <td>NaN</td>\n",
       "      <td>NaN</td>\n",
       "      <td>NaN</td>\n",
       "      <td>NaN</td>\n",
       "      <td>60.0</td>\n",
       "    </tr>\n",
       "  </tbody>\n",
       "</table>\n",
       "<p>5 rows × 22 columns</p>\n",
       "</div>\n",
       "    <div class=\"colab-df-buttons\">\n",
       "      \n",
       "  <div class=\"colab-df-container\">\n",
       "    <button class=\"colab-df-convert\" onclick=\"convertToInteractive('df-f67c3d21-7239-42ad-9f73-e64f87c6d642')\"\n",
       "            title=\"Convert this dataframe to an interactive table.\"\n",
       "            style=\"display:none;\">\n",
       "      \n",
       "  <svg xmlns=\"http://www.w3.org/2000/svg\" height=\"24px\" viewBox=\"0 -960 960 960\">\n",
       "    <path d=\"M120-120v-720h720v720H120Zm60-500h600v-160H180v160Zm220 220h160v-160H400v160Zm0 220h160v-160H400v160ZM180-400h160v-160H180v160Zm440 0h160v-160H620v160ZM180-180h160v-160H180v160Zm440 0h160v-160H620v160Z\"/>\n",
       "  </svg>\n",
       "    </button>\n",
       "    \n",
       "  <style>\n",
       "    .colab-df-container {\n",
       "      display:flex;\n",
       "      gap: 12px;\n",
       "    }\n",
       "\n",
       "    .colab-df-convert {\n",
       "      background-color: #E8F0FE;\n",
       "      border: none;\n",
       "      border-radius: 50%;\n",
       "      cursor: pointer;\n",
       "      display: none;\n",
       "      fill: #1967D2;\n",
       "      height: 32px;\n",
       "      padding: 0 0 0 0;\n",
       "      width: 32px;\n",
       "    }\n",
       "\n",
       "    .colab-df-convert:hover {\n",
       "      background-color: #E2EBFA;\n",
       "      box-shadow: 0px 1px 2px rgba(60, 64, 67, 0.3), 0px 1px 3px 1px rgba(60, 64, 67, 0.15);\n",
       "      fill: #174EA6;\n",
       "    }\n",
       "\n",
       "    .colab-df-buttons div {\n",
       "      margin-bottom: 4px;\n",
       "    }\n",
       "\n",
       "    [theme=dark] .colab-df-convert {\n",
       "      background-color: #3B4455;\n",
       "      fill: #D2E3FC;\n",
       "    }\n",
       "\n",
       "    [theme=dark] .colab-df-convert:hover {\n",
       "      background-color: #434B5C;\n",
       "      box-shadow: 0px 1px 3px 1px rgba(0, 0, 0, 0.15);\n",
       "      filter: drop-shadow(0px 1px 2px rgba(0, 0, 0, 0.3));\n",
       "      fill: #FFFFFF;\n",
       "    }\n",
       "  </style>\n",
       "\n",
       "    <script>\n",
       "      const buttonEl =\n",
       "        document.querySelector('#df-f67c3d21-7239-42ad-9f73-e64f87c6d642 button.colab-df-convert');\n",
       "      buttonEl.style.display =\n",
       "        google.colab.kernel.accessAllowed ? 'block' : 'none';\n",
       "\n",
       "      async function convertToInteractive(key) {\n",
       "        const element = document.querySelector('#df-f67c3d21-7239-42ad-9f73-e64f87c6d642');\n",
       "        const dataTable =\n",
       "          await google.colab.kernel.invokeFunction('convertToInteractive',\n",
       "                                                    [key], {});\n",
       "        if (!dataTable) return;\n",
       "\n",
       "        const docLinkHtml = 'Like what you see? Visit the ' +\n",
       "          '<a target=\"_blank\" href=https://colab.research.google.com/notebooks/data_table.ipynb>data table notebook</a>'\n",
       "          + ' to learn more about interactive tables.';\n",
       "        element.innerHTML = '';\n",
       "        dataTable['output_type'] = 'display_data';\n",
       "        await google.colab.output.renderOutput(dataTable, element);\n",
       "        const docLink = document.createElement('div');\n",
       "        docLink.innerHTML = docLinkHtml;\n",
       "        element.appendChild(docLink);\n",
       "      }\n",
       "    </script>\n",
       "  </div>\n",
       "  \n",
       "    </div>\n",
       "  </div>\n",
       "  "
      ],
      "text/plain": [
       "       total_images  last_price  total_area first_day_exposition  rooms  \\\n",
       "6029              7   4200000.0       42.00           2017-12-05      2   \n",
       "21836             7   3950000.0       45.00           2015-06-10      2   \n",
       "5698              7    450000.0       42.00           2017-07-31      2   \n",
       "9402             11   4900000.0       55.00           2017-06-19      2   \n",
       "2519              6   3511000.0       39.41           2018-08-07      1   \n",
       "\n",
       "       ceiling_height  floors_total  living_area  floor is_apartment  ...  \\\n",
       "6029             2.58           5.0         28.5      5          NaN  ...   \n",
       "21836             NaN           9.0         28.0      7          NaN  ...   \n",
       "5698              NaN           1.0         23.0      1          NaN  ...   \n",
       "9402              NaN          14.0         32.0     14          NaN  ...   \n",
       "2519             2.65          27.0          NaN     12          NaN  ...   \n",
       "\n",
       "      kitchen_area balcony               locality_name  airports_nearest  \\\n",
       "6029          5.00     NaN             Санкт-Петербург           36416.0   \n",
       "21836         7.00     0.0             Санкт-Петербург           27880.0   \n",
       "5698          5.80     NaN  городской посёлок Будогощь               NaN   \n",
       "9402          8.50     2.0             Санкт-Петербург           39931.0   \n",
       "2519         11.28     1.0              посёлок Мурино               NaN   \n",
       "\n",
       "      city_centers_nearest  parks_around3000  parks_nearest  ponds_around3000  \\\n",
       "6029                9534.0               2.0          446.0               3.0   \n",
       "21836              12138.0               1.0          638.0               1.0   \n",
       "5698                   NaN               NaN            NaN               NaN   \n",
       "9402               12834.0               0.0            NaN               0.0   \n",
       "2519                   NaN               NaN            NaN               NaN   \n",
       "\n",
       "       ponds_nearest  days_exposition  \n",
       "6029           459.0             18.0  \n",
       "21836          593.0            437.0  \n",
       "5698             NaN            233.0  \n",
       "9402             NaN             15.0  \n",
       "2519             NaN             60.0  \n",
       "\n",
       "[5 rows x 22 columns]"
      ]
     },
     "execution_count": 2,
     "metadata": {},
     "output_type": "execute_result"
    }
   ],
   "source": [
    "dtype = {'is_apartment': 'category', 'studio': 'category', 'open_plan': 'category'}\n",
    "df = pd.read_csv('https://code.s3.yandex.net/datasets/real_estate_data.csv', dtype=dtype, sep='\\t'\n",
    "                , parse_dates=['first_day_exposition'], date_format='%Y-%m-%dT%H:%M:%S')\n",
    "df.rename(columns={'cityCenters_nearest': 'city_centers_nearest'}, inplace=True)\n",
    "df.sample(5, random_state=7)"
   ]
  },
  {
   "cell_type": "markdown",
   "metadata": {
    "id": "Po0h43KRrRQV"
   },
   "source": [
    "Изучим каждую колонку отдельно"
   ]
  },
  {
   "cell_type": "code",
   "execution_count": 47,
   "metadata": {
    "id": "K49UBEV_rRQY",
    "outputId": "df49dbe7-b3cb-45da-f13e-5ece787e7ce4"
   },
   "outputs": [
    {
     "data": {
      "text/html": [
       "<style type=\"text/css\">\n",
       "#T_cf9ea caption {\n",
       "  font-size: 18px;\n",
       "  text-align: left;\n",
       "  font-weight: bold;\n",
       "}\n",
       "#T_cf9ea_row0_col0, #T_cf9ea_row0_col1, #T_cf9ea_row0_col2, #T_cf9ea_row0_col3, #T_cf9ea_row0_col4 {\n",
       "  text-align: left;\n",
       "}\n",
       "</style>\n",
       "<table id=\"T_cf9ea\" class=\"dataframe\">\n",
       "  <caption>DataFrame</caption>\n",
       "  <thead>\n",
       "    <tr>\n",
       "      <th id=\"T_cf9ea_level0_col0\" class=\"col_heading level0 col0\" >Rows</th>\n",
       "      <th id=\"T_cf9ea_level0_col1\" class=\"col_heading level0 col1\" >Features</th>\n",
       "      <th id=\"T_cf9ea_level0_col2\" class=\"col_heading level0 col2\" >RAM (Mb)</th>\n",
       "      <th id=\"T_cf9ea_level0_col3\" class=\"col_heading level0 col3\" >Duplicates</th>\n",
       "      <th id=\"T_cf9ea_level0_col4\" class=\"col_heading level0 col4\" >Dupl (sub - origin)</th>\n",
       "    </tr>\n",
       "  </thead>\n",
       "  <tbody>\n",
       "    <tr>\n",
       "      <td id=\"T_cf9ea_row0_col0\" class=\"data row0 col0\" >23 699</td>\n",
       "      <td id=\"T_cf9ea_row0_col1\" class=\"data row0 col1\" >22</td>\n",
       "      <td id=\"T_cf9ea_row0_col2\" class=\"data row0 col2\" >6</td>\n",
       "      <td id=\"T_cf9ea_row0_col3\" class=\"data row0 col3\" >---</td>\n",
       "      <td id=\"T_cf9ea_row0_col4\" class=\"data row0 col4\" >---</td>\n",
       "    </tr>\n",
       "  </tbody>\n",
       "</table>\n"
      ],
      "text/plain": [
       "<pandas.io.formats.style.Styler at 0x7bbe70ced060>"
      ]
     },
     "execution_count": 47,
     "metadata": {},
     "output_type": "execute_result"
    }
   ],
   "source": [
    "gen = pagri_data_tools.my_info_gen(df)\n",
    "next(gen)"
   ]
  },
  {
   "cell_type": "markdown",
   "metadata": {
    "id": "p02xR_u8rRQZ"
   },
   "source": [
    "**Наблюдения:**\n",
    "- Полных дубликатов в датафрейме нет"
   ]
  },
  {
   "cell_type": "code",
   "execution_count": 48,
   "metadata": {
    "id": "MnUco9corRQb"
   },
   "outputs": [
    {
     "data": {
      "text/html": [
       "\n",
       "        <div style=\"display: flex; justify-content: flex-start; align-items: flex-end;\">\n",
       "            <style type=\"text/css\">\n",
       "#T_83cf2 caption {\n",
       "  font-size: 16px;\n",
       "  text-align: left;\n",
       "  font-weight: bold;\n",
       "}\n",
       "#T_83cf2_row0_col0, #T_83cf2_row0_col1, #T_83cf2_row0_col2, #T_83cf2_row0_col3, #T_83cf2_row0_col4, #T_83cf2_row0_col5, #T_83cf2_row0_col6, #T_83cf2_row0_col7, #T_83cf2_row0_col8, #T_83cf2_row1_col0, #T_83cf2_row1_col1, #T_83cf2_row1_col2, #T_83cf2_row1_col3, #T_83cf2_row1_col4, #T_83cf2_row1_col5, #T_83cf2_row1_col6, #T_83cf2_row1_col7, #T_83cf2_row1_col8, #T_83cf2_row2_col0, #T_83cf2_row2_col1, #T_83cf2_row2_col2, #T_83cf2_row2_col3, #T_83cf2_row2_col4, #T_83cf2_row2_col5, #T_83cf2_row2_col6, #T_83cf2_row2_col7, #T_83cf2_row2_col8, #T_83cf2_row3_col0, #T_83cf2_row3_col1, #T_83cf2_row3_col2, #T_83cf2_row3_col3, #T_83cf2_row3_col4, #T_83cf2_row3_col5, #T_83cf2_row3_col6, #T_83cf2_row3_col7, #T_83cf2_row3_col8 {\n",
       "  text-align: left;\n",
       "}\n",
       "</style>\n",
       "<table id=\"T_83cf2\">\n",
       "  <caption>first_day_exposition</caption>\n",
       "  <thead>\n",
       "  </thead>\n",
       "  <tbody>\n",
       "    <tr>\n",
       "      <td id=\"T_83cf2_row0_col0\" class=\"data row0 col0\" >First date</td>\n",
       "      <td id=\"T_83cf2_row0_col1\" class=\"data row0 col1\" >2014-11-27 00:00:00</td>\n",
       "      <td id=\"T_83cf2_row0_col2\" class=\"data row0 col2\" >                              </td>\n",
       "      <td id=\"T_83cf2_row0_col3\" class=\"data row0 col3\" >Zeros</td>\n",
       "      <td id=\"T_83cf2_row0_col4\" class=\"data row0 col4\" >---</td>\n",
       "      <td id=\"T_83cf2_row0_col5\" class=\"data row0 col5\" >                              </td>\n",
       "      <td id=\"T_83cf2_row0_col6\" class=\"data row0 col6\" >Years missing</td>\n",
       "      <td id=\"T_83cf2_row0_col7\" class=\"data row0 col7\" >0%</td>\n",
       "      <td id=\"T_83cf2_row0_col8\" class=\"data row0 col8\" >                              </td>\n",
       "    </tr>\n",
       "    <tr>\n",
       "      <td id=\"T_83cf2_row1_col0\" class=\"data row1 col0\" >Last date</td>\n",
       "      <td id=\"T_83cf2_row1_col1\" class=\"data row1 col1\" >2019-05-03 00:00:00</td>\n",
       "      <td id=\"T_83cf2_row1_col2\" class=\"data row1 col2\" >                              </td>\n",
       "      <td id=\"T_83cf2_row1_col3\" class=\"data row1 col3\" >Missing</td>\n",
       "      <td id=\"T_83cf2_row1_col4\" class=\"data row1 col4\" >---</td>\n",
       "      <td id=\"T_83cf2_row1_col5\" class=\"data row1 col5\" >                              </td>\n",
       "      <td id=\"T_83cf2_row1_col6\" class=\"data row1 col6\" >Months missing</td>\n",
       "      <td id=\"T_83cf2_row1_col7\" class=\"data row1 col7\" >0%</td>\n",
       "      <td id=\"T_83cf2_row1_col8\" class=\"data row1 col8\" >                              </td>\n",
       "    </tr>\n",
       "    <tr>\n",
       "      <td id=\"T_83cf2_row2_col0\" class=\"data row2 col0\" >Values</td>\n",
       "      <td id=\"T_83cf2_row2_col1\" class=\"data row2 col1\" >23 699 (100%)</td>\n",
       "      <td id=\"T_83cf2_row2_col2\" class=\"data row2 col2\" >                              </td>\n",
       "      <td id=\"T_83cf2_row2_col3\" class=\"data row2 col3\" >Distinct</td>\n",
       "      <td id=\"T_83cf2_row2_col4\" class=\"data row2 col4\" >1 491 (6%)</td>\n",
       "      <td id=\"T_83cf2_row2_col5\" class=\"data row2 col5\" >                              </td>\n",
       "      <td id=\"T_83cf2_row2_col6\" class=\"data row2 col6\" >Weeks missing</td>\n",
       "      <td id=\"T_83cf2_row2_col7\" class=\"data row2 col7\" >0%</td>\n",
       "      <td id=\"T_83cf2_row2_col8\" class=\"data row2 col8\" >                              </td>\n",
       "    </tr>\n",
       "    <tr>\n",
       "      <td id=\"T_83cf2_row3_col0\" class=\"data row3 col0\" >RAM (Mb)</td>\n",
       "      <td id=\"T_83cf2_row3_col1\" class=\"data row3 col1\" ><1 Mb</td>\n",
       "      <td id=\"T_83cf2_row3_col2\" class=\"data row3 col2\" >                              </td>\n",
       "      <td id=\"T_83cf2_row3_col3\" class=\"data row3 col3\" >Duplicates</td>\n",
       "      <td id=\"T_83cf2_row3_col4\" class=\"data row3 col4\" >22 208 (94%)</td>\n",
       "      <td id=\"T_83cf2_row3_col5\" class=\"data row3 col5\" >                              </td>\n",
       "      <td id=\"T_83cf2_row3_col6\" class=\"data row3 col6\" >Days missing</td>\n",
       "      <td id=\"T_83cf2_row3_col7\" class=\"data row3 col7\" >8%</td>\n",
       "      <td id=\"T_83cf2_row3_col8\" class=\"data row3 col8\" >                              </td>\n",
       "    </tr>\n",
       "  </tbody>\n",
       "</table>\n",
       "\n",
       "        </div>\n",
       "        "
      ],
      "text/plain": [
       "<IPython.core.display.HTML object>"
      ]
     },
     "metadata": {},
     "output_type": "display_data"
    }
   ],
   "source": [
    "next(gen)"
   ]
  },
  {
   "cell_type": "markdown",
   "metadata": {},
   "source": [
    "**Наблюдения:**\n",
    "- В колонке с датой пропущенных значений нет.\n",
    "- Нет пропущенных годов и месяцев.\n",
    "- 8 процентов дней пропущено"
   ]
  },
  {
   "cell_type": "code",
   "execution_count": 49,
   "metadata": {},
   "outputs": [
    {
     "data": {
      "text/html": [
       "\n",
       "        <div style=\"display: flex; justify-content: flex-start; align-items: flex-end;\">\n",
       "            <style type=\"text/css\">\n",
       "#T_0ff7e caption {\n",
       "  font-size: 16px;\n",
       "  text-align: left;\n",
       "  font-weight: bold;\n",
       "}\n",
       "#T_0ff7e_row0_col0, #T_0ff7e_row0_col1, #T_0ff7e_row0_col2, #T_0ff7e_row0_col3, #T_0ff7e_row0_col4, #T_0ff7e_row0_col5, #T_0ff7e_row0_col6, #T_0ff7e_row0_col7, #T_0ff7e_row0_col8, #T_0ff7e_row0_col9, #T_0ff7e_row1_col0, #T_0ff7e_row1_col1, #T_0ff7e_row1_col2, #T_0ff7e_row1_col3, #T_0ff7e_row1_col4, #T_0ff7e_row1_col5, #T_0ff7e_row1_col6, #T_0ff7e_row1_col7, #T_0ff7e_row1_col8, #T_0ff7e_row1_col9, #T_0ff7e_row2_col0, #T_0ff7e_row2_col1, #T_0ff7e_row2_col2, #T_0ff7e_row2_col3, #T_0ff7e_row2_col4, #T_0ff7e_row2_col5, #T_0ff7e_row2_col6, #T_0ff7e_row2_col7, #T_0ff7e_row2_col8, #T_0ff7e_row2_col9, #T_0ff7e_row3_col0, #T_0ff7e_row3_col1, #T_0ff7e_row3_col2, #T_0ff7e_row3_col3, #T_0ff7e_row3_col4, #T_0ff7e_row3_col5, #T_0ff7e_row3_col6, #T_0ff7e_row3_col7, #T_0ff7e_row3_col8, #T_0ff7e_row3_col9, #T_0ff7e_row4_col0, #T_0ff7e_row4_col1, #T_0ff7e_row4_col2, #T_0ff7e_row4_col3, #T_0ff7e_row4_col4, #T_0ff7e_row4_col5, #T_0ff7e_row4_col6, #T_0ff7e_row4_col7, #T_0ff7e_row4_col8, #T_0ff7e_row4_col9, #T_0ff7e_row5_col0, #T_0ff7e_row5_col1, #T_0ff7e_row5_col2, #T_0ff7e_row5_col3, #T_0ff7e_row5_col4, #T_0ff7e_row5_col5, #T_0ff7e_row5_col6, #T_0ff7e_row5_col7, #T_0ff7e_row5_col8, #T_0ff7e_row5_col9, #T_0ff7e_row6_col0, #T_0ff7e_row6_col1, #T_0ff7e_row6_col2, #T_0ff7e_row6_col3, #T_0ff7e_row6_col4, #T_0ff7e_row6_col5, #T_0ff7e_row6_col6, #T_0ff7e_row6_col7, #T_0ff7e_row6_col8, #T_0ff7e_row6_col9 {\n",
       "  text-align: left;\n",
       "}\n",
       "</style>\n",
       "<table id=\"T_0ff7e\">\n",
       "  <caption>total_images</caption>\n",
       "  <thead>\n",
       "  </thead>\n",
       "  <tbody>\n",
       "    <tr>\n",
       "      <td id=\"T_0ff7e_row0_col0\" class=\"data row0 col0\" >Values</td>\n",
       "      <td id=\"T_0ff7e_row0_col1\" class=\"data row0 col1\" >23 699 (100%)</td>\n",
       "      <td id=\"T_0ff7e_row0_col2\" class=\"data row0 col2\" >                              </td>\n",
       "      <td id=\"T_0ff7e_row0_col3\" class=\"data row0 col3\" >Max</td>\n",
       "      <td id=\"T_0ff7e_row0_col4\" class=\"data row0 col4\" >50</td>\n",
       "      <td id=\"T_0ff7e_row0_col5\" class=\"data row0 col5\" >                              </td>\n",
       "      <td id=\"T_0ff7e_row0_col6\" class=\"data row0 col6\" >Avg</td>\n",
       "      <td id=\"T_0ff7e_row0_col7\" class=\"data row0 col7\" >9.86</td>\n",
       "      <td id=\"T_0ff7e_row0_col8\" class=\"data row0 col8\" >                              </td>\n",
       "      <td id=\"T_0ff7e_row0_col9\" class=\"data row0 col9\" >10 (8%)</td>\n",
       "    </tr>\n",
       "    <tr>\n",
       "      <td id=\"T_0ff7e_row1_col0\" class=\"data row1 col0\" >Missing</td>\n",
       "      <td id=\"T_0ff7e_row1_col1\" class=\"data row1 col1\" >---</td>\n",
       "      <td id=\"T_0ff7e_row1_col2\" class=\"data row1 col2\" >                              </td>\n",
       "      <td id=\"T_0ff7e_row1_col3\" class=\"data row1 col3\" >95%</td>\n",
       "      <td id=\"T_0ff7e_row1_col4\" class=\"data row1 col4\" >20</td>\n",
       "      <td id=\"T_0ff7e_row1_col5\" class=\"data row1 col5\" >                              </td>\n",
       "      <td id=\"T_0ff7e_row1_col6\" class=\"data row1 col6\" >Mode</td>\n",
       "      <td id=\"T_0ff7e_row1_col7\" class=\"data row1 col7\" >10</td>\n",
       "      <td id=\"T_0ff7e_row1_col8\" class=\"data row1 col8\" >                              </td>\n",
       "      <td id=\"T_0ff7e_row1_col9\" class=\"data row1 col9\" >9 (7%)</td>\n",
       "    </tr>\n",
       "    <tr>\n",
       "      <td id=\"T_0ff7e_row2_col0\" class=\"data row2 col0\" >Distinct</td>\n",
       "      <td id=\"T_0ff7e_row2_col1\" class=\"data row2 col1\" >38 (<1%)</td>\n",
       "      <td id=\"T_0ff7e_row2_col2\" class=\"data row2 col2\" >                              </td>\n",
       "      <td id=\"T_0ff7e_row2_col3\" class=\"data row2 col3\" >75%</td>\n",
       "      <td id=\"T_0ff7e_row2_col4\" class=\"data row2 col4\" >14</td>\n",
       "      <td id=\"T_0ff7e_row2_col5\" class=\"data row2 col5\" >                              </td>\n",
       "      <td id=\"T_0ff7e_row2_col6\" class=\"data row2 col6\" >Range</td>\n",
       "      <td id=\"T_0ff7e_row2_col7\" class=\"data row2 col7\" >50</td>\n",
       "      <td id=\"T_0ff7e_row2_col8\" class=\"data row2 col8\" >                              </td>\n",
       "      <td id=\"T_0ff7e_row2_col9\" class=\"data row2 col9\" >20 (7%)</td>\n",
       "    </tr>\n",
       "    <tr>\n",
       "      <td id=\"T_0ff7e_row3_col0\" class=\"data row3 col0\" >Duplicates</td>\n",
       "      <td id=\"T_0ff7e_row3_col1\" class=\"data row3 col1\" >23 661 (99.8%)</td>\n",
       "      <td id=\"T_0ff7e_row3_col2\" class=\"data row3 col2\" >                              </td>\n",
       "      <td id=\"T_0ff7e_row3_col3\" class=\"data row3 col3\" >Median</td>\n",
       "      <td id=\"T_0ff7e_row3_col4\" class=\"data row3 col4\" >9</td>\n",
       "      <td id=\"T_0ff7e_row3_col5\" class=\"data row3 col5\" >                              </td>\n",
       "      <td id=\"T_0ff7e_row3_col6\" class=\"data row3 col6\" >iQR</td>\n",
       "      <td id=\"T_0ff7e_row3_col7\" class=\"data row3 col7\" >8</td>\n",
       "      <td id=\"T_0ff7e_row3_col8\" class=\"data row3 col8\" >                              </td>\n",
       "      <td id=\"T_0ff7e_row3_col9\" class=\"data row3 col9\" >8 (7%)</td>\n",
       "    </tr>\n",
       "    <tr>\n",
       "      <td id=\"T_0ff7e_row4_col0\" class=\"data row4 col0\" >Zeros</td>\n",
       "      <td id=\"T_0ff7e_row4_col1\" class=\"data row4 col1\" >1 059 (4%)</td>\n",
       "      <td id=\"T_0ff7e_row4_col2\" class=\"data row4 col2\" >                              </td>\n",
       "      <td id=\"T_0ff7e_row4_col3\" class=\"data row4 col3\" >25%</td>\n",
       "      <td id=\"T_0ff7e_row4_col4\" class=\"data row4 col4\" >6</td>\n",
       "      <td id=\"T_0ff7e_row4_col5\" class=\"data row4 col5\" >                              </td>\n",
       "      <td id=\"T_0ff7e_row4_col6\" class=\"data row4 col6\" >std</td>\n",
       "      <td id=\"T_0ff7e_row4_col7\" class=\"data row4 col7\" >5.68</td>\n",
       "      <td id=\"T_0ff7e_row4_col8\" class=\"data row4 col8\" >                              </td>\n",
       "      <td id=\"T_0ff7e_row4_col9\" class=\"data row4 col9\" >7 (6%)</td>\n",
       "    </tr>\n",
       "    <tr>\n",
       "      <td id=\"T_0ff7e_row5_col0\" class=\"data row5 col0\" >Negative</td>\n",
       "      <td id=\"T_0ff7e_row5_col1\" class=\"data row5 col1\" >---</td>\n",
       "      <td id=\"T_0ff7e_row5_col2\" class=\"data row5 col2\" >                              </td>\n",
       "      <td id=\"T_0ff7e_row5_col3\" class=\"data row5 col3\" >5%</td>\n",
       "      <td id=\"T_0ff7e_row5_col4\" class=\"data row5 col4\" >1</td>\n",
       "      <td id=\"T_0ff7e_row5_col5\" class=\"data row5 col5\" >                              </td>\n",
       "      <td id=\"T_0ff7e_row5_col6\" class=\"data row5 col6\" >kurt</td>\n",
       "      <td id=\"T_0ff7e_row5_col7\" class=\"data row5 col7\" >-0.34</td>\n",
       "      <td id=\"T_0ff7e_row5_col8\" class=\"data row5 col8\" >                              </td>\n",
       "      <td id=\"T_0ff7e_row5_col9\" class=\"data row5 col9\" >6 (6%)</td>\n",
       "    </tr>\n",
       "    <tr>\n",
       "      <td id=\"T_0ff7e_row6_col0\" class=\"data row6 col0\" >RAM (Mb)</td>\n",
       "      <td id=\"T_0ff7e_row6_col1\" class=\"data row6 col1\" ><1 Mb</td>\n",
       "      <td id=\"T_0ff7e_row6_col2\" class=\"data row6 col2\" >                              </td>\n",
       "      <td id=\"T_0ff7e_row6_col3\" class=\"data row6 col3\" >Min</td>\n",
       "      <td id=\"T_0ff7e_row6_col4\" class=\"data row6 col4\" >0</td>\n",
       "      <td id=\"T_0ff7e_row6_col5\" class=\"data row6 col5\" >                              </td>\n",
       "      <td id=\"T_0ff7e_row6_col6\" class=\"data row6 col6\" >skew</td>\n",
       "      <td id=\"T_0ff7e_row6_col7\" class=\"data row6 col7\" >0.26</td>\n",
       "      <td id=\"T_0ff7e_row6_col8\" class=\"data row6 col8\" >                              </td>\n",
       "      <td id=\"T_0ff7e_row6_col9\" class=\"data row6 col9\" >11 (6%)</td>\n",
       "    </tr>\n",
       "  </tbody>\n",
       "</table>\n",
       "\n",
       "            <div>\n",
       "                <img src=\"data:image/png;base64,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\" alt=\"График\"/>\n",
       "            </div>\n",
       "        </div>\n",
       "        "
      ],
      "text/plain": [
       "<IPython.core.display.HTML object>"
      ]
     },
     "metadata": {},
     "output_type": "display_data"
    }
   ],
   "source": [
    "next(gen)"
   ]
  },
  {
   "cell_type": "markdown",
   "metadata": {},
   "source": [
    "**Наблюдения:**\n",
    "- В колонке с количеством фотографий пропусков нет\n",
    "- 4 процента записей с нулями, это нормально, поскольку у части объявлений нет изображений.\n",
    "- Максимальное количество фотографиий 50. Это многовато, нужно будет это проверить.\n",
    "- Медианное значение 9, похоже на правду.\n",
    "- 7 процентов записей имеют 20 фотографий. "
   ]
  },
  {
   "cell_type": "code",
   "execution_count": 50,
   "metadata": {},
   "outputs": [
    {
     "data": {
      "text/html": [
       "\n",
       "        <div style=\"display: flex; justify-content: flex-start; align-items: flex-end;\">\n",
       "            <style type=\"text/css\">\n",
       "#T_ab82e caption {\n",
       "  font-size: 16px;\n",
       "  text-align: left;\n",
       "  font-weight: bold;\n",
       "}\n",
       "#T_ab82e_row0_col0, #T_ab82e_row0_col1, #T_ab82e_row0_col2, #T_ab82e_row0_col3, #T_ab82e_row0_col4, #T_ab82e_row0_col5, #T_ab82e_row0_col6, #T_ab82e_row0_col7, #T_ab82e_row0_col8, #T_ab82e_row0_col9, #T_ab82e_row1_col0, #T_ab82e_row1_col1, #T_ab82e_row1_col2, #T_ab82e_row1_col3, #T_ab82e_row1_col4, #T_ab82e_row1_col5, #T_ab82e_row1_col6, #T_ab82e_row1_col7, #T_ab82e_row1_col8, #T_ab82e_row1_col9, #T_ab82e_row2_col0, #T_ab82e_row2_col1, #T_ab82e_row2_col2, #T_ab82e_row2_col3, #T_ab82e_row2_col4, #T_ab82e_row2_col5, #T_ab82e_row2_col6, #T_ab82e_row2_col7, #T_ab82e_row2_col8, #T_ab82e_row2_col9, #T_ab82e_row3_col0, #T_ab82e_row3_col1, #T_ab82e_row3_col2, #T_ab82e_row3_col3, #T_ab82e_row3_col4, #T_ab82e_row3_col5, #T_ab82e_row3_col6, #T_ab82e_row3_col7, #T_ab82e_row3_col8, #T_ab82e_row3_col9, #T_ab82e_row4_col0, #T_ab82e_row4_col1, #T_ab82e_row4_col2, #T_ab82e_row4_col3, #T_ab82e_row4_col4, #T_ab82e_row4_col5, #T_ab82e_row4_col6, #T_ab82e_row4_col7, #T_ab82e_row4_col8, #T_ab82e_row4_col9, #T_ab82e_row5_col0, #T_ab82e_row5_col1, #T_ab82e_row5_col2, #T_ab82e_row5_col3, #T_ab82e_row5_col4, #T_ab82e_row5_col5, #T_ab82e_row5_col6, #T_ab82e_row5_col7, #T_ab82e_row5_col8, #T_ab82e_row5_col9, #T_ab82e_row6_col0, #T_ab82e_row6_col1, #T_ab82e_row6_col2, #T_ab82e_row6_col3, #T_ab82e_row6_col4, #T_ab82e_row6_col5, #T_ab82e_row6_col6, #T_ab82e_row6_col7, #T_ab82e_row6_col8, #T_ab82e_row6_col9 {\n",
       "  text-align: left;\n",
       "}\n",
       "</style>\n",
       "<table id=\"T_ab82e\">\n",
       "  <caption>last_price</caption>\n",
       "  <thead>\n",
       "  </thead>\n",
       "  <tbody>\n",
       "    <tr>\n",
       "      <td id=\"T_ab82e_row0_col0\" class=\"data row0 col0\" >Values</td>\n",
       "      <td id=\"T_ab82e_row0_col1\" class=\"data row0 col1\" >23 699 (100%)</td>\n",
       "      <td id=\"T_ab82e_row0_col2\" class=\"data row0 col2\" >                              </td>\n",
       "      <td id=\"T_ab82e_row0_col3\" class=\"data row0 col3\" >Max</td>\n",
       "      <td id=\"T_ab82e_row0_col4\" class=\"data row0 col4\" >763 000 000</td>\n",
       "      <td id=\"T_ab82e_row0_col5\" class=\"data row0 col5\" >                              </td>\n",
       "      <td id=\"T_ab82e_row0_col6\" class=\"data row0 col6\" >Avg</td>\n",
       "      <td id=\"T_ab82e_row0_col7\" class=\"data row0 col7\" >6 541 548.77</td>\n",
       "      <td id=\"T_ab82e_row0_col8\" class=\"data row0 col8\" >                              </td>\n",
       "      <td id=\"T_ab82e_row0_col9\" class=\"data row0 col9\" >4 500 000 (1%)</td>\n",
       "    </tr>\n",
       "    <tr>\n",
       "      <td id=\"T_ab82e_row1_col0\" class=\"data row1 col0\" >Missing</td>\n",
       "      <td id=\"T_ab82e_row1_col1\" class=\"data row1 col1\" >---</td>\n",
       "      <td id=\"T_ab82e_row1_col2\" class=\"data row1 col2\" >                              </td>\n",
       "      <td id=\"T_ab82e_row1_col3\" class=\"data row1 col3\" >95%</td>\n",
       "      <td id=\"T_ab82e_row1_col4\" class=\"data row1 col4\" >15 300 000</td>\n",
       "      <td id=\"T_ab82e_row1_col5\" class=\"data row1 col5\" >                              </td>\n",
       "      <td id=\"T_ab82e_row1_col6\" class=\"data row1 col6\" >Mode</td>\n",
       "      <td id=\"T_ab82e_row1_col7\" class=\"data row1 col7\" >4 500 000</td>\n",
       "      <td id=\"T_ab82e_row1_col8\" class=\"data row1 col8\" >                              </td>\n",
       "      <td id=\"T_ab82e_row1_col9\" class=\"data row1 col9\" >3 500 000 (1%)</td>\n",
       "    </tr>\n",
       "    <tr>\n",
       "      <td id=\"T_ab82e_row2_col0\" class=\"data row2 col0\" >Distinct</td>\n",
       "      <td id=\"T_ab82e_row2_col1\" class=\"data row2 col1\" >2 978 (13%)</td>\n",
       "      <td id=\"T_ab82e_row2_col2\" class=\"data row2 col2\" >                              </td>\n",
       "      <td id=\"T_ab82e_row2_col3\" class=\"data row2 col3\" >75%</td>\n",
       "      <td id=\"T_ab82e_row2_col4\" class=\"data row2 col4\" >6 800 000</td>\n",
       "      <td id=\"T_ab82e_row2_col5\" class=\"data row2 col5\" >                              </td>\n",
       "      <td id=\"T_ab82e_row2_col6\" class=\"data row2 col6\" >Range</td>\n",
       "      <td id=\"T_ab82e_row2_col7\" class=\"data row2 col7\" >762 987 810</td>\n",
       "      <td id=\"T_ab82e_row2_col8\" class=\"data row2 col8\" >                              </td>\n",
       "      <td id=\"T_ab82e_row2_col9\" class=\"data row2 col9\" >4 300 000 (1%)</td>\n",
       "    </tr>\n",
       "    <tr>\n",
       "      <td id=\"T_ab82e_row3_col0\" class=\"data row3 col0\" >Duplicates</td>\n",
       "      <td id=\"T_ab82e_row3_col1\" class=\"data row3 col1\" >20 721 (87%)</td>\n",
       "      <td id=\"T_ab82e_row3_col2\" class=\"data row3 col2\" >                              </td>\n",
       "      <td id=\"T_ab82e_row3_col3\" class=\"data row3 col3\" >Median</td>\n",
       "      <td id=\"T_ab82e_row3_col4\" class=\"data row3 col4\" >4 650 000</td>\n",
       "      <td id=\"T_ab82e_row3_col5\" class=\"data row3 col5\" >                              </td>\n",
       "      <td id=\"T_ab82e_row3_col6\" class=\"data row3 col6\" >iQR</td>\n",
       "      <td id=\"T_ab82e_row3_col7\" class=\"data row3 col7\" >3 400 000</td>\n",
       "      <td id=\"T_ab82e_row3_col8\" class=\"data row3 col8\" >                              </td>\n",
       "      <td id=\"T_ab82e_row3_col9\" class=\"data row3 col9\" >4 000 000 (1%)</td>\n",
       "    </tr>\n",
       "    <tr>\n",
       "      <td id=\"T_ab82e_row4_col0\" class=\"data row4 col0\" >Zeros</td>\n",
       "      <td id=\"T_ab82e_row4_col1\" class=\"data row4 col1\" >---</td>\n",
       "      <td id=\"T_ab82e_row4_col2\" class=\"data row4 col2\" >                              </td>\n",
       "      <td id=\"T_ab82e_row4_col3\" class=\"data row4 col3\" >25%</td>\n",
       "      <td id=\"T_ab82e_row4_col4\" class=\"data row4 col4\" >3 400 000</td>\n",
       "      <td id=\"T_ab82e_row4_col5\" class=\"data row4 col5\" >                              </td>\n",
       "      <td id=\"T_ab82e_row4_col6\" class=\"data row4 col6\" >std</td>\n",
       "      <td id=\"T_ab82e_row4_col7\" class=\"data row4 col7\" >10 887 013.27</td>\n",
       "      <td id=\"T_ab82e_row4_col8\" class=\"data row4 col8\" >                              </td>\n",
       "      <td id=\"T_ab82e_row4_col9\" class=\"data row4 col9\" >4 200 000 (1%)</td>\n",
       "    </tr>\n",
       "    <tr>\n",
       "      <td id=\"T_ab82e_row5_col0\" class=\"data row5 col0\" >Negative</td>\n",
       "      <td id=\"T_ab82e_row5_col1\" class=\"data row5 col1\" >---</td>\n",
       "      <td id=\"T_ab82e_row5_col2\" class=\"data row5 col2\" >                              </td>\n",
       "      <td id=\"T_ab82e_row5_col3\" class=\"data row5 col3\" >5%</td>\n",
       "      <td id=\"T_ab82e_row5_col4\" class=\"data row5 col4\" >1 870 000</td>\n",
       "      <td id=\"T_ab82e_row5_col5\" class=\"data row5 col5\" >                              </td>\n",
       "      <td id=\"T_ab82e_row5_col6\" class=\"data row5 col6\" >kurt</td>\n",
       "      <td id=\"T_ab82e_row5_col7\" class=\"data row5 col7\" >1277.68</td>\n",
       "      <td id=\"T_ab82e_row5_col8\" class=\"data row5 col8\" >                              </td>\n",
       "      <td id=\"T_ab82e_row5_col9\" class=\"data row5 col9\" >3 600 000 (1%)</td>\n",
       "    </tr>\n",
       "    <tr>\n",
       "      <td id=\"T_ab82e_row6_col0\" class=\"data row6 col0\" >RAM (Mb)</td>\n",
       "      <td id=\"T_ab82e_row6_col1\" class=\"data row6 col1\" ><1 Mb</td>\n",
       "      <td id=\"T_ab82e_row6_col2\" class=\"data row6 col2\" >                              </td>\n",
       "      <td id=\"T_ab82e_row6_col3\" class=\"data row6 col3\" >Min</td>\n",
       "      <td id=\"T_ab82e_row6_col4\" class=\"data row6 col4\" >12 190</td>\n",
       "      <td id=\"T_ab82e_row6_col5\" class=\"data row6 col5\" >                              </td>\n",
       "      <td id=\"T_ab82e_row6_col6\" class=\"data row6 col6\" >skew</td>\n",
       "      <td id=\"T_ab82e_row6_col7\" class=\"data row6 col7\" >25.80</td>\n",
       "      <td id=\"T_ab82e_row6_col8\" class=\"data row6 col8\" >                              </td>\n",
       "      <td id=\"T_ab82e_row6_col9\" class=\"data row6 col9\" >3 300 000 (1%)</td>\n",
       "    </tr>\n",
       "  </tbody>\n",
       "</table>\n",
       "\n",
       "            <div>\n",
       "                <img src=\"data:image/png;base64,iVBORw0KGgoAAAANSUhEUgAAASwAAADcCAYAAADKmJzYAAAXZElEQVR4Xu2dCXBUxbqA/2RCgJAEyMKmyLvAFVyo3CtPQJ5hv6iouJAgoIiy6bUEd1QEAamChygoLpT63DcK9SqKCjwEpNwQuFe9aEBAfSqBRCSiGCQkk1d/WxMjZibM5PRkevIdiwpyzvlPn6///qa7z5lOQmVlZaWwQQACEHCAQALCcqCWKCIEIGAIICwSAQIQcIYAwnKmqigoBCCAsMgBCEDAGQIIy5mqoqAQgADCIgcgAAFnCCAsZ6qKgkIAAgiLHIAABJwhgLCcqSoKCgEIxL2wZs6cKfqHDQIQcJ8AwnK/DrkDCDQYAvUirAMHDsjixYulWbNmctVVV1XBLi0tlXnz5klSUpIUFxdLfn6+9OnTx+wPtS9UbdHDajC5zI02AAJRF9ann34qq1atkk8++UROOeUUmTRpUhXm+fPnS0ZGhowbN05KSkokLy9PlixZItnZ2RJqH8JqAJnKLUKgPr9LOH36dGnVqlWVsPx+vwwcOFAWLVok3bp1M5Uzfvx4GTBggIwYMSLovlGjRoWsSHpY5DkE4odA1HtYAXRHCquwsFCGDh0qK1eulMzMTHPYrFmzzM8JEyYE3TdjxgyEFT/5yJ1AICSBmBFWQUGBjB49WtatWyepqamm0DoM3L17txFWsH0LFiyousHVq1f/4WbfeecdnhLSCCAQJwRiTlhr166VtLS0GoVV077qwlI5HbmpxK6ZeKNIBMsUpmU1laTGvjipam4DAu4TiBlhBYaEK1askKysLENW5598Pp+ZhNfhYk37dGgZatMY/drny66CfWHVVlaHNMkdc6KkpCeHdR4HQwAC9gjEjLB00n3QoEGycOFCycnJMXc8duxYGTx4sAwfPjzoPp2Qr01YOUlD5ItNRWFRbNulpZw/tYekNEdYYYHjYAhYJBAzwgrMWbVo0cLMWe3bt8+81rB06VLT49L5rGD7EJbFDCE0BGKIQNSFtWXLFnnvvffMu1gpKSnSt29f6d+/v3Ts2NG8HDp37lzz70VFRTJs2DDJzc01uELtQ1gxlFEUBQIWCURdWBbvpcbQOofFkDDa1LkeBOwQaNDCOnyw3Dw8TG6a9Ae6zGHZSTiiQqAuBBqksA79fFgSExNEEhMlQSpFfzVjpV8kOeU3cSGsuqQV50LADoEGKSx/hV8qyvxyuMwv+oJWUrLP/En0JVRRRlh2Eo6oEKgLgQYprLKD5UZYiY0SRP+rOOwXX7JPkpv+9pIowqpLWnEuBOwQaJDCqij3S2JiopSXVfzaw2rsk8qKSklMSqSHZSfPiAoBTwg0SGEFyKm4dNbd1+g3UQX20cPyJL8IAgFPCTRoYYUiibA8zTOCQcATAggrCEaE5Ul+EQQCnhJAWAjL04QiGARsEkBYCMtmfhEbAp4SQFgIy9OEIhgEbBJAWAjLZn4RGwKeEkBYCMvThCIYBGwSQFgIy2Z+ERsCnhJAWAjL04QiGARsEkBYCMtmfhEbAp4SQFgIy9OEIhgEbBJAWAjLZn4RGwKeEkBYCMvThCIYBGwSQFgIy2Z+ERsCnhJAWAjL04QiGARsEkBYCMtmfhEbAp4SQFgIy9OEIhgEbBJAWAjLZn4RGwKeEkBYCMvThCIYBGwSQFgIy2Z+ERsCnhJAWAjL04QiGARsEkBYCMtmfhEbAp4SQFgIy9OEIhgEbBJAWAjLZn4RGwKeEkBYCMvThCIYBGwSQFgIy2Z+ERsCnhJAWAjL04QiGARsEkBYCMtmfhEbAp4SQFgIy9OEIhgEbBJAWAjLZn4RGwKeEkBYCMvThCIYBGwSQFgIy2Z+ERsCnhJAWAjL04QiGARsEkBYCMtmfhEbAp4SQFgIy9OEIhgEbBJAWAjLZn4RGwKeEkBYCMvThCIYBGwSQFgIy2Z+ERsCnhJAWAjL04QiGARsEkBYCMtmfhEbAp4SQFgIy9OEIhgEbBJAWAjLZn4RGwKeEkBYCMvThCIYBGwSQFgIy2Z+ERsCnhJAWAjL04QiGARsEkBYCMtmfhEbAp4SQFgIy9OEIhgEbBJAWAjLZn4RGwKeEkBYCMvThCIYBGwSQFgIy2Z+ERsCnhJAWAjL04QiGARsEkBYCMtmfhEbAp4SQFgIy9OEIhgEbBJAWAjLZn4RGwKeEkBYCMvThCIYBGwSQFgIy2Z+ERsCnhJAWAjL04QiGARsEkBYCMtmfhEbAp4SiClhzZw5U5YvX/67G9ywYYP4fD4pLS2VefPmSVJSkhQXF0t+fr706dOnVhgaMydpiHyxqajWY6sf0LZLSzl/ag9JaZ4c1nkcDAEI2CMQU8KaPXu2TJw48Xd327p1a/P/8+fPl4yMDBk3bpyUlJRIXl6eLFmyRLKzs0PSQVj2kofIEIg2gZgT1vTp0//AwO/3y8CBA2XRokXSrVs3s3/8+PEyYMAAGTVqFMKKdtZwPQjUEwEnhFVYWChDhw6VlStXSmZmpkE1a9Ys83PGjBkIq56Sh8tCINoEYkpYc+bMkYSEBCkvL5eysjLTg+rfv78UFBTI6NGjZd26dZKamlo1RNy9e7csWLCgitmaNWv+wG/9+vXMYUU7q7geBCwRiClhVb/HvXv3ypgxY+Smm24SncdSYa1du1bS0tKCCkvldOSmEmPS3VL2EBYCUSYQs8JSDtrjOnz4sEyYMMEMCVesWCFZWVkGkU6m69PDmua8qjNk0j3KGcXlIGCRQEwJa+fOndKpU6eq2507d64R1rRp02TQoEGycOFCycnJMfvHjh0rgwcPlhEjRjCHZTFBCA2BWCIQU8LS1xoCPaZDhw7JyJEjZfLkydKvXz/zWkOLFi1Mb2vfvn3mtYalS5dW9biCQaWHFUvpRlkgUDcCMSWsKVOmmLtJT083Uurdu7cRk2764qj2uFJSUqSoqEiGDRsmubm5td49wqoVEQdAwBkCMSUsG9QQlg2qxIRA/RBAWEG489Wc+klIrgqBUAQQFsKihUDAGQIIC2E5k6wUFAIIC2HRCiDgDAGEhbCcSVYKCgGEhbBoBRBwhgDCQljOJCsFhQDCQli0Agg4QwBhISxnkpWCQgBhISxaAQScIYCwEJYzyUpBIYCwEBatAALOEEBYCMuZZKWgEEBYCItWAAFnCCAshOVMslJQCCAshEUrgIAzBBAWwnImWSkoBBAWwqIVQMAZAggLYTmTrBQUAggLYdEKIOAMAYSFsJxJVgoKAYSFsGgFEHCGAMJCWM4kKwWFAMJCWLQCCDhDAGEhLGeSlYJCAGEhLFoBBJwhgLAQljPJSkEhgLAQFq0AAs4QQFgIy5lkpaAQQFgIi1YAAWcIICyE5UyyUlAIICyERSuAgDMEEBbCciZZKSgEEBbCohVAwBkCCAthOZOsFBQCCAth0Qog4AwBhIWwnElWCgoBhIWwaAUQcIYAwkJYziQrBYUAwkJYtAIIOEMAYSEsZ5KVgkIAYSEsWgEEnCGAsBCWM8lKQSGAsBAWrQACzhBAWAjLmWSloBBAWAiLVgABZwggLITlTLJSUAggLIRFK4CAMwQQFsJyJlkpKAQQFsKiFUDAGQIIC2E5k6wUFAIIC2HRCiDgDAGEFYGw9mz/Qd55dqvkzezlTEVTUAjEAwGEFYawtq7fJV999J30GNZZ/vnal9K5ZxvZ/OpOufD2XpKQUHs61EV0D45eKX9/6oyjuk71kkR63j9mb5Be+X+Wdl0zar+xakdEel5YF6l28MZ/7BC/v1J65v050hCc5xGBaNQFwgpDWGWl5bJzU5F8suIr2V98UDqd2lpOHnictO7cPGSVRyq6n/YelNcX/FP+9vccee/5rfJfF3eVNQ9vkcFX50h6dtOg14z0vMpKkRdnvC/dh3aULzcXy1/P+ZNsfvULaX9ylnTNbRf0epGeV5d2svZ/tkhqRhNJy04RqayU0v2H5MfvDkq/sSfVJSznRkAgmnWBsMIQ1hebiuTtJz6Tkwe2l6Id++VQ6WFJSEyQC27rYX4G2yIVnb/CL9/8+3v51+tfyvffHpDM9mnyl7P+Q9p3yxRfUmLQ60V6ngYs/mK//Pt/v5adG4ukeaum0u1vHaRTj9bSuFmjkKkc6XkRtA9zikpZPwi2vPWNSILISQPaS9fTj5H0VsFFHum1OC80gWjWBcIKQ1haMf6KSqko98t7z22Tc27qLnt2/CBtOrcIWaORiu7H4oOy7L83StvjWxo5NmnWSAq3lsjQW/5TmrdOCXrNSM/TntKyuRul/FC5NE1vLK06Npctb30tfS490Ugr2BbpeXURwQdLP5ft7++RDn/JEjXW/330nXTq2UZ6jzi+LmE5NwIC0awLhBWGsAKHqrh2FZSEHCZVDxup6Cr9lbJ7+w/SrktLefq69TJ6YR/Ts2vVMT1kjy7S87TMhVv3SdsuGfLGgs3Sa3gXSW7qM9fS4VeoLdLzImgf5pTiL/dLy7apUvD2t2YOS3u9P+z+WbI6pEcakvMiJBDNukBYEQgrwno1w5hwRFf9OpuW7ZTu53YMKaqayhXpedveLTQ9u1BzZTVdL9LzImVauK1EVNDHnBDew4FIr8d5wQlEoy4QVhSFRbJDAAJ1I4CwEFbdMoizIRBFAggLYUUx3bgUBOpGAGEhrLplEGdDIIoEEBbCimK6cSkI1I2AM8IqLS2VefPmSVJSkhQXF0t+fr706dOn1rufOXOm5CQNEX0XKpytbZeWcv7UHpLSPDmc0zgWAhCwSMAZYc2fP18yMjJk3LhxUlJSInl5ebJkyRLJzs4OiQdhWcweQkMgygScEJbf75eBAwfKokWLpFu3bgbR+PHjZcCAATJq1CiEFeWk4XIQqC8CTgirsLBQhg4dKitXrpTMzEzDatasWebnjBkzrAlLvyPYNJ0hYX0lJ9eFwJEEnBBWQUGBjB49WtatWyepqanmHnSIuHv3blmwYEHVPen+Izf9tzNOGGW+8xfOdkzXDPlT91ZSXlYRzmmS6EuU1Mwm0ijZF9Z5enBSsk8qwz5LxJd0FGvbRBCXUyAQawScEtbatWslLS0tbGHFGnTKA4GGSEDnk+u6OSGswJBwxYoVkpWl384X0Zv3+Xwyffr0kAwCva5+/frVlVXMnq8svEiGWL1B6jBWa+boy+VVHTohLJ10HzRokCxcuFBycnIMpbFjx8rgwYNlxIgRCAthHX3LidEj+dA5uopxQlh6Kzpn1aJFC5kwYYLs27fPvNawdOnSqh5XsNv1yuxHh7N+jiLZ64e7l1elDo+OpjPC0hdH586dKykpKVJUVCTDhg2T3NzcWu8SYdWKKOYPoA5jvopqLaBXdeiMsGolEuQAr0BFev1onMenczQo270GdXh0fONeWEeHgaMgAAEXCCAsF2qJMkIAAoYAwiIRIAABZwggLGeqioJCAAIIixyAAAScIYCwnKkqCgoBCCAscgACEHCGQFwL65FHHpGvvvpKfvnlFznhhBPMGlqxuH300Udy//33y3HHHSc///yz+YL39ddfb16S1W39+vWybNkys1JFRUWF3HbbbdK06a+/kj3YvldeeUWefPJJ2bVrl+jf27Vr97tb128LnHPOOdK+fXu57LLL5Kyzzooamrffflsef/xxeeKJJ8w1Q60mG2zf119/LU8//bS8/PLLct5559X4nVJdyeO5556Tiy66SC699FJp3Tr4b6/24uaV6d13321WxT148KA0a9asavmjeKtDL3hFEiNuhbVmzRp58cUX5cEHH5TKykoZM2aMXH755dK/f/9IOFk956233pL09HQ59dRTzXUmT54snTp1kmuuucYsB62N7aWXXjINQL9PqdK68cYbQ+7TODfffLNs3LhRhg8fLldeeeXv7uHRRx+V559/Xvr27VvrF8i9vHkVkH7/U1ePDQgr1Gqyofbt3LnTfFXr8OHDol+MVz6BTYUxcuRI+fbbb+X111+3LivNMV0NV7+BcfbZZ5tiqDD1gyfe6tDLfAg3VtwK64YbbjCrk2rvQbfFixfLjh07zCdgrG379++XJk2aSOPGjavKqr2uhx56yPQQ3n//fbnvvvvMvg8//FBuueUWWb16tVkiOti+xMREIyxd3ULf9n/11VfN6ha6qfCuvfZa8/+6IGJtK154yevee+81gtmyZYsRVqjVZFVsoVaaVWEpH13YUcVw4YUXVhX1hRdekD179pheZjSEtWnTJpk6daoRp7KvvsVbHXqZD+HGilthnXvuuTJp0iSzooNuy5cvl4cfftg03Fjf9JdtqMTmzJljlo1Rkd16662m2Lpood7ba6+9ZoQWbF/btm2NsHRVi0suucT0zE4//XQTY9WqVXLgwAEznIymsHQhRpWnlk2HqSqsUKvJau8p1EqzKizloEMxHfo/9dRTVVV79dVXyxVXXGF61dEQltbFZ599JirkI7d4qsP6bjtxKyz9jTqzZ882Qx7ddIioyyrr/Emsb7oShQ4H9cvd1113nZln0h6Ebioy7XU888wzRljB9nXt2tUIS5eQ1hg6L3bXXXeZGNq70i+SqwSjJazA3JvWwZtvvlklrFCryaqwQq00GxCWclI5aU/m+OOPN71Q7cH16tXLDKejISzNNR1+nnjiieZDRYe+Og3RvXv3uKnDWGg3cS2sO+64QwIL97kiLO0BfvDBB6Z3pZvK5thjjxUd4tYkrGD7qgtLJa2i0Ia7d+9eeeONN0xcFVe0hKXzZR06dJDevXsbWQV6WAFh1bSabEBYwVaaDQhL70Pnjnr27ClTpkwxQ2aVtYojWsJSvj/++KPceeedZqj97rvvmiGi1qf2sOKhDhGWRQI6bNJhwRlnnGGuokMHnWjWhhKr28cff2yefKmskpN//eUXmuz6d01+3QJDKJWPzssF26dPxAI9LG1A+hRQG+8333xjhknagKIlLF0OSJ/YTps2zdxDdWGFWk1WJ7F1SBhspdnqwtK5Kh1iah0/++yzZl5Oh2jREpYOBZVtoBerk/CnnXaa+U1P+gHheh3GSpuJ2x6W9khOOukkM4ej2wMPPGDmOfSpUyxuOsmuj+j1lYWArLScOszRT2stv27a+9JjdNJdey3B9iUkJFQJS1+P0PvWnpYy0TmywNAwGj0snVtSkTRq1Mhct6yszPzR1zR0bnHIkCE1riarTzdDrTRbXVjff/+9eTqnItbhmb7GEk1h6bygSlkn+wOb9ia13rQX6XodxkqbiVth6RBQk0d7Ifppp3MhOsQIzGnFSgVoOTZv3mzmpHSeKvAkT4Wjk9M1PRLX+wn2uDywT+MGelgqrO3bt5vH/Pq+l87tRFNY+m6ZTvIHNn2qpw1cn9hqTzDUarKh9lUXlsbWVz10Av6xxx4zl4qmsPRdvwsuuEDuuece6dKli2jZJk6caIaEev9HvpriWh3GSnuJW2EpYH0qqBOh+hi9c+fO5j2ZWNx0+KIT0dU3FdeGDRvMP+mTNe2JtGzZUg4dOmQmywMvjgbbpy+a6hBJf9ms9lRUDLfffruZy1IZas9NX4tQmenkcDRfHK0+JNT7C7WabLB9OvzSntvWrVvl4osvljPPPNP0Yn766Sfz988//9z0QHUqQF+P0A8s2y+Obtu2zeRcmzZtzAu7Wq7Au3XxVof11Y7iWlj1BZXrQgACdgggLDtciQoBCFgggLAsQCUkBCBghwDCssOVqBCAgAUCCMsCVEJCAAJ2CCAsO1yJCgEIWCCAsCxAJSQEIGCHAMKyw5WoEICABQIIywJUQkIAAnYIICw7XIkKAQhYIICwLEAlJAQgYIcAwrLDlagQgIAFAgjLAlRCQgACdgggLDtciQoBCFgggLAsQCUkBCBghwDCssOVqBCAgAUCCMsCVEJCAAJ2CCAsO1yJCgEIWCCAsCxAJSQEIGCHAMKyw5WoEICABQIIywJUQkIAAnYIICw7XIkKAQhYIICwLEAlJAQgYIcAwrLDlagQgIAFAgjLAlRCQgACdgggLDtciQoBCFgggLAsQCUkBCBghwDCssOVqBCAgAUCCMsCVEJCAAJ2CCAsO1yJCgEIWCDw/xz4dl0/3tguAAAAAElFTkSuQmCC\" alt=\"График\"/>\n",
       "            </div>\n",
       "        </div>\n",
       "        "
      ],
      "text/plain": [
       "<IPython.core.display.HTML object>"
      ]
     },
     "metadata": {},
     "output_type": "display_data"
    }
   ],
   "source": [
    "next(gen)"
   ]
  },
  {
   "cell_type": "markdown",
   "metadata": {},
   "source": [
    "**Наблюдения:**\n",
    "- В цене есть выбросы.\n",
    "- Минимальное занчение 12 190 и максимальное значение 763 млн выглядят подозрительно."
   ]
  },
  {
   "cell_type": "code",
   "execution_count": 52,
   "metadata": {},
   "outputs": [
    {
     "data": {
      "text/html": [
       "\n",
       "        <div style=\"display: flex; justify-content: flex-start; align-items: flex-end;\">\n",
       "            <style type=\"text/css\">\n",
       "#T_77c83 caption {\n",
       "  font-size: 16px;\n",
       "  text-align: left;\n",
       "  font-weight: bold;\n",
       "}\n",
       "#T_77c83_row0_col0, #T_77c83_row0_col1, #T_77c83_row0_col2, #T_77c83_row0_col3, #T_77c83_row0_col4, #T_77c83_row0_col5, #T_77c83_row0_col6, #T_77c83_row0_col7, #T_77c83_row0_col8, #T_77c83_row0_col9, #T_77c83_row1_col0, #T_77c83_row1_col1, #T_77c83_row1_col2, #T_77c83_row1_col3, #T_77c83_row1_col4, #T_77c83_row1_col5, #T_77c83_row1_col6, #T_77c83_row1_col7, #T_77c83_row1_col8, #T_77c83_row1_col9, #T_77c83_row2_col0, #T_77c83_row2_col1, #T_77c83_row2_col2, #T_77c83_row2_col3, #T_77c83_row2_col4, #T_77c83_row2_col5, #T_77c83_row2_col6, #T_77c83_row2_col7, #T_77c83_row2_col8, #T_77c83_row2_col9, #T_77c83_row3_col0, #T_77c83_row3_col1, #T_77c83_row3_col2, #T_77c83_row3_col3, #T_77c83_row3_col4, #T_77c83_row3_col5, #T_77c83_row3_col6, #T_77c83_row3_col7, #T_77c83_row3_col8, #T_77c83_row3_col9, #T_77c83_row4_col0, #T_77c83_row4_col1, #T_77c83_row4_col2, #T_77c83_row4_col3, #T_77c83_row4_col4, #T_77c83_row4_col5, #T_77c83_row4_col6, #T_77c83_row4_col7, #T_77c83_row4_col8, #T_77c83_row4_col9, #T_77c83_row5_col0, #T_77c83_row5_col1, #T_77c83_row5_col2, #T_77c83_row5_col3, #T_77c83_row5_col4, #T_77c83_row5_col5, #T_77c83_row5_col6, #T_77c83_row5_col7, #T_77c83_row5_col8, #T_77c83_row5_col9, #T_77c83_row6_col0, #T_77c83_row6_col1, #T_77c83_row6_col2, #T_77c83_row6_col3, #T_77c83_row6_col4, #T_77c83_row6_col5, #T_77c83_row6_col6, #T_77c83_row6_col7, #T_77c83_row6_col8, #T_77c83_row6_col9 {\n",
       "  text-align: left;\n",
       "}\n",
       "</style>\n",
       "<table id=\"T_77c83\">\n",
       "  <caption>total_area</caption>\n",
       "  <thead>\n",
       "  </thead>\n",
       "  <tbody>\n",
       "    <tr>\n",
       "      <td id=\"T_77c83_row0_col0\" class=\"data row0 col0\" >Values</td>\n",
       "      <td id=\"T_77c83_row0_col1\" class=\"data row0 col1\" >23 699 (100%)</td>\n",
       "      <td id=\"T_77c83_row0_col2\" class=\"data row0 col2\" >                              </td>\n",
       "      <td id=\"T_77c83_row0_col3\" class=\"data row0 col3\" >Max</td>\n",
       "      <td id=\"T_77c83_row0_col4\" class=\"data row0 col4\" >900</td>\n",
       "      <td id=\"T_77c83_row0_col5\" class=\"data row0 col5\" >                              </td>\n",
       "      <td id=\"T_77c83_row0_col6\" class=\"data row0 col6\" >Avg</td>\n",
       "      <td id=\"T_77c83_row0_col7\" class=\"data row0 col7\" >60.35</td>\n",
       "      <td id=\"T_77c83_row0_col8\" class=\"data row0 col8\" >                              </td>\n",
       "      <td id=\"T_77c83_row0_col9\" class=\"data row0 col9\" >45 (2%)</td>\n",
       "    </tr>\n",
       "    <tr>\n",
       "      <td id=\"T_77c83_row1_col0\" class=\"data row1 col0\" >Missing</td>\n",
       "      <td id=\"T_77c83_row1_col1\" class=\"data row1 col1\" >---</td>\n",
       "      <td id=\"T_77c83_row1_col2\" class=\"data row1 col2\" >                              </td>\n",
       "      <td id=\"T_77c83_row1_col3\" class=\"data row1 col3\" >95%</td>\n",
       "      <td id=\"T_77c83_row1_col4\" class=\"data row1 col4\" >116</td>\n",
       "      <td id=\"T_77c83_row1_col5\" class=\"data row1 col5\" >                              </td>\n",
       "      <td id=\"T_77c83_row1_col6\" class=\"data row1 col6\" >Mode</td>\n",
       "      <td id=\"T_77c83_row1_col7\" class=\"data row1 col7\" >45</td>\n",
       "      <td id=\"T_77c83_row1_col8\" class=\"data row1 col8\" >                              </td>\n",
       "      <td id=\"T_77c83_row1_col9\" class=\"data row1 col9\" >42 (2%)</td>\n",
       "    </tr>\n",
       "    <tr>\n",
       "      <td id=\"T_77c83_row2_col0\" class=\"data row2 col0\" >Distinct</td>\n",
       "      <td id=\"T_77c83_row2_col1\" class=\"data row2 col1\" >2 182 (9%)</td>\n",
       "      <td id=\"T_77c83_row2_col2\" class=\"data row2 col2\" >                              </td>\n",
       "      <td id=\"T_77c83_row2_col3\" class=\"data row2 col3\" >75%</td>\n",
       "      <td id=\"T_77c83_row2_col4\" class=\"data row2 col4\" >69.9</td>\n",
       "      <td id=\"T_77c83_row2_col5\" class=\"data row2 col5\" >                              </td>\n",
       "      <td id=\"T_77c83_row2_col6\" class=\"data row2 col6\" >Range</td>\n",
       "      <td id=\"T_77c83_row2_col7\" class=\"data row2 col7\" >888</td>\n",
       "      <td id=\"T_77c83_row2_col8\" class=\"data row2 col8\" >                              </td>\n",
       "      <td id=\"T_77c83_row2_col9\" class=\"data row2 col9\" >60 (1%)</td>\n",
       "    </tr>\n",
       "    <tr>\n",
       "      <td id=\"T_77c83_row3_col0\" class=\"data row3 col0\" >Duplicates</td>\n",
       "      <td id=\"T_77c83_row3_col1\" class=\"data row3 col1\" >21 517 (91%)</td>\n",
       "      <td id=\"T_77c83_row3_col2\" class=\"data row3 col2\" >                              </td>\n",
       "      <td id=\"T_77c83_row3_col3\" class=\"data row3 col3\" >Median</td>\n",
       "      <td id=\"T_77c83_row3_col4\" class=\"data row3 col4\" >52</td>\n",
       "      <td id=\"T_77c83_row3_col5\" class=\"data row3 col5\" >                              </td>\n",
       "      <td id=\"T_77c83_row3_col6\" class=\"data row3 col6\" >iQR</td>\n",
       "      <td id=\"T_77c83_row3_col7\" class=\"data row3 col7\" >29.9</td>\n",
       "      <td id=\"T_77c83_row3_col8\" class=\"data row3 col8\" >                              </td>\n",
       "      <td id=\"T_77c83_row3_col9\" class=\"data row3 col9\" >31 (1%)</td>\n",
       "    </tr>\n",
       "    <tr>\n",
       "      <td id=\"T_77c83_row4_col0\" class=\"data row4 col0\" >Zeros</td>\n",
       "      <td id=\"T_77c83_row4_col1\" class=\"data row4 col1\" >---</td>\n",
       "      <td id=\"T_77c83_row4_col2\" class=\"data row4 col2\" >                              </td>\n",
       "      <td id=\"T_77c83_row4_col3\" class=\"data row4 col3\" >25%</td>\n",
       "      <td id=\"T_77c83_row4_col4\" class=\"data row4 col4\" >40</td>\n",
       "      <td id=\"T_77c83_row4_col5\" class=\"data row4 col5\" >                              </td>\n",
       "      <td id=\"T_77c83_row4_col6\" class=\"data row4 col6\" >std</td>\n",
       "      <td id=\"T_77c83_row4_col7\" class=\"data row4 col7\" >35.65</td>\n",
       "      <td id=\"T_77c83_row4_col8\" class=\"data row4 col8\" >                              </td>\n",
       "      <td id=\"T_77c83_row4_col9\" class=\"data row4 col9\" >44 (1%)</td>\n",
       "    </tr>\n",
       "    <tr>\n",
       "      <td id=\"T_77c83_row5_col0\" class=\"data row5 col0\" >Negative</td>\n",
       "      <td id=\"T_77c83_row5_col1\" class=\"data row5 col1\" >---</td>\n",
       "      <td id=\"T_77c83_row5_col2\" class=\"data row5 col2\" >                              </td>\n",
       "      <td id=\"T_77c83_row5_col3\" class=\"data row5 col3\" >5%</td>\n",
       "      <td id=\"T_77c83_row5_col4\" class=\"data row5 col4\" >31</td>\n",
       "      <td id=\"T_77c83_row5_col5\" class=\"data row5 col5\" >                              </td>\n",
       "      <td id=\"T_77c83_row5_col6\" class=\"data row5 col6\" >kurt</td>\n",
       "      <td id=\"T_77c83_row5_col7\" class=\"data row5 col7\" >47.52</td>\n",
       "      <td id=\"T_77c83_row5_col8\" class=\"data row5 col8\" >                              </td>\n",
       "      <td id=\"T_77c83_row5_col9\" class=\"data row5 col9\" >40 (1%)</td>\n",
       "    </tr>\n",
       "    <tr>\n",
       "      <td id=\"T_77c83_row6_col0\" class=\"data row6 col0\" >RAM (Mb)</td>\n",
       "      <td id=\"T_77c83_row6_col1\" class=\"data row6 col1\" ><1 Mb</td>\n",
       "      <td id=\"T_77c83_row6_col2\" class=\"data row6 col2\" >                              </td>\n",
       "      <td id=\"T_77c83_row6_col3\" class=\"data row6 col3\" >Min</td>\n",
       "      <td id=\"T_77c83_row6_col4\" class=\"data row6 col4\" >12</td>\n",
       "      <td id=\"T_77c83_row6_col5\" class=\"data row6 col5\" >                              </td>\n",
       "      <td id=\"T_77c83_row6_col6\" class=\"data row6 col6\" >skew</td>\n",
       "      <td id=\"T_77c83_row6_col7\" class=\"data row6 col7\" >4.77</td>\n",
       "      <td id=\"T_77c83_row6_col8\" class=\"data row6 col8\" >                              </td>\n",
       "      <td id=\"T_77c83_row6_col9\" class=\"data row6 col9\" >43 (1%)</td>\n",
       "    </tr>\n",
       "  </tbody>\n",
       "</table>\n",
       "\n",
       "            <div>\n",
       "                <img src=\"data:image/png;base64,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\" alt=\"График\"/>\n",
       "            </div>\n",
       "        </div>\n",
       "        "
      ],
      "text/plain": [
       "<IPython.core.display.HTML object>"
      ]
     },
     "metadata": {},
     "output_type": "display_data"
    }
   ],
   "source": [
    "next(gen)"
   ]
  },
  {
   "cell_type": "markdown",
   "metadata": {},
   "source": [
    "**Наблюдения:**\n",
    "- Максимальная площадь в 900 квадратов многовато.\n",
    "- Также нужно проверить площадь 12 квадратов"
   ]
  },
  {
   "cell_type": "code",
   "execution_count": 53,
   "metadata": {},
   "outputs": [
    {
     "data": {
      "text/html": [
       "\n",
       "        <div style=\"display: flex; justify-content: flex-start; align-items: flex-end;\">\n",
       "            <style type=\"text/css\">\n",
       "#T_e847e caption {\n",
       "  font-size: 16px;\n",
       "  text-align: left;\n",
       "  font-weight: bold;\n",
       "}\n",
       "#T_e847e_row0_col0, #T_e847e_row0_col1, #T_e847e_row0_col2, #T_e847e_row0_col3, #T_e847e_row0_col4, #T_e847e_row0_col5, #T_e847e_row0_col6, #T_e847e_row0_col7, #T_e847e_row0_col8, #T_e847e_row0_col9, #T_e847e_row1_col0, #T_e847e_row1_col1, #T_e847e_row1_col2, #T_e847e_row1_col3, #T_e847e_row1_col4, #T_e847e_row1_col5, #T_e847e_row1_col6, #T_e847e_row1_col7, #T_e847e_row1_col8, #T_e847e_row1_col9, #T_e847e_row2_col0, #T_e847e_row2_col1, #T_e847e_row2_col2, #T_e847e_row2_col3, #T_e847e_row2_col4, #T_e847e_row2_col5, #T_e847e_row2_col6, #T_e847e_row2_col7, #T_e847e_row2_col8, #T_e847e_row2_col9, #T_e847e_row3_col0, #T_e847e_row3_col1, #T_e847e_row3_col2, #T_e847e_row3_col3, #T_e847e_row3_col4, #T_e847e_row3_col5, #T_e847e_row3_col6, #T_e847e_row3_col7, #T_e847e_row3_col8, #T_e847e_row3_col9, #T_e847e_row4_col0, #T_e847e_row4_col1, #T_e847e_row4_col2, #T_e847e_row4_col3, #T_e847e_row4_col4, #T_e847e_row4_col5, #T_e847e_row4_col6, #T_e847e_row4_col7, #T_e847e_row4_col8, #T_e847e_row4_col9, #T_e847e_row5_col0, #T_e847e_row5_col1, #T_e847e_row5_col2, #T_e847e_row5_col3, #T_e847e_row5_col4, #T_e847e_row5_col5, #T_e847e_row5_col6, #T_e847e_row5_col7, #T_e847e_row5_col8, #T_e847e_row5_col9, #T_e847e_row6_col0, #T_e847e_row6_col1, #T_e847e_row6_col2, #T_e847e_row6_col3, #T_e847e_row6_col4, #T_e847e_row6_col5, #T_e847e_row6_col6, #T_e847e_row6_col7, #T_e847e_row6_col8, #T_e847e_row6_col9 {\n",
       "  text-align: left;\n",
       "}\n",
       "</style>\n",
       "<table id=\"T_e847e\">\n",
       "  <caption>rooms</caption>\n",
       "  <thead>\n",
       "  </thead>\n",
       "  <tbody>\n",
       "    <tr>\n",
       "      <td id=\"T_e847e_row0_col0\" class=\"data row0 col0\" >Values</td>\n",
       "      <td id=\"T_e847e_row0_col1\" class=\"data row0 col1\" >23 699 (100%)</td>\n",
       "      <td id=\"T_e847e_row0_col2\" class=\"data row0 col2\" >                              </td>\n",
       "      <td id=\"T_e847e_row0_col3\" class=\"data row0 col3\" >Max</td>\n",
       "      <td id=\"T_e847e_row0_col4\" class=\"data row0 col4\" >19</td>\n",
       "      <td id=\"T_e847e_row0_col5\" class=\"data row0 col5\" >                              </td>\n",
       "      <td id=\"T_e847e_row0_col6\" class=\"data row0 col6\" >Avg</td>\n",
       "      <td id=\"T_e847e_row0_col7\" class=\"data row0 col7\" >2.07</td>\n",
       "      <td id=\"T_e847e_row0_col8\" class=\"data row0 col8\" >                              </td>\n",
       "      <td id=\"T_e847e_row0_col9\" class=\"data row0 col9\" >1 (34%)</td>\n",
       "    </tr>\n",
       "    <tr>\n",
       "      <td id=\"T_e847e_row1_col0\" class=\"data row1 col0\" >Missing</td>\n",
       "      <td id=\"T_e847e_row1_col1\" class=\"data row1 col1\" >---</td>\n",
       "      <td id=\"T_e847e_row1_col2\" class=\"data row1 col2\" >                              </td>\n",
       "      <td id=\"T_e847e_row1_col3\" class=\"data row1 col3\" >95%</td>\n",
       "      <td id=\"T_e847e_row1_col4\" class=\"data row1 col4\" >4</td>\n",
       "      <td id=\"T_e847e_row1_col5\" class=\"data row1 col5\" >                              </td>\n",
       "      <td id=\"T_e847e_row1_col6\" class=\"data row1 col6\" >Mode</td>\n",
       "      <td id=\"T_e847e_row1_col7\" class=\"data row1 col7\" >1</td>\n",
       "      <td id=\"T_e847e_row1_col8\" class=\"data row1 col8\" >                              </td>\n",
       "      <td id=\"T_e847e_row1_col9\" class=\"data row1 col9\" >2 (34%)</td>\n",
       "    </tr>\n",
       "    <tr>\n",
       "      <td id=\"T_e847e_row2_col0\" class=\"data row2 col0\" >Distinct</td>\n",
       "      <td id=\"T_e847e_row2_col1\" class=\"data row2 col1\" >17 (<1%)</td>\n",
       "      <td id=\"T_e847e_row2_col2\" class=\"data row2 col2\" >                              </td>\n",
       "      <td id=\"T_e847e_row2_col3\" class=\"data row2 col3\" >75%</td>\n",
       "      <td id=\"T_e847e_row2_col4\" class=\"data row2 col4\" >3</td>\n",
       "      <td id=\"T_e847e_row2_col5\" class=\"data row2 col5\" >                              </td>\n",
       "      <td id=\"T_e847e_row2_col6\" class=\"data row2 col6\" >Range</td>\n",
       "      <td id=\"T_e847e_row2_col7\" class=\"data row2 col7\" >19</td>\n",
       "      <td id=\"T_e847e_row2_col8\" class=\"data row2 col8\" >                              </td>\n",
       "      <td id=\"T_e847e_row2_col9\" class=\"data row2 col9\" >3 (25%)</td>\n",
       "    </tr>\n",
       "    <tr>\n",
       "      <td id=\"T_e847e_row3_col0\" class=\"data row3 col0\" >Duplicates</td>\n",
       "      <td id=\"T_e847e_row3_col1\" class=\"data row3 col1\" >23 682 (99.9%)</td>\n",
       "      <td id=\"T_e847e_row3_col2\" class=\"data row3 col2\" >                              </td>\n",
       "      <td id=\"T_e847e_row3_col3\" class=\"data row3 col3\" >Median</td>\n",
       "      <td id=\"T_e847e_row3_col4\" class=\"data row3 col4\" >2</td>\n",
       "      <td id=\"T_e847e_row3_col5\" class=\"data row3 col5\" >                              </td>\n",
       "      <td id=\"T_e847e_row3_col6\" class=\"data row3 col6\" >iQR</td>\n",
       "      <td id=\"T_e847e_row3_col7\" class=\"data row3 col7\" >2</td>\n",
       "      <td id=\"T_e847e_row3_col8\" class=\"data row3 col8\" >                              </td>\n",
       "      <td id=\"T_e847e_row3_col9\" class=\"data row3 col9\" >4 (5%)</td>\n",
       "    </tr>\n",
       "    <tr>\n",
       "      <td id=\"T_e847e_row4_col0\" class=\"data row4 col0\" >Zeros</td>\n",
       "      <td id=\"T_e847e_row4_col1\" class=\"data row4 col1\" >197 (1%)</td>\n",
       "      <td id=\"T_e847e_row4_col2\" class=\"data row4 col2\" >                              </td>\n",
       "      <td id=\"T_e847e_row4_col3\" class=\"data row4 col3\" >25%</td>\n",
       "      <td id=\"T_e847e_row4_col4\" class=\"data row4 col4\" >1</td>\n",
       "      <td id=\"T_e847e_row4_col5\" class=\"data row4 col5\" >                              </td>\n",
       "      <td id=\"T_e847e_row4_col6\" class=\"data row4 col6\" >std</td>\n",
       "      <td id=\"T_e847e_row4_col7\" class=\"data row4 col7\" >1.08</td>\n",
       "      <td id=\"T_e847e_row4_col8\" class=\"data row4 col8\" >                              </td>\n",
       "      <td id=\"T_e847e_row4_col9\" class=\"data row4 col9\" >5 (1%)</td>\n",
       "    </tr>\n",
       "    <tr>\n",
       "      <td id=\"T_e847e_row5_col0\" class=\"data row5 col0\" >Negative</td>\n",
       "      <td id=\"T_e847e_row5_col1\" class=\"data row5 col1\" >---</td>\n",
       "      <td id=\"T_e847e_row5_col2\" class=\"data row5 col2\" >                              </td>\n",
       "      <td id=\"T_e847e_row5_col3\" class=\"data row5 col3\" >5%</td>\n",
       "      <td id=\"T_e847e_row5_col4\" class=\"data row5 col4\" >1</td>\n",
       "      <td id=\"T_e847e_row5_col5\" class=\"data row5 col5\" >                              </td>\n",
       "      <td id=\"T_e847e_row5_col6\" class=\"data row5 col6\" >kurt</td>\n",
       "      <td id=\"T_e847e_row5_col7\" class=\"data row5 col7\" >8.69</td>\n",
       "      <td id=\"T_e847e_row5_col8\" class=\"data row5 col8\" >                              </td>\n",
       "      <td id=\"T_e847e_row5_col9\" class=\"data row5 col9\" >0 <1%</td>\n",
       "    </tr>\n",
       "    <tr>\n",
       "      <td id=\"T_e847e_row6_col0\" class=\"data row6 col0\" >RAM (Mb)</td>\n",
       "      <td id=\"T_e847e_row6_col1\" class=\"data row6 col1\" ><1 Mb</td>\n",
       "      <td id=\"T_e847e_row6_col2\" class=\"data row6 col2\" >                              </td>\n",
       "      <td id=\"T_e847e_row6_col3\" class=\"data row6 col3\" >Min</td>\n",
       "      <td id=\"T_e847e_row6_col4\" class=\"data row6 col4\" >0</td>\n",
       "      <td id=\"T_e847e_row6_col5\" class=\"data row6 col5\" >                              </td>\n",
       "      <td id=\"T_e847e_row6_col6\" class=\"data row6 col6\" >skew</td>\n",
       "      <td id=\"T_e847e_row6_col7\" class=\"data row6 col7\" >1.52</td>\n",
       "      <td id=\"T_e847e_row6_col8\" class=\"data row6 col8\" >                              </td>\n",
       "      <td id=\"T_e847e_row6_col9\" class=\"data row6 col9\" >6 <1%</td>\n",
       "    </tr>\n",
       "  </tbody>\n",
       "</table>\n",
       "\n",
       "            <div>\n",
       "                <img src=\"data:image/png;base64,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\" alt=\"График\"/>\n",
       "            </div>\n",
       "        </div>\n",
       "        "
      ],
      "text/plain": [
       "<IPython.core.display.HTML object>"
      ]
     },
     "metadata": {},
     "output_type": "display_data"
    }
   ],
   "source": [
    "next(gen)"
   ]
  },
  {
   "cell_type": "markdown",
   "metadata": {},
   "source": [
    "**Наблюдения:**\n",
    "- Есть квартиры с 0 комнат, возможно так обозначили студии.\n",
    "- Максимальное количество комнад 19 нужно изучить.\n",
    "- Треть квартир с 1 комнатой и треть квартир с двумя комнатами. Четверть с 3 комнатами.\n",
    "- Квартир с 4 и более комант около 6 процентов."
   ]
  },
  {
   "cell_type": "code",
   "execution_count": 54,
   "metadata": {},
   "outputs": [
    {
     "data": {
      "text/html": [
       "\n",
       "        <div style=\"display: flex; justify-content: flex-start; align-items: flex-end;\">\n",
       "            <style type=\"text/css\">\n",
       "#T_0f6b2 caption {\n",
       "  font-size: 16px;\n",
       "  text-align: left;\n",
       "  font-weight: bold;\n",
       "}\n",
       "#T_0f6b2_row0_col0, #T_0f6b2_row0_col1, #T_0f6b2_row0_col2, #T_0f6b2_row0_col3, #T_0f6b2_row0_col4, #T_0f6b2_row0_col5, #T_0f6b2_row0_col6, #T_0f6b2_row0_col7, #T_0f6b2_row0_col8, #T_0f6b2_row0_col9, #T_0f6b2_row1_col0, #T_0f6b2_row1_col1, #T_0f6b2_row1_col2, #T_0f6b2_row1_col3, #T_0f6b2_row1_col4, #T_0f6b2_row1_col5, #T_0f6b2_row1_col6, #T_0f6b2_row1_col7, #T_0f6b2_row1_col8, #T_0f6b2_row1_col9, #T_0f6b2_row2_col0, #T_0f6b2_row2_col1, #T_0f6b2_row2_col2, #T_0f6b2_row2_col3, #T_0f6b2_row2_col4, #T_0f6b2_row2_col5, #T_0f6b2_row2_col6, #T_0f6b2_row2_col7, #T_0f6b2_row2_col8, #T_0f6b2_row2_col9, #T_0f6b2_row3_col0, #T_0f6b2_row3_col1, #T_0f6b2_row3_col2, #T_0f6b2_row3_col3, #T_0f6b2_row3_col4, #T_0f6b2_row3_col5, #T_0f6b2_row3_col6, #T_0f6b2_row3_col7, #T_0f6b2_row3_col8, #T_0f6b2_row3_col9, #T_0f6b2_row4_col0, #T_0f6b2_row4_col1, #T_0f6b2_row4_col2, #T_0f6b2_row4_col3, #T_0f6b2_row4_col4, #T_0f6b2_row4_col5, #T_0f6b2_row4_col6, #T_0f6b2_row4_col7, #T_0f6b2_row4_col8, #T_0f6b2_row4_col9, #T_0f6b2_row5_col0, #T_0f6b2_row5_col1, #T_0f6b2_row5_col2, #T_0f6b2_row5_col3, #T_0f6b2_row5_col4, #T_0f6b2_row5_col5, #T_0f6b2_row5_col6, #T_0f6b2_row5_col7, #T_0f6b2_row5_col8, #T_0f6b2_row5_col9, #T_0f6b2_row6_col0, #T_0f6b2_row6_col1, #T_0f6b2_row6_col2, #T_0f6b2_row6_col3, #T_0f6b2_row6_col4, #T_0f6b2_row6_col5, #T_0f6b2_row6_col6, #T_0f6b2_row6_col7, #T_0f6b2_row6_col8, #T_0f6b2_row6_col9 {\n",
       "  text-align: left;\n",
       "}\n",
       "</style>\n",
       "<table id=\"T_0f6b2\">\n",
       "  <caption>ceiling_height</caption>\n",
       "  <thead>\n",
       "  </thead>\n",
       "  <tbody>\n",
       "    <tr>\n",
       "      <td id=\"T_0f6b2_row0_col0\" class=\"data row0 col0\" >Values</td>\n",
       "      <td id=\"T_0f6b2_row0_col1\" class=\"data row0 col1\" >14 504 (61%)</td>\n",
       "      <td id=\"T_0f6b2_row0_col2\" class=\"data row0 col2\" >                              </td>\n",
       "      <td id=\"T_0f6b2_row0_col3\" class=\"data row0 col3\" >Max</td>\n",
       "      <td id=\"T_0f6b2_row0_col4\" class=\"data row0 col4\" >100</td>\n",
       "      <td id=\"T_0f6b2_row0_col5\" class=\"data row0 col5\" >                              </td>\n",
       "      <td id=\"T_0f6b2_row0_col6\" class=\"data row0 col6\" >Avg</td>\n",
       "      <td id=\"T_0f6b2_row0_col7\" class=\"data row0 col7\" >2.77</td>\n",
       "      <td id=\"T_0f6b2_row0_col8\" class=\"data row0 col8\" >                              </td>\n",
       "      <td id=\"T_0f6b2_row0_col9\" class=\"data row0 col9\" >2.5 (24%)</td>\n",
       "    </tr>\n",
       "    <tr>\n",
       "      <td id=\"T_0f6b2_row1_col0\" class=\"data row1 col0\" >Missing</td>\n",
       "      <td id=\"T_0f6b2_row1_col1\" class=\"data row1 col1\" >9 195 (39%)</td>\n",
       "      <td id=\"T_0f6b2_row1_col2\" class=\"data row1 col2\" >                              </td>\n",
       "      <td id=\"T_0f6b2_row1_col3\" class=\"data row1 col3\" >95%</td>\n",
       "      <td id=\"T_0f6b2_row1_col4\" class=\"data row1 col4\" >3.3</td>\n",
       "      <td id=\"T_0f6b2_row1_col5\" class=\"data row1 col5\" >                              </td>\n",
       "      <td id=\"T_0f6b2_row1_col6\" class=\"data row1 col6\" >Mode</td>\n",
       "      <td id=\"T_0f6b2_row1_col7\" class=\"data row1 col7\" >2.5</td>\n",
       "      <td id=\"T_0f6b2_row1_col8\" class=\"data row1 col8\" >                              </td>\n",
       "      <td id=\"T_0f6b2_row1_col9\" class=\"data row1 col9\" >2.6 (11%)</td>\n",
       "    </tr>\n",
       "    <tr>\n",
       "      <td id=\"T_0f6b2_row2_col0\" class=\"data row2 col0\" >Distinct</td>\n",
       "      <td id=\"T_0f6b2_row2_col1\" class=\"data row2 col1\" >183 (1%)</td>\n",
       "      <td id=\"T_0f6b2_row2_col2\" class=\"data row2 col2\" >                              </td>\n",
       "      <td id=\"T_0f6b2_row2_col3\" class=\"data row2 col3\" >75%</td>\n",
       "      <td id=\"T_0f6b2_row2_col4\" class=\"data row2 col4\" >2.8</td>\n",
       "      <td id=\"T_0f6b2_row2_col5\" class=\"data row2 col5\" >                              </td>\n",
       "      <td id=\"T_0f6b2_row2_col6\" class=\"data row2 col6\" >Range</td>\n",
       "      <td id=\"T_0f6b2_row2_col7\" class=\"data row2 col7\" >99</td>\n",
       "      <td id=\"T_0f6b2_row2_col8\" class=\"data row2 col8\" >                              </td>\n",
       "      <td id=\"T_0f6b2_row2_col9\" class=\"data row2 col9\" >2.7 (11%)</td>\n",
       "    </tr>\n",
       "    <tr>\n",
       "      <td id=\"T_0f6b2_row3_col0\" class=\"data row3 col0\" >Duplicates</td>\n",
       "      <td id=\"T_0f6b2_row3_col1\" class=\"data row3 col1\" >23 515 (99.2%)</td>\n",
       "      <td id=\"T_0f6b2_row3_col2\" class=\"data row3 col2\" >                              </td>\n",
       "      <td id=\"T_0f6b2_row3_col3\" class=\"data row3 col3\" >Median</td>\n",
       "      <td id=\"T_0f6b2_row3_col4\" class=\"data row3 col4\" >2.65</td>\n",
       "      <td id=\"T_0f6b2_row3_col5\" class=\"data row3 col5\" >                              </td>\n",
       "      <td id=\"T_0f6b2_row3_col6\" class=\"data row3 col6\" >iQR</td>\n",
       "      <td id=\"T_0f6b2_row3_col7\" class=\"data row3 col7\" >.28</td>\n",
       "      <td id=\"T_0f6b2_row3_col8\" class=\"data row3 col8\" >                              </td>\n",
       "      <td id=\"T_0f6b2_row3_col9\" class=\"data row3 col9\" >3 (8%)</td>\n",
       "    </tr>\n",
       "    <tr>\n",
       "      <td id=\"T_0f6b2_row4_col0\" class=\"data row4 col0\" >Zeros</td>\n",
       "      <td id=\"T_0f6b2_row4_col1\" class=\"data row4 col1\" >---</td>\n",
       "      <td id=\"T_0f6b2_row4_col2\" class=\"data row4 col2\" >                              </td>\n",
       "      <td id=\"T_0f6b2_row4_col3\" class=\"data row4 col3\" >25%</td>\n",
       "      <td id=\"T_0f6b2_row4_col4\" class=\"data row4 col4\" >2.52</td>\n",
       "      <td id=\"T_0f6b2_row4_col5\" class=\"data row4 col5\" >                              </td>\n",
       "      <td id=\"T_0f6b2_row4_col6\" class=\"data row4 col6\" >std</td>\n",
       "      <td id=\"T_0f6b2_row4_col7\" class=\"data row4 col7\" >1.26</td>\n",
       "      <td id=\"T_0f6b2_row4_col8\" class=\"data row4 col8\" >                              </td>\n",
       "      <td id=\"T_0f6b2_row4_col9\" class=\"data row4 col9\" >2.8 (7%)</td>\n",
       "    </tr>\n",
       "    <tr>\n",
       "      <td id=\"T_0f6b2_row5_col0\" class=\"data row5 col0\" >Negative</td>\n",
       "      <td id=\"T_0f6b2_row5_col1\" class=\"data row5 col1\" >---</td>\n",
       "      <td id=\"T_0f6b2_row5_col2\" class=\"data row5 col2\" >                              </td>\n",
       "      <td id=\"T_0f6b2_row5_col3\" class=\"data row5 col3\" >5%</td>\n",
       "      <td id=\"T_0f6b2_row5_col4\" class=\"data row5 col4\" >2.5</td>\n",
       "      <td id=\"T_0f6b2_row5_col5\" class=\"data row5 col5\" >                              </td>\n",
       "      <td id=\"T_0f6b2_row5_col6\" class=\"data row5 col6\" >kurt</td>\n",
       "      <td id=\"T_0f6b2_row5_col7\" class=\"data row5 col7\" >2627.14</td>\n",
       "      <td id=\"T_0f6b2_row5_col8\" class=\"data row5 col8\" >                              </td>\n",
       "      <td id=\"T_0f6b2_row5_col9\" class=\"data row5 col9\" >2.55 (7%)</td>\n",
       "    </tr>\n",
       "    <tr>\n",
       "      <td id=\"T_0f6b2_row6_col0\" class=\"data row6 col0\" >RAM (Mb)</td>\n",
       "      <td id=\"T_0f6b2_row6_col1\" class=\"data row6 col1\" ><1 Mb</td>\n",
       "      <td id=\"T_0f6b2_row6_col2\" class=\"data row6 col2\" >                              </td>\n",
       "      <td id=\"T_0f6b2_row6_col3\" class=\"data row6 col3\" >Min</td>\n",
       "      <td id=\"T_0f6b2_row6_col4\" class=\"data row6 col4\" >1</td>\n",
       "      <td id=\"T_0f6b2_row6_col5\" class=\"data row6 col5\" >                              </td>\n",
       "      <td id=\"T_0f6b2_row6_col6\" class=\"data row6 col6\" >skew</td>\n",
       "      <td id=\"T_0f6b2_row6_col7\" class=\"data row6 col7\" >41.71</td>\n",
       "      <td id=\"T_0f6b2_row6_col8\" class=\"data row6 col8\" >                              </td>\n",
       "      <td id=\"T_0f6b2_row6_col9\" class=\"data row6 col9\" >2.75 (6%)</td>\n",
       "    </tr>\n",
       "  </tbody>\n",
       "</table>\n",
       "\n",
       "            <div>\n",
       "                <img src=\"data:image/png;base64,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\" alt=\"График\"/>\n",
       "            </div>\n",
       "        </div>\n",
       "        "
      ],
      "text/plain": [
       "<IPython.core.display.HTML object>"
      ]
     },
     "metadata": {},
     "output_type": "display_data"
    }
   ],
   "source": [
    "next(gen)"
   ]
  },
  {
   "cell_type": "markdown",
   "metadata": {},
   "source": [
    "**Наблюдения:**\n",
    "- В высоте потолков пропуски (39 процентов)\n",
    "- Явный выбрас 100."
   ]
  },
  {
   "cell_type": "code",
   "execution_count": 55,
   "metadata": {},
   "outputs": [
    {
     "data": {
      "text/html": [
       "\n",
       "        <div style=\"display: flex; justify-content: flex-start; align-items: flex-end;\">\n",
       "            <style type=\"text/css\">\n",
       "#T_46187 caption {\n",
       "  font-size: 16px;\n",
       "  text-align: left;\n",
       "  font-weight: bold;\n",
       "}\n",
       "#T_46187_row0_col0, #T_46187_row0_col1, #T_46187_row0_col2, #T_46187_row0_col3, #T_46187_row0_col4, #T_46187_row0_col5, #T_46187_row0_col6, #T_46187_row0_col7, #T_46187_row0_col8, #T_46187_row0_col9, #T_46187_row1_col0, #T_46187_row1_col1, #T_46187_row1_col2, #T_46187_row1_col3, #T_46187_row1_col4, #T_46187_row1_col5, #T_46187_row1_col6, #T_46187_row1_col7, #T_46187_row1_col8, #T_46187_row1_col9, #T_46187_row2_col0, #T_46187_row2_col1, #T_46187_row2_col2, #T_46187_row2_col3, #T_46187_row2_col4, #T_46187_row2_col5, #T_46187_row2_col6, #T_46187_row2_col7, #T_46187_row2_col8, #T_46187_row2_col9, #T_46187_row3_col0, #T_46187_row3_col1, #T_46187_row3_col2, #T_46187_row3_col3, #T_46187_row3_col4, #T_46187_row3_col5, #T_46187_row3_col6, #T_46187_row3_col7, #T_46187_row3_col8, #T_46187_row3_col9, #T_46187_row4_col0, #T_46187_row4_col1, #T_46187_row4_col2, #T_46187_row4_col3, #T_46187_row4_col4, #T_46187_row4_col5, #T_46187_row4_col6, #T_46187_row4_col7, #T_46187_row4_col8, #T_46187_row4_col9, #T_46187_row5_col0, #T_46187_row5_col1, #T_46187_row5_col2, #T_46187_row5_col3, #T_46187_row5_col4, #T_46187_row5_col5, #T_46187_row5_col6, #T_46187_row5_col7, #T_46187_row5_col8, #T_46187_row5_col9, #T_46187_row6_col0, #T_46187_row6_col1, #T_46187_row6_col2, #T_46187_row6_col3, #T_46187_row6_col4, #T_46187_row6_col5, #T_46187_row6_col6, #T_46187_row6_col7, #T_46187_row6_col8, #T_46187_row6_col9 {\n",
       "  text-align: left;\n",
       "}\n",
       "</style>\n",
       "<table id=\"T_46187\">\n",
       "  <caption>floors_total</caption>\n",
       "  <thead>\n",
       "  </thead>\n",
       "  <tbody>\n",
       "    <tr>\n",
       "      <td id=\"T_46187_row0_col0\" class=\"data row0 col0\" >Values</td>\n",
       "      <td id=\"T_46187_row0_col1\" class=\"data row0 col1\" >23 613 (99.6%)</td>\n",
       "      <td id=\"T_46187_row0_col2\" class=\"data row0 col2\" >                              </td>\n",
       "      <td id=\"T_46187_row0_col3\" class=\"data row0 col3\" >Max</td>\n",
       "      <td id=\"T_46187_row0_col4\" class=\"data row0 col4\" >60</td>\n",
       "      <td id=\"T_46187_row0_col5\" class=\"data row0 col5\" >                              </td>\n",
       "      <td id=\"T_46187_row0_col6\" class=\"data row0 col6\" >Avg</td>\n",
       "      <td id=\"T_46187_row0_col7\" class=\"data row0 col7\" >10.67</td>\n",
       "      <td id=\"T_46187_row0_col8\" class=\"data row0 col8\" >                              </td>\n",
       "      <td id=\"T_46187_row0_col9\" class=\"data row0 col9\" >5 (25%)</td>\n",
       "    </tr>\n",
       "    <tr>\n",
       "      <td id=\"T_46187_row1_col0\" class=\"data row1 col0\" >Missing</td>\n",
       "      <td id=\"T_46187_row1_col1\" class=\"data row1 col1\" >86 (<1%)</td>\n",
       "      <td id=\"T_46187_row1_col2\" class=\"data row1 col2\" >                              </td>\n",
       "      <td id=\"T_46187_row1_col3\" class=\"data row1 col3\" >95%</td>\n",
       "      <td id=\"T_46187_row1_col4\" class=\"data row1 col4\" >25</td>\n",
       "      <td id=\"T_46187_row1_col5\" class=\"data row1 col5\" >                              </td>\n",
       "      <td id=\"T_46187_row1_col6\" class=\"data row1 col6\" >Mode</td>\n",
       "      <td id=\"T_46187_row1_col7\" class=\"data row1 col7\" >5</td>\n",
       "      <td id=\"T_46187_row1_col8\" class=\"data row1 col8\" >                              </td>\n",
       "      <td id=\"T_46187_row1_col9\" class=\"data row1 col9\" >9 (16%)</td>\n",
       "    </tr>\n",
       "    <tr>\n",
       "      <td id=\"T_46187_row2_col0\" class=\"data row2 col0\" >Distinct</td>\n",
       "      <td id=\"T_46187_row2_col1\" class=\"data row2 col1\" >36 (<1%)</td>\n",
       "      <td id=\"T_46187_row2_col2\" class=\"data row2 col2\" >                              </td>\n",
       "      <td id=\"T_46187_row2_col3\" class=\"data row2 col3\" >75%</td>\n",
       "      <td id=\"T_46187_row2_col4\" class=\"data row2 col4\" >16</td>\n",
       "      <td id=\"T_46187_row2_col5\" class=\"data row2 col5\" >                              </td>\n",
       "      <td id=\"T_46187_row2_col6\" class=\"data row2 col6\" >Range</td>\n",
       "      <td id=\"T_46187_row2_col7\" class=\"data row2 col7\" >59</td>\n",
       "      <td id=\"T_46187_row2_col8\" class=\"data row2 col8\" >                              </td>\n",
       "      <td id=\"T_46187_row2_col9\" class=\"data row2 col9\" >16 (6%)</td>\n",
       "    </tr>\n",
       "    <tr>\n",
       "      <td id=\"T_46187_row3_col0\" class=\"data row3 col0\" >Duplicates</td>\n",
       "      <td id=\"T_46187_row3_col1\" class=\"data row3 col1\" >23 662 (99.8%)</td>\n",
       "      <td id=\"T_46187_row3_col2\" class=\"data row3 col2\" >                              </td>\n",
       "      <td id=\"T_46187_row3_col3\" class=\"data row3 col3\" >Median</td>\n",
       "      <td id=\"T_46187_row3_col4\" class=\"data row3 col4\" >9</td>\n",
       "      <td id=\"T_46187_row3_col5\" class=\"data row3 col5\" >                              </td>\n",
       "      <td id=\"T_46187_row3_col6\" class=\"data row3 col6\" >iQR</td>\n",
       "      <td id=\"T_46187_row3_col7\" class=\"data row3 col7\" >11</td>\n",
       "      <td id=\"T_46187_row3_col8\" class=\"data row3 col8\" >                              </td>\n",
       "      <td id=\"T_46187_row3_col9\" class=\"data row3 col9\" >12 (6%)</td>\n",
       "    </tr>\n",
       "    <tr>\n",
       "      <td id=\"T_46187_row4_col0\" class=\"data row4 col0\" >Zeros</td>\n",
       "      <td id=\"T_46187_row4_col1\" class=\"data row4 col1\" >---</td>\n",
       "      <td id=\"T_46187_row4_col2\" class=\"data row4 col2\" >                              </td>\n",
       "      <td id=\"T_46187_row4_col3\" class=\"data row4 col3\" >25%</td>\n",
       "      <td id=\"T_46187_row4_col4\" class=\"data row4 col4\" >5</td>\n",
       "      <td id=\"T_46187_row4_col5\" class=\"data row4 col5\" >                              </td>\n",
       "      <td id=\"T_46187_row4_col6\" class=\"data row4 col6\" >std</td>\n",
       "      <td id=\"T_46187_row4_col7\" class=\"data row4 col7\" >6.6</td>\n",
       "      <td id=\"T_46187_row4_col8\" class=\"data row4 col8\" >                              </td>\n",
       "      <td id=\"T_46187_row4_col9\" class=\"data row4 col9\" >4 (5%)</td>\n",
       "    </tr>\n",
       "    <tr>\n",
       "      <td id=\"T_46187_row5_col0\" class=\"data row5 col0\" >Negative</td>\n",
       "      <td id=\"T_46187_row5_col1\" class=\"data row5 col1\" >---</td>\n",
       "      <td id=\"T_46187_row5_col2\" class=\"data row5 col2\" >                              </td>\n",
       "      <td id=\"T_46187_row5_col3\" class=\"data row5 col3\" >5%</td>\n",
       "      <td id=\"T_46187_row5_col4\" class=\"data row5 col4\" >4</td>\n",
       "      <td id=\"T_46187_row5_col5\" class=\"data row5 col5\" >                              </td>\n",
       "      <td id=\"T_46187_row5_col6\" class=\"data row5 col6\" >kurt</td>\n",
       "      <td id=\"T_46187_row5_col7\" class=\"data row5 col7\" >0.04</td>\n",
       "      <td id=\"T_46187_row5_col8\" class=\"data row5 col8\" >                              </td>\n",
       "      <td id=\"T_46187_row5_col9\" class=\"data row5 col9\" >10 (5%)</td>\n",
       "    </tr>\n",
       "    <tr>\n",
       "      <td id=\"T_46187_row6_col0\" class=\"data row6 col0\" >RAM (Mb)</td>\n",
       "      <td id=\"T_46187_row6_col1\" class=\"data row6 col1\" ><1 Mb</td>\n",
       "      <td id=\"T_46187_row6_col2\" class=\"data row6 col2\" >                              </td>\n",
       "      <td id=\"T_46187_row6_col3\" class=\"data row6 col3\" >Min</td>\n",
       "      <td id=\"T_46187_row6_col4\" class=\"data row6 col4\" >1</td>\n",
       "      <td id=\"T_46187_row6_col5\" class=\"data row6 col5\" >                              </td>\n",
       "      <td id=\"T_46187_row6_col6\" class=\"data row6 col6\" >skew</td>\n",
       "      <td id=\"T_46187_row6_col7\" class=\"data row6 col7\" >0.94</td>\n",
       "      <td id=\"T_46187_row6_col8\" class=\"data row6 col8\" >                              </td>\n",
       "      <td id=\"T_46187_row6_col9\" class=\"data row6 col9\" >25 (5%)</td>\n",
       "    </tr>\n",
       "  </tbody>\n",
       "</table>\n",
       "\n",
       "            <div>\n",
       "                <img src=\"data:image/png;base64,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\" alt=\"График\"/>\n",
       "            </div>\n",
       "        </div>\n",
       "        "
      ],
      "text/plain": [
       "<IPython.core.display.HTML object>"
      ]
     },
     "metadata": {},
     "output_type": "display_data"
    }
   ],
   "source": [
    "next(gen)"
   ]
  },
  {
   "cell_type": "markdown",
   "metadata": {},
   "source": [
    "**Наблюдения:**\n",
    "- В количестве этажей есть пропуски (меньше 1 процента)\n",
    "- Максимальное количество этаже 60 нужно проверить.\n",
    "- Больше всего пятиэтажек (25 процентов)"
   ]
  },
  {
   "cell_type": "code",
   "execution_count": 56,
   "metadata": {},
   "outputs": [
    {
     "data": {
      "text/html": [
       "\n",
       "        <div style=\"display: flex; justify-content: flex-start; align-items: flex-end;\">\n",
       "            <style type=\"text/css\">\n",
       "#T_6d335 caption {\n",
       "  font-size: 16px;\n",
       "  text-align: left;\n",
       "  font-weight: bold;\n",
       "}\n",
       "#T_6d335_row0_col0, #T_6d335_row0_col1, #T_6d335_row0_col2, #T_6d335_row0_col3, #T_6d335_row0_col4, #T_6d335_row0_col5, #T_6d335_row0_col6, #T_6d335_row0_col7, #T_6d335_row0_col8, #T_6d335_row0_col9, #T_6d335_row1_col0, #T_6d335_row1_col1, #T_6d335_row1_col2, #T_6d335_row1_col3, #T_6d335_row1_col4, #T_6d335_row1_col5, #T_6d335_row1_col6, #T_6d335_row1_col7, #T_6d335_row1_col8, #T_6d335_row1_col9, #T_6d335_row2_col0, #T_6d335_row2_col1, #T_6d335_row2_col2, #T_6d335_row2_col3, #T_6d335_row2_col4, #T_6d335_row2_col5, #T_6d335_row2_col6, #T_6d335_row2_col7, #T_6d335_row2_col8, #T_6d335_row2_col9, #T_6d335_row3_col0, #T_6d335_row3_col1, #T_6d335_row3_col2, #T_6d335_row3_col3, #T_6d335_row3_col4, #T_6d335_row3_col5, #T_6d335_row3_col6, #T_6d335_row3_col7, #T_6d335_row3_col8, #T_6d335_row3_col9, #T_6d335_row4_col0, #T_6d335_row4_col1, #T_6d335_row4_col2, #T_6d335_row4_col3, #T_6d335_row4_col4, #T_6d335_row4_col5, #T_6d335_row4_col6, #T_6d335_row4_col7, #T_6d335_row4_col8, #T_6d335_row4_col9, #T_6d335_row5_col0, #T_6d335_row5_col1, #T_6d335_row5_col2, #T_6d335_row5_col3, #T_6d335_row5_col4, #T_6d335_row5_col5, #T_6d335_row5_col6, #T_6d335_row5_col7, #T_6d335_row5_col8, #T_6d335_row5_col9, #T_6d335_row6_col0, #T_6d335_row6_col1, #T_6d335_row6_col2, #T_6d335_row6_col3, #T_6d335_row6_col4, #T_6d335_row6_col5, #T_6d335_row6_col6, #T_6d335_row6_col7, #T_6d335_row6_col8, #T_6d335_row6_col9 {\n",
       "  text-align: left;\n",
       "}\n",
       "</style>\n",
       "<table id=\"T_6d335\">\n",
       "  <caption>living_area</caption>\n",
       "  <thead>\n",
       "  </thead>\n",
       "  <tbody>\n",
       "    <tr>\n",
       "      <td id=\"T_6d335_row0_col0\" class=\"data row0 col0\" >Values</td>\n",
       "      <td id=\"T_6d335_row0_col1\" class=\"data row0 col1\" >21 796 (92%)</td>\n",
       "      <td id=\"T_6d335_row0_col2\" class=\"data row0 col2\" >                              </td>\n",
       "      <td id=\"T_6d335_row0_col3\" class=\"data row0 col3\" >Max</td>\n",
       "      <td id=\"T_6d335_row0_col4\" class=\"data row0 col4\" >409.7</td>\n",
       "      <td id=\"T_6d335_row0_col5\" class=\"data row0 col5\" >                              </td>\n",
       "      <td id=\"T_6d335_row0_col6\" class=\"data row0 col6\" >Avg</td>\n",
       "      <td id=\"T_6d335_row0_col7\" class=\"data row0 col7\" >34.46</td>\n",
       "      <td id=\"T_6d335_row0_col8\" class=\"data row0 col8\" >                              </td>\n",
       "      <td id=\"T_6d335_row0_col9\" class=\"data row0 col9\" >18 (4%)</td>\n",
       "    </tr>\n",
       "    <tr>\n",
       "      <td id=\"T_6d335_row1_col0\" class=\"data row1 col0\" >Missing</td>\n",
       "      <td id=\"T_6d335_row1_col1\" class=\"data row1 col1\" >1 903 (8%)</td>\n",
       "      <td id=\"T_6d335_row1_col2\" class=\"data row1 col2\" >                              </td>\n",
       "      <td id=\"T_6d335_row1_col3\" class=\"data row1 col3\" >95%</td>\n",
       "      <td id=\"T_6d335_row1_col4\" class=\"data row1 col4\" >69</td>\n",
       "      <td id=\"T_6d335_row1_col5\" class=\"data row1 col5\" >                              </td>\n",
       "      <td id=\"T_6d335_row1_col6\" class=\"data row1 col6\" >Mode</td>\n",
       "      <td id=\"T_6d335_row1_col7\" class=\"data row1 col7\" >18</td>\n",
       "      <td id=\"T_6d335_row1_col8\" class=\"data row1 col8\" >                              </td>\n",
       "      <td id=\"T_6d335_row1_col9\" class=\"data row1 col9\" >17 (3%)</td>\n",
       "    </tr>\n",
       "    <tr>\n",
       "      <td id=\"T_6d335_row2_col0\" class=\"data row2 col0\" >Distinct</td>\n",
       "      <td id=\"T_6d335_row2_col1\" class=\"data row2 col1\" >1 782 (8%)</td>\n",
       "      <td id=\"T_6d335_row2_col2\" class=\"data row2 col2\" >                              </td>\n",
       "      <td id=\"T_6d335_row2_col3\" class=\"data row2 col3\" >75%</td>\n",
       "      <td id=\"T_6d335_row2_col4\" class=\"data row2 col4\" >42.3</td>\n",
       "      <td id=\"T_6d335_row2_col5\" class=\"data row2 col5\" >                              </td>\n",
       "      <td id=\"T_6d335_row2_col6\" class=\"data row2 col6\" >Range</td>\n",
       "      <td id=\"T_6d335_row2_col7\" class=\"data row2 col7\" >407.7</td>\n",
       "      <td id=\"T_6d335_row2_col8\" class=\"data row2 col8\" >                              </td>\n",
       "      <td id=\"T_6d335_row2_col9\" class=\"data row2 col9\" >30 (3%)</td>\n",
       "    </tr>\n",
       "    <tr>\n",
       "      <td id=\"T_6d335_row3_col0\" class=\"data row3 col0\" >Duplicates</td>\n",
       "      <td id=\"T_6d335_row3_col1\" class=\"data row3 col1\" >21 916 (92%)</td>\n",
       "      <td id=\"T_6d335_row3_col2\" class=\"data row3 col2\" >                              </td>\n",
       "      <td id=\"T_6d335_row3_col3\" class=\"data row3 col3\" >Median</td>\n",
       "      <td id=\"T_6d335_row3_col4\" class=\"data row3 col4\" >30</td>\n",
       "      <td id=\"T_6d335_row3_col5\" class=\"data row3 col5\" >                              </td>\n",
       "      <td id=\"T_6d335_row3_col6\" class=\"data row3 col6\" >iQR</td>\n",
       "      <td id=\"T_6d335_row3_col7\" class=\"data row3 col7\" >23.7</td>\n",
       "      <td id=\"T_6d335_row3_col8\" class=\"data row3 col8\" >                              </td>\n",
       "      <td id=\"T_6d335_row3_col9\" class=\"data row3 col9\" >16 (2%)</td>\n",
       "    </tr>\n",
       "    <tr>\n",
       "      <td id=\"T_6d335_row4_col0\" class=\"data row4 col0\" >Zeros</td>\n",
       "      <td id=\"T_6d335_row4_col1\" class=\"data row4 col1\" >---</td>\n",
       "      <td id=\"T_6d335_row4_col2\" class=\"data row4 col2\" >                              </td>\n",
       "      <td id=\"T_6d335_row4_col3\" class=\"data row4 col3\" >25%</td>\n",
       "      <td id=\"T_6d335_row4_col4\" class=\"data row4 col4\" >18.6</td>\n",
       "      <td id=\"T_6d335_row4_col5\" class=\"data row4 col5\" >                              </td>\n",
       "      <td id=\"T_6d335_row4_col6\" class=\"data row4 col6\" >std</td>\n",
       "      <td id=\"T_6d335_row4_col7\" class=\"data row4 col7\" >22.03</td>\n",
       "      <td id=\"T_6d335_row4_col8\" class=\"data row4 col8\" >                              </td>\n",
       "      <td id=\"T_6d335_row4_col9\" class=\"data row4 col9\" >20 (2%)</td>\n",
       "    </tr>\n",
       "    <tr>\n",
       "      <td id=\"T_6d335_row5_col0\" class=\"data row5 col0\" >Negative</td>\n",
       "      <td id=\"T_6d335_row5_col1\" class=\"data row5 col1\" >---</td>\n",
       "      <td id=\"T_6d335_row5_col2\" class=\"data row5 col2\" >                              </td>\n",
       "      <td id=\"T_6d335_row5_col3\" class=\"data row5 col3\" >5%</td>\n",
       "      <td id=\"T_6d335_row5_col4\" class=\"data row5 col4\" >15.2</td>\n",
       "      <td id=\"T_6d335_row5_col5\" class=\"data row5 col5\" >                              </td>\n",
       "      <td id=\"T_6d335_row5_col6\" class=\"data row5 col6\" >kurt</td>\n",
       "      <td id=\"T_6d335_row5_col7\" class=\"data row5 col7\" >31.36</td>\n",
       "      <td id=\"T_6d335_row5_col8\" class=\"data row5 col8\" >                              </td>\n",
       "      <td id=\"T_6d335_row5_col9\" class=\"data row5 col9\" >28 (2%)</td>\n",
       "    </tr>\n",
       "    <tr>\n",
       "      <td id=\"T_6d335_row6_col0\" class=\"data row6 col0\" >RAM (Mb)</td>\n",
       "      <td id=\"T_6d335_row6_col1\" class=\"data row6 col1\" ><1 Mb</td>\n",
       "      <td id=\"T_6d335_row6_col2\" class=\"data row6 col2\" >                              </td>\n",
       "      <td id=\"T_6d335_row6_col3\" class=\"data row6 col3\" >Min</td>\n",
       "      <td id=\"T_6d335_row6_col4\" class=\"data row6 col4\" >2</td>\n",
       "      <td id=\"T_6d335_row6_col5\" class=\"data row6 col5\" >                              </td>\n",
       "      <td id=\"T_6d335_row6_col6\" class=\"data row6 col6\" >skew</td>\n",
       "      <td id=\"T_6d335_row6_col7\" class=\"data row6 col7\" >3.91</td>\n",
       "      <td id=\"T_6d335_row6_col8\" class=\"data row6 col8\" >                              </td>\n",
       "      <td id=\"T_6d335_row6_col9\" class=\"data row6 col9\" >31 (2%)</td>\n",
       "    </tr>\n",
       "  </tbody>\n",
       "</table>\n",
       "\n",
       "            <div>\n",
       "                <img src=\"data:image/png;base64,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\" alt=\"График\"/>\n",
       "            </div>\n",
       "        </div>\n",
       "        "
      ],
      "text/plain": [
       "<IPython.core.display.HTML object>"
      ]
     },
     "metadata": {},
     "output_type": "display_data"
    }
   ],
   "source": [
    "next(gen)"
   ]
  },
  {
   "cell_type": "markdown",
   "metadata": {},
   "source": [
    "**Наблюдения:**\n",
    "- В жилой площади 8 процентов пропусков.\n",
    "- Нужно проверить минимальную и максимальную жилую площади."
   ]
  },
  {
   "cell_type": "code",
   "execution_count": null,
   "metadata": {},
   "outputs": [],
   "source": [
    "next(gen)"
   ]
  },
  {
   "cell_type": "markdown",
   "metadata": {},
   "source": [
    "**Наблюдения:**\n",
    "- "
   ]
  },
  {
   "cell_type": "code",
   "execution_count": null,
   "metadata": {},
   "outputs": [],
   "source": [
    "next(gen)"
   ]
  },
  {
   "cell_type": "markdown",
   "metadata": {},
   "source": [
    "**Наблюдения:**\n",
    "- "
   ]
  },
  {
   "cell_type": "code",
   "execution_count": null,
   "metadata": {},
   "outputs": [],
   "source": [
    "next(gen)"
   ]
  },
  {
   "cell_type": "markdown",
   "metadata": {},
   "source": [
    "**Наблюдения:**\n",
    "- "
   ]
  },
  {
   "cell_type": "code",
   "execution_count": null,
   "metadata": {},
   "outputs": [],
   "source": [
    "next(gen)"
   ]
  },
  {
   "cell_type": "markdown",
   "metadata": {},
   "source": [
    "**Наблюдения:**\n",
    "- "
   ]
  },
  {
   "cell_type": "code",
   "execution_count": null,
   "metadata": {},
   "outputs": [],
   "source": [
    "next(gen)"
   ]
  },
  {
   "cell_type": "markdown",
   "metadata": {},
   "source": [
    "**Наблюдения:**\n",
    "- "
   ]
  },
  {
   "cell_type": "code",
   "execution_count": null,
   "metadata": {},
   "outputs": [],
   "source": [
    "next(gen)"
   ]
  },
  {
   "cell_type": "markdown",
   "metadata": {},
   "source": [
    "**Наблюдения:**\n",
    "- "
   ]
  },
  {
   "cell_type": "code",
   "execution_count": null,
   "metadata": {},
   "outputs": [],
   "source": [
    "next(gen)"
   ]
  },
  {
   "cell_type": "markdown",
   "metadata": {},
   "source": [
    "**Наблюдения:**\n",
    "- "
   ]
  },
  {
   "cell_type": "code",
   "execution_count": null,
   "metadata": {},
   "outputs": [],
   "source": [
    "next(gen)"
   ]
  },
  {
   "cell_type": "markdown",
   "metadata": {},
   "source": [
    "**Наблюдения:**\n",
    "- "
   ]
  },
  {
   "cell_type": "code",
   "execution_count": null,
   "metadata": {},
   "outputs": [],
   "source": [
    "next(gen)"
   ]
  },
  {
   "cell_type": "markdown",
   "metadata": {},
   "source": [
    "**Наблюдения:**\n",
    "- "
   ]
  },
  {
   "cell_type": "code",
   "execution_count": null,
   "metadata": {},
   "outputs": [],
   "source": [
    "next(gen)"
   ]
  },
  {
   "cell_type": "markdown",
   "metadata": {},
   "source": [
    "**Наблюдения:**\n",
    "- "
   ]
  },
  {
   "cell_type": "markdown",
   "metadata": {
    "id": "Q4Ax62_UrRQf"
   },
   "source": [
    ">ВАЖНО   \n",
    ">Если увидели, что у нас в категориальной переменной одни и те же значения, но записанные с большой и с маленькой буквы, например,  \n",
    ">или другие проблемы с написанием одно и того же слова, что приводит к увеличению значений в категории.   \n",
    ">То нужно сразу это убирать, так как дальнейший анализ будет страдать.  \n",
    ">Для дальнейшего анализа срауз приведем колонку education к нижнему регистру и удалим лишние пробелы"
   ]
  },
  {
   "cell_type": "markdown",
   "metadata": {
    "id": "tVTbXfHwrRQg"
   },
   "source": [
    ">Для дальнейшего анализа срауз приведем колонку education к нижнему регистру и удалим лишние пробелы"
   ]
  },
  {
   "cell_type": "markdown",
   "metadata": {
    "id": "oe2XozaBrRQg"
   },
   "source": [
    "Нужно проверить, что после нормализации категориальный тип остался прежний"
   ]
  },
  {
   "cell_type": "code",
   "execution_count": null,
   "metadata": {
    "id": "4AUG1U9UrRQh",
    "outputId": "357b4608-62d8-4abf-cf6c-f1d72297abb2"
   },
   "outputs": [
    {
     "data": {
      "text/plain": [
       "среднее                15233\n",
       "высшее                  5260\n",
       "неоконченное высшее      744\n",
       "начальное                282\n",
       "ученая степень             6\n",
       "Name: education, dtype: int64"
      ]
     },
     "execution_count": 3,
     "metadata": {},
     "output_type": "execute_result"
    }
   ],
   "source": [
    "df.education = pagri_prep.normalize_string_series(df.education)\n",
    "df.education.value_counts()"
   ]
  },
  {
   "cell_type": "code",
   "execution_count": null,
   "metadata": {
    "id": "do17lIxCrRQj"
   },
   "outputs": [],
   "source": [
    "df.education.dtype"
   ]
  },
  {
   "cell_type": "markdown",
   "metadata": {
    "id": "fzCC-p1arRQk"
   },
   "source": [
    ">сделать предположения, почему могло так произойти, выдвигаем гипотезы"
   ]
  },
  {
   "cell_type": "markdown",
   "metadata": {
    "id": "imABQ41qrRQk"
   },
   "source": [
    ">придумать способы проверки выдвинутых гипотез и записать"
   ]
  },
  {
   "cell_type": "markdown",
   "metadata": {
    "id": "WTyJVtIvrRQo"
   },
   "source": [
    ">если у нас по оси x время, то проанализировать сезонность"
   ]
  },
  {
   "cell_type": "markdown",
   "metadata": {
    "id": "q4p6RnJsrRQq"
   },
   "source": [
    ">подумать а так и должно было получиться, основываясь на понимании физики параметра  "
   ]
  },
  {
   "cell_type": "markdown",
   "metadata": {
    "id": "slQbFp3ZrRQr"
   },
   "source": [
    ">зафиксировать возможные рекомендации"
   ]
  },
  {
   "cell_type": "markdown",
   "metadata": {
    "id": "Dy2ihEfarRQu"
   },
   "source": [
    ">Для гистограмм, нужно понять почему именно такое распределение метрики.  \n",
    ">Совпадет это с логикой этой метрики."
   ]
  },
  {
   "cell_type": "markdown",
   "metadata": {
    "id": "nd260s9xrRQw"
   },
   "source": [
    ">Также когда строим гистограммы и вайолин плот, то не просто фиксируем, что есть тяжелые хвосты, разброс между квартилями такой-то.  \n",
    ">А думаем почему так, пытаемся связать это с физикой параметра. Должно быть физическое объяснение всех аномалий.  \n",
    ">Если объяснения нет, то возможно это инсайт.  "
   ]
  },
  {
   "cell_type": "markdown",
   "metadata": {
    "id": "sUlKHaY9rRQw"
   },
   "source": [
    ">Важно убедиться, что у нас есть данные на все источники, которые заявлены. Например, мы изучаем источники трафика и у нас они в разных таблицах.  \n",
    ">Нужно убедиться, что во всех таблицах есть все источники, и проверить нет ли аномалий, возможно какой-то сильно выбивается или какого-то вообще где-то нет.  "
   ]
  },
  {
   "cell_type": "markdown",
   "metadata": {
    "id": "NZgaJhEdrRQy"
   },
   "source": [
    ">И очень важно сверить, что периоды в разных таблицах (если у нас больше одной таблицы) совпадают.  "
   ]
  },
  {
   "cell_type": "markdown",
   "metadata": {
    "id": "xfiyvX02rRQy"
   },
   "source": [
    ">Важно проверить соответствуют ли временной период данных тому, который заявлен в задании,  \n",
    ">определиться что будем делать с неполными периодами.  "
   ]
  },
  {
   "cell_type": "markdown",
   "metadata": {
    "id": "q2O4wWUxrRQy"
   },
   "source": [
    ">Вообще, когда у нас несколько таблиц и там есть категориальные переменные или время, то  \n",
    ">мы должны взять уникальные значения категориальных переменных из каждой таблицы (одниаковые переменные) и сравнить.  \n",
    ">Количество уникальных должно совпадать, иначе нужно разбираться  \n",
    ">И с верменем как минимум мин и макс даты должны совпадать до дня, а лушше до минуты часа"
   ]
  },
  {
   "cell_type": "markdown",
   "metadata": {
    "id": "swTv_JDurRQz"
   },
   "source": [
    ">Очень важно, если у нас есть стартовая дата чего-то и конечная, то обязательно нужно проверить,  \n",
    ">нет ли у нас записей, где конечная дата меньше стартовой.  "
   ]
  },
  {
   "cell_type": "markdown",
   "metadata": {
    "id": "3OVGFHqwrRQ0"
   },
   "source": [
    ">Важная проверка, если у нас есть категории и даты, то сгруппировать по категориями и\n",
    ">вывести количество занчений, минимальную и максимальную дату  \n",
    ">Таким образом мы сразу поймем распределение в категории и  \n",
    ">увидем какие временные интервалы у каждой категории  \n",
    ">Если у нас все категории должны быть в один день, то мы поймем нет ли багов"
   ]
  },
  {
   "cell_type": "markdown",
   "metadata": {
    "id": "nVO5Inb-rRQ0"
   },
   "source": [
    ">Вообще очень важно смотреть не только на аномалии в значениях, но и аномалии в категориальных переменных.  \n",
    ">А тут аномалией будет отстутствие какого-то значения, хотя в описании или поставновке задачи оно есть.  \n",
    ">Также совпадение количества значений категориальных переменных в разных таблицах.  "
   ]
  },
  {
   "cell_type": "markdown",
   "metadata": {
    "id": "azp93eJFrRQ1"
   },
   "source": [
    ">Внимательно посмотреть на столбцы, если есть столбцы, в которых могут быть потенциальные анамали, то проверить их.  \n",
    ">Например, есть столбец возрасти стаж работы, проверить, что возраст больше стажа.  \n",
    ">И подобные случаи.  "
   ]
  },
  {
   "cell_type": "markdown",
   "metadata": {
    "id": "8ZpG3Gq2rRQ2"
   },
   "source": [
    ">Проверка на нарушения уникальности   \n",
    ">Убедить, что столбцы, значения в которых не должны повторяться и должны быть уникальными, такие в действительности.    \n",
    ">Смотрим на результат функции `my_info`"
   ]
  },
  {
   "cell_type": "markdown",
   "metadata": {
    "id": "VaqEvfk1rRQ3"
   },
   "source": [
    ">Проверка на ошибки целостности  \n",
    ">Если у нас есть столбцы, в которых значения должны совпдаать попарно, то проверяем на это  \n",
    ">`get_non_matching_rows`"
   ]
  },
  {
   "cell_type": "code",
   "execution_count": null,
   "metadata": {
    "id": "YTS3zeODrRQ4"
   },
   "outputs": [],
   "source": [
    "pagri_data_tools.get_non_matching_rows()"
   ]
  },
  {
   "cell_type": "markdown",
   "metadata": {
    "id": "dj5fN01crRQ5"
   },
   "source": [
    ">Проверка условий  \n",
    ">Проверьте, что данные в датафрейме удовлетворяют определенным условиям, таким как \"возраст > 18\" или \"страна == 'Россия'\""
   ]
  },
  {
   "cell_type": "markdown",
   "metadata": {
    "id": "GNxq7zArrRQ6"
   },
   "source": [
    "#### Изучение дубликатов"
   ]
  },
  {
   "cell_type": "markdown",
   "metadata": {
    "id": "V5oIk3ukrRQ7"
   },
   "source": [
    ">Не забываем про ИИ.  \n",
    ">Пишем список столбцов (именно что они значат, то есть образование, пол и прочее), говорим, что есть дубли.  \n",
    ">И просим предложить причины этих дублей. Если видим важное, то используем для рекомендаций, выводов и замены дублей в предобработке.  "
   ]
  },
  {
   "cell_type": "markdown",
   "metadata": {
    "id": "H07PEG-CrRQ8"
   },
   "source": [
    ">Проверяем на дубли  \n",
    "- Важно помнить, что если у нас есть id и название товара, то названия товара все равно нужно проверить на дубли,  \n",
    ">возможно у нас 2 ай ди с одним названием.\n",
    "- Также важно в каждой отдельной колонке проверить дубли и если их много, то посмотреть на соседние колонки, что там происходит\n",
    "- Дубликаты часто носят скрытый характер.  \n",
    ">То есть это могут быть поля, которые записаны  по разному, но относятся к одному и тому же.  \n",
    ">Поэтому важно, если у нас категориальный признак, изучить нет ли повторящихся категорий, которые записаны немного по разному.  \n",
    ">Так как это создает шум, мы по сути имеем две разные категории, но на самом деле это одна. Нужно собрать их в одну.  \n",
    "- И очень важно, если мы не подтвердили, что это действительно дубликат (например у нас нет ай ди клиента и мы не смогли выяснить один и тот же ли это человек),  \n",
    ">то нужно аккуратно удалять их. Но и оставлять много дублей плохо, так как они вносят шумы и искажения.  \n",
    "- Помним, что наличие дубликата не говорит точно, что это дубль, возможно у нас нет ещё колонок, котоыре бы детализировали и разделили эти дубли.  \n",
    ">Поэтому тут могут быть рекомендации, чтобы добавли в фрейм доп колонки, которые помогут убрать дубли (либо сам ищешь ещё поля)\n"
   ]
  },
  {
   "cell_type": "markdown",
   "metadata": {
    "id": "VhGP1ZqtrRQ9"
   },
   "source": [
    ">Когда смотрим на дубли, то нужно ответить на вопрос так и должно быть, это нормально, что дубли в этих колонках.   \n",
    ">Например у нас дубли во всех строках таблицы, нам нужно понять это может быть или этого не может быть, и нужно разбираться.   \n",
    ">Аналогично когда смотрим колонки по 2, 3 и так далее, то самое главное, ответить на вопрос дубли могут быть в этих колонках.   \n",
    ">Также когда разбиваем по категориям, задаем себе вопрос так могли распреедлеиться дубли.  "
   ]
  },
  {
   "cell_type": "markdown",
   "metadata": {
    "id": "gAIvnRXvrRQ-"
   },
   "source": [
    ">`check_duplicated`  \n",
    ">`check_duplicated_combinations_gen`  \n",
    ">В первую функцию можно передавать весь датафрейм и можно выбирать нужные столбцы для проверки на дубли и передавать их.  "
   ]
  },
  {
   "cell_type": "markdown",
   "metadata": {
    "id": "cvy6WMnPrRQ_"
   },
   "source": [
    ">Если мы нашли колонки в которых дубликатов не должно быть, то нужно изучить эти дубликаты по категориальным переменным в нашем датафрейме  \n",
    ">`analys_by_category_gen`  "
   ]
  },
  {
   "cell_type": "markdown",
   "metadata": {
    "id": "AO98y2JxrRRA"
   },
   "source": [
    "**Наблюдения:**\n",
    "- Особых перекосов в сторону определенного значения в категории не наблюдается"
   ]
  },
  {
   "cell_type": "markdown",
   "metadata": {
    "id": "jZ7Meu22rRRD"
   },
   "source": [
    ">Идем по порядку с помощью next(gen)  \n",
    ">если в выводе нет ничего интересного, то  выше помещаем ячейку с таким содержимым\n",
    ">%%capture  \n",
    ">next(gen)  \n",
    ">снова выполняем next(gen), если снова ничего интересного то, к ячейке выше добавляем next(gen)  будет так  \n",
    ">%%capture  \n",
    ">next(gen);next(gen)  \n",
    ">и так далее, пока не появится важная ячейка  \n",
    ">далее оставляем эту важную ячейку и снова повторяем с первого пункта,  \n",
    ">в итоге между ячейками с нужным выводом будут ячейки с запрещенным выводом и можно будет прогонять ноутбук весь целиком и выводы будут в нужнфх местах"
   ]
  },
  {
   "cell_type": "markdown",
   "metadata": {
    "id": "eSVLQmfkrRRE"
   },
   "source": [
    ">Посмотрим на дубли во всем датафрейме"
   ]
  },
  {
   "cell_type": "code",
   "execution_count": null,
   "metadata": {
    "id": "mgepwDqkrRRF"
   },
   "outputs": [],
   "source": [
    "pagri_data_tools.check_duplicated()"
   ]
  },
  {
   "cell_type": "markdown",
   "metadata": {
    "id": "w6o9SPOcrRRF"
   },
   "source": [
    ">Посмотрим сколько у нас дублей в каждой колонке"
   ]
  },
  {
   "cell_type": "code",
   "execution_count": null,
   "metadata": {
    "id": "y4DqQnU9rRRI"
   },
   "outputs": [],
   "source": [
    "series_duplicated = pagri_data_tools.find_columns_with_duplicates(df)"
   ]
  },
  {
   "cell_type": "markdown",
   "metadata": {
    "id": "2FwKg9YarRRI"
   },
   "source": [
    ">Посмотрим на строки датафрейма с дублями"
   ]
  },
  {
   "cell_type": "code",
   "execution_count": null,
   "metadata": {
    "id": "AMPAZRD7rRRJ"
   },
   "outputs": [],
   "source": [
    "col1_duplicated = series_duplicated['col1']\n",
    "col2_duplicated = series_duplicated['col2']"
   ]
  },
  {
   "cell_type": "code",
   "execution_count": null,
   "metadata": {
    "id": "aGGIx0l3rRRL"
   },
   "outputs": [],
   "source": [
    "col1_duplicated.head()\n",
    "col2_duplicated.head()"
   ]
  },
  {
   "cell_type": "code",
   "execution_count": null,
   "metadata": {
    "id": "krC976ubrRRM"
   },
   "outputs": [],
   "source": [
    "pagri_data_tools.check_duplicated_combinations_gen()\n",
    "pagri_data_tools.analys_by_category_gen()"
   ]
  },
  {
   "cell_type": "markdown",
   "metadata": {
    "id": "eNj6qA2NrRRN"
   },
   "source": [
    ">Важно на дубли проверить и отдельные строки и целиком таблицу и подумать какие группы столбцов могут дать дубли и на это тоже проверить.  "
   ]
  },
  {
   "cell_type": "markdown",
   "metadata": {
    "id": "BI8J4IRJrRRO"
   },
   "source": [
    ">Если в дублях у нас есть ай ди клиента, то тут понятно, если нет ай ди, то пишем рекомендацию, чтобы данные приходили с ай ди,  \n",
    ">чтобы можно было понять это один человек или нет"
   ]
  },
  {
   "cell_type": "markdown",
   "metadata": {
    "id": "eoPuzP5irRRR"
   },
   "source": [
    ">Если у нас id пользователя встречается не одни раз в таблице и есть другие поля которые должны быть всегда одни и те же,  \n",
    ">напримем пол и прочее, то нужно проверить у всех ли пользователей все значения одинаковые в этом столбце.  \n",
    ">Это может быть не только ай ди, любое уникальное поле, которое повторяется и для каждого этого поля есть другое  \n",
    ">поле, которое не должно меняться, нужно проверять а действительно ли это поле не меняется.  "
   ]
  },
  {
   "cell_type": "markdown",
   "metadata": {
    "id": "snznjs1VrRRS"
   },
   "source": [
    "#### Изучение пропусков"
   ]
  },
  {
   "cell_type": "markdown",
   "metadata": {
    "id": "faRPNuNsrRRT"
   },
   "source": [
    ">Не забываем про ИИ.  \n",
    ">Пишем название столбца (именно что они значат, то есть образование, пол и прочее), говорим, что есть пропуски.  \n",
    ">И просим предложить причины этих пропусков. Если видим важное, то используем для рекомендаций, выводов и замены пропусков в предобработке.  "
   ]
  },
  {
   "cell_type": "markdown",
   "metadata": {
    "id": "xgXLv1s_rRRU"
   },
   "source": [
    ">Проверяем на пропуски"
   ]
  },
  {
   "cell_type": "markdown",
   "metadata": {
    "id": "fB1buUoTrRRV"
   },
   "source": [
    ">Когда смотрим на пропуски, то нужно ответить на вопрос так и должно быть, это нормально, что пропуски в этих колонках.   \n",
    ">Когда смотрим на пропуски по категориям, то думаем есть ли закономерность, не случайно ли распределение по категориям  "
   ]
  },
  {
   "cell_type": "markdown",
   "metadata": {
    "id": "yK_ZxfmprRRW"
   },
   "source": [
    ">Когда мы встречаем пропуски, прежде всего, нужно ответить на вопрос, существует ли закономерность в появлении пропусков.   \n",
    ">Иными словами, не случайно ли их возникновение в наборе данных.  \n",
    ">Случайно, значит нет закономерности с соседними столбцами, то есть пропуски есть для разных значений.  \n",
    ">А могут быть неслучайные, то есть существует явная закономерностЬ, что пропуски есть только у сторок с общими занчениями в другом столбце.    \n",
    ">Чтобы это проверить, нужно взять столбец с пропусками, отфильтровать только пропуски (взять их) и  \n",
    ">посмотреть как эти пропуски распределены по другой переменной.    "
   ]
  },
  {
   "cell_type": "markdown",
   "metadata": {
    "id": "L4wUxXbRrRRX"
   },
   "source": [
    "- Первое что нужно сделать, когда мы видим пропуск или выброс, это проверить является ли оно случайным.  \n",
    ">То есть посмотреть не относятся ли все выбросы к одной категории. Если это так, то это уже не случайно и мы нашли аномалию, которую можно изучать.  \n",
    ">Если у нас случайны разброс пропусков в категориях, то значит тут есть случайность.  \n",
    ">Например, у нас возраст 0, и мы видим, что больше всего это у женщин. Следовательно получаем гипотезу, что женщины не хотят сообщать свой возраст.  \n",
    "- В пропусках мы можем определить какие категории, платформы и прочее не собираются данные. Смотрим пропуски, далее смотрим у каких категорий их больше,  \n",
    ">и получаем вывод, что нужно обратить внимание на эти категории или системы, почему там пропуски"
   ]
  },
  {
   "cell_type": "markdown",
   "metadata": {
    "id": "SQ1NAQGtrRRY"
   },
   "source": [
    ">`find_columns_with_missing_values`  \n",
    ">`check_na_in_both_columns`  \n",
    ">`analys_by_category_gen`"
   ]
  },
  {
   "cell_type": "code",
   "execution_count": null,
   "metadata": {
    "id": "9EPw-6YCrRRZ",
    "outputId": "5b8885fe-845d-4893-a884-f592175a18ca"
   },
   "outputs": [
    {
     "data": {
      "text/html": [
       "<style type=\"text/css\">\n",
       "#T_eac9c_ caption {\n",
       "  font-size: 18px;\n",
       "  text-align: left;\n",
       "  font-weight: bold;\n",
       "}\n",
       "</style>\n",
       "<table id=\"T_eac9c_\">\n",
       "  <caption>Missings</caption>\n",
       "  <thead>\n",
       "  </thead>\n",
       "  <tbody>\n",
       "    <tr>\n",
       "      <th id=\"T_eac9c_level0_row0\" class=\"row_heading level0 row0\" >days_employed</th>\n",
       "      <td id=\"T_eac9c_row0_col0\" class=\"data row0 col0\" >2174 (10.10%)</td>\n",
       "    </tr>\n",
       "    <tr>\n",
       "      <th id=\"T_eac9c_level0_row1\" class=\"row_heading level0 row1\" >total_income</th>\n",
       "      <td id=\"T_eac9c_row1_col0\" class=\"data row1 col0\" >2174 (10.10%)</td>\n",
       "    </tr>\n",
       "  </tbody>\n",
       "</table>\n"
      ],
      "text/plain": [
       "<pandas.io.formats.style.Styler at 0x15835198>"
      ]
     },
     "metadata": {},
     "output_type": "display_data"
    }
   ],
   "source": [
    "series_missed = pagri_prep.find_columns_with_missing_values(df)"
   ]
  },
  {
   "cell_type": "markdown",
   "metadata": {
    "id": "hfMw_9PIrRRa"
   },
   "source": [
    ">Посмотрим на строки датафрейма с пропусками"
   ]
  },
  {
   "cell_type": "code",
   "execution_count": null,
   "metadata": {
    "id": "1sM5VzgXrRRc"
   },
   "outputs": [],
   "source": [
    "col1_missed = series_missed['col1']\n",
    "col2_missed = series_missed['col2']"
   ]
  },
  {
   "cell_type": "code",
   "execution_count": null,
   "metadata": {
    "id": "naNGloVkrRRd"
   },
   "outputs": [],
   "source": [
    "col1_missed.head()\n",
    "col2_missed.head()"
   ]
  },
  {
   "cell_type": "markdown",
   "metadata": {
    "id": "TxzmmGbArRRe"
   },
   "source": [
    ">Посмотрим сколько пропусков в обоих колонках вместе"
   ]
  },
  {
   "cell_type": "code",
   "execution_count": null,
   "metadata": {
    "id": "OSh3L0RKrRRf"
   },
   "outputs": [],
   "source": [
    "pagri_data_tools.check_na_in_both_columns()"
   ]
  },
  {
   "cell_type": "markdown",
   "metadata": {
    "id": "Gp0GAavDrRRg"
   },
   "source": [
    ">Изучаем пропуски по категориям"
   ]
  },
  {
   "cell_type": "markdown",
   "metadata": {
    "id": "tl-QF5wvrRRh"
   },
   "source": [
    ">Смотрим на все поля  \n",
    ">in_category_pct говорит о том сколько в этом значении категории изучаемых значений  \n",
    ">in_column_pct говорит о том сколько процентов изучаемого значения данного значения категории в общем  \n",
    ">total_count_pct помогает анализировать in_column_pct, так как мы видим сколько занимает это значение в общем  "
   ]
  },
  {
   "cell_type": "code",
   "execution_count": null,
   "metadata": {
    "id": "lkG1Btu6rRRi"
   },
   "outputs": [],
   "source": [
    "gen = pagri_prep.analys_by_category_gen(df, series_missed, is_dash=True)\n"
   ]
  },
  {
   "cell_type": "code",
   "execution_count": null,
   "metadata": {
    "id": "L7sLYBaNrRRj"
   },
   "outputs": [],
   "source": [
    "next(gen)"
   ]
  },
  {
   "cell_type": "code",
   "execution_count": null,
   "metadata": {
    "id": "MbBCA3DGrRRk"
   },
   "outputs": [],
   "source": [
    "gen = pagri_prep.analys_by_category_gen(df, series_missed, is_dash=True)"
   ]
  },
  {
   "cell_type": "code",
   "execution_count": null,
   "metadata": {
    "id": "vmS3ndJHrRRl",
    "outputId": "7684431e-7461-4630-d93a-182c9633b00f"
   },
   "outputs": [
    {
     "data": {
      "text/html": [
       "<div>\n",
       "<style scoped>\n",
       "    .dataframe tbody tr th:only-of-type {\n",
       "        vertical-align: middle;\n",
       "    }\n",
       "\n",
       "    .dataframe tbody tr th {\n",
       "        vertical-align: top;\n",
       "    }\n",
       "\n",
       "    .dataframe thead th {\n",
       "        text-align: right;\n",
       "    }\n",
       "</style>\n",
       "<table border=\"1\" class=\"dataframe\">\n",
       "  <thead>\n",
       "    <tr style=\"text-align: right;\">\n",
       "      <th></th>\n",
       "      <th>children</th>\n",
       "      <th>days_employed</th>\n",
       "      <th>dob_years</th>\n",
       "      <th>education</th>\n",
       "      <th>education_id</th>\n",
       "      <th>family_status</th>\n",
       "      <th>family_status_id</th>\n",
       "      <th>gender</th>\n",
       "      <th>income_type</th>\n",
       "      <th>debt</th>\n",
       "      <th>total_income</th>\n",
       "      <th>purpose</th>\n",
       "    </tr>\n",
       "  </thead>\n",
       "  <tbody>\n",
       "    <tr>\n",
       "      <th>0</th>\n",
       "      <td>1</td>\n",
       "      <td>-8437.673028</td>\n",
       "      <td>42</td>\n",
       "      <td>высшее</td>\n",
       "      <td>0</td>\n",
       "      <td>женат / замужем</td>\n",
       "      <td>0</td>\n",
       "      <td>F</td>\n",
       "      <td>сотрудник</td>\n",
       "      <td>0</td>\n",
       "      <td>253875.639453</td>\n",
       "      <td>покупка жилья</td>\n",
       "    </tr>\n",
       "    <tr>\n",
       "      <th>1</th>\n",
       "      <td>1</td>\n",
       "      <td>-4024.803754</td>\n",
       "      <td>36</td>\n",
       "      <td>среднее</td>\n",
       "      <td>1</td>\n",
       "      <td>женат / замужем</td>\n",
       "      <td>0</td>\n",
       "      <td>F</td>\n",
       "      <td>сотрудник</td>\n",
       "      <td>0</td>\n",
       "      <td>112080.014102</td>\n",
       "      <td>приобретение автомобиля</td>\n",
       "    </tr>\n",
       "    <tr>\n",
       "      <th>2</th>\n",
       "      <td>0</td>\n",
       "      <td>-5623.422610</td>\n",
       "      <td>33</td>\n",
       "      <td>Среднее</td>\n",
       "      <td>1</td>\n",
       "      <td>женат / замужем</td>\n",
       "      <td>0</td>\n",
       "      <td>M</td>\n",
       "      <td>сотрудник</td>\n",
       "      <td>0</td>\n",
       "      <td>145885.952297</td>\n",
       "      <td>покупка жилья</td>\n",
       "    </tr>\n",
       "    <tr>\n",
       "      <th>3</th>\n",
       "      <td>3</td>\n",
       "      <td>-4124.747207</td>\n",
       "      <td>32</td>\n",
       "      <td>среднее</td>\n",
       "      <td>1</td>\n",
       "      <td>женат / замужем</td>\n",
       "      <td>0</td>\n",
       "      <td>M</td>\n",
       "      <td>сотрудник</td>\n",
       "      <td>0</td>\n",
       "      <td>267628.550329</td>\n",
       "      <td>дополнительное образование</td>\n",
       "    </tr>\n",
       "    <tr>\n",
       "      <th>4</th>\n",
       "      <td>0</td>\n",
       "      <td>340266.072047</td>\n",
       "      <td>53</td>\n",
       "      <td>среднее</td>\n",
       "      <td>1</td>\n",
       "      <td>гражданский брак</td>\n",
       "      <td>1</td>\n",
       "      <td>F</td>\n",
       "      <td>пенсионер</td>\n",
       "      <td>0</td>\n",
       "      <td>158616.077870</td>\n",
       "      <td>сыграть свадьбу</td>\n",
       "    </tr>\n",
       "  </tbody>\n",
       "</table>\n",
       "</div>"
      ],
      "text/plain": [
       "   children  days_employed  dob_years education  education_id  \\\n",
       "0         1   -8437.673028         42    высшее             0   \n",
       "1         1   -4024.803754         36   среднее             1   \n",
       "2         0   -5623.422610         33   Среднее             1   \n",
       "3         3   -4124.747207         32   среднее             1   \n",
       "4         0  340266.072047         53   среднее             1   \n",
       "\n",
       "      family_status  family_status_id gender income_type  debt   total_income  \\\n",
       "0   женат / замужем                 0      F   сотрудник     0  253875.639453   \n",
       "1   женат / замужем                 0      F   сотрудник     0  112080.014102   \n",
       "2   женат / замужем                 0      M   сотрудник     0  145885.952297   \n",
       "3   женат / замужем                 0      M   сотрудник     0  267628.550329   \n",
       "4  гражданский брак                 1      F   пенсионер     0  158616.077870   \n",
       "\n",
       "                      purpose  \n",
       "0               покупка жилья  \n",
       "1     приобретение автомобиля  \n",
       "2               покупка жилья  \n",
       "3  дополнительное образование  \n",
       "4             сыграть свадьбу  "
      ]
     },
     "execution_count": 55,
     "metadata": {},
     "output_type": "execute_result"
    }
   ],
   "source": [
    "df.head()"
   ]
  },
  {
   "cell_type": "markdown",
   "metadata": {
    "id": "F3OueZxUrRRm"
   },
   "source": [
    "#### Изучение выбросов"
   ]
  },
  {
   "cell_type": "markdown",
   "metadata": {
    "id": "dV9FXk65rRRm"
   },
   "source": [
    ">Не забываем про ИИ.  \n",
    ">Пишем название столбца (именно что они значат, то есть образование, пол и прочее), говорим, что есть выбросы.  \n",
    ">Обязательно приводим значения выбросов, самые характерные, чтобы дать ИИ болше информации.\n",
    ">И просим предложить причины этих выбросов. Если видим важное, то используем для рекомендаций, выводов и замены выбросов в предобработке.  "
   ]
  },
  {
   "cell_type": "markdown",
   "metadata": {
    "id": "efaJhrzDrRRn"
   },
   "source": [
    ">Когда смотрим на выбросы, то нужно ответить на вопрос так и должно быть, это нормально, что выбросы в этих колонках.   "
   ]
  },
  {
   "cell_type": "markdown",
   "metadata": {
    "id": "Igp6sguvrRRo"
   },
   "source": [
    "- Выбросы это не только просто сильно большое или сильно маленькое значение.  \n",
    "- Выбросы нужно также смотреть по мультипараметрам, с помощью моделей и искать аномалии.  \n",
    "- Выброс это то, что отделяется от других, что выбивается из общей картины. Следовательно это что-то особенное.  \n",
    "- Тажке выбросы говорят не только о плюсах, но и о минусах. Выбросы могут сказать, что у нас что-то сломалось.  \n",
    ">Что-то не записывается, или работает с багами. Все это можно увдитеь по выбрасам и аномалиям.  \n",
    "- Обязательно посмотреть выбросы в разрезе категорий, так как мы сможем сделать выводы об их источнике.  \n",
    "- Если мы работаем со строгой отчетностью, то тут любой выброс это уже инсайт и нужно идти разбираться откуда это взялось.  "
   ]
  },
  {
   "cell_type": "markdown",
   "metadata": {
    "id": "70rEtfcWrRRp"
   },
   "source": [
    ">Если мы во время изучения данных выявили потенциальные выбросы, то нужно их отдельно изучить.    \n",
    ">Для этого создаем датафрейм с нужными значениями и помещаем его в `Series`,  \n",
    ">индекс это название колонки, в которой мы изучаем выброс.  \n",
    ">Далее отдаем этот  `Series` в функцию `analys_by_category_gen`."
   ]
  },
  {
   "cell_type": "markdown",
   "metadata": {
    "id": "XY94COpBrRRq"
   },
   "source": [
    ">Сначала изучим потенциальные выбросы, которые мы выявили при изучении колонок.  \n",
    ">У нас в количестве детей есть значение 20.   \n",
    ">Изучим его подробнее.  "
   ]
  },
  {
   "cell_type": "markdown",
   "metadata": {
    "id": "mEHzLKonrRRq"
   },
   "source": [
    ">Важно при изучении колонок записывать выбросы отдельно и потом коппировать сюда.  \n",
    ">А тут нужно изучить эти значения отдельно."
   ]
  },
  {
   "cell_type": "code",
   "execution_count": null,
   "metadata": {
    "id": "3aT5nRZmrRRs"
   },
   "outputs": [],
   "source": [
    "outliers_series = pd.Series([df[df.children == 20]], index=['children'])\n",
    "gen = pagri_data_tools.analys_by_category_gen(df, outliers_series)\n",
    "next(gen)"
   ]
  },
  {
   "cell_type": "markdown",
   "metadata": {
    "id": "DxU9QCuzrRRu"
   },
   "source": [
    ">Смотрим на выбросы используя Z-score  \n",
    ">`detect_outliers_Zscore`"
   ]
  },
  {
   "cell_type": "code",
   "execution_count": null,
   "metadata": {
    "id": "LS871xmHrRRv"
   },
   "outputs": [],
   "source": [
    "series_outliers = pagri_data_tools.detect_outliers_Zscore()\n",
    "# сначала смотрим на значения с большим количеством выбросов\n",
    "series_outliers['col'].col.value_counts().to_frame('outliers')\n",
    "# затем уже изучаем определенные датафреймы в series_outliers\n",
    "series_outliers['col'].head()"
   ]
  },
  {
   "cell_type": "markdown",
   "metadata": {
    "id": "t0Apj8EprRRx"
   },
   "source": [
    ">Смотрим на выбросы используя квантили  \n",
    ">`detect_outliers_quantile`"
   ]
  },
  {
   "cell_type": "code",
   "execution_count": null,
   "metadata": {
    "id": "K8UD1L-QrRRy"
   },
   "outputs": [],
   "source": [
    "series_outliers = pagri_data_tools.detect_outliers_quantile(df)"
   ]
  },
  {
   "cell_type": "markdown",
   "metadata": {
    "id": "VgpgQyE3rRRz"
   },
   "source": [
    ">Посмотрим на строки датафрейма с пропусками"
   ]
  },
  {
   "cell_type": "code",
   "execution_count": null,
   "metadata": {
    "id": "U3GJjghzrRR0"
   },
   "outputs": [],
   "source": [
    "col1_outliers = series_outliers['col1']\n",
    "col2_outliers = series_outliers['col2']"
   ]
  },
  {
   "cell_type": "code",
   "execution_count": null,
   "metadata": {
    "id": "Zg_LKXd1rRR1"
   },
   "outputs": [],
   "source": [
    "col1_outliers.head()\n",
    "col2_outliers.head()"
   ]
  },
  {
   "cell_type": "markdown",
   "metadata": {
    "id": "X83vcRvgrRR1"
   },
   "source": [
    ">Изучить выбросы по категориями  \n",
    ">`analys_by_category_gen`  "
   ]
  },
  {
   "cell_type": "markdown",
   "metadata": {
    "id": "FXzVAHD5rRR3"
   },
   "source": [
    ">Смотрим на все поля  \n",
    ">`in_category_pct` говорит о том сколько в этом значении категории изучаемых значений  \n",
    ">`in_column_pct` говорит о том сколько процентов изучаемого значения данного значения категории в общем  \n",
    ">`total_count_pct` помогает анализировать `in_column_pct`, так как мы видим сколько занимает это значение в общем  "
   ]
  },
  {
   "cell_type": "code",
   "execution_count": null,
   "metadata": {
    "id": "bkXYgecbrRR4"
   },
   "outputs": [],
   "source": [
    "gen = pagri_data_tools.analys_by_category_gen(df, series_outliers)\n",
    "next(gen)"
   ]
  },
  {
   "cell_type": "markdown",
   "metadata": {
    "id": "wLmJ8BBFrRR4"
   },
   "source": [
    "#### Изучение отрицательных значений"
   ]
  },
  {
   "cell_type": "markdown",
   "metadata": {
    "id": "Corh0a7-rRR5"
   },
   "source": [
    ">Не забываем про ИИ.  \n",
    ">Пишем название столбца (именно что они значат, то есть образование, пол и прочее), говорим, что есть отрицательные значения там где их быть не должно.  \n",
    ">Обязательно приводим значения, самые характерные, чтобы дать ИИ болше информации.\n",
    ">И просим предложить причины этих отрицательных значений. Если видим важное, то используем для рекомендаций, выводов и замены отрицательных значений в предобработке.  "
   ]
  },
  {
   "cell_type": "markdown",
   "metadata": {
    "id": "CUbMhM5zrRR6"
   },
   "source": [
    ">Очень важно, если у нас есть столбец, в котором не должно быть отрицательных значений, то нам нужно отдельно изучить положительные и отрицательные значения.  \n",
    ">И те и те посмотреть по категориям.  \n",
    ">И на основе этого изучения мы моежм заметить причины отрицательных значений.  \n",
    ">Например, в колонке стажа у нас очень много отрицательных значений и есть положительные значения.  \n",
    ">Мы отдельно посмотрели отрицательные значения и они в основном принадлежат работающим людям.  \n",
    ">А положительные пренадлежат пенсионерам.   \n",
    ">Важно и полоительные и отрицательные значения посмотреть их макс и мин.   \n",
    ">Вот мы для стажа посмотрели макси и мин и видим, что отрицательные значения похожи на реальные значения в годах.   \n",
    ">А вот положительные слишком большие, и далее мы поняли, что это данные в часах.  \n",
    ">В итоге у нас уже много предположений, которые помогут выяснить откуда появляются странные данные в этом столбце.  \n",
    ">К тому же мы можем попробовать заменить отрицательные значения, если у нас есть уверенность на основе анализа.  "
   ]
  },
  {
   "cell_type": "markdown",
   "metadata": {
    "id": "G93V0SfVrRR6"
   },
   "source": [
    ">Изучаем отрицательные значения"
   ]
  },
  {
   "cell_type": "code",
   "execution_count": null,
   "metadata": {
    "id": "MOCqs2FErRR7"
   },
   "outputs": [],
   "source": [
    "series_negative = pagri_data_tools.find_columns_with_negative_values(df)"
   ]
  },
  {
   "cell_type": "markdown",
   "metadata": {
    "id": "eSVpwouirRR7"
   },
   "source": [
    ">Определяем в каких колонках не должно быть орицательных значений.  \n",
    ">Колонки в которых допустимы отрицательные значения удаляем из `series_negative`"
   ]
  },
  {
   "cell_type": "markdown",
   "metadata": {
    "id": "AY5DaacNrRR8"
   },
   "source": [
    ">Изучим отрицательные значения в разрезе категорий"
   ]
  },
  {
   "cell_type": "markdown",
   "metadata": {
    "id": "152lIgw-rRR9"
   },
   "source": [
    ">Смотрим на все поля  \n",
    ">in_category_pct говорит о том сколько в этом значении категории изучаемых значений  \n",
    ">in_column_pct говорит о том сколько процентов изучаемого значения данного значения категории в общем  \n",
    ">total_count_pct помогает анализировать in_column_pct, так как мы видим сколько занимает это значение в общем  "
   ]
  },
  {
   "cell_type": "code",
   "execution_count": null,
   "metadata": {
    "id": "N520a-uerRR_"
   },
   "outputs": [],
   "source": [
    "gen = pagri_data_tools.analys_by_category_gen(df, series_negative)\n",
    "next(gen)"
   ]
  },
  {
   "cell_type": "markdown",
   "metadata": {
    "id": "UmMPQBCvrRSA"
   },
   "source": [
    "#### Изучение нулевых значений"
   ]
  },
  {
   "cell_type": "markdown",
   "metadata": {
    "id": "LGls6kbYrRSB"
   },
   "source": [
    ">Не забываем про ИИ.  \n",
    ">Пишем название столбца (именно что они значат, то есть образование, пол и прочее), говорим, что есть нули там, гед их быть не должно.  \n",
    ">И просим предложить причины этих нулей. Если видим важное, то используем для рекомендаций, выводов и замены нулей в предобработке.  "
   ]
  },
  {
   "cell_type": "markdown",
   "metadata": {
    "id": "jdAS2wFlrRSB"
   },
   "source": [
    ">Изучаем нулевые значения"
   ]
  },
  {
   "cell_type": "code",
   "execution_count": null,
   "metadata": {
    "id": "jCVLe3DarRSC"
   },
   "outputs": [],
   "source": [
    "series_zeros = pagri_data_tools.find_columns_with_zeros_values(df)"
   ]
  },
  {
   "cell_type": "markdown",
   "metadata": {
    "id": "O-mYIakQrRSE"
   },
   "source": [
    ">Определяем в каких колонках не должно быть нулевых значений.  \n",
    ">Колонки в которых допустимы нулевые значения удаляем из `series_negative`  \n"
   ]
  },
  {
   "cell_type": "code",
   "execution_count": null,
   "metadata": {
    "id": "TY8olJPBrRSF",
    "outputId": "1a559f7c-ede7-4008-b129-323dd72eda51"
   },
   "outputs": [
    {
     "data": {
      "text/plain": [
       "dob_years           children  days_employed  dob_years educ...\n",
       "dtype: object"
      ]
     },
     "metadata": {},
     "output_type": "display_data"
    }
   ],
   "source": [
    "series_zeros = series_zeros.drop('children')\n",
    "series_zeros"
   ]
  },
  {
   "cell_type": "markdown",
   "metadata": {
    "id": "y8ODG_YPrRSG"
   },
   "source": [
    ">Изучим нулевые значения в разрезе категорий"
   ]
  },
  {
   "cell_type": "markdown",
   "metadata": {
    "id": "ls8G5xX9rRSG"
   },
   "source": [
    ">Смотрим на все поля  \n",
    ">in_category_pct говорит о том сколько в этом значении категории изучаемых значений  \n",
    ">in_column_pct говорит о том сколько процентов изучаемого значения данного значения категории в общем  \n",
    ">total_count_pct помогает анализировать in_column_pct, так как мы видим сколько занимает это значение в общем  "
   ]
  },
  {
   "cell_type": "code",
   "execution_count": null,
   "metadata": {
    "id": "nhjdlTUMrRSH"
   },
   "outputs": [],
   "source": [
    "gen = pagri_data_tools.analys_by_category_gen(df, series_zeros)\n",
    "next(gen)"
   ]
  },
  {
   "cell_type": "markdown",
   "metadata": {
    "id": "xQrPxpMxrRSI"
   },
   "source": [
    ">После изучения данных у нас могут возникнуть вопросы по определенным значениям, это возможно не выбросы,  \n",
    ">мы просто хотим подробнее их изучить.    \n",
    ">Для этого создаем датафрейм с нужными значениями и помещаем его в `Series`,  \n",
    ">индекс это название колонки, в которой мы изучаем выброс.  \n",
    ">Далее отдаем этот  `Series` в функцию `analys_by_category_gen`.  \n",
    ">Нужно сделать специальную функцию для этого, чтобы не использовать `analys_by_category_gen`"
   ]
  },
  {
   "cell_type": "code",
   "execution_count": null,
   "metadata": {
    "id": "rH-8sSSIrRSJ"
   },
   "outputs": [],
   "source": [
    "check_series = pd.Series([df[df.col_for_check == value_for_check]], index=['col_for_check'])\n",
    "gen = pagri_data_tools.analys_by_category_gen(df, check_series)\n",
    "next(gen)"
   ]
  },
  {
   "cell_type": "markdown",
   "metadata": {
    "id": "W5p1F6iTrRSK"
   },
   "source": [
    ">Также мы можем изучить любые столбцы (или часть столбцов) по категориям.  \n",
    ">То есть мы изучаем как распределены элементы по категориям"
   ]
  },
  {
   "cell_type": "code",
   "execution_count": null,
   "metadata": {
    "id": "I2oLCQ3vrRSL"
   },
   "outputs": [],
   "source": [
    "check_series = pd.Series([df[df.col_for_check == value_for_check]], index=['col_for_check'])\n",
    "gen = pagri_data_tools.analys_by_category_gen(df, check_series)\n",
    "next(gen)"
   ]
  },
  {
   "cell_type": "markdown",
   "metadata": {
    "id": "MRiDwgKFrRSM"
   },
   "source": [
    ">Сделать функцию определения выбросов на основе машинного обучения"
   ]
  },
  {
   "cell_type": "markdown",
   "metadata": {
    "id": "TQayDqQ2rRSN"
   },
   "source": [
    ">Дополнительные моменты, которые стоит проверить и изучить\n",
    "- Проверить на сложные выбросы, типа у нас есть статус и возраст и мы видим что студент имеет возраст 60 лет, это реально, но уже подозрительно.  \n",
    ">Вот таких моментов может быть много, но нужно додуматься, чтобы найти такие комбинации, но это важно делать.\n",
    "- важно проверить на корректность данные, то есть смотрим по отдельности каждый столбец и изучаем мин, макс, и другие параметры, и  \n",
    ">думаем, это физически реально. И особенно, когда у нас несколько связаных параметров, нет ли между ними противоречия.  \n",
    ">Например, у нас есть дата показа рекламы и есть дата создания рекламы, естественно создание должно быть раньше, это нужно проверить.  \n",
    "- Проверяем данные ошибки  \n",
    ">Ошибки которые не являются дублями, пропусками или выбросами.  \n",
    ">Это сложно сделать, хотя бы заметить явные ошибки\n",
    "- Проверить на ошибки согласованности  \n",
    ">Например, у нас пользователь с одним ай ди имеет разные имена.\n",
    ">`display(df.groupby('name')['age'].nunique())`\n",
    "- вообще нужно придумать разные проверки для колонок, особенно связанных. И провести эту проверку."
   ]
  },
  {
   "cell_type": "markdown",
   "metadata": {
    "id": "tWtmydg6rRSO"
   },
   "source": [
    "### Промежуточный вывод"
   ]
  },
  {
   "cell_type": "markdown",
   "metadata": {
    "id": "NdurWQAfrRSP"
   },
   "source": [
    ">Из наблюдений собираем важные выводы"
   ]
  },
  {
   "cell_type": "markdown",
   "metadata": {
    "id": "portable-collect"
   },
   "source": [
    ">Принимаем решение, как именно мы будем проводить обработку, почему именно так, *зафиксировать рекомендации.  \n",
    ">То есть отвечаем на вопрос, что будем делать с выбросами, что будем делать с null.  \n",
    ">Будет идеально если тут зафиксировать рекомендации  \n"
   ]
  },
  {
   "cell_type": "markdown",
   "metadata": {
    "id": "-WQlW-ZvrRSR"
   },
   "source": [
    "**Промежуточный вывод**\n",
    ">\n",
    "- **children** Присутствует 47 отрицательных значений с \"-1\", а также аномалия в виде 20 детей ...\n",
    "- **days_employed** Большая часть данных стобца со знаком \"-\". Однако, эти данные представляют из себя 84% всей выборки. ... будут заменены на .. исходя из определенного критерия, который будет описан далее.\n",
    ">    - Причины пропущенных значений в столбцах **days_employed** и **income**:\n",
    ">        - Во-первых, это может быть из-за неправильной выгрузки данных. Оставим это предположение до того момента, пока не убедимся в неверности других предположений.**Наиболее вероятно**\n",
    ">        - Во-вторых, одной из гипотез было предположение об отсутствии трудового опыта у данной части выборки. Однако, если распределение по возрасту в данной группе равномерное по всем возрастам выборки. Также большая доля этой части выборки трудоустроена. **Гипотеза не подтверждена**\n",
    ">        - В-третьих, возможно, что эта часть выборки не имеет официального трудоустройства. Данная гипотеза вызывает сомнение в связи с тем, что при наличии достаточно большого стажа работы у представителей выборки у ее представителей нет официального трудового стажа. К тому же 18.9% данной выборки являются госслужащими. **Гипотез не подтверждена**\n",
    "- **age** .. 0 возраст у 101 человека.\n",
    "- **education & education_id** Необходимо будет привести данную категорийнуй переменную к общему виду. Избавиться от разного регистра. Но можно не тратить на это время и использовать следующий столбец **education_id**. Это позволит использовать меньше памяти и не повлияет на качество анализа.\n",
    "- ..."
   ]
  },
  {
   "cell_type": "markdown",
   "metadata": {
    "id": "hjcIWNlMrRSS"
   },
   "source": [
    "## Предобработка данных"
   ]
  },
  {
   "cell_type": "markdown",
   "metadata": {
    "id": "0JIJ4SjErRST"
   },
   "source": [
    ">Важно, когда удаляем строки, то делаем сброс индекса"
   ]
  },
  {
   "cell_type": "code",
   "execution_count": null,
   "metadata": {
    "id": "xjoB-iPLrRSU"
   },
   "outputs": [],
   "source": [
    ".reset_index(drop=True)"
   ]
  },
  {
   "cell_type": "markdown",
   "metadata": {
    "id": "Nb3MpGFYrRSW"
   },
   "source": [
    ">Не забываем про ИИ  \n",
    ">Когда мы проводим предобработку данных, то первый вопрос мы себе задать следующий\n",
    ">Какава вероятнсоть, что это является истиной? Если вероятнсоть ниже 60 прцоентов, то это делать не стоти и может лучше оставить как есть или не трогать этот столбец.  \n",
    ">Например, у нас дубли или отрицательные значеия и мы выдвинули гипотезу, что это просто неправильный знак и хотим взять модель числа.  \n",
    ">Но если мы подумаем, а высокая ли вероятность, что число просто с неверным знаком, то вероятнсот этого низкая.  \n",
    ">Поэтому это делать не нужно.   \n",
    ">Другое дело у нас датафрейме 1 прцоент полных дублей и при этом у нас есть достаточно точные колонки типа зарплаты с точностью до рублей или стаж в днях.  \n",
    ">Вот тут мы можем с высокой вероятностью утверждать, что это дубли, так как мало вероятно что будет две записи настолько точно совпадать.  \n",
    ">Поэтому сначала думаем насколько вероятна та гипотеза, которую мы выдвинули и хотим по ней изменить наши данные.  \n",
    ">Тут лучше придерживаться правила не навреди."
   ]
  },
  {
   "cell_type": "markdown",
   "metadata": {
    "id": "S_YeM0H6rRSW"
   },
   "source": [
    ">Когда удаляем значения из категориальных столбцов pandas, и в этом столбце нет больше таких занчений, которые удалил.  \n",
    ">То нужно удалить это значение из категории"
   ]
  },
  {
   "cell_type": "code",
   "execution_count": null,
   "metadata": {
    "id": "0QAg3bMbrRSX"
   },
   "outputs": [],
   "source": [
    "df.drop(df[df.gender == 'XNA'].index, inplace=True)\n",
    "df['gender'] = df['gender'].cat.remove_unused_categories()\n",
    "df.value_counts(dropna=False)"
   ]
  },
  {
   "cell_type": "code",
   "execution_count": null,
   "metadata": {
    "id": "tqw8pCaFrRSY"
   },
   "outputs": [],
   "source": [
    "df.shape[0]"
   ]
  },
  {
   "cell_type": "markdown",
   "metadata": {
    "id": "Ch47iRTkrRSZ"
   },
   "source": [
    "### Обрезание неполных временных периодов"
   ]
  },
  {
   "cell_type": "markdown",
   "metadata": {
    "id": "EBjRmf0arRSa"
   },
   "source": [
    ">Если у нас датасет за год, например, и первый или последний месяц неполные, то их лучше выбрасить, если мы будем  \n",
    ">расчитывать месячные метрики.  \n",
    ">Но сначала конечно нужно проанализировать столбцы без обрезания, чтобы убедиться, что там нет ничего необычного.  "
   ]
  },
  {
   "cell_type": "markdown",
   "metadata": {
    "id": "ddxIC_jJrRSa"
   },
   "source": [
    "### Выбор нужных столбцов для дальнейшей работы"
   ]
  },
  {
   "cell_type": "markdown",
   "metadata": {
    "id": "uXFf5ew6rRSb"
   },
   "source": [
    ">Сохраним исходный датафрейм в переменную df_origin, чтобы была возможность вернуться к нему\n"
   ]
  },
  {
   "cell_type": "code",
   "execution_count": null,
   "metadata": {
    "id": "hhciwFDTrRSb"
   },
   "outputs": [],
   "source": [
    "df_origin = df.copy()"
   ]
  },
  {
   "cell_type": "markdown",
   "metadata": {
    "id": "9RljqKJprRSd"
   },
   "source": [
    ">Удаляем ненужные столбцы"
   ]
  },
  {
   "cell_type": "code",
   "execution_count": null,
   "metadata": {
    "id": "v383rdHjrRSe"
   },
   "outputs": [],
   "source": [
    "df = df.drop(['col1', 'col2'], axis=1)\n",
    "df.head(1)"
   ]
  },
  {
   "cell_type": "markdown",
   "metadata": {
    "id": "bSOzLlbnrRSe"
   },
   "source": [
    "- Думаем, какие колонки нам нужны, выбираем только их для дальнейшей работы.  \n",
    ">Остальные убираем в другой датасет.\n",
    "- Важно после изученя данных сначала убрать не нужные столбцы, а потом уже заниматься преобразованием (удалением пропусков и выбросов).  \n",
    ">Думаем прежде чем удалять строки, так как возможно лучше удалить столбец и строки удалять будет не нужно.  \n",
    "- Пишем почему выбираем определенные столбцы"
   ]
  },
  {
   "cell_type": "markdown",
   "metadata": {
    "id": "5QaWzgIDrRSg"
   },
   "source": [
    "### Обработка выбросов"
   ]
  },
  {
   "cell_type": "markdown",
   "metadata": {
    "id": "N_GuNy7DrRSg"
   },
   "source": [
    ">Не забываем про нулевые значения и отрицательный.  \n",
    ">В столбцах, где их быть не должно, они являются выбросами.  "
   ]
  },
  {
   "cell_type": "markdown",
   "metadata": {
    "id": "gpdSL4wQrRSi"
   },
   "source": [
    ">С обработкай нулевых и отрицательных значений нужно быть внимательным.  \n",
    ">Нужно сначала хорошо подумать, откуда могло это появиться,  \n",
    ">тут поможет анализ этих значений в предыдущей главе.  \n",
    ">Думаем откуад появилось отрицательное или нулевое занчение,  \n",
    ">и если у нас есть гипотезы, которые похожи на правду (мы думаем что вероятность их истины больше 60%),  \n",
    ">то мы обрабатываем их исходя из гипотезы.  \n",
    ">Например, -1 часто бывает как отсутсвие чего-то, то есть мы в зависимости от контекста можем заменить его на 0.  \n"
   ]
  },
  {
   "cell_type": "markdown",
   "metadata": {
    "id": "MzQo28twrRSj"
   },
   "source": [
    ">Важно каждый раз, когда мы удаляем что-то из датафрейма, то убедиться, что мы удалили столько строк, сколько и хотели.  \n",
    ">Для этого выводим размер датафрейма до удаления.  \n",
    ">Смотрим сколько строк мы хотим удалить.  \n",
    ">Далее не сохраняя в датафрейм удаляем строки и смотрим верный ли итоговый размер.  \n",
    ">Если все верно, то удаляем уже с сохранением.  "
   ]
  },
  {
   "cell_type": "markdown",
   "metadata": {
    "id": "EDnWqwPzrRSk"
   },
   "source": [
    ">Не забываем, что выбросы мы также можем заменять на медианные значения."
   ]
  },
  {
   "cell_type": "code",
   "execution_count": null,
   "metadata": {
    "id": "06kyBqcnrRSk",
    "outputId": "ee564a70-671a-4434-f2d1-d5f71d4a5519"
   },
   "outputs": [
    {
     "data": {
      "text/plain": [
       "21525"
      ]
     },
     "metadata": {},
     "output_type": "display_data"
    }
   ],
   "source": [
    "df.shape[0]"
   ]
  },
  {
   "cell_type": "code",
   "execution_count": null,
   "metadata": {
    "id": "gXcDFcGsrRSn",
    "outputId": "b801ef86-cca3-47ec-dc3b-d5fef1a4a5c2"
   },
   "outputs": [
    {
     "data": {
      "text/plain": [
       "21478"
      ]
     },
     "metadata": {},
     "output_type": "display_data"
    }
   ],
   "source": [
    "df = df[df.children >= 0]\n",
    "df.shape[0]"
   ]
  },
  {
   "cell_type": "markdown",
   "metadata": {
    "id": "-VuTNqRDrRSp"
   },
   "source": [
    ">Посмотрим где у нас отрицательные значения"
   ]
  },
  {
   "cell_type": "code",
   "execution_count": null,
   "metadata": {
    "id": "IwunArswrRSq"
   },
   "outputs": [],
   "source": [
    "pagri_data_tools.check_negative_value_in_df(df)"
   ]
  },
  {
   "cell_type": "markdown",
   "metadata": {
    "id": "eMVc8fZ4rRSr"
   },
   "source": [
    ">Посмотрим где у нас нулевые значения"
   ]
  },
  {
   "cell_type": "code",
   "execution_count": null,
   "metadata": {
    "id": "igHKE18BrRSs"
   },
   "outputs": [],
   "source": [
    "pagri_data_tools.check_zeros_value_in_df(df)"
   ]
  },
  {
   "cell_type": "markdown",
   "metadata": {
    "id": "qZD1WoQ1rRSt"
   },
   "source": [
    ">Обрабатываем нулевые и отрицательные значения, затем снова проверяем"
   ]
  },
  {
   "cell_type": "code",
   "execution_count": null,
   "metadata": {
    "id": "EyGPNgfhrRSu",
    "outputId": "6185a3b4-e165-42e7-ef6b-39603ed44ad8"
   },
   "outputs": [
    {
     "data": {
      "text/html": [
       "<div>\n",
       "<style scoped>\n",
       "    .dataframe tbody tr th:only-of-type {\n",
       "        vertical-align: middle;\n",
       "    }\n",
       "\n",
       "    .dataframe tbody tr th {\n",
       "        vertical-align: top;\n",
       "    }\n",
       "\n",
       "    .dataframe thead th {\n",
       "        text-align: right;\n",
       "    }\n",
       "</style>\n",
       "<table border=\"1\" class=\"dataframe\">\n",
       "  <thead>\n",
       "    <tr style=\"text-align: right;\">\n",
       "      <th></th>\n",
       "      <th>negative</th>\n",
       "    </tr>\n",
       "  </thead>\n",
       "  <tbody>\n",
       "  </tbody>\n",
       "</table>\n",
       "</div>"
      ],
      "text/plain": [
       "Empty DataFrame\n",
       "Columns: [negative]\n",
       "Index: []"
      ]
     },
     "metadata": {},
     "output_type": "display_data"
    }
   ],
   "source": [
    "pagri_data_tools.check_negative_value_in_df(df)"
   ]
  },
  {
   "cell_type": "code",
   "execution_count": null,
   "metadata": {
    "id": "D2TQr94lrRSw",
    "outputId": "ac6cb221-0e55-474a-d470-571e64883850"
   },
   "outputs": [
    {
     "data": {
      "text/html": [
       "<div>\n",
       "<style scoped>\n",
       "    .dataframe tbody tr th:only-of-type {\n",
       "        vertical-align: middle;\n",
       "    }\n",
       "\n",
       "    .dataframe tbody tr th {\n",
       "        vertical-align: top;\n",
       "    }\n",
       "\n",
       "    .dataframe thead th {\n",
       "        text-align: right;\n",
       "    }\n",
       "</style>\n",
       "<table border=\"1\" class=\"dataframe\">\n",
       "  <thead>\n",
       "    <tr style=\"text-align: right;\">\n",
       "      <th></th>\n",
       "      <th>zeros</th>\n",
       "    </tr>\n",
       "  </thead>\n",
       "  <tbody>\n",
       "  </tbody>\n",
       "</table>\n",
       "</div>"
      ],
      "text/plain": [
       "Empty DataFrame\n",
       "Columns: [zeros]\n",
       "Index: []"
      ]
     },
     "metadata": {},
     "output_type": "display_data"
    }
   ],
   "source": [
    "pagri_data_tools.check_zeros_value_in_df(df)"
   ]
  },
  {
   "cell_type": "markdown",
   "metadata": {
    "id": "C-uJTG30rRSy"
   },
   "source": [
    ">Также нужно обработать выбросы, которые мы обнаружили при изучении данных.  \n",
    ">Это могут быть любые колонки со значениями, которые не моут быть в реальности.  "
   ]
  },
  {
   "cell_type": "markdown",
   "metadata": {
    "id": "-EaInYuGrRSz"
   },
   "source": [
    ">Нужно сначала обработать выбросы, а потом уже обрабатываться пропуски.  \n",
    ">Так как мы заоплняем пропуски, учитывая значения в колонке, которые возможно мы потом удалим.  "
   ]
  },
  {
   "cell_type": "markdown",
   "metadata": {
    "id": "b_2wW7gXrRSz"
   },
   "source": [
    "- Помним про нулевые и отрицательные значения\n",
    "- Нулевые значения, отрицательные значения являются выбросами, если они не могут быть у этой колонки.  \n",
    "- Очень важно понимать, когда выброс можно отбросить и он реально выброс и когда нельзя.  \n",
    ">Опираемся на физику параметра, думаем это значение физически возможно.  \n",
    "- Также выброс может казаться выбрасом, но для бизнеса это не выброс.  \n",
    ">Например у нас суммы покупок и одна покупка сильно выделяется, а там просто человек купил супе дорогой каньяк, например.  \n",
    "- Когда хотим обрезать выбросы, то думаем, какой порог может быть физически реальным и по нему режем, а не просто так берем какой-то перцентиль.  \n",
    ">Всегда нужно думать с точки зрения физического возможного значения параметра и по нему резать (подумать а какое значение может быть максимально реальным и по нему обрезать)\n",
    "- Если мы имеем дело со строгой отчестностью, то выбросы убирать нельзя, нужно разобраться откуда они.  \n",
    "- Если мы не можем с увереностью сказать, что это выброс, то нам не стоит его выкидывать, но работать как то нужно с ними,  \n",
    ">тогда, логарифмируем (лучше использовать натуральный логарифм) эту колонку и работаем с такими значениями (тогда выбросы сожмуться).  "
   ]
  },
  {
   "cell_type": "markdown",
   "metadata": {
    "id": "1Vf_k5cirRS1"
   },
   "source": [
    ">После удаления выбрасов, можно снова выполнить пункт про изучение выбрасов, так как выбросы могут появиться новые,   \n",
    ">если у нас например выбросы были слишком нереальные значения, когда мы от них избавимся, будет лучше видно другое"
   ]
  },
  {
   "cell_type": "markdown",
   "metadata": {
    "id": "tNmcU32IrRS3"
   },
   "source": [
    "### Обработка пропусков"
   ]
  },
  {
   "cell_type": "markdown",
   "metadata": {
    "id": "pn1rmP3GrRS3"
   },
   "source": [
    "> Важно помнить, что пропус может быть вызван тем, что во измежании дублирования строк, при созаднии сводной таблицы,  \n",
    "занчения не повторяются, а если потом эту таблицу куда то отправить, то там эти пропуски могут стать null  \n",
    "Поэтому сначала смотрим последовательно на значения и думаем, не может ли это быть таким случаем.  \n",
    "Это могут быть даты, которые идут подряд и меду ними пропуски.  \n",
    "Или список названий четко по порядоку и между ними пропуски, это может быть вызвано как раз последствием создания сводной таблицы.  \n",
    "В пандас это видно, когда мы группируем строки, у нас в индексе дубли не пишуться, но пандас занчет, что там есть занчения,  \n",
    "но после импорта куда-то там могут не продублироваться значения и возникнут пропуски.  "
   ]
  },
  {
   "cell_type": "markdown",
   "metadata": {
    "id": "OIA3CdzDrRS5"
   },
   "source": [
    ">Прежде чем обрабатывать пропуски, нужно подумать а можем ли мы их заменить исходя из имеющихся столбцов.  \n",
    ">Например, у нас есть столбец с пропусками возраст, и есть стаж,  \n",
    ">мы можем возраст заменить так стаж + 18 + 5  \n",
    ">Аналогично другие ситуации нужно сообразить как можно заменить пропуски.  \n",
    ">И только если нет идей, тогда уже заменяем на медиану, например, по группам.  "
   ]
  },
  {
   "cell_type": "code",
   "execution_count": null,
   "metadata": {
    "id": "PCgCFWYurRS5"
   },
   "outputs": [],
   "source": [
    "pagri_data_tools.check_missed_value_in_df(df)"
   ]
  },
  {
   "cell_type": "markdown",
   "metadata": {
    "id": "bx4Zp2kyrRS6"
   },
   "source": [
    ">Если решии заменять прпоуски значениями, учитывая категории, то нужно убедиться, что размер этих категорий достаточный."
   ]
  },
  {
   "cell_type": "markdown",
   "metadata": {
    "id": "J0VVvBBLrRS8"
   },
   "source": [
    ">Посмотрим размеры групп, если заменять внутри этих групп"
   ]
  },
  {
   "cell_type": "code",
   "execution_count": null,
   "metadata": {
    "id": "x622-VzgrRS8"
   },
   "outputs": [],
   "source": [
    "category_columns = ['education', 'family_status', 'gender', 'income_type']\n",
    "value_column = 'total_income'\n",
    "pagri_data_tools.check_group_count(df, category_columns, value_column)"
   ]
  },
  {
   "cell_type": "markdown",
   "metadata": {
    "id": "-hvLDxvurRS-"
   },
   "source": [
    ">Заполним пропуски в группах от 10 элементов"
   ]
  },
  {
   "cell_type": "code",
   "execution_count": null,
   "metadata": {
    "id": "cPBJv6jcrRS_"
   },
   "outputs": [],
   "source": [
    "df[value_column] = pagri_data_tools.fill_na_with_function_by_categories(df, category_columns, value_column, func='median', minimal_group_size=10)"
   ]
  },
  {
   "cell_type": "markdown",
   "metadata": {
    "id": "aiIkJI9HrRTA"
   },
   "source": [
    ">Проверим сколько у нас осталось пропусков"
   ]
  },
  {
   "cell_type": "code",
   "execution_count": null,
   "metadata": {
    "id": "hYsT972XrRTB"
   },
   "outputs": [],
   "source": [
    "pagri_data_tools.check_missed_value_in_df(df)"
   ]
  },
  {
   "cell_type": "markdown",
   "metadata": {
    "id": "PyorAGE2rRTC"
   },
   "source": [
    ">Если пропуски остались, то убираем какую-нибудь категорию и повторяем."
   ]
  },
  {
   "cell_type": "markdown",
   "metadata": {
    "id": "dried-general"
   },
   "source": [
    ">что-то изменили - > посмотрели не изменилось ли количество дублей   \n",
    ">`check_duplicated`"
   ]
  },
  {
   "cell_type": "code",
   "execution_count": null,
   "metadata": {
    "id": "vLJpS9c1rRTF"
   },
   "outputs": [],
   "source": [
    "pagri_data_tools.check_duplicated()"
   ]
  },
  {
   "cell_type": "markdown",
   "metadata": {
    "id": "D0YHxKdPrRTG"
   },
   "source": [
    ">Увидели пропуск - подумайте, нормально ли это. Сколько вообще пропусков может быть в этом столбце?   \n",
    ">К примеру, в списке с электронными адресами пользователей, согласных на рассылку, будет много пропусков. Далеко не все предоставляют email."
   ]
  },
  {
   "cell_type": "markdown",
   "metadata": {
    "id": "zxQOPO3mrRTH"
   },
   "source": [
    ">Можно использвоать такой подход\n",
    "- если количество пропусков меньше 5 процентов, то удаляем (лучше меньше 1 процента)\n",
    "- если количество пропусков от 5 до 20 процентов, то подбираем чем заменить, удалять не стоит\n",
    "- если больше 20 процентов, то не трогаем, так как исказим"
   ]
  },
  {
   "cell_type": "markdown",
   "metadata": {
    "id": "SHRiOidbrRTI"
   },
   "source": [
    ">Но оставляя пропуски, нам нужно помнить, что мы не можем по этим полям считать корреляцию с другими,   \n",
    ">так как пропуски испортят расчет коэффициента корреляции. Аналогично другие метрики могут считаться некорректно.  \n",
    ">Поэтому, если мы будем считать показатели по столбцу с пропусками, то их нужно либо убирать, либо этот столбец не использовать для расчетов.  "
   ]
  },
  {
   "cell_type": "markdown",
   "metadata": {
    "id": "NWESydOUrRTJ"
   },
   "source": [
    ">Для категориальных переменных оставлять пропуски нельзя, так как мы скорее всего будем группировать по ним и смотреть разные разрезы.  \n",
    ">Поэтому в худшем случае, если не можем ничем заменить, и нет уверености, что пропуск можно заполнить пустой строкой (если значения физически нет),  \n",
    ">то создаем категорию например `other` из пропусков.  "
   ]
  },
  {
   "cell_type": "markdown",
   "metadata": {
    "id": "bTpeES2orRTK"
   },
   "source": [
    ">Если у нас пропуски в категориальной переменной и есть разные периоды или просто данные разбиты на части (то есть эта категориальная переменная повторяется),  \n",
    ">то мы можем взять ещё какую-нибудь переменную, у которой нет пропусков, где пропуски у первой переменной и далее посмотреть другие периоды  \n",
    ">Таким образом у нас будет предыдущий период, где будет занчение второй переменной и первой и если в нескольких периодах они одинаковые, то мы можем  \n",
    ">заполнить и пропуски этим значением.   \n",
    ">Ещё раз схема такая - берем 2 поля одно с пропусками, другое без, получаем новую таблицу, в этой таблице оставляем только униклаьные значения в поле без пропусков,  \n",
    ">по этому полю будем джойнить. Далее в основнйо таблице дропаем описание и создаем новое описание из таблицы справочника.    \n",
    ">`fill_missing_values_using_helper_column`"
   ]
  },
  {
   "cell_type": "code",
   "execution_count": null,
   "metadata": {
    "id": "ijasSYPhrRTL"
   },
   "outputs": [],
   "source": [
    "pagri_data_tools.fill_missing_values_using_helper_column()"
   ]
  },
  {
   "cell_type": "markdown",
   "metadata": {
    "id": "YllrInOnrRTN"
   },
   "source": [
    ">Заполняем пропуски учитвая категории  \n",
    ">`fill_na_with_function_by_categories`"
   ]
  },
  {
   "cell_type": "markdown",
   "metadata": {
    "id": "_l39AC5zrRTO"
   },
   "source": [
    ">Важно следить, чтобы категории, по которым будем заполнять пропуски были обработаны.  \n",
    ">Если у нас в категориальной переменной есть значение с большой буквы и с маленькой, то это одна категория,  \n",
    ">но замена будет идити по двум, чтобы такого не было, нужно сначала обработать  категориальную переменную.  \n"
   ]
  },
  {
   "cell_type": "markdown",
   "metadata": {
    "id": "gTq29S1IrRTQ"
   },
   "source": [
    ">Также важно, чтобы в группах по которым мы будем считать значение для заополения было достаточно значений  \n",
    ">для выбранной функции.  \n",
    ">Например, если мы решили брать среднее, а в группе у нас 5 значений, то среди них может быть выброс и наше среднее будет некорректно.  \n",
    ">Лучше в такой ситуации брать группу побольше для этих микрогрупп.  \n",
    ">В идеале группы должны быть от 30 элементов.  "
   ]
  },
  {
   "cell_type": "markdown",
   "metadata": {
    "id": "Drs7d4-PrRTR"
   },
   "source": [
    ">Можно посмотреть какой процент группах без значений"
   ]
  },
  {
   "cell_type": "code",
   "execution_count": null,
   "metadata": {
    "id": "XqcTmY6WrRTS"
   },
   "outputs": [],
   "source": [
    "temp = df.groupby(['education', 'family_status', 'gender', 'income_type'])['total_income'].sum()\n",
    "(temp == 0).sum() * 100 / temp.size"
   ]
  },
  {
   "cell_type": "code",
   "execution_count": null,
   "metadata": {
    "id": "mHzOjs7wrRTT"
   },
   "outputs": [],
   "source": []
  },
  {
   "cell_type": "code",
   "execution_count": null,
   "metadata": {
    "id": "MHHD3xlGrRTV"
   },
   "outputs": [],
   "source": [
    "pagri_data_tools.fill_na_with_function_by_categories()"
   ]
  },
  {
   "cell_type": "markdown",
   "metadata": {
    "id": "M2xE5Mt4rRTW"
   },
   "source": [
    ">Сделать функцию заполнения пропусков с помощью машинного обучения"
   ]
  },
  {
   "cell_type": "markdown",
   "metadata": {
    "id": "P0eaTFjFrRTX"
   },
   "source": [
    ">После удаления пропусков и выбросов желательно проверить какой прцоент строк мы удалили.  "
   ]
  },
  {
   "cell_type": "markdown",
   "metadata": {
    "id": "jWxy1GzIrRTY"
   },
   "source": [
    "### Обработка дубликатов"
   ]
  },
  {
   "cell_type": "markdown",
   "metadata": {
    "id": "hj7LpYA4rRTa"
   },
   "source": [
    ">Все значения в колонках во всех таблицах нужно привести к нижнему регистру и по возможности к одному языку,  \n",
    ">для перевода к одному языку можно использовать словарь, с помощью которого изменить неправильный язык  \n",
    ">Это нужно, чтобы когда будем соединять таблицы, у нас условие соеденения правильно сравнивало равные значения.  "
   ]
  },
  {
   "cell_type": "markdown",
   "metadata": {
    "id": "vf2_2_uCrRTb"
   },
   "source": [
    ">Можно посмотреть снвоа на дубликаты после обработки пропусков.  "
   ]
  },
  {
   "cell_type": "markdown",
   "metadata": {
    "id": "Fn1XpJkwrRTc"
   },
   "source": [
    ">`check_duplicated`   \n",
    ">`find_columns_with_duplicates`   \n",
    ">`check_duplicated_combinations_gen`    \n",
    ">`get_duplicates_value_proportion_by_category`  \n",
    ">В первую функцию можно передавать весь датафрейм и можно выбирать нужные столбцы для проверки на дубли и передавать их.  "
   ]
  },
  {
   "cell_type": "code",
   "execution_count": null,
   "metadata": {
    "id": "0dQEJsVRrRTd"
   },
   "outputs": [],
   "source": [
    "pagri_data_tools.check_duplicated()"
   ]
  },
  {
   "cell_type": "code",
   "execution_count": null,
   "metadata": {
    "id": "DqBYD3_HrRTe"
   },
   "outputs": [],
   "source": [
    "pagri_data_tools.check_duplicated_value_in_df(df)"
   ]
  },
  {
   "cell_type": "code",
   "execution_count": null,
   "metadata": {
    "id": "av15Ji-arRTe"
   },
   "outputs": [],
   "source": [
    "pagri_data_tools.find_columns_with_duplicates()"
   ]
  },
  {
   "cell_type": "markdown",
   "metadata": {
    "id": "z2yYzjTnrRTg"
   },
   "source": [
    ">Заполним пропуски в группах от 10 элементов"
   ]
  },
  {
   "cell_type": "code",
   "execution_count": null,
   "metadata": {
    "id": "rMurR-bdrRTg"
   },
   "outputs": [],
   "source": [
    "df[value_column] = pagri_data_tools.fill_na_with_function_by_categories(df, category_columns, value_column, func='median', minimal_group_size=10)"
   ]
  },
  {
   "cell_type": "code",
   "execution_count": null,
   "metadata": {
    "id": "aed6tzDkrRTi",
    "outputId": "23ae1ae6-5723-4b89-da0f-108cfe8bc08f"
   },
   "outputs": [
    {
     "data": {
      "text/html": [
       "<div>\n",
       "<style scoped>\n",
       "    .dataframe tbody tr th:only-of-type {\n",
       "        vertical-align: middle;\n",
       "    }\n",
       "\n",
       "    .dataframe tbody tr th {\n",
       "        vertical-align: top;\n",
       "    }\n",
       "\n",
       "    .dataframe thead th {\n",
       "        text-align: right;\n",
       "    }\n",
       "</style>\n",
       "<table border=\"1\" class=\"dataframe\">\n",
       "  <thead>\n",
       "    <tr style=\"text-align: right;\">\n",
       "      <th></th>\n",
       "      <th>missed</th>\n",
       "    </tr>\n",
       "  </thead>\n",
       "  <tbody>\n",
       "    <tr>\n",
       "      <th>total_income</th>\n",
       "      <td>63 (0.3%)</td>\n",
       "    </tr>\n",
       "  </tbody>\n",
       "</table>\n",
       "</div>"
      ],
      "text/plain": [
       "                 missed\n",
       "total_income  63 (0.3%)"
      ]
     },
     "metadata": {},
     "output_type": "display_data"
    }
   ],
   "source": [
    "pagri_data_tools.check_missed_value_in_df(df)"
   ]
  },
  {
   "cell_type": "markdown",
   "metadata": {
    "id": "2hnEoHY9rRTk"
   },
   "source": [
    ">Если есть дубли, и мы считаем, что это не дубли, а просто разделились данные,    \n",
    ">то объединеняем записи, которые имеют одинаковые значения ключевых признаков.  \n",
    ">`merge_duplicates`"
   ]
  },
  {
   "cell_type": "code",
   "execution_count": null,
   "metadata": {
    "id": "LlYjZU0rrRTl"
   },
   "outputs": [],
   "source": [
    "pagri_data_tools.merge_duplicates()"
   ]
  },
  {
   "cell_type": "markdown",
   "metadata": {
    "id": "LWBN6kefrRTm"
   },
   "source": [
    ">Если мы не уверены, что дубль является дублем и не хотим удалять, то можно  использовать  \n",
    ">маркировку дублей,  можно добавить новую колонку, которая будет содержать информацию о том,   \n",
    ">является ли строка дубликатом или нет.  \n",
    ">`df['is_duplicate'] = df.duplicated()`"
   ]
  },
  {
   "cell_type": "code",
   "execution_count": null,
   "metadata": {
    "id": "bxLFiDRdrRTn"
   },
   "outputs": [],
   "source": [
    "df['is_duplicate'] = df.duplicated()"
   ]
  },
  {
   "cell_type": "markdown",
   "metadata": {
    "id": "Xd_1LIY4rRTo"
   },
   "source": [
    ">Подумать, а можем ли мы обогатить данные, что разделит дубли.  \n",
    ">То есть возможно в наших данных нет какого-то столбца, и тогда дубли уже не будут дублями."
   ]
  },
  {
   "cell_type": "markdown",
   "metadata": {
    "id": "vXhJXTUTrRTp"
   },
   "source": [
    ">Если уверены, что это дубли, то удаляем их  \n",
    ">`df.drop_duplicates()`"
   ]
  },
  {
   "cell_type": "code",
   "execution_count": null,
   "metadata": {
    "id": "Y6M4W3yqrRTr"
   },
   "outputs": [],
   "source": [
    "df.drop_duplicates()"
   ]
  },
  {
   "cell_type": "markdown",
   "metadata": {
    "id": "c0oIFJ3rrRTs"
   },
   "source": [
    "###  Приведение данных к удобной форме"
   ]
  },
  {
   "cell_type": "markdown",
   "metadata": {
    "id": "kTgi0zcjrRTt"
   },
   "source": [
    ">Изменяем значения в столбцах на более удобные"
   ]
  },
  {
   "cell_type": "code",
   "execution_count": null,
   "metadata": {
    "id": "m_envHF-rRTu"
   },
   "outputs": [],
   "source": [
    "df.is_apartment.value_counts(dropna=False)\n",
    "app = df.is_apartment.apply(lambda x: 'да' if isinstance(x, bool) else 'нет').astype('category')\n",
    "app.value_counts(dropna=False)\n",
    "# df.debt = df.debt.apply(lambda x: 'есть' if x == '1' else 'нет').astype('category')"
   ]
  },
  {
   "cell_type": "markdown",
   "metadata": {
    "id": "CW_qHtwhrRTu"
   },
   "source": [
    ">Если у нас в столбце, например, стаж данные в днях, то это нужно преобразовать в года.  \n",
    ">Также если у нас в других столбцах данные в формате, который нужно изменить для лучшего анализа, то делаем это.  "
   ]
  },
  {
   "cell_type": "markdown",
   "metadata": {
    "id": "AaVGnbu-rRTv"
   },
   "source": [
    ">Округлим значения в поле дохода до целого.  \n",
    ">Целая часть выглядит реальной. А с дробной частью нужно разбираться почему стоько знаков.  "
   ]
  },
  {
   "cell_type": "code",
   "execution_count": null,
   "metadata": {
    "id": "m-XBu1ErrRTw",
    "outputId": "fbc65a14-4b53-4a99-9ada-3eb5272f9cd5"
   },
   "outputs": [
    {
     "data": {
      "text/html": [
       "<div>\n",
       "<style scoped>\n",
       "    .dataframe tbody tr th:only-of-type {\n",
       "        vertical-align: middle;\n",
       "    }\n",
       "\n",
       "    .dataframe tbody tr th {\n",
       "        vertical-align: top;\n",
       "    }\n",
       "\n",
       "    .dataframe thead th {\n",
       "        text-align: right;\n",
       "    }\n",
       "</style>\n",
       "<table border=\"1\" class=\"dataframe\">\n",
       "  <thead>\n",
       "    <tr style=\"text-align: right;\">\n",
       "      <th></th>\n",
       "      <th>children</th>\n",
       "      <th>age</th>\n",
       "      <th>education</th>\n",
       "      <th>family_status</th>\n",
       "      <th>gender</th>\n",
       "      <th>income_type</th>\n",
       "      <th>debt</th>\n",
       "      <th>total_income</th>\n",
       "      <th>purpose</th>\n",
       "    </tr>\n",
       "  </thead>\n",
       "  <tbody>\n",
       "    <tr>\n",
       "      <th>0</th>\n",
       "      <td>1</td>\n",
       "      <td>42</td>\n",
       "      <td>высшее</td>\n",
       "      <td>женат / замужем</td>\n",
       "      <td>F</td>\n",
       "      <td>сотрудник</td>\n",
       "      <td>0</td>\n",
       "      <td>253876</td>\n",
       "      <td>покупка жилья</td>\n",
       "    </tr>\n",
       "  </tbody>\n",
       "</table>\n",
       "</div>"
      ],
      "text/plain": [
       "   children  age education    family_status gender income_type debt  \\\n",
       "0         1   42    высшее  женат / замужем      F   сотрудник    0   \n",
       "\n",
       "   total_income        purpose  \n",
       "0        253876  покупка жилья  "
      ]
     },
     "metadata": {},
     "output_type": "display_data"
    }
   ],
   "source": [
    "df.total_income = df.total_income.round().astype('int32')\n",
    "df.head(1)"
   ]
  },
  {
   "cell_type": "markdown",
   "metadata": {
    "id": "CJenhxHBrRTy"
   },
   "source": [
    ">Посмотрим сколько у нас людей с полом XNA осталось"
   ]
  },
  {
   "cell_type": "code",
   "execution_count": null,
   "metadata": {
    "id": "9cMiVp9brRT0",
    "outputId": "e00e2be9-9d2f-4dbb-b9e8-dd3fc496f89e"
   },
   "outputs": [
    {
     "data": {
      "text/plain": [
       "1"
      ]
     },
     "metadata": {},
     "output_type": "display_data"
    }
   ],
   "source": [
    "(df.gender == 'XNA').sum()"
   ]
  },
  {
   "cell_type": "markdown",
   "metadata": {
    "id": "hZ4uKSDHrRT2"
   },
   "source": [
    ">Посмотрим кто это"
   ]
  },
  {
   "cell_type": "code",
   "execution_count": null,
   "metadata": {
    "id": "ht-FC10CrRT2",
    "outputId": "eb60b7a4-75ad-4302-e791-8e3c5b6066c9"
   },
   "outputs": [
    {
     "data": {
      "text/html": [
       "<div>\n",
       "<style scoped>\n",
       "    .dataframe tbody tr th:only-of-type {\n",
       "        vertical-align: middle;\n",
       "    }\n",
       "\n",
       "    .dataframe tbody tr th {\n",
       "        vertical-align: top;\n",
       "    }\n",
       "\n",
       "    .dataframe thead th {\n",
       "        text-align: right;\n",
       "    }\n",
       "</style>\n",
       "<table border=\"1\" class=\"dataframe\">\n",
       "  <thead>\n",
       "    <tr style=\"text-align: right;\">\n",
       "      <th></th>\n",
       "      <th>children</th>\n",
       "      <th>age</th>\n",
       "      <th>education</th>\n",
       "      <th>family_status</th>\n",
       "      <th>gender</th>\n",
       "      <th>income_type</th>\n",
       "      <th>debt</th>\n",
       "      <th>total_income</th>\n",
       "      <th>purpose</th>\n",
       "    </tr>\n",
       "  </thead>\n",
       "  <tbody>\n",
       "    <tr>\n",
       "      <th>10701</th>\n",
       "      <td>0</td>\n",
       "      <td>24</td>\n",
       "      <td>неоконченное высшее</td>\n",
       "      <td>гражданский брак</td>\n",
       "      <td>XNA</td>\n",
       "      <td>компаньон</td>\n",
       "      <td>0</td>\n",
       "      <td>203905</td>\n",
       "      <td>покупка недвижимости</td>\n",
       "    </tr>\n",
       "  </tbody>\n",
       "</table>\n",
       "</div>"
      ],
      "text/plain": [
       "       children  age            education     family_status gender  \\\n",
       "10701         0   24  неоконченное высшее  гражданский брак    XNA   \n",
       "\n",
       "      income_type debt  total_income               purpose  \n",
       "10701   компаньон    0        203905  покупка недвижимости  "
      ]
     },
     "metadata": {},
     "output_type": "display_data"
    }
   ],
   "source": [
    "df[df.gender == 'XNA']"
   ]
  },
  {
   "cell_type": "markdown",
   "metadata": {
    "id": "CJgCUEXOrRT4"
   },
   "source": [
    ">Всего 1 человек. И мы не можем идентифицировать его пол.  \n",
    ">Удалим, чтобы не мешало анализировать графики.  "
   ]
  },
  {
   "cell_type": "code",
   "execution_count": null,
   "metadata": {
    "id": "X-g7we0IrRT4",
    "outputId": "aa941ff0-d0e2-47cd-ddc2-c5c8f516f6b2"
   },
   "outputs": [
    {
     "data": {
      "text/plain": [
       "21402"
      ]
     },
     "metadata": {},
     "output_type": "display_data"
    }
   ],
   "source": [
    "df.shape[0]"
   ]
  },
  {
   "cell_type": "code",
   "execution_count": null,
   "metadata": {
    "id": "3BkYgPOXrRT6",
    "outputId": "3b42bd6c-748c-4ce6-84d5-9aa54c2567c0"
   },
   "outputs": [
    {
     "data": {
      "text/plain": [
       "21401"
      ]
     },
     "metadata": {},
     "output_type": "display_data"
    }
   ],
   "source": [
    "df.drop(df[df.gender == 'XNA'].index, inplace=True)\n",
    "df['gender'] = df['gender'].cat.remove_unused_categories()\n",
    "df.value_counts(dropna=False)"
   ]
  },
  {
   "cell_type": "code",
   "execution_count": null,
   "metadata": {
    "id": "wp4K6OEWrRT8"
   },
   "outputs": [],
   "source": [
    "df.shape[0]"
   ]
  },
  {
   "cell_type": "markdown",
   "metadata": {
    "id": "hY0x3rp3rRT-"
   },
   "source": [
    "### Категоризация данных и создание новых переменных"
   ]
  },
  {
   "cell_type": "markdown",
   "metadata": {
    "id": "nxmkGnzcrRT_"
   },
   "source": [
    ">Если у нас есть категориальная переменная, в которйо больше 3 значений, то нужно подумать а не можем ли мы из нее сделать  \n",
    ">новую категориальную переменную с 2-3 значениями, но тут важно, чтобы это несло смысл. Тут нам может помочь ИИ. И сообразительнсоть. Часто сразу не заментны возможные категории,  котоыре несут смысл.  \n",
    ">Тут исходим из смысла, наша задача созадть перменную, которая добавит нашему исследованию новый смысл, даст как бы новый разрез, и это улучшит   \n",
    ">качество наших выводов.    \n",
    ">Например, у нас столбец семейный стату, и там 6-7 статусов, мы можем собрать их в 2 семейный статус и не семейный статус.  \n",
    ">Тут отлично помогает ИИ. Пишешь ему название переменной, униальные значения в ней,  \n",
    ">и просишь придумать возможную новую категориальнуюд переменную из 2-3 значений.  "
   ]
  },
  {
   "cell_type": "markdown",
   "metadata": {
    "id": "_gi5wyB7rRT_"
   },
   "source": [
    ">Вообще при категоризации ИИ очень хорошо помогает, он может дать идеи возможных категорий на оснвое имеющихся значений.  \n",
    ">Поэтому можно все столбцы прогонять через ИИ и смотреть что он предлагает, если есть то , что даст новый разрез нашим данным, то созадем категорийю.  "
   ]
  },
  {
   "cell_type": "markdown",
   "metadata": {
    "id": "PIK-UKD8rRUA"
   },
   "source": [
    ">Важно, когда мы создаем категории, то всегда смотреть value_counts.  \n",
    ">И делаем так, чтобы в каждой группе было достаточно элементов, хотя бы больше 30, а лучше больше 100.  \n",
    ">Иначе выводы будут некоректные.  \n",
    ">В идеале, чтобы количество элементов в каждой группе было от 1000.  Лучше изменить диапазон и забрать часть данных от другой категории.  "
   ]
  },
  {
   "cell_type": "markdown",
   "metadata": {
    "id": "sLoocoasrRUD"
   },
   "source": [
    ">Важно, когда создаем категориальную переменную, то даем ей тип `category`  \n",
    ">Чтобы она появилась на графиках (так как идет фильтрация на числовые и категориальные)  \n",
    ">и чтобы места меньше занимала"
   ]
  },
  {
   "cell_type": "markdown",
   "metadata": {
    "id": "sfH_nscrrRUD"
   },
   "source": [
    ">Придумываем какие колонки можно дополнительно сделать из имеющихся.  \n",
    ">Например у нас есть колонка длительность звонков, и 0 это пропущенный звонок,  \n",
    ">мы можем сделать колонку is_missed, в которой будет true или false  "
   ]
  },
  {
   "cell_type": "markdown",
   "metadata": {
    "id": "vJx5C4v1rRUF"
   },
   "source": [
    ">Стараемся сделать категориальную колонку с да нет для всех возможных колонок.  \n",
    ">Например, у нас колонка количество детей и есть 0, 1, 2, 3, 4, 5 мы созадем колнку  \n",
    ">есть дети или нет. 2 значения  \n",
    ">Это очень полезно, так как мы можем посмотреть это на графиках и проверить гипотезы  \n",
    ">стат тестами.  "
   ]
  },
  {
   "cell_type": "markdown",
   "metadata": {
    "id": "P7ko33fPrRUH"
   },
   "source": [
    ">Смотрим на колонки и думаем можно ли из нее сделать колонку с 2 значениями,  \n",
    ">например есть и нет что-то"
   ]
  },
  {
   "cell_type": "markdown",
   "metadata": {
    "id": "HIgiAmEtrRUH"
   },
   "source": [
    ">Очень важно, когда мы создаем новые колонки, в которых используем несколько дургих, то нужно проверить распределение этой новой переменной, особенно выбросы.  \n",
    ">Например, у нас начальная и конечная дата сессии и мы считаем длительность сессии. Вот тут нужно посмотреть какая минимальная длительность  \n",
    ">и какая максимальная. Ну и естественно проверить есть ли длительность 0 и меньше нуля.  \n",
    ">Таким образом мы можем найти инсайты уже после создания новых колонок, хотя в изначальных данных этих инсайдов не было видно.  "
   ]
  },
  {
   "cell_type": "markdown",
   "metadata": {
    "id": "9BBErE30rRUI"
   },
   "source": [
    ">Обычная категоризация данных"
   ]
  },
  {
   "cell_type": "markdown",
   "metadata": {
    "id": "Zl1X--i-rRUJ"
   },
   "source": [
    ">Категоризация помогает избежать проблемы с разреженными данными, когда у нас есть слишком много групп с небольшим количеством элементов.   \n",
    ">Это может привести к некорректным выводам и ошибкам в анализе.\n",
    ">Категоризация нужна, чтобы образовать группы, в которых достаточно значений для использования статистических методов.  \n",
    ">И вообще, если в группе 1-10 элементов, например у нас возраст пользователей и 5 человек с возрастом 22, 3 человека с возрастом 23 и так далее.  \n",
    ">Мы не можем разбивать по таким группам, так как их размер небльшой и выводы будут некорректные, поэтому нам нужно собрать их в группы,  \n",
    ">чтобы у нас были группы с достаточным размером.  "
   ]
  },
  {
   "cell_type": "markdown",
   "metadata": {
    "id": "kph74EczrRUK"
   },
   "source": [
    "- Если у нас категориальная переменная имеет много значений, то мы не можем номрально с ней работать.  \n",
    ">Так как мы не можем построить графики по ним, так как их много и они не числовые. Не можем сравнить их все.  \n",
    ">Поэтому нам нужно сократить категории.  \n",
    "- Нужно посмотреть на данные и подумать можем ли мы разделить их по сегментам рынка или по другим категориям, которые нам помогут.  \n",
    "- Мы можем категоризировать на основе и числовых и категориальных столбцов. То есть мы можем из категориальной переменной сделать  \n",
    ">другую категориальную, уменьшив или увеличив разбиение.   \n",
    "- добавление категорий обогощает данные, при чем категории могут формироваться не из одной колонки, а из серии, то есть чтобы попасть  \n",
    ">в определенную категорию значения столбцов должно быть такое то, а не только один столбец определяет категорию.  \n",
    "- категории могут быть да нет, то есть состоять из двух значений, например, у нас есть данные о рекламе и столбец где она показвалась,  \n",
    ">и у нас много много разных устройств. Мы можем разбить на да нет, то есть показвалась реклама по телеку или нет"
   ]
  },
  {
   "cell_type": "markdown",
   "metadata": {
    "id": "xc_7l0EvrRUN"
   },
   "source": [
    ">Мы можем разбить данные на категории двумя способами\n",
    "- разбивать на равные части  \n",
    ">подходит, когда\n",
    ">    - диапазон значений является равномерным и имеет линейную структуру  \n",
    ">    - мы понимаем на какие интервалы хотим разбить данные    \n",
    ">    - мы хотим разделить диапазон значений на равные части для удобства анализа.\n",
    "- разбить на основе квантилей  \n",
    ">подходит, если   \n",
    ">    - диапазон значений имеет неравномерную структуру\n",
    ">    - мы не можем понять какие интервалы выбрать\n",
    ">    - хотим выделить группы с конкретными характеристиками (например, группы с низким доходом, средним доходом и высоким доходом)"
   ]
  },
  {
   "cell_type": "markdown",
   "metadata": {
    "id": "YMXSY5vJrRUO"
   },
   "source": [
    ">Выбираем нужные способ и используем  \n",
    ">`create_category_column`"
   ]
  },
  {
   "cell_type": "markdown",
   "metadata": {
    "id": "jfbe1yYIrRUQ"
   },
   "source": [
    ">Чтобы посмотреть распределение по квантилям используем `pagri_data_tools.quantiles_columns()`"
   ]
  },
  {
   "cell_type": "code",
   "execution_count": null,
   "metadata": {
    "id": "4MCHj0_yrRUR"
   },
   "outputs": [],
   "source": [
    "pagri_data_tools.quantiles_columns()"
   ]
  },
  {
   "cell_type": "code",
   "execution_count": null,
   "metadata": {
    "id": "wbLt0cChrRUR"
   },
   "outputs": [],
   "source": [
    "pagri_data_tools.create_category_column()"
   ]
  },
  {
   "cell_type": "markdown",
   "metadata": {
    "id": "6-TcnFAGrRUS"
   },
   "source": [
    ">Сделаем следующие группы\n",
    "- до 30 лет\n",
    "- от 30 до 40 лет\n",
    "- от 40 до 50 лет\n",
    "- от 50 до 60 лет\n",
    "- старше 60 лет"
   ]
  },
  {
   "cell_type": "code",
   "execution_count": null,
   "metadata": {
    "id": "l52cwl7hrRUT"
   },
   "outputs": [],
   "source": [
    "labels = ['до 30', '30-40', '40-50', '50-60', 'старше 60']\n",
    "bins = [-np.inf, 30, 40, 50, 60, np.inf]"
   ]
  },
  {
   "cell_type": "code",
   "execution_count": null,
   "metadata": {
    "id": "nzu-57PVrRUU",
    "outputId": "eba9bd26-c261-441a-ce37-66e7f4818fcf"
   },
   "outputs": [
    {
     "data": {
      "text/plain": [
       "30-40        5704\n",
       "40-50        5241\n",
       "50-60        4520\n",
       "до 30        3804\n",
       "старше 60    2132\n",
       "Name: age_cat, dtype: int64"
      ]
     },
     "metadata": {},
     "output_type": "display_data"
    }
   ],
   "source": [
    "df['age_cat'] = pagri_data_tools.create_category_column(df.age, labels=labels, bins=bins)\n",
    "df['age_cat'].value_counts()"
   ]
  },
  {
   "cell_type": "markdown",
   "metadata": {
    "id": "aSrdH3e6rRUX"
   },
   "source": [
    ">Категоризация с использованием лемматизации"
   ]
  },
  {
   "cell_type": "markdown",
   "metadata": {
    "id": "m0yDsdsIrRUX"
   },
   "source": [
    ">Если у нас есть столбец и мы хотим его лематизировать, то используем функцию  \n",
    ">`lemmatize_column`"
   ]
  },
  {
   "cell_type": "markdown",
   "metadata": {
    "id": "ALOPQaDtrRUZ"
   },
   "source": [
    ">Чтобы создать лемы для словаря категоризации, можно посмотреть имеющиеся предложения и использовать\n",
    ">```\n",
    ">m = Mystem()\n",
    ">m.lemmatize('образованием')\n",
    ">```"
   ]
  },
  {
   "cell_type": "code",
   "execution_count": null,
   "metadata": {
    "id": "DVE5D17irRUb"
   },
   "outputs": [],
   "source": [
    "m = Mystem()\n",
    "m.lemmatize('образованием')"
   ]
  },
  {
   "cell_type": "code",
   "execution_count": null,
   "metadata": {
    "id": "vZ4-3Z4vrRUd"
   },
   "outputs": [],
   "source": [
    "pagri_data_tools.lemmatize_column()"
   ]
  },
  {
   "cell_type": "code",
   "execution_count": null,
   "metadata": {
    "id": "9MSDkMWcrRUe"
   },
   "outputs": [],
   "source": [
    "categorization_dict = {\n",
    "    'недвижимость': ['жилье', 'недвижимость']\n",
    "    , 'образование': ['образование']\n",
    "    , 'автомобиль': ['автомобиль', 'машина']\n",
    "    , 'свадьба': ['свадьба']\n",
    "}"
   ]
  },
  {
   "cell_type": "code",
   "execution_count": null,
   "metadata": {
    "id": "3B6vtIrbrRUg",
    "outputId": "72909a7c-892e-419f-eafc-09f1abdae387"
   },
   "outputs": [
    {
     "data": {
      "text/plain": [
       "недвижимость    10779\n",
       "автомобиль       4288\n",
       "образование      3997\n",
       "свадьба          2337\n",
       "Name: purpose_new, dtype: int64"
      ]
     },
     "metadata": {},
     "output_type": "display_data"
    }
   ],
   "source": [
    "df['purpose_new'] = pagri_data_tools.categorize_column_by_lemmatize(df.purpose, categorization_dict, use_cache=True)\n",
    "df['purpose_new'].value_counts()"
   ]
  },
  {
   "cell_type": "markdown",
   "metadata": {
    "id": "zmBOmctNrRUj"
   },
   "source": [
    ">Если нужно, уддалим старую колонку"
   ]
  },
  {
   "cell_type": "code",
   "execution_count": null,
   "metadata": {
    "id": "tJ51aS1mrRUk",
    "outputId": "87244319-8519-4972-e67e-e931034a26c7"
   },
   "outputs": [
    {
     "data": {
      "text/html": [
       "<div>\n",
       "<style scoped>\n",
       "    .dataframe tbody tr th:only-of-type {\n",
       "        vertical-align: middle;\n",
       "    }\n",
       "\n",
       "    .dataframe tbody tr th {\n",
       "        vertical-align: top;\n",
       "    }\n",
       "\n",
       "    .dataframe thead th {\n",
       "        text-align: right;\n",
       "    }\n",
       "</style>\n",
       "<table border=\"1\" class=\"dataframe\">\n",
       "  <thead>\n",
       "    <tr style=\"text-align: right;\">\n",
       "      <th></th>\n",
       "      <th>children</th>\n",
       "      <th>dob_years</th>\n",
       "      <th>education</th>\n",
       "      <th>family_status</th>\n",
       "      <th>gender</th>\n",
       "      <th>income_type</th>\n",
       "      <th>debt</th>\n",
       "      <th>total_income</th>\n",
       "      <th>purpose</th>\n",
       "      <th>dob_cat</th>\n",
       "      <th>total_income_cat</th>\n",
       "    </tr>\n",
       "  </thead>\n",
       "  <tbody>\n",
       "    <tr>\n",
       "      <th>0</th>\n",
       "      <td>1</td>\n",
       "      <td>42</td>\n",
       "      <td>высшее</td>\n",
       "      <td>женат / замужем</td>\n",
       "      <td>F</td>\n",
       "      <td>сотрудник</td>\n",
       "      <td>0</td>\n",
       "      <td>253876</td>\n",
       "      <td>Недвижимость</td>\n",
       "      <td>40-50</td>\n",
       "      <td>200-500 тыс</td>\n",
       "    </tr>\n",
       "  </tbody>\n",
       "</table>\n",
       "</div>"
      ],
      "text/plain": [
       "   children  dob_years education    family_status gender income_type debt  \\\n",
       "0         1         42    высшее  женат / замужем      F   сотрудник    0   \n",
       "\n",
       "   total_income       purpose dob_cat total_income_cat  \n",
       "0        253876  Недвижимость   40-50      200-500 тыс  "
      ]
     },
     "metadata": {},
     "output_type": "display_data"
    }
   ],
   "source": [
    "df = df.drop('purpose', axis=1).rename(columns={'purpose_new': 'purpose'})\n",
    "df.head(1)"
   ]
  },
  {
   "cell_type": "markdown",
   "metadata": {
    "id": "O-FSSYXzrRUm"
   },
   "source": [
    ">С помощью лематизации мы можем сократить количество категорий.  "
   ]
  },
  {
   "cell_type": "markdown",
   "metadata": {
    "id": "GZLsyoUyrRUo"
   },
   "source": [
    ">Например мы можем выделить группы:\n",
    "- операции с автомобилем (ключевое слово - автомобиль)\n",
    "- операции с недвижимостью (ключевые слова: жилье, недвижимость)\n",
    "- проведение свадьбы (ключевое слово: свадьба)\n",
    "- получение образования (ключевое слово: образование)\n"
   ]
  },
  {
   "cell_type": "markdown",
   "metadata": {
    "id": "Y2WWh3NRrRUr"
   },
   "source": [
    ">Используем функцию  \n",
    ">`categorize_column_by_lemmatize`"
   ]
  },
  {
   "cell_type": "code",
   "execution_count": null,
   "metadata": {
    "id": "mL1cesbvrRUs"
   },
   "outputs": [],
   "source": [
    "pagri_data_tools.categorize_column_by_lemmatize()"
   ]
  },
  {
   "cell_type": "markdown",
   "metadata": {
    "id": "a1q9R5bcrRUt"
   },
   "source": [
    "Из времени также можно сделать категориальный переменные, например, создать переменную для времени заправки, если больше 1 минуты, то долгая заправка, иначе короткая и так далее."
   ]
  },
  {
   "cell_type": "markdown",
   "metadata": {
    "id": "rTusGV33rRUw"
   },
   "source": [
    "ВАЖНО подумать какие переменные мы можем создать не только категориальные, но и числовые и временные.  \n",
    "Например, обрезание времени, чтобы получить дату по часам и прочее,"
   ]
  },
  {
   "cell_type": "markdown",
   "metadata": {
    "id": "se_ow21DrRUy"
   },
   "source": [
    ">Если мы хотим преобразовать категории в числа, то мы можем использовать\n",
    "- lable encoding  \n",
    ">Заменяем быквы числами. Хорошо работает, когда у нас порядковые категориальные переменные.  \n",
    ">Не забываем про порядок, если у нас алфавитный порядок наших категорий соотвествует числовому, то ок,  \n",
    ">если нет, то нам нужно самим определить порядок чисел, чтобы они соответствовали категориям в нужном порядке.  \n",
    "- one hot encoding  \n",
    ">Если у нас категориальная переменная не упорядочиваемая, то лучше использовать one hot encoding, чтобы разница между числами не вносила шум,  \n",
    ">так как черный и белый и красный цвет закодированные 1, 2, 3 вносят смысл количества, но они не имеют этого свойства.  \n",
    "-  target encoding  \n",
    ">замена категориальной переменной на каую-то статистику по одной из категорий внутри этой переменной.  \n",
    ">Например у нас категориальная переменная это наличие задержки. Значение задержан / незадержан. Мы кодируем их как 0 и 1. Далее мы берем и считаем по каждой группе (для задержан и для незадержан)  \n",
    ">статистику, например, среднее и получаем столбец, где вместо каждой буквы будет ее среднее.  \n",
    ">Тут важно делать регуляризацию. Так как маленькие группы могут иметь сильно  зашумленные статистики, так как если у нас  \n",
    ">группа из 5 значений, то среди них может быть легко экстремальное одно и оно сбивает статистику, поэтому добавляем штраф всем статистикам.  \n",
    ">Регуляризация это что-то похожее на сглаживание.  \n",
    ">Как это делается\n",
    ">    - берем считаем среднее по таргету (целевой переменной, то есть той, по которой мы счтаем статистику) всей таблице (то есть не делим на категории)  \n",
    ">    - Далее используем следующую формулу для сглаженного значения среднего по конкретной группе:   \n",
    ">      (среднее по группе * количество элементов в группе + среднее по таргету без учета категорий * размер регуляризирующей группы) / (количество элементов в категории + размер регуляризирующей группы)  \n",
    ">      Количество элементов в регуляризационнной группе выбирает эмперически. То есть это количество элементов, которым мы сглаживаем.    \n",
    ">      Смысл в том, что мы берем сколько-то элементов с занчением для всех категорий и сглаживаем им наши отдельные категории.    \n",
    ">    - Размер регуляризирующей группы обычно выбирают с помощью grid search, то есть берут цикл для размера этой группы и считают результат модели для каждого размера,  \n",
    ">    и потом выбирают тот размер, для которого результат лучше.    \n",
    ">    \n",
    ">`target_encoding_linear`  \n",
    ">`target_encoding_bayes`      \n",
    ">    \n",
    ">\n"
   ]
  },
  {
   "cell_type": "code",
   "execution_count": null,
   "metadata": {
    "id": "2SATa2Z7rRUz"
   },
   "outputs": [],
   "source": [
    "pagri_data_tools.target_encoding_linear()\n",
    "pagri_data_tools.target_encoding_bayes()"
   ]
  },
  {
   "cell_type": "markdown",
   "metadata": {
    "id": "Eskil1N5rRU1"
   },
   "source": [
    ">Использование кластеризации для категоризации"
   ]
  },
  {
   "cell_type": "markdown",
   "metadata": {
    "id": "ClIT7kHOrRU2"
   },
   "source": [
    ">Можно понизить размерность до 3  \n",
    ">и построить 3 д график  \n",
    ">По этому графику посмотреть есть ли у нас возможные кластеры  \n",
    ">Если есть, то выделить их  \n",
    ">Причем для понижения размерности можно брать все столбцы, а можно только часть."
   ]
  },
  {
   "cell_type": "markdown",
   "metadata": {
    "id": "cbbc6GzXrRU4"
   },
   "source": [
    "### Обогощение таблиц"
   ]
  },
  {
   "cell_type": "markdown",
   "metadata": {
    "id": "piDQ8elSrRU6"
   },
   "source": [
    ">Проверка соответствия:   \n",
    ">Если у нас в разных таблицах есть значения, которые дожны быть одинакоые,    \n",
    ">то нужно проверить, что значения в одном столбце соответствуют значениям в другом столбце."
   ]
  },
  {
   "cell_type": "code",
   "execution_count": null,
   "metadata": {
    "id": "0bhibjqYrRU8"
   },
   "outputs": [],
   "source": [
    "df['column_name1'].equals(df['column_name2'])"
   ]
  },
  {
   "cell_type": "markdown",
   "metadata": {
    "id": "BDcFFzotrRU-"
   },
   "source": [
    ">Обоготить данные можно следующими способами\n",
    "- взять поле нашей таблицы и найти дополнительные данные в интернете или ещё где-то и потом связать с нашей колонкой по этому полю  \n",
    ">Самое просто это дата, если у нас есть дата, то мы можем много разной доп информации внести в наши данные связывая по дате.  \n",
    ">Также, например, у нас есть какие-то коды чего-то, мы ищем информацию по этим кодам и находим табличку с доп инфой по этим кодам и можем обоготить ими   \n",
    ">нашу таблицу. Например, у нас города или страны, мы можем по ним также внести доп инфу из какого-то источника, которая нам поможет.  \n",
    ">Вообще любое поле нашей таблицы это потенцильная нить для обогощения. Главное понять с чем полезным мы можем соеденить  \n",
    ">через конкретное поле, чтобы получить больше полезной информации для анализа, по сути для детализации наших зависимостей или для поиска  \n",
    ">новых зависимостей и инсайтов в них.  \n",
    ">Процесс следующий - мы берем каждую колонку нашего дата сета и думаем, с чем через нее мы можем связать и если придумываем, то идешь ищем эту информацию и  \n",
    ">в итоге соединяем.  \n",
    "- Можно пойти от обратного. Сначал подумтаь какие данные нам могут помочь и поискать их в интернете например, а потом уже думать как их соеденить с нашими   \n",
    ">данными. Оба способа лучше делать одновременно.  "
   ]
  },
  {
   "cell_type": "markdown",
   "metadata": {
    "id": "bA00N4dWrRU_"
   },
   "source": [
    ">Каждый раз, когда мы работаем с дата сетом, мы должны понять что является сущностью этого дата сета.  \n",
    ">Например событие, человек и прочее.  \n",
    ">Далее нам нужно поянть а можем ли мы его идентифицировать по текущим данным (не всегда есть уникальный ай ди).   \n",
    ">Если не можем, то нужно думта как обогатить данные, чтобы четко идентифицировать сущности"
   ]
  },
  {
   "cell_type": "markdown",
   "metadata": {
    "id": "AhRG5VZdrRVB"
   },
   "source": [
    ">Что нужно обязательно првоерить после соединения\n",
    "- если мы соединяем по полю, которое уникально в обеих таблицах\n",
    ">    - количество строк в левом датафрейме равно количеству строк в итоговом\n",
    ">    - параметры каждого дата сета не изменились (если мы соединили правильно, то итоговые суммы по столбцам не должны измениться)\n",
    ">        - используем `df.sum(numeric_only=True)` для каждой таблицы до соединения и для общей таблицы и сравниваем значения\n",
    ">        - можно использвоать `df.describe` также до и после объединения и сравнивать параметры\n",
    "- если у нас в одной из колонок для соединения не уникальные значения (то есть для одной строки в левой таблице будет несколько в итоговй)    \n",
    ">    - Сначала группируем таблицы, чтобы поле для соединения в обеих таблицах было уникальное\n",
    ">    и применяем предыдущий шаг с количеством строк в левой и итоговой и суммой значений в левой и итоговой одинаковой\n",
    ">    - Если нам нужно соеденить без группировки (но это редко может быть, поэтому нужно подумать точно ли не моежм сгруппировать)  \n",
    ">    тогда нет выбора и остаются только следующие варианты  \n",
    ">        - если в левой таблице уникальные записи в колонке, по которйо соединяем    \n",
    ">            - тогда считаем сколько было записей в левой таблице в колонке для соединения и сравниваем с количеством **уникальных** записей в итоговой  \n",
    ">            они должны совпадать, но тут важно в итоговой брать уникальные записи\n",
    ">        - есил и в левой и правой нет уникальных\n",
    ">            - тут считаем сколько **уникальных** в левой до и сколько **уникальных** в итоговой, должно совпадать"
   ]
  },
  {
   "cell_type": "markdown",
   "metadata": {
    "id": "b6GMRld-rRVC"
   },
   "source": [
    ">Если у нас что-то не сходится после соединения таблиц, то нужно внимально изучить это.  \n",
    ">Тут может быть инсайт (кто-то не правильно вносит информацию, какие-то значения неверные или кто-то что-то хотел спрятать, не указать и прчоее).  \n",
    ">Когда видим нестыковки после соединения таблиц, то должна загораться красная лампочка. Это потенциальный инсайт, баг, который мы можем найти и сообщить, чтобы его починили."
   ]
  },
  {
   "cell_type": "markdown",
   "metadata": {
    "id": "wjcED5tlrRVF"
   },
   "source": [
    ">помним, что метод соединения inner стоит по умолчанию в merge"
   ]
  },
  {
   "cell_type": "markdown",
   "metadata": {
    "id": "q3fWYVLarRVI"
   },
   "source": [
    ">В колонках, по которым будем соеднить, проверяем, нет ли пропусков, пропуски нужно заменить нулями.  \n",
    ">Иначе будет либо ошибка, либо пропуски сджойнятся с пропусками"
   ]
  },
  {
   "cell_type": "markdown",
   "metadata": {
    "id": "uoysR7t4rRVJ"
   },
   "source": [
    ">Проблема справочников  \n",
    ">При объединение таблиц важно помнить про то, что в разных таблицах не только названия столбцов может быть разное,  \n",
    ">но и одно значение может быть записано по разному в разных таблицах, например, названия профессий, названия городов,  \n",
    ">имя в одной таблице на русском, а в другой на английском, номер телефона с черточкой или плюсом и без черточки или плюса.  \n",
    ">Поэтому не забываем привести все значения таблиц к нижнему регистру, чтобы не было проблем разными регистрами для одного слова"
   ]
  },
  {
   "cell_type": "markdown",
   "metadata": {
    "id": "GyrDhiARrRVL"
   },
   "source": [
    ">Проблема временных зон  \n",
    ">В одной таблице может быть выгрузка по местному времени, а в другом по московскому  \n"
   ]
  },
  {
   "cell_type": "markdown",
   "metadata": {
    "id": "xvOu-DnnrRVN"
   },
   "source": [
    ">Проблема курсов валют  \n",
    ">Разыне системы могут брать курс за разные промежутки вермени, например, одна система берет курс в гугле (раз в час обновляется),  \n",
    ">а другая система берет курс в ЦБ (обновляется раз в сутки)  \n",
    ">И поэтому итоговые резултаты могут не состыковаться, поэтому, когда видим курсы валют, то нужно убедиться. что они взяты из одного испточника  \n",
    ">и за один промежуток времени  "
   ]
  },
  {
   "cell_type": "markdown",
   "metadata": {
    "id": "ReBcrZ1HrRVO"
   },
   "source": [
    ">Когда мы работаем с данными, нам важно четко идентифицировать клиентов, событие или другую сущность, с которой мы работаем.  \n",
    ">Иначе у нас будет шум, так как мы одного и того же клиента учтем более одного  раза."
   ]
  },
  {
   "cell_type": "markdown",
   "metadata": {
    "id": "B1KQVEXDrRVR"
   },
   "source": [
    ">Как можно обоготить данные, чтобы лучше идентифицировать сущности\n",
    "- Добавить для клиента email, телефон, устройство, 4 цифры карты и другое, что может помочь его идентифицировать  \n",
    ">    Это важно так как у клиента могут быть разные телефоны, устройства, карты, но все это вместе поможет его идентифицировать точнее\n",
    "- Добавить для события локацию, погоду, связанные событие, праздники, что поможет нам идентифицировать событие   "
   ]
  },
  {
   "cell_type": "markdown",
   "metadata": {
    "id": "pivCz8UGrRVT"
   },
   "source": [
    "### Промежуточный вывод"
   ]
  },
  {
   "cell_type": "markdown",
   "metadata": {
    "id": "fEqgwfVYrRVV"
   },
   "source": [
    ">пишем как обработали данные, например"
   ]
  },
  {
   "cell_type": "markdown",
   "metadata": {
    "id": "mZWnmjS0rRVX"
   },
   "source": [
    "- Удалили колонки с id образования и семейного статуса, так как нам для графиков лучше подойдут названия, а не id.\n",
    "- Колонка со стажем имеет совершенно некорректные данные. Чтобы не внести искажение в анализ, удалим эту колонку.\n",
    "- Удалили отрицательные значения в колонке с количеством детей, которые составляли 0,2% от общего количества записей в данных."
   ]
  },
  {
   "cell_type": "markdown",
   "metadata": {
    "id": "W8I8KyWWrRVZ"
   },
   "source": [
    "## Расчет метрик"
   ]
  },
  {
   "cell_type": "markdown",
   "metadata": {
    "id": "ERfA6A-4rRVb"
   },
   "source": [
    "### Метрики продукта"
   ]
  },
  {
   "cell_type": "markdown",
   "metadata": {
    "id": "Jy5xOMxqrRVc"
   },
   "source": [
    ">тут будут расчеты продуктовых метрик"
   ]
  },
  {
   "cell_type": "markdown",
   "metadata": {
    "id": "Tw-W-_1KrRVd"
   },
   "source": [
    "### Экономические метрики"
   ]
  },
  {
   "cell_type": "markdown",
   "metadata": {
    "id": "DDmTs8l7rRVf"
   },
   "source": [
    ">тут будут расчеты экономических метрик"
   ]
  },
  {
   "cell_type": "markdown",
   "metadata": {
    "id": "enaReeRqrRVj"
   },
   "source": [
    ">Если расчет метрик является важным аспектом вашего исследования и требует подробного описания, то создание отдельной главы будет лучшим решением.  \n",
    ">Если в этом разделе будет немного расчетов, то можно сделать расчеты метрик разделом предобработки данных"
   ]
  },
  {
   "cell_type": "markdown",
   "metadata": {
    "id": "Q3Hi6DGJrRVl"
   },
   "source": [
    ">Расчитываем разные метрики на основе имеющихся данных и тех, которыми смогли обогатить данные"
   ]
  },
  {
   "cell_type": "markdown",
   "metadata": {
    "id": "-TuQtWlvrRVm"
   },
   "source": [
    ">Важно следить за количеством недель в году, если мы создаем столбец месяца.  \n",
    ">Проверять чтобы у нас не появлялась неделя дополнительная, из за того, что мы захватили предыдущий год"
   ]
  },
  {
   "cell_type": "markdown",
   "metadata": {
    "id": "54ysvmyyrRVo"
   },
   "source": [
    "### Когортный анализ"
   ]
  },
  {
   "cell_type": "markdown",
   "metadata": {
    "id": "WizFUBpRrRVq"
   },
   "source": [
    ">Не забывать про когортный анализ. Если у нас есть параметр, по которому мы можем наши данные разбить на когорты, то  \n",
    ">нужно разложить на когорты и посмотреть динамику по когортам.  \n",
    ">Когорты это например, пользователи пришедшие в одни день или месяц.  \n",
    ">Если мы объеденим пользователей в когорты и посмотрим динамику какого-то параметра по месяцам например, то увидим как изменяется.  \n",
    ">Тут также нужно помнить, что если значение например за 3 месяц больше значения за 4 месяц, то это ничего не значит само по себе.  \n",
    ">Так как мы имеем дело с выборкой, то нам нужно проверить статистически значимая это разница.  \n",
    ">Тут нам понядобятся стат тесты.  \n"
   ]
  },
  {
   "cell_type": "markdown",
   "metadata": {
    "id": "olgV4M0jrRVr"
   },
   "source": [
    "### Промежуточный вывод"
   ]
  },
  {
   "cell_type": "markdown",
   "metadata": {
    "id": "1I_zo9ZhrRVs"
   },
   "source": [
    "## Анализ корреляций между переменными"
   ]
  },
  {
   "cell_type": "markdown",
   "metadata": {
    "id": "9qxC2T4GrRVs"
   },
   "source": [
    "ВАЖНО  \n",
    "проверить, что все категориальные переменные по прежнему имеют категориальный тип, чтобы при анализе они не поетрялись"
   ]
  },
  {
   "cell_type": "code",
   "execution_count": null,
   "metadata": {
    "id": "y0caUtRdrRVt"
   },
   "outputs": [],
   "source": [
    "df.dtypes"
   ]
  },
  {
   "cell_type": "markdown",
   "metadata": {
    "id": "3Owv5IBprRVu"
   },
   "source": [
    "### Исследование корреляционных связей"
   ]
  },
  {
   "cell_type": "markdown",
   "metadata": {
    "id": "b8MOGmSbrRVv"
   },
   "source": [
    ">Топ n значений одного столбца по значениям в другом\n",
    ">Сделать функцию, чтобы в столбцах, где бльше 20 уникльных значений посмотреть топ n значений по другой колонке.  \n",
    ">Например, топ 10 покупателей по сумме покупок и прочее.  \n",
    ">Идея в том, что если  в столбце до 20 уникальных значений, то мы проанализируем комбинации с другими стобцами на графиках.  \n",
    ">А вот если у нас столбец не числовой и в нем больше 20 уникальных значений, то на графике мы не сможем понять топ n."
   ]
  },
  {
   "cell_type": "markdown",
   "metadata": {
    "id": "uKU6kcA_rRVw"
   },
   "source": [
    ">Изучаем топ n значений в категориальных столбцах датафрейма, где значений больше порогового, по значению в столбце value_column.  \n",
    ">Тут можно делать разные топы, использовать разные функции.  \n",
    ">Задача изучить то, что мы не сможем изучить на графиках из-за болшого количества занчений в категориальной переменной,  \n",
    ">поэтому мы берем топ n значений.  "
   ]
  },
  {
   "cell_type": "code",
   "execution_count": null,
   "metadata": {
    "id": "VbAmTq91rRVx"
   },
   "outputs": [],
   "source": [
    "gen = pagri_data_tools.top_n_values_gen()\n",
    "next(gen)"
   ]
  },
  {
   "cell_type": "markdown",
   "metadata": {
    "id": "BHl5_m8JrRVy"
   },
   "source": [
    ">Чтобы сравнить метрики между собой мы можем\n",
    "- использовать корреляционный анализ (Пирсена, Спирмена, Кенделла)\n"
   ]
  },
  {
   "cell_type": "markdown",
   "metadata": {
    "id": "E9qzgGMwrRVz"
   },
   "source": [
    ">`heatmap_corr(df)`"
   ]
  },
  {
   "cell_type": "code",
   "execution_count": null,
   "metadata": {
    "id": "o5vlcDqqrRVz"
   },
   "outputs": [],
   "source": [
    "pagri_data_tools.pagri_data_tools.heatmap_corr(df)"
   ]
  },
  {
   "cell_type": "markdown",
   "metadata": {
    "id": "sF5_Hw5nrRV0"
   },
   "source": [
    ">Использование регрессии и случайного леса для определения влияния переменных  "
   ]
  },
  {
   "cell_type": "markdown",
   "metadata": {
    "id": "nPM18h8OrRV1"
   },
   "source": [
    ">Коэффициенты регрессии позволяют оценить влияние каждой переменной на целевую переменную, учитывая влияние других переменных,  \n",
    ">в то время как важные компоненты в случайном лесе позволяют оценить важность каждой переменной для предсказания целевой переменной."
   ]
  },
  {
   "cell_type": "markdown",
   "metadata": {
    "id": "ey9izWY_rRV2"
   },
   "source": [
    ">Используем регрессиию"
   ]
  },
  {
   "cell_type": "markdown",
   "metadata": {
    "id": "xVVY29pWrRV3"
   },
   "source": [
    ">Чтобы построить регрессию и посмотреть стат значимость и коэффициенты удобно использовать модуль statsmodel"
   ]
  },
  {
   "cell_type": "markdown",
   "metadata": {
    "id": "m-DWUDLWrRV4"
   },
   "source": [
    ">VIF означает Variance Inflation Factor (Фактор инфляции дисперсии). Это статистическая метрика,   \n",
    ">используемая для обнаружения мультиколлинеарности (сильной корреляции) между предикторами (фичами) в линейной регрессии."
   ]
  },
  {
   "cell_type": "markdown",
   "metadata": {
    "id": "lKd8dVyBrRV4"
   },
   "source": [
    ">Обычно, VIF интерпретируется следующим образом:\n",
    ">\n",
    "- VIF < 5: слабая мультиколлинеарность\n",
    "- 5 ≤ VIF < 10: умеренная мультиколлинеарность\n",
    "- VIF ≥ 10: сильная мультиколлинеарность"
   ]
  },
  {
   "cell_type": "markdown",
   "metadata": {
    "id": "sLgp8Q-IrRV5"
   },
   "source": [
    ">\n",
    ">Смотрим R2 (коэффициент детерминации)\n",
    "- использовать коэффициенты у регресси\n",
    ">Мы строим регрессию и смотрим, у каких метрик больше коэффициенты. Таким образом мы поймем какие метрики сильнее зависят с целевой.  \n",
    ">Важно, чтобы независимые переменные некоррелировали по отдельности и вместе (мультиколлиниарность).  \n",
    ">По отдельности смотрим матрицу корреляции.  \n",
    ">Чтобы определить коррелириуют ли вместе, береме независимые переменные,  \n",
    ">и перебираем их выбирая одну из них целевой и смотрим R2.  \n",
    ">Если R2 большой, то значит эта метрика (которая целевая на этом шаге) хорошо описывается другими и ее можно выбросить.\n",
    ">Также не забываем поправки на гетероскедостичность (HC0, HC1, HC2, HC3) в статпакетах.  \n",
    ">Нам нужно ответить на следующие вопросы\n",
    ">    - Влияет ли метрика на целевую?\n",
    ">    Оцениваем коэффициенты в уравнении регресси у каждой метрики.  \n",
    ">    - Как влияет метрика на целевую?\n",
    ">    Смотрим R2 (коэффициент детерминации). И определяем какая часть целевой переменной определяется независимыми метриками.  \n",
    ">    - Коэффициенты при метриках в уравнении статистически значим? При какаом уровне значимости?\n",
    ">    Смотрим в стат пакете p value для каждого коэффициента, что нам говорит значим ли этот коэффициент.  \n",
    ">    То есть мы не просто смотрим его абсолютное значение, а учитываем p value.   \n",
    ">    - Дайте содержательную интерпретацию коэффицентам?\n",
    ">    При увеличении метрики k на 1, целевая метрика увеличивается на $b_{k} * 1$\n",
    ">    То есть нужно перевести коэффициенты в реальное сравнение, насколько увелчисться целевая метрика при изменении определенной метрики на 1\n",
    ">    - Найдите 95 процентный доверительный интервал.\n",
    ">    В стат пакете смотрим значение и оно говорит, что если мы многократно повторим ноши вычисления с новыми данными, то 95 процентов наших  \n",
    ">    полученных коэффицентов будут лежать в этом диапазоне.  "
   ]
  },
  {
   "cell_type": "markdown",
   "metadata": {
    "id": "vvBiTNSarRV7"
   },
   "source": [
    ">Строим модель и изучаем результат  \n",
    ">`linear_regression_with_vif`"
   ]
  },
  {
   "cell_type": "code",
   "execution_count": null,
   "metadata": {
    "id": "4LbT8_bLrRV7"
   },
   "outputs": [],
   "source": [
    "pagri_data_tools.linear_regression_with_vif()"
   ]
  },
  {
   "cell_type": "markdown",
   "metadata": {
    "id": "KkMR0m7jrRV8"
   },
   "source": [
    ">Испльзовать коэффициенты у классификацию    \n",
    ">Строим случайный лес какие метрики сильнее всего влияют на решения модели.   \n",
    ">`plot_feature_importances_classifier`   \n",
    ">`plot_feature_importances_regression`"
   ]
  },
  {
   "cell_type": "markdown",
   "metadata": {
    "id": "giZpNws7rRV9"
   },
   "source": [
    ">Тут нужно подумать как использовать категориальные переменные тоже   \n",
    ">Нужно их перевести в one hot encoding или подобное, чтобы также проверить силу их влияния на целевую перменную"
   ]
  },
  {
   "cell_type": "code",
   "execution_count": null,
   "metadata": {
    "id": "-Zkdbsu5rRV-"
   },
   "outputs": [],
   "source": [
    "titles_for_axis = dict(\n",
    "    debt = 'долга'\n",
    "    , children = 'Кол-во детей'\n",
    "    , age = 'Возраст'\n",
    "    , total_income = 'Доход'\n",
    ")\n",
    "\n",
    "pagri_data_tools.plot_feature_importances_classifier(df, target='debt', titles_for_axis=titles_for_axis)\n",
    "pagri_data_tools.plot_feature_importances_regression()"
   ]
  },
  {
   "cell_type": "markdown",
   "metadata": {
    "id": "N-5SDhYprRV_"
   },
   "source": [
    ">На основе полученных данных формулируем гипотезы, которые будем проверять в блоке проверки гипотез"
   ]
  },
  {
   "cell_type": "markdown",
   "metadata": {
    "id": "FMycgrYKrRWA"
   },
   "source": [
    "> используем быблиотеку `shap`, чтобы определить метрики, которые лучше других помогают предсказывать целевую перемменную"
   ]
  },
  {
   "cell_type": "markdown",
   "metadata": {
    "id": "n7Mv-mp2rRWA"
   },
   "source": [
    "### Промежуточный вывод"
   ]
  },
  {
   "cell_type": "markdown",
   "metadata": {
    "id": "3TP7GMcjrRWB"
   },
   "source": [
    "## Анализ взаимосвязей переменных на графиках"
   ]
  },
  {
   "cell_type": "markdown",
   "metadata": {
    "id": "YxeFoGibrRWC"
   },
   "source": [
    "Если у нас много значений в переменной, то мы агрегируем данные и можем построить бары.  \n",
    "Но если мы агрегируем данные по переменной, в которой много значений и нам это нужно.   \n",
    "То мы не сможем построить бары, и тогда мы строим гистограмму. То есть мы берем, например, для каждой заправки считаем среднее время заправки и так как у нас много заправок,  \n",
    "но мы хотим визуализировать среднее время по ним, и не агрегировать по другому параметру, то мы можем испльзовать гистограмму.  \n",
    "В данном случае гистограмма своего рода агрегация в бины, то есть мы получаем как бы новую переменную из бинов, в каждом бине будет агрегированы данные.  \n",
    "Это работает, когда нам нужно просто посмотреть колечество, так как в бинах будет количество. Таким образом мы получаем сколько у нас заправок имеют определенное среднее вермя заправки.  "
   ]
  },
  {
   "cell_type": "markdown",
   "metadata": {
    "id": "LLBtkndcrRWC"
   },
   "source": [
    ">Про размер графиков    \n",
    ">Стандартный размер графиков width=600, height=400  \n",
    ">Для более сложных графиков, когда  требуется больше места для отображения данных, можно использовать размеры width=800, height=600 или width=1000, height=800"
   ]
  },
  {
   "cell_type": "markdown",
   "metadata": {
    "id": "0MR9PIJKrRWD"
   },
   "source": [
    ">Сравнивать количество элементов нужно в абсолютных и относительных величинах.  \n",
    ">Когда мы сравниваем только в абсолютных величинах, мы не учитываем размеры групп.  \n",
    ">В одной группе может быть элементов больше чем в другой и тогда сравнение будет не совсем точным.   \n",
    ">Если у нас 2 категориальные переменные, то мы можем сравнивать отностельные величины  \n",
    ">по одной переменной, а можем по другой.  \n",
    ">Это как сравнивать суммарный возраст в группах, это не дает полной картины и мы сравниваем средний возраст,  \n",
    ">чтобы размер группы не влиял.  "
   ]
  },
  {
   "cell_type": "markdown",
   "metadata": {
    "id": "OiwGuCgCrRWE"
   },
   "source": [
    ">ВАЖНО\n",
    ">Анализ графиков и выводы для них должны полностью перекрывать постановку задачи и цель.  \n",
    ">Это значит, что если цель проанализировать зависимость наличия долга, то мы в идеале должны проанализировать  \n",
    ">влиянеие каждой переменной на наличие долга (числовой и категориальной)  \n",
    ">Кончено нужно проанализировать все возможные зависимости.  \n",
    ">Но все зависимости с переменной в постновке задачи мы обязаны проверить и дать выводы. И о наличии и об отсутствие.  \n",
    ">Важные выводы делаем не только о наличие интересных моментов, но и об отсутствие.  \n"
   ]
  },
  {
   "cell_type": "markdown",
   "metadata": {
    "id": "jED9tGlWrRWF"
   },
   "source": [
    ">Сначала раздел графиков  \n",
    ">На основе графиков формируются гипотезы (например, у нас у мужчин зп больше)\n",
    ">И после раздела графиков идет раздел проверки гипотез. Тут мы првоеряем разные гипотезы новые и те, что увидели на графиках.  \n",
    ">Это правильная последовательность сначала изучили графики и потом на основе их сформировали гипоетзы\n",
    ">Перед разделом про графики идет раздел с корреляцией и поиском главных компонет случайного леса.  \n",
    ">Мы выбиарем переменную, для которой мы далее хотим посмотреть разыне зависимости и указываем ее целевой для сучайного леса  \n",
    ">И смотрим какие фичи сильнее влияют.  \n",
    ">И теперь можем построить графики с целевой перменно и этими главными фичами и в выводе можно указать про то что это важные компоненты случаного леса"
   ]
  },
  {
   "cell_type": "markdown",
   "metadata": {
    "id": "X8lnyKv3rRWH"
   },
   "source": [
    ">На основе полученных данных формулируем гипотезы, которые будем проверять в блоке проверки гипотез"
   ]
  },
  {
   "cell_type": "markdown",
   "metadata": {
    "id": "dXPbM2PFrRWI"
   },
   "source": [
    "### Анализ временных зависимостей"
   ]
  },
  {
   "cell_type": "markdown",
   "metadata": {
    "id": "TCWZWLj8rRWJ"
   },
   "source": [
    "Когда мы хотим изучить верменную зависимость, то нам нуно создать новые переменные с обрезанными (trunc or round) значениям, чтобы можно было сгруппировать используя groupby or pivot_table  \n",
    "по этой обрезанной переменной и применить функцию агрегации и построить график, например, среднее время заправки на азс по часам.  \n",
    "Вот когда мы работаем с временем, нам нужно думать какие переменные создать, обрезая текущее время.  "
   ]
  },
  {
   "cell_type": "markdown",
   "metadata": {
    "id": "pgxVlrshrRWL"
   },
   "source": [
    ">Строим когортный анализ, если есть возможность"
   ]
  },
  {
   "cell_type": "markdown",
   "metadata": {
    "id": "IkpH8AAMrRWM"
   },
   "source": [
    ">Если у нас есть даты, то мы можем посмотреть не просто абсолютные значения на каждую дату какой-то метрики,  \n",
    ">а посмотреть относительные значения относительно предыдущего значения.  \n",
    ">Для этого нужно составить таблицу, в которой будет изменение в процентах относительно предыдущего значения.  \n",
    ">И затем визуализировать для каждой даты динамику этого показателя"
   ]
  },
  {
   "cell_type": "markdown",
   "metadata": {
    "id": "tLUcKLTUrRWO"
   },
   "source": [
    "### Изучение зависимостей между числовыми переменными"
   ]
  },
  {
   "cell_type": "code",
   "execution_count": null,
   "metadata": {
    "id": "dL3DReC5rRWP"
   },
   "outputs": [],
   "source": [
    "Построить hexbinplot"
   ]
  },
  {
   "cell_type": "markdown",
   "metadata": {
    "id": "cZfkNn4XrRWQ"
   },
   "source": [
    ">Изучаем scatter plots"
   ]
  },
  {
   "cell_type": "code",
   "execution_count": null,
   "metadata": {
    "id": "u_BwuRkXrRWR"
   },
   "outputs": [],
   "source": [
    "titles_for_axis = dict(\n",
    "    # numeric column\n",
    "    children = 'Кол-во детей'\n",
    "    , age = 'Возраст'\n",
    "    , total_income = 'Доход'\n",
    ")"
   ]
  },
  {
   "cell_type": "code",
   "execution_count": null,
   "metadata": {
    "id": "LPsVG9hZrRWR"
   },
   "outputs": [],
   "source": [
    "pagri_data_tools.pairplot(df, titles_for_axis=titles_for_axis, horizontal_spacing=0.12, height=400, width=1200, rows=1, cols=3).show(config=dict(displayModeBar=False, dpi=200), renderer=\"png\")\n",
    "# если нужно интерактивый график, то\n",
    "fig = pagri_data_tools.pairplot(df, titles_for_axis=titles_for_axis, horizontal_spacing=0.12, height=800, width=800)\n",
    "fig.show()"
   ]
  },
  {
   "cell_type": "markdown",
   "metadata": {
    "id": "woFev77NrRWT"
   },
   "source": [
    "### Изучение зависимостей между категориальными переменными"
   ]
  },
  {
   "cell_type": "code",
   "execution_count": null,
   "metadata": {
    "id": "kHlQh2xxrRWU"
   },
   "outputs": [],
   "source": [
    "gen = pagri_graphs.categorical_graph_analys_gen(df)"
   ]
  },
  {
   "cell_type": "code",
   "execution_count": null,
   "metadata": {
    "id": "hgddp4BfrRWV"
   },
   "outputs": [],
   "source": [
    "next(gen)"
   ]
  },
  {
   "cell_type": "markdown",
   "metadata": {
    "id": "6Dp3O-plrRWW"
   },
   "source": [
    ">Строим матрицу тепловой карты для категориальных переменных и изучаем зависимости  \n",
    ">`categorical_heatmap_matrix_gen`"
   ]
  },
  {
   "cell_type": "markdown",
   "metadata": {
    "id": "HgXCzTD9rRWW"
   },
   "source": [
    ">Посмотрим на распределение количества элементов между группами"
   ]
  },
  {
   "cell_type": "markdown",
   "metadata": {
    "id": "fPjUNRxxrRWX"
   },
   "source": [
    ">Нужно подумать как отобразить не только процент от всего количества, но и пороцент в группе  \n",
    ">То есть у нас есть значение в ячейке, сумма всех, сумма по категории на оси x и сумма по категории на оси Y   \n",
    ">Вот нужно как-то отобразить процент от суммы, процент от одной категории и от другой категории"
   ]
  },
  {
   "cell_type": "code",
   "execution_count": null,
   "metadata": {
    "id": "_u_6VeubrRWY"
   },
   "outputs": [],
   "source": [
    "12 (0.5% of total, 20% of row, 15% of col)"
   ]
  },
  {
   "cell_type": "markdown",
   "metadata": {
    "id": "sqq1xEZKrRWZ"
   },
   "source": [
    ">Можно сделать кнопки, чтобы можно было подсветку делать внури колонок и строк  "
   ]
  },
  {
   "cell_type": "markdown",
   "metadata": {
    "id": "3Rrg5-GkrRWb"
   },
   "source": [
    ">Можно сделать кнопки (процент от общего) (процент от тут указывается название оси x) (аналогично для второй оси)"
   ]
  },
  {
   "cell_type": "code",
   "execution_count": null,
   "metadata": {
    "id": "Pv87vcOUrRWb"
   },
   "outputs": [],
   "source": [
    "titles_for_axis = dict(\n",
    "    # numeric column\n",
    "    children = ['Количество детей', 'количество детей', 0]\n",
    "    , age = ['Возраст, лет', 'возраст', 1]\n",
    "    , total_income = ['Ежемесячный доход', 'ежемесячный доход', 1]\n",
    "     # category column\n",
    "    , education = ['Уровень образования', 'уровня образования']\n",
    "    , family_status = ['Семейное положение', 'семейного положения']\n",
    "    , gender = ['Пол', 'пола']\n",
    "    , income_type = ['Тип занятости', 'типа занятости']\n",
    "    , debt = ['Задолженность', 'задолженности']\n",
    "    , purpose = ['Цель получения кредита', 'цели получения кредита']\n",
    "    , has_child = ['Наличие детей', 'наличия детей']\n",
    "    , age_cat = ['Возрастная категория, лет', 'возрастной категории']\n",
    "    , total_income_cat = ['Категория дохода', 'категории дохода']\n",
    ")"
   ]
  },
  {
   "cell_type": "code",
   "execution_count": null,
   "metadata": {
    "id": "Se0I9zVhrRWc"
   },
   "outputs": [],
   "source": [
    "pagri_data_tools.categorical_graph_analys_gen()"
   ]
  },
  {
   "cell_type": "markdown",
   "metadata": {
    "id": "2UuHpjRLrRWd"
   },
   "source": [
    ">Строим treemap  \n",
    ">`treemap`   \n",
    ">`treemap_dash`   \n",
    ">```\n",
    ">app = treemap_dash(df)\n",
    ">if __name__ == '__main__':\n",
    ">    app.run_server(debug=True)\n",
    ">```"
   ]
  },
  {
   "cell_type": "code",
   "execution_count": null,
   "metadata": {
    "id": "hCtjpyw8rRWe"
   },
   "outputs": [],
   "source": [
    "pagri_data_tools.treemap()"
   ]
  },
  {
   "cell_type": "code",
   "execution_count": null,
   "metadata": {
    "id": "ikMDeIzkrRWf"
   },
   "outputs": [],
   "source": [
    "app = pagri_data_tools.treemap_dash(df)\n",
    "if __name__ == '__main__':\n",
    "    app.run_server(debug=True)"
   ]
  },
  {
   "cell_type": "markdown",
   "metadata": {
    "id": "IJ7NitLfrRWg"
   },
   "source": [
    ">Строим parallel_categories    \n",
    ">`parallel_categories `  \n",
    ">`parallel_categories_dash `  \n",
    ">```\n",
    ">app = treemap_dash(df)\n",
    ">if __name__ == '__main__':\n",
    ">    app.run_server(debug=True)\n",
    ">```"
   ]
  },
  {
   "cell_type": "code",
   "execution_count": null,
   "metadata": {
    "id": "YfLQJeYqrRWh"
   },
   "outputs": [],
   "source": [
    "pagri_data_tools.parallel_categories()"
   ]
  },
  {
   "cell_type": "code",
   "execution_count": null,
   "metadata": {
    "id": "odcDD06VrRWh"
   },
   "outputs": [],
   "source": [
    "app = pagri_data_tools.parallel_categories_dash(df)\n",
    "if __name__ == '__main__':\n",
    "    app.run_server(debug=True)"
   ]
  },
  {
   "cell_type": "markdown",
   "metadata": {
    "id": "mfipm_NfrRWj"
   },
   "source": [
    ">Строим Sankey  \n",
    ">`sankey `   \n",
    ">`sankey_dash`\n",
    ">\n",
    ">```\n",
    ">app = treemap_dash(df)\n",
    ">if __name__ == '__main__':\n",
    ">    app.run_server(debug=True)\n",
    ">```"
   ]
  },
  {
   "cell_type": "code",
   "execution_count": null,
   "metadata": {
    "id": "ZwI8SqNgrRWj"
   },
   "outputs": [],
   "source": [
    "pagri_data_tools.sankey()"
   ]
  },
  {
   "cell_type": "code",
   "execution_count": null,
   "metadata": {
    "id": "yZ7CnD_WrRWk"
   },
   "outputs": [],
   "source": [
    "app = pagri_data_tools.sankey_dash(df)\n",
    "if __name__ == '__main__':\n",
    "    app.run_server(debug=True)"
   ]
  },
  {
   "cell_type": "markdown",
   "metadata": {
    "id": "zv26sBXArRWl"
   },
   "source": [
    "### Изучение зависимостей между числовыми и категориальными переменными"
   ]
  },
  {
   "cell_type": "markdown",
   "metadata": {
    "id": "8GP7z1uCrRWl"
   },
   "source": [
    ">Можно добавить кнопку среднее и количество  \n",
    ">Чтобы можно было посмотртеть распределение по количеству, когда смотрить среднее.  \n"
   ]
  },
  {
   "cell_type": "markdown",
   "metadata": {
    "id": "XMziOQWrrRWn"
   },
   "source": [
    ">```graph_analysis```"
   ]
  },
  {
   "cell_type": "code",
   "execution_count": null,
   "metadata": {
    "id": "_l0G0NkxrRWn"
   },
   "outputs": [],
   "source": [
    "gen = pagri_data_tools.graph_analysis()"
   ]
  },
  {
   "cell_type": "markdown",
   "metadata": {
    "id": "aw2wflHxrRWp"
   },
   "source": [
    ">Когда выбрали нужные графики, то стоим их"
   ]
  },
  {
   "cell_type": "markdown",
   "metadata": {
    "id": "i7cGg9rNrRWq"
   },
   "source": [
    ">Чтобы автоматически генерировались подписи осей и заголовок графика, нужно заполшнить такой словарь.    \n",
    ">Первый элемент списка - это подпись оси  \n",
    ">Второй элемент списка - это как это название будет отображаться в заголовке графика  \n",
    ">Для числовых столбцов также указывается род, чтобы правильно выбрать (Середнее, средний, средняя) (0 - средний род, 1 - мужской род, 2 - женский род)"
   ]
  },
  {
   "cell_type": "code",
   "execution_count": null,
   "metadata": {
    "id": "1GQbB3jQrRWq"
   },
   "outputs": [],
   "source": [
    "f'Среднее / Медианное / Суммарное {numeric} в зависимости от {category} и {category}'"
   ]
  },
  {
   "cell_type": "code",
   "execution_count": null,
   "metadata": {
    "id": "IzjN2-C8rRWs"
   },
   "outputs": [],
   "source": [
    "titles_for_axis = dict(\n",
    "    # numeric column (0 - средний род, 1 - мужской род, 2 - женский род) (Середнее образовние, средний доход, средняя температура) )\n",
    "    children = ['Количество детей', 'количество детей', 0]\n",
    "    , age = ['Возраст, лет', 'возраст', 1]\n",
    "    , total_income = ['Ежемесячный доход', 'ежемесячный доход', 1]\n",
    "     # category column\n",
    "    , education = ['Уровень образования', 'уровня образования']\n",
    "    , family_status = ['Семейное положение', 'семейного положения']\n",
    "    , gender = ['Пол', 'пола']\n",
    "    , income_type = ['Тип занятости', 'типа занятости']\n",
    "    , debt = ['Задолженность (1 - имеется, 0 - нет)', 'задолженности']\n",
    "    , purpose = ['Цель получения кредита', 'цели получения кредита']\n",
    "    , dob_cat = ['Возрастная категория, лет', 'возрастной категории']\n",
    "    , total_income_cat = ['Категория дохода', 'категории дохода']\n",
    ")"
   ]
  },
  {
   "cell_type": "code",
   "execution_count": null,
   "metadata": {
    "id": "DyTcC1YVrRWt"
   },
   "outputs": [],
   "source": [
    "summory = []\n",
    "columns = []"
   ]
  },
  {
   "cell_type": "code",
   "execution_count": null,
   "metadata": {
    "id": "3SGqWIIerRWu"
   },
   "outputs": [],
   "source": [
    "gen = pagri_data_tools.graph_analysis_gen(df)"
   ]
  },
  {
   "cell_type": "markdown",
   "metadata": {
    "id": "REGNoPijrRWv"
   },
   "source": [
    ">Сначала запускаем код через 1 ячейку `columns = next(gen)`,  \n",
    ">чтобы появлися график и в `colunns` появились текущие названия колонок  \n",
    ">Далее пишем наблюдения, если хотим сохранить график и выполняем ячейку ниже.  \n",
    ">Если сохранять не хотим, то просто выполняем дальше `columns = next(gen)`  "
   ]
  },
  {
   "cell_type": "code",
   "execution_count": null,
   "metadata": {
    "id": "xFgxOzfGrRWw"
   },
   "outputs": [],
   "source": [
    "summory.append(dict(\n",
    "    columns = columns\n",
    "    , observations =\n",
    "'''\n",
    "**Наблюдения:**\n",
    "- 21\n",
    "- Размер больше\n",
    "- 1\n",
    "- Сильнее других\n",
    "-\n",
    "'''))"
   ]
  },
  {
   "cell_type": "code",
   "execution_count": null,
   "metadata": {
    "id": "7ncjoOEVrRWx"
   },
   "outputs": [],
   "source": [
    "columns = next(gen)"
   ]
  },
  {
   "cell_type": "markdown",
   "metadata": {
    "id": "V7biJxcCrRWz"
   },
   "source": [
    ">В `summory` находятся названия колонок и наблюдения для графиков, которые стоит построить"
   ]
  },
  {
   "cell_type": "markdown",
   "metadata": {
    "id": "Og3AZtsirRWz"
   },
   "source": [
    ">ВАЖНО  \n",
    ">После построеня всех графиков и коппирования комментариев из summory  \n",
    ">Мы в предваретельном выводе после раздела графиков вставляем выводы из summory  \n",
    ">Чтобы их не собирать  вручную у каждого графика"
   ]
  },
  {
   "cell_type": "code",
   "execution_count": null,
   "metadata": {
    "id": "abgDg8EvrRW1"
   },
   "outputs": [],
   "source": [
    "def gen_temp():\n",
    "    for item in summory:\n",
    "        colunns = item['columns']\n",
    "        observations = item['observations']\n",
    "        print(observations)\n",
    "        yield colunns"
   ]
  },
  {
   "cell_type": "code",
   "execution_count": null,
   "metadata": {
    "id": "wp1UEM0zrRW2"
   },
   "outputs": [],
   "source": [
    "gen = gen_temp()"
   ]
  },
  {
   "cell_type": "code",
   "execution_count": null,
   "metadata": {
    "id": "PCKlNjH6rRW3",
    "outputId": "931b63d3-84a4-4193-a819-053cf34441ab"
   },
   "outputs": [
    {
     "name": "stdout",
     "output_type": "stream",
     "text": [
      "\n",
      "**Наблюдения:**  \n",
      "- 21\n",
      "- Размер больше\n",
      "- 1\n",
      "- Сильнее других\n",
      "- \n",
      "\n"
     ]
    }
   ],
   "source": [
    "colunns = next(gen)"
   ]
  },
  {
   "cell_type": "markdown",
   "metadata": {
    "id": "icWQxJ7urRW5"
   },
   "source": [
    ">Чтобы построить график без category- просто закоментируй  строку с category."
   ]
  },
  {
   "cell_type": "code",
   "execution_count": null,
   "metadata": {
    "id": "vxsvQTy2rRW6"
   },
   "outputs": [],
   "source": [
    "config = dict(df = df\n",
    "    , x = colunns[1]\n",
    "    , y = colunns[0]\n",
    "    , category = colunns[2]\n",
    "    # , width = 800\n",
    "    # , orientation = 'h'\n",
    ")\n",
    "pagri_data_tools.bar(config, titles_for_axis)"
   ]
  },
  {
   "cell_type": "markdown",
   "metadata": {
    "id": "JMEnXs7nrRW7"
   },
   "source": [
    "**Наблюдения:**\n",
    "-  У мужчин средний доход выше"
   ]
  },
  {
   "cell_type": "markdown",
   "metadata": {
    "id": "wrxiPxZgrRW8"
   },
   "source": [
    "**Наблюдения:**\n",
    "-  текст"
   ]
  },
  {
   "cell_type": "markdown",
   "metadata": {
    "id": "QZsaqIcKrRW8"
   },
   "source": [
    "### Промежуточный вывод"
   ]
  },
  {
   "cell_type": "markdown",
   "metadata": {
    "id": "I8uO7Ex8rRW9"
   },
   "source": [
    "## Формулирование и провера гипотез"
   ]
  },
  {
   "cell_type": "markdown",
   "metadata": {
    "id": "5Sy6zulkrRW-"
   },
   "source": [
    "### Формулирование гипотез"
   ]
  },
  {
   "cell_type": "markdown",
   "metadata": {
    "id": "WscMhNG5rRW_"
   },
   "source": [
    ">На основе проведенного анализа данных сформулирем следующие гипотезы:"
   ]
  },
  {
   "cell_type": "markdown",
   "metadata": {
    "id": "qN3FLBpErRXA"
   },
   "source": [
    ">Гипотеза 1: Нет зависимость между наличием детей и возвратом кредита в срок.  \n",
    ">Гипотеза 2: У мужчин средний доход выше  \n",
    ">Гипотеза 3: Цель получения кредита не зависит от среднего ежемесяченого доход  \n",
    ">Гипотеза 4: Средний доход по семейному статусу одинаковый, но у вдовцов отличается  \n",
    ">Гипотеза 5: У должников в среднем больше детей   \n",
    ">Гипотеза 6: У должников средний возраст ниже  \n",
    ">Гипотеза 7: Медианный доход у должников и не должников не  отличается  "
   ]
  },
  {
   "cell_type": "markdown",
   "metadata": {
    "id": "5xi738wWrRXB"
   },
   "source": [
    ">Не забываем что гипотезы можно проверять и между 2 категориальными переменными.  \n",
    ">Проверять есть ли между ними зависимости.  \n",
    ">Также если мы на графиках определили, что есть между 2 категориальными перменными связь,  то тут можем это проверить"
   ]
  },
  {
   "cell_type": "markdown",
   "metadata": {
    "id": "8z2eyVyYrRXC"
   },
   "source": [
    "### Проверка гипотез"
   ]
  },
  {
   "cell_type": "markdown",
   "metadata": {
    "id": "eyXxW9R-rRXD"
   },
   "source": [
    ">Проверим сформулированные гипотезы."
   ]
  },
  {
   "cell_type": "markdown",
   "metadata": {
    "id": "VU2oNNYDrRXE"
   },
   "source": [
    ">_hypothesis_ **Гипотеза 1: Название гипотезы**"
   ]
  },
  {
   "cell_type": "markdown",
   "metadata": {
    "id": "GknXuEMtrRXE"
   },
   "source": [
    ">H0: The two categorical variables are independent.    \n",
    ">H1: The two categorical variables are not independent (i.e., there is a significant association between them).    "
   ]
  },
  {
   "cell_type": "markdown",
   "metadata": {
    "id": "xZ9OgdF4rRXF"
   },
   "source": [
    ">Примеры гипотез\n",
    "- Есть ли зависимость между наличием детей и возвратом кредита в срок?"
   ]
  },
  {
   "cell_type": "markdown",
   "metadata": {
    "id": "texOpfUnrRXG"
   },
   "source": [
    ">Это будет часто возникать когда у нас категориальная целевая переменная и другие категориальные переменные.  \n",
    ">И мы хотим проверить влияют ли категориальные переменные на целевую.  \n",
    ">Например у нас есть поле наличие долга (есть или нет)  \n",
    ">Вот тут мы можем провести тесты со всеми каетгориями на наличие зависимости с наличием долга.  \n",
    ">В идеале мы на графиках должны найти гипотезы и тут их проверить.  \n",
    ">Но если у нас целевая переменная, то мы можем сравнить ее со всеми категориями"
   ]
  },
  {
   "cell_type": "code",
   "execution_count": null,
   "metadata": {
    "id": "_TSzFOvXrRXH"
   },
   "outputs": [],
   "source": [
    "pagri_data_tools.chi2_pearson()"
   ]
  },
  {
   "cell_type": "markdown",
   "metadata": {
    "id": "dduyuRwarRXI"
   },
   "source": [
    ">Формируем словарь для подписей осей и названия гистограм"
   ]
  },
  {
   "cell_type": "code",
   "execution_count": null,
   "metadata": {
    "id": "fy1w5SrArRXI"
   },
   "outputs": [],
   "source": [
    "titles_for_axis = dict(\n",
    "    # numeric column\n",
    "    children = ['Количество детей', 'количества детей']\n",
    "    , age = ['Возраст', 'возраста']\n",
    "    , total_income = ['Ежемесячный доход', 'ежемесячного дохода']\n",
    ")"
   ]
  },
  {
   "cell_type": "markdown",
   "metadata": {
    "id": "C97hB7dSrRXK"
   },
   "source": [
    ">Нулевая гипотеза должна быть направлена на отсутствие эффекта, а альтернативная гипотеза должна быть направлена на наличие эффекта."
   ]
  },
  {
   "cell_type": "markdown",
   "metadata": {
    "id": "O6YuDu-JrRXL"
   },
   "source": [
    ">Формулируем гипотезу через H0, H1"
   ]
  },
  {
   "cell_type": "markdown",
   "metadata": {
    "id": "5bJVOeKbrRXM"
   },
   "source": [
    ">H0: У мужчин средний доход не выше, чем у женщин  \n",
    ">H1: У мужчин средний доход выше, чем у женщин"
   ]
  },
  {
   "cell_type": "markdown",
   "metadata": {
    "id": "QhjxDS1FrRXN"
   },
   "source": [
    ">Смотрим распределение метрики"
   ]
  },
  {
   "cell_type": "code",
   "execution_count": null,
   "metadata": {
    "id": "Qv-CnzHqrRXN"
   },
   "outputs": [],
   "source": [
    "pagri_data_tools.histogram(df.total_income, titles_for_axis)"
   ]
  },
  {
   "cell_type": "markdown",
   "metadata": {
    "id": "85buucVMrRXO"
   },
   "source": [
    ">Делаем вывод о распределении.    \n",
    ">Выбираем критерий для проверки гипотезы.  \n",
    ">Определяем уровнь значимости."
   ]
  },
  {
   "cell_type": "markdown",
   "metadata": {
    "id": "afvL5rUVrRXP"
   },
   "source": [
    ">Проводим тест  \n",
    ">ВАЖНО  \n",
    ">df в ttest_ind_df и подобных можно испльзовать только для 2 стороннего случая  \n",
    ">Для одностороннего нужно придумать как определять какая группа первая по порядку пойдет в тест,  \n",
    ">в зависимости от постановки гипотезы, так как альтернатива опредляется исходя из порядка аргументов в функции теста"
   ]
  },
  {
   "cell_type": "markdown",
   "metadata": {
    "id": "QuRfU2H9rRXQ"
   },
   "source": [
    ">Если используем ттест или анову, то сначала проводим тест на проверку дисперсии"
   ]
  },
  {
   "cell_type": "markdown",
   "metadata": {
    "id": "m6yvTzDhrRXR"
   },
   "source": [
    ">H0: У должников и не должников дисперсия не отличается  \n",
    ">H1: У должников и не должников дисперсия отличается"
   ]
  },
  {
   "cell_type": "code",
   "execution_count": null,
   "metadata": {
    "id": "JKkKDQfxrRXS"
   },
   "outputs": [],
   "source": [
    "pagri_data_tools.levene_df\n",
    "pagri_data_tools.levene\n",
    "pagri_data_tools.bartlett_df\n",
    "pagri_data_tools.bartlett"
   ]
  },
  {
   "cell_type": "markdown",
   "metadata": {
    "id": "7K2G0OA7rRXU"
   },
   "source": [
    ">Выбираем критерий"
   ]
  },
  {
   "cell_type": "code",
   "execution_count": null,
   "metadata": {
    "id": "_pA0REavrRXV"
   },
   "outputs": [],
   "source": [
    "pagri_data_tools.chi2_pearson\n",
    "pagri_data_tools.ttest_ind_df\n",
    "pagri_data_tools.ttest_ind\n",
    "pagri_data_tools.mannwhitneyu_df\n",
    "pagri_data_tools.mannwhitneyu\n",
    "pagri_data_tools.proportion_ztest_1sample\n",
    "pagri_data_tools.proportions_ztest_2sample\n",
    "pagri_data_tools.proportions_ztest_column_2sample\n",
    "pagri_data_tools.proportions_chi2\n",
    "pagri_data_tools.proportions_chi2_column\n",
    "pagri_data_tools.anova_oneway_df\n",
    "pagri_data_tools.anova_oneway\n",
    "pagri_data_tools.tukey_hsd_df\n",
    "pagri_data_tools.anova_oneway_welch_df\n",
    "pagri_data_tools.kruskal_df\n",
    "pagri_data_tools.kruskal\n",
    "pagri_data_tools.bootstrap_diff_2sample # важно, сохраняем fig и в следующей ячейке делаем fig.shwo(), иначе на google colab работает некорректно"
   ]
  },
  {
   "cell_type": "markdown",
   "metadata": {
    "id": "BSkUAiForRXW"
   },
   "source": [
    ">Проводим тест"
   ]
  },
  {
   "cell_type": "markdown",
   "metadata": {
    "id": "sBn8aa2ErRXX"
   },
   "source": [
    ">Если отклоняем гипотезу, то строим доверитлеьный интервал"
   ]
  },
  {
   "cell_type": "code",
   "execution_count": null,
   "metadata": {
    "id": "zXwTlrPKrRXY"
   },
   "outputs": [],
   "source": [
    "pagri_data_tools.confint_t_2samples\n",
    "pagri_data_tools.confint_t_2samples_df\n",
    "pagri_data_tools.confint_proportion_ztest_2sample\n",
    "pagri_data_tools.confint_proportion_ztest_column_2sample\n",
    "pagri_data_tools.confint_proportion_2sample_statsmodels\n",
    "pagri_data_tools.confint_proportion_coluns_2sample_statsmodels"
   ]
  },
  {
   "cell_type": "code",
   "execution_count": null,
   "metadata": {
    "id": "nod4lXT0rRXZ"
   },
   "outputs": [],
   "source": [
    "titles_for_axis = dict(\n",
    "    # numeric column\n",
    "    children = ['Количество детей', 'количества детей']\n",
    "    , age = ['Возраст', 'возраста']\n",
    "    , total_income = ['Ежемесячный доход', 'ежемесячного дохода']\n",
    ")"
   ]
  },
  {
   "cell_type": "markdown",
   "metadata": {
    "id": "7OHwYdFIrRXa"
   },
   "source": [
    ">Проверим эти гипотезы  \n"
   ]
  },
  {
   "cell_type": "markdown",
   "metadata": {
    "id": "X82aIyOOrRXb"
   },
   "source": [
    "**Гипотеза 1: Нет зависимость между наличием детей и возвратом кредита в срок**"
   ]
  },
  {
   "cell_type": "markdown",
   "metadata": {
    "id": "0DcR1S2zrRXd"
   },
   "source": [
    ">H0: Наличие детей не влияет на возврат кредита в срок.  \n",
    ">H1: Наличие детей влияет на возврат кредита в срок."
   ]
  },
  {
   "cell_type": "markdown",
   "metadata": {
    "id": "0UQjDuvdrRXe"
   },
   "source": [
    ">Так как у нас обе переменных категориальные, то воспользуемся критерием хи-квадрат Пирсона.  \n",
    ">Уровень значимости alpha выберем 0.05"
   ]
  },
  {
   "cell_type": "code",
   "execution_count": null,
   "metadata": {
    "id": "Y_EOyOoRrRXg",
    "outputId": "5b38741d-75fa-4cfb-b881-534f42f8f055"
   },
   "outputs": [
    {
     "name": "stdout",
     "output_type": "stream",
     "text": [
      "Хи-квадрат Пирсона\n",
      "alpha =  0.05\n",
      "p-value =  1.724356890544321e-05\n",
      "Отклоняем нулевую гипотезу, поскольку p-value меньше уровня значимости\n"
     ]
    }
   ],
   "source": [
    "pagri_data_tools.chi2_pearson(df.has_child, df.debt)"
   ]
  },
  {
   "cell_type": "markdown",
   "metadata": {
    "id": "WRfb3J6xrRXh"
   },
   "source": [
    "**Результат:**  \n",
    ">На уровне значимости 0.05 гипотеза, что наличие детей не влияет на возврат кредита в срок не подтвердилась."
   ]
  },
  {
   "cell_type": "markdown",
   "metadata": {
    "id": "NWR-l7cXrRXi"
   },
   "source": [
    ">Сделать опцию в бутстреп функции, чтобы строился только доверительный интервал"
   ]
  },
  {
   "cell_type": "markdown",
   "metadata": {
    "id": "X0pMqlSlrRXj"
   },
   "source": [
    ">Также сделать функцию для доверилеьных интервалов для мана уитни через   \n",
    ">the Hodges-Lehmann estimation, which provides a point estimate and a confidence interval for the difference in medians."
   ]
  },
  {
   "cell_type": "code",
   "execution_count": null,
   "metadata": {
    "id": "PZknGO7PrRXk"
   },
   "outputs": [],
   "source": [
    "import pingouin as pg\n",
    "\n",
    "# Perform the Mann-Whitney U test and calculate the confidence interval\n",
    "mw_test = pg.mwu(x, y, tail='two-sided', confidence=0.95)\n",
    "\n",
    "# Print the results\n",
    "print(mw_test)"
   ]
  },
  {
   "cell_type": "code",
   "execution_count": null,
   "metadata": {
    "id": "xEWM4ciarRXk"
   },
   "outputs": [],
   "source": [
    "import numpy as np\n",
    "from scipy import stats\n",
    "\n",
    "# Perform the Mann-Whitney U test\n",
    "u_stat, p_value = stats.mannwhitneyu(x, y, alternative='two-sided')\n",
    "\n",
    "# Calculate the Hodges-Lehmann estimation\n",
    "hl_est = np.median(np.array([x_i - y_j for x_i in x for y_j in y]))\n",
    "\n",
    "# Calculate the confidence interval\n",
    "ci = stats.t.interval(0.95, len(x) + len(y) - 2, loc=hl_est, scale=stats.sem(np.array([x_i - y_j for x_i in x for y_j in y])))\n",
    "\n",
    "# Print the results\n",
    "print('Hodges-Lehmann estimation:', hl_est)\n",
    "print('Confidence interval:', ci)"
   ]
  },
  {
   "cell_type": "markdown",
   "metadata": {
    "id": "RDvZCKw7rRXl"
   },
   "source": [
    ">Подход следуюищй - мы до раздела проверка гипотез, когда изучаем данные (разделы пропусков, выбросов, дубликатов, зависиместей между перменными и графики),  \n",
    ">то мы делаем выводы и формируем наблюдеия.  \n",
    ">Вот эти наблюдения и выводы нужно проверить в проверке гипотез.  \n",
    ">И потом в основном выводе уже писать не просто, что у нас мужчин больше чем женьшин, а писать, что на уровен значисомти таком то у нас мужчина больше чем  \n",
    ">женщин с таким то доверительным интервалом.  \n",
    ">Таким образом выводы по вомзожности должны проходить через этап проверки гипотез, тогда эти выводы становятся более существенными.  "
   ]
  },
  {
   "cell_type": "markdown",
   "metadata": {
    "id": "jaKAk-NurRXn"
   },
   "source": [
    "- Гипотезы появляются, когда мы задаем вопросы данным. Мы изучили данные, преобработали и теперь начинаем задавать вопросы.  \n",
    "- Выдвигаем гипотезу (заметили что-то необычное и хотим проверить), далее формулируем ее и далее проверяем.  \n",
    "- Не забываем формулировать гипотезы словами. Пишем что является гипотезой H0, а что гипотезой H1  \n",
    "- Формулируем все гипотезы, которые хотим проверить. Если будет 100 гипотез, то все 100 нужно сформулировать и потом проверить и сделать вывод.  \n",
    "- Гипотезы могут быть и простыми вопросами без гипотез H0 и H1, такие гипотезы мы проверяем графиками или анализируя таблицу.  \n",
    "- Восновном, когда мы собиаремся применить стат аппарат для проверки гипотезы, то мы должны записать ее через H0 и H1.  "
   ]
  },
  {
   "cell_type": "markdown",
   "metadata": {
    "id": "mF0Tq5iorRXo"
   },
   "source": [
    ">Алгоритм проверки статистических гипотез\n",
    ">\n",
    "- постановка задачи\n",
    ">    - Сформулировать, что мы хотим узнать о выборках с точки зрения бизнес задачи (равны ли средние доходы в группах)\n",
    ">    - перевод бизнес-вопроса на язык статистики: средний доход в группах - проверка равенства средних значений\n",
    "- формулировка гипотез\n",
    ">    - формулировка нулевой гипотезы - с т.зр. равенства стат прараметров оцениваемых выборок   \n",
    ">    (Н0: Средние траты клиентов по группе А равны средним тратам клинентов по группе В)\n",
    ">    - формулировка альтернативной гипотезы - с точки зрения неравенства параметров  \n",
    ">    (Н1: Средние траты клиентов по группе А не равны средним тратам клинентов по группе В)\n",
    "- выбор критерия alpha (почему 0.05 или 0.01)\n",
    ">    - цена ошибки первого рода (при большой цене ошибки - в мед исследованиях, потенциальном ущербе ) - значение может быть больше, например 0.1\n",
    ">    - в ежедневных бизнес задачах, обычно - 0.05\n",
    "- анализ распределения\n",
    ">    - визуальная оценка\n",
    ">    - следим за выбросами\n",
    ">    - проверка гипотез о типе распредеделения (например критерий Шапиро-Уилка)\n",
    ">    - если распределение не нормальное и размер выборки достаточный (больше 30-50 элементов)  \n",
    ">    может быть использован t-test именно для проверки гипотезы о равенстве средних.  \n",
    ">    Согласно ЦПТ (центральная предельная теорема) средние этих выборок будут распределены нормально. См. статью Зотова\n",
    "- выбор критерия\n",
    ">    - при оценке равенства средних T-test или Welch T-test (если есть сомнения, то лучше Уэлча)\n",
    ">        - при рвенстве дисперсий используем обычный т тест\n",
    ">        - если дисперсии в выборках разные, то используем т теста Уэлча\n",
    "- получение результата\n",
    ">    - расчет p-value\n",
    "- интерпретация p-value\n",
    ">    - сравнение p-value и alpha\n",
    ">    - если альфа > p-value - отвергаем нулевую гипотезу\n",
    ">    - если альфа < p-value - не можем отвергнуть нулевую гипотезу"
   ]
  },
  {
   "cell_type": "markdown",
   "metadata": {
    "id": "UoXK9bsErRXp"
   },
   "source": [
    ">Какая у нас задача\n",
    "- Исследовать взаимосвязь между 2 переменными\n",
    ">    - обе переменные наминативные\n",
    ">        - Хи-квадрат Пирсона (не чувствителен к гетероскедастичности) (нормальность не обязательна)\n",
    ">    - обе переменные количественные\n",
    ">        - Коэффициент корреляции Пирсона (параметрика) (чувствителен к выбросам) (только непрерывные переменные)\n",
    ">        - Коэффициент корреляции Спирмена (чувствителен к выбросам) / Кендалла (менее чувствителен к выбросам) (непараметрика) (непрерывные переменные и порядковые категориальные переменные)  \n",
    ">    - одна переменная номинативная (принимает 2 занчения), вторая количественная\n",
    ">        - значения\n",
    ">            - Т-критерий Стьюдента (параметрика) (желательно нормальность) (чувствителен к выбросам) (чувствителен к гетероскедастичности)\n",
    ">                - если дисперсии равны (тест левена, барлета) и количество в группах равно (тест на равенство пропорций), то используем обычный т тест (эта формула более точно даст результат для этого случая)\n",
    ">                - если дисперсии не равны (тест левена, барлета) или количество в группах не равно (тест на равенство пропорций), то используем тест Уэлча (эта формула использует больше неопределенности и лучше подходит для этого случая)\n",
    ">            - U-критерий Манна-Уитни (непараметрика) (нормальность не обязательна) (не чувствителен к гетероскедастичности)\n",
    ">            Если тестируемая фича полностью сдвигает выборку на некий коэффициент theta или масштабирует выборку на некий параметр theta (theta > 0),  \n",
    ">            то критерий Манна-Уитни применим\n",
    ">        - доли\n",
    ">            - Z тест для долей (параметрика) (желательно нормальность) (чувствителен к выбросам) (чувствителен к гетероскедастичности)\n",
    ">            - Chi-square тест для долей (непараметрика) (нормальность не обязательна) (не чувствителен к гетероскедастичности)\n",
    "- Исследовать взаимосвязь между несколькими переменными\n",
    ">    - Дисперсионный анализ (параметрика) (дисперсии в группах должны быть примерно равны) (желательно нормальность) (чувствителен к выбросам) (чувствителен к гетероскедастичности)\n",
    ">    - Welch's ANOVA (устройчив к разной дисперсии в группах) (требует более больших размеров групп для точных результатов) (желательно нормальность) (чувствителен к выбросам) (не чувствителен к гетероскедастичности)\n",
    ">    - Критерий Краскела-Уоллиса (непараметрика) (нормальность не обязательна) (не чувствителен к гетероскедастичности)\n",
    ">    - Тест Тьюки (если anova или Краскела-Уоллиса нашил различия) (дисперсии в группах должны быть примерно равны) (параметрика) (желательно нормальность) (чувствителен к выбросам) (чувствителен к гетероскедастичности)\n",
    "- Проверить на равенство дисперсий в группах перед anova\n",
    ">    - Levene's test (не требует нормальность) (менее чувствительный)\n",
    ">    - Bartlett's test (требует нормальность) (более чувствительный)"
   ]
  },
  {
   "cell_type": "markdown",
   "metadata": {
    "id": "ear1oNyvrRXq"
   },
   "source": [
    ">Отличная статья про доверительные интервалы для разных статистик  \n",
    ">https://habr.com/ru/articles/807051/"
   ]
  },
  {
   "cell_type": "markdown",
   "metadata": {
    "id": "Eju4cQNtrRXr"
   },
   "source": [
    ">Bootstrapping"
   ]
  },
  {
   "cell_type": "markdown",
   "metadata": {
    "id": "elZyoqqtrRXt"
   },
   "source": [
    ">В бутстрепе, если мы хотим сравнить две выборки, то нельзя смотреть  \n",
    ">где находится исходная разница средних в бутстрапированной выборке  \n",
    ">Так как мы берем бутстреп из наших выборок и впролне реально.что наша разность  \n",
    ">будет близка к с реднему бутстропированной выборки  \n",
    ">Поэтому p value нужно определять по месту нуля в бутстропированной выборке"
   ]
  },
  {
   "cell_type": "markdown",
   "metadata": {
    "id": "hXuKniDLrRXv"
   },
   "source": [
    ">Посмотрим p value для 0 (если различий нет, то разница должна быть 0)\n",
    ">Для этого посчитаем cdf для + и - среднего, чтобы получить 2 значения cdf\n",
    ">а теперь возьмем минимум и умножим на 2, так как альт гипотеза у нас.что\n",
    ">просто не равно 0, значит и справа и слева"
   ]
  },
  {
   "cell_type": "code",
   "execution_count": null,
   "metadata": {
    "id": "Ih2pQOKorRXx"
   },
   "outputs": [],
   "source": []
  },
  {
   "cell_type": "code",
   "execution_count": null,
   "metadata": {
    "id": "D-GsmYRmrRXy"
   },
   "outputs": [],
   "source": [
    "Estimating the power of a non-parametric test using bootstrapping involves simulating the testing process multiple times to estimate the probability of rejecting the null hypothesis. Here's a general outline of the steps:\n",
    "\n",
    "**Specify the null and alternative hypotheses **: Define the null and alternative hypotheses for your test. For example, the null hypothesis might be that the two groups have the same distribution, and the alternative hypothesis might be that the two groups have different distributions.\n",
    "\n",
    "Generate simulated data: Generate simulated data that reflects the null hypothesis. For example, you could generate two groups of random data from the same distribution.\n",
    "\n",
    "Perform the Mann-Whitney U test: Perform the Mann-Whitney U test on the simulated data to obtain a p-value.\n",
    "\n",
    "Repeat steps 2-3 many times: Repeat steps 2-3 many times (e.g., 1000 times) to generate a distribution of p-values under the null hypothesis.\n",
    "\n",
    "Estimate the power: Estimate the power of the test by calculating the proportion of times the p-value is below a certain significance level (e.g., 0.05) when the alternative hypothesis is true. To do this, you'll need to generate simulated data that reflects the alternative hypothesis and repeat steps 2-4."
   ]
  },
  {
   "cell_type": "markdown",
   "metadata": {
    "id": "n4R_n4iprRXz"
   },
   "source": [
    "### Промежуточный вывод"
   ]
  },
  {
   "cell_type": "markdown",
   "metadata": {
    "id": "r9P9N3IDrRX0"
   },
   "source": [
    "## Общий вывод"
   ]
  },
  {
   "cell_type": "markdown",
   "metadata": {
    "id": "bmpuP5d_rRX3"
   },
   "source": [
    "**Выводы:**"
   ]
  },
  {
   "cell_type": "markdown",
   "metadata": {
    "id": "7RLsSTVirRX4"
   },
   "source": [
    "- Долги есть у людей с разным доходом.\n",
    "- У должников в среднем больше детей.\n",
    "- У должников среднее количество детей больше у женщин, а у не должников срднее количество детей больше у мужчин\n",
    "- У должников средний возраст немного ниже для всех категорий семейного положения.\n",
    "- Медианный доход у должников и не должников практически не отличается\n",
    "- Должники имеют ниже средний возраст как мужчины так и женщины. Ситуация сохраняется во всех группах дохода.\n",
    "- Цель получения кредита практически не зависит от среднего ежемесяченого дохода.\n",
    "- 92 % клиентов не имеют долга.\n",
    "- Люди от 30 до 50 лет имеют самый высокий средний доход.\n",
    "- Больше всего кредит берут на цели, связанные с недвижимостью, кроме людей в гражданском браке\n",
    "- Люди в гражданском браке чаще берут кредит на свадьбу\n",
    "- Женщины чаще возвращают кредит.\n",
    "- Анализ значимости признаков для модели случайного леса показал, что доход является самым значимым признаком для предсказания задолженности.\n",
    "- 58 % клиентов либо женаты, либо замужем. 19 % в гражданском браке. Можно сделать вывод что большинство в браке.  \n",
    "- Большинство клиентов женщины (66 процентов).\n",
    "- Только 5 процентов клиентов моложе 25 лет. Основная часть клиентов старше 30 лет.\n",
    "- Чем меньше количество детей, тем больше значений с высоким доходом.\n",
    "- Болшая часть женатых имеет доход 100-200 тыс\n",
    "- На всех уровнях образоания, кроме ученой степени, доход у мужчин выше.\n",
    "- У мужчин, которые в браке или были в браке, количество детей больше, чем у женщин в той же категории."
   ]
  },
  {
   "cell_type": "markdown",
   "metadata": {
    "id": "MeADEbPOrRX5"
   },
   "source": [
    "**Аномалии и особенности в данных:**\n",
    "- В датафрейме есть строки дубликаты. 54 строки. Меньше 1 % от всего датафрейма.  \n",
    "- В столбце с количеством детей есть отрицательные значения. 47 штук. Меньше 1 процента от всего датафрейма. Также есть клиенты с 20 детьми.\n",
    "- Колонока общий трудовой стаж содержит 74 % отрицаетльных значений. А также максимальное количество дней стажа больше 400 тысяч дней, это больше 1000 лет.\n",
    "- В колонке возраста 101 нулевое значени.\n",
    "- Колонка дохода имеет слишком много знаков после запятой.\n",
    "- В колонке с образованием присутствуют одни и те же знчения с разными регистрами. При этом в колонке с id образования все впрорядке.   "
   ]
  },
  {
   "cell_type": "markdown",
   "metadata": {
    "id": "aX3fyCp9rRX6"
   },
   "source": [
    "**Результаты предобработки данных:**\n",
    "- Удалили колонки с id образования и семейного статуса, так как нам для графиков лучше подойдут названия, а не id.\n",
    "- Колонка со стажем имеет совершенно некорректные данные. Чтобы не внести искажение в анализ, удалим эту колонку."
   ]
  },
  {
   "cell_type": "markdown",
   "metadata": {
    "id": "0pnmiAswrRX8"
   },
   "source": [
    "**Результаты проверки гипотез:**  \n",
    "- Гипотеза 1: У мужчин средний доход выше, чем у женщин  \n",
    "> **Результат:** На уровне значимости 0.05 гипотеза подтвердилась.\n",
    "- Гипотеза 2: Цель получения кредита практически не зависит от среднего ежемесячного дохода  \n",
    "> **Результат:** На уровне значимости 0.05 у нас нет оснований отвергнуть гипотезу.\n",
    "- Гипотеза 3: Средний доход по семейному статусу примерно одинаковый, но у вдовцов отличается  \n",
    "> **Результат:** На уровне значимости 0.05 гипотеза подтвердилась.\n",
    "- Гипотеза 4: У должников в среднем больше детей  \n",
    "> **Результат:** На уровне значимости 0.05 гипотеза подтвердилась.   \n",
    "- Гипотеза 5: У должников средний возраст ниже  \n",
    "> **Результат:** На уровне значимости 0.05 гипотеза подтвердилась. 95% доверительный интервал для разницы средних возрастов для должников и не должников равен (-inf, -2.74).  \n",
    "- Гипотеза 6: Медианный доход у должников и не должников не отличается  \n",
    "> **Результат:** На уровне значимости 0.05 нет оснований отвергнуть гипотезу. 95% доверительный интервал разницы между медианным доходом должников и не должников равен (-2648.05, 179.34).  \n",
    "- Гипотеза 7: Наличие детей не влияет на возврат кредита в срок  \n",
    "> **Результат:** На уровне значимости 0.05 гипотеза не подтвердилась."
   ]
  },
  {
   "cell_type": "markdown",
   "metadata": {
    "id": "13tLv9HRrRX9"
   },
   "source": [
    "**Рекомендации:**\n",
    "- Добавить контроль данных, чтобы не дублировались значения с разными регистрами в колонке с образованием.\n",
    "- Добавить уникальный идентификатор клиента, чтобы избежать дублирования строк.\n",
    "- Добавить проверку на отрицательные значения и на слишком болшьшие значения в количестве детей при загрузке данных.\n",
    "- Выяснить откуда возникают отрицательные значения в трудовом стаже и добавить контроль ввода невалидных данных.\n",
    "- Выяснить причину нулевых значений в колонке возраста и добавить проверку на нулевые значения при загрузке данных.\n",
    "- Выяснить причину большого количества знаков после запятой в колонке дохода."
   ]
  },
  {
   "cell_type": "markdown",
   "metadata": {
    "id": "Pmj-ObRTrRX-"
   },
   "source": [
    ">Что нужно сообщить в выводе\n",
    "- информацию о том, что удалось подтвердить гипотезы (тут пишем только те, которые удалось подтвердить)\n",
    "- всю информацию о датасете, которые важны. Дубликаты, которые несут практическую пользу и рекомендации по ним, пропуски также с рекомендациями  \n",
    ">и остальные моменты по данным и рекомендации. Тут важно указывать именно найденные аномалии, которые имеют практическую пользу, которые нужно исправить и прочее.  \n",
    ">Пишем, что были найдены выбросы, они были связаны возможно с тем то и тем то.\n",
    "- и в конце обязательно call to action\n",
    ">написать что необходимо сделать с этими результатами"
   ]
  },
  {
   "cell_type": "markdown",
   "metadata": {
    "id": "WWPG6qpdrRX_"
   },
   "source": [
    ">Советы по оформлению общего выывод\n",
    "- не нужно вставлять таблицы и графики в вывод.\n",
    ">В выводе пишем словами самое важное и практически полезное, что мы получили, причем в порядке убывания важности.  \n",
    ">И когда мы пишем, что увидели то-то, то приводим гиперссылку на график или результат ячейки, где это получено.  \n",
    ">Так будет компактный вывод и при необходимости человек сможет быстро перейти и посмотреть график или таблицу  "
   ]
  },
  {
   "cell_type": "markdown",
   "metadata": {
    "id": "qAw7KEN2rRYC"
   },
   "source": [
    "**Удалось подтвердить гипотезу** о влиянии различных характеристик клиента на факт погашения кредита в срок. Каждый из рассмотренных параметров оказывает влияние на надёжность заёмщика. Рассмотренные факторы по-разному влияют на надёжность заёмщиков. Например, семейное положение оказалось более значимым фактором, чем уровень дохода.\n"
   ]
  },
  {
   "cell_type": "markdown",
   "metadata": {
    "id": "ruled-penny"
   },
   "source": [
    "- В ходе анализа исходного набора данных было проведено (были устранены пропуски в двух колонках с числовыми значениями - 'total_income' и 'days_employed').  \n",
    "- После __устранения явных и скрытых дупликатов__ и удаления оставшихся после обогащения пропусков объем датасета сократился на 0.05%\n",
    "- Были устранены __выбросы__ в колонках 'days_employed' и 'children': в первом случае выбросы возникли в результате системной ошибки (данные были внесены в часах, а не в днях); во втором случае ошибка, вероятнее всего была допущена людьми, вносившими данные в систему\n",
    "- ..."
   ]
  },
  {
   "cell_type": "markdown",
   "metadata": {
    "id": "alleged-strand"
   },
   "source": [
    "**Необходимо**"
   ]
  },
  {
   "cell_type": "markdown",
   "metadata": {
    "id": "critical-worker"
   },
   "source": [
    ">1. Запросить в отделе по работе с клиентами информацию о возможности брать кредит без подтверждения дохода.\n",
    ">\n",
    ">2. Сообщить коллегам, занимающимся выгрузкой о наличие дубликатов, если вопрос не разрешится, запросить индентификационный номер клиента к датасету.\n",
    ">\n",
    ">3. Прописать в задаче на поставку данных формат данных (пол только F и M, положительные значения). Приложить информацию о найденных аномалиях."
   ]
  },
  {
   "cell_type": "code",
   "execution_count": null,
   "metadata": {
    "id": "io4IDHAJrRYG"
   },
   "outputs": [],
   "source": []
  },
  {
   "cell_type": "markdown",
   "metadata": {
    "id": "Er7EiuWYrRYG"
   },
   "source": [
    "**Сначала проверяем орфографические ошибки**"
   ]
  },
  {
   "cell_type": "code",
   "execution_count": null,
   "metadata": {
    "id": "_pW5GiprrRYH"
   },
   "outputs": [],
   "source": [
    "pagri_data_tools.correct_notebook_text()"
   ]
  },
  {
   "cell_type": "markdown",
   "metadata": {
    "id": "rCrdX7U5rRYI"
   },
   "source": [
    "**Затем создаем номера у глав и оглавление**"
   ]
  },
  {
   "cell_type": "markdown",
   "metadata": {
    "id": "RM6jELrjrRYJ"
   },
   "source": [
    ">Чтобы добавить номера глав и ссылки для оглавления и сделать оглавлнеие  \n",
    ">оглавление добавиться в начало ноутбука"
   ]
  },
  {
   "cell_type": "markdown",
   "metadata": {
    "id": "EG1gPMlerRYK"
   },
   "source": [
    ">Сначала можно в режиме `draft` сделать пробный варант, проверить и потом уже запустить в режиме `final`"
   ]
  },
  {
   "cell_type": "code",
   "execution_count": null,
   "metadata": {
    "id": "WRtUnZFcrRYL"
   },
   "outputs": [],
   "source": [
    "pagri_data_tools.make_headers_link_and_toc()"
   ]
  },
  {
   "cell_type": "markdown",
   "metadata": {
    "id": "mdRLzR2qrRYN"
   },
   "source": [
    "**Далее создаем ссыки на выводы и аномалии**"
   ]
  },
  {
   "cell_type": "markdown",
   "metadata": {
    "id": "K3DLmJLfrRYO"
   },
   "source": [
    ">Чтобы было удобно искать где вставить якорь для ссылки, названия выводов и аномалий должно точно совпадать   \n",
    ">в итоговом списке аномалий и выводов и в тех местах (то есть в наблюдениях под ячейками), куда мы будем помещать ссылки"
   ]
  },
  {
   "cell_type": "markdown",
   "metadata": {
    "id": "tMDpLns0rRYR"
   },
   "source": [
    ">Чтобы сделать ссылки на выводы и аномалии, нужно  \n",
    ">в тех местах, куда хотим переходить по ссылке вставить текст выводов или аномалий (берем прямо из основных выводов)  \n",
    ">выводы должны начинаться с `_conclusion_`  \n",
    ">аномалии  должны начинаться с `_anomaly_`  \n",
    ">Примеры:  \n",
    ">    "
   ]
  },
  {
   "cell_type": "code",
   "execution_count": null,
   "metadata": {
    "id": "V-mursy7rRYS"
   },
   "outputs": [],
   "source": [
    "_anomalies_ В столбце с количеством детей есть отрицательные значения. 47 штук."
   ]
  },
  {
   "cell_type": "markdown",
   "metadata": {
    "id": "83VYwFe0rRYT"
   },
   "source": [
    ">Можно в одной ячейке и выводы и аномалии, с обеих ссылок будет переходить сюда, но назад будет возвращаться только в одно место,    \n",
    ">в то, которое было первым в ячейке"
   ]
  },
  {
   "cell_type": "code",
   "execution_count": null,
   "metadata": {
    "id": "W6wIplrhrRYT"
   },
   "outputs": [],
   "source": [
    "_conclusion_ Только 5 процентов клиентов моложе 25 лет. Основная часть клиентов старше 30 лет.\n",
    "_anomalies_ В колонке возраста 101 нулевое значени."
   ]
  },
  {
   "cell_type": "markdown",
   "metadata": {
    "id": "9xYuxh5CrRYU"
   },
   "source": [
    ">Содеражние выводов и аномалий появится в начале ноутбука  \n",
    ">также 2 режима `draft` и `final`"
   ]
  },
  {
   "cell_type": "markdown",
   "metadata": {
    "id": "J0Zbbz6trRYW"
   },
   "source": [
    ">Подумать как сделать удобнее создание выводов  \n",
    ">Пока лучше сначала взять выводы из наблюдений и выбрать из них  наиболее важные и интересные, не меняя их.  \n",
    ">Далее берем этот список и поиском находим ячейку с этим выводом и перед графиком помещаем  \n",
    ">_conclusion_ и сам вывод  "
   ]
  },
  {
   "cell_type": "code",
   "execution_count": null,
   "metadata": {
    "id": "ItV52I6mrRYW"
   },
   "outputs": [],
   "source": []
  },
  {
   "cell_type": "markdown",
   "metadata": {
    "id": "LWSV7JF-rRYX"
   },
   "source": [
    ">Чтобы был нужный порядок в списке выводов и аномалий в начале отчета, нужно передвать словарь со списками выводов и аномалий.  \n",
    ">Переменная order принимает словарь, где ключи `onclusions` и `anomalies`, а значения это соответствующие списки  "
   ]
  },
  {
   "cell_type": "markdown",
   "metadata": {
    "id": "mT3LIclPrRYY"
   },
   "source": [
    ">Примеры списков"
   ]
  },
  {
   "cell_type": "code",
   "execution_count": null,
   "metadata": {
    "id": "1Ews3qfcrRYZ"
   },
   "outputs": [],
   "source": [
    "order = dict(\n",
    "            conclusions =[ 'Женщины чаще возвращают кредит, чем мужчины.']\n",
    "            , anomalies = ['В датафрейме есть строки дубликаты. 54 строки. Меньше 1 % от всего датафрейма.  ']\n",
    ")"
   ]
  },
  {
   "cell_type": "code",
   "execution_count": null,
   "metadata": {
    "id": "HQanlkhNrRYa"
   },
   "outputs": [],
   "source": [
    "pagri_data_tools.add_conclusions_and_anomalies()"
   ]
  },
  {
   "cell_type": "markdown",
   "metadata": {
    "id": "nXcpETvwrRYb"
   },
   "source": [
    "**Если сильно нужно, создаем ссыки на гипотезы**"
   ]
  },
  {
   "cell_type": "markdown",
   "metadata": {
    "id": "TPCep4jrrRYb"
   },
   "source": [
    ">В главе гипотез для каждой гипоетзы, куда будем переходить из оглавления, в начале перед гипотезой ставим _hypothesis_ и пробел"
   ]
  },
  {
   "cell_type": "code",
   "execution_count": null,
   "metadata": {
    "id": "EDPR_o9prRYe"
   },
   "outputs": [],
   "source": [
    "_hypothesis_ **Гипотеза 1: Название гипотезы**"
   ]
  },
  {
   "cell_type": "markdown",
   "metadata": {
    "id": "HnjOZbIXrRYj"
   },
   "source": [
    ">Выполняем следующую функцию и в начале отчета появится список гипотез с ссылками  \n",
    ">Далее нужно добавить результат гипотез вручную"
   ]
  },
  {
   "cell_type": "code",
   "execution_count": null,
   "metadata": {
    "id": "GBNMSqhNrRYm"
   },
   "outputs": [],
   "source": [
    "pagri_data_tools.add_hypotheses_links_and_toc()"
   ]
  },
  {
   "cell_type": "markdown",
   "metadata": {
    "id": "4-27OHTarRYo"
   },
   "source": [
    "**Финальное размещение ноутбука на git hub с ссылкой на google colab**  "
   ]
  },
  {
   "cell_type": "markdown",
   "metadata": {
    "id": "cR-da__XrRYq"
   },
   "source": [
    ">Комитим на гит хаб финальную версию ноутбука.  \n",
    ">Создаем на гит хаб readme файл проекта, в котором в начале идет ссылка на google colab  \n",
    ">Далее ее открываем и переходим на google colab  \n",
    ">Выполняем все ячейки, смотрим все ли правильно отобразилось.  \n",
    ">Далее в меню File выбираем сохранить копию на гит хаб.  \n",
    ">Не меняем имя, тогда все содержимое ноутбука сохраниться на гит хаб.  "
   ]
  }
 ],
 "metadata": {
  "colab": {
   "provenance": []
  },
  "kernelspec": {
   "display_name": "Python 3",
   "language": "python",
   "name": "python3"
  },
  "language_info": {
   "codemirror_mode": {
    "name": "ipython",
    "version": 3
   },
   "file_extension": ".py",
   "mimetype": "text/x-python",
   "name": "python",
   "nbconvert_exporter": "python",
   "pygments_lexer": "ipython3",
   "version": "3.10.12"
  }
 },
 "nbformat": 4,
 "nbformat_minor": 0
}
