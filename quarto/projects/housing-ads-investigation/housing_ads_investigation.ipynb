{
  "cells": [
    {
      "cell_type": "code",
      "source": [
        "%%capture\n",
        "!pip install git+https://github.com/PAGriAnalytics/pagri_analytics_modules.git"
      ],
      "metadata": {
        "id": "n7jT6DBOr8lw"
      },
      "execution_count": null,
      "outputs": []
    },
    {
      "cell_type": "raw",
      "metadata": {
        "vscode": {
          "languageId": "raw"
        },
        "id": "PMqpHJIyrRPP"
      },
      "source": [
        "---\n",
        "format:\n",
        "  html:\n",
        "    code-fold: true\n",
        "    code-summary: \"Show the code\"\n",
        "    fontsize: 16px\n",
        "    smooth-scroll: true\n",
        "    toc: true\n",
        "    toc-location: left\n",
        "    toc-title: Оглавление\n",
        "    grid:\n",
        "      body-width: 1100px\n",
        "---"
      ]
    },
    {
      "cell_type": "markdown",
      "metadata": {
        "id": "fbFSQIPSrRPZ"
      },
      "source": [
        "# Исследование объявлений о продаже квартир"
      ]
    },
    {
      "cell_type": "markdown",
      "metadata": {
        "id": "VMdW6PFbrRPd"
      },
      "source": [
        "**Описание проекта:**   \n",
        "Проект направлен на исследование факторов, влияющих на ценообразование на рынке недвижимости в Санкт-Петербурге.  \n",
        "В ходе проекта будут выявлены ключевые параметры, которые определяют стоимость квартир.  \n",
        "Полученные знания будут использованы для создания системы, которая будет отслеживать аномалии и предупреждать о возможных случаях мошенничества."
      ]
    },
    {
      "cell_type": "markdown",
      "metadata": {
        "id": "ipt2JTR8rRPe"
      },
      "source": [
        "**Автор:**  \n",
        "Григорьев Павел   "
      ]
    },
    {
      "cell_type": "markdown",
      "metadata": {
        "id": "ZsEHbcUfrRPf"
      },
      "source": [
        "**Цель:**    \n",
        "Выявить ключевые параметры, определяющие стоимость квартир, и разработать рекомендации для создания системы мониторинга,   \n",
        "которая поможет выявлять аномалии в ценах и предупреждать о мошенничестве на рынке недвижимости."
      ]
    },
    {
      "cell_type": "markdown",
      "metadata": {
        "id": "Vt5tonHmrRPk"
      },
      "source": [
        "**Источники данных:**  \n",
        "Данные сервиса Яндекс.Недвижимость — архив объявлений о продаже квартир в Санкт-Петербурге и соседних населённых пунктах за несколько лет."
      ]
    },
    {
      "cell_type": "markdown",
      "metadata": {
        "id": "slmTSmB-rRPp"
      },
      "source": [
        "**Условия проведения анализа днных:**  \n"
      ]
    },
    {
      "cell_type": "markdown",
      "metadata": {
        "id": "gRfc-gMHrRPq"
      },
      "source": [
        ">указываем временной интервал выборки  \n",
        ">Например, 'для анализ будут использоваться данные за год с 1 июня 2017 по 31 мая 2018 года'"
      ]
    },
    {
      "cell_type": "markdown",
      "metadata": {
        "id": "E8uSCXA8rRPv"
      },
      "source": [
        ">Например, 'для анализ будут использоваться данные за год с 1 июня 2017 по 31 мая 2018 года'"
      ]
    },
    {
      "cell_type": "markdown",
      "metadata": {
        "id": "rReqmmGVrRPx"
      },
      "source": [
        "**Главные выводы:**   \n",
        "тут помещаем самое главное из общего вывода, примерно до полустраницы, чтобы не было сильно много и при этом указать все главные выводы\n",
        "Будет идеально, елси выводы на похожие темы будут рядом, то есть елси мы имеем несколько выводов о доходе, то лушче поместить их рядом\n",
        "- Женщины чаще возвращают кредит, чем мужчины.\n",
        "- Долги присутствуют у людей с разным доходом.\n"
      ]
    },
    {
      "cell_type": "markdown",
      "metadata": {
        "id": "FFCiroaarRPy"
      },
      "source": [
        "**Аномалии и особенности в данных:**\n",
        "- В датафрейме есть строки дубликаты. 54 строки. Меньше 1 % от всего датафрейма.  \n",
        "- В столбце с количеством детей есть отрицательные значения. 47 штук. Меньше 1 процента от всего датафрейма. Также есть клиенты с 20 детьми."
      ]
    },
    {
      "cell_type": "markdown",
      "metadata": {
        "id": "Kgq29KQ6rRP0"
      },
      "source": [
        "**Рекомендации:**  \n",
        "- Добавить контроль данных, чтобы не дублировались значения с разными регистрами в колонке с образованием.\n",
        "- Добавить уникальный идентификатор клиента, чтобы избежать дублирования строк."
      ]
    },
    {
      "cell_type": "markdown",
      "metadata": {
        "id": "m-kodx1srRP1"
      },
      "source": [
        "\n",
        "**Оглавление**\n"
      ]
    },
    {
      "cell_type": "markdown",
      "metadata": {
        "id": "7pogbnogrRP3"
      },
      "source": [
        "## Загрузка библиотек"
      ]
    },
    {
      "cell_type": "code",
      "execution_count": null,
      "metadata": {
        "id": "uz_XD2forRP_"
      },
      "outputs": [],
      "source": [
        "import pandas as pd\n",
        "import numpy as np\n",
        "import plotly.express as px\n",
        "import pagri_data_tools  # type: ignore"
      ]
    },
    {
      "cell_type": "markdown",
      "metadata": {
        "id": "jMNnqZ9UrRQE"
      },
      "source": [
        "## Описание и изучение данных"
      ]
    },
    {
      "cell_type": "markdown",
      "metadata": {
        "id": "JzdBuNfWrRQF"
      },
      "source": [
        "### Описание данных\n"
      ]
    },
    {
      "cell_type": "markdown",
      "metadata": {
        "id": "P9un_cDqrRQG"
      },
      "source": [
        "По каждой квартире на продажу доступны два вида данных. Первые вписаны пользователем, вторые — получены автоматически на основе картографических данных.  \n",
        "Например, расстояние до центра, аэропорта, ближайшего парка и водоёма."
      ]
    },
    {
      "cell_type": "markdown",
      "metadata": {
        "id": "Fcn-u3VhrRQH"
      },
      "source": [
        "- airports_nearest - расстояние до ближайшего аэропорта в метрах (м)\n",
        "- balcony - число балконов\n",
        "- ceiling_height - высота потолков (м)\n",
        "- cityCenters_nearest - расстояние до центра города (м)\n",
        "- days_exposition - сколько дней было размещено объявление (от публикации до снятия)\n",
        "- first_day_exposition - дата публикации\n",
        "- floor - этаж\n",
        "- floors_total - всего этажей в доме\n",
        "- is_apartment - апартаменты (булев тип)\n",
        "- kitchen_area - площадь кухни в квадратных метрах (м²)\n",
        "- last_price - цена на момент снятия с публикации\n",
        "- living_area - жилая площадь в квадратных метрах(м²)\n",
        "- locality_name - название населённого пункта\n",
        "- open_plan - свободная планировка (булев тип)\n",
        "- parks_around3000 - число парков в радиусе 3 км\n",
        "- parks_nearest - расстояние до ближайшего парка (м)\n",
        "- ponds_around3000 - число водоёмов в радиусе 3 км\n",
        "- ponds_nearest - расстояние до ближайшего водоёма (м)\n",
        "- rooms - число комнат\n",
        "- studio - квартира-студия (булев тип)\n",
        "- total_area - площадь квартиры в квадратных метрах (м²)\n",
        "- total_images - число фотографий квартиры в объявлении"
      ]
    },
    {
      "cell_type": "markdown",
      "metadata": {
        "id": "K_8EphhRrRQJ"
      },
      "source": [
        "### Изучение данных"
      ]
    },
    {
      "cell_type": "markdown",
      "metadata": {
        "id": "znl0wLhbrRQM"
      },
      "source": [
        "#### Изучение переменных"
      ]
    },
    {
      "cell_type": "markdown",
      "metadata": {
        "id": "SIgjU21XrRQO"
      },
      "source": [
        "Оставим тип float, так как у нас пропуски в данных и мы не можем преобразовать нужные столбцы в int"
      ]
    },
    {
      "cell_type": "code",
      "execution_count": null,
      "metadata": {
        "id": "XPtQU0DErRQP",
        "outputId": "99d3fcc0-1f70-4c60-de65-49c33603bd31"
      },
      "outputs": [
        {
          "data": {
            "text/html": [
              "<div>\n",
              "<style scoped>\n",
              "    .dataframe tbody tr th:only-of-type {\n",
              "        vertical-align: middle;\n",
              "    }\n",
              "\n",
              "    .dataframe tbody tr th {\n",
              "        vertical-align: top;\n",
              "    }\n",
              "\n",
              "    .dataframe thead th {\n",
              "        text-align: right;\n",
              "    }\n",
              "</style>\n",
              "<table border=\"1\" class=\"dataframe\">\n",
              "  <thead>\n",
              "    <tr style=\"text-align: right;\">\n",
              "      <th></th>\n",
              "      <th>total_images</th>\n",
              "      <th>last_price</th>\n",
              "      <th>total_area</th>\n",
              "      <th>first_day_exposition</th>\n",
              "      <th>rooms</th>\n",
              "      <th>ceiling_height</th>\n",
              "      <th>floors_total</th>\n",
              "      <th>living_area</th>\n",
              "      <th>floor</th>\n",
              "      <th>is_apartment</th>\n",
              "      <th>...</th>\n",
              "      <th>kitchen_area</th>\n",
              "      <th>balcony</th>\n",
              "      <th>locality_name</th>\n",
              "      <th>airports_nearest</th>\n",
              "      <th>city_centers_nearest</th>\n",
              "      <th>parks_around3000</th>\n",
              "      <th>parks_nearest</th>\n",
              "      <th>ponds_around3000</th>\n",
              "      <th>ponds_nearest</th>\n",
              "      <th>days_exposition</th>\n",
              "    </tr>\n",
              "  </thead>\n",
              "  <tbody>\n",
              "    <tr>\n",
              "      <th>6029</th>\n",
              "      <td>7</td>\n",
              "      <td>4200000.0</td>\n",
              "      <td>42.00</td>\n",
              "      <td>2017-12-05</td>\n",
              "      <td>2</td>\n",
              "      <td>2.58</td>\n",
              "      <td>5.0</td>\n",
              "      <td>28.5</td>\n",
              "      <td>5</td>\n",
              "      <td>NaN</td>\n",
              "      <td>...</td>\n",
              "      <td>5.00</td>\n",
              "      <td>NaN</td>\n",
              "      <td>Санкт-Петербург</td>\n",
              "      <td>36416.0</td>\n",
              "      <td>9534.0</td>\n",
              "      <td>2.0</td>\n",
              "      <td>446.0</td>\n",
              "      <td>3.0</td>\n",
              "      <td>459.0</td>\n",
              "      <td>18.0</td>\n",
              "    </tr>\n",
              "    <tr>\n",
              "      <th>21836</th>\n",
              "      <td>7</td>\n",
              "      <td>3950000.0</td>\n",
              "      <td>45.00</td>\n",
              "      <td>2015-06-10</td>\n",
              "      <td>2</td>\n",
              "      <td>NaN</td>\n",
              "      <td>9.0</td>\n",
              "      <td>28.0</td>\n",
              "      <td>7</td>\n",
              "      <td>NaN</td>\n",
              "      <td>...</td>\n",
              "      <td>7.00</td>\n",
              "      <td>0.0</td>\n",
              "      <td>Санкт-Петербург</td>\n",
              "      <td>27880.0</td>\n",
              "      <td>12138.0</td>\n",
              "      <td>1.0</td>\n",
              "      <td>638.0</td>\n",
              "      <td>1.0</td>\n",
              "      <td>593.0</td>\n",
              "      <td>437.0</td>\n",
              "    </tr>\n",
              "    <tr>\n",
              "      <th>5698</th>\n",
              "      <td>7</td>\n",
              "      <td>450000.0</td>\n",
              "      <td>42.00</td>\n",
              "      <td>2017-07-31</td>\n",
              "      <td>2</td>\n",
              "      <td>NaN</td>\n",
              "      <td>1.0</td>\n",
              "      <td>23.0</td>\n",
              "      <td>1</td>\n",
              "      <td>NaN</td>\n",
              "      <td>...</td>\n",
              "      <td>5.80</td>\n",
              "      <td>NaN</td>\n",
              "      <td>городской посёлок Будогощь</td>\n",
              "      <td>NaN</td>\n",
              "      <td>NaN</td>\n",
              "      <td>NaN</td>\n",
              "      <td>NaN</td>\n",
              "      <td>NaN</td>\n",
              "      <td>NaN</td>\n",
              "      <td>233.0</td>\n",
              "    </tr>\n",
              "    <tr>\n",
              "      <th>9402</th>\n",
              "      <td>11</td>\n",
              "      <td>4900000.0</td>\n",
              "      <td>55.00</td>\n",
              "      <td>2017-06-19</td>\n",
              "      <td>2</td>\n",
              "      <td>NaN</td>\n",
              "      <td>14.0</td>\n",
              "      <td>32.0</td>\n",
              "      <td>14</td>\n",
              "      <td>NaN</td>\n",
              "      <td>...</td>\n",
              "      <td>8.50</td>\n",
              "      <td>2.0</td>\n",
              "      <td>Санкт-Петербург</td>\n",
              "      <td>39931.0</td>\n",
              "      <td>12834.0</td>\n",
              "      <td>0.0</td>\n",
              "      <td>NaN</td>\n",
              "      <td>0.0</td>\n",
              "      <td>NaN</td>\n",
              "      <td>15.0</td>\n",
              "    </tr>\n",
              "    <tr>\n",
              "      <th>2519</th>\n",
              "      <td>6</td>\n",
              "      <td>3511000.0</td>\n",
              "      <td>39.41</td>\n",
              "      <td>2018-08-07</td>\n",
              "      <td>1</td>\n",
              "      <td>2.65</td>\n",
              "      <td>27.0</td>\n",
              "      <td>NaN</td>\n",
              "      <td>12</td>\n",
              "      <td>NaN</td>\n",
              "      <td>...</td>\n",
              "      <td>11.28</td>\n",
              "      <td>1.0</td>\n",
              "      <td>посёлок Мурино</td>\n",
              "      <td>NaN</td>\n",
              "      <td>NaN</td>\n",
              "      <td>NaN</td>\n",
              "      <td>NaN</td>\n",
              "      <td>NaN</td>\n",
              "      <td>NaN</td>\n",
              "      <td>60.0</td>\n",
              "    </tr>\n",
              "  </tbody>\n",
              "</table>\n",
              "<p>5 rows × 22 columns</p>\n",
              "</div>"
            ],
            "text/plain": [
              "       total_images  last_price  total_area first_day_exposition  rooms  \\\n",
              "6029              7   4200000.0       42.00           2017-12-05      2   \n",
              "21836             7   3950000.0       45.00           2015-06-10      2   \n",
              "5698              7    450000.0       42.00           2017-07-31      2   \n",
              "9402             11   4900000.0       55.00           2017-06-19      2   \n",
              "2519              6   3511000.0       39.41           2018-08-07      1   \n",
              "\n",
              "       ceiling_height  floors_total  living_area  floor is_apartment  ...  \\\n",
              "6029             2.58           5.0         28.5      5          NaN  ...   \n",
              "21836             NaN           9.0         28.0      7          NaN  ...   \n",
              "5698              NaN           1.0         23.0      1          NaN  ...   \n",
              "9402              NaN          14.0         32.0     14          NaN  ...   \n",
              "2519             2.65          27.0          NaN     12          NaN  ...   \n",
              "\n",
              "      kitchen_area balcony               locality_name  airports_nearest  \\\n",
              "6029          5.00     NaN             Санкт-Петербург           36416.0   \n",
              "21836         7.00     0.0             Санкт-Петербург           27880.0   \n",
              "5698          5.80     NaN  городской посёлок Будогощь               NaN   \n",
              "9402          8.50     2.0             Санкт-Петербург           39931.0   \n",
              "2519         11.28     1.0              посёлок Мурино               NaN   \n",
              "\n",
              "      city_centers_nearest  parks_around3000  parks_nearest  ponds_around3000  \\\n",
              "6029                9534.0               2.0          446.0               3.0   \n",
              "21836              12138.0               1.0          638.0               1.0   \n",
              "5698                   NaN               NaN            NaN               NaN   \n",
              "9402               12834.0               0.0            NaN               0.0   \n",
              "2519                   NaN               NaN            NaN               NaN   \n",
              "\n",
              "       ponds_nearest  days_exposition  \n",
              "6029           459.0             18.0  \n",
              "21836          593.0            437.0  \n",
              "5698             NaN            233.0  \n",
              "9402             NaN             15.0  \n",
              "2519             NaN             60.0  \n",
              "\n",
              "[5 rows x 22 columns]"
            ]
          },
          "execution_count": 2,
          "metadata": {},
          "output_type": "execute_result"
        }
      ],
      "source": [
        "dtype = {'is_apartment': 'category', 'studio': 'category', 'open_plan': 'category'}\n",
        "df = pd.read_csv('https://code.s3.yandex.net/datasets/real_estate_data.csv', dtype=dtype, sep='\\t'\n",
        "                , parse_dates=['first_day_exposition'], date_format='%Y-%m-%dT%H:%M:%S')\n",
        "df.rename(columns={'cityCenters_nearest': 'city_centers_nearest'}, inplace=True)\n",
        "df.sample(5, random_state=7)"
      ]
    },
    {
      "cell_type": "markdown",
      "metadata": {
        "id": "Po0h43KRrRQV"
      },
      "source": [
        "Изучим каждую колонку отдельно"
      ]
    },
    {
      "cell_type": "code",
      "execution_count": null,
      "metadata": {
        "id": "mvE-1_8erRQW"
      },
      "outputs": [],
      "source": [
        "import pagri_prep"
      ]
    },
    {
      "cell_type": "code",
      "execution_count": null,
      "metadata": {
        "id": "Sls6QYRzrRQX",
        "outputId": "32a39186-2c20-4383-b8e4-d87958062e90"
      },
      "outputs": [
        {
          "data": {
            "text/plain": [
              "<module 'pagri_prep' from '/home/pagri/git_repos/pagri_analytics_modules/pagri_prep.py'>"
            ]
          },
          "execution_count": 18,
          "metadata": {},
          "output_type": "execute_result"
        }
      ],
      "source": [
        "import importlib\n",
        "importlib.reload(pagri_prep)"
      ]
    },
    {
      "cell_type": "code",
      "execution_count": null,
      "metadata": {
        "id": "K49UBEV_rRQY",
        "outputId": "df49dbe7-b3cb-45da-f13e-5ece787e7ce4"
      },
      "outputs": [
        {
          "data": {
            "text/html": [
              "<style type=\"text/css\">\n",
              "#T_24300 caption {\n",
              "  font-size: 18px;\n",
              "  text-align: left;\n",
              "  font-weight: bold;\n",
              "}\n",
              "#T_24300_row0_col0, #T_24300_row0_col1, #T_24300_row0_col2, #T_24300_row0_col3, #T_24300_row0_col4 {\n",
              "  text-align: left;\n",
              "}\n",
              "</style>\n",
              "<table id=\"T_24300\">\n",
              "  <caption>DataFrame</caption>\n",
              "  <thead>\n",
              "    <tr>\n",
              "      <th id=\"T_24300_level0_col0\" class=\"col_heading level0 col0\" >Rows</th>\n",
              "      <th id=\"T_24300_level0_col1\" class=\"col_heading level0 col1\" >Features</th>\n",
              "      <th id=\"T_24300_level0_col2\" class=\"col_heading level0 col2\" >RAM (Mb)</th>\n",
              "      <th id=\"T_24300_level0_col3\" class=\"col_heading level0 col3\" >Duplicates</th>\n",
              "      <th id=\"T_24300_level0_col4\" class=\"col_heading level0 col4\" >Dupl (sub - origin)</th>\n",
              "    </tr>\n",
              "  </thead>\n",
              "  <tbody>\n",
              "    <tr>\n",
              "      <td id=\"T_24300_row0_col0\" class=\"data row0 col0\" >23 699</td>\n",
              "      <td id=\"T_24300_row0_col1\" class=\"data row0 col1\" >22</td>\n",
              "      <td id=\"T_24300_row0_col2\" class=\"data row0 col2\" >5</td>\n",
              "      <td id=\"T_24300_row0_col3\" class=\"data row0 col3\" >---</td>\n",
              "      <td id=\"T_24300_row0_col4\" class=\"data row0 col4\" >---</td>\n",
              "    </tr>\n",
              "  </tbody>\n",
              "</table>\n"
            ],
            "text/plain": [
              "<pandas.io.formats.style.Styler at 0x77cd7f1cbc20>"
            ]
          },
          "execution_count": 19,
          "metadata": {},
          "output_type": "execute_result"
        }
      ],
      "source": [
        "gen = pagri_prep.my_info_gen(df)\n",
        "next(gen)"
      ]
    },
    {
      "cell_type": "markdown",
      "metadata": {
        "id": "p02xR_u8rRQZ"
      },
      "source": [
        "**Наблюдения:**\n",
        "- Полных дубликатов в датафрейме нет"
      ]
    },
    {
      "cell_type": "code",
      "execution_count": null,
      "metadata": {
        "id": "MnUco9corRQb"
      },
      "outputs": [],
      "source": [
        "next(gen)"
      ]
    },
    {
      "cell_type": "code",
      "execution_count": null,
      "metadata": {
        "id": "f1UklaHxrRQc"
      },
      "outputs": [],
      "source": [
        "import io\n",
        "import base64\n",
        "from IPython.display import display, HTML"
      ]
    },
    {
      "cell_type": "code",
      "execution_count": null,
      "metadata": {
        "id": "VOgt12lvrRQd",
        "outputId": "cb6d5ca9-ce77-4095-ca4c-32247eba5214"
      },
      "outputs": [
        {
          "data": {
            "text/html": [
              "\n",
              "<div style=\"display: flex; justify-content: flex-start; align-items: flex-end;\">\n",
              "    <pandas.io.formats.style.Styler object at 0x77cd7c30c860>\n",
              "    <div>\n",
              "        <img src=\"data:image/png;base64,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\" alt=\"График\"/>\n",
              "    </div>\n",
              "</div>\n"
            ],
            "text/plain": [
              "<IPython.core.display.HTML object>"
            ]
          },
          "metadata": {},
          "output_type": "display_data"
        }
      ],
      "source": [
        "res_df = pd.DataFrame([1,2,3]).style\n",
        "buf = io.BytesIO()\n",
        "fig = px.bar([1,2,3])\n",
        "fig.write_image(buf, format='png')\n",
        "buf.seek(0)\n",
        "img_str = base64.b64encode(buf.read()).decode('utf-8')\n",
        "final_html = f\"\"\"\n",
        "<div style=\"display: flex; justify-content: flex-start; align-items: flex-end;\">\n",
        "    {res_df}\n",
        "    <div>\n",
        "        <img src=\"data:image/png;base64,{img_str}\" alt=\"График\"/>\n",
        "    </div>\n",
        "</div>\n",
        "\"\"\"\n",
        "display(HTML(final_html))"
      ]
    },
    {
      "cell_type": "markdown",
      "metadata": {
        "id": "Q4Ax62_UrRQf"
      },
      "source": [
        ">ВАЖНО   \n",
        ">Если увидели, что у нас в категориальной переменной одни и те же значения, но записанные с большой и с маленькой буквы, например,  \n",
        ">или другие проблемы с написанием одно и того же слова, что приводит к увеличению значений в категории.   \n",
        ">То нужно сразу это убирать, так как дальнейший анализ будет страдать.  \n",
        ">Для дальнейшего анализа срауз приведем колонку education к нижнему регистру и удалим лишние пробелы"
      ]
    },
    {
      "cell_type": "markdown",
      "metadata": {
        "id": "tVTbXfHwrRQg"
      },
      "source": [
        ">Для дальнейшего анализа срауз приведем колонку education к нижнему регистру и удалим лишние пробелы"
      ]
    },
    {
      "cell_type": "markdown",
      "metadata": {
        "id": "oe2XozaBrRQg"
      },
      "source": [
        "Нужно проверить, что после нормализации категориальный тип остался прежний"
      ]
    },
    {
      "cell_type": "code",
      "execution_count": null,
      "metadata": {
        "id": "4AUG1U9UrRQh",
        "outputId": "357b4608-62d8-4abf-cf6c-f1d72297abb2"
      },
      "outputs": [
        {
          "data": {
            "text/plain": [
              "среднее                15233\n",
              "высшее                  5260\n",
              "неоконченное высшее      744\n",
              "начальное                282\n",
              "ученая степень             6\n",
              "Name: education, dtype: int64"
            ]
          },
          "execution_count": 3,
          "metadata": {},
          "output_type": "execute_result"
        }
      ],
      "source": [
        "df.education = pagri_prep.normalize_string_series(df.education)\n",
        "df.education.value_counts()"
      ]
    },
    {
      "cell_type": "code",
      "execution_count": null,
      "metadata": {
        "id": "do17lIxCrRQj"
      },
      "outputs": [],
      "source": [
        "df.education.dtype"
      ]
    },
    {
      "cell_type": "markdown",
      "metadata": {
        "id": "fzCC-p1arRQk"
      },
      "source": [
        ">сделать предположения, почему могло так произойти, выдвигаем гипотезы"
      ]
    },
    {
      "cell_type": "markdown",
      "metadata": {
        "id": "imABQ41qrRQk"
      },
      "source": [
        ">придумать способы проверки выдвинутых гипотез и записать"
      ]
    },
    {
      "cell_type": "markdown",
      "metadata": {
        "id": "WTyJVtIvrRQo"
      },
      "source": [
        ">если у нас по оси x время, то проанализировать сезонность"
      ]
    },
    {
      "cell_type": "markdown",
      "metadata": {
        "id": "q4p6RnJsrRQq"
      },
      "source": [
        ">подумать а так и должно было получиться, основываясь на понимании физики параметра  "
      ]
    },
    {
      "cell_type": "markdown",
      "metadata": {
        "id": "slQbFp3ZrRQr"
      },
      "source": [
        ">зафиксировать возможные рекомендации"
      ]
    },
    {
      "cell_type": "markdown",
      "metadata": {
        "id": "Dy2ihEfarRQu"
      },
      "source": [
        ">Для гистограмм, нужно понять почему именно такое распределение метрики.  \n",
        ">Совпадет это с логикой этой метрики."
      ]
    },
    {
      "cell_type": "markdown",
      "metadata": {
        "id": "nd260s9xrRQw"
      },
      "source": [
        ">Также когда строим гистограммы и вайолин плот, то не просто фиксируем, что есть тяжелые хвосты, разброс между квартилями такой-то.  \n",
        ">А думаем почему так, пытаемся связать это с физикой параметра. Должно быть физическое объяснение всех аномалий.  \n",
        ">Если объяснения нет, то возможно это инсайт.  "
      ]
    },
    {
      "cell_type": "markdown",
      "metadata": {
        "id": "sUlKHaY9rRQw"
      },
      "source": [
        ">Важно убедиться, что у нас есть данные на все источники, которые заявлены. Например, мы изучаем источники трафика и у нас они в разных таблицах.  \n",
        ">Нужно убедиться, что во всех таблицах есть все источники, и проверить нет ли аномалий, возможно какой-то сильно выбивается или какого-то вообще где-то нет.  "
      ]
    },
    {
      "cell_type": "markdown",
      "metadata": {
        "id": "NZgaJhEdrRQy"
      },
      "source": [
        ">И очень важно сверить, что периоды в разных таблицах (если у нас больше одной таблицы) совпадают.  "
      ]
    },
    {
      "cell_type": "markdown",
      "metadata": {
        "id": "xfiyvX02rRQy"
      },
      "source": [
        ">Важно проверить соответствуют ли временной период данных тому, который заявлен в задании,  \n",
        ">определиться что будем делать с неполными периодами.  "
      ]
    },
    {
      "cell_type": "markdown",
      "metadata": {
        "id": "q2O4wWUxrRQy"
      },
      "source": [
        ">Вообще, когда у нас несколько таблиц и там есть категориальные переменные или время, то  \n",
        ">мы должны взять уникальные значения категориальных переменных из каждой таблицы (одниаковые переменные) и сравнить.  \n",
        ">Количество уникальных должно совпадать, иначе нужно разбираться  \n",
        ">И с верменем как минимум мин и макс даты должны совпадать до дня, а лушше до минуты часа"
      ]
    },
    {
      "cell_type": "markdown",
      "metadata": {
        "id": "swTv_JDurRQz"
      },
      "source": [
        ">Очень важно, если у нас есть стартовая дата чего-то и конечная, то обязательно нужно проверить,  \n",
        ">нет ли у нас записей, где конечная дата меньше стартовой.  "
      ]
    },
    {
      "cell_type": "markdown",
      "metadata": {
        "id": "3OVGFHqwrRQ0"
      },
      "source": [
        ">Важная проверка, если у нас есть категории и даты, то сгруппировать по категориями и\n",
        ">вывести количество занчений, минимальную и максимальную дату  \n",
        ">Таким образом мы сразу поймем распределение в категории и  \n",
        ">увидем какие временные интервалы у каждой категории  \n",
        ">Если у нас все категории должны быть в один день, то мы поймем нет ли багов"
      ]
    },
    {
      "cell_type": "markdown",
      "metadata": {
        "id": "nVO5Inb-rRQ0"
      },
      "source": [
        ">Вообще очень важно смотреть не только на аномалии в значениях, но и аномалии в категориальных переменных.  \n",
        ">А тут аномалией будет отстутствие какого-то значения, хотя в описании или поставновке задачи оно есть.  \n",
        ">Также совпадение количества значений категориальных переменных в разных таблицах.  "
      ]
    },
    {
      "cell_type": "markdown",
      "metadata": {
        "id": "azp93eJFrRQ1"
      },
      "source": [
        ">Внимательно посмотреть на столбцы, если есть столбцы, в которых могут быть потенциальные анамали, то проверить их.  \n",
        ">Например, есть столбец возрасти стаж работы, проверить, что возраст больше стажа.  \n",
        ">И подобные случаи.  "
      ]
    },
    {
      "cell_type": "markdown",
      "metadata": {
        "id": "8ZpG3Gq2rRQ2"
      },
      "source": [
        ">Проверка на нарушения уникальности   \n",
        ">Убедить, что столбцы, значения в которых не должны повторяться и должны быть уникальными, такие в действительности.    \n",
        ">Смотрим на результат функции `my_info`"
      ]
    },
    {
      "cell_type": "markdown",
      "metadata": {
        "id": "VaqEvfk1rRQ3"
      },
      "source": [
        ">Проверка на ошибки целостности  \n",
        ">Если у нас есть столбцы, в которых значения должны совпдаать попарно, то проверяем на это  \n",
        ">`get_non_matching_rows`"
      ]
    },
    {
      "cell_type": "code",
      "execution_count": null,
      "metadata": {
        "id": "YTS3zeODrRQ4"
      },
      "outputs": [],
      "source": [
        "pagri_data_tools.get_non_matching_rows()"
      ]
    },
    {
      "cell_type": "markdown",
      "metadata": {
        "id": "dj5fN01crRQ5"
      },
      "source": [
        ">Проверка условий  \n",
        ">Проверьте, что данные в датафрейме удовлетворяют определенным условиям, таким как \"возраст > 18\" или \"страна == 'Россия'\""
      ]
    },
    {
      "cell_type": "markdown",
      "metadata": {
        "id": "GNxq7zArrRQ6"
      },
      "source": [
        "#### Изучение дубликатов"
      ]
    },
    {
      "cell_type": "markdown",
      "metadata": {
        "id": "V5oIk3ukrRQ7"
      },
      "source": [
        ">Не забываем про ИИ.  \n",
        ">Пишем список столбцов (именно что они значат, то есть образование, пол и прочее), говорим, что есть дубли.  \n",
        ">И просим предложить причины этих дублей. Если видим важное, то используем для рекомендаций, выводов и замены дублей в предобработке.  "
      ]
    },
    {
      "cell_type": "markdown",
      "metadata": {
        "id": "H07PEG-CrRQ8"
      },
      "source": [
        ">Проверяем на дубли  \n",
        "- Важно помнить, что если у нас есть id и название товара, то названия товара все равно нужно проверить на дубли,  \n",
        ">возможно у нас 2 ай ди с одним названием.\n",
        "- Также важно в каждой отдельной колонке проверить дубли и если их много, то посмотреть на соседние колонки, что там происходит\n",
        "- Дубликаты часто носят скрытый характер.  \n",
        ">То есть это могут быть поля, которые записаны  по разному, но относятся к одному и тому же.  \n",
        ">Поэтому важно, если у нас категориальный признак, изучить нет ли повторящихся категорий, которые записаны немного по разному.  \n",
        ">Так как это создает шум, мы по сути имеем две разные категории, но на самом деле это одна. Нужно собрать их в одну.  \n",
        "- И очень важно, если мы не подтвердили, что это действительно дубликат (например у нас нет ай ди клиента и мы не смогли выяснить один и тот же ли это человек),  \n",
        ">то нужно аккуратно удалять их. Но и оставлять много дублей плохо, так как они вносят шумы и искажения.  \n",
        "- Помним, что наличие дубликата не говорит точно, что это дубль, возможно у нас нет ещё колонок, котоыре бы детализировали и разделили эти дубли.  \n",
        ">Поэтому тут могут быть рекомендации, чтобы добавли в фрейм доп колонки, которые помогут убрать дубли (либо сам ищешь ещё поля)\n"
      ]
    },
    {
      "cell_type": "markdown",
      "metadata": {
        "id": "VhGP1ZqtrRQ9"
      },
      "source": [
        ">Когда смотрим на дубли, то нужно ответить на вопрос так и должно быть, это нормально, что дубли в этих колонках.   \n",
        ">Например у нас дубли во всех строках таблицы, нам нужно понять это может быть или этого не может быть, и нужно разбираться.   \n",
        ">Аналогично когда смотрим колонки по 2, 3 и так далее, то самое главное, ответить на вопрос дубли могут быть в этих колонках.   \n",
        ">Также когда разбиваем по категориям, задаем себе вопрос так могли распреедлеиться дубли.  "
      ]
    },
    {
      "cell_type": "markdown",
      "metadata": {
        "id": "gAIvnRXvrRQ-"
      },
      "source": [
        ">`check_duplicated`  \n",
        ">`check_duplicated_combinations_gen`  \n",
        ">В первую функцию можно передавать весь датафрейм и можно выбирать нужные столбцы для проверки на дубли и передавать их.  "
      ]
    },
    {
      "cell_type": "markdown",
      "metadata": {
        "id": "cvy6WMnPrRQ_"
      },
      "source": [
        ">Если мы нашли колонки в которых дубликатов не должно быть, то нужно изучить эти дубликаты по категориальным переменным в нашем датафрейме  \n",
        ">`analys_by_category_gen`  "
      ]
    },
    {
      "cell_type": "markdown",
      "metadata": {
        "id": "AO98y2JxrRRA"
      },
      "source": [
        "**Наблюдения:**\n",
        "- Особых перекосов в сторону определенного значения в категории не наблюдается"
      ]
    },
    {
      "cell_type": "markdown",
      "metadata": {
        "id": "jZ7Meu22rRRD"
      },
      "source": [
        ">Идем по порядку с помощью next(gen)  \n",
        ">если в выводе нет ничего интересного, то  выше помещаем ячейку с таким содержимым\n",
        ">%%capture  \n",
        ">next(gen)  \n",
        ">снова выполняем next(gen), если снова ничего интересного то, к ячейке выше добавляем next(gen)  будет так  \n",
        ">%%capture  \n",
        ">next(gen);next(gen)  \n",
        ">и так далее, пока не появится важная ячейка  \n",
        ">далее оставляем эту важную ячейку и снова повторяем с первого пункта,  \n",
        ">в итоге между ячейками с нужным выводом будут ячейки с запрещенным выводом и можно будет прогонять ноутбук весь целиком и выводы будут в нужнфх местах"
      ]
    },
    {
      "cell_type": "markdown",
      "metadata": {
        "id": "eSVLQmfkrRRE"
      },
      "source": [
        ">Посмотрим на дубли во всем датафрейме"
      ]
    },
    {
      "cell_type": "code",
      "execution_count": null,
      "metadata": {
        "id": "mgepwDqkrRRF"
      },
      "outputs": [],
      "source": [
        "pagri_data_tools.check_duplicated()"
      ]
    },
    {
      "cell_type": "markdown",
      "metadata": {
        "id": "w6o9SPOcrRRF"
      },
      "source": [
        ">Посмотрим сколько у нас дублей в каждой колонке"
      ]
    },
    {
      "cell_type": "code",
      "execution_count": null,
      "metadata": {
        "id": "y4DqQnU9rRRI"
      },
      "outputs": [],
      "source": [
        "series_duplicated = pagri_data_tools.find_columns_with_duplicates(df)"
      ]
    },
    {
      "cell_type": "markdown",
      "metadata": {
        "id": "2FwKg9YarRRI"
      },
      "source": [
        ">Посмотрим на строки датафрейма с дублями"
      ]
    },
    {
      "cell_type": "code",
      "execution_count": null,
      "metadata": {
        "id": "AMPAZRD7rRRJ"
      },
      "outputs": [],
      "source": [
        "col1_duplicated = series_duplicated['col1']\n",
        "col2_duplicated = series_duplicated['col2']"
      ]
    },
    {
      "cell_type": "code",
      "execution_count": null,
      "metadata": {
        "id": "aGGIx0l3rRRL"
      },
      "outputs": [],
      "source": [
        "col1_duplicated.head()\n",
        "col2_duplicated.head()"
      ]
    },
    {
      "cell_type": "code",
      "execution_count": null,
      "metadata": {
        "id": "krC976ubrRRM"
      },
      "outputs": [],
      "source": [
        "pagri_data_tools.check_duplicated_combinations_gen()\n",
        "pagri_data_tools.analys_by_category_gen()"
      ]
    },
    {
      "cell_type": "markdown",
      "metadata": {
        "id": "eNj6qA2NrRRN"
      },
      "source": [
        ">Важно на дубли проверить и отдельные строки и целиком таблицу и подумать какие группы столбцов могут дать дубли и на это тоже проверить.  "
      ]
    },
    {
      "cell_type": "markdown",
      "metadata": {
        "id": "BI8J4IRJrRRO"
      },
      "source": [
        ">Если в дублях у нас есть ай ди клиента, то тут понятно, если нет ай ди, то пишем рекомендацию, чтобы данные приходили с ай ди,  \n",
        ">чтобы можно было понять это один человек или нет"
      ]
    },
    {
      "cell_type": "markdown",
      "metadata": {
        "id": "eoPuzP5irRRR"
      },
      "source": [
        ">Если у нас id пользователя встречается не одни раз в таблице и есть другие поля которые должны быть всегда одни и те же,  \n",
        ">напримем пол и прочее, то нужно проверить у всех ли пользователей все значения одинаковые в этом столбце.  \n",
        ">Это может быть не только ай ди, любое уникальное поле, которое повторяется и для каждого этого поля есть другое  \n",
        ">поле, которое не должно меняться, нужно проверять а действительно ли это поле не меняется.  "
      ]
    },
    {
      "cell_type": "markdown",
      "metadata": {
        "id": "snznjs1VrRRS"
      },
      "source": [
        "#### Изучение пропусков"
      ]
    },
    {
      "cell_type": "markdown",
      "metadata": {
        "id": "faRPNuNsrRRT"
      },
      "source": [
        ">Не забываем про ИИ.  \n",
        ">Пишем название столбца (именно что они значат, то есть образование, пол и прочее), говорим, что есть пропуски.  \n",
        ">И просим предложить причины этих пропусков. Если видим важное, то используем для рекомендаций, выводов и замены пропусков в предобработке.  "
      ]
    },
    {
      "cell_type": "markdown",
      "metadata": {
        "id": "xgXLv1s_rRRU"
      },
      "source": [
        ">Проверяем на пропуски"
      ]
    },
    {
      "cell_type": "markdown",
      "metadata": {
        "id": "fB1buUoTrRRV"
      },
      "source": [
        ">Когда смотрим на пропуски, то нужно ответить на вопрос так и должно быть, это нормально, что пропуски в этих колонках.   \n",
        ">Когда смотрим на пропуски по категориям, то думаем есть ли закономерность, не случайно ли распределение по категориям  "
      ]
    },
    {
      "cell_type": "markdown",
      "metadata": {
        "id": "yK_ZxfmprRRW"
      },
      "source": [
        ">Когда мы встречаем пропуски, прежде всего, нужно ответить на вопрос, существует ли закономерность в появлении пропусков.   \n",
        ">Иными словами, не случайно ли их возникновение в наборе данных.  \n",
        ">Случайно, значит нет закономерности с соседними столбцами, то есть пропуски есть для разных значений.  \n",
        ">А могут быть неслучайные, то есть существует явная закономерностЬ, что пропуски есть только у сторок с общими занчениями в другом столбце.    \n",
        ">Чтобы это проверить, нужно взять столбец с пропусками, отфильтровать только пропуски (взять их) и  \n",
        ">посмотреть как эти пропуски распределены по другой переменной.    "
      ]
    },
    {
      "cell_type": "markdown",
      "metadata": {
        "id": "L4wUxXbRrRRX"
      },
      "source": [
        "- Первое что нужно сделать, когда мы видим пропуск или выброс, это проверить является ли оно случайным.  \n",
        ">То есть посмотреть не относятся ли все выбросы к одной категории. Если это так, то это уже не случайно и мы нашли аномалию, которую можно изучать.  \n",
        ">Если у нас случайны разброс пропусков в категориях, то значит тут есть случайность.  \n",
        ">Например, у нас возраст 0, и мы видим, что больше всего это у женщин. Следовательно получаем гипотезу, что женщины не хотят сообщать свой возраст.  \n",
        "- В пропусках мы можем определить какие категории, платформы и прочее не собираются данные. Смотрим пропуски, далее смотрим у каких категорий их больше,  \n",
        ">и получаем вывод, что нужно обратить внимание на эти категории или системы, почему там пропуски"
      ]
    },
    {
      "cell_type": "markdown",
      "metadata": {
        "id": "SQ1NAQGtrRRY"
      },
      "source": [
        ">`find_columns_with_missing_values`  \n",
        ">`check_na_in_both_columns`  \n",
        ">`analys_by_category_gen`"
      ]
    },
    {
      "cell_type": "code",
      "execution_count": null,
      "metadata": {
        "id": "9EPw-6YCrRRZ",
        "outputId": "5b8885fe-845d-4893-a884-f592175a18ca"
      },
      "outputs": [
        {
          "data": {
            "text/html": [
              "<style type=\"text/css\">\n",
              "#T_eac9c_ caption {\n",
              "  font-size: 18px;\n",
              "  text-align: left;\n",
              "  font-weight: bold;\n",
              "}\n",
              "</style>\n",
              "<table id=\"T_eac9c_\">\n",
              "  <caption>Missings</caption>\n",
              "  <thead>\n",
              "  </thead>\n",
              "  <tbody>\n",
              "    <tr>\n",
              "      <th id=\"T_eac9c_level0_row0\" class=\"row_heading level0 row0\" >days_employed</th>\n",
              "      <td id=\"T_eac9c_row0_col0\" class=\"data row0 col0\" >2174 (10.10%)</td>\n",
              "    </tr>\n",
              "    <tr>\n",
              "      <th id=\"T_eac9c_level0_row1\" class=\"row_heading level0 row1\" >total_income</th>\n",
              "      <td id=\"T_eac9c_row1_col0\" class=\"data row1 col0\" >2174 (10.10%)</td>\n",
              "    </tr>\n",
              "  </tbody>\n",
              "</table>\n"
            ],
            "text/plain": [
              "<pandas.io.formats.style.Styler at 0x15835198>"
            ]
          },
          "metadata": {},
          "output_type": "display_data"
        }
      ],
      "source": [
        "series_missed = pagri_prep.find_columns_with_missing_values(df)"
      ]
    },
    {
      "cell_type": "markdown",
      "metadata": {
        "id": "hfMw_9PIrRRa"
      },
      "source": [
        ">Посмотрим на строки датафрейма с пропусками"
      ]
    },
    {
      "cell_type": "code",
      "execution_count": null,
      "metadata": {
        "id": "1sM5VzgXrRRc"
      },
      "outputs": [],
      "source": [
        "col1_missed = series_missed['col1']\n",
        "col2_missed = series_missed['col2']"
      ]
    },
    {
      "cell_type": "code",
      "execution_count": null,
      "metadata": {
        "id": "naNGloVkrRRd"
      },
      "outputs": [],
      "source": [
        "col1_missed.head()\n",
        "col2_missed.head()"
      ]
    },
    {
      "cell_type": "markdown",
      "metadata": {
        "id": "TxzmmGbArRRe"
      },
      "source": [
        ">Посмотрим сколько пропусков в обоих колонках вместе"
      ]
    },
    {
      "cell_type": "code",
      "execution_count": null,
      "metadata": {
        "id": "OSh3L0RKrRRf"
      },
      "outputs": [],
      "source": [
        "pagri_data_tools.check_na_in_both_columns()"
      ]
    },
    {
      "cell_type": "markdown",
      "metadata": {
        "id": "Gp0GAavDrRRg"
      },
      "source": [
        ">Изучаем пропуски по категориям"
      ]
    },
    {
      "cell_type": "markdown",
      "metadata": {
        "id": "tl-QF5wvrRRh"
      },
      "source": [
        ">Смотрим на все поля  \n",
        ">in_category_pct говорит о том сколько в этом значении категории изучаемых значений  \n",
        ">in_column_pct говорит о том сколько процентов изучаемого значения данного значения категории в общем  \n",
        ">total_count_pct помогает анализировать in_column_pct, так как мы видим сколько занимает это значение в общем  "
      ]
    },
    {
      "cell_type": "code",
      "execution_count": null,
      "metadata": {
        "id": "lkG1Btu6rRRi"
      },
      "outputs": [],
      "source": [
        "gen = pagri_prep.analys_by_category_gen(df, series_missed, is_dash=True)\n"
      ]
    },
    {
      "cell_type": "code",
      "execution_count": null,
      "metadata": {
        "id": "L7sLYBaNrRRj"
      },
      "outputs": [],
      "source": [
        "next(gen)"
      ]
    },
    {
      "cell_type": "code",
      "execution_count": null,
      "metadata": {
        "id": "MbBCA3DGrRRk"
      },
      "outputs": [],
      "source": [
        "gen = pagri_prep.analys_by_category_gen(df, series_missed, is_dash=True)"
      ]
    },
    {
      "cell_type": "code",
      "execution_count": null,
      "metadata": {
        "id": "vmS3ndJHrRRl",
        "outputId": "7684431e-7461-4630-d93a-182c9633b00f"
      },
      "outputs": [
        {
          "data": {
            "text/html": [
              "<div>\n",
              "<style scoped>\n",
              "    .dataframe tbody tr th:only-of-type {\n",
              "        vertical-align: middle;\n",
              "    }\n",
              "\n",
              "    .dataframe tbody tr th {\n",
              "        vertical-align: top;\n",
              "    }\n",
              "\n",
              "    .dataframe thead th {\n",
              "        text-align: right;\n",
              "    }\n",
              "</style>\n",
              "<table border=\"1\" class=\"dataframe\">\n",
              "  <thead>\n",
              "    <tr style=\"text-align: right;\">\n",
              "      <th></th>\n",
              "      <th>children</th>\n",
              "      <th>days_employed</th>\n",
              "      <th>dob_years</th>\n",
              "      <th>education</th>\n",
              "      <th>education_id</th>\n",
              "      <th>family_status</th>\n",
              "      <th>family_status_id</th>\n",
              "      <th>gender</th>\n",
              "      <th>income_type</th>\n",
              "      <th>debt</th>\n",
              "      <th>total_income</th>\n",
              "      <th>purpose</th>\n",
              "    </tr>\n",
              "  </thead>\n",
              "  <tbody>\n",
              "    <tr>\n",
              "      <th>0</th>\n",
              "      <td>1</td>\n",
              "      <td>-8437.673028</td>\n",
              "      <td>42</td>\n",
              "      <td>высшее</td>\n",
              "      <td>0</td>\n",
              "      <td>женат / замужем</td>\n",
              "      <td>0</td>\n",
              "      <td>F</td>\n",
              "      <td>сотрудник</td>\n",
              "      <td>0</td>\n",
              "      <td>253875.639453</td>\n",
              "      <td>покупка жилья</td>\n",
              "    </tr>\n",
              "    <tr>\n",
              "      <th>1</th>\n",
              "      <td>1</td>\n",
              "      <td>-4024.803754</td>\n",
              "      <td>36</td>\n",
              "      <td>среднее</td>\n",
              "      <td>1</td>\n",
              "      <td>женат / замужем</td>\n",
              "      <td>0</td>\n",
              "      <td>F</td>\n",
              "      <td>сотрудник</td>\n",
              "      <td>0</td>\n",
              "      <td>112080.014102</td>\n",
              "      <td>приобретение автомобиля</td>\n",
              "    </tr>\n",
              "    <tr>\n",
              "      <th>2</th>\n",
              "      <td>0</td>\n",
              "      <td>-5623.422610</td>\n",
              "      <td>33</td>\n",
              "      <td>Среднее</td>\n",
              "      <td>1</td>\n",
              "      <td>женат / замужем</td>\n",
              "      <td>0</td>\n",
              "      <td>M</td>\n",
              "      <td>сотрудник</td>\n",
              "      <td>0</td>\n",
              "      <td>145885.952297</td>\n",
              "      <td>покупка жилья</td>\n",
              "    </tr>\n",
              "    <tr>\n",
              "      <th>3</th>\n",
              "      <td>3</td>\n",
              "      <td>-4124.747207</td>\n",
              "      <td>32</td>\n",
              "      <td>среднее</td>\n",
              "      <td>1</td>\n",
              "      <td>женат / замужем</td>\n",
              "      <td>0</td>\n",
              "      <td>M</td>\n",
              "      <td>сотрудник</td>\n",
              "      <td>0</td>\n",
              "      <td>267628.550329</td>\n",
              "      <td>дополнительное образование</td>\n",
              "    </tr>\n",
              "    <tr>\n",
              "      <th>4</th>\n",
              "      <td>0</td>\n",
              "      <td>340266.072047</td>\n",
              "      <td>53</td>\n",
              "      <td>среднее</td>\n",
              "      <td>1</td>\n",
              "      <td>гражданский брак</td>\n",
              "      <td>1</td>\n",
              "      <td>F</td>\n",
              "      <td>пенсионер</td>\n",
              "      <td>0</td>\n",
              "      <td>158616.077870</td>\n",
              "      <td>сыграть свадьбу</td>\n",
              "    </tr>\n",
              "  </tbody>\n",
              "</table>\n",
              "</div>"
            ],
            "text/plain": [
              "   children  days_employed  dob_years education  education_id  \\\n",
              "0         1   -8437.673028         42    высшее             0   \n",
              "1         1   -4024.803754         36   среднее             1   \n",
              "2         0   -5623.422610         33   Среднее             1   \n",
              "3         3   -4124.747207         32   среднее             1   \n",
              "4         0  340266.072047         53   среднее             1   \n",
              "\n",
              "      family_status  family_status_id gender income_type  debt   total_income  \\\n",
              "0   женат / замужем                 0      F   сотрудник     0  253875.639453   \n",
              "1   женат / замужем                 0      F   сотрудник     0  112080.014102   \n",
              "2   женат / замужем                 0      M   сотрудник     0  145885.952297   \n",
              "3   женат / замужем                 0      M   сотрудник     0  267628.550329   \n",
              "4  гражданский брак                 1      F   пенсионер     0  158616.077870   \n",
              "\n",
              "                      purpose  \n",
              "0               покупка жилья  \n",
              "1     приобретение автомобиля  \n",
              "2               покупка жилья  \n",
              "3  дополнительное образование  \n",
              "4             сыграть свадьбу  "
            ]
          },
          "execution_count": 55,
          "metadata": {},
          "output_type": "execute_result"
        }
      ],
      "source": [
        "df.head()"
      ]
    },
    {
      "cell_type": "markdown",
      "metadata": {
        "id": "F3OueZxUrRRm"
      },
      "source": [
        "#### Изучение выбросов"
      ]
    },
    {
      "cell_type": "markdown",
      "metadata": {
        "id": "dV9FXk65rRRm"
      },
      "source": [
        ">Не забываем про ИИ.  \n",
        ">Пишем название столбца (именно что они значат, то есть образование, пол и прочее), говорим, что есть выбросы.  \n",
        ">Обязательно приводим значения выбросов, самые характерные, чтобы дать ИИ болше информации.\n",
        ">И просим предложить причины этих выбросов. Если видим важное, то используем для рекомендаций, выводов и замены выбросов в предобработке.  "
      ]
    },
    {
      "cell_type": "markdown",
      "metadata": {
        "id": "efaJhrzDrRRn"
      },
      "source": [
        ">Когда смотрим на выбросы, то нужно ответить на вопрос так и должно быть, это нормально, что выбросы в этих колонках.   "
      ]
    },
    {
      "cell_type": "markdown",
      "metadata": {
        "id": "Igp6sguvrRRo"
      },
      "source": [
        "- Выбросы это не только просто сильно большое или сильно маленькое значение.  \n",
        "- Выбросы нужно также смотреть по мультипараметрам, с помощью моделей и искать аномалии.  \n",
        "- Выброс это то, что отделяется от других, что выбивается из общей картины. Следовательно это что-то особенное.  \n",
        "- Тажке выбросы говорят не только о плюсах, но и о минусах. Выбросы могут сказать, что у нас что-то сломалось.  \n",
        ">Что-то не записывается, или работает с багами. Все это можно увдитеь по выбрасам и аномалиям.  \n",
        "- Обязательно посмотреть выбросы в разрезе категорий, так как мы сможем сделать выводы об их источнике.  \n",
        "- Если мы работаем со строгой отчетностью, то тут любой выброс это уже инсайт и нужно идти разбираться откуда это взялось.  "
      ]
    },
    {
      "cell_type": "markdown",
      "metadata": {
        "id": "70rEtfcWrRRp"
      },
      "source": [
        ">Если мы во время изучения данных выявили потенциальные выбросы, то нужно их отдельно изучить.    \n",
        ">Для этого создаем датафрейм с нужными значениями и помещаем его в `Series`,  \n",
        ">индекс это название колонки, в которой мы изучаем выброс.  \n",
        ">Далее отдаем этот  `Series` в функцию `analys_by_category_gen`."
      ]
    },
    {
      "cell_type": "markdown",
      "metadata": {
        "id": "XY94COpBrRRq"
      },
      "source": [
        ">Сначала изучим потенциальные выбросы, которые мы выявили при изучении колонок.  \n",
        ">У нас в количестве детей есть значение 20.   \n",
        ">Изучим его подробнее.  "
      ]
    },
    {
      "cell_type": "markdown",
      "metadata": {
        "id": "mEHzLKonrRRq"
      },
      "source": [
        ">Важно при изучении колонок записывать выбросы отдельно и потом коппировать сюда.  \n",
        ">А тут нужно изучить эти значения отдельно."
      ]
    },
    {
      "cell_type": "code",
      "execution_count": null,
      "metadata": {
        "id": "3aT5nRZmrRRs"
      },
      "outputs": [],
      "source": [
        "outliers_series = pd.Series([df[df.children == 20]], index=['children'])\n",
        "gen = pagri_data_tools.analys_by_category_gen(df, outliers_series)\n",
        "next(gen)"
      ]
    },
    {
      "cell_type": "markdown",
      "metadata": {
        "id": "DxU9QCuzrRRu"
      },
      "source": [
        ">Смотрим на выбросы используя Z-score  \n",
        ">`detect_outliers_Zscore`"
      ]
    },
    {
      "cell_type": "code",
      "execution_count": null,
      "metadata": {
        "id": "LS871xmHrRRv"
      },
      "outputs": [],
      "source": [
        "series_outliers = pagri_data_tools.detect_outliers_Zscore()\n",
        "# сначала смотрим на значения с большим количеством выбросов\n",
        "series_outliers['col'].col.value_counts().to_frame('outliers')\n",
        "# затем уже изучаем определенные датафреймы в series_outliers\n",
        "series_outliers['col'].head()"
      ]
    },
    {
      "cell_type": "markdown",
      "metadata": {
        "id": "t0Apj8EprRRx"
      },
      "source": [
        ">Смотрим на выбросы используя квантили  \n",
        ">`detect_outliers_quantile`"
      ]
    },
    {
      "cell_type": "code",
      "execution_count": null,
      "metadata": {
        "id": "K8UD1L-QrRRy"
      },
      "outputs": [],
      "source": [
        "series_outliers = pagri_data_tools.detect_outliers_quantile(df)"
      ]
    },
    {
      "cell_type": "markdown",
      "metadata": {
        "id": "VgpgQyE3rRRz"
      },
      "source": [
        ">Посмотрим на строки датафрейма с пропусками"
      ]
    },
    {
      "cell_type": "code",
      "execution_count": null,
      "metadata": {
        "id": "U3GJjghzrRR0"
      },
      "outputs": [],
      "source": [
        "col1_outliers = series_outliers['col1']\n",
        "col2_outliers = series_outliers['col2']"
      ]
    },
    {
      "cell_type": "code",
      "execution_count": null,
      "metadata": {
        "id": "Zg_LKXd1rRR1"
      },
      "outputs": [],
      "source": [
        "col1_outliers.head()\n",
        "col2_outliers.head()"
      ]
    },
    {
      "cell_type": "markdown",
      "metadata": {
        "id": "X83vcRvgrRR1"
      },
      "source": [
        ">Изучить выбросы по категориями  \n",
        ">`analys_by_category_gen`  "
      ]
    },
    {
      "cell_type": "markdown",
      "metadata": {
        "id": "FXzVAHD5rRR3"
      },
      "source": [
        ">Смотрим на все поля  \n",
        ">`in_category_pct` говорит о том сколько в этом значении категории изучаемых значений  \n",
        ">`in_column_pct` говорит о том сколько процентов изучаемого значения данного значения категории в общем  \n",
        ">`total_count_pct` помогает анализировать `in_column_pct`, так как мы видим сколько занимает это значение в общем  "
      ]
    },
    {
      "cell_type": "code",
      "execution_count": null,
      "metadata": {
        "id": "bkXYgecbrRR4"
      },
      "outputs": [],
      "source": [
        "gen = pagri_data_tools.analys_by_category_gen(df, series_outliers)\n",
        "next(gen)"
      ]
    },
    {
      "cell_type": "markdown",
      "metadata": {
        "id": "wLmJ8BBFrRR4"
      },
      "source": [
        "#### Изучение отрицательных значений"
      ]
    },
    {
      "cell_type": "markdown",
      "metadata": {
        "id": "Corh0a7-rRR5"
      },
      "source": [
        ">Не забываем про ИИ.  \n",
        ">Пишем название столбца (именно что они значат, то есть образование, пол и прочее), говорим, что есть отрицательные значения там где их быть не должно.  \n",
        ">Обязательно приводим значения, самые характерные, чтобы дать ИИ болше информации.\n",
        ">И просим предложить причины этих отрицательных значений. Если видим важное, то используем для рекомендаций, выводов и замены отрицательных значений в предобработке.  "
      ]
    },
    {
      "cell_type": "markdown",
      "metadata": {
        "id": "CUbMhM5zrRR6"
      },
      "source": [
        ">Очень важно, если у нас есть столбец, в котором не должно быть отрицательных значений, то нам нужно отдельно изучить положительные и отрицательные значения.  \n",
        ">И те и те посмотреть по категориям.  \n",
        ">И на основе этого изучения мы моежм заметить причины отрицательных значений.  \n",
        ">Например, в колонке стажа у нас очень много отрицательных значений и есть положительные значения.  \n",
        ">Мы отдельно посмотрели отрицательные значения и они в основном принадлежат работающим людям.  \n",
        ">А положительные пренадлежат пенсионерам.   \n",
        ">Важно и полоительные и отрицательные значения посмотреть их макс и мин.   \n",
        ">Вот мы для стажа посмотрели макси и мин и видим, что отрицательные значения похожи на реальные значения в годах.   \n",
        ">А вот положительные слишком большие, и далее мы поняли, что это данные в часах.  \n",
        ">В итоге у нас уже много предположений, которые помогут выяснить откуда появляются странные данные в этом столбце.  \n",
        ">К тому же мы можем попробовать заменить отрицательные значения, если у нас есть уверенность на основе анализа.  "
      ]
    },
    {
      "cell_type": "markdown",
      "metadata": {
        "id": "G93V0SfVrRR6"
      },
      "source": [
        ">Изучаем отрицательные значения"
      ]
    },
    {
      "cell_type": "code",
      "execution_count": null,
      "metadata": {
        "id": "MOCqs2FErRR7"
      },
      "outputs": [],
      "source": [
        "series_negative = pagri_data_tools.find_columns_with_negative_values(df)"
      ]
    },
    {
      "cell_type": "markdown",
      "metadata": {
        "id": "eSVpwouirRR7"
      },
      "source": [
        ">Определяем в каких колонках не должно быть орицательных значений.  \n",
        ">Колонки в которых допустимы отрицательные значения удаляем из `series_negative`"
      ]
    },
    {
      "cell_type": "markdown",
      "metadata": {
        "id": "AY5DaacNrRR8"
      },
      "source": [
        ">Изучим отрицательные значения в разрезе категорий"
      ]
    },
    {
      "cell_type": "markdown",
      "metadata": {
        "id": "152lIgw-rRR9"
      },
      "source": [
        ">Смотрим на все поля  \n",
        ">in_category_pct говорит о том сколько в этом значении категории изучаемых значений  \n",
        ">in_column_pct говорит о том сколько процентов изучаемого значения данного значения категории в общем  \n",
        ">total_count_pct помогает анализировать in_column_pct, так как мы видим сколько занимает это значение в общем  "
      ]
    },
    {
      "cell_type": "code",
      "execution_count": null,
      "metadata": {
        "id": "N520a-uerRR_"
      },
      "outputs": [],
      "source": [
        "gen = pagri_data_tools.analys_by_category_gen(df, series_negative)\n",
        "next(gen)"
      ]
    },
    {
      "cell_type": "markdown",
      "metadata": {
        "id": "UmMPQBCvrRSA"
      },
      "source": [
        "#### Изучение нулевых значений"
      ]
    },
    {
      "cell_type": "markdown",
      "metadata": {
        "id": "LGls6kbYrRSB"
      },
      "source": [
        ">Не забываем про ИИ.  \n",
        ">Пишем название столбца (именно что они значат, то есть образование, пол и прочее), говорим, что есть нули там, гед их быть не должно.  \n",
        ">И просим предложить причины этих нулей. Если видим важное, то используем для рекомендаций, выводов и замены нулей в предобработке.  "
      ]
    },
    {
      "cell_type": "markdown",
      "metadata": {
        "id": "jdAS2wFlrRSB"
      },
      "source": [
        ">Изучаем нулевые значения"
      ]
    },
    {
      "cell_type": "code",
      "execution_count": null,
      "metadata": {
        "id": "jCVLe3DarRSC"
      },
      "outputs": [],
      "source": [
        "series_zeros = pagri_data_tools.find_columns_with_zeros_values(df)"
      ]
    },
    {
      "cell_type": "markdown",
      "metadata": {
        "id": "O-mYIakQrRSE"
      },
      "source": [
        ">Определяем в каких колонках не должно быть нулевых значений.  \n",
        ">Колонки в которых допустимы нулевые значения удаляем из `series_negative`  \n"
      ]
    },
    {
      "cell_type": "code",
      "execution_count": null,
      "metadata": {
        "id": "TY8olJPBrRSF",
        "outputId": "1a559f7c-ede7-4008-b129-323dd72eda51"
      },
      "outputs": [
        {
          "data": {
            "text/plain": [
              "dob_years           children  days_employed  dob_years educ...\n",
              "dtype: object"
            ]
          },
          "metadata": {},
          "output_type": "display_data"
        }
      ],
      "source": [
        "series_zeros = series_zeros.drop('children')\n",
        "series_zeros"
      ]
    },
    {
      "cell_type": "markdown",
      "metadata": {
        "id": "y8ODG_YPrRSG"
      },
      "source": [
        ">Изучим нулевые значения в разрезе категорий"
      ]
    },
    {
      "cell_type": "markdown",
      "metadata": {
        "id": "ls8G5xX9rRSG"
      },
      "source": [
        ">Смотрим на все поля  \n",
        ">in_category_pct говорит о том сколько в этом значении категории изучаемых значений  \n",
        ">in_column_pct говорит о том сколько процентов изучаемого значения данного значения категории в общем  \n",
        ">total_count_pct помогает анализировать in_column_pct, так как мы видим сколько занимает это значение в общем  "
      ]
    },
    {
      "cell_type": "code",
      "execution_count": null,
      "metadata": {
        "id": "nhjdlTUMrRSH"
      },
      "outputs": [],
      "source": [
        "gen = pagri_data_tools.analys_by_category_gen(df, series_zeros)\n",
        "next(gen)"
      ]
    },
    {
      "cell_type": "markdown",
      "metadata": {
        "id": "xQrPxpMxrRSI"
      },
      "source": [
        ">После изучения данных у нас могут возникнуть вопросы по определенным значениям, это возможно не выбросы,  \n",
        ">мы просто хотим подробнее их изучить.    \n",
        ">Для этого создаем датафрейм с нужными значениями и помещаем его в `Series`,  \n",
        ">индекс это название колонки, в которой мы изучаем выброс.  \n",
        ">Далее отдаем этот  `Series` в функцию `analys_by_category_gen`.  \n",
        ">Нужно сделать специальную функцию для этого, чтобы не использовать `analys_by_category_gen`"
      ]
    },
    {
      "cell_type": "code",
      "execution_count": null,
      "metadata": {
        "id": "rH-8sSSIrRSJ"
      },
      "outputs": [],
      "source": [
        "check_series = pd.Series([df[df.col_for_check == value_for_check]], index=['col_for_check'])\n",
        "gen = pagri_data_tools.analys_by_category_gen(df, check_series)\n",
        "next(gen)"
      ]
    },
    {
      "cell_type": "markdown",
      "metadata": {
        "id": "W5p1F6iTrRSK"
      },
      "source": [
        ">Также мы можем изучить любые столбцы (или часть столбцов) по категориям.  \n",
        ">То есть мы изучаем как распределены элементы по категориям"
      ]
    },
    {
      "cell_type": "code",
      "execution_count": null,
      "metadata": {
        "id": "I2oLCQ3vrRSL"
      },
      "outputs": [],
      "source": [
        "check_series = pd.Series([df[df.col_for_check == value_for_check]], index=['col_for_check'])\n",
        "gen = pagri_data_tools.analys_by_category_gen(df, check_series)\n",
        "next(gen)"
      ]
    },
    {
      "cell_type": "markdown",
      "metadata": {
        "id": "MRiDwgKFrRSM"
      },
      "source": [
        ">Сделать функцию определения выбросов на основе машинного обучения"
      ]
    },
    {
      "cell_type": "markdown",
      "metadata": {
        "id": "TQayDqQ2rRSN"
      },
      "source": [
        ">Дополнительные моменты, которые стоит проверить и изучить\n",
        "- Проверить на сложные выбросы, типа у нас есть статус и возраст и мы видим что студент имеет возраст 60 лет, это реально, но уже подозрительно.  \n",
        ">Вот таких моментов может быть много, но нужно додуматься, чтобы найти такие комбинации, но это важно делать.\n",
        "- важно проверить на корректность данные, то есть смотрим по отдельности каждый столбец и изучаем мин, макс, и другие параметры, и  \n",
        ">думаем, это физически реально. И особенно, когда у нас несколько связаных параметров, нет ли между ними противоречия.  \n",
        ">Например, у нас есть дата показа рекламы и есть дата создания рекламы, естественно создание должно быть раньше, это нужно проверить.  \n",
        "- Проверяем данные ошибки  \n",
        ">Ошибки которые не являются дублями, пропусками или выбросами.  \n",
        ">Это сложно сделать, хотя бы заметить явные ошибки\n",
        "- Проверить на ошибки согласованности  \n",
        ">Например, у нас пользователь с одним ай ди имеет разные имена.\n",
        ">`display(df.groupby('name')['age'].nunique())`\n",
        "- вообще нужно придумать разные проверки для колонок, особенно связанных. И провести эту проверку."
      ]
    },
    {
      "cell_type": "markdown",
      "metadata": {
        "id": "tWtmydg6rRSO"
      },
      "source": [
        "### Промежуточный вывод"
      ]
    },
    {
      "cell_type": "markdown",
      "metadata": {
        "id": "NdurWQAfrRSP"
      },
      "source": [
        ">Из наблюдений собираем важные выводы"
      ]
    },
    {
      "cell_type": "markdown",
      "metadata": {
        "id": "portable-collect"
      },
      "source": [
        ">Принимаем решение, как именно мы будем проводить обработку, почему именно так, *зафиксировать рекомендации.  \n",
        ">То есть отвечаем на вопрос, что будем делать с выбросами, что будем делать с null.  \n",
        ">Будет идеально если тут зафиксировать рекомендации  \n"
      ]
    },
    {
      "cell_type": "markdown",
      "metadata": {
        "id": "-WQlW-ZvrRSR"
      },
      "source": [
        "**Промежуточный вывод**\n",
        ">\n",
        "- **children** Присутствует 47 отрицательных значений с \"-1\", а также аномалия в виде 20 детей ...\n",
        "- **days_employed** Большая часть данных стобца со знаком \"-\". Однако, эти данные представляют из себя 84% всей выборки. ... будут заменены на .. исходя из определенного критерия, который будет описан далее.\n",
        ">    - Причины пропущенных значений в столбцах **days_employed** и **income**:\n",
        ">        - Во-первых, это может быть из-за неправильной выгрузки данных. Оставим это предположение до того момента, пока не убедимся в неверности других предположений.**Наиболее вероятно**\n",
        ">        - Во-вторых, одной из гипотез было предположение об отсутствии трудового опыта у данной части выборки. Однако, если распределение по возрасту в данной группе равномерное по всем возрастам выборки. Также большая доля этой части выборки трудоустроена. **Гипотеза не подтверждена**\n",
        ">        - В-третьих, возможно, что эта часть выборки не имеет официального трудоустройства. Данная гипотеза вызывает сомнение в связи с тем, что при наличии достаточно большого стажа работы у представителей выборки у ее представителей нет официального трудового стажа. К тому же 18.9% данной выборки являются госслужащими. **Гипотез не подтверждена**\n",
        "- **age** .. 0 возраст у 101 человека.\n",
        "- **education & education_id** Необходимо будет привести данную категорийнуй переменную к общему виду. Избавиться от разного регистра. Но можно не тратить на это время и использовать следующий столбец **education_id**. Это позволит использовать меньше памяти и не повлияет на качество анализа.\n",
        "- ..."
      ]
    },
    {
      "cell_type": "markdown",
      "metadata": {
        "id": "hjcIWNlMrRSS"
      },
      "source": [
        "## Предобработка данных"
      ]
    },
    {
      "cell_type": "markdown",
      "metadata": {
        "id": "0JIJ4SjErRST"
      },
      "source": [
        ">Важно, когда удаляем строки, то делаем сброс индекса"
      ]
    },
    {
      "cell_type": "code",
      "execution_count": null,
      "metadata": {
        "id": "xjoB-iPLrRSU"
      },
      "outputs": [],
      "source": [
        ".reset_index(drop=True)"
      ]
    },
    {
      "cell_type": "markdown",
      "metadata": {
        "id": "Nb3MpGFYrRSW"
      },
      "source": [
        ">Не забываем про ИИ  \n",
        ">Когда мы проводим предобработку данных, то первый вопрос мы себе задать следующий\n",
        ">Какава вероятнсоть, что это является истиной? Если вероятнсоть ниже 60 прцоентов, то это делать не стоти и может лучше оставить как есть или не трогать этот столбец.  \n",
        ">Например, у нас дубли или отрицательные значеия и мы выдвинули гипотезу, что это просто неправильный знак и хотим взять модель числа.  \n",
        ">Но если мы подумаем, а высокая ли вероятность, что число просто с неверным знаком, то вероятнсот этого низкая.  \n",
        ">Поэтому это делать не нужно.   \n",
        ">Другое дело у нас датафрейме 1 прцоент полных дублей и при этом у нас есть достаточно точные колонки типа зарплаты с точностью до рублей или стаж в днях.  \n",
        ">Вот тут мы можем с высокой вероятностью утверждать, что это дубли, так как мало вероятно что будет две записи настолько точно совпадать.  \n",
        ">Поэтому сначала думаем насколько вероятна та гипотеза, которую мы выдвинули и хотим по ней изменить наши данные.  \n",
        ">Тут лучше придерживаться правила не навреди."
      ]
    },
    {
      "cell_type": "markdown",
      "metadata": {
        "id": "S_YeM0H6rRSW"
      },
      "source": [
        ">Когда удаляем значения из категориальных столбцов pandas, и в этом столбце нет больше таких занчений, которые удалил.  \n",
        ">То нужно удалить это значение из категории"
      ]
    },
    {
      "cell_type": "code",
      "execution_count": null,
      "metadata": {
        "id": "0QAg3bMbrRSX"
      },
      "outputs": [],
      "source": [
        "df.drop(df[df.gender == 'XNA'].index, inplace=True)\n",
        "df['gender'] = df['gender'].cat.remove_unused_categories()\n",
        "df.value_counts(dropna=False)"
      ]
    },
    {
      "cell_type": "code",
      "execution_count": null,
      "metadata": {
        "id": "tqw8pCaFrRSY"
      },
      "outputs": [],
      "source": [
        "df.shape[0]"
      ]
    },
    {
      "cell_type": "markdown",
      "metadata": {
        "id": "Ch47iRTkrRSZ"
      },
      "source": [
        "### Обрезание неполных временных периодов"
      ]
    },
    {
      "cell_type": "markdown",
      "metadata": {
        "id": "EBjRmf0arRSa"
      },
      "source": [
        ">Если у нас датасет за год, например, и первый или последний месяц неполные, то их лучше выбрасить, если мы будем  \n",
        ">расчитывать месячные метрики.  \n",
        ">Но сначала конечно нужно проанализировать столбцы без обрезания, чтобы убедиться, что там нет ничего необычного.  "
      ]
    },
    {
      "cell_type": "markdown",
      "metadata": {
        "id": "ddxIC_jJrRSa"
      },
      "source": [
        "### Выбор нужных столбцов для дальнейшей работы"
      ]
    },
    {
      "cell_type": "markdown",
      "metadata": {
        "id": "uXFf5ew6rRSb"
      },
      "source": [
        ">Сохраним исходный датафрейм в переменную df_origin, чтобы была возможность вернуться к нему\n"
      ]
    },
    {
      "cell_type": "code",
      "execution_count": null,
      "metadata": {
        "id": "hhciwFDTrRSb"
      },
      "outputs": [],
      "source": [
        "df_origin = df.copy()"
      ]
    },
    {
      "cell_type": "markdown",
      "metadata": {
        "id": "9RljqKJprRSd"
      },
      "source": [
        ">Удаляем ненужные столбцы"
      ]
    },
    {
      "cell_type": "code",
      "execution_count": null,
      "metadata": {
        "id": "v383rdHjrRSe"
      },
      "outputs": [],
      "source": [
        "df = df.drop(['col1', 'col2'], axis=1)\n",
        "df.head(1)"
      ]
    },
    {
      "cell_type": "markdown",
      "metadata": {
        "id": "bSOzLlbnrRSe"
      },
      "source": [
        "- Думаем, какие колонки нам нужны, выбираем только их для дальнейшей работы.  \n",
        ">Остальные убираем в другой датасет.\n",
        "- Важно после изученя данных сначала убрать не нужные столбцы, а потом уже заниматься преобразованием (удалением пропусков и выбросов).  \n",
        ">Думаем прежде чем удалять строки, так как возможно лучше удалить столбец и строки удалять будет не нужно.  \n",
        "- Пишем почему выбираем определенные столбцы"
      ]
    },
    {
      "cell_type": "markdown",
      "metadata": {
        "id": "5QaWzgIDrRSg"
      },
      "source": [
        "### Обработка выбросов"
      ]
    },
    {
      "cell_type": "markdown",
      "metadata": {
        "id": "N_GuNy7DrRSg"
      },
      "source": [
        ">Не забываем про нулевые значения и отрицательный.  \n",
        ">В столбцах, где их быть не должно, они являются выбросами.  "
      ]
    },
    {
      "cell_type": "markdown",
      "metadata": {
        "id": "gpdSL4wQrRSi"
      },
      "source": [
        ">С обработкай нулевых и отрицательных значений нужно быть внимательным.  \n",
        ">Нужно сначала хорошо подумать, откуда могло это появиться,  \n",
        ">тут поможет анализ этих значений в предыдущей главе.  \n",
        ">Думаем откуад появилось отрицательное или нулевое занчение,  \n",
        ">и если у нас есть гипотезы, которые похожи на правду (мы думаем что вероятность их истины больше 60%),  \n",
        ">то мы обрабатываем их исходя из гипотезы.  \n",
        ">Например, -1 часто бывает как отсутсвие чего-то, то есть мы в зависимости от контекста можем заменить его на 0.  \n"
      ]
    },
    {
      "cell_type": "markdown",
      "metadata": {
        "id": "MzQo28twrRSj"
      },
      "source": [
        ">Важно каждый раз, когда мы удаляем что-то из датафрейма, то убедиться, что мы удалили столько строк, сколько и хотели.  \n",
        ">Для этого выводим размер датафрейма до удаления.  \n",
        ">Смотрим сколько строк мы хотим удалить.  \n",
        ">Далее не сохраняя в датафрейм удаляем строки и смотрим верный ли итоговый размер.  \n",
        ">Если все верно, то удаляем уже с сохранением.  "
      ]
    },
    {
      "cell_type": "markdown",
      "metadata": {
        "id": "EDnWqwPzrRSk"
      },
      "source": [
        ">Не забываем, что выбросы мы также можем заменять на медианные значения."
      ]
    },
    {
      "cell_type": "code",
      "execution_count": null,
      "metadata": {
        "id": "06kyBqcnrRSk",
        "outputId": "ee564a70-671a-4434-f2d1-d5f71d4a5519"
      },
      "outputs": [
        {
          "data": {
            "text/plain": [
              "21525"
            ]
          },
          "metadata": {},
          "output_type": "display_data"
        }
      ],
      "source": [
        "df.shape[0]"
      ]
    },
    {
      "cell_type": "code",
      "execution_count": null,
      "metadata": {
        "id": "gXcDFcGsrRSn",
        "outputId": "b801ef86-cca3-47ec-dc3b-d5fef1a4a5c2"
      },
      "outputs": [
        {
          "data": {
            "text/plain": [
              "21478"
            ]
          },
          "metadata": {},
          "output_type": "display_data"
        }
      ],
      "source": [
        "df = df[df.children >= 0]\n",
        "df.shape[0]"
      ]
    },
    {
      "cell_type": "markdown",
      "metadata": {
        "id": "-VuTNqRDrRSp"
      },
      "source": [
        ">Посмотрим где у нас отрицательные значения"
      ]
    },
    {
      "cell_type": "code",
      "execution_count": null,
      "metadata": {
        "id": "IwunArswrRSq"
      },
      "outputs": [],
      "source": [
        "pagri_data_tools.check_negative_value_in_df(df)"
      ]
    },
    {
      "cell_type": "markdown",
      "metadata": {
        "id": "eMVc8fZ4rRSr"
      },
      "source": [
        ">Посмотрим где у нас нулевые значения"
      ]
    },
    {
      "cell_type": "code",
      "execution_count": null,
      "metadata": {
        "id": "igHKE18BrRSs"
      },
      "outputs": [],
      "source": [
        "pagri_data_tools.check_zeros_value_in_df(df)"
      ]
    },
    {
      "cell_type": "markdown",
      "metadata": {
        "id": "qZD1WoQ1rRSt"
      },
      "source": [
        ">Обрабатываем нулевые и отрицательные значения, затем снова проверяем"
      ]
    },
    {
      "cell_type": "code",
      "execution_count": null,
      "metadata": {
        "id": "EyGPNgfhrRSu",
        "outputId": "6185a3b4-e165-42e7-ef6b-39603ed44ad8"
      },
      "outputs": [
        {
          "data": {
            "text/html": [
              "<div>\n",
              "<style scoped>\n",
              "    .dataframe tbody tr th:only-of-type {\n",
              "        vertical-align: middle;\n",
              "    }\n",
              "\n",
              "    .dataframe tbody tr th {\n",
              "        vertical-align: top;\n",
              "    }\n",
              "\n",
              "    .dataframe thead th {\n",
              "        text-align: right;\n",
              "    }\n",
              "</style>\n",
              "<table border=\"1\" class=\"dataframe\">\n",
              "  <thead>\n",
              "    <tr style=\"text-align: right;\">\n",
              "      <th></th>\n",
              "      <th>negative</th>\n",
              "    </tr>\n",
              "  </thead>\n",
              "  <tbody>\n",
              "  </tbody>\n",
              "</table>\n",
              "</div>"
            ],
            "text/plain": [
              "Empty DataFrame\n",
              "Columns: [negative]\n",
              "Index: []"
            ]
          },
          "metadata": {},
          "output_type": "display_data"
        }
      ],
      "source": [
        "pagri_data_tools.check_negative_value_in_df(df)"
      ]
    },
    {
      "cell_type": "code",
      "execution_count": null,
      "metadata": {
        "id": "D2TQr94lrRSw",
        "outputId": "ac6cb221-0e55-474a-d470-571e64883850"
      },
      "outputs": [
        {
          "data": {
            "text/html": [
              "<div>\n",
              "<style scoped>\n",
              "    .dataframe tbody tr th:only-of-type {\n",
              "        vertical-align: middle;\n",
              "    }\n",
              "\n",
              "    .dataframe tbody tr th {\n",
              "        vertical-align: top;\n",
              "    }\n",
              "\n",
              "    .dataframe thead th {\n",
              "        text-align: right;\n",
              "    }\n",
              "</style>\n",
              "<table border=\"1\" class=\"dataframe\">\n",
              "  <thead>\n",
              "    <tr style=\"text-align: right;\">\n",
              "      <th></th>\n",
              "      <th>zeros</th>\n",
              "    </tr>\n",
              "  </thead>\n",
              "  <tbody>\n",
              "  </tbody>\n",
              "</table>\n",
              "</div>"
            ],
            "text/plain": [
              "Empty DataFrame\n",
              "Columns: [zeros]\n",
              "Index: []"
            ]
          },
          "metadata": {},
          "output_type": "display_data"
        }
      ],
      "source": [
        "pagri_data_tools.check_zeros_value_in_df(df)"
      ]
    },
    {
      "cell_type": "markdown",
      "metadata": {
        "id": "C-uJTG30rRSy"
      },
      "source": [
        ">Также нужно обработать выбросы, которые мы обнаружили при изучении данных.  \n",
        ">Это могут быть любые колонки со значениями, которые не моут быть в реальности.  "
      ]
    },
    {
      "cell_type": "markdown",
      "metadata": {
        "id": "-EaInYuGrRSz"
      },
      "source": [
        ">Нужно сначала обработать выбросы, а потом уже обрабатываться пропуски.  \n",
        ">Так как мы заоплняем пропуски, учитывая значения в колонке, которые возможно мы потом удалим.  "
      ]
    },
    {
      "cell_type": "markdown",
      "metadata": {
        "id": "b_2wW7gXrRSz"
      },
      "source": [
        "- Помним про нулевые и отрицательные значения\n",
        "- Нулевые значения, отрицательные значения являются выбросами, если они не могут быть у этой колонки.  \n",
        "- Очень важно понимать, когда выброс можно отбросить и он реально выброс и когда нельзя.  \n",
        ">Опираемся на физику параметра, думаем это значение физически возможно.  \n",
        "- Также выброс может казаться выбрасом, но для бизнеса это не выброс.  \n",
        ">Например у нас суммы покупок и одна покупка сильно выделяется, а там просто человек купил супе дорогой каньяк, например.  \n",
        "- Когда хотим обрезать выбросы, то думаем, какой порог может быть физически реальным и по нему режем, а не просто так берем какой-то перцентиль.  \n",
        ">Всегда нужно думать с точки зрения физического возможного значения параметра и по нему резать (подумать а какое значение может быть максимально реальным и по нему обрезать)\n",
        "- Если мы имеем дело со строгой отчестностью, то выбросы убирать нельзя, нужно разобраться откуда они.  \n",
        "- Если мы не можем с увереностью сказать, что это выброс, то нам не стоит его выкидывать, но работать как то нужно с ними,  \n",
        ">тогда, логарифмируем (лучше использовать натуральный логарифм) эту колонку и работаем с такими значениями (тогда выбросы сожмуться).  "
      ]
    },
    {
      "cell_type": "markdown",
      "metadata": {
        "id": "1Vf_k5cirRS1"
      },
      "source": [
        ">После удаления выбрасов, можно снова выполнить пункт про изучение выбрасов, так как выбросы могут появиться новые,   \n",
        ">если у нас например выбросы были слишком нереальные значения, когда мы от них избавимся, будет лучше видно другое"
      ]
    },
    {
      "cell_type": "markdown",
      "metadata": {
        "id": "tNmcU32IrRS3"
      },
      "source": [
        "### Обработка пропусков"
      ]
    },
    {
      "cell_type": "markdown",
      "metadata": {
        "id": "pn1rmP3GrRS3"
      },
      "source": [
        "> Важно помнить, что пропус может быть вызван тем, что во измежании дублирования строк, при созаднии сводной таблицы,  \n",
        "занчения не повторяются, а если потом эту таблицу куда то отправить, то там эти пропуски могут стать null  \n",
        "Поэтому сначала смотрим последовательно на значения и думаем, не может ли это быть таким случаем.  \n",
        "Это могут быть даты, которые идут подряд и меду ними пропуски.  \n",
        "Или список названий четко по порядоку и между ними пропуски, это может быть вызвано как раз последствием создания сводной таблицы.  \n",
        "В пандас это видно, когда мы группируем строки, у нас в индексе дубли не пишуться, но пандас занчет, что там есть занчения,  \n",
        "но после импорта куда-то там могут не продублироваться значения и возникнут пропуски.  "
      ]
    },
    {
      "cell_type": "markdown",
      "metadata": {
        "id": "OIA3CdzDrRS5"
      },
      "source": [
        ">Прежде чем обрабатывать пропуски, нужно подумать а можем ли мы их заменить исходя из имеющихся столбцов.  \n",
        ">Например, у нас есть столбец с пропусками возраст, и есть стаж,  \n",
        ">мы можем возраст заменить так стаж + 18 + 5  \n",
        ">Аналогично другие ситуации нужно сообразить как можно заменить пропуски.  \n",
        ">И только если нет идей, тогда уже заменяем на медиану, например, по группам.  "
      ]
    },
    {
      "cell_type": "code",
      "execution_count": null,
      "metadata": {
        "id": "PCgCFWYurRS5"
      },
      "outputs": [],
      "source": [
        "pagri_data_tools.check_missed_value_in_df(df)"
      ]
    },
    {
      "cell_type": "markdown",
      "metadata": {
        "id": "bx4Zp2kyrRS6"
      },
      "source": [
        ">Если решии заменять прпоуски значениями, учитывая категории, то нужно убедиться, что размер этих категорий достаточный."
      ]
    },
    {
      "cell_type": "markdown",
      "metadata": {
        "id": "J0VVvBBLrRS8"
      },
      "source": [
        ">Посмотрим размеры групп, если заменять внутри этих групп"
      ]
    },
    {
      "cell_type": "code",
      "execution_count": null,
      "metadata": {
        "id": "x622-VzgrRS8"
      },
      "outputs": [],
      "source": [
        "category_columns = ['education', 'family_status', 'gender', 'income_type']\n",
        "value_column = 'total_income'\n",
        "pagri_data_tools.check_group_count(df, category_columns, value_column)"
      ]
    },
    {
      "cell_type": "markdown",
      "metadata": {
        "id": "-hvLDxvurRS-"
      },
      "source": [
        ">Заполним пропуски в группах от 10 элементов"
      ]
    },
    {
      "cell_type": "code",
      "execution_count": null,
      "metadata": {
        "id": "cPBJv6jcrRS_"
      },
      "outputs": [],
      "source": [
        "df[value_column] = pagri_data_tools.fill_na_with_function_by_categories(df, category_columns, value_column, func='median', minimal_group_size=10)"
      ]
    },
    {
      "cell_type": "markdown",
      "metadata": {
        "id": "aiIkJI9HrRTA"
      },
      "source": [
        ">Проверим сколько у нас осталось пропусков"
      ]
    },
    {
      "cell_type": "code",
      "execution_count": null,
      "metadata": {
        "id": "hYsT972XrRTB"
      },
      "outputs": [],
      "source": [
        "pagri_data_tools.check_missed_value_in_df(df)"
      ]
    },
    {
      "cell_type": "markdown",
      "metadata": {
        "id": "PyorAGE2rRTC"
      },
      "source": [
        ">Если пропуски остались, то убираем какую-нибудь категорию и повторяем."
      ]
    },
    {
      "cell_type": "markdown",
      "metadata": {
        "id": "dried-general"
      },
      "source": [
        ">что-то изменили - > посмотрели не изменилось ли количество дублей   \n",
        ">`check_duplicated`"
      ]
    },
    {
      "cell_type": "code",
      "execution_count": null,
      "metadata": {
        "id": "vLJpS9c1rRTF"
      },
      "outputs": [],
      "source": [
        "pagri_data_tools.check_duplicated()"
      ]
    },
    {
      "cell_type": "markdown",
      "metadata": {
        "id": "D0YHxKdPrRTG"
      },
      "source": [
        ">Увидели пропуск - подумайте, нормально ли это. Сколько вообще пропусков может быть в этом столбце?   \n",
        ">К примеру, в списке с электронными адресами пользователей, согласных на рассылку, будет много пропусков. Далеко не все предоставляют email."
      ]
    },
    {
      "cell_type": "markdown",
      "metadata": {
        "id": "zxQOPO3mrRTH"
      },
      "source": [
        ">Можно использвоать такой подход\n",
        "- если количество пропусков меньше 5 процентов, то удаляем (лучше меньше 1 процента)\n",
        "- если количество пропусков от 5 до 20 процентов, то подбираем чем заменить, удалять не стоит\n",
        "- если больше 20 процентов, то не трогаем, так как исказим"
      ]
    },
    {
      "cell_type": "markdown",
      "metadata": {
        "id": "SHRiOidbrRTI"
      },
      "source": [
        ">Но оставляя пропуски, нам нужно помнить, что мы не можем по этим полям считать корреляцию с другими,   \n",
        ">так как пропуски испортят расчет коэффициента корреляции. Аналогично другие метрики могут считаться некорректно.  \n",
        ">Поэтому, если мы будем считать показатели по столбцу с пропусками, то их нужно либо убирать, либо этот столбец не использовать для расчетов.  "
      ]
    },
    {
      "cell_type": "markdown",
      "metadata": {
        "id": "NWESydOUrRTJ"
      },
      "source": [
        ">Для категориальных переменных оставлять пропуски нельзя, так как мы скорее всего будем группировать по ним и смотреть разные разрезы.  \n",
        ">Поэтому в худшем случае, если не можем ничем заменить, и нет уверености, что пропуск можно заполнить пустой строкой (если значения физически нет),  \n",
        ">то создаем категорию например `other` из пропусков.  "
      ]
    },
    {
      "cell_type": "markdown",
      "metadata": {
        "id": "bTpeES2orRTK"
      },
      "source": [
        ">Если у нас пропуски в категориальной переменной и есть разные периоды или просто данные разбиты на части (то есть эта категориальная переменная повторяется),  \n",
        ">то мы можем взять ещё какую-нибудь переменную, у которой нет пропусков, где пропуски у первой переменной и далее посмотреть другие периоды  \n",
        ">Таким образом у нас будет предыдущий период, где будет занчение второй переменной и первой и если в нескольких периодах они одинаковые, то мы можем  \n",
        ">заполнить и пропуски этим значением.   \n",
        ">Ещё раз схема такая - берем 2 поля одно с пропусками, другое без, получаем новую таблицу, в этой таблице оставляем только униклаьные значения в поле без пропусков,  \n",
        ">по этому полю будем джойнить. Далее в основнйо таблице дропаем описание и создаем новое описание из таблицы справочника.    \n",
        ">`fill_missing_values_using_helper_column`"
      ]
    },
    {
      "cell_type": "code",
      "execution_count": null,
      "metadata": {
        "id": "ijasSYPhrRTL"
      },
      "outputs": [],
      "source": [
        "pagri_data_tools.fill_missing_values_using_helper_column()"
      ]
    },
    {
      "cell_type": "markdown",
      "metadata": {
        "id": "YllrInOnrRTN"
      },
      "source": [
        ">Заполняем пропуски учитвая категории  \n",
        ">`fill_na_with_function_by_categories`"
      ]
    },
    {
      "cell_type": "markdown",
      "metadata": {
        "id": "_l39AC5zrRTO"
      },
      "source": [
        ">Важно следить, чтобы категории, по которым будем заполнять пропуски были обработаны.  \n",
        ">Если у нас в категориальной переменной есть значение с большой буквы и с маленькой, то это одна категория,  \n",
        ">но замена будет идити по двум, чтобы такого не было, нужно сначала обработать  категориальную переменную.  \n"
      ]
    },
    {
      "cell_type": "markdown",
      "metadata": {
        "id": "gTq29S1IrRTQ"
      },
      "source": [
        ">Также важно, чтобы в группах по которым мы будем считать значение для заополения было достаточно значений  \n",
        ">для выбранной функции.  \n",
        ">Например, если мы решили брать среднее, а в группе у нас 5 значений, то среди них может быть выброс и наше среднее будет некорректно.  \n",
        ">Лучше в такой ситуации брать группу побольше для этих микрогрупп.  \n",
        ">В идеале группы должны быть от 30 элементов.  "
      ]
    },
    {
      "cell_type": "markdown",
      "metadata": {
        "id": "Drs7d4-PrRTR"
      },
      "source": [
        ">Можно посмотреть какой процент группах без значений"
      ]
    },
    {
      "cell_type": "code",
      "execution_count": null,
      "metadata": {
        "id": "XqcTmY6WrRTS"
      },
      "outputs": [],
      "source": [
        "temp = df.groupby(['education', 'family_status', 'gender', 'income_type'])['total_income'].sum()\n",
        "(temp == 0).sum() * 100 / temp.size"
      ]
    },
    {
      "cell_type": "code",
      "execution_count": null,
      "metadata": {
        "id": "mHzOjs7wrRTT"
      },
      "outputs": [],
      "source": []
    },
    {
      "cell_type": "code",
      "execution_count": null,
      "metadata": {
        "id": "MHHD3xlGrRTV"
      },
      "outputs": [],
      "source": [
        "pagri_data_tools.fill_na_with_function_by_categories()"
      ]
    },
    {
      "cell_type": "markdown",
      "metadata": {
        "id": "M2xE5Mt4rRTW"
      },
      "source": [
        ">Сделать функцию заполнения пропусков с помощью машинного обучения"
      ]
    },
    {
      "cell_type": "markdown",
      "metadata": {
        "id": "P0eaTFjFrRTX"
      },
      "source": [
        ">После удаления пропусков и выбросов желательно проверить какой прцоент строк мы удалили.  "
      ]
    },
    {
      "cell_type": "markdown",
      "metadata": {
        "id": "jWxy1GzIrRTY"
      },
      "source": [
        "### Обработка дубликатов"
      ]
    },
    {
      "cell_type": "markdown",
      "metadata": {
        "id": "hj7LpYA4rRTa"
      },
      "source": [
        ">Все значения в колонках во всех таблицах нужно привести к нижнему регистру и по возможности к одному языку,  \n",
        ">для перевода к одному языку можно использовать словарь, с помощью которого изменить неправильный язык  \n",
        ">Это нужно, чтобы когда будем соединять таблицы, у нас условие соеденения правильно сравнивало равные значения.  "
      ]
    },
    {
      "cell_type": "markdown",
      "metadata": {
        "id": "vf2_2_uCrRTb"
      },
      "source": [
        ">Можно посмотреть снвоа на дубликаты после обработки пропусков.  "
      ]
    },
    {
      "cell_type": "markdown",
      "metadata": {
        "id": "Fn1XpJkwrRTc"
      },
      "source": [
        ">`check_duplicated`   \n",
        ">`find_columns_with_duplicates`   \n",
        ">`check_duplicated_combinations_gen`    \n",
        ">`get_duplicates_value_proportion_by_category`  \n",
        ">В первую функцию можно передавать весь датафрейм и можно выбирать нужные столбцы для проверки на дубли и передавать их.  "
      ]
    },
    {
      "cell_type": "code",
      "execution_count": null,
      "metadata": {
        "id": "0dQEJsVRrRTd"
      },
      "outputs": [],
      "source": [
        "pagri_data_tools.check_duplicated()"
      ]
    },
    {
      "cell_type": "code",
      "execution_count": null,
      "metadata": {
        "id": "DqBYD3_HrRTe"
      },
      "outputs": [],
      "source": [
        "pagri_data_tools.check_duplicated_value_in_df(df)"
      ]
    },
    {
      "cell_type": "code",
      "execution_count": null,
      "metadata": {
        "id": "av15Ji-arRTe"
      },
      "outputs": [],
      "source": [
        "pagri_data_tools.find_columns_with_duplicates()"
      ]
    },
    {
      "cell_type": "markdown",
      "metadata": {
        "id": "z2yYzjTnrRTg"
      },
      "source": [
        ">Заполним пропуски в группах от 10 элементов"
      ]
    },
    {
      "cell_type": "code",
      "execution_count": null,
      "metadata": {
        "id": "rMurR-bdrRTg"
      },
      "outputs": [],
      "source": [
        "df[value_column] = pagri_data_tools.fill_na_with_function_by_categories(df, category_columns, value_column, func='median', minimal_group_size=10)"
      ]
    },
    {
      "cell_type": "code",
      "execution_count": null,
      "metadata": {
        "id": "aed6tzDkrRTi",
        "outputId": "23ae1ae6-5723-4b89-da0f-108cfe8bc08f"
      },
      "outputs": [
        {
          "data": {
            "text/html": [
              "<div>\n",
              "<style scoped>\n",
              "    .dataframe tbody tr th:only-of-type {\n",
              "        vertical-align: middle;\n",
              "    }\n",
              "\n",
              "    .dataframe tbody tr th {\n",
              "        vertical-align: top;\n",
              "    }\n",
              "\n",
              "    .dataframe thead th {\n",
              "        text-align: right;\n",
              "    }\n",
              "</style>\n",
              "<table border=\"1\" class=\"dataframe\">\n",
              "  <thead>\n",
              "    <tr style=\"text-align: right;\">\n",
              "      <th></th>\n",
              "      <th>missed</th>\n",
              "    </tr>\n",
              "  </thead>\n",
              "  <tbody>\n",
              "    <tr>\n",
              "      <th>total_income</th>\n",
              "      <td>63 (0.3%)</td>\n",
              "    </tr>\n",
              "  </tbody>\n",
              "</table>\n",
              "</div>"
            ],
            "text/plain": [
              "                 missed\n",
              "total_income  63 (0.3%)"
            ]
          },
          "metadata": {},
          "output_type": "display_data"
        }
      ],
      "source": [
        "pagri_data_tools.check_missed_value_in_df(df)"
      ]
    },
    {
      "cell_type": "markdown",
      "metadata": {
        "id": "2hnEoHY9rRTk"
      },
      "source": [
        ">Если есть дубли, и мы считаем, что это не дубли, а просто разделились данные,    \n",
        ">то объединеняем записи, которые имеют одинаковые значения ключевых признаков.  \n",
        ">`merge_duplicates`"
      ]
    },
    {
      "cell_type": "code",
      "execution_count": null,
      "metadata": {
        "id": "LlYjZU0rrRTl"
      },
      "outputs": [],
      "source": [
        "pagri_data_tools.merge_duplicates()"
      ]
    },
    {
      "cell_type": "markdown",
      "metadata": {
        "id": "LWBN6kefrRTm"
      },
      "source": [
        ">Если мы не уверены, что дубль является дублем и не хотим удалять, то можно  использовать  \n",
        ">маркировку дублей,  можно добавить новую колонку, которая будет содержать информацию о том,   \n",
        ">является ли строка дубликатом или нет.  \n",
        ">`df['is_duplicate'] = df.duplicated()`"
      ]
    },
    {
      "cell_type": "code",
      "execution_count": null,
      "metadata": {
        "id": "bxLFiDRdrRTn"
      },
      "outputs": [],
      "source": [
        "df['is_duplicate'] = df.duplicated()"
      ]
    },
    {
      "cell_type": "markdown",
      "metadata": {
        "id": "Xd_1LIY4rRTo"
      },
      "source": [
        ">Подумать, а можем ли мы обогатить данные, что разделит дубли.  \n",
        ">То есть возможно в наших данных нет какого-то столбца, и тогда дубли уже не будут дублями."
      ]
    },
    {
      "cell_type": "markdown",
      "metadata": {
        "id": "vXhJXTUTrRTp"
      },
      "source": [
        ">Если уверены, что это дубли, то удаляем их  \n",
        ">`df.drop_duplicates()`"
      ]
    },
    {
      "cell_type": "code",
      "execution_count": null,
      "metadata": {
        "id": "Y6M4W3yqrRTr"
      },
      "outputs": [],
      "source": [
        "df.drop_duplicates()"
      ]
    },
    {
      "cell_type": "markdown",
      "metadata": {
        "id": "c0oIFJ3rrRTs"
      },
      "source": [
        "###  Приведение данных к удобной форме"
      ]
    },
    {
      "cell_type": "markdown",
      "metadata": {
        "id": "kTgi0zcjrRTt"
      },
      "source": [
        ">Изменяем значения в столбцах на более удобные"
      ]
    },
    {
      "cell_type": "code",
      "execution_count": null,
      "metadata": {
        "id": "m_envHF-rRTu"
      },
      "outputs": [],
      "source": [
        "df.is_apartment.value_counts(dropna=False)\n",
        "app = df.is_apartment.apply(lambda x: 'да' if isinstance(x, bool) else 'нет').astype('category')\n",
        "app.value_counts(dropna=False)\n",
        "# df.debt = df.debt.apply(lambda x: 'есть' if x == '1' else 'нет').astype('category')"
      ]
    },
    {
      "cell_type": "markdown",
      "metadata": {
        "id": "CW_qHtwhrRTu"
      },
      "source": [
        ">Если у нас в столбце, например, стаж данные в днях, то это нужно преобразовать в года.  \n",
        ">Также если у нас в других столбцах данные в формате, который нужно изменить для лучшего анализа, то делаем это.  "
      ]
    },
    {
      "cell_type": "markdown",
      "metadata": {
        "id": "AaVGnbu-rRTv"
      },
      "source": [
        ">Округлим значения в поле дохода до целого.  \n",
        ">Целая часть выглядит реальной. А с дробной частью нужно разбираться почему стоько знаков.  "
      ]
    },
    {
      "cell_type": "code",
      "execution_count": null,
      "metadata": {
        "id": "m-XBu1ErrRTw",
        "outputId": "fbc65a14-4b53-4a99-9ada-3eb5272f9cd5"
      },
      "outputs": [
        {
          "data": {
            "text/html": [
              "<div>\n",
              "<style scoped>\n",
              "    .dataframe tbody tr th:only-of-type {\n",
              "        vertical-align: middle;\n",
              "    }\n",
              "\n",
              "    .dataframe tbody tr th {\n",
              "        vertical-align: top;\n",
              "    }\n",
              "\n",
              "    .dataframe thead th {\n",
              "        text-align: right;\n",
              "    }\n",
              "</style>\n",
              "<table border=\"1\" class=\"dataframe\">\n",
              "  <thead>\n",
              "    <tr style=\"text-align: right;\">\n",
              "      <th></th>\n",
              "      <th>children</th>\n",
              "      <th>age</th>\n",
              "      <th>education</th>\n",
              "      <th>family_status</th>\n",
              "      <th>gender</th>\n",
              "      <th>income_type</th>\n",
              "      <th>debt</th>\n",
              "      <th>total_income</th>\n",
              "      <th>purpose</th>\n",
              "    </tr>\n",
              "  </thead>\n",
              "  <tbody>\n",
              "    <tr>\n",
              "      <th>0</th>\n",
              "      <td>1</td>\n",
              "      <td>42</td>\n",
              "      <td>высшее</td>\n",
              "      <td>женат / замужем</td>\n",
              "      <td>F</td>\n",
              "      <td>сотрудник</td>\n",
              "      <td>0</td>\n",
              "      <td>253876</td>\n",
              "      <td>покупка жилья</td>\n",
              "    </tr>\n",
              "  </tbody>\n",
              "</table>\n",
              "</div>"
            ],
            "text/plain": [
              "   children  age education    family_status gender income_type debt  \\\n",
              "0         1   42    высшее  женат / замужем      F   сотрудник    0   \n",
              "\n",
              "   total_income        purpose  \n",
              "0        253876  покупка жилья  "
            ]
          },
          "metadata": {},
          "output_type": "display_data"
        }
      ],
      "source": [
        "df.total_income = df.total_income.round().astype('int32')\n",
        "df.head(1)"
      ]
    },
    {
      "cell_type": "markdown",
      "metadata": {
        "id": "CJenhxHBrRTy"
      },
      "source": [
        ">Посмотрим сколько у нас людей с полом XNA осталось"
      ]
    },
    {
      "cell_type": "code",
      "execution_count": null,
      "metadata": {
        "id": "9cMiVp9brRT0",
        "outputId": "e00e2be9-9d2f-4dbb-b9e8-dd3fc496f89e"
      },
      "outputs": [
        {
          "data": {
            "text/plain": [
              "1"
            ]
          },
          "metadata": {},
          "output_type": "display_data"
        }
      ],
      "source": [
        "(df.gender == 'XNA').sum()"
      ]
    },
    {
      "cell_type": "markdown",
      "metadata": {
        "id": "hZ4uKSDHrRT2"
      },
      "source": [
        ">Посмотрим кто это"
      ]
    },
    {
      "cell_type": "code",
      "execution_count": null,
      "metadata": {
        "id": "ht-FC10CrRT2",
        "outputId": "eb60b7a4-75ad-4302-e791-8e3c5b6066c9"
      },
      "outputs": [
        {
          "data": {
            "text/html": [
              "<div>\n",
              "<style scoped>\n",
              "    .dataframe tbody tr th:only-of-type {\n",
              "        vertical-align: middle;\n",
              "    }\n",
              "\n",
              "    .dataframe tbody tr th {\n",
              "        vertical-align: top;\n",
              "    }\n",
              "\n",
              "    .dataframe thead th {\n",
              "        text-align: right;\n",
              "    }\n",
              "</style>\n",
              "<table border=\"1\" class=\"dataframe\">\n",
              "  <thead>\n",
              "    <tr style=\"text-align: right;\">\n",
              "      <th></th>\n",
              "      <th>children</th>\n",
              "      <th>age</th>\n",
              "      <th>education</th>\n",
              "      <th>family_status</th>\n",
              "      <th>gender</th>\n",
              "      <th>income_type</th>\n",
              "      <th>debt</th>\n",
              "      <th>total_income</th>\n",
              "      <th>purpose</th>\n",
              "    </tr>\n",
              "  </thead>\n",
              "  <tbody>\n",
              "    <tr>\n",
              "      <th>10701</th>\n",
              "      <td>0</td>\n",
              "      <td>24</td>\n",
              "      <td>неоконченное высшее</td>\n",
              "      <td>гражданский брак</td>\n",
              "      <td>XNA</td>\n",
              "      <td>компаньон</td>\n",
              "      <td>0</td>\n",
              "      <td>203905</td>\n",
              "      <td>покупка недвижимости</td>\n",
              "    </tr>\n",
              "  </tbody>\n",
              "</table>\n",
              "</div>"
            ],
            "text/plain": [
              "       children  age            education     family_status gender  \\\n",
              "10701         0   24  неоконченное высшее  гражданский брак    XNA   \n",
              "\n",
              "      income_type debt  total_income               purpose  \n",
              "10701   компаньон    0        203905  покупка недвижимости  "
            ]
          },
          "metadata": {},
          "output_type": "display_data"
        }
      ],
      "source": [
        "df[df.gender == 'XNA']"
      ]
    },
    {
      "cell_type": "markdown",
      "metadata": {
        "id": "CJgCUEXOrRT4"
      },
      "source": [
        ">Всего 1 человек. И мы не можем идентифицировать его пол.  \n",
        ">Удалим, чтобы не мешало анализировать графики.  "
      ]
    },
    {
      "cell_type": "code",
      "execution_count": null,
      "metadata": {
        "id": "X-g7we0IrRT4",
        "outputId": "aa941ff0-d0e2-47cd-ddc2-c5c8f516f6b2"
      },
      "outputs": [
        {
          "data": {
            "text/plain": [
              "21402"
            ]
          },
          "metadata": {},
          "output_type": "display_data"
        }
      ],
      "source": [
        "df.shape[0]"
      ]
    },
    {
      "cell_type": "code",
      "execution_count": null,
      "metadata": {
        "id": "3BkYgPOXrRT6",
        "outputId": "3b42bd6c-748c-4ce6-84d5-9aa54c2567c0"
      },
      "outputs": [
        {
          "data": {
            "text/plain": [
              "21401"
            ]
          },
          "metadata": {},
          "output_type": "display_data"
        }
      ],
      "source": [
        "df.drop(df[df.gender == 'XNA'].index, inplace=True)\n",
        "df['gender'] = df['gender'].cat.remove_unused_categories()\n",
        "df.value_counts(dropna=False)"
      ]
    },
    {
      "cell_type": "code",
      "execution_count": null,
      "metadata": {
        "id": "wp4K6OEWrRT8"
      },
      "outputs": [],
      "source": [
        "df.shape[0]"
      ]
    },
    {
      "cell_type": "markdown",
      "metadata": {
        "id": "hY0x3rp3rRT-"
      },
      "source": [
        "### Категоризация данных и создание новых переменных"
      ]
    },
    {
      "cell_type": "markdown",
      "metadata": {
        "id": "nxmkGnzcrRT_"
      },
      "source": [
        ">Если у нас есть категориальная переменная, в которйо больше 3 значений, то нужно подумать а не можем ли мы из нее сделать  \n",
        ">новую категориальную переменную с 2-3 значениями, но тут важно, чтобы это несло смысл. Тут нам может помочь ИИ. И сообразительнсоть. Часто сразу не заментны возможные категории,  котоыре несут смысл.  \n",
        ">Тут исходим из смысла, наша задача созадть перменную, которая добавит нашему исследованию новый смысл, даст как бы новый разрез, и это улучшит   \n",
        ">качество наших выводов.    \n",
        ">Например, у нас столбец семейный стату, и там 6-7 статусов, мы можем собрать их в 2 семейный статус и не семейный статус.  \n",
        ">Тут отлично помогает ИИ. Пишешь ему название переменной, униальные значения в ней,  \n",
        ">и просишь придумать возможную новую категориальнуюд переменную из 2-3 значений.  "
      ]
    },
    {
      "cell_type": "markdown",
      "metadata": {
        "id": "_gi5wyB7rRT_"
      },
      "source": [
        ">Вообще при категоризации ИИ очень хорошо помогает, он может дать идеи возможных категорий на оснвое имеющихся значений.  \n",
        ">Поэтому можно все столбцы прогонять через ИИ и смотреть что он предлагает, если есть то , что даст новый разрез нашим данным, то созадем категорийю.  "
      ]
    },
    {
      "cell_type": "markdown",
      "metadata": {
        "id": "PIK-UKD8rRUA"
      },
      "source": [
        ">Важно, когда мы создаем категории, то всегда смотреть value_counts.  \n",
        ">И делаем так, чтобы в каждой группе было достаточно элементов, хотя бы больше 30, а лучше больше 100.  \n",
        ">Иначе выводы будут некоректные.  \n",
        ">В идеале, чтобы количество элементов в каждой группе было от 1000.  Лучше изменить диапазон и забрать часть данных от другой категории.  "
      ]
    },
    {
      "cell_type": "markdown",
      "metadata": {
        "id": "sLoocoasrRUD"
      },
      "source": [
        ">Важно, когда создаем категориальную переменную, то даем ей тип `category`  \n",
        ">Чтобы она появилась на графиках (так как идет фильтрация на числовые и категориальные)  \n",
        ">и чтобы места меньше занимала"
      ]
    },
    {
      "cell_type": "markdown",
      "metadata": {
        "id": "sfH_nscrrRUD"
      },
      "source": [
        ">Придумываем какие колонки можно дополнительно сделать из имеющихся.  \n",
        ">Например у нас есть колонка длительность звонков, и 0 это пропущенный звонок,  \n",
        ">мы можем сделать колонку is_missed, в которой будет true или false  "
      ]
    },
    {
      "cell_type": "markdown",
      "metadata": {
        "id": "vJx5C4v1rRUF"
      },
      "source": [
        ">Стараемся сделать категориальную колонку с да нет для всех возможных колонок.  \n",
        ">Например, у нас колонка количество детей и есть 0, 1, 2, 3, 4, 5 мы созадем колнку  \n",
        ">есть дети или нет. 2 значения  \n",
        ">Это очень полезно, так как мы можем посмотреть это на графиках и проверить гипотезы  \n",
        ">стат тестами.  "
      ]
    },
    {
      "cell_type": "markdown",
      "metadata": {
        "id": "P7ko33fPrRUH"
      },
      "source": [
        ">Смотрим на колонки и думаем можно ли из нее сделать колонку с 2 значениями,  \n",
        ">например есть и нет что-то"
      ]
    },
    {
      "cell_type": "markdown",
      "metadata": {
        "id": "HIgiAmEtrRUH"
      },
      "source": [
        ">Очень важно, когда мы создаем новые колонки, в которых используем несколько дургих, то нужно проверить распределение этой новой переменной, особенно выбросы.  \n",
        ">Например, у нас начальная и конечная дата сессии и мы считаем длительность сессии. Вот тут нужно посмотреть какая минимальная длительность  \n",
        ">и какая максимальная. Ну и естественно проверить есть ли длительность 0 и меньше нуля.  \n",
        ">Таким образом мы можем найти инсайты уже после создания новых колонок, хотя в изначальных данных этих инсайдов не было видно.  "
      ]
    },
    {
      "cell_type": "markdown",
      "metadata": {
        "id": "9BBErE30rRUI"
      },
      "source": [
        ">Обычная категоризация данных"
      ]
    },
    {
      "cell_type": "markdown",
      "metadata": {
        "id": "Zl1X--i-rRUJ"
      },
      "source": [
        ">Категоризация помогает избежать проблемы с разреженными данными, когда у нас есть слишком много групп с небольшим количеством элементов.   \n",
        ">Это может привести к некорректным выводам и ошибкам в анализе.\n",
        ">Категоризация нужна, чтобы образовать группы, в которых достаточно значений для использования статистических методов.  \n",
        ">И вообще, если в группе 1-10 элементов, например у нас возраст пользователей и 5 человек с возрастом 22, 3 человека с возрастом 23 и так далее.  \n",
        ">Мы не можем разбивать по таким группам, так как их размер небльшой и выводы будут некорректные, поэтому нам нужно собрать их в группы,  \n",
        ">чтобы у нас были группы с достаточным размером.  "
      ]
    },
    {
      "cell_type": "markdown",
      "metadata": {
        "id": "kph74EczrRUK"
      },
      "source": [
        "- Если у нас категориальная переменная имеет много значений, то мы не можем номрально с ней работать.  \n",
        ">Так как мы не можем построить графики по ним, так как их много и они не числовые. Не можем сравнить их все.  \n",
        ">Поэтому нам нужно сократить категории.  \n",
        "- Нужно посмотреть на данные и подумать можем ли мы разделить их по сегментам рынка или по другим категориям, которые нам помогут.  \n",
        "- Мы можем категоризировать на основе и числовых и категориальных столбцов. То есть мы можем из категориальной переменной сделать  \n",
        ">другую категориальную, уменьшив или увеличив разбиение.   \n",
        "- добавление категорий обогощает данные, при чем категории могут формироваться не из одной колонки, а из серии, то есть чтобы попасть  \n",
        ">в определенную категорию значения столбцов должно быть такое то, а не только один столбец определяет категорию.  \n",
        "- категории могут быть да нет, то есть состоять из двух значений, например, у нас есть данные о рекламе и столбец где она показвалась,  \n",
        ">и у нас много много разных устройств. Мы можем разбить на да нет, то есть показвалась реклама по телеку или нет"
      ]
    },
    {
      "cell_type": "markdown",
      "metadata": {
        "id": "xc_7l0EvrRUN"
      },
      "source": [
        ">Мы можем разбить данные на категории двумя способами\n",
        "- разбивать на равные части  \n",
        ">подходит, когда\n",
        ">    - диапазон значений является равномерным и имеет линейную структуру  \n",
        ">    - мы понимаем на какие интервалы хотим разбить данные    \n",
        ">    - мы хотим разделить диапазон значений на равные части для удобства анализа.\n",
        "- разбить на основе квантилей  \n",
        ">подходит, если   \n",
        ">    - диапазон значений имеет неравномерную структуру\n",
        ">    - мы не можем понять какие интервалы выбрать\n",
        ">    - хотим выделить группы с конкретными характеристиками (например, группы с низким доходом, средним доходом и высоким доходом)"
      ]
    },
    {
      "cell_type": "markdown",
      "metadata": {
        "id": "YMXSY5vJrRUO"
      },
      "source": [
        ">Выбираем нужные способ и используем  \n",
        ">`create_category_column`"
      ]
    },
    {
      "cell_type": "markdown",
      "metadata": {
        "id": "jfbe1yYIrRUQ"
      },
      "source": [
        ">Чтобы посмотреть распределение по квантилям используем `pagri_data_tools.quantiles_columns()`"
      ]
    },
    {
      "cell_type": "code",
      "execution_count": null,
      "metadata": {
        "id": "4MCHj0_yrRUR"
      },
      "outputs": [],
      "source": [
        "pagri_data_tools.quantiles_columns()"
      ]
    },
    {
      "cell_type": "code",
      "execution_count": null,
      "metadata": {
        "id": "wbLt0cChrRUR"
      },
      "outputs": [],
      "source": [
        "pagri_data_tools.create_category_column()"
      ]
    },
    {
      "cell_type": "markdown",
      "metadata": {
        "id": "6-TcnFAGrRUS"
      },
      "source": [
        ">Сделаем следующие группы\n",
        "- до 30 лет\n",
        "- от 30 до 40 лет\n",
        "- от 40 до 50 лет\n",
        "- от 50 до 60 лет\n",
        "- старше 60 лет"
      ]
    },
    {
      "cell_type": "code",
      "execution_count": null,
      "metadata": {
        "id": "l52cwl7hrRUT"
      },
      "outputs": [],
      "source": [
        "labels = ['до 30', '30-40', '40-50', '50-60', 'старше 60']\n",
        "bins = [-np.inf, 30, 40, 50, 60, np.inf]"
      ]
    },
    {
      "cell_type": "code",
      "execution_count": null,
      "metadata": {
        "id": "nzu-57PVrRUU",
        "outputId": "eba9bd26-c261-441a-ce37-66e7f4818fcf"
      },
      "outputs": [
        {
          "data": {
            "text/plain": [
              "30-40        5704\n",
              "40-50        5241\n",
              "50-60        4520\n",
              "до 30        3804\n",
              "старше 60    2132\n",
              "Name: age_cat, dtype: int64"
            ]
          },
          "metadata": {},
          "output_type": "display_data"
        }
      ],
      "source": [
        "df['age_cat'] = pagri_data_tools.create_category_column(df.age, labels=labels, bins=bins)\n",
        "df['age_cat'].value_counts()"
      ]
    },
    {
      "cell_type": "markdown",
      "metadata": {
        "id": "aSrdH3e6rRUX"
      },
      "source": [
        ">Категоризация с использованием лемматизации"
      ]
    },
    {
      "cell_type": "markdown",
      "metadata": {
        "id": "m0yDsdsIrRUX"
      },
      "source": [
        ">Если у нас есть столбец и мы хотим его лематизировать, то используем функцию  \n",
        ">`lemmatize_column`"
      ]
    },
    {
      "cell_type": "markdown",
      "metadata": {
        "id": "ALOPQaDtrRUZ"
      },
      "source": [
        ">Чтобы создать лемы для словаря категоризации, можно посмотреть имеющиеся предложения и использовать\n",
        ">```\n",
        ">m = Mystem()\n",
        ">m.lemmatize('образованием')\n",
        ">```"
      ]
    },
    {
      "cell_type": "code",
      "execution_count": null,
      "metadata": {
        "id": "DVE5D17irRUb"
      },
      "outputs": [],
      "source": [
        "m = Mystem()\n",
        "m.lemmatize('образованием')"
      ]
    },
    {
      "cell_type": "code",
      "execution_count": null,
      "metadata": {
        "id": "vZ4-3Z4vrRUd"
      },
      "outputs": [],
      "source": [
        "pagri_data_tools.lemmatize_column()"
      ]
    },
    {
      "cell_type": "code",
      "execution_count": null,
      "metadata": {
        "id": "9MSDkMWcrRUe"
      },
      "outputs": [],
      "source": [
        "categorization_dict = {\n",
        "    'недвижимость': ['жилье', 'недвижимость']\n",
        "    , 'образование': ['образование']\n",
        "    , 'автомобиль': ['автомобиль', 'машина']\n",
        "    , 'свадьба': ['свадьба']\n",
        "}"
      ]
    },
    {
      "cell_type": "code",
      "execution_count": null,
      "metadata": {
        "id": "3B6vtIrbrRUg",
        "outputId": "72909a7c-892e-419f-eafc-09f1abdae387"
      },
      "outputs": [
        {
          "data": {
            "text/plain": [
              "недвижимость    10779\n",
              "автомобиль       4288\n",
              "образование      3997\n",
              "свадьба          2337\n",
              "Name: purpose_new, dtype: int64"
            ]
          },
          "metadata": {},
          "output_type": "display_data"
        }
      ],
      "source": [
        "df['purpose_new'] = pagri_data_tools.categorize_column_by_lemmatize(df.purpose, categorization_dict, use_cache=True)\n",
        "df['purpose_new'].value_counts()"
      ]
    },
    {
      "cell_type": "markdown",
      "metadata": {
        "id": "zmBOmctNrRUj"
      },
      "source": [
        ">Если нужно, уддалим старую колонку"
      ]
    },
    {
      "cell_type": "code",
      "execution_count": null,
      "metadata": {
        "id": "tJ51aS1mrRUk",
        "outputId": "87244319-8519-4972-e67e-e931034a26c7"
      },
      "outputs": [
        {
          "data": {
            "text/html": [
              "<div>\n",
              "<style scoped>\n",
              "    .dataframe tbody tr th:only-of-type {\n",
              "        vertical-align: middle;\n",
              "    }\n",
              "\n",
              "    .dataframe tbody tr th {\n",
              "        vertical-align: top;\n",
              "    }\n",
              "\n",
              "    .dataframe thead th {\n",
              "        text-align: right;\n",
              "    }\n",
              "</style>\n",
              "<table border=\"1\" class=\"dataframe\">\n",
              "  <thead>\n",
              "    <tr style=\"text-align: right;\">\n",
              "      <th></th>\n",
              "      <th>children</th>\n",
              "      <th>dob_years</th>\n",
              "      <th>education</th>\n",
              "      <th>family_status</th>\n",
              "      <th>gender</th>\n",
              "      <th>income_type</th>\n",
              "      <th>debt</th>\n",
              "      <th>total_income</th>\n",
              "      <th>purpose</th>\n",
              "      <th>dob_cat</th>\n",
              "      <th>total_income_cat</th>\n",
              "    </tr>\n",
              "  </thead>\n",
              "  <tbody>\n",
              "    <tr>\n",
              "      <th>0</th>\n",
              "      <td>1</td>\n",
              "      <td>42</td>\n",
              "      <td>высшее</td>\n",
              "      <td>женат / замужем</td>\n",
              "      <td>F</td>\n",
              "      <td>сотрудник</td>\n",
              "      <td>0</td>\n",
              "      <td>253876</td>\n",
              "      <td>Недвижимость</td>\n",
              "      <td>40-50</td>\n",
              "      <td>200-500 тыс</td>\n",
              "    </tr>\n",
              "  </tbody>\n",
              "</table>\n",
              "</div>"
            ],
            "text/plain": [
              "   children  dob_years education    family_status gender income_type debt  \\\n",
              "0         1         42    высшее  женат / замужем      F   сотрудник    0   \n",
              "\n",
              "   total_income       purpose dob_cat total_income_cat  \n",
              "0        253876  Недвижимость   40-50      200-500 тыс  "
            ]
          },
          "metadata": {},
          "output_type": "display_data"
        }
      ],
      "source": [
        "df = df.drop('purpose', axis=1).rename(columns={'purpose_new': 'purpose'})\n",
        "df.head(1)"
      ]
    },
    {
      "cell_type": "markdown",
      "metadata": {
        "id": "O-FSSYXzrRUm"
      },
      "source": [
        ">С помощью лематизации мы можем сократить количество категорий.  "
      ]
    },
    {
      "cell_type": "markdown",
      "metadata": {
        "id": "GZLsyoUyrRUo"
      },
      "source": [
        ">Например мы можем выделить группы:\n",
        "- операции с автомобилем (ключевое слово - автомобиль)\n",
        "- операции с недвижимостью (ключевые слова: жилье, недвижимость)\n",
        "- проведение свадьбы (ключевое слово: свадьба)\n",
        "- получение образования (ключевое слово: образование)\n"
      ]
    },
    {
      "cell_type": "markdown",
      "metadata": {
        "id": "Y2WWh3NRrRUr"
      },
      "source": [
        ">Используем функцию  \n",
        ">`categorize_column_by_lemmatize`"
      ]
    },
    {
      "cell_type": "code",
      "execution_count": null,
      "metadata": {
        "id": "mL1cesbvrRUs"
      },
      "outputs": [],
      "source": [
        "pagri_data_tools.categorize_column_by_lemmatize()"
      ]
    },
    {
      "cell_type": "markdown",
      "metadata": {
        "id": "a1q9R5bcrRUt"
      },
      "source": [
        "Из времени также можно сделать категориальный переменные, например, создать переменную для времени заправки, если больше 1 минуты, то долгая заправка, иначе короткая и так далее."
      ]
    },
    {
      "cell_type": "markdown",
      "metadata": {
        "id": "rTusGV33rRUw"
      },
      "source": [
        "ВАЖНО подумать какие переменные мы можем создать не только категориальные, но и числовые и временные.  \n",
        "Например, обрезание времени, чтобы получить дату по часам и прочее,"
      ]
    },
    {
      "cell_type": "markdown",
      "metadata": {
        "id": "se_ow21DrRUy"
      },
      "source": [
        ">Если мы хотим преобразовать категории в числа, то мы можем использовать\n",
        "- lable encoding  \n",
        ">Заменяем быквы числами. Хорошо работает, когда у нас порядковые категориальные переменные.  \n",
        ">Не забываем про порядок, если у нас алфавитный порядок наших категорий соотвествует числовому, то ок,  \n",
        ">если нет, то нам нужно самим определить порядок чисел, чтобы они соответствовали категориям в нужном порядке.  \n",
        "- one hot encoding  \n",
        ">Если у нас категориальная переменная не упорядочиваемая, то лучше использовать one hot encoding, чтобы разница между числами не вносила шум,  \n",
        ">так как черный и белый и красный цвет закодированные 1, 2, 3 вносят смысл количества, но они не имеют этого свойства.  \n",
        "-  target encoding  \n",
        ">замена категориальной переменной на каую-то статистику по одной из категорий внутри этой переменной.  \n",
        ">Например у нас категориальная переменная это наличие задержки. Значение задержан / незадержан. Мы кодируем их как 0 и 1. Далее мы берем и считаем по каждой группе (для задержан и для незадержан)  \n",
        ">статистику, например, среднее и получаем столбец, где вместо каждой буквы будет ее среднее.  \n",
        ">Тут важно делать регуляризацию. Так как маленькие группы могут иметь сильно  зашумленные статистики, так как если у нас  \n",
        ">группа из 5 значений, то среди них может быть легко экстремальное одно и оно сбивает статистику, поэтому добавляем штраф всем статистикам.  \n",
        ">Регуляризация это что-то похожее на сглаживание.  \n",
        ">Как это делается\n",
        ">    - берем считаем среднее по таргету (целевой переменной, то есть той, по которой мы счтаем статистику) всей таблице (то есть не делим на категории)  \n",
        ">    - Далее используем следующую формулу для сглаженного значения среднего по конкретной группе:   \n",
        ">      (среднее по группе * количество элементов в группе + среднее по таргету без учета категорий * размер регуляризирующей группы) / (количество элементов в категории + размер регуляризирующей группы)  \n",
        ">      Количество элементов в регуляризационнной группе выбирает эмперически. То есть это количество элементов, которым мы сглаживаем.    \n",
        ">      Смысл в том, что мы берем сколько-то элементов с занчением для всех категорий и сглаживаем им наши отдельные категории.    \n",
        ">    - Размер регуляризирующей группы обычно выбирают с помощью grid search, то есть берут цикл для размера этой группы и считают результат модели для каждого размера,  \n",
        ">    и потом выбирают тот размер, для которого результат лучше.    \n",
        ">    \n",
        ">`target_encoding_linear`  \n",
        ">`target_encoding_bayes`      \n",
        ">    \n",
        ">\n"
      ]
    },
    {
      "cell_type": "code",
      "execution_count": null,
      "metadata": {
        "id": "2SATa2Z7rRUz"
      },
      "outputs": [],
      "source": [
        "pagri_data_tools.target_encoding_linear()\n",
        "pagri_data_tools.target_encoding_bayes()"
      ]
    },
    {
      "cell_type": "markdown",
      "metadata": {
        "id": "Eskil1N5rRU1"
      },
      "source": [
        ">Использование кластеризации для категоризации"
      ]
    },
    {
      "cell_type": "markdown",
      "metadata": {
        "id": "ClIT7kHOrRU2"
      },
      "source": [
        ">Можно понизить размерность до 3  \n",
        ">и построить 3 д график  \n",
        ">По этому графику посмотреть есть ли у нас возможные кластеры  \n",
        ">Если есть, то выделить их  \n",
        ">Причем для понижения размерности можно брать все столбцы, а можно только часть."
      ]
    },
    {
      "cell_type": "markdown",
      "metadata": {
        "id": "cbbc6GzXrRU4"
      },
      "source": [
        "### Обогощение таблиц"
      ]
    },
    {
      "cell_type": "markdown",
      "metadata": {
        "id": "piDQ8elSrRU6"
      },
      "source": [
        ">Проверка соответствия:   \n",
        ">Если у нас в разных таблицах есть значения, которые дожны быть одинакоые,    \n",
        ">то нужно проверить, что значения в одном столбце соответствуют значениям в другом столбце."
      ]
    },
    {
      "cell_type": "code",
      "execution_count": null,
      "metadata": {
        "id": "0bhibjqYrRU8"
      },
      "outputs": [],
      "source": [
        "df['column_name1'].equals(df['column_name2'])"
      ]
    },
    {
      "cell_type": "markdown",
      "metadata": {
        "id": "BDcFFzotrRU-"
      },
      "source": [
        ">Обоготить данные можно следующими способами\n",
        "- взять поле нашей таблицы и найти дополнительные данные в интернете или ещё где-то и потом связать с нашей колонкой по этому полю  \n",
        ">Самое просто это дата, если у нас есть дата, то мы можем много разной доп информации внести в наши данные связывая по дате.  \n",
        ">Также, например, у нас есть какие-то коды чего-то, мы ищем информацию по этим кодам и находим табличку с доп инфой по этим кодам и можем обоготить ими   \n",
        ">нашу таблицу. Например, у нас города или страны, мы можем по ним также внести доп инфу из какого-то источника, которая нам поможет.  \n",
        ">Вообще любое поле нашей таблицы это потенцильная нить для обогощения. Главное понять с чем полезным мы можем соеденить  \n",
        ">через конкретное поле, чтобы получить больше полезной информации для анализа, по сути для детализации наших зависимостей или для поиска  \n",
        ">новых зависимостей и инсайтов в них.  \n",
        ">Процесс следующий - мы берем каждую колонку нашего дата сета и думаем, с чем через нее мы можем связать и если придумываем, то идешь ищем эту информацию и  \n",
        ">в итоге соединяем.  \n",
        "- Можно пойти от обратного. Сначал подумтаь какие данные нам могут помочь и поискать их в интернете например, а потом уже думать как их соеденить с нашими   \n",
        ">данными. Оба способа лучше делать одновременно.  "
      ]
    },
    {
      "cell_type": "markdown",
      "metadata": {
        "id": "bA00N4dWrRU_"
      },
      "source": [
        ">Каждый раз, когда мы работаем с дата сетом, мы должны понять что является сущностью этого дата сета.  \n",
        ">Например событие, человек и прочее.  \n",
        ">Далее нам нужно поянть а можем ли мы его идентифицировать по текущим данным (не всегда есть уникальный ай ди).   \n",
        ">Если не можем, то нужно думта как обогатить данные, чтобы четко идентифицировать сущности"
      ]
    },
    {
      "cell_type": "markdown",
      "metadata": {
        "id": "AhRG5VZdrRVB"
      },
      "source": [
        ">Что нужно обязательно првоерить после соединения\n",
        "- если мы соединяем по полю, которое уникально в обеих таблицах\n",
        ">    - количество строк в левом датафрейме равно количеству строк в итоговом\n",
        ">    - параметры каждого дата сета не изменились (если мы соединили правильно, то итоговые суммы по столбцам не должны измениться)\n",
        ">        - используем `df.sum(numeric_only=True)` для каждой таблицы до соединения и для общей таблицы и сравниваем значения\n",
        ">        - можно использвоать `df.describe` также до и после объединения и сравнивать параметры\n",
        "- если у нас в одной из колонок для соединения не уникальные значения (то есть для одной строки в левой таблице будет несколько в итоговй)    \n",
        ">    - Сначала группируем таблицы, чтобы поле для соединения в обеих таблицах было уникальное\n",
        ">    и применяем предыдущий шаг с количеством строк в левой и итоговой и суммой значений в левой и итоговой одинаковой\n",
        ">    - Если нам нужно соеденить без группировки (но это редко может быть, поэтому нужно подумать точно ли не моежм сгруппировать)  \n",
        ">    тогда нет выбора и остаются только следующие варианты  \n",
        ">        - если в левой таблице уникальные записи в колонке, по которйо соединяем    \n",
        ">            - тогда считаем сколько было записей в левой таблице в колонке для соединения и сравниваем с количеством **уникальных** записей в итоговой  \n",
        ">            они должны совпадать, но тут важно в итоговой брать уникальные записи\n",
        ">        - есил и в левой и правой нет уникальных\n",
        ">            - тут считаем сколько **уникальных** в левой до и сколько **уникальных** в итоговой, должно совпадать"
      ]
    },
    {
      "cell_type": "markdown",
      "metadata": {
        "id": "b6GMRld-rRVC"
      },
      "source": [
        ">Если у нас что-то не сходится после соединения таблиц, то нужно внимально изучить это.  \n",
        ">Тут может быть инсайт (кто-то не правильно вносит информацию, какие-то значения неверные или кто-то что-то хотел спрятать, не указать и прчоее).  \n",
        ">Когда видим нестыковки после соединения таблиц, то должна загораться красная лампочка. Это потенциальный инсайт, баг, который мы можем найти и сообщить, чтобы его починили."
      ]
    },
    {
      "cell_type": "markdown",
      "metadata": {
        "id": "wjcED5tlrRVF"
      },
      "source": [
        ">помним, что метод соединения inner стоит по умолчанию в merge"
      ]
    },
    {
      "cell_type": "markdown",
      "metadata": {
        "id": "q3fWYVLarRVI"
      },
      "source": [
        ">В колонках, по которым будем соеднить, проверяем, нет ли пропусков, пропуски нужно заменить нулями.  \n",
        ">Иначе будет либо ошибка, либо пропуски сджойнятся с пропусками"
      ]
    },
    {
      "cell_type": "markdown",
      "metadata": {
        "id": "uoysR7t4rRVJ"
      },
      "source": [
        ">Проблема справочников  \n",
        ">При объединение таблиц важно помнить про то, что в разных таблицах не только названия столбцов может быть разное,  \n",
        ">но и одно значение может быть записано по разному в разных таблицах, например, названия профессий, названия городов,  \n",
        ">имя в одной таблице на русском, а в другой на английском, номер телефона с черточкой или плюсом и без черточки или плюса.  \n",
        ">Поэтому не забываем привести все значения таблиц к нижнему регистру, чтобы не было проблем разными регистрами для одного слова"
      ]
    },
    {
      "cell_type": "markdown",
      "metadata": {
        "id": "GyrDhiARrRVL"
      },
      "source": [
        ">Проблема временных зон  \n",
        ">В одной таблице может быть выгрузка по местному времени, а в другом по московскому  \n"
      ]
    },
    {
      "cell_type": "markdown",
      "metadata": {
        "id": "xvOu-DnnrRVN"
      },
      "source": [
        ">Проблема курсов валют  \n",
        ">Разыне системы могут брать курс за разные промежутки вермени, например, одна система берет курс в гугле (раз в час обновляется),  \n",
        ">а другая система берет курс в ЦБ (обновляется раз в сутки)  \n",
        ">И поэтому итоговые резултаты могут не состыковаться, поэтому, когда видим курсы валют, то нужно убедиться. что они взяты из одного испточника  \n",
        ">и за один промежуток времени  "
      ]
    },
    {
      "cell_type": "markdown",
      "metadata": {
        "id": "ReBcrZ1HrRVO"
      },
      "source": [
        ">Когда мы работаем с данными, нам важно четко идентифицировать клиентов, событие или другую сущность, с которой мы работаем.  \n",
        ">Иначе у нас будет шум, так как мы одного и того же клиента учтем более одного  раза."
      ]
    },
    {
      "cell_type": "markdown",
      "metadata": {
        "id": "B1KQVEXDrRVR"
      },
      "source": [
        ">Как можно обоготить данные, чтобы лучше идентифицировать сущности\n",
        "- Добавить для клиента email, телефон, устройство, 4 цифры карты и другое, что может помочь его идентифицировать  \n",
        ">    Это важно так как у клиента могут быть разные телефоны, устройства, карты, но все это вместе поможет его идентифицировать точнее\n",
        "- Добавить для события локацию, погоду, связанные событие, праздники, что поможет нам идентифицировать событие   "
      ]
    },
    {
      "cell_type": "markdown",
      "metadata": {
        "id": "pivCz8UGrRVT"
      },
      "source": [
        "### Промежуточный вывод"
      ]
    },
    {
      "cell_type": "markdown",
      "metadata": {
        "id": "fEqgwfVYrRVV"
      },
      "source": [
        ">пишем как обработали данные, например"
      ]
    },
    {
      "cell_type": "markdown",
      "metadata": {
        "id": "mZWnmjS0rRVX"
      },
      "source": [
        "- Удалили колонки с id образования и семейного статуса, так как нам для графиков лучше подойдут названия, а не id.\n",
        "- Колонка со стажем имеет совершенно некорректные данные. Чтобы не внести искажение в анализ, удалим эту колонку.\n",
        "- Удалили отрицательные значения в колонке с количеством детей, которые составляли 0,2% от общего количества записей в данных."
      ]
    },
    {
      "cell_type": "markdown",
      "metadata": {
        "id": "W8I8KyWWrRVZ"
      },
      "source": [
        "## Расчет метрик"
      ]
    },
    {
      "cell_type": "markdown",
      "metadata": {
        "id": "ERfA6A-4rRVb"
      },
      "source": [
        "### Метрики продукта"
      ]
    },
    {
      "cell_type": "markdown",
      "metadata": {
        "id": "Jy5xOMxqrRVc"
      },
      "source": [
        ">тут будут расчеты продуктовых метрик"
      ]
    },
    {
      "cell_type": "markdown",
      "metadata": {
        "id": "Tw-W-_1KrRVd"
      },
      "source": [
        "### Экономические метрики"
      ]
    },
    {
      "cell_type": "markdown",
      "metadata": {
        "id": "DDmTs8l7rRVf"
      },
      "source": [
        ">тут будут расчеты экономических метрик"
      ]
    },
    {
      "cell_type": "markdown",
      "metadata": {
        "id": "enaReeRqrRVj"
      },
      "source": [
        ">Если расчет метрик является важным аспектом вашего исследования и требует подробного описания, то создание отдельной главы будет лучшим решением.  \n",
        ">Если в этом разделе будет немного расчетов, то можно сделать расчеты метрик разделом предобработки данных"
      ]
    },
    {
      "cell_type": "markdown",
      "metadata": {
        "id": "Q3Hi6DGJrRVl"
      },
      "source": [
        ">Расчитываем разные метрики на основе имеющихся данных и тех, которыми смогли обогатить данные"
      ]
    },
    {
      "cell_type": "markdown",
      "metadata": {
        "id": "-TuQtWlvrRVm"
      },
      "source": [
        ">Важно следить за количеством недель в году, если мы создаем столбец месяца.  \n",
        ">Проверять чтобы у нас не появлялась неделя дополнительная, из за того, что мы захватили предыдущий год"
      ]
    },
    {
      "cell_type": "markdown",
      "metadata": {
        "id": "54ysvmyyrRVo"
      },
      "source": [
        "### Когортный анализ"
      ]
    },
    {
      "cell_type": "markdown",
      "metadata": {
        "id": "WizFUBpRrRVq"
      },
      "source": [
        ">Не забывать про когортный анализ. Если у нас есть параметр, по которому мы можем наши данные разбить на когорты, то  \n",
        ">нужно разложить на когорты и посмотреть динамику по когортам.  \n",
        ">Когорты это например, пользователи пришедшие в одни день или месяц.  \n",
        ">Если мы объеденим пользователей в когорты и посмотрим динамику какого-то параметра по месяцам например, то увидим как изменяется.  \n",
        ">Тут также нужно помнить, что если значение например за 3 месяц больше значения за 4 месяц, то это ничего не значит само по себе.  \n",
        ">Так как мы имеем дело с выборкой, то нам нужно проверить статистически значимая это разница.  \n",
        ">Тут нам понядобятся стат тесты.  \n"
      ]
    },
    {
      "cell_type": "markdown",
      "metadata": {
        "id": "olgV4M0jrRVr"
      },
      "source": [
        "### Промежуточный вывод"
      ]
    },
    {
      "cell_type": "markdown",
      "metadata": {
        "id": "1I_zo9ZhrRVs"
      },
      "source": [
        "## Анализ корреляций между переменными"
      ]
    },
    {
      "cell_type": "markdown",
      "metadata": {
        "id": "9qxC2T4GrRVs"
      },
      "source": [
        "ВАЖНО  \n",
        "проверить, что все категориальные переменные по прежнему имеют категориальный тип, чтобы при анализе они не поетрялись"
      ]
    },
    {
      "cell_type": "code",
      "execution_count": null,
      "metadata": {
        "id": "y0caUtRdrRVt"
      },
      "outputs": [],
      "source": [
        "df.dtypes"
      ]
    },
    {
      "cell_type": "markdown",
      "metadata": {
        "id": "3Owv5IBprRVu"
      },
      "source": [
        "### Исследование корреляционных связей"
      ]
    },
    {
      "cell_type": "markdown",
      "metadata": {
        "id": "b8MOGmSbrRVv"
      },
      "source": [
        ">Топ n значений одного столбца по значениям в другом\n",
        ">Сделать функцию, чтобы в столбцах, где бльше 20 уникльных значений посмотреть топ n значений по другой колонке.  \n",
        ">Например, топ 10 покупателей по сумме покупок и прочее.  \n",
        ">Идея в том, что если  в столбце до 20 уникальных значений, то мы проанализируем комбинации с другими стобцами на графиках.  \n",
        ">А вот если у нас столбец не числовой и в нем больше 20 уникальных значений, то на графике мы не сможем понять топ n."
      ]
    },
    {
      "cell_type": "markdown",
      "metadata": {
        "id": "uKU6kcA_rRVw"
      },
      "source": [
        ">Изучаем топ n значений в категориальных столбцах датафрейма, где значений больше порогового, по значению в столбце value_column.  \n",
        ">Тут можно делать разные топы, использовать разные функции.  \n",
        ">Задача изучить то, что мы не сможем изучить на графиках из-за болшого количества занчений в категориальной переменной,  \n",
        ">поэтому мы берем топ n значений.  "
      ]
    },
    {
      "cell_type": "code",
      "execution_count": null,
      "metadata": {
        "id": "VbAmTq91rRVx"
      },
      "outputs": [],
      "source": [
        "gen = pagri_data_tools.top_n_values_gen()\n",
        "next(gen)"
      ]
    },
    {
      "cell_type": "markdown",
      "metadata": {
        "id": "BHl5_m8JrRVy"
      },
      "source": [
        ">Чтобы сравнить метрики между собой мы можем\n",
        "- использовать корреляционный анализ (Пирсена, Спирмена, Кенделла)\n"
      ]
    },
    {
      "cell_type": "markdown",
      "metadata": {
        "id": "E9qzgGMwrRVz"
      },
      "source": [
        ">`heatmap_corr(df)`"
      ]
    },
    {
      "cell_type": "code",
      "execution_count": null,
      "metadata": {
        "id": "o5vlcDqqrRVz"
      },
      "outputs": [],
      "source": [
        "pagri_data_tools.pagri_data_tools.heatmap_corr(df)"
      ]
    },
    {
      "cell_type": "markdown",
      "metadata": {
        "id": "sF5_Hw5nrRV0"
      },
      "source": [
        ">Использование регрессии и случайного леса для определения влияния переменных  "
      ]
    },
    {
      "cell_type": "markdown",
      "metadata": {
        "id": "nPM18h8OrRV1"
      },
      "source": [
        ">Коэффициенты регрессии позволяют оценить влияние каждой переменной на целевую переменную, учитывая влияние других переменных,  \n",
        ">в то время как важные компоненты в случайном лесе позволяют оценить важность каждой переменной для предсказания целевой переменной."
      ]
    },
    {
      "cell_type": "markdown",
      "metadata": {
        "id": "ey9izWY_rRV2"
      },
      "source": [
        ">Используем регрессиию"
      ]
    },
    {
      "cell_type": "markdown",
      "metadata": {
        "id": "xVVY29pWrRV3"
      },
      "source": [
        ">Чтобы построить регрессию и посмотреть стат значимость и коэффициенты удобно использовать модуль statsmodel"
      ]
    },
    {
      "cell_type": "markdown",
      "metadata": {
        "id": "m-DWUDLWrRV4"
      },
      "source": [
        ">VIF означает Variance Inflation Factor (Фактор инфляции дисперсии). Это статистическая метрика,   \n",
        ">используемая для обнаружения мультиколлинеарности (сильной корреляции) между предикторами (фичами) в линейной регрессии."
      ]
    },
    {
      "cell_type": "markdown",
      "metadata": {
        "id": "lKd8dVyBrRV4"
      },
      "source": [
        ">Обычно, VIF интерпретируется следующим образом:\n",
        ">\n",
        "- VIF < 5: слабая мультиколлинеарность\n",
        "- 5 ≤ VIF < 10: умеренная мультиколлинеарность\n",
        "- VIF ≥ 10: сильная мультиколлинеарность"
      ]
    },
    {
      "cell_type": "markdown",
      "metadata": {
        "id": "sLgp8Q-IrRV5"
      },
      "source": [
        ">\n",
        ">Смотрим R2 (коэффициент детерминации)\n",
        "- использовать коэффициенты у регресси\n",
        ">Мы строим регрессию и смотрим, у каких метрик больше коэффициенты. Таким образом мы поймем какие метрики сильнее зависят с целевой.  \n",
        ">Важно, чтобы независимые переменные некоррелировали по отдельности и вместе (мультиколлиниарность).  \n",
        ">По отдельности смотрим матрицу корреляции.  \n",
        ">Чтобы определить коррелириуют ли вместе, береме независимые переменные,  \n",
        ">и перебираем их выбирая одну из них целевой и смотрим R2.  \n",
        ">Если R2 большой, то значит эта метрика (которая целевая на этом шаге) хорошо описывается другими и ее можно выбросить.\n",
        ">Также не забываем поправки на гетероскедостичность (HC0, HC1, HC2, HC3) в статпакетах.  \n",
        ">Нам нужно ответить на следующие вопросы\n",
        ">    - Влияет ли метрика на целевую?\n",
        ">    Оцениваем коэффициенты в уравнении регресси у каждой метрики.  \n",
        ">    - Как влияет метрика на целевую?\n",
        ">    Смотрим R2 (коэффициент детерминации). И определяем какая часть целевой переменной определяется независимыми метриками.  \n",
        ">    - Коэффициенты при метриках в уравнении статистически значим? При какаом уровне значимости?\n",
        ">    Смотрим в стат пакете p value для каждого коэффициента, что нам говорит значим ли этот коэффициент.  \n",
        ">    То есть мы не просто смотрим его абсолютное значение, а учитываем p value.   \n",
        ">    - Дайте содержательную интерпретацию коэффицентам?\n",
        ">    При увеличении метрики k на 1, целевая метрика увеличивается на $b_{k} * 1$\n",
        ">    То есть нужно перевести коэффициенты в реальное сравнение, насколько увелчисться целевая метрика при изменении определенной метрики на 1\n",
        ">    - Найдите 95 процентный доверительный интервал.\n",
        ">    В стат пакете смотрим значение и оно говорит, что если мы многократно повторим ноши вычисления с новыми данными, то 95 процентов наших  \n",
        ">    полученных коэффицентов будут лежать в этом диапазоне.  "
      ]
    },
    {
      "cell_type": "markdown",
      "metadata": {
        "id": "vvBiTNSarRV7"
      },
      "source": [
        ">Строим модель и изучаем результат  \n",
        ">`linear_regression_with_vif`"
      ]
    },
    {
      "cell_type": "code",
      "execution_count": null,
      "metadata": {
        "id": "4LbT8_bLrRV7"
      },
      "outputs": [],
      "source": [
        "pagri_data_tools.linear_regression_with_vif()"
      ]
    },
    {
      "cell_type": "markdown",
      "metadata": {
        "id": "KkMR0m7jrRV8"
      },
      "source": [
        ">Испльзовать коэффициенты у классификацию    \n",
        ">Строим случайный лес какие метрики сильнее всего влияют на решения модели.   \n",
        ">`plot_feature_importances_classifier`   \n",
        ">`plot_feature_importances_regression`"
      ]
    },
    {
      "cell_type": "markdown",
      "metadata": {
        "id": "giZpNws7rRV9"
      },
      "source": [
        ">Тут нужно подумать как использовать категориальные переменные тоже   \n",
        ">Нужно их перевести в one hot encoding или подобное, чтобы также проверить силу их влияния на целевую перменную"
      ]
    },
    {
      "cell_type": "code",
      "execution_count": null,
      "metadata": {
        "id": "-Zkdbsu5rRV-"
      },
      "outputs": [],
      "source": [
        "titles_for_axis = dict(\n",
        "    debt = 'долга'\n",
        "    , children = 'Кол-во детей'\n",
        "    , age = 'Возраст'\n",
        "    , total_income = 'Доход'\n",
        ")\n",
        "\n",
        "pagri_data_tools.plot_feature_importances_classifier(df, target='debt', titles_for_axis=titles_for_axis)\n",
        "pagri_data_tools.plot_feature_importances_regression()"
      ]
    },
    {
      "cell_type": "markdown",
      "metadata": {
        "id": "N-5SDhYprRV_"
      },
      "source": [
        ">На основе полученных данных формулируем гипотезы, которые будем проверять в блоке проверки гипотез"
      ]
    },
    {
      "cell_type": "markdown",
      "metadata": {
        "id": "FMycgrYKrRWA"
      },
      "source": [
        "> используем быблиотеку `shap`, чтобы определить метрики, которые лучше других помогают предсказывать целевую перемменную"
      ]
    },
    {
      "cell_type": "markdown",
      "metadata": {
        "id": "n7Mv-mp2rRWA"
      },
      "source": [
        "### Промежуточный вывод"
      ]
    },
    {
      "cell_type": "markdown",
      "metadata": {
        "id": "3TP7GMcjrRWB"
      },
      "source": [
        "## Анализ взаимосвязей переменных на графиках"
      ]
    },
    {
      "cell_type": "markdown",
      "metadata": {
        "id": "YxeFoGibrRWC"
      },
      "source": [
        "Если у нас много значений в переменной, то мы агрегируем данные и можем построить бары.  \n",
        "Но если мы агрегируем данные по переменной, в которой много значений и нам это нужно.   \n",
        "То мы не сможем построить бары, и тогда мы строим гистограмму. То есть мы берем, например, для каждой заправки считаем среднее время заправки и так как у нас много заправок,  \n",
        "но мы хотим визуализировать среднее время по ним, и не агрегировать по другому параметру, то мы можем испльзовать гистограмму.  \n",
        "В данном случае гистограмма своего рода агрегация в бины, то есть мы получаем как бы новую переменную из бинов, в каждом бине будет агрегированы данные.  \n",
        "Это работает, когда нам нужно просто посмотреть колечество, так как в бинах будет количество. Таким образом мы получаем сколько у нас заправок имеют определенное среднее вермя заправки.  "
      ]
    },
    {
      "cell_type": "markdown",
      "metadata": {
        "id": "LLBtkndcrRWC"
      },
      "source": [
        ">Про размер графиков    \n",
        ">Стандартный размер графиков width=600, height=400  \n",
        ">Для более сложных графиков, когда  требуется больше места для отображения данных, можно использовать размеры width=800, height=600 или width=1000, height=800"
      ]
    },
    {
      "cell_type": "markdown",
      "metadata": {
        "id": "0MR9PIJKrRWD"
      },
      "source": [
        ">Сравнивать количество элементов нужно в абсолютных и относительных величинах.  \n",
        ">Когда мы сравниваем только в абсолютных величинах, мы не учитываем размеры групп.  \n",
        ">В одной группе может быть элементов больше чем в другой и тогда сравнение будет не совсем точным.   \n",
        ">Если у нас 2 категориальные переменные, то мы можем сравнивать отностельные величины  \n",
        ">по одной переменной, а можем по другой.  \n",
        ">Это как сравнивать суммарный возраст в группах, это не дает полной картины и мы сравниваем средний возраст,  \n",
        ">чтобы размер группы не влиял.  "
      ]
    },
    {
      "cell_type": "markdown",
      "metadata": {
        "id": "OiwGuCgCrRWE"
      },
      "source": [
        ">ВАЖНО\n",
        ">Анализ графиков и выводы для них должны полностью перекрывать постановку задачи и цель.  \n",
        ">Это значит, что если цель проанализировать зависимость наличия долга, то мы в идеале должны проанализировать  \n",
        ">влиянеие каждой переменной на наличие долга (числовой и категориальной)  \n",
        ">Кончено нужно проанализировать все возможные зависимости.  \n",
        ">Но все зависимости с переменной в постновке задачи мы обязаны проверить и дать выводы. И о наличии и об отсутствие.  \n",
        ">Важные выводы делаем не только о наличие интересных моментов, но и об отсутствие.  \n"
      ]
    },
    {
      "cell_type": "markdown",
      "metadata": {
        "id": "jED9tGlWrRWF"
      },
      "source": [
        ">Сначала раздел графиков  \n",
        ">На основе графиков формируются гипотезы (например, у нас у мужчин зп больше)\n",
        ">И после раздела графиков идет раздел проверки гипотез. Тут мы првоеряем разные гипотезы новые и те, что увидели на графиках.  \n",
        ">Это правильная последовательность сначала изучили графики и потом на основе их сформировали гипоетзы\n",
        ">Перед разделом про графики идет раздел с корреляцией и поиском главных компонет случайного леса.  \n",
        ">Мы выбиарем переменную, для которой мы далее хотим посмотреть разыне зависимости и указываем ее целевой для сучайного леса  \n",
        ">И смотрим какие фичи сильнее влияют.  \n",
        ">И теперь можем построить графики с целевой перменно и этими главными фичами и в выводе можно указать про то что это важные компоненты случаного леса"
      ]
    },
    {
      "cell_type": "markdown",
      "metadata": {
        "id": "X8lnyKv3rRWH"
      },
      "source": [
        ">На основе полученных данных формулируем гипотезы, которые будем проверять в блоке проверки гипотез"
      ]
    },
    {
      "cell_type": "markdown",
      "metadata": {
        "id": "dXPbM2PFrRWI"
      },
      "source": [
        "### Анализ временных зависимостей"
      ]
    },
    {
      "cell_type": "markdown",
      "metadata": {
        "id": "TCWZWLj8rRWJ"
      },
      "source": [
        "Когда мы хотим изучить верменную зависимость, то нам нуно создать новые переменные с обрезанными (trunc or round) значениям, чтобы можно было сгруппировать используя groupby or pivot_table  \n",
        "по этой обрезанной переменной и применить функцию агрегации и построить график, например, среднее время заправки на азс по часам.  \n",
        "Вот когда мы работаем с временем, нам нужно думать какие переменные создать, обрезая текущее время.  "
      ]
    },
    {
      "cell_type": "markdown",
      "metadata": {
        "id": "pgxVlrshrRWL"
      },
      "source": [
        ">Строим когортный анализ, если есть возможность"
      ]
    },
    {
      "cell_type": "markdown",
      "metadata": {
        "id": "IkpH8AAMrRWM"
      },
      "source": [
        ">Если у нас есть даты, то мы можем посмотреть не просто абсолютные значения на каждую дату какой-то метрики,  \n",
        ">а посмотреть относительные значения относительно предыдущего значения.  \n",
        ">Для этого нужно составить таблицу, в которой будет изменение в процентах относительно предыдущего значения.  \n",
        ">И затем визуализировать для каждой даты динамику этого показателя"
      ]
    },
    {
      "cell_type": "markdown",
      "metadata": {
        "id": "tLUcKLTUrRWO"
      },
      "source": [
        "### Изучение зависимостей между числовыми переменными"
      ]
    },
    {
      "cell_type": "code",
      "execution_count": null,
      "metadata": {
        "id": "dL3DReC5rRWP"
      },
      "outputs": [],
      "source": [
        "Построить hexbinplot"
      ]
    },
    {
      "cell_type": "markdown",
      "metadata": {
        "id": "cZfkNn4XrRWQ"
      },
      "source": [
        ">Изучаем scatter plots"
      ]
    },
    {
      "cell_type": "code",
      "execution_count": null,
      "metadata": {
        "id": "u_BwuRkXrRWR"
      },
      "outputs": [],
      "source": [
        "titles_for_axis = dict(\n",
        "    # numeric column\n",
        "    children = 'Кол-во детей'\n",
        "    , age = 'Возраст'\n",
        "    , total_income = 'Доход'\n",
        ")"
      ]
    },
    {
      "cell_type": "code",
      "execution_count": null,
      "metadata": {
        "id": "LPsVG9hZrRWR"
      },
      "outputs": [],
      "source": [
        "pagri_data_tools.pairplot(df, titles_for_axis=titles_for_axis, horizontal_spacing=0.12, height=400, width=1200, rows=1, cols=3).show(config=dict(displayModeBar=False, dpi=200), renderer=\"png\")\n",
        "# если нужно интерактивый график, то\n",
        "fig = pagri_data_tools.pairplot(df, titles_for_axis=titles_for_axis, horizontal_spacing=0.12, height=800, width=800)\n",
        "fig.show()"
      ]
    },
    {
      "cell_type": "markdown",
      "metadata": {
        "id": "woFev77NrRWT"
      },
      "source": [
        "### Изучение зависимостей между категориальными переменными"
      ]
    },
    {
      "cell_type": "code",
      "execution_count": null,
      "metadata": {
        "id": "kHlQh2xxrRWU"
      },
      "outputs": [],
      "source": [
        "gen = pagri_graphs.categorical_graph_analys_gen(df)"
      ]
    },
    {
      "cell_type": "code",
      "execution_count": null,
      "metadata": {
        "id": "hgddp4BfrRWV"
      },
      "outputs": [],
      "source": [
        "next(gen)"
      ]
    },
    {
      "cell_type": "markdown",
      "metadata": {
        "id": "6Dp3O-plrRWW"
      },
      "source": [
        ">Строим матрицу тепловой карты для категориальных переменных и изучаем зависимости  \n",
        ">`categorical_heatmap_matrix_gen`"
      ]
    },
    {
      "cell_type": "markdown",
      "metadata": {
        "id": "HgXCzTD9rRWW"
      },
      "source": [
        ">Посмотрим на распределение количества элементов между группами"
      ]
    },
    {
      "cell_type": "markdown",
      "metadata": {
        "id": "fPjUNRxxrRWX"
      },
      "source": [
        ">Нужно подумать как отобразить не только процент от всего количества, но и пороцент в группе  \n",
        ">То есть у нас есть значение в ячейке, сумма всех, сумма по категории на оси x и сумма по категории на оси Y   \n",
        ">Вот нужно как-то отобразить процент от суммы, процент от одной категории и от другой категории"
      ]
    },
    {
      "cell_type": "code",
      "execution_count": null,
      "metadata": {
        "id": "_u_6VeubrRWY"
      },
      "outputs": [],
      "source": [
        "12 (0.5% of total, 20% of row, 15% of col)"
      ]
    },
    {
      "cell_type": "markdown",
      "metadata": {
        "id": "sqq1xEZKrRWZ"
      },
      "source": [
        ">Можно сделать кнопки, чтобы можно было подсветку делать внури колонок и строк  "
      ]
    },
    {
      "cell_type": "markdown",
      "metadata": {
        "id": "3Rrg5-GkrRWb"
      },
      "source": [
        ">Можно сделать кнопки (процент от общего) (процент от тут указывается название оси x) (аналогично для второй оси)"
      ]
    },
    {
      "cell_type": "code",
      "execution_count": null,
      "metadata": {
        "id": "Pv87vcOUrRWb"
      },
      "outputs": [],
      "source": [
        "titles_for_axis = dict(\n",
        "    # numeric column\n",
        "    children = ['Количество детей', 'количество детей', 0]\n",
        "    , age = ['Возраст, лет', 'возраст', 1]\n",
        "    , total_income = ['Ежемесячный доход', 'ежемесячный доход', 1]\n",
        "     # category column\n",
        "    , education = ['Уровень образования', 'уровня образования']\n",
        "    , family_status = ['Семейное положение', 'семейного положения']\n",
        "    , gender = ['Пол', 'пола']\n",
        "    , income_type = ['Тип занятости', 'типа занятости']\n",
        "    , debt = ['Задолженность', 'задолженности']\n",
        "    , purpose = ['Цель получения кредита', 'цели получения кредита']\n",
        "    , has_child = ['Наличие детей', 'наличия детей']\n",
        "    , age_cat = ['Возрастная категория, лет', 'возрастной категории']\n",
        "    , total_income_cat = ['Категория дохода', 'категории дохода']\n",
        ")"
      ]
    },
    {
      "cell_type": "code",
      "execution_count": null,
      "metadata": {
        "id": "Se0I9zVhrRWc"
      },
      "outputs": [],
      "source": [
        "pagri_data_tools.categorical_graph_analys_gen()"
      ]
    },
    {
      "cell_type": "markdown",
      "metadata": {
        "id": "2UuHpjRLrRWd"
      },
      "source": [
        ">Строим treemap  \n",
        ">`treemap`   \n",
        ">`treemap_dash`   \n",
        ">```\n",
        ">app = treemap_dash(df)\n",
        ">if __name__ == '__main__':\n",
        ">    app.run_server(debug=True)\n",
        ">```"
      ]
    },
    {
      "cell_type": "code",
      "execution_count": null,
      "metadata": {
        "id": "hCtjpyw8rRWe"
      },
      "outputs": [],
      "source": [
        "pagri_data_tools.treemap()"
      ]
    },
    {
      "cell_type": "code",
      "execution_count": null,
      "metadata": {
        "id": "ikMDeIzkrRWf"
      },
      "outputs": [],
      "source": [
        "app = pagri_data_tools.treemap_dash(df)\n",
        "if __name__ == '__main__':\n",
        "    app.run_server(debug=True)"
      ]
    },
    {
      "cell_type": "markdown",
      "metadata": {
        "id": "IJ7NitLfrRWg"
      },
      "source": [
        ">Строим parallel_categories    \n",
        ">`parallel_categories `  \n",
        ">`parallel_categories_dash `  \n",
        ">```\n",
        ">app = treemap_dash(df)\n",
        ">if __name__ == '__main__':\n",
        ">    app.run_server(debug=True)\n",
        ">```"
      ]
    },
    {
      "cell_type": "code",
      "execution_count": null,
      "metadata": {
        "id": "YfLQJeYqrRWh"
      },
      "outputs": [],
      "source": [
        "pagri_data_tools.parallel_categories()"
      ]
    },
    {
      "cell_type": "code",
      "execution_count": null,
      "metadata": {
        "id": "odcDD06VrRWh"
      },
      "outputs": [],
      "source": [
        "app = pagri_data_tools.parallel_categories_dash(df)\n",
        "if __name__ == '__main__':\n",
        "    app.run_server(debug=True)"
      ]
    },
    {
      "cell_type": "markdown",
      "metadata": {
        "id": "mfipm_NfrRWj"
      },
      "source": [
        ">Строим Sankey  \n",
        ">`sankey `   \n",
        ">`sankey_dash`\n",
        ">\n",
        ">```\n",
        ">app = treemap_dash(df)\n",
        ">if __name__ == '__main__':\n",
        ">    app.run_server(debug=True)\n",
        ">```"
      ]
    },
    {
      "cell_type": "code",
      "execution_count": null,
      "metadata": {
        "id": "ZwI8SqNgrRWj"
      },
      "outputs": [],
      "source": [
        "pagri_data_tools.sankey()"
      ]
    },
    {
      "cell_type": "code",
      "execution_count": null,
      "metadata": {
        "id": "yZ7CnD_WrRWk"
      },
      "outputs": [],
      "source": [
        "app = pagri_data_tools.sankey_dash(df)\n",
        "if __name__ == '__main__':\n",
        "    app.run_server(debug=True)"
      ]
    },
    {
      "cell_type": "markdown",
      "metadata": {
        "id": "zv26sBXArRWl"
      },
      "source": [
        "### Изучение зависимостей между числовыми и категориальными переменными"
      ]
    },
    {
      "cell_type": "markdown",
      "metadata": {
        "id": "8GP7z1uCrRWl"
      },
      "source": [
        ">Можно добавить кнопку среднее и количество  \n",
        ">Чтобы можно было посмотртеть распределение по количеству, когда смотрить среднее.  \n"
      ]
    },
    {
      "cell_type": "markdown",
      "metadata": {
        "id": "XMziOQWrrRWn"
      },
      "source": [
        ">```graph_analysis```"
      ]
    },
    {
      "cell_type": "code",
      "execution_count": null,
      "metadata": {
        "id": "_l0G0NkxrRWn"
      },
      "outputs": [],
      "source": [
        "gen = pagri_data_tools.graph_analysis()"
      ]
    },
    {
      "cell_type": "markdown",
      "metadata": {
        "id": "aw2wflHxrRWp"
      },
      "source": [
        ">Когда выбрали нужные графики, то стоим их"
      ]
    },
    {
      "cell_type": "markdown",
      "metadata": {
        "id": "i7cGg9rNrRWq"
      },
      "source": [
        ">Чтобы автоматически генерировались подписи осей и заголовок графика, нужно заполшнить такой словарь.    \n",
        ">Первый элемент списка - это подпись оси  \n",
        ">Второй элемент списка - это как это название будет отображаться в заголовке графика  \n",
        ">Для числовых столбцов также указывается род, чтобы правильно выбрать (Середнее, средний, средняя) (0 - средний род, 1 - мужской род, 2 - женский род)"
      ]
    },
    {
      "cell_type": "code",
      "execution_count": null,
      "metadata": {
        "id": "1GQbB3jQrRWq"
      },
      "outputs": [],
      "source": [
        "f'Среднее / Медианное / Суммарное {numeric} в зависимости от {category} и {category}'"
      ]
    },
    {
      "cell_type": "code",
      "execution_count": null,
      "metadata": {
        "id": "IzjN2-C8rRWs"
      },
      "outputs": [],
      "source": [
        "titles_for_axis = dict(\n",
        "    # numeric column (0 - средний род, 1 - мужской род, 2 - женский род) (Середнее образовние, средний доход, средняя температура) )\n",
        "    children = ['Количество детей', 'количество детей', 0]\n",
        "    , age = ['Возраст, лет', 'возраст', 1]\n",
        "    , total_income = ['Ежемесячный доход', 'ежемесячный доход', 1]\n",
        "     # category column\n",
        "    , education = ['Уровень образования', 'уровня образования']\n",
        "    , family_status = ['Семейное положение', 'семейного положения']\n",
        "    , gender = ['Пол', 'пола']\n",
        "    , income_type = ['Тип занятости', 'типа занятости']\n",
        "    , debt = ['Задолженность (1 - имеется, 0 - нет)', 'задолженности']\n",
        "    , purpose = ['Цель получения кредита', 'цели получения кредита']\n",
        "    , dob_cat = ['Возрастная категория, лет', 'возрастной категории']\n",
        "    , total_income_cat = ['Категория дохода', 'категории дохода']\n",
        ")"
      ]
    },
    {
      "cell_type": "code",
      "execution_count": null,
      "metadata": {
        "id": "DyTcC1YVrRWt"
      },
      "outputs": [],
      "source": [
        "summory = []\n",
        "columns = []"
      ]
    },
    {
      "cell_type": "code",
      "execution_count": null,
      "metadata": {
        "id": "3SGqWIIerRWu"
      },
      "outputs": [],
      "source": [
        "gen = pagri_data_tools.graph_analysis_gen(df)"
      ]
    },
    {
      "cell_type": "markdown",
      "metadata": {
        "id": "REGNoPijrRWv"
      },
      "source": [
        ">Сначала запускаем код через 1 ячейку `columns = next(gen)`,  \n",
        ">чтобы появлися график и в `colunns` появились текущие названия колонок  \n",
        ">Далее пишем наблюдения, если хотим сохранить график и выполняем ячейку ниже.  \n",
        ">Если сохранять не хотим, то просто выполняем дальше `columns = next(gen)`  "
      ]
    },
    {
      "cell_type": "code",
      "execution_count": null,
      "metadata": {
        "id": "xFgxOzfGrRWw"
      },
      "outputs": [],
      "source": [
        "summory.append(dict(\n",
        "    columns = columns\n",
        "    , observations =\n",
        "'''\n",
        "**Наблюдения:**\n",
        "- 21\n",
        "- Размер больше\n",
        "- 1\n",
        "- Сильнее других\n",
        "-\n",
        "'''))"
      ]
    },
    {
      "cell_type": "code",
      "execution_count": null,
      "metadata": {
        "id": "7ncjoOEVrRWx"
      },
      "outputs": [],
      "source": [
        "columns = next(gen)"
      ]
    },
    {
      "cell_type": "markdown",
      "metadata": {
        "id": "V7biJxcCrRWz"
      },
      "source": [
        ">В `summory` находятся названия колонок и наблюдения для графиков, которые стоит построить"
      ]
    },
    {
      "cell_type": "markdown",
      "metadata": {
        "id": "Og3AZtsirRWz"
      },
      "source": [
        ">ВАЖНО  \n",
        ">После построеня всех графиков и коппирования комментариев из summory  \n",
        ">Мы в предваретельном выводе после раздела графиков вставляем выводы из summory  \n",
        ">Чтобы их не собирать  вручную у каждого графика"
      ]
    },
    {
      "cell_type": "code",
      "execution_count": null,
      "metadata": {
        "id": "abgDg8EvrRW1"
      },
      "outputs": [],
      "source": [
        "def gen_temp():\n",
        "    for item in summory:\n",
        "        colunns = item['columns']\n",
        "        observations = item['observations']\n",
        "        print(observations)\n",
        "        yield colunns"
      ]
    },
    {
      "cell_type": "code",
      "execution_count": null,
      "metadata": {
        "id": "wp1UEM0zrRW2"
      },
      "outputs": [],
      "source": [
        "gen = gen_temp()"
      ]
    },
    {
      "cell_type": "code",
      "execution_count": null,
      "metadata": {
        "id": "PCKlNjH6rRW3",
        "outputId": "931b63d3-84a4-4193-a819-053cf34441ab"
      },
      "outputs": [
        {
          "name": "stdout",
          "output_type": "stream",
          "text": [
            "\n",
            "**Наблюдения:**  \n",
            "- 21\n",
            "- Размер больше\n",
            "- 1\n",
            "- Сильнее других\n",
            "- \n",
            "\n"
          ]
        }
      ],
      "source": [
        "colunns = next(gen)"
      ]
    },
    {
      "cell_type": "markdown",
      "metadata": {
        "id": "icWQxJ7urRW5"
      },
      "source": [
        ">Чтобы построить график без category- просто закоментируй  строку с category."
      ]
    },
    {
      "cell_type": "code",
      "execution_count": null,
      "metadata": {
        "id": "vxsvQTy2rRW6"
      },
      "outputs": [],
      "source": [
        "config = dict(df = df\n",
        "    , x = colunns[1]\n",
        "    , y = colunns[0]\n",
        "    , category = colunns[2]\n",
        "    # , width = 800\n",
        "    # , orientation = 'h'\n",
        ")\n",
        "pagri_data_tools.bar(config, titles_for_axis)"
      ]
    },
    {
      "cell_type": "markdown",
      "metadata": {
        "id": "JMEnXs7nrRW7"
      },
      "source": [
        "**Наблюдения:**\n",
        "-  У мужчин средний доход выше"
      ]
    },
    {
      "cell_type": "markdown",
      "metadata": {
        "id": "wrxiPxZgrRW8"
      },
      "source": [
        "**Наблюдения:**\n",
        "-  текст"
      ]
    },
    {
      "cell_type": "markdown",
      "metadata": {
        "id": "QZsaqIcKrRW8"
      },
      "source": [
        "### Промежуточный вывод"
      ]
    },
    {
      "cell_type": "markdown",
      "metadata": {
        "id": "I8uO7Ex8rRW9"
      },
      "source": [
        "## Формулирование и провера гипотез"
      ]
    },
    {
      "cell_type": "markdown",
      "metadata": {
        "id": "5Sy6zulkrRW-"
      },
      "source": [
        "### Формулирование гипотез"
      ]
    },
    {
      "cell_type": "markdown",
      "metadata": {
        "id": "WscMhNG5rRW_"
      },
      "source": [
        ">На основе проведенного анализа данных сформулирем следующие гипотезы:"
      ]
    },
    {
      "cell_type": "markdown",
      "metadata": {
        "id": "qN3FLBpErRXA"
      },
      "source": [
        ">Гипотеза 1: Нет зависимость между наличием детей и возвратом кредита в срок.  \n",
        ">Гипотеза 2: У мужчин средний доход выше  \n",
        ">Гипотеза 3: Цель получения кредита не зависит от среднего ежемесяченого доход  \n",
        ">Гипотеза 4: Средний доход по семейному статусу одинаковый, но у вдовцов отличается  \n",
        ">Гипотеза 5: У должников в среднем больше детей   \n",
        ">Гипотеза 6: У должников средний возраст ниже  \n",
        ">Гипотеза 7: Медианный доход у должников и не должников не  отличается  "
      ]
    },
    {
      "cell_type": "markdown",
      "metadata": {
        "id": "5xi738wWrRXB"
      },
      "source": [
        ">Не забываем что гипотезы можно проверять и между 2 категориальными переменными.  \n",
        ">Проверять есть ли между ними зависимости.  \n",
        ">Также если мы на графиках определили, что есть между 2 категориальными перменными связь,  то тут можем это проверить"
      ]
    },
    {
      "cell_type": "markdown",
      "metadata": {
        "id": "8z2eyVyYrRXC"
      },
      "source": [
        "### Проверка гипотез"
      ]
    },
    {
      "cell_type": "markdown",
      "metadata": {
        "id": "eyXxW9R-rRXD"
      },
      "source": [
        ">Проверим сформулированные гипотезы."
      ]
    },
    {
      "cell_type": "markdown",
      "metadata": {
        "id": "VU2oNNYDrRXE"
      },
      "source": [
        ">_hypothesis_ **Гипотеза 1: Название гипотезы**"
      ]
    },
    {
      "cell_type": "markdown",
      "metadata": {
        "id": "GknXuEMtrRXE"
      },
      "source": [
        ">H0: The two categorical variables are independent.    \n",
        ">H1: The two categorical variables are not independent (i.e., there is a significant association between them).    "
      ]
    },
    {
      "cell_type": "markdown",
      "metadata": {
        "id": "xZ9OgdF4rRXF"
      },
      "source": [
        ">Примеры гипотез\n",
        "- Есть ли зависимость между наличием детей и возвратом кредита в срок?"
      ]
    },
    {
      "cell_type": "markdown",
      "metadata": {
        "id": "texOpfUnrRXG"
      },
      "source": [
        ">Это будет часто возникать когда у нас категориальная целевая переменная и другие категориальные переменные.  \n",
        ">И мы хотим проверить влияют ли категориальные переменные на целевую.  \n",
        ">Например у нас есть поле наличие долга (есть или нет)  \n",
        ">Вот тут мы можем провести тесты со всеми каетгориями на наличие зависимости с наличием долга.  \n",
        ">В идеале мы на графиках должны найти гипотезы и тут их проверить.  \n",
        ">Но если у нас целевая переменная, то мы можем сравнить ее со всеми категориями"
      ]
    },
    {
      "cell_type": "code",
      "execution_count": null,
      "metadata": {
        "id": "_TSzFOvXrRXH"
      },
      "outputs": [],
      "source": [
        "pagri_data_tools.chi2_pearson()"
      ]
    },
    {
      "cell_type": "markdown",
      "metadata": {
        "id": "dduyuRwarRXI"
      },
      "source": [
        ">Формируем словарь для подписей осей и названия гистограм"
      ]
    },
    {
      "cell_type": "code",
      "execution_count": null,
      "metadata": {
        "id": "fy1w5SrArRXI"
      },
      "outputs": [],
      "source": [
        "titles_for_axis = dict(\n",
        "    # numeric column\n",
        "    children = ['Количество детей', 'количества детей']\n",
        "    , age = ['Возраст', 'возраста']\n",
        "    , total_income = ['Ежемесячный доход', 'ежемесячного дохода']\n",
        ")"
      ]
    },
    {
      "cell_type": "markdown",
      "metadata": {
        "id": "C97hB7dSrRXK"
      },
      "source": [
        ">Нулевая гипотеза должна быть направлена на отсутствие эффекта, а альтернативная гипотеза должна быть направлена на наличие эффекта."
      ]
    },
    {
      "cell_type": "markdown",
      "metadata": {
        "id": "O6YuDu-JrRXL"
      },
      "source": [
        ">Формулируем гипотезу через H0, H1"
      ]
    },
    {
      "cell_type": "markdown",
      "metadata": {
        "id": "5bJVOeKbrRXM"
      },
      "source": [
        ">H0: У мужчин средний доход не выше, чем у женщин  \n",
        ">H1: У мужчин средний доход выше, чем у женщин"
      ]
    },
    {
      "cell_type": "markdown",
      "metadata": {
        "id": "QhjxDS1FrRXN"
      },
      "source": [
        ">Смотрим распределение метрики"
      ]
    },
    {
      "cell_type": "code",
      "execution_count": null,
      "metadata": {
        "id": "Qv-CnzHqrRXN"
      },
      "outputs": [],
      "source": [
        "pagri_data_tools.histogram(df.total_income, titles_for_axis)"
      ]
    },
    {
      "cell_type": "markdown",
      "metadata": {
        "id": "85buucVMrRXO"
      },
      "source": [
        ">Делаем вывод о распределении.    \n",
        ">Выбираем критерий для проверки гипотезы.  \n",
        ">Определяем уровнь значимости."
      ]
    },
    {
      "cell_type": "markdown",
      "metadata": {
        "id": "afvL5rUVrRXP"
      },
      "source": [
        ">Проводим тест  \n",
        ">ВАЖНО  \n",
        ">df в ttest_ind_df и подобных можно испльзовать только для 2 стороннего случая  \n",
        ">Для одностороннего нужно придумать как определять какая группа первая по порядку пойдет в тест,  \n",
        ">в зависимости от постановки гипотезы, так как альтернатива опредляется исходя из порядка аргументов в функции теста"
      ]
    },
    {
      "cell_type": "markdown",
      "metadata": {
        "id": "QuRfU2H9rRXQ"
      },
      "source": [
        ">Если используем ттест или анову, то сначала проводим тест на проверку дисперсии"
      ]
    },
    {
      "cell_type": "markdown",
      "metadata": {
        "id": "m6yvTzDhrRXR"
      },
      "source": [
        ">H0: У должников и не должников дисперсия не отличается  \n",
        ">H1: У должников и не должников дисперсия отличается"
      ]
    },
    {
      "cell_type": "code",
      "execution_count": null,
      "metadata": {
        "id": "JKkKDQfxrRXS"
      },
      "outputs": [],
      "source": [
        "pagri_data_tools.levene_df\n",
        "pagri_data_tools.levene\n",
        "pagri_data_tools.bartlett_df\n",
        "pagri_data_tools.bartlett"
      ]
    },
    {
      "cell_type": "markdown",
      "metadata": {
        "id": "7K2G0OA7rRXU"
      },
      "source": [
        ">Выбираем критерий"
      ]
    },
    {
      "cell_type": "code",
      "execution_count": null,
      "metadata": {
        "id": "_pA0REavrRXV"
      },
      "outputs": [],
      "source": [
        "pagri_data_tools.chi2_pearson\n",
        "pagri_data_tools.ttest_ind_df\n",
        "pagri_data_tools.ttest_ind\n",
        "pagri_data_tools.mannwhitneyu_df\n",
        "pagri_data_tools.mannwhitneyu\n",
        "pagri_data_tools.proportion_ztest_1sample\n",
        "pagri_data_tools.proportions_ztest_2sample\n",
        "pagri_data_tools.proportions_ztest_column_2sample\n",
        "pagri_data_tools.proportions_chi2\n",
        "pagri_data_tools.proportions_chi2_column\n",
        "pagri_data_tools.anova_oneway_df\n",
        "pagri_data_tools.anova_oneway\n",
        "pagri_data_tools.tukey_hsd_df\n",
        "pagri_data_tools.anova_oneway_welch_df\n",
        "pagri_data_tools.kruskal_df\n",
        "pagri_data_tools.kruskal\n",
        "pagri_data_tools.bootstrap_diff_2sample # важно, сохраняем fig и в следующей ячейке делаем fig.shwo(), иначе на google colab работает некорректно"
      ]
    },
    {
      "cell_type": "markdown",
      "metadata": {
        "id": "BSkUAiForRXW"
      },
      "source": [
        ">Проводим тест"
      ]
    },
    {
      "cell_type": "markdown",
      "metadata": {
        "id": "sBn8aa2ErRXX"
      },
      "source": [
        ">Если отклоняем гипотезу, то строим доверитлеьный интервал"
      ]
    },
    {
      "cell_type": "code",
      "execution_count": null,
      "metadata": {
        "id": "zXwTlrPKrRXY"
      },
      "outputs": [],
      "source": [
        "pagri_data_tools.confint_t_2samples\n",
        "pagri_data_tools.confint_t_2samples_df\n",
        "pagri_data_tools.confint_proportion_ztest_2sample\n",
        "pagri_data_tools.confint_proportion_ztest_column_2sample\n",
        "pagri_data_tools.confint_proportion_2sample_statsmodels\n",
        "pagri_data_tools.confint_proportion_coluns_2sample_statsmodels"
      ]
    },
    {
      "cell_type": "code",
      "execution_count": null,
      "metadata": {
        "id": "nod4lXT0rRXZ"
      },
      "outputs": [],
      "source": [
        "titles_for_axis = dict(\n",
        "    # numeric column\n",
        "    children = ['Количество детей', 'количества детей']\n",
        "    , age = ['Возраст', 'возраста']\n",
        "    , total_income = ['Ежемесячный доход', 'ежемесячного дохода']\n",
        ")"
      ]
    },
    {
      "cell_type": "markdown",
      "metadata": {
        "id": "7OHwYdFIrRXa"
      },
      "source": [
        ">Проверим эти гипотезы  \n"
      ]
    },
    {
      "cell_type": "markdown",
      "metadata": {
        "id": "X82aIyOOrRXb"
      },
      "source": [
        "**Гипотеза 1: Нет зависимость между наличием детей и возвратом кредита в срок**"
      ]
    },
    {
      "cell_type": "markdown",
      "metadata": {
        "id": "0DcR1S2zrRXd"
      },
      "source": [
        ">H0: Наличие детей не влияет на возврат кредита в срок.  \n",
        ">H1: Наличие детей влияет на возврат кредита в срок."
      ]
    },
    {
      "cell_type": "markdown",
      "metadata": {
        "id": "0UQjDuvdrRXe"
      },
      "source": [
        ">Так как у нас обе переменных категориальные, то воспользуемся критерием хи-квадрат Пирсона.  \n",
        ">Уровень значимости alpha выберем 0.05"
      ]
    },
    {
      "cell_type": "code",
      "execution_count": null,
      "metadata": {
        "id": "Y_EOyOoRrRXg",
        "outputId": "5b38741d-75fa-4cfb-b881-534f42f8f055"
      },
      "outputs": [
        {
          "name": "stdout",
          "output_type": "stream",
          "text": [
            "Хи-квадрат Пирсона\n",
            "alpha =  0.05\n",
            "p-value =  1.724356890544321e-05\n",
            "Отклоняем нулевую гипотезу, поскольку p-value меньше уровня значимости\n"
          ]
        }
      ],
      "source": [
        "pagri_data_tools.chi2_pearson(df.has_child, df.debt)"
      ]
    },
    {
      "cell_type": "markdown",
      "metadata": {
        "id": "WRfb3J6xrRXh"
      },
      "source": [
        "**Результат:**  \n",
        ">На уровне значимости 0.05 гипотеза, что наличие детей не влияет на возврат кредита в срок не подтвердилась."
      ]
    },
    {
      "cell_type": "markdown",
      "metadata": {
        "id": "NWR-l7cXrRXi"
      },
      "source": [
        ">Сделать опцию в бутстреп функции, чтобы строился только доверительный интервал"
      ]
    },
    {
      "cell_type": "markdown",
      "metadata": {
        "id": "X0pMqlSlrRXj"
      },
      "source": [
        ">Также сделать функцию для доверилеьных интервалов для мана уитни через   \n",
        ">the Hodges-Lehmann estimation, which provides a point estimate and a confidence interval for the difference in medians."
      ]
    },
    {
      "cell_type": "code",
      "execution_count": null,
      "metadata": {
        "id": "PZknGO7PrRXk"
      },
      "outputs": [],
      "source": [
        "import pingouin as pg\n",
        "\n",
        "# Perform the Mann-Whitney U test and calculate the confidence interval\n",
        "mw_test = pg.mwu(x, y, tail='two-sided', confidence=0.95)\n",
        "\n",
        "# Print the results\n",
        "print(mw_test)"
      ]
    },
    {
      "cell_type": "code",
      "execution_count": null,
      "metadata": {
        "id": "xEWM4ciarRXk"
      },
      "outputs": [],
      "source": [
        "import numpy as np\n",
        "from scipy import stats\n",
        "\n",
        "# Perform the Mann-Whitney U test\n",
        "u_stat, p_value = stats.mannwhitneyu(x, y, alternative='two-sided')\n",
        "\n",
        "# Calculate the Hodges-Lehmann estimation\n",
        "hl_est = np.median(np.array([x_i - y_j for x_i in x for y_j in y]))\n",
        "\n",
        "# Calculate the confidence interval\n",
        "ci = stats.t.interval(0.95, len(x) + len(y) - 2, loc=hl_est, scale=stats.sem(np.array([x_i - y_j for x_i in x for y_j in y])))\n",
        "\n",
        "# Print the results\n",
        "print('Hodges-Lehmann estimation:', hl_est)\n",
        "print('Confidence interval:', ci)"
      ]
    },
    {
      "cell_type": "markdown",
      "metadata": {
        "id": "RDvZCKw7rRXl"
      },
      "source": [
        ">Подход следуюищй - мы до раздела проверка гипотез, когда изучаем данные (разделы пропусков, выбросов, дубликатов, зависиместей между перменными и графики),  \n",
        ">то мы делаем выводы и формируем наблюдеия.  \n",
        ">Вот эти наблюдения и выводы нужно проверить в проверке гипотез.  \n",
        ">И потом в основном выводе уже писать не просто, что у нас мужчин больше чем женьшин, а писать, что на уровен значисомти таком то у нас мужчина больше чем  \n",
        ">женщин с таким то доверительным интервалом.  \n",
        ">Таким образом выводы по вомзожности должны проходить через этап проверки гипотез, тогда эти выводы становятся более существенными.  "
      ]
    },
    {
      "cell_type": "markdown",
      "metadata": {
        "id": "jaKAk-NurRXn"
      },
      "source": [
        "- Гипотезы появляются, когда мы задаем вопросы данным. Мы изучили данные, преобработали и теперь начинаем задавать вопросы.  \n",
        "- Выдвигаем гипотезу (заметили что-то необычное и хотим проверить), далее формулируем ее и далее проверяем.  \n",
        "- Не забываем формулировать гипотезы словами. Пишем что является гипотезой H0, а что гипотезой H1  \n",
        "- Формулируем все гипотезы, которые хотим проверить. Если будет 100 гипотез, то все 100 нужно сформулировать и потом проверить и сделать вывод.  \n",
        "- Гипотезы могут быть и простыми вопросами без гипотез H0 и H1, такие гипотезы мы проверяем графиками или анализируя таблицу.  \n",
        "- Восновном, когда мы собиаремся применить стат аппарат для проверки гипотезы, то мы должны записать ее через H0 и H1.  "
      ]
    },
    {
      "cell_type": "markdown",
      "metadata": {
        "id": "mF0Tq5iorRXo"
      },
      "source": [
        ">Алгоритм проверки статистических гипотез\n",
        ">\n",
        "- постановка задачи\n",
        ">    - Сформулировать, что мы хотим узнать о выборках с точки зрения бизнес задачи (равны ли средние доходы в группах)\n",
        ">    - перевод бизнес-вопроса на язык статистики: средний доход в группах - проверка равенства средних значений\n",
        "- формулировка гипотез\n",
        ">    - формулировка нулевой гипотезы - с т.зр. равенства стат прараметров оцениваемых выборок   \n",
        ">    (Н0: Средние траты клиентов по группе А равны средним тратам клинентов по группе В)\n",
        ">    - формулировка альтернативной гипотезы - с точки зрения неравенства параметров  \n",
        ">    (Н1: Средние траты клиентов по группе А не равны средним тратам клинентов по группе В)\n",
        "- выбор критерия alpha (почему 0.05 или 0.01)\n",
        ">    - цена ошибки первого рода (при большой цене ошибки - в мед исследованиях, потенциальном ущербе ) - значение может быть больше, например 0.1\n",
        ">    - в ежедневных бизнес задачах, обычно - 0.05\n",
        "- анализ распределения\n",
        ">    - визуальная оценка\n",
        ">    - следим за выбросами\n",
        ">    - проверка гипотез о типе распредеделения (например критерий Шапиро-Уилка)\n",
        ">    - если распределение не нормальное и размер выборки достаточный (больше 30-50 элементов)  \n",
        ">    может быть использован t-test именно для проверки гипотезы о равенстве средних.  \n",
        ">    Согласно ЦПТ (центральная предельная теорема) средние этих выборок будут распределены нормально. См. статью Зотова\n",
        "- выбор критерия\n",
        ">    - при оценке равенства средних T-test или Welch T-test (если есть сомнения, то лучше Уэлча)\n",
        ">        - при рвенстве дисперсий используем обычный т тест\n",
        ">        - если дисперсии в выборках разные, то используем т теста Уэлча\n",
        "- получение результата\n",
        ">    - расчет p-value\n",
        "- интерпретация p-value\n",
        ">    - сравнение p-value и alpha\n",
        ">    - если альфа > p-value - отвергаем нулевую гипотезу\n",
        ">    - если альфа < p-value - не можем отвергнуть нулевую гипотезу"
      ]
    },
    {
      "cell_type": "markdown",
      "metadata": {
        "id": "UoXK9bsErRXp"
      },
      "source": [
        ">Какая у нас задача\n",
        "- Исследовать взаимосвязь между 2 переменными\n",
        ">    - обе переменные наминативные\n",
        ">        - Хи-квадрат Пирсона (не чувствителен к гетероскедастичности) (нормальность не обязательна)\n",
        ">    - обе переменные количественные\n",
        ">        - Коэффициент корреляции Пирсона (параметрика) (чувствителен к выбросам) (только непрерывные переменные)\n",
        ">        - Коэффициент корреляции Спирмена (чувствителен к выбросам) / Кендалла (менее чувствителен к выбросам) (непараметрика) (непрерывные переменные и порядковые категориальные переменные)  \n",
        ">    - одна переменная номинативная (принимает 2 занчения), вторая количественная\n",
        ">        - значения\n",
        ">            - Т-критерий Стьюдента (параметрика) (желательно нормальность) (чувствителен к выбросам) (чувствителен к гетероскедастичности)\n",
        ">                - если дисперсии равны (тест левена, барлета) и количество в группах равно (тест на равенство пропорций), то используем обычный т тест (эта формула более точно даст результат для этого случая)\n",
        ">                - если дисперсии не равны (тест левена, барлета) или количество в группах не равно (тест на равенство пропорций), то используем тест Уэлча (эта формула использует больше неопределенности и лучше подходит для этого случая)\n",
        ">            - U-критерий Манна-Уитни (непараметрика) (нормальность не обязательна) (не чувствителен к гетероскедастичности)\n",
        ">            Если тестируемая фича полностью сдвигает выборку на некий коэффициент theta или масштабирует выборку на некий параметр theta (theta > 0),  \n",
        ">            то критерий Манна-Уитни применим\n",
        ">        - доли\n",
        ">            - Z тест для долей (параметрика) (желательно нормальность) (чувствителен к выбросам) (чувствителен к гетероскедастичности)\n",
        ">            - Chi-square тест для долей (непараметрика) (нормальность не обязательна) (не чувствителен к гетероскедастичности)\n",
        "- Исследовать взаимосвязь между несколькими переменными\n",
        ">    - Дисперсионный анализ (параметрика) (дисперсии в группах должны быть примерно равны) (желательно нормальность) (чувствителен к выбросам) (чувствителен к гетероскедастичности)\n",
        ">    - Welch's ANOVA (устройчив к разной дисперсии в группах) (требует более больших размеров групп для точных результатов) (желательно нормальность) (чувствителен к выбросам) (не чувствителен к гетероскедастичности)\n",
        ">    - Критерий Краскела-Уоллиса (непараметрика) (нормальность не обязательна) (не чувствителен к гетероскедастичности)\n",
        ">    - Тест Тьюки (если anova или Краскела-Уоллиса нашил различия) (дисперсии в группах должны быть примерно равны) (параметрика) (желательно нормальность) (чувствителен к выбросам) (чувствителен к гетероскедастичности)\n",
        "- Проверить на равенство дисперсий в группах перед anova\n",
        ">    - Levene's test (не требует нормальность) (менее чувствительный)\n",
        ">    - Bartlett's test (требует нормальность) (более чувствительный)"
      ]
    },
    {
      "cell_type": "markdown",
      "metadata": {
        "id": "ear1oNyvrRXq"
      },
      "source": [
        ">Отличная статья про доверительные интервалы для разных статистик  \n",
        ">https://habr.com/ru/articles/807051/"
      ]
    },
    {
      "cell_type": "markdown",
      "metadata": {
        "id": "Eju4cQNtrRXr"
      },
      "source": [
        ">Bootstrapping"
      ]
    },
    {
      "cell_type": "markdown",
      "metadata": {
        "id": "elZyoqqtrRXt"
      },
      "source": [
        ">В бутстрепе, если мы хотим сравнить две выборки, то нельзя смотреть  \n",
        ">где находится исходная разница средних в бутстрапированной выборке  \n",
        ">Так как мы берем бутстреп из наших выборок и впролне реально.что наша разность  \n",
        ">будет близка к с реднему бутстропированной выборки  \n",
        ">Поэтому p value нужно определять по месту нуля в бутстропированной выборке"
      ]
    },
    {
      "cell_type": "markdown",
      "metadata": {
        "id": "hXuKniDLrRXv"
      },
      "source": [
        ">Посмотрим p value для 0 (если различий нет, то разница должна быть 0)\n",
        ">Для этого посчитаем cdf для + и - среднего, чтобы получить 2 значения cdf\n",
        ">а теперь возьмем минимум и умножим на 2, так как альт гипотеза у нас.что\n",
        ">просто не равно 0, значит и справа и слева"
      ]
    },
    {
      "cell_type": "code",
      "execution_count": null,
      "metadata": {
        "id": "Ih2pQOKorRXx"
      },
      "outputs": [],
      "source": []
    },
    {
      "cell_type": "code",
      "execution_count": null,
      "metadata": {
        "id": "D-GsmYRmrRXy"
      },
      "outputs": [],
      "source": [
        "Estimating the power of a non-parametric test using bootstrapping involves simulating the testing process multiple times to estimate the probability of rejecting the null hypothesis. Here's a general outline of the steps:\n",
        "\n",
        "**Specify the null and alternative hypotheses **: Define the null and alternative hypotheses for your test. For example, the null hypothesis might be that the two groups have the same distribution, and the alternative hypothesis might be that the two groups have different distributions.\n",
        "\n",
        "Generate simulated data: Generate simulated data that reflects the null hypothesis. For example, you could generate two groups of random data from the same distribution.\n",
        "\n",
        "Perform the Mann-Whitney U test: Perform the Mann-Whitney U test on the simulated data to obtain a p-value.\n",
        "\n",
        "Repeat steps 2-3 many times: Repeat steps 2-3 many times (e.g., 1000 times) to generate a distribution of p-values under the null hypothesis.\n",
        "\n",
        "Estimate the power: Estimate the power of the test by calculating the proportion of times the p-value is below a certain significance level (e.g., 0.05) when the alternative hypothesis is true. To do this, you'll need to generate simulated data that reflects the alternative hypothesis and repeat steps 2-4."
      ]
    },
    {
      "cell_type": "markdown",
      "metadata": {
        "id": "n4R_n4iprRXz"
      },
      "source": [
        "### Промежуточный вывод"
      ]
    },
    {
      "cell_type": "markdown",
      "metadata": {
        "id": "r9P9N3IDrRX0"
      },
      "source": [
        "## Общий вывод"
      ]
    },
    {
      "cell_type": "markdown",
      "metadata": {
        "id": "bmpuP5d_rRX3"
      },
      "source": [
        "**Выводы:**"
      ]
    },
    {
      "cell_type": "markdown",
      "metadata": {
        "id": "7RLsSTVirRX4"
      },
      "source": [
        "- Долги есть у людей с разным доходом.\n",
        "- У должников в среднем больше детей.\n",
        "- У должников среднее количество детей больше у женщин, а у не должников срднее количество детей больше у мужчин\n",
        "- У должников средний возраст немного ниже для всех категорий семейного положения.\n",
        "- Медианный доход у должников и не должников практически не отличается\n",
        "- Должники имеют ниже средний возраст как мужчины так и женщины. Ситуация сохраняется во всех группах дохода.\n",
        "- Цель получения кредита практически не зависит от среднего ежемесяченого дохода.\n",
        "- 92 % клиентов не имеют долга.\n",
        "- Люди от 30 до 50 лет имеют самый высокий средний доход.\n",
        "- Больше всего кредит берут на цели, связанные с недвижимостью, кроме людей в гражданском браке\n",
        "- Люди в гражданском браке чаще берут кредит на свадьбу\n",
        "- Женщины чаще возвращают кредит.\n",
        "- Анализ значимости признаков для модели случайного леса показал, что доход является самым значимым признаком для предсказания задолженности.\n",
        "- 58 % клиентов либо женаты, либо замужем. 19 % в гражданском браке. Можно сделать вывод что большинство в браке.  \n",
        "- Большинство клиентов женщины (66 процентов).\n",
        "- Только 5 процентов клиентов моложе 25 лет. Основная часть клиентов старше 30 лет.\n",
        "- Чем меньше количество детей, тем больше значений с высоким доходом.\n",
        "- Болшая часть женатых имеет доход 100-200 тыс\n",
        "- На всех уровнях образоания, кроме ученой степени, доход у мужчин выше.\n",
        "- У мужчин, которые в браке или были в браке, количество детей больше, чем у женщин в той же категории."
      ]
    },
    {
      "cell_type": "markdown",
      "metadata": {
        "id": "MeADEbPOrRX5"
      },
      "source": [
        "**Аномалии и особенности в данных:**\n",
        "- В датафрейме есть строки дубликаты. 54 строки. Меньше 1 % от всего датафрейма.  \n",
        "- В столбце с количеством детей есть отрицательные значения. 47 штук. Меньше 1 процента от всего датафрейма. Также есть клиенты с 20 детьми.\n",
        "- Колонока общий трудовой стаж содержит 74 % отрицаетльных значений. А также максимальное количество дней стажа больше 400 тысяч дней, это больше 1000 лет.\n",
        "- В колонке возраста 101 нулевое значени.\n",
        "- Колонка дохода имеет слишком много знаков после запятой.\n",
        "- В колонке с образованием присутствуют одни и те же знчения с разными регистрами. При этом в колонке с id образования все впрорядке.   "
      ]
    },
    {
      "cell_type": "markdown",
      "metadata": {
        "id": "aX3fyCp9rRX6"
      },
      "source": [
        "**Результаты предобработки данных:**\n",
        "- Удалили колонки с id образования и семейного статуса, так как нам для графиков лучше подойдут названия, а не id.\n",
        "- Колонка со стажем имеет совершенно некорректные данные. Чтобы не внести искажение в анализ, удалим эту колонку."
      ]
    },
    {
      "cell_type": "markdown",
      "metadata": {
        "id": "0pnmiAswrRX8"
      },
      "source": [
        "**Результаты проверки гипотез:**  \n",
        "- Гипотеза 1: У мужчин средний доход выше, чем у женщин  \n",
        "> **Результат:** На уровне значимости 0.05 гипотеза подтвердилась.\n",
        "- Гипотеза 2: Цель получения кредита практически не зависит от среднего ежемесячного дохода  \n",
        "> **Результат:** На уровне значимости 0.05 у нас нет оснований отвергнуть гипотезу.\n",
        "- Гипотеза 3: Средний доход по семейному статусу примерно одинаковый, но у вдовцов отличается  \n",
        "> **Результат:** На уровне значимости 0.05 гипотеза подтвердилась.\n",
        "- Гипотеза 4: У должников в среднем больше детей  \n",
        "> **Результат:** На уровне значимости 0.05 гипотеза подтвердилась.   \n",
        "- Гипотеза 5: У должников средний возраст ниже  \n",
        "> **Результат:** На уровне значимости 0.05 гипотеза подтвердилась. 95% доверительный интервал для разницы средних возрастов для должников и не должников равен (-inf, -2.74).  \n",
        "- Гипотеза 6: Медианный доход у должников и не должников не отличается  \n",
        "> **Результат:** На уровне значимости 0.05 нет оснований отвергнуть гипотезу. 95% доверительный интервал разницы между медианным доходом должников и не должников равен (-2648.05, 179.34).  \n",
        "- Гипотеза 7: Наличие детей не влияет на возврат кредита в срок  \n",
        "> **Результат:** На уровне значимости 0.05 гипотеза не подтвердилась."
      ]
    },
    {
      "cell_type": "markdown",
      "metadata": {
        "id": "13tLv9HRrRX9"
      },
      "source": [
        "**Рекомендации:**\n",
        "- Добавить контроль данных, чтобы не дублировались значения с разными регистрами в колонке с образованием.\n",
        "- Добавить уникальный идентификатор клиента, чтобы избежать дублирования строк.\n",
        "- Добавить проверку на отрицательные значения и на слишком болшьшие значения в количестве детей при загрузке данных.\n",
        "- Выяснить откуда возникают отрицательные значения в трудовом стаже и добавить контроль ввода невалидных данных.\n",
        "- Выяснить причину нулевых значений в колонке возраста и добавить проверку на нулевые значения при загрузке данных.\n",
        "- Выяснить причину большого количества знаков после запятой в колонке дохода."
      ]
    },
    {
      "cell_type": "markdown",
      "metadata": {
        "id": "Pmj-ObRTrRX-"
      },
      "source": [
        ">Что нужно сообщить в выводе\n",
        "- информацию о том, что удалось подтвердить гипотезы (тут пишем только те, которые удалось подтвердить)\n",
        "- всю информацию о датасете, которые важны. Дубликаты, которые несут практическую пользу и рекомендации по ним, пропуски также с рекомендациями  \n",
        ">и остальные моменты по данным и рекомендации. Тут важно указывать именно найденные аномалии, которые имеют практическую пользу, которые нужно исправить и прочее.  \n",
        ">Пишем, что были найдены выбросы, они были связаны возможно с тем то и тем то.\n",
        "- и в конце обязательно call to action\n",
        ">написать что необходимо сделать с этими результатами"
      ]
    },
    {
      "cell_type": "markdown",
      "metadata": {
        "id": "WWPG6qpdrRX_"
      },
      "source": [
        ">Советы по оформлению общего выывод\n",
        "- не нужно вставлять таблицы и графики в вывод.\n",
        ">В выводе пишем словами самое важное и практически полезное, что мы получили, причем в порядке убывания важности.  \n",
        ">И когда мы пишем, что увидели то-то, то приводим гиперссылку на график или результат ячейки, где это получено.  \n",
        ">Так будет компактный вывод и при необходимости человек сможет быстро перейти и посмотреть график или таблицу  "
      ]
    },
    {
      "cell_type": "markdown",
      "metadata": {
        "id": "qAw7KEN2rRYC"
      },
      "source": [
        "**Удалось подтвердить гипотезу** о влиянии различных характеристик клиента на факт погашения кредита в срок. Каждый из рассмотренных параметров оказывает влияние на надёжность заёмщика. Рассмотренные факторы по-разному влияют на надёжность заёмщиков. Например, семейное положение оказалось более значимым фактором, чем уровень дохода.\n"
      ]
    },
    {
      "cell_type": "markdown",
      "metadata": {
        "id": "ruled-penny"
      },
      "source": [
        "- В ходе анализа исходного набора данных было проведено (были устранены пропуски в двух колонках с числовыми значениями - 'total_income' и 'days_employed').  \n",
        "- После __устранения явных и скрытых дупликатов__ и удаления оставшихся после обогащения пропусков объем датасета сократился на 0.05%\n",
        "- Были устранены __выбросы__ в колонках 'days_employed' и 'children': в первом случае выбросы возникли в результате системной ошибки (данные были внесены в часах, а не в днях); во втором случае ошибка, вероятнее всего была допущена людьми, вносившими данные в систему\n",
        "- ..."
      ]
    },
    {
      "cell_type": "markdown",
      "metadata": {
        "id": "alleged-strand"
      },
      "source": [
        "**Необходимо**"
      ]
    },
    {
      "cell_type": "markdown",
      "metadata": {
        "id": "critical-worker"
      },
      "source": [
        ">1. Запросить в отделе по работе с клиентами информацию о возможности брать кредит без подтверждения дохода.\n",
        ">\n",
        ">2. Сообщить коллегам, занимающимся выгрузкой о наличие дубликатов, если вопрос не разрешится, запросить индентификационный номер клиента к датасету.\n",
        ">\n",
        ">3. Прописать в задаче на поставку данных формат данных (пол только F и M, положительные значения). Приложить информацию о найденных аномалиях."
      ]
    },
    {
      "cell_type": "code",
      "execution_count": null,
      "metadata": {
        "id": "io4IDHAJrRYG"
      },
      "outputs": [],
      "source": []
    },
    {
      "cell_type": "markdown",
      "metadata": {
        "id": "Er7EiuWYrRYG"
      },
      "source": [
        "**Сначала проверяем орфографические ошибки**"
      ]
    },
    {
      "cell_type": "code",
      "execution_count": null,
      "metadata": {
        "id": "_pW5GiprrRYH"
      },
      "outputs": [],
      "source": [
        "pagri_data_tools.correct_notebook_text()"
      ]
    },
    {
      "cell_type": "markdown",
      "metadata": {
        "id": "rCrdX7U5rRYI"
      },
      "source": [
        "**Затем создаем номера у глав и оглавление**"
      ]
    },
    {
      "cell_type": "markdown",
      "metadata": {
        "id": "RM6jELrjrRYJ"
      },
      "source": [
        ">Чтобы добавить номера глав и ссылки для оглавления и сделать оглавлнеие  \n",
        ">оглавление добавиться в начало ноутбука"
      ]
    },
    {
      "cell_type": "markdown",
      "metadata": {
        "id": "EG1gPMlerRYK"
      },
      "source": [
        ">Сначала можно в режиме `draft` сделать пробный варант, проверить и потом уже запустить в режиме `final`"
      ]
    },
    {
      "cell_type": "code",
      "execution_count": null,
      "metadata": {
        "id": "WRtUnZFcrRYL"
      },
      "outputs": [],
      "source": [
        "pagri_data_tools.make_headers_link_and_toc()"
      ]
    },
    {
      "cell_type": "markdown",
      "metadata": {
        "id": "mdRLzR2qrRYN"
      },
      "source": [
        "**Далее создаем ссыки на выводы и аномалии**"
      ]
    },
    {
      "cell_type": "markdown",
      "metadata": {
        "id": "K3DLmJLfrRYO"
      },
      "source": [
        ">Чтобы было удобно искать где вставить якорь для ссылки, названия выводов и аномалий должно точно совпадать   \n",
        ">в итоговом списке аномалий и выводов и в тех местах (то есть в наблюдениях под ячейками), куда мы будем помещать ссылки"
      ]
    },
    {
      "cell_type": "markdown",
      "metadata": {
        "id": "tMDpLns0rRYR"
      },
      "source": [
        ">Чтобы сделать ссылки на выводы и аномалии, нужно  \n",
        ">в тех местах, куда хотим переходить по ссылке вставить текст выводов или аномалий (берем прямо из основных выводов)  \n",
        ">выводы должны начинаться с `_conclusion_`  \n",
        ">аномалии  должны начинаться с `_anomaly_`  \n",
        ">Примеры:  \n",
        ">    "
      ]
    },
    {
      "cell_type": "code",
      "execution_count": null,
      "metadata": {
        "id": "V-mursy7rRYS"
      },
      "outputs": [],
      "source": [
        "_anomalies_ В столбце с количеством детей есть отрицательные значения. 47 штук."
      ]
    },
    {
      "cell_type": "markdown",
      "metadata": {
        "id": "83VYwFe0rRYT"
      },
      "source": [
        ">Можно в одной ячейке и выводы и аномалии, с обеих ссылок будет переходить сюда, но назад будет возвращаться только в одно место,    \n",
        ">в то, которое было первым в ячейке"
      ]
    },
    {
      "cell_type": "code",
      "execution_count": null,
      "metadata": {
        "id": "W6wIplrhrRYT"
      },
      "outputs": [],
      "source": [
        "_conclusion_ Только 5 процентов клиентов моложе 25 лет. Основная часть клиентов старше 30 лет.\n",
        "_anomalies_ В колонке возраста 101 нулевое значени."
      ]
    },
    {
      "cell_type": "markdown",
      "metadata": {
        "id": "9xYuxh5CrRYU"
      },
      "source": [
        ">Содеражние выводов и аномалий появится в начале ноутбука  \n",
        ">также 2 режима `draft` и `final`"
      ]
    },
    {
      "cell_type": "markdown",
      "metadata": {
        "id": "J0Zbbz6trRYW"
      },
      "source": [
        ">Подумать как сделать удобнее создание выводов  \n",
        ">Пока лучше сначала взять выводы из наблюдений и выбрать из них  наиболее важные и интересные, не меняя их.  \n",
        ">Далее берем этот список и поиском находим ячейку с этим выводом и перед графиком помещаем  \n",
        ">_conclusion_ и сам вывод  "
      ]
    },
    {
      "cell_type": "code",
      "execution_count": null,
      "metadata": {
        "id": "ItV52I6mrRYW"
      },
      "outputs": [],
      "source": []
    },
    {
      "cell_type": "markdown",
      "metadata": {
        "id": "LWSV7JF-rRYX"
      },
      "source": [
        ">Чтобы был нужный порядок в списке выводов и аномалий в начале отчета, нужно передвать словарь со списками выводов и аномалий.  \n",
        ">Переменная order принимает словарь, где ключи `onclusions` и `anomalies`, а значения это соответствующие списки  "
      ]
    },
    {
      "cell_type": "markdown",
      "metadata": {
        "id": "mT3LIclPrRYY"
      },
      "source": [
        ">Примеры списков"
      ]
    },
    {
      "cell_type": "code",
      "execution_count": null,
      "metadata": {
        "id": "1Ews3qfcrRYZ"
      },
      "outputs": [],
      "source": [
        "order = dict(\n",
        "            conclusions =[ 'Женщины чаще возвращают кредит, чем мужчины.']\n",
        "            , anomalies = ['В датафрейме есть строки дубликаты. 54 строки. Меньше 1 % от всего датафрейма.  ']\n",
        ")"
      ]
    },
    {
      "cell_type": "code",
      "execution_count": null,
      "metadata": {
        "id": "HQanlkhNrRYa"
      },
      "outputs": [],
      "source": [
        "pagri_data_tools.add_conclusions_and_anomalies()"
      ]
    },
    {
      "cell_type": "markdown",
      "metadata": {
        "id": "nXcpETvwrRYb"
      },
      "source": [
        "**Если сильно нужно, создаем ссыки на гипотезы**"
      ]
    },
    {
      "cell_type": "markdown",
      "metadata": {
        "id": "TPCep4jrrRYb"
      },
      "source": [
        ">В главе гипотез для каждой гипоетзы, куда будем переходить из оглавления, в начале перед гипотезой ставим _hypothesis_ и пробел"
      ]
    },
    {
      "cell_type": "code",
      "execution_count": null,
      "metadata": {
        "id": "EDPR_o9prRYe"
      },
      "outputs": [],
      "source": [
        "_hypothesis_ **Гипотеза 1: Название гипотезы**"
      ]
    },
    {
      "cell_type": "markdown",
      "metadata": {
        "id": "HnjOZbIXrRYj"
      },
      "source": [
        ">Выполняем следующую функцию и в начале отчета появится список гипотез с ссылками  \n",
        ">Далее нужно добавить результат гипотез вручную"
      ]
    },
    {
      "cell_type": "code",
      "execution_count": null,
      "metadata": {
        "id": "GBNMSqhNrRYm"
      },
      "outputs": [],
      "source": [
        "pagri_data_tools.add_hypotheses_links_and_toc()"
      ]
    },
    {
      "cell_type": "markdown",
      "metadata": {
        "id": "4-27OHTarRYo"
      },
      "source": [
        "**Финальное размещение ноутбука на git hub с ссылкой на google colab**  "
      ]
    },
    {
      "cell_type": "markdown",
      "metadata": {
        "id": "cR-da__XrRYq"
      },
      "source": [
        ">Комитим на гит хаб финальную версию ноутбука.  \n",
        ">Создаем на гит хаб readme файл проекта, в котором в начале идет ссылка на google colab  \n",
        ">Далее ее открываем и переходим на google colab  \n",
        ">Выполняем все ячейки, смотрим все ли правильно отобразилось.  \n",
        ">Далее в меню File выбираем сохранить копию на гит хаб.  \n",
        ">Не меняем имя, тогда все содержимое ноутбука сохраниться на гит хаб.  "
      ]
    }
  ],
  "metadata": {
    "kernelspec": {
      "display_name": "pagri_conda",
      "language": "python",
      "name": "python3"
    },
    "language_info": {
      "codemirror_mode": {
        "name": "ipython",
        "version": 3
      },
      "file_extension": ".py",
      "mimetype": "text/x-python",
      "name": "python",
      "nbconvert_exporter": "python",
      "pygments_lexer": "ipython3",
      "version": "3.12.7"
    },
    "colab": {
      "provenance": []
    }
  },
  "nbformat": 4,
  "nbformat_minor": 0
}