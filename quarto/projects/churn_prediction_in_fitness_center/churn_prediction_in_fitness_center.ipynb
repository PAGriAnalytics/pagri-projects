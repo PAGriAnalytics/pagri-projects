{
 "cells": [
  {
   "cell_type": "raw",
   "metadata": {
    "vscode": {
     "languageId": "raw"
    }
   },
   "source": [
    "---\n",
    "description_for_list: \"Сеть фитнес-центров анализирует данные для снижения оттока клиентов. Необходимо прогнозировать отток, сегментировать клиентов, выявить ключевые факторы, влияющие на отток.\"\n",
    "\n",
    "format:\n",
    "  html:\n",
    "    code-fold: true\n",
    "    code-summary: \"Show the code\"\n",
    "    fontsize: 16px\n",
    "    smooth-scroll: true\n",
    "    toc: true\n",
    "    toc-location: left\n",
    "    toc-title: Оглавление\n",
    "    grid:\n",
    "      body-width: 1100px\n",
    "---"
   ]
  },
  {
   "cell_type": "markdown",
   "metadata": {},
   "source": [
    "# Прогнозирование оттока клиентов сети фитнес-центров"
   ]
  },
  {
   "cell_type": "markdown",
   "metadata": {},
   "source": [
    "**Автор:**  \n",
    "\n",
    "Григорьев Павел\n"
   ]
  },
  {
   "cell_type": "markdown",
   "metadata": {},
   "source": [
    "**Описание проекта:**   \n",
    "\n",
    "Сеть фитнес-центров разрабатывает стратегию взаимодействия с клиентами на основе аналитических данных. Распространённая проблема фитнес-клубов и других сервисов - отток клиентов. Чтобы бороться с оттоком, отдел по работе с клиентами перевёл в электронный вид множество клиентских анкет. Необходимо провести анализ и подготовить план действий по удержанию клиентов.   \n",
    "А именно:\n",
    "- научиться прогнозировать вероятность оттока (на уровне следующего месяца) для каждого клиента;\n",
    "- сформировать типичные портреты клиентов: выделить несколько наиболее ярких групп и охарактеризовать их основные свойства;\n",
    "- проанализировать основные признаки, наиболее сильно влияющие на отток;"
   ]
  },
  {
   "cell_type": "markdown",
   "metadata": {},
   "source": [
    "**Цель:**  \n",
    "\n",
    "Разработать стратегию удержания клиентов сети фитнес-центров на основе анализа данных, включая прогнозирование вероятности оттока, сегментацию клиентов и выявление ключевых факторов, влияющих на отток."
   ]
  },
  {
   "cell_type": "markdown",
   "metadata": {},
   "source": [
    "**Источники данных:**  \n",
    "\n",
    "Данные предоставленны фитнес-центром. "
   ]
  },
  {
   "cell_type": "markdown",
   "metadata": {},
   "source": [
    "**Условия проведения анализа данных:**  \n"
   ]
  },
  {
   "cell_type": "markdown",
   "metadata": {},
   "source": [
    "**Главные выводы:**  \n",
    "тут помещаем самое главное из общего вывода, примерно до полустраницы, чтобы не было сильно много и при этом указать все главные выводы\n",
    "Будет идеально, елси выводы на похожие темы будут рядом, то есть елси мы имеем несколько выводов о доходе, то лушче поместить их рядом\n",
    "\n",
    "- Женщины чаще возвращают кредит, чем мужчины.\n",
    "- Долги присутствуют у людей с разным доходом.\n"
   ]
  },
  {
   "cell_type": "markdown",
   "metadata": {},
   "source": [
    "**Рекомендации:**\n",
    "\n",
    "- Добавить контроль данных, чтобы не дублировались значения с разными регистрами в колонке с образованием.\n",
    "- Добавить уникальный идентификатор клиента, чтобы избежать дублирования строк.\n"
   ]
  },
  {
   "cell_type": "markdown",
   "metadata": {},
   "source": [
    "## Загрузка библиотек <skip>"
   ]
  },
  {
   "cell_type": "code",
   "execution_count": 1,
   "metadata": {},
   "outputs": [],
   "source": [
    "%load_ext autoreload\n",
    "%autoreload 2\n",
    "import pandas as pd\n",
    "import numpy as np\n",
    "import plotly.express as px\n",
    "import pagri_data_tools  # type: ignore\n",
    "pd.set_option('display.max_columns', None)\n",
    "pd.options.display.float_format = '{:,.2f}'.format"
   ]
  },
  {
   "cell_type": "markdown",
   "metadata": {},
   "source": [
    "## Описание и изучение данных\n"
   ]
  },
  {
   "cell_type": "markdown",
   "metadata": {},
   "source": [
    "### Описание данных\n"
   ]
  },
  {
   "cell_type": "markdown",
   "metadata": {},
   "source": [
    "Данные клиента за предыдущий до проверки факта оттока месяц:\n",
    "- gender - пол;\n",
    "- Near_Location - проживание или работа в районе, где находится фитнес-центр;\n",
    "- Partner - сотрудник компании-партнёра клуба (сотрудничество с компаниями, чьи сотрудники могут получать скидки на абонемент - в таком случае фитнес-центр хранит информацию о работодателе клиента);\n",
    "- Promo_friends- факт первоначальной записи в рамках акции «приведи друга» (использовал промо-код от знакомого при оплате первого абонемента);\n",
    "- Phone - наличие контактного телефона;\n",
    "- Age - возраст;\n",
    "- Lifetime - время с момента первого обращения в фитнес-центр (в месяцах).\n",
    "- Churn - факт оттока в текущем месяце;\n",
    "\n",
    "Информация на основе журнала посещений, покупок и информация о текущем статусе абонемента клиента:\n",
    "- Contract_period - длительность текущего действующего абонемента (месяц, 3 месяца, 6 месяцев, год);\n",
    "- Month_to_end_contract - срок до окончания текущего действующего абонемента (в месяцах);\n",
    "- Group_visits - факт посещения групповых занятий;\n",
    "- Avg_class_frequency_total - средняя частота посещений в неделю за все время с начала действия абонемента;\n",
    "- Avg_class_frequency_current_month - средняя частота посещений в неделю за предыдущий месяц;\n",
    "- Avg_additional_charges_total - суммарная выручка от других услуг фитнес-центра: кафе, спорт-товары, косметический и массажный салон."
   ]
  },
  {
   "cell_type": "markdown",
   "metadata": {},
   "source": [
    "### Изучение данных\n"
   ]
  },
  {
   "cell_type": "markdown",
   "metadata": {},
   "source": [
    "#### Изучение переменных\n"
   ]
  },
  {
   "cell_type": "markdown",
   "metadata": {},
   "source": [
    "Загружаем данные и задаем типы данных для столбцов, где это возможно."
   ]
  },
  {
   "cell_type": "markdown",
   "metadata": {},
   "source": [
    "Сразу приведем все названия колонок к нижнему регистру."
   ]
  },
  {
   "cell_type": "code",
   "execution_count": 2,
   "metadata": {},
   "outputs": [
    {
     "data": {
      "text/html": [
       "<div>\n",
       "<style scoped>\n",
       "    .dataframe tbody tr th:only-of-type {\n",
       "        vertical-align: middle;\n",
       "    }\n",
       "\n",
       "    .dataframe tbody tr th {\n",
       "        vertical-align: top;\n",
       "    }\n",
       "\n",
       "    .dataframe thead th {\n",
       "        text-align: right;\n",
       "    }\n",
       "</style>\n",
       "<table border=\"1\" class=\"dataframe\">\n",
       "  <thead>\n",
       "    <tr style=\"text-align: right;\">\n",
       "      <th></th>\n",
       "      <th>gender</th>\n",
       "      <th>near_location</th>\n",
       "      <th>partner</th>\n",
       "      <th>promo_friends</th>\n",
       "      <th>phone</th>\n",
       "      <th>contract_period</th>\n",
       "      <th>group_visits</th>\n",
       "      <th>age</th>\n",
       "      <th>avg_additional_charges_total</th>\n",
       "      <th>month_to_end_contract</th>\n",
       "      <th>lifetime</th>\n",
       "      <th>avg_class_frequency_total</th>\n",
       "      <th>avg_class_frequency_current_month</th>\n",
       "      <th>churn</th>\n",
       "    </tr>\n",
       "  </thead>\n",
       "  <tbody>\n",
       "    <tr>\n",
       "      <th>2060</th>\n",
       "      <td>1</td>\n",
       "      <td>1</td>\n",
       "      <td>0</td>\n",
       "      <td>0</td>\n",
       "      <td>1</td>\n",
       "      <td>1</td>\n",
       "      <td>1</td>\n",
       "      <td>32</td>\n",
       "      <td>250.28</td>\n",
       "      <td>1.00</td>\n",
       "      <td>5</td>\n",
       "      <td>2.81</td>\n",
       "      <td>2.61</td>\n",
       "      <td>0</td>\n",
       "    </tr>\n",
       "    <tr>\n",
       "      <th>933</th>\n",
       "      <td>1</td>\n",
       "      <td>1</td>\n",
       "      <td>0</td>\n",
       "      <td>1</td>\n",
       "      <td>1</td>\n",
       "      <td>12</td>\n",
       "      <td>1</td>\n",
       "      <td>28</td>\n",
       "      <td>215.85</td>\n",
       "      <td>12.00</td>\n",
       "      <td>3</td>\n",
       "      <td>0.00</td>\n",
       "      <td>0.00</td>\n",
       "      <td>0</td>\n",
       "    </tr>\n",
       "    <tr>\n",
       "      <th>378</th>\n",
       "      <td>1</td>\n",
       "      <td>1</td>\n",
       "      <td>1</td>\n",
       "      <td>1</td>\n",
       "      <td>1</td>\n",
       "      <td>12</td>\n",
       "      <td>0</td>\n",
       "      <td>25</td>\n",
       "      <td>241.61</td>\n",
       "      <td>12.00</td>\n",
       "      <td>5</td>\n",
       "      <td>2.72</td>\n",
       "      <td>2.63</td>\n",
       "      <td>0</td>\n",
       "    </tr>\n",
       "    <tr>\n",
       "      <th>2754</th>\n",
       "      <td>1</td>\n",
       "      <td>1</td>\n",
       "      <td>0</td>\n",
       "      <td>0</td>\n",
       "      <td>1</td>\n",
       "      <td>1</td>\n",
       "      <td>1</td>\n",
       "      <td>32</td>\n",
       "      <td>150.54</td>\n",
       "      <td>1.00</td>\n",
       "      <td>1</td>\n",
       "      <td>3.01</td>\n",
       "      <td>2.80</td>\n",
       "      <td>0</td>\n",
       "    </tr>\n",
       "    <tr>\n",
       "      <th>596</th>\n",
       "      <td>1</td>\n",
       "      <td>1</td>\n",
       "      <td>0</td>\n",
       "      <td>0</td>\n",
       "      <td>1</td>\n",
       "      <td>6</td>\n",
       "      <td>1</td>\n",
       "      <td>28</td>\n",
       "      <td>176.98</td>\n",
       "      <td>6.00</td>\n",
       "      <td>5</td>\n",
       "      <td>2.65</td>\n",
       "      <td>2.72</td>\n",
       "      <td>0</td>\n",
       "    </tr>\n",
       "  </tbody>\n",
       "</table>\n",
       "</div>"
      ],
      "text/plain": [
       "     gender near_location partner promo_friends phone  contract_period  \\\n",
       "2060      1             1       0             0     1                1   \n",
       "933       1             1       0             1     1               12   \n",
       "378       1             1       1             1     1               12   \n",
       "2754      1             1       0             0     1                1   \n",
       "596       1             1       0             0     1                6   \n",
       "\n",
       "     group_visits  age  avg_additional_charges_total  month_to_end_contract  \\\n",
       "2060            1   32                        250.28                   1.00   \n",
       "933             1   28                        215.85                  12.00   \n",
       "378             0   25                        241.61                  12.00   \n",
       "2754            1   32                        150.54                   1.00   \n",
       "596             1   28                        176.98                   6.00   \n",
       "\n",
       "      lifetime  avg_class_frequency_total  avg_class_frequency_current_month  \\\n",
       "2060         5                       2.81                               2.61   \n",
       "933          3                       0.00                               0.00   \n",
       "378          5                       2.72                               2.63   \n",
       "2754         1                       3.01                               2.80   \n",
       "596          5                       2.65                               2.72   \n",
       "\n",
       "     churn  \n",
       "2060     0  \n",
       "933      0  \n",
       "378      0  \n",
       "2754     0  \n",
       "596      0  "
      ]
     },
     "execution_count": 2,
     "metadata": {},
     "output_type": "execute_result"
    }
   ],
   "source": [
    "dtype = {'gender': 'category', 'Near_Location': 'category', 'Partner': 'category', 'Group_visits': 'category', 'Churn': 'category'\n",
    "         , 'Promo_friends': 'category', 'Phone': 'category'}\n",
    "df = pd.read_csv('https://code.s3.yandex.net/datasets/gym_churn.csv', dtype=dtype)\n",
    "df.columns = df.columns.str.lower()\n",
    "df.sample(5, random_state=7)"
   ]
  },
  {
   "cell_type": "markdown",
   "metadata": {},
   "source": [
    "Убедимся, что категориальные переменные имеют соответствующий тип данных."
   ]
  },
  {
   "cell_type": "code",
   "execution_count": 3,
   "metadata": {},
   "outputs": [
    {
     "data": {
      "text/plain": [
       "gender                               category\n",
       "near_location                        category\n",
       "partner                              category\n",
       "promo_friends                        category\n",
       "phone                                category\n",
       "contract_period                         int64\n",
       "group_visits                         category\n",
       "age                                     int64\n",
       "avg_additional_charges_total          float64\n",
       "month_to_end_contract                 float64\n",
       "lifetime                                int64\n",
       "avg_class_frequency_total             float64\n",
       "avg_class_frequency_current_month     float64\n",
       "churn                                category\n",
       "dtype: object"
      ]
     },
     "execution_count": 3,
     "metadata": {},
     "output_type": "execute_result"
    }
   ],
   "source": [
    "df.dtypes"
   ]
  },
  {
   "cell_type": "markdown",
   "metadata": {},
   "source": [
    "Изучим по отдельности каждый столбец."
   ]
  },
  {
   "cell_type": "code",
   "execution_count": 4,
   "metadata": {},
   "outputs": [
    {
     "data": {
      "text/html": [
       "<style type=\"text/css\">\n",
       "#T_71b4b caption {\n",
       "  font-size: 18px;\n",
       "  text-align: left;\n",
       "  font-weight: bold;\n",
       "}\n",
       "#T_71b4b_row0_col0, #T_71b4b_row0_col1, #T_71b4b_row0_col2, #T_71b4b_row0_col3, #T_71b4b_row0_col4 {\n",
       "  text-align: left;\n",
       "}\n",
       "</style>\n",
       "<table id=\"T_71b4b\">\n",
       "  <caption>DataFrame</caption>\n",
       "  <thead>\n",
       "    <tr>\n",
       "      <th id=\"T_71b4b_level0_col0\" class=\"col_heading level0 col0\" >Rows</th>\n",
       "      <th id=\"T_71b4b_level0_col1\" class=\"col_heading level0 col1\" >Features</th>\n",
       "      <th id=\"T_71b4b_level0_col2\" class=\"col_heading level0 col2\" >RAM (Mb)</th>\n",
       "      <th id=\"T_71b4b_level0_col3\" class=\"col_heading level0 col3\" >Duplicates</th>\n",
       "      <th id=\"T_71b4b_level0_col4\" class=\"col_heading level0 col4\" >Dupl (sub - origin)</th>\n",
       "    </tr>\n",
       "  </thead>\n",
       "  <tbody>\n",
       "    <tr>\n",
       "      <td id=\"T_71b4b_row0_col0\" class=\"data row0 col0\" >4.00k</td>\n",
       "      <td id=\"T_71b4b_row0_col1\" class=\"data row0 col1\" >14</td>\n",
       "      <td id=\"T_71b4b_row0_col2\" class=\"data row0 col2\" >0</td>\n",
       "      <td id=\"T_71b4b_row0_col3\" class=\"data row0 col3\" >---</td>\n",
       "      <td id=\"T_71b4b_row0_col4\" class=\"data row0 col4\" >---</td>\n",
       "    </tr>\n",
       "  </tbody>\n",
       "</table>\n"
      ],
      "text/plain": [
       "<pandas.io.formats.style.Styler at 0x709acf517b90>"
      ]
     },
     "execution_count": 4,
     "metadata": {},
     "output_type": "execute_result"
    }
   ],
   "source": [
    "gen = pagri_data_tools.info_gen(df)\n",
    "gen.next()"
   ]
  },
  {
   "cell_type": "code",
   "execution_count": 5,
   "metadata": {},
   "outputs": [
    {
     "data": {
      "text/html": [
       "\n",
       "            <div style=\"display: flex; justify-content: flex-start; align-items: flex-end;\">\n",
       "                <style type=\"text/css\">\n",
       "#T_b5365 caption {\n",
       "  font-size: 16px;\n",
       "  text-align: left;\n",
       "  font-weight: bold;\n",
       "}\n",
       "#T_b5365_row0_col0, #T_b5365_row0_col1, #T_b5365_row0_col2, #T_b5365_row0_col3, #T_b5365_row0_col4, #T_b5365_row0_col5, #T_b5365_row0_col6, #T_b5365_row0_col7, #T_b5365_row0_col8, #T_b5365_row0_col9, #T_b5365_row1_col0, #T_b5365_row1_col1, #T_b5365_row1_col2, #T_b5365_row1_col3, #T_b5365_row1_col4, #T_b5365_row1_col5, #T_b5365_row1_col6, #T_b5365_row1_col7, #T_b5365_row1_col8, #T_b5365_row1_col9, #T_b5365_row2_col0, #T_b5365_row2_col1, #T_b5365_row2_col2, #T_b5365_row2_col3, #T_b5365_row2_col4, #T_b5365_row2_col5, #T_b5365_row2_col6, #T_b5365_row2_col7, #T_b5365_row2_col8, #T_b5365_row2_col9, #T_b5365_row3_col0, #T_b5365_row3_col1, #T_b5365_row3_col2, #T_b5365_row3_col3, #T_b5365_row3_col4, #T_b5365_row3_col5, #T_b5365_row3_col6, #T_b5365_row3_col7, #T_b5365_row3_col8, #T_b5365_row3_col9, #T_b5365_row4_col0, #T_b5365_row4_col1, #T_b5365_row4_col2, #T_b5365_row4_col3, #T_b5365_row4_col4, #T_b5365_row4_col5, #T_b5365_row4_col6, #T_b5365_row4_col7, #T_b5365_row4_col8, #T_b5365_row4_col9, #T_b5365_row5_col0, #T_b5365_row5_col1, #T_b5365_row5_col2, #T_b5365_row5_col3, #T_b5365_row5_col4, #T_b5365_row5_col5, #T_b5365_row5_col6, #T_b5365_row5_col7, #T_b5365_row5_col8, #T_b5365_row5_col9, #T_b5365_row6_col0, #T_b5365_row6_col1, #T_b5365_row6_col2, #T_b5365_row6_col3, #T_b5365_row6_col4, #T_b5365_row6_col5, #T_b5365_row6_col6, #T_b5365_row6_col7, #T_b5365_row6_col8, #T_b5365_row6_col9 {\n",
       "  text-align: left;\n",
       "}\n",
       "</style>\n",
       "<table id=\"T_b5365\">\n",
       "  <caption>Статистика и гистограмма столбца \"contract_period\"</caption>\n",
       "  <thead>\n",
       "  </thead>\n",
       "  <tbody>\n",
       "    <tr>\n",
       "      <td id=\"T_b5365_row0_col0\" class=\"data row0 col0\" >Values</td>\n",
       "      <td id=\"T_b5365_row0_col1\" class=\"data row0 col1\" >4.00k (100%)</td>\n",
       "      <td id=\"T_b5365_row0_col2\" class=\"data row0 col2\" >          </td>\n",
       "      <td id=\"T_b5365_row0_col3\" class=\"data row0 col3\" >Max</td>\n",
       "      <td id=\"T_b5365_row0_col4\" class=\"data row0 col4\" >12.00</td>\n",
       "      <td id=\"T_b5365_row0_col5\" class=\"data row0 col5\" >          </td>\n",
       "      <td id=\"T_b5365_row0_col6\" class=\"data row0 col6\" >Avg</td>\n",
       "      <td id=\"T_b5365_row0_col7\" class=\"data row0 col7\" >4.68</td>\n",
       "      <td id=\"T_b5365_row0_col8\" class=\"data row0 col8\" >          </td>\n",
       "      <td id=\"T_b5365_row0_col9\" class=\"data row0 col9\" >1.00 (55%)</td>\n",
       "    </tr>\n",
       "    <tr>\n",
       "      <td id=\"T_b5365_row1_col0\" class=\"data row1 col0\" >Missing</td>\n",
       "      <td id=\"T_b5365_row1_col1\" class=\"data row1 col1\" >---</td>\n",
       "      <td id=\"T_b5365_row1_col2\" class=\"data row1 col2\" >          </td>\n",
       "      <td id=\"T_b5365_row1_col3\" class=\"data row1 col3\" >95%</td>\n",
       "      <td id=\"T_b5365_row1_col4\" class=\"data row1 col4\" >12.00</td>\n",
       "      <td id=\"T_b5365_row1_col5\" class=\"data row1 col5\" >          </td>\n",
       "      <td id=\"T_b5365_row1_col6\" class=\"data row1 col6\" >Mode</td>\n",
       "      <td id=\"T_b5365_row1_col7\" class=\"data row1 col7\" >1.00</td>\n",
       "      <td id=\"T_b5365_row1_col8\" class=\"data row1 col8\" >          </td>\n",
       "      <td id=\"T_b5365_row1_col9\" class=\"data row1 col9\" >12.00 (24%)</td>\n",
       "    </tr>\n",
       "    <tr>\n",
       "      <td id=\"T_b5365_row2_col0\" class=\"data row2 col0\" >Distinct</td>\n",
       "      <td id=\"T_b5365_row2_col1\" class=\"data row2 col1\" >3.00 (<1%)</td>\n",
       "      <td id=\"T_b5365_row2_col2\" class=\"data row2 col2\" >          </td>\n",
       "      <td id=\"T_b5365_row2_col3\" class=\"data row2 col3\" >75%</td>\n",
       "      <td id=\"T_b5365_row2_col4\" class=\"data row2 col4\" >6.00</td>\n",
       "      <td id=\"T_b5365_row2_col5\" class=\"data row2 col5\" >          </td>\n",
       "      <td id=\"T_b5365_row2_col6\" class=\"data row2 col6\" >Range</td>\n",
       "      <td id=\"T_b5365_row2_col7\" class=\"data row2 col7\" >11.00</td>\n",
       "      <td id=\"T_b5365_row2_col8\" class=\"data row2 col8\" >          </td>\n",
       "      <td id=\"T_b5365_row2_col9\" class=\"data row2 col9\" >6.00 (21%)</td>\n",
       "    </tr>\n",
       "    <tr>\n",
       "      <td id=\"T_b5365_row3_col0\" class=\"data row3 col0\" >Duplicates</td>\n",
       "      <td id=\"T_b5365_row3_col1\" class=\"data row3 col1\" >4.00k (99.9%)</td>\n",
       "      <td id=\"T_b5365_row3_col2\" class=\"data row3 col2\" >          </td>\n",
       "      <td id=\"T_b5365_row3_col3\" class=\"data row3 col3\" >50%</td>\n",
       "      <td id=\"T_b5365_row3_col4\" class=\"data row3 col4\" >1.00</td>\n",
       "      <td id=\"T_b5365_row3_col5\" class=\"data row3 col5\" >          </td>\n",
       "      <td id=\"T_b5365_row3_col6\" class=\"data row3 col6\" >iQR</td>\n",
       "      <td id=\"T_b5365_row3_col7\" class=\"data row3 col7\" >5.00</td>\n",
       "      <td id=\"T_b5365_row3_col8\" class=\"data row3 col8\" >          </td>\n",
       "      <td id=\"T_b5365_row3_col9\" class=\"data row3 col9\" ></td>\n",
       "    </tr>\n",
       "    <tr>\n",
       "      <td id=\"T_b5365_row4_col0\" class=\"data row4 col0\" >Zeros</td>\n",
       "      <td id=\"T_b5365_row4_col1\" class=\"data row4 col1\" >---</td>\n",
       "      <td id=\"T_b5365_row4_col2\" class=\"data row4 col2\" >          </td>\n",
       "      <td id=\"T_b5365_row4_col3\" class=\"data row4 col3\" >25%</td>\n",
       "      <td id=\"T_b5365_row4_col4\" class=\"data row4 col4\" >1.00</td>\n",
       "      <td id=\"T_b5365_row4_col5\" class=\"data row4 col5\" >          </td>\n",
       "      <td id=\"T_b5365_row4_col6\" class=\"data row4 col6\" >std</td>\n",
       "      <td id=\"T_b5365_row4_col7\" class=\"data row4 col7\" >4.55</td>\n",
       "      <td id=\"T_b5365_row4_col8\" class=\"data row4 col8\" >          </td>\n",
       "      <td id=\"T_b5365_row4_col9\" class=\"data row4 col9\" ></td>\n",
       "    </tr>\n",
       "    <tr>\n",
       "      <td id=\"T_b5365_row5_col0\" class=\"data row5 col0\" >Negative</td>\n",
       "      <td id=\"T_b5365_row5_col1\" class=\"data row5 col1\" >---</td>\n",
       "      <td id=\"T_b5365_row5_col2\" class=\"data row5 col2\" >          </td>\n",
       "      <td id=\"T_b5365_row5_col3\" class=\"data row5 col3\" >5%</td>\n",
       "      <td id=\"T_b5365_row5_col4\" class=\"data row5 col4\" >1.00</td>\n",
       "      <td id=\"T_b5365_row5_col5\" class=\"data row5 col5\" >          </td>\n",
       "      <td id=\"T_b5365_row5_col6\" class=\"data row5 col6\" >kurt</td>\n",
       "      <td id=\"T_b5365_row5_col7\" class=\"data row5 col7\" >-1.15</td>\n",
       "      <td id=\"T_b5365_row5_col8\" class=\"data row5 col8\" >          </td>\n",
       "      <td id=\"T_b5365_row5_col9\" class=\"data row5 col9\" ></td>\n",
       "    </tr>\n",
       "    <tr>\n",
       "      <td id=\"T_b5365_row6_col0\" class=\"data row6 col0\" >RAM (Mb)</td>\n",
       "      <td id=\"T_b5365_row6_col1\" class=\"data row6 col1\" ><1 Mb</td>\n",
       "      <td id=\"T_b5365_row6_col2\" class=\"data row6 col2\" >          </td>\n",
       "      <td id=\"T_b5365_row6_col3\" class=\"data row6 col3\" >Min</td>\n",
       "      <td id=\"T_b5365_row6_col4\" class=\"data row6 col4\" >1.00</td>\n",
       "      <td id=\"T_b5365_row6_col5\" class=\"data row6 col5\" >          </td>\n",
       "      <td id=\"T_b5365_row6_col6\" class=\"data row6 col6\" >skew</td>\n",
       "      <td id=\"T_b5365_row6_col7\" class=\"data row6 col7\" >0.71</td>\n",
       "      <td id=\"T_b5365_row6_col8\" class=\"data row6 col8\" >          </td>\n",
       "      <td id=\"T_b5365_row6_col9\" class=\"data row6 col9\" ></td>\n",
       "    </tr>\n",
       "  </tbody>\n",
       "</table>\n",
       "\n",
       "                <div>\n",
       "                    <img src=\"data:image/png;base64,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\" alt=\"График\"/>\n",
       "                </div>\n",
       "                      \n",
       "            </div>\n",
       "            "
      ],
      "text/plain": [
       "<IPython.core.display.HTML object>"
      ]
     },
     "metadata": {},
     "output_type": "display_data"
    }
   ],
   "source": [
    "gen.next()"
   ]
  },
  {
   "cell_type": "markdown",
   "metadata": {},
   "source": [
    "**Наблюдения:**  \n",
    "\n",
    "- Больше половины клиентов имеют абонемент на 1 месяц. 24% - 12 месяцев, 21% - 6 месяцев."
   ]
  },
  {
   "cell_type": "code",
   "execution_count": 6,
   "metadata": {},
   "outputs": [
    {
     "data": {
      "text/html": [
       "\n",
       "            <div style=\"display: flex; justify-content: flex-start; align-items: flex-end;\">\n",
       "                <style type=\"text/css\">\n",
       "#T_27d4d caption {\n",
       "  font-size: 16px;\n",
       "  text-align: left;\n",
       "  font-weight: bold;\n",
       "}\n",
       "#T_27d4d_row0_col0, #T_27d4d_row0_col1, #T_27d4d_row0_col2, #T_27d4d_row0_col3, #T_27d4d_row0_col4, #T_27d4d_row0_col5, #T_27d4d_row0_col6, #T_27d4d_row0_col7, #T_27d4d_row0_col8, #T_27d4d_row0_col9, #T_27d4d_row1_col0, #T_27d4d_row1_col1, #T_27d4d_row1_col2, #T_27d4d_row1_col3, #T_27d4d_row1_col4, #T_27d4d_row1_col5, #T_27d4d_row1_col6, #T_27d4d_row1_col7, #T_27d4d_row1_col8, #T_27d4d_row1_col9, #T_27d4d_row2_col0, #T_27d4d_row2_col1, #T_27d4d_row2_col2, #T_27d4d_row2_col3, #T_27d4d_row2_col4, #T_27d4d_row2_col5, #T_27d4d_row2_col6, #T_27d4d_row2_col7, #T_27d4d_row2_col8, #T_27d4d_row2_col9, #T_27d4d_row3_col0, #T_27d4d_row3_col1, #T_27d4d_row3_col2, #T_27d4d_row3_col3, #T_27d4d_row3_col4, #T_27d4d_row3_col5, #T_27d4d_row3_col6, #T_27d4d_row3_col7, #T_27d4d_row3_col8, #T_27d4d_row3_col9, #T_27d4d_row4_col0, #T_27d4d_row4_col1, #T_27d4d_row4_col2, #T_27d4d_row4_col3, #T_27d4d_row4_col4, #T_27d4d_row4_col5, #T_27d4d_row4_col6, #T_27d4d_row4_col7, #T_27d4d_row4_col8, #T_27d4d_row4_col9, #T_27d4d_row5_col0, #T_27d4d_row5_col1, #T_27d4d_row5_col2, #T_27d4d_row5_col3, #T_27d4d_row5_col4, #T_27d4d_row5_col5, #T_27d4d_row5_col6, #T_27d4d_row5_col7, #T_27d4d_row5_col8, #T_27d4d_row5_col9, #T_27d4d_row6_col0, #T_27d4d_row6_col1, #T_27d4d_row6_col2, #T_27d4d_row6_col3, #T_27d4d_row6_col4, #T_27d4d_row6_col5, #T_27d4d_row6_col6, #T_27d4d_row6_col7, #T_27d4d_row6_col8, #T_27d4d_row6_col9 {\n",
       "  text-align: left;\n",
       "}\n",
       "</style>\n",
       "<table id=\"T_27d4d\">\n",
       "  <caption>Статистика и гистограмма столбца \"age\"</caption>\n",
       "  <thead>\n",
       "  </thead>\n",
       "  <tbody>\n",
       "    <tr>\n",
       "      <td id=\"T_27d4d_row0_col0\" class=\"data row0 col0\" >Values</td>\n",
       "      <td id=\"T_27d4d_row0_col1\" class=\"data row0 col1\" >4.00k (100%)</td>\n",
       "      <td id=\"T_27d4d_row0_col2\" class=\"data row0 col2\" >          </td>\n",
       "      <td id=\"T_27d4d_row0_col3\" class=\"data row0 col3\" >Max</td>\n",
       "      <td id=\"T_27d4d_row0_col4\" class=\"data row0 col4\" >41.00</td>\n",
       "      <td id=\"T_27d4d_row0_col5\" class=\"data row0 col5\" >          </td>\n",
       "      <td id=\"T_27d4d_row0_col6\" class=\"data row0 col6\" >Avg</td>\n",
       "      <td id=\"T_27d4d_row0_col7\" class=\"data row0 col7\" >29.18</td>\n",
       "      <td id=\"T_27d4d_row0_col8\" class=\"data row0 col8\" >          </td>\n",
       "      <td id=\"T_27d4d_row0_col9\" class=\"data row0 col9\" >29.00 (12%)</td>\n",
       "    </tr>\n",
       "    <tr>\n",
       "      <td id=\"T_27d4d_row1_col0\" class=\"data row1 col0\" >Missing</td>\n",
       "      <td id=\"T_27d4d_row1_col1\" class=\"data row1 col1\" >---</td>\n",
       "      <td id=\"T_27d4d_row1_col2\" class=\"data row1 col2\" >          </td>\n",
       "      <td id=\"T_27d4d_row1_col3\" class=\"data row1 col3\" >95%</td>\n",
       "      <td id=\"T_27d4d_row1_col4\" class=\"data row1 col4\" >34.00</td>\n",
       "      <td id=\"T_27d4d_row1_col5\" class=\"data row1 col5\" >          </td>\n",
       "      <td id=\"T_27d4d_row1_col6\" class=\"data row1 col6\" >Mode</td>\n",
       "      <td id=\"T_27d4d_row1_col7\" class=\"data row1 col7\" >29.00</td>\n",
       "      <td id=\"T_27d4d_row1_col8\" class=\"data row1 col8\" >          </td>\n",
       "      <td id=\"T_27d4d_row1_col9\" class=\"data row1 col9\" >30.00 (11%)</td>\n",
       "    </tr>\n",
       "    <tr>\n",
       "      <td id=\"T_27d4d_row2_col0\" class=\"data row2 col0\" >Distinct</td>\n",
       "      <td id=\"T_27d4d_row2_col1\" class=\"data row2 col1\" >23.00 (1%)</td>\n",
       "      <td id=\"T_27d4d_row2_col2\" class=\"data row2 col2\" >          </td>\n",
       "      <td id=\"T_27d4d_row2_col3\" class=\"data row2 col3\" >75%</td>\n",
       "      <td id=\"T_27d4d_row2_col4\" class=\"data row2 col4\" >31.00</td>\n",
       "      <td id=\"T_27d4d_row2_col5\" class=\"data row2 col5\" >          </td>\n",
       "      <td id=\"T_27d4d_row2_col6\" class=\"data row2 col6\" >Range</td>\n",
       "      <td id=\"T_27d4d_row2_col7\" class=\"data row2 col7\" >23.00</td>\n",
       "      <td id=\"T_27d4d_row2_col8\" class=\"data row2 col8\" >          </td>\n",
       "      <td id=\"T_27d4d_row2_col9\" class=\"data row2 col9\" >28.00 (11%)</td>\n",
       "    </tr>\n",
       "    <tr>\n",
       "      <td id=\"T_27d4d_row3_col0\" class=\"data row3 col0\" >Duplicates</td>\n",
       "      <td id=\"T_27d4d_row3_col1\" class=\"data row3 col1\" >3.98k (99.4%)</td>\n",
       "      <td id=\"T_27d4d_row3_col2\" class=\"data row3 col2\" >          </td>\n",
       "      <td id=\"T_27d4d_row3_col3\" class=\"data row3 col3\" >50%</td>\n",
       "      <td id=\"T_27d4d_row3_col4\" class=\"data row3 col4\" >29.00</td>\n",
       "      <td id=\"T_27d4d_row3_col5\" class=\"data row3 col5\" >          </td>\n",
       "      <td id=\"T_27d4d_row3_col6\" class=\"data row3 col6\" >iQR</td>\n",
       "      <td id=\"T_27d4d_row3_col7\" class=\"data row3 col7\" >4.00</td>\n",
       "      <td id=\"T_27d4d_row3_col8\" class=\"data row3 col8\" >          </td>\n",
       "      <td id=\"T_27d4d_row3_col9\" class=\"data row3 col9\" >31.00 (11%)</td>\n",
       "    </tr>\n",
       "    <tr>\n",
       "      <td id=\"T_27d4d_row4_col0\" class=\"data row4 col0\" >Zeros</td>\n",
       "      <td id=\"T_27d4d_row4_col1\" class=\"data row4 col1\" >---</td>\n",
       "      <td id=\"T_27d4d_row4_col2\" class=\"data row4 col2\" >          </td>\n",
       "      <td id=\"T_27d4d_row4_col3\" class=\"data row4 col3\" >25%</td>\n",
       "      <td id=\"T_27d4d_row4_col4\" class=\"data row4 col4\" >27.00</td>\n",
       "      <td id=\"T_27d4d_row4_col5\" class=\"data row4 col5\" >          </td>\n",
       "      <td id=\"T_27d4d_row4_col6\" class=\"data row4 col6\" >std</td>\n",
       "      <td id=\"T_27d4d_row4_col7\" class=\"data row4 col7\" >3.26</td>\n",
       "      <td id=\"T_27d4d_row4_col8\" class=\"data row4 col8\" >          </td>\n",
       "      <td id=\"T_27d4d_row4_col9\" class=\"data row4 col9\" >27.00 (9%)</td>\n",
       "    </tr>\n",
       "    <tr>\n",
       "      <td id=\"T_27d4d_row5_col0\" class=\"data row5 col0\" >Negative</td>\n",
       "      <td id=\"T_27d4d_row5_col1\" class=\"data row5 col1\" >---</td>\n",
       "      <td id=\"T_27d4d_row5_col2\" class=\"data row5 col2\" >          </td>\n",
       "      <td id=\"T_27d4d_row5_col3\" class=\"data row5 col3\" >5%</td>\n",
       "      <td id=\"T_27d4d_row5_col4\" class=\"data row5 col4\" >24.00</td>\n",
       "      <td id=\"T_27d4d_row5_col5\" class=\"data row5 col5\" >          </td>\n",
       "      <td id=\"T_27d4d_row5_col6\" class=\"data row5 col6\" >kurt</td>\n",
       "      <td id=\"T_27d4d_row5_col7\" class=\"data row5 col7\" >-0.13</td>\n",
       "      <td id=\"T_27d4d_row5_col8\" class=\"data row5 col8\" >          </td>\n",
       "      <td id=\"T_27d4d_row5_col9\" class=\"data row5 col9\" >32.00 (9%)</td>\n",
       "    </tr>\n",
       "    <tr>\n",
       "      <td id=\"T_27d4d_row6_col0\" class=\"data row6 col0\" >RAM (Mb)</td>\n",
       "      <td id=\"T_27d4d_row6_col1\" class=\"data row6 col1\" ><1 Mb</td>\n",
       "      <td id=\"T_27d4d_row6_col2\" class=\"data row6 col2\" >          </td>\n",
       "      <td id=\"T_27d4d_row6_col3\" class=\"data row6 col3\" >Min</td>\n",
       "      <td id=\"T_27d4d_row6_col4\" class=\"data row6 col4\" >18.00</td>\n",
       "      <td id=\"T_27d4d_row6_col5\" class=\"data row6 col5\" >          </td>\n",
       "      <td id=\"T_27d4d_row6_col6\" class=\"data row6 col6\" >skew</td>\n",
       "      <td id=\"T_27d4d_row6_col7\" class=\"data row6 col7\" >-0.06</td>\n",
       "      <td id=\"T_27d4d_row6_col8\" class=\"data row6 col8\" >          </td>\n",
       "      <td id=\"T_27d4d_row6_col9\" class=\"data row6 col9\" >26.00 (8%)</td>\n",
       "    </tr>\n",
       "  </tbody>\n",
       "</table>\n",
       "\n",
       "                <div>\n",
       "                    <img src=\"data:image/png;base64,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\" alt=\"График\"/>\n",
       "                </div>\n",
       "                      \n",
       "            </div>\n",
       "            "
      ],
      "text/plain": [
       "<IPython.core.display.HTML object>"
      ]
     },
     "metadata": {},
     "output_type": "display_data"
    }
   ],
   "source": [
    "gen.next()"
   ]
  },
  {
   "cell_type": "markdown",
   "metadata": {},
   "source": [
    "**Наблюдения:**  \n",
    "\n",
    "- Клиенты имеют возраст от 18 до 41 года.\n",
    "- В основном, клиенты имеют возраст от 27 до 31 года."
   ]
  },
  {
   "cell_type": "code",
   "execution_count": 7,
   "metadata": {},
   "outputs": [
    {
     "data": {
      "text/html": [
       "\n",
       "            <div style=\"display: flex; justify-content: flex-start; align-items: flex-end;\">\n",
       "                <style type=\"text/css\">\n",
       "#T_b7ac2 caption {\n",
       "  font-size: 16px;\n",
       "  text-align: left;\n",
       "  font-weight: bold;\n",
       "}\n",
       "#T_b7ac2_row0_col0, #T_b7ac2_row0_col1, #T_b7ac2_row0_col2, #T_b7ac2_row0_col3, #T_b7ac2_row0_col4, #T_b7ac2_row0_col5, #T_b7ac2_row0_col6, #T_b7ac2_row0_col7, #T_b7ac2_row0_col8, #T_b7ac2_row0_col9, #T_b7ac2_row1_col0, #T_b7ac2_row1_col1, #T_b7ac2_row1_col2, #T_b7ac2_row1_col3, #T_b7ac2_row1_col4, #T_b7ac2_row1_col5, #T_b7ac2_row1_col6, #T_b7ac2_row1_col7, #T_b7ac2_row1_col8, #T_b7ac2_row1_col9, #T_b7ac2_row2_col0, #T_b7ac2_row2_col1, #T_b7ac2_row2_col2, #T_b7ac2_row2_col3, #T_b7ac2_row2_col4, #T_b7ac2_row2_col5, #T_b7ac2_row2_col6, #T_b7ac2_row2_col7, #T_b7ac2_row2_col8, #T_b7ac2_row2_col9, #T_b7ac2_row3_col0, #T_b7ac2_row3_col1, #T_b7ac2_row3_col2, #T_b7ac2_row3_col3, #T_b7ac2_row3_col4, #T_b7ac2_row3_col5, #T_b7ac2_row3_col6, #T_b7ac2_row3_col7, #T_b7ac2_row3_col8, #T_b7ac2_row3_col9, #T_b7ac2_row4_col0, #T_b7ac2_row4_col1, #T_b7ac2_row4_col2, #T_b7ac2_row4_col3, #T_b7ac2_row4_col4, #T_b7ac2_row4_col5, #T_b7ac2_row4_col6, #T_b7ac2_row4_col7, #T_b7ac2_row4_col8, #T_b7ac2_row4_col9, #T_b7ac2_row5_col0, #T_b7ac2_row5_col1, #T_b7ac2_row5_col2, #T_b7ac2_row5_col3, #T_b7ac2_row5_col4, #T_b7ac2_row5_col5, #T_b7ac2_row5_col6, #T_b7ac2_row5_col7, #T_b7ac2_row5_col8, #T_b7ac2_row5_col9, #T_b7ac2_row6_col0, #T_b7ac2_row6_col1, #T_b7ac2_row6_col2, #T_b7ac2_row6_col3, #T_b7ac2_row6_col4, #T_b7ac2_row6_col5, #T_b7ac2_row6_col6, #T_b7ac2_row6_col7, #T_b7ac2_row6_col8, #T_b7ac2_row6_col9 {\n",
       "  text-align: left;\n",
       "}\n",
       "</style>\n",
       "<table id=\"T_b7ac2\">\n",
       "  <caption>Статистика и гистограмма столбца \"avg_additional_charges_total\"</caption>\n",
       "  <thead>\n",
       "  </thead>\n",
       "  <tbody>\n",
       "    <tr>\n",
       "      <td id=\"T_b7ac2_row0_col0\" class=\"data row0 col0\" >Values</td>\n",
       "      <td id=\"T_b7ac2_row0_col1\" class=\"data row0 col1\" >4.00k (100%)</td>\n",
       "      <td id=\"T_b7ac2_row0_col2\" class=\"data row0 col2\" >          </td>\n",
       "      <td id=\"T_b7ac2_row0_col3\" class=\"data row0 col3\" >Max</td>\n",
       "      <td id=\"T_b7ac2_row0_col4\" class=\"data row0 col4\" >552.59</td>\n",
       "      <td id=\"T_b7ac2_row0_col5\" class=\"data row0 col5\" >          </td>\n",
       "      <td id=\"T_b7ac2_row0_col6\" class=\"data row0 col6\" >Avg</td>\n",
       "      <td id=\"T_b7ac2_row0_col7\" class=\"data row0 col7\" >146.94</td>\n",
       "      <td id=\"T_b7ac2_row0_col8\" class=\"data row0 col8\" >          </td>\n",
       "      <td id=\"T_b7ac2_row0_col9\" class=\"data row0 col9\" >14.23 <1%</td>\n",
       "    </tr>\n",
       "    <tr>\n",
       "      <td id=\"T_b7ac2_row1_col0\" class=\"data row1 col0\" >Missing</td>\n",
       "      <td id=\"T_b7ac2_row1_col1\" class=\"data row1 col1\" >---</td>\n",
       "      <td id=\"T_b7ac2_row1_col2\" class=\"data row1 col2\" >          </td>\n",
       "      <td id=\"T_b7ac2_row1_col3\" class=\"data row1 col3\" >95%</td>\n",
       "      <td id=\"T_b7ac2_row1_col4\" class=\"data row1 col4\" >323.44</td>\n",
       "      <td id=\"T_b7ac2_row1_col5\" class=\"data row1 col5\" >          </td>\n",
       "      <td id=\"T_b7ac2_row1_col6\" class=\"data row1 col6\" >Mode</td>\n",
       "      <td id=\"T_b7ac2_row1_col7\" class=\"data row1 col7\" >---</td>\n",
       "      <td id=\"T_b7ac2_row1_col8\" class=\"data row1 col8\" >          </td>\n",
       "      <td id=\"T_b7ac2_row1_col9\" class=\"data row1 col9\" >17.08 <1%</td>\n",
       "    </tr>\n",
       "    <tr>\n",
       "      <td id=\"T_b7ac2_row2_col0\" class=\"data row2 col0\" >Distinct</td>\n",
       "      <td id=\"T_b7ac2_row2_col1\" class=\"data row2 col1\" >4.00k (100%)</td>\n",
       "      <td id=\"T_b7ac2_row2_col2\" class=\"data row2 col2\" >          </td>\n",
       "      <td id=\"T_b7ac2_row2_col3\" class=\"data row2 col3\" >75%</td>\n",
       "      <td id=\"T_b7ac2_row2_col4\" class=\"data row2 col4\" >210.95</td>\n",
       "      <td id=\"T_b7ac2_row2_col5\" class=\"data row2 col5\" >          </td>\n",
       "      <td id=\"T_b7ac2_row2_col6\" class=\"data row2 col6\" >Range</td>\n",
       "      <td id=\"T_b7ac2_row2_col7\" class=\"data row2 col7\" >552.44</td>\n",
       "      <td id=\"T_b7ac2_row2_col8\" class=\"data row2 col8\" >          </td>\n",
       "      <td id=\"T_b7ac2_row2_col9\" class=\"data row2 col9\" >278.20 <1%</td>\n",
       "    </tr>\n",
       "    <tr>\n",
       "      <td id=\"T_b7ac2_row3_col0\" class=\"data row3 col0\" >Duplicates</td>\n",
       "      <td id=\"T_b7ac2_row3_col1\" class=\"data row3 col1\" >---</td>\n",
       "      <td id=\"T_b7ac2_row3_col2\" class=\"data row3 col2\" >          </td>\n",
       "      <td id=\"T_b7ac2_row3_col3\" class=\"data row3 col3\" >50%</td>\n",
       "      <td id=\"T_b7ac2_row3_col4\" class=\"data row3 col4\" >136.22</td>\n",
       "      <td id=\"T_b7ac2_row3_col5\" class=\"data row3 col5\" >          </td>\n",
       "      <td id=\"T_b7ac2_row3_col6\" class=\"data row3 col6\" >iQR</td>\n",
       "      <td id=\"T_b7ac2_row3_col7\" class=\"data row3 col7\" >142.08</td>\n",
       "      <td id=\"T_b7ac2_row3_col8\" class=\"data row3 col8\" >          </td>\n",
       "      <td id=\"T_b7ac2_row3_col9\" class=\"data row3 col9\" >120.46 <1%</td>\n",
       "    </tr>\n",
       "    <tr>\n",
       "      <td id=\"T_b7ac2_row4_col0\" class=\"data row4 col0\" >Zeros</td>\n",
       "      <td id=\"T_b7ac2_row4_col1\" class=\"data row4 col1\" >---</td>\n",
       "      <td id=\"T_b7ac2_row4_col2\" class=\"data row4 col2\" >          </td>\n",
       "      <td id=\"T_b7ac2_row4_col3\" class=\"data row4 col3\" >25%</td>\n",
       "      <td id=\"T_b7ac2_row4_col4\" class=\"data row4 col4\" >68.87</td>\n",
       "      <td id=\"T_b7ac2_row4_col5\" class=\"data row4 col5\" >          </td>\n",
       "      <td id=\"T_b7ac2_row4_col6\" class=\"data row4 col6\" >std</td>\n",
       "      <td id=\"T_b7ac2_row4_col7\" class=\"data row4 col7\" >96.36</td>\n",
       "      <td id=\"T_b7ac2_row4_col8\" class=\"data row4 col8\" >          </td>\n",
       "      <td id=\"T_b7ac2_row4_col9\" class=\"data row4 col9\" >130.71 <1%</td>\n",
       "    </tr>\n",
       "    <tr>\n",
       "      <td id=\"T_b7ac2_row5_col0\" class=\"data row5 col0\" >Negative</td>\n",
       "      <td id=\"T_b7ac2_row5_col1\" class=\"data row5 col1\" >---</td>\n",
       "      <td id=\"T_b7ac2_row5_col2\" class=\"data row5 col2\" >          </td>\n",
       "      <td id=\"T_b7ac2_row5_col3\" class=\"data row5 col3\" >5%</td>\n",
       "      <td id=\"T_b7ac2_row5_col4\" class=\"data row5 col4\" >12.55</td>\n",
       "      <td id=\"T_b7ac2_row5_col5\" class=\"data row5 col5\" >          </td>\n",
       "      <td id=\"T_b7ac2_row5_col6\" class=\"data row5 col6\" >kurt</td>\n",
       "      <td id=\"T_b7ac2_row5_col7\" class=\"data row5 col7\" >0.00</td>\n",
       "      <td id=\"T_b7ac2_row5_col8\" class=\"data row5 col8\" >          </td>\n",
       "      <td id=\"T_b7ac2_row5_col9\" class=\"data row5 col9\" >238.05 <1%</td>\n",
       "    </tr>\n",
       "    <tr>\n",
       "      <td id=\"T_b7ac2_row6_col0\" class=\"data row6 col0\" >RAM (Mb)</td>\n",
       "      <td id=\"T_b7ac2_row6_col1\" class=\"data row6 col1\" ><1 Mb</td>\n",
       "      <td id=\"T_b7ac2_row6_col2\" class=\"data row6 col2\" >          </td>\n",
       "      <td id=\"T_b7ac2_row6_col3\" class=\"data row6 col3\" >Min</td>\n",
       "      <td id=\"T_b7ac2_row6_col4\" class=\"data row6 col4\" >0.15</td>\n",
       "      <td id=\"T_b7ac2_row6_col5\" class=\"data row6 col5\" >          </td>\n",
       "      <td id=\"T_b7ac2_row6_col6\" class=\"data row6 col6\" >skew</td>\n",
       "      <td id=\"T_b7ac2_row6_col7\" class=\"data row6 col7\" >0.62</td>\n",
       "      <td id=\"T_b7ac2_row6_col8\" class=\"data row6 col8\" >          </td>\n",
       "      <td id=\"T_b7ac2_row6_col9\" class=\"data row6 col9\" >3.38 <1%</td>\n",
       "    </tr>\n",
       "  </tbody>\n",
       "</table>\n",
       "\n",
       "                <div>\n",
       "                    <img src=\"data:image/png;base64,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\" alt=\"График\"/>\n",
       "                </div>\n",
       "                      \n",
       "            </div>\n",
       "            "
      ],
      "text/plain": [
       "<IPython.core.display.HTML object>"
      ]
     },
     "metadata": {},
     "output_type": "display_data"
    }
   ],
   "source": [
    "gen.next()"
   ]
  },
  {
   "cell_type": "markdown",
   "metadata": {},
   "source": [
    "**Наблюдения:**  \n",
    "\n",
    "- Суммарная выручка от других услуг лежит в диапазоне от 0.15 до 552.59.\n",
    "- В основном, суммарная выручка от других услуг варьируется в диапазоне от 68.87 до 210.95."
   ]
  },
  {
   "cell_type": "code",
   "execution_count": 8,
   "metadata": {},
   "outputs": [
    {
     "data": {
      "text/html": [
       "\n",
       "            <div style=\"display: flex; justify-content: flex-start; align-items: flex-end;\">\n",
       "                <style type=\"text/css\">\n",
       "#T_c9bfb caption {\n",
       "  font-size: 16px;\n",
       "  text-align: left;\n",
       "  font-weight: bold;\n",
       "}\n",
       "#T_c9bfb_row0_col0, #T_c9bfb_row0_col1, #T_c9bfb_row0_col2, #T_c9bfb_row0_col3, #T_c9bfb_row0_col4, #T_c9bfb_row0_col5, #T_c9bfb_row0_col6, #T_c9bfb_row0_col7, #T_c9bfb_row0_col8, #T_c9bfb_row0_col9, #T_c9bfb_row1_col0, #T_c9bfb_row1_col1, #T_c9bfb_row1_col2, #T_c9bfb_row1_col3, #T_c9bfb_row1_col4, #T_c9bfb_row1_col5, #T_c9bfb_row1_col6, #T_c9bfb_row1_col7, #T_c9bfb_row1_col8, #T_c9bfb_row1_col9, #T_c9bfb_row2_col0, #T_c9bfb_row2_col1, #T_c9bfb_row2_col2, #T_c9bfb_row2_col3, #T_c9bfb_row2_col4, #T_c9bfb_row2_col5, #T_c9bfb_row2_col6, #T_c9bfb_row2_col7, #T_c9bfb_row2_col8, #T_c9bfb_row2_col9, #T_c9bfb_row3_col0, #T_c9bfb_row3_col1, #T_c9bfb_row3_col2, #T_c9bfb_row3_col3, #T_c9bfb_row3_col4, #T_c9bfb_row3_col5, #T_c9bfb_row3_col6, #T_c9bfb_row3_col7, #T_c9bfb_row3_col8, #T_c9bfb_row3_col9, #T_c9bfb_row4_col0, #T_c9bfb_row4_col1, #T_c9bfb_row4_col2, #T_c9bfb_row4_col3, #T_c9bfb_row4_col4, #T_c9bfb_row4_col5, #T_c9bfb_row4_col6, #T_c9bfb_row4_col7, #T_c9bfb_row4_col8, #T_c9bfb_row4_col9, #T_c9bfb_row5_col0, #T_c9bfb_row5_col1, #T_c9bfb_row5_col2, #T_c9bfb_row5_col3, #T_c9bfb_row5_col4, #T_c9bfb_row5_col5, #T_c9bfb_row5_col6, #T_c9bfb_row5_col7, #T_c9bfb_row5_col8, #T_c9bfb_row5_col9, #T_c9bfb_row6_col0, #T_c9bfb_row6_col1, #T_c9bfb_row6_col2, #T_c9bfb_row6_col3, #T_c9bfb_row6_col4, #T_c9bfb_row6_col5, #T_c9bfb_row6_col6, #T_c9bfb_row6_col7, #T_c9bfb_row6_col8, #T_c9bfb_row6_col9 {\n",
       "  text-align: left;\n",
       "}\n",
       "</style>\n",
       "<table id=\"T_c9bfb\">\n",
       "  <caption>Статистика и гистограмма столбца \"month_to_end_contract\"</caption>\n",
       "  <thead>\n",
       "  </thead>\n",
       "  <tbody>\n",
       "    <tr>\n",
       "      <td id=\"T_c9bfb_row0_col0\" class=\"data row0 col0\" >Values</td>\n",
       "      <td id=\"T_c9bfb_row0_col1\" class=\"data row0 col1\" >4.00k (100%)</td>\n",
       "      <td id=\"T_c9bfb_row0_col2\" class=\"data row0 col2\" >          </td>\n",
       "      <td id=\"T_c9bfb_row0_col3\" class=\"data row0 col3\" >Max</td>\n",
       "      <td id=\"T_c9bfb_row0_col4\" class=\"data row0 col4\" >12.00</td>\n",
       "      <td id=\"T_c9bfb_row0_col5\" class=\"data row0 col5\" >          </td>\n",
       "      <td id=\"T_c9bfb_row0_col6\" class=\"data row0 col6\" >Avg</td>\n",
       "      <td id=\"T_c9bfb_row0_col7\" class=\"data row0 col7\" >4.32</td>\n",
       "      <td id=\"T_c9bfb_row0_col8\" class=\"data row0 col8\" >          </td>\n",
       "      <td id=\"T_c9bfb_row0_col9\" class=\"data row0 col9\" >1.00 (55%)</td>\n",
       "    </tr>\n",
       "    <tr>\n",
       "      <td id=\"T_c9bfb_row1_col0\" class=\"data row1 col0\" >Missing</td>\n",
       "      <td id=\"T_c9bfb_row1_col1\" class=\"data row1 col1\" >---</td>\n",
       "      <td id=\"T_c9bfb_row1_col2\" class=\"data row1 col2\" >          </td>\n",
       "      <td id=\"T_c9bfb_row1_col3\" class=\"data row1 col3\" >95%</td>\n",
       "      <td id=\"T_c9bfb_row1_col4\" class=\"data row1 col4\" >12.00</td>\n",
       "      <td id=\"T_c9bfb_row1_col5\" class=\"data row1 col5\" >          </td>\n",
       "      <td id=\"T_c9bfb_row1_col6\" class=\"data row1 col6\" >Mode</td>\n",
       "      <td id=\"T_c9bfb_row1_col7\" class=\"data row1 col7\" >1.00</td>\n",
       "      <td id=\"T_c9bfb_row1_col8\" class=\"data row1 col8\" >          </td>\n",
       "      <td id=\"T_c9bfb_row1_col9\" class=\"data row1 col9\" >6.00 (16%)</td>\n",
       "    </tr>\n",
       "    <tr>\n",
       "      <td id=\"T_c9bfb_row2_col0\" class=\"data row2 col0\" >Distinct</td>\n",
       "      <td id=\"T_c9bfb_row2_col1\" class=\"data row2 col1\" >12.00 (<1%)</td>\n",
       "      <td id=\"T_c9bfb_row2_col2\" class=\"data row2 col2\" >          </td>\n",
       "      <td id=\"T_c9bfb_row2_col3\" class=\"data row2 col3\" >75%</td>\n",
       "      <td id=\"T_c9bfb_row2_col4\" class=\"data row2 col4\" >6.00</td>\n",
       "      <td id=\"T_c9bfb_row2_col5\" class=\"data row2 col5\" >          </td>\n",
       "      <td id=\"T_c9bfb_row2_col6\" class=\"data row2 col6\" >Range</td>\n",
       "      <td id=\"T_c9bfb_row2_col7\" class=\"data row2 col7\" >11.00</td>\n",
       "      <td id=\"T_c9bfb_row2_col8\" class=\"data row2 col8\" >          </td>\n",
       "      <td id=\"T_c9bfb_row2_col9\" class=\"data row2 col9\" >12.00 (13%)</td>\n",
       "    </tr>\n",
       "    <tr>\n",
       "      <td id=\"T_c9bfb_row3_col0\" class=\"data row3 col0\" >Duplicates</td>\n",
       "      <td id=\"T_c9bfb_row3_col1\" class=\"data row3 col1\" >3.99k (99.7%)</td>\n",
       "      <td id=\"T_c9bfb_row3_col2\" class=\"data row3 col2\" >          </td>\n",
       "      <td id=\"T_c9bfb_row3_col3\" class=\"data row3 col3\" >50%</td>\n",
       "      <td id=\"T_c9bfb_row3_col4\" class=\"data row3 col4\" >1.00</td>\n",
       "      <td id=\"T_c9bfb_row3_col5\" class=\"data row3 col5\" >          </td>\n",
       "      <td id=\"T_c9bfb_row3_col6\" class=\"data row3 col6\" >iQR</td>\n",
       "      <td id=\"T_c9bfb_row3_col7\" class=\"data row3 col7\" >5.00</td>\n",
       "      <td id=\"T_c9bfb_row3_col8\" class=\"data row3 col8\" >          </td>\n",
       "      <td id=\"T_c9bfb_row3_col9\" class=\"data row3 col9\" >11.00 (5%)</td>\n",
       "    </tr>\n",
       "    <tr>\n",
       "      <td id=\"T_c9bfb_row4_col0\" class=\"data row4 col0\" >Zeros</td>\n",
       "      <td id=\"T_c9bfb_row4_col1\" class=\"data row4 col1\" >---</td>\n",
       "      <td id=\"T_c9bfb_row4_col2\" class=\"data row4 col2\" >          </td>\n",
       "      <td id=\"T_c9bfb_row4_col3\" class=\"data row4 col3\" >25%</td>\n",
       "      <td id=\"T_c9bfb_row4_col4\" class=\"data row4 col4\" >1.00</td>\n",
       "      <td id=\"T_c9bfb_row4_col5\" class=\"data row4 col5\" >          </td>\n",
       "      <td id=\"T_c9bfb_row4_col6\" class=\"data row4 col6\" >std</td>\n",
       "      <td id=\"T_c9bfb_row4_col7\" class=\"data row4 col7\" >4.19</td>\n",
       "      <td id=\"T_c9bfb_row4_col8\" class=\"data row4 col8\" >          </td>\n",
       "      <td id=\"T_c9bfb_row4_col9\" class=\"data row4 col9\" >5.00 (3%)</td>\n",
       "    </tr>\n",
       "    <tr>\n",
       "      <td id=\"T_c9bfb_row5_col0\" class=\"data row5 col0\" >Negative</td>\n",
       "      <td id=\"T_c9bfb_row5_col1\" class=\"data row5 col1\" >---</td>\n",
       "      <td id=\"T_c9bfb_row5_col2\" class=\"data row5 col2\" >          </td>\n",
       "      <td id=\"T_c9bfb_row5_col3\" class=\"data row5 col3\" >5%</td>\n",
       "      <td id=\"T_c9bfb_row5_col4\" class=\"data row5 col4\" >1.00</td>\n",
       "      <td id=\"T_c9bfb_row5_col5\" class=\"data row5 col5\" >          </td>\n",
       "      <td id=\"T_c9bfb_row5_col6\" class=\"data row5 col6\" >kurt</td>\n",
       "      <td id=\"T_c9bfb_row5_col7\" class=\"data row5 col7\" >-0.91</td>\n",
       "      <td id=\"T_c9bfb_row5_col8\" class=\"data row5 col8\" >          </td>\n",
       "      <td id=\"T_c9bfb_row5_col9\" class=\"data row5 col9\" >10.00 (2%)</td>\n",
       "    </tr>\n",
       "    <tr>\n",
       "      <td id=\"T_c9bfb_row6_col0\" class=\"data row6 col0\" >RAM (Mb)</td>\n",
       "      <td id=\"T_c9bfb_row6_col1\" class=\"data row6 col1\" ><1 Mb</td>\n",
       "      <td id=\"T_c9bfb_row6_col2\" class=\"data row6 col2\" >          </td>\n",
       "      <td id=\"T_c9bfb_row6_col3\" class=\"data row6 col3\" >Min</td>\n",
       "      <td id=\"T_c9bfb_row6_col4\" class=\"data row6 col4\" >1.00</td>\n",
       "      <td id=\"T_c9bfb_row6_col5\" class=\"data row6 col5\" >          </td>\n",
       "      <td id=\"T_c9bfb_row6_col6\" class=\"data row6 col6\" >skew</td>\n",
       "      <td id=\"T_c9bfb_row6_col7\" class=\"data row6 col7\" >0.81</td>\n",
       "      <td id=\"T_c9bfb_row6_col8\" class=\"data row6 col8\" >          </td>\n",
       "      <td id=\"T_c9bfb_row6_col9\" class=\"data row6 col9\" >9.00 (2%)</td>\n",
       "    </tr>\n",
       "  </tbody>\n",
       "</table>\n",
       "\n",
       "                <div>\n",
       "                    <img src=\"data:image/png;base64,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\" alt=\"График\"/>\n",
       "                </div>\n",
       "                      \n",
       "            </div>\n",
       "            "
      ],
      "text/plain": [
       "<IPython.core.display.HTML object>"
      ]
     },
     "metadata": {},
     "output_type": "display_data"
    }
   ],
   "source": [
    "gen.next()"
   ]
  },
  {
   "cell_type": "markdown",
   "metadata": {},
   "source": [
    "**Наблюдения:**  \n",
    "\n",
    "- У 55% клиентов остался один месяц до завершения абонента."
   ]
  },
  {
   "cell_type": "code",
   "execution_count": 9,
   "metadata": {},
   "outputs": [
    {
     "data": {
      "text/html": [
       "\n",
       "            <div style=\"display: flex; justify-content: flex-start; align-items: flex-end;\">\n",
       "                <style type=\"text/css\">\n",
       "#T_f50fd caption {\n",
       "  font-size: 16px;\n",
       "  text-align: left;\n",
       "  font-weight: bold;\n",
       "}\n",
       "#T_f50fd_row0_col0, #T_f50fd_row0_col1, #T_f50fd_row0_col2, #T_f50fd_row0_col3, #T_f50fd_row0_col4, #T_f50fd_row0_col5, #T_f50fd_row0_col6, #T_f50fd_row0_col7, #T_f50fd_row0_col8, #T_f50fd_row0_col9, #T_f50fd_row1_col0, #T_f50fd_row1_col1, #T_f50fd_row1_col2, #T_f50fd_row1_col3, #T_f50fd_row1_col4, #T_f50fd_row1_col5, #T_f50fd_row1_col6, #T_f50fd_row1_col7, #T_f50fd_row1_col8, #T_f50fd_row1_col9, #T_f50fd_row2_col0, #T_f50fd_row2_col1, #T_f50fd_row2_col2, #T_f50fd_row2_col3, #T_f50fd_row2_col4, #T_f50fd_row2_col5, #T_f50fd_row2_col6, #T_f50fd_row2_col7, #T_f50fd_row2_col8, #T_f50fd_row2_col9, #T_f50fd_row3_col0, #T_f50fd_row3_col1, #T_f50fd_row3_col2, #T_f50fd_row3_col3, #T_f50fd_row3_col4, #T_f50fd_row3_col5, #T_f50fd_row3_col6, #T_f50fd_row3_col7, #T_f50fd_row3_col8, #T_f50fd_row3_col9, #T_f50fd_row4_col0, #T_f50fd_row4_col1, #T_f50fd_row4_col2, #T_f50fd_row4_col3, #T_f50fd_row4_col4, #T_f50fd_row4_col5, #T_f50fd_row4_col6, #T_f50fd_row4_col7, #T_f50fd_row4_col8, #T_f50fd_row4_col9, #T_f50fd_row5_col0, #T_f50fd_row5_col1, #T_f50fd_row5_col2, #T_f50fd_row5_col3, #T_f50fd_row5_col4, #T_f50fd_row5_col5, #T_f50fd_row5_col6, #T_f50fd_row5_col7, #T_f50fd_row5_col8, #T_f50fd_row5_col9, #T_f50fd_row6_col0, #T_f50fd_row6_col1, #T_f50fd_row6_col2, #T_f50fd_row6_col3, #T_f50fd_row6_col4, #T_f50fd_row6_col5, #T_f50fd_row6_col6, #T_f50fd_row6_col7, #T_f50fd_row6_col8, #T_f50fd_row6_col9 {\n",
       "  text-align: left;\n",
       "}\n",
       "</style>\n",
       "<table id=\"T_f50fd\">\n",
       "  <caption>Статистика и гистограмма столбца \"lifetime\"</caption>\n",
       "  <thead>\n",
       "  </thead>\n",
       "  <tbody>\n",
       "    <tr>\n",
       "      <td id=\"T_f50fd_row0_col0\" class=\"data row0 col0\" >Values</td>\n",
       "      <td id=\"T_f50fd_row0_col1\" class=\"data row0 col1\" >4.00k (100%)</td>\n",
       "      <td id=\"T_f50fd_row0_col2\" class=\"data row0 col2\" >          </td>\n",
       "      <td id=\"T_f50fd_row0_col3\" class=\"data row0 col3\" >Max</td>\n",
       "      <td id=\"T_f50fd_row0_col4\" class=\"data row0 col4\" >31.00</td>\n",
       "      <td id=\"T_f50fd_row0_col5\" class=\"data row0 col5\" >          </td>\n",
       "      <td id=\"T_f50fd_row0_col6\" class=\"data row0 col6\" >Avg</td>\n",
       "      <td id=\"T_f50fd_row0_col7\" class=\"data row0 col7\" >3.72</td>\n",
       "      <td id=\"T_f50fd_row0_col8\" class=\"data row0 col8\" >          </td>\n",
       "      <td id=\"T_f50fd_row0_col9\" class=\"data row0 col9\" >1.00 (21%)</td>\n",
       "    </tr>\n",
       "    <tr>\n",
       "      <td id=\"T_f50fd_row1_col0\" class=\"data row1 col0\" >Missing</td>\n",
       "      <td id=\"T_f50fd_row1_col1\" class=\"data row1 col1\" >---</td>\n",
       "      <td id=\"T_f50fd_row1_col2\" class=\"data row1 col2\" >          </td>\n",
       "      <td id=\"T_f50fd_row1_col3\" class=\"data row1 col3\" >95%</td>\n",
       "      <td id=\"T_f50fd_row1_col4\" class=\"data row1 col4\" >11.00</td>\n",
       "      <td id=\"T_f50fd_row1_col5\" class=\"data row1 col5\" >          </td>\n",
       "      <td id=\"T_f50fd_row1_col6\" class=\"data row1 col6\" >Mode</td>\n",
       "      <td id=\"T_f50fd_row1_col7\" class=\"data row1 col7\" >1.00</td>\n",
       "      <td id=\"T_f50fd_row1_col8\" class=\"data row1 col8\" >          </td>\n",
       "      <td id=\"T_f50fd_row1_col9\" class=\"data row1 col9\" >2.00 (15%)</td>\n",
       "    </tr>\n",
       "    <tr>\n",
       "      <td id=\"T_f50fd_row2_col0\" class=\"data row2 col0\" >Distinct</td>\n",
       "      <td id=\"T_f50fd_row2_col1\" class=\"data row2 col1\" >29.00 (1%)</td>\n",
       "      <td id=\"T_f50fd_row2_col2\" class=\"data row2 col2\" >          </td>\n",
       "      <td id=\"T_f50fd_row2_col3\" class=\"data row2 col3\" >75%</td>\n",
       "      <td id=\"T_f50fd_row2_col4\" class=\"data row2 col4\" >5.00</td>\n",
       "      <td id=\"T_f50fd_row2_col5\" class=\"data row2 col5\" >          </td>\n",
       "      <td id=\"T_f50fd_row2_col6\" class=\"data row2 col6\" >Range</td>\n",
       "      <td id=\"T_f50fd_row2_col7\" class=\"data row2 col7\" >31.00</td>\n",
       "      <td id=\"T_f50fd_row2_col8\" class=\"data row2 col8\" >          </td>\n",
       "      <td id=\"T_f50fd_row2_col9\" class=\"data row2 col9\" >3.00 (12%)</td>\n",
       "    </tr>\n",
       "    <tr>\n",
       "      <td id=\"T_f50fd_row3_col0\" class=\"data row3 col0\" >Duplicates</td>\n",
       "      <td id=\"T_f50fd_row3_col1\" class=\"data row3 col1\" >3.97k (99.3%)</td>\n",
       "      <td id=\"T_f50fd_row3_col2\" class=\"data row3 col2\" >          </td>\n",
       "      <td id=\"T_f50fd_row3_col3\" class=\"data row3 col3\" >50%</td>\n",
       "      <td id=\"T_f50fd_row3_col4\" class=\"data row3 col4\" >3.00</td>\n",
       "      <td id=\"T_f50fd_row3_col5\" class=\"data row3 col5\" >          </td>\n",
       "      <td id=\"T_f50fd_row3_col6\" class=\"data row3 col6\" >iQR</td>\n",
       "      <td id=\"T_f50fd_row3_col7\" class=\"data row3 col7\" >4.00</td>\n",
       "      <td id=\"T_f50fd_row3_col8\" class=\"data row3 col8\" >          </td>\n",
       "      <td id=\"T_f50fd_row3_col9\" class=\"data row3 col9\" >0.00 (12%)</td>\n",
       "    </tr>\n",
       "    <tr>\n",
       "      <td id=\"T_f50fd_row4_col0\" class=\"data row4 col0\" >Zeros</td>\n",
       "      <td id=\"T_f50fd_row4_col1\" class=\"data row4 col1\" >487.00 (12%)</td>\n",
       "      <td id=\"T_f50fd_row4_col2\" class=\"data row4 col2\" >          </td>\n",
       "      <td id=\"T_f50fd_row4_col3\" class=\"data row4 col3\" >25%</td>\n",
       "      <td id=\"T_f50fd_row4_col4\" class=\"data row4 col4\" >1.00</td>\n",
       "      <td id=\"T_f50fd_row4_col5\" class=\"data row4 col5\" >          </td>\n",
       "      <td id=\"T_f50fd_row4_col6\" class=\"data row4 col6\" >std</td>\n",
       "      <td id=\"T_f50fd_row4_col7\" class=\"data row4 col7\" >3.75</td>\n",
       "      <td id=\"T_f50fd_row4_col8\" class=\"data row4 col8\" >          </td>\n",
       "      <td id=\"T_f50fd_row4_col9\" class=\"data row4 col9\" >4.00 (10%)</td>\n",
       "    </tr>\n",
       "    <tr>\n",
       "      <td id=\"T_f50fd_row5_col0\" class=\"data row5 col0\" >Negative</td>\n",
       "      <td id=\"T_f50fd_row5_col1\" class=\"data row5 col1\" >---</td>\n",
       "      <td id=\"T_f50fd_row5_col2\" class=\"data row5 col2\" >          </td>\n",
       "      <td id=\"T_f50fd_row5_col3\" class=\"data row5 col3\" >5%</td>\n",
       "      <td id=\"T_f50fd_row5_col4\" class=\"data row5 col4\" >0.00</td>\n",
       "      <td id=\"T_f50fd_row5_col5\" class=\"data row5 col5\" >          </td>\n",
       "      <td id=\"T_f50fd_row5_col6\" class=\"data row5 col6\" >kurt</td>\n",
       "      <td id=\"T_f50fd_row5_col7\" class=\"data row5 col7\" >5.27</td>\n",
       "      <td id=\"T_f50fd_row5_col8\" class=\"data row5 col8\" >          </td>\n",
       "      <td id=\"T_f50fd_row5_col9\" class=\"data row5 col9\" >5.00 (7%)</td>\n",
       "    </tr>\n",
       "    <tr>\n",
       "      <td id=\"T_f50fd_row6_col0\" class=\"data row6 col0\" >RAM (Mb)</td>\n",
       "      <td id=\"T_f50fd_row6_col1\" class=\"data row6 col1\" ><1 Mb</td>\n",
       "      <td id=\"T_f50fd_row6_col2\" class=\"data row6 col2\" >          </td>\n",
       "      <td id=\"T_f50fd_row6_col3\" class=\"data row6 col3\" >Min</td>\n",
       "      <td id=\"T_f50fd_row6_col4\" class=\"data row6 col4\" >0.00</td>\n",
       "      <td id=\"T_f50fd_row6_col5\" class=\"data row6 col5\" >          </td>\n",
       "      <td id=\"T_f50fd_row6_col6\" class=\"data row6 col6\" >skew</td>\n",
       "      <td id=\"T_f50fd_row6_col7\" class=\"data row6 col7\" >1.93</td>\n",
       "      <td id=\"T_f50fd_row6_col8\" class=\"data row6 col8\" >          </td>\n",
       "      <td id=\"T_f50fd_row6_col9\" class=\"data row6 col9\" >6.00 (6%)</td>\n",
       "    </tr>\n",
       "  </tbody>\n",
       "</table>\n",
       "\n",
       "                <div>\n",
       "                    <img src=\"data:image/png;base64,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\" alt=\"График\"/>\n",
       "                </div>\n",
       "                      \n",
       "            </div>\n",
       "            "
      ],
      "text/plain": [
       "<IPython.core.display.HTML object>"
      ]
     },
     "metadata": {},
     "output_type": "display_data"
    }
   ],
   "source": [
    "gen.next()"
   ]
  },
  {
   "cell_type": "markdown",
   "metadata": {},
   "source": [
    "**Наблюдения:**  \n",
    "\n",
    "- Время с первого обращения лежит в диапазоне от 0 до 31 месяца.\n",
    "- В основном, время с первого обращения варьируется от 0 до 5 месяцев.\n",
    "- Больше всего клиентов, которые первый раз пришли в фитнес-центр месяц назад (21%)."
   ]
  },
  {
   "cell_type": "code",
   "execution_count": 10,
   "metadata": {},
   "outputs": [
    {
     "data": {
      "text/html": [
       "\n",
       "            <div style=\"display: flex; justify-content: flex-start; align-items: flex-end;\">\n",
       "                <style type=\"text/css\">\n",
       "#T_15674 caption {\n",
       "  font-size: 16px;\n",
       "  text-align: left;\n",
       "  font-weight: bold;\n",
       "}\n",
       "#T_15674_row0_col0, #T_15674_row0_col1, #T_15674_row0_col2, #T_15674_row0_col3, #T_15674_row0_col4, #T_15674_row0_col5, #T_15674_row0_col6, #T_15674_row0_col7, #T_15674_row0_col8, #T_15674_row0_col9, #T_15674_row1_col0, #T_15674_row1_col1, #T_15674_row1_col2, #T_15674_row1_col3, #T_15674_row1_col4, #T_15674_row1_col5, #T_15674_row1_col6, #T_15674_row1_col7, #T_15674_row1_col8, #T_15674_row1_col9, #T_15674_row2_col0, #T_15674_row2_col1, #T_15674_row2_col2, #T_15674_row2_col3, #T_15674_row2_col4, #T_15674_row2_col5, #T_15674_row2_col6, #T_15674_row2_col7, #T_15674_row2_col8, #T_15674_row2_col9, #T_15674_row3_col0, #T_15674_row3_col1, #T_15674_row3_col2, #T_15674_row3_col3, #T_15674_row3_col4, #T_15674_row3_col5, #T_15674_row3_col6, #T_15674_row3_col7, #T_15674_row3_col8, #T_15674_row3_col9, #T_15674_row4_col0, #T_15674_row4_col1, #T_15674_row4_col2, #T_15674_row4_col3, #T_15674_row4_col4, #T_15674_row4_col5, #T_15674_row4_col6, #T_15674_row4_col7, #T_15674_row4_col8, #T_15674_row4_col9, #T_15674_row5_col0, #T_15674_row5_col1, #T_15674_row5_col2, #T_15674_row5_col3, #T_15674_row5_col4, #T_15674_row5_col5, #T_15674_row5_col6, #T_15674_row5_col7, #T_15674_row5_col8, #T_15674_row5_col9, #T_15674_row6_col0, #T_15674_row6_col1, #T_15674_row6_col2, #T_15674_row6_col3, #T_15674_row6_col4, #T_15674_row6_col5, #T_15674_row6_col6, #T_15674_row6_col7, #T_15674_row6_col8, #T_15674_row6_col9 {\n",
       "  text-align: left;\n",
       "}\n",
       "</style>\n",
       "<table id=\"T_15674\">\n",
       "  <caption>Статистика и гистограмма столбца \"avg_class_frequency_total\"</caption>\n",
       "  <thead>\n",
       "  </thead>\n",
       "  <tbody>\n",
       "    <tr>\n",
       "      <td id=\"T_15674_row0_col0\" class=\"data row0 col0\" >Values</td>\n",
       "      <td id=\"T_15674_row0_col1\" class=\"data row0 col1\" >4.00k (100%)</td>\n",
       "      <td id=\"T_15674_row0_col2\" class=\"data row0 col2\" >          </td>\n",
       "      <td id=\"T_15674_row0_col3\" class=\"data row0 col3\" >Max</td>\n",
       "      <td id=\"T_15674_row0_col4\" class=\"data row0 col4\" >6.02</td>\n",
       "      <td id=\"T_15674_row0_col5\" class=\"data row0 col5\" >          </td>\n",
       "      <td id=\"T_15674_row0_col6\" class=\"data row0 col6\" >Avg</td>\n",
       "      <td id=\"T_15674_row0_col7\" class=\"data row0 col7\" >1.88</td>\n",
       "      <td id=\"T_15674_row0_col8\" class=\"data row0 col8\" >          </td>\n",
       "      <td id=\"T_15674_row0_col9\" class=\"data row0 col9\" >0.00 (2%)</td>\n",
       "    </tr>\n",
       "    <tr>\n",
       "      <td id=\"T_15674_row1_col0\" class=\"data row1 col0\" >Missing</td>\n",
       "      <td id=\"T_15674_row1_col1\" class=\"data row1 col1\" >---</td>\n",
       "      <td id=\"T_15674_row1_col2\" class=\"data row1 col2\" >          </td>\n",
       "      <td id=\"T_15674_row1_col3\" class=\"data row1 col3\" >95%</td>\n",
       "      <td id=\"T_15674_row1_col4\" class=\"data row1 col4\" >3.54</td>\n",
       "      <td id=\"T_15674_row1_col5\" class=\"data row1 col5\" >          </td>\n",
       "      <td id=\"T_15674_row1_col6\" class=\"data row1 col6\" >Mode</td>\n",
       "      <td id=\"T_15674_row1_col7\" class=\"data row1 col7\" >0.00</td>\n",
       "      <td id=\"T_15674_row1_col8\" class=\"data row1 col8\" >          </td>\n",
       "      <td id=\"T_15674_row1_col9\" class=\"data row1 col9\" >0.02 <1%</td>\n",
       "    </tr>\n",
       "    <tr>\n",
       "      <td id=\"T_15674_row2_col0\" class=\"data row2 col0\" >Distinct</td>\n",
       "      <td id=\"T_15674_row2_col1\" class=\"data row2 col1\" >3.91k (98%)</td>\n",
       "      <td id=\"T_15674_row2_col2\" class=\"data row2 col2\" >          </td>\n",
       "      <td id=\"T_15674_row2_col3\" class=\"data row2 col3\" >75%</td>\n",
       "      <td id=\"T_15674_row2_col4\" class=\"data row2 col4\" >2.54</td>\n",
       "      <td id=\"T_15674_row2_col5\" class=\"data row2 col5\" >          </td>\n",
       "      <td id=\"T_15674_row2_col6\" class=\"data row2 col6\" >Range</td>\n",
       "      <td id=\"T_15674_row2_col7\" class=\"data row2 col7\" >6.02</td>\n",
       "      <td id=\"T_15674_row2_col8\" class=\"data row2 col8\" >          </td>\n",
       "      <td id=\"T_15674_row2_col9\" class=\"data row2 col9\" >2.18 <1%</td>\n",
       "    </tr>\n",
       "    <tr>\n",
       "      <td id=\"T_15674_row3_col0\" class=\"data row3 col0\" >Duplicates</td>\n",
       "      <td id=\"T_15674_row3_col1\" class=\"data row3 col1\" >87.00 (2%)</td>\n",
       "      <td id=\"T_15674_row3_col2\" class=\"data row3 col2\" >          </td>\n",
       "      <td id=\"T_15674_row3_col3\" class=\"data row3 col3\" >50%</td>\n",
       "      <td id=\"T_15674_row3_col4\" class=\"data row3 col4\" >1.83</td>\n",
       "      <td id=\"T_15674_row3_col5\" class=\"data row3 col5\" >          </td>\n",
       "      <td id=\"T_15674_row3_col6\" class=\"data row3 col6\" >iQR</td>\n",
       "      <td id=\"T_15674_row3_col7\" class=\"data row3 col7\" >1.36</td>\n",
       "      <td id=\"T_15674_row3_col8\" class=\"data row3 col8\" >          </td>\n",
       "      <td id=\"T_15674_row3_col9\" class=\"data row3 col9\" >1.98 <1%</td>\n",
       "    </tr>\n",
       "    <tr>\n",
       "      <td id=\"T_15674_row4_col0\" class=\"data row4 col0\" >Zeros</td>\n",
       "      <td id=\"T_15674_row4_col1\" class=\"data row4 col1\" >88.00 (2%)</td>\n",
       "      <td id=\"T_15674_row4_col2\" class=\"data row4 col2\" >          </td>\n",
       "      <td id=\"T_15674_row4_col3\" class=\"data row4 col3\" >25%</td>\n",
       "      <td id=\"T_15674_row4_col4\" class=\"data row4 col4\" >1.18</td>\n",
       "      <td id=\"T_15674_row4_col5\" class=\"data row4 col5\" >          </td>\n",
       "      <td id=\"T_15674_row4_col6\" class=\"data row4 col6\" >std</td>\n",
       "      <td id=\"T_15674_row4_col7\" class=\"data row4 col7\" >0.97</td>\n",
       "      <td id=\"T_15674_row4_col8\" class=\"data row4 col8\" >          </td>\n",
       "      <td id=\"T_15674_row4_col9\" class=\"data row4 col9\" >1.67 <1%</td>\n",
       "    </tr>\n",
       "    <tr>\n",
       "      <td id=\"T_15674_row5_col0\" class=\"data row5 col0\" >Negative</td>\n",
       "      <td id=\"T_15674_row5_col1\" class=\"data row5 col1\" >---</td>\n",
       "      <td id=\"T_15674_row5_col2\" class=\"data row5 col2\" >          </td>\n",
       "      <td id=\"T_15674_row5_col3\" class=\"data row5 col3\" >5%</td>\n",
       "      <td id=\"T_15674_row5_col4\" class=\"data row5 col4\" >0.29</td>\n",
       "      <td id=\"T_15674_row5_col5\" class=\"data row5 col5\" >          </td>\n",
       "      <td id=\"T_15674_row5_col6\" class=\"data row5 col6\" >kurt</td>\n",
       "      <td id=\"T_15674_row5_col7\" class=\"data row5 col7\" >-0.22</td>\n",
       "      <td id=\"T_15674_row5_col8\" class=\"data row5 col8\" >          </td>\n",
       "      <td id=\"T_15674_row5_col9\" class=\"data row5 col9\" >0.77 <1%</td>\n",
       "    </tr>\n",
       "    <tr>\n",
       "      <td id=\"T_15674_row6_col0\" class=\"data row6 col0\" >RAM (Mb)</td>\n",
       "      <td id=\"T_15674_row6_col1\" class=\"data row6 col1\" ><1 Mb</td>\n",
       "      <td id=\"T_15674_row6_col2\" class=\"data row6 col2\" >          </td>\n",
       "      <td id=\"T_15674_row6_col3\" class=\"data row6 col3\" >Min</td>\n",
       "      <td id=\"T_15674_row6_col4\" class=\"data row6 col4\" >0.00</td>\n",
       "      <td id=\"T_15674_row6_col5\" class=\"data row6 col5\" >          </td>\n",
       "      <td id=\"T_15674_row6_col6\" class=\"data row6 col6\" >skew</td>\n",
       "      <td id=\"T_15674_row6_col7\" class=\"data row6 col7\" >0.25</td>\n",
       "      <td id=\"T_15674_row6_col8\" class=\"data row6 col8\" >          </td>\n",
       "      <td id=\"T_15674_row6_col9\" class=\"data row6 col9\" >3.69 <1%</td>\n",
       "    </tr>\n",
       "  </tbody>\n",
       "</table>\n",
       "\n",
       "                <div>\n",
       "                    <img src=\"data:image/png;base64,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\" alt=\"График\"/>\n",
       "                </div>\n",
       "                      \n",
       "            </div>\n",
       "            "
      ],
      "text/plain": [
       "<IPython.core.display.HTML object>"
      ]
     },
     "metadata": {},
     "output_type": "display_data"
    }
   ],
   "source": [
    "gen.next()"
   ]
  },
  {
   "cell_type": "markdown",
   "metadata": {},
   "source": [
    "**Наблюдения:**  \n",
    "\n",
    "- Среднее за все время число посещений в неделю лежит в диапазоне от 0 до 6.02.\n",
    "- В основном, Среднее за все время число посещений в неделю варьируется от 1.18 до 2.54.\n",
    "- 88 (2%) клиентов не посещали фитнес-центр ни разу."
   ]
  },
  {
   "cell_type": "code",
   "execution_count": 11,
   "metadata": {},
   "outputs": [
    {
     "data": {
      "text/html": [
       "\n",
       "            <div style=\"display: flex; justify-content: flex-start; align-items: flex-end;\">\n",
       "                <style type=\"text/css\">\n",
       "#T_0c2c4 caption {\n",
       "  font-size: 16px;\n",
       "  text-align: left;\n",
       "  font-weight: bold;\n",
       "}\n",
       "#T_0c2c4_row0_col0, #T_0c2c4_row0_col1, #T_0c2c4_row0_col2, #T_0c2c4_row0_col3, #T_0c2c4_row0_col4, #T_0c2c4_row0_col5, #T_0c2c4_row0_col6, #T_0c2c4_row0_col7, #T_0c2c4_row0_col8, #T_0c2c4_row0_col9, #T_0c2c4_row1_col0, #T_0c2c4_row1_col1, #T_0c2c4_row1_col2, #T_0c2c4_row1_col3, #T_0c2c4_row1_col4, #T_0c2c4_row1_col5, #T_0c2c4_row1_col6, #T_0c2c4_row1_col7, #T_0c2c4_row1_col8, #T_0c2c4_row1_col9, #T_0c2c4_row2_col0, #T_0c2c4_row2_col1, #T_0c2c4_row2_col2, #T_0c2c4_row2_col3, #T_0c2c4_row2_col4, #T_0c2c4_row2_col5, #T_0c2c4_row2_col6, #T_0c2c4_row2_col7, #T_0c2c4_row2_col8, #T_0c2c4_row2_col9, #T_0c2c4_row3_col0, #T_0c2c4_row3_col1, #T_0c2c4_row3_col2, #T_0c2c4_row3_col3, #T_0c2c4_row3_col4, #T_0c2c4_row3_col5, #T_0c2c4_row3_col6, #T_0c2c4_row3_col7, #T_0c2c4_row3_col8, #T_0c2c4_row3_col9, #T_0c2c4_row4_col0, #T_0c2c4_row4_col1, #T_0c2c4_row4_col2, #T_0c2c4_row4_col3, #T_0c2c4_row4_col4, #T_0c2c4_row4_col5, #T_0c2c4_row4_col6, #T_0c2c4_row4_col7, #T_0c2c4_row4_col8, #T_0c2c4_row4_col9, #T_0c2c4_row5_col0, #T_0c2c4_row5_col1, #T_0c2c4_row5_col2, #T_0c2c4_row5_col3, #T_0c2c4_row5_col4, #T_0c2c4_row5_col5, #T_0c2c4_row5_col6, #T_0c2c4_row5_col7, #T_0c2c4_row5_col8, #T_0c2c4_row5_col9, #T_0c2c4_row6_col0, #T_0c2c4_row6_col1, #T_0c2c4_row6_col2, #T_0c2c4_row6_col3, #T_0c2c4_row6_col4, #T_0c2c4_row6_col5, #T_0c2c4_row6_col6, #T_0c2c4_row6_col7, #T_0c2c4_row6_col8, #T_0c2c4_row6_col9 {\n",
       "  text-align: left;\n",
       "}\n",
       "</style>\n",
       "<table id=\"T_0c2c4\">\n",
       "  <caption>Статистика и гистограмма столбца \"avg_class_frequency_current_month\"</caption>\n",
       "  <thead>\n",
       "  </thead>\n",
       "  <tbody>\n",
       "    <tr>\n",
       "      <td id=\"T_0c2c4_row0_col0\" class=\"data row0 col0\" >Values</td>\n",
       "      <td id=\"T_0c2c4_row0_col1\" class=\"data row0 col1\" >4.00k (100%)</td>\n",
       "      <td id=\"T_0c2c4_row0_col2\" class=\"data row0 col2\" >          </td>\n",
       "      <td id=\"T_0c2c4_row0_col3\" class=\"data row0 col3\" >Max</td>\n",
       "      <td id=\"T_0c2c4_row0_col4\" class=\"data row0 col4\" >6.15</td>\n",
       "      <td id=\"T_0c2c4_row0_col5\" class=\"data row0 col5\" >          </td>\n",
       "      <td id=\"T_0c2c4_row0_col6\" class=\"data row0 col6\" >Avg</td>\n",
       "      <td id=\"T_0c2c4_row0_col7\" class=\"data row0 col7\" >1.77</td>\n",
       "      <td id=\"T_0c2c4_row0_col8\" class=\"data row0 col8\" >          </td>\n",
       "      <td id=\"T_0c2c4_row0_col9\" class=\"data row0 col9\" >0.00 (5%)</td>\n",
       "    </tr>\n",
       "    <tr>\n",
       "      <td id=\"T_0c2c4_row1_col0\" class=\"data row1 col0\" >Missing</td>\n",
       "      <td id=\"T_0c2c4_row1_col1\" class=\"data row1 col1\" >---</td>\n",
       "      <td id=\"T_0c2c4_row1_col2\" class=\"data row1 col2\" >          </td>\n",
       "      <td id=\"T_0c2c4_row1_col3\" class=\"data row1 col3\" >95%</td>\n",
       "      <td id=\"T_0c2c4_row1_col4\" class=\"data row1 col4\" >3.55</td>\n",
       "      <td id=\"T_0c2c4_row1_col5\" class=\"data row1 col5\" >          </td>\n",
       "      <td id=\"T_0c2c4_row1_col6\" class=\"data row1 col6\" >Mode</td>\n",
       "      <td id=\"T_0c2c4_row1_col7\" class=\"data row1 col7\" >0.00</td>\n",
       "      <td id=\"T_0c2c4_row1_col8\" class=\"data row1 col8\" >          </td>\n",
       "      <td id=\"T_0c2c4_row1_col9\" class=\"data row1 col9\" >1.33 <1%</td>\n",
       "    </tr>\n",
       "    <tr>\n",
       "      <td id=\"T_0c2c4_row2_col0\" class=\"data row2 col0\" >Distinct</td>\n",
       "      <td id=\"T_0c2c4_row2_col1\" class=\"data row2 col1\" >3.82k (96%)</td>\n",
       "      <td id=\"T_0c2c4_row2_col2\" class=\"data row2 col2\" >          </td>\n",
       "      <td id=\"T_0c2c4_row2_col3\" class=\"data row2 col3\" >75%</td>\n",
       "      <td id=\"T_0c2c4_row2_col4\" class=\"data row2 col4\" >2.51</td>\n",
       "      <td id=\"T_0c2c4_row2_col5\" class=\"data row2 col5\" >          </td>\n",
       "      <td id=\"T_0c2c4_row2_col6\" class=\"data row2 col6\" >Range</td>\n",
       "      <td id=\"T_0c2c4_row2_col7\" class=\"data row2 col7\" >6.15</td>\n",
       "      <td id=\"T_0c2c4_row2_col8\" class=\"data row2 col8\" >          </td>\n",
       "      <td id=\"T_0c2c4_row2_col9\" class=\"data row2 col9\" >2.63 <1%</td>\n",
       "    </tr>\n",
       "    <tr>\n",
       "      <td id=\"T_0c2c4_row3_col0\" class=\"data row3 col0\" >Duplicates</td>\n",
       "      <td id=\"T_0c2c4_row3_col1\" class=\"data row3 col1\" >180.00 (4%)</td>\n",
       "      <td id=\"T_0c2c4_row3_col2\" class=\"data row3 col2\" >          </td>\n",
       "      <td id=\"T_0c2c4_row3_col3\" class=\"data row3 col3\" >50%</td>\n",
       "      <td id=\"T_0c2c4_row3_col4\" class=\"data row3 col4\" >1.72</td>\n",
       "      <td id=\"T_0c2c4_row3_col5\" class=\"data row3 col5\" >          </td>\n",
       "      <td id=\"T_0c2c4_row3_col6\" class=\"data row3 col6\" >iQR</td>\n",
       "      <td id=\"T_0c2c4_row3_col7\" class=\"data row3 col7\" >1.55</td>\n",
       "      <td id=\"T_0c2c4_row3_col8\" class=\"data row3 col8\" >          </td>\n",
       "      <td id=\"T_0c2c4_row3_col9\" class=\"data row3 col9\" >1.80 <1%</td>\n",
       "    </tr>\n",
       "    <tr>\n",
       "      <td id=\"T_0c2c4_row4_col0\" class=\"data row4 col0\" >Zeros</td>\n",
       "      <td id=\"T_0c2c4_row4_col1\" class=\"data row4 col1\" >181.00 (5%)</td>\n",
       "      <td id=\"T_0c2c4_row4_col2\" class=\"data row4 col2\" >          </td>\n",
       "      <td id=\"T_0c2c4_row4_col3\" class=\"data row4 col3\" >25%</td>\n",
       "      <td id=\"T_0c2c4_row4_col4\" class=\"data row4 col4\" >0.96</td>\n",
       "      <td id=\"T_0c2c4_row4_col5\" class=\"data row4 col5\" >          </td>\n",
       "      <td id=\"T_0c2c4_row4_col6\" class=\"data row4 col6\" >std</td>\n",
       "      <td id=\"T_0c2c4_row4_col7\" class=\"data row4 col7\" >1.05</td>\n",
       "      <td id=\"T_0c2c4_row4_col8\" class=\"data row4 col8\" >          </td>\n",
       "      <td id=\"T_0c2c4_row4_col9\" class=\"data row4 col9\" >1.52 <1%</td>\n",
       "    </tr>\n",
       "    <tr>\n",
       "      <td id=\"T_0c2c4_row5_col0\" class=\"data row5 col0\" >Negative</td>\n",
       "      <td id=\"T_0c2c4_row5_col1\" class=\"data row5 col1\" >---</td>\n",
       "      <td id=\"T_0c2c4_row5_col2\" class=\"data row5 col2\" >          </td>\n",
       "      <td id=\"T_0c2c4_row5_col3\" class=\"data row5 col3\" >5%</td>\n",
       "      <td id=\"T_0c2c4_row5_col4\" class=\"data row5 col4\" >0.03</td>\n",
       "      <td id=\"T_0c2c4_row5_col5\" class=\"data row5 col5\" >          </td>\n",
       "      <td id=\"T_0c2c4_row5_col6\" class=\"data row5 col6\" >kurt</td>\n",
       "      <td id=\"T_0c2c4_row5_col7\" class=\"data row5 col7\" >-0.47</td>\n",
       "      <td id=\"T_0c2c4_row5_col8\" class=\"data row5 col8\" >          </td>\n",
       "      <td id=\"T_0c2c4_row5_col9\" class=\"data row5 col9\" >1.31 <1%</td>\n",
       "    </tr>\n",
       "    <tr>\n",
       "      <td id=\"T_0c2c4_row6_col0\" class=\"data row6 col0\" >RAM (Mb)</td>\n",
       "      <td id=\"T_0c2c4_row6_col1\" class=\"data row6 col1\" ><1 Mb</td>\n",
       "      <td id=\"T_0c2c4_row6_col2\" class=\"data row6 col2\" >          </td>\n",
       "      <td id=\"T_0c2c4_row6_col3\" class=\"data row6 col3\" >Min</td>\n",
       "      <td id=\"T_0c2c4_row6_col4\" class=\"data row6 col4\" >0.00</td>\n",
       "      <td id=\"T_0c2c4_row6_col5\" class=\"data row6 col5\" >          </td>\n",
       "      <td id=\"T_0c2c4_row6_col6\" class=\"data row6 col6\" >skew</td>\n",
       "      <td id=\"T_0c2c4_row6_col7\" class=\"data row6 col7\" >0.26</td>\n",
       "      <td id=\"T_0c2c4_row6_col8\" class=\"data row6 col8\" >          </td>\n",
       "      <td id=\"T_0c2c4_row6_col9\" class=\"data row6 col9\" >2.14 <1%</td>\n",
       "    </tr>\n",
       "  </tbody>\n",
       "</table>\n",
       "\n",
       "                <div>\n",
       "                    <img src=\"data:image/png;base64,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\" alt=\"График\"/>\n",
       "                </div>\n",
       "                      \n",
       "            </div>\n",
       "            "
      ],
      "text/plain": [
       "<IPython.core.display.HTML object>"
      ]
     },
     "metadata": {},
     "output_type": "display_data"
    }
   ],
   "source": [
    "gen.next()"
   ]
  },
  {
   "cell_type": "markdown",
   "metadata": {},
   "source": [
    "**Наблюдения:**  \n",
    "\n",
    "- Среднее за последний время число посещений в неделю лежит в диапазоне от 0 до 6.15.\n",
    "- В основном, Среднее за все время число посещений в неделю варьируется от 0.96 до 2.51.\n",
    "- 181 (5%) клиентов не посещали фитнес-центр ни разу в этом месяце. Странно, так как это число больше, чем число клиентов, которые вообще не посещали ни разу."
   ]
  },
  {
   "cell_type": "code",
   "execution_count": 12,
   "metadata": {},
   "outputs": [
    {
     "data": {
      "text/html": [
       "\n",
       "            <div style=\"display: flex; justify-content: flex-start; align-items: flex-end;\">\n",
       "                <style type=\"text/css\">\n",
       "#T_5e725 caption {\n",
       "  font-size: 16px;\n",
       "  text-align: left;\n",
       "  font-weight: bold;\n",
       "}\n",
       "#T_5e725 th {\n",
       "  min-width: 100px;\n",
       "}\n",
       "#T_5e725  td {\n",
       "  min-width: 100px;\n",
       "}\n",
       "#T_5e725_row0_col0, #T_5e725_row0_col1, #T_5e725_row0_col2, #T_5e725_row0_col3, #T_5e725_row1_col0, #T_5e725_row1_col1, #T_5e725_row1_col2, #T_5e725_row1_col3, #T_5e725_row2_col0, #T_5e725_row2_col1, #T_5e725_row2_col2, #T_5e725_row2_col3, #T_5e725_row3_col0, #T_5e725_row3_col1, #T_5e725_row3_col2, #T_5e725_row3_col3, #T_5e725_row4_col0, #T_5e725_row4_col1, #T_5e725_row4_col2, #T_5e725_row4_col3, #T_5e725_row5_col0, #T_5e725_row5_col1, #T_5e725_row5_col2, #T_5e725_row5_col3, #T_5e725_row6_col0, #T_5e725_row6_col1, #T_5e725_row6_col2, #T_5e725_row6_col3 {\n",
       "  text-align: left;\n",
       "}\n",
       "</style>\n",
       "<table id=\"T_5e725\">\n",
       "  <caption>Статистика и топ-10 значений столбца \"gender\"</caption>\n",
       "  <thead>\n",
       "  </thead>\n",
       "  <tbody>\n",
       "    <tr>\n",
       "      <td id=\"T_5e725_row0_col0\" class=\"data row0 col0\" >Values</td>\n",
       "      <td id=\"T_5e725_row0_col1\" class=\"data row0 col1\" >4.00k (100%)</td>\n",
       "      <td id=\"T_5e725_row0_col2\" class=\"data row0 col2\" >          </td>\n",
       "      <td id=\"T_5e725_row0_col3\" class=\"data row0 col3\" >1 (51%)</td>\n",
       "    </tr>\n",
       "    <tr>\n",
       "      <td id=\"T_5e725_row1_col0\" class=\"data row1 col0\" >Missing</td>\n",
       "      <td id=\"T_5e725_row1_col1\" class=\"data row1 col1\" >---</td>\n",
       "      <td id=\"T_5e725_row1_col2\" class=\"data row1 col2\" >          </td>\n",
       "      <td id=\"T_5e725_row1_col3\" class=\"data row1 col3\" >0 (49%)</td>\n",
       "    </tr>\n",
       "    <tr>\n",
       "      <td id=\"T_5e725_row2_col0\" class=\"data row2 col0\" >Distinct</td>\n",
       "      <td id=\"T_5e725_row2_col1\" class=\"data row2 col1\" >2.00 (<1%)</td>\n",
       "      <td id=\"T_5e725_row2_col2\" class=\"data row2 col2\" >          </td>\n",
       "      <td id=\"T_5e725_row2_col3\" class=\"data row2 col3\" ></td>\n",
       "    </tr>\n",
       "    <tr>\n",
       "      <td id=\"T_5e725_row3_col0\" class=\"data row3 col0\" >Duplicated origin</td>\n",
       "      <td id=\"T_5e725_row3_col1\" class=\"data row3 col1\" >4.00k (99.9%)</td>\n",
       "      <td id=\"T_5e725_row3_col2\" class=\"data row3 col2\" >          </td>\n",
       "      <td id=\"T_5e725_row3_col3\" class=\"data row3 col3\" ></td>\n",
       "    </tr>\n",
       "    <tr>\n",
       "      <td id=\"T_5e725_row4_col0\" class=\"data row4 col0\" >Dupl (modify - origin)</td>\n",
       "      <td id=\"T_5e725_row4_col1\" class=\"data row4 col1\" >---</td>\n",
       "      <td id=\"T_5e725_row4_col2\" class=\"data row4 col2\" >          </td>\n",
       "      <td id=\"T_5e725_row4_col3\" class=\"data row4 col3\" ></td>\n",
       "    </tr>\n",
       "    <tr>\n",
       "      <td id=\"T_5e725_row5_col0\" class=\"data row5 col0\" >Empty</td>\n",
       "      <td id=\"T_5e725_row5_col1\" class=\"data row5 col1\" >---</td>\n",
       "      <td id=\"T_5e725_row5_col2\" class=\"data row5 col2\" >          </td>\n",
       "      <td id=\"T_5e725_row5_col3\" class=\"data row5 col3\" ></td>\n",
       "    </tr>\n",
       "    <tr>\n",
       "      <td id=\"T_5e725_row6_col0\" class=\"data row6 col0\" >RAM (Mb)</td>\n",
       "      <td id=\"T_5e725_row6_col1\" class=\"data row6 col1\" ><1 Mb</td>\n",
       "      <td id=\"T_5e725_row6_col2\" class=\"data row6 col2\" >          </td>\n",
       "      <td id=\"T_5e725_row6_col3\" class=\"data row6 col3\" ></td>\n",
       "    </tr>\n",
       "  </tbody>\n",
       "</table>\n",
       "\n",
       "                <div>\n",
       "                    <img src=\"data:image/png;base64,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\" alt=\"График\"/>\n",
       "                </div>\n",
       "                      \n",
       "            </div>\n",
       "            "
      ],
      "text/plain": [
       "<IPython.core.display.HTML object>"
      ]
     },
     "metadata": {},
     "output_type": "display_data"
    }
   ],
   "source": [
    "gen.next()"
   ]
  },
  {
   "cell_type": "markdown",
   "metadata": {},
   "source": [
    "**Наблюдения:**  \n",
    "\n",
    "- Пол распределен примерно поровну (51% на 49%)\n"
   ]
  },
  {
   "cell_type": "code",
   "execution_count": 13,
   "metadata": {},
   "outputs": [
    {
     "data": {
      "text/html": [
       "\n",
       "            <div style=\"display: flex; justify-content: flex-start; align-items: flex-end;\">\n",
       "                <style type=\"text/css\">\n",
       "#T_dfdbb caption {\n",
       "  font-size: 16px;\n",
       "  text-align: left;\n",
       "  font-weight: bold;\n",
       "}\n",
       "#T_dfdbb th {\n",
       "  min-width: 100px;\n",
       "}\n",
       "#T_dfdbb  td {\n",
       "  min-width: 100px;\n",
       "}\n",
       "#T_dfdbb_row0_col0, #T_dfdbb_row0_col1, #T_dfdbb_row0_col2, #T_dfdbb_row0_col3, #T_dfdbb_row1_col0, #T_dfdbb_row1_col1, #T_dfdbb_row1_col2, #T_dfdbb_row1_col3, #T_dfdbb_row2_col0, #T_dfdbb_row2_col1, #T_dfdbb_row2_col2, #T_dfdbb_row2_col3, #T_dfdbb_row3_col0, #T_dfdbb_row3_col1, #T_dfdbb_row3_col2, #T_dfdbb_row3_col3, #T_dfdbb_row4_col0, #T_dfdbb_row4_col1, #T_dfdbb_row4_col2, #T_dfdbb_row4_col3, #T_dfdbb_row5_col0, #T_dfdbb_row5_col1, #T_dfdbb_row5_col2, #T_dfdbb_row5_col3, #T_dfdbb_row6_col0, #T_dfdbb_row6_col1, #T_dfdbb_row6_col2, #T_dfdbb_row6_col3 {\n",
       "  text-align: left;\n",
       "}\n",
       "</style>\n",
       "<table id=\"T_dfdbb\">\n",
       "  <caption>Статистика и топ-10 значений столбца \"near_location\"</caption>\n",
       "  <thead>\n",
       "  </thead>\n",
       "  <tbody>\n",
       "    <tr>\n",
       "      <td id=\"T_dfdbb_row0_col0\" class=\"data row0 col0\" >Values</td>\n",
       "      <td id=\"T_dfdbb_row0_col1\" class=\"data row0 col1\" >4.00k (100%)</td>\n",
       "      <td id=\"T_dfdbb_row0_col2\" class=\"data row0 col2\" >          </td>\n",
       "      <td id=\"T_dfdbb_row0_col3\" class=\"data row0 col3\" >1 (85%)</td>\n",
       "    </tr>\n",
       "    <tr>\n",
       "      <td id=\"T_dfdbb_row1_col0\" class=\"data row1 col0\" >Missing</td>\n",
       "      <td id=\"T_dfdbb_row1_col1\" class=\"data row1 col1\" >---</td>\n",
       "      <td id=\"T_dfdbb_row1_col2\" class=\"data row1 col2\" >          </td>\n",
       "      <td id=\"T_dfdbb_row1_col3\" class=\"data row1 col3\" >0 (15%)</td>\n",
       "    </tr>\n",
       "    <tr>\n",
       "      <td id=\"T_dfdbb_row2_col0\" class=\"data row2 col0\" >Distinct</td>\n",
       "      <td id=\"T_dfdbb_row2_col1\" class=\"data row2 col1\" >2.00 (<1%)</td>\n",
       "      <td id=\"T_dfdbb_row2_col2\" class=\"data row2 col2\" >          </td>\n",
       "      <td id=\"T_dfdbb_row2_col3\" class=\"data row2 col3\" ></td>\n",
       "    </tr>\n",
       "    <tr>\n",
       "      <td id=\"T_dfdbb_row3_col0\" class=\"data row3 col0\" >Duplicated origin</td>\n",
       "      <td id=\"T_dfdbb_row3_col1\" class=\"data row3 col1\" >4.00k (99.9%)</td>\n",
       "      <td id=\"T_dfdbb_row3_col2\" class=\"data row3 col2\" >          </td>\n",
       "      <td id=\"T_dfdbb_row3_col3\" class=\"data row3 col3\" ></td>\n",
       "    </tr>\n",
       "    <tr>\n",
       "      <td id=\"T_dfdbb_row4_col0\" class=\"data row4 col0\" >Dupl (modify - origin)</td>\n",
       "      <td id=\"T_dfdbb_row4_col1\" class=\"data row4 col1\" >---</td>\n",
       "      <td id=\"T_dfdbb_row4_col2\" class=\"data row4 col2\" >          </td>\n",
       "      <td id=\"T_dfdbb_row4_col3\" class=\"data row4 col3\" ></td>\n",
       "    </tr>\n",
       "    <tr>\n",
       "      <td id=\"T_dfdbb_row5_col0\" class=\"data row5 col0\" >Empty</td>\n",
       "      <td id=\"T_dfdbb_row5_col1\" class=\"data row5 col1\" >---</td>\n",
       "      <td id=\"T_dfdbb_row5_col2\" class=\"data row5 col2\" >          </td>\n",
       "      <td id=\"T_dfdbb_row5_col3\" class=\"data row5 col3\" ></td>\n",
       "    </tr>\n",
       "    <tr>\n",
       "      <td id=\"T_dfdbb_row6_col0\" class=\"data row6 col0\" >RAM (Mb)</td>\n",
       "      <td id=\"T_dfdbb_row6_col1\" class=\"data row6 col1\" ><1 Mb</td>\n",
       "      <td id=\"T_dfdbb_row6_col2\" class=\"data row6 col2\" >          </td>\n",
       "      <td id=\"T_dfdbb_row6_col3\" class=\"data row6 col3\" ></td>\n",
       "    </tr>\n",
       "  </tbody>\n",
       "</table>\n",
       "\n",
       "                <div>\n",
       "                    <img src=\"data:image/png;base64,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\" alt=\"График\"/>\n",
       "                </div>\n",
       "                      \n",
       "            </div>\n",
       "            "
      ],
      "text/plain": [
       "<IPython.core.display.HTML object>"
      ]
     },
     "metadata": {},
     "output_type": "display_data"
    }
   ],
   "source": [
    "gen.next()"
   ]
  },
  {
   "cell_type": "markdown",
   "metadata": {},
   "source": [
    "**Наблюдения:**  \n",
    "\n",
    "- Клиентов, которые проживают или работают в райное фитнес-центра, больше всего (85%)"
   ]
  },
  {
   "cell_type": "code",
   "execution_count": 14,
   "metadata": {},
   "outputs": [
    {
     "data": {
      "text/html": [
       "\n",
       "            <div style=\"display: flex; justify-content: flex-start; align-items: flex-end;\">\n",
       "                <style type=\"text/css\">\n",
       "#T_10345 caption {\n",
       "  font-size: 16px;\n",
       "  text-align: left;\n",
       "  font-weight: bold;\n",
       "}\n",
       "#T_10345 th {\n",
       "  min-width: 100px;\n",
       "}\n",
       "#T_10345  td {\n",
       "  min-width: 100px;\n",
       "}\n",
       "#T_10345_row0_col0, #T_10345_row0_col1, #T_10345_row0_col2, #T_10345_row0_col3, #T_10345_row1_col0, #T_10345_row1_col1, #T_10345_row1_col2, #T_10345_row1_col3, #T_10345_row2_col0, #T_10345_row2_col1, #T_10345_row2_col2, #T_10345_row2_col3, #T_10345_row3_col0, #T_10345_row3_col1, #T_10345_row3_col2, #T_10345_row3_col3, #T_10345_row4_col0, #T_10345_row4_col1, #T_10345_row4_col2, #T_10345_row4_col3, #T_10345_row5_col0, #T_10345_row5_col1, #T_10345_row5_col2, #T_10345_row5_col3, #T_10345_row6_col0, #T_10345_row6_col1, #T_10345_row6_col2, #T_10345_row6_col3 {\n",
       "  text-align: left;\n",
       "}\n",
       "</style>\n",
       "<table id=\"T_10345\">\n",
       "  <caption>Статистика и топ-10 значений столбца \"partner\"</caption>\n",
       "  <thead>\n",
       "  </thead>\n",
       "  <tbody>\n",
       "    <tr>\n",
       "      <td id=\"T_10345_row0_col0\" class=\"data row0 col0\" >Values</td>\n",
       "      <td id=\"T_10345_row0_col1\" class=\"data row0 col1\" >4.00k (100%)</td>\n",
       "      <td id=\"T_10345_row0_col2\" class=\"data row0 col2\" >          </td>\n",
       "      <td id=\"T_10345_row0_col3\" class=\"data row0 col3\" >0 (51%)</td>\n",
       "    </tr>\n",
       "    <tr>\n",
       "      <td id=\"T_10345_row1_col0\" class=\"data row1 col0\" >Missing</td>\n",
       "      <td id=\"T_10345_row1_col1\" class=\"data row1 col1\" >---</td>\n",
       "      <td id=\"T_10345_row1_col2\" class=\"data row1 col2\" >          </td>\n",
       "      <td id=\"T_10345_row1_col3\" class=\"data row1 col3\" >1 (49%)</td>\n",
       "    </tr>\n",
       "    <tr>\n",
       "      <td id=\"T_10345_row2_col0\" class=\"data row2 col0\" >Distinct</td>\n",
       "      <td id=\"T_10345_row2_col1\" class=\"data row2 col1\" >2.00 (<1%)</td>\n",
       "      <td id=\"T_10345_row2_col2\" class=\"data row2 col2\" >          </td>\n",
       "      <td id=\"T_10345_row2_col3\" class=\"data row2 col3\" ></td>\n",
       "    </tr>\n",
       "    <tr>\n",
       "      <td id=\"T_10345_row3_col0\" class=\"data row3 col0\" >Duplicated origin</td>\n",
       "      <td id=\"T_10345_row3_col1\" class=\"data row3 col1\" >4.00k (99.9%)</td>\n",
       "      <td id=\"T_10345_row3_col2\" class=\"data row3 col2\" >          </td>\n",
       "      <td id=\"T_10345_row3_col3\" class=\"data row3 col3\" ></td>\n",
       "    </tr>\n",
       "    <tr>\n",
       "      <td id=\"T_10345_row4_col0\" class=\"data row4 col0\" >Dupl (modify - origin)</td>\n",
       "      <td id=\"T_10345_row4_col1\" class=\"data row4 col1\" >---</td>\n",
       "      <td id=\"T_10345_row4_col2\" class=\"data row4 col2\" >          </td>\n",
       "      <td id=\"T_10345_row4_col3\" class=\"data row4 col3\" ></td>\n",
       "    </tr>\n",
       "    <tr>\n",
       "      <td id=\"T_10345_row5_col0\" class=\"data row5 col0\" >Empty</td>\n",
       "      <td id=\"T_10345_row5_col1\" class=\"data row5 col1\" >---</td>\n",
       "      <td id=\"T_10345_row5_col2\" class=\"data row5 col2\" >          </td>\n",
       "      <td id=\"T_10345_row5_col3\" class=\"data row5 col3\" ></td>\n",
       "    </tr>\n",
       "    <tr>\n",
       "      <td id=\"T_10345_row6_col0\" class=\"data row6 col0\" >RAM (Mb)</td>\n",
       "      <td id=\"T_10345_row6_col1\" class=\"data row6 col1\" ><1 Mb</td>\n",
       "      <td id=\"T_10345_row6_col2\" class=\"data row6 col2\" >          </td>\n",
       "      <td id=\"T_10345_row6_col3\" class=\"data row6 col3\" ></td>\n",
       "    </tr>\n",
       "  </tbody>\n",
       "</table>\n",
       "\n",
       "                <div>\n",
       "                    <img src=\"data:image/png;base64,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\" alt=\"График\"/>\n",
       "                </div>\n",
       "                      \n",
       "            </div>\n",
       "            "
      ],
      "text/plain": [
       "<IPython.core.display.HTML object>"
      ]
     },
     "metadata": {},
     "output_type": "display_data"
    }
   ],
   "source": [
    "gen.next()"
   ]
  },
  {
   "cell_type": "markdown",
   "metadata": {},
   "source": [
    "**Наблюдения:**  \n",
    "\n",
    "- 49% клиентов являются сотрудниками компании-партнёра клуба.\n"
   ]
  },
  {
   "cell_type": "code",
   "execution_count": 15,
   "metadata": {},
   "outputs": [
    {
     "data": {
      "text/html": [
       "\n",
       "            <div style=\"display: flex; justify-content: flex-start; align-items: flex-end;\">\n",
       "                <style type=\"text/css\">\n",
       "#T_c07db caption {\n",
       "  font-size: 16px;\n",
       "  text-align: left;\n",
       "  font-weight: bold;\n",
       "}\n",
       "#T_c07db th {\n",
       "  min-width: 100px;\n",
       "}\n",
       "#T_c07db  td {\n",
       "  min-width: 100px;\n",
       "}\n",
       "#T_c07db_row0_col0, #T_c07db_row0_col1, #T_c07db_row0_col2, #T_c07db_row0_col3, #T_c07db_row1_col0, #T_c07db_row1_col1, #T_c07db_row1_col2, #T_c07db_row1_col3, #T_c07db_row2_col0, #T_c07db_row2_col1, #T_c07db_row2_col2, #T_c07db_row2_col3, #T_c07db_row3_col0, #T_c07db_row3_col1, #T_c07db_row3_col2, #T_c07db_row3_col3, #T_c07db_row4_col0, #T_c07db_row4_col1, #T_c07db_row4_col2, #T_c07db_row4_col3, #T_c07db_row5_col0, #T_c07db_row5_col1, #T_c07db_row5_col2, #T_c07db_row5_col3, #T_c07db_row6_col0, #T_c07db_row6_col1, #T_c07db_row6_col2, #T_c07db_row6_col3 {\n",
       "  text-align: left;\n",
       "}\n",
       "</style>\n",
       "<table id=\"T_c07db\">\n",
       "  <caption>Статистика и топ-10 значений столбца \"promo_friends\"</caption>\n",
       "  <thead>\n",
       "  </thead>\n",
       "  <tbody>\n",
       "    <tr>\n",
       "      <td id=\"T_c07db_row0_col0\" class=\"data row0 col0\" >Values</td>\n",
       "      <td id=\"T_c07db_row0_col1\" class=\"data row0 col1\" >4.00k (100%)</td>\n",
       "      <td id=\"T_c07db_row0_col2\" class=\"data row0 col2\" >          </td>\n",
       "      <td id=\"T_c07db_row0_col3\" class=\"data row0 col3\" >0 (69%)</td>\n",
       "    </tr>\n",
       "    <tr>\n",
       "      <td id=\"T_c07db_row1_col0\" class=\"data row1 col0\" >Missing</td>\n",
       "      <td id=\"T_c07db_row1_col1\" class=\"data row1 col1\" >---</td>\n",
       "      <td id=\"T_c07db_row1_col2\" class=\"data row1 col2\" >          </td>\n",
       "      <td id=\"T_c07db_row1_col3\" class=\"data row1 col3\" >1 (31%)</td>\n",
       "    </tr>\n",
       "    <tr>\n",
       "      <td id=\"T_c07db_row2_col0\" class=\"data row2 col0\" >Distinct</td>\n",
       "      <td id=\"T_c07db_row2_col1\" class=\"data row2 col1\" >2.00 (<1%)</td>\n",
       "      <td id=\"T_c07db_row2_col2\" class=\"data row2 col2\" >          </td>\n",
       "      <td id=\"T_c07db_row2_col3\" class=\"data row2 col3\" ></td>\n",
       "    </tr>\n",
       "    <tr>\n",
       "      <td id=\"T_c07db_row3_col0\" class=\"data row3 col0\" >Duplicated origin</td>\n",
       "      <td id=\"T_c07db_row3_col1\" class=\"data row3 col1\" >4.00k (99.9%)</td>\n",
       "      <td id=\"T_c07db_row3_col2\" class=\"data row3 col2\" >          </td>\n",
       "      <td id=\"T_c07db_row3_col3\" class=\"data row3 col3\" ></td>\n",
       "    </tr>\n",
       "    <tr>\n",
       "      <td id=\"T_c07db_row4_col0\" class=\"data row4 col0\" >Dupl (modify - origin)</td>\n",
       "      <td id=\"T_c07db_row4_col1\" class=\"data row4 col1\" >---</td>\n",
       "      <td id=\"T_c07db_row4_col2\" class=\"data row4 col2\" >          </td>\n",
       "      <td id=\"T_c07db_row4_col3\" class=\"data row4 col3\" ></td>\n",
       "    </tr>\n",
       "    <tr>\n",
       "      <td id=\"T_c07db_row5_col0\" class=\"data row5 col0\" >Empty</td>\n",
       "      <td id=\"T_c07db_row5_col1\" class=\"data row5 col1\" >---</td>\n",
       "      <td id=\"T_c07db_row5_col2\" class=\"data row5 col2\" >          </td>\n",
       "      <td id=\"T_c07db_row5_col3\" class=\"data row5 col3\" ></td>\n",
       "    </tr>\n",
       "    <tr>\n",
       "      <td id=\"T_c07db_row6_col0\" class=\"data row6 col0\" >RAM (Mb)</td>\n",
       "      <td id=\"T_c07db_row6_col1\" class=\"data row6 col1\" ><1 Mb</td>\n",
       "      <td id=\"T_c07db_row6_col2\" class=\"data row6 col2\" >          </td>\n",
       "      <td id=\"T_c07db_row6_col3\" class=\"data row6 col3\" ></td>\n",
       "    </tr>\n",
       "  </tbody>\n",
       "</table>\n",
       "\n",
       "                <div>\n",
       "                    <img src=\"data:image/png;base64,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\" alt=\"График\"/>\n",
       "                </div>\n",
       "                      \n",
       "            </div>\n",
       "            "
      ],
      "text/plain": [
       "<IPython.core.display.HTML object>"
      ]
     },
     "metadata": {},
     "output_type": "display_data"
    }
   ],
   "source": [
    "gen.next()"
   ]
  },
  {
   "cell_type": "markdown",
   "metadata": {},
   "source": [
    "**Наблюдения:**  \n",
    "\n",
    "- 31% клиентов первый раз записались по акции 'приведи друга'\n"
   ]
  },
  {
   "cell_type": "code",
   "execution_count": 16,
   "metadata": {},
   "outputs": [
    {
     "data": {
      "text/html": [
       "\n",
       "            <div style=\"display: flex; justify-content: flex-start; align-items: flex-end;\">\n",
       "                <style type=\"text/css\">\n",
       "#T_97a21 caption {\n",
       "  font-size: 16px;\n",
       "  text-align: left;\n",
       "  font-weight: bold;\n",
       "}\n",
       "#T_97a21 th {\n",
       "  min-width: 100px;\n",
       "}\n",
       "#T_97a21  td {\n",
       "  min-width: 100px;\n",
       "}\n",
       "#T_97a21_row0_col0, #T_97a21_row0_col1, #T_97a21_row0_col2, #T_97a21_row0_col3, #T_97a21_row1_col0, #T_97a21_row1_col1, #T_97a21_row1_col2, #T_97a21_row1_col3, #T_97a21_row2_col0, #T_97a21_row2_col1, #T_97a21_row2_col2, #T_97a21_row2_col3, #T_97a21_row3_col0, #T_97a21_row3_col1, #T_97a21_row3_col2, #T_97a21_row3_col3, #T_97a21_row4_col0, #T_97a21_row4_col1, #T_97a21_row4_col2, #T_97a21_row4_col3, #T_97a21_row5_col0, #T_97a21_row5_col1, #T_97a21_row5_col2, #T_97a21_row5_col3, #T_97a21_row6_col0, #T_97a21_row6_col1, #T_97a21_row6_col2, #T_97a21_row6_col3 {\n",
       "  text-align: left;\n",
       "}\n",
       "</style>\n",
       "<table id=\"T_97a21\">\n",
       "  <caption>Статистика и топ-10 значений столбца \"phone\"</caption>\n",
       "  <thead>\n",
       "  </thead>\n",
       "  <tbody>\n",
       "    <tr>\n",
       "      <td id=\"T_97a21_row0_col0\" class=\"data row0 col0\" >Values</td>\n",
       "      <td id=\"T_97a21_row0_col1\" class=\"data row0 col1\" >4.00k (100%)</td>\n",
       "      <td id=\"T_97a21_row0_col2\" class=\"data row0 col2\" >          </td>\n",
       "      <td id=\"T_97a21_row0_col3\" class=\"data row0 col3\" >1 (90%)</td>\n",
       "    </tr>\n",
       "    <tr>\n",
       "      <td id=\"T_97a21_row1_col0\" class=\"data row1 col0\" >Missing</td>\n",
       "      <td id=\"T_97a21_row1_col1\" class=\"data row1 col1\" >---</td>\n",
       "      <td id=\"T_97a21_row1_col2\" class=\"data row1 col2\" >          </td>\n",
       "      <td id=\"T_97a21_row1_col3\" class=\"data row1 col3\" >0 (10%)</td>\n",
       "    </tr>\n",
       "    <tr>\n",
       "      <td id=\"T_97a21_row2_col0\" class=\"data row2 col0\" >Distinct</td>\n",
       "      <td id=\"T_97a21_row2_col1\" class=\"data row2 col1\" >2.00 (<1%)</td>\n",
       "      <td id=\"T_97a21_row2_col2\" class=\"data row2 col2\" >          </td>\n",
       "      <td id=\"T_97a21_row2_col3\" class=\"data row2 col3\" ></td>\n",
       "    </tr>\n",
       "    <tr>\n",
       "      <td id=\"T_97a21_row3_col0\" class=\"data row3 col0\" >Duplicated origin</td>\n",
       "      <td id=\"T_97a21_row3_col1\" class=\"data row3 col1\" >4.00k (99.9%)</td>\n",
       "      <td id=\"T_97a21_row3_col2\" class=\"data row3 col2\" >          </td>\n",
       "      <td id=\"T_97a21_row3_col3\" class=\"data row3 col3\" ></td>\n",
       "    </tr>\n",
       "    <tr>\n",
       "      <td id=\"T_97a21_row4_col0\" class=\"data row4 col0\" >Dupl (modify - origin)</td>\n",
       "      <td id=\"T_97a21_row4_col1\" class=\"data row4 col1\" >---</td>\n",
       "      <td id=\"T_97a21_row4_col2\" class=\"data row4 col2\" >          </td>\n",
       "      <td id=\"T_97a21_row4_col3\" class=\"data row4 col3\" ></td>\n",
       "    </tr>\n",
       "    <tr>\n",
       "      <td id=\"T_97a21_row5_col0\" class=\"data row5 col0\" >Empty</td>\n",
       "      <td id=\"T_97a21_row5_col1\" class=\"data row5 col1\" >---</td>\n",
       "      <td id=\"T_97a21_row5_col2\" class=\"data row5 col2\" >          </td>\n",
       "      <td id=\"T_97a21_row5_col3\" class=\"data row5 col3\" ></td>\n",
       "    </tr>\n",
       "    <tr>\n",
       "      <td id=\"T_97a21_row6_col0\" class=\"data row6 col0\" >RAM (Mb)</td>\n",
       "      <td id=\"T_97a21_row6_col1\" class=\"data row6 col1\" ><1 Mb</td>\n",
       "      <td id=\"T_97a21_row6_col2\" class=\"data row6 col2\" >          </td>\n",
       "      <td id=\"T_97a21_row6_col3\" class=\"data row6 col3\" ></td>\n",
       "    </tr>\n",
       "  </tbody>\n",
       "</table>\n",
       "\n",
       "                <div>\n",
       "                    <img src=\"data:image/png;base64,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\" alt=\"График\"/>\n",
       "                </div>\n",
       "                      \n",
       "            </div>\n",
       "            "
      ],
      "text/plain": [
       "<IPython.core.display.HTML object>"
      ]
     },
     "metadata": {},
     "output_type": "display_data"
    }
   ],
   "source": [
    "gen.next()"
   ]
  },
  {
   "cell_type": "markdown",
   "metadata": {},
   "source": [
    "**Наблюдения:**  \n",
    "\n",
    "- У большинства клиентов указан телефон (90%)\n"
   ]
  },
  {
   "cell_type": "code",
   "execution_count": 17,
   "metadata": {},
   "outputs": [
    {
     "data": {
      "text/html": [
       "\n",
       "            <div style=\"display: flex; justify-content: flex-start; align-items: flex-end;\">\n",
       "                <style type=\"text/css\">\n",
       "#T_fb2ae caption {\n",
       "  font-size: 16px;\n",
       "  text-align: left;\n",
       "  font-weight: bold;\n",
       "}\n",
       "#T_fb2ae th {\n",
       "  min-width: 100px;\n",
       "}\n",
       "#T_fb2ae  td {\n",
       "  min-width: 100px;\n",
       "}\n",
       "#T_fb2ae_row0_col0, #T_fb2ae_row0_col1, #T_fb2ae_row0_col2, #T_fb2ae_row0_col3, #T_fb2ae_row1_col0, #T_fb2ae_row1_col1, #T_fb2ae_row1_col2, #T_fb2ae_row1_col3, #T_fb2ae_row2_col0, #T_fb2ae_row2_col1, #T_fb2ae_row2_col2, #T_fb2ae_row2_col3, #T_fb2ae_row3_col0, #T_fb2ae_row3_col1, #T_fb2ae_row3_col2, #T_fb2ae_row3_col3, #T_fb2ae_row4_col0, #T_fb2ae_row4_col1, #T_fb2ae_row4_col2, #T_fb2ae_row4_col3, #T_fb2ae_row5_col0, #T_fb2ae_row5_col1, #T_fb2ae_row5_col2, #T_fb2ae_row5_col3, #T_fb2ae_row6_col0, #T_fb2ae_row6_col1, #T_fb2ae_row6_col2, #T_fb2ae_row6_col3 {\n",
       "  text-align: left;\n",
       "}\n",
       "</style>\n",
       "<table id=\"T_fb2ae\">\n",
       "  <caption>Статистика и топ-10 значений столбца \"group_visits\"</caption>\n",
       "  <thead>\n",
       "  </thead>\n",
       "  <tbody>\n",
       "    <tr>\n",
       "      <td id=\"T_fb2ae_row0_col0\" class=\"data row0 col0\" >Values</td>\n",
       "      <td id=\"T_fb2ae_row0_col1\" class=\"data row0 col1\" >4.00k (100%)</td>\n",
       "      <td id=\"T_fb2ae_row0_col2\" class=\"data row0 col2\" >          </td>\n",
       "      <td id=\"T_fb2ae_row0_col3\" class=\"data row0 col3\" >0 (59%)</td>\n",
       "    </tr>\n",
       "    <tr>\n",
       "      <td id=\"T_fb2ae_row1_col0\" class=\"data row1 col0\" >Missing</td>\n",
       "      <td id=\"T_fb2ae_row1_col1\" class=\"data row1 col1\" >---</td>\n",
       "      <td id=\"T_fb2ae_row1_col2\" class=\"data row1 col2\" >          </td>\n",
       "      <td id=\"T_fb2ae_row1_col3\" class=\"data row1 col3\" >1 (41%)</td>\n",
       "    </tr>\n",
       "    <tr>\n",
       "      <td id=\"T_fb2ae_row2_col0\" class=\"data row2 col0\" >Distinct</td>\n",
       "      <td id=\"T_fb2ae_row2_col1\" class=\"data row2 col1\" >2.00 (<1%)</td>\n",
       "      <td id=\"T_fb2ae_row2_col2\" class=\"data row2 col2\" >          </td>\n",
       "      <td id=\"T_fb2ae_row2_col3\" class=\"data row2 col3\" ></td>\n",
       "    </tr>\n",
       "    <tr>\n",
       "      <td id=\"T_fb2ae_row3_col0\" class=\"data row3 col0\" >Duplicated origin</td>\n",
       "      <td id=\"T_fb2ae_row3_col1\" class=\"data row3 col1\" >4.00k (99.9%)</td>\n",
       "      <td id=\"T_fb2ae_row3_col2\" class=\"data row3 col2\" >          </td>\n",
       "      <td id=\"T_fb2ae_row3_col3\" class=\"data row3 col3\" ></td>\n",
       "    </tr>\n",
       "    <tr>\n",
       "      <td id=\"T_fb2ae_row4_col0\" class=\"data row4 col0\" >Dupl (modify - origin)</td>\n",
       "      <td id=\"T_fb2ae_row4_col1\" class=\"data row4 col1\" >---</td>\n",
       "      <td id=\"T_fb2ae_row4_col2\" class=\"data row4 col2\" >          </td>\n",
       "      <td id=\"T_fb2ae_row4_col3\" class=\"data row4 col3\" ></td>\n",
       "    </tr>\n",
       "    <tr>\n",
       "      <td id=\"T_fb2ae_row5_col0\" class=\"data row5 col0\" >Empty</td>\n",
       "      <td id=\"T_fb2ae_row5_col1\" class=\"data row5 col1\" >---</td>\n",
       "      <td id=\"T_fb2ae_row5_col2\" class=\"data row5 col2\" >          </td>\n",
       "      <td id=\"T_fb2ae_row5_col3\" class=\"data row5 col3\" ></td>\n",
       "    </tr>\n",
       "    <tr>\n",
       "      <td id=\"T_fb2ae_row6_col0\" class=\"data row6 col0\" >RAM (Mb)</td>\n",
       "      <td id=\"T_fb2ae_row6_col1\" class=\"data row6 col1\" ><1 Mb</td>\n",
       "      <td id=\"T_fb2ae_row6_col2\" class=\"data row6 col2\" >          </td>\n",
       "      <td id=\"T_fb2ae_row6_col3\" class=\"data row6 col3\" ></td>\n",
       "    </tr>\n",
       "  </tbody>\n",
       "</table>\n",
       "\n",
       "                <div>\n",
       "                    <img src=\"data:image/png;base64,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\" alt=\"График\"/>\n",
       "                </div>\n",
       "                      \n",
       "            </div>\n",
       "            "
      ],
      "text/plain": [
       "<IPython.core.display.HTML object>"
      ]
     },
     "metadata": {},
     "output_type": "display_data"
    }
   ],
   "source": [
    "gen.next()"
   ]
  },
  {
   "cell_type": "markdown",
   "metadata": {},
   "source": [
    "**Наблюдения:**  \n",
    "\n",
    "- 41% клиентов посещали груповые занятия.\n"
   ]
  },
  {
   "cell_type": "code",
   "execution_count": 18,
   "metadata": {},
   "outputs": [
    {
     "data": {
      "text/html": [
       "\n",
       "            <div style=\"display: flex; justify-content: flex-start; align-items: flex-end;\">\n",
       "                <style type=\"text/css\">\n",
       "#T_1220f caption {\n",
       "  font-size: 16px;\n",
       "  text-align: left;\n",
       "  font-weight: bold;\n",
       "}\n",
       "#T_1220f th {\n",
       "  min-width: 100px;\n",
       "}\n",
       "#T_1220f  td {\n",
       "  min-width: 100px;\n",
       "}\n",
       "#T_1220f_row0_col0, #T_1220f_row0_col1, #T_1220f_row0_col2, #T_1220f_row0_col3, #T_1220f_row1_col0, #T_1220f_row1_col1, #T_1220f_row1_col2, #T_1220f_row1_col3, #T_1220f_row2_col0, #T_1220f_row2_col1, #T_1220f_row2_col2, #T_1220f_row2_col3, #T_1220f_row3_col0, #T_1220f_row3_col1, #T_1220f_row3_col2, #T_1220f_row3_col3, #T_1220f_row4_col0, #T_1220f_row4_col1, #T_1220f_row4_col2, #T_1220f_row4_col3, #T_1220f_row5_col0, #T_1220f_row5_col1, #T_1220f_row5_col2, #T_1220f_row5_col3, #T_1220f_row6_col0, #T_1220f_row6_col1, #T_1220f_row6_col2, #T_1220f_row6_col3 {\n",
       "  text-align: left;\n",
       "}\n",
       "</style>\n",
       "<table id=\"T_1220f\">\n",
       "  <caption>Статистика и топ-10 значений столбца \"churn\"</caption>\n",
       "  <thead>\n",
       "  </thead>\n",
       "  <tbody>\n",
       "    <tr>\n",
       "      <td id=\"T_1220f_row0_col0\" class=\"data row0 col0\" >Values</td>\n",
       "      <td id=\"T_1220f_row0_col1\" class=\"data row0 col1\" >4.00k (100%)</td>\n",
       "      <td id=\"T_1220f_row0_col2\" class=\"data row0 col2\" >          </td>\n",
       "      <td id=\"T_1220f_row0_col3\" class=\"data row0 col3\" >0 (73%)</td>\n",
       "    </tr>\n",
       "    <tr>\n",
       "      <td id=\"T_1220f_row1_col0\" class=\"data row1 col0\" >Missing</td>\n",
       "      <td id=\"T_1220f_row1_col1\" class=\"data row1 col1\" >---</td>\n",
       "      <td id=\"T_1220f_row1_col2\" class=\"data row1 col2\" >          </td>\n",
       "      <td id=\"T_1220f_row1_col3\" class=\"data row1 col3\" >1 (27%)</td>\n",
       "    </tr>\n",
       "    <tr>\n",
       "      <td id=\"T_1220f_row2_col0\" class=\"data row2 col0\" >Distinct</td>\n",
       "      <td id=\"T_1220f_row2_col1\" class=\"data row2 col1\" >2.00 (<1%)</td>\n",
       "      <td id=\"T_1220f_row2_col2\" class=\"data row2 col2\" >          </td>\n",
       "      <td id=\"T_1220f_row2_col3\" class=\"data row2 col3\" ></td>\n",
       "    </tr>\n",
       "    <tr>\n",
       "      <td id=\"T_1220f_row3_col0\" class=\"data row3 col0\" >Duplicated origin</td>\n",
       "      <td id=\"T_1220f_row3_col1\" class=\"data row3 col1\" >4.00k (99.9%)</td>\n",
       "      <td id=\"T_1220f_row3_col2\" class=\"data row3 col2\" >          </td>\n",
       "      <td id=\"T_1220f_row3_col3\" class=\"data row3 col3\" ></td>\n",
       "    </tr>\n",
       "    <tr>\n",
       "      <td id=\"T_1220f_row4_col0\" class=\"data row4 col0\" >Dupl (modify - origin)</td>\n",
       "      <td id=\"T_1220f_row4_col1\" class=\"data row4 col1\" >---</td>\n",
       "      <td id=\"T_1220f_row4_col2\" class=\"data row4 col2\" >          </td>\n",
       "      <td id=\"T_1220f_row4_col3\" class=\"data row4 col3\" ></td>\n",
       "    </tr>\n",
       "    <tr>\n",
       "      <td id=\"T_1220f_row5_col0\" class=\"data row5 col0\" >Empty</td>\n",
       "      <td id=\"T_1220f_row5_col1\" class=\"data row5 col1\" >---</td>\n",
       "      <td id=\"T_1220f_row5_col2\" class=\"data row5 col2\" >          </td>\n",
       "      <td id=\"T_1220f_row5_col3\" class=\"data row5 col3\" ></td>\n",
       "    </tr>\n",
       "    <tr>\n",
       "      <td id=\"T_1220f_row6_col0\" class=\"data row6 col0\" >RAM (Mb)</td>\n",
       "      <td id=\"T_1220f_row6_col1\" class=\"data row6 col1\" ><1 Mb</td>\n",
       "      <td id=\"T_1220f_row6_col2\" class=\"data row6 col2\" >          </td>\n",
       "      <td id=\"T_1220f_row6_col3\" class=\"data row6 col3\" ></td>\n",
       "    </tr>\n",
       "  </tbody>\n",
       "</table>\n",
       "\n",
       "                <div>\n",
       "                    <img src=\"data:image/png;base64,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\" alt=\"График\"/>\n",
       "                </div>\n",
       "                      \n",
       "            </div>\n",
       "            "
      ],
      "text/plain": [
       "<IPython.core.display.HTML object>"
      ]
     },
     "metadata": {},
     "output_type": "display_data"
    }
   ],
   "source": [
    "gen.next()"
   ]
  },
  {
   "cell_type": "markdown",
   "metadata": {},
   "source": [
    "**Наблюдения:**  \n",
    "\n",
    "- 27% клиентов числятся ушедшими.\n"
   ]
  },
  {
   "cell_type": "markdown",
   "metadata": {},
   "source": [
    "Изучим средние значения для каждого показателя отдельно для ушедших и оставшихся клиентов."
   ]
  },
  {
   "cell_type": "code",
   "execution_count": 19,
   "metadata": {},
   "outputs": [
    {
     "data": {
      "text/html": [
       "<div>\n",
       "<style scoped>\n",
       "    .dataframe tbody tr th:only-of-type {\n",
       "        vertical-align: middle;\n",
       "    }\n",
       "\n",
       "    .dataframe tbody tr th {\n",
       "        vertical-align: top;\n",
       "    }\n",
       "\n",
       "    .dataframe thead th {\n",
       "        text-align: right;\n",
       "    }\n",
       "</style>\n",
       "<table border=\"1\" class=\"dataframe\">\n",
       "  <thead>\n",
       "    <tr style=\"text-align: right;\">\n",
       "      <th>churn</th>\n",
       "      <th>0</th>\n",
       "      <th>1</th>\n",
       "      <th>churn_feature_share</th>\n",
       "    </tr>\n",
       "  </thead>\n",
       "  <tbody>\n",
       "    <tr>\n",
       "      <th>lifetime</th>\n",
       "      <td>4.71</td>\n",
       "      <td>0.99</td>\n",
       "      <td>21.02</td>\n",
       "    </tr>\n",
       "    <tr>\n",
       "      <th>contract_period</th>\n",
       "      <td>5.75</td>\n",
       "      <td>1.73</td>\n",
       "      <td>30.08</td>\n",
       "    </tr>\n",
       "    <tr>\n",
       "      <th>month_to_end_contract</th>\n",
       "      <td>5.28</td>\n",
       "      <td>1.66</td>\n",
       "      <td>31.47</td>\n",
       "    </tr>\n",
       "    <tr>\n",
       "      <th>avg_class_frequency_current_month</th>\n",
       "      <td>2.03</td>\n",
       "      <td>1.04</td>\n",
       "      <td>51.51</td>\n",
       "    </tr>\n",
       "    <tr>\n",
       "      <th>promo_friends</th>\n",
       "      <td>0.35</td>\n",
       "      <td>0.18</td>\n",
       "      <td>51.99</td>\n",
       "    </tr>\n",
       "    <tr>\n",
       "      <th>group_visits</th>\n",
       "      <td>0.46</td>\n",
       "      <td>0.27</td>\n",
       "      <td>57.88</td>\n",
       "    </tr>\n",
       "    <tr>\n",
       "      <th>partner</th>\n",
       "      <td>0.53</td>\n",
       "      <td>0.36</td>\n",
       "      <td>66.52</td>\n",
       "    </tr>\n",
       "    <tr>\n",
       "      <th>avg_additional_charges_total</th>\n",
       "      <td>158.45</td>\n",
       "      <td>115.08</td>\n",
       "      <td>72.63</td>\n",
       "    </tr>\n",
       "    <tr>\n",
       "      <th>avg_class_frequency_total</th>\n",
       "      <td>2.02</td>\n",
       "      <td>1.47</td>\n",
       "      <td>72.84</td>\n",
       "    </tr>\n",
       "    <tr>\n",
       "      <th>near_location</th>\n",
       "      <td>0.87</td>\n",
       "      <td>0.77</td>\n",
       "      <td>87.98</td>\n",
       "    </tr>\n",
       "    <tr>\n",
       "      <th>age</th>\n",
       "      <td>29.98</td>\n",
       "      <td>26.99</td>\n",
       "      <td>90.04</td>\n",
       "    </tr>\n",
       "    <tr>\n",
       "      <th>phone</th>\n",
       "      <td>0.90</td>\n",
       "      <td>0.90</td>\n",
       "      <td>99.91</td>\n",
       "    </tr>\n",
       "    <tr>\n",
       "      <th>gender</th>\n",
       "      <td>0.51</td>\n",
       "      <td>0.51</td>\n",
       "      <td>100.16</td>\n",
       "    </tr>\n",
       "  </tbody>\n",
       "</table>\n",
       "</div>"
      ],
      "text/plain": [
       "churn                                  0      1  churn_feature_share\n",
       "lifetime                            4.71   0.99                21.02\n",
       "contract_period                     5.75   1.73                30.08\n",
       "month_to_end_contract               5.28   1.66                31.47\n",
       "avg_class_frequency_current_month   2.03   1.04                51.51\n",
       "promo_friends                       0.35   0.18                51.99\n",
       "group_visits                        0.46   0.27                57.88\n",
       "partner                             0.53   0.36                66.52\n",
       "avg_additional_charges_total      158.45 115.08                72.63\n",
       "avg_class_frequency_total           2.02   1.47                72.84\n",
       "near_location                       0.87   0.77                87.98\n",
       "age                                29.98  26.99                90.04\n",
       "phone                               0.90   0.90                99.91\n",
       "gender                              0.51   0.51               100.16"
      ]
     },
     "execution_count": 19,
     "metadata": {},
     "output_type": "execute_result"
    }
   ],
   "source": [
    "churn_mean = df.astype({'gender': 'int', 'near_location': 'int', 'partner': 'int', 'group_visits': 'int', 'churn': 'int'\n",
    "         , 'promo_friends': 'int', 'phone': 'int'}).pivot_table(columns='churn', aggfunc='mean', observed=True)\n",
    "churn_mean['churn_feature_share'] = churn_mean[1] * 100 / churn_mean[0]\n",
    "churn_mean.sort_values('churn_feature_share')"
   ]
  },
  {
   "cell_type": "markdown",
   "metadata": {},
   "source": [
    "**Наблюдения:**  \n",
    "\n",
    "- У ушедших пользователей значительно ниже среднее количество месяцев с первого визита. Также значительно ниже длительность абонемента, количество месяцев до окончания абонемента. Также у ушедших заметно меньше доля пришедших по промоакции и среднее количество посещений за последний месяц."
   ]
  },
  {
   "cell_type": "markdown",
   "metadata": {},
   "source": [
    "#### Изучение дубликатов\n"
   ]
  },
  {
   "cell_type": "markdown",
   "metadata": {},
   "source": [
    "Посмотрим на дубли во всем датафрейме\n"
   ]
  },
  {
   "cell_type": "code",
   "execution_count": 20,
   "metadata": {},
   "outputs": [
    {
     "data": {
      "text/plain": [
       "'no duplicates'"
      ]
     },
     "execution_count": 20,
     "metadata": {},
     "output_type": "execute_result"
    }
   ],
   "source": [
    "pagri_data_tools.check_duplicated(df)"
   ]
  },
  {
   "cell_type": "markdown",
   "metadata": {},
   "source": [
    "В датафрейме полных строк дубликатов нет."
   ]
  },
  {
   "cell_type": "markdown",
   "metadata": {},
   "source": [
    "#### Изучение пропусков\n"
   ]
  },
  {
   "cell_type": "markdown",
   "metadata": {},
   "source": [
    "Посмотрим на пропуски в каждом столбце"
   ]
  },
  {
   "cell_type": "code",
   "execution_count": 21,
   "metadata": {},
   "outputs": [
    {
     "name": "stdout",
     "output_type": "stream",
     "text": [
      "There are no missing values\n"
     ]
    }
   ],
   "source": [
    "series_missed = pagri_data_tools.find_columns_with_missing_values(df)"
   ]
  },
  {
   "cell_type": "markdown",
   "metadata": {},
   "source": [
    "Пропусков не обнаружено."
   ]
  },
  {
   "cell_type": "markdown",
   "metadata": {},
   "source": [
    "#### Изучение выбросов\n"
   ]
  },
  {
   "cell_type": "markdown",
   "metadata": {},
   "source": [
    "Посмотрим на выбросы используя квантили.    \n",
    "Выбросами будем считать значения, которые выходят за пределы 5 и 95 квантилей."
   ]
  },
  {
   "cell_type": "markdown",
   "metadata": {},
   "source": [
    "Определение того, какой процент выбросов за пределами 5-го и 95-го квантилей можно считать \"небольшим\", может зависеть от контекста и специфики ваших данных. Однако, в общем случае можно использовать следующие ориентиры:\n",
    "\n",
    "- 0% - 5%: Это обычно считается очень низким уровнем выбросов. Если процент выбросов находится в этом диапазоне, это может указывать на то, что данные достаточно чистые и не содержат значительных аномалий.\n",
    "- 5% - 10%: Этот диапазон все еще может считаться приемлемым, особенно в некоторых областях, где небольшое количество выбросов является нормальным явлением.\n",
    "- 10% - 20%: Это может быть признаком того, что в данных есть некоторое количество аномалий, и вам стоит обратить на них внимание. В зависимости от контекста, это может быть допустимо, но требует дальнейшего анализа.\n",
    "- Более 20%: Это обычно считается высоким уровнем выбросов. Если процент выбросов превышает 20%, это может указывать на наличие значительных аномалий или проблем с данными, и вам следует провести более детальный анализ."
   ]
  },
  {
   "cell_type": "markdown",
   "metadata": {},
   "source": [
    "Важно посмотреть насколько одинаковые проценты выбросов в разных столбцах.  \n",
    "Если процент примерно одинаковый, то это говорит об однородности данных."
   ]
  },
  {
   "cell_type": "code",
   "execution_count": 22,
   "metadata": {},
   "outputs": [
    {
     "data": {
      "text/html": [
       "<style type=\"text/css\">\n",
       "#T_fc9ff caption {\n",
       "  font-size: 18px;\n",
       "  text-align: left;\n",
       "  font-weight: bold;\n",
       "}\n",
       "</style>\n",
       "<table id=\"T_fc9ff\">\n",
       "  <caption>Outliers</caption>\n",
       "  <thead>\n",
       "  </thead>\n",
       "  <tbody>\n",
       "    <tr>\n",
       "      <th id=\"T_fc9ff_level0_row0\" class=\"row_heading level0 row0\" >contract_period</th>\n",
       "      <td id=\"T_fc9ff_row0_col0\" class=\"data row0 col0\" >0 (0.00%)</td>\n",
       "    </tr>\n",
       "    <tr>\n",
       "      <th id=\"T_fc9ff_level0_row1\" class=\"row_heading level0 row1\" >age</th>\n",
       "      <td id=\"T_fc9ff_row1_col0\" class=\"data row1 col0\" >346 (8.65%)</td>\n",
       "    </tr>\n",
       "    <tr>\n",
       "      <th id=\"T_fc9ff_level0_row2\" class=\"row_heading level0 row2\" >avg_additional_charges_total</th>\n",
       "      <td id=\"T_fc9ff_row2_col0\" class=\"data row2 col0\" >400 (10.00%)</td>\n",
       "    </tr>\n",
       "    <tr>\n",
       "      <th id=\"T_fc9ff_level0_row3\" class=\"row_heading level0 row3\" >month_to_end_contract</th>\n",
       "      <td id=\"T_fc9ff_row3_col0\" class=\"data row3 col0\" >0 (0.00%)</td>\n",
       "    </tr>\n",
       "    <tr>\n",
       "      <th id=\"T_fc9ff_level0_row4\" class=\"row_heading level0 row4\" >lifetime</th>\n",
       "      <td id=\"T_fc9ff_row4_col0\" class=\"data row4 col0\" >192 (4.80%)</td>\n",
       "    </tr>\n",
       "    <tr>\n",
       "      <th id=\"T_fc9ff_level0_row5\" class=\"row_heading level0 row5\" >avg_class_frequency_total</th>\n",
       "      <td id=\"T_fc9ff_row5_col0\" class=\"data row5 col0\" >400 (10.00%)</td>\n",
       "    </tr>\n",
       "    <tr>\n",
       "      <th id=\"T_fc9ff_level0_row6\" class=\"row_heading level0 row6\" >avg_class_frequency_current_month</th>\n",
       "      <td id=\"T_fc9ff_row6_col0\" class=\"data row6 col0\" >400 (10.00%)</td>\n",
       "    </tr>\n",
       "  </tbody>\n",
       "</table>\n"
      ],
      "text/plain": [
       "<pandas.io.formats.style.Styler at 0x709a85c453d0>"
      ]
     },
     "metadata": {},
     "output_type": "display_data"
    }
   ],
   "source": [
    "series_outliers = pagri_data_tools.detect_outliers_quantile(df)"
   ]
  },
  {
   "cell_type": "markdown",
   "metadata": {},
   "source": [
    "**Наблюдения:**  \n",
    "\n",
    "- В возрасте и времени с первого визита количество выбросов меньше 10%. Значит в этих столбцах нет существенных аномалий.\n",
    "- В столбцах с выручкой от других услуг, средним количеством визитов в неделю за последний месяц и средним количеством визитов с первого появления 10% пропусков. Причем равное количество. Это подозрительно."
   ]
  },
  {
   "cell_type": "code",
   "execution_count": 23,
   "metadata": {},
   "outputs": [
    {
     "data": {
      "text/html": [
       "<style type=\"text/css\">\n",
       "#T_a49bb caption {\n",
       "  font-size: 18px;\n",
       "  text-align: left;\n",
       "  font-weight: bold;\n",
       "}\n",
       "</style>\n",
       "<table id=\"T_a49bb\">\n",
       "  <caption>Share in \"avg_additional_charges_total\" by category \"churn\"</caption>\n",
       "  <thead>\n",
       "    <tr>\n",
       "      <th id=\"T_a49bb_level0_col0\" class=\"col_heading level0 col0\" >churn</th>\n",
       "      <th id=\"T_a49bb_level0_col1\" class=\"col_heading level0 col1\" >total</th>\n",
       "      <th id=\"T_a49bb_level0_col2\" class=\"col_heading level0 col2\" >count</th>\n",
       "      <th id=\"T_a49bb_level0_col3\" class=\"col_heading level0 col3\" >count_in_total_pct</th>\n",
       "      <th id=\"T_a49bb_level0_col4\" class=\"col_heading level0 col4\" >count_in_sum_count_pct</th>\n",
       "      <th id=\"T_a49bb_level0_col5\" class=\"col_heading level0 col5\" >total_in_sum_total_pct</th>\n",
       "      <th id=\"T_a49bb_level0_col6\" class=\"col_heading level0 col6\" >diff_sum_pct</th>\n",
       "    </tr>\n",
       "  </thead>\n",
       "  <tbody>\n",
       "    <tr>\n",
       "      <td id=\"T_a49bb_row0_col0\" class=\"data row0 col0\" >0</td>\n",
       "      <td id=\"T_a49bb_row0_col1\" class=\"data row0 col1\" >2939</td>\n",
       "      <td id=\"T_a49bb_row0_col2\" class=\"data row0 col2\" >328</td>\n",
       "      <td id=\"T_a49bb_row0_col3\" class=\"data row0 col3\" >11.2%</td>\n",
       "      <td id=\"T_a49bb_row0_col4\" class=\"data row0 col4\" >82.0%</td>\n",
       "      <td id=\"T_a49bb_row0_col5\" class=\"data row0 col5\" >73.5%</td>\n",
       "      <td id=\"T_a49bb_row0_col6\" class=\"data row0 col6\" >8.5%</td>\n",
       "    </tr>\n",
       "    <tr>\n",
       "      <td id=\"T_a49bb_row1_col0\" class=\"data row1 col0\" >1</td>\n",
       "      <td id=\"T_a49bb_row1_col1\" class=\"data row1 col1\" >1061</td>\n",
       "      <td id=\"T_a49bb_row1_col2\" class=\"data row1 col2\" >72</td>\n",
       "      <td id=\"T_a49bb_row1_col3\" class=\"data row1 col3\" >6.8%</td>\n",
       "      <td id=\"T_a49bb_row1_col4\" class=\"data row1 col4\" >18.0%</td>\n",
       "      <td id=\"T_a49bb_row1_col5\" class=\"data row1 col5\" >26.5%</td>\n",
       "      <td id=\"T_a49bb_row1_col6\" class=\"data row1 col6\" >-8.5%</td>\n",
       "    </tr>\n",
       "  </tbody>\n",
       "</table>\n"
      ],
      "text/plain": [
       "<pandas.io.formats.style.Styler at 0x709a85c47980>"
      ]
     },
     "metadata": {},
     "output_type": "display_data"
    }
   ],
   "source": [
    "pagri_data_tools.analyze_anomaly_by_category(df, series_outliers, \"by_category\", \"avg_additional_charges_total\", \"churn\")"
   ]
  },
  {
   "cell_type": "markdown",
   "metadata": {},
   "source": [
    "**Наблюдения:**\n",
    "- У ушедших пользователей заметно меньше доля выбросов в выручке от других услуг."
   ]
  },
  {
   "cell_type": "code",
   "execution_count": 24,
   "metadata": {},
   "outputs": [
    {
     "data": {
      "text/html": [
       "<style type=\"text/css\">\n",
       "#T_ed3a1 caption {\n",
       "  font-size: 18px;\n",
       "  text-align: left;\n",
       "  font-weight: bold;\n",
       "}\n",
       "</style>\n",
       "<table id=\"T_ed3a1\">\n",
       "  <caption>Share in \"avg_class_frequency_total\" by category \"churn\"</caption>\n",
       "  <thead>\n",
       "    <tr>\n",
       "      <th id=\"T_ed3a1_level0_col0\" class=\"col_heading level0 col0\" >churn</th>\n",
       "      <th id=\"T_ed3a1_level0_col1\" class=\"col_heading level0 col1\" >total</th>\n",
       "      <th id=\"T_ed3a1_level0_col2\" class=\"col_heading level0 col2\" >count</th>\n",
       "      <th id=\"T_ed3a1_level0_col3\" class=\"col_heading level0 col3\" >count_in_total_pct</th>\n",
       "      <th id=\"T_ed3a1_level0_col4\" class=\"col_heading level0 col4\" >count_in_sum_count_pct</th>\n",
       "      <th id=\"T_ed3a1_level0_col5\" class=\"col_heading level0 col5\" >total_in_sum_total_pct</th>\n",
       "      <th id=\"T_ed3a1_level0_col6\" class=\"col_heading level0 col6\" >diff_sum_pct</th>\n",
       "    </tr>\n",
       "  </thead>\n",
       "  <tbody>\n",
       "    <tr>\n",
       "      <td id=\"T_ed3a1_row0_col0\" class=\"data row0 col0\" >0</td>\n",
       "      <td id=\"T_ed3a1_row0_col1\" class=\"data row0 col1\" >2939</td>\n",
       "      <td id=\"T_ed3a1_row0_col2\" class=\"data row0 col2\" >342</td>\n",
       "      <td id=\"T_ed3a1_row0_col3\" class=\"data row0 col3\" >11.6%</td>\n",
       "      <td id=\"T_ed3a1_row0_col4\" class=\"data row0 col4\" >85.5%</td>\n",
       "      <td id=\"T_ed3a1_row0_col5\" class=\"data row0 col5\" >73.5%</td>\n",
       "      <td id=\"T_ed3a1_row0_col6\" class=\"data row0 col6\" >12.0%</td>\n",
       "    </tr>\n",
       "    <tr>\n",
       "      <td id=\"T_ed3a1_row1_col0\" class=\"data row1 col0\" >1</td>\n",
       "      <td id=\"T_ed3a1_row1_col1\" class=\"data row1 col1\" >1061</td>\n",
       "      <td id=\"T_ed3a1_row1_col2\" class=\"data row1 col2\" >58</td>\n",
       "      <td id=\"T_ed3a1_row1_col3\" class=\"data row1 col3\" >5.5%</td>\n",
       "      <td id=\"T_ed3a1_row1_col4\" class=\"data row1 col4\" >14.5%</td>\n",
       "      <td id=\"T_ed3a1_row1_col5\" class=\"data row1 col5\" >26.5%</td>\n",
       "      <td id=\"T_ed3a1_row1_col6\" class=\"data row1 col6\" >-12.0%</td>\n",
       "    </tr>\n",
       "  </tbody>\n",
       "</table>\n"
      ],
      "text/plain": [
       "<pandas.io.formats.style.Styler at 0x709a85c682c0>"
      ]
     },
     "metadata": {},
     "output_type": "display_data"
    }
   ],
   "source": [
    "pagri_data_tools.analyze_anomaly_by_category(df, series_outliers, \"by_category\", \"avg_class_frequency_total\", \"churn\")"
   ]
  },
  {
   "cell_type": "markdown",
   "metadata": {},
   "source": [
    "**Наблюдения:**\n",
    "- Ушедших пользователей заметно ниже доля выбросов в среднем числе посещений с начала посещений."
   ]
  },
  {
   "cell_type": "code",
   "execution_count": 25,
   "metadata": {},
   "outputs": [
    {
     "data": {
      "text/html": [
       "<style type=\"text/css\">\n",
       "#T_db0eb caption {\n",
       "  font-size: 18px;\n",
       "  text-align: left;\n",
       "  font-weight: bold;\n",
       "}\n",
       "</style>\n",
       "<table id=\"T_db0eb\">\n",
       "  <caption>Share in \"avg_class_frequency_current_month\" by category \"churn\"</caption>\n",
       "  <thead>\n",
       "    <tr>\n",
       "      <th id=\"T_db0eb_level0_col0\" class=\"col_heading level0 col0\" >churn</th>\n",
       "      <th id=\"T_db0eb_level0_col1\" class=\"col_heading level0 col1\" >total</th>\n",
       "      <th id=\"T_db0eb_level0_col2\" class=\"col_heading level0 col2\" >count</th>\n",
       "      <th id=\"T_db0eb_level0_col3\" class=\"col_heading level0 col3\" >count_in_total_pct</th>\n",
       "      <th id=\"T_db0eb_level0_col4\" class=\"col_heading level0 col4\" >count_in_sum_count_pct</th>\n",
       "      <th id=\"T_db0eb_level0_col5\" class=\"col_heading level0 col5\" >total_in_sum_total_pct</th>\n",
       "      <th id=\"T_db0eb_level0_col6\" class=\"col_heading level0 col6\" >diff_sum_pct</th>\n",
       "    </tr>\n",
       "  </thead>\n",
       "  <tbody>\n",
       "    <tr>\n",
       "      <td id=\"T_db0eb_row0_col0\" class=\"data row0 col0\" >0</td>\n",
       "      <td id=\"T_db0eb_row0_col1\" class=\"data row0 col1\" >2939</td>\n",
       "      <td id=\"T_db0eb_row0_col2\" class=\"data row0 col2\" >257</td>\n",
       "      <td id=\"T_db0eb_row0_col3\" class=\"data row0 col3\" >8.7%</td>\n",
       "      <td id=\"T_db0eb_row0_col4\" class=\"data row0 col4\" >64.2%</td>\n",
       "      <td id=\"T_db0eb_row0_col5\" class=\"data row0 col5\" >73.5%</td>\n",
       "      <td id=\"T_db0eb_row0_col6\" class=\"data row0 col6\" >-9.2%</td>\n",
       "    </tr>\n",
       "    <tr>\n",
       "      <td id=\"T_db0eb_row1_col0\" class=\"data row1 col0\" >1</td>\n",
       "      <td id=\"T_db0eb_row1_col1\" class=\"data row1 col1\" >1061</td>\n",
       "      <td id=\"T_db0eb_row1_col2\" class=\"data row1 col2\" >143</td>\n",
       "      <td id=\"T_db0eb_row1_col3\" class=\"data row1 col3\" >13.5%</td>\n",
       "      <td id=\"T_db0eb_row1_col4\" class=\"data row1 col4\" >35.8%</td>\n",
       "      <td id=\"T_db0eb_row1_col5\" class=\"data row1 col5\" >26.5%</td>\n",
       "      <td id=\"T_db0eb_row1_col6\" class=\"data row1 col6\" >9.2%</td>\n",
       "    </tr>\n",
       "  </tbody>\n",
       "</table>\n"
      ],
      "text/plain": [
       "<pandas.io.formats.style.Styler at 0x709a85c68e60>"
      ]
     },
     "metadata": {},
     "output_type": "display_data"
    }
   ],
   "source": [
    "pagri_data_tools.analyze_anomaly_by_category(df, series_outliers, \"by_category\", \"avg_class_frequency_current_month\", \"churn\")"
   ]
  },
  {
   "cell_type": "markdown",
   "metadata": {},
   "source": [
    "**Наблюдения:**\n",
    "- У ушедших пользователей доля выбросов в количестве посещений в неделю за последний месяц заметно выше."
   ]
  },
  {
   "cell_type": "markdown",
   "metadata": {},
   "source": [
    "Посмотрим в одних и тех же ли строках выбросы в колоноках с выручкой от других услуг, средним количеством визитов в неделю за последний месяц и средним количеством визитов с первого появления"
   ]
  },
  {
   "cell_type": "code",
   "execution_count": 26,
   "metadata": {},
   "outputs": [],
   "source": [
    "avg_additional_charges_total_indexes = series_outliers.avg_additional_charges_total.index\n",
    "avg_class_frequency_total_indexes = series_outliers.avg_class_frequency_total.index\n",
    "avg_class_frequency_current_month_indexes = series_outliers.avg_class_frequency_current_month.index"
   ]
  },
  {
   "cell_type": "code",
   "execution_count": 27,
   "metadata": {},
   "outputs": [
    {
     "data": {
      "text/plain": [
       "array([  20,   92,  180,  761,  778,  865,  995, 1015, 1026, 1113, 1214,\n",
       "       1249, 1265, 1305, 1320, 1326, 1825, 1860, 1924, 1944, 2029, 2059,\n",
       "       2183, 2248, 2253, 2267, 2276, 2394, 2399, 2419, 2521, 2539, 2570,\n",
       "       2600, 2662, 2892, 2992, 3008, 3010, 3088, 3192, 3427, 3549, 3662,\n",
       "       3663, 3686, 3740, 3785, 3957])"
      ]
     },
     "execution_count": 27,
     "metadata": {},
     "output_type": "execute_result"
    }
   ],
   "source": [
    "np.intersect1d(avg_additional_charges_total_indexes, avg_class_frequency_total_indexes)"
   ]
  },
  {
   "cell_type": "markdown",
   "metadata": {},
   "source": [
    "Гипотеза, что выбросы в одних и тех же строках не подтвердилась."
   ]
  },
  {
   "cell_type": "markdown",
   "metadata": {},
   "source": [
    "#### Изучение отрицательных значений\n"
   ]
  },
  {
   "cell_type": "markdown",
   "metadata": {},
   "source": [
    "Изучим отрицательные значения в каждом столбце."
   ]
  },
  {
   "cell_type": "code",
   "execution_count": 28,
   "metadata": {},
   "outputs": [
    {
     "name": "stdout",
     "output_type": "stream",
     "text": [
      "There are no negative values\n"
     ]
    }
   ],
   "source": [
    "series_negative = pagri_data_tools.find_columns_with_negative_values(df)"
   ]
  },
  {
   "cell_type": "markdown",
   "metadata": {},
   "source": [
    "Отрицательных значений не обнаружено."
   ]
  },
  {
   "cell_type": "markdown",
   "metadata": {},
   "source": [
    "#### Изучение нулевых значений\n"
   ]
  },
  {
   "cell_type": "markdown",
   "metadata": {},
   "source": [
    "Изучим нулевые значения в каждом столбце."
   ]
  },
  {
   "cell_type": "code",
   "execution_count": 29,
   "metadata": {},
   "outputs": [
    {
     "data": {
      "text/html": [
       "<style type=\"text/css\">\n",
       "#T_3d858 caption {\n",
       "  font-size: 18px;\n",
       "  text-align: left;\n",
       "  font-weight: bold;\n",
       "}\n",
       "</style>\n",
       "<table id=\"T_3d858\">\n",
       "  <caption>Zeros</caption>\n",
       "  <thead>\n",
       "  </thead>\n",
       "  <tbody>\n",
       "    <tr>\n",
       "      <th id=\"T_3d858_level0_row0\" class=\"row_heading level0 row0\" >lifetime</th>\n",
       "      <td id=\"T_3d858_row0_col0\" class=\"data row0 col0\" >487 (12.17%)</td>\n",
       "    </tr>\n",
       "    <tr>\n",
       "      <th id=\"T_3d858_level0_row1\" class=\"row_heading level0 row1\" >avg_class_frequency_total</th>\n",
       "      <td id=\"T_3d858_row1_col0\" class=\"data row1 col0\" >88 (2.20%)</td>\n",
       "    </tr>\n",
       "    <tr>\n",
       "      <th id=\"T_3d858_level0_row2\" class=\"row_heading level0 row2\" >avg_class_frequency_current_month</th>\n",
       "      <td id=\"T_3d858_row2_col0\" class=\"data row2 col0\" >181 (4.52%)</td>\n",
       "    </tr>\n",
       "  </tbody>\n",
       "</table>\n"
      ],
      "text/plain": [
       "<pandas.io.formats.style.Styler at 0x709a85bad340>"
      ]
     },
     "metadata": {},
     "output_type": "display_data"
    }
   ],
   "source": [
    "series_zeros = pagri_data_tools.find_columns_with_zeros_values(df)"
   ]
  },
  {
   "cell_type": "markdown",
   "metadata": {},
   "source": [
    "В lifetime нули могут означать, что пользователь пришел в этом месяце. Также нули могут означать, что пользователь ушел в первый месяц."
   ]
  },
  {
   "cell_type": "code",
   "execution_count": 30,
   "metadata": {},
   "outputs": [
    {
     "data": {
      "text/html": [
       "<style type=\"text/css\">\n",
       "#T_e8718 caption {\n",
       "  font-size: 18px;\n",
       "  text-align: left;\n",
       "  font-weight: bold;\n",
       "}\n",
       "</style>\n",
       "<table id=\"T_e8718\">\n",
       "  <caption>Share in \"lifetime\" by category \"churn\"</caption>\n",
       "  <thead>\n",
       "    <tr>\n",
       "      <th id=\"T_e8718_level0_col0\" class=\"col_heading level0 col0\" >churn</th>\n",
       "      <th id=\"T_e8718_level0_col1\" class=\"col_heading level0 col1\" >total</th>\n",
       "      <th id=\"T_e8718_level0_col2\" class=\"col_heading level0 col2\" >count</th>\n",
       "      <th id=\"T_e8718_level0_col3\" class=\"col_heading level0 col3\" >count_in_total_pct</th>\n",
       "      <th id=\"T_e8718_level0_col4\" class=\"col_heading level0 col4\" >count_in_sum_count_pct</th>\n",
       "      <th id=\"T_e8718_level0_col5\" class=\"col_heading level0 col5\" >total_in_sum_total_pct</th>\n",
       "      <th id=\"T_e8718_level0_col6\" class=\"col_heading level0 col6\" >diff_sum_pct</th>\n",
       "    </tr>\n",
       "  </thead>\n",
       "  <tbody>\n",
       "    <tr>\n",
       "      <td id=\"T_e8718_row0_col0\" class=\"data row0 col0\" >0</td>\n",
       "      <td id=\"T_e8718_row0_col1\" class=\"data row0 col1\" >2939</td>\n",
       "      <td id=\"T_e8718_row0_col2\" class=\"data row0 col2\" >84</td>\n",
       "      <td id=\"T_e8718_row0_col3\" class=\"data row0 col3\" >2.9%</td>\n",
       "      <td id=\"T_e8718_row0_col4\" class=\"data row0 col4\" >17.2%</td>\n",
       "      <td id=\"T_e8718_row0_col5\" class=\"data row0 col5\" >73.5%</td>\n",
       "      <td id=\"T_e8718_row0_col6\" class=\"data row0 col6\" >-56.2%</td>\n",
       "    </tr>\n",
       "    <tr>\n",
       "      <td id=\"T_e8718_row1_col0\" class=\"data row1 col0\" >1</td>\n",
       "      <td id=\"T_e8718_row1_col1\" class=\"data row1 col1\" >1061</td>\n",
       "      <td id=\"T_e8718_row1_col2\" class=\"data row1 col2\" >403</td>\n",
       "      <td id=\"T_e8718_row1_col3\" class=\"data row1 col3\" >38.0%</td>\n",
       "      <td id=\"T_e8718_row1_col4\" class=\"data row1 col4\" >82.8%</td>\n",
       "      <td id=\"T_e8718_row1_col5\" class=\"data row1 col5\" >26.5%</td>\n",
       "      <td id=\"T_e8718_row1_col6\" class=\"data row1 col6\" >56.2%</td>\n",
       "    </tr>\n",
       "  </tbody>\n",
       "</table>\n"
      ],
      "text/plain": [
       "<pandas.io.formats.style.Styler at 0x709a85c699a0>"
      ]
     },
     "metadata": {},
     "output_type": "display_data"
    }
   ],
   "source": [
    "pagri_data_tools.analyze_anomaly_by_category(df, series_zeros, \"by_category\", \"lifetime\", \"churn\")"
   ]
  },
  {
   "cell_type": "markdown",
   "metadata": {},
   "source": [
    "**Наблюдения:**\n",
    "- У ушедших пользователей доля нулей в lifetime значительно выше."
   ]
  },
  {
   "cell_type": "code",
   "execution_count": 31,
   "metadata": {},
   "outputs": [
    {
     "data": {
      "text/html": [
       "<style type=\"text/css\">\n",
       "#T_22df3 caption {\n",
       "  font-size: 18px;\n",
       "  text-align: left;\n",
       "  font-weight: bold;\n",
       "}\n",
       "</style>\n",
       "<table id=\"T_22df3\">\n",
       "  <caption>Sample in avg_class_frequency_total (2.20%)</caption>\n",
       "  <thead>\n",
       "    <tr>\n",
       "      <th class=\"blank level0\" >&nbsp;</th>\n",
       "      <th id=\"T_22df3_level0_col0\" class=\"col_heading level0 col0\" >gender</th>\n",
       "      <th id=\"T_22df3_level0_col1\" class=\"col_heading level0 col1\" >near_location</th>\n",
       "      <th id=\"T_22df3_level0_col2\" class=\"col_heading level0 col2\" >partner</th>\n",
       "      <th id=\"T_22df3_level0_col3\" class=\"col_heading level0 col3\" >promo_friends</th>\n",
       "      <th id=\"T_22df3_level0_col4\" class=\"col_heading level0 col4\" >phone</th>\n",
       "      <th id=\"T_22df3_level0_col5\" class=\"col_heading level0 col5\" >contract_period</th>\n",
       "      <th id=\"T_22df3_level0_col6\" class=\"col_heading level0 col6\" >group_visits</th>\n",
       "      <th id=\"T_22df3_level0_col7\" class=\"col_heading level0 col7\" >age</th>\n",
       "      <th id=\"T_22df3_level0_col8\" class=\"col_heading level0 col8\" >avg_additional_charges_total</th>\n",
       "      <th id=\"T_22df3_level0_col9\" class=\"col_heading level0 col9\" >month_to_end_contract</th>\n",
       "      <th id=\"T_22df3_level0_col10\" class=\"col_heading level0 col10\" >lifetime</th>\n",
       "      <th id=\"T_22df3_level0_col11\" class=\"col_heading level0 col11\" >avg_class_frequency_total</th>\n",
       "      <th id=\"T_22df3_level0_col12\" class=\"col_heading level0 col12\" >avg_class_frequency_current_month</th>\n",
       "      <th id=\"T_22df3_level0_col13\" class=\"col_heading level0 col13\" >churn</th>\n",
       "    </tr>\n",
       "  </thead>\n",
       "  <tbody>\n",
       "    <tr>\n",
       "      <th id=\"T_22df3_level0_row0\" class=\"row_heading level0 row0\" >13</th>\n",
       "      <td id=\"T_22df3_row0_col0\" class=\"data row0 col0\" >1</td>\n",
       "      <td id=\"T_22df3_row0_col1\" class=\"data row0 col1\" >1</td>\n",
       "      <td id=\"T_22df3_row0_col2\" class=\"data row0 col2\" >0</td>\n",
       "      <td id=\"T_22df3_row0_col3\" class=\"data row0 col3\" >0</td>\n",
       "      <td id=\"T_22df3_row0_col4\" class=\"data row0 col4\" >1</td>\n",
       "      <td id=\"T_22df3_row0_col5\" class=\"data row0 col5\" >1</td>\n",
       "      <td id=\"T_22df3_row0_col6\" class=\"data row0 col6\" >1</td>\n",
       "      <td id=\"T_22df3_row0_col7\" class=\"data row0 col7\" >27</td>\n",
       "      <td id=\"T_22df3_row0_col8\" class=\"data row0 col8\" >152.748668</td>\n",
       "      <td id=\"T_22df3_row0_col9\" class=\"data row0 col9\" >1.000000</td>\n",
       "      <td id=\"T_22df3_row0_col10\" class=\"data row0 col10\" >1</td>\n",
       "      <td id=\"T_22df3_row0_col11\" class=\"data row0 col11\" >0.000000</td>\n",
       "      <td id=\"T_22df3_row0_col12\" class=\"data row0 col12\" >0.000000</td>\n",
       "      <td id=\"T_22df3_row0_col13\" class=\"data row0 col13\" >1</td>\n",
       "    </tr>\n",
       "    <tr>\n",
       "      <th id=\"T_22df3_level0_row1\" class=\"row_heading level0 row1\" >31</th>\n",
       "      <td id=\"T_22df3_row1_col0\" class=\"data row1 col0\" >0</td>\n",
       "      <td id=\"T_22df3_row1_col1\" class=\"data row1 col1\" >1</td>\n",
       "      <td id=\"T_22df3_row1_col2\" class=\"data row1 col2\" >0</td>\n",
       "      <td id=\"T_22df3_row1_col3\" class=\"data row1 col3\" >0</td>\n",
       "      <td id=\"T_22df3_row1_col4\" class=\"data row1 col4\" >1</td>\n",
       "      <td id=\"T_22df3_row1_col5\" class=\"data row1 col5\" >12</td>\n",
       "      <td id=\"T_22df3_row1_col6\" class=\"data row1 col6\" >1</td>\n",
       "      <td id=\"T_22df3_row1_col7\" class=\"data row1 col7\" >32</td>\n",
       "      <td id=\"T_22df3_row1_col8\" class=\"data row1 col8\" >87.856139</td>\n",
       "      <td id=\"T_22df3_row1_col9\" class=\"data row1 col9\" >12.000000</td>\n",
       "      <td id=\"T_22df3_row1_col10\" class=\"data row1 col10\" >1</td>\n",
       "      <td id=\"T_22df3_row1_col11\" class=\"data row1 col11\" >0.000000</td>\n",
       "      <td id=\"T_22df3_row1_col12\" class=\"data row1 col12\" >0.000000</td>\n",
       "      <td id=\"T_22df3_row1_col13\" class=\"data row1 col13\" >0</td>\n",
       "    </tr>\n",
       "    <tr>\n",
       "      <th id=\"T_22df3_level0_row2\" class=\"row_heading level0 row2\" >3096</th>\n",
       "      <td id=\"T_22df3_row2_col0\" class=\"data row2 col0\" >0</td>\n",
       "      <td id=\"T_22df3_row2_col1\" class=\"data row2 col1\" >1</td>\n",
       "      <td id=\"T_22df3_row2_col2\" class=\"data row2 col2\" >0</td>\n",
       "      <td id=\"T_22df3_row2_col3\" class=\"data row2 col3\" >0</td>\n",
       "      <td id=\"T_22df3_row2_col4\" class=\"data row2 col4\" >1</td>\n",
       "      <td id=\"T_22df3_row2_col5\" class=\"data row2 col5\" >1</td>\n",
       "      <td id=\"T_22df3_row2_col6\" class=\"data row2 col6\" >0</td>\n",
       "      <td id=\"T_22df3_row2_col7\" class=\"data row2 col7\" >31</td>\n",
       "      <td id=\"T_22df3_row2_col8\" class=\"data row2 col8\" >133.209579</td>\n",
       "      <td id=\"T_22df3_row2_col9\" class=\"data row2 col9\" >1.000000</td>\n",
       "      <td id=\"T_22df3_row2_col10\" class=\"data row2 col10\" >3</td>\n",
       "      <td id=\"T_22df3_row2_col11\" class=\"data row2 col11\" >0.000000</td>\n",
       "      <td id=\"T_22df3_row2_col12\" class=\"data row2 col12\" >0.000000</td>\n",
       "      <td id=\"T_22df3_row2_col13\" class=\"data row2 col13\" >1</td>\n",
       "    </tr>\n",
       "    <tr>\n",
       "      <th id=\"T_22df3_level0_row3\" class=\"row_heading level0 row3\" >3049</th>\n",
       "      <td id=\"T_22df3_row3_col0\" class=\"data row3 col0\" >0</td>\n",
       "      <td id=\"T_22df3_row3_col1\" class=\"data row3 col1\" >1</td>\n",
       "      <td id=\"T_22df3_row3_col2\" class=\"data row3 col2\" >0</td>\n",
       "      <td id=\"T_22df3_row3_col3\" class=\"data row3 col3\" >0</td>\n",
       "      <td id=\"T_22df3_row3_col4\" class=\"data row3 col4\" >1</td>\n",
       "      <td id=\"T_22df3_row3_col5\" class=\"data row3 col5\" >6</td>\n",
       "      <td id=\"T_22df3_row3_col6\" class=\"data row3 col6\" >1</td>\n",
       "      <td id=\"T_22df3_row3_col7\" class=\"data row3 col7\" >33</td>\n",
       "      <td id=\"T_22df3_row3_col8\" class=\"data row3 col8\" >84.251487</td>\n",
       "      <td id=\"T_22df3_row3_col9\" class=\"data row3 col9\" >6.000000</td>\n",
       "      <td id=\"T_22df3_row3_col10\" class=\"data row3 col10\" >0</td>\n",
       "      <td id=\"T_22df3_row3_col11\" class=\"data row3 col11\" >0.000000</td>\n",
       "      <td id=\"T_22df3_row3_col12\" class=\"data row3 col12\" >0.090099</td>\n",
       "      <td id=\"T_22df3_row3_col13\" class=\"data row3 col13\" >0</td>\n",
       "    </tr>\n",
       "    <tr>\n",
       "      <th id=\"T_22df3_level0_row4\" class=\"row_heading level0 row4\" >3008</th>\n",
       "      <td id=\"T_22df3_row4_col0\" class=\"data row4 col0\" >0</td>\n",
       "      <td id=\"T_22df3_row4_col1\" class=\"data row4 col1\" >1</td>\n",
       "      <td id=\"T_22df3_row4_col2\" class=\"data row4 col2\" >1</td>\n",
       "      <td id=\"T_22df3_row4_col3\" class=\"data row4 col3\" >0</td>\n",
       "      <td id=\"T_22df3_row4_col4\" class=\"data row4 col4\" >1</td>\n",
       "      <td id=\"T_22df3_row4_col5\" class=\"data row4 col5\" >1</td>\n",
       "      <td id=\"T_22df3_row4_col6\" class=\"data row4 col6\" >1</td>\n",
       "      <td id=\"T_22df3_row4_col7\" class=\"data row4 col7\" >33</td>\n",
       "      <td id=\"T_22df3_row4_col8\" class=\"data row4 col8\" >1.401597</td>\n",
       "      <td id=\"T_22df3_row4_col9\" class=\"data row4 col9\" >1.000000</td>\n",
       "      <td id=\"T_22df3_row4_col10\" class=\"data row4 col10\" >3</td>\n",
       "      <td id=\"T_22df3_row4_col11\" class=\"data row4 col11\" >0.000000</td>\n",
       "      <td id=\"T_22df3_row4_col12\" class=\"data row4 col12\" >0.000000</td>\n",
       "      <td id=\"T_22df3_row4_col13\" class=\"data row4 col13\" >0</td>\n",
       "    </tr>\n",
       "    <tr>\n",
       "      <th id=\"T_22df3_level0_row5\" class=\"row_heading level0 row5\" >2982</th>\n",
       "      <td id=\"T_22df3_row5_col0\" class=\"data row5 col0\" >0</td>\n",
       "      <td id=\"T_22df3_row5_col1\" class=\"data row5 col1\" >1</td>\n",
       "      <td id=\"T_22df3_row5_col2\" class=\"data row5 col2\" >0</td>\n",
       "      <td id=\"T_22df3_row5_col3\" class=\"data row5 col3\" >0</td>\n",
       "      <td id=\"T_22df3_row5_col4\" class=\"data row5 col4\" >1</td>\n",
       "      <td id=\"T_22df3_row5_col5\" class=\"data row5 col5\" >1</td>\n",
       "      <td id=\"T_22df3_row5_col6\" class=\"data row5 col6\" >1</td>\n",
       "      <td id=\"T_22df3_row5_col7\" class=\"data row5 col7\" >30</td>\n",
       "      <td id=\"T_22df3_row5_col8\" class=\"data row5 col8\" >90.109341</td>\n",
       "      <td id=\"T_22df3_row5_col9\" class=\"data row5 col9\" >1.000000</td>\n",
       "      <td id=\"T_22df3_row5_col10\" class=\"data row5 col10\" >1</td>\n",
       "      <td id=\"T_22df3_row5_col11\" class=\"data row5 col11\" >0.000000</td>\n",
       "      <td id=\"T_22df3_row5_col12\" class=\"data row5 col12\" >0.082645</td>\n",
       "      <td id=\"T_22df3_row5_col13\" class=\"data row5 col13\" >0</td>\n",
       "    </tr>\n",
       "    <tr>\n",
       "      <th id=\"T_22df3_level0_row6\" class=\"row_heading level0 row6\" >2934</th>\n",
       "      <td id=\"T_22df3_row6_col0\" class=\"data row6 col0\" >0</td>\n",
       "      <td id=\"T_22df3_row6_col1\" class=\"data row6 col1\" >1</td>\n",
       "      <td id=\"T_22df3_row6_col2\" class=\"data row6 col2\" >0</td>\n",
       "      <td id=\"T_22df3_row6_col3\" class=\"data row6 col3\" >0</td>\n",
       "      <td id=\"T_22df3_row6_col4\" class=\"data row6 col4\" >1</td>\n",
       "      <td id=\"T_22df3_row6_col5\" class=\"data row6 col5\" >12</td>\n",
       "      <td id=\"T_22df3_row6_col6\" class=\"data row6 col6\" >0</td>\n",
       "      <td id=\"T_22df3_row6_col7\" class=\"data row6 col7\" >29</td>\n",
       "      <td id=\"T_22df3_row6_col8\" class=\"data row6 col8\" >219.144673</td>\n",
       "      <td id=\"T_22df3_row6_col9\" class=\"data row6 col9\" >12.000000</td>\n",
       "      <td id=\"T_22df3_row6_col10\" class=\"data row6 col10\" >4</td>\n",
       "      <td id=\"T_22df3_row6_col11\" class=\"data row6 col11\" >0.000000</td>\n",
       "      <td id=\"T_22df3_row6_col12\" class=\"data row6 col12\" >0.181012</td>\n",
       "      <td id=\"T_22df3_row6_col13\" class=\"data row6 col13\" >0</td>\n",
       "    </tr>\n",
       "    <tr>\n",
       "      <th id=\"T_22df3_level0_row7\" class=\"row_heading level0 row7\" >2933</th>\n",
       "      <td id=\"T_22df3_row7_col0\" class=\"data row7 col0\" >0</td>\n",
       "      <td id=\"T_22df3_row7_col1\" class=\"data row7 col1\" >1</td>\n",
       "      <td id=\"T_22df3_row7_col2\" class=\"data row7 col2\" >1</td>\n",
       "      <td id=\"T_22df3_row7_col3\" class=\"data row7 col3\" >0</td>\n",
       "      <td id=\"T_22df3_row7_col4\" class=\"data row7 col4\" >0</td>\n",
       "      <td id=\"T_22df3_row7_col5\" class=\"data row7 col5\" >1</td>\n",
       "      <td id=\"T_22df3_row7_col6\" class=\"data row7 col6\" >0</td>\n",
       "      <td id=\"T_22df3_row7_col7\" class=\"data row7 col7\" >31</td>\n",
       "      <td id=\"T_22df3_row7_col8\" class=\"data row7 col8\" >75.698902</td>\n",
       "      <td id=\"T_22df3_row7_col9\" class=\"data row7 col9\" >1.000000</td>\n",
       "      <td id=\"T_22df3_row7_col10\" class=\"data row7 col10\" >13</td>\n",
       "      <td id=\"T_22df3_row7_col11\" class=\"data row7 col11\" >0.000000</td>\n",
       "      <td id=\"T_22df3_row7_col12\" class=\"data row7 col12\" >0.177691</td>\n",
       "      <td id=\"T_22df3_row7_col13\" class=\"data row7 col13\" >0</td>\n",
       "    </tr>\n",
       "    <tr>\n",
       "      <th id=\"T_22df3_level0_row8\" class=\"row_heading level0 row8\" >2860</th>\n",
       "      <td id=\"T_22df3_row8_col0\" class=\"data row8 col0\" >0</td>\n",
       "      <td id=\"T_22df3_row8_col1\" class=\"data row8 col1\" >1</td>\n",
       "      <td id=\"T_22df3_row8_col2\" class=\"data row8 col2\" >1</td>\n",
       "      <td id=\"T_22df3_row8_col3\" class=\"data row8 col3\" >0</td>\n",
       "      <td id=\"T_22df3_row8_col4\" class=\"data row8 col4\" >1</td>\n",
       "      <td id=\"T_22df3_row8_col5\" class=\"data row8 col5\" >6</td>\n",
       "      <td id=\"T_22df3_row8_col6\" class=\"data row8 col6\" >0</td>\n",
       "      <td id=\"T_22df3_row8_col7\" class=\"data row8 col7\" >30</td>\n",
       "      <td id=\"T_22df3_row8_col8\" class=\"data row8 col8\" >88.035036</td>\n",
       "      <td id=\"T_22df3_row8_col9\" class=\"data row8 col9\" >6.000000</td>\n",
       "      <td id=\"T_22df3_row8_col10\" class=\"data row8 col10\" >4</td>\n",
       "      <td id=\"T_22df3_row8_col11\" class=\"data row8 col11\" >0.000000</td>\n",
       "      <td id=\"T_22df3_row8_col12\" class=\"data row8 col12\" >0.149429</td>\n",
       "      <td id=\"T_22df3_row8_col13\" class=\"data row8 col13\" >0</td>\n",
       "    </tr>\n",
       "    <tr>\n",
       "      <th id=\"T_22df3_level0_row9\" class=\"row_heading level0 row9\" >2818</th>\n",
       "      <td id=\"T_22df3_row9_col0\" class=\"data row9 col0\" >0</td>\n",
       "      <td id=\"T_22df3_row9_col1\" class=\"data row9 col1\" >1</td>\n",
       "      <td id=\"T_22df3_row9_col2\" class=\"data row9 col2\" >1</td>\n",
       "      <td id=\"T_22df3_row9_col3\" class=\"data row9 col3\" >1</td>\n",
       "      <td id=\"T_22df3_row9_col4\" class=\"data row9 col4\" >1</td>\n",
       "      <td id=\"T_22df3_row9_col5\" class=\"data row9 col5\" >6</td>\n",
       "      <td id=\"T_22df3_row9_col6\" class=\"data row9 col6\" >1</td>\n",
       "      <td id=\"T_22df3_row9_col7\" class=\"data row9 col7\" >27</td>\n",
       "      <td id=\"T_22df3_row9_col8\" class=\"data row9 col8\" >70.130597</td>\n",
       "      <td id=\"T_22df3_row9_col9\" class=\"data row9 col9\" >6.000000</td>\n",
       "      <td id=\"T_22df3_row9_col10\" class=\"data row9 col10\" >1</td>\n",
       "      <td id=\"T_22df3_row9_col11\" class=\"data row9 col11\" >0.000000</td>\n",
       "      <td id=\"T_22df3_row9_col12\" class=\"data row9 col12\" >0.066074</td>\n",
       "      <td id=\"T_22df3_row9_col13\" class=\"data row9 col13\" >0</td>\n",
       "    </tr>\n",
       "  </tbody>\n",
       "</table>\n"
      ],
      "text/plain": [
       "<pandas.io.formats.style.Styler at 0x709a85c454c0>"
      ]
     },
     "metadata": {},
     "output_type": "display_data"
    }
   ],
   "source": [
    "pagri_data_tools.analyze_anomaly_by_category(df, series_zeros, \"sample\", \"avg_class_frequency_total\", \"None\")"
   ]
  },
  {
   "cell_type": "markdown",
   "metadata": {},
   "source": [
    "**Наблюдения:**\n",
    "- Пользователи с нулями в поле количество посещений в неделю с первого визита принесли выручку по другим услугам."
   ]
  },
  {
   "cell_type": "code",
   "execution_count": 32,
   "metadata": {},
   "outputs": [
    {
     "data": {
      "text/html": [
       "<style type=\"text/css\">\n",
       "#T_b324a caption {\n",
       "  font-size: 18px;\n",
       "  text-align: left;\n",
       "  font-weight: bold;\n",
       "}\n",
       "</style>\n",
       "<table id=\"T_b324a\">\n",
       "  <caption>Share in \"avg_class_frequency_current_month\" by category \"churn\"</caption>\n",
       "  <thead>\n",
       "    <tr>\n",
       "      <th id=\"T_b324a_level0_col0\" class=\"col_heading level0 col0\" >churn</th>\n",
       "      <th id=\"T_b324a_level0_col1\" class=\"col_heading level0 col1\" >total</th>\n",
       "      <th id=\"T_b324a_level0_col2\" class=\"col_heading level0 col2\" >count</th>\n",
       "      <th id=\"T_b324a_level0_col3\" class=\"col_heading level0 col3\" >count_in_total_pct</th>\n",
       "      <th id=\"T_b324a_level0_col4\" class=\"col_heading level0 col4\" >count_in_sum_count_pct</th>\n",
       "      <th id=\"T_b324a_level0_col5\" class=\"col_heading level0 col5\" >total_in_sum_total_pct</th>\n",
       "      <th id=\"T_b324a_level0_col6\" class=\"col_heading level0 col6\" >diff_sum_pct</th>\n",
       "    </tr>\n",
       "  </thead>\n",
       "  <tbody>\n",
       "    <tr>\n",
       "      <td id=\"T_b324a_row0_col0\" class=\"data row0 col0\" >0</td>\n",
       "      <td id=\"T_b324a_row0_col1\" class=\"data row0 col1\" >2939</td>\n",
       "      <td id=\"T_b324a_row0_col2\" class=\"data row0 col2\" >47</td>\n",
       "      <td id=\"T_b324a_row0_col3\" class=\"data row0 col3\" >1.6%</td>\n",
       "      <td id=\"T_b324a_row0_col4\" class=\"data row0 col4\" >26.0%</td>\n",
       "      <td id=\"T_b324a_row0_col5\" class=\"data row0 col5\" >73.5%</td>\n",
       "      <td id=\"T_b324a_row0_col6\" class=\"data row0 col6\" >-47.5%</td>\n",
       "    </tr>\n",
       "    <tr>\n",
       "      <td id=\"T_b324a_row1_col0\" class=\"data row1 col0\" >1</td>\n",
       "      <td id=\"T_b324a_row1_col1\" class=\"data row1 col1\" >1061</td>\n",
       "      <td id=\"T_b324a_row1_col2\" class=\"data row1 col2\" >134</td>\n",
       "      <td id=\"T_b324a_row1_col3\" class=\"data row1 col3\" >12.6%</td>\n",
       "      <td id=\"T_b324a_row1_col4\" class=\"data row1 col4\" >74.0%</td>\n",
       "      <td id=\"T_b324a_row1_col5\" class=\"data row1 col5\" >26.5%</td>\n",
       "      <td id=\"T_b324a_row1_col6\" class=\"data row1 col6\" >47.5%</td>\n",
       "    </tr>\n",
       "  </tbody>\n",
       "</table>\n"
      ],
      "text/plain": [
       "<pandas.io.formats.style.Styler at 0x709a85c69df0>"
      ]
     },
     "metadata": {},
     "output_type": "display_data"
    }
   ],
   "source": [
    "pagri_data_tools.analyze_anomaly_by_category(df, series_zeros, \"by_category\", \"avg_class_frequency_current_month\", \"churn\")"
   ]
  },
  {
   "cell_type": "markdown",
   "metadata": {},
   "source": [
    "**Наблюдения:**\n",
    "- Ушедшие пользователи имеют значительно большую долю нулей в количестве посещений в неделю за последний месяц."
   ]
  },
  {
   "cell_type": "markdown",
   "metadata": {},
   "source": [
    "Посмотрим на пользователй, которые не посещали ни разу, но при этом за последний месяц у них не нулевое количество посещений."
   ]
  },
  {
   "cell_type": "code",
   "execution_count": 33,
   "metadata": {},
   "outputs": [
    {
     "data": {
      "text/html": [
       "<div>\n",
       "<style scoped>\n",
       "    .dataframe tbody tr th:only-of-type {\n",
       "        vertical-align: middle;\n",
       "    }\n",
       "\n",
       "    .dataframe tbody tr th {\n",
       "        vertical-align: top;\n",
       "    }\n",
       "\n",
       "    .dataframe thead th {\n",
       "        text-align: right;\n",
       "    }\n",
       "</style>\n",
       "<table border=\"1\" class=\"dataframe\">\n",
       "  <thead>\n",
       "    <tr style=\"text-align: right;\">\n",
       "      <th></th>\n",
       "      <th>gender</th>\n",
       "      <th>near_location</th>\n",
       "      <th>partner</th>\n",
       "      <th>promo_friends</th>\n",
       "      <th>phone</th>\n",
       "      <th>contract_period</th>\n",
       "      <th>group_visits</th>\n",
       "      <th>age</th>\n",
       "      <th>avg_additional_charges_total</th>\n",
       "      <th>month_to_end_contract</th>\n",
       "      <th>lifetime</th>\n",
       "      <th>avg_class_frequency_total</th>\n",
       "      <th>avg_class_frequency_current_month</th>\n",
       "      <th>churn</th>\n",
       "    </tr>\n",
       "  </thead>\n",
       "  <tbody>\n",
       "    <tr>\n",
       "      <th>274</th>\n",
       "      <td>0</td>\n",
       "      <td>1</td>\n",
       "      <td>1</td>\n",
       "      <td>1</td>\n",
       "      <td>1</td>\n",
       "      <td>12</td>\n",
       "      <td>1</td>\n",
       "      <td>30</td>\n",
       "      <td>131.66</td>\n",
       "      <td>9.00</td>\n",
       "      <td>5</td>\n",
       "      <td>0.00</td>\n",
       "      <td>0.09</td>\n",
       "      <td>0</td>\n",
       "    </tr>\n",
       "    <tr>\n",
       "      <th>449</th>\n",
       "      <td>1</td>\n",
       "      <td>1</td>\n",
       "      <td>1</td>\n",
       "      <td>1</td>\n",
       "      <td>1</td>\n",
       "      <td>1</td>\n",
       "      <td>1</td>\n",
       "      <td>26</td>\n",
       "      <td>247.75</td>\n",
       "      <td>1.00</td>\n",
       "      <td>1</td>\n",
       "      <td>0.00</td>\n",
       "      <td>0.14</td>\n",
       "      <td>0</td>\n",
       "    </tr>\n",
       "    <tr>\n",
       "      <th>756</th>\n",
       "      <td>0</td>\n",
       "      <td>1</td>\n",
       "      <td>0</td>\n",
       "      <td>0</td>\n",
       "      <td>1</td>\n",
       "      <td>1</td>\n",
       "      <td>0</td>\n",
       "      <td>30</td>\n",
       "      <td>52.87</td>\n",
       "      <td>1.00</td>\n",
       "      <td>0</td>\n",
       "      <td>0.00</td>\n",
       "      <td>0.00</td>\n",
       "      <td>0</td>\n",
       "    </tr>\n",
       "    <tr>\n",
       "      <th>1163</th>\n",
       "      <td>1</td>\n",
       "      <td>1</td>\n",
       "      <td>1</td>\n",
       "      <td>0</td>\n",
       "      <td>1</td>\n",
       "      <td>12</td>\n",
       "      <td>1</td>\n",
       "      <td>28</td>\n",
       "      <td>21.95</td>\n",
       "      <td>12.00</td>\n",
       "      <td>3</td>\n",
       "      <td>0.00</td>\n",
       "      <td>0.02</td>\n",
       "      <td>0</td>\n",
       "    </tr>\n",
       "    <tr>\n",
       "      <th>1197</th>\n",
       "      <td>1</td>\n",
       "      <td>1</td>\n",
       "      <td>1</td>\n",
       "      <td>1</td>\n",
       "      <td>0</td>\n",
       "      <td>12</td>\n",
       "      <td>0</td>\n",
       "      <td>28</td>\n",
       "      <td>64.70</td>\n",
       "      <td>12.00</td>\n",
       "      <td>8</td>\n",
       "      <td>0.00</td>\n",
       "      <td>0.07</td>\n",
       "      <td>0</td>\n",
       "    </tr>\n",
       "    <tr>\n",
       "      <th>1313</th>\n",
       "      <td>0</td>\n",
       "      <td>1</td>\n",
       "      <td>0</td>\n",
       "      <td>1</td>\n",
       "      <td>1</td>\n",
       "      <td>6</td>\n",
       "      <td>1</td>\n",
       "      <td>30</td>\n",
       "      <td>51.28</td>\n",
       "      <td>6.00</td>\n",
       "      <td>2</td>\n",
       "      <td>0.00</td>\n",
       "      <td>0.05</td>\n",
       "      <td>0</td>\n",
       "    </tr>\n",
       "    <tr>\n",
       "      <th>1683</th>\n",
       "      <td>0</td>\n",
       "      <td>1</td>\n",
       "      <td>1</td>\n",
       "      <td>0</td>\n",
       "      <td>1</td>\n",
       "      <td>1</td>\n",
       "      <td>1</td>\n",
       "      <td>27</td>\n",
       "      <td>234.30</td>\n",
       "      <td>1.00</td>\n",
       "      <td>17</td>\n",
       "      <td>0.00</td>\n",
       "      <td>0.01</td>\n",
       "      <td>0</td>\n",
       "    </tr>\n",
       "    <tr>\n",
       "      <th>1689</th>\n",
       "      <td>1</td>\n",
       "      <td>1</td>\n",
       "      <td>1</td>\n",
       "      <td>0</td>\n",
       "      <td>1</td>\n",
       "      <td>6</td>\n",
       "      <td>0</td>\n",
       "      <td>29</td>\n",
       "      <td>302.31</td>\n",
       "      <td>6.00</td>\n",
       "      <td>0</td>\n",
       "      <td>0.00</td>\n",
       "      <td>0.06</td>\n",
       "      <td>0</td>\n",
       "    </tr>\n",
       "    <tr>\n",
       "      <th>1983</th>\n",
       "      <td>0</td>\n",
       "      <td>1</td>\n",
       "      <td>1</td>\n",
       "      <td>0</td>\n",
       "      <td>1</td>\n",
       "      <td>6</td>\n",
       "      <td>0</td>\n",
       "      <td>34</td>\n",
       "      <td>148.68</td>\n",
       "      <td>6.00</td>\n",
       "      <td>2</td>\n",
       "      <td>0.00</td>\n",
       "      <td>0.00</td>\n",
       "      <td>0</td>\n",
       "    </tr>\n",
       "    <tr>\n",
       "      <th>2049</th>\n",
       "      <td>0</td>\n",
       "      <td>1</td>\n",
       "      <td>1</td>\n",
       "      <td>1</td>\n",
       "      <td>1</td>\n",
       "      <td>12</td>\n",
       "      <td>1</td>\n",
       "      <td>30</td>\n",
       "      <td>102.70</td>\n",
       "      <td>12.00</td>\n",
       "      <td>9</td>\n",
       "      <td>0.00</td>\n",
       "      <td>0.01</td>\n",
       "      <td>0</td>\n",
       "    </tr>\n",
       "    <tr>\n",
       "      <th>2119</th>\n",
       "      <td>0</td>\n",
       "      <td>1</td>\n",
       "      <td>0</td>\n",
       "      <td>0</td>\n",
       "      <td>1</td>\n",
       "      <td>1</td>\n",
       "      <td>0</td>\n",
       "      <td>26</td>\n",
       "      <td>58.21</td>\n",
       "      <td>1.00</td>\n",
       "      <td>0</td>\n",
       "      <td>0.00</td>\n",
       "      <td>0.40</td>\n",
       "      <td>1</td>\n",
       "    </tr>\n",
       "    <tr>\n",
       "      <th>2344</th>\n",
       "      <td>1</td>\n",
       "      <td>1</td>\n",
       "      <td>1</td>\n",
       "      <td>1</td>\n",
       "      <td>1</td>\n",
       "      <td>12</td>\n",
       "      <td>0</td>\n",
       "      <td>30</td>\n",
       "      <td>221.22</td>\n",
       "      <td>12.00</td>\n",
       "      <td>9</td>\n",
       "      <td>0.00</td>\n",
       "      <td>0.05</td>\n",
       "      <td>0</td>\n",
       "    </tr>\n",
       "    <tr>\n",
       "      <th>2428</th>\n",
       "      <td>0</td>\n",
       "      <td>1</td>\n",
       "      <td>1</td>\n",
       "      <td>1</td>\n",
       "      <td>1</td>\n",
       "      <td>1</td>\n",
       "      <td>1</td>\n",
       "      <td>32</td>\n",
       "      <td>138.38</td>\n",
       "      <td>1.00</td>\n",
       "      <td>7</td>\n",
       "      <td>0.00</td>\n",
       "      <td>0.06</td>\n",
       "      <td>0</td>\n",
       "    </tr>\n",
       "    <tr>\n",
       "      <th>2747</th>\n",
       "      <td>1</td>\n",
       "      <td>1</td>\n",
       "      <td>1</td>\n",
       "      <td>1</td>\n",
       "      <td>1</td>\n",
       "      <td>6</td>\n",
       "      <td>1</td>\n",
       "      <td>25</td>\n",
       "      <td>231.75</td>\n",
       "      <td>6.00</td>\n",
       "      <td>3</td>\n",
       "      <td>0.00</td>\n",
       "      <td>0.09</td>\n",
       "      <td>0</td>\n",
       "    </tr>\n",
       "    <tr>\n",
       "      <th>2818</th>\n",
       "      <td>0</td>\n",
       "      <td>1</td>\n",
       "      <td>1</td>\n",
       "      <td>1</td>\n",
       "      <td>1</td>\n",
       "      <td>6</td>\n",
       "      <td>1</td>\n",
       "      <td>27</td>\n",
       "      <td>70.13</td>\n",
       "      <td>6.00</td>\n",
       "      <td>1</td>\n",
       "      <td>0.00</td>\n",
       "      <td>0.07</td>\n",
       "      <td>0</td>\n",
       "    </tr>\n",
       "    <tr>\n",
       "      <th>2860</th>\n",
       "      <td>0</td>\n",
       "      <td>1</td>\n",
       "      <td>1</td>\n",
       "      <td>0</td>\n",
       "      <td>1</td>\n",
       "      <td>6</td>\n",
       "      <td>0</td>\n",
       "      <td>30</td>\n",
       "      <td>88.04</td>\n",
       "      <td>6.00</td>\n",
       "      <td>4</td>\n",
       "      <td>0.00</td>\n",
       "      <td>0.15</td>\n",
       "      <td>0</td>\n",
       "    </tr>\n",
       "    <tr>\n",
       "      <th>2933</th>\n",
       "      <td>0</td>\n",
       "      <td>1</td>\n",
       "      <td>1</td>\n",
       "      <td>0</td>\n",
       "      <td>0</td>\n",
       "      <td>1</td>\n",
       "      <td>0</td>\n",
       "      <td>31</td>\n",
       "      <td>75.70</td>\n",
       "      <td>1.00</td>\n",
       "      <td>13</td>\n",
       "      <td>0.00</td>\n",
       "      <td>0.18</td>\n",
       "      <td>0</td>\n",
       "    </tr>\n",
       "    <tr>\n",
       "      <th>2934</th>\n",
       "      <td>0</td>\n",
       "      <td>1</td>\n",
       "      <td>0</td>\n",
       "      <td>0</td>\n",
       "      <td>1</td>\n",
       "      <td>12</td>\n",
       "      <td>0</td>\n",
       "      <td>29</td>\n",
       "      <td>219.14</td>\n",
       "      <td>12.00</td>\n",
       "      <td>4</td>\n",
       "      <td>0.00</td>\n",
       "      <td>0.18</td>\n",
       "      <td>0</td>\n",
       "    </tr>\n",
       "    <tr>\n",
       "      <th>2982</th>\n",
       "      <td>0</td>\n",
       "      <td>1</td>\n",
       "      <td>0</td>\n",
       "      <td>0</td>\n",
       "      <td>1</td>\n",
       "      <td>1</td>\n",
       "      <td>1</td>\n",
       "      <td>30</td>\n",
       "      <td>90.11</td>\n",
       "      <td>1.00</td>\n",
       "      <td>1</td>\n",
       "      <td>0.00</td>\n",
       "      <td>0.08</td>\n",
       "      <td>0</td>\n",
       "    </tr>\n",
       "    <tr>\n",
       "      <th>3049</th>\n",
       "      <td>0</td>\n",
       "      <td>1</td>\n",
       "      <td>0</td>\n",
       "      <td>0</td>\n",
       "      <td>1</td>\n",
       "      <td>6</td>\n",
       "      <td>1</td>\n",
       "      <td>33</td>\n",
       "      <td>84.25</td>\n",
       "      <td>6.00</td>\n",
       "      <td>0</td>\n",
       "      <td>0.00</td>\n",
       "      <td>0.09</td>\n",
       "      <td>0</td>\n",
       "    </tr>\n",
       "    <tr>\n",
       "      <th>3170</th>\n",
       "      <td>0</td>\n",
       "      <td>1</td>\n",
       "      <td>0</td>\n",
       "      <td>0</td>\n",
       "      <td>1</td>\n",
       "      <td>1</td>\n",
       "      <td>1</td>\n",
       "      <td>26</td>\n",
       "      <td>172.22</td>\n",
       "      <td>1.00</td>\n",
       "      <td>8</td>\n",
       "      <td>0.00</td>\n",
       "      <td>0.01</td>\n",
       "      <td>0</td>\n",
       "    </tr>\n",
       "    <tr>\n",
       "      <th>3192</th>\n",
       "      <td>0</td>\n",
       "      <td>1</td>\n",
       "      <td>1</td>\n",
       "      <td>1</td>\n",
       "      <td>0</td>\n",
       "      <td>1</td>\n",
       "      <td>0</td>\n",
       "      <td>29</td>\n",
       "      <td>347.48</td>\n",
       "      <td>1.00</td>\n",
       "      <td>3</td>\n",
       "      <td>0.00</td>\n",
       "      <td>0.07</td>\n",
       "      <td>0</td>\n",
       "    </tr>\n",
       "    <tr>\n",
       "      <th>3221</th>\n",
       "      <td>0</td>\n",
       "      <td>1</td>\n",
       "      <td>0</td>\n",
       "      <td>0</td>\n",
       "      <td>0</td>\n",
       "      <td>1</td>\n",
       "      <td>0</td>\n",
       "      <td>34</td>\n",
       "      <td>88.65</td>\n",
       "      <td>1.00</td>\n",
       "      <td>5</td>\n",
       "      <td>0.00</td>\n",
       "      <td>0.15</td>\n",
       "      <td>0</td>\n",
       "    </tr>\n",
       "    <tr>\n",
       "      <th>3312</th>\n",
       "      <td>0</td>\n",
       "      <td>1</td>\n",
       "      <td>1</td>\n",
       "      <td>0</td>\n",
       "      <td>0</td>\n",
       "      <td>1</td>\n",
       "      <td>1</td>\n",
       "      <td>28</td>\n",
       "      <td>120.56</td>\n",
       "      <td>1.00</td>\n",
       "      <td>6</td>\n",
       "      <td>0.00</td>\n",
       "      <td>0.08</td>\n",
       "      <td>0</td>\n",
       "    </tr>\n",
       "    <tr>\n",
       "      <th>3340</th>\n",
       "      <td>1</td>\n",
       "      <td>1</td>\n",
       "      <td>0</td>\n",
       "      <td>0</td>\n",
       "      <td>1</td>\n",
       "      <td>1</td>\n",
       "      <td>1</td>\n",
       "      <td>26</td>\n",
       "      <td>236.81</td>\n",
       "      <td>1.00</td>\n",
       "      <td>6</td>\n",
       "      <td>0.00</td>\n",
       "      <td>0.04</td>\n",
       "      <td>0</td>\n",
       "    </tr>\n",
       "    <tr>\n",
       "      <th>3685</th>\n",
       "      <td>1</td>\n",
       "      <td>1</td>\n",
       "      <td>0</td>\n",
       "      <td>0</td>\n",
       "      <td>1</td>\n",
       "      <td>6</td>\n",
       "      <td>0</td>\n",
       "      <td>29</td>\n",
       "      <td>79.61</td>\n",
       "      <td>6.00</td>\n",
       "      <td>7</td>\n",
       "      <td>0.00</td>\n",
       "      <td>0.05</td>\n",
       "      <td>0</td>\n",
       "    </tr>\n",
       "    <tr>\n",
       "      <th>3740</th>\n",
       "      <td>0</td>\n",
       "      <td>1</td>\n",
       "      <td>0</td>\n",
       "      <td>0</td>\n",
       "      <td>1</td>\n",
       "      <td>12</td>\n",
       "      <td>1</td>\n",
       "      <td>27</td>\n",
       "      <td>352.69</td>\n",
       "      <td>12.00</td>\n",
       "      <td>9</td>\n",
       "      <td>0.00</td>\n",
       "      <td>0.06</td>\n",
       "      <td>0</td>\n",
       "    </tr>\n",
       "    <tr>\n",
       "      <th>3751</th>\n",
       "      <td>1</td>\n",
       "      <td>1</td>\n",
       "      <td>0</td>\n",
       "      <td>0</td>\n",
       "      <td>1</td>\n",
       "      <td>6</td>\n",
       "      <td>1</td>\n",
       "      <td>32</td>\n",
       "      <td>115.75</td>\n",
       "      <td>6.00</td>\n",
       "      <td>10</td>\n",
       "      <td>0.00</td>\n",
       "      <td>0.21</td>\n",
       "      <td>0</td>\n",
       "    </tr>\n",
       "    <tr>\n",
       "      <th>3914</th>\n",
       "      <td>0</td>\n",
       "      <td>1</td>\n",
       "      <td>1</td>\n",
       "      <td>0</td>\n",
       "      <td>0</td>\n",
       "      <td>1</td>\n",
       "      <td>0</td>\n",
       "      <td>30</td>\n",
       "      <td>122.24</td>\n",
       "      <td>1.00</td>\n",
       "      <td>3</td>\n",
       "      <td>0.00</td>\n",
       "      <td>0.36</td>\n",
       "      <td>1</td>\n",
       "    </tr>\n",
       "  </tbody>\n",
       "</table>\n",
       "</div>"
      ],
      "text/plain": [
       "     gender near_location partner promo_friends phone  contract_period  \\\n",
       "274       0             1       1             1     1               12   \n",
       "449       1             1       1             1     1                1   \n",
       "756       0             1       0             0     1                1   \n",
       "1163      1             1       1             0     1               12   \n",
       "1197      1             1       1             1     0               12   \n",
       "1313      0             1       0             1     1                6   \n",
       "1683      0             1       1             0     1                1   \n",
       "1689      1             1       1             0     1                6   \n",
       "1983      0             1       1             0     1                6   \n",
       "2049      0             1       1             1     1               12   \n",
       "2119      0             1       0             0     1                1   \n",
       "2344      1             1       1             1     1               12   \n",
       "2428      0             1       1             1     1                1   \n",
       "2747      1             1       1             1     1                6   \n",
       "2818      0             1       1             1     1                6   \n",
       "2860      0             1       1             0     1                6   \n",
       "2933      0             1       1             0     0                1   \n",
       "2934      0             1       0             0     1               12   \n",
       "2982      0             1       0             0     1                1   \n",
       "3049      0             1       0             0     1                6   \n",
       "3170      0             1       0             0     1                1   \n",
       "3192      0             1       1             1     0                1   \n",
       "3221      0             1       0             0     0                1   \n",
       "3312      0             1       1             0     0                1   \n",
       "3340      1             1       0             0     1                1   \n",
       "3685      1             1       0             0     1                6   \n",
       "3740      0             1       0             0     1               12   \n",
       "3751      1             1       0             0     1                6   \n",
       "3914      0             1       1             0     0                1   \n",
       "\n",
       "     group_visits  age  avg_additional_charges_total  month_to_end_contract  \\\n",
       "274             1   30                        131.66                   9.00   \n",
       "449             1   26                        247.75                   1.00   \n",
       "756             0   30                         52.87                   1.00   \n",
       "1163            1   28                         21.95                  12.00   \n",
       "1197            0   28                         64.70                  12.00   \n",
       "1313            1   30                         51.28                   6.00   \n",
       "1683            1   27                        234.30                   1.00   \n",
       "1689            0   29                        302.31                   6.00   \n",
       "1983            0   34                        148.68                   6.00   \n",
       "2049            1   30                        102.70                  12.00   \n",
       "2119            0   26                         58.21                   1.00   \n",
       "2344            0   30                        221.22                  12.00   \n",
       "2428            1   32                        138.38                   1.00   \n",
       "2747            1   25                        231.75                   6.00   \n",
       "2818            1   27                         70.13                   6.00   \n",
       "2860            0   30                         88.04                   6.00   \n",
       "2933            0   31                         75.70                   1.00   \n",
       "2934            0   29                        219.14                  12.00   \n",
       "2982            1   30                         90.11                   1.00   \n",
       "3049            1   33                         84.25                   6.00   \n",
       "3170            1   26                        172.22                   1.00   \n",
       "3192            0   29                        347.48                   1.00   \n",
       "3221            0   34                         88.65                   1.00   \n",
       "3312            1   28                        120.56                   1.00   \n",
       "3340            1   26                        236.81                   1.00   \n",
       "3685            0   29                         79.61                   6.00   \n",
       "3740            1   27                        352.69                  12.00   \n",
       "3751            1   32                        115.75                   6.00   \n",
       "3914            0   30                        122.24                   1.00   \n",
       "\n",
       "      lifetime  avg_class_frequency_total  avg_class_frequency_current_month  \\\n",
       "274          5                       0.00                               0.09   \n",
       "449          1                       0.00                               0.14   \n",
       "756          0                       0.00                               0.00   \n",
       "1163         3                       0.00                               0.02   \n",
       "1197         8                       0.00                               0.07   \n",
       "1313         2                       0.00                               0.05   \n",
       "1683        17                       0.00                               0.01   \n",
       "1689         0                       0.00                               0.06   \n",
       "1983         2                       0.00                               0.00   \n",
       "2049         9                       0.00                               0.01   \n",
       "2119         0                       0.00                               0.40   \n",
       "2344         9                       0.00                               0.05   \n",
       "2428         7                       0.00                               0.06   \n",
       "2747         3                       0.00                               0.09   \n",
       "2818         1                       0.00                               0.07   \n",
       "2860         4                       0.00                               0.15   \n",
       "2933        13                       0.00                               0.18   \n",
       "2934         4                       0.00                               0.18   \n",
       "2982         1                       0.00                               0.08   \n",
       "3049         0                       0.00                               0.09   \n",
       "3170         8                       0.00                               0.01   \n",
       "3192         3                       0.00                               0.07   \n",
       "3221         5                       0.00                               0.15   \n",
       "3312         6                       0.00                               0.08   \n",
       "3340         6                       0.00                               0.04   \n",
       "3685         7                       0.00                               0.05   \n",
       "3740         9                       0.00                               0.06   \n",
       "3751        10                       0.00                               0.21   \n",
       "3914         3                       0.00                               0.36   \n",
       "\n",
       "     churn  \n",
       "274      0  \n",
       "449      0  \n",
       "756      0  \n",
       "1163     0  \n",
       "1197     0  \n",
       "1313     0  \n",
       "1683     0  \n",
       "1689     0  \n",
       "1983     0  \n",
       "2049     0  \n",
       "2119     1  \n",
       "2344     0  \n",
       "2428     0  \n",
       "2747     0  \n",
       "2818     0  \n",
       "2860     0  \n",
       "2933     0  \n",
       "2934     0  \n",
       "2982     0  \n",
       "3049     0  \n",
       "3170     0  \n",
       "3192     0  \n",
       "3221     0  \n",
       "3312     0  \n",
       "3340     0  \n",
       "3685     0  \n",
       "3740     0  \n",
       "3751     0  \n",
       "3914     1  "
      ]
     },
     "execution_count": 33,
     "metadata": {},
     "output_type": "execute_result"
    }
   ],
   "source": [
    "df[(df.avg_class_frequency_total == 0) & (df.avg_class_frequency_current_month != 0)]"
   ]
  },
  {
   "cell_type": "markdown",
   "metadata": {},
   "source": [
    "**Наблюдения:**  \n",
    "\n",
    "- Есть пользователи, у которых среднее количество визитов за все время равно нулю, а за последнюю неделю не равно нулю. Это странно. Возможно среднее количество визитов в неделю за все время имеет больше 2 знаков после запятой и округлилось."
   ]
  },
  {
   "cell_type": "markdown",
   "metadata": {},
   "source": [
    "### Промежуточный вывод\n"
   ]
  },
  {
   "cell_type": "markdown",
   "metadata": {},
   "source": [
    "- Больше половины клиентов имеют абонемент на 1 месяц. 24% - 12 месяцев, 21% - 6 месяцев.\n",
    "- Клиенты имеют возраст от 18 до 41 года.\n",
    "- В основном, клиенты имеют возраст от 27 до 31 года.\n",
    "- Суммарная выручка от других услуг лежит в диапазоне от 0.15 до 552.59.\n",
    "- В основном, суммарная выручка от других услуг варьируется в диапазоне от 68.87 до 210.95.\n",
    "- У 55% клиентов остался один месяц до завершения абонента.\n",
    "- Время с первого обращения лежит в диапазоне от 0 до 31 месяца.\n",
    "- В основном, время с первого обращения варьируется от 0 до 5 месяцев.\n",
    "- Больше всего клиентов, которые первый раз пришли в фитнес-центр месяц назад (21%).\n",
    "- Среднее за все время число посещений в неделю лежит в диапазоне от 0 до 6.02.\n",
    "- В основном, Среднее за все время число посещений в неделю варьируется от 1.18 до 2.54.\n",
    "- 88 (2%) клиентов не посещали фитнес-центр ни разу.\n",
    "- Среднее за последний время число посещений в неделю лежит в диапазоне от 0 до 6.15.\n",
    "- В основном, Среднее за все время число посещений в неделю варьируется от 0.96 до 2.51.\n",
    "- 181 (5%) клиентов не посещали фитнес-центр ни разу в этом месяце. Странно, так как это число больше, чем число клиентов, которые вообще не посещали ни разу.\n",
    "- Пол распределен примерно поровну (51% на 49%)\n",
    "- Клиентов, которые проживают или работают в райное фитнес-центра, больше всего (85%)\n",
    "- 49% клиентов являются сотрудниками компании-партнёра клуба.\n",
    "- 31% клиентов первый раз записались по акции 'приведи друга'\n",
    "- У большинства клиентов указан телефон (90%)\n",
    "- 41% клиентов посещали груповые занятия.\n",
    "- 27% клиентов числятся ушедшими.\n",
    "- У ушедших пользователей значительно ниже среднее количество месяцев с первого визита. Также значительно ниже длительность абонемента, количество месяцев до окончания абонемента. Также у ушедших заметно меньше доля пришедших по промоакции и среднее количество посещений за последний месяц.\n",
    "- В возрасте и времени с первого визита количество выбросов меньше 10%. Значит в этих столбцах нет существенных аномалий.\n",
    "- В столбцах с выручкой от других услуг, средним количеством визитов в неделю за последний месяц и средним количеством визитов с первого появления 10% пропусков. Причем равное количество. Это подозрительно.\n",
    "- У ушедших пользователей заметно меньше доля выбросов в выручке от других услуг.\n",
    "- У ушедших пользователей заметно ниже доля выбросов в среднем числе посещений с начала посещений.\n",
    "- У ушедших пользователей доля выбросов в количестве посещений в неделю за последний месяц заметно выше.\n",
    "- У ушедших пользователей доля нулей в lifetime значительно выше.\n",
    "- Пользователи с нулями в поле количество посещений в неделю с первого визита принесли выручку по другим услугам.\n",
    "- Ушедшие пользователи имеют значительно большую долю нулей в количестве посещений в неделю за последний месяц.\n",
    "- Есть пользователи, у которых среднее количество визитов за все время равно нулю, а за последнюю неделю не равно нулю. Это странно. Возможно среднее количество визитов в неделю за все время имеет больше 2 знаков после запятой и округлилось.\n"
   ]
  },
  {
   "cell_type": "markdown",
   "metadata": {},
   "source": [
    "## Предобработка данных\n"
   ]
  },
  {
   "cell_type": "markdown",
   "metadata": {},
   "source": [
    "Изучив данные, можно сделать вывод, что данные достаточно чистые.  \n",
    "Пропусков нет, отрицательных значений нет. Есть нулевые значения, но в тех колонках, где нули могут быть в действительности.  \n",
    "Обработка данных не требуется."
   ]
  },
  {
   "cell_type": "markdown",
   "metadata": {},
   "source": [
    "Преобразуем тип данных из float в int в столбцах, где целые значения."
   ]
  },
  {
   "cell_type": "code",
   "execution_count": 34,
   "metadata": {},
   "outputs": [
    {
     "data": {
      "text/plain": [
       "gender                               category\n",
       "near_location                        category\n",
       "partner                              category\n",
       "promo_friends                        category\n",
       "phone                                category\n",
       "contract_period                         int64\n",
       "group_visits                         category\n",
       "age                                     int64\n",
       "avg_additional_charges_total          float64\n",
       "month_to_end_contract                 float64\n",
       "lifetime                                int64\n",
       "avg_class_frequency_total             float64\n",
       "avg_class_frequency_current_month     float64\n",
       "churn                                category\n",
       "dtype: object"
      ]
     },
     "execution_count": 34,
     "metadata": {},
     "output_type": "execute_result"
    }
   ],
   "source": [
    "df.dtypes"
   ]
  },
  {
   "cell_type": "markdown",
   "metadata": {},
   "source": [
    "Нужно преобразовать столбец month_to_end_contract в целый тип."
   ]
  },
  {
   "cell_type": "markdown",
   "metadata": {},
   "source": [
    "Убедимся, что в столбце нет дробных чисел."
   ]
  },
  {
   "cell_type": "code",
   "execution_count": 35,
   "metadata": {},
   "outputs": [
    {
     "data": {
      "text/plain": [
       "np.int64(0)"
      ]
     },
     "execution_count": 35,
     "metadata": {},
     "output_type": "execute_result"
    }
   ],
   "source": [
    "(df.month_to_end_contract % 1 != 0).sum()"
   ]
  },
  {
   "cell_type": "code",
   "execution_count": 36,
   "metadata": {},
   "outputs": [
    {
     "data": {
      "text/html": [
       "<div>\n",
       "<style scoped>\n",
       "    .dataframe tbody tr th:only-of-type {\n",
       "        vertical-align: middle;\n",
       "    }\n",
       "\n",
       "    .dataframe tbody tr th {\n",
       "        vertical-align: top;\n",
       "    }\n",
       "\n",
       "    .dataframe thead th {\n",
       "        text-align: right;\n",
       "    }\n",
       "</style>\n",
       "<table border=\"1\" class=\"dataframe\">\n",
       "  <thead>\n",
       "    <tr style=\"text-align: right;\">\n",
       "      <th></th>\n",
       "      <th>gender</th>\n",
       "      <th>near_location</th>\n",
       "      <th>partner</th>\n",
       "      <th>promo_friends</th>\n",
       "      <th>phone</th>\n",
       "      <th>contract_period</th>\n",
       "      <th>group_visits</th>\n",
       "      <th>age</th>\n",
       "      <th>avg_additional_charges_total</th>\n",
       "      <th>month_to_end_contract</th>\n",
       "      <th>lifetime</th>\n",
       "      <th>avg_class_frequency_total</th>\n",
       "      <th>avg_class_frequency_current_month</th>\n",
       "      <th>churn</th>\n",
       "    </tr>\n",
       "  </thead>\n",
       "  <tbody>\n",
       "    <tr>\n",
       "      <th>0</th>\n",
       "      <td>1</td>\n",
       "      <td>1</td>\n",
       "      <td>1</td>\n",
       "      <td>1</td>\n",
       "      <td>0</td>\n",
       "      <td>6</td>\n",
       "      <td>1</td>\n",
       "      <td>29</td>\n",
       "      <td>14.23</td>\n",
       "      <td>5</td>\n",
       "      <td>3</td>\n",
       "      <td>0.02</td>\n",
       "      <td>0.00</td>\n",
       "      <td>0</td>\n",
       "    </tr>\n",
       "  </tbody>\n",
       "</table>\n",
       "</div>"
      ],
      "text/plain": [
       "  gender near_location partner promo_friends phone  contract_period  \\\n",
       "0      1             1       1             1     0                6   \n",
       "\n",
       "  group_visits  age  avg_additional_charges_total  month_to_end_contract  \\\n",
       "0            1   29                         14.23                      5   \n",
       "\n",
       "   lifetime  avg_class_frequency_total  avg_class_frequency_current_month  \\\n",
       "0         3                       0.02                               0.00   \n",
       "\n",
       "  churn  \n",
       "0     0  "
      ]
     },
     "execution_count": 36,
     "metadata": {},
     "output_type": "execute_result"
    }
   ],
   "source": [
    "df.month_to_end_contract = df.month_to_end_contract.astype('int32')\n",
    "df.head(1)"
   ]
  },
  {
   "cell_type": "code",
   "execution_count": 37,
   "metadata": {},
   "outputs": [
    {
     "data": {
      "text/plain": [
       "dtype('int32')"
      ]
     },
     "execution_count": 37,
     "metadata": {},
     "output_type": "execute_result"
    }
   ],
   "source": [
    "df.month_to_end_contract.dtype"
   ]
  },
  {
   "cell_type": "markdown",
   "metadata": {},
   "source": [
    "## Визуализация взаимосвязей переменных\n"
   ]
  },
  {
   "cell_type": "markdown",
   "metadata": {},
   "source": [
    "### Сравнительный анализ распределений числовых переменных"
   ]
  },
  {
   "cell_type": "markdown",
   "metadata": {},
   "source": [
    "Изучим как распределены числовые переменные между группами."
   ]
  },
  {
   "cell_type": "markdown",
   "metadata": {},
   "source": [
    "Сормируем словарь для подписей осей и названий графиков."
   ]
  },
  {
   "cell_type": "code",
   "execution_count": 73,
   "metadata": {},
   "outputs": [],
   "source": [
    "titles_for_axis = dict(\n",
    "    # numeric column ['Именительный падеж', 'для кого / чего']\n",
    "    age = ['Возраст', 'возраста']\n",
    "    , avg_class_frequency_total = ['Среднее число посещений в неделю за все время', 'среднего числа посещений в неделю за все время']\n",
    "    , avg_class_frequency_current_month = ['Среднее число посещений в неделю за последний месяц', 'среднее числа посещений в неделю за последний месяц']\n",
    "    , lifetime = ['Время с момента первого посещения', 'времени с момента первого посещения']\n",
    "    , avg_additional_charges_total = ['Суммарная выручка от других услуг', 'суммарной выручки от других услуг']\n",
    "    , contract_period = ['Длительность абонемента', 'длительности абонемента']\n",
    "    , month_to_end_contract = ['Срок до конца абонемента', 'срока до конца абонемента']    \n",
    "    # categorical column ['Именительный падеж', 'для кого / чего']\n",
    "    , gender = ['Пол', 'пола']\n",
    "    , near_location = ['Проживание или работа в районе', 'проживания или работы в районе']\n",
    "    , partner = ['Сотрудник компании-партнёра', 'сотрудника компании-партнёра']\n",
    "    , promo_friends = ['Пришел по промо', 'пришедшего по промо']    \n",
    "    , phone = ['Наличие телефона', 'наличия телефона']    \n",
    "    , group_visits = ['Посешял групповые занятия', 'посешения групповых занятий']    \n",
    "    , churn = ['Факт оттока', 'факта оттока']    \n",
    ")"
   ]
  },
  {
   "cell_type": "code",
   "execution_count": null,
   "metadata": {},
   "outputs": [],
   "source": [
    "config = dict(\n",
    "    df = df\n",
    "    , cat_var = 'churn'\n",
    "    , num_var = 'age'\n",
    "    , top_n=3\n",
    "    , lower_quantile=0\n",
    "    , upper_quantile=1\n",
    "    , bins=30\n",
    "    , line_width=3\n",
    "    , opacity = 0.6\n",
    "    , barmode='overlay'\n",
    ")\n",
    "pagri_data_tools.histograms_stacked(config=config, titles_for_axis=titles_for_axis)"
   ]
  },
  {
   "cell_type": "markdown",
   "metadata": {},
   "source": [
    "**Наблюдения:**  \n",
    "\n",
    "- У ушедших пользователей возраст ниже, чем у оставшихся."
   ]
  },
  {
   "cell_type": "code",
   "execution_count": null,
   "metadata": {},
   "outputs": [],
   "source": [
    "config = dict(\n",
    "    df = df\n",
    "    , cat_var = 'churn'\n",
    "    , num_var = 'avg_class_frequency_total'\n",
    "    , top_n=3\n",
    "    , lower_quantile=0\n",
    "    , upper_quantile=1\n",
    "    , bins=30\n",
    "    , line_width=3\n",
    "    , opacity = 0.6\n",
    "    , barmode='overlay'\n",
    ")\n",
    "pagri_data_tools.histograms_stacked(config=config, titles_for_axis=titles_for_axis)"
   ]
  },
  {
   "cell_type": "markdown",
   "metadata": {},
   "source": [
    "**Наблюдения:**  \n",
    "\n",
    "- У ушедших пользователей среднее число посещений в неделю за все время ниже, чем у оставшихся пользователей. И разброс значений у ушедших пользователей меньше."
   ]
  },
  {
   "cell_type": "code",
   "execution_count": null,
   "metadata": {},
   "outputs": [],
   "source": [
    "config = dict(\n",
    "    df = df\n",
    "    , cat_var = 'churn'\n",
    "    , num_var = 'avg_class_frequency_current_month'\n",
    "    , top_n=3\n",
    "    , lower_quantile=0\n",
    "    , upper_quantile=1\n",
    "    , bins=30\n",
    "    , line_width=3\n",
    "    , opacity = 0.6\n",
    "    , barmode='overlay'\n",
    ")\n",
    "pagri_data_tools.histograms_stacked(config=config, titles_for_axis=titles_for_axis)"
   ]
  },
  {
   "cell_type": "markdown",
   "metadata": {},
   "source": [
    "**Наблюдения:**  \n",
    "\n",
    "- У ушедших пользователей среднее число посещений в неделю за последний месяц ниже, чем у оставшихся пользователей. И разброс значений у ушедших пользователей меньше."
   ]
  },
  {
   "cell_type": "code",
   "execution_count": null,
   "metadata": {},
   "outputs": [],
   "source": [
    "config = dict(\n",
    "    df = df\n",
    "    , cat_var = 'churn'\n",
    "    , num_var = 'lifetime'\n",
    "    , top_n=3\n",
    "    , lower_quantile=0\n",
    "    , upper_quantile=1\n",
    "    , bins=40\n",
    "    , line_width=3\n",
    "    , opacity = 0.6\n",
    "    , barmode='overlay'\n",
    ")\n",
    "pagri_data_tools.histograms_stacked(config=config, titles_for_axis=titles_for_axis)"
   ]
  },
  {
   "cell_type": "markdown",
   "metadata": {},
   "source": [
    "**Наблюдения:**  \n",
    "\n",
    "- У ушедших пользователей время с момента первого обращения ниже, чем у оставшихся пользователей."
   ]
  },
  {
   "cell_type": "code",
   "execution_count": null,
   "metadata": {},
   "outputs": [],
   "source": [
    "config = dict(\n",
    "    df = df\n",
    "    , cat_var = 'churn'\n",
    "    , num_var = 'avg_additional_charges_total'\n",
    "    , top_n=3\n",
    "    , lower_quantile=0\n",
    "    , upper_quantile=1\n",
    "    , bins=30\n",
    "    , line_width=3\n",
    "    , opacity = 0.6\n",
    "    , barmode='overlay'\n",
    ")\n",
    "pagri_data_tools.histograms_stacked(config=config, titles_for_axis=titles_for_axis)"
   ]
  },
  {
   "cell_type": "markdown",
   "metadata": {},
   "source": [
    "**Наблюдения:**  \n",
    "\n",
    "- У ушедших пользователей суммарная выручка от других услуг меньше, чем у оставшихся."
   ]
  },
  {
   "cell_type": "code",
   "execution_count": 64,
   "metadata": {},
   "outputs": [
    {
     "data": {
      "text/html": [
       "<div>                            <div id=\"155c0416-14af-45b4-aaff-7ffbc2315127\" class=\"plotly-graph-div\" style=\"height:450px; width:1000px;\"></div>            <script type=\"text/javascript\">                require([\"plotly\"], function(Plotly) {                    window.PLOTLYENV=window.PLOTLYENV || {};                                    if (document.getElementById(\"155c0416-14af-45b4-aaff-7ffbc2315127\")) {                    Plotly.newPlot(                        \"155c0416-14af-45b4-aaff-7ffbc2315127\",                        [{\"alignmentgroup\":\"True\",\"hovertemplate\":\"\\u0414\\u043b\\u0438\\u0442\\u0435\\u043b\\u044c\\u043d\\u043e\\u0441\\u0442\\u044c \\u0430\\u0431\\u043e\\u043d\\u0435\\u043c\\u0435\\u043d\\u0442\\u0430 = %{x}\\u003cbr\\u003e\\u0424\\u0430\\u043a\\u0442 \\u043e\\u0442\\u0442\\u043e\\u043a\\u0430 = %{data.name}\\u003cbr\\u003e\\u0414\\u043e\\u043b\\u044f = %{y:.1f} %\\u003cbr\\u003e\\u041a\\u043e\\u043b\\u0438\\u0447\\u0435\\u0441\\u0442\\u0432\\u043e = %{customdata}\\u003cextra\\u003e\\u003c\\u002fextra\\u003e\",\"legendgroup\":\"0\",\"marker\":{\"color\":\"rgba(128, 60, 170, 0.9)\",\"pattern\":{\"shape\":\"\"}},\"name\":\"0\",\"offsetgroup\":\"0\",\"orientation\":\"v\",\"showlegend\":true,\"textposition\":\"auto\",\"x\":[12,6,1],\"xaxis\":\"x\",\"y\":[97.60416666666667,87.51500600240097,57.68010874490258],\"yaxis\":\"y\",\"type\":\"bar\",\"customdata\":[937.0,729.0,1273.0],\"hoverlabel\":{\"font\":{\"color\":\"rgba(0, 0, 0, 0.7)\",\"size\":14},\"bgcolor\":\"white\"},\"textfont\":{\"family\":\"Segoe UI\",\"size\":14}},{\"alignmentgroup\":\"True\",\"hovertemplate\":\"\\u0414\\u043b\\u0438\\u0442\\u0435\\u043b\\u044c\\u043d\\u043e\\u0441\\u0442\\u044c \\u0430\\u0431\\u043e\\u043d\\u0435\\u043c\\u0435\\u043d\\u0442\\u0430 = %{x}\\u003cbr\\u003e\\u0424\\u0430\\u043a\\u0442 \\u043e\\u0442\\u0442\\u043e\\u043a\\u0430 = %{data.name}\\u003cbr\\u003e\\u0414\\u043e\\u043b\\u044f = %{y:.1f} %\\u003cbr\\u003e\\u041a\\u043e\\u043b\\u0438\\u0447\\u0435\\u0441\\u0442\\u0432\\u043e = %{customdata}\\u003cextra\\u003e\\u003c\\u002fextra\\u003e\",\"legendgroup\":\"1\",\"marker\":{\"color\":\"#049CB3\",\"pattern\":{\"shape\":\"\"}},\"name\":\"1\",\"offsetgroup\":\"1\",\"orientation\":\"v\",\"showlegend\":true,\"textposition\":\"auto\",\"x\":[12,6,1],\"xaxis\":\"x\",\"y\":[2.3958333333333335,12.48499399759904,42.31989125509742],\"yaxis\":\"y\",\"type\":\"bar\",\"customdata\":[23.0,104.0,934.0],\"hoverlabel\":{\"font\":{\"color\":\"rgba(0, 0, 0, 0.7)\",\"size\":14},\"bgcolor\":\"white\"},\"textfont\":{\"family\":\"Segoe UI\",\"size\":14}}],                        {\"template\":{\"data\":{\"barpolar\":[{\"marker\":{\"line\":{\"color\":\"white\",\"width\":0.5},\"pattern\":{\"fillmode\":\"overlay\",\"size\":10,\"solidity\":0.2}},\"type\":\"barpolar\"}],\"bar\":[{\"error_x\":{\"color\":\"rgb(36,36,36)\"},\"error_y\":{\"color\":\"rgb(36,36,36)\"},\"marker\":{\"line\":{\"color\":\"white\",\"width\":0.5},\"pattern\":{\"fillmode\":\"overlay\",\"size\":10,\"solidity\":0.2}},\"type\":\"bar\"}],\"carpet\":[{\"aaxis\":{\"endlinecolor\":\"rgb(36,36,36)\",\"gridcolor\":\"white\",\"linecolor\":\"white\",\"minorgridcolor\":\"white\",\"startlinecolor\":\"rgb(36,36,36)\"},\"baxis\":{\"endlinecolor\":\"rgb(36,36,36)\",\"gridcolor\":\"white\",\"linecolor\":\"white\",\"minorgridcolor\":\"white\",\"startlinecolor\":\"rgb(36,36,36)\"},\"type\":\"carpet\"}],\"choropleth\":[{\"colorbar\":{\"outlinewidth\":1,\"tickcolor\":\"rgb(36,36,36)\",\"ticks\":\"outside\"},\"type\":\"choropleth\"}],\"contourcarpet\":[{\"colorbar\":{\"outlinewidth\":1,\"tickcolor\":\"rgb(36,36,36)\",\"ticks\":\"outside\"},\"type\":\"contourcarpet\"}],\"contour\":[{\"colorbar\":{\"outlinewidth\":1,\"tickcolor\":\"rgb(36,36,36)\",\"ticks\":\"outside\"},\"colorscale\":[[0.0,\"#440154\"],[0.1111111111111111,\"#482878\"],[0.2222222222222222,\"#3e4989\"],[0.3333333333333333,\"#31688e\"],[0.4444444444444444,\"#26828e\"],[0.5555555555555556,\"#1f9e89\"],[0.6666666666666666,\"#35b779\"],[0.7777777777777778,\"#6ece58\"],[0.8888888888888888,\"#b5de2b\"],[1.0,\"#fde725\"]],\"type\":\"contour\"}],\"heatmapgl\":[{\"colorbar\":{\"outlinewidth\":1,\"tickcolor\":\"rgb(36,36,36)\",\"ticks\":\"outside\"},\"colorscale\":[[0.0,\"#440154\"],[0.1111111111111111,\"#482878\"],[0.2222222222222222,\"#3e4989\"],[0.3333333333333333,\"#31688e\"],[0.4444444444444444,\"#26828e\"],[0.5555555555555556,\"#1f9e89\"],[0.6666666666666666,\"#35b779\"],[0.7777777777777778,\"#6ece58\"],[0.8888888888888888,\"#b5de2b\"],[1.0,\"#fde725\"]],\"type\":\"heatmapgl\"}],\"heatmap\":[{\"colorbar\":{\"outlinewidth\":1,\"tickcolor\":\"rgb(36,36,36)\",\"ticks\":\"outside\"},\"colorscale\":[[0.0,\"#440154\"],[0.1111111111111111,\"#482878\"],[0.2222222222222222,\"#3e4989\"],[0.3333333333333333,\"#31688e\"],[0.4444444444444444,\"#26828e\"],[0.5555555555555556,\"#1f9e89\"],[0.6666666666666666,\"#35b779\"],[0.7777777777777778,\"#6ece58\"],[0.8888888888888888,\"#b5de2b\"],[1.0,\"#fde725\"]],\"type\":\"heatmap\"}],\"histogram2dcontour\":[{\"colorbar\":{\"outlinewidth\":1,\"tickcolor\":\"rgb(36,36,36)\",\"ticks\":\"outside\"},\"colorscale\":[[0.0,\"#440154\"],[0.1111111111111111,\"#482878\"],[0.2222222222222222,\"#3e4989\"],[0.3333333333333333,\"#31688e\"],[0.4444444444444444,\"#26828e\"],[0.5555555555555556,\"#1f9e89\"],[0.6666666666666666,\"#35b779\"],[0.7777777777777778,\"#6ece58\"],[0.8888888888888888,\"#b5de2b\"],[1.0,\"#fde725\"]],\"type\":\"histogram2dcontour\"}],\"histogram2d\":[{\"colorbar\":{\"outlinewidth\":1,\"tickcolor\":\"rgb(36,36,36)\",\"ticks\":\"outside\"},\"colorscale\":[[0.0,\"#440154\"],[0.1111111111111111,\"#482878\"],[0.2222222222222222,\"#3e4989\"],[0.3333333333333333,\"#31688e\"],[0.4444444444444444,\"#26828e\"],[0.5555555555555556,\"#1f9e89\"],[0.6666666666666666,\"#35b779\"],[0.7777777777777778,\"#6ece58\"],[0.8888888888888888,\"#b5de2b\"],[1.0,\"#fde725\"]],\"type\":\"histogram2d\"}],\"histogram\":[{\"marker\":{\"line\":{\"color\":\"white\",\"width\":0.6}},\"type\":\"histogram\"}],\"mesh3d\":[{\"colorbar\":{\"outlinewidth\":1,\"tickcolor\":\"rgb(36,36,36)\",\"ticks\":\"outside\"},\"type\":\"mesh3d\"}],\"parcoords\":[{\"line\":{\"colorbar\":{\"outlinewidth\":1,\"tickcolor\":\"rgb(36,36,36)\",\"ticks\":\"outside\"}},\"type\":\"parcoords\"}],\"pie\":[{\"automargin\":true,\"type\":\"pie\"}],\"scatter3d\":[{\"line\":{\"colorbar\":{\"outlinewidth\":1,\"tickcolor\":\"rgb(36,36,36)\",\"ticks\":\"outside\"}},\"marker\":{\"colorbar\":{\"outlinewidth\":1,\"tickcolor\":\"rgb(36,36,36)\",\"ticks\":\"outside\"}},\"type\":\"scatter3d\"}],\"scattercarpet\":[{\"marker\":{\"colorbar\":{\"outlinewidth\":1,\"tickcolor\":\"rgb(36,36,36)\",\"ticks\":\"outside\"}},\"type\":\"scattercarpet\"}],\"scattergeo\":[{\"marker\":{\"colorbar\":{\"outlinewidth\":1,\"tickcolor\":\"rgb(36,36,36)\",\"ticks\":\"outside\"}},\"type\":\"scattergeo\"}],\"scattergl\":[{\"marker\":{\"colorbar\":{\"outlinewidth\":1,\"tickcolor\":\"rgb(36,36,36)\",\"ticks\":\"outside\"}},\"type\":\"scattergl\"}],\"scattermapbox\":[{\"marker\":{\"colorbar\":{\"outlinewidth\":1,\"tickcolor\":\"rgb(36,36,36)\",\"ticks\":\"outside\"}},\"type\":\"scattermapbox\"}],\"scatterpolargl\":[{\"marker\":{\"colorbar\":{\"outlinewidth\":1,\"tickcolor\":\"rgb(36,36,36)\",\"ticks\":\"outside\"}},\"type\":\"scatterpolargl\"}],\"scatterpolar\":[{\"marker\":{\"colorbar\":{\"outlinewidth\":1,\"tickcolor\":\"rgb(36,36,36)\",\"ticks\":\"outside\"}},\"type\":\"scatterpolar\"}],\"scatter\":[{\"fillpattern\":{\"fillmode\":\"overlay\",\"size\":10,\"solidity\":0.2},\"type\":\"scatter\"}],\"scatterternary\":[{\"marker\":{\"colorbar\":{\"outlinewidth\":1,\"tickcolor\":\"rgb(36,36,36)\",\"ticks\":\"outside\"}},\"type\":\"scatterternary\"}],\"surface\":[{\"colorbar\":{\"outlinewidth\":1,\"tickcolor\":\"rgb(36,36,36)\",\"ticks\":\"outside\"},\"colorscale\":[[0.0,\"#440154\"],[0.1111111111111111,\"#482878\"],[0.2222222222222222,\"#3e4989\"],[0.3333333333333333,\"#31688e\"],[0.4444444444444444,\"#26828e\"],[0.5555555555555556,\"#1f9e89\"],[0.6666666666666666,\"#35b779\"],[0.7777777777777778,\"#6ece58\"],[0.8888888888888888,\"#b5de2b\"],[1.0,\"#fde725\"]],\"type\":\"surface\"}],\"table\":[{\"cells\":{\"fill\":{\"color\":\"rgb(237,237,237)\"},\"line\":{\"color\":\"white\"}},\"header\":{\"fill\":{\"color\":\"rgb(217,217,217)\"},\"line\":{\"color\":\"white\"}},\"type\":\"table\"}]},\"layout\":{\"annotationdefaults\":{\"arrowhead\":0,\"arrowwidth\":1},\"autotypenumbers\":\"strict\",\"coloraxis\":{\"colorbar\":{\"outlinewidth\":1,\"tickcolor\":\"rgb(36,36,36)\",\"ticks\":\"outside\"}},\"colorscale\":{\"diverging\":[[0.0,\"rgb(103,0,31)\"],[0.1,\"rgb(178,24,43)\"],[0.2,\"rgb(214,96,77)\"],[0.3,\"rgb(244,165,130)\"],[0.4,\"rgb(253,219,199)\"],[0.5,\"rgb(247,247,247)\"],[0.6,\"rgb(209,229,240)\"],[0.7,\"rgb(146,197,222)\"],[0.8,\"rgb(67,147,195)\"],[0.9,\"rgb(33,102,172)\"],[1.0,\"rgb(5,48,97)\"]],\"sequential\":[[0.0,\"#440154\"],[0.1111111111111111,\"#482878\"],[0.2222222222222222,\"#3e4989\"],[0.3333333333333333,\"#31688e\"],[0.4444444444444444,\"#26828e\"],[0.5555555555555556,\"#1f9e89\"],[0.6666666666666666,\"#35b779\"],[0.7777777777777778,\"#6ece58\"],[0.8888888888888888,\"#b5de2b\"],[1.0,\"#fde725\"]],\"sequentialminus\":[[0.0,\"#440154\"],[0.1111111111111111,\"#482878\"],[0.2222222222222222,\"#3e4989\"],[0.3333333333333333,\"#31688e\"],[0.4444444444444444,\"#26828e\"],[0.5555555555555556,\"#1f9e89\"],[0.6666666666666666,\"#35b779\"],[0.7777777777777778,\"#6ece58\"],[0.8888888888888888,\"#b5de2b\"],[1.0,\"#fde725\"]]},\"colorway\":[\"#1F77B4\",\"#FF7F0E\",\"#2CA02C\",\"#D62728\",\"#9467BD\",\"#8C564B\",\"#E377C2\",\"#7F7F7F\",\"#BCBD22\",\"#17BECF\"],\"font\":{\"color\":\"rgb(36,36,36)\"},\"geo\":{\"bgcolor\":\"white\",\"lakecolor\":\"white\",\"landcolor\":\"white\",\"showlakes\":true,\"showland\":true,\"subunitcolor\":\"white\"},\"hoverlabel\":{\"align\":\"left\"},\"hovermode\":\"closest\",\"mapbox\":{\"style\":\"light\"},\"paper_bgcolor\":\"white\",\"plot_bgcolor\":\"white\",\"polar\":{\"angularaxis\":{\"gridcolor\":\"rgb(232,232,232)\",\"linecolor\":\"rgb(36,36,36)\",\"showgrid\":false,\"showline\":true,\"ticks\":\"outside\"},\"bgcolor\":\"white\",\"radialaxis\":{\"gridcolor\":\"rgb(232,232,232)\",\"linecolor\":\"rgb(36,36,36)\",\"showgrid\":false,\"showline\":true,\"ticks\":\"outside\"}},\"scene\":{\"xaxis\":{\"backgroundcolor\":\"white\",\"gridcolor\":\"rgb(232,232,232)\",\"gridwidth\":2,\"linecolor\":\"rgb(36,36,36)\",\"showbackground\":true,\"showgrid\":false,\"showline\":true,\"ticks\":\"outside\",\"zeroline\":false,\"zerolinecolor\":\"rgb(36,36,36)\"},\"yaxis\":{\"backgroundcolor\":\"white\",\"gridcolor\":\"rgb(232,232,232)\",\"gridwidth\":2,\"linecolor\":\"rgb(36,36,36)\",\"showbackground\":true,\"showgrid\":false,\"showline\":true,\"ticks\":\"outside\",\"zeroline\":false,\"zerolinecolor\":\"rgb(36,36,36)\"},\"zaxis\":{\"backgroundcolor\":\"white\",\"gridcolor\":\"rgb(232,232,232)\",\"gridwidth\":2,\"linecolor\":\"rgb(36,36,36)\",\"showbackground\":true,\"showgrid\":false,\"showline\":true,\"ticks\":\"outside\",\"zeroline\":false,\"zerolinecolor\":\"rgb(36,36,36)\"}},\"shapedefaults\":{\"fillcolor\":\"black\",\"line\":{\"width\":0},\"opacity\":0.3},\"ternary\":{\"aaxis\":{\"gridcolor\":\"rgb(232,232,232)\",\"linecolor\":\"rgb(36,36,36)\",\"showgrid\":false,\"showline\":true,\"ticks\":\"outside\"},\"baxis\":{\"gridcolor\":\"rgb(232,232,232)\",\"linecolor\":\"rgb(36,36,36)\",\"showgrid\":false,\"showline\":true,\"ticks\":\"outside\"},\"bgcolor\":\"white\",\"caxis\":{\"gridcolor\":\"rgb(232,232,232)\",\"linecolor\":\"rgb(36,36,36)\",\"showgrid\":false,\"showline\":true,\"ticks\":\"outside\"}},\"title\":{\"x\":0.05},\"xaxis\":{\"automargin\":true,\"gridcolor\":\"rgb(232,232,232)\",\"linecolor\":\"rgb(36,36,36)\",\"showgrid\":false,\"showline\":true,\"ticks\":\"outside\",\"title\":{\"standoff\":15},\"zeroline\":false,\"zerolinecolor\":\"rgb(36,36,36)\"},\"yaxis\":{\"automargin\":true,\"gridcolor\":\"rgb(232,232,232)\",\"linecolor\":\"rgb(36,36,36)\",\"showgrid\":false,\"showline\":true,\"ticks\":\"outside\",\"title\":{\"standoff\":15},\"zeroline\":false,\"zerolinecolor\":\"rgb(36,36,36)\"}}},\"xaxis\":{\"anchor\":\"y\",\"domain\":[0.0,1.0],\"title\":{\"text\":\"\\u0414\\u043b\\u0438\\u0442\\u0435\\u043b\\u044c\\u043d\\u043e\\u0441\\u0442\\u044c \\u0430\\u0431\\u043e\\u043d\\u0435\\u043c\\u0435\\u043d\\u0442\\u0430\",\"font\":{\"size\":14,\"color\":\"rgba(0, 0, 0, 0.7)\"}},\"tickfont\":{\"size\":14,\"color\":\"rgba(0, 0, 0, 0.7)\"},\"linecolor\":\"rgba(0, 0, 0, 0.4)\",\"tickcolor\":\"rgba(0, 0, 0, 0.4)\",\"visible\":true,\"showgrid\":false,\"gridwidth\":1,\"gridcolor\":\"rgba(0, 0, 0, 0.1)\"},\"yaxis\":{\"anchor\":\"x\",\"domain\":[0.0,1.0],\"title\":{\"text\":\"\\u0414\\u043e\\u043b\\u044f\",\"font\":{\"size\":14,\"color\":\"rgba(0, 0, 0, 0.7)\"}},\"tickfont\":{\"size\":14,\"color\":\"rgba(0, 0, 0, 0.7)\"},\"linecolor\":\"rgba(0, 0, 0, 0.4)\",\"tickcolor\":\"rgba(0, 0, 0, 0.4)\",\"visible\":true,\"showgrid\":true,\"gridwidth\":1,\"gridcolor\":\"rgba(0, 0, 0, 0.07)\"},\"legend\":{\"title\":{\"text\":\"\\u0424\\u0430\\u043a\\u0442 \\u043e\\u0442\\u0442\\u043e\\u043a\\u0430\",\"font\":{\"color\":\"rgba(0, 0, 0, 0.7)\",\"size\":14}},\"tracegroupgap\":0,\"font\":{\"color\":\"rgba(0, 0, 0, 0.7)\"},\"orientation\":\"h\",\"yanchor\":\"top\",\"y\":1.05,\"xanchor\":\"center\",\"x\":0.5},\"title\":{\"text\":\"\\u0420\\u0430\\u0441\\u043f\\u0440\\u0435\\u0434\\u0435\\u043b\\u0435\\u043d\\u0438\\u0435 \\u0434\\u043e\\u043b\\u0435\\u0439 \\u0434\\u043b\\u044f \\u0434\\u043b\\u0438\\u0442\\u0435\\u043b\\u044c\\u043d\\u043e\\u0441\\u0442\\u0438 \\u0430\\u0431\\u043e\\u043d\\u0435\\u043c\\u0435\\u043d\\u0442\\u0430 \\u0438 \\u0444\\u0430\\u043a\\u0442\\u0430 \\u043e\\u0442\\u0442\\u043e\\u043a\\u0430 c \\u043d\\u043e\\u0440\\u043c\\u0430\\u043b\\u0438\\u0437\\u0430\\u0446\\u0438\\u0435\\u0439\",\"font\":{\"size\":16,\"color\":\"rgba(0, 0, 0, 0.7)\"}},\"barmode\":\"group\",\"height\":450,\"width\":1000,\"font\":{\"size\":14,\"family\":\"Segoe UI\",\"color\":\"rgba(0, 0, 0, 0.7)\"},\"margin\":{\"l\":50,\"r\":50,\"b\":50,\"t\":70}},                        {\"responsive\": true}                    ).then(function(){\n",
       "                            \n",
       "var gd = document.getElementById('155c0416-14af-45b4-aaff-7ffbc2315127');\n",
       "var x = new MutationObserver(function (mutations, observer) {{\n",
       "        var display = window.getComputedStyle(gd).display;\n",
       "        if (!display || display === 'none') {{\n",
       "            console.log([gd, 'removed!']);\n",
       "            Plotly.purge(gd);\n",
       "            observer.disconnect();\n",
       "        }}\n",
       "}});\n",
       "\n",
       "// Listen for the removal of the full notebook cells\n",
       "var notebookContainer = gd.closest('#notebook-container');\n",
       "if (notebookContainer) {{\n",
       "    x.observe(notebookContainer, {childList: true});\n",
       "}}\n",
       "\n",
       "// Listen for the clearing of the current output cell\n",
       "var outputEl = gd.closest('.output');\n",
       "if (outputEl) {{\n",
       "    x.observe(outputEl, {childList: true});\n",
       "}}\n",
       "\n",
       "                        })                };                });            </script>        </div>"
      ]
     },
     "metadata": {},
     "output_type": "display_data"
    }
   ],
   "source": [
    "config = dict(\n",
    "    df = df\n",
    "    , column_for_axis = 'contract_period'\n",
    "    , column_for_legend = 'churn'  \n",
    "    , barmode = 'group'\n",
    "    , orientation = 'v'\n",
    "    , normalized_mode = 'row'\n",
    "    , height = 450\n",
    "    , width = 1000\n",
    "    , text = False\n",
    "    , xaxis_show = True\n",
    "    , yaxis_show = True\n",
    "    , showgrid_x = False\n",
    "    , showgrid_y = True      \n",
    "    , sort_axis = True    \n",
    "    , sort_legend = True    \n",
    "\n",
    ")\n",
    "pagri_data_tools.bar_categories(config, titles_for_axis)"
   ]
  },
  {
   "cell_type": "markdown",
   "metadata": {},
   "source": [
    "**Наблюдения:**  \n",
    "\n",
    "- С ростом длительности абонемента доля ушедших пользователей снижается. У пользователей с абонементом на 12 месяцев доля ушедших всего 2.4%."
   ]
  },
  {
   "cell_type": "code",
   "execution_count": 70,
   "metadata": {},
   "outputs": [
    {
     "data": {
      "text/html": [
       "<div>                            <div id=\"390d3974-18c2-4142-88d7-045d59a85329\" class=\"plotly-graph-div\" style=\"height:450px; width:1000px;\"></div>            <script type=\"text/javascript\">                require([\"plotly\"], function(Plotly) {                    window.PLOTLYENV=window.PLOTLYENV || {};                                    if (document.getElementById(\"390d3974-18c2-4142-88d7-045d59a85329\")) {                    Plotly.newPlot(                        \"390d3974-18c2-4142-88d7-045d59a85329\",                        [{\"alignmentgroup\":\"True\",\"hovertemplate\":\"\\u0421\\u0440\\u043e\\u043a \\u0434\\u043e \\u043a\\u043e\\u043d\\u0446\\u0430 \\u0430\\u0431\\u043e\\u043d\\u0435\\u043c\\u0435\\u043d\\u0442\\u0430 = %{x}\\u003cbr\\u003e\\u0424\\u0430\\u043a\\u0442 \\u043e\\u0442\\u0442\\u043e\\u043a\\u0430 = %{data.name}\\u003cbr\\u003e\\u0414\\u043e\\u043b\\u044f = %{y:.1f} %\\u003cbr\\u003e\\u041a\\u043e\\u043b\\u0438\\u0447\\u0435\\u0441\\u0442\\u0432\\u043e = %{customdata}\\u003cextra\\u003e\\u003c\\u002fextra\\u003e\",\"legendgroup\":\"0\",\"marker\":{\"color\":\"rgba(128, 60, 170, 0.9)\",\"pattern\":{\"shape\":\"\"}},\"name\":\"0\",\"offsetgroup\":\"0\",\"orientation\":\"v\",\"showlegend\":true,\"textposition\":\"auto\",\"x\":[9,11,10,12,8,7,3,6,4,2,5,1],\"xaxis\":\"x\",\"y\":[98.63013698630137,97.79005524861878,97.5609756097561,97.51908396946565,97.36842105263158,96.0,95.65217391304348,88.21705426356588,87.93103448275862,85.71428571428571,85.38461538461539,57.68010874490258],\"yaxis\":\"y\",\"type\":\"bar\",\"customdata\":[72.0,177.0,80.0,511.0,37.0,24.0,22.0,569.0,51.0,12.0,111.0,1273.0],\"hoverlabel\":{\"font\":{\"color\":\"rgba(0, 0, 0, 0.7)\",\"size\":14},\"bgcolor\":\"white\"},\"textfont\":{\"family\":\"Segoe UI\",\"size\":14}},{\"alignmentgroup\":\"True\",\"hovertemplate\":\"\\u0421\\u0440\\u043e\\u043a \\u0434\\u043e \\u043a\\u043e\\u043d\\u0446\\u0430 \\u0430\\u0431\\u043e\\u043d\\u0435\\u043c\\u0435\\u043d\\u0442\\u0430 = %{x}\\u003cbr\\u003e\\u0424\\u0430\\u043a\\u0442 \\u043e\\u0442\\u0442\\u043e\\u043a\\u0430 = %{data.name}\\u003cbr\\u003e\\u0414\\u043e\\u043b\\u044f = %{y:.1f} %\\u003cbr\\u003e\\u041a\\u043e\\u043b\\u0438\\u0447\\u0435\\u0441\\u0442\\u0432\\u043e = %{customdata}\\u003cextra\\u003e\\u003c\\u002fextra\\u003e\",\"legendgroup\":\"1\",\"marker\":{\"color\":\"#049CB3\",\"pattern\":{\"shape\":\"\"}},\"name\":\"1\",\"offsetgroup\":\"1\",\"orientation\":\"v\",\"showlegend\":true,\"textposition\":\"auto\",\"x\":[9,11,10,12,8,7,3,6,4,2,5,1],\"xaxis\":\"x\",\"y\":[1.36986301369863,2.2099447513812156,2.4390243902439024,2.480916030534351,2.6315789473684212,4.0,4.3478260869565215,11.782945736434108,12.068965517241379,14.285714285714286,14.615384615384615,42.31989125509742],\"yaxis\":\"y\",\"type\":\"bar\",\"customdata\":[1.0,4.0,2.0,13.0,1.0,1.0,1.0,76.0,7.0,2.0,19.0,934.0],\"hoverlabel\":{\"font\":{\"color\":\"rgba(0, 0, 0, 0.7)\",\"size\":14},\"bgcolor\":\"white\"},\"textfont\":{\"family\":\"Segoe UI\",\"size\":14}}],                        {\"template\":{\"data\":{\"barpolar\":[{\"marker\":{\"line\":{\"color\":\"white\",\"width\":0.5},\"pattern\":{\"fillmode\":\"overlay\",\"size\":10,\"solidity\":0.2}},\"type\":\"barpolar\"}],\"bar\":[{\"error_x\":{\"color\":\"rgb(36,36,36)\"},\"error_y\":{\"color\":\"rgb(36,36,36)\"},\"marker\":{\"line\":{\"color\":\"white\",\"width\":0.5},\"pattern\":{\"fillmode\":\"overlay\",\"size\":10,\"solidity\":0.2}},\"type\":\"bar\"}],\"carpet\":[{\"aaxis\":{\"endlinecolor\":\"rgb(36,36,36)\",\"gridcolor\":\"white\",\"linecolor\":\"white\",\"minorgridcolor\":\"white\",\"startlinecolor\":\"rgb(36,36,36)\"},\"baxis\":{\"endlinecolor\":\"rgb(36,36,36)\",\"gridcolor\":\"white\",\"linecolor\":\"white\",\"minorgridcolor\":\"white\",\"startlinecolor\":\"rgb(36,36,36)\"},\"type\":\"carpet\"}],\"choropleth\":[{\"colorbar\":{\"outlinewidth\":1,\"tickcolor\":\"rgb(36,36,36)\",\"ticks\":\"outside\"},\"type\":\"choropleth\"}],\"contourcarpet\":[{\"colorbar\":{\"outlinewidth\":1,\"tickcolor\":\"rgb(36,36,36)\",\"ticks\":\"outside\"},\"type\":\"contourcarpet\"}],\"contour\":[{\"colorbar\":{\"outlinewidth\":1,\"tickcolor\":\"rgb(36,36,36)\",\"ticks\":\"outside\"},\"colorscale\":[[0.0,\"#440154\"],[0.1111111111111111,\"#482878\"],[0.2222222222222222,\"#3e4989\"],[0.3333333333333333,\"#31688e\"],[0.4444444444444444,\"#26828e\"],[0.5555555555555556,\"#1f9e89\"],[0.6666666666666666,\"#35b779\"],[0.7777777777777778,\"#6ece58\"],[0.8888888888888888,\"#b5de2b\"],[1.0,\"#fde725\"]],\"type\":\"contour\"}],\"heatmapgl\":[{\"colorbar\":{\"outlinewidth\":1,\"tickcolor\":\"rgb(36,36,36)\",\"ticks\":\"outside\"},\"colorscale\":[[0.0,\"#440154\"],[0.1111111111111111,\"#482878\"],[0.2222222222222222,\"#3e4989\"],[0.3333333333333333,\"#31688e\"],[0.4444444444444444,\"#26828e\"],[0.5555555555555556,\"#1f9e89\"],[0.6666666666666666,\"#35b779\"],[0.7777777777777778,\"#6ece58\"],[0.8888888888888888,\"#b5de2b\"],[1.0,\"#fde725\"]],\"type\":\"heatmapgl\"}],\"heatmap\":[{\"colorbar\":{\"outlinewidth\":1,\"tickcolor\":\"rgb(36,36,36)\",\"ticks\":\"outside\"},\"colorscale\":[[0.0,\"#440154\"],[0.1111111111111111,\"#482878\"],[0.2222222222222222,\"#3e4989\"],[0.3333333333333333,\"#31688e\"],[0.4444444444444444,\"#26828e\"],[0.5555555555555556,\"#1f9e89\"],[0.6666666666666666,\"#35b779\"],[0.7777777777777778,\"#6ece58\"],[0.8888888888888888,\"#b5de2b\"],[1.0,\"#fde725\"]],\"type\":\"heatmap\"}],\"histogram2dcontour\":[{\"colorbar\":{\"outlinewidth\":1,\"tickcolor\":\"rgb(36,36,36)\",\"ticks\":\"outside\"},\"colorscale\":[[0.0,\"#440154\"],[0.1111111111111111,\"#482878\"],[0.2222222222222222,\"#3e4989\"],[0.3333333333333333,\"#31688e\"],[0.4444444444444444,\"#26828e\"],[0.5555555555555556,\"#1f9e89\"],[0.6666666666666666,\"#35b779\"],[0.7777777777777778,\"#6ece58\"],[0.8888888888888888,\"#b5de2b\"],[1.0,\"#fde725\"]],\"type\":\"histogram2dcontour\"}],\"histogram2d\":[{\"colorbar\":{\"outlinewidth\":1,\"tickcolor\":\"rgb(36,36,36)\",\"ticks\":\"outside\"},\"colorscale\":[[0.0,\"#440154\"],[0.1111111111111111,\"#482878\"],[0.2222222222222222,\"#3e4989\"],[0.3333333333333333,\"#31688e\"],[0.4444444444444444,\"#26828e\"],[0.5555555555555556,\"#1f9e89\"],[0.6666666666666666,\"#35b779\"],[0.7777777777777778,\"#6ece58\"],[0.8888888888888888,\"#b5de2b\"],[1.0,\"#fde725\"]],\"type\":\"histogram2d\"}],\"histogram\":[{\"marker\":{\"line\":{\"color\":\"white\",\"width\":0.6}},\"type\":\"histogram\"}],\"mesh3d\":[{\"colorbar\":{\"outlinewidth\":1,\"tickcolor\":\"rgb(36,36,36)\",\"ticks\":\"outside\"},\"type\":\"mesh3d\"}],\"parcoords\":[{\"line\":{\"colorbar\":{\"outlinewidth\":1,\"tickcolor\":\"rgb(36,36,36)\",\"ticks\":\"outside\"}},\"type\":\"parcoords\"}],\"pie\":[{\"automargin\":true,\"type\":\"pie\"}],\"scatter3d\":[{\"line\":{\"colorbar\":{\"outlinewidth\":1,\"tickcolor\":\"rgb(36,36,36)\",\"ticks\":\"outside\"}},\"marker\":{\"colorbar\":{\"outlinewidth\":1,\"tickcolor\":\"rgb(36,36,36)\",\"ticks\":\"outside\"}},\"type\":\"scatter3d\"}],\"scattercarpet\":[{\"marker\":{\"colorbar\":{\"outlinewidth\":1,\"tickcolor\":\"rgb(36,36,36)\",\"ticks\":\"outside\"}},\"type\":\"scattercarpet\"}],\"scattergeo\":[{\"marker\":{\"colorbar\":{\"outlinewidth\":1,\"tickcolor\":\"rgb(36,36,36)\",\"ticks\":\"outside\"}},\"type\":\"scattergeo\"}],\"scattergl\":[{\"marker\":{\"colorbar\":{\"outlinewidth\":1,\"tickcolor\":\"rgb(36,36,36)\",\"ticks\":\"outside\"}},\"type\":\"scattergl\"}],\"scattermapbox\":[{\"marker\":{\"colorbar\":{\"outlinewidth\":1,\"tickcolor\":\"rgb(36,36,36)\",\"ticks\":\"outside\"}},\"type\":\"scattermapbox\"}],\"scatterpolargl\":[{\"marker\":{\"colorbar\":{\"outlinewidth\":1,\"tickcolor\":\"rgb(36,36,36)\",\"ticks\":\"outside\"}},\"type\":\"scatterpolargl\"}],\"scatterpolar\":[{\"marker\":{\"colorbar\":{\"outlinewidth\":1,\"tickcolor\":\"rgb(36,36,36)\",\"ticks\":\"outside\"}},\"type\":\"scatterpolar\"}],\"scatter\":[{\"fillpattern\":{\"fillmode\":\"overlay\",\"size\":10,\"solidity\":0.2},\"type\":\"scatter\"}],\"scatterternary\":[{\"marker\":{\"colorbar\":{\"outlinewidth\":1,\"tickcolor\":\"rgb(36,36,36)\",\"ticks\":\"outside\"}},\"type\":\"scatterternary\"}],\"surface\":[{\"colorbar\":{\"outlinewidth\":1,\"tickcolor\":\"rgb(36,36,36)\",\"ticks\":\"outside\"},\"colorscale\":[[0.0,\"#440154\"],[0.1111111111111111,\"#482878\"],[0.2222222222222222,\"#3e4989\"],[0.3333333333333333,\"#31688e\"],[0.4444444444444444,\"#26828e\"],[0.5555555555555556,\"#1f9e89\"],[0.6666666666666666,\"#35b779\"],[0.7777777777777778,\"#6ece58\"],[0.8888888888888888,\"#b5de2b\"],[1.0,\"#fde725\"]],\"type\":\"surface\"}],\"table\":[{\"cells\":{\"fill\":{\"color\":\"rgb(237,237,237)\"},\"line\":{\"color\":\"white\"}},\"header\":{\"fill\":{\"color\":\"rgb(217,217,217)\"},\"line\":{\"color\":\"white\"}},\"type\":\"table\"}]},\"layout\":{\"annotationdefaults\":{\"arrowhead\":0,\"arrowwidth\":1},\"autotypenumbers\":\"strict\",\"coloraxis\":{\"colorbar\":{\"outlinewidth\":1,\"tickcolor\":\"rgb(36,36,36)\",\"ticks\":\"outside\"}},\"colorscale\":{\"diverging\":[[0.0,\"rgb(103,0,31)\"],[0.1,\"rgb(178,24,43)\"],[0.2,\"rgb(214,96,77)\"],[0.3,\"rgb(244,165,130)\"],[0.4,\"rgb(253,219,199)\"],[0.5,\"rgb(247,247,247)\"],[0.6,\"rgb(209,229,240)\"],[0.7,\"rgb(146,197,222)\"],[0.8,\"rgb(67,147,195)\"],[0.9,\"rgb(33,102,172)\"],[1.0,\"rgb(5,48,97)\"]],\"sequential\":[[0.0,\"#440154\"],[0.1111111111111111,\"#482878\"],[0.2222222222222222,\"#3e4989\"],[0.3333333333333333,\"#31688e\"],[0.4444444444444444,\"#26828e\"],[0.5555555555555556,\"#1f9e89\"],[0.6666666666666666,\"#35b779\"],[0.7777777777777778,\"#6ece58\"],[0.8888888888888888,\"#b5de2b\"],[1.0,\"#fde725\"]],\"sequentialminus\":[[0.0,\"#440154\"],[0.1111111111111111,\"#482878\"],[0.2222222222222222,\"#3e4989\"],[0.3333333333333333,\"#31688e\"],[0.4444444444444444,\"#26828e\"],[0.5555555555555556,\"#1f9e89\"],[0.6666666666666666,\"#35b779\"],[0.7777777777777778,\"#6ece58\"],[0.8888888888888888,\"#b5de2b\"],[1.0,\"#fde725\"]]},\"colorway\":[\"#1F77B4\",\"#FF7F0E\",\"#2CA02C\",\"#D62728\",\"#9467BD\",\"#8C564B\",\"#E377C2\",\"#7F7F7F\",\"#BCBD22\",\"#17BECF\"],\"font\":{\"color\":\"rgb(36,36,36)\"},\"geo\":{\"bgcolor\":\"white\",\"lakecolor\":\"white\",\"landcolor\":\"white\",\"showlakes\":true,\"showland\":true,\"subunitcolor\":\"white\"},\"hoverlabel\":{\"align\":\"left\"},\"hovermode\":\"closest\",\"mapbox\":{\"style\":\"light\"},\"paper_bgcolor\":\"white\",\"plot_bgcolor\":\"white\",\"polar\":{\"angularaxis\":{\"gridcolor\":\"rgb(232,232,232)\",\"linecolor\":\"rgb(36,36,36)\",\"showgrid\":false,\"showline\":true,\"ticks\":\"outside\"},\"bgcolor\":\"white\",\"radialaxis\":{\"gridcolor\":\"rgb(232,232,232)\",\"linecolor\":\"rgb(36,36,36)\",\"showgrid\":false,\"showline\":true,\"ticks\":\"outside\"}},\"scene\":{\"xaxis\":{\"backgroundcolor\":\"white\",\"gridcolor\":\"rgb(232,232,232)\",\"gridwidth\":2,\"linecolor\":\"rgb(36,36,36)\",\"showbackground\":true,\"showgrid\":false,\"showline\":true,\"ticks\":\"outside\",\"zeroline\":false,\"zerolinecolor\":\"rgb(36,36,36)\"},\"yaxis\":{\"backgroundcolor\":\"white\",\"gridcolor\":\"rgb(232,232,232)\",\"gridwidth\":2,\"linecolor\":\"rgb(36,36,36)\",\"showbackground\":true,\"showgrid\":false,\"showline\":true,\"ticks\":\"outside\",\"zeroline\":false,\"zerolinecolor\":\"rgb(36,36,36)\"},\"zaxis\":{\"backgroundcolor\":\"white\",\"gridcolor\":\"rgb(232,232,232)\",\"gridwidth\":2,\"linecolor\":\"rgb(36,36,36)\",\"showbackground\":true,\"showgrid\":false,\"showline\":true,\"ticks\":\"outside\",\"zeroline\":false,\"zerolinecolor\":\"rgb(36,36,36)\"}},\"shapedefaults\":{\"fillcolor\":\"black\",\"line\":{\"width\":0},\"opacity\":0.3},\"ternary\":{\"aaxis\":{\"gridcolor\":\"rgb(232,232,232)\",\"linecolor\":\"rgb(36,36,36)\",\"showgrid\":false,\"showline\":true,\"ticks\":\"outside\"},\"baxis\":{\"gridcolor\":\"rgb(232,232,232)\",\"linecolor\":\"rgb(36,36,36)\",\"showgrid\":false,\"showline\":true,\"ticks\":\"outside\"},\"bgcolor\":\"white\",\"caxis\":{\"gridcolor\":\"rgb(232,232,232)\",\"linecolor\":\"rgb(36,36,36)\",\"showgrid\":false,\"showline\":true,\"ticks\":\"outside\"}},\"title\":{\"x\":0.05},\"xaxis\":{\"automargin\":true,\"gridcolor\":\"rgb(232,232,232)\",\"linecolor\":\"rgb(36,36,36)\",\"showgrid\":false,\"showline\":true,\"ticks\":\"outside\",\"title\":{\"standoff\":15},\"zeroline\":false,\"zerolinecolor\":\"rgb(36,36,36)\"},\"yaxis\":{\"automargin\":true,\"gridcolor\":\"rgb(232,232,232)\",\"linecolor\":\"rgb(36,36,36)\",\"showgrid\":false,\"showline\":true,\"ticks\":\"outside\",\"title\":{\"standoff\":15},\"zeroline\":false,\"zerolinecolor\":\"rgb(36,36,36)\"}}},\"xaxis\":{\"anchor\":\"y\",\"domain\":[0.0,1.0],\"title\":{\"text\":\"\\u0421\\u0440\\u043e\\u043a \\u0434\\u043e \\u043a\\u043e\\u043d\\u0446\\u0430 \\u0430\\u0431\\u043e\\u043d\\u0435\\u043c\\u0435\\u043d\\u0442\\u0430\",\"font\":{\"size\":14,\"color\":\"rgba(0, 0, 0, 0.7)\"}},\"tickfont\":{\"size\":14,\"color\":\"rgba(0, 0, 0, 0.7)\"},\"linecolor\":\"rgba(0, 0, 0, 0.4)\",\"tickcolor\":\"rgba(0, 0, 0, 0.4)\",\"visible\":true,\"showgrid\":false,\"gridwidth\":1,\"gridcolor\":\"rgba(0, 0, 0, 0.1)\"},\"yaxis\":{\"anchor\":\"x\",\"domain\":[0.0,1.0],\"title\":{\"text\":\"\\u0414\\u043e\\u043b\\u044f\",\"font\":{\"size\":14,\"color\":\"rgba(0, 0, 0, 0.7)\"}},\"tickfont\":{\"size\":14,\"color\":\"rgba(0, 0, 0, 0.7)\"},\"linecolor\":\"rgba(0, 0, 0, 0.4)\",\"tickcolor\":\"rgba(0, 0, 0, 0.4)\",\"visible\":true,\"showgrid\":true,\"gridwidth\":1,\"gridcolor\":\"rgba(0, 0, 0, 0.07)\"},\"legend\":{\"title\":{\"text\":\"\\u0424\\u0430\\u043a\\u0442 \\u043e\\u0442\\u0442\\u043e\\u043a\\u0430\",\"font\":{\"color\":\"rgba(0, 0, 0, 0.7)\",\"size\":14}},\"tracegroupgap\":0,\"font\":{\"color\":\"rgba(0, 0, 0, 0.7)\"},\"orientation\":\"h\",\"yanchor\":\"top\",\"y\":1.05,\"xanchor\":\"center\",\"x\":0.5},\"title\":{\"text\":\"\\u0420\\u0430\\u0441\\u043f\\u0440\\u0435\\u0434\\u0435\\u043b\\u0435\\u043d\\u0438\\u0435 \\u0434\\u043e\\u043b\\u0435\\u0439 \\u0434\\u043b\\u044f \\u0441\\u0440\\u043e\\u043a\\u0430 \\u0434\\u043e \\u043a\\u043e\\u043d\\u0446\\u0430 \\u0430\\u0431\\u043e\\u043d\\u0435\\u043c\\u0435\\u043d\\u0442\\u0430 \\u0438 \\u0444\\u0430\\u043a\\u0442\\u0430 \\u043e\\u0442\\u0442\\u043e\\u043a\\u0430 c \\u043d\\u043e\\u0440\\u043c\\u0430\\u043b\\u0438\\u0437\\u0430\\u0446\\u0438\\u0435\\u0439\",\"font\":{\"size\":16,\"color\":\"rgba(0, 0, 0, 0.7)\"}},\"barmode\":\"group\",\"height\":450,\"width\":1000,\"font\":{\"size\":14,\"family\":\"Segoe UI\",\"color\":\"rgba(0, 0, 0, 0.7)\"},\"margin\":{\"l\":50,\"r\":50,\"b\":50,\"t\":70}},                        {\"responsive\": true}                    ).then(function(){\n",
       "                            \n",
       "var gd = document.getElementById('390d3974-18c2-4142-88d7-045d59a85329');\n",
       "var x = new MutationObserver(function (mutations, observer) {{\n",
       "        var display = window.getComputedStyle(gd).display;\n",
       "        if (!display || display === 'none') {{\n",
       "            console.log([gd, 'removed!']);\n",
       "            Plotly.purge(gd);\n",
       "            observer.disconnect();\n",
       "        }}\n",
       "}});\n",
       "\n",
       "// Listen for the removal of the full notebook cells\n",
       "var notebookContainer = gd.closest('#notebook-container');\n",
       "if (notebookContainer) {{\n",
       "    x.observe(notebookContainer, {childList: true});\n",
       "}}\n",
       "\n",
       "// Listen for the clearing of the current output cell\n",
       "var outputEl = gd.closest('.output');\n",
       "if (outputEl) {{\n",
       "    x.observe(outputEl, {childList: true});\n",
       "}}\n",
       "\n",
       "                        })                };                });            </script>        </div>"
      ]
     },
     "metadata": {},
     "output_type": "display_data"
    }
   ],
   "source": [
    "config = dict(\n",
    "    df = df\n",
    "    , column_for_axis = 'month_to_end_contract'\n",
    "    , column_for_legend = 'churn'  \n",
    "    , barmode = 'group'\n",
    "    , orientation = 'v'\n",
    "    , normalized_mode = 'row'\n",
    "    , height = 450\n",
    "    , width = 1000\n",
    "    , text = False\n",
    "    , xaxis_show = True\n",
    "    , yaxis_show = True\n",
    "    , showgrid_x = False\n",
    "    , showgrid_y = True      \n",
    "    , sort_axis = True    \n",
    "    , sort_legend = True    \n",
    "\n",
    ")\n",
    "pagri_data_tools.bar_categories(config, titles_for_axis)"
   ]
  },
  {
   "cell_type": "markdown",
   "metadata": {},
   "source": [
    "**Наблюдения:**  \n",
    "\n",
    "- Самая высокая доля ушедших со сроком до конца абонемента 1 месяц. То есть люди чаще ходят, когда абонемент скоро кончиться. При этом доля ушедших пользователей со скроком до конца абонемента больше 6 месяцев минимальная. Также низкая доля ушедших у пользователей со сроком 3 месяца."
   ]
  },
  {
   "cell_type": "markdown",
   "metadata": {},
   "source": [
    "### Сравнительный анализ распределений категориальных переменных"
   ]
  },
  {
   "cell_type": "code",
   "execution_count": null,
   "metadata": {},
   "outputs": [],
   "source": [
    "config = dict(\n",
    "    df = df\n",
    "    , column_for_axis = 'gender'\n",
    "    , column_for_legend = 'churn'  \n",
    "    , barmode = 'group'\n",
    "    , orientation = 'v'\n",
    "    , normalized_mode = 'row'\n",
    "    , height = 450\n",
    "    , width = 1000\n",
    "    , text = False\n",
    "    , xaxis_show = True\n",
    "    , yaxis_show = True\n",
    "    , showgrid_x = False\n",
    "    , showgrid_y = True      \n",
    "    , sort_axis = True    \n",
    "    , sort_legend = True    \n",
    "\n",
    ")\n",
    "pagri_data_tools.bar_categories(config, titles_for_axis)"
   ]
  },
  {
   "cell_type": "markdown",
   "metadata": {},
   "source": [
    "**Наблюдения:**  \n",
    "\n",
    "- Пол практически не влияет на факт оттока клиента."
   ]
  },
  {
   "cell_type": "code",
   "execution_count": null,
   "metadata": {},
   "outputs": [],
   "source": [
    "config = dict(\n",
    "    df = df\n",
    "    , column_for_axis = 'near_location'\n",
    "    , column_for_legend = 'churn'  \n",
    "    , barmode = 'group'\n",
    "    , orientation = 'v'\n",
    "    , normalized_mode = 'row'\n",
    "    , height = 450\n",
    "    , width = 1000\n",
    "    , text = False\n",
    "    , xaxis_show = True\n",
    "    , yaxis_show = True\n",
    "    , showgrid_x = False\n",
    "    , showgrid_y = True      \n",
    "    , sort_axis = True    \n",
    "    , sort_legend = True    \n",
    "\n",
    ")\n",
    "pagri_data_tools.bar_categories(config, titles_for_axis)"
   ]
  },
  {
   "cell_type": "markdown",
   "metadata": {},
   "source": [
    "**Наблюдения:**  \n",
    "\n",
    "- Доля ушедших выше у клиентов, которые не проживают или работают в районе фитнес-центра."
   ]
  },
  {
   "cell_type": "code",
   "execution_count": null,
   "metadata": {},
   "outputs": [],
   "source": [
    "config = dict(\n",
    "    df = df\n",
    "    , column_for_axis = 'partner'\n",
    "    , column_for_legend = 'churn'  \n",
    "    , barmode = 'group'\n",
    "    , orientation = 'v'\n",
    "    , normalized_mode = 'row'\n",
    "    , height = 450\n",
    "    , width = 1000\n",
    "    , text = False\n",
    "    , xaxis_show = True\n",
    "    , yaxis_show = True\n",
    "    , showgrid_x = False\n",
    "    , showgrid_y = True      \n",
    "    , sort_axis = True    \n",
    "    , sort_legend = True    \n",
    "\n",
    ")\n",
    "pagri_data_tools.bar_categories(config, titles_for_axis)"
   ]
  },
  {
   "cell_type": "markdown",
   "metadata": {},
   "source": [
    "**Наблюдения:**  \n",
    "\n",
    "- Доля ушедших више у клиентов, которые не являются сотрудниками компании-партнера."
   ]
  },
  {
   "cell_type": "code",
   "execution_count": null,
   "metadata": {},
   "outputs": [],
   "source": [
    "config = dict(\n",
    "    df = df\n",
    "    , column_for_axis = 'promo_friends'\n",
    "    , column_for_legend = 'churn'  \n",
    "    , barmode = 'group'\n",
    "    , orientation = 'v'\n",
    "    , normalized_mode = 'row'\n",
    "    , height = 450\n",
    "    , width = 1000\n",
    "    , text = False\n",
    "    , xaxis_show = True\n",
    "    , yaxis_show = True\n",
    "    , showgrid_x = False\n",
    "    , showgrid_y = True      \n",
    "    , sort_axis = True    \n",
    "    , sort_legend = True    \n",
    "\n",
    ")\n",
    "pagri_data_tools.bar_categories(config, titles_for_axis)"
   ]
  },
  {
   "cell_type": "markdown",
   "metadata": {},
   "source": [
    "**Наблюдения:**  \n",
    "\n",
    "- Доля ушедших ниже у клиентов, которые пришли по промо акции."
   ]
  },
  {
   "cell_type": "code",
   "execution_count": null,
   "metadata": {},
   "outputs": [],
   "source": [
    "config = dict(\n",
    "    df = df\n",
    "    , column_for_axis = 'phone'\n",
    "    , column_for_legend = 'churn'  \n",
    "    , barmode = 'group'\n",
    "    , orientation = 'v'\n",
    "    , normalized_mode = 'row'\n",
    "    , height = 450\n",
    "    , width = 1000\n",
    "    , text = False\n",
    "    , xaxis_show = True\n",
    "    , yaxis_show = True\n",
    "    , showgrid_x = False\n",
    "    , showgrid_y = True      \n",
    "    , sort_axis = True    \n",
    "    , sort_legend = True    \n",
    "\n",
    ")\n",
    "pagri_data_tools.bar_categories(config, titles_for_axis)"
   ]
  },
  {
   "cell_type": "markdown",
   "metadata": {},
   "source": [
    "**Наблюдения:**  \n",
    "\n",
    "- Наличие телефона не влияет на факт оттока клиента."
   ]
  },
  {
   "cell_type": "code",
   "execution_count": 84,
   "metadata": {},
   "outputs": [
    {
     "data": {
      "text/html": [
       "<div>                            <div id=\"0c0a3984-554b-4a72-b284-a639f73e8a90\" class=\"plotly-graph-div\" style=\"height:450px; width:1000px;\"></div>            <script type=\"text/javascript\">                require([\"plotly\"], function(Plotly) {                    window.PLOTLYENV=window.PLOTLYENV || {};                                    if (document.getElementById(\"0c0a3984-554b-4a72-b284-a639f73e8a90\")) {                    Plotly.newPlot(                        \"0c0a3984-554b-4a72-b284-a639f73e8a90\",                        [{\"alignmentgroup\":\"True\",\"hovertemplate\":\"\\u041f\\u043e\\u0441\\u0435\\u0448\\u044f\\u043b \\u0433\\u0440\\u0443\\u043f\\u043f\\u043e\\u0432\\u044b\\u0435 \\u0437\\u0430\\u043d\\u044f\\u0442\\u0438\\u044f = %{x}\\u003cbr\\u003e\\u0424\\u0430\\u043a\\u0442 \\u043e\\u0442\\u0442\\u043e\\u043a\\u0430 = %{data.name}\\u003cbr\\u003e\\u0414\\u043e\\u043b\\u044f = %{y:.1f} %\\u003cbr\\u003e\\u041a\\u043e\\u043b\\u0438\\u0447\\u0435\\u0441\\u0442\\u0432\\u043e = %{customdata}\\u003cextra\\u003e\\u003c\\u002fextra\\u003e\",\"legendgroup\":\"0\",\"marker\":{\"color\":\"rgba(128, 60, 170, 0.9)\",\"pattern\":{\"shape\":\"\"}},\"name\":\"0\",\"offsetgroup\":\"0\",\"orientation\":\"v\",\"showlegend\":true,\"textposition\":\"auto\",\"x\":[\"1\",\"0\"],\"xaxis\":\"x\",\"y\":[82.71679805942996,66.99276903445342],\"yaxis\":\"y\",\"type\":\"bar\",\"customdata\":[1364.0,1575.0],\"hoverlabel\":{\"font\":{\"color\":\"rgba(0, 0, 0, 0.7)\",\"size\":14},\"bgcolor\":\"white\"},\"textfont\":{\"family\":\"Segoe UI\",\"size\":14}},{\"alignmentgroup\":\"True\",\"hovertemplate\":\"\\u041f\\u043e\\u0441\\u0435\\u0448\\u044f\\u043b \\u0433\\u0440\\u0443\\u043f\\u043f\\u043e\\u0432\\u044b\\u0435 \\u0437\\u0430\\u043d\\u044f\\u0442\\u0438\\u044f = %{x}\\u003cbr\\u003e\\u0424\\u0430\\u043a\\u0442 \\u043e\\u0442\\u0442\\u043e\\u043a\\u0430 = %{data.name}\\u003cbr\\u003e\\u0414\\u043e\\u043b\\u044f = %{y:.1f} %\\u003cbr\\u003e\\u041a\\u043e\\u043b\\u0438\\u0447\\u0435\\u0441\\u0442\\u0432\\u043e = %{customdata}\\u003cextra\\u003e\\u003c\\u002fextra\\u003e\",\"legendgroup\":\"1\",\"marker\":{\"color\":\"#049CB3\",\"pattern\":{\"shape\":\"\"}},\"name\":\"1\",\"offsetgroup\":\"1\",\"orientation\":\"v\",\"showlegend\":true,\"textposition\":\"auto\",\"x\":[\"1\",\"0\"],\"xaxis\":\"x\",\"y\":[17.28320194057004,33.007230965546576],\"yaxis\":\"y\",\"type\":\"bar\",\"customdata\":[285.0,776.0],\"hoverlabel\":{\"font\":{\"color\":\"rgba(0, 0, 0, 0.7)\",\"size\":14},\"bgcolor\":\"white\"},\"textfont\":{\"family\":\"Segoe UI\",\"size\":14}}],                        {\"template\":{\"data\":{\"barpolar\":[{\"marker\":{\"line\":{\"color\":\"white\",\"width\":0.5},\"pattern\":{\"fillmode\":\"overlay\",\"size\":10,\"solidity\":0.2}},\"type\":\"barpolar\"}],\"bar\":[{\"error_x\":{\"color\":\"rgb(36,36,36)\"},\"error_y\":{\"color\":\"rgb(36,36,36)\"},\"marker\":{\"line\":{\"color\":\"white\",\"width\":0.5},\"pattern\":{\"fillmode\":\"overlay\",\"size\":10,\"solidity\":0.2}},\"type\":\"bar\"}],\"carpet\":[{\"aaxis\":{\"endlinecolor\":\"rgb(36,36,36)\",\"gridcolor\":\"white\",\"linecolor\":\"white\",\"minorgridcolor\":\"white\",\"startlinecolor\":\"rgb(36,36,36)\"},\"baxis\":{\"endlinecolor\":\"rgb(36,36,36)\",\"gridcolor\":\"white\",\"linecolor\":\"white\",\"minorgridcolor\":\"white\",\"startlinecolor\":\"rgb(36,36,36)\"},\"type\":\"carpet\"}],\"choropleth\":[{\"colorbar\":{\"outlinewidth\":1,\"tickcolor\":\"rgb(36,36,36)\",\"ticks\":\"outside\"},\"type\":\"choropleth\"}],\"contourcarpet\":[{\"colorbar\":{\"outlinewidth\":1,\"tickcolor\":\"rgb(36,36,36)\",\"ticks\":\"outside\"},\"type\":\"contourcarpet\"}],\"contour\":[{\"colorbar\":{\"outlinewidth\":1,\"tickcolor\":\"rgb(36,36,36)\",\"ticks\":\"outside\"},\"colorscale\":[[0.0,\"#440154\"],[0.1111111111111111,\"#482878\"],[0.2222222222222222,\"#3e4989\"],[0.3333333333333333,\"#31688e\"],[0.4444444444444444,\"#26828e\"],[0.5555555555555556,\"#1f9e89\"],[0.6666666666666666,\"#35b779\"],[0.7777777777777778,\"#6ece58\"],[0.8888888888888888,\"#b5de2b\"],[1.0,\"#fde725\"]],\"type\":\"contour\"}],\"heatmapgl\":[{\"colorbar\":{\"outlinewidth\":1,\"tickcolor\":\"rgb(36,36,36)\",\"ticks\":\"outside\"},\"colorscale\":[[0.0,\"#440154\"],[0.1111111111111111,\"#482878\"],[0.2222222222222222,\"#3e4989\"],[0.3333333333333333,\"#31688e\"],[0.4444444444444444,\"#26828e\"],[0.5555555555555556,\"#1f9e89\"],[0.6666666666666666,\"#35b779\"],[0.7777777777777778,\"#6ece58\"],[0.8888888888888888,\"#b5de2b\"],[1.0,\"#fde725\"]],\"type\":\"heatmapgl\"}],\"heatmap\":[{\"colorbar\":{\"outlinewidth\":1,\"tickcolor\":\"rgb(36,36,36)\",\"ticks\":\"outside\"},\"colorscale\":[[0.0,\"#440154\"],[0.1111111111111111,\"#482878\"],[0.2222222222222222,\"#3e4989\"],[0.3333333333333333,\"#31688e\"],[0.4444444444444444,\"#26828e\"],[0.5555555555555556,\"#1f9e89\"],[0.6666666666666666,\"#35b779\"],[0.7777777777777778,\"#6ece58\"],[0.8888888888888888,\"#b5de2b\"],[1.0,\"#fde725\"]],\"type\":\"heatmap\"}],\"histogram2dcontour\":[{\"colorbar\":{\"outlinewidth\":1,\"tickcolor\":\"rgb(36,36,36)\",\"ticks\":\"outside\"},\"colorscale\":[[0.0,\"#440154\"],[0.1111111111111111,\"#482878\"],[0.2222222222222222,\"#3e4989\"],[0.3333333333333333,\"#31688e\"],[0.4444444444444444,\"#26828e\"],[0.5555555555555556,\"#1f9e89\"],[0.6666666666666666,\"#35b779\"],[0.7777777777777778,\"#6ece58\"],[0.8888888888888888,\"#b5de2b\"],[1.0,\"#fde725\"]],\"type\":\"histogram2dcontour\"}],\"histogram2d\":[{\"colorbar\":{\"outlinewidth\":1,\"tickcolor\":\"rgb(36,36,36)\",\"ticks\":\"outside\"},\"colorscale\":[[0.0,\"#440154\"],[0.1111111111111111,\"#482878\"],[0.2222222222222222,\"#3e4989\"],[0.3333333333333333,\"#31688e\"],[0.4444444444444444,\"#26828e\"],[0.5555555555555556,\"#1f9e89\"],[0.6666666666666666,\"#35b779\"],[0.7777777777777778,\"#6ece58\"],[0.8888888888888888,\"#b5de2b\"],[1.0,\"#fde725\"]],\"type\":\"histogram2d\"}],\"histogram\":[{\"marker\":{\"line\":{\"color\":\"white\",\"width\":0.6}},\"type\":\"histogram\"}],\"mesh3d\":[{\"colorbar\":{\"outlinewidth\":1,\"tickcolor\":\"rgb(36,36,36)\",\"ticks\":\"outside\"},\"type\":\"mesh3d\"}],\"parcoords\":[{\"line\":{\"colorbar\":{\"outlinewidth\":1,\"tickcolor\":\"rgb(36,36,36)\",\"ticks\":\"outside\"}},\"type\":\"parcoords\"}],\"pie\":[{\"automargin\":true,\"type\":\"pie\"}],\"scatter3d\":[{\"line\":{\"colorbar\":{\"outlinewidth\":1,\"tickcolor\":\"rgb(36,36,36)\",\"ticks\":\"outside\"}},\"marker\":{\"colorbar\":{\"outlinewidth\":1,\"tickcolor\":\"rgb(36,36,36)\",\"ticks\":\"outside\"}},\"type\":\"scatter3d\"}],\"scattercarpet\":[{\"marker\":{\"colorbar\":{\"outlinewidth\":1,\"tickcolor\":\"rgb(36,36,36)\",\"ticks\":\"outside\"}},\"type\":\"scattercarpet\"}],\"scattergeo\":[{\"marker\":{\"colorbar\":{\"outlinewidth\":1,\"tickcolor\":\"rgb(36,36,36)\",\"ticks\":\"outside\"}},\"type\":\"scattergeo\"}],\"scattergl\":[{\"marker\":{\"colorbar\":{\"outlinewidth\":1,\"tickcolor\":\"rgb(36,36,36)\",\"ticks\":\"outside\"}},\"type\":\"scattergl\"}],\"scattermapbox\":[{\"marker\":{\"colorbar\":{\"outlinewidth\":1,\"tickcolor\":\"rgb(36,36,36)\",\"ticks\":\"outside\"}},\"type\":\"scattermapbox\"}],\"scatterpolargl\":[{\"marker\":{\"colorbar\":{\"outlinewidth\":1,\"tickcolor\":\"rgb(36,36,36)\",\"ticks\":\"outside\"}},\"type\":\"scatterpolargl\"}],\"scatterpolar\":[{\"marker\":{\"colorbar\":{\"outlinewidth\":1,\"tickcolor\":\"rgb(36,36,36)\",\"ticks\":\"outside\"}},\"type\":\"scatterpolar\"}],\"scatter\":[{\"fillpattern\":{\"fillmode\":\"overlay\",\"size\":10,\"solidity\":0.2},\"type\":\"scatter\"}],\"scatterternary\":[{\"marker\":{\"colorbar\":{\"outlinewidth\":1,\"tickcolor\":\"rgb(36,36,36)\",\"ticks\":\"outside\"}},\"type\":\"scatterternary\"}],\"surface\":[{\"colorbar\":{\"outlinewidth\":1,\"tickcolor\":\"rgb(36,36,36)\",\"ticks\":\"outside\"},\"colorscale\":[[0.0,\"#440154\"],[0.1111111111111111,\"#482878\"],[0.2222222222222222,\"#3e4989\"],[0.3333333333333333,\"#31688e\"],[0.4444444444444444,\"#26828e\"],[0.5555555555555556,\"#1f9e89\"],[0.6666666666666666,\"#35b779\"],[0.7777777777777778,\"#6ece58\"],[0.8888888888888888,\"#b5de2b\"],[1.0,\"#fde725\"]],\"type\":\"surface\"}],\"table\":[{\"cells\":{\"fill\":{\"color\":\"rgb(237,237,237)\"},\"line\":{\"color\":\"white\"}},\"header\":{\"fill\":{\"color\":\"rgb(217,217,217)\"},\"line\":{\"color\":\"white\"}},\"type\":\"table\"}]},\"layout\":{\"annotationdefaults\":{\"arrowhead\":0,\"arrowwidth\":1},\"autotypenumbers\":\"strict\",\"coloraxis\":{\"colorbar\":{\"outlinewidth\":1,\"tickcolor\":\"rgb(36,36,36)\",\"ticks\":\"outside\"}},\"colorscale\":{\"diverging\":[[0.0,\"rgb(103,0,31)\"],[0.1,\"rgb(178,24,43)\"],[0.2,\"rgb(214,96,77)\"],[0.3,\"rgb(244,165,130)\"],[0.4,\"rgb(253,219,199)\"],[0.5,\"rgb(247,247,247)\"],[0.6,\"rgb(209,229,240)\"],[0.7,\"rgb(146,197,222)\"],[0.8,\"rgb(67,147,195)\"],[0.9,\"rgb(33,102,172)\"],[1.0,\"rgb(5,48,97)\"]],\"sequential\":[[0.0,\"#440154\"],[0.1111111111111111,\"#482878\"],[0.2222222222222222,\"#3e4989\"],[0.3333333333333333,\"#31688e\"],[0.4444444444444444,\"#26828e\"],[0.5555555555555556,\"#1f9e89\"],[0.6666666666666666,\"#35b779\"],[0.7777777777777778,\"#6ece58\"],[0.8888888888888888,\"#b5de2b\"],[1.0,\"#fde725\"]],\"sequentialminus\":[[0.0,\"#440154\"],[0.1111111111111111,\"#482878\"],[0.2222222222222222,\"#3e4989\"],[0.3333333333333333,\"#31688e\"],[0.4444444444444444,\"#26828e\"],[0.5555555555555556,\"#1f9e89\"],[0.6666666666666666,\"#35b779\"],[0.7777777777777778,\"#6ece58\"],[0.8888888888888888,\"#b5de2b\"],[1.0,\"#fde725\"]]},\"colorway\":[\"#1F77B4\",\"#FF7F0E\",\"#2CA02C\",\"#D62728\",\"#9467BD\",\"#8C564B\",\"#E377C2\",\"#7F7F7F\",\"#BCBD22\",\"#17BECF\"],\"font\":{\"color\":\"rgb(36,36,36)\"},\"geo\":{\"bgcolor\":\"white\",\"lakecolor\":\"white\",\"landcolor\":\"white\",\"showlakes\":true,\"showland\":true,\"subunitcolor\":\"white\"},\"hoverlabel\":{\"align\":\"left\"},\"hovermode\":\"closest\",\"mapbox\":{\"style\":\"light\"},\"paper_bgcolor\":\"white\",\"plot_bgcolor\":\"white\",\"polar\":{\"angularaxis\":{\"gridcolor\":\"rgb(232,232,232)\",\"linecolor\":\"rgb(36,36,36)\",\"showgrid\":false,\"showline\":true,\"ticks\":\"outside\"},\"bgcolor\":\"white\",\"radialaxis\":{\"gridcolor\":\"rgb(232,232,232)\",\"linecolor\":\"rgb(36,36,36)\",\"showgrid\":false,\"showline\":true,\"ticks\":\"outside\"}},\"scene\":{\"xaxis\":{\"backgroundcolor\":\"white\",\"gridcolor\":\"rgb(232,232,232)\",\"gridwidth\":2,\"linecolor\":\"rgb(36,36,36)\",\"showbackground\":true,\"showgrid\":false,\"showline\":true,\"ticks\":\"outside\",\"zeroline\":false,\"zerolinecolor\":\"rgb(36,36,36)\"},\"yaxis\":{\"backgroundcolor\":\"white\",\"gridcolor\":\"rgb(232,232,232)\",\"gridwidth\":2,\"linecolor\":\"rgb(36,36,36)\",\"showbackground\":true,\"showgrid\":false,\"showline\":true,\"ticks\":\"outside\",\"zeroline\":false,\"zerolinecolor\":\"rgb(36,36,36)\"},\"zaxis\":{\"backgroundcolor\":\"white\",\"gridcolor\":\"rgb(232,232,232)\",\"gridwidth\":2,\"linecolor\":\"rgb(36,36,36)\",\"showbackground\":true,\"showgrid\":false,\"showline\":true,\"ticks\":\"outside\",\"zeroline\":false,\"zerolinecolor\":\"rgb(36,36,36)\"}},\"shapedefaults\":{\"fillcolor\":\"black\",\"line\":{\"width\":0},\"opacity\":0.3},\"ternary\":{\"aaxis\":{\"gridcolor\":\"rgb(232,232,232)\",\"linecolor\":\"rgb(36,36,36)\",\"showgrid\":false,\"showline\":true,\"ticks\":\"outside\"},\"baxis\":{\"gridcolor\":\"rgb(232,232,232)\",\"linecolor\":\"rgb(36,36,36)\",\"showgrid\":false,\"showline\":true,\"ticks\":\"outside\"},\"bgcolor\":\"white\",\"caxis\":{\"gridcolor\":\"rgb(232,232,232)\",\"linecolor\":\"rgb(36,36,36)\",\"showgrid\":false,\"showline\":true,\"ticks\":\"outside\"}},\"title\":{\"x\":0.05},\"xaxis\":{\"automargin\":true,\"gridcolor\":\"rgb(232,232,232)\",\"linecolor\":\"rgb(36,36,36)\",\"showgrid\":false,\"showline\":true,\"ticks\":\"outside\",\"title\":{\"standoff\":15},\"zeroline\":false,\"zerolinecolor\":\"rgb(36,36,36)\"},\"yaxis\":{\"automargin\":true,\"gridcolor\":\"rgb(232,232,232)\",\"linecolor\":\"rgb(36,36,36)\",\"showgrid\":false,\"showline\":true,\"ticks\":\"outside\",\"title\":{\"standoff\":15},\"zeroline\":false,\"zerolinecolor\":\"rgb(36,36,36)\"}}},\"xaxis\":{\"anchor\":\"y\",\"domain\":[0.0,1.0],\"title\":{\"text\":\"\\u041f\\u043e\\u0441\\u0435\\u0448\\u044f\\u043b \\u0433\\u0440\\u0443\\u043f\\u043f\\u043e\\u0432\\u044b\\u0435 \\u0437\\u0430\\u043d\\u044f\\u0442\\u0438\\u044f\",\"font\":{\"size\":14,\"color\":\"rgba(0, 0, 0, 0.7)\"}},\"tickfont\":{\"size\":14,\"color\":\"rgba(0, 0, 0, 0.7)\"},\"linecolor\":\"rgba(0, 0, 0, 0.4)\",\"tickcolor\":\"rgba(0, 0, 0, 0.4)\",\"visible\":true,\"showgrid\":false,\"gridwidth\":1,\"gridcolor\":\"rgba(0, 0, 0, 0.1)\"},\"yaxis\":{\"anchor\":\"x\",\"domain\":[0.0,1.0],\"title\":{\"text\":\"\\u0414\\u043e\\u043b\\u044f\",\"font\":{\"size\":14,\"color\":\"rgba(0, 0, 0, 0.7)\"}},\"tickfont\":{\"size\":14,\"color\":\"rgba(0, 0, 0, 0.7)\"},\"linecolor\":\"rgba(0, 0, 0, 0.4)\",\"tickcolor\":\"rgba(0, 0, 0, 0.4)\",\"visible\":true,\"showgrid\":true,\"gridwidth\":1,\"gridcolor\":\"rgba(0, 0, 0, 0.07)\"},\"legend\":{\"title\":{\"text\":\"\\u0424\\u0430\\u043a\\u0442 \\u043e\\u0442\\u0442\\u043e\\u043a\\u0430\",\"font\":{\"color\":\"rgba(0, 0, 0, 0.7)\",\"size\":14}},\"tracegroupgap\":0,\"font\":{\"color\":\"rgba(0, 0, 0, 0.7)\"},\"orientation\":\"h\",\"yanchor\":\"top\",\"y\":1.05,\"xanchor\":\"center\",\"x\":0.5},\"title\":{\"text\":\"\\u0420\\u0430\\u0441\\u043f\\u0440\\u0435\\u0434\\u0435\\u043b\\u0435\\u043d\\u0438\\u0435 \\u0434\\u043e\\u043b\\u0435\\u0439 \\u0434\\u043b\\u044f \\u043f\\u043e\\u0441\\u0435\\u0448\\u0435\\u043d\\u0438\\u044f \\u0433\\u0440\\u0443\\u043f\\u043f\\u043e\\u0432\\u044b\\u0445 \\u0437\\u0430\\u043d\\u044f\\u0442\\u0438\\u0439 \\u0438 \\u0444\\u0430\\u043a\\u0442\\u0430 \\u043e\\u0442\\u0442\\u043e\\u043a\\u0430 c \\u043d\\u043e\\u0440\\u043c\\u0430\\u043b\\u0438\\u0437\\u0430\\u0446\\u0438\\u0435\\u0439\",\"font\":{\"size\":16,\"color\":\"rgba(0, 0, 0, 0.7)\"}},\"barmode\":\"group\",\"height\":450,\"width\":1000,\"font\":{\"size\":14,\"family\":\"Segoe UI\",\"color\":\"rgba(0, 0, 0, 0.7)\"},\"margin\":{\"l\":50,\"r\":50,\"b\":50,\"t\":70}},                        {\"responsive\": true}                    ).then(function(){\n",
       "                            \n",
       "var gd = document.getElementById('0c0a3984-554b-4a72-b284-a639f73e8a90');\n",
       "var x = new MutationObserver(function (mutations, observer) {{\n",
       "        var display = window.getComputedStyle(gd).display;\n",
       "        if (!display || display === 'none') {{\n",
       "            console.log([gd, 'removed!']);\n",
       "            Plotly.purge(gd);\n",
       "            observer.disconnect();\n",
       "        }}\n",
       "}});\n",
       "\n",
       "// Listen for the removal of the full notebook cells\n",
       "var notebookContainer = gd.closest('#notebook-container');\n",
       "if (notebookContainer) {{\n",
       "    x.observe(notebookContainer, {childList: true});\n",
       "}}\n",
       "\n",
       "// Listen for the clearing of the current output cell\n",
       "var outputEl = gd.closest('.output');\n",
       "if (outputEl) {{\n",
       "    x.observe(outputEl, {childList: true});\n",
       "}}\n",
       "\n",
       "                        })                };                });            </script>        </div>"
      ]
     },
     "metadata": {},
     "output_type": "display_data"
    }
   ],
   "source": [
    "config = dict(\n",
    "    df = df\n",
    "    , column_for_axis = 'group_visits'\n",
    "    , column_for_legend = 'churn'  \n",
    "    , barmode = 'group'\n",
    "    , orientation = 'v'\n",
    "    , normalized_mode = 'row'\n",
    "    , height = 450\n",
    "    , width = 1000\n",
    "    , text = False\n",
    "    , xaxis_show = True\n",
    "    , yaxis_show = True\n",
    "    , showgrid_x = False\n",
    "    , showgrid_y = True      \n",
    "    , sort_axis = True    \n",
    "    , sort_legend = True    \n",
    "\n",
    ")\n",
    "pagri_data_tools.bar_categories(config, titles_for_axis)"
   ]
  },
  {
   "cell_type": "markdown",
   "metadata": {},
   "source": [
    "**Наблюдения:**  \n",
    "\n",
    "- Доля ушедших выше у клиентов, которые не посещали групповые занятия."
   ]
  },
  {
   "cell_type": "markdown",
   "metadata": {},
   "source": [
    "### Исследование корреляционных связей"
   ]
  },
  {
   "cell_type": "markdown",
   "metadata": {},
   "source": [
    "Сормируем словарь для подписей осей и названий графиков."
   ]
  },
  {
   "cell_type": "code",
   "execution_count": null,
   "metadata": {},
   "outputs": [],
   "source": [
    "\n",
    "titles_for_axis= dict(\n",
    "    age = 'Возраст'\n",
    "    , avg_class_frequency_total = 'Ср число посещений в неделю за все время'\n",
    "    , avg_class_frequency_current_month = 'Среднее число посещений в неделю за последний месяц'\n",
    "    , lifetime = 'Время с момента первого посещения'\n",
    "    , avg_additional_charges_total = 'Суммарная выручка от других услуг'\n",
    "    , contract_period = 'Длительность абонемента'\n",
    "    , month_to_end_contract = 'Срок до конца абонемента'\n",
    "    , gender = 'Пол'\n",
    "    , near_location = 'Проживание или работа в районе'\n",
    "    , partner = 'Сотрудник компании-партнёра'\n",
    "    , promo_friends = 'Пришел по промо'\n",
    "    , phone = 'Наличие телефона'\n",
    "    , group_visits = 'Посешял групповые занятия'\n",
    "    , churn = 'Факт оттока'\n",
    ")"
   ]
  },
  {
   "cell_type": "markdown",
   "metadata": {},
   "source": [
    "Посмотрим на коэффициенты корреляции между числовыми переменными."
   ]
  },
  {
   "cell_type": "code",
   "execution_count": null,
   "metadata": {},
   "outputs": [],
   "source": [
    "pagri_data_tools.heatmap_corr(df, titles_for_axis=titles_for_axis)"
   ]
  },
  {
   "cell_type": "markdown",
   "metadata": {},
   "source": [
    "Лучше лишние ячейки убирать, если есть возможность "
   ]
  },
  {
   "cell_type": "code",
   "execution_count": null,
   "metadata": {},
   "outputs": [],
   "source": [
    "pagri_data_tools.heatmap_corr(df_by_userid_month[['sessions_per_day', 'calls_per_day']])"
   ]
  },
  {
   "cell_type": "markdown",
   "metadata": {},
   "source": [
    "Если нужно быстро просмотреть, то проганяем в цикле"
   ]
  },
  {
   "cell_type": "code",
   "execution_count": null,
   "metadata": {},
   "outputs": [],
   "source": [
    "for key, df in dict(\n",
    "            df_users = df_users\n",
    "            , df_calls = df_calls\n",
    "            , df_messages = df_messages\n",
    "            , df_internet = df_internet\n",
    "            , df_tariffs = df_tariffs\n",
    "            , df_calls_full = df_calls_full\n",
    "            , df_messages_full = df_messages_full\n",
    "            , df_internet_full = df_internet_full\n",
    "            , df_by_userid_month = df_by_userid_month\n",
    "            , df_arpu = df_arpu).items():\n",
    "    print(key)\n",
    "    display(pagri_data_tools.heatmap_corr(df))"
   ]
  },
  {
   "cell_type": "markdown",
   "metadata": {},
   "source": [
    "Если переменных много и нужно разделить на части, то используем эту функцию "
   ]
  },
  {
   "cell_type": "code",
   "execution_count": null,
   "metadata": {},
   "outputs": [],
   "source": [
    "gen = pagri_data_tools.heatmap_corr_gen(df, part_size=10, titles_for_axis=titles_for_axis)\n",
    "next(gen)"
   ]
  },
  {
   "cell_type": "markdown",
   "metadata": {},
   "source": [
    "### Изучение зависимостей между числовыми переменными\n"
   ]
  },
  {
   "cell_type": "markdown",
   "metadata": {},
   "source": [
    "Построим дендогрммы для числовых переменных."
   ]
  },
  {
   "cell_type": "markdown",
   "metadata": {},
   "source": [
    "Если данных много, то делаем сэмплирование."
   ]
  },
  {
   "cell_type": "code",
   "execution_count": null,
   "metadata": {},
   "outputs": [],
   "source": [
    "sampled_df = df.sample(n=10, random_state=42)  # random_state для воспроизводимости"
   ]
  },
  {
   "cell_type": "markdown",
   "metadata": {},
   "source": [
    "Дендограммы можно использовать в анализе данных без машинного обучения для визуализации иерархической структуры данных, определения оптимального числа кластеров и выявления выбросов. Они помогают исследовать скрытые закономерности и взаимосвязи в данных, что делает их полезными в различных контекстах. Рассмотрим основные случаи использования дендограмм в анализе данных:"
   ]
  },
  {
   "cell_type": "markdown",
   "metadata": {},
   "source": [
    "- Визуализация иерархической структуры:  \n",
    "Дендограммы позволяют визуально представить, как объекты или наблюдения группируются в кластеры на разных уровнях иерархии. Это помогает понять, какие элементы имеют схожие характеристики.\n",
    "- Определение числа кластеров:  \n",
    "Анализ высоты соединений в дендограмме может помочь определить оптимальное количество кластеров. Это особенно полезно, когда заранее неизвестно, сколько кластеров следует выделить.\n",
    "- Анализ расстояний между объектами:  \n",
    "Дендограммы показывают расстояния между кластерами, что позволяет оценить степень сходства или различия между группами данных.\n",
    "- Выявление выбросов:   \n",
    "Дендограммы могут помочь в обнаружении выбросов. Если отдельные наблюдения объединяются с другими на значительно большом расстоянии, это может указывать на их аномальность.\n",
    "- Сравнение различных наборов данных:  \n",
    "Дендограммы могут быть использованы для сравнения различных наборов данных или методов анализа. Это позволяет визуально оценить, как разные данные или методы приводят к различным результатам.\n",
    "- Исследовательский анализ данных:  \n",
    "Дендограммы могут быть полезны в исследовательском анализе данных для выявления скрытых закономерностей и взаимосвязей, что может привести к новым гипотезам и направлениям для дальнейшего анализа."
   ]
  },
  {
   "cell_type": "code",
   "execution_count": null,
   "metadata": {},
   "outputs": [],
   "source": [
    "import numpy as np\n",
    "import pandas as pd\n",
    "import plotly.figure_factory as ff\n",
    "from sklearn.preprocessing import StandardScaler\n",
    "from scipy.cluster.hierarchy import linkage\n",
    "\n",
    "# Пример данных\n",
    "data = {\n",
    "    'Feature1': [1.0, 2.0, 1.5, 8.0, 8.5, 9.0],\n",
    "    'Feature2': [1.0, 1.5, 1.2, 8.0, 8.5, 9.0],\n",
    "    'Category': ['A', 'A', 'A', 'B', 'B', 'B']  # Категориальный признак\n",
    "}\n",
    "\n",
    "df = pd.DataFrame(data)\n",
    "\n",
    "# Выбор числовых признаков\n",
    "numerical_data = df[['Feature1', 'Feature2']]\n",
    "\n",
    "# Стандартизация данных\n",
    "scaler = StandardScaler()\n",
    "numerical_data_scaled = scaler.fit_transform(numerical_data)\n",
    "\n",
    "# Вычисление иерархической структуры для дендограммы\n",
    "linked = linkage(numerical_data_scaled, method='ward')\n",
    "\n",
    "# Построение дендограммы с использованием Plotly\n",
    "fig = ff.create_dendrogram(linked, orientation='bottom')\n",
    "fig.update_layout(title='Dendrogram for Numerical Features',\n",
    "                  xaxis_title='Distance',\n",
    "                  yaxis_title='Observations',\n",
    "                  width=800,\n",
    "                  height=600, \n",
    "                  )\n",
    "fig.show()"
   ]
  },
  {
   "cell_type": "markdown",
   "metadata": {},
   "source": [
    "Построим графики рассеяния и изучим зависимости.\n"
   ]
  },
  {
   "cell_type": "markdown",
   "metadata": {},
   "source": [
    "ВАЖНО  \n",
    "Изучаем зависимости между числовыми переменными без фильтрации и с фильтрацией.  \n",
    "То есть нужно взять и пройти по каждой категории и посмотреть на зависимости в каждой категории.  \n",
    "Возможно даже в комбинации категорий.  \n",
    "Так как в общей картинке зависимости могут затеряться."
   ]
  },
  {
   "cell_type": "markdown",
   "metadata": {},
   "source": [
    "ВАЖНО смотрим на выбросы  \n",
    "Мы могли при изучении отдельных столбцов не заметить их, если заметили, то возвращаемся в изучение и предобработку и изучаем их дополнительно"
   ]
  },
  {
   "cell_type": "code",
   "execution_count": null,
   "metadata": {},
   "outputs": [],
   "source": [
    "pairs = {('total_images', 'last_price'): None, ('total_images', 'floors_total'): {'total_images': [-2.15, 22.45], 'floors_total': [0.51, 28.54]}, ('total_images', 'kitchen_area'): {'total_images': [-1.04, 28.44], 'kitchen_area': [-0.6, 59.26]}, ('total_images', 'parks_nearest'): {'total_images': [np.int64(0), np.int64(50)], 'parks_nearest': [np.float64(1.0), np.float64(3190.0)]}, ('total_images', 'ponds_around3000'): {'total_images': [np.int64(0), np.int64(50)], 'ponds_around3000': [np.float64(0.0), np.float64(3.0)]}, ('total_images', 'living_total_ratio'): {'total_images': [np.int64(0), np.int64(50)], 'living_total_ratio': [np.float64(0.02), np.float64(1.0)]}, ('total_images', 'kitchen_total_ratio'): {'total_images': [np.int64(0), np.int64(50)], 'kitchen_total_ratio': [np.float64(0.03), np.float64(0.79)]}, ('total_images', 'price_per_sqm'): {'total_images': [np.int64(0), np.int64(50)], 'price_per_sqm': [np.int64(7962), np.int64(1907500)]}, ('last_price', 'living_area'): {'last_price': [np.int64(430000), np.int64(763000000)], 'living_area': [np.float64(2.0), np.float64(427.55)]}}\n",
    "pagri_data_tools.pairplot_pairs(df, pairs, coloring=True, horizontal_spacing=0.12, rows=3, cols=3).show(config=dict(displayModeBar=False, dpi=200), renderer=\"png\")\n",
    "# если нужно интерактивый график, то\n",
    "pagri_data_tools.pairplot_pairs(df, pairs, coloring=True, horizontal_spacing=0.12, rows=3, cols=3)"
   ]
  },
  {
   "cell_type": "markdown",
   "metadata": {},
   "source": [
    "Чтобы в dash app выбрать нужные пары для scatterplot   \n",
    "ставим  `_gen_` в месте где хотим чтобы появились ячейки с кодом для постройки графиков      \n",
    "далее используем  `pagri_dash.scatterplot_analysis_dash`"
   ]
  },
  {
   "cell_type": "code",
   "execution_count": null,
   "metadata": {},
   "outputs": [],
   "source": [
    "_gen_ "
   ]
  },
  {
   "cell_type": "markdown",
   "metadata": {},
   "source": [
    "ВАЖНО  \n",
    "убираем лишние колонки, которые нам не нужно изучать, например, id, и другие числовые переменные, которые будут только тратить место в dash app"
   ]
  },
  {
   "cell_type": "code",
   "execution_count": null,
   "metadata": {},
   "outputs": [],
   "source": [
    "df_by_userid_month.drop(['user_id', 'messages_included'], axis=1)"
   ]
  },
  {
   "cell_type": "code",
   "execution_count": null,
   "metadata": {},
   "outputs": [],
   "source": [
    "import sys\n",
    "sys.path.append('/home/pagri/git_repos/pagri_private_modules')\n",
    "import pagri_dash\n",
    "pagri_dash.scatterplot_analysis_dash(df, \"path/to/notebook/for/save\")"
   ]
  },
  {
   "cell_type": "markdown",
   "metadata": {},
   "source": [
    "## Общий вывод\n"
   ]
  },
  {
   "cell_type": "markdown",
   "metadata": {},
   "source": [
    "ВАЖНО  \n",
    "проверить, что результат проверки гипотез учтен в выводах.  \n",
    "То есть если у нас был промежуточный вывод, но проверка гипотез опровергла этот вывод, то нужно изменить вывод на противоположный."
   ]
  },
  {
   "cell_type": "markdown",
   "metadata": {},
   "source": [
    "Проходим собираем все промежуточные выводы, вставляем сюда и выбираем важные. "
   ]
  },
  {
   "cell_type": "markdown",
   "metadata": {},
   "source": [
    "ВАЖНО  \n",
    "из промежуточных выводов в изучении данных собрать подобные выводы:  \n",
    "- Рынок жилья представлен объектами общей площадью от 12 до 900 кв.м. В основном это жилье от 30 до 100 кв.м. с пиком в сегменте 30-75 кв.м. В жилой площади квартиры преобладает диапазон 15-50 кв.м. Размер площади кухни-от 5 до 15 кв.м., с пиком 9 кв.м. Это стандартные небольшие квартиры эконом-класса. Подавляющее большинство квартир- 1-3 комнатные, с высотой потолка 2,6-2,7 м., но встречаются редкие варианты до 19 комнат и высотой потолка до 20 кв.м. (либо ошибка, либо свободная планировка с возможностью многоуровневости).\n",
    "- Цены на квартиры в основном находятся в диапазоне 2.5-15 млн.руб. с пиком в области 3-5 млн.руб.(небольшие квартиры эконом-класса), но есть и уникальные объекты стоимостью до 763 млн.руб. Стоимость квадратного метра недвижимости варьируется от 50-130 тыс.руб. с пиком в 90-100 тыс.руб. Наряду с типовыми предложениями на продажу выставлено жилье премиум-класса со стоимостью 1 кв.м. до 1.9 млн.руб.\n",
    "- Общее время продажи жилой недвижимости-до 1618 дней. Половина квартир продается за период до 94 дней, а среднее значение по всему массиву данных -185 дней. При этом можно увидеть, что пик продаж приходится на 45-60 день с момента публикации. Исходя из расчета выбросов можно сказать, что продажи прошли аномально быстро, если сделки были оформлены в период до 16 дней и слишком долго, если до оформления сделки свыше 1134 дней.    "
   ]
  },
  {
   "cell_type": "markdown",
   "metadata": {},
   "source": [
    "Это важно, так как дает представление о данных в сжатой и удобной форме.  \n",
    "А далее уже идут выводы о зависимостях.  "
   ]
  },
  {
   "cell_type": "markdown",
   "metadata": {},
   "source": [
    "Не забываем ставить 2 пробела после Выводы и другие для quarto"
   ]
  },
  {
   "cell_type": "markdown",
   "metadata": {},
   "source": [
    "После каждой строки поставить либо перенос, либо 2 пробела для quarto  \n",
    "так как когда следующая строка начинается с дефиса и jupyter это понимает и делает новую строку,   \n",
    "то quarto не сделает новую строку"
   ]
  },
  {
   "cell_type": "markdown",
   "metadata": {},
   "source": [
    "**Выводы:**  \n"
   ]
  },
  {
   "cell_type": "markdown",
   "metadata": {},
   "source": [
    "- Долги есть у людей с разным доходом.  \n",
    "- У должников в среднем больше детей.  \n",
    "- У должников среднее количество детей больше у женщин, а у не должников срднее количество детей больше у мужчин  \n",
    "- У должников средний возраст немного ниже для всех категорий семейного положения.  \n",
    "- Медианный доход у должников и не должников практически не отличается  \n",
    "- Должники имеют ниже средний возраст как мужчины так и женщины. Ситуация сохраняется во всех группах дохода.  \n",
    "- Цель получения кредита практически не зависит от среднего ежемесяченого дохода.  \n",
    "- 92 % клиентов не имеют долга.  \n",
    "- Люди от 30 до 50 лет имеют самый высокий средний доход.  \n",
    "- Больше всего кредит берут на цели, связанные с недвижимостью, кроме людей в гражданском браке  \n",
    "- Люди в гражданском браке чаще берут кредит на свадьбу  \n",
    "- Женщины чаще возвращают кредит.  \n",
    "- Анализ значимости признаков для модели случайного леса показал, что доход является самым значимым признаком для предсказания задолженности.  \n",
    "- 58 % клиентов либо женаты, либо замужем. 19 % в гражданском браке. Можно сделать вывод что большинство в браке.  \n",
    "- Большинство клиентов женщины (66 процентов).  \n",
    "- Только 5 процентов клиентов моложе 25 лет. Основная часть клиентов старше 30 лет.  \n",
    "- Чем меньше количество детей, тем больше значений с высоким доходом.  \n",
    "- Болшая часть женатых имеет доход 100-200 тыс  \n",
    "- На всех уровнях образоания, кроме ученой степени, доход у мужчин выше.  \n",
    "- У мужчин, которые в браке или были в браке, количество детей больше, чем у женщин в той же категории.  \n"
   ]
  },
  {
   "cell_type": "markdown",
   "metadata": {},
   "source": [
    "**Аномалии и особенности в данных:**  \n",
    "\n",
    "- В датафрейме есть строки дубликаты. 54 строки. Меньше 1 % от всего датафрейма.  \n",
    "- В столбце с количеством детей есть отрицательные значения. 47 штук. Меньше 1 процента от всего датафрейма. Также есть клиенты с 20 детьми.  \n",
    "- Колонока общий трудовой стаж содержит 74 % отрицаетльных значений. А также максимальное количество дней стажа больше 400 тысяч дней, это больше 1000 лет.  \n",
    "- В колонке возраста 101 нулевое значени.  \n",
    "- Колонка дохода имеет слишком много знаков после запятой.  \n",
    "- В колонке с образованием присутствуют одни и те же знчения с разными регистрами. При этом в колонке с id образования все впрорядке.  \n"
   ]
  },
  {
   "cell_type": "markdown",
   "metadata": {},
   "source": [
    "ВАЖНО  \n",
    "в результаты предобработки добавляем также выводы из раздела про создание новых переменных и обогащение таблиц"
   ]
  },
  {
   "cell_type": "markdown",
   "metadata": {},
   "source": [
    "**Результаты предобработки данных:**  \n",
    "\n",
    "- Удалили колонки с id образования и семейного статуса, так как нам для графиков лучше подойдут названия, а не id.\n",
    "- Колонка со стажем имеет совершенно некорректные данные. Чтобы не внести искажение в анализ, удалим эту колонку.\n"
   ]
  },
  {
   "cell_type": "markdown",
   "metadata": {},
   "source": [
    "**Результаты проверки гипотез:**  \n",
    "\n",
    "- Гипотеза 1: Средняя выручка с пользователя не зависит от возрастной группы.  \n",
    "**Результат:** На уровне значимости 0.05 гипотеза была отклонена.  \n",
    "Это указывает на то, что возрастная группа оказывает статистически значимое влияние на среднюю выручку с пользователя.\n",
    "- Гипотеза 2: Средняя выручка между тарифами Smart и Ultra не отличается.  \n",
    "**Результат:** На уровне значимости 0.05 гипотеза была отклонена.  \n",
    "Это указывает на то, что выручка от тарифа Smart статистически значимо выше, чем от тарифа Ultra.\n",
    "- Гипотеза 3: Средняя выручка с пользователя не зависит от месяца.  \n",
    "**Результат:** На уровне значимости 0.05 гипотеза была отклонена.  \n",
    "Это указывает на то, что месяц оказывает статистически значимое влияние на среднюю выручку с пользователя.\n",
    "- Гипотеза 4: Средняя выручка пользователей из Москвы не отличается от выручки пользователей из других регионов.  \n",
    "**Результат:** На уровне значимости 0.05 нет оснований отвергнуть гипотезу.\n"
   ]
  },
  {
   "cell_type": "markdown",
   "metadata": {},
   "source": [
    "ВАЖНО  \n",
    "Используем ИИ для формулирования рекомендаций. Сначала кидаем ему описание проекта и цель и далее кидаем общие выводы и просим написать рекомендации."
   ]
  },
  {
   "cell_type": "markdown",
   "metadata": {},
   "source": [
    "**Рекомендации:**  \n",
    "\n",
    "- Добавить контроль данных, чтобы не дублировались значения с разными регистрами в колонке с образованием.\n",
    "- Добавить уникальный идентификатор клиента, чтобы избежать дублирования строк.\n",
    "- Добавить проверку на отрицательные значения и на слишком болшьшие значения в количестве детей при загрузке данных.\n",
    "- Выяснить откуда возникают отрицательные значения в трудовом стаже и добавить контроль ввода невалидных данных.\n",
    "- Выяснить причину нулевых значений в колонке возраста и добавить проверку на нулевые значения при загрузке данных.\n",
    "- Выяснить причину большого количества знаков после запятой в колонке дохода.\n"
   ]
  },
  {
   "cell_type": "markdown",
   "metadata": {},
   "source": [
    "ВАЖНО   \n",
    "ячейки далее лучше удалить до обработки ноутбука, чтобы не было ошибок  \n",
    "Копировать что нужно можно из шаблона"
   ]
  },
  {
   "cell_type": "markdown",
   "metadata": {},
   "source": [
    "> Что нужно сообщить в выводе\n",
    "\n",
    "- информацию о том, что удалось подтвердить гипотезы (тут пишем только те, которые удалось подтвердить)\n",
    "- всю информацию о датасете, которые важны. Дубликаты, которые несут практическую пользу и рекомендации по ним, пропуски также с рекомендациями\n",
    "  > и остальные моменты по данным и рекомендации. Тут важно указывать именно найденные аномалии, которые имеют практическую пользу, которые нужно исправить и прочее.  \n",
    "  > Пишем, что были найдены выбросы, они были связаны возможно с тем то и тем то.\n",
    "- и в конце обязательно call to action\n",
    "  > написать что необходимо сделать с этими результатами\n"
   ]
  },
  {
   "cell_type": "markdown",
   "metadata": {},
   "source": [
    "> Советы по оформлению общего выывод\n",
    "\n",
    "- не нужно вставлять таблицы и графики в вывод.\n",
    "  > В выводе пишем словами самое важное и практически полезное, что мы получили, причем в порядке убывания важности.  \n",
    "  > И когда мы пишем, что увидели то-то, то приводим гиперссылку на график или результат ячейки, где это получено.  \n",
    "  > Так будет компактный вывод и при необходимости человек сможет быстро перейти и посмотреть график или таблицу\n"
   ]
  },
  {
   "cell_type": "markdown",
   "metadata": {},
   "source": [
    "**Удалось подтвердить гипотезу** о влиянии различных характеристик клиента на факт погашения кредита в срок. Каждый из рассмотренных параметров оказывает влияние на надёжность заёмщика. Рассмотренные факторы по-разному влияют на надёжность заёмщиков. Например, семейное положение оказалось более значимым фактором, чем уровень дохода.\n"
   ]
  },
  {
   "cell_type": "markdown",
   "id": "ruled-penny",
   "metadata": {},
   "source": [
    "- В ходе анализа исходного набора данных было проведено (были устранены пропуски в двух колонках с числовыми значениями - 'total_income' и 'days_employed').\n",
    "- После **устранения явных и скрытых дупликатов** и удаления оставшихся после обогащения пропусков объем датасета сократился на 0.05%\n",
    "- Были устранены **выбросы** в колонках 'days_employed' и 'children': в первом случае выбросы возникли в результате системной ошибки (данные были внесены в часах, а не в днях); во втором случае ошибка, вероятнее всего была допущена людьми, вносившими данные в систему\n",
    "- ...\n"
   ]
  },
  {
   "cell_type": "markdown",
   "id": "alleged-strand",
   "metadata": {},
   "source": [
    "**Необходимо**\n"
   ]
  },
  {
   "cell_type": "markdown",
   "id": "critical-worker",
   "metadata": {},
   "source": [
    "> 1.  Запросить в отделе по работе с клиентами информацию о возможности брать кредит без подтверждения дохода.\n",
    ">\n",
    "> 2.  Сообщить коллегам, занимающимся выгрузкой о наличие дубликатов, если вопрос не разрешится, запросить индентификационный номер клиента к датасету.\n",
    ">\n",
    "> 3.  Прописать в задаче на поставку данных формат данных (пол только F и M, положительные значения). Приложить информацию о найденных аномалиях.\n"
   ]
  },
  {
   "cell_type": "code",
   "execution_count": null,
   "metadata": {},
   "outputs": [],
   "source": []
  },
  {
   "cell_type": "markdown",
   "metadata": {},
   "source": [
    "**Сначала проверяем орфографические ошибки**\n"
   ]
  },
  {
   "cell_type": "code",
   "execution_count": null,
   "metadata": {},
   "outputs": [],
   "source": [
    "import IPython\n",
    "notebook_path = \"/\".join(\n",
    "        IPython.extract_module_locals()[1][\"__vsc_ipynb_file__\"].split(\"/\"))\n",
    "pagri_data_tools.correct_notebook_text(notebook_path)"
   ]
  },
  {
   "cell_type": "markdown",
   "metadata": {},
   "source": [
    "**Затем создаем номера у глав и оглавление**\n"
   ]
  },
  {
   "cell_type": "markdown",
   "metadata": {},
   "source": [
    "> Чтобы добавить номера глав и ссылки для оглавления и сделать оглавлнеие  \n",
    "> оглавление добавиться в начало ноутбука\n"
   ]
  },
  {
   "cell_type": "markdown",
   "metadata": {},
   "source": [
    "> Сначала можно в режиме `draft` сделать пробный варант, проверить и потом уже запустить в режиме `final`\n"
   ]
  },
  {
   "cell_type": "code",
   "execution_count": null,
   "metadata": {},
   "outputs": [],
   "source": [
    "import IPython\n",
    "notebook_path = \"/\".join(\n",
    "        IPython.extract_module_locals()[1][\"__vsc_ipynb_file__\"].split(\"/\"))\n",
    "pagri_data_tools.make_headers_link_and_toc(notebook_path)"
   ]
  },
  {
   "cell_type": "markdown",
   "metadata": {},
   "source": [
    "**Далее создаем ссыки на выводы и аномалии**\n"
   ]
  },
  {
   "cell_type": "markdown",
   "metadata": {},
   "source": [
    "Выбираем нужные выводы и нужный порядок выводов и добавляем их в список выводов и используем эту функцию"
   ]
  },
  {
   "cell_type": "code",
   "execution_count": null,
   "metadata": {},
   "outputs": [],
   "source": [
    "import IPython\n",
    "notebook_path = \"/\".join(\n",
    "        IPython.extract_module_locals()[1][\"__vsc_ipynb_file__\"].split(\"/\"))\n",
    "conclusions = [\n",
    "    'С ноября 2017 по март 2018 тратилось много денег на компаню с id 3.'\n",
    "    , 'Сумма заказа варируется от 0 до 2633.28 у.е.'\n",
    "]\n",
    "pagri_data_tools.add_conclusions(notebook_path, conclusions)"
   ]
  },
  {
   "cell_type": "markdown",
   "metadata": {},
   "source": [
    "> Чтобы было удобно искать где вставить якорь для ссылки, названия выводов и аномалий должно точно совпадать  \n",
    "> в итоговом списке аномалий и выводов и в тех местах (то есть в наблюдениях под ячейками), куда мы будем помещать ссылки\n"
   ]
  },
  {
   "cell_type": "markdown",
   "metadata": {},
   "source": [
    "> Чтобы сделать ссылки на выводы и аномалии, нужно  \n",
    "> в тех местах, куда хотим переходить по ссылке вставить текст выводов или аномалий (берем прямо из основных выводов)  \n",
    "> выводы должны начинаться с `_conclusion_`  \n",
    "> аномалии должны начинаться с `_anomalies_`  \n",
    "> Примеры:  \n",
    ">\n"
   ]
  },
  {
   "cell_type": "markdown",
   "metadata": {},
   "source": [
    "Окончательный текст выводов можно будет потом исправить в выводах всего отчета и поместить их в начало,  \n",
    "важно, выводы не менять до момента, пока мы не создадим ссылки на них.  \n",
    "Чтобы автомтика не нарушилась.  \n",
    "Затем можно будет исправить уже сам текст выводов и это не нарушит ссылки."
   ]
  },
  {
   "cell_type": "code",
   "execution_count": null,
   "metadata": {},
   "outputs": [],
   "source": [
    "==== _anomalies_ В столбце с количеством детей есть отрицательные значения. 47 штук. "
   ]
  },
  {
   "cell_type": "markdown",
   "metadata": {},
   "source": [
    "> Можно в одной ячейке и выводы и аномалии, с обеих ссылок будет переходить сюда, но назад будет возвращаться только в одно место,  \n",
    "> в то, которое было первым в ячейке\n"
   ]
  },
  {
   "cell_type": "markdown",
   "metadata": {},
   "source": [
    "ВАЖНО  \n",
    "разобраться почему когда рядом ставишь 2 вывода или аномалии или 1 вывод плюс 1 аномалия (вместе 2), то появляется  \n",
    "2 ссылки на оглавление"
   ]
  },
  {
   "cell_type": "markdown",
   "metadata": {},
   "source": [
    "Делаем так\n",
    "- Из всех выводов в выбираем те, которые хотим поместить в начале отчета\n",
    "- Собриаем их в отдельном файле (чтобы удобно было копировать) Можно использовать clipboard history\n",
    "- Добавляем в начало вывода _conclusiions_  \n",
    "- Далее по одному выводу полностью копируем, вставляем в поиск и удаляем в начале _conclusions_  \n",
    "при этом в буфере обмена с _conclusions_ \n",
    "- Переходим в нужное место через поиск и вставляем. \n"
   ]
  },
  {
   "cell_type": "code",
   "execution_count": null,
   "metadata": {},
   "outputs": [],
   "source": [
    "==== _conclusion_ Только 5 процентов клиентов моложе 25 лет. Основная часть клиентов старше 30 лет.\n",
    "==== _anomalies_ В колонке возраста 101 нулевое значени."
   ]
  },
  {
   "cell_type": "markdown",
   "metadata": {},
   "source": [
    "ВАЖНО  \n",
    "Проийти просмотреть чтобы не было 2 раза близко \"к оглавлению\"  \n",
    "это может быть из-за того что у нас ссылки на выводы рядом с названием главы или раздела  \n",
    "Или просто могут быть 2 выводы рядом.  "
   ]
  },
  {
   "cell_type": "markdown",
   "metadata": {},
   "source": [
    "> Содеражние выводов и аномалий появится в начале ноутбука  \n",
    "> также 2 режима `draft` и `final`\n"
   ]
  },
  {
   "cell_type": "markdown",
   "metadata": {},
   "source": [
    "> Подумать как сделать удобнее создание выводов  \n",
    "> Пока лучше сначала взять выводы из наблюдений и выбрать из них наиболее важные и интересные, не меняя их.  \n",
    "> Далее берем этот список и поиском находим ячейку с этим выводом и перед графиком помещаем  \n",
    "> _conclusion_ и сам вывод\n"
   ]
  },
  {
   "cell_type": "code",
   "execution_count": null,
   "metadata": {},
   "outputs": [],
   "source": []
  },
  {
   "cell_type": "markdown",
   "metadata": {},
   "source": [
    "> Чтобы был нужный порядок в списке выводов и аномалий в начале отчета, нужно передвать словарь со списками выводов и аномалий.  \n",
    "> Переменная order принимает словарь, где ключи `conclusions` и `anomalies`, а значения это соответствующие списки\n"
   ]
  },
  {
   "cell_type": "markdown",
   "metadata": {},
   "source": [
    "> Примеры списков\n"
   ]
  },
  {
   "cell_type": "code",
   "execution_count": null,
   "metadata": {},
   "outputs": [],
   "source": [
    "order = dict(\n",
    "            conclusions =[ 'Женщины чаще возвращают кредит, чем мужчины.']\n",
    "            , anomalies = ['В датафрейме есть строки дубликаты. 54 строки. Меньше 1 % от всего датафрейма.  ']\n",
    ")"
   ]
  },
  {
   "cell_type": "code",
   "execution_count": null,
   "metadata": {},
   "outputs": [],
   "source": []
  },
  {
   "cell_type": "markdown",
   "metadata": {},
   "source": [
    "**Ставим переносы для булитов там, где их нет**"
   ]
  },
  {
   "cell_type": "code",
   "execution_count": null,
   "metadata": {},
   "outputs": [],
   "source": [
    "import IPython\n",
    "notebook_path = \"/\".join(\n",
    "        IPython.extract_module_locals()[1][\"__vsc_ipynb_file__\"].split(\"/\"))\n",
    "pagri_data_tools.check_observes_new_line(notebook_path, mode='final')"
   ]
  },
  {
   "cell_type": "markdown",
   "metadata": {},
   "source": [
    "ВАЖНО  \n",
    "не забываме перенести рекомендации в начало после аномалий  \n",
    "Порядок\n",
    "- главные выводы\n",
    "- аномалии в данных\n",
    "- рекомендации"
   ]
  },
  {
   "cell_type": "markdown",
   "metadata": {},
   "source": [
    "**Если сильно нужно, создаем ссыки на гипотезы**\n"
   ]
  },
  {
   "cell_type": "markdown",
   "metadata": {},
   "source": [
    "> В главе гипотез для каждой гипоетзы, куда будем переходить из оглавления, в начале перед гипотезой ставим _hypothesis_ и пробел\n"
   ]
  },
  {
   "cell_type": "code",
   "execution_count": null,
   "metadata": {},
   "outputs": [],
   "source": [
    "==== _hypotsis_ **Гипотеза 1: Название гипотезы**"
   ]
  },
  {
   "cell_type": "markdown",
   "metadata": {},
   "source": [
    "> Выполняем следующую функцию и в начале отчета появится список гипотез с ссылками  \n",
    "> Далее нужно добавить результат гипотез вручную\n"
   ]
  },
  {
   "cell_type": "code",
   "execution_count": null,
   "metadata": {},
   "outputs": [],
   "source": [
    "pagri_data_tools.add_hypotheses_links_and_toc()"
   ]
  },
  {
   "cell_type": "markdown",
   "metadata": {},
   "source": [
    "**Финальное размещение ноутбука на git hub с ссылкой на google colab**\n"
   ]
  },
  {
   "cell_type": "markdown",
   "metadata": {},
   "source": [
    "> Комитим на гит хаб финальную версию ноутбука.  \n",
    "> Создаем на гит хаб readme файл проекта, в котором в начале идет ссылка на google colab  \n",
    "> Далее ее открываем и переходим на google colab  \n",
    "> Выполняем все ячейки, смотрим все ли правильно отобразилось.  \n",
    "> Далее в меню File выбираем сохранить копию на гит хаб.  \n",
    "> Не меняем имя, тогда все содержимое ноутбука сохраниться на гит хаб.\n"
   ]
  }
 ],
 "metadata": {
  "kernelspec": {
   "display_name": "pagri-projects-W8_aXYna-py3.12",
   "language": "python",
   "name": "python3"
  },
  "language_info": {
   "codemirror_mode": {
    "name": "ipython",
    "version": 3
   },
   "file_extension": ".py",
   "mimetype": "text/x-python",
   "name": "python",
   "nbconvert_exporter": "python",
   "pygments_lexer": "ipython3",
   "version": "3.12.7"
  }
 },
 "nbformat": 4,
 "nbformat_minor": 2
}
