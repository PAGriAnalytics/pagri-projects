{
 "cells": [
  {
   "cell_type": "raw",
   "metadata": {
    "vscode": {
     "languageId": "raw"
    }
   },
   "source": [
    "---\n",
    "description_for_list: \"Сеть фитнес-центров анализирует данные для снижения оттока клиентов. Необходимо прогнозировать отток, сегментировать клиентов, выявить ключевые факторы, влияющие на отток.\"\n",
    "\n",
    "format:\n",
    "  html:\n",
    "    code-fold: true\n",
    "    code-summary: \"Show the code\"\n",
    "    fontsize: 16px\n",
    "    smooth-scroll: true\n",
    "    toc: true\n",
    "    toc-location: left\n",
    "    toc-title: Оглавление\n",
    "    grid:\n",
    "      body-width: 1100px\n",
    "---"
   ]
  },
  {
   "cell_type": "markdown",
   "metadata": {},
   "source": [
    "# Прогнозирование оттока клиентов сети фитнес-центров"
   ]
  },
  {
   "cell_type": "markdown",
   "metadata": {},
   "source": [
    "**Автор:**  \n",
    "\n",
    "Григорьев Павел\n"
   ]
  },
  {
   "cell_type": "markdown",
   "metadata": {},
   "source": [
    "**Описание проекта:**   \n",
    "\n",
    "Сеть фитнес-центров разрабатывает стратегию взаимодействия с клиентами на основе аналитических данных. Распространённая проблема фитнес-клубов и других сервисов - отток клиентов. Чтобы бороться с оттоком, отдел по работе с клиентами перевёл в электронный вид множество клиентских анкет. Необходимо провести анализ и подготовить план действий по удержанию клиентов.   \n",
    "А именно:\n",
    "- научиться прогнозировать вероятность оттока (на уровне следующего месяца) для каждого клиента;\n",
    "- сформировать типичные портреты клиентов: выделить несколько наиболее ярких групп и охарактеризовать их основные свойства;\n",
    "- проанализировать основные признаки, наиболее сильно влияющие на отток;"
   ]
  },
  {
   "cell_type": "markdown",
   "metadata": {},
   "source": [
    "**Цель:**  \n",
    "\n",
    "Разработать стратегию удержания клиентов сети фитнес-центров на основе анализа данных, включая прогнозирование вероятности оттока, сегментацию клиентов и выявление ключевых факторов, влияющих на отток."
   ]
  },
  {
   "cell_type": "markdown",
   "metadata": {},
   "source": [
    "**Источники данных:**  \n",
    "\n",
    "Данные предоставленны фитнес-центром. "
   ]
  },
  {
   "cell_type": "markdown",
   "metadata": {},
   "source": [
    "**Условия проведения анализа данных:**  \n"
   ]
  },
  {
   "cell_type": "markdown",
   "metadata": {},
   "source": [
    "**Главные выводы:**  \n",
    "тут помещаем самое главное из общего вывода, примерно до полустраницы, чтобы не было сильно много и при этом указать все главные выводы\n",
    "Будет идеально, елси выводы на похожие темы будут рядом, то есть елси мы имеем несколько выводов о доходе, то лушче поместить их рядом\n",
    "\n",
    "- Женщины чаще возвращают кредит, чем мужчины.\n",
    "- Долги присутствуют у людей с разным доходом.\n"
   ]
  },
  {
   "cell_type": "markdown",
   "metadata": {},
   "source": [
    "**Рекомендации:**\n",
    "\n",
    "- Добавить контроль данных, чтобы не дублировались значения с разными регистрами в колонке с образованием.\n",
    "- Добавить уникальный идентификатор клиента, чтобы избежать дублирования строк.\n"
   ]
  },
  {
   "cell_type": "markdown",
   "metadata": {},
   "source": [
    "## Загрузка библиотек <skip>"
   ]
  },
  {
   "cell_type": "code",
   "execution_count": 1,
   "metadata": {},
   "outputs": [],
   "source": [
    "%load_ext autoreload\n",
    "%autoreload 2\n",
    "import pandas as pd\n",
    "import numpy as np\n",
    "import plotly.express as px\n",
    "import pagri_data_tools  # type: ignore\n",
    "pd.set_option('display.max_columns', None)\n",
    "pd.options.display.float_format = '{:,.2f}'.format"
   ]
  },
  {
   "cell_type": "markdown",
   "metadata": {},
   "source": [
    "## Описание и изучение данных\n"
   ]
  },
  {
   "cell_type": "markdown",
   "metadata": {},
   "source": [
    "### Описание данных\n"
   ]
  },
  {
   "cell_type": "markdown",
   "metadata": {},
   "source": [
    "Данные клиента за предыдущий до проверки факта оттока месяц:\n",
    "- gender - пол;\n",
    "- Near_Location - проживание или работа в районе, где находится фитнес-центр;\n",
    "- Partner - сотрудник компании-партнёра клуба (сотрудничество с компаниями, чьи сотрудники могут получать скидки на абонемент - в таком случае фитнес-центр хранит информацию о работодателе клиента);\n",
    "- Promo_friends- факт первоначальной записи в рамках акции «приведи друга» (использовал промо-код от знакомого при оплате первого абонемента);\n",
    "- Phone - наличие контактного телефона;\n",
    "- Age - возраст;\n",
    "- Lifetime - время с момента первого обращения в фитнес-центр (в месяцах).\n",
    "- Churn - факт оттока в текущем месяце;\n",
    "\n",
    "Информация на основе журнала посещений, покупок и информация о текущем статусе абонемента клиента:\n",
    "- Contract_period - длительность текущего действующего абонемента (месяц, 3 месяца, 6 месяцев, год);\n",
    "- Month_to_end_contract - срок до окончания текущего действующего абонемента (в месяцах);\n",
    "- Group_visits - факт посещения групповых занятий;\n",
    "- Avg_class_frequency_total - средняя частота посещений в неделю за все время с начала действия абонемента;\n",
    "- Avg_class_frequency_current_month - средняя частота посещений в неделю за предыдущий месяц;\n",
    "- Avg_additional_charges_total - суммарная выручка от других услуг фитнес-центра: кафе, спорт-товары, косметический и массажный салон."
   ]
  },
  {
   "cell_type": "markdown",
   "metadata": {},
   "source": [
    "### Изучение данных\n"
   ]
  },
  {
   "cell_type": "markdown",
   "metadata": {},
   "source": [
    "#### Изучение переменных\n"
   ]
  },
  {
   "cell_type": "markdown",
   "metadata": {},
   "source": [
    "Загружаем данные и задаем типы данных для столбцов, где это возможно."
   ]
  },
  {
   "cell_type": "markdown",
   "metadata": {},
   "source": [
    "Сразу приведем все названия колонок к нижнему регистру."
   ]
  },
  {
   "cell_type": "code",
   "execution_count": 2,
   "metadata": {},
   "outputs": [
    {
     "data": {
      "text/html": [
       "<div>\n",
       "<style scoped>\n",
       "    .dataframe tbody tr th:only-of-type {\n",
       "        vertical-align: middle;\n",
       "    }\n",
       "\n",
       "    .dataframe tbody tr th {\n",
       "        vertical-align: top;\n",
       "    }\n",
       "\n",
       "    .dataframe thead th {\n",
       "        text-align: right;\n",
       "    }\n",
       "</style>\n",
       "<table border=\"1\" class=\"dataframe\">\n",
       "  <thead>\n",
       "    <tr style=\"text-align: right;\">\n",
       "      <th></th>\n",
       "      <th>gender</th>\n",
       "      <th>near_location</th>\n",
       "      <th>partner</th>\n",
       "      <th>promo_friends</th>\n",
       "      <th>phone</th>\n",
       "      <th>contract_period</th>\n",
       "      <th>group_visits</th>\n",
       "      <th>age</th>\n",
       "      <th>avg_additional_charges_total</th>\n",
       "      <th>month_to_end_contract</th>\n",
       "      <th>lifetime</th>\n",
       "      <th>avg_class_frequency_total</th>\n",
       "      <th>avg_class_frequency_current_month</th>\n",
       "      <th>churn</th>\n",
       "    </tr>\n",
       "  </thead>\n",
       "  <tbody>\n",
       "    <tr>\n",
       "      <th>2060</th>\n",
       "      <td>1</td>\n",
       "      <td>1</td>\n",
       "      <td>0</td>\n",
       "      <td>0</td>\n",
       "      <td>1</td>\n",
       "      <td>1</td>\n",
       "      <td>1</td>\n",
       "      <td>32</td>\n",
       "      <td>250.28</td>\n",
       "      <td>1.00</td>\n",
       "      <td>5</td>\n",
       "      <td>2.81</td>\n",
       "      <td>2.61</td>\n",
       "      <td>0</td>\n",
       "    </tr>\n",
       "    <tr>\n",
       "      <th>933</th>\n",
       "      <td>1</td>\n",
       "      <td>1</td>\n",
       "      <td>0</td>\n",
       "      <td>1</td>\n",
       "      <td>1</td>\n",
       "      <td>12</td>\n",
       "      <td>1</td>\n",
       "      <td>28</td>\n",
       "      <td>215.85</td>\n",
       "      <td>12.00</td>\n",
       "      <td>3</td>\n",
       "      <td>0.00</td>\n",
       "      <td>0.00</td>\n",
       "      <td>0</td>\n",
       "    </tr>\n",
       "    <tr>\n",
       "      <th>378</th>\n",
       "      <td>1</td>\n",
       "      <td>1</td>\n",
       "      <td>1</td>\n",
       "      <td>1</td>\n",
       "      <td>1</td>\n",
       "      <td>12</td>\n",
       "      <td>0</td>\n",
       "      <td>25</td>\n",
       "      <td>241.61</td>\n",
       "      <td>12.00</td>\n",
       "      <td>5</td>\n",
       "      <td>2.72</td>\n",
       "      <td>2.63</td>\n",
       "      <td>0</td>\n",
       "    </tr>\n",
       "    <tr>\n",
       "      <th>2754</th>\n",
       "      <td>1</td>\n",
       "      <td>1</td>\n",
       "      <td>0</td>\n",
       "      <td>0</td>\n",
       "      <td>1</td>\n",
       "      <td>1</td>\n",
       "      <td>1</td>\n",
       "      <td>32</td>\n",
       "      <td>150.54</td>\n",
       "      <td>1.00</td>\n",
       "      <td>1</td>\n",
       "      <td>3.01</td>\n",
       "      <td>2.80</td>\n",
       "      <td>0</td>\n",
       "    </tr>\n",
       "    <tr>\n",
       "      <th>596</th>\n",
       "      <td>1</td>\n",
       "      <td>1</td>\n",
       "      <td>0</td>\n",
       "      <td>0</td>\n",
       "      <td>1</td>\n",
       "      <td>6</td>\n",
       "      <td>1</td>\n",
       "      <td>28</td>\n",
       "      <td>176.98</td>\n",
       "      <td>6.00</td>\n",
       "      <td>5</td>\n",
       "      <td>2.65</td>\n",
       "      <td>2.72</td>\n",
       "      <td>0</td>\n",
       "    </tr>\n",
       "  </tbody>\n",
       "</table>\n",
       "</div>"
      ],
      "text/plain": [
       "     gender near_location partner promo_friends phone  contract_period  \\\n",
       "2060      1             1       0             0     1                1   \n",
       "933       1             1       0             1     1               12   \n",
       "378       1             1       1             1     1               12   \n",
       "2754      1             1       0             0     1                1   \n",
       "596       1             1       0             0     1                6   \n",
       "\n",
       "     group_visits  age  avg_additional_charges_total  month_to_end_contract  \\\n",
       "2060            1   32                        250.28                   1.00   \n",
       "933             1   28                        215.85                  12.00   \n",
       "378             0   25                        241.61                  12.00   \n",
       "2754            1   32                        150.54                   1.00   \n",
       "596             1   28                        176.98                   6.00   \n",
       "\n",
       "      lifetime  avg_class_frequency_total  avg_class_frequency_current_month  \\\n",
       "2060         5                       2.81                               2.61   \n",
       "933          3                       0.00                               0.00   \n",
       "378          5                       2.72                               2.63   \n",
       "2754         1                       3.01                               2.80   \n",
       "596          5                       2.65                               2.72   \n",
       "\n",
       "     churn  \n",
       "2060     0  \n",
       "933      0  \n",
       "378      0  \n",
       "2754     0  \n",
       "596      0  "
      ]
     },
     "execution_count": 2,
     "metadata": {},
     "output_type": "execute_result"
    }
   ],
   "source": [
    "dtype = {'gender': 'category', 'Near_Location': 'category', 'Partner': 'category', 'Group_visits': 'category', 'Churn': 'category'\n",
    "         , 'Promo_friends': 'category', 'Phone': 'category'}\n",
    "df = pd.read_csv('https://code.s3.yandex.net/datasets/gym_churn.csv', dtype=dtype)\n",
    "df.columns = df.columns.str.lower()\n",
    "df.sample(5, random_state=7)"
   ]
  },
  {
   "cell_type": "markdown",
   "metadata": {},
   "source": [
    "Убедимся, что категориальные переменные имеют соответствующий тип данных."
   ]
  },
  {
   "cell_type": "code",
   "execution_count": 3,
   "metadata": {},
   "outputs": [
    {
     "data": {
      "text/plain": [
       "gender                               category\n",
       "near_location                        category\n",
       "partner                              category\n",
       "promo_friends                        category\n",
       "phone                                category\n",
       "contract_period                         int64\n",
       "group_visits                         category\n",
       "age                                     int64\n",
       "avg_additional_charges_total          float64\n",
       "month_to_end_contract                 float64\n",
       "lifetime                                int64\n",
       "avg_class_frequency_total             float64\n",
       "avg_class_frequency_current_month     float64\n",
       "churn                                category\n",
       "dtype: object"
      ]
     },
     "execution_count": 3,
     "metadata": {},
     "output_type": "execute_result"
    }
   ],
   "source": [
    "df.dtypes"
   ]
  },
  {
   "cell_type": "markdown",
   "metadata": {},
   "source": [
    "Изучим по отдельности каждый столбец."
   ]
  },
  {
   "cell_type": "code",
   "execution_count": 4,
   "metadata": {},
   "outputs": [
    {
     "data": {
      "text/html": [
       "<style type=\"text/css\">\n",
       "#T_3622d caption {\n",
       "  font-size: 18px;\n",
       "  text-align: left;\n",
       "  font-weight: bold;\n",
       "}\n",
       "#T_3622d_row0_col0, #T_3622d_row0_col1, #T_3622d_row0_col2, #T_3622d_row0_col3, #T_3622d_row0_col4 {\n",
       "  text-align: left;\n",
       "}\n",
       "</style>\n",
       "<table id=\"T_3622d\">\n",
       "  <caption>DataFrame</caption>\n",
       "  <thead>\n",
       "    <tr>\n",
       "      <th id=\"T_3622d_level0_col0\" class=\"col_heading level0 col0\" >Rows</th>\n",
       "      <th id=\"T_3622d_level0_col1\" class=\"col_heading level0 col1\" >Features</th>\n",
       "      <th id=\"T_3622d_level0_col2\" class=\"col_heading level0 col2\" >RAM (Mb)</th>\n",
       "      <th id=\"T_3622d_level0_col3\" class=\"col_heading level0 col3\" >Duplicates</th>\n",
       "      <th id=\"T_3622d_level0_col4\" class=\"col_heading level0 col4\" >Dupl (sub - origin)</th>\n",
       "    </tr>\n",
       "  </thead>\n",
       "  <tbody>\n",
       "    <tr>\n",
       "      <td id=\"T_3622d_row0_col0\" class=\"data row0 col0\" >4.00k</td>\n",
       "      <td id=\"T_3622d_row0_col1\" class=\"data row0 col1\" >14</td>\n",
       "      <td id=\"T_3622d_row0_col2\" class=\"data row0 col2\" >0</td>\n",
       "      <td id=\"T_3622d_row0_col3\" class=\"data row0 col3\" >---</td>\n",
       "      <td id=\"T_3622d_row0_col4\" class=\"data row0 col4\" >---</td>\n",
       "    </tr>\n",
       "  </tbody>\n",
       "</table>\n"
      ],
      "text/plain": [
       "<pandas.io.formats.style.Styler at 0x7719a8741070>"
      ]
     },
     "execution_count": 4,
     "metadata": {},
     "output_type": "execute_result"
    }
   ],
   "source": [
    "gen = pagri_data_tools.info_gen(df)\n",
    "gen.next()"
   ]
  },
  {
   "cell_type": "code",
   "execution_count": 5,
   "metadata": {},
   "outputs": [
    {
     "data": {
      "text/html": [
       "\n",
       "            <div style=\"display: flex; justify-content: flex-start; align-items: flex-end;\">\n",
       "                <style type=\"text/css\">\n",
       "#T_ffd8f caption {\n",
       "  font-size: 16px;\n",
       "  text-align: left;\n",
       "  font-weight: bold;\n",
       "}\n",
       "#T_ffd8f_row0_col0, #T_ffd8f_row0_col1, #T_ffd8f_row0_col2, #T_ffd8f_row0_col3, #T_ffd8f_row0_col4, #T_ffd8f_row0_col5, #T_ffd8f_row0_col6, #T_ffd8f_row0_col7, #T_ffd8f_row0_col8, #T_ffd8f_row0_col9, #T_ffd8f_row1_col0, #T_ffd8f_row1_col1, #T_ffd8f_row1_col2, #T_ffd8f_row1_col3, #T_ffd8f_row1_col4, #T_ffd8f_row1_col5, #T_ffd8f_row1_col6, #T_ffd8f_row1_col7, #T_ffd8f_row1_col8, #T_ffd8f_row1_col9, #T_ffd8f_row2_col0, #T_ffd8f_row2_col1, #T_ffd8f_row2_col2, #T_ffd8f_row2_col3, #T_ffd8f_row2_col4, #T_ffd8f_row2_col5, #T_ffd8f_row2_col6, #T_ffd8f_row2_col7, #T_ffd8f_row2_col8, #T_ffd8f_row2_col9, #T_ffd8f_row3_col0, #T_ffd8f_row3_col1, #T_ffd8f_row3_col2, #T_ffd8f_row3_col3, #T_ffd8f_row3_col4, #T_ffd8f_row3_col5, #T_ffd8f_row3_col6, #T_ffd8f_row3_col7, #T_ffd8f_row3_col8, #T_ffd8f_row3_col9, #T_ffd8f_row4_col0, #T_ffd8f_row4_col1, #T_ffd8f_row4_col2, #T_ffd8f_row4_col3, #T_ffd8f_row4_col4, #T_ffd8f_row4_col5, #T_ffd8f_row4_col6, #T_ffd8f_row4_col7, #T_ffd8f_row4_col8, #T_ffd8f_row4_col9, #T_ffd8f_row5_col0, #T_ffd8f_row5_col1, #T_ffd8f_row5_col2, #T_ffd8f_row5_col3, #T_ffd8f_row5_col4, #T_ffd8f_row5_col5, #T_ffd8f_row5_col6, #T_ffd8f_row5_col7, #T_ffd8f_row5_col8, #T_ffd8f_row5_col9, #T_ffd8f_row6_col0, #T_ffd8f_row6_col1, #T_ffd8f_row6_col2, #T_ffd8f_row6_col3, #T_ffd8f_row6_col4, #T_ffd8f_row6_col5, #T_ffd8f_row6_col6, #T_ffd8f_row6_col7, #T_ffd8f_row6_col8, #T_ffd8f_row6_col9 {\n",
       "  text-align: left;\n",
       "}\n",
       "</style>\n",
       "<table id=\"T_ffd8f\">\n",
       "  <caption>Статистика и гистограмма столбца \"contract_period\"</caption>\n",
       "  <thead>\n",
       "  </thead>\n",
       "  <tbody>\n",
       "    <tr>\n",
       "      <td id=\"T_ffd8f_row0_col0\" class=\"data row0 col0\" >Values</td>\n",
       "      <td id=\"T_ffd8f_row0_col1\" class=\"data row0 col1\" >4.00k (100%)</td>\n",
       "      <td id=\"T_ffd8f_row0_col2\" class=\"data row0 col2\" >          </td>\n",
       "      <td id=\"T_ffd8f_row0_col3\" class=\"data row0 col3\" >Max</td>\n",
       "      <td id=\"T_ffd8f_row0_col4\" class=\"data row0 col4\" >12.00</td>\n",
       "      <td id=\"T_ffd8f_row0_col5\" class=\"data row0 col5\" >          </td>\n",
       "      <td id=\"T_ffd8f_row0_col6\" class=\"data row0 col6\" >Avg</td>\n",
       "      <td id=\"T_ffd8f_row0_col7\" class=\"data row0 col7\" >4.68</td>\n",
       "      <td id=\"T_ffd8f_row0_col8\" class=\"data row0 col8\" >          </td>\n",
       "      <td id=\"T_ffd8f_row0_col9\" class=\"data row0 col9\" >1.00 (55%)</td>\n",
       "    </tr>\n",
       "    <tr>\n",
       "      <td id=\"T_ffd8f_row1_col0\" class=\"data row1 col0\" >Missing</td>\n",
       "      <td id=\"T_ffd8f_row1_col1\" class=\"data row1 col1\" >---</td>\n",
       "      <td id=\"T_ffd8f_row1_col2\" class=\"data row1 col2\" >          </td>\n",
       "      <td id=\"T_ffd8f_row1_col3\" class=\"data row1 col3\" >95%</td>\n",
       "      <td id=\"T_ffd8f_row1_col4\" class=\"data row1 col4\" >12.00</td>\n",
       "      <td id=\"T_ffd8f_row1_col5\" class=\"data row1 col5\" >          </td>\n",
       "      <td id=\"T_ffd8f_row1_col6\" class=\"data row1 col6\" >Mode</td>\n",
       "      <td id=\"T_ffd8f_row1_col7\" class=\"data row1 col7\" >1.00</td>\n",
       "      <td id=\"T_ffd8f_row1_col8\" class=\"data row1 col8\" >          </td>\n",
       "      <td id=\"T_ffd8f_row1_col9\" class=\"data row1 col9\" >12.00 (24%)</td>\n",
       "    </tr>\n",
       "    <tr>\n",
       "      <td id=\"T_ffd8f_row2_col0\" class=\"data row2 col0\" >Distinct</td>\n",
       "      <td id=\"T_ffd8f_row2_col1\" class=\"data row2 col1\" >3.00 (<1%)</td>\n",
       "      <td id=\"T_ffd8f_row2_col2\" class=\"data row2 col2\" >          </td>\n",
       "      <td id=\"T_ffd8f_row2_col3\" class=\"data row2 col3\" >75%</td>\n",
       "      <td id=\"T_ffd8f_row2_col4\" class=\"data row2 col4\" >6.00</td>\n",
       "      <td id=\"T_ffd8f_row2_col5\" class=\"data row2 col5\" >          </td>\n",
       "      <td id=\"T_ffd8f_row2_col6\" class=\"data row2 col6\" >Range</td>\n",
       "      <td id=\"T_ffd8f_row2_col7\" class=\"data row2 col7\" >11.00</td>\n",
       "      <td id=\"T_ffd8f_row2_col8\" class=\"data row2 col8\" >          </td>\n",
       "      <td id=\"T_ffd8f_row2_col9\" class=\"data row2 col9\" >6.00 (21%)</td>\n",
       "    </tr>\n",
       "    <tr>\n",
       "      <td id=\"T_ffd8f_row3_col0\" class=\"data row3 col0\" >Duplicates</td>\n",
       "      <td id=\"T_ffd8f_row3_col1\" class=\"data row3 col1\" >4.00k (99.9%)</td>\n",
       "      <td id=\"T_ffd8f_row3_col2\" class=\"data row3 col2\" >          </td>\n",
       "      <td id=\"T_ffd8f_row3_col3\" class=\"data row3 col3\" >50%</td>\n",
       "      <td id=\"T_ffd8f_row3_col4\" class=\"data row3 col4\" >1.00</td>\n",
       "      <td id=\"T_ffd8f_row3_col5\" class=\"data row3 col5\" >          </td>\n",
       "      <td id=\"T_ffd8f_row3_col6\" class=\"data row3 col6\" >iQR</td>\n",
       "      <td id=\"T_ffd8f_row3_col7\" class=\"data row3 col7\" >5.00</td>\n",
       "      <td id=\"T_ffd8f_row3_col8\" class=\"data row3 col8\" >          </td>\n",
       "      <td id=\"T_ffd8f_row3_col9\" class=\"data row3 col9\" ></td>\n",
       "    </tr>\n",
       "    <tr>\n",
       "      <td id=\"T_ffd8f_row4_col0\" class=\"data row4 col0\" >Zeros</td>\n",
       "      <td id=\"T_ffd8f_row4_col1\" class=\"data row4 col1\" >---</td>\n",
       "      <td id=\"T_ffd8f_row4_col2\" class=\"data row4 col2\" >          </td>\n",
       "      <td id=\"T_ffd8f_row4_col3\" class=\"data row4 col3\" >25%</td>\n",
       "      <td id=\"T_ffd8f_row4_col4\" class=\"data row4 col4\" >1.00</td>\n",
       "      <td id=\"T_ffd8f_row4_col5\" class=\"data row4 col5\" >          </td>\n",
       "      <td id=\"T_ffd8f_row4_col6\" class=\"data row4 col6\" >std</td>\n",
       "      <td id=\"T_ffd8f_row4_col7\" class=\"data row4 col7\" >4.55</td>\n",
       "      <td id=\"T_ffd8f_row4_col8\" class=\"data row4 col8\" >          </td>\n",
       "      <td id=\"T_ffd8f_row4_col9\" class=\"data row4 col9\" ></td>\n",
       "    </tr>\n",
       "    <tr>\n",
       "      <td id=\"T_ffd8f_row5_col0\" class=\"data row5 col0\" >Negative</td>\n",
       "      <td id=\"T_ffd8f_row5_col1\" class=\"data row5 col1\" >---</td>\n",
       "      <td id=\"T_ffd8f_row5_col2\" class=\"data row5 col2\" >          </td>\n",
       "      <td id=\"T_ffd8f_row5_col3\" class=\"data row5 col3\" >5%</td>\n",
       "      <td id=\"T_ffd8f_row5_col4\" class=\"data row5 col4\" >1.00</td>\n",
       "      <td id=\"T_ffd8f_row5_col5\" class=\"data row5 col5\" >          </td>\n",
       "      <td id=\"T_ffd8f_row5_col6\" class=\"data row5 col6\" >kurt</td>\n",
       "      <td id=\"T_ffd8f_row5_col7\" class=\"data row5 col7\" >-1.15</td>\n",
       "      <td id=\"T_ffd8f_row5_col8\" class=\"data row5 col8\" >          </td>\n",
       "      <td id=\"T_ffd8f_row5_col9\" class=\"data row5 col9\" ></td>\n",
       "    </tr>\n",
       "    <tr>\n",
       "      <td id=\"T_ffd8f_row6_col0\" class=\"data row6 col0\" >RAM (Mb)</td>\n",
       "      <td id=\"T_ffd8f_row6_col1\" class=\"data row6 col1\" ><1 Mb</td>\n",
       "      <td id=\"T_ffd8f_row6_col2\" class=\"data row6 col2\" >          </td>\n",
       "      <td id=\"T_ffd8f_row6_col3\" class=\"data row6 col3\" >Min</td>\n",
       "      <td id=\"T_ffd8f_row6_col4\" class=\"data row6 col4\" >1.00</td>\n",
       "      <td id=\"T_ffd8f_row6_col5\" class=\"data row6 col5\" >          </td>\n",
       "      <td id=\"T_ffd8f_row6_col6\" class=\"data row6 col6\" >skew</td>\n",
       "      <td id=\"T_ffd8f_row6_col7\" class=\"data row6 col7\" >0.71</td>\n",
       "      <td id=\"T_ffd8f_row6_col8\" class=\"data row6 col8\" >          </td>\n",
       "      <td id=\"T_ffd8f_row6_col9\" class=\"data row6 col9\" ></td>\n",
       "    </tr>\n",
       "  </tbody>\n",
       "</table>\n",
       "\n",
       "                <div>\n",
       "                    <img src=\"data:image/png;base64,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\" alt=\"График\"/>\n",
       "                </div>\n",
       "                      \n",
       "            </div>\n",
       "            "
      ],
      "text/plain": [
       "<IPython.core.display.HTML object>"
      ]
     },
     "metadata": {},
     "output_type": "display_data"
    }
   ],
   "source": [
    "gen.next()"
   ]
  },
  {
   "cell_type": "markdown",
   "metadata": {},
   "source": [
    "**Наблюдения:**  \n",
    "\n",
    "- Больше половины клиентов имеют абонемент на 1 месяц. 24% - 12 месяцев, 21% - 6 месяцев."
   ]
  },
  {
   "cell_type": "code",
   "execution_count": 6,
   "metadata": {},
   "outputs": [
    {
     "data": {
      "text/html": [
       "\n",
       "            <div style=\"display: flex; justify-content: flex-start; align-items: flex-end;\">\n",
       "                <style type=\"text/css\">\n",
       "#T_3c22e caption {\n",
       "  font-size: 16px;\n",
       "  text-align: left;\n",
       "  font-weight: bold;\n",
       "}\n",
       "#T_3c22e_row0_col0, #T_3c22e_row0_col1, #T_3c22e_row0_col2, #T_3c22e_row0_col3, #T_3c22e_row0_col4, #T_3c22e_row0_col5, #T_3c22e_row0_col6, #T_3c22e_row0_col7, #T_3c22e_row0_col8, #T_3c22e_row0_col9, #T_3c22e_row1_col0, #T_3c22e_row1_col1, #T_3c22e_row1_col2, #T_3c22e_row1_col3, #T_3c22e_row1_col4, #T_3c22e_row1_col5, #T_3c22e_row1_col6, #T_3c22e_row1_col7, #T_3c22e_row1_col8, #T_3c22e_row1_col9, #T_3c22e_row2_col0, #T_3c22e_row2_col1, #T_3c22e_row2_col2, #T_3c22e_row2_col3, #T_3c22e_row2_col4, #T_3c22e_row2_col5, #T_3c22e_row2_col6, #T_3c22e_row2_col7, #T_3c22e_row2_col8, #T_3c22e_row2_col9, #T_3c22e_row3_col0, #T_3c22e_row3_col1, #T_3c22e_row3_col2, #T_3c22e_row3_col3, #T_3c22e_row3_col4, #T_3c22e_row3_col5, #T_3c22e_row3_col6, #T_3c22e_row3_col7, #T_3c22e_row3_col8, #T_3c22e_row3_col9, #T_3c22e_row4_col0, #T_3c22e_row4_col1, #T_3c22e_row4_col2, #T_3c22e_row4_col3, #T_3c22e_row4_col4, #T_3c22e_row4_col5, #T_3c22e_row4_col6, #T_3c22e_row4_col7, #T_3c22e_row4_col8, #T_3c22e_row4_col9, #T_3c22e_row5_col0, #T_3c22e_row5_col1, #T_3c22e_row5_col2, #T_3c22e_row5_col3, #T_3c22e_row5_col4, #T_3c22e_row5_col5, #T_3c22e_row5_col6, #T_3c22e_row5_col7, #T_3c22e_row5_col8, #T_3c22e_row5_col9, #T_3c22e_row6_col0, #T_3c22e_row6_col1, #T_3c22e_row6_col2, #T_3c22e_row6_col3, #T_3c22e_row6_col4, #T_3c22e_row6_col5, #T_3c22e_row6_col6, #T_3c22e_row6_col7, #T_3c22e_row6_col8, #T_3c22e_row6_col9 {\n",
       "  text-align: left;\n",
       "}\n",
       "</style>\n",
       "<table id=\"T_3c22e\">\n",
       "  <caption>Статистика и гистограмма столбца \"age\"</caption>\n",
       "  <thead>\n",
       "  </thead>\n",
       "  <tbody>\n",
       "    <tr>\n",
       "      <td id=\"T_3c22e_row0_col0\" class=\"data row0 col0\" >Values</td>\n",
       "      <td id=\"T_3c22e_row0_col1\" class=\"data row0 col1\" >4.00k (100%)</td>\n",
       "      <td id=\"T_3c22e_row0_col2\" class=\"data row0 col2\" >          </td>\n",
       "      <td id=\"T_3c22e_row0_col3\" class=\"data row0 col3\" >Max</td>\n",
       "      <td id=\"T_3c22e_row0_col4\" class=\"data row0 col4\" >41.00</td>\n",
       "      <td id=\"T_3c22e_row0_col5\" class=\"data row0 col5\" >          </td>\n",
       "      <td id=\"T_3c22e_row0_col6\" class=\"data row0 col6\" >Avg</td>\n",
       "      <td id=\"T_3c22e_row0_col7\" class=\"data row0 col7\" >29.18</td>\n",
       "      <td id=\"T_3c22e_row0_col8\" class=\"data row0 col8\" >          </td>\n",
       "      <td id=\"T_3c22e_row0_col9\" class=\"data row0 col9\" >29.00 (12%)</td>\n",
       "    </tr>\n",
       "    <tr>\n",
       "      <td id=\"T_3c22e_row1_col0\" class=\"data row1 col0\" >Missing</td>\n",
       "      <td id=\"T_3c22e_row1_col1\" class=\"data row1 col1\" >---</td>\n",
       "      <td id=\"T_3c22e_row1_col2\" class=\"data row1 col2\" >          </td>\n",
       "      <td id=\"T_3c22e_row1_col3\" class=\"data row1 col3\" >95%</td>\n",
       "      <td id=\"T_3c22e_row1_col4\" class=\"data row1 col4\" >34.00</td>\n",
       "      <td id=\"T_3c22e_row1_col5\" class=\"data row1 col5\" >          </td>\n",
       "      <td id=\"T_3c22e_row1_col6\" class=\"data row1 col6\" >Mode</td>\n",
       "      <td id=\"T_3c22e_row1_col7\" class=\"data row1 col7\" >29.00</td>\n",
       "      <td id=\"T_3c22e_row1_col8\" class=\"data row1 col8\" >          </td>\n",
       "      <td id=\"T_3c22e_row1_col9\" class=\"data row1 col9\" >30.00 (11%)</td>\n",
       "    </tr>\n",
       "    <tr>\n",
       "      <td id=\"T_3c22e_row2_col0\" class=\"data row2 col0\" >Distinct</td>\n",
       "      <td id=\"T_3c22e_row2_col1\" class=\"data row2 col1\" >23.00 (1%)</td>\n",
       "      <td id=\"T_3c22e_row2_col2\" class=\"data row2 col2\" >          </td>\n",
       "      <td id=\"T_3c22e_row2_col3\" class=\"data row2 col3\" >75%</td>\n",
       "      <td id=\"T_3c22e_row2_col4\" class=\"data row2 col4\" >31.00</td>\n",
       "      <td id=\"T_3c22e_row2_col5\" class=\"data row2 col5\" >          </td>\n",
       "      <td id=\"T_3c22e_row2_col6\" class=\"data row2 col6\" >Range</td>\n",
       "      <td id=\"T_3c22e_row2_col7\" class=\"data row2 col7\" >23.00</td>\n",
       "      <td id=\"T_3c22e_row2_col8\" class=\"data row2 col8\" >          </td>\n",
       "      <td id=\"T_3c22e_row2_col9\" class=\"data row2 col9\" >28.00 (11%)</td>\n",
       "    </tr>\n",
       "    <tr>\n",
       "      <td id=\"T_3c22e_row3_col0\" class=\"data row3 col0\" >Duplicates</td>\n",
       "      <td id=\"T_3c22e_row3_col1\" class=\"data row3 col1\" >3.98k (99.4%)</td>\n",
       "      <td id=\"T_3c22e_row3_col2\" class=\"data row3 col2\" >          </td>\n",
       "      <td id=\"T_3c22e_row3_col3\" class=\"data row3 col3\" >50%</td>\n",
       "      <td id=\"T_3c22e_row3_col4\" class=\"data row3 col4\" >29.00</td>\n",
       "      <td id=\"T_3c22e_row3_col5\" class=\"data row3 col5\" >          </td>\n",
       "      <td id=\"T_3c22e_row3_col6\" class=\"data row3 col6\" >iQR</td>\n",
       "      <td id=\"T_3c22e_row3_col7\" class=\"data row3 col7\" >4.00</td>\n",
       "      <td id=\"T_3c22e_row3_col8\" class=\"data row3 col8\" >          </td>\n",
       "      <td id=\"T_3c22e_row3_col9\" class=\"data row3 col9\" >31.00 (11%)</td>\n",
       "    </tr>\n",
       "    <tr>\n",
       "      <td id=\"T_3c22e_row4_col0\" class=\"data row4 col0\" >Zeros</td>\n",
       "      <td id=\"T_3c22e_row4_col1\" class=\"data row4 col1\" >---</td>\n",
       "      <td id=\"T_3c22e_row4_col2\" class=\"data row4 col2\" >          </td>\n",
       "      <td id=\"T_3c22e_row4_col3\" class=\"data row4 col3\" >25%</td>\n",
       "      <td id=\"T_3c22e_row4_col4\" class=\"data row4 col4\" >27.00</td>\n",
       "      <td id=\"T_3c22e_row4_col5\" class=\"data row4 col5\" >          </td>\n",
       "      <td id=\"T_3c22e_row4_col6\" class=\"data row4 col6\" >std</td>\n",
       "      <td id=\"T_3c22e_row4_col7\" class=\"data row4 col7\" >3.26</td>\n",
       "      <td id=\"T_3c22e_row4_col8\" class=\"data row4 col8\" >          </td>\n",
       "      <td id=\"T_3c22e_row4_col9\" class=\"data row4 col9\" >27.00 (9%)</td>\n",
       "    </tr>\n",
       "    <tr>\n",
       "      <td id=\"T_3c22e_row5_col0\" class=\"data row5 col0\" >Negative</td>\n",
       "      <td id=\"T_3c22e_row5_col1\" class=\"data row5 col1\" >---</td>\n",
       "      <td id=\"T_3c22e_row5_col2\" class=\"data row5 col2\" >          </td>\n",
       "      <td id=\"T_3c22e_row5_col3\" class=\"data row5 col3\" >5%</td>\n",
       "      <td id=\"T_3c22e_row5_col4\" class=\"data row5 col4\" >24.00</td>\n",
       "      <td id=\"T_3c22e_row5_col5\" class=\"data row5 col5\" >          </td>\n",
       "      <td id=\"T_3c22e_row5_col6\" class=\"data row5 col6\" >kurt</td>\n",
       "      <td id=\"T_3c22e_row5_col7\" class=\"data row5 col7\" >-0.13</td>\n",
       "      <td id=\"T_3c22e_row5_col8\" class=\"data row5 col8\" >          </td>\n",
       "      <td id=\"T_3c22e_row5_col9\" class=\"data row5 col9\" >32.00 (9%)</td>\n",
       "    </tr>\n",
       "    <tr>\n",
       "      <td id=\"T_3c22e_row6_col0\" class=\"data row6 col0\" >RAM (Mb)</td>\n",
       "      <td id=\"T_3c22e_row6_col1\" class=\"data row6 col1\" ><1 Mb</td>\n",
       "      <td id=\"T_3c22e_row6_col2\" class=\"data row6 col2\" >          </td>\n",
       "      <td id=\"T_3c22e_row6_col3\" class=\"data row6 col3\" >Min</td>\n",
       "      <td id=\"T_3c22e_row6_col4\" class=\"data row6 col4\" >18.00</td>\n",
       "      <td id=\"T_3c22e_row6_col5\" class=\"data row6 col5\" >          </td>\n",
       "      <td id=\"T_3c22e_row6_col6\" class=\"data row6 col6\" >skew</td>\n",
       "      <td id=\"T_3c22e_row6_col7\" class=\"data row6 col7\" >-0.06</td>\n",
       "      <td id=\"T_3c22e_row6_col8\" class=\"data row6 col8\" >          </td>\n",
       "      <td id=\"T_3c22e_row6_col9\" class=\"data row6 col9\" >26.00 (8%)</td>\n",
       "    </tr>\n",
       "  </tbody>\n",
       "</table>\n",
       "\n",
       "                <div>\n",
       "                    <img src=\"data:image/png;base64,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\" alt=\"График\"/>\n",
       "                </div>\n",
       "                      \n",
       "            </div>\n",
       "            "
      ],
      "text/plain": [
       "<IPython.core.display.HTML object>"
      ]
     },
     "metadata": {},
     "output_type": "display_data"
    }
   ],
   "source": [
    "gen.next()"
   ]
  },
  {
   "cell_type": "markdown",
   "metadata": {},
   "source": [
    "**Наблюдения:**  \n",
    "\n",
    "- Клиенты имеют возраст от 18 до 41 года.\n",
    "- В основном, клиенты имеют возраст от 27 до 31 года."
   ]
  },
  {
   "cell_type": "code",
   "execution_count": 7,
   "metadata": {},
   "outputs": [
    {
     "data": {
      "text/html": [
       "\n",
       "            <div style=\"display: flex; justify-content: flex-start; align-items: flex-end;\">\n",
       "                <style type=\"text/css\">\n",
       "#T_990ab caption {\n",
       "  font-size: 16px;\n",
       "  text-align: left;\n",
       "  font-weight: bold;\n",
       "}\n",
       "#T_990ab_row0_col0, #T_990ab_row0_col1, #T_990ab_row0_col2, #T_990ab_row0_col3, #T_990ab_row0_col4, #T_990ab_row0_col5, #T_990ab_row0_col6, #T_990ab_row0_col7, #T_990ab_row0_col8, #T_990ab_row0_col9, #T_990ab_row1_col0, #T_990ab_row1_col1, #T_990ab_row1_col2, #T_990ab_row1_col3, #T_990ab_row1_col4, #T_990ab_row1_col5, #T_990ab_row1_col6, #T_990ab_row1_col7, #T_990ab_row1_col8, #T_990ab_row1_col9, #T_990ab_row2_col0, #T_990ab_row2_col1, #T_990ab_row2_col2, #T_990ab_row2_col3, #T_990ab_row2_col4, #T_990ab_row2_col5, #T_990ab_row2_col6, #T_990ab_row2_col7, #T_990ab_row2_col8, #T_990ab_row2_col9, #T_990ab_row3_col0, #T_990ab_row3_col1, #T_990ab_row3_col2, #T_990ab_row3_col3, #T_990ab_row3_col4, #T_990ab_row3_col5, #T_990ab_row3_col6, #T_990ab_row3_col7, #T_990ab_row3_col8, #T_990ab_row3_col9, #T_990ab_row4_col0, #T_990ab_row4_col1, #T_990ab_row4_col2, #T_990ab_row4_col3, #T_990ab_row4_col4, #T_990ab_row4_col5, #T_990ab_row4_col6, #T_990ab_row4_col7, #T_990ab_row4_col8, #T_990ab_row4_col9, #T_990ab_row5_col0, #T_990ab_row5_col1, #T_990ab_row5_col2, #T_990ab_row5_col3, #T_990ab_row5_col4, #T_990ab_row5_col5, #T_990ab_row5_col6, #T_990ab_row5_col7, #T_990ab_row5_col8, #T_990ab_row5_col9, #T_990ab_row6_col0, #T_990ab_row6_col1, #T_990ab_row6_col2, #T_990ab_row6_col3, #T_990ab_row6_col4, #T_990ab_row6_col5, #T_990ab_row6_col6, #T_990ab_row6_col7, #T_990ab_row6_col8, #T_990ab_row6_col9 {\n",
       "  text-align: left;\n",
       "}\n",
       "</style>\n",
       "<table id=\"T_990ab\">\n",
       "  <caption>Статистика и гистограмма столбца \"avg_additional_charges_total\"</caption>\n",
       "  <thead>\n",
       "  </thead>\n",
       "  <tbody>\n",
       "    <tr>\n",
       "      <td id=\"T_990ab_row0_col0\" class=\"data row0 col0\" >Values</td>\n",
       "      <td id=\"T_990ab_row0_col1\" class=\"data row0 col1\" >4.00k (100%)</td>\n",
       "      <td id=\"T_990ab_row0_col2\" class=\"data row0 col2\" >          </td>\n",
       "      <td id=\"T_990ab_row0_col3\" class=\"data row0 col3\" >Max</td>\n",
       "      <td id=\"T_990ab_row0_col4\" class=\"data row0 col4\" >552.59</td>\n",
       "      <td id=\"T_990ab_row0_col5\" class=\"data row0 col5\" >          </td>\n",
       "      <td id=\"T_990ab_row0_col6\" class=\"data row0 col6\" >Avg</td>\n",
       "      <td id=\"T_990ab_row0_col7\" class=\"data row0 col7\" >146.94</td>\n",
       "      <td id=\"T_990ab_row0_col8\" class=\"data row0 col8\" >          </td>\n",
       "      <td id=\"T_990ab_row0_col9\" class=\"data row0 col9\" >14.23 <1%</td>\n",
       "    </tr>\n",
       "    <tr>\n",
       "      <td id=\"T_990ab_row1_col0\" class=\"data row1 col0\" >Missing</td>\n",
       "      <td id=\"T_990ab_row1_col1\" class=\"data row1 col1\" >---</td>\n",
       "      <td id=\"T_990ab_row1_col2\" class=\"data row1 col2\" >          </td>\n",
       "      <td id=\"T_990ab_row1_col3\" class=\"data row1 col3\" >95%</td>\n",
       "      <td id=\"T_990ab_row1_col4\" class=\"data row1 col4\" >323.44</td>\n",
       "      <td id=\"T_990ab_row1_col5\" class=\"data row1 col5\" >          </td>\n",
       "      <td id=\"T_990ab_row1_col6\" class=\"data row1 col6\" >Mode</td>\n",
       "      <td id=\"T_990ab_row1_col7\" class=\"data row1 col7\" >---</td>\n",
       "      <td id=\"T_990ab_row1_col8\" class=\"data row1 col8\" >          </td>\n",
       "      <td id=\"T_990ab_row1_col9\" class=\"data row1 col9\" >17.08 <1%</td>\n",
       "    </tr>\n",
       "    <tr>\n",
       "      <td id=\"T_990ab_row2_col0\" class=\"data row2 col0\" >Distinct</td>\n",
       "      <td id=\"T_990ab_row2_col1\" class=\"data row2 col1\" >4.00k (100%)</td>\n",
       "      <td id=\"T_990ab_row2_col2\" class=\"data row2 col2\" >          </td>\n",
       "      <td id=\"T_990ab_row2_col3\" class=\"data row2 col3\" >75%</td>\n",
       "      <td id=\"T_990ab_row2_col4\" class=\"data row2 col4\" >210.95</td>\n",
       "      <td id=\"T_990ab_row2_col5\" class=\"data row2 col5\" >          </td>\n",
       "      <td id=\"T_990ab_row2_col6\" class=\"data row2 col6\" >Range</td>\n",
       "      <td id=\"T_990ab_row2_col7\" class=\"data row2 col7\" >552.44</td>\n",
       "      <td id=\"T_990ab_row2_col8\" class=\"data row2 col8\" >          </td>\n",
       "      <td id=\"T_990ab_row2_col9\" class=\"data row2 col9\" >278.20 <1%</td>\n",
       "    </tr>\n",
       "    <tr>\n",
       "      <td id=\"T_990ab_row3_col0\" class=\"data row3 col0\" >Duplicates</td>\n",
       "      <td id=\"T_990ab_row3_col1\" class=\"data row3 col1\" >---</td>\n",
       "      <td id=\"T_990ab_row3_col2\" class=\"data row3 col2\" >          </td>\n",
       "      <td id=\"T_990ab_row3_col3\" class=\"data row3 col3\" >50%</td>\n",
       "      <td id=\"T_990ab_row3_col4\" class=\"data row3 col4\" >136.22</td>\n",
       "      <td id=\"T_990ab_row3_col5\" class=\"data row3 col5\" >          </td>\n",
       "      <td id=\"T_990ab_row3_col6\" class=\"data row3 col6\" >iQR</td>\n",
       "      <td id=\"T_990ab_row3_col7\" class=\"data row3 col7\" >142.08</td>\n",
       "      <td id=\"T_990ab_row3_col8\" class=\"data row3 col8\" >          </td>\n",
       "      <td id=\"T_990ab_row3_col9\" class=\"data row3 col9\" >120.46 <1%</td>\n",
       "    </tr>\n",
       "    <tr>\n",
       "      <td id=\"T_990ab_row4_col0\" class=\"data row4 col0\" >Zeros</td>\n",
       "      <td id=\"T_990ab_row4_col1\" class=\"data row4 col1\" >---</td>\n",
       "      <td id=\"T_990ab_row4_col2\" class=\"data row4 col2\" >          </td>\n",
       "      <td id=\"T_990ab_row4_col3\" class=\"data row4 col3\" >25%</td>\n",
       "      <td id=\"T_990ab_row4_col4\" class=\"data row4 col4\" >68.87</td>\n",
       "      <td id=\"T_990ab_row4_col5\" class=\"data row4 col5\" >          </td>\n",
       "      <td id=\"T_990ab_row4_col6\" class=\"data row4 col6\" >std</td>\n",
       "      <td id=\"T_990ab_row4_col7\" class=\"data row4 col7\" >96.36</td>\n",
       "      <td id=\"T_990ab_row4_col8\" class=\"data row4 col8\" >          </td>\n",
       "      <td id=\"T_990ab_row4_col9\" class=\"data row4 col9\" >130.71 <1%</td>\n",
       "    </tr>\n",
       "    <tr>\n",
       "      <td id=\"T_990ab_row5_col0\" class=\"data row5 col0\" >Negative</td>\n",
       "      <td id=\"T_990ab_row5_col1\" class=\"data row5 col1\" >---</td>\n",
       "      <td id=\"T_990ab_row5_col2\" class=\"data row5 col2\" >          </td>\n",
       "      <td id=\"T_990ab_row5_col3\" class=\"data row5 col3\" >5%</td>\n",
       "      <td id=\"T_990ab_row5_col4\" class=\"data row5 col4\" >12.55</td>\n",
       "      <td id=\"T_990ab_row5_col5\" class=\"data row5 col5\" >          </td>\n",
       "      <td id=\"T_990ab_row5_col6\" class=\"data row5 col6\" >kurt</td>\n",
       "      <td id=\"T_990ab_row5_col7\" class=\"data row5 col7\" >0.00</td>\n",
       "      <td id=\"T_990ab_row5_col8\" class=\"data row5 col8\" >          </td>\n",
       "      <td id=\"T_990ab_row5_col9\" class=\"data row5 col9\" >238.05 <1%</td>\n",
       "    </tr>\n",
       "    <tr>\n",
       "      <td id=\"T_990ab_row6_col0\" class=\"data row6 col0\" >RAM (Mb)</td>\n",
       "      <td id=\"T_990ab_row6_col1\" class=\"data row6 col1\" ><1 Mb</td>\n",
       "      <td id=\"T_990ab_row6_col2\" class=\"data row6 col2\" >          </td>\n",
       "      <td id=\"T_990ab_row6_col3\" class=\"data row6 col3\" >Min</td>\n",
       "      <td id=\"T_990ab_row6_col4\" class=\"data row6 col4\" >0.15</td>\n",
       "      <td id=\"T_990ab_row6_col5\" class=\"data row6 col5\" >          </td>\n",
       "      <td id=\"T_990ab_row6_col6\" class=\"data row6 col6\" >skew</td>\n",
       "      <td id=\"T_990ab_row6_col7\" class=\"data row6 col7\" >0.62</td>\n",
       "      <td id=\"T_990ab_row6_col8\" class=\"data row6 col8\" >          </td>\n",
       "      <td id=\"T_990ab_row6_col9\" class=\"data row6 col9\" >3.38 <1%</td>\n",
       "    </tr>\n",
       "  </tbody>\n",
       "</table>\n",
       "\n",
       "                <div>\n",
       "                    <img src=\"data:image/png;base64,iVBORw0KGgoAAAANSUhEUgAAASwAAADcCAYAAADKmJzYAAAaL0lEQVR4Xu2dC3RU1b3Gv0kmyYQ8gQDyCGjCRSW8blVawFIokWZV295ehUtauxTQ4BIRL4iPe0FTUwuEi4+lYYFii4JLLwgYEb3lGaLyCqG1JIgoz6AkaIAEEnkkmbv2DhknQDLzd85OMjPfWSsrj/lmn3N++39+s8+ekzM2p9PpBBcSIAES8AMCNgrLD3qJm0gCJKAJUFgsBBIgAb8hQGH5TVdxQ0mABCgsDzVw+O/fYOUft7d4pfT+8TUY/dBALHloM6orLrT4+t1XmD5nGLrd0KFVt4ErJwGeEnpRA4d2n8A7T29HzflaL9LWRcIcoUjoFYsThypQe6HOuoaFLdkdofjd3FvR/UYKS4iOcQMEOMLyALVBWFEdItD3Zz0MdMGVTZYdqMChwjLYw0NRe7EOg355LSKiwlpk3e4r2bOhBOfOXsDvs2/lCKsF6ZcUlePEwQqEO+z4at9JRHVwoNv17ZHQM0Zvxdefn9LfwyPtqDp1Xv98Te94HCwsQ/nRM+jaJx4XztUiPCJUPxbXNQqnj1chzGHHNb3jcL66Bon9Orr2qKKsGpXffIdO18bqv31zuBKxnSIR16XdVfdabdvlbbgH3dtzRF9Zt+fOXvS4jqZw+42wijYeRfGmY0j5eQ/0G9WzxcqnNYSldq5ow1GcKT+HXgMTWk0WFFbLlFnpl6ex5a97EZPgwOefHEdlWTXgdEJfb2Szwaa+q19C9K+ocwK2OvW4Tf8OlXBdneSEUz/HWf8c9U39riL1z0B4OzsSesXgN0/cgry/FEMJUi0Xz9VCXeWkRKgWJbVfP3ELGqSjRLR81lZUnvhOP65eRNMeHgQ1fdGw5M4uwJc7Sl2//+hXSRg5McX1++bXirF7zcEmH/dE3G+EtfXt/dj29udIGZmopdVSS+mXFbpTW3KEpfZt/7bjKD9yBv8ytBsSeka31O42Wk+DsFIn9Xe9urfKhgT4SpWw8l//THun6uQ5OGuVZOrl4loarpa89CclFlu9replVW8k3cYlS13y2KWc67H6THQHB+IvjbzUM+pqnfiusn60FhkbjpDQEP3ziAkpuOnXSfrnd/+8Ewd2ljXqDSWth95M039Tg4q/vfTpFb31h+eGo3NSnBaZEtrlS8Pj3nSz3wnLm52yOqM6M5iFFRLiduBYDZftuQhc+O6iHuWoelPDKT1KchOUCjYaUWlJXTKR/vGS5BpEpsZU7mJzY90uPhw1F50Id9SfNqqpB3X6r5aIdmGwXzqdVAOEtKmD9N//97+34lhx/WjMfZn+7q/0rw2Dissfb5BeU48PGXc9ho7r41Ul+J2w1Ll1bOern1t7tcfCkDrfVufswSwsNT/ScJogxMe4FwTOV9XP6dTV1uG7yguoU++xXC4a1/+jNIym3L4rqzUIS8uq4QXGTVjuIyxA13OoPVSv83JhOWLCEWqvH2G5y+SHCus3T96iTxsL3zuoz1YuX34xZaDX0zx+JKzPse3t/Rgyrg+GjrveizKwJqIua1jx1DZEtY9A3xEtdyq6f+vXKD96tk2cEnLS3ZpaaqqVI//4Bu9kbkdknAPlRyrqJeJUwrhkKeUf1xyV+2j3koX0KeH3U1k2p03Pd+nFdbp4SXBq7BZqQ7v4CPS/rRf2rD/i2qzq0+d1O+qUsOF0c2zWECT2T9CZqwkneXAX/Nt/DdaPqzmuxZM2NtpNNVq775VReh5MPb70P/NxvvqiK+P+uDeU/UZY+p2HE9V6dNXUuxfe7LA00xqT7heqL2L3B4d1DbaLU4XVcm8yuPPhpLu0Wn5Y/tyZC3qE5YgOx6G/n0DhewdQcbwaF8/Xnx7aQqAf65HSAXU1Tnx7pBIXztVAPVBXU1s/3+R0ahHo0Rmcl+agbFpO6nGnsw4hISGIah+Ojj1jMWB0Tz2qKdnzrX4zq+JENTp0j0bNhVr9jmFc53Z6rrhBVg17puap1FzU+aoaPWpK+Xmia1JeZdTZyO41h3R7na+LhZp0dz9e1ePFm0pw4lClXocagEiOZ78R1g8rBd+f1SAse1gIEq6N871BL1o4ffysPjUIDQvRcxode0bDER3hxTOtjZw4eBp1dU5eh2UtVrbmAwEKywM8JSx1pbt6ZWvJRZ2CDr+nL/728j9afN3u+xlit2lh8Ur3lux9rqspAhSWh9o49XUVPsv/qsUrSF0Do74+/b/DqDrduv+a0z81ETEJkS3OgCskgcsJUFisCRIgAb8hQGH5TVdxQ0mABCgs1gAJkIDfEGgVYeXl5WHEiBF+A4kbSgIk0DYItIqwMjMzob64kAAJkICEAIUlocUsCZBAqxKgsFoVP1dOAiQgIUBhSWgxSwIk0KoEKKxWxc+VkwAJSAhQWBJazJIACbQqAQqrVfFz5SRAAhICFJaEFrMkQAKtSoDCEuJX9/M5vv+08FnNx20hNn2vI3U/Ii4kQAJNE6CwhNVx5NNv8c7T24TPaj6ubj889k9D0SW5Ze63ZenGszESaEECASus08erXTfVt4qnLVR9qskFrP7TDqua1O1QWJbiZGMBTCBghXX0n2okZO1HzKsb94/KGIDc2TstLQkKy1KcbCyACQS0sNSHR1i5qM9yGzXJemFFtLPjrmeGwGHg050josMQGRNuJQa2RQKtRoDCEqA3JSzV7uiHBiHvL0WCrfEcDXOEIm3KICT0qv8Ici4k4O8EKCxBD5oUlomRmzrV/I8/D0Xn6ziZL+hmRtswAQpL0DkUlgAWoyRggACFJYBKYQlgMUoCBghQWAKoFJYAFqMkYIAAhSWASmEJYDFKAgYIUFgCqBSWABajJGCAAIUlgEphCWAxSgIGCFBYAqgUlgAWoyRggACFJYBKYQlgMUoCBghQWAKoFJYAFqMkYIAAhSWASmEJYDFKAgYIUFgCqBSWABajJGCAAIUlgEphCWAxSgIGCFBYAqgUlgAWoyRggACFJYBKYQlgMUoCBghQWAKoFJYAFqMkYIAAhSWASmEJYDFKAgYIUFgCqBSWABajJGCAAIUlgEphCWAxSgIGCFBYAqgUlgAWoyRggACFJYBKYQlgMUoCBghQWAKoFJYAFqMkYIAAhSWASmEJYDFKAgYIeC2skpISLFy4EMnJyZgwYYJrU0aOHImamhrX77NmzcLo0aOb3dTMzEyoL5OL+uRnf/kgVVMi5Md8mawwtt0aBLwSVllZGYqKirBp0yYkJSVh4sSJrm2dP38+pk+fLtp2CqsxLgpLVD4MBzEBr4TVwCcrKwvdunUTCSsvL+8KvOpvHGF9j4XCCuIjkLsuIuCzsKZNm4aUlBRUV1fDbrcjPT0d8fHxro2gsDz3h0lh/eG5nyK+a7TnjWCCBPyAgM/Cct/HJUuWoKCgADk5OZzDEnS+KWGpdtOmDsK2t/cLtsZzNMwRip/dm4KEXjGew0yQgIUELBXWvn37kJGRgfz8fApL0EkmhTVqUn/kzi4QbI3naESUHWOzhqJzUpznMBMkYCEBn4RVXFyMqqoqDB48WG/S2rVrsXr1aixevJjCEnQShSWAxWhQE/BKWKWlpdixY4eWUVxcHFJTUzF8+HBUVlYiOzsbffr0QV1dHVRu8uTJ6NGjB4UlKCsKSwCL0aAm4JWwrCbEyxoaE6WwrK4wtheoBCgsQc+aFcsA5M7eKdgaz9H67eUclmdSTPgLAQpL0FMUVj0sTroLioZRSwlQWAKcFBaFJSgXRg0QoLAEUCksCktQLowaIEBhCaBSWBSWoFwYNUCAwhJApbAoLEG5MGqAAIUlgEphUViCcmHUAAEKSwCVwqKwBOXCqAECFJYAKoVFYQnKhVEDBCgsAVQKi8ISlAujBghQWAKoFBaFJSgXRg0QoLAEUCksCktQLowaIEBhCaBSWBSWoFwYNUCAwhJApbAoLEG5MGqAAIUlgEphUViCcmHUAAEKSwCVwqKwBOXCqAECFJYAKoVFYQnKhVEDBCgsAVQKi8ISlAujBghQWAKoFBaFJSgXRg0QoLAEUCksCktQLowaIEBhCaBSWBSWoFwYNUCAwhJApbAoLEG5MGqAAIUlgEphUViCcmHUAAEKSwCVwqKwBOXCqAECFJYAKoVFYQnKhVEDBCgsAVQKi8ISlAujBghQWAKoFBaFJSgXRg0QoLAEUCksCktQLowaIEBhCaBSWBSWoFwYNUCAwhJApbAoLEG5MGqAAIUlgEphUViCcmHUAAEKSwCVwqKwBOXCqAECFJYAKoVVD6tdfDh+O/PHcNYJ4HkTtQHR7R2ISXB4k2YmCAlQWIJOp7DqYcV0cmDk+H54L3uXgJ7naESUHWOzhqJzUpznMBNBSYDCEnQ7hUVhCcqFUQMEKCwBVAqLwhKUC6MGCHgtrJKSEixcuBDJycmYMGGCa1M2bNiAzZs3o2PHjigvL8fMmTMRGRnZ7KZmZmZCfZlcjv7zW6x4apulq6CwKCxLC4qNiQl4JayysjIUFRVh06ZNSEpKwsSJE/WKzpw5g/T0dKxcuRIRERFYtGgRbDYbMjIyKCxBV5gVYX/kzi4QbI3nKOewPDNiwgwBr4TVsOqsrCx069bNJax169YhNzcXOTk5OlJYWIg5c+ZgxYoVrq3Ny8u7YsvV3zjC+h4LhVXPgpPuZg7yQGrVJ2EtXboUxcXFWlJqOXDgAMaPH4/8/HwKS1AlFBaFJSiXoI76JKxly5Zhz549mDt3rktYan5ry5YtPCUUlBWFRWEJyiWooz4Ja/369Xr+Sk3Gq6WgoADz5s3D8uXLKSxBWVFYFJagXII66pOwqqqqMGbMGKxatQoOhwMLFixAaGgoJk2aRGEJyorCorAE5RLUUa+EVVpaih07dmD16tWIi4tDamoqhg8frn/euHGj/kpMTNSXNcyYMUO/Y9jcwssaGtOhsCisoLaQYOe9EpagPa+iFBaFdbVC4buEXh0+QR2isATdb3YkNAC5s3cKtsZztH57eR2WZ1JM+AuBVhdWdcUFXDxfYzmvU19XYWXmdkvbpbDqcfLCUUvLio0JCLS6sI7tPYk1c629EtsRHYbh96bg3WdNjFhMjYRMtcsRluB4YLSNE2h1YZUUlWP5zK2WYnLEhiNtyiAKi6eEltYVG2t9AhSWoA94SshTQkG5MGqAAIUlgEphUViCcmHUAAEKSwCVwqKwBOXCqAECFJYAKoVFYQnKhVEDBCgsAVQKi8ISlAujBghQWAKoFBaFJSgXRg0QoLAEUCksCktQLowaIEBhCaBSWBSWoFwYNUCAwhJApbAoLEG5MGqAAIUlgEphUViCcmHUAAEKSwCVwqKwBOXCqAECFJYAKoVFYQnKhVEDBCgsAVQKi8ISlAujBghQWAKoFBaFJSgXRg0QoLAEUCksCktQLowaIEBhCaBSWBSWoFwYNUCAwhJApbAoLEG5MGqAAIUlgEphUViCcmHUAAEKSwCVwqKwBOXCqAECFJYAKoVFYQnKhVEDBCgsAVQKi8ISlAujBghQWAKoFBaFJSgXRg0QoLAEUCksCktQLowaIEBhCaBSWBSWoFwYNUCAwhJApbAoLEG5MGqAAIUlgEphUViCcmHUAAEKSwCVwqKwBOXCqAECFJYAKoVFYQnKhVEDBCgsAVQKi8ISlAujBghQWAKoFBaFJSgXRg0QoLAEUCkss8JyxIThrj/+BI524YJe8S4aHhWGyJgw78JMtVkCFJagaygss8KK6eRAasYAbFpcJOgVz9GIqDCkTf1XdOoV4znMRJsm4LOwRo4ciZqaGtdOzpo1C6NHj252pzMzM6G+1FJSVI7lM7daCskRG460KYPw7rM7LW2XwjIvrJHj++G97F2W9psauY15Zig6XxdrabtsrOUJ+Cys+fPnY/r06aItp7Aa4zIrwv7InV0g6h9PYTUSMiEWU+1SWJ561H8eNy6svLy8K2iov3GE9T0WCsvsyI3C8h8hedpSn4U1bdo0pKSkoLq6Gna7Henp6YiPj3etl8Ly1AUAhUVhea4SJhQBn4XljnHJkiUoKChATk4O57AE9UVhUViCcgnqqKXC2rdvHzIyMpCfn09hCcqKwqKwBOUS1FGfhFVcXIyqqioMHjxYQ1y7di1Wr16NxYsXU1iCsqKwKCxBuQR11CdhlZSUIDs7G3369EFdXR1KS0sxefJk9OjRg8ISlBWFRWEJyiWooz4J64eS42UNjclRWBTWDz2Wgu15FJagx82KZQByZ5u40JXXYfGyBkGRt/EohSXoIArL7EiIF44KijFIoxSWoOMpLApLUC6MGiBAYQmgUlgUlqBcGDVAgMISQKWwKCxBuTBqgACFJYBKYVFYgnJh1AABCksAlcKisATlwqgBAhSWACqFRWEJyoVRAwQoLAFUCovCEpQLowYIUFgCqBSWfworMi4c//70T+CItAt627uoIzoMjhjr70Hv3dqDL0VhCfqcwvJPYcV3bYcRE/phy1/3CnrbczQiyo5fPDQICbxXvGdYFiUoLAFICst/hXXr3Tfi/XmFgt72HFX/8jP2maHoxHvFe4ZlUYLCEoCksCgs93KhsAQHj0VRCksAksKisCgswQFjIEphCaBSWBQWhSU4YAxEKSwBVAqLwqKwBAeMgSiFJYBKYVFYFJbggDEQpbAEUCksCovCEhwwBqIUlgAqhUVhUViCA8ZAlMISQKWwKCwKS3DAGIhSWAKoFBaFRWEJDhgDUQpLAJXCorAoLMEBYyBKYQmgUlgUFoUlOGAMRCksAVQKi8KisAQHjIEohSWASmFRWBSW4IAxEKWwBFApLAqLwhIcMAaiFJYAKoVFYVFYggPGQJTCEkClsCgsCktwwBiIUlgCqBQWhUVhCQ4YA1EKSwCVwqKwLhfWuGdvRcee0YIqYtQXAhSWgB6FRWG5l0tMJwd+OfVH+OZIpaCKPEdD7Db0HNAJ7btGeQ4HWYLCEnQ4hUVhuZeL+nCLn/6+L9b8zy5BFXmO8tbLTTOisDzXjytBYVFYFJbggDEQpbAEUCksCqulhPW7ObeifXfOjV1+eFJYFJaAAIXVEsKK6xKJ1AcGYs+6I+K+ae4J4ZF23PTbZCQkxljabks2RmEJaHOERWG1hLBMzY1FxoZjzDND0OnaWEHVt62oz8LasGEDNm/ejI4dO6K8vBwzZ85EZGRks3uZmZkJ9aWWkqJyLJ+51VIqjthwpE0ZhHef3WlpuxQWhUVhWXpIiRvzSVhnzpxBeno6Vq5ciYiICCxatAg2mw0ZGRkUlqArzIqwP3JnFwi2xnNUvZ0/cnw/vJdt7btjptpVIxYTn/xsaiRkql01who3exg6+PHcmE/CWrduHXJzc5GTk6OrvLCwEHPmzMGKFStcVZ+Xl3fFEaD+1jDCKv3iNLYt3+/5KBEk1Ln6wNG9UJB7QPAsz9HI6DCkjOqJXX7VbiJ25R70vHOChCr8vsN7oPB9/2g3qn0Erh/WHbst3l7d7tDu2L3WWg6m2o1uH4G+IxJxfP8pQW97joY5QtG9b0eEhNo8hyUJGxDusEO9oDcsPglr6dKlKC4u1pJSy4EDBzB+/Hjk5+d7FJZku5klARIgAUXAJ2EtW7YMe/bswdy5c13CmjBhArZs2WI53erqarz88st47LHHLG+bDQJnz57FwoUL8eijjxKHAQKnT5/GkiVL8MgjjxhoPXia9ElY69ev1/NXqtDVUlBQgHnz5mH58uWWE6SwLEfaqEEKyyxfCssavj4Jq6qqCmPGjMGqVavgcDiwYMEChIaGYtKkSdZsnVsrFJblSCkss0gbtU5hWQPbJ2GpTdi4caP+SkxM1Jc1zJgxQ79jaPVCYVlNtHF7HGGZ5UthWcPXZ2FZsxmeW6GwPDPyJUFh+ULP83MpLM+MvEn4jbC82RlmSIAEApsAhRXY/cu9I4GAIkBhBVR3cmdIILAJUFiB3b/cOxIIKAIUVkB1J3eGBAKbAIUV2P3LvSOBgCJAYQVUd3JnSCCwCVBYgd2/3DsSCCgCfiEsdReIV155Bd27d8eRI0fw8MMPo1evXgHVEaZ35qOPPsL777+vGR4/fhzJycm477779Gqb46v+3aqyshLnz59H165dPd7rzPR++EP7O3fuRFZWFtasWUO+FneYXwhL3QFi+vTpSElJwa5du/Dqq6/qmwVy8Z6AuoNGv3799J1hL168iLS0NGRnZ+Omm25CU3y3b9+Ot956Cy+++KJekboxo/o/UfUcLlcn8NVXX2muX3zxBT744AMdIl/rqqXNC0v9f+Idd9yBTz75BCEhIaitrcWwYcN0MXTo0ME6EkHWkhLWE088gf79+zfJV70odOnSRR9walGj3JMnT+rncbmSgPr3sRdeeAG33347nnzySV2jzdUv+cqrqM0La+/evZg6dSrUrWwaltTUVLz00ku48cYb5XvMZ6C0tBT33nuvvsvG4cOHm+SrDij14qDuyKEWddugbdu24fnnnyfFywg4nU7Mnz9f38CyrKxM31dMCau5+iVfeRm1eWF99tlnmDJlCtSHXbgLS93M74YbbpDvcZA/o6amBk899ZS+F78aXTXHVx1QQ4YMwdixY13CUqeJzz33XJBTvHL333jjDX2qrKYtlKQahEW+1pZKmxeWGlKrIbY6JVT32lIHnHrV//DDD3lKKKwFdf8yNTK966670Lt3b/3s5viqU0A153X//ffrrLpRY0VFBR5//HHhmgM/ftttt+l7wqlFzRGeOnUKnTt31szuvPPOq9Yv+crros0LS+2SejdLjbIGDhyIHTt24LXXXtPzKVy8J6Amg9988009cR4fH9/oiU3xVe92vf76664PGVG5Bx54ADfffLP3Kw7CpPsIq7n6JV95cfiFsNTb7uqVKikpCceOHcODDz6o357n4j0BNVH+8ccf649ha1juvvtu/a5fc3zVZQ1qVGW32/WI4Z577vF+pUGavFxY5GtdIfiFsKzbXbZEAiTgzwQoLH/uPW47CQQZAQoryDqcu0sC/kzg/wF1jVJVD+fCGwAAAABJRU5ErkJggg==\" alt=\"График\"/>\n",
       "                </div>\n",
       "                      \n",
       "            </div>\n",
       "            "
      ],
      "text/plain": [
       "<IPython.core.display.HTML object>"
      ]
     },
     "metadata": {},
     "output_type": "display_data"
    }
   ],
   "source": [
    "gen.next()"
   ]
  },
  {
   "cell_type": "markdown",
   "metadata": {},
   "source": [
    "**Наблюдения:**  \n",
    "\n",
    "- Суммарная выручка от других услуг лежит в диапазоне от 0.15 до 552.59.\n",
    "- В основном, суммарная выручка от других услуг варьируется в диапазоне от 68.87 до 210.95."
   ]
  },
  {
   "cell_type": "code",
   "execution_count": 8,
   "metadata": {},
   "outputs": [
    {
     "data": {
      "text/html": [
       "\n",
       "            <div style=\"display: flex; justify-content: flex-start; align-items: flex-end;\">\n",
       "                <style type=\"text/css\">\n",
       "#T_4a68f caption {\n",
       "  font-size: 16px;\n",
       "  text-align: left;\n",
       "  font-weight: bold;\n",
       "}\n",
       "#T_4a68f_row0_col0, #T_4a68f_row0_col1, #T_4a68f_row0_col2, #T_4a68f_row0_col3, #T_4a68f_row0_col4, #T_4a68f_row0_col5, #T_4a68f_row0_col6, #T_4a68f_row0_col7, #T_4a68f_row0_col8, #T_4a68f_row0_col9, #T_4a68f_row1_col0, #T_4a68f_row1_col1, #T_4a68f_row1_col2, #T_4a68f_row1_col3, #T_4a68f_row1_col4, #T_4a68f_row1_col5, #T_4a68f_row1_col6, #T_4a68f_row1_col7, #T_4a68f_row1_col8, #T_4a68f_row1_col9, #T_4a68f_row2_col0, #T_4a68f_row2_col1, #T_4a68f_row2_col2, #T_4a68f_row2_col3, #T_4a68f_row2_col4, #T_4a68f_row2_col5, #T_4a68f_row2_col6, #T_4a68f_row2_col7, #T_4a68f_row2_col8, #T_4a68f_row2_col9, #T_4a68f_row3_col0, #T_4a68f_row3_col1, #T_4a68f_row3_col2, #T_4a68f_row3_col3, #T_4a68f_row3_col4, #T_4a68f_row3_col5, #T_4a68f_row3_col6, #T_4a68f_row3_col7, #T_4a68f_row3_col8, #T_4a68f_row3_col9, #T_4a68f_row4_col0, #T_4a68f_row4_col1, #T_4a68f_row4_col2, #T_4a68f_row4_col3, #T_4a68f_row4_col4, #T_4a68f_row4_col5, #T_4a68f_row4_col6, #T_4a68f_row4_col7, #T_4a68f_row4_col8, #T_4a68f_row4_col9, #T_4a68f_row5_col0, #T_4a68f_row5_col1, #T_4a68f_row5_col2, #T_4a68f_row5_col3, #T_4a68f_row5_col4, #T_4a68f_row5_col5, #T_4a68f_row5_col6, #T_4a68f_row5_col7, #T_4a68f_row5_col8, #T_4a68f_row5_col9, #T_4a68f_row6_col0, #T_4a68f_row6_col1, #T_4a68f_row6_col2, #T_4a68f_row6_col3, #T_4a68f_row6_col4, #T_4a68f_row6_col5, #T_4a68f_row6_col6, #T_4a68f_row6_col7, #T_4a68f_row6_col8, #T_4a68f_row6_col9 {\n",
       "  text-align: left;\n",
       "}\n",
       "</style>\n",
       "<table id=\"T_4a68f\">\n",
       "  <caption>Статистика и гистограмма столбца \"month_to_end_contract\"</caption>\n",
       "  <thead>\n",
       "  </thead>\n",
       "  <tbody>\n",
       "    <tr>\n",
       "      <td id=\"T_4a68f_row0_col0\" class=\"data row0 col0\" >Values</td>\n",
       "      <td id=\"T_4a68f_row0_col1\" class=\"data row0 col1\" >4.00k (100%)</td>\n",
       "      <td id=\"T_4a68f_row0_col2\" class=\"data row0 col2\" >          </td>\n",
       "      <td id=\"T_4a68f_row0_col3\" class=\"data row0 col3\" >Max</td>\n",
       "      <td id=\"T_4a68f_row0_col4\" class=\"data row0 col4\" >12.00</td>\n",
       "      <td id=\"T_4a68f_row0_col5\" class=\"data row0 col5\" >          </td>\n",
       "      <td id=\"T_4a68f_row0_col6\" class=\"data row0 col6\" >Avg</td>\n",
       "      <td id=\"T_4a68f_row0_col7\" class=\"data row0 col7\" >4.32</td>\n",
       "      <td id=\"T_4a68f_row0_col8\" class=\"data row0 col8\" >          </td>\n",
       "      <td id=\"T_4a68f_row0_col9\" class=\"data row0 col9\" >1.00 (55%)</td>\n",
       "    </tr>\n",
       "    <tr>\n",
       "      <td id=\"T_4a68f_row1_col0\" class=\"data row1 col0\" >Missing</td>\n",
       "      <td id=\"T_4a68f_row1_col1\" class=\"data row1 col1\" >---</td>\n",
       "      <td id=\"T_4a68f_row1_col2\" class=\"data row1 col2\" >          </td>\n",
       "      <td id=\"T_4a68f_row1_col3\" class=\"data row1 col3\" >95%</td>\n",
       "      <td id=\"T_4a68f_row1_col4\" class=\"data row1 col4\" >12.00</td>\n",
       "      <td id=\"T_4a68f_row1_col5\" class=\"data row1 col5\" >          </td>\n",
       "      <td id=\"T_4a68f_row1_col6\" class=\"data row1 col6\" >Mode</td>\n",
       "      <td id=\"T_4a68f_row1_col7\" class=\"data row1 col7\" >1.00</td>\n",
       "      <td id=\"T_4a68f_row1_col8\" class=\"data row1 col8\" >          </td>\n",
       "      <td id=\"T_4a68f_row1_col9\" class=\"data row1 col9\" >6.00 (16%)</td>\n",
       "    </tr>\n",
       "    <tr>\n",
       "      <td id=\"T_4a68f_row2_col0\" class=\"data row2 col0\" >Distinct</td>\n",
       "      <td id=\"T_4a68f_row2_col1\" class=\"data row2 col1\" >12.00 (<1%)</td>\n",
       "      <td id=\"T_4a68f_row2_col2\" class=\"data row2 col2\" >          </td>\n",
       "      <td id=\"T_4a68f_row2_col3\" class=\"data row2 col3\" >75%</td>\n",
       "      <td id=\"T_4a68f_row2_col4\" class=\"data row2 col4\" >6.00</td>\n",
       "      <td id=\"T_4a68f_row2_col5\" class=\"data row2 col5\" >          </td>\n",
       "      <td id=\"T_4a68f_row2_col6\" class=\"data row2 col6\" >Range</td>\n",
       "      <td id=\"T_4a68f_row2_col7\" class=\"data row2 col7\" >11.00</td>\n",
       "      <td id=\"T_4a68f_row2_col8\" class=\"data row2 col8\" >          </td>\n",
       "      <td id=\"T_4a68f_row2_col9\" class=\"data row2 col9\" >12.00 (13%)</td>\n",
       "    </tr>\n",
       "    <tr>\n",
       "      <td id=\"T_4a68f_row3_col0\" class=\"data row3 col0\" >Duplicates</td>\n",
       "      <td id=\"T_4a68f_row3_col1\" class=\"data row3 col1\" >3.99k (99.7%)</td>\n",
       "      <td id=\"T_4a68f_row3_col2\" class=\"data row3 col2\" >          </td>\n",
       "      <td id=\"T_4a68f_row3_col3\" class=\"data row3 col3\" >50%</td>\n",
       "      <td id=\"T_4a68f_row3_col4\" class=\"data row3 col4\" >1.00</td>\n",
       "      <td id=\"T_4a68f_row3_col5\" class=\"data row3 col5\" >          </td>\n",
       "      <td id=\"T_4a68f_row3_col6\" class=\"data row3 col6\" >iQR</td>\n",
       "      <td id=\"T_4a68f_row3_col7\" class=\"data row3 col7\" >5.00</td>\n",
       "      <td id=\"T_4a68f_row3_col8\" class=\"data row3 col8\" >          </td>\n",
       "      <td id=\"T_4a68f_row3_col9\" class=\"data row3 col9\" >11.00 (5%)</td>\n",
       "    </tr>\n",
       "    <tr>\n",
       "      <td id=\"T_4a68f_row4_col0\" class=\"data row4 col0\" >Zeros</td>\n",
       "      <td id=\"T_4a68f_row4_col1\" class=\"data row4 col1\" >---</td>\n",
       "      <td id=\"T_4a68f_row4_col2\" class=\"data row4 col2\" >          </td>\n",
       "      <td id=\"T_4a68f_row4_col3\" class=\"data row4 col3\" >25%</td>\n",
       "      <td id=\"T_4a68f_row4_col4\" class=\"data row4 col4\" >1.00</td>\n",
       "      <td id=\"T_4a68f_row4_col5\" class=\"data row4 col5\" >          </td>\n",
       "      <td id=\"T_4a68f_row4_col6\" class=\"data row4 col6\" >std</td>\n",
       "      <td id=\"T_4a68f_row4_col7\" class=\"data row4 col7\" >4.19</td>\n",
       "      <td id=\"T_4a68f_row4_col8\" class=\"data row4 col8\" >          </td>\n",
       "      <td id=\"T_4a68f_row4_col9\" class=\"data row4 col9\" >5.00 (3%)</td>\n",
       "    </tr>\n",
       "    <tr>\n",
       "      <td id=\"T_4a68f_row5_col0\" class=\"data row5 col0\" >Negative</td>\n",
       "      <td id=\"T_4a68f_row5_col1\" class=\"data row5 col1\" >---</td>\n",
       "      <td id=\"T_4a68f_row5_col2\" class=\"data row5 col2\" >          </td>\n",
       "      <td id=\"T_4a68f_row5_col3\" class=\"data row5 col3\" >5%</td>\n",
       "      <td id=\"T_4a68f_row5_col4\" class=\"data row5 col4\" >1.00</td>\n",
       "      <td id=\"T_4a68f_row5_col5\" class=\"data row5 col5\" >          </td>\n",
       "      <td id=\"T_4a68f_row5_col6\" class=\"data row5 col6\" >kurt</td>\n",
       "      <td id=\"T_4a68f_row5_col7\" class=\"data row5 col7\" >-0.91</td>\n",
       "      <td id=\"T_4a68f_row5_col8\" class=\"data row5 col8\" >          </td>\n",
       "      <td id=\"T_4a68f_row5_col9\" class=\"data row5 col9\" >10.00 (2%)</td>\n",
       "    </tr>\n",
       "    <tr>\n",
       "      <td id=\"T_4a68f_row6_col0\" class=\"data row6 col0\" >RAM (Mb)</td>\n",
       "      <td id=\"T_4a68f_row6_col1\" class=\"data row6 col1\" ><1 Mb</td>\n",
       "      <td id=\"T_4a68f_row6_col2\" class=\"data row6 col2\" >          </td>\n",
       "      <td id=\"T_4a68f_row6_col3\" class=\"data row6 col3\" >Min</td>\n",
       "      <td id=\"T_4a68f_row6_col4\" class=\"data row6 col4\" >1.00</td>\n",
       "      <td id=\"T_4a68f_row6_col5\" class=\"data row6 col5\" >          </td>\n",
       "      <td id=\"T_4a68f_row6_col6\" class=\"data row6 col6\" >skew</td>\n",
       "      <td id=\"T_4a68f_row6_col7\" class=\"data row6 col7\" >0.81</td>\n",
       "      <td id=\"T_4a68f_row6_col8\" class=\"data row6 col8\" >          </td>\n",
       "      <td id=\"T_4a68f_row6_col9\" class=\"data row6 col9\" >9.00 (2%)</td>\n",
       "    </tr>\n",
       "  </tbody>\n",
       "</table>\n",
       "\n",
       "                <div>\n",
       "                    <img src=\"data:image/png;base64,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\" alt=\"График\"/>\n",
       "                </div>\n",
       "                      \n",
       "            </div>\n",
       "            "
      ],
      "text/plain": [
       "<IPython.core.display.HTML object>"
      ]
     },
     "metadata": {},
     "output_type": "display_data"
    }
   ],
   "source": [
    "gen.next()"
   ]
  },
  {
   "cell_type": "markdown",
   "metadata": {},
   "source": [
    "**Наблюдения:**  \n",
    "\n",
    "- У 55% клиентов остался один месяц до завершения абонента."
   ]
  },
  {
   "cell_type": "code",
   "execution_count": 9,
   "metadata": {},
   "outputs": [
    {
     "data": {
      "text/html": [
       "\n",
       "            <div style=\"display: flex; justify-content: flex-start; align-items: flex-end;\">\n",
       "                <style type=\"text/css\">\n",
       "#T_b00ea caption {\n",
       "  font-size: 16px;\n",
       "  text-align: left;\n",
       "  font-weight: bold;\n",
       "}\n",
       "#T_b00ea_row0_col0, #T_b00ea_row0_col1, #T_b00ea_row0_col2, #T_b00ea_row0_col3, #T_b00ea_row0_col4, #T_b00ea_row0_col5, #T_b00ea_row0_col6, #T_b00ea_row0_col7, #T_b00ea_row0_col8, #T_b00ea_row0_col9, #T_b00ea_row1_col0, #T_b00ea_row1_col1, #T_b00ea_row1_col2, #T_b00ea_row1_col3, #T_b00ea_row1_col4, #T_b00ea_row1_col5, #T_b00ea_row1_col6, #T_b00ea_row1_col7, #T_b00ea_row1_col8, #T_b00ea_row1_col9, #T_b00ea_row2_col0, #T_b00ea_row2_col1, #T_b00ea_row2_col2, #T_b00ea_row2_col3, #T_b00ea_row2_col4, #T_b00ea_row2_col5, #T_b00ea_row2_col6, #T_b00ea_row2_col7, #T_b00ea_row2_col8, #T_b00ea_row2_col9, #T_b00ea_row3_col0, #T_b00ea_row3_col1, #T_b00ea_row3_col2, #T_b00ea_row3_col3, #T_b00ea_row3_col4, #T_b00ea_row3_col5, #T_b00ea_row3_col6, #T_b00ea_row3_col7, #T_b00ea_row3_col8, #T_b00ea_row3_col9, #T_b00ea_row4_col0, #T_b00ea_row4_col1, #T_b00ea_row4_col2, #T_b00ea_row4_col3, #T_b00ea_row4_col4, #T_b00ea_row4_col5, #T_b00ea_row4_col6, #T_b00ea_row4_col7, #T_b00ea_row4_col8, #T_b00ea_row4_col9, #T_b00ea_row5_col0, #T_b00ea_row5_col1, #T_b00ea_row5_col2, #T_b00ea_row5_col3, #T_b00ea_row5_col4, #T_b00ea_row5_col5, #T_b00ea_row5_col6, #T_b00ea_row5_col7, #T_b00ea_row5_col8, #T_b00ea_row5_col9, #T_b00ea_row6_col0, #T_b00ea_row6_col1, #T_b00ea_row6_col2, #T_b00ea_row6_col3, #T_b00ea_row6_col4, #T_b00ea_row6_col5, #T_b00ea_row6_col6, #T_b00ea_row6_col7, #T_b00ea_row6_col8, #T_b00ea_row6_col9 {\n",
       "  text-align: left;\n",
       "}\n",
       "</style>\n",
       "<table id=\"T_b00ea\">\n",
       "  <caption>Статистика и гистограмма столбца \"lifetime\"</caption>\n",
       "  <thead>\n",
       "  </thead>\n",
       "  <tbody>\n",
       "    <tr>\n",
       "      <td id=\"T_b00ea_row0_col0\" class=\"data row0 col0\" >Values</td>\n",
       "      <td id=\"T_b00ea_row0_col1\" class=\"data row0 col1\" >4.00k (100%)</td>\n",
       "      <td id=\"T_b00ea_row0_col2\" class=\"data row0 col2\" >          </td>\n",
       "      <td id=\"T_b00ea_row0_col3\" class=\"data row0 col3\" >Max</td>\n",
       "      <td id=\"T_b00ea_row0_col4\" class=\"data row0 col4\" >31.00</td>\n",
       "      <td id=\"T_b00ea_row0_col5\" class=\"data row0 col5\" >          </td>\n",
       "      <td id=\"T_b00ea_row0_col6\" class=\"data row0 col6\" >Avg</td>\n",
       "      <td id=\"T_b00ea_row0_col7\" class=\"data row0 col7\" >3.72</td>\n",
       "      <td id=\"T_b00ea_row0_col8\" class=\"data row0 col8\" >          </td>\n",
       "      <td id=\"T_b00ea_row0_col9\" class=\"data row0 col9\" >1.00 (21%)</td>\n",
       "    </tr>\n",
       "    <tr>\n",
       "      <td id=\"T_b00ea_row1_col0\" class=\"data row1 col0\" >Missing</td>\n",
       "      <td id=\"T_b00ea_row1_col1\" class=\"data row1 col1\" >---</td>\n",
       "      <td id=\"T_b00ea_row1_col2\" class=\"data row1 col2\" >          </td>\n",
       "      <td id=\"T_b00ea_row1_col3\" class=\"data row1 col3\" >95%</td>\n",
       "      <td id=\"T_b00ea_row1_col4\" class=\"data row1 col4\" >11.00</td>\n",
       "      <td id=\"T_b00ea_row1_col5\" class=\"data row1 col5\" >          </td>\n",
       "      <td id=\"T_b00ea_row1_col6\" class=\"data row1 col6\" >Mode</td>\n",
       "      <td id=\"T_b00ea_row1_col7\" class=\"data row1 col7\" >1.00</td>\n",
       "      <td id=\"T_b00ea_row1_col8\" class=\"data row1 col8\" >          </td>\n",
       "      <td id=\"T_b00ea_row1_col9\" class=\"data row1 col9\" >2.00 (15%)</td>\n",
       "    </tr>\n",
       "    <tr>\n",
       "      <td id=\"T_b00ea_row2_col0\" class=\"data row2 col0\" >Distinct</td>\n",
       "      <td id=\"T_b00ea_row2_col1\" class=\"data row2 col1\" >29.00 (1%)</td>\n",
       "      <td id=\"T_b00ea_row2_col2\" class=\"data row2 col2\" >          </td>\n",
       "      <td id=\"T_b00ea_row2_col3\" class=\"data row2 col3\" >75%</td>\n",
       "      <td id=\"T_b00ea_row2_col4\" class=\"data row2 col4\" >5.00</td>\n",
       "      <td id=\"T_b00ea_row2_col5\" class=\"data row2 col5\" >          </td>\n",
       "      <td id=\"T_b00ea_row2_col6\" class=\"data row2 col6\" >Range</td>\n",
       "      <td id=\"T_b00ea_row2_col7\" class=\"data row2 col7\" >31.00</td>\n",
       "      <td id=\"T_b00ea_row2_col8\" class=\"data row2 col8\" >          </td>\n",
       "      <td id=\"T_b00ea_row2_col9\" class=\"data row2 col9\" >3.00 (12%)</td>\n",
       "    </tr>\n",
       "    <tr>\n",
       "      <td id=\"T_b00ea_row3_col0\" class=\"data row3 col0\" >Duplicates</td>\n",
       "      <td id=\"T_b00ea_row3_col1\" class=\"data row3 col1\" >3.97k (99.3%)</td>\n",
       "      <td id=\"T_b00ea_row3_col2\" class=\"data row3 col2\" >          </td>\n",
       "      <td id=\"T_b00ea_row3_col3\" class=\"data row3 col3\" >50%</td>\n",
       "      <td id=\"T_b00ea_row3_col4\" class=\"data row3 col4\" >3.00</td>\n",
       "      <td id=\"T_b00ea_row3_col5\" class=\"data row3 col5\" >          </td>\n",
       "      <td id=\"T_b00ea_row3_col6\" class=\"data row3 col6\" >iQR</td>\n",
       "      <td id=\"T_b00ea_row3_col7\" class=\"data row3 col7\" >4.00</td>\n",
       "      <td id=\"T_b00ea_row3_col8\" class=\"data row3 col8\" >          </td>\n",
       "      <td id=\"T_b00ea_row3_col9\" class=\"data row3 col9\" >0.00 (12%)</td>\n",
       "    </tr>\n",
       "    <tr>\n",
       "      <td id=\"T_b00ea_row4_col0\" class=\"data row4 col0\" >Zeros</td>\n",
       "      <td id=\"T_b00ea_row4_col1\" class=\"data row4 col1\" >487.00 (12%)</td>\n",
       "      <td id=\"T_b00ea_row4_col2\" class=\"data row4 col2\" >          </td>\n",
       "      <td id=\"T_b00ea_row4_col3\" class=\"data row4 col3\" >25%</td>\n",
       "      <td id=\"T_b00ea_row4_col4\" class=\"data row4 col4\" >1.00</td>\n",
       "      <td id=\"T_b00ea_row4_col5\" class=\"data row4 col5\" >          </td>\n",
       "      <td id=\"T_b00ea_row4_col6\" class=\"data row4 col6\" >std</td>\n",
       "      <td id=\"T_b00ea_row4_col7\" class=\"data row4 col7\" >3.75</td>\n",
       "      <td id=\"T_b00ea_row4_col8\" class=\"data row4 col8\" >          </td>\n",
       "      <td id=\"T_b00ea_row4_col9\" class=\"data row4 col9\" >4.00 (10%)</td>\n",
       "    </tr>\n",
       "    <tr>\n",
       "      <td id=\"T_b00ea_row5_col0\" class=\"data row5 col0\" >Negative</td>\n",
       "      <td id=\"T_b00ea_row5_col1\" class=\"data row5 col1\" >---</td>\n",
       "      <td id=\"T_b00ea_row5_col2\" class=\"data row5 col2\" >          </td>\n",
       "      <td id=\"T_b00ea_row5_col3\" class=\"data row5 col3\" >5%</td>\n",
       "      <td id=\"T_b00ea_row5_col4\" class=\"data row5 col4\" >0.00</td>\n",
       "      <td id=\"T_b00ea_row5_col5\" class=\"data row5 col5\" >          </td>\n",
       "      <td id=\"T_b00ea_row5_col6\" class=\"data row5 col6\" >kurt</td>\n",
       "      <td id=\"T_b00ea_row5_col7\" class=\"data row5 col7\" >5.27</td>\n",
       "      <td id=\"T_b00ea_row5_col8\" class=\"data row5 col8\" >          </td>\n",
       "      <td id=\"T_b00ea_row5_col9\" class=\"data row5 col9\" >5.00 (7%)</td>\n",
       "    </tr>\n",
       "    <tr>\n",
       "      <td id=\"T_b00ea_row6_col0\" class=\"data row6 col0\" >RAM (Mb)</td>\n",
       "      <td id=\"T_b00ea_row6_col1\" class=\"data row6 col1\" ><1 Mb</td>\n",
       "      <td id=\"T_b00ea_row6_col2\" class=\"data row6 col2\" >          </td>\n",
       "      <td id=\"T_b00ea_row6_col3\" class=\"data row6 col3\" >Min</td>\n",
       "      <td id=\"T_b00ea_row6_col4\" class=\"data row6 col4\" >0.00</td>\n",
       "      <td id=\"T_b00ea_row6_col5\" class=\"data row6 col5\" >          </td>\n",
       "      <td id=\"T_b00ea_row6_col6\" class=\"data row6 col6\" >skew</td>\n",
       "      <td id=\"T_b00ea_row6_col7\" class=\"data row6 col7\" >1.93</td>\n",
       "      <td id=\"T_b00ea_row6_col8\" class=\"data row6 col8\" >          </td>\n",
       "      <td id=\"T_b00ea_row6_col9\" class=\"data row6 col9\" >6.00 (6%)</td>\n",
       "    </tr>\n",
       "  </tbody>\n",
       "</table>\n",
       "\n",
       "                <div>\n",
       "                    <img src=\"data:image/png;base64,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\" alt=\"График\"/>\n",
       "                </div>\n",
       "                      \n",
       "            </div>\n",
       "            "
      ],
      "text/plain": [
       "<IPython.core.display.HTML object>"
      ]
     },
     "metadata": {},
     "output_type": "display_data"
    }
   ],
   "source": [
    "gen.next()"
   ]
  },
  {
   "cell_type": "markdown",
   "metadata": {},
   "source": [
    "**Наблюдения:**  \n",
    "\n",
    "- Время с первого обращения лежит в диапазоне от 0 до 31 месяца.\n",
    "- В основном, время с первого обращения варьируется от 0 до 5 месяцев.\n",
    "- Больше всего клиентов, которые первый раз пришли в фитнес-центр месяц назад (21%)."
   ]
  },
  {
   "cell_type": "code",
   "execution_count": 10,
   "metadata": {},
   "outputs": [
    {
     "data": {
      "text/html": [
       "\n",
       "            <div style=\"display: flex; justify-content: flex-start; align-items: flex-end;\">\n",
       "                <style type=\"text/css\">\n",
       "#T_cd721 caption {\n",
       "  font-size: 16px;\n",
       "  text-align: left;\n",
       "  font-weight: bold;\n",
       "}\n",
       "#T_cd721_row0_col0, #T_cd721_row0_col1, #T_cd721_row0_col2, #T_cd721_row0_col3, #T_cd721_row0_col4, #T_cd721_row0_col5, #T_cd721_row0_col6, #T_cd721_row0_col7, #T_cd721_row0_col8, #T_cd721_row0_col9, #T_cd721_row1_col0, #T_cd721_row1_col1, #T_cd721_row1_col2, #T_cd721_row1_col3, #T_cd721_row1_col4, #T_cd721_row1_col5, #T_cd721_row1_col6, #T_cd721_row1_col7, #T_cd721_row1_col8, #T_cd721_row1_col9, #T_cd721_row2_col0, #T_cd721_row2_col1, #T_cd721_row2_col2, #T_cd721_row2_col3, #T_cd721_row2_col4, #T_cd721_row2_col5, #T_cd721_row2_col6, #T_cd721_row2_col7, #T_cd721_row2_col8, #T_cd721_row2_col9, #T_cd721_row3_col0, #T_cd721_row3_col1, #T_cd721_row3_col2, #T_cd721_row3_col3, #T_cd721_row3_col4, #T_cd721_row3_col5, #T_cd721_row3_col6, #T_cd721_row3_col7, #T_cd721_row3_col8, #T_cd721_row3_col9, #T_cd721_row4_col0, #T_cd721_row4_col1, #T_cd721_row4_col2, #T_cd721_row4_col3, #T_cd721_row4_col4, #T_cd721_row4_col5, #T_cd721_row4_col6, #T_cd721_row4_col7, #T_cd721_row4_col8, #T_cd721_row4_col9, #T_cd721_row5_col0, #T_cd721_row5_col1, #T_cd721_row5_col2, #T_cd721_row5_col3, #T_cd721_row5_col4, #T_cd721_row5_col5, #T_cd721_row5_col6, #T_cd721_row5_col7, #T_cd721_row5_col8, #T_cd721_row5_col9, #T_cd721_row6_col0, #T_cd721_row6_col1, #T_cd721_row6_col2, #T_cd721_row6_col3, #T_cd721_row6_col4, #T_cd721_row6_col5, #T_cd721_row6_col6, #T_cd721_row6_col7, #T_cd721_row6_col8, #T_cd721_row6_col9 {\n",
       "  text-align: left;\n",
       "}\n",
       "</style>\n",
       "<table id=\"T_cd721\">\n",
       "  <caption>Статистика и гистограмма столбца \"avg_class_frequency_total\"</caption>\n",
       "  <thead>\n",
       "  </thead>\n",
       "  <tbody>\n",
       "    <tr>\n",
       "      <td id=\"T_cd721_row0_col0\" class=\"data row0 col0\" >Values</td>\n",
       "      <td id=\"T_cd721_row0_col1\" class=\"data row0 col1\" >4.00k (100%)</td>\n",
       "      <td id=\"T_cd721_row0_col2\" class=\"data row0 col2\" >          </td>\n",
       "      <td id=\"T_cd721_row0_col3\" class=\"data row0 col3\" >Max</td>\n",
       "      <td id=\"T_cd721_row0_col4\" class=\"data row0 col4\" >6.02</td>\n",
       "      <td id=\"T_cd721_row0_col5\" class=\"data row0 col5\" >          </td>\n",
       "      <td id=\"T_cd721_row0_col6\" class=\"data row0 col6\" >Avg</td>\n",
       "      <td id=\"T_cd721_row0_col7\" class=\"data row0 col7\" >1.88</td>\n",
       "      <td id=\"T_cd721_row0_col8\" class=\"data row0 col8\" >          </td>\n",
       "      <td id=\"T_cd721_row0_col9\" class=\"data row0 col9\" >0.00 (2%)</td>\n",
       "    </tr>\n",
       "    <tr>\n",
       "      <td id=\"T_cd721_row1_col0\" class=\"data row1 col0\" >Missing</td>\n",
       "      <td id=\"T_cd721_row1_col1\" class=\"data row1 col1\" >---</td>\n",
       "      <td id=\"T_cd721_row1_col2\" class=\"data row1 col2\" >          </td>\n",
       "      <td id=\"T_cd721_row1_col3\" class=\"data row1 col3\" >95%</td>\n",
       "      <td id=\"T_cd721_row1_col4\" class=\"data row1 col4\" >3.54</td>\n",
       "      <td id=\"T_cd721_row1_col5\" class=\"data row1 col5\" >          </td>\n",
       "      <td id=\"T_cd721_row1_col6\" class=\"data row1 col6\" >Mode</td>\n",
       "      <td id=\"T_cd721_row1_col7\" class=\"data row1 col7\" >0.00</td>\n",
       "      <td id=\"T_cd721_row1_col8\" class=\"data row1 col8\" >          </td>\n",
       "      <td id=\"T_cd721_row1_col9\" class=\"data row1 col9\" >0.02 <1%</td>\n",
       "    </tr>\n",
       "    <tr>\n",
       "      <td id=\"T_cd721_row2_col0\" class=\"data row2 col0\" >Distinct</td>\n",
       "      <td id=\"T_cd721_row2_col1\" class=\"data row2 col1\" >3.91k (98%)</td>\n",
       "      <td id=\"T_cd721_row2_col2\" class=\"data row2 col2\" >          </td>\n",
       "      <td id=\"T_cd721_row2_col3\" class=\"data row2 col3\" >75%</td>\n",
       "      <td id=\"T_cd721_row2_col4\" class=\"data row2 col4\" >2.54</td>\n",
       "      <td id=\"T_cd721_row2_col5\" class=\"data row2 col5\" >          </td>\n",
       "      <td id=\"T_cd721_row2_col6\" class=\"data row2 col6\" >Range</td>\n",
       "      <td id=\"T_cd721_row2_col7\" class=\"data row2 col7\" >6.02</td>\n",
       "      <td id=\"T_cd721_row2_col8\" class=\"data row2 col8\" >          </td>\n",
       "      <td id=\"T_cd721_row2_col9\" class=\"data row2 col9\" >2.18 <1%</td>\n",
       "    </tr>\n",
       "    <tr>\n",
       "      <td id=\"T_cd721_row3_col0\" class=\"data row3 col0\" >Duplicates</td>\n",
       "      <td id=\"T_cd721_row3_col1\" class=\"data row3 col1\" >87.00 (2%)</td>\n",
       "      <td id=\"T_cd721_row3_col2\" class=\"data row3 col2\" >          </td>\n",
       "      <td id=\"T_cd721_row3_col3\" class=\"data row3 col3\" >50%</td>\n",
       "      <td id=\"T_cd721_row3_col4\" class=\"data row3 col4\" >1.83</td>\n",
       "      <td id=\"T_cd721_row3_col5\" class=\"data row3 col5\" >          </td>\n",
       "      <td id=\"T_cd721_row3_col6\" class=\"data row3 col6\" >iQR</td>\n",
       "      <td id=\"T_cd721_row3_col7\" class=\"data row3 col7\" >1.36</td>\n",
       "      <td id=\"T_cd721_row3_col8\" class=\"data row3 col8\" >          </td>\n",
       "      <td id=\"T_cd721_row3_col9\" class=\"data row3 col9\" >1.98 <1%</td>\n",
       "    </tr>\n",
       "    <tr>\n",
       "      <td id=\"T_cd721_row4_col0\" class=\"data row4 col0\" >Zeros</td>\n",
       "      <td id=\"T_cd721_row4_col1\" class=\"data row4 col1\" >88.00 (2%)</td>\n",
       "      <td id=\"T_cd721_row4_col2\" class=\"data row4 col2\" >          </td>\n",
       "      <td id=\"T_cd721_row4_col3\" class=\"data row4 col3\" >25%</td>\n",
       "      <td id=\"T_cd721_row4_col4\" class=\"data row4 col4\" >1.18</td>\n",
       "      <td id=\"T_cd721_row4_col5\" class=\"data row4 col5\" >          </td>\n",
       "      <td id=\"T_cd721_row4_col6\" class=\"data row4 col6\" >std</td>\n",
       "      <td id=\"T_cd721_row4_col7\" class=\"data row4 col7\" >0.97</td>\n",
       "      <td id=\"T_cd721_row4_col8\" class=\"data row4 col8\" >          </td>\n",
       "      <td id=\"T_cd721_row4_col9\" class=\"data row4 col9\" >1.67 <1%</td>\n",
       "    </tr>\n",
       "    <tr>\n",
       "      <td id=\"T_cd721_row5_col0\" class=\"data row5 col0\" >Negative</td>\n",
       "      <td id=\"T_cd721_row5_col1\" class=\"data row5 col1\" >---</td>\n",
       "      <td id=\"T_cd721_row5_col2\" class=\"data row5 col2\" >          </td>\n",
       "      <td id=\"T_cd721_row5_col3\" class=\"data row5 col3\" >5%</td>\n",
       "      <td id=\"T_cd721_row5_col4\" class=\"data row5 col4\" >0.29</td>\n",
       "      <td id=\"T_cd721_row5_col5\" class=\"data row5 col5\" >          </td>\n",
       "      <td id=\"T_cd721_row5_col6\" class=\"data row5 col6\" >kurt</td>\n",
       "      <td id=\"T_cd721_row5_col7\" class=\"data row5 col7\" >-0.22</td>\n",
       "      <td id=\"T_cd721_row5_col8\" class=\"data row5 col8\" >          </td>\n",
       "      <td id=\"T_cd721_row5_col9\" class=\"data row5 col9\" >0.77 <1%</td>\n",
       "    </tr>\n",
       "    <tr>\n",
       "      <td id=\"T_cd721_row6_col0\" class=\"data row6 col0\" >RAM (Mb)</td>\n",
       "      <td id=\"T_cd721_row6_col1\" class=\"data row6 col1\" ><1 Mb</td>\n",
       "      <td id=\"T_cd721_row6_col2\" class=\"data row6 col2\" >          </td>\n",
       "      <td id=\"T_cd721_row6_col3\" class=\"data row6 col3\" >Min</td>\n",
       "      <td id=\"T_cd721_row6_col4\" class=\"data row6 col4\" >0.00</td>\n",
       "      <td id=\"T_cd721_row6_col5\" class=\"data row6 col5\" >          </td>\n",
       "      <td id=\"T_cd721_row6_col6\" class=\"data row6 col6\" >skew</td>\n",
       "      <td id=\"T_cd721_row6_col7\" class=\"data row6 col7\" >0.25</td>\n",
       "      <td id=\"T_cd721_row6_col8\" class=\"data row6 col8\" >          </td>\n",
       "      <td id=\"T_cd721_row6_col9\" class=\"data row6 col9\" >3.69 <1%</td>\n",
       "    </tr>\n",
       "  </tbody>\n",
       "</table>\n",
       "\n",
       "                <div>\n",
       "                    <img src=\"data:image/png;base64,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\" alt=\"График\"/>\n",
       "                </div>\n",
       "                      \n",
       "            </div>\n",
       "            "
      ],
      "text/plain": [
       "<IPython.core.display.HTML object>"
      ]
     },
     "metadata": {},
     "output_type": "display_data"
    }
   ],
   "source": [
    "gen.next()"
   ]
  },
  {
   "cell_type": "markdown",
   "metadata": {},
   "source": [
    "**Наблюдения:**  \n",
    "\n",
    "- Среднее за все время число посещений в неделю лежит в диапазоне от 0 до 6.02.\n",
    "- В основном, Среднее за все время число посещений в неделю варьируется от 1.18 до 2.54.\n",
    "- 88 (2%) клиентов не посещали фитнес-центр ни разу."
   ]
  },
  {
   "cell_type": "code",
   "execution_count": 11,
   "metadata": {},
   "outputs": [
    {
     "data": {
      "text/html": [
       "\n",
       "            <div style=\"display: flex; justify-content: flex-start; align-items: flex-end;\">\n",
       "                <style type=\"text/css\">\n",
       "#T_e4d35 caption {\n",
       "  font-size: 16px;\n",
       "  text-align: left;\n",
       "  font-weight: bold;\n",
       "}\n",
       "#T_e4d35_row0_col0, #T_e4d35_row0_col1, #T_e4d35_row0_col2, #T_e4d35_row0_col3, #T_e4d35_row0_col4, #T_e4d35_row0_col5, #T_e4d35_row0_col6, #T_e4d35_row0_col7, #T_e4d35_row0_col8, #T_e4d35_row0_col9, #T_e4d35_row1_col0, #T_e4d35_row1_col1, #T_e4d35_row1_col2, #T_e4d35_row1_col3, #T_e4d35_row1_col4, #T_e4d35_row1_col5, #T_e4d35_row1_col6, #T_e4d35_row1_col7, #T_e4d35_row1_col8, #T_e4d35_row1_col9, #T_e4d35_row2_col0, #T_e4d35_row2_col1, #T_e4d35_row2_col2, #T_e4d35_row2_col3, #T_e4d35_row2_col4, #T_e4d35_row2_col5, #T_e4d35_row2_col6, #T_e4d35_row2_col7, #T_e4d35_row2_col8, #T_e4d35_row2_col9, #T_e4d35_row3_col0, #T_e4d35_row3_col1, #T_e4d35_row3_col2, #T_e4d35_row3_col3, #T_e4d35_row3_col4, #T_e4d35_row3_col5, #T_e4d35_row3_col6, #T_e4d35_row3_col7, #T_e4d35_row3_col8, #T_e4d35_row3_col9, #T_e4d35_row4_col0, #T_e4d35_row4_col1, #T_e4d35_row4_col2, #T_e4d35_row4_col3, #T_e4d35_row4_col4, #T_e4d35_row4_col5, #T_e4d35_row4_col6, #T_e4d35_row4_col7, #T_e4d35_row4_col8, #T_e4d35_row4_col9, #T_e4d35_row5_col0, #T_e4d35_row5_col1, #T_e4d35_row5_col2, #T_e4d35_row5_col3, #T_e4d35_row5_col4, #T_e4d35_row5_col5, #T_e4d35_row5_col6, #T_e4d35_row5_col7, #T_e4d35_row5_col8, #T_e4d35_row5_col9, #T_e4d35_row6_col0, #T_e4d35_row6_col1, #T_e4d35_row6_col2, #T_e4d35_row6_col3, #T_e4d35_row6_col4, #T_e4d35_row6_col5, #T_e4d35_row6_col6, #T_e4d35_row6_col7, #T_e4d35_row6_col8, #T_e4d35_row6_col9 {\n",
       "  text-align: left;\n",
       "}\n",
       "</style>\n",
       "<table id=\"T_e4d35\">\n",
       "  <caption>Статистика и гистограмма столбца \"avg_class_frequency_current_month\"</caption>\n",
       "  <thead>\n",
       "  </thead>\n",
       "  <tbody>\n",
       "    <tr>\n",
       "      <td id=\"T_e4d35_row0_col0\" class=\"data row0 col0\" >Values</td>\n",
       "      <td id=\"T_e4d35_row0_col1\" class=\"data row0 col1\" >4.00k (100%)</td>\n",
       "      <td id=\"T_e4d35_row0_col2\" class=\"data row0 col2\" >          </td>\n",
       "      <td id=\"T_e4d35_row0_col3\" class=\"data row0 col3\" >Max</td>\n",
       "      <td id=\"T_e4d35_row0_col4\" class=\"data row0 col4\" >6.15</td>\n",
       "      <td id=\"T_e4d35_row0_col5\" class=\"data row0 col5\" >          </td>\n",
       "      <td id=\"T_e4d35_row0_col6\" class=\"data row0 col6\" >Avg</td>\n",
       "      <td id=\"T_e4d35_row0_col7\" class=\"data row0 col7\" >1.77</td>\n",
       "      <td id=\"T_e4d35_row0_col8\" class=\"data row0 col8\" >          </td>\n",
       "      <td id=\"T_e4d35_row0_col9\" class=\"data row0 col9\" >0.00 (5%)</td>\n",
       "    </tr>\n",
       "    <tr>\n",
       "      <td id=\"T_e4d35_row1_col0\" class=\"data row1 col0\" >Missing</td>\n",
       "      <td id=\"T_e4d35_row1_col1\" class=\"data row1 col1\" >---</td>\n",
       "      <td id=\"T_e4d35_row1_col2\" class=\"data row1 col2\" >          </td>\n",
       "      <td id=\"T_e4d35_row1_col3\" class=\"data row1 col3\" >95%</td>\n",
       "      <td id=\"T_e4d35_row1_col4\" class=\"data row1 col4\" >3.55</td>\n",
       "      <td id=\"T_e4d35_row1_col5\" class=\"data row1 col5\" >          </td>\n",
       "      <td id=\"T_e4d35_row1_col6\" class=\"data row1 col6\" >Mode</td>\n",
       "      <td id=\"T_e4d35_row1_col7\" class=\"data row1 col7\" >0.00</td>\n",
       "      <td id=\"T_e4d35_row1_col8\" class=\"data row1 col8\" >          </td>\n",
       "      <td id=\"T_e4d35_row1_col9\" class=\"data row1 col9\" >1.33 <1%</td>\n",
       "    </tr>\n",
       "    <tr>\n",
       "      <td id=\"T_e4d35_row2_col0\" class=\"data row2 col0\" >Distinct</td>\n",
       "      <td id=\"T_e4d35_row2_col1\" class=\"data row2 col1\" >3.82k (96%)</td>\n",
       "      <td id=\"T_e4d35_row2_col2\" class=\"data row2 col2\" >          </td>\n",
       "      <td id=\"T_e4d35_row2_col3\" class=\"data row2 col3\" >75%</td>\n",
       "      <td id=\"T_e4d35_row2_col4\" class=\"data row2 col4\" >2.51</td>\n",
       "      <td id=\"T_e4d35_row2_col5\" class=\"data row2 col5\" >          </td>\n",
       "      <td id=\"T_e4d35_row2_col6\" class=\"data row2 col6\" >Range</td>\n",
       "      <td id=\"T_e4d35_row2_col7\" class=\"data row2 col7\" >6.15</td>\n",
       "      <td id=\"T_e4d35_row2_col8\" class=\"data row2 col8\" >          </td>\n",
       "      <td id=\"T_e4d35_row2_col9\" class=\"data row2 col9\" >2.63 <1%</td>\n",
       "    </tr>\n",
       "    <tr>\n",
       "      <td id=\"T_e4d35_row3_col0\" class=\"data row3 col0\" >Duplicates</td>\n",
       "      <td id=\"T_e4d35_row3_col1\" class=\"data row3 col1\" >180.00 (4%)</td>\n",
       "      <td id=\"T_e4d35_row3_col2\" class=\"data row3 col2\" >          </td>\n",
       "      <td id=\"T_e4d35_row3_col3\" class=\"data row3 col3\" >50%</td>\n",
       "      <td id=\"T_e4d35_row3_col4\" class=\"data row3 col4\" >1.72</td>\n",
       "      <td id=\"T_e4d35_row3_col5\" class=\"data row3 col5\" >          </td>\n",
       "      <td id=\"T_e4d35_row3_col6\" class=\"data row3 col6\" >iQR</td>\n",
       "      <td id=\"T_e4d35_row3_col7\" class=\"data row3 col7\" >1.55</td>\n",
       "      <td id=\"T_e4d35_row3_col8\" class=\"data row3 col8\" >          </td>\n",
       "      <td id=\"T_e4d35_row3_col9\" class=\"data row3 col9\" >1.80 <1%</td>\n",
       "    </tr>\n",
       "    <tr>\n",
       "      <td id=\"T_e4d35_row4_col0\" class=\"data row4 col0\" >Zeros</td>\n",
       "      <td id=\"T_e4d35_row4_col1\" class=\"data row4 col1\" >181.00 (5%)</td>\n",
       "      <td id=\"T_e4d35_row4_col2\" class=\"data row4 col2\" >          </td>\n",
       "      <td id=\"T_e4d35_row4_col3\" class=\"data row4 col3\" >25%</td>\n",
       "      <td id=\"T_e4d35_row4_col4\" class=\"data row4 col4\" >0.96</td>\n",
       "      <td id=\"T_e4d35_row4_col5\" class=\"data row4 col5\" >          </td>\n",
       "      <td id=\"T_e4d35_row4_col6\" class=\"data row4 col6\" >std</td>\n",
       "      <td id=\"T_e4d35_row4_col7\" class=\"data row4 col7\" >1.05</td>\n",
       "      <td id=\"T_e4d35_row4_col8\" class=\"data row4 col8\" >          </td>\n",
       "      <td id=\"T_e4d35_row4_col9\" class=\"data row4 col9\" >1.52 <1%</td>\n",
       "    </tr>\n",
       "    <tr>\n",
       "      <td id=\"T_e4d35_row5_col0\" class=\"data row5 col0\" >Negative</td>\n",
       "      <td id=\"T_e4d35_row5_col1\" class=\"data row5 col1\" >---</td>\n",
       "      <td id=\"T_e4d35_row5_col2\" class=\"data row5 col2\" >          </td>\n",
       "      <td id=\"T_e4d35_row5_col3\" class=\"data row5 col3\" >5%</td>\n",
       "      <td id=\"T_e4d35_row5_col4\" class=\"data row5 col4\" >0.03</td>\n",
       "      <td id=\"T_e4d35_row5_col5\" class=\"data row5 col5\" >          </td>\n",
       "      <td id=\"T_e4d35_row5_col6\" class=\"data row5 col6\" >kurt</td>\n",
       "      <td id=\"T_e4d35_row5_col7\" class=\"data row5 col7\" >-0.47</td>\n",
       "      <td id=\"T_e4d35_row5_col8\" class=\"data row5 col8\" >          </td>\n",
       "      <td id=\"T_e4d35_row5_col9\" class=\"data row5 col9\" >1.31 <1%</td>\n",
       "    </tr>\n",
       "    <tr>\n",
       "      <td id=\"T_e4d35_row6_col0\" class=\"data row6 col0\" >RAM (Mb)</td>\n",
       "      <td id=\"T_e4d35_row6_col1\" class=\"data row6 col1\" ><1 Mb</td>\n",
       "      <td id=\"T_e4d35_row6_col2\" class=\"data row6 col2\" >          </td>\n",
       "      <td id=\"T_e4d35_row6_col3\" class=\"data row6 col3\" >Min</td>\n",
       "      <td id=\"T_e4d35_row6_col4\" class=\"data row6 col4\" >0.00</td>\n",
       "      <td id=\"T_e4d35_row6_col5\" class=\"data row6 col5\" >          </td>\n",
       "      <td id=\"T_e4d35_row6_col6\" class=\"data row6 col6\" >skew</td>\n",
       "      <td id=\"T_e4d35_row6_col7\" class=\"data row6 col7\" >0.26</td>\n",
       "      <td id=\"T_e4d35_row6_col8\" class=\"data row6 col8\" >          </td>\n",
       "      <td id=\"T_e4d35_row6_col9\" class=\"data row6 col9\" >2.14 <1%</td>\n",
       "    </tr>\n",
       "  </tbody>\n",
       "</table>\n",
       "\n",
       "                <div>\n",
       "                    <img src=\"data:image/png;base64,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\" alt=\"График\"/>\n",
       "                </div>\n",
       "                      \n",
       "            </div>\n",
       "            "
      ],
      "text/plain": [
       "<IPython.core.display.HTML object>"
      ]
     },
     "metadata": {},
     "output_type": "display_data"
    }
   ],
   "source": [
    "gen.next()"
   ]
  },
  {
   "cell_type": "markdown",
   "metadata": {},
   "source": [
    "**Наблюдения:**  \n",
    "\n",
    "- Среднее за последний время число посещений в неделю лежит в диапазоне от 0 до 6.15.\n",
    "- В основном, Среднее за все время число посещений в неделю варьируется от 0.96 до 2.51.\n",
    "- 181 (5%) клиентов не посещали фитнес-центр ни разу в этом месяце. Странно, так как это число больше, чем число клиентов, которые вообще не посещали ни разу."
   ]
  },
  {
   "cell_type": "code",
   "execution_count": 12,
   "metadata": {},
   "outputs": [
    {
     "data": {
      "text/html": [
       "\n",
       "            <div style=\"display: flex; justify-content: flex-start; align-items: flex-end;\">\n",
       "                <style type=\"text/css\">\n",
       "#T_b48ec caption {\n",
       "  font-size: 16px;\n",
       "  text-align: left;\n",
       "  font-weight: bold;\n",
       "}\n",
       "#T_b48ec th {\n",
       "  min-width: 100px;\n",
       "}\n",
       "#T_b48ec  td {\n",
       "  min-width: 100px;\n",
       "}\n",
       "#T_b48ec_row0_col0, #T_b48ec_row0_col1, #T_b48ec_row0_col2, #T_b48ec_row0_col3, #T_b48ec_row1_col0, #T_b48ec_row1_col1, #T_b48ec_row1_col2, #T_b48ec_row1_col3, #T_b48ec_row2_col0, #T_b48ec_row2_col1, #T_b48ec_row2_col2, #T_b48ec_row2_col3, #T_b48ec_row3_col0, #T_b48ec_row3_col1, #T_b48ec_row3_col2, #T_b48ec_row3_col3, #T_b48ec_row4_col0, #T_b48ec_row4_col1, #T_b48ec_row4_col2, #T_b48ec_row4_col3, #T_b48ec_row5_col0, #T_b48ec_row5_col1, #T_b48ec_row5_col2, #T_b48ec_row5_col3, #T_b48ec_row6_col0, #T_b48ec_row6_col1, #T_b48ec_row6_col2, #T_b48ec_row6_col3 {\n",
       "  text-align: left;\n",
       "}\n",
       "</style>\n",
       "<table id=\"T_b48ec\">\n",
       "  <caption>Статистика и топ-10 значений столбца \"gender\"</caption>\n",
       "  <thead>\n",
       "  </thead>\n",
       "  <tbody>\n",
       "    <tr>\n",
       "      <td id=\"T_b48ec_row0_col0\" class=\"data row0 col0\" >Values</td>\n",
       "      <td id=\"T_b48ec_row0_col1\" class=\"data row0 col1\" >4.00k (100%)</td>\n",
       "      <td id=\"T_b48ec_row0_col2\" class=\"data row0 col2\" >          </td>\n",
       "      <td id=\"T_b48ec_row0_col3\" class=\"data row0 col3\" >1 (51%)</td>\n",
       "    </tr>\n",
       "    <tr>\n",
       "      <td id=\"T_b48ec_row1_col0\" class=\"data row1 col0\" >Missing</td>\n",
       "      <td id=\"T_b48ec_row1_col1\" class=\"data row1 col1\" >---</td>\n",
       "      <td id=\"T_b48ec_row1_col2\" class=\"data row1 col2\" >          </td>\n",
       "      <td id=\"T_b48ec_row1_col3\" class=\"data row1 col3\" >0 (49%)</td>\n",
       "    </tr>\n",
       "    <tr>\n",
       "      <td id=\"T_b48ec_row2_col0\" class=\"data row2 col0\" >Distinct</td>\n",
       "      <td id=\"T_b48ec_row2_col1\" class=\"data row2 col1\" >2.00 (<1%)</td>\n",
       "      <td id=\"T_b48ec_row2_col2\" class=\"data row2 col2\" >          </td>\n",
       "      <td id=\"T_b48ec_row2_col3\" class=\"data row2 col3\" ></td>\n",
       "    </tr>\n",
       "    <tr>\n",
       "      <td id=\"T_b48ec_row3_col0\" class=\"data row3 col0\" >Duplicated origin</td>\n",
       "      <td id=\"T_b48ec_row3_col1\" class=\"data row3 col1\" >4.00k (99.9%)</td>\n",
       "      <td id=\"T_b48ec_row3_col2\" class=\"data row3 col2\" >          </td>\n",
       "      <td id=\"T_b48ec_row3_col3\" class=\"data row3 col3\" ></td>\n",
       "    </tr>\n",
       "    <tr>\n",
       "      <td id=\"T_b48ec_row4_col0\" class=\"data row4 col0\" >Dupl (modify - origin)</td>\n",
       "      <td id=\"T_b48ec_row4_col1\" class=\"data row4 col1\" >---</td>\n",
       "      <td id=\"T_b48ec_row4_col2\" class=\"data row4 col2\" >          </td>\n",
       "      <td id=\"T_b48ec_row4_col3\" class=\"data row4 col3\" ></td>\n",
       "    </tr>\n",
       "    <tr>\n",
       "      <td id=\"T_b48ec_row5_col0\" class=\"data row5 col0\" >Empty</td>\n",
       "      <td id=\"T_b48ec_row5_col1\" class=\"data row5 col1\" >---</td>\n",
       "      <td id=\"T_b48ec_row5_col2\" class=\"data row5 col2\" >          </td>\n",
       "      <td id=\"T_b48ec_row5_col3\" class=\"data row5 col3\" ></td>\n",
       "    </tr>\n",
       "    <tr>\n",
       "      <td id=\"T_b48ec_row6_col0\" class=\"data row6 col0\" >RAM (Mb)</td>\n",
       "      <td id=\"T_b48ec_row6_col1\" class=\"data row6 col1\" ><1 Mb</td>\n",
       "      <td id=\"T_b48ec_row6_col2\" class=\"data row6 col2\" >          </td>\n",
       "      <td id=\"T_b48ec_row6_col3\" class=\"data row6 col3\" ></td>\n",
       "    </tr>\n",
       "  </tbody>\n",
       "</table>\n",
       "\n",
       "                <div>\n",
       "                    <img src=\"data:image/png;base64,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\" alt=\"График\"/>\n",
       "                </div>\n",
       "                      \n",
       "            </div>\n",
       "            "
      ],
      "text/plain": [
       "<IPython.core.display.HTML object>"
      ]
     },
     "metadata": {},
     "output_type": "display_data"
    }
   ],
   "source": [
    "gen.next()"
   ]
  },
  {
   "cell_type": "markdown",
   "metadata": {},
   "source": [
    "**Наблюдения:**  \n",
    "\n",
    "- Пол распределен примерно поровну (51% на 49%)\n"
   ]
  },
  {
   "cell_type": "code",
   "execution_count": 13,
   "metadata": {},
   "outputs": [
    {
     "data": {
      "text/html": [
       "\n",
       "            <div style=\"display: flex; justify-content: flex-start; align-items: flex-end;\">\n",
       "                <style type=\"text/css\">\n",
       "#T_5e1db caption {\n",
       "  font-size: 16px;\n",
       "  text-align: left;\n",
       "  font-weight: bold;\n",
       "}\n",
       "#T_5e1db th {\n",
       "  min-width: 100px;\n",
       "}\n",
       "#T_5e1db  td {\n",
       "  min-width: 100px;\n",
       "}\n",
       "#T_5e1db_row0_col0, #T_5e1db_row0_col1, #T_5e1db_row0_col2, #T_5e1db_row0_col3, #T_5e1db_row1_col0, #T_5e1db_row1_col1, #T_5e1db_row1_col2, #T_5e1db_row1_col3, #T_5e1db_row2_col0, #T_5e1db_row2_col1, #T_5e1db_row2_col2, #T_5e1db_row2_col3, #T_5e1db_row3_col0, #T_5e1db_row3_col1, #T_5e1db_row3_col2, #T_5e1db_row3_col3, #T_5e1db_row4_col0, #T_5e1db_row4_col1, #T_5e1db_row4_col2, #T_5e1db_row4_col3, #T_5e1db_row5_col0, #T_5e1db_row5_col1, #T_5e1db_row5_col2, #T_5e1db_row5_col3, #T_5e1db_row6_col0, #T_5e1db_row6_col1, #T_5e1db_row6_col2, #T_5e1db_row6_col3 {\n",
       "  text-align: left;\n",
       "}\n",
       "</style>\n",
       "<table id=\"T_5e1db\">\n",
       "  <caption>Статистика и топ-10 значений столбца \"near_location\"</caption>\n",
       "  <thead>\n",
       "  </thead>\n",
       "  <tbody>\n",
       "    <tr>\n",
       "      <td id=\"T_5e1db_row0_col0\" class=\"data row0 col0\" >Values</td>\n",
       "      <td id=\"T_5e1db_row0_col1\" class=\"data row0 col1\" >4.00k (100%)</td>\n",
       "      <td id=\"T_5e1db_row0_col2\" class=\"data row0 col2\" >          </td>\n",
       "      <td id=\"T_5e1db_row0_col3\" class=\"data row0 col3\" >1 (85%)</td>\n",
       "    </tr>\n",
       "    <tr>\n",
       "      <td id=\"T_5e1db_row1_col0\" class=\"data row1 col0\" >Missing</td>\n",
       "      <td id=\"T_5e1db_row1_col1\" class=\"data row1 col1\" >---</td>\n",
       "      <td id=\"T_5e1db_row1_col2\" class=\"data row1 col2\" >          </td>\n",
       "      <td id=\"T_5e1db_row1_col3\" class=\"data row1 col3\" >0 (15%)</td>\n",
       "    </tr>\n",
       "    <tr>\n",
       "      <td id=\"T_5e1db_row2_col0\" class=\"data row2 col0\" >Distinct</td>\n",
       "      <td id=\"T_5e1db_row2_col1\" class=\"data row2 col1\" >2.00 (<1%)</td>\n",
       "      <td id=\"T_5e1db_row2_col2\" class=\"data row2 col2\" >          </td>\n",
       "      <td id=\"T_5e1db_row2_col3\" class=\"data row2 col3\" ></td>\n",
       "    </tr>\n",
       "    <tr>\n",
       "      <td id=\"T_5e1db_row3_col0\" class=\"data row3 col0\" >Duplicated origin</td>\n",
       "      <td id=\"T_5e1db_row3_col1\" class=\"data row3 col1\" >4.00k (99.9%)</td>\n",
       "      <td id=\"T_5e1db_row3_col2\" class=\"data row3 col2\" >          </td>\n",
       "      <td id=\"T_5e1db_row3_col3\" class=\"data row3 col3\" ></td>\n",
       "    </tr>\n",
       "    <tr>\n",
       "      <td id=\"T_5e1db_row4_col0\" class=\"data row4 col0\" >Dupl (modify - origin)</td>\n",
       "      <td id=\"T_5e1db_row4_col1\" class=\"data row4 col1\" >---</td>\n",
       "      <td id=\"T_5e1db_row4_col2\" class=\"data row4 col2\" >          </td>\n",
       "      <td id=\"T_5e1db_row4_col3\" class=\"data row4 col3\" ></td>\n",
       "    </tr>\n",
       "    <tr>\n",
       "      <td id=\"T_5e1db_row5_col0\" class=\"data row5 col0\" >Empty</td>\n",
       "      <td id=\"T_5e1db_row5_col1\" class=\"data row5 col1\" >---</td>\n",
       "      <td id=\"T_5e1db_row5_col2\" class=\"data row5 col2\" >          </td>\n",
       "      <td id=\"T_5e1db_row5_col3\" class=\"data row5 col3\" ></td>\n",
       "    </tr>\n",
       "    <tr>\n",
       "      <td id=\"T_5e1db_row6_col0\" class=\"data row6 col0\" >RAM (Mb)</td>\n",
       "      <td id=\"T_5e1db_row6_col1\" class=\"data row6 col1\" ><1 Mb</td>\n",
       "      <td id=\"T_5e1db_row6_col2\" class=\"data row6 col2\" >          </td>\n",
       "      <td id=\"T_5e1db_row6_col3\" class=\"data row6 col3\" ></td>\n",
       "    </tr>\n",
       "  </tbody>\n",
       "</table>\n",
       "\n",
       "                <div>\n",
       "                    <img src=\"data:image/png;base64,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\" alt=\"График\"/>\n",
       "                </div>\n",
       "                      \n",
       "            </div>\n",
       "            "
      ],
      "text/plain": [
       "<IPython.core.display.HTML object>"
      ]
     },
     "metadata": {},
     "output_type": "display_data"
    }
   ],
   "source": [
    "gen.next()"
   ]
  },
  {
   "cell_type": "markdown",
   "metadata": {},
   "source": [
    "**Наблюдения:**  \n",
    "\n",
    "- Клиентов, которые проживают или работают в райное фитнес-центра, больше всего (85%)"
   ]
  },
  {
   "cell_type": "code",
   "execution_count": 14,
   "metadata": {},
   "outputs": [
    {
     "data": {
      "text/html": [
       "\n",
       "            <div style=\"display: flex; justify-content: flex-start; align-items: flex-end;\">\n",
       "                <style type=\"text/css\">\n",
       "#T_e3028 caption {\n",
       "  font-size: 16px;\n",
       "  text-align: left;\n",
       "  font-weight: bold;\n",
       "}\n",
       "#T_e3028 th {\n",
       "  min-width: 100px;\n",
       "}\n",
       "#T_e3028  td {\n",
       "  min-width: 100px;\n",
       "}\n",
       "#T_e3028_row0_col0, #T_e3028_row0_col1, #T_e3028_row0_col2, #T_e3028_row0_col3, #T_e3028_row1_col0, #T_e3028_row1_col1, #T_e3028_row1_col2, #T_e3028_row1_col3, #T_e3028_row2_col0, #T_e3028_row2_col1, #T_e3028_row2_col2, #T_e3028_row2_col3, #T_e3028_row3_col0, #T_e3028_row3_col1, #T_e3028_row3_col2, #T_e3028_row3_col3, #T_e3028_row4_col0, #T_e3028_row4_col1, #T_e3028_row4_col2, #T_e3028_row4_col3, #T_e3028_row5_col0, #T_e3028_row5_col1, #T_e3028_row5_col2, #T_e3028_row5_col3, #T_e3028_row6_col0, #T_e3028_row6_col1, #T_e3028_row6_col2, #T_e3028_row6_col3 {\n",
       "  text-align: left;\n",
       "}\n",
       "</style>\n",
       "<table id=\"T_e3028\">\n",
       "  <caption>Статистика и топ-10 значений столбца \"partner\"</caption>\n",
       "  <thead>\n",
       "  </thead>\n",
       "  <tbody>\n",
       "    <tr>\n",
       "      <td id=\"T_e3028_row0_col0\" class=\"data row0 col0\" >Values</td>\n",
       "      <td id=\"T_e3028_row0_col1\" class=\"data row0 col1\" >4.00k (100%)</td>\n",
       "      <td id=\"T_e3028_row0_col2\" class=\"data row0 col2\" >          </td>\n",
       "      <td id=\"T_e3028_row0_col3\" class=\"data row0 col3\" >0 (51%)</td>\n",
       "    </tr>\n",
       "    <tr>\n",
       "      <td id=\"T_e3028_row1_col0\" class=\"data row1 col0\" >Missing</td>\n",
       "      <td id=\"T_e3028_row1_col1\" class=\"data row1 col1\" >---</td>\n",
       "      <td id=\"T_e3028_row1_col2\" class=\"data row1 col2\" >          </td>\n",
       "      <td id=\"T_e3028_row1_col3\" class=\"data row1 col3\" >1 (49%)</td>\n",
       "    </tr>\n",
       "    <tr>\n",
       "      <td id=\"T_e3028_row2_col0\" class=\"data row2 col0\" >Distinct</td>\n",
       "      <td id=\"T_e3028_row2_col1\" class=\"data row2 col1\" >2.00 (<1%)</td>\n",
       "      <td id=\"T_e3028_row2_col2\" class=\"data row2 col2\" >          </td>\n",
       "      <td id=\"T_e3028_row2_col3\" class=\"data row2 col3\" ></td>\n",
       "    </tr>\n",
       "    <tr>\n",
       "      <td id=\"T_e3028_row3_col0\" class=\"data row3 col0\" >Duplicated origin</td>\n",
       "      <td id=\"T_e3028_row3_col1\" class=\"data row3 col1\" >4.00k (99.9%)</td>\n",
       "      <td id=\"T_e3028_row3_col2\" class=\"data row3 col2\" >          </td>\n",
       "      <td id=\"T_e3028_row3_col3\" class=\"data row3 col3\" ></td>\n",
       "    </tr>\n",
       "    <tr>\n",
       "      <td id=\"T_e3028_row4_col0\" class=\"data row4 col0\" >Dupl (modify - origin)</td>\n",
       "      <td id=\"T_e3028_row4_col1\" class=\"data row4 col1\" >---</td>\n",
       "      <td id=\"T_e3028_row4_col2\" class=\"data row4 col2\" >          </td>\n",
       "      <td id=\"T_e3028_row4_col3\" class=\"data row4 col3\" ></td>\n",
       "    </tr>\n",
       "    <tr>\n",
       "      <td id=\"T_e3028_row5_col0\" class=\"data row5 col0\" >Empty</td>\n",
       "      <td id=\"T_e3028_row5_col1\" class=\"data row5 col1\" >---</td>\n",
       "      <td id=\"T_e3028_row5_col2\" class=\"data row5 col2\" >          </td>\n",
       "      <td id=\"T_e3028_row5_col3\" class=\"data row5 col3\" ></td>\n",
       "    </tr>\n",
       "    <tr>\n",
       "      <td id=\"T_e3028_row6_col0\" class=\"data row6 col0\" >RAM (Mb)</td>\n",
       "      <td id=\"T_e3028_row6_col1\" class=\"data row6 col1\" ><1 Mb</td>\n",
       "      <td id=\"T_e3028_row6_col2\" class=\"data row6 col2\" >          </td>\n",
       "      <td id=\"T_e3028_row6_col3\" class=\"data row6 col3\" ></td>\n",
       "    </tr>\n",
       "  </tbody>\n",
       "</table>\n",
       "\n",
       "                <div>\n",
       "                    <img src=\"data:image/png;base64,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\" alt=\"График\"/>\n",
       "                </div>\n",
       "                      \n",
       "            </div>\n",
       "            "
      ],
      "text/plain": [
       "<IPython.core.display.HTML object>"
      ]
     },
     "metadata": {},
     "output_type": "display_data"
    }
   ],
   "source": [
    "gen.next()"
   ]
  },
  {
   "cell_type": "markdown",
   "metadata": {},
   "source": [
    "**Наблюдения:**  \n",
    "\n",
    "- 49% клиентов являются сотрудниками компании-партнёра клуба.\n"
   ]
  },
  {
   "cell_type": "code",
   "execution_count": 15,
   "metadata": {},
   "outputs": [
    {
     "data": {
      "text/html": [
       "\n",
       "            <div style=\"display: flex; justify-content: flex-start; align-items: flex-end;\">\n",
       "                <style type=\"text/css\">\n",
       "#T_258df caption {\n",
       "  font-size: 16px;\n",
       "  text-align: left;\n",
       "  font-weight: bold;\n",
       "}\n",
       "#T_258df th {\n",
       "  min-width: 100px;\n",
       "}\n",
       "#T_258df  td {\n",
       "  min-width: 100px;\n",
       "}\n",
       "#T_258df_row0_col0, #T_258df_row0_col1, #T_258df_row0_col2, #T_258df_row0_col3, #T_258df_row1_col0, #T_258df_row1_col1, #T_258df_row1_col2, #T_258df_row1_col3, #T_258df_row2_col0, #T_258df_row2_col1, #T_258df_row2_col2, #T_258df_row2_col3, #T_258df_row3_col0, #T_258df_row3_col1, #T_258df_row3_col2, #T_258df_row3_col3, #T_258df_row4_col0, #T_258df_row4_col1, #T_258df_row4_col2, #T_258df_row4_col3, #T_258df_row5_col0, #T_258df_row5_col1, #T_258df_row5_col2, #T_258df_row5_col3, #T_258df_row6_col0, #T_258df_row6_col1, #T_258df_row6_col2, #T_258df_row6_col3 {\n",
       "  text-align: left;\n",
       "}\n",
       "</style>\n",
       "<table id=\"T_258df\">\n",
       "  <caption>Статистика и топ-10 значений столбца \"promo_friends\"</caption>\n",
       "  <thead>\n",
       "  </thead>\n",
       "  <tbody>\n",
       "    <tr>\n",
       "      <td id=\"T_258df_row0_col0\" class=\"data row0 col0\" >Values</td>\n",
       "      <td id=\"T_258df_row0_col1\" class=\"data row0 col1\" >4.00k (100%)</td>\n",
       "      <td id=\"T_258df_row0_col2\" class=\"data row0 col2\" >          </td>\n",
       "      <td id=\"T_258df_row0_col3\" class=\"data row0 col3\" >0 (69%)</td>\n",
       "    </tr>\n",
       "    <tr>\n",
       "      <td id=\"T_258df_row1_col0\" class=\"data row1 col0\" >Missing</td>\n",
       "      <td id=\"T_258df_row1_col1\" class=\"data row1 col1\" >---</td>\n",
       "      <td id=\"T_258df_row1_col2\" class=\"data row1 col2\" >          </td>\n",
       "      <td id=\"T_258df_row1_col3\" class=\"data row1 col3\" >1 (31%)</td>\n",
       "    </tr>\n",
       "    <tr>\n",
       "      <td id=\"T_258df_row2_col0\" class=\"data row2 col0\" >Distinct</td>\n",
       "      <td id=\"T_258df_row2_col1\" class=\"data row2 col1\" >2.00 (<1%)</td>\n",
       "      <td id=\"T_258df_row2_col2\" class=\"data row2 col2\" >          </td>\n",
       "      <td id=\"T_258df_row2_col3\" class=\"data row2 col3\" ></td>\n",
       "    </tr>\n",
       "    <tr>\n",
       "      <td id=\"T_258df_row3_col0\" class=\"data row3 col0\" >Duplicated origin</td>\n",
       "      <td id=\"T_258df_row3_col1\" class=\"data row3 col1\" >4.00k (99.9%)</td>\n",
       "      <td id=\"T_258df_row3_col2\" class=\"data row3 col2\" >          </td>\n",
       "      <td id=\"T_258df_row3_col3\" class=\"data row3 col3\" ></td>\n",
       "    </tr>\n",
       "    <tr>\n",
       "      <td id=\"T_258df_row4_col0\" class=\"data row4 col0\" >Dupl (modify - origin)</td>\n",
       "      <td id=\"T_258df_row4_col1\" class=\"data row4 col1\" >---</td>\n",
       "      <td id=\"T_258df_row4_col2\" class=\"data row4 col2\" >          </td>\n",
       "      <td id=\"T_258df_row4_col3\" class=\"data row4 col3\" ></td>\n",
       "    </tr>\n",
       "    <tr>\n",
       "      <td id=\"T_258df_row5_col0\" class=\"data row5 col0\" >Empty</td>\n",
       "      <td id=\"T_258df_row5_col1\" class=\"data row5 col1\" >---</td>\n",
       "      <td id=\"T_258df_row5_col2\" class=\"data row5 col2\" >          </td>\n",
       "      <td id=\"T_258df_row5_col3\" class=\"data row5 col3\" ></td>\n",
       "    </tr>\n",
       "    <tr>\n",
       "      <td id=\"T_258df_row6_col0\" class=\"data row6 col0\" >RAM (Mb)</td>\n",
       "      <td id=\"T_258df_row6_col1\" class=\"data row6 col1\" ><1 Mb</td>\n",
       "      <td id=\"T_258df_row6_col2\" class=\"data row6 col2\" >          </td>\n",
       "      <td id=\"T_258df_row6_col3\" class=\"data row6 col3\" ></td>\n",
       "    </tr>\n",
       "  </tbody>\n",
       "</table>\n",
       "\n",
       "                <div>\n",
       "                    <img src=\"data:image/png;base64,iVBORw0KGgoAAAANSUhEUgAAAfQAAADcCAYAAACGXlNlAAAVKUlEQVR4Xu3dCaxd874H8H8VHV7UUPN4g+fVMz4VIZ4pccVQIo+SJoIWrSGGohcJchC0xBRqHioqoqg0KRJU1RCqJKJm4VaQcg2hpriG8/Jf7/Vc1Kmz917rrLX+67OSJjc3a/3X//f5/ff+7rX22s6A7u7u7tDPW1dXV4j/bAQIECBAgEA+AgMEej6QRiFAgAABAmUKCPQy9Z2bAAECBAjkJCDQc4I0DAECBAgQKFNAoJep79wECBAgQCAnAYGeE6RhCBAgQIBAmQICvUx95yZAgAABAjkJCPScIA1DgAABAgTKFBDoZeo7NwECBAgQyEmgtECfeMLfQv//J21yUjMMAQIECBBoUWDQ0IFhyLBBLR7V991LC/Td1jsk/OPvS/o+U3sSIECAAIEaC+x1zFZh3X9frbAKSgv0kUNHhcVvf1lYYQYmQIAAAQJVEhg1aWRY/z9WL2xKAr0wWgMTIECAAIF/CQh0q4EAAQIECCQgINATaKISCBAgQICAQLcGCBAgQIBAAgICPYEmKoEAAQIECAh0a4AAAQIECCQgINATaKISCBAgQICAQLcGCBAgQIBAAgICPYEmKoEAAQIECAh0a4AAAQIECCQgINATaKISCBAgQICAQLcGCBAgQIBAAgICPYEmKoEAAQIECAh0a4AAAQIECCQgINATaKISCBAgQICAQLcGCBAgQIBAAgICPYEmKoEAAQIECAh0a4AAAQIECCQgINATaKISCBAgQICAQLcGCBAgQIBAAgICPYEmKoEAAQIECAh0a4AAAQIECCQgINATaKISCBAgQICAQLcGCBAgQIBAAgICPYEmKoEAAQIECAh0a4AAAQIECCQgINATaKISCBAgQICAQLcGCBAgQIBAAgICPYEmKoEAAQIECAh0a4AAAQIECCQgINATaKISCBAgQICAQLcGCBAgQIBAAgICPYEmKoEAAQIECFQ+0B9//PEwd+7cMHz48PD555+Hc889NwwZMmS5nevq6gojh44Ki9/+UocJECBAgEAjBCod6F9//XUYM2ZMeOCBB8KgQYPCTTfdFAYMGBDGjx8v0BuxPBVJgAABAn0VqHSgP/roo2HWrFlh6tSpWT0vvfRSmDx5crjvvvsEel87bD8CBAgQaIRApQP9rrvuCq+99loW4nF79913w9ixY8NTTz3V05xp06Yt06hFixa55d6I5atIAgQIEFgqUOlAnz59eli4cGGYMmVKT6CPGzcuzJs3r6eDMbx/v8WQ9x26RU6AAAECTRKodKA/9thj2ffnN954Y9aTBQsWhMsvvzzMmDHDLfcmrVK1EiBAgMCfClQ60L/99tswevToMHPmzDB48OBw/fXXh4EDB4YJEyYI9D9trR0IECBAoEkClQ702Ig5c+Zk/zbaaKPsZ2uTJk3Knnhf3uZna01awmolQIAAgShQ+UBvp00CvR01xxAgQIBAnQUEep27Z+4ECBAgQOD/BQS6pUCAAAECBBIQEOgJNFEJBAgQIEBAoFsDBAgQIEAgAQGBnkATlUCAAAECBAS6NUCAAAECBBIQEOgJNFEJBAgQIEBAoFsDBAgQIEAgAQGBnkATlUCAAAECBAS6NUCAAAECBBIQEOgJNFEJBAgQIEBAoFsDBAgQIEAgAQGBnkATlUCAAAECBAS6NUCAAAECBBIQEOgJNFEJBAgQIEBAoFsDBAgQIEAgAQGBnkATlUCAAAECBAS6NUCAAAECBBIQEOgJNFEJBAgQIEBAoFsDBAgQIEAgAQGBnkATlUCAAAECBAS6NUCAAAECBBIQEOgJNFEJBAgQIEBAoFsDBAgQIEAgAQGBnkATlUCAAAECBAS6NUCAAAECBBIQEOgJNFEJBAgQIEBAoFsDBAgQIEAgAQGBnkATlUCAAAECBAS6NUCAAAECBBIQEOgJNFEJBAgQIEBAoFsDBAgQIEAgAQGBnkATlUCAAAECBJIN9DF/HR++X/JPHSZAgAABAo0Q2HCr4WHNjVcprNYB3d3d3YWN3svAXV1dIf6zESBAgAABAvkICPR8HI1CgAABAgRKFRDopfI7OQECBAgQyEdAoOfjaBQCBAgQIFCqgEAvld/JCRAgQIBAPgICPR9HoxAgQIAAgVIFBHqp/E5OgAABAgTyERDo+TgahQABAgQIlCog0Evld3ICBAgQIJCPgEDPx9EoBAgQIECgVAGBXiq/kxMgQIAAgXwEBHo+jkYhQIAAAQKlCgj0UvmdnAABAgQI5CMg0PNxNAoBAgQIEChVQKCXyu/kBAgQIEAgHwGBno+jUQgQIECAQKkCAr1UficnQIAAAQL5CAj0fByNQoAAAQIEShUQ6KXyOzkBAgQIEMhHoLRAH/PX8eH7Jf/MpwqjEEhEYKXBA8Nftl8r/NvqgxOpSBkECPSXQGmBPnLoqLD47S/7q07nIVALgVXXGRr2O+2/wrC1htRiviZJgEB1BAR6dXphJgSCQLcICBBoV0CgtyvnOAIFCAj0AlANSaAhAgK9IY1WZj0EBHo9+mSWBKooINCr2BVzaqyAQG9s6xVOoGMBgd4xoQEI5Ccg0POzNBKBpgkI9KZ1XL2VFhDolW6PyRGotIBAr3R7TK5pAgK9aR1XL4H8BAR6fpZGItCxgEDvmNAABBorINAb23qFV1FAoFexK+ZEoB4CAr0efTLLhggI9IY0WpkEChAQ6AWgGpJAuwICvV05xxEgINCtAQIVEhDoFWqGqRComYBAr1nDTDdtAYGedn9VR6BIAYFepK6xCbQoINBbBLM7AQI9AgLdYiBQIQGBXqFmmAqBmgkI9Jo1zHTTFhDoafdXdQSKFBDoReoam0CLAgK9RTC7EyDglrs1QKCKAgK9il0xJwL1EHCFXo8+mWVDBAR6QxqtTAIFCAj0AlANSaBdAYHerpzjCBAQ6NYAgQoJCPQKNcNUCNRMQKDXrGGmm7aAQE+7v6ojUKSAQC9S19gEWhQQ6C2C2Z0AgR4BgW4xEKiQgECvUDNMhUDNBAR6zRpmumkLCPS0+6s6AkUKCPQidY1NoEUBgd4imN0JEHDL3RogUEUBgV7FrpgTgXoIuEKvR5/MsiECAr0hjVYmgQIEBHoBqIYk0K6AQG9XznEECAh0a4BAhQQEeoWaYSoEaiYg0GvWMNNNW0Cgp91f1REoUkCgF6lrbAItCgj0FsHsToBAj4BAtxgIVEhAoFeoGaZCoGYCAr1mDTPdtAUEetr9VR2BIgU6DvSff/45zJ49O9x+++1h1qxZfZprV1dXGDl0VFj89pd92t9OBJoiINCb0ml1EshfoONAnzdvXlhppZXCxIkTw/z58/s0Q4HeJyY7NVBAoDew6UomkJNAx4Ee5/HJJ5+Egw466A8DfdGiRctMddq0aa7Qc2qgYdISEOhp9VM1BPpToPBAj+H9+y2GvFvu/dlm56qLgECvS6fMk0D1BAoP9D8q2S336i0EM6qGgECvRh/MgkAdBQR6HbtmzskKCPRkW6swAoULCPTCiZ2AQN8FBHrfrexJgMBvBToO9Keffjq89dZb4eabbw5nnnlm2GyzzcLIkSOX6+yWu2VI4I8FBLqVQYBAuwIdB3o7Jxbo7ag5pgkCAr0JXVYjgWIEBHoxrkYl0JaAQG+LzUEECIQQBLplQKBCAgK9Qs0wFQI1ExDoNWuY6aYtINDT7q/qCBQpINCL1DU2gRYFBHqLYHYnQKBHQKBbDAQqJCDQK9QMUyFQMwGBXrOGmW7aAgI97f6qjkCRAgK9SF1jE2hRQKC3CGZ3AgTccrcGCFRRQKBXsSvmRKAeAq7Q69Ens2yIgEBvSKOVSaAAAYFeAKohCbQrINDblXMcAQIC3RogUCEBgV6hZpgKgZoJCPSaNcx00xYQ6Gn3V3UEihQQ6EXqGptAiwICvUUwuxMg0CMg0C0GAhUSEOgVaoapEKiZgECvWcNMN20BgZ52f1VHoEgBgV6krrEJtCgg0FsEszsBAm65WwMEqigg0KvYFXMiUA8BV+j16JNZNkRAoDek0cokUICAQC8A1ZAE2hUQ6O3KOY4AAYFuDRCokIBAr1AzTIVAzQQEes0aZrppCwj0tPurOgJFCgj0InWNTaBFAYHeIpjdCRDoERDoFgOBCgkI9Ao1w1QI1ExAoNesYaabtoBAT7u/qiNQpIBAL1LX2ARaFBDoLYLZnQABt9ytAQJVFBDoVeyKORGoh4Ar9Hr0ySwbIiDQG9JoZRIoQECgF4BqSALtCgj0duUcR4CAQLcGCFRIQKBXqBmmQqBmAgK9Zg0z3bQFBHra/VUdgSIFBHqRusYm0KKAQG8RzO4ECPQICHSLgUCFBAR6hZphKgRqJlBaoP/3uv8T/vH3JTXjMl0CxQoMW3NI2P3o/wzD1hpS7ImMToBAcgKlBfrEE/4WuruT81QQgY4Fhq62clh58Iodj2MAAgSaJVBaoHd1dTVLWrUECBAgQKBAAYFeIK6hCRAgQIBAfwkI9P6Sdh4CBAgQIFCggEAvENfQBAgQIECgvwQEen9JOw8BAgQIEChQQKAXiGtoAgQIECDQXwICvb+knYcAAQIECBQoINALxDU0AQIECBDoLwGB3l/SzkOAAAECBAoUKC3QC6zJ0AQIECBAoHECpQT6k08+mUHvueeejQPPq+Cbb745jBo1Kqy//vp5Ddmocb755ptw4403hjPPPLNRdedZ7MsvvxwWLVoUDj744DyHbdRY999/fxgxYkTYeuutG1V3nsVecskl2et45ZVXznPYWo4l0GvZthAEemeNE+id+cWjBXrnhgK9c0OB/i9Dgd75eiplBIHeGbtA78xPoHfuF0cQ6J07CnSB3vkqKnkEgd5ZAwR6Z34CvXM/gZ6PoUAX6PmspBJHEeid4Qv0zvwEeud+Aj0fQ4FecqDn00ajECBAgAABAksFSvkOHT8BAgQIECCQr4BAz9fTaAQIECBAoBQBgV4Ku5MSIECAAIF8BQR6vp5GI0CAAAECpQgI9FLYnZQAAQIECOQrINDz9TQaAQIECBAoRUCgl8LupAQIECBAIF+Bfg/066+/PixZsiT88MMPYb311gvjx4/Pt6JERttrr73CTz/91FPNeeedF/bZZ5/w7bffhsmTJ4c111wzfPjhh9kfaNljjz2y/R5//PEwd+7cMHz48PD555+Hc889NwwZMiQRkb6V8cEHH2R/dGWzzTYL48aN6zmoNxuey7q++OKL4brrrgunnXZa2H777bMdXn/99XDssceGgQMH9hwwc+bMsNZaa4V33303+9sCG2ywQXj//ffDKaecEjbZZJNsv6a93p9++ukwe/bszGLx4sXZOoxucWvHaXnH9O0VUb+9brrppvDZZ5+FVVZZJbz33nvZH/9Z+oe8vC8uv5/9GujPP/98uOeee8I111yTzSqG+YQJE8LIkSPrt+oKnvEVV1wRzjjjjGXOMnXq1GyhH3nkkSH+185Gjx6d/fegf/nllzBmzJjwwAMPhEGDBoX4ohgwYECjPjB98skn4dVXXw1PPPFE2HTTTcMxxxyT+X399de92vD87RJ77bXXsg+NF198cbjgggt+E+jxL6vtv//+y6zJ+MEprtWtttoqxA8Dt9xyS7b+mvh6nzdvXvaX0+KH6h9//DHsu+++4bLLLsve49px6u2Ygt9+Sh0+vocdcsgh2RzeeOON7ANRvFCJf03N+2KFAv3SSy8N66yzTs+VU/xU/8UXX4Szzz671AVUxZP3tnAPPfTQEK/Wt9tuu2za8QNR/P+6u7vDrFmzQgyouL300kvZlfx9991XxfIKndNFF12U/VnZpYH+6KOP9mrD849bEa+Kurq6/jTQ452geJfo2WefDSussEL4+eefw6677hoefvjhLNSb/nqPgR7f37bZZpuWnY477rhej1ljjTUKfQ1VZfB4xye+RufMmROGDRvWa6B7Hf9fx/r1Cj3ewosv9nhVGbcZM2aE5557Llx11VVVWT+Vmcfpp5+eXfF89913YcUVV8yuMFdbbbWw2267hTvvvDO7Ao3bWWedlb1ZxECPV1cxxOMWb9WNHTs2PPXUU5Wpqb8m8vtAv+uuu3q14dm3QH/nnXdCdNx4443DV199FTbaaKPsKuqtt94Kp556anjsscd6Btp7773DtddemwV6k1/vH3/8cTj66KND/Goi3t1o1SkGem/HbLnllv31cir1PA899FC2tq6++upsHt4XK3SFPnHixLDLLruEww47rCfQ4225K6+8stRFU/WTT5s2LSxYsCC7+t59993DHXfckX03tzTQt9122yzQFy5cGKZMmdIT6PF2XbwF2LTt94E+ffr0Xm149i3Qf71XvAqPt9jjuouv55NPPjl7fmPpFgM9fgcfA72pr/f4/Mv555+ffRCPH7jjreNWnWKg93bMiBEjkn9Zx+/R42s53ilaffXVl6nX++KyS6Bfr9Dj1WP8biku1LjFh5fip/14lWnrXeDNN9/MvguPV9vx7sY555wTdthhh+yAaHn44YdngR6/e4qmcYsfAC6//PLsLkjTtt8HevyE35sNz9YDPR5x9913Z9+XxwcvDzjggOyWe3xgLgZZvCp/5JFHsgflmvh6j88gxDsU8Tbw5ptvngHHryZadYrfHfd2TOq33OMdjfi81UknnZTdav+jzftiyYH+wgsvZLeLl37PGxfs8ccfH3bcccemZc5y6136YNJOO+2U7RdvOz344IPh1ltvDTfccEP20Fu8+o4Pe8U3jXhLL24xnOL/Hjx4cPZ0cXyDjd+xN237faDHN9jebHj2LdDvvffecOCBB4ahQ4dmB1x44YXZE+4nnHBC9tBSvJKMz3XMnz8/3HbbbVmYN/H1/tFHH2UfduIH8PgV2a+3dpx6Oybl13S8a/vKK69kz8D8+lcV3hf/vOv9eoUepxODJl6Vx++F11577XDUUUf9+Swbtkf86VV8MnaLLbbInl6P38XFT6obbrhh9gRy/Pu/6667bvj000+zp4533nnnTCg+OBL/xe834xXBpEmTsvBvyhadYqDEDz+rrrpqiLd+4y31+L97s+H529URf54Wbw/HDzr77bdfdrs4/lwyPlgYnzSOazD+uiLeEYpfocX1FZ/XiHeG4nMd8aeUJ554YvazrSa+3uMDcM8880z2C5Ol2xFHHJF9sG7HaXnHpPq6juvt+++//0158SHh+DNn74vL73q/B3qqi1BdBAgQIECgTAGBXqa+cxMgQIAAgZwEBHpOkIYhQIAAAQJlCvwvO0OWsIZYTy4AAAAASUVORK5CYII=\" alt=\"График\"/>\n",
       "                </div>\n",
       "                      \n",
       "            </div>\n",
       "            "
      ],
      "text/plain": [
       "<IPython.core.display.HTML object>"
      ]
     },
     "metadata": {},
     "output_type": "display_data"
    }
   ],
   "source": [
    "gen.next()"
   ]
  },
  {
   "cell_type": "markdown",
   "metadata": {},
   "source": [
    "**Наблюдения:**  \n",
    "\n",
    "- 31% клиентов первый раз записались по акции 'приведи друга'\n"
   ]
  },
  {
   "cell_type": "code",
   "execution_count": 16,
   "metadata": {},
   "outputs": [
    {
     "data": {
      "text/html": [
       "\n",
       "            <div style=\"display: flex; justify-content: flex-start; align-items: flex-end;\">\n",
       "                <style type=\"text/css\">\n",
       "#T_75a62 caption {\n",
       "  font-size: 16px;\n",
       "  text-align: left;\n",
       "  font-weight: bold;\n",
       "}\n",
       "#T_75a62 th {\n",
       "  min-width: 100px;\n",
       "}\n",
       "#T_75a62  td {\n",
       "  min-width: 100px;\n",
       "}\n",
       "#T_75a62_row0_col0, #T_75a62_row0_col1, #T_75a62_row0_col2, #T_75a62_row0_col3, #T_75a62_row1_col0, #T_75a62_row1_col1, #T_75a62_row1_col2, #T_75a62_row1_col3, #T_75a62_row2_col0, #T_75a62_row2_col1, #T_75a62_row2_col2, #T_75a62_row2_col3, #T_75a62_row3_col0, #T_75a62_row3_col1, #T_75a62_row3_col2, #T_75a62_row3_col3, #T_75a62_row4_col0, #T_75a62_row4_col1, #T_75a62_row4_col2, #T_75a62_row4_col3, #T_75a62_row5_col0, #T_75a62_row5_col1, #T_75a62_row5_col2, #T_75a62_row5_col3, #T_75a62_row6_col0, #T_75a62_row6_col1, #T_75a62_row6_col2, #T_75a62_row6_col3 {\n",
       "  text-align: left;\n",
       "}\n",
       "</style>\n",
       "<table id=\"T_75a62\">\n",
       "  <caption>Статистика и топ-10 значений столбца \"phone\"</caption>\n",
       "  <thead>\n",
       "  </thead>\n",
       "  <tbody>\n",
       "    <tr>\n",
       "      <td id=\"T_75a62_row0_col0\" class=\"data row0 col0\" >Values</td>\n",
       "      <td id=\"T_75a62_row0_col1\" class=\"data row0 col1\" >4.00k (100%)</td>\n",
       "      <td id=\"T_75a62_row0_col2\" class=\"data row0 col2\" >          </td>\n",
       "      <td id=\"T_75a62_row0_col3\" class=\"data row0 col3\" >1 (90%)</td>\n",
       "    </tr>\n",
       "    <tr>\n",
       "      <td id=\"T_75a62_row1_col0\" class=\"data row1 col0\" >Missing</td>\n",
       "      <td id=\"T_75a62_row1_col1\" class=\"data row1 col1\" >---</td>\n",
       "      <td id=\"T_75a62_row1_col2\" class=\"data row1 col2\" >          </td>\n",
       "      <td id=\"T_75a62_row1_col3\" class=\"data row1 col3\" >0 (10%)</td>\n",
       "    </tr>\n",
       "    <tr>\n",
       "      <td id=\"T_75a62_row2_col0\" class=\"data row2 col0\" >Distinct</td>\n",
       "      <td id=\"T_75a62_row2_col1\" class=\"data row2 col1\" >2.00 (<1%)</td>\n",
       "      <td id=\"T_75a62_row2_col2\" class=\"data row2 col2\" >          </td>\n",
       "      <td id=\"T_75a62_row2_col3\" class=\"data row2 col3\" ></td>\n",
       "    </tr>\n",
       "    <tr>\n",
       "      <td id=\"T_75a62_row3_col0\" class=\"data row3 col0\" >Duplicated origin</td>\n",
       "      <td id=\"T_75a62_row3_col1\" class=\"data row3 col1\" >4.00k (99.9%)</td>\n",
       "      <td id=\"T_75a62_row3_col2\" class=\"data row3 col2\" >          </td>\n",
       "      <td id=\"T_75a62_row3_col3\" class=\"data row3 col3\" ></td>\n",
       "    </tr>\n",
       "    <tr>\n",
       "      <td id=\"T_75a62_row4_col0\" class=\"data row4 col0\" >Dupl (modify - origin)</td>\n",
       "      <td id=\"T_75a62_row4_col1\" class=\"data row4 col1\" >---</td>\n",
       "      <td id=\"T_75a62_row4_col2\" class=\"data row4 col2\" >          </td>\n",
       "      <td id=\"T_75a62_row4_col3\" class=\"data row4 col3\" ></td>\n",
       "    </tr>\n",
       "    <tr>\n",
       "      <td id=\"T_75a62_row5_col0\" class=\"data row5 col0\" >Empty</td>\n",
       "      <td id=\"T_75a62_row5_col1\" class=\"data row5 col1\" >---</td>\n",
       "      <td id=\"T_75a62_row5_col2\" class=\"data row5 col2\" >          </td>\n",
       "      <td id=\"T_75a62_row5_col3\" class=\"data row5 col3\" ></td>\n",
       "    </tr>\n",
       "    <tr>\n",
       "      <td id=\"T_75a62_row6_col0\" class=\"data row6 col0\" >RAM (Mb)</td>\n",
       "      <td id=\"T_75a62_row6_col1\" class=\"data row6 col1\" ><1 Mb</td>\n",
       "      <td id=\"T_75a62_row6_col2\" class=\"data row6 col2\" >          </td>\n",
       "      <td id=\"T_75a62_row6_col3\" class=\"data row6 col3\" ></td>\n",
       "    </tr>\n",
       "  </tbody>\n",
       "</table>\n",
       "\n",
       "                <div>\n",
       "                    <img src=\"data:image/png;base64,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\" alt=\"График\"/>\n",
       "                </div>\n",
       "                      \n",
       "            </div>\n",
       "            "
      ],
      "text/plain": [
       "<IPython.core.display.HTML object>"
      ]
     },
     "metadata": {},
     "output_type": "display_data"
    }
   ],
   "source": [
    "gen.next()"
   ]
  },
  {
   "cell_type": "markdown",
   "metadata": {},
   "source": [
    "**Наблюдения:**  \n",
    "\n",
    "- У большинства клиентов указан телефон (90%)\n"
   ]
  },
  {
   "cell_type": "code",
   "execution_count": 17,
   "metadata": {},
   "outputs": [
    {
     "data": {
      "text/html": [
       "\n",
       "            <div style=\"display: flex; justify-content: flex-start; align-items: flex-end;\">\n",
       "                <style type=\"text/css\">\n",
       "#T_89d12 caption {\n",
       "  font-size: 16px;\n",
       "  text-align: left;\n",
       "  font-weight: bold;\n",
       "}\n",
       "#T_89d12 th {\n",
       "  min-width: 100px;\n",
       "}\n",
       "#T_89d12  td {\n",
       "  min-width: 100px;\n",
       "}\n",
       "#T_89d12_row0_col0, #T_89d12_row0_col1, #T_89d12_row0_col2, #T_89d12_row0_col3, #T_89d12_row1_col0, #T_89d12_row1_col1, #T_89d12_row1_col2, #T_89d12_row1_col3, #T_89d12_row2_col0, #T_89d12_row2_col1, #T_89d12_row2_col2, #T_89d12_row2_col3, #T_89d12_row3_col0, #T_89d12_row3_col1, #T_89d12_row3_col2, #T_89d12_row3_col3, #T_89d12_row4_col0, #T_89d12_row4_col1, #T_89d12_row4_col2, #T_89d12_row4_col3, #T_89d12_row5_col0, #T_89d12_row5_col1, #T_89d12_row5_col2, #T_89d12_row5_col3, #T_89d12_row6_col0, #T_89d12_row6_col1, #T_89d12_row6_col2, #T_89d12_row6_col3 {\n",
       "  text-align: left;\n",
       "}\n",
       "</style>\n",
       "<table id=\"T_89d12\">\n",
       "  <caption>Статистика и топ-10 значений столбца \"group_visits\"</caption>\n",
       "  <thead>\n",
       "  </thead>\n",
       "  <tbody>\n",
       "    <tr>\n",
       "      <td id=\"T_89d12_row0_col0\" class=\"data row0 col0\" >Values</td>\n",
       "      <td id=\"T_89d12_row0_col1\" class=\"data row0 col1\" >4.00k (100%)</td>\n",
       "      <td id=\"T_89d12_row0_col2\" class=\"data row0 col2\" >          </td>\n",
       "      <td id=\"T_89d12_row0_col3\" class=\"data row0 col3\" >0 (59%)</td>\n",
       "    </tr>\n",
       "    <tr>\n",
       "      <td id=\"T_89d12_row1_col0\" class=\"data row1 col0\" >Missing</td>\n",
       "      <td id=\"T_89d12_row1_col1\" class=\"data row1 col1\" >---</td>\n",
       "      <td id=\"T_89d12_row1_col2\" class=\"data row1 col2\" >          </td>\n",
       "      <td id=\"T_89d12_row1_col3\" class=\"data row1 col3\" >1 (41%)</td>\n",
       "    </tr>\n",
       "    <tr>\n",
       "      <td id=\"T_89d12_row2_col0\" class=\"data row2 col0\" >Distinct</td>\n",
       "      <td id=\"T_89d12_row2_col1\" class=\"data row2 col1\" >2.00 (<1%)</td>\n",
       "      <td id=\"T_89d12_row2_col2\" class=\"data row2 col2\" >          </td>\n",
       "      <td id=\"T_89d12_row2_col3\" class=\"data row2 col3\" ></td>\n",
       "    </tr>\n",
       "    <tr>\n",
       "      <td id=\"T_89d12_row3_col0\" class=\"data row3 col0\" >Duplicated origin</td>\n",
       "      <td id=\"T_89d12_row3_col1\" class=\"data row3 col1\" >4.00k (99.9%)</td>\n",
       "      <td id=\"T_89d12_row3_col2\" class=\"data row3 col2\" >          </td>\n",
       "      <td id=\"T_89d12_row3_col3\" class=\"data row3 col3\" ></td>\n",
       "    </tr>\n",
       "    <tr>\n",
       "      <td id=\"T_89d12_row4_col0\" class=\"data row4 col0\" >Dupl (modify - origin)</td>\n",
       "      <td id=\"T_89d12_row4_col1\" class=\"data row4 col1\" >---</td>\n",
       "      <td id=\"T_89d12_row4_col2\" class=\"data row4 col2\" >          </td>\n",
       "      <td id=\"T_89d12_row4_col3\" class=\"data row4 col3\" ></td>\n",
       "    </tr>\n",
       "    <tr>\n",
       "      <td id=\"T_89d12_row5_col0\" class=\"data row5 col0\" >Empty</td>\n",
       "      <td id=\"T_89d12_row5_col1\" class=\"data row5 col1\" >---</td>\n",
       "      <td id=\"T_89d12_row5_col2\" class=\"data row5 col2\" >          </td>\n",
       "      <td id=\"T_89d12_row5_col3\" class=\"data row5 col3\" ></td>\n",
       "    </tr>\n",
       "    <tr>\n",
       "      <td id=\"T_89d12_row6_col0\" class=\"data row6 col0\" >RAM (Mb)</td>\n",
       "      <td id=\"T_89d12_row6_col1\" class=\"data row6 col1\" ><1 Mb</td>\n",
       "      <td id=\"T_89d12_row6_col2\" class=\"data row6 col2\" >          </td>\n",
       "      <td id=\"T_89d12_row6_col3\" class=\"data row6 col3\" ></td>\n",
       "    </tr>\n",
       "  </tbody>\n",
       "</table>\n",
       "\n",
       "                <div>\n",
       "                    <img src=\"data:image/png;base64,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\" alt=\"График\"/>\n",
       "                </div>\n",
       "                      \n",
       "            </div>\n",
       "            "
      ],
      "text/plain": [
       "<IPython.core.display.HTML object>"
      ]
     },
     "metadata": {},
     "output_type": "display_data"
    }
   ],
   "source": [
    "gen.next()"
   ]
  },
  {
   "cell_type": "markdown",
   "metadata": {},
   "source": [
    "**Наблюдения:**  \n",
    "\n",
    "- 41% клиентов посещали груповые занятия.\n"
   ]
  },
  {
   "cell_type": "code",
   "execution_count": 18,
   "metadata": {},
   "outputs": [
    {
     "data": {
      "text/html": [
       "\n",
       "            <div style=\"display: flex; justify-content: flex-start; align-items: flex-end;\">\n",
       "                <style type=\"text/css\">\n",
       "#T_18de1 caption {\n",
       "  font-size: 16px;\n",
       "  text-align: left;\n",
       "  font-weight: bold;\n",
       "}\n",
       "#T_18de1 th {\n",
       "  min-width: 100px;\n",
       "}\n",
       "#T_18de1  td {\n",
       "  min-width: 100px;\n",
       "}\n",
       "#T_18de1_row0_col0, #T_18de1_row0_col1, #T_18de1_row0_col2, #T_18de1_row0_col3, #T_18de1_row1_col0, #T_18de1_row1_col1, #T_18de1_row1_col2, #T_18de1_row1_col3, #T_18de1_row2_col0, #T_18de1_row2_col1, #T_18de1_row2_col2, #T_18de1_row2_col3, #T_18de1_row3_col0, #T_18de1_row3_col1, #T_18de1_row3_col2, #T_18de1_row3_col3, #T_18de1_row4_col0, #T_18de1_row4_col1, #T_18de1_row4_col2, #T_18de1_row4_col3, #T_18de1_row5_col0, #T_18de1_row5_col1, #T_18de1_row5_col2, #T_18de1_row5_col3, #T_18de1_row6_col0, #T_18de1_row6_col1, #T_18de1_row6_col2, #T_18de1_row6_col3 {\n",
       "  text-align: left;\n",
       "}\n",
       "</style>\n",
       "<table id=\"T_18de1\">\n",
       "  <caption>Статистика и топ-10 значений столбца \"churn\"</caption>\n",
       "  <thead>\n",
       "  </thead>\n",
       "  <tbody>\n",
       "    <tr>\n",
       "      <td id=\"T_18de1_row0_col0\" class=\"data row0 col0\" >Values</td>\n",
       "      <td id=\"T_18de1_row0_col1\" class=\"data row0 col1\" >4.00k (100%)</td>\n",
       "      <td id=\"T_18de1_row0_col2\" class=\"data row0 col2\" >          </td>\n",
       "      <td id=\"T_18de1_row0_col3\" class=\"data row0 col3\" >0 (73%)</td>\n",
       "    </tr>\n",
       "    <tr>\n",
       "      <td id=\"T_18de1_row1_col0\" class=\"data row1 col0\" >Missing</td>\n",
       "      <td id=\"T_18de1_row1_col1\" class=\"data row1 col1\" >---</td>\n",
       "      <td id=\"T_18de1_row1_col2\" class=\"data row1 col2\" >          </td>\n",
       "      <td id=\"T_18de1_row1_col3\" class=\"data row1 col3\" >1 (27%)</td>\n",
       "    </tr>\n",
       "    <tr>\n",
       "      <td id=\"T_18de1_row2_col0\" class=\"data row2 col0\" >Distinct</td>\n",
       "      <td id=\"T_18de1_row2_col1\" class=\"data row2 col1\" >2.00 (<1%)</td>\n",
       "      <td id=\"T_18de1_row2_col2\" class=\"data row2 col2\" >          </td>\n",
       "      <td id=\"T_18de1_row2_col3\" class=\"data row2 col3\" ></td>\n",
       "    </tr>\n",
       "    <tr>\n",
       "      <td id=\"T_18de1_row3_col0\" class=\"data row3 col0\" >Duplicated origin</td>\n",
       "      <td id=\"T_18de1_row3_col1\" class=\"data row3 col1\" >4.00k (99.9%)</td>\n",
       "      <td id=\"T_18de1_row3_col2\" class=\"data row3 col2\" >          </td>\n",
       "      <td id=\"T_18de1_row3_col3\" class=\"data row3 col3\" ></td>\n",
       "    </tr>\n",
       "    <tr>\n",
       "      <td id=\"T_18de1_row4_col0\" class=\"data row4 col0\" >Dupl (modify - origin)</td>\n",
       "      <td id=\"T_18de1_row4_col1\" class=\"data row4 col1\" >---</td>\n",
       "      <td id=\"T_18de1_row4_col2\" class=\"data row4 col2\" >          </td>\n",
       "      <td id=\"T_18de1_row4_col3\" class=\"data row4 col3\" ></td>\n",
       "    </tr>\n",
       "    <tr>\n",
       "      <td id=\"T_18de1_row5_col0\" class=\"data row5 col0\" >Empty</td>\n",
       "      <td id=\"T_18de1_row5_col1\" class=\"data row5 col1\" >---</td>\n",
       "      <td id=\"T_18de1_row5_col2\" class=\"data row5 col2\" >          </td>\n",
       "      <td id=\"T_18de1_row5_col3\" class=\"data row5 col3\" ></td>\n",
       "    </tr>\n",
       "    <tr>\n",
       "      <td id=\"T_18de1_row6_col0\" class=\"data row6 col0\" >RAM (Mb)</td>\n",
       "      <td id=\"T_18de1_row6_col1\" class=\"data row6 col1\" ><1 Mb</td>\n",
       "      <td id=\"T_18de1_row6_col2\" class=\"data row6 col2\" >          </td>\n",
       "      <td id=\"T_18de1_row6_col3\" class=\"data row6 col3\" ></td>\n",
       "    </tr>\n",
       "  </tbody>\n",
       "</table>\n",
       "\n",
       "                <div>\n",
       "                    <img src=\"data:image/png;base64,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\" alt=\"График\"/>\n",
       "                </div>\n",
       "                      \n",
       "            </div>\n",
       "            "
      ],
      "text/plain": [
       "<IPython.core.display.HTML object>"
      ]
     },
     "metadata": {},
     "output_type": "display_data"
    }
   ],
   "source": [
    "gen.next()"
   ]
  },
  {
   "cell_type": "markdown",
   "metadata": {},
   "source": [
    "**Наблюдения:**  \n",
    "\n",
    "- 27% клиентов числятся ушедшими.\n"
   ]
  },
  {
   "cell_type": "markdown",
   "metadata": {},
   "source": [
    "#### Изучение дубликатов\n"
   ]
  },
  {
   "cell_type": "markdown",
   "metadata": {},
   "source": [
    "Посмотрим на дубли во всем датафрейме\n"
   ]
  },
  {
   "cell_type": "code",
   "execution_count": 20,
   "metadata": {},
   "outputs": [
    {
     "data": {
      "text/plain": [
       "'no duplicates'"
      ]
     },
     "execution_count": 20,
     "metadata": {},
     "output_type": "execute_result"
    }
   ],
   "source": [
    "pagri_data_tools.check_duplicated(df)"
   ]
  },
  {
   "cell_type": "markdown",
   "metadata": {},
   "source": [
    "В датафрейме полных строк дубликатов нет."
   ]
  },
  {
   "cell_type": "markdown",
   "metadata": {},
   "source": [
    "#### Изучение пропусков\n"
   ]
  },
  {
   "cell_type": "markdown",
   "metadata": {},
   "source": [
    "Посмотрим на пропуски в каждом столбце"
   ]
  },
  {
   "cell_type": "code",
   "execution_count": 22,
   "metadata": {},
   "outputs": [
    {
     "name": "stdout",
     "output_type": "stream",
     "text": [
      "There are no missing values\n"
     ]
    }
   ],
   "source": [
    "series_missed = pagri_data_tools.find_columns_with_missing_values(df)"
   ]
  },
  {
   "cell_type": "markdown",
   "metadata": {},
   "source": [
    "Пропусков не обнаружено."
   ]
  },
  {
   "cell_type": "markdown",
   "metadata": {},
   "source": [
    "#### Изучение выбросов\n"
   ]
  },
  {
   "cell_type": "markdown",
   "metadata": {},
   "source": [
    "Посмотрим на выбросы используя квантили.    \n",
    "Выбросами будем считать значения, которые выходят за пределы 5 и 95 квантилей."
   ]
  },
  {
   "cell_type": "markdown",
   "metadata": {},
   "source": [
    "Определение того, какой процент выбросов за пределами 5-го и 95-го квантилей можно считать \"небольшим\", может зависеть от контекста и специфики ваших данных. Однако, в общем случае можно использовать следующие ориентиры:\n",
    "\n",
    "- 0% - 5%: Это обычно считается очень низким уровнем выбросов. Если процент выбросов находится в этом диапазоне, это может указывать на то, что данные достаточно чистые и не содержат значительных аномалий.\n",
    "- 5% - 10%: Этот диапазон все еще может считаться приемлемым, особенно в некоторых областях, где небольшое количество выбросов является нормальным явлением.\n",
    "- 10% - 20%: Это может быть признаком того, что в данных есть некоторое количество аномалий, и вам стоит обратить на них внимание. В зависимости от контекста, это может быть допустимо, но требует дальнейшего анализа.\n",
    "- Более 20%: Это обычно считается высоким уровнем выбросов. Если процент выбросов превышает 20%, это может указывать на наличие значительных аномалий или проблем с данными, и вам следует провести более детальный анализ."
   ]
  },
  {
   "cell_type": "markdown",
   "metadata": {},
   "source": [
    "Важно посмотреть насколько одинаковые проценты выбросов в разных столбцах.  \n",
    "Если процент примерно одинаковый, то это говорит об однородности данных."
   ]
  },
  {
   "cell_type": "code",
   "execution_count": 23,
   "metadata": {},
   "outputs": [
    {
     "data": {
      "text/html": [
       "<style type=\"text/css\">\n",
       "#T_10b9b caption {\n",
       "  font-size: 18px;\n",
       "  text-align: left;\n",
       "  font-weight: bold;\n",
       "}\n",
       "</style>\n",
       "<table id=\"T_10b9b\">\n",
       "  <caption>Outliers</caption>\n",
       "  <thead>\n",
       "  </thead>\n",
       "  <tbody>\n",
       "    <tr>\n",
       "      <th id=\"T_10b9b_level0_row0\" class=\"row_heading level0 row0\" >contract_period</th>\n",
       "      <td id=\"T_10b9b_row0_col0\" class=\"data row0 col0\" >0 (0.00%)</td>\n",
       "    </tr>\n",
       "    <tr>\n",
       "      <th id=\"T_10b9b_level0_row1\" class=\"row_heading level0 row1\" >age</th>\n",
       "      <td id=\"T_10b9b_row1_col0\" class=\"data row1 col0\" >346 (8.65%)</td>\n",
       "    </tr>\n",
       "    <tr>\n",
       "      <th id=\"T_10b9b_level0_row2\" class=\"row_heading level0 row2\" >avg_additional_charges_total</th>\n",
       "      <td id=\"T_10b9b_row2_col0\" class=\"data row2 col0\" >400 (10.00%)</td>\n",
       "    </tr>\n",
       "    <tr>\n",
       "      <th id=\"T_10b9b_level0_row3\" class=\"row_heading level0 row3\" >month_to_end_contract</th>\n",
       "      <td id=\"T_10b9b_row3_col0\" class=\"data row3 col0\" >0 (0.00%)</td>\n",
       "    </tr>\n",
       "    <tr>\n",
       "      <th id=\"T_10b9b_level0_row4\" class=\"row_heading level0 row4\" >lifetime</th>\n",
       "      <td id=\"T_10b9b_row4_col0\" class=\"data row4 col0\" >192 (4.80%)</td>\n",
       "    </tr>\n",
       "    <tr>\n",
       "      <th id=\"T_10b9b_level0_row5\" class=\"row_heading level0 row5\" >avg_class_frequency_total</th>\n",
       "      <td id=\"T_10b9b_row5_col0\" class=\"data row5 col0\" >400 (10.00%)</td>\n",
       "    </tr>\n",
       "    <tr>\n",
       "      <th id=\"T_10b9b_level0_row6\" class=\"row_heading level0 row6\" >avg_class_frequency_current_month</th>\n",
       "      <td id=\"T_10b9b_row6_col0\" class=\"data row6 col0\" >400 (10.00%)</td>\n",
       "    </tr>\n",
       "  </tbody>\n",
       "</table>\n"
      ],
      "text/plain": [
       "<pandas.io.formats.style.Styler at 0x77195e532c60>"
      ]
     },
     "metadata": {},
     "output_type": "display_data"
    }
   ],
   "source": [
    "series_outliers = pagri_data_tools.detect_outliers_quantile(df)"
   ]
  },
  {
   "cell_type": "markdown",
   "metadata": {},
   "source": [
    "**Наблюдения:**  \n",
    "\n",
    "- В возрасте и времени с первого визита количество выбросов меньше 10%. Значит в этих столбцах нет существенных аномалий.\n",
    "- В столбцах с выручкой от других услуг, средним количеством визитов в неделю за последний месяц и средним количеством визитов с первого появления 10% пропусков. Причем равное количество. Это подозрительно."
   ]
  },
  {
   "cell_type": "code",
   "execution_count": 28,
   "metadata": {},
   "outputs": [
    {
     "data": {
      "text/html": [
       "<style type=\"text/css\">\n",
       "#T_66b72 caption {\n",
       "  font-size: 18px;\n",
       "  text-align: left;\n",
       "  font-weight: bold;\n",
       "}\n",
       "</style>\n",
       "<table id=\"T_66b72\">\n",
       "  <caption>Share in \"avg_additional_charges_total\" by category \"churn\"</caption>\n",
       "  <thead>\n",
       "    <tr>\n",
       "      <th id=\"T_66b72_level0_col0\" class=\"col_heading level0 col0\" >churn</th>\n",
       "      <th id=\"T_66b72_level0_col1\" class=\"col_heading level0 col1\" >total</th>\n",
       "      <th id=\"T_66b72_level0_col2\" class=\"col_heading level0 col2\" >count</th>\n",
       "      <th id=\"T_66b72_level0_col3\" class=\"col_heading level0 col3\" >count_in_total_pct</th>\n",
       "      <th id=\"T_66b72_level0_col4\" class=\"col_heading level0 col4\" >count_in_sum_count_pct</th>\n",
       "      <th id=\"T_66b72_level0_col5\" class=\"col_heading level0 col5\" >total_in_sum_total_pct</th>\n",
       "      <th id=\"T_66b72_level0_col6\" class=\"col_heading level0 col6\" >diff_sum_pct</th>\n",
       "    </tr>\n",
       "  </thead>\n",
       "  <tbody>\n",
       "    <tr>\n",
       "      <td id=\"T_66b72_row0_col0\" class=\"data row0 col0\" >0</td>\n",
       "      <td id=\"T_66b72_row0_col1\" class=\"data row0 col1\" >2939</td>\n",
       "      <td id=\"T_66b72_row0_col2\" class=\"data row0 col2\" >328</td>\n",
       "      <td id=\"T_66b72_row0_col3\" class=\"data row0 col3\" >11.2%</td>\n",
       "      <td id=\"T_66b72_row0_col4\" class=\"data row0 col4\" >82.0%</td>\n",
       "      <td id=\"T_66b72_row0_col5\" class=\"data row0 col5\" >73.5%</td>\n",
       "      <td id=\"T_66b72_row0_col6\" class=\"data row0 col6\" >8.5%</td>\n",
       "    </tr>\n",
       "    <tr>\n",
       "      <td id=\"T_66b72_row1_col0\" class=\"data row1 col0\" >1</td>\n",
       "      <td id=\"T_66b72_row1_col1\" class=\"data row1 col1\" >1061</td>\n",
       "      <td id=\"T_66b72_row1_col2\" class=\"data row1 col2\" >72</td>\n",
       "      <td id=\"T_66b72_row1_col3\" class=\"data row1 col3\" >6.8%</td>\n",
       "      <td id=\"T_66b72_row1_col4\" class=\"data row1 col4\" >18.0%</td>\n",
       "      <td id=\"T_66b72_row1_col5\" class=\"data row1 col5\" >26.5%</td>\n",
       "      <td id=\"T_66b72_row1_col6\" class=\"data row1 col6\" >-8.5%</td>\n",
       "    </tr>\n",
       "  </tbody>\n",
       "</table>\n"
      ],
      "text/plain": [
       "<pandas.io.formats.style.Styler at 0x77195ca26990>"
      ]
     },
     "metadata": {},
     "output_type": "display_data"
    }
   ],
   "source": [
    "pagri_data_tools.analyze_anomaly_by_category(df, series_outliers, \"by_category\", \"avg_additional_charges_total\", \"churn\")"
   ]
  },
  {
   "cell_type": "markdown",
   "metadata": {},
   "source": [
    "**Наблюдения:**\n",
    "- У ушедших пользователей заметно меньше доля выбросов в выручке от других услуг."
   ]
  },
  {
   "cell_type": "code",
   "execution_count": 29,
   "metadata": {},
   "outputs": [
    {
     "data": {
      "text/html": [
       "<style type=\"text/css\">\n",
       "#T_051cd caption {\n",
       "  font-size: 18px;\n",
       "  text-align: left;\n",
       "  font-weight: bold;\n",
       "}\n",
       "</style>\n",
       "<table id=\"T_051cd\">\n",
       "  <caption>Share in \"avg_class_frequency_total\" by category \"churn\"</caption>\n",
       "  <thead>\n",
       "    <tr>\n",
       "      <th id=\"T_051cd_level0_col0\" class=\"col_heading level0 col0\" >churn</th>\n",
       "      <th id=\"T_051cd_level0_col1\" class=\"col_heading level0 col1\" >total</th>\n",
       "      <th id=\"T_051cd_level0_col2\" class=\"col_heading level0 col2\" >count</th>\n",
       "      <th id=\"T_051cd_level0_col3\" class=\"col_heading level0 col3\" >count_in_total_pct</th>\n",
       "      <th id=\"T_051cd_level0_col4\" class=\"col_heading level0 col4\" >count_in_sum_count_pct</th>\n",
       "      <th id=\"T_051cd_level0_col5\" class=\"col_heading level0 col5\" >total_in_sum_total_pct</th>\n",
       "      <th id=\"T_051cd_level0_col6\" class=\"col_heading level0 col6\" >diff_sum_pct</th>\n",
       "    </tr>\n",
       "  </thead>\n",
       "  <tbody>\n",
       "    <tr>\n",
       "      <td id=\"T_051cd_row0_col0\" class=\"data row0 col0\" >0</td>\n",
       "      <td id=\"T_051cd_row0_col1\" class=\"data row0 col1\" >2939</td>\n",
       "      <td id=\"T_051cd_row0_col2\" class=\"data row0 col2\" >342</td>\n",
       "      <td id=\"T_051cd_row0_col3\" class=\"data row0 col3\" >11.6%</td>\n",
       "      <td id=\"T_051cd_row0_col4\" class=\"data row0 col4\" >85.5%</td>\n",
       "      <td id=\"T_051cd_row0_col5\" class=\"data row0 col5\" >73.5%</td>\n",
       "      <td id=\"T_051cd_row0_col6\" class=\"data row0 col6\" >12.0%</td>\n",
       "    </tr>\n",
       "    <tr>\n",
       "      <td id=\"T_051cd_row1_col0\" class=\"data row1 col0\" >1</td>\n",
       "      <td id=\"T_051cd_row1_col1\" class=\"data row1 col1\" >1061</td>\n",
       "      <td id=\"T_051cd_row1_col2\" class=\"data row1 col2\" >58</td>\n",
       "      <td id=\"T_051cd_row1_col3\" class=\"data row1 col3\" >5.5%</td>\n",
       "      <td id=\"T_051cd_row1_col4\" class=\"data row1 col4\" >14.5%</td>\n",
       "      <td id=\"T_051cd_row1_col5\" class=\"data row1 col5\" >26.5%</td>\n",
       "      <td id=\"T_051cd_row1_col6\" class=\"data row1 col6\" >-12.0%</td>\n",
       "    </tr>\n",
       "  </tbody>\n",
       "</table>\n"
      ],
      "text/plain": [
       "<pandas.io.formats.style.Styler at 0x77195ca26cf0>"
      ]
     },
     "metadata": {},
     "output_type": "display_data"
    }
   ],
   "source": [
    "pagri_data_tools.analyze_anomaly_by_category(df, series_outliers, \"by_category\", \"avg_class_frequency_total\", \"churn\")"
   ]
  },
  {
   "cell_type": "markdown",
   "metadata": {},
   "source": [
    "**Наблюдения:**\n",
    "- Ушедших пользователей заметно ниже доля выбросов в среднем числе посещений с начала посещений."
   ]
  },
  {
   "cell_type": "code",
   "execution_count": 30,
   "metadata": {},
   "outputs": [
    {
     "data": {
      "text/html": [
       "<style type=\"text/css\">\n",
       "#T_55607 caption {\n",
       "  font-size: 18px;\n",
       "  text-align: left;\n",
       "  font-weight: bold;\n",
       "}\n",
       "</style>\n",
       "<table id=\"T_55607\">\n",
       "  <caption>Share in \"avg_class_frequency_current_month\" by category \"churn\"</caption>\n",
       "  <thead>\n",
       "    <tr>\n",
       "      <th id=\"T_55607_level0_col0\" class=\"col_heading level0 col0\" >churn</th>\n",
       "      <th id=\"T_55607_level0_col1\" class=\"col_heading level0 col1\" >total</th>\n",
       "      <th id=\"T_55607_level0_col2\" class=\"col_heading level0 col2\" >count</th>\n",
       "      <th id=\"T_55607_level0_col3\" class=\"col_heading level0 col3\" >count_in_total_pct</th>\n",
       "      <th id=\"T_55607_level0_col4\" class=\"col_heading level0 col4\" >count_in_sum_count_pct</th>\n",
       "      <th id=\"T_55607_level0_col5\" class=\"col_heading level0 col5\" >total_in_sum_total_pct</th>\n",
       "      <th id=\"T_55607_level0_col6\" class=\"col_heading level0 col6\" >diff_sum_pct</th>\n",
       "    </tr>\n",
       "  </thead>\n",
       "  <tbody>\n",
       "    <tr>\n",
       "      <td id=\"T_55607_row0_col0\" class=\"data row0 col0\" >0</td>\n",
       "      <td id=\"T_55607_row0_col1\" class=\"data row0 col1\" >2939</td>\n",
       "      <td id=\"T_55607_row0_col2\" class=\"data row0 col2\" >257</td>\n",
       "      <td id=\"T_55607_row0_col3\" class=\"data row0 col3\" >8.7%</td>\n",
       "      <td id=\"T_55607_row0_col4\" class=\"data row0 col4\" >64.2%</td>\n",
       "      <td id=\"T_55607_row0_col5\" class=\"data row0 col5\" >73.5%</td>\n",
       "      <td id=\"T_55607_row0_col6\" class=\"data row0 col6\" >-9.2%</td>\n",
       "    </tr>\n",
       "    <tr>\n",
       "      <td id=\"T_55607_row1_col0\" class=\"data row1 col0\" >1</td>\n",
       "      <td id=\"T_55607_row1_col1\" class=\"data row1 col1\" >1061</td>\n",
       "      <td id=\"T_55607_row1_col2\" class=\"data row1 col2\" >143</td>\n",
       "      <td id=\"T_55607_row1_col3\" class=\"data row1 col3\" >13.5%</td>\n",
       "      <td id=\"T_55607_row1_col4\" class=\"data row1 col4\" >35.8%</td>\n",
       "      <td id=\"T_55607_row1_col5\" class=\"data row1 col5\" >26.5%</td>\n",
       "      <td id=\"T_55607_row1_col6\" class=\"data row1 col6\" >9.2%</td>\n",
       "    </tr>\n",
       "  </tbody>\n",
       "</table>\n"
      ],
      "text/plain": [
       "<pandas.io.formats.style.Styler at 0x77195c8de2a0>"
      ]
     },
     "metadata": {},
     "output_type": "display_data"
    }
   ],
   "source": [
    "pagri_data_tools.analyze_anomaly_by_category(df, series_outliers, \"by_category\", \"avg_class_frequency_current_month\", \"churn\")"
   ]
  },
  {
   "cell_type": "markdown",
   "metadata": {},
   "source": [
    "**Наблюдения:**\n",
    "- У ушедших пользователей доля выбросов в количестве посещений в неделю за последний месяц заметно выше."
   ]
  },
  {
   "cell_type": "markdown",
   "metadata": {},
   "source": [
    "Посмотрим в одних и тех же ли строках выбросы в колоноках с выручкой от других услуг, средним количеством визитов в неделю за последний месяц и средним количеством визитов с первого появления"
   ]
  },
  {
   "cell_type": "code",
   "execution_count": null,
   "metadata": {},
   "outputs": [],
   "source": []
  },
  {
   "cell_type": "markdown",
   "metadata": {},
   "source": [
    "#### Изучение отрицательных значений\n"
   ]
  },
  {
   "cell_type": "markdown",
   "metadata": {},
   "source": [
    "ВАЖНО  \n",
    "Если у нас есть временная переменная, то нуно посмотреть количество дублей, выбросов, пропусков в столбце во времени.  \n",
    "Мы так сможем определить есть ли зависимсть от времени"
   ]
  },
  {
   "cell_type": "markdown",
   "metadata": {},
   "source": [
    "> Не забываем про ИИ.  \n",
    "> Пишем название столбца (именно что они значат, то есть образование, пол и прочее), говорим, что есть отрицательные значения там где их быть не должно.  \n",
    "> Обязательно приводим значения, самые характерные, чтобы дать ИИ болше информации.\n",
    "> И просим предложить причины этих отрицательных значений. Если видим важное, то используем для рекомендаций, выводов и замены отрицательных значений в предобработке.\n"
   ]
  },
  {
   "cell_type": "markdown",
   "metadata": {},
   "source": [
    "> Очень важно, если у нас есть столбец, в котором не должно быть отрицательных значений, то нам нужно отдельно изучить положительные и отрицательные значения.  \n",
    "> И те и те посмотреть по категориям.  \n",
    "> И на основе этого изучения мы моежм заметить причины отрицательных значений.  \n",
    "> Например, в колонке стажа у нас очень много отрицательных значений и есть положительные значения.  \n",
    "> Мы отдельно посмотрели отрицательные значения и они в основном принадлежат работающим людям.  \n",
    "> А положительные пренадлежат пенсионерам.  \n",
    "> Важно и полоительные и отрицательные значения посмотреть их макс и мин.  \n",
    "> Вот мы для стажа посмотрели макси и мин и видим, что отрицательные значения похожи на реальные значения в годах.  \n",
    "> А вот положительные слишком большие, и далее мы поняли, что это данные в часах.  \n",
    "> В итоге у нас уже много предположений, которые помогут выяснить откуда появляются странные данные в этом столбце.  \n",
    "> К тому же мы можем попробовать заменить отрицательные значения, если у нас есть уверенность на основе анализа.\n"
   ]
  },
  {
   "cell_type": "markdown",
   "metadata": {},
   "source": [
    "Изучим отрицательные значения в каждом столбце."
   ]
  },
  {
   "cell_type": "code",
   "execution_count": null,
   "metadata": {},
   "outputs": [],
   "source": [
    "series_negative = pagri_data_tools.find_columns_with_negative_values(df)"
   ]
  },
  {
   "cell_type": "markdown",
   "metadata": {},
   "source": [
    "> Определяем в каких колонках не должно быть орицательных значений.  \n",
    "> Колонки в которых допустимы отрицательные значения удаляем из `series_negative`\n"
   ]
  },
  {
   "cell_type": "markdown",
   "metadata": {},
   "source": [
    "> Изучим отрицательные значения в разрезе категорий\n"
   ]
  },
  {
   "cell_type": "markdown",
   "metadata": {},
   "source": [
    "> Смотрим на все поля  \n",
    "> in_category_pct говорит о том сколько в этом значении категории изучаемых значений  \n",
    "> in_column_pct говорит о том сколько процентов изучаемого значения данного значения категории в общем  \n",
    "> total_count_pct помогает анализировать in_column_pct, так как мы видим сколько занимает это значение в общем\n"
   ]
  },
  {
   "cell_type": "markdown",
   "metadata": {},
   "source": [
    "> когда изучаем по категориям, то смотрим на diff_sum_pct, тут логика такая -  \n",
    "нам нужно сравнить количество строк с пропусками в каждой категории, учитывая размер этой категории.  \n",
    "То есть если у нас категории например дорогие квартиры и дешевые (категориальная переменная нарпимер категория стоимости)  \n",
    "и в них соотношение пропусков 1000 к 500, а общее соотношение групп 700 на 800, то явно отличается количество.  \n",
    "Поэтому мы смотрим на отличия, и если они существенны, то делаем вывод, что категория влияет на пропуски.  \n",
    "Иначе пишем, что влияние не обнаружено.  "
   ]
  },
  {
   "cell_type": "markdown",
   "metadata": {},
   "source": [
    "> ВАЖНО - убедиться, что нет в ноутбуке `_gen_` (делаем ctrl+F и вбиваем `_gen_`)  \n",
    "ставим `_gen_` в том месте где хотим чтобы появились ячейки после работы в prep_dash  "
   ]
  },
  {
   "cell_type": "markdown",
   "metadata": {},
   "source": [
    "Строчку с созданием gen оставляем без is_dash, это для отчета,  \n",
    "И ниже пишем строчку с is_dash для создания dash app и потом ее удаляем"
   ]
  },
  {
   "cell_type": "code",
   "execution_count": null,
   "metadata": {},
   "outputs": [],
   "source": [
    "_gen_ "
   ]
  },
  {
   "cell_type": "code",
   "execution_count": null,
   "metadata": {},
   "outputs": [],
   "source": [
    "import sys\n",
    "sys.path.append('/home/pagri/git_repos/pagri_private_modules')\n",
    "import pagri_dash\n",
    "gen = pagri_data_tools.analyze_by_category_gen(df, series_negative, is_dash=True)\n",
    "pagri_dash.prep_dash(gen, \"/colab/pagri-projects/quarto/projects/housing-ads-investigation/housing_ads_investigation.ipynb\")"
   ]
  },
  {
   "cell_type": "markdown",
   "metadata": {},
   "source": [
    "#### Изучение нулевых значений\n"
   ]
  },
  {
   "cell_type": "markdown",
   "metadata": {},
   "source": [
    "ВАЖНО  \n",
    "Если у нас есть временная переменная, то нуно посмотреть количество дублей, выбросов, пропусков в столбце во времени.  \n",
    "Мы так сможем определить есть ли зависимсть от времени"
   ]
  },
  {
   "cell_type": "markdown",
   "metadata": {},
   "source": [
    "Помним, что важно выдвигать гипотезы и потом их проверять.   \n",
    "Например так  \n",
    "Выдвинем гипотезу, что 0 комнат у студий и однокомнатных.  \n",
    "Проверим гипотезу по полощади.  "
   ]
  },
  {
   "cell_type": "markdown",
   "metadata": {},
   "source": [
    "> Не забываем про ИИ.  \n",
    "> Пишем название столбца (именно что они значат, то есть образование, пол и прочее), говорим, что есть нули там, гед их быть не должно.  \n",
    "> И просим предложить причины этих нулей. Если видим важное, то используем для рекомендаций, выводов и замены нулей в предобработке.\n"
   ]
  },
  {
   "cell_type": "markdown",
   "metadata": {},
   "source": [
    "Изучим нулевые значения в каждом столбце."
   ]
  },
  {
   "cell_type": "code",
   "execution_count": null,
   "metadata": {},
   "outputs": [],
   "source": [
    "series_zeros = pagri_data_tools.find_columns_with_zeros_values(df)"
   ]
  },
  {
   "cell_type": "code",
   "execution_count": null,
   "metadata": {},
   "outputs": [],
   "source": [
    "df_na_in_both_columns = pagri_data_tools.check_zeros_in_both_columns(df, ['parks_around3000', 'ponds_around3000'])\n",
    "df_na_in_both_columns.sample(10)"
   ]
  },
  {
   "cell_type": "markdown",
   "metadata": {},
   "source": [
    "Посмотрим на нули в стоимости заказа"
   ]
  },
  {
   "cell_type": "code",
   "execution_count": null,
   "metadata": {},
   "outputs": [
    {
     "data": {
      "text/html": [
       "<div>\n",
       "<style scoped>\n",
       "    .dataframe tbody tr th:only-of-type {\n",
       "        vertical-align: middle;\n",
       "    }\n",
       "\n",
       "    .dataframe tbody tr th {\n",
       "        vertical-align: top;\n",
       "    }\n",
       "\n",
       "    .dataframe thead th {\n",
       "        text-align: right;\n",
       "    }\n",
       "</style>\n",
       "<table border=\"1\" class=\"dataframe\">\n",
       "  <thead>\n",
       "    <tr style=\"text-align: right;\">\n",
       "      <th></th>\n",
       "      <th>order_dt</th>\n",
       "      <th>revenue</th>\n",
       "      <th>uid</th>\n",
       "    </tr>\n",
       "  </thead>\n",
       "  <tbody>\n",
       "    <tr>\n",
       "      <th>1802</th>\n",
       "      <td>2017-06-22 18:19:00</td>\n",
       "      <td>0.00</td>\n",
       "      <td>17030528792926543083</td>\n",
       "    </tr>\n",
       "    <tr>\n",
       "      <th>2787</th>\n",
       "      <td>2017-07-07 15:54:00</td>\n",
       "      <td>0.00</td>\n",
       "      <td>10281425020415612933</td>\n",
       "    </tr>\n",
       "    <tr>\n",
       "      <th>4783</th>\n",
       "      <td>2017-08-02 14:54:00</td>\n",
       "      <td>0.00</td>\n",
       "      <td>184148767273119549</td>\n",
       "    </tr>\n",
       "    <tr>\n",
       "      <th>5095</th>\n",
       "      <td>2017-08-09 14:48:00</td>\n",
       "      <td>0.00</td>\n",
       "      <td>5603453646174104178</td>\n",
       "    </tr>\n",
       "    <tr>\n",
       "      <th>5863</th>\n",
       "      <td>2017-08-23 13:43:00</td>\n",
       "      <td>0.00</td>\n",
       "      <td>5603453646174104178</td>\n",
       "    </tr>\n",
       "  </tbody>\n",
       "</table>\n",
       "</div>"
      ],
      "text/plain": [
       "                order_dt  revenue                   uid\n",
       "1802 2017-06-22 18:19:00     0.00  17030528792926543083\n",
       "2787 2017-07-07 15:54:00     0.00  10281425020415612933\n",
       "4783 2017-08-02 14:54:00     0.00    184148767273119549\n",
       "5095 2017-08-09 14:48:00     0.00   5603453646174104178\n",
       "5863 2017-08-23 13:43:00     0.00   5603453646174104178"
      ]
     },
     "metadata": {},
     "output_type": "display_data"
    }
   ],
   "source": [
    "series_negative.revenue.head()"
   ]
  },
  {
   "cell_type": "markdown",
   "metadata": {},
   "source": [
    "Посмотрим есть ли зависимость от пользователей"
   ]
  },
  {
   "cell_type": "code",
   "execution_count": null,
   "metadata": {},
   "outputs": [
    {
     "data": {
      "text/html": [
       "<div>\n",
       "<style scoped>\n",
       "    .dataframe tbody tr th:only-of-type {\n",
       "        vertical-align: middle;\n",
       "    }\n",
       "\n",
       "    .dataframe tbody tr th {\n",
       "        vertical-align: top;\n",
       "    }\n",
       "\n",
       "    .dataframe thead th {\n",
       "        text-align: right;\n",
       "    }\n",
       "</style>\n",
       "<table border=\"1\" class=\"dataframe\">\n",
       "  <thead>\n",
       "    <tr style=\"text-align: right;\">\n",
       "      <th></th>\n",
       "      <th>revenue</th>\n",
       "    </tr>\n",
       "    <tr>\n",
       "      <th>uid</th>\n",
       "      <th></th>\n",
       "    </tr>\n",
       "  </thead>\n",
       "  <tbody>\n",
       "    <tr>\n",
       "      <th>2037345392173160982</th>\n",
       "      <td>12</td>\n",
       "    </tr>\n",
       "    <tr>\n",
       "      <th>5603453646174104178</th>\n",
       "      <td>6</td>\n",
       "    </tr>\n",
       "    <tr>\n",
       "      <th>8277558335454815700</th>\n",
       "      <td>6</td>\n",
       "    </tr>\n",
       "    <tr>\n",
       "      <th>4927261749585088199</th>\n",
       "      <td>4</td>\n",
       "    </tr>\n",
       "    <tr>\n",
       "      <th>5570343171257035973</th>\n",
       "      <td>4</td>\n",
       "    </tr>\n",
       "    <tr>\n",
       "      <th>2883839899480223178</th>\n",
       "      <td>2</td>\n",
       "    </tr>\n",
       "    <tr>\n",
       "      <th>184148767273119549</th>\n",
       "      <td>1</td>\n",
       "    </tr>\n",
       "    <tr>\n",
       "      <th>10281425020415612933</th>\n",
       "      <td>1</td>\n",
       "    </tr>\n",
       "    <tr>\n",
       "      <th>15254206642996645755</th>\n",
       "      <td>1</td>\n",
       "    </tr>\n",
       "    <tr>\n",
       "      <th>14973814017160376581</th>\n",
       "      <td>1</td>\n",
       "    </tr>\n",
       "  </tbody>\n",
       "</table>\n",
       "</div>"
      ],
      "text/plain": [
       "                      revenue\n",
       "uid                          \n",
       "2037345392173160982        12\n",
       "5603453646174104178         6\n",
       "8277558335454815700         6\n",
       "4927261749585088199         4\n",
       "5570343171257035973         4\n",
       "2883839899480223178         2\n",
       "184148767273119549          1\n",
       "10281425020415612933        1\n",
       "15254206642996645755        1\n",
       "14973814017160376581        1"
      ]
     },
     "metadata": {},
     "output_type": "display_data"
    }
   ],
   "source": [
    "series_negative.revenue.groupby('uid')[['revenue']].count().sort_values('revenue', ascending=False).head(10)"
   ]
  },
  {
   "cell_type": "markdown",
   "metadata": {},
   "source": [
    "**Наблюдения:**  \n",
    "\n",
    "- У пользователя с id 2037345392173160982 больше всего нулей в стоимости заказа."
   ]
  },
  {
   "cell_type": "markdown",
   "metadata": {},
   "source": [
    "> Определяем в каких колонках не должно быть нулевых значений.  \n",
    "> Колонки в которых допустимы нулевые значения удаляем из `series_negative`\n"
   ]
  },
  {
   "cell_type": "code",
   "execution_count": null,
   "metadata": {},
   "outputs": [
    {
     "data": {
      "text/plain": [
       "dob_years           children  days_employed  dob_years educ...\n",
       "dtype: object"
      ]
     },
     "metadata": {},
     "output_type": "display_data"
    }
   ],
   "source": [
    "series_zeros = series_zeros.drop('children')\n",
    "series_zeros = series_zeros.loc[['rooms', 'airports_nearest']]\n",
    "series_zeros"
   ]
  },
  {
   "cell_type": "markdown",
   "metadata": {},
   "source": [
    "> Изучим нулевые значения в разрезе категорий\n"
   ]
  },
  {
   "cell_type": "markdown",
   "metadata": {},
   "source": [
    "> когда изучаем по категориям, то смотрим на diff_sum_pct, тут логика такая -  \n",
    "нам нужно сравнить количество строк с пропусками в каждой категории, учитывая размер этой категории.  \n",
    "То есть если у нас категории например дорогие квартиры и дешевые (категориальная переменная нарпимер категория стоимости)  \n",
    "и в них соотношение пропусков 1000 к 500, а общее соотношение групп 700 на 800, то явно отличается количество.  \n",
    "Поэтому мы смотрим на отличия, и если они существенны, то делаем вывод, что категория влияет на пропуски.  \n",
    "Иначе пишем, что влияние не обнаружено.  "
   ]
  },
  {
   "cell_type": "markdown",
   "metadata": {},
   "source": [
    "> Смотрим на все поля  \n",
    "> in_category_pct говорит о том сколько в этом значении категории изучаемых значений  \n",
    "> in_column_pct говорит о том сколько процентов изучаемого значения данного значения категории в общем  \n",
    "> total_count_pct помогает анализировать in_column_pct, так как мы видим сколько занимает это значение в общем\n"
   ]
  },
  {
   "cell_type": "markdown",
   "metadata": {},
   "source": [
    "> ВАЖНО - убедиться, что нет в ноутбуке `_gen_` (делаем ctrl+F и вбиваем `_gen_`)  \n",
    "ставим `_gen_` в том месте где хотим чтобы появились ячейки после работы в prep_dash  "
   ]
  },
  {
   "cell_type": "markdown",
   "metadata": {},
   "source": [
    "Строчку с созданием gen оставляем без is_dash, это для отчета,  \n",
    "И ниже пишем строчку с is_dash для создания dash app и потом ее удаляем"
   ]
  },
  {
   "cell_type": "code",
   "execution_count": null,
   "metadata": {},
   "outputs": [],
   "source": [
    "_gen_ "
   ]
  },
  {
   "cell_type": "code",
   "execution_count": null,
   "metadata": {},
   "outputs": [],
   "source": [
    "import sys\n",
    "sys.path.append('/home/pagri/git_repos/pagri_private_modules')\n",
    "import pagri_dash\n",
    "gen = pagri_data_tools.analyze_by_category_gen(df, series_zeros, is_dash=True)\n",
    "pagri_dash.prep_dash(gen, \"/colab/pagri-projects/quarto/projects/housing-ads-investigation/housing_ads_investigation.ipynb\")"
   ]
  },
  {
   "cell_type": "markdown",
   "metadata": {},
   "source": [
    "> После изучения данных у нас могут возникнуть вопросы по определенным значениям, это возможно не выбросы,  \n",
    "> мы просто хотим подробнее их изучить.  \n",
    "> Для этого создаем датафрейм с нужными значениями и помещаем его в `Series`,  \n",
    "> индекс это название колонки, в которой мы изучаем выброс.  \n",
    "> Далее отдаем этот `Series` в функцию `analyze_by_category_gen`.  \n",
    "> Нужно сделать специальную функцию для этого, чтобы не использовать `analyze_by_category_gen`\n"
   ]
  },
  {
   "cell_type": "code",
   "execution_count": null,
   "metadata": {},
   "outputs": [],
   "source": [
    "check_series = pd.Series([df[df.col_for_check == value_for_check]], index=['col_for_check'])\n",
    "gen = pagri_data_tools.analyze_by_category_gen(df, check_series)\n",
    "next(gen)"
   ]
  },
  {
   "cell_type": "markdown",
   "metadata": {},
   "source": [
    "> Также мы можем изучить любые столбцы (или часть столбцов) по категориям.  \n",
    "> То есть мы изучаем как распределены элементы по категориям\n"
   ]
  },
  {
   "cell_type": "code",
   "execution_count": null,
   "metadata": {},
   "outputs": [],
   "source": [
    "check_series = pd.Series([df[df.col_for_check == value_for_check]], index=['col_for_check'])\n",
    "gen = pagri_data_tools.analyze_by_category_gen(df, check_series)\n",
    "next(gen)"
   ]
  },
  {
   "cell_type": "markdown",
   "metadata": {},
   "source": [
    "> Сделать функцию определения выбросов на основе машинного обучения\n"
   ]
  },
  {
   "cell_type": "markdown",
   "metadata": {},
   "source": [
    "> Дополнительные моменты, которые стоит проверить и изучить\n",
    "\n",
    "- Проверить на сложные выбросы, типа у нас есть статус и возраст и мы видим что студент имеет возраст 60 лет, это реально, но уже подозрительно.\n",
    "  > Вот таких моментов может быть много, но нужно додуматься, чтобы найти такие комбинации, но это важно делать.\n",
    "- важно проверить на корректность данные, то есть смотрим по отдельности каждый столбец и изучаем мин, макс, и другие параметры, и\n",
    "  > думаем, это физически реально. И особенно, когда у нас несколько связаных параметров, нет ли между ними противоречия.  \n",
    "  > Например, у нас есть дата показа рекламы и есть дата создания рекламы, естественно создание должно быть раньше, это нужно проверить.\n",
    "- Проверяем данные ошибки\n",
    "  > Ошибки которые не являются дублями, пропусками или выбросами.  \n",
    "  > Это сложно сделать, хотя бы заметить явные ошибки\n",
    "- Проверить на ошибки согласованности\n",
    "  > Например, у нас пользователь с одним ай ди имеет разные имена.\n",
    "  > `display(df.groupby('name')['age'].nunique())`\n",
    "- вообще нужно придумать разные проверки для колонок, особенно связанных. И провести эту проверку.\n"
   ]
  },
  {
   "cell_type": "markdown",
   "metadata": {},
   "source": [
    "### Промежуточный вывод\n"
   ]
  },
  {
   "cell_type": "markdown",
   "metadata": {},
   "source": [
    "> Из наблюдений собираем важные выводы\n"
   ]
  },
  {
   "cell_type": "markdown",
   "metadata": {},
   "source": [
    "Чтобы собрать все наблюдения используем это  \n",
    "нужно поставить `_pagristart_` где начало и `_pagriend_` где конец"
   ]
  },
  {
   "cell_type": "markdown",
   "metadata": {},
   "source": [
    "Не забываем удалить метки `_pagristart_` и `_pagriend_` "
   ]
  },
  {
   "cell_type": "code",
   "execution_count": null,
   "metadata": {},
   "outputs": [],
   "source": [
    "import IPython\n",
    "notebook_path = \"/\".join(\n",
    "        IPython.extract_module_locals()[1][\"__vsc_ipynb_file__\"].split(\"/\"))\n",
    "pagri_data_tools.collect_observations(notebook_path, '/home/pagri/git_repos/pagri-projects/quarto/projects/prospective_tariff_for_telecom/temp_for_report.ipynb')"
   ]
  },
  {
   "cell_type": "markdown",
   "metadata": {},
   "source": [
    "Тут помещаем все наблюдения про диапазоны столбцов, основные диапазон и медианы с модами.  \n",
    "Чтобы в конце скопировать отсюда и составить уже общий вывод.  "
   ]
  },
  {
   "cell_type": "markdown",
   "id": "portable-collect",
   "metadata": {},
   "source": [
    "> Принимаем решение, как именно мы будем проводить обработку, почему именно так, \\*зафиксировать рекомендации.  \n",
    "> То есть отвечаем на вопрос, что будем делать с выбросами, что будем делать с null.  \n",
    "> Будет идеально если тут зафиксировать рекомендации\n"
   ]
  },
  {
   "cell_type": "markdown",
   "metadata": {},
   "source": [
    "**Промежуточный вывод**\n",
    "\n",
    ">\n",
    "\n",
    "- **children** Присутствует 47 отрицательных значений с \"-1\", а также аномалия в виде 20 детей ...\n",
    "- **days_employed** Большая часть данных стобца со знаком \"-\". Однако, эти данные представляют из себя 84% всей выборки. ... будут заменены на .. исходя из определенного критерия, который будет описан далее.\n",
    "  > - Причины пропущенных значений в столбцах **days_employed** и **income**:\n",
    "  >   - Во-первых, это может быть из-за неправильной выгрузки данных. Оставим это предположение до того момента, пока не убедимся в неверности других предположений.**Наиболее вероятно**\n",
    "  >   - Во-вторых, одной из гипотез было предположение об отсутствии трудового опыта у данной части выборки. Однако, если распределение по возрасту в данной группе равномерное по всем возрастам выборки. Также большая доля этой части выборки трудоустроена. **Гипотеза не подтверждена**\n",
    "  >   - В-третьих, возможно, что эта часть выборки не имеет официального трудоустройства. Данная гипотеза вызывает сомнение в связи с тем, что при наличии достаточно большого стажа работы у представителей выборки у ее представителей нет официального трудового стажа. К тому же 18.9% данной выборки являются госслужащими. **Гипотез не подтверждена**\n",
    "- **age** .. 0 возраст у 101 человека.\n",
    "- **education & education_id** Необходимо будет привести данную категорийнуй переменную к общему виду. Избавиться от разного регистра. Но можно не тратить на это время и использовать следующий столбец **education_id**. Это позволит использовать меньше памяти и не повлияет на качество анализа.\n",
    "- ...\n"
   ]
  },
  {
   "cell_type": "markdown",
   "metadata": {},
   "source": [
    "## Предобработка данных\n"
   ]
  },
  {
   "cell_type": "markdown",
   "metadata": {},
   "source": [
    "ВАЖНО  \n",
    "Удалять значения нужно по одной колонке.  \n",
    "Чтобы контролировать скоько занчений мы должны удалить и сколько удалили.  \n",
    "Иначе, если мы будем удалять сразу в нескольких полях, то мы не сможем точно убедиться, что не удалили лишние значения."
   ]
  },
  {
   "cell_type": "markdown",
   "metadata": {},
   "source": [
    "ВАЖНО  \n",
    "помним, что когда мы удаляем записи  \n",
    "`df = df[df.column > 0]`\n",
    "то удаляются `na`  \n",
    "поэтому нужно делать так  \n",
    "`df = df[~(df.column <= 0)]`"
   ]
  },
  {
   "cell_type": "markdown",
   "metadata": {},
   "source": [
    "Сразу записываем в файл что заменили и что удалили для промежуточного вывода.  "
   ]
  },
  {
   "cell_type": "markdown",
   "metadata": {},
   "source": [
    "для некоторых пропущенных значений можно предположить логичную замену. Например, если человек не указал число балконов — скорее всего, их нет.   \n",
    "Такие пропуски правильно заменить на 0. Для других типов данных нет подходящего значения на замену.   \n",
    "В этом случае правильно оставить эти значения пустыми. Отсутствие значения — тоже важный сигнал, который не нужно прятать;"
   ]
  },
  {
   "cell_type": "markdown",
   "metadata": {},
   "source": [
    "> Важно, когда удаляем строки, то делаем сброс индекса\n"
   ]
  },
  {
   "cell_type": "code",
   "execution_count": null,
   "metadata": {},
   "outputs": [],
   "source": [
    ".reset_index(drop=True)"
   ]
  },
  {
   "cell_type": "markdown",
   "metadata": {},
   "source": [
    "> Не забываем про ИИ  \n",
    "> Когда мы проводим предобработку данных, то первый вопрос мы себе задать следующий\n",
    "> Какава вероятнсоть, что это является истиной? Если вероятнсоть ниже 60 прцоентов, то это делать не стоти и может лучше оставить как есть или не трогать этот столбец.  \n",
    "> Например, у нас дубли или отрицательные значеия и мы выдвинули гипотезу, что это просто неправильный знак и хотим взять модель числа.  \n",
    "> Но если мы подумаем, а высокая ли вероятность, что число просто с неверным знаком, то вероятнсот этого низкая.  \n",
    "> Поэтому это делать не нужно.  \n",
    "> Другое дело у нас датафрейме 1 прцоент полных дублей и при этом у нас есть достаточно точные колонки типа зарплаты с точностью до рублей или стаж в днях.  \n",
    "> Вот тут мы можем с высокой вероятностью утверждать, что это дубли, так как мало вероятно что будет две записи настолько точно совпадать.  \n",
    "> Поэтому сначала думаем насколько вероятна та гипотеза, которую мы выдвинули и хотим по ней изменить наши данные.  \n",
    "> Тут лучше придерживаться правила не навреди.\n"
   ]
  },
  {
   "cell_type": "markdown",
   "metadata": {},
   "source": [
    "> Когда удаляем значения из категориальных столбцов pandas, и в этом столбце нет больше таких занчений, которые удалил.  \n",
    "> То нужно удалить это значение из категории\n"
   ]
  },
  {
   "cell_type": "code",
   "execution_count": null,
   "metadata": {},
   "outputs": [],
   "source": [
    "df.drop(df[df.gender == 'XNA'].index, inplace=True)\n",
    "df['gender'] = df['gender'].cat.remove_unused_categories()\n",
    "df.value_counts(dropna=False)"
   ]
  },
  {
   "cell_type": "code",
   "execution_count": null,
   "metadata": {},
   "outputs": [],
   "source": [
    "df.shape[0]"
   ]
  },
  {
   "cell_type": "markdown",
   "metadata": {},
   "source": [
    "### Предварительная фильтрация данных\n"
   ]
  },
  {
   "cell_type": "markdown",
   "metadata": {},
   "source": [
    "> Если у нас датасет за год, например, и первый или последний месяц неполные, то их лучше выбрасить, если мы будем  \n",
    "> расчитывать месячные метрики.  \n",
    "> Но сначала конечно нужно проанализировать столбцы без обрезания, чтобы убедиться, что там нет ничего необычного.\n"
   ]
  },
  {
   "cell_type": "markdown",
   "metadata": {},
   "source": [
    "ВАЖЖО  \n",
    "Посмотреть насколько репрезентативные данные за все периоды.  \n",
    "Если у нас данные по годам, например, то посмотреть возможно до определенного года данных мало.  \n",
    "Или картина меняется в какой-то момент (причем это может быть не связано с данными, а просто с изменением разных факторов).\n",
    "Желательно либо разделить датафрейма на несколько, либо отбросить нерелевантные периоды.  \n",
    "Так как важно, чтобы во время анализа данные были репрезентативными."
   ]
  },
  {
   "cell_type": "markdown",
   "metadata": {},
   "source": [
    "Данные до 90-х годов несущественны для анализа, поскольку занимают ничтожную часть от последующих данных, в дальнейшем мы не будем использовать их для исследования."
   ]
  },
  {
   "cell_type": "markdown",
   "metadata": {},
   "source": [
    "Оставим только нужные столбцы для дальнейшего анализа."
   ]
  },
  {
   "cell_type": "markdown",
   "metadata": {},
   "source": [
    "Крайне маленький процент игр выпускался в период с 1980 до ~1994. Потому в рамках анализа мы не будем брать этот период для сравнения. Пик выпуска игр приходится на 2007-2011 год."
   ]
  },
  {
   "cell_type": "markdown",
   "metadata": {},
   "source": [
    "> Сохраним исходный датафрейм в переменную df_origin, чтобы была возможность вернуться к нему\n"
   ]
  },
  {
   "cell_type": "code",
   "execution_count": null,
   "metadata": {},
   "outputs": [],
   "source": [
    "df_origin = df.copy()"
   ]
  },
  {
   "cell_type": "markdown",
   "metadata": {},
   "source": [
    "> Удаляем ненужные столбцы\n"
   ]
  },
  {
   "cell_type": "code",
   "execution_count": null,
   "metadata": {},
   "outputs": [],
   "source": [
    "df = df.drop(['col1', 'col2'], axis=1)\n",
    "df.head(1)"
   ]
  },
  {
   "cell_type": "markdown",
   "metadata": {},
   "source": [
    "- Думаем, какие колонки нам нужны, выбираем только их для дальнейшей работы.\n",
    "  > Остальные убираем в другой датасет.\n",
    "- Важно после изученя данных сначала убрать не нужные столбцы, а потом уже заниматься преобразованием (удалением пропусков и выбросов).\n",
    "  > Думаем прежде чем удалять строки, так как возможно лучше удалить столбец и строки удалять будет не нужно.\n",
    "- Пишем почему выбираем определенные столбцы\n"
   ]
  },
  {
   "cell_type": "markdown",
   "metadata": {},
   "source": [
    "### Обработка выбросов\n"
   ]
  },
  {
   "cell_type": "markdown",
   "metadata": {},
   "source": [
    "> Не забываем про нулевые значения и отрицательный.  \n",
    "> В столбцах, где их быть не должно, они являются выбросами.\n"
   ]
  },
  {
   "cell_type": "markdown",
   "metadata": {},
   "source": [
    "> С обработкай нулевых и отрицательных значений нужно быть внимательным.  \n",
    "> Нужно сначала хорошо подумать, откуда могло это появиться,  \n",
    "> тут поможет анализ этих значений в предыдущей главе.  \n",
    "> Думаем откуад появилось отрицательное или нулевое занчение,  \n",
    "> и если у нас есть гипотезы, которые похожи на правду (мы думаем что вероятность их истины больше 60%),  \n",
    "> то мы обрабатываем их исходя из гипотезы.  \n",
    "> Например, -1 часто бывает как отсутсвие чего-то, то есть мы в зависимости от контекста можем заменить его на 0.\n"
   ]
  },
  {
   "cell_type": "markdown",
   "metadata": {},
   "source": [
    "> Важно каждый раз, когда мы удаляем что-то из датафрейма, то убедиться, что мы удалили столько строк, сколько и хотели.  \n",
    "> Для этого выводим размер датафрейма до удаления.  \n",
    "> Смотрим сколько строк мы хотим удалить.  \n",
    "> Далее не сохраняя в датафрейм удаляем строки и смотрим верный ли итоговый размер.  \n",
    "> Если все верно, то удаляем уже с сохранением.\n"
   ]
  },
  {
   "cell_type": "markdown",
   "metadata": {},
   "source": [
    "> Не забываем, что выбросы мы также можем заменять на медианные значения.\n"
   ]
  },
  {
   "cell_type": "markdown",
   "metadata": {},
   "source": [
    "> Посмотрим где у нас отрицательные значения\n"
   ]
  },
  {
   "cell_type": "code",
   "execution_count": null,
   "metadata": {},
   "outputs": [],
   "source": [
    "pagri_data_tools.check_negative_value_in_df(df)"
   ]
  },
  {
   "cell_type": "code",
   "execution_count": null,
   "metadata": {},
   "outputs": [
    {
     "data": {
      "text/plain": [
       "21525"
      ]
     },
     "metadata": {},
     "output_type": "display_data"
    }
   ],
   "source": [
    "df.shape[0]"
   ]
  },
  {
   "cell_type": "code",
   "execution_count": null,
   "metadata": {},
   "outputs": [
    {
     "data": {
      "text/plain": [
       "21478"
      ]
     },
     "metadata": {},
     "output_type": "display_data"
    }
   ],
   "source": [
    "df = df[df.children >= 0]\n",
    "df.shape[0]"
   ]
  },
  {
   "cell_type": "markdown",
   "metadata": {},
   "source": [
    "> Посмотрим где у нас нулевые значения\n"
   ]
  },
  {
   "cell_type": "code",
   "execution_count": null,
   "metadata": {},
   "outputs": [],
   "source": [
    "pagri_data_tools.check_zeros_value_in_df(df)"
   ]
  },
  {
   "cell_type": "markdown",
   "metadata": {},
   "source": [
    "> Обрабатываем нулевые и отрицательные значения, затем снова проверяем\n"
   ]
  },
  {
   "cell_type": "code",
   "execution_count": null,
   "metadata": {},
   "outputs": [
    {
     "data": {
      "text/html": [
       "<div>\n",
       "<style scoped>\n",
       "    .dataframe tbody tr th:only-of-type {\n",
       "        vertical-align: middle;\n",
       "    }\n",
       "\n",
       "    .dataframe tbody tr th {\n",
       "        vertical-align: top;\n",
       "    }\n",
       "\n",
       "    .dataframe thead th {\n",
       "        text-align: right;\n",
       "    }\n",
       "</style>\n",
       "<table border=\"1\" class=\"dataframe\">\n",
       "  <thead>\n",
       "    <tr style=\"text-align: right;\">\n",
       "      <th></th>\n",
       "      <th>negative</th>\n",
       "    </tr>\n",
       "  </thead>\n",
       "  <tbody>\n",
       "  </tbody>\n",
       "</table>\n",
       "</div>"
      ],
      "text/plain": [
       "Empty DataFrame\n",
       "Columns: [negative]\n",
       "Index: []"
      ]
     },
     "metadata": {},
     "output_type": "display_data"
    }
   ],
   "source": [
    "pagri_data_tools.check_negative_value_in_df(df)"
   ]
  },
  {
   "cell_type": "code",
   "execution_count": null,
   "metadata": {},
   "outputs": [
    {
     "data": {
      "text/html": [
       "<div>\n",
       "<style scoped>\n",
       "    .dataframe tbody tr th:only-of-type {\n",
       "        vertical-align: middle;\n",
       "    }\n",
       "\n",
       "    .dataframe tbody tr th {\n",
       "        vertical-align: top;\n",
       "    }\n",
       "\n",
       "    .dataframe thead th {\n",
       "        text-align: right;\n",
       "    }\n",
       "</style>\n",
       "<table border=\"1\" class=\"dataframe\">\n",
       "  <thead>\n",
       "    <tr style=\"text-align: right;\">\n",
       "      <th></th>\n",
       "      <th>zeros</th>\n",
       "    </tr>\n",
       "  </thead>\n",
       "  <tbody>\n",
       "  </tbody>\n",
       "</table>\n",
       "</div>"
      ],
      "text/plain": [
       "Empty DataFrame\n",
       "Columns: [zeros]\n",
       "Index: []"
      ]
     },
     "metadata": {},
     "output_type": "display_data"
    }
   ],
   "source": [
    "pagri_data_tools.check_zeros_value_in_df(df)"
   ]
  },
  {
   "cell_type": "markdown",
   "metadata": {},
   "source": [
    "> Также нужно обработать выбросы, которые мы обнаружили при изучении данных.  \n",
    "> Это могут быть любые колонки со значениями, которые не моут быть в реальности.\n"
   ]
  },
  {
   "cell_type": "markdown",
   "metadata": {},
   "source": [
    "> Нужно сначала обработать выбросы, а потом уже обрабатываться пропуски.  \n",
    "> Так как мы заоплняем пропуски, учитывая значения в колонке, которые возможно мы потом удалим.\n"
   ]
  },
  {
   "cell_type": "markdown",
   "metadata": {},
   "source": [
    "- Помним про нулевые и отрицательные значения\n",
    "- Нулевые значения, отрицательные значения являются выбросами, если они не могут быть у этой колонки.\n",
    "- Очень важно понимать, когда выброс можно отбросить и он реально выброс и когда нельзя.\n",
    "  > Опираемся на физику параметра, думаем это значение физически возможно.\n",
    "- Также выброс может казаться выбрасом, но для бизнеса это не выброс.\n",
    "  > Например у нас суммы покупок и одна покупка сильно выделяется, а там просто человек купил супе дорогой каньяк, например.\n",
    "- Когда хотим обрезать выбросы, то думаем, какой порог может быть физически реальным и по нему режем, а не просто так берем какой-то перцентиль.\n",
    "  > Всегда нужно думать с точки зрения физического возможного значения параметра и по нему резать (подумать а какое значение может быть максимально реальным и по нему обрезать)\n",
    "- Если мы имеем дело со строгой отчестностью, то выбросы убирать нельзя, нужно разобраться откуда они.\n",
    "- Если мы не можем с увереностью сказать, что это выброс, то нам не стоит его выкидывать, но работать как то нужно с ними,\n",
    "  > тогда, логарифмируем (лучше использовать натуральный логарифм) эту колонку и работаем с такими значениями (тогда выбросы сожмуться).\n"
   ]
  },
  {
   "cell_type": "markdown",
   "metadata": {},
   "source": [
    "> После удаления выбрасов, можно снова выполнить пункт про изучение выбрасов, так как выбросы могут появиться новые,  \n",
    "> если у нас например выбросы были слишком нереальные значения, когда мы от них избавимся, будет лучше видно другое\n"
   ]
  },
  {
   "cell_type": "markdown",
   "metadata": {},
   "source": [
    "### Обработка пропусков\n"
   ]
  },
  {
   "cell_type": "markdown",
   "metadata": {},
   "source": [
    "ВАЖНО  \n",
    "категориальные переменные с пропусков заменяем на что-то типа другое  \n",
    "Даже если пропусков много.  \n",
    "Это важно, так как когда смотрим на колонки с пропуском, то можем забыть, что определенные колонки категориальные,  \n",
    "и на них не распрастраняется правило, что больше 20 процентов пропусков не трогаем."
   ]
  },
  {
   "cell_type": "markdown",
   "metadata": {},
   "source": [
    "> Важно помнить, что пропус может быть вызван тем, что во измежании дублирования строк, при созаднии сводной таблицы,  \n",
    "> занчения не повторяются, а если потом эту таблицу куда то отправить, то там эти пропуски могут стать null  \n",
    "> Поэтому сначала смотрим последовательно на значения и думаем, не может ли это быть таким случаем.  \n",
    "> Это могут быть даты, которые идут подряд и меду ними пропуски.  \n",
    "> Или список названий четко по порядоку и между ними пропуски, это может быть вызвано как раз последствием создания сводной таблицы.  \n",
    "> В пандас это видно, когда мы группируем строки, у нас в индексе дубли не пишуться, но пандас занчет, что там есть занчения,  \n",
    "> но после импорта куда-то там могут не продублироваться значения и возникнут пропуски.\n"
   ]
  },
  {
   "cell_type": "markdown",
   "metadata": {},
   "source": [
    "> Прежде чем обрабатывать пропуски, нужно подумать а можем ли мы их заменить исходя из имеющихся столбцов.  \n",
    "> Например, у нас есть столбец с пропусками возраст, и есть стаж,  \n",
    "> мы можем возраст заменить так стаж + 18 + 5  \n",
    "> Аналогично другие ситуации нужно сообразить как можно заменить пропуски.  \n",
    "> И только если нет идей, тогда уже заменяем на медиану, например, по группам.\n"
   ]
  },
  {
   "cell_type": "markdown",
   "metadata": {},
   "source": [
    "ВАЖНО  \n",
    "Если у нас в данных есть временные ряды, то можно использовать заполнение соседними значениями «из прошлого». Когда у вас есть привязка ко времени и один из параметров присутствует в данных с меньшей частотой, чем другие, тогда применяется fillna() с параметром 'method'='ffill'. Здесь мы справедливо предполагаем, что отсутствующие значения стоит заполнять значениями «из прошлого»"
   ]
  },
  {
   "cell_type": "code",
   "execution_count": null,
   "metadata": {},
   "outputs": [],
   "source": [
    "pagri_data_tools.check_missed_value_in_df(df)"
   ]
  },
  {
   "cell_type": "code",
   "execution_count": null,
   "metadata": {},
   "outputs": [],
   "source": [
    "df = df.dropna(subset='name')\n",
    "df.shape[0]"
   ]
  },
  {
   "cell_type": "markdown",
   "metadata": {},
   "source": [
    "Заменим прпоуски в категориальных переменных.  "
   ]
  },
  {
   "cell_type": "markdown",
   "metadata": {},
   "source": [
    "В рейтинге заменим пропуски на значение 'не указано'"
   ]
  },
  {
   "cell_type": "code",
   "execution_count": null,
   "metadata": {},
   "outputs": [],
   "source": [
    "df.rating.value_counts(dropna=False)"
   ]
  },
  {
   "cell_type": "code",
   "execution_count": null,
   "metadata": {},
   "outputs": [],
   "source": [
    "df['rating'] = df['rating'].cat.add_categories(['не указано'])\n",
    "df['rating'] = df['rating'].fillna('не указано')"
   ]
  },
  {
   "cell_type": "code",
   "execution_count": null,
   "metadata": {},
   "outputs": [],
   "source": [
    "df.rating.value_counts(dropna=False)"
   ]
  },
  {
   "cell_type": "markdown",
   "metadata": {},
   "source": [
    "> Если решии заменять прпоуски значениями, учитывая категории, то нужно убедиться, что размер этих категорий достаточный.\n"
   ]
  },
  {
   "cell_type": "markdown",
   "metadata": {},
   "source": [
    "> Посмотрим размеры групп, если заменять внутри этих групп\n"
   ]
  },
  {
   "cell_type": "code",
   "execution_count": null,
   "metadata": {},
   "outputs": [],
   "source": [
    "category_columns = ['education', 'family_status', 'gender', 'income_type']\n",
    "value_column = 'total_income'\n",
    "pagri_data_tools.check_group_count(df, category_columns, value_column)"
   ]
  },
  {
   "cell_type": "markdown",
   "metadata": {},
   "source": [
    "> Заполним пропуски в группах от 10 элементов\n"
   ]
  },
  {
   "cell_type": "code",
   "execution_count": null,
   "metadata": {},
   "outputs": [],
   "source": [
    "df[value_column] = pagri_data_tools.fill_na_with_function_by_categories(df, category_columns, value_column, func='median', minimal_group_size=10)"
   ]
  },
  {
   "cell_type": "markdown",
   "metadata": {},
   "source": [
    "> Проверим сколько у нас осталось пропусков\n"
   ]
  },
  {
   "cell_type": "code",
   "execution_count": null,
   "metadata": {},
   "outputs": [],
   "source": [
    "pagri_data_tools.check_missed_value_in_df(df)"
   ]
  },
  {
   "cell_type": "markdown",
   "metadata": {},
   "source": [
    "> Если пропуски остались, то убираем какую-нибудь категорию и повторяем.\n"
   ]
  },
  {
   "cell_type": "markdown",
   "id": "dried-general",
   "metadata": {},
   "source": [
    "> что-то изменили - > посмотрели не изменилось ли количество дублей  \n",
    "> `check_duplicated`\n"
   ]
  },
  {
   "cell_type": "code",
   "execution_count": null,
   "metadata": {},
   "outputs": [],
   "source": [
    "pagri_data_tools.check_duplicated()"
   ]
  },
  {
   "cell_type": "markdown",
   "metadata": {},
   "source": [
    "> Увидели пропуск — подумайте, нормально ли это. Сколько вообще пропусков может быть в этом столбце?  \n",
    "> К примеру, в списке с электронными адресами пользователей, согласных на рассылку, будет много пропусков. Далеко не все предоставляют email.\n"
   ]
  },
  {
   "cell_type": "markdown",
   "metadata": {},
   "source": [
    "> Можно использвоать такой подход\n",
    "\n",
    "- если количество пропусков меньше 5 процентов, то удаляем (лучше меньше 1 процента)\n",
    "- если количество пропусков от 5 до 20 процентов, то подбираем чем заменить, удалять не стоит\n",
    "- если больше 20 процентов, то не трогаем, так как исказим\n"
   ]
  },
  {
   "cell_type": "markdown",
   "metadata": {},
   "source": [
    "> Но оставляя пропуски, нам нужно помнить, что мы не можем по этим полям считать корреляцию с другими,  \n",
    "> так как пропуски испортят расчет коэффициента корреляции. Аналогично другие метрики могут считаться некорректно.  \n",
    "> Поэтому, если мы будем считать показатели по столбцу с пропусками, то их нужно либо убирать, либо этот столбец не использовать для расчетов.\n"
   ]
  },
  {
   "cell_type": "markdown",
   "metadata": {},
   "source": [
    "> Для категориальных переменных оставлять пропуски нельзя, так как мы скорее всего будем группировать по ним и смотреть разные разрезы.  \n",
    "> Поэтому в худшем случае, если не можем ничем заменить, и нет уверености, что пропуск можно заполнить пустой строкой (если значения физически нет),  \n",
    "> то создаем категорию например `other` из пропусков.\n"
   ]
  },
  {
   "cell_type": "markdown",
   "metadata": {},
   "source": [
    "> Если у нас пропуски в категориальной переменной и есть разные периоды или просто данные разбиты на части (то есть эта категориальная переменная повторяется),  \n",
    "> то мы можем взять ещё какую-нибудь переменную, у которой нет пропусков, где пропуски у первой переменной и далее посмотреть другие периоды  \n",
    "> Таким образом у нас будет предыдущий период, где будет занчение второй переменной и первой и если в нескольких периодах они одинаковые, то мы можем  \n",
    "> заполнить и пропуски этим значением.  \n",
    "> Ещё раз схема такая - берем 2 поля одно с пропусками, другое без, получаем новую таблицу, в этой таблице оставляем только униклаьные значения в поле без пропусков,  \n",
    "> по этому полю будем джойнить. Далее в основнйо таблице дропаем описание и создаем новое описание из таблицы справочника.  \n",
    "> `fill_missing_values_using_helper_column`\n"
   ]
  },
  {
   "cell_type": "code",
   "execution_count": null,
   "metadata": {},
   "outputs": [],
   "source": [
    "pagri_data_tools.fill_missing_values_using_helper_column()"
   ]
  },
  {
   "cell_type": "markdown",
   "metadata": {},
   "source": [
    "> Заполняем пропуски учитвая категории  \n",
    "> `fill_na_with_function_by_categories`\n"
   ]
  },
  {
   "cell_type": "markdown",
   "metadata": {},
   "source": [
    "> Важно следить, чтобы категории, по которым будем заполнять пропуски были обработаны.  \n",
    "> Если у нас в категориальной переменной есть значение с большой буквы и с маленькой, то это одна категория,  \n",
    "> но замена будет идити по двум, чтобы такого не было, нужно сначала обработать категориальную переменную.\n"
   ]
  },
  {
   "cell_type": "markdown",
   "metadata": {},
   "source": [
    "> Также важно, чтобы в группах по которым мы будем считать значение для заополения было достаточно значений  \n",
    "> для выбранной функции.  \n",
    "> Например, если мы решили брать среднее, а в группе у нас 5 значений, то среди них может быть выброс и наше среднее будет некорректно.  \n",
    "> Лучше в такой ситуации брать группу побольше для этих микрогрупп.  \n",
    "> В идеале группы должны быть от 30 элементов.\n"
   ]
  },
  {
   "cell_type": "markdown",
   "metadata": {},
   "source": [
    "> Можно посмотреть какой процент группах без значений\n"
   ]
  },
  {
   "cell_type": "code",
   "execution_count": null,
   "metadata": {},
   "outputs": [],
   "source": [
    "temp = df.groupby(['education', 'family_status', 'gender', 'income_type'])['total_income'].sum()\n",
    "(temp == 0).sum() * 100 / temp.size"
   ]
  },
  {
   "cell_type": "code",
   "execution_count": null,
   "metadata": {},
   "outputs": [],
   "source": []
  },
  {
   "cell_type": "code",
   "execution_count": null,
   "metadata": {},
   "outputs": [],
   "source": [
    "pagri_data_tools.fill_na_with_function_by_categories()"
   ]
  },
  {
   "cell_type": "markdown",
   "metadata": {},
   "source": [
    "> Сделать функцию заполнения пропусков с помощью машинного обучения\n"
   ]
  },
  {
   "cell_type": "markdown",
   "metadata": {},
   "source": [
    "> После удаления пропусков и выбросов желательно проверить какой прцоент строк мы удалили.\n"
   ]
  },
  {
   "cell_type": "markdown",
   "metadata": {},
   "source": [
    "### Обработка дубликатов\n"
   ]
  },
  {
   "cell_type": "markdown",
   "metadata": {},
   "source": [
    "> Все значения в колонках во всех таблицах нужно привести к нижнему регистру и по возможности к одному языку,  \n",
    "> для перевода к одному языку можно использовать словарь, с помощью которого изменить неправильный язык  \n",
    "> Это нужно, чтобы когда будем соединять таблицы, у нас условие соеденения правильно сравнивало равные значения.\n"
   ]
  },
  {
   "cell_type": "markdown",
   "metadata": {},
   "source": [
    "> Можно посмотреть снвоа на дубликаты после обработки пропусков.\n"
   ]
  },
  {
   "cell_type": "markdown",
   "metadata": {},
   "source": [
    "> `check_duplicated`  \n",
    "> `find_columns_with_duplicates`  \n",
    "> `check_duplicated_combinations_gen`  \n",
    "> `get_duplicates_value_proportion_by_category`  \n",
    "> В первую функцию можно передавать весь датафрейм и можно выбирать нужные столбцы для проверки на дубли и передавать их.\n"
   ]
  },
  {
   "cell_type": "code",
   "execution_count": null,
   "metadata": {},
   "outputs": [],
   "source": [
    "pagri_data_tools.check_duplicated()"
   ]
  },
  {
   "cell_type": "code",
   "execution_count": null,
   "metadata": {},
   "outputs": [],
   "source": [
    "pagri_data_tools.check_duplicated_value_in_df(df)"
   ]
  },
  {
   "cell_type": "code",
   "execution_count": null,
   "metadata": {},
   "outputs": [],
   "source": [
    "pagri_data_tools.find_columns_with_duplicates()"
   ]
  },
  {
   "cell_type": "markdown",
   "metadata": {},
   "source": [
    "> Заполним пропуски в группах от 10 элементов\n"
   ]
  },
  {
   "cell_type": "code",
   "execution_count": null,
   "metadata": {},
   "outputs": [],
   "source": [
    "df[value_column] = pagri_data_tools.fill_na_with_function_by_categories(df, category_columns, value_column, func='median', minimal_group_size=10)"
   ]
  },
  {
   "cell_type": "code",
   "execution_count": null,
   "metadata": {},
   "outputs": [
    {
     "data": {
      "text/html": [
       "<div>\n",
       "<style scoped>\n",
       "    .dataframe tbody tr th:only-of-type {\n",
       "        vertical-align: middle;\n",
       "    }\n",
       "\n",
       "    .dataframe tbody tr th {\n",
       "        vertical-align: top;\n",
       "    }\n",
       "\n",
       "    .dataframe thead th {\n",
       "        text-align: right;\n",
       "    }\n",
       "</style>\n",
       "<table border=\"1\" class=\"dataframe\">\n",
       "  <thead>\n",
       "    <tr style=\"text-align: right;\">\n",
       "      <th></th>\n",
       "      <th>missed</th>\n",
       "    </tr>\n",
       "  </thead>\n",
       "  <tbody>\n",
       "    <tr>\n",
       "      <th>total_income</th>\n",
       "      <td>63 (0.3%)</td>\n",
       "    </tr>\n",
       "  </tbody>\n",
       "</table>\n",
       "</div>"
      ],
      "text/plain": [
       "                 missed\n",
       "total_income  63 (0.3%)"
      ]
     },
     "metadata": {},
     "output_type": "display_data"
    }
   ],
   "source": [
    "pagri_data_tools.check_missed_value_in_df(df)"
   ]
  },
  {
   "cell_type": "markdown",
   "metadata": {},
   "source": [
    "Если у нас есть строки, которые нужно объеденить, то делаем так"
   ]
  },
  {
   "cell_type": "markdown",
   "metadata": {},
   "source": [
    "Объеденим задублированные строки для игры Madden NFL 13"
   ]
  },
  {
   "cell_type": "code",
   "execution_count": null,
   "metadata": {},
   "outputs": [
    {
     "data": {
      "text/plain": [
       "16443"
      ]
     },
     "metadata": {},
     "output_type": "display_data"
    }
   ],
   "source": [
    "df.shape[0]"
   ]
  },
  {
   "cell_type": "code",
   "execution_count": null,
   "metadata": {},
   "outputs": [
    {
     "data": {
      "text/html": [
       "<div>\n",
       "<style scoped>\n",
       "    .dataframe tbody tr th:only-of-type {\n",
       "        vertical-align: middle;\n",
       "    }\n",
       "\n",
       "    .dataframe tbody tr th {\n",
       "        vertical-align: top;\n",
       "    }\n",
       "\n",
       "    .dataframe thead th {\n",
       "        text-align: right;\n",
       "    }\n",
       "</style>\n",
       "<table border=\"1\" class=\"dataframe\">\n",
       "  <thead>\n",
       "    <tr style=\"text-align: right;\">\n",
       "      <th></th>\n",
       "      <th>name</th>\n",
       "      <th>platform</th>\n",
       "      <th>year_of_release</th>\n",
       "      <th>genre</th>\n",
       "      <th>na_sales</th>\n",
       "      <th>eu_sales</th>\n",
       "      <th>jp_sales</th>\n",
       "      <th>other_sales</th>\n",
       "      <th>critic_score</th>\n",
       "      <th>user_score</th>\n",
       "      <th>rating</th>\n",
       "    </tr>\n",
       "  </thead>\n",
       "  <tbody>\n",
       "    <tr>\n",
       "      <th>604</th>\n",
       "      <td>Madden NFL 13</td>\n",
       "      <td>PS3</td>\n",
       "      <td>2,012.00</td>\n",
       "      <td>Sports</td>\n",
       "      <td>2.11</td>\n",
       "      <td>0.22</td>\n",
       "      <td>0.00</td>\n",
       "      <td>0.23</td>\n",
       "      <td>83.00</td>\n",
       "      <td>5.50</td>\n",
       "      <td>E</td>\n",
       "    </tr>\n",
       "    <tr>\n",
       "      <th>16230</th>\n",
       "      <td>Madden NFL 13</td>\n",
       "      <td>PS3</td>\n",
       "      <td>2,012.00</td>\n",
       "      <td>Sports</td>\n",
       "      <td>0.00</td>\n",
       "      <td>0.01</td>\n",
       "      <td>0.00</td>\n",
       "      <td>0.00</td>\n",
       "      <td>83.00</td>\n",
       "      <td>5.50</td>\n",
       "      <td>E</td>\n",
       "    </tr>\n",
       "    <tr>\n",
       "      <th>5972</th>\n",
       "      <td>Need for Speed: Most Wanted</td>\n",
       "      <td>PC</td>\n",
       "      <td>2,005.00</td>\n",
       "      <td>Racing</td>\n",
       "      <td>0.02</td>\n",
       "      <td>0.23</td>\n",
       "      <td>0.00</td>\n",
       "      <td>0.04</td>\n",
       "      <td>82.00</td>\n",
       "      <td>8.50</td>\n",
       "      <td>T</td>\n",
       "    </tr>\n",
       "    <tr>\n",
       "      <th>11715</th>\n",
       "      <td>Need for Speed: Most Wanted</td>\n",
       "      <td>PC</td>\n",
       "      <td>2,012.00</td>\n",
       "      <td>Racing</td>\n",
       "      <td>0.00</td>\n",
       "      <td>0.06</td>\n",
       "      <td>0.00</td>\n",
       "      <td>0.02</td>\n",
       "      <td>82.00</td>\n",
       "      <td>8.50</td>\n",
       "      <td>T</td>\n",
       "    </tr>\n",
       "    <tr>\n",
       "      <th>1190</th>\n",
       "      <td>Need for Speed: Most Wanted</td>\n",
       "      <td>X360</td>\n",
       "      <td>2,012.00</td>\n",
       "      <td>Racing</td>\n",
       "      <td>0.62</td>\n",
       "      <td>0.78</td>\n",
       "      <td>0.01</td>\n",
       "      <td>0.15</td>\n",
       "      <td>83.00</td>\n",
       "      <td>8.50</td>\n",
       "      <td>T</td>\n",
       "    </tr>\n",
       "    <tr>\n",
       "      <th>1591</th>\n",
       "      <td>Need for Speed: Most Wanted</td>\n",
       "      <td>X360</td>\n",
       "      <td>2,005.00</td>\n",
       "      <td>Racing</td>\n",
       "      <td>1.00</td>\n",
       "      <td>0.13</td>\n",
       "      <td>0.02</td>\n",
       "      <td>0.10</td>\n",
       "      <td>83.00</td>\n",
       "      <td>8.50</td>\n",
       "      <td>T</td>\n",
       "    </tr>\n",
       "  </tbody>\n",
       "</table>\n",
       "</div>"
      ],
      "text/plain": [
       "                              name platform  year_of_release   genre  \\\n",
       "604                  Madden NFL 13      PS3         2,012.00  Sports   \n",
       "16230                Madden NFL 13      PS3         2,012.00  Sports   \n",
       "5972   Need for Speed: Most Wanted       PC         2,005.00  Racing   \n",
       "11715  Need for Speed: Most Wanted       PC         2,012.00  Racing   \n",
       "1190   Need for Speed: Most Wanted     X360         2,012.00  Racing   \n",
       "1591   Need for Speed: Most Wanted     X360         2,005.00  Racing   \n",
       "\n",
       "       na_sales  eu_sales  jp_sales  other_sales  critic_score  user_score  \\\n",
       "604        2.11      0.22      0.00         0.23         83.00        5.50   \n",
       "16230      0.00      0.01      0.00         0.00         83.00        5.50   \n",
       "5972       0.02      0.23      0.00         0.04         82.00        8.50   \n",
       "11715      0.00      0.06      0.00         0.02         82.00        8.50   \n",
       "1190       0.62      0.78      0.01         0.15         83.00        8.50   \n",
       "1591       1.00      0.13      0.02         0.10         83.00        8.50   \n",
       "\n",
       "      rating  \n",
       "604        E  \n",
       "16230      E  \n",
       "5972       T  \n",
       "11715      T  \n",
       "1190       T  \n",
       "1591       T  "
      ]
     },
     "metadata": {},
     "output_type": "display_data"
    }
   ],
   "source": [
    "df[df[['name', 'platform', 'genre']].duplicated(keep=False)].sort_values(by=['name', 'platform', 'genre'])"
   ]
  },
  {
   "cell_type": "code",
   "execution_count": null,
   "metadata": {},
   "outputs": [],
   "source": [
    "indices_to_combine = [604, 16230]\n",
    "\n",
    "# Группируем строки по индексам и объединяем значения\n",
    "combined_row = df.loc[indices_to_combine].groupby(['name', 'platform', 'genre'], as_index=False, observed=True).agg({\n",
    "    'na_sales': 'sum',\n",
    "    'eu_sales': 'sum',\n",
    "    'other_sales': 'sum',\n",
    "    'jp_sales': 'sum',\n",
    "    'critic_score': 'first',\n",
    "    'user_score': 'first',\n",
    "    'rating': 'first',\n",
    "    'year_of_release': 'first'\n",
    "})\n",
    "\n",
    "# Обновляем DataFrame, удаляя объединенные строки и добавляя новую\n",
    "df = pd.concat([df.drop(indices_to_combine), combined_row], ignore_index=True)"
   ]
  },
  {
   "cell_type": "code",
   "execution_count": null,
   "metadata": {},
   "outputs": [
    {
     "data": {
      "text/plain": [
       "16442"
      ]
     },
     "metadata": {},
     "output_type": "display_data"
    }
   ],
   "source": [
    "df.shape[0]"
   ]
  },
  {
   "cell_type": "code",
   "execution_count": null,
   "metadata": {},
   "outputs": [
    {
     "data": {
      "text/html": [
       "<div>\n",
       "<style scoped>\n",
       "    .dataframe tbody tr th:only-of-type {\n",
       "        vertical-align: middle;\n",
       "    }\n",
       "\n",
       "    .dataframe tbody tr th {\n",
       "        vertical-align: top;\n",
       "    }\n",
       "\n",
       "    .dataframe thead th {\n",
       "        text-align: right;\n",
       "    }\n",
       "</style>\n",
       "<table border=\"1\" class=\"dataframe\">\n",
       "  <thead>\n",
       "    <tr style=\"text-align: right;\">\n",
       "      <th></th>\n",
       "      <th>name</th>\n",
       "      <th>platform</th>\n",
       "      <th>year_of_release</th>\n",
       "      <th>genre</th>\n",
       "      <th>na_sales</th>\n",
       "      <th>eu_sales</th>\n",
       "      <th>jp_sales</th>\n",
       "      <th>other_sales</th>\n",
       "      <th>critic_score</th>\n",
       "      <th>user_score</th>\n",
       "      <th>rating</th>\n",
       "    </tr>\n",
       "  </thead>\n",
       "  <tbody>\n",
       "    <tr>\n",
       "      <th>16441</th>\n",
       "      <td>Madden NFL 13</td>\n",
       "      <td>PS3</td>\n",
       "      <td>2,012.00</td>\n",
       "      <td>Sports</td>\n",
       "      <td>2.11</td>\n",
       "      <td>0.23</td>\n",
       "      <td>0.00</td>\n",
       "      <td>0.23</td>\n",
       "      <td>83.00</td>\n",
       "      <td>5.50</td>\n",
       "      <td>E</td>\n",
       "    </tr>\n",
       "  </tbody>\n",
       "</table>\n",
       "</div>"
      ],
      "text/plain": [
       "                name platform  year_of_release   genre  na_sales  eu_sales  \\\n",
       "16441  Madden NFL 13      PS3         2,012.00  Sports      2.11      0.23   \n",
       "\n",
       "       jp_sales  other_sales  critic_score  user_score rating  \n",
       "16441      0.00         0.23         83.00        5.50      E  "
      ]
     },
     "metadata": {},
     "output_type": "display_data"
    }
   ],
   "source": [
    "df.tail(1)"
   ]
  },
  {
   "cell_type": "markdown",
   "metadata": {},
   "source": [
    "Строки правильно объеденились."
   ]
  },
  {
   "cell_type": "markdown",
   "metadata": {},
   "source": [
    "> Если есть дубли, и мы считаем, что это не дубли, а просто разделились данные,  \n",
    "> то объединеняем записи, которые имеют одинаковые значения ключевых признаков.  \n",
    "> `merge_duplicates`\n"
   ]
  },
  {
   "cell_type": "code",
   "execution_count": null,
   "metadata": {},
   "outputs": [],
   "source": [
    "pagri_data_tools.merge_duplicates()"
   ]
  },
  {
   "cell_type": "markdown",
   "metadata": {},
   "source": [
    "> Если мы не уверены, что дубль является дублем и не хотим удалять, то можно использовать  \n",
    "> маркировку дублей, можно добавить новую колонку, которая будет содержать информацию о том,  \n",
    "> является ли строка дубликатом или нет.  \n",
    "> `df['is_duplicate'] = df.duplicated()`\n"
   ]
  },
  {
   "cell_type": "code",
   "execution_count": null,
   "metadata": {},
   "outputs": [],
   "source": [
    "df['is_duplicate'] = df.duplicated()"
   ]
  },
  {
   "cell_type": "markdown",
   "metadata": {},
   "source": [
    "> Подумать, а можем ли мы обогатить данные, что разделит дубли.  \n",
    "> То есть возможно в наших данных нет какого-то столбца, и тогда дубли уже не будут дублями.\n"
   ]
  },
  {
   "cell_type": "markdown",
   "metadata": {},
   "source": [
    "> Если уверены, что это дубли, то удаляем их  \n",
    "> `df.drop_duplicates()`\n"
   ]
  },
  {
   "cell_type": "code",
   "execution_count": null,
   "metadata": {},
   "outputs": [],
   "source": [
    "df.drop_duplicates()"
   ]
  },
  {
   "cell_type": "markdown",
   "metadata": {},
   "source": [
    "### Приведение данных к удобной форме\n"
   ]
  },
  {
   "cell_type": "markdown",
   "metadata": {},
   "source": [
    "Если у нас есть переменная в которой значения - да, нет.  \n",
    "То можно заменить значения на более удобные.  "
   ]
  },
  {
   "cell_type": "markdown",
   "metadata": {},
   "source": [
    "Например, у нас столбец, который указывает является ли точка сетевой.   \n",
    "Можно заменить значения и далее на графиках можно будет писать - тип точки  \n",
    "Заменим \"да\" и \"нет\" на \"сетевая\" и \"несетевая\".  "
   ]
  },
  {
   "cell_type": "markdown",
   "metadata": {},
   "source": [
    "Изменим значения в столбцах на более удобные\n"
   ]
  },
  {
   "cell_type": "code",
   "execution_count": null,
   "metadata": {},
   "outputs": [],
   "source": [
    "df.debt = df.debt.apply(lambda x: 'есть' if x == '1' else 'нет').astype('category')"
   ]
  },
  {
   "cell_type": "code",
   "execution_count": null,
   "metadata": {},
   "outputs": [],
   "source": [
    "df.is_apartment.value_counts()"
   ]
  },
  {
   "cell_type": "code",
   "execution_count": null,
   "metadata": {},
   "outputs": [],
   "source": [
    "df.is_apartment = df.is_apartment.astype(str).map({'True': 'да', 'False': 'нет'}).astype('category')\n",
    "df.is_apartment.value_counts()"
   ]
  },
  {
   "cell_type": "markdown",
   "metadata": {},
   "source": [
    "ВАЖНО   \n",
    "смотрим все переменные во всех датафрейма и приводим одинаковые метрики к одной размерности.  \n",
    "И размерность делаем удобной для дальнейшего анализа.  \n",
    "На пример, если у нас мегабайты и их больше 1000, то нужно сделать гигабайты (и важно в названии поля добавить _gb)  \n",
    "Аналогично для всех метрик, суть в том, что если значение в поле больше 1000 и мы можем записать его в другом измерении, то делаем это.    \n",
    "То же самое с секундами, минутами, часами и так далее.  \n",
    "Думаем какая точность нам нужна и меняем размерность.  "
   ]
  },
  {
   "cell_type": "markdown",
   "metadata": {},
   "source": [
    "> Если у нас в столбце, например, стаж данные в днях, то это нужно преобразовать в года.  \n",
    "> Также если у нас в других столбцах данные в формате, который нужно изменить для лучшего анализа, то делаем это.\n"
   ]
  },
  {
   "cell_type": "markdown",
   "metadata": {},
   "source": [
    "> Округлим значения в поле дохода до целого.  \n",
    "> Целая часть выглядит реальной. А с дробной частью нужно разбираться почему стоько знаков.\n"
   ]
  },
  {
   "cell_type": "markdown",
   "metadata": {},
   "source": [
    "ВАЖНО  \n",
    "Если мы хотим перевесит тип float в int, то нужно проверить нет ли у нас дробных значений."
   ]
  },
  {
   "cell_type": "markdown",
   "metadata": {},
   "source": [
    "ВАЖНО  \n",
    "этот способ na посчитает ка дробные"
   ]
  },
  {
   "cell_type": "markdown",
   "metadata": {},
   "source": [
    "Убедимся, что в столбце нет дробных чисел."
   ]
  },
  {
   "cell_type": "code",
   "execution_count": null,
   "metadata": {},
   "outputs": [],
   "source": [
    "(df.critic_score % 1 != 0).sum()"
   ]
  },
  {
   "cell_type": "code",
   "execution_count": null,
   "metadata": {},
   "outputs": [
    {
     "data": {
      "text/html": [
       "<div>\n",
       "<style scoped>\n",
       "    .dataframe tbody tr th:only-of-type {\n",
       "        vertical-align: middle;\n",
       "    }\n",
       "\n",
       "    .dataframe tbody tr th {\n",
       "        vertical-align: top;\n",
       "    }\n",
       "\n",
       "    .dataframe thead th {\n",
       "        text-align: right;\n",
       "    }\n",
       "</style>\n",
       "<table border=\"1\" class=\"dataframe\">\n",
       "  <thead>\n",
       "    <tr style=\"text-align: right;\">\n",
       "      <th></th>\n",
       "      <th>children</th>\n",
       "      <th>age</th>\n",
       "      <th>education</th>\n",
       "      <th>family_status</th>\n",
       "      <th>gender</th>\n",
       "      <th>income_type</th>\n",
       "      <th>debt</th>\n",
       "      <th>total_income</th>\n",
       "      <th>purpose</th>\n",
       "    </tr>\n",
       "  </thead>\n",
       "  <tbody>\n",
       "    <tr>\n",
       "      <th>0</th>\n",
       "      <td>1</td>\n",
       "      <td>42</td>\n",
       "      <td>высшее</td>\n",
       "      <td>женат / замужем</td>\n",
       "      <td>F</td>\n",
       "      <td>сотрудник</td>\n",
       "      <td>0</td>\n",
       "      <td>253876</td>\n",
       "      <td>покупка жилья</td>\n",
       "    </tr>\n",
       "  </tbody>\n",
       "</table>\n",
       "</div>"
      ],
      "text/plain": [
       "   children  age education    family_status gender income_type debt  \\\n",
       "0         1   42    высшее  женат / замужем      F   сотрудник    0   \n",
       "\n",
       "   total_income        purpose  \n",
       "0        253876  покупка жилья  "
      ]
     },
     "metadata": {},
     "output_type": "display_data"
    }
   ],
   "source": [
    "df.total_income = df.total_income.astype('int32')\n",
    "df.head(1)"
   ]
  },
  {
   "cell_type": "markdown",
   "metadata": {},
   "source": [
    "ВАЖНО  \n",
    "Если у нас есть похожие числовые переменные в разных размерностях, то приводим их к одной размерности, чтобы сравнивать.  \n",
    "Например оценка пользователей в 10 бальной системе и оценка критиков в 100 бальной системе."
   ]
  },
  {
   "cell_type": "markdown",
   "metadata": {},
   "source": [
    "> Посмотрим сколько у нас людей с полом XNA осталось\n"
   ]
  },
  {
   "cell_type": "code",
   "execution_count": null,
   "metadata": {},
   "outputs": [
    {
     "data": {
      "text/plain": [
       "1"
      ]
     },
     "metadata": {},
     "output_type": "display_data"
    }
   ],
   "source": [
    "(df.gender == 'XNA').sum()"
   ]
  },
  {
   "cell_type": "markdown",
   "metadata": {},
   "source": [
    "> Посмотрим кто это\n"
   ]
  },
  {
   "cell_type": "code",
   "execution_count": null,
   "metadata": {},
   "outputs": [
    {
     "data": {
      "text/html": [
       "<div>\n",
       "<style scoped>\n",
       "    .dataframe tbody tr th:only-of-type {\n",
       "        vertical-align: middle;\n",
       "    }\n",
       "\n",
       "    .dataframe tbody tr th {\n",
       "        vertical-align: top;\n",
       "    }\n",
       "\n",
       "    .dataframe thead th {\n",
       "        text-align: right;\n",
       "    }\n",
       "</style>\n",
       "<table border=\"1\" class=\"dataframe\">\n",
       "  <thead>\n",
       "    <tr style=\"text-align: right;\">\n",
       "      <th></th>\n",
       "      <th>children</th>\n",
       "      <th>age</th>\n",
       "      <th>education</th>\n",
       "      <th>family_status</th>\n",
       "      <th>gender</th>\n",
       "      <th>income_type</th>\n",
       "      <th>debt</th>\n",
       "      <th>total_income</th>\n",
       "      <th>purpose</th>\n",
       "    </tr>\n",
       "  </thead>\n",
       "  <tbody>\n",
       "    <tr>\n",
       "      <th>10701</th>\n",
       "      <td>0</td>\n",
       "      <td>24</td>\n",
       "      <td>неоконченное высшее</td>\n",
       "      <td>гражданский брак</td>\n",
       "      <td>XNA</td>\n",
       "      <td>компаньон</td>\n",
       "      <td>0</td>\n",
       "      <td>203905</td>\n",
       "      <td>покупка недвижимости</td>\n",
       "    </tr>\n",
       "  </tbody>\n",
       "</table>\n",
       "</div>"
      ],
      "text/plain": [
       "       children  age            education     family_status gender  \\\n",
       "10701         0   24  неоконченное высшее  гражданский брак    XNA   \n",
       "\n",
       "      income_type debt  total_income               purpose  \n",
       "10701   компаньон    0        203905  покупка недвижимости  "
      ]
     },
     "metadata": {},
     "output_type": "display_data"
    }
   ],
   "source": [
    "df[df.gender == 'XNA']"
   ]
  },
  {
   "cell_type": "markdown",
   "metadata": {},
   "source": [
    "> Всего 1 человек. И мы не можем идентифицировать его пол.  \n",
    "> Удалим, чтобы не мешало анализировать графики.\n"
   ]
  },
  {
   "cell_type": "code",
   "execution_count": null,
   "metadata": {},
   "outputs": [
    {
     "data": {
      "text/plain": [
       "21402"
      ]
     },
     "metadata": {},
     "output_type": "display_data"
    }
   ],
   "source": [
    "df.shape[0]"
   ]
  },
  {
   "cell_type": "code",
   "execution_count": null,
   "metadata": {},
   "outputs": [
    {
     "data": {
      "text/plain": [
       "21401"
      ]
     },
     "metadata": {},
     "output_type": "display_data"
    }
   ],
   "source": [
    "df.drop(df[df.gender == 'XNA'].index, inplace=True)\n",
    "df['gender'] = df['gender'].cat.remove_unused_categories()\n",
    "df.value_counts(dropna=False)"
   ]
  },
  {
   "cell_type": "code",
   "execution_count": null,
   "metadata": {},
   "outputs": [],
   "source": [
    "df.shape[0]"
   ]
  },
  {
   "cell_type": "markdown",
   "metadata": {},
   "source": [
    "ВАЖНО  \n",
    "год нужно перевести в категориальный тип  \n",
    "Но важно сначала перевести в строку, а потом в категориальный тип, иначе plotly будет воспринимать как continuous"
   ]
  },
  {
   "cell_type": "markdown",
   "metadata": {},
   "source": [
    "Переведем год выпуска в категориальный тип, чтобы анализировать в разрезе года."
   ]
  },
  {
   "cell_type": "markdown",
   "metadata": {},
   "source": [
    "Убедимся, что в столбце нет дробных чисел."
   ]
  },
  {
   "cell_type": "code",
   "execution_count": null,
   "metadata": {},
   "outputs": [
    {
     "data": {
      "text/plain": [
       "np.int64(0)"
      ]
     },
     "metadata": {},
     "output_type": "display_data"
    }
   ],
   "source": [
    "(df.year_of_release % 1 != 0).sum()"
   ]
  },
  {
   "cell_type": "markdown",
   "metadata": {},
   "source": [
    "Чтобы сделать упорядоченную категориальную переменную, нужно делать так"
   ]
  },
  {
   "cell_type": "code",
   "execution_count": null,
   "metadata": {},
   "outputs": [],
   "source": [
    "ordered_years = pd.CategoricalDtype(categories=[str(int(year)) for year in sorted(df['year_of_release'].unique())], ordered=True)"
   ]
  },
  {
   "cell_type": "code",
   "execution_count": null,
   "metadata": {},
   "outputs": [
    {
     "data": {
      "text/html": [
       "<div>\n",
       "<style scoped>\n",
       "    .dataframe tbody tr th:only-of-type {\n",
       "        vertical-align: middle;\n",
       "    }\n",
       "\n",
       "    .dataframe tbody tr th {\n",
       "        vertical-align: top;\n",
       "    }\n",
       "\n",
       "    .dataframe thead th {\n",
       "        text-align: right;\n",
       "    }\n",
       "</style>\n",
       "<table border=\"1\" class=\"dataframe\">\n",
       "  <thead>\n",
       "    <tr style=\"text-align: right;\">\n",
       "      <th></th>\n",
       "      <th>avg_score</th>\n",
       "      <th>critic_score</th>\n",
       "      <th>genre</th>\n",
       "      <th>name</th>\n",
       "      <th>platform</th>\n",
       "      <th>rating</th>\n",
       "      <th>user_score</th>\n",
       "      <th>year_of_release</th>\n",
       "      <th>region</th>\n",
       "      <th>sales</th>\n",
       "      <th>critic_score_cat</th>\n",
       "      <th>user_score_cat</th>\n",
       "      <th>sales_cat</th>\n",
       "    </tr>\n",
       "  </thead>\n",
       "  <tbody>\n",
       "    <tr>\n",
       "      <th>0</th>\n",
       "      <td>78.00</td>\n",
       "      <td>76.00</td>\n",
       "      <td>Sports</td>\n",
       "      <td>Wii Sports</td>\n",
       "      <td>Wii</td>\n",
       "      <td>E</td>\n",
       "      <td>80.00</td>\n",
       "      <td>2006</td>\n",
       "      <td>Северная Америка</td>\n",
       "      <td>41.36</td>\n",
       "      <td>средняя</td>\n",
       "      <td>средняя</td>\n",
       "      <td>много</td>\n",
       "    </tr>\n",
       "  </tbody>\n",
       "</table>\n",
       "</div>"
      ],
      "text/plain": [
       "   avg_score  critic_score   genre        name platform rating  user_score  \\\n",
       "0      78.00         76.00  Sports  Wii Sports      Wii      E       80.00   \n",
       "\n",
       "  year_of_release            region  sales critic_score_cat user_score_cat  \\\n",
       "0            2006  Северная Америка  41.36          средняя        средняя   \n",
       "\n",
       "  sales_cat  \n",
       "0     много  "
      ]
     },
     "metadata": {},
     "output_type": "display_data"
    }
   ],
   "source": [
    "df.year_of_release = df.year_of_release.astype(int).astype(str).astype(ordered_years)\n",
    "df.head(1)"
   ]
  },
  {
   "cell_type": "markdown",
   "metadata": {},
   "source": [
    "Если у нас есть названия и в них есть подобные названия, то лучше их привести к одному названию, например, у нас есть сетевые рестораны, которые называются по разному  \n"
   ]
  },
  {
   "cell_type": "code",
   "execution_count": null,
   "metadata": {},
   "outputs": [],
   "source": [
    "restaurant_mapping = {\n",
    "    'kfc': 'kfc'\n",
    "    , 'кфс': 'kfc'\n",
    "    , 'кфц': 'kfc'\n",
    "    , 'макдоналдс': 'mcdonalds'\n",
    "    , 'старбакс': 'starbucks'\n",
    "    , 'starbucks': 'starbucks'\n",
    "    , 'шоколадница': 'шоколадница'\n",
    "    , 'бургер кинг': 'burger king'\n",
    "    , 'burger king': 'burger king'\n",
    "    , 'burgerking': 'burger king'\n",
    "    , 'domino-s': 'dominos pizza'\n",
    "    , 'dominos pizza': 'dominos pizza'\n",
    "    , 'домино\\'с': 'dominos pizza'\n",
    "    , 'domino s': 'dominos pizza'\n",
    "    , 'доминос': 'dominos pizza'\n",
    "    , 'крошка картошка': 'крошка картошка'\n",
    "    , 'крошка-картошка': 'крошка картошка'\n",
    "    , 'теремок': 'теремок'\n",
    "    , 'милти': 'милти'\n",
    "    , 'суши wok': 'суши wok'\n",
    "    , 'папа джонс': 'папа джонс'\n",
    "    , 'papa johns': 'папа джонс'\n",
    "    , 'додо пицца': 'додо пицца'\n",
    "    , 'додо-пицца': 'додо пицца'\n",
    "    , 'якитория': 'якитория'\n",
    "    , 'тануки': 'тануки'\n",
    "    , 'subway': 'subway'\n",
    "    , 'сабвай': 'subway'\n",
    "}\n",
    "def standardize_restaurant_name(name):\n",
    "    for key in restaurant_mapping:\n",
    "        if key in name.lower():  # Приводим к нижнему регистру для сравнения\n",
    "            return restaurant_mapping[key]\n",
    "    return name  # Если не найдено, возвращаем оригинальное название\n",
    "df['standartized_name'] = df.name.apply(standardize_restaurant_name).nunique()"
   ]
  },
  {
   "cell_type": "markdown",
   "metadata": {},
   "source": [
    "### Промежуточный вывод\n"
   ]
  },
  {
   "cell_type": "markdown",
   "metadata": {},
   "source": [
    "Чтобы собрать все наблюдения используем это  \n",
    "нужно поставить `_pagristart_` где начало и `_pagriend_` где конец"
   ]
  },
  {
   "cell_type": "markdown",
   "metadata": {},
   "source": [
    "Не забываем удалить метки `_pagristart_` и `_pagriend_` "
   ]
  },
  {
   "cell_type": "code",
   "execution_count": null,
   "metadata": {},
   "outputs": [],
   "source": [
    "import IPython\n",
    "notebook_path = \"/\".join(\n",
    "        IPython.extract_module_locals()[1][\"__vsc_ipynb_file__\"].split(\"/\"))\n",
    "pagri_data_tools.collect_observations(notebook_path, '/home/pagri/git_repos/pagri-projects/quarto/projects/prospective_tariff_for_telecom/temp_for_report.ipynb')"
   ]
  },
  {
   "cell_type": "markdown",
   "metadata": {},
   "source": [
    "> пишем как обработали данные, например\n"
   ]
  },
  {
   "cell_type": "markdown",
   "metadata": {},
   "source": [
    "- Удалили колонки с id образования и семейного статуса, так как нам для графиков лучше подойдут названия, а не id.\n",
    "- Колонка со стажем имеет совершенно некорректные данные. Чтобы не внести искажение в анализ, удалим эту колонку.\n",
    "- Удалили отрицательные значения в колонке с количеством детей, которые составляли 0,2% от общего количества записей в данных.\n"
   ]
  },
  {
   "cell_type": "markdown",
   "metadata": {},
   "source": [
    "## Обогащение данных и создание новых переменных"
   ]
  },
  {
   "cell_type": "markdown",
   "metadata": {},
   "source": [
    "### Обогащение данных из внешних источников"
   ]
  },
  {
   "cell_type": "markdown",
   "metadata": {},
   "source": [
    "Если нам нужно добавить к нашим данным данные из таблиц из внешних источников, то делаем это здесь."
   ]
  },
  {
   "cell_type": "markdown",
   "metadata": {},
   "source": [
    "### Парсинг внешних источников"
   ]
  },
  {
   "cell_type": "markdown",
   "metadata": {},
   "source": [
    "описываем процесс парсинга  \n",
    "описываем источники и переменные"
   ]
  },
  {
   "cell_type": "markdown",
   "metadata": {},
   "source": [
    "### Создание новых числовых переменных"
   ]
  },
  {
   "cell_type": "markdown",
   "metadata": {},
   "source": [
    "Сначала пишем все имеющиеся колонки ИИ и просим написать какие новые числовые переменные можно создать.  \n",
    "Если таблиц много, то идем по одной таблице, закончили с одной идем к следующей.  \n",
    "Далее в конце можно спросить какие новые числовые можно создать, учитывая все таблицы."
   ]
  },
  {
   "cell_type": "markdown",
   "metadata": {},
   "source": [
    "Сразу пишем в файл какие новые переменные создали для промежуточного вывода.  "
   ]
  },
  {
   "cell_type": "markdown",
   "metadata": {},
   "source": [
    "Новые числовые переменные часто это коэффициенты.  \n",
    "Нужно подумать из каких имеющихся числовых переменных можно создать коэффициенты.  \n",
    "То есть это отношение одной переменной числовой к другой. Вот нужно подумать какие такие отношения нам могут помочь в анализе.  "
   ]
  },
  {
   "cell_type": "markdown",
   "metadata": {},
   "source": [
    "Также новая числовая переменная может быть средним из других колонок и другие статистические функции."
   ]
  },
  {
   "cell_type": "markdown",
   "metadata": {},
   "source": [
    "Также новые переменные могут быть, например, расчеты, основанные на других переменных, такие как разница, процентное изменение и т.д."
   ]
  },
  {
   "cell_type": "markdown",
   "metadata": {},
   "source": [
    "Числовые переменные создаем не только для дальнейшего их анализа.  \n",
    "Создание числовой переменной может помочь создать новую категориальную переменную.  "
   ]
  },
  {
   "cell_type": "markdown",
   "metadata": {},
   "source": [
    "Например есть у нас расстояние до центра в метрах.  \n",
    "Мы создаем новую числовую переменную расстояние в км.  \n",
    "Далее строим график зависимости расстояния и цены.  \n",
    "И определеяем где цена резко меняется и получаем границу для создания новой категориальной переменной, в которой будет центр и остальное.  "
   ]
  },
  {
   "cell_type": "markdown",
   "metadata": {},
   "source": [
    "Создадим переменную соотношение жилой и общей площади"
   ]
  },
  {
   "cell_type": "code",
   "execution_count": null,
   "metadata": {},
   "outputs": [],
   "source": [
    "df['living_total_ratio'] = round(df['living_area'] / df['total_area'],2)"
   ]
  },
  {
   "cell_type": "code",
   "execution_count": null,
   "metadata": {},
   "outputs": [
    {
     "data": {
      "text/html": [
       "\n",
       "        <div style=\"display: flex; justify-content: flex-start; align-items: flex-end;\">\n",
       "            <style type=\"text/css\">\n",
       "#T_a9dbc caption {\n",
       "  font-size: 16px;\n",
       "  text-align: left;\n",
       "  font-weight: bold;\n",
       "}\n",
       "#T_a9dbc_row0_col0, #T_a9dbc_row0_col1, #T_a9dbc_row0_col2, #T_a9dbc_row0_col3, #T_a9dbc_row0_col4, #T_a9dbc_row0_col5, #T_a9dbc_row0_col6, #T_a9dbc_row0_col7, #T_a9dbc_row0_col8, #T_a9dbc_row0_col9, #T_a9dbc_row1_col0, #T_a9dbc_row1_col1, #T_a9dbc_row1_col2, #T_a9dbc_row1_col3, #T_a9dbc_row1_col4, #T_a9dbc_row1_col5, #T_a9dbc_row1_col6, #T_a9dbc_row1_col7, #T_a9dbc_row1_col8, #T_a9dbc_row1_col9, #T_a9dbc_row2_col0, #T_a9dbc_row2_col1, #T_a9dbc_row2_col2, #T_a9dbc_row2_col3, #T_a9dbc_row2_col4, #T_a9dbc_row2_col5, #T_a9dbc_row2_col6, #T_a9dbc_row2_col7, #T_a9dbc_row2_col8, #T_a9dbc_row2_col9, #T_a9dbc_row3_col0, #T_a9dbc_row3_col1, #T_a9dbc_row3_col2, #T_a9dbc_row3_col3, #T_a9dbc_row3_col4, #T_a9dbc_row3_col5, #T_a9dbc_row3_col6, #T_a9dbc_row3_col7, #T_a9dbc_row3_col8, #T_a9dbc_row3_col9, #T_a9dbc_row4_col0, #T_a9dbc_row4_col1, #T_a9dbc_row4_col2, #T_a9dbc_row4_col3, #T_a9dbc_row4_col4, #T_a9dbc_row4_col5, #T_a9dbc_row4_col6, #T_a9dbc_row4_col7, #T_a9dbc_row4_col8, #T_a9dbc_row4_col9, #T_a9dbc_row5_col0, #T_a9dbc_row5_col1, #T_a9dbc_row5_col2, #T_a9dbc_row5_col3, #T_a9dbc_row5_col4, #T_a9dbc_row5_col5, #T_a9dbc_row5_col6, #T_a9dbc_row5_col7, #T_a9dbc_row5_col8, #T_a9dbc_row5_col9, #T_a9dbc_row6_col0, #T_a9dbc_row6_col1, #T_a9dbc_row6_col2, #T_a9dbc_row6_col3, #T_a9dbc_row6_col4, #T_a9dbc_row6_col5, #T_a9dbc_row6_col6, #T_a9dbc_row6_col7, #T_a9dbc_row6_col8, #T_a9dbc_row6_col9 {\n",
       "  text-align: left;\n",
       "}\n",
       "</style>\n",
       "<table id=\"T_a9dbc\">\n",
       "  <caption>living_total_ratio</caption>\n",
       "  <thead>\n",
       "  </thead>\n",
       "  <tbody>\n",
       "    <tr>\n",
       "      <td id=\"T_a9dbc_row0_col0\" class=\"data row0 col0\" >Values</td>\n",
       "      <td id=\"T_a9dbc_row0_col1\" class=\"data row0 col1\" >21 796 (92%)</td>\n",
       "      <td id=\"T_a9dbc_row0_col2\" class=\"data row0 col2\" >                              </td>\n",
       "      <td id=\"T_a9dbc_row0_col3\" class=\"data row0 col3\" >Max</td>\n",
       "      <td id=\"T_a9dbc_row0_col4\" class=\"data row0 col4\" >1</td>\n",
       "      <td id=\"T_a9dbc_row0_col5\" class=\"data row0 col5\" >                              </td>\n",
       "      <td id=\"T_a9dbc_row0_col6\" class=\"data row0 col6\" >Avg</td>\n",
       "      <td id=\"T_a9dbc_row0_col7\" class=\"data row0 col7\" >0.56</td>\n",
       "      <td id=\"T_a9dbc_row0_col8\" class=\"data row0 col8\" >                              </td>\n",
       "      <td id=\"T_a9dbc_row0_col9\" class=\"data row0 col9\" >0.56 (4%)</td>\n",
       "    </tr>\n",
       "    <tr>\n",
       "      <td id=\"T_a9dbc_row1_col0\" class=\"data row1 col0\" >Missing</td>\n",
       "      <td id=\"T_a9dbc_row1_col1\" class=\"data row1 col1\" >1 903 (8%)</td>\n",
       "      <td id=\"T_a9dbc_row1_col2\" class=\"data row1 col2\" >                              </td>\n",
       "      <td id=\"T_a9dbc_row1_col3\" class=\"data row1 col3\" >95%</td>\n",
       "      <td id=\"T_a9dbc_row1_col4\" class=\"data row1 col4\" >0.73</td>\n",
       "      <td id=\"T_a9dbc_row1_col5\" class=\"data row1 col5\" >                              </td>\n",
       "      <td id=\"T_a9dbc_row1_col6\" class=\"data row1 col6\" >Mode</td>\n",
       "      <td id=\"T_a9dbc_row1_col7\" class=\"data row1 col7\" >0.56</td>\n",
       "      <td id=\"T_a9dbc_row1_col8\" class=\"data row1 col8\" >                              </td>\n",
       "      <td id=\"T_a9dbc_row1_col9\" class=\"data row1 col9\" >0.55 (4%)</td>\n",
       "    </tr>\n",
       "    <tr>\n",
       "      <td id=\"T_a9dbc_row2_col0\" class=\"data row2 col0\" >Distinct</td>\n",
       "      <td id=\"T_a9dbc_row2_col1\" class=\"data row2 col1\" >91 (<1%)</td>\n",
       "      <td id=\"T_a9dbc_row2_col2\" class=\"data row2 col2\" >                              </td>\n",
       "      <td id=\"T_a9dbc_row2_col3\" class=\"data row2 col3\" >75%</td>\n",
       "      <td id=\"T_a9dbc_row2_col4\" class=\"data row2 col4\" >0.64</td>\n",
       "      <td id=\"T_a9dbc_row2_col5\" class=\"data row2 col5\" >                              </td>\n",
       "      <td id=\"T_a9dbc_row2_col6\" class=\"data row2 col6\" >Range</td>\n",
       "      <td id=\"T_a9dbc_row2_col7\" class=\"data row2 col7\" >0.98</td>\n",
       "      <td id=\"T_a9dbc_row2_col8\" class=\"data row2 col8\" >                              </td>\n",
       "      <td id=\"T_a9dbc_row2_col9\" class=\"data row2 col9\" >0.6 (4%)</td>\n",
       "    </tr>\n",
       "    <tr>\n",
       "      <td id=\"T_a9dbc_row3_col0\" class=\"data row3 col0\" >Duplicates</td>\n",
       "      <td id=\"T_a9dbc_row3_col1\" class=\"data row3 col1\" >23 607 (99.6%)</td>\n",
       "      <td id=\"T_a9dbc_row3_col2\" class=\"data row3 col2\" >                              </td>\n",
       "      <td id=\"T_a9dbc_row3_col3\" class=\"data row3 col3\" >Median</td>\n",
       "      <td id=\"T_a9dbc_row3_col4\" class=\"data row3 col4\" >0.57</td>\n",
       "      <td id=\"T_a9dbc_row3_col5\" class=\"data row3 col5\" >                              </td>\n",
       "      <td id=\"T_a9dbc_row3_col6\" class=\"data row3 col6\" >iQR</td>\n",
       "      <td id=\"T_a9dbc_row3_col7\" class=\"data row3 col7\" >0.14</td>\n",
       "      <td id=\"T_a9dbc_row3_col8\" class=\"data row3 col8\" >                              </td>\n",
       "      <td id=\"T_a9dbc_row3_col9\" class=\"data row3 col9\" >0.62 (4%)</td>\n",
       "    </tr>\n",
       "    <tr>\n",
       "      <td id=\"T_a9dbc_row4_col0\" class=\"data row4 col0\" >Zeros</td>\n",
       "      <td id=\"T_a9dbc_row4_col1\" class=\"data row4 col1\" >---</td>\n",
       "      <td id=\"T_a9dbc_row4_col2\" class=\"data row4 col2\" >                              </td>\n",
       "      <td id=\"T_a9dbc_row4_col3\" class=\"data row4 col3\" >25%</td>\n",
       "      <td id=\"T_a9dbc_row4_col4\" class=\"data row4 col4\" >0.5</td>\n",
       "      <td id=\"T_a9dbc_row4_col5\" class=\"data row4 col5\" >                              </td>\n",
       "      <td id=\"T_a9dbc_row4_col6\" class=\"data row4 col6\" >std</td>\n",
       "      <td id=\"T_a9dbc_row4_col7\" class=\"data row4 col7\" >0.11</td>\n",
       "      <td id=\"T_a9dbc_row4_col8\" class=\"data row4 col8\" >                              </td>\n",
       "      <td id=\"T_a9dbc_row4_col9\" class=\"data row4 col9\" >0.58 (4%)</td>\n",
       "    </tr>\n",
       "    <tr>\n",
       "      <td id=\"T_a9dbc_row5_col0\" class=\"data row5 col0\" >Negative</td>\n",
       "      <td id=\"T_a9dbc_row5_col1\" class=\"data row5 col1\" >---</td>\n",
       "      <td id=\"T_a9dbc_row5_col2\" class=\"data row5 col2\" >                              </td>\n",
       "      <td id=\"T_a9dbc_row5_col3\" class=\"data row5 col3\" >5%</td>\n",
       "      <td id=\"T_a9dbc_row5_col4\" class=\"data row5 col4\" >0.39</td>\n",
       "      <td id=\"T_a9dbc_row5_col5\" class=\"data row5 col5\" >                              </td>\n",
       "      <td id=\"T_a9dbc_row5_col6\" class=\"data row5 col6\" >kurt</td>\n",
       "      <td id=\"T_a9dbc_row5_col7\" class=\"data row5 col7\" >0.23</td>\n",
       "      <td id=\"T_a9dbc_row5_col8\" class=\"data row5 col8\" >                              </td>\n",
       "      <td id=\"T_a9dbc_row5_col9\" class=\"data row5 col9\" >0.57 (4%)</td>\n",
       "    </tr>\n",
       "    <tr>\n",
       "      <td id=\"T_a9dbc_row6_col0\" class=\"data row6 col0\" >RAM (Mb)</td>\n",
       "      <td id=\"T_a9dbc_row6_col1\" class=\"data row6 col1\" ><1 Mb</td>\n",
       "      <td id=\"T_a9dbc_row6_col2\" class=\"data row6 col2\" >                              </td>\n",
       "      <td id=\"T_a9dbc_row6_col3\" class=\"data row6 col3\" >Min</td>\n",
       "      <td id=\"T_a9dbc_row6_col4\" class=\"data row6 col4\" >0.02</td>\n",
       "      <td id=\"T_a9dbc_row6_col5\" class=\"data row6 col5\" >                              </td>\n",
       "      <td id=\"T_a9dbc_row6_col6\" class=\"data row6 col6\" >skew</td>\n",
       "      <td id=\"T_a9dbc_row6_col7\" class=\"data row6 col7\" >-0.14</td>\n",
       "      <td id=\"T_a9dbc_row6_col8\" class=\"data row6 col8\" >                              </td>\n",
       "      <td id=\"T_a9dbc_row6_col9\" class=\"data row6 col9\" >0.59 (4%)</td>\n",
       "    </tr>\n",
       "  </tbody>\n",
       "</table>\n",
       "\n",
       "            <div>\n",
       "                <img src=\"data:image/png;base64,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\" alt=\"График\"/>\n",
       "            </div>\n",
       "        </div>\n",
       "        "
      ],
      "text/plain": [
       "<IPython.core.display.HTML object>"
      ]
     },
     "metadata": {},
     "output_type": "display_data"
    }
   ],
   "source": [
    "gen = pagri_data_tools.info_gen(df_internet, column='mb_used_cat', mode='column')\n",
    "gen.next()"
   ]
  },
  {
   "cell_type": "code",
   "execution_count": null,
   "metadata": {},
   "outputs": [],
   "source": []
  },
  {
   "cell_type": "markdown",
   "metadata": {},
   "source": [
    "### Категоризация данных\n"
   ]
  },
  {
   "cell_type": "markdown",
   "metadata": {},
   "source": [
    "Сначала пишем все имеющиеся колонки ИИ и просим написать какие новые категориальный переменные можно создать.  \n",
    "Если таблиц много, то идем по одной таблице, закончили с одной идем к следующей.  \n",
    "Далее в конце можно спросить какие новые категориальные переменные можно создать, учитывая все таблицы."
   ]
  },
  {
   "cell_type": "markdown",
   "metadata": {},
   "source": [
    "Категориальная переменная, это то за счет чего мы можем разделить наши данные и установить, что есть влияние этого фактора на целевую переменную.  "
   ]
  },
  {
   "cell_type": "markdown",
   "metadata": {},
   "source": [
    "ВАЖНО  \n",
    "категориальные переменные могут быть не только в отдельном столбце.  \n",
    "Категориальная переменная может быть разбита на разные столбцы.  \n",
    "Например, оценка пользователей и оценка критиков могут быть в отдельных столбцах.  \n",
    "Нужно при предобработке это не забыть привести  к категориальному типу, чтобы далее анализировать.  \n",
    "Смотрим на имеющиеся столбцы в датафрейме и думаем, есть ли у нас категориальная переменная, которая разбита на несколько столбцов."
   ]
  },
  {
   "cell_type": "markdown",
   "metadata": {},
   "source": [
    "Категория может быть созадана\n",
    "- из нескольких столбцов, когда у нас числовая переменная разбита на несколкьо столбцов\n",
    "- при объединении нескольких таблиц, когда у нас есть несколько таблиц с одинаковыми столбцами\n",
    "- из числовых перменных можно сделать диапазоны возраста, продаж, цен, размера, объема и т.д.\n",
    "- из названий чего-либо можно сдлать категории по длинне названия, цвету вывески, количеству гласных. согласных, количеству позитивных, негативных слов и т.д."
   ]
  },
  {
   "cell_type": "markdown",
   "metadata": {},
   "source": [
    "ВАЖНО  \n",
    "Можно создать категориальную переменную относится к топ 5-10 по какой-то числовой переменной или нет.  \n",
    "То есть у нас будет столбец где будет типа топ и не топ (подумать как лучше называть), столбец називаем топ n по такой-то числовой переменной.  \n",
    "Например, топ 5 жанров по количеству продаж.  \n",
    "Тогда у нас у каждой записи будет признак относиться к топу или нет, это нам даст возмонсоть на графиках смотреть вклад топ 5-10 в общую картину.  \n",
    "Таким образом мы получим новый разрез топ 5-10 "
   ]
  },
  {
   "cell_type": "markdown",
   "metadata": {},
   "source": [
    "ВАЖНО  \n",
    "категории можно делать из поведения пользователей и подобное  \n",
    "У нас есть активность пользователей и есть раздел куда он заходил, это категории.  \n",
    "Можно сделать просто категории из имеющихся, это правильно.  \n",
    "Но важно сделать категории типа - открывал пользователь страницу помощи или нет,  \n",
    "открывал пользователь раздел профиль 5 и более раз, менее 5 и не открывал.  \n",
    "Тут можно придумать много таких категорий."
   ]
  },
  {
   "cell_type": "code",
   "execution_count": null,
   "metadata": {},
   "outputs": [],
   "source": []
  },
  {
   "cell_type": "markdown",
   "metadata": {},
   "source": [
    "ВАЖНО  \n",
    "Категория может появится после анализа выбросов, нулевых значений и прочих аномалий.  \n",
    "Например, у нас датасет с данными о покупка и мы определили, что часть пользователей совершает слишком большие покупки, мы можем разбить на группы исходя их этого. "
   ]
  },
  {
   "cell_type": "markdown",
   "metadata": {},
   "source": [
    "ВАЖНО  \n",
    "следим, чтобы не осталось пропусков в категориальной переменной  \n",
    "все пропуски нужно заменить на что-то типа - не указано"
   ]
  },
  {
   "cell_type": "code",
   "execution_count": null,
   "metadata": {},
   "outputs": [],
   "source": [
    "df.columns.isna()sum()"
   ]
  },
  {
   "cell_type": "markdown",
   "metadata": {},
   "source": [
    "Если есть пропуски, то добавляем "
   ]
  },
  {
   "cell_type": "code",
   "execution_count": null,
   "metadata": {},
   "outputs": [],
   "source": [
    ".fillna(\"не указано\").astype('category')"
   ]
  },
  {
   "cell_type": "markdown",
   "metadata": {},
   "source": [
    "ВАЖНО  \n",
    "Если у нас много пропусков (болше 20 процентов)  \n",
    "То можно создать категориальуню переменную (с пропусками / без пропусков) для каждой колонки с пропусками.  \n",
    "И далее на графиках долей и числовых можно будет анализировать.  \n",
    "Плюс можно будет создать срезы.  \n",
    "Бонусом мы получаем возможность изучать данные в разрезе пропусков в числовой переменной, так как na мы заполним на что-то типа - не указано"
   ]
  },
  {
   "cell_type": "markdown",
   "metadata": {},
   "source": [
    "Если мы при загрузке данных не смогли изменить типы данных из-за пропусков, то теперь меняем типы данных. "
   ]
  },
  {
   "cell_type": "markdown",
   "metadata": {},
   "source": [
    "У нас могут быть категориальные переменные не только для изучения данных на графиках под другим углом,  \n",
    "но категориальные переменные можно использовать для изучения среза данных.  \n",
    "Таким образом думаем какие срезы в датафрейме дадут нам важную информацию. И создаем категориальную переменную для них.  \n",
    "Например, у нас в данных есть растояние до центра, мы можем создать новую категориальную переменную и поместить туда катгории растояния до центра.  \n",
    "И затем изучить отдельные срезы в данных, например квартиры только в центре.  "
   ]
  },
  {
   "cell_type": "markdown",
   "metadata": {},
   "source": [
    "Думаем какие категориальные переменные сделать для срезов.  "
   ]
  },
  {
   "cell_type": "markdown",
   "metadata": {},
   "source": [
    "Могут быть операции разность, сумма отношение с другими переменными, которые дадут новую переменную.  \n",
    "Смотрим на имеющиеся переменные и думаем какие из этих операций можно применить.  "
   ]
  },
  {
   "cell_type": "markdown",
   "metadata": {},
   "source": [
    "> Важно, когда создали новые переменные, особенно числовые, то нужно их изучить через my_info (взять df только с нужными столбцами)  \n",
    "Посмотреть на гистограммы и стат параметры.  "
   ]
  },
  {
   "cell_type": "markdown",
   "metadata": {},
   "source": [
    "> Если у нас есть категориальная переменная, в которйо больше 3 значений, то нужно подумать а не можем ли мы из нее сделать  \n",
    "> новую категориальную переменную с 2-3 значениями, но тут важно, чтобы это несло смысл. Тут нам может помочь ИИ. И сообразительнсоть. Часто сразу не заментны возможные категории, котоыре несут смысл.  \n",
    "> Тут исходим из смысла, наша задача созадть перменную, которая добавит нашему исследованию новый смысл, даст как бы новый разрез, и это улучшит  \n",
    "> качество наших выводов.  \n",
    "> Например, у нас столбец семейный стату, и там 6-7 статусов, мы можем собрать их в 2 семейный статус и не семейный статус.  \n",
    "> Тут отлично помогает ИИ. Пишешь ему название переменной, униальные значения в ней,  \n",
    "> и просишь придумать возможную новую категориальнуюд переменную из 2-3 значений.\n"
   ]
  },
  {
   "cell_type": "markdown",
   "metadata": {},
   "source": [
    "> Вообще при категоризации ИИ очень хорошо помогает, он может дать идеи возможных категорий на оснвое имеющихся значений.  \n",
    "> Поэтому можно все столбцы прогонять через ИИ и смотреть что он предлагает, если есть то , что даст новый разрез нашим данным, то созадем категорийю.\n"
   ]
  },
  {
   "cell_type": "markdown",
   "metadata": {},
   "source": [
    "> Важно, когда мы создаем категории, то всегда смотреть value_counts.  \n",
    "> И делаем так, чтобы в каждой группе было достаточно элементов, хотя бы больше 30, а лучше больше 100.  \n",
    "> Иначе выводы будут некоректные.  \n",
    "> В идеале, чтобы количество элементов в каждой группе было от 1000. Лучше изменить диапазон и забрать часть данных от другой категории.\n"
   ]
  },
  {
   "cell_type": "markdown",
   "metadata": {},
   "source": [
    "> Важно, когда создаем категориальную переменную, то даем ей тип `category`  \n",
    "> Чтобы она появилась на графиках (так как идет фильтрация на числовые и категориальные)  \n",
    "> и чтобы места меньше занимала\n"
   ]
  },
  {
   "cell_type": "markdown",
   "metadata": {},
   "source": [
    "> Придумываем какие колонки можно дополнительно сделать из имеющихся.  \n",
    "> Например у нас есть колонка длительность звонков, и 0 это пропущенный звонок,  \n",
    "> мы можем сделать колонку is_missed, в которой будет true или false\n"
   ]
  },
  {
   "cell_type": "markdown",
   "metadata": {},
   "source": [
    "> Стараемся сделать категориальную колонку с да нет для всех возможных колонок.  \n",
    "> Например, у нас колонка количество детей и есть 0, 1, 2, 3, 4, 5 мы созадем колнку  \n",
    "> есть дети или нет. 2 значения  \n",
    "> Это очень полезно, так как мы можем посмотреть это на графиках и проверить гипотезы  \n",
    "> стат тестами.\n"
   ]
  },
  {
   "cell_type": "markdown",
   "metadata": {},
   "source": [
    "> Смотрим на колонки и думаем можно ли из нее сделать колонку с 2 значениями,  \n",
    "> например есть и нет что-то\n"
   ]
  },
  {
   "cell_type": "markdown",
   "metadata": {},
   "source": [
    "> Очень важно, когда мы создаем новые колонки, в которых используем несколько дургих, то нужно проверить распределение этой новой переменной, особенно выбросы.  \n",
    "> Например, у нас начальная и конечная дата сессии и мы считаем длительность сессии. Вот тут нужно посмотреть какая минимальная длительность  \n",
    "> и какая максимальная. Ну и естественно проверить есть ли длительность 0 и меньше нуля.  \n",
    "> Таким образом мы можем найти инсайты уже после создания новых колонок, хотя в изначальных данных этих инсайдов не было видно.\n"
   ]
  },
  {
   "cell_type": "markdown",
   "metadata": {},
   "source": [
    "> Обычная категоризация данных\n"
   ]
  },
  {
   "cell_type": "markdown",
   "metadata": {},
   "source": [
    "> Категоризация помогает избежать проблемы с разреженными данными, когда у нас есть слишком много групп с небольшим количеством элементов.  \n",
    "> Это может привести к некорректным выводам и ошибкам в анализе.\n",
    "> Категоризация нужна, чтобы образовать группы, в которых достаточно значений для использования статистических методов.  \n",
    "> И вообще, если в группе 1-10 элементов, например у нас возраст пользователей и 5 человек с возрастом 22, 3 человека с возрастом 23 и так далее.  \n",
    "> Мы не можем разбивать по таким группам, так как их размер небльшой и выводы будут некорректные, поэтому нам нужно собрать их в группы,  \n",
    "> чтобы у нас были группы с достаточным размером.\n"
   ]
  },
  {
   "cell_type": "markdown",
   "metadata": {},
   "source": [
    "- Если у нас категориальная переменная имеет много значений, то мы не можем номрально с ней работать.\n",
    "  > Так как мы не можем построить графики по ним, так как их много и они не числовые. Не можем сравнить их все.  \n",
    "  > Поэтому нам нужно сократить категории.\n",
    "- Нужно посмотреть на данные и подумать можем ли мы разделить их по сегментам рынка или по другим категориям, которые нам помогут.\n",
    "- Мы можем категоризировать на основе и числовых и категориальных столбцов. То есть мы можем из категориальной переменной сделать\n",
    "  > другую категориальную, уменьшив или увеличив разбиение.\n",
    "- добавление категорий обогощает данные, при чем категории могут формироваться не из одной колонки, а из серии, то есть чтобы попасть\n",
    "  > в определенную категорию значения столбцов должно быть такое то, а не только один столбец определяет категорию.\n",
    "- категории могут быть да нет, то есть состоять из двух значений, например, у нас есть данные о рекламе и столбец где она показвалась,\n",
    "  > и у нас много много разных устройств. Мы можем разбить на да нет, то есть показвалась реклама по телеку или нет\n"
   ]
  },
  {
   "cell_type": "markdown",
   "metadata": {},
   "source": [
    "> Мы можем разбить данные на категории двумя способами\n",
    "\n",
    "- разбивать на равные части\n",
    "  > подходит, когда\n",
    "  >\n",
    "  > - диапазон значений является равномерным и имеет линейную структуру\n",
    "  > - мы понимаем на какие интервалы хотим разбить данные\n",
    "  > - мы хотим разделить диапазон значений на равные части для удобства анализа.\n",
    "- разбить на основе квантилей\n",
    "  > подходит, если\n",
    "  >\n",
    "  > - диапазон значений имеет неравномерную структуру\n",
    "  > - мы не можем понять какие интервалы выбрать\n",
    "  > - хотим выделить группы с конкретными характеристиками (например, группы с низким доходом, средним доходом и высоким доходом)\n"
   ]
  },
  {
   "cell_type": "markdown",
   "metadata": {},
   "source": [
    "> Выбираем нужные способ и используем  \n",
    "> `create_category_column`\n"
   ]
  },
  {
   "cell_type": "markdown",
   "metadata": {},
   "source": [
    "> Чтобы посмотреть распределение по квантилям используем `pagri_data_tools.quantiles_columns()`\n"
   ]
  },
  {
   "cell_type": "markdown",
   "metadata": {},
   "source": [
    "Не забываем новые каеториальные переменные делать `.astype('category')`"
   ]
  },
  {
   "cell_type": "code",
   "execution_count": null,
   "metadata": {},
   "outputs": [],
   "source": [
    ".astype('category')"
   ]
  },
  {
   "cell_type": "markdown",
   "metadata": {},
   "source": [
    "ВАЖНО  \n",
    "создали новую переменную, сразу же изучили ее использу `info_gen`  \n",
    "задаем вопросы и пишем важные наблюдения  "
   ]
  },
  {
   "cell_type": "code",
   "execution_count": null,
   "metadata": {},
   "outputs": [],
   "source": [
    "gen = pagri_data_tools.info_gen(df_internet, column='mb_used_cat', mode='column')\n",
    "gen.next()"
   ]
  },
  {
   "cell_type": "code",
   "execution_count": null,
   "metadata": {},
   "outputs": [],
   "source": [
    "df['floor_cat'] = df.apply(lambda x: 'первый' if x['floor'] == 1 else 'последний' if x['floor'] == x['floors_total'] else 'другой', axis=1)"
   ]
  },
  {
   "cell_type": "code",
   "execution_count": null,
   "metadata": {},
   "outputs": [],
   "source": [
    "df_visits['is_new_user'] = df_visits['is_new_user'].map({True: 'да', False: 'нет'})"
   ]
  },
  {
   "cell_type": "markdown",
   "metadata": {},
   "source": [
    "Посмотрим на квантили в столбце."
   ]
  },
  {
   "cell_type": "code",
   "execution_count": null,
   "metadata": {},
   "outputs": [],
   "source": [
    "pagri_data_tools.quantiles_columns(df.sales, list(np.arange(0, 1, 0.05)))"
   ]
  },
  {
   "cell_type": "markdown",
   "metadata": {},
   "source": [
    "Можно так разделить на группы, если других идей нет  \n",
    "- Дешевые: Заказы ниже Q1.  \n",
    "- Средние: Заказы между Q1 и Q3.  \n",
    "- Дорогие: Заказы выше Q3.  "
   ]
  },
  {
   "cell_type": "markdown",
   "metadata": {},
   "source": [
    "Для определения границ используем квантили Q1, Q2 и Q3."
   ]
  },
  {
   "cell_type": "code",
   "execution_count": null,
   "metadata": {},
   "outputs": [],
   "source": [
    "pagri_data_tools.create_category_column()"
   ]
  },
  {
   "cell_type": "markdown",
   "metadata": {},
   "source": [
    "> Сделаем следующие группы\n",
    "\n",
    "- до 30 лет\n",
    "- от 30 до 40 лет\n",
    "- от 40 до 50 лет\n",
    "- от 50 до 60 лет\n",
    "- старше 60 лет\n"
   ]
  },
  {
   "cell_type": "code",
   "execution_count": null,
   "metadata": {},
   "outputs": [],
   "source": [
    "labels = ['до 30', '30-40', '40-50', '50-60', 'старше 60']\n",
    "bins = [-np.inf, 30, 40, 50, 60, np.inf]"
   ]
  },
  {
   "cell_type": "markdown",
   "metadata": {},
   "source": [
    "Если нужно пропуски заменить, то добавляем параметр `fillnavalue='не укаазано'`"
   ]
  },
  {
   "cell_type": "code",
   "execution_count": null,
   "metadata": {},
   "outputs": [
    {
     "data": {
      "text/plain": [
       "30-40        5704\n",
       "40-50        5241\n",
       "50-60        4520\n",
       "до 30        3804\n",
       "старше 60    2132\n",
       "Name: age_cat, dtype: int64"
      ]
     },
     "metadata": {},
     "output_type": "display_data"
    }
   ],
   "source": [
    "df['age_cat'] = pagri_data_tools.create_category_column(df.age, labels=labels, bins=bins)\n",
    "df['age_cat'].value_counts(dropna=False)"
   ]
  },
  {
   "cell_type": "markdown",
   "metadata": {},
   "source": [
    "Если у нас в таблице числовая переменная разбита на несколько столбцов, то лучше ее объеденить в одни столлбец."
   ]
  },
  {
   "cell_type": "markdown",
   "metadata": {},
   "source": [
    "Объеденим продажи в одну числовую переменную и создадим категориальную переменную region"
   ]
  },
  {
   "cell_type": "code",
   "execution_count": null,
   "metadata": {},
   "outputs": [
    {
     "data": {
      "text/html": [
       "<div>\n",
       "<style scoped>\n",
       "    .dataframe tbody tr th:only-of-type {\n",
       "        vertical-align: middle;\n",
       "    }\n",
       "\n",
       "    .dataframe tbody tr th {\n",
       "        vertical-align: top;\n",
       "    }\n",
       "\n",
       "    .dataframe thead th {\n",
       "        text-align: right;\n",
       "    }\n",
       "</style>\n",
       "<table border=\"1\" class=\"dataframe\">\n",
       "  <thead>\n",
       "    <tr style=\"text-align: right;\">\n",
       "      <th></th>\n",
       "      <th>critic_score</th>\n",
       "      <th>genre</th>\n",
       "      <th>name</th>\n",
       "      <th>platform</th>\n",
       "      <th>rating</th>\n",
       "      <th>user_score</th>\n",
       "      <th>year_of_release</th>\n",
       "      <th>region</th>\n",
       "      <th>sales</th>\n",
       "    </tr>\n",
       "  </thead>\n",
       "  <tbody>\n",
       "    <tr>\n",
       "      <th>0</th>\n",
       "      <td>76.00</td>\n",
       "      <td>Sports</td>\n",
       "      <td>Wii Sports</td>\n",
       "      <td>Wii</td>\n",
       "      <td>E</td>\n",
       "      <td>80.00</td>\n",
       "      <td>2006</td>\n",
       "      <td>Северная Америка</td>\n",
       "      <td>41.36</td>\n",
       "    </tr>\n",
       "    <tr>\n",
       "      <th>1</th>\n",
       "      <td>NaN</td>\n",
       "      <td>Platform</td>\n",
       "      <td>Super Mario Bros.</td>\n",
       "      <td>NES</td>\n",
       "      <td>не указано</td>\n",
       "      <td>NaN</td>\n",
       "      <td>1985</td>\n",
       "      <td>Северная Америка</td>\n",
       "      <td>29.08</td>\n",
       "    </tr>\n",
       "    <tr>\n",
       "      <th>2</th>\n",
       "      <td>82.00</td>\n",
       "      <td>Racing</td>\n",
       "      <td>Mario Kart Wii</td>\n",
       "      <td>Wii</td>\n",
       "      <td>E</td>\n",
       "      <td>83.00</td>\n",
       "      <td>2008</td>\n",
       "      <td>Северная Америка</td>\n",
       "      <td>15.68</td>\n",
       "    </tr>\n",
       "    <tr>\n",
       "      <th>3</th>\n",
       "      <td>80.00</td>\n",
       "      <td>Sports</td>\n",
       "      <td>Wii Sports Resort</td>\n",
       "      <td>Wii</td>\n",
       "      <td>E</td>\n",
       "      <td>80.00</td>\n",
       "      <td>2009</td>\n",
       "      <td>Северная Америка</td>\n",
       "      <td>15.61</td>\n",
       "    </tr>\n",
       "    <tr>\n",
       "      <th>4</th>\n",
       "      <td>NaN</td>\n",
       "      <td>Role-Playing</td>\n",
       "      <td>Pokemon Red/Pokemon Blue</td>\n",
       "      <td>GB</td>\n",
       "      <td>не указано</td>\n",
       "      <td>NaN</td>\n",
       "      <td>1996</td>\n",
       "      <td>Северная Америка</td>\n",
       "      <td>11.27</td>\n",
       "    </tr>\n",
       "    <tr>\n",
       "      <th>...</th>\n",
       "      <td>...</td>\n",
       "      <td>...</td>\n",
       "      <td>...</td>\n",
       "      <td>...</td>\n",
       "      <td>...</td>\n",
       "      <td>...</td>\n",
       "      <td>...</td>\n",
       "      <td>...</td>\n",
       "      <td>...</td>\n",
       "    </tr>\n",
       "    <tr>\n",
       "      <th>65763</th>\n",
       "      <td>NaN</td>\n",
       "      <td>Sports</td>\n",
       "      <td>LMA Manager 2007</td>\n",
       "      <td>X360</td>\n",
       "      <td>не указано</td>\n",
       "      <td>NaN</td>\n",
       "      <td>2006</td>\n",
       "      <td>Другие</td>\n",
       "      <td>0.00</td>\n",
       "    </tr>\n",
       "    <tr>\n",
       "      <th>65764</th>\n",
       "      <td>NaN</td>\n",
       "      <td>Adventure</td>\n",
       "      <td>Haitaka no Psychedelica</td>\n",
       "      <td>PSV</td>\n",
       "      <td>не указано</td>\n",
       "      <td>NaN</td>\n",
       "      <td>2016</td>\n",
       "      <td>Другие</td>\n",
       "      <td>0.00</td>\n",
       "    </tr>\n",
       "    <tr>\n",
       "      <th>65765</th>\n",
       "      <td>NaN</td>\n",
       "      <td>Platform</td>\n",
       "      <td>Spirits &amp; Spells</td>\n",
       "      <td>GBA</td>\n",
       "      <td>не указано</td>\n",
       "      <td>NaN</td>\n",
       "      <td>2003</td>\n",
       "      <td>Другие</td>\n",
       "      <td>0.00</td>\n",
       "    </tr>\n",
       "    <tr>\n",
       "      <th>65766</th>\n",
       "      <td>NaN</td>\n",
       "      <td>Simulation</td>\n",
       "      <td>Winning Post 8 2016</td>\n",
       "      <td>PSV</td>\n",
       "      <td>не указано</td>\n",
       "      <td>NaN</td>\n",
       "      <td>2016</td>\n",
       "      <td>Другие</td>\n",
       "      <td>0.00</td>\n",
       "    </tr>\n",
       "    <tr>\n",
       "      <th>65767</th>\n",
       "      <td>83.00</td>\n",
       "      <td>Sports</td>\n",
       "      <td>Madden NFL 13</td>\n",
       "      <td>PS3</td>\n",
       "      <td>E</td>\n",
       "      <td>55.00</td>\n",
       "      <td>2012</td>\n",
       "      <td>Другие</td>\n",
       "      <td>0.23</td>\n",
       "    </tr>\n",
       "  </tbody>\n",
       "</table>\n",
       "<p>65768 rows × 9 columns</p>\n",
       "</div>"
      ],
      "text/plain": [
       "       critic_score         genre                      name platform  \\\n",
       "0             76.00        Sports                Wii Sports      Wii   \n",
       "1               NaN      Platform         Super Mario Bros.      NES   \n",
       "2             82.00        Racing            Mario Kart Wii      Wii   \n",
       "3             80.00        Sports         Wii Sports Resort      Wii   \n",
       "4               NaN  Role-Playing  Pokemon Red/Pokemon Blue       GB   \n",
       "...             ...           ...                       ...      ...   \n",
       "65763           NaN        Sports          LMA Manager 2007     X360   \n",
       "65764           NaN     Adventure   Haitaka no Psychedelica      PSV   \n",
       "65765           NaN      Platform          Spirits & Spells      GBA   \n",
       "65766           NaN    Simulation       Winning Post 8 2016      PSV   \n",
       "65767         83.00        Sports             Madden NFL 13      PS3   \n",
       "\n",
       "           rating  user_score  year_of_release            region  sales  \n",
       "0               E       80.00             2006  Северная Америка  41.36  \n",
       "1      не указано         NaN             1985  Северная Америка  29.08  \n",
       "2               E       83.00             2008  Северная Америка  15.68  \n",
       "3               E       80.00             2009  Северная Америка  15.61  \n",
       "4      не указано         NaN             1996  Северная Америка  11.27  \n",
       "...           ...         ...              ...               ...    ...  \n",
       "65763  не указано         NaN             2006            Другие   0.00  \n",
       "65764  не указано         NaN             2016            Другие   0.00  \n",
       "65765  не указано         NaN             2003            Другие   0.00  \n",
       "65766  не указано         NaN             2016            Другие   0.00  \n",
       "65767           E       55.00             2012            Другие   0.23  \n",
       "\n",
       "[65768 rows x 9 columns]"
      ]
     },
     "metadata": {},
     "output_type": "display_data"
    }
   ],
   "source": [
    "# Применяем melt для преобразования данных\n",
    "value_vars = ['na_sales', 'eu_sales', 'jp_sales', 'other_sales']\n",
    "melted_df = pd.melt(df, id_vars=df.columns.difference(value_vars), \n",
    "                    value_vars=value_vars,\n",
    "                    var_name='region', value_name='sales')\n",
    "# Словарь для замены значений\n",
    "region_mapping = {\n",
    "    'na_sales': 'Северная Америка',\n",
    "    'eu_sales': 'Европа',\n",
    "    'jp_sales': 'Япония',\n",
    "    'other_sales': 'Другие'\n",
    "}\n",
    "\n",
    "# Замена значений в столбце region\n",
    "melted_df['region'] = melted_df['region'].replace(region_mapping).astype('category')\n",
    "melted_df"
   ]
  },
  {
   "cell_type": "markdown",
   "metadata": {},
   "source": [
    "Если у нас есть названия, то из них можно создать новые категории, извлекая определенные слова"
   ]
  },
  {
   "cell_type": "markdown",
   "metadata": {},
   "source": [
    "Выделим название улицы из адреса"
   ]
  },
  {
   "cell_type": "code",
   "execution_count": null,
   "metadata": {},
   "outputs": [],
   "source": [
    "df['street'] = df.address.str.split(',').str[1]"
   ]
  },
  {
   "cell_type": "markdown",
   "metadata": {},
   "source": [
    "Нужно убедиться, что на первом месте всегда город, иначе нужно думать как извлечь улицу"
   ]
  },
  {
   "cell_type": "markdown",
   "metadata": {},
   "source": [
    "Нужно исходить из задачи. Если извлечь сложно, но нам нужно будет построить только топ улиц, то можно пренебречь этим.  \n",
    "И извлечь просто сплитом."
   ]
  },
  {
   "cell_type": "code",
   "execution_count": null,
   "metadata": {},
   "outputs": [],
   "source": [
    "filtered_address = df[~df.address.str.lower().str.contains(\"москва\")].address\n",
    "cities = filtered_address[filtered_address.str.contains('поселение')].unique().tolist()\n",
    "cities += filtered_address[filtered_address.str.contains('город')].unique().tolist()\n",
    "cities = [city.split(',')[0].lower() for city in cities]\n",
    "cities = set(cities+['москва', 'город москва', 'город москва, поселение'])\n",
    "cities"
   ]
  },
  {
   "cell_type": "code",
   "execution_count": null,
   "metadata": {},
   "outputs": [],
   "source": [
    "def extract_street(address):\n",
    "    # Проверяем наличие города в адресе\n",
    "    for city in cities:\n",
    "        if city in address.lower():\n",
    "            # Если город найден, разбиваем строку по запятой и берем второй элемент\n",
    "            parts = address.split(',')\n",
    "            if len(parts) > 1:\n",
    "                return parts[1].strip()  # Возвращаем название улицы\n",
    "    # Если город не найден, берем первый элемент\n",
    "    return address.split(',')[0].strip()\n",
    "\n",
    "# Применяем функцию к столбцу адресов\n",
    "df['street'] = df['address'].apply(extract_street)"
   ]
  },
  {
   "cell_type": "markdown",
   "metadata": {},
   "source": [
    "Так как в адресе после города может стоять поселение или город, то у нас часть улиц будет содержать название города или поселения.  \n",
    "Но нам для анализа потребуются только улицы, на которых много заведений. Поэтому эти строки нам не помешают, так как в городах спутниках и в поселениях будет меньше заведений, чем в москве.  \n",
    "Важно было выделить улицы, в которых на первом месте не стоит город и сразу идет улица. Такие мы извлекли."
   ]
  },
  {
   "cell_type": "markdown",
   "metadata": {},
   "source": [
    "Так как в адресе после города может стоять поселение или город, то у нас часть улиц будет содержать название города или поселения.  \n",
    "Но нам для анализа потребуются только улицы, на которых много заведений. Поэтому эти строки нам не помешают, так как в городах спутниках и в поселениях будет меньше заведений, чем в москве.  \n",
    "Важно было выделить улицы, в которых на первом месте не стоит город и сразу идет улица. Такие мы извлекли."
   ]
  },
  {
   "cell_type": "markdown",
   "metadata": {},
   "source": [
    "Создадим категориальную переменную, которая будет показывать круглосуточный ли объект. Для этого используем название объекта.  \n",
    "Если в его названии есть слова \"круглосуточный\", \"24 часа\", \"ежедневно\""
   ]
  },
  {
   "cell_type": "markdown",
   "metadata": {},
   "source": [
    "Добавление дополнительных столбцов к основной таблице"
   ]
  },
  {
   "cell_type": "code",
   "execution_count": null,
   "metadata": {},
   "outputs": [],
   "source": [
    "\n",
    "# Добавим столбец с названием улиц\n",
    "places['street']=places['address'].str.split(',').str[1]\n",
    "\n",
    "# Добавим столбец с режимом работы\n",
    "places['is_24_7']=places['hours'].str.contains('ежедневно','круглосуточно')\n",
    "\n",
    "places['is_24_7'].mean()\n",
    "\n",
    "places['hours'].str.contains('ежедневно, круглосуточно').mean()\n",
    "\n",
    "# Для удобства заменим числовые значения в столбце chain на понятную запись\n",
    "places['chain']=places['chain'].replace({1:'Сетевое', 0:'Несетевое'})\n",
    "\n",
    "# Для удобства построения графиков дадим сокращенное название округов\n",
    "places['district_short']=places['district'].replace({'Северный административный округ':'САО', \\\n",
    "                                               \"Северо-Восточный административный округ\":\"СВАО\",\\\n",
    "                                              \"Северо-Западный административный округ\":\"СЗАО\",\\\n",
    "                                              \"Западный административный округ\":\"ЗАО\",\\\n",
    "                                              \"Центральный административный округ\":\"ЦАО\",\\\n",
    "                                              \"Восточный административный округ\":\"ВАО\",\\\n",
    "                                              \"Юго-Восточный административный округ\":\"ЮВАО\",\\\n",
    "                                              \"Южный административный округ\":\"ЮАО\",\\\n",
    "                                              \"Юго-Западный административный округ\":\"ЮЗАО\"})\n",
    "\n"
   ]
  },
  {
   "cell_type": "markdown",
   "metadata": {},
   "source": [
    "Создаем новые переменные из времени"
   ]
  },
  {
   "cell_type": "markdown",
   "metadata": {},
   "source": [
    "ВАЖНО  \n",
    "если у нас год уже есть в таблице и он числовой,  \n",
    "то переводим его в категориальный тип   \n",
    "Но важно сначала перевести в строку, а потом в категориальный тип, иначе plotly будет воспринимать как continuous"
   ]
  },
  {
   "cell_type": "code",
   "execution_count": null,
   "metadata": {},
   "outputs": [],
   "source": [
    "gen = pagri_data_tools.info_gen(df_internet, column='mb_used_cat', mode='column')\n",
    "gen.next()"
   ]
  },
  {
   "cell_type": "code",
   "execution_count": null,
   "metadata": {},
   "outputs": [],
   "source": [
    "weekday_dict = {\n",
    "    'Monday': 'Понедельник',\n",
    "    'Tuesday': 'Вторник',\n",
    "    'Wednesday': 'Среда',\n",
    "    'Thursday': 'Четверг',\n",
    "    'Friday': 'Пятница',\n",
    "    'Saturday': 'Суббота',\n",
    "    'Sunday': 'Воскресенье'\n",
    "}\n",
    "month_dict = {\n",
    "    1: 'Январь',\n",
    "    2: 'Февраль',\n",
    "    3: 'Март',\n",
    "    4: 'Апрель',\n",
    "    5: 'Май',\n",
    "    6: 'Июнь',\n",
    "    7: 'Июль',\n",
    "    8: 'Август',\n",
    "    9: 'Сентябрь',\n",
    "    10: 'Октябрь',\n",
    "    11: 'Ноябрь',\n",
    "    12: 'Декабрь'\n",
    "}"
   ]
  },
  {
   "cell_type": "code",
   "execution_count": null,
   "metadata": {},
   "outputs": [],
   "source": [
    "df['publication_weekday'] = df['first_day_exposition'].dt.day_name().map(weekday_dict).astype('category')\n",
    "df['publication_month'] = df['first_day_exposition'].dt.month.map(month_dict).astype('category')\n",
    "df['publication_year'] = df['first_day_exposition'].dt.year.astype(str).astype('category')\n",
    "# Задаем порядок для weekdays\n",
    "weekday_order = ['Понедельник', 'Вторник', 'Среда', 'Четверг', 'Пятница', 'Суббота', 'Воскресенье']\n",
    "df['publication_weekday'] = df['publication_weekday'].cat.reorder_categories(weekday_order, ordered=True)\n",
    "\n",
    "# Задаем порядок для months\n",
    "month_order = ['Январь', 'Февраль', 'Март', 'Апрель', 'Май', 'Июнь', 'Июль', 'Август', 'Сентябрь', 'Октябрь', 'Ноябрь', 'Декабрь']\n",
    "df['publication_month'] = df['publication_month'].cat.reorder_categories(month_order, ordered=True)\n"
   ]
  },
  {
   "cell_type": "code",
   "execution_count": null,
   "metadata": {},
   "outputs": [],
   "source": [
    "df.columns.isna()sum()"
   ]
  },
  {
   "cell_type": "code",
   "execution_count": null,
   "metadata": {},
   "outputs": [],
   "source": [
    "gen = pagri_data_tools.info_gen(df_internet, column='mb_used_cat', mode='column')\n",
    "gen.next()"
   ]
  },
  {
   "cell_type": "markdown",
   "metadata": {},
   "source": [
    "Для даты заказа создадим новую категориальную переменную в формате месяц год."
   ]
  },
  {
   "cell_type": "code",
   "execution_count": null,
   "metadata": {},
   "outputs": [],
   "source": [
    "# Словарь для замены месяцев\n",
    "months_translation = {\n",
    "    'Jan': 'Янв',\n",
    "    'Feb': 'Фев',\n",
    "    'Mar': 'Мар',\n",
    "    'Apr': 'Апр',\n",
    "    'May': 'Май',\n",
    "    'Jun': 'Июн',\n",
    "    'Jul': 'Июл',\n",
    "    'Aug': 'Авг',\n",
    "    'Sep': 'Сен',\n",
    "    'Oct': 'Окт',\n",
    "    'Nov': 'Ноя',\n",
    "    'Dec': 'Дек'\n",
    "}\n",
    "# Получаем отдельно месяц и год\n",
    "months = df['first_day_exposition'].dt.strftime('%b').astype('category').cat.reorder_categories(list(months_translation.keys()), ordered=True)\n",
    "years = df['first_day_exposition'].dt.strftime('%y')\n",
    "months_years = pd.concat([months, years], axis=1)\n",
    "months_years.columns = ['month', 'year']\n",
    "# Создаем список уникальных (год, месяц) и сортируем\n",
    "unique_months = months_years.drop_duplicates().sort_values(by=['year', 'month'])\n",
    "\n",
    "# Создаем список для порядка\n",
    "month_year_order = []\n",
    "\n",
    "# Формируем month_year_order на основе уникальных (год, месяц)\n",
    "for _, row in unique_months.iterrows():\n",
    "    year = row['year']\n",
    "    month = row['month']\n",
    "    month_year_order.append(f\"{months_translation[month]}'{str(year)[-2:]}\")\n",
    "\n",
    "# Заменяем месяцы и соединяем с годом\n",
    "df['publication_month_year'] = months.astype(str).map(months_translation) + \"'\" + years\n",
    "df['publication_month_year'] = df['publication_month_year'].astype('category')\n",
    "df['publication_month_year'] = df['publication_month_year'].cat.reorder_categories(month_year_order, ordered=True)\n",
    "df['publication_month_year']"
   ]
  },
  {
   "cell_type": "code",
   "execution_count": null,
   "metadata": {},
   "outputs": [],
   "source": [
    "df.columns.isna()sum()"
   ]
  },
  {
   "cell_type": "code",
   "execution_count": null,
   "metadata": {},
   "outputs": [],
   "source": [
    "gen = pagri_data_tools.info_gen(df_internet, column='mb_used_cat', mode='column')\n",
    "gen.next()"
   ]
  },
  {
   "cell_type": "markdown",
   "metadata": {},
   "source": [
    "Для верменных переменных нужно делать не только отедльно месяц, год.  \n",
    "Но и делать категориальную переменную обрезая время.  \n",
    "То есть мы созадем переменную   \n",
    "Янв'23"
   ]
  },
  {
   "cell_type": "markdown",
   "metadata": {},
   "source": [
    "Но нужно подумать, нужна ли нам будет именно временная переменная, или достаточно категории,  \n",
    "если будет нужна временная, то создаем обрезанную переменную datetime используя .dt.round()"
   ]
  },
  {
   "cell_type": "markdown",
   "metadata": {},
   "source": [
    "Если нужно перевести в категорильный упорядоченный тип"
   ]
  },
  {
   "cell_type": "code",
   "execution_count": null,
   "metadata": {},
   "outputs": [],
   "source": [
    "cohort_lifetime_order = list(map(str, range(100)))[:df_cohort['cohort_lifetime'].nunique()]\n",
    "df_cohort['cohort_lifetime'] = df_cohort['cohort_lifetime'].astype(str).astype('category').cat.reorder_categories(cohort_lifetime_order, ordered=True)"
   ]
  },
  {
   "cell_type": "markdown",
   "metadata": {},
   "source": [
    "> Категоризация с использованием лемматизации"
   ]
  },
  {
   "cell_type": "markdown",
   "metadata": {},
   "source": [
    "> Если у нас есть столбец и мы хотим его лематизировать, то используем функцию  \n",
    "> `lemmatize_column`\n"
   ]
  },
  {
   "cell_type": "markdown",
   "metadata": {},
   "source": [
    "> Чтобы создать лемы для словаря категоризации, можно посмотреть имеющиеся предложения и использовать\n",
    ">\n",
    "> ```\n",
    "> m = Mystem()\n",
    "> m.lemmatize('образованием')\n",
    "> ```\n"
   ]
  },
  {
   "cell_type": "code",
   "execution_count": null,
   "metadata": {},
   "outputs": [],
   "source": [
    "m = Mystem()\n",
    "m.lemmatize('образованием')"
   ]
  },
  {
   "cell_type": "code",
   "execution_count": null,
   "metadata": {},
   "outputs": [],
   "source": [
    "pagri_data_tools.lemmatize_column()"
   ]
  },
  {
   "cell_type": "code",
   "execution_count": null,
   "metadata": {},
   "outputs": [],
   "source": [
    "categorization_dict = {\n",
    "    'недвижимость': ['жилье', 'недвижимость']\n",
    "    , 'образование': ['образование']\n",
    "    , 'автомобиль': ['автомобиль', 'машина']\n",
    "    , 'свадьба': ['свадьба'] \n",
    "}"
   ]
  },
  {
   "cell_type": "code",
   "execution_count": null,
   "metadata": {},
   "outputs": [
    {
     "data": {
      "text/plain": [
       "недвижимость    10779\n",
       "автомобиль       4288\n",
       "образование      3997\n",
       "свадьба          2337\n",
       "Name: purpose_new, dtype: int64"
      ]
     },
     "metadata": {},
     "output_type": "display_data"
    }
   ],
   "source": [
    "df['purpose_new'] = pagri_data_tools.categorize_column_by_lemmatize(df.purpose, categorization_dict, use_cache=True)\n",
    "df['purpose_new'].value_counts(dropna=False)"
   ]
  },
  {
   "cell_type": "markdown",
   "metadata": {},
   "source": [
    "> Если нужно, уддалим старую колонку\n"
   ]
  },
  {
   "cell_type": "code",
   "execution_count": null,
   "metadata": {},
   "outputs": [
    {
     "data": {
      "text/html": [
       "<div>\n",
       "<style scoped>\n",
       "    .dataframe tbody tr th:only-of-type {\n",
       "        vertical-align: middle;\n",
       "    }\n",
       "\n",
       "    .dataframe tbody tr th {\n",
       "        vertical-align: top;\n",
       "    }\n",
       "\n",
       "    .dataframe thead th {\n",
       "        text-align: right;\n",
       "    }\n",
       "</style>\n",
       "<table border=\"1\" class=\"dataframe\">\n",
       "  <thead>\n",
       "    <tr style=\"text-align: right;\">\n",
       "      <th></th>\n",
       "      <th>children</th>\n",
       "      <th>dob_years</th>\n",
       "      <th>education</th>\n",
       "      <th>family_status</th>\n",
       "      <th>gender</th>\n",
       "      <th>income_type</th>\n",
       "      <th>debt</th>\n",
       "      <th>total_income</th>\n",
       "      <th>purpose</th>\n",
       "      <th>dob_cat</th>\n",
       "      <th>total_income_cat</th>\n",
       "    </tr>\n",
       "  </thead>\n",
       "  <tbody>\n",
       "    <tr>\n",
       "      <th>0</th>\n",
       "      <td>1</td>\n",
       "      <td>42</td>\n",
       "      <td>высшее</td>\n",
       "      <td>женат / замужем</td>\n",
       "      <td>F</td>\n",
       "      <td>сотрудник</td>\n",
       "      <td>0</td>\n",
       "      <td>253876</td>\n",
       "      <td>Недвижимость</td>\n",
       "      <td>40-50</td>\n",
       "      <td>200-500 тыс</td>\n",
       "    </tr>\n",
       "  </tbody>\n",
       "</table>\n",
       "</div>"
      ],
      "text/plain": [
       "   children  dob_years education    family_status gender income_type debt  \\\n",
       "0         1         42    высшее  женат / замужем      F   сотрудник    0   \n",
       "\n",
       "   total_income       purpose dob_cat total_income_cat  \n",
       "0        253876  Недвижимость   40-50      200-500 тыс  "
      ]
     },
     "metadata": {},
     "output_type": "display_data"
    }
   ],
   "source": [
    "df = df.drop('purpose', axis=1).rename(columns={'purpose_new': 'purpose'})\n",
    "df.head(1)"
   ]
  },
  {
   "cell_type": "markdown",
   "metadata": {},
   "source": [
    "> С помощью лематизации мы можем сократить количество категорий.\n"
   ]
  },
  {
   "cell_type": "markdown",
   "metadata": {},
   "source": [
    "> Например мы можем выделить группы:\n",
    "\n",
    "- операции с автомобилем (ключевое слово - автомобиль)\n",
    "- операции с недвижимостью (ключевые слова: жилье, недвижимость)\n",
    "- проведение свадьбы (ключевое слово: свадьба)\n",
    "- получение образования (ключевое слово: образование)\n"
   ]
  },
  {
   "cell_type": "markdown",
   "metadata": {},
   "source": [
    "> Используем функцию  \n",
    "> `categorize_column_by_lemmatize`\n"
   ]
  },
  {
   "cell_type": "code",
   "execution_count": null,
   "metadata": {},
   "outputs": [],
   "source": [
    "pagri_data_tools.categorize_column_by_lemmatize()"
   ]
  },
  {
   "cell_type": "markdown",
   "metadata": {},
   "source": [
    "Из времени также можно сделать категориальный переменные, например, создать переменную для времени заправки, если больше 1 минуты, то долгая заправка, иначе короткая и так далее.\n"
   ]
  },
  {
   "cell_type": "markdown",
   "metadata": {},
   "source": [
    "ВАЖНО подумать какие переменные мы можем создать не только категориальные, но и числовые и временные.  \n",
    "Например, обрезание времени, чтобы получить дату по часам и прочее,\n"
   ]
  },
  {
   "cell_type": "markdown",
   "metadata": {},
   "source": [
    "> Если мы хотим преобразовать категории в числа, то мы можем использовать\n",
    "\n",
    "- lable encoding\n",
    "  > Заменяем быквы числами. Хорошо работает, когда у нас порядковые категориальные переменные.  \n",
    "  > Не забываем про порядок, если у нас алфавитный порядок наших категорий соотвествует числовому, то ок,  \n",
    "  > если нет, то нам нужно самим определить порядок чисел, чтобы они соответствовали категориям в нужном порядке.\n",
    "- one hot encoding\n",
    "  > Если у нас категориальная переменная не упорядочиваемая, то лучше использовать one hot encoding, чтобы разница между числами не вносила шум,  \n",
    "  > так как черный и белый и красный цвет закодированные 1, 2, 3 вносят смысл количества, но они не имеют этого свойства.\n",
    "- target encoding\n",
    "  > замена категориальной переменной на каую-то статистику по одной из категорий внутри этой переменной.  \n",
    "  > Например у нас категориальная переменная это наличие задержки. Значение задержан / незадержан. Мы кодируем их как 0 и 1. Далее мы берем и считаем по каждой группе (для задержан и для незадержан)  \n",
    "  > статистику, например, среднее и получаем столбец, где вместо каждой буквы будет ее среднее.  \n",
    "  > Тут важно делать регуляризацию. Так как маленькие группы могут иметь сильно зашумленные статистики, так как если у нас  \n",
    "  > группа из 5 значений, то среди них может быть легко экстремальное одно и оно сбивает статистику, поэтому добавляем штраф всем статистикам.  \n",
    "  > Регуляризация это что-то похожее на сглаживание.  \n",
    "  > Как это делается\n",
    "  >\n",
    "  > - берем считаем среднее по таргету (целевой переменной, то есть той, по которой мы счтаем статистику) всей таблице (то есть не делим на категории)\n",
    "  > - Далее используем следующую формулу для сглаженного значения среднего по конкретной группе:  \n",
    "  >   (среднее по группе _ количество элементов в группе + среднее по таргету без учета категорий _ размер регуляризирующей группы) / (количество элементов в категории + размер регуляризирующей группы)  \n",
    "  >   Количество элементов в регуляризационнной группе выбирает эмперически. То есть это количество элементов, которым мы сглаживаем.  \n",
    "  >   Смысл в том, что мы берем сколько-то элементов с занчением для всех категорий и сглаживаем им наши отдельные категории.\n",
    "  > - Размер регуляризирующей группы обычно выбирают с помощью grid search, то есть берут цикл для размера этой группы и считают результат модели для каждого размера,  \n",
    "  >   и потом выбирают тот размер, для которого результат лучше.\n",
    "  >\n",
    "  > `target_encoding_linear`  \n",
    "  > `target_encoding_bayes`\n"
   ]
  },
  {
   "cell_type": "code",
   "execution_count": null,
   "metadata": {},
   "outputs": [],
   "source": [
    "pagri_data_tools.target_encoding_linear()\n",
    "pagri_data_tools.target_encoding_bayes()"
   ]
  },
  {
   "cell_type": "markdown",
   "metadata": {},
   "source": [
    "> Использование кластеризации для категоризации\n"
   ]
  },
  {
   "cell_type": "markdown",
   "metadata": {},
   "source": [
    "> Можно понизить размерность до 3  \n",
    "> и построить 3 д график  \n",
    "> По этому графику посмотреть есть ли у нас возможные кластеры  \n",
    "> Если есть, то выделить их  \n",
    "> Причем для понижения размерности можно брать все столбцы, а можно только часть.\n"
   ]
  },
  {
   "cell_type": "markdown",
   "metadata": {},
   "source": [
    "### Создание дополнительных датафреймов"
   ]
  },
  {
   "cell_type": "markdown",
   "metadata": {},
   "source": [
    "Если для анализа срезов нужны сложные датафреймы (нужно  обогатить, соеденить и прчее), то  \n",
    "думаем какие разрезы данных нам будут нужны и создаем для них датафреймы, если нужно.  \n",
    "Если нам для срезов нужно просто отфильтровать данные, то этот раздел не нужен, мы при визуализации отфильтруем сразу."
   ]
  },
  {
   "cell_type": "markdown",
   "metadata": {},
   "source": [
    "Если у нас есть категориальная переменная в которой для каждой категории есть несколкьо записей, то можно аггрегировать данные по этой переменной и создать переменную количество объектов и дополнительно из имеющихся числоваых переменных также создать переменные.  \n",
    "Например, среднее, медианное, суммарное значение и т.д. Далее можно будет построить диаграмму рассеяния."
   ]
  },
  {
   "cell_type": "markdown",
   "metadata": {},
   "source": [
    "Для сетевых заведений аггрегируем данные и создадим таблицу для дальнейшего анализа."
   ]
  },
  {
   "cell_type": "code",
   "execution_count": null,
   "metadata": {},
   "outputs": [
    {
     "data": {
      "text/html": [
       "<div>\n",
       "<style scoped>\n",
       "    .dataframe tbody tr th:only-of-type {\n",
       "        vertical-align: middle;\n",
       "    }\n",
       "\n",
       "    .dataframe tbody tr th {\n",
       "        vertical-align: top;\n",
       "    }\n",
       "\n",
       "    .dataframe thead th {\n",
       "        text-align: right;\n",
       "    }\n",
       "</style>\n",
       "<table border=\"1\" class=\"dataframe\">\n",
       "  <thead>\n",
       "    <tr style=\"text-align: right;\">\n",
       "      <th></th>\n",
       "      <th>id</th>\n",
       "      <th>name</th>\n",
       "      <th>is_chain</th>\n",
       "      <th>type</th>\n",
       "      <th>address</th>\n",
       "      <th>seats</th>\n",
       "      <th>street</th>\n",
       "      <th>seats_cat</th>\n",
       "    </tr>\n",
       "  </thead>\n",
       "  <tbody>\n",
       "    <tr>\n",
       "      <th>0</th>\n",
       "      <td>151635</td>\n",
       "      <td>сметана</td>\n",
       "      <td>нет</td>\n",
       "      <td>кафе</td>\n",
       "      <td>город Москва, улица Егора Абакумова, дом 9</td>\n",
       "      <td>48</td>\n",
       "      <td>улица Егора Абакумова</td>\n",
       "      <td>средне</td>\n",
       "    </tr>\n",
       "  </tbody>\n",
       "</table>\n",
       "</div>"
      ],
      "text/plain": [
       "       id     name is_chain  type                                     address  \\\n",
       "0  151635  сметана      нет  кафе  город Москва, улица Егора Абакумова, дом 9   \n",
       "\n",
       "   seats                 street seats_cat  \n",
       "0     48  улица Егора Абакумова    средне  "
      ]
     },
     "metadata": {},
     "output_type": "display_data"
    }
   ],
   "source": [
    "df.head(1)"
   ]
  },
  {
   "cell_type": "code",
   "execution_count": null,
   "metadata": {},
   "outputs": [
    {
     "data": {
      "text/html": [
       "<div>\n",
       "<style scoped>\n",
       "    .dataframe tbody tr th:only-of-type {\n",
       "        vertical-align: middle;\n",
       "    }\n",
       "\n",
       "    .dataframe tbody tr th {\n",
       "        vertical-align: top;\n",
       "    }\n",
       "\n",
       "    .dataframe thead th {\n",
       "        text-align: right;\n",
       "    }\n",
       "</style>\n",
       "<table border=\"1\" class=\"dataframe\">\n",
       "  <thead>\n",
       "    <tr style=\"text-align: right;\">\n",
       "      <th></th>\n",
       "      <th>obj_cnt</th>\n",
       "      <th>seats_median</th>\n",
       "    </tr>\n",
       "    <tr>\n",
       "      <th>name</th>\n",
       "      <th></th>\n",
       "      <th></th>\n",
       "    </tr>\n",
       "  </thead>\n",
       "  <tbody>\n",
       "    <tr>\n",
       "      <th>beverly hills diner</th>\n",
       "      <td>1</td>\n",
       "      <td>88.00</td>\n",
       "    </tr>\n",
       "    <tr>\n",
       "      <th>bierloga</th>\n",
       "      <td>1</td>\n",
       "      <td>75.00</td>\n",
       "    </tr>\n",
       "    <tr>\n",
       "      <th>black &amp; white</th>\n",
       "      <td>1</td>\n",
       "      <td>40.00</td>\n",
       "    </tr>\n",
       "    <tr>\n",
       "      <th>bocconcino</th>\n",
       "      <td>3</td>\n",
       "      <td>68.00</td>\n",
       "    </tr>\n",
       "    <tr>\n",
       "      <th>boobo</th>\n",
       "      <td>1</td>\n",
       "      <td>46.00</td>\n",
       "    </tr>\n",
       "  </tbody>\n",
       "</table>\n",
       "</div>"
      ],
      "text/plain": [
       "                     obj_cnt  seats_median\n",
       "name                                      \n",
       "beverly hills diner        1         88.00\n",
       "bierloga                   1         75.00\n",
       "black & white              1         40.00\n",
       "bocconcino                 3         68.00\n",
       "boobo                      1         46.00"
      ]
     },
     "metadata": {},
     "output_type": "display_data"
    }
   ],
   "source": [
    "df_chain_obj = df[df.is_chain == 'да'].groupby('name').agg(\n",
    "    obj_cnt = ('id', 'nunique')\n",
    "    , seats_median = ('seats', 'median')\n",
    ")\n",
    "df_chain_obj.head()"
   ]
  },
  {
   "cell_type": "markdown",
   "metadata": {},
   "source": [
    "Создадим 2 категорилаьные переменные для количества объектов в сети и для медианного количества посадочных мест в объекте."
   ]
  },
  {
   "cell_type": "markdown",
   "metadata": {},
   "source": [
    "Будем считать, что если в сети 5 и менее объектов, то это сеть с малым количеством объектов, а если в сети 6 и более объектов, то это сеть с большим количеством объектов."
   ]
  },
  {
   "cell_type": "code",
   "execution_count": null,
   "metadata": {},
   "outputs": [],
   "source": [
    "labels = ['Мало заведений', 'Много заведений']\n",
    "bins = [-np.inf, 5, np.inf]"
   ]
  },
  {
   "cell_type": "code",
   "execution_count": null,
   "metadata": {},
   "outputs": [
    {
     "data": {
      "text/plain": [
       "obj_cnt_cat\n",
       "Мало заведений     457\n",
       "Много заведений     93\n",
       "Name: count, dtype: int64"
      ]
     },
     "metadata": {},
     "output_type": "display_data"
    }
   ],
   "source": [
    "df_chain_obj['obj_cnt_cat'] = pagri_data_tools.create_category_column(df_chain_obj.obj_cnt, labels=labels, bins=bins)\n",
    "df_chain_obj['obj_cnt_cat'].value_counts(dropna=False)"
   ]
  },
  {
   "cell_type": "markdown",
   "metadata": {},
   "source": [
    "Будем считать, если в заведении 30 и менее посадочных мест, то это небольшое заведение. Если более 30, то это крупное заведение."
   ]
  },
  {
   "cell_type": "code",
   "execution_count": null,
   "metadata": {},
   "outputs": [],
   "source": [
    "labels = ['Мало мест', 'Много мест']\n",
    "bins = [-np.inf, 30, np.inf]"
   ]
  },
  {
   "cell_type": "code",
   "execution_count": null,
   "metadata": {},
   "outputs": [
    {
     "data": {
      "text/plain": [
       "seats_median_cat\n",
       "Много мест    343\n",
       "Мало мест     207\n",
       "Name: count, dtype: int64"
      ]
     },
     "metadata": {},
     "output_type": "display_data"
    }
   ],
   "source": [
    "df_chain_obj['seats_median_cat'] = pagri_data_tools.create_category_column(df_chain_obj.seats_median, labels=labels, bins=bins)\n",
    "df_chain_obj['seats_median_cat'].value_counts(dropna=False)"
   ]
  },
  {
   "cell_type": "markdown",
   "metadata": {},
   "source": [
    "Теперь объеденим эти 2 категориии в одну."
   ]
  },
  {
   "cell_type": "code",
   "execution_count": null,
   "metadata": {},
   "outputs": [
    {
     "data": {
      "text/html": [
       "<div>\n",
       "<style scoped>\n",
       "    .dataframe tbody tr th:only-of-type {\n",
       "        vertical-align: middle;\n",
       "    }\n",
       "\n",
       "    .dataframe tbody tr th {\n",
       "        vertical-align: top;\n",
       "    }\n",
       "\n",
       "    .dataframe thead th {\n",
       "        text-align: right;\n",
       "    }\n",
       "</style>\n",
       "<table border=\"1\" class=\"dataframe\">\n",
       "  <thead>\n",
       "    <tr style=\"text-align: right;\">\n",
       "      <th></th>\n",
       "      <th>obj_cnt</th>\n",
       "      <th>seats_median</th>\n",
       "      <th>obj_cnt_cat</th>\n",
       "      <th>seats_median_cat</th>\n",
       "      <th>Категория заведения</th>\n",
       "    </tr>\n",
       "    <tr>\n",
       "      <th>name</th>\n",
       "      <th></th>\n",
       "      <th></th>\n",
       "      <th></th>\n",
       "      <th></th>\n",
       "      <th></th>\n",
       "    </tr>\n",
       "  </thead>\n",
       "  <tbody>\n",
       "    <tr>\n",
       "      <th>beverly hills diner</th>\n",
       "      <td>1</td>\n",
       "      <td>88.00</td>\n",
       "      <td>Мало заведений</td>\n",
       "      <td>Много мест</td>\n",
       "      <td>Мало заведений - Много мест</td>\n",
       "    </tr>\n",
       "    <tr>\n",
       "      <th>bierloga</th>\n",
       "      <td>1</td>\n",
       "      <td>75.00</td>\n",
       "      <td>Мало заведений</td>\n",
       "      <td>Много мест</td>\n",
       "      <td>Мало заведений - Много мест</td>\n",
       "    </tr>\n",
       "    <tr>\n",
       "      <th>black &amp; white</th>\n",
       "      <td>1</td>\n",
       "      <td>40.00</td>\n",
       "      <td>Мало заведений</td>\n",
       "      <td>Много мест</td>\n",
       "      <td>Мало заведений - Много мест</td>\n",
       "    </tr>\n",
       "    <tr>\n",
       "      <th>bocconcino</th>\n",
       "      <td>3</td>\n",
       "      <td>68.00</td>\n",
       "      <td>Мало заведений</td>\n",
       "      <td>Много мест</td>\n",
       "      <td>Мало заведений - Много мест</td>\n",
       "    </tr>\n",
       "    <tr>\n",
       "      <th>boobo</th>\n",
       "      <td>1</td>\n",
       "      <td>46.00</td>\n",
       "      <td>Мало заведений</td>\n",
       "      <td>Много мест</td>\n",
       "      <td>Мало заведений - Много мест</td>\n",
       "    </tr>\n",
       "  </tbody>\n",
       "</table>\n",
       "</div>"
      ],
      "text/plain": [
       "                     obj_cnt  seats_median     obj_cnt_cat seats_median_cat  \\\n",
       "name                                                                          \n",
       "beverly hills diner        1         88.00  Мало заведений       Много мест   \n",
       "bierloga                   1         75.00  Мало заведений       Много мест   \n",
       "black & white              1         40.00  Мало заведений       Много мест   \n",
       "bocconcino                 3         68.00  Мало заведений       Много мест   \n",
       "boobo                      1         46.00  Мало заведений       Много мест   \n",
       "\n",
       "                             Категория заведения  \n",
       "name                                              \n",
       "beverly hills diner  Мало заведений - Много мест  \n",
       "bierloga             Мало заведений - Много мест  \n",
       "black & white        Мало заведений - Много мест  \n",
       "bocconcino           Мало заведений - Много мест  \n",
       "boobo                Мало заведений - Много мест  "
      ]
     },
     "metadata": {},
     "output_type": "display_data"
    }
   ],
   "source": [
    "df_chain_obj['Категория заведения'] = (df_chain_obj['obj_cnt_cat'].astype(str) + ' - ' + df_chain_obj['seats_median_cat'].astype(str)).astype('category')\n",
    "df_chain_obj.head()"
   ]
  },
  {
   "cell_type": "markdown",
   "metadata": {},
   "source": [
    "### Объединение данных\n"
   ]
  },
  {
   "cell_type": "markdown",
   "metadata": {},
   "source": [
    "Сначала все одниаковый по смыслу поля в разных таблицах приводим к одному названию."
   ]
  },
  {
   "cell_type": "markdown",
   "metadata": {},
   "source": [
    "Важно  \n",
    "Все новые таблицы начинаем с `df_`  чтобы потом не нужно было искать навзание   \n",
    "вводишь `df_` и далее будет список переменных таблиц"
   ]
  },
  {
   "cell_type": "markdown",
   "metadata": {},
   "source": [
    "ВАЖНО  \n",
    "Перевести id всех сущностей в числа и чтобы уникальность сохранилась.  \n",
    "Это нужно для анализа на графиках, чтобы можно было для них аггрегировать по count и nunique"
   ]
  },
  {
   "cell_type": "markdown",
   "metadata": {},
   "source": [
    "Если будет много новых таблиц, то созадем подразделы   \n",
    "- без аггрегации \n",
    "- с аггрегацией"
   ]
  },
  {
   "cell_type": "markdown",
   "metadata": {},
   "source": [
    "Не забываем про ИИ  \n",
    "Пишем ему задание типа такого -  \n",
    "пишем какие таблицы у нас есть, название таблицы, поля таблицы с описанием полей.  \n",
    "и спрашиваем какие новые таблицы можно создать, чтобы проанализировать данные.  \n",
    "Какие аггрегации сделать и так далее.  \n",
    "Вот пример"
   ]
  },
  {
   "cell_type": "markdown",
   "metadata": {},
   "source": [
    "у меня есть таблица \n",
    "users с полями \n",
    "- user_id - уникальный идентификатор пользователя\n",
    "- first_name - имя пользователя\n",
    "далее пишем все имеющиеся поля\n",
    "есть таблица calls с полями \n",
    "- id - уникальный номер звонка\n",
    "- call_date - дата звонка\n",
    "и так далее описываем все таблицы и поля  \n",
    "Пишем цель анализа, можно скопировать из описания и цели\n",
    "И далее пишем что нужно \n",
    "- это pandas dataframes какие таблицы я могу из них сделать для будущего анализа, чтобы подробно все проанализировать, что с чем объеденить, какую аггрегацию выбрать, расскажи подробно и как можно больше"
   ]
  },
  {
   "cell_type": "markdown",
   "metadata": {},
   "source": [
    "Вот структурированный подход к выбору таблиц для объединения при анализе данных:\n",
    "\n",
    "1. Начните с бизнес-задачи:\n",
    "- Четко определите, какой анализ вам нужно провести\n",
    "- Какие метрики вы хотите получить\n",
    "- Какие гипотезы проверить\n",
    "2. Создайте карту данных:\n",
    "- Выпишите все доступные датафреймы\n",
    "- Для каждого датафрейма укажите ключевые поля\n",
    "- Отметьте связи между таблицами (общие ключи)\n",
    "3. Выберите основную таблицу:\n",
    "- Определите центральную сущность анализа (например, пользователь или транзакция)\n",
    "- Выберите таблицу с этой сущностью как базовую\n",
    "4. Определите необходимые признаки:\n",
    "- Составьте список всех нужных переменных для анализа\n",
    "- Отметьте, в каких таблицах они находятся\n",
    "- Исключите таблицы с избыточной информацией\n",
    "5. Спланируйте последовательность объединения:\n",
    "- Начните с основной таблицы\n",
    "- Добавляйте только те таблицы, которые содержат нужные признаки\n",
    "- Учитывайте гранулярность данных (уровень агрегации)"
   ]
  },
  {
   "cell_type": "markdown",
   "metadata": {},
   "source": [
    "##### Создание таблиц без аггрегации"
   ]
  },
  {
   "cell_type": "markdown",
   "metadata": {},
   "source": [
    "ОЧЕНЬ ВАЖНО \n",
    "когда мы соединяем несколько таблиц в одну, то нужно добавить метку откуда мы берем данные, если это не один источник просто в разных таблицах.  \n",
    "По сути разные таблицы это категориальная переменная, и общая метрика которую мы соберем из разных фреймов, должна быть изучена в разрезе этой категории тоже.  \n",
    "И также важно посмотреть структуру метрики по этой новой категории.  \n",
    "Нужно внимательно посмотреть на таблицы и подумать есть ли у нас такая ситуация.  \n",
    "При чем это может быть не очевидно.  \n",
    "Например, у нас информация о звонках, сообщениях и так далее.  \n",
    "Даже тут можно создать категориальную переменную (сообщение, звонок и так далее).  \n",
    "Все что можно сделать категориальной переменной, нужно обязательно сделать.  "
   ]
  },
  {
   "cell_type": "markdown",
   "metadata": {},
   "source": [
    "Чаще всего у нас будет таблица фактов и таблица измерений.  \n",
    "И наша задача добавить категории к таблице фактов для дальнейшего анализа."
   ]
  },
  {
   "cell_type": "markdown",
   "metadata": {},
   "source": [
    "Думаем какие метрики нам нужно обхеденить в один датафрейм, чтобы потом проанализировать.  \n",
    "Обычно мы берем датафрейм где есть числовая переменная, которую мы хотим проанализировать и к этому  \n",
    "датафрейму добавляем категориальные переменные из других датафреймов.   \n",
    "Также можно добавлять числовые перменные для анализа корреляции.  "
   ]
  },
  {
   "cell_type": "markdown",
   "metadata": {},
   "source": [
    "Все новые созданные таблицы записываем в temp.ipynb"
   ]
  },
  {
   "cell_type": "markdown",
   "metadata": {},
   "source": [
    "Сначала думаем какие таблицы соеденить для анализа без аггрегации.  \n",
    "Чтобы проанализировать не аггрегированные данные.  \n",
    "Тут нужно изучить размеры таблицы и какие зависимости нам было бы полезно изучить.  \n",
    "Далее посчитать сколько будет строк в случии объединения без аггрегации и если памяти хватает, то делаем.  "
   ]
  },
  {
   "cell_type": "markdown",
   "metadata": {},
   "source": [
    "Например, у нас есть таблицы тарифом, сообщений, пользователей, звонков.  \n",
    "Объеденить в один фрейм мы их не можем, но мы можем создать отдельные фреймы для сообщений, звонков и трафика без аггрегации.  \n",
    "И потом уже отдельно их изучить в dash app. "
   ]
  },
  {
   "cell_type": "markdown",
   "metadata": {},
   "source": [
    "Создадим дополнительные таблицы для анализа"
   ]
  },
  {
   "cell_type": "markdown",
   "metadata": {},
   "source": [
    "Создадим отдельные таблицы для анализа выручки для звонков, сообщений и интернета."
   ]
  },
  {
   "cell_type": "code",
   "execution_count": null,
   "metadata": {},
   "outputs": [
    {
     "name": "stdout",
     "output_type": "stream",
     "text": [
      "len of df_calls =  202607\n",
      "len of df_messages =  123036\n",
      "len of df_internet =  149396\n"
     ]
    }
   ],
   "source": [
    "print('len of df_calls = ', len(df_calls))\n",
    "print('len of df_messages = ', len(df_messages))\n",
    "print('len of df_internet = ', len(df_internet))"
   ]
  },
  {
   "cell_type": "code",
   "execution_count": null,
   "metadata": {},
   "outputs": [],
   "source": [
    "calls_users = df_calls.merge(df_users, on='user_id', how='left')\n",
    "messages_users = df_messages.merge(df_users, on='user_id', how='left')\n",
    "internet_users = df_internet.merge(df_users, on='user_id', how='left')"
   ]
  },
  {
   "cell_type": "code",
   "execution_count": null,
   "metadata": {},
   "outputs": [
    {
     "name": "stdout",
     "output_type": "stream",
     "text": [
      "len of calls_users =  202607\n",
      "len of messages_users =  123036\n",
      "len of internet_users =  149396\n"
     ]
    }
   ],
   "source": [
    "print('len of calls_users = ', len(calls_users))\n",
    "print('len of messages_users = ', len(messages_users))\n",
    "print('len of internet_users = ', len(internet_users))"
   ]
  },
  {
   "cell_type": "markdown",
   "metadata": {},
   "source": [
    "Добавим информацию о тарифах"
   ]
  },
  {
   "cell_type": "code",
   "execution_count": null,
   "metadata": {},
   "outputs": [],
   "source": [
    "calls_full = calls_users.merge(df_tariffs, left_on='tariff', right_on='tariff_name', how='left')\n",
    "messages_full = messages_users.merge(df_tariffs, left_on='tariff', right_on='tariff_name', how='left')\n",
    "internet_full = internet_users.merge(df_tariffs, left_on='tariff', right_on='tariff_name', how='left')"
   ]
  },
  {
   "cell_type": "code",
   "execution_count": null,
   "metadata": {},
   "outputs": [
    {
     "name": "stdout",
     "output_type": "stream",
     "text": [
      "len of calls_full =  202607\n",
      "len of messages_full =  123036\n",
      "len of internet_full =  149396\n"
     ]
    }
   ],
   "source": [
    "print('len of calls_full = ', len(calls_full))\n",
    "print('len of messages_full = ', len(messages_full))\n",
    "print('len of internet_full = ', len(internet_full))"
   ]
  },
  {
   "cell_type": "markdown",
   "metadata": {},
   "source": [
    "Количество строк не изменилось, все хорошо. "
   ]
  },
  {
   "cell_type": "markdown",
   "metadata": {},
   "source": [
    "Вот так нужно подумать и создать все нужные таблицы без аггрегации.  "
   ]
  },
  {
   "cell_type": "markdown",
   "metadata": {},
   "source": [
    "##### Создание таблиц с аггрегацией"
   ]
  },
  {
   "cell_type": "markdown",
   "metadata": {},
   "source": [
    "ОЧЕНЬ ВАЖНО когда мы соединяем несколько таблиц в одну, то нужно добавить метку откуда мы берем данные, если это не один источник просто в разных таблицах.  \n",
    "По сути разные таблицы это категориальная переменная, и общая метрика которую мы соберем из разных фреймов, должна быть изучена в разрезе этой категории тоже.  \n",
    "И также важно посмотреть структуру метрики по этой новой категории."
   ]
  },
  {
   "cell_type": "markdown",
   "metadata": {},
   "source": [
    "ВАЖНО  \n",
    "вниметльно выбираем функции для аггрегации.  \n",
    "Думаем какая аггрегирующая метрика нам нужна. Возможно нужно несколько, то используем несколько `.agg(mb_used=('mb_used', 'sum'), mb_used_avg=('mb_used', 'mean'))`"
   ]
  },
  {
   "cell_type": "markdown",
   "metadata": {},
   "source": [
    "Думаем нужно ли считать   \n",
    "`mean, median, count, nunique, sum`"
   ]
  },
  {
   "cell_type": "markdown",
   "metadata": {},
   "source": [
    "Нужно хорошо подумать какие аггрегационные метрики нам будут нужны для анализа на графиках.  \n",
    "Так как без аггрегации мы в dash app сами выбираем аггрегацию, а тут аггрегация уже сделана, поэтому нам нужно выбрать аггрегацию заранее."
   ]
  },
  {
   "cell_type": "markdown",
   "metadata": {},
   "source": [
    "ВАЖНО  \n",
    "Хорошо думаем по каким каетгориям нужно саггрегировать данные, чтобы сравнить категории.  \n",
    "Например, у нас заказы и расходы на макретинг. Мы хотим не просто сравнить источники по выручке или расходам, а хотим посмотреть выручку минус расходы.  \n",
    "Для этого нужно каждого пользователя привязать к источнку (например по первому входу с какого источника он пришел)  \n",
    "И далее добавить в таблицу, где нет источнкика колонку для каждого пользователя с истончиком и аггрегировать данные и обхеденить по источнику\n",
    "Вот в таких ситуациях нужно аггрегировать по источнику, объеденять таблицы и рассчитывать метрки (выручка, прибыль и прочие)"
   ]
  },
  {
   "cell_type": "markdown",
   "metadata": {},
   "source": [
    "ВАЖНО  \n",
    "чтобы дальше при анашизе не было путаницы, аггрегированные метрики называем с префикосом аггрегации, например, avg_age, sum_revenue"
   ]
  },
  {
   "cell_type": "markdown",
   "metadata": {},
   "source": [
    "И не забываем, что если мы рассчитали несколько аггрегирующих метрик в agg,  \n",
    "то нужно все их изучить в info_gen"
   ]
  },
  {
   "cell_type": "markdown",
   "metadata": {},
   "source": [
    "ВАЖНО  \n",
    "Если мы можем сделать аггрегацию по нескольким столбцам (то есть группируем по нескольим столбцам),  \n",
    "То не забываем сделать аггрегацию для каждого столбца отдельно.  \n",
    "Так как в dash app у нас будет автомтаически групироваться по категории и браться, например, среднее занчение.  \n",
    "И если исходный датафрейм у нас был сгруппирован, например, по месяцу и пользователям, то в итоге у нас будет среднее значение за месяц по пользователям.  \n",
    "Поэтому нам нужно сделать отдельно аггрегацию по месяцу.  "
   ]
  },
  {
   "cell_type": "markdown",
   "metadata": {},
   "source": [
    "Нужно подумать как лучше создавать аггрегированные таблицы.  \n",
    "Сначала нужно определтиь какие уровни аггрегации нам нужны для анализа.  \n",
    "Наприммер, средняя выручка за день по месяцам, нам нужно чтобы изначально в dash app шла таблица с аггрегацией по дням.  \n",
    "И так все таблицы. Поэтому очень важно правильно выбирать уровень аггрегации."
   ]
  },
  {
   "cell_type": "markdown",
   "metadata": {},
   "source": [
    "Далее переходим к созаднию аггрегированных таблиц.  "
   ]
  },
  {
   "cell_type": "markdown",
   "metadata": {},
   "source": [
    "Структура объединения с аггрегацией"
   ]
  },
  {
   "cell_type": "markdown",
   "metadata": {},
   "source": [
    "1. Определение целей анализа\n",
    "- Формулировка вопросов: Начните с четкого понимания, какие вопросы вы хотите ответить с помощью агрегации. Например, хотите ли вы узнать средний доход по регионам или общее количество продаж по месяцам?\n",
    "- Идентификация ключевых метрик: Определите, какие метрики будут важны для вашего анализа (например, сумма, среднее, количество, максимум, минимум и т.д.)."
   ]
  },
  {
   "cell_type": "markdown",
   "metadata": {},
   "source": [
    "2. Анализ исходных данных\n",
    "- Изучение структуры данных: Посмотрите на каждый из датафреймов, которые вы хотите объединить. Определите, какие переменные есть в каждом из них и какие из них могут быть использованы для агрегации.\n",
    "- Определение типов данных: Убедитесь, что типы данных в ваших переменных соответствуют тому, что вы хотите агрегировать (например, числовые данные для суммирования)."
   ]
  },
  {
   "cell_type": "markdown",
   "metadata": {},
   "source": [
    "1. Определение уровня агрегации\n",
    "- Группировка по уровням: Решите, на каком уровне вы хотите агрегировать данные. Например, вы можете агрегировать данные по месяцам, кварталам или годам, в зависимости от ваших целей.\n",
    "- Многоуровневая агрегация: Если необходимо, подумайте о многоуровневой агрегации, когда данные агрегируются сначала по одному критерию, а затем по другому (например, сначала по регионам, затем по категориям товаров).  \n",
    "Примеры:\n",
    "- По времени (день/месяц/год)\n",
    "- По объекту (пользователь/продукт/регион)\n",
    "- По комбинации измерений"
   ]
  },
  {
   "cell_type": "markdown",
   "metadata": {},
   "source": [
    "2. Классификация полей\n",
    "- Метрики (что агрегируем)\n",
    "- Атрибуты (характеристики объектов)\n",
    "- Группировочные поля (по ним агрегируем)"
   ]
  },
  {
   "cell_type": "markdown",
   "metadata": {},
   "source": [
    "3. Выбор агрегационных функций для каждого типа данных:\n",
    "- Числовые: sum, mean, max, min, count\n",
    "- Категориальные: mode, count, nunique\n",
    "- Временные: first, last, max, min"
   ]
  },
  {
   "cell_type": "markdown",
   "metadata": {},
   "source": [
    "Помним, что аггрегировать можно не только по строкам,  \n",
    "можно использовать pivot_table для аггрегации по столбцам."
   ]
  },
  {
   "cell_type": "markdown",
   "metadata": {},
   "source": [
    "Важно не сделать таблицы аггрегации, которые у нас уже потенциально есть в неаггрегированном виде.  \n",
    "То есть мы создаем аггрегации только для тех ситуаций, когда у нас нет этого без аггрегации.  "
   ]
  },
  {
   "cell_type": "markdown",
   "metadata": {},
   "source": [
    "Тут важно определить по каким полям мы будем аггрегировать данные.  \n",
    "И выбрать таблицы, которые нам нужно объеденить, чтобы изучить зависимости их полей.  "
   ]
  },
  {
   "cell_type": "markdown",
   "metadata": {},
   "source": [
    "Таблиц может быть много, так как если у нас данных много, то нам нужно будет аггрегировать их перед соединением.  \n",
    "Нужно подумать какие аггрегации нам нужны для анализа и для каждой сделать отдельный датафрейм и добавить нужные категориальные  \n",
    "перменные из других датафреймов.  "
   ]
  },
  {
   "cell_type": "markdown",
   "metadata": {},
   "source": [
    "То есть если у нас данных сильно много, то мы думаем как аггрегировать числовую перменную и уже к аггрегированной таблице джойним другие с категориями.  "
   ]
  },
  {
   "cell_type": "markdown",
   "metadata": {},
   "source": [
    "Когда у нас в двух таблицах разные названия столбцвов, то нужно стандартизировать названия, чтобы они совпадали.  \n",
    "Если мы используем не inner соединение. Так как при внешенм соединение в итоговой таблице будут пропуски, где нет совпадений.  \n",
    "И если мы не приведем названия столбцов к одному виду, то у нас получиться, что в одном и другом столбце, по которому мы соединяли,  \n",
    "будут пропуски. И если нам далее нужно будет соединять с другой таблицей по этому полю, то мы не сможем это сделать.  \n",
    "И для расчетов также это портит все.  \n",
    "Поэтому нужно всегда приводить названия столбцов к одному виду."
   ]
  },
  {
   "cell_type": "markdown",
   "metadata": {},
   "source": [
    "Если мы не хотим менять название столбца в исходной таблице, то мы можем прям в merge переименовать таблицу  \n",
    "`df_revenue_by_month = df_revenue_by_month.merge(df_tariffs.rename(columns={'tariff_name': 'tariff'}), on='tariff')`"
   ]
  },
  {
   "cell_type": "markdown",
   "metadata": {},
   "source": [
    "ВАЖНО  \n",
    "Если мы можем создать таблицу без аггрегации, то не нужно создавать аггрегированные, так как мы можем в процессе изучения   \n",
    "в dash app строить разные аггрегации и изучать в разрезах.  \n",
    "Аггрегация нужна, когда мы не можем объеденить таблицы из-за размера например, и тогда нам нужно уже думать до построения графиков  \n",
    "какие аггрегации сделать для объединнения таблиц.  \n",
    "И придется делать много разных таблиц, которые нам нужно изучить. Это минус аггрегации. Так как мы не можем автоматизироваать процесс."
   ]
  },
  {
   "cell_type": "markdown",
   "metadata": {},
   "source": [
    "Если нам нужно для каждого пользователя найти источник, с которого он первый раз зашел, то делаем так"
   ]
  },
  {
   "cell_type": "markdown",
   "metadata": {},
   "source": [
    "> Проверка соответствия:  \n",
    "> Если у нас в разных таблицах есть значения, которые дожны быть одинакоые,  \n",
    "> то нужно проверить, что значения в одном столбце соответствуют значениям в другом столбце.\n"
   ]
  },
  {
   "cell_type": "code",
   "execution_count": null,
   "metadata": {},
   "outputs": [],
   "source": [
    "df['column_name1'].equals(df['column_name2'])"
   ]
  },
  {
   "cell_type": "markdown",
   "metadata": {},
   "source": [
    "> Обоготить данные можно следующими способами\n",
    "\n",
    "- взять поле нашей таблицы и найти дополнительные данные в интернете или ещё где-то и потом связать с нашей колонкой по этому полю\n",
    "  > Самое просто это дата, если у нас есть дата, то мы можем много разной доп информации внести в наши данные связывая по дате.  \n",
    "  > Также, например, у нас есть какие-то коды чего-то, мы ищем информацию по этим кодам и находим табличку с доп инфой по этим кодам и можем обоготить ими  \n",
    "  > нашу таблицу. Например, у нас города или страны, мы можем по ним также внести доп инфу из какого-то источника, которая нам поможет.  \n",
    "  > Вообще любое поле нашей таблицы это потенцильная нить для обогощения. Главное понять с чем полезным мы можем соеденить  \n",
    "  > через конкретное поле, чтобы получить больше полезной информации для анализа, по сути для детализации наших зависимостей или для поиска  \n",
    "  > новых зависимостей и инсайтов в них.  \n",
    "  > Процесс следующий - мы берем каждую колонку нашего дата сета и думаем, с чем через нее мы можем связать и если придумываем, то идешь ищем эту информацию и  \n",
    "  > в итоге соединяем.\n",
    "- Можно пойти от обратного. Сначал подумтаь какие данные нам могут помочь и поискать их в интернете например, а потом уже думать как их соеденить с нашими\n",
    "  > данными. Оба способа лучше делать одновременно.\n"
   ]
  },
  {
   "cell_type": "markdown",
   "metadata": {},
   "source": [
    "> Каждый раз, когда мы работаем с дата сетом, мы должны понять что является сущностью этого дата сета.  \n",
    "> Например событие, человек и прочее.  \n",
    "> Далее нам нужно поянть а можем ли мы его идентифицировать по текущим данным (не всегда есть уникальный ай ди).  \n",
    "> Если не можем, то нужно думта как обогатить данные, чтобы четко идентифицировать сущности\n"
   ]
  },
  {
   "cell_type": "markdown",
   "metadata": {},
   "source": [
    "> Что нужно обязательно првоерить после соединения\n",
    "\n",
    "- если мы соединяем по полю, которое уникально в обеих таблицах\n",
    "  > - количество строк в левом датафрейме равно количеству строк в итоговом\n",
    "  > - параметры каждого дата сета не изменились (если мы соединили правильно, то итоговые суммы по столбцам не должны измениться)\n",
    "  >   - используем `df.sum(numeric_only=True)` для каждой таблицы до соединения и для общей таблицы и сравниваем значения\n",
    "  >   - можно использвоать `df.describe` также до и после объединения и сравнивать параметры\n",
    "- если у нас в одной из колонок для соединения не уникальные значения (то есть для одной строки в левой таблице будет несколько в итоговй)\n",
    "  > - Сначала группируем таблицы, чтобы поле для соединения в обеих таблицах было уникальное\n",
    "  >   и применяем предыдущий шаг с количеством строк в левой и итоговой и суммой значений в левой и итоговой одинаковой\n",
    "  > - Если нам нужно соеденить без группировки (но это редко может быть, поэтому нужно подумать точно ли не моежм сгруппировать)  \n",
    "  >   тогда нет выбора и остаются только следующие варианты  \n",
    "  >    - если в левой таблице уникальные записи в колонке, по которйо соединяем  \n",
    "  >    - тогда считаем сколько было записей в левой таблице в колонке для соединения и сравниваем с количеством **уникальных** записей в итоговой  \n",
    "  >    они должны совпадать, но тут важно в итоговой брать уникальные записи - есил и в левой и правой нет уникальных - тут считаем сколько **уникальных** в левой до и сколько **уникальных** в итоговой, должно совпадать\n"
   ]
  },
  {
   "cell_type": "markdown",
   "metadata": {},
   "source": [
    "> Если у нас что-то не сходится после соединения таблиц, то нужно внимально изучить это.  \n",
    "> Тут может быть инсайт (кто-то не правильно вносит информацию, какие-то значения неверные или кто-то что-то хотел спрятать, не указать и прчоее).  \n",
    "> Когда видим нестыковки после соединения таблиц, то должна загораться красная лампочка. Это потенциальный инсайт, баг, который мы можем найти и сообщить, чтобы его починили.\n"
   ]
  },
  {
   "cell_type": "markdown",
   "metadata": {},
   "source": [
    "> помним, что метод соединения inner стоит по умолчанию в merge\n"
   ]
  },
  {
   "cell_type": "markdown",
   "metadata": {},
   "source": [
    "> В колонках, по которым будем соеднить, проверяем, нет ли пропусков, пропуски нужно заменить нулями.  \n",
    "> Иначе будет либо ошибка, либо пропуски сджойнятся с пропусками\n"
   ]
  },
  {
   "cell_type": "markdown",
   "metadata": {},
   "source": [
    "> Проблема справочников  \n",
    "> При объединение таблиц важно помнить про то, что в разных таблицах не только названия столбцов может быть разное,  \n",
    "> но и одно значение может быть записано по разному в разных таблицах, например, названия профессий, названия городов,  \n",
    "> имя в одной таблице на русском, а в другой на английском, номер телефона с черточкой или плюсом и без черточки или плюса.  \n",
    "> Поэтому не забываем привести все значения таблиц к нижнему регистру, чтобы не было проблем разными регистрами для одного слова\n"
   ]
  },
  {
   "cell_type": "markdown",
   "metadata": {},
   "source": [
    "> Проблема временных зон  \n",
    "> В одной таблице может быть выгрузка по местному времени, а в другом по московскому\n"
   ]
  },
  {
   "cell_type": "markdown",
   "metadata": {},
   "source": [
    "> Проблема курсов валют  \n",
    "> Разыне системы могут брать курс за разные промежутки вермени, например, одна система берет курс в гугле (раз в час обновляется),  \n",
    "> а другая система берет курс в ЦБ (обновляется раз в сутки)  \n",
    "> И поэтому итоговые резултаты могут не состыковаться, поэтому, когда видим курсы валют, то нужно убедиться. что они взяты из одного испточника  \n",
    "> и за один промежуток времени\n"
   ]
  },
  {
   "cell_type": "markdown",
   "metadata": {},
   "source": [
    "> Когда мы работаем с данными, нам важно четко идентифицировать клиентов, событие или другую сущность, с которой мы работаем.  \n",
    "> Иначе у нас будет шум, так как мы одного и того же клиента учтем более одного раза.\n"
   ]
  },
  {
   "cell_type": "markdown",
   "metadata": {},
   "source": [
    "> Как можно обоготить данные, чтобы лучше идентифицировать сущности\n",
    "\n",
    "- Добавить для клиента email, телефон, устройство, 4 цифры карты и другое, что может помочь его идентифицировать\n",
    "  > Это важно так как у клиента могут быть разные телефоны, устройства, карты, но все это вместе поможет его идентифицировать точнее\n",
    "- Добавить для события локацию, погоду, связанные событие, праздники, что поможет нам идентифицировать событие\n"
   ]
  },
  {
   "cell_type": "markdown",
   "metadata": {},
   "source": [
    "Все новые созданные переменные помещаем в temp.ipynb"
   ]
  },
  {
   "cell_type": "markdown",
   "metadata": {},
   "source": [
    "### Расчет метрик\n"
   ]
  },
  {
   "cell_type": "markdown",
   "metadata": {},
   "source": [
    "ОЧЕНЬ ВАЖНО  \n",
    "обязательно создать метрику количество всех сущностей, которые есть в датафреймах.   \n",
    "Так как в анализе категорий мы сравниваем количество в категориях.  \n",
    "А нам также очень важно посмотреть количество не категоризированных сущностей.  \n",
    "Нужно подумать как лучше это сделать. В dash app есть функция cnt, главное не забыть ее использовать.  \n",
    "Но это суммарное, нужно ещё среднее или медианное значение.\n",
    "Если количество применимо к ним. Например количество пользователей, количество заказов, количество товаров и т.д.\n",
    "И также важно смотреть суммарное и среднее / медианное значение.\n",
    "И важно назвать не как было например user_id, а назвать понятнее users_cnt или типа того, чтобы не запутаться на графиках.  \n",
    "Очень важно давать четкое и понятное детализированное название переменным.   \n",
    "Это очень сильно помогает далее при анализе.  "
   ]
  },
  {
   "cell_type": "markdown",
   "metadata": {},
   "source": [
    "ОЧЕНЬ ВАЖНО когда мы соединяем несколько таблиц в одну, то нужно добавить метку откуда мы берем данные, если это не один источник просто в разных таблицах.  \n",
    "По сути разные таблицы это категориальная переменная, и общая метрика которую мы соберем из разных фреймов, должна быть изучена в разрезе этой категории тоже.  \n",
    "И также важно посмотреть структуру метрики по этой новой категории."
   ]
  },
  {
   "cell_type": "markdown",
   "metadata": {},
   "source": [
    "ВАЖНО  \n",
    "Строим временные графики не только по месяцам, важно построить и по дням.  \n",
    "Для всех метрик желательно, чтобы посмотреть как метрика меняется со временем.  \n",
    "Так как если мы построим только аггрегировав по месяцам, то можем потерять важные колебания и инсайты.  \n",
    "Также на графике временных изменений метрик, рисуем линию срднего (моды, медианы, что подходит больше всего) и подписываем значение.  \n",
    "Так будет видно колебание вокруг средннего значения.  \n",
    "Если у нас данных сильно много и по дням сильно много данных на графике, то просто берем за последний год, полгода или три месяца."
   ]
  },
  {
   "cell_type": "markdown",
   "metadata": {},
   "source": [
    "ВАЖНО  \n",
    "изучаем отдельно каждую новую метрики через info_gen"
   ]
  },
  {
   "cell_type": "code",
   "execution_count": null,
   "metadata": {},
   "outputs": [],
   "source": [
    "gen = pagri_data_tools.info_gen(df_users, column='age_cat', mode='column')\n",
    "gen.next()"
   ]
  },
  {
   "cell_type": "markdown",
   "metadata": {},
   "source": [
    "ВАЖНО  \n",
    "После каждого объединения таблиц (merge or join) нужно проверить, есть ли NaN значения в результирующем датафрейме, чтобы убедиться, что данные корректно объединены.\n",
    "\n"
   ]
  },
  {
   "cell_type": "code",
   "execution_count": null,
   "metadata": {},
   "outputs": [],
   "source": [
    "df.isna().sum()"
   ]
  },
  {
   "cell_type": "markdown",
   "metadata": {},
   "source": [
    "ВАЖНО  \n",
    "Когда создали новую переменную, то записываем ее в temp.ipynb название переменной и описание  \n",
    "Чтобы далее когда нужно будет добавлять в title_for_axis не нужно бьло искать"
   ]
  },
  {
   "cell_type": "markdown",
   "metadata": {},
   "source": [
    "Сначала все одниаковый по смыслу поля в разных таблицах приводим к одному названию."
   ]
  },
  {
   "cell_type": "markdown",
   "metadata": {},
   "source": [
    "Если метрик много, то можно создать подразделы для них.  \n",
    "Ниже примерные названия подразделов.  \n",
    "Названия метрик могут повторяться в разных разделах ниже.  \n",
    "Это нормально, так как многие разделы имеют общее.  \n",
    "Нужно выбрать разделы, которые лушче подходят для конкретнго проекта.  "
   ]
  },
  {
   "cell_type": "markdown",
   "metadata": {},
   "source": [
    "Если метрик не много, то просто созадем их в одном разделе  \n",
    "Каждую новую метрику можно просто выделить начало создания жирным шрифтом"
   ]
  },
  {
   "cell_type": "markdown",
   "metadata": {},
   "source": [
    "ВАЖНО  \n",
    "для неаггригированных данных создаем новую категориальную переменную новый или нет пользователй (считаем для каждого пользователя его первый месяц и сравниваем с текущим месяцем)  \n",
    "и также при аггрегации создаем вместе с mau считаем new_user_cnt "
   ]
  },
  {
   "cell_type": "markdown",
   "metadata": {},
   "source": [
    "сколько времени в среднем проходит с момента первого посещения сайта до совершения покупки."
   ]
  },
  {
   "cell_type": "markdown",
   "metadata": {},
   "source": [
    "Используйте данные, чтобы рассчитать метрики отдельно за сентябрь, октябрь и ноябрь:\n",
    "1. Количество сессий (визитов).\n",
    "2. MAU.\n",
    "3. DAU.\n",
    "4. Revenue.\n",
    "5. ARPU.\n",
    "6. ARPPU.\n",
    "7. Session / user.\n",
    "8. Количество целевых действий (целевое действие — событие, за которое получен\n",
    "доход).\n",
    "\n",
    "Дополнительно рассчитайте показатель LTV на пользователя за период три месяца: с\n",
    "сентября по ноябрь."
   ]
  },
  {
   "cell_type": "markdown",
   "metadata": {},
   "source": [
    "Дополнительно можно расчитать долю новых покупателей, долю новых пользователей за период"
   ]
  },
  {
   "cell_type": "markdown",
   "metadata": {},
   "source": [
    "cogs (cost of good sold) - стоимость оказания услуги или товара (себестоймость 1 продажи или услуги)  \n",
    "1cogs - особенные затраты на 1 сделку (например, покупки по промокоду, тестовые периоды пользования услугой, мы при этом бесплатно оказываем всю услугу или часть)      \n",
    "cogs и 1cogs не имеют отношения к маркетингу"
   ]
  },
  {
   "cell_type": "markdown",
   "metadata": {},
   "source": [
    "ВАЖНО   \n",
    "при расчетах следующих метрик, нужно убедиться что поле в знаменателе не имеет нулей"
   ]
  },
  {
   "cell_type": "markdown",
   "metadata": {},
   "source": [
    "ВАЖНО  \n",
    "для когортного анализа колиества чего-то лучше делать отношение с начальным, как в retention.  \n",
    "Тогда удобно сравнивать динамику."
   ]
  },
  {
   "cell_type": "markdown",
   "metadata": {},
   "source": [
    "Какие ещё метрики стоит считать  \n",
    "ВАЖНО: почти все эти метрики расчитываются на определнном периоде, поэтому нужно это всегда уточнять\n",
    "- $\\text{CAC} = \\frac{\\text{Marketing costs}}{\\text{Buyers}} $\n",
    "\n",
    "- $\\text{CPA} = \\frac{\\text{Marketing costs}}{\\text{Users acquisition}}$\n",
    "- $APC = \\frac{Orders}{Buyers}$\n",
    "- $\\text{C1} = \\frac{\\text{Buyers}}{\\text{Users acquisition}} $\n",
    "- $\\text{AOV} = \\frac{\\text{Revenue}}{\\text{Orders}} $\n",
    "- $\\text{ROMI} = \\frac{\\text{LTV}}{\\text{CARC}} * 100$\n",
    "- $\\text{ARPU} = \\frac{\\text{Revenue}}{\\text{users}} $\n",
    "- $\\text{ARPPU} = \\frac{\\text{Revenue}}{\\text{Buyers}} $\n",
    "- $\\text{ARPU} = \\text{ARPPU} * \\frac{\\text{Buyers}}{\\text{users}} = \\text{ARPPU} * \\text{C1}$\n",
    "- $\\text{ARPPU} = {\\text{APC}}*{\\text{AOV}} $\n",
    "- $\\text{gross profit} = \\text{Users} * ((\\text{AOV} - \\text{cogs}) * \\text{APC} - \\text{1cogs}) * С1 - \\text{CPA}$\n",
    "- $Margin(\\%) = \\frac{AOV - COGS}{AOV}$\n",
    "- $Margin(\\%) = \\frac{Revenue - Costs}{Revenue} = \\frac{Margin}{Revenue}$\n",
    "- $\\text{Costs} = {\\text{Marketing Costs}} + {\\text{COGS}}*{\\text{Orders}} + {\\text{1st COGS}}* {\\text{Buyers}} +  {\\text{fix COGS}}$\n",
    "- $\\text{Monthly Sticky Factor} = \\frac{\\text{DAU}}{\\text{MAU}}$\n",
    "- $\\text{Weekly Sticky Factor} = \\frac{\\text{DAU}}{\\text{WAU}}$\n",
    "- $ASL = \\frac{\\text{total session time by period}}{\\text{number of sessions by period}}$"
   ]
  },
  {
   "cell_type": "markdown",
   "metadata": {},
   "source": [
    "Способы расчета LTV  \n",
    "ВАЖНО: \n",
    "LTV расчитываются на определнном периоде, поэтому нужно это всегда уточнять и ARPU тогда должна быть расчитана на этот же период и  \n",
    "lifetime долен иметь изменрение такого же периода (то есть если ARPU за месяц, то lifetime в месяцах)  \n",
    "Лучше всего считать LTV через когорты, тогда нам не нужен lifetime  \n",
    "Расчет через валовую прибыль\n",
    "- $\\text{LTV} = \\text{margin rate} * \\frac{\\text{Total revenue by period}}{\\text{total users by period}}$\n",
    "- $\\text{LTV} = \\text{margin rate} * \\text{ARPU} * \\text{Lifetime}$\n",
    "- $ \\text{LTV} = \\text{(ARPU - CAC + CRC)} * \\text{Lifetime} $\n",
    "\n",
    "Расчет через выручку:\n",
    "- $\\text{LTV} = \\frac{\\text{Total revenue by period}}{\\text{total users by period}}$\n",
    "- $\\text{LTV} = \\text{ARPU} * \\text{Lifetime}$\n",
    "- $\\text{LTV} = \\text{AOV} * \\text{APC}$"
   ]
  },
  {
   "cell_type": "markdown",
   "metadata": {},
   "source": [
    "Чтобы рассчитать lifetime, нужно узнать Churn Rate за определенный период, который будет размерностью lifetime, то есть период должен быть таким же как в расчете ARPU\n",
    "\n",
    "$\\text{Lifetime} = \\frac{1}{\\text{Churn Rate}} $  "
   ]
  },
  {
   "cell_type": "markdown",
   "metadata": {},
   "source": [
    "Ltv лучше считать по когортам  \n",
    "И когда составили матрицу когорт, то уже успреднить каждый месяц жизни и потом суммировать все месяца (именно так, вертикально усредняем, горизонтально суммируем)  \n",
    "\n",
    "В иделае считать не просто среднее значение по когортам, а средневзвешенное.  \n",
    "То есть если мы хотим посчитать среднее значение по всем когортам какого-то показателя, то мы не просто суммируем все значения в когортах и делим на  \n",
    "число когорт, мы взвешиваем какждое значение когорты.  \n",
    "Есить 2 способа\n",
    "- умножать значение каждой когорты на ее размер и потом всю эту сумму разделить на общий размер всех когорт\n",
    "- сразу дать веса каждой когорты, то есть определить долю каждой когорты в общем.  \n",
    "Берем размер когорты и делим на размер всех когорт. И потом умнажаем значения в когортах на коэффиценты.  "
   ]
  },
  {
   "cell_type": "markdown",
   "metadata": {},
   "source": [
    "ВАЖНО  \n",
    "для всех метрик, считаем среднее (или мода или медиана) за все время, изображаем на графике во времени и в идеале строим когортный анализ.  \n",
    "То есть у нас должно быть аггрегированное за все время значение, разбитое во времени и разбитое по когортам."
   ]
  },
  {
   "cell_type": "markdown",
   "metadata": {},
   "source": [
    "Продуктовые метрики, которые полезно считать  \n",
    "- MAU, DAU, WAU  \n",
    "за весь период, динамика во времени по периодам\n",
    "- сколько раз за день пользователи в среднем заходят на сайт. график, отражающий изменения метрики во времени.\n",
    "    Сколько сессий в день можно нести два смысла\n",
    "    - сколько всего сессий в среднем проходит в день  \n",
    "    покажет среднюю нагрузку в день на сервис\n",
    "    - сколько в среднем совершает сессий 1 пользователь в день  \n",
    "    покажет поведение посетителей на платформе (как часто  они в днеь появляются)   \n",
    "- сколько времени пользователи проводят на сайте. график во времени  \n",
    "- продолжительность типичной пользовательской сессии за весь период. Чтобы выбрать подходящую среднюю меру, постройте график распределения. График во времени  \n",
    "    - рисуем гистограму или violine\n",
    "    - вычисляем все средние меры и выбираем наиболее подходящую из них и приводим число  \n",
    "    Если среднее, мода и медина примерно равны, то можно брать среднее.  \n",
    "    Но если они разные, то нужно подумать какое лучше взять и обосновать выбор.  \n",
    "    Как всегда пишем причины, почему выбрали эту метрику.  \n",
    "    Тут важно какой вопрос, если вопрос сколько обычно длиться одна сессия, и у нас ненормальное распределение длительностей сессий,  \n",
    "    то среднее значение будет некоректно, так как обычно в данном случае это будет мода, так как среднее будет  \n",
    "    смещенно вправо, елси у нас экспоненциальное распределение времени.  \n",
    "    Вот этот момент очень важен.  \n",
    "    Так как среднее введет в заблуждение.  \n",
    "    Обычно сессия длить как раз модальное значение.  \n",
    "- Рассчитайте Retention Rate, применяя когортный анализ. Покажите изменения метрики во времени на графике. Найдите средний Retention Rate на второй месяц «жизни» когорт.  \n",
    "    - расчитываем retention rate, для этого\n",
    "    - необходимо сделать когортный анализ по времени (по месяцам или неделям или дням и тп)  \n",
    "    Чтобы сделать когортный анализ, мы по одной оси откладываем даты, а по второй оси откладываем номер месяца,  \n",
    "    таким образом мы получим для одной даты разные значения retention rate черзе 1, 2, 3, 4 и так далее месяцев  \n",
    "    Будет динамика по месяцам от стартового месяца.  \n",
    "    Также дополнительно можно сделать тепловую карту времени и какой-нибудь каетгории (например возраст, пол польователей),  \n",
    "    retention rate можно считать просто относительно предыдущего месяца (тут уже не будет динамики по месяцам)\n",
    "\n",
    "    Ответ среднее значение, тепловая карта выводы  \n",
    "    Для описания тенденции, берем среднее значение за первый период (после нулевого) и смотрим как дальше относительно этого значения  \n",
    "    идут изменения"
   ]
  },
  {
   "cell_type": "markdown",
   "metadata": {},
   "source": [
    "Метрики электронной коммерции\n",
    "- сколько времени в среднем проходит с момента первого посещения сайта до совершения покупки. график во времени   \n",
    "    Нужно ответить на 2 вопроса\n",
    "    - Через сколько времени после первого посещения пользователь совершил первую покупку?  \n",
    "    - В какую по счету сессию люди начинают покупать?\n",
    "    Ответом будет среднее значение метрики (обоих вариантов) и выводы  \n",
    "    Дополнительно можно попробовать построить бар чар и посмотреть эти значения в разрезе какой-то категории\n",
    "- AOV. Применяя когортный анализ или другой метод, рассчитайте среднее количество покупок на одного покупателя за определённый период, например за 6 месяцев. график во времени\n",
    "    то есть сколько в среднем один покупатель делает покупок за период  \n",
    "    Для выбора периода нужно понять какой период нам лучше подходит, например если у нас данные за год,  \n",
    "    то период 6 месяцев будет нормально. \n",
    "    - Суммируем все покупки за все периоды и делим на количество покупателей, которое было в нулевой период  \n",
    "    Берем суммирем все покупки за первые 6 месяцев всех пользователей и   \n",
    "    делим на общее число пользователей в начале периода (в первый месяца)   \n",
    "    Важно уточнение за какой период  \n",
    "    Для расчета показателей за период X месяцев можно использовать только данные  \n",
    "    - по когортам, которые взаимодействуют с компанией в течении X месяцев или более  \n",
    "    - за первые X месяцев жизни когорт  \n",
    "- Рассчитайте средний чек, применяя группировку по времени совершения покупки. Когортный анализ не подходит — он может исказить расчёты. Постройте график, отражающий изменения метрики во времени.\n",
    "- Выясните, как меняется LTV на покупателя по когортам. Помните, что LTV — накопительная метрика. Рассчитайте средний LTV по когортам за 6 месяцев; в расчёт включайте когорты, «прожившие» не менее 6 месяцев. Маржинальность сервиса — 100%. Отразите изменения метрики во времени на графике;\n",
    "В финансовом менеджменте ответ на вопрос когда, также важен как ответ на вопрос сколько.  \n",
    "Тут важно указывать за какой промежуток, так как LTV считается за период и еденица периода должна идти в ответе.    \n",
    "Например, 3 y.e. это неверно    \n",
    "правильно будет 3 y.e./год   \n",
    "Тут у нас еденица расчета ltv это год     \n",
    "Для выбора периода нужно понять какой период нам лучше подходит, например если у нас данные за год,  \n",
    "то период 6 месяцев будет нормально. \n",
    "И нельзя сравнивать ltv за разные периоды.  \n",
    "Если мы выбрали год, то мы берем отсечку год от первого сессии и считаем сколько всего люди все потратили за это время  \n",
    "и делим на количество людей в первый период.  \n",
    "Очень частая ошибка считать сначала среднее по разным периодам (например среднее людей, которые прожили месяц, потом 2 и так далее),  \n",
    "а потом усреднять эти значения.  \n",
    "Тут нужно суммировать все доходы от всех и разделить на количество пользователей на старте.  \n",
    "Когорты это хорошо, но их нужно считать отдельно и не выводить из них общее среднее для всех.    \n",
    "Чтобы проверить правильно ли мы рассчитали LTV можно сравнить его с   \n",
    "LTV = среднее число покупок за выбранный период на одного пользователя * средний чек   \n",
    "До этого мы как раз посчитали среднее число покупок за период на одного пользователя и средний чек.  "
   ]
  },
  {
   "cell_type": "markdown",
   "metadata": {},
   "source": [
    "Маркетинговые метрики  \n",
    "- Посчитайте общую сумму расходов на маркетинг. Выясните, как траты распределены по источникам. Визуализируйте изменения метрик во времени;\n",
    "(значит нужно изучить как данные по расходам в всего изменяются во времени)  \n",
    "Ответ среднее занчение, график, выводы (можно сравнить с общей прибылью и можно cac сравнить с ltv)  \n",
    "график затрат на маркетинг не только по периодам, но ещё график затрат по источникам (бар плот и heatmap)  \n",
    "и сделать вывод какие источники самые затратные, какие менее затратные  \n",
    "- Рассчитайте средний CAC на одного покупателя для всего проекта и для каждого источника трафика. Отразите изменения метрик на графиках\n",
    "Важно, что метрика рассчитывается по покупателям, поэтому нам нужно использовать только тех, кто совершил хотя бы одну покупку  \n",
    "Сложность в том, что пользователи заходят с разных источников.  \n",
    "Возможные решения этой проблемы    \n",
    "    - вычислить в какую именно сессию была совершена покупка и привязать ее именно к этому источнику (с которого эта сессия произошла)\n",
    "    - привязать пользователя к тому источнику, с которого он чаще заходил  \n",
    "    - привязать пользователя к источнику, с которого он первый раз зашел на сервис     \n",
    "    этот метод предпочтительнее    \n",
    "Ответ - среднее значение метрики в целом и по разным источникам  \n",
    "таблица средних значений метрики по источника или/и график (бар плот)\n",
    "выводы\n",
    "-  Рассчитайте ROMI по когортам в разрезе источников. Сравните окупаемость за одинаковые периоды жизни когорт. Обратите внимание, что клиенты, пришедшие из разных источников, могут иметь разный LTV. Постройте графики, отражающие изменения метрик во времени.  \n",
    "Окупаемость считаем не от выручки, а от LTV (в целом и по источникам)  \n",
    "Не забывать про сопостовляемый период (как с LTV)\n",
    "Ответ - среднее значение метрики, таблица средних значений метрики по источникам и графики (бар плот и heatmap)"
   ]
  },
  {
   "cell_type": "markdown",
   "metadata": {},
   "source": [
    "ВАЖНО  \n",
    "Все метрики нужно посмотреть в разрезе разных параметров (которые есть, например, по платформам, полу пользователй и другим категориям) и сделать выводы,  \n",
    "о том как параметр влияет на каждую метрику. Посмотреть как они меняются во времени."
   ]
  },
  {
   "cell_type": "markdown",
   "metadata": {},
   "source": [
    "ВАЖНО  \n",
    "Если нам нужно выбрать главные метрики, которые нужно изучить, если у нас слишком много метрик или мало времени,  \n",
    "то собираем все метрики в датафрейм и строим матрицу корреляций.  \n",
    "И берем те метрики, которые имеют наибольшую корреляцию с целевой метрикой, чаще всего выручкой (60-70+)"
   ]
  },
  {
   "cell_type": "markdown",
   "metadata": {},
   "source": [
    "ВАЖНО  \n",
    "Выводы должны не просто описывать графики, а содержать рекомендации.  \n",
    "И общий вывод должен включить все метрики, которые мы получили (числами).  \n",
    "И сделать вывод основываясь на всех полученных метриках, а не просто сказать, что вот этот канал лушче других.  \n",
    "То есть в какой канал рекламы лучше направить больше выручки, какая категория больше приносит выручки (можно сделать предоложения почему). \n",
    "И итоговый вывод это всегда рекомендация что можно сделать, чтобы улучшить сервис, основываясь на полученных данных.  "
   ]
  },
  {
   "cell_type": "markdown",
   "metadata": {},
   "source": [
    "ВАЖНО  \n",
    "Сначал смотрим общую картину. Общую выручку, общие расходы, рентабельность и другие бизнес метрики, а потом уже спускаемся к детальным метрикам.  \n",
    "Хорошая проверка, это когда мы сначала просто смотрим выручку и расходы и получаем вывод о окупаемости сервиса.  \n",
    "А потом когда разобрали по метрикам, то результат должен сходиться, не должно быть так, что выручка - расходы говорит, что все плохо,  \n",
    "а выводы по метрикам, что все хорошо.  "
   ]
  },
  {
   "cell_type": "markdown",
   "metadata": {},
   "source": [
    "Что можно дополнительно посчитать"
   ]
  },
  {
   "cell_type": "markdown",
   "metadata": {},
   "source": [
    "- накопительная сумма продаж    \n",
    "- остаток на балансе (количество пришедших едениц минус количество ушедших)   \n",
    "- накопительный остаток   \n",
    "- создание категориальной переменной новый / постоянный клиент. Считаем для каждого клиента дату первой покупки,  если текущая дата  \n",
    "равна минимальной, то это новый. Также можно добавить, что если прошло больше N дней, то тоже новый."
   ]
  },
  {
   "cell_type": "markdown",
   "metadata": {},
   "source": [
    "#### Производные метрики"
   ]
  },
  {
   "cell_type": "markdown",
   "metadata": {},
   "source": [
    "Тут пишем разные производные метрики из имеющихся переменных.  \n",
    "Тут будут те метрики, которые нельзя отнести к остальным подразделам метрик. "
   ]
  },
  {
   "cell_type": "markdown",
   "metadata": {},
   "source": [
    "#### Ключевые показатели эффективности (KPI)"
   ]
  },
  {
   "cell_type": "markdown",
   "metadata": {},
   "source": [
    "Финансовые KPI\n",
    "\n",
    "- Выручка — общий доход от продаж товаров или услуг.\n",
    "- Прибыль — разница между доходами и расходами.\n",
    "- Рентабельность — отношение прибыли к выручке или к активам.\n",
    "- Коэффициент ликвидности — способность компании покрыть свои краткосрочные обязательства.\n",
    "- Себестоимость продаж — общие затраты на производство товаров или услуг.\n",
    "\n",
    "Операционные KPI\n",
    "\n",
    "- Производительность — количество продукции, произведенной за единицу времени.\n",
    "- Уровень запасов — количество товаров на складе в данный момент времени.\n",
    "- Время выполнения заказа — время, необходимое для обработки и доставки заказа.\n",
    "- Качество продукции — процент бракованных изделий или уровень удовлетворенности клиентов.\n",
    "\n",
    "Маркетинговые KPI\n",
    "\n",
    "- Стоимость привлечения клиента (CAC) — затраты на привлечение одного клиента.\n",
    "- Конверсия — процент пользователей, совершивших целевое действие (например, покупку).\n",
    "- Возврат на инвестиции в маркетинг (ROMI) — прибыль, полученная от маркетинговых кампаний.\n",
    "- Трафик на сайт — количество посетителей на сайте.\n",
    "\n",
    "KPI для HR\n",
    "\n",
    "- Текучесть кадров — процент сотрудников, покинувших компанию за определенный период.\n",
    "- Уровень удовлетворенности сотрудников — измеряется через опросы и анкетирования.\n",
    "- Среднее время найма — время, необходимое для заполнения вакансии.\n",
    "- Процент выполнения целей сотрудников — доля сотрудников, достигших своих KPI.\n",
    "\n",
    "KPI для обслуживания клиентов\n",
    "\n",
    "- Уровень удовлетворенности клиентов (CSAT) — измеряется через опросы после обслуживания.\n",
    "- Чистый промоутерский балл (NPS) — измеряет лояльность клиентов.\n",
    "- Время ответа на запросы — среднее время, необходимое для ответа на запросы клиентов.\n",
    "- Процент решенных проблем с первого обращения — доля запросов, решенных при первом контакте."
   ]
  },
  {
   "cell_type": "markdown",
   "metadata": {},
   "source": [
    "#### Финансовые метрики."
   ]
  },
  {
   "cell_type": "markdown",
   "metadata": {},
   "source": [
    "- Выручка\n",
    "- Прибыль\n",
    "- Рентабельность\n",
    "- Операционные расходы\n",
    "- Кэш-флоу"
   ]
  },
  {
   "cell_type": "markdown",
   "metadata": {},
   "source": [
    "#### Маркетинговые метрики"
   ]
  },
  {
   "cell_type": "markdown",
   "metadata": {},
   "source": [
    "- Стоимость привлечения клиента (CAC)\n",
    "- Пожизненная ценность клиента (LTV)\n",
    "- Конверсия\n",
    "- ROI (возврат на инвестиции)\n",
    "- Охват и вовлеченность"
   ]
  },
  {
   "cell_type": "markdown",
   "metadata": {},
   "source": [
    "#### Операционные метрики."
   ]
  },
  {
   "cell_type": "markdown",
   "metadata": {},
   "source": [
    "- Эффективность процессов\n",
    "- Время выполнения заказа\n",
    "- Уровень запасов\n",
    "- Производительность труда\n",
    "- Уровень дефектов"
   ]
  },
  {
   "cell_type": "markdown",
   "metadata": {},
   "source": [
    "#### Метрики пользовательского опыта."
   ]
  },
  {
   "cell_type": "markdown",
   "metadata": {},
   "source": [
    "- Удовлетворенность клиентов (CSAT)\n",
    "- Чистый промоутерский балл (NPS)\n",
    "- Время на сайте\n",
    "- Показатель отказов\n",
    "- Количество активных пользователей"
   ]
  },
  {
   "cell_type": "markdown",
   "metadata": {},
   "source": [
    "#### Метрики продаж"
   ]
  },
  {
   "cell_type": "markdown",
   "metadata": {},
   "source": [
    "- Объем продаж\n",
    "- Средний размер сделки\n",
    "- Темп роста продаж\n",
    "- Доля рынка\n",
    "- Уровень удержания клиентов"
   ]
  },
  {
   "cell_type": "markdown",
   "metadata": {},
   "source": [
    "#### Метрики производительности"
   ]
  },
  {
   "cell_type": "markdown",
   "metadata": {},
   "source": [
    "- Время выполнения задач\n",
    "- Эффективность использования ресурсов\n",
    "- Уровень производительности сотрудников\n",
    "- Качество продукции\n",
    "- Время простоя"
   ]
  },
  {
   "cell_type": "markdown",
   "metadata": {},
   "source": [
    "#### Метрики веб-аналитики"
   ]
  },
  {
   "cell_type": "markdown",
   "metadata": {},
   "source": [
    "- Посещения\n",
    "- Уникальные посетители\n",
    "- Время на странице\n",
    "- Конверсии по каналам\n",
    "- Источники трафика"
   ]
  },
  {
   "cell_type": "markdown",
   "metadata": {},
   "source": [
    "#### Метрики социальных медиа"
   ]
  },
  {
   "cell_type": "markdown",
   "metadata": {},
   "source": [
    "- Подписчики\n",
    "- Вовлеченность (лайки, комментарии, репосты)\n",
    "- Охват постов\n",
    "- Темп роста подписчиков\n",
    "- Анализ упоминаний бренда"
   ]
  },
  {
   "cell_type": "markdown",
   "metadata": {},
   "source": [
    "#### Метрики HR"
   ]
  },
  {
   "cell_type": "markdown",
   "metadata": {},
   "source": [
    "- Уровень текучести кадров\n",
    "- Удовлетворенность сотрудников\n",
    "- Время на заполнение вакансий\n",
    "- Эффективность обучения\n",
    "- Уровень вовлеченности сотрудников"
   ]
  },
  {
   "cell_type": "markdown",
   "metadata": {},
   "source": [
    "#### Метрики качества"
   ]
  },
  {
   "cell_type": "markdown",
   "metadata": {},
   "source": [
    "- Уровень удовлетворенности клиентов\n",
    "- Количество жалоб\n",
    "- Соответствие стандартам\n",
    "- Время на исправление дефектов\n",
    "- Показатели качества продукции"
   ]
  },
  {
   "cell_type": "markdown",
   "metadata": {},
   "source": [
    "#### Метрики продукта"
   ]
  },
  {
   "cell_type": "markdown",
   "metadata": {},
   "source": [
    "Финансовые метрики:\n",
    "\n",
    "- Выручка: общий доход от продаж.\n",
    "- LTV (Lifetime Value): пожизненная ценность клиента, показывающая, сколько дохода приносит клиент за все время взаимодействия с продуктом.\n",
    "- CAC (Customer Acquisition Cost): стоимость привлечения одного клиента.\n",
    "- ARPU (Average Revenue Per User): средний доход на пользователя.\n",
    "\n",
    "Метрики вовлеченности:\n",
    "    \n",
    "- DAU (Daily Active Users): количество уникальных пользователей, которые взаимодействуют с продуктом ежедневно.\n",
    "- WAU (Weekly Active Users): количество уникальных пользователей за неделю.\n",
    "- MAU (Monthly Active Users): количество уникальных пользователей за месяц.\n",
    "- Retention Rate: процент пользователей, которые продолжают использовать продукт после определенного периода.\n",
    "\n",
    "Метрики конверсии:\n",
    "\n",
    "- Conversion Rate: процент пользователей, которые выполняют целевое действие (например, покупка, регистрация).\n",
    "- Churn Rate: процент пользователей, которые перестают использовать продукт за определенный период.\n",
    "\n",
    "Метрики качества:\n",
    "\n",
    "- NPS (Net Promoter Score): показатель лояльности клиентов, основанный на их готовности рекомендовать продукт.\n",
    "- CSAT (Customer Satisfaction Score): уровень удовлетворенности клиентов продуктом.\n",
    "Метрики использования:\n",
    "\n",
    "- Average Session Duration: среднее время, проведенное пользователем в приложении или на сайте.\n",
    "- Bounce Rate: процент пользователей, которые покидают сайт после просмотра только одной страницы.\n",
    "\n",
    "Метрики роста:\n",
    "\n",
    "- GMV (Gross Merchandise Value): общий объем продаж товаров через платформу.\n",
    "- Monthly Recurring Revenue (MRR): ежемесячный повторяющийся доход, особенно важен для подписочных моделей."
   ]
  },
  {
   "cell_type": "markdown",
   "metadata": {},
   "source": [
    "#### Экономические метрики\n"
   ]
  },
  {
   "cell_type": "markdown",
   "metadata": {},
   "source": [
    "> тут будут расчеты экономических метрик\n"
   ]
  },
  {
   "cell_type": "markdown",
   "metadata": {},
   "source": [
    "> Если расчет метрик является важным аспектом вашего исследования и требует подробного описания, то создание отдельной главы будет лучшим решением.  \n",
    "> Если в этом разделе будет немного расчетов, то можно сделать расчеты метрик разделом предобработки данных\n"
   ]
  },
  {
   "cell_type": "markdown",
   "metadata": {},
   "source": [
    "> Расчитываем разные метрики на основе имеющихся данных и тех, которыми смогли обогатить данные\n"
   ]
  },
  {
   "cell_type": "markdown",
   "metadata": {},
   "source": [
    "> Важно следить за количеством недель в году, если мы создаем столбец месяца.  \n",
    "> Проверять чтобы у нас не появлялась неделя дополнительная, из за того, что мы захватили предыдущий год\n"
   ]
  },
  {
   "cell_type": "markdown",
   "metadata": {},
   "source": [
    "Финансовые метрики:\n",
    "\n",
    "- Выручка: общий доход от продаж товаров или услуг.\n",
    "- Прибыль: разница между выручкой и затратами, показывающая финансовый результат деятельности.\n",
    "- Рентабельность: отношение прибыли к выручке, выраженное в процентах, что позволяет оценить эффективность использования ресурсов.\n",
    "\n",
    "Метрики затрат:\n",
    "\n",
    "- Себестоимость: общие затраты на производство и продажу товаров или услуг.\n",
    "- Операционные расходы: затраты, связанные с основной деятельностью компании, включая зарплаты, аренду и коммунальные услуги.\n",
    "\n",
    "Метрики ликвидности:\n",
    "\n",
    "- Текущая ликвидность: отношение текущих активов к текущим обязательствам, показывающее способность компании покрывать краткосрочные долги.\n",
    "- Коэффициент быстрой ликвидности: более строгий показатель ликвидности, исключающий запасы из текущих активов.\n",
    "\n",
    "Метрики эффективности:\n",
    "\n",
    "- ROE (Return on Equity): доходность собственного капитала, показывающая, насколько эффективно компания использует средства акционеров.\n",
    "- ROA (Return on Assets): доходность активов, отражающая, как эффективно используются все активы компании для генерации прибыли.\n",
    "\n",
    "Метрики роста:\n",
    "\n",
    "- Темпы роста выручки: процентное изменение выручки за определенный период, показывающее динамику бизнеса.\n",
    "- Темпы роста прибыли: процентное изменение прибыли, что позволяет оценить финансовую устойчивость и развитие компании.\n",
    "\n",
    "Метрики инвестиционной привлекательности:\n",
    "\n",
    "- P/E (Price to Earnings Ratio): соотношение цены акции к прибыли на акцию, используемое для оценки стоимости компании.\n",
    "- EV/EBITDA (Enterprise Value to Earnings Before Interest, Taxes, Depreciation, and Amortization): показатель, который помогает оценить стоимость компании относительно ее операционной прибыли."
   ]
  },
  {
   "cell_type": "markdown",
   "metadata": {},
   "source": [
    "### Промежуточный вывод\n"
   ]
  },
  {
   "cell_type": "markdown",
   "metadata": {},
   "source": [
    "Чтобы собрать все наблюдения используем это  \n",
    "нужно поставить `_pagristart_` где начало и `_pagriend_` где конец"
   ]
  },
  {
   "cell_type": "markdown",
   "metadata": {},
   "source": [
    "Не забываем удалить метки `_pagristart_` и `_pagriend_` "
   ]
  },
  {
   "cell_type": "code",
   "execution_count": null,
   "metadata": {},
   "outputs": [],
   "source": [
    "import IPython\n",
    "notebook_path = \"/\".join(\n",
    "        IPython.extract_module_locals()[1][\"__vsc_ipynb_file__\"].split(\"/\"))\n",
    "pagri_data_tools.collect_observations(notebook_path, '/home/pagri/git_repos/pagri-projects/quarto/projects/prospective_tariff_for_telecom/temp_for_report.ipynb')"
   ]
  },
  {
   "cell_type": "markdown",
   "metadata": {},
   "source": [
    "## Визуализация взаимосвязей переменных\n"
   ]
  },
  {
   "cell_type": "markdown",
   "metadata": {},
   "source": [
    "Сначала пишем ИИ все наши таблицы и названия переменных, которые были и которые создали.  \n",
    "И спрашиваем какие зависимости нужно изучить. Пишем напиши подробный список.  \n",
    "Далее это вставляем в temp.ipynb и когда будем изучать то смотрим.  \n",
    "И в конце убедиться, что мы это все изучили. Если нет, то отедльно строим графики для этого.  \n",
    "Также в процессе сами думаем какие зависимости стоит изучить,  \n",
    "когда ИИ нам напишет список.  "
   ]
  },
  {
   "cell_type": "markdown",
   "metadata": {},
   "source": [
    "ВАЖНО  \n",
    "не забываем, что легенду можно двигать куда нужно"
   ]
  },
  {
   "cell_type": "code",
   "execution_count": null,
   "metadata": {},
   "outputs": [],
   "source": [
    "fig.update_layout(legend_x = 0.6, legend_y = 1)"
   ]
  },
  {
   "cell_type": "markdown",
   "metadata": {},
   "source": [
    "ВАЖНО  \n",
    "Когда смотрим графики и не видим явных различий, то нельзя сразу пропускать график, нужно подумать важная ли это зависимость для нас.  \n",
    "Если нам это важно и значения не прям идеально ровно расположены, то сохраняем график и сразу пишем в temp.ipynb для гипотезы вывод.\n",
    "Гипотезы формулируем для случаев, когда на графике нет явных различие числовой переменной по категории.  \n",
    "Если различия явные, то нет смысла  проводить тест."
   ]
  },
  {
   "cell_type": "markdown",
   "metadata": {},
   "source": [
    "ВАЖНО  \n",
    "Сезонность это не только, когда покупают шорты летом, также сезонностью может быть какие-то события, которые влияют на продажи.  \n",
    "Например, вышел фильм, где актер был в шляпе и прочее. Также сезоность может быть редкой, например, во время олимпиады увеличивается спрос на спорт товары.  \n",
    "Важно, когда мы видим на графике аномалию, то подумать сезоность ли это. С чем это связано.  \n",
    "Аналитик не просто константирует факт, он ищет причину и выдвигает гипотезы. "
   ]
  },
  {
   "cell_type": "markdown",
   "metadata": {},
   "source": [
    "ВАЖНО  \n",
    "Смотрим и общую картину и по каждой нужно категории отедльно и делаем это за один проход, чтобы снова не проходить все данные.  \n",
    "И в такой последовательности мы можем сравнить общую картину и по каждой категории отдельно и сделать более точные выводы.\n",
    "В итоге будет график общей ситуации и далее графики по каждой категории.  \n",
    "Причем нужно определить, что для нас важно, что нужно отобразить в любом случае, даже если нет явных зависимостей.  \n",
    "А остальное сохраняем только то, что представляет интерес.  \n",
    "Схема следующая\n",
    "- Нужно выбрать важные категории и числовые переменные, которые мы хотим изучить отдельно.  \n",
    "- Когда изучаем графики, то изучаем всю картину целиком и затем изучаем отдельно каждую категорию."
   ]
  },
  {
   "cell_type": "markdown",
   "metadata": {},
   "source": [
    "ВАЖНО  \n",
    "Когда мы анализируем данные и у нас в категории болше 10 значений, то по возможности нужно брать топ 5-10 значений на графиках.  \n",
    "Нас в основном интересует топ 5-10 значений, а не все значения.  \n",
    "Бывают исключения, но чаще всего нам интересно оп 5-10 значений.  \n",
    "И тогда анализировать графики будет проще. И выводы можно будет сделать точнее.  "
   ]
  },
  {
   "cell_type": "markdown",
   "metadata": {},
   "source": [
    "ВАЖНО  \n",
    "Если у нас было несколько таблиц и мы создали общую из нескольких, то изучать нужно общую.  \n",
    "Или как минимуму общую тоже, так как будет ошибкой, изучить только исходые таблицы.  "
   ]
  },
  {
   "cell_type": "markdown",
   "metadata": {},
   "source": [
    "ВАЖНО  \n",
    "Не далать выводы только по абсолютным значениям, если они зависят от других значений.  \n",
    "Например, у нас 2 отдела продавали машины, один отдел продал 100 машин, другой 1000 машин.  \n",
    "Казалось бы второй отдел справился лучше. Но если мы учтем, что у первого отдела было 500 машин, а у второго 100 000, то первый отдел продал больше машин в долевом выражении."
   ]
  },
  {
   "cell_type": "markdown",
   "metadata": {},
   "source": [
    "### Сравнительный анализ распределений числовых переменных по категориям"
   ]
  },
  {
   "cell_type": "markdown",
   "metadata": {},
   "source": [
    "Берем каждую числовую переменную и строим накладывающиеся гистограммы для всех категорий.  \n",
    "И так повторяем для всех числовых переменных."
   ]
  },
  {
   "cell_type": "markdown",
   "metadata": {},
   "source": [
    "ВАЖНО  \n",
    "Строим накладывющиеся гистограммы или боксплты / violin для всех числовых переменных.  \n",
    "Нужно изучить все числовые переменные и сравнить их распределения и сделать выводы какие лучше и прочее."
   ]
  },
  {
   "cell_type": "markdown",
   "metadata": {},
   "source": [
    "ВАЖНО   \n",
    "смотрим на выбросы  \n",
    "Мы могли при изучении отдельных столбцов не заметить их, если заметили, то возвращаемся в изучение и предобработку и изучаем их дополнительно"
   ]
  },
  {
   "cell_type": "markdown",
   "metadata": {},
   "source": [
    "ВАЖНО  \n",
    "категориальные переменные могут быть не только в отдельном столбце.  \n",
    "Категориальная переменная может быть разбита на разные столбцы.  \n",
    "Например, оценка пользователей и оценка критиков могут быть в отдельных столбцах.  \n",
    "Нужно при предобработке это не забыть привести  к категориальному типу, чтобы далее анализировать."
   ]
  },
  {
   "cell_type": "markdown",
   "metadata": {},
   "source": [
    "ВАЖНО  \n",
    "Если создали категориальную переменную есть пропуск или нет, то тут по ней тоже смотрим накладывающиеся гистограммы"
   ]
  },
  {
   "cell_type": "markdown",
   "metadata": {},
   "source": [
    "ВАЖНО  \n",
    "наложенные гистограммы нужно сделать не только для категориальных переменных.  \n",
    "У нас могут быть 2 числовые переменные, которые мы решили не соединятьь через melt  \n",
    "Но они имеют похожую природу. Для таких случаев тоже нужно сделать гистограммы."
   ]
  },
  {
   "cell_type": "markdown",
   "metadata": {},
   "source": [
    "ВАЖНО  \n",
    "Когда посторили боксплоты\n",
    "- сравниваем медианы, квартили, делаем выводы\n",
    "- сравниваем количество выбросво\n",
    "- сравниваем размахи внутри квартилей\n",
    "- сравниваем iqr\n",
    "- смотрим пересекаются ли irq у разных категорий, если не пересекаются, то это говорит о существенном отличии."
   ]
  },
  {
   "cell_type": "markdown",
   "metadata": {},
   "source": [
    "Сормируем словарь для подписей осей и названий графиков."
   ]
  },
  {
   "cell_type": "code",
   "execution_count": null,
   "metadata": {},
   "outputs": [],
   "source": [
    "titles_for_axis = dict(\n",
    "    # numeric column ['Именительный падеж', 'для кого / чего']\n",
    "    avg_score = ['Средняя оценка', 'средней оценки']\n",
    "    # categorical column ['Именительный падеж', 'для кого / чего']\n",
    "    # Распределение долей по городу и тарифу с нормализацией по городу\n",
    "    , genre = ['Жанр', 'жанра']\n",
    ")"
   ]
  },
  {
   "cell_type": "markdown",
   "metadata": {},
   "source": [
    "Строим накладывающиеся гистограммы для нужных числовых переменных в рарзрезе нужных категорий   \n",
    "в `histograms_stacked` есть `mode` со значениями`step` и `normal`  \n",
    "Если у нас категория имеет мало значений, то можно normal  \n",
    "Если у нас категория имеет много значений, то step  "
   ]
  },
  {
   "cell_type": "markdown",
   "metadata": {},
   "source": [
    "Если у нас числовая переменная разбита на несколько столбцов, то сначала мелтим ее"
   ]
  },
  {
   "cell_type": "code",
   "execution_count": null,
   "metadata": {},
   "outputs": [],
   "source": [
    "# Применяем melt для преобразования данных\n",
    "value_vars = ['critic_score', 'user_score']\n",
    "melted_df = pd.melt(df, # id_vars=df.columns.difference(value_vars), \n",
    "                    value_vars=value_vars,\n",
    "                    var_name='score_type', value_name='score')\n",
    "# Словарь для замены значений\n",
    "region_mapping = {\n",
    "    'critic_score': 'Оценка критиков',\n",
    "    'user_score': 'Оценка пользователей',\n",
    "}\n",
    "# Замена значений в столбце region\n",
    "melted_df['score_type'] = melted_df['score_type'].replace(region_mapping).astype('category')"
   ]
  },
  {
   "cell_type": "code",
   "execution_count": null,
   "metadata": {},
   "outputs": [],
   "source": [
    "config = dict(\n",
    "    df = df\n",
    "    , cat_var = 'genre'\n",
    "    , num_var = 'avg_score'\n",
    "    , top_n=3\n",
    "    , lower_quantile=0\n",
    "    , upper_quantile=1\n",
    "    , bins=20\n",
    "    , line_width=3\n",
    "    , opacity = 0.6\n",
    ")\n",
    "pagri_data_tools.histograms_stacked(config=config, titles_for_axis=titles_for_axis)"
   ]
  },
  {
   "cell_type": "markdown",
   "metadata": {},
   "source": [
    "Строим накладывающиеся боксплоты для нужных числовых переменных в рарзрезе нужных категорий"
   ]
  },
  {
   "cell_type": "markdown",
   "metadata": {},
   "source": [
    "ВАЖНО  \n",
    "Если у нас есть несколько категориальных переменных и одна из категорий имеет мало значений, то строим в разрезе 2-х категорий  \n",
    "для этого добавляем `legend_var`"
   ]
  },
  {
   "cell_type": "code",
   "execution_count": null,
   "metadata": {},
   "outputs": [],
   "source": [
    "config = dict(\n",
    "    df = df\n",
    "    , cat_var = 'genre'\n",
    "    , num_var = 'avg_score'\n",
    "    , top_n='all'\n",
    ")\n",
    "pagri_data_tools.boxplots_stacked(config=config, titles_for_axis=titles_for_axis)"
   ]
  },
  {
   "cell_type": "markdown",
   "metadata": {},
   "source": [
    "Строим накладывающиеся violin для нужных числовых переменных в рарзрезе нужных категорий"
   ]
  },
  {
   "cell_type": "code",
   "execution_count": null,
   "metadata": {},
   "outputs": [],
   "source": [
    "config = dict(\n",
    "    df = df\n",
    "    , cat_var = 'genre'\n",
    "    , num_var = 'avg_score'\n",
    "    , top_n='all'\n",
    ")\n",
    "pagri_data_tools.violins_stacked(config=config, titles_for_axis=titles_for_axis)"
   ]
  },
  {
   "cell_type": "markdown",
   "metadata": {},
   "source": [
    "### Исследование корреляционных связей"
   ]
  },
  {
   "cell_type": "markdown",
   "metadata": {},
   "source": [
    "Следим за правильным порядком переменных полученных из времени"
   ]
  },
  {
   "cell_type": "markdown",
   "metadata": {},
   "source": [
    "Чтобы подготовить title_for_axis, пишем ии так  "
   ]
  },
  {
   "cell_type": "markdown",
   "metadata": {},
   "source": [
    "запомни - total_images = ['Число фотографий', 'числа фотографий', 0], - тут первый элемент списка это общая форма и с большой буквы, второй элемент это форма первого элемента при ответе на вопрос Чего и третий элеент списка это род элемента (0 - средний род, 1 - мужской род, 2 женский род) понятно?  "
   ]
  },
  {
   "cell_type": "markdown",
   "metadata": {},
   "source": [
    "и далее даем список нужных названий колонок в таком виде "
   ]
  },
  {
   "cell_type": "markdown",
   "metadata": {},
   "source": [
    "Для корреляций достаточно просто указать название без рода и склонения"
   ]
  },
  {
   "cell_type": "markdown",
   "metadata": {},
   "source": [
    "Сормируем словарь для подписей осей и названий графиков."
   ]
  },
  {
   "cell_type": "code",
   "execution_count": null,
   "metadata": {},
   "outputs": [],
   "source": [
    "\n",
    "titles_for_axis= dict(\n",
    "        total_images = 'Число фотографий',\n",
    "        last_price = 'Цена',\n",
    "        total_area = 'Общая площадь',\n",
    "        rooms = 'Число комнат',\n",
    "        ceiling_height = 'Высота потолков',\n",
    "        floors_total = 'Всего этажей',\n",
    "        living_area = 'Жилая площадь',\n",
    "        floor = 'Этаж'\n",
    ")"
   ]
  },
  {
   "cell_type": "markdown",
   "metadata": {},
   "source": [
    "ВАЖНО  \n",
    "проверить, что все категориальные переменные по прежнему имеют категориальный тип, чтобы при анализе они не поетрялись"
   ]
  },
  {
   "cell_type": "markdown",
   "metadata": {},
   "source": [
    "ВАЖНО  \n",
    "Изучаем корреляцию на всем периоде данных и на отдельных периодах (например последние N лет, месяцев, дней)  \n",
    "Также нужно посмотреть корреляцию в определенные периоды, для этого разбить нарпимер, на кварталы, сезоны или по другим категориям.  \n",
    "И посмотреть корреляции в каждом срезе.  "
   ]
  },
  {
   "cell_type": "code",
   "execution_count": null,
   "metadata": {},
   "outputs": [],
   "source": [
    "df.dtypes"
   ]
  },
  {
   "cell_type": "code",
   "execution_count": null,
   "metadata": {},
   "outputs": [],
   "source": [
    "for key, df in dict(\n",
    "            df_users = df_users\n",
    "            , df_calls = df_calls\n",
    "            , df_messages = df_messages\n",
    "            , df_internet = df_internet\n",
    "            , df_tariffs = df_tariffs\n",
    "            , df_calls_full = df_calls_full\n",
    "            , df_messages_full = df_messages_full\n",
    "            , df_internet_full = df_internet_full\n",
    "            , df_by_userid_month = df_by_userid_month\n",
    "            , df_arpu = df_arpu).items():\n",
    "    print(key)\n",
    "    display(df.dtypes)"
   ]
  },
  {
   "cell_type": "markdown",
   "metadata": {},
   "source": [
    ">Топ n значений одного столбца по значениям в другом\n",
    ">Сделать функцию, чтобы в столбцах, где бльше 20 уникльных значений посмотреть топ n значений по другой колонке.  \n",
    ">Например, топ 10 покупателей по сумме покупок и прочее.  \n",
    ">Идея в том, что если  в столбце до 20 уникальных значений, то мы проанализируем комбинации с другими стобцами на графиках.  \n",
    ">А вот если у нас столбец не числовой и в нем больше 20 уникальных значений, то на графике мы не сможем понять топ n."
   ]
  },
  {
   "cell_type": "markdown",
   "metadata": {},
   "source": [
    ">Изучаем топ n значений в категориальных столбцах датафрейма, где значений больше порогового, по значению в столбце value_column.  \n",
    ">Тут можно делать разные топы, использовать разные функции.  \n",
    ">Задача изучить то, что мы не сможем изучить на графиках из-за болшого количества занчений в категориальной переменной,  \n",
    ">поэтому мы берем топ n значений.  "
   ]
  },
  {
   "cell_type": "code",
   "execution_count": null,
   "metadata": {},
   "outputs": [],
   "source": [
    "gen = pagri_data_tools.top_n_values_gen()\n",
    "next(gen)"
   ]
  },
  {
   "cell_type": "markdown",
   "metadata": {},
   "source": [
    ">Чтобы сравнить метрики между собой мы можем\n",
    "- использовать корреляционный анализ (Пирсена, Спирмена, Кенделла)\n"
   ]
  },
  {
   "cell_type": "markdown",
   "metadata": {},
   "source": [
    ">`heatmap_corr(df)`"
   ]
  },
  {
   "cell_type": "markdown",
   "metadata": {},
   "source": [
    "( r = 1 ): Полная положительная линейная зависимость.  \n",
    "( 0.7 < r < 1 ): Сильная положительная линейная зависимость.  \n",
    "( 0.3 < r \\leq 0.7 ): Умеренная положительная линейная зависимость.  "
   ]
  },
  {
   "cell_type": "markdown",
   "metadata": {},
   "source": [
    "Если числовых переменных не много и они входят на один график, то просто строим график"
   ]
  },
  {
   "cell_type": "markdown",
   "metadata": {},
   "source": [
    "ВАЖНО  \n",
    "Посмотреть корреляцию в каждой категории категориальной переменной.  \n",
    "То есть задача взять категориальную переменную и посмотреть корреляцию для каждой категории отедльно.  \n",
    "Это важно, так как во всех категориях суммарно может затеряться зависимости.  \n",
    "Не нужно все их помещать в отчет, наша задача найти важные существенные зависимости и их уже пометсить в отчет.  \n",
    "Но чтобы их найти, нужно смотреть не только на картину в целом, но изучить корреляции в каждой категории."
   ]
  },
  {
   "cell_type": "markdown",
   "metadata": {},
   "source": [
    "Посмотрим на коэффициенты корреляции между числовыми переменными."
   ]
  },
  {
   "cell_type": "code",
   "execution_count": null,
   "metadata": {},
   "outputs": [],
   "source": [
    "pagri_data_tools.heatmap_corr(df, titles_for_axis=titles_for_axis)"
   ]
  },
  {
   "cell_type": "markdown",
   "metadata": {},
   "source": [
    "Лучше лишние ячейки убирать, если есть возможность "
   ]
  },
  {
   "cell_type": "code",
   "execution_count": null,
   "metadata": {},
   "outputs": [],
   "source": [
    "pagri_data_tools.heatmap_corr(df_by_userid_month[['sessions_per_day', 'calls_per_day']])"
   ]
  },
  {
   "cell_type": "markdown",
   "metadata": {},
   "source": [
    "Если нужно быстро просмотреть, то проганяем в цикле"
   ]
  },
  {
   "cell_type": "code",
   "execution_count": null,
   "metadata": {},
   "outputs": [],
   "source": [
    "for key, df in dict(\n",
    "            df_users = df_users\n",
    "            , df_calls = df_calls\n",
    "            , df_messages = df_messages\n",
    "            , df_internet = df_internet\n",
    "            , df_tariffs = df_tariffs\n",
    "            , df_calls_full = df_calls_full\n",
    "            , df_messages_full = df_messages_full\n",
    "            , df_internet_full = df_internet_full\n",
    "            , df_by_userid_month = df_by_userid_month\n",
    "            , df_arpu = df_arpu).items():\n",
    "    print(key)\n",
    "    display(pagri_data_tools.heatmap_corr(df))"
   ]
  },
  {
   "cell_type": "markdown",
   "metadata": {},
   "source": [
    "Если переменных много и нужно разделить на части, то используем эту функцию "
   ]
  },
  {
   "cell_type": "code",
   "execution_count": null,
   "metadata": {},
   "outputs": [],
   "source": [
    "gen = pagri_data_tools.heatmap_corr_gen(df, part_size=10, titles_for_axis=titles_for_axis)\n",
    "next(gen)"
   ]
  },
  {
   "cell_type": "markdown",
   "metadata": {},
   "source": [
    ">Использование регрессии и случайного леса для определения влияния переменных  "
   ]
  },
  {
   "cell_type": "markdown",
   "metadata": {},
   "source": [
    ">Коэффициенты регрессии позволяют оценить влияние каждой переменной на целевую переменную, учитывая влияние других переменных,  \n",
    ">в то время как важные компоненты в случайном лесе позволяют оценить важность каждой переменной для предсказания целевой переменной."
   ]
  },
  {
   "cell_type": "markdown",
   "metadata": {},
   "source": [
    ">Используем регрессиию"
   ]
  },
  {
   "cell_type": "markdown",
   "metadata": {},
   "source": [
    ">Чтобы построить регрессию и посмотреть стат значимость и коэффициенты удобно использовать модуль statsmodel"
   ]
  },
  {
   "cell_type": "markdown",
   "metadata": {},
   "source": [
    ">VIF означает Variance Inflation Factor (Фактор инфляции дисперсии). Это статистическая метрика,   \n",
    ">используемая для обнаружения мультиколлинеарности (сильной корреляции) между предикторами (фичами) в линейной регрессии."
   ]
  },
  {
   "cell_type": "markdown",
   "metadata": {},
   "source": [
    ">Обычно, VIF интерпретируется следующим образом:\n",
    ">\n",
    "- VIF < 5: слабая мультиколлинеарность\n",
    "- 5 ≤ VIF < 10: умеренная мультиколлинеарность\n",
    "- VIF ≥ 10: сильная мультиколлинеарность"
   ]
  },
  {
   "cell_type": "markdown",
   "metadata": {},
   "source": [
    ">\n",
    ">Смотрим R2 (коэффициент детерминации)\n",
    "- использовать коэффициенты у регресси\n",
    ">Мы строим регрессию и смотрим, у каких метрик больше коэффициенты. Таким образом мы поймем какие метрики сильнее зависят с целевой.  \n",
    ">Важно, чтобы независимые переменные некоррелировали по отдельности и вместе (мультиколлиниарность).  \n",
    ">По отдельности смотрим матрицу корреляции.  \n",
    ">Чтобы определить коррелириуют ли вместе, береме независимые переменные,  \n",
    ">и перебираем их выбирая одну из них целевой и смотрим R2.  \n",
    ">Если R2 большой, то значит эта метрика (которая целевая на этом шаге) хорошо описывается другими и ее можно выбросить.\n",
    ">Также не забываем поправки на гетероскедостичность (HC0, HC1, HC2, HC3) в статпакетах.  \n",
    ">Нам нужно ответить на следующие вопросы\n",
    ">    - Влияет ли метрика на целевую?\n",
    ">    Оцениваем коэффициенты в уравнении регресси у каждой метрики.  \n",
    ">    - Как влияет метрика на целевую?\n",
    ">    Смотрим R2 (коэффициент детерминации). И определяем какая часть целевой переменной определяется независимыми метриками.  \n",
    ">    - Коэффициенты при метриках в уравнении статистически значим? При какаом уровне значимости?\n",
    ">    Смотрим в стат пакете p value для каждого коэффициента, что нам говорит значим ли этот коэффициент.  \n",
    ">    То есть мы не просто смотрим его абсолютное значение, а учитываем p value.   \n",
    ">    - Дайте содержательную интерпретацию коэффицентам?\n",
    ">    При увеличении метрики k на 1, целевая метрика увеличивается на $b_{k} * 1$\n",
    ">    То есть нужно перевести коэффициенты в реальное сравнение, насколько увелчисться целевая метрика при изменении определенной метрики на 1\n",
    ">    - Найдите 95 процентный доверительный интервал.\n",
    ">    В стат пакете смотрим значение и оно говорит, что если мы многократно повторим ноши вычисления с новыми данными, то 95 процентов наших  \n",
    ">    полученных коэффицентов будут лежать в этом диапазоне.  "
   ]
  },
  {
   "cell_type": "markdown",
   "metadata": {},
   "source": [
    ">Строим модель и изучаем результат  \n",
    ">`linear_regression_with_vif`"
   ]
  },
  {
   "cell_type": "code",
   "execution_count": null,
   "metadata": {},
   "outputs": [],
   "source": [
    "pagri_data_tools.linear_regression_with_vif()"
   ]
  },
  {
   "cell_type": "markdown",
   "metadata": {},
   "source": [
    ">Испльзовать коэффициенты у классификацию    \n",
    ">Строим случайный лес какие метрики сильнее всего влияют на решения модели.   \n",
    ">`plot_feature_importances_classifier`   \n",
    ">`plot_feature_importances_regression`"
   ]
  },
  {
   "cell_type": "markdown",
   "metadata": {},
   "source": [
    ">Тут нужно подумать как использовать категориальные переменные тоже   \n",
    ">Нужно их перевести в one hot encoding или подобное, чтобы также проверить силу их влияния на целевую перменную"
   ]
  },
  {
   "cell_type": "code",
   "execution_count": null,
   "metadata": {},
   "outputs": [],
   "source": [
    "titles_for_axis = dict(\n",
    "    debt = 'долга'\n",
    "    , children = 'Кол-во детей'\n",
    "    , age = 'Возраст'\n",
    "    , total_income = 'Доход'\n",
    ")\n",
    "title = 'График важности признаков для предсказания цены'\n",
    "pagri_data_tools.plot_feature_importances_classifier(df, target='debt', titles_for_axis=titles_for_axis, title=title)\n",
    "pagri_data_tools.plot_feature_importances_regression()"
   ]
  },
  {
   "cell_type": "markdown",
   "metadata": {},
   "source": [
    ">На основе полученных данных формулируем гипотезы, которые будем проверять в блоке проверки гипотез"
   ]
  },
  {
   "cell_type": "markdown",
   "metadata": {},
   "source": [
    "> используем быблиотеку `shap`, чтобы определить метрики, которые лучше других помогают предсказывать целевую перемменную"
   ]
  },
  {
   "cell_type": "markdown",
   "metadata": {},
   "source": [
    "Добавить в dash app возможность сохранять код для ячейки с фильтром (срезом данных).  \n",
    "То есть у нас есть фильтр, мы хотим посмотреть срез данных и фильтруем данные.  \n",
    "И если увидели что-то важное, то мы сохраняем код для создания графика с этими x, y, category и фильтром.  \n",
    "То есть в коде сначала будет фильтрация датафрейма и потом создание графика в 2 строки.  "
   ]
  },
  {
   "cell_type": "markdown",
   "metadata": {},
   "source": [
    "важно мы не пишем все наблюдения, а только те, которые могут быть важны для анализа, то есть мы смотрим, задаем вопросы данным и   \n",
    "и если ответ важен, то мы записываем наблюдения)"
   ]
  },
  {
   "cell_type": "markdown",
   "metadata": {},
   "source": [
    "ВАЖНО   \n",
    "Когда мы видим таблицу или график, то мы придумываем вопросы к результату.  \n",
    "Все возможные вопросы (как, почему, зачем, сколько, как долго, быстро ли, медленно ли, важно ли это, из-за чего это и прочие вопрсоы)\n",
    "И отвечая на эти вопросы мы получаем наблюдения и выводы\n",
    "И чтобы задавать правильные вопросы, мы должны сначала подумать о физике параметров, которые мы видим."
   ]
  },
  {
   "cell_type": "markdown",
   "metadata": {},
   "source": [
    "Если у нас много значений в переменной, то мы агрегируем данные и можем построить бары.  \n",
    "Но если мы агрегируем данные по переменной, в которой много значений и нам это нужно.  \n",
    "То мы не сможем построить бары, и тогда мы строим гистограмму. То есть мы берем, например, для каждой заправки считаем среднее время заправки и так как у нас много заправок,  \n",
    "но мы хотим визуализировать среднее время по ним, и не агрегировать по другому параметру, то мы можем испльзовать гистограмму.  \n",
    "В данном случае гистограмма своего рода агрегация в бины, то есть мы получаем как бы новую переменную из бинов, в каждом бине будет агрегированы данные.  \n",
    "Это работает, когда нам нужно просто посмотреть колечество, так как в бинах будет количество. Таким образом мы получаем сколько у нас заправок имеют определенное среднее вермя заправки.\n"
   ]
  },
  {
   "cell_type": "markdown",
   "metadata": {},
   "source": [
    "> Про размер графиков  \n",
    "> Стандартный размер графиков width=600, height=400  \n",
    "> Для более сложных графиков, когда требуется больше места для отображения данных, можно использовать размеры width=800, height=600 или width=1000, height=800\n"
   ]
  },
  {
   "cell_type": "markdown",
   "metadata": {},
   "source": [
    "> Сравнивать количество элементов нужно в абсолютных и относительных величинах.  \n",
    "> Когда мы сравниваем только в абсолютных величинах, мы не учитываем размеры групп.  \n",
    "> В одной группе может быть элементов больше чем в другой и тогда сравнение будет не совсем точным.  \n",
    "> Если у нас 2 категориальные переменные, то мы можем сравнивать отностельные величины  \n",
    "> по одной переменной, а можем по другой.  \n",
    "> Это как сравнивать суммарный возраст в группах, это не дает полной картины и мы сравниваем средний возраст,  \n",
    "> чтобы размер группы не влиял.\n"
   ]
  },
  {
   "cell_type": "markdown",
   "metadata": {},
   "source": [
    "> ВАЖНО\n",
    "> Анализ графиков и выводы для них должны полностью перекрывать постановку задачи и цель.  \n",
    "> Это значит, что если цель проанализировать зависимость наличия долга, то мы в идеале должны проанализировать  \n",
    "> влиянеие каждой переменной на наличие долга (числовой и категориальной)  \n",
    "> Кончено нужно проанализировать все возможные зависимости.  \n",
    "> Но все зависимости с переменной в постновке задачи мы обязаны проверить и дать выводы. И о наличии и об отсутствие.  \n",
    "> Важные выводы делаем не только о наличие интересных моментов, но и об отсутствие.\n"
   ]
  },
  {
   "cell_type": "markdown",
   "metadata": {},
   "source": [
    "> Сначала раздел графиков  \n",
    "> На основе графиков формируются гипотезы (например, у нас у мужчин зп больше)\n",
    "> И после раздела графиков идет раздел проверки гипотез. Тут мы првоеряем разные гипотезы новые и те, что увидели на графиках.  \n",
    "> Это правильная последовательность сначала изучили графики и потом на основе их сформировали гипоетзы\n",
    "> Перед разделом про графики идет раздел с корреляцией и поиском главных компонет случайного леса.  \n",
    "> Мы выбиарем переменную, для которой мы далее хотим посмотреть разыне зависимости и указываем ее целевой для сучайного леса  \n",
    "> И смотрим какие фичи сильнее влияют.  \n",
    "> И теперь можем построить графики с целевой перменно и этими главными фичами и в выводе можно указать про то что это важные компоненты случаного леса\n"
   ]
  },
  {
   "cell_type": "markdown",
   "metadata": {},
   "source": [
    "> На основе полученных данных формулируем гипотезы, которые будем проверять в блоке проверки гипотез\n"
   ]
  },
  {
   "cell_type": "markdown",
   "metadata": {},
   "source": [
    "### Изучение зависимостей между числовыми переменными\n"
   ]
  },
  {
   "cell_type": "markdown",
   "metadata": {},
   "source": [
    "Построим дендогрммы для числовых переменных."
   ]
  },
  {
   "cell_type": "markdown",
   "metadata": {},
   "source": [
    "Если данных много, то делаем сэмплирование."
   ]
  },
  {
   "cell_type": "code",
   "execution_count": null,
   "metadata": {},
   "outputs": [],
   "source": [
    "sampled_df = df.sample(n=10, random_state=42)  # random_state для воспроизводимости"
   ]
  },
  {
   "cell_type": "markdown",
   "metadata": {},
   "source": [
    "Дендограммы можно использовать в анализе данных без машинного обучения для визуализации иерархической структуры данных, определения оптимального числа кластеров и выявления выбросов. Они помогают исследовать скрытые закономерности и взаимосвязи в данных, что делает их полезными в различных контекстах. Рассмотрим основные случаи использования дендограмм в анализе данных:"
   ]
  },
  {
   "cell_type": "markdown",
   "metadata": {},
   "source": [
    "- Визуализация иерархической структуры:  \n",
    "Дендограммы позволяют визуально представить, как объекты или наблюдения группируются в кластеры на разных уровнях иерархии. Это помогает понять, какие элементы имеют схожие характеристики.\n",
    "- Определение числа кластеров:  \n",
    "Анализ высоты соединений в дендограмме может помочь определить оптимальное количество кластеров. Это особенно полезно, когда заранее неизвестно, сколько кластеров следует выделить.\n",
    "- Анализ расстояний между объектами:  \n",
    "Дендограммы показывают расстояния между кластерами, что позволяет оценить степень сходства или различия между группами данных.\n",
    "- Выявление выбросов:   \n",
    "Дендограммы могут помочь в обнаружении выбросов. Если отдельные наблюдения объединяются с другими на значительно большом расстоянии, это может указывать на их аномальность.\n",
    "- Сравнение различных наборов данных:  \n",
    "Дендограммы могут быть использованы для сравнения различных наборов данных или методов анализа. Это позволяет визуально оценить, как разные данные или методы приводят к различным результатам.\n",
    "- Исследовательский анализ данных:  \n",
    "Дендограммы могут быть полезны в исследовательском анализе данных для выявления скрытых закономерностей и взаимосвязей, что может привести к новым гипотезам и направлениям для дальнейшего анализа."
   ]
  },
  {
   "cell_type": "code",
   "execution_count": null,
   "metadata": {},
   "outputs": [],
   "source": [
    "import numpy as np\n",
    "import pandas as pd\n",
    "import plotly.figure_factory as ff\n",
    "from sklearn.preprocessing import StandardScaler\n",
    "from scipy.cluster.hierarchy import linkage\n",
    "\n",
    "# Пример данных\n",
    "data = {\n",
    "    'Feature1': [1.0, 2.0, 1.5, 8.0, 8.5, 9.0],\n",
    "    'Feature2': [1.0, 1.5, 1.2, 8.0, 8.5, 9.0],\n",
    "    'Category': ['A', 'A', 'A', 'B', 'B', 'B']  # Категориальный признак\n",
    "}\n",
    "\n",
    "df = pd.DataFrame(data)\n",
    "\n",
    "# Выбор числовых признаков\n",
    "numerical_data = df[['Feature1', 'Feature2']]\n",
    "\n",
    "# Стандартизация данных\n",
    "scaler = StandardScaler()\n",
    "numerical_data_scaled = scaler.fit_transform(numerical_data)\n",
    "\n",
    "# Вычисление иерархической структуры для дендограммы\n",
    "linked = linkage(numerical_data_scaled, method='ward')\n",
    "\n",
    "# Построение дендограммы с использованием Plotly\n",
    "fig = ff.create_dendrogram(linked, orientation='bottom')\n",
    "fig.update_layout(title='Dendrogram for Numerical Features',\n",
    "                  xaxis_title='Distance',\n",
    "                  yaxis_title='Observations',\n",
    "                  width=800,\n",
    "                  height=600, \n",
    "                  )\n",
    "fig.show()"
   ]
  },
  {
   "cell_type": "markdown",
   "metadata": {},
   "source": [
    "Построим графики рассеяния и изучим зависимости.\n"
   ]
  },
  {
   "cell_type": "markdown",
   "metadata": {},
   "source": [
    "ВАЖНО  \n",
    "Изучаем зависимости между числовыми переменными без фильтрации и с фильтрацией.  \n",
    "То есть нужно взять и пройти по каждой категории и посмотреть на зависимости в каждой категории.  \n",
    "Возможно даже в комбинации категорий.  \n",
    "Так как в общей картинке зависимости могут затеряться."
   ]
  },
  {
   "cell_type": "markdown",
   "metadata": {},
   "source": [
    "ВАЖНО смотрим на выбросы  \n",
    "Мы могли при изучении отдельных столбцов не заметить их, если заметили, то возвращаемся в изучение и предобработку и изучаем их дополнительно"
   ]
  },
  {
   "cell_type": "code",
   "execution_count": null,
   "metadata": {},
   "outputs": [],
   "source": [
    "pairs = {('total_images', 'last_price'): None, ('total_images', 'floors_total'): {'total_images': [-2.15, 22.45], 'floors_total': [0.51, 28.54]}, ('total_images', 'kitchen_area'): {'total_images': [-1.04, 28.44], 'kitchen_area': [-0.6, 59.26]}, ('total_images', 'parks_nearest'): {'total_images': [np.int64(0), np.int64(50)], 'parks_nearest': [np.float64(1.0), np.float64(3190.0)]}, ('total_images', 'ponds_around3000'): {'total_images': [np.int64(0), np.int64(50)], 'ponds_around3000': [np.float64(0.0), np.float64(3.0)]}, ('total_images', 'living_total_ratio'): {'total_images': [np.int64(0), np.int64(50)], 'living_total_ratio': [np.float64(0.02), np.float64(1.0)]}, ('total_images', 'kitchen_total_ratio'): {'total_images': [np.int64(0), np.int64(50)], 'kitchen_total_ratio': [np.float64(0.03), np.float64(0.79)]}, ('total_images', 'price_per_sqm'): {'total_images': [np.int64(0), np.int64(50)], 'price_per_sqm': [np.int64(7962), np.int64(1907500)]}, ('last_price', 'living_area'): {'last_price': [np.int64(430000), np.int64(763000000)], 'living_area': [np.float64(2.0), np.float64(427.55)]}}\n",
    "pagri_data_tools.pairplot_pairs(df, pairs, coloring=True, horizontal_spacing=0.12, rows=3, cols=3).show(config=dict(displayModeBar=False, dpi=200), renderer=\"png\")\n",
    "# если нужно интерактивый график, то\n",
    "pagri_data_tools.pairplot_pairs(df, pairs, coloring=True, horizontal_spacing=0.12, rows=3, cols=3)"
   ]
  },
  {
   "cell_type": "markdown",
   "metadata": {},
   "source": [
    "Чтобы в dash app выбрать нужные пары для scatterplot   \n",
    "ставим  `_gen_` в месте где хотим чтобы появились ячейки с кодом для постройки графиков      \n",
    "далее используем  `pagri_dash.scatterplot_analysis_dash`"
   ]
  },
  {
   "cell_type": "code",
   "execution_count": null,
   "metadata": {},
   "outputs": [],
   "source": [
    "_gen_ "
   ]
  },
  {
   "cell_type": "markdown",
   "metadata": {},
   "source": [
    "ВАЖНО  \n",
    "убираем лишние колонки, которые нам не нужно изучать, например, id, и другие числовые переменные, которые будут только тратить место в dash app"
   ]
  },
  {
   "cell_type": "code",
   "execution_count": null,
   "metadata": {},
   "outputs": [],
   "source": [
    "df_by_userid_month.drop(['user_id', 'messages_included'], axis=1)"
   ]
  },
  {
   "cell_type": "code",
   "execution_count": null,
   "metadata": {},
   "outputs": [],
   "source": [
    "import sys\n",
    "sys.path.append('/home/pagri/git_repos/pagri_private_modules')\n",
    "import pagri_dash\n",
    "pagri_dash.scatterplot_analysis_dash(df, \"path/to/notebook/for/save\")"
   ]
  },
  {
   "cell_type": "markdown",
   "metadata": {},
   "source": [
    "### Изучение зависимостей между категориальными переменными\n"
   ]
  },
  {
   "cell_type": "markdown",
   "metadata": {},
   "source": [
    "> Чтобы автоматически генерировались подписи осей и заголовок графика для категориальных, временных и числовых с категориальными зависимостейь\n",
    "> , нужно заполшнить такой словарь.  \n",
    "> Первый элемент списка - это подпись оси  \n",
    "> Второй элемент списка - это как это название будет отображаться в заголовке графика  \n",
    "> Для числовых столбцов также указывается род, чтобы правильно выбрать (Середнее, средний, средняя) (0 - средний род, 1 - мужской род, 2 - женский род)\n"
   ]
  },
  {
   "cell_type": "markdown",
   "metadata": {},
   "source": [
    "ВАЖНО  \n",
    "для долей очень важно отображать количество,  поэтому если входит на график, то отображаем значнеия долей над барами"
   ]
  },
  {
   "cell_type": "markdown",
   "metadata": {},
   "source": [
    "ВАЖНО  \n",
    "Когда у нас 2 категории на графике долей, то у нас есть 2 варианта отображения - одна легенда, другая по оси и наоборот.  \n",
    "И также для каждой нормализации.  \n",
    "В итоге у нас для 2 категорий может быть 6 вариантов.  \n",
    "Нужно посмотреть все варианты и решить, какой лучше доносит информацию."
   ]
  },
  {
   "cell_type": "markdown",
   "metadata": {},
   "source": [
    "ВАЖНО построить распределение количества по категориальным переменным без разбивки по другим категориям.  \n",
    "То есть например, посмотреть количество новых пользователей по месяцам, по кородам и так далее.  \n",
    "И так все количества, и не только категориальные.  \n",
    "Это важно, так как по этим графикам будет видна общая динамика без разбивки на категории.  \n",
    "И плюс всякие user_id и прочее в dash app не отображается, поэтому нужно это изучить отдельно.  "
   ]
  },
  {
   "cell_type": "markdown",
   "metadata": {},
   "source": [
    "ВАЖНО  \n",
    "Добавить возможность выбирать 1 col и 2 cols  как это в app dash числовые и категориальные  \n",
    "Так как часто полезно посмотреть на распределение количества только в одной категории."
   ]
  },
  {
   "cell_type": "code",
   "execution_count": null,
   "metadata": {},
   "outputs": [],
   "source": [
    "f'Среднее / Медианное / Суммарное {numeric} в зависимости от {category} и {category}'  "
   ]
  },
  {
   "cell_type": "markdown",
   "metadata": {},
   "source": [
    "ВАЖНО  \n",
    "titles_for_axis далее будет один для всех разделов  \n",
    "поэтому если нужно добавить, то возвращаемся и добавляем сюда, чтобы была одна переменная"
   ]
  },
  {
   "cell_type": "markdown",
   "metadata": {},
   "source": [
    "Бывает полезно посмотреть сравнение по месяцам, дням, годам униклальных значений и всех занчений.  \n",
    "Подумать есть ли у нас подобные ситуации, для которох можно постриоть такой график"
   ]
  },
  {
   "cell_type": "code",
   "execution_count": null,
   "metadata": {},
   "outputs": [],
   "source": [
    "#Рассмотрим количество выпущенных игр за весь период наблюдений и сравним количество всего и уникальных игр\n",
    "sum_un=df.pivot_table(index='year_of_release', values='name', aggfunc=lambda x: len(x.unique())) #Количество выпускаемых игр\n",
    "sum_total=df.pivot_table(index='year_of_release', values='name', aggfunc='count') #Количество выпускаемых игр с учетом релиза на разных платформах\n",
    "graph=sum_un.merge(sum_total, left_index=True, right_index=True)\n",
    "fig = px.line(graph)\n",
    "fig"
   ]
  },
  {
   "cell_type": "markdown",
   "metadata": {},
   "source": [
    "Сормируем словарь для подписей осей и названий графиков."
   ]
  },
  {
   "cell_type": "code",
   "execution_count": null,
   "metadata": {},
   "outputs": [],
   "source": [
    "titles_for_axis = dict(\n",
    "    # numeric column ['Именительный падеж', 'мменительный падеж с маленькой буквы', 'род цифорой']\n",
    "    # (0 - средний род, 1 - мужской род, 2 - женский род[) (Середнее образовние, средний доход, средняя температура) )\n",
    "    # для функций count и nunique пишем - Количество <чего / кого количество> - и также с маленькой буквы, цифра 0 в качестве рода\n",
    "    age = ['Возраст', 'возраст', 1]\n",
    "    , using_duration = ['Длительность использования', 'длительность использования', 2]\n",
    "    , mb_used = ['Объем интернет трафика', 'объем интернет трафика', 1]\n",
    "    , revenue = ['Выручка', 'выручка', 2]\n",
    "    # categorical column ['Именительный падеж', 'для кого / чего', 'по кому чему']\n",
    "    # Распределение долей по городу и тарифу с нормализацией по городу\n",
    "    , city = ['Город', 'города', 'городу']\n",
    "    , tariff = ['Тариф', 'тарифа', 'тарифу']\n",
    "    , is_active = ['активный ли клиент', 'активности клиента', 'активности клиента']\n",
    ")"
   ]
  },
  {
   "cell_type": "markdown",
   "metadata": {},
   "source": [
    "Важно когда мы смотрем очередной график, то задавать не только вопросы к данным, но и думать как можно отфильтровать  \n",
    "данные, чтобы сделать дополнительные полезные выводы.  \n",
    "То есть мы фильтруем данные и потом эти графики поместим в раздел с анализом срезов.  "
   ]
  },
  {
   "cell_type": "markdown",
   "metadata": {},
   "source": [
    "Чтобы в dash app выбрать нужные пары для scatterplot   \n",
    "ставим  `_gen_` в месте где хотим чтобы появились ячейки с кодом для постройки графиков      \n",
    "далее используем  `pagri_dash.scatterplot_analysis_dash`"
   ]
  },
  {
   "cell_type": "code",
   "execution_count": null,
   "metadata": {},
   "outputs": [],
   "source": [
    "_gen_ "
   ]
  },
  {
   "cell_type": "markdown",
   "metadata": {},
   "source": [
    "Как правильно писать выводы для нормализации по col и row:\n",
    "В dash app нормализация идет по значениям в легенде,   \n",
    "Например, у нас по index - город, а по столбцам - тарифы.\n",
    "- нормализация по index (в dash будет row)  \n",
    "При нормализации по индексам вы получаете долю пользователей каждого тарифа в каждом городе относительно общего числа пользователей в этом городе.\n",
    "то есть если по оси город, а в легенде название тарифа, то нормализация будет по тарифам.  \n",
    "И мы сравниваем \n",
    "А если в легенде город, то нормализация идет по городам, и мы сравниваем по городам.  \n",
    "И можно сделать такие выводы  \n",
    "    - В Москве 60% пользователей выбирают тариф \"Ультра\", что указывает на его популярность среди москвичей.\n",
    "    - В Санкт-Петербурге 70% пользователей предпочитают тариф \"Смарт\", что может говорить о том, что данный тариф более привлекателен для жителей этого города.\n",
    "то ессть при нормализации по городу, мы получаем долю пользователей тарифа в городе.  \n",
    "- нормализация по столбцам (в dash будет col)  \n",
    "При нормализации по столбцам вы получаете долю пользователей каждого города для каждого тарифа относительно общего числа пользователей, выбравших этот тариф.\n",
    "А когда мы нормализуем по тарифу, то мы получаем долю пользователей города в тарифе.      \n",
    "    - Из всех пользователей, выбравших тариф \"Ультра\", 40% приходятся на Москву, что может указывать на то, что этот тариф пользуется спросом именно в этом городе.\n",
    "    - Из всех пользователей, выбравших тариф \"Смарт\", 50% находятся в Санкт-Петербурге, что может свидетельствовать о том, что данный тариф более популярен среди петербуржцев.\n",
    "- Нормализация по всем значениям (в dash all)    \n",
    "При нормализации по всем значениям вы получаете долю пользователей каждого тарифа в каждом городе относительно общего числа пользователей всех тарифов в обоих городах.\n",
    "    - В общем числе всех пользователей (Москва и Санкт-Петербург) 30% выбирают тариф \"Ультра\", что может указывать на его общую популярность.\n",
    "    - Тариф \"Смарт\" составляет 20% от общего числа пользователей, что показывает, что он менее популярен по сравнению с тарифом \"Ультра\" на уровне всей выборки."
   ]
  },
  {
   "cell_type": "markdown",
   "metadata": {},
   "source": [
    "Сначала смотрим 1_cat, чтобы записать распределение по 1 категории.  \n",
    "Не забываем делеть swap_cols чтобы изучить обе категориальные переменные.  \n",
    "Записываем, если есть различия в долях в категории.  "
   ]
  },
  {
   "cell_type": "markdown",
   "metadata": {},
   "source": [
    "ОЧЕНЬ ВАЖНО  \n",
    "Если много значений и бары сливаютсю, то включаем heatmap  \n",
    "ВАжно не забывать, что heatmap для этого и нужен."
   ]
  },
  {
   "cell_type": "code",
   "execution_count": null,
   "metadata": {},
   "outputs": [],
   "source": [
    "import sys\n",
    "sys.path.append('/home/pagri/git_repos/pagri_private_modules')\n",
    "import pagri_dash\n",
    "pagri_dash.category_analysis_dash(df, 'df', \"path/to/notebook/for/save\")"
   ]
  },
  {
   "cell_type": "markdown",
   "metadata": {},
   "source": [
    "> Строим матрицу тепловой карты для категориальных переменных и изучаем зависимости  \n"
   ]
  },
  {
   "cell_type": "markdown",
   "metadata": {},
   "source": [
    "Чтобы в dash app выбрать нужные пары для scatterplot   \n",
    "ставим  `_gen_` в месте где хотим чтобы появились ячейки с кодом для постройки графиков      \n",
    "далее используем  `pagri_dash.scatterplot_analysis_dash`"
   ]
  },
  {
   "cell_type": "code",
   "execution_count": null,
   "metadata": {},
   "outputs": [],
   "source": [
    "_gen_ "
   ]
  },
  {
   "cell_type": "code",
   "execution_count": null,
   "metadata": {},
   "outputs": [],
   "source": [
    "import sys\n",
    "sys.path.append('/home/pagri/git_repos/pagri_private_modules')\n",
    "import pagri_dash\n",
    "pagri_dash.categorical_heatmap_matrix_dash(df, 'df', \"/home/pagri/git_repos/pagri-projects/quarto/projects/housing-ads-investigation/temp.ipynb\")"
   ]
  },
  {
   "cell_type": "markdown",
   "metadata": {},
   "source": [
    "> Посмотрим на распределение количества элементов между группами\n"
   ]
  },
  {
   "cell_type": "markdown",
   "metadata": {},
   "source": [
    "> Нужно подумать как отобразить не только процент от всего количества, но и пороцент в группе  \n",
    "> То есть у нас есть значение в ячейке, сумма всех, сумма по категории на оси x и сумма по категории на оси Y  \n",
    "> Вот нужно как-то отобразить процент от суммы, процент от одной категории и от другой категории\n"
   ]
  },
  {
   "cell_type": "code",
   "execution_count": null,
   "metadata": {},
   "outputs": [],
   "source": [
    "12 (0.5% of total, 20% of row, 15% of col) "
   ]
  },
  {
   "cell_type": "markdown",
   "metadata": {},
   "source": [
    "> Можно сделать кнопки, чтобы можно было подсветку делать внури колонок и строк\n"
   ]
  },
  {
   "cell_type": "markdown",
   "metadata": {},
   "source": [
    "> Можно сделать кнопки (процент от общего) (процент от тут указывается название оси x) (аналогично для второй оси)\n"
   ]
  },
  {
   "cell_type": "code",
   "execution_count": null,
   "metadata": {},
   "outputs": [],
   "source": [
    "pagri_data_tools.categorical_graph_analys_gen()"
   ]
  },
  {
   "cell_type": "markdown",
   "metadata": {},
   "source": [
    "> Строим treemap  \n",
    "> `treemap`  \n",
    "> `treemap_dash`\n",
    ">\n",
    "> ```\n",
    "> app = treemap_dash(df)\n",
    "> if __name__ == '__main__':\n",
    ">    app.run_server(debug=True)\n",
    "> ```\n"
   ]
  },
  {
   "cell_type": "markdown",
   "metadata": {},
   "source": [
    "ВАЖНО  \n",
    "на treemap очень хорошо заметно выделяющиеся цепочки категорий по количеству.  \n",
    "Важно посмотреть по 3 и более категорий в ряд,  \n",
    "не нужно сильна всматриваться, задача заметить категории которые выделяются (будет явно больше прямоугольник)  \n",
    "И если нашли выделяющиеся важные категории, то сохраняем график и делаем выводы."
   ]
  },
  {
   "cell_type": "code",
   "execution_count": null,
   "metadata": {},
   "outputs": [],
   "source": [
    "pagri_data_tools.treemap()"
   ]
  },
  {
   "cell_type": "code",
   "execution_count": null,
   "metadata": {},
   "outputs": [],
   "source": [
    "app = pagri_data_tools.treemap_dash(df)\n",
    "if __name__ == '__main__':\n",
    "    app.run_server(debug=True)"
   ]
  },
  {
   "cell_type": "markdown",
   "metadata": {},
   "source": [
    "> Строим parallel_categories  \n",
    "> `parallel_categories `  \n",
    "> `parallel_categories_dash `\n",
    ">\n",
    "> ```\n",
    "> app = treemap_dash(df)\n",
    "> if __name__ == '__main__':\n",
    ">    app.run_server(debug=True)\n",
    "> ```\n"
   ]
  },
  {
   "cell_type": "code",
   "execution_count": null,
   "metadata": {},
   "outputs": [],
   "source": [
    "pagri_data_tools.parallel_categories()"
   ]
  },
  {
   "cell_type": "code",
   "execution_count": null,
   "metadata": {},
   "outputs": [],
   "source": [
    "app = pagri_data_tools.parallel_categories_dash(df)\n",
    "if __name__ == '__main__':\n",
    "    app.run_server(debug=True)"
   ]
  },
  {
   "cell_type": "markdown",
   "metadata": {},
   "source": [
    "> Строим Sankey  \n",
    "> `sankey `  \n",
    "> `sankey_dash`\n",
    ">\n",
    "> ```\n",
    "> app = treemap_dash(df)\n",
    "> if __name__ == '__main__':\n",
    ">    app.run_server(debug=True)\n",
    "> ```\n"
   ]
  },
  {
   "cell_type": "code",
   "execution_count": null,
   "metadata": {},
   "outputs": [],
   "source": [
    "pagri_data_tools.sankey()"
   ]
  },
  {
   "cell_type": "code",
   "execution_count": null,
   "metadata": {},
   "outputs": [],
   "source": [
    "app = pagri_data_tools.sankey_dash(df)\n",
    "if __name__ == '__main__':\n",
    "    app.run_server(debug=True)"
   ]
  },
  {
   "cell_type": "markdown",
   "metadata": {},
   "source": [
    "### Изучение зависимостей между числовыми и категориальными переменными\n"
   ]
  },
  {
   "cell_type": "markdown",
   "metadata": {},
   "source": [
    "Построим графики для числовых переменных в разрезе категорий."
   ]
  },
  {
   "cell_type": "markdown",
   "metadata": {},
   "source": [
    "добавить слайдер как доп переменную и анимация будет сразу"
   ]
  },
  {
   "cell_type": "code",
   "execution_count": null,
   "metadata": {},
   "outputs": [],
   "source": [
    "df = px.data.gapminder()\n",
    "\n",
    "fig = px.bar(df, x=\"continent\", y=\"pop\", color=\"continent\",\n",
    "  animation_frame=\"year\", animation_group=\"country\", range_y=[0,4000000000], width=900, height=500)\n",
    "fig.show()"
   ]
  },
  {
   "cell_type": "markdown",
   "metadata": {},
   "source": [
    "Важно когда мы смотрем очередной график, то задавать не только вопросы к данным, но и думать как можно отфильтровать  \n",
    "данные, чтобы сделать дополнительные полезные выводы.  \n",
    "То есть мы фильтруем данные и потом эти графики поместим в раздел с анализом срезов.  "
   ]
  },
  {
   "cell_type": "markdown",
   "metadata": {},
   "source": [
    "> Можно добавить кнопку среднее и количество  \n",
    "> Чтобы можно было посмотртеть распределение по количеству, когда смотрить среднее.\n"
   ]
  },
  {
   "cell_type": "code",
   "execution_count": null,
   "metadata": {},
   "outputs": [],
   "source": [
    "_gen_ "
   ]
  },
  {
   "cell_type": "markdown",
   "metadata": {},
   "source": [
    "Добавить в hover количество элементов в группе,  \n",
    "чтобы понимать размер группы."
   ]
  },
  {
   "cell_type": "markdown",
   "metadata": {},
   "source": [
    "Добавить возможность перескакивать комбинации.  \n",
    "Если много колонок, то комбинаций очень много и часть может быть просто не нужна для анализа.  "
   ]
  },
  {
   "cell_type": "markdown",
   "metadata": {},
   "source": [
    "Изучаем следующим образом  \n",
    "- смотрим на график и определяем есть ли взаимодейсвие (то есть отличаются ли значения в разных группах, это будет видно как разная высота баров)\n",
    "- если разницы в барах нет, или она минимальная, то сразу можно пропускать\n",
    "- если разница есть, то думаем важна ли для нас ээта комбинация столбцов\n",
    "- если нет, то пропускаем\n",
    "- если да, то пишем наблюдения и сохраняем"
   ]
  },
  {
   "cell_type": "markdown",
   "metadata": {},
   "source": [
    "Не забываем смотреть 1_cat чтобы изучить отдельную категорию.  \n",
    "То есть график появлился, смотрим на обе категории и на числовую переменную и думаем, нужно ли нам по отдельности изучить  \n",
    "каждую категориальную переменную c числовой. Если уже изучили, то не изучаем.\n",
    "Нужно подумать как сохранять уже изученые комбинации, чтобы не повторяться (может в dash app добавить всплывающее окно, для графиков, для которых уже был вывод, что уже было)"
   ]
  },
  {
   "cell_type": "markdown",
   "metadata": {},
   "source": [
    "ВАЖНО  \n",
    "Если много переменных, и не все они нужны для анализа,  \n",
    "то смотрим df.columns, выбираем нужные и в dash передаем датафрейм с нужными колонками."
   ]
  },
  {
   "cell_type": "markdown",
   "metadata": {},
   "source": [
    "ВАЖНО  \n",
    "не забываем смотреть sum для переменных типа выручки"
   ]
  },
  {
   "cell_type": "markdown",
   "metadata": {},
   "source": [
    "ВАЖНО  \n",
    "id это такая же числовая переменная, как и все остальные, но ее нужно аггрегировать, используя  \n",
    "`count` и `nunique`"
   ]
  },
  {
   "cell_type": "markdown",
   "metadata": {},
   "source": [
    "ВАЖНО  \n",
    "для графика heatmap   \n",
    "важно смотреть по какой колоноке больше значений и ее делать по оси X  \n",
    "Так как ширина графика больше высоты"
   ]
  },
  {
   "cell_type": "markdown",
   "metadata": {},
   "source": [
    "ВАЖНО  \n",
    "Если на графика 2 категориальной переменной, то хороший размер 1000 на 450 (width на height)  \n",
    "Если на графике 1 категориальной переменной, то хороший размер 600 на 400 (width на height)"
   ]
  },
  {
   "cell_type": "markdown",
   "metadata": {},
   "source": [
    "Если у нас только 1 категорилаьная переменная, то добавляем временную и прям эту строку передаем в   \n",
    "`numeric_category_analysis_dash`"
   ]
  },
  {
   "cell_type": "code",
   "execution_count": null,
   "metadata": {},
   "outputs": [],
   "source": [
    "df.assign(temp=pd.Series(1, index=df.index).astype('category'))"
   ]
  },
  {
   "cell_type": "code",
   "execution_count": null,
   "metadata": {},
   "outputs": [],
   "source": [
    "import sys\n",
    "sys.path.append('/home/pagri/git_repos/pagri_private_modules')\n",
    "import pagri_dash\n",
    "pagri_dash.numeric_category_analysis_dash(df, 'df', \"/home/pagri/git_repos/pagri-projects/quarto/projects/housing-ads-investigation/temp.ipynb\")"
   ]
  },
  {
   "cell_type": "markdown",
   "metadata": {},
   "source": [
    "### Анализ временных зависимостей\n"
   ]
  },
  {
   "cell_type": "markdown",
   "metadata": {},
   "source": [
    "Изучим графики, представляющие различные временные переменные."
   ]
  },
  {
   "cell_type": "markdown",
   "metadata": {},
   "source": [
    "\n",
    "Это раздел нужен, чтобы изучить тредны, сезонность и определить какие категории уже свое отжили, а какие перспективные.  \n",
    "Какие категории падают по продажам, может нужно с этим что-то сделать и так далее.\n",
    "Смотрим на графики с временными зависимостями и отвечаем на такие вопросы:\n",
    "- Есть ли категории, которые присутствуют не все время?\n",
    "Например, у нас продажи игр и есть категория платформы, мы построили график суммарных продаж по платформам и по годам. И видим, что явно   \n",
    "заметно, что платформа живет определенное время, так как есть пик продаж и потом продаж мало.\n",
    "- Есить ли тренды, сезонность, циклы?\n",
    "- Какие категории были популярны в прошлом, какие начинают становится популярными, какие показывают устойчивость долгое время\n",
    "- Какие категории будут популяны ближайшее время исходя из того в какой-момент времени они находятся сейчас и какие результаты показывали в прошлом и показывают сейчас. "
   ]
  },
  {
   "cell_type": "markdown",
   "metadata": {},
   "source": [
    "ОЧЕНЬ ВАЖНО  \n",
    "Обязательно смотрим heatmap для для всех числовых переменных в разрезе категорий по годам.  \n",
    "Этот график отлично показывает участки, когда категория была активно, динамику во времени и прочее.  \n",
    "По оси X идет время а по оси Y идет категория, и тогда каждая полоска это динами во времени, если например, у нас продажи,  \n",
    "то будет четко видно где спад, а где подъем, когда мы подкрашиваем значения."
   ]
  },
  {
   "cell_type": "markdown",
   "metadata": {},
   "source": [
    "Проходим и из предыдущих разделов копируем все графики с временными переменными и вставляем сюда."
   ]
  },
  {
   "cell_type": "markdown",
   "metadata": {},
   "source": [
    "Когда мы хотим изучить верменную зависимость, то нам нуно создать новые переменные с обрезанными (trunc or round) значениям, чтобы можно было сгруппировать используя groupby or pivot_table  \n",
    "по этой обрезанной переменной и применить функцию агрегации и построить график, например, среднее время заправки на азс по часам.  \n",
    "Вот когда мы работаем с временем, нам нужно думать какие переменные создать, обрезая текущее время.\n"
   ]
  },
  {
   "cell_type": "markdown",
   "metadata": {},
   "source": [
    "> Строим когортный анализ, если есть возможность\n"
   ]
  },
  {
   "cell_type": "markdown",
   "metadata": {},
   "source": [
    "> Если у нас есть даты, то мы можем посмотреть не просто абсолютные значения на каждую дату какой-то метрики,  \n",
    "> а посмотреть относительные значения относительно предыдущего значения.  \n",
    "> Для этого нужно составить таблицу, в которой будет изменение в процентах относительно предыдущего значения.  \n",
    "> И затем визуализировать для каждой даты динамику этого показателя\n"
   ]
  },
  {
   "cell_type": "markdown",
   "metadata": {},
   "source": [
    "ВАЖНО  \n",
    "Если у нас есть время, то нужно посмотреть среднее время жизни определенных продуктов и прочее.  \n",
    "Тут важно, чтобы категории не жили все время, которое у нас есть в данных, иначе у всех будет одно время.  \n",
    "Это нужно делатЬ, если у нас есть категориальная переменная, занчения которой не всегда присутствуют.\n",
    "Например, у нас данные по годам продаж игр. Нужно взять продажи по годам и выбрать период, когда они активно продавались.  \n",
    "Это можно сделать через квантили или через 2-3 std.  \n",
    "Посчитать средене по всем играм.  \n",
    "Также у нас могут быть категории, например, платформы, тогда мы можем сагрегировать по платформам и посмотреть среднее время жизни платформы. \n"
   ]
  },
  {
   "cell_type": "markdown",
   "metadata": {},
   "source": [
    "Построим график времени жизни платформы"
   ]
  },
  {
   "cell_type": "code",
   "execution_count": null,
   "metadata": {},
   "outputs": [],
   "source": [
    "platform_lt = df.groupby('platform').agg({'year_of_release':'nunique'})\n",
    "px.bar(platform_lt, x=platform_lt.index, y='year_of_release')"
   ]
  },
  {
   "cell_type": "markdown",
   "metadata": {},
   "source": [
    "Посчитаем общее среднее время жизни платформы"
   ]
  },
  {
   "cell_type": "code",
   "execution_count": null,
   "metadata": {},
   "outputs": [],
   "source": [
    "print('Среднее время жизни платформы', df.groupby('platform').agg({'year_of_release':'nunique'}).mean())"
   ]
  },
  {
   "cell_type": "markdown",
   "metadata": {},
   "source": [
    "И так мы можем делать со всеми категориальными переменнми, если у нас есть временная переменная.  \n",
    "Схема такая\n",
    "- мы группируем по категорилаьной переменной и считаем уникльное количество нужных нам временных периодов.\n",
    "- строим график\n",
    "- считаем общее среднее время жизни"
   ]
  },
  {
   "cell_type": "markdown",
   "metadata": {},
   "source": [
    "И далее мы получаем временной интервал (среднее время жизни), который мы можем использовать для фильтрации.  \n",
    "То есть нам нужно определить перспективные направления в определенной категориальной перменной.  \n",
    "У нас сейчас нарпимер, 2015 год. Мы выяснили что среднее время жизни категории 5 лет.  \n",
    "Тогда мы смотрим сколько на момент 2015 года прожила каждая категория. И далее считаем сколько ей осталось ещё жить.  \n",
    "Сортируем по времени оставшейся жизни. В итоге получаем топ переспективных категорий."
   ]
  },
  {
   "cell_type": "markdown",
   "metadata": {},
   "source": [
    "Общая схема такая\n",
    "- Выбираем категориальную переменную, в которой нам нужно определить перспективные категории.\n",
    "- Строим график для каждой категории ее вермени жизни. Делаем выводы.\n",
    "- Считаем среднее время жизни платформ (в идеале если есть другие категории, которые разделют категории на общие, то использовать расчет внутри подгруп).\n",
    "- Далее Берем актуальные на данный момент категории и считаем сколько они прожили к данному моменту.\n",
    "- Вычитаем среднее время жизни всех платформ и строим график топ по оставшемуся времени жизни.\n",
    "- Делаем выводы, какие категории будут лучше ближайшее время."
   ]
  },
  {
   "cell_type": "markdown",
   "metadata": {},
   "source": [
    "ВАЖНО  \n",
    "Если нам нужно определить перспективные категории в будущем,  \n",
    "то нужно использовать среднее время жизни категории. И взять период от текущего момента минус среднее время жизни.  \n",
    "И изучить именно этот период. Так мы получим более точные результаты.  \n",
    "Для выбранного периода строим данные по количеству проданных копий, например, по сумме выручки.   \n",
    "Строим боксплоты или vilon рядом за этот временной период и сравниваем, какие категории дали лучше результаты.  \n",
    "И делаем выводы.  \n",
    "Таким образом важно изучить общие данные и данные за среднее время жизни категории отложенного от текущего момента назад.  "
   ]
  },
  {
   "cell_type": "markdown",
   "metadata": {},
   "source": [
    "ВАЖНО  \n",
    "Чтобы определить самую перспективную категорию, нужно взять отрезок времени от текущего минус среднее время жизни.  \n",
    "И построить например, график общих продаж по годам в разрезе категории. Таким образом мы увидим у кого прибыль расте, а у кого падает.  \n",
    "И так как мы значем среденее время жизни, то мы можем уже делать выводы о будущем.  \n"
   ]
  },
  {
   "cell_type": "markdown",
   "metadata": {},
   "source": [
    "ВАЖНО  \n",
    "Вообще очень важно на графиках, с временными зависимостями смотреть конечную дату и делать выводы, какие категории уже на спаде, а какие сейчас актуальны.    \n",
    "Это можно понять по графику суммарных продаж по годам, суммарной выручки по годам, количествую новых пользователей по годам и так далее.  \n",
    "Нужно делать, например, такие выводы:  \n",
    "    Эти платформы относительно молоды (3-5 лет), свой пик они уже прошли и не показывают потенциальных перспектив роста продаж, но их продажи пока выше остальных и какое-то время они способны продержаться на плаву и заполнить нишу на рынке игровых платформ, ведь геймеры никуда не делись. Мы не видим платформ моложе либо с тенденцией роста к концу 2016 года, поэтому есть смысл сделать ставки на эти три: большинство крупных проектов подошли к своему завершению, и между ними и новыми разработками, которые возможно скоро появятся на рынке, будет явный провал, который надо переждать для \"поддержания штанов\""
   ]
  },
  {
   "cell_type": "markdown",
   "metadata": {},
   "source": [
    "Таким образом, смотрим на график (это моежт быть и бары, лини и heatmap в зависимости от количества категорий),  \n",
    "и изучаем динамику. \n",
    "Пишем выводы, что данные категории уже не актуальны, что определенные категории набирают оброты, что другие категории показывают лучшую устойчивость..  \n",
    "Например - \n",
    "- Жанр А был популярен до Х года, но последнее время потерял популярность, это видно по суммарным продажам и количеству новых пользователей.\n",
    "- Жанр Б показвает устойчивый рост, что говрит о том, что он ещё будет определенное время популярным.\n",
    "- Жанр В только появился на рынке и показывает хорошие результаты, то есть он может быть перспективным.\n",
    "И так делаем выводы по каждой категории.  \n",
    "Суть в том, чтобы проанализировать динамику во времени.  \n",
    "Для этого и создается раздел анализ временных зависимостей, чтобы изучить тредны, сезонность и определить какие категории уже свое отжили, а какие перспективные.  \n",
    "Какие категории падают по продажам, может нужно с этим что-то сделать и так далее."
   ]
  },
  {
   "cell_type": "markdown",
   "metadata": {},
   "source": [
    "ВАЖНО  \n",
    "пройти просмотреть все графики и где нужно изменить тип на линии  \n",
    "Если на графике динамика чего-то то линия лучше баров.  \n",
    "Если идет сравнение то бары лучше."
   ]
  },
  {
   "cell_type": "markdown",
   "metadata": {},
   "source": [
    "ВАЖНО  \n",
    "Пройти просмотреть все графики  \n",
    "Где только 1 категориальная переменная сделать горизонтальную ориентацию"
   ]
  },
  {
   "cell_type": "markdown",
   "metadata": {},
   "source": [
    "ВАЖНО  \n",
    "Пройти просмотреть все графики и где нужно проставить числа над барами"
   ]
  },
  {
   "cell_type": "markdown",
   "metadata": {},
   "source": [
    "### ВАЖНО"
   ]
  },
  {
   "cell_type": "markdown",
   "metadata": {},
   "source": [
    "- Берем все датафреймы, которые анализировали.  \n",
    "- И по очереди выводим все колонки, с указанием категориальная, числовая или другая.  \n",
    "- Собираем все выводы от графиков. \n",
    "- И внимательно думаем, какие зависимости мы пропустили.  \n",
    "- Строим их"
   ]
  },
  {
   "cell_type": "code",
   "execution_count": null,
   "metadata": {},
   "outputs": [],
   "source": [
    "df_by_userid_month.dtypes"
   ]
  },
  {
   "cell_type": "markdown",
   "metadata": {},
   "source": [
    "### Анализ срезов данных "
   ]
  },
  {
   "cell_type": "markdown",
   "metadata": {},
   "source": [
    "ВАЖНО  \n",
    "Посмотреть графики для каждой категории в нужных категориальных переменных. \n",
    "Например, у нас категориальная переменная регион.  \n",
    "Нужно посмотреть все зависимости для каждого региона отдельно и отобразить графики.  \n",
    "Схема следующая\n",
    "- Нужно выбрать важные категории и числовые переменные, которые мы хотим изучить отдельно.  \n",
    "- Когда изучаем графики, то изучаем всю картину целиком и затем изучаем отдельно каждую категорию."
   ]
  },
  {
   "cell_type": "markdown",
   "metadata": {},
   "source": [
    "ВАЖНО  \n",
    "Не нужно для всех категорий строитьотдельные графики.  \n",
    "Тут логика следующая:\n",
    "- Если на одном графике помещются данные по всем топ 5 категорий и можно сразу увдиеть результат по отдельным категоирям, то нет смысла строить отдельно.  \n",
    "- Если же мы смотрим на график и нам охота посмотреть ситуацию по отдельной категории, то лучше простроить ее отдельно.  \n",
    "- Нужно смотреть по ситуации и в зависимости от того, насколько разбивка по категориям на одном графике показывает ситуацию."
   ]
  },
  {
   "cell_type": "markdown",
   "metadata": {},
   "source": [
    "ВАЖНО  \n",
    "если у нас по условию задачи нужно сравнить что-то, то нужно построить наложенные гистограамы (в виде каги) каждой категории.  \n",
    "То есть если мы сравниваем тарифы, то нужно наложить гистограммы выручки, количества сообщений, звонков, гигабайт и так далее.  \n",
    "Таким образом мы не только сравниваем аггрегирующие метрики на графике, разбивая метрику по категории, но и   \n",
    "строим накладывающиеся гистограммы по каждой категории. Это очено важно, так как дает более глубокое сравнение.  "
   ]
  },
  {
   "cell_type": "markdown",
   "metadata": {},
   "source": [
    "Вообще если есть время, то в идеале построить накладывющиеся гистограммы для всех важных числовых метрик по всем важным категориям.  \n",
    "То есть берем метрику и категориальную переменную и строим гистограмму.  \n",
    "Нужно сделать отдельную функцию.  "
   ]
  },
  {
   "cell_type": "markdown",
   "metadata": {},
   "source": [
    "ВАЖНО  \n",
    "Если у нас есть странные значения, например нулевая длительность звонков, или что-то подобное,   \n",
    "то это также является срезом, который нужно изучить. Не только при предобработке, когда мы смотрели это по категориям.  \n",
    "Тут мы не только смотрим по категориям на графиках, но ещё и смотрим все метрики и графики для этого среза или срезов.  \n",
    "Таким образом выбросы, пропуски и любые аномальные занчения, которые можно объеденить в группу, являются срезом.  \n",
    "И этот срез нужно отдельно изучить, построив все графики, которые строили для общего датафрейма.  "
   ]
  },
  {
   "cell_type": "markdown",
   "metadata": {},
   "source": [
    "ВАЖНО  \n",
    "Если у нас много пропусков (болше 20 процентов)  \n",
    "То можно создать категориальуню переменную (с пропусками / без пропусков) для каждой колонки с пропусками.  \n",
    "И изучить срезы отдельно. То есть сравнить их."
   ]
  },
  {
   "cell_type": "markdown",
   "metadata": {},
   "source": [
    "ВАЖНО  \n",
    "Важно изучать топ N чего-то. Так как нас интересует увеличение результатов, и именно эти топ n уже показали результаты и нужно это изучить. И сделать выводы.  \n",
    "Смотрим на категориальные переменные и числовые переменные в разделе, где мы их изучали.  \n",
    "Отбираем нужные категории и числовые переменные. \n",
    "Категории мы также можем отобрать и в разделе изучения категорий, когда изучаем доли. То есть выбираем топ N не только по числовой переменной,  \n",
    "но и по количествую в категориальной переменной. То есть мы изучим отедльно самые распространенные категории.\n",
    "Выбрать топ 5 значений категориальной переменной по нужной количественной переменной.  \n",
    "И посмотреть их отдельно на одном графике вместе (то есть фильтруем 5 значений категориальной переменной по топ числовой переменной).  \n",
    "И каждую по отдельности.  \n",
    "Причем смотрим и распределения и средние значения и суммы по определенной числовой переменной.\n",
    "Схема такая\n",
    "- когда изучаем общие данные, выбираем категории и числовые переменные, которые можно изучить через топ N.\n",
    "- и в этом разаделе уже смотрим их по отдельности. Даже если мы до этого изучили всю картину и были графики, где эти категории уже есть в разрезе,  \n",
    "то для лучшего понимания картины тут тоже строим графики, но уже для выбранных категорий и далее по отдельности. Можно и распределения построить.  \n",
    "Задача проанализировать чем эти топ N категории отличаются от остальных.  \n",
    "Например у нас данные о продажах игр.  \n",
    "Мы построили график суммарных продаж и увидели, что определнное количество игр имеют болше результат чем другие (не обязательно 5, может быть и 2, 3, тут лучше ориентироваться на то, насколько выбранные отличаются от остальных, наша задача отобрать те, которые явно выделяются)."
   ]
  },
  {
   "cell_type": "markdown",
   "metadata": {},
   "source": [
    "И так повторяем для всех важных категорий и числовых переменных.  \n",
    "Суть в том, чтобы проаназировать как ведут себя лидеры.  \n",
    "Также можно и изучить топ с самыми худшими результатами."
   ]
  },
  {
   "cell_type": "markdown",
   "metadata": {},
   "source": [
    "Срезы нужно обязательно сравнить со всем датафреймом.  \n",
    "То есть мы например, изучили центр города и нужно сделать выводы основываясь на сравнении центра и всего города."
   ]
  },
  {
   "cell_type": "markdown",
   "metadata": {},
   "source": [
    "Нужно создать 2 генератора и параллельно идти, чтобы сначала выводился срез, а потом уже целый датафрейм.  \n",
    "Тут наша задача не изучать выбросы, дубли и прочее.  \n",
    "Тут задача найти отличия среза от всего датафрейма."
   ]
  },
  {
   "cell_type": "markdown",
   "metadata": {},
   "source": [
    "Возможно лучше прйти все колонки так попарно, а потом выбрать только те, которые имеют отличия.  \n",
    "И построить только их."
   ]
  },
  {
   "cell_type": "markdown",
   "metadata": {},
   "source": [
    "ВАЖНО  \n",
    "Еслиу нас есть временные переменные, то важно посмотреть графики за последние 10, 5, 3 или 1 год, в зависимости от задачи.   \n",
    "Так как важно проанализировать не только всю историю, но и последнее время, так как именно это время актуально.  \n",
    "Берем строим графики, например, суммарные продажи по жанрам за последние 3-5 лет и так далее.   "
   ]
  },
  {
   "cell_type": "markdown",
   "metadata": {},
   "source": [
    "Срезы нужны не только чтобы изучить отдельно часть данных, важно сравнивать срез со всем датафреймом.  \n",
    "Нужно подумать какие срезы будет полезно сравнить со всем датафреймом.  \n",
    "И провести сравнительный анализ. И поместить в отчет то, что имеет отличия и важно для выводов."
   ]
  },
  {
   "cell_type": "markdown",
   "metadata": {},
   "source": [
    "Часто когда есть пользователи, то нужно изучить срезы активные и не активные пользователи.  \n",
    "И постараться понять что отличает не активных.  "
   ]
  },
  {
   "cell_type": "markdown",
   "metadata": {},
   "source": [
    "сделать приложение dash чтобы можно было выбирать колонки для анализа,  \n",
    "чтобы можно было фильтровать по всем категориальным переменным,  \n",
    "чтобы были слайдеры для фильтрации по числовым переменным,\n",
    "чтобы можно было выбирать типы графиков и строить разные графики.  \n",
    "Это не генератор, а это для ad-hoc анализа.   \n",
    "То есть мы подумали что интересно будет изучить этот срез и эти переменные и изучили.  \n",
    "А потом можно подумать как это автоматиировать, чтобы в цикле строились нужные графики.  "
   ]
  },
  {
   "cell_type": "markdown",
   "metadata": {},
   "source": [
    "Анализ срезов состоит из анализа срезов из одного значения, то есть мы выбираем конкретное значени и по  нему фильтруем.  \n",
    "и анализа срезов из нескольких переменных, когда мы выбираем несколько значений для среза или даже несколько переменных и в них выбираем определенные значения.  "
   ]
  },
  {
   "cell_type": "markdown",
   "metadata": {},
   "source": [
    "Анализ срезов по одному значению мы просто фильтруем по нему и смотрим результат функции `info_gen` или 'info_column'  "
   ]
  },
  {
   "cell_type": "markdown",
   "metadata": {},
   "source": [
    "А анализ срезво по нескольким значениям или переменным будет результатом анализа графиков в dash app.  \n",
    "То есть мы в процессе анализа фильтруем данные и после работы в dahs app мы фильтрованные графики помещаюем в этот раздел.  \n",
    "Чтобы разделить срезы и полный анализ.  "
   ]
  },
  {
   "cell_type": "markdown",
   "metadata": {},
   "source": [
    "ВАЖНО  \n",
    "Чтобы изучить активных и неактивных пользователей, нужно создать признак 'is_acitve'  \n",
    "И внимательно посмотреть на графики с временными зависимостями, где во времени идет сранвение по 'is_active'  \n",
    "Таким образом мы как бы посмотрим в прошлое, как вели себя пользователи, которые стали неактивными, и как вели себя активные пользователи"
   ]
  },
  {
   "cell_type": "markdown",
   "metadata": {},
   "source": [
    "Нужно подумать как лучше изучать срезы.  \n",
    "В данном разделе лучше изучить срезы отдельных значений, то есть отдельный город, отдельный пол и прочее.  \n",
    "То есть мы фильтруем по одному значению и его изучаем в функцией `info`  \n",
    "А изучение срезов данных, которые состоят из набора значений (например изучить цену в топ 10 городах), это уже будет сделано  \n",
    "в анализе графиков.  "
   ]
  },
  {
   "cell_type": "markdown",
   "metadata": {},
   "source": [
    "Тут мы изучаем подготовленный набор данных в разрезе разных категориальных переменных.  \n",
    "Задача посмотреть на отдельные срезы и найти закономерности в данных.  "
   ]
  },
  {
   "cell_type": "markdown",
   "metadata": {},
   "source": [
    "Например у нас есть данные о продажах квартир, мы создали новые категориальные перменные, обогатили данные  \n",
    "И теперь хотим посмотреть какое распределение цены только в центре, или какая площадь квартир возле парков и прочее.  \n",
    "То есть мы тут изучаем отдельно переменные в разрезе категорий, то есть строим срезы.  \n",
    "ВАжно, что тут мы изучаем отедльные переменные, срезы в зависимостях переменных будем строить в разаделе визуализации. "
   ]
  },
  {
   "cell_type": "markdown",
   "metadata": {},
   "source": [
    "Определить цель. Прежде чем начинать анализ срезов, важно четко определить, какие вопросы вы хотите ответить или какие гипотезы хотите проверить. Это может включать:\n",
    "- Сравнение различных групп (например, по возрасту, полу, региону).\n",
    "- Изучение влияния определенных факторов на целевую переменную.\n",
    "- Выявление аномалий или неожиданных паттернов в данных."
   ]
  },
  {
   "cell_type": "markdown",
   "metadata": {},
   "source": [
    "Выбор переменных для срезов. Выберите переменные, по которым вы хотите сделать срезы. Это могут быть как категориальные, так и количественные переменные. Примеры:\n",
    "- Категориальные переменные: пол, категория товара, регион, уровень образования.\n",
    "- Количественные переменные: возраст, доход, количество покупок (то есть мы можем просто взять срез с зарплатой до 100 тысяч и прочее, не обязательно иметь категорию для создания срезов, причем у нас может быть категория доходов, но срез мы можем взять в другом диапазоне)."
   ]
  },
  {
   "cell_type": "markdown",
   "metadata": {},
   "source": [
    "Важно когда мы выбрали параметры по которым хотим сделать срез, то далее нужно выбрать условие по которому мы будем создавать срез.  \n",
    "Срез это фильтрация или группировка, то есть должна быть либо функция аггрегации или значения по которым мы будем фильтровть.  \n",
    "Например мы для среза выбрали параметр города. Теперь нам нужно отобрать города для среза.  \n",
    "Мы выбираем параметр количество объявлений (все зависит от цели, можно было выбрать и количество населения, значение других параметров, все что поможет нам создать топ)\n",
    "И далее по нему фильтруем или аггрегируем.  "
   ]
  },
  {
   "cell_type": "markdown",
   "metadata": {},
   "source": [
    "Срезы данных можно создавать различными способами. Вот несколько подходов:\n",
    "- Фильтрация данных: Используйте условия для выбора подмножеств данных.  \n",
    "Например, выберите только тех клиентов, которые находятся в определенном регионе или имеют доход выше определенного порога.  \n",
    "- Группировка данных: Используйте функции группировки (например, groupby в pandas для Python) для агрегирования данных по выбранным переменным.   \n",
    "Это позволяет вам получить сводные статистики по группам.\n",
    "- Кросс-табуляция: Для категориальных переменных создайте кросс-таблицы, чтобы увидеть взаимосвязи между переменными."
   ]
  },
  {
   "cell_type": "markdown",
   "metadata": {},
   "source": [
    "Анализ срезов. После создания срезов данных проведите анализ:\n",
    "- Статистический анализ: Рассчитайте основные статистики (среднее, медиана, стандартное отклонение) для каждой группы или среза. Это поможет вам понять, как различаются группы по ключевым показателям.\n",
    "- Визуализация: Постройте графики для визуального представления данных. Это могут быть:  \n",
    "Гистограммы для распределения количественных переменных.  \n",
    "Столбчатые графики для сравнения категориальных переменных.  \n",
    "Ящики с усами (boxplots) для визуализации разброса и выявления аномалий.  \n",
    "- Сравнительный анализ: Сравните срезы между собой. Например, как различается средний доход мужчин и женщин или как меняется поведение клиентов в зависимости от региона."
   ]
  },
  {
   "cell_type": "markdown",
   "metadata": {},
   "source": [
    "Если мы для среза выбрали одно значение (например конкретный город), то мы просто посмотреть результат функции`info` и проанализировать его  \n",
    "Но если мы выбрали для среза набор значений, то нам нужно уже построить графики для сравнения стат параметров или других аггреигующих параметров  \n",
    "для каждого занчения в срезе. То есть нам нужно выбрать параметры по которым мы будем сравнивать значения в срезе.  "
   ]
  },
  {
   "cell_type": "markdown",
   "metadata": {},
   "source": [
    "Фильруем датасет по определенному значению и далее либо изучаем по отедльным столбцам, либо по всем испоьзуя генератор"
   ]
  },
  {
   "cell_type": "markdown",
   "metadata": {},
   "source": [
    "То есть мы изучаем срез по одному значению"
   ]
  },
  {
   "cell_type": "markdown",
   "metadata": {},
   "source": [
    "Созадем 2 генератора (или больше, если хотим сравнить несколько срезов), для среза и всего датафрейма и идем изучаем их вместе.  "
   ]
  },
  {
   "cell_type": "markdown",
   "metadata": {},
   "source": [
    "Нужно сделать отдельный генератор, чтобы в нем не было информации про пропуски, нули и прочее,   \n",
    "И организовать так, чтобы было удобно сравнивать.  \n",
    "Также гистограммы нужно сделать на одном графике, чтобы накладывлись друг на друга и сделать прозрачность.    \n",
    "Это очень удобно и если гистограммы будут накладываться друг на друга, то можно будет увидеть сразу отличия средних и мод на графике.    \n",
    "В идеале сделать, чтобы были не столбцы, а типа каги, то есть линия со ступеньками, так удобнее сравнивать гистограммы. "
   ]
  },
  {
   "cell_type": "markdown",
   "metadata": {},
   "source": [
    "ОЧЕНЬ ВАЖНО  \n",
    "- в наблюдения пишем обязательно диапазон значений столбца.  \n",
    "Рынок жилья представлен объектами общей площадью от 12 до 900 кв.м. \n",
    "- пишем медианное занчение и по гистограмме и по квантилям определяем оснвоной диапазон.  \n",
    "В основном это жилье от 30 до 100 кв.м. с пиком в сегменте 30-75 кв.м  \n",
    "Это все нужно, чтобы потом сформулировать вот такой вывод (в оснвоном выводе отчета), то есть мы для разных столбцов пишем диапазоны,  \n",
    "основной дипазаон, медианы, моды, а потом уже собираем это в 1 или несколько выводов,  \n",
    "Например.  \n",
    "Рынок жилья представлен объектами общей площадью от 12 до 900 кв.м. В основном это жилье от 30 до 100 кв.м. с пиком в сегменте 30-75 кв.м. В жилой площади квартиры преобладает диапазон 15-50 кв.м. Размер площади кухни-от 5 до 15 кв.м., с пиком 9 кв.м. Это стандартные небольшие квартиры эконом-класса. Подавляющее большинство квартир- 1-3 комнатные, с высотой потолка 2,6-2,7 м., но встречаются редкие варианты до 19 комнат и высотой потолка до 20 кв.м. (либо ошибка, либо свободная планировка с возможностью многоуровневости).\n"
   ]
  },
  {
   "cell_type": "markdown",
   "metadata": {},
   "source": [
    "В итоге мы сраним диапазоны, моды, медианы в срезе и во всем датафйреме.  \n"
   ]
  },
  {
   "cell_type": "markdown",
   "metadata": {},
   "source": [
    "Было бы идеально определить отличия в срезе и в общей картине, не просто сухими цифрами,  \n",
    "а собрать все наблюдения вместе и расписать это в подобном виде-   \n",
    "Рынок недвижимости центральной части города представлен несколько более широким по площади диапазоном : основная масса- это жилье от 30 до 150 кв.м с пиком в сегменте 45-80 кв.м. При этом жилая площадь занимает большую долю, чем среднестатистическая квартира: в центре СПб большое количество домов старой застройки, в которой пространство \"сдвинуто\" в пользу жилой площади. Особенностью этой части города является то, что большинство квартир, предлагаемых на продажу,- 2-3 комнатные: здесь в общей массе достаточно низкая доля 1-комнатного жилья и выше доля 4-комнатных квартир. Наибольшее количество предложений в абсолютном выражении (цена за объект) приходится на диапазон 5-15 млн.руб. с пиком 5-8 млн.руб.(маленькие квартиры эконом-класса), но есть и уникальные объекты стоимостью до 35 млн.руб. Стоимость квадратного метра недвижимости в основном варьируется от 70 до 150 тыс.руб. с пиком в 100 тыс.руб. Наряду с типовыми предложениями на продажу выставлено жилье со стоимостью 1 кв.м. до 266 тыс.руб за кв.м. В целом цены жилья центра города выше по цене, чем аналогичное в других районах."
   ]
  },
  {
   "cell_type": "code",
   "execution_count": null,
   "metadata": {},
   "outputs": [],
   "source": [
    "df_sliced = df[df.location_zone == 'Центр']\n",
    "gen_slice = pagri_data_tools.info_gen(df_sliced)\n",
    "gen = pagri_data_tools.info_gen(df)"
   ]
  },
  {
   "cell_type": "code",
   "execution_count": null,
   "metadata": {},
   "outputs": [],
   "source": [
    "next(gen_slice)\n",
    "next(gen)"
   ]
  },
  {
   "cell_type": "markdown",
   "metadata": {},
   "source": [
    "Если есть что-то важное и есть отличия, по которым можно сделать выводы, то строим отдельно в отчет"
   ]
  },
  {
   "cell_type": "code",
   "execution_count": null,
   "metadata": {},
   "outputs": [],
   "source": [
    "print('Центр города')\n",
    "pagri_data_tools.info_column(df_sliced, 'last_price')\n",
    "print('Весь датафрейм')\n",
    "pagri_data_tools.info_column(df, 'last_price')"
   ]
  },
  {
   "cell_type": "markdown",
   "metadata": {},
   "source": [
    "**Наблюдения:**  \n",
    "- пишем тут наблюдения"
   ]
  },
  {
   "cell_type": "markdown",
   "metadata": {},
   "source": [
    "ВАЖНО  \n",
    "Сравниваем не только отдельные столбцы с общей картиной.  \n",
    "Нужно взять срез и посмотреть на корреляцию, зависимости между числовыми, категориальными и т.д.  \n",
    "Как это делали для всего датафрейма, только в укороченной версии, то есть можно взять общей картины, что мы нашли интересного  \n",
    "(то есть взять названия столбцов) и посмотреть на эти же графики, но уже в срезах.  \n",
    "Если есть время, то можно и полностью прогнать все необходимые срезы по всем столбцам как для всего датафрейма.  "
   ]
  },
  {
   "cell_type": "markdown",
   "metadata": {},
   "source": [
    "Полезно изучить топ определенного столбца.  \n",
    "То есть нам нужно выбрать параметр по которому мы отберем топ значений для категорий.  \n",
    "Затем выбрать параметр для которого мы будем считать топ значений (числовая переменная)\n",
    "И построить топ.  \n",
    "Например, топ цен квартир в 10 городах с максимальным количеством объявлений.  \n"
   ]
  },
  {
   "cell_type": "code",
   "execution_count": null,
   "metadata": {},
   "outputs": [],
   "source": [
    "selected_cities = df.groupby('locality_name').size().rename('count').sort_values(ascending=False).to_frame().head(10)\n",
    "selected_cities"
   ]
  },
  {
   "cell_type": "code",
   "execution_count": null,
   "metadata": {},
   "outputs": [],
   "source": [
    "selected_cities = selected_cities.index"
   ]
  },
  {
   "cell_type": "code",
   "execution_count": null,
   "metadata": {},
   "outputs": [],
   "source": [
    "config = dict(\n",
    "    df = df[df.locality_name.isin(selected_cities)]\n",
    "    , x = 'locality_name'\n",
    "    , x_axis_label = 'Название населённого пункта'\n",
    "    , y = 'price_per_sqm'\n",
    "    , y_axis_label = 'Цена квадратного метра'\n",
    "    , title = 'Цена кв метра в зависимости от населенного пункта'\n",
    "    , func = 'mean'\n",
    "    , width = None\n",
    "    , height = None\n",
    "    , orientation = 'v'\n",
    ")\n",
    "pagri_data_tools.bar(config)"
   ]
  },
  {
   "cell_type": "markdown",
   "metadata": {},
   "source": [
    "### Когортный анализ\n"
   ]
  },
  {
   "cell_type": "markdown",
   "metadata": {},
   "source": [
    "Изучим данные по когортам."
   ]
  },
  {
   "cell_type": "markdown",
   "metadata": {},
   "source": [
    "ВАЖНО  \n",
    "при когортном анализе мы строим матрицу, но обязательно посчитать среднее по когортам.  \n",
    "То есть берем например 6 месяцев (или другое количество lt, чтобы было достаточно когорт проживших такое время)   \n",
    "И усредняем по когортам. В итоге мы получим динамику метрики по времени жизни средней когорты.  \n",
    "И также нужно посчитать просто среднее значение. И можно делать выводы, используя все эти значения."
   ]
  },
  {
   "cell_type": "markdown",
   "metadata": {},
   "source": [
    "> Не забывать про когортный анализ. Если у нас есть параметр, по которому мы можем наши данные разбить на когорты, то  \n",
    "> нужно разложить на когорты и посмотреть динамику по когортам.  \n",
    "> Когорты это например, пользователи пришедшие в одни день или месяц.  \n",
    "> Если мы объеденим пользователей в когорты и посмотрим динамику какого-то параметра по месяцам например, то увидим как изменяется.  \n",
    "> Тут также нужно помнить, что если значение например за 3 месяц больше значения за 4 месяц, то это ничего не значит само по себе.  \n",
    "> Так как мы имеем дело с выборкой, то нам нужно проверить статистически значимая это разница.  \n",
    "> Тут нам понядобятся стат тесты.\n"
   ]
  },
  {
   "cell_type": "markdown",
   "metadata": {},
   "source": [
    "Для когортного анализа нам нужно \n",
    "- сгруппировать по временному периоду\n",
    "- выбрать нужные метрики (одна или несколько), которые мы хотим расчитать для каждой когорты\n",
    "- аггрегировать данные по когортам и рассчитать аггрегированные метрики\n",
    "- если хотим посмотреть в разрезе каких-то категорий, то к аггрегации по когортам добавляем аггрегацию по этим категориям  \n",
    "При чем этими каетегориями могут быть не только время прощедшее с регистрации.\n"
   ]
  },
  {
   "cell_type": "markdown",
   "metadata": {},
   "source": [
    "Для каких метрик можно строить когортный анализ\n",
    "- выручка, количество заказов, количество клиентов, количество транзакций, средний чек, arpu, arppu и другие метрики\n",
    "- mau, dau, wau, retention rate, churn rate и другие метрики"
   ]
  },
  {
   "cell_type": "markdown",
   "metadata": {},
   "source": [
    "Если мы группируем по времени прощелшем с регистрации (или другой даты, по которой создана когорта), то периоды будут lifetime.  \n",
    "И можно сказать так - Retention Rate на нулевой месяц lifetime составит 100%  \n",
    "ВАЖНО   \n",
    "перед словом lifetime должна идти еденица измерения (день, месяц, год)"
   ]
  },
  {
   "cell_type": "markdown",
   "metadata": {},
   "source": [
    "Retantion rate и Churn rate можно считать относительно стартовой даты  \n",
    "churn rate = (активные в текущем месяце / активные в начальный месяц - 1) * 100  \n",
    "А можно считать относительно предыдущего месяца  \n",
    "churn rate = (активные в текущем месяце / активные в предыдущий месяц - 1) * 100"
   ]
  },
  {
   "cell_type": "code",
   "execution_count": null,
   "metadata": {},
   "outputs": [],
   "source": [
    "first_activity_date = user_activity.groupby(['user_id'])['activity_date'].min()\n",
    "first_activity_date.name = 'first_activity_date'\n",
    "user_activity = user_activity.join(first_activity_date,on='user_id') \n"
   ]
  },
  {
   "cell_type": "markdown",
   "metadata": {},
   "source": [
    "Чтобы группировать когорты по неделям, лучше всего использовать день начала недели, его можно рассчитать так"
   ]
  },
  {
   "cell_type": "markdown",
   "metadata": {},
   "source": [
    "Получим день начала недели, за которую произошло событие. Он станет идентификатором недели. "
   ]
  },
  {
   "cell_type": "code",
   "execution_count": null,
   "metadata": {},
   "outputs": [],
   "source": [
    "# unit использоуется для подстраховки\n",
    "user_activity['activity_week'] = pd.to_datetime(\n",
    "    user_activity['activity_date'], unit='d'\n",
    ") - pd.to_timedelta(user_activity['activity_date'].dt.dayofweek, unit='d')\n",
    "user_activity['first_activity_week'] = pd.to_datetime(\n",
    "    user_activity['first_activity_date'], unit='d'\n",
    ") - pd.to_timedelta(\n",
    "    user_activity['first_activity_date'].dt.dayofweek, unit='d'\n",
    ") "
   ]
  },
  {
   "cell_type": "markdown",
   "metadata": {},
   "source": [
    "Теперь для каждой строки датафрейма посчитаем lifetime"
   ]
  },
  {
   "cell_type": "code",
   "execution_count": null,
   "metadata": {},
   "outputs": [],
   "source": [
    "user_activity['cohort_lifetime'] = (\n",
    "    user_activity['activity_week'] - user_activity['first_activity_week']\n",
    ")\n",
    "user_activity['cohort_lifetime'] = user_activity[\n",
    "    'cohort_lifetime'\n",
    "] / np.timedelta64(1, 'W')\n",
    "user_activity['cohort_lifetime'] = user_activity['cohort_lifetime'].astype(\n",
    "    'int'\n",
    ") "
   ]
  },
  {
   "cell_type": "markdown",
   "metadata": {},
   "source": [
    "Сгруппируем данные по когорте и lifetime. Посчитаем для каждой когорты количество активных пользователей на определённую «неделю жизни»:"
   ]
  },
  {
   "cell_type": "code",
   "execution_count": null,
   "metadata": {},
   "outputs": [],
   "source": [
    "cohorts = user_activity.groupby(['first_activity_week','cohort_lifetime']).agg({'user_id':'nunique'}).reset_index() "
   ]
  },
  {
   "cell_type": "markdown",
   "metadata": {},
   "source": [
    "Найдём исходное количество пользователей в когорте. Возьмём их число на нулевую неделю:"
   ]
  },
  {
   "cell_type": "code",
   "execution_count": null,
   "metadata": {},
   "outputs": [],
   "source": [
    "\n",
    "initial_users_count = cohorts[cohorts['cohort_lifetime'] == 0][\n",
    "    ['first_activity_week', 'user_id']\n",
    "]\n",
    "initial_users_count = initial_users_count.rename(columns={'user_id':'cohort_users'}) \n",
    "cohorts = cohorts.merge(initial_users_count,on='first_activity_week') "
   ]
  },
  {
   "cell_type": "markdown",
   "metadata": {},
   "source": [
    "рассчитаем Retention Rate"
   ]
  },
  {
   "cell_type": "code",
   "execution_count": null,
   "metadata": {},
   "outputs": [],
   "source": [
    "cohorts['retention'] = cohorts['user_id']/cohorts['cohort_users'] "
   ]
  },
  {
   "cell_type": "markdown",
   "metadata": {},
   "source": [
    "Найти Churn Rate просто — достаточно определить, на сколько пользователей в когорте становится меньше в сравнении с предыдущим периодом. Чтобы рассчитать этот показатель, вызовем метод pct_change() (от англ. percentage change, «процентное изменение»). Он позволяет вычислить процентное изменение значения в столбце относительно предыдущей строки датафрейма. Если применить его с группировкой, метод сработает внутри группы."
   ]
  },
  {
   "cell_type": "markdown",
   "metadata": {},
   "source": [
    "По умолчанию он сравнивает значения в строках, что полезно для анализа временных рядов. Вы можете указ ить ось для вычисления изменения по столбцам или задать период для расчета."
   ]
  },
  {
   "cell_type": "code",
   "execution_count": null,
   "metadata": {},
   "outputs": [],
   "source": [
    "pd.DataFrame().pct_change()"
   ]
  },
  {
   "cell_type": "code",
   "execution_count": null,
   "metadata": {},
   "outputs": [],
   "source": [
    "cohorts['churn_rate'] = cohorts.groupby(['first_activity_week'])['user_id'].pct_change() "
   ]
  },
  {
   "cell_type": "markdown",
   "metadata": {},
   "source": [
    "Также нужно построить churn rate относителльно стартового периода.  \n",
    "(текущее / стартовое - 1) * 100"
   ]
  },
  {
   "cell_type": "markdown",
   "metadata": {},
   "source": [
    "Поведенческие когорты  \n"
   ]
  },
  {
   "cell_type": "markdown",
   "metadata": {},
   "source": [
    "Это когортный анализ в разрезе каких-то категорий."
   ]
  },
  {
   "cell_type": "markdown",
   "metadata": {},
   "source": [
    "Суть в том, что нам нужно разбить пользователей на когорты (по сути тут просто категории) и для каждой из них сделать когортный анализ,  \n",
    "то есть создать когорты уже по времени действия для каждой категории и потом сравнить результаты"
   ]
  },
  {
   "cell_type": "markdown",
   "metadata": {},
   "source": [
    "Чтобы провести поведенческий анализ, необходимо разделить пользователй по какому-то признаку и для каждой группы построить когортную матрицу,   \n",
    "или просто столбец (если мы просто хотим для каждой когорты получить аггрегированную метрики без разбивки по какой-то категории)   \n",
    "и далее визуализировать. Если матрица, то используем heatmap, если столбец, то используем barplot."
   ]
  },
  {
   "cell_type": "markdown",
   "metadata": {},
   "source": [
    "Например, у нас есть логи пользователей и категориальная переменная их действий (то есть где была активность)"
   ]
  },
  {
   "cell_type": "markdown",
   "metadata": {},
   "source": [
    "Сформируем поведенческую когорту по типу события help."
   ]
  },
  {
   "cell_type": "markdown",
   "metadata": {},
   "source": [
    "По каждому пользователю выделим дату совершения первого события и добавим её к датафрейму events:"
   ]
  },
  {
   "cell_type": "code",
   "execution_count": null,
   "metadata": {},
   "outputs": [],
   "source": [
    "min_event_datetime = events.groupby(['user_id'])['event_datetime'].min()\n",
    "min_event_datetime.name = 'min_event_datetime'\n",
    "events = events.join(min_event_datetime,on='user_id') "
   ]
  },
  {
   "cell_type": "markdown",
   "metadata": {},
   "source": [
    "Сформируем пользовательскую когорту на основе события, совершаемого в первую неделю жизни пользователя в сервисе. Нужно рассчитать параметр, который позволит для каждого события определить, через какое время после первого события оно произошло.\n",
    "Создадим новый столбец time_to_event, содержащий время между событием и первым событием пользователя:"
   ]
  },
  {
   "cell_type": "code",
   "execution_count": null,
   "metadata": {},
   "outputs": [],
   "source": [
    "events['time_to_event'] = events['event_datetime'] - events['min_event_datetime'] "
   ]
  },
  {
   "cell_type": "markdown",
   "metadata": {},
   "source": [
    "Нужны лишь события типа help и только те, у которых после первого события прошло меньше 7 дней. Обратите внимание на применение среза по timedelta: можно просто указать количество дней. Это работает и с другими единицами измерения времени. Например, с минутами."
   ]
  },
  {
   "cell_type": "code",
   "execution_count": null,
   "metadata": {},
   "outputs": [],
   "source": [
    "filtered_events = events[(events['event_type'] == 'help') & (events['time_to_event'] < '7 days')]"
   ]
  },
  {
   "cell_type": "markdown",
   "metadata": {},
   "source": [
    "Сгруппируем датафрейм по пользователям и подсчитаем количество совершённых действий:"
   ]
  },
  {
   "cell_type": "code",
   "execution_count": null,
   "metadata": {},
   "outputs": [],
   "source": [
    "count_events_by_users = filtered_events.groupby(['user_id']).agg({'event_datetime':'count'}).reset_index() "
   ]
  },
  {
   "cell_type": "markdown",
   "metadata": {},
   "source": [
    "Найдём медианное количество переходов в «Помощь» за первую неделю:"
   ]
  },
  {
   "cell_type": "code",
   "execution_count": null,
   "metadata": {},
   "outputs": [],
   "source": [
    "print(count_events_by_users['event_datetime'].median()) "
   ]
  },
  {
   "cell_type": "markdown",
   "metadata": {},
   "source": [
    "Разделим пользователей по целевому поведению, установив 5 обращений как рубеж:"
   ]
  },
  {
   "cell_type": "code",
   "execution_count": null,
   "metadata": {},
   "outputs": [],
   "source": [
    "count_events_by_users['is_target_behavior'] = (\n",
    "    count_events_by_users['event_datetime'] > 5\n",
    ")\n",
    "\n",
    "user_ids_with_target_behavior = count_events_by_users[\n",
    "    count_events_by_users['is_target_behavior']\n",
    "]['user_id'].unique()\n",
    "user_ids_without_target_behavior = count_events_by_users[\n",
    "    ~count_events_by_users['is_target_behavior']\n",
    "]['user_id'].unique() "
   ]
  },
  {
   "cell_type": "code",
   "execution_count": null,
   "metadata": {},
   "outputs": [],
   "source": [
    "events.loc[\n",
    "    events['user_id'].isin(user_ids_with_target_behavior),\n",
    "    'is_in_behavioral_cohort',\n",
    "] = 'yes'\n",
    "events.loc[\n",
    "    events['user_id'].isin(user_ids_without_target_behavior),\n",
    "    'is_in_behavioral_cohort',\n",
    "] = 'no'\n",
    "events['is_in_behavioral_cohort'] = events['is_in_behavioral_cohort'].fillna(\n",
    "    'no_behavior'\n",
    ") "
   ]
  },
  {
   "cell_type": "markdown",
   "metadata": {},
   "source": [
    "Посмотрим, как разделилось число пользователей между группами:"
   ]
  },
  {
   "cell_type": "code",
   "execution_count": null,
   "metadata": {},
   "outputs": [],
   "source": [
    "print(events.groupby('is_in_behavioral_cohort')['user_id'].nunique()) "
   ]
  },
  {
   "cell_type": "markdown",
   "metadata": {},
   "source": [
    "Проанализируем, как для каждой поведенческой когорты изменяется Retention Rate с течением времени. Выделим недельные когорты и подсчитаем относительную неделю lifetime пользователя в мобильном приложении:"
   ]
  },
  {
   "cell_type": "code",
   "execution_count": null,
   "metadata": {},
   "outputs": [],
   "source": [
    "events['event_week'] = pd.to_datetime(\n",
    "    events['event_datetime'].dt.date\n",
    ") - pd.to_timedelta(events['event_datetime'].dt.dayofweek, unit='d')\n",
    "events['min_event_week'] = pd.to_datetime(\n",
    "    events['min_event_datetime'].dt.date\n",
    ") - pd.to_timedelta(events['min_event_datetime'].dt.dayofweek, unit='d')\n",
    "\n",
    "events['cohort_lifetime'] = events['event_week'] - events['min_event_week']\n",
    "events['cohort_lifetime'] = events['cohort_lifetime'] / np.timedelta64(1, 'W')\n",
    "events['cohort_lifetime'] = events['cohort_lifetime'].astype(int) "
   ]
  },
  {
   "cell_type": "markdown",
   "metadata": {},
   "source": [
    "Создадим функцию расчёта и вывода Retention Rate в зависимости от lifetime:"
   ]
  },
  {
   "cell_type": "code",
   "execution_count": null,
   "metadata": {},
   "outputs": [],
   "source": [
    "def printRetentionRate(df):\n",
    "cohorts = df.groupby(['min_event_week','cohort_lifetime'],as_index=False).agg({'user_id':'nunique'}).sort_values(['min_event_week','cohort_lifetime'])\n",
    "\n",
    "inital_users_count = cohorts[cohorts['cohort_lifetime'] == 0][['min_event_week','user_id']]\n",
    "inital_users_count = inital_users_count.rename(columns={'user_id':'cohort_users'})\n",
    "\n",
    "cohorts = cohorts.merge(inital_users_count,on='min_event_week')\n",
    "\n",
    "cohorts['retention'] = cohorts['user_id']/cohorts['cohort_users']\n",
    "\n",
    "\n",
    "print (cohorts.groupby(['cohort_lifetime'])['retention'].mean())\n",
    "cohorts.groupby(['cohort_lifetime'])['retention'].mean().plot.bar() "
   ]
  },
  {
   "cell_type": "markdown",
   "metadata": {},
   "source": [
    "И теперь для каждой категории проведем когортный анализ и сравним категории между собой."
   ]
  },
  {
   "cell_type": "code",
   "execution_count": null,
   "metadata": {},
   "outputs": [],
   "source": [
    "printRetentionRate(events[events['is_in_behavioral_cohort'] == 'no_behavior']) \n",
    "printRetentionRate(events[events['is_in_behavioral_cohort'] == 'yes']) \n",
    "printRetentionRate(events[events['is_in_behavioral_cohort'] == 'no']) "
   ]
  },
  {
   "cell_type": "markdown",
   "metadata": {},
   "source": [
    "Примеры вывыодов для когортного анализа когортной матрицы   \n",
    "После первого месяца количество покупателей в когорте снижается.  \n",
    "В некоторых когортах число покупателей периодически начинает расти. Например, в когорте 2010-12-01.  \n",
    "Количество покупателей уменьшается во всех когортах в декабре 2011. Возможно, это связано с сезонностью.  \n",
    "Пользователи когорты декабря 2010 года продолжают составлять большую долю покупателей даже спустя год. В ноябре 2011 года их 445.  "
   ]
  },
  {
   "cell_type": "markdown",
   "metadata": {},
   "source": [
    "Отслеживание абсолютных показателей по месяцам позволяет исследовать изменения с течением времени. А также заметить общие черты в поведении всех когорт — например, обнаружить сезонное снижение числа пользователей. Можно сделать и вывод о доле каждой когорты в общем количестве покупателей месяца.\n"
   ]
  },
  {
   "cell_type": "markdown",
   "metadata": {},
   "source": [
    "Если мы строим когорты по месяцам, то количество дней в месяцах разное и при делениии на np.timedelta64(1, 'M') могут быть дробные числа, поэтому округляем до целого числа."
   ]
  },
  {
   "cell_type": "code",
   "execution_count": null,
   "metadata": {},
   "outputs": [],
   "source": [
    "orders_grouped_by_cohorts['cohort_lifetime'] = orders_grouped_by_cohorts[\n",
    "    'cohort_lifetime'\n",
    "] / np.timedelta64(1, 'M')\n",
    "orders_grouped_by_cohorts['cohort_lifetime'] = (\n",
    "    orders_grouped_by_cohorts['cohort_lifetime'].round().astype('int')\n",
    ")"
   ]
  },
  {
   "cell_type": "markdown",
   "metadata": {},
   "source": [
    "Оставим в данных о месяце первого заказа только год и месяц:"
   ]
  },
  {
   "cell_type": "code",
   "execution_count": null,
   "metadata": {},
   "outputs": [],
   "source": [
    "orders_grouped_by_cohorts['first_order_month'] = orders_grouped_by_cohorts[\n",
    "    'first_order_month'\n",
    "].dt.strftime('%Y-%m') "
   ]
  },
  {
   "cell_type": "markdown",
   "metadata": {},
   "source": [
    "ВАЖНО  \n",
    "когортную матирцу изучаем целиком, делаем выводы, а потом находим значение метрик средней когорты,  \n",
    "для этого просто береме среднее занчение для каждого периода жизни когорты, то есть у нас есть певый месяц жизни для всех когорт,  \n",
    "это столбик в матрице чаще всего, вот мы его успредняем и в итоге у нас будет значение lifetime и значение метрики."
   ]
  },
  {
   "cell_type": "code",
   "execution_count": null,
   "metadata": {},
   "outputs": [],
   "source": []
  },
  {
   "cell_type": "markdown",
   "metadata": {},
   "source": [
    "### RFM анализ"
   ]
  },
  {
   "cell_type": "code",
   "execution_count": null,
   "metadata": {},
   "outputs": [],
   "source": [
    "rfm_analysis = pd.DataFrame()\n",
    "# Recency (from calls)\n",
    "recency = calls.groupby('user_id')['call_date'].max()\n",
    "# Frequency\n",
    "frequency = calls.groupby('user_id')['id'].count()\n",
    "# Monetary (можно использовать duration или mb_used как прокси)\n",
    "monetary = calls.groupby('user_id')['duration'].sum()"
   ]
  },
  {
   "cell_type": "markdown",
   "metadata": {},
   "source": [
    "### Промежуточный вывод\n"
   ]
  },
  {
   "cell_type": "markdown",
   "metadata": {},
   "source": [
    "Чтобы собрать все наблюдения используем это  \n",
    "нужно поставить `_pagristart_` где начало и `_pagriend_` где конец"
   ]
  },
  {
   "cell_type": "markdown",
   "metadata": {},
   "source": [
    "Не забываем удалить метки `_pagristart_` и `_pagriend_` "
   ]
  },
  {
   "cell_type": "code",
   "execution_count": null,
   "metadata": {},
   "outputs": [],
   "source": [
    "import IPython\n",
    "notebook_path = \"/\".join(\n",
    "        IPython.extract_module_locals()[1][\"__vsc_ipynb_file__\"].split(\"/\"))\n",
    "pagri_data_tools.collect_observations(notebook_path, '/home/pagri/git_repos/pagri-projects/quarto/projects/prospective_tariff_for_telecom/temp_for_report.ipynb')"
   ]
  },
  {
   "cell_type": "markdown",
   "metadata": {},
   "source": [
    "ВАЖНО   \n",
    "пройти и отсортировать графики с одинаковыми числовыми переменными  \n",
    "То есть, чтобы 1 числовая переменная в разрезе разных категорий шли подряд.  \n",
    "То есть чтобы все графики с выручкой шли подряд, чтобы все графики по количеству звонков в разрезе разных категорий шли подряд.  "
   ]
  },
  {
   "cell_type": "markdown",
   "metadata": {},
   "source": [
    "ВАЖНО  \n",
    "подумать для каждого раздела в визуализации (временные, числовые, категориальные и числовые с категориальными)  \n",
    "какие закономерности не проверил.  \n",
    "убедиться, что все зависимости, которые были в задании изучили.  \n",
    "Это самый важный моменты, тут лучше остановится и тщательно подумать,  \n",
    "так как могут быть изучены не все зависимости."
   ]
  },
  {
   "cell_type": "markdown",
   "metadata": {},
   "source": [
    "ВАЖНО   \n",
    "Убедиться, что сетки по осям стоят где нужно, часто для вертикальных или горизонатльных графиков лишняя сетка вдоль баров"
   ]
  },
  {
   "cell_type": "markdown",
   "metadata": {},
   "source": [
    "ОЧЕНЬ ВАЖНО  \n",
    "Когда построили все графики и собрали все выводы, то проходим снова и смотрим все графика, зная все выводы, и думаем какие выводы ещё можно сделать.  \n",
    "Так как в этом случае можно сделать выводы, на основе уже имеющихся, их объединяя или даже заметить что-то новое.  "
   ]
  },
  {
   "cell_type": "markdown",
   "metadata": {},
   "source": [
    "## Формулирование и провера гипотез\n"
   ]
  },
  {
   "cell_type": "markdown",
   "metadata": {},
   "source": [
    "### Формулирование гипотез\n"
   ]
  },
  {
   "cell_type": "markdown",
   "metadata": {},
   "source": [
    "ВАЖНО  \n",
    "Когда смотрим графики и не видим явных различий, то нельзя сразу пропускать график, нужно подумать важная ли это зависимость для нас.  \n",
    "Если нам это важно и значения не прям идеально ровно расположены, то сохраняем график и сразу пишем в temp.ipynb для гипотезы вывод.\n",
    "Гипотезы формулируем для случаев, когда на графике нет явных различие числовой переменной по категории.  \n",
    "Если различия явные, то нет смысла  проводить тест."
   ]
  },
  {
   "cell_type": "markdown",
   "metadata": {},
   "source": [
    "ВАЖНО  \n",
    "Если у нас числовая перменная разбита на 2 столбца, то также нужно проверить гипотезы."
   ]
  },
  {
   "cell_type": "markdown",
   "metadata": {},
   "source": [
    "ВАЖНО  \n",
    "это редко бывает, но нужно об этом помнить  \n",
    "Когда мы хотим проверить какую-то гипотезу на основе среднего или другой статистики, то нужно подумать нет ли сильного разделения на группы  \n",
    "по какой-нибудь категориальной переменной.  \n",
    "Если у нас есть такое разделение, то нужно использовать стратифицированную выборку.  \n",
    "То есть мы должны взять выборку из каждой группы пропорционально её размеру.  \n",
    "Считаем коэффициенты каждой группы (ее размер делим на количество всей выборки) и умнажаем их на количество нужных элементов.  \n",
    "То есть мы из каждой страты возьмем прпорциональное количество элементов.  \n",
    "Нарпимер, мы хотим сравнить средние значения дохода в двух компаниях.  \n",
    "И берем по 100 сотрудников из каждой. Без стратификации у нас редкие сотрудники могут не попасть.  \n",
    "Поэтому мы берем категориальную переменную (например должность) и делим выборку на группы. И из каждой берем пропорциональное количество элементов."
   ]
  },
  {
   "cell_type": "markdown",
   "metadata": {},
   "source": [
    "Смотрим выводы раздела визуализации взаимосвязей и из них формулируем гипотезы.  "
   ]
  },
  {
   "cell_type": "markdown",
   "metadata": {},
   "source": [
    "И далее думаем какие гипотезы можно ещё проверить, которых у нас нет в выводах.  "
   ]
  },
  {
   "cell_type": "markdown",
   "metadata": {},
   "source": [
    "На основе проведенного анализа данных сформулирем следующие гипотезы:\n"
   ]
  },
  {
   "cell_type": "markdown",
   "metadata": {},
   "source": [
    "- Гипотеза 1: Нет зависимость между наличием детей и возвратом кредита в срок.  \n",
    "- Гипотеза 2: У мужчин средний доход выше  \n",
    "- Гипотеза 3: Цель получения кредита не зависит от среднего ежемесяченого доход  \n",
    "- Гипотеза 4: Средний доход по семейному статусу одинаковый, но у вдовцов отличается  \n",
    "- Гипотеза 5: У должников в среднем больше детей  \n",
    "- Гипотеза 6: У должников средний возраст ниже  \n",
    "- Гипотеза 7: Медианный доход у должников и не должников не отличаетс"
   ]
  },
  {
   "cell_type": "markdown",
   "metadata": {},
   "source": [
    "> Не забываем что гипотезы можно проверять и между 2 категориальными переменными.  \n",
    "> Проверять есть ли между ними зависимости.  \n",
    "> Также если мы на графиках определили, что есть между 2 категориальными перменными связь, то тут можем это проверить\n"
   ]
  },
  {
   "cell_type": "markdown",
   "metadata": {},
   "source": [
    "### Проверка гипотез\n"
   ]
  },
  {
   "cell_type": "markdown",
   "metadata": {},
   "source": [
    "ВАЖНО  \n",
    "принято в выводе писать положительный результат  \n",
    "то есть пишем что гипотеза подтвердилась и указваем какая гипотеза.  \n",
    "То если мы опровергли нулевую гипотезу, то пишем альтернативную гипотезу и пишем что она подтвердилась.  \n",
    "Если у нас нет оснований отвергнуть нулевую гипотезу, то пишем нулевую гипотезу и пишем что нет оснований ее отвергнуть.  \n",
    "То есть если мы отвергаем, то формулируем вывод как положительный, чтобы не было путаницы, а если нет оснований, то так и пишем.  "
   ]
  },
  {
   "cell_type": "markdown",
   "metadata": {},
   "source": [
    "> Алгоритм проверки статистических гипотез\n",
    "\n",
    "- постановка задачи\n",
    "  > - Сформулировать, что мы хотим узнать о выборках с точки зрения бизнес задачи (равны ли средние доходы в группах)\n",
    "  > - перевод бизнес-вопроса на язык статистики: средний доход в группах - проверка равенства средних значений\n",
    "- формулировка гипотез\n",
    "  > - формулировка нулевой гипотезы - с т.зр. равенства стат прараметров оцениваемых выборок  \n",
    "  >   (Н0: Средние траты клиентов по группе А равны средним тратам клинентов по группе В)\n",
    "  > - формулировка альтернативной гипотезы - с точки зрения неравенства параметров  \n",
    "  >   (Н1: Средние траты клиентов по группе А не равны средним тратам клинентов по группе В)\n",
    "- выбор критерия alpha (почему 0.05 или 0.01)\n",
    "  > - цена ошибки первого рода (при большой цене ошибки - в мед исследованиях, потенциальном ущербе ) - значение может быть больше, например 0.1\n",
    "  > - в ежедневных бизнес задачах, обычно - 0.05\n",
    "- анализ распределения\n",
    "  > - визуальная оценка\n",
    "  > - следим за выбросами\n",
    "  > - проверка гипотез о типе распредеделения (например критерий Шапиро-Уилка)\n",
    "  > - если распределение не нормальное и размер выборки достаточный (больше 30-50 элементов)  \n",
    "  >   может быть использован t-test именно для проверки гипотезы о равенстве средних.  \n",
    "  >   Согласно ЦПТ (центральная предельная теорема) средние этих выборок будут распределены нормально. См. статью Зотова\n",
    "- выбор критерия\n",
    "  > - при оценке равенства средних T-test или Welch T-test (если есть сомнения, то лучше Уэлча)\n",
    "  >   - при рвенстве дисперсий используем обычный т тест\n",
    "  >   - если дисперсии в выборках разные, то используем т теста Уэлча\n",
    "- получение результата\n",
    "  > - расчет p-value\n",
    "- интерпретация p-value\n",
    "  > - сравнение p-value и alpha\n",
    "  > - если альфа > p-value - отвергаем нулевую гипотезу\n",
    "  > - если альфа < p-value - не можем отвергнуть нулевую гипотезу\n"
   ]
  },
  {
   "cell_type": "markdown",
   "metadata": {},
   "source": [
    "> Какая у нас задача\n",
    "\n",
    "- Исследовать взаимосвязь между 2 переменными\n",
    "  > - обе переменные наминативные\n",
    "  >   - Хи-квадрат Пирсона (не чувствителен к гетероскедастичности) (нормальность не обязательна)\n",
    "  > - обе переменные количественные\n",
    "  >   - Коэффициент корреляции Пирсона (параметрика) (чувствителен к выбросам) (только непрерывные переменные)\n",
    "  >   - Коэффициент корреляции Спирмена (чувствителен к выбросам) / Кендалла (менее чувствителен к выбросам) (непараметрика) (непрерывные переменные и порядковые категориальные переменные)\n",
    "  > - одна переменная номинативная (принимает 2 занчения), вторая количественная\n",
    "  >   - значения\n",
    "  >     - Т-критерий Стьюдента (параметрика) (желательно нормальность) (чувствителен к выбросам) (чувствителен к гетероскедастичности)\n",
    "  >       - если дисперсии равны (тест левена, барлета) и количество в группах равно (тест на равенство пропорций), то используем обычный т тест (эта формула более точно даст результат для этого случая)\n",
    "  >       - если дисперсии не равны (тест левена, барлета) или количество в группах не равно (тест на равенство пропорций), то используем тест Уэлча (эта формула использует больше неопределенности и лучше подходит для этого случая)\n",
    "  >     - U-критерий Манна-Уитни (непараметрика) (нормальность не обязательна) (не чувствителен к гетероскедастичности)\n",
    "  >       Если тестируемая фича полностью сдвигает выборку на некий коэффициент theta или масштабирует выборку на некий параметр theta (theta > 0),  \n",
    "  >       то критерий Манна-Уитни применим\n",
    "  >   - доли\n",
    "  >     - Z тест для долей (параметрика) (желательно нормальность) (чувствителен к выбросам) (чувствителен к гетероскедастичности)\n",
    "  >     - Chi-square тест для долей (непараметрика) (нормальность не обязательна) (не чувствителен к гетероскедастичности)\n",
    "- Исследовать взаимосвязь между несколькими переменными\n",
    "  > - Дисперсионный анализ (параметрика) (дисперсии в группах должны быть примерно равны) (желательно нормальность) (чувствителен к выбросам) (чувствителен к гетероскедастичности)\n",
    "  > - Welch's ANOVA (устройчив к разной дисперсии в группах) (требует более больших размеров групп для точных результатов) (желательно нормальность) (чувствителен к выбросам) (не чувствителен к гетероскедастичности)\n",
    "  > - Критерий Краскела-Уоллиса (непараметрика) (нормальность не обязательна) (не чувствителен к гетероскедастичности)\n",
    "  > - Тест Тьюки (если anova или Краскела-Уоллиса нашил различия) (дисперсии в группах должны быть примерно равны) (параметрика) (желательно нормальность) (чувствителен к выбросам) (чувствителен к гетероскедастичности)\n",
    "- Проверить на равенство дисперсий в группах перед anova\n",
    "  > - Levene's test (не требует нормальность) (менее чувствительный)\n",
    "  > - Bartlett's test (требует нормальность) (более чувствительный)\n"
   ]
  },
  {
   "cell_type": "markdown",
   "metadata": {},
   "source": [
    "Сормируем словарь для подписей осей и названий гистограм.\n"
   ]
  },
  {
   "cell_type": "code",
   "execution_count": null,
   "metadata": {},
   "outputs": [],
   "source": [
    "titles_for_axis = dict(\n",
    "    # numeric column\n",
    "    children = ['Количество детей', 'количества детей']\n",
    "    , age = ['Возраст', 'возраста']\n",
    "    , total_income = ['Ежемесячный доход', 'ежемесячного дохода']    \n",
    ")"
   ]
  },
  {
   "cell_type": "markdown",
   "metadata": {},
   "source": [
    "Примеры для разных критериев"
   ]
  },
  {
   "cell_type": "markdown",
   "metadata": {},
   "source": [
    "#### 2 категориальные переменные и мы хотим сравнить количество в каждой группе."
   ]
  },
  {
   "cell_type": "markdown",
   "metadata": {},
   "source": [
    "**Гипотеза 1: Нет зависимость между наличием детей и возвратом кредита в срок**\n"
   ]
  },
  {
   "cell_type": "markdown",
   "metadata": {},
   "source": [
    "> H0: Наличие детей не влияет на возврат кредита в срок.  \n",
    "> H1: Наличие детей влияет на возврат кредита в срок.\n"
   ]
  },
  {
   "cell_type": "markdown",
   "metadata": {},
   "source": [
    "Так как у нас обе переменных категориальные, то воспользуемся критерием хи-квадрат Пирсона.  \n",
    "Уровень значимости alpha выберем 0.05\n"
   ]
  },
  {
   "cell_type": "markdown",
   "metadata": {},
   "source": [
    "Убедимся, что у нас достаточно значнеий в каждой группе"
   ]
  },
  {
   "cell_type": "markdown",
   "metadata": {},
   "source": [
    "Для параметрических тестов в каждой группе должно быть больше 30 элементов, а для не параметрических тестов больше 10 значений."
   ]
  },
  {
   "cell_type": "code",
   "execution_count": null,
   "metadata": {},
   "outputs": [
    {
     "data": {
      "text/plain": [
       "age_cat\n",
       "старше 60    855\n",
       "до 30        751\n",
       "40-50        587\n",
       "50-60        532\n",
       "30-40        489\n",
       "Name: count, dtype: int64"
      ]
     },
     "metadata": {},
     "output_type": "display_data"
    }
   ],
   "source": [
    "df_by_userid_month['age_cat'].value_counts()"
   ]
  },
  {
   "cell_type": "code",
   "execution_count": null,
   "metadata": {},
   "outputs": [
    {
     "name": "stdout",
     "output_type": "stream",
     "text": [
      "Хи-квадрат Пирсона\n",
      "alpha =  0.05\n",
      "p-value =  1.724356890544321e-05\n",
      "Отклоняем нулевую гипотезу, поскольку p-value меньше уровня значимости\n"
     ]
    }
   ],
   "source": [
    "pagri_data_tools.chi2_pearson(df.has_child, df.debt)"
   ]
  },
  {
   "cell_type": "markdown",
   "metadata": {},
   "source": [
    "**Результат:**  \n",
    "\n",
    "На уровне значимости 0.05 нулевая гипотеза о том, что наличие детей не влияет на возврат кредита в срок, была отклонена. Это свидетельствует о том, что существует статистически значимое влияние наличия детей на возврат кредита в срок.\n"
   ]
  },
  {
   "cell_type": "markdown",
   "metadata": {},
   "source": [
    "#### Одна категориальная переменная и мы хотим проверить отличается ли количество в одной категориальной переменной, то используем chisquare"
   ]
  },
  {
   "cell_type": "markdown",
   "metadata": {},
   "source": [
    "Он проверяет, насколько наблюдаемое распределение категориальной переменной отличается от ожидаемого равномерного распределения.  "
   ]
  },
  {
   "cell_type": "markdown",
   "metadata": {},
   "source": [
    "**Гипотеза 1: Нет зависимости между количеством публикаций и днем недели.**  "
   ]
  },
  {
   "cell_type": "markdown",
   "metadata": {},
   "source": [
    "H0: День недели не влияет на количество объявлений  \n",
    "H1: День недели влияет на количество объявлений"
   ]
  },
  {
   "cell_type": "code",
   "execution_count": null,
   "metadata": {},
   "outputs": [
    {
     "data": {
      "text/plain": [
       "publication_weekday\n",
       "Понедельник    3591\n",
       "Вторник        4157\n",
       "Среда          3940\n",
       "Четверг        4270\n",
       "Пятница        3970\n",
       "Суббота        1918\n",
       "Воскресенье    1681\n",
       "Name: count, dtype: int64"
      ]
     },
     "metadata": {},
     "output_type": "display_data"
    }
   ],
   "source": [
    "daily_counts = df['publication_weekday'].value_counts().sort_index()\n",
    "daily_counts"
   ]
  },
  {
   "cell_type": "markdown",
   "metadata": {},
   "source": [
    "Убедимся, что у нас достаточно значнеий в каждой группе"
   ]
  },
  {
   "cell_type": "markdown",
   "metadata": {},
   "source": [
    "Для параметрических тестов в каждой группе должно быть больше 30 элементов, а для не параметрических тестов больше 10 значений."
   ]
  },
  {
   "cell_type": "code",
   "execution_count": null,
   "metadata": {},
   "outputs": [
    {
     "data": {
      "text/plain": [
       "age_cat\n",
       "старше 60    855\n",
       "до 30        751\n",
       "40-50        587\n",
       "50-60        532\n",
       "30-40        489\n",
       "Name: count, dtype: int64"
      ]
     },
     "metadata": {},
     "output_type": "display_data"
    }
   ],
   "source": [
    "df_by_userid_month['age_cat'].value_counts()"
   ]
  },
  {
   "cell_type": "code",
   "execution_count": null,
   "metadata": {},
   "outputs": [],
   "source": [
    "pagri_data_tools.chisquare(daily_counts)"
   ]
  },
  {
   "cell_type": "markdown",
   "metadata": {},
   "source": [
    "**Результат:**  \n",
    "\n",
    "- На уровне значимости 0.05 нулевая гипотеза о том, что день недели не влияет на количество объявлений, была отклонена. Это указывает на то, что существует статистически значимое влияние дня недели на количество объявлений."
   ]
  },
  {
   "cell_type": "code",
   "execution_count": null,
   "metadata": {},
   "outputs": [],
   "source": []
  },
  {
   "cell_type": "markdown",
   "metadata": {},
   "source": [
    "#### Категориальная с 2 значениями и числовая переменная  (тест манна уитни)"
   ]
  },
  {
   "cell_type": "markdown",
   "metadata": {},
   "source": [
    "**Гипотеза 2: У мужчин средний доход выше**  "
   ]
  },
  {
   "cell_type": "markdown",
   "metadata": {},
   "source": [
    "H0: У мужчин средний доход не выше, чем у женщин   \n",
    "H1: У мужчин средний доход выше, чем у женщин"
   ]
  },
  {
   "cell_type": "markdown",
   "metadata": {},
   "source": [
    "посмотрим на распределение"
   ]
  },
  {
   "cell_type": "code",
   "execution_count": null,
   "metadata": {},
   "outputs": [],
   "source": [
    "pagri_data_tools.histogram(df.total_income, titles_for_axis)"
   ]
  },
  {
   "cell_type": "markdown",
   "metadata": {},
   "source": [
    "Делаем вывод о распределении.  \n",
    "Выбираем критерий для проверки гипотезы.  \n",
    "Определяем уровнь значимости"
   ]
  },
  {
   "cell_type": "markdown",
   "metadata": {},
   "source": [
    "Если распределение не нормальное или много выбросов или просто нет уверености, что параметрика будет хрошо работать, то используем  \n",
    "тест манна уитни"
   ]
  },
  {
   "cell_type": "markdown",
   "metadata": {},
   "source": [
    "У нас значительные выбросы в доходе нужно использовать непараметрический тест"
   ]
  },
  {
   "cell_type": "markdown",
   "metadata": {},
   "source": [
    "Используем критерий Манна-Уитни  \n",
    "Альтернатива будет - больше  \n",
    "Уровень значимости alpha выберем 0.05"
   ]
  },
  {
   "cell_type": "markdown",
   "metadata": {},
   "source": [
    "Убедимся, что у нас достаточно значнеий в каждой группе"
   ]
  },
  {
   "cell_type": "markdown",
   "metadata": {},
   "source": [
    "Для параметрических тестов в каждой группе должно быть больше 30 элементов, а для не параметрических тестов больше 10 значений."
   ]
  },
  {
   "cell_type": "code",
   "execution_count": null,
   "metadata": {},
   "outputs": [
    {
     "data": {
      "text/plain": [
       "age_cat\n",
       "старше 60    855\n",
       "до 30        751\n",
       "40-50        587\n",
       "50-60        532\n",
       "30-40        489\n",
       "Name: count, dtype: int64"
      ]
     },
     "metadata": {},
     "output_type": "display_data"
    }
   ],
   "source": [
    "df_by_userid_month['age_cat'].value_counts()"
   ]
  },
  {
   "cell_type": "code",
   "execution_count": null,
   "metadata": {},
   "outputs": [],
   "source": [
    "male = df[df.gender=='M']['total_income']\n",
    "female = df[df.gender=='F']['total_income']"
   ]
  },
  {
   "cell_type": "markdown",
   "metadata": {},
   "source": [
    "Если используем альтернативу, то отсчет идет от первого аргумента функции.  \n",
    "То есть он должен быть больше или меньше, исходя из постановки гипотезы. И исходя из этого выбераем параметр alternative."
   ]
  },
  {
   "cell_type": "code",
   "execution_count": null,
   "metadata": {},
   "outputs": [],
   "source": [
    "pagri_data_tools.mannwhitneyu(male, female, alternative='l')"
   ]
  },
  {
   "cell_type": "markdown",
   "metadata": {},
   "source": [
    "**Результат:**  \n",
    "\n",
    "- На уровне значимости 0.05 нулевая гипотеза о том, что у мужчин средний доход не выше, чем у женщин, была отклонена. Это указывает на то, что доход мужчин статистически значимо выше, чем у женщин."
   ]
  },
  {
   "cell_type": "markdown",
   "metadata": {},
   "source": [
    "#### Категориальная с 2 значениями и числовая переменная  (т тест)"
   ]
  },
  {
   "cell_type": "markdown",
   "metadata": {},
   "source": [
    "Если используем ттест, то сначала проводим тест на проверку дисперсии\n"
   ]
  },
  {
   "cell_type": "markdown",
   "metadata": {},
   "source": [
    "Распределение близко к нормальному, поэтому будем использовать тест ANOVA"
   ]
  },
  {
   "cell_type": "markdown",
   "metadata": {},
   "source": [
    "Проверим гипотезу, что дисперсии в группах не отличаются"
   ]
  },
  {
   "cell_type": "markdown",
   "metadata": {},
   "source": [
    "H0: Дисперсия оценок критиков в разных категориях продаж не отличается.  \n",
    "H1: Дисперсия оценок критиков в разных категориях продаж отличается.  "
   ]
  },
  {
   "cell_type": "markdown",
   "metadata": {},
   "source": [
    "\n",
    "Используем тест Левена\n"
   ]
  },
  {
   "cell_type": "code",
   "execution_count": null,
   "metadata": {},
   "outputs": [],
   "source": [
    "yes = df[df.debt=='есть']['age']\n",
    "no = df[df.debt=='нет']['age']"
   ]
  },
  {
   "cell_type": "code",
   "execution_count": null,
   "metadata": {},
   "outputs": [],
   "source": [
    "pagri_data_tools.levene([yes, no])"
   ]
  },
  {
   "cell_type": "code",
   "execution_count": null,
   "metadata": {},
   "outputs": [],
   "source": [
    "pagri_data_tools.levene_df(df[['sales_cat', 'critic_score']])"
   ]
  },
  {
   "cell_type": "markdown",
   "metadata": {},
   "source": [
    "Так как дисперсия в группах разная, будем использовать тест Уэлча.  \n",
    "Уровень значимости alpha выберем 0.05"
   ]
  },
  {
   "cell_type": "markdown",
   "metadata": {},
   "source": [
    "Если используем альтернативу, то отсчет идет от первого аргумента функции.  \n",
    "То есть он должен быть больше или меньше, исходя из постановки гипотезы. И исходя из этого выбераем параметр alternative."
   ]
  },
  {
   "cell_type": "code",
   "execution_count": null,
   "metadata": {},
   "outputs": [],
   "source": [
    "pagri_data_tools.ttest_ind(yes, no, equal_var=False, alternative='s')"
   ]
  },
  {
   "cell_type": "markdown",
   "metadata": {},
   "source": [
    "Построим доверительный интервал"
   ]
  },
  {
   "cell_type": "code",
   "execution_count": null,
   "metadata": {},
   "outputs": [],
   "source": [
    "pagri_data_tools.confint_t_2samples(yes, no, equal_var=False, alternative='s')"
   ]
  },
  {
   "cell_type": "markdown",
   "metadata": {},
   "source": [
    "#### Категориальная переменная, у которой больше 2 значений и числовая (ANOVA)"
   ]
  },
  {
   "cell_type": "markdown",
   "metadata": {},
   "source": [
    "**Гипотеза 4: Средний доход по семейному статусу не отличается**  \n",
    "\n",
    "H0: Средний ежемесячный доход не различается между группами по семейному статусу  \n",
    "H1: Средний ежемесячный доход различается между группами по семейному статусу  \n"
   ]
  },
  {
   "cell_type": "markdown",
   "metadata": {},
   "source": [
    "посмотрим на распределение"
   ]
  },
  {
   "cell_type": "code",
   "execution_count": null,
   "metadata": {},
   "outputs": [],
   "source": [
    "pagri_data_tools.histogram(df.total_income, titles_for_axis)"
   ]
  },
  {
   "cell_type": "markdown",
   "metadata": {},
   "source": [
    "Делаем вывод о распределении.  \n",
    "Выбираем критерий для проверки гипотезы.  \n",
    "Определяем уровнь значимости"
   ]
  },
  {
   "cell_type": "markdown",
   "metadata": {},
   "source": [
    "Предположения ANOVA:\n",
    "- Данные должны быть нормально распределены.\n",
    "- Дисперсии в группах должны быть равны (гомоскедастичность).\n",
    "- Наблюдения должны быть независимыми."
   ]
  },
  {
   "cell_type": "markdown",
   "metadata": {},
   "source": [
    "Если хоть одно из этого не выполняется, то лучше использовать kruskal"
   ]
  },
  {
   "cell_type": "markdown",
   "metadata": {},
   "source": [
    "Если распределение не нормальное или много выбросов или просто нет уверености, что параметрика будет хрошо работать, то используем  \n",
    "тест манна уитни"
   ]
  },
  {
   "cell_type": "markdown",
   "metadata": {},
   "source": [
    "Если эти предположения выполняются, то используем тест ANOVA"
   ]
  },
  {
   "cell_type": "markdown",
   "metadata": {},
   "source": [
    "Если используем anova, то сначала проводим тест на проверку дисперсии\n"
   ]
  },
  {
   "cell_type": "markdown",
   "metadata": {},
   "source": [
    "ANOVA уже учитывает множественное тестирование в своей структуре.  \n",
    "Поэтому поправка Бонферрони не нужна.   \n",
    "Но если после anova мы хотим сравнить отдельные пары, то будет множественное сравнение, и поправка Бонферрони нужна."
   ]
  },
  {
   "cell_type": "markdown",
   "metadata": {},
   "source": [
    "Если используем anova, то сначала проводим тест на проверку дисперсии\n"
   ]
  },
  {
   "cell_type": "markdown",
   "metadata": {},
   "source": [
    "\n",
    "Проверим гипотезу, что дисперсии в группах не отличаются\n",
    "\n",
    "H0: У должников и не должников дисперсия не отличается  \n",
    "H1: У должников и не должников дисперсия отличается\n",
    "\n",
    "Используем тест Левена\n"
   ]
  },
  {
   "cell_type": "code",
   "execution_count": null,
   "metadata": {},
   "outputs": [],
   "source": [
    "gropu_a = df[df.debt=='a']['age']\n",
    "gropu_b = df[df.debt=='b']['age']\n",
    "gropu_c = df[df.debt=='c']['age']"
   ]
  },
  {
   "cell_type": "code",
   "execution_count": null,
   "metadata": {},
   "outputs": [],
   "source": [
    "pagri_data_tools.levene([gropu_a, gropu_b, gropu_c])"
   ]
  },
  {
   "cell_type": "code",
   "execution_count": null,
   "metadata": {},
   "outputs": [],
   "source": [
    "pagri_data_tools.levene_df(df[['sales_cat', 'critic_score']])"
   ]
  },
  {
   "cell_type": "markdown",
   "metadata": {},
   "source": [
    "Так как дисперсия в группах разная, будем использовать тест Уэлча.  \n",
    "Уровень значимости alpha выберем 0.05"
   ]
  },
  {
   "cell_type": "markdown",
   "metadata": {},
   "source": [
    "Убедимся, что у нас достаточно значнеий в каждой группе"
   ]
  },
  {
   "cell_type": "markdown",
   "metadata": {},
   "source": [
    "Для параметрических тестов в каждой группе должно быть больше 30 элементов, а для не параметрических тестов больше 10 значений."
   ]
  },
  {
   "cell_type": "code",
   "execution_count": null,
   "metadata": {},
   "outputs": [
    {
     "data": {
      "text/plain": [
       "age_cat\n",
       "старше 60    855\n",
       "до 30        751\n",
       "40-50        587\n",
       "50-60        532\n",
       "30-40        489\n",
       "Name: count, dtype: int64"
      ]
     },
     "metadata": {},
     "output_type": "display_data"
    }
   ],
   "source": [
    "df_by_userid_month['age_cat'].value_counts()"
   ]
  },
  {
   "cell_type": "markdown",
   "metadata": {},
   "source": [
    "Если дисперсии не отличаютс, то проводим обычный ANOVA"
   ]
  },
  {
   "cell_type": "code",
   "execution_count": null,
   "metadata": {},
   "outputs": [],
   "source": [
    "pagri_data_tools.anova_oneway_df(df[['family_status', 'total_income']])"
   ]
  },
  {
   "cell_type": "markdown",
   "metadata": {},
   "source": [
    "Если гипотеза о равенстве дисперсий была отклонена, то используем ANOVA Welch."
   ]
  },
  {
   "cell_type": "code",
   "execution_count": null,
   "metadata": {},
   "outputs": [],
   "source": [
    "pagri_data_tools.anova_oneway_welch_df(df[['family_status', 'total_income']])"
   ]
  },
  {
   "cell_type": "markdown",
   "metadata": {},
   "source": [
    "Если нулевая гипотеза отклонилась, то можно определить в каких парах есть различия.  \n",
    "Можно использовать множественное сравнение и т тест или мана уитни, но обязательно использовать поправку бонферони.  \n",
    "Или можно использовать тест Тьюки."
   ]
  },
  {
   "cell_type": "markdown",
   "metadata": {},
   "source": [
    "Используем тест Тьюки, чтобы определить различия между группами  \n",
    "Уровень значимости alpha выберем 0.05"
   ]
  },
  {
   "cell_type": "markdown",
   "metadata": {},
   "source": [
    "тест Тьюки уже учитывает множественное тестирование в своей структуре.  \n",
    "Поэтому поправка Бонферрони не нужна. "
   ]
  },
  {
   "cell_type": "code",
   "execution_count": null,
   "metadata": {},
   "outputs": [],
   "source": [
    "pagri_data_tools.tukey_hsd_df(df[['family_status', 'total_income']])"
   ]
  },
  {
   "cell_type": "markdown",
   "metadata": {},
   "source": [
    "Смотрим в каких парах гипотеза отвергается"
   ]
  },
  {
   "cell_type": "markdown",
   "metadata": {},
   "source": [
    "Видим, что гипотеза отвергается в парах где есть вдова / вдовец\n"
   ]
  },
  {
   "cell_type": "markdown",
   "metadata": {},
   "source": [
    "**Результат:**  \n",
    "\n",
    "- На уровне значимости 0.05 нулевая гипотеза о том, что средний ежемесячный доход не различается между группами по семейному статусу, была отклонена.  \n",
    "Это указывает на то, что семейный статус оказывает статистически значимое влияние на ежемесячный доход."
   ]
  },
  {
   "cell_type": "markdown",
   "metadata": {},
   "source": [
    "#### Категориальная переменная, у которой больше 2 значений и числовая (Kruskal-Wallis)"
   ]
  },
  {
   "cell_type": "markdown",
   "metadata": {},
   "source": [
    "Если распределение не нормальное или много выбросов или просто нет уверености, что параметрика будет хрошо работать, то используем  непараметрические методы."
   ]
  },
  {
   "cell_type": "markdown",
   "metadata": {},
   "source": [
    "Используем критерий Краскела-Уоллиса  \n",
    "Уровень значимости alpha выберем 0.05"
   ]
  },
  {
   "cell_type": "markdown",
   "metadata": {},
   "source": [
    "Убедимся, что у нас достаточно значнеий в каждой группе"
   ]
  },
  {
   "cell_type": "markdown",
   "metadata": {},
   "source": [
    "Для параметрических тестов в каждой группе должно быть больше 30 элементов, а для не параметрических тестов больше 10 значений."
   ]
  },
  {
   "cell_type": "code",
   "execution_count": null,
   "metadata": {},
   "outputs": [
    {
     "data": {
      "text/plain": [
       "age_cat\n",
       "старше 60    855\n",
       "до 30        751\n",
       "40-50        587\n",
       "50-60        532\n",
       "30-40        489\n",
       "Name: count, dtype: int64"
      ]
     },
     "metadata": {},
     "output_type": "display_data"
    }
   ],
   "source": [
    "df_by_userid_month['age_cat'].value_counts()"
   ]
  },
  {
   "cell_type": "markdown",
   "metadata": {},
   "source": [
    "критерий Краскела-Уоллиса уже учитывает множественное тестирование в своей структуре.  \n",
    "Поэтому поправка Бонферрони не нужна.   \n",
    "Но если после критерия Краскела-Уоллиса мы хотим сравнить отдельные пары, то будет множественное сравнение, и поправка Бонферрони нужна."
   ]
  },
  {
   "cell_type": "code",
   "execution_count": null,
   "metadata": {},
   "outputs": [],
   "source": [
    "pagri_data_tools.kruskal_df(df[['family_status', 'total_income']])"
   ]
  },
  {
   "cell_type": "markdown",
   "metadata": {},
   "source": [
    "Если нулевая гипотеза отклонилась, то можно определить в каких парах есть различия.  \n",
    "Можно использовать множественное сравнение и т тест или мана уитни, но обязательно использовать поправку бонферони.  \n",
    "Или можно использовать тест Тьюки."
   ]
  },
  {
   "cell_type": "markdown",
   "metadata": {},
   "source": [
    "Используем тест Тьюки, чтобы определить различия между группами  \n",
    "Уровень значимости alpha выберем 0.05"
   ]
  },
  {
   "cell_type": "markdown",
   "metadata": {},
   "source": [
    "тест Тьюки уже учитывает множественное тестирование в своей структуре.  \n",
    "Поэтому поправка Бонферрони не нужна. "
   ]
  },
  {
   "cell_type": "code",
   "execution_count": null,
   "metadata": {},
   "outputs": [],
   "source": [
    "pagri_data_tools.tukey_hsd_df(df[['family_status', 'total_income']])"
   ]
  },
  {
   "cell_type": "markdown",
   "metadata": {},
   "source": [
    "Смотрим в каких парах гипотеза отвергается"
   ]
  },
  {
   "cell_type": "markdown",
   "metadata": {},
   "source": [
    "Видим, что гипотеза отвергается в парах где есть вдова / вдовец\n"
   ]
  },
  {
   "cell_type": "markdown",
   "metadata": {},
   "source": [
    "**Результат:**  \n",
    "\n",
    "- На уровне значимости 0.05 нулевая гипотеза о том, что средний ежемесячный доход не различается между группами по семейному статусу, была отклонена.  \n",
    "Это указывает на то, что семейный статус оказывает статистически значимое влияние на ежемесячный доход."
   ]
  },
  {
   "cell_type": "markdown",
   "metadata": {},
   "source": [
    "#### Бутстреп (категориальная переменная имеет 2 значения)"
   ]
  },
  {
   "cell_type": "markdown",
   "metadata": {},
   "source": [
    "Если мы не хотим использовать параметрику или не параметрику или нам нужно проверить гипотезу не по среднему, например, медиана или какой-то перцинтиль,  \n",
    "то используем бутстреп"
   ]
  },
  {
   "cell_type": "markdown",
   "metadata": {},
   "source": [
    "**Если категориальная переменная имеет 2 занчения.**"
   ]
  },
  {
   "cell_type": "markdown",
   "metadata": {},
   "source": [
    "Вместо теста манна уитни, когда нет уверености в т тесте, можно использовать бутстреп"
   ]
  },
  {
   "cell_type": "markdown",
   "metadata": {},
   "source": [
    "**Гипотеза 7:  Медианный доход у должников и не должников не отличается**  \n",
    "\n",
    "H0: Медианный доход у должников и не должников не отличается  \n",
    "H1: Медианный доход у должников и не должников отличается\n"
   ]
  },
  {
   "cell_type": "markdown",
   "metadata": {},
   "source": [
    "Используем бутстреп для проверке гипотезы  \n",
    "Уровень значимости alpha выберем 0.05"
   ]
  },
  {
   "cell_type": "markdown",
   "metadata": {},
   "source": [
    "Когда мы сравниваем две группы в бутстрепе, мы можем просто посмотреть, находится ли 0 внутри доверительного интервала, чтобы определить, существует ли статистически значимое различие между группами.   \n",
    "Если 0 лежит вне доверительного интервала, то мы можем сказать, что существует статистически значимое различие между группами."
   ]
  },
  {
   "cell_type": "code",
   "execution_count": null,
   "metadata": {},
   "outputs": [],
   "source": [
    "yes = df[df.debt=='есть']['total_income']\n",
    "no = df[df.debt=='нет']['total_income']"
   ]
  },
  {
   "cell_type": "code",
   "execution_count": null,
   "metadata": {},
   "outputs": [],
   "source": [
    "fig = pagri_data_tools.bootstrap_diff_2sample(yes, no, stat_func=np.median)"
   ]
  },
  {
   "cell_type": "code",
   "execution_count": null,
   "metadata": {},
   "outputs": [],
   "source": [
    "fig.show()"
   ]
  },
  {
   "cell_type": "markdown",
   "metadata": {},
   "source": [
    "**Результат:**  \n",
    "\n",
    "- На уровне значимости 0.05 нулевая гипотеза о том, что медианный доход у должников и не должников не отличается, была отклонена.  \n",
    "Это указывает на то, что существует статистически значимая разница между медианным доходом должников и не должников.  \n",
    "95 % доверительный интервал разницы между медианным доходом должников и не должников равен (-2648.05, 179.34)\n"
   ]
  },
  {
   "cell_type": "markdown",
   "metadata": {},
   "source": [
    "#### Бутстреп (категориальная переменная больше 2 значений)"
   ]
  },
  {
   "cell_type": "markdown",
   "metadata": {},
   "source": [
    "Когда у нас больше двух групп, способ определения результата по позиции нуля от разности внутри или вне доверительного интервала не работает, поскольку мы имеем несколько доверительных интервалов для каждой пары сравнений."
   ]
  },
  {
   "cell_type": "markdown",
   "metadata": {},
   "source": [
    "Чтобы сравнить средние значения зарплаты между тремя и более группами, мы можем использовать бутстрэп. Алгоритм бутстрэпа будет следующим:\n",
    "\n",
    "- Создаем выборку с заменой из исходных данных.\n",
    "- Вычисляем средние значения зарплаты для каждой группы в выборке.\n",
    "- Вычисляем разности средних между группами (например, разность между Молодым и Взрослым, между Взрослым и Старым и т.д.).\n",
    "- Повторяем шаги 1-3 many times (например, 1000 раз).\n",
    "- Строим гистограмму распределения разностей средних, полученных на шаге 3.\n",
    "- Определяем p-value\n",
    "\n"
   ]
  },
  {
   "cell_type": "markdown",
   "metadata": {},
   "source": [
    "Поправка Бонферрони заключается в том, что для значимости результата необходимо, чтобы p-value для каждого сравнения было меньше уровня значимости, разделенного на количество сравнений. Например, если уровень значимости равен 0.05, а мы делаем три сравнения, то необходимо, чтобы p-value для каждого сравнения было меньше 0.05/3 = 0.0167.\n",
    "\n",
    "В случае использования бутстрэпа, мы можем применить поправку Бонферрони следующим образом:"
   ]
  },
  {
   "cell_type": "markdown",
   "metadata": {},
   "source": [
    "- Вычисляем разности средних для каждой пары сравнений.\n",
    "- Вычисляем p-value для каждой пары сравнений, используя гистограмму распределения разностей средних.\n",
    "- Применяем поправку Бонферрони, разделяя уровень значимости на количество сравнений.\n",
    "- Если p-value для какой-либо пары сравнений меньше поправленного уровня значимости, то считаем, что различие между группами статистически значимо."
   ]
  },
  {
   "cell_type": "markdown",
   "metadata": {},
   "source": [
    "В нашем примере, если мы применяем поправку Бонферрони, то необходимо, чтобы p-value для каждого сравнения было меньше 0.05/3 = 0.0167. Если мы получили следующие результаты:\n",
    "\n",
    "- Разность между Молодым и Взрослым: 8000 (p-value: 0.01)\n",
    "- Разность между Взрослым и Старым: 3000 (p-value: 0.04)\n",
    "- Разность между Молодым и Старым: 11000 (p-value: 0.001)\n",
    "- Тогда мы можем заключить, что средняя зарплата у Старых статистически значимо выше, чем у Молодых и Взрослых (поскольку p-value для этого сравнения меньше поправленного уровня значимости). Для остальных сравнений мы не можем сделать выводы о статистической значимости, поскольку p-value больше поправленного уровня значимости."
   ]
  },
  {
   "cell_type": "code",
   "execution_count": null,
   "metadata": {},
   "outputs": [],
   "source": []
  },
  {
   "cell_type": "markdown",
   "metadata": {},
   "source": [
    "> Для проверки дисперсии"
   ]
  },
  {
   "cell_type": "code",
   "execution_count": null,
   "metadata": {},
   "outputs": [],
   "source": [
    "pagri_data_tools.levene_df\n",
    "pagri_data_tools.levene\n",
    "pagri_data_tools.bartlett_df\n",
    "pagri_data_tools.bartlett"
   ]
  },
  {
   "cell_type": "markdown",
   "metadata": {},
   "source": [
    "> Выбираем критерий\n"
   ]
  },
  {
   "cell_type": "code",
   "execution_count": null,
   "metadata": {},
   "outputs": [],
   "source": [
    "pagri_data_tools.chi2_pearson\n",
    "pagri_data_tools.ttest_ind_df\n",
    "pagri_data_tools.ttest_ind\n",
    "pagri_data_tools.mannwhitneyu_df\n",
    "pagri_data_tools.mannwhitneyu\n",
    "pagri_data_tools.proportion_ztest_1sample\n",
    "pagri_data_tools.proportions_ztest_2sample\n",
    "pagri_data_tools.proportions_ztest_column_2sample\n",
    "pagri_data_tools.proportions_chi2\n",
    "pagri_data_tools.proportions_chi2_column\n",
    "pagri_data_tools.anova_oneway_df\n",
    "pagri_data_tools.anova_oneway\n",
    "pagri_data_tools.tukey_hsd_df\n",
    "pagri_data_tools.anova_oneway_welch_df\n",
    "pagri_data_tools.kruskal_df\n",
    "pagri_data_tools.kruskal\n",
    "pagri_data_tools.bootstrap_diff_2sample # важно, сохраняем fig и в следующей ячейке делаем fig.shwo(), иначе на google colab работает некорректно"
   ]
  },
  {
   "cell_type": "markdown",
   "metadata": {},
   "source": [
    "> Если отклоняем гипотезу, то строим доверитлеьный интервал\n"
   ]
  },
  {
   "cell_type": "code",
   "execution_count": null,
   "metadata": {},
   "outputs": [],
   "source": [
    "pagri_data_tools.confint_t_2samples\n",
    "pagri_data_tools.confint_t_2samples_df\n",
    "pagri_data_tools.confint_proportion_ztest_2sample\n",
    "pagri_data_tools.confint_proportion_ztest_column_2sample\n",
    "pagri_data_tools.confint_proportion_2sample_statsmodels\n",
    "pagri_data_tools.confint_proportion_coluns_2sample_statsmodels"
   ]
  },
  {
   "cell_type": "markdown",
   "metadata": {},
   "source": [
    "> Сделать опцию в бутстреп функции, чтобы строился только доверительный интервал\n"
   ]
  },
  {
   "cell_type": "markdown",
   "metadata": {},
   "source": [
    "> Также сделать функцию для доверилеьных интервалов для мана уитни через  \n",
    "> the Hodges-Lehmann estimation, which provides a point estimate and a confidence interval for the difference in medians.\n"
   ]
  },
  {
   "cell_type": "code",
   "execution_count": null,
   "metadata": {},
   "outputs": [],
   "source": [
    "import pingouin as pg\n",
    "\n",
    "# Perform the Mann-Whitney U test and calculate the confidence interval\n",
    "mw_test = pg.mwu(x, y, tail='two-sided', confidence=0.95)\n",
    "\n",
    "# Print the results\n",
    "print(mw_test)"
   ]
  },
  {
   "cell_type": "code",
   "execution_count": null,
   "metadata": {},
   "outputs": [],
   "source": [
    "import numpy as np\n",
    "from scipy import stats\n",
    "\n",
    "# Perform the Mann-Whitney U test\n",
    "u_stat, p_value = stats.mannwhitneyu(x, y, alternative='two-sided')\n",
    "\n",
    "# Calculate the Hodges-Lehmann estimation\n",
    "hl_est = np.median(np.array([x_i - y_j for x_i in x for y_j in y]))\n",
    "\n",
    "# Calculate the confidence interval\n",
    "ci = stats.t.interval(0.95, len(x) + len(y) - 2, loc=hl_est, scale=stats.sem(np.array([x_i - y_j for x_i in x for y_j in y])))\n",
    "\n",
    "# Print the results\n",
    "print('Hodges-Lehmann estimation:', hl_est)\n",
    "print('Confidence interval:', ci)"
   ]
  },
  {
   "cell_type": "markdown",
   "metadata": {},
   "source": [
    "> Подход следуюищй - мы до раздела проверка гипотез, когда изучаем данные (разделы пропусков, выбросов, дубликатов, зависиместей между перменными и графики),  \n",
    "> то мы делаем выводы и формируем наблюдеия.  \n",
    "> Вот эти наблюдения и выводы нужно проверить в проверке гипотез.  \n",
    "> И потом в основном выводе уже писать не просто, что у нас мужчин больше чем женьшин, а писать, что на уровен значисомти таком то у нас мужчина больше чем  \n",
    "> женщин с таким то доверительным интервалом.  \n",
    "> Таким образом выводы по вомзожности должны проходить через этап проверки гипотез, тогда эти выводы становятся более существенными.\n"
   ]
  },
  {
   "cell_type": "markdown",
   "metadata": {},
   "source": [
    "- Гипотезы появляются, когда мы задаем вопросы данным. Мы изучили данные, преобработали и теперь начинаем задавать вопросы.\n",
    "- Выдвигаем гипотезу (заметили что-то необычное и хотим проверить), далее формулируем ее и далее проверяем.\n",
    "- Не забываем формулировать гипотезы словами. Пишем что является гипотезой H0, а что гипотезой H1\n",
    "- Формулируем все гипотезы, которые хотим проверить. Если будет 100 гипотез, то все 100 нужно сформулировать и потом проверить и сделать вывод.\n",
    "- Гипотезы могут быть и простыми вопросами без гипотез H0 и H1, такие гипотезы мы проверяем графиками или анализируя таблицу.\n",
    "- Восновном, когда мы собиаремся применить стат аппарат для проверки гипотезы, то мы должны записать ее через H0 и H1.\n"
   ]
  },
  {
   "cell_type": "markdown",
   "metadata": {},
   "source": [
    "> Отличная статья про доверительные интервалы для разных статистик  \n",
    "> https://habr.com/ru/articles/807051/\n"
   ]
  },
  {
   "cell_type": "markdown",
   "metadata": {},
   "source": [
    "> Bootstrapping\n"
   ]
  },
  {
   "cell_type": "markdown",
   "metadata": {},
   "source": [
    "> В бутстрепе, если мы хотим сравнить две выборки, то нельзя смотреть  \n",
    "> где находится исходная разница средних в бутстрапированной выборке  \n",
    "> Так как мы берем бутстреп из наших выборок и впролне реально.что наша разность  \n",
    "> будет близка к с реднему бутстропированной выборки  \n",
    "> Поэтому p value нужно определять по месту нуля в бутстропированной выборке\n"
   ]
  },
  {
   "cell_type": "markdown",
   "metadata": {},
   "source": [
    "> Посмотрим p value для 0 (если различий нет, то разница должна быть 0)\n",
    "> Для этого посчитаем cdf для + и - среднего, чтобы получить 2 значения cdf\n",
    "> а теперь возьмем минимум и умножим на 2, так как альт гипотеза у нас.что\n",
    "> просто не равно 0, значит и справа и слева\n"
   ]
  },
  {
   "cell_type": "code",
   "execution_count": 182,
   "metadata": {},
   "outputs": [],
   "source": []
  },
  {
   "cell_type": "code",
   "execution_count": null,
   "metadata": {},
   "outputs": [],
   "source": [
    "Estimating the power of a non-parametric test using bootstrapping involves simulating the testing process multiple times to estimate the probability of rejecting the null hypothesis. Here's a general outline of the steps:\n",
    "\n",
    "**Specify the null and alternative hypotheses **: Define the null and alternative hypotheses for your test. For example, the null hypothesis might be that the two groups have the same distribution, and the alternative hypothesis might be that the two groups have different distributions.\n",
    "\n",
    "Generate simulated data: Generate simulated data that reflects the null hypothesis. For example, you could generate two groups of random data from the same distribution.\n",
    "\n",
    "Perform the Mann-Whitney U test: Perform the Mann-Whitney U test on the simulated data to obtain a p-value.\n",
    "\n",
    "Repeat steps 2-3 many times: Repeat steps 2-3 many times (e.g., 1000 times) to generate a distribution of p-values under the null hypothesis.\n",
    "\n",
    "Estimate the power: Estimate the power of the test by calculating the proportion of times the p-value is below a certain significance level (e.g., 0.05) when the alternative hypothesis is true. To do this, you'll need to generate simulated data that reflects the alternative hypothesis and repeat steps 2-4."
   ]
  },
  {
   "cell_type": "markdown",
   "metadata": {},
   "source": [
    "### Промежуточный вывод\n"
   ]
  },
  {
   "cell_type": "markdown",
   "metadata": {},
   "source": [
    "Чтобы собрать все наблюдения используем это  \n",
    "нужно поставить `_pagristart_` где начало и `_pagriend_` где конец"
   ]
  },
  {
   "cell_type": "markdown",
   "metadata": {},
   "source": [
    "Не забываем удалить метки `_pagristart_` и `_pagriend_` "
   ]
  },
  {
   "cell_type": "code",
   "execution_count": null,
   "metadata": {},
   "outputs": [],
   "source": [
    "import IPython\n",
    "notebook_path = \"/\".join(\n",
    "        IPython.extract_module_locals()[1][\"__vsc_ipynb_file__\"].split(\"/\"))\n",
    "pagri_data_tools.collect_observations(notebook_path, '/home/pagri/git_repos/pagri-projects/quarto/projects/prospective_tariff_for_telecom/temp_for_report.ipynb')"
   ]
  },
  {
   "cell_type": "markdown",
   "metadata": {},
   "source": [
    "- На уровне значимости 0.05 гипотеза, что есть зависимость между количеством публикаций и днем недели подтвердилась.  \n",
    "- На уровне значимости 0.05 гипотеза, что удаленность от центра влияет на количество публикаций, подтвердилась.  "
   ]
  },
  {
   "cell_type": "markdown",
   "metadata": {},
   "source": [
    "## Общий вывод\n"
   ]
  },
  {
   "cell_type": "markdown",
   "metadata": {},
   "source": [
    "ВАЖНО  \n",
    "проверить, что результат проверки гипотез учтен в выводах.  \n",
    "То есть если у нас был промежуточный вывод, но проверка гипотез опровергла этот вывод, то нужно изменить вывод на противоположный."
   ]
  },
  {
   "cell_type": "markdown",
   "metadata": {},
   "source": [
    "Проходим собираем все промежуточные выводы, вставляем сюда и выбираем важные. "
   ]
  },
  {
   "cell_type": "markdown",
   "metadata": {},
   "source": [
    "ВАЖНО  \n",
    "из промежуточных выводов в изучении данных собрать подобные выводы:  \n",
    "- Рынок жилья представлен объектами общей площадью от 12 до 900 кв.м. В основном это жилье от 30 до 100 кв.м. с пиком в сегменте 30-75 кв.м. В жилой площади квартиры преобладает диапазон 15-50 кв.м. Размер площади кухни-от 5 до 15 кв.м., с пиком 9 кв.м. Это стандартные небольшие квартиры эконом-класса. Подавляющее большинство квартир- 1-3 комнатные, с высотой потолка 2,6-2,7 м., но встречаются редкие варианты до 19 комнат и высотой потолка до 20 кв.м. (либо ошибка, либо свободная планировка с возможностью многоуровневости).\n",
    "- Цены на квартиры в основном находятся в диапазоне 2.5-15 млн.руб. с пиком в области 3-5 млн.руб.(небольшие квартиры эконом-класса), но есть и уникальные объекты стоимостью до 763 млн.руб. Стоимость квадратного метра недвижимости варьируется от 50-130 тыс.руб. с пиком в 90-100 тыс.руб. Наряду с типовыми предложениями на продажу выставлено жилье премиум-класса со стоимостью 1 кв.м. до 1.9 млн.руб.\n",
    "- Общее время продажи жилой недвижимости-до 1618 дней. Половина квартир продается за период до 94 дней, а среднее значение по всему массиву данных -185 дней. При этом можно увидеть, что пик продаж приходится на 45-60 день с момента публикации. Исходя из расчета выбросов можно сказать, что продажи прошли аномально быстро, если сделки были оформлены в период до 16 дней и слишком долго, если до оформления сделки свыше 1134 дней.    "
   ]
  },
  {
   "cell_type": "markdown",
   "metadata": {},
   "source": [
    "Это важно, так как дает представление о данных в сжатой и удобной форме.  \n",
    "А далее уже идут выводы о зависимостях.  "
   ]
  },
  {
   "cell_type": "markdown",
   "metadata": {},
   "source": [
    "Не забываем ставить 2 пробела после Выводы и другие для quarto"
   ]
  },
  {
   "cell_type": "markdown",
   "metadata": {},
   "source": [
    "После каждой строки поставить либо перенос, либо 2 пробела для quarto  \n",
    "так как когда следующая строка начинается с дефиса и jupyter это понимает и делает новую строку,   \n",
    "то quarto не сделает новую строку"
   ]
  },
  {
   "cell_type": "markdown",
   "metadata": {},
   "source": [
    "**Выводы:**  \n"
   ]
  },
  {
   "cell_type": "markdown",
   "metadata": {},
   "source": [
    "- Долги есть у людей с разным доходом.  \n",
    "- У должников в среднем больше детей.  \n",
    "- У должников среднее количество детей больше у женщин, а у не должников срднее количество детей больше у мужчин  \n",
    "- У должников средний возраст немного ниже для всех категорий семейного положения.  \n",
    "- Медианный доход у должников и не должников практически не отличается  \n",
    "- Должники имеют ниже средний возраст как мужчины так и женщины. Ситуация сохраняется во всех группах дохода.  \n",
    "- Цель получения кредита практически не зависит от среднего ежемесяченого дохода.  \n",
    "- 92 % клиентов не имеют долга.  \n",
    "- Люди от 30 до 50 лет имеют самый высокий средний доход.  \n",
    "- Больше всего кредит берут на цели, связанные с недвижимостью, кроме людей в гражданском браке  \n",
    "- Люди в гражданском браке чаще берут кредит на свадьбу  \n",
    "- Женщины чаще возвращают кредит.  \n",
    "- Анализ значимости признаков для модели случайного леса показал, что доход является самым значимым признаком для предсказания задолженности.  \n",
    "- 58 % клиентов либо женаты, либо замужем. 19 % в гражданском браке. Можно сделать вывод что большинство в браке.  \n",
    "- Большинство клиентов женщины (66 процентов).  \n",
    "- Только 5 процентов клиентов моложе 25 лет. Основная часть клиентов старше 30 лет.  \n",
    "- Чем меньше количество детей, тем больше значений с высоким доходом.  \n",
    "- Болшая часть женатых имеет доход 100-200 тыс  \n",
    "- На всех уровнях образоания, кроме ученой степени, доход у мужчин выше.  \n",
    "- У мужчин, которые в браке или были в браке, количество детей больше, чем у женщин в той же категории.  \n"
   ]
  },
  {
   "cell_type": "markdown",
   "metadata": {},
   "source": [
    "**Аномалии и особенности в данных:**  \n",
    "\n",
    "- В датафрейме есть строки дубликаты. 54 строки. Меньше 1 % от всего датафрейма.  \n",
    "- В столбце с количеством детей есть отрицательные значения. 47 штук. Меньше 1 процента от всего датафрейма. Также есть клиенты с 20 детьми.  \n",
    "- Колонока общий трудовой стаж содержит 74 % отрицаетльных значений. А также максимальное количество дней стажа больше 400 тысяч дней, это больше 1000 лет.  \n",
    "- В колонке возраста 101 нулевое значени.  \n",
    "- Колонка дохода имеет слишком много знаков после запятой.  \n",
    "- В колонке с образованием присутствуют одни и те же знчения с разными регистрами. При этом в колонке с id образования все впрорядке.  \n"
   ]
  },
  {
   "cell_type": "markdown",
   "metadata": {},
   "source": [
    "ВАЖНО  \n",
    "в результаты предобработки добавляем также выводы из раздела про создание новых переменных и обогащение таблиц"
   ]
  },
  {
   "cell_type": "markdown",
   "metadata": {},
   "source": [
    "**Результаты предобработки данных:**  \n",
    "\n",
    "- Удалили колонки с id образования и семейного статуса, так как нам для графиков лучше подойдут названия, а не id.\n",
    "- Колонка со стажем имеет совершенно некорректные данные. Чтобы не внести искажение в анализ, удалим эту колонку.\n"
   ]
  },
  {
   "cell_type": "markdown",
   "metadata": {},
   "source": [
    "**Результаты проверки гипотез:**  \n",
    "\n",
    "- Гипотеза 1: Средняя выручка с пользователя не зависит от возрастной группы.  \n",
    "**Результат:** На уровне значимости 0.05 гипотеза была отклонена.  \n",
    "Это указывает на то, что возрастная группа оказывает статистически значимое влияние на среднюю выручку с пользователя.\n",
    "- Гипотеза 2: Средняя выручка между тарифами Smart и Ultra не отличается.  \n",
    "**Результат:** На уровне значимости 0.05 гипотеза была отклонена.  \n",
    "Это указывает на то, что выручка от тарифа Smart статистически значимо выше, чем от тарифа Ultra.\n",
    "- Гипотеза 3: Средняя выручка с пользователя не зависит от месяца.  \n",
    "**Результат:** На уровне значимости 0.05 гипотеза была отклонена.  \n",
    "Это указывает на то, что месяц оказывает статистически значимое влияние на среднюю выручку с пользователя.\n",
    "- Гипотеза 4: Средняя выручка пользователей из Москвы не отличается от выручки пользователей из других регионов.  \n",
    "**Результат:** На уровне значимости 0.05 нет оснований отвергнуть гипотезу.\n"
   ]
  },
  {
   "cell_type": "markdown",
   "metadata": {},
   "source": [
    "ВАЖНО  \n",
    "Используем ИИ для формулирования рекомендаций. Сначала кидаем ему описание проекта и цель и далее кидаем общие выводы и просим написать рекомендации."
   ]
  },
  {
   "cell_type": "markdown",
   "metadata": {},
   "source": [
    "**Рекомендации:**  \n",
    "\n",
    "- Добавить контроль данных, чтобы не дублировались значения с разными регистрами в колонке с образованием.\n",
    "- Добавить уникальный идентификатор клиента, чтобы избежать дублирования строк.\n",
    "- Добавить проверку на отрицательные значения и на слишком болшьшие значения в количестве детей при загрузке данных.\n",
    "- Выяснить откуда возникают отрицательные значения в трудовом стаже и добавить контроль ввода невалидных данных.\n",
    "- Выяснить причину нулевых значений в колонке возраста и добавить проверку на нулевые значения при загрузке данных.\n",
    "- Выяснить причину большого количества знаков после запятой в колонке дохода.\n"
   ]
  },
  {
   "cell_type": "markdown",
   "metadata": {},
   "source": [
    "ВАЖНО   \n",
    "ячейки далее лучше удалить до обработки ноутбука, чтобы не было ошибок  \n",
    "Копировать что нужно можно из шаблона"
   ]
  },
  {
   "cell_type": "markdown",
   "metadata": {},
   "source": [
    "> Что нужно сообщить в выводе\n",
    "\n",
    "- информацию о том, что удалось подтвердить гипотезы (тут пишем только те, которые удалось подтвердить)\n",
    "- всю информацию о датасете, которые важны. Дубликаты, которые несут практическую пользу и рекомендации по ним, пропуски также с рекомендациями\n",
    "  > и остальные моменты по данным и рекомендации. Тут важно указывать именно найденные аномалии, которые имеют практическую пользу, которые нужно исправить и прочее.  \n",
    "  > Пишем, что были найдены выбросы, они были связаны возможно с тем то и тем то.\n",
    "- и в конце обязательно call to action\n",
    "  > написать что необходимо сделать с этими результатами\n"
   ]
  },
  {
   "cell_type": "markdown",
   "metadata": {},
   "source": [
    "> Советы по оформлению общего выывод\n",
    "\n",
    "- не нужно вставлять таблицы и графики в вывод.\n",
    "  > В выводе пишем словами самое важное и практически полезное, что мы получили, причем в порядке убывания важности.  \n",
    "  > И когда мы пишем, что увидели то-то, то приводим гиперссылку на график или результат ячейки, где это получено.  \n",
    "  > Так будет компактный вывод и при необходимости человек сможет быстро перейти и посмотреть график или таблицу\n"
   ]
  },
  {
   "cell_type": "markdown",
   "metadata": {},
   "source": [
    "**Удалось подтвердить гипотезу** о влиянии различных характеристик клиента на факт погашения кредита в срок. Каждый из рассмотренных параметров оказывает влияние на надёжность заёмщика. Рассмотренные факторы по-разному влияют на надёжность заёмщиков. Например, семейное положение оказалось более значимым фактором, чем уровень дохода.\n"
   ]
  },
  {
   "cell_type": "markdown",
   "id": "ruled-penny",
   "metadata": {},
   "source": [
    "- В ходе анализа исходного набора данных было проведено (были устранены пропуски в двух колонках с числовыми значениями - 'total_income' и 'days_employed').\n",
    "- После **устранения явных и скрытых дупликатов** и удаления оставшихся после обогащения пропусков объем датасета сократился на 0.05%\n",
    "- Были устранены **выбросы** в колонках 'days_employed' и 'children': в первом случае выбросы возникли в результате системной ошибки (данные были внесены в часах, а не в днях); во втором случае ошибка, вероятнее всего была допущена людьми, вносившими данные в систему\n",
    "- ...\n"
   ]
  },
  {
   "cell_type": "markdown",
   "id": "alleged-strand",
   "metadata": {},
   "source": [
    "**Необходимо**\n"
   ]
  },
  {
   "cell_type": "markdown",
   "id": "critical-worker",
   "metadata": {},
   "source": [
    "> 1.  Запросить в отделе по работе с клиентами информацию о возможности брать кредит без подтверждения дохода.\n",
    ">\n",
    "> 2.  Сообщить коллегам, занимающимся выгрузкой о наличие дубликатов, если вопрос не разрешится, запросить индентификационный номер клиента к датасету.\n",
    ">\n",
    "> 3.  Прописать в задаче на поставку данных формат данных (пол только F и M, положительные значения). Приложить информацию о найденных аномалиях.\n"
   ]
  },
  {
   "cell_type": "code",
   "execution_count": null,
   "metadata": {},
   "outputs": [],
   "source": []
  },
  {
   "cell_type": "markdown",
   "metadata": {},
   "source": [
    "**Сначала проверяем орфографические ошибки**\n"
   ]
  },
  {
   "cell_type": "code",
   "execution_count": null,
   "metadata": {},
   "outputs": [],
   "source": [
    "import IPython\n",
    "notebook_path = \"/\".join(\n",
    "        IPython.extract_module_locals()[1][\"__vsc_ipynb_file__\"].split(\"/\"))\n",
    "pagri_data_tools.correct_notebook_text(notebook_path)"
   ]
  },
  {
   "cell_type": "markdown",
   "metadata": {},
   "source": [
    "**Затем создаем номера у глав и оглавление**\n"
   ]
  },
  {
   "cell_type": "markdown",
   "metadata": {},
   "source": [
    "> Чтобы добавить номера глав и ссылки для оглавления и сделать оглавлнеие  \n",
    "> оглавление добавиться в начало ноутбука\n"
   ]
  },
  {
   "cell_type": "markdown",
   "metadata": {},
   "source": [
    "> Сначала можно в режиме `draft` сделать пробный варант, проверить и потом уже запустить в режиме `final`\n"
   ]
  },
  {
   "cell_type": "code",
   "execution_count": null,
   "metadata": {},
   "outputs": [],
   "source": [
    "import IPython\n",
    "notebook_path = \"/\".join(\n",
    "        IPython.extract_module_locals()[1][\"__vsc_ipynb_file__\"].split(\"/\"))\n",
    "pagri_data_tools.make_headers_link_and_toc(notebook_path)"
   ]
  },
  {
   "cell_type": "markdown",
   "metadata": {},
   "source": [
    "**Далее создаем ссыки на выводы и аномалии**\n"
   ]
  },
  {
   "cell_type": "markdown",
   "metadata": {},
   "source": [
    "Выбираем нужные выводы и нужный порядок выводов и добавляем их в список выводов и используем эту функцию"
   ]
  },
  {
   "cell_type": "code",
   "execution_count": null,
   "metadata": {},
   "outputs": [],
   "source": [
    "import IPython\n",
    "notebook_path = \"/\".join(\n",
    "        IPython.extract_module_locals()[1][\"__vsc_ipynb_file__\"].split(\"/\"))\n",
    "conclusions = [\n",
    "    'С ноября 2017 по март 2018 тратилось много денег на компаню с id 3.'\n",
    "    , 'Сумма заказа варируется от 0 до 2633.28 у.е.'\n",
    "]\n",
    "pagri_data_tools.add_conclusions(notebook_path, conclusions)"
   ]
  },
  {
   "cell_type": "markdown",
   "metadata": {},
   "source": [
    "> Чтобы было удобно искать где вставить якорь для ссылки, названия выводов и аномалий должно точно совпадать  \n",
    "> в итоговом списке аномалий и выводов и в тех местах (то есть в наблюдениях под ячейками), куда мы будем помещать ссылки\n"
   ]
  },
  {
   "cell_type": "markdown",
   "metadata": {},
   "source": [
    "> Чтобы сделать ссылки на выводы и аномалии, нужно  \n",
    "> в тех местах, куда хотим переходить по ссылке вставить текст выводов или аномалий (берем прямо из основных выводов)  \n",
    "> выводы должны начинаться с `_conclusion_`  \n",
    "> аномалии должны начинаться с `_anomalies_`  \n",
    "> Примеры:  \n",
    ">\n"
   ]
  },
  {
   "cell_type": "markdown",
   "metadata": {},
   "source": [
    "Окончательный текст выводов можно будет потом исправить в выводах всего отчета и поместить их в начало,  \n",
    "важно, выводы не менять до момента, пока мы не создадим ссылки на них.  \n",
    "Чтобы автомтика не нарушилась.  \n",
    "Затем можно будет исправить уже сам текст выводов и это не нарушит ссылки."
   ]
  },
  {
   "cell_type": "code",
   "execution_count": null,
   "metadata": {},
   "outputs": [],
   "source": [
    "==== _anomalies_ В столбце с количеством детей есть отрицательные значения. 47 штук. "
   ]
  },
  {
   "cell_type": "markdown",
   "metadata": {},
   "source": [
    "> Можно в одной ячейке и выводы и аномалии, с обеих ссылок будет переходить сюда, но назад будет возвращаться только в одно место,  \n",
    "> в то, которое было первым в ячейке\n"
   ]
  },
  {
   "cell_type": "markdown",
   "metadata": {},
   "source": [
    "ВАЖНО  \n",
    "разобраться почему когда рядом ставишь 2 вывода или аномалии или 1 вывод плюс 1 аномалия (вместе 2), то появляется  \n",
    "2 ссылки на оглавление"
   ]
  },
  {
   "cell_type": "markdown",
   "metadata": {},
   "source": [
    "Делаем так\n",
    "- Из всех выводов в выбираем те, которые хотим поместить в начале отчета\n",
    "- Собриаем их в отдельном файле (чтобы удобно было копировать) Можно использовать clipboard history\n",
    "- Добавляем в начало вывода _conclusiions_  \n",
    "- Далее по одному выводу полностью копируем, вставляем в поиск и удаляем в начале _conclusions_  \n",
    "при этом в буфере обмена с _conclusions_ \n",
    "- Переходим в нужное место через поиск и вставляем. \n"
   ]
  },
  {
   "cell_type": "code",
   "execution_count": null,
   "metadata": {},
   "outputs": [],
   "source": [
    "==== _conclusion_ Только 5 процентов клиентов моложе 25 лет. Основная часть клиентов старше 30 лет.\n",
    "==== _anomalies_ В колонке возраста 101 нулевое значени."
   ]
  },
  {
   "cell_type": "markdown",
   "metadata": {},
   "source": [
    "ВАЖНО  \n",
    "Проийти просмотреть чтобы не было 2 раза близко \"к оглавлению\"  \n",
    "это может быть из-за того что у нас ссылки на выводы рядом с названием главы или раздела  \n",
    "Или просто могут быть 2 выводы рядом.  "
   ]
  },
  {
   "cell_type": "markdown",
   "metadata": {},
   "source": [
    "> Содеражние выводов и аномалий появится в начале ноутбука  \n",
    "> также 2 режима `draft` и `final`\n"
   ]
  },
  {
   "cell_type": "markdown",
   "metadata": {},
   "source": [
    "> Подумать как сделать удобнее создание выводов  \n",
    "> Пока лучше сначала взять выводы из наблюдений и выбрать из них наиболее важные и интересные, не меняя их.  \n",
    "> Далее берем этот список и поиском находим ячейку с этим выводом и перед графиком помещаем  \n",
    "> _conclusion_ и сам вывод\n"
   ]
  },
  {
   "cell_type": "code",
   "execution_count": null,
   "metadata": {},
   "outputs": [],
   "source": []
  },
  {
   "cell_type": "markdown",
   "metadata": {},
   "source": [
    "> Чтобы был нужный порядок в списке выводов и аномалий в начале отчета, нужно передвать словарь со списками выводов и аномалий.  \n",
    "> Переменная order принимает словарь, где ключи `conclusions` и `anomalies`, а значения это соответствующие списки\n"
   ]
  },
  {
   "cell_type": "markdown",
   "metadata": {},
   "source": [
    "> Примеры списков\n"
   ]
  },
  {
   "cell_type": "code",
   "execution_count": null,
   "metadata": {},
   "outputs": [],
   "source": [
    "order = dict(\n",
    "            conclusions =[ 'Женщины чаще возвращают кредит, чем мужчины.']\n",
    "            , anomalies = ['В датафрейме есть строки дубликаты. 54 строки. Меньше 1 % от всего датафрейма.  ']\n",
    ")"
   ]
  },
  {
   "cell_type": "code",
   "execution_count": null,
   "metadata": {},
   "outputs": [],
   "source": []
  },
  {
   "cell_type": "markdown",
   "metadata": {},
   "source": [
    "**Ставим переносы для булитов там, где их нет**"
   ]
  },
  {
   "cell_type": "code",
   "execution_count": null,
   "metadata": {},
   "outputs": [],
   "source": [
    "import IPython\n",
    "notebook_path = \"/\".join(\n",
    "        IPython.extract_module_locals()[1][\"__vsc_ipynb_file__\"].split(\"/\"))\n",
    "pagri_data_tools.check_observes_new_line(notebook_path, mode='final')"
   ]
  },
  {
   "cell_type": "markdown",
   "metadata": {},
   "source": [
    "ВАЖНО  \n",
    "не забываме перенести рекомендации в начало после аномалий  \n",
    "Порядок\n",
    "- главные выводы\n",
    "- аномалии в данных\n",
    "- рекомендации"
   ]
  },
  {
   "cell_type": "markdown",
   "metadata": {},
   "source": [
    "**Если сильно нужно, создаем ссыки на гипотезы**\n"
   ]
  },
  {
   "cell_type": "markdown",
   "metadata": {},
   "source": [
    "> В главе гипотез для каждой гипоетзы, куда будем переходить из оглавления, в начале перед гипотезой ставим _hypothesis_ и пробел\n"
   ]
  },
  {
   "cell_type": "code",
   "execution_count": null,
   "metadata": {},
   "outputs": [],
   "source": [
    "==== _hypotsis_ **Гипотеза 1: Название гипотезы**"
   ]
  },
  {
   "cell_type": "markdown",
   "metadata": {},
   "source": [
    "> Выполняем следующую функцию и в начале отчета появится список гипотез с ссылками  \n",
    "> Далее нужно добавить результат гипотез вручную\n"
   ]
  },
  {
   "cell_type": "code",
   "execution_count": null,
   "metadata": {},
   "outputs": [],
   "source": [
    "pagri_data_tools.add_hypotheses_links_and_toc()"
   ]
  },
  {
   "cell_type": "markdown",
   "metadata": {},
   "source": [
    "**Финальное размещение ноутбука на git hub с ссылкой на google colab**\n"
   ]
  },
  {
   "cell_type": "markdown",
   "metadata": {},
   "source": [
    "> Комитим на гит хаб финальную версию ноутбука.  \n",
    "> Создаем на гит хаб readme файл проекта, в котором в начале идет ссылка на google colab  \n",
    "> Далее ее открываем и переходим на google colab  \n",
    "> Выполняем все ячейки, смотрим все ли правильно отобразилось.  \n",
    "> Далее в меню File выбираем сохранить копию на гит хаб.  \n",
    "> Не меняем имя, тогда все содержимое ноутбука сохраниться на гит хаб.\n"
   ]
  }
 ],
 "metadata": {
  "kernelspec": {
   "display_name": "pagri-projects-W8_aXYna-py3.12",
   "language": "python",
   "name": "python3"
  },
  "language_info": {
   "codemirror_mode": {
    "name": "ipython",
    "version": 3
   },
   "file_extension": ".py",
   "mimetype": "text/x-python",
   "name": "python",
   "nbconvert_exporter": "python",
   "pygments_lexer": "ipython3",
   "version": "3.12.7"
  }
 },
 "nbformat": 4,
 "nbformat_minor": 2
}
