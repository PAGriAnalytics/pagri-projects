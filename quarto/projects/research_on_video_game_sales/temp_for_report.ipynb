{
 "cells": [
  {
   "cell_type": "code",
   "execution_count": null,
   "metadata": {},
   "outputs": [],
   "source": []
  },
  {
   "cell_type": "code",
   "execution_count": null,
   "metadata": {},
   "outputs": [],
   "source": [
    "средняя оценка критиков не зависит от категории продаж\n",
    "    , x = 'sales_cat'\n",
    "    , y = 'critic_score'  \n",
    "средняя оценка критиков не зависит от жанра    \n",
    "\n",
    "средняя оценка пользователей не зависит от жанра\n",
    "\n",
    "средняя оценка критиков не зависит от рейтинга    \n",
    "\n",
    "средняя оценка пользователей не зависит от рейтинга\n",
    "    "
   ]
  },
  {
   "cell_type": "code",
   "execution_count": null,
   "id": "2d94cb1e",
   "metadata": {},
   "outputs": [],
   "source": [
    "_gen_ "
   ]
  },
  {
   "cell_type": "code",
   "execution_count": null,
   "metadata": {},
   "outputs": [],
   "source": [
    "_start_\n",
    "_end_\n",
    "import IPython\n",
    "notebook_path = \"/\".join(\n",
    "        IPython.extract_module_locals()[1][\"__vsc_ipynb_file__\"].split(\"/\"))\n",
    "pagri_data_tools.collect_observations(notebook_path, '/home/pagri/git_repos/pagri-projects/quarto/projects/research_on_video_game_sales/temp_for_report.ipynb')"
   ]
  },
  {
   "cell_type": "code",
   "execution_count": null,
   "metadata": {
    "vscode": {
     "languageId": "plaintext"
    }
   },
   "outputs": [],
   "source": [
    "Переменные с id\n",
    "- user_id (users) - уникальный идентификатор пользователя\n",
    "- id (calls) - уникальный номер звонка\n",
    "- id (messages) - уникальный номер сообщения\n",
    "- user_id (calls) - идентификатор пользователя, сделавшего звонок\n",
    "- user_id (messages) - идентификатор пользователя, отправившего сообщение\n",
    "- id (internet) - уникальный номер сессии\n",
    "- user_id (internet) - идентификатор пользователя\n",
    "\n",
    "Категориальные переменные\n",
    "- city (users) - город проживания пользователя\n",
    "- tarif (users) - название тарифного плана\n",
    "- tariff_name (tariffs) - название тарифа\n",
    "- age_cat (users) - возрастная категория\n",
    "- duration_cat (calls) - категория длительности звонка\n",
    "- mb_used_cat (internet) - категория объема интернет трафика\n",
    "- reg_date_weekday (users) - день недели подключения тарифа\n",
    "- reg_date_month (users) - месяц подключения тарифа\n",
    "- reg_date_weekday (users) - день недели подключения тарифа\n",
    "- reg_date_month (users) - месяц подключения тарифа\n",
    "- call_date_weekday (calls) - день недели звонка\n",
    "- call_date_month (calls) - месяц звонка\n",
    "- message_date_weekday (messages) - день недели сообщения\n",
    "- message_date_month (messages) - месяц сообщения\n",
    "- session_date_weekday (internet) - день недели интернет-сессии\n",
    "- session_date_month (internet) - месяц интернет-сессии\n",
    "- is_active - активен ли тариф\n",
    "\n",
    "Числовые переменные\n",
    "- age (users) - возраст пользователя (годы)\n",
    "- duration (calls) - длительность звонка в минутах\n",
    "- mb_used (internet) - объём потраченного за сессию интернет-трафика (в мегабайтах)\n",
    "- rub_monthly_fee (tariffs) - ежемесячная абонентская плата в рублях\n",
    "- minutes_included (tariffs) - количество минут разговора в месяц, включённых в абонентскую плату\n",
    "- messages_included (tariffs) - количество сообщений в месяц, включённых в абонентскую плату\n",
    "- mb_per_month_included (tariffs) - объём интернет-трафика, включённого в абонентскую плату (в мегабайтах)\n",
    "- rub_per_minute (tariffs) - стоимость минуты разговора сверх тарифного пакета (например, если в тарифе 100 минут разговора в месяц, то со 101 минуты будет взиматься плата)\n",
    "- rub_per_message (tariffs) - стоимость отправки сообщения сверх тарифного пакета\n",
    "- rub_per_gb (tariffs) - стоимость дополнительного гигабайта интернет-трафика сверх тарифного пакета (1 гигабайт = 1024 мегабайта)\n",
    "\n",
    "Временные переменные\n",
    "- reg_date (users) - дата подключения тарифа (день, месяц, год)\n",
    "- churn_date (users) - дата прекращения пользования тарифом (если значение пропущено, то тариф ещё действовал на момент выгрузки данных)\n",
    "- call_date (calls) - дата звонка\n",
    "- message_date (messages) - дата сообщения\n",
    "- session_date (internet) - дата интернет-сессии\n",
    "\n",
    "Остальные\n",
    "- first_name (users) - имя пользователя\n",
    "- last_name (users) - фамилия пользователя\n"
   ]
  },
  {
   "cell_type": "markdown",
   "metadata": {
    "vscode": {
     "languageId": "plaintext"
    }
   },
   "source": [
    "- name - название игры\n",
    "- platform - платформа\n",
    "- year_of_Release - год выпуска\n",
    "- genre - жанр игры\n",
    "- mA_sales - продажи в Северной Америке (миллионы проданных копий)\n",
    "- eU_sales - продажи в Европе (миллионы проданных копий)\n",
    "- jP_sales - продажи в Японии (миллионы проданных копий)\n",
    "- other_sales - продажи в других странах (миллионы проданных копий)\n",
    "- critic_Score - оценка критиков (максимум 100)\n",
    "- user_Score - оценка пользователей (максимум 10)\n",
    "- rating - рейтинг от организации ESRB (англ. Entertainment Software Rating Board). Эта ассоциация определяет рейтинг компьютерных игр и присваивает им подходящую возрастную категорию."
   ]
  },
  {
   "cell_type": "code",
   "execution_count": null,
   "metadata": {
    "vscode": {
     "languageId": "plaintext"
    }
   },
   "outputs": [],
   "source": [
    "\n",
    "\n",
    "Существующие рейтинги:\n",
    "\n",
    "    Рейтинг в ожидании (RP)\n",
    "    Все (E)\n",
    "    Все 10+ (E10+)\n",
    "    Подросток (Т)\n",
    "    Зрелые 17+ (М)\n",
    "    Только для взрослых 18+ (АО)\n",
    "\n",
    "Прежние рейтинги:\n",
    "\n",
    "    Раннее детство (ЕС) - Больше не используется с 2018 года\n",
    "    Для детей (K-A)– для тех, кто уже научился говорить и держать джойстик, эти игры уже могут вызывать интерес (позже в 1998 году был переименован в Е – для всех возрастов, а также чуть позже был добавлен рейтинг Е10+, как промежуточный между Е и Т)\n",
    "\n"
   ]
  }
 ],
 "metadata": {
  "language_info": {
   "name": "python"
  }
 },
 "nbformat": 4,
 "nbformat_minor": 2
}
