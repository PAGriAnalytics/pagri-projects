{
 "cells": [
  {
   "cell_type": "raw",
   "metadata": {
    "vscode": {
     "languageId": "raw"
    }
   },
   "source": [
    "---\n",
    "description_for_list: \"Исследование продаж компьютерных игр.\"\n",
    "\n",
    "format:\n",
    "  html:\n",
    "    code-fold: true\n",
    "    code-summary: \"Show the code\"\n",
    "    fontsize: 16px\n",
    "    smooth-scroll: true\n",
    "    toc: true\n",
    "    toc-location: left\n",
    "    toc-title: Оглавление\n",
    "    grid:\n",
    "      body-width: 1100px\n",
    "---"
   ]
  },
  {
   "cell_type": "markdown",
   "metadata": {},
   "source": [
    "# Исследование продаж компьютерных игр\n"
   ]
  },
  {
   "cell_type": "markdown",
   "metadata": {},
   "source": [
    "**Автор:**  \n",
    "\n",
    "Григорьев Павел\n"
   ]
  },
  {
   "cell_type": "markdown",
   "metadata": {},
   "source": [
    "**Описание проекта:**   \n",
    "\n",
    "Интернет-магазин 'Стримчик' разрабатывает стратегию на 2017 год для повышения продаж компьютерных игр, основываясь на анализе исторических данных о продажах, оценках пользователей и экспертов, жанрах и платформах. Анализ позволит выявить закономерности, которые помогут определить потенциально популярные продукты и эффективно спланировать рекламные кампании."
   ]
  },
  {
   "cell_type": "markdown",
   "metadata": {},
   "source": [
    "**Цель:**  \n",
    "\n",
    "Определить ключевые факторы, влияющие на успешность продаж компьютерных игр, установить взаимосвязи между ними и объемами продаж,   \n",
    "а также проанализировать изменения этих показателей в зависимости от платформ, регионов продвижения и исторического периода."
   ]
  },
  {
   "cell_type": "markdown",
   "metadata": {},
   "source": [
    "**Источники данных:**  \n",
    "\n",
    "Исторические данные из открытых источников о продажах игр, включая оценки пользователей и экспертов, а также информацию о жанрах и платформах."
   ]
  },
  {
   "cell_type": "markdown",
   "metadata": {},
   "source": [
    "**Главные выводы:**  \n",
    "тут помещаем самое главное из общего вывода, примерно до полустраницы, чтобы не было сильно много и при этом указать все главные выводы\n",
    "Будет идеально, елси выводы на похожие темы будут рядом, то есть елси мы имеем несколько выводов о доходе, то лушче поместить их рядом\n",
    "\n",
    "- Женщины чаще возвращают кредит, чем мужчины.\n",
    "- Долги присутствуют у людей с разным доходом.\n"
   ]
  },
  {
   "cell_type": "markdown",
   "metadata": {},
   "source": [
    "**Аномалии и особенности в данных:**\n",
    "\n",
    "- В датафрейме есть строки дубликаты. 54 строки. Меньше 1 % от всего датафрейма.\n",
    "- В столбце с количеством детей есть отрицательные значения. 47 штук. Меньше 1 процента от всего датафрейма. Также есть клиенты с 20 детьми.\n"
   ]
  },
  {
   "cell_type": "markdown",
   "metadata": {},
   "source": [
    "**Рекомендации:**\n",
    "\n",
    "- Добавить контроль данных, чтобы не дублировались значения с разными регистрами в колонке с образованием.\n",
    "- Добавить уникальный идентификатор клиента, чтобы избежать дублирования строк.\n"
   ]
  },
  {
   "cell_type": "markdown",
   "metadata": {},
   "source": [
    "## Загрузка библиотек <skip>"
   ]
  },
  {
   "cell_type": "code",
   "execution_count": 641,
   "metadata": {},
   "outputs": [
    {
     "name": "stdout",
     "output_type": "stream",
     "text": [
      "The autoreload extension is already loaded. To reload it, use:\n",
      "  %reload_ext autoreload\n"
     ]
    }
   ],
   "source": [
    "%load_ext autoreload\n",
    "%autoreload 2\n",
    "import pandas as pd\n",
    "import numpy as np\n",
    "import plotly.express as px\n",
    "import pagri_data_tools  # type: ignore\n",
    "pd.set_option('display.max_columns', None)\n",
    "pd.options.display.float_format = '{:,.2f}'.format"
   ]
  },
  {
   "cell_type": "markdown",
   "metadata": {},
   "source": [
    "## Описание и изучение данных\n"
   ]
  },
  {
   "cell_type": "markdown",
   "metadata": {},
   "source": [
    "### Описание данных\n"
   ]
  },
  {
   "cell_type": "markdown",
   "metadata": {},
   "source": [
    "- Name - название игры\n",
    "- Platform - платформа\n",
    "- Year_of_Release - год выпуска\n",
    "- Genre - жанр игры\n",
    "- NA_sales - продажи в Северной Америке (миллионы проданных копий)\n",
    "- EU_sales - продажи в Европе (миллионы проданных копий)\n",
    "- JP_sales - продажи в Японии (миллионы проданных копий)\n",
    "- Other_sales - продажи в других странах (миллионы проданных копий)\n",
    "- Critic_Score - оценка критиков (максимум 100)\n",
    "- User_Score - оценка пользователей (максимум 10)\n",
    "- Rating - рейтинг от организации ESRB (англ. Entertainment Software Rating Board). Эта ассоциация определяет рейтинг компьютерных игр и присваивает им подходящую возрастную категорию."
   ]
  },
  {
   "cell_type": "markdown",
   "metadata": {},
   "source": [
    "### Изучение данных\n"
   ]
  },
  {
   "cell_type": "markdown",
   "metadata": {},
   "source": [
    "#### Изучение переменных\n"
   ]
  },
  {
   "cell_type": "markdown",
   "metadata": {},
   "source": [
    "Загружаем данные и задаем типы данных для столбцов, где это возможно."
   ]
  },
  {
   "cell_type": "code",
   "execution_count": 642,
   "metadata": {},
   "outputs": [
    {
     "data": {
      "text/html": [
       "<div>\n",
       "<style scoped>\n",
       "    .dataframe tbody tr th:only-of-type {\n",
       "        vertical-align: middle;\n",
       "    }\n",
       "\n",
       "    .dataframe tbody tr th {\n",
       "        vertical-align: top;\n",
       "    }\n",
       "\n",
       "    .dataframe thead th {\n",
       "        text-align: right;\n",
       "    }\n",
       "</style>\n",
       "<table border=\"1\" class=\"dataframe\">\n",
       "  <thead>\n",
       "    <tr style=\"text-align: right;\">\n",
       "      <th></th>\n",
       "      <th>Name</th>\n",
       "      <th>Platform</th>\n",
       "      <th>Year_of_Release</th>\n",
       "      <th>Genre</th>\n",
       "      <th>NA_sales</th>\n",
       "      <th>EU_sales</th>\n",
       "      <th>JP_sales</th>\n",
       "      <th>Other_sales</th>\n",
       "      <th>Critic_Score</th>\n",
       "      <th>User_Score</th>\n",
       "      <th>Rating</th>\n",
       "    </tr>\n",
       "  </thead>\n",
       "  <tbody>\n",
       "    <tr>\n",
       "      <th>609</th>\n",
       "      <td>Space Invaders</td>\n",
       "      <td>2600</td>\n",
       "      <td>NaN</td>\n",
       "      <td>Shooter</td>\n",
       "      <td>2.36</td>\n",
       "      <td>0.14</td>\n",
       "      <td>0.00</td>\n",
       "      <td>0.03</td>\n",
       "      <td>NaN</td>\n",
       "      <td>NaN</td>\n",
       "      <td>NaN</td>\n",
       "    </tr>\n",
       "    <tr>\n",
       "      <th>12182</th>\n",
       "      <td>FIFA Soccer 06</td>\n",
       "      <td>GBA</td>\n",
       "      <td>2,005.00</td>\n",
       "      <td>Sports</td>\n",
       "      <td>0.05</td>\n",
       "      <td>0.02</td>\n",
       "      <td>0.00</td>\n",
       "      <td>0.00</td>\n",
       "      <td>NaN</td>\n",
       "      <td>tbd</td>\n",
       "      <td>E</td>\n",
       "    </tr>\n",
       "    <tr>\n",
       "      <th>7100</th>\n",
       "      <td>Buzz! Junior: RoboJam</td>\n",
       "      <td>PS2</td>\n",
       "      <td>2,007.00</td>\n",
       "      <td>Misc</td>\n",
       "      <td>0.11</td>\n",
       "      <td>0.09</td>\n",
       "      <td>0.00</td>\n",
       "      <td>0.03</td>\n",
       "      <td>NaN</td>\n",
       "      <td>NaN</td>\n",
       "      <td>NaN</td>\n",
       "    </tr>\n",
       "    <tr>\n",
       "      <th>16385</th>\n",
       "      <td>Kamaitachi no Yoru 2: Tokubetsu Hen</td>\n",
       "      <td>PSP</td>\n",
       "      <td>2,006.00</td>\n",
       "      <td>Adventure</td>\n",
       "      <td>0.00</td>\n",
       "      <td>0.00</td>\n",
       "      <td>0.01</td>\n",
       "      <td>0.00</td>\n",
       "      <td>NaN</td>\n",
       "      <td>NaN</td>\n",
       "      <td>NaN</td>\n",
       "    </tr>\n",
       "    <tr>\n",
       "      <th>12356</th>\n",
       "      <td>Tonka Rescue Patrol</td>\n",
       "      <td>GC</td>\n",
       "      <td>2,003.00</td>\n",
       "      <td>Action</td>\n",
       "      <td>0.05</td>\n",
       "      <td>0.01</td>\n",
       "      <td>0.00</td>\n",
       "      <td>0.00</td>\n",
       "      <td>NaN</td>\n",
       "      <td>NaN</td>\n",
       "      <td>NaN</td>\n",
       "    </tr>\n",
       "  </tbody>\n",
       "</table>\n",
       "</div>"
      ],
      "text/plain": [
       "                                      Name Platform  Year_of_Release  \\\n",
       "609                         Space Invaders     2600              NaN   \n",
       "12182                       FIFA Soccer 06      GBA         2,005.00   \n",
       "7100                 Buzz! Junior: RoboJam      PS2         2,007.00   \n",
       "16385  Kamaitachi no Yoru 2: Tokubetsu Hen      PSP         2,006.00   \n",
       "12356                  Tonka Rescue Patrol       GC         2,003.00   \n",
       "\n",
       "           Genre  NA_sales  EU_sales  JP_sales  Other_sales  Critic_Score  \\\n",
       "609      Shooter      2.36      0.14      0.00         0.03           NaN   \n",
       "12182     Sports      0.05      0.02      0.00         0.00           NaN   \n",
       "7100        Misc      0.11      0.09      0.00         0.03           NaN   \n",
       "16385  Adventure      0.00      0.00      0.01         0.00           NaN   \n",
       "12356     Action      0.05      0.01      0.00         0.00           NaN   \n",
       "\n",
       "      User_Score Rating  \n",
       "609          NaN    NaN  \n",
       "12182        tbd      E  \n",
       "7100         NaN    NaN  \n",
       "16385        NaN    NaN  \n",
       "12356        NaN    NaN  "
      ]
     },
     "execution_count": 642,
     "metadata": {},
     "output_type": "execute_result"
    }
   ],
   "source": [
    "dtype = {'Platform': 'category', 'Genre': 'category', 'Rating': 'category'}\n",
    "df = pd.read_csv('https://code.s3.yandex.net/datasets/games.csv', dtype=dtype)\n",
    "df.sample(5, random_state=7)"
   ]
  },
  {
   "cell_type": "markdown",
   "metadata": {},
   "source": [
    "Приведем названия колонок к нижнему регистру.\n"
   ]
  },
  {
   "cell_type": "code",
   "execution_count": 643,
   "metadata": {},
   "outputs": [],
   "source": [
    "df.columns = [col.lower() for col in df.columns]"
   ]
  },
  {
   "cell_type": "markdown",
   "metadata": {},
   "source": [
    "Столбец с оценками пользователей имеет тип object. Это странно. Изучим для начала этот столбец."
   ]
  },
  {
   "cell_type": "code",
   "execution_count": 644,
   "metadata": {},
   "outputs": [
    {
     "data": {
      "text/html": [
       "\n",
       "            <div style=\"display: flex; justify-content: flex-start; align-items: flex-end;\">\n",
       "                <style type=\"text/css\">\n",
       "#T_1c438 caption {\n",
       "  font-size: 16px;\n",
       "  text-align: left;\n",
       "  font-weight: bold;\n",
       "}\n",
       "#T_1c438 th {\n",
       "  min-width: 100px;\n",
       "}\n",
       "#T_1c438  td {\n",
       "  min-width: 100px;\n",
       "}\n",
       "#T_1c438_row0_col0, #T_1c438_row0_col1, #T_1c438_row0_col2, #T_1c438_row0_col3, #T_1c438_row1_col0, #T_1c438_row1_col1, #T_1c438_row1_col2, #T_1c438_row1_col3, #T_1c438_row2_col0, #T_1c438_row2_col1, #T_1c438_row2_col2, #T_1c438_row2_col3, #T_1c438_row3_col0, #T_1c438_row3_col1, #T_1c438_row3_col2, #T_1c438_row3_col3, #T_1c438_row4_col0, #T_1c438_row4_col1, #T_1c438_row4_col2, #T_1c438_row4_col3, #T_1c438_row5_col0, #T_1c438_row5_col1, #T_1c438_row5_col2, #T_1c438_row5_col3, #T_1c438_row6_col0, #T_1c438_row6_col1, #T_1c438_row6_col2, #T_1c438_row6_col3 {\n",
       "  text-align: left;\n",
       "}\n",
       "</style>\n",
       "<table id=\"T_1c438\">\n",
       "  <caption>Статистика и топ-10 значений столбца \"user_score\"</caption>\n",
       "  <thead>\n",
       "  </thead>\n",
       "  <tbody>\n",
       "    <tr>\n",
       "      <td id=\"T_1c438_row0_col0\" class=\"data row0 col0\" >Values</td>\n",
       "      <td id=\"T_1c438_row0_col1\" class=\"data row0 col1\" >10 014 (60%)</td>\n",
       "      <td id=\"T_1c438_row0_col2\" class=\"data row0 col2\" >                              </td>\n",
       "      <td id=\"T_1c438_row0_col3\" class=\"data row0 col3\" >tbd (24%)</td>\n",
       "    </tr>\n",
       "    <tr>\n",
       "      <td id=\"T_1c438_row1_col0\" class=\"data row1 col0\" >Missing</td>\n",
       "      <td id=\"T_1c438_row1_col1\" class=\"data row1 col1\" >6 701 (40%)</td>\n",
       "      <td id=\"T_1c438_row1_col2\" class=\"data row1 col2\" >                              </td>\n",
       "      <td id=\"T_1c438_row1_col3\" class=\"data row1 col3\" >7.8 (3%)</td>\n",
       "    </tr>\n",
       "    <tr>\n",
       "      <td id=\"T_1c438_row2_col0\" class=\"data row2 col0\" >Distinct</td>\n",
       "      <td id=\"T_1c438_row2_col1\" class=\"data row2 col1\" >96 (1%)</td>\n",
       "      <td id=\"T_1c438_row2_col2\" class=\"data row2 col2\" >                              </td>\n",
       "      <td id=\"T_1c438_row2_col3\" class=\"data row2 col3\" >8 (3%)</td>\n",
       "    </tr>\n",
       "    <tr>\n",
       "      <td id=\"T_1c438_row3_col0\" class=\"data row3 col0\" >Duplicated origin</td>\n",
       "      <td id=\"T_1c438_row3_col1\" class=\"data row3 col1\" >16 618 (99.4%)</td>\n",
       "      <td id=\"T_1c438_row3_col2\" class=\"data row3 col2\" >                              </td>\n",
       "      <td id=\"T_1c438_row3_col3\" class=\"data row3 col3\" >8.2 (3%)</td>\n",
       "    </tr>\n",
       "    <tr>\n",
       "      <td id=\"T_1c438_row4_col0\" class=\"data row4 col0\" >Dupl (modify - origin)</td>\n",
       "      <td id=\"T_1c438_row4_col1\" class=\"data row4 col1\" >---</td>\n",
       "      <td id=\"T_1c438_row4_col2\" class=\"data row4 col2\" >                              </td>\n",
       "      <td id=\"T_1c438_row4_col3\" class=\"data row4 col3\" >8.3 (3%)</td>\n",
       "    </tr>\n",
       "    <tr>\n",
       "      <td id=\"T_1c438_row5_col0\" class=\"data row5 col0\" >Empty</td>\n",
       "      <td id=\"T_1c438_row5_col1\" class=\"data row5 col1\" >---</td>\n",
       "      <td id=\"T_1c438_row5_col2\" class=\"data row5 col2\" >                              </td>\n",
       "      <td id=\"T_1c438_row5_col3\" class=\"data row5 col3\" >8.5 (3%)</td>\n",
       "    </tr>\n",
       "    <tr>\n",
       "      <td id=\"T_1c438_row6_col0\" class=\"data row6 col0\" >RAM (Mb)</td>\n",
       "      <td id=\"T_1c438_row6_col1\" class=\"data row6 col1\" >1</td>\n",
       "      <td id=\"T_1c438_row6_col2\" class=\"data row6 col2\" >                              </td>\n",
       "      <td id=\"T_1c438_row6_col3\" class=\"data row6 col3\" >7.5 (3%)</td>\n",
       "    </tr>\n",
       "  </tbody>\n",
       "</table>\n",
       "\n",
       "                <div>\n",
       "                    <img src=\"data:image/png;base64,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\" alt=\"График\"/>\n",
       "                </div>\n",
       "                      \n",
       "            </div>\n",
       "            "
      ],
      "text/plain": [
       "<IPython.core.display.HTML object>"
      ]
     },
     "metadata": {},
     "output_type": "display_data"
    }
   ],
   "source": [
    "gen = pagri_data_tools.info_gen(df, column='user_score', mode='column')\n",
    "gen.next()"
   ]
  },
  {
   "cell_type": "markdown",
   "metadata": {},
   "source": [
    "**Наблюдения:**  \n",
    "\n",
    "- Есть странное значение tbd, которое не является числом. И таких значений 24 %."
   ]
  },
  {
   "cell_type": "markdown",
   "metadata": {},
   "source": [
    "tbd означает \"to be determined\" - \"будет определено позже\"  \n",
    "Так как нам нужен этот столбец в числовом виде, то заменим tbd на na. И зменим тип данных на числовой."
   ]
  },
  {
   "cell_type": "code",
   "execution_count": 645,
   "metadata": {},
   "outputs": [
    {
     "data": {
      "text/plain": [
       "np.int64(6701)"
      ]
     },
     "execution_count": 645,
     "metadata": {},
     "output_type": "execute_result"
    }
   ],
   "source": [
    "df.user_score.isna().sum()"
   ]
  },
  {
   "cell_type": "code",
   "execution_count": 646,
   "metadata": {},
   "outputs": [
    {
     "data": {
      "text/plain": [
       "np.int64(2424)"
      ]
     },
     "execution_count": 646,
     "metadata": {},
     "output_type": "execute_result"
    }
   ],
   "source": [
    "(df.user_score == 'tbd').sum()"
   ]
  },
  {
   "cell_type": "code",
   "execution_count": 647,
   "metadata": {},
   "outputs": [],
   "source": [
    "df['user_score'] = df['user_score'].replace('tbd', pd.NA)\n",
    "df['user_score'] = pd.to_numeric(df['user_score'])"
   ]
  },
  {
   "cell_type": "code",
   "execution_count": 648,
   "metadata": {},
   "outputs": [
    {
     "data": {
      "text/plain": [
       "np.int64(9125)"
      ]
     },
     "execution_count": 648,
     "metadata": {},
     "output_type": "execute_result"
    }
   ],
   "source": [
    "df.user_score.isna().sum()"
   ]
  },
  {
   "cell_type": "code",
   "execution_count": 649,
   "metadata": {},
   "outputs": [
    {
     "data": {
      "text/plain": [
       "np.int64(0)"
      ]
     },
     "execution_count": 649,
     "metadata": {},
     "output_type": "execute_result"
    }
   ],
   "source": [
    "(df.user_score == 'tbd').sum()"
   ]
  },
  {
   "cell_type": "markdown",
   "metadata": {},
   "source": [
    "Изучим каждый столбец отдельно."
   ]
  },
  {
   "cell_type": "code",
   "execution_count": 650,
   "metadata": {},
   "outputs": [
    {
     "data": {
      "text/html": [
       "<style type=\"text/css\">\n",
       "#T_36f2e caption {\n",
       "  font-size: 18px;\n",
       "  text-align: left;\n",
       "  font-weight: bold;\n",
       "}\n",
       "#T_36f2e_row0_col0, #T_36f2e_row0_col1, #T_36f2e_row0_col2, #T_36f2e_row0_col3, #T_36f2e_row0_col4 {\n",
       "  text-align: left;\n",
       "}\n",
       "</style>\n",
       "<table id=\"T_36f2e\">\n",
       "  <caption>DataFrame</caption>\n",
       "  <thead>\n",
       "    <tr>\n",
       "      <th id=\"T_36f2e_level0_col0\" class=\"col_heading level0 col0\" >Rows</th>\n",
       "      <th id=\"T_36f2e_level0_col1\" class=\"col_heading level0 col1\" >Features</th>\n",
       "      <th id=\"T_36f2e_level0_col2\" class=\"col_heading level0 col2\" >RAM (Mb)</th>\n",
       "      <th id=\"T_36f2e_level0_col3\" class=\"col_heading level0 col3\" >Duplicates</th>\n",
       "      <th id=\"T_36f2e_level0_col4\" class=\"col_heading level0 col4\" >Dupl (sub - origin)</th>\n",
       "    </tr>\n",
       "  </thead>\n",
       "  <tbody>\n",
       "    <tr>\n",
       "      <td id=\"T_36f2e_row0_col0\" class=\"data row0 col0\" >16 715</td>\n",
       "      <td id=\"T_36f2e_row0_col1\" class=\"data row0 col1\" >11</td>\n",
       "      <td id=\"T_36f2e_row0_col2\" class=\"data row0 col2\" >2</td>\n",
       "      <td id=\"T_36f2e_row0_col3\" class=\"data row0 col3\" >---</td>\n",
       "      <td id=\"T_36f2e_row0_col4\" class=\"data row0 col4\" >---</td>\n",
       "    </tr>\n",
       "  </tbody>\n",
       "</table>\n"
      ],
      "text/plain": [
       "<pandas.io.formats.style.Styler at 0x7405bd1fab40>"
      ]
     },
     "execution_count": 650,
     "metadata": {},
     "output_type": "execute_result"
    }
   ],
   "source": [
    "gen = pagri_data_tools.info_gen(df)\n",
    "gen.next()"
   ]
  },
  {
   "cell_type": "code",
   "execution_count": 651,
   "metadata": {},
   "outputs": [
    {
     "data": {
      "text/html": [
       "\n",
       "            <div style=\"display: flex; justify-content: flex-start; align-items: flex-end;\">\n",
       "                <style type=\"text/css\">\n",
       "#T_e133b caption {\n",
       "  font-size: 16px;\n",
       "  text-align: left;\n",
       "  font-weight: bold;\n",
       "}\n",
       "#T_e133b_row0_col0, #T_e133b_row0_col1, #T_e133b_row0_col2, #T_e133b_row0_col3, #T_e133b_row0_col4, #T_e133b_row0_col5, #T_e133b_row0_col6, #T_e133b_row0_col7, #T_e133b_row0_col8, #T_e133b_row0_col9, #T_e133b_row1_col0, #T_e133b_row1_col1, #T_e133b_row1_col2, #T_e133b_row1_col3, #T_e133b_row1_col4, #T_e133b_row1_col5, #T_e133b_row1_col6, #T_e133b_row1_col7, #T_e133b_row1_col8, #T_e133b_row1_col9, #T_e133b_row2_col0, #T_e133b_row2_col1, #T_e133b_row2_col2, #T_e133b_row2_col3, #T_e133b_row2_col4, #T_e133b_row2_col5, #T_e133b_row2_col6, #T_e133b_row2_col7, #T_e133b_row2_col8, #T_e133b_row2_col9, #T_e133b_row3_col0, #T_e133b_row3_col1, #T_e133b_row3_col2, #T_e133b_row3_col3, #T_e133b_row3_col4, #T_e133b_row3_col5, #T_e133b_row3_col6, #T_e133b_row3_col7, #T_e133b_row3_col8, #T_e133b_row3_col9, #T_e133b_row4_col0, #T_e133b_row4_col1, #T_e133b_row4_col2, #T_e133b_row4_col3, #T_e133b_row4_col4, #T_e133b_row4_col5, #T_e133b_row4_col6, #T_e133b_row4_col7, #T_e133b_row4_col8, #T_e133b_row4_col9, #T_e133b_row5_col0, #T_e133b_row5_col1, #T_e133b_row5_col2, #T_e133b_row5_col3, #T_e133b_row5_col4, #T_e133b_row5_col5, #T_e133b_row5_col6, #T_e133b_row5_col7, #T_e133b_row5_col8, #T_e133b_row5_col9, #T_e133b_row6_col0, #T_e133b_row6_col1, #T_e133b_row6_col2, #T_e133b_row6_col3, #T_e133b_row6_col4, #T_e133b_row6_col5, #T_e133b_row6_col6, #T_e133b_row6_col7, #T_e133b_row6_col8, #T_e133b_row6_col9 {\n",
       "  text-align: left;\n",
       "}\n",
       "</style>\n",
       "<table id=\"T_e133b\">\n",
       "  <caption>Статистика и гистограмма столбца \"year_of_release\"</caption>\n",
       "  <thead>\n",
       "  </thead>\n",
       "  <tbody>\n",
       "    <tr>\n",
       "      <td id=\"T_e133b_row0_col0\" class=\"data row0 col0\" >Values</td>\n",
       "      <td id=\"T_e133b_row0_col1\" class=\"data row0 col1\" >16 446 (98%)</td>\n",
       "      <td id=\"T_e133b_row0_col2\" class=\"data row0 col2\" >                              </td>\n",
       "      <td id=\"T_e133b_row0_col3\" class=\"data row0 col3\" >Max</td>\n",
       "      <td id=\"T_e133b_row0_col4\" class=\"data row0 col4\" >2 016</td>\n",
       "      <td id=\"T_e133b_row0_col5\" class=\"data row0 col5\" >                              </td>\n",
       "      <td id=\"T_e133b_row0_col6\" class=\"data row0 col6\" >Avg</td>\n",
       "      <td id=\"T_e133b_row0_col7\" class=\"data row0 col7\" >2 006.48</td>\n",
       "      <td id=\"T_e133b_row0_col8\" class=\"data row0 col8\" >                              </td>\n",
       "      <td id=\"T_e133b_row0_col9\" class=\"data row0 col9\" >2 008 (9%)</td>\n",
       "    </tr>\n",
       "    <tr>\n",
       "      <td id=\"T_e133b_row1_col0\" class=\"data row1 col0\" >Missing</td>\n",
       "      <td id=\"T_e133b_row1_col1\" class=\"data row1 col1\" >269 (2%)</td>\n",
       "      <td id=\"T_e133b_row1_col2\" class=\"data row1 col2\" >                              </td>\n",
       "      <td id=\"T_e133b_row1_col3\" class=\"data row1 col3\" >95%</td>\n",
       "      <td id=\"T_e133b_row1_col4\" class=\"data row1 col4\" >2 015</td>\n",
       "      <td id=\"T_e133b_row1_col5\" class=\"data row1 col5\" >                              </td>\n",
       "      <td id=\"T_e133b_row1_col6\" class=\"data row1 col6\" >Mode</td>\n",
       "      <td id=\"T_e133b_row1_col7\" class=\"data row1 col7\" >2 008</td>\n",
       "      <td id=\"T_e133b_row1_col8\" class=\"data row1 col8\" >                              </td>\n",
       "      <td id=\"T_e133b_row1_col9\" class=\"data row1 col9\" >2 009 (9%)</td>\n",
       "    </tr>\n",
       "    <tr>\n",
       "      <td id=\"T_e133b_row2_col0\" class=\"data row2 col0\" >Distinct</td>\n",
       "      <td id=\"T_e133b_row2_col1\" class=\"data row2 col1\" >37 (<1%)</td>\n",
       "      <td id=\"T_e133b_row2_col2\" class=\"data row2 col2\" >                              </td>\n",
       "      <td id=\"T_e133b_row2_col3\" class=\"data row2 col3\" >75%</td>\n",
       "      <td id=\"T_e133b_row2_col4\" class=\"data row2 col4\" >2 010</td>\n",
       "      <td id=\"T_e133b_row2_col5\" class=\"data row2 col5\" >                              </td>\n",
       "      <td id=\"T_e133b_row2_col6\" class=\"data row2 col6\" >Range</td>\n",
       "      <td id=\"T_e133b_row2_col7\" class=\"data row2 col7\" >36</td>\n",
       "      <td id=\"T_e133b_row2_col8\" class=\"data row2 col8\" >                              </td>\n",
       "      <td id=\"T_e133b_row2_col9\" class=\"data row2 col9\" >2 010 (8%)</td>\n",
       "    </tr>\n",
       "    <tr>\n",
       "      <td id=\"T_e133b_row3_col0\" class=\"data row3 col0\" >Duplicates</td>\n",
       "      <td id=\"T_e133b_row3_col1\" class=\"data row3 col1\" >16 677 (99.8%)</td>\n",
       "      <td id=\"T_e133b_row3_col2\" class=\"data row3 col2\" >                              </td>\n",
       "      <td id=\"T_e133b_row3_col3\" class=\"data row3 col3\" >Median</td>\n",
       "      <td id=\"T_e133b_row3_col4\" class=\"data row3 col4\" >2 007</td>\n",
       "      <td id=\"T_e133b_row3_col5\" class=\"data row3 col5\" >                              </td>\n",
       "      <td id=\"T_e133b_row3_col6\" class=\"data row3 col6\" >iQR</td>\n",
       "      <td id=\"T_e133b_row3_col7\" class=\"data row3 col7\" >7</td>\n",
       "      <td id=\"T_e133b_row3_col8\" class=\"data row3 col8\" >                              </td>\n",
       "      <td id=\"T_e133b_row3_col9\" class=\"data row3 col9\" >2 007 (7%)</td>\n",
       "    </tr>\n",
       "    <tr>\n",
       "      <td id=\"T_e133b_row4_col0\" class=\"data row4 col0\" >Zeros</td>\n",
       "      <td id=\"T_e133b_row4_col1\" class=\"data row4 col1\" >---</td>\n",
       "      <td id=\"T_e133b_row4_col2\" class=\"data row4 col2\" >                              </td>\n",
       "      <td id=\"T_e133b_row4_col3\" class=\"data row4 col3\" >25%</td>\n",
       "      <td id=\"T_e133b_row4_col4\" class=\"data row4 col4\" >2 003</td>\n",
       "      <td id=\"T_e133b_row4_col5\" class=\"data row4 col5\" >                              </td>\n",
       "      <td id=\"T_e133b_row4_col6\" class=\"data row4 col6\" >std</td>\n",
       "      <td id=\"T_e133b_row4_col7\" class=\"data row4 col7\" >5.88</td>\n",
       "      <td id=\"T_e133b_row4_col8\" class=\"data row4 col8\" >                              </td>\n",
       "      <td id=\"T_e133b_row4_col9\" class=\"data row4 col9\" >2 011 (7%)</td>\n",
       "    </tr>\n",
       "    <tr>\n",
       "      <td id=\"T_e133b_row5_col0\" class=\"data row5 col0\" >Negative</td>\n",
       "      <td id=\"T_e133b_row5_col1\" class=\"data row5 col1\" >---</td>\n",
       "      <td id=\"T_e133b_row5_col2\" class=\"data row5 col2\" >                              </td>\n",
       "      <td id=\"T_e133b_row5_col3\" class=\"data row5 col3\" >5%</td>\n",
       "      <td id=\"T_e133b_row5_col4\" class=\"data row5 col4\" >1 996</td>\n",
       "      <td id=\"T_e133b_row5_col5\" class=\"data row5 col5\" >                              </td>\n",
       "      <td id=\"T_e133b_row5_col6\" class=\"data row5 col6\" >kurt</td>\n",
       "      <td id=\"T_e133b_row5_col7\" class=\"data row5 col7\" >1.77</td>\n",
       "      <td id=\"T_e133b_row5_col8\" class=\"data row5 col8\" >                              </td>\n",
       "      <td id=\"T_e133b_row5_col9\" class=\"data row5 col9\" >2 006 (6%)</td>\n",
       "    </tr>\n",
       "    <tr>\n",
       "      <td id=\"T_e133b_row6_col0\" class=\"data row6 col0\" >RAM (Mb)</td>\n",
       "      <td id=\"T_e133b_row6_col1\" class=\"data row6 col1\" ><1 Mb</td>\n",
       "      <td id=\"T_e133b_row6_col2\" class=\"data row6 col2\" >                              </td>\n",
       "      <td id=\"T_e133b_row6_col3\" class=\"data row6 col3\" >Min</td>\n",
       "      <td id=\"T_e133b_row6_col4\" class=\"data row6 col4\" >1 980</td>\n",
       "      <td id=\"T_e133b_row6_col5\" class=\"data row6 col5\" >                              </td>\n",
       "      <td id=\"T_e133b_row6_col6\" class=\"data row6 col6\" >skew</td>\n",
       "      <td id=\"T_e133b_row6_col7\" class=\"data row6 col7\" >-0.97</td>\n",
       "      <td id=\"T_e133b_row6_col8\" class=\"data row6 col8\" >                              </td>\n",
       "      <td id=\"T_e133b_row6_col9\" class=\"data row6 col9\" >2 005 (6%)</td>\n",
       "    </tr>\n",
       "  </tbody>\n",
       "</table>\n",
       "\n",
       "                <div>\n",
       "                    <img src=\"data:image/png;base64,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\" alt=\"График\"/>\n",
       "                </div>\n",
       "                      \n",
       "            </div>\n",
       "            "
      ],
      "text/plain": [
       "<IPython.core.display.HTML object>"
      ]
     },
     "metadata": {},
     "output_type": "display_data"
    }
   ],
   "source": [
    "gen.next()"
   ]
  },
  {
   "cell_type": "markdown",
   "metadata": {},
   "source": [
    "**Наблюдения:**  \n",
    "\n",
    "- Игры имеют год выпуска от 1980 до 2016 года.\n",
    "- Основная часть игр имеет год выпуска от 2003 до 2010 года.\n",
    "- Больше всего игр 2008 года.\n",
    "- В столбце с годом выпуска 2 % пропусков."
   ]
  },
  {
   "cell_type": "code",
   "execution_count": 652,
   "metadata": {},
   "outputs": [
    {
     "data": {
      "text/html": [
       "\n",
       "            <div style=\"display: flex; justify-content: flex-start; align-items: flex-end;\">\n",
       "                <style type=\"text/css\">\n",
       "#T_c5038 caption {\n",
       "  font-size: 16px;\n",
       "  text-align: left;\n",
       "  font-weight: bold;\n",
       "}\n",
       "#T_c5038_row0_col0, #T_c5038_row0_col1, #T_c5038_row0_col2, #T_c5038_row0_col3, #T_c5038_row0_col4, #T_c5038_row0_col5, #T_c5038_row0_col6, #T_c5038_row0_col7, #T_c5038_row0_col8, #T_c5038_row0_col9, #T_c5038_row1_col0, #T_c5038_row1_col1, #T_c5038_row1_col2, #T_c5038_row1_col3, #T_c5038_row1_col4, #T_c5038_row1_col5, #T_c5038_row1_col6, #T_c5038_row1_col7, #T_c5038_row1_col8, #T_c5038_row1_col9, #T_c5038_row2_col0, #T_c5038_row2_col1, #T_c5038_row2_col2, #T_c5038_row2_col3, #T_c5038_row2_col4, #T_c5038_row2_col5, #T_c5038_row2_col6, #T_c5038_row2_col7, #T_c5038_row2_col8, #T_c5038_row2_col9, #T_c5038_row3_col0, #T_c5038_row3_col1, #T_c5038_row3_col2, #T_c5038_row3_col3, #T_c5038_row3_col4, #T_c5038_row3_col5, #T_c5038_row3_col6, #T_c5038_row3_col7, #T_c5038_row3_col8, #T_c5038_row3_col9, #T_c5038_row4_col0, #T_c5038_row4_col1, #T_c5038_row4_col2, #T_c5038_row4_col3, #T_c5038_row4_col4, #T_c5038_row4_col5, #T_c5038_row4_col6, #T_c5038_row4_col7, #T_c5038_row4_col8, #T_c5038_row4_col9, #T_c5038_row5_col0, #T_c5038_row5_col1, #T_c5038_row5_col2, #T_c5038_row5_col3, #T_c5038_row5_col4, #T_c5038_row5_col5, #T_c5038_row5_col6, #T_c5038_row5_col7, #T_c5038_row5_col8, #T_c5038_row5_col9, #T_c5038_row6_col0, #T_c5038_row6_col1, #T_c5038_row6_col2, #T_c5038_row6_col3, #T_c5038_row6_col4, #T_c5038_row6_col5, #T_c5038_row6_col6, #T_c5038_row6_col7, #T_c5038_row6_col8, #T_c5038_row6_col9 {\n",
       "  text-align: left;\n",
       "}\n",
       "</style>\n",
       "<table id=\"T_c5038\">\n",
       "  <caption>Статистика и гистограмма столбца \"na_sales\"</caption>\n",
       "  <thead>\n",
       "  </thead>\n",
       "  <tbody>\n",
       "    <tr>\n",
       "      <td id=\"T_c5038_row0_col0\" class=\"data row0 col0\" >Values</td>\n",
       "      <td id=\"T_c5038_row0_col1\" class=\"data row0 col1\" >16 715 (100%)</td>\n",
       "      <td id=\"T_c5038_row0_col2\" class=\"data row0 col2\" >                              </td>\n",
       "      <td id=\"T_c5038_row0_col3\" class=\"data row0 col3\" >Max</td>\n",
       "      <td id=\"T_c5038_row0_col4\" class=\"data row0 col4\" >41.36</td>\n",
       "      <td id=\"T_c5038_row0_col5\" class=\"data row0 col5\" >                              </td>\n",
       "      <td id=\"T_c5038_row0_col6\" class=\"data row0 col6\" >Avg</td>\n",
       "      <td id=\"T_c5038_row0_col7\" class=\"data row0 col7\" >0.26</td>\n",
       "      <td id=\"T_c5038_row0_col8\" class=\"data row0 col8\" >                              </td>\n",
       "      <td id=\"T_c5038_row0_col9\" class=\"data row0 col9\" >0 (27%)</td>\n",
       "    </tr>\n",
       "    <tr>\n",
       "      <td id=\"T_c5038_row1_col0\" class=\"data row1 col0\" >Missing</td>\n",
       "      <td id=\"T_c5038_row1_col1\" class=\"data row1 col1\" >---</td>\n",
       "      <td id=\"T_c5038_row1_col2\" class=\"data row1 col2\" >                              </td>\n",
       "      <td id=\"T_c5038_row1_col3\" class=\"data row1 col3\" >95%</td>\n",
       "      <td id=\"T_c5038_row1_col4\" class=\"data row1 col4\" >1.06</td>\n",
       "      <td id=\"T_c5038_row1_col5\" class=\"data row1 col5\" >                              </td>\n",
       "      <td id=\"T_c5038_row1_col6\" class=\"data row1 col6\" >Mode</td>\n",
       "      <td id=\"T_c5038_row1_col7\" class=\"data row1 col7\" >0</td>\n",
       "      <td id=\"T_c5038_row1_col8\" class=\"data row1 col8\" >                              </td>\n",
       "      <td id=\"T_c5038_row1_col9\" class=\"data row1 col9\" >0.02 (3%)</td>\n",
       "    </tr>\n",
       "    <tr>\n",
       "      <td id=\"T_c5038_row2_col0\" class=\"data row2 col0\" >Distinct</td>\n",
       "      <td id=\"T_c5038_row2_col1\" class=\"data row2 col1\" >402 (2%)</td>\n",
       "      <td id=\"T_c5038_row2_col2\" class=\"data row2 col2\" >                              </td>\n",
       "      <td id=\"T_c5038_row2_col3\" class=\"data row2 col3\" >75%</td>\n",
       "      <td id=\"T_c5038_row2_col4\" class=\"data row2 col4\" >0.24</td>\n",
       "      <td id=\"T_c5038_row2_col5\" class=\"data row2 col5\" >                              </td>\n",
       "      <td id=\"T_c5038_row2_col6\" class=\"data row2 col6\" >Range</td>\n",
       "      <td id=\"T_c5038_row2_col7\" class=\"data row2 col7\" >41.36</td>\n",
       "      <td id=\"T_c5038_row2_col8\" class=\"data row2 col8\" >                              </td>\n",
       "      <td id=\"T_c5038_row2_col9\" class=\"data row2 col9\" >0.03 (3%)</td>\n",
       "    </tr>\n",
       "    <tr>\n",
       "      <td id=\"T_c5038_row3_col0\" class=\"data row3 col0\" >Duplicates</td>\n",
       "      <td id=\"T_c5038_row3_col1\" class=\"data row3 col1\" >16 313 (98%)</td>\n",
       "      <td id=\"T_c5038_row3_col2\" class=\"data row3 col2\" >                              </td>\n",
       "      <td id=\"T_c5038_row3_col3\" class=\"data row3 col3\" >Median</td>\n",
       "      <td id=\"T_c5038_row3_col4\" class=\"data row3 col4\" >0.08</td>\n",
       "      <td id=\"T_c5038_row3_col5\" class=\"data row3 col5\" >                              </td>\n",
       "      <td id=\"T_c5038_row3_col6\" class=\"data row3 col6\" >iQR</td>\n",
       "      <td id=\"T_c5038_row3_col7\" class=\"data row3 col7\" >0.24</td>\n",
       "      <td id=\"T_c5038_row3_col8\" class=\"data row3 col8\" >                              </td>\n",
       "      <td id=\"T_c5038_row3_col9\" class=\"data row3 col9\" >0.04 (3%)</td>\n",
       "    </tr>\n",
       "    <tr>\n",
       "      <td id=\"T_c5038_row4_col0\" class=\"data row4 col0\" >Zeros</td>\n",
       "      <td id=\"T_c5038_row4_col1\" class=\"data row4 col1\" >4 508 (27%)</td>\n",
       "      <td id=\"T_c5038_row4_col2\" class=\"data row4 col2\" >                              </td>\n",
       "      <td id=\"T_c5038_row4_col3\" class=\"data row4 col3\" >25%</td>\n",
       "      <td id=\"T_c5038_row4_col4\" class=\"data row4 col4\" >0</td>\n",
       "      <td id=\"T_c5038_row4_col5\" class=\"data row4 col5\" >                              </td>\n",
       "      <td id=\"T_c5038_row4_col6\" class=\"data row4 col6\" >std</td>\n",
       "      <td id=\"T_c5038_row4_col7\" class=\"data row4 col7\" >0.81</td>\n",
       "      <td id=\"T_c5038_row4_col8\" class=\"data row4 col8\" >                              </td>\n",
       "      <td id=\"T_c5038_row4_col9\" class=\"data row4 col9\" >0.01 (3%)</td>\n",
       "    </tr>\n",
       "    <tr>\n",
       "      <td id=\"T_c5038_row5_col0\" class=\"data row5 col0\" >Negative</td>\n",
       "      <td id=\"T_c5038_row5_col1\" class=\"data row5 col1\" >---</td>\n",
       "      <td id=\"T_c5038_row5_col2\" class=\"data row5 col2\" >                              </td>\n",
       "      <td id=\"T_c5038_row5_col3\" class=\"data row5 col3\" >5%</td>\n",
       "      <td id=\"T_c5038_row5_col4\" class=\"data row5 col4\" >0</td>\n",
       "      <td id=\"T_c5038_row5_col5\" class=\"data row5 col5\" >                              </td>\n",
       "      <td id=\"T_c5038_row5_col6\" class=\"data row5 col6\" >kurt</td>\n",
       "      <td id=\"T_c5038_row5_col7\" class=\"data row5 col7\" >648.57</td>\n",
       "      <td id=\"T_c5038_row5_col8\" class=\"data row5 col8\" >                              </td>\n",
       "      <td id=\"T_c5038_row5_col9\" class=\"data row5 col9\" >0.05 (3%)</td>\n",
       "    </tr>\n",
       "    <tr>\n",
       "      <td id=\"T_c5038_row6_col0\" class=\"data row6 col0\" >RAM (Mb)</td>\n",
       "      <td id=\"T_c5038_row6_col1\" class=\"data row6 col1\" ><1 Mb</td>\n",
       "      <td id=\"T_c5038_row6_col2\" class=\"data row6 col2\" >                              </td>\n",
       "      <td id=\"T_c5038_row6_col3\" class=\"data row6 col3\" >Min</td>\n",
       "      <td id=\"T_c5038_row6_col4\" class=\"data row6 col4\" >0</td>\n",
       "      <td id=\"T_c5038_row6_col5\" class=\"data row6 col5\" >                              </td>\n",
       "      <td id=\"T_c5038_row6_col6\" class=\"data row6 col6\" >skew</td>\n",
       "      <td id=\"T_c5038_row6_col7\" class=\"data row6 col7\" >18.77</td>\n",
       "      <td id=\"T_c5038_row6_col8\" class=\"data row6 col8\" >                              </td>\n",
       "      <td id=\"T_c5038_row6_col9\" class=\"data row6 col9\" >0.06 (3%)</td>\n",
       "    </tr>\n",
       "  </tbody>\n",
       "</table>\n",
       "\n",
       "                <div>\n",
       "                    <img src=\"data:image/png;base64,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\" alt=\"График\"/>\n",
       "                </div>\n",
       "            \n",
       "                <div>\n",
       "                    <img src=\"data:image/png;base64,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\" alt=\"График\"/>\n",
       "                </div>            \n",
       "            </div>\n",
       "            "
      ],
      "text/plain": [
       "<IPython.core.display.HTML object>"
      ]
     },
     "metadata": {},
     "output_type": "display_data"
    }
   ],
   "source": [
    "gen.next('dual')"
   ]
  },
  {
   "cell_type": "markdown",
   "metadata": {},
   "source": [
    "**Наблюдения:**  \n",
    "\n",
    "- В столбце с продажами в Северной Америке есть нули (27%). По видимому для этих игр не было продаж в Северной Америке.\n",
    "- Количество проданных игр в Северной Америке лежит в диапазоне от 0 до 41.36 млн.\n",
    "- В основном количество проданных игр в Северной Америке находится в диапазоне от 0 до 0.24 млн."
   ]
  },
  {
   "cell_type": "code",
   "execution_count": 653,
   "metadata": {},
   "outputs": [
    {
     "data": {
      "text/html": [
       "\n",
       "            <div style=\"display: flex; justify-content: flex-start; align-items: flex-end;\">\n",
       "                <style type=\"text/css\">\n",
       "#T_ba8b7 caption {\n",
       "  font-size: 16px;\n",
       "  text-align: left;\n",
       "  font-weight: bold;\n",
       "}\n",
       "#T_ba8b7_row0_col0, #T_ba8b7_row0_col1, #T_ba8b7_row0_col2, #T_ba8b7_row0_col3, #T_ba8b7_row0_col4, #T_ba8b7_row0_col5, #T_ba8b7_row0_col6, #T_ba8b7_row0_col7, #T_ba8b7_row0_col8, #T_ba8b7_row0_col9, #T_ba8b7_row1_col0, #T_ba8b7_row1_col1, #T_ba8b7_row1_col2, #T_ba8b7_row1_col3, #T_ba8b7_row1_col4, #T_ba8b7_row1_col5, #T_ba8b7_row1_col6, #T_ba8b7_row1_col7, #T_ba8b7_row1_col8, #T_ba8b7_row1_col9, #T_ba8b7_row2_col0, #T_ba8b7_row2_col1, #T_ba8b7_row2_col2, #T_ba8b7_row2_col3, #T_ba8b7_row2_col4, #T_ba8b7_row2_col5, #T_ba8b7_row2_col6, #T_ba8b7_row2_col7, #T_ba8b7_row2_col8, #T_ba8b7_row2_col9, #T_ba8b7_row3_col0, #T_ba8b7_row3_col1, #T_ba8b7_row3_col2, #T_ba8b7_row3_col3, #T_ba8b7_row3_col4, #T_ba8b7_row3_col5, #T_ba8b7_row3_col6, #T_ba8b7_row3_col7, #T_ba8b7_row3_col8, #T_ba8b7_row3_col9, #T_ba8b7_row4_col0, #T_ba8b7_row4_col1, #T_ba8b7_row4_col2, #T_ba8b7_row4_col3, #T_ba8b7_row4_col4, #T_ba8b7_row4_col5, #T_ba8b7_row4_col6, #T_ba8b7_row4_col7, #T_ba8b7_row4_col8, #T_ba8b7_row4_col9, #T_ba8b7_row5_col0, #T_ba8b7_row5_col1, #T_ba8b7_row5_col2, #T_ba8b7_row5_col3, #T_ba8b7_row5_col4, #T_ba8b7_row5_col5, #T_ba8b7_row5_col6, #T_ba8b7_row5_col7, #T_ba8b7_row5_col8, #T_ba8b7_row5_col9, #T_ba8b7_row6_col0, #T_ba8b7_row6_col1, #T_ba8b7_row6_col2, #T_ba8b7_row6_col3, #T_ba8b7_row6_col4, #T_ba8b7_row6_col5, #T_ba8b7_row6_col6, #T_ba8b7_row6_col7, #T_ba8b7_row6_col8, #T_ba8b7_row6_col9 {\n",
       "  text-align: left;\n",
       "}\n",
       "</style>\n",
       "<table id=\"T_ba8b7\">\n",
       "  <caption>Статистика и гистограмма столбца \"eu_sales\"</caption>\n",
       "  <thead>\n",
       "  </thead>\n",
       "  <tbody>\n",
       "    <tr>\n",
       "      <td id=\"T_ba8b7_row0_col0\" class=\"data row0 col0\" >Values</td>\n",
       "      <td id=\"T_ba8b7_row0_col1\" class=\"data row0 col1\" >16 715 (100%)</td>\n",
       "      <td id=\"T_ba8b7_row0_col2\" class=\"data row0 col2\" >                              </td>\n",
       "      <td id=\"T_ba8b7_row0_col3\" class=\"data row0 col3\" >Max</td>\n",
       "      <td id=\"T_ba8b7_row0_col4\" class=\"data row0 col4\" >28.96</td>\n",
       "      <td id=\"T_ba8b7_row0_col5\" class=\"data row0 col5\" >                              </td>\n",
       "      <td id=\"T_ba8b7_row0_col6\" class=\"data row0 col6\" >Avg</td>\n",
       "      <td id=\"T_ba8b7_row0_col7\" class=\"data row0 col7\" >0.15</td>\n",
       "      <td id=\"T_ba8b7_row0_col8\" class=\"data row0 col8\" >                              </td>\n",
       "      <td id=\"T_ba8b7_row0_col9\" class=\"data row0 col9\" >0 (35%)</td>\n",
       "    </tr>\n",
       "    <tr>\n",
       "      <td id=\"T_ba8b7_row1_col0\" class=\"data row1 col0\" >Missing</td>\n",
       "      <td id=\"T_ba8b7_row1_col1\" class=\"data row1 col1\" >---</td>\n",
       "      <td id=\"T_ba8b7_row1_col2\" class=\"data row1 col2\" >                              </td>\n",
       "      <td id=\"T_ba8b7_row1_col3\" class=\"data row1 col3\" >95%</td>\n",
       "      <td id=\"T_ba8b7_row1_col4\" class=\"data row1 col4\" >0.62</td>\n",
       "      <td id=\"T_ba8b7_row1_col5\" class=\"data row1 col5\" >                              </td>\n",
       "      <td id=\"T_ba8b7_row1_col6\" class=\"data row1 col6\" >Mode</td>\n",
       "      <td id=\"T_ba8b7_row1_col7\" class=\"data row1 col7\" >0</td>\n",
       "      <td id=\"T_ba8b7_row1_col8\" class=\"data row1 col8\" >                              </td>\n",
       "      <td id=\"T_ba8b7_row1_col9\" class=\"data row1 col9\" >0.01 (9%)</td>\n",
       "    </tr>\n",
       "    <tr>\n",
       "      <td id=\"T_ba8b7_row2_col0\" class=\"data row2 col0\" >Distinct</td>\n",
       "      <td id=\"T_ba8b7_row2_col1\" class=\"data row2 col1\" >307 (2%)</td>\n",
       "      <td id=\"T_ba8b7_row2_col2\" class=\"data row2 col2\" >                              </td>\n",
       "      <td id=\"T_ba8b7_row2_col3\" class=\"data row2 col3\" >75%</td>\n",
       "      <td id=\"T_ba8b7_row2_col4\" class=\"data row2 col4\" >0.11</td>\n",
       "      <td id=\"T_ba8b7_row2_col5\" class=\"data row2 col5\" >                              </td>\n",
       "      <td id=\"T_ba8b7_row2_col6\" class=\"data row2 col6\" >Range</td>\n",
       "      <td id=\"T_ba8b7_row2_col7\" class=\"data row2 col7\" >28.96</td>\n",
       "      <td id=\"T_ba8b7_row2_col8\" class=\"data row2 col8\" >                              </td>\n",
       "      <td id=\"T_ba8b7_row2_col9\" class=\"data row2 col9\" >0.02 (8%)</td>\n",
       "    </tr>\n",
       "    <tr>\n",
       "      <td id=\"T_ba8b7_row3_col0\" class=\"data row3 col0\" >Duplicates</td>\n",
       "      <td id=\"T_ba8b7_row3_col1\" class=\"data row3 col1\" >16 408 (98%)</td>\n",
       "      <td id=\"T_ba8b7_row3_col2\" class=\"data row3 col2\" >                              </td>\n",
       "      <td id=\"T_ba8b7_row3_col3\" class=\"data row3 col3\" >Median</td>\n",
       "      <td id=\"T_ba8b7_row3_col4\" class=\"data row3 col4\" >0.02</td>\n",
       "      <td id=\"T_ba8b7_row3_col5\" class=\"data row3 col5\" >                              </td>\n",
       "      <td id=\"T_ba8b7_row3_col6\" class=\"data row3 col6\" >iQR</td>\n",
       "      <td id=\"T_ba8b7_row3_col7\" class=\"data row3 col7\" >0.11</td>\n",
       "      <td id=\"T_ba8b7_row3_col8\" class=\"data row3 col8\" >                              </td>\n",
       "      <td id=\"T_ba8b7_row3_col9\" class=\"data row3 col9\" >0.03 (6%)</td>\n",
       "    </tr>\n",
       "    <tr>\n",
       "      <td id=\"T_ba8b7_row4_col0\" class=\"data row4 col0\" >Zeros</td>\n",
       "      <td id=\"T_ba8b7_row4_col1\" class=\"data row4 col1\" >5 870 (35%)</td>\n",
       "      <td id=\"T_ba8b7_row4_col2\" class=\"data row4 col2\" >                              </td>\n",
       "      <td id=\"T_ba8b7_row4_col3\" class=\"data row4 col3\" >25%</td>\n",
       "      <td id=\"T_ba8b7_row4_col4\" class=\"data row4 col4\" >0</td>\n",
       "      <td id=\"T_ba8b7_row4_col5\" class=\"data row4 col5\" >                              </td>\n",
       "      <td id=\"T_ba8b7_row4_col6\" class=\"data row4 col6\" >std</td>\n",
       "      <td id=\"T_ba8b7_row4_col7\" class=\"data row4 col7\" >0.5</td>\n",
       "      <td id=\"T_ba8b7_row4_col8\" class=\"data row4 col8\" >                              </td>\n",
       "      <td id=\"T_ba8b7_row4_col9\" class=\"data row4 col9\" >0.04 (4%)</td>\n",
       "    </tr>\n",
       "    <tr>\n",
       "      <td id=\"T_ba8b7_row5_col0\" class=\"data row5 col0\" >Negative</td>\n",
       "      <td id=\"T_ba8b7_row5_col1\" class=\"data row5 col1\" >---</td>\n",
       "      <td id=\"T_ba8b7_row5_col2\" class=\"data row5 col2\" >                              </td>\n",
       "      <td id=\"T_ba8b7_row5_col3\" class=\"data row5 col3\" >5%</td>\n",
       "      <td id=\"T_ba8b7_row5_col4\" class=\"data row5 col4\" >0</td>\n",
       "      <td id=\"T_ba8b7_row5_col5\" class=\"data row5 col5\" >                              </td>\n",
       "      <td id=\"T_ba8b7_row5_col6\" class=\"data row5 col6\" >kurt</td>\n",
       "      <td id=\"T_ba8b7_row5_col7\" class=\"data row5 col7\" >755.52</td>\n",
       "      <td id=\"T_ba8b7_row5_col8\" class=\"data row5 col8\" >                              </td>\n",
       "      <td id=\"T_ba8b7_row5_col9\" class=\"data row5 col9\" >0.05 (3%)</td>\n",
       "    </tr>\n",
       "    <tr>\n",
       "      <td id=\"T_ba8b7_row6_col0\" class=\"data row6 col0\" >RAM (Mb)</td>\n",
       "      <td id=\"T_ba8b7_row6_col1\" class=\"data row6 col1\" ><1 Mb</td>\n",
       "      <td id=\"T_ba8b7_row6_col2\" class=\"data row6 col2\" >                              </td>\n",
       "      <td id=\"T_ba8b7_row6_col3\" class=\"data row6 col3\" >Min</td>\n",
       "      <td id=\"T_ba8b7_row6_col4\" class=\"data row6 col4\" >0</td>\n",
       "      <td id=\"T_ba8b7_row6_col5\" class=\"data row6 col5\" >                              </td>\n",
       "      <td id=\"T_ba8b7_row6_col6\" class=\"data row6 col6\" >skew</td>\n",
       "      <td id=\"T_ba8b7_row6_col7\" class=\"data row6 col7\" >18.85</td>\n",
       "      <td id=\"T_ba8b7_row6_col8\" class=\"data row6 col8\" >                              </td>\n",
       "      <td id=\"T_ba8b7_row6_col9\" class=\"data row6 col9\" >0.06 (2%)</td>\n",
       "    </tr>\n",
       "  </tbody>\n",
       "</table>\n",
       "\n",
       "                <div>\n",
       "                    <img src=\"data:image/png;base64,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\" alt=\"График\"/>\n",
       "                </div>\n",
       "            \n",
       "                <div>\n",
       "                    <img src=\"data:image/png;base64,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\" alt=\"График\"/>\n",
       "                </div>            \n",
       "            </div>\n",
       "            "
      ],
      "text/plain": [
       "<IPython.core.display.HTML object>"
      ]
     },
     "metadata": {},
     "output_type": "display_data"
    }
   ],
   "source": [
    "gen.next('dual')"
   ]
  },
  {
   "cell_type": "markdown",
   "metadata": {},
   "source": [
    "**Наблюдения:**  \n",
    "\n",
    "- В столбце с продажами в Европе есть нули (35%). По видимому для этих игр не было продаж в Европе.\n",
    "- Количество проданных игр в Европе лежит в диапазоне от 0 до 28.96 млн.\n",
    "- В основном количество проданных игр в Европе находится в диапазоне от 0 до 0.11 млн."
   ]
  },
  {
   "cell_type": "code",
   "execution_count": 654,
   "metadata": {},
   "outputs": [
    {
     "data": {
      "text/html": [
       "\n",
       "            <div style=\"display: flex; justify-content: flex-start; align-items: flex-end;\">\n",
       "                <style type=\"text/css\">\n",
       "#T_90766 caption {\n",
       "  font-size: 16px;\n",
       "  text-align: left;\n",
       "  font-weight: bold;\n",
       "}\n",
       "#T_90766_row0_col0, #T_90766_row0_col1, #T_90766_row0_col2, #T_90766_row0_col3, #T_90766_row0_col4, #T_90766_row0_col5, #T_90766_row0_col6, #T_90766_row0_col7, #T_90766_row0_col8, #T_90766_row0_col9, #T_90766_row1_col0, #T_90766_row1_col1, #T_90766_row1_col2, #T_90766_row1_col3, #T_90766_row1_col4, #T_90766_row1_col5, #T_90766_row1_col6, #T_90766_row1_col7, #T_90766_row1_col8, #T_90766_row1_col9, #T_90766_row2_col0, #T_90766_row2_col1, #T_90766_row2_col2, #T_90766_row2_col3, #T_90766_row2_col4, #T_90766_row2_col5, #T_90766_row2_col6, #T_90766_row2_col7, #T_90766_row2_col8, #T_90766_row2_col9, #T_90766_row3_col0, #T_90766_row3_col1, #T_90766_row3_col2, #T_90766_row3_col3, #T_90766_row3_col4, #T_90766_row3_col5, #T_90766_row3_col6, #T_90766_row3_col7, #T_90766_row3_col8, #T_90766_row3_col9, #T_90766_row4_col0, #T_90766_row4_col1, #T_90766_row4_col2, #T_90766_row4_col3, #T_90766_row4_col4, #T_90766_row4_col5, #T_90766_row4_col6, #T_90766_row4_col7, #T_90766_row4_col8, #T_90766_row4_col9, #T_90766_row5_col0, #T_90766_row5_col1, #T_90766_row5_col2, #T_90766_row5_col3, #T_90766_row5_col4, #T_90766_row5_col5, #T_90766_row5_col6, #T_90766_row5_col7, #T_90766_row5_col8, #T_90766_row5_col9, #T_90766_row6_col0, #T_90766_row6_col1, #T_90766_row6_col2, #T_90766_row6_col3, #T_90766_row6_col4, #T_90766_row6_col5, #T_90766_row6_col6, #T_90766_row6_col7, #T_90766_row6_col8, #T_90766_row6_col9 {\n",
       "  text-align: left;\n",
       "}\n",
       "</style>\n",
       "<table id=\"T_90766\">\n",
       "  <caption>Статистика и гистограмма столбца \"jp_sales\"</caption>\n",
       "  <thead>\n",
       "  </thead>\n",
       "  <tbody>\n",
       "    <tr>\n",
       "      <td id=\"T_90766_row0_col0\" class=\"data row0 col0\" >Values</td>\n",
       "      <td id=\"T_90766_row0_col1\" class=\"data row0 col1\" >16 715 (100%)</td>\n",
       "      <td id=\"T_90766_row0_col2\" class=\"data row0 col2\" >                              </td>\n",
       "      <td id=\"T_90766_row0_col3\" class=\"data row0 col3\" >Max</td>\n",
       "      <td id=\"T_90766_row0_col4\" class=\"data row0 col4\" >10.22</td>\n",
       "      <td id=\"T_90766_row0_col5\" class=\"data row0 col5\" >                              </td>\n",
       "      <td id=\"T_90766_row0_col6\" class=\"data row0 col6\" >Avg</td>\n",
       "      <td id=\"T_90766_row0_col7\" class=\"data row0 col7\" >0.08</td>\n",
       "      <td id=\"T_90766_row0_col8\" class=\"data row0 col8\" >                              </td>\n",
       "      <td id=\"T_90766_row0_col9\" class=\"data row0 col9\" >0 (63%)</td>\n",
       "    </tr>\n",
       "    <tr>\n",
       "      <td id=\"T_90766_row1_col0\" class=\"data row1 col0\" >Missing</td>\n",
       "      <td id=\"T_90766_row1_col1\" class=\"data row1 col1\" >---</td>\n",
       "      <td id=\"T_90766_row1_col2\" class=\"data row1 col2\" >                              </td>\n",
       "      <td id=\"T_90766_row1_col3\" class=\"data row1 col3\" >95%</td>\n",
       "      <td id=\"T_90766_row1_col4\" class=\"data row1 col4\" >0.36</td>\n",
       "      <td id=\"T_90766_row1_col5\" class=\"data row1 col5\" >                              </td>\n",
       "      <td id=\"T_90766_row1_col6\" class=\"data row1 col6\" >Mode</td>\n",
       "      <td id=\"T_90766_row1_col7\" class=\"data row1 col7\" >0</td>\n",
       "      <td id=\"T_90766_row1_col8\" class=\"data row1 col8\" >                              </td>\n",
       "      <td id=\"T_90766_row1_col9\" class=\"data row1 col9\" >0.02 (4%)</td>\n",
       "    </tr>\n",
       "    <tr>\n",
       "      <td id=\"T_90766_row2_col0\" class=\"data row2 col0\" >Distinct</td>\n",
       "      <td id=\"T_90766_row2_col1\" class=\"data row2 col1\" >244 (1%)</td>\n",
       "      <td id=\"T_90766_row2_col2\" class=\"data row2 col2\" >                              </td>\n",
       "      <td id=\"T_90766_row2_col3\" class=\"data row2 col3\" >75%</td>\n",
       "      <td id=\"T_90766_row2_col4\" class=\"data row2 col4\" >0.04</td>\n",
       "      <td id=\"T_90766_row2_col5\" class=\"data row2 col5\" >                              </td>\n",
       "      <td id=\"T_90766_row2_col6\" class=\"data row2 col6\" >Range</td>\n",
       "      <td id=\"T_90766_row2_col7\" class=\"data row2 col7\" >10.22</td>\n",
       "      <td id=\"T_90766_row2_col8\" class=\"data row2 col8\" >                              </td>\n",
       "      <td id=\"T_90766_row2_col9\" class=\"data row2 col9\" >0.01 (4%)</td>\n",
       "    </tr>\n",
       "    <tr>\n",
       "      <td id=\"T_90766_row3_col0\" class=\"data row3 col0\" >Duplicates</td>\n",
       "      <td id=\"T_90766_row3_col1\" class=\"data row3 col1\" >16 471 (99%)</td>\n",
       "      <td id=\"T_90766_row3_col2\" class=\"data row3 col2\" >                              </td>\n",
       "      <td id=\"T_90766_row3_col3\" class=\"data row3 col3\" >Median</td>\n",
       "      <td id=\"T_90766_row3_col4\" class=\"data row3 col4\" >0</td>\n",
       "      <td id=\"T_90766_row3_col5\" class=\"data row3 col5\" >                              </td>\n",
       "      <td id=\"T_90766_row3_col6\" class=\"data row3 col6\" >iQR</td>\n",
       "      <td id=\"T_90766_row3_col7\" class=\"data row3 col7\" >0.04</td>\n",
       "      <td id=\"T_90766_row3_col8\" class=\"data row3 col8\" >                              </td>\n",
       "      <td id=\"T_90766_row3_col9\" class=\"data row3 col9\" >0.03 (3%)</td>\n",
       "    </tr>\n",
       "    <tr>\n",
       "      <td id=\"T_90766_row4_col0\" class=\"data row4 col0\" >Zeros</td>\n",
       "      <td id=\"T_90766_row4_col1\" class=\"data row4 col1\" >10 514 (63%)</td>\n",
       "      <td id=\"T_90766_row4_col2\" class=\"data row4 col2\" >                              </td>\n",
       "      <td id=\"T_90766_row4_col3\" class=\"data row4 col3\" >25%</td>\n",
       "      <td id=\"T_90766_row4_col4\" class=\"data row4 col4\" >0</td>\n",
       "      <td id=\"T_90766_row4_col5\" class=\"data row4 col5\" >                              </td>\n",
       "      <td id=\"T_90766_row4_col6\" class=\"data row4 col6\" >std</td>\n",
       "      <td id=\"T_90766_row4_col7\" class=\"data row4 col7\" >0.31</td>\n",
       "      <td id=\"T_90766_row4_col8\" class=\"data row4 col8\" >                              </td>\n",
       "      <td id=\"T_90766_row4_col9\" class=\"data row4 col9\" >0.04 (2%)</td>\n",
       "    </tr>\n",
       "    <tr>\n",
       "      <td id=\"T_90766_row5_col0\" class=\"data row5 col0\" >Negative</td>\n",
       "      <td id=\"T_90766_row5_col1\" class=\"data row5 col1\" >---</td>\n",
       "      <td id=\"T_90766_row5_col2\" class=\"data row5 col2\" >                              </td>\n",
       "      <td id=\"T_90766_row5_col3\" class=\"data row5 col3\" >5%</td>\n",
       "      <td id=\"T_90766_row5_col4\" class=\"data row5 col4\" >0</td>\n",
       "      <td id=\"T_90766_row5_col5\" class=\"data row5 col5\" >                              </td>\n",
       "      <td id=\"T_90766_row5_col6\" class=\"data row5 col6\" >kurt</td>\n",
       "      <td id=\"T_90766_row5_col7\" class=\"data row5 col7\" >194.27</td>\n",
       "      <td id=\"T_90766_row5_col8\" class=\"data row5 col8\" >                              </td>\n",
       "      <td id=\"T_90766_row5_col9\" class=\"data row5 col9\" >0.05 (2%)</td>\n",
       "    </tr>\n",
       "    <tr>\n",
       "      <td id=\"T_90766_row6_col0\" class=\"data row6 col0\" >RAM (Mb)</td>\n",
       "      <td id=\"T_90766_row6_col1\" class=\"data row6 col1\" ><1 Mb</td>\n",
       "      <td id=\"T_90766_row6_col2\" class=\"data row6 col2\" >                              </td>\n",
       "      <td id=\"T_90766_row6_col3\" class=\"data row6 col3\" >Min</td>\n",
       "      <td id=\"T_90766_row6_col4\" class=\"data row6 col4\" >0</td>\n",
       "      <td id=\"T_90766_row6_col5\" class=\"data row6 col5\" >                              </td>\n",
       "      <td id=\"T_90766_row6_col6\" class=\"data row6 col6\" >skew</td>\n",
       "      <td id=\"T_90766_row6_col7\" class=\"data row6 col7\" >11.21</td>\n",
       "      <td id=\"T_90766_row6_col8\" class=\"data row6 col8\" >                              </td>\n",
       "      <td id=\"T_90766_row6_col9\" class=\"data row6 col9\" >0.06 (2%)</td>\n",
       "    </tr>\n",
       "  </tbody>\n",
       "</table>\n",
       "\n",
       "                <div>\n",
       "                    <img src=\"data:image/png;base64,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\" alt=\"График\"/>\n",
       "                </div>\n",
       "            \n",
       "                <div>\n",
       "                    <img src=\"data:image/png;base64,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\" alt=\"График\"/>\n",
       "                </div>            \n",
       "            </div>\n",
       "            "
      ],
      "text/plain": [
       "<IPython.core.display.HTML object>"
      ]
     },
     "metadata": {},
     "output_type": "display_data"
    }
   ],
   "source": [
    "gen.next('dual')"
   ]
  },
  {
   "cell_type": "markdown",
   "metadata": {},
   "source": [
    "**Наблюдения:**  \n",
    "\n",
    "- В столбце с продажами в Японии есть нули (63%). По видимому для этих игр не было продаж в Японии.\n",
    "- Количество проданных игр в Японии лежит в диапазоне от 0 до 10.22 млн.\n",
    "- В основном количество проданных игр в Японии находится в диапазоне от 0 до 0.4 млн."
   ]
  },
  {
   "cell_type": "code",
   "execution_count": 655,
   "metadata": {},
   "outputs": [
    {
     "data": {
      "text/html": [
       "\n",
       "            <div style=\"display: flex; justify-content: flex-start; align-items: flex-end;\">\n",
       "                <style type=\"text/css\">\n",
       "#T_99ef9 caption {\n",
       "  font-size: 16px;\n",
       "  text-align: left;\n",
       "  font-weight: bold;\n",
       "}\n",
       "#T_99ef9_row0_col0, #T_99ef9_row0_col1, #T_99ef9_row0_col2, #T_99ef9_row0_col3, #T_99ef9_row0_col4, #T_99ef9_row0_col5, #T_99ef9_row0_col6, #T_99ef9_row0_col7, #T_99ef9_row0_col8, #T_99ef9_row0_col9, #T_99ef9_row1_col0, #T_99ef9_row1_col1, #T_99ef9_row1_col2, #T_99ef9_row1_col3, #T_99ef9_row1_col4, #T_99ef9_row1_col5, #T_99ef9_row1_col6, #T_99ef9_row1_col7, #T_99ef9_row1_col8, #T_99ef9_row1_col9, #T_99ef9_row2_col0, #T_99ef9_row2_col1, #T_99ef9_row2_col2, #T_99ef9_row2_col3, #T_99ef9_row2_col4, #T_99ef9_row2_col5, #T_99ef9_row2_col6, #T_99ef9_row2_col7, #T_99ef9_row2_col8, #T_99ef9_row2_col9, #T_99ef9_row3_col0, #T_99ef9_row3_col1, #T_99ef9_row3_col2, #T_99ef9_row3_col3, #T_99ef9_row3_col4, #T_99ef9_row3_col5, #T_99ef9_row3_col6, #T_99ef9_row3_col7, #T_99ef9_row3_col8, #T_99ef9_row3_col9, #T_99ef9_row4_col0, #T_99ef9_row4_col1, #T_99ef9_row4_col2, #T_99ef9_row4_col3, #T_99ef9_row4_col4, #T_99ef9_row4_col5, #T_99ef9_row4_col6, #T_99ef9_row4_col7, #T_99ef9_row4_col8, #T_99ef9_row4_col9, #T_99ef9_row5_col0, #T_99ef9_row5_col1, #T_99ef9_row5_col2, #T_99ef9_row5_col3, #T_99ef9_row5_col4, #T_99ef9_row5_col5, #T_99ef9_row5_col6, #T_99ef9_row5_col7, #T_99ef9_row5_col8, #T_99ef9_row5_col9, #T_99ef9_row6_col0, #T_99ef9_row6_col1, #T_99ef9_row6_col2, #T_99ef9_row6_col3, #T_99ef9_row6_col4, #T_99ef9_row6_col5, #T_99ef9_row6_col6, #T_99ef9_row6_col7, #T_99ef9_row6_col8, #T_99ef9_row6_col9 {\n",
       "  text-align: left;\n",
       "}\n",
       "</style>\n",
       "<table id=\"T_99ef9\">\n",
       "  <caption>Статистика и гистограмма столбца \"other_sales\"</caption>\n",
       "  <thead>\n",
       "  </thead>\n",
       "  <tbody>\n",
       "    <tr>\n",
       "      <td id=\"T_99ef9_row0_col0\" class=\"data row0 col0\" >Values</td>\n",
       "      <td id=\"T_99ef9_row0_col1\" class=\"data row0 col1\" >16 715 (100%)</td>\n",
       "      <td id=\"T_99ef9_row0_col2\" class=\"data row0 col2\" >                              </td>\n",
       "      <td id=\"T_99ef9_row0_col3\" class=\"data row0 col3\" >Max</td>\n",
       "      <td id=\"T_99ef9_row0_col4\" class=\"data row0 col4\" >10.57</td>\n",
       "      <td id=\"T_99ef9_row0_col5\" class=\"data row0 col5\" >                              </td>\n",
       "      <td id=\"T_99ef9_row0_col6\" class=\"data row0 col6\" >Avg</td>\n",
       "      <td id=\"T_99ef9_row0_col7\" class=\"data row0 col7\" >0.05</td>\n",
       "      <td id=\"T_99ef9_row0_col8\" class=\"data row0 col8\" >                              </td>\n",
       "      <td id=\"T_99ef9_row0_col9\" class=\"data row0 col9\" >0 (39%)</td>\n",
       "    </tr>\n",
       "    <tr>\n",
       "      <td id=\"T_99ef9_row1_col0\" class=\"data row1 col0\" >Missing</td>\n",
       "      <td id=\"T_99ef9_row1_col1\" class=\"data row1 col1\" >---</td>\n",
       "      <td id=\"T_99ef9_row1_col2\" class=\"data row1 col2\" >                              </td>\n",
       "      <td id=\"T_99ef9_row1_col3\" class=\"data row1 col3\" >95%</td>\n",
       "      <td id=\"T_99ef9_row1_col4\" class=\"data row1 col4\" >0.2</td>\n",
       "      <td id=\"T_99ef9_row1_col5\" class=\"data row1 col5\" >                              </td>\n",
       "      <td id=\"T_99ef9_row1_col6\" class=\"data row1 col6\" >Mode</td>\n",
       "      <td id=\"T_99ef9_row1_col7\" class=\"data row1 col7\" >0</td>\n",
       "      <td id=\"T_99ef9_row1_col8\" class=\"data row1 col8\" >                              </td>\n",
       "      <td id=\"T_99ef9_row1_col9\" class=\"data row1 col9\" >0.01 (21%)</td>\n",
       "    </tr>\n",
       "    <tr>\n",
       "      <td id=\"T_99ef9_row2_col0\" class=\"data row2 col0\" >Distinct</td>\n",
       "      <td id=\"T_99ef9_row2_col1\" class=\"data row2 col1\" >155 (1%)</td>\n",
       "      <td id=\"T_99ef9_row2_col2\" class=\"data row2 col2\" >                              </td>\n",
       "      <td id=\"T_99ef9_row2_col3\" class=\"data row2 col3\" >75%</td>\n",
       "      <td id=\"T_99ef9_row2_col4\" class=\"data row2 col4\" >0.03</td>\n",
       "      <td id=\"T_99ef9_row2_col5\" class=\"data row2 col5\" >                              </td>\n",
       "      <td id=\"T_99ef9_row2_col6\" class=\"data row2 col6\" >Range</td>\n",
       "      <td id=\"T_99ef9_row2_col7\" class=\"data row2 col7\" >10.57</td>\n",
       "      <td id=\"T_99ef9_row2_col8\" class=\"data row2 col8\" >                              </td>\n",
       "      <td id=\"T_99ef9_row2_col9\" class=\"data row2 col9\" >0.02 (10%)</td>\n",
       "    </tr>\n",
       "    <tr>\n",
       "      <td id=\"T_99ef9_row3_col0\" class=\"data row3 col0\" >Duplicates</td>\n",
       "      <td id=\"T_99ef9_row3_col1\" class=\"data row3 col1\" >16 560 (99.1%)</td>\n",
       "      <td id=\"T_99ef9_row3_col2\" class=\"data row3 col2\" >                              </td>\n",
       "      <td id=\"T_99ef9_row3_col3\" class=\"data row3 col3\" >Median</td>\n",
       "      <td id=\"T_99ef9_row3_col4\" class=\"data row3 col4\" >0.01</td>\n",
       "      <td id=\"T_99ef9_row3_col5\" class=\"data row3 col5\" >                              </td>\n",
       "      <td id=\"T_99ef9_row3_col6\" class=\"data row3 col6\" >iQR</td>\n",
       "      <td id=\"T_99ef9_row3_col7\" class=\"data row3 col7\" >0.03</td>\n",
       "      <td id=\"T_99ef9_row3_col8\" class=\"data row3 col8\" >                              </td>\n",
       "      <td id=\"T_99ef9_row3_col9\" class=\"data row3 col9\" >0.03 (6%)</td>\n",
       "    </tr>\n",
       "    <tr>\n",
       "      <td id=\"T_99ef9_row4_col0\" class=\"data row4 col0\" >Zeros</td>\n",
       "      <td id=\"T_99ef9_row4_col1\" class=\"data row4 col1\" >6 601 (39%)</td>\n",
       "      <td id=\"T_99ef9_row4_col2\" class=\"data row4 col2\" >                              </td>\n",
       "      <td id=\"T_99ef9_row4_col3\" class=\"data row4 col3\" >25%</td>\n",
       "      <td id=\"T_99ef9_row4_col4\" class=\"data row4 col4\" >0</td>\n",
       "      <td id=\"T_99ef9_row4_col5\" class=\"data row4 col5\" >                              </td>\n",
       "      <td id=\"T_99ef9_row4_col6\" class=\"data row4 col6\" >std</td>\n",
       "      <td id=\"T_99ef9_row4_col7\" class=\"data row4 col7\" >0.19</td>\n",
       "      <td id=\"T_99ef9_row4_col8\" class=\"data row4 col8\" >                              </td>\n",
       "      <td id=\"T_99ef9_row4_col9\" class=\"data row4 col9\" >0.04 (4%)</td>\n",
       "    </tr>\n",
       "    <tr>\n",
       "      <td id=\"T_99ef9_row5_col0\" class=\"data row5 col0\" >Negative</td>\n",
       "      <td id=\"T_99ef9_row5_col1\" class=\"data row5 col1\" >---</td>\n",
       "      <td id=\"T_99ef9_row5_col2\" class=\"data row5 col2\" >                              </td>\n",
       "      <td id=\"T_99ef9_row5_col3\" class=\"data row5 col3\" >5%</td>\n",
       "      <td id=\"T_99ef9_row5_col4\" class=\"data row5 col4\" >0</td>\n",
       "      <td id=\"T_99ef9_row5_col5\" class=\"data row5 col5\" >                              </td>\n",
       "      <td id=\"T_99ef9_row5_col6\" class=\"data row5 col6\" >kurt</td>\n",
       "      <td id=\"T_99ef9_row5_col7\" class=\"data row5 col7\" >1054.90</td>\n",
       "      <td id=\"T_99ef9_row5_col8\" class=\"data row5 col8\" >                              </td>\n",
       "      <td id=\"T_99ef9_row5_col9\" class=\"data row5 col9\" >0.05 (3%)</td>\n",
       "    </tr>\n",
       "    <tr>\n",
       "      <td id=\"T_99ef9_row6_col0\" class=\"data row6 col0\" >RAM (Mb)</td>\n",
       "      <td id=\"T_99ef9_row6_col1\" class=\"data row6 col1\" ><1 Mb</td>\n",
       "      <td id=\"T_99ef9_row6_col2\" class=\"data row6 col2\" >                              </td>\n",
       "      <td id=\"T_99ef9_row6_col3\" class=\"data row6 col3\" >Min</td>\n",
       "      <td id=\"T_99ef9_row6_col4\" class=\"data row6 col4\" >0</td>\n",
       "      <td id=\"T_99ef9_row6_col5\" class=\"data row6 col5\" >                              </td>\n",
       "      <td id=\"T_99ef9_row6_col6\" class=\"data row6 col6\" >skew</td>\n",
       "      <td id=\"T_99ef9_row6_col7\" class=\"data row6 col7\" >24.58</td>\n",
       "      <td id=\"T_99ef9_row6_col8\" class=\"data row6 col8\" >                              </td>\n",
       "      <td id=\"T_99ef9_row6_col9\" class=\"data row6 col9\" >0.06 (2%)</td>\n",
       "    </tr>\n",
       "  </tbody>\n",
       "</table>\n",
       "\n",
       "                <div>\n",
       "                    <img src=\"data:image/png;base64,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\" alt=\"График\"/>\n",
       "                </div>\n",
       "            \n",
       "                <div>\n",
       "                    <img src=\"data:image/png;base64,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\" alt=\"График\"/>\n",
       "                </div>            \n",
       "            </div>\n",
       "            "
      ],
      "text/plain": [
       "<IPython.core.display.HTML object>"
      ]
     },
     "metadata": {},
     "output_type": "display_data"
    }
   ],
   "source": [
    "gen.next('dual')"
   ]
  },
  {
   "cell_type": "markdown",
   "metadata": {},
   "source": [
    "**Наблюдения:**  \n",
    "\n",
    "- В столбце с продажами в других странах есть нули (39%). По видимому для этих игр не было продаж в других странах.\n",
    "- Количество проданных игр в других странах лежит в диапазоне от 0 до 10.57 млн.\n",
    "- В основном количество проданных игр в других странах находится в диапазоне от 0 до 0.03 млн."
   ]
  },
  {
   "cell_type": "code",
   "execution_count": 656,
   "metadata": {},
   "outputs": [
    {
     "data": {
      "text/html": [
       "\n",
       "            <div style=\"display: flex; justify-content: flex-start; align-items: flex-end;\">\n",
       "                <style type=\"text/css\">\n",
       "#T_23fc5 caption {\n",
       "  font-size: 16px;\n",
       "  text-align: left;\n",
       "  font-weight: bold;\n",
       "}\n",
       "#T_23fc5_row0_col0, #T_23fc5_row0_col1, #T_23fc5_row0_col2, #T_23fc5_row0_col3, #T_23fc5_row0_col4, #T_23fc5_row0_col5, #T_23fc5_row0_col6, #T_23fc5_row0_col7, #T_23fc5_row0_col8, #T_23fc5_row0_col9, #T_23fc5_row1_col0, #T_23fc5_row1_col1, #T_23fc5_row1_col2, #T_23fc5_row1_col3, #T_23fc5_row1_col4, #T_23fc5_row1_col5, #T_23fc5_row1_col6, #T_23fc5_row1_col7, #T_23fc5_row1_col8, #T_23fc5_row1_col9, #T_23fc5_row2_col0, #T_23fc5_row2_col1, #T_23fc5_row2_col2, #T_23fc5_row2_col3, #T_23fc5_row2_col4, #T_23fc5_row2_col5, #T_23fc5_row2_col6, #T_23fc5_row2_col7, #T_23fc5_row2_col8, #T_23fc5_row2_col9, #T_23fc5_row3_col0, #T_23fc5_row3_col1, #T_23fc5_row3_col2, #T_23fc5_row3_col3, #T_23fc5_row3_col4, #T_23fc5_row3_col5, #T_23fc5_row3_col6, #T_23fc5_row3_col7, #T_23fc5_row3_col8, #T_23fc5_row3_col9, #T_23fc5_row4_col0, #T_23fc5_row4_col1, #T_23fc5_row4_col2, #T_23fc5_row4_col3, #T_23fc5_row4_col4, #T_23fc5_row4_col5, #T_23fc5_row4_col6, #T_23fc5_row4_col7, #T_23fc5_row4_col8, #T_23fc5_row4_col9, #T_23fc5_row5_col0, #T_23fc5_row5_col1, #T_23fc5_row5_col2, #T_23fc5_row5_col3, #T_23fc5_row5_col4, #T_23fc5_row5_col5, #T_23fc5_row5_col6, #T_23fc5_row5_col7, #T_23fc5_row5_col8, #T_23fc5_row5_col9, #T_23fc5_row6_col0, #T_23fc5_row6_col1, #T_23fc5_row6_col2, #T_23fc5_row6_col3, #T_23fc5_row6_col4, #T_23fc5_row6_col5, #T_23fc5_row6_col6, #T_23fc5_row6_col7, #T_23fc5_row6_col8, #T_23fc5_row6_col9 {\n",
       "  text-align: left;\n",
       "}\n",
       "</style>\n",
       "<table id=\"T_23fc5\">\n",
       "  <caption>Статистика и гистограмма столбца \"critic_score\"</caption>\n",
       "  <thead>\n",
       "  </thead>\n",
       "  <tbody>\n",
       "    <tr>\n",
       "      <td id=\"T_23fc5_row0_col0\" class=\"data row0 col0\" >Values</td>\n",
       "      <td id=\"T_23fc5_row0_col1\" class=\"data row0 col1\" >8 137 (49%)</td>\n",
       "      <td id=\"T_23fc5_row0_col2\" class=\"data row0 col2\" >                              </td>\n",
       "      <td id=\"T_23fc5_row0_col3\" class=\"data row0 col3\" >Max</td>\n",
       "      <td id=\"T_23fc5_row0_col4\" class=\"data row0 col4\" >98</td>\n",
       "      <td id=\"T_23fc5_row0_col5\" class=\"data row0 col5\" >                              </td>\n",
       "      <td id=\"T_23fc5_row0_col6\" class=\"data row0 col6\" >Avg</td>\n",
       "      <td id=\"T_23fc5_row0_col7\" class=\"data row0 col7\" >68.97</td>\n",
       "      <td id=\"T_23fc5_row0_col8\" class=\"data row0 col8\" >                              </td>\n",
       "      <td id=\"T_23fc5_row0_col9\" class=\"data row0 col9\" >70 (3%)</td>\n",
       "    </tr>\n",
       "    <tr>\n",
       "      <td id=\"T_23fc5_row1_col0\" class=\"data row1 col0\" >Missing</td>\n",
       "      <td id=\"T_23fc5_row1_col1\" class=\"data row1 col1\" >8 578 (51%)</td>\n",
       "      <td id=\"T_23fc5_row1_col2\" class=\"data row1 col2\" >                              </td>\n",
       "      <td id=\"T_23fc5_row1_col3\" class=\"data row1 col3\" >95%</td>\n",
       "      <td id=\"T_23fc5_row1_col4\" class=\"data row1 col4\" >89</td>\n",
       "      <td id=\"T_23fc5_row1_col5\" class=\"data row1 col5\" >                              </td>\n",
       "      <td id=\"T_23fc5_row1_col6\" class=\"data row1 col6\" >Mode</td>\n",
       "      <td id=\"T_23fc5_row1_col7\" class=\"data row1 col7\" >70</td>\n",
       "      <td id=\"T_23fc5_row1_col8\" class=\"data row1 col8\" >                              </td>\n",
       "      <td id=\"T_23fc5_row1_col9\" class=\"data row1 col9\" >71 (3%)</td>\n",
       "    </tr>\n",
       "    <tr>\n",
       "      <td id=\"T_23fc5_row2_col0\" class=\"data row2 col0\" >Distinct</td>\n",
       "      <td id=\"T_23fc5_row2_col1\" class=\"data row2 col1\" >82 (<1%)</td>\n",
       "      <td id=\"T_23fc5_row2_col2\" class=\"data row2 col2\" >                              </td>\n",
       "      <td id=\"T_23fc5_row2_col3\" class=\"data row2 col3\" >75%</td>\n",
       "      <td id=\"T_23fc5_row2_col4\" class=\"data row2 col4\" >79</td>\n",
       "      <td id=\"T_23fc5_row2_col5\" class=\"data row2 col5\" >                              </td>\n",
       "      <td id=\"T_23fc5_row2_col6\" class=\"data row2 col6\" >Range</td>\n",
       "      <td id=\"T_23fc5_row2_col7\" class=\"data row2 col7\" >85</td>\n",
       "      <td id=\"T_23fc5_row2_col8\" class=\"data row2 col8\" >                              </td>\n",
       "      <td id=\"T_23fc5_row2_col9\" class=\"data row2 col9\" >75 (3%)</td>\n",
       "    </tr>\n",
       "    <tr>\n",
       "      <td id=\"T_23fc5_row3_col0\" class=\"data row3 col0\" >Duplicates</td>\n",
       "      <td id=\"T_23fc5_row3_col1\" class=\"data row3 col1\" >16 632 (99.5%)</td>\n",
       "      <td id=\"T_23fc5_row3_col2\" class=\"data row3 col2\" >                              </td>\n",
       "      <td id=\"T_23fc5_row3_col3\" class=\"data row3 col3\" >Median</td>\n",
       "      <td id=\"T_23fc5_row3_col4\" class=\"data row3 col4\" >71</td>\n",
       "      <td id=\"T_23fc5_row3_col5\" class=\"data row3 col5\" >                              </td>\n",
       "      <td id=\"T_23fc5_row3_col6\" class=\"data row3 col6\" >iQR</td>\n",
       "      <td id=\"T_23fc5_row3_col7\" class=\"data row3 col7\" >19</td>\n",
       "      <td id=\"T_23fc5_row3_col8\" class=\"data row3 col8\" >                              </td>\n",
       "      <td id=\"T_23fc5_row3_col9\" class=\"data row3 col9\" >78 (3%)</td>\n",
       "    </tr>\n",
       "    <tr>\n",
       "      <td id=\"T_23fc5_row4_col0\" class=\"data row4 col0\" >Zeros</td>\n",
       "      <td id=\"T_23fc5_row4_col1\" class=\"data row4 col1\" >---</td>\n",
       "      <td id=\"T_23fc5_row4_col2\" class=\"data row4 col2\" >                              </td>\n",
       "      <td id=\"T_23fc5_row4_col3\" class=\"data row4 col3\" >25%</td>\n",
       "      <td id=\"T_23fc5_row4_col4\" class=\"data row4 col4\" >60</td>\n",
       "      <td id=\"T_23fc5_row4_col5\" class=\"data row4 col5\" >                              </td>\n",
       "      <td id=\"T_23fc5_row4_col6\" class=\"data row4 col6\" >std</td>\n",
       "      <td id=\"T_23fc5_row4_col7\" class=\"data row4 col7\" >13.94</td>\n",
       "      <td id=\"T_23fc5_row4_col8\" class=\"data row4 col8\" >                              </td>\n",
       "      <td id=\"T_23fc5_row4_col9\" class=\"data row4 col9\" >73 (3%)</td>\n",
       "    </tr>\n",
       "    <tr>\n",
       "      <td id=\"T_23fc5_row5_col0\" class=\"data row5 col0\" >Negative</td>\n",
       "      <td id=\"T_23fc5_row5_col1\" class=\"data row5 col1\" >---</td>\n",
       "      <td id=\"T_23fc5_row5_col2\" class=\"data row5 col2\" >                              </td>\n",
       "      <td id=\"T_23fc5_row5_col3\" class=\"data row5 col3\" >5%</td>\n",
       "      <td id=\"T_23fc5_row5_col4\" class=\"data row5 col4\" >43</td>\n",
       "      <td id=\"T_23fc5_row5_col5\" class=\"data row5 col5\" >                              </td>\n",
       "      <td id=\"T_23fc5_row5_col6\" class=\"data row5 col6\" >kurt</td>\n",
       "      <td id=\"T_23fc5_row5_col7\" class=\"data row5 col7\" >0.14</td>\n",
       "      <td id=\"T_23fc5_row5_col8\" class=\"data row5 col8\" >                              </td>\n",
       "      <td id=\"T_23fc5_row5_col9\" class=\"data row5 col9\" >80 (3%)</td>\n",
       "    </tr>\n",
       "    <tr>\n",
       "      <td id=\"T_23fc5_row6_col0\" class=\"data row6 col0\" >RAM (Mb)</td>\n",
       "      <td id=\"T_23fc5_row6_col1\" class=\"data row6 col1\" ><1 Mb</td>\n",
       "      <td id=\"T_23fc5_row6_col2\" class=\"data row6 col2\" >                              </td>\n",
       "      <td id=\"T_23fc5_row6_col3\" class=\"data row6 col3\" >Min</td>\n",
       "      <td id=\"T_23fc5_row6_col4\" class=\"data row6 col4\" >13</td>\n",
       "      <td id=\"T_23fc5_row6_col5\" class=\"data row6 col5\" >                              </td>\n",
       "      <td id=\"T_23fc5_row6_col6\" class=\"data row6 col6\" >skew</td>\n",
       "      <td id=\"T_23fc5_row6_col7\" class=\"data row6 col7\" >-0.61</td>\n",
       "      <td id=\"T_23fc5_row6_col8\" class=\"data row6 col8\" >                              </td>\n",
       "      <td id=\"T_23fc5_row6_col9\" class=\"data row6 col9\" >76 (3%)</td>\n",
       "    </tr>\n",
       "  </tbody>\n",
       "</table>\n",
       "\n",
       "                <div>\n",
       "                    <img src=\"data:image/png;base64,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\" alt=\"График\"/>\n",
       "                </div>\n",
       "                      \n",
       "            </div>\n",
       "            "
      ],
      "text/plain": [
       "<IPython.core.display.HTML object>"
      ]
     },
     "metadata": {},
     "output_type": "display_data"
    }
   ],
   "source": [
    "gen.next()"
   ]
  },
  {
   "cell_type": "markdown",
   "metadata": {},
   "source": [
    "**Наблюдения:**  \n",
    "\n",
    "- В столбце с оценкой критиков 51% пропущенных занчений.\n",
    "- Оценка критиков лежит в диапазоне от 13 до 98.\n",
    "- В основном критики ставят оценки от 60 до 79."
   ]
  },
  {
   "cell_type": "code",
   "execution_count": 657,
   "metadata": {},
   "outputs": [
    {
     "data": {
      "text/html": [
       "\n",
       "            <div style=\"display: flex; justify-content: flex-start; align-items: flex-end;\">\n",
       "                <style type=\"text/css\">\n",
       "#T_9221e caption {\n",
       "  font-size: 16px;\n",
       "  text-align: left;\n",
       "  font-weight: bold;\n",
       "}\n",
       "#T_9221e_row0_col0, #T_9221e_row0_col1, #T_9221e_row0_col2, #T_9221e_row0_col3, #T_9221e_row0_col4, #T_9221e_row0_col5, #T_9221e_row0_col6, #T_9221e_row0_col7, #T_9221e_row0_col8, #T_9221e_row0_col9, #T_9221e_row1_col0, #T_9221e_row1_col1, #T_9221e_row1_col2, #T_9221e_row1_col3, #T_9221e_row1_col4, #T_9221e_row1_col5, #T_9221e_row1_col6, #T_9221e_row1_col7, #T_9221e_row1_col8, #T_9221e_row1_col9, #T_9221e_row2_col0, #T_9221e_row2_col1, #T_9221e_row2_col2, #T_9221e_row2_col3, #T_9221e_row2_col4, #T_9221e_row2_col5, #T_9221e_row2_col6, #T_9221e_row2_col7, #T_9221e_row2_col8, #T_9221e_row2_col9, #T_9221e_row3_col0, #T_9221e_row3_col1, #T_9221e_row3_col2, #T_9221e_row3_col3, #T_9221e_row3_col4, #T_9221e_row3_col5, #T_9221e_row3_col6, #T_9221e_row3_col7, #T_9221e_row3_col8, #T_9221e_row3_col9, #T_9221e_row4_col0, #T_9221e_row4_col1, #T_9221e_row4_col2, #T_9221e_row4_col3, #T_9221e_row4_col4, #T_9221e_row4_col5, #T_9221e_row4_col6, #T_9221e_row4_col7, #T_9221e_row4_col8, #T_9221e_row4_col9, #T_9221e_row5_col0, #T_9221e_row5_col1, #T_9221e_row5_col2, #T_9221e_row5_col3, #T_9221e_row5_col4, #T_9221e_row5_col5, #T_9221e_row5_col6, #T_9221e_row5_col7, #T_9221e_row5_col8, #T_9221e_row5_col9, #T_9221e_row6_col0, #T_9221e_row6_col1, #T_9221e_row6_col2, #T_9221e_row6_col3, #T_9221e_row6_col4, #T_9221e_row6_col5, #T_9221e_row6_col6, #T_9221e_row6_col7, #T_9221e_row6_col8, #T_9221e_row6_col9 {\n",
       "  text-align: left;\n",
       "}\n",
       "</style>\n",
       "<table id=\"T_9221e\">\n",
       "  <caption>Статистика и гистограмма столбца \"user_score\"</caption>\n",
       "  <thead>\n",
       "  </thead>\n",
       "  <tbody>\n",
       "    <tr>\n",
       "      <td id=\"T_9221e_row0_col0\" class=\"data row0 col0\" >Values</td>\n",
       "      <td id=\"T_9221e_row0_col1\" class=\"data row0 col1\" >7 590 (45%)</td>\n",
       "      <td id=\"T_9221e_row0_col2\" class=\"data row0 col2\" >                              </td>\n",
       "      <td id=\"T_9221e_row0_col3\" class=\"data row0 col3\" >Max</td>\n",
       "      <td id=\"T_9221e_row0_col4\" class=\"data row0 col4\" >9.7</td>\n",
       "      <td id=\"T_9221e_row0_col5\" class=\"data row0 col5\" >                              </td>\n",
       "      <td id=\"T_9221e_row0_col6\" class=\"data row0 col6\" >Avg</td>\n",
       "      <td id=\"T_9221e_row0_col7\" class=\"data row0 col7\" >7.13</td>\n",
       "      <td id=\"T_9221e_row0_col8\" class=\"data row0 col8\" >                              </td>\n",
       "      <td id=\"T_9221e_row0_col9\" class=\"data row0 col9\" >7.8 (4%)</td>\n",
       "    </tr>\n",
       "    <tr>\n",
       "      <td id=\"T_9221e_row1_col0\" class=\"data row1 col0\" >Missing</td>\n",
       "      <td id=\"T_9221e_row1_col1\" class=\"data row1 col1\" >9 125 (55%)</td>\n",
       "      <td id=\"T_9221e_row1_col2\" class=\"data row1 col2\" >                              </td>\n",
       "      <td id=\"T_9221e_row1_col3\" class=\"data row1 col3\" >95%</td>\n",
       "      <td id=\"T_9221e_row1_col4\" class=\"data row1 col4\" >8.9</td>\n",
       "      <td id=\"T_9221e_row1_col5\" class=\"data row1 col5\" >                              </td>\n",
       "      <td id=\"T_9221e_row1_col6\" class=\"data row1 col6\" >Mode</td>\n",
       "      <td id=\"T_9221e_row1_col7\" class=\"data row1 col7\" >7.8</td>\n",
       "      <td id=\"T_9221e_row1_col8\" class=\"data row1 col8\" >                              </td>\n",
       "      <td id=\"T_9221e_row1_col9\" class=\"data row1 col9\" >8 (4%)</td>\n",
       "    </tr>\n",
       "    <tr>\n",
       "      <td id=\"T_9221e_row2_col0\" class=\"data row2 col0\" >Distinct</td>\n",
       "      <td id=\"T_9221e_row2_col1\" class=\"data row2 col1\" >95 (1%)</td>\n",
       "      <td id=\"T_9221e_row2_col2\" class=\"data row2 col2\" >                              </td>\n",
       "      <td id=\"T_9221e_row2_col3\" class=\"data row2 col3\" >75%</td>\n",
       "      <td id=\"T_9221e_row2_col4\" class=\"data row2 col4\" >8.2</td>\n",
       "      <td id=\"T_9221e_row2_col5\" class=\"data row2 col5\" >                              </td>\n",
       "      <td id=\"T_9221e_row2_col6\" class=\"data row2 col6\" >Range</td>\n",
       "      <td id=\"T_9221e_row2_col7\" class=\"data row2 col7\" >9.7</td>\n",
       "      <td id=\"T_9221e_row2_col8\" class=\"data row2 col8\" >                              </td>\n",
       "      <td id=\"T_9221e_row2_col9\" class=\"data row2 col9\" >8.2 (4%)</td>\n",
       "    </tr>\n",
       "    <tr>\n",
       "      <td id=\"T_9221e_row3_col0\" class=\"data row3 col0\" >Duplicates</td>\n",
       "      <td id=\"T_9221e_row3_col1\" class=\"data row3 col1\" >16 619 (99.4%)</td>\n",
       "      <td id=\"T_9221e_row3_col2\" class=\"data row3 col2\" >                              </td>\n",
       "      <td id=\"T_9221e_row3_col3\" class=\"data row3 col3\" >Median</td>\n",
       "      <td id=\"T_9221e_row3_col4\" class=\"data row3 col4\" >7.5</td>\n",
       "      <td id=\"T_9221e_row3_col5\" class=\"data row3 col5\" >                              </td>\n",
       "      <td id=\"T_9221e_row3_col6\" class=\"data row3 col6\" >iQR</td>\n",
       "      <td id=\"T_9221e_row3_col7\" class=\"data row3 col7\" >1.8</td>\n",
       "      <td id=\"T_9221e_row3_col8\" class=\"data row3 col8\" >                              </td>\n",
       "      <td id=\"T_9221e_row3_col9\" class=\"data row3 col9\" >8.3 (3%)</td>\n",
       "    </tr>\n",
       "    <tr>\n",
       "      <td id=\"T_9221e_row4_col0\" class=\"data row4 col0\" >Zeros</td>\n",
       "      <td id=\"T_9221e_row4_col1\" class=\"data row4 col1\" >1 (<1%)</td>\n",
       "      <td id=\"T_9221e_row4_col2\" class=\"data row4 col2\" >                              </td>\n",
       "      <td id=\"T_9221e_row4_col3\" class=\"data row4 col3\" >25%</td>\n",
       "      <td id=\"T_9221e_row4_col4\" class=\"data row4 col4\" >6.4</td>\n",
       "      <td id=\"T_9221e_row4_col5\" class=\"data row4 col5\" >                              </td>\n",
       "      <td id=\"T_9221e_row4_col6\" class=\"data row4 col6\" >std</td>\n",
       "      <td id=\"T_9221e_row4_col7\" class=\"data row4 col7\" >1.5</td>\n",
       "      <td id=\"T_9221e_row4_col8\" class=\"data row4 col8\" >                              </td>\n",
       "      <td id=\"T_9221e_row4_col9\" class=\"data row4 col9\" >8.5 (3%)</td>\n",
       "    </tr>\n",
       "    <tr>\n",
       "      <td id=\"T_9221e_row5_col0\" class=\"data row5 col0\" >Negative</td>\n",
       "      <td id=\"T_9221e_row5_col1\" class=\"data row5 col1\" >---</td>\n",
       "      <td id=\"T_9221e_row5_col2\" class=\"data row5 col2\" >                              </td>\n",
       "      <td id=\"T_9221e_row5_col3\" class=\"data row5 col3\" >5%</td>\n",
       "      <td id=\"T_9221e_row5_col4\" class=\"data row5 col4\" >4.1</td>\n",
       "      <td id=\"T_9221e_row5_col5\" class=\"data row5 col5\" >                              </td>\n",
       "      <td id=\"T_9221e_row5_col6\" class=\"data row5 col6\" >kurt</td>\n",
       "      <td id=\"T_9221e_row5_col7\" class=\"data row5 col7\" >1.72</td>\n",
       "      <td id=\"T_9221e_row5_col8\" class=\"data row5 col8\" >                              </td>\n",
       "      <td id=\"T_9221e_row5_col9\" class=\"data row5 col9\" >7.5 (3%)</td>\n",
       "    </tr>\n",
       "    <tr>\n",
       "      <td id=\"T_9221e_row6_col0\" class=\"data row6 col0\" >RAM (Mb)</td>\n",
       "      <td id=\"T_9221e_row6_col1\" class=\"data row6 col1\" ><1 Mb</td>\n",
       "      <td id=\"T_9221e_row6_col2\" class=\"data row6 col2\" >                              </td>\n",
       "      <td id=\"T_9221e_row6_col3\" class=\"data row6 col3\" >Min</td>\n",
       "      <td id=\"T_9221e_row6_col4\" class=\"data row6 col4\" >0</td>\n",
       "      <td id=\"T_9221e_row6_col5\" class=\"data row6 col5\" >                              </td>\n",
       "      <td id=\"T_9221e_row6_col6\" class=\"data row6 col6\" >skew</td>\n",
       "      <td id=\"T_9221e_row6_col7\" class=\"data row6 col7\" >-1.25</td>\n",
       "      <td id=\"T_9221e_row6_col8\" class=\"data row6 col8\" >                              </td>\n",
       "      <td id=\"T_9221e_row6_col9\" class=\"data row6 col9\" >7.9 (3%)</td>\n",
       "    </tr>\n",
       "  </tbody>\n",
       "</table>\n",
       "\n",
       "                <div>\n",
       "                    <img src=\"data:image/png;base64,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\" alt=\"График\"/>\n",
       "                </div>\n",
       "                      \n",
       "            </div>\n",
       "            "
      ],
      "text/plain": [
       "<IPython.core.display.HTML object>"
      ]
     },
     "metadata": {},
     "output_type": "display_data"
    }
   ],
   "source": [
    "gen.next()"
   ]
  },
  {
   "cell_type": "markdown",
   "metadata": {},
   "source": [
    "**Наблюдения:**  \n",
    "\n",
    "- В столбце с оценкой пользователей 55% пропущенных значений.\n",
    "- Оценка пользователей варируется от 0 до 9.7.\n",
    "- В освновном пользователи ставят оценки от 6.4 до 8.2\n",
    "- Значение 0 в оценке пользователей явно является аномалией."
   ]
  },
  {
   "cell_type": "code",
   "execution_count": 658,
   "metadata": {},
   "outputs": [
    {
     "data": {
      "text/html": [
       "\n",
       "            <div style=\"display: flex; justify-content: flex-start; align-items: flex-end;\">\n",
       "                <style type=\"text/css\">\n",
       "#T_7bb5d caption {\n",
       "  font-size: 16px;\n",
       "  text-align: left;\n",
       "  font-weight: bold;\n",
       "}\n",
       "#T_7bb5d th {\n",
       "  min-width: 100px;\n",
       "}\n",
       "#T_7bb5d  td {\n",
       "  min-width: 100px;\n",
       "}\n",
       "#T_7bb5d_row0_col0, #T_7bb5d_row0_col1, #T_7bb5d_row0_col2, #T_7bb5d_row0_col3, #T_7bb5d_row1_col0, #T_7bb5d_row1_col1, #T_7bb5d_row1_col2, #T_7bb5d_row1_col3, #T_7bb5d_row2_col0, #T_7bb5d_row2_col1, #T_7bb5d_row2_col2, #T_7bb5d_row2_col3, #T_7bb5d_row3_col0, #T_7bb5d_row3_col1, #T_7bb5d_row3_col2, #T_7bb5d_row3_col3, #T_7bb5d_row4_col0, #T_7bb5d_row4_col1, #T_7bb5d_row4_col2, #T_7bb5d_row4_col3, #T_7bb5d_row5_col0, #T_7bb5d_row5_col1, #T_7bb5d_row5_col2, #T_7bb5d_row5_col3, #T_7bb5d_row6_col0, #T_7bb5d_row6_col1, #T_7bb5d_row6_col2, #T_7bb5d_row6_col3 {\n",
       "  text-align: left;\n",
       "}\n",
       "</style>\n",
       "<table id=\"T_7bb5d\">\n",
       "  <caption>Статистика и топ-10 значений столбца \"name\"</caption>\n",
       "  <thead>\n",
       "  </thead>\n",
       "  <tbody>\n",
       "    <tr>\n",
       "      <td id=\"T_7bb5d_row0_col0\" class=\"data row0 col0\" >Values</td>\n",
       "      <td id=\"T_7bb5d_row0_col1\" class=\"data row0 col1\" >16 713 (99.9%)</td>\n",
       "      <td id=\"T_7bb5d_row0_col2\" class=\"data row0 col2\" >                              </td>\n",
       "      <td id=\"T_7bb5d_row0_col3\" class=\"data row0 col3\" >Need for Speed: Most Wanted <1%</td>\n",
       "    </tr>\n",
       "    <tr>\n",
       "      <td id=\"T_7bb5d_row1_col0\" class=\"data row1 col0\" >Missing</td>\n",
       "      <td id=\"T_7bb5d_row1_col1\" class=\"data row1 col1\" >2 (<1%)</td>\n",
       "      <td id=\"T_7bb5d_row1_col2\" class=\"data row1 col2\" >                              </td>\n",
       "      <td id=\"T_7bb5d_row1_col3\" class=\"data row1 col3\" >Ratatouille <1%</td>\n",
       "    </tr>\n",
       "    <tr>\n",
       "      <td id=\"T_7bb5d_row2_col0\" class=\"data row2 col0\" >Distinct</td>\n",
       "      <td id=\"T_7bb5d_row2_col1\" class=\"data row2 col1\" >11 559 (69%)</td>\n",
       "      <td id=\"T_7bb5d_row2_col2\" class=\"data row2 col2\" >                              </td>\n",
       "      <td id=\"T_7bb5d_row2_col3\" class=\"data row2 col3\" >LEGO Marvel Super Heroes <1%</td>\n",
       "    </tr>\n",
       "    <tr>\n",
       "      <td id=\"T_7bb5d_row3_col0\" class=\"data row3 col0\" >Duplicated origin</td>\n",
       "      <td id=\"T_7bb5d_row3_col1\" class=\"data row3 col1\" >5 155 (31%)</td>\n",
       "      <td id=\"T_7bb5d_row3_col2\" class=\"data row3 col2\" >                              </td>\n",
       "      <td id=\"T_7bb5d_row3_col3\" class=\"data row3 col3\" >FIFA 14 <1%</td>\n",
       "    </tr>\n",
       "    <tr>\n",
       "      <td id=\"T_7bb5d_row4_col0\" class=\"data row4 col0\" >Dupl (modify - origin)</td>\n",
       "      <td id=\"T_7bb5d_row4_col1\" class=\"data row4 col1\" >2 (<1%)</td>\n",
       "      <td id=\"T_7bb5d_row4_col2\" class=\"data row4 col2\" >                              </td>\n",
       "      <td id=\"T_7bb5d_row4_col3\" class=\"data row4 col3\" >Madden NFL 07 <1%</td>\n",
       "    </tr>\n",
       "    <tr>\n",
       "      <td id=\"T_7bb5d_row5_col0\" class=\"data row5 col0\" >Empty</td>\n",
       "      <td id=\"T_7bb5d_row5_col1\" class=\"data row5 col1\" >---</td>\n",
       "      <td id=\"T_7bb5d_row5_col2\" class=\"data row5 col2\" >                              </td>\n",
       "      <td id=\"T_7bb5d_row5_col3\" class=\"data row5 col3\" >LEGO The Hobbit <1%</td>\n",
       "    </tr>\n",
       "    <tr>\n",
       "      <td id=\"T_7bb5d_row6_col0\" class=\"data row6 col0\" >RAM (Mb)</td>\n",
       "      <td id=\"T_7bb5d_row6_col1\" class=\"data row6 col1\" >1</td>\n",
       "      <td id=\"T_7bb5d_row6_col2\" class=\"data row6 col2\" >                              </td>\n",
       "      <td id=\"T_7bb5d_row6_col3\" class=\"data row6 col3\" >FIFA Soccer 13 <1%</td>\n",
       "    </tr>\n",
       "  </tbody>\n",
       "</table>\n",
       "\n",
       "                <div>\n",
       "                    <img src=\"data:image/png;base64,iVBORw0KGgoAAAANSUhEUgAAAfQAAADcCAYAAACGXlNlAAAgAElEQVR4Xu2dCbxV8/r/v51KmmhQmhRRSoiQIUPGUjLepCQkTaaMmbu65qtRKpIh+nWFJN2iySwpuURooOuHqJQGcqX6v97P/a/zW2fb+5x9zt777LXW/jyvV69OZ6/1HT7f1f58n+f5rudTZufOnTudTAgIASEgBISAEAg1AmVE6KFePw1eCAgBISAEhIAhIELXgyAEhIAQEAJCIAIIiNAjsIiaghAQAkJACAgBEbqeASEgBISAEBACEUBAhB6BRdQUUkPgr3/9q+OPTAgIASEQZgRE6GFePY09LQhA5tdfOdDt3JGW5tSIEBACQqBECJQtn+cqV69Qonu5SYReYuh0Y1QQgNCPqn6W+2HlxqhMSfMQAkIghAgc+Zcmrvnx9Us8chF6iaHTjVFBAEI/rNIZbvWyn6MyJc1DCAiBECLQ5sJmrsWJDUo88sgR+ubNm92zzz7rXnvtNTd16tQ/AbN9+3Y3adIkt3btWnfaaae5Fi1alBi80rzxww8/dA8++KC7+OKLXYcOHUqz61D29e9//9s98sgjrmrVqu6OO+4odA4i9FAusQYtBCKHQOgI/fvvvzfCffHFF91f/vIXd+ONN9qifPHFF+7JJ590e+65p7vwwgvt75La0qVL3a233hqX0GfMmOGWLVvmevfu7VavXu323XffEnXz66+/uuHDh7tdd93V5eXluVWrVrmTTz7ZderUqUTtJXPTgAEDbBNSGKF/8sknbuzYse6DDz6wjUuTJk0KND1mzBg3fvx4d/XVV7vzzjvPVa5cOZmu86+BKJlz7Po88cQTbvTo0e6qq64yDGrUqGH3fP7556558+b5Pz///PPuP//5j7vhhhtc9erVk+77999/t7ZatmyZ9D3PPPOMrYsIPWnIdKEQEAJZRCB0hA5W7733nlu4cKF74YUX3N133+1OOOEEg3Dy5MlGsIcddlhKkH755Zdu4MCBcQl92LBhbrfddnOXXXZZSn08+uij7o8//nBXXHGFtQPBT5s2zV1wwQUptVvYzddff71tGory0B9++GH37rvvuv3339/ddddd+U1u2rTJiHTx4sUWwahZs2axx4o3y0bgoIMO+tO9Z599trvkkkscf2M//fST69Kli+FSqVIl+x3rDfZ169YtVt+vvPKKtUf7ydr//M//uJUrV4rQkwVM1wkBIZBVBEJL6GvWrDHPFi+XL946deoUIPStW7e6v//9765WrVrum2++cSeddJI79dRTHR7iY4895vbaay+3fPly179/f9sE4JE+99xz9vPGjRvdggUL/kTon376qRsyZIjbZZdd3CGHHOJ69uzp8Ghffvll16BBA/fVV1+5zp07uyOOOMJBim+//bb1O2/ePBub3/B058+f7x566CFXu3btAp9BWh999JE79thj3YoVK2wDceedd7qKFStam3PmzLF7mBe/x0vGa16/fr0jJcC/8XTxZMGgfPny5s3OmjXLxgyhjxw50gjOT9jeIBh7o0aN3L333mtz87xpNiF47DfddFM+oRMxITQNnkQsmjVr5rp27WpjeeCBBwyXr7/+2jYCP/74o0VUjjvuOMOFv/32+OOPG+7jxo2zX7NOrC3RgHPPPddt27bNIifMiWjMb7/95n7++WfbGOFFgzMbse7du5tnzfpy7e677273ERk48cQTbZOQCEf6++yzz2w+RGp4fvweOpGgWPvHP/6hHHpWv8bUuRAQAiAQakLHk7vtttvcDz/8YF/+hOE9D/2pp55yeJSQwXfffed69Ojh5s6da0SHF9ymTRvz/PhiHzx4sDvzzDMdhAKRFRZyJw+NZ4qXCGESHiYFAMH+7//+rxHm9OnTLbx7zz33OL7sIf1DDz20wBPHpgFi/Pjjjy2iAGHhPWNEIAhBMx7s2muvtVAxREl/U6ZMcVWqVHGDBg2ycPSBBx5oxPX000/b9WeccYYjkkA7kBobBMwfcoe0IMR40QwIHWwhMsZ9zTXXOM4W0Effvn0NK89Dp83TTz/dtWvXzjYT3Hf//fcbhpAqBM55AzZBECtpEsYdz0NnHc866yybH5sI7mXebEQg2jfffNM2W/QP1pCuPcRt2riZM2faxufII4+0DQ+5bzZ7ZcqUsfHfd9995tXjoXvrFg/Hm2++2TYxZcuWdfFC7qxnrEHyOhSnL1QhIASyjUDoCf2XX35x3bp1s9ww3pRH6JAledMDDjjA7dixwzzeESNGuI4dOxr5VKtWzciBayAhSBPiwJIldHLp/fr1s42CZ3iAeLKE0CF/iKgwwwN/9dVXLX1w/vnnW8QgltDZMDB++rr00kvdRRddZE2yUYHMmR/k5G0IIBgOv7EpwAuGRGMJvbAxeYROO2xK/vnPf7qJEydaxADc/ITOfPGo99tvP2sST5xNAlGKyy+/3B1//PG2WfFy14UROvczx1atWtnGig0H4yeiAKYcUiRtQASCswxEW9gkMF42UWy0/ITOpo5IDs+Cn9DBPB6ORHXYiHEtphx6tr+e1L8QEALFQSD0hM5kCYVDHsccc4yRO4TClzgkwgE5v0F6hIgJDXuGl0yoFmItLqHjsRLq9axt27ZGcGw0CiN0vFY2IJ7hfeJVQ1qxhD5hwgSbIwfxiAxwrd9IFRCqHjp0aIHfk59nvhBqSQi9Xr16dm/79u0dofW//e1v9ncsoRMd8Q7PQbiQOVEQNkyzZ8+2SAMbJjZSRRE6RA1+++yzjxFrhQoV3O23325eNWkDQud458wNrEi7QPr8XBxCj4cjGyBy5mxiROjF+RrRtUJACAQBgUgQOkDijY0aNco8OQidf5OjJlfNl75nhNx51Qwi9gziwXPHI4NIkvXQvdAt9xEi/vbbby3kzgEsPL3CCJ3cOaFg8tsYJI2XjrcZS+hsNvBaiSQQ3iY3DWl6tmTJEiNM8vTe6XA+oy3y2uTCYwmdDQIeqb8drz3PQyekTYiZcwPgCW6xhE6/nE3AiyZSwBgZH7nt1q1bW+iaDQkYgz1nDAhrJzq4iFfuET/XY2y4IGA2Ynjg3it4bGSwZAidNADYsCli3eLhCO5sIkjdkCKQhx6EryiNQQgIgWQRCB2hQygQBPlx8qFNmza1ue7cudNdeeWVRqiQBSFvPC2IBU+TnC2eJWFafk+olrw3h7O4Hs+Q8DiEzuEpwujkjP3Ew714qRxOI+wNYXGYjpwrIWLvUBz3sLHg9+T4yfHGGiFy8vd77723kTrES7iZsUIskCLeMQfXvNe0uO6tt94yj7dhw4bm4ePx1q9f337HfYzDyxVD2Byag2j5HXlz5kdunPHFOxRHvp9NELlzTqNzuhy8yMNz/UsvvWSvtUG29A1Rs5FiHuTAiXyQOiDH7s2PPD5rwwaBKASn5LmXfHk8YwPC2oKFZ2x+uJfNGXj06dPHwv9sMiBg1p10CxhyJuKoo44ycmZ8jJ9NAfezWeAaTvHHw5HNC5sdcNqwYYNbt26dnQkA40Sm99CT/brRdUJACGQSgdAReibBCErbEDMH3CBdWfAREKEHf400QiGQCwiI0AO4yrEh9wAOUUPyIQChdz21t9u66XfhIgSEgBDIGgJ7NNzNNWjx36JcJbHIlX4tCQjpvIdXv8i9ExK+7rrrLCUgCzYCkk8N9vpodEJACCSHgAg9OZx0VYQREKFHeHE1NSGQQwiI0HNosTXV+AiI0PVkCAEhEAUEROhRWEXNISUEIPR2zbu59d9uSakd3SwEhEBiBKrXq+yOOr+pyytbRjBlCAEReoaAVbPhQUCn3MOzVhppeBGo06SaO+PGw1xengg9U6soQs8UsgFotzBNcGqn8743FdpSkaoNwDRTHoIIPWUI1YAQKBIBEXqREKV8gQg9ZQjT1wDFcCiegvoY1eq8KnReD7169bLCOtRbp8BKMlZYtTQqtFHdLhVCpzIcIjkUdEGuFdU4xk1pXNqm4h5FZFBao+ANim30SyEhfsd1zId69xTyofQs9eUL00qnLC/FYvbYYw+r7oeYDRK8lJSlKE65cuXyoeGtAzYvFCJKZCL0ZJ4kXSMEUkNAhJ4afsncLUJPBqVSvIZX3agIR61zKuN5RkU7xGmosgZRJmuFaYJTt57yq6kQOuNgTFS0Y7NB9T3mgFFXnU0K5VoxStKi4Ab5e0bJXMiYd/ep8/7GG28UOTVKyKLGhgLfli1brBwtmFBVEBEcCB6jMh4yrWwYCjMRepGQ6wIhkDICIvSUISyyARF6kRCV7gXUfUcoBeU4yBb5UIz66YcffrjVZvcIPZ6mONcm0gSn7C4CMJSXRTSF+u6UgoXQ4+mxQ7yvv/66Ee6XX35p6mlUv0MtzW8QOqVlKfeKShylX1FpK4rQFy1aZHPCikPolJ2l/K2nAEcEgN9Rk95vjB/JWn8J2nirKUIv3WdcveUmAiL0zK+7CD3zGBerBwgdTxWxGcLKSJ5CfBAqeuGUlPUIPZ6m+DfffGPkH08THG15wtnnnHOOjckLuRP2jqfHHqs4R/17yJMxxSN06uRT43706NEm14r3HOuhs0FgDBjhcmreF5fQGTc4NG7c2O4FM2r9d+/ePX9YSNOysUGT3W+I6sQa45QeerEeU10sBIqNgAi92JAV+wYRerEhy+wNkBMkB5l//fXX5hHfcsstbtCgQSZl6if0eJriaJ8n0gSHCBHGQbjET+iEuePpsZPn9ivOIeiCGpun2+4h4XnoELpHsOvXrzcype1EIXfmgkdfXELH+yc6gZiL19/BBx9cQGqXsSDJW6dOnQILBnnHGiQvQs/sc63WhYAIPfPPgAg98xgXqweP0PG+UUvDq4ZY8Y45KOcReiJNcTzzeJrgaJKjN0/InpB7LKHH02P/17/+VSJCR0kPXXuU21DTKyyH7oETL+SOyhyH6FCa8xs5czY5SNJiEHeXLl3cKaecYv9m/ii43XTTTUlhr5B7UjDpIiGQEgIi9JTgS+pmEXpSMJXeRR6h0yMeLqTKKXIkX/2EnkhTnNB8Ik1wctydOnWyjYKf0NesWRNXj72khE7byJ1C5Oigl5TQmcuKFSss/eA3TstzBgDJ1c2bN1v+nAiDl9sn5YDOe7KH/UTopfd8q6fcRUCEnvm1F6FnHuOke5gzZ45pfF9wwQV2wn3JkiVG6ISlly1bZt45p929V7viaYrz2lYiTXDIjwNrHBLjla/p06e7vn37Wn/x9Njpj0Nz5NfRmMcrPuKII+wUe9myZW1eHJQjKsBmA51yv3Y8beJlQ+jotI8cOdIRioeA0YqnTYx8N30xHg6xYby6R+qAscUK3JDbZx6E08n/d+jQwfTTMTDjNbVkvXPuEaEn/YjqQiFQYgRE6CWGLukbRehJQ6ULo4qACD2qK6t5BQkBEXrmV0OEnnmM1UPAEYDQ2zbs7Nau2hzwkWp4QiC8COzRqKo74dIDVPo1g0soQs8guGo6HAhA6Nf0udG5neEYr0YpBEKJQBnnqtctWMMilPMI8KBF6AFeHA2tdBCQfGrp4KxehIAQyCwCIvTM4qvWQ4CACD0Ei6QhCgEhUCQCIvQiIdIFUUcAQu930QD3x+87oj5VzU8IZA2BsuXzXJ39qmWt/1zoWISeC6usORaKgE656wERAplHQKfcM4+xCD3zGKuHgCMgQg/4Aml4kUBAhJ75ZRShZx5j9ZBGBDZu3GiiK9SIR42OinnUvqfITmyN+WS7FaEni5SuEwIlR0CEXnLskr1ThJ4sUhG9zqvSRqU3KrhRoQ3FNirCUSq2KFu4cKFdW5ihk05VuGRLsca2RTU4quU9//zzVt6VanDItULoWCLRmKLG7n0uQk8WKV0nBEqOgAi95Ngle6cIPVmkInxdrDAK4iqUUx0+fHi+Xnm86bMZQI1txIgRhaIDYVI/HonTkhjlYz/66CN32GGH2e0i9JKgqHuEQHYREKFnHn8ReuYxDnwP8ZTOzjjjDKvzzt8YcqR42AimoIcO4SMCQ635du3auUsvvdQtXrzYvf32265KlSpu6dKlJgGLuAoiM0i3UpO9devWbujQoa5q1aoO2VVqwd9www0mFUuNeGq0N2nSxD322GPus88+sxrz77zzjl2DNGzNmjULJfStW7da7flatWpZpIE+Tz311Pw1IFQfa/xO8qmBf0w1wJAjIELP/AKK0DOPceB7iCV0SJucNCFtL0yOXOtee+3lPv30UyNd8tizZs0yUZaHH37Y5rh69Woj0nLlypnsKwIsbdu2tVA+eu546M8884yjrVtvvdXuueOOO0xiFXlYJFcRVTnkkEMcY3riiSeM0DGkX+mrKEJ/6qmnHBEG+ieC0KNHDzd37lwReuCfQg0w6giI0DO/wiL0zGMc+B4gTxTcIF682uXLl7thw4a5/fff38a+bds2N2HCBFemTBnHobR3333XvfDCC38idELhr7/+uim5TZ061fXq1cuddtppBQgdT5ucO/rl2KRJk+xg20MPPZQWQmdD8Pvvv7sDDjjAlN4I1ZMS8JTd4i2GcuiBf0Q1wAggIELP/CKK0DOPceB78HvoP/30kxErB828cDvkDDHeddddFkq/88474xI6Yfhx48a5+vXruwEDBlhYPh6hH3744SaLiuHp0zZh8nR46BB6y5Yt3YUXXpg07iL0pKHShUKgxAiI0EsMXdI3itCThiq6F8aG3D3NdcLdeOnks3/++WcLh5PXJnyOhz579mz7+9FHH3Xbt293Rx99tHnt1apVc9dcc43r2LGjEXrnzp3dzTffbIfann32WcuXE2rH2BzQBwRMHr5nz56Wb08l5D5//nw3ZswYl5eXl9SiidCTgkkXCYGUEBChpwRfUjeL0JOCKboX4ZE//fTTbsqUKW7gwIHu+OOPd7vvvrsR4syZM81Tb9y4sYXk8XwbNGhguXXe/a5Tp47r3bu3a9OmjZExYfnPP//ctWrVyoif/Pttt93mRo8ebQfmCOm3b9/eDRkyxPrgFblff/3V2t5ll13cSy+95J588kkLyRMif/PNN+1gHTl3ogNsEk455RTbRLz88svWdqVKlWws9MkYOGx3zz332AakXr16lrc/88wzC11AEXp0n2/NLDgIiNAzvxYi9MxjrB4CjoAIPeALpOFFAgEReuaXUYSeeYzVQ8AR+K84y7Vuu8RZAr5SGl6YESi7S57bc9/dwzyFwI9dhB74JdIAM42A5FMzjbDaFwJCoDQQEKGXBsrqI9AIiNADvTwanBAQAkkiIEJPEihdFl0EIPQBfW50O3dGd46amRDIOgJlnKtet3LWhxHlAYjQo7y6mltSCEDobRt2dmtXbUrqel0kBIRA8RHYo1FVd8KlLVxeXpni36w7kkJAhJ4UTLooygjolHuUV1dzCwoCOuWe+ZUQoWce47T2gBTpqFGjrGY6hV5kqSMgQk8dQ7UgBIpCQIReFEKpfx44Qv/++++tmhiFQyg4cuKJJ7rq1avnzzRWv3vnzp1WoGTRokVW8KRs2bJ2Lcpcb731ltUVR/1rw4YNjrapUOYJjvD59OnT7d8UNlmzZo0VTqFACf/2mzeuyZMnm3qYV4vcu4bqav3797ciJuiIN2zYMPXVSdACAiSMNR6hM6c5c+a42rVru82bN7uVK1fmC5xkbEC+hlFQe+2119zgwYNNrQ3ZVNaPcSG1euihh7rLLrvM7b333qUxnKT6EKEnBZMuEgIpISBCTwm+pG4OHKEz6nhynv7ZxPucqmaUGYXQUemC1ChJSuUwz2bMmGFlRvfdd1+rQkb9cKqb1ahRwy5hc0BlMgRI+DvW6HfkyJEOiU4qq3mbB66jtCk1ydmEMI5MWiJCh0yppEZJVk+MBCwop1qaxjioHjdx4sR8gRf6R1GtU6dO7vzzzy/N4RTZlwi9SIh0gRBIGQEResoQFtlAJAgd7xidbQylrZNPPtk88Vhipd44imHU+EYJjHKheNV++/bbb93ZZ59thB3rZUPoq1atMgES5D89ne2FCxeaQhnKYZRKpd/169ebghieKER/5ZVXmmgJ5FG+fHkLmeP1s4nA27777rtto/H888+bpjj645988km+t40KGnXPK1eu7Aoj9BNOOME2F0QK/LXMv/jii4R64/TNGNE5R798t912s74qVqxoY/E8fm8MaKBfe+21JsCCNCk/H3jggfkwJkvo48ePN5xYF+YFdkix0ic65vPmzXNERMAV3KkRTx14+qWsK+kH6swj6wr+rOU+++xjmzE2NL/88os78sgjCzwHSKvGGvrs0kMv8rtCFwiBlBAQoacEX1I3h5bQkeHs2rWrTRL9bvLKGISEktc//vEPt99++yUEgVA+RBRb5xuChQQgBUjFbxA65EttcUgc7x675ZZbjKipVe4ROqSGp0/om1rp69atM+8dEvvxxx9tQwCJQp4XX3yxI3rAz6Qb2GhA7nizbCxIGSCI0rx5c5tbYSF3NMPZSHAPGw4UzBgDlkjNLFYIBVyo2w6+icYARqQ1IGP+QLCeeYRO3XZ/uoRQPBspPHR01YmQgA2GshuSrZAwtdhZPzY0FSpUyFd34zqU39544w03fPhwwxo8iAZMmzbNNgL9+vUzbLmftfzqq68MS88g71iD5EXoSX1f6CIhUGIEROglhi7pG0NL6Hxp88WOoQoGUWDLli0z4sLTxVvzjDA03h1iHpDHueeea55ePELH2yffC+nHI/RjjjnG7nvkkUfsYwRJunfvbuTnETrED6kQzoe4yeVD/BA6wiGQu2dXXHGFbSIISSNCwuaAjQm5fH6HcXYALxjlssIInWtJCUBuYMCcGQf9J0vobCoYM+SYaAyMF8/dn9KIJfTCQu6cd2CzQjQFI4LAxgYSBntkVTG8c8bC77z17dOnj+muc2+7du3Mc2fzRHSGjR7KbcyX/D3XFKW6ppB70t8XulAIlBgBEXqJoUv6xtAQ+o4dO8yzrVu3bsIc+9q1a83LJY/Ml7RHFh4aEBpf8vyBFFDiIhTuN8LKkD2eIAfk4hE6IXk8ZkiEsDQ/E+L1Ezohf1TDIP5nnnnGEcpPROjvvvuuu++++0w9DG8RkoLQOTxGrj/WEhE6hAaZo2SGgVmPHj2MyNEmT5bQiTzgQaOklmgM6SD0BQsWuFiPmXB+LKGj1IY3jxGNYaNBOJ71ZVPVrFmzAhCBA5iyeWrRooXhXpiJ0JP+vtCFQqDECIjQSwxd0jeGhtD5Iofk0NiOdyiOUC1e3eWXX25hXDxyDsWRm41H6LRx7733Gtl6YWHvUNyWLVss7BtrXsgdQidnC0HikUOamJ/Q2TAQWoZ0IEg87ESETr943kQPOMRWrlw5R9j69NNPN2lQNgZ+S0To5OSZN54uRrt4+MiisnlJpDceG3LnesL+zDPRGFIl9CVLlljKgxy5dyiRMccS+tKlS22jg7QqxtsPbHLYCIA9hM1pes9Ih7CRadSokUm4shEALxF60t8JulAIZAQBEXpGYC3QaOAI3XstjdfJvBw5r6UR1iZfyil1CJtcMTlrjC/wH374wV6JIvSNceqdV6V4JY2wMLrbXMPn5KKx+fPnWzvea2t8zsE1iI+Da36DLCFmPGheS2vatKm7/fbbjWzI85LDHTFihONQGqfK8XBJBRC+37Ztm70+BlFC2GwYCPczF89efPFFOyDGhsQzxk8bHM7jEB3zBQu8UqIDEKLfO+V3HGbjWkLORCzowztVnkhvnDmxcSAygT46mwlC12AQbwysEZENDt+xifFjRYQAvXKwIPQN3oyHMwIceDvggAPM82dczI3NBORL5AVc0UP3tM7JjWNs1DgUx5zIiaOLzvUcimPjRUSCcwKceeAa9NZJTzBOojXHHXecCD3z3yXqQQgUioAIPfMPSOAIPfNTVg+xCECqbJKIaOSiKeSei6uuOZc2AiL0zCMuQs88xoHvITbkHvgBp3mAEHq75t3chu9+SXPLak4ICAEPger1KrsjOzdxeWVVyz1TT4UIPVPIhqRdXjnjEBqHyK677ro/vaoXkmmkNEzJp6YEn24WAkIgIAiI0AOyEBpG9hAQoWcPe/UsBIRA+hAQoacPS7UUUgRE6CFdOA1bCAiBAgiI0PVA5DwCEPoFp/R2Wzf9nvNYCAAhkCkEKlbdxTU77v8qSmaqn1xuV4Sey6uvuRsCOuWuB0EIZB4BnXLPPMYi9MxjrB4CjoAIPeALpOFFAgEReuaXUYSeeYwj2QMV3caMGWPleCncQlU6CuhQzIZiO9Rqp4gOmu2oz1FYhupunmALxYCoM08xGU8pj2JAFJbh1H1ReulUhBs7dqwJr8STh0UMh6I2KOOhxlaYidAj+YhqUgFDQISe+QURoWce48j2QOU3KrhRmc0zyrJSLY9SvVSK43U4KunFk1SFlKm77qmhUclu8+bNVq2OKniJjE0Elfio5964cWOrN+832kRxDjU4hGlE6JF9BDWxECEgQs/8YonQM49xZHuIJfRFixa5ww8/3OZbFKHjQVMC1/PEkUqlhKynCkfpXzYChRma8ci2xhI6ZWepjd+lSxcrGytCj+wjqImFCAEReuYXS4SeeYwj2wOEjoypJzOLohw14QsjdNTnEMNZvXq1ydgiRYsh2erV4Ud0BVEYFOKKS+iebC4bC1IBsYTuybL620VyV3rokX1MNbGAICBCz/xCiNAzj3Fke4j10KkH7ym9FeWhQ6J46RA6wjnk2j39ekRX+B3iLcUh9IULFzrC+IjMYPEInX5jDZIXoUf2MdXEAoKACD3zCyFCzzzGke0hXg7dm2xRhO4HBXW1li1b5offkcI99dRTTdrWy6/HAzE25E7pWmRtPUM9D6W3u+66608StP72dCguso+oJhYgBETomV8MEXrmMY5sD+kidIj5jjvuKIATEqkNGjRwN954Y0L8EuXQvRvieejxGhOhR/YR1cQChIAIPfOLIULPPMaR7IFDbCNHjjQNd3TaCXPvuuuuNldOqU+aNMk99dRTRsjkykYJNEYAACAASURBVCdPnmw67lzLa2ytWrVyaKdPnDjRcTK+f//+7uijj7b7P/74Y5Ny/fzzz007HT33smXLFvC8FyxY4DgVjxY6mufHH3+8/ew3EXokHz1NKqQIiNAzv3Ai9MxjrB4CjoA89IAvkIYXCQRE6JlfRhF65jFWDwFHAEI/qsbZ7scVGwM+Ug1PCIQXgdr77u7aXdXS5eVJDz1TqyhCzxSyajc0CEDo11850O3YEZoha6BCIHQI5OU5V3WPiqEbd5gGLEIP02pprBlBQPKpGYFVjQoBIVDKCIjQSxlwdRc8BETowVsTjUgICIHiIyBCLz5muiNiCHgh950KuUdsZTWd4iCQV7aMq1Lzv2+qyMKJgAg9nOumUacRATsUV/0s98NKHYpLI6xqKmQIHHxqI9eq0z4hG7WG60dAhK7nIecR0GtrOf8ICADn3KEd93FHnLOvsAgxAiL0EC+ehp4eBETo6cFRrYQbARF6uNeP0Zcaof/2229u2rRp7sEHH3SXXHKJqWn563R/9913DnGPV155xaqJ7dy50/3xxx8OSc7nnnsuv1IYGtdvvfWWyWxWqVLFbdiwwX3//fdWOnTPPfe0FVm5cqUbP368VQ7jmk2bNrlt27a5fv36WW1vv6GtjTjHiy++6G6//XarYoae9quvvuruvvtuq2B23nnn/akKWbqX/l//+pcbM2aMYzwIlqxdu9ZVq1bNXX/99fkV2OL1yVipqEYtdAxhEyq2eVikMk40zKdMmeJGjRrlDj30UNMo99aM36M1Dj5t27ZNpZsi70XNjWfBM9aadYo1hFmoKleuXLn8j7Zv3+5mzpxZ6PqJ0ItcAl2QAwiI0MO/yKVG6EAFQbRp08bKfe6///5/Qu+9995zt956q3vjjTfyP+PLmC9vSn8+8cQTbs6cOVYWtGrVqvnXzJgxw9qDbBDkuPDCC93QoUPzSY4LZ82aZaVHKUlaqVKlAn3H6xe1L8qJspkoTCAknY9AbG30Pn36uEMOOcQ2IomMDRClVtkkYZATG5CDDjoobUNDJAXsKd/qbYjYfLDx8DYSaessTkNDhgyxjU1Rxqbwo48+slKzGLg8+eST7oYbbij0VhF6Ucjq81xAQIQe/lUONKF/8MEHrnXr1oYynujJJ59snnisd4YXVqZMGZeXl2deLl49Hnqs8UV/2WWXuXPOOafYhE7N8oceesgUwSCNK6+80tWvX98ItHz58kZ0XMPv3n77bXfSSSe5efPmmdeP0Ahjvvrqq00HHFGRK664In9u3mBiCf2+++5zW7Zscffcc49tRFatWmVe+9dff+0GDBhgt7EBwiPHi23atKnVTqeGOf2jCf73v//dxvbNN9/Y74444og/jfn++++3DcHZZ59tf2Jtx44dVlOdTdSwYcPcihUrLJKCx46BNXNnHSpXruzQM08WrwsuuMDm1qhRI4usQN6xliyhx7uva9eurl69evkfffHFF39qn0iD5FPD/2WmGaSGgAg9NfyCcHfgCB1vii9hDAlOwr0YJMKXP1++++23X0LsuB9SQTIz1vr27WvedqyCFx46HiChfs8I8T7//PP5HjrRhY0bN7ratWtbagAtb+6BzAiTQ6wQPRsLCJhxImBCqJo0AymHO++806IUbAxuu+22P43PT+ibN282bfGePXu6xo0b270vvPCC3TN16lSLYgwfPtxB+nXr1s330JnDoEGDzENHHIV0AxsJvNcePXq4uXPn/mnMjJHNB1EONiTxjHA263LLLbe4d955xzZWRDo+/fRT2zSACcamCdJv2LBhUngRAWGzw2aDNY63tsiitmjRwjTSCaczDjY2hRnzJZUSu9asS6xB8iL0IHwdaQzZRECEnk3009N34AjdH3J//PHHXa9evWymy5Ytc926dTOS3Wef/3u1Yvbs2eaxQi6QCWTKz/EInRB2kyZN/hSCTSbkvmbNGiPpGjVqGHGTw4fcIPSff/45PyRMLhwCh0w8Q6ObeZCXhwzZcBCujjUIHcLlMzTBUR9r3769ebD0SbseFszl9ddfL5TQb7rpJotsHHDAAQ4vmzZGjBhhKQ//mJN9lCBfyBqPmdQJxu/IpxM9wSBHNiJsMpLBi3MVjImoCX8SbSi8MbJJWbhwoSm9eX3yGRskNNQ9Iwpy+eWXuzp16hQ5PYXci4RIF+QAAiL08C9yIAgdb4ov8njECsQcENttt91MJpMvX/8XOZ9D9OSN+fPYY4+5+fPnW+401jp06ODw0s8888wCHyVD6HikhKu5l5zyt99+mzSh0xkh7c6dO7slS5Y4iJb0QDxCJ6weG3aG0BcvXmyeMEbkgrw6XnVhHjr9kOPmTIHfYjchyT7GjI0IABsJ7wwDhI6UKWcW/JYsXtxDOoAQPhGIZ599tlBSZ8NA+J+DkYmM0D2HHJl/MiZCTwYlXRN1BETo4V/hrBM6niMeGvnYeMSKp4q3i7dFWBePnENxeLme+Qkd8uffhLX9B7Zee+01y6/jNXq63d79yRA6HjEnqNlMTJgwwULYyXro9PPyyy9bdOGEE06wucSz2By6d83SpUvNA0X/22sLDXFIlPw3UQNIDmPTcPPNN7vDDjvMQu5sbpi3fwMRj9DBtXnz5q5BgwYJn+p4hM4GhbXjwBzj8CxZvIhYHHvssXYbZw26dOlSIHrx2WefWbTCO0vBWw7gQPQmkTF/xpTsSX8Revi/yDSD1BEQoaeOYbZbKDVCJ4dMaBYSwsutXr26hYEJZZMPhYT9r60BDJ9zap0cb/fu3Q0rTr3jnfFljZdIXpVr+BxCwnh1iy982oX4yX0TesarJVTuNzxtvHnahVAgRMYK+UKwF110kbWNF0qbEAuvwOEFDhw40E5/c3CNQ2rkoNlsQN4QsBeWpr+tW7faq3p4oPFIk1fPCCNzMhuPmvQBJ/s9Y1MDoTL+r776ysZKWBsvnTB4u3btbH60gTePJ00ImhQE4XUOhpFXZ0PB63j+MdNHYYfi+Jz58qYAmwFy8hzC22uvvWx44MKmiINtXj6ftxGSwYuxc16BteT1Q3CrUKFC/rzJ3ZNq4MCf9zxwoDDRxoMNBmuZrHdORyL0bH8Nqf8gICBCD8IqpDaGUiP01IYZjbsJmcce0orGzMI9CxF6uNdPo08PAiL09OCYzVZE6BlGn2gBniseLJ4o77bLgoUAhN711N5u66bfgzUwjUYIlCIC1epWdnsfUrDwVil2r67SgIAIPQ0gFtYEh8Y4Xc6rZ16eO8NdqvliIiD51GICpsuFgBAIJAIi9EAuiwZVmgiI0EsTbfUlBIRAphAQoWcKWbUbGgRE6KFZKg1UCAiBQhAQoevxyHkEIPR2zbu59d9uyXksBEDuIrB3q9quxYmJX1vNXWTCM3MRenjWSiPNEAI65Z4hYNVsqBDQKfdQLVfcwQaK0KlzPm7cODsR7i+dGn6YozcD3vUePHiw1ZVPtoBLUFEQoQd1ZTSu0kRAhF6aaGemr1IldNS4qARGcZZddtnFCs2gCIaQB9XAKP+KXGhsLfRkp05hEgq3UNgF4RSKn1DAxjO/5jiKZGiuU3CG4jYInWBsKqiwxutmCLEgBoL4CkVNKNLiGcVtpk+fbmTGXGiDYieXXnqp/dtviLSMHTvWoR5HGVfqyfuNSm5ewRbK1/qr4CU7dyrkUUOdgjjJ3E8BFvplnhTI8V6no7AN8wdL1gqyS9QmGFKuVYSe7CrpOiEQXARE6MFdm2RHVuqETo1tSqhi1FaHeCmnyjvalPSE7CjAgoBISSxRPXivrXjlVSkn2rFjR7uEKmQIelCxzF8ulfuQBcUou8oYKQHrlTtlc0AZVqrS8Xescf+7775r1eT8wjGooaEQR3U3ytPWrFmzJNPOF1+h5GuyRvU3lMt4tc4veEMlOcrTIrvKK3eJ2mzbtq3dmw5Cp0QtleyqVKmS7PDTdp089LRBqYZCjIAIPcSL9/+HXqqEHguXn9C9z/Ci+YKFYPmZsqV4t5QGRWeckqJ4zgh6ICka640Wl9D9musff/yx6aXHI1Y2HHjrGMpprVq1cv379y8wJcrIoidO5IGog98gdArM3HvvvRZB8EiQUrFsYihV6vVLlIASucyZnylFC+lTfpZKc9RJp1Qr/RH2RhaVzQfXsDlhU5AMVoyPErLg6cm54qGPHj3a5FGps+5vE6+dcTEPyrPiybMJYy7xNNETzYN7wRrPH315FOYo7wsG8XTUKSeLJCzlaoniUCa3WbNmJoWLWAvRBtTViPZQYjdWA96vwhbvv6wIPfxfZJpB6giI0FPHMNstBJLQ/SF39MCppU5d9E6dOhlZ4sXxBU/tdjTS/ZYMoaMWRjgeI9SPmAeGt4laGwRTmHEv4h+xqm146UceeaR56Oh7xxI6ZA9RQl4QKZrnkI+nAOcROmpu1DBHShbjHmqZU1ee8Dg11K+88kpLF6C2BhYYsquoloFPMlhxz4cffmi12UkfkJ6AzFG1oz9/m2wSvBruyJxiXsidcH88TfT3338/4TxYN3AnxUIaAl11UhqJdOfZPJDWgPRZM/BFUAYVPurps9m4/fbbE2rAe2uBaE+ssVGQHnq2v4rUf7YREKFnewVS7z/whI7oyWmnnWYEQ34aUsNQOzvwwANNTKW4hO6XKPVrrkMsCLUgQuIZ4i/omJNHJxQPmUEmjCseoXM+gA2Jt2Hw2sFDh9DxKCEuPGnSCiiNISJDWx6h4xUj1UoOG2NcEC9khGdLmoL72XgQ8j/qqKMKkO+GDRuSwsobGx4+4+BvPF3/WQFvkwChQ+CkGbzwvEfob7zxRlxNdDYmieZBfxx8JJIBvmwoRo0aZaQdT0fdT+j+zQTRAdI4RHMYeyINeE9hD/KONXAVoaf+ZaIWwo2ACD3c68foQ0XohMPJXxdm8Tx0DrRByIRu4+XQ8Qr5Q06Z3DGen/8wHZ40BM0BMELEhLzJ9+Il+400wLnnnmsnv2PVwDxCR/WMa9q3b29eJSTE37GETvjYiz5AfOSyPT10Dr+xscCrJVRepkyZPxF6Mlh5Y2e+tE0YnxK13gaBzz1CZ+PAz5AtIXc/qULo8TTR2ZgkmocXeWFzBDaE4SmNm0hHvTiEHk8DvrBnRiH38H+RaQapIyBCTx3DbLcQGkLn4Bzyow888IB5fYksHqF/+eWXbsWKFZaXj0fo5Irx4CAfQuF4fWide0QZS+j0QS4cD9Qjfu9QHB6g38ON9dAJl0OKQ4YMsfBwixYt/kTonNT/+uuvjdwwzgpwmA5ZVQxPnlP5RCy8A4Z+8iXkngxW3th4+4DT9eTsmZPf/B46hE8on2v9hI5XHU8TvbB5kHvnkCBpE3BmbpB6Ih31ZAk9kQa8CD3bXzXqP+gIiNCDvkJFjy8rhM5BN/LYI0aMsBPukAS5VMzTE8dj5MAbeVY8Lg6DQaSEyAnTcgIbzW8OSXlGGB5NdcK3nN7GOMzGISq8XbxMXtXCWydcjEFmeLoQOORCXpo2yGFzWKxixYp2UIuDaeSQd999d7uPU9nkq73X1tBkZyyQbPny5Qsgz2tr9EvuHDKsVKmSkT6nyTmEBrlx8I9T9MyJw3cQPn0xfsL+hNm91+EYM/ODvGgL471wTs+zISEC4Om3J8Iq9tGYPHmy4e2d9o/XJpsMNjJEGdBlB2fy/2AbTxOdTU6iebBJIbXBYT7+7LfffrZZI7UQT0edufLccK6Aw4B4/6Q9yPejAc/rd2DKBitWAz42NRI7d3noRX9R6IroIyBCD/8aZ4XQww+bZpAKAhA9qQIO+LFp2bZtm0UjOBPBAcjSNhF6aSOu/oKIgAg9iKtSvDGJ0IuHl65OAwKrV6+2NAJVAT0jAkOkJht68RB624ad3dpVm9MwOzUhBMKJwP7H1nMHn1bwddtwziR3Ry1Cz921z9rM8dBJt2CcXeBUPgftunXrlpUxQejX9LnRuZ1Z6V6dCoFAIJBXtozbfc//pvBk4URAhB7OddOo04iA5FPTCKaaEgJCIGsIiNCzBr06DgoCIvSgrITGIQSEQCoIiNBTQU/3RgIBCL3fRQPcH7/viMR8NAkhUBIEKlQs5/bYe7eS3Kp7AoKACD0gC6FhZA8BnXLPHvbqOTgI6JR7cNaipCMRoZcUOd0XGQRE6JFZSk0kBQRE6CmAF5BbRegBWQgNI3sIiNCzh716Dg4CIvTgrEVJRyJCLylyus8QQH4WQRukTJEuRRoWwRzKuH711VdWG5+695k0attTV7+wksCF9S9Cz+TqqO2wICBCD8tKJR6nCD38a5jVGSAaQ3lc9Mkpl4toDJr1KMj5P8vkICndy4aCcZTEROglQU33RA0BEXr4V1SEHv41DMwMYgmdgVFjHY15RGmWL1/u+vfv7ygsg8wp9fSpq09RGQR0qIFPjX5q56MpjxIdtfL5DLlVNguI67z99tsmYTtv3jy7Bh10IgHI7HIvcqio4rGhwHNHAMczlOFijd9JPjUwj5EGkiUEROhZAj6N3YrQ0whmrjcVj9ARnEG8pU2bNm7atGlGxgjvQOxnnXWWkTDiNYsWLTJyR3wFIkbIhvbYCOCBIwqDjCy654ivoFjHfVxHH5SNpS1kcDdu3GjCOojsrFu3zoRtROi5/nRq/kUhIEIvCqHgfy5CD/4ahWaE8QgdNb127dpZCB6iRc0OYRYIHenXtm3b2vzGjx9vamoe+SLYMmHCBJNW5T6kVtGjh9AffPBBI3fP/ISOlCtkj7IeGwNU4VDSK8wUcg/NI6aBZhABEXoGwS2lpkXopQR0LnSTiNAfeeQRy7H7rShCnzp1qhEykrBLly41MZdkCB3VNg7HIZmKtjtSqyL0XHj6NMdUERChp4pg9u8XoWd/DSIzgkQhd3LY6KYXh9DJu+Oxk2v/7LPP3KBBg5Ii9D59+pjnT2QAD/+7774ToUfmCdNEMomACD2T6JZO2yL00sE58r2sXLnSzZ071w7AXX311e7EE0+0/DeH4sh5o3tOXpvDbDVr1nQ33HCDO/LII90ll1zidtllF3f33Xe7LVu2uAEDBrj999/f0R7h95YtW7oGDRq45557zj3wwAOWa+fVOML25OU//PBDO0B3yCGHuF69etm/H3/8cde6dWvTWacd+q9fv37CNVDIPfKPpyaYBAIi9CRACvglIvSAL5CGl3kEROiZx1g9BB8BEXrw16ioEYrQi0JIn0cegf+Ks1zrtkucJfJrrQkmRqB8pbKuViOJs4T5GRGhh3n1NPa0ICD51LTAqEaEgBDIMgIi9CwvgLrPPgIi9OyvgUYgBIRA6giI0FPHUC2EHAEIfUCfG93OnSGfiIYvBFJAIK9cGbd77UoptKBbs42ACD3bK6D+s44AhN62YWe3dtWmrI9FAxAC2UJg/zb13MHtGmWre/WbBgRE6GkAUU2EGwGdcg/3+mn06UFAp9zTg2M2WxGhZxP9gPZNPfRx48a59957r0CJ1dIa7vvvv2813RkDKmqeUWhmxIgR7tdff7V30tNlIvR0Ial2woyACD3Mq/ffsYvQM7yGCIiMHTvW/fTTT6579+4mIuK31157zY0cOdIKn1BQZceOHW7Tpk2uXr16rl+/fnYpoiUUbMGqV6/utm/fbgVbKKbSo0cP+z2/o745VdXq1q1r7XDf8ccf7zp06FCgT67t0qWLFV+hqMuUKVPc4Ycf7ho2bOh++eUXGwttx9ZMTxYq+mUsL774oimhIZpCDfdXX33VCshQ9vW8886zYjOJDJyGDx9egNC59pVXXnHvvPNOXEIfNmyYq1KliimvYQsXLkxKI12EnuzK6rooIyBCD//qitBLYQ2R/Fy1apUbMmRI3N6olgbpdevWzT5HXnTmzJlGxHilXbt2dVdccYU744wz8u/nmtGjR9vvMcjsm2++MSWzcuXK2e/wZCm5Cjl27tw5/14IHbKlRCpGP1Rlo1zqH3/84V566SXXpEkTa2vixIklQgjvHi/bL1fKeNhgUPXN73nH64Ax4403bty4wMcQOkItVIeLNUrPIsFap04dK/nKhoQ2ijIRelEI6fNcQECEHv5VFqGXwhoWh9BRFvvhhx/MW8eeeOIJN2PGDKtjHmuQL+T922+/WalVPFrKqfqNMqmPPvqotZHI/ITuXYOqGUTXsWNHUzhjY0GkoWrVqiaBOmfOHCvlyiYC4ZTKlSsXaD4ZQie0P3ToUGuTn5kHJWErVKhgmxDIn34RWOnZs6c74YQTzENnQ0BJWDZJu+22m0OQxQvDo7J23XXXufvuu8/GjdLbpZde6nbddVcbH9GPWGMM0kMvhf8I6iLQCIjQA708SQ1OhJ4UTKldlAyhV6pUyTVv3jw/TI7HjiFOguFtJrJly5aZdw95x9YsX7x4sevdu7fVWU8U4k5E6P6QO4RKyoD66ZAtYXrC24imMG40z/0GoeP1/+Uvf8n/NRuQ559/Pt9DRw0NrxpPHoOYmzZt6i666CLrwwu5Mz/mwKaEefhD7jfeeKPdQ5j9qaeecqtXrzYxllmzZhn5g73fIO9Yg+RF6Kk947o7/AiI0MO/hiL0UljDZAjdC7nj8X7xxRcWgsfwWAkj43F6hsf61ltvmbdJrhuxE8Ly8QgdsRIUyObNm2febDxLhtARTWFMkCceL6SLEdo+8MADC4T0+X0yHjpzQ+qUfD42adIkE1d56KGHChA6nyHqggzrihUrChA62ucLFiywlEMyhB5v/gq5l8J/AnUReARE6IFfoiIHKEIvEqLUL4hH6OvXr3cVK1a0P7E5dHrkEB0H4Ai5z54927xav5GbhuQ5VEe4GsKDCI8++ugC15EPHz9+vJs+fXrCiRSX0C+77DL35ptvFgpMsoTOYTzPu+cgHRro5O5jD8URbn/yySft0J/fQyfHv2TJEsupi9BTf1bVQu4iIEIP/9qL0EthDeMROuQFCXOAKx6hcw8H3vDCL7zwQvvZf1rdT+hMAe91+fLlRureobitW7daKPrcc8+1P4msOITOwbnTTz/dTpnjXSeyZAj92WefdV9//bWF2jFy8ZwdYL5+Qmde1157rZs6daodFowNubOJYX5+QmcTxLkDzg8UZfLQi0JIn+cCAiL08K+yCD3Da8jBrDFjxri1a9fawTUMjxrCw+MkXMxJbO+1NT7nFS9y3+SbMe7ltbW8vDzz2suWLWuhbl5PI5yOcep98uTJ5q2ySeDf5JM5WNa+ffu4s+TA2euvv279Q9SQKCF8DCIkhI+3zIG3m2++2Q6ikbNm7GiO85pbrVq1LE/uz92TEmBukO8111xj4XgOvDEfNiqE68nHk4Pn5D+5ffLrHGwj786rdH/729/sIBt/SENcfPHFFtoHTzYCnH7nACHXkg6gT9pmTrRBeoG8Ozl/UgRglchE6Bn+T6DmQ4GACD0Uy1ToIEXo4V9DzSBFBEToKQKo2yOBgAg9/MsoQg//GmoGKSIAobdr3s1t+O6XFFvS7UIgvAg0OrSWa3Fig/BOQCNXpTg9A0JA8ql6BoSAEIgCAvLQo7CKmkNKCIjQU4JPNwsBIRAQBEToAVkIDSN7CIjQs4e9ehYCQiB9CIjQ04elWgopAhD6Baf0dls3/R7SGWjYQiB1BKrXrez2PrRW6g2phawhIELPGvTqOCgI6JR7UFZC48gmAjrlnk3009O3CD09OAayFSRWKTiD+IlXvMUbKO+IDx482Iq17LnnnoEcf2kNSoReWkirnyAjIEIP8uokNzYRenI4lcpVCI9Qk5wiKwiLUMPdb7169TIddGqgoyKWjCGAgipZLKFz73HHHWfV1FIhdArGTJs2zQrEUOWNMrOMm2I4tP35559b8Ztt27ZZgR200umXwjf8juuYD8ViKGRDURgK8FBAJ5Gh2U6p1z322MMKyiArS2lYjII4a9assc++/PJLK2yzzz77FAqVCD2ZJ0nXRB0BEXr4V1iEHrA1RPqTeuWUej3zzDPzR/fBBx9YRTeqzMWTUk00DUrMrly5Mi6ht23b1mrEp0Lo9MuYKNvKZqN169YmX4rRL5sUKrZh8UrgUhMeMo5XKjbRnLyoQ48ePdyWLVusEh2YIDtLnXn6pJrehAkTDEvK1BZmIvSA/SfQcLKCgAg9K7CntVMRelrhTL2xgQMHuiZNmpj8J2RbpkwZa5TSqwiZoC7mETrlVfGQKXeKV+954ZA4RLbXXnu5pUuXWnlWPvv+++9Nf7xRo0amOU7tc8RbIHQ8awRjtm/fbqVer7rqKvO6KQ0L4eLt0hcecKz2OYR+9913W016SrTee++9VnK2KEJftGiRzQkrDqFTapb5UIoWIwLA7/g3ym0I0TDGkSNH2maDcrUi9NSfTbUQbQRE6OFfXxF6wNYQQkcfvGPHjhZWPvbYYx3EB6FSn/zpp5/OJ3S0xCFtjJrl5MWpew75E77GS/WH3K+++moLZ59zzjl2jxdyJ+xNzXbaxghhE/ontO3XRKcGO+TJmPzmETr119FJHz16tEMFDe851kNng+DVtCdc7nnPxSF0xs1YqeeOgdlBBx1k9eHpnw0PmyJkaFGr829A2OzEGnrr0kMP2H8EDafUERChlzrkae9QhJ52SFNrEHKC5CBzlMjwiG+55RY3aNAgk1H1E/qMGTMszI24CeFsPNN//vOflrf29NP9hA4REob2csoeoaPcBhEi0IJBhHja5Ln9hI7XfvbZZ+df583UT+geweLt4xnTdqKQO3OhH6w4hI73T3Ri3333zSf0gw8+2Lx9PHc2E+TxiWYgx+oPuUPesQbJi9BTe251d/gREKGHfw1F6AFbQ4/Q8b7PO+88h1cNseIdc1DOI3Q+J8/OKXVU2CBnfsYzJ9R9zz332Mw8Qr/99tvdMcccYyRHyB3zEzqqb4Tj/YayWUkIHcnXbt26uWbNmrmmTZsWmkP3+otH6Dt27LBDdLFKaeTM2eS0atXKbkcillA7KQVSDGyGMHBgw4DcamGmHHrA/hNoiN8yowAAB6pJREFUOFlBQISeFdjT2qkIPa1wpt6YR+i0hIcLqXKKvGLFigUI/cMPPzSyJc/ukTOETmge7/zFF180aVG/h06OG4lUNgp+QudUOHrjyK/WqFEjfxIlJXQa+Pjjj43IOaRW2KG4wgiduaxYscLSD37jtDxnAHr27Ok2b95s+XMiDGwKJk2aZGF2DCIncuFhlGh1ROipP7dqIfwIiNDDv4Yi9ACt4Zw5c0xn/IILLrAT7mibQ6p4mYSK8c457e692kU+u1q1aq5FixZG4BDc+eefb4fZPv30Uwutb9iwwa1bt868VsiPA2v16tWz17oI0fft29f6o18IEe8djxjypz8OzZFfR5ccr/iII46wU+zk5zEOyhEVIHrQr18/y+V7Rpt42RD6J598YofUCMVDwOeee661iaHtTl+Mp2vXrvY7DvmROmBsJ510UoFVIrfPPNB9J//foUMHd9RRR1lfXpSB8wZsCNBCR0e9MBOhB+g/gYaSNQRE6FmDPm0di9DTBqUaCisCIvSwrpzGnU4EROjpRDM7bYnQs4O7eg0QAhD6UTXOdj+u2BigUWkoQqB0ETjo1IauVafCizCV7ojUW3EREKEXFzFdHzkEIPTrrxzoduyI3NQ0ISGQNAJly5VxVWr8Nw0mCycCIvRwrptGnUYEJJ+aRjDVlBAQAllDQISeNejVcVAQgNBlQkAICIGwIyBCD/sKavwpI0DxG4za9rJoIrB48WIT8vHrI0Rzprk7K0So+L/MGzq5aiL0XF15zTsfARF69B8GEXr011iE7pwIPfrPuWZYBAIi9Og/IiL06K+xCF2EHv2nXDMsEgERepEQhf4CEXrol7DICYjQRehFPiS6IPoIiNCjv8Yi9OivsQhdhB79p1wzFAJCQAgIgZxAQDn0nFhmTVIICAEhIASijoAIPeorrPkJASEgBIRATiAgQs+JZdYkhYAQEAJCIOoIiNCjvsKanxAQAkJACOQEAiL0nFhmTVIICAEhIASijoAIPeorrPkJASEgBIRATiAgQs+JZdYkhYAQEAJCIOoIiNCjvsKaX6EIjB492m3atMn95z//cXXr1nW9e/cWYhFCYOnSpa5Xr16ubNmy+bOaMmWKq1WrVoRmmZtT2bJli5swYYJbuXKlGzJkSD4I/Puxxx5z9evXd//+97/d1Vdf7Ro1apQTIInQc2KZNcl4CLz//vtu0qRJbsSIEfYxZN6nTx932GGHCbCIIAChU0GsQ4cOEZmRpgEC27Ztc7Nnz3br1q1z/D9mY+5Zz5493fXXX+9atGjhFi1a5MaNG+ceffTRnABOhJ4Ty6xJxkPgvvvuc3vuuafjCwBjV79+/Xp38803C7CIICBCj8hCJpjGjBkz3PTp0/MJ/aeffnJnnHGGe/fdd11eXp7bvn27a9OmjeO6GjVqRBsMp9KvkV9gTTAxAgMGDLD/7J07d7aLJk+e7ObPn++GDRsm2CKCwPLly90zzzzjGjZs6DZu3Oj22msvd9555xUIwUdkqjk5jVhCZwN3zTXXmPfu2SmnnOIefvhh17x588hjJA898kusCSZC4Nprr3VHH320O//88/MJnfDd0KFDBVoEEcBbIxR78MEH50dlIjjNnJpSLKF//vnn7qqrrnJz5swpQOijRo1yzZo1izw2IvTIL7EmmAiB+++/39WsWdNdfvnldsnYsWPNixs4cKBAiygCEydOtLyqojDRWOB4IfeOHTtayJ2DkH/88YdF4WbOnKmQezSWXLMQAvER+OCDD9zTTz/tHnnkEbuA09B9+/Z1hx9+uCCLCALPPfec69Spk6tUqZLNaPDgwXbCvV+/fhGZYW5PI5bQvf/HeOktW7Z0CxYscOPHj7fzMblg8tBzYZU1x4QIcDoWr7xcuXKudu3a7uKLLxZaEUJg1qxZ7vXXX3cNGjRwvOa0c+dOR6qlQoUKEZpl7k2F10znzp1rZ14+++wzd9FFF7lWrVrZ62m8tka0rXHjxu7bb791/fv3t1fYcsFE6LmwypqjEBACQkAIRB4BEXrkl1gTFAJCQAgIgVxAQISeC6usOQoBISAEhEDkERChR36JNUEhIASEgBDIBQRE6LmwypqjEBACQkAIRB4BEXrkl1gTFAJCQAgIgVxAQISeC6usOQoBISAEhEDkERChR36JNUEhIASEgBDIBQRE6LmwypqjEBACQkAIRB4BEXrkl1gTFAJCQAgIgVxAQISeC6usOQoBISAEhEDkERChR36JNUEhIASEgBDIBQRE6LmwypqjEBACQkAIRB4BEXrkl1gTFAJCQAgIgVxAQISeC6usOQoBISAEhEDkERChR36JNUEhIASEgBDIBQRE6LmwypqjEBACQkAIRB4BEXrkl1gTFAJCQAgIgVxAQISeC6usOQoBISAEhEDkERChR36JNUEhIASEgBDIBQRE6LmwypqjEBACQkAIRB4BEXrkl1gTFAJCQAgIgVxAQISeC6usOQoBISAEhEDkERChR36JNUEhIASEgBDIBQRE6LmwypqjEBACQkAIRB4BEXrkl1gTFAJCQAgIgVxAQISeC6usOQoBISAEhEDkERChR36JNUEhIASEgBDIBQRE6LmwypqjEBACQkAIRB6B/wfgCcByv/zBGAAAAABJRU5ErkJggg==\" alt=\"График\"/>\n",
       "                </div>\n",
       "                      \n",
       "            </div>\n",
       "            "
      ],
      "text/plain": [
       "<IPython.core.display.HTML object>"
      ]
     },
     "metadata": {},
     "output_type": "display_data"
    }
   ],
   "source": [
    "gen.next()"
   ]
  },
  {
   "cell_type": "markdown",
   "metadata": {},
   "source": [
    "**Наблюдения:**  \n",
    "\n",
    "- В столбце с названием игры есть 2 пропущенных значения (менее 1%)\n",
    "- Топ 5 самых встречающихся игр: Need for Speed: Most Wanted, Ratatouille, LEGO Marvel Super Heroes, FIFA 14, Madden NFL 07"
   ]
  },
  {
   "cell_type": "code",
   "execution_count": 659,
   "metadata": {},
   "outputs": [
    {
     "data": {
      "text/html": [
       "\n",
       "            <div style=\"display: flex; justify-content: flex-start; align-items: flex-end;\">\n",
       "                <style type=\"text/css\">\n",
       "#T_077e5 caption {\n",
       "  font-size: 16px;\n",
       "  text-align: left;\n",
       "  font-weight: bold;\n",
       "}\n",
       "#T_077e5 th {\n",
       "  min-width: 100px;\n",
       "}\n",
       "#T_077e5  td {\n",
       "  min-width: 100px;\n",
       "}\n",
       "#T_077e5_row0_col0, #T_077e5_row0_col1, #T_077e5_row0_col2, #T_077e5_row0_col3, #T_077e5_row1_col0, #T_077e5_row1_col1, #T_077e5_row1_col2, #T_077e5_row1_col3, #T_077e5_row2_col0, #T_077e5_row2_col1, #T_077e5_row2_col2, #T_077e5_row2_col3, #T_077e5_row3_col0, #T_077e5_row3_col1, #T_077e5_row3_col2, #T_077e5_row3_col3, #T_077e5_row4_col0, #T_077e5_row4_col1, #T_077e5_row4_col2, #T_077e5_row4_col3, #T_077e5_row5_col0, #T_077e5_row5_col1, #T_077e5_row5_col2, #T_077e5_row5_col3, #T_077e5_row6_col0, #T_077e5_row6_col1, #T_077e5_row6_col2, #T_077e5_row6_col3 {\n",
       "  text-align: left;\n",
       "}\n",
       "</style>\n",
       "<table id=\"T_077e5\">\n",
       "  <caption>Статистика и топ-10 значений столбца \"platform\"</caption>\n",
       "  <thead>\n",
       "  </thead>\n",
       "  <tbody>\n",
       "    <tr>\n",
       "      <td id=\"T_077e5_row0_col0\" class=\"data row0 col0\" >Values</td>\n",
       "      <td id=\"T_077e5_row0_col1\" class=\"data row0 col1\" >16 715 (100%)</td>\n",
       "      <td id=\"T_077e5_row0_col2\" class=\"data row0 col2\" >                              </td>\n",
       "      <td id=\"T_077e5_row0_col3\" class=\"data row0 col3\" >PS2 (13%)</td>\n",
       "    </tr>\n",
       "    <tr>\n",
       "      <td id=\"T_077e5_row1_col0\" class=\"data row1 col0\" >Missing</td>\n",
       "      <td id=\"T_077e5_row1_col1\" class=\"data row1 col1\" >---</td>\n",
       "      <td id=\"T_077e5_row1_col2\" class=\"data row1 col2\" >                              </td>\n",
       "      <td id=\"T_077e5_row1_col3\" class=\"data row1 col3\" >DS (13%)</td>\n",
       "    </tr>\n",
       "    <tr>\n",
       "      <td id=\"T_077e5_row2_col0\" class=\"data row2 col0\" >Distinct</td>\n",
       "      <td id=\"T_077e5_row2_col1\" class=\"data row2 col1\" >31 (<1%)</td>\n",
       "      <td id=\"T_077e5_row2_col2\" class=\"data row2 col2\" >                              </td>\n",
       "      <td id=\"T_077e5_row2_col3\" class=\"data row2 col3\" >PS3 (8%)</td>\n",
       "    </tr>\n",
       "    <tr>\n",
       "      <td id=\"T_077e5_row3_col0\" class=\"data row3 col0\" >Duplicated origin</td>\n",
       "      <td id=\"T_077e5_row3_col1\" class=\"data row3 col1\" >16 684 (99.8%)</td>\n",
       "      <td id=\"T_077e5_row3_col2\" class=\"data row3 col2\" >                              </td>\n",
       "      <td id=\"T_077e5_row3_col3\" class=\"data row3 col3\" >Wii (8%)</td>\n",
       "    </tr>\n",
       "    <tr>\n",
       "      <td id=\"T_077e5_row4_col0\" class=\"data row4 col0\" >Dupl (modify - origin)</td>\n",
       "      <td id=\"T_077e5_row4_col1\" class=\"data row4 col1\" >---</td>\n",
       "      <td id=\"T_077e5_row4_col2\" class=\"data row4 col2\" >                              </td>\n",
       "      <td id=\"T_077e5_row4_col3\" class=\"data row4 col3\" >X360 (8%)</td>\n",
       "    </tr>\n",
       "    <tr>\n",
       "      <td id=\"T_077e5_row5_col0\" class=\"data row5 col0\" >Empty</td>\n",
       "      <td id=\"T_077e5_row5_col1\" class=\"data row5 col1\" >---</td>\n",
       "      <td id=\"T_077e5_row5_col2\" class=\"data row5 col2\" >                              </td>\n",
       "      <td id=\"T_077e5_row5_col3\" class=\"data row5 col3\" >PSP (7%)</td>\n",
       "    </tr>\n",
       "    <tr>\n",
       "      <td id=\"T_077e5_row6_col0\" class=\"data row6 col0\" >RAM (Mb)</td>\n",
       "      <td id=\"T_077e5_row6_col1\" class=\"data row6 col1\" ><1 Mb</td>\n",
       "      <td id=\"T_077e5_row6_col2\" class=\"data row6 col2\" >                              </td>\n",
       "      <td id=\"T_077e5_row6_col3\" class=\"data row6 col3\" >PS (7%)</td>\n",
       "    </tr>\n",
       "  </tbody>\n",
       "</table>\n",
       "\n",
       "                <div>\n",
       "                    <img src=\"data:image/png;base64,iVBORw0KGgoAAAANSUhEUgAAAfQAAADcCAYAAACGXlNlAAAgAElEQVR4Xu2dB3RVVbqA/xRSCBAIkKA06SBgQ30BVHBQSkRF6SWIiAkWiAxGiqKDjIKi1KGIAuqgIG0GkQ6KZRwHRIelqIgoCgohUkIIAkLy1r99uS/1crm55dx7vr2Wy5Dsc87e3/5vvux9ztl/SF5eXp5QIAABCEAAAhAIaAIhCD2gx4/GQwACEIAABAwBhE4gQAACEIAABIKAAEIPgkGkCxCAAAQgAAGETgxAAAIQgAAEgoCArYX+l7/8RfQ/CgQgAAEIQCDQCdhe6CMfHiV5uYE+jLQfAhCAAAQCgkCISHSlclIuMtzjzbW90BOr3CmH9mZ5HCwnhAAEIAABCBQlUCk+Wm5JvUIqVY/2OBzbC71V+a5y8NvjHgfLCSEAAQhAAAJFCcQmlJcuj1yN0D0dGnr/HKF7mirngwAEIACB0gjYQuinT5+WlStXypQpU6Rz585Svnx5OXDggAwYMEDatGlj2CxcuFAOHjwoFStWlMOHD5v/P/bYY5KZmSnjx4+XRo0ayalTp8x/o0ePlpiYGKdRhdD50EEAAhCAgC8J2ELoCvTMmTPStm1beeONN6RJkyayY8cOSUtLk40bN8pXX30ls2fPlgULFjjY69eDBw+WjIwM2bNnj9xwww3mZyNGjJBmzZpJSkoKQvdlpHItCEAAAhBwSsC2Qj9y5Ih06tRJVqxYYaSts+7p06dLy5YtnQJ7/PHHJS4uTkaOHOmo98033xQ7ZsmSJSy58+GDAAQgAAGfEbCt0JcuXSqLFy+W5cuXS2hoqEyePNl8rUvrSUlJ0qNHD4mMjCw0ELm5ueb7EyZMkObNmzt+pvIuWlTy3EP3WRxzIQhAAAK2J2A7oes99OjoaImKijL30BMSEhxB8Ouvv8qmTZvkrbfekqpVq8r8+fMLBYguw+u99Z49e14wcLiHfkFEVIAABCAAAQ8SsJ3Q8++hF2R49OhRiY2NlbCwMPPtY8eOSZcuXWTVqlVG+JoFVh+aq127ttx6660u4UfoLmGiEgQgAAEIeIgAQheR1atXS7169aRFixYGa1ZWlnTv3l3Wrl0rusw+Z84cswyvD9O5WhC6q6SoBwEIQAACniBgC6GfP3/e3B/X++TJycnmYbimTZs6+O3cuVNefvllqVu3rllS379/v3Tr1k2uu+46WbZsmXndLTz8/7fS0/vnc+fOdcofoXsiPDkHBCAAAQi4SsAWQncVhifrIXRP0uRcEIAABCBwIQII/UKE3Py5Cr3vrSny24mzbp6BwyAAAQhAAAKuEygXFSaXXRUvMVUKv6Hl+hlKr2n7vdxJn+qJMOIcEIAABCDgbwIInXzo/o5Brg8BCEAAAh4ggNARugfCiFNAAAIQgIC/Cdhe6J2a9ZOjB076exy4PgQgAAEIBDGBqArl5Jrb60mVSyt4rZe2Fzpbv3ottjgxBCAAAQj8HwF9CE7zoMfVROheCQpeW/MKVk4KAQhAAAJFCNhe6Bs2bJAZM2ZIzZo1TUIW3e5Vs67phjNDhgyRKlWqGGQ//PCDSasaHx8vZ8+eld27d5s86Q0bNnQaVAidzxwEIAABCPiCgO2FrpAHDRokHTt2lH79+hnmOTk5JpOaSlv3fC9fvrzJe6550RMTE02dbdu2SUxMTKFsayUNGEL3RRhzDQhAAAIQQOglCD1f6rpv+/Dhw81+7jpb1y1h09PTTYY2VwtCd5UU9SAAAQhAoCwEEHopQleoOiNv3LixjB49Wnbt2iVjx46V48ePS7t27aR3797FZucvvPBCsbE4efIk+dDLEqEcCwEIQAACLhFA6BcQut5L13vlWjS5y44dO2TNmjWyfv16mTZtmrRu3doBWuVdtKjkecrdpVikEgQgAAEIlIEAQi9F6L///rvJha5L7nfccYdkZmZK9erVHag185reax83bpxT/Cy5lyE6ORQCEIAABFwmgNBLEbqmRd28ebN5KC4yMlImTpwoY8aMKST0uLg480Cds4LQXY5FKkIAAhCAQBkI2F7oa9eulVmzZskll1xi7pfrK2n66prOxlNTUx2vranQs7OzzettWufcuXOSlpYmERERCL0MAcihEIAABCDgGQK2F7pnMJZ+Fmbo3ibM+SEAAQhAQAkgdC/HgQq9fZ2ekrkv28tX4vQQgAAEIGBnAtGx5aRt36ZS5dIYr2Gw/V7uaanpInle48uJIQABCEAAAoZA+dhIiYwJ9xoN2wtdZ+kUCEAAAhCAQKATQOgIPdBjmPZDAAIQgICI2F7oDyQ/IufO5hIMEICAjQiEhodKtToVpFyk95Y/bYSTrlqEgO2Fzk5xFolEmgEBHxKoWqeiJI24WqIrOn+11YdN4lIQKDMBhF6+qxz89niZQXICCEAgcAgg9MAZK1rqOgGEjtBdjxZqQiBICCD0IBlIulGIgGWEfvr0aVm5cqXoPuydO3c2ec4PHDggAwYMkDZt2phGL1y4UA4ePCgVK1aUw4cPm/9rcpYjR47I+PHjpX79+qL7vP/yyy8m+1rB/d1LGnc2luHTAAF7EkDo9hz3YO+1ZYSuoM+cOSNt27Y1e7Q3adLEZE/TLVw3btwoX331lcyePVsWLFjgGBP9WtOoatrUvXv3SqtWrczPNClLfHy8DBs2zOn4IfRgD2/6B4GSCSB0IiMYCVha6Drz7tSpk6xYsUIyMjJM7vPp06dLy5YtSx2LvLw8efjhh81xmoktv2zdurXYMfo9HooLxrCmTxBwTgChEyHBSMDSQl+6dKksXrxYli9fLqGhoTJ58mTzdaNGjSQpKUl69Ohhsq3lF53B79q1yyRpGTVqlISFhSH0YIxa+gSBMhJA6GUEyOGWJGBJoes99OjoaImKijL30BMSEhzwfv31V9m0aZO89dZbUrVqVZk/f34xsPq9PXv2yKRJk1hyt2TY0SgI+JcAQvcvf67uHQKWFHr+PfSCXT569KjExsY6Zt2aRrVLly6yatUqqVatWqHZuM7Shw4dKh9++CFC907ccFYIBDQBhB7Qw0fjSyEQMEJfvXq11KtXT1q0aGG6kpWVJd27dxfNmb5lyxaTL71BgwbmZ2+//bYRfUmz94IceCiOzwUE7EkAodtz3IO915YR+vnz5839cb1PnpycbB5qa9q0qYP/zp075eWXX5a6deua19X2798v3bp1k+uuu848Db9o0SLz2pqeRx+g0wfj9F66s4LQgz286R8ESiaA0ImMYCRgGaH7Ay5C9wd1rgkB/xNA6P4fA1rgeQK2F/oDySPkPMlZPB9ZnBECFiYQWi5EqtaqIOWiSM5i4WGiaRdJwPZCJx/6RUYM1SEAAQhAwJIEEDr50C0ZmDQKAhCAAAQujoDthf5Iarrk5V0cNGpDAAIBSiBEpMolMQHaeJoNAecEbC/09nV6Sua+E8QJBCBgAwLVL6sk7QZdLiGhITboLV20GwHbC5293O0W8vTXzgQuaVxZuj7aCqHbOQiCuO8InXzoQRzedA0ChQkgdCIimAlYTujfffed6JPn5cqVk9TUVElMTDT8dbMY/V5cXJzJeb5u3TqTSvXRRx+V7du3S4UKFeT++++XzMxMueeee2TZsmUSE+P8XhnvoQdzaNM3CBQngNCJimAmYDmhK2zdzlUzp+l2ryEhf9zr0h3kKleubKSdL/h58+aZ3Oe6a5zKvkaNGpKbmyuff/65Ize6s8FD6MEc2vQNAgidGLAXAUsK/fTp02br1xdeeMFs7ZqTkyO9e/cWzXWu+7RrWtTXX39dmjdvbraCfe6558zMfcyYMfLRRx+ZWfuaNWtMNrb8cuJE8QffpkyZQj50e8U7vbU5AWboNg+AIO++JYWuzCdMmGD2ZddZtOZFr1KlikycOFGefPJJad++vZG2ztp1Bv/qq6/KwYMHjdC1tGnTxszuCwpd5V20qOR5KC7II5zuQaAAAYROOAQzAcsKXZfN09LSZMOGDTJ69GiZOnWqTJ8+Xfbu3Wtkvn79epMiVYsrQi9pEFlyD+bQpm8QYMmdGLAXAcsKXYdBs6ldeeWVJi3qwIED5aeffpIePXpIx44dzQNztWvXRuj2ild6C4EyEWCGXiZ8HGxxApYW+iuvvGJm33o/PDY21qB86KGHRO+xF8x1zgzd4lFG8yBgEQII3SIDQTO8QsDSQj906JCo1J944glH59977z05duyY3H333eZ7P/74o8ycOVOOHz8uI0eOlH379sn48ePNcr3WiYyMLBUcS+5eiSlOCgHLEkDolh0aGuYBApYWugf65/QUCN3bhDk/BKxFAKFbazxojWcJ2F7onZr1k2M/53iWKmeDAAQsSaBKzRhJ7NmIrV8tOTo0qqwEbC908qGXNYQ4HgIQgAAErEAAoZMP3QpxSBsgAAEIQKCMBBA6Qi9jCHE4BCAAAQhYgYDthd7nlhT57cRZK4wFbYAABNwgUKlqlDT4nxpuHMkhEAguArYXOlu/BldA0xv7EWh6w6Vy06DL7ddxegyBIgQQOvnQ+VBAIKAJIPSAHj4a70ECPhX61q1bZe7cuaJJUZ5++mm59tprZceOHebrPn36SPfu3SU7O9tsDFO/fn2T9/yXX36RsWPHSvXq1U23V65cKZ999pkkJCSI5k7XY3UXuc2bN4tuOqMJWY4cOWI2o4mOjnaKivfQPRhJnAoCfiKA0P0EnstajoBPha69153d+vfvbySdlJRk0qBqHnPdn12L7vimCVhatWpl/q35zuPj42XYsGFG2G+++aa89NJLEhoaKjt37pSGDRuaHOh9+/aVFStWmJ3h9OeahS0lJQWhWy7kaBAEPEsAoXuWJ2cLXAI+F7qi+uc//ynTpk2T4cOHmxn4ww8/XCJBzX+uP9Pc6HfccYfZx/2WW26Ru+66q1D9jRs3yqpVq2TWrFnm+zrrnzRpkixbtgyhB25s0nIIuEQAobuEiUo2IOAXoSvXUaNGyaeffirr1q2TiIiIYqhnz54tu3btkpo1a5q6YWFh0qVLFyN0nYUfPnxYatWqJffdd5+ZtWtdlbgWneHfe++98sEHHzjOq3WKlm+//ZZ86DYIcroY3AQQenCPL71znYBfhK7Z0p566in58ssv5fbbb3fkNS+p2ZpVbc+ePUbWt912m1mCT0xMlPPnzxuZ68z91KlT8sUXX8hzzz3nEPrgwYPl/fffd5xS5V20qOR5yt31YKEmBKxIAKFbcVRokz8I+EXof/3rX809b71frsvoc+bMkauvvtr0X0Wts/H8ojPvoUOHyocffihDhgwx+dA7d+5sfqySDw8PNznT9f65PnCnZfv27TJ58mRZunSpU6Y8FOePkOOaEPAsAYTuWZ6cLXAJ+Fzo+hCcLqN36NDBUFOZa75znS1XqlTJLME3btxYGjRoYH7+9ttvm/vjOlNXaesT7s8884z52YgRI+Smm24yD9T17NnTPAEfFRUlulyvfxSkpqYi9MCNTVoOAZcIIHSXMFHJBgR8JvSsrCxZvny5bNq0ySy3N2vWzODVB9r01TOdZesSuj4It2jRIvPams7WMzIyzINx+keA/nvKlCmmjr6SdvLkSXnssceMvLds2WL+q127tnltLT093WkudL02M3QbRDhdDHoCCD3oh5gOukjAZ0J3sT0+rYbQfYqbi0HAKwQQulewctIAJGB7oSfGdZOM77ICcOhoMgQgoAQaJdaQNv2aAAMCtidge6GPfHiU5ObaPg4AAIGAJRAaKlKxmvNdIQO2czQcAhdBwPZC12V3CgQgAAEIQCDQCSB0hB7oMUz7IQABCEBARGwvdF1yz2PJnQ8DBCxHIKxciMRUibJcu2gQBKxKwPZCT6xypxzay0NxVg1Q2mVfAtfeWV9adKhjXwD0HAIXScD2Qmfr14uMGKpDwEcEWvdqJC071vXR1bgMBAKfAEIv31UOfns88EeSHkAgyAgg9CAbULrjdQKWEfqGDRtkxowZZkc43fb1p59+ktatW8uAAQMMBM2ctnnzZpMbPTs722RUe+WVV+Tnn3+W1157TVavXi1333235OTkyIkTJyQtLU3q1nX+1z0by3g9vrgABNwmgNDdRseBNiVgGaEr/0GDBpl92fv162e2de3atas8//zzZltYTZuq28bqXu1aFixYIJpRTcvHH38sY8eOla1bt5p/z5s3T7Zt22aE76wgdJtGPd0OCAIIPSCGiUZaiIBlha6MNLOayl3TprZr105Gjx5t0qWG6k4SBUpRoev+8Lrn+/r16x21vvnmm2LYlyxZQvpUCwUjTYFAQQIInXiAwMURsKzQd+/eLSkpKaLZ2XTpXJfUX3jhBalQoYLceuutRvS6/F50hq4JXJ588kmJiIgwSWDyi8q7aFHJ81DcxQUMtSHgKwII3VekuU6wELCc0FXEmmnt7Nmz5p54ixYtHKx/++03kxd92bJl8sMPP4hKulq1ambJfeTIkab+qVOnzB8Affr0cSzPlzZYLLkHSxjTj2AkgNCDcVTpkzcJWE7o+ffQC3Za5a4yj42NNd/Ozc2VgQMHmll6UlJSsXvorgJD6K6Soh4EfE8AofueOVcMbAIBIfRffvnFPBB3zz33GNqaDz05OVlGjRolLVu2ROiBHYO0HgIlEkDoBAYELo6AZYT+/vvvy+TJk6VJkybSrVs3ufHGGx09ycrKMvfFq1evbpbYMzMzTb1evXqZr+fPn2/useurajfffLOp50phhu4KJepAwD8EELp/uHPVwCVgGaH7AyFC9wd1rgkB1wggdNc4UQsC+QRsL/S+t6bIbyfOEhEQgIDFCFStVUFqt6xmsVbRHAhYl4DthU4+dOsGJy2DAAQgAAHXCSB08qG7Hi3UhAAEIAAByxJA6AjdssFJwyAAAQhAwHUCthd6p2b95OiBk64ToyYEIOA1AqHhIdLq9voSX/+PPScoEICA6wRsL3S2fnU9WKgJAW8TCCsXKrf9+Rqp0aiyty/F+SEQdAQQOvnQgy6o6VDgEkDogTt2tNz/BAJC6P/9739lzpw5kpGRIW3atDGbyVSuXNns367pVHVfd02nqsladJtYTezy2GOPScOGDZ0S5j10/wcgLYBAQQIInXiAgPsEAkLo2r2ZM2fKvn375MUXXzS9TU1NlauuukoeeOABk5VNc6MnJiaan2ku9JiYGGnevDlCdz82OBICPieA0H2OnAsGEYGAFfrEiRPl5MmT8swzz8iQIUNMhrX09PQLZlgrOHbM0IMokulKUBBA6EExjHTCTwQCUujZ2dkmUYvOyrt27Sq7du2SsWPHyvHjx6Vdu3bSu3fvYrNzzaVetOgfBDwU56fI47IQKIEAQicsIOA+gYAS+pYtW8w99JycHGndurV07tzZ0fPz58/Ljh07ZM2aNbJ+/XqZNm2aqZNfVN5Fi0oeobsfPBwJAU8TQOieJsr57EQgoIRe8B56wUHSh+QKZlibMmWKkf64ceOcjiVL7nYKdfoaCAQQeiCMEm20KoGgELreTx8zZoyDsQo9Li5OBg0ahNCtGnm0CwIsuRMDEPAogYAQ+tdffy0zZsyQI0eOSP/+/c1987CwMAcIFbreV69Zs6Z5be3cuXMmN3pERARC92i4cDIIeJcAM3Tv8uXswU0gIITurSFgyd1bZDkvBNwjgNDd48ZREFACthd6+zo9JXNfNtEAAQhYgEBYuRC5oX9T9nK3wFjQhMAjYHuhp6Wmi+QF3sDRYggEK4GoCuESXSkyWLtHvyDgNQK2F7ouu1MgAAEIQAACgU4AoSP0QI9h2g8BCEAAAtxD/4s8kPyInDubSzBAIKgJRFeMkLhaFYK6j3QOAnYnYPsZOjvF2f0jYI/+3zCgqVzevpY9OksvIWBTAgidfOg2DX17dRuh22u86a09CSB0hG7PyLdZrxG6zQac7tqSgKWFfvr0aVm5cqXoVq6aiKV8+fJy4MABGTBggEnSouXw4cPy0ksvSUhIiFSuXFk0SYvu+a5Z17p16+Z0UNlYxpYxb8tOI3RbDjudthkBSwtdx+LMmTPStm1beeONN6RJkyYmo5pu67px40b5/fffpV+/fvLQQw9JUlJSoaGbN2+epKSkIHSbBTTdLZkAQicyIBD8BAJO6Lqfe6dOnWTFihXy7rvvytq1a2XZsmXFRiovL8/M2vPL1q1bi9XR7/FQXPAHOT0UQehEAQSCn0DACX3p0qWyePFiWb58uSPD2vPPP3/BkULoF0REhSAmgNCDeHDpGgT+j0DACF3voUdHR0tUVJS5h56QkCCPPvqohIeHy6RJk9waUO6hu4WNgwKQAEIPwEGjyRC4SAIBI/T8e+gF+zd//nzZsGGD6Ky9aDl69KjJie6sIPSLjBaqBywBhB6wQ0fDIeAygYAWelZWlsmPPnToUJMjvWDR/OnDhw9H6C6HAhWDmQBCD+bRpW8Q+IOApYWur6DpvfLJkydLcnKyeRiuadOmhcZOH5LT19a06Ixcjzl06JA0atRIBg4ciNCJdAgID8URBBCwAwFLC93bA8CSu7cJc36rEGCGbpWRoB0Q8B4B2wv9geQRcp7kLN6LMM5sCQKRFctJVZKzWGIsaAQEvEXA9kInH7q3QovzQgACEICALwkgdPKh+zLeuBYEIAABCHiJgO2F/khquuTleYkup4VACQRCQkUq14iBDQQgAAGPErC90NvX6SmZ+054FCong4AzApc2jZO2/ZoACQIQgIBHCdhe6Ozl7tF44mQuELjsmnjp+OAVLtSkCgQgAAHXCSB08qG7Hi3U9AgBhO4RjJwEAhAoQsCSQj937pzJgz5r1iy5/PLLZdSoUXLZZZeZLV51o5nU1FTp0KGD2fZVd4SrWbOmSa169uxZ+e6776Rjx47Su3fvCw4276FfEBEVvEAAoXsBKqeEAASsvVOcpkZ99tlnTS70OnXqyLhx4+T++++XunXrOoZu0KBBRuCaF13Ltm3bTH709957TypUqOB0iBE6nwB/EEDo/qDONSEQ/AQsOUMviF0l/sMPP0jr1q3liiuukBtvvLHQqBQVus7g81OshoWFOeqeOFH8wbcpU6aQDz34Y9xyPUTolhsSGgSBoCBgeaHn5ORI3759pX79+jJt2rRi0FXoERERZsn94MGDsmfPHklLS5M//elPheqqvIsWlTwPxQVFHAdUJxB6QA0XjYVAwBCwvND37dtnRP7JJ5+Y++XXX3+90xn6sWPHZMiQIdK9e3fHMnxpo8GSe8DEaVA1FKEH1XDSGQhYhoClhX7y5EmZMGGCqHj1Proupy9ZskQqV67sAFh0yV1/oNnZ9A8BfajOWUHololDWzUEodtquOksBHxGwLJCz83NNSLXh+Bq164t+m/Nex4TEyNTp04tVehab/DgwdKqVSsZNmwYQvdZKHEhVwkgdFdJUQ8CELgYApYU+vfffy+vvfaanDp1StLT0yU+Pl7OnDkj8+fPlwULFkjPnj3NcvoXX3xhZuH5r62pzH/++Wfz7+HDh0tkZCRCv5hooK5PCCB0n2DmIhCwHQFLCt1Xo8CSu69Ic52CBBA68QABCHiDgO2F3qlZPzn2c4432HJOCJRIoHq9SnLdXQ2gAwEIQMCjBGwvdPKhezSeOBkEIAABCPiJAEInH7qfQo/LQgACEICAJwkgdITuyXjiXBCAAAQg4CcCthd6n1tS5LcTZ/2En8vakUCtZnGi99EpEIAABDxJwPZCZ+tXT4YT53KFQOe0q6ROy2quVKUOBCAAAZcJIHTyobscLFT0DAGE7hmOnAUCEChMwC9C101iXn31Vfnxxx/NpjHh4eGSkZFhdoN75plnzOYwurHM6tWrpUePHub7hw8fNvnOx4wZIzVq1CjUi927d4smX+nUqZPcfffdLo8x76G7jIqKHiSA0D0Ik1NBAAIOAn4RuuYrVyk//vjjEhoa6mjMzJkzHdu1fvzxxzJ27FjZunWr4+eadKV58+YyYsSIQkO4cuVKk21t4sSJsmjRIpeHF6G7jIqKHiSA0D0Ik1NBAAL+E/rOnTvlvvvukw0bNkjVqlULDcW5c+fMbF1LUaHrNrD9+/c3+7nrTDy/6Gx//fr1cuedd5rZ/Pjx4430XSkI3RVK1PE0AYTuaaKcDwIQUAI+n6G/9dZbMm/ePNmyZYvTEVChjxw50khal9o/++wzady4sdnbvWC2Nf3DQBOxVKtWzSzj79+/X8aNG1fs3G+++Wax73377bfkQ+dz4HMCCN3nyLkgBGxBwOdCX7x4sSxcuFA2btzoAKyzb51l6310XYq/6667is3QtbKmTv373/8uS5cuNVnXtDz11FNSqdIfrwDpeTZt2iTr1q1z/Dz/IirvokUlz1PutohzS3USoVtqOGgMBIKGgM+F/vnnn5uUqCreKlWqOEBmZ2fLzTffbHKeX3bZZSUKPSsrSzp06GCyrl155ZVmNr59+/ZCD8Jp6tQuXbqYjGwXKiy5X4gQP/cGAYTuDaqcEwIQ8LnQFXlaWpokJCSYJ9ZDQkLMKLgi9I8++sgc884770hsbKzMmTNHevXqVehe/Ouvv25m6LoScKGC0C9EiJ97gwBC9wZVzgkBCPhF6HpPXF9L0xm2vrYWHR0tR48eldOnT5s85ip3XZZfu3atuYeuRX+mr7MNGjRIrr/+evNKm8q7b9++jhn6oUOHzHErVqww9XSWrn84lFYQOh8AfxBA6P6gzjUhEPwE/CJ0q2BF6FYZCXu1A6Hba7zpLQR8RcD2Qk+M6yYZ32X5ijfXgYD8KbWF1G5e+JVNsEAAAhAoKwHbC33kw6MkN7esGDkeAq4TiIgKk+hKEa4fQE0IQAACLhCwvdB12Z0CAQhAAAIQCHQCthd6oA8g7YcABCAAAQgoAVsLPX+f+Pbt2xMNfiCgGwS1aNFCLr/8cj9cnUv+7W9/kz59+phdFim+J6Crg6wQ+p67XlGTfemeJw8++KB/GuClqyJ0EUHoXoquC5wWofuHe/5VEbp/+SN0//FH6P5j74jGlB0AAAe4SURBVLUrM0P3GlqXTozQXcLktUoI3WtoXToxQncJk1cqIXSvYPXvSRG6f/kjdP/yR+j+5Y/Q/ccfofuPvdeujNC9htalEyN0lzB5rRJC9xpal06M0F3C5JVKCN0rWDkpBCAAAQhAAAKeIGDrh+I8AZBzQAACEIAABKxAAKFbYRRoAwQgAAEIQKCMBBB6GQFyOAQgAAEIQMAKBBC6FUaBNkAAAhCAAATKSAChlxEgh0MAAhCAAASsQAChW2EUaAMEIAABCECgjAQQehkBcjgEIAABCEDACgRsK/TZs2fLiRMn5MyZM3LJJZdISkqKFcYjqNpw8803y7lz5xx9GjdunHTs2FFycnJk0qRJJinIgQMHpGvXrtKuXTtTb/PmzfLee+9J1apV5ciRI/LEE09IdHR0UHHxZmdOnjwpr7/+uuzdu1defPFFx6X03/PmzZOaNWvKjz/+KMOHD5e6deuan5f2WXB2jDf7EMjn3r9/v8ydO1caNGgggwcPdnSFz4L3R3XUqFFSvXp1CQsLc8R4/fr13Y7xQHSELYX+ySefyOLFi2X69OlmsFXmqamp0qpVK+9HnY2uoEIZOXJksR7PmjVLKlasKAMHDhQVUM+ePU3mo9zcXOnbt6+sWLFCIiMj5aWXXpKQkBD+2HIxZn7//XfZtGmT/Prrr6Ixrr+Q8ovKRceiefPm8umnn8rLL79s+Dr7LJR2jIvNsV21jIwM+fLLL+Xdd98VFcl9993nYMBnwfvhoL83unfvbi60aNEi+fDDD92O8UB1hC2FPnHiRElISHD8Ba0zl6NHj8ro0aO9H3U2ukJpv8R69OghOlu/8sorDQ39Y0q/l5eXJ6tWrRIVvpYdO3aYmfyyZctsRK3sXV27dq288847DqHrSoeugvzrX/+S0NBQOX/+vLRt21a0nkq9pM/C/fffX+oxcXFxZW9kEJ9hwoQJcumll7okdD4L3gmElStXmknCm2++KaX9vncW46V9LqzuCFsK/ZFHHjG/0HRmqEX3FP/3v/8tU6dO9U502fSsf/7zn82M8NSpUxIeHm5m35UrV5Ybb7xRXnvtNTOL0aJLZS1btjRC37Vrl5G4Fl3yvffee+WDDz6wKUH3ul1U6F999ZWkpaWZ2Xt+ueWWW2TmzJlG6CV9FvSXXWnHNGvWzL2G2eSokoTOZ8G3g//0009LvXr1JDk5WUr7fe8sxkv7XFjdEbYU+ogRI6R169bSq1cvh9B1iWXKlCm+jTobXe3VV1+V7du3m9n3TTfdJAsXLjT3GfOFfsUVVxihf/HFF/Lcc885hK7Lvu+//76NSJW9q0WF/vXXX8uwYcPM8wkFha7JWfQXV0mfBf1lV9oxTZs2LXsjg/gMJQm9YHf5LHh38PWW0urVq+Wpp54yK1Kl/b53FuOlfS6s7ghbCl1ngPrQlQ6oFn2IJSsry8wUKd4h8M0335h74Trb1pWRMWPGyDXXXGMupuPQu3dvI3S9D6bjoUX/AJg8ebJZQaG4TqCkJffbbrvNLLnrA0P6oKLOytetW2celCvpszBkyBAp7RiW3J2PxYWEzmfB9Vi+2Jr6x//u3btF41dlrqW03/fOYry0z4XVHWFLoW/bts0s+ebfq9WBHTp0qFx77bUXGz/UL4WALp3r0+zXX3+9qbFmzRr5xz/+Ia+88orMmTPHPPSms+/s7Gxz/1zveWlR2evXUVFR5h6wCkjvsVNcJ1BU6HqkxrjOuPW5hf/85z8yf/58I3Nnn4XSjnG9JfasWVTofBZ8EwdLliwxt/Q6d+5c6ILuxHigOsKWQtfRVlnorFzv7cbHx8s999zjm6izyVX09Z3nn39eGjdubJ5eP3TokDz00ENSq1YtI/pnn31WatSoIZmZmZKUlCSJiYmGzJYtW8x/tWvXNq+tpaenG/lTLkxAX8FUdvo8iEpE7x/qKoi+nqbPI+jKhz63oK8KPvjgg+YVNmefBWfHXLg19quhMa5/LOkfrrGxsaLPKejtJX09ls+Cd+Ph+++/N8/oREREFLqQfh70e6X9vnfnc+HdnpTt7LYVetmwcTQEIAABCEDAWgQQurXGg9ZAAAIQgAAE3CKA0N3CxkEQgAAEIAABaxFA6NYaD1oDAQhAAAIQcIsAQncLGwdBAAIQgAAErEUAoVtrPGgNBCAAAQhAwC0CCN0tbBwEAQhAAAIQsBYBhG6t8aA1EIAABCAAAbcIIHS3sHEQBCAAAQhAwFoEELq1xoPWQAACEIAABNwigNDdwsZBEIAABCAAAWsRQOjWGg9aAwEIQAACEHCLAEJ3CxsHQQACEIAABKxFAKFbazxoDQQgAAEIQMAtAgjdLWwcBAEIQAACELAWAYRurfGgNRCAAAQgAAG3CCB0t7BxEAQgAAEIQMBaBBC6tcaD1kAAAhCAAATcIoDQ3cLGQRCAAAQgAAFrEUDo1hoPWgMBCEAAAhBwiwBCdwsbB0EAAhCAAASsRQChW2s8aA0EIAABCEDALQII3S1sHAQBCEAAAhCwFgGEbq3xoDUQgAAEIAABtwggdLewcRAEIAABCEDAWgQQurXGg9ZAAAIQgAAE3CKA0N3CxkEQgAAEIAABaxFA6NYaD1oDAQhAAAIQcIsAQncLGwdBAAIQgAAErEXgfwFGvyMK5BtgQQAAAABJRU5ErkJggg==\" alt=\"График\"/>\n",
       "                </div>\n",
       "                      \n",
       "            </div>\n",
       "            "
      ],
      "text/plain": [
       "<IPython.core.display.HTML object>"
      ]
     },
     "metadata": {},
     "output_type": "display_data"
    }
   ],
   "source": [
    "gen.next()"
   ]
  },
  {
   "cell_type": "markdown",
   "metadata": {},
   "source": [
    "**Наблюдения:**  \n",
    "\n",
    "- Больше всего игр на платформах PS2 и DS (по 13% от общего числа игр)."
   ]
  },
  {
   "cell_type": "code",
   "execution_count": 660,
   "metadata": {},
   "outputs": [
    {
     "data": {
      "text/html": [
       "\n",
       "            <div style=\"display: flex; justify-content: flex-start; align-items: flex-end;\">\n",
       "                <style type=\"text/css\">\n",
       "#T_65a11 caption {\n",
       "  font-size: 16px;\n",
       "  text-align: left;\n",
       "  font-weight: bold;\n",
       "}\n",
       "#T_65a11 th {\n",
       "  min-width: 100px;\n",
       "}\n",
       "#T_65a11  td {\n",
       "  min-width: 100px;\n",
       "}\n",
       "#T_65a11_row0_col0, #T_65a11_row0_col1, #T_65a11_row0_col2, #T_65a11_row0_col3, #T_65a11_row1_col0, #T_65a11_row1_col1, #T_65a11_row1_col2, #T_65a11_row1_col3, #T_65a11_row2_col0, #T_65a11_row2_col1, #T_65a11_row2_col2, #T_65a11_row2_col3, #T_65a11_row3_col0, #T_65a11_row3_col1, #T_65a11_row3_col2, #T_65a11_row3_col3, #T_65a11_row4_col0, #T_65a11_row4_col1, #T_65a11_row4_col2, #T_65a11_row4_col3, #T_65a11_row5_col0, #T_65a11_row5_col1, #T_65a11_row5_col2, #T_65a11_row5_col3, #T_65a11_row6_col0, #T_65a11_row6_col1, #T_65a11_row6_col2, #T_65a11_row6_col3 {\n",
       "  text-align: left;\n",
       "}\n",
       "</style>\n",
       "<table id=\"T_65a11\">\n",
       "  <caption>Статистика и топ-10 значений столбца \"genre\"</caption>\n",
       "  <thead>\n",
       "  </thead>\n",
       "  <tbody>\n",
       "    <tr>\n",
       "      <td id=\"T_65a11_row0_col0\" class=\"data row0 col0\" >Values</td>\n",
       "      <td id=\"T_65a11_row0_col1\" class=\"data row0 col1\" >16 713 (99.9%)</td>\n",
       "      <td id=\"T_65a11_row0_col2\" class=\"data row0 col2\" >                              </td>\n",
       "      <td id=\"T_65a11_row0_col3\" class=\"data row0 col3\" >Action (20%)</td>\n",
       "    </tr>\n",
       "    <tr>\n",
       "      <td id=\"T_65a11_row1_col0\" class=\"data row1 col0\" >Missing</td>\n",
       "      <td id=\"T_65a11_row1_col1\" class=\"data row1 col1\" >2 (<1%)</td>\n",
       "      <td id=\"T_65a11_row1_col2\" class=\"data row1 col2\" >                              </td>\n",
       "      <td id=\"T_65a11_row1_col3\" class=\"data row1 col3\" >Sports (14%)</td>\n",
       "    </tr>\n",
       "    <tr>\n",
       "      <td id=\"T_65a11_row2_col0\" class=\"data row2 col0\" >Distinct</td>\n",
       "      <td id=\"T_65a11_row2_col1\" class=\"data row2 col1\" >12 (<1%)</td>\n",
       "      <td id=\"T_65a11_row2_col2\" class=\"data row2 col2\" >                              </td>\n",
       "      <td id=\"T_65a11_row2_col3\" class=\"data row2 col3\" >Misc (10%)</td>\n",
       "    </tr>\n",
       "    <tr>\n",
       "      <td id=\"T_65a11_row3_col0\" class=\"data row3 col0\" >Duplicated origin</td>\n",
       "      <td id=\"T_65a11_row3_col1\" class=\"data row3 col1\" >16 702 (99.9%)</td>\n",
       "      <td id=\"T_65a11_row3_col2\" class=\"data row3 col2\" >                              </td>\n",
       "      <td id=\"T_65a11_row3_col3\" class=\"data row3 col3\" >Role-Playing (9%)</td>\n",
       "    </tr>\n",
       "    <tr>\n",
       "      <td id=\"T_65a11_row4_col0\" class=\"data row4 col0\" >Dupl (modify - origin)</td>\n",
       "      <td id=\"T_65a11_row4_col1\" class=\"data row4 col1\" >---</td>\n",
       "      <td id=\"T_65a11_row4_col2\" class=\"data row4 col2\" >                              </td>\n",
       "      <td id=\"T_65a11_row4_col3\" class=\"data row4 col3\" >Shooter (8%)</td>\n",
       "    </tr>\n",
       "    <tr>\n",
       "      <td id=\"T_65a11_row5_col0\" class=\"data row5 col0\" >Empty</td>\n",
       "      <td id=\"T_65a11_row5_col1\" class=\"data row5 col1\" >---</td>\n",
       "      <td id=\"T_65a11_row5_col2\" class=\"data row5 col2\" >                              </td>\n",
       "      <td id=\"T_65a11_row5_col3\" class=\"data row5 col3\" >Adventure (8%)</td>\n",
       "    </tr>\n",
       "    <tr>\n",
       "      <td id=\"T_65a11_row6_col0\" class=\"data row6 col0\" >RAM (Mb)</td>\n",
       "      <td id=\"T_65a11_row6_col1\" class=\"data row6 col1\" ><1 Mb</td>\n",
       "      <td id=\"T_65a11_row6_col2\" class=\"data row6 col2\" >                              </td>\n",
       "      <td id=\"T_65a11_row6_col3\" class=\"data row6 col3\" >Racing (7%)</td>\n",
       "    </tr>\n",
       "  </tbody>\n",
       "</table>\n",
       "\n",
       "                <div>\n",
       "                    <img src=\"data:image/png;base64,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\" alt=\"График\"/>\n",
       "                </div>\n",
       "                      \n",
       "            </div>\n",
       "            "
      ],
      "text/plain": [
       "<IPython.core.display.HTML object>"
      ]
     },
     "metadata": {},
     "output_type": "display_data"
    }
   ],
   "source": [
    "gen.next()"
   ]
  },
  {
   "cell_type": "markdown",
   "metadata": {},
   "source": [
    "У нас отображаются не все значения жанров, посмотрим на полный список."
   ]
  },
  {
   "cell_type": "code",
   "execution_count": 661,
   "metadata": {},
   "outputs": [
    {
     "data": {
      "text/html": [
       "<style type=\"text/css\">\n",
       "#T_3890c caption {\n",
       "  font-size: 16px;\n",
       "  text-align: left;\n",
       "  font-weight: bold;\n",
       "}\n",
       "#T_3890c_row0_col0, #T_3890c_row0_col1, #T_3890c_row0_col2, #T_3890c_row0_col3, #T_3890c_row0_col4, #T_3890c_row1_col0, #T_3890c_row1_col1, #T_3890c_row1_col2, #T_3890c_row1_col3, #T_3890c_row1_col4, #T_3890c_row2_col0, #T_3890c_row2_col1, #T_3890c_row2_col2, #T_3890c_row2_col3, #T_3890c_row2_col4, #T_3890c_row3_col0, #T_3890c_row3_col1, #T_3890c_row3_col2, #T_3890c_row3_col3, #T_3890c_row3_col4, #T_3890c_row4_col0, #T_3890c_row4_col1, #T_3890c_row4_col2, #T_3890c_row4_col3, #T_3890c_row4_col4, #T_3890c_row5_col0, #T_3890c_row5_col1, #T_3890c_row5_col2, #T_3890c_row5_col3, #T_3890c_row5_col4 {\n",
       "  text-align: left;\n",
       "}\n",
       "</style>\n",
       "<table id=\"T_3890c\">\n",
       "  <caption>value counts for \"genre\"</caption>\n",
       "  <thead>\n",
       "  </thead>\n",
       "  <tbody>\n",
       "    <tr>\n",
       "      <td id=\"T_3890c_row0_col0\" class=\"data row0 col0\" >Action</td>\n",
       "      <td id=\"T_3890c_row0_col1\" class=\"data row0 col1\" >3 369 (20.16%)</td>\n",
       "      <td id=\"T_3890c_row0_col2\" class=\"data row0 col2\" >|</td>\n",
       "      <td id=\"T_3890c_row0_col3\" class=\"data row0 col3\" >Racing</td>\n",
       "      <td id=\"T_3890c_row0_col4\" class=\"data row0 col4\" >1 249 (7.47%)</td>\n",
       "    </tr>\n",
       "    <tr>\n",
       "      <td id=\"T_3890c_row1_col0\" class=\"data row1 col0\" >Sports</td>\n",
       "      <td id=\"T_3890c_row1_col1\" class=\"data row1 col1\" >2 348 (14.05%)</td>\n",
       "      <td id=\"T_3890c_row1_col2\" class=\"data row1 col2\" >|</td>\n",
       "      <td id=\"T_3890c_row1_col3\" class=\"data row1 col3\" >Platform</td>\n",
       "      <td id=\"T_3890c_row1_col4\" class=\"data row1 col4\" >888 (5.31%)</td>\n",
       "    </tr>\n",
       "    <tr>\n",
       "      <td id=\"T_3890c_row2_col0\" class=\"data row2 col0\" >Misc</td>\n",
       "      <td id=\"T_3890c_row2_col1\" class=\"data row2 col1\" >1 750 (10.47%)</td>\n",
       "      <td id=\"T_3890c_row2_col2\" class=\"data row2 col2\" >|</td>\n",
       "      <td id=\"T_3890c_row2_col3\" class=\"data row2 col3\" >Simulation</td>\n",
       "      <td id=\"T_3890c_row2_col4\" class=\"data row2 col4\" >873 (5.22%)</td>\n",
       "    </tr>\n",
       "    <tr>\n",
       "      <td id=\"T_3890c_row3_col0\" class=\"data row3 col0\" >Role-Playing</td>\n",
       "      <td id=\"T_3890c_row3_col1\" class=\"data row3 col1\" >1 498 (8.96%)</td>\n",
       "      <td id=\"T_3890c_row3_col2\" class=\"data row3 col2\" >|</td>\n",
       "      <td id=\"T_3890c_row3_col3\" class=\"data row3 col3\" >Fighting</td>\n",
       "      <td id=\"T_3890c_row3_col4\" class=\"data row3 col4\" >849 (5.08%)</td>\n",
       "    </tr>\n",
       "    <tr>\n",
       "      <td id=\"T_3890c_row4_col0\" class=\"data row4 col0\" >Shooter</td>\n",
       "      <td id=\"T_3890c_row4_col1\" class=\"data row4 col1\" >1 323 (7.92%)</td>\n",
       "      <td id=\"T_3890c_row4_col2\" class=\"data row4 col2\" >|</td>\n",
       "      <td id=\"T_3890c_row4_col3\" class=\"data row4 col3\" >Strategy</td>\n",
       "      <td id=\"T_3890c_row4_col4\" class=\"data row4 col4\" >683 (4.09%)</td>\n",
       "    </tr>\n",
       "    <tr>\n",
       "      <td id=\"T_3890c_row5_col0\" class=\"data row5 col0\" >Adventure</td>\n",
       "      <td id=\"T_3890c_row5_col1\" class=\"data row5 col1\" >1 303 (7.8%)</td>\n",
       "      <td id=\"T_3890c_row5_col2\" class=\"data row5 col2\" >|</td>\n",
       "      <td id=\"T_3890c_row5_col3\" class=\"data row5 col3\" >Puzzle</td>\n",
       "      <td id=\"T_3890c_row5_col4\" class=\"data row5 col4\" >580 (3.47%)</td>\n",
       "    </tr>\n",
       "  </tbody>\n",
       "</table>\n"
      ],
      "text/plain": [
       "<pandas.io.formats.style.Styler at 0x7405bc4cbb00>"
      ]
     },
     "execution_count": 661,
     "metadata": {},
     "output_type": "execute_result"
    }
   ],
   "source": [
    "pagri_data_tools.value_counts_table(df, 'genre', chunk_size = 6, tables_in_row = 2)"
   ]
  },
  {
   "cell_type": "markdown",
   "metadata": {},
   "source": [
    "**Наблюдения:**  \n",
    "\n",
    "- В столбце с жанром игры 2% пропусков.  \n",
    "- Больше всего игр в жанре Action."
   ]
  },
  {
   "cell_type": "code",
   "execution_count": 662,
   "metadata": {},
   "outputs": [
    {
     "data": {
      "text/html": [
       "\n",
       "            <div style=\"display: flex; justify-content: flex-start; align-items: flex-end;\">\n",
       "                <style type=\"text/css\">\n",
       "#T_51968 caption {\n",
       "  font-size: 16px;\n",
       "  text-align: left;\n",
       "  font-weight: bold;\n",
       "}\n",
       "#T_51968 th {\n",
       "  min-width: 100px;\n",
       "}\n",
       "#T_51968  td {\n",
       "  min-width: 100px;\n",
       "}\n",
       "#T_51968_row0_col0, #T_51968_row0_col1, #T_51968_row0_col2, #T_51968_row0_col3, #T_51968_row1_col0, #T_51968_row1_col1, #T_51968_row1_col2, #T_51968_row1_col3, #T_51968_row2_col0, #T_51968_row2_col1, #T_51968_row2_col2, #T_51968_row2_col3, #T_51968_row3_col0, #T_51968_row3_col1, #T_51968_row3_col2, #T_51968_row3_col3, #T_51968_row4_col0, #T_51968_row4_col1, #T_51968_row4_col2, #T_51968_row4_col3, #T_51968_row5_col0, #T_51968_row5_col1, #T_51968_row5_col2, #T_51968_row5_col3, #T_51968_row6_col0, #T_51968_row6_col1, #T_51968_row6_col2, #T_51968_row6_col3 {\n",
       "  text-align: left;\n",
       "}\n",
       "</style>\n",
       "<table id=\"T_51968\">\n",
       "  <caption>Статистика и топ-10 значений столбца \"rating\"</caption>\n",
       "  <thead>\n",
       "  </thead>\n",
       "  <tbody>\n",
       "    <tr>\n",
       "      <td id=\"T_51968_row0_col0\" class=\"data row0 col0\" >Values</td>\n",
       "      <td id=\"T_51968_row0_col1\" class=\"data row0 col1\" >9 949 (60%)</td>\n",
       "      <td id=\"T_51968_row0_col2\" class=\"data row0 col2\" >                              </td>\n",
       "      <td id=\"T_51968_row0_col3\" class=\"data row0 col3\" >E (40%)</td>\n",
       "    </tr>\n",
       "    <tr>\n",
       "      <td id=\"T_51968_row1_col0\" class=\"data row1 col0\" >Missing</td>\n",
       "      <td id=\"T_51968_row1_col1\" class=\"data row1 col1\" >6 766 (40%)</td>\n",
       "      <td id=\"T_51968_row1_col2\" class=\"data row1 col2\" >                              </td>\n",
       "      <td id=\"T_51968_row1_col3\" class=\"data row1 col3\" >T (30%)</td>\n",
       "    </tr>\n",
       "    <tr>\n",
       "      <td id=\"T_51968_row2_col0\" class=\"data row2 col0\" >Distinct</td>\n",
       "      <td id=\"T_51968_row2_col1\" class=\"data row2 col1\" >8 (<1%)</td>\n",
       "      <td id=\"T_51968_row2_col2\" class=\"data row2 col2\" >                              </td>\n",
       "      <td id=\"T_51968_row2_col3\" class=\"data row2 col3\" >M (16%)</td>\n",
       "    </tr>\n",
       "    <tr>\n",
       "      <td id=\"T_51968_row3_col0\" class=\"data row3 col0\" >Duplicated origin</td>\n",
       "      <td id=\"T_51968_row3_col1\" class=\"data row3 col1\" >16 706 (99.9%)</td>\n",
       "      <td id=\"T_51968_row3_col2\" class=\"data row3 col2\" >                              </td>\n",
       "      <td id=\"T_51968_row3_col3\" class=\"data row3 col3\" >E10+ (14%)</td>\n",
       "    </tr>\n",
       "    <tr>\n",
       "      <td id=\"T_51968_row4_col0\" class=\"data row4 col0\" >Dupl (modify - origin)</td>\n",
       "      <td id=\"T_51968_row4_col1\" class=\"data row4 col1\" >---</td>\n",
       "      <td id=\"T_51968_row4_col2\" class=\"data row4 col2\" >                              </td>\n",
       "      <td id=\"T_51968_row4_col3\" class=\"data row4 col3\" >EC <1%</td>\n",
       "    </tr>\n",
       "    <tr>\n",
       "      <td id=\"T_51968_row5_col0\" class=\"data row5 col0\" >Empty</td>\n",
       "      <td id=\"T_51968_row5_col1\" class=\"data row5 col1\" >---</td>\n",
       "      <td id=\"T_51968_row5_col2\" class=\"data row5 col2\" >                              </td>\n",
       "      <td id=\"T_51968_row5_col3\" class=\"data row5 col3\" >K-A <1%</td>\n",
       "    </tr>\n",
       "    <tr>\n",
       "      <td id=\"T_51968_row6_col0\" class=\"data row6 col0\" >RAM (Mb)</td>\n",
       "      <td id=\"T_51968_row6_col1\" class=\"data row6 col1\" ><1 Mb</td>\n",
       "      <td id=\"T_51968_row6_col2\" class=\"data row6 col2\" >                              </td>\n",
       "      <td id=\"T_51968_row6_col3\" class=\"data row6 col3\" >RP <1%</td>\n",
       "    </tr>\n",
       "  </tbody>\n",
       "</table>\n",
       "\n",
       "                <div>\n",
       "                    <img src=\"data:image/png;base64,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\" alt=\"График\"/>\n",
       "                </div>\n",
       "                      \n",
       "            </div>\n",
       "            "
      ],
      "text/plain": [
       "<IPython.core.display.HTML object>"
      ]
     },
     "metadata": {},
     "output_type": "display_data"
    }
   ],
   "source": [
    "gen.next()"
   ]
  },
  {
   "cell_type": "markdown",
   "metadata": {},
   "source": [
    "**Наблюдения:**  \n",
    "\n",
    "- В рейтинге 40% пропусков.\n",
    "- Больше всего игр с рейтингами E (40%) и T(30%)."
   ]
  },
  {
   "cell_type": "markdown",
   "metadata": {},
   "source": [
    "#### Изучение дубликатов\n"
   ]
  },
  {
   "cell_type": "markdown",
   "metadata": {},
   "source": [
    "Посмотрим на дубли во всем датафрейме\n"
   ]
  },
  {
   "cell_type": "code",
   "execution_count": 663,
   "metadata": {},
   "outputs": [
    {
     "data": {
      "text/plain": [
       "'no duplicates'"
      ]
     },
     "execution_count": 663,
     "metadata": {},
     "output_type": "execute_result"
    }
   ],
   "source": [
    "pagri_data_tools.check_duplicated(df)"
   ]
  },
  {
   "cell_type": "markdown",
   "metadata": {},
   "source": [
    "В датафрейме полных строк дубликатов нет."
   ]
  },
  {
   "cell_type": "markdown",
   "metadata": {},
   "source": [
    "Посмотрим сколько у нас дублей в каждой колонке\n"
   ]
  },
  {
   "cell_type": "code",
   "execution_count": 664,
   "metadata": {},
   "outputs": [
    {
     "data": {
      "text/html": [
       "<style type=\"text/css\">\n",
       "#T_c1486 caption {\n",
       "  font-size: 18px;\n",
       "  text-align: left;\n",
       "  font-weight: bold;\n",
       "}\n",
       "</style>\n",
       "<table id=\"T_c1486\">\n",
       "  <caption>Duplicates</caption>\n",
       "  <thead>\n",
       "  </thead>\n",
       "  <tbody>\n",
       "    <tr>\n",
       "      <th id=\"T_c1486_level0_row0\" class=\"row_heading level0 row0\" >name</th>\n",
       "      <td id=\"T_c1486_row0_col0\" class=\"data row0 col0\" >5155 (30.84%)</td>\n",
       "    </tr>\n",
       "    <tr>\n",
       "      <th id=\"T_c1486_level0_row1\" class=\"row_heading level0 row1\" >platform</th>\n",
       "      <td id=\"T_c1486_row1_col0\" class=\"data row1 col0\" >16684 (99.81%)</td>\n",
       "    </tr>\n",
       "    <tr>\n",
       "      <th id=\"T_c1486_level0_row2\" class=\"row_heading level0 row2\" >year_of_release</th>\n",
       "      <td id=\"T_c1486_row2_col0\" class=\"data row2 col0\" >16677 (99.77%)</td>\n",
       "    </tr>\n",
       "    <tr>\n",
       "      <th id=\"T_c1486_level0_row3\" class=\"row_heading level0 row3\" >genre</th>\n",
       "      <td id=\"T_c1486_row3_col0\" class=\"data row3 col0\" >16702 (99.92%)</td>\n",
       "    </tr>\n",
       "    <tr>\n",
       "      <th id=\"T_c1486_level0_row4\" class=\"row_heading level0 row4\" >na_sales</th>\n",
       "      <td id=\"T_c1486_row4_col0\" class=\"data row4 col0\" >16313 (97.59%)</td>\n",
       "    </tr>\n",
       "    <tr>\n",
       "      <th id=\"T_c1486_level0_row5\" class=\"row_heading level0 row5\" >eu_sales</th>\n",
       "      <td id=\"T_c1486_row5_col0\" class=\"data row5 col0\" >16408 (98.16%)</td>\n",
       "    </tr>\n",
       "    <tr>\n",
       "      <th id=\"T_c1486_level0_row6\" class=\"row_heading level0 row6\" >jp_sales</th>\n",
       "      <td id=\"T_c1486_row6_col0\" class=\"data row6 col0\" >16471 (98.54%)</td>\n",
       "    </tr>\n",
       "    <tr>\n",
       "      <th id=\"T_c1486_level0_row7\" class=\"row_heading level0 row7\" >other_sales</th>\n",
       "      <td id=\"T_c1486_row7_col0\" class=\"data row7 col0\" >16560 (99.07%)</td>\n",
       "    </tr>\n",
       "    <tr>\n",
       "      <th id=\"T_c1486_level0_row8\" class=\"row_heading level0 row8\" >critic_score</th>\n",
       "      <td id=\"T_c1486_row8_col0\" class=\"data row8 col0\" >16632 (99.50%)</td>\n",
       "    </tr>\n",
       "    <tr>\n",
       "      <th id=\"T_c1486_level0_row9\" class=\"row_heading level0 row9\" >user_score</th>\n",
       "      <td id=\"T_c1486_row9_col0\" class=\"data row9 col0\" >16619 (99.43%)</td>\n",
       "    </tr>\n",
       "    <tr>\n",
       "      <th id=\"T_c1486_level0_row10\" class=\"row_heading level0 row10\" >rating</th>\n",
       "      <td id=\"T_c1486_row10_col0\" class=\"data row10 col0\" >16706 (99.95%)</td>\n",
       "    </tr>\n",
       "  </tbody>\n",
       "</table>\n"
      ],
      "text/plain": [
       "<pandas.io.formats.style.Styler at 0x7405bc546120>"
      ]
     },
     "metadata": {},
     "output_type": "display_data"
    }
   ],
   "source": [
    "series_duplicated = pagri_data_tools.find_columns_with_duplicates(df)"
   ]
  },
  {
   "cell_type": "markdown",
   "metadata": {},
   "source": [
    "У нас нет столбцов, в которых значения долны быть уникльыми. Поэтом все впорядке."
   ]
  },
  {
   "cell_type": "markdown",
   "metadata": {},
   "source": [
    "Посмотрим на дубли в комбинации колонок с названием игры, жанром и платформой."
   ]
  },
  {
   "cell_type": "code",
   "execution_count": 666,
   "metadata": {},
   "outputs": [],
   "source": [
    "gen = pagri_data_tools.check_duplicated_combinations_gen(df[['name', 'platform', 'genre']], n=3)"
   ]
  },
  {
   "cell_type": "code",
   "execution_count": 667,
   "metadata": {},
   "outputs": [
    {
     "name": "stdout",
     "output_type": "stream",
     "text": [
      "Group by 2 columns\n"
     ]
    },
    {
     "data": {
      "text/html": [
       "<style type=\"text/css\">\n",
       "#T_b6c13 caption {\n",
       "  font-size: 18px;\n",
       "  text-align: left;\n",
       "  font-weight: bold;\n",
       "}\n",
       "</style>\n",
       "<table id=\"T_b6c13\">\n",
       "  <caption>Duplicates</caption>\n",
       "  <thead>\n",
       "    <tr>\n",
       "      <th class=\"blank level0\" >&nbsp;</th>\n",
       "      <th id=\"T_b6c13_level0_col0\" class=\"col_heading level0 col0\" >name</th>\n",
       "      <th id=\"T_b6c13_level0_col1\" class=\"col_heading level0 col1\" >platform</th>\n",
       "      <th id=\"T_b6c13_level0_col2\" class=\"col_heading level0 col2\" >genre</th>\n",
       "    </tr>\n",
       "  </thead>\n",
       "  <tbody>\n",
       "    <tr>\n",
       "      <th id=\"T_b6c13_level0_row0\" class=\"row_heading level0 row0\" >name</th>\n",
       "      <td id=\"T_b6c13_row0_col0\" class=\"data row0 col0\" ></td>\n",
       "      <td id=\"T_b6c13_row0_col1\" class=\"data row0 col1\" ></td>\n",
       "      <td id=\"T_b6c13_row0_col2\" class=\"data row0 col2\" ></td>\n",
       "    </tr>\n",
       "    <tr>\n",
       "      <th id=\"T_b6c13_level0_row1\" class=\"row_heading level0 row1\" >platform</th>\n",
       "      <td id=\"T_b6c13_row1_col0\" class=\"data row1 col0\" >5 < 1%</td>\n",
       "      <td id=\"T_b6c13_row1_col1\" class=\"data row1 col1\" ></td>\n",
       "      <td id=\"T_b6c13_row1_col2\" class=\"data row1 col2\" ></td>\n",
       "    </tr>\n",
       "    <tr>\n",
       "      <th id=\"T_b6c13_level0_row2\" class=\"row_heading level0 row2\" >genre</th>\n",
       "      <td id=\"T_b6c13_row2_col0\" class=\"data row2 col0\" >5 151 (30.8%)</td>\n",
       "      <td id=\"T_b6c13_row2_col1\" class=\"data row2 col1\" >16 421 (98.2%)</td>\n",
       "      <td id=\"T_b6c13_row2_col2\" class=\"data row2 col2\" ></td>\n",
       "    </tr>\n",
       "  </tbody>\n",
       "</table>\n"
      ],
      "text/plain": [
       "<pandas.io.formats.style.Styler at 0x7405bc66f020>"
      ]
     },
     "metadata": {},
     "output_type": "display_data"
    }
   ],
   "source": [
    "next(gen)"
   ]
  },
  {
   "cell_type": "markdown",
   "metadata": {},
   "source": [
    "**Наблюдения:**  \n",
    "\n",
    "- В паре платформа и название игры всего 5 дубликатов.\n",
    "- В парах жанр/название игры и жанр/платформа много дубликатов."
   ]
  },
  {
   "cell_type": "markdown",
   "metadata": {},
   "source": [
    "Посмотрим на строки с дублями в названии игры и платформе"
   ]
  },
  {
   "cell_type": "code",
   "execution_count": 572,
   "metadata": {},
   "outputs": [
    {
     "data": {
      "text/html": [
       "<div>\n",
       "<style scoped>\n",
       "    .dataframe tbody tr th:only-of-type {\n",
       "        vertical-align: middle;\n",
       "    }\n",
       "\n",
       "    .dataframe tbody tr th {\n",
       "        vertical-align: top;\n",
       "    }\n",
       "\n",
       "    .dataframe thead th {\n",
       "        text-align: right;\n",
       "    }\n",
       "</style>\n",
       "<table border=\"1\" class=\"dataframe\">\n",
       "  <thead>\n",
       "    <tr style=\"text-align: right;\">\n",
       "      <th></th>\n",
       "      <th>name</th>\n",
       "      <th>platform</th>\n",
       "      <th>year_of_release</th>\n",
       "      <th>genre</th>\n",
       "      <th>na_sales</th>\n",
       "      <th>eu_sales</th>\n",
       "      <th>jp_sales</th>\n",
       "      <th>other_sales</th>\n",
       "      <th>critic_score</th>\n",
       "      <th>user_score</th>\n",
       "      <th>rating</th>\n",
       "    </tr>\n",
       "  </thead>\n",
       "  <tbody>\n",
       "    <tr>\n",
       "      <th>604</th>\n",
       "      <td>Madden NFL 13</td>\n",
       "      <td>PS3</td>\n",
       "      <td>2,012.00</td>\n",
       "      <td>Sports</td>\n",
       "      <td>2.11</td>\n",
       "      <td>0.22</td>\n",
       "      <td>0.00</td>\n",
       "      <td>0.23</td>\n",
       "      <td>83.00</td>\n",
       "      <td>5.50</td>\n",
       "      <td>E</td>\n",
       "    </tr>\n",
       "    <tr>\n",
       "      <th>16230</th>\n",
       "      <td>Madden NFL 13</td>\n",
       "      <td>PS3</td>\n",
       "      <td>2,012.00</td>\n",
       "      <td>Sports</td>\n",
       "      <td>0.00</td>\n",
       "      <td>0.01</td>\n",
       "      <td>0.00</td>\n",
       "      <td>0.00</td>\n",
       "      <td>83.00</td>\n",
       "      <td>5.50</td>\n",
       "      <td>E</td>\n",
       "    </tr>\n",
       "    <tr>\n",
       "      <th>5972</th>\n",
       "      <td>Need for Speed: Most Wanted</td>\n",
       "      <td>PC</td>\n",
       "      <td>2,005.00</td>\n",
       "      <td>Racing</td>\n",
       "      <td>0.02</td>\n",
       "      <td>0.23</td>\n",
       "      <td>0.00</td>\n",
       "      <td>0.04</td>\n",
       "      <td>82.00</td>\n",
       "      <td>8.50</td>\n",
       "      <td>T</td>\n",
       "    </tr>\n",
       "    <tr>\n",
       "      <th>11715</th>\n",
       "      <td>Need for Speed: Most Wanted</td>\n",
       "      <td>PC</td>\n",
       "      <td>2,012.00</td>\n",
       "      <td>Racing</td>\n",
       "      <td>0.00</td>\n",
       "      <td>0.06</td>\n",
       "      <td>0.00</td>\n",
       "      <td>0.02</td>\n",
       "      <td>82.00</td>\n",
       "      <td>8.50</td>\n",
       "      <td>T</td>\n",
       "    </tr>\n",
       "    <tr>\n",
       "      <th>1190</th>\n",
       "      <td>Need for Speed: Most Wanted</td>\n",
       "      <td>X360</td>\n",
       "      <td>2,012.00</td>\n",
       "      <td>Racing</td>\n",
       "      <td>0.62</td>\n",
       "      <td>0.78</td>\n",
       "      <td>0.01</td>\n",
       "      <td>0.15</td>\n",
       "      <td>83.00</td>\n",
       "      <td>8.50</td>\n",
       "      <td>T</td>\n",
       "    </tr>\n",
       "    <tr>\n",
       "      <th>1591</th>\n",
       "      <td>Need for Speed: Most Wanted</td>\n",
       "      <td>X360</td>\n",
       "      <td>2,005.00</td>\n",
       "      <td>Racing</td>\n",
       "      <td>1.00</td>\n",
       "      <td>0.13</td>\n",
       "      <td>0.02</td>\n",
       "      <td>0.10</td>\n",
       "      <td>83.00</td>\n",
       "      <td>8.50</td>\n",
       "      <td>T</td>\n",
       "    </tr>\n",
       "    <tr>\n",
       "      <th>1745</th>\n",
       "      <td>Sonic the Hedgehog</td>\n",
       "      <td>PS3</td>\n",
       "      <td>2,006.00</td>\n",
       "      <td>Platform</td>\n",
       "      <td>0.41</td>\n",
       "      <td>0.06</td>\n",
       "      <td>0.04</td>\n",
       "      <td>0.66</td>\n",
       "      <td>43.00</td>\n",
       "      <td>4.10</td>\n",
       "      <td>E10+</td>\n",
       "    </tr>\n",
       "    <tr>\n",
       "      <th>4127</th>\n",
       "      <td>Sonic the Hedgehog</td>\n",
       "      <td>PS3</td>\n",
       "      <td>NaN</td>\n",
       "      <td>Platform</td>\n",
       "      <td>0.00</td>\n",
       "      <td>0.48</td>\n",
       "      <td>0.00</td>\n",
       "      <td>0.00</td>\n",
       "      <td>43.00</td>\n",
       "      <td>4.10</td>\n",
       "      <td>E10+</td>\n",
       "    </tr>\n",
       "    <tr>\n",
       "      <th>659</th>\n",
       "      <td>NaN</td>\n",
       "      <td>GEN</td>\n",
       "      <td>1,993.00</td>\n",
       "      <td>NaN</td>\n",
       "      <td>1.78</td>\n",
       "      <td>0.53</td>\n",
       "      <td>0.00</td>\n",
       "      <td>0.08</td>\n",
       "      <td>NaN</td>\n",
       "      <td>NaN</td>\n",
       "      <td>NaN</td>\n",
       "    </tr>\n",
       "    <tr>\n",
       "      <th>14244</th>\n",
       "      <td>NaN</td>\n",
       "      <td>GEN</td>\n",
       "      <td>1,993.00</td>\n",
       "      <td>NaN</td>\n",
       "      <td>0.00</td>\n",
       "      <td>0.00</td>\n",
       "      <td>0.03</td>\n",
       "      <td>0.00</td>\n",
       "      <td>NaN</td>\n",
       "      <td>NaN</td>\n",
       "      <td>NaN</td>\n",
       "    </tr>\n",
       "  </tbody>\n",
       "</table>\n",
       "</div>"
      ],
      "text/plain": [
       "                              name platform  year_of_release     genre  \\\n",
       "604                  Madden NFL 13      PS3         2,012.00    Sports   \n",
       "16230                Madden NFL 13      PS3         2,012.00    Sports   \n",
       "5972   Need for Speed: Most Wanted       PC         2,005.00    Racing   \n",
       "11715  Need for Speed: Most Wanted       PC         2,012.00    Racing   \n",
       "1190   Need for Speed: Most Wanted     X360         2,012.00    Racing   \n",
       "1591   Need for Speed: Most Wanted     X360         2,005.00    Racing   \n",
       "1745            Sonic the Hedgehog      PS3         2,006.00  Platform   \n",
       "4127            Sonic the Hedgehog      PS3              NaN  Platform   \n",
       "659                            NaN      GEN         1,993.00       NaN   \n",
       "14244                          NaN      GEN         1,993.00       NaN   \n",
       "\n",
       "       na_sales  eu_sales  jp_sales  other_sales  critic_score  user_score  \\\n",
       "604        2.11      0.22      0.00         0.23         83.00        5.50   \n",
       "16230      0.00      0.01      0.00         0.00         83.00        5.50   \n",
       "5972       0.02      0.23      0.00         0.04         82.00        8.50   \n",
       "11715      0.00      0.06      0.00         0.02         82.00        8.50   \n",
       "1190       0.62      0.78      0.01         0.15         83.00        8.50   \n",
       "1591       1.00      0.13      0.02         0.10         83.00        8.50   \n",
       "1745       0.41      0.06      0.04         0.66         43.00        4.10   \n",
       "4127       0.00      0.48      0.00         0.00         43.00        4.10   \n",
       "659        1.78      0.53      0.00         0.08           NaN         NaN   \n",
       "14244      0.00      0.00      0.03         0.00           NaN         NaN   \n",
       "\n",
       "      rating  \n",
       "604        E  \n",
       "16230      E  \n",
       "5972       T  \n",
       "11715      T  \n",
       "1190       T  \n",
       "1591       T  \n",
       "1745    E10+  \n",
       "4127    E10+  \n",
       "659      NaN  \n",
       "14244    NaN  "
      ]
     },
     "execution_count": 572,
     "metadata": {},
     "output_type": "execute_result"
    }
   ],
   "source": [
    "df[df[['name', 'platform']].duplicated(keep=False)].sort_values(by=['name', 'platform'])"
   ]
  },
  {
   "cell_type": "markdown",
   "metadata": {},
   "source": [
    "Посмотрим на пропуски по 3 колонки вместе"
   ]
  },
  {
   "cell_type": "code",
   "execution_count": 573,
   "metadata": {},
   "outputs": [
    {
     "name": "stdout",
     "output_type": "stream",
     "text": [
      "Group by 3 columns\n"
     ]
    },
    {
     "data": {
      "text/html": [
       "<style type=\"text/css\">\n",
       "</style>\n",
       "<table id=\"T_2e00f\">\n",
       "  <thead>\n",
       "  </thead>\n",
       "  <tbody>\n",
       "    <tr>\n",
       "      <td id=\"T_2e00f_row0_col0\" class=\"data row0 col0\" >name | platform | genre</td>\n",
       "      <td id=\"T_2e00f_row0_col1\" class=\"data row0 col1\" >5</td>\n",
       "    </tr>\n",
       "  </tbody>\n",
       "</table>\n"
      ],
      "text/plain": [
       "<pandas.io.formats.style.Styler at 0x7405b44557c0>"
      ]
     },
     "execution_count": 573,
     "metadata": {},
     "output_type": "execute_result"
    }
   ],
   "source": [
    "next(gen)"
   ]
  },
  {
   "cell_type": "markdown",
   "metadata": {},
   "source": [
    "Посмотрим на дубликаты одновременно в названии игры, жанре и платформе"
   ]
  },
  {
   "cell_type": "code",
   "execution_count": 574,
   "metadata": {},
   "outputs": [
    {
     "name": "stdout",
     "output_type": "stream",
     "text": [
      "Duplicated is 5 (0.0%) rows\n"
     ]
    },
    {
     "data": {
      "text/html": [
       "<div>\n",
       "<style scoped>\n",
       "    .dataframe tbody tr th:only-of-type {\n",
       "        vertical-align: middle;\n",
       "    }\n",
       "\n",
       "    .dataframe tbody tr th {\n",
       "        vertical-align: top;\n",
       "    }\n",
       "\n",
       "    .dataframe thead th {\n",
       "        text-align: right;\n",
       "    }\n",
       "</style>\n",
       "<table border=\"1\" class=\"dataframe\">\n",
       "  <thead>\n",
       "    <tr style=\"text-align: right;\">\n",
       "      <th></th>\n",
       "      <th></th>\n",
       "      <th></th>\n",
       "      <th>count</th>\n",
       "    </tr>\n",
       "    <tr>\n",
       "      <th>name</th>\n",
       "      <th>platform</th>\n",
       "      <th>genre</th>\n",
       "      <th></th>\n",
       "    </tr>\n",
       "  </thead>\n",
       "  <tbody>\n",
       "    <tr>\n",
       "      <th>NaN</th>\n",
       "      <th>GEN</th>\n",
       "      <th>NaN</th>\n",
       "      <td>2</td>\n",
       "    </tr>\n",
       "    <tr>\n",
       "      <th>sonic the hedgehog</th>\n",
       "      <th>PS3</th>\n",
       "      <th>Platform</th>\n",
       "      <td>2</td>\n",
       "    </tr>\n",
       "    <tr>\n",
       "      <th>madden nfl 13</th>\n",
       "      <th>PS3</th>\n",
       "      <th>Sports</th>\n",
       "      <td>2</td>\n",
       "    </tr>\n",
       "    <tr>\n",
       "      <th rowspan=\"2\" valign=\"top\">need for speed: most wanted</th>\n",
       "      <th>PC</th>\n",
       "      <th>Racing</th>\n",
       "      <td>2</td>\n",
       "    </tr>\n",
       "    <tr>\n",
       "      <th>X360</th>\n",
       "      <th>Racing</th>\n",
       "      <td>2</td>\n",
       "    </tr>\n",
       "  </tbody>\n",
       "</table>\n",
       "</div>"
      ],
      "text/plain": [
       "                                               count\n",
       "name                        platform genre          \n",
       "NaN                         GEN      NaN           2\n",
       "sonic the hedgehog          PS3      Platform      2\n",
       "madden nfl 13               PS3      Sports        2\n",
       "need for speed: most wanted PC       Racing        2\n",
       "                            X360     Racing        2"
      ]
     },
     "execution_count": 574,
     "metadata": {},
     "output_type": "execute_result"
    }
   ],
   "source": [
    "pagri_data_tools.check_duplicated(df[['name', 'platform', 'genre']])"
   ]
  },
  {
   "cell_type": "markdown",
   "metadata": {},
   "source": [
    "Посмотрим на строки датафрейма с этими дубликатами"
   ]
  },
  {
   "cell_type": "code",
   "execution_count": 575,
   "metadata": {},
   "outputs": [
    {
     "data": {
      "text/html": [
       "<div>\n",
       "<style scoped>\n",
       "    .dataframe tbody tr th:only-of-type {\n",
       "        vertical-align: middle;\n",
       "    }\n",
       "\n",
       "    .dataframe tbody tr th {\n",
       "        vertical-align: top;\n",
       "    }\n",
       "\n",
       "    .dataframe thead th {\n",
       "        text-align: right;\n",
       "    }\n",
       "</style>\n",
       "<table border=\"1\" class=\"dataframe\">\n",
       "  <thead>\n",
       "    <tr style=\"text-align: right;\">\n",
       "      <th></th>\n",
       "      <th>name</th>\n",
       "      <th>platform</th>\n",
       "      <th>year_of_release</th>\n",
       "      <th>genre</th>\n",
       "      <th>na_sales</th>\n",
       "      <th>eu_sales</th>\n",
       "      <th>jp_sales</th>\n",
       "      <th>other_sales</th>\n",
       "      <th>critic_score</th>\n",
       "      <th>user_score</th>\n",
       "      <th>rating</th>\n",
       "    </tr>\n",
       "  </thead>\n",
       "  <tbody>\n",
       "    <tr>\n",
       "      <th>604</th>\n",
       "      <td>Madden NFL 13</td>\n",
       "      <td>PS3</td>\n",
       "      <td>2,012.00</td>\n",
       "      <td>Sports</td>\n",
       "      <td>2.11</td>\n",
       "      <td>0.22</td>\n",
       "      <td>0.00</td>\n",
       "      <td>0.23</td>\n",
       "      <td>83.00</td>\n",
       "      <td>5.50</td>\n",
       "      <td>E</td>\n",
       "    </tr>\n",
       "    <tr>\n",
       "      <th>16230</th>\n",
       "      <td>Madden NFL 13</td>\n",
       "      <td>PS3</td>\n",
       "      <td>2,012.00</td>\n",
       "      <td>Sports</td>\n",
       "      <td>0.00</td>\n",
       "      <td>0.01</td>\n",
       "      <td>0.00</td>\n",
       "      <td>0.00</td>\n",
       "      <td>83.00</td>\n",
       "      <td>5.50</td>\n",
       "      <td>E</td>\n",
       "    </tr>\n",
       "    <tr>\n",
       "      <th>5972</th>\n",
       "      <td>Need for Speed: Most Wanted</td>\n",
       "      <td>PC</td>\n",
       "      <td>2,005.00</td>\n",
       "      <td>Racing</td>\n",
       "      <td>0.02</td>\n",
       "      <td>0.23</td>\n",
       "      <td>0.00</td>\n",
       "      <td>0.04</td>\n",
       "      <td>82.00</td>\n",
       "      <td>8.50</td>\n",
       "      <td>T</td>\n",
       "    </tr>\n",
       "    <tr>\n",
       "      <th>11715</th>\n",
       "      <td>Need for Speed: Most Wanted</td>\n",
       "      <td>PC</td>\n",
       "      <td>2,012.00</td>\n",
       "      <td>Racing</td>\n",
       "      <td>0.00</td>\n",
       "      <td>0.06</td>\n",
       "      <td>0.00</td>\n",
       "      <td>0.02</td>\n",
       "      <td>82.00</td>\n",
       "      <td>8.50</td>\n",
       "      <td>T</td>\n",
       "    </tr>\n",
       "    <tr>\n",
       "      <th>1190</th>\n",
       "      <td>Need for Speed: Most Wanted</td>\n",
       "      <td>X360</td>\n",
       "      <td>2,012.00</td>\n",
       "      <td>Racing</td>\n",
       "      <td>0.62</td>\n",
       "      <td>0.78</td>\n",
       "      <td>0.01</td>\n",
       "      <td>0.15</td>\n",
       "      <td>83.00</td>\n",
       "      <td>8.50</td>\n",
       "      <td>T</td>\n",
       "    </tr>\n",
       "    <tr>\n",
       "      <th>1591</th>\n",
       "      <td>Need for Speed: Most Wanted</td>\n",
       "      <td>X360</td>\n",
       "      <td>2,005.00</td>\n",
       "      <td>Racing</td>\n",
       "      <td>1.00</td>\n",
       "      <td>0.13</td>\n",
       "      <td>0.02</td>\n",
       "      <td>0.10</td>\n",
       "      <td>83.00</td>\n",
       "      <td>8.50</td>\n",
       "      <td>T</td>\n",
       "    </tr>\n",
       "    <tr>\n",
       "      <th>1745</th>\n",
       "      <td>Sonic the Hedgehog</td>\n",
       "      <td>PS3</td>\n",
       "      <td>2,006.00</td>\n",
       "      <td>Platform</td>\n",
       "      <td>0.41</td>\n",
       "      <td>0.06</td>\n",
       "      <td>0.04</td>\n",
       "      <td>0.66</td>\n",
       "      <td>43.00</td>\n",
       "      <td>4.10</td>\n",
       "      <td>E10+</td>\n",
       "    </tr>\n",
       "    <tr>\n",
       "      <th>4127</th>\n",
       "      <td>Sonic the Hedgehog</td>\n",
       "      <td>PS3</td>\n",
       "      <td>NaN</td>\n",
       "      <td>Platform</td>\n",
       "      <td>0.00</td>\n",
       "      <td>0.48</td>\n",
       "      <td>0.00</td>\n",
       "      <td>0.00</td>\n",
       "      <td>43.00</td>\n",
       "      <td>4.10</td>\n",
       "      <td>E10+</td>\n",
       "    </tr>\n",
       "    <tr>\n",
       "      <th>659</th>\n",
       "      <td>NaN</td>\n",
       "      <td>GEN</td>\n",
       "      <td>1,993.00</td>\n",
       "      <td>NaN</td>\n",
       "      <td>1.78</td>\n",
       "      <td>0.53</td>\n",
       "      <td>0.00</td>\n",
       "      <td>0.08</td>\n",
       "      <td>NaN</td>\n",
       "      <td>NaN</td>\n",
       "      <td>NaN</td>\n",
       "    </tr>\n",
       "    <tr>\n",
       "      <th>14244</th>\n",
       "      <td>NaN</td>\n",
       "      <td>GEN</td>\n",
       "      <td>1,993.00</td>\n",
       "      <td>NaN</td>\n",
       "      <td>0.00</td>\n",
       "      <td>0.00</td>\n",
       "      <td>0.03</td>\n",
       "      <td>0.00</td>\n",
       "      <td>NaN</td>\n",
       "      <td>NaN</td>\n",
       "      <td>NaN</td>\n",
       "    </tr>\n",
       "  </tbody>\n",
       "</table>\n",
       "</div>"
      ],
      "text/plain": [
       "                              name platform  year_of_release     genre  \\\n",
       "604                  Madden NFL 13      PS3         2,012.00    Sports   \n",
       "16230                Madden NFL 13      PS3         2,012.00    Sports   \n",
       "5972   Need for Speed: Most Wanted       PC         2,005.00    Racing   \n",
       "11715  Need for Speed: Most Wanted       PC         2,012.00    Racing   \n",
       "1190   Need for Speed: Most Wanted     X360         2,012.00    Racing   \n",
       "1591   Need for Speed: Most Wanted     X360         2,005.00    Racing   \n",
       "1745            Sonic the Hedgehog      PS3         2,006.00  Platform   \n",
       "4127            Sonic the Hedgehog      PS3              NaN  Platform   \n",
       "659                            NaN      GEN         1,993.00       NaN   \n",
       "14244                          NaN      GEN         1,993.00       NaN   \n",
       "\n",
       "       na_sales  eu_sales  jp_sales  other_sales  critic_score  user_score  \\\n",
       "604        2.11      0.22      0.00         0.23         83.00        5.50   \n",
       "16230      0.00      0.01      0.00         0.00         83.00        5.50   \n",
       "5972       0.02      0.23      0.00         0.04         82.00        8.50   \n",
       "11715      0.00      0.06      0.00         0.02         82.00        8.50   \n",
       "1190       0.62      0.78      0.01         0.15         83.00        8.50   \n",
       "1591       1.00      0.13      0.02         0.10         83.00        8.50   \n",
       "1745       0.41      0.06      0.04         0.66         43.00        4.10   \n",
       "4127       0.00      0.48      0.00         0.00         43.00        4.10   \n",
       "659        1.78      0.53      0.00         0.08           NaN         NaN   \n",
       "14244      0.00      0.00      0.03         0.00           NaN         NaN   \n",
       "\n",
       "      rating  \n",
       "604        E  \n",
       "16230      E  \n",
       "5972       T  \n",
       "11715      T  \n",
       "1190       T  \n",
       "1591       T  \n",
       "1745    E10+  \n",
       "4127    E10+  \n",
       "659      NaN  \n",
       "14244    NaN  "
      ]
     },
     "execution_count": 575,
     "metadata": {},
     "output_type": "execute_result"
    }
   ],
   "source": [
    "df[df[['name', 'platform', 'genre']].duplicated(keep=False)].sort_values(by=['name', 'platform', 'genre'])"
   ]
  },
  {
   "cell_type": "markdown",
   "metadata": {},
   "source": [
    "**Наблюдения:**  \n",
    "\n",
    "- У игры Madden NFL 13 все параметры совпадают в дублях, кроме количества проданных копий.  \n",
    "Возможно часть проданных копий учлась отдельно. \n",
    "- В игре Need for Speed: Most Wanted у дублей разные года выпуска, поэтому это не дубли."
   ]
  },
  {
   "cell_type": "markdown",
   "metadata": {},
   "source": [
    "#### Изучение пропусков\n"
   ]
  },
  {
   "cell_type": "markdown",
   "metadata": {},
   "source": [
    "Изучим пропуски в каждом столбце."
   ]
  },
  {
   "cell_type": "code",
   "execution_count": 576,
   "metadata": {},
   "outputs": [
    {
     "data": {
      "text/html": [
       "<style type=\"text/css\">\n",
       "#T_98409 caption {\n",
       "  font-size: 18px;\n",
       "  text-align: left;\n",
       "  font-weight: bold;\n",
       "}\n",
       "</style>\n",
       "<table id=\"T_98409\">\n",
       "  <caption>Missings</caption>\n",
       "  <thead>\n",
       "  </thead>\n",
       "  <tbody>\n",
       "    <tr>\n",
       "      <th id=\"T_98409_level0_row0\" class=\"row_heading level0 row0\" >name</th>\n",
       "      <td id=\"T_98409_row0_col0\" class=\"data row0 col0\" >2 (0.01%)</td>\n",
       "    </tr>\n",
       "    <tr>\n",
       "      <th id=\"T_98409_level0_row1\" class=\"row_heading level0 row1\" >year_of_release</th>\n",
       "      <td id=\"T_98409_row1_col0\" class=\"data row1 col0\" >269 (1.61%)</td>\n",
       "    </tr>\n",
       "    <tr>\n",
       "      <th id=\"T_98409_level0_row2\" class=\"row_heading level0 row2\" >genre</th>\n",
       "      <td id=\"T_98409_row2_col0\" class=\"data row2 col0\" >2 (0.01%)</td>\n",
       "    </tr>\n",
       "    <tr>\n",
       "      <th id=\"T_98409_level0_row3\" class=\"row_heading level0 row3\" >critic_score</th>\n",
       "      <td id=\"T_98409_row3_col0\" class=\"data row3 col0\" >8578 (51.32%)</td>\n",
       "    </tr>\n",
       "    <tr>\n",
       "      <th id=\"T_98409_level0_row4\" class=\"row_heading level0 row4\" >user_score</th>\n",
       "      <td id=\"T_98409_row4_col0\" class=\"data row4 col0\" >9125 (54.59%)</td>\n",
       "    </tr>\n",
       "    <tr>\n",
       "      <th id=\"T_98409_level0_row5\" class=\"row_heading level0 row5\" >rating</th>\n",
       "      <td id=\"T_98409_row5_col0\" class=\"data row5 col0\" >6766 (40.48%)</td>\n",
       "    </tr>\n",
       "  </tbody>\n",
       "</table>\n"
      ],
      "text/plain": [
       "<pandas.io.formats.style.Styler at 0x7405abff1eb0>"
      ]
     },
     "metadata": {},
     "output_type": "display_data"
    }
   ],
   "source": [
    "series_missed = pagri_data_tools.find_columns_with_missing_values(df)"
   ]
  },
  {
   "cell_type": "markdown",
   "metadata": {},
   "source": [
    "Посмотрим на строки с пропусками в названии игры и в жанре."
   ]
  },
  {
   "cell_type": "code",
   "execution_count": 577,
   "metadata": {},
   "outputs": [
    {
     "data": {
      "text/html": [
       "<div>\n",
       "<style scoped>\n",
       "    .dataframe tbody tr th:only-of-type {\n",
       "        vertical-align: middle;\n",
       "    }\n",
       "\n",
       "    .dataframe tbody tr th {\n",
       "        vertical-align: top;\n",
       "    }\n",
       "\n",
       "    .dataframe thead th {\n",
       "        text-align: right;\n",
       "    }\n",
       "</style>\n",
       "<table border=\"1\" class=\"dataframe\">\n",
       "  <thead>\n",
       "    <tr style=\"text-align: right;\">\n",
       "      <th></th>\n",
       "      <th>name</th>\n",
       "      <th>platform</th>\n",
       "      <th>year_of_release</th>\n",
       "      <th>genre</th>\n",
       "      <th>na_sales</th>\n",
       "      <th>eu_sales</th>\n",
       "      <th>jp_sales</th>\n",
       "      <th>other_sales</th>\n",
       "      <th>critic_score</th>\n",
       "      <th>user_score</th>\n",
       "      <th>rating</th>\n",
       "    </tr>\n",
       "  </thead>\n",
       "  <tbody>\n",
       "    <tr>\n",
       "      <th>659</th>\n",
       "      <td>NaN</td>\n",
       "      <td>GEN</td>\n",
       "      <td>1,993.00</td>\n",
       "      <td>NaN</td>\n",
       "      <td>1.78</td>\n",
       "      <td>0.53</td>\n",
       "      <td>0.00</td>\n",
       "      <td>0.08</td>\n",
       "      <td>NaN</td>\n",
       "      <td>NaN</td>\n",
       "      <td>NaN</td>\n",
       "    </tr>\n",
       "    <tr>\n",
       "      <th>14244</th>\n",
       "      <td>NaN</td>\n",
       "      <td>GEN</td>\n",
       "      <td>1,993.00</td>\n",
       "      <td>NaN</td>\n",
       "      <td>0.00</td>\n",
       "      <td>0.00</td>\n",
       "      <td>0.03</td>\n",
       "      <td>0.00</td>\n",
       "      <td>NaN</td>\n",
       "      <td>NaN</td>\n",
       "      <td>NaN</td>\n",
       "    </tr>\n",
       "  </tbody>\n",
       "</table>\n",
       "</div>"
      ],
      "text/plain": [
       "      name platform  year_of_release genre  na_sales  eu_sales  jp_sales  \\\n",
       "659    NaN      GEN         1,993.00   NaN      1.78      0.53      0.00   \n",
       "14244  NaN      GEN         1,993.00   NaN      0.00      0.00      0.03   \n",
       "\n",
       "       other_sales  critic_score  user_score rating  \n",
       "659           0.08           NaN         NaN    NaN  \n",
       "14244         0.00           NaN         NaN    NaN  "
      ]
     },
     "execution_count": 577,
     "metadata": {},
     "output_type": "execute_result"
    }
   ],
   "source": [
    "df[df['name'].isna() | df['genre'].isna()]"
   ]
  },
  {
   "cell_type": "markdown",
   "metadata": {},
   "source": [
    "**Наблюдения:**  \n",
    "\n",
    "- Пропуски в одних и тех же строках в названии игры и в жанре."
   ]
  },
  {
   "cell_type": "markdown",
   "metadata": {},
   "source": [
    "У нас примерно  одинаковое количество пропусков в оценке критиков и в оценке пользователей.  \n",
    "Проверим гипотезу, что проуски в одних и  тех же строках."
   ]
  },
  {
   "cell_type": "code",
   "execution_count": 763,
   "metadata": {},
   "outputs": [],
   "source": [
    "gen = pagri_data_tools.check_na_combinations_gen(df[['critic_score', 'user_score', 'rating']])"
   ]
  },
  {
   "cell_type": "code",
   "execution_count": 764,
   "metadata": {},
   "outputs": [
    {
     "name": "stdout",
     "output_type": "stream",
     "text": [
      "Group by 2 columns\n"
     ]
    },
    {
     "data": {
      "text/html": [
       "<style type=\"text/css\">\n",
       "#T_2f207 caption {\n",
       "  font-size: 18px;\n",
       "  text-align: left;\n",
       "  font-weight: bold;\n",
       "}\n",
       "</style>\n",
       "<table id=\"T_2f207\">\n",
       "  <caption>Missings in both columns</caption>\n",
       "  <thead>\n",
       "    <tr>\n",
       "      <th class=\"blank level0\" >&nbsp;</th>\n",
       "      <th id=\"T_2f207_level0_col0\" class=\"col_heading level0 col0\" >critic_score</th>\n",
       "      <th id=\"T_2f207_level0_col1\" class=\"col_heading level0 col1\" >user_score</th>\n",
       "      <th id=\"T_2f207_level0_col2\" class=\"col_heading level0 col2\" >rating</th>\n",
       "    </tr>\n",
       "  </thead>\n",
       "  <tbody>\n",
       "    <tr>\n",
       "      <th id=\"T_2f207_level0_row0\" class=\"row_heading level0 row0\" >critic_score</th>\n",
       "      <td id=\"T_2f207_row0_col0\" class=\"data row0 col0\" ></td>\n",
       "      <td id=\"T_2f207_row0_col1\" class=\"data row0 col1\" ></td>\n",
       "      <td id=\"T_2f207_row0_col2\" class=\"data row0 col2\" ></td>\n",
       "    </tr>\n",
       "    <tr>\n",
       "      <th id=\"T_2f207_level0_row1\" class=\"row_heading level0 row1\" >user_score</th>\n",
       "      <td id=\"T_2f207_row1_col0\" class=\"data row1 col0\" >< 87.7% / ^ 93.3%</td>\n",
       "      <td id=\"T_2f207_row1_col1\" class=\"data row1 col1\" ></td>\n",
       "      <td id=\"T_2f207_row1_col2\" class=\"data row1 col2\" ></td>\n",
       "    </tr>\n",
       "    <tr>\n",
       "      <th id=\"T_2f207_level0_row2\" class=\"row_heading level0 row2\" >rating</th>\n",
       "      <td id=\"T_2f207_row2_col0\" class=\"data row2 col0\" >< 98.8% / ^ 77.9%</td>\n",
       "      <td id=\"T_2f207_row2_col1\" class=\"data row2 col1\" >< 98.7% / ^ 73.2%</td>\n",
       "      <td id=\"T_2f207_row2_col2\" class=\"data row2 col2\" ></td>\n",
       "    </tr>\n",
       "  </tbody>\n",
       "</table>\n"
      ],
      "text/plain": [
       "<pandas.io.formats.style.Styler at 0x7405bc845310>"
      ]
     },
     "metadata": {},
     "output_type": "display_data"
    }
   ],
   "source": [
    "next(gen)"
   ]
  },
  {
   "cell_type": "code",
   "execution_count": null,
   "metadata": {},
   "outputs": [],
   "source": [
    "next(gen)"
   ]
  },
  {
   "cell_type": "code",
   "execution_count": 767,
   "metadata": {},
   "outputs": [
    {
     "name": "stdout",
     "output_type": "stream",
     "text": [
      "8005 (47.89% of all) (93.32% of critic_score) (87.73% of user_score) rows with missings simultaneously in ['critic_score', 'user_score']\n"
     ]
    },
    {
     "data": {
      "text/html": [
       "<div>\n",
       "<style scoped>\n",
       "    .dataframe tbody tr th:only-of-type {\n",
       "        vertical-align: middle;\n",
       "    }\n",
       "\n",
       "    .dataframe tbody tr th {\n",
       "        vertical-align: top;\n",
       "    }\n",
       "\n",
       "    .dataframe thead th {\n",
       "        text-align: right;\n",
       "    }\n",
       "</style>\n",
       "<table border=\"1\" class=\"dataframe\">\n",
       "  <thead>\n",
       "    <tr style=\"text-align: right;\">\n",
       "      <th></th>\n",
       "      <th>name</th>\n",
       "      <th>platform</th>\n",
       "      <th>year_of_release</th>\n",
       "      <th>genre</th>\n",
       "      <th>na_sales</th>\n",
       "      <th>eu_sales</th>\n",
       "      <th>jp_sales</th>\n",
       "      <th>other_sales</th>\n",
       "      <th>critic_score</th>\n",
       "      <th>user_score</th>\n",
       "      <th>rating</th>\n",
       "    </tr>\n",
       "  </thead>\n",
       "  <tbody>\n",
       "    <tr>\n",
       "      <th>755</th>\n",
       "      <td>Mario &amp; Luigi: Superstar Saga</td>\n",
       "      <td>GBA</td>\n",
       "      <td>2,003.00</td>\n",
       "      <td>Role-Playing</td>\n",
       "      <td>1.48</td>\n",
       "      <td>0.17</td>\n",
       "      <td>0.47</td>\n",
       "      <td>0.06</td>\n",
       "      <td>NaN</td>\n",
       "      <td>NaN</td>\n",
       "      <td>NaN</td>\n",
       "    </tr>\n",
       "    <tr>\n",
       "      <th>13011</th>\n",
       "      <td>Luminous Arc Infinity</td>\n",
       "      <td>PSV</td>\n",
       "      <td>2,015.00</td>\n",
       "      <td>Action</td>\n",
       "      <td>0.00</td>\n",
       "      <td>0.00</td>\n",
       "      <td>0.05</td>\n",
       "      <td>0.00</td>\n",
       "      <td>NaN</td>\n",
       "      <td>NaN</td>\n",
       "      <td>NaN</td>\n",
       "    </tr>\n",
       "    <tr>\n",
       "      <th>2261</th>\n",
       "      <td>Tobal No.1</td>\n",
       "      <td>PS</td>\n",
       "      <td>1,996.00</td>\n",
       "      <td>Fighting</td>\n",
       "      <td>0.12</td>\n",
       "      <td>0.08</td>\n",
       "      <td>0.66</td>\n",
       "      <td>0.06</td>\n",
       "      <td>NaN</td>\n",
       "      <td>NaN</td>\n",
       "      <td>NaN</td>\n",
       "    </tr>\n",
       "    <tr>\n",
       "      <th>16465</th>\n",
       "      <td>S.Y.K: Shinsetsu Saiyuuki Portable</td>\n",
       "      <td>PSP</td>\n",
       "      <td>2,010.00</td>\n",
       "      <td>Adventure</td>\n",
       "      <td>0.00</td>\n",
       "      <td>0.00</td>\n",
       "      <td>0.01</td>\n",
       "      <td>0.00</td>\n",
       "      <td>NaN</td>\n",
       "      <td>NaN</td>\n",
       "      <td>NaN</td>\n",
       "    </tr>\n",
       "    <tr>\n",
       "      <th>6385</th>\n",
       "      <td>Just Dance Kids 2</td>\n",
       "      <td>Wii</td>\n",
       "      <td>2,011.00</td>\n",
       "      <td>Misc</td>\n",
       "      <td>0.25</td>\n",
       "      <td>0.00</td>\n",
       "      <td>0.00</td>\n",
       "      <td>0.02</td>\n",
       "      <td>NaN</td>\n",
       "      <td>NaN</td>\n",
       "      <td>E</td>\n",
       "    </tr>\n",
       "    <tr>\n",
       "      <th>4377</th>\n",
       "      <td>Rock Band Country Track Pack</td>\n",
       "      <td>Wii</td>\n",
       "      <td>2,009.00</td>\n",
       "      <td>Misc</td>\n",
       "      <td>0.41</td>\n",
       "      <td>0.00</td>\n",
       "      <td>0.00</td>\n",
       "      <td>0.03</td>\n",
       "      <td>NaN</td>\n",
       "      <td>NaN</td>\n",
       "      <td>E10+</td>\n",
       "    </tr>\n",
       "    <tr>\n",
       "      <th>12553</th>\n",
       "      <td>Mike Piazza's Strike Zone</td>\n",
       "      <td>N64</td>\n",
       "      <td>1,998.00</td>\n",
       "      <td>Sports</td>\n",
       "      <td>0.05</td>\n",
       "      <td>0.01</td>\n",
       "      <td>0.00</td>\n",
       "      <td>0.00</td>\n",
       "      <td>NaN</td>\n",
       "      <td>NaN</td>\n",
       "      <td>NaN</td>\n",
       "    </tr>\n",
       "    <tr>\n",
       "      <th>2220</th>\n",
       "      <td>Toy Story 2: Buzz Lightyear to the Rescue!</td>\n",
       "      <td>N64</td>\n",
       "      <td>1,999.00</td>\n",
       "      <td>Platform</td>\n",
       "      <td>0.71</td>\n",
       "      <td>0.20</td>\n",
       "      <td>0.00</td>\n",
       "      <td>0.01</td>\n",
       "      <td>NaN</td>\n",
       "      <td>NaN</td>\n",
       "      <td>NaN</td>\n",
       "    </tr>\n",
       "    <tr>\n",
       "      <th>5172</th>\n",
       "      <td>999: Nine Hours, Nine Persons, Nine Doors</td>\n",
       "      <td>DS</td>\n",
       "      <td>2,009.00</td>\n",
       "      <td>Adventure</td>\n",
       "      <td>0.31</td>\n",
       "      <td>0.00</td>\n",
       "      <td>0.03</td>\n",
       "      <td>0.02</td>\n",
       "      <td>NaN</td>\n",
       "      <td>NaN</td>\n",
       "      <td>NaN</td>\n",
       "    </tr>\n",
       "    <tr>\n",
       "      <th>10854</th>\n",
       "      <td>Kung Fu Panda 2</td>\n",
       "      <td>PS3</td>\n",
       "      <td>2,011.00</td>\n",
       "      <td>Action</td>\n",
       "      <td>0.04</td>\n",
       "      <td>0.04</td>\n",
       "      <td>0.00</td>\n",
       "      <td>0.01</td>\n",
       "      <td>NaN</td>\n",
       "      <td>NaN</td>\n",
       "      <td>NaN</td>\n",
       "    </tr>\n",
       "  </tbody>\n",
       "</table>\n",
       "</div>"
      ],
      "text/plain": [
       "                                             name platform  year_of_release  \\\n",
       "755                 Mario & Luigi: Superstar Saga      GBA         2,003.00   \n",
       "13011                       Luminous Arc Infinity      PSV         2,015.00   \n",
       "2261                                   Tobal No.1       PS         1,996.00   \n",
       "16465          S.Y.K: Shinsetsu Saiyuuki Portable      PSP         2,010.00   \n",
       "6385                            Just Dance Kids 2      Wii         2,011.00   \n",
       "4377                 Rock Band Country Track Pack      Wii         2,009.00   \n",
       "12553                   Mike Piazza's Strike Zone      N64         1,998.00   \n",
       "2220   Toy Story 2: Buzz Lightyear to the Rescue!      N64         1,999.00   \n",
       "5172    999: Nine Hours, Nine Persons, Nine Doors       DS         2,009.00   \n",
       "10854                             Kung Fu Panda 2      PS3         2,011.00   \n",
       "\n",
       "              genre  na_sales  eu_sales  jp_sales  other_sales  critic_score  \\\n",
       "755    Role-Playing      1.48      0.17      0.47         0.06           NaN   \n",
       "13011        Action      0.00      0.00      0.05         0.00           NaN   \n",
       "2261       Fighting      0.12      0.08      0.66         0.06           NaN   \n",
       "16465     Adventure      0.00      0.00      0.01         0.00           NaN   \n",
       "6385           Misc      0.25      0.00      0.00         0.02           NaN   \n",
       "4377           Misc      0.41      0.00      0.00         0.03           NaN   \n",
       "12553        Sports      0.05      0.01      0.00         0.00           NaN   \n",
       "2220       Platform      0.71      0.20      0.00         0.01           NaN   \n",
       "5172      Adventure      0.31      0.00      0.03         0.02           NaN   \n",
       "10854        Action      0.04      0.04      0.00         0.01           NaN   \n",
       "\n",
       "       user_score rating  \n",
       "755           NaN    NaN  \n",
       "13011         NaN    NaN  \n",
       "2261          NaN    NaN  \n",
       "16465         NaN    NaN  \n",
       "6385          NaN      E  \n",
       "4377          NaN   E10+  \n",
       "12553         NaN    NaN  \n",
       "2220          NaN    NaN  \n",
       "5172          NaN    NaN  \n",
       "10854         NaN    NaN  "
      ]
     },
     "execution_count": 767,
     "metadata": {},
     "output_type": "execute_result"
    }
   ],
   "source": [
    "df_na_in_both_columns = pagri_data_tools.check_na_in_both_columns(df, ['critic_score', 'user_score'])\n",
    "df_na_in_both_columns.sample(10)"
   ]
  },
  {
   "cell_type": "markdown",
   "metadata": {},
   "source": [
    "**Наблюдения:**  \n",
    "\n",
    "- Большинство пропусков в столбцах оценка пользователей и оценка критиков находятся в одних и тех же строках."
   ]
  },
  {
   "cell_type": "markdown",
   "metadata": {},
   "source": [
    "Добавим ещё столбце с рейтингом и посмотрим сколько пропусков во всех трех столбцах.  "
   ]
  },
  {
   "cell_type": "code",
   "execution_count": 773,
   "metadata": {},
   "outputs": [
    {
     "name": "stdout",
     "output_type": "stream",
     "text": [
      "6667 (39.89% of all) (77.72% of critic_score) (73.06% of user_score) rows with missings simultaneously in ['critic_score', 'user_score', 'rating']\n"
     ]
    },
    {
     "data": {
      "text/html": [
       "<div>\n",
       "<style scoped>\n",
       "    .dataframe tbody tr th:only-of-type {\n",
       "        vertical-align: middle;\n",
       "    }\n",
       "\n",
       "    .dataframe tbody tr th {\n",
       "        vertical-align: top;\n",
       "    }\n",
       "\n",
       "    .dataframe thead th {\n",
       "        text-align: right;\n",
       "    }\n",
       "</style>\n",
       "<table border=\"1\" class=\"dataframe\">\n",
       "  <thead>\n",
       "    <tr style=\"text-align: right;\">\n",
       "      <th></th>\n",
       "      <th>name</th>\n",
       "      <th>platform</th>\n",
       "      <th>year_of_release</th>\n",
       "      <th>genre</th>\n",
       "      <th>na_sales</th>\n",
       "      <th>eu_sales</th>\n",
       "      <th>jp_sales</th>\n",
       "      <th>other_sales</th>\n",
       "      <th>critic_score</th>\n",
       "      <th>user_score</th>\n",
       "      <th>rating</th>\n",
       "    </tr>\n",
       "  </thead>\n",
       "  <tbody>\n",
       "    <tr>\n",
       "      <th>15127</th>\n",
       "      <td>TV Total Events</td>\n",
       "      <td>Wii</td>\n",
       "      <td>2,011.00</td>\n",
       "      <td>Misc</td>\n",
       "      <td>0.00</td>\n",
       "      <td>0.02</td>\n",
       "      <td>0.00</td>\n",
       "      <td>0.00</td>\n",
       "      <td>NaN</td>\n",
       "      <td>NaN</td>\n",
       "      <td>NaN</td>\n",
       "    </tr>\n",
       "    <tr>\n",
       "      <th>3590</th>\n",
       "      <td>Hamtaro: Ham-Hams Unite!</td>\n",
       "      <td>GB</td>\n",
       "      <td>2,001.00</td>\n",
       "      <td>Role-Playing</td>\n",
       "      <td>0.00</td>\n",
       "      <td>0.00</td>\n",
       "      <td>0.56</td>\n",
       "      <td>0.00</td>\n",
       "      <td>NaN</td>\n",
       "      <td>NaN</td>\n",
       "      <td>NaN</td>\n",
       "    </tr>\n",
       "    <tr>\n",
       "      <th>15638</th>\n",
       "      <td>The Crow: City of Angels</td>\n",
       "      <td>PS</td>\n",
       "      <td>1,997.00</td>\n",
       "      <td>Action</td>\n",
       "      <td>0.01</td>\n",
       "      <td>0.01</td>\n",
       "      <td>0.00</td>\n",
       "      <td>0.00</td>\n",
       "      <td>NaN</td>\n",
       "      <td>NaN</td>\n",
       "      <td>NaN</td>\n",
       "    </tr>\n",
       "    <tr>\n",
       "      <th>15379</th>\n",
       "      <td>Detective Jinguuji Saburo: Ronde Revenge</td>\n",
       "      <td>3DS</td>\n",
       "      <td>2,012.00</td>\n",
       "      <td>Action</td>\n",
       "      <td>0.00</td>\n",
       "      <td>0.00</td>\n",
       "      <td>0.02</td>\n",
       "      <td>0.00</td>\n",
       "      <td>NaN</td>\n",
       "      <td>NaN</td>\n",
       "      <td>NaN</td>\n",
       "    </tr>\n",
       "    <tr>\n",
       "      <th>13762</th>\n",
       "      <td>Dead Ball Zone</td>\n",
       "      <td>PS</td>\n",
       "      <td>1,998.00</td>\n",
       "      <td>Sports</td>\n",
       "      <td>0.02</td>\n",
       "      <td>0.02</td>\n",
       "      <td>0.00</td>\n",
       "      <td>0.00</td>\n",
       "      <td>NaN</td>\n",
       "      <td>NaN</td>\n",
       "      <td>NaN</td>\n",
       "    </tr>\n",
       "    <tr>\n",
       "      <th>7538</th>\n",
       "      <td>Langrisser III</td>\n",
       "      <td>SAT</td>\n",
       "      <td>1,996.00</td>\n",
       "      <td>Strategy</td>\n",
       "      <td>0.00</td>\n",
       "      <td>0.00</td>\n",
       "      <td>0.20</td>\n",
       "      <td>0.00</td>\n",
       "      <td>NaN</td>\n",
       "      <td>NaN</td>\n",
       "      <td>NaN</td>\n",
       "    </tr>\n",
       "    <tr>\n",
       "      <th>8081</th>\n",
       "      <td>Jampack Vol. 1</td>\n",
       "      <td>PS</td>\n",
       "      <td>1,996.00</td>\n",
       "      <td>Misc</td>\n",
       "      <td>0.10</td>\n",
       "      <td>0.07</td>\n",
       "      <td>0.00</td>\n",
       "      <td>0.01</td>\n",
       "      <td>NaN</td>\n",
       "      <td>NaN</td>\n",
       "      <td>NaN</td>\n",
       "    </tr>\n",
       "    <tr>\n",
       "      <th>942</th>\n",
       "      <td>Pinball</td>\n",
       "      <td>NES</td>\n",
       "      <td>1,984.00</td>\n",
       "      <td>Action</td>\n",
       "      <td>0.80</td>\n",
       "      <td>0.19</td>\n",
       "      <td>0.83</td>\n",
       "      <td>0.03</td>\n",
       "      <td>NaN</td>\n",
       "      <td>NaN</td>\n",
       "      <td>NaN</td>\n",
       "    </tr>\n",
       "    <tr>\n",
       "      <th>16552</th>\n",
       "      <td>Shin Koihime Musou: Otome Taisen * Sangokushi ...</td>\n",
       "      <td>PS3</td>\n",
       "      <td>2,014.00</td>\n",
       "      <td>Adventure</td>\n",
       "      <td>0.00</td>\n",
       "      <td>0.00</td>\n",
       "      <td>0.01</td>\n",
       "      <td>0.00</td>\n",
       "      <td>NaN</td>\n",
       "      <td>NaN</td>\n",
       "      <td>NaN</td>\n",
       "    </tr>\n",
       "    <tr>\n",
       "      <th>15022</th>\n",
       "      <td>Umineko no Naku Koro ni San: Shinjitsu to Gens...</td>\n",
       "      <td>PS3</td>\n",
       "      <td>NaN</td>\n",
       "      <td>Adventure</td>\n",
       "      <td>0.00</td>\n",
       "      <td>0.00</td>\n",
       "      <td>0.02</td>\n",
       "      <td>0.00</td>\n",
       "      <td>NaN</td>\n",
       "      <td>NaN</td>\n",
       "      <td>NaN</td>\n",
       "    </tr>\n",
       "  </tbody>\n",
       "</table>\n",
       "</div>"
      ],
      "text/plain": [
       "                                                    name platform  \\\n",
       "15127                                    TV Total Events      Wii   \n",
       "3590                            Hamtaro: Ham-Hams Unite!       GB   \n",
       "15638                           The Crow: City of Angels       PS   \n",
       "15379           Detective Jinguuji Saburo: Ronde Revenge      3DS   \n",
       "13762                                     Dead Ball Zone       PS   \n",
       "7538                                      Langrisser III      SAT   \n",
       "8081                                      Jampack Vol. 1       PS   \n",
       "942                                              Pinball      NES   \n",
       "16552  Shin Koihime Musou: Otome Taisen * Sangokushi ...      PS3   \n",
       "15022  Umineko no Naku Koro ni San: Shinjitsu to Gens...      PS3   \n",
       "\n",
       "       year_of_release         genre  na_sales  eu_sales  jp_sales  \\\n",
       "15127         2,011.00          Misc      0.00      0.02      0.00   \n",
       "3590          2,001.00  Role-Playing      0.00      0.00      0.56   \n",
       "15638         1,997.00        Action      0.01      0.01      0.00   \n",
       "15379         2,012.00        Action      0.00      0.00      0.02   \n",
       "13762         1,998.00        Sports      0.02      0.02      0.00   \n",
       "7538          1,996.00      Strategy      0.00      0.00      0.20   \n",
       "8081          1,996.00          Misc      0.10      0.07      0.00   \n",
       "942           1,984.00        Action      0.80      0.19      0.83   \n",
       "16552         2,014.00     Adventure      0.00      0.00      0.01   \n",
       "15022              NaN     Adventure      0.00      0.00      0.02   \n",
       "\n",
       "       other_sales  critic_score  user_score rating  \n",
       "15127         0.00           NaN         NaN    NaN  \n",
       "3590          0.00           NaN         NaN    NaN  \n",
       "15638         0.00           NaN         NaN    NaN  \n",
       "15379         0.00           NaN         NaN    NaN  \n",
       "13762         0.00           NaN         NaN    NaN  \n",
       "7538          0.00           NaN         NaN    NaN  \n",
       "8081          0.01           NaN         NaN    NaN  \n",
       "942           0.03           NaN         NaN    NaN  \n",
       "16552         0.00           NaN         NaN    NaN  \n",
       "15022         0.00           NaN         NaN    NaN  "
      ]
     },
     "execution_count": 773,
     "metadata": {},
     "output_type": "execute_result"
    }
   ],
   "source": [
    "df_na_in_both_columns = pagri_data_tools.check_na_in_both_columns(df, ['critic_score', 'user_score', 'rating'])\n",
    "df_na_in_both_columns.sample(10)"
   ]
  },
  {
   "cell_type": "markdown",
   "metadata": {},
   "source": [
    "**Наблюдения:**  \n",
    "\n",
    "- Почти все пропуски в рейтинге находятся в тех же строках, что и пропуски в оценке критиков и оценке пользователей."
   ]
  },
  {
   "cell_type": "code",
   "execution_count": 679,
   "metadata": {},
   "outputs": [
    {
     "data": {
      "text/plain": [
       "np.int64(2)"
      ]
     },
     "execution_count": 679,
     "metadata": {},
     "output_type": "execute_result"
    }
   ],
   "source": [
    "df[['name', 'genre']].isna().all(axis=1).sum()"
   ]
  },
  {
   "cell_type": "code",
   "execution_count": 718,
   "metadata": {},
   "outputs": [
    {
     "data": {
      "text/plain": [
       "<module 'pagri_data_tools' from '/home/pagri/git_repos/pagri_analytics_modules/pagri_data_tools/__init__.py'>"
      ]
     },
     "execution_count": 718,
     "metadata": {},
     "output_type": "execute_result"
    }
   ],
   "source": [
    "import importlib\n",
    "importlib.reload(pagri_data_tools)"
   ]
  },
  {
   "cell_type": "code",
   "execution_count": null,
   "metadata": {},
   "outputs": [],
   "source": [
    "import missingno as msno"
   ]
  },
  {
   "cell_type": "code",
   "execution_count": null,
   "metadata": {},
   "outputs": [],
   "source": [
    "msno.heatmap(data, figsize=(8,4)) #Рассмотрим совпадают ли пропуски в строках по разным столбцам \n",
    "plt.show()"
   ]
  },
  {
   "cell_type": "code",
   "execution_count": null,
   "metadata": {},
   "outputs": [],
   "source": [
    "Рассмотрим динамику и закономерности появления пропусков в столбцах."
   ]
  },
  {
   "cell_type": "code",
   "execution_count": null,
   "metadata": {},
   "outputs": [],
   "source": [
    "Наблюдается резкий рост количества выпускаемых игр после 2000 года, также после 2000 года одна и та же игра начала появляться на разных платформах. Пик количества выпускаемых игр достигает в 2007-2008 годах, после чего падает, начинают развиваться смартфоны, мобильный интернет, компьютерные игры."
   ]
  },
  {
   "cell_type": "code",
   "execution_count": null,
   "metadata": {},
   "outputs": [],
   "source": [
    "#Рассмотрим количество выпущенных игр за весь период наблюдений\n",
    "fig, ax=plt.subplots(figsize=(10,8))\n",
    "sum_un=data.pivot_table(index='year_of_release', values='name', aggfunc=lambda x: len(x.unique())) #Количество выпускаемых игр\n",
    "sum_total=data.pivot_table(index='year_of_release', values='name', aggfunc='count') #Количество выпускаемых игр с учетом релиза на разных платформах\n",
    "graph=sum_un.merge(sum_total, left_index=True, right_index=True).reset_index()\n",
    "ax.plot(graph['year_of_release'], graph['name_x'])\n",
    "ax.plot(graph['year_of_release'], graph['name_y'])\n",
    "ax.set_xlabel('Год выпуска')\n",
    "ax.set_title('Количество выпущенных игр')\n",
    "ax.legend(['уникальные значения', 'разные платформы'])\n",
    "plt.show()"
   ]
  },
  {
   "cell_type": "code",
   "execution_count": null,
   "metadata": {},
   "outputs": [],
   "source": [
    "\n",
    "\n",
    "# Рассмотрим, какую долю занимают игры без рейтинга в общих продажах\n",
    "total_sales=data.pivot_table(index='year_of_release', values='total_sale', aggfunc='count')\n",
    "total_sales_sum=data.pivot_table(index='year_of_release', values='total_sale', aggfunc='sum')\n",
    "\n"
   ]
  },
  {
   "cell_type": "code",
   "execution_count": null,
   "metadata": {},
   "outputs": [],
   "source": [
    "columns_gap=['critic_score', 'user_score', 'rating']\n",
    "for column in columns_gap:\n",
    "    fig = plt.figure(figsize=(16,6)) \n",
    "    score_gap=data.loc[data[column].isna()].pivot_table(index='year_of_release', values='total_sale', aggfunc='count')\n",
    "    ratio_table=score_gap.merge(total_sales, right_index=True, left_index=True)\n",
    "    ratio_table.columns=['nan', 'total']\n",
    "    ratio_table['ratio_nan']=ratio_table['nan']/ratio_table['total']\n",
    "    ratio_table=ratio_table.query('ratio_nan<0.9')\n",
    "    score_gap_sum=data.loc[data[column].isna()].pivot_table(index='year_of_release', values='total_sale', aggfunc='sum')\n",
    "    ratio_table_sum=score_gap_sum.merge(total_sales_sum, right_index=True, left_index=True)\n",
    "    ratio_table_sum.columns=['nan', 'total']\n",
    "    ratio_table_sum['ratio_nan']=ratio_table_sum['nan']/ratio_table_sum['total']\n",
    "    ratio_table_sum=ratio_table_sum.query('ratio_nan<0.9')\n",
    "    ax1 = fig.add_subplot(1, 2, 1)\n",
    "    ax1=sns.barplot(x=ratio_table.index,\n",
    "               y='ratio_nan',\n",
    "               data=ratio_table,\n",
    "               palette=['lightblue'])\n",
    "    plt.xticks(rotation=90)\n",
    "    ax2 = fig.add_subplot(1, 2, 2)\n",
    "    ax2=sns.barplot(x=ratio_table_sum.index,\n",
    "               y='ratio_nan',\n",
    "               data=ratio_table_sum,\n",
    "               palette=['lightblue'])\n",
    "    plt.xticks(rotation=90)\n",
    "    ax1.set_xlabel('Год выпуска')\n",
    "    ax1.set_ylabel('Доля строк с пропусками')\n",
    "    ax2.set_xlabel('Год выпуска')\n",
    "    ax2.set_ylabel('Доля продаж игр с пропусками')\n",
    "    plt.suptitle(column)\n",
    "    plt.show()"
   ]
  },
  {
   "cell_type": "code",
   "execution_count": null,
   "metadata": {},
   "outputs": [],
   "source": [
    "\n",
    "\n",
    "    Только после 1999 года начинают появляться отзывы пользователей, возможно, не было системы/платформы, на которой аккумулировались эти данные.\n",
    "    Доля пропусков в возрастном рейтинге резко снижается после 1999 года, так как данная организация начала действовать в 1994 году и присвоение рейтинга происходило постепенно\n",
    "    Можно отметить, что количество пропусков в отзывах возрастает с увеличением количества выпускаемых игр, при этом видно, что несмотря на то, что эти игра имеют существенную долю от общего количества игр, их доля от общих продаж намного ниже. Скорее всего, это малопопулярные игры, которые не набрали нужного количества отзывов для формирования оценки\n",
    "    Количество пропусков в рейтинге пользователей/критиков начинает увеличиваться после 2005 года, скорее всего, это связано с выпуском нового поколения консолей, для которых выпускалось большое количество разных малопопулярных игр\n",
    "    Так как количество пропусков высокое, при этом относятся они скорее всего к малопопулярным играм, а также очевидной зависимости от других параметров для них нет, заполнение их посторонними данными нецелесообразно\n",
    "\n"
   ]
  },
  {
   "cell_type": "markdown",
   "metadata": {},
   "source": [
    "#### Изучение выбросов\n"
   ]
  },
  {
   "cell_type": "markdown",
   "metadata": {},
   "source": [
    "Посмотрим на выбросы используя квантили.    \n",
    "Выбросами будем считать значения, которые выходят за пределы 5 и 95 квантилей."
   ]
  },
  {
   "cell_type": "code",
   "execution_count": 580,
   "metadata": {},
   "outputs": [
    {
     "data": {
      "text/html": [
       "<style type=\"text/css\">\n",
       "#T_df656 caption {\n",
       "  font-size: 18px;\n",
       "  text-align: left;\n",
       "  font-weight: bold;\n",
       "}\n",
       "</style>\n",
       "<table id=\"T_df656\">\n",
       "  <caption>Outliers</caption>\n",
       "  <thead>\n",
       "  </thead>\n",
       "  <tbody>\n",
       "    <tr>\n",
       "      <th id=\"T_df656_level0_row0\" class=\"row_heading level0 row0\" >year_of_release</th>\n",
       "      <td id=\"T_df656_row0_col0\" class=\"data row0 col0\" >1209 (7.23%)</td>\n",
       "    </tr>\n",
       "    <tr>\n",
       "      <th id=\"T_df656_level0_row1\" class=\"row_heading level0 row1\" >na_sales</th>\n",
       "      <td id=\"T_df656_row1_col0\" class=\"data row1 col0\" >829 (4.96%)</td>\n",
       "    </tr>\n",
       "    <tr>\n",
       "      <th id=\"T_df656_level0_row2\" class=\"row_heading level0 row2\" >eu_sales</th>\n",
       "      <td id=\"T_df656_row2_col0\" class=\"data row2 col0\" >829 (4.96%)</td>\n",
       "    </tr>\n",
       "    <tr>\n",
       "      <th id=\"T_df656_level0_row3\" class=\"row_heading level0 row3\" >jp_sales</th>\n",
       "      <td id=\"T_df656_row3_col0\" class=\"data row3 col0\" >822 (4.92%)</td>\n",
       "    </tr>\n",
       "    <tr>\n",
       "      <th id=\"T_df656_level0_row4\" class=\"row_heading level0 row4\" >other_sales</th>\n",
       "      <td id=\"T_df656_row4_col0\" class=\"data row4 col0\" >787 (4.71%)</td>\n",
       "    </tr>\n",
       "    <tr>\n",
       "      <th id=\"T_df656_level0_row5\" class=\"row_heading level0 row5\" >critic_score</th>\n",
       "      <td id=\"T_df656_row5_col0\" class=\"data row5 col0\" >709 (4.24%)</td>\n",
       "    </tr>\n",
       "    <tr>\n",
       "      <th id=\"T_df656_level0_row6\" class=\"row_heading level0 row6\" >user_score</th>\n",
       "      <td id=\"T_df656_row6_col0\" class=\"data row6 col0\" >677 (4.05%)</td>\n",
       "    </tr>\n",
       "  </tbody>\n",
       "</table>\n"
      ],
      "text/plain": [
       "<pandas.io.formats.style.Styler at 0x7405abff2b40>"
      ]
     },
     "metadata": {},
     "output_type": "display_data"
    }
   ],
   "source": [
    "series_outliers = pagri_data_tools.detect_outliers_quantile(df)"
   ]
  },
  {
   "cell_type": "markdown",
   "metadata": {},
   "source": [
    "**Наблюдения:**  \n",
    "\n",
    "- Процент выбросов во всех колонках, кроме года выпуска, находится в диапазоне 0-5%. Это может указывать на то, что данные достаточно чистые и не содержат значительных аномалий.\n",
    "- Процент выбросов во всех колонках примерно одинаковый, что может свидетельствовать об однородности данных."
   ]
  },
  {
   "cell_type": "markdown",
   "metadata": {},
   "source": [
    "#### Изучение отрицательных значений\n"
   ]
  },
  {
   "cell_type": "markdown",
   "metadata": {},
   "source": [
    "Посмотрим есть ли у нас отрицательные значения."
   ]
  },
  {
   "cell_type": "code",
   "execution_count": 581,
   "metadata": {},
   "outputs": [
    {
     "name": "stdout",
     "output_type": "stream",
     "text": [
      "There are no negative values\n"
     ]
    }
   ],
   "source": [
    "series_negative = pagri_data_tools.find_columns_with_negative_values(df)"
   ]
  },
  {
   "cell_type": "markdown",
   "metadata": {},
   "source": [
    "Отлично. Отрицательных значений нет."
   ]
  },
  {
   "cell_type": "markdown",
   "metadata": {},
   "source": [
    "#### Изучение нулевых значений\n"
   ]
  },
  {
   "cell_type": "markdown",
   "metadata": {},
   "source": [
    "Изучим нулевые значения в каждом столбце."
   ]
  },
  {
   "cell_type": "code",
   "execution_count": 582,
   "metadata": {},
   "outputs": [
    {
     "data": {
      "text/html": [
       "<style type=\"text/css\">\n",
       "#T_acccc caption {\n",
       "  font-size: 18px;\n",
       "  text-align: left;\n",
       "  font-weight: bold;\n",
       "}\n",
       "</style>\n",
       "<table id=\"T_acccc\">\n",
       "  <caption>Zeros</caption>\n",
       "  <thead>\n",
       "  </thead>\n",
       "  <tbody>\n",
       "    <tr>\n",
       "      <th id=\"T_acccc_level0_row0\" class=\"row_heading level0 row0\" >na_sales</th>\n",
       "      <td id=\"T_acccc_row0_col0\" class=\"data row0 col0\" >4508 (26.97%)</td>\n",
       "    </tr>\n",
       "    <tr>\n",
       "      <th id=\"T_acccc_level0_row1\" class=\"row_heading level0 row1\" >eu_sales</th>\n",
       "      <td id=\"T_acccc_row1_col0\" class=\"data row1 col0\" >5870 (35.12%)</td>\n",
       "    </tr>\n",
       "    <tr>\n",
       "      <th id=\"T_acccc_level0_row2\" class=\"row_heading level0 row2\" >jp_sales</th>\n",
       "      <td id=\"T_acccc_row2_col0\" class=\"data row2 col0\" >10514 (62.90%)</td>\n",
       "    </tr>\n",
       "    <tr>\n",
       "      <th id=\"T_acccc_level0_row3\" class=\"row_heading level0 row3\" >other_sales</th>\n",
       "      <td id=\"T_acccc_row3_col0\" class=\"data row3 col0\" >6601 (39.49%)</td>\n",
       "    </tr>\n",
       "    <tr>\n",
       "      <th id=\"T_acccc_level0_row4\" class=\"row_heading level0 row4\" >user_score</th>\n",
       "      <td id=\"T_acccc_row4_col0\" class=\"data row4 col0\" >1 (0.01%)</td>\n",
       "    </tr>\n",
       "  </tbody>\n",
       "</table>\n"
      ],
      "text/plain": [
       "<pandas.io.formats.style.Styler at 0x7405abf71e50>"
      ]
     },
     "metadata": {},
     "output_type": "display_data"
    }
   ],
   "source": [
    "series_zeros = pagri_data_tools.find_columns_with_zeros_values(df)"
   ]
  },
  {
   "cell_type": "markdown",
   "metadata": {},
   "source": [
    "Один пользователь поставил оценку 0. Посмотрим на эту запись."
   ]
  },
  {
   "cell_type": "code",
   "execution_count": 583,
   "metadata": {},
   "outputs": [
    {
     "data": {
      "text/html": [
       "<div>\n",
       "<style scoped>\n",
       "    .dataframe tbody tr th:only-of-type {\n",
       "        vertical-align: middle;\n",
       "    }\n",
       "\n",
       "    .dataframe tbody tr th {\n",
       "        vertical-align: top;\n",
       "    }\n",
       "\n",
       "    .dataframe thead th {\n",
       "        text-align: right;\n",
       "    }\n",
       "</style>\n",
       "<table border=\"1\" class=\"dataframe\">\n",
       "  <thead>\n",
       "    <tr style=\"text-align: right;\">\n",
       "      <th></th>\n",
       "      <th>name</th>\n",
       "      <th>platform</th>\n",
       "      <th>year_of_release</th>\n",
       "      <th>genre</th>\n",
       "      <th>na_sales</th>\n",
       "      <th>eu_sales</th>\n",
       "      <th>jp_sales</th>\n",
       "      <th>other_sales</th>\n",
       "      <th>critic_score</th>\n",
       "      <th>user_score</th>\n",
       "      <th>rating</th>\n",
       "    </tr>\n",
       "  </thead>\n",
       "  <tbody>\n",
       "    <tr>\n",
       "      <th>2835</th>\n",
       "      <td>My Little Pony: Pinkie Pie's Party</td>\n",
       "      <td>DS</td>\n",
       "      <td>2,008.00</td>\n",
       "      <td>Adventure</td>\n",
       "      <td>0.66</td>\n",
       "      <td>0.00</td>\n",
       "      <td>0.00</td>\n",
       "      <td>0.06</td>\n",
       "      <td>NaN</td>\n",
       "      <td>0.00</td>\n",
       "      <td>E</td>\n",
       "    </tr>\n",
       "  </tbody>\n",
       "</table>\n",
       "</div>"
      ],
      "text/plain": [
       "                                    name platform  year_of_release      genre  \\\n",
       "2835  My Little Pony: Pinkie Pie's Party       DS         2,008.00  Adventure   \n",
       "\n",
       "      na_sales  eu_sales  jp_sales  other_sales  critic_score  user_score  \\\n",
       "2835      0.66      0.00      0.00         0.06           NaN        0.00   \n",
       "\n",
       "     rating  \n",
       "2835      E  "
      ]
     },
     "execution_count": 583,
     "metadata": {},
     "output_type": "execute_result"
    }
   ],
   "source": [
    "series_zeros['user_score']"
   ]
  },
  {
   "cell_type": "markdown",
   "metadata": {},
   "source": [
    "Ничего особенного не обнаружено."
   ]
  },
  {
   "cell_type": "markdown",
   "metadata": {},
   "source": [
    "Нули в количестве продаж это нормально. "
   ]
  },
  {
   "cell_type": "markdown",
   "metadata": {},
   "source": [
    "### Промежуточный вывод\n"
   ]
  },
  {
   "cell_type": "markdown",
   "metadata": {},
   "source": [
    "- В столбце с годом выпуска 2 % пропусков.\n",
    "- В столбце с оценкой критиков 51% пропущенных занчений.\n",
    "- В столбце с оценкой пользователей 55% пропущенных значений.\n",
    "- В столбце с названием игры есть 2 пропущенных значения (менее 1%)\n",
    "- В столбце с жанром игры 2% пропусков.  \n",
    "- В рейтинге 40% пропусков.\n",
    "- Значение 0 в оценке пользователей явно является аномалией.\n",
    "- Процент выбросов во всех колонках, кроме года выпуска, находится в диапазоне 0-5%. Это может указывать на то, что данные достаточно чистые и не содержат значительных аномалий.\n",
    "- Процент выбросов во всех колонках примерно одинаковый, что может свидетельствовать об однородности данных.\n",
    "- Почти все пропуски в рейтинге находятся в тех же строках, что и пропуски в оценке критиков и оценке пользователей.\n",
    "- Большинство пропусков в столбцах оценка пользователей и оценка критиков находятся в одних и тех же строках.\n",
    "- Пропуски в одних и тех же строках в названии игры и в жанре.\n",
    "- Есть странное значение tbd, которое не является числом. И таких значений 24 %.\n",
    "- Игры имеют год выпуска от 1980 до 2016 года.\n",
    "- Основная часть игр имеет год выпуска от 2003 до 2010 года.\n",
    "- Больше всего игр 2008 года.\n",
    "- В столбце с продажами в Северной Америке есть нули (27%). По видимому для этих игр не было продаж в Северной Америке.\n",
    "- Количество проданных игр в Северной Америке лежит в диапазоне от 0 до 41.36 млн.\n",
    "- В основном количество проданных игр в Северной Америке находится в диапазоне от 0 до 0.24 млн.\n",
    "- В столбце с продажами в Европе есть нули (35%). По видимому для этих игр не было продаж в Европе.\n",
    "- Количество проданных игр в Европе лежит в диапазоне от 0 до 28.96 млн.\n",
    "- В основном количество проданных игр в Европе находится в диапазоне от 0 до 0.11 млн.\n",
    "- В столбце с продажами в Японии есть нули (63%). По видимому для этих игр не было продаж в Японии.\n",
    "- Количество проданных игр в Японии лежит в диапазоне от 0 до 10.22 млн.\n",
    "- В основном количество проданных игр в Японии находится в диапазоне от 0 до 0.4 млн.\n",
    "- В столбце с продажами в других странах есть нули (39%). По видимому для этих игр не было продаж в других странах.\n",
    "- Количество проданных игр в других странах лежит в диапазоне от 0 до 10.57 млн.\n",
    "- В основном количество проданных игр в других странах находится в диапазоне от 0 до 0.03 млн.\n",
    "- Оценка критиков лежит в диапазоне от 13 до 98.\n",
    "- В основном критики ставят оценки от 60 до 79.\n",
    "- Оценка пользователей варируется от 0 до 9.7.\n",
    "- В освновном пользователи ставят оценки от 6.4 до 8.2\n",
    "- Топ 5 самых встречающихся игр: Need for Speed: Most Wanted, Ratatouille, LEGO Marvel Super Heroes, FIFA 14, Madden NFL 07\n",
    "- Больше всего игр на платформах PS2 и DS (по 13% от общего числа игр).\n",
    "- Больше всего игр в жанре Action.\n",
    "- Больше всего игр с рейтингами E (40%) и T(30%)."
   ]
  },
  {
   "cell_type": "markdown",
   "metadata": {},
   "source": [
    "## Предобработка данных\n"
   ]
  },
  {
   "cell_type": "markdown",
   "metadata": {},
   "source": [
    "Сохраним исходный датафрейм в переменную df_origin, чтобы была возможность вернуться к нему\n"
   ]
  },
  {
   "cell_type": "code",
   "execution_count": 584,
   "metadata": {},
   "outputs": [],
   "source": [
    "df_origin = df.copy()"
   ]
  },
  {
   "cell_type": "markdown",
   "metadata": {},
   "source": [
    "### Обработка выбросов\n"
   ]
  },
  {
   "cell_type": "markdown",
   "metadata": {},
   "source": [
    "Посмотрим где у нас нулевые значения\n"
   ]
  },
  {
   "cell_type": "code",
   "execution_count": 585,
   "metadata": {},
   "outputs": [
    {
     "data": {
      "text/html": [
       "<div>\n",
       "<style scoped>\n",
       "    .dataframe tbody tr th:only-of-type {\n",
       "        vertical-align: middle;\n",
       "    }\n",
       "\n",
       "    .dataframe tbody tr th {\n",
       "        vertical-align: top;\n",
       "    }\n",
       "\n",
       "    .dataframe thead th {\n",
       "        text-align: right;\n",
       "    }\n",
       "</style>\n",
       "<table border=\"1\" class=\"dataframe\">\n",
       "  <thead>\n",
       "    <tr style=\"text-align: right;\">\n",
       "      <th></th>\n",
       "      <th>zeros</th>\n",
       "    </tr>\n",
       "  </thead>\n",
       "  <tbody>\n",
       "    <tr>\n",
       "      <th>na_sales</th>\n",
       "      <td>4508 (27.0%)</td>\n",
       "    </tr>\n",
       "    <tr>\n",
       "      <th>eu_sales</th>\n",
       "      <td>5870 (35.1%)</td>\n",
       "    </tr>\n",
       "    <tr>\n",
       "      <th>jp_sales</th>\n",
       "      <td>10514 (62.9%)</td>\n",
       "    </tr>\n",
       "    <tr>\n",
       "      <th>other_sales</th>\n",
       "      <td>6601 (39.5%)</td>\n",
       "    </tr>\n",
       "    <tr>\n",
       "      <th>user_score</th>\n",
       "      <td>1 (0.0%)</td>\n",
       "    </tr>\n",
       "  </tbody>\n",
       "</table>\n",
       "</div>"
      ],
      "text/plain": [
       "                     zeros\n",
       "na_sales      4508 (27.0%)\n",
       "eu_sales      5870 (35.1%)\n",
       "jp_sales     10514 (62.9%)\n",
       "other_sales   6601 (39.5%)\n",
       "user_score        1 (0.0%)"
      ]
     },
     "metadata": {},
     "output_type": "display_data"
    }
   ],
   "source": [
    "pagri_data_tools.check_zeros_value_in_df(df)"
   ]
  },
  {
   "cell_type": "markdown",
   "metadata": {},
   "source": [
    "Удалим одну строку, где оценка пользователя равна 0."
   ]
  },
  {
   "cell_type": "code",
   "execution_count": 586,
   "metadata": {},
   "outputs": [
    {
     "data": {
      "text/plain": [
       "16715"
      ]
     },
     "execution_count": 586,
     "metadata": {},
     "output_type": "execute_result"
    }
   ],
   "source": [
    "df.shape[0]"
   ]
  },
  {
   "cell_type": "code",
   "execution_count": 587,
   "metadata": {},
   "outputs": [
    {
     "data": {
      "text/plain": [
       "16714"
      ]
     },
     "execution_count": 587,
     "metadata": {},
     "output_type": "execute_result"
    }
   ],
   "source": [
    "df = df[(df.user_score != 0)]\n",
    "df.shape[0]"
   ]
  },
  {
   "cell_type": "code",
   "execution_count": 588,
   "metadata": {},
   "outputs": [
    {
     "data": {
      "text/html": [
       "<div>\n",
       "<style scoped>\n",
       "    .dataframe tbody tr th:only-of-type {\n",
       "        vertical-align: middle;\n",
       "    }\n",
       "\n",
       "    .dataframe tbody tr th {\n",
       "        vertical-align: top;\n",
       "    }\n",
       "\n",
       "    .dataframe thead th {\n",
       "        text-align: right;\n",
       "    }\n",
       "</style>\n",
       "<table border=\"1\" class=\"dataframe\">\n",
       "  <thead>\n",
       "    <tr style=\"text-align: right;\">\n",
       "      <th></th>\n",
       "      <th>zeros</th>\n",
       "    </tr>\n",
       "  </thead>\n",
       "  <tbody>\n",
       "    <tr>\n",
       "      <th>na_sales</th>\n",
       "      <td>4508 (27.0%)</td>\n",
       "    </tr>\n",
       "    <tr>\n",
       "      <th>eu_sales</th>\n",
       "      <td>5869 (35.1%)</td>\n",
       "    </tr>\n",
       "    <tr>\n",
       "      <th>jp_sales</th>\n",
       "      <td>10513 (62.9%)</td>\n",
       "    </tr>\n",
       "    <tr>\n",
       "      <th>other_sales</th>\n",
       "      <td>6601 (39.5%)</td>\n",
       "    </tr>\n",
       "  </tbody>\n",
       "</table>\n",
       "</div>"
      ],
      "text/plain": [
       "                     zeros\n",
       "na_sales      4508 (27.0%)\n",
       "eu_sales      5869 (35.1%)\n",
       "jp_sales     10513 (62.9%)\n",
       "other_sales   6601 (39.5%)"
      ]
     },
     "metadata": {},
     "output_type": "display_data"
    }
   ],
   "source": [
    "pagri_data_tools.check_zeros_value_in_df(df)"
   ]
  },
  {
   "cell_type": "markdown",
   "metadata": {},
   "source": [
    "Не осталоьс столбцов, в которых не должно быть нулей."
   ]
  },
  {
   "cell_type": "markdown",
   "metadata": {},
   "source": [
    "### Обработка пропусков\n"
   ]
  },
  {
   "cell_type": "code",
   "execution_count": 589,
   "metadata": {},
   "outputs": [
    {
     "data": {
      "text/html": [
       "<div>\n",
       "<style scoped>\n",
       "    .dataframe tbody tr th:only-of-type {\n",
       "        vertical-align: middle;\n",
       "    }\n",
       "\n",
       "    .dataframe tbody tr th {\n",
       "        vertical-align: top;\n",
       "    }\n",
       "\n",
       "    .dataframe thead th {\n",
       "        text-align: right;\n",
       "    }\n",
       "</style>\n",
       "<table border=\"1\" class=\"dataframe\">\n",
       "  <thead>\n",
       "    <tr style=\"text-align: right;\">\n",
       "      <th></th>\n",
       "      <th>missed</th>\n",
       "    </tr>\n",
       "  </thead>\n",
       "  <tbody>\n",
       "    <tr>\n",
       "      <th>name</th>\n",
       "      <td>2 (0.0%)</td>\n",
       "    </tr>\n",
       "    <tr>\n",
       "      <th>year_of_release</th>\n",
       "      <td>269 (1.6%)</td>\n",
       "    </tr>\n",
       "    <tr>\n",
       "      <th>genre</th>\n",
       "      <td>2 (0.0%)</td>\n",
       "    </tr>\n",
       "    <tr>\n",
       "      <th>critic_score</th>\n",
       "      <td>8577 (51.3%)</td>\n",
       "    </tr>\n",
       "    <tr>\n",
       "      <th>user_score</th>\n",
       "      <td>9125 (54.6%)</td>\n",
       "    </tr>\n",
       "    <tr>\n",
       "      <th>rating</th>\n",
       "      <td>6766 (40.5%)</td>\n",
       "    </tr>\n",
       "  </tbody>\n",
       "</table>\n",
       "</div>"
      ],
      "text/plain": [
       "                       missed\n",
       "name                 2 (0.0%)\n",
       "year_of_release    269 (1.6%)\n",
       "genre                2 (0.0%)\n",
       "critic_score     8577 (51.3%)\n",
       "user_score       9125 (54.6%)\n",
       "rating           6766 (40.5%)"
      ]
     },
     "metadata": {},
     "output_type": "display_data"
    }
   ],
   "source": [
    "pagri_data_tools.check_missed_value_in_df(df)"
   ]
  },
  {
   "cell_type": "markdown",
   "metadata": {},
   "source": [
    "Так как пропусков в столбцах с названием игры, жанром и годом выпуска мало и мы не можем восстановить с хорошей точностью эти значения,  \n",
    "то удалим их."
   ]
  },
  {
   "cell_type": "code",
   "execution_count": 590,
   "metadata": {},
   "outputs": [
    {
     "data": {
      "text/plain": [
       "16714"
      ]
     },
     "execution_count": 590,
     "metadata": {},
     "output_type": "execute_result"
    }
   ],
   "source": [
    "df.shape[0]"
   ]
  },
  {
   "cell_type": "code",
   "execution_count": 591,
   "metadata": {},
   "outputs": [
    {
     "data": {
      "text/plain": [
       "16712"
      ]
     },
     "execution_count": 591,
     "metadata": {},
     "output_type": "execute_result"
    }
   ],
   "source": [
    "df = df.dropna(subset='name')\n",
    "df.shape[0]"
   ]
  },
  {
   "cell_type": "code",
   "execution_count": 592,
   "metadata": {},
   "outputs": [
    {
     "data": {
      "text/plain": [
       "16712"
      ]
     },
     "execution_count": 592,
     "metadata": {},
     "output_type": "execute_result"
    }
   ],
   "source": [
    "df = df.dropna(subset='genre')\n",
    "df.shape[0]"
   ]
  },
  {
   "cell_type": "code",
   "execution_count": 593,
   "metadata": {},
   "outputs": [
    {
     "data": {
      "text/plain": [
       "16443"
      ]
     },
     "execution_count": 593,
     "metadata": {},
     "output_type": "execute_result"
    }
   ],
   "source": [
    "df = df.dropna(subset='year_of_release')\n",
    "df.shape[0]"
   ]
  },
  {
   "cell_type": "markdown",
   "metadata": {},
   "source": [
    "В рейтинге заменим пропуски на значение 'не указано'"
   ]
  },
  {
   "cell_type": "code",
   "execution_count": 594,
   "metadata": {},
   "outputs": [
    {
     "data": {
      "text/plain": [
       "rating\n",
       "NaN     6676\n",
       "E       3920\n",
       "T       2905\n",
       "M       1536\n",
       "E10+    1393\n",
       "EC         8\n",
       "K-A        3\n",
       "AO         1\n",
       "RP         1\n",
       "Name: count, dtype: int64"
      ]
     },
     "execution_count": 594,
     "metadata": {},
     "output_type": "execute_result"
    }
   ],
   "source": [
    "df.rating.value_counts(dropna=False)"
   ]
  },
  {
   "cell_type": "code",
   "execution_count": 595,
   "metadata": {},
   "outputs": [],
   "source": [
    "df['rating'] = df['rating'].cat.add_categories(['не указано'])\n",
    "df['rating'] = df['rating'].fillna('не указано')"
   ]
  },
  {
   "cell_type": "code",
   "execution_count": 597,
   "metadata": {},
   "outputs": [
    {
     "data": {
      "text/plain": [
       "rating\n",
       "не указано    6676\n",
       "E             3920\n",
       "T             2905\n",
       "M             1536\n",
       "E10+          1393\n",
       "EC               8\n",
       "K-A              3\n",
       "AO               1\n",
       "RP               1\n",
       "Name: count, dtype: int64"
      ]
     },
     "execution_count": 597,
     "metadata": {},
     "output_type": "execute_result"
    }
   ],
   "source": [
    "df.rating.value_counts(dropna=False)"
   ]
  },
  {
   "cell_type": "code",
   "execution_count": 598,
   "metadata": {},
   "outputs": [
    {
     "data": {
      "text/html": [
       "<div>\n",
       "<style scoped>\n",
       "    .dataframe tbody tr th:only-of-type {\n",
       "        vertical-align: middle;\n",
       "    }\n",
       "\n",
       "    .dataframe tbody tr th {\n",
       "        vertical-align: top;\n",
       "    }\n",
       "\n",
       "    .dataframe thead th {\n",
       "        text-align: right;\n",
       "    }\n",
       "</style>\n",
       "<table border=\"1\" class=\"dataframe\">\n",
       "  <thead>\n",
       "    <tr style=\"text-align: right;\">\n",
       "      <th></th>\n",
       "      <th>missed</th>\n",
       "    </tr>\n",
       "  </thead>\n",
       "  <tbody>\n",
       "    <tr>\n",
       "      <th>critic_score</th>\n",
       "      <td>8460 (51.5%)</td>\n",
       "    </tr>\n",
       "    <tr>\n",
       "      <th>user_score</th>\n",
       "      <td>8981 (54.6%)</td>\n",
       "    </tr>\n",
       "  </tbody>\n",
       "</table>\n",
       "</div>"
      ],
      "text/plain": [
       "                    missed\n",
       "critic_score  8460 (51.5%)\n",
       "user_score    8981 (54.6%)"
      ]
     },
     "metadata": {},
     "output_type": "display_data"
    }
   ],
   "source": [
    "pagri_data_tools.check_missed_value_in_df(df)"
   ]
  },
  {
   "cell_type": "markdown",
   "metadata": {},
   "source": [
    "Пропуски в остальных колонках удалять или заменять нельзя, так как их слишком много, и мы исказим данные.  "
   ]
  },
  {
   "cell_type": "markdown",
   "metadata": {},
   "source": [
    "### Обработка дубликатов"
   ]
  },
  {
   "cell_type": "markdown",
   "metadata": {},
   "source": [
    "Объеденим задублированные строки для игры Madden NFL 13"
   ]
  },
  {
   "cell_type": "code",
   "execution_count": null,
   "metadata": {},
   "outputs": [
    {
     "data": {
      "text/plain": [
       "16443"
      ]
     },
     "execution_count": 252,
     "metadata": {},
     "output_type": "execute_result"
    }
   ],
   "source": [
    "df.shape[0]"
   ]
  },
  {
   "cell_type": "code",
   "execution_count": null,
   "metadata": {},
   "outputs": [
    {
     "data": {
      "text/html": [
       "<div>\n",
       "<style scoped>\n",
       "    .dataframe tbody tr th:only-of-type {\n",
       "        vertical-align: middle;\n",
       "    }\n",
       "\n",
       "    .dataframe tbody tr th {\n",
       "        vertical-align: top;\n",
       "    }\n",
       "\n",
       "    .dataframe thead th {\n",
       "        text-align: right;\n",
       "    }\n",
       "</style>\n",
       "<table border=\"1\" class=\"dataframe\">\n",
       "  <thead>\n",
       "    <tr style=\"text-align: right;\">\n",
       "      <th></th>\n",
       "      <th>name</th>\n",
       "      <th>platform</th>\n",
       "      <th>year_of_release</th>\n",
       "      <th>genre</th>\n",
       "      <th>na_sales</th>\n",
       "      <th>eu_sales</th>\n",
       "      <th>jp_sales</th>\n",
       "      <th>other_sales</th>\n",
       "      <th>critic_score</th>\n",
       "      <th>user_score</th>\n",
       "      <th>rating</th>\n",
       "    </tr>\n",
       "  </thead>\n",
       "  <tbody>\n",
       "    <tr>\n",
       "      <th>604</th>\n",
       "      <td>Madden NFL 13</td>\n",
       "      <td>PS3</td>\n",
       "      <td>2,012.00</td>\n",
       "      <td>Sports</td>\n",
       "      <td>2.11</td>\n",
       "      <td>0.22</td>\n",
       "      <td>0.00</td>\n",
       "      <td>0.23</td>\n",
       "      <td>83.00</td>\n",
       "      <td>5.50</td>\n",
       "      <td>E</td>\n",
       "    </tr>\n",
       "    <tr>\n",
       "      <th>16230</th>\n",
       "      <td>Madden NFL 13</td>\n",
       "      <td>PS3</td>\n",
       "      <td>2,012.00</td>\n",
       "      <td>Sports</td>\n",
       "      <td>0.00</td>\n",
       "      <td>0.01</td>\n",
       "      <td>0.00</td>\n",
       "      <td>0.00</td>\n",
       "      <td>83.00</td>\n",
       "      <td>5.50</td>\n",
       "      <td>E</td>\n",
       "    </tr>\n",
       "    <tr>\n",
       "      <th>5972</th>\n",
       "      <td>Need for Speed: Most Wanted</td>\n",
       "      <td>PC</td>\n",
       "      <td>2,005.00</td>\n",
       "      <td>Racing</td>\n",
       "      <td>0.02</td>\n",
       "      <td>0.23</td>\n",
       "      <td>0.00</td>\n",
       "      <td>0.04</td>\n",
       "      <td>82.00</td>\n",
       "      <td>8.50</td>\n",
       "      <td>T</td>\n",
       "    </tr>\n",
       "    <tr>\n",
       "      <th>11715</th>\n",
       "      <td>Need for Speed: Most Wanted</td>\n",
       "      <td>PC</td>\n",
       "      <td>2,012.00</td>\n",
       "      <td>Racing</td>\n",
       "      <td>0.00</td>\n",
       "      <td>0.06</td>\n",
       "      <td>0.00</td>\n",
       "      <td>0.02</td>\n",
       "      <td>82.00</td>\n",
       "      <td>8.50</td>\n",
       "      <td>T</td>\n",
       "    </tr>\n",
       "    <tr>\n",
       "      <th>1190</th>\n",
       "      <td>Need for Speed: Most Wanted</td>\n",
       "      <td>X360</td>\n",
       "      <td>2,012.00</td>\n",
       "      <td>Racing</td>\n",
       "      <td>0.62</td>\n",
       "      <td>0.78</td>\n",
       "      <td>0.01</td>\n",
       "      <td>0.15</td>\n",
       "      <td>83.00</td>\n",
       "      <td>8.50</td>\n",
       "      <td>T</td>\n",
       "    </tr>\n",
       "    <tr>\n",
       "      <th>1591</th>\n",
       "      <td>Need for Speed: Most Wanted</td>\n",
       "      <td>X360</td>\n",
       "      <td>2,005.00</td>\n",
       "      <td>Racing</td>\n",
       "      <td>1.00</td>\n",
       "      <td>0.13</td>\n",
       "      <td>0.02</td>\n",
       "      <td>0.10</td>\n",
       "      <td>83.00</td>\n",
       "      <td>8.50</td>\n",
       "      <td>T</td>\n",
       "    </tr>\n",
       "  </tbody>\n",
       "</table>\n",
       "</div>"
      ],
      "text/plain": [
       "                              name platform  year_of_release   genre  \\\n",
       "604                  Madden NFL 13      PS3         2,012.00  Sports   \n",
       "16230                Madden NFL 13      PS3         2,012.00  Sports   \n",
       "5972   Need for Speed: Most Wanted       PC         2,005.00  Racing   \n",
       "11715  Need for Speed: Most Wanted       PC         2,012.00  Racing   \n",
       "1190   Need for Speed: Most Wanted     X360         2,012.00  Racing   \n",
       "1591   Need for Speed: Most Wanted     X360         2,005.00  Racing   \n",
       "\n",
       "       na_sales  eu_sales  jp_sales  other_sales  critic_score  user_score  \\\n",
       "604        2.11      0.22      0.00         0.23         83.00        5.50   \n",
       "16230      0.00      0.01      0.00         0.00         83.00        5.50   \n",
       "5972       0.02      0.23      0.00         0.04         82.00        8.50   \n",
       "11715      0.00      0.06      0.00         0.02         82.00        8.50   \n",
       "1190       0.62      0.78      0.01         0.15         83.00        8.50   \n",
       "1591       1.00      0.13      0.02         0.10         83.00        8.50   \n",
       "\n",
       "      rating  \n",
       "604        E  \n",
       "16230      E  \n",
       "5972       T  \n",
       "11715      T  \n",
       "1190       T  \n",
       "1591       T  "
      ]
     },
     "execution_count": 253,
     "metadata": {},
     "output_type": "execute_result"
    }
   ],
   "source": [
    "df[df[['name', 'platform', 'genre']].duplicated(keep=False)].sort_values(by=['name', 'platform', 'genre'])"
   ]
  },
  {
   "cell_type": "code",
   "execution_count": null,
   "metadata": {},
   "outputs": [],
   "source": [
    "indices_to_combine = [604, 16230]\n",
    "\n",
    "# Группируем строки по индексам и объединяем значения\n",
    "combined_row = df.loc[indices_to_combine].groupby(['name', 'platform', 'genre'], as_index=False).agg({\n",
    "    'na_sales': 'sum',\n",
    "    'eu_sales': 'sum',\n",
    "    'other_sales': 'sum',\n",
    "    'jp_sales': 'sum',\n",
    "    'critic_score': 'first',\n",
    "    'user_score': 'first',\n",
    "    'rating': 'first',\n",
    "    'year_of_release': 'first'\n",
    "})\n",
    "\n",
    "# Обновляем DataFrame, удаляя объединенные строки и добавляя новую\n",
    "df = pd.concat([df.drop(indices_to_combine), combined_row], ignore_index=True)"
   ]
  },
  {
   "cell_type": "code",
   "execution_count": null,
   "metadata": {},
   "outputs": [
    {
     "data": {
      "text/plain": [
       "16442"
      ]
     },
     "execution_count": 255,
     "metadata": {},
     "output_type": "execute_result"
    }
   ],
   "source": [
    "df.shape[0]"
   ]
  },
  {
   "cell_type": "code",
   "execution_count": 257,
   "metadata": {},
   "outputs": [
    {
     "data": {
      "text/html": [
       "<div>\n",
       "<style scoped>\n",
       "    .dataframe tbody tr th:only-of-type {\n",
       "        vertical-align: middle;\n",
       "    }\n",
       "\n",
       "    .dataframe tbody tr th {\n",
       "        vertical-align: top;\n",
       "    }\n",
       "\n",
       "    .dataframe thead th {\n",
       "        text-align: right;\n",
       "    }\n",
       "</style>\n",
       "<table border=\"1\" class=\"dataframe\">\n",
       "  <thead>\n",
       "    <tr style=\"text-align: right;\">\n",
       "      <th></th>\n",
       "      <th>name</th>\n",
       "      <th>platform</th>\n",
       "      <th>year_of_release</th>\n",
       "      <th>genre</th>\n",
       "      <th>na_sales</th>\n",
       "      <th>eu_sales</th>\n",
       "      <th>jp_sales</th>\n",
       "      <th>other_sales</th>\n",
       "      <th>critic_score</th>\n",
       "      <th>user_score</th>\n",
       "      <th>rating</th>\n",
       "    </tr>\n",
       "  </thead>\n",
       "  <tbody>\n",
       "    <tr>\n",
       "      <th>16441</th>\n",
       "      <td>Madden NFL 13</td>\n",
       "      <td>PS3</td>\n",
       "      <td>2,012.00</td>\n",
       "      <td>Sports</td>\n",
       "      <td>2.11</td>\n",
       "      <td>0.23</td>\n",
       "      <td>0.00</td>\n",
       "      <td>0.23</td>\n",
       "      <td>83.00</td>\n",
       "      <td>5.50</td>\n",
       "      <td>E</td>\n",
       "    </tr>\n",
       "  </tbody>\n",
       "</table>\n",
       "</div>"
      ],
      "text/plain": [
       "                name platform  year_of_release   genre  na_sales  eu_sales  \\\n",
       "16441  Madden NFL 13      PS3         2,012.00  Sports      2.11      0.23   \n",
       "\n",
       "       jp_sales  other_sales  critic_score  user_score rating  \n",
       "16441      0.00         0.23         83.00        5.50      E  "
      ]
     },
     "execution_count": 257,
     "metadata": {},
     "output_type": "execute_result"
    }
   ],
   "source": [
    "df.tail(1)"
   ]
  },
  {
   "cell_type": "markdown",
   "metadata": {},
   "source": [
    "Строки правильно объеденились."
   ]
  },
  {
   "cell_type": "markdown",
   "metadata": {},
   "source": [
    "### Приведение данных к удобной форме\n"
   ]
  },
  {
   "cell_type": "markdown",
   "metadata": {},
   "source": [
    "Заменим кодировку рейтинга на более понятную и объеденим похожие категории, так как группы с малым количеством игр статистически незначимы."
   ]
  },
  {
   "cell_type": "code",
   "execution_count": 599,
   "metadata": {},
   "outputs": [
    {
     "data": {
      "text/plain": [
       "rating\n",
       "не указано    6676\n",
       "E             3920\n",
       "T             2905\n",
       "M             1536\n",
       "E10+          1393\n",
       "EC               8\n",
       "K-A              3\n",
       "AO               1\n",
       "RP               1\n",
       "Name: count, dtype: int64"
      ]
     },
     "execution_count": 599,
     "metadata": {},
     "output_type": "execute_result"
    }
   ],
   "source": [
    "df.rating.value_counts(dropna=False)"
   ]
  },
  {
   "cell_type": "code",
   "execution_count": 602,
   "metadata": {},
   "outputs": [
    {
     "data": {
      "text/plain": [
       "rating\n",
       "не указано             6677\n",
       "для всех               3923\n",
       "подростковый           2905\n",
       "взрослый               1537\n",
       "для всех от 10 лет     1393\n",
       "раннее детство            8\n",
       "Name: count, dtype: int64"
      ]
     },
     "execution_count": 602,
     "metadata": {},
     "output_type": "execute_result"
    }
   ],
   "source": [
    "df.rating.astype(str).map({'E': 'для всех', 'T': 'подростковый', 'M': 'взрослый', 'E10+': 'для всех от 10 лет '\n",
    "                           , 'EC': 'раннее детство', 'K-A': 'для всех', 'AO': 'взрослый'\n",
    "                           , 'RP': 'не указано', 'не указано': 'не указано'}).astype('category').value_counts(dropna=False)"
   ]
  },
  {
   "cell_type": "code",
   "execution_count": 267,
   "metadata": {},
   "outputs": [
    {
     "data": {
      "text/plain": [
       "CategoricalDtype(categories=['AO', 'E', 'E10+', 'EC', 'K-A', 'M', 'RP', 'T'], ordered=False, categories_dtype=object)"
      ]
     },
     "execution_count": 267,
     "metadata": {},
     "output_type": "execute_result"
    }
   ],
   "source": [
    "df.Rating.dtype"
   ]
  },
  {
   "cell_type": "code",
   "execution_count": null,
   "metadata": {},
   "outputs": [],
   "source": [
    "df.is_apartment = df.is_apartment.astype(str).map({'True': 'да', 'False': 'нет'}).astype('category')"
   ]
  },
  {
   "cell_type": "code",
   "execution_count": null,
   "metadata": {},
   "outputs": [],
   "source": [
    "    Рейтинг в ожидании (RP)\n",
    "    Все (E)\n",
    "    Все 10+ (E10+)\n",
    "    Подросток (Т)\n",
    "    Зрелые 17+ (М)\n",
    "    Только для взрослых 18+ (АО)\n",
    "    Дети научилсиь говорить (K-A)"
   ]
  },
  {
   "cell_type": "code",
   "execution_count": null,
   "metadata": {},
   "outputs": [],
   "source": [
    "    Для детей (K-A)– для тех, кто уже научился говорить и держать джойстик, эти игры уже могут вызывать интерес (позже в 1998 году был переименован в Е – для всех возрастов, а также чуть позже был добавлен рейтинг Е10+, как промежуточный между Е и Т)"
   ]
  },
  {
   "cell_type": "code",
   "execution_count": null,
   "metadata": {},
   "outputs": [],
   "source": [
    "df.is_apartment = df.is_apartment.astype(str).map({'True': 'да', 'False': 'нет'}).astype('category')"
   ]
  },
  {
   "cell_type": "markdown",
   "metadata": {},
   "source": [
    "ВАЖНО   \n",
    "смотрим все переменные во всех датафрейма и приводим одинаковые метрики к одной размерности.  \n",
    "И размерность делаем удобной для дальнейшего анализа.  \n",
    "На пример, если у нас мегабайты и их больше 1000, то нужно сделать гигабайты (и важно в названии поля добавить _gb)  \n",
    "Аналогично для всех метрик, суть в том, что если значение в поле больше 1000 и мы можем записать его в другом измерении, то делаем это.    \n",
    "То же самое с секундами, минутами, часами и так далее.  \n",
    "Думаем какая точность нам нужна и меняем размерность.  "
   ]
  },
  {
   "cell_type": "markdown",
   "metadata": {},
   "source": [
    "> Если у нас в столбце, например, стаж данные в днях, то это нужно преобразовать в года.  \n",
    "> Также если у нас в других столбцах данные в формате, который нужно изменить для лучшего анализа, то делаем это.\n"
   ]
  },
  {
   "cell_type": "markdown",
   "metadata": {},
   "source": [
    "> Округлим значения в поле дохода до целого.  \n",
    "> Целая часть выглядит реальной. А с дробной частью нужно разбираться почему стоько знаков.\n"
   ]
  },
  {
   "cell_type": "code",
   "execution_count": null,
   "metadata": {},
   "outputs": [
    {
     "data": {
      "text/html": [
       "<div>\n",
       "<style scoped>\n",
       "    .dataframe tbody tr th:only-of-type {\n",
       "        vertical-align: middle;\n",
       "    }\n",
       "\n",
       "    .dataframe tbody tr th {\n",
       "        vertical-align: top;\n",
       "    }\n",
       "\n",
       "    .dataframe thead th {\n",
       "        text-align: right;\n",
       "    }\n",
       "</style>\n",
       "<table border=\"1\" class=\"dataframe\">\n",
       "  <thead>\n",
       "    <tr style=\"text-align: right;\">\n",
       "      <th></th>\n",
       "      <th>children</th>\n",
       "      <th>age</th>\n",
       "      <th>education</th>\n",
       "      <th>family_status</th>\n",
       "      <th>gender</th>\n",
       "      <th>income_type</th>\n",
       "      <th>debt</th>\n",
       "      <th>total_income</th>\n",
       "      <th>purpose</th>\n",
       "    </tr>\n",
       "  </thead>\n",
       "  <tbody>\n",
       "    <tr>\n",
       "      <th>0</th>\n",
       "      <td>1</td>\n",
       "      <td>42</td>\n",
       "      <td>высшее</td>\n",
       "      <td>женат / замужем</td>\n",
       "      <td>F</td>\n",
       "      <td>сотрудник</td>\n",
       "      <td>0</td>\n",
       "      <td>253876</td>\n",
       "      <td>покупка жилья</td>\n",
       "    </tr>\n",
       "  </tbody>\n",
       "</table>\n",
       "</div>"
      ],
      "text/plain": [
       "   children  age education    family_status gender income_type debt  \\\n",
       "0         1   42    высшее  женат / замужем      F   сотрудник    0   \n",
       "\n",
       "   total_income        purpose  \n",
       "0        253876  покупка жилья  "
      ]
     },
     "metadata": {},
     "output_type": "display_data"
    }
   ],
   "source": [
    "df.total_income = df.total_income.round().astype('int32')\n",
    "df.head(1)"
   ]
  },
  {
   "cell_type": "markdown",
   "metadata": {},
   "source": [
    "> Посмотрим сколько у нас людей с полом XNA осталось\n"
   ]
  },
  {
   "cell_type": "code",
   "execution_count": null,
   "metadata": {},
   "outputs": [
    {
     "data": {
      "text/plain": [
       "1"
      ]
     },
     "metadata": {},
     "output_type": "display_data"
    }
   ],
   "source": [
    "(df.gender == 'XNA').sum()"
   ]
  },
  {
   "cell_type": "markdown",
   "metadata": {},
   "source": [
    "> Посмотрим кто это\n"
   ]
  },
  {
   "cell_type": "code",
   "execution_count": null,
   "metadata": {},
   "outputs": [
    {
     "data": {
      "text/html": [
       "<div>\n",
       "<style scoped>\n",
       "    .dataframe tbody tr th:only-of-type {\n",
       "        vertical-align: middle;\n",
       "    }\n",
       "\n",
       "    .dataframe tbody tr th {\n",
       "        vertical-align: top;\n",
       "    }\n",
       "\n",
       "    .dataframe thead th {\n",
       "        text-align: right;\n",
       "    }\n",
       "</style>\n",
       "<table border=\"1\" class=\"dataframe\">\n",
       "  <thead>\n",
       "    <tr style=\"text-align: right;\">\n",
       "      <th></th>\n",
       "      <th>children</th>\n",
       "      <th>age</th>\n",
       "      <th>education</th>\n",
       "      <th>family_status</th>\n",
       "      <th>gender</th>\n",
       "      <th>income_type</th>\n",
       "      <th>debt</th>\n",
       "      <th>total_income</th>\n",
       "      <th>purpose</th>\n",
       "    </tr>\n",
       "  </thead>\n",
       "  <tbody>\n",
       "    <tr>\n",
       "      <th>10701</th>\n",
       "      <td>0</td>\n",
       "      <td>24</td>\n",
       "      <td>неоконченное высшее</td>\n",
       "      <td>гражданский брак</td>\n",
       "      <td>XNA</td>\n",
       "      <td>компаньон</td>\n",
       "      <td>0</td>\n",
       "      <td>203905</td>\n",
       "      <td>покупка недвижимости</td>\n",
       "    </tr>\n",
       "  </tbody>\n",
       "</table>\n",
       "</div>"
      ],
      "text/plain": [
       "       children  age            education     family_status gender  \\\n",
       "10701         0   24  неоконченное высшее  гражданский брак    XNA   \n",
       "\n",
       "      income_type debt  total_income               purpose  \n",
       "10701   компаньон    0        203905  покупка недвижимости  "
      ]
     },
     "metadata": {},
     "output_type": "display_data"
    }
   ],
   "source": [
    "df[df.gender == 'XNA']"
   ]
  },
  {
   "cell_type": "markdown",
   "metadata": {},
   "source": [
    "> Всего 1 человек. И мы не можем идентифицировать его пол.  \n",
    "> Удалим, чтобы не мешало анализировать графики.\n"
   ]
  },
  {
   "cell_type": "code",
   "execution_count": null,
   "metadata": {},
   "outputs": [
    {
     "data": {
      "text/plain": [
       "21402"
      ]
     },
     "metadata": {},
     "output_type": "display_data"
    }
   ],
   "source": [
    "df.shape[0]"
   ]
  },
  {
   "cell_type": "code",
   "execution_count": null,
   "metadata": {},
   "outputs": [
    {
     "data": {
      "text/plain": [
       "21401"
      ]
     },
     "metadata": {},
     "output_type": "display_data"
    }
   ],
   "source": [
    "df.drop(df[df.gender == 'XNA'].index, inplace=True)\n",
    "df['gender'] = df['gender'].cat.remove_unused_categories()\n",
    "df.value_counts(dropna=False)"
   ]
  },
  {
   "cell_type": "code",
   "execution_count": null,
   "metadata": {},
   "outputs": [],
   "source": [
    "df.shape[0]"
   ]
  },
  {
   "cell_type": "markdown",
   "metadata": {},
   "source": [
    "### Промежуточный вывод\n"
   ]
  },
  {
   "cell_type": "markdown",
   "metadata": {},
   "source": [
    "Чтобы собрать все наблюдения используем это  \n",
    "нужно поставить `_start_` где начало и `_end_` где конец"
   ]
  },
  {
   "cell_type": "markdown",
   "metadata": {},
   "source": [
    "Не забываем удалить метки `_start_` и `_end_` "
   ]
  },
  {
   "cell_type": "code",
   "execution_count": null,
   "metadata": {},
   "outputs": [],
   "source": [
    "import IPython\n",
    "notebook_path = \"/\".join(\n",
    "        IPython.extract_module_locals()[1][\"__vsc_ipynb_file__\"].split(\"/\"))\n",
    "pagri_data_tools.collect_observations(notebook_path, '/home/pagri/git_repos/pagri-projects/quarto/projects/prospective_tariff_for_telecom/temp_for_report.ipynb')"
   ]
  },
  {
   "cell_type": "markdown",
   "metadata": {},
   "source": [
    "> пишем как обработали данные, например\n"
   ]
  },
  {
   "cell_type": "markdown",
   "metadata": {},
   "source": [
    "- Удалили колонки с id образования и семейного статуса, так как нам для графиков лучше подойдут названия, а не id.\n",
    "- Колонка со стажем имеет совершенно некорректные данные. Чтобы не внести искажение в анализ, удалим эту колонку.\n",
    "- Удалили отрицательные значения в колонке с количеством детей, которые составляли 0,2% от общего количества записей в данных.\n"
   ]
  },
  {
   "cell_type": "markdown",
   "metadata": {},
   "source": [
    "## Обогащение данных и создание новых переменных"
   ]
  },
  {
   "cell_type": "markdown",
   "metadata": {},
   "source": [
    "### Парсинг внешних источников"
   ]
  },
  {
   "cell_type": "markdown",
   "metadata": {},
   "source": [
    "описываем процесс парсинга  \n",
    "описываем источники и переменные"
   ]
  },
  {
   "cell_type": "markdown",
   "metadata": {},
   "source": [
    "### Создание новых числовых переменных"
   ]
  },
  {
   "cell_type": "markdown",
   "metadata": {},
   "source": [
    "Сначала пишем все имеющиеся колонки ИИ и просим написать какие новые числовые переменные можно создать.  \n",
    "Если таблиц много, то идем по одной таблице, закончили с одной идем к следующей.  \n",
    "Далее в конце можно спросить какие новые числовые можно создать, учитывая все таблицы."
   ]
  },
  {
   "cell_type": "markdown",
   "metadata": {},
   "source": [
    "Сразу пишем в файл какие новые переменные создали для промежуточного вывода.  "
   ]
  },
  {
   "cell_type": "markdown",
   "metadata": {},
   "source": [
    "Новые числовые переменные часто это коэффициенты.  \n",
    "Нужно подумать из каких имеющихся числовых переменных можно создать коэффициенты.  \n",
    "То есть это отношение одной переменной числовой к другой. Вот нужно подумать какие такие отношения нам могут помочь в анализе.  "
   ]
  },
  {
   "cell_type": "markdown",
   "metadata": {},
   "source": [
    "Также новые переменные могут быть, например, расчеты, основанные на других переменных, такие как разница, процентное изменение и т.д."
   ]
  },
  {
   "cell_type": "markdown",
   "metadata": {},
   "source": [
    "Числовые переменные создаем не только для дальнейшего их анализа.  \n",
    "Создание числовой переменной может помочь создать новую категориальную переменную.  "
   ]
  },
  {
   "cell_type": "markdown",
   "metadata": {},
   "source": [
    "Например есть у нас расстояние до центра в метрах.  \n",
    "Мы создаем новую числовую переменную расстояние в км.  \n",
    "Далее строим график зависимости расстояния и цены.  \n",
    "И определеяем где цена резко меняется и получаем границу для создания новой категориальной переменной, в которой будет центр и остальное.  "
   ]
  },
  {
   "cell_type": "markdown",
   "metadata": {},
   "source": [
    "Создадим переменную соотношение жилой и общей площади"
   ]
  },
  {
   "cell_type": "code",
   "execution_count": null,
   "metadata": {},
   "outputs": [],
   "source": [
    "df['living_total_ratio'] = round(df['living_area'] / df['total_area'],2)"
   ]
  },
  {
   "cell_type": "code",
   "execution_count": null,
   "metadata": {},
   "outputs": [
    {
     "data": {
      "text/html": [
       "\n",
       "        <div style=\"display: flex; justify-content: flex-start; align-items: flex-end;\">\n",
       "            <style type=\"text/css\">\n",
       "#T_a9dbc caption {\n",
       "  font-size: 16px;\n",
       "  text-align: left;\n",
       "  font-weight: bold;\n",
       "}\n",
       "#T_a9dbc_row0_col0, #T_a9dbc_row0_col1, #T_a9dbc_row0_col2, #T_a9dbc_row0_col3, #T_a9dbc_row0_col4, #T_a9dbc_row0_col5, #T_a9dbc_row0_col6, #T_a9dbc_row0_col7, #T_a9dbc_row0_col8, #T_a9dbc_row0_col9, #T_a9dbc_row1_col0, #T_a9dbc_row1_col1, #T_a9dbc_row1_col2, #T_a9dbc_row1_col3, #T_a9dbc_row1_col4, #T_a9dbc_row1_col5, #T_a9dbc_row1_col6, #T_a9dbc_row1_col7, #T_a9dbc_row1_col8, #T_a9dbc_row1_col9, #T_a9dbc_row2_col0, #T_a9dbc_row2_col1, #T_a9dbc_row2_col2, #T_a9dbc_row2_col3, #T_a9dbc_row2_col4, #T_a9dbc_row2_col5, #T_a9dbc_row2_col6, #T_a9dbc_row2_col7, #T_a9dbc_row2_col8, #T_a9dbc_row2_col9, #T_a9dbc_row3_col0, #T_a9dbc_row3_col1, #T_a9dbc_row3_col2, #T_a9dbc_row3_col3, #T_a9dbc_row3_col4, #T_a9dbc_row3_col5, #T_a9dbc_row3_col6, #T_a9dbc_row3_col7, #T_a9dbc_row3_col8, #T_a9dbc_row3_col9, #T_a9dbc_row4_col0, #T_a9dbc_row4_col1, #T_a9dbc_row4_col2, #T_a9dbc_row4_col3, #T_a9dbc_row4_col4, #T_a9dbc_row4_col5, #T_a9dbc_row4_col6, #T_a9dbc_row4_col7, #T_a9dbc_row4_col8, #T_a9dbc_row4_col9, #T_a9dbc_row5_col0, #T_a9dbc_row5_col1, #T_a9dbc_row5_col2, #T_a9dbc_row5_col3, #T_a9dbc_row5_col4, #T_a9dbc_row5_col5, #T_a9dbc_row5_col6, #T_a9dbc_row5_col7, #T_a9dbc_row5_col8, #T_a9dbc_row5_col9, #T_a9dbc_row6_col0, #T_a9dbc_row6_col1, #T_a9dbc_row6_col2, #T_a9dbc_row6_col3, #T_a9dbc_row6_col4, #T_a9dbc_row6_col5, #T_a9dbc_row6_col6, #T_a9dbc_row6_col7, #T_a9dbc_row6_col8, #T_a9dbc_row6_col9 {\n",
       "  text-align: left;\n",
       "}\n",
       "</style>\n",
       "<table id=\"T_a9dbc\">\n",
       "  <caption>living_total_ratio</caption>\n",
       "  <thead>\n",
       "  </thead>\n",
       "  <tbody>\n",
       "    <tr>\n",
       "      <td id=\"T_a9dbc_row0_col0\" class=\"data row0 col0\" >Values</td>\n",
       "      <td id=\"T_a9dbc_row0_col1\" class=\"data row0 col1\" >21 796 (92%)</td>\n",
       "      <td id=\"T_a9dbc_row0_col2\" class=\"data row0 col2\" >                              </td>\n",
       "      <td id=\"T_a9dbc_row0_col3\" class=\"data row0 col3\" >Max</td>\n",
       "      <td id=\"T_a9dbc_row0_col4\" class=\"data row0 col4\" >1</td>\n",
       "      <td id=\"T_a9dbc_row0_col5\" class=\"data row0 col5\" >                              </td>\n",
       "      <td id=\"T_a9dbc_row0_col6\" class=\"data row0 col6\" >Avg</td>\n",
       "      <td id=\"T_a9dbc_row0_col7\" class=\"data row0 col7\" >0.56</td>\n",
       "      <td id=\"T_a9dbc_row0_col8\" class=\"data row0 col8\" >                              </td>\n",
       "      <td id=\"T_a9dbc_row0_col9\" class=\"data row0 col9\" >0.56 (4%)</td>\n",
       "    </tr>\n",
       "    <tr>\n",
       "      <td id=\"T_a9dbc_row1_col0\" class=\"data row1 col0\" >Missing</td>\n",
       "      <td id=\"T_a9dbc_row1_col1\" class=\"data row1 col1\" >1 903 (8%)</td>\n",
       "      <td id=\"T_a9dbc_row1_col2\" class=\"data row1 col2\" >                              </td>\n",
       "      <td id=\"T_a9dbc_row1_col3\" class=\"data row1 col3\" >95%</td>\n",
       "      <td id=\"T_a9dbc_row1_col4\" class=\"data row1 col4\" >0.73</td>\n",
       "      <td id=\"T_a9dbc_row1_col5\" class=\"data row1 col5\" >                              </td>\n",
       "      <td id=\"T_a9dbc_row1_col6\" class=\"data row1 col6\" >Mode</td>\n",
       "      <td id=\"T_a9dbc_row1_col7\" class=\"data row1 col7\" >0.56</td>\n",
       "      <td id=\"T_a9dbc_row1_col8\" class=\"data row1 col8\" >                              </td>\n",
       "      <td id=\"T_a9dbc_row1_col9\" class=\"data row1 col9\" >0.55 (4%)</td>\n",
       "    </tr>\n",
       "    <tr>\n",
       "      <td id=\"T_a9dbc_row2_col0\" class=\"data row2 col0\" >Distinct</td>\n",
       "      <td id=\"T_a9dbc_row2_col1\" class=\"data row2 col1\" >91 (<1%)</td>\n",
       "      <td id=\"T_a9dbc_row2_col2\" class=\"data row2 col2\" >                              </td>\n",
       "      <td id=\"T_a9dbc_row2_col3\" class=\"data row2 col3\" >75%</td>\n",
       "      <td id=\"T_a9dbc_row2_col4\" class=\"data row2 col4\" >0.64</td>\n",
       "      <td id=\"T_a9dbc_row2_col5\" class=\"data row2 col5\" >                              </td>\n",
       "      <td id=\"T_a9dbc_row2_col6\" class=\"data row2 col6\" >Range</td>\n",
       "      <td id=\"T_a9dbc_row2_col7\" class=\"data row2 col7\" >0.98</td>\n",
       "      <td id=\"T_a9dbc_row2_col8\" class=\"data row2 col8\" >                              </td>\n",
       "      <td id=\"T_a9dbc_row2_col9\" class=\"data row2 col9\" >0.6 (4%)</td>\n",
       "    </tr>\n",
       "    <tr>\n",
       "      <td id=\"T_a9dbc_row3_col0\" class=\"data row3 col0\" >Duplicates</td>\n",
       "      <td id=\"T_a9dbc_row3_col1\" class=\"data row3 col1\" >23 607 (99.6%)</td>\n",
       "      <td id=\"T_a9dbc_row3_col2\" class=\"data row3 col2\" >                              </td>\n",
       "      <td id=\"T_a9dbc_row3_col3\" class=\"data row3 col3\" >Median</td>\n",
       "      <td id=\"T_a9dbc_row3_col4\" class=\"data row3 col4\" >0.57</td>\n",
       "      <td id=\"T_a9dbc_row3_col5\" class=\"data row3 col5\" >                              </td>\n",
       "      <td id=\"T_a9dbc_row3_col6\" class=\"data row3 col6\" >iQR</td>\n",
       "      <td id=\"T_a9dbc_row3_col7\" class=\"data row3 col7\" >0.14</td>\n",
       "      <td id=\"T_a9dbc_row3_col8\" class=\"data row3 col8\" >                              </td>\n",
       "      <td id=\"T_a9dbc_row3_col9\" class=\"data row3 col9\" >0.62 (4%)</td>\n",
       "    </tr>\n",
       "    <tr>\n",
       "      <td id=\"T_a9dbc_row4_col0\" class=\"data row4 col0\" >Zeros</td>\n",
       "      <td id=\"T_a9dbc_row4_col1\" class=\"data row4 col1\" >---</td>\n",
       "      <td id=\"T_a9dbc_row4_col2\" class=\"data row4 col2\" >                              </td>\n",
       "      <td id=\"T_a9dbc_row4_col3\" class=\"data row4 col3\" >25%</td>\n",
       "      <td id=\"T_a9dbc_row4_col4\" class=\"data row4 col4\" >0.5</td>\n",
       "      <td id=\"T_a9dbc_row4_col5\" class=\"data row4 col5\" >                              </td>\n",
       "      <td id=\"T_a9dbc_row4_col6\" class=\"data row4 col6\" >std</td>\n",
       "      <td id=\"T_a9dbc_row4_col7\" class=\"data row4 col7\" >0.11</td>\n",
       "      <td id=\"T_a9dbc_row4_col8\" class=\"data row4 col8\" >                              </td>\n",
       "      <td id=\"T_a9dbc_row4_col9\" class=\"data row4 col9\" >0.58 (4%)</td>\n",
       "    </tr>\n",
       "    <tr>\n",
       "      <td id=\"T_a9dbc_row5_col0\" class=\"data row5 col0\" >Negative</td>\n",
       "      <td id=\"T_a9dbc_row5_col1\" class=\"data row5 col1\" >---</td>\n",
       "      <td id=\"T_a9dbc_row5_col2\" class=\"data row5 col2\" >                              </td>\n",
       "      <td id=\"T_a9dbc_row5_col3\" class=\"data row5 col3\" >5%</td>\n",
       "      <td id=\"T_a9dbc_row5_col4\" class=\"data row5 col4\" >0.39</td>\n",
       "      <td id=\"T_a9dbc_row5_col5\" class=\"data row5 col5\" >                              </td>\n",
       "      <td id=\"T_a9dbc_row5_col6\" class=\"data row5 col6\" >kurt</td>\n",
       "      <td id=\"T_a9dbc_row5_col7\" class=\"data row5 col7\" >0.23</td>\n",
       "      <td id=\"T_a9dbc_row5_col8\" class=\"data row5 col8\" >                              </td>\n",
       "      <td id=\"T_a9dbc_row5_col9\" class=\"data row5 col9\" >0.57 (4%)</td>\n",
       "    </tr>\n",
       "    <tr>\n",
       "      <td id=\"T_a9dbc_row6_col0\" class=\"data row6 col0\" >RAM (Mb)</td>\n",
       "      <td id=\"T_a9dbc_row6_col1\" class=\"data row6 col1\" ><1 Mb</td>\n",
       "      <td id=\"T_a9dbc_row6_col2\" class=\"data row6 col2\" >                              </td>\n",
       "      <td id=\"T_a9dbc_row6_col3\" class=\"data row6 col3\" >Min</td>\n",
       "      <td id=\"T_a9dbc_row6_col4\" class=\"data row6 col4\" >0.02</td>\n",
       "      <td id=\"T_a9dbc_row6_col5\" class=\"data row6 col5\" >                              </td>\n",
       "      <td id=\"T_a9dbc_row6_col6\" class=\"data row6 col6\" >skew</td>\n",
       "      <td id=\"T_a9dbc_row6_col7\" class=\"data row6 col7\" >-0.14</td>\n",
       "      <td id=\"T_a9dbc_row6_col8\" class=\"data row6 col8\" >                              </td>\n",
       "      <td id=\"T_a9dbc_row6_col9\" class=\"data row6 col9\" >0.59 (4%)</td>\n",
       "    </tr>\n",
       "  </tbody>\n",
       "</table>\n",
       "\n",
       "            <div>\n",
       "                <img src=\"data:image/png;base64,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\" alt=\"График\"/>\n",
       "            </div>\n",
       "        </div>\n",
       "        "
      ],
      "text/plain": [
       "<IPython.core.display.HTML object>"
      ]
     },
     "metadata": {},
     "output_type": "display_data"
    }
   ],
   "source": [
    "pagri_data_tools.info_column(df, 'living_total_ratio')"
   ]
  },
  {
   "cell_type": "code",
   "execution_count": null,
   "metadata": {},
   "outputs": [],
   "source": []
  },
  {
   "cell_type": "markdown",
   "metadata": {},
   "source": [
    "### Категоризация данных\n"
   ]
  },
  {
   "cell_type": "markdown",
   "metadata": {},
   "source": [
    "Сначала пишем все имеющиеся колонки ИИ и просим написать какие новые категориальный переменные можно создать.  \n",
    "Если таблиц много, то идем по одной таблице, закончили с одной идем к следующей.  \n",
    "Далее в конце можно спросить какие новые категориальные переменные можно создать, учитывая все таблицы."
   ]
  },
  {
   "cell_type": "markdown",
   "metadata": {},
   "source": [
    "ВАЖНО  \n",
    "следим, чтобы не осталось пропусков в категориальной переменной  \n",
    "все пропуски нужно заменить на что-то типа - не указано"
   ]
  },
  {
   "cell_type": "code",
   "execution_count": null,
   "metadata": {},
   "outputs": [],
   "source": [
    "df.columns.isna()sum()"
   ]
  },
  {
   "cell_type": "markdown",
   "metadata": {},
   "source": [
    "Если есть пропуски, то добавляем "
   ]
  },
  {
   "cell_type": "code",
   "execution_count": null,
   "metadata": {},
   "outputs": [],
   "source": [
    ".fillna(\"не указано\").astype('category')"
   ]
  },
  {
   "cell_type": "markdown",
   "metadata": {},
   "source": [
    "Если мы при загрузке данных не смогли изменить типы данных из-за пропусков, то теперь меняем типы данных. "
   ]
  },
  {
   "cell_type": "markdown",
   "metadata": {},
   "source": [
    "У нас могут быть категориальные переменные не только для изучения данных на графиках под другим углом,  \n",
    "но категориальные переменные можно использовать для изучения среза данных.  \n",
    "Таким образом думаем какие срезы в датафрейме дадут нам важную информацию. И создаем категориальную переменную для них.  \n",
    "Например, у нас в данных есть растояние до центра, мы можем создать новую категориальную переменную и поместить туда катгории растояния до центра.  \n",
    "И затем изучить отдельные срезы в данных, например квартиры только в центре.  "
   ]
  },
  {
   "cell_type": "markdown",
   "metadata": {},
   "source": [
    "Думаем какие категориальные переменные сделать для срезов.  "
   ]
  },
  {
   "cell_type": "markdown",
   "metadata": {},
   "source": [
    "Могут быть операции разность, сумма отношение с другими переменными, которые дадут новую переменную.  \n",
    "Смотрим на имеющиеся переменные и думаем какие из этих операций можно применить.  "
   ]
  },
  {
   "cell_type": "markdown",
   "metadata": {},
   "source": [
    "> Важно, когда создали новые переменные, особенно числовые, то нужно их изучить через my_info (взять df только с нужными столбцами)  \n",
    "Посмотреть на гистограммы и стат параметры.  "
   ]
  },
  {
   "cell_type": "markdown",
   "metadata": {},
   "source": [
    "> Если у нас есть категориальная переменная, в которйо больше 3 значений, то нужно подумать а не можем ли мы из нее сделать  \n",
    "> новую категориальную переменную с 2-3 значениями, но тут важно, чтобы это несло смысл. Тут нам может помочь ИИ. И сообразительнсоть. Часто сразу не заментны возможные категории, котоыре несут смысл.  \n",
    "> Тут исходим из смысла, наша задача созадть перменную, которая добавит нашему исследованию новый смысл, даст как бы новый разрез, и это улучшит  \n",
    "> качество наших выводов.  \n",
    "> Например, у нас столбец семейный стату, и там 6-7 статусов, мы можем собрать их в 2 семейный статус и не семейный статус.  \n",
    "> Тут отлично помогает ИИ. Пишешь ему название переменной, униальные значения в ней,  \n",
    "> и просишь придумать возможную новую категориальнуюд переменную из 2-3 значений.\n"
   ]
  },
  {
   "cell_type": "markdown",
   "metadata": {},
   "source": [
    "> Вообще при категоризации ИИ очень хорошо помогает, он может дать идеи возможных категорий на оснвое имеющихся значений.  \n",
    "> Поэтому можно все столбцы прогонять через ИИ и смотреть что он предлагает, если есть то , что даст новый разрез нашим данным, то созадем категорийю.\n"
   ]
  },
  {
   "cell_type": "markdown",
   "metadata": {},
   "source": [
    "> Важно, когда мы создаем категории, то всегда смотреть value_counts.  \n",
    "> И делаем так, чтобы в каждой группе было достаточно элементов, хотя бы больше 30, а лучше больше 100.  \n",
    "> Иначе выводы будут некоректные.  \n",
    "> В идеале, чтобы количество элементов в каждой группе было от 1000. Лучше изменить диапазон и забрать часть данных от другой категории.\n"
   ]
  },
  {
   "cell_type": "markdown",
   "metadata": {},
   "source": [
    "> Важно, когда создаем категориальную переменную, то даем ей тип `category`  \n",
    "> Чтобы она появилась на графиках (так как идет фильтрация на числовые и категориальные)  \n",
    "> и чтобы места меньше занимала\n"
   ]
  },
  {
   "cell_type": "markdown",
   "metadata": {},
   "source": [
    "> Придумываем какие колонки можно дополнительно сделать из имеющихся.  \n",
    "> Например у нас есть колонка длительность звонков, и 0 это пропущенный звонок,  \n",
    "> мы можем сделать колонку is_missed, в которой будет true или false\n"
   ]
  },
  {
   "cell_type": "markdown",
   "metadata": {},
   "source": [
    "> Стараемся сделать категориальную колонку с да нет для всех возможных колонок.  \n",
    "> Например, у нас колонка количество детей и есть 0, 1, 2, 3, 4, 5 мы созадем колнку  \n",
    "> есть дети или нет. 2 значения  \n",
    "> Это очень полезно, так как мы можем посмотреть это на графиках и проверить гипотезы  \n",
    "> стат тестами.\n"
   ]
  },
  {
   "cell_type": "markdown",
   "metadata": {},
   "source": [
    "> Смотрим на колонки и думаем можно ли из нее сделать колонку с 2 значениями,  \n",
    "> например есть и нет что-то\n"
   ]
  },
  {
   "cell_type": "markdown",
   "metadata": {},
   "source": [
    "> Очень важно, когда мы создаем новые колонки, в которых используем несколько дургих, то нужно проверить распределение этой новой переменной, особенно выбросы.  \n",
    "> Например, у нас начальная и конечная дата сессии и мы считаем длительность сессии. Вот тут нужно посмотреть какая минимальная длительность  \n",
    "> и какая максимальная. Ну и естественно проверить есть ли длительность 0 и меньше нуля.  \n",
    "> Таким образом мы можем найти инсайты уже после создания новых колонок, хотя в изначальных данных этих инсайдов не было видно.\n"
   ]
  },
  {
   "cell_type": "markdown",
   "metadata": {},
   "source": [
    "> Обычная категоризация данных\n"
   ]
  },
  {
   "cell_type": "markdown",
   "metadata": {},
   "source": [
    "> Категоризация помогает избежать проблемы с разреженными данными, когда у нас есть слишком много групп с небольшим количеством элементов.  \n",
    "> Это может привести к некорректным выводам и ошибкам в анализе.\n",
    "> Категоризация нужна, чтобы образовать группы, в которых достаточно значений для использования статистических методов.  \n",
    "> И вообще, если в группе 1-10 элементов, например у нас возраст пользователей и 5 человек с возрастом 22, 3 человека с возрастом 23 и так далее.  \n",
    "> Мы не можем разбивать по таким группам, так как их размер небльшой и выводы будут некорректные, поэтому нам нужно собрать их в группы,  \n",
    "> чтобы у нас были группы с достаточным размером.\n"
   ]
  },
  {
   "cell_type": "markdown",
   "metadata": {},
   "source": [
    "- Если у нас категориальная переменная имеет много значений, то мы не можем номрально с ней работать.\n",
    "  > Так как мы не можем построить графики по ним, так как их много и они не числовые. Не можем сравнить их все.  \n",
    "  > Поэтому нам нужно сократить категории.\n",
    "- Нужно посмотреть на данные и подумать можем ли мы разделить их по сегментам рынка или по другим категориям, которые нам помогут.\n",
    "- Мы можем категоризировать на основе и числовых и категориальных столбцов. То есть мы можем из категориальной переменной сделать\n",
    "  > другую категориальную, уменьшив или увеличив разбиение.\n",
    "- добавление категорий обогощает данные, при чем категории могут формироваться не из одной колонки, а из серии, то есть чтобы попасть\n",
    "  > в определенную категорию значения столбцов должно быть такое то, а не только один столбец определяет категорию.\n",
    "- категории могут быть да нет, то есть состоять из двух значений, например, у нас есть данные о рекламе и столбец где она показвалась,\n",
    "  > и у нас много много разных устройств. Мы можем разбить на да нет, то есть показвалась реклама по телеку или нет\n"
   ]
  },
  {
   "cell_type": "markdown",
   "metadata": {},
   "source": [
    "> Мы можем разбить данные на категории двумя способами\n",
    "\n",
    "- разбивать на равные части\n",
    "  > подходит, когда\n",
    "  >\n",
    "  > - диапазон значений является равномерным и имеет линейную структуру\n",
    "  > - мы понимаем на какие интервалы хотим разбить данные\n",
    "  > - мы хотим разделить диапазон значений на равные части для удобства анализа.\n",
    "- разбить на основе квантилей\n",
    "  > подходит, если\n",
    "  >\n",
    "  > - диапазон значений имеет неравномерную структуру\n",
    "  > - мы не можем понять какие интервалы выбрать\n",
    "  > - хотим выделить группы с конкретными характеристиками (например, группы с низким доходом, средним доходом и высоким доходом)\n"
   ]
  },
  {
   "cell_type": "markdown",
   "metadata": {},
   "source": [
    "> Выбираем нужные способ и используем  \n",
    "> `create_category_column`\n"
   ]
  },
  {
   "cell_type": "markdown",
   "metadata": {},
   "source": [
    "> Чтобы посмотреть распределение по квантилям используем `pagri_data_tools.quantiles_columns()`\n"
   ]
  },
  {
   "cell_type": "markdown",
   "metadata": {},
   "source": [
    "Не забываем новые каеториальные переменные делать `.astype('category')`"
   ]
  },
  {
   "cell_type": "code",
   "execution_count": null,
   "metadata": {},
   "outputs": [],
   "source": [
    ".astype('category')"
   ]
  },
  {
   "cell_type": "markdown",
   "metadata": {},
   "source": [
    "ВАЖНО  \n",
    "создали новую переменную, сразу же изучили ее использу `info_gen`  \n",
    "задаем вопросы и пишем важные наблюдения  "
   ]
  },
  {
   "cell_type": "code",
   "execution_count": null,
   "metadata": {},
   "outputs": [],
   "source": [
    "pagri_data_tools.info_column(df, 'price_segment')"
   ]
  },
  {
   "cell_type": "code",
   "execution_count": null,
   "metadata": {},
   "outputs": [],
   "source": [
    "df['floor_cat'] = df.apply(lambda x: 'первый' if x['floor'] == 1 else 'последний' if x['floor'] == x['floors_total'] else 'другой', axis=1).value_counts()"
   ]
  },
  {
   "cell_type": "code",
   "execution_count": null,
   "metadata": {},
   "outputs": [],
   "source": [
    "pagri_data_tools.quantiles_columns()"
   ]
  },
  {
   "cell_type": "code",
   "execution_count": null,
   "metadata": {},
   "outputs": [],
   "source": [
    "pagri_data_tools.create_category_column()"
   ]
  },
  {
   "cell_type": "markdown",
   "metadata": {},
   "source": [
    "> Сделаем следующие группы\n",
    "\n",
    "- до 30 лет\n",
    "- от 30 до 40 лет\n",
    "- от 40 до 50 лет\n",
    "- от 50 до 60 лет\n",
    "- старше 60 лет\n"
   ]
  },
  {
   "cell_type": "code",
   "execution_count": null,
   "metadata": {},
   "outputs": [],
   "source": [
    "labels = ['до 30', '30-40', '40-50', '50-60', 'старше 60']\n",
    "bins = [-np.inf, 30, 40, 50, 60, np.inf]"
   ]
  },
  {
   "cell_type": "code",
   "execution_count": null,
   "metadata": {},
   "outputs": [
    {
     "data": {
      "text/plain": [
       "30-40        5704\n",
       "40-50        5241\n",
       "50-60        4520\n",
       "до 30        3804\n",
       "старше 60    2132\n",
       "Name: age_cat, dtype: int64"
      ]
     },
     "metadata": {},
     "output_type": "display_data"
    }
   ],
   "source": [
    "df['age_cat'] = pagri_data_tools.create_category_column(df.age, labels=labels, bins=bins)\n",
    "df['age_cat'].value_counts(dropna=False)"
   ]
  },
  {
   "cell_type": "markdown",
   "metadata": {},
   "source": [
    "Создаем новые переменные из времени"
   ]
  },
  {
   "cell_type": "code",
   "execution_count": null,
   "metadata": {},
   "outputs": [],
   "source": [
    "gen = pagri_data_tools.info_gen(df_internet, column='mb_used_cat', mode='column')\n",
    "gen.next()"
   ]
  },
  {
   "cell_type": "code",
   "execution_count": null,
   "metadata": {},
   "outputs": [],
   "source": [
    "weekday_dict = {\n",
    "    'Monday': 'Понедельник',\n",
    "    'Tuesday': 'Вторник',\n",
    "    'Wednesday': 'Среда',\n",
    "    'Thursday': 'Четверг',\n",
    "    'Friday': 'Пятница',\n",
    "    'Saturday': 'Суббота',\n",
    "    'Sunday': 'Воскресенье'\n",
    "}\n",
    "month_dict = {\n",
    "    1: 'Январь',\n",
    "    2: 'Февраль',\n",
    "    3: 'Март',\n",
    "    4: 'Апрель',\n",
    "    5: 'Май',\n",
    "    6: 'Июнь',\n",
    "    7: 'Июль',\n",
    "    8: 'Август',\n",
    "    9: 'Сентябрь',\n",
    "    10: 'Октябрь',\n",
    "    11: 'Ноябрь',\n",
    "    12: 'Декабрь'\n",
    "}"
   ]
  },
  {
   "cell_type": "code",
   "execution_count": null,
   "metadata": {},
   "outputs": [],
   "source": [
    "df['publication_weekday'] = df['first_day_exposition'].dt.day_name().map(weekday_dict).astype('category')\n",
    "df['publication_month'] = df['first_day_exposition'].dt.month.map(month_dict).astype('category')\n",
    "df['publication_year'] = df['first_day_exposition'].dt.year.astype(str).astype('category')\n",
    "# Задаем порядок для weekdays\n",
    "weekday_order = ['Понедельник', 'Вторник', 'Среда', 'Четверг', 'Пятница', 'Суббота', 'Воскресенье']\n",
    "df['publication_weekday'] = df['publication_weekday'].cat.reorder_categories(weekday_order, ordered=True)\n",
    "\n",
    "# Задаем порядок для months\n",
    "month_order = ['Январь', 'Февраль', 'Март', 'Апрель', 'Май', 'Июнь', 'Июль', 'Август', 'Сентябрь', 'Октябрь', 'Ноябрь', 'Декабрь']\n",
    "df['publication_month'] = df['publication_month'].cat.reorder_categories(month_order, ordered=True)\n"
   ]
  },
  {
   "cell_type": "code",
   "execution_count": null,
   "metadata": {},
   "outputs": [],
   "source": [
    "df.columns.isna()sum()"
   ]
  },
  {
   "cell_type": "code",
   "execution_count": null,
   "metadata": {},
   "outputs": [],
   "source": [
    "gen = pagri_data_tools.info_gen(df_internet, column='mb_used_cat', mode='column')\n",
    "gen.next()"
   ]
  },
  {
   "cell_type": "markdown",
   "metadata": {},
   "source": [
    "Чтобы получить формат `янв'09`"
   ]
  },
  {
   "cell_type": "code",
   "execution_count": null,
   "metadata": {},
   "outputs": [],
   "source": [
    "# Словарь для замены месяцев\n",
    "months_translation = {\n",
    "    'Jan': 'Янв',\n",
    "    'Feb': 'Фев',\n",
    "    'Mar': 'Мар',\n",
    "    'Apr': 'Апр',\n",
    "    'May': 'Май',\n",
    "    'Jun': 'Июн',\n",
    "    'Jul': 'Июл',\n",
    "    'Aug': 'Авг',\n",
    "    'Sep': 'Сен',\n",
    "    'Oct': 'Окт',\n",
    "    'Nov': 'Ноя',\n",
    "    'Dec': 'Дек'\n",
    "}\n",
    "# Получаем отдельно месяц и год\n",
    "months = df['first_day_exposition'].dt.strftime('%b').astype('category').cat.reorder_categories(list(months_translation.keys()), ordered=True)\n",
    "years = df['first_day_exposition'].dt.strftime('%y')\n",
    "months_years = pd.concat([months, years], axis=1)\n",
    "months_years.columns = ['month', 'year']\n",
    "# Создаем список уникальных (год, месяц) и сортируем\n",
    "unique_months = months_years.drop_duplicates().sort_values(by=['year', 'month'])\n",
    "\n",
    "# Создаем список для порядка\n",
    "month_year_order = []\n",
    "\n",
    "# Формируем month_year_order на основе уникальных (год, месяц)\n",
    "for _, row in unique_months.iterrows():\n",
    "    year = row['year']\n",
    "    month = row['month']\n",
    "    month_year_order.append(f\"{months_translation[month]}'{str(year)[-2:]}\")\n",
    "\n",
    "# Заменяем месяцы и соединяем с годом\n",
    "df['publication_month_year'] = months.astype(str).map(months_translation) + \"'\" + years\n",
    "df['publication_month_year'] = df['publication_month_year'].astype('category')\n",
    "df['publication_month_year'] = df['publication_month_year'].cat.reorder_categories(month_year_order, ordered=True)\n",
    "df['publication_month_year']"
   ]
  },
  {
   "cell_type": "code",
   "execution_count": null,
   "metadata": {},
   "outputs": [],
   "source": [
    "df.columns.isna()sum()"
   ]
  },
  {
   "cell_type": "code",
   "execution_count": null,
   "metadata": {},
   "outputs": [],
   "source": [
    "gen = pagri_data_tools.info_gen(df_internet, column='mb_used_cat', mode='column')\n",
    "gen.next()"
   ]
  },
  {
   "cell_type": "markdown",
   "metadata": {},
   "source": [
    "Для верменных переменных нужно делать не только отедльно месяц, год.  \n",
    "Но и делать категориальную переменную обрезая время.  \n",
    "То есть мы созадем переменную   \n",
    "Янв'23"
   ]
  },
  {
   "cell_type": "markdown",
   "metadata": {},
   "source": [
    "Но нужно подумать, нужна ли нам будет именно временная переменная, или достаточно категории,  \n",
    "если будет нужна временная, то создаем обрезанную переменную datetime используя .dt.round()"
   ]
  },
  {
   "cell_type": "markdown",
   "metadata": {},
   "source": [
    "> Категоризация с использованием лемматизации\n"
   ]
  },
  {
   "cell_type": "markdown",
   "metadata": {},
   "source": [
    "> Если у нас есть столбец и мы хотим его лематизировать, то используем функцию  \n",
    "> `lemmatize_column`\n"
   ]
  },
  {
   "cell_type": "markdown",
   "metadata": {},
   "source": [
    "> Чтобы создать лемы для словаря категоризации, можно посмотреть имеющиеся предложения и использовать\n",
    ">\n",
    "> ```\n",
    "> m = Mystem()\n",
    "> m.lemmatize('образованием')\n",
    "> ```\n"
   ]
  },
  {
   "cell_type": "code",
   "execution_count": null,
   "metadata": {},
   "outputs": [],
   "source": [
    "m = Mystem()\n",
    "m.lemmatize('образованием')"
   ]
  },
  {
   "cell_type": "code",
   "execution_count": null,
   "metadata": {},
   "outputs": [],
   "source": [
    "pagri_data_tools.lemmatize_column()"
   ]
  },
  {
   "cell_type": "code",
   "execution_count": null,
   "metadata": {},
   "outputs": [],
   "source": [
    "categorization_dict = {\n",
    "    'недвижимость': ['жилье', 'недвижимость']\n",
    "    , 'образование': ['образование']\n",
    "    , 'автомобиль': ['автомобиль', 'машина']\n",
    "    , 'свадьба': ['свадьба'] \n",
    "}"
   ]
  },
  {
   "cell_type": "code",
   "execution_count": null,
   "metadata": {},
   "outputs": [
    {
     "data": {
      "text/plain": [
       "недвижимость    10779\n",
       "автомобиль       4288\n",
       "образование      3997\n",
       "свадьба          2337\n",
       "Name: purpose_new, dtype: int64"
      ]
     },
     "metadata": {},
     "output_type": "display_data"
    }
   ],
   "source": [
    "df['purpose_new'] = pagri_data_tools.categorize_column_by_lemmatize(df.purpose, categorization_dict, use_cache=True)\n",
    "df['purpose_new'].value_counts(dropna=False)"
   ]
  },
  {
   "cell_type": "markdown",
   "metadata": {},
   "source": [
    "> Если нужно, уддалим старую колонку\n"
   ]
  },
  {
   "cell_type": "code",
   "execution_count": null,
   "metadata": {},
   "outputs": [
    {
     "data": {
      "text/html": [
       "<div>\n",
       "<style scoped>\n",
       "    .dataframe tbody tr th:only-of-type {\n",
       "        vertical-align: middle;\n",
       "    }\n",
       "\n",
       "    .dataframe tbody tr th {\n",
       "        vertical-align: top;\n",
       "    }\n",
       "\n",
       "    .dataframe thead th {\n",
       "        text-align: right;\n",
       "    }\n",
       "</style>\n",
       "<table border=\"1\" class=\"dataframe\">\n",
       "  <thead>\n",
       "    <tr style=\"text-align: right;\">\n",
       "      <th></th>\n",
       "      <th>children</th>\n",
       "      <th>dob_years</th>\n",
       "      <th>education</th>\n",
       "      <th>family_status</th>\n",
       "      <th>gender</th>\n",
       "      <th>income_type</th>\n",
       "      <th>debt</th>\n",
       "      <th>total_income</th>\n",
       "      <th>purpose</th>\n",
       "      <th>dob_cat</th>\n",
       "      <th>total_income_cat</th>\n",
       "    </tr>\n",
       "  </thead>\n",
       "  <tbody>\n",
       "    <tr>\n",
       "      <th>0</th>\n",
       "      <td>1</td>\n",
       "      <td>42</td>\n",
       "      <td>высшее</td>\n",
       "      <td>женат / замужем</td>\n",
       "      <td>F</td>\n",
       "      <td>сотрудник</td>\n",
       "      <td>0</td>\n",
       "      <td>253876</td>\n",
       "      <td>Недвижимость</td>\n",
       "      <td>40-50</td>\n",
       "      <td>200-500 тыс</td>\n",
       "    </tr>\n",
       "  </tbody>\n",
       "</table>\n",
       "</div>"
      ],
      "text/plain": [
       "   children  dob_years education    family_status gender income_type debt  \\\n",
       "0         1         42    высшее  женат / замужем      F   сотрудник    0   \n",
       "\n",
       "   total_income       purpose dob_cat total_income_cat  \n",
       "0        253876  Недвижимость   40-50      200-500 тыс  "
      ]
     },
     "metadata": {},
     "output_type": "display_data"
    }
   ],
   "source": [
    "df = df.drop('purpose', axis=1).rename(columns={'purpose_new': 'purpose'})\n",
    "df.head(1)"
   ]
  },
  {
   "cell_type": "markdown",
   "metadata": {},
   "source": [
    "> С помощью лематизации мы можем сократить количество категорий.\n"
   ]
  },
  {
   "cell_type": "markdown",
   "metadata": {},
   "source": [
    "> Например мы можем выделить группы:\n",
    "\n",
    "- операции с автомобилем (ключевое слово - автомобиль)\n",
    "- операции с недвижимостью (ключевые слова: жилье, недвижимость)\n",
    "- проведение свадьбы (ключевое слово: свадьба)\n",
    "- получение образования (ключевое слово: образование)\n"
   ]
  },
  {
   "cell_type": "markdown",
   "metadata": {},
   "source": [
    "> Используем функцию  \n",
    "> `categorize_column_by_lemmatize`\n"
   ]
  },
  {
   "cell_type": "code",
   "execution_count": null,
   "metadata": {},
   "outputs": [],
   "source": [
    "pagri_data_tools.categorize_column_by_lemmatize()"
   ]
  },
  {
   "cell_type": "markdown",
   "metadata": {},
   "source": [
    "Из времени также можно сделать категориальный переменные, например, создать переменную для времени заправки, если больше 1 минуты, то долгая заправка, иначе короткая и так далее.\n"
   ]
  },
  {
   "cell_type": "markdown",
   "metadata": {},
   "source": [
    "ВАЖНО подумать какие переменные мы можем создать не только категориальные, но и числовые и временные.  \n",
    "Например, обрезание времени, чтобы получить дату по часам и прочее,\n"
   ]
  },
  {
   "cell_type": "markdown",
   "metadata": {},
   "source": [
    "> Если мы хотим преобразовать категории в числа, то мы можем использовать\n",
    "\n",
    "- lable encoding\n",
    "  > Заменяем быквы числами. Хорошо работает, когда у нас порядковые категориальные переменные.  \n",
    "  > Не забываем про порядок, если у нас алфавитный порядок наших категорий соотвествует числовому, то ок,  \n",
    "  > если нет, то нам нужно самим определить порядок чисел, чтобы они соответствовали категориям в нужном порядке.\n",
    "- one hot encoding\n",
    "  > Если у нас категориальная переменная не упорядочиваемая, то лучше использовать one hot encoding, чтобы разница между числами не вносила шум,  \n",
    "  > так как черный и белый и красный цвет закодированные 1, 2, 3 вносят смысл количества, но они не имеют этого свойства.\n",
    "- target encoding\n",
    "  > замена категориальной переменной на каую-то статистику по одной из категорий внутри этой переменной.  \n",
    "  > Например у нас категориальная переменная это наличие задержки. Значение задержан / незадержан. Мы кодируем их как 0 и 1. Далее мы берем и считаем по каждой группе (для задержан и для незадержан)  \n",
    "  > статистику, например, среднее и получаем столбец, где вместо каждой буквы будет ее среднее.  \n",
    "  > Тут важно делать регуляризацию. Так как маленькие группы могут иметь сильно зашумленные статистики, так как если у нас  \n",
    "  > группа из 5 значений, то среди них может быть легко экстремальное одно и оно сбивает статистику, поэтому добавляем штраф всем статистикам.  \n",
    "  > Регуляризация это что-то похожее на сглаживание.  \n",
    "  > Как это делается\n",
    "  >\n",
    "  > - берем считаем среднее по таргету (целевой переменной, то есть той, по которой мы счтаем статистику) всей таблице (то есть не делим на категории)\n",
    "  > - Далее используем следующую формулу для сглаженного значения среднего по конкретной группе:  \n",
    "  >   (среднее по группе _ количество элементов в группе + среднее по таргету без учета категорий _ размер регуляризирующей группы) / (количество элементов в категории + размер регуляризирующей группы)  \n",
    "  >   Количество элементов в регуляризационнной группе выбирает эмперически. То есть это количество элементов, которым мы сглаживаем.  \n",
    "  >   Смысл в том, что мы берем сколько-то элементов с занчением для всех категорий и сглаживаем им наши отдельные категории.\n",
    "  > - Размер регуляризирующей группы обычно выбирают с помощью grid search, то есть берут цикл для размера этой группы и считают результат модели для каждого размера,  \n",
    "  >   и потом выбирают тот размер, для которого результат лучше.\n",
    "  >\n",
    "  > `target_encoding_linear`  \n",
    "  > `target_encoding_bayes`\n"
   ]
  },
  {
   "cell_type": "code",
   "execution_count": null,
   "metadata": {},
   "outputs": [],
   "source": [
    "pagri_data_tools.target_encoding_linear()\n",
    "pagri_data_tools.target_encoding_bayes()"
   ]
  },
  {
   "cell_type": "markdown",
   "metadata": {},
   "source": [
    "> Использование кластеризации для категоризации\n"
   ]
  },
  {
   "cell_type": "markdown",
   "metadata": {},
   "source": [
    "> Можно понизить размерность до 3  \n",
    "> и построить 3 д график  \n",
    "> По этому графику посмотреть есть ли у нас возможные кластеры  \n",
    "> Если есть, то выделить их  \n",
    "> Причем для понижения размерности можно брать все столбцы, а можно только часть.\n"
   ]
  },
  {
   "cell_type": "markdown",
   "metadata": {},
   "source": [
    "### Объединение данных\n"
   ]
  },
  {
   "cell_type": "markdown",
   "metadata": {},
   "source": [
    "Сначала все одниаковый по смыслу поля в разных таблицах приводим к одному названию."
   ]
  },
  {
   "cell_type": "markdown",
   "metadata": {},
   "source": [
    "Важно  \n",
    "Все новые таблицы начинаем с `df_`  чтобы потом не нужно было искать навзание   \n",
    "вводишь `df_` и далее будет список переменных таблиц"
   ]
  },
  {
   "cell_type": "markdown",
   "metadata": {},
   "source": [
    "ВАЖНО  \n",
    "Перевести id всех сущностей в числа и чтобы уникальность сохранилась.  \n",
    "Это нужно для анализа на графиках, чтобы можно было для них аггрегировать по count и nunique"
   ]
  },
  {
   "cell_type": "markdown",
   "metadata": {},
   "source": [
    "Если будет много новых таблиц, то созадем подразделы   \n",
    "- без аггрегации \n",
    "- с аггрегацией"
   ]
  },
  {
   "cell_type": "markdown",
   "metadata": {},
   "source": [
    "Не забываем про ИИ  \n",
    "Пишем ему задание типа такого -  \n",
    "пишем какие таблицы у нас есть, название таблицы, поля таблицы с описанием полей.  \n",
    "и спрашиваем какие новые таблицы можно создать, чтобы проанализировать данные.  \n",
    "Какие аггрегации сделать и так далее.  \n",
    "Вот пример"
   ]
  },
  {
   "cell_type": "markdown",
   "metadata": {},
   "source": [
    "у меня есть таблица \n",
    "users с полями \n",
    "- user_id - уникальный идентификатор пользователя\n",
    "- first_name - имя пользователя\n",
    "далее пишем все имеющиеся поля\n",
    "есть таблица calls с полями \n",
    "- id - уникальный номер звонка\n",
    "- call_date - дата звонка\n",
    "и так далее описываем все таблицы и поля  \n",
    "Пишем цель анализа, можно скопировать из описания и цели\n",
    "И далее пишем что нужно \n",
    "- это pandas dataframes какие таблицы я могу из них сделать для будущего анализа, чтобы подробно все проанализировать, что с чем объеденить, какую аггрегацию выбрать, расскажи подробно и как можно больше"
   ]
  },
  {
   "cell_type": "markdown",
   "metadata": {},
   "source": [
    "Вот структурированный подход к выбору таблиц для объединения при анализе данных:\n",
    "\n",
    "1. Начните с бизнес-задачи:\n",
    "- Четко определите, какой анализ вам нужно провести\n",
    "- Какие метрики вы хотите получить\n",
    "- Какие гипотезы проверить\n",
    "2. Создайте карту данных:\n",
    "- Выпишите все доступные датафреймы\n",
    "- Для каждого датафрейма укажите ключевые поля\n",
    "- Отметьте связи между таблицами (общие ключи)\n",
    "3. Выберите основную таблицу:\n",
    "- Определите центральную сущность анализа (например, пользователь или транзакция)\n",
    "- Выберите таблицу с этой сущностью как базовую\n",
    "4. Определите необходимые признаки:\n",
    "- Составьте список всех нужных переменных для анализа\n",
    "- Отметьте, в каких таблицах они находятся\n",
    "- Исключите таблицы с избыточной информацией\n",
    "5. Спланируйте последовательность объединения:\n",
    "- Начните с основной таблицы\n",
    "- Добавляйте только те таблицы, которые содержат нужные признаки\n",
    "- Учитывайте гранулярность данных (уровень агрегации)"
   ]
  },
  {
   "cell_type": "markdown",
   "metadata": {},
   "source": [
    "##### Создание таблиц без аггрегации"
   ]
  },
  {
   "cell_type": "markdown",
   "metadata": {},
   "source": [
    "ОЧЕНЬ ВАЖНО когда мы соединяем несколько таблиц в одну, то нужно добавить метку откуда мы берем данные, если это не один источник просто в разных таблицах.  \n",
    "По сути разные таблицы это категориальная переменная, и общая метрика которую мы соберем из разных фреймов, должна быть изучена в разрезе этой категории тоже.  \n",
    "И также важно посмотреть структуру метрики по этой новой категории."
   ]
  },
  {
   "cell_type": "markdown",
   "metadata": {},
   "source": [
    "Чаще всего у нас будет таблица фактов и таблица измерений.  \n",
    "И наша задача добавить категории к таблице фактов для дальнейшего анализа."
   ]
  },
  {
   "cell_type": "markdown",
   "metadata": {},
   "source": [
    "Думаем какие метрики нам нужно обхеденить в один датафрейм, чтобы потом проанализировать.  \n",
    "Обычно мы берем датафрейм где есть числовая переменная, которую мы хотим проанализировать и к этому  \n",
    "датафрейму добавляем категориальные переменные из других датафреймов.   \n",
    "Также можно добавлять числовые перменные для анализа корреляции.  "
   ]
  },
  {
   "cell_type": "markdown",
   "metadata": {},
   "source": [
    "Все новые созданные таблицы записываем в temp.ipynb"
   ]
  },
  {
   "cell_type": "markdown",
   "metadata": {},
   "source": [
    "Сначала думаем какие таблицы соеденить для анализа без аггрегации.  \n",
    "Чтобы проанализировать не аггрегированные данные.  \n",
    "Тут нужно изучить размеры таблицы и какие зависимости нам было бы полезно изучить.  \n",
    "Далее посчитать сколько будет строк в случии объединения без аггрегации и если памяти хватает, то делаем.  "
   ]
  },
  {
   "cell_type": "markdown",
   "metadata": {},
   "source": [
    "Например, у нас есть таблицы тарифом, сообщений, пользователей, звонков.  \n",
    "Объеденить в один фрейм мы их не можем, но мы можем создать отдельные фреймы для сообщений, звонков и трафика без аггрегации.  \n",
    "И потом уже отдельно их изучить в dash app. "
   ]
  },
  {
   "cell_type": "markdown",
   "metadata": {},
   "source": [
    "Создадим дополнительные таблицы для анализа"
   ]
  },
  {
   "cell_type": "markdown",
   "metadata": {},
   "source": [
    "Создадим отдельные таблицы для анализа выручки для звонков, сообщений и интернета."
   ]
  },
  {
   "cell_type": "code",
   "execution_count": null,
   "metadata": {},
   "outputs": [
    {
     "name": "stdout",
     "output_type": "stream",
     "text": [
      "len of df_calls =  202607\n",
      "len of df_messages =  123036\n",
      "len of df_internet =  149396\n"
     ]
    }
   ],
   "source": [
    "print('len of df_calls = ', len(df_calls))\n",
    "print('len of df_messages = ', len(df_messages))\n",
    "print('len of df_internet = ', len(df_internet))"
   ]
  },
  {
   "cell_type": "code",
   "execution_count": null,
   "metadata": {},
   "outputs": [],
   "source": [
    "calls_users = df_calls.merge(df_users, on='user_id', how='left')\n",
    "messages_users = df_messages.merge(df_users, on='user_id', how='left')\n",
    "internet_users = df_internet.merge(df_users, on='user_id', how='left')"
   ]
  },
  {
   "cell_type": "code",
   "execution_count": null,
   "metadata": {},
   "outputs": [
    {
     "name": "stdout",
     "output_type": "stream",
     "text": [
      "len of calls_users =  202607\n",
      "len of messages_users =  123036\n",
      "len of internet_users =  149396\n"
     ]
    }
   ],
   "source": [
    "print('len of calls_users = ', len(calls_users))\n",
    "print('len of messages_users = ', len(messages_users))\n",
    "print('len of internet_users = ', len(internet_users))"
   ]
  },
  {
   "cell_type": "markdown",
   "metadata": {},
   "source": [
    "Добавим информацию о тарифах"
   ]
  },
  {
   "cell_type": "code",
   "execution_count": null,
   "metadata": {},
   "outputs": [],
   "source": [
    "calls_full = calls_users.merge(df_tariffs, left_on='tariff', right_on='tariff_name', how='left')\n",
    "messages_full = messages_users.merge(df_tariffs, left_on='tariff', right_on='tariff_name', how='left')\n",
    "internet_full = internet_users.merge(df_tariffs, left_on='tariff', right_on='tariff_name', how='left')"
   ]
  },
  {
   "cell_type": "code",
   "execution_count": null,
   "metadata": {},
   "outputs": [
    {
     "name": "stdout",
     "output_type": "stream",
     "text": [
      "len of calls_full =  202607\n",
      "len of messages_full =  123036\n",
      "len of internet_full =  149396\n"
     ]
    }
   ],
   "source": [
    "print('len of calls_full = ', len(calls_full))\n",
    "print('len of messages_full = ', len(messages_full))\n",
    "print('len of internet_full = ', len(internet_full))"
   ]
  },
  {
   "cell_type": "markdown",
   "metadata": {},
   "source": [
    "Количество строк не изменилось, все хорошо. "
   ]
  },
  {
   "cell_type": "markdown",
   "metadata": {},
   "source": [
    "Вот так нужно подумать и создать все нужные таблицы без аггрегации.  "
   ]
  },
  {
   "cell_type": "markdown",
   "metadata": {},
   "source": [
    "##### Создание таблиц с аггрегацией"
   ]
  },
  {
   "cell_type": "markdown",
   "metadata": {},
   "source": [
    "ОЧЕНЬ ВАЖНО когда мы соединяем несколько таблиц в одну, то нужно добавить метку откуда мы берем данные, если это не один источник просто в разных таблицах.  \n",
    "По сути разные таблицы это категориальная переменная, и общая метрика которую мы соберем из разных фреймов, должна быть изучена в разрезе этой категории тоже.  \n",
    "И также важно посмотреть структуру метрики по этой новой категории."
   ]
  },
  {
   "cell_type": "markdown",
   "metadata": {},
   "source": [
    "ВАЖНО  \n",
    "вниметльно выбираем функции для аггрегации.  \n",
    "Думаем какая аггрегирующая метрика нам нужна. Возможно нужно несколько, то используем несколько `.agg(mb_used=('mb_used', 'sum'), mb_used_avg=('mb_used', 'mean'))`"
   ]
  },
  {
   "cell_type": "markdown",
   "metadata": {},
   "source": [
    "Думаем нужно ли считать   \n",
    "`mean, median, count, nunique, sum`"
   ]
  },
  {
   "cell_type": "markdown",
   "metadata": {},
   "source": [
    "Нужно хорошо подумать какие аггрегационные метрики нам будут нужны для анализа на графиках.  \n",
    "Так как без аггрегации мы в dash app сами выбираем аггрегацию, а тут аггрегация уже сделана, поэтому нам нужно выбрать аггрегацию заранее."
   ]
  },
  {
   "cell_type": "markdown",
   "metadata": {},
   "source": [
    "ВАЖНО  \n",
    "чтобы дальше при анашизе не было путаницы, аггрегированные метрики называем с префикосом аггрегации, например, avg_age, sum_revenue"
   ]
  },
  {
   "cell_type": "markdown",
   "metadata": {},
   "source": [
    "И не забываем, что если мы рассчитали несколько аггрегирующих метрик в agg,  \n",
    "то нужно все их изучить в info_gen"
   ]
  },
  {
   "cell_type": "markdown",
   "metadata": {},
   "source": [
    "ВАЖНО  \n",
    "Если мы можем сделать аггрегацию по нескольким столбцам (то есть группируем по нескольим столбцам),  \n",
    "То не забываем сделать аггрегацию для каждого столбца отдельно.  \n",
    "Так как в dash app у нас будет автомтаически групироваться по категории и браться, например, среднее занчение.  \n",
    "И если исходный датафрейм у нас был сгруппирован, например, по месяцу и пользователям, то в итоге у нас будет среднее значение за месяц по пользователям.  \n",
    "Поэтому нам нужно сделать отдельно аггрегацию по месяцу.  "
   ]
  },
  {
   "cell_type": "markdown",
   "metadata": {},
   "source": [
    "Нужно подумать как лучше создавать аггрегированные таблицы.  \n",
    "Сначала нужно определтиь какие уровни аггрегации нам нужны для анализа.  \n",
    "Наприммер, средняя выручка за день по месяцам, нам нужно чтобы изначально в dash app шла таблица с аггрегацией по дням.  \n",
    "И так все таблицы. Поэтому очень важно правильно выбирать уровень аггрегации."
   ]
  },
  {
   "cell_type": "markdown",
   "metadata": {},
   "source": [
    "Далее переходим к созаднию аггрегированных таблиц.  "
   ]
  },
  {
   "cell_type": "markdown",
   "metadata": {},
   "source": [
    "Структура объединения с аггрегацией"
   ]
  },
  {
   "cell_type": "markdown",
   "metadata": {},
   "source": [
    "1. Определение целей анализа\n",
    "- Формулировка вопросов: Начните с четкого понимания, какие вопросы вы хотите ответить с помощью агрегации. Например, хотите ли вы узнать средний доход по регионам или общее количество продаж по месяцам?\n",
    "- Идентификация ключевых метрик: Определите, какие метрики будут важны для вашего анализа (например, сумма, среднее, количество, максимум, минимум и т.д.)."
   ]
  },
  {
   "cell_type": "markdown",
   "metadata": {},
   "source": [
    "2. Анализ исходных данных\n",
    "- Изучение структуры данных: Посмотрите на каждый из датафреймов, которые вы хотите объединить. Определите, какие переменные есть в каждом из них и какие из них могут быть использованы для агрегации.\n",
    "- Определение типов данных: Убедитесь, что типы данных в ваших переменных соответствуют тому, что вы хотите агрегировать (например, числовые данные для суммирования)."
   ]
  },
  {
   "cell_type": "markdown",
   "metadata": {},
   "source": [
    "1. Определение уровня агрегации\n",
    "- Группировка по уровням: Решите, на каком уровне вы хотите агрегировать данные. Например, вы можете агрегировать данные по месяцам, кварталам или годам, в зависимости от ваших целей.\n",
    "- Многоуровневая агрегация: Если необходимо, подумайте о многоуровневой агрегации, когда данные агрегируются сначала по одному критерию, а затем по другому (например, сначала по регионам, затем по категориям товаров).  \n",
    "Примеры:\n",
    "- По времени (день/месяц/год)\n",
    "- По объекту (пользователь/продукт/регион)\n",
    "- По комбинации измерений"
   ]
  },
  {
   "cell_type": "markdown",
   "metadata": {},
   "source": [
    "2. Классификация полей\n",
    "- Метрики (что агрегируем)\n",
    "- Атрибуты (характеристики объектов)\n",
    "- Группировочные поля (по ним агрегируем)"
   ]
  },
  {
   "cell_type": "markdown",
   "metadata": {},
   "source": [
    "3. Выбор агрегационных функций для каждого типа данных:\n",
    "- Числовые: sum, mean, max, min, count\n",
    "- Категориальные: mode, count, nunique\n",
    "- Временные: first, last, max, min"
   ]
  },
  {
   "cell_type": "markdown",
   "metadata": {},
   "source": [
    "Помним, что аггрегировать можно не только по строкам,  \n",
    "можно использовать pivot_table для аггрегации по столбцам."
   ]
  },
  {
   "cell_type": "markdown",
   "metadata": {},
   "source": [
    "Важно не сделать таблицы аггрегации, которые у нас уже потенциально есть в неаггрегированном виде.  \n",
    "То есть мы создаем аггрегации только для тех ситуаций, когда у нас нет этого без аггрегации.  "
   ]
  },
  {
   "cell_type": "markdown",
   "metadata": {},
   "source": [
    "Тут важно определить по каким полям мы будем аггрегировать данные.  \n",
    "И выбрать таблицы, которые нам нужно объеденить, чтобы изучить зависимости их полей.  "
   ]
  },
  {
   "cell_type": "markdown",
   "metadata": {},
   "source": [
    "Таблиц может быть много, так как если у нас данных много, то нам нужно будет аггрегировать их перед соединением.  \n",
    "Нужно подумать какие аггрегации нам нужны для анализа и для каждой сделать отдельный датафрейм и добавить нужные категориальные  \n",
    "перменные из других датафреймов.  "
   ]
  },
  {
   "cell_type": "markdown",
   "metadata": {},
   "source": [
    "То есть если у нас данных сильно много, то мы думаем как аггрегировать числовую перменную и уже к аггрегированной таблице джойним другие с категориями.  "
   ]
  },
  {
   "cell_type": "markdown",
   "metadata": {},
   "source": [
    "Когда у нас в двух таблицах разные названия столбцвов, то нужно стандартизировать названия, чтобы они совпадали.  \n",
    "Если мы используем не inner соединение. Так как при внешенм соединение в итоговой таблице будут пропуски, где нет совпадений.  \n",
    "И если мы не приведем названия столбцов к одному виду, то у нас получиться, что в одном и другом столбце, по которому мы соединяли,  \n",
    "будут пропуски. И если нам далее нужно будет соединять с другой таблицей по этому полю, то мы не сможем это сделать.  \n",
    "И для расчетов также это портит все.  \n",
    "Поэтому нужно всегда приводить названия столбцов к одному виду."
   ]
  },
  {
   "cell_type": "markdown",
   "metadata": {},
   "source": [
    "Если мы не хотим менять название столбца в исходной таблице, то мы можем прям в merge переименовать таблицу  \n",
    "`df_revenue_by_month = df_revenue_by_month.merge(df_tariffs.rename(columns={'tariff_name': 'tariff'}), on='tariff')`"
   ]
  },
  {
   "cell_type": "markdown",
   "metadata": {},
   "source": [
    "ВАЖНО  \n",
    "Если мы можем создать таблицу без аггрегации, то не нужно создавать аггрегированные, так как мы можем в процессе изучения   \n",
    "в dash app строить разные аггрегации и изучать в разрезах.  \n",
    "Аггрегация нужна, когда мы не можем объеденить таблицы из-за размера например, и тогда нам нужно уже думать до построения графиков  \n",
    "какие аггрегации сделать для объединнения таблиц.  \n",
    "И придется делать много разных таблиц, которые нам нужно изучить. Это минус аггрегации. Так как мы не можем автоматизироваать процесс."
   ]
  },
  {
   "cell_type": "markdown",
   "metadata": {},
   "source": [
    "> Проверка соответствия:  \n",
    "> Если у нас в разных таблицах есть значения, которые дожны быть одинакоые,  \n",
    "> то нужно проверить, что значения в одном столбце соответствуют значениям в другом столбце.\n"
   ]
  },
  {
   "cell_type": "code",
   "execution_count": null,
   "metadata": {},
   "outputs": [],
   "source": [
    "df['column_name1'].equals(df['column_name2'])"
   ]
  },
  {
   "cell_type": "markdown",
   "metadata": {},
   "source": [
    "> Обоготить данные можно следующими способами\n",
    "\n",
    "- взять поле нашей таблицы и найти дополнительные данные в интернете или ещё где-то и потом связать с нашей колонкой по этому полю\n",
    "  > Самое просто это дата, если у нас есть дата, то мы можем много разной доп информации внести в наши данные связывая по дате.  \n",
    "  > Также, например, у нас есть какие-то коды чего-то, мы ищем информацию по этим кодам и находим табличку с доп инфой по этим кодам и можем обоготить ими  \n",
    "  > нашу таблицу. Например, у нас города или страны, мы можем по ним также внести доп инфу из какого-то источника, которая нам поможет.  \n",
    "  > Вообще любое поле нашей таблицы это потенцильная нить для обогощения. Главное понять с чем полезным мы можем соеденить  \n",
    "  > через конкретное поле, чтобы получить больше полезной информации для анализа, по сути для детализации наших зависимостей или для поиска  \n",
    "  > новых зависимостей и инсайтов в них.  \n",
    "  > Процесс следующий - мы берем каждую колонку нашего дата сета и думаем, с чем через нее мы можем связать и если придумываем, то идешь ищем эту информацию и  \n",
    "  > в итоге соединяем.\n",
    "- Можно пойти от обратного. Сначал подумтаь какие данные нам могут помочь и поискать их в интернете например, а потом уже думать как их соеденить с нашими\n",
    "  > данными. Оба способа лучше делать одновременно.\n"
   ]
  },
  {
   "cell_type": "markdown",
   "metadata": {},
   "source": [
    "> Каждый раз, когда мы работаем с дата сетом, мы должны понять что является сущностью этого дата сета.  \n",
    "> Например событие, человек и прочее.  \n",
    "> Далее нам нужно поянть а можем ли мы его идентифицировать по текущим данным (не всегда есть уникальный ай ди).  \n",
    "> Если не можем, то нужно думта как обогатить данные, чтобы четко идентифицировать сущности\n"
   ]
  },
  {
   "cell_type": "markdown",
   "metadata": {},
   "source": [
    "> Что нужно обязательно првоерить после соединения\n",
    "\n",
    "- если мы соединяем по полю, которое уникально в обеих таблицах\n",
    "  > - количество строк в левом датафрейме равно количеству строк в итоговом\n",
    "  > - параметры каждого дата сета не изменились (если мы соединили правильно, то итоговые суммы по столбцам не должны измениться)\n",
    "  >   - используем `df.sum(numeric_only=True)` для каждой таблицы до соединения и для общей таблицы и сравниваем значения\n",
    "  >   - можно использвоать `df.describe` также до и после объединения и сравнивать параметры\n",
    "- если у нас в одной из колонок для соединения не уникальные значения (то есть для одной строки в левой таблице будет несколько в итоговй)\n",
    "  > - Сначала группируем таблицы, чтобы поле для соединения в обеих таблицах было уникальное\n",
    "  >   и применяем предыдущий шаг с количеством строк в левой и итоговой и суммой значений в левой и итоговой одинаковой\n",
    "  > - Если нам нужно соеденить без группировки (но это редко может быть, поэтому нужно подумать точно ли не моежм сгруппировать)  \n",
    "  >   тогда нет выбора и остаются только следующие варианты  \n",
    "  >    - если в левой таблице уникальные записи в колонке, по которйо соединяем  \n",
    "  >    - тогда считаем сколько было записей в левой таблице в колонке для соединения и сравниваем с количеством **уникальных** записей в итоговой  \n",
    "  >    они должны совпадать, но тут важно в итоговой брать уникальные записи - есил и в левой и правой нет уникальных - тут считаем сколько **уникальных** в левой до и сколько **уникальных** в итоговой, должно совпадать\n"
   ]
  },
  {
   "cell_type": "markdown",
   "metadata": {},
   "source": [
    "> Если у нас что-то не сходится после соединения таблиц, то нужно внимально изучить это.  \n",
    "> Тут может быть инсайт (кто-то не правильно вносит информацию, какие-то значения неверные или кто-то что-то хотел спрятать, не указать и прчоее).  \n",
    "> Когда видим нестыковки после соединения таблиц, то должна загораться красная лампочка. Это потенциальный инсайт, баг, который мы можем найти и сообщить, чтобы его починили.\n"
   ]
  },
  {
   "cell_type": "markdown",
   "metadata": {},
   "source": [
    "> помним, что метод соединения inner стоит по умолчанию в merge\n"
   ]
  },
  {
   "cell_type": "markdown",
   "metadata": {},
   "source": [
    "> В колонках, по которым будем соеднить, проверяем, нет ли пропусков, пропуски нужно заменить нулями.  \n",
    "> Иначе будет либо ошибка, либо пропуски сджойнятся с пропусками\n"
   ]
  },
  {
   "cell_type": "markdown",
   "metadata": {},
   "source": [
    "> Проблема справочников  \n",
    "> При объединение таблиц важно помнить про то, что в разных таблицах не только названия столбцов может быть разное,  \n",
    "> но и одно значение может быть записано по разному в разных таблицах, например, названия профессий, названия городов,  \n",
    "> имя в одной таблице на русском, а в другой на английском, номер телефона с черточкой или плюсом и без черточки или плюса.  \n",
    "> Поэтому не забываем привести все значения таблиц к нижнему регистру, чтобы не было проблем разными регистрами для одного слова\n"
   ]
  },
  {
   "cell_type": "markdown",
   "metadata": {},
   "source": [
    "> Проблема временных зон  \n",
    "> В одной таблице может быть выгрузка по местному времени, а в другом по московскому\n"
   ]
  },
  {
   "cell_type": "markdown",
   "metadata": {},
   "source": [
    "> Проблема курсов валют  \n",
    "> Разыне системы могут брать курс за разные промежутки вермени, например, одна система берет курс в гугле (раз в час обновляется),  \n",
    "> а другая система берет курс в ЦБ (обновляется раз в сутки)  \n",
    "> И поэтому итоговые резултаты могут не состыковаться, поэтому, когда видим курсы валют, то нужно убедиться. что они взяты из одного испточника  \n",
    "> и за один промежуток времени\n"
   ]
  },
  {
   "cell_type": "markdown",
   "metadata": {},
   "source": [
    "> Когда мы работаем с данными, нам важно четко идентифицировать клиентов, событие или другую сущность, с которой мы работаем.  \n",
    "> Иначе у нас будет шум, так как мы одного и того же клиента учтем более одного раза.\n"
   ]
  },
  {
   "cell_type": "markdown",
   "metadata": {},
   "source": [
    "> Как можно обоготить данные, чтобы лучше идентифицировать сущности\n",
    "\n",
    "- Добавить для клиента email, телефон, устройство, 4 цифры карты и другое, что может помочь его идентифицировать\n",
    "  > Это важно так как у клиента могут быть разные телефоны, устройства, карты, но все это вместе поможет его идентифицировать точнее\n",
    "- Добавить для события локацию, погоду, связанные событие, праздники, что поможет нам идентифицировать событие\n"
   ]
  },
  {
   "cell_type": "markdown",
   "metadata": {},
   "source": [
    "Все новые созданные переменные помещаем в temp.ipynb"
   ]
  },
  {
   "cell_type": "markdown",
   "metadata": {},
   "source": [
    "### Расчет метрик\n"
   ]
  },
  {
   "cell_type": "markdown",
   "metadata": {},
   "source": [
    "ОЧЕНЬ ВАЖНО  \n",
    "обязательно создать метрику количество всех сущностей, которые есть в датафреймах.   \n",
    "Так как в анализе категорий мы сравниваем количество в категориях.  \n",
    "А нам также очень важно посмотреть количество не категоризированных сущностей.  \n",
    "Нужно подумать как лучше это сделать. В dash app есть функция cnt, главное не забыть ее использовать.  \n",
    "Но это суммарное, нужно ещё среднее или медианное значение.\n",
    "Если количество применимо к ним. Например количество пользователей, количество заказов, количество товаров и т.д.\n",
    "И также важно смотреть суммарное и среднее / медианное значение.\n",
    "И важно назвать не как было например user_id, а назвать понятнее users_cnt или типа того, чтобы не запутаться на графиках.  \n",
    "Очень важно давать четкое и понятное детализированное название переменным.   \n",
    "Это очень сильно помогает далее при анализе.  "
   ]
  },
  {
   "cell_type": "markdown",
   "metadata": {},
   "source": [
    "ОЧЕНЬ ВАЖНО когда мы соединяем несколько таблиц в одну, то нужно добавить метку откуда мы берем данные, если это не один источник просто в разных таблицах.  \n",
    "По сути разные таблицы это категориальная переменная, и общая метрика которую мы соберем из разных фреймов, должна быть изучена в разрезе этой категории тоже.  \n",
    "И также важно посмотреть структуру метрики по этой новой категории."
   ]
  },
  {
   "cell_type": "markdown",
   "metadata": {},
   "source": [
    "ВАЖНО  \n",
    "изучаем отдельно каждую новую метрики через info_gen"
   ]
  },
  {
   "cell_type": "code",
   "execution_count": null,
   "metadata": {},
   "outputs": [],
   "source": [
    "gen = pagri_data_tools.info_gen(df_users, column='age_cat', mode='column')\n",
    "gen.next()"
   ]
  },
  {
   "cell_type": "markdown",
   "metadata": {},
   "source": [
    "ВАЖНО  \n",
    "Когда создали новую переменную, то записываем ее в temp.ipynb название переменной и описание  \n",
    "Чтобы далее когда нужно будет добавлять в title_for_axis не нужно бьло искать"
   ]
  },
  {
   "cell_type": "markdown",
   "metadata": {},
   "source": [
    "Сначала все одниаковый по смыслу поля в разных таблицах приводим к одному названию."
   ]
  },
  {
   "cell_type": "markdown",
   "metadata": {},
   "source": [
    "Если метрик много, то можно создать подразделы для них.  \n",
    "Ниже примерные названия подразделов.  \n",
    "Названия метрик могут повторяться в разных разделах ниже.  \n",
    "Это нормально, так как многие разделы имеют общее.  \n",
    "Нужно выбрать разделы, которые лушче подходят для конкретнго проекта.  "
   ]
  },
  {
   "cell_type": "markdown",
   "metadata": {},
   "source": [
    "Если метрик не много, то просто созадем их в одном разделе  \n",
    "Каждую новую метрику можно просто выделить начало создания жирным шрифтом"
   ]
  },
  {
   "cell_type": "markdown",
   "metadata": {},
   "source": [
    "#### Производные метрики"
   ]
  },
  {
   "cell_type": "markdown",
   "metadata": {},
   "source": [
    "Тут пишем разные производные метрики из имеющихся переменных.  \n",
    "Тут будут те метрики, которые нельзя отнести к остальным подразделам метрик. "
   ]
  },
  {
   "cell_type": "markdown",
   "metadata": {},
   "source": [
    "#### Ключевые показатели эффективности (KPI)"
   ]
  },
  {
   "cell_type": "markdown",
   "metadata": {},
   "source": [
    "Финансовые KPI\n",
    "\n",
    "- Выручка — общий доход от продаж товаров или услуг.\n",
    "- Прибыль — разница между доходами и расходами.\n",
    "- Рентабельность — отношение прибыли к выручке или к активам.\n",
    "- Коэффициент ликвидности — способность компании покрыть свои краткосрочные обязательства.\n",
    "- Себестоимость продаж — общие затраты на производство товаров или услуг.\n",
    "\n",
    "Операционные KPI\n",
    "\n",
    "- Производительность — количество продукции, произведенной за единицу времени.\n",
    "- Уровень запасов — количество товаров на складе в данный момент времени.\n",
    "- Время выполнения заказа — время, необходимое для обработки и доставки заказа.\n",
    "- Качество продукции — процент бракованных изделий или уровень удовлетворенности клиентов.\n",
    "\n",
    "Маркетинговые KPI\n",
    "\n",
    "- Стоимость привлечения клиента (CAC) — затраты на привлечение одного клиента.\n",
    "- Конверсия — процент пользователей, совершивших целевое действие (например, покупку).\n",
    "- Возврат на инвестиции в маркетинг (ROMI) — прибыль, полученная от маркетинговых кампаний.\n",
    "- Трафик на сайт — количество посетителей на сайте.\n",
    "\n",
    "KPI для HR\n",
    "\n",
    "- Текучесть кадров — процент сотрудников, покинувших компанию за определенный период.\n",
    "- Уровень удовлетворенности сотрудников — измеряется через опросы и анкетирования.\n",
    "- Среднее время найма — время, необходимое для заполнения вакансии.\n",
    "- Процент выполнения целей сотрудников — доля сотрудников, достигших своих KPI.\n",
    "\n",
    "KPI для обслуживания клиентов\n",
    "\n",
    "- Уровень удовлетворенности клиентов (CSAT) — измеряется через опросы после обслуживания.\n",
    "- Чистый промоутерский балл (NPS) — измеряет лояльность клиентов.\n",
    "- Время ответа на запросы — среднее время, необходимое для ответа на запросы клиентов.\n",
    "- Процент решенных проблем с первого обращения — доля запросов, решенных при первом контакте."
   ]
  },
  {
   "cell_type": "markdown",
   "metadata": {},
   "source": [
    "#### Финансовые метрики."
   ]
  },
  {
   "cell_type": "markdown",
   "metadata": {},
   "source": [
    "- Выручка\n",
    "- Прибыль\n",
    "- Рентабельность\n",
    "- Операционные расходы\n",
    "- Кэш-флоу"
   ]
  },
  {
   "cell_type": "markdown",
   "metadata": {},
   "source": [
    "#### Маркетинговые метрики"
   ]
  },
  {
   "cell_type": "markdown",
   "metadata": {},
   "source": [
    "- Стоимость привлечения клиента (CAC)\n",
    "- Пожизненная ценность клиента (LTV)\n",
    "- Конверсия\n",
    "- ROI (возврат на инвестиции)\n",
    "- Охват и вовлеченность"
   ]
  },
  {
   "cell_type": "markdown",
   "metadata": {},
   "source": [
    "#### Операционные метрики."
   ]
  },
  {
   "cell_type": "markdown",
   "metadata": {},
   "source": [
    "- Эффективность процессов\n",
    "- Время выполнения заказа\n",
    "- Уровень запасов\n",
    "- Производительность труда\n",
    "- Уровень дефектов"
   ]
  },
  {
   "cell_type": "markdown",
   "metadata": {},
   "source": [
    "#### Метрики пользовательского опыта."
   ]
  },
  {
   "cell_type": "markdown",
   "metadata": {},
   "source": [
    "- Удовлетворенность клиентов (CSAT)\n",
    "- Чистый промоутерский балл (NPS)\n",
    "- Время на сайте\n",
    "- Показатель отказов\n",
    "- Количество активных пользователей"
   ]
  },
  {
   "cell_type": "markdown",
   "metadata": {},
   "source": [
    "#### Метрики продаж"
   ]
  },
  {
   "cell_type": "markdown",
   "metadata": {},
   "source": [
    "- Объем продаж\n",
    "- Средний размер сделки\n",
    "- Темп роста продаж\n",
    "- Доля рынка\n",
    "- Уровень удержания клиентов"
   ]
  },
  {
   "cell_type": "markdown",
   "metadata": {},
   "source": [
    "#### Метрики производительности"
   ]
  },
  {
   "cell_type": "markdown",
   "metadata": {},
   "source": [
    "- Время выполнения задач\n",
    "- Эффективность использования ресурсов\n",
    "- Уровень производительности сотрудников\n",
    "- Качество продукции\n",
    "- Время простоя"
   ]
  },
  {
   "cell_type": "markdown",
   "metadata": {},
   "source": [
    "#### Метрики веб-аналитики"
   ]
  },
  {
   "cell_type": "markdown",
   "metadata": {},
   "source": [
    "- Посещения\n",
    "- Уникальные посетители\n",
    "- Время на странице\n",
    "- Конверсии по каналам\n",
    "- Источники трафика"
   ]
  },
  {
   "cell_type": "markdown",
   "metadata": {},
   "source": [
    "#### Метрики социальных медиа"
   ]
  },
  {
   "cell_type": "markdown",
   "metadata": {},
   "source": [
    "- Подписчики\n",
    "- Вовлеченность (лайки, комментарии, репосты)\n",
    "- Охват постов\n",
    "- Темп роста подписчиков\n",
    "- Анализ упоминаний бренда"
   ]
  },
  {
   "cell_type": "markdown",
   "metadata": {},
   "source": [
    "#### Метрики HR"
   ]
  },
  {
   "cell_type": "markdown",
   "metadata": {},
   "source": [
    "- Уровень текучести кадров\n",
    "- Удовлетворенность сотрудников\n",
    "- Время на заполнение вакансий\n",
    "- Эффективность обучения\n",
    "- Уровень вовлеченности сотрудников"
   ]
  },
  {
   "cell_type": "markdown",
   "metadata": {},
   "source": [
    "#### Метрики качества"
   ]
  },
  {
   "cell_type": "markdown",
   "metadata": {},
   "source": [
    "- Уровень удовлетворенности клиентов\n",
    "- Количество жалоб\n",
    "- Соответствие стандартам\n",
    "- Время на исправление дефектов\n",
    "- Показатели качества продукции"
   ]
  },
  {
   "cell_type": "markdown",
   "metadata": {},
   "source": [
    "#### Метрики продукта"
   ]
  },
  {
   "cell_type": "markdown",
   "metadata": {},
   "source": [
    "Финансовые метрики:\n",
    "\n",
    "- Выручка: общий доход от продаж.\n",
    "- LTV (Lifetime Value): пожизненная ценность клиента, показывающая, сколько дохода приносит клиент за все время взаимодействия с продуктом.\n",
    "- CAC (Customer Acquisition Cost): стоимость привлечения одного клиента.\n",
    "- ARPU (Average Revenue Per User): средний доход на пользователя.\n",
    "\n",
    "Метрики вовлеченности:\n",
    "    \n",
    "- DAU (Daily Active Users): количество уникальных пользователей, которые взаимодействуют с продуктом ежедневно.\n",
    "- WAU (Weekly Active Users): количество уникальных пользователей за неделю.\n",
    "- MAU (Monthly Active Users): количество уникальных пользователей за месяц.\n",
    "- Retention Rate: процент пользователей, которые продолжают использовать продукт после определенного периода.\n",
    "\n",
    "Метрики конверсии:\n",
    "\n",
    "- Conversion Rate: процент пользователей, которые выполняют целевое действие (например, покупка, регистрация).\n",
    "- Churn Rate: процент пользователей, которые перестают использовать продукт за определенный период.\n",
    "\n",
    "Метрики качества:\n",
    "\n",
    "- NPS (Net Promoter Score): показатель лояльности клиентов, основанный на их готовности рекомендовать продукт.\n",
    "- CSAT (Customer Satisfaction Score): уровень удовлетворенности клиентов продуктом.\n",
    "Метрики использования:\n",
    "\n",
    "- Average Session Duration: среднее время, проведенное пользователем в приложении или на сайте.\n",
    "- Bounce Rate: процент пользователей, которые покидают сайт после просмотра только одной страницы.\n",
    "\n",
    "Метрики роста:\n",
    "\n",
    "- GMV (Gross Merchandise Value): общий объем продаж товаров через платформу.\n",
    "- Monthly Recurring Revenue (MRR): ежемесячный повторяющийся доход, особенно важен для подписочных моделей."
   ]
  },
  {
   "cell_type": "markdown",
   "metadata": {},
   "source": [
    "#### Экономические метрики\n"
   ]
  },
  {
   "cell_type": "markdown",
   "metadata": {},
   "source": [
    "> тут будут расчеты экономических метрик\n"
   ]
  },
  {
   "cell_type": "markdown",
   "metadata": {},
   "source": [
    "> Если расчет метрик является важным аспектом вашего исследования и требует подробного описания, то создание отдельной главы будет лучшим решением.  \n",
    "> Если в этом разделе будет немного расчетов, то можно сделать расчеты метрик разделом предобработки данных\n"
   ]
  },
  {
   "cell_type": "markdown",
   "metadata": {},
   "source": [
    "> Расчитываем разные метрики на основе имеющихся данных и тех, которыми смогли обогатить данные\n"
   ]
  },
  {
   "cell_type": "markdown",
   "metadata": {},
   "source": [
    "> Важно следить за количеством недель в году, если мы создаем столбец месяца.  \n",
    "> Проверять чтобы у нас не появлялась неделя дополнительная, из за того, что мы захватили предыдущий год\n"
   ]
  },
  {
   "cell_type": "markdown",
   "metadata": {},
   "source": [
    "Финансовые метрики:\n",
    "\n",
    "- Выручка: общий доход от продаж товаров или услуг.\n",
    "- Прибыль: разница между выручкой и затратами, показывающая финансовый результат деятельности.\n",
    "- Рентабельность: отношение прибыли к выручке, выраженное в процентах, что позволяет оценить эффективность использования ресурсов.\n",
    "\n",
    "Метрики затрат:\n",
    "\n",
    "- Себестоимость: общие затраты на производство и продажу товаров или услуг.\n",
    "- Операционные расходы: затраты, связанные с основной деятельностью компании, включая зарплаты, аренду и коммунальные услуги.\n",
    "\n",
    "Метрики ликвидности:\n",
    "\n",
    "- Текущая ликвидность: отношение текущих активов к текущим обязательствам, показывающее способность компании покрывать краткосрочные долги.\n",
    "- Коэффициент быстрой ликвидности: более строгий показатель ликвидности, исключающий запасы из текущих активов.\n",
    "\n",
    "Метрики эффективности:\n",
    "\n",
    "- ROE (Return on Equity): доходность собственного капитала, показывающая, насколько эффективно компания использует средства акционеров.\n",
    "- ROA (Return on Assets): доходность активов, отражающая, как эффективно используются все активы компании для генерации прибыли.\n",
    "\n",
    "Метрики роста:\n",
    "\n",
    "- Темпы роста выручки: процентное изменение выручки за определенный период, показывающее динамику бизнеса.\n",
    "- Темпы роста прибыли: процентное изменение прибыли, что позволяет оценить финансовую устойчивость и развитие компании.\n",
    "\n",
    "Метрики инвестиционной привлекательности:\n",
    "\n",
    "- P/E (Price to Earnings Ratio): соотношение цены акции к прибыли на акцию, используемое для оценки стоимости компании.\n",
    "- EV/EBITDA (Enterprise Value to Earnings Before Interest, Taxes, Depreciation, and Amortization): показатель, который помогает оценить стоимость компании относительно ее операционной прибыли."
   ]
  },
  {
   "cell_type": "markdown",
   "metadata": {},
   "source": [
    "### Промежуточный вывод\n"
   ]
  },
  {
   "cell_type": "markdown",
   "metadata": {},
   "source": [
    "Чтобы собрать все наблюдения используем это  \n",
    "нужно поставить `_start_` где начало и `_end_` где конец"
   ]
  },
  {
   "cell_type": "markdown",
   "metadata": {},
   "source": [
    "Не забываем удалить метки `_start_` и `_end_` "
   ]
  },
  {
   "cell_type": "code",
   "execution_count": null,
   "metadata": {},
   "outputs": [],
   "source": [
    "import IPython\n",
    "notebook_path = \"/\".join(\n",
    "        IPython.extract_module_locals()[1][\"__vsc_ipynb_file__\"].split(\"/\"))\n",
    "pagri_data_tools.collect_observations(notebook_path, '/home/pagri/git_repos/pagri-projects/quarto/projects/prospective_tariff_for_telecom/temp_for_report.ipynb')"
   ]
  },
  {
   "cell_type": "markdown",
   "metadata": {},
   "source": [
    "## Визуализация взаимосвязей переменных\n"
   ]
  },
  {
   "cell_type": "markdown",
   "metadata": {},
   "source": [
    "Сначала пишем ИИ все наши таблицы и названия переменных, которые были и которые создали.  \n",
    "И спрашиваем какие зависимости нужно изучить. Пишем напиши подробный список.  \n",
    "Далее это вставляем в temp.ipynb и когда будем изучать то смотрим.  \n",
    "И в конце убедиться, что мы это все изучили. Если нет, то отедльно строим графики для этого.  \n",
    "Также в процессе сами думаем какие зависимости стоит изучить,  \n",
    "когда ИИ нам напишет список.  "
   ]
  },
  {
   "cell_type": "markdown",
   "metadata": {},
   "source": [
    "ВАЖНО  \n",
    "Если у нас было несколько таблиц и мы создали общую из нескольких, то изучать нужно общую.  \n",
    "Или как минимуму общую тоже, так как будет ошибкой, изучить только исходые таблицы.  "
   ]
  },
  {
   "cell_type": "markdown",
   "metadata": {},
   "source": [
    "### Сравнительный анализ распределений числовых переменных по категориям"
   ]
  },
  {
   "cell_type": "markdown",
   "metadata": {},
   "source": [
    "Берем каждую числовую переменную и строим накладывающиеся гистограммы для всех категорий.  \n",
    "И так повторяем для всех числовых переменных."
   ]
  },
  {
   "cell_type": "markdown",
   "metadata": {},
   "source": [
    "### Исследование корреляционных связей"
   ]
  },
  {
   "cell_type": "markdown",
   "metadata": {},
   "source": [
    "Следим за правильным порядком переменных полученных из времени"
   ]
  },
  {
   "cell_type": "markdown",
   "metadata": {},
   "source": [
    "Чтобы подготовить title_for_axis, пишем ии так  "
   ]
  },
  {
   "cell_type": "markdown",
   "metadata": {},
   "source": [
    "запомни - total_images = ['Число фотографий', 'числа фотографий', 0], - тут первый элемент списка это общая форма и с большой буквы, второй элемент это форма первого элемента при ответе на вопрос Чего и третий элеент списка это род элемента (0 - средний род, 1 - мужской род, 2 женский род) понятно?  "
   ]
  },
  {
   "cell_type": "markdown",
   "metadata": {},
   "source": [
    "и далее даем список нужных названий колонок в таком виде "
   ]
  },
  {
   "cell_type": "markdown",
   "metadata": {},
   "source": [
    "Для корреляций достаточно просто указать название без рода и склонения"
   ]
  },
  {
   "cell_type": "markdown",
   "metadata": {},
   "source": [
    "Сормируем словарь для подписей осей и названий графиков."
   ]
  },
  {
   "cell_type": "code",
   "execution_count": null,
   "metadata": {},
   "outputs": [],
   "source": [
    "\n",
    "titles_for_axis= dict(\n",
    "        total_images = 'числа фотографий',\n",
    "        last_price = 'цена',\n",
    "        total_area = 'общая площадь',\n",
    "        rooms = 'число комнат',\n",
    "        ceiling_height = 'высота потолков',\n",
    "        floors_total = 'всего этажей',\n",
    "        living_area = 'жилая площадь',\n",
    "        floor = 'этаж'\n",
    ")"
   ]
  },
  {
   "cell_type": "markdown",
   "metadata": {},
   "source": [
    "ВАЖНО  \n",
    "проверить, что все категориальные переменные по прежнему имеют категориальный тип, чтобы при анализе они не поетрялись"
   ]
  },
  {
   "cell_type": "code",
   "execution_count": null,
   "metadata": {},
   "outputs": [],
   "source": [
    "df.dtypes"
   ]
  },
  {
   "cell_type": "code",
   "execution_count": null,
   "metadata": {},
   "outputs": [],
   "source": [
    "for key, df in dict(\n",
    "            df_users = df_users\n",
    "            , df_calls = df_calls\n",
    "            , df_messages = df_messages\n",
    "            , df_internet = df_internet\n",
    "            , df_tariffs = df_tariffs\n",
    "            , df_calls_full = df_calls_full\n",
    "            , df_messages_full = df_messages_full\n",
    "            , df_internet_full = df_internet_full\n",
    "            , df_by_userid_month = df_by_userid_month\n",
    "            , df_arpu = df_arpu).items():\n",
    "    print(key)\n",
    "    display(df.dtypes)"
   ]
  },
  {
   "cell_type": "markdown",
   "metadata": {},
   "source": [
    ">Топ n значений одного столбца по значениям в другом\n",
    ">Сделать функцию, чтобы в столбцах, где бльше 20 уникльных значений посмотреть топ n значений по другой колонке.  \n",
    ">Например, топ 10 покупателей по сумме покупок и прочее.  \n",
    ">Идея в том, что если  в столбце до 20 уникальных значений, то мы проанализируем комбинации с другими стобцами на графиках.  \n",
    ">А вот если у нас столбец не числовой и в нем больше 20 уникальных значений, то на графике мы не сможем понять топ n."
   ]
  },
  {
   "cell_type": "markdown",
   "metadata": {},
   "source": [
    ">Изучаем топ n значений в категориальных столбцах датафрейма, где значений больше порогового, по значению в столбце value_column.  \n",
    ">Тут можно делать разные топы, использовать разные функции.  \n",
    ">Задача изучить то, что мы не сможем изучить на графиках из-за болшого количества занчений в категориальной переменной,  \n",
    ">поэтому мы берем топ n значений.  "
   ]
  },
  {
   "cell_type": "code",
   "execution_count": null,
   "metadata": {},
   "outputs": [],
   "source": [
    "gen = pagri_data_tools.top_n_values_gen()\n",
    "next(gen)"
   ]
  },
  {
   "cell_type": "markdown",
   "metadata": {},
   "source": [
    ">Чтобы сравнить метрики между собой мы можем\n",
    "- использовать корреляционный анализ (Пирсена, Спирмена, Кенделла)\n"
   ]
  },
  {
   "cell_type": "markdown",
   "metadata": {},
   "source": [
    ">`heatmap_corr(df)`"
   ]
  },
  {
   "cell_type": "markdown",
   "metadata": {},
   "source": [
    "( r = 1 ): Полная положительная линейная зависимость.  \n",
    "( 0.7 < r < 1 ): Сильная положительная линейная зависимость.  \n",
    "( 0.3 < r \\leq 0.7 ): Умеренная положительная линейная зависимость.  "
   ]
  },
  {
   "cell_type": "markdown",
   "metadata": {},
   "source": [
    "Если числовых переменных не много и они входят на один график, то просто строим график"
   ]
  },
  {
   "cell_type": "code",
   "execution_count": null,
   "metadata": {},
   "outputs": [],
   "source": [
    "pagri_data_tools.heatmap_corr(df)"
   ]
  },
  {
   "cell_type": "markdown",
   "metadata": {},
   "source": [
    "Лучше лишние ячейки убирать, если есть возможность "
   ]
  },
  {
   "cell_type": "code",
   "execution_count": null,
   "metadata": {},
   "outputs": [],
   "source": [
    "pagri_data_tools.heatmap_corr(df_by_userid_month[['sessions_per_day', 'calls_per_day']])"
   ]
  },
  {
   "cell_type": "markdown",
   "metadata": {},
   "source": [
    "Если нужно быстро просмотреть, то проганяем в цикле"
   ]
  },
  {
   "cell_type": "code",
   "execution_count": null,
   "metadata": {},
   "outputs": [],
   "source": [
    "for key, df in dict(\n",
    "            df_users = df_users\n",
    "            , df_calls = df_calls\n",
    "            , df_messages = df_messages\n",
    "            , df_internet = df_internet\n",
    "            , df_tariffs = df_tariffs\n",
    "            , df_calls_full = df_calls_full\n",
    "            , df_messages_full = df_messages_full\n",
    "            , df_internet_full = df_internet_full\n",
    "            , df_by_userid_month = df_by_userid_month\n",
    "            , df_arpu = df_arpu).items():\n",
    "    print(key)\n",
    "    display(pagri_data_tools.heatmap_corr(df))"
   ]
  },
  {
   "cell_type": "markdown",
   "metadata": {},
   "source": [
    "Если переменных много и нужно разделить на части, то используем эту функцию "
   ]
  },
  {
   "cell_type": "code",
   "execution_count": null,
   "metadata": {},
   "outputs": [],
   "source": [
    "gen = pagri_data_tools.heatmap_corr_gen(df, part_size=10, titles_for_axis=titles_for_axis)\n",
    "next(gen)"
   ]
  },
  {
   "cell_type": "markdown",
   "metadata": {},
   "source": [
    ">Использование регрессии и случайного леса для определения влияния переменных  "
   ]
  },
  {
   "cell_type": "markdown",
   "metadata": {},
   "source": [
    ">Коэффициенты регрессии позволяют оценить влияние каждой переменной на целевую переменную, учитывая влияние других переменных,  \n",
    ">в то время как важные компоненты в случайном лесе позволяют оценить важность каждой переменной для предсказания целевой переменной."
   ]
  },
  {
   "cell_type": "markdown",
   "metadata": {},
   "source": [
    ">Используем регрессиию"
   ]
  },
  {
   "cell_type": "markdown",
   "metadata": {},
   "source": [
    ">Чтобы построить регрессию и посмотреть стат значимость и коэффициенты удобно использовать модуль statsmodel"
   ]
  },
  {
   "cell_type": "markdown",
   "metadata": {},
   "source": [
    ">VIF означает Variance Inflation Factor (Фактор инфляции дисперсии). Это статистическая метрика,   \n",
    ">используемая для обнаружения мультиколлинеарности (сильной корреляции) между предикторами (фичами) в линейной регрессии."
   ]
  },
  {
   "cell_type": "markdown",
   "metadata": {},
   "source": [
    ">Обычно, VIF интерпретируется следующим образом:\n",
    ">\n",
    "- VIF < 5: слабая мультиколлинеарность\n",
    "- 5 ≤ VIF < 10: умеренная мультиколлинеарность\n",
    "- VIF ≥ 10: сильная мультиколлинеарность"
   ]
  },
  {
   "cell_type": "markdown",
   "metadata": {},
   "source": [
    ">\n",
    ">Смотрим R2 (коэффициент детерминации)\n",
    "- использовать коэффициенты у регресси\n",
    ">Мы строим регрессию и смотрим, у каких метрик больше коэффициенты. Таким образом мы поймем какие метрики сильнее зависят с целевой.  \n",
    ">Важно, чтобы независимые переменные некоррелировали по отдельности и вместе (мультиколлиниарность).  \n",
    ">По отдельности смотрим матрицу корреляции.  \n",
    ">Чтобы определить коррелириуют ли вместе, береме независимые переменные,  \n",
    ">и перебираем их выбирая одну из них целевой и смотрим R2.  \n",
    ">Если R2 большой, то значит эта метрика (которая целевая на этом шаге) хорошо описывается другими и ее можно выбросить.\n",
    ">Также не забываем поправки на гетероскедостичность (HC0, HC1, HC2, HC3) в статпакетах.  \n",
    ">Нам нужно ответить на следующие вопросы\n",
    ">    - Влияет ли метрика на целевую?\n",
    ">    Оцениваем коэффициенты в уравнении регресси у каждой метрики.  \n",
    ">    - Как влияет метрика на целевую?\n",
    ">    Смотрим R2 (коэффициент детерминации). И определяем какая часть целевой переменной определяется независимыми метриками.  \n",
    ">    - Коэффициенты при метриках в уравнении статистически значим? При какаом уровне значимости?\n",
    ">    Смотрим в стат пакете p value для каждого коэффициента, что нам говорит значим ли этот коэффициент.  \n",
    ">    То есть мы не просто смотрим его абсолютное значение, а учитываем p value.   \n",
    ">    - Дайте содержательную интерпретацию коэффицентам?\n",
    ">    При увеличении метрики k на 1, целевая метрика увеличивается на $b_{k} * 1$\n",
    ">    То есть нужно перевести коэффициенты в реальное сравнение, насколько увелчисться целевая метрика при изменении определенной метрики на 1\n",
    ">    - Найдите 95 процентный доверительный интервал.\n",
    ">    В стат пакете смотрим значение и оно говорит, что если мы многократно повторим ноши вычисления с новыми данными, то 95 процентов наших  \n",
    ">    полученных коэффицентов будут лежать в этом диапазоне.  "
   ]
  },
  {
   "cell_type": "markdown",
   "metadata": {},
   "source": [
    ">Строим модель и изучаем результат  \n",
    ">`linear_regression_with_vif`"
   ]
  },
  {
   "cell_type": "code",
   "execution_count": null,
   "metadata": {},
   "outputs": [],
   "source": [
    "pagri_data_tools.linear_regression_with_vif()"
   ]
  },
  {
   "cell_type": "markdown",
   "metadata": {},
   "source": [
    ">Испльзовать коэффициенты у классификацию    \n",
    ">Строим случайный лес какие метрики сильнее всего влияют на решения модели.   \n",
    ">`plot_feature_importances_classifier`   \n",
    ">`plot_feature_importances_regression`"
   ]
  },
  {
   "cell_type": "markdown",
   "metadata": {},
   "source": [
    ">Тут нужно подумать как использовать категориальные переменные тоже   \n",
    ">Нужно их перевести в one hot encoding или подобное, чтобы также проверить силу их влияния на целевую перменную"
   ]
  },
  {
   "cell_type": "code",
   "execution_count": null,
   "metadata": {},
   "outputs": [],
   "source": [
    "titles_for_axis = dict(\n",
    "    debt = 'долга'\n",
    "    , children = 'Кол-во детей'\n",
    "    , age = 'Возраст'\n",
    "    , total_income = 'Доход'\n",
    ")\n",
    "title = 'График важности признаков для предсказания цены'\n",
    "pagri_data_tools.plot_feature_importances_classifier(df, target='debt', titles_for_axis=titles_for_axis, title=title)\n",
    "pagri_data_tools.plot_feature_importances_regression()"
   ]
  },
  {
   "cell_type": "markdown",
   "metadata": {},
   "source": [
    ">На основе полученных данных формулируем гипотезы, которые будем проверять в блоке проверки гипотез"
   ]
  },
  {
   "cell_type": "markdown",
   "metadata": {},
   "source": [
    "> используем быблиотеку `shap`, чтобы определить метрики, которые лучше других помогают предсказывать целевую перемменную"
   ]
  },
  {
   "cell_type": "markdown",
   "metadata": {},
   "source": [
    "Добавить в dash app возможность сохранять код для ячейки с фильтром (срезом данных).  \n",
    "То есть у нас есть фильтр, мы хотим посмотреть срез данных и фильтруем данные.  \n",
    "И если увидели что-то важное, то мы сохраняем код для создания графика с этими x, y, category и фильтром.  \n",
    "То есть в коде сначала будет фильтрация датафрейма и потом создание графика в 2 строки.  "
   ]
  },
  {
   "cell_type": "markdown",
   "metadata": {},
   "source": [
    "важно мы не пишем все наблюдения, а только те, которые могут быть важны для анализа, то есть мы смотрим, задаем вопросы данным и   \n",
    "и если ответ важен, то мы записываем наблюдения)"
   ]
  },
  {
   "cell_type": "markdown",
   "metadata": {},
   "source": [
    "ВАЖНО   \n",
    "Когда мы видим таблицу или график, то мы придумываем вопросы к результату.  \n",
    "Все возможные вопросы (как, почему, зачем, сколько, как долго, быстро ли, медленно ли, важно ли это, из-за чего это и прочие вопрсоы)\n",
    "И отвечая на эти вопросы мы получаем наблюдения и выводы\n",
    "И чтобы задавать правильные вопросы, мы должны сначала подумать о физике параметров, которые мы видим."
   ]
  },
  {
   "cell_type": "markdown",
   "metadata": {},
   "source": [
    "Если у нас много значений в переменной, то мы агрегируем данные и можем построить бары.  \n",
    "Но если мы агрегируем данные по переменной, в которой много значений и нам это нужно.  \n",
    "То мы не сможем построить бары, и тогда мы строим гистограмму. То есть мы берем, например, для каждой заправки считаем среднее время заправки и так как у нас много заправок,  \n",
    "но мы хотим визуализировать среднее время по ним, и не агрегировать по другому параметру, то мы можем испльзовать гистограмму.  \n",
    "В данном случае гистограмма своего рода агрегация в бины, то есть мы получаем как бы новую переменную из бинов, в каждом бине будет агрегированы данные.  \n",
    "Это работает, когда нам нужно просто посмотреть колечество, так как в бинах будет количество. Таким образом мы получаем сколько у нас заправок имеют определенное среднее вермя заправки.\n"
   ]
  },
  {
   "cell_type": "markdown",
   "metadata": {},
   "source": [
    "> Про размер графиков  \n",
    "> Стандартный размер графиков width=600, height=400  \n",
    "> Для более сложных графиков, когда требуется больше места для отображения данных, можно использовать размеры width=800, height=600 или width=1000, height=800\n"
   ]
  },
  {
   "cell_type": "markdown",
   "metadata": {},
   "source": [
    "> Сравнивать количество элементов нужно в абсолютных и относительных величинах.  \n",
    "> Когда мы сравниваем только в абсолютных величинах, мы не учитываем размеры групп.  \n",
    "> В одной группе может быть элементов больше чем в другой и тогда сравнение будет не совсем точным.  \n",
    "> Если у нас 2 категориальные переменные, то мы можем сравнивать отностельные величины  \n",
    "> по одной переменной, а можем по другой.  \n",
    "> Это как сравнивать суммарный возраст в группах, это не дает полной картины и мы сравниваем средний возраст,  \n",
    "> чтобы размер группы не влиял.\n"
   ]
  },
  {
   "cell_type": "markdown",
   "metadata": {},
   "source": [
    "> ВАЖНО\n",
    "> Анализ графиков и выводы для них должны полностью перекрывать постановку задачи и цель.  \n",
    "> Это значит, что если цель проанализировать зависимость наличия долга, то мы в идеале должны проанализировать  \n",
    "> влиянеие каждой переменной на наличие долга (числовой и категориальной)  \n",
    "> Кончено нужно проанализировать все возможные зависимости.  \n",
    "> Но все зависимости с переменной в постновке задачи мы обязаны проверить и дать выводы. И о наличии и об отсутствие.  \n",
    "> Важные выводы делаем не только о наличие интересных моментов, но и об отсутствие.\n"
   ]
  },
  {
   "cell_type": "markdown",
   "metadata": {},
   "source": [
    "> Сначала раздел графиков  \n",
    "> На основе графиков формируются гипотезы (например, у нас у мужчин зп больше)\n",
    "> И после раздела графиков идет раздел проверки гипотез. Тут мы првоеряем разные гипотезы новые и те, что увидели на графиках.  \n",
    "> Это правильная последовательность сначала изучили графики и потом на основе их сформировали гипоетзы\n",
    "> Перед разделом про графики идет раздел с корреляцией и поиском главных компонет случайного леса.  \n",
    "> Мы выбиарем переменную, для которой мы далее хотим посмотреть разыне зависимости и указываем ее целевой для сучайного леса  \n",
    "> И смотрим какие фичи сильнее влияют.  \n",
    "> И теперь можем построить графики с целевой перменно и этими главными фичами и в выводе можно указать про то что это важные компоненты случаного леса\n"
   ]
  },
  {
   "cell_type": "markdown",
   "metadata": {},
   "source": [
    "> На основе полученных данных формулируем гипотезы, которые будем проверять в блоке проверки гипотез\n"
   ]
  },
  {
   "cell_type": "markdown",
   "metadata": {},
   "source": [
    "### Изучение зависимостей между числовыми переменными\n"
   ]
  },
  {
   "cell_type": "markdown",
   "metadata": {},
   "source": [
    "> Изучаем scatter plots\n"
   ]
  },
  {
   "cell_type": "markdown",
   "metadata": {},
   "source": [
    "ВАЖНО смотрим на выбросы  \n",
    "Мы могли при изучении отдельных столбцов не заметить их, если заметили, то возвращаемся в изучение и предобработку и изучаем их дополнительно"
   ]
  },
  {
   "cell_type": "code",
   "execution_count": null,
   "metadata": {},
   "outputs": [],
   "source": [
    "titles_for_axis = dict(\n",
    "    # numeric column\n",
    "    children = 'Кол-во детей'\n",
    "    , age = 'Возраст'\n",
    "    , total_income = 'Доход'    \n",
    ")"
   ]
  },
  {
   "cell_type": "code",
   "execution_count": null,
   "metadata": {},
   "outputs": [],
   "source": [
    "pairs = {('total_images', 'last_price'): None, ('total_images', 'floors_total'): {'total_images': [-2.15, 22.45], 'floors_total': [0.51, 28.54]}, ('total_images', 'kitchen_area'): {'total_images': [-1.04, 28.44], 'kitchen_area': [-0.6, 59.26]}, ('total_images', 'parks_nearest'): {'total_images': [np.int64(0), np.int64(50)], 'parks_nearest': [np.float64(1.0), np.float64(3190.0)]}, ('total_images', 'ponds_around3000'): {'total_images': [np.int64(0), np.int64(50)], 'ponds_around3000': [np.float64(0.0), np.float64(3.0)]}, ('total_images', 'living_total_ratio'): {'total_images': [np.int64(0), np.int64(50)], 'living_total_ratio': [np.float64(0.02), np.float64(1.0)]}, ('total_images', 'kitchen_total_ratio'): {'total_images': [np.int64(0), np.int64(50)], 'kitchen_total_ratio': [np.float64(0.03), np.float64(0.79)]}, ('total_images', 'price_per_sqm'): {'total_images': [np.int64(0), np.int64(50)], 'price_per_sqm': [np.int64(7962), np.int64(1907500)]}, ('last_price', 'living_area'): {'last_price': [np.int64(430000), np.int64(763000000)], 'living_area': [np.float64(2.0), np.float64(427.55)]}}\n",
    "pagri_data_tools.pairplot_pairs(df, pairs, coloring=True, horizontal_spacing=0.12, rows=3, cols=3).show(config=dict(displayModeBar=False, dpi=200), renderer=\"png\")\n",
    "# если нужно интерактивый график, то\n",
    "pagri_data_tools.pairplot_pairs(df, pairs, coloring=True, horizontal_spacing=0.12, rows=3, cols=3)"
   ]
  },
  {
   "cell_type": "markdown",
   "metadata": {},
   "source": [
    "Чтобы в dash app выбрать нужные пары для scatterplot   \n",
    "ставим  `_gen_` в месте где хотим чтобы появились ячейки с кодом для постройки графиков      \n",
    "далее используем  `pagri_dash.scatterplot_analysis_dash`"
   ]
  },
  {
   "cell_type": "code",
   "execution_count": null,
   "metadata": {},
   "outputs": [],
   "source": [
    "_gen_ "
   ]
  },
  {
   "cell_type": "markdown",
   "metadata": {},
   "source": [
    "ВАЖНО  \n",
    "убираем лишние колонки, которые нам не нужно изучать, например, id, и другие числовые переменные, которые будут только тратить место в dash app"
   ]
  },
  {
   "cell_type": "code",
   "execution_count": null,
   "metadata": {},
   "outputs": [],
   "source": [
    "df_by_userid_month.drop(['user_id', 'messages_included'], axis=1)"
   ]
  },
  {
   "cell_type": "code",
   "execution_count": null,
   "metadata": {},
   "outputs": [],
   "source": [
    "import sys\n",
    "sys.path.append('/colab/pagri_private_modules')\n",
    "import pagri_dash\n",
    "pagri_dash.scatterplot_analysis_dash(df, \"path/to/notebook/for/save\")"
   ]
  },
  {
   "cell_type": "markdown",
   "metadata": {},
   "source": [
    "### Изучение зависимостей между категориальными переменными\n"
   ]
  },
  {
   "cell_type": "markdown",
   "metadata": {},
   "source": [
    "> Чтобы автоматически генерировались подписи осей и заголовок графика для категориальных, временных и числовых с категориальными зависимостейь\n",
    "> , нужно заполшнить такой словарь.  \n",
    "> Первый элемент списка - это подпись оси  \n",
    "> Второй элемент списка - это как это название будет отображаться в заголовке графика  \n",
    "> Для числовых столбцов также указывается род, чтобы правильно выбрать (Середнее, средний, средняя) (0 - средний род, 1 - мужской род, 2 - женский род)\n"
   ]
  },
  {
   "cell_type": "markdown",
   "metadata": {},
   "source": [
    "ВАЖНО построить распределение количества по категориальным переменным без разбивки по другим категориям.  \n",
    "То есть например, посмотреть количество новых пользователей по месяцам, по кородам и так далее.  \n",
    "И так все количества, и не только категориальные.  \n",
    "Это важно, так как по этим графикам будет видна общая динамика без разбивки на категории.  \n",
    "И плюс всякие user_id и прочее в dash app не отображается, поэтому нужно это изучить отдельно.  "
   ]
  },
  {
   "cell_type": "markdown",
   "metadata": {},
   "source": [
    "ВАЖНО  \n",
    "Добавить возможность выбирать 1 col и 2 cols  как это в app dash числовые и категориальные  \n",
    "Так как часто полезно посмотреть на распределение количества только в одной категории."
   ]
  },
  {
   "cell_type": "code",
   "execution_count": null,
   "metadata": {},
   "outputs": [],
   "source": [
    "f'Среднее / Медианное / Суммарное {numeric} в зависимости от {category} и {category}'  "
   ]
  },
  {
   "cell_type": "markdown",
   "metadata": {},
   "source": [
    "ВАЖНО  \n",
    "titles_for_axis далее будет один для всех разделов  \n",
    "поэтому если нужно добавить, то возвращаемся и добавляем сюда, чтобы была одна переменная"
   ]
  },
  {
   "cell_type": "markdown",
   "metadata": {},
   "source": [
    "Сормируем словарь для подписей осей и названий графиков."
   ]
  },
  {
   "cell_type": "code",
   "execution_count": null,
   "metadata": {},
   "outputs": [],
   "source": [
    "titles_for_axis = dict(\n",
    "    # numeric column ['Именительный падеж', 'мменительный падеж с маленькой буквы', 'род цифорой']\n",
    "    # (0 - средний род, 1 - мужской род, 2 - женский род[) (Середнее образовние, средний доход, средняя температура) )\n",
    "    # для функций count и nunique пишем - Количество <чего / кого количество> - и также с маленькой буквы, цифра 0 в качестве рода\n",
    "    age = ['Возраст', 'возраст', 1]\n",
    "    , using_duration = ['Длительность использования', 'длительность использования', 2]\n",
    "    , mb_used = ['Объем интернет трафика', 'объем интернет трафика', 1]\n",
    "    , revenue = ['Выручка', 'выручка', 2]\n",
    "    # categorical column ['Именительный падеж', 'для кого / чего', 'по кому чему']\n",
    "    # Распределение долей по городу и тарифу с нормализацией по городу\n",
    "    , city = ['Город', 'города', 'городу']\n",
    "    , tariff = ['Тариф', 'тарифа', 'тарифу']\n",
    "    , is_active = ['активный ли клиент', 'активности клиента', 'активности клиента']\n",
    ")"
   ]
  },
  {
   "cell_type": "markdown",
   "metadata": {},
   "source": [
    "Важно когда мы смотрем очередной график, то задавать не только вопросы к данным, но и думать как можно отфильтровать  \n",
    "данные, чтобы сделать дополнительные полезные выводы.  \n",
    "То есть мы фильтруем данные и потом эти графики поместим в раздел с анализом срезов.  "
   ]
  },
  {
   "cell_type": "markdown",
   "metadata": {},
   "source": [
    "Чтобы в dash app выбрать нужные пары для scatterplot   \n",
    "ставим  `_gen_` в месте где хотим чтобы появились ячейки с кодом для постройки графиков      \n",
    "далее используем  `pagri_dash.scatterplot_analysis_dash`"
   ]
  },
  {
   "cell_type": "code",
   "execution_count": null,
   "metadata": {},
   "outputs": [],
   "source": [
    "_gen_ "
   ]
  },
  {
   "cell_type": "markdown",
   "metadata": {},
   "source": [
    "Как правильно писать выводы для нормализации по col и row:\n",
    "В dash app нормализация идет по значениям в легенде,   \n",
    "Например, у нас по index - город, а по столбцам - тарифы.\n",
    "- нормализация по index (в dash будет row)  \n",
    "При нормализации по индексам вы получаете долю пользователей каждого тарифа в каждом городе относительно общего числа пользователей в этом городе.\n",
    "то есть если по оси город, а в легенде название тарифа, то нормализация будет по тарифам.  \n",
    "И мы сравниваем \n",
    "А если в легенде город, то нормализация идет по городам, и мы сравниваем по городам.  \n",
    "И можно сделать такие выводы  \n",
    "    - В Москве 60% пользователей выбирают тариф \"Ультра\", что указывает на его популярность среди москвичей.\n",
    "    - В Санкт-Петербурге 70% пользователей предпочитают тариф \"Смарт\", что может говорить о том, что данный тариф более привлекателен для жителей этого города.\n",
    "то ессть при нормализации по городу, мы получаем долю пользователей тарифа в городе.  \n",
    "- нормализация по столбцам (в dash будет col)  \n",
    "При нормализации по столбцам вы получаете долю пользователей каждого города для каждого тарифа относительно общего числа пользователей, выбравших этот тариф.\n",
    "А когда мы нормализуем по тарифу, то мы получаем долю пользователей города в тарифе.      \n",
    "    - Из всех пользователей, выбравших тариф \"Ультра\", 40% приходятся на Москву, что может указывать на то, что этот тариф пользуется спросом именно в этом городе.\n",
    "    - Из всех пользователей, выбравших тариф \"Смарт\", 50% находятся в Санкт-Петербурге, что может свидетельствовать о том, что данный тариф более популярен среди петербуржцев.\n",
    "- Нормализация по всем значениям (в dash all)    \n",
    "При нормализации по всем значениям вы получаете долю пользователей каждого тарифа в каждом городе относительно общего числа пользователей всех тарифов в обоих городах.\n",
    "    - В общем числе всех пользователей (Москва и Санкт-Петербург) 30% выбирают тариф \"Ультра\", что может указывать на его общую популярность.\n",
    "    - Тариф \"Смарт\" составляет 20% от общего числа пользователей, что показывает, что он менее популярен по сравнению с тарифом \"Ультра\" на уровне всей выборки."
   ]
  },
  {
   "cell_type": "markdown",
   "metadata": {},
   "source": [
    "Сначала смотрим 1_cat, чтобы записать распределение по 1 категории.  \n",
    "Не забываем делеть swap_cols чтобы изучить обе категориальные переменные.  \n",
    "Записываем, если есть различия в долях в категории.  "
   ]
  },
  {
   "cell_type": "code",
   "execution_count": null,
   "metadata": {},
   "outputs": [],
   "source": [
    "import sys\n",
    "sys.path.append('/colab/pagri_private_modules')\n",
    "import pagri_dash\n",
    "pagri_dash.category_analysis_dash(df, 'df', \"path/to/notebook/for/save\")"
   ]
  },
  {
   "cell_type": "markdown",
   "metadata": {},
   "source": [
    "> Строим матрицу тепловой карты для категориальных переменных и изучаем зависимости  \n"
   ]
  },
  {
   "cell_type": "markdown",
   "metadata": {},
   "source": [
    "Чтобы в dash app выбрать нужные пары для scatterplot   \n",
    "ставим  `_gen_` в месте где хотим чтобы появились ячейки с кодом для постройки графиков      \n",
    "далее используем  `pagri_dash.scatterplot_analysis_dash`"
   ]
  },
  {
   "cell_type": "code",
   "execution_count": null,
   "metadata": {},
   "outputs": [],
   "source": [
    "_gen_ "
   ]
  },
  {
   "cell_type": "code",
   "execution_count": null,
   "metadata": {},
   "outputs": [],
   "source": [
    "import sys\n",
    "sys.path.append('/home/pagri/git_repos/pagri_private_modules')\n",
    "import pagri_dash\n",
    "pagri_dash.categorical_heatmap_matrix_dash(df, 'df', \"/home/pagri/git_repos/pagri-projects/quarto/projects/housing-ads-investigation/temp.ipynb\")"
   ]
  },
  {
   "cell_type": "markdown",
   "metadata": {},
   "source": [
    "> Посмотрим на распределение количества элементов между группами\n"
   ]
  },
  {
   "cell_type": "markdown",
   "metadata": {},
   "source": [
    "> Нужно подумать как отобразить не только процент от всего количества, но и пороцент в группе  \n",
    "> То есть у нас есть значение в ячейке, сумма всех, сумма по категории на оси x и сумма по категории на оси Y  \n",
    "> Вот нужно как-то отобразить процент от суммы, процент от одной категории и от другой категории\n"
   ]
  },
  {
   "cell_type": "code",
   "execution_count": null,
   "metadata": {},
   "outputs": [],
   "source": [
    "12 (0.5% of total, 20% of row, 15% of col) "
   ]
  },
  {
   "cell_type": "markdown",
   "metadata": {},
   "source": [
    "> Можно сделать кнопки, чтобы можно было подсветку делать внури колонок и строк\n"
   ]
  },
  {
   "cell_type": "markdown",
   "metadata": {},
   "source": [
    "> Можно сделать кнопки (процент от общего) (процент от тут указывается название оси x) (аналогично для второй оси)\n"
   ]
  },
  {
   "cell_type": "code",
   "execution_count": null,
   "metadata": {},
   "outputs": [],
   "source": [
    "pagri_data_tools.categorical_graph_analys_gen()"
   ]
  },
  {
   "cell_type": "markdown",
   "metadata": {},
   "source": [
    "> Строим treemap  \n",
    "> `treemap`  \n",
    "> `treemap_dash`\n",
    ">\n",
    "> ```\n",
    "> app = treemap_dash(df)\n",
    "> if __name__ == '__main__':\n",
    ">    app.run_server(debug=True)\n",
    "> ```\n"
   ]
  },
  {
   "cell_type": "code",
   "execution_count": null,
   "metadata": {},
   "outputs": [],
   "source": [
    "pagri_data_tools.treemap()"
   ]
  },
  {
   "cell_type": "code",
   "execution_count": null,
   "metadata": {},
   "outputs": [],
   "source": [
    "app = pagri_data_tools.treemap_dash(df)\n",
    "if __name__ == '__main__':\n",
    "    app.run_server(debug=True)"
   ]
  },
  {
   "cell_type": "markdown",
   "metadata": {},
   "source": [
    "> Строим parallel_categories  \n",
    "> `parallel_categories `  \n",
    "> `parallel_categories_dash `\n",
    ">\n",
    "> ```\n",
    "> app = treemap_dash(df)\n",
    "> if __name__ == '__main__':\n",
    ">    app.run_server(debug=True)\n",
    "> ```\n"
   ]
  },
  {
   "cell_type": "code",
   "execution_count": null,
   "metadata": {},
   "outputs": [],
   "source": [
    "pagri_data_tools.parallel_categories()"
   ]
  },
  {
   "cell_type": "code",
   "execution_count": null,
   "metadata": {},
   "outputs": [],
   "source": [
    "app = pagri_data_tools.parallel_categories_dash(df)\n",
    "if __name__ == '__main__':\n",
    "    app.run_server(debug=True)"
   ]
  },
  {
   "cell_type": "markdown",
   "metadata": {},
   "source": [
    "> Строим Sankey  \n",
    "> `sankey `  \n",
    "> `sankey_dash`\n",
    ">\n",
    "> ```\n",
    "> app = treemap_dash(df)\n",
    "> if __name__ == '__main__':\n",
    ">    app.run_server(debug=True)\n",
    "> ```\n"
   ]
  },
  {
   "cell_type": "code",
   "execution_count": null,
   "metadata": {},
   "outputs": [],
   "source": [
    "pagri_data_tools.sankey()"
   ]
  },
  {
   "cell_type": "code",
   "execution_count": null,
   "metadata": {},
   "outputs": [],
   "source": [
    "app = pagri_data_tools.sankey_dash(df)\n",
    "if __name__ == '__main__':\n",
    "    app.run_server(debug=True)"
   ]
  },
  {
   "cell_type": "markdown",
   "metadata": {},
   "source": [
    "### Изучение зависимостей между числовыми и категориальными переменными\n"
   ]
  },
  {
   "cell_type": "markdown",
   "metadata": {},
   "source": [
    "добавить слайдер как доп переменную и анимация будет сразу"
   ]
  },
  {
   "cell_type": "code",
   "execution_count": null,
   "metadata": {},
   "outputs": [],
   "source": [
    "df = px.data.gapminder()\n",
    "\n",
    "fig = px.bar(df, x=\"continent\", y=\"pop\", color=\"continent\",\n",
    "  animation_frame=\"year\", animation_group=\"country\", range_y=[0,4000000000], width=900, height=500)\n",
    "fig.show()"
   ]
  },
  {
   "cell_type": "markdown",
   "metadata": {},
   "source": [
    "Важно когда мы смотрем очередной график, то задавать не только вопросы к данным, но и думать как можно отфильтровать  \n",
    "данные, чтобы сделать дополнительные полезные выводы.  \n",
    "То есть мы фильтруем данные и потом эти графики поместим в раздел с анализом срезов.  "
   ]
  },
  {
   "cell_type": "markdown",
   "metadata": {},
   "source": [
    "> Можно добавить кнопку среднее и количество  \n",
    "> Чтобы можно было посмотртеть распределение по количеству, когда смотрить среднее.\n"
   ]
  },
  {
   "cell_type": "code",
   "execution_count": null,
   "metadata": {},
   "outputs": [],
   "source": [
    "_gen_ "
   ]
  },
  {
   "cell_type": "markdown",
   "metadata": {},
   "source": [
    "Добавить в hover количество элементов в группе,  \n",
    "чтобы понимать размер группы."
   ]
  },
  {
   "cell_type": "markdown",
   "metadata": {},
   "source": [
    "Добавить возможность перескакивать комбинации.  \n",
    "Если много колонок, то комбинаций очень много и часть может быть просто не нужна для анализа.  "
   ]
  },
  {
   "cell_type": "markdown",
   "metadata": {},
   "source": [
    "Изучаем следующим образом  \n",
    "- смотрим на график и определяем есть ли взаимодейсвие (то есть отличаются ли значения в разных группах, это будет видно как разная высота баров)\n",
    "- если разницы в барах нет, или она минимальная, то сразу можно пропускать\n",
    "- если разница есть, то думаем важна ли для нас ээта комбинация столбцов\n",
    "- если нет, то пропускаем\n",
    "- если да, то пишем наблюдения и сохраняем"
   ]
  },
  {
   "cell_type": "markdown",
   "metadata": {},
   "source": [
    "Не забываем смотреть 1_cat чтобы изучить отдельную категорию.  \n",
    "То есть график появлился, смотрим на обе категории и на числовую переменную и думаем, нужно ли нам по отдельности изучить  \n",
    "каждую категориальную переменную c числовой. Если уже изучили, то не изучаем.\n",
    "Нужно подумать как сохранять уже изученые комбинации, чтобы не повторяться (может в dash app добавить всплывающее окно, для графиков, для которых уже был вывод, что уже было)"
   ]
  },
  {
   "cell_type": "markdown",
   "metadata": {},
   "source": [
    "ВАЖНО  \n",
    "Если много переменных, и не все они нужны для анализа,  \n",
    "то смотрим df.columns, выбираем нужные и в dash передаем датафрейм с нужными колонками."
   ]
  },
  {
   "cell_type": "markdown",
   "metadata": {},
   "source": [
    "ВАЖНО  \n",
    "не забываем смотреть sum для переменных типа выручки"
   ]
  },
  {
   "cell_type": "markdown",
   "metadata": {},
   "source": [
    "ВАЖНО  \n",
    "id это такая же числовая переменная, как и все остальные, но ее нужно аггрегировать, используя  \n",
    "`count` и `nunique`"
   ]
  },
  {
   "cell_type": "code",
   "execution_count": null,
   "metadata": {},
   "outputs": [],
   "source": [
    "import sys\n",
    "sys.path.append('/home/pagri/git_repos/pagri_private_modules')\n",
    "import pagri_dash\n",
    "pagri_dash.numeric_category_analysis_dash(df, 'df', \"/home/pagri/git_repos/pagri-projects/quarto/projects/housing-ads-investigation/temp.ipynb\")"
   ]
  },
  {
   "cell_type": "markdown",
   "metadata": {},
   "source": [
    "### Анализ временных зависимостей\n"
   ]
  },
  {
   "cell_type": "markdown",
   "metadata": {},
   "source": [
    "Проходим и из предыдущих разделов копируем все графики с временными переменными и вставляем сюда."
   ]
  },
  {
   "cell_type": "markdown",
   "metadata": {},
   "source": [
    "Когда мы хотим изучить верменную зависимость, то нам нуно создать новые переменные с обрезанными (trunc or round) значениям, чтобы можно было сгруппировать используя groupby or pivot_table  \n",
    "по этой обрезанной переменной и применить функцию агрегации и построить график, например, среднее время заправки на азс по часам.  \n",
    "Вот когда мы работаем с временем, нам нужно думать какие переменные создать, обрезая текущее время.\n"
   ]
  },
  {
   "cell_type": "markdown",
   "metadata": {},
   "source": [
    "> Строим когортный анализ, если есть возможность\n"
   ]
  },
  {
   "cell_type": "markdown",
   "metadata": {},
   "source": [
    "> Если у нас есть даты, то мы можем посмотреть не просто абсолютные значения на каждую дату какой-то метрики,  \n",
    "> а посмотреть относительные значения относительно предыдущего значения.  \n",
    "> Для этого нужно составить таблицу, в которой будет изменение в процентах относительно предыдущего значения.  \n",
    "> И затем визуализировать для каждой даты динамику этого показателя\n"
   ]
  },
  {
   "cell_type": "markdown",
   "metadata": {},
   "source": [
    "### ВАЖНО"
   ]
  },
  {
   "cell_type": "markdown",
   "metadata": {},
   "source": [
    "- Берем все датафреймы, которые анализировали.  \n",
    "- И по очереди выводим все колонки, с указанием категориальная, числовая или другая.  \n",
    "- Собираем все выводы от графиков. \n",
    "- И внимательно думаем, какие зависимости мы пропустили.  \n",
    "- Строим их"
   ]
  },
  {
   "cell_type": "code",
   "execution_count": null,
   "metadata": {},
   "outputs": [],
   "source": [
    "df_by_userid_month.dtypes"
   ]
  },
  {
   "cell_type": "markdown",
   "metadata": {},
   "source": [
    "### Анализ срезов данных "
   ]
  },
  {
   "cell_type": "markdown",
   "metadata": {},
   "source": [
    "ВАЖНО  \n",
    "если у нас по условию задачи нужно сравнить что-то, то нужно построить наложенные гистограамы (в виде каги) каждой категории.  \n",
    "То есть если мы сравниваем тарифы, то нужно наложить гистограммы выручки, количества сообщений, звонков, гигабайт и так далее.  \n",
    "Таким образом мы не только сравниваем аггрегирующие метрики на графике, разбивая метрику по категории, но и   \n",
    "строим накладывающиеся гистограммы по каждой категории. Это очено важно, так как дает более глубокое сравнение.  "
   ]
  },
  {
   "cell_type": "markdown",
   "metadata": {},
   "source": [
    "Вообще если есть время, то в идеале построить накладывющиеся гистограммы для всех важных числовых метрик по всем важным категориям.  \n",
    "То есть берем метрику и категориальную переменную и строим гистограмму.  \n",
    "Нужно сделать отдельную функцию.  "
   ]
  },
  {
   "cell_type": "markdown",
   "metadata": {},
   "source": [
    "ВАЖНО  \n",
    "Если у нас есть странные значения, например нулевая длительность звонков, или что-то подобное,   \n",
    "то это также является срезом, который нужно изучить. Не только при предобработке, когда мы смотрели это по категориям.  \n",
    "Тут мы не только смотрим по категориям на графиках, но ещё и смотрим все метрики и графики для этого среза или срезов.  \n",
    "Таким образом выбросы, пропуски и любые аномальные занчения, которые можно объеденить в группу, являются срезом.  \n",
    "И этот срез нужно отдельно изучить, построив все графики, которые строили для общего датафрейма.  "
   ]
  },
  {
   "cell_type": "markdown",
   "metadata": {},
   "source": [
    "Срезы нужно обязательно сравнить со всем датафреймом.  \n",
    "То есть мы например, изучили центр города и нужно сделать выводы основываясь на сравнении центра и всего города."
   ]
  },
  {
   "cell_type": "markdown",
   "metadata": {},
   "source": [
    "Нужно создать 2 генератора и параллельно идти, чтобы сначала выводился срез, а потом уже целый датафрейм.  \n",
    "Тут наша задача не изучать выбросы, дубли и прочее.  \n",
    "Тут задача найти отличия среза от всего датафрейма."
   ]
  },
  {
   "cell_type": "markdown",
   "metadata": {},
   "source": [
    "Возможно лучше прйти все колонки так попарно, а потом выбрать только те, которые имеют отличия.  \n",
    "И построить только их."
   ]
  },
  {
   "cell_type": "markdown",
   "metadata": {},
   "source": [
    "Срезы нужны не только чтобы изучить отдельно часть данных, важно сравнивать срез со всем датафреймом.  \n",
    "Нужно подумать какие срезы будет полезно сравнить со всем датафреймом.  \n",
    "И провести сравнительный анализ. И поместить в отчет то, что имеет отличия и важно для выводов."
   ]
  },
  {
   "cell_type": "markdown",
   "metadata": {},
   "source": [
    "Часто когда есть пользователи, то нужно изучить срезы активные и не активные пользователи.  \n",
    "И постараться понять что отличает не активных.  "
   ]
  },
  {
   "cell_type": "markdown",
   "metadata": {},
   "source": [
    "сделать приложение dash чтобы можно было выбирать колонки для анализа,  \n",
    "чтобы можно было фильтровать по всем категориальным переменным,  \n",
    "чтобы были слайдеры для фильтрации по числовым переменным,\n",
    "чтобы можно было выбирать типы графиков и строить разные графики.  \n",
    "Это не генератор, а это для ad-hoc анализа.   \n",
    "То есть мы подумали что интересно будет изучить этот срез и эти переменные и изучили.  \n",
    "А потом можно подумать как это автоматиировать, чтобы в цикле строились нужные графики.  "
   ]
  },
  {
   "cell_type": "markdown",
   "metadata": {},
   "source": [
    "Анализ срезов состоит из анализа срезов из одного значения, то есть мы выбираем конкретное значени и по  нему фильтруем.  \n",
    "и анализа срезов из нескольких переменных, когда мы выбираем несколько значений для среза или даже несколько переменных и в них выбираем определенные значения.  "
   ]
  },
  {
   "cell_type": "markdown",
   "metadata": {},
   "source": [
    "Анализ срезов по одному значению мы просто фильтруем по нему и смотрим результат функции `info_gen` или 'info_column'  "
   ]
  },
  {
   "cell_type": "markdown",
   "metadata": {},
   "source": [
    "А анализ срезво по нескольким значениям или переменным будет результатом анализа графиков в dash app.  \n",
    "То есть мы в процессе анализа фильтруем данные и после работы в dahs app мы фильтрованные графики помещаюем в этот раздел.  \n",
    "Чтобы разделить срезы и полный анализ.  "
   ]
  },
  {
   "cell_type": "markdown",
   "metadata": {},
   "source": [
    "ВАЖНО  \n",
    "Чтобы изучить активных и неактивных пользователей, нужно создать признак 'is_acitve'  \n",
    "И внимательно посмотреть на графики с временными зависимостями, где во времени идет сранвение по 'is_active'  \n",
    "Таким образом мы как бы посмотрим в прошлое, как вели себя пользователи, которые стали неактивными, и как вели себя активные пользователи"
   ]
  },
  {
   "cell_type": "markdown",
   "metadata": {},
   "source": [
    "Нужно подумать как лучше изучать срезы.  \n",
    "В данном разделе лучше изучить срезы отдельных значений, то есть отдельный город, отдельный пол и прочее.  \n",
    "То есть мы фильтруем по одному значению и его изучаем в функцией `info`  \n",
    "А изучение срезов данных, которые состоят из набора значений (например изучить цену в топ 10 городах), это уже будет сделано  \n",
    "в анализе графиков.  "
   ]
  },
  {
   "cell_type": "markdown",
   "metadata": {},
   "source": [
    "Тут мы изучаем подготовленный набор данных в разрезе разных категориальных переменных.  \n",
    "Задача посмотреть на отдельные срезы и найти закономерности в данных.  "
   ]
  },
  {
   "cell_type": "markdown",
   "metadata": {},
   "source": [
    "Например у нас есть данные о продажах квартир, мы создали новые категориальные перменные, обогатили данные  \n",
    "И теперь хотим посмотреть какое распределение цены только в центре, или какая площадь квартир возле парков и прочее.  \n",
    "То есть мы тут изучаем отдельно переменные в разрезе категорий, то есть строим срезы.  \n",
    "ВАжно, что тут мы изучаем отедльные переменные, срезы в зависимостях переменных будем строить в разаделе визуализации. "
   ]
  },
  {
   "cell_type": "markdown",
   "metadata": {},
   "source": [
    "Определить цель. Прежде чем начинать анализ срезов, важно четко определить, какие вопросы вы хотите ответить или какие гипотезы хотите проверить. Это может включать:\n",
    "- Сравнение различных групп (например, по возрасту, полу, региону).\n",
    "- Изучение влияния определенных факторов на целевую переменную.\n",
    "- Выявление аномалий или неожиданных паттернов в данных."
   ]
  },
  {
   "cell_type": "markdown",
   "metadata": {},
   "source": [
    "Выбор переменных для срезов. Выберите переменные, по которым вы хотите сделать срезы. Это могут быть как категориальные, так и количественные переменные. Примеры:\n",
    "- Категориальные переменные: пол, категория товара, регион, уровень образования.\n",
    "- Количественные переменные: возраст, доход, количество покупок (то есть мы можем просто взять срез с зарплатой до 100 тысяч и прочее, не обязательно иметь категорию для создания срезов, причем у нас может быть категория доходов, но срез мы можем взять в другом диапазоне)."
   ]
  },
  {
   "cell_type": "markdown",
   "metadata": {},
   "source": [
    "Важно когда мы выбрали параметры по которым хотим сделать срез, то далее нужно выбрать условие по которому мы будем создавать срез.  \n",
    "Срез это фильтрация или группировка, то есть должна быть либо функция аггрегации или значения по которым мы будем фильтровть.  \n",
    "Например мы для среза выбрали параметр города. Теперь нам нужно отобрать города для среза.  \n",
    "Мы выбираем параметр количество объявлений (все зависит от цели, можно было выбрать и количество населения, значение других параметров, все что поможет нам создать топ)\n",
    "И далее по нему фильтруем или аггрегируем.  "
   ]
  },
  {
   "cell_type": "markdown",
   "metadata": {},
   "source": [
    "Срезы данных можно создавать различными способами. Вот несколько подходов:\n",
    "- Фильтрация данных: Используйте условия для выбора подмножеств данных.  \n",
    "Например, выберите только тех клиентов, которые находятся в определенном регионе или имеют доход выше определенного порога.  \n",
    "- Группировка данных: Используйте функции группировки (например, groupby в pandas для Python) для агрегирования данных по выбранным переменным.   \n",
    "Это позволяет вам получить сводные статистики по группам.\n",
    "- Кросс-табуляция: Для категориальных переменных создайте кросс-таблицы, чтобы увидеть взаимосвязи между переменными."
   ]
  },
  {
   "cell_type": "markdown",
   "metadata": {},
   "source": [
    "Анализ срезов. После создания срезов данных проведите анализ:\n",
    "- Статистический анализ: Рассчитайте основные статистики (среднее, медиана, стандартное отклонение) для каждой группы или среза. Это поможет вам понять, как различаются группы по ключевым показателям.\n",
    "- Визуализация: Постройте графики для визуального представления данных. Это могут быть:  \n",
    "Гистограммы для распределения количественных переменных.  \n",
    "Столбчатые графики для сравнения категориальных переменных.  \n",
    "Ящики с усами (boxplots) для визуализации разброса и выявления аномалий.  \n",
    "- Сравнительный анализ: Сравните срезы между собой. Например, как различается средний доход мужчин и женщин или как меняется поведение клиентов в зависимости от региона."
   ]
  },
  {
   "cell_type": "markdown",
   "metadata": {},
   "source": [
    "Если мы для среза выбрали одно значение (например конкретный город), то мы просто посмотреть результат функции`info` и проанализировать его  \n",
    "Но если мы выбрали для среза набор значений, то нам нужно уже построить графики для сравнения стат параметров или других аггреигующих параметров  \n",
    "для каждого занчения в срезе. То есть нам нужно выбрать параметры по которым мы будем сравнивать значения в срезе.  "
   ]
  },
  {
   "cell_type": "markdown",
   "metadata": {},
   "source": [
    "Фильруем датасет по определенному значению и далее либо изучаем по отедльным столбцам, либо по всем испоьзуя генератор"
   ]
  },
  {
   "cell_type": "markdown",
   "metadata": {},
   "source": [
    "То есть мы изучаем срез по одному значению"
   ]
  },
  {
   "cell_type": "markdown",
   "metadata": {},
   "source": [
    "Созадем 2 генератора (или больше, если хотим сравнить несколько срезов), для среза и всего датафрейма и идем изучаем их вместе.  "
   ]
  },
  {
   "cell_type": "markdown",
   "metadata": {},
   "source": [
    "Нужно сделать отдельный генератор, чтобы в нем не было информации про пропуски, нули и прочее,   \n",
    "И организовать так, чтобы было удобно сравнивать.  \n",
    "Также гистограммы нужно сделать на одном графике, чтобы накладывлись друг на друга и сделать прозрачность.    \n",
    "Это очень удобно и если гистограммы будут накладываться друг на друга, то можно будет увидеть сразу отличия средних и мод на графике.    \n",
    "В идеале сделать, чтобы были не столбцы, а типа каги, то есть линия со ступеньками, так удобнее сравнивать гистограммы. "
   ]
  },
  {
   "cell_type": "markdown",
   "metadata": {},
   "source": [
    "ОЧЕНЬ ВАЖНО  \n",
    "- в наблюдения пишем обязательно диапазон значений столбца.  \n",
    "Рынок жилья представлен объектами общей площадью от 12 до 900 кв.м. \n",
    "- пишем медианное занчение и по гистограмме и по квантилям определяем оснвоной диапазон.  \n",
    "В основном это жилье от 30 до 100 кв.м. с пиком в сегменте 30-75 кв.м  \n",
    "Это все нужно, чтобы потом сформулировать вот такой вывод (в оснвоном выводе отчета), то есть мы для разных столбцов пишем диапазоны,  \n",
    "основной дипазаон, медианы, моды, а потом уже собираем это в 1 или несколько выводов,  \n",
    "Например.  \n",
    "Рынок жилья представлен объектами общей площадью от 12 до 900 кв.м. В основном это жилье от 30 до 100 кв.м. с пиком в сегменте 30-75 кв.м. В жилой площади квартиры преобладает диапазон 15-50 кв.м. Размер площади кухни-от 5 до 15 кв.м., с пиком 9 кв.м. Это стандартные небольшие квартиры эконом-класса. Подавляющее большинство квартир- 1-3 комнатные, с высотой потолка 2,6-2,7 м., но встречаются редкие варианты до 19 комнат и высотой потолка до 20 кв.м. (либо ошибка, либо свободная планировка с возможностью многоуровневости).\n"
   ]
  },
  {
   "cell_type": "markdown",
   "metadata": {},
   "source": [
    "В итоге мы сраним диапазоны, моды, медианы в срезе и во всем датафйреме.  \n"
   ]
  },
  {
   "cell_type": "markdown",
   "metadata": {},
   "source": [
    "Было бы идеально определить отличия в срезе и в общей картине, не просто сухими цифрами,  \n",
    "а собрать все наблюдения вместе и расписать это в подобном виде-   \n",
    "Рынок недвижимости центральной части города представлен несколько более широким по площади диапазоном : основная масса- это жилье от 30 до 150 кв.м с пиком в сегменте 45-80 кв.м. При этом жилая площадь занимает большую долю, чем среднестатистическая квартира: в центре СПб большое количество домов старой застройки, в которой пространство \"сдвинуто\" в пользу жилой площади. Особенностью этой части города является то, что большинство квартир, предлагаемых на продажу,- 2-3 комнатные: здесь в общей массе достаточно низкая доля 1-комнатного жилья и выше доля 4-комнатных квартир. Наибольшее количество предложений в абсолютном выражении (цена за объект) приходится на диапазон 5-15 млн.руб. с пиком 5-8 млн.руб.(маленькие квартиры эконом-класса), но есть и уникальные объекты стоимостью до 35 млн.руб. Стоимость квадратного метра недвижимости в основном варьируется от 70 до 150 тыс.руб. с пиком в 100 тыс.руб. Наряду с типовыми предложениями на продажу выставлено жилье со стоимостью 1 кв.м. до 266 тыс.руб за кв.м. В целом цены жилья центра города выше по цене, чем аналогичное в других районах."
   ]
  },
  {
   "cell_type": "code",
   "execution_count": null,
   "metadata": {},
   "outputs": [],
   "source": [
    "df_sliced = df[df.location_zone == 'Центр']\n",
    "gen_slice = pagri_data_tools.info_gen(df_sliced)\n",
    "gen = pagri_data_tools.info_gen(df)"
   ]
  },
  {
   "cell_type": "code",
   "execution_count": null,
   "metadata": {},
   "outputs": [],
   "source": [
    "next(gen_slice)\n",
    "next(gen)"
   ]
  },
  {
   "cell_type": "markdown",
   "metadata": {},
   "source": [
    "Если есть что-то важное и есть отличия, по которым можно сделать выводы, то строим отдельно в отчет"
   ]
  },
  {
   "cell_type": "code",
   "execution_count": null,
   "metadata": {},
   "outputs": [],
   "source": [
    "print('Центр города')\n",
    "pagri_data_tools.info_column(df_sliced, 'last_price')\n",
    "print('Весь датафрейм')\n",
    "pagri_data_tools.info_column(df, 'last_price')"
   ]
  },
  {
   "cell_type": "markdown",
   "metadata": {},
   "source": [
    "**Наблюдения:**  \n",
    "- пишем тут наблюдения"
   ]
  },
  {
   "cell_type": "markdown",
   "metadata": {},
   "source": [
    "ВАЖНО  \n",
    "Сравниваем не только отдельные столбцы с общей картиной.  \n",
    "Нужно взять срез и посмотреть на корреляцию, зависимости между числовыми, категориальными и т.д.  \n",
    "Как это делали для всего датафрейма, только в укороченной версии, то есть можно взять общей картины, что мы нашли интересного  \n",
    "(то есть взять названия столбцов) и посмотреть на эти же графики, но уже в срезах.  \n",
    "Если есть время, то можно и полностью прогнать все необходимые срезы по всем столбцам как для всего датафрейма.  "
   ]
  },
  {
   "cell_type": "markdown",
   "metadata": {},
   "source": [
    "Полезно изучить топ определенного столбца.  \n",
    "То есть нам нужно выбрать параметр по которому мы отберем топ значений для категорий.  \n",
    "Затем выбрать параметр для которого мы будем считать топ значений (числовая переменная)\n",
    "И построить топ.  \n",
    "Например, топ цен квартир в 10 городах с максимальным количеством объявлений.  \n"
   ]
  },
  {
   "cell_type": "code",
   "execution_count": null,
   "metadata": {},
   "outputs": [],
   "source": [
    "selected_cities = df.groupby('locality_name').size().rename('count').sort_values(ascending=False).to_frame().head(10)\n",
    "selected_cities"
   ]
  },
  {
   "cell_type": "code",
   "execution_count": null,
   "metadata": {},
   "outputs": [],
   "source": [
    "selected_cities = selected_cities.index"
   ]
  },
  {
   "cell_type": "code",
   "execution_count": null,
   "metadata": {},
   "outputs": [],
   "source": [
    "config = dict(\n",
    "    df = df[df.locality_name.isin(selected_cities)]\n",
    "    , x = 'locality_name'\n",
    "    , x_axis_label = 'Название населённого пункта'\n",
    "    , y = 'price_per_sqm'\n",
    "    , y_axis_label = 'Цена квадратного метра'\n",
    "    , title = 'Цена кв метра в зависимости от населенного пункта'\n",
    "    , func = 'mean'\n",
    "    , width = None\n",
    "    , height = None\n",
    "    , orientation = 'v'\n",
    ")\n",
    "pagri_data_tools.bar(config)"
   ]
  },
  {
   "cell_type": "markdown",
   "metadata": {},
   "source": [
    "### Когортный анализ\n"
   ]
  },
  {
   "cell_type": "markdown",
   "metadata": {},
   "source": [
    "> Не забывать про когортный анализ. Если у нас есть параметр, по которому мы можем наши данные разбить на когорты, то  \n",
    "> нужно разложить на когорты и посмотреть динамику по когортам.  \n",
    "> Когорты это например, пользователи пришедшие в одни день или месяц.  \n",
    "> Если мы объеденим пользователей в когорты и посмотрим динамику какого-то параметра по месяцам например, то увидим как изменяется.  \n",
    "> Тут также нужно помнить, что если значение например за 3 месяц больше значения за 4 месяц, то это ничего не значит само по себе.  \n",
    "> Так как мы имеем дело с выборкой, то нам нужно проверить статистически значимая это разница.  \n",
    "> Тут нам понядобятся стат тесты.\n"
   ]
  },
  {
   "cell_type": "code",
   "execution_count": null,
   "metadata": {},
   "outputs": [],
   "source": [
    "cohort_analysis = users.merge(\n",
    "    calls.groupby(['user_id', pd.Grouper(key='call_date', freq='M')]).agg({\n",
    "        'duration': 'sum',\n",
    "        'id': 'count'\n",
    "    }),\n",
    "    on='user_id'\n",
    ")"
   ]
  },
  {
   "cell_type": "markdown",
   "metadata": {},
   "source": [
    "### RFM анализ"
   ]
  },
  {
   "cell_type": "code",
   "execution_count": null,
   "metadata": {},
   "outputs": [],
   "source": [
    "rfm_analysis = pd.DataFrame()\n",
    "# Recency (from calls)\n",
    "recency = calls.groupby('user_id')['call_date'].max()\n",
    "# Frequency\n",
    "frequency = calls.groupby('user_id')['id'].count()\n",
    "# Monetary (можно использовать duration или mb_used как прокси)\n",
    "monetary = calls.groupby('user_id')['duration'].sum()"
   ]
  },
  {
   "cell_type": "markdown",
   "metadata": {},
   "source": [
    "### Промежуточный вывод\n"
   ]
  },
  {
   "cell_type": "markdown",
   "metadata": {},
   "source": [
    "Чтобы собрать все наблюдения используем это  \n",
    "нужно поставить `_start_` где начало и `_end_` где конец"
   ]
  },
  {
   "cell_type": "markdown",
   "metadata": {},
   "source": [
    "Не забываем удалить метки `_start_` и `_end_` "
   ]
  },
  {
   "cell_type": "code",
   "execution_count": null,
   "metadata": {},
   "outputs": [],
   "source": [
    "import IPython\n",
    "notebook_path = \"/\".join(\n",
    "        IPython.extract_module_locals()[1][\"__vsc_ipynb_file__\"].split(\"/\"))\n",
    "pagri_data_tools.collect_observations(notebook_path, '/home/pagri/git_repos/pagri-projects/quarto/projects/prospective_tariff_for_telecom/temp_for_report.ipynb')"
   ]
  },
  {
   "cell_type": "markdown",
   "metadata": {},
   "source": [
    "ВАЖНО   \n",
    "пройти и отсортировать графики с одинаковыми числовыми переменными  \n",
    "То есть, чтобы 1 числовая переменная в разрезе разных категорий шли подряд.  \n",
    "То есть чтобы все графики с выручкой шли подряд, чтобы все графики по количеству звонков в разрезе разных категорий шли подряд.  "
   ]
  },
  {
   "cell_type": "markdown",
   "metadata": {},
   "source": [
    "ВАЖНО  \n",
    "подумать для каждого раздела в визуализации (временные, числовые, категориальные и числовые с категориальными)  \n",
    "какие закономерности не проверил.  \n",
    "убедиться, что все зависимости, которые были в задании изучили.  \n",
    "Это самый важный моменты, тут лучше остановится и тщательно подумать,  \n",
    "так как могут быть изучены не все зависимости."
   ]
  },
  {
   "cell_type": "markdown",
   "metadata": {},
   "source": [
    "ВАЖНО   \n",
    "Убедиться, что сетки по осям стоят где нужно, часто для вертикальных или горизонатльных графиков лишняя сетка вдоль баров"
   ]
  },
  {
   "cell_type": "markdown",
   "metadata": {},
   "source": [
    "## Формулирование и провера гипотез\n"
   ]
  },
  {
   "cell_type": "markdown",
   "metadata": {},
   "source": [
    "### Формулирование гипотез\n"
   ]
  },
  {
   "cell_type": "markdown",
   "metadata": {},
   "source": [
    "ВАЖНО  \n",
    "это редко бывает, но нужно об этом помнить  \n",
    "Когда мы хотим проверить какую-то гипотезу на основе среднего или другой статистики, то нужно подумать нет ли сильного разделения на группы  \n",
    "по какой-нибудь категориальной переменной.  \n",
    "Если у нас есть такое разделение, то нужно использовать стратифицированную выборку.  \n",
    "То есть мы должны взять выборку из каждой группы пропорционально её размеру.  \n",
    "Считаем коэффициенты каждой группы (ее размер делим на количество всей выборки) и умнажаем их на количество нужных элементов.  \n",
    "То есть мы из каждой страты возьмем прпорциональное количество элементов.  \n",
    "Нарпимер, мы хотим сравнить средние значения дохода в двух компаниях.  \n",
    "И берем по 100 сотрудников из каждой. Без стратификации у нас редкие сотрудники могут не попасть.  \n",
    "Поэтому мы берем категориальную переменную (например должность) и делим выборку на группы. И из каждой берем пропорциональное количество элементов."
   ]
  },
  {
   "cell_type": "markdown",
   "metadata": {},
   "source": [
    "Смотрим выводы раздела визуализации взаимосвязей и из них формулируем гипотезы.  "
   ]
  },
  {
   "cell_type": "markdown",
   "metadata": {},
   "source": [
    "И далее думаем какие гипотезы можно ещё проверить, которых у нас нет в выводах.  "
   ]
  },
  {
   "cell_type": "markdown",
   "metadata": {},
   "source": [
    "На основе проведенного анализа данных сформулирем следующие гипотезы:\n"
   ]
  },
  {
   "cell_type": "markdown",
   "metadata": {},
   "source": [
    "- Гипотеза 1: Нет зависимость между наличием детей и возвратом кредита в срок.  \n",
    "- Гипотеза 2: У мужчин средний доход выше  \n",
    "- Гипотеза 3: Цель получения кредита не зависит от среднего ежемесяченого доход  \n",
    "- Гипотеза 4: Средний доход по семейному статусу одинаковый, но у вдовцов отличается  \n",
    "- Гипотеза 5: У должников в среднем больше детей  \n",
    "- Гипотеза 6: У должников средний возраст ниже  \n",
    "- Гипотеза 7: Медианный доход у должников и не должников не отличаетс"
   ]
  },
  {
   "cell_type": "markdown",
   "metadata": {},
   "source": [
    "> Не забываем что гипотезы можно проверять и между 2 категориальными переменными.  \n",
    "> Проверять есть ли между ними зависимости.  \n",
    "> Также если мы на графиках определили, что есть между 2 категориальными перменными связь, то тут можем это проверить\n"
   ]
  },
  {
   "cell_type": "markdown",
   "metadata": {},
   "source": [
    "### Проверка гипотез\n"
   ]
  },
  {
   "cell_type": "markdown",
   "metadata": {},
   "source": [
    "ВАЖНО  \n",
    "принято в выводе писать положительный результат  \n",
    "то есть пишем что гипотеза подтвердилась и указваем какая гипотеза.  \n",
    "То если мы опровергли нулевую гипотезу, то пишем альтернативную гипотезу и пишем что она подтвердилась.  \n",
    "Если у нас нет оснований отвергнуть нулевую гипотезу, то пишем нулевую гипотезу и пишем что нет оснований ее отвергнуть.  \n",
    "То есть если мы отвергаем, то формулируем вывод как положительный, чтобы не было путаницы, а если нет оснований, то так и пишем.  "
   ]
  },
  {
   "cell_type": "markdown",
   "metadata": {},
   "source": [
    "> Алгоритм проверки статистических гипотез\n",
    "\n",
    "- постановка задачи\n",
    "  > - Сформулировать, что мы хотим узнать о выборках с точки зрения бизнес задачи (равны ли средние доходы в группах)\n",
    "  > - перевод бизнес-вопроса на язык статистики: средний доход в группах - проверка равенства средних значений\n",
    "- формулировка гипотез\n",
    "  > - формулировка нулевой гипотезы - с т.зр. равенства стат прараметров оцениваемых выборок  \n",
    "  >   (Н0: Средние траты клиентов по группе А равны средним тратам клинентов по группе В)\n",
    "  > - формулировка альтернативной гипотезы - с точки зрения неравенства параметров  \n",
    "  >   (Н1: Средние траты клиентов по группе А не равны средним тратам клинентов по группе В)\n",
    "- выбор критерия alpha (почему 0.05 или 0.01)\n",
    "  > - цена ошибки первого рода (при большой цене ошибки - в мед исследованиях, потенциальном ущербе ) - значение может быть больше, например 0.1\n",
    "  > - в ежедневных бизнес задачах, обычно - 0.05\n",
    "- анализ распределения\n",
    "  > - визуальная оценка\n",
    "  > - следим за выбросами\n",
    "  > - проверка гипотез о типе распредеделения (например критерий Шапиро-Уилка)\n",
    "  > - если распределение не нормальное и размер выборки достаточный (больше 30-50 элементов)  \n",
    "  >   может быть использован t-test именно для проверки гипотезы о равенстве средних.  \n",
    "  >   Согласно ЦПТ (центральная предельная теорема) средние этих выборок будут распределены нормально. См. статью Зотова\n",
    "- выбор критерия\n",
    "  > - при оценке равенства средних T-test или Welch T-test (если есть сомнения, то лучше Уэлча)\n",
    "  >   - при рвенстве дисперсий используем обычный т тест\n",
    "  >   - если дисперсии в выборках разные, то используем т теста Уэлча\n",
    "- получение результата\n",
    "  > - расчет p-value\n",
    "- интерпретация p-value\n",
    "  > - сравнение p-value и alpha\n",
    "  > - если альфа > p-value - отвергаем нулевую гипотезу\n",
    "  > - если альфа < p-value - не можем отвергнуть нулевую гипотезу\n"
   ]
  },
  {
   "cell_type": "markdown",
   "metadata": {},
   "source": [
    "> Какая у нас задача\n",
    "\n",
    "- Исследовать взаимосвязь между 2 переменными\n",
    "  > - обе переменные наминативные\n",
    "  >   - Хи-квадрат Пирсона (не чувствителен к гетероскедастичности) (нормальность не обязательна)\n",
    "  > - обе переменные количественные\n",
    "  >   - Коэффициент корреляции Пирсона (параметрика) (чувствителен к выбросам) (только непрерывные переменные)\n",
    "  >   - Коэффициент корреляции Спирмена (чувствителен к выбросам) / Кендалла (менее чувствителен к выбросам) (непараметрика) (непрерывные переменные и порядковые категориальные переменные)\n",
    "  > - одна переменная номинативная (принимает 2 занчения), вторая количественная\n",
    "  >   - значения\n",
    "  >     - Т-критерий Стьюдента (параметрика) (желательно нормальность) (чувствителен к выбросам) (чувствителен к гетероскедастичности)\n",
    "  >       - если дисперсии равны (тест левена, барлета) и количество в группах равно (тест на равенство пропорций), то используем обычный т тест (эта формула более точно даст результат для этого случая)\n",
    "  >       - если дисперсии не равны (тест левена, барлета) или количество в группах не равно (тест на равенство пропорций), то используем тест Уэлча (эта формула использует больше неопределенности и лучше подходит для этого случая)\n",
    "  >     - U-критерий Манна-Уитни (непараметрика) (нормальность не обязательна) (не чувствителен к гетероскедастичности)\n",
    "  >       Если тестируемая фича полностью сдвигает выборку на некий коэффициент theta или масштабирует выборку на некий параметр theta (theta > 0),  \n",
    "  >       то критерий Манна-Уитни применим\n",
    "  >   - доли\n",
    "  >     - Z тест для долей (параметрика) (желательно нормальность) (чувствителен к выбросам) (чувствителен к гетероскедастичности)\n",
    "  >     - Chi-square тест для долей (непараметрика) (нормальность не обязательна) (не чувствителен к гетероскедастичности)\n",
    "- Исследовать взаимосвязь между несколькими переменными\n",
    "  > - Дисперсионный анализ (параметрика) (дисперсии в группах должны быть примерно равны) (желательно нормальность) (чувствителен к выбросам) (чувствителен к гетероскедастичности)\n",
    "  > - Welch's ANOVA (устройчив к разной дисперсии в группах) (требует более больших размеров групп для точных результатов) (желательно нормальность) (чувствителен к выбросам) (не чувствителен к гетероскедастичности)\n",
    "  > - Критерий Краскела-Уоллиса (непараметрика) (нормальность не обязательна) (не чувствителен к гетероскедастичности)\n",
    "  > - Тест Тьюки (если anova или Краскела-Уоллиса нашил различия) (дисперсии в группах должны быть примерно равны) (параметрика) (желательно нормальность) (чувствителен к выбросам) (чувствителен к гетероскедастичности)\n",
    "- Проверить на равенство дисперсий в группах перед anova\n",
    "  > - Levene's test (не требует нормальность) (менее чувствительный)\n",
    "  > - Bartlett's test (требует нормальность) (более чувствительный)\n"
   ]
  },
  {
   "cell_type": "markdown",
   "metadata": {},
   "source": [
    "Сормируем словарь для подписей осей и названий гистограм.\n"
   ]
  },
  {
   "cell_type": "code",
   "execution_count": null,
   "metadata": {},
   "outputs": [],
   "source": [
    "titles_for_axis = dict(\n",
    "    # numeric column\n",
    "    children = ['Количество детей', 'количества детей']\n",
    "    , age = ['Возраст', 'возраста']\n",
    "    , total_income = ['Ежемесячный доход', 'ежемесячного дохода']    \n",
    ")"
   ]
  },
  {
   "cell_type": "markdown",
   "metadata": {},
   "source": [
    "Примеры для разных критериев"
   ]
  },
  {
   "cell_type": "markdown",
   "metadata": {},
   "source": [
    "#### 2 категориальные переменные и мы хотим сравнить количество в каждой группе."
   ]
  },
  {
   "cell_type": "markdown",
   "metadata": {},
   "source": [
    "**Гипотеза 1: Нет зависимость между наличием детей и возвратом кредита в срок**\n"
   ]
  },
  {
   "cell_type": "markdown",
   "metadata": {},
   "source": [
    "> H0: Наличие детей не влияет на возврат кредита в срок.  \n",
    "> H1: Наличие детей влияет на возврат кредита в срок.\n"
   ]
  },
  {
   "cell_type": "markdown",
   "metadata": {},
   "source": [
    "Так как у нас обе переменных категориальные, то воспользуемся критерием хи-квадрат Пирсона.  \n",
    "Уровень значимости alpha выберем 0.05\n"
   ]
  },
  {
   "cell_type": "markdown",
   "metadata": {},
   "source": [
    "Убедимся, что у нас достаточно значнеий в каждой группе"
   ]
  },
  {
   "cell_type": "markdown",
   "metadata": {},
   "source": [
    "Для параметрических тестов в каждой группе должно быть больше 30 элементов, а для не параметрических тестов больше 10 значений."
   ]
  },
  {
   "cell_type": "code",
   "execution_count": null,
   "metadata": {},
   "outputs": [
    {
     "data": {
      "text/plain": [
       "age_cat\n",
       "старше 60    855\n",
       "до 30        751\n",
       "40-50        587\n",
       "50-60        532\n",
       "30-40        489\n",
       "Name: count, dtype: int64"
      ]
     },
     "metadata": {},
     "output_type": "display_data"
    }
   ],
   "source": [
    "df_by_userid_month['age_cat'].value_counts()"
   ]
  },
  {
   "cell_type": "code",
   "execution_count": null,
   "metadata": {},
   "outputs": [
    {
     "name": "stdout",
     "output_type": "stream",
     "text": [
      "Хи-квадрат Пирсона\n",
      "alpha =  0.05\n",
      "p-value =  1.724356890544321e-05\n",
      "Отклоняем нулевую гипотезу, поскольку p-value меньше уровня значимости\n"
     ]
    }
   ],
   "source": [
    "pagri_data_tools.chi2_pearson(df.has_child, df.debt)"
   ]
  },
  {
   "cell_type": "markdown",
   "metadata": {},
   "source": [
    "**Результат:**  \n",
    "\n",
    "На уровне значимости 0.05 нулевая гипотеза о том, что наличие детей не влияет на возврат кредита в срок, была отклонена. Это свидетельствует о том, что существует статистически значимое влияние наличия детей на возврат кредита в срок.\n"
   ]
  },
  {
   "cell_type": "markdown",
   "metadata": {},
   "source": [
    "#### Одна категориальная переменная и мы хотим проверить отличается ли количество в одной категориальной переменной, то используем chisquare"
   ]
  },
  {
   "cell_type": "markdown",
   "metadata": {},
   "source": [
    "Он проверяет, насколько наблюдаемое распределение категориальной переменной отличается от ожидаемого равномерного распределения.  "
   ]
  },
  {
   "cell_type": "markdown",
   "metadata": {},
   "source": [
    "**Гипотеза 1: Нет зависимости между количеством публикаций и днем недели.**  "
   ]
  },
  {
   "cell_type": "markdown",
   "metadata": {},
   "source": [
    "H0: День недели не влияет на количество объявлений  \n",
    "H1: День недели влияет на количество объявлений"
   ]
  },
  {
   "cell_type": "code",
   "execution_count": null,
   "metadata": {},
   "outputs": [
    {
     "data": {
      "text/plain": [
       "publication_weekday\n",
       "Понедельник    3591\n",
       "Вторник        4157\n",
       "Среда          3940\n",
       "Четверг        4270\n",
       "Пятница        3970\n",
       "Суббота        1918\n",
       "Воскресенье    1681\n",
       "Name: count, dtype: int64"
      ]
     },
     "metadata": {},
     "output_type": "display_data"
    }
   ],
   "source": [
    "daily_counts = df['publication_weekday'].value_counts().sort_index()\n",
    "daily_counts"
   ]
  },
  {
   "cell_type": "markdown",
   "metadata": {},
   "source": [
    "Убедимся, что у нас достаточно значнеий в каждой группе"
   ]
  },
  {
   "cell_type": "markdown",
   "metadata": {},
   "source": [
    "Для параметрических тестов в каждой группе должно быть больше 30 элементов, а для не параметрических тестов больше 10 значений."
   ]
  },
  {
   "cell_type": "code",
   "execution_count": null,
   "metadata": {},
   "outputs": [
    {
     "data": {
      "text/plain": [
       "age_cat\n",
       "старше 60    855\n",
       "до 30        751\n",
       "40-50        587\n",
       "50-60        532\n",
       "30-40        489\n",
       "Name: count, dtype: int64"
      ]
     },
     "metadata": {},
     "output_type": "display_data"
    }
   ],
   "source": [
    "df_by_userid_month['age_cat'].value_counts()"
   ]
  },
  {
   "cell_type": "code",
   "execution_count": null,
   "metadata": {},
   "outputs": [],
   "source": [
    "pagri_data_tools.chisquare(daily_counts)"
   ]
  },
  {
   "cell_type": "markdown",
   "metadata": {},
   "source": [
    "**Результат:**  \n",
    "\n",
    "- На уровне значимости 0.05 нулевая гипотеза о том, что день недели не влияет на количество объявлений, была отклонена. Это указывает на то, что существует статистически значимое влияние дня недели на количество объявлений."
   ]
  },
  {
   "cell_type": "code",
   "execution_count": null,
   "metadata": {},
   "outputs": [],
   "source": []
  },
  {
   "cell_type": "markdown",
   "metadata": {},
   "source": [
    "#### Категориальная с 2 значениями и числовая переменная  (тест манна уитни)"
   ]
  },
  {
   "cell_type": "markdown",
   "metadata": {},
   "source": [
    "**Гипотеза 2: У мужчин средний доход выше**  "
   ]
  },
  {
   "cell_type": "markdown",
   "metadata": {},
   "source": [
    "H0: У мужчин средний доход не выше, чем у женщин   \n",
    "H1: У мужчин средний доход выше, чем у женщин"
   ]
  },
  {
   "cell_type": "markdown",
   "metadata": {},
   "source": [
    "посмотрим на распределение"
   ]
  },
  {
   "cell_type": "code",
   "execution_count": null,
   "metadata": {},
   "outputs": [],
   "source": [
    "pagri_data_tools.histogram(df.total_income, titles_for_axis)"
   ]
  },
  {
   "cell_type": "markdown",
   "metadata": {},
   "source": [
    "Делаем вывод о распределении.  \n",
    "Выбираем критерий для проверки гипотезы.  \n",
    "Определяем уровнь значимости"
   ]
  },
  {
   "cell_type": "markdown",
   "metadata": {},
   "source": [
    "Если распределение не нормальное или много выбросов или просто нет уверености, что параметрика будет хрошо работать, то используем  \n",
    "тест манна уитни"
   ]
  },
  {
   "cell_type": "markdown",
   "metadata": {},
   "source": [
    "У нас значительные выбросы в доходе нужно использовать непараметрический тест"
   ]
  },
  {
   "cell_type": "markdown",
   "metadata": {},
   "source": [
    "Используем критерий Манна-Уитни  \n",
    "Альтернатива будет - больше  \n",
    "Уровень значимости alpha выберем 0.05"
   ]
  },
  {
   "cell_type": "markdown",
   "metadata": {},
   "source": [
    "Убедимся, что у нас достаточно значнеий в каждой группе"
   ]
  },
  {
   "cell_type": "markdown",
   "metadata": {},
   "source": [
    "Для параметрических тестов в каждой группе должно быть больше 30 элементов, а для не параметрических тестов больше 10 значений."
   ]
  },
  {
   "cell_type": "code",
   "execution_count": null,
   "metadata": {},
   "outputs": [
    {
     "data": {
      "text/plain": [
       "age_cat\n",
       "старше 60    855\n",
       "до 30        751\n",
       "40-50        587\n",
       "50-60        532\n",
       "30-40        489\n",
       "Name: count, dtype: int64"
      ]
     },
     "metadata": {},
     "output_type": "display_data"
    }
   ],
   "source": [
    "df_by_userid_month['age_cat'].value_counts()"
   ]
  },
  {
   "cell_type": "code",
   "execution_count": null,
   "metadata": {},
   "outputs": [],
   "source": [
    "male = df[df.gender=='M']['total_income']\n",
    "female = df[df.gender=='F']['total_income']"
   ]
  },
  {
   "cell_type": "markdown",
   "metadata": {},
   "source": [
    "Если используем альтернативу, то отсчет идет от первого аргумента функции.  \n",
    "То есть он должен быть больше или меньше, исходя из постановки гипотезы. И исходя из этого выбераем параметр alternative."
   ]
  },
  {
   "cell_type": "code",
   "execution_count": null,
   "metadata": {},
   "outputs": [],
   "source": [
    "pagri_data_tools.mannwhitneyu(male, female, alternative='l')"
   ]
  },
  {
   "cell_type": "markdown",
   "metadata": {},
   "source": [
    "**Результат:**  \n",
    "\n",
    "- На уровне значимости 0.05 нулевая гипотеза о том, что у мужчин средний доход не выше, чем у женщин, была отклонена. Это указывает на то, что доход мужчин статистически значимо выше, чем у женщин."
   ]
  },
  {
   "cell_type": "markdown",
   "metadata": {},
   "source": [
    "#### Категориальная с 2 значениями и числовая переменная  (т тест)"
   ]
  },
  {
   "cell_type": "markdown",
   "metadata": {},
   "source": [
    "Если используем ттест, то сначала проводим тест на проверку дисперсии\n"
   ]
  },
  {
   "cell_type": "markdown",
   "metadata": {},
   "source": [
    "\n",
    "Проверим гипотезу, что дисперсии в группах не отличаются\n",
    "\n",
    "H0: У должников и не должников дисперсия не отличается  \n",
    "H1: У должников и не должников дисперсия отличается\n",
    "\n",
    "Используем тест Левена\n"
   ]
  },
  {
   "cell_type": "code",
   "execution_count": null,
   "metadata": {},
   "outputs": [],
   "source": [
    "yes = df[df.debt=='есть']['age']\n",
    "no = df[df.debt=='нет']['age']"
   ]
  },
  {
   "cell_type": "code",
   "execution_count": null,
   "metadata": {},
   "outputs": [],
   "source": [
    "pagri_data_tools.levene([yes, no])"
   ]
  },
  {
   "cell_type": "markdown",
   "metadata": {},
   "source": [
    "Так как дисперсия в группах разная, будем использовать тест Уэлча.  \n",
    "Уровень значимости alpha выберем 0.05"
   ]
  },
  {
   "cell_type": "markdown",
   "metadata": {},
   "source": [
    "Если используем альтернативу, то отсчет идет от первого аргумента функции.  \n",
    "То есть он должен быть больше или меньше, исходя из постановки гипотезы. И исходя из этого выбераем параметр alternative."
   ]
  },
  {
   "cell_type": "code",
   "execution_count": null,
   "metadata": {},
   "outputs": [],
   "source": [
    "pagri_data_tools.ttest_ind(yes, no, equal_var=False, alternative='s')"
   ]
  },
  {
   "cell_type": "markdown",
   "metadata": {},
   "source": [
    "Построим доверительный интервал"
   ]
  },
  {
   "cell_type": "code",
   "execution_count": null,
   "metadata": {},
   "outputs": [],
   "source": [
    "pagri_data_tools.confint_t_2samples(yes, no, equal_var=False, alternative='s')"
   ]
  },
  {
   "cell_type": "markdown",
   "metadata": {},
   "source": [
    "#### Категориальная переменная, у которой больше 2 значений и числовая (ANOVA)"
   ]
  },
  {
   "cell_type": "markdown",
   "metadata": {},
   "source": [
    "**Гипотеза 4: Средний доход по семейному статусу не отличается**  \n",
    "\n",
    "H0: Средний ежемесячный доход не различается между группами по семейному статусу  \n",
    "H1: Средний ежемесячный доход различается между группами по семейному статусу  \n"
   ]
  },
  {
   "cell_type": "markdown",
   "metadata": {},
   "source": [
    "посмотрим на распределение"
   ]
  },
  {
   "cell_type": "code",
   "execution_count": null,
   "metadata": {},
   "outputs": [],
   "source": [
    "pagri_data_tools.histogram(df.total_income, titles_for_axis)"
   ]
  },
  {
   "cell_type": "markdown",
   "metadata": {},
   "source": [
    "Делаем вывод о распределении.  \n",
    "Выбираем критерий для проверки гипотезы.  \n",
    "Определяем уровнь значимости"
   ]
  },
  {
   "cell_type": "markdown",
   "metadata": {},
   "source": [
    "Предположения ANOVA:\n",
    "- Данные должны быть нормально распределены.\n",
    "- Дисперсии в группах должны быть равны (гомоскедастичность).\n",
    "- Наблюдения должны быть независимыми."
   ]
  },
  {
   "cell_type": "markdown",
   "metadata": {},
   "source": [
    "Если хоть одно из этого не выполняется, то лучше использовать kruskal"
   ]
  },
  {
   "cell_type": "markdown",
   "metadata": {},
   "source": [
    "Если распределение не нормальное или много выбросов или просто нет уверености, что параметрика будет хрошо работать, то используем  \n",
    "тест манна уитни"
   ]
  },
  {
   "cell_type": "markdown",
   "metadata": {},
   "source": [
    "Если эти предположения выполняются, то используем тест ANOVA"
   ]
  },
  {
   "cell_type": "markdown",
   "metadata": {},
   "source": [
    "Если используем anova, то сначала проводим тест на проверку дисперсии\n"
   ]
  },
  {
   "cell_type": "markdown",
   "metadata": {},
   "source": [
    "ANOVA уже учитывает множественное тестирование в своей структуре.  \n",
    "Поэтому поправка Бонферрони не нужна.   \n",
    "Но если после anova мы хотим сравнить отдельные пары, то будет множественное сравнение, и поправка Бонферрони нужна."
   ]
  },
  {
   "cell_type": "markdown",
   "metadata": {},
   "source": [
    "Если используем anova, то сначала проводим тест на проверку дисперсии\n"
   ]
  },
  {
   "cell_type": "markdown",
   "metadata": {},
   "source": [
    "\n",
    "Проверим гипотезу, что дисперсии в группах не отличаются\n",
    "\n",
    "H0: У должников и не должников дисперсия не отличается  \n",
    "H1: У должников и не должников дисперсия отличается\n",
    "\n",
    "Используем тест Левена\n"
   ]
  },
  {
   "cell_type": "code",
   "execution_count": null,
   "metadata": {},
   "outputs": [],
   "source": [
    "gropu_a = df[df.debt=='a']['age']\n",
    "gropu_b = df[df.debt=='b']['age']\n",
    "gropu_c = df[df.debt=='c']['age']"
   ]
  },
  {
   "cell_type": "code",
   "execution_count": null,
   "metadata": {},
   "outputs": [],
   "source": [
    "pagri_data_tools.levene([gropu_a, gropu_b, gropu_c])"
   ]
  },
  {
   "cell_type": "markdown",
   "metadata": {},
   "source": [
    "Так как дисперсия в группах разная, будем использовать тест Уэлча.  \n",
    "Уровень значимости alpha выберем 0.05"
   ]
  },
  {
   "cell_type": "markdown",
   "metadata": {},
   "source": [
    "Убедимся, что у нас достаточно значнеий в каждой группе"
   ]
  },
  {
   "cell_type": "markdown",
   "metadata": {},
   "source": [
    "Для параметрических тестов в каждой группе должно быть больше 30 элементов, а для не параметрических тестов больше 10 значений."
   ]
  },
  {
   "cell_type": "code",
   "execution_count": null,
   "metadata": {},
   "outputs": [
    {
     "data": {
      "text/plain": [
       "age_cat\n",
       "старше 60    855\n",
       "до 30        751\n",
       "40-50        587\n",
       "50-60        532\n",
       "30-40        489\n",
       "Name: count, dtype: int64"
      ]
     },
     "metadata": {},
     "output_type": "display_data"
    }
   ],
   "source": [
    "df_by_userid_month['age_cat'].value_counts()"
   ]
  },
  {
   "cell_type": "markdown",
   "metadata": {},
   "source": [
    "Если дисперсии не отличаютс, то проводим обычный ANOVA"
   ]
  },
  {
   "cell_type": "code",
   "execution_count": null,
   "metadata": {},
   "outputs": [],
   "source": [
    "pagri_data_tools.anova_oneway_df(df[['family_status', 'total_income']])"
   ]
  },
  {
   "cell_type": "markdown",
   "metadata": {},
   "source": [
    "Если гипотеза о равенстве дисперсий была отклонена, то используем ANOVA Welch."
   ]
  },
  {
   "cell_type": "code",
   "execution_count": null,
   "metadata": {},
   "outputs": [],
   "source": [
    "pagri_data_tools.anova_oneway_welch_df(df[['family_status', 'total_income']])"
   ]
  },
  {
   "cell_type": "markdown",
   "metadata": {},
   "source": [
    "Если нулевая гипотеза отклонилась, то можно определить в каких парах есть различия.  \n",
    "Можно использовать множественное сравнение и т тест или мана уитни, но обязательно использовать поправку бонферони.  \n",
    "Или можно использовать тест Тьюки."
   ]
  },
  {
   "cell_type": "markdown",
   "metadata": {},
   "source": [
    "Используем тест Тьюки, чтобы определить различия между группами  \n",
    "Уровень значимости alpha выберем 0.05"
   ]
  },
  {
   "cell_type": "markdown",
   "metadata": {},
   "source": [
    "тест Тьюки уже учитывает множественное тестирование в своей структуре.  \n",
    "Поэтому поправка Бонферрони не нужна. "
   ]
  },
  {
   "cell_type": "code",
   "execution_count": null,
   "metadata": {},
   "outputs": [],
   "source": [
    "pagri_data_tools.tukey_hsd_df(df[['family_status', 'total_income']])"
   ]
  },
  {
   "cell_type": "markdown",
   "metadata": {},
   "source": [
    "Смотрим в каких парах гипотеза отвергается"
   ]
  },
  {
   "cell_type": "markdown",
   "metadata": {},
   "source": [
    "Видим, что гипотеза отвергается в парах где есть вдова / вдовец\n"
   ]
  },
  {
   "cell_type": "markdown",
   "metadata": {},
   "source": [
    "**Результат:**  \n",
    "\n",
    "- На уровне значимости 0.05 нулевая гипотеза о том, что средний ежемесячный доход не различается между группами по семейному статусу, была отклонена.  \n",
    "Это указывает на то, что семейный статус оказывает статистически значимое влияние на ежемесячный доход."
   ]
  },
  {
   "cell_type": "markdown",
   "metadata": {},
   "source": [
    "#### Категориальная переменная, у которой больше 2 значений и числовая (Kruskal-Wallis)"
   ]
  },
  {
   "cell_type": "markdown",
   "metadata": {},
   "source": [
    "Если распределение не нормальное или много выбросов или просто нет уверености, что параметрика будет хрошо работать, то используем  непараметрические методы."
   ]
  },
  {
   "cell_type": "markdown",
   "metadata": {},
   "source": [
    "Используем критерий Краскела-Уоллиса  \n",
    "Уровень значимости alpha выберем 0.05"
   ]
  },
  {
   "cell_type": "markdown",
   "metadata": {},
   "source": [
    "Убедимся, что у нас достаточно значнеий в каждой группе"
   ]
  },
  {
   "cell_type": "markdown",
   "metadata": {},
   "source": [
    "Для параметрических тестов в каждой группе должно быть больше 30 элементов, а для не параметрических тестов больше 10 значений."
   ]
  },
  {
   "cell_type": "code",
   "execution_count": null,
   "metadata": {},
   "outputs": [
    {
     "data": {
      "text/plain": [
       "age_cat\n",
       "старше 60    855\n",
       "до 30        751\n",
       "40-50        587\n",
       "50-60        532\n",
       "30-40        489\n",
       "Name: count, dtype: int64"
      ]
     },
     "metadata": {},
     "output_type": "display_data"
    }
   ],
   "source": [
    "df_by_userid_month['age_cat'].value_counts()"
   ]
  },
  {
   "cell_type": "markdown",
   "metadata": {},
   "source": [
    "критерий Краскела-Уоллиса уже учитывает множественное тестирование в своей структуре.  \n",
    "Поэтому поправка Бонферрони не нужна.   \n",
    "Но если после критерия Краскела-Уоллиса мы хотим сравнить отдельные пары, то будет множественное сравнение, и поправка Бонферрони нужна."
   ]
  },
  {
   "cell_type": "code",
   "execution_count": null,
   "metadata": {},
   "outputs": [],
   "source": [
    "pagri_data_tools.kruskal_df(df[['family_status', 'total_income']])"
   ]
  },
  {
   "cell_type": "markdown",
   "metadata": {},
   "source": [
    "Если нулевая гипотеза отклонилась, то можно определить в каких парах есть различия.  \n",
    "Можно использовать множественное сравнение и т тест или мана уитни, но обязательно использовать поправку бонферони.  \n",
    "Или можно использовать тест Тьюки."
   ]
  },
  {
   "cell_type": "markdown",
   "metadata": {},
   "source": [
    "Используем тест Тьюки, чтобы определить различия между группами  \n",
    "Уровень значимости alpha выберем 0.05"
   ]
  },
  {
   "cell_type": "markdown",
   "metadata": {},
   "source": [
    "тест Тьюки уже учитывает множественное тестирование в своей структуре.  \n",
    "Поэтому поправка Бонферрони не нужна. "
   ]
  },
  {
   "cell_type": "code",
   "execution_count": null,
   "metadata": {},
   "outputs": [],
   "source": [
    "pagri_data_tools.tukey_hsd_df(df[['family_status', 'total_income']])"
   ]
  },
  {
   "cell_type": "markdown",
   "metadata": {},
   "source": [
    "Смотрим в каких парах гипотеза отвергается"
   ]
  },
  {
   "cell_type": "markdown",
   "metadata": {},
   "source": [
    "Видим, что гипотеза отвергается в парах где есть вдова / вдовец\n"
   ]
  },
  {
   "cell_type": "markdown",
   "metadata": {},
   "source": [
    "**Результат:**  \n",
    "\n",
    "- На уровне значимости 0.05 нулевая гипотеза о том, что средний ежемесячный доход не различается между группами по семейному статусу, была отклонена.  \n",
    "Это указывает на то, что семейный статус оказывает статистически значимое влияние на ежемесячный доход."
   ]
  },
  {
   "cell_type": "markdown",
   "metadata": {},
   "source": [
    "#### Бутстреп (категориальная переменная имеет 2 значения)"
   ]
  },
  {
   "cell_type": "markdown",
   "metadata": {},
   "source": [
    "Если мы не хотим использовать параметрику или не параметрику или нам нужно проверить гипотезу не по среднему, например, медиана или какой-то перцинтиль,  \n",
    "то используем бутстреп"
   ]
  },
  {
   "cell_type": "markdown",
   "metadata": {},
   "source": [
    "**Если категориальная переменная имеет 2 занчения.**"
   ]
  },
  {
   "cell_type": "markdown",
   "metadata": {},
   "source": [
    "Вместо теста манна уитни, когда нет уверености в т тесте, можно использовать бутстреп"
   ]
  },
  {
   "cell_type": "markdown",
   "metadata": {},
   "source": [
    "**Гипотеза 7:  Медианный доход у должников и не должников не отличается**  \n",
    "\n",
    "H0: Медианный доход у должников и не должников не отличается  \n",
    "H1: Медианный доход у должников и не должников отличается\n"
   ]
  },
  {
   "cell_type": "markdown",
   "metadata": {},
   "source": [
    "Используем бутстреп для проверке гипотезы  \n",
    "Уровень значимости alpha выберем 0.05"
   ]
  },
  {
   "cell_type": "markdown",
   "metadata": {},
   "source": [
    "Когда мы сравниваем две группы в бутстрепе, мы можем просто посмотреть, находится ли 0 внутри доверительного интервала, чтобы определить, существует ли статистически значимое различие между группами.   \n",
    "Если 0 лежит вне доверительного интервала, то мы можем сказать, что существует статистически значимое различие между группами."
   ]
  },
  {
   "cell_type": "code",
   "execution_count": null,
   "metadata": {},
   "outputs": [],
   "source": [
    "yes = df[df.debt=='есть']['total_income']\n",
    "no = df[df.debt=='нет']['total_income']"
   ]
  },
  {
   "cell_type": "code",
   "execution_count": null,
   "metadata": {},
   "outputs": [],
   "source": [
    "fig = pagri_data_tools.bootstrap_diff_2sample(yes, no, stat_func=np.median)"
   ]
  },
  {
   "cell_type": "code",
   "execution_count": null,
   "metadata": {},
   "outputs": [],
   "source": [
    "fig.show()"
   ]
  },
  {
   "cell_type": "markdown",
   "metadata": {},
   "source": [
    "**Результат:**  \n",
    "\n",
    "- На уровне значимости 0.05 нулевая гипотеза о том, что медианный доход у должников и не должников не отличается, была отклонена.  \n",
    "Это указывает на то, что существует статистически значимая разница между медианным доходом должников и не должников.  \n",
    "95 % доверительный интервал разницы между медианным доходом должников и не должников равен (-2648.05, 179.34)\n"
   ]
  },
  {
   "cell_type": "markdown",
   "metadata": {},
   "source": [
    "#### Бутстреп (категориальная переменная больше 2 значений)"
   ]
  },
  {
   "cell_type": "markdown",
   "metadata": {},
   "source": [
    "Когда у нас больше двух групп, способ определения результата по позиции нуля от разности внутри или вне доверительного интервала не работает, поскольку мы имеем несколько доверительных интервалов для каждой пары сравнений."
   ]
  },
  {
   "cell_type": "markdown",
   "metadata": {},
   "source": [
    "Чтобы сравнить средние значения зарплаты между тремя и более группами, мы можем использовать бутстрэп. Алгоритм бутстрэпа будет следующим:\n",
    "\n",
    "- Создаем выборку с заменой из исходных данных.\n",
    "- Вычисляем средние значения зарплаты для каждой группы в выборке.\n",
    "- Вычисляем разности средних между группами (например, разность между Молодым и Взрослым, между Взрослым и Старым и т.д.).\n",
    "- Повторяем шаги 1-3 many times (например, 1000 раз).\n",
    "- Строим гистограмму распределения разностей средних, полученных на шаге 3.\n",
    "- Определяем p-value\n",
    "\n"
   ]
  },
  {
   "cell_type": "markdown",
   "metadata": {},
   "source": [
    "Поправка Бонферрони заключается в том, что для значимости результата необходимо, чтобы p-value для каждого сравнения было меньше уровня значимости, разделенного на количество сравнений. Например, если уровень значимости равен 0.05, а мы делаем три сравнения, то необходимо, чтобы p-value для каждого сравнения было меньше 0.05/3 = 0.0167.\n",
    "\n",
    "В случае использования бутстрэпа, мы можем применить поправку Бонферрони следующим образом:"
   ]
  },
  {
   "cell_type": "markdown",
   "metadata": {},
   "source": [
    "- Вычисляем разности средних для каждой пары сравнений.\n",
    "- Вычисляем p-value для каждой пары сравнений, используя гистограмму распределения разностей средних.\n",
    "- Применяем поправку Бонферрони, разделяя уровень значимости на количество сравнений.\n",
    "- Если p-value для какой-либо пары сравнений меньше поправленного уровня значимости, то считаем, что различие между группами статистически значимо."
   ]
  },
  {
   "cell_type": "markdown",
   "metadata": {},
   "source": [
    "В нашем примере, если мы применяем поправку Бонферрони, то необходимо, чтобы p-value для каждого сравнения было меньше 0.05/3 = 0.0167. Если мы получили следующие результаты:\n",
    "\n",
    "- Разность между Молодым и Взрослым: 8000 (p-value: 0.01)\n",
    "- Разность между Взрослым и Старым: 3000 (p-value: 0.04)\n",
    "- Разность между Молодым и Старым: 11000 (p-value: 0.001)\n",
    "- Тогда мы можем заключить, что средняя зарплата у Старых статистически значимо выше, чем у Молодых и Взрослых (поскольку p-value для этого сравнения меньше поправленного уровня значимости). Для остальных сравнений мы не можем сделать выводы о статистической значимости, поскольку p-value больше поправленного уровня значимости."
   ]
  },
  {
   "cell_type": "code",
   "execution_count": null,
   "metadata": {},
   "outputs": [],
   "source": []
  },
  {
   "cell_type": "markdown",
   "metadata": {},
   "source": [
    "> Для проверки дисперсии"
   ]
  },
  {
   "cell_type": "code",
   "execution_count": null,
   "metadata": {},
   "outputs": [],
   "source": [
    "pagri_data_tools.levene_df\n",
    "pagri_data_tools.levene\n",
    "pagri_data_tools.bartlett_df\n",
    "pagri_data_tools.bartlett"
   ]
  },
  {
   "cell_type": "markdown",
   "metadata": {},
   "source": [
    "> Выбираем критерий\n"
   ]
  },
  {
   "cell_type": "code",
   "execution_count": null,
   "metadata": {},
   "outputs": [],
   "source": [
    "pagri_data_tools.chi2_pearson\n",
    "pagri_data_tools.ttest_ind_df\n",
    "pagri_data_tools.ttest_ind\n",
    "pagri_data_tools.mannwhitneyu_df\n",
    "pagri_data_tools.mannwhitneyu\n",
    "pagri_data_tools.proportion_ztest_1sample\n",
    "pagri_data_tools.proportions_ztest_2sample\n",
    "pagri_data_tools.proportions_ztest_column_2sample\n",
    "pagri_data_tools.proportions_chi2\n",
    "pagri_data_tools.proportions_chi2_column\n",
    "pagri_data_tools.anova_oneway_df\n",
    "pagri_data_tools.anova_oneway\n",
    "pagri_data_tools.tukey_hsd_df\n",
    "pagri_data_tools.anova_oneway_welch_df\n",
    "pagri_data_tools.kruskal_df\n",
    "pagri_data_tools.kruskal\n",
    "pagri_data_tools.bootstrap_diff_2sample # важно, сохраняем fig и в следующей ячейке делаем fig.shwo(), иначе на google colab работает некорректно"
   ]
  },
  {
   "cell_type": "markdown",
   "metadata": {},
   "source": [
    "> Если отклоняем гипотезу, то строим доверитлеьный интервал\n"
   ]
  },
  {
   "cell_type": "code",
   "execution_count": null,
   "metadata": {},
   "outputs": [],
   "source": [
    "pagri_data_tools.confint_t_2samples\n",
    "pagri_data_tools.confint_t_2samples_df\n",
    "pagri_data_tools.confint_proportion_ztest_2sample\n",
    "pagri_data_tools.confint_proportion_ztest_column_2sample\n",
    "pagri_data_tools.confint_proportion_2sample_statsmodels\n",
    "pagri_data_tools.confint_proportion_coluns_2sample_statsmodels"
   ]
  },
  {
   "cell_type": "markdown",
   "metadata": {},
   "source": [
    "> Сделать опцию в бутстреп функции, чтобы строился только доверительный интервал\n"
   ]
  },
  {
   "cell_type": "markdown",
   "metadata": {},
   "source": [
    "> Также сделать функцию для доверилеьных интервалов для мана уитни через  \n",
    "> the Hodges-Lehmann estimation, which provides a point estimate and a confidence interval for the difference in medians.\n"
   ]
  },
  {
   "cell_type": "code",
   "execution_count": null,
   "metadata": {},
   "outputs": [],
   "source": [
    "import pingouin as pg\n",
    "\n",
    "# Perform the Mann-Whitney U test and calculate the confidence interval\n",
    "mw_test = pg.mwu(x, y, tail='two-sided', confidence=0.95)\n",
    "\n",
    "# Print the results\n",
    "print(mw_test)"
   ]
  },
  {
   "cell_type": "code",
   "execution_count": null,
   "metadata": {},
   "outputs": [],
   "source": [
    "import numpy as np\n",
    "from scipy import stats\n",
    "\n",
    "# Perform the Mann-Whitney U test\n",
    "u_stat, p_value = stats.mannwhitneyu(x, y, alternative='two-sided')\n",
    "\n",
    "# Calculate the Hodges-Lehmann estimation\n",
    "hl_est = np.median(np.array([x_i - y_j for x_i in x for y_j in y]))\n",
    "\n",
    "# Calculate the confidence interval\n",
    "ci = stats.t.interval(0.95, len(x) + len(y) - 2, loc=hl_est, scale=stats.sem(np.array([x_i - y_j for x_i in x for y_j in y])))\n",
    "\n",
    "# Print the results\n",
    "print('Hodges-Lehmann estimation:', hl_est)\n",
    "print('Confidence interval:', ci)"
   ]
  },
  {
   "cell_type": "markdown",
   "metadata": {},
   "source": [
    "> Подход следуюищй - мы до раздела проверка гипотез, когда изучаем данные (разделы пропусков, выбросов, дубликатов, зависиместей между перменными и графики),  \n",
    "> то мы делаем выводы и формируем наблюдеия.  \n",
    "> Вот эти наблюдения и выводы нужно проверить в проверке гипотез.  \n",
    "> И потом в основном выводе уже писать не просто, что у нас мужчин больше чем женьшин, а писать, что на уровен значисомти таком то у нас мужчина больше чем  \n",
    "> женщин с таким то доверительным интервалом.  \n",
    "> Таким образом выводы по вомзожности должны проходить через этап проверки гипотез, тогда эти выводы становятся более существенными.\n"
   ]
  },
  {
   "cell_type": "markdown",
   "metadata": {},
   "source": [
    "- Гипотезы появляются, когда мы задаем вопросы данным. Мы изучили данные, преобработали и теперь начинаем задавать вопросы.\n",
    "- Выдвигаем гипотезу (заметили что-то необычное и хотим проверить), далее формулируем ее и далее проверяем.\n",
    "- Не забываем формулировать гипотезы словами. Пишем что является гипотезой H0, а что гипотезой H1\n",
    "- Формулируем все гипотезы, которые хотим проверить. Если будет 100 гипотез, то все 100 нужно сформулировать и потом проверить и сделать вывод.\n",
    "- Гипотезы могут быть и простыми вопросами без гипотез H0 и H1, такие гипотезы мы проверяем графиками или анализируя таблицу.\n",
    "- Восновном, когда мы собиаремся применить стат аппарат для проверки гипотезы, то мы должны записать ее через H0 и H1.\n"
   ]
  },
  {
   "cell_type": "markdown",
   "metadata": {},
   "source": [
    "> Отличная статья про доверительные интервалы для разных статистик  \n",
    "> https://habr.com/ru/articles/807051/\n"
   ]
  },
  {
   "cell_type": "markdown",
   "metadata": {},
   "source": [
    "> Bootstrapping\n"
   ]
  },
  {
   "cell_type": "markdown",
   "metadata": {},
   "source": [
    "> В бутстрепе, если мы хотим сравнить две выборки, то нельзя смотреть  \n",
    "> где находится исходная разница средних в бутстрапированной выборке  \n",
    "> Так как мы берем бутстреп из наших выборок и впролне реально.что наша разность  \n",
    "> будет близка к с реднему бутстропированной выборки  \n",
    "> Поэтому p value нужно определять по месту нуля в бутстропированной выборке\n"
   ]
  },
  {
   "cell_type": "markdown",
   "metadata": {},
   "source": [
    "> Посмотрим p value для 0 (если различий нет, то разница должна быть 0)\n",
    "> Для этого посчитаем cdf для + и - среднего, чтобы получить 2 значения cdf\n",
    "> а теперь возьмем минимум и умножим на 2, так как альт гипотеза у нас.что\n",
    "> просто не равно 0, значит и справа и слева\n"
   ]
  },
  {
   "cell_type": "code",
   "execution_count": 182,
   "metadata": {},
   "outputs": [],
   "source": []
  },
  {
   "cell_type": "code",
   "execution_count": null,
   "metadata": {},
   "outputs": [],
   "source": [
    "Estimating the power of a non-parametric test using bootstrapping involves simulating the testing process multiple times to estimate the probability of rejecting the null hypothesis. Here's a general outline of the steps:\n",
    "\n",
    "**Specify the null and alternative hypotheses **: Define the null and alternative hypotheses for your test. For example, the null hypothesis might be that the two groups have the same distribution, and the alternative hypothesis might be that the two groups have different distributions.\n",
    "\n",
    "Generate simulated data: Generate simulated data that reflects the null hypothesis. For example, you could generate two groups of random data from the same distribution.\n",
    "\n",
    "Perform the Mann-Whitney U test: Perform the Mann-Whitney U test on the simulated data to obtain a p-value.\n",
    "\n",
    "Repeat steps 2-3 many times: Repeat steps 2-3 many times (e.g., 1000 times) to generate a distribution of p-values under the null hypothesis.\n",
    "\n",
    "Estimate the power: Estimate the power of the test by calculating the proportion of times the p-value is below a certain significance level (e.g., 0.05) when the alternative hypothesis is true. To do this, you'll need to generate simulated data that reflects the alternative hypothesis and repeat steps 2-4."
   ]
  },
  {
   "cell_type": "markdown",
   "metadata": {},
   "source": [
    "### Промежуточный вывод\n"
   ]
  },
  {
   "cell_type": "markdown",
   "metadata": {},
   "source": [
    "Чтобы собрать все наблюдения используем это  \n",
    "нужно поставить `_start_` где начало и `_end_` где конец"
   ]
  },
  {
   "cell_type": "markdown",
   "metadata": {},
   "source": [
    "Не забываем удалить метки `_start_` и `_end_` "
   ]
  },
  {
   "cell_type": "code",
   "execution_count": null,
   "metadata": {},
   "outputs": [],
   "source": [
    "import IPython\n",
    "notebook_path = \"/\".join(\n",
    "        IPython.extract_module_locals()[1][\"__vsc_ipynb_file__\"].split(\"/\"))\n",
    "pagri_data_tools.collect_observations(notebook_path, '/home/pagri/git_repos/pagri-projects/quarto/projects/prospective_tariff_for_telecom/temp_for_report.ipynb')"
   ]
  },
  {
   "cell_type": "markdown",
   "metadata": {},
   "source": [
    "- На уровне значимости 0.05 гипотеза, что есть зависимость между количеством публикаций и днем недели подтвердилась.  \n",
    "- На уровне значимости 0.05 гипотеза, что удаленность от центра влияет на количество публикаций, подтвердилась.  "
   ]
  },
  {
   "cell_type": "markdown",
   "metadata": {},
   "source": [
    "## Общий вывод\n"
   ]
  },
  {
   "cell_type": "markdown",
   "metadata": {},
   "source": [
    "ВАЖНО  \n",
    "проверить, что результат проверки гипотез учтен в выводах.  \n",
    "То есть если у нас был промежуточный вывод, но проверка гипотез опровергла этот вывод, то нужно изменить вывод на противоположный."
   ]
  },
  {
   "cell_type": "markdown",
   "metadata": {},
   "source": [
    "Проходим собираем все промежуточные выводы, вставляем сюда и выбираем важные. "
   ]
  },
  {
   "cell_type": "markdown",
   "metadata": {},
   "source": [
    "ВАЖНО  \n",
    "из промежуточных выводов в изучении данных собрать подобные выводы:  \n",
    "- Рынок жилья представлен объектами общей площадью от 12 до 900 кв.м. В основном это жилье от 30 до 100 кв.м. с пиком в сегменте 30-75 кв.м. В жилой площади квартиры преобладает диапазон 15-50 кв.м. Размер площади кухни-от 5 до 15 кв.м., с пиком 9 кв.м. Это стандартные небольшие квартиры эконом-класса. Подавляющее большинство квартир- 1-3 комнатные, с высотой потолка 2,6-2,7 м., но встречаются редкие варианты до 19 комнат и высотой потолка до 20 кв.м. (либо ошибка, либо свободная планировка с возможностью многоуровневости).\n",
    "- Цены на квартиры в основном находятся в диапазоне 2.5-15 млн.руб. с пиком в области 3-5 млн.руб.(небольшие квартиры эконом-класса), но есть и уникальные объекты стоимостью до 763 млн.руб. Стоимость квадратного метра недвижимости варьируется от 50-130 тыс.руб. с пиком в 90-100 тыс.руб. Наряду с типовыми предложениями на продажу выставлено жилье премиум-класса со стоимостью 1 кв.м. до 1.9 млн.руб.\n",
    "- Общее время продажи жилой недвижимости-до 1618 дней. Половина квартир продается за период до 94 дней, а среднее значение по всему массиву данных -185 дней. При этом можно увидеть, что пик продаж приходится на 45-60 день с момента публикации. Исходя из расчета выбросов можно сказать, что продажи прошли аномально быстро, если сделки были оформлены в период до 16 дней и слишком долго, если до оформления сделки свыше 1134 дней.    "
   ]
  },
  {
   "cell_type": "markdown",
   "metadata": {},
   "source": [
    "Это важно, так как дает представление о данных в сжатой и удобной форме.  \n",
    "А далее уже идут выводы о зависимостях.  "
   ]
  },
  {
   "cell_type": "markdown",
   "metadata": {},
   "source": [
    "Не забываем ставить 2 пробела после Выводы и другие для quarto"
   ]
  },
  {
   "cell_type": "markdown",
   "metadata": {},
   "source": [
    "После каждой строки поставить либо перенос, либо 2 пробела для quarto  \n",
    "так как когда следующая строка начинается с дефиса и jupyter это понимает и делает новую строку,   \n",
    "то quarto не сделает новую строку"
   ]
  },
  {
   "cell_type": "markdown",
   "metadata": {},
   "source": [
    "**Выводы:**  \n"
   ]
  },
  {
   "cell_type": "markdown",
   "metadata": {},
   "source": [
    "- Долги есть у людей с разным доходом.  \n",
    "- У должников в среднем больше детей.  \n",
    "- У должников среднее количество детей больше у женщин, а у не должников срднее количество детей больше у мужчин  \n",
    "- У должников средний возраст немного ниже для всех категорий семейного положения.  \n",
    "- Медианный доход у должников и не должников практически не отличается  \n",
    "- Должники имеют ниже средний возраст как мужчины так и женщины. Ситуация сохраняется во всех группах дохода.  \n",
    "- Цель получения кредита практически не зависит от среднего ежемесяченого дохода.  \n",
    "- 92 % клиентов не имеют долга.  \n",
    "- Люди от 30 до 50 лет имеют самый высокий средний доход.  \n",
    "- Больше всего кредит берут на цели, связанные с недвижимостью, кроме людей в гражданском браке  \n",
    "- Люди в гражданском браке чаще берут кредит на свадьбу  \n",
    "- Женщины чаще возвращают кредит.  \n",
    "- Анализ значимости признаков для модели случайного леса показал, что доход является самым значимым признаком для предсказания задолженности.  \n",
    "- 58 % клиентов либо женаты, либо замужем. 19 % в гражданском браке. Можно сделать вывод что большинство в браке.  \n",
    "- Большинство клиентов женщины (66 процентов).  \n",
    "- Только 5 процентов клиентов моложе 25 лет. Основная часть клиентов старше 30 лет.  \n",
    "- Чем меньше количество детей, тем больше значений с высоким доходом.  \n",
    "- Болшая часть женатых имеет доход 100-200 тыс  \n",
    "- На всех уровнях образоания, кроме ученой степени, доход у мужчин выше.  \n",
    "- У мужчин, которые в браке или были в браке, количество детей больше, чем у женщин в той же категории.  \n"
   ]
  },
  {
   "cell_type": "markdown",
   "metadata": {},
   "source": [
    "**Аномалии и особенности в данных:**  \n",
    "\n",
    "- В датафрейме есть строки дубликаты. 54 строки. Меньше 1 % от всего датафрейма.  \n",
    "- В столбце с количеством детей есть отрицательные значения. 47 штук. Меньше 1 процента от всего датафрейма. Также есть клиенты с 20 детьми.  \n",
    "- Колонока общий трудовой стаж содержит 74 % отрицаетльных значений. А также максимальное количество дней стажа больше 400 тысяч дней, это больше 1000 лет.  \n",
    "- В колонке возраста 101 нулевое значени.  \n",
    "- Колонка дохода имеет слишком много знаков после запятой.  \n",
    "- В колонке с образованием присутствуют одни и те же знчения с разными регистрами. При этом в колонке с id образования все впрорядке.  \n"
   ]
  },
  {
   "cell_type": "markdown",
   "metadata": {},
   "source": [
    "**Результаты предобработки данных:**  \n",
    "\n",
    "- Удалили колонки с id образования и семейного статуса, так как нам для графиков лучше подойдут названия, а не id.\n",
    "- Колонка со стажем имеет совершенно некорректные данные. Чтобы не внести искажение в анализ, удалим эту колонку.\n"
   ]
  },
  {
   "cell_type": "markdown",
   "metadata": {},
   "source": [
    "**Результаты проверки гипотез:**  \n",
    "\n",
    "- Гипотеза 1: У мужчин средний доход выше, чем у женщин  \n",
    "**Результат:** На уровне значимости 0.05 гипотеза подтвердилась.  \n",
    "- Гипотеза 2: Цель получения кредита практически не зависит от среднего ежемесячного дохода  \n",
    "**Результат:** На уровне значимости 0.05 у нас нет оснований отвергнуть гипотезу.  \n",
    "- Гипотеза 3: Средний доход по семейному статусу примерно одинаковый, но у вдовцов отличается  \n",
    "**Результат:** На уровне значимости 0.05 гипотеза подтвердилась.  \n",
    "- Гипотеза 4: У должников в среднем больше детей  \n",
    "**Результат:** На уровне значимости 0.05 гипотеза подтвердилась.  \n",
    "- Гипотеза 5: У должников средний возраст ниже  \n",
    "**Результат:** На уровне значимости 0.05 гипотеза подтвердилась. 95% доверительный интервал для разницы средних возрастов для должников и не должников равен   (-inf, -2.74).  \n",
    "- Гипотеза 6: Медианный доход у должников и не должников не отличается  \n",
    "**Результат:** На уровне значимости 0.05 нет оснований отвергнуть гипотезу. 95% доверительный интервал разницы между медианным доходом должников и не должников равен (-2648.05, 179.34).  \n",
    "- Гипотеза 7: Наличие детей не влияет на возврат кредита в срок  \n",
    "**Результат:** На уровне значимости 0.05 гипотеза не подтвердилась.  \n"
   ]
  },
  {
   "cell_type": "markdown",
   "metadata": {},
   "source": [
    "**Рекомендации:**  \n",
    "\n",
    "- Добавить контроль данных, чтобы не дублировались значения с разными регистрами в колонке с образованием.\n",
    "- Добавить уникальный идентификатор клиента, чтобы избежать дублирования строк.\n",
    "- Добавить проверку на отрицательные значения и на слишком болшьшие значения в количестве детей при загрузке данных.\n",
    "- Выяснить откуда возникают отрицательные значения в трудовом стаже и добавить контроль ввода невалидных данных.\n",
    "- Выяснить причину нулевых значений в колонке возраста и добавить проверку на нулевые значения при загрузке данных.\n",
    "- Выяснить причину большого количества знаков после запятой в колонке дохода.\n"
   ]
  },
  {
   "cell_type": "markdown",
   "metadata": {},
   "source": [
    "ВАЖНО   \n",
    "ячейки далее лучше удалить до обработки ноутбука, чтобы не было ошибок  \n",
    "Копировать что нужно можно из шаблона"
   ]
  },
  {
   "cell_type": "markdown",
   "metadata": {},
   "source": [
    "> Что нужно сообщить в выводе\n",
    "\n",
    "- информацию о том, что удалось подтвердить гипотезы (тут пишем только те, которые удалось подтвердить)\n",
    "- всю информацию о датасете, которые важны. Дубликаты, которые несут практическую пользу и рекомендации по ним, пропуски также с рекомендациями\n",
    "  > и остальные моменты по данным и рекомендации. Тут важно указывать именно найденные аномалии, которые имеют практическую пользу, которые нужно исправить и прочее.  \n",
    "  > Пишем, что были найдены выбросы, они были связаны возможно с тем то и тем то.\n",
    "- и в конце обязательно call to action\n",
    "  > написать что необходимо сделать с этими результатами\n"
   ]
  },
  {
   "cell_type": "markdown",
   "metadata": {},
   "source": [
    "> Советы по оформлению общего выывод\n",
    "\n",
    "- не нужно вставлять таблицы и графики в вывод.\n",
    "  > В выводе пишем словами самое важное и практически полезное, что мы получили, причем в порядке убывания важности.  \n",
    "  > И когда мы пишем, что увидели то-то, то приводим гиперссылку на график или результат ячейки, где это получено.  \n",
    "  > Так будет компактный вывод и при необходимости человек сможет быстро перейти и посмотреть график или таблицу\n"
   ]
  },
  {
   "cell_type": "markdown",
   "metadata": {},
   "source": [
    "**Удалось подтвердить гипотезу** о влиянии различных характеристик клиента на факт погашения кредита в срок. Каждый из рассмотренных параметров оказывает влияние на надёжность заёмщика. Рассмотренные факторы по-разному влияют на надёжность заёмщиков. Например, семейное положение оказалось более значимым фактором, чем уровень дохода.\n"
   ]
  },
  {
   "cell_type": "markdown",
   "id": "ruled-penny",
   "metadata": {},
   "source": [
    "- В ходе анализа исходного набора данных было проведено (были устранены пропуски в двух колонках с числовыми значениями - 'total_income' и 'days_employed').\n",
    "- После **устранения явных и скрытых дупликатов** и удаления оставшихся после обогащения пропусков объем датасета сократился на 0.05%\n",
    "- Были устранены **выбросы** в колонках 'days_employed' и 'children': в первом случае выбросы возникли в результате системной ошибки (данные были внесены в часах, а не в днях); во втором случае ошибка, вероятнее всего была допущена людьми, вносившими данные в систему\n",
    "- ...\n"
   ]
  },
  {
   "cell_type": "markdown",
   "id": "alleged-strand",
   "metadata": {},
   "source": [
    "**Необходимо**\n"
   ]
  },
  {
   "cell_type": "markdown",
   "id": "critical-worker",
   "metadata": {},
   "source": [
    "> 1.  Запросить в отделе по работе с клиентами информацию о возможности брать кредит без подтверждения дохода.\n",
    ">\n",
    "> 2.  Сообщить коллегам, занимающимся выгрузкой о наличие дубликатов, если вопрос не разрешится, запросить индентификационный номер клиента к датасету.\n",
    ">\n",
    "> 3.  Прописать в задаче на поставку данных формат данных (пол только F и M, положительные значения). Приложить информацию о найденных аномалиях.\n"
   ]
  },
  {
   "cell_type": "code",
   "execution_count": null,
   "metadata": {},
   "outputs": [],
   "source": []
  },
  {
   "cell_type": "markdown",
   "metadata": {},
   "source": [
    "**Сначала проверяем орфографические ошибки**\n"
   ]
  },
  {
   "cell_type": "code",
   "execution_count": null,
   "metadata": {},
   "outputs": [],
   "source": [
    "import IPython\n",
    "notebook_path = \"/\".join(\n",
    "        IPython.extract_module_locals()[1][\"__vsc_ipynb_file__\"].split(\"/\"))\n",
    "pagri_data_tools.correct_notebook_text(notebook_path)"
   ]
  },
  {
   "cell_type": "markdown",
   "metadata": {},
   "source": [
    "**Затем создаем номера у глав и оглавление**\n"
   ]
  },
  {
   "cell_type": "markdown",
   "metadata": {},
   "source": [
    "> Чтобы добавить номера глав и ссылки для оглавления и сделать оглавлнеие  \n",
    "> оглавление добавиться в начало ноутбука\n"
   ]
  },
  {
   "cell_type": "markdown",
   "metadata": {},
   "source": [
    "> Сначала можно в режиме `draft` сделать пробный варант, проверить и потом уже запустить в режиме `final`\n"
   ]
  },
  {
   "cell_type": "code",
   "execution_count": null,
   "metadata": {},
   "outputs": [],
   "source": [
    "import IPython\n",
    "notebook_path = \"/\".join(\n",
    "        IPython.extract_module_locals()[1][\"__vsc_ipynb_file__\"].split(\"/\"))\n",
    "pagri_data_tools.make_headers_link_and_toc(notebook_path)"
   ]
  },
  {
   "cell_type": "markdown",
   "metadata": {},
   "source": [
    "**Далее создаем ссыки на выводы и аномалии**\n"
   ]
  },
  {
   "cell_type": "markdown",
   "metadata": {},
   "source": [
    "> Чтобы было удобно искать где вставить якорь для ссылки, названия выводов и аномалий должно точно совпадать  \n",
    "> в итоговом списке аномалий и выводов и в тех местах (то есть в наблюдениях под ячейками), куда мы будем помещать ссылки\n"
   ]
  },
  {
   "cell_type": "markdown",
   "metadata": {},
   "source": [
    "> Чтобы сделать ссылки на выводы и аномалии, нужно  \n",
    "> в тех местах, куда хотим переходить по ссылке вставить текст выводов или аномалий (берем прямо из основных выводов)  \n",
    "> выводы должны начинаться с `_conclusion_`  \n",
    "> аномалии должны начинаться с `_anomaly_`  \n",
    "> Примеры:  \n",
    ">\n"
   ]
  },
  {
   "cell_type": "markdown",
   "metadata": {},
   "source": [
    "Окончательный текст выводов можно будет потом исправить в выводах всего отчета и поместить их в начало,  \n",
    "важно, выводы не менять до момента, пока мы не создадим ссылки на них.  \n",
    "Чтобы автомтика не нарушилась.  \n",
    "Затем можно будет исправить уже сам текст выводов и это не нарушит ссылки."
   ]
  },
  {
   "cell_type": "code",
   "execution_count": null,
   "metadata": {},
   "outputs": [],
   "source": [
    "==== _anomalies_ В столбце с количеством детей есть отрицательные значения. 47 штук. "
   ]
  },
  {
   "cell_type": "markdown",
   "metadata": {},
   "source": [
    "> Можно в одной ячейке и выводы и аномалии, с обеих ссылок будет переходить сюда, но назад будет возвращаться только в одно место,  \n",
    "> в то, которое было первым в ячейке\n"
   ]
  },
  {
   "cell_type": "markdown",
   "metadata": {},
   "source": [
    "ВАЖНО  \n",
    "разобраться почему когда рядом ставишь 2 вывода или аномалии или 1 вывод плюс 1 аномалия (вместе 2), то появляется  \n",
    "2 ссылки на оглавление"
   ]
  },
  {
   "cell_type": "markdown",
   "metadata": {},
   "source": [
    "Делаем так\n",
    "- Из всех выводов в выбираем те, которые хотим поместить в начале отчета\n",
    "- Собриаем их в отдельном файле (чтобы удобно было копировать) Можно использовать clipboard history\n",
    "- Добавляем в начало вывода _conclusiions_  \n",
    "- Далее по одному выводу полностью копируем, вставляем в поиск и удаляем в начале _conclusions_  \n",
    "при этом в буфере обмена с _conclusions_ \n",
    "- Переходим в нужное место через поиск и вставляем. \n"
   ]
  },
  {
   "cell_type": "code",
   "execution_count": null,
   "metadata": {},
   "outputs": [],
   "source": [
    "==== _conclusion_ Только 5 процентов клиентов моложе 25 лет. Основная часть клиентов старше 30 лет.\n",
    "==== _anomalies_ В колонке возраста 101 нулевое значени."
   ]
  },
  {
   "cell_type": "markdown",
   "metadata": {},
   "source": [
    "ВАЖНО  \n",
    "Проийти просмотреть чтобы не было 2 раза близко \"к оглавлению\"  \n",
    "это может быть из-за того что у нас ссылки на выводы рядом с названием главы или раздела  \n",
    "Или просто могут быть 2 выводы рядом.  "
   ]
  },
  {
   "cell_type": "markdown",
   "metadata": {},
   "source": [
    "> Содеражние выводов и аномалий появится в начале ноутбука  \n",
    "> также 2 режима `draft` и `final`\n"
   ]
  },
  {
   "cell_type": "markdown",
   "metadata": {},
   "source": [
    "> Подумать как сделать удобнее создание выводов  \n",
    "> Пока лучше сначала взять выводы из наблюдений и выбрать из них наиболее важные и интересные, не меняя их.  \n",
    "> Далее берем этот список и поиском находим ячейку с этим выводом и перед графиком помещаем  \n",
    "> _conclusion_ и сам вывод\n"
   ]
  },
  {
   "cell_type": "code",
   "execution_count": null,
   "metadata": {},
   "outputs": [],
   "source": []
  },
  {
   "cell_type": "markdown",
   "metadata": {},
   "source": [
    "> Чтобы был нужный порядок в списке выводов и аномалий в начале отчета, нужно передвать словарь со списками выводов и аномалий.  \n",
    "> Переменная order принимает словарь, где ключи `conclusions` и `anomalies`, а значения это соответствующие списки\n"
   ]
  },
  {
   "cell_type": "markdown",
   "metadata": {},
   "source": [
    "> Примеры списков\n"
   ]
  },
  {
   "cell_type": "code",
   "execution_count": null,
   "metadata": {},
   "outputs": [],
   "source": [
    "order = dict(\n",
    "            conclusions =[ 'Женщины чаще возвращают кредит, чем мужчины.']\n",
    "            , anomalies = ['В датафрейме есть строки дубликаты. 54 строки. Меньше 1 % от всего датафрейма.  ']\n",
    ")"
   ]
  },
  {
   "cell_type": "code",
   "execution_count": null,
   "metadata": {},
   "outputs": [],
   "source": [
    "pagri_data_tools.add_conclusions_and_anomalies()"
   ]
  },
  {
   "cell_type": "code",
   "execution_count": null,
   "metadata": {},
   "outputs": [],
   "source": []
  },
  {
   "cell_type": "markdown",
   "metadata": {},
   "source": [
    "**Ставим переносы для булитов там, где их нет**"
   ]
  },
  {
   "cell_type": "code",
   "execution_count": null,
   "metadata": {},
   "outputs": [],
   "source": [
    "import IPython\n",
    "notebook_path = \"/\".join(\n",
    "        IPython.extract_module_locals()[1][\"__vsc_ipynb_file__\"].split(\"/\"))\n",
    "pagri_data_tools.check_observes_new_line(notebook_path, mode='final')"
   ]
  },
  {
   "cell_type": "markdown",
   "metadata": {},
   "source": [
    "**Если сильно нужно, создаем ссыки на гипотезы**\n"
   ]
  },
  {
   "cell_type": "markdown",
   "metadata": {},
   "source": [
    "> В главе гипотез для каждой гипоетзы, куда будем переходить из оглавления, в начале перед гипотезой ставим _hypothesis_ и пробел\n"
   ]
  },
  {
   "cell_type": "code",
   "execution_count": null,
   "metadata": {},
   "outputs": [],
   "source": [
    "==== _hypotsis_ **Гипотеза 1: Название гипотезы**"
   ]
  },
  {
   "cell_type": "markdown",
   "metadata": {},
   "source": [
    "> Выполняем следующую функцию и в начале отчета появится список гипотез с ссылками  \n",
    "> Далее нужно добавить результат гипотез вручную\n"
   ]
  },
  {
   "cell_type": "code",
   "execution_count": null,
   "metadata": {},
   "outputs": [],
   "source": [
    "pagri_data_tools.add_hypotheses_links_and_toc()"
   ]
  },
  {
   "cell_type": "markdown",
   "metadata": {},
   "source": [
    "**Финальное размещение ноутбука на git hub с ссылкой на google colab**\n"
   ]
  },
  {
   "cell_type": "markdown",
   "metadata": {},
   "source": [
    "> Комитим на гит хаб финальную версию ноутбука.  \n",
    "> Создаем на гит хаб readme файл проекта, в котором в начале идет ссылка на google colab  \n",
    "> Далее ее открываем и переходим на google colab  \n",
    "> Выполняем все ячейки, смотрим все ли правильно отобразилось.  \n",
    "> Далее в меню File выбираем сохранить копию на гит хаб.  \n",
    "> Не меняем имя, тогда все содержимое ноутбука сохраниться на гит хаб.\n"
   ]
  }
 ],
 "metadata": {
  "kernelspec": {
   "display_name": "pagri-projects-W8_aXYna-py3.12",
   "language": "python",
   "name": "python3"
  },
  "language_info": {
   "codemirror_mode": {
    "name": "ipython",
    "version": 3
   },
   "file_extension": ".py",
   "mimetype": "text/x-python",
   "name": "python",
   "nbconvert_exporter": "python",
   "pygments_lexer": "ipython3",
   "version": "3.12.7"
  }
 },
 "nbformat": 4,
 "nbformat_minor": 2
}
