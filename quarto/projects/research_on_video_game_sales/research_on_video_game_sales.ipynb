{
 "cells": [
  {
   "cell_type": "raw",
   "metadata": {
    "vscode": {
     "languageId": "raw"
    }
   },
   "source": [
    "---\n",
    "description_for_list: \"Исследование продаж компьютерных игр.\"\n",
    "\n",
    "format:\n",
    "  html:\n",
    "    code-fold: true\n",
    "    code-summary: \"Show the code\"\n",
    "    fontsize: 16px\n",
    "    smooth-scroll: true\n",
    "    toc: true\n",
    "    toc-location: left\n",
    "    toc-title: Оглавление\n",
    "    grid:\n",
    "      body-width: 1100px\n",
    "---"
   ]
  },
  {
   "cell_type": "markdown",
   "metadata": {},
   "source": [
    "# Исследование продаж компьютерных игр\n"
   ]
  },
  {
   "cell_type": "markdown",
   "metadata": {},
   "source": [
    "**Автор:**  \n",
    "\n",
    "Григорьев Павел\n"
   ]
  },
  {
   "cell_type": "markdown",
   "metadata": {},
   "source": [
    "**Описание проекта:**   \n",
    "\n",
    "Интернет-магазин 'Стримчик' разрабатывает стратегию на 2017 год для повышения продаж компьютерных игр, основываясь на анализе исторических данных о продажах, оценках пользователей и экспертов, жанрах и платформах. Анализ позволит выявить закономерности, которые помогут определить потенциально популярные продукты и эффективно спланировать рекламные кампании."
   ]
  },
  {
   "cell_type": "markdown",
   "metadata": {},
   "source": [
    "**Цель:**  \n",
    "\n",
    "Определить ключевые факторы, влияющие на успешность продаж компьютерных игр, установить взаимосвязи между ними и объемами продаж,   \n",
    "а также проанализировать изменения этих показателей в зависимости от платформ, регионов продвижения и исторического периода."
   ]
  },
  {
   "cell_type": "markdown",
   "metadata": {},
   "source": [
    "**Источники данных:**  \n",
    "\n",
    "Исторические данные из открытых источников о продажах игр, включая оценки пользователей и экспертов, а также информацию о жанрах и платформах."
   ]
  },
  {
   "cell_type": "markdown",
   "metadata": {},
   "source": [
    "**Главные выводы:**  \n",
    "тут помещаем самое главное из общего вывода, примерно до полустраницы, чтобы не было сильно много и при этом указать все главные выводы\n",
    "Будет идеально, елси выводы на похожие темы будут рядом, то есть елси мы имеем несколько выводов о доходе, то лушче поместить их рядом\n",
    "\n",
    "- Женщины чаще возвращают кредит, чем мужчины.\n",
    "- Долги присутствуют у людей с разным доходом.\n"
   ]
  },
  {
   "cell_type": "markdown",
   "metadata": {},
   "source": [
    "**Аномалии и особенности в данных:**\n",
    "\n",
    "- В датафрейме есть строки дубликаты. 54 строки. Меньше 1 % от всего датафрейма.\n",
    "- В столбце с количеством детей есть отрицательные значения. 47 штук. Меньше 1 процента от всего датафрейма. Также есть клиенты с 20 детьми.\n"
   ]
  },
  {
   "cell_type": "markdown",
   "metadata": {},
   "source": [
    "**Рекомендации:**\n",
    "\n",
    "- Добавить контроль данных, чтобы не дублировались значения с разными регистрами в колонке с образованием.\n",
    "- Добавить уникальный идентификатор клиента, чтобы избежать дублирования строк.\n"
   ]
  },
  {
   "cell_type": "markdown",
   "metadata": {},
   "source": [
    "## Загрузка библиотек <skip>"
   ]
  },
  {
   "cell_type": "code",
   "execution_count": 1,
   "metadata": {},
   "outputs": [],
   "source": [
    "%load_ext autoreload\n",
    "%autoreload 2\n",
    "import pandas as pd\n",
    "import numpy as np\n",
    "import plotly.express as px\n",
    "import pagri_data_tools  # type: ignore\n",
    "pd.set_option('display.max_columns', None)\n",
    "pd.options.display.float_format = '{:,.2f}'.format"
   ]
  },
  {
   "cell_type": "markdown",
   "metadata": {},
   "source": [
    "## Описание и изучение данных\n"
   ]
  },
  {
   "cell_type": "markdown",
   "metadata": {},
   "source": [
    "### Описание данных\n"
   ]
  },
  {
   "cell_type": "markdown",
   "metadata": {},
   "source": [
    "- Name - название игры\n",
    "- Platform - платформа\n",
    "- Year_of_Release - год выпуска\n",
    "- Genre - жанр игры\n",
    "- NA_sales - продажи в Северной Америке (миллионы проданных копий)\n",
    "- EU_sales - продажи в Европе (миллионы проданных копий)\n",
    "- JP_sales - продажи в Японии (миллионы проданных копий)\n",
    "- Other_sales - продажи в других странах (миллионы проданных копий)\n",
    "- Critic_Score - оценка критиков (максимум 100)\n",
    "- User_Score - оценка пользователей (максимум 10)\n",
    "- Rating - рейтинг от организации ESRB (англ. Entertainment Software Rating Board). Эта ассоциация определяет рейтинг компьютерных игр и присваивает им подходящую возрастную категорию."
   ]
  },
  {
   "cell_type": "markdown",
   "metadata": {},
   "source": [
    "### Изучение данных\n"
   ]
  },
  {
   "cell_type": "markdown",
   "metadata": {},
   "source": [
    "#### Изучение переменных\n"
   ]
  },
  {
   "cell_type": "markdown",
   "metadata": {},
   "source": [
    "Загружаем данные и задаем типы данных для столбцов, где это возможно."
   ]
  },
  {
   "cell_type": "code",
   "execution_count": 2,
   "metadata": {},
   "outputs": [
    {
     "data": {
      "text/html": [
       "<div>\n",
       "<style scoped>\n",
       "    .dataframe tbody tr th:only-of-type {\n",
       "        vertical-align: middle;\n",
       "    }\n",
       "\n",
       "    .dataframe tbody tr th {\n",
       "        vertical-align: top;\n",
       "    }\n",
       "\n",
       "    .dataframe thead th {\n",
       "        text-align: right;\n",
       "    }\n",
       "</style>\n",
       "<table border=\"1\" class=\"dataframe\">\n",
       "  <thead>\n",
       "    <tr style=\"text-align: right;\">\n",
       "      <th></th>\n",
       "      <th>Name</th>\n",
       "      <th>Platform</th>\n",
       "      <th>Year_of_Release</th>\n",
       "      <th>Genre</th>\n",
       "      <th>NA_sales</th>\n",
       "      <th>EU_sales</th>\n",
       "      <th>JP_sales</th>\n",
       "      <th>Other_sales</th>\n",
       "      <th>Critic_Score</th>\n",
       "      <th>User_Score</th>\n",
       "      <th>Rating</th>\n",
       "    </tr>\n",
       "  </thead>\n",
       "  <tbody>\n",
       "    <tr>\n",
       "      <th>609</th>\n",
       "      <td>Space Invaders</td>\n",
       "      <td>2600</td>\n",
       "      <td>NaN</td>\n",
       "      <td>Shooter</td>\n",
       "      <td>2.36</td>\n",
       "      <td>0.14</td>\n",
       "      <td>0.00</td>\n",
       "      <td>0.03</td>\n",
       "      <td>NaN</td>\n",
       "      <td>NaN</td>\n",
       "      <td>NaN</td>\n",
       "    </tr>\n",
       "    <tr>\n",
       "      <th>12182</th>\n",
       "      <td>FIFA Soccer 06</td>\n",
       "      <td>GBA</td>\n",
       "      <td>2,005.00</td>\n",
       "      <td>Sports</td>\n",
       "      <td>0.05</td>\n",
       "      <td>0.02</td>\n",
       "      <td>0.00</td>\n",
       "      <td>0.00</td>\n",
       "      <td>NaN</td>\n",
       "      <td>tbd</td>\n",
       "      <td>E</td>\n",
       "    </tr>\n",
       "    <tr>\n",
       "      <th>7100</th>\n",
       "      <td>Buzz! Junior: RoboJam</td>\n",
       "      <td>PS2</td>\n",
       "      <td>2,007.00</td>\n",
       "      <td>Misc</td>\n",
       "      <td>0.11</td>\n",
       "      <td>0.09</td>\n",
       "      <td>0.00</td>\n",
       "      <td>0.03</td>\n",
       "      <td>NaN</td>\n",
       "      <td>NaN</td>\n",
       "      <td>NaN</td>\n",
       "    </tr>\n",
       "    <tr>\n",
       "      <th>16385</th>\n",
       "      <td>Kamaitachi no Yoru 2: Tokubetsu Hen</td>\n",
       "      <td>PSP</td>\n",
       "      <td>2,006.00</td>\n",
       "      <td>Adventure</td>\n",
       "      <td>0.00</td>\n",
       "      <td>0.00</td>\n",
       "      <td>0.01</td>\n",
       "      <td>0.00</td>\n",
       "      <td>NaN</td>\n",
       "      <td>NaN</td>\n",
       "      <td>NaN</td>\n",
       "    </tr>\n",
       "    <tr>\n",
       "      <th>12356</th>\n",
       "      <td>Tonka Rescue Patrol</td>\n",
       "      <td>GC</td>\n",
       "      <td>2,003.00</td>\n",
       "      <td>Action</td>\n",
       "      <td>0.05</td>\n",
       "      <td>0.01</td>\n",
       "      <td>0.00</td>\n",
       "      <td>0.00</td>\n",
       "      <td>NaN</td>\n",
       "      <td>NaN</td>\n",
       "      <td>NaN</td>\n",
       "    </tr>\n",
       "  </tbody>\n",
       "</table>\n",
       "</div>"
      ],
      "text/plain": [
       "                                      Name Platform  Year_of_Release  \\\n",
       "609                         Space Invaders     2600              NaN   \n",
       "12182                       FIFA Soccer 06      GBA         2,005.00   \n",
       "7100                 Buzz! Junior: RoboJam      PS2         2,007.00   \n",
       "16385  Kamaitachi no Yoru 2: Tokubetsu Hen      PSP         2,006.00   \n",
       "12356                  Tonka Rescue Patrol       GC         2,003.00   \n",
       "\n",
       "           Genre  NA_sales  EU_sales  JP_sales  Other_sales  Critic_Score  \\\n",
       "609      Shooter      2.36      0.14      0.00         0.03           NaN   \n",
       "12182     Sports      0.05      0.02      0.00         0.00           NaN   \n",
       "7100        Misc      0.11      0.09      0.00         0.03           NaN   \n",
       "16385  Adventure      0.00      0.00      0.01         0.00           NaN   \n",
       "12356     Action      0.05      0.01      0.00         0.00           NaN   \n",
       "\n",
       "      User_Score Rating  \n",
       "609          NaN    NaN  \n",
       "12182        tbd      E  \n",
       "7100         NaN    NaN  \n",
       "16385        NaN    NaN  \n",
       "12356        NaN    NaN  "
      ]
     },
     "execution_count": 2,
     "metadata": {},
     "output_type": "execute_result"
    }
   ],
   "source": [
    "dtype = {'Platform': 'category', 'Genre': 'category', 'Rating': 'category'}\n",
    "df = pd.read_csv('https://code.s3.yandex.net/datasets/games.csv', dtype=dtype)\n",
    "df.sample(5, random_state=7)"
   ]
  },
  {
   "cell_type": "markdown",
   "metadata": {},
   "source": [
    "Приведем названия колонок к нижнему регистру.\n"
   ]
  },
  {
   "cell_type": "code",
   "execution_count": 3,
   "metadata": {},
   "outputs": [],
   "source": [
    "df.columns = [col.lower() for col in df.columns]"
   ]
  },
  {
   "cell_type": "markdown",
   "metadata": {},
   "source": [
    "Столбец с оценками пользователей имеет тип object. Это странно. Изучим для начала этот столбец."
   ]
  },
  {
   "cell_type": "code",
   "execution_count": 4,
   "metadata": {},
   "outputs": [
    {
     "data": {
      "text/html": [
       "\n",
       "            <div style=\"display: flex; justify-content: flex-start; align-items: flex-end;\">\n",
       "                <style type=\"text/css\">\n",
       "#T_6d8f5 caption {\n",
       "  font-size: 16px;\n",
       "  text-align: left;\n",
       "  font-weight: bold;\n",
       "}\n",
       "#T_6d8f5 th {\n",
       "  min-width: 100px;\n",
       "}\n",
       "#T_6d8f5  td {\n",
       "  min-width: 100px;\n",
       "}\n",
       "#T_6d8f5_row0_col0, #T_6d8f5_row0_col1, #T_6d8f5_row0_col2, #T_6d8f5_row0_col3, #T_6d8f5_row1_col0, #T_6d8f5_row1_col1, #T_6d8f5_row1_col2, #T_6d8f5_row1_col3, #T_6d8f5_row2_col0, #T_6d8f5_row2_col1, #T_6d8f5_row2_col2, #T_6d8f5_row2_col3, #T_6d8f5_row3_col0, #T_6d8f5_row3_col1, #T_6d8f5_row3_col2, #T_6d8f5_row3_col3, #T_6d8f5_row4_col0, #T_6d8f5_row4_col1, #T_6d8f5_row4_col2, #T_6d8f5_row4_col3, #T_6d8f5_row5_col0, #T_6d8f5_row5_col1, #T_6d8f5_row5_col2, #T_6d8f5_row5_col3, #T_6d8f5_row6_col0, #T_6d8f5_row6_col1, #T_6d8f5_row6_col2, #T_6d8f5_row6_col3 {\n",
       "  text-align: left;\n",
       "}\n",
       "</style>\n",
       "<table id=\"T_6d8f5\">\n",
       "  <caption>Статистика и топ-10 значений столбца \"user_score\"</caption>\n",
       "  <thead>\n",
       "  </thead>\n",
       "  <tbody>\n",
       "    <tr>\n",
       "      <td id=\"T_6d8f5_row0_col0\" class=\"data row0 col0\" >Values</td>\n",
       "      <td id=\"T_6d8f5_row0_col1\" class=\"data row0 col1\" >10 014 (60%)</td>\n",
       "      <td id=\"T_6d8f5_row0_col2\" class=\"data row0 col2\" >                              </td>\n",
       "      <td id=\"T_6d8f5_row0_col3\" class=\"data row0 col3\" >tbd (24%)</td>\n",
       "    </tr>\n",
       "    <tr>\n",
       "      <td id=\"T_6d8f5_row1_col0\" class=\"data row1 col0\" >Missing</td>\n",
       "      <td id=\"T_6d8f5_row1_col1\" class=\"data row1 col1\" >6 701 (40%)</td>\n",
       "      <td id=\"T_6d8f5_row1_col2\" class=\"data row1 col2\" >                              </td>\n",
       "      <td id=\"T_6d8f5_row1_col3\" class=\"data row1 col3\" >7.8 (3%)</td>\n",
       "    </tr>\n",
       "    <tr>\n",
       "      <td id=\"T_6d8f5_row2_col0\" class=\"data row2 col0\" >Distinct</td>\n",
       "      <td id=\"T_6d8f5_row2_col1\" class=\"data row2 col1\" >96 (1%)</td>\n",
       "      <td id=\"T_6d8f5_row2_col2\" class=\"data row2 col2\" >                              </td>\n",
       "      <td id=\"T_6d8f5_row2_col3\" class=\"data row2 col3\" >8 (3%)</td>\n",
       "    </tr>\n",
       "    <tr>\n",
       "      <td id=\"T_6d8f5_row3_col0\" class=\"data row3 col0\" >Duplicated origin</td>\n",
       "      <td id=\"T_6d8f5_row3_col1\" class=\"data row3 col1\" >16 618 (99.4%)</td>\n",
       "      <td id=\"T_6d8f5_row3_col2\" class=\"data row3 col2\" >                              </td>\n",
       "      <td id=\"T_6d8f5_row3_col3\" class=\"data row3 col3\" >8.2 (3%)</td>\n",
       "    </tr>\n",
       "    <tr>\n",
       "      <td id=\"T_6d8f5_row4_col0\" class=\"data row4 col0\" >Dupl (modify - origin)</td>\n",
       "      <td id=\"T_6d8f5_row4_col1\" class=\"data row4 col1\" >---</td>\n",
       "      <td id=\"T_6d8f5_row4_col2\" class=\"data row4 col2\" >                              </td>\n",
       "      <td id=\"T_6d8f5_row4_col3\" class=\"data row4 col3\" >8.3 (3%)</td>\n",
       "    </tr>\n",
       "    <tr>\n",
       "      <td id=\"T_6d8f5_row5_col0\" class=\"data row5 col0\" >Empty</td>\n",
       "      <td id=\"T_6d8f5_row5_col1\" class=\"data row5 col1\" >---</td>\n",
       "      <td id=\"T_6d8f5_row5_col2\" class=\"data row5 col2\" >                              </td>\n",
       "      <td id=\"T_6d8f5_row5_col3\" class=\"data row5 col3\" >8.5 (3%)</td>\n",
       "    </tr>\n",
       "    <tr>\n",
       "      <td id=\"T_6d8f5_row6_col0\" class=\"data row6 col0\" >RAM (Mb)</td>\n",
       "      <td id=\"T_6d8f5_row6_col1\" class=\"data row6 col1\" >1</td>\n",
       "      <td id=\"T_6d8f5_row6_col2\" class=\"data row6 col2\" >                              </td>\n",
       "      <td id=\"T_6d8f5_row6_col3\" class=\"data row6 col3\" >7.5 (3%)</td>\n",
       "    </tr>\n",
       "  </tbody>\n",
       "</table>\n",
       "\n",
       "                <div>\n",
       "                    <img src=\"data:image/png;base64,iVBORw0KGgoAAAANSUhEUgAAAfQAAADcCAYAAACGXlNlAAAgAElEQVR4Xu3dC3CU1d3H8X9uhISb3AIKQQUVIXjFQqw0jX1jghhohnK1VQZRCBWbkBBC2zCtMFZAoUAKCRSllXtL6ISilBAoahlqocWpglxKG0fxhXIxgQSb+zvnTNmX3HdD9tnnOft9ZphhNs/lnM85u799zvPscwJqa2trhQUBBBBAAAEEHC0QQKA7uv0oPAIIIIAAAlqAQKcjIIAAAgggYIAAgW5AI1IFBBBAAAEECHT6AAIIIIAAAgYIGBPoP/3pT0X9Y0EAAQQQQMAfBYwK9PRZmVJb44/NSJ0RQAABBOwqEBQSKB26hnq9eEYFenTXb8u5MyVeR+MACCCAAAIIuCswfNzdMiimj7urt3o9owJ9aHii/O+p4lZjsCECCCCAAAJtLfDYd++VqMf7tvVuG+zPJ4F+5swZWbhwoYwaNUomTJjQZCU//fRTWbVqlXTq1Enmz5/fLIa6fk6ge72/cAAEEEAAAQ8FjAz0w4cPy9e+9jVNoQJ48ODBzQa6Wm/Dhg1SVFREoHvYgVgdAQQQQMAeAsYF+tmzZ2XJkiWyYsUKV6BHRUXJ+PHjmxXfvHmzqDN6ztDt0TEpBQIIIICAZwJGBXp5ebm8+uqr8uGHH0pCQoJMnTpVFi1aJNeuXZOOHTvKv/71L3n00Udl+vTpWkmF+LFjxyQyMlKOHz8uPXv2rBPoJ06caKC5detWhtw962OsjQACCCBggYBRga68CgoK5Pe//71kZ2c3GHJXgZ+UlCSvvPKKtGvXTubNmyf5+fkSFBTU6JC7Cu/6iwp5rqFb0DM5BAIIIICARwJ+FehKJiMjQx544AGpqamRTz75RJ/Rq4Vr6B71G1ZGAAEEELCZgN8Felpamh52v3r1qr5mrs7WCXSb9UqKgwACCCDgsYBxgb53717Zvn27rFmzpsGQe2VlpYwZM0b/RO3cuXP67DwvL08Pv3OG7nHfYQMEEEAAARsJGBfo6i53ddPbY489pm+K+9Of/iQff/yxvuHtiy++kOjoaB3qalm6dKn+25133ilffvmlXLx4Ud9E16dP00/a4XfoNuq9FAUBBBBAwCVgXKB7u20JdG8Ls38EEEAAgdYIEOgeqqlAn/zEdPnqSoWHW7I6AggggAAC3hPo0a+z9I3q5r0D/HfPPnn0qzdqxfSp3lBlnwgggAACThEg0J3SUpQTAQQQQACBZgQIdLoHAggggAACBggYFegJg56Wy5+XGtAsjVdhyP9Eyu0P9jS2flQMAQQQQKD1AkYFuumPfv3W80PkrujerW9ttkQAAQQQMFaAQHdQ0xLoDmosiooAAghYLGBpoI8ePVqKi4tdVVRPiFNTqsbExNSptnqa3L///W/p0aOHnDx5UlJSUvRDZppb/OF36AS6xe8ODocAAgg4SMDSQM/NzZXk5GTNU1tbK1lZWbJgwQI9q9r1RT3Hfdq0abJv3z79+ltvvaWnUl28eDGBzpC7g95aFBUBBBCwVsDSQL+xaoWFhVJVVSUjR46sU2N1Zj5x4kTZtWuXdOjQQVauXClqelU1Gxtn6FxDt/btwdEQQAAB5wj4JNCrq6slMzNTD7cHBgY20NqxY4eeyOXuu+8WNc/5m2++qcP9+vL666832Ka0tNT4+dAZcnfOG4uSIoAAAlYL+CTQ8/PzJSwsTOLj4xvUV10znz9/vmzatElCQkJk69atcvTo0TpD7iq86y8q5LnL3eruw/EQQAABBOwiYHmgV1RUyJw5c2T58uWNnp2ra+bHjx/Xs6upRV1TnzJlip6djSF3htzt8sahHAgggIDdBCwP9M2bN0tERITExcW5LEpKSvRNcGPHjhU1b/qWLVv0MLtaVJBnZ2fLtm3bCHRuirPb+4fyIIAAArYRsDTQy8rKJD09XXJyciQgIMCFoIbU1R3v6rp5aGioLFu2TP+tc+fO+mdrav70IUOGEOgEum3eOBQEAQQQsJuApYHuzcrzO3Rv6rJvBBBAAAG7CxgV6LH9xsuFoqt2N291+b6WNEDueJhnubcakA0RQAABgwWMCvSUGRkitea2VkhooHTsHmZuBakZAggggECrBYwKdDXszoIAAggggIA/ChDo/tjq1BkBBBBAwDgBowJ95jOpUlVR4/hGCuvUTrr17ej4elABBBBAAAHrBIwKdFOeFDfie/fK4Ni+1vUCjoQAAggg4HgBAt2GTUig27BRKBICCCBgcwEC3YYNRKDbsFEoEgIIIGBzAVsG+po1a0RNo9qjRw/9pLiUlBS58847m6U06cEyBLrN3zUUDwEEELChgO0CXU3GMm3aNP1s96CgIFGTtRw7dqzObGuNORLoNuxdFAkBBBBAwDIB2wW6OjOfOHGi7Nq1S8+BvnLlSikvL5eMjAwXyoEDBxoAqde4Kc6yfsOBEEAAAQRsJmC7QFc+O3bs0BO13H333XLixAk985oK9+sLgW6zXkRxEEAAAQR8LmC7QFfXzOfPny+bNm2SkJAQ2bp1q6jZ2BYvXtwsFkPuPu9LFAABBBBAwIcCtgt0dc38+PHjsmjRIs2irqlPmTJFz4ve3EKg+7AXcWgEEEAAAZ8L2C7Q9+7dK1u2bNHD7GpRQZ6dnS3btm0j0H3eXSgAAggggIBdBWwX6DU1NbJs2TLt1blzZ/2ztalTp8qQIUMIdLv2IsqFAAIIIOBzAdsFemtFGHJvrRzbIYAAAgiYIGBUoM98ZrZUGzA5S2inEOnO5CwmvL+oAwIIIGCZgFGBznzolvUbDoQAAgggYDMBAt1mDUJxEEAAAQQQaI2AUYGeOiNDamtbw2CfbcK7hEpoh2D7FIiSIIAAAgg4QsCoQI/tN14uFF1xBHxjhQzr1E6+/t2B0u22jo6tAwVHAAEEEPCNgFGB7vRnuYffEipPpj7EDXG+eS9wVAQQQMDRAgS6jZqPQLdRY1AUBBBAwGEClgb6/v37Zc+ePdK/f385ffq0JCYmSmxsbB2yCxcuyMsvv6wnZrl27Zr+N2/evDqTszRmbMLv0Al0h717KC4CCCBgIwFLAz0uLk5Phzp48GA9x3lKSooUFhbW4Th//rwO+xEjRujXZ8+eLYMGDZLp06c3y0ag26hXURQEEEAAAcsFLA30SZMmSWpqqkRHR8vBgwf1M9rVbGrNLT/+8Y+lW7dukp6e7lrtypWGN76px8VyDd3y/sMBEUAAAQRsImBpoKvnss+dO1eGDRsmhw4dkqVLl8rAgQObpFDPdR83bpwsXLhQoqKiXOtdf9b7jRuqkCfQbdKrKAYCCCCAgOUClgV6eXm5DufVq1dLZGSknDp1StLS0iQvL09CQ0Mbrbiaca1Tp04yfvz4FmEYcm+RiBUQQAABBAwWsCzQ1TVzNdyupke9vqhr6itWrKhz9q3+VltbK+vXr9fB/8QTT7jFT6C7xcRKCCCAAAKGClgW6BcvXpSkpCQpKCiQ8PBwKS0tlYSEBNm5c6cEBwfLvn37ZOzYsfKf//xHcnJyZNSoUc0Ox9dvDwLd0B5KtRBAAAEE3BKwLNBVaVR4HzlyRJ95FxUVyfDhw2XMmDFy9OhRycrKku3bt8uuXbv0fOgq5K8v6vp5bm5usxUi0N1qb1ZCAAEEEDBUwNJA96Yhge5NXfaNAAIIIGB3AaMCPWHQ0/Ll2TK7mzdZvtAOIfJQ4h3SrQ/PcndsI1JwBBBAwEcCRgU686H7qBdxWAQQQAABnwsQ6D5vAgqAAAIIIIDAzQsQ6DdvyB4QQAABBBDwuYBRgT4pbrp8daXC56juFCAgMEBuv6+7dOV6uTtcrIMAAggg0IKAUYHupEe/hoQGyai0h6TXgFvopAgggAACCNy0AIF+04St2wGB3jo3tkIAAQQQaFzA0kB3Zz70S5cu6fnQ1ZzplZWV8sUXX8iPfvQj6dmzZ7Nt6LTfoRPovCURQAABBNpSwNJAd2c+9OLiYjlz5owMHTpU13P+/PkSEREhL730EoHeli3PvhBAAAEEjBKwNNA9nQ9dTdIya9Ys/cx39YjY5hbO0I3ql1QGAQQQQMBDAUsD3ZP50NU0q2qGtj59+khmZqYEBQW5qrZ58+YG1VTTsXJTnIetz+oIIIAAAsYIWBborZkPXSm/8cYbcvr0aVm0aJELXYV3/UWFPIFuTL+kIggggAACHgpYFujuzodeXV1d52xcbZecnCzvv/8+Q+4eNi6rI4AAAgj4j4Blge7ufOi7d++We+65RwYMGKBbQU25mp+fr8/Um1u4hu4/nZaaIoAAAgg0FLAs0K+Hc0vzoR8/flw2btyof7amztbPnz+vb4xT19IJdLowAggggAACjQtYGujebATO0L2py74RQAABBOwuYFSgR3dLkvP/KLG7uS5fSGigxM28TyL68+hXRzQYhUQAAQRsLmBUoKfPypSaGpuL31C89uHBEtoxxDkFpqQIIIAAArYVMCrQ1bA7CwIIIIAAAv4oQKD7Y6tTZwQQQAAB4wSMCnQ15F7rlCH3AJGwziESEhpsXKeiQggggAAC1gsYFejRXb8t584446a4Tj3aS9yM+6VLr3DrW50jIoAAAggYJ2BUoDvp0a+de4bJk6kPEejGvaWoEAIIIOAbAQLdN+5CoPsInsMigAAChgpYGuj79++XPXv26KfAqQlXEhMTJTY2tgHt448/LlVVVa7X1Zzo8fHxzTaB0x4sQ6Ab+o6iWggggICPBCwN9Li4OFm5cqUMHjxYT42akpIihYWFDaq+dOlSSU9P94iEQPeIi5URQAABBAwTsDTQJ02aJKmpqRIdHS0HDx6U7Oxs2bp1q8eBfuLEiQbbqP1wDd2w3kl1EEAAAQTcFrA00E+ePClz586VYcOGyaFDh0SdiQ8cOLBBYdPS0iQqKkquXbsmwcHBMnnyZLnllv9/RGpjXwJUyBPobrc7KyKAAAIIGCZgWaCXl5fLuHHjZPXq1RIZGSmnTp0SFdx5eXkSGhraJOuvfvUrOXz4sKxatapZeobcDeuZVAcBBBBAwCMBywJdXTNXw+179+51FVBdU1+xYoU+G29qUWfe06dPl/fee49A96hpWRkBBBBAwJ8ELAv0ixcvSlJSkhQUFEh4eLiUlpZKQkKC7Ny5Uw+r79u3T8aOHatvlisrK9PD8mp5++235Xe/+52sW7eOQPennkldEUAAAQQ8ErAs0FWpVHgfOXJED7kXFRXJ8OHDZcyYMXL06FHJysqS7du3iwr+JUuWyD333CM1NTVy7tw5efHFF6Vv374EukdNy8oIIIAAAv4kYGmgexOWa+je1GXfCCCAAAJ2FzAq0Cc/MV2+ulJhd3NdvuDQILnjoZ7SsWt7R5SXQiKAAAII2FvAqEBnPnR7dzZKhwACCCDgPQEC3Xu27BkBBBBAAAHLBAh0y6g5EAIIIIAAAt4TMCrQEwY9LZc/L/WeVhvuue/g7vLAk7e34R7ZFQIIIICAPwsYFehOevTr4Ng+MuJ7g/y571F3BBBAAIE2FCDQ2xDTk10R6J5osS4CCCCAQEsClgb66NGjpbi42FWmyspK/RCZmJiYOuX0h/nQCfSWuiZ/RwABBBDwRMDSQM/NzZXk5GRdvtraWv10uAULFkhQUFCdMvvDfOgEuifdlHURQAABBFoSsDTQbyxMYWGhVFVVyciRIxuUkUBvqdn4OwIIIIAAAnUFfBLo1dXVkpmZqYfbAwMDG7RJS/Ohv/766w22UZO9cFMc3RsBBBBAwF8FfBLo+fn5EhYWJvHx8S26NzYfugrv+osKeQK9RU5WQAABBBAwVMDyQK+oqJA5c+bI8uXLGz07r+9s6nzoXEM39B1FtRBAAAEfCVge6Js3b5aIiAiJi4tzVbmkpMTv5kMn0H3U4zksAgggYKiApYFeVlYm6enpkpOTIwEBAS5Sf5wPnUA39B1FtRBAAAEfCVga6N6so9PmQyfQvdkb2DcCCCDgfwJGBXpsv/FyoeiqI1qx/9CeMvTbAxxRVgqJAAIIIGB/AaMCPWVGhkit/dFVCdWv9br07uCMwlJKBBBAAAHbCxgV6GrYnQUBBBBAAAF/FCDQ/bHVqTMCCCCAgHECRgX6zGdSpaqixhGN1LFbe+nSK9wRZaWQCCCAAAL2FzAq0J30pLin0h+WPoO62b+HUEIEEEAAAUcIEOg+aiYC3UfwHBYBBBAwVIBA91HDEug+guewCCCAgKEClgb66NGjpbi42EVZWVmpZ1yLiYlxvabmSc/Ozhb1VLmOHTvq9TMyMqR9+/bNNoHTHixDoBv6jqJaCCCAgI8ELA303NxcSU5O1lVVwZ2VlSULFiyQoKAgV/Xfeecd2b59u7z55pv6tddee03atWsnKSkpBLqPOgmHRQABBBCwv4ClgX4jR2FhoVRVVcnIkSPrKKmz88uXL8tPfvIT/fq7776rz9hVyF9fDhw40EBWvcZNcfbvcJQQAQQQQMA7Aj4J9OrqasnMzNTD7YHqkWk3LCro161bJxs2bJCQkBD529/+JrNnz9bBTqB7pxOwVwQQQAAB5wv4JNDz8/MlLCxM4uPjGxVUU6x+/PHHcuutt4q6zl5QUCB/+MMfmtXmGrrzOyM1QAABBBBovYDlgV5RUSFz5syR5cuXNzg7b6waO3fulF27dsnatWsJ9Na3M1sigAACCBguYHmgq7PviIgIiYuLc9GWlJTIvn37ZOzYsfLZZ5/pudL79u0ramh+xowZMmnSpDrrN9YmnKEb3lOpHgIIIIBAswKWBrr6KVp6errk5OTo0L6+HD16VN/xrm58Kyoqko0bN+pAV/+PioqSZ599tsVmJNBbJGIFBBBAAAGDBSwNdG86Euje1GXfCCCAAAJ2FzAq0Gc+M1uqHTI5S4fuodIlgslZ7P4GoXwIIICAUwSMCnTmQ3dKt6OcCCCAAAJtLUCgt7Uo+0MAAQQQQMAHAkYFeuqMDKmt9YGih4cMDg2STt2bfza9h7tkdQQQQAABPxcwKtBj+42XC0VXbN+kQ8cMkP6PRNi+nBQQAQQQQMA5AkYFulOe5R77XJTc8/VbndNLKCkCCCCAgO0FCHQfNBGB7gN0DokAAggYLmBpoO/fv1/27Nkj/fv3l9OnT0tiYqLExsY2IFZPiFOPe1VTqKrnvruzOOl36AS6Oy3KOggggAACnghYGujqca8rV66UwYMHy7Fjx/Qc52p2tfqLmllNzbSmZln74IMP3KoPge4WEyshgAACCBgqYGmgq2eyp6amSnR0tBw8eFDPc75169ZGac+fPy9jxoxpNNCvXGl449uyZcscMx86Z+iGvpuoFgIIIOBDAUsD/eTJkzJ37lwZNmyYHDp0SJYuXSoDBw70ONBVeNdfVMhzU5wPexKHRgABBBDwqYBlgV5eXi7jxo2T1atXS2RkpJw6dUrS0tIkLy9PQkNDGyA0d4bemBhD7j7tRxwcAQQQQMDHApYFurpmrobb9+7d66qyuqa+YsUKPaNa/YVA93HP4PAIIIAAAo4SsCzQL168KElJSVJQUCDh4eFSWloqCQkJsnPnTgkODnbNh35dj0B3VD+isAgggAACPhawLNBVPVV4HzlyRA+5q7nOhw8frm98u3E+9LCwMHn//fdFXW9fu3atzJkzRwYMGCBDhw5tloohdx/3JA6PAAIIIOBTAUsD3Zs1JdC9qcu+EUAAAQTsLmBUoCcMelq+PFtmd3MZFNtX7ny4p+3LSQERQAABBJwjYFSgMx+6czoeJUUAAQQQaFsBAr1tPdkbAggggAACPhEg0H3CzkERQAABBBBoWwGjAn1S3HT56kpF2wq18d463BLK1KltbMruEEAAAQREjAp0Jzz69Y6HIiT+xfvpewgggAACCLSpAIHeppwt74xAb9mINRBAAAEEPBewNNBHjx4txcXFrlJWVlbKkiVLJCYmxvXaZ599JhMmTNBPj7u+qPnRd+/eLV26dGmyhk75HTqB7nknZQsEEEAAgZYFLA303NxcSU5O1qWqra2VrKwsWbBggQQFBblKevbsWf3kuMTERP3apUuXZP369fqJcc0tBHrLjc0aCCCAAALmClga6DcyFhYWSlVVlYwcObJZXTXF6uTJk+W2224j0M3th9QMAQQQQOAmBXwS6GoIPTMzUw+3BwYGNlkFdba+efNmycjIqLOOeq3+oqZj5aa4m+wNbI4AAggg4FgBnwR6fn6+qElY4uPjm4VbuHChvPDCC9K7d+8666nwrr+okCfQHdsPKTgCCCCAwE0KWB7oFRUV+nr48uXLmz07P3PmjOTl5cncuXPdqiLX0N1iYiUEEEAAAUMFLA90dSYdEREhcXFxLtKSkpIG86HPmzdPZs+eLb169XKLnkB3i4mVEEAAAQQMFbA00MvKyiQ9PV1ycnIkICDARVp/PvSPPvpI/0zN3bNztSMC3dAeSrUQQAABBNwSsDTQ3SpRK1ci0FsJx2YIIIAAAkYIGBXo0d2S5Pw/SmzdMJH395BvPR9l6zJSOAQQQAAB5wkYFejpszKlpsbejRAYINKpZ5i9C0npEEAAAQQcJ2BUoKthdxYEEEAAAQT8UcCoQPfHBqTOCCCAAAL+K3DjiawxgX7gwAHdorGxsf7bsl6q+ZUrV2TdunWSlpbmpSP49243btwo0dHRctddd/k3hBdqf+LECfnwww9l0qRJXtg7u1RP+5w1a5aEh4eD0cYC6vHo7du3lxEjRri9ZwLdbSr/XZFA927bE+je8yXQvWer9kyge8+XQOcM3Su9i0D3CqtrpwS693wJdO/ZEujetSXQCXSv9DAC3SusBLp3WfXeCXTvInOG7j1fAp1A90rvItC9wkqge5eVQLfAl0D3HrJfB7r3WNkzAggggAAC9hcw5qY4+1NTQgQQQAABBLwnQKB7z5Y9I4AAAgggYJkAgW4ZNQdCAAEEEEDAewIEuvds2TMCCCCAAAKWCRDollFzIAQQQAABBLwnQKB7z5Y9I4AAAgggYJkAgW4ZNQdCAAEEEEDAewJGBPrq1atFPfykvLxcbr31Vpk+fbr3xAzc8/Hjx+X555+XoKAgV+127NghPXv2lDNnzsjatWulT58+8umnn8oPfvADuf322/V6uDfdGUpLS+Wtt97SfkuXLnWt2BrP5rYxsDu6VaUjR47IL37xC0lNTZUHH3xQb0M/douu2ZXWrFkjFy9elE6dOsk///lPSUpKck14pR508sc//lG6d+8uly5dkqysLAkLC5OysjJZtGiR9OjRQz7//HNJTEyUb37zm/o4TW1z8yVlD40JOD7Q//znP8uWLVtkxYoVun4qzGfMmCFDhw6lxd0UUB+ERUVFMmrUqAZbPPfcc5Keni5RUVGiPkR/+ctfinrT4940bmVlpezdu1d/MCon9cXn+tIaz6a2cbN5jVvt2LFjOkReeeUVefnll+sEOv345po7Ly9PvvOd7+idfPLJJ/qLvgpxdbI0efJkUX8PDQ3VnwEBAQH683bVqlX6C8Czzz4r6ovs+PHjZfv27VJTU9PkNjdXSrZuSsDxgf7qq69Kr169RH3oqUWdTV6+fFnmzZtHq7sp0FSgq2/h6tv2wYMHJTAwUKqrq+Wxxx6Td955R7+hcW8eWDnt2rXLFeit8XzhhReabINu3bq52cJmrqbOHtVc0DeeoTcW6K1x5/ND9IjcuHHjZN++ffqLaX5+vg5vtfz1r3/VZ+W//e1v9Trz58+XBx54QP9NnVCp12pra5vcxswe6ftaOT7Q1ZCbChn1rVAtv/nNb+TQoUPy85//3Pe6DinB6dOnZcOGDdKvXz8pKSmRyMhI/S395MmTkpKSos82ry9xcXGSnZ2tAx13zwJdfXHy1FMFelPbDBo0yCE9zDvFrB/o9OO2dX777bf1e3/58uX680GNjKgQV4u6DDR16lR577335Bvf+Ib8+te/lv79++u/ZWZmyn333acDvalt2rak7O26gOMDffbs2fLoo4/KhAkTXIGuvk0uW7aMVm6FgDoLV0Ps999/v3Z96aWX9HWwGwNdXbtUgY67Z4GuhjA99VSB3tQ29957byta2JxN6gf6jTWjH99cO6vLRQsXLtQjIF27dhU1xe9HH30kixcvdgW6GhV99913JSYmRtavXy8DBgxwBbr6/FCB3tQ2N1c6tm5KwPGBrr4xqps01AefWnJzc/VZpvqWyNI6gU2bNunr5eqml6eeekoPuasb5qqqqvRZ+e7du/WlDdw9C3Q19Oupp7qG2dQ2DLnXHXKv3xr049a9/9VlC3Vf0osvviidO3fWO1Fn6ur6ufp8Vcvhw4fltdde0yOianT0hz/8oTz88MP6b+qzeOLEiTrQm9qmdSVjq5YEHB/of/nLX/Rwz/VrO+oDMDk5WR555JGW6s7f/yuwbds2GT16tISHh+tXFixYoO9wnzlzpr4pRp0hqutjH3zwgbzxxhs6zHFvufvUv4autmiNZ1PbtFwCs9eof4ZOP7759lajm3//+99l2rRpdX71om5CVMGtfv3Svn17fV+I+pKvrpfn5OToG+XUGfvVq1f19XO1nlqa2ubmS8oeGhNwfKCrSqnOpc7Kg4ODJSIiQqZMmUJreyBQUFCg72Tt27evvktVfbNWlzLUm1RdK1PfytX1MfWTlO9///v6J2y4Nw2s7ghWNxKpeznUNcRnnnlGn72on/u1xrO5bTxoZmNWVfciqMsXKkiefPJJfb02Pj5e6Mc338TK8auvvqqzI/Wzy2HDhuk+rf6pe2zUaFNGRob+jFBh/7Of/Ux69+4tFy5c0L+WiY6O1vtoapubLyl7MDbQaVoEEEAAAQT8XcCIM3R/b0TqjwACCCCAAIFOH0AAAQQQQMAAAQLdgEakCggggAACCBDo9AEEEEAAAQQMECDQDWhEqoAAAggggACBTh9AAAEEEEDAAAEC3YBGpAoIIIAAAggQ6PQBBBBAAAEEDBAg0A1oRKqAAAIIIIAAgU4fQAABBBBAwAABAt2ARqQKCCCAAAIIEOj0Af7tbFAAAADSSURBVAQQQAABBAwQINANaESqgAACCCCAAIFOH0AAAQQQQMAAAQLdgEakCggggAACCBDo9AEEEEAAAQQMECDQDWhEqoAAAggggACBTh9AAAEEEEDAAAEC3YBGpAoIIIAAAggQ6PQBBBBAAAEEDBAg0A1oRKqAAAIIIIAAgU4fQAABBBBAwAABAt2ARqQKCCCAAAIIEOj0AQQQQAABBAwQINANaESqgAACCCCAAIFOH0AAAQQQQMAAAQLdgEakCggggAACCBDo9AEEEEAAAQQMEPg/YaUgbMR1/xQAAAAASUVORK5CYII=\" alt=\"График\"/>\n",
       "                </div>\n",
       "                      \n",
       "            </div>\n",
       "            "
      ],
      "text/plain": [
       "<IPython.core.display.HTML object>"
      ]
     },
     "metadata": {},
     "output_type": "display_data"
    }
   ],
   "source": [
    "gen = pagri_data_tools.info_gen(df, column='user_score', mode='column')\n",
    "gen.next()"
   ]
  },
  {
   "cell_type": "markdown",
   "metadata": {},
   "source": [
    "**Наблюдения:**  \n",
    "\n",
    "- Есть странное значение tbd, которое не является числом. И таких значений 24 %."
   ]
  },
  {
   "cell_type": "markdown",
   "metadata": {},
   "source": [
    "tbd означает \"to be determined\" - \"будет определено позже\"  \n",
    "Так как нам нужен этот столбец в числовом виде, то заменим tbd на na. И зменим тип данных на числовой."
   ]
  },
  {
   "cell_type": "code",
   "execution_count": 5,
   "metadata": {},
   "outputs": [
    {
     "data": {
      "text/plain": [
       "np.int64(6701)"
      ]
     },
     "execution_count": 5,
     "metadata": {},
     "output_type": "execute_result"
    }
   ],
   "source": [
    "df.user_score.isna().sum()"
   ]
  },
  {
   "cell_type": "code",
   "execution_count": 6,
   "metadata": {},
   "outputs": [
    {
     "data": {
      "text/plain": [
       "np.int64(2424)"
      ]
     },
     "execution_count": 6,
     "metadata": {},
     "output_type": "execute_result"
    }
   ],
   "source": [
    "(df.user_score == 'tbd').sum()"
   ]
  },
  {
   "cell_type": "code",
   "execution_count": 7,
   "metadata": {},
   "outputs": [],
   "source": [
    "df['user_score'] = df['user_score'].replace('tbd', pd.NA)\n",
    "df['user_score'] = pd.to_numeric(df['user_score'])"
   ]
  },
  {
   "cell_type": "code",
   "execution_count": 8,
   "metadata": {},
   "outputs": [
    {
     "data": {
      "text/plain": [
       "np.int64(9125)"
      ]
     },
     "execution_count": 8,
     "metadata": {},
     "output_type": "execute_result"
    }
   ],
   "source": [
    "df.user_score.isna().sum()"
   ]
  },
  {
   "cell_type": "code",
   "execution_count": 9,
   "metadata": {},
   "outputs": [
    {
     "data": {
      "text/plain": [
       "np.int64(0)"
      ]
     },
     "execution_count": 9,
     "metadata": {},
     "output_type": "execute_result"
    }
   ],
   "source": [
    "(df.user_score == 'tbd').sum()"
   ]
  },
  {
   "cell_type": "markdown",
   "metadata": {},
   "source": [
    "Изучим каждый столбец отдельно."
   ]
  },
  {
   "cell_type": "code",
   "execution_count": 10,
   "metadata": {},
   "outputs": [
    {
     "data": {
      "text/html": [
       "<style type=\"text/css\">\n",
       "#T_90509 caption {\n",
       "  font-size: 18px;\n",
       "  text-align: left;\n",
       "  font-weight: bold;\n",
       "}\n",
       "#T_90509_row0_col0, #T_90509_row0_col1, #T_90509_row0_col2, #T_90509_row0_col3, #T_90509_row0_col4 {\n",
       "  text-align: left;\n",
       "}\n",
       "</style>\n",
       "<table id=\"T_90509\">\n",
       "  <caption>DataFrame</caption>\n",
       "  <thead>\n",
       "    <tr>\n",
       "      <th id=\"T_90509_level0_col0\" class=\"col_heading level0 col0\" >Rows</th>\n",
       "      <th id=\"T_90509_level0_col1\" class=\"col_heading level0 col1\" >Features</th>\n",
       "      <th id=\"T_90509_level0_col2\" class=\"col_heading level0 col2\" >RAM (Mb)</th>\n",
       "      <th id=\"T_90509_level0_col3\" class=\"col_heading level0 col3\" >Duplicates</th>\n",
       "      <th id=\"T_90509_level0_col4\" class=\"col_heading level0 col4\" >Dupl (sub - origin)</th>\n",
       "    </tr>\n",
       "  </thead>\n",
       "  <tbody>\n",
       "    <tr>\n",
       "      <td id=\"T_90509_row0_col0\" class=\"data row0 col0\" >16 715</td>\n",
       "      <td id=\"T_90509_row0_col1\" class=\"data row0 col1\" >11</td>\n",
       "      <td id=\"T_90509_row0_col2\" class=\"data row0 col2\" >2</td>\n",
       "      <td id=\"T_90509_row0_col3\" class=\"data row0 col3\" >---</td>\n",
       "      <td id=\"T_90509_row0_col4\" class=\"data row0 col4\" >---</td>\n",
       "    </tr>\n",
       "  </tbody>\n",
       "</table>\n"
      ],
      "text/plain": [
       "<pandas.io.formats.style.Styler at 0x7d3bffcf3230>"
      ]
     },
     "execution_count": 10,
     "metadata": {},
     "output_type": "execute_result"
    }
   ],
   "source": [
    "gen = pagri_data_tools.info_gen(df)\n",
    "gen.next()"
   ]
  },
  {
   "cell_type": "code",
   "execution_count": 11,
   "metadata": {},
   "outputs": [
    {
     "data": {
      "text/html": [
       "\n",
       "            <div style=\"display: flex; justify-content: flex-start; align-items: flex-end;\">\n",
       "                <style type=\"text/css\">\n",
       "#T_95586 caption {\n",
       "  font-size: 16px;\n",
       "  text-align: left;\n",
       "  font-weight: bold;\n",
       "}\n",
       "#T_95586_row0_col0, #T_95586_row0_col1, #T_95586_row0_col2, #T_95586_row0_col3, #T_95586_row0_col4, #T_95586_row0_col5, #T_95586_row0_col6, #T_95586_row0_col7, #T_95586_row0_col8, #T_95586_row0_col9, #T_95586_row1_col0, #T_95586_row1_col1, #T_95586_row1_col2, #T_95586_row1_col3, #T_95586_row1_col4, #T_95586_row1_col5, #T_95586_row1_col6, #T_95586_row1_col7, #T_95586_row1_col8, #T_95586_row1_col9, #T_95586_row2_col0, #T_95586_row2_col1, #T_95586_row2_col2, #T_95586_row2_col3, #T_95586_row2_col4, #T_95586_row2_col5, #T_95586_row2_col6, #T_95586_row2_col7, #T_95586_row2_col8, #T_95586_row2_col9, #T_95586_row3_col0, #T_95586_row3_col1, #T_95586_row3_col2, #T_95586_row3_col3, #T_95586_row3_col4, #T_95586_row3_col5, #T_95586_row3_col6, #T_95586_row3_col7, #T_95586_row3_col8, #T_95586_row3_col9, #T_95586_row4_col0, #T_95586_row4_col1, #T_95586_row4_col2, #T_95586_row4_col3, #T_95586_row4_col4, #T_95586_row4_col5, #T_95586_row4_col6, #T_95586_row4_col7, #T_95586_row4_col8, #T_95586_row4_col9, #T_95586_row5_col0, #T_95586_row5_col1, #T_95586_row5_col2, #T_95586_row5_col3, #T_95586_row5_col4, #T_95586_row5_col5, #T_95586_row5_col6, #T_95586_row5_col7, #T_95586_row5_col8, #T_95586_row5_col9, #T_95586_row6_col0, #T_95586_row6_col1, #T_95586_row6_col2, #T_95586_row6_col3, #T_95586_row6_col4, #T_95586_row6_col5, #T_95586_row6_col6, #T_95586_row6_col7, #T_95586_row6_col8, #T_95586_row6_col9 {\n",
       "  text-align: left;\n",
       "}\n",
       "</style>\n",
       "<table id=\"T_95586\">\n",
       "  <caption>Статистика и гистограмма столбца \"year_of_release\"</caption>\n",
       "  <thead>\n",
       "  </thead>\n",
       "  <tbody>\n",
       "    <tr>\n",
       "      <td id=\"T_95586_row0_col0\" class=\"data row0 col0\" >Values</td>\n",
       "      <td id=\"T_95586_row0_col1\" class=\"data row0 col1\" >16 446 (98%)</td>\n",
       "      <td id=\"T_95586_row0_col2\" class=\"data row0 col2\" >                              </td>\n",
       "      <td id=\"T_95586_row0_col3\" class=\"data row0 col3\" >Max</td>\n",
       "      <td id=\"T_95586_row0_col4\" class=\"data row0 col4\" >2 016</td>\n",
       "      <td id=\"T_95586_row0_col5\" class=\"data row0 col5\" >                              </td>\n",
       "      <td id=\"T_95586_row0_col6\" class=\"data row0 col6\" >Avg</td>\n",
       "      <td id=\"T_95586_row0_col7\" class=\"data row0 col7\" >2 006.48</td>\n",
       "      <td id=\"T_95586_row0_col8\" class=\"data row0 col8\" >                              </td>\n",
       "      <td id=\"T_95586_row0_col9\" class=\"data row0 col9\" >2 008 (9%)</td>\n",
       "    </tr>\n",
       "    <tr>\n",
       "      <td id=\"T_95586_row1_col0\" class=\"data row1 col0\" >Missing</td>\n",
       "      <td id=\"T_95586_row1_col1\" class=\"data row1 col1\" >269 (2%)</td>\n",
       "      <td id=\"T_95586_row1_col2\" class=\"data row1 col2\" >                              </td>\n",
       "      <td id=\"T_95586_row1_col3\" class=\"data row1 col3\" >95%</td>\n",
       "      <td id=\"T_95586_row1_col4\" class=\"data row1 col4\" >2 015</td>\n",
       "      <td id=\"T_95586_row1_col5\" class=\"data row1 col5\" >                              </td>\n",
       "      <td id=\"T_95586_row1_col6\" class=\"data row1 col6\" >Mode</td>\n",
       "      <td id=\"T_95586_row1_col7\" class=\"data row1 col7\" >2 008</td>\n",
       "      <td id=\"T_95586_row1_col8\" class=\"data row1 col8\" >                              </td>\n",
       "      <td id=\"T_95586_row1_col9\" class=\"data row1 col9\" >2 009 (9%)</td>\n",
       "    </tr>\n",
       "    <tr>\n",
       "      <td id=\"T_95586_row2_col0\" class=\"data row2 col0\" >Distinct</td>\n",
       "      <td id=\"T_95586_row2_col1\" class=\"data row2 col1\" >37 (<1%)</td>\n",
       "      <td id=\"T_95586_row2_col2\" class=\"data row2 col2\" >                              </td>\n",
       "      <td id=\"T_95586_row2_col3\" class=\"data row2 col3\" >75%</td>\n",
       "      <td id=\"T_95586_row2_col4\" class=\"data row2 col4\" >2 010</td>\n",
       "      <td id=\"T_95586_row2_col5\" class=\"data row2 col5\" >                              </td>\n",
       "      <td id=\"T_95586_row2_col6\" class=\"data row2 col6\" >Range</td>\n",
       "      <td id=\"T_95586_row2_col7\" class=\"data row2 col7\" >36</td>\n",
       "      <td id=\"T_95586_row2_col8\" class=\"data row2 col8\" >                              </td>\n",
       "      <td id=\"T_95586_row2_col9\" class=\"data row2 col9\" >2 010 (8%)</td>\n",
       "    </tr>\n",
       "    <tr>\n",
       "      <td id=\"T_95586_row3_col0\" class=\"data row3 col0\" >Duplicates</td>\n",
       "      <td id=\"T_95586_row3_col1\" class=\"data row3 col1\" >16 677 (99.8%)</td>\n",
       "      <td id=\"T_95586_row3_col2\" class=\"data row3 col2\" >                              </td>\n",
       "      <td id=\"T_95586_row3_col3\" class=\"data row3 col3\" >Median</td>\n",
       "      <td id=\"T_95586_row3_col4\" class=\"data row3 col4\" >2 007</td>\n",
       "      <td id=\"T_95586_row3_col5\" class=\"data row3 col5\" >                              </td>\n",
       "      <td id=\"T_95586_row3_col6\" class=\"data row3 col6\" >iQR</td>\n",
       "      <td id=\"T_95586_row3_col7\" class=\"data row3 col7\" >7</td>\n",
       "      <td id=\"T_95586_row3_col8\" class=\"data row3 col8\" >                              </td>\n",
       "      <td id=\"T_95586_row3_col9\" class=\"data row3 col9\" >2 007 (7%)</td>\n",
       "    </tr>\n",
       "    <tr>\n",
       "      <td id=\"T_95586_row4_col0\" class=\"data row4 col0\" >Zeros</td>\n",
       "      <td id=\"T_95586_row4_col1\" class=\"data row4 col1\" >---</td>\n",
       "      <td id=\"T_95586_row4_col2\" class=\"data row4 col2\" >                              </td>\n",
       "      <td id=\"T_95586_row4_col3\" class=\"data row4 col3\" >25%</td>\n",
       "      <td id=\"T_95586_row4_col4\" class=\"data row4 col4\" >2 003</td>\n",
       "      <td id=\"T_95586_row4_col5\" class=\"data row4 col5\" >                              </td>\n",
       "      <td id=\"T_95586_row4_col6\" class=\"data row4 col6\" >std</td>\n",
       "      <td id=\"T_95586_row4_col7\" class=\"data row4 col7\" >5.88</td>\n",
       "      <td id=\"T_95586_row4_col8\" class=\"data row4 col8\" >                              </td>\n",
       "      <td id=\"T_95586_row4_col9\" class=\"data row4 col9\" >2 011 (7%)</td>\n",
       "    </tr>\n",
       "    <tr>\n",
       "      <td id=\"T_95586_row5_col0\" class=\"data row5 col0\" >Negative</td>\n",
       "      <td id=\"T_95586_row5_col1\" class=\"data row5 col1\" >---</td>\n",
       "      <td id=\"T_95586_row5_col2\" class=\"data row5 col2\" >                              </td>\n",
       "      <td id=\"T_95586_row5_col3\" class=\"data row5 col3\" >5%</td>\n",
       "      <td id=\"T_95586_row5_col4\" class=\"data row5 col4\" >1 996</td>\n",
       "      <td id=\"T_95586_row5_col5\" class=\"data row5 col5\" >                              </td>\n",
       "      <td id=\"T_95586_row5_col6\" class=\"data row5 col6\" >kurt</td>\n",
       "      <td id=\"T_95586_row5_col7\" class=\"data row5 col7\" >1.77</td>\n",
       "      <td id=\"T_95586_row5_col8\" class=\"data row5 col8\" >                              </td>\n",
       "      <td id=\"T_95586_row5_col9\" class=\"data row5 col9\" >2 006 (6%)</td>\n",
       "    </tr>\n",
       "    <tr>\n",
       "      <td id=\"T_95586_row6_col0\" class=\"data row6 col0\" >RAM (Mb)</td>\n",
       "      <td id=\"T_95586_row6_col1\" class=\"data row6 col1\" ><1 Mb</td>\n",
       "      <td id=\"T_95586_row6_col2\" class=\"data row6 col2\" >                              </td>\n",
       "      <td id=\"T_95586_row6_col3\" class=\"data row6 col3\" >Min</td>\n",
       "      <td id=\"T_95586_row6_col4\" class=\"data row6 col4\" >1 980</td>\n",
       "      <td id=\"T_95586_row6_col5\" class=\"data row6 col5\" >                              </td>\n",
       "      <td id=\"T_95586_row6_col6\" class=\"data row6 col6\" >skew</td>\n",
       "      <td id=\"T_95586_row6_col7\" class=\"data row6 col7\" >-0.97</td>\n",
       "      <td id=\"T_95586_row6_col8\" class=\"data row6 col8\" >                              </td>\n",
       "      <td id=\"T_95586_row6_col9\" class=\"data row6 col9\" >2 005 (6%)</td>\n",
       "    </tr>\n",
       "  </tbody>\n",
       "</table>\n",
       "\n",
       "                <div>\n",
       "                    <img src=\"data:image/png;base64,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\" alt=\"График\"/>\n",
       "                </div>\n",
       "                      \n",
       "            </div>\n",
       "            "
      ],
      "text/plain": [
       "<IPython.core.display.HTML object>"
      ]
     },
     "metadata": {},
     "output_type": "display_data"
    }
   ],
   "source": [
    "gen.next()"
   ]
  },
  {
   "cell_type": "markdown",
   "metadata": {},
   "source": [
    "**Наблюдения:**  \n",
    "\n",
    "- Игры имеют год выпуска от 1980 до 2016 года.\n",
    "- Основная часть игр имеет год выпуска от 2003 до 2010 года.\n",
    "- Больше всего игр 2008 года.\n",
    "- В столбце с годом выпуска 2 % пропусков."
   ]
  },
  {
   "cell_type": "code",
   "execution_count": 12,
   "metadata": {},
   "outputs": [
    {
     "data": {
      "text/html": [
       "\n",
       "            <div style=\"display: flex; justify-content: flex-start; align-items: flex-end;\">\n",
       "                <style type=\"text/css\">\n",
       "#T_538c2 caption {\n",
       "  font-size: 16px;\n",
       "  text-align: left;\n",
       "  font-weight: bold;\n",
       "}\n",
       "#T_538c2_row0_col0, #T_538c2_row0_col1, #T_538c2_row0_col2, #T_538c2_row0_col3, #T_538c2_row0_col4, #T_538c2_row0_col5, #T_538c2_row0_col6, #T_538c2_row0_col7, #T_538c2_row0_col8, #T_538c2_row0_col9, #T_538c2_row1_col0, #T_538c2_row1_col1, #T_538c2_row1_col2, #T_538c2_row1_col3, #T_538c2_row1_col4, #T_538c2_row1_col5, #T_538c2_row1_col6, #T_538c2_row1_col7, #T_538c2_row1_col8, #T_538c2_row1_col9, #T_538c2_row2_col0, #T_538c2_row2_col1, #T_538c2_row2_col2, #T_538c2_row2_col3, #T_538c2_row2_col4, #T_538c2_row2_col5, #T_538c2_row2_col6, #T_538c2_row2_col7, #T_538c2_row2_col8, #T_538c2_row2_col9, #T_538c2_row3_col0, #T_538c2_row3_col1, #T_538c2_row3_col2, #T_538c2_row3_col3, #T_538c2_row3_col4, #T_538c2_row3_col5, #T_538c2_row3_col6, #T_538c2_row3_col7, #T_538c2_row3_col8, #T_538c2_row3_col9, #T_538c2_row4_col0, #T_538c2_row4_col1, #T_538c2_row4_col2, #T_538c2_row4_col3, #T_538c2_row4_col4, #T_538c2_row4_col5, #T_538c2_row4_col6, #T_538c2_row4_col7, #T_538c2_row4_col8, #T_538c2_row4_col9, #T_538c2_row5_col0, #T_538c2_row5_col1, #T_538c2_row5_col2, #T_538c2_row5_col3, #T_538c2_row5_col4, #T_538c2_row5_col5, #T_538c2_row5_col6, #T_538c2_row5_col7, #T_538c2_row5_col8, #T_538c2_row5_col9, #T_538c2_row6_col0, #T_538c2_row6_col1, #T_538c2_row6_col2, #T_538c2_row6_col3, #T_538c2_row6_col4, #T_538c2_row6_col5, #T_538c2_row6_col6, #T_538c2_row6_col7, #T_538c2_row6_col8, #T_538c2_row6_col9 {\n",
       "  text-align: left;\n",
       "}\n",
       "</style>\n",
       "<table id=\"T_538c2\">\n",
       "  <caption>Статистика и гистограмма столбца \"na_sales\"</caption>\n",
       "  <thead>\n",
       "  </thead>\n",
       "  <tbody>\n",
       "    <tr>\n",
       "      <td id=\"T_538c2_row0_col0\" class=\"data row0 col0\" >Values</td>\n",
       "      <td id=\"T_538c2_row0_col1\" class=\"data row0 col1\" >16 715 (100%)</td>\n",
       "      <td id=\"T_538c2_row0_col2\" class=\"data row0 col2\" >                              </td>\n",
       "      <td id=\"T_538c2_row0_col3\" class=\"data row0 col3\" >Max</td>\n",
       "      <td id=\"T_538c2_row0_col4\" class=\"data row0 col4\" >41.36</td>\n",
       "      <td id=\"T_538c2_row0_col5\" class=\"data row0 col5\" >                              </td>\n",
       "      <td id=\"T_538c2_row0_col6\" class=\"data row0 col6\" >Avg</td>\n",
       "      <td id=\"T_538c2_row0_col7\" class=\"data row0 col7\" >0.26</td>\n",
       "      <td id=\"T_538c2_row0_col8\" class=\"data row0 col8\" >                              </td>\n",
       "      <td id=\"T_538c2_row0_col9\" class=\"data row0 col9\" >0 (27%)</td>\n",
       "    </tr>\n",
       "    <tr>\n",
       "      <td id=\"T_538c2_row1_col0\" class=\"data row1 col0\" >Missing</td>\n",
       "      <td id=\"T_538c2_row1_col1\" class=\"data row1 col1\" >---</td>\n",
       "      <td id=\"T_538c2_row1_col2\" class=\"data row1 col2\" >                              </td>\n",
       "      <td id=\"T_538c2_row1_col3\" class=\"data row1 col3\" >95%</td>\n",
       "      <td id=\"T_538c2_row1_col4\" class=\"data row1 col4\" >1.06</td>\n",
       "      <td id=\"T_538c2_row1_col5\" class=\"data row1 col5\" >                              </td>\n",
       "      <td id=\"T_538c2_row1_col6\" class=\"data row1 col6\" >Mode</td>\n",
       "      <td id=\"T_538c2_row1_col7\" class=\"data row1 col7\" >0</td>\n",
       "      <td id=\"T_538c2_row1_col8\" class=\"data row1 col8\" >                              </td>\n",
       "      <td id=\"T_538c2_row1_col9\" class=\"data row1 col9\" >0.02 (3%)</td>\n",
       "    </tr>\n",
       "    <tr>\n",
       "      <td id=\"T_538c2_row2_col0\" class=\"data row2 col0\" >Distinct</td>\n",
       "      <td id=\"T_538c2_row2_col1\" class=\"data row2 col1\" >402 (2%)</td>\n",
       "      <td id=\"T_538c2_row2_col2\" class=\"data row2 col2\" >                              </td>\n",
       "      <td id=\"T_538c2_row2_col3\" class=\"data row2 col3\" >75%</td>\n",
       "      <td id=\"T_538c2_row2_col4\" class=\"data row2 col4\" >0.24</td>\n",
       "      <td id=\"T_538c2_row2_col5\" class=\"data row2 col5\" >                              </td>\n",
       "      <td id=\"T_538c2_row2_col6\" class=\"data row2 col6\" >Range</td>\n",
       "      <td id=\"T_538c2_row2_col7\" class=\"data row2 col7\" >41.36</td>\n",
       "      <td id=\"T_538c2_row2_col8\" class=\"data row2 col8\" >                              </td>\n",
       "      <td id=\"T_538c2_row2_col9\" class=\"data row2 col9\" >0.03 (3%)</td>\n",
       "    </tr>\n",
       "    <tr>\n",
       "      <td id=\"T_538c2_row3_col0\" class=\"data row3 col0\" >Duplicates</td>\n",
       "      <td id=\"T_538c2_row3_col1\" class=\"data row3 col1\" >16 313 (98%)</td>\n",
       "      <td id=\"T_538c2_row3_col2\" class=\"data row3 col2\" >                              </td>\n",
       "      <td id=\"T_538c2_row3_col3\" class=\"data row3 col3\" >Median</td>\n",
       "      <td id=\"T_538c2_row3_col4\" class=\"data row3 col4\" >0.08</td>\n",
       "      <td id=\"T_538c2_row3_col5\" class=\"data row3 col5\" >                              </td>\n",
       "      <td id=\"T_538c2_row3_col6\" class=\"data row3 col6\" >iQR</td>\n",
       "      <td id=\"T_538c2_row3_col7\" class=\"data row3 col7\" >0.24</td>\n",
       "      <td id=\"T_538c2_row3_col8\" class=\"data row3 col8\" >                              </td>\n",
       "      <td id=\"T_538c2_row3_col9\" class=\"data row3 col9\" >0.04 (3%)</td>\n",
       "    </tr>\n",
       "    <tr>\n",
       "      <td id=\"T_538c2_row4_col0\" class=\"data row4 col0\" >Zeros</td>\n",
       "      <td id=\"T_538c2_row4_col1\" class=\"data row4 col1\" >4 508 (27%)</td>\n",
       "      <td id=\"T_538c2_row4_col2\" class=\"data row4 col2\" >                              </td>\n",
       "      <td id=\"T_538c2_row4_col3\" class=\"data row4 col3\" >25%</td>\n",
       "      <td id=\"T_538c2_row4_col4\" class=\"data row4 col4\" >0</td>\n",
       "      <td id=\"T_538c2_row4_col5\" class=\"data row4 col5\" >                              </td>\n",
       "      <td id=\"T_538c2_row4_col6\" class=\"data row4 col6\" >std</td>\n",
       "      <td id=\"T_538c2_row4_col7\" class=\"data row4 col7\" >0.81</td>\n",
       "      <td id=\"T_538c2_row4_col8\" class=\"data row4 col8\" >                              </td>\n",
       "      <td id=\"T_538c2_row4_col9\" class=\"data row4 col9\" >0.01 (3%)</td>\n",
       "    </tr>\n",
       "    <tr>\n",
       "      <td id=\"T_538c2_row5_col0\" class=\"data row5 col0\" >Negative</td>\n",
       "      <td id=\"T_538c2_row5_col1\" class=\"data row5 col1\" >---</td>\n",
       "      <td id=\"T_538c2_row5_col2\" class=\"data row5 col2\" >                              </td>\n",
       "      <td id=\"T_538c2_row5_col3\" class=\"data row5 col3\" >5%</td>\n",
       "      <td id=\"T_538c2_row5_col4\" class=\"data row5 col4\" >0</td>\n",
       "      <td id=\"T_538c2_row5_col5\" class=\"data row5 col5\" >                              </td>\n",
       "      <td id=\"T_538c2_row5_col6\" class=\"data row5 col6\" >kurt</td>\n",
       "      <td id=\"T_538c2_row5_col7\" class=\"data row5 col7\" >648.57</td>\n",
       "      <td id=\"T_538c2_row5_col8\" class=\"data row5 col8\" >                              </td>\n",
       "      <td id=\"T_538c2_row5_col9\" class=\"data row5 col9\" >0.05 (3%)</td>\n",
       "    </tr>\n",
       "    <tr>\n",
       "      <td id=\"T_538c2_row6_col0\" class=\"data row6 col0\" >RAM (Mb)</td>\n",
       "      <td id=\"T_538c2_row6_col1\" class=\"data row6 col1\" ><1 Mb</td>\n",
       "      <td id=\"T_538c2_row6_col2\" class=\"data row6 col2\" >                              </td>\n",
       "      <td id=\"T_538c2_row6_col3\" class=\"data row6 col3\" >Min</td>\n",
       "      <td id=\"T_538c2_row6_col4\" class=\"data row6 col4\" >0</td>\n",
       "      <td id=\"T_538c2_row6_col5\" class=\"data row6 col5\" >                              </td>\n",
       "      <td id=\"T_538c2_row6_col6\" class=\"data row6 col6\" >skew</td>\n",
       "      <td id=\"T_538c2_row6_col7\" class=\"data row6 col7\" >18.77</td>\n",
       "      <td id=\"T_538c2_row6_col8\" class=\"data row6 col8\" >                              </td>\n",
       "      <td id=\"T_538c2_row6_col9\" class=\"data row6 col9\" >0.06 (3%)</td>\n",
       "    </tr>\n",
       "  </tbody>\n",
       "</table>\n",
       "\n",
       "                <div>\n",
       "                    <img src=\"data:image/png;base64,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\" alt=\"График\"/>\n",
       "                </div>\n",
       "            \n",
       "                <div>\n",
       "                    <img src=\"data:image/png;base64,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\" alt=\"График\"/>\n",
       "                </div>            \n",
       "            </div>\n",
       "            "
      ],
      "text/plain": [
       "<IPython.core.display.HTML object>"
      ]
     },
     "metadata": {},
     "output_type": "display_data"
    }
   ],
   "source": [
    "gen.next('dual')"
   ]
  },
  {
   "cell_type": "markdown",
   "metadata": {},
   "source": [
    "**Наблюдения:**  \n",
    "\n",
    "- В столбце с продажами в Северной Америке есть нули (27%). По видимому для этих игр не было продаж в Северной Америке.\n",
    "- Количество проданных игр в Северной Америке лежит в диапазоне от 0 до 41.36 млн.\n",
    "- В основном количество проданных игр в Северной Америке находится в диапазоне от 0 до 0.24 млн."
   ]
  },
  {
   "cell_type": "code",
   "execution_count": 13,
   "metadata": {},
   "outputs": [
    {
     "data": {
      "text/html": [
       "\n",
       "            <div style=\"display: flex; justify-content: flex-start; align-items: flex-end;\">\n",
       "                <style type=\"text/css\">\n",
       "#T_88073 caption {\n",
       "  font-size: 16px;\n",
       "  text-align: left;\n",
       "  font-weight: bold;\n",
       "}\n",
       "#T_88073_row0_col0, #T_88073_row0_col1, #T_88073_row0_col2, #T_88073_row0_col3, #T_88073_row0_col4, #T_88073_row0_col5, #T_88073_row0_col6, #T_88073_row0_col7, #T_88073_row0_col8, #T_88073_row0_col9, #T_88073_row1_col0, #T_88073_row1_col1, #T_88073_row1_col2, #T_88073_row1_col3, #T_88073_row1_col4, #T_88073_row1_col5, #T_88073_row1_col6, #T_88073_row1_col7, #T_88073_row1_col8, #T_88073_row1_col9, #T_88073_row2_col0, #T_88073_row2_col1, #T_88073_row2_col2, #T_88073_row2_col3, #T_88073_row2_col4, #T_88073_row2_col5, #T_88073_row2_col6, #T_88073_row2_col7, #T_88073_row2_col8, #T_88073_row2_col9, #T_88073_row3_col0, #T_88073_row3_col1, #T_88073_row3_col2, #T_88073_row3_col3, #T_88073_row3_col4, #T_88073_row3_col5, #T_88073_row3_col6, #T_88073_row3_col7, #T_88073_row3_col8, #T_88073_row3_col9, #T_88073_row4_col0, #T_88073_row4_col1, #T_88073_row4_col2, #T_88073_row4_col3, #T_88073_row4_col4, #T_88073_row4_col5, #T_88073_row4_col6, #T_88073_row4_col7, #T_88073_row4_col8, #T_88073_row4_col9, #T_88073_row5_col0, #T_88073_row5_col1, #T_88073_row5_col2, #T_88073_row5_col3, #T_88073_row5_col4, #T_88073_row5_col5, #T_88073_row5_col6, #T_88073_row5_col7, #T_88073_row5_col8, #T_88073_row5_col9, #T_88073_row6_col0, #T_88073_row6_col1, #T_88073_row6_col2, #T_88073_row6_col3, #T_88073_row6_col4, #T_88073_row6_col5, #T_88073_row6_col6, #T_88073_row6_col7, #T_88073_row6_col8, #T_88073_row6_col9 {\n",
       "  text-align: left;\n",
       "}\n",
       "</style>\n",
       "<table id=\"T_88073\">\n",
       "  <caption>Статистика и гистограмма столбца \"eu_sales\"</caption>\n",
       "  <thead>\n",
       "  </thead>\n",
       "  <tbody>\n",
       "    <tr>\n",
       "      <td id=\"T_88073_row0_col0\" class=\"data row0 col0\" >Values</td>\n",
       "      <td id=\"T_88073_row0_col1\" class=\"data row0 col1\" >16 715 (100%)</td>\n",
       "      <td id=\"T_88073_row0_col2\" class=\"data row0 col2\" >                              </td>\n",
       "      <td id=\"T_88073_row0_col3\" class=\"data row0 col3\" >Max</td>\n",
       "      <td id=\"T_88073_row0_col4\" class=\"data row0 col4\" >28.96</td>\n",
       "      <td id=\"T_88073_row0_col5\" class=\"data row0 col5\" >                              </td>\n",
       "      <td id=\"T_88073_row0_col6\" class=\"data row0 col6\" >Avg</td>\n",
       "      <td id=\"T_88073_row0_col7\" class=\"data row0 col7\" >0.15</td>\n",
       "      <td id=\"T_88073_row0_col8\" class=\"data row0 col8\" >                              </td>\n",
       "      <td id=\"T_88073_row0_col9\" class=\"data row0 col9\" >0 (35%)</td>\n",
       "    </tr>\n",
       "    <tr>\n",
       "      <td id=\"T_88073_row1_col0\" class=\"data row1 col0\" >Missing</td>\n",
       "      <td id=\"T_88073_row1_col1\" class=\"data row1 col1\" >---</td>\n",
       "      <td id=\"T_88073_row1_col2\" class=\"data row1 col2\" >                              </td>\n",
       "      <td id=\"T_88073_row1_col3\" class=\"data row1 col3\" >95%</td>\n",
       "      <td id=\"T_88073_row1_col4\" class=\"data row1 col4\" >0.62</td>\n",
       "      <td id=\"T_88073_row1_col5\" class=\"data row1 col5\" >                              </td>\n",
       "      <td id=\"T_88073_row1_col6\" class=\"data row1 col6\" >Mode</td>\n",
       "      <td id=\"T_88073_row1_col7\" class=\"data row1 col7\" >0</td>\n",
       "      <td id=\"T_88073_row1_col8\" class=\"data row1 col8\" >                              </td>\n",
       "      <td id=\"T_88073_row1_col9\" class=\"data row1 col9\" >0.01 (9%)</td>\n",
       "    </tr>\n",
       "    <tr>\n",
       "      <td id=\"T_88073_row2_col0\" class=\"data row2 col0\" >Distinct</td>\n",
       "      <td id=\"T_88073_row2_col1\" class=\"data row2 col1\" >307 (2%)</td>\n",
       "      <td id=\"T_88073_row2_col2\" class=\"data row2 col2\" >                              </td>\n",
       "      <td id=\"T_88073_row2_col3\" class=\"data row2 col3\" >75%</td>\n",
       "      <td id=\"T_88073_row2_col4\" class=\"data row2 col4\" >0.11</td>\n",
       "      <td id=\"T_88073_row2_col5\" class=\"data row2 col5\" >                              </td>\n",
       "      <td id=\"T_88073_row2_col6\" class=\"data row2 col6\" >Range</td>\n",
       "      <td id=\"T_88073_row2_col7\" class=\"data row2 col7\" >28.96</td>\n",
       "      <td id=\"T_88073_row2_col8\" class=\"data row2 col8\" >                              </td>\n",
       "      <td id=\"T_88073_row2_col9\" class=\"data row2 col9\" >0.02 (8%)</td>\n",
       "    </tr>\n",
       "    <tr>\n",
       "      <td id=\"T_88073_row3_col0\" class=\"data row3 col0\" >Duplicates</td>\n",
       "      <td id=\"T_88073_row3_col1\" class=\"data row3 col1\" >16 408 (98%)</td>\n",
       "      <td id=\"T_88073_row3_col2\" class=\"data row3 col2\" >                              </td>\n",
       "      <td id=\"T_88073_row3_col3\" class=\"data row3 col3\" >Median</td>\n",
       "      <td id=\"T_88073_row3_col4\" class=\"data row3 col4\" >0.02</td>\n",
       "      <td id=\"T_88073_row3_col5\" class=\"data row3 col5\" >                              </td>\n",
       "      <td id=\"T_88073_row3_col6\" class=\"data row3 col6\" >iQR</td>\n",
       "      <td id=\"T_88073_row3_col7\" class=\"data row3 col7\" >0.11</td>\n",
       "      <td id=\"T_88073_row3_col8\" class=\"data row3 col8\" >                              </td>\n",
       "      <td id=\"T_88073_row3_col9\" class=\"data row3 col9\" >0.03 (6%)</td>\n",
       "    </tr>\n",
       "    <tr>\n",
       "      <td id=\"T_88073_row4_col0\" class=\"data row4 col0\" >Zeros</td>\n",
       "      <td id=\"T_88073_row4_col1\" class=\"data row4 col1\" >5 870 (35%)</td>\n",
       "      <td id=\"T_88073_row4_col2\" class=\"data row4 col2\" >                              </td>\n",
       "      <td id=\"T_88073_row4_col3\" class=\"data row4 col3\" >25%</td>\n",
       "      <td id=\"T_88073_row4_col4\" class=\"data row4 col4\" >0</td>\n",
       "      <td id=\"T_88073_row4_col5\" class=\"data row4 col5\" >                              </td>\n",
       "      <td id=\"T_88073_row4_col6\" class=\"data row4 col6\" >std</td>\n",
       "      <td id=\"T_88073_row4_col7\" class=\"data row4 col7\" >0.5</td>\n",
       "      <td id=\"T_88073_row4_col8\" class=\"data row4 col8\" >                              </td>\n",
       "      <td id=\"T_88073_row4_col9\" class=\"data row4 col9\" >0.04 (4%)</td>\n",
       "    </tr>\n",
       "    <tr>\n",
       "      <td id=\"T_88073_row5_col0\" class=\"data row5 col0\" >Negative</td>\n",
       "      <td id=\"T_88073_row5_col1\" class=\"data row5 col1\" >---</td>\n",
       "      <td id=\"T_88073_row5_col2\" class=\"data row5 col2\" >                              </td>\n",
       "      <td id=\"T_88073_row5_col3\" class=\"data row5 col3\" >5%</td>\n",
       "      <td id=\"T_88073_row5_col4\" class=\"data row5 col4\" >0</td>\n",
       "      <td id=\"T_88073_row5_col5\" class=\"data row5 col5\" >                              </td>\n",
       "      <td id=\"T_88073_row5_col6\" class=\"data row5 col6\" >kurt</td>\n",
       "      <td id=\"T_88073_row5_col7\" class=\"data row5 col7\" >755.52</td>\n",
       "      <td id=\"T_88073_row5_col8\" class=\"data row5 col8\" >                              </td>\n",
       "      <td id=\"T_88073_row5_col9\" class=\"data row5 col9\" >0.05 (3%)</td>\n",
       "    </tr>\n",
       "    <tr>\n",
       "      <td id=\"T_88073_row6_col0\" class=\"data row6 col0\" >RAM (Mb)</td>\n",
       "      <td id=\"T_88073_row6_col1\" class=\"data row6 col1\" ><1 Mb</td>\n",
       "      <td id=\"T_88073_row6_col2\" class=\"data row6 col2\" >                              </td>\n",
       "      <td id=\"T_88073_row6_col3\" class=\"data row6 col3\" >Min</td>\n",
       "      <td id=\"T_88073_row6_col4\" class=\"data row6 col4\" >0</td>\n",
       "      <td id=\"T_88073_row6_col5\" class=\"data row6 col5\" >                              </td>\n",
       "      <td id=\"T_88073_row6_col6\" class=\"data row6 col6\" >skew</td>\n",
       "      <td id=\"T_88073_row6_col7\" class=\"data row6 col7\" >18.85</td>\n",
       "      <td id=\"T_88073_row6_col8\" class=\"data row6 col8\" >                              </td>\n",
       "      <td id=\"T_88073_row6_col9\" class=\"data row6 col9\" >0.06 (2%)</td>\n",
       "    </tr>\n",
       "  </tbody>\n",
       "</table>\n",
       "\n",
       "                <div>\n",
       "                    <img src=\"data:image/png;base64,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\" alt=\"График\"/>\n",
       "                </div>\n",
       "            \n",
       "                <div>\n",
       "                    <img src=\"data:image/png;base64,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\" alt=\"График\"/>\n",
       "                </div>            \n",
       "            </div>\n",
       "            "
      ],
      "text/plain": [
       "<IPython.core.display.HTML object>"
      ]
     },
     "metadata": {},
     "output_type": "display_data"
    }
   ],
   "source": [
    "gen.next('dual')"
   ]
  },
  {
   "cell_type": "markdown",
   "metadata": {},
   "source": [
    "**Наблюдения:**  \n",
    "\n",
    "- В столбце с продажами в Европе есть нули (35%). По видимому для этих игр не было продаж в Европе.\n",
    "- Количество проданных игр в Европе лежит в диапазоне от 0 до 28.96 млн.\n",
    "- В основном количество проданных игр в Европе находится в диапазоне от 0 до 0.11 млн."
   ]
  },
  {
   "cell_type": "code",
   "execution_count": 14,
   "metadata": {},
   "outputs": [
    {
     "data": {
      "text/html": [
       "\n",
       "            <div style=\"display: flex; justify-content: flex-start; align-items: flex-end;\">\n",
       "                <style type=\"text/css\">\n",
       "#T_01568 caption {\n",
       "  font-size: 16px;\n",
       "  text-align: left;\n",
       "  font-weight: bold;\n",
       "}\n",
       "#T_01568_row0_col0, #T_01568_row0_col1, #T_01568_row0_col2, #T_01568_row0_col3, #T_01568_row0_col4, #T_01568_row0_col5, #T_01568_row0_col6, #T_01568_row0_col7, #T_01568_row0_col8, #T_01568_row0_col9, #T_01568_row1_col0, #T_01568_row1_col1, #T_01568_row1_col2, #T_01568_row1_col3, #T_01568_row1_col4, #T_01568_row1_col5, #T_01568_row1_col6, #T_01568_row1_col7, #T_01568_row1_col8, #T_01568_row1_col9, #T_01568_row2_col0, #T_01568_row2_col1, #T_01568_row2_col2, #T_01568_row2_col3, #T_01568_row2_col4, #T_01568_row2_col5, #T_01568_row2_col6, #T_01568_row2_col7, #T_01568_row2_col8, #T_01568_row2_col9, #T_01568_row3_col0, #T_01568_row3_col1, #T_01568_row3_col2, #T_01568_row3_col3, #T_01568_row3_col4, #T_01568_row3_col5, #T_01568_row3_col6, #T_01568_row3_col7, #T_01568_row3_col8, #T_01568_row3_col9, #T_01568_row4_col0, #T_01568_row4_col1, #T_01568_row4_col2, #T_01568_row4_col3, #T_01568_row4_col4, #T_01568_row4_col5, #T_01568_row4_col6, #T_01568_row4_col7, #T_01568_row4_col8, #T_01568_row4_col9, #T_01568_row5_col0, #T_01568_row5_col1, #T_01568_row5_col2, #T_01568_row5_col3, #T_01568_row5_col4, #T_01568_row5_col5, #T_01568_row5_col6, #T_01568_row5_col7, #T_01568_row5_col8, #T_01568_row5_col9, #T_01568_row6_col0, #T_01568_row6_col1, #T_01568_row6_col2, #T_01568_row6_col3, #T_01568_row6_col4, #T_01568_row6_col5, #T_01568_row6_col6, #T_01568_row6_col7, #T_01568_row6_col8, #T_01568_row6_col9 {\n",
       "  text-align: left;\n",
       "}\n",
       "</style>\n",
       "<table id=\"T_01568\">\n",
       "  <caption>Статистика и гистограмма столбца \"jp_sales\"</caption>\n",
       "  <thead>\n",
       "  </thead>\n",
       "  <tbody>\n",
       "    <tr>\n",
       "      <td id=\"T_01568_row0_col0\" class=\"data row0 col0\" >Values</td>\n",
       "      <td id=\"T_01568_row0_col1\" class=\"data row0 col1\" >16 715 (100%)</td>\n",
       "      <td id=\"T_01568_row0_col2\" class=\"data row0 col2\" >                              </td>\n",
       "      <td id=\"T_01568_row0_col3\" class=\"data row0 col3\" >Max</td>\n",
       "      <td id=\"T_01568_row0_col4\" class=\"data row0 col4\" >10.22</td>\n",
       "      <td id=\"T_01568_row0_col5\" class=\"data row0 col5\" >                              </td>\n",
       "      <td id=\"T_01568_row0_col6\" class=\"data row0 col6\" >Avg</td>\n",
       "      <td id=\"T_01568_row0_col7\" class=\"data row0 col7\" >0.08</td>\n",
       "      <td id=\"T_01568_row0_col8\" class=\"data row0 col8\" >                              </td>\n",
       "      <td id=\"T_01568_row0_col9\" class=\"data row0 col9\" >0 (63%)</td>\n",
       "    </tr>\n",
       "    <tr>\n",
       "      <td id=\"T_01568_row1_col0\" class=\"data row1 col0\" >Missing</td>\n",
       "      <td id=\"T_01568_row1_col1\" class=\"data row1 col1\" >---</td>\n",
       "      <td id=\"T_01568_row1_col2\" class=\"data row1 col2\" >                              </td>\n",
       "      <td id=\"T_01568_row1_col3\" class=\"data row1 col3\" >95%</td>\n",
       "      <td id=\"T_01568_row1_col4\" class=\"data row1 col4\" >0.36</td>\n",
       "      <td id=\"T_01568_row1_col5\" class=\"data row1 col5\" >                              </td>\n",
       "      <td id=\"T_01568_row1_col6\" class=\"data row1 col6\" >Mode</td>\n",
       "      <td id=\"T_01568_row1_col7\" class=\"data row1 col7\" >0</td>\n",
       "      <td id=\"T_01568_row1_col8\" class=\"data row1 col8\" >                              </td>\n",
       "      <td id=\"T_01568_row1_col9\" class=\"data row1 col9\" >0.02 (4%)</td>\n",
       "    </tr>\n",
       "    <tr>\n",
       "      <td id=\"T_01568_row2_col0\" class=\"data row2 col0\" >Distinct</td>\n",
       "      <td id=\"T_01568_row2_col1\" class=\"data row2 col1\" >244 (1%)</td>\n",
       "      <td id=\"T_01568_row2_col2\" class=\"data row2 col2\" >                              </td>\n",
       "      <td id=\"T_01568_row2_col3\" class=\"data row2 col3\" >75%</td>\n",
       "      <td id=\"T_01568_row2_col4\" class=\"data row2 col4\" >0.04</td>\n",
       "      <td id=\"T_01568_row2_col5\" class=\"data row2 col5\" >                              </td>\n",
       "      <td id=\"T_01568_row2_col6\" class=\"data row2 col6\" >Range</td>\n",
       "      <td id=\"T_01568_row2_col7\" class=\"data row2 col7\" >10.22</td>\n",
       "      <td id=\"T_01568_row2_col8\" class=\"data row2 col8\" >                              </td>\n",
       "      <td id=\"T_01568_row2_col9\" class=\"data row2 col9\" >0.01 (4%)</td>\n",
       "    </tr>\n",
       "    <tr>\n",
       "      <td id=\"T_01568_row3_col0\" class=\"data row3 col0\" >Duplicates</td>\n",
       "      <td id=\"T_01568_row3_col1\" class=\"data row3 col1\" >16 471 (99%)</td>\n",
       "      <td id=\"T_01568_row3_col2\" class=\"data row3 col2\" >                              </td>\n",
       "      <td id=\"T_01568_row3_col3\" class=\"data row3 col3\" >Median</td>\n",
       "      <td id=\"T_01568_row3_col4\" class=\"data row3 col4\" >0</td>\n",
       "      <td id=\"T_01568_row3_col5\" class=\"data row3 col5\" >                              </td>\n",
       "      <td id=\"T_01568_row3_col6\" class=\"data row3 col6\" >iQR</td>\n",
       "      <td id=\"T_01568_row3_col7\" class=\"data row3 col7\" >0.04</td>\n",
       "      <td id=\"T_01568_row3_col8\" class=\"data row3 col8\" >                              </td>\n",
       "      <td id=\"T_01568_row3_col9\" class=\"data row3 col9\" >0.03 (3%)</td>\n",
       "    </tr>\n",
       "    <tr>\n",
       "      <td id=\"T_01568_row4_col0\" class=\"data row4 col0\" >Zeros</td>\n",
       "      <td id=\"T_01568_row4_col1\" class=\"data row4 col1\" >10 514 (63%)</td>\n",
       "      <td id=\"T_01568_row4_col2\" class=\"data row4 col2\" >                              </td>\n",
       "      <td id=\"T_01568_row4_col3\" class=\"data row4 col3\" >25%</td>\n",
       "      <td id=\"T_01568_row4_col4\" class=\"data row4 col4\" >0</td>\n",
       "      <td id=\"T_01568_row4_col5\" class=\"data row4 col5\" >                              </td>\n",
       "      <td id=\"T_01568_row4_col6\" class=\"data row4 col6\" >std</td>\n",
       "      <td id=\"T_01568_row4_col7\" class=\"data row4 col7\" >0.31</td>\n",
       "      <td id=\"T_01568_row4_col8\" class=\"data row4 col8\" >                              </td>\n",
       "      <td id=\"T_01568_row4_col9\" class=\"data row4 col9\" >0.04 (2%)</td>\n",
       "    </tr>\n",
       "    <tr>\n",
       "      <td id=\"T_01568_row5_col0\" class=\"data row5 col0\" >Negative</td>\n",
       "      <td id=\"T_01568_row5_col1\" class=\"data row5 col1\" >---</td>\n",
       "      <td id=\"T_01568_row5_col2\" class=\"data row5 col2\" >                              </td>\n",
       "      <td id=\"T_01568_row5_col3\" class=\"data row5 col3\" >5%</td>\n",
       "      <td id=\"T_01568_row5_col4\" class=\"data row5 col4\" >0</td>\n",
       "      <td id=\"T_01568_row5_col5\" class=\"data row5 col5\" >                              </td>\n",
       "      <td id=\"T_01568_row5_col6\" class=\"data row5 col6\" >kurt</td>\n",
       "      <td id=\"T_01568_row5_col7\" class=\"data row5 col7\" >194.27</td>\n",
       "      <td id=\"T_01568_row5_col8\" class=\"data row5 col8\" >                              </td>\n",
       "      <td id=\"T_01568_row5_col9\" class=\"data row5 col9\" >0.05 (2%)</td>\n",
       "    </tr>\n",
       "    <tr>\n",
       "      <td id=\"T_01568_row6_col0\" class=\"data row6 col0\" >RAM (Mb)</td>\n",
       "      <td id=\"T_01568_row6_col1\" class=\"data row6 col1\" ><1 Mb</td>\n",
       "      <td id=\"T_01568_row6_col2\" class=\"data row6 col2\" >                              </td>\n",
       "      <td id=\"T_01568_row6_col3\" class=\"data row6 col3\" >Min</td>\n",
       "      <td id=\"T_01568_row6_col4\" class=\"data row6 col4\" >0</td>\n",
       "      <td id=\"T_01568_row6_col5\" class=\"data row6 col5\" >                              </td>\n",
       "      <td id=\"T_01568_row6_col6\" class=\"data row6 col6\" >skew</td>\n",
       "      <td id=\"T_01568_row6_col7\" class=\"data row6 col7\" >11.21</td>\n",
       "      <td id=\"T_01568_row6_col8\" class=\"data row6 col8\" >                              </td>\n",
       "      <td id=\"T_01568_row6_col9\" class=\"data row6 col9\" >0.06 (2%)</td>\n",
       "    </tr>\n",
       "  </tbody>\n",
       "</table>\n",
       "\n",
       "                <div>\n",
       "                    <img src=\"data:image/png;base64,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\" alt=\"График\"/>\n",
       "                </div>\n",
       "            \n",
       "                <div>\n",
       "                    <img src=\"data:image/png;base64,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\" alt=\"График\"/>\n",
       "                </div>            \n",
       "            </div>\n",
       "            "
      ],
      "text/plain": [
       "<IPython.core.display.HTML object>"
      ]
     },
     "metadata": {},
     "output_type": "display_data"
    }
   ],
   "source": [
    "gen.next('dual')"
   ]
  },
  {
   "cell_type": "markdown",
   "metadata": {},
   "source": [
    "**Наблюдения:**  \n",
    "\n",
    "- В столбце с продажами в Японии есть нули (63%). По видимому для этих игр не было продаж в Японии.\n",
    "- Количество проданных игр в Японии лежит в диапазоне от 0 до 10.22 млн.\n",
    "- В основном количество проданных игр в Японии находится в диапазоне от 0 до 0.4 млн."
   ]
  },
  {
   "cell_type": "code",
   "execution_count": 15,
   "metadata": {},
   "outputs": [
    {
     "data": {
      "text/html": [
       "\n",
       "            <div style=\"display: flex; justify-content: flex-start; align-items: flex-end;\">\n",
       "                <style type=\"text/css\">\n",
       "#T_0389f caption {\n",
       "  font-size: 16px;\n",
       "  text-align: left;\n",
       "  font-weight: bold;\n",
       "}\n",
       "#T_0389f_row0_col0, #T_0389f_row0_col1, #T_0389f_row0_col2, #T_0389f_row0_col3, #T_0389f_row0_col4, #T_0389f_row0_col5, #T_0389f_row0_col6, #T_0389f_row0_col7, #T_0389f_row0_col8, #T_0389f_row0_col9, #T_0389f_row1_col0, #T_0389f_row1_col1, #T_0389f_row1_col2, #T_0389f_row1_col3, #T_0389f_row1_col4, #T_0389f_row1_col5, #T_0389f_row1_col6, #T_0389f_row1_col7, #T_0389f_row1_col8, #T_0389f_row1_col9, #T_0389f_row2_col0, #T_0389f_row2_col1, #T_0389f_row2_col2, #T_0389f_row2_col3, #T_0389f_row2_col4, #T_0389f_row2_col5, #T_0389f_row2_col6, #T_0389f_row2_col7, #T_0389f_row2_col8, #T_0389f_row2_col9, #T_0389f_row3_col0, #T_0389f_row3_col1, #T_0389f_row3_col2, #T_0389f_row3_col3, #T_0389f_row3_col4, #T_0389f_row3_col5, #T_0389f_row3_col6, #T_0389f_row3_col7, #T_0389f_row3_col8, #T_0389f_row3_col9, #T_0389f_row4_col0, #T_0389f_row4_col1, #T_0389f_row4_col2, #T_0389f_row4_col3, #T_0389f_row4_col4, #T_0389f_row4_col5, #T_0389f_row4_col6, #T_0389f_row4_col7, #T_0389f_row4_col8, #T_0389f_row4_col9, #T_0389f_row5_col0, #T_0389f_row5_col1, #T_0389f_row5_col2, #T_0389f_row5_col3, #T_0389f_row5_col4, #T_0389f_row5_col5, #T_0389f_row5_col6, #T_0389f_row5_col7, #T_0389f_row5_col8, #T_0389f_row5_col9, #T_0389f_row6_col0, #T_0389f_row6_col1, #T_0389f_row6_col2, #T_0389f_row6_col3, #T_0389f_row6_col4, #T_0389f_row6_col5, #T_0389f_row6_col6, #T_0389f_row6_col7, #T_0389f_row6_col8, #T_0389f_row6_col9 {\n",
       "  text-align: left;\n",
       "}\n",
       "</style>\n",
       "<table id=\"T_0389f\">\n",
       "  <caption>Статистика и гистограмма столбца \"other_sales\"</caption>\n",
       "  <thead>\n",
       "  </thead>\n",
       "  <tbody>\n",
       "    <tr>\n",
       "      <td id=\"T_0389f_row0_col0\" class=\"data row0 col0\" >Values</td>\n",
       "      <td id=\"T_0389f_row0_col1\" class=\"data row0 col1\" >16 715 (100%)</td>\n",
       "      <td id=\"T_0389f_row0_col2\" class=\"data row0 col2\" >                              </td>\n",
       "      <td id=\"T_0389f_row0_col3\" class=\"data row0 col3\" >Max</td>\n",
       "      <td id=\"T_0389f_row0_col4\" class=\"data row0 col4\" >10.57</td>\n",
       "      <td id=\"T_0389f_row0_col5\" class=\"data row0 col5\" >                              </td>\n",
       "      <td id=\"T_0389f_row0_col6\" class=\"data row0 col6\" >Avg</td>\n",
       "      <td id=\"T_0389f_row0_col7\" class=\"data row0 col7\" >0.05</td>\n",
       "      <td id=\"T_0389f_row0_col8\" class=\"data row0 col8\" >                              </td>\n",
       "      <td id=\"T_0389f_row0_col9\" class=\"data row0 col9\" >0 (39%)</td>\n",
       "    </tr>\n",
       "    <tr>\n",
       "      <td id=\"T_0389f_row1_col0\" class=\"data row1 col0\" >Missing</td>\n",
       "      <td id=\"T_0389f_row1_col1\" class=\"data row1 col1\" >---</td>\n",
       "      <td id=\"T_0389f_row1_col2\" class=\"data row1 col2\" >                              </td>\n",
       "      <td id=\"T_0389f_row1_col3\" class=\"data row1 col3\" >95%</td>\n",
       "      <td id=\"T_0389f_row1_col4\" class=\"data row1 col4\" >0.2</td>\n",
       "      <td id=\"T_0389f_row1_col5\" class=\"data row1 col5\" >                              </td>\n",
       "      <td id=\"T_0389f_row1_col6\" class=\"data row1 col6\" >Mode</td>\n",
       "      <td id=\"T_0389f_row1_col7\" class=\"data row1 col7\" >0</td>\n",
       "      <td id=\"T_0389f_row1_col8\" class=\"data row1 col8\" >                              </td>\n",
       "      <td id=\"T_0389f_row1_col9\" class=\"data row1 col9\" >0.01 (21%)</td>\n",
       "    </tr>\n",
       "    <tr>\n",
       "      <td id=\"T_0389f_row2_col0\" class=\"data row2 col0\" >Distinct</td>\n",
       "      <td id=\"T_0389f_row2_col1\" class=\"data row2 col1\" >155 (1%)</td>\n",
       "      <td id=\"T_0389f_row2_col2\" class=\"data row2 col2\" >                              </td>\n",
       "      <td id=\"T_0389f_row2_col3\" class=\"data row2 col3\" >75%</td>\n",
       "      <td id=\"T_0389f_row2_col4\" class=\"data row2 col4\" >0.03</td>\n",
       "      <td id=\"T_0389f_row2_col5\" class=\"data row2 col5\" >                              </td>\n",
       "      <td id=\"T_0389f_row2_col6\" class=\"data row2 col6\" >Range</td>\n",
       "      <td id=\"T_0389f_row2_col7\" class=\"data row2 col7\" >10.57</td>\n",
       "      <td id=\"T_0389f_row2_col8\" class=\"data row2 col8\" >                              </td>\n",
       "      <td id=\"T_0389f_row2_col9\" class=\"data row2 col9\" >0.02 (10%)</td>\n",
       "    </tr>\n",
       "    <tr>\n",
       "      <td id=\"T_0389f_row3_col0\" class=\"data row3 col0\" >Duplicates</td>\n",
       "      <td id=\"T_0389f_row3_col1\" class=\"data row3 col1\" >16 560 (99.1%)</td>\n",
       "      <td id=\"T_0389f_row3_col2\" class=\"data row3 col2\" >                              </td>\n",
       "      <td id=\"T_0389f_row3_col3\" class=\"data row3 col3\" >Median</td>\n",
       "      <td id=\"T_0389f_row3_col4\" class=\"data row3 col4\" >0.01</td>\n",
       "      <td id=\"T_0389f_row3_col5\" class=\"data row3 col5\" >                              </td>\n",
       "      <td id=\"T_0389f_row3_col6\" class=\"data row3 col6\" >iQR</td>\n",
       "      <td id=\"T_0389f_row3_col7\" class=\"data row3 col7\" >0.03</td>\n",
       "      <td id=\"T_0389f_row3_col8\" class=\"data row3 col8\" >                              </td>\n",
       "      <td id=\"T_0389f_row3_col9\" class=\"data row3 col9\" >0.03 (6%)</td>\n",
       "    </tr>\n",
       "    <tr>\n",
       "      <td id=\"T_0389f_row4_col0\" class=\"data row4 col0\" >Zeros</td>\n",
       "      <td id=\"T_0389f_row4_col1\" class=\"data row4 col1\" >6 601 (39%)</td>\n",
       "      <td id=\"T_0389f_row4_col2\" class=\"data row4 col2\" >                              </td>\n",
       "      <td id=\"T_0389f_row4_col3\" class=\"data row4 col3\" >25%</td>\n",
       "      <td id=\"T_0389f_row4_col4\" class=\"data row4 col4\" >0</td>\n",
       "      <td id=\"T_0389f_row4_col5\" class=\"data row4 col5\" >                              </td>\n",
       "      <td id=\"T_0389f_row4_col6\" class=\"data row4 col6\" >std</td>\n",
       "      <td id=\"T_0389f_row4_col7\" class=\"data row4 col7\" >0.19</td>\n",
       "      <td id=\"T_0389f_row4_col8\" class=\"data row4 col8\" >                              </td>\n",
       "      <td id=\"T_0389f_row4_col9\" class=\"data row4 col9\" >0.04 (4%)</td>\n",
       "    </tr>\n",
       "    <tr>\n",
       "      <td id=\"T_0389f_row5_col0\" class=\"data row5 col0\" >Negative</td>\n",
       "      <td id=\"T_0389f_row5_col1\" class=\"data row5 col1\" >---</td>\n",
       "      <td id=\"T_0389f_row5_col2\" class=\"data row5 col2\" >                              </td>\n",
       "      <td id=\"T_0389f_row5_col3\" class=\"data row5 col3\" >5%</td>\n",
       "      <td id=\"T_0389f_row5_col4\" class=\"data row5 col4\" >0</td>\n",
       "      <td id=\"T_0389f_row5_col5\" class=\"data row5 col5\" >                              </td>\n",
       "      <td id=\"T_0389f_row5_col6\" class=\"data row5 col6\" >kurt</td>\n",
       "      <td id=\"T_0389f_row5_col7\" class=\"data row5 col7\" >1054.90</td>\n",
       "      <td id=\"T_0389f_row5_col8\" class=\"data row5 col8\" >                              </td>\n",
       "      <td id=\"T_0389f_row5_col9\" class=\"data row5 col9\" >0.05 (3%)</td>\n",
       "    </tr>\n",
       "    <tr>\n",
       "      <td id=\"T_0389f_row6_col0\" class=\"data row6 col0\" >RAM (Mb)</td>\n",
       "      <td id=\"T_0389f_row6_col1\" class=\"data row6 col1\" ><1 Mb</td>\n",
       "      <td id=\"T_0389f_row6_col2\" class=\"data row6 col2\" >                              </td>\n",
       "      <td id=\"T_0389f_row6_col3\" class=\"data row6 col3\" >Min</td>\n",
       "      <td id=\"T_0389f_row6_col4\" class=\"data row6 col4\" >0</td>\n",
       "      <td id=\"T_0389f_row6_col5\" class=\"data row6 col5\" >                              </td>\n",
       "      <td id=\"T_0389f_row6_col6\" class=\"data row6 col6\" >skew</td>\n",
       "      <td id=\"T_0389f_row6_col7\" class=\"data row6 col7\" >24.58</td>\n",
       "      <td id=\"T_0389f_row6_col8\" class=\"data row6 col8\" >                              </td>\n",
       "      <td id=\"T_0389f_row6_col9\" class=\"data row6 col9\" >0.06 (2%)</td>\n",
       "    </tr>\n",
       "  </tbody>\n",
       "</table>\n",
       "\n",
       "                <div>\n",
       "                    <img src=\"data:image/png;base64,iVBORw0KGgoAAAANSUhEUgAAASwAAADcCAYAAADKmJzYAAAUsklEQVR4Xu3dDWxVZZrA8afcVlpHYLWu6EIHh4GJiknVRIYJrCEuYQQMK5FmU1bQFtImsOoiqbhJTYho0trFuGpri5EQ2oVsa7s240dS2pQ2MeKWqlgrE7UM+LGCwU9oXaS33bzvTrsK0j7U88w5vfd/EjKjffree37n9O+5t5d7UwYHBwclwbYtW7aI+8OGAAKJJZBCsBLrgLI3CCSyAMFK5KPLviGQYAIEK8EOKLuDQCILEKxEPrrsGwIJJjDug/X222+fc0hefPFFnnRPsBOV3UHACYz7YLk4nb25iPFbQk5wBBJPYNwH66cOCS9rSLwTlT1CICGusM4XrPV3PyD938cDO8qXXDpRJl9xcWDrsRACCFy4QMJeYWWnLpXDB45fuMh5vuOuf71Fps6aEth6LIQAAhcuQLCUZgRLCcUYAoYCBEuJS7CUUIwhYChAsJS4BEsJxRgChgIES4lLsJRQjCFgKECwlLgESwnFGAKGAkkbrMGBQRkYGJQz/xOX9EvSxL3LTkpKynmpCZbhWcjSCCgFkjJY8f5BOd33vVw0MVXc/5cUkcHBAUn/xUUES3niMIZAGAJJGSx3ddV/ZkD6T8f9VVZqWkxSJ8YklsoVVhgnIbeJgFYgKYM1EB/wDwXT0mP+f1Mvikm8f0AuykjlCkt75jCHQAgCSRmsIWcXrv7vRw7V0CzPYYVwdnKTCJwlkNTBupCzgWBdiBazCNgIECylK8FSQjGGgKEAwVLiEiwlFGMIGAoQLCUuwVJCMYaAoQDBUuISLCUUYwgYChAsJS7BUkIxhoChAMFS4hIsJRRjCBgKECwlLsFSQjGGgKEAwVLiEiwlFGMIGAoQLCUuwVJCMYaAoQDBUuISLCUUYwgYChAsJS7BUkIxhoChAMFS4hIsJRRjCBgKECwlLsFSQjGGgKEAwVLiEiwlFGMIGApEIlg9PT1SUVEhs2fPls8++0ymTZsmBQUFfrebm5ultbVVMjMz5YsvvpDi4mLJyMgYkWTLli3CJz8bnjUsjUBIApEI1ubNm+X666+X1atXSzwel1tvvVV27NghV1xxheTm5kp9fb1MnDhRqqqq/AdFDMXsfGYEK6SziZtFwFggEsEqKyuTiy++WDZs2CDffvutLF++XOrq6uStt96SxsZGKS8v9wydnZ1SUlLivzbSRrCMzxqWRyAkgUgEq7e3V9auXSvXXXeddHV1yapVq2TFihVSXV0t3d3dPlJucw8d8/LypL29fZirsrLyHLpjx47xkDCkE4qbRcBSIBLBcg8J58+f76+s+vr6fLBKS0ulo6PDB8z9/6Fg5efnS1tb27CJi9PZm4sYz2FZnjasjUA4ApEI1oIFC2TXrl0yc+ZMr+ACNmfOHLnqqqv881dDV1EuYO7hY21tLQ8JwzlfuFUEQhWIRLBycnJk06ZNMm/ePI+xZs0aufvuu/0/u681NDRIenq6/01iLBaTwsJCghXqacONIxCOQCSC5R721dTUyKxZs/xLF9LS0mTjxo0yYcIEaWlp8X+ysrL814qKivxvDEfaeNI9nJOJW0XAWiASwQp6JwlW0KKsh0A0BAiW8jjwSnclFGMIGAoQLCUuwVJCMYaAoQDBUuISLCUUYwgYChAsJS7BUkIxhoChAMFS4hIsJRRjCBgKECwlLsFSQjGGgKEAwVLiEiwlFGMIGAoQLCUuwVJCMYaAoQDBUuISLCUUYwgYChAsJS7BUkIxhoChAMFS4hIsJRRjCBgKECwlLsFSQjGGgKEAwVLiEiwlFGMIGAoQLCUuwVJCMYaAoQDBUuISLCUUYwgYChAsJS7BUkIxhoChAMFS4hIsJRRjCBgKECwlLsFSQjGGgKEAwVLiEiwlFGMIGAoQLCUuwVJCMYaAoQDBUuISLCUUYwgYChAsJS7BUkIxhoChAMFS4hIsJRRjCBgKECwlLsFSQjGGgKFAZILlPo7+zTfflKlTp8qHH34ojzzyiEyZMkWam5ultbVVMjMz/Sc/FxcXS0ZGxogkfJCq4RnD0giEKBCJYLkg7d69W6qqqvzH0x88eNB/bP3AwIDk5uZKfX29/3h69/WUlBQpKCggWCGeNNw0AmEJRCJYGzZskEWLFsmKFSt+5NDU1CSNjY1SXl7u/31nZ6eUlJRIXV3d8NxHH310jt2OHTskO3WpHD5wPDBXHhIGRslCCIxZIBLBWrJkiQ+Wu4r6/PPPZfr06bJ27Vp/1dXd3e0j5baenh7Jy8uT9vb24R12cTp7cxEjWGM+J/hGBCIrEIlgLVu2TB5++GGZN2+exONxH6vly5dLX1+fdHV1SWlp6XCw8vPzpa2tjYeEkT2luGMI2AlEIljr1q2TlStXym233eb31F1RpaamSnZ2tn/+qrKy0v/7jo4OKSsrk9raWoJld06wMgKRFYhEsFyU3G8IH3vsMQ+1ceNGueWWW2Tx4sWSk5Mj7jeI6enpUlFRIbFYTAoLCwlWZE8p7hgCdgKRCJZ7GPjEE0/I4OCgf8nCqVOn5MEHH/Rxamlp8X+ysrL8yxqKior8c10jbbyswe6EYWUEwhSIRLCCBiBYQYuyHgLRECBYyuPAyxqUUIwhYChAsJS4BEsJxRgChgIES4lLsJRQjCFgKECwlLgESwnFGAKGAgRLiUuwlFCMIWAoQLCUuARLCcUYAoYCBEuJS7CUUIwhYChAsJS4BEsJxRgChgIES4lLsJRQjCFgKECwlLgESwnFGAKGAgRLiUuwlFCMIWAoQLCUuARLCcUYAoYCBEuJS7CUUIwhYChAsJS4BEsJxRgChgIES4lLsJRQjCFgKECwlLgESwnFGAKGAgRLiUuwlFCMIWAoQLCUuARLCcUYAoYCBEuJS7CUUIwhYChAsJS4BEsJxRgChgIES4lLsJRQjCFgKECwlLgESwnFGAKGAgRLiUuwlFCMIWAoELlgbd++XT7++GPZunWr3+3m5mZpbW2VzMxM/0GqxcXF/sNWR9r4XELDM4alEQhRIFLB2rdvn+zcudN/yrML1smTJyU3N1fcR9m7T3uuqqqSlJQUKSgoIFghnjTcNAJhCUQmWD09Pf4j6d3V0/vvv++D1dTUJI2NjVJeXu59Ojs7paSkROrq6ghWWGcMt4tAiAKRCNY333wjzz77rBQVFcnu3buHg1VdXS3d3d0+Um5zUcvLy5P29vZhshdeeOEcvnfffVeyU5fK4QPHA6PlOazAKFkIgTELhB6seDwuZWVlsn79epk8ebK4SA1dYdXU1EhXV5eUlpYOBys/P1/a2tqGd9jF6ezNRYxgjfmc4BsRiKxA6ME6ePCgbN68WdLS0jxSb2+vnDlzRm6++WZZsmSJf/6qsrLSf62jo8PHrba2loeEkT2luGMI2AmEHqyzd+2HV1guXjk5OdLQ0CDp6elSUVEhsVhMCgsLCZbdOcHKCERWINLBcmruiXj3x/3m0L2swT3P5X5jONLGyxoie75xxxD4WQKRC9bP2ps/fzPBCkKRNRCIngDBUh4TfkuohGIMAUMBgqXEJVhKKMYQMBQgWEpcgqWEYgwBQwGCpcQlWEooxhAwFCBYSlyCpYRiDAFDAYKlxCVYSijGEDAUIFhKXIKlhGIMAUMBgqXEJVhKKMYQMBQgWEpcgqWEYgwBQwGCpcQlWEooxhAwFCBYSlyCpYRiDAFDAYKlxCVYSijGEDAUIFhKXIKlhGIMAUMBgqXEJVhKKMYQMBQgWEpcgqWEYgwBQwGCpcQlWEooxhAwFCBYSlyCpYRiDAFDAYKlxCVYSijGEDAUIFhKXIKlhGIMAUMBgqXEJVhKKMYQMBQgWEpcgqWEYgwBQwGCpcQlWEooxhAwFCBYSlyCpYRiDAFDAYKlxCVYSijGEDAUiESwqqqq5MSJEzJp0iQ5fPiw3HHHHbJw4UK/283NzdLa2iqZmZn+k5+Li4slIyNjRBI+SNXwjGFpBEIUiESw6uvr5c477/QMhw4dknXr1vlInT59WnJzc8V93X08vQtbSkqKFBQUEKwQTxpuGoGwBCIRrB/u/NGjR2XlypXS0tIi+/fvl8bGRikvL/cjnZ2dUlJSInV1dcPf0tfXd47d448/LtmpS+XwgeOBufKQMDBKFkJgzAKRC9bLL78se/fulSeffFKqq6ulu7vbR8ptPT09kpeXJ+3t7cM77OJ09uYiRrDGfE7wjQhEViBSwXLPY23dulXcc1CXXnqp1NTUSFdXl5SWlg4HKz8/X9ra2nhIGNlTijuGgJ1AZIJ15MgR2bNnj2zYsEEmT57s99hdabnnryorK/0/d3R0SFlZmdTW1hIsu3OClRGIrEAkguWeq3rnnXdk7dq1EovFhrF6e3slJydHGhoaJD09XSoqKvzXCwsLCVZkTynuGAJ2ApEI1uLFi+W777770V5u27ZN5s6d6598d3+ysrL8yxqKior8bwxH2nhZg90Jw8oIhCkQiWAFDUCwghZlPQSiIUCwlMeBlzUooRhDwFCAYClxCZYSijEEDAUIlhKXYCmhGEPAUIBgKXEJlhKKMQQMBQiWEpdgKaEYQ8BQgGApcQmWEooxBAwFCJYSl2ApoRhDwFCAYClxCZYSijEEDAUIlhKXYCmhGEPAUIBgKXEJlhKKMQQMBQiWEpdgKaEYQ8BQgGApcUcLVv/puKROjMkfHj8gv82ZLZlZkySWOkG5OmMIIKARIFgaJREZLVhN5QclZUKKX21G9l/LGy98IEv++Ua5/JeTlLfAGAIIjCZAsEYT+vPXRwvWV/99St56+U/S03FcJl2eITcuvVpm3nylpE38//f3Ut7U8Fj/93H5+lifvPbvf5S//5ebJd4/8LOu2iyuAoO+jxdqlCjzyeg4lvORYCnP+NGCtb/uA7nqN38lPf91XG66/VfyTtNHkn3bDJky9WLlLfx47IuPT8nLT3TKvJWz5ejBExJLmyBnTvfL7//phjGt574p6KtAi/s45p0bx9+YrI5jOR8JlvJEHy1YQ8t0/GePzPrtlXLp3/xCufJPj7n/+hzu/FzefuVP/irr13OvlBuWXC2ZWZeMed2grwIt7uOYd24cf2OyOo7lfCRYyhNdGyzlcqOOfXO8T978w2G58fZfSWfjYZn9u6vk2Adfy9w7Z436vecbCPoq0OI+jnnnxvE3JqvjWM5HgqU80f/SwRq6W+5k/mP7p/43j0FtQV0FWt7HoPZ1PK1jcazHw/5fyPlIsJRHNKxgKe8eYwgkhQDBUh5mgqWEYgwBQwGCpcQlWEooxhAwFCBYSlyCpYRiDAFDAYKlxCVYSijGEDAUIFhKXIKlhGIMAUOByAerublZWltbJTMz03/yc3FxsWRkZIxIYvFBqnf/20K5fAZ/L9DwXGRpBEYViHSwTp48Kbm5uVJfX+8/nr6qqkpSUlKkoKDgLx6sfyz7W3EvdAtqm/rrKfK7f/hNUMuxDgJJIRDpYDU1NUljY6OUl5f7g9HZ2SklJSVSV1c3fHD27dt3zoFy/+73166SYx9+HdhBdHF5/T/eD2y96dddJnP+7pciA4OBrZmaniqx2P+9Y0RQm/s7jGwIREUg0sGqrq6W7u5uHym39fT0SF5enrS3t48arKgAcz8QQCA4gUgHq6amRrq6uqS0tHQ4WPn5+dLW1haIwJEjR8Rdjd1zzz2BrMciwQns3LlTFi5cKFdffXVwi7LSzxYI+2cm0sHau3evf/6qsrLSQ3d0dEhZWZnU1tb+bHi3QNj4gexEgi5CsKJ5YMP+mYl0sHp7eyUnJ0caGhokPT1dKioqJBaLSWFhYSBHM2z8QHYiQRchWNE8sGH/zEQ6WO6QtbS0+D9ZWVn+ZQ1FRUX+N4ZBbGHjB7EPiboGwYrmkQ37ZybywbI8bGHjW+7beF+bYEXzCIb9M5PUwYrmKcG9QgCB8wkQLM4NBBAYNwIEa9wcKu4oAggQLM4BBBAYNwIEa9wcKu4oAggQLM4BBBAYNwIEa9wcKu4oAggQLM4BBBAYNwJJG6yxvDHguDmq4/iOunfoGHrfM7cb06dPlz179ozjPRrfd/3UqVOya9cu/04p27ZtG94Z98/bt2+XadOmydGjR+W+++6TGTNmmO9sUgZrrG8MaH40uAFxwVq8eLFMnToVjZAFzpw5I+4NCE6cOCH79+/3f5d3aHPvmrJp0yaZM2eOHDhwQJ577jn/HxrrLSmDpXljQGt41v9pAYIVvTPjlVdekZdeemk4WO7v9N5+++3y2muvyYQJEyQej8v8+fPFzV122WWmO5CUwdK8MaCpOoufV8C9M8enn37q/4L7V1995X8QFixYgFiIAmcH67333pP777/fX30NbYsWLZKnn35arr32WtN7mpTBsn5jQNMjlkSLf/nll7JmzRp59NFH5YYbbkiiPY/Wrp4drEOHDsm9994r7nngHwbrmWeekWuuucb0zidlsKzfGND0iCXZ4g888IDcdNNNctdddyXZnkdnd3/qIeGyZcv8Q0L3/nT9/f3+SvjVV1/lIaHFYbN+Y0CL+5wsa+7YsUPcE7puc8+NuDdwfOihh2Tu3LnJQhC5/Tw7WO4Orlu3zl9lZWdnyxtvvCHPP/+8/62h9ZaUV1gO1fKNAa0PWiKv/9RTT4n7D8rkyZPl2LFj/jmRVatWJfIuR3bfTp8+7X9OXn/9df9hMKtXr/ZXu+7lC+5lDe6ty2fOnCmffPKJrF+/3r/EwXpL2mBZw7I+AggEL0CwgjdlRQQQMBIgWEawLIsAAsELEKzgTVkRAQSMBAiWESzLIoBA8AIEK3hTVkQAASMBgmUEy7IIIBC8AMEK3pQVEUDASIBgGcGyLAIIBC9AsII3ZUUEEDASIFhGsCyLAALBCxCs4E1ZEQEEjAQIlhEsyyKAQPACBCt4U1ZEAAEjAYJlBMuyCCAQvADBCt6UFRFAwEiAYBnBsiwCCAQvQLCCN2VFBBAwEiBYRrAsiwACwQsQrOBNWREBBIwECJYRLMsigEDwAgQreFNWRAABIwGCZQTLsgggELwAwQrelBURQMBIgGAZwbIsAggEL0CwgjdlRQQQMBIgWEawLIsAAsELEKzgTVkRAQSMBAiWESzLIoBA8AL/Cx+PnqETJPs0AAAAAElFTkSuQmCC\" alt=\"График\"/>\n",
       "                </div>\n",
       "            \n",
       "                <div>\n",
       "                    <img src=\"data:image/png;base64,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\" alt=\"График\"/>\n",
       "                </div>            \n",
       "            </div>\n",
       "            "
      ],
      "text/plain": [
       "<IPython.core.display.HTML object>"
      ]
     },
     "metadata": {},
     "output_type": "display_data"
    }
   ],
   "source": [
    "gen.next('dual')"
   ]
  },
  {
   "cell_type": "markdown",
   "metadata": {},
   "source": [
    "**Наблюдения:**  \n",
    "\n",
    "- В столбце с продажами в других странах есть нули (39%). По видимому для этих игр не было продаж в других странах.\n",
    "- Количество проданных игр в других странах лежит в диапазоне от 0 до 10.57 млн.\n",
    "- В основном количество проданных игр в других странах находится в диапазоне от 0 до 0.03 млн."
   ]
  },
  {
   "cell_type": "code",
   "execution_count": 16,
   "metadata": {},
   "outputs": [
    {
     "data": {
      "text/html": [
       "\n",
       "            <div style=\"display: flex; justify-content: flex-start; align-items: flex-end;\">\n",
       "                <style type=\"text/css\">\n",
       "#T_1eb09 caption {\n",
       "  font-size: 16px;\n",
       "  text-align: left;\n",
       "  font-weight: bold;\n",
       "}\n",
       "#T_1eb09_row0_col0, #T_1eb09_row0_col1, #T_1eb09_row0_col2, #T_1eb09_row0_col3, #T_1eb09_row0_col4, #T_1eb09_row0_col5, #T_1eb09_row0_col6, #T_1eb09_row0_col7, #T_1eb09_row0_col8, #T_1eb09_row0_col9, #T_1eb09_row1_col0, #T_1eb09_row1_col1, #T_1eb09_row1_col2, #T_1eb09_row1_col3, #T_1eb09_row1_col4, #T_1eb09_row1_col5, #T_1eb09_row1_col6, #T_1eb09_row1_col7, #T_1eb09_row1_col8, #T_1eb09_row1_col9, #T_1eb09_row2_col0, #T_1eb09_row2_col1, #T_1eb09_row2_col2, #T_1eb09_row2_col3, #T_1eb09_row2_col4, #T_1eb09_row2_col5, #T_1eb09_row2_col6, #T_1eb09_row2_col7, #T_1eb09_row2_col8, #T_1eb09_row2_col9, #T_1eb09_row3_col0, #T_1eb09_row3_col1, #T_1eb09_row3_col2, #T_1eb09_row3_col3, #T_1eb09_row3_col4, #T_1eb09_row3_col5, #T_1eb09_row3_col6, #T_1eb09_row3_col7, #T_1eb09_row3_col8, #T_1eb09_row3_col9, #T_1eb09_row4_col0, #T_1eb09_row4_col1, #T_1eb09_row4_col2, #T_1eb09_row4_col3, #T_1eb09_row4_col4, #T_1eb09_row4_col5, #T_1eb09_row4_col6, #T_1eb09_row4_col7, #T_1eb09_row4_col8, #T_1eb09_row4_col9, #T_1eb09_row5_col0, #T_1eb09_row5_col1, #T_1eb09_row5_col2, #T_1eb09_row5_col3, #T_1eb09_row5_col4, #T_1eb09_row5_col5, #T_1eb09_row5_col6, #T_1eb09_row5_col7, #T_1eb09_row5_col8, #T_1eb09_row5_col9, #T_1eb09_row6_col0, #T_1eb09_row6_col1, #T_1eb09_row6_col2, #T_1eb09_row6_col3, #T_1eb09_row6_col4, #T_1eb09_row6_col5, #T_1eb09_row6_col6, #T_1eb09_row6_col7, #T_1eb09_row6_col8, #T_1eb09_row6_col9 {\n",
       "  text-align: left;\n",
       "}\n",
       "</style>\n",
       "<table id=\"T_1eb09\">\n",
       "  <caption>Статистика и гистограмма столбца \"critic_score\"</caption>\n",
       "  <thead>\n",
       "  </thead>\n",
       "  <tbody>\n",
       "    <tr>\n",
       "      <td id=\"T_1eb09_row0_col0\" class=\"data row0 col0\" >Values</td>\n",
       "      <td id=\"T_1eb09_row0_col1\" class=\"data row0 col1\" >8 137 (49%)</td>\n",
       "      <td id=\"T_1eb09_row0_col2\" class=\"data row0 col2\" >                              </td>\n",
       "      <td id=\"T_1eb09_row0_col3\" class=\"data row0 col3\" >Max</td>\n",
       "      <td id=\"T_1eb09_row0_col4\" class=\"data row0 col4\" >98</td>\n",
       "      <td id=\"T_1eb09_row0_col5\" class=\"data row0 col5\" >                              </td>\n",
       "      <td id=\"T_1eb09_row0_col6\" class=\"data row0 col6\" >Avg</td>\n",
       "      <td id=\"T_1eb09_row0_col7\" class=\"data row0 col7\" >68.97</td>\n",
       "      <td id=\"T_1eb09_row0_col8\" class=\"data row0 col8\" >                              </td>\n",
       "      <td id=\"T_1eb09_row0_col9\" class=\"data row0 col9\" >70 (3%)</td>\n",
       "    </tr>\n",
       "    <tr>\n",
       "      <td id=\"T_1eb09_row1_col0\" class=\"data row1 col0\" >Missing</td>\n",
       "      <td id=\"T_1eb09_row1_col1\" class=\"data row1 col1\" >8 578 (51%)</td>\n",
       "      <td id=\"T_1eb09_row1_col2\" class=\"data row1 col2\" >                              </td>\n",
       "      <td id=\"T_1eb09_row1_col3\" class=\"data row1 col3\" >95%</td>\n",
       "      <td id=\"T_1eb09_row1_col4\" class=\"data row1 col4\" >89</td>\n",
       "      <td id=\"T_1eb09_row1_col5\" class=\"data row1 col5\" >                              </td>\n",
       "      <td id=\"T_1eb09_row1_col6\" class=\"data row1 col6\" >Mode</td>\n",
       "      <td id=\"T_1eb09_row1_col7\" class=\"data row1 col7\" >70</td>\n",
       "      <td id=\"T_1eb09_row1_col8\" class=\"data row1 col8\" >                              </td>\n",
       "      <td id=\"T_1eb09_row1_col9\" class=\"data row1 col9\" >71 (3%)</td>\n",
       "    </tr>\n",
       "    <tr>\n",
       "      <td id=\"T_1eb09_row2_col0\" class=\"data row2 col0\" >Distinct</td>\n",
       "      <td id=\"T_1eb09_row2_col1\" class=\"data row2 col1\" >82 (<1%)</td>\n",
       "      <td id=\"T_1eb09_row2_col2\" class=\"data row2 col2\" >                              </td>\n",
       "      <td id=\"T_1eb09_row2_col3\" class=\"data row2 col3\" >75%</td>\n",
       "      <td id=\"T_1eb09_row2_col4\" class=\"data row2 col4\" >79</td>\n",
       "      <td id=\"T_1eb09_row2_col5\" class=\"data row2 col5\" >                              </td>\n",
       "      <td id=\"T_1eb09_row2_col6\" class=\"data row2 col6\" >Range</td>\n",
       "      <td id=\"T_1eb09_row2_col7\" class=\"data row2 col7\" >85</td>\n",
       "      <td id=\"T_1eb09_row2_col8\" class=\"data row2 col8\" >                              </td>\n",
       "      <td id=\"T_1eb09_row2_col9\" class=\"data row2 col9\" >75 (3%)</td>\n",
       "    </tr>\n",
       "    <tr>\n",
       "      <td id=\"T_1eb09_row3_col0\" class=\"data row3 col0\" >Duplicates</td>\n",
       "      <td id=\"T_1eb09_row3_col1\" class=\"data row3 col1\" >16 632 (99.5%)</td>\n",
       "      <td id=\"T_1eb09_row3_col2\" class=\"data row3 col2\" >                              </td>\n",
       "      <td id=\"T_1eb09_row3_col3\" class=\"data row3 col3\" >Median</td>\n",
       "      <td id=\"T_1eb09_row3_col4\" class=\"data row3 col4\" >71</td>\n",
       "      <td id=\"T_1eb09_row3_col5\" class=\"data row3 col5\" >                              </td>\n",
       "      <td id=\"T_1eb09_row3_col6\" class=\"data row3 col6\" >iQR</td>\n",
       "      <td id=\"T_1eb09_row3_col7\" class=\"data row3 col7\" >19</td>\n",
       "      <td id=\"T_1eb09_row3_col8\" class=\"data row3 col8\" >                              </td>\n",
       "      <td id=\"T_1eb09_row3_col9\" class=\"data row3 col9\" >78 (3%)</td>\n",
       "    </tr>\n",
       "    <tr>\n",
       "      <td id=\"T_1eb09_row4_col0\" class=\"data row4 col0\" >Zeros</td>\n",
       "      <td id=\"T_1eb09_row4_col1\" class=\"data row4 col1\" >---</td>\n",
       "      <td id=\"T_1eb09_row4_col2\" class=\"data row4 col2\" >                              </td>\n",
       "      <td id=\"T_1eb09_row4_col3\" class=\"data row4 col3\" >25%</td>\n",
       "      <td id=\"T_1eb09_row4_col4\" class=\"data row4 col4\" >60</td>\n",
       "      <td id=\"T_1eb09_row4_col5\" class=\"data row4 col5\" >                              </td>\n",
       "      <td id=\"T_1eb09_row4_col6\" class=\"data row4 col6\" >std</td>\n",
       "      <td id=\"T_1eb09_row4_col7\" class=\"data row4 col7\" >13.94</td>\n",
       "      <td id=\"T_1eb09_row4_col8\" class=\"data row4 col8\" >                              </td>\n",
       "      <td id=\"T_1eb09_row4_col9\" class=\"data row4 col9\" >73 (3%)</td>\n",
       "    </tr>\n",
       "    <tr>\n",
       "      <td id=\"T_1eb09_row5_col0\" class=\"data row5 col0\" >Negative</td>\n",
       "      <td id=\"T_1eb09_row5_col1\" class=\"data row5 col1\" >---</td>\n",
       "      <td id=\"T_1eb09_row5_col2\" class=\"data row5 col2\" >                              </td>\n",
       "      <td id=\"T_1eb09_row5_col3\" class=\"data row5 col3\" >5%</td>\n",
       "      <td id=\"T_1eb09_row5_col4\" class=\"data row5 col4\" >43</td>\n",
       "      <td id=\"T_1eb09_row5_col5\" class=\"data row5 col5\" >                              </td>\n",
       "      <td id=\"T_1eb09_row5_col6\" class=\"data row5 col6\" >kurt</td>\n",
       "      <td id=\"T_1eb09_row5_col7\" class=\"data row5 col7\" >0.14</td>\n",
       "      <td id=\"T_1eb09_row5_col8\" class=\"data row5 col8\" >                              </td>\n",
       "      <td id=\"T_1eb09_row5_col9\" class=\"data row5 col9\" >80 (3%)</td>\n",
       "    </tr>\n",
       "    <tr>\n",
       "      <td id=\"T_1eb09_row6_col0\" class=\"data row6 col0\" >RAM (Mb)</td>\n",
       "      <td id=\"T_1eb09_row6_col1\" class=\"data row6 col1\" ><1 Mb</td>\n",
       "      <td id=\"T_1eb09_row6_col2\" class=\"data row6 col2\" >                              </td>\n",
       "      <td id=\"T_1eb09_row6_col3\" class=\"data row6 col3\" >Min</td>\n",
       "      <td id=\"T_1eb09_row6_col4\" class=\"data row6 col4\" >13</td>\n",
       "      <td id=\"T_1eb09_row6_col5\" class=\"data row6 col5\" >                              </td>\n",
       "      <td id=\"T_1eb09_row6_col6\" class=\"data row6 col6\" >skew</td>\n",
       "      <td id=\"T_1eb09_row6_col7\" class=\"data row6 col7\" >-0.61</td>\n",
       "      <td id=\"T_1eb09_row6_col8\" class=\"data row6 col8\" >                              </td>\n",
       "      <td id=\"T_1eb09_row6_col9\" class=\"data row6 col9\" >76 (3%)</td>\n",
       "    </tr>\n",
       "  </tbody>\n",
       "</table>\n",
       "\n",
       "                <div>\n",
       "                    <img src=\"data:image/png;base64,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\" alt=\"График\"/>\n",
       "                </div>\n",
       "                      \n",
       "            </div>\n",
       "            "
      ],
      "text/plain": [
       "<IPython.core.display.HTML object>"
      ]
     },
     "metadata": {},
     "output_type": "display_data"
    }
   ],
   "source": [
    "gen.next()"
   ]
  },
  {
   "cell_type": "markdown",
   "metadata": {},
   "source": [
    "**Наблюдения:**  \n",
    "\n",
    "- В столбце с оценкой критиков 51% пропущенных занчений.\n",
    "- Оценка критиков лежит в диапазоне от 13 до 98.\n",
    "- В основном критики ставят оценки от 60 до 79."
   ]
  },
  {
   "cell_type": "code",
   "execution_count": 17,
   "metadata": {},
   "outputs": [
    {
     "data": {
      "text/html": [
       "\n",
       "            <div style=\"display: flex; justify-content: flex-start; align-items: flex-end;\">\n",
       "                <style type=\"text/css\">\n",
       "#T_3dc55 caption {\n",
       "  font-size: 16px;\n",
       "  text-align: left;\n",
       "  font-weight: bold;\n",
       "}\n",
       "#T_3dc55_row0_col0, #T_3dc55_row0_col1, #T_3dc55_row0_col2, #T_3dc55_row0_col3, #T_3dc55_row0_col4, #T_3dc55_row0_col5, #T_3dc55_row0_col6, #T_3dc55_row0_col7, #T_3dc55_row0_col8, #T_3dc55_row0_col9, #T_3dc55_row1_col0, #T_3dc55_row1_col1, #T_3dc55_row1_col2, #T_3dc55_row1_col3, #T_3dc55_row1_col4, #T_3dc55_row1_col5, #T_3dc55_row1_col6, #T_3dc55_row1_col7, #T_3dc55_row1_col8, #T_3dc55_row1_col9, #T_3dc55_row2_col0, #T_3dc55_row2_col1, #T_3dc55_row2_col2, #T_3dc55_row2_col3, #T_3dc55_row2_col4, #T_3dc55_row2_col5, #T_3dc55_row2_col6, #T_3dc55_row2_col7, #T_3dc55_row2_col8, #T_3dc55_row2_col9, #T_3dc55_row3_col0, #T_3dc55_row3_col1, #T_3dc55_row3_col2, #T_3dc55_row3_col3, #T_3dc55_row3_col4, #T_3dc55_row3_col5, #T_3dc55_row3_col6, #T_3dc55_row3_col7, #T_3dc55_row3_col8, #T_3dc55_row3_col9, #T_3dc55_row4_col0, #T_3dc55_row4_col1, #T_3dc55_row4_col2, #T_3dc55_row4_col3, #T_3dc55_row4_col4, #T_3dc55_row4_col5, #T_3dc55_row4_col6, #T_3dc55_row4_col7, #T_3dc55_row4_col8, #T_3dc55_row4_col9, #T_3dc55_row5_col0, #T_3dc55_row5_col1, #T_3dc55_row5_col2, #T_3dc55_row5_col3, #T_3dc55_row5_col4, #T_3dc55_row5_col5, #T_3dc55_row5_col6, #T_3dc55_row5_col7, #T_3dc55_row5_col8, #T_3dc55_row5_col9, #T_3dc55_row6_col0, #T_3dc55_row6_col1, #T_3dc55_row6_col2, #T_3dc55_row6_col3, #T_3dc55_row6_col4, #T_3dc55_row6_col5, #T_3dc55_row6_col6, #T_3dc55_row6_col7, #T_3dc55_row6_col8, #T_3dc55_row6_col9 {\n",
       "  text-align: left;\n",
       "}\n",
       "</style>\n",
       "<table id=\"T_3dc55\">\n",
       "  <caption>Статистика и гистограмма столбца \"user_score\"</caption>\n",
       "  <thead>\n",
       "  </thead>\n",
       "  <tbody>\n",
       "    <tr>\n",
       "      <td id=\"T_3dc55_row0_col0\" class=\"data row0 col0\" >Values</td>\n",
       "      <td id=\"T_3dc55_row0_col1\" class=\"data row0 col1\" >7 590 (45%)</td>\n",
       "      <td id=\"T_3dc55_row0_col2\" class=\"data row0 col2\" >                              </td>\n",
       "      <td id=\"T_3dc55_row0_col3\" class=\"data row0 col3\" >Max</td>\n",
       "      <td id=\"T_3dc55_row0_col4\" class=\"data row0 col4\" >9.7</td>\n",
       "      <td id=\"T_3dc55_row0_col5\" class=\"data row0 col5\" >                              </td>\n",
       "      <td id=\"T_3dc55_row0_col6\" class=\"data row0 col6\" >Avg</td>\n",
       "      <td id=\"T_3dc55_row0_col7\" class=\"data row0 col7\" >7.13</td>\n",
       "      <td id=\"T_3dc55_row0_col8\" class=\"data row0 col8\" >                              </td>\n",
       "      <td id=\"T_3dc55_row0_col9\" class=\"data row0 col9\" >7.8 (4%)</td>\n",
       "    </tr>\n",
       "    <tr>\n",
       "      <td id=\"T_3dc55_row1_col0\" class=\"data row1 col0\" >Missing</td>\n",
       "      <td id=\"T_3dc55_row1_col1\" class=\"data row1 col1\" >9 125 (55%)</td>\n",
       "      <td id=\"T_3dc55_row1_col2\" class=\"data row1 col2\" >                              </td>\n",
       "      <td id=\"T_3dc55_row1_col3\" class=\"data row1 col3\" >95%</td>\n",
       "      <td id=\"T_3dc55_row1_col4\" class=\"data row1 col4\" >8.9</td>\n",
       "      <td id=\"T_3dc55_row1_col5\" class=\"data row1 col5\" >                              </td>\n",
       "      <td id=\"T_3dc55_row1_col6\" class=\"data row1 col6\" >Mode</td>\n",
       "      <td id=\"T_3dc55_row1_col7\" class=\"data row1 col7\" >7.8</td>\n",
       "      <td id=\"T_3dc55_row1_col8\" class=\"data row1 col8\" >                              </td>\n",
       "      <td id=\"T_3dc55_row1_col9\" class=\"data row1 col9\" >8 (4%)</td>\n",
       "    </tr>\n",
       "    <tr>\n",
       "      <td id=\"T_3dc55_row2_col0\" class=\"data row2 col0\" >Distinct</td>\n",
       "      <td id=\"T_3dc55_row2_col1\" class=\"data row2 col1\" >95 (1%)</td>\n",
       "      <td id=\"T_3dc55_row2_col2\" class=\"data row2 col2\" >                              </td>\n",
       "      <td id=\"T_3dc55_row2_col3\" class=\"data row2 col3\" >75%</td>\n",
       "      <td id=\"T_3dc55_row2_col4\" class=\"data row2 col4\" >8.2</td>\n",
       "      <td id=\"T_3dc55_row2_col5\" class=\"data row2 col5\" >                              </td>\n",
       "      <td id=\"T_3dc55_row2_col6\" class=\"data row2 col6\" >Range</td>\n",
       "      <td id=\"T_3dc55_row2_col7\" class=\"data row2 col7\" >9.7</td>\n",
       "      <td id=\"T_3dc55_row2_col8\" class=\"data row2 col8\" >                              </td>\n",
       "      <td id=\"T_3dc55_row2_col9\" class=\"data row2 col9\" >8.2 (4%)</td>\n",
       "    </tr>\n",
       "    <tr>\n",
       "      <td id=\"T_3dc55_row3_col0\" class=\"data row3 col0\" >Duplicates</td>\n",
       "      <td id=\"T_3dc55_row3_col1\" class=\"data row3 col1\" >16 619 (99.4%)</td>\n",
       "      <td id=\"T_3dc55_row3_col2\" class=\"data row3 col2\" >                              </td>\n",
       "      <td id=\"T_3dc55_row3_col3\" class=\"data row3 col3\" >Median</td>\n",
       "      <td id=\"T_3dc55_row3_col4\" class=\"data row3 col4\" >7.5</td>\n",
       "      <td id=\"T_3dc55_row3_col5\" class=\"data row3 col5\" >                              </td>\n",
       "      <td id=\"T_3dc55_row3_col6\" class=\"data row3 col6\" >iQR</td>\n",
       "      <td id=\"T_3dc55_row3_col7\" class=\"data row3 col7\" >1.8</td>\n",
       "      <td id=\"T_3dc55_row3_col8\" class=\"data row3 col8\" >                              </td>\n",
       "      <td id=\"T_3dc55_row3_col9\" class=\"data row3 col9\" >8.3 (3%)</td>\n",
       "    </tr>\n",
       "    <tr>\n",
       "      <td id=\"T_3dc55_row4_col0\" class=\"data row4 col0\" >Zeros</td>\n",
       "      <td id=\"T_3dc55_row4_col1\" class=\"data row4 col1\" >1 (<1%)</td>\n",
       "      <td id=\"T_3dc55_row4_col2\" class=\"data row4 col2\" >                              </td>\n",
       "      <td id=\"T_3dc55_row4_col3\" class=\"data row4 col3\" >25%</td>\n",
       "      <td id=\"T_3dc55_row4_col4\" class=\"data row4 col4\" >6.4</td>\n",
       "      <td id=\"T_3dc55_row4_col5\" class=\"data row4 col5\" >                              </td>\n",
       "      <td id=\"T_3dc55_row4_col6\" class=\"data row4 col6\" >std</td>\n",
       "      <td id=\"T_3dc55_row4_col7\" class=\"data row4 col7\" >1.5</td>\n",
       "      <td id=\"T_3dc55_row4_col8\" class=\"data row4 col8\" >                              </td>\n",
       "      <td id=\"T_3dc55_row4_col9\" class=\"data row4 col9\" >8.5 (3%)</td>\n",
       "    </tr>\n",
       "    <tr>\n",
       "      <td id=\"T_3dc55_row5_col0\" class=\"data row5 col0\" >Negative</td>\n",
       "      <td id=\"T_3dc55_row5_col1\" class=\"data row5 col1\" >---</td>\n",
       "      <td id=\"T_3dc55_row5_col2\" class=\"data row5 col2\" >                              </td>\n",
       "      <td id=\"T_3dc55_row5_col3\" class=\"data row5 col3\" >5%</td>\n",
       "      <td id=\"T_3dc55_row5_col4\" class=\"data row5 col4\" >4.1</td>\n",
       "      <td id=\"T_3dc55_row5_col5\" class=\"data row5 col5\" >                              </td>\n",
       "      <td id=\"T_3dc55_row5_col6\" class=\"data row5 col6\" >kurt</td>\n",
       "      <td id=\"T_3dc55_row5_col7\" class=\"data row5 col7\" >1.72</td>\n",
       "      <td id=\"T_3dc55_row5_col8\" class=\"data row5 col8\" >                              </td>\n",
       "      <td id=\"T_3dc55_row5_col9\" class=\"data row5 col9\" >7.5 (3%)</td>\n",
       "    </tr>\n",
       "    <tr>\n",
       "      <td id=\"T_3dc55_row6_col0\" class=\"data row6 col0\" >RAM (Mb)</td>\n",
       "      <td id=\"T_3dc55_row6_col1\" class=\"data row6 col1\" ><1 Mb</td>\n",
       "      <td id=\"T_3dc55_row6_col2\" class=\"data row6 col2\" >                              </td>\n",
       "      <td id=\"T_3dc55_row6_col3\" class=\"data row6 col3\" >Min</td>\n",
       "      <td id=\"T_3dc55_row6_col4\" class=\"data row6 col4\" >0</td>\n",
       "      <td id=\"T_3dc55_row6_col5\" class=\"data row6 col5\" >                              </td>\n",
       "      <td id=\"T_3dc55_row6_col6\" class=\"data row6 col6\" >skew</td>\n",
       "      <td id=\"T_3dc55_row6_col7\" class=\"data row6 col7\" >-1.25</td>\n",
       "      <td id=\"T_3dc55_row6_col8\" class=\"data row6 col8\" >                              </td>\n",
       "      <td id=\"T_3dc55_row6_col9\" class=\"data row6 col9\" >7.9 (3%)</td>\n",
       "    </tr>\n",
       "  </tbody>\n",
       "</table>\n",
       "\n",
       "                <div>\n",
       "                    <img src=\"data:image/png;base64,iVBORw0KGgoAAAANSUhEUgAAASwAAADcCAYAAADKmJzYAAAY/ElEQVR4Xu2de2xVR37Hv/fle20edkJICDFJMMHZ1FklIRuHsg1dR4g0m13ttoSVXFWVgMpIZbeq8KJVt9DSJVWNKfmjqhFIKEKCbloIODxcVTyDt2HjXJySgLMmBGjshNgBQ2Lj1/V9VHNcG3PBvjP3nHvunHO/R0K8Zs7MfH5zPp4zZ84cTyKRSMChx/r16yF+8SABEsgNAh4KKzcCzVaSgBsIUFhuiCLbQAI5QoDCypFAs5kk4AYCFJYbosg2kECOEKCwciTQbCYJuIEAheWGKLINJJAjBCisHAk0m0kCbiBAYbkhimwDCUxA4GbXAHq6+iG74tLr96Dw/gLkT8nTjiuFpV1IWCESsJbAV5e78R+/fBeR/qjUiac/OhU//ttyTJ2eL5XezkQUlp20WRYJZIEAhZUF6Hcrkq/maBIIVkNrAhSWJuGhsDQJBKuhNQEKS5PwUFiaBILV0JoAhaVJeCgsTQLBamhNgMLSJDwUliaBYDW0JpAsrEQ8AY/Xg8hAFB4AgZAfYpcpj0f8DeBTwgyFk8LKEFie1lUEkoU1NBhFLBKHL+Az2hkdisGf50MgOPx3CitD4aewMgSWp3UVgbuNsIYGY4hFYhC7dwbyfPAFffB6OcLKaOAprIzi5cldQiBZWNFIDPF4AsJPCXFTmIBxi+jP83KElcmYU1iZpMtzu4XAeJPu4lZQyErcDo49eEuYochTWBkCy9O6igCfEmoSTgpLk0CwGloToLA0CQ+FpUkgWA2tCVBYmoSHwtIkEKyG1gQoLE3CQ2FpEghWQ2sCFJYm4aGwNAkEq6E1AQpLk/BQWJoEgtXQmgCFpUl4KCxNAsFqaE2AwtIkPBSWJoFgNbQmQGFpEh4KS5NAsBpaE6CwNAkPhaVJIFgNrQlQWJqEh8LSJBCshtYEKCxNwkNhaRIIVkNrAhSWJuGhsDQJBKuhNQEKy0R42tvbsXXrVsyZMwfLly8fPVNFRQWi0Vsfely3bh0WL148YUkUlolAMKtjCXRf7YfY5lj26PtmEG/9/Xv8kKossJF0nZ2dOHfuHI4fP46SkhKsWLFi9BSbN29GdXW10ikpLCVcTOwSAv/1L2fQ9tE16da89LOncaAmTGFJE0tKuGHDBsycOVNJWN3d3XcU9/rrr0NIiwcJ5BKB+tfex6XTndJNXrJ+Pg5uPE1hSROTENbq1atRVlaGvr4++P1+VFZWoqioaDSnkFPyISRGYaUbBeZzKgEKy+bI3W2ENbYKO3bsQDgcRl1dHeewbI4Ni9OfQKaFNevb0/C9ZWXGvu+yh/iQxbSHp8gmTzudJyE+SGbzkUpYra2tqKqqQmNjI4Vlc2xYnP4EMi2s0gUP4r5HpuLUm+elYbzw50+g/E8ek06fbkIthNXS0oLe3l6Ul5cb7WhoaEB9fT22b99OYaUbWeZzLQEKy6bQdnR0oKmpyZBRYWEhFi1ahIULF0LMRdXW1qK0tBTxeBwi3apVq1BcXExh2RQbFuMcAhSWc2J1W025rMGhgWO1TRFIFpZYkyXmm4YGYghNDtz22XlRkOpTQt4SmgrP+JkprAyB5Wm1JjBWWLFoAoN9EeQF/RB/Nr6LmogjNClvtA0UlibhpLA0CQSrYSuBscISo6voUBzRweGvOfsDPviDPvj8w5+d5wjL1tBMXBiFpVEwWBXbCIwVVjwWN24FAyGf8bv4inMsGkdevp/Csi0ikgVRWJKgmMxVBO426S7EFY3cLiorR1hiJOfxeiDeSywoDN4xT+bqZQ1W9R4KyyqSPI+TCNj9lFAs1ezviRijt0QsAY/Pi9hgDKGpAXg8w7eeFJZED6KwJCAxiesI2C8sIB4Vt55RxOMwRlp5IR+8fg+FpdK7KCwVWkzrFgL2CyuBSF/MmMwfmS8Tk/x5BT4KS6VTUVgqtJjWLQTsFtZYbgO9QwhNCtyBkreEEr2LwpKAxCSuI5BNYY0Hk8KS6GYUlgQkJnEdAQrLoSGlsBwaOFbbFAEKyxS+7GWmsLLHniVnjwCFlT32pkqmsEzhY2aHEqCwHBo4CsuhgWO1TRGgsEzhy15mCit77Fly9ghQWNljb6pkCssUPmZ2KAEKy6GBo7AcGjhW2xQBCssUvuxlprCyx54lZ48AhZU99qZKprBM4WNmhxKgsBwaOArLoYFjtU0RoLBM4cteZgore+xZcvYIUFjZY2+qZArLFD5m1oDAV5e70fbhVemazCi9B+F9n+LS6U7pPPwIhTSqzCaksDLLl2fPPIHLH3yFfb9qki5oQeXj6LjwNYUlTUyjhBSWRsFgVdIiQGGpYcvKp+rVqjh+agrLKpI8T7YIUFhq5CksNV5MTQKWEqCw1HBSWGq8mJoELCVAYanhpLDUeDE1CVhKgMJSw0lhqfFiahKwlECysEY+WDpwM4JAyA+v79antETBfEoovpLo0IOT7g4NHKs9SiBZWOKrNMOfJgW8fq/xWa3gJD98fq/xbxQWhcXLhwSyRiBZWOKT80ODMcQiceODpYGgF768W9//o7AorKx1VhZMAsnCivRHjS8qx4YShqyig3H4g154fRxhid7COSxeMySQRQLjTbqLW0FxS+jzj9wgDleSIyyOsLLYXVl0rhPgU0K1HsARlhovpiYBSwlQWGo4bRdWe3s7tm7dijlz5mD58uWjtT169ChOnDiBadOmoaurC2vXrkV+fv6EreFTQrVgM7V+BCgstZjYKqzOzk6cO3cOx48fR0lJCVasWGHUtqenB5WVldi7dy+CwSC2bdsGj8eDqqoqCkstnkztMAIUllrAbBXWSNU2bNiAmTNnjgrr8OHD2L9/P+rq6owkzc3NqKmpwZ49e0Zb09bWdkfL3njjDYhRFg8ScCoBCkstcloIa+fOnWhpaTEkJY6LFy9i2bJlaGxsHG2NkFPyISRGYakFnKn1IkBhqcVDC2Ht2rULZ8+excaNG0eFJea3Tp48yVtCtXgytcMIUFhqAdNCWEeOHDHmr8RkvDjC4TA2bdqE3bt3U1hq8WRqhxGgsNQCpoWwent7sXTpUuzbtw+hUAhbtmyBz+fDypUrKSy1eDK1wwhQWGoBs1VYHR0daGpqQn19PQoLC7Fo0SIsXLjQ+POxY8eMX7NmzTKWNaxZs8Z4YjjRwWUNasFmav0IUFhqMbFVWGpVS52awkrNiCn0JkBhqcWHwlLjxdQkYCkBCksNJ4WlxoupScBSAhSWGk4KS40XU5OApQQoLDWcFJYaL6YmAUsJUFhqOCksNV5MTQKWEqCw1HBSWGq8mJoELCVAYanhpLDUeDE1CVhKgMJSw0lhqfFiahIYl8DN6wO48rvrxpduZA5fnhf+gA/7a8IyyY003CKZWyRLdxYmJIGJCHRf7Uf9a0249lmPFKgp00OoWPYkDtSelkpPYfEjFNIdhQlJIBUBCuuxVIhM/z9vCU0j5AlIYJgAhUVhTXgt8F1CqkInAhQWhUVh6XRFsi4TEqCwKCwKi5JwDIFcFtZLP30K9z0yFfF4Qi5eHmByURBT7y+QS///qTiHpYSLiUlgfALJwkrEE/B4PYgMRCG+3xwI+SEeyosvQonDTU8JX/n5PDTvv4SuNrknpHkFfiz5u/mYPnuqUpeisJRwMTEJyAtraDCKWCQOX8BnZIoOxeDP8yEQHP6724TVtOeC9JKO4CQ/frJhAe4vKVTqUhSWEi4mJgF5YYkR1tBgDLFIDOJGKZDngy/og9frzhEWhZXi6uBTQupDJwLJt4TRSMyY0xF+SoibwgSMW0R/npcjLI6wdOq6rEsuEhhv0l3cCgpZidvBsQdvCXlLmIvXCdusCYFcfkooJt15S8hbQk0uRVZDhgCFxUn3CfsJ57BkLiOmsYsAhXVLWKmWdPApoV29kuWQwDgEKKxbwkq1pIPC4mVEAlkmQGHdPsKaaEkHhZXlzsri3Ufg6uVuDPYNSTdMbMh3+F8/lF486eanhKmWdFBY0t2KCUlAjsD7ey/gNztb5RIDeKV6Hprekp94drOwRqCNt6SDwpLuVkxIAnIEKKzzcqCErLmsITUrPiVMzYgp0idAYVFY6feeu+SksCzFyZMlEaCwKCxLLwoKy1KcPBmFZRAoXfCgsbfVqTcpLEsvCgrLUpw8GYVFYWXyKqCwMkmX506+JRxZvd33zSAKCoO3bcYnaPEpofwTUj4l5PVFAhYTGCsssVNof0/E2HEhEUvA4/MiNhhDaGpgdAdRCovCmrALcoRl8RXK091G4HZhAfFoHEMDUcTjw/ta5YV88Po9FBaXNchdORSWHCemSo9A8ggr0heDP+gzPkUfCPkQHYwhr8BHYeWisCoqKhCNRkd71rp167B48WKOsNK71pjLAgLjLWsY6B1CaFLgjhJ4S5hDt4SbN29GdXW1UjfjCEsJFxMrEuA6LC5rGLfLpBLWmTNn7sj79ttvQ0iLBwlkggCFRWGN269Wr16NsrIy9PX1we/3o7KyEkVFRaPphZySDyExCisTlyrPKQhQWBSW1JWwY8cOhMNh1NXVcQ5LihgTZYIAhUVhSfWr1tZWVFVVobGxkcKSIsZEqQhcb7+J8NufIhqJp0pq/P+MuYXG08B3f61w0XJ7Gem9wBy9cLSlpQW9vb0oLy83OktDQwPq6+uxfft2Ckvq8mKiVATEZnz//st3Eem/9SR6ojxpvU9HYeWGsNrb21FbW4vS0lLE43F0dHRg1apVKC4uprBSXYn8fykCFNbpzMqa+2Gl7odc1pCaEVMME6CwKKysXwsUVtZD4JgKUFgUVtY7K4WV9RA4pgIUFoWV9c5KYWU9BI6pAIVFYWW9s1JYWQ+BYyqQLKxUXybmU0LuOGp556awLEfq2hMmCyvVl4kpLArL8ouBwrIcqRYnFNu2iG1cDtaexvNL52LarCnw+b2m6na3EdZEXyamsCgsUx3ubpkpLMuRanHCw3UfGhvkieORp6YbHyd9+a+fwX0PT0m7fsnCSvVlYgqLwkq7s42XkcKyHKkWJ7xx5Sb+p+EyLoY7MeW+fDzz/UdR8twMBIK+tOs33qT7eF8mprAorLQ7G4VlOTqtT/jengt4sLQIF9/vxLwfzMZHh9vw1B89gsIHCkbrff2Lm4jH5N4LFJnEKzl71zdldrU3X83JjVdz0r16OMJKl5x9+cStl/hwgxgxiSdz835Yglg0LjUnFa6/iMeen4F7Zk66o8INmz/AZ2euSjfklTXP4sA/hSksCWJpjS75ak5qshRWakbZTnHuWBtaG7/A7GcfMKry2YdXMff3H8S3Fz1sqmr1r72PS6c7pc/x6j/Mx4GaDK9F4giLI6yJeiSFJX29Zi1hf3cEH7/zOc4dbUM8njBE9cT3ijGpKGiqThSWvKyXrJ+PgxszLGuOsFL3ZworNSOrU4wsOXjjL49j+ZYXU97eXfjtl7h5fQAFhXlIJIDB3igKioKYO3+GqapRWBSWqQ6UjcwUlr3U47EEfv2L3+BbLzyEG1d6jfVRv3vnc1Ru/C68vonXSYnbN5FfzElZcVBYFJYV/cjWc1BY5nCrToiLEdKV1usI13+KrvabuPehyXjuj+fgoSfuHV03Za5G8rkpLApLvrdokpLCMhcI1Qlx8ZTv6Naz+M6P5xhbB3/3Tx/HB4cu48W/KKOwxMdEOenOSXdOupuT0kS5zUyIi9Xoi1c9lbnKpThz8ghLyFRM6ot92EOTA0gkEqNfZBan4lNCTrpnrbOOFMwRlrkQZGpC3Fyt5HKPFVYsmsBgXwR5QT/En+EBEok4QpPyRk9GYVFYcj0rg6koLGvgWj0hrlqr6FAcCYVV6+I9w4O1zaPrsMToSpxDPMEUoyx/wGe8PO3zD7+PyBGWM5Y1yLz07kmIsbNDDwrLoYFLqvbnH1/HKYXPaZW9OAufnLoyKizxio64FQyEfMbvYmW9WE2fl++nsAA4ZR2WzEvvFJam17zMT5vkqounfl939OHdf2vFj/7muZRrpHRp+uUPvsK+XzVJV2dB5ePouPD1HSvdhbjEdwfHioojLOcIS+aldwpL+jKxN6HMT5uxNRLLDBpeb8b8V+fisw+vwRfwQmxS99JPn7a34mmUZpWwJiqac1j6z2HJvPROYaVxgalmUV3vJM4v89NmbD3EiOxS81c485+XjVHWnPIZePrlRzFt1mTV6tqensI6Lc18vNHlRCdwyi3hSBsmeuk954WVjkxUX09RXe8kAifz02ZsJ/2msw8fHLyEZ34wG837LxkvGIvbpvIlj0lfDFYkvNk1gLNH2nDzxoDU6cQny2eW3ov9NWGp9CJROhctR1j6j7BkOoDrhKU6j6Mqk3ReTzGz3mminzZ3C7AQl9gdQWwtnI2j+2o/6l9rkl5AOGV6CBXLn8SBjZkdZVBYFFY2rofbykx+SpjOPI6qTNJ5PcXJ651Ug0xhXVCT9bIncaA2s7J22i3hRH3OVSOsdOZxVGVi5vWUbK93UpWPSP/JqS+NPaxkj7nzH8TJHS1qFy1HWLJ407odprCk8WY2YfIIy8w8TjoyyfbrKap0e28MoPebQUBy5Z3YQ/38u18ayyRkj1eqn0XTW59QWBLAjNthjrAkSN1K4qoR1kizsj2PoxQBGxNf/d9uY71TZCAqVarYCqZoxiScevO8VHqRiMLiLaFMZxEPW36yYQHuLymUST6axpXCUiKQQ4nt+Vw7R1jXPuuR6lUcYVFYUh0lVxNRWBl+UsbtZaSnAjjCylULKbSbwqKwZLqLXV/Nqaz5A2PXWpWDt4QqtByelsKisGS6sB3CmnxfCC//1TPGx3JlD/G5NwpLlpaG6cQrOGKZhewx0BPBW+vfy/C3+TiHxTms1D0ynfm7ku88QGGlRmtPii/P38BHR9qkCyt57gFcDnei7ew16Txih9D9Gf+YKIVFYaXuko4X1tGjR3HixAlMmzYNXV1dWLt2LfLz8ydsua77YQ30RtFzrQ+JmNzoR2xI1321D2//Y4bfp1s/33gFRny2XeZI69aA67CkJ57TuWjTeY9Sx4Wj6bRdmxFWT08PKisrsXfvXgSDQWzbts3Yj7uqqkoLYcWG4sa2u7KHeAH40D83o6tN7vG2uJ9/4c+eyPz7dBRWhmU9D01vcR2WzHXiaGEdPnwY+/fvR11dndHW5uZm1NTUYM+ePaNtf+edd+7gIP7t5z/7hbEtruwRHYjj84+7jG/kyRyFDxQYya6cvyGT3Ejz6NPTcf6/v8A3V/ul8uRPzcPv/WExmg9ekkovEj2xcPjbgB2ffi2dZ/6SuUYZQ5GYVJ6HvnUvJt0TxCe//VIqvUg075XZuPh+h1rbFxaj+VCG2/7qXDQfyGzbn/n+bFwK69f255fMNXbyUIn75HuDOH9KPu52tH3GY0V6zGHt3LkTLS0thqTEcfHiRSxbtgyNjY0phSV9JTEhCZCA4wlo8ZRw165dOHv2LDZu3DgqrOXLl+PkyZNpAb5y5QoOHTqU8pYyrZMzk7YEGHdtQ2NZxbQQ1pEjR4z5q61btxoNC4fD2LRpE3bv3p1WQ9lx08Lm+EyMu+NDmLIBWgirt7cXS5cuxb59+xAKhbBlyxb4fD6sXLkyZQPuloAdNy1sjs/EuDs+hCkboIWwRC2PHTtm/Jo1a5axrGHNmjXGE8N0DnbcdKg5Pw/j7vwYpmqBNsJKVVGV/2fHVaHlnrSMu3tiOV5LXCks94eNLSSB3CRAYeVm3NlqEnAkAQrLkWFjpUkgNwlQWLkZd7aaBBxJgMJyZNhYaRLITQIUVm7Gna0mAUcSoLAcGTZWmgRykwCFlZtxZ6tJwJEEXCesdDYCdGTkWOnbCFRUVCAavbUx4bp167B48WJSchkBVwkr3Y0AXRbTnGzO5s2bUV1dnZNtz6VGu0pYMhsB5lJwc6mtFFZuRNtVwpLZCDA3wpp7rVy9ejXKysrQ19cHv99vbLldVFSUeyBc3mJXCcvqjQBdHnvXNm/Hjh3GnmojW267tqE52DBXCcvqjQBzsD+4osmtra3GbrNjt9h2RcPYCD32dLcqDlZvBGhVvXiezBIQ3wMQsS8vLzcKamhoQH19PbZv357Zgnl22wm4aoQl6Fm5EaDt0WCBaRFob29HbW0tSktLEY/H0dHRgVWrVqG4uDit8zGTvgRcJyx9UbNmJEACZglQWGYJMj8JkIBtBCgs21CzIBIgAbMEKCyzBJmfBEjANgIUlm2oWRAJkIBZAhSWWYLMTwIkYBsBCss21CyIBEjALAEKyyxB5icBErCNAIVlG2oWRAIkYJYAhWWWIPOTAAnYRoDCsg01CyIBEjBLgMIyS5D5SYAEbCNAYdmGmgWRAAmYJUBhmSXI/CRAArYRoLBsQ82CSIAEzBKgsMwSZH4SIAHbCFBYtqFmQSRAAmYJUFhmCTI/CZCAbQQoLNtQsyASIAGzBCgsswSZnwRIwDYCFJZtqFkQCZCAWQIUllmCzE8CJGAbAQrLNtQsiARIwCwBCsssQeYnARKwjQCFZRtqFkQCJGCWAIVlliDzkwAJ2EaAwrINNQsiARIwS4DCMkuQ+UmABGwjQGHZhpoFkQAJmCXwf2YRY0WnEgXqAAAAAElFTkSuQmCC\" alt=\"График\"/>\n",
       "                </div>\n",
       "                      \n",
       "            </div>\n",
       "            "
      ],
      "text/plain": [
       "<IPython.core.display.HTML object>"
      ]
     },
     "metadata": {},
     "output_type": "display_data"
    }
   ],
   "source": [
    "gen.next()"
   ]
  },
  {
   "cell_type": "markdown",
   "metadata": {},
   "source": [
    "**Наблюдения:**  \n",
    "\n",
    "- В столбце с оценкой пользователей 55% пропущенных значений.\n",
    "- Оценка пользователей варируется от 0 до 9.7.\n",
    "- В освновном пользователи ставят оценки от 6.4 до 8.2\n",
    "- Значение 0 в оценке пользователей явно является аномалией."
   ]
  },
  {
   "cell_type": "code",
   "execution_count": 18,
   "metadata": {},
   "outputs": [
    {
     "data": {
      "text/html": [
       "\n",
       "            <div style=\"display: flex; justify-content: flex-start; align-items: flex-end;\">\n",
       "                <style type=\"text/css\">\n",
       "#T_045fd caption {\n",
       "  font-size: 16px;\n",
       "  text-align: left;\n",
       "  font-weight: bold;\n",
       "}\n",
       "#T_045fd th {\n",
       "  min-width: 100px;\n",
       "}\n",
       "#T_045fd  td {\n",
       "  min-width: 100px;\n",
       "}\n",
       "#T_045fd_row0_col0, #T_045fd_row0_col1, #T_045fd_row0_col2, #T_045fd_row0_col3, #T_045fd_row1_col0, #T_045fd_row1_col1, #T_045fd_row1_col2, #T_045fd_row1_col3, #T_045fd_row2_col0, #T_045fd_row2_col1, #T_045fd_row2_col2, #T_045fd_row2_col3, #T_045fd_row3_col0, #T_045fd_row3_col1, #T_045fd_row3_col2, #T_045fd_row3_col3, #T_045fd_row4_col0, #T_045fd_row4_col1, #T_045fd_row4_col2, #T_045fd_row4_col3, #T_045fd_row5_col0, #T_045fd_row5_col1, #T_045fd_row5_col2, #T_045fd_row5_col3, #T_045fd_row6_col0, #T_045fd_row6_col1, #T_045fd_row6_col2, #T_045fd_row6_col3 {\n",
       "  text-align: left;\n",
       "}\n",
       "</style>\n",
       "<table id=\"T_045fd\">\n",
       "  <caption>Статистика и топ-10 значений столбца \"name\"</caption>\n",
       "  <thead>\n",
       "  </thead>\n",
       "  <tbody>\n",
       "    <tr>\n",
       "      <td id=\"T_045fd_row0_col0\" class=\"data row0 col0\" >Values</td>\n",
       "      <td id=\"T_045fd_row0_col1\" class=\"data row0 col1\" >16 713 (99.9%)</td>\n",
       "      <td id=\"T_045fd_row0_col2\" class=\"data row0 col2\" >                              </td>\n",
       "      <td id=\"T_045fd_row0_col3\" class=\"data row0 col3\" >Need for Speed: Most Wanted <1%</td>\n",
       "    </tr>\n",
       "    <tr>\n",
       "      <td id=\"T_045fd_row1_col0\" class=\"data row1 col0\" >Missing</td>\n",
       "      <td id=\"T_045fd_row1_col1\" class=\"data row1 col1\" >2 (<1%)</td>\n",
       "      <td id=\"T_045fd_row1_col2\" class=\"data row1 col2\" >                              </td>\n",
       "      <td id=\"T_045fd_row1_col3\" class=\"data row1 col3\" >Ratatouille <1%</td>\n",
       "    </tr>\n",
       "    <tr>\n",
       "      <td id=\"T_045fd_row2_col0\" class=\"data row2 col0\" >Distinct</td>\n",
       "      <td id=\"T_045fd_row2_col1\" class=\"data row2 col1\" >11 559 (69%)</td>\n",
       "      <td id=\"T_045fd_row2_col2\" class=\"data row2 col2\" >                              </td>\n",
       "      <td id=\"T_045fd_row2_col3\" class=\"data row2 col3\" >LEGO Marvel Super Heroes <1%</td>\n",
       "    </tr>\n",
       "    <tr>\n",
       "      <td id=\"T_045fd_row3_col0\" class=\"data row3 col0\" >Duplicated origin</td>\n",
       "      <td id=\"T_045fd_row3_col1\" class=\"data row3 col1\" >5 155 (31%)</td>\n",
       "      <td id=\"T_045fd_row3_col2\" class=\"data row3 col2\" >                              </td>\n",
       "      <td id=\"T_045fd_row3_col3\" class=\"data row3 col3\" >FIFA 14 <1%</td>\n",
       "    </tr>\n",
       "    <tr>\n",
       "      <td id=\"T_045fd_row4_col0\" class=\"data row4 col0\" >Dupl (modify - origin)</td>\n",
       "      <td id=\"T_045fd_row4_col1\" class=\"data row4 col1\" >2 (<1%)</td>\n",
       "      <td id=\"T_045fd_row4_col2\" class=\"data row4 col2\" >                              </td>\n",
       "      <td id=\"T_045fd_row4_col3\" class=\"data row4 col3\" >Madden NFL 07 <1%</td>\n",
       "    </tr>\n",
       "    <tr>\n",
       "      <td id=\"T_045fd_row5_col0\" class=\"data row5 col0\" >Empty</td>\n",
       "      <td id=\"T_045fd_row5_col1\" class=\"data row5 col1\" >---</td>\n",
       "      <td id=\"T_045fd_row5_col2\" class=\"data row5 col2\" >                              </td>\n",
       "      <td id=\"T_045fd_row5_col3\" class=\"data row5 col3\" >LEGO The Hobbit <1%</td>\n",
       "    </tr>\n",
       "    <tr>\n",
       "      <td id=\"T_045fd_row6_col0\" class=\"data row6 col0\" >RAM (Mb)</td>\n",
       "      <td id=\"T_045fd_row6_col1\" class=\"data row6 col1\" >1</td>\n",
       "      <td id=\"T_045fd_row6_col2\" class=\"data row6 col2\" >                              </td>\n",
       "      <td id=\"T_045fd_row6_col3\" class=\"data row6 col3\" >FIFA Soccer 13 <1%</td>\n",
       "    </tr>\n",
       "  </tbody>\n",
       "</table>\n",
       "\n",
       "                <div>\n",
       "                    <img src=\"data:image/png;base64,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\" alt=\"График\"/>\n",
       "                </div>\n",
       "                      \n",
       "            </div>\n",
       "            "
      ],
      "text/plain": [
       "<IPython.core.display.HTML object>"
      ]
     },
     "metadata": {},
     "output_type": "display_data"
    }
   ],
   "source": [
    "gen.next()"
   ]
  },
  {
   "cell_type": "markdown",
   "metadata": {},
   "source": [
    "**Наблюдения:**  \n",
    "\n",
    "- В столбце с названием игры есть 2 пропущенных значения (менее 1%)\n",
    "- Топ 5 самых встречающихся игр: Need for Speed: Most Wanted, Ratatouille, LEGO Marvel Super Heroes, FIFA 14, Madden NFL 07"
   ]
  },
  {
   "cell_type": "code",
   "execution_count": 19,
   "metadata": {},
   "outputs": [
    {
     "data": {
      "text/html": [
       "\n",
       "            <div style=\"display: flex; justify-content: flex-start; align-items: flex-end;\">\n",
       "                <style type=\"text/css\">\n",
       "#T_93607 caption {\n",
       "  font-size: 16px;\n",
       "  text-align: left;\n",
       "  font-weight: bold;\n",
       "}\n",
       "#T_93607 th {\n",
       "  min-width: 100px;\n",
       "}\n",
       "#T_93607  td {\n",
       "  min-width: 100px;\n",
       "}\n",
       "#T_93607_row0_col0, #T_93607_row0_col1, #T_93607_row0_col2, #T_93607_row0_col3, #T_93607_row1_col0, #T_93607_row1_col1, #T_93607_row1_col2, #T_93607_row1_col3, #T_93607_row2_col0, #T_93607_row2_col1, #T_93607_row2_col2, #T_93607_row2_col3, #T_93607_row3_col0, #T_93607_row3_col1, #T_93607_row3_col2, #T_93607_row3_col3, #T_93607_row4_col0, #T_93607_row4_col1, #T_93607_row4_col2, #T_93607_row4_col3, #T_93607_row5_col0, #T_93607_row5_col1, #T_93607_row5_col2, #T_93607_row5_col3, #T_93607_row6_col0, #T_93607_row6_col1, #T_93607_row6_col2, #T_93607_row6_col3 {\n",
       "  text-align: left;\n",
       "}\n",
       "</style>\n",
       "<table id=\"T_93607\">\n",
       "  <caption>Статистика и топ-10 значений столбца \"platform\"</caption>\n",
       "  <thead>\n",
       "  </thead>\n",
       "  <tbody>\n",
       "    <tr>\n",
       "      <td id=\"T_93607_row0_col0\" class=\"data row0 col0\" >Values</td>\n",
       "      <td id=\"T_93607_row0_col1\" class=\"data row0 col1\" >16 715 (100%)</td>\n",
       "      <td id=\"T_93607_row0_col2\" class=\"data row0 col2\" >                              </td>\n",
       "      <td id=\"T_93607_row0_col3\" class=\"data row0 col3\" >PS2 (13%)</td>\n",
       "    </tr>\n",
       "    <tr>\n",
       "      <td id=\"T_93607_row1_col0\" class=\"data row1 col0\" >Missing</td>\n",
       "      <td id=\"T_93607_row1_col1\" class=\"data row1 col1\" >---</td>\n",
       "      <td id=\"T_93607_row1_col2\" class=\"data row1 col2\" >                              </td>\n",
       "      <td id=\"T_93607_row1_col3\" class=\"data row1 col3\" >DS (13%)</td>\n",
       "    </tr>\n",
       "    <tr>\n",
       "      <td id=\"T_93607_row2_col0\" class=\"data row2 col0\" >Distinct</td>\n",
       "      <td id=\"T_93607_row2_col1\" class=\"data row2 col1\" >31 (<1%)</td>\n",
       "      <td id=\"T_93607_row2_col2\" class=\"data row2 col2\" >                              </td>\n",
       "      <td id=\"T_93607_row2_col3\" class=\"data row2 col3\" >PS3 (8%)</td>\n",
       "    </tr>\n",
       "    <tr>\n",
       "      <td id=\"T_93607_row3_col0\" class=\"data row3 col0\" >Duplicated origin</td>\n",
       "      <td id=\"T_93607_row3_col1\" class=\"data row3 col1\" >16 684 (99.8%)</td>\n",
       "      <td id=\"T_93607_row3_col2\" class=\"data row3 col2\" >                              </td>\n",
       "      <td id=\"T_93607_row3_col3\" class=\"data row3 col3\" >Wii (8%)</td>\n",
       "    </tr>\n",
       "    <tr>\n",
       "      <td id=\"T_93607_row4_col0\" class=\"data row4 col0\" >Dupl (modify - origin)</td>\n",
       "      <td id=\"T_93607_row4_col1\" class=\"data row4 col1\" >---</td>\n",
       "      <td id=\"T_93607_row4_col2\" class=\"data row4 col2\" >                              </td>\n",
       "      <td id=\"T_93607_row4_col3\" class=\"data row4 col3\" >X360 (8%)</td>\n",
       "    </tr>\n",
       "    <tr>\n",
       "      <td id=\"T_93607_row5_col0\" class=\"data row5 col0\" >Empty</td>\n",
       "      <td id=\"T_93607_row5_col1\" class=\"data row5 col1\" >---</td>\n",
       "      <td id=\"T_93607_row5_col2\" class=\"data row5 col2\" >                              </td>\n",
       "      <td id=\"T_93607_row5_col3\" class=\"data row5 col3\" >PSP (7%)</td>\n",
       "    </tr>\n",
       "    <tr>\n",
       "      <td id=\"T_93607_row6_col0\" class=\"data row6 col0\" >RAM (Mb)</td>\n",
       "      <td id=\"T_93607_row6_col1\" class=\"data row6 col1\" ><1 Mb</td>\n",
       "      <td id=\"T_93607_row6_col2\" class=\"data row6 col2\" >                              </td>\n",
       "      <td id=\"T_93607_row6_col3\" class=\"data row6 col3\" >PS (7%)</td>\n",
       "    </tr>\n",
       "  </tbody>\n",
       "</table>\n",
       "\n",
       "                <div>\n",
       "                    <img src=\"data:image/png;base64,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\" alt=\"График\"/>\n",
       "                </div>\n",
       "                      \n",
       "            </div>\n",
       "            "
      ],
      "text/plain": [
       "<IPython.core.display.HTML object>"
      ]
     },
     "metadata": {},
     "output_type": "display_data"
    }
   ],
   "source": [
    "gen.next()"
   ]
  },
  {
   "cell_type": "markdown",
   "metadata": {},
   "source": [
    "**Наблюдения:**  \n",
    "\n",
    "- Больше всего игр на платформах PS2 и DS (по 13% от общего числа игр)."
   ]
  },
  {
   "cell_type": "code",
   "execution_count": 20,
   "metadata": {},
   "outputs": [
    {
     "data": {
      "text/html": [
       "\n",
       "            <div style=\"display: flex; justify-content: flex-start; align-items: flex-end;\">\n",
       "                <style type=\"text/css\">\n",
       "#T_2632d caption {\n",
       "  font-size: 16px;\n",
       "  text-align: left;\n",
       "  font-weight: bold;\n",
       "}\n",
       "#T_2632d th {\n",
       "  min-width: 100px;\n",
       "}\n",
       "#T_2632d  td {\n",
       "  min-width: 100px;\n",
       "}\n",
       "#T_2632d_row0_col0, #T_2632d_row0_col1, #T_2632d_row0_col2, #T_2632d_row0_col3, #T_2632d_row1_col0, #T_2632d_row1_col1, #T_2632d_row1_col2, #T_2632d_row1_col3, #T_2632d_row2_col0, #T_2632d_row2_col1, #T_2632d_row2_col2, #T_2632d_row2_col3, #T_2632d_row3_col0, #T_2632d_row3_col1, #T_2632d_row3_col2, #T_2632d_row3_col3, #T_2632d_row4_col0, #T_2632d_row4_col1, #T_2632d_row4_col2, #T_2632d_row4_col3, #T_2632d_row5_col0, #T_2632d_row5_col1, #T_2632d_row5_col2, #T_2632d_row5_col3, #T_2632d_row6_col0, #T_2632d_row6_col1, #T_2632d_row6_col2, #T_2632d_row6_col3 {\n",
       "  text-align: left;\n",
       "}\n",
       "</style>\n",
       "<table id=\"T_2632d\">\n",
       "  <caption>Статистика и топ-10 значений столбца \"genre\"</caption>\n",
       "  <thead>\n",
       "  </thead>\n",
       "  <tbody>\n",
       "    <tr>\n",
       "      <td id=\"T_2632d_row0_col0\" class=\"data row0 col0\" >Values</td>\n",
       "      <td id=\"T_2632d_row0_col1\" class=\"data row0 col1\" >16 713 (99.9%)</td>\n",
       "      <td id=\"T_2632d_row0_col2\" class=\"data row0 col2\" >                              </td>\n",
       "      <td id=\"T_2632d_row0_col3\" class=\"data row0 col3\" >Action (20%)</td>\n",
       "    </tr>\n",
       "    <tr>\n",
       "      <td id=\"T_2632d_row1_col0\" class=\"data row1 col0\" >Missing</td>\n",
       "      <td id=\"T_2632d_row1_col1\" class=\"data row1 col1\" >2 (<1%)</td>\n",
       "      <td id=\"T_2632d_row1_col2\" class=\"data row1 col2\" >                              </td>\n",
       "      <td id=\"T_2632d_row1_col3\" class=\"data row1 col3\" >Sports (14%)</td>\n",
       "    </tr>\n",
       "    <tr>\n",
       "      <td id=\"T_2632d_row2_col0\" class=\"data row2 col0\" >Distinct</td>\n",
       "      <td id=\"T_2632d_row2_col1\" class=\"data row2 col1\" >12 (<1%)</td>\n",
       "      <td id=\"T_2632d_row2_col2\" class=\"data row2 col2\" >                              </td>\n",
       "      <td id=\"T_2632d_row2_col3\" class=\"data row2 col3\" >Misc (10%)</td>\n",
       "    </tr>\n",
       "    <tr>\n",
       "      <td id=\"T_2632d_row3_col0\" class=\"data row3 col0\" >Duplicated origin</td>\n",
       "      <td id=\"T_2632d_row3_col1\" class=\"data row3 col1\" >16 702 (99.9%)</td>\n",
       "      <td id=\"T_2632d_row3_col2\" class=\"data row3 col2\" >                              </td>\n",
       "      <td id=\"T_2632d_row3_col3\" class=\"data row3 col3\" >Role-Playing (9%)</td>\n",
       "    </tr>\n",
       "    <tr>\n",
       "      <td id=\"T_2632d_row4_col0\" class=\"data row4 col0\" >Dupl (modify - origin)</td>\n",
       "      <td id=\"T_2632d_row4_col1\" class=\"data row4 col1\" >---</td>\n",
       "      <td id=\"T_2632d_row4_col2\" class=\"data row4 col2\" >                              </td>\n",
       "      <td id=\"T_2632d_row4_col3\" class=\"data row4 col3\" >Shooter (8%)</td>\n",
       "    </tr>\n",
       "    <tr>\n",
       "      <td id=\"T_2632d_row5_col0\" class=\"data row5 col0\" >Empty</td>\n",
       "      <td id=\"T_2632d_row5_col1\" class=\"data row5 col1\" >---</td>\n",
       "      <td id=\"T_2632d_row5_col2\" class=\"data row5 col2\" >                              </td>\n",
       "      <td id=\"T_2632d_row5_col3\" class=\"data row5 col3\" >Adventure (8%)</td>\n",
       "    </tr>\n",
       "    <tr>\n",
       "      <td id=\"T_2632d_row6_col0\" class=\"data row6 col0\" >RAM (Mb)</td>\n",
       "      <td id=\"T_2632d_row6_col1\" class=\"data row6 col1\" ><1 Mb</td>\n",
       "      <td id=\"T_2632d_row6_col2\" class=\"data row6 col2\" >                              </td>\n",
       "      <td id=\"T_2632d_row6_col3\" class=\"data row6 col3\" >Racing (7%)</td>\n",
       "    </tr>\n",
       "  </tbody>\n",
       "</table>\n",
       "\n",
       "                <div>\n",
       "                    <img src=\"data:image/png;base64,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\" alt=\"График\"/>\n",
       "                </div>\n",
       "                      \n",
       "            </div>\n",
       "            "
      ],
      "text/plain": [
       "<IPython.core.display.HTML object>"
      ]
     },
     "metadata": {},
     "output_type": "display_data"
    }
   ],
   "source": [
    "gen.next()"
   ]
  },
  {
   "cell_type": "markdown",
   "metadata": {},
   "source": [
    "У нас отображаются не все значения жанров, посмотрим на полный список."
   ]
  },
  {
   "cell_type": "code",
   "execution_count": 21,
   "metadata": {},
   "outputs": [
    {
     "data": {
      "text/html": [
       "<style type=\"text/css\">\n",
       "#T_1847c caption {\n",
       "  font-size: 16px;\n",
       "  text-align: left;\n",
       "  font-weight: bold;\n",
       "}\n",
       "#T_1847c_row0_col0, #T_1847c_row0_col1, #T_1847c_row0_col2, #T_1847c_row0_col3, #T_1847c_row0_col4, #T_1847c_row1_col0, #T_1847c_row1_col1, #T_1847c_row1_col2, #T_1847c_row1_col3, #T_1847c_row1_col4, #T_1847c_row2_col0, #T_1847c_row2_col1, #T_1847c_row2_col2, #T_1847c_row2_col3, #T_1847c_row2_col4, #T_1847c_row3_col0, #T_1847c_row3_col1, #T_1847c_row3_col2, #T_1847c_row3_col3, #T_1847c_row3_col4, #T_1847c_row4_col0, #T_1847c_row4_col1, #T_1847c_row4_col2, #T_1847c_row4_col3, #T_1847c_row4_col4, #T_1847c_row5_col0, #T_1847c_row5_col1, #T_1847c_row5_col2, #T_1847c_row5_col3, #T_1847c_row5_col4 {\n",
       "  text-align: left;\n",
       "}\n",
       "</style>\n",
       "<table id=\"T_1847c\">\n",
       "  <caption>value counts for \"genre\"</caption>\n",
       "  <thead>\n",
       "  </thead>\n",
       "  <tbody>\n",
       "    <tr>\n",
       "      <td id=\"T_1847c_row0_col0\" class=\"data row0 col0\" >Action</td>\n",
       "      <td id=\"T_1847c_row0_col1\" class=\"data row0 col1\" >3 369 (20.16%)</td>\n",
       "      <td id=\"T_1847c_row0_col2\" class=\"data row0 col2\" >|</td>\n",
       "      <td id=\"T_1847c_row0_col3\" class=\"data row0 col3\" >Racing</td>\n",
       "      <td id=\"T_1847c_row0_col4\" class=\"data row0 col4\" >1 249 (7.47%)</td>\n",
       "    </tr>\n",
       "    <tr>\n",
       "      <td id=\"T_1847c_row1_col0\" class=\"data row1 col0\" >Sports</td>\n",
       "      <td id=\"T_1847c_row1_col1\" class=\"data row1 col1\" >2 348 (14.05%)</td>\n",
       "      <td id=\"T_1847c_row1_col2\" class=\"data row1 col2\" >|</td>\n",
       "      <td id=\"T_1847c_row1_col3\" class=\"data row1 col3\" >Platform</td>\n",
       "      <td id=\"T_1847c_row1_col4\" class=\"data row1 col4\" >888 (5.31%)</td>\n",
       "    </tr>\n",
       "    <tr>\n",
       "      <td id=\"T_1847c_row2_col0\" class=\"data row2 col0\" >Misc</td>\n",
       "      <td id=\"T_1847c_row2_col1\" class=\"data row2 col1\" >1 750 (10.47%)</td>\n",
       "      <td id=\"T_1847c_row2_col2\" class=\"data row2 col2\" >|</td>\n",
       "      <td id=\"T_1847c_row2_col3\" class=\"data row2 col3\" >Simulation</td>\n",
       "      <td id=\"T_1847c_row2_col4\" class=\"data row2 col4\" >873 (5.22%)</td>\n",
       "    </tr>\n",
       "    <tr>\n",
       "      <td id=\"T_1847c_row3_col0\" class=\"data row3 col0\" >Role-Playing</td>\n",
       "      <td id=\"T_1847c_row3_col1\" class=\"data row3 col1\" >1 498 (8.96%)</td>\n",
       "      <td id=\"T_1847c_row3_col2\" class=\"data row3 col2\" >|</td>\n",
       "      <td id=\"T_1847c_row3_col3\" class=\"data row3 col3\" >Fighting</td>\n",
       "      <td id=\"T_1847c_row3_col4\" class=\"data row3 col4\" >849 (5.08%)</td>\n",
       "    </tr>\n",
       "    <tr>\n",
       "      <td id=\"T_1847c_row4_col0\" class=\"data row4 col0\" >Shooter</td>\n",
       "      <td id=\"T_1847c_row4_col1\" class=\"data row4 col1\" >1 323 (7.92%)</td>\n",
       "      <td id=\"T_1847c_row4_col2\" class=\"data row4 col2\" >|</td>\n",
       "      <td id=\"T_1847c_row4_col3\" class=\"data row4 col3\" >Strategy</td>\n",
       "      <td id=\"T_1847c_row4_col4\" class=\"data row4 col4\" >683 (4.09%)</td>\n",
       "    </tr>\n",
       "    <tr>\n",
       "      <td id=\"T_1847c_row5_col0\" class=\"data row5 col0\" >Adventure</td>\n",
       "      <td id=\"T_1847c_row5_col1\" class=\"data row5 col1\" >1 303 (7.8%)</td>\n",
       "      <td id=\"T_1847c_row5_col2\" class=\"data row5 col2\" >|</td>\n",
       "      <td id=\"T_1847c_row5_col3\" class=\"data row5 col3\" >Puzzle</td>\n",
       "      <td id=\"T_1847c_row5_col4\" class=\"data row5 col4\" >580 (3.47%)</td>\n",
       "    </tr>\n",
       "  </tbody>\n",
       "</table>\n"
      ],
      "text/plain": [
       "<pandas.io.formats.style.Styler at 0x7d3bfe7ce7e0>"
      ]
     },
     "execution_count": 21,
     "metadata": {},
     "output_type": "execute_result"
    }
   ],
   "source": [
    "pagri_data_tools.value_counts_table(df, 'genre', chunk_size = 6, tables_in_row = 2)"
   ]
  },
  {
   "cell_type": "markdown",
   "metadata": {},
   "source": [
    "**Наблюдения:**  \n",
    "\n",
    "- В столбце с жанром игры 2% пропусков.  \n",
    "- Больше всего игр в жанре Action."
   ]
  },
  {
   "cell_type": "code",
   "execution_count": 22,
   "metadata": {},
   "outputs": [
    {
     "data": {
      "text/html": [
       "\n",
       "            <div style=\"display: flex; justify-content: flex-start; align-items: flex-end;\">\n",
       "                <style type=\"text/css\">\n",
       "#T_ad023 caption {\n",
       "  font-size: 16px;\n",
       "  text-align: left;\n",
       "  font-weight: bold;\n",
       "}\n",
       "#T_ad023 th {\n",
       "  min-width: 100px;\n",
       "}\n",
       "#T_ad023  td {\n",
       "  min-width: 100px;\n",
       "}\n",
       "#T_ad023_row0_col0, #T_ad023_row0_col1, #T_ad023_row0_col2, #T_ad023_row0_col3, #T_ad023_row1_col0, #T_ad023_row1_col1, #T_ad023_row1_col2, #T_ad023_row1_col3, #T_ad023_row2_col0, #T_ad023_row2_col1, #T_ad023_row2_col2, #T_ad023_row2_col3, #T_ad023_row3_col0, #T_ad023_row3_col1, #T_ad023_row3_col2, #T_ad023_row3_col3, #T_ad023_row4_col0, #T_ad023_row4_col1, #T_ad023_row4_col2, #T_ad023_row4_col3, #T_ad023_row5_col0, #T_ad023_row5_col1, #T_ad023_row5_col2, #T_ad023_row5_col3, #T_ad023_row6_col0, #T_ad023_row6_col1, #T_ad023_row6_col2, #T_ad023_row6_col3 {\n",
       "  text-align: left;\n",
       "}\n",
       "</style>\n",
       "<table id=\"T_ad023\">\n",
       "  <caption>Статистика и топ-10 значений столбца \"rating\"</caption>\n",
       "  <thead>\n",
       "  </thead>\n",
       "  <tbody>\n",
       "    <tr>\n",
       "      <td id=\"T_ad023_row0_col0\" class=\"data row0 col0\" >Values</td>\n",
       "      <td id=\"T_ad023_row0_col1\" class=\"data row0 col1\" >9 949 (60%)</td>\n",
       "      <td id=\"T_ad023_row0_col2\" class=\"data row0 col2\" >                              </td>\n",
       "      <td id=\"T_ad023_row0_col3\" class=\"data row0 col3\" >E (40%)</td>\n",
       "    </tr>\n",
       "    <tr>\n",
       "      <td id=\"T_ad023_row1_col0\" class=\"data row1 col0\" >Missing</td>\n",
       "      <td id=\"T_ad023_row1_col1\" class=\"data row1 col1\" >6 766 (40%)</td>\n",
       "      <td id=\"T_ad023_row1_col2\" class=\"data row1 col2\" >                              </td>\n",
       "      <td id=\"T_ad023_row1_col3\" class=\"data row1 col3\" >T (30%)</td>\n",
       "    </tr>\n",
       "    <tr>\n",
       "      <td id=\"T_ad023_row2_col0\" class=\"data row2 col0\" >Distinct</td>\n",
       "      <td id=\"T_ad023_row2_col1\" class=\"data row2 col1\" >8 (<1%)</td>\n",
       "      <td id=\"T_ad023_row2_col2\" class=\"data row2 col2\" >                              </td>\n",
       "      <td id=\"T_ad023_row2_col3\" class=\"data row2 col3\" >M (16%)</td>\n",
       "    </tr>\n",
       "    <tr>\n",
       "      <td id=\"T_ad023_row3_col0\" class=\"data row3 col0\" >Duplicated origin</td>\n",
       "      <td id=\"T_ad023_row3_col1\" class=\"data row3 col1\" >16 706 (99.9%)</td>\n",
       "      <td id=\"T_ad023_row3_col2\" class=\"data row3 col2\" >                              </td>\n",
       "      <td id=\"T_ad023_row3_col3\" class=\"data row3 col3\" >E10+ (14%)</td>\n",
       "    </tr>\n",
       "    <tr>\n",
       "      <td id=\"T_ad023_row4_col0\" class=\"data row4 col0\" >Dupl (modify - origin)</td>\n",
       "      <td id=\"T_ad023_row4_col1\" class=\"data row4 col1\" >---</td>\n",
       "      <td id=\"T_ad023_row4_col2\" class=\"data row4 col2\" >                              </td>\n",
       "      <td id=\"T_ad023_row4_col3\" class=\"data row4 col3\" >EC <1%</td>\n",
       "    </tr>\n",
       "    <tr>\n",
       "      <td id=\"T_ad023_row5_col0\" class=\"data row5 col0\" >Empty</td>\n",
       "      <td id=\"T_ad023_row5_col1\" class=\"data row5 col1\" >---</td>\n",
       "      <td id=\"T_ad023_row5_col2\" class=\"data row5 col2\" >                              </td>\n",
       "      <td id=\"T_ad023_row5_col3\" class=\"data row5 col3\" >K-A <1%</td>\n",
       "    </tr>\n",
       "    <tr>\n",
       "      <td id=\"T_ad023_row6_col0\" class=\"data row6 col0\" >RAM (Mb)</td>\n",
       "      <td id=\"T_ad023_row6_col1\" class=\"data row6 col1\" ><1 Mb</td>\n",
       "      <td id=\"T_ad023_row6_col2\" class=\"data row6 col2\" >                              </td>\n",
       "      <td id=\"T_ad023_row6_col3\" class=\"data row6 col3\" >RP <1%</td>\n",
       "    </tr>\n",
       "  </tbody>\n",
       "</table>\n",
       "\n",
       "                <div>\n",
       "                    <img src=\"data:image/png;base64,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\" alt=\"График\"/>\n",
       "                </div>\n",
       "                      \n",
       "            </div>\n",
       "            "
      ],
      "text/plain": [
       "<IPython.core.display.HTML object>"
      ]
     },
     "metadata": {},
     "output_type": "display_data"
    }
   ],
   "source": [
    "gen.next()"
   ]
  },
  {
   "cell_type": "markdown",
   "metadata": {},
   "source": [
    "**Наблюдения:**  \n",
    "\n",
    "- В рейтинге 40% пропусков.\n",
    "- Больше всего игр с рейтингами E (40%) и T(30%)."
   ]
  },
  {
   "cell_type": "markdown",
   "metadata": {},
   "source": [
    "#### Изучение дубликатов\n"
   ]
  },
  {
   "cell_type": "markdown",
   "metadata": {},
   "source": [
    "Посмотрим на дубли во всем датафрейме\n"
   ]
  },
  {
   "cell_type": "code",
   "execution_count": 23,
   "metadata": {},
   "outputs": [
    {
     "data": {
      "text/plain": [
       "'no duplicates'"
      ]
     },
     "execution_count": 23,
     "metadata": {},
     "output_type": "execute_result"
    }
   ],
   "source": [
    "pagri_data_tools.check_duplicated(df)"
   ]
  },
  {
   "cell_type": "markdown",
   "metadata": {},
   "source": [
    "В датафрейме полных строк дубликатов нет."
   ]
  },
  {
   "cell_type": "markdown",
   "metadata": {},
   "source": [
    "Посмотрим сколько у нас дублей в каждой колонке\n"
   ]
  },
  {
   "cell_type": "code",
   "execution_count": 24,
   "metadata": {},
   "outputs": [
    {
     "data": {
      "text/html": [
       "<style type=\"text/css\">\n",
       "#T_8906c caption {\n",
       "  font-size: 18px;\n",
       "  text-align: left;\n",
       "  font-weight: bold;\n",
       "}\n",
       "</style>\n",
       "<table id=\"T_8906c\">\n",
       "  <caption>Duplicates</caption>\n",
       "  <thead>\n",
       "  </thead>\n",
       "  <tbody>\n",
       "    <tr>\n",
       "      <th id=\"T_8906c_level0_row0\" class=\"row_heading level0 row0\" >name</th>\n",
       "      <td id=\"T_8906c_row0_col0\" class=\"data row0 col0\" >5155 (30.84%)</td>\n",
       "    </tr>\n",
       "    <tr>\n",
       "      <th id=\"T_8906c_level0_row1\" class=\"row_heading level0 row1\" >platform</th>\n",
       "      <td id=\"T_8906c_row1_col0\" class=\"data row1 col0\" >16684 (99.81%)</td>\n",
       "    </tr>\n",
       "    <tr>\n",
       "      <th id=\"T_8906c_level0_row2\" class=\"row_heading level0 row2\" >year_of_release</th>\n",
       "      <td id=\"T_8906c_row2_col0\" class=\"data row2 col0\" >16677 (99.77%)</td>\n",
       "    </tr>\n",
       "    <tr>\n",
       "      <th id=\"T_8906c_level0_row3\" class=\"row_heading level0 row3\" >genre</th>\n",
       "      <td id=\"T_8906c_row3_col0\" class=\"data row3 col0\" >16702 (99.92%)</td>\n",
       "    </tr>\n",
       "    <tr>\n",
       "      <th id=\"T_8906c_level0_row4\" class=\"row_heading level0 row4\" >na_sales</th>\n",
       "      <td id=\"T_8906c_row4_col0\" class=\"data row4 col0\" >16313 (97.59%)</td>\n",
       "    </tr>\n",
       "    <tr>\n",
       "      <th id=\"T_8906c_level0_row5\" class=\"row_heading level0 row5\" >eu_sales</th>\n",
       "      <td id=\"T_8906c_row5_col0\" class=\"data row5 col0\" >16408 (98.16%)</td>\n",
       "    </tr>\n",
       "    <tr>\n",
       "      <th id=\"T_8906c_level0_row6\" class=\"row_heading level0 row6\" >jp_sales</th>\n",
       "      <td id=\"T_8906c_row6_col0\" class=\"data row6 col0\" >16471 (98.54%)</td>\n",
       "    </tr>\n",
       "    <tr>\n",
       "      <th id=\"T_8906c_level0_row7\" class=\"row_heading level0 row7\" >other_sales</th>\n",
       "      <td id=\"T_8906c_row7_col0\" class=\"data row7 col0\" >16560 (99.07%)</td>\n",
       "    </tr>\n",
       "    <tr>\n",
       "      <th id=\"T_8906c_level0_row8\" class=\"row_heading level0 row8\" >critic_score</th>\n",
       "      <td id=\"T_8906c_row8_col0\" class=\"data row8 col0\" >16632 (99.50%)</td>\n",
       "    </tr>\n",
       "    <tr>\n",
       "      <th id=\"T_8906c_level0_row9\" class=\"row_heading level0 row9\" >user_score</th>\n",
       "      <td id=\"T_8906c_row9_col0\" class=\"data row9 col0\" >16619 (99.43%)</td>\n",
       "    </tr>\n",
       "    <tr>\n",
       "      <th id=\"T_8906c_level0_row10\" class=\"row_heading level0 row10\" >rating</th>\n",
       "      <td id=\"T_8906c_row10_col0\" class=\"data row10 col0\" >16706 (99.95%)</td>\n",
       "    </tr>\n",
       "  </tbody>\n",
       "</table>\n"
      ],
      "text/plain": [
       "<pandas.io.formats.style.Styler at 0x7d3bfe982d80>"
      ]
     },
     "metadata": {},
     "output_type": "display_data"
    }
   ],
   "source": [
    "series_duplicated = pagri_data_tools.find_columns_with_duplicates(df)"
   ]
  },
  {
   "cell_type": "markdown",
   "metadata": {},
   "source": [
    "У нас нет столбцов, в которых значения долны быть уникльыми. Поэтом все впорядке."
   ]
  },
  {
   "cell_type": "markdown",
   "metadata": {},
   "source": [
    "Посмотрим на дубли в комбинации колонок с названием игры, жанром и платформой."
   ]
  },
  {
   "cell_type": "code",
   "execution_count": 25,
   "metadata": {},
   "outputs": [],
   "source": [
    "gen = pagri_data_tools.check_duplicated_combinations_gen(df[['name', 'platform', 'genre']], n=3)"
   ]
  },
  {
   "cell_type": "code",
   "execution_count": 26,
   "metadata": {},
   "outputs": [
    {
     "name": "stdout",
     "output_type": "stream",
     "text": [
      "Group by 2 columns\n"
     ]
    },
    {
     "data": {
      "text/html": [
       "<style type=\"text/css\">\n",
       "#T_f941a caption {\n",
       "  font-size: 18px;\n",
       "  text-align: left;\n",
       "  font-weight: bold;\n",
       "}\n",
       "</style>\n",
       "<table id=\"T_f941a\">\n",
       "  <caption>Duplicates in both columns</caption>\n",
       "  <thead>\n",
       "    <tr>\n",
       "      <th class=\"blank level0\" >&nbsp;</th>\n",
       "      <th id=\"T_f941a_level0_col0\" class=\"col_heading level0 col0\" >name</th>\n",
       "      <th id=\"T_f941a_level0_col1\" class=\"col_heading level0 col1\" >platform</th>\n",
       "      <th id=\"T_f941a_level0_col2\" class=\"col_heading level0 col2\" >genre</th>\n",
       "    </tr>\n",
       "  </thead>\n",
       "  <tbody>\n",
       "    <tr>\n",
       "      <th id=\"T_f941a_level0_row0\" class=\"row_heading level0 row0\" >name</th>\n",
       "      <td id=\"T_f941a_row0_col0\" class=\"data row0 col0\" ></td>\n",
       "      <td id=\"T_f941a_row0_col1\" class=\"data row0 col1\" ></td>\n",
       "      <td id=\"T_f941a_row0_col2\" class=\"data row0 col2\" ></td>\n",
       "    </tr>\n",
       "    <tr>\n",
       "      <th id=\"T_f941a_level0_row1\" class=\"row_heading level0 row1\" >platform</th>\n",
       "      <td id=\"T_f941a_row1_col0\" class=\"data row1 col0\" >5 < 1%</td>\n",
       "      <td id=\"T_f941a_row1_col1\" class=\"data row1 col1\" ></td>\n",
       "      <td id=\"T_f941a_row1_col2\" class=\"data row1 col2\" ></td>\n",
       "    </tr>\n",
       "    <tr>\n",
       "      <th id=\"T_f941a_level0_row2\" class=\"row_heading level0 row2\" >genre</th>\n",
       "      <td id=\"T_f941a_row2_col0\" class=\"data row2 col0\" >5 151 (30.8%)</td>\n",
       "      <td id=\"T_f941a_row2_col1\" class=\"data row2 col1\" >16 421 (98.2%)</td>\n",
       "      <td id=\"T_f941a_row2_col2\" class=\"data row2 col2\" ></td>\n",
       "    </tr>\n",
       "  </tbody>\n",
       "</table>\n"
      ],
      "text/plain": [
       "<pandas.io.formats.style.Styler at 0x7d3bff37ac60>"
      ]
     },
     "metadata": {},
     "output_type": "display_data"
    }
   ],
   "source": [
    "next(gen)"
   ]
  },
  {
   "cell_type": "markdown",
   "metadata": {},
   "source": [
    "**Наблюдения:**  \n",
    "\n",
    "- В паре платформа и название игры всего 5 дубликатов.\n",
    "- В парах жанр/название игры и жанр/платформа много дубликатов."
   ]
  },
  {
   "cell_type": "markdown",
   "metadata": {},
   "source": [
    "Посмотрим на строки с дублями в названии игры и платформе"
   ]
  },
  {
   "cell_type": "code",
   "execution_count": 27,
   "metadata": {},
   "outputs": [
    {
     "data": {
      "text/html": [
       "<div>\n",
       "<style scoped>\n",
       "    .dataframe tbody tr th:only-of-type {\n",
       "        vertical-align: middle;\n",
       "    }\n",
       "\n",
       "    .dataframe tbody tr th {\n",
       "        vertical-align: top;\n",
       "    }\n",
       "\n",
       "    .dataframe thead th {\n",
       "        text-align: right;\n",
       "    }\n",
       "</style>\n",
       "<table border=\"1\" class=\"dataframe\">\n",
       "  <thead>\n",
       "    <tr style=\"text-align: right;\">\n",
       "      <th></th>\n",
       "      <th>name</th>\n",
       "      <th>platform</th>\n",
       "      <th>year_of_release</th>\n",
       "      <th>genre</th>\n",
       "      <th>na_sales</th>\n",
       "      <th>eu_sales</th>\n",
       "      <th>jp_sales</th>\n",
       "      <th>other_sales</th>\n",
       "      <th>critic_score</th>\n",
       "      <th>user_score</th>\n",
       "      <th>rating</th>\n",
       "    </tr>\n",
       "  </thead>\n",
       "  <tbody>\n",
       "    <tr>\n",
       "      <th>604</th>\n",
       "      <td>Madden NFL 13</td>\n",
       "      <td>PS3</td>\n",
       "      <td>2,012.00</td>\n",
       "      <td>Sports</td>\n",
       "      <td>2.11</td>\n",
       "      <td>0.22</td>\n",
       "      <td>0.00</td>\n",
       "      <td>0.23</td>\n",
       "      <td>83.00</td>\n",
       "      <td>5.50</td>\n",
       "      <td>E</td>\n",
       "    </tr>\n",
       "    <tr>\n",
       "      <th>16230</th>\n",
       "      <td>Madden NFL 13</td>\n",
       "      <td>PS3</td>\n",
       "      <td>2,012.00</td>\n",
       "      <td>Sports</td>\n",
       "      <td>0.00</td>\n",
       "      <td>0.01</td>\n",
       "      <td>0.00</td>\n",
       "      <td>0.00</td>\n",
       "      <td>83.00</td>\n",
       "      <td>5.50</td>\n",
       "      <td>E</td>\n",
       "    </tr>\n",
       "    <tr>\n",
       "      <th>5972</th>\n",
       "      <td>Need for Speed: Most Wanted</td>\n",
       "      <td>PC</td>\n",
       "      <td>2,005.00</td>\n",
       "      <td>Racing</td>\n",
       "      <td>0.02</td>\n",
       "      <td>0.23</td>\n",
       "      <td>0.00</td>\n",
       "      <td>0.04</td>\n",
       "      <td>82.00</td>\n",
       "      <td>8.50</td>\n",
       "      <td>T</td>\n",
       "    </tr>\n",
       "    <tr>\n",
       "      <th>11715</th>\n",
       "      <td>Need for Speed: Most Wanted</td>\n",
       "      <td>PC</td>\n",
       "      <td>2,012.00</td>\n",
       "      <td>Racing</td>\n",
       "      <td>0.00</td>\n",
       "      <td>0.06</td>\n",
       "      <td>0.00</td>\n",
       "      <td>0.02</td>\n",
       "      <td>82.00</td>\n",
       "      <td>8.50</td>\n",
       "      <td>T</td>\n",
       "    </tr>\n",
       "    <tr>\n",
       "      <th>1190</th>\n",
       "      <td>Need for Speed: Most Wanted</td>\n",
       "      <td>X360</td>\n",
       "      <td>2,012.00</td>\n",
       "      <td>Racing</td>\n",
       "      <td>0.62</td>\n",
       "      <td>0.78</td>\n",
       "      <td>0.01</td>\n",
       "      <td>0.15</td>\n",
       "      <td>83.00</td>\n",
       "      <td>8.50</td>\n",
       "      <td>T</td>\n",
       "    </tr>\n",
       "    <tr>\n",
       "      <th>1591</th>\n",
       "      <td>Need for Speed: Most Wanted</td>\n",
       "      <td>X360</td>\n",
       "      <td>2,005.00</td>\n",
       "      <td>Racing</td>\n",
       "      <td>1.00</td>\n",
       "      <td>0.13</td>\n",
       "      <td>0.02</td>\n",
       "      <td>0.10</td>\n",
       "      <td>83.00</td>\n",
       "      <td>8.50</td>\n",
       "      <td>T</td>\n",
       "    </tr>\n",
       "    <tr>\n",
       "      <th>1745</th>\n",
       "      <td>Sonic the Hedgehog</td>\n",
       "      <td>PS3</td>\n",
       "      <td>2,006.00</td>\n",
       "      <td>Platform</td>\n",
       "      <td>0.41</td>\n",
       "      <td>0.06</td>\n",
       "      <td>0.04</td>\n",
       "      <td>0.66</td>\n",
       "      <td>43.00</td>\n",
       "      <td>4.10</td>\n",
       "      <td>E10+</td>\n",
       "    </tr>\n",
       "    <tr>\n",
       "      <th>4127</th>\n",
       "      <td>Sonic the Hedgehog</td>\n",
       "      <td>PS3</td>\n",
       "      <td>NaN</td>\n",
       "      <td>Platform</td>\n",
       "      <td>0.00</td>\n",
       "      <td>0.48</td>\n",
       "      <td>0.00</td>\n",
       "      <td>0.00</td>\n",
       "      <td>43.00</td>\n",
       "      <td>4.10</td>\n",
       "      <td>E10+</td>\n",
       "    </tr>\n",
       "    <tr>\n",
       "      <th>659</th>\n",
       "      <td>NaN</td>\n",
       "      <td>GEN</td>\n",
       "      <td>1,993.00</td>\n",
       "      <td>NaN</td>\n",
       "      <td>1.78</td>\n",
       "      <td>0.53</td>\n",
       "      <td>0.00</td>\n",
       "      <td>0.08</td>\n",
       "      <td>NaN</td>\n",
       "      <td>NaN</td>\n",
       "      <td>NaN</td>\n",
       "    </tr>\n",
       "    <tr>\n",
       "      <th>14244</th>\n",
       "      <td>NaN</td>\n",
       "      <td>GEN</td>\n",
       "      <td>1,993.00</td>\n",
       "      <td>NaN</td>\n",
       "      <td>0.00</td>\n",
       "      <td>0.00</td>\n",
       "      <td>0.03</td>\n",
       "      <td>0.00</td>\n",
       "      <td>NaN</td>\n",
       "      <td>NaN</td>\n",
       "      <td>NaN</td>\n",
       "    </tr>\n",
       "  </tbody>\n",
       "</table>\n",
       "</div>"
      ],
      "text/plain": [
       "                              name platform  year_of_release     genre  \\\n",
       "604                  Madden NFL 13      PS3         2,012.00    Sports   \n",
       "16230                Madden NFL 13      PS3         2,012.00    Sports   \n",
       "5972   Need for Speed: Most Wanted       PC         2,005.00    Racing   \n",
       "11715  Need for Speed: Most Wanted       PC         2,012.00    Racing   \n",
       "1190   Need for Speed: Most Wanted     X360         2,012.00    Racing   \n",
       "1591   Need for Speed: Most Wanted     X360         2,005.00    Racing   \n",
       "1745            Sonic the Hedgehog      PS3         2,006.00  Platform   \n",
       "4127            Sonic the Hedgehog      PS3              NaN  Platform   \n",
       "659                            NaN      GEN         1,993.00       NaN   \n",
       "14244                          NaN      GEN         1,993.00       NaN   \n",
       "\n",
       "       na_sales  eu_sales  jp_sales  other_sales  critic_score  user_score  \\\n",
       "604        2.11      0.22      0.00         0.23         83.00        5.50   \n",
       "16230      0.00      0.01      0.00         0.00         83.00        5.50   \n",
       "5972       0.02      0.23      0.00         0.04         82.00        8.50   \n",
       "11715      0.00      0.06      0.00         0.02         82.00        8.50   \n",
       "1190       0.62      0.78      0.01         0.15         83.00        8.50   \n",
       "1591       1.00      0.13      0.02         0.10         83.00        8.50   \n",
       "1745       0.41      0.06      0.04         0.66         43.00        4.10   \n",
       "4127       0.00      0.48      0.00         0.00         43.00        4.10   \n",
       "659        1.78      0.53      0.00         0.08           NaN         NaN   \n",
       "14244      0.00      0.00      0.03         0.00           NaN         NaN   \n",
       "\n",
       "      rating  \n",
       "604        E  \n",
       "16230      E  \n",
       "5972       T  \n",
       "11715      T  \n",
       "1190       T  \n",
       "1591       T  \n",
       "1745    E10+  \n",
       "4127    E10+  \n",
       "659      NaN  \n",
       "14244    NaN  "
      ]
     },
     "execution_count": 27,
     "metadata": {},
     "output_type": "execute_result"
    }
   ],
   "source": [
    "df[df[['name', 'platform']].duplicated(keep=False)].sort_values(by=['name', 'platform'])"
   ]
  },
  {
   "cell_type": "markdown",
   "metadata": {},
   "source": [
    "Посмотрим на пропуски по 3 колонки вместе"
   ]
  },
  {
   "cell_type": "code",
   "execution_count": 28,
   "metadata": {},
   "outputs": [
    {
     "name": "stdout",
     "output_type": "stream",
     "text": [
      "Group by 3 columns\n"
     ]
    },
    {
     "data": {
      "text/html": [
       "<style type=\"text/css\">\n",
       "</style>\n",
       "<table id=\"T_fdf04\">\n",
       "  <thead>\n",
       "  </thead>\n",
       "  <tbody>\n",
       "    <tr>\n",
       "      <td id=\"T_fdf04_row0_col0\" class=\"data row0 col0\" >name | platform | genre</td>\n",
       "      <td id=\"T_fdf04_row0_col1\" class=\"data row0 col1\" >5</td>\n",
       "    </tr>\n",
       "  </tbody>\n",
       "</table>\n"
      ],
      "text/plain": [
       "<pandas.io.formats.style.Styler at 0x7d3bff37ac60>"
      ]
     },
     "execution_count": 28,
     "metadata": {},
     "output_type": "execute_result"
    }
   ],
   "source": [
    "next(gen)"
   ]
  },
  {
   "cell_type": "markdown",
   "metadata": {},
   "source": [
    "Посмотрим на дубликаты одновременно в названии игры, жанре и платформе"
   ]
  },
  {
   "cell_type": "code",
   "execution_count": 29,
   "metadata": {},
   "outputs": [
    {
     "name": "stdout",
     "output_type": "stream",
     "text": [
      "Duplicated is 5 (0.0%) rows\n"
     ]
    },
    {
     "data": {
      "text/html": [
       "<div>\n",
       "<style scoped>\n",
       "    .dataframe tbody tr th:only-of-type {\n",
       "        vertical-align: middle;\n",
       "    }\n",
       "\n",
       "    .dataframe tbody tr th {\n",
       "        vertical-align: top;\n",
       "    }\n",
       "\n",
       "    .dataframe thead th {\n",
       "        text-align: right;\n",
       "    }\n",
       "</style>\n",
       "<table border=\"1\" class=\"dataframe\">\n",
       "  <thead>\n",
       "    <tr style=\"text-align: right;\">\n",
       "      <th></th>\n",
       "      <th></th>\n",
       "      <th></th>\n",
       "      <th>count</th>\n",
       "    </tr>\n",
       "    <tr>\n",
       "      <th>name</th>\n",
       "      <th>platform</th>\n",
       "      <th>genre</th>\n",
       "      <th></th>\n",
       "    </tr>\n",
       "  </thead>\n",
       "  <tbody>\n",
       "    <tr>\n",
       "      <th>NaN</th>\n",
       "      <th>GEN</th>\n",
       "      <th>NaN</th>\n",
       "      <td>2</td>\n",
       "    </tr>\n",
       "    <tr>\n",
       "      <th>sonic the hedgehog</th>\n",
       "      <th>PS3</th>\n",
       "      <th>Platform</th>\n",
       "      <td>2</td>\n",
       "    </tr>\n",
       "    <tr>\n",
       "      <th>madden nfl 13</th>\n",
       "      <th>PS3</th>\n",
       "      <th>Sports</th>\n",
       "      <td>2</td>\n",
       "    </tr>\n",
       "    <tr>\n",
       "      <th rowspan=\"2\" valign=\"top\">need for speed: most wanted</th>\n",
       "      <th>PC</th>\n",
       "      <th>Racing</th>\n",
       "      <td>2</td>\n",
       "    </tr>\n",
       "    <tr>\n",
       "      <th>X360</th>\n",
       "      <th>Racing</th>\n",
       "      <td>2</td>\n",
       "    </tr>\n",
       "  </tbody>\n",
       "</table>\n",
       "</div>"
      ],
      "text/plain": [
       "                                               count\n",
       "name                        platform genre          \n",
       "NaN                         GEN      NaN           2\n",
       "sonic the hedgehog          PS3      Platform      2\n",
       "madden nfl 13               PS3      Sports        2\n",
       "need for speed: most wanted PC       Racing        2\n",
       "                            X360     Racing        2"
      ]
     },
     "execution_count": 29,
     "metadata": {},
     "output_type": "execute_result"
    }
   ],
   "source": [
    "pagri_data_tools.check_duplicated(df[['name', 'platform', 'genre']])"
   ]
  },
  {
   "cell_type": "markdown",
   "metadata": {},
   "source": [
    "Посмотрим на строки датафрейма с этими дубликатами"
   ]
  },
  {
   "cell_type": "code",
   "execution_count": 30,
   "metadata": {},
   "outputs": [
    {
     "data": {
      "text/html": [
       "<div>\n",
       "<style scoped>\n",
       "    .dataframe tbody tr th:only-of-type {\n",
       "        vertical-align: middle;\n",
       "    }\n",
       "\n",
       "    .dataframe tbody tr th {\n",
       "        vertical-align: top;\n",
       "    }\n",
       "\n",
       "    .dataframe thead th {\n",
       "        text-align: right;\n",
       "    }\n",
       "</style>\n",
       "<table border=\"1\" class=\"dataframe\">\n",
       "  <thead>\n",
       "    <tr style=\"text-align: right;\">\n",
       "      <th></th>\n",
       "      <th>name</th>\n",
       "      <th>platform</th>\n",
       "      <th>year_of_release</th>\n",
       "      <th>genre</th>\n",
       "      <th>na_sales</th>\n",
       "      <th>eu_sales</th>\n",
       "      <th>jp_sales</th>\n",
       "      <th>other_sales</th>\n",
       "      <th>critic_score</th>\n",
       "      <th>user_score</th>\n",
       "      <th>rating</th>\n",
       "    </tr>\n",
       "  </thead>\n",
       "  <tbody>\n",
       "    <tr>\n",
       "      <th>604</th>\n",
       "      <td>Madden NFL 13</td>\n",
       "      <td>PS3</td>\n",
       "      <td>2,012.00</td>\n",
       "      <td>Sports</td>\n",
       "      <td>2.11</td>\n",
       "      <td>0.22</td>\n",
       "      <td>0.00</td>\n",
       "      <td>0.23</td>\n",
       "      <td>83.00</td>\n",
       "      <td>5.50</td>\n",
       "      <td>E</td>\n",
       "    </tr>\n",
       "    <tr>\n",
       "      <th>16230</th>\n",
       "      <td>Madden NFL 13</td>\n",
       "      <td>PS3</td>\n",
       "      <td>2,012.00</td>\n",
       "      <td>Sports</td>\n",
       "      <td>0.00</td>\n",
       "      <td>0.01</td>\n",
       "      <td>0.00</td>\n",
       "      <td>0.00</td>\n",
       "      <td>83.00</td>\n",
       "      <td>5.50</td>\n",
       "      <td>E</td>\n",
       "    </tr>\n",
       "    <tr>\n",
       "      <th>5972</th>\n",
       "      <td>Need for Speed: Most Wanted</td>\n",
       "      <td>PC</td>\n",
       "      <td>2,005.00</td>\n",
       "      <td>Racing</td>\n",
       "      <td>0.02</td>\n",
       "      <td>0.23</td>\n",
       "      <td>0.00</td>\n",
       "      <td>0.04</td>\n",
       "      <td>82.00</td>\n",
       "      <td>8.50</td>\n",
       "      <td>T</td>\n",
       "    </tr>\n",
       "    <tr>\n",
       "      <th>11715</th>\n",
       "      <td>Need for Speed: Most Wanted</td>\n",
       "      <td>PC</td>\n",
       "      <td>2,012.00</td>\n",
       "      <td>Racing</td>\n",
       "      <td>0.00</td>\n",
       "      <td>0.06</td>\n",
       "      <td>0.00</td>\n",
       "      <td>0.02</td>\n",
       "      <td>82.00</td>\n",
       "      <td>8.50</td>\n",
       "      <td>T</td>\n",
       "    </tr>\n",
       "    <tr>\n",
       "      <th>1190</th>\n",
       "      <td>Need for Speed: Most Wanted</td>\n",
       "      <td>X360</td>\n",
       "      <td>2,012.00</td>\n",
       "      <td>Racing</td>\n",
       "      <td>0.62</td>\n",
       "      <td>0.78</td>\n",
       "      <td>0.01</td>\n",
       "      <td>0.15</td>\n",
       "      <td>83.00</td>\n",
       "      <td>8.50</td>\n",
       "      <td>T</td>\n",
       "    </tr>\n",
       "    <tr>\n",
       "      <th>1591</th>\n",
       "      <td>Need for Speed: Most Wanted</td>\n",
       "      <td>X360</td>\n",
       "      <td>2,005.00</td>\n",
       "      <td>Racing</td>\n",
       "      <td>1.00</td>\n",
       "      <td>0.13</td>\n",
       "      <td>0.02</td>\n",
       "      <td>0.10</td>\n",
       "      <td>83.00</td>\n",
       "      <td>8.50</td>\n",
       "      <td>T</td>\n",
       "    </tr>\n",
       "    <tr>\n",
       "      <th>1745</th>\n",
       "      <td>Sonic the Hedgehog</td>\n",
       "      <td>PS3</td>\n",
       "      <td>2,006.00</td>\n",
       "      <td>Platform</td>\n",
       "      <td>0.41</td>\n",
       "      <td>0.06</td>\n",
       "      <td>0.04</td>\n",
       "      <td>0.66</td>\n",
       "      <td>43.00</td>\n",
       "      <td>4.10</td>\n",
       "      <td>E10+</td>\n",
       "    </tr>\n",
       "    <tr>\n",
       "      <th>4127</th>\n",
       "      <td>Sonic the Hedgehog</td>\n",
       "      <td>PS3</td>\n",
       "      <td>NaN</td>\n",
       "      <td>Platform</td>\n",
       "      <td>0.00</td>\n",
       "      <td>0.48</td>\n",
       "      <td>0.00</td>\n",
       "      <td>0.00</td>\n",
       "      <td>43.00</td>\n",
       "      <td>4.10</td>\n",
       "      <td>E10+</td>\n",
       "    </tr>\n",
       "    <tr>\n",
       "      <th>659</th>\n",
       "      <td>NaN</td>\n",
       "      <td>GEN</td>\n",
       "      <td>1,993.00</td>\n",
       "      <td>NaN</td>\n",
       "      <td>1.78</td>\n",
       "      <td>0.53</td>\n",
       "      <td>0.00</td>\n",
       "      <td>0.08</td>\n",
       "      <td>NaN</td>\n",
       "      <td>NaN</td>\n",
       "      <td>NaN</td>\n",
       "    </tr>\n",
       "    <tr>\n",
       "      <th>14244</th>\n",
       "      <td>NaN</td>\n",
       "      <td>GEN</td>\n",
       "      <td>1,993.00</td>\n",
       "      <td>NaN</td>\n",
       "      <td>0.00</td>\n",
       "      <td>0.00</td>\n",
       "      <td>0.03</td>\n",
       "      <td>0.00</td>\n",
       "      <td>NaN</td>\n",
       "      <td>NaN</td>\n",
       "      <td>NaN</td>\n",
       "    </tr>\n",
       "  </tbody>\n",
       "</table>\n",
       "</div>"
      ],
      "text/plain": [
       "                              name platform  year_of_release     genre  \\\n",
       "604                  Madden NFL 13      PS3         2,012.00    Sports   \n",
       "16230                Madden NFL 13      PS3         2,012.00    Sports   \n",
       "5972   Need for Speed: Most Wanted       PC         2,005.00    Racing   \n",
       "11715  Need for Speed: Most Wanted       PC         2,012.00    Racing   \n",
       "1190   Need for Speed: Most Wanted     X360         2,012.00    Racing   \n",
       "1591   Need for Speed: Most Wanted     X360         2,005.00    Racing   \n",
       "1745            Sonic the Hedgehog      PS3         2,006.00  Platform   \n",
       "4127            Sonic the Hedgehog      PS3              NaN  Platform   \n",
       "659                            NaN      GEN         1,993.00       NaN   \n",
       "14244                          NaN      GEN         1,993.00       NaN   \n",
       "\n",
       "       na_sales  eu_sales  jp_sales  other_sales  critic_score  user_score  \\\n",
       "604        2.11      0.22      0.00         0.23         83.00        5.50   \n",
       "16230      0.00      0.01      0.00         0.00         83.00        5.50   \n",
       "5972       0.02      0.23      0.00         0.04         82.00        8.50   \n",
       "11715      0.00      0.06      0.00         0.02         82.00        8.50   \n",
       "1190       0.62      0.78      0.01         0.15         83.00        8.50   \n",
       "1591       1.00      0.13      0.02         0.10         83.00        8.50   \n",
       "1745       0.41      0.06      0.04         0.66         43.00        4.10   \n",
       "4127       0.00      0.48      0.00         0.00         43.00        4.10   \n",
       "659        1.78      0.53      0.00         0.08           NaN         NaN   \n",
       "14244      0.00      0.00      0.03         0.00           NaN         NaN   \n",
       "\n",
       "      rating  \n",
       "604        E  \n",
       "16230      E  \n",
       "5972       T  \n",
       "11715      T  \n",
       "1190       T  \n",
       "1591       T  \n",
       "1745    E10+  \n",
       "4127    E10+  \n",
       "659      NaN  \n",
       "14244    NaN  "
      ]
     },
     "execution_count": 30,
     "metadata": {},
     "output_type": "execute_result"
    }
   ],
   "source": [
    "df[df[['name', 'platform', 'genre']].duplicated(keep=False)].sort_values(by=['name', 'platform', 'genre'])"
   ]
  },
  {
   "cell_type": "markdown",
   "metadata": {},
   "source": [
    "**Наблюдения:**  \n",
    "\n",
    "- У игры Madden NFL 13 все параметры совпадают в дублях, кроме количества проданных копий.  \n",
    "Возможно часть проданных копий учлась отдельно. \n",
    "- В игре Need for Speed: Most Wanted у дублей разные года выпуска, поэтому это не дубли."
   ]
  },
  {
   "cell_type": "markdown",
   "metadata": {},
   "source": [
    "#### Изучение пропусков\n"
   ]
  },
  {
   "cell_type": "markdown",
   "metadata": {},
   "source": [
    "Изучим пропуски в каждом столбце."
   ]
  },
  {
   "cell_type": "code",
   "execution_count": 31,
   "metadata": {},
   "outputs": [
    {
     "data": {
      "text/html": [
       "<style type=\"text/css\">\n",
       "#T_28cf6 caption {\n",
       "  font-size: 18px;\n",
       "  text-align: left;\n",
       "  font-weight: bold;\n",
       "}\n",
       "</style>\n",
       "<table id=\"T_28cf6\">\n",
       "  <caption>Missings</caption>\n",
       "  <thead>\n",
       "  </thead>\n",
       "  <tbody>\n",
       "    <tr>\n",
       "      <th id=\"T_28cf6_level0_row0\" class=\"row_heading level0 row0\" >name</th>\n",
       "      <td id=\"T_28cf6_row0_col0\" class=\"data row0 col0\" >2 (0.01%)</td>\n",
       "    </tr>\n",
       "    <tr>\n",
       "      <th id=\"T_28cf6_level0_row1\" class=\"row_heading level0 row1\" >year_of_release</th>\n",
       "      <td id=\"T_28cf6_row1_col0\" class=\"data row1 col0\" >269 (1.61%)</td>\n",
       "    </tr>\n",
       "    <tr>\n",
       "      <th id=\"T_28cf6_level0_row2\" class=\"row_heading level0 row2\" >genre</th>\n",
       "      <td id=\"T_28cf6_row2_col0\" class=\"data row2 col0\" >2 (0.01%)</td>\n",
       "    </tr>\n",
       "    <tr>\n",
       "      <th id=\"T_28cf6_level0_row3\" class=\"row_heading level0 row3\" >critic_score</th>\n",
       "      <td id=\"T_28cf6_row3_col0\" class=\"data row3 col0\" >8578 (51.32%)</td>\n",
       "    </tr>\n",
       "    <tr>\n",
       "      <th id=\"T_28cf6_level0_row4\" class=\"row_heading level0 row4\" >user_score</th>\n",
       "      <td id=\"T_28cf6_row4_col0\" class=\"data row4 col0\" >9125 (54.59%)</td>\n",
       "    </tr>\n",
       "    <tr>\n",
       "      <th id=\"T_28cf6_level0_row5\" class=\"row_heading level0 row5\" >rating</th>\n",
       "      <td id=\"T_28cf6_row5_col0\" class=\"data row5 col0\" >6766 (40.48%)</td>\n",
       "    </tr>\n",
       "  </tbody>\n",
       "</table>\n"
      ],
      "text/plain": [
       "<pandas.io.formats.style.Styler at 0x7d3bfe5852b0>"
      ]
     },
     "metadata": {},
     "output_type": "display_data"
    }
   ],
   "source": [
    "series_missed = pagri_data_tools.find_columns_with_missing_values(df)"
   ]
  },
  {
   "cell_type": "markdown",
   "metadata": {},
   "source": [
    "Посмотрим на строки с пропусками в названии игры и в жанре."
   ]
  },
  {
   "cell_type": "code",
   "execution_count": 32,
   "metadata": {},
   "outputs": [
    {
     "data": {
      "text/html": [
       "<div>\n",
       "<style scoped>\n",
       "    .dataframe tbody tr th:only-of-type {\n",
       "        vertical-align: middle;\n",
       "    }\n",
       "\n",
       "    .dataframe tbody tr th {\n",
       "        vertical-align: top;\n",
       "    }\n",
       "\n",
       "    .dataframe thead th {\n",
       "        text-align: right;\n",
       "    }\n",
       "</style>\n",
       "<table border=\"1\" class=\"dataframe\">\n",
       "  <thead>\n",
       "    <tr style=\"text-align: right;\">\n",
       "      <th></th>\n",
       "      <th>name</th>\n",
       "      <th>platform</th>\n",
       "      <th>year_of_release</th>\n",
       "      <th>genre</th>\n",
       "      <th>na_sales</th>\n",
       "      <th>eu_sales</th>\n",
       "      <th>jp_sales</th>\n",
       "      <th>other_sales</th>\n",
       "      <th>critic_score</th>\n",
       "      <th>user_score</th>\n",
       "      <th>rating</th>\n",
       "    </tr>\n",
       "  </thead>\n",
       "  <tbody>\n",
       "    <tr>\n",
       "      <th>659</th>\n",
       "      <td>NaN</td>\n",
       "      <td>GEN</td>\n",
       "      <td>1,993.00</td>\n",
       "      <td>NaN</td>\n",
       "      <td>1.78</td>\n",
       "      <td>0.53</td>\n",
       "      <td>0.00</td>\n",
       "      <td>0.08</td>\n",
       "      <td>NaN</td>\n",
       "      <td>NaN</td>\n",
       "      <td>NaN</td>\n",
       "    </tr>\n",
       "    <tr>\n",
       "      <th>14244</th>\n",
       "      <td>NaN</td>\n",
       "      <td>GEN</td>\n",
       "      <td>1,993.00</td>\n",
       "      <td>NaN</td>\n",
       "      <td>0.00</td>\n",
       "      <td>0.00</td>\n",
       "      <td>0.03</td>\n",
       "      <td>0.00</td>\n",
       "      <td>NaN</td>\n",
       "      <td>NaN</td>\n",
       "      <td>NaN</td>\n",
       "    </tr>\n",
       "  </tbody>\n",
       "</table>\n",
       "</div>"
      ],
      "text/plain": [
       "      name platform  year_of_release genre  na_sales  eu_sales  jp_sales  \\\n",
       "659    NaN      GEN         1,993.00   NaN      1.78      0.53      0.00   \n",
       "14244  NaN      GEN         1,993.00   NaN      0.00      0.00      0.03   \n",
       "\n",
       "       other_sales  critic_score  user_score rating  \n",
       "659           0.08           NaN         NaN    NaN  \n",
       "14244         0.00           NaN         NaN    NaN  "
      ]
     },
     "execution_count": 32,
     "metadata": {},
     "output_type": "execute_result"
    }
   ],
   "source": [
    "df[df['name'].isna() | df['genre'].isna()]"
   ]
  },
  {
   "cell_type": "markdown",
   "metadata": {},
   "source": [
    "**Наблюдения:**  \n",
    "\n",
    "- Пропуски в одних и тех же строках в названии игры и в жанре."
   ]
  },
  {
   "cell_type": "markdown",
   "metadata": {},
   "source": [
    "У нас примерно  одинаковое количество пропусков в оценке критиков и в оценке пользователей.  \n",
    "Проверим гипотезу, что проуски в одних и  тех же строках."
   ]
  },
  {
   "cell_type": "code",
   "execution_count": 33,
   "metadata": {},
   "outputs": [],
   "source": [
    "gen = pagri_data_tools.check_na_combinations_gen(df[['critic_score', 'user_score', 'rating']], n=3)"
   ]
  },
  {
   "cell_type": "code",
   "execution_count": 34,
   "metadata": {},
   "outputs": [
    {
     "data": {
      "text/html": [
       "<style type=\"text/css\">\n",
       "#T_70684 caption {\n",
       "  font-size: 18px;\n",
       "  text-align: left;\n",
       "  font-weight: bold;\n",
       "}\n",
       "</style>\n",
       "<table id=\"T_70684\">\n",
       "  <caption>Missings in both columns</caption>\n",
       "  <thead>\n",
       "    <tr>\n",
       "      <th class=\"blank level0\" >&nbsp;</th>\n",
       "      <th id=\"T_70684_level0_col0\" class=\"col_heading level0 col0\" >critic_score</th>\n",
       "      <th id=\"T_70684_level0_col1\" class=\"col_heading level0 col1\" >user_score</th>\n",
       "      <th id=\"T_70684_level0_col2\" class=\"col_heading level0 col2\" >rating</th>\n",
       "    </tr>\n",
       "  </thead>\n",
       "  <tbody>\n",
       "    <tr>\n",
       "      <th id=\"T_70684_level0_row0\" class=\"row_heading level0 row0\" >critic_score</th>\n",
       "      <td id=\"T_70684_row0_col0\" class=\"data row0 col0\" ></td>\n",
       "      <td id=\"T_70684_row0_col1\" class=\"data row0 col1\" ></td>\n",
       "      <td id=\"T_70684_row0_col2\" class=\"data row0 col2\" ></td>\n",
       "    </tr>\n",
       "    <tr>\n",
       "      <th id=\"T_70684_level0_row1\" class=\"row_heading level0 row1\" >user_score</th>\n",
       "      <td id=\"T_70684_row1_col0\" class=\"data row1 col0\" >< 87.7% / ^ 93.3%</td>\n",
       "      <td id=\"T_70684_row1_col1\" class=\"data row1 col1\" ></td>\n",
       "      <td id=\"T_70684_row1_col2\" class=\"data row1 col2\" ></td>\n",
       "    </tr>\n",
       "    <tr>\n",
       "      <th id=\"T_70684_level0_row2\" class=\"row_heading level0 row2\" >rating</th>\n",
       "      <td id=\"T_70684_row2_col0\" class=\"data row2 col0\" >< 98.8% / ^ 77.9%</td>\n",
       "      <td id=\"T_70684_row2_col1\" class=\"data row2 col1\" >< 98.7% / ^ 73.2%</td>\n",
       "      <td id=\"T_70684_row2_col2\" class=\"data row2 col2\" ></td>\n",
       "    </tr>\n",
       "  </tbody>\n",
       "</table>\n"
      ],
      "text/plain": [
       "<pandas.io.formats.style.Styler at 0x7d3bfe724e00>"
      ]
     },
     "metadata": {},
     "output_type": "display_data"
    }
   ],
   "source": [
    "next(gen)"
   ]
  },
  {
   "cell_type": "markdown",
   "metadata": {},
   "source": [
    "**Наблюдения:**  \n",
    "\n",
    "- Большинство пропусков в столбцах оценка пользователей и оценка критиков находятся в одних и тех же строках.\n",
    "- Большинство пропусков в столбцах рейтинг и оценка критиков находятся в одних и тех же строках.\n",
    "- Большинство пропусков в столбцах рейтинг и оценка пользователей находятся в одних и тех же строках."
   ]
  },
  {
   "cell_type": "code",
   "execution_count": 35,
   "metadata": {},
   "outputs": [
    {
     "data": {
      "text/html": [
       "<style type=\"text/css\">\n",
       "#T_695c8 caption {\n",
       "  font-size: 18px;\n",
       "  text-align: left;\n",
       "  font-weight: bold;\n",
       "}\n",
       "</style>\n",
       "<table id=\"T_695c8\">\n",
       "  <caption>Missings simultaneously in 3 columns</caption>\n",
       "  <thead>\n",
       "  </thead>\n",
       "  <tbody>\n",
       "    <tr>\n",
       "      <td id=\"T_695c8_row0_col0\" class=\"data row0 col0\" >critic_score | user_score | rating</td>\n",
       "      <td id=\"T_695c8_row0_col1\" class=\"data row0 col1\" >6 667 (39.9% of all)</td>\n",
       "    </tr>\n",
       "  </tbody>\n",
       "</table>\n"
      ],
      "text/plain": [
       "<pandas.io.formats.style.Styler at 0x7d3bfe586060>"
      ]
     },
     "execution_count": 35,
     "metadata": {},
     "output_type": "execute_result"
    }
   ],
   "source": [
    "next(gen)"
   ]
  },
  {
   "cell_type": "markdown",
   "metadata": {},
   "source": [
    "**Наблюдения:**  \n",
    "\n",
    "- Почти все пропуски в рейтинге находятся в тех же строках, что и пропуски в оценке критиков и оценке пользователей."
   ]
  },
  {
   "cell_type": "markdown",
   "metadata": {},
   "source": [
    "Посмотрим на строки датафрейма с пропусками в одних и тех же строках"
   ]
  },
  {
   "cell_type": "code",
   "execution_count": 36,
   "metadata": {},
   "outputs": [
    {
     "name": "stdout",
     "output_type": "stream",
     "text": [
      "8005 (47.89% of all)(93.32% of critic_score) (87.73% of user_score) rows with missings simultaneously in ['critic_score', 'user_score']\n"
     ]
    },
    {
     "data": {
      "text/html": [
       "<div>\n",
       "<style scoped>\n",
       "    .dataframe tbody tr th:only-of-type {\n",
       "        vertical-align: middle;\n",
       "    }\n",
       "\n",
       "    .dataframe tbody tr th {\n",
       "        vertical-align: top;\n",
       "    }\n",
       "\n",
       "    .dataframe thead th {\n",
       "        text-align: right;\n",
       "    }\n",
       "</style>\n",
       "<table border=\"1\" class=\"dataframe\">\n",
       "  <thead>\n",
       "    <tr style=\"text-align: right;\">\n",
       "      <th></th>\n",
       "      <th>name</th>\n",
       "      <th>platform</th>\n",
       "      <th>year_of_release</th>\n",
       "      <th>genre</th>\n",
       "      <th>na_sales</th>\n",
       "      <th>eu_sales</th>\n",
       "      <th>jp_sales</th>\n",
       "      <th>other_sales</th>\n",
       "      <th>critic_score</th>\n",
       "      <th>user_score</th>\n",
       "      <th>rating</th>\n",
       "    </tr>\n",
       "  </thead>\n",
       "  <tbody>\n",
       "    <tr>\n",
       "      <th>12556</th>\n",
       "      <td>Top Gear Hyper-Bike</td>\n",
       "      <td>N64</td>\n",
       "      <td>1,999.00</td>\n",
       "      <td>Racing</td>\n",
       "      <td>0.05</td>\n",
       "      <td>0.01</td>\n",
       "      <td>0.00</td>\n",
       "      <td>0.00</td>\n",
       "      <td>NaN</td>\n",
       "      <td>NaN</td>\n",
       "      <td>NaN</td>\n",
       "    </tr>\n",
       "    <tr>\n",
       "      <th>13591</th>\n",
       "      <td>White Album 2: Shiawase no Mukougawa</td>\n",
       "      <td>PS3</td>\n",
       "      <td>2,012.00</td>\n",
       "      <td>Adventure</td>\n",
       "      <td>0.00</td>\n",
       "      <td>0.00</td>\n",
       "      <td>0.04</td>\n",
       "      <td>0.00</td>\n",
       "      <td>NaN</td>\n",
       "      <td>NaN</td>\n",
       "      <td>NaN</td>\n",
       "    </tr>\n",
       "    <tr>\n",
       "      <th>15278</th>\n",
       "      <td>PachiPara 15: Super Umi Monogatari in Okinawa 2</td>\n",
       "      <td>PS3</td>\n",
       "      <td>2,010.00</td>\n",
       "      <td>Misc</td>\n",
       "      <td>0.00</td>\n",
       "      <td>0.00</td>\n",
       "      <td>0.02</td>\n",
       "      <td>0.00</td>\n",
       "      <td>NaN</td>\n",
       "      <td>NaN</td>\n",
       "      <td>NaN</td>\n",
       "    </tr>\n",
       "    <tr>\n",
       "      <th>10868</th>\n",
       "      <td>Super Robot Wars OG: The Moon Dwellers</td>\n",
       "      <td>PS4</td>\n",
       "      <td>2,016.00</td>\n",
       "      <td>Misc</td>\n",
       "      <td>0.00</td>\n",
       "      <td>0.00</td>\n",
       "      <td>0.09</td>\n",
       "      <td>0.00</td>\n",
       "      <td>NaN</td>\n",
       "      <td>NaN</td>\n",
       "      <td>NaN</td>\n",
       "    </tr>\n",
       "    <tr>\n",
       "      <th>6871</th>\n",
       "      <td>FIFA 14</td>\n",
       "      <td>3DS</td>\n",
       "      <td>2,013.00</td>\n",
       "      <td>Sports</td>\n",
       "      <td>0.00</td>\n",
       "      <td>0.22</td>\n",
       "      <td>0.00</td>\n",
       "      <td>0.01</td>\n",
       "      <td>NaN</td>\n",
       "      <td>NaN</td>\n",
       "      <td>NaN</td>\n",
       "    </tr>\n",
       "    <tr>\n",
       "      <th>10972</th>\n",
       "      <td>Hyperdimension Idol Neptunia PP</td>\n",
       "      <td>PSV</td>\n",
       "      <td>2,013.00</td>\n",
       "      <td>Misc</td>\n",
       "      <td>0.02</td>\n",
       "      <td>0.02</td>\n",
       "      <td>0.04</td>\n",
       "      <td>0.01</td>\n",
       "      <td>NaN</td>\n",
       "      <td>NaN</td>\n",
       "      <td>NaN</td>\n",
       "    </tr>\n",
       "    <tr>\n",
       "      <th>14291</th>\n",
       "      <td>Prey</td>\n",
       "      <td>PC</td>\n",
       "      <td>2,006.00</td>\n",
       "      <td>Shooter</td>\n",
       "      <td>0.00</td>\n",
       "      <td>0.03</td>\n",
       "      <td>0.00</td>\n",
       "      <td>0.01</td>\n",
       "      <td>NaN</td>\n",
       "      <td>NaN</td>\n",
       "      <td>NaN</td>\n",
       "    </tr>\n",
       "    <tr>\n",
       "      <th>923</th>\n",
       "      <td>WCW Nitro</td>\n",
       "      <td>PS</td>\n",
       "      <td>1,998.00</td>\n",
       "      <td>Fighting</td>\n",
       "      <td>1.42</td>\n",
       "      <td>0.36</td>\n",
       "      <td>0.03</td>\n",
       "      <td>0.07</td>\n",
       "      <td>NaN</td>\n",
       "      <td>NaN</td>\n",
       "      <td>NaN</td>\n",
       "    </tr>\n",
       "    <tr>\n",
       "      <th>14033</th>\n",
       "      <td>Hisshou Pachinko*Pachi-Slot Kouryaku Series Vo...</td>\n",
       "      <td>PS2</td>\n",
       "      <td>2,008.00</td>\n",
       "      <td>Misc</td>\n",
       "      <td>0.00</td>\n",
       "      <td>0.00</td>\n",
       "      <td>0.04</td>\n",
       "      <td>0.00</td>\n",
       "      <td>NaN</td>\n",
       "      <td>NaN</td>\n",
       "      <td>NaN</td>\n",
       "    </tr>\n",
       "    <tr>\n",
       "      <th>10118</th>\n",
       "      <td>Transformer: Rise of the Dark Spark</td>\n",
       "      <td>XOne</td>\n",
       "      <td>2,014.00</td>\n",
       "      <td>Action</td>\n",
       "      <td>0.07</td>\n",
       "      <td>0.03</td>\n",
       "      <td>0.00</td>\n",
       "      <td>0.01</td>\n",
       "      <td>NaN</td>\n",
       "      <td>NaN</td>\n",
       "      <td>NaN</td>\n",
       "    </tr>\n",
       "  </tbody>\n",
       "</table>\n",
       "</div>"
      ],
      "text/plain": [
       "                                                    name platform  \\\n",
       "12556                                Top Gear Hyper-Bike      N64   \n",
       "13591               White Album 2: Shiawase no Mukougawa      PS3   \n",
       "15278    PachiPara 15: Super Umi Monogatari in Okinawa 2      PS3   \n",
       "10868             Super Robot Wars OG: The Moon Dwellers      PS4   \n",
       "6871                                             FIFA 14      3DS   \n",
       "10972                    Hyperdimension Idol Neptunia PP      PSV   \n",
       "14291                                               Prey       PC   \n",
       "923                                            WCW Nitro       PS   \n",
       "14033  Hisshou Pachinko*Pachi-Slot Kouryaku Series Vo...      PS2   \n",
       "10118                Transformer: Rise of the Dark Spark     XOne   \n",
       "\n",
       "       year_of_release      genre  na_sales  eu_sales  jp_sales  other_sales  \\\n",
       "12556         1,999.00     Racing      0.05      0.01      0.00         0.00   \n",
       "13591         2,012.00  Adventure      0.00      0.00      0.04         0.00   \n",
       "15278         2,010.00       Misc      0.00      0.00      0.02         0.00   \n",
       "10868         2,016.00       Misc      0.00      0.00      0.09         0.00   \n",
       "6871          2,013.00     Sports      0.00      0.22      0.00         0.01   \n",
       "10972         2,013.00       Misc      0.02      0.02      0.04         0.01   \n",
       "14291         2,006.00    Shooter      0.00      0.03      0.00         0.01   \n",
       "923           1,998.00   Fighting      1.42      0.36      0.03         0.07   \n",
       "14033         2,008.00       Misc      0.00      0.00      0.04         0.00   \n",
       "10118         2,014.00     Action      0.07      0.03      0.00         0.01   \n",
       "\n",
       "       critic_score  user_score rating  \n",
       "12556           NaN         NaN    NaN  \n",
       "13591           NaN         NaN    NaN  \n",
       "15278           NaN         NaN    NaN  \n",
       "10868           NaN         NaN    NaN  \n",
       "6871            NaN         NaN    NaN  \n",
       "10972           NaN         NaN    NaN  \n",
       "14291           NaN         NaN    NaN  \n",
       "923             NaN         NaN    NaN  \n",
       "14033           NaN         NaN    NaN  \n",
       "10118           NaN         NaN    NaN  "
      ]
     },
     "execution_count": 36,
     "metadata": {},
     "output_type": "execute_result"
    }
   ],
   "source": [
    "df_na_in_both_columns = pagri_data_tools.check_na_in_both_columns(df, ['critic_score', 'user_score'])\n",
    "df_na_in_both_columns.sample(10)"
   ]
  },
  {
   "cell_type": "markdown",
   "metadata": {},
   "source": [
    "Добавим ещё столбце с рейтингом и посмотрим сколько пропусков во всех трех столбцах.  "
   ]
  },
  {
   "cell_type": "code",
   "execution_count": 37,
   "metadata": {},
   "outputs": [
    {
     "name": "stdout",
     "output_type": "stream",
     "text": [
      "6667 (39.89% of all)(77.72% of critic_score) (73.06% of user_score) (98.54% of rating) rows with missings simultaneously in ['critic_score', 'user_score', 'rating']\n"
     ]
    },
    {
     "data": {
      "text/html": [
       "<div>\n",
       "<style scoped>\n",
       "    .dataframe tbody tr th:only-of-type {\n",
       "        vertical-align: middle;\n",
       "    }\n",
       "\n",
       "    .dataframe tbody tr th {\n",
       "        vertical-align: top;\n",
       "    }\n",
       "\n",
       "    .dataframe thead th {\n",
       "        text-align: right;\n",
       "    }\n",
       "</style>\n",
       "<table border=\"1\" class=\"dataframe\">\n",
       "  <thead>\n",
       "    <tr style=\"text-align: right;\">\n",
       "      <th></th>\n",
       "      <th>name</th>\n",
       "      <th>platform</th>\n",
       "      <th>year_of_release</th>\n",
       "      <th>genre</th>\n",
       "      <th>na_sales</th>\n",
       "      <th>eu_sales</th>\n",
       "      <th>jp_sales</th>\n",
       "      <th>other_sales</th>\n",
       "      <th>critic_score</th>\n",
       "      <th>user_score</th>\n",
       "      <th>rating</th>\n",
       "    </tr>\n",
       "  </thead>\n",
       "  <tbody>\n",
       "    <tr>\n",
       "      <th>10701</th>\n",
       "      <td>Start the Party! Save the World</td>\n",
       "      <td>PS3</td>\n",
       "      <td>2,011.00</td>\n",
       "      <td>Misc</td>\n",
       "      <td>0.00</td>\n",
       "      <td>0.08</td>\n",
       "      <td>0.00</td>\n",
       "      <td>0.02</td>\n",
       "      <td>NaN</td>\n",
       "      <td>NaN</td>\n",
       "      <td>NaN</td>\n",
       "    </tr>\n",
       "    <tr>\n",
       "      <th>12268</th>\n",
       "      <td>Pro Yaky? Spirits 4</td>\n",
       "      <td>PS3</td>\n",
       "      <td>2,007.00</td>\n",
       "      <td>Sports</td>\n",
       "      <td>0.00</td>\n",
       "      <td>0.00</td>\n",
       "      <td>0.07</td>\n",
       "      <td>0.00</td>\n",
       "      <td>NaN</td>\n",
       "      <td>NaN</td>\n",
       "      <td>NaN</td>\n",
       "    </tr>\n",
       "    <tr>\n",
       "      <th>8335</th>\n",
       "      <td>Fate/Stay Night [Réalta Nua]</td>\n",
       "      <td>PS2</td>\n",
       "      <td>2,007.00</td>\n",
       "      <td>Adventure</td>\n",
       "      <td>0.00</td>\n",
       "      <td>0.00</td>\n",
       "      <td>0.17</td>\n",
       "      <td>0.00</td>\n",
       "      <td>NaN</td>\n",
       "      <td>NaN</td>\n",
       "      <td>NaN</td>\n",
       "    </tr>\n",
       "    <tr>\n",
       "      <th>16278</th>\n",
       "      <td>Princess Arthur</td>\n",
       "      <td>PSP</td>\n",
       "      <td>2,013.00</td>\n",
       "      <td>Misc</td>\n",
       "      <td>0.00</td>\n",
       "      <td>0.00</td>\n",
       "      <td>0.01</td>\n",
       "      <td>0.00</td>\n",
       "      <td>NaN</td>\n",
       "      <td>NaN</td>\n",
       "      <td>NaN</td>\n",
       "    </tr>\n",
       "    <tr>\n",
       "      <th>5874</th>\n",
       "      <td>Harvest Moon: The Tale of Two Towns</td>\n",
       "      <td>3DS</td>\n",
       "      <td>NaN</td>\n",
       "      <td>Simulation</td>\n",
       "      <td>0.28</td>\n",
       "      <td>0.00</td>\n",
       "      <td>0.00</td>\n",
       "      <td>0.02</td>\n",
       "      <td>NaN</td>\n",
       "      <td>NaN</td>\n",
       "      <td>NaN</td>\n",
       "    </tr>\n",
       "    <tr>\n",
       "      <th>12093</th>\n",
       "      <td>Fairy Tail: Zelef Kakusei</td>\n",
       "      <td>PSP</td>\n",
       "      <td>2,012.00</td>\n",
       "      <td>Action</td>\n",
       "      <td>0.00</td>\n",
       "      <td>0.00</td>\n",
       "      <td>0.07</td>\n",
       "      <td>0.00</td>\n",
       "      <td>NaN</td>\n",
       "      <td>NaN</td>\n",
       "      <td>NaN</td>\n",
       "    </tr>\n",
       "    <tr>\n",
       "      <th>12876</th>\n",
       "      <td>NHL Powerplay 98</td>\n",
       "      <td>PS</td>\n",
       "      <td>1,997.00</td>\n",
       "      <td>Sports</td>\n",
       "      <td>0.03</td>\n",
       "      <td>0.02</td>\n",
       "      <td>0.00</td>\n",
       "      <td>0.00</td>\n",
       "      <td>NaN</td>\n",
       "      <td>NaN</td>\n",
       "      <td>NaN</td>\n",
       "    </tr>\n",
       "    <tr>\n",
       "      <th>12560</th>\n",
       "      <td>Polaris SnoCross</td>\n",
       "      <td>N64</td>\n",
       "      <td>2,000.00</td>\n",
       "      <td>Racing</td>\n",
       "      <td>0.05</td>\n",
       "      <td>0.01</td>\n",
       "      <td>0.00</td>\n",
       "      <td>0.00</td>\n",
       "      <td>NaN</td>\n",
       "      <td>NaN</td>\n",
       "      <td>NaN</td>\n",
       "    </tr>\n",
       "    <tr>\n",
       "      <th>15678</th>\n",
       "      <td>Moshi, Kono Sekai ni Kami-sama ga Iru to suru ...</td>\n",
       "      <td>PSV</td>\n",
       "      <td>2,016.00</td>\n",
       "      <td>Adventure</td>\n",
       "      <td>0.00</td>\n",
       "      <td>0.00</td>\n",
       "      <td>0.02</td>\n",
       "      <td>0.00</td>\n",
       "      <td>NaN</td>\n",
       "      <td>NaN</td>\n",
       "      <td>NaN</td>\n",
       "    </tr>\n",
       "    <tr>\n",
       "      <th>857</th>\n",
       "      <td>Tennis</td>\n",
       "      <td>GB</td>\n",
       "      <td>1,989.00</td>\n",
       "      <td>Sports</td>\n",
       "      <td>0.75</td>\n",
       "      <td>0.30</td>\n",
       "      <td>0.90</td>\n",
       "      <td>0.04</td>\n",
       "      <td>NaN</td>\n",
       "      <td>NaN</td>\n",
       "      <td>NaN</td>\n",
       "    </tr>\n",
       "  </tbody>\n",
       "</table>\n",
       "</div>"
      ],
      "text/plain": [
       "                                                    name platform  \\\n",
       "10701                    Start the Party! Save the World      PS3   \n",
       "12268                                Pro Yaky? Spirits 4      PS3   \n",
       "8335                        Fate/Stay Night [Réalta Nua]      PS2   \n",
       "16278                                    Princess Arthur      PSP   \n",
       "5874                 Harvest Moon: The Tale of Two Towns      3DS   \n",
       "12093                          Fairy Tail: Zelef Kakusei      PSP   \n",
       "12876                                   NHL Powerplay 98       PS   \n",
       "12560                                   Polaris SnoCross      N64   \n",
       "15678  Moshi, Kono Sekai ni Kami-sama ga Iru to suru ...      PSV   \n",
       "857                                               Tennis       GB   \n",
       "\n",
       "       year_of_release       genre  na_sales  eu_sales  jp_sales  other_sales  \\\n",
       "10701         2,011.00        Misc      0.00      0.08      0.00         0.02   \n",
       "12268         2,007.00      Sports      0.00      0.00      0.07         0.00   \n",
       "8335          2,007.00   Adventure      0.00      0.00      0.17         0.00   \n",
       "16278         2,013.00        Misc      0.00      0.00      0.01         0.00   \n",
       "5874               NaN  Simulation      0.28      0.00      0.00         0.02   \n",
       "12093         2,012.00      Action      0.00      0.00      0.07         0.00   \n",
       "12876         1,997.00      Sports      0.03      0.02      0.00         0.00   \n",
       "12560         2,000.00      Racing      0.05      0.01      0.00         0.00   \n",
       "15678         2,016.00   Adventure      0.00      0.00      0.02         0.00   \n",
       "857           1,989.00      Sports      0.75      0.30      0.90         0.04   \n",
       "\n",
       "       critic_score  user_score rating  \n",
       "10701           NaN         NaN    NaN  \n",
       "12268           NaN         NaN    NaN  \n",
       "8335            NaN         NaN    NaN  \n",
       "16278           NaN         NaN    NaN  \n",
       "5874            NaN         NaN    NaN  \n",
       "12093           NaN         NaN    NaN  \n",
       "12876           NaN         NaN    NaN  \n",
       "12560           NaN         NaN    NaN  \n",
       "15678           NaN         NaN    NaN  \n",
       "857             NaN         NaN    NaN  "
      ]
     },
     "execution_count": 37,
     "metadata": {},
     "output_type": "execute_result"
    }
   ],
   "source": [
    "df_na_in_both_columns = pagri_data_tools.check_na_in_both_columns(df, ['critic_score', 'user_score', 'rating'])\n",
    "df_na_in_both_columns.sample(10)"
   ]
  },
  {
   "cell_type": "markdown",
   "metadata": {},
   "source": [
    "#### Изучение выбросов\n"
   ]
  },
  {
   "cell_type": "markdown",
   "metadata": {},
   "source": [
    "Посмотрим на выбросы используя квантили.    \n",
    "Выбросами будем считать значения, которые выходят за пределы 5 и 95 квантилей."
   ]
  },
  {
   "cell_type": "code",
   "execution_count": 38,
   "metadata": {},
   "outputs": [
    {
     "data": {
      "text/html": [
       "<style type=\"text/css\">\n",
       "#T_94636 caption {\n",
       "  font-size: 18px;\n",
       "  text-align: left;\n",
       "  font-weight: bold;\n",
       "}\n",
       "</style>\n",
       "<table id=\"T_94636\">\n",
       "  <caption>Outliers</caption>\n",
       "  <thead>\n",
       "  </thead>\n",
       "  <tbody>\n",
       "    <tr>\n",
       "      <th id=\"T_94636_level0_row0\" class=\"row_heading level0 row0\" >year_of_release</th>\n",
       "      <td id=\"T_94636_row0_col0\" class=\"data row0 col0\" >1209 (7.23%)</td>\n",
       "    </tr>\n",
       "    <tr>\n",
       "      <th id=\"T_94636_level0_row1\" class=\"row_heading level0 row1\" >na_sales</th>\n",
       "      <td id=\"T_94636_row1_col0\" class=\"data row1 col0\" >829 (4.96%)</td>\n",
       "    </tr>\n",
       "    <tr>\n",
       "      <th id=\"T_94636_level0_row2\" class=\"row_heading level0 row2\" >eu_sales</th>\n",
       "      <td id=\"T_94636_row2_col0\" class=\"data row2 col0\" >829 (4.96%)</td>\n",
       "    </tr>\n",
       "    <tr>\n",
       "      <th id=\"T_94636_level0_row3\" class=\"row_heading level0 row3\" >jp_sales</th>\n",
       "      <td id=\"T_94636_row3_col0\" class=\"data row3 col0\" >822 (4.92%)</td>\n",
       "    </tr>\n",
       "    <tr>\n",
       "      <th id=\"T_94636_level0_row4\" class=\"row_heading level0 row4\" >other_sales</th>\n",
       "      <td id=\"T_94636_row4_col0\" class=\"data row4 col0\" >787 (4.71%)</td>\n",
       "    </tr>\n",
       "    <tr>\n",
       "      <th id=\"T_94636_level0_row5\" class=\"row_heading level0 row5\" >critic_score</th>\n",
       "      <td id=\"T_94636_row5_col0\" class=\"data row5 col0\" >709 (4.24%)</td>\n",
       "    </tr>\n",
       "    <tr>\n",
       "      <th id=\"T_94636_level0_row6\" class=\"row_heading level0 row6\" >user_score</th>\n",
       "      <td id=\"T_94636_row6_col0\" class=\"data row6 col0\" >677 (4.05%)</td>\n",
       "    </tr>\n",
       "  </tbody>\n",
       "</table>\n"
      ],
      "text/plain": [
       "<pandas.io.formats.style.Styler at 0x7d3bfe586ae0>"
      ]
     },
     "metadata": {},
     "output_type": "display_data"
    }
   ],
   "source": [
    "series_outliers = pagri_data_tools.detect_outliers_quantile(df)"
   ]
  },
  {
   "cell_type": "markdown",
   "metadata": {},
   "source": [
    "**Наблюдения:**  \n",
    "\n",
    "- Процент выбросов во всех колонках, кроме года выпуска, находится в диапазоне 0-5%. Это может указывать на то, что данные достаточно чистые и не содержат значительных аномалий.\n",
    "- Процент выбросов во всех колонках примерно одинаковый, что может свидетельствовать об однородности данных."
   ]
  },
  {
   "cell_type": "markdown",
   "metadata": {},
   "source": [
    "#### Изучение отрицательных значений\n"
   ]
  },
  {
   "cell_type": "markdown",
   "metadata": {},
   "source": [
    "Посмотрим есть ли у нас отрицательные значения."
   ]
  },
  {
   "cell_type": "code",
   "execution_count": 39,
   "metadata": {},
   "outputs": [
    {
     "name": "stdout",
     "output_type": "stream",
     "text": [
      "There are no negative values\n"
     ]
    }
   ],
   "source": [
    "series_negative = pagri_data_tools.find_columns_with_negative_values(df)"
   ]
  },
  {
   "cell_type": "markdown",
   "metadata": {},
   "source": [
    "Отлично. Отрицательных значений нет."
   ]
  },
  {
   "cell_type": "markdown",
   "metadata": {},
   "source": [
    "#### Изучение нулевых значений\n"
   ]
  },
  {
   "cell_type": "markdown",
   "metadata": {},
   "source": [
    "Изучим нулевые значения в каждом столбце."
   ]
  },
  {
   "cell_type": "code",
   "execution_count": 40,
   "metadata": {},
   "outputs": [
    {
     "data": {
      "text/html": [
       "<style type=\"text/css\">\n",
       "#T_a8263 caption {\n",
       "  font-size: 18px;\n",
       "  text-align: left;\n",
       "  font-weight: bold;\n",
       "}\n",
       "</style>\n",
       "<table id=\"T_a8263\">\n",
       "  <caption>Zeros</caption>\n",
       "  <thead>\n",
       "  </thead>\n",
       "  <tbody>\n",
       "    <tr>\n",
       "      <th id=\"T_a8263_level0_row0\" class=\"row_heading level0 row0\" >na_sales</th>\n",
       "      <td id=\"T_a8263_row0_col0\" class=\"data row0 col0\" >4508 (26.97%)</td>\n",
       "    </tr>\n",
       "    <tr>\n",
       "      <th id=\"T_a8263_level0_row1\" class=\"row_heading level0 row1\" >eu_sales</th>\n",
       "      <td id=\"T_a8263_row1_col0\" class=\"data row1 col0\" >5870 (35.12%)</td>\n",
       "    </tr>\n",
       "    <tr>\n",
       "      <th id=\"T_a8263_level0_row2\" class=\"row_heading level0 row2\" >jp_sales</th>\n",
       "      <td id=\"T_a8263_row2_col0\" class=\"data row2 col0\" >10514 (62.90%)</td>\n",
       "    </tr>\n",
       "    <tr>\n",
       "      <th id=\"T_a8263_level0_row3\" class=\"row_heading level0 row3\" >other_sales</th>\n",
       "      <td id=\"T_a8263_row3_col0\" class=\"data row3 col0\" >6601 (39.49%)</td>\n",
       "    </tr>\n",
       "    <tr>\n",
       "      <th id=\"T_a8263_level0_row4\" class=\"row_heading level0 row4\" >user_score</th>\n",
       "      <td id=\"T_a8263_row4_col0\" class=\"data row4 col0\" >1 (0.01%)</td>\n",
       "    </tr>\n",
       "  </tbody>\n",
       "</table>\n"
      ],
      "text/plain": [
       "<pandas.io.formats.style.Styler at 0x7d3bfe4d1ca0>"
      ]
     },
     "metadata": {},
     "output_type": "display_data"
    }
   ],
   "source": [
    "series_zeros = pagri_data_tools.find_columns_with_zeros_values(df)"
   ]
  },
  {
   "cell_type": "markdown",
   "metadata": {},
   "source": [
    "Один пользователь поставил оценку 0. Посмотрим на эту запись."
   ]
  },
  {
   "cell_type": "code",
   "execution_count": 41,
   "metadata": {},
   "outputs": [
    {
     "data": {
      "text/html": [
       "<div>\n",
       "<style scoped>\n",
       "    .dataframe tbody tr th:only-of-type {\n",
       "        vertical-align: middle;\n",
       "    }\n",
       "\n",
       "    .dataframe tbody tr th {\n",
       "        vertical-align: top;\n",
       "    }\n",
       "\n",
       "    .dataframe thead th {\n",
       "        text-align: right;\n",
       "    }\n",
       "</style>\n",
       "<table border=\"1\" class=\"dataframe\">\n",
       "  <thead>\n",
       "    <tr style=\"text-align: right;\">\n",
       "      <th></th>\n",
       "      <th>name</th>\n",
       "      <th>platform</th>\n",
       "      <th>year_of_release</th>\n",
       "      <th>genre</th>\n",
       "      <th>na_sales</th>\n",
       "      <th>eu_sales</th>\n",
       "      <th>jp_sales</th>\n",
       "      <th>other_sales</th>\n",
       "      <th>critic_score</th>\n",
       "      <th>user_score</th>\n",
       "      <th>rating</th>\n",
       "    </tr>\n",
       "  </thead>\n",
       "  <tbody>\n",
       "    <tr>\n",
       "      <th>2835</th>\n",
       "      <td>My Little Pony: Pinkie Pie's Party</td>\n",
       "      <td>DS</td>\n",
       "      <td>2,008.00</td>\n",
       "      <td>Adventure</td>\n",
       "      <td>0.66</td>\n",
       "      <td>0.00</td>\n",
       "      <td>0.00</td>\n",
       "      <td>0.06</td>\n",
       "      <td>NaN</td>\n",
       "      <td>0.00</td>\n",
       "      <td>E</td>\n",
       "    </tr>\n",
       "  </tbody>\n",
       "</table>\n",
       "</div>"
      ],
      "text/plain": [
       "                                    name platform  year_of_release      genre  \\\n",
       "2835  My Little Pony: Pinkie Pie's Party       DS         2,008.00  Adventure   \n",
       "\n",
       "      na_sales  eu_sales  jp_sales  other_sales  critic_score  user_score  \\\n",
       "2835      0.66      0.00      0.00         0.06           NaN        0.00   \n",
       "\n",
       "     rating  \n",
       "2835      E  "
      ]
     },
     "execution_count": 41,
     "metadata": {},
     "output_type": "execute_result"
    }
   ],
   "source": [
    "series_zeros['user_score']"
   ]
  },
  {
   "cell_type": "markdown",
   "metadata": {},
   "source": [
    "Ничего особенного не обнаружено."
   ]
  },
  {
   "cell_type": "markdown",
   "metadata": {},
   "source": [
    "Нули в количестве продаж это нормально. "
   ]
  },
  {
   "cell_type": "markdown",
   "metadata": {},
   "source": [
    "### Промежуточный вывод\n"
   ]
  },
  {
   "cell_type": "markdown",
   "metadata": {},
   "source": [
    "- В столбце с годом выпуска 2 % пропусков.\n",
    "- В столбце с оценкой критиков 51% пропущенных занчений.\n",
    "- В столбце с оценкой пользователей 55% пропущенных значений.\n",
    "- В столбце с названием игры есть 2 пропущенных значения (менее 1%)\n",
    "- В столбце с жанром игры 2% пропусков.  \n",
    "- В рейтинге 40% пропусков.\n",
    "- Значение 0 в оценке пользователей явно является аномалией.\n",
    "- Процент выбросов во всех колонках, кроме года выпуска, находится в диапазоне 0-5%. Это может указывать на то, что данные достаточно чистые и не содержат значительных аномалий.\n",
    "- Процент выбросов во всех колонках примерно одинаковый, что может свидетельствовать об однородности данных.\n",
    "- Почти все пропуски в рейтинге находятся в тех же строках, что и пропуски в оценке критиков и оценке пользователей.\n",
    "- Большинство пропусков в столбцах оценка пользователей и оценка критиков находятся в одних и тех же строках.\n",
    "- Пропуски в одних и тех же строках в названии игры и в жанре.\n",
    "- Есть странное значение tbd, которое не является числом. И таких значений 24 %.\n",
    "- Игры имеют год выпуска от 1980 до 2016 года.\n",
    "- Основная часть игр имеет год выпуска от 2003 до 2010 года.\n",
    "- Больше всего игр 2008 года.\n",
    "- В столбце с продажами в Северной Америке есть нули (27%). По видимому для этих игр не было продаж в Северной Америке.\n",
    "- Количество проданных игр в Северной Америке лежит в диапазоне от 0 до 41.36 млн.\n",
    "- В основном количество проданных игр в Северной Америке находится в диапазоне от 0 до 0.24 млн.\n",
    "- В столбце с продажами в Европе есть нули (35%). По видимому для этих игр не было продаж в Европе.\n",
    "- Количество проданных игр в Европе лежит в диапазоне от 0 до 28.96 млн.\n",
    "- В основном количество проданных игр в Европе находится в диапазоне от 0 до 0.11 млн.\n",
    "- В столбце с продажами в Японии есть нули (63%). По видимому для этих игр не было продаж в Японии.\n",
    "- Количество проданных игр в Японии лежит в диапазоне от 0 до 10.22 млн.\n",
    "- В основном количество проданных игр в Японии находится в диапазоне от 0 до 0.4 млн.\n",
    "- В столбце с продажами в других странах есть нули (39%). По видимому для этих игр не было продаж в других странах.\n",
    "- Количество проданных игр в других странах лежит в диапазоне от 0 до 10.57 млн.\n",
    "- В основном количество проданных игр в других странах находится в диапазоне от 0 до 0.03 млн.\n",
    "- Оценка критиков лежит в диапазоне от 13 до 98.\n",
    "- В основном критики ставят оценки от 60 до 79.\n",
    "- Оценка пользователей варируется от 0 до 9.7.\n",
    "- В освновном пользователи ставят оценки от 6.4 до 8.2\n",
    "- Топ 5 самых встречающихся игр: Need for Speed: Most Wanted, Ratatouille, LEGO Marvel Super Heroes, FIFA 14, Madden NFL 07\n",
    "- Больше всего игр на платформах PS2 и DS (по 13% от общего числа игр).\n",
    "- Больше всего игр в жанре Action.\n",
    "- Больше всего игр с рейтингами E (40%) и T(30%)."
   ]
  },
  {
   "cell_type": "markdown",
   "metadata": {},
   "source": [
    "## Предобработка данных\n"
   ]
  },
  {
   "cell_type": "markdown",
   "metadata": {},
   "source": [
    "Сохраним исходный датафрейм в переменную df_origin, чтобы была возможность вернуться к нему\n"
   ]
  },
  {
   "cell_type": "code",
   "execution_count": 42,
   "metadata": {},
   "outputs": [],
   "source": [
    "df_origin = df.copy()"
   ]
  },
  {
   "cell_type": "markdown",
   "metadata": {},
   "source": [
    "### Обработка выбросов\n"
   ]
  },
  {
   "cell_type": "markdown",
   "metadata": {},
   "source": [
    "Посмотрим где у нас нулевые значения\n"
   ]
  },
  {
   "cell_type": "code",
   "execution_count": 43,
   "metadata": {},
   "outputs": [
    {
     "data": {
      "text/html": [
       "<div>\n",
       "<style scoped>\n",
       "    .dataframe tbody tr th:only-of-type {\n",
       "        vertical-align: middle;\n",
       "    }\n",
       "\n",
       "    .dataframe tbody tr th {\n",
       "        vertical-align: top;\n",
       "    }\n",
       "\n",
       "    .dataframe thead th {\n",
       "        text-align: right;\n",
       "    }\n",
       "</style>\n",
       "<table border=\"1\" class=\"dataframe\">\n",
       "  <thead>\n",
       "    <tr style=\"text-align: right;\">\n",
       "      <th></th>\n",
       "      <th>zeros</th>\n",
       "    </tr>\n",
       "  </thead>\n",
       "  <tbody>\n",
       "    <tr>\n",
       "      <th>na_sales</th>\n",
       "      <td>4508 (27.0%)</td>\n",
       "    </tr>\n",
       "    <tr>\n",
       "      <th>eu_sales</th>\n",
       "      <td>5870 (35.1%)</td>\n",
       "    </tr>\n",
       "    <tr>\n",
       "      <th>jp_sales</th>\n",
       "      <td>10514 (62.9%)</td>\n",
       "    </tr>\n",
       "    <tr>\n",
       "      <th>other_sales</th>\n",
       "      <td>6601 (39.5%)</td>\n",
       "    </tr>\n",
       "    <tr>\n",
       "      <th>user_score</th>\n",
       "      <td>1 (0.0%)</td>\n",
       "    </tr>\n",
       "  </tbody>\n",
       "</table>\n",
       "</div>"
      ],
      "text/plain": [
       "                     zeros\n",
       "na_sales      4508 (27.0%)\n",
       "eu_sales      5870 (35.1%)\n",
       "jp_sales     10514 (62.9%)\n",
       "other_sales   6601 (39.5%)\n",
       "user_score        1 (0.0%)"
      ]
     },
     "metadata": {},
     "output_type": "display_data"
    }
   ],
   "source": [
    "pagri_data_tools.check_zeros_value_in_df(df)"
   ]
  },
  {
   "cell_type": "markdown",
   "metadata": {},
   "source": [
    "Удалим одну строку, где оценка пользователя равна 0."
   ]
  },
  {
   "cell_type": "code",
   "execution_count": 44,
   "metadata": {},
   "outputs": [
    {
     "data": {
      "text/plain": [
       "16715"
      ]
     },
     "execution_count": 44,
     "metadata": {},
     "output_type": "execute_result"
    }
   ],
   "source": [
    "df.shape[0]"
   ]
  },
  {
   "cell_type": "code",
   "execution_count": 45,
   "metadata": {},
   "outputs": [
    {
     "data": {
      "text/plain": [
       "16714"
      ]
     },
     "execution_count": 45,
     "metadata": {},
     "output_type": "execute_result"
    }
   ],
   "source": [
    "df = df[(df.user_score != 0)]\n",
    "df.shape[0]"
   ]
  },
  {
   "cell_type": "code",
   "execution_count": 46,
   "metadata": {},
   "outputs": [
    {
     "data": {
      "text/html": [
       "<div>\n",
       "<style scoped>\n",
       "    .dataframe tbody tr th:only-of-type {\n",
       "        vertical-align: middle;\n",
       "    }\n",
       "\n",
       "    .dataframe tbody tr th {\n",
       "        vertical-align: top;\n",
       "    }\n",
       "\n",
       "    .dataframe thead th {\n",
       "        text-align: right;\n",
       "    }\n",
       "</style>\n",
       "<table border=\"1\" class=\"dataframe\">\n",
       "  <thead>\n",
       "    <tr style=\"text-align: right;\">\n",
       "      <th></th>\n",
       "      <th>zeros</th>\n",
       "    </tr>\n",
       "  </thead>\n",
       "  <tbody>\n",
       "    <tr>\n",
       "      <th>na_sales</th>\n",
       "      <td>4508 (27.0%)</td>\n",
       "    </tr>\n",
       "    <tr>\n",
       "      <th>eu_sales</th>\n",
       "      <td>5869 (35.1%)</td>\n",
       "    </tr>\n",
       "    <tr>\n",
       "      <th>jp_sales</th>\n",
       "      <td>10513 (62.9%)</td>\n",
       "    </tr>\n",
       "    <tr>\n",
       "      <th>other_sales</th>\n",
       "      <td>6601 (39.5%)</td>\n",
       "    </tr>\n",
       "  </tbody>\n",
       "</table>\n",
       "</div>"
      ],
      "text/plain": [
       "                     zeros\n",
       "na_sales      4508 (27.0%)\n",
       "eu_sales      5869 (35.1%)\n",
       "jp_sales     10513 (62.9%)\n",
       "other_sales   6601 (39.5%)"
      ]
     },
     "metadata": {},
     "output_type": "display_data"
    }
   ],
   "source": [
    "pagri_data_tools.check_zeros_value_in_df(df)"
   ]
  },
  {
   "cell_type": "markdown",
   "metadata": {},
   "source": [
    "Не осталоьс столбцов, в которых не должно быть нулей."
   ]
  },
  {
   "cell_type": "markdown",
   "metadata": {},
   "source": [
    "### Обработка пропусков\n"
   ]
  },
  {
   "cell_type": "code",
   "execution_count": 47,
   "metadata": {},
   "outputs": [
    {
     "data": {
      "text/html": [
       "<div>\n",
       "<style scoped>\n",
       "    .dataframe tbody tr th:only-of-type {\n",
       "        vertical-align: middle;\n",
       "    }\n",
       "\n",
       "    .dataframe tbody tr th {\n",
       "        vertical-align: top;\n",
       "    }\n",
       "\n",
       "    .dataframe thead th {\n",
       "        text-align: right;\n",
       "    }\n",
       "</style>\n",
       "<table border=\"1\" class=\"dataframe\">\n",
       "  <thead>\n",
       "    <tr style=\"text-align: right;\">\n",
       "      <th></th>\n",
       "      <th>missed</th>\n",
       "    </tr>\n",
       "  </thead>\n",
       "  <tbody>\n",
       "    <tr>\n",
       "      <th>name</th>\n",
       "      <td>2 (0.0%)</td>\n",
       "    </tr>\n",
       "    <tr>\n",
       "      <th>year_of_release</th>\n",
       "      <td>269 (1.6%)</td>\n",
       "    </tr>\n",
       "    <tr>\n",
       "      <th>genre</th>\n",
       "      <td>2 (0.0%)</td>\n",
       "    </tr>\n",
       "    <tr>\n",
       "      <th>critic_score</th>\n",
       "      <td>8577 (51.3%)</td>\n",
       "    </tr>\n",
       "    <tr>\n",
       "      <th>user_score</th>\n",
       "      <td>9125 (54.6%)</td>\n",
       "    </tr>\n",
       "    <tr>\n",
       "      <th>rating</th>\n",
       "      <td>6766 (40.5%)</td>\n",
       "    </tr>\n",
       "  </tbody>\n",
       "</table>\n",
       "</div>"
      ],
      "text/plain": [
       "                       missed\n",
       "name                 2 (0.0%)\n",
       "year_of_release    269 (1.6%)\n",
       "genre                2 (0.0%)\n",
       "critic_score     8577 (51.3%)\n",
       "user_score       9125 (54.6%)\n",
       "rating           6766 (40.5%)"
      ]
     },
     "metadata": {},
     "output_type": "display_data"
    }
   ],
   "source": [
    "pagri_data_tools.check_missed_value_in_df(df)"
   ]
  },
  {
   "cell_type": "markdown",
   "metadata": {},
   "source": [
    "Так как пропусков в столбцах с названием игры, жанром и годом выпуска мало и мы не можем восстановить с хорошей точностью эти значения,  \n",
    "то удалим их."
   ]
  },
  {
   "cell_type": "code",
   "execution_count": 48,
   "metadata": {},
   "outputs": [
    {
     "data": {
      "text/plain": [
       "16714"
      ]
     },
     "execution_count": 48,
     "metadata": {},
     "output_type": "execute_result"
    }
   ],
   "source": [
    "df.shape[0]"
   ]
  },
  {
   "cell_type": "code",
   "execution_count": 49,
   "metadata": {},
   "outputs": [
    {
     "data": {
      "text/plain": [
       "16712"
      ]
     },
     "execution_count": 49,
     "metadata": {},
     "output_type": "execute_result"
    }
   ],
   "source": [
    "df = df.dropna(subset='name')\n",
    "df.shape[0]"
   ]
  },
  {
   "cell_type": "code",
   "execution_count": 50,
   "metadata": {},
   "outputs": [
    {
     "data": {
      "text/plain": [
       "16712"
      ]
     },
     "execution_count": 50,
     "metadata": {},
     "output_type": "execute_result"
    }
   ],
   "source": [
    "df = df.dropna(subset='genre')\n",
    "df.shape[0]"
   ]
  },
  {
   "cell_type": "code",
   "execution_count": 51,
   "metadata": {},
   "outputs": [
    {
     "data": {
      "text/plain": [
       "16443"
      ]
     },
     "execution_count": 51,
     "metadata": {},
     "output_type": "execute_result"
    }
   ],
   "source": [
    "df = df.dropna(subset='year_of_release')\n",
    "df.shape[0]"
   ]
  },
  {
   "cell_type": "markdown",
   "metadata": {},
   "source": [
    "В рейтинге заменим пропуски на значение 'не указано'"
   ]
  },
  {
   "cell_type": "code",
   "execution_count": 52,
   "metadata": {},
   "outputs": [
    {
     "data": {
      "text/plain": [
       "rating\n",
       "NaN     6676\n",
       "E       3920\n",
       "T       2905\n",
       "M       1536\n",
       "E10+    1393\n",
       "EC         8\n",
       "K-A        3\n",
       "AO         1\n",
       "RP         1\n",
       "Name: count, dtype: int64"
      ]
     },
     "execution_count": 52,
     "metadata": {},
     "output_type": "execute_result"
    }
   ],
   "source": [
    "df.rating.value_counts(dropna=False)"
   ]
  },
  {
   "cell_type": "code",
   "execution_count": 53,
   "metadata": {},
   "outputs": [],
   "source": [
    "df['rating'] = df['rating'].cat.add_categories(['не указано'])\n",
    "df['rating'] = df['rating'].fillna('не указано')"
   ]
  },
  {
   "cell_type": "code",
   "execution_count": 54,
   "metadata": {},
   "outputs": [
    {
     "data": {
      "text/plain": [
       "rating\n",
       "не указано    6676\n",
       "E             3920\n",
       "T             2905\n",
       "M             1536\n",
       "E10+          1393\n",
       "EC               8\n",
       "K-A              3\n",
       "AO               1\n",
       "RP               1\n",
       "Name: count, dtype: int64"
      ]
     },
     "execution_count": 54,
     "metadata": {},
     "output_type": "execute_result"
    }
   ],
   "source": [
    "df.rating.value_counts(dropna=False)"
   ]
  },
  {
   "cell_type": "code",
   "execution_count": 55,
   "metadata": {},
   "outputs": [
    {
     "data": {
      "text/html": [
       "<div>\n",
       "<style scoped>\n",
       "    .dataframe tbody tr th:only-of-type {\n",
       "        vertical-align: middle;\n",
       "    }\n",
       "\n",
       "    .dataframe tbody tr th {\n",
       "        vertical-align: top;\n",
       "    }\n",
       "\n",
       "    .dataframe thead th {\n",
       "        text-align: right;\n",
       "    }\n",
       "</style>\n",
       "<table border=\"1\" class=\"dataframe\">\n",
       "  <thead>\n",
       "    <tr style=\"text-align: right;\">\n",
       "      <th></th>\n",
       "      <th>missed</th>\n",
       "    </tr>\n",
       "  </thead>\n",
       "  <tbody>\n",
       "    <tr>\n",
       "      <th>critic_score</th>\n",
       "      <td>8460 (51.5%)</td>\n",
       "    </tr>\n",
       "    <tr>\n",
       "      <th>user_score</th>\n",
       "      <td>8981 (54.6%)</td>\n",
       "    </tr>\n",
       "  </tbody>\n",
       "</table>\n",
       "</div>"
      ],
      "text/plain": [
       "                    missed\n",
       "critic_score  8460 (51.5%)\n",
       "user_score    8981 (54.6%)"
      ]
     },
     "metadata": {},
     "output_type": "display_data"
    }
   ],
   "source": [
    "pagri_data_tools.check_missed_value_in_df(df)"
   ]
  },
  {
   "cell_type": "markdown",
   "metadata": {},
   "source": [
    "Пропуски в остальных колонках удалять или заменять нельзя, так как их слишком много, и мы исказим данные.  "
   ]
  },
  {
   "cell_type": "markdown",
   "metadata": {},
   "source": [
    "### Обработка дубликатов"
   ]
  },
  {
   "cell_type": "markdown",
   "metadata": {},
   "source": [
    "Объеденим задублированные строки для игры Madden NFL 13"
   ]
  },
  {
   "cell_type": "code",
   "execution_count": 56,
   "metadata": {},
   "outputs": [
    {
     "data": {
      "text/plain": [
       "16443"
      ]
     },
     "execution_count": 56,
     "metadata": {},
     "output_type": "execute_result"
    }
   ],
   "source": [
    "df.shape[0]"
   ]
  },
  {
   "cell_type": "code",
   "execution_count": 57,
   "metadata": {},
   "outputs": [
    {
     "data": {
      "text/html": [
       "<div>\n",
       "<style scoped>\n",
       "    .dataframe tbody tr th:only-of-type {\n",
       "        vertical-align: middle;\n",
       "    }\n",
       "\n",
       "    .dataframe tbody tr th {\n",
       "        vertical-align: top;\n",
       "    }\n",
       "\n",
       "    .dataframe thead th {\n",
       "        text-align: right;\n",
       "    }\n",
       "</style>\n",
       "<table border=\"1\" class=\"dataframe\">\n",
       "  <thead>\n",
       "    <tr style=\"text-align: right;\">\n",
       "      <th></th>\n",
       "      <th>name</th>\n",
       "      <th>platform</th>\n",
       "      <th>year_of_release</th>\n",
       "      <th>genre</th>\n",
       "      <th>na_sales</th>\n",
       "      <th>eu_sales</th>\n",
       "      <th>jp_sales</th>\n",
       "      <th>other_sales</th>\n",
       "      <th>critic_score</th>\n",
       "      <th>user_score</th>\n",
       "      <th>rating</th>\n",
       "    </tr>\n",
       "  </thead>\n",
       "  <tbody>\n",
       "    <tr>\n",
       "      <th>604</th>\n",
       "      <td>Madden NFL 13</td>\n",
       "      <td>PS3</td>\n",
       "      <td>2,012.00</td>\n",
       "      <td>Sports</td>\n",
       "      <td>2.11</td>\n",
       "      <td>0.22</td>\n",
       "      <td>0.00</td>\n",
       "      <td>0.23</td>\n",
       "      <td>83.00</td>\n",
       "      <td>5.50</td>\n",
       "      <td>E</td>\n",
       "    </tr>\n",
       "    <tr>\n",
       "      <th>16230</th>\n",
       "      <td>Madden NFL 13</td>\n",
       "      <td>PS3</td>\n",
       "      <td>2,012.00</td>\n",
       "      <td>Sports</td>\n",
       "      <td>0.00</td>\n",
       "      <td>0.01</td>\n",
       "      <td>0.00</td>\n",
       "      <td>0.00</td>\n",
       "      <td>83.00</td>\n",
       "      <td>5.50</td>\n",
       "      <td>E</td>\n",
       "    </tr>\n",
       "    <tr>\n",
       "      <th>5972</th>\n",
       "      <td>Need for Speed: Most Wanted</td>\n",
       "      <td>PC</td>\n",
       "      <td>2,005.00</td>\n",
       "      <td>Racing</td>\n",
       "      <td>0.02</td>\n",
       "      <td>0.23</td>\n",
       "      <td>0.00</td>\n",
       "      <td>0.04</td>\n",
       "      <td>82.00</td>\n",
       "      <td>8.50</td>\n",
       "      <td>T</td>\n",
       "    </tr>\n",
       "    <tr>\n",
       "      <th>11715</th>\n",
       "      <td>Need for Speed: Most Wanted</td>\n",
       "      <td>PC</td>\n",
       "      <td>2,012.00</td>\n",
       "      <td>Racing</td>\n",
       "      <td>0.00</td>\n",
       "      <td>0.06</td>\n",
       "      <td>0.00</td>\n",
       "      <td>0.02</td>\n",
       "      <td>82.00</td>\n",
       "      <td>8.50</td>\n",
       "      <td>T</td>\n",
       "    </tr>\n",
       "    <tr>\n",
       "      <th>1190</th>\n",
       "      <td>Need for Speed: Most Wanted</td>\n",
       "      <td>X360</td>\n",
       "      <td>2,012.00</td>\n",
       "      <td>Racing</td>\n",
       "      <td>0.62</td>\n",
       "      <td>0.78</td>\n",
       "      <td>0.01</td>\n",
       "      <td>0.15</td>\n",
       "      <td>83.00</td>\n",
       "      <td>8.50</td>\n",
       "      <td>T</td>\n",
       "    </tr>\n",
       "    <tr>\n",
       "      <th>1591</th>\n",
       "      <td>Need for Speed: Most Wanted</td>\n",
       "      <td>X360</td>\n",
       "      <td>2,005.00</td>\n",
       "      <td>Racing</td>\n",
       "      <td>1.00</td>\n",
       "      <td>0.13</td>\n",
       "      <td>0.02</td>\n",
       "      <td>0.10</td>\n",
       "      <td>83.00</td>\n",
       "      <td>8.50</td>\n",
       "      <td>T</td>\n",
       "    </tr>\n",
       "  </tbody>\n",
       "</table>\n",
       "</div>"
      ],
      "text/plain": [
       "                              name platform  year_of_release   genre  \\\n",
       "604                  Madden NFL 13      PS3         2,012.00  Sports   \n",
       "16230                Madden NFL 13      PS3         2,012.00  Sports   \n",
       "5972   Need for Speed: Most Wanted       PC         2,005.00  Racing   \n",
       "11715  Need for Speed: Most Wanted       PC         2,012.00  Racing   \n",
       "1190   Need for Speed: Most Wanted     X360         2,012.00  Racing   \n",
       "1591   Need for Speed: Most Wanted     X360         2,005.00  Racing   \n",
       "\n",
       "       na_sales  eu_sales  jp_sales  other_sales  critic_score  user_score  \\\n",
       "604        2.11      0.22      0.00         0.23         83.00        5.50   \n",
       "16230      0.00      0.01      0.00         0.00         83.00        5.50   \n",
       "5972       0.02      0.23      0.00         0.04         82.00        8.50   \n",
       "11715      0.00      0.06      0.00         0.02         82.00        8.50   \n",
       "1190       0.62      0.78      0.01         0.15         83.00        8.50   \n",
       "1591       1.00      0.13      0.02         0.10         83.00        8.50   \n",
       "\n",
       "      rating  \n",
       "604        E  \n",
       "16230      E  \n",
       "5972       T  \n",
       "11715      T  \n",
       "1190       T  \n",
       "1591       T  "
      ]
     },
     "execution_count": 57,
     "metadata": {},
     "output_type": "execute_result"
    }
   ],
   "source": [
    "df[df[['name', 'platform', 'genre']].duplicated(keep=False)].sort_values(by=['name', 'platform', 'genre'])"
   ]
  },
  {
   "cell_type": "code",
   "execution_count": 58,
   "metadata": {},
   "outputs": [],
   "source": [
    "indices_to_combine = [604, 16230]\n",
    "\n",
    "# Группируем строки по индексам и объединяем значения\n",
    "combined_row = df.loc[indices_to_combine].groupby(['name', 'platform', 'genre'], as_index=False, observed=True).agg({\n",
    "    'na_sales': 'sum',\n",
    "    'eu_sales': 'sum',\n",
    "    'other_sales': 'sum',\n",
    "    'jp_sales': 'sum',\n",
    "    'critic_score': 'first',\n",
    "    'user_score': 'first',\n",
    "    'rating': 'first',\n",
    "    'year_of_release': 'first'\n",
    "})\n",
    "\n",
    "# Обновляем DataFrame, удаляя объединенные строки и добавляя новую\n",
    "df = pd.concat([df.drop(indices_to_combine), combined_row], ignore_index=True)"
   ]
  },
  {
   "cell_type": "code",
   "execution_count": 59,
   "metadata": {},
   "outputs": [
    {
     "data": {
      "text/plain": [
       "16442"
      ]
     },
     "execution_count": 59,
     "metadata": {},
     "output_type": "execute_result"
    }
   ],
   "source": [
    "df.shape[0]"
   ]
  },
  {
   "cell_type": "code",
   "execution_count": 60,
   "metadata": {},
   "outputs": [
    {
     "data": {
      "text/html": [
       "<div>\n",
       "<style scoped>\n",
       "    .dataframe tbody tr th:only-of-type {\n",
       "        vertical-align: middle;\n",
       "    }\n",
       "\n",
       "    .dataframe tbody tr th {\n",
       "        vertical-align: top;\n",
       "    }\n",
       "\n",
       "    .dataframe thead th {\n",
       "        text-align: right;\n",
       "    }\n",
       "</style>\n",
       "<table border=\"1\" class=\"dataframe\">\n",
       "  <thead>\n",
       "    <tr style=\"text-align: right;\">\n",
       "      <th></th>\n",
       "      <th>name</th>\n",
       "      <th>platform</th>\n",
       "      <th>year_of_release</th>\n",
       "      <th>genre</th>\n",
       "      <th>na_sales</th>\n",
       "      <th>eu_sales</th>\n",
       "      <th>jp_sales</th>\n",
       "      <th>other_sales</th>\n",
       "      <th>critic_score</th>\n",
       "      <th>user_score</th>\n",
       "      <th>rating</th>\n",
       "    </tr>\n",
       "  </thead>\n",
       "  <tbody>\n",
       "    <tr>\n",
       "      <th>16441</th>\n",
       "      <td>Madden NFL 13</td>\n",
       "      <td>PS3</td>\n",
       "      <td>2,012.00</td>\n",
       "      <td>Sports</td>\n",
       "      <td>2.11</td>\n",
       "      <td>0.23</td>\n",
       "      <td>0.00</td>\n",
       "      <td>0.23</td>\n",
       "      <td>83.00</td>\n",
       "      <td>5.50</td>\n",
       "      <td>E</td>\n",
       "    </tr>\n",
       "  </tbody>\n",
       "</table>\n",
       "</div>"
      ],
      "text/plain": [
       "                name platform  year_of_release   genre  na_sales  eu_sales  \\\n",
       "16441  Madden NFL 13      PS3         2,012.00  Sports      2.11      0.23   \n",
       "\n",
       "       jp_sales  other_sales  critic_score  user_score rating  \n",
       "16441      0.00         0.23         83.00        5.50      E  "
      ]
     },
     "execution_count": 60,
     "metadata": {},
     "output_type": "execute_result"
    }
   ],
   "source": [
    "df.tail(1)"
   ]
  },
  {
   "cell_type": "markdown",
   "metadata": {},
   "source": [
    "Строки правильно объеденились."
   ]
  },
  {
   "cell_type": "markdown",
   "metadata": {},
   "source": [
    "### Приведение данных к удобной форме\n"
   ]
  },
  {
   "cell_type": "markdown",
   "metadata": {},
   "source": [
    "Заменим кодировку рейтинга на более понятную и объеденим похожие категории, так как группы с малым количеством игр статистически незначимы."
   ]
  },
  {
   "cell_type": "code",
   "execution_count": 61,
   "metadata": {},
   "outputs": [
    {
     "data": {
      "text/plain": [
       "rating\n",
       "не указано    6676\n",
       "E             3919\n",
       "T             2905\n",
       "M             1536\n",
       "E10+          1393\n",
       "EC               8\n",
       "K-A              3\n",
       "AO               1\n",
       "RP               1\n",
       "Name: count, dtype: int64"
      ]
     },
     "execution_count": 61,
     "metadata": {},
     "output_type": "execute_result"
    }
   ],
   "source": [
    "df.rating.value_counts(dropna=False)"
   ]
  },
  {
   "cell_type": "code",
   "execution_count": 62,
   "metadata": {},
   "outputs": [
    {
     "data": {
      "text/plain": [
       "rating\n",
       "не указано             6677\n",
       "для всех               3922\n",
       "подростковый           2905\n",
       "взрослый               1537\n",
       "для всех от 10 лет     1393\n",
       "раннее детство            8\n",
       "Name: count, dtype: int64"
      ]
     },
     "execution_count": 62,
     "metadata": {},
     "output_type": "execute_result"
    }
   ],
   "source": [
    "df.rating.astype(str).map({'E': 'для всех', 'T': 'подростковый', 'M': 'взрослый', 'E10+': 'для всех от 10 лет '\n",
    "                           , 'EC': 'раннее детство', 'K-A': 'для всех', 'AO': 'взрослый'\n",
    "                           , 'RP': 'не указано', 'не указано': 'не указано'}).astype('category').value_counts(dropna=False)"
   ]
  },
  {
   "cell_type": "markdown",
   "metadata": {},
   "source": [
    "Категория 'раннее детство' имеет всего 8 элементов, но объеденить ее мы с дургими не можем."
   ]
  },
  {
   "cell_type": "markdown",
   "metadata": {},
   "source": [
    "Переведем оценку пользователей в 100-бальную шкалу, чтобы можно было сравнить с рейтингом критиков."
   ]
  },
  {
   "cell_type": "code",
   "execution_count": 63,
   "metadata": {},
   "outputs": [],
   "source": [
    "df.user_score = df.user_score * 10"
   ]
  },
  {
   "cell_type": "markdown",
   "metadata": {},
   "source": [
    "Переведем год выпуска в целочисленный ттип данных."
   ]
  },
  {
   "cell_type": "markdown",
   "metadata": {},
   "source": [
    "Убедимся, что у нас нет дробных значений в столбцах, которые мы собирамся переводить в целочисленный тип данных."
   ]
  },
  {
   "cell_type": "code",
   "execution_count": 64,
   "metadata": {},
   "outputs": [
    {
     "name": "stdout",
     "output_type": "stream",
     "text": [
      "year_of_release =  0\n"
     ]
    }
   ],
   "source": [
    "print('year_of_release = ', (df.year_of_release % 1 != 0).sum())"
   ]
  },
  {
   "cell_type": "code",
   "execution_count": 65,
   "metadata": {},
   "outputs": [
    {
     "data": {
      "text/html": [
       "<div>\n",
       "<style scoped>\n",
       "    .dataframe tbody tr th:only-of-type {\n",
       "        vertical-align: middle;\n",
       "    }\n",
       "\n",
       "    .dataframe tbody tr th {\n",
       "        vertical-align: top;\n",
       "    }\n",
       "\n",
       "    .dataframe thead th {\n",
       "        text-align: right;\n",
       "    }\n",
       "</style>\n",
       "<table border=\"1\" class=\"dataframe\">\n",
       "  <thead>\n",
       "    <tr style=\"text-align: right;\">\n",
       "      <th></th>\n",
       "      <th>name</th>\n",
       "      <th>platform</th>\n",
       "      <th>year_of_release</th>\n",
       "      <th>genre</th>\n",
       "      <th>na_sales</th>\n",
       "      <th>eu_sales</th>\n",
       "      <th>jp_sales</th>\n",
       "      <th>other_sales</th>\n",
       "      <th>critic_score</th>\n",
       "      <th>user_score</th>\n",
       "      <th>rating</th>\n",
       "    </tr>\n",
       "  </thead>\n",
       "  <tbody>\n",
       "    <tr>\n",
       "      <th>0</th>\n",
       "      <td>Wii Sports</td>\n",
       "      <td>Wii</td>\n",
       "      <td>2006</td>\n",
       "      <td>Sports</td>\n",
       "      <td>41.36</td>\n",
       "      <td>28.96</td>\n",
       "      <td>3.77</td>\n",
       "      <td>8.45</td>\n",
       "      <td>76.00</td>\n",
       "      <td>80.00</td>\n",
       "      <td>E</td>\n",
       "    </tr>\n",
       "  </tbody>\n",
       "</table>\n",
       "</div>"
      ],
      "text/plain": [
       "         name platform  year_of_release   genre  na_sales  eu_sales  jp_sales  \\\n",
       "0  Wii Sports      Wii             2006  Sports     41.36     28.96      3.77   \n",
       "\n",
       "   other_sales  critic_score  user_score rating  \n",
       "0         8.45         76.00       80.00      E  "
      ]
     },
     "execution_count": 65,
     "metadata": {},
     "output_type": "execute_result"
    }
   ],
   "source": [
    "df.year_of_release = df.year_of_release.round().astype('int32')\n",
    "df.head(1)"
   ]
  },
  {
   "cell_type": "markdown",
   "metadata": {},
   "source": [
    "Оценки пользователей и критиков мы не можем перевести в целый тип из-за пропусков."
   ]
  },
  {
   "cell_type": "markdown",
   "metadata": {},
   "source": [
    "### Промежуточный вывод\n"
   ]
  },
  {
   "cell_type": "markdown",
   "metadata": {},
   "source": [
    "- Заменили кодировку рейтинга на более понятную и объеденим похожие категории.\n",
    "- Оценку пользователей перевели в 100-балльную систему, чтобы можно было сравнивать с рейтингом критиков.\n",
    "- Год выпуска игры перевели в целочисленный тип данных.\n",
    "- Удалили одну строку, где оценка пользователя равна 0.\n",
    "- Удалили пропуски в столбцах с названием игры, жанром и годом выпуска, так как их мало и мы не можем восстановить с хорошей точностью эти значения.\n",
    "- В рейтинге заменили пропуски на значение 'не указано'\n",
    "- Объеденили задублированные строки для игры Madden NFL 13."
   ]
  },
  {
   "cell_type": "markdown",
   "metadata": {},
   "source": [
    "## Обогащение данных и создание новых переменных"
   ]
  },
  {
   "cell_type": "markdown",
   "metadata": {},
   "source": [
    "### Создание новых числовых переменных"
   ]
  },
  {
   "cell_type": "markdown",
   "metadata": {},
   "source": [
    "Создадим новую числовую переменную из оценок пользователей и оценок критиков.  \n",
    "Посчитаем сруднюю оценку между оценкой критиков и пользователей."
   ]
  },
  {
   "cell_type": "code",
   "execution_count": 66,
   "metadata": {},
   "outputs": [
    {
     "data": {
      "text/html": [
       "<div>\n",
       "<style scoped>\n",
       "    .dataframe tbody tr th:only-of-type {\n",
       "        vertical-align: middle;\n",
       "    }\n",
       "\n",
       "    .dataframe tbody tr th {\n",
       "        vertical-align: top;\n",
       "    }\n",
       "\n",
       "    .dataframe thead th {\n",
       "        text-align: right;\n",
       "    }\n",
       "</style>\n",
       "<table border=\"1\" class=\"dataframe\">\n",
       "  <thead>\n",
       "    <tr style=\"text-align: right;\">\n",
       "      <th></th>\n",
       "      <th>name</th>\n",
       "      <th>platform</th>\n",
       "      <th>year_of_release</th>\n",
       "      <th>genre</th>\n",
       "      <th>na_sales</th>\n",
       "      <th>eu_sales</th>\n",
       "      <th>jp_sales</th>\n",
       "      <th>other_sales</th>\n",
       "      <th>critic_score</th>\n",
       "      <th>user_score</th>\n",
       "      <th>rating</th>\n",
       "    </tr>\n",
       "  </thead>\n",
       "  <tbody>\n",
       "    <tr>\n",
       "      <th>0</th>\n",
       "      <td>Wii Sports</td>\n",
       "      <td>Wii</td>\n",
       "      <td>2006</td>\n",
       "      <td>Sports</td>\n",
       "      <td>41.36</td>\n",
       "      <td>28.96</td>\n",
       "      <td>3.77</td>\n",
       "      <td>8.45</td>\n",
       "      <td>76.00</td>\n",
       "      <td>80.00</td>\n",
       "      <td>E</td>\n",
       "    </tr>\n",
       "  </tbody>\n",
       "</table>\n",
       "</div>"
      ],
      "text/plain": [
       "         name platform  year_of_release   genre  na_sales  eu_sales  jp_sales  \\\n",
       "0  Wii Sports      Wii             2006  Sports     41.36     28.96      3.77   \n",
       "\n",
       "   other_sales  critic_score  user_score rating  \n",
       "0         8.45         76.00       80.00      E  "
      ]
     },
     "execution_count": 66,
     "metadata": {},
     "output_type": "execute_result"
    }
   ],
   "source": [
    "df.head(1)"
   ]
  },
  {
   "cell_type": "code",
   "execution_count": 67,
   "metadata": {},
   "outputs": [],
   "source": [
    "df['avg_score'] = df[['user_score', 'critic_score']].mean(axis=1)"
   ]
  },
  {
   "cell_type": "code",
   "execution_count": 68,
   "metadata": {},
   "outputs": [
    {
     "data": {
      "text/html": [
       "\n",
       "            <div style=\"display: flex; justify-content: flex-start; align-items: flex-end;\">\n",
       "                <style type=\"text/css\">\n",
       "#T_51f51 caption {\n",
       "  font-size: 16px;\n",
       "  text-align: left;\n",
       "  font-weight: bold;\n",
       "}\n",
       "#T_51f51_row0_col0, #T_51f51_row0_col1, #T_51f51_row0_col2, #T_51f51_row0_col3, #T_51f51_row0_col4, #T_51f51_row0_col5, #T_51f51_row0_col6, #T_51f51_row0_col7, #T_51f51_row0_col8, #T_51f51_row0_col9, #T_51f51_row1_col0, #T_51f51_row1_col1, #T_51f51_row1_col2, #T_51f51_row1_col3, #T_51f51_row1_col4, #T_51f51_row1_col5, #T_51f51_row1_col6, #T_51f51_row1_col7, #T_51f51_row1_col8, #T_51f51_row1_col9, #T_51f51_row2_col0, #T_51f51_row2_col1, #T_51f51_row2_col2, #T_51f51_row2_col3, #T_51f51_row2_col4, #T_51f51_row2_col5, #T_51f51_row2_col6, #T_51f51_row2_col7, #T_51f51_row2_col8, #T_51f51_row2_col9, #T_51f51_row3_col0, #T_51f51_row3_col1, #T_51f51_row3_col2, #T_51f51_row3_col3, #T_51f51_row3_col4, #T_51f51_row3_col5, #T_51f51_row3_col6, #T_51f51_row3_col7, #T_51f51_row3_col8, #T_51f51_row3_col9, #T_51f51_row4_col0, #T_51f51_row4_col1, #T_51f51_row4_col2, #T_51f51_row4_col3, #T_51f51_row4_col4, #T_51f51_row4_col5, #T_51f51_row4_col6, #T_51f51_row4_col7, #T_51f51_row4_col8, #T_51f51_row4_col9, #T_51f51_row5_col0, #T_51f51_row5_col1, #T_51f51_row5_col2, #T_51f51_row5_col3, #T_51f51_row5_col4, #T_51f51_row5_col5, #T_51f51_row5_col6, #T_51f51_row5_col7, #T_51f51_row5_col8, #T_51f51_row5_col9, #T_51f51_row6_col0, #T_51f51_row6_col1, #T_51f51_row6_col2, #T_51f51_row6_col3, #T_51f51_row6_col4, #T_51f51_row6_col5, #T_51f51_row6_col6, #T_51f51_row6_col7, #T_51f51_row6_col8, #T_51f51_row6_col9 {\n",
       "  text-align: left;\n",
       "}\n",
       "</style>\n",
       "<table id=\"T_51f51\">\n",
       "  <caption>Статистика и гистограмма столбца \"avg_score\"</caption>\n",
       "  <thead>\n",
       "  </thead>\n",
       "  <tbody>\n",
       "    <tr>\n",
       "      <td id=\"T_51f51_row0_col0\" class=\"data row0 col0\" >Values</td>\n",
       "      <td id=\"T_51f51_row0_col1\" class=\"data row0 col1\" >8 550 (52%)</td>\n",
       "      <td id=\"T_51f51_row0_col2\" class=\"data row0 col2\" >                              </td>\n",
       "      <td id=\"T_51f51_row0_col3\" class=\"data row0 col3\" >Max</td>\n",
       "      <td id=\"T_51f51_row0_col4\" class=\"data row0 col4\" >97</td>\n",
       "      <td id=\"T_51f51_row0_col5\" class=\"data row0 col5\" >                              </td>\n",
       "      <td id=\"T_51f51_row0_col6\" class=\"data row0 col6\" >Avg</td>\n",
       "      <td id=\"T_51f51_row0_col7\" class=\"data row0 col7\" >69.32</td>\n",
       "      <td id=\"T_51f51_row0_col8\" class=\"data row0 col8\" >                              </td>\n",
       "      <td id=\"T_51f51_row0_col9\" class=\"data row0 col9\" >78 (2%)</td>\n",
       "    </tr>\n",
       "    <tr>\n",
       "      <td id=\"T_51f51_row1_col0\" class=\"data row1 col0\" >Missing</td>\n",
       "      <td id=\"T_51f51_row1_col1\" class=\"data row1 col1\" >7 892 (48%)</td>\n",
       "      <td id=\"T_51f51_row1_col2\" class=\"data row1 col2\" >                              </td>\n",
       "      <td id=\"T_51f51_row1_col3\" class=\"data row1 col3\" >95%</td>\n",
       "      <td id=\"T_51f51_row1_col4\" class=\"data row1 col4\" >87</td>\n",
       "      <td id=\"T_51f51_row1_col5\" class=\"data row1 col5\" >                              </td>\n",
       "      <td id=\"T_51f51_row1_col6\" class=\"data row1 col6\" >Mode</td>\n",
       "      <td id=\"T_51f51_row1_col7\" class=\"data row1 col7\" >78</td>\n",
       "      <td id=\"T_51f51_row1_col8\" class=\"data row1 col8\" >                              </td>\n",
       "      <td id=\"T_51f51_row1_col9\" class=\"data row1 col9\" >74 (2%)</td>\n",
       "    </tr>\n",
       "    <tr>\n",
       "      <td id=\"T_51f51_row2_col0\" class=\"data row2 col0\" >Distinct</td>\n",
       "      <td id=\"T_51f51_row2_col1\" class=\"data row2 col1\" >163 (1%)</td>\n",
       "      <td id=\"T_51f51_row2_col2\" class=\"data row2 col2\" >                              </td>\n",
       "      <td id=\"T_51f51_row2_col3\" class=\"data row2 col3\" >75%</td>\n",
       "      <td id=\"T_51f51_row2_col4\" class=\"data row2 col4\" >79</td>\n",
       "      <td id=\"T_51f51_row2_col5\" class=\"data row2 col5\" >                              </td>\n",
       "      <td id=\"T_51f51_row2_col6\" class=\"data row2 col6\" >Range</td>\n",
       "      <td id=\"T_51f51_row2_col7\" class=\"data row2 col7\" >95</td>\n",
       "      <td id=\"T_51f51_row2_col8\" class=\"data row2 col8\" >                              </td>\n",
       "      <td id=\"T_51f51_row2_col9\" class=\"data row2 col9\" >71 (2%)</td>\n",
       "    </tr>\n",
       "    <tr>\n",
       "      <td id=\"T_51f51_row3_col0\" class=\"data row3 col0\" >Duplicates</td>\n",
       "      <td id=\"T_51f51_row3_col1\" class=\"data row3 col1\" >16 278 (99.0%)</td>\n",
       "      <td id=\"T_51f51_row3_col2\" class=\"data row3 col2\" >                              </td>\n",
       "      <td id=\"T_51f51_row3_col3\" class=\"data row3 col3\" >Median</td>\n",
       "      <td id=\"T_51f51_row3_col4\" class=\"data row3 col4\" >71.5</td>\n",
       "      <td id=\"T_51f51_row3_col5\" class=\"data row3 col5\" >                              </td>\n",
       "      <td id=\"T_51f51_row3_col6\" class=\"data row3 col6\" >iQR</td>\n",
       "      <td id=\"T_51f51_row3_col7\" class=\"data row3 col7\" >17</td>\n",
       "      <td id=\"T_51f51_row3_col8\" class=\"data row3 col8\" >                              </td>\n",
       "      <td id=\"T_51f51_row3_col9\" class=\"data row3 col9\" >70 (2%)</td>\n",
       "    </tr>\n",
       "    <tr>\n",
       "      <td id=\"T_51f51_row4_col0\" class=\"data row4 col0\" >Zeros</td>\n",
       "      <td id=\"T_51f51_row4_col1\" class=\"data row4 col1\" >---</td>\n",
       "      <td id=\"T_51f51_row4_col2\" class=\"data row4 col2\" >                              </td>\n",
       "      <td id=\"T_51f51_row4_col3\" class=\"data row4 col3\" >25%</td>\n",
       "      <td id=\"T_51f51_row4_col4\" class=\"data row4 col4\" >62</td>\n",
       "      <td id=\"T_51f51_row4_col5\" class=\"data row4 col5\" >                              </td>\n",
       "      <td id=\"T_51f51_row4_col6\" class=\"data row4 col6\" >std</td>\n",
       "      <td id=\"T_51f51_row4_col7\" class=\"data row4 col7\" >13.48</td>\n",
       "      <td id=\"T_51f51_row4_col8\" class=\"data row4 col8\" >                              </td>\n",
       "      <td id=\"T_51f51_row4_col9\" class=\"data row4 col9\" >76 (2%)</td>\n",
       "    </tr>\n",
       "    <tr>\n",
       "      <td id=\"T_51f51_row5_col0\" class=\"data row5 col0\" >Negative</td>\n",
       "      <td id=\"T_51f51_row5_col1\" class=\"data row5 col1\" >---</td>\n",
       "      <td id=\"T_51f51_row5_col2\" class=\"data row5 col2\" >                              </td>\n",
       "      <td id=\"T_51f51_row5_col3\" class=\"data row5 col3\" >5%</td>\n",
       "      <td id=\"T_51f51_row5_col4\" class=\"data row5 col4\" >43.5</td>\n",
       "      <td id=\"T_51f51_row5_col5\" class=\"data row5 col5\" >                              </td>\n",
       "      <td id=\"T_51f51_row5_col6\" class=\"data row5 col6\" >kurt</td>\n",
       "      <td id=\"T_51f51_row5_col7\" class=\"data row5 col7\" >1.16</td>\n",
       "      <td id=\"T_51f51_row5_col8\" class=\"data row5 col8\" >                              </td>\n",
       "      <td id=\"T_51f51_row5_col9\" class=\"data row5 col9\" >75 (2%)</td>\n",
       "    </tr>\n",
       "    <tr>\n",
       "      <td id=\"T_51f51_row6_col0\" class=\"data row6 col0\" >RAM (Mb)</td>\n",
       "      <td id=\"T_51f51_row6_col1\" class=\"data row6 col1\" ><1 Mb</td>\n",
       "      <td id=\"T_51f51_row6_col2\" class=\"data row6 col2\" >                              </td>\n",
       "      <td id=\"T_51f51_row6_col3\" class=\"data row6 col3\" >Min</td>\n",
       "      <td id=\"T_51f51_row6_col4\" class=\"data row6 col4\" >2</td>\n",
       "      <td id=\"T_51f51_row6_col5\" class=\"data row6 col5\" >                              </td>\n",
       "      <td id=\"T_51f51_row6_col6\" class=\"data row6 col6\" >skew</td>\n",
       "      <td id=\"T_51f51_row6_col7\" class=\"data row6 col7\" >-0.97</td>\n",
       "      <td id=\"T_51f51_row6_col8\" class=\"data row6 col8\" >                              </td>\n",
       "      <td id=\"T_51f51_row6_col9\" class=\"data row6 col9\" >68 (2%)</td>\n",
       "    </tr>\n",
       "  </tbody>\n",
       "</table>\n",
       "\n",
       "                <div>\n",
       "                    <img src=\"data:image/png;base64,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\" alt=\"График\"/>\n",
       "                </div>\n",
       "                      \n",
       "            </div>\n",
       "            "
      ],
      "text/plain": [
       "<IPython.core.display.HTML object>"
      ]
     },
     "metadata": {},
     "output_type": "display_data"
    }
   ],
   "source": [
    "gen = pagri_data_tools.info_gen(df, column='avg_score', mode='column')\n",
    "gen.next()"
   ]
  },
  {
   "cell_type": "markdown",
   "metadata": {},
   "source": [
    "**Наблюдения:**  \n",
    "\n",
    "- Средняя оценка лежит в диапазоне от 2 до 97.\n",
    "- В основном средняя оценка находится в диапазон от 62 до 79."
   ]
  },
  {
   "cell_type": "markdown",
   "metadata": {},
   "source": [
    "### Категоризация данных\n"
   ]
  },
  {
   "cell_type": "markdown",
   "metadata": {},
   "source": [
    "Объеденим продажи в одну числовую переменную и создадим категориальную переменную region"
   ]
  },
  {
   "cell_type": "code",
   "execution_count": 69,
   "metadata": {},
   "outputs": [
    {
     "data": {
      "text/html": [
       "<div>\n",
       "<style scoped>\n",
       "    .dataframe tbody tr th:only-of-type {\n",
       "        vertical-align: middle;\n",
       "    }\n",
       "\n",
       "    .dataframe tbody tr th {\n",
       "        vertical-align: top;\n",
       "    }\n",
       "\n",
       "    .dataframe thead th {\n",
       "        text-align: right;\n",
       "    }\n",
       "</style>\n",
       "<table border=\"1\" class=\"dataframe\">\n",
       "  <thead>\n",
       "    <tr style=\"text-align: right;\">\n",
       "      <th></th>\n",
       "      <th>avg_score</th>\n",
       "      <th>critic_score</th>\n",
       "      <th>genre</th>\n",
       "      <th>name</th>\n",
       "      <th>platform</th>\n",
       "      <th>rating</th>\n",
       "      <th>user_score</th>\n",
       "      <th>year_of_release</th>\n",
       "      <th>region</th>\n",
       "      <th>sales</th>\n",
       "    </tr>\n",
       "  </thead>\n",
       "  <tbody>\n",
       "    <tr>\n",
       "      <th>0</th>\n",
       "      <td>78.00</td>\n",
       "      <td>76.00</td>\n",
       "      <td>Sports</td>\n",
       "      <td>Wii Sports</td>\n",
       "      <td>Wii</td>\n",
       "      <td>E</td>\n",
       "      <td>80.00</td>\n",
       "      <td>2006</td>\n",
       "      <td>Северная Америка</td>\n",
       "      <td>41.36</td>\n",
       "    </tr>\n",
       "  </tbody>\n",
       "</table>\n",
       "</div>"
      ],
      "text/plain": [
       "   avg_score  critic_score   genre        name platform rating  user_score  \\\n",
       "0      78.00         76.00  Sports  Wii Sports      Wii      E       80.00   \n",
       "\n",
       "   year_of_release            region  sales  \n",
       "0             2006  Северная Америка  41.36  "
      ]
     },
     "execution_count": 69,
     "metadata": {},
     "output_type": "execute_result"
    }
   ],
   "source": [
    "# Применяем melt для преобразования данных\n",
    "value_vars = ['na_sales', 'eu_sales', 'jp_sales', 'other_sales']\n",
    "df = pd.melt(df, id_vars=df.columns.difference(value_vars), \n",
    "                    value_vars=value_vars,\n",
    "                    var_name='region', value_name='sales')\n",
    "# Словарь для замены значений\n",
    "region_mapping = {\n",
    "    'na_sales': 'Северная Америка',\n",
    "    'eu_sales': 'Европа',\n",
    "    'jp_sales': 'Япония',\n",
    "    'other_sales': 'Другие'\n",
    "}\n",
    "\n",
    "# Замена значений в столбце region\n",
    "df['region'] = df['region'].replace(region_mapping).astype('category')\n",
    "df.head(1)"
   ]
  },
  {
   "cell_type": "markdown",
   "metadata": {},
   "source": [
    "Для оценки критиков и оценки пользователей создадим новые категориальные переменные."
   ]
  },
  {
   "cell_type": "code",
   "execution_count": 70,
   "metadata": {},
   "outputs": [],
   "source": [
    "labels = ['низкая', 'средняя', 'высокая']\n",
    "bins = [-np.inf, 50, 80, np.inf]"
   ]
  },
  {
   "cell_type": "code",
   "execution_count": 71,
   "metadata": {},
   "outputs": [
    {
     "data": {
      "text/plain": [
       "critic_score_cat\n",
       "не укаазано    33840\n",
       "средняя        21520\n",
       "высокая         6972\n",
       "низкая          3436\n",
       "Name: count, dtype: int64"
      ]
     },
     "execution_count": 71,
     "metadata": {},
     "output_type": "execute_result"
    }
   ],
   "source": [
    "df['critic_score_cat'] = pagri_data_tools.create_category_column(df.critic_score, labels=labels, bins=bins, fillnavalue='не укаазано')\n",
    "df['critic_score_cat'].value_counts(dropna=False)"
   ]
  },
  {
   "cell_type": "code",
   "execution_count": 72,
   "metadata": {},
   "outputs": [
    {
     "data": {
      "text/plain": [
       "user_score_cat\n",
       "не укаазано    35924\n",
       "средняя        17856\n",
       "высокая         9036\n",
       "низкая          2952\n",
       "Name: count, dtype: int64"
      ]
     },
     "execution_count": 72,
     "metadata": {},
     "output_type": "execute_result"
    }
   ],
   "source": [
    "df['user_score_cat'] = pagri_data_tools.create_category_column(df.user_score, labels=labels, bins=bins, fillnavalue='не укаазано')\n",
    "df['user_score_cat'].value_counts(dropna=False)"
   ]
  },
  {
   "cell_type": "markdown",
   "metadata": {},
   "source": [
    "Посмотрим на квантили в столбце продажи."
   ]
  },
  {
   "cell_type": "code",
   "execution_count": 73,
   "metadata": {},
   "outputs": [
    {
     "data": {
      "text/html": [
       "<style type=\"text/css\">\n",
       "#T_2004f caption {\n",
       "  font-size: 15px;\n",
       "}\n",
       "#T_2004f_row0_col0, #T_2004f_row0_col1, #T_2004f_row1_col0, #T_2004f_row1_col1, #T_2004f_row2_col0, #T_2004f_row2_col1, #T_2004f_row3_col0, #T_2004f_row3_col1, #T_2004f_row4_col0, #T_2004f_row4_col1, #T_2004f_row5_col0, #T_2004f_row5_col1, #T_2004f_row6_col0, #T_2004f_row6_col1, #T_2004f_row7_col0, #T_2004f_row7_col1, #T_2004f_row8_col0, #T_2004f_row8_col1, #T_2004f_row9_col0, #T_2004f_row9_col1, #T_2004f_row10_col0, #T_2004f_row10_col1, #T_2004f_row11_col0, #T_2004f_row11_col1 {\n",
       "  text-align: left;\n",
       "}\n",
       "</style>\n",
       "<table id=\"T_2004f\">\n",
       "  <caption>Quantiles</caption>\n",
       "  <thead>\n",
       "  </thead>\n",
       "  <tbody>\n",
       "    <tr>\n",
       "      <td id=\"T_2004f_row0_col0\" class=\"data row0 col0\" >Max</td>\n",
       "      <td id=\"T_2004f_row0_col1\" class=\"data row0 col1\" >41.36</td>\n",
       "    </tr>\n",
       "    <tr>\n",
       "      <td id=\"T_2004f_row1_col0\" class=\"data row1 col0\" >90</td>\n",
       "      <td id=\"T_2004f_row1_col1\" class=\"data row1 col1\" >0.31</td>\n",
       "    </tr>\n",
       "    <tr>\n",
       "      <td id=\"T_2004f_row2_col0\" class=\"data row2 col0\" >80</td>\n",
       "      <td id=\"T_2004f_row2_col1\" class=\"data row2 col1\" >0.13</td>\n",
       "    </tr>\n",
       "    <tr>\n",
       "      <td id=\"T_2004f_row3_col0\" class=\"data row3 col0\" >70</td>\n",
       "      <td id=\"T_2004f_row3_col1\" class=\"data row3 col1\" >0.07</td>\n",
       "    </tr>\n",
       "    <tr>\n",
       "      <td id=\"T_2004f_row4_col0\" class=\"data row4 col0\" >60</td>\n",
       "      <td id=\"T_2004f_row4_col1\" class=\"data row4 col1\" >0.03</td>\n",
       "    </tr>\n",
       "    <tr>\n",
       "      <td id=\"T_2004f_row5_col0\" class=\"data row5 col0\" >50</td>\n",
       "      <td id=\"T_2004f_row5_col1\" class=\"data row5 col1\" >0.01</td>\n",
       "    </tr>\n",
       "    <tr>\n",
       "      <td id=\"T_2004f_row6_col0\" class=\"data row6 col0\" >40</td>\n",
       "      <td id=\"T_2004f_row6_col1\" class=\"data row6 col1\" >0</td>\n",
       "    </tr>\n",
       "    <tr>\n",
       "      <td id=\"T_2004f_row7_col0\" class=\"data row7 col0\" >30</td>\n",
       "      <td id=\"T_2004f_row7_col1\" class=\"data row7 col1\" >0</td>\n",
       "    </tr>\n",
       "    <tr>\n",
       "      <td id=\"T_2004f_row8_col0\" class=\"data row8 col0\" >20</td>\n",
       "      <td id=\"T_2004f_row8_col1\" class=\"data row8 col1\" >0</td>\n",
       "    </tr>\n",
       "    <tr>\n",
       "      <td id=\"T_2004f_row9_col0\" class=\"data row9 col0\" >10</td>\n",
       "      <td id=\"T_2004f_row9_col1\" class=\"data row9 col1\" >0</td>\n",
       "    </tr>\n",
       "    <tr>\n",
       "      <td id=\"T_2004f_row10_col0\" class=\"data row10 col0\" >0</td>\n",
       "      <td id=\"T_2004f_row10_col1\" class=\"data row10 col1\" >0</td>\n",
       "    </tr>\n",
       "    <tr>\n",
       "      <td id=\"T_2004f_row11_col0\" class=\"data row11 col0\" >Min</td>\n",
       "      <td id=\"T_2004f_row11_col1\" class=\"data row11 col1\" >0</td>\n",
       "    </tr>\n",
       "  </tbody>\n",
       "</table>\n"
      ],
      "text/plain": [
       "<pandas.io.formats.style.Styler at 0x7d3bfe5b6a20>"
      ]
     },
     "metadata": {},
     "output_type": "display_data"
    }
   ],
   "source": [
    "pagri_data_tools.quantiles_columns(df.sales, list(np.arange(0, 1, 0.1)))"
   ]
  },
  {
   "cell_type": "markdown",
   "metadata": {},
   "source": [
    "Создадим новую категориальную переменную из количества проданных копий."
   ]
  },
  {
   "cell_type": "code",
   "execution_count": 74,
   "metadata": {},
   "outputs": [
    {
     "data": {
      "text/plain": [
       "avg_score           31568\n",
       "critic_score        33840\n",
       "genre                   0\n",
       "name                    0\n",
       "platform                0\n",
       "rating                  0\n",
       "user_score          35924\n",
       "year_of_release         0\n",
       "region                  0\n",
       "sales                   0\n",
       "critic_score_cat        0\n",
       "user_score_cat          0\n",
       "dtype: int64"
      ]
     },
     "execution_count": 74,
     "metadata": {},
     "output_type": "execute_result"
    }
   ],
   "source": [
    "df.isna().sum()"
   ]
  },
  {
   "cell_type": "code",
   "execution_count": 75,
   "metadata": {},
   "outputs": [
    {
     "data": {
      "text/plain": [
       "sales_cat\n",
       "мало      33093\n",
       "средне    23268\n",
       "много      9407\n",
       "Name: count, dtype: int64"
      ]
     },
     "execution_count": 75,
     "metadata": {},
     "output_type": "execute_result"
    }
   ],
   "source": [
    "labels = ['мало', 'средне', 'много']\n",
    "bins = [-np.inf, 0.01, 0.2, np.inf]\n",
    "df['sales_cat'] = pagri_data_tools.create_category_column(df.sales, labels=labels, bins=bins)\n",
    "df['sales_cat'].value_counts(dropna=False)"
   ]
  },
  {
   "cell_type": "code",
   "execution_count": 76,
   "metadata": {},
   "outputs": [
    {
     "data": {
      "text/html": [
       "\n",
       "            <div style=\"display: flex; justify-content: flex-start; align-items: flex-end;\">\n",
       "                <style type=\"text/css\">\n",
       "#T_604cc caption {\n",
       "  font-size: 16px;\n",
       "  text-align: left;\n",
       "  font-weight: bold;\n",
       "}\n",
       "#T_604cc th {\n",
       "  min-width: 100px;\n",
       "}\n",
       "#T_604cc  td {\n",
       "  min-width: 100px;\n",
       "}\n",
       "#T_604cc_row0_col0, #T_604cc_row0_col1, #T_604cc_row0_col2, #T_604cc_row0_col3, #T_604cc_row1_col0, #T_604cc_row1_col1, #T_604cc_row1_col2, #T_604cc_row1_col3, #T_604cc_row2_col0, #T_604cc_row2_col1, #T_604cc_row2_col2, #T_604cc_row2_col3, #T_604cc_row3_col0, #T_604cc_row3_col1, #T_604cc_row3_col2, #T_604cc_row3_col3, #T_604cc_row4_col0, #T_604cc_row4_col1, #T_604cc_row4_col2, #T_604cc_row4_col3, #T_604cc_row5_col0, #T_604cc_row5_col1, #T_604cc_row5_col2, #T_604cc_row5_col3, #T_604cc_row6_col0, #T_604cc_row6_col1, #T_604cc_row6_col2, #T_604cc_row6_col3 {\n",
       "  text-align: left;\n",
       "}\n",
       "</style>\n",
       "<table id=\"T_604cc\">\n",
       "  <caption>Статистика и топ-10 значений столбца \"sales_cat\"</caption>\n",
       "  <thead>\n",
       "  </thead>\n",
       "  <tbody>\n",
       "    <tr>\n",
       "      <td id=\"T_604cc_row0_col0\" class=\"data row0 col0\" >Values</td>\n",
       "      <td id=\"T_604cc_row0_col1\" class=\"data row0 col1\" >65 768 (100%)</td>\n",
       "      <td id=\"T_604cc_row0_col2\" class=\"data row0 col2\" >                              </td>\n",
       "      <td id=\"T_604cc_row0_col3\" class=\"data row0 col3\" >мало (50%)</td>\n",
       "    </tr>\n",
       "    <tr>\n",
       "      <td id=\"T_604cc_row1_col0\" class=\"data row1 col0\" >Missing</td>\n",
       "      <td id=\"T_604cc_row1_col1\" class=\"data row1 col1\" >---</td>\n",
       "      <td id=\"T_604cc_row1_col2\" class=\"data row1 col2\" >                              </td>\n",
       "      <td id=\"T_604cc_row1_col3\" class=\"data row1 col3\" >средне (35%)</td>\n",
       "    </tr>\n",
       "    <tr>\n",
       "      <td id=\"T_604cc_row2_col0\" class=\"data row2 col0\" >Distinct</td>\n",
       "      <td id=\"T_604cc_row2_col1\" class=\"data row2 col1\" >3 (<1%)</td>\n",
       "      <td id=\"T_604cc_row2_col2\" class=\"data row2 col2\" >                              </td>\n",
       "      <td id=\"T_604cc_row2_col3\" class=\"data row2 col3\" >много (14%)</td>\n",
       "    </tr>\n",
       "    <tr>\n",
       "      <td id=\"T_604cc_row3_col0\" class=\"data row3 col0\" >Duplicated origin</td>\n",
       "      <td id=\"T_604cc_row3_col1\" class=\"data row3 col1\" >65 765 (99.9%)</td>\n",
       "      <td id=\"T_604cc_row3_col2\" class=\"data row3 col2\" >                              </td>\n",
       "      <td id=\"T_604cc_row3_col3\" class=\"data row3 col3\" ></td>\n",
       "    </tr>\n",
       "    <tr>\n",
       "      <td id=\"T_604cc_row4_col0\" class=\"data row4 col0\" >Dupl (modify - origin)</td>\n",
       "      <td id=\"T_604cc_row4_col1\" class=\"data row4 col1\" >---</td>\n",
       "      <td id=\"T_604cc_row4_col2\" class=\"data row4 col2\" >                              </td>\n",
       "      <td id=\"T_604cc_row4_col3\" class=\"data row4 col3\" ></td>\n",
       "    </tr>\n",
       "    <tr>\n",
       "      <td id=\"T_604cc_row5_col0\" class=\"data row5 col0\" >Empty</td>\n",
       "      <td id=\"T_604cc_row5_col1\" class=\"data row5 col1\" >---</td>\n",
       "      <td id=\"T_604cc_row5_col2\" class=\"data row5 col2\" >                              </td>\n",
       "      <td id=\"T_604cc_row5_col3\" class=\"data row5 col3\" ></td>\n",
       "    </tr>\n",
       "    <tr>\n",
       "      <td id=\"T_604cc_row6_col0\" class=\"data row6 col0\" >RAM (Mb)</td>\n",
       "      <td id=\"T_604cc_row6_col1\" class=\"data row6 col1\" ><1 Mb</td>\n",
       "      <td id=\"T_604cc_row6_col2\" class=\"data row6 col2\" >                              </td>\n",
       "      <td id=\"T_604cc_row6_col3\" class=\"data row6 col3\" ></td>\n",
       "    </tr>\n",
       "  </tbody>\n",
       "</table>\n",
       "\n",
       "                <div>\n",
       "                    <img src=\"data:image/png;base64,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\" alt=\"График\"/>\n",
       "                </div>\n",
       "                      \n",
       "            </div>\n",
       "            "
      ],
      "text/plain": [
       "<IPython.core.display.HTML object>"
      ]
     },
     "metadata": {},
     "output_type": "display_data"
    }
   ],
   "source": [
    "gen = pagri_data_tools.info_gen(df, column='sales_cat', mode='column')\n",
    "gen.next()"
   ]
  },
  {
   "cell_type": "markdown",
   "metadata": {},
   "source": [
    "### Промежуточный вывод\n"
   ]
  },
  {
   "cell_type": "markdown",
   "metadata": {},
   "source": [
    "- Объеденили продажи в одну числовую переменную и создадили категориальную переменную region.\n",
    "- Для оценок критиков и пользователей создадим новые категориальные переменные.\n",
    "- Создали новую категориальную переменную из количества проданных копий.\n",
    "- Создали новую числовую переменную из оценок пользователей и оценок критиков, усреднив их.\n",
    "- Средняя оценка лежит в диапазоне от 2 до 97.\n",
    "- В основном средняя оценка находится в диапазон от 62 до 79."
   ]
  },
  {
   "cell_type": "markdown",
   "metadata": {},
   "source": [
    "## Визуализация взаимосвязей переменных\n"
   ]
  },
  {
   "cell_type": "markdown",
   "metadata": {},
   "source": [
    "### Сравнительный анализ распределений числовых переменных по категориям"
   ]
  },
  {
   "cell_type": "code",
   "execution_count": 271,
   "metadata": {},
   "outputs": [
    {
     "data": {
      "text/html": [
       "<div>                            <div id=\"92e09a87-055a-408f-bac2-b21a6369b569\" class=\"plotly-graph-div\" style=\"height:525px; width:100%;\"></div>            <script type=\"text/javascript\">                require([\"plotly\"], function(Plotly) {                    window.PLOTLYENV=window.PLOTLYENV || {};                                    if (document.getElementById(\"92e09a87-055a-408f-bac2-b21a6369b569\")) {                    Plotly.newPlot(                        \"92e09a87-055a-408f-bac2-b21a6369b569\",                        [{\"line\":{\"color\":\"rgb(127, 60, 141)\",\"width\":3},\"mode\":\"lines\",\"name\":\"Action\",\"opacity\":0.6,\"x\":[30.0,30.0,33.25,33.25,36.5,36.5,39.75,39.75,43.0,43.0,46.25,46.25,49.5,49.5,52.75,52.75,56.0,56.0,59.25,59.25,62.5,62.5,65.75,65.75,69.0,69.0,72.25,72.25,75.5,75.5,78.75,78.75,82.0,82.0,85.25,85.25,88.5,88.5,91.75,91.75,95.0,95.0],\"y\":[0,0.8564231738035265,0.8564231738035265,0.654911838790932,0.654911838790932,0.7556675062972292,0.7556675062972292,1.309823677581864,1.309823677581864,2.115869017632242,2.115869017632242,2.4181360201511333,2.4181360201511333,3.828715365239295,3.828715365239295,4.534005037783375,4.534005037783375,6.448362720403022,6.448362720403022,6.045340050377834,6.045340050377834,9.118387909319898,9.118387909319898,8.312342569269521,8.312342569269521,11.788413098236775,11.788413098236775,9.672544080604533,9.672544080604533,10.226700251889168,10.226700251889168,8.614609571788414,8.614609571788414,7.204030226700252,7.204030226700252,2.619647355163728,2.619647355163728,2.6700251889168762,2.6700251889168762,0.8060453400503778,0.8060453400503778,0.0],\"type\":\"scatter\",\"hovertemplate\":\"\\u0417\\u043d\\u0430\\u0447\\u0435\\u043d\\u0438\\u0435 = %{x}\\u003cbr\\u003e\\u0427\\u0430\\u0441\\u0442\\u043e\\u0442\\u0430 = %{y:.2f}\\u003cextra\\u003e\\u003c\\u002fextra\\u003e\"},{\"line\":{\"color\":\"rgb(17, 165, 121)\",\"width\":3},\"mode\":\"lines\",\"name\":\"Sports\",\"opacity\":0.6,\"x\":[24.0,24.0,27.4,27.4,30.8,30.8,34.2,34.2,37.6,37.6,41.0,41.0,44.4,44.4,47.8,47.8,51.2,51.2,54.599999999999994,54.599999999999994,58.0,58.0,61.4,61.4,64.8,64.8,68.19999999999999,68.19999999999999,71.6,71.6,75.0,75.0,78.4,78.4,81.8,81.8,85.19999999999999,85.19999999999999,88.6,88.6,92.0,92.0],\"y\":[0,0.39032006245121,0.39032006245121,0.78064012490242,0.78064012490242,1.014832162373146,1.014832162373146,1.014832162373146,1.014832162373146,1.092896174863388,1.092896174863388,1.873536299765808,1.873536299765808,1.639344262295082,1.639344262295082,2.3419203747072603,2.3419203747072603,2.6541764246682282,2.6541764246682282,4.371584699453552,4.371584699453552,5.386416861826698,5.386416861826698,5.3083528493364565,5.3083528493364565,8.899297423887589,8.899297423887589,10.304449648711945,10.304449648711945,8.899297423887589,8.899297423887589,12.88056206088993,12.88056206088993,11.553473848555816,11.553473848555816,10.304449648711945,10.304449648711945,7.41608118657299,7.41608118657299,1.873536299765808,1.873536299765808,0.0],\"type\":\"scatter\",\"hovertemplate\":\"\\u0417\\u043d\\u0430\\u0447\\u0435\\u043d\\u0438\\u0435 = %{x}\\u003cbr\\u003e\\u0427\\u0430\\u0441\\u0442\\u043e\\u0442\\u0430 = %{y:.2f}\\u003cextra\\u003e\\u003c\\u002fextra\\u003e\"},{\"line\":{\"color\":\"#03A9F4\",\"width\":3},\"mode\":\"lines\",\"name\":\"Misc\",\"opacity\":0.6,\"x\":[27.0,27.0,30.25,30.25,33.5,33.5,36.75,36.75,40.0,40.0,43.25,43.25,46.5,46.5,49.75,49.75,53.0,53.0,56.25,56.25,59.5,59.5,62.75,62.75,66.0,66.0,69.25,69.25,72.5,72.5,75.75,75.75,79.0,79.0,82.25,82.25,85.5,85.5,88.75,88.75,92.0,92.0],\"y\":[0,0.9140767824497258,0.9140767824497258,0.7312614259597806,0.7312614259597806,1.0968921389396709,1.0968921389396709,0.7312614259597806,0.7312614259597806,1.6453382084095063,1.6453382084095063,2.376599634369287,2.376599634369287,2.1937842778793417,2.1937842778793417,4.570383912248629,4.570383912248629,5.118829981718465,5.118829981718465,5.850091407678245,5.850091407678245,5.850091407678245,5.850091407678245,6.581352833638025,6.581352833638025,12.431444241316271,12.431444241316271,9.506398537477148,9.506398537477148,11.517367458866545,11.517367458866545,9.689213893967093,9.689213893967093,10.054844606946983,10.054844606946983,5.301645338208409,5.301645338208409,3.2906764168190126,3.2906764168190126,0.5484460694698354,0.5484460694698354,0.0],\"type\":\"scatter\",\"hovertemplate\":\"\\u0417\\u043d\\u0430\\u0447\\u0435\\u043d\\u0438\\u0435 = %{x}\\u003cbr\\u003e\\u0427\\u0430\\u0441\\u0442\\u043e\\u0442\\u0430 = %{y:.2f}\\u003cextra\\u003e\\u003c\\u002fextra\\u003e\"}],                        {\"template\":{\"data\":{\"barpolar\":[{\"marker\":{\"line\":{\"color\":\"white\",\"width\":0.5},\"pattern\":{\"fillmode\":\"overlay\",\"size\":10,\"solidity\":0.2}},\"type\":\"barpolar\"}],\"bar\":[{\"error_x\":{\"color\":\"rgb(36,36,36)\"},\"error_y\":{\"color\":\"rgb(36,36,36)\"},\"marker\":{\"line\":{\"color\":\"white\",\"width\":0.5},\"pattern\":{\"fillmode\":\"overlay\",\"size\":10,\"solidity\":0.2}},\"type\":\"bar\"}],\"carpet\":[{\"aaxis\":{\"endlinecolor\":\"rgb(36,36,36)\",\"gridcolor\":\"white\",\"linecolor\":\"white\",\"minorgridcolor\":\"white\",\"startlinecolor\":\"rgb(36,36,36)\"},\"baxis\":{\"endlinecolor\":\"rgb(36,36,36)\",\"gridcolor\":\"white\",\"linecolor\":\"white\",\"minorgridcolor\":\"white\",\"startlinecolor\":\"rgb(36,36,36)\"},\"type\":\"carpet\"}],\"choropleth\":[{\"colorbar\":{\"outlinewidth\":1,\"tickcolor\":\"rgb(36,36,36)\",\"ticks\":\"outside\"},\"type\":\"choropleth\"}],\"contourcarpet\":[{\"colorbar\":{\"outlinewidth\":1,\"tickcolor\":\"rgb(36,36,36)\",\"ticks\":\"outside\"},\"type\":\"contourcarpet\"}],\"contour\":[{\"colorbar\":{\"outlinewidth\":1,\"tickcolor\":\"rgb(36,36,36)\",\"ticks\":\"outside\"},\"colorscale\":[[0.0,\"#440154\"],[0.1111111111111111,\"#482878\"],[0.2222222222222222,\"#3e4989\"],[0.3333333333333333,\"#31688e\"],[0.4444444444444444,\"#26828e\"],[0.5555555555555556,\"#1f9e89\"],[0.6666666666666666,\"#35b779\"],[0.7777777777777778,\"#6ece58\"],[0.8888888888888888,\"#b5de2b\"],[1.0,\"#fde725\"]],\"type\":\"contour\"}],\"heatmapgl\":[{\"colorbar\":{\"outlinewidth\":1,\"tickcolor\":\"rgb(36,36,36)\",\"ticks\":\"outside\"},\"colorscale\":[[0.0,\"#440154\"],[0.1111111111111111,\"#482878\"],[0.2222222222222222,\"#3e4989\"],[0.3333333333333333,\"#31688e\"],[0.4444444444444444,\"#26828e\"],[0.5555555555555556,\"#1f9e89\"],[0.6666666666666666,\"#35b779\"],[0.7777777777777778,\"#6ece58\"],[0.8888888888888888,\"#b5de2b\"],[1.0,\"#fde725\"]],\"type\":\"heatmapgl\"}],\"heatmap\":[{\"colorbar\":{\"outlinewidth\":1,\"tickcolor\":\"rgb(36,36,36)\",\"ticks\":\"outside\"},\"colorscale\":[[0.0,\"#440154\"],[0.1111111111111111,\"#482878\"],[0.2222222222222222,\"#3e4989\"],[0.3333333333333333,\"#31688e\"],[0.4444444444444444,\"#26828e\"],[0.5555555555555556,\"#1f9e89\"],[0.6666666666666666,\"#35b779\"],[0.7777777777777778,\"#6ece58\"],[0.8888888888888888,\"#b5de2b\"],[1.0,\"#fde725\"]],\"type\":\"heatmap\"}],\"histogram2dcontour\":[{\"colorbar\":{\"outlinewidth\":1,\"tickcolor\":\"rgb(36,36,36)\",\"ticks\":\"outside\"},\"colorscale\":[[0.0,\"#440154\"],[0.1111111111111111,\"#482878\"],[0.2222222222222222,\"#3e4989\"],[0.3333333333333333,\"#31688e\"],[0.4444444444444444,\"#26828e\"],[0.5555555555555556,\"#1f9e89\"],[0.6666666666666666,\"#35b779\"],[0.7777777777777778,\"#6ece58\"],[0.8888888888888888,\"#b5de2b\"],[1.0,\"#fde725\"]],\"type\":\"histogram2dcontour\"}],\"histogram2d\":[{\"colorbar\":{\"outlinewidth\":1,\"tickcolor\":\"rgb(36,36,36)\",\"ticks\":\"outside\"},\"colorscale\":[[0.0,\"#440154\"],[0.1111111111111111,\"#482878\"],[0.2222222222222222,\"#3e4989\"],[0.3333333333333333,\"#31688e\"],[0.4444444444444444,\"#26828e\"],[0.5555555555555556,\"#1f9e89\"],[0.6666666666666666,\"#35b779\"],[0.7777777777777778,\"#6ece58\"],[0.8888888888888888,\"#b5de2b\"],[1.0,\"#fde725\"]],\"type\":\"histogram2d\"}],\"histogram\":[{\"marker\":{\"line\":{\"color\":\"white\",\"width\":0.6}},\"type\":\"histogram\"}],\"mesh3d\":[{\"colorbar\":{\"outlinewidth\":1,\"tickcolor\":\"rgb(36,36,36)\",\"ticks\":\"outside\"},\"type\":\"mesh3d\"}],\"parcoords\":[{\"line\":{\"colorbar\":{\"outlinewidth\":1,\"tickcolor\":\"rgb(36,36,36)\",\"ticks\":\"outside\"}},\"type\":\"parcoords\"}],\"pie\":[{\"automargin\":true,\"type\":\"pie\"}],\"scatter3d\":[{\"line\":{\"colorbar\":{\"outlinewidth\":1,\"tickcolor\":\"rgb(36,36,36)\",\"ticks\":\"outside\"}},\"marker\":{\"colorbar\":{\"outlinewidth\":1,\"tickcolor\":\"rgb(36,36,36)\",\"ticks\":\"outside\"}},\"type\":\"scatter3d\"}],\"scattercarpet\":[{\"marker\":{\"colorbar\":{\"outlinewidth\":1,\"tickcolor\":\"rgb(36,36,36)\",\"ticks\":\"outside\"}},\"type\":\"scattercarpet\"}],\"scattergeo\":[{\"marker\":{\"colorbar\":{\"outlinewidth\":1,\"tickcolor\":\"rgb(36,36,36)\",\"ticks\":\"outside\"}},\"type\":\"scattergeo\"}],\"scattergl\":[{\"marker\":{\"colorbar\":{\"outlinewidth\":1,\"tickcolor\":\"rgb(36,36,36)\",\"ticks\":\"outside\"}},\"type\":\"scattergl\"}],\"scattermapbox\":[{\"marker\":{\"colorbar\":{\"outlinewidth\":1,\"tickcolor\":\"rgb(36,36,36)\",\"ticks\":\"outside\"}},\"type\":\"scattermapbox\"}],\"scatterpolargl\":[{\"marker\":{\"colorbar\":{\"outlinewidth\":1,\"tickcolor\":\"rgb(36,36,36)\",\"ticks\":\"outside\"}},\"type\":\"scatterpolargl\"}],\"scatterpolar\":[{\"marker\":{\"colorbar\":{\"outlinewidth\":1,\"tickcolor\":\"rgb(36,36,36)\",\"ticks\":\"outside\"}},\"type\":\"scatterpolar\"}],\"scatter\":[{\"fillpattern\":{\"fillmode\":\"overlay\",\"size\":10,\"solidity\":0.2},\"type\":\"scatter\"}],\"scatterternary\":[{\"marker\":{\"colorbar\":{\"outlinewidth\":1,\"tickcolor\":\"rgb(36,36,36)\",\"ticks\":\"outside\"}},\"type\":\"scatterternary\"}],\"surface\":[{\"colorbar\":{\"outlinewidth\":1,\"tickcolor\":\"rgb(36,36,36)\",\"ticks\":\"outside\"},\"colorscale\":[[0.0,\"#440154\"],[0.1111111111111111,\"#482878\"],[0.2222222222222222,\"#3e4989\"],[0.3333333333333333,\"#31688e\"],[0.4444444444444444,\"#26828e\"],[0.5555555555555556,\"#1f9e89\"],[0.6666666666666666,\"#35b779\"],[0.7777777777777778,\"#6ece58\"],[0.8888888888888888,\"#b5de2b\"],[1.0,\"#fde725\"]],\"type\":\"surface\"}],\"table\":[{\"cells\":{\"fill\":{\"color\":\"rgb(237,237,237)\"},\"line\":{\"color\":\"white\"}},\"header\":{\"fill\":{\"color\":\"rgb(217,217,217)\"},\"line\":{\"color\":\"white\"}},\"type\":\"table\"}]},\"layout\":{\"annotationdefaults\":{\"arrowhead\":0,\"arrowwidth\":1},\"autotypenumbers\":\"strict\",\"coloraxis\":{\"colorbar\":{\"outlinewidth\":1,\"tickcolor\":\"rgb(36,36,36)\",\"ticks\":\"outside\"}},\"colorscale\":{\"diverging\":[[0.0,\"rgb(103,0,31)\"],[0.1,\"rgb(178,24,43)\"],[0.2,\"rgb(214,96,77)\"],[0.3,\"rgb(244,165,130)\"],[0.4,\"rgb(253,219,199)\"],[0.5,\"rgb(247,247,247)\"],[0.6,\"rgb(209,229,240)\"],[0.7,\"rgb(146,197,222)\"],[0.8,\"rgb(67,147,195)\"],[0.9,\"rgb(33,102,172)\"],[1.0,\"rgb(5,48,97)\"]],\"sequential\":[[0.0,\"#440154\"],[0.1111111111111111,\"#482878\"],[0.2222222222222222,\"#3e4989\"],[0.3333333333333333,\"#31688e\"],[0.4444444444444444,\"#26828e\"],[0.5555555555555556,\"#1f9e89\"],[0.6666666666666666,\"#35b779\"],[0.7777777777777778,\"#6ece58\"],[0.8888888888888888,\"#b5de2b\"],[1.0,\"#fde725\"]],\"sequentialminus\":[[0.0,\"#440154\"],[0.1111111111111111,\"#482878\"],[0.2222222222222222,\"#3e4989\"],[0.3333333333333333,\"#31688e\"],[0.4444444444444444,\"#26828e\"],[0.5555555555555556,\"#1f9e89\"],[0.6666666666666666,\"#35b779\"],[0.7777777777777778,\"#6ece58\"],[0.8888888888888888,\"#b5de2b\"],[1.0,\"#fde725\"]]},\"colorway\":[\"rgba(128, 60, 170, 0.9)\",\"#049CB3\",\"rgba(112, 155, 219, 0.9)\",\"rgba(99, 113, 156, 0.9)\",\"#5c6bc0\",\"#B690C4\",\"rgba(17, 100, 120, 0.9)\",\"rgba(194, 143, 113, 0.8)\",\"#B690C4\",\"#03A9F4\",\"#8B9467\",\"#a771f2\",\"rgba(102, 204, 204, 0.9)\",\"rgba(168, 70, 90, 0.9)\",\"rgba(50, 152, 103, 0.8)\",\"#8F7A7A\",\"rgba(156, 130, 217, 0.9)\"],\"font\":{\"color\":\"rgb(36,36,36)\"},\"geo\":{\"bgcolor\":\"white\",\"lakecolor\":\"white\",\"landcolor\":\"white\",\"showlakes\":true,\"showland\":true,\"subunitcolor\":\"white\"},\"hoverlabel\":{\"align\":\"left\"},\"hovermode\":\"closest\",\"mapbox\":{\"style\":\"light\"},\"paper_bgcolor\":\"white\",\"plot_bgcolor\":\"white\",\"polar\":{\"angularaxis\":{\"gridcolor\":\"rgb(232,232,232)\",\"linecolor\":\"rgb(36,36,36)\",\"showgrid\":false,\"showline\":true,\"ticks\":\"outside\"},\"bgcolor\":\"white\",\"radialaxis\":{\"gridcolor\":\"rgb(232,232,232)\",\"linecolor\":\"rgb(36,36,36)\",\"showgrid\":false,\"showline\":true,\"ticks\":\"outside\"}},\"scene\":{\"xaxis\":{\"backgroundcolor\":\"white\",\"gridcolor\":\"rgb(232,232,232)\",\"gridwidth\":2,\"linecolor\":\"rgb(36,36,36)\",\"showbackground\":true,\"showgrid\":false,\"showline\":true,\"ticks\":\"outside\",\"zeroline\":false,\"zerolinecolor\":\"rgb(36,36,36)\"},\"yaxis\":{\"backgroundcolor\":\"white\",\"gridcolor\":\"rgb(232,232,232)\",\"gridwidth\":2,\"linecolor\":\"rgb(36,36,36)\",\"showbackground\":true,\"showgrid\":false,\"showline\":true,\"ticks\":\"outside\",\"zeroline\":false,\"zerolinecolor\":\"rgb(36,36,36)\"},\"zaxis\":{\"backgroundcolor\":\"white\",\"gridcolor\":\"rgb(232,232,232)\",\"gridwidth\":2,\"linecolor\":\"rgb(36,36,36)\",\"showbackground\":true,\"showgrid\":false,\"showline\":true,\"ticks\":\"outside\",\"zeroline\":false,\"zerolinecolor\":\"rgb(36,36,36)\"}},\"shapedefaults\":{\"fillcolor\":\"black\",\"line\":{\"width\":0},\"opacity\":0.3},\"ternary\":{\"aaxis\":{\"gridcolor\":\"rgb(232,232,232)\",\"linecolor\":\"rgb(36,36,36)\",\"showgrid\":false,\"showline\":true,\"ticks\":\"outside\"},\"baxis\":{\"gridcolor\":\"rgb(232,232,232)\",\"linecolor\":\"rgb(36,36,36)\",\"showgrid\":false,\"showline\":true,\"ticks\":\"outside\"},\"bgcolor\":\"white\",\"caxis\":{\"gridcolor\":\"rgb(232,232,232)\",\"linecolor\":\"rgb(36,36,36)\",\"showgrid\":false,\"showline\":true,\"ticks\":\"outside\"}},\"title\":{\"x\":0.05},\"xaxis\":{\"automargin\":true,\"gridcolor\":\"rgb(232,232,232)\",\"linecolor\":\"rgb(36,36,36)\",\"showgrid\":false,\"showline\":true,\"ticks\":\"outside\",\"title\":{\"standoff\":15},\"zeroline\":false,\"zerolinecolor\":\"rgb(36,36,36)\"},\"yaxis\":{\"automargin\":true,\"gridcolor\":\"rgb(232,232,232)\",\"linecolor\":\"rgb(36,36,36)\",\"showgrid\":false,\"showline\":true,\"ticks\":\"outside\",\"title\":{\"standoff\":15},\"zeroline\":false,\"zerolinecolor\":\"rgb(36,36,36)\"}}},\"legend\":{\"title\":{\"font\":{\"color\":\"rgba(0, 0, 0, 0.7)\",\"size\":14},\"text\":\"\\u0416\\u0430\\u043d\\u0440\"},\"font\":{\"color\":\"rgba(0, 0, 0, 0.7)\"}},\"title\":{\"text\":\"\\u0413\\u0438\\u0441\\u0442\\u043e\\u0433\\u0440\\u0430\\u043c\\u043c\\u0430 \\u0434\\u043b\\u044f \\u0441\\u0440\\u0435\\u0434\\u043d\\u0435\\u0439 \\u043e\\u0446\\u0435\\u043d\\u043a\\u0438 \\u0432 \\u0437\\u0430\\u0432\\u0438\\u0441\\u0438\\u043c\\u043e\\u0441\\u0442\\u0438 \\u043e\\u0442 \\u0436\\u0430\\u043d\\u0440\\u0430\",\"font\":{\"size\":16,\"color\":\"rgba(0, 0, 0, 0.7)\"}},\"font\":{\"size\":14,\"family\":\"Segoe UI\",\"color\":\"rgba(0, 0, 0, 0.7)\"},\"xaxis\":{\"title\":{\"text\":\"\\u0421\\u0440\\u0435\\u0434\\u043d\\u044f\\u044f \\u043e\\u0446\\u0435\\u043d\\u043a\\u0430\",\"font\":{\"size\":14,\"color\":\"rgba(0, 0, 0, 0.7)\"}},\"tickfont\":{\"size\":14,\"color\":\"rgba(0, 0, 0, 0.7)\"},\"linecolor\":\"rgba(0, 0, 0, 0.4)\",\"tickcolor\":\"rgba(0, 0, 0, 0.4)\",\"visible\":true,\"showgrid\":true,\"gridwidth\":1,\"gridcolor\":\"rgba(0, 0, 0, 0.1)\"},\"yaxis\":{\"title\":{\"text\":\"\\u0427\\u0430\\u0441\\u0442\\u043e\\u0442\\u0430\",\"font\":{\"size\":14,\"color\":\"rgba(0, 0, 0, 0.7)\"}},\"tickfont\":{\"size\":14,\"color\":\"rgba(0, 0, 0, 0.7)\"},\"linecolor\":\"rgba(0, 0, 0, 0.4)\",\"tickcolor\":\"rgba(0, 0, 0, 0.4)\",\"range\":[0,null],\"visible\":true,\"showgrid\":true,\"gridwidth\":1,\"gridcolor\":\"rgba(0, 0, 0, 0.07)\"},\"hoverlabel\":{\"bgcolor\":\"white\"},\"barmode\":\"overlay\"},                        {\"responsive\": true}                    ).then(function(){\n",
       "                            \n",
       "var gd = document.getElementById('92e09a87-055a-408f-bac2-b21a6369b569');\n",
       "var x = new MutationObserver(function (mutations, observer) {{\n",
       "        var display = window.getComputedStyle(gd).display;\n",
       "        if (!display || display === 'none') {{\n",
       "            console.log([gd, 'removed!']);\n",
       "            Plotly.purge(gd);\n",
       "            observer.disconnect();\n",
       "        }}\n",
       "}});\n",
       "\n",
       "// Listen for the removal of the full notebook cells\n",
       "var notebookContainer = gd.closest('#notebook-container');\n",
       "if (notebookContainer) {{\n",
       "    x.observe(notebookContainer, {childList: true});\n",
       "}}\n",
       "\n",
       "// Listen for the clearing of the current output cell\n",
       "var outputEl = gd.closest('.output');\n",
       "if (outputEl) {{\n",
       "    x.observe(outputEl, {childList: true});\n",
       "}}\n",
       "\n",
       "                        })                };                });            </script>        </div>"
      ]
     },
     "metadata": {},
     "output_type": "display_data"
    }
   ],
   "source": [
    "import numpy as np\n",
    "import pandas as pd\n",
    "import plotly.graph_objects as go\n",
    "\n",
    "def histograms_stacked(df, cat_var, num_var, titles_for_axis=None, top_n=5, lower_quantile=0.05, upper_quantile=1\n",
    "                       , bins=20, line_width=5, opacity = 0.5, height=None, width=None):\n",
    "    if not titles_for_axis:\n",
    "        title = f'Гистограмма для {num_var} в зависимости от {cat_var}'\n",
    "        xaxis_title = num_var\n",
    "        yaxis_title = 'Частота'\n",
    "        legend_title = cat_var\n",
    "    else:\n",
    "        title = f'Гистограмма для {titles_for_axis[num_var][1]} в зависимости от {titles_for_axis[cat_var][1]}'\n",
    "        xaxis_title = f'{titles_for_axis[num_var][0]}'\n",
    "        yaxis_title = 'Частота'    \n",
    "        legend_title = f'{titles_for_axis[cat_var][0]}'\n",
    "    # Получение топ N категорий\n",
    "    categories = df[cat_var].value_counts().nlargest(top_n).index.tolist()\n",
    "\n",
    "    # Создание графика\n",
    "    fig = go.Figure()\n",
    "    colors = ['rgb(127, 60, 141)', 'rgb(17, 165, 121)',\n",
    "              '#03A9F4', 'rgb(242, 183, 1)', 'rgb(231, 63, 116)', '#8B9467', '#FFA07A', '#005A5B', \n",
    "              '#66CCCC', '#B690C4']\n",
    "\n",
    "    # Проход по каждой категории и построение гистограммы\n",
    "    for indx, category in enumerate(categories):\n",
    "        data = df[df[cat_var] == category][num_var]\n",
    "        \n",
    "        # Обрезка данных по квантилям\n",
    "        lower_bound = data.quantile(lower_quantile)\n",
    "        upper_bound = data.quantile(upper_quantile)\n",
    "        trimmed_data = data[(data >= lower_bound) & (data <= upper_bound)]\n",
    "\n",
    "        # Вычисление гистограммы\n",
    "        hist_values, bin_edges = np.histogram(trimmed_data, bins=bins)\n",
    "        hist_values = np.append(hist_values, 0)\n",
    "        # Нормирование значений гистограммы в процентах\n",
    "        hist_values_percent = hist_values / hist_values.sum() * 100\n",
    "\n",
    "        # Подготовка данных для ступенчатого графика\n",
    "        x_step = []\n",
    "        y_step = []\n",
    "\n",
    "        for i in range(len(hist_values_percent)):\n",
    "            x_step.append(bin_edges[i])  # Точка на оси X\n",
    "            y_step.append(0 if i == 0 else hist_values_percent[i-1])  # Если первая точка, то 0, иначе - предыдущее значение\n",
    "            x_step.append(bin_edges[i])  # Точка на оси X для вертикального подъема\n",
    "            y_step.append(hist_values_percent[i])  # Значение гистограммы\n",
    "\n",
    "        # Добавление линии ступеней на график\n",
    "        fig.add_trace(go.Scatter(\n",
    "            x=x_step,\n",
    "            y=y_step,\n",
    "            mode='lines',\n",
    "            name=str(category),\n",
    "            line=dict(width=line_width, color=colors[indx % len(colors)]),\n",
    "            opacity=opacity  # Установка прозрачности\n",
    "        ))\n",
    "\n",
    "    # Настройка графика\n",
    "    fig.update_traces(\n",
    "        hovertemplate='Значение = %{x}<br>Частота = %{y:.2f}<extra></extra>')\n",
    "    # Отображение графика\n",
    "    fig.update_layout(\n",
    "        xaxis_title=xaxis_title,\n",
    "        yaxis_title=yaxis_title,\n",
    "        legend_title_text=legend_title,\n",
    "        barmode='overlay',\n",
    "        height=height,\n",
    "        width=width,\n",
    "        title=title,\n",
    "        # Для подписей и меток\n",
    "        title_font=dict(size=16, color=\"rgba(0, 0, 0, 0.7)\"),     \n",
    "        font=dict(size=14, family=\"Segoe UI\", color=\"rgba(0, 0, 0, 0.7)\"),\n",
    "        xaxis_title_font=dict(size=14, color=\"rgba(0, 0, 0, 0.7)\"),\n",
    "        yaxis_title_font=dict(size=14, color=\"rgba(0, 0, 0, 0.7)\"),\n",
    "        xaxis_tickfont=dict(size=14, color=\"rgba(0, 0, 0, 0.7)\"),\n",
    "        yaxis_tickfont=dict(size=14, color=\"rgba(0, 0, 0, 0.7)\"),\n",
    "        xaxis_linecolor=\"rgba(0, 0, 0, 0.4)\",\n",
    "        yaxis_linecolor=\"rgba(0, 0, 0, 0.4)\", \n",
    "        xaxis_tickcolor=\"rgba(0, 0, 0, 0.4)\",\n",
    "        yaxis_tickcolor=\"rgba(0, 0, 0, 0.4)\",  \n",
    "        legend_title_font_color='rgba(0, 0, 0, 0.7)',\n",
    "        legend_title_font_size = 14,\n",
    "        legend_font_color='rgba(0, 0, 0, 0.7)',\n",
    "        hoverlabel=dict(bgcolor=\"white\"),\n",
    "        xaxis=dict(\n",
    "            visible=True, showgrid=True, gridwidth=1, gridcolor=\"rgba(0, 0, 0, 0.1)\"\n",
    "        ), yaxis=dict(\n",
    "            range=[0, None], visible=True, showgrid=True, gridwidth=1, gridcolor=\"rgba(0, 0, 0, 0.07)\"\n",
    "        ),          \n",
    "    )\n",
    "    return fig\n",
    "titles_for_axis = dict(\n",
    "    # numeric column ['Именительный падеж', 'для кого / чего']\n",
    "    avg_score = ['Средняя оценка', 'средней оценки']\n",
    "    # categorical column ['Именительный падеж', 'для кого / чего']\n",
    "    # Распределение долей по городу и тарифу с нормализацией по городу\n",
    "    , genre = ['Жанр', 'жанра']\n",
    ")\n",
    "histograms_stacked(df, 'genre', 'avg_score', titles_for_axis=titles_for_axis, top_n=3, lower_quantile=0.01, upper_quantile=1, bins=20, line_width=3, opacity = 0.6)"
   ]
  },
  {
   "cell_type": "code",
   "execution_count": null,
   "metadata": {},
   "outputs": [],
   "source": []
  },
  {
   "cell_type": "code",
   "execution_count": null,
   "metadata": {},
   "outputs": [],
   "source": []
  },
  {
   "cell_type": "code",
   "execution_count": null,
   "metadata": {},
   "outputs": [],
   "source": [
    "import numpy as np\n",
    "import pandas as pd\n",
    "import plotly.graph_objects as go\n",
    "\n",
    "def plot_histograms(df, num_var, cat_var, bins=30, lower_quantile=0.0, upper_quantile=1.0, step=True):\n",
    "    \"\"\"\n",
    "    Строит наложенные гистограммы (ступенчатые или обычные) для числовой и категориальной переменной.\n",
    "    \n",
    "    :param df: DataFrame, содержащий данные\n",
    "    :param num_var: строка, имя числовой переменной\n",
    "    :param cat_var: строка, имя категориальной переменной\n",
    "    :param bins: количество бинов для гистограммы\n",
    "    :param lower_quantile: нижний квантиль для обрезания (по умолчанию 0.0)\n",
    "    :param upper_quantile: верхний квантиль для обрезания (по умолчанию 1.0)\n",
    "    :param step: если True, строит ступенчатую гистограмму, если False — обычную\n",
    "    \"\"\"\n",
    "    # Уникальные значения категориальной переменной\n",
    "    categories = df[cat_var].unique()\n",
    "    \n",
    "    # Создание графика\n",
    "    fig = go.Figure()\n",
    "    colors = ['rgb(127, 60, 141)', 'rgb(17, 165, 121)', 'rgb(231, 63, 116)',\n",
    "                        '#03A9F4', 'rgb(242, 183, 1)', '#8B9467', '#FFA07A', '#005A5B', '#66CCCC', '#B690C4', 'rgb(127, 60, 141)', 'rgb(17, 165, 121)', 'rgb(231, 63, 116)',\n",
    "                        '#03A9F4', 'rgb(242, 183, 1)', '#8B9467', '#FFA07A', '#005A5B', '#66CCCC', '#B690C4']\n",
    "    # Проход по каждой категории и построение гистограммы\n",
    "    for indx, category in enumerate(categories):\n",
    "        data = df[df[cat_var] == category][num_var]\n",
    "        \n",
    "        # Обрезка данных по квантилям\n",
    "        lower_bound = data.quantile(lower_quantile)\n",
    "        upper_bound = data.quantile(upper_quantile)\n",
    "        trimmed_data = data[(data >= lower_bound) & (data <= upper_bound)]\n",
    "        \n",
    "        # Вычисление гистограммы\n",
    "        hist_values, bin_edges = np.histogram(trimmed_data, bins=bins)\n",
    "\n",
    "        if step:\n",
    "            # Подготовка данных для ступенчатого графика\n",
    "            x_step = []\n",
    "            y_step = []\n",
    "\n",
    "            for i in range(len(hist_values)):\n",
    "                x_step.append(bin_edges[i])  # Точка на оси X\n",
    "                y_step.append(0 if i == 0 else hist_values[i-1])  # Если первая точка, то 0, иначе - предыдущее значение\n",
    "                x_step.append(bin_edges[i])  # Точка на оси X для вертикального подъема\n",
    "                y_step.append(hist_values[i])  # Значение гистограммы\n",
    "\n",
    "            # Добавление линии ступеней на график\n",
    "            fig.add_trace(go.Scatter(\n",
    "                x=x_step,\n",
    "                y=y_step,\n",
    "                mode='lines',\n",
    "                name=str(category),\n",
    "                line=dict(width=2, color=colors[indx % len(colors)])  # Использование цвета из списка\n",
    "                # line=dict(width=2, color=colors[indx % len(colors)], shape='hvh')  # Использование цвета из списка\n",
    "            ))\n",
    "        else:\n",
    "            # Добавление обычной гистограммы на график\n",
    "            fig.add_trace(go.Histogram(\n",
    "                x=trimmed_data,\n",
    "                name=str(category),\n",
    "                opacity=0.5,\n",
    "                histnorm='probability density',\n",
    "                # marker_color=colors[indx % len(colors)]  # Использование цвета из списка\n",
    "                # marker=dict(\n",
    "                #     color='blue',  # Цвет заливки\n",
    "                #     line=dict(\n",
    "                #         color='red',  # Цвет границы\n",
    "                #         width=2       # Ширина границы\n",
    "                #     )\n",
    "                # )                \n",
    "            ))\n",
    "    # Настройка графика\n",
    "    fig.update_layout(title='Наложенные гистограммы',\n",
    "                      xaxis_title='Значение',\n",
    "                      yaxis_title='Частота',\n",
    "                      barmode='overlay')  # Наложение графиков\n",
    "\n",
    "    # Отображение графика\n",
    "    fig.show()\n",
    "\n",
    "# Вызов функции с обрезанием по нижнему и верхнему квантилям и ступенчатой гистограммой\n",
    "# plot_histograms(df, 'avg_score', 'genre', lower_quantile=0, upper_quantile=0.75, step=False)\n",
    "\n",
    "# Вызов функции с обычной гистограммой\n",
    "# plot_histograms(df, 'sales', 'region', lower_quantile=0, upper_quantile=0.75, step=False)"
   ]
  },
  {
   "cell_type": "code",
   "execution_count": 81,
   "metadata": {},
   "outputs": [
    {
     "data": {
      "text/plain": [
       "['Action', 'Sports', 'Misc']"
      ]
     },
     "execution_count": 81,
     "metadata": {},
     "output_type": "execute_result"
    }
   ],
   "source": [
    "df.genre.value_counts()[:3].index.tolist()"
   ]
  },
  {
   "cell_type": "code",
   "execution_count": null,
   "metadata": {},
   "outputs": [],
   "source": [
    "# дискретный\n",
    "px.colors.qualitative.swatches()"
   ]
  },
  {
   "cell_type": "code",
   "execution_count": null,
   "metadata": {},
   "outputs": [],
   "source": [
    "px.box(df, x='avg_score', color='genre', notched=True)"
   ]
  },
  {
   "cell_type": "code",
   "execution_count": 470,
   "metadata": {},
   "outputs": [],
   "source": [
    "lower_bound = df.sales.quantile(0)\n",
    "upper_bound = df.sales.quantile(0.75)\n",
    "trimmed_data = df[(df.sales >= lower_bound) & (df.sales <= upper_bound)]\n",
    "# trimmed_data.sales.plot.hist(alpha=0.5)\n",
    "# trimmed_data.groupby('region')['sales'].plot(kind='hist', histtype='step',alpha=1, linewidth=3);"
   ]
  },
  {
   "cell_type": "markdown",
   "metadata": {},
   "source": [
    "Берем каждую числовую переменную и строим накладывающиеся гистограммы для всех категорий.  \n",
    "И так повторяем для всех числовых переменных."
   ]
  },
  {
   "cell_type": "markdown",
   "metadata": {},
   "source": [
    "### Исследование корреляционных связей"
   ]
  },
  {
   "cell_type": "markdown",
   "metadata": {},
   "source": [
    "Следим за правильным порядком переменных полученных из времени"
   ]
  },
  {
   "cell_type": "markdown",
   "metadata": {},
   "source": [
    "Чтобы подготовить title_for_axis, пишем ии так  "
   ]
  },
  {
   "cell_type": "markdown",
   "metadata": {},
   "source": [
    "запомни - total_images = ['Число фотографий', 'числа фотографий', 0], - тут первый элемент списка это общая форма и с большой буквы, второй элемент это форма первого элемента при ответе на вопрос Чего и третий элеент списка это род элемента (0 - средний род, 1 - мужской род, 2 женский род) понятно?  "
   ]
  },
  {
   "cell_type": "markdown",
   "metadata": {},
   "source": [
    "и далее даем список нужных названий колонок в таком виде "
   ]
  },
  {
   "cell_type": "markdown",
   "metadata": {},
   "source": [
    "Для корреляций достаточно просто указать название без рода и склонения"
   ]
  },
  {
   "cell_type": "markdown",
   "metadata": {},
   "source": [
    "Сормируем словарь для подписей осей и названий графиков."
   ]
  },
  {
   "cell_type": "code",
   "execution_count": null,
   "metadata": {},
   "outputs": [],
   "source": [
    "\n",
    "titles_for_axis= dict(\n",
    "        total_images = 'числа фотографий',\n",
    "        last_price = 'цена',\n",
    "        total_area = 'общая площадь',\n",
    "        rooms = 'число комнат',\n",
    "        ceiling_height = 'высота потолков',\n",
    "        floors_total = 'всего этажей',\n",
    "        living_area = 'жилая площадь',\n",
    "        floor = 'этаж'\n",
    ")"
   ]
  },
  {
   "cell_type": "markdown",
   "metadata": {},
   "source": [
    "ВАЖНО  \n",
    "проверить, что все категориальные переменные по прежнему имеют категориальный тип, чтобы при анализе они не поетрялись"
   ]
  },
  {
   "cell_type": "code",
   "execution_count": null,
   "metadata": {},
   "outputs": [],
   "source": [
    "df.dtypes"
   ]
  },
  {
   "cell_type": "code",
   "execution_count": null,
   "metadata": {},
   "outputs": [],
   "source": [
    "for key, df in dict(\n",
    "            df_users = df_users\n",
    "            , df_calls = df_calls\n",
    "            , df_messages = df_messages\n",
    "            , df_internet = df_internet\n",
    "            , df_tariffs = df_tariffs\n",
    "            , df_calls_full = df_calls_full\n",
    "            , df_messages_full = df_messages_full\n",
    "            , df_internet_full = df_internet_full\n",
    "            , df_by_userid_month = df_by_userid_month\n",
    "            , df_arpu = df_arpu).items():\n",
    "    print(key)\n",
    "    display(df.dtypes)"
   ]
  },
  {
   "cell_type": "markdown",
   "metadata": {},
   "source": [
    ">Топ n значений одного столбца по значениям в другом\n",
    ">Сделать функцию, чтобы в столбцах, где бльше 20 уникльных значений посмотреть топ n значений по другой колонке.  \n",
    ">Например, топ 10 покупателей по сумме покупок и прочее.  \n",
    ">Идея в том, что если  в столбце до 20 уникальных значений, то мы проанализируем комбинации с другими стобцами на графиках.  \n",
    ">А вот если у нас столбец не числовой и в нем больше 20 уникальных значений, то на графике мы не сможем понять топ n."
   ]
  },
  {
   "cell_type": "markdown",
   "metadata": {},
   "source": [
    ">Изучаем топ n значений в категориальных столбцах датафрейма, где значений больше порогового, по значению в столбце value_column.  \n",
    ">Тут можно делать разные топы, использовать разные функции.  \n",
    ">Задача изучить то, что мы не сможем изучить на графиках из-за болшого количества занчений в категориальной переменной,  \n",
    ">поэтому мы берем топ n значений.  "
   ]
  },
  {
   "cell_type": "code",
   "execution_count": null,
   "metadata": {},
   "outputs": [],
   "source": [
    "gen = pagri_data_tools.top_n_values_gen()\n",
    "next(gen)"
   ]
  },
  {
   "cell_type": "markdown",
   "metadata": {},
   "source": [
    ">Чтобы сравнить метрики между собой мы можем\n",
    "- использовать корреляционный анализ (Пирсена, Спирмена, Кенделла)\n"
   ]
  },
  {
   "cell_type": "markdown",
   "metadata": {},
   "source": [
    ">`heatmap_corr(df)`"
   ]
  },
  {
   "cell_type": "markdown",
   "metadata": {},
   "source": [
    "( r = 1 ): Полная положительная линейная зависимость.  \n",
    "( 0.7 < r < 1 ): Сильная положительная линейная зависимость.  \n",
    "( 0.3 < r \\leq 0.7 ): Умеренная положительная линейная зависимость.  "
   ]
  },
  {
   "cell_type": "markdown",
   "metadata": {},
   "source": [
    "Если числовых переменных не много и они входят на один график, то просто строим график"
   ]
  },
  {
   "cell_type": "code",
   "execution_count": null,
   "metadata": {},
   "outputs": [],
   "source": [
    "pagri_data_tools.heatmap_corr(df)"
   ]
  },
  {
   "cell_type": "markdown",
   "metadata": {},
   "source": [
    "Лучше лишние ячейки убирать, если есть возможность "
   ]
  },
  {
   "cell_type": "code",
   "execution_count": null,
   "metadata": {},
   "outputs": [],
   "source": [
    "pagri_data_tools.heatmap_corr(df_by_userid_month[['sessions_per_day', 'calls_per_day']])"
   ]
  },
  {
   "cell_type": "markdown",
   "metadata": {},
   "source": [
    "Если нужно быстро просмотреть, то проганяем в цикле"
   ]
  },
  {
   "cell_type": "code",
   "execution_count": null,
   "metadata": {},
   "outputs": [],
   "source": [
    "for key, df in dict(\n",
    "            df_users = df_users\n",
    "            , df_calls = df_calls\n",
    "            , df_messages = df_messages\n",
    "            , df_internet = df_internet\n",
    "            , df_tariffs = df_tariffs\n",
    "            , df_calls_full = df_calls_full\n",
    "            , df_messages_full = df_messages_full\n",
    "            , df_internet_full = df_internet_full\n",
    "            , df_by_userid_month = df_by_userid_month\n",
    "            , df_arpu = df_arpu).items():\n",
    "    print(key)\n",
    "    display(pagri_data_tools.heatmap_corr(df))"
   ]
  },
  {
   "cell_type": "markdown",
   "metadata": {},
   "source": [
    "Если переменных много и нужно разделить на части, то используем эту функцию "
   ]
  },
  {
   "cell_type": "code",
   "execution_count": null,
   "metadata": {},
   "outputs": [],
   "source": [
    "gen = pagri_data_tools.heatmap_corr_gen(df, part_size=10, titles_for_axis=titles_for_axis)\n",
    "next(gen)"
   ]
  },
  {
   "cell_type": "markdown",
   "metadata": {},
   "source": [
    ">Использование регрессии и случайного леса для определения влияния переменных  "
   ]
  },
  {
   "cell_type": "markdown",
   "metadata": {},
   "source": [
    ">Коэффициенты регрессии позволяют оценить влияние каждой переменной на целевую переменную, учитывая влияние других переменных,  \n",
    ">в то время как важные компоненты в случайном лесе позволяют оценить важность каждой переменной для предсказания целевой переменной."
   ]
  },
  {
   "cell_type": "markdown",
   "metadata": {},
   "source": [
    ">Используем регрессиию"
   ]
  },
  {
   "cell_type": "markdown",
   "metadata": {},
   "source": [
    ">Чтобы построить регрессию и посмотреть стат значимость и коэффициенты удобно использовать модуль statsmodel"
   ]
  },
  {
   "cell_type": "markdown",
   "metadata": {},
   "source": [
    ">VIF означает Variance Inflation Factor (Фактор инфляции дисперсии). Это статистическая метрика,   \n",
    ">используемая для обнаружения мультиколлинеарности (сильной корреляции) между предикторами (фичами) в линейной регрессии."
   ]
  },
  {
   "cell_type": "markdown",
   "metadata": {},
   "source": [
    ">Обычно, VIF интерпретируется следующим образом:\n",
    ">\n",
    "- VIF < 5: слабая мультиколлинеарность\n",
    "- 5 ≤ VIF < 10: умеренная мультиколлинеарность\n",
    "- VIF ≥ 10: сильная мультиколлинеарность"
   ]
  },
  {
   "cell_type": "markdown",
   "metadata": {},
   "source": [
    ">\n",
    ">Смотрим R2 (коэффициент детерминации)\n",
    "- использовать коэффициенты у регресси\n",
    ">Мы строим регрессию и смотрим, у каких метрик больше коэффициенты. Таким образом мы поймем какие метрики сильнее зависят с целевой.  \n",
    ">Важно, чтобы независимые переменные некоррелировали по отдельности и вместе (мультиколлиниарность).  \n",
    ">По отдельности смотрим матрицу корреляции.  \n",
    ">Чтобы определить коррелириуют ли вместе, береме независимые переменные,  \n",
    ">и перебираем их выбирая одну из них целевой и смотрим R2.  \n",
    ">Если R2 большой, то значит эта метрика (которая целевая на этом шаге) хорошо описывается другими и ее можно выбросить.\n",
    ">Также не забываем поправки на гетероскедостичность (HC0, HC1, HC2, HC3) в статпакетах.  \n",
    ">Нам нужно ответить на следующие вопросы\n",
    ">    - Влияет ли метрика на целевую?\n",
    ">    Оцениваем коэффициенты в уравнении регресси у каждой метрики.  \n",
    ">    - Как влияет метрика на целевую?\n",
    ">    Смотрим R2 (коэффициент детерминации). И определяем какая часть целевой переменной определяется независимыми метриками.  \n",
    ">    - Коэффициенты при метриках в уравнении статистически значим? При какаом уровне значимости?\n",
    ">    Смотрим в стат пакете p value для каждого коэффициента, что нам говорит значим ли этот коэффициент.  \n",
    ">    То есть мы не просто смотрим его абсолютное значение, а учитываем p value.   \n",
    ">    - Дайте содержательную интерпретацию коэффицентам?\n",
    ">    При увеличении метрики k на 1, целевая метрика увеличивается на $b_{k} * 1$\n",
    ">    То есть нужно перевести коэффициенты в реальное сравнение, насколько увелчисться целевая метрика при изменении определенной метрики на 1\n",
    ">    - Найдите 95 процентный доверительный интервал.\n",
    ">    В стат пакете смотрим значение и оно говорит, что если мы многократно повторим ноши вычисления с новыми данными, то 95 процентов наших  \n",
    ">    полученных коэффицентов будут лежать в этом диапазоне.  "
   ]
  },
  {
   "cell_type": "markdown",
   "metadata": {},
   "source": [
    ">Строим модель и изучаем результат  \n",
    ">`linear_regression_with_vif`"
   ]
  },
  {
   "cell_type": "code",
   "execution_count": null,
   "metadata": {},
   "outputs": [],
   "source": [
    "pagri_data_tools.linear_regression_with_vif()"
   ]
  },
  {
   "cell_type": "markdown",
   "metadata": {},
   "source": [
    ">Испльзовать коэффициенты у классификацию    \n",
    ">Строим случайный лес какие метрики сильнее всего влияют на решения модели.   \n",
    ">`plot_feature_importances_classifier`   \n",
    ">`plot_feature_importances_regression`"
   ]
  },
  {
   "cell_type": "markdown",
   "metadata": {},
   "source": [
    ">Тут нужно подумать как использовать категориальные переменные тоже   \n",
    ">Нужно их перевести в one hot encoding или подобное, чтобы также проверить силу их влияния на целевую перменную"
   ]
  },
  {
   "cell_type": "code",
   "execution_count": null,
   "metadata": {},
   "outputs": [],
   "source": [
    "titles_for_axis = dict(\n",
    "    debt = 'долга'\n",
    "    , children = 'Кол-во детей'\n",
    "    , age = 'Возраст'\n",
    "    , total_income = 'Доход'\n",
    ")\n",
    "title = 'График важности признаков для предсказания цены'\n",
    "pagri_data_tools.plot_feature_importances_classifier(df, target='debt', titles_for_axis=titles_for_axis, title=title)\n",
    "pagri_data_tools.plot_feature_importances_regression()"
   ]
  },
  {
   "cell_type": "markdown",
   "metadata": {},
   "source": [
    ">На основе полученных данных формулируем гипотезы, которые будем проверять в блоке проверки гипотез"
   ]
  },
  {
   "cell_type": "markdown",
   "metadata": {},
   "source": [
    "> используем быблиотеку `shap`, чтобы определить метрики, которые лучше других помогают предсказывать целевую перемменную"
   ]
  },
  {
   "cell_type": "markdown",
   "metadata": {},
   "source": [
    "Добавить в dash app возможность сохранять код для ячейки с фильтром (срезом данных).  \n",
    "То есть у нас есть фильтр, мы хотим посмотреть срез данных и фильтруем данные.  \n",
    "И если увидели что-то важное, то мы сохраняем код для создания графика с этими x, y, category и фильтром.  \n",
    "То есть в коде сначала будет фильтрация датафрейма и потом создание графика в 2 строки.  "
   ]
  },
  {
   "cell_type": "markdown",
   "metadata": {},
   "source": [
    "важно мы не пишем все наблюдения, а только те, которые могут быть важны для анализа, то есть мы смотрим, задаем вопросы данным и   \n",
    "и если ответ важен, то мы записываем наблюдения)"
   ]
  },
  {
   "cell_type": "markdown",
   "metadata": {},
   "source": [
    "ВАЖНО   \n",
    "Когда мы видим таблицу или график, то мы придумываем вопросы к результату.  \n",
    "Все возможные вопросы (как, почему, зачем, сколько, как долго, быстро ли, медленно ли, важно ли это, из-за чего это и прочие вопрсоы)\n",
    "И отвечая на эти вопросы мы получаем наблюдения и выводы\n",
    "И чтобы задавать правильные вопросы, мы должны сначала подумать о физике параметров, которые мы видим."
   ]
  },
  {
   "cell_type": "markdown",
   "metadata": {},
   "source": [
    "Если у нас много значений в переменной, то мы агрегируем данные и можем построить бары.  \n",
    "Но если мы агрегируем данные по переменной, в которой много значений и нам это нужно.  \n",
    "То мы не сможем построить бары, и тогда мы строим гистограмму. То есть мы берем, например, для каждой заправки считаем среднее время заправки и так как у нас много заправок,  \n",
    "но мы хотим визуализировать среднее время по ним, и не агрегировать по другому параметру, то мы можем испльзовать гистограмму.  \n",
    "В данном случае гистограмма своего рода агрегация в бины, то есть мы получаем как бы новую переменную из бинов, в каждом бине будет агрегированы данные.  \n",
    "Это работает, когда нам нужно просто посмотреть колечество, так как в бинах будет количество. Таким образом мы получаем сколько у нас заправок имеют определенное среднее вермя заправки.\n"
   ]
  },
  {
   "cell_type": "markdown",
   "metadata": {},
   "source": [
    "> Про размер графиков  \n",
    "> Стандартный размер графиков width=600, height=400  \n",
    "> Для более сложных графиков, когда требуется больше места для отображения данных, можно использовать размеры width=800, height=600 или width=1000, height=800\n"
   ]
  },
  {
   "cell_type": "markdown",
   "metadata": {},
   "source": [
    "> Сравнивать количество элементов нужно в абсолютных и относительных величинах.  \n",
    "> Когда мы сравниваем только в абсолютных величинах, мы не учитываем размеры групп.  \n",
    "> В одной группе может быть элементов больше чем в другой и тогда сравнение будет не совсем точным.  \n",
    "> Если у нас 2 категориальные переменные, то мы можем сравнивать отностельные величины  \n",
    "> по одной переменной, а можем по другой.  \n",
    "> Это как сравнивать суммарный возраст в группах, это не дает полной картины и мы сравниваем средний возраст,  \n",
    "> чтобы размер группы не влиял.\n"
   ]
  },
  {
   "cell_type": "markdown",
   "metadata": {},
   "source": [
    "> ВАЖНО\n",
    "> Анализ графиков и выводы для них должны полностью перекрывать постановку задачи и цель.  \n",
    "> Это значит, что если цель проанализировать зависимость наличия долга, то мы в идеале должны проанализировать  \n",
    "> влиянеие каждой переменной на наличие долга (числовой и категориальной)  \n",
    "> Кончено нужно проанализировать все возможные зависимости.  \n",
    "> Но все зависимости с переменной в постновке задачи мы обязаны проверить и дать выводы. И о наличии и об отсутствие.  \n",
    "> Важные выводы делаем не только о наличие интересных моментов, но и об отсутствие.\n"
   ]
  },
  {
   "cell_type": "markdown",
   "metadata": {},
   "source": [
    "> Сначала раздел графиков  \n",
    "> На основе графиков формируются гипотезы (например, у нас у мужчин зп больше)\n",
    "> И после раздела графиков идет раздел проверки гипотез. Тут мы првоеряем разные гипотезы новые и те, что увидели на графиках.  \n",
    "> Это правильная последовательность сначала изучили графики и потом на основе их сформировали гипоетзы\n",
    "> Перед разделом про графики идет раздел с корреляцией и поиском главных компонет случайного леса.  \n",
    "> Мы выбиарем переменную, для которой мы далее хотим посмотреть разыне зависимости и указываем ее целевой для сучайного леса  \n",
    "> И смотрим какие фичи сильнее влияют.  \n",
    "> И теперь можем построить графики с целевой перменно и этими главными фичами и в выводе можно указать про то что это важные компоненты случаного леса\n"
   ]
  },
  {
   "cell_type": "markdown",
   "metadata": {},
   "source": [
    "> На основе полученных данных формулируем гипотезы, которые будем проверять в блоке проверки гипотез\n"
   ]
  },
  {
   "cell_type": "markdown",
   "metadata": {},
   "source": [
    "### Изучение зависимостей между числовыми переменными\n"
   ]
  },
  {
   "cell_type": "markdown",
   "metadata": {},
   "source": [
    "> Изучаем scatter plots\n"
   ]
  },
  {
   "cell_type": "markdown",
   "metadata": {},
   "source": [
    "ВАЖНО смотрим на выбросы  \n",
    "Мы могли при изучении отдельных столбцов не заметить их, если заметили, то возвращаемся в изучение и предобработку и изучаем их дополнительно"
   ]
  },
  {
   "cell_type": "code",
   "execution_count": null,
   "metadata": {},
   "outputs": [],
   "source": [
    "titles_for_axis = dict(\n",
    "    # numeric column\n",
    "    children = 'Кол-во детей'\n",
    "    , age = 'Возраст'\n",
    "    , total_income = 'Доход'    \n",
    ")"
   ]
  },
  {
   "cell_type": "code",
   "execution_count": null,
   "metadata": {},
   "outputs": [],
   "source": [
    "pairs = {('total_images', 'last_price'): None, ('total_images', 'floors_total'): {'total_images': [-2.15, 22.45], 'floors_total': [0.51, 28.54]}, ('total_images', 'kitchen_area'): {'total_images': [-1.04, 28.44], 'kitchen_area': [-0.6, 59.26]}, ('total_images', 'parks_nearest'): {'total_images': [np.int64(0), np.int64(50)], 'parks_nearest': [np.float64(1.0), np.float64(3190.0)]}, ('total_images', 'ponds_around3000'): {'total_images': [np.int64(0), np.int64(50)], 'ponds_around3000': [np.float64(0.0), np.float64(3.0)]}, ('total_images', 'living_total_ratio'): {'total_images': [np.int64(0), np.int64(50)], 'living_total_ratio': [np.float64(0.02), np.float64(1.0)]}, ('total_images', 'kitchen_total_ratio'): {'total_images': [np.int64(0), np.int64(50)], 'kitchen_total_ratio': [np.float64(0.03), np.float64(0.79)]}, ('total_images', 'price_per_sqm'): {'total_images': [np.int64(0), np.int64(50)], 'price_per_sqm': [np.int64(7962), np.int64(1907500)]}, ('last_price', 'living_area'): {'last_price': [np.int64(430000), np.int64(763000000)], 'living_area': [np.float64(2.0), np.float64(427.55)]}}\n",
    "pagri_data_tools.pairplot_pairs(df, pairs, coloring=True, horizontal_spacing=0.12, rows=3, cols=3).show(config=dict(displayModeBar=False, dpi=200), renderer=\"png\")\n",
    "# если нужно интерактивый график, то\n",
    "pagri_data_tools.pairplot_pairs(df, pairs, coloring=True, horizontal_spacing=0.12, rows=3, cols=3)"
   ]
  },
  {
   "cell_type": "markdown",
   "metadata": {},
   "source": [
    "Чтобы в dash app выбрать нужные пары для scatterplot   \n",
    "ставим  `_gen_` в месте где хотим чтобы появились ячейки с кодом для постройки графиков      \n",
    "далее используем  `pagri_dash.scatterplot_analysis_dash`"
   ]
  },
  {
   "cell_type": "code",
   "execution_count": null,
   "metadata": {},
   "outputs": [],
   "source": [
    "_gen_ "
   ]
  },
  {
   "cell_type": "markdown",
   "metadata": {},
   "source": [
    "ВАЖНО  \n",
    "убираем лишние колонки, которые нам не нужно изучать, например, id, и другие числовые переменные, которые будут только тратить место в dash app"
   ]
  },
  {
   "cell_type": "code",
   "execution_count": null,
   "metadata": {},
   "outputs": [],
   "source": [
    "df_by_userid_month.drop(['user_id', 'messages_included'], axis=1)"
   ]
  },
  {
   "cell_type": "code",
   "execution_count": null,
   "metadata": {},
   "outputs": [],
   "source": [
    "import sys\n",
    "sys.path.append('/colab/pagri_private_modules')\n",
    "import pagri_dash\n",
    "pagri_dash.scatterplot_analysis_dash(df, \"path/to/notebook/for/save\")"
   ]
  },
  {
   "cell_type": "markdown",
   "metadata": {},
   "source": [
    "### Изучение зависимостей между категориальными переменными\n"
   ]
  },
  {
   "cell_type": "markdown",
   "metadata": {},
   "source": [
    "> Чтобы автоматически генерировались подписи осей и заголовок графика для категориальных, временных и числовых с категориальными зависимостейь\n",
    "> , нужно заполшнить такой словарь.  \n",
    "> Первый элемент списка - это подпись оси  \n",
    "> Второй элемент списка - это как это название будет отображаться в заголовке графика  \n",
    "> Для числовых столбцов также указывается род, чтобы правильно выбрать (Середнее, средний, средняя) (0 - средний род, 1 - мужской род, 2 - женский род)\n"
   ]
  },
  {
   "cell_type": "markdown",
   "metadata": {},
   "source": [
    "ВАЖНО построить распределение количества по категориальным переменным без разбивки по другим категориям.  \n",
    "То есть например, посмотреть количество новых пользователей по месяцам, по кородам и так далее.  \n",
    "И так все количества, и не только категориальные.  \n",
    "Это важно, так как по этим графикам будет видна общая динамика без разбивки на категории.  \n",
    "И плюс всякие user_id и прочее в dash app не отображается, поэтому нужно это изучить отдельно.  "
   ]
  },
  {
   "cell_type": "markdown",
   "metadata": {},
   "source": [
    "ВАЖНО  \n",
    "Добавить возможность выбирать 1 col и 2 cols  как это в app dash числовые и категориальные  \n",
    "Так как часто полезно посмотреть на распределение количества только в одной категории."
   ]
  },
  {
   "cell_type": "code",
   "execution_count": null,
   "metadata": {},
   "outputs": [],
   "source": [
    "f'Среднее / Медианное / Суммарное {numeric} в зависимости от {category} и {category}'  "
   ]
  },
  {
   "cell_type": "markdown",
   "metadata": {},
   "source": [
    "ВАЖНО  \n",
    "titles_for_axis далее будет один для всех разделов  \n",
    "поэтому если нужно добавить, то возвращаемся и добавляем сюда, чтобы была одна переменная"
   ]
  },
  {
   "cell_type": "markdown",
   "metadata": {},
   "source": [
    "Сормируем словарь для подписей осей и названий графиков."
   ]
  },
  {
   "cell_type": "code",
   "execution_count": null,
   "metadata": {},
   "outputs": [],
   "source": [
    "titles_for_axis = dict(\n",
    "    # numeric column ['Именительный падеж', 'мменительный падеж с маленькой буквы', 'род цифорой']\n",
    "    # (0 - средний род, 1 - мужской род, 2 - женский род[) (Середнее образовние, средний доход, средняя температура) )\n",
    "    # для функций count и nunique пишем - Количество <чего / кого количество> - и также с маленькой буквы, цифра 0 в качестве рода\n",
    "    age = ['Возраст', 'возраст', 1]\n",
    "    , using_duration = ['Длительность использования', 'длительность использования', 2]\n",
    "    , mb_used = ['Объем интернет трафика', 'объем интернет трафика', 1]\n",
    "    , revenue = ['Выручка', 'выручка', 2]\n",
    "    # categorical column ['Именительный падеж', 'для кого / чего', 'по кому чему']\n",
    "    # Распределение долей по городу и тарифу с нормализацией по городу\n",
    "    , city = ['Город', 'города', 'городу']\n",
    "    , tariff = ['Тариф', 'тарифа', 'тарифу']\n",
    "    , is_active = ['активный ли клиент', 'активности клиента', 'активности клиента']\n",
    ")"
   ]
  },
  {
   "cell_type": "markdown",
   "metadata": {},
   "source": [
    "Важно когда мы смотрем очередной график, то задавать не только вопросы к данным, но и думать как можно отфильтровать  \n",
    "данные, чтобы сделать дополнительные полезные выводы.  \n",
    "То есть мы фильтруем данные и потом эти графики поместим в раздел с анализом срезов.  "
   ]
  },
  {
   "cell_type": "markdown",
   "metadata": {},
   "source": [
    "Чтобы в dash app выбрать нужные пары для scatterplot   \n",
    "ставим  `_gen_` в месте где хотим чтобы появились ячейки с кодом для постройки графиков      \n",
    "далее используем  `pagri_dash.scatterplot_analysis_dash`"
   ]
  },
  {
   "cell_type": "code",
   "execution_count": null,
   "metadata": {},
   "outputs": [],
   "source": [
    "_gen_ "
   ]
  },
  {
   "cell_type": "markdown",
   "metadata": {},
   "source": [
    "Как правильно писать выводы для нормализации по col и row:\n",
    "В dash app нормализация идет по значениям в легенде,   \n",
    "Например, у нас по index - город, а по столбцам - тарифы.\n",
    "- нормализация по index (в dash будет row)  \n",
    "При нормализации по индексам вы получаете долю пользователей каждого тарифа в каждом городе относительно общего числа пользователей в этом городе.\n",
    "то есть если по оси город, а в легенде название тарифа, то нормализация будет по тарифам.  \n",
    "И мы сравниваем \n",
    "А если в легенде город, то нормализация идет по городам, и мы сравниваем по городам.  \n",
    "И можно сделать такие выводы  \n",
    "    - В Москве 60% пользователей выбирают тариф \"Ультра\", что указывает на его популярность среди москвичей.\n",
    "    - В Санкт-Петербурге 70% пользователей предпочитают тариф \"Смарт\", что может говорить о том, что данный тариф более привлекателен для жителей этого города.\n",
    "то ессть при нормализации по городу, мы получаем долю пользователей тарифа в городе.  \n",
    "- нормализация по столбцам (в dash будет col)  \n",
    "При нормализации по столбцам вы получаете долю пользователей каждого города для каждого тарифа относительно общего числа пользователей, выбравших этот тариф.\n",
    "А когда мы нормализуем по тарифу, то мы получаем долю пользователей города в тарифе.      \n",
    "    - Из всех пользователей, выбравших тариф \"Ультра\", 40% приходятся на Москву, что может указывать на то, что этот тариф пользуется спросом именно в этом городе.\n",
    "    - Из всех пользователей, выбравших тариф \"Смарт\", 50% находятся в Санкт-Петербурге, что может свидетельствовать о том, что данный тариф более популярен среди петербуржцев.\n",
    "- Нормализация по всем значениям (в dash all)    \n",
    "При нормализации по всем значениям вы получаете долю пользователей каждого тарифа в каждом городе относительно общего числа пользователей всех тарифов в обоих городах.\n",
    "    - В общем числе всех пользователей (Москва и Санкт-Петербург) 30% выбирают тариф \"Ультра\", что может указывать на его общую популярность.\n",
    "    - Тариф \"Смарт\" составляет 20% от общего числа пользователей, что показывает, что он менее популярен по сравнению с тарифом \"Ультра\" на уровне всей выборки."
   ]
  },
  {
   "cell_type": "markdown",
   "metadata": {},
   "source": [
    "Сначала смотрим 1_cat, чтобы записать распределение по 1 категории.  \n",
    "Не забываем делеть swap_cols чтобы изучить обе категориальные переменные.  \n",
    "Записываем, если есть различия в долях в категории.  "
   ]
  },
  {
   "cell_type": "code",
   "execution_count": null,
   "metadata": {},
   "outputs": [],
   "source": [
    "import sys\n",
    "sys.path.append('/colab/pagri_private_modules')\n",
    "import pagri_dash\n",
    "pagri_dash.category_analysis_dash(df, 'df', \"path/to/notebook/for/save\")"
   ]
  },
  {
   "cell_type": "markdown",
   "metadata": {},
   "source": [
    "> Строим матрицу тепловой карты для категориальных переменных и изучаем зависимости  \n"
   ]
  },
  {
   "cell_type": "markdown",
   "metadata": {},
   "source": [
    "Чтобы в dash app выбрать нужные пары для scatterplot   \n",
    "ставим  `_gen_` в месте где хотим чтобы появились ячейки с кодом для постройки графиков      \n",
    "далее используем  `pagri_dash.scatterplot_analysis_dash`"
   ]
  },
  {
   "cell_type": "code",
   "execution_count": null,
   "metadata": {},
   "outputs": [],
   "source": [
    "_gen_ "
   ]
  },
  {
   "cell_type": "code",
   "execution_count": null,
   "metadata": {},
   "outputs": [],
   "source": [
    "import sys\n",
    "sys.path.append('/home/pagri/git_repos/pagri_private_modules')\n",
    "import pagri_dash\n",
    "pagri_dash.categorical_heatmap_matrix_dash(df, 'df', \"/home/pagri/git_repos/pagri-projects/quarto/projects/housing-ads-investigation/temp.ipynb\")"
   ]
  },
  {
   "cell_type": "markdown",
   "metadata": {},
   "source": [
    "> Посмотрим на распределение количества элементов между группами\n"
   ]
  },
  {
   "cell_type": "markdown",
   "metadata": {},
   "source": [
    "> Нужно подумать как отобразить не только процент от всего количества, но и пороцент в группе  \n",
    "> То есть у нас есть значение в ячейке, сумма всех, сумма по категории на оси x и сумма по категории на оси Y  \n",
    "> Вот нужно как-то отобразить процент от суммы, процент от одной категории и от другой категории\n"
   ]
  },
  {
   "cell_type": "code",
   "execution_count": null,
   "metadata": {},
   "outputs": [],
   "source": [
    "12 (0.5% of total, 20% of row, 15% of col) "
   ]
  },
  {
   "cell_type": "markdown",
   "metadata": {},
   "source": [
    "> Можно сделать кнопки, чтобы можно было подсветку делать внури колонок и строк\n"
   ]
  },
  {
   "cell_type": "markdown",
   "metadata": {},
   "source": [
    "> Можно сделать кнопки (процент от общего) (процент от тут указывается название оси x) (аналогично для второй оси)\n"
   ]
  },
  {
   "cell_type": "code",
   "execution_count": null,
   "metadata": {},
   "outputs": [],
   "source": [
    "pagri_data_tools.categorical_graph_analys_gen()"
   ]
  },
  {
   "cell_type": "markdown",
   "metadata": {},
   "source": [
    "> Строим treemap  \n",
    "> `treemap`  \n",
    "> `treemap_dash`\n",
    ">\n",
    "> ```\n",
    "> app = treemap_dash(df)\n",
    "> if __name__ == '__main__':\n",
    ">    app.run_server(debug=True)\n",
    "> ```\n"
   ]
  },
  {
   "cell_type": "code",
   "execution_count": null,
   "metadata": {},
   "outputs": [],
   "source": [
    "pagri_data_tools.treemap()"
   ]
  },
  {
   "cell_type": "code",
   "execution_count": null,
   "metadata": {},
   "outputs": [],
   "source": [
    "app = pagri_data_tools.treemap_dash(df)\n",
    "if __name__ == '__main__':\n",
    "    app.run_server(debug=True)"
   ]
  },
  {
   "cell_type": "markdown",
   "metadata": {},
   "source": [
    "> Строим parallel_categories  \n",
    "> `parallel_categories `  \n",
    "> `parallel_categories_dash `\n",
    ">\n",
    "> ```\n",
    "> app = treemap_dash(df)\n",
    "> if __name__ == '__main__':\n",
    ">    app.run_server(debug=True)\n",
    "> ```\n"
   ]
  },
  {
   "cell_type": "code",
   "execution_count": null,
   "metadata": {},
   "outputs": [],
   "source": [
    "pagri_data_tools.parallel_categories()"
   ]
  },
  {
   "cell_type": "code",
   "execution_count": null,
   "metadata": {},
   "outputs": [],
   "source": [
    "app = pagri_data_tools.parallel_categories_dash(df)\n",
    "if __name__ == '__main__':\n",
    "    app.run_server(debug=True)"
   ]
  },
  {
   "cell_type": "markdown",
   "metadata": {},
   "source": [
    "> Строим Sankey  \n",
    "> `sankey `  \n",
    "> `sankey_dash`\n",
    ">\n",
    "> ```\n",
    "> app = treemap_dash(df)\n",
    "> if __name__ == '__main__':\n",
    ">    app.run_server(debug=True)\n",
    "> ```\n"
   ]
  },
  {
   "cell_type": "code",
   "execution_count": null,
   "metadata": {},
   "outputs": [],
   "source": [
    "pagri_data_tools.sankey()"
   ]
  },
  {
   "cell_type": "code",
   "execution_count": null,
   "metadata": {},
   "outputs": [],
   "source": [
    "app = pagri_data_tools.sankey_dash(df)\n",
    "if __name__ == '__main__':\n",
    "    app.run_server(debug=True)"
   ]
  },
  {
   "cell_type": "markdown",
   "metadata": {},
   "source": [
    "### Изучение зависимостей между числовыми и категориальными переменными\n"
   ]
  },
  {
   "cell_type": "markdown",
   "metadata": {},
   "source": [
    "добавить слайдер как доп переменную и анимация будет сразу"
   ]
  },
  {
   "cell_type": "code",
   "execution_count": null,
   "metadata": {},
   "outputs": [],
   "source": [
    "df = px.data.gapminder()\n",
    "\n",
    "fig = px.bar(df, x=\"continent\", y=\"pop\", color=\"continent\",\n",
    "  animation_frame=\"year\", animation_group=\"country\", range_y=[0,4000000000], width=900, height=500)\n",
    "fig.show()"
   ]
  },
  {
   "cell_type": "markdown",
   "metadata": {},
   "source": [
    "Важно когда мы смотрем очередной график, то задавать не только вопросы к данным, но и думать как можно отфильтровать  \n",
    "данные, чтобы сделать дополнительные полезные выводы.  \n",
    "То есть мы фильтруем данные и потом эти графики поместим в раздел с анализом срезов.  "
   ]
  },
  {
   "cell_type": "markdown",
   "metadata": {},
   "source": [
    "> Можно добавить кнопку среднее и количество  \n",
    "> Чтобы можно было посмотртеть распределение по количеству, когда смотрить среднее.\n"
   ]
  },
  {
   "cell_type": "code",
   "execution_count": null,
   "metadata": {},
   "outputs": [],
   "source": [
    "_gen_ "
   ]
  },
  {
   "cell_type": "markdown",
   "metadata": {},
   "source": [
    "Добавить в hover количество элементов в группе,  \n",
    "чтобы понимать размер группы."
   ]
  },
  {
   "cell_type": "markdown",
   "metadata": {},
   "source": [
    "Добавить возможность перескакивать комбинации.  \n",
    "Если много колонок, то комбинаций очень много и часть может быть просто не нужна для анализа.  "
   ]
  },
  {
   "cell_type": "markdown",
   "metadata": {},
   "source": [
    "Изучаем следующим образом  \n",
    "- смотрим на график и определяем есть ли взаимодейсвие (то есть отличаются ли значения в разных группах, это будет видно как разная высота баров)\n",
    "- если разницы в барах нет, или она минимальная, то сразу можно пропускать\n",
    "- если разница есть, то думаем важна ли для нас ээта комбинация столбцов\n",
    "- если нет, то пропускаем\n",
    "- если да, то пишем наблюдения и сохраняем"
   ]
  },
  {
   "cell_type": "markdown",
   "metadata": {},
   "source": [
    "Не забываем смотреть 1_cat чтобы изучить отдельную категорию.  \n",
    "То есть график появлился, смотрим на обе категории и на числовую переменную и думаем, нужно ли нам по отдельности изучить  \n",
    "каждую категориальную переменную c числовой. Если уже изучили, то не изучаем.\n",
    "Нужно подумать как сохранять уже изученые комбинации, чтобы не повторяться (может в dash app добавить всплывающее окно, для графиков, для которых уже был вывод, что уже было)"
   ]
  },
  {
   "cell_type": "markdown",
   "metadata": {},
   "source": [
    "ВАЖНО  \n",
    "Если много переменных, и не все они нужны для анализа,  \n",
    "то смотрим df.columns, выбираем нужные и в dash передаем датафрейм с нужными колонками."
   ]
  },
  {
   "cell_type": "markdown",
   "metadata": {},
   "source": [
    "ВАЖНО  \n",
    "не забываем смотреть sum для переменных типа выручки"
   ]
  },
  {
   "cell_type": "markdown",
   "metadata": {},
   "source": [
    "ВАЖНО  \n",
    "id это такая же числовая переменная, как и все остальные, но ее нужно аггрегировать, используя  \n",
    "`count` и `nunique`"
   ]
  },
  {
   "cell_type": "code",
   "execution_count": null,
   "metadata": {},
   "outputs": [],
   "source": [
    "import sys\n",
    "sys.path.append('/home/pagri/git_repos/pagri_private_modules')\n",
    "import pagri_dash\n",
    "pagri_dash.numeric_category_analysis_dash(df, 'df', \"/home/pagri/git_repos/pagri-projects/quarto/projects/housing-ads-investigation/temp.ipynb\")"
   ]
  },
  {
   "cell_type": "markdown",
   "metadata": {},
   "source": [
    "### Анализ временных зависимостей\n"
   ]
  },
  {
   "cell_type": "markdown",
   "metadata": {},
   "source": [
    "Проходим и из предыдущих разделов копируем все графики с временными переменными и вставляем сюда."
   ]
  },
  {
   "cell_type": "markdown",
   "metadata": {},
   "source": [
    "Когда мы хотим изучить верменную зависимость, то нам нуно создать новые переменные с обрезанными (trunc or round) значениям, чтобы можно было сгруппировать используя groupby or pivot_table  \n",
    "по этой обрезанной переменной и применить функцию агрегации и построить график, например, среднее время заправки на азс по часам.  \n",
    "Вот когда мы работаем с временем, нам нужно думать какие переменные создать, обрезая текущее время.\n"
   ]
  },
  {
   "cell_type": "markdown",
   "metadata": {},
   "source": [
    "> Строим когортный анализ, если есть возможность\n"
   ]
  },
  {
   "cell_type": "markdown",
   "metadata": {},
   "source": [
    "> Если у нас есть даты, то мы можем посмотреть не просто абсолютные значения на каждую дату какой-то метрики,  \n",
    "> а посмотреть относительные значения относительно предыдущего значения.  \n",
    "> Для этого нужно составить таблицу, в которой будет изменение в процентах относительно предыдущего значения.  \n",
    "> И затем визуализировать для каждой даты динамику этого показателя\n"
   ]
  },
  {
   "cell_type": "markdown",
   "metadata": {},
   "source": [
    "### ВАЖНО"
   ]
  },
  {
   "cell_type": "markdown",
   "metadata": {},
   "source": [
    "- Берем все датафреймы, которые анализировали.  \n",
    "- И по очереди выводим все колонки, с указанием категориальная, числовая или другая.  \n",
    "- Собираем все выводы от графиков. \n",
    "- И внимательно думаем, какие зависимости мы пропустили.  \n",
    "- Строим их"
   ]
  },
  {
   "cell_type": "code",
   "execution_count": null,
   "metadata": {},
   "outputs": [],
   "source": [
    "df_by_userid_month.dtypes"
   ]
  },
  {
   "cell_type": "markdown",
   "metadata": {},
   "source": [
    "### Анализ срезов данных "
   ]
  },
  {
   "cell_type": "markdown",
   "metadata": {},
   "source": [
    "ВАЖНО  \n",
    "если у нас по условию задачи нужно сравнить что-то, то нужно построить наложенные гистограамы (в виде каги) каждой категории.  \n",
    "То есть если мы сравниваем тарифы, то нужно наложить гистограммы выручки, количества сообщений, звонков, гигабайт и так далее.  \n",
    "Таким образом мы не только сравниваем аггрегирующие метрики на графике, разбивая метрику по категории, но и   \n",
    "строим накладывающиеся гистограммы по каждой категории. Это очено важно, так как дает более глубокое сравнение.  "
   ]
  },
  {
   "cell_type": "markdown",
   "metadata": {},
   "source": [
    "Вообще если есть время, то в идеале построить накладывющиеся гистограммы для всех важных числовых метрик по всем важным категориям.  \n",
    "То есть берем метрику и категориальную переменную и строим гистограмму.  \n",
    "Нужно сделать отдельную функцию.  "
   ]
  },
  {
   "cell_type": "markdown",
   "metadata": {},
   "source": [
    "ВАЖНО  \n",
    "Если у нас есть странные значения, например нулевая длительность звонков, или что-то подобное,   \n",
    "то это также является срезом, который нужно изучить. Не только при предобработке, когда мы смотрели это по категориям.  \n",
    "Тут мы не только смотрим по категориям на графиках, но ещё и смотрим все метрики и графики для этого среза или срезов.  \n",
    "Таким образом выбросы, пропуски и любые аномальные занчения, которые можно объеденить в группу, являются срезом.  \n",
    "И этот срез нужно отдельно изучить, построив все графики, которые строили для общего датафрейма.  "
   ]
  },
  {
   "cell_type": "markdown",
   "metadata": {},
   "source": [
    "Срезы нужно обязательно сравнить со всем датафреймом.  \n",
    "То есть мы например, изучили центр города и нужно сделать выводы основываясь на сравнении центра и всего города."
   ]
  },
  {
   "cell_type": "markdown",
   "metadata": {},
   "source": [
    "Нужно создать 2 генератора и параллельно идти, чтобы сначала выводился срез, а потом уже целый датафрейм.  \n",
    "Тут наша задача не изучать выбросы, дубли и прочее.  \n",
    "Тут задача найти отличия среза от всего датафрейма."
   ]
  },
  {
   "cell_type": "markdown",
   "metadata": {},
   "source": [
    "Возможно лучше прйти все колонки так попарно, а потом выбрать только те, которые имеют отличия.  \n",
    "И построить только их."
   ]
  },
  {
   "cell_type": "markdown",
   "metadata": {},
   "source": [
    "Срезы нужны не только чтобы изучить отдельно часть данных, важно сравнивать срез со всем датафреймом.  \n",
    "Нужно подумать какие срезы будет полезно сравнить со всем датафреймом.  \n",
    "И провести сравнительный анализ. И поместить в отчет то, что имеет отличия и важно для выводов."
   ]
  },
  {
   "cell_type": "markdown",
   "metadata": {},
   "source": [
    "Часто когда есть пользователи, то нужно изучить срезы активные и не активные пользователи.  \n",
    "И постараться понять что отличает не активных.  "
   ]
  },
  {
   "cell_type": "markdown",
   "metadata": {},
   "source": [
    "сделать приложение dash чтобы можно было выбирать колонки для анализа,  \n",
    "чтобы можно было фильтровать по всем категориальным переменным,  \n",
    "чтобы были слайдеры для фильтрации по числовым переменным,\n",
    "чтобы можно было выбирать типы графиков и строить разные графики.  \n",
    "Это не генератор, а это для ad-hoc анализа.   \n",
    "То есть мы подумали что интересно будет изучить этот срез и эти переменные и изучили.  \n",
    "А потом можно подумать как это автоматиировать, чтобы в цикле строились нужные графики.  "
   ]
  },
  {
   "cell_type": "markdown",
   "metadata": {},
   "source": [
    "Анализ срезов состоит из анализа срезов из одного значения, то есть мы выбираем конкретное значени и по  нему фильтруем.  \n",
    "и анализа срезов из нескольких переменных, когда мы выбираем несколько значений для среза или даже несколько переменных и в них выбираем определенные значения.  "
   ]
  },
  {
   "cell_type": "markdown",
   "metadata": {},
   "source": [
    "Анализ срезов по одному значению мы просто фильтруем по нему и смотрим результат функции `info_gen` или 'info_column'  "
   ]
  },
  {
   "cell_type": "markdown",
   "metadata": {},
   "source": [
    "А анализ срезво по нескольким значениям или переменным будет результатом анализа графиков в dash app.  \n",
    "То есть мы в процессе анализа фильтруем данные и после работы в dahs app мы фильтрованные графики помещаюем в этот раздел.  \n",
    "Чтобы разделить срезы и полный анализ.  "
   ]
  },
  {
   "cell_type": "markdown",
   "metadata": {},
   "source": [
    "ВАЖНО  \n",
    "Чтобы изучить активных и неактивных пользователей, нужно создать признак 'is_acitve'  \n",
    "И внимательно посмотреть на графики с временными зависимостями, где во времени идет сранвение по 'is_active'  \n",
    "Таким образом мы как бы посмотрим в прошлое, как вели себя пользователи, которые стали неактивными, и как вели себя активные пользователи"
   ]
  },
  {
   "cell_type": "markdown",
   "metadata": {},
   "source": [
    "Нужно подумать как лучше изучать срезы.  \n",
    "В данном разделе лучше изучить срезы отдельных значений, то есть отдельный город, отдельный пол и прочее.  \n",
    "То есть мы фильтруем по одному значению и его изучаем в функцией `info`  \n",
    "А изучение срезов данных, которые состоят из набора значений (например изучить цену в топ 10 городах), это уже будет сделано  \n",
    "в анализе графиков.  "
   ]
  },
  {
   "cell_type": "markdown",
   "metadata": {},
   "source": [
    "Тут мы изучаем подготовленный набор данных в разрезе разных категориальных переменных.  \n",
    "Задача посмотреть на отдельные срезы и найти закономерности в данных.  "
   ]
  },
  {
   "cell_type": "markdown",
   "metadata": {},
   "source": [
    "Например у нас есть данные о продажах квартир, мы создали новые категориальные перменные, обогатили данные  \n",
    "И теперь хотим посмотреть какое распределение цены только в центре, или какая площадь квартир возле парков и прочее.  \n",
    "То есть мы тут изучаем отдельно переменные в разрезе категорий, то есть строим срезы.  \n",
    "ВАжно, что тут мы изучаем отедльные переменные, срезы в зависимостях переменных будем строить в разаделе визуализации. "
   ]
  },
  {
   "cell_type": "markdown",
   "metadata": {},
   "source": [
    "Определить цель. Прежде чем начинать анализ срезов, важно четко определить, какие вопросы вы хотите ответить или какие гипотезы хотите проверить. Это может включать:\n",
    "- Сравнение различных групп (например, по возрасту, полу, региону).\n",
    "- Изучение влияния определенных факторов на целевую переменную.\n",
    "- Выявление аномалий или неожиданных паттернов в данных."
   ]
  },
  {
   "cell_type": "markdown",
   "metadata": {},
   "source": [
    "Выбор переменных для срезов. Выберите переменные, по которым вы хотите сделать срезы. Это могут быть как категориальные, так и количественные переменные. Примеры:\n",
    "- Категориальные переменные: пол, категория товара, регион, уровень образования.\n",
    "- Количественные переменные: возраст, доход, количество покупок (то есть мы можем просто взять срез с зарплатой до 100 тысяч и прочее, не обязательно иметь категорию для создания срезов, причем у нас может быть категория доходов, но срез мы можем взять в другом диапазоне)."
   ]
  },
  {
   "cell_type": "markdown",
   "metadata": {},
   "source": [
    "Важно когда мы выбрали параметры по которым хотим сделать срез, то далее нужно выбрать условие по которому мы будем создавать срез.  \n",
    "Срез это фильтрация или группировка, то есть должна быть либо функция аггрегации или значения по которым мы будем фильтровть.  \n",
    "Например мы для среза выбрали параметр города. Теперь нам нужно отобрать города для среза.  \n",
    "Мы выбираем параметр количество объявлений (все зависит от цели, можно было выбрать и количество населения, значение других параметров, все что поможет нам создать топ)\n",
    "И далее по нему фильтруем или аггрегируем.  "
   ]
  },
  {
   "cell_type": "markdown",
   "metadata": {},
   "source": [
    "Срезы данных можно создавать различными способами. Вот несколько подходов:\n",
    "- Фильтрация данных: Используйте условия для выбора подмножеств данных.  \n",
    "Например, выберите только тех клиентов, которые находятся в определенном регионе или имеют доход выше определенного порога.  \n",
    "- Группировка данных: Используйте функции группировки (например, groupby в pandas для Python) для агрегирования данных по выбранным переменным.   \n",
    "Это позволяет вам получить сводные статистики по группам.\n",
    "- Кросс-табуляция: Для категориальных переменных создайте кросс-таблицы, чтобы увидеть взаимосвязи между переменными."
   ]
  },
  {
   "cell_type": "markdown",
   "metadata": {},
   "source": [
    "Анализ срезов. После создания срезов данных проведите анализ:\n",
    "- Статистический анализ: Рассчитайте основные статистики (среднее, медиана, стандартное отклонение) для каждой группы или среза. Это поможет вам понять, как различаются группы по ключевым показателям.\n",
    "- Визуализация: Постройте графики для визуального представления данных. Это могут быть:  \n",
    "Гистограммы для распределения количественных переменных.  \n",
    "Столбчатые графики для сравнения категориальных переменных.  \n",
    "Ящики с усами (boxplots) для визуализации разброса и выявления аномалий.  \n",
    "- Сравнительный анализ: Сравните срезы между собой. Например, как различается средний доход мужчин и женщин или как меняется поведение клиентов в зависимости от региона."
   ]
  },
  {
   "cell_type": "markdown",
   "metadata": {},
   "source": [
    "Если мы для среза выбрали одно значение (например конкретный город), то мы просто посмотреть результат функции`info` и проанализировать его  \n",
    "Но если мы выбрали для среза набор значений, то нам нужно уже построить графики для сравнения стат параметров или других аггреигующих параметров  \n",
    "для каждого занчения в срезе. То есть нам нужно выбрать параметры по которым мы будем сравнивать значения в срезе.  "
   ]
  },
  {
   "cell_type": "markdown",
   "metadata": {},
   "source": [
    "Фильруем датасет по определенному значению и далее либо изучаем по отедльным столбцам, либо по всем испоьзуя генератор"
   ]
  },
  {
   "cell_type": "markdown",
   "metadata": {},
   "source": [
    "То есть мы изучаем срез по одному значению"
   ]
  },
  {
   "cell_type": "markdown",
   "metadata": {},
   "source": [
    "Созадем 2 генератора (или больше, если хотим сравнить несколько срезов), для среза и всего датафрейма и идем изучаем их вместе.  "
   ]
  },
  {
   "cell_type": "markdown",
   "metadata": {},
   "source": [
    "Нужно сделать отдельный генератор, чтобы в нем не было информации про пропуски, нули и прочее,   \n",
    "И организовать так, чтобы было удобно сравнивать.  \n",
    "Также гистограммы нужно сделать на одном графике, чтобы накладывлись друг на друга и сделать прозрачность.    \n",
    "Это очень удобно и если гистограммы будут накладываться друг на друга, то можно будет увидеть сразу отличия средних и мод на графике.    \n",
    "В идеале сделать, чтобы были не столбцы, а типа каги, то есть линия со ступеньками, так удобнее сравнивать гистограммы. "
   ]
  },
  {
   "cell_type": "markdown",
   "metadata": {},
   "source": [
    "ОЧЕНЬ ВАЖНО  \n",
    "- в наблюдения пишем обязательно диапазон значений столбца.  \n",
    "Рынок жилья представлен объектами общей площадью от 12 до 900 кв.м. \n",
    "- пишем медианное занчение и по гистограмме и по квантилям определяем оснвоной диапазон.  \n",
    "В основном это жилье от 30 до 100 кв.м. с пиком в сегменте 30-75 кв.м  \n",
    "Это все нужно, чтобы потом сформулировать вот такой вывод (в оснвоном выводе отчета), то есть мы для разных столбцов пишем диапазоны,  \n",
    "основной дипазаон, медианы, моды, а потом уже собираем это в 1 или несколько выводов,  \n",
    "Например.  \n",
    "Рынок жилья представлен объектами общей площадью от 12 до 900 кв.м. В основном это жилье от 30 до 100 кв.м. с пиком в сегменте 30-75 кв.м. В жилой площади квартиры преобладает диапазон 15-50 кв.м. Размер площади кухни-от 5 до 15 кв.м., с пиком 9 кв.м. Это стандартные небольшие квартиры эконом-класса. Подавляющее большинство квартир- 1-3 комнатные, с высотой потолка 2,6-2,7 м., но встречаются редкие варианты до 19 комнат и высотой потолка до 20 кв.м. (либо ошибка, либо свободная планировка с возможностью многоуровневости).\n"
   ]
  },
  {
   "cell_type": "markdown",
   "metadata": {},
   "source": [
    "В итоге мы сраним диапазоны, моды, медианы в срезе и во всем датафйреме.  \n"
   ]
  },
  {
   "cell_type": "markdown",
   "metadata": {},
   "source": [
    "Было бы идеально определить отличия в срезе и в общей картине, не просто сухими цифрами,  \n",
    "а собрать все наблюдения вместе и расписать это в подобном виде-   \n",
    "Рынок недвижимости центральной части города представлен несколько более широким по площади диапазоном : основная масса- это жилье от 30 до 150 кв.м с пиком в сегменте 45-80 кв.м. При этом жилая площадь занимает большую долю, чем среднестатистическая квартира: в центре СПб большое количество домов старой застройки, в которой пространство \"сдвинуто\" в пользу жилой площади. Особенностью этой части города является то, что большинство квартир, предлагаемых на продажу,- 2-3 комнатные: здесь в общей массе достаточно низкая доля 1-комнатного жилья и выше доля 4-комнатных квартир. Наибольшее количество предложений в абсолютном выражении (цена за объект) приходится на диапазон 5-15 млн.руб. с пиком 5-8 млн.руб.(маленькие квартиры эконом-класса), но есть и уникальные объекты стоимостью до 35 млн.руб. Стоимость квадратного метра недвижимости в основном варьируется от 70 до 150 тыс.руб. с пиком в 100 тыс.руб. Наряду с типовыми предложениями на продажу выставлено жилье со стоимостью 1 кв.м. до 266 тыс.руб за кв.м. В целом цены жилья центра города выше по цене, чем аналогичное в других районах."
   ]
  },
  {
   "cell_type": "code",
   "execution_count": null,
   "metadata": {},
   "outputs": [],
   "source": [
    "df_sliced = df[df.location_zone == 'Центр']\n",
    "gen_slice = pagri_data_tools.info_gen(df_sliced)\n",
    "gen = pagri_data_tools.info_gen(df)"
   ]
  },
  {
   "cell_type": "code",
   "execution_count": null,
   "metadata": {},
   "outputs": [],
   "source": [
    "next(gen_slice)\n",
    "next(gen)"
   ]
  },
  {
   "cell_type": "markdown",
   "metadata": {},
   "source": [
    "Если есть что-то важное и есть отличия, по которым можно сделать выводы, то строим отдельно в отчет"
   ]
  },
  {
   "cell_type": "code",
   "execution_count": null,
   "metadata": {},
   "outputs": [],
   "source": [
    "print('Центр города')\n",
    "pagri_data_tools.info_column(df_sliced, 'last_price')\n",
    "print('Весь датафрейм')\n",
    "pagri_data_tools.info_column(df, 'last_price')"
   ]
  },
  {
   "cell_type": "markdown",
   "metadata": {},
   "source": [
    "**Наблюдения:**  \n",
    "- пишем тут наблюдения"
   ]
  },
  {
   "cell_type": "markdown",
   "metadata": {},
   "source": [
    "ВАЖНО  \n",
    "Сравниваем не только отдельные столбцы с общей картиной.  \n",
    "Нужно взять срез и посмотреть на корреляцию, зависимости между числовыми, категориальными и т.д.  \n",
    "Как это делали для всего датафрейма, только в укороченной версии, то есть можно взять общей картины, что мы нашли интересного  \n",
    "(то есть взять названия столбцов) и посмотреть на эти же графики, но уже в срезах.  \n",
    "Если есть время, то можно и полностью прогнать все необходимые срезы по всем столбцам как для всего датафрейма.  "
   ]
  },
  {
   "cell_type": "markdown",
   "metadata": {},
   "source": [
    "Полезно изучить топ определенного столбца.  \n",
    "То есть нам нужно выбрать параметр по которому мы отберем топ значений для категорий.  \n",
    "Затем выбрать параметр для которого мы будем считать топ значений (числовая переменная)\n",
    "И построить топ.  \n",
    "Например, топ цен квартир в 10 городах с максимальным количеством объявлений.  \n"
   ]
  },
  {
   "cell_type": "code",
   "execution_count": null,
   "metadata": {},
   "outputs": [],
   "source": [
    "selected_cities = df.groupby('locality_name').size().rename('count').sort_values(ascending=False).to_frame().head(10)\n",
    "selected_cities"
   ]
  },
  {
   "cell_type": "code",
   "execution_count": null,
   "metadata": {},
   "outputs": [],
   "source": [
    "selected_cities = selected_cities.index"
   ]
  },
  {
   "cell_type": "code",
   "execution_count": null,
   "metadata": {},
   "outputs": [],
   "source": [
    "config = dict(\n",
    "    df = df[df.locality_name.isin(selected_cities)]\n",
    "    , x = 'locality_name'\n",
    "    , x_axis_label = 'Название населённого пункта'\n",
    "    , y = 'price_per_sqm'\n",
    "    , y_axis_label = 'Цена квадратного метра'\n",
    "    , title = 'Цена кв метра в зависимости от населенного пункта'\n",
    "    , func = 'mean'\n",
    "    , width = None\n",
    "    , height = None\n",
    "    , orientation = 'v'\n",
    ")\n",
    "pagri_data_tools.bar(config)"
   ]
  },
  {
   "cell_type": "markdown",
   "metadata": {},
   "source": [
    "### Когортный анализ\n"
   ]
  },
  {
   "cell_type": "markdown",
   "metadata": {},
   "source": [
    "> Не забывать про когортный анализ. Если у нас есть параметр, по которому мы можем наши данные разбить на когорты, то  \n",
    "> нужно разложить на когорты и посмотреть динамику по когортам.  \n",
    "> Когорты это например, пользователи пришедшие в одни день или месяц.  \n",
    "> Если мы объеденим пользователей в когорты и посмотрим динамику какого-то параметра по месяцам например, то увидим как изменяется.  \n",
    "> Тут также нужно помнить, что если значение например за 3 месяц больше значения за 4 месяц, то это ничего не значит само по себе.  \n",
    "> Так как мы имеем дело с выборкой, то нам нужно проверить статистически значимая это разница.  \n",
    "> Тут нам понядобятся стат тесты.\n"
   ]
  },
  {
   "cell_type": "code",
   "execution_count": null,
   "metadata": {},
   "outputs": [],
   "source": [
    "cohort_analysis = users.merge(\n",
    "    calls.groupby(['user_id', pd.Grouper(key='call_date', freq='M')]).agg({\n",
    "        'duration': 'sum',\n",
    "        'id': 'count'\n",
    "    }),\n",
    "    on='user_id'\n",
    ")"
   ]
  },
  {
   "cell_type": "markdown",
   "metadata": {},
   "source": [
    "### RFM анализ"
   ]
  },
  {
   "cell_type": "code",
   "execution_count": null,
   "metadata": {},
   "outputs": [],
   "source": [
    "rfm_analysis = pd.DataFrame()\n",
    "# Recency (from calls)\n",
    "recency = calls.groupby('user_id')['call_date'].max()\n",
    "# Frequency\n",
    "frequency = calls.groupby('user_id')['id'].count()\n",
    "# Monetary (можно использовать duration или mb_used как прокси)\n",
    "monetary = calls.groupby('user_id')['duration'].sum()"
   ]
  },
  {
   "cell_type": "markdown",
   "metadata": {},
   "source": [
    "### Промежуточный вывод\n"
   ]
  },
  {
   "cell_type": "markdown",
   "metadata": {},
   "source": [
    "Чтобы собрать все наблюдения используем это  \n",
    "нужно поставить `_start_` где начало и `_end_` где конец"
   ]
  },
  {
   "cell_type": "markdown",
   "metadata": {},
   "source": [
    "Не забываем удалить метки `_start_` и `_end_` "
   ]
  },
  {
   "cell_type": "code",
   "execution_count": null,
   "metadata": {},
   "outputs": [],
   "source": [
    "import IPython\n",
    "notebook_path = \"/\".join(\n",
    "        IPython.extract_module_locals()[1][\"__vsc_ipynb_file__\"].split(\"/\"))\n",
    "pagri_data_tools.collect_observations(notebook_path, '/home/pagri/git_repos/pagri-projects/quarto/projects/prospective_tariff_for_telecom/temp_for_report.ipynb')"
   ]
  },
  {
   "cell_type": "markdown",
   "metadata": {},
   "source": [
    "ВАЖНО   \n",
    "пройти и отсортировать графики с одинаковыми числовыми переменными  \n",
    "То есть, чтобы 1 числовая переменная в разрезе разных категорий шли подряд.  \n",
    "То есть чтобы все графики с выручкой шли подряд, чтобы все графики по количеству звонков в разрезе разных категорий шли подряд.  "
   ]
  },
  {
   "cell_type": "markdown",
   "metadata": {},
   "source": [
    "ВАЖНО  \n",
    "подумать для каждого раздела в визуализации (временные, числовые, категориальные и числовые с категориальными)  \n",
    "какие закономерности не проверил.  \n",
    "убедиться, что все зависимости, которые были в задании изучили.  \n",
    "Это самый важный моменты, тут лучше остановится и тщательно подумать,  \n",
    "так как могут быть изучены не все зависимости."
   ]
  },
  {
   "cell_type": "markdown",
   "metadata": {},
   "source": [
    "ВАЖНО   \n",
    "Убедиться, что сетки по осям стоят где нужно, часто для вертикальных или горизонатльных графиков лишняя сетка вдоль баров"
   ]
  },
  {
   "cell_type": "markdown",
   "metadata": {},
   "source": [
    "## Формулирование и провера гипотез\n"
   ]
  },
  {
   "cell_type": "markdown",
   "metadata": {},
   "source": [
    "### Формулирование гипотез\n"
   ]
  },
  {
   "cell_type": "markdown",
   "metadata": {},
   "source": [
    "ВАЖНО  \n",
    "это редко бывает, но нужно об этом помнить  \n",
    "Когда мы хотим проверить какую-то гипотезу на основе среднего или другой статистики, то нужно подумать нет ли сильного разделения на группы  \n",
    "по какой-нибудь категориальной переменной.  \n",
    "Если у нас есть такое разделение, то нужно использовать стратифицированную выборку.  \n",
    "То есть мы должны взять выборку из каждой группы пропорционально её размеру.  \n",
    "Считаем коэффициенты каждой группы (ее размер делим на количество всей выборки) и умнажаем их на количество нужных элементов.  \n",
    "То есть мы из каждой страты возьмем прпорциональное количество элементов.  \n",
    "Нарпимер, мы хотим сравнить средние значения дохода в двух компаниях.  \n",
    "И берем по 100 сотрудников из каждой. Без стратификации у нас редкие сотрудники могут не попасть.  \n",
    "Поэтому мы берем категориальную переменную (например должность) и делим выборку на группы. И из каждой берем пропорциональное количество элементов."
   ]
  },
  {
   "cell_type": "markdown",
   "metadata": {},
   "source": [
    "Смотрим выводы раздела визуализации взаимосвязей и из них формулируем гипотезы.  "
   ]
  },
  {
   "cell_type": "markdown",
   "metadata": {},
   "source": [
    "И далее думаем какие гипотезы можно ещё проверить, которых у нас нет в выводах.  "
   ]
  },
  {
   "cell_type": "markdown",
   "metadata": {},
   "source": [
    "На основе проведенного анализа данных сформулирем следующие гипотезы:\n"
   ]
  },
  {
   "cell_type": "markdown",
   "metadata": {},
   "source": [
    "- Гипотеза 1: Нет зависимость между наличием детей и возвратом кредита в срок.  \n",
    "- Гипотеза 2: У мужчин средний доход выше  \n",
    "- Гипотеза 3: Цель получения кредита не зависит от среднего ежемесяченого доход  \n",
    "- Гипотеза 4: Средний доход по семейному статусу одинаковый, но у вдовцов отличается  \n",
    "- Гипотеза 5: У должников в среднем больше детей  \n",
    "- Гипотеза 6: У должников средний возраст ниже  \n",
    "- Гипотеза 7: Медианный доход у должников и не должников не отличаетс"
   ]
  },
  {
   "cell_type": "markdown",
   "metadata": {},
   "source": [
    "> Не забываем что гипотезы можно проверять и между 2 категориальными переменными.  \n",
    "> Проверять есть ли между ними зависимости.  \n",
    "> Также если мы на графиках определили, что есть между 2 категориальными перменными связь, то тут можем это проверить\n"
   ]
  },
  {
   "cell_type": "markdown",
   "metadata": {},
   "source": [
    "### Проверка гипотез\n"
   ]
  },
  {
   "cell_type": "markdown",
   "metadata": {},
   "source": [
    "ВАЖНО  \n",
    "принято в выводе писать положительный результат  \n",
    "то есть пишем что гипотеза подтвердилась и указваем какая гипотеза.  \n",
    "То если мы опровергли нулевую гипотезу, то пишем альтернативную гипотезу и пишем что она подтвердилась.  \n",
    "Если у нас нет оснований отвергнуть нулевую гипотезу, то пишем нулевую гипотезу и пишем что нет оснований ее отвергнуть.  \n",
    "То есть если мы отвергаем, то формулируем вывод как положительный, чтобы не было путаницы, а если нет оснований, то так и пишем.  "
   ]
  },
  {
   "cell_type": "markdown",
   "metadata": {},
   "source": [
    "> Алгоритм проверки статистических гипотез\n",
    "\n",
    "- постановка задачи\n",
    "  > - Сформулировать, что мы хотим узнать о выборках с точки зрения бизнес задачи (равны ли средние доходы в группах)\n",
    "  > - перевод бизнес-вопроса на язык статистики: средний доход в группах - проверка равенства средних значений\n",
    "- формулировка гипотез\n",
    "  > - формулировка нулевой гипотезы - с т.зр. равенства стат прараметров оцениваемых выборок  \n",
    "  >   (Н0: Средние траты клиентов по группе А равны средним тратам клинентов по группе В)\n",
    "  > - формулировка альтернативной гипотезы - с точки зрения неравенства параметров  \n",
    "  >   (Н1: Средние траты клиентов по группе А не равны средним тратам клинентов по группе В)\n",
    "- выбор критерия alpha (почему 0.05 или 0.01)\n",
    "  > - цена ошибки первого рода (при большой цене ошибки - в мед исследованиях, потенциальном ущербе ) - значение может быть больше, например 0.1\n",
    "  > - в ежедневных бизнес задачах, обычно - 0.05\n",
    "- анализ распределения\n",
    "  > - визуальная оценка\n",
    "  > - следим за выбросами\n",
    "  > - проверка гипотез о типе распредеделения (например критерий Шапиро-Уилка)\n",
    "  > - если распределение не нормальное и размер выборки достаточный (больше 30-50 элементов)  \n",
    "  >   может быть использован t-test именно для проверки гипотезы о равенстве средних.  \n",
    "  >   Согласно ЦПТ (центральная предельная теорема) средние этих выборок будут распределены нормально. См. статью Зотова\n",
    "- выбор критерия\n",
    "  > - при оценке равенства средних T-test или Welch T-test (если есть сомнения, то лучше Уэлча)\n",
    "  >   - при рвенстве дисперсий используем обычный т тест\n",
    "  >   - если дисперсии в выборках разные, то используем т теста Уэлча\n",
    "- получение результата\n",
    "  > - расчет p-value\n",
    "- интерпретация p-value\n",
    "  > - сравнение p-value и alpha\n",
    "  > - если альфа > p-value - отвергаем нулевую гипотезу\n",
    "  > - если альфа < p-value - не можем отвергнуть нулевую гипотезу\n"
   ]
  },
  {
   "cell_type": "markdown",
   "metadata": {},
   "source": [
    "> Какая у нас задача\n",
    "\n",
    "- Исследовать взаимосвязь между 2 переменными\n",
    "  > - обе переменные наминативные\n",
    "  >   - Хи-квадрат Пирсона (не чувствителен к гетероскедастичности) (нормальность не обязательна)\n",
    "  > - обе переменные количественные\n",
    "  >   - Коэффициент корреляции Пирсона (параметрика) (чувствителен к выбросам) (только непрерывные переменные)\n",
    "  >   - Коэффициент корреляции Спирмена (чувствителен к выбросам) / Кендалла (менее чувствителен к выбросам) (непараметрика) (непрерывные переменные и порядковые категориальные переменные)\n",
    "  > - одна переменная номинативная (принимает 2 занчения), вторая количественная\n",
    "  >   - значения\n",
    "  >     - Т-критерий Стьюдента (параметрика) (желательно нормальность) (чувствителен к выбросам) (чувствителен к гетероскедастичности)\n",
    "  >       - если дисперсии равны (тест левена, барлета) и количество в группах равно (тест на равенство пропорций), то используем обычный т тест (эта формула более точно даст результат для этого случая)\n",
    "  >       - если дисперсии не равны (тест левена, барлета) или количество в группах не равно (тест на равенство пропорций), то используем тест Уэлча (эта формула использует больше неопределенности и лучше подходит для этого случая)\n",
    "  >     - U-критерий Манна-Уитни (непараметрика) (нормальность не обязательна) (не чувствителен к гетероскедастичности)\n",
    "  >       Если тестируемая фича полностью сдвигает выборку на некий коэффициент theta или масштабирует выборку на некий параметр theta (theta > 0),  \n",
    "  >       то критерий Манна-Уитни применим\n",
    "  >   - доли\n",
    "  >     - Z тест для долей (параметрика) (желательно нормальность) (чувствителен к выбросам) (чувствителен к гетероскедастичности)\n",
    "  >     - Chi-square тест для долей (непараметрика) (нормальность не обязательна) (не чувствителен к гетероскедастичности)\n",
    "- Исследовать взаимосвязь между несколькими переменными\n",
    "  > - Дисперсионный анализ (параметрика) (дисперсии в группах должны быть примерно равны) (желательно нормальность) (чувствителен к выбросам) (чувствителен к гетероскедастичности)\n",
    "  > - Welch's ANOVA (устройчив к разной дисперсии в группах) (требует более больших размеров групп для точных результатов) (желательно нормальность) (чувствителен к выбросам) (не чувствителен к гетероскедастичности)\n",
    "  > - Критерий Краскела-Уоллиса (непараметрика) (нормальность не обязательна) (не чувствителен к гетероскедастичности)\n",
    "  > - Тест Тьюки (если anova или Краскела-Уоллиса нашил различия) (дисперсии в группах должны быть примерно равны) (параметрика) (желательно нормальность) (чувствителен к выбросам) (чувствителен к гетероскедастичности)\n",
    "- Проверить на равенство дисперсий в группах перед anova\n",
    "  > - Levene's test (не требует нормальность) (менее чувствительный)\n",
    "  > - Bartlett's test (требует нормальность) (более чувствительный)\n"
   ]
  },
  {
   "cell_type": "markdown",
   "metadata": {},
   "source": [
    "Сормируем словарь для подписей осей и названий гистограм.\n"
   ]
  },
  {
   "cell_type": "code",
   "execution_count": null,
   "metadata": {},
   "outputs": [],
   "source": [
    "titles_for_axis = dict(\n",
    "    # numeric column\n",
    "    children = ['Количество детей', 'количества детей']\n",
    "    , age = ['Возраст', 'возраста']\n",
    "    , total_income = ['Ежемесячный доход', 'ежемесячного дохода']    \n",
    ")"
   ]
  },
  {
   "cell_type": "markdown",
   "metadata": {},
   "source": [
    "Примеры для разных критериев"
   ]
  },
  {
   "cell_type": "markdown",
   "metadata": {},
   "source": [
    "#### 2 категориальные переменные и мы хотим сравнить количество в каждой группе."
   ]
  },
  {
   "cell_type": "markdown",
   "metadata": {},
   "source": [
    "**Гипотеза 1: Нет зависимость между наличием детей и возвратом кредита в срок**\n"
   ]
  },
  {
   "cell_type": "markdown",
   "metadata": {},
   "source": [
    "> H0: Наличие детей не влияет на возврат кредита в срок.  \n",
    "> H1: Наличие детей влияет на возврат кредита в срок.\n"
   ]
  },
  {
   "cell_type": "markdown",
   "metadata": {},
   "source": [
    "Так как у нас обе переменных категориальные, то воспользуемся критерием хи-квадрат Пирсона.  \n",
    "Уровень значимости alpha выберем 0.05\n"
   ]
  },
  {
   "cell_type": "markdown",
   "metadata": {},
   "source": [
    "Убедимся, что у нас достаточно значнеий в каждой группе"
   ]
  },
  {
   "cell_type": "markdown",
   "metadata": {},
   "source": [
    "Для параметрических тестов в каждой группе должно быть больше 30 элементов, а для не параметрических тестов больше 10 значений."
   ]
  },
  {
   "cell_type": "code",
   "execution_count": null,
   "metadata": {},
   "outputs": [
    {
     "data": {
      "text/plain": [
       "age_cat\n",
       "старше 60    855\n",
       "до 30        751\n",
       "40-50        587\n",
       "50-60        532\n",
       "30-40        489\n",
       "Name: count, dtype: int64"
      ]
     },
     "metadata": {},
     "output_type": "display_data"
    }
   ],
   "source": [
    "df_by_userid_month['age_cat'].value_counts()"
   ]
  },
  {
   "cell_type": "code",
   "execution_count": null,
   "metadata": {},
   "outputs": [
    {
     "name": "stdout",
     "output_type": "stream",
     "text": [
      "Хи-квадрат Пирсона\n",
      "alpha =  0.05\n",
      "p-value =  1.724356890544321e-05\n",
      "Отклоняем нулевую гипотезу, поскольку p-value меньше уровня значимости\n"
     ]
    }
   ],
   "source": [
    "pagri_data_tools.chi2_pearson(df.has_child, df.debt)"
   ]
  },
  {
   "cell_type": "markdown",
   "metadata": {},
   "source": [
    "**Результат:**  \n",
    "\n",
    "На уровне значимости 0.05 нулевая гипотеза о том, что наличие детей не влияет на возврат кредита в срок, была отклонена. Это свидетельствует о том, что существует статистически значимое влияние наличия детей на возврат кредита в срок.\n"
   ]
  },
  {
   "cell_type": "markdown",
   "metadata": {},
   "source": [
    "#### Одна категориальная переменная и мы хотим проверить отличается ли количество в одной категориальной переменной, то используем chisquare"
   ]
  },
  {
   "cell_type": "markdown",
   "metadata": {},
   "source": [
    "Он проверяет, насколько наблюдаемое распределение категориальной переменной отличается от ожидаемого равномерного распределения.  "
   ]
  },
  {
   "cell_type": "markdown",
   "metadata": {},
   "source": [
    "**Гипотеза 1: Нет зависимости между количеством публикаций и днем недели.**  "
   ]
  },
  {
   "cell_type": "markdown",
   "metadata": {},
   "source": [
    "H0: День недели не влияет на количество объявлений  \n",
    "H1: День недели влияет на количество объявлений"
   ]
  },
  {
   "cell_type": "code",
   "execution_count": null,
   "metadata": {},
   "outputs": [
    {
     "data": {
      "text/plain": [
       "publication_weekday\n",
       "Понедельник    3591\n",
       "Вторник        4157\n",
       "Среда          3940\n",
       "Четверг        4270\n",
       "Пятница        3970\n",
       "Суббота        1918\n",
       "Воскресенье    1681\n",
       "Name: count, dtype: int64"
      ]
     },
     "metadata": {},
     "output_type": "display_data"
    }
   ],
   "source": [
    "daily_counts = df['publication_weekday'].value_counts().sort_index()\n",
    "daily_counts"
   ]
  },
  {
   "cell_type": "markdown",
   "metadata": {},
   "source": [
    "Убедимся, что у нас достаточно значнеий в каждой группе"
   ]
  },
  {
   "cell_type": "markdown",
   "metadata": {},
   "source": [
    "Для параметрических тестов в каждой группе должно быть больше 30 элементов, а для не параметрических тестов больше 10 значений."
   ]
  },
  {
   "cell_type": "code",
   "execution_count": null,
   "metadata": {},
   "outputs": [
    {
     "data": {
      "text/plain": [
       "age_cat\n",
       "старше 60    855\n",
       "до 30        751\n",
       "40-50        587\n",
       "50-60        532\n",
       "30-40        489\n",
       "Name: count, dtype: int64"
      ]
     },
     "metadata": {},
     "output_type": "display_data"
    }
   ],
   "source": [
    "df_by_userid_month['age_cat'].value_counts()"
   ]
  },
  {
   "cell_type": "code",
   "execution_count": null,
   "metadata": {},
   "outputs": [],
   "source": [
    "pagri_data_tools.chisquare(daily_counts)"
   ]
  },
  {
   "cell_type": "markdown",
   "metadata": {},
   "source": [
    "**Результат:**  \n",
    "\n",
    "- На уровне значимости 0.05 нулевая гипотеза о том, что день недели не влияет на количество объявлений, была отклонена. Это указывает на то, что существует статистически значимое влияние дня недели на количество объявлений."
   ]
  },
  {
   "cell_type": "code",
   "execution_count": null,
   "metadata": {},
   "outputs": [],
   "source": []
  },
  {
   "cell_type": "markdown",
   "metadata": {},
   "source": [
    "#### Категориальная с 2 значениями и числовая переменная  (тест манна уитни)"
   ]
  },
  {
   "cell_type": "markdown",
   "metadata": {},
   "source": [
    "**Гипотеза 2: У мужчин средний доход выше**  "
   ]
  },
  {
   "cell_type": "markdown",
   "metadata": {},
   "source": [
    "H0: У мужчин средний доход не выше, чем у женщин   \n",
    "H1: У мужчин средний доход выше, чем у женщин"
   ]
  },
  {
   "cell_type": "markdown",
   "metadata": {},
   "source": [
    "посмотрим на распределение"
   ]
  },
  {
   "cell_type": "code",
   "execution_count": null,
   "metadata": {},
   "outputs": [],
   "source": [
    "pagri_data_tools.histogram(df.total_income, titles_for_axis)"
   ]
  },
  {
   "cell_type": "markdown",
   "metadata": {},
   "source": [
    "Делаем вывод о распределении.  \n",
    "Выбираем критерий для проверки гипотезы.  \n",
    "Определяем уровнь значимости"
   ]
  },
  {
   "cell_type": "markdown",
   "metadata": {},
   "source": [
    "Если распределение не нормальное или много выбросов или просто нет уверености, что параметрика будет хрошо работать, то используем  \n",
    "тест манна уитни"
   ]
  },
  {
   "cell_type": "markdown",
   "metadata": {},
   "source": [
    "У нас значительные выбросы в доходе нужно использовать непараметрический тест"
   ]
  },
  {
   "cell_type": "markdown",
   "metadata": {},
   "source": [
    "Используем критерий Манна-Уитни  \n",
    "Альтернатива будет - больше  \n",
    "Уровень значимости alpha выберем 0.05"
   ]
  },
  {
   "cell_type": "markdown",
   "metadata": {},
   "source": [
    "Убедимся, что у нас достаточно значнеий в каждой группе"
   ]
  },
  {
   "cell_type": "markdown",
   "metadata": {},
   "source": [
    "Для параметрических тестов в каждой группе должно быть больше 30 элементов, а для не параметрических тестов больше 10 значений."
   ]
  },
  {
   "cell_type": "code",
   "execution_count": null,
   "metadata": {},
   "outputs": [
    {
     "data": {
      "text/plain": [
       "age_cat\n",
       "старше 60    855\n",
       "до 30        751\n",
       "40-50        587\n",
       "50-60        532\n",
       "30-40        489\n",
       "Name: count, dtype: int64"
      ]
     },
     "metadata": {},
     "output_type": "display_data"
    }
   ],
   "source": [
    "df_by_userid_month['age_cat'].value_counts()"
   ]
  },
  {
   "cell_type": "code",
   "execution_count": null,
   "metadata": {},
   "outputs": [],
   "source": [
    "male = df[df.gender=='M']['total_income']\n",
    "female = df[df.gender=='F']['total_income']"
   ]
  },
  {
   "cell_type": "markdown",
   "metadata": {},
   "source": [
    "Если используем альтернативу, то отсчет идет от первого аргумента функции.  \n",
    "То есть он должен быть больше или меньше, исходя из постановки гипотезы. И исходя из этого выбераем параметр alternative."
   ]
  },
  {
   "cell_type": "code",
   "execution_count": null,
   "metadata": {},
   "outputs": [],
   "source": [
    "pagri_data_tools.mannwhitneyu(male, female, alternative='l')"
   ]
  },
  {
   "cell_type": "markdown",
   "metadata": {},
   "source": [
    "**Результат:**  \n",
    "\n",
    "- На уровне значимости 0.05 нулевая гипотеза о том, что у мужчин средний доход не выше, чем у женщин, была отклонена. Это указывает на то, что доход мужчин статистически значимо выше, чем у женщин."
   ]
  },
  {
   "cell_type": "markdown",
   "metadata": {},
   "source": [
    "#### Категориальная с 2 значениями и числовая переменная  (т тест)"
   ]
  },
  {
   "cell_type": "markdown",
   "metadata": {},
   "source": [
    "Если используем ттест, то сначала проводим тест на проверку дисперсии\n"
   ]
  },
  {
   "cell_type": "markdown",
   "metadata": {},
   "source": [
    "\n",
    "Проверим гипотезу, что дисперсии в группах не отличаются\n",
    "\n",
    "H0: У должников и не должников дисперсия не отличается  \n",
    "H1: У должников и не должников дисперсия отличается\n",
    "\n",
    "Используем тест Левена\n"
   ]
  },
  {
   "cell_type": "code",
   "execution_count": null,
   "metadata": {},
   "outputs": [],
   "source": [
    "yes = df[df.debt=='есть']['age']\n",
    "no = df[df.debt=='нет']['age']"
   ]
  },
  {
   "cell_type": "code",
   "execution_count": null,
   "metadata": {},
   "outputs": [],
   "source": [
    "pagri_data_tools.levene([yes, no])"
   ]
  },
  {
   "cell_type": "markdown",
   "metadata": {},
   "source": [
    "Так как дисперсия в группах разная, будем использовать тест Уэлча.  \n",
    "Уровень значимости alpha выберем 0.05"
   ]
  },
  {
   "cell_type": "markdown",
   "metadata": {},
   "source": [
    "Если используем альтернативу, то отсчет идет от первого аргумента функции.  \n",
    "То есть он должен быть больше или меньше, исходя из постановки гипотезы. И исходя из этого выбераем параметр alternative."
   ]
  },
  {
   "cell_type": "code",
   "execution_count": null,
   "metadata": {},
   "outputs": [],
   "source": [
    "pagri_data_tools.ttest_ind(yes, no, equal_var=False, alternative='s')"
   ]
  },
  {
   "cell_type": "markdown",
   "metadata": {},
   "source": [
    "Построим доверительный интервал"
   ]
  },
  {
   "cell_type": "code",
   "execution_count": null,
   "metadata": {},
   "outputs": [],
   "source": [
    "pagri_data_tools.confint_t_2samples(yes, no, equal_var=False, alternative='s')"
   ]
  },
  {
   "cell_type": "markdown",
   "metadata": {},
   "source": [
    "#### Категориальная переменная, у которой больше 2 значений и числовая (ANOVA)"
   ]
  },
  {
   "cell_type": "markdown",
   "metadata": {},
   "source": [
    "**Гипотеза 4: Средний доход по семейному статусу не отличается**  \n",
    "\n",
    "H0: Средний ежемесячный доход не различается между группами по семейному статусу  \n",
    "H1: Средний ежемесячный доход различается между группами по семейному статусу  \n"
   ]
  },
  {
   "cell_type": "markdown",
   "metadata": {},
   "source": [
    "посмотрим на распределение"
   ]
  },
  {
   "cell_type": "code",
   "execution_count": null,
   "metadata": {},
   "outputs": [],
   "source": [
    "pagri_data_tools.histogram(df.total_income, titles_for_axis)"
   ]
  },
  {
   "cell_type": "markdown",
   "metadata": {},
   "source": [
    "Делаем вывод о распределении.  \n",
    "Выбираем критерий для проверки гипотезы.  \n",
    "Определяем уровнь значимости"
   ]
  },
  {
   "cell_type": "markdown",
   "metadata": {},
   "source": [
    "Предположения ANOVA:\n",
    "- Данные должны быть нормально распределены.\n",
    "- Дисперсии в группах должны быть равны (гомоскедастичность).\n",
    "- Наблюдения должны быть независимыми."
   ]
  },
  {
   "cell_type": "markdown",
   "metadata": {},
   "source": [
    "Если хоть одно из этого не выполняется, то лучше использовать kruskal"
   ]
  },
  {
   "cell_type": "markdown",
   "metadata": {},
   "source": [
    "Если распределение не нормальное или много выбросов или просто нет уверености, что параметрика будет хрошо работать, то используем  \n",
    "тест манна уитни"
   ]
  },
  {
   "cell_type": "markdown",
   "metadata": {},
   "source": [
    "Если эти предположения выполняются, то используем тест ANOVA"
   ]
  },
  {
   "cell_type": "markdown",
   "metadata": {},
   "source": [
    "Если используем anova, то сначала проводим тест на проверку дисперсии\n"
   ]
  },
  {
   "cell_type": "markdown",
   "metadata": {},
   "source": [
    "ANOVA уже учитывает множественное тестирование в своей структуре.  \n",
    "Поэтому поправка Бонферрони не нужна.   \n",
    "Но если после anova мы хотим сравнить отдельные пары, то будет множественное сравнение, и поправка Бонферрони нужна."
   ]
  },
  {
   "cell_type": "markdown",
   "metadata": {},
   "source": [
    "Если используем anova, то сначала проводим тест на проверку дисперсии\n"
   ]
  },
  {
   "cell_type": "markdown",
   "metadata": {},
   "source": [
    "\n",
    "Проверим гипотезу, что дисперсии в группах не отличаются\n",
    "\n",
    "H0: У должников и не должников дисперсия не отличается  \n",
    "H1: У должников и не должников дисперсия отличается\n",
    "\n",
    "Используем тест Левена\n"
   ]
  },
  {
   "cell_type": "code",
   "execution_count": null,
   "metadata": {},
   "outputs": [],
   "source": [
    "gropu_a = df[df.debt=='a']['age']\n",
    "gropu_b = df[df.debt=='b']['age']\n",
    "gropu_c = df[df.debt=='c']['age']"
   ]
  },
  {
   "cell_type": "code",
   "execution_count": null,
   "metadata": {},
   "outputs": [],
   "source": [
    "pagri_data_tools.levene([gropu_a, gropu_b, gropu_c])"
   ]
  },
  {
   "cell_type": "markdown",
   "metadata": {},
   "source": [
    "Так как дисперсия в группах разная, будем использовать тест Уэлча.  \n",
    "Уровень значимости alpha выберем 0.05"
   ]
  },
  {
   "cell_type": "markdown",
   "metadata": {},
   "source": [
    "Убедимся, что у нас достаточно значнеий в каждой группе"
   ]
  },
  {
   "cell_type": "markdown",
   "metadata": {},
   "source": [
    "Для параметрических тестов в каждой группе должно быть больше 30 элементов, а для не параметрических тестов больше 10 значений."
   ]
  },
  {
   "cell_type": "code",
   "execution_count": null,
   "metadata": {},
   "outputs": [
    {
     "data": {
      "text/plain": [
       "age_cat\n",
       "старше 60    855\n",
       "до 30        751\n",
       "40-50        587\n",
       "50-60        532\n",
       "30-40        489\n",
       "Name: count, dtype: int64"
      ]
     },
     "metadata": {},
     "output_type": "display_data"
    }
   ],
   "source": [
    "df_by_userid_month['age_cat'].value_counts()"
   ]
  },
  {
   "cell_type": "markdown",
   "metadata": {},
   "source": [
    "Если дисперсии не отличаютс, то проводим обычный ANOVA"
   ]
  },
  {
   "cell_type": "code",
   "execution_count": null,
   "metadata": {},
   "outputs": [],
   "source": [
    "pagri_data_tools.anova_oneway_df(df[['family_status', 'total_income']])"
   ]
  },
  {
   "cell_type": "markdown",
   "metadata": {},
   "source": [
    "Если гипотеза о равенстве дисперсий была отклонена, то используем ANOVA Welch."
   ]
  },
  {
   "cell_type": "code",
   "execution_count": null,
   "metadata": {},
   "outputs": [],
   "source": [
    "pagri_data_tools.anova_oneway_welch_df(df[['family_status', 'total_income']])"
   ]
  },
  {
   "cell_type": "markdown",
   "metadata": {},
   "source": [
    "Если нулевая гипотеза отклонилась, то можно определить в каких парах есть различия.  \n",
    "Можно использовать множественное сравнение и т тест или мана уитни, но обязательно использовать поправку бонферони.  \n",
    "Или можно использовать тест Тьюки."
   ]
  },
  {
   "cell_type": "markdown",
   "metadata": {},
   "source": [
    "Используем тест Тьюки, чтобы определить различия между группами  \n",
    "Уровень значимости alpha выберем 0.05"
   ]
  },
  {
   "cell_type": "markdown",
   "metadata": {},
   "source": [
    "тест Тьюки уже учитывает множественное тестирование в своей структуре.  \n",
    "Поэтому поправка Бонферрони не нужна. "
   ]
  },
  {
   "cell_type": "code",
   "execution_count": null,
   "metadata": {},
   "outputs": [],
   "source": [
    "pagri_data_tools.tukey_hsd_df(df[['family_status', 'total_income']])"
   ]
  },
  {
   "cell_type": "markdown",
   "metadata": {},
   "source": [
    "Смотрим в каких парах гипотеза отвергается"
   ]
  },
  {
   "cell_type": "markdown",
   "metadata": {},
   "source": [
    "Видим, что гипотеза отвергается в парах где есть вдова / вдовец\n"
   ]
  },
  {
   "cell_type": "markdown",
   "metadata": {},
   "source": [
    "**Результат:**  \n",
    "\n",
    "- На уровне значимости 0.05 нулевая гипотеза о том, что средний ежемесячный доход не различается между группами по семейному статусу, была отклонена.  \n",
    "Это указывает на то, что семейный статус оказывает статистически значимое влияние на ежемесячный доход."
   ]
  },
  {
   "cell_type": "markdown",
   "metadata": {},
   "source": [
    "#### Категориальная переменная, у которой больше 2 значений и числовая (Kruskal-Wallis)"
   ]
  },
  {
   "cell_type": "markdown",
   "metadata": {},
   "source": [
    "Если распределение не нормальное или много выбросов или просто нет уверености, что параметрика будет хрошо работать, то используем  непараметрические методы."
   ]
  },
  {
   "cell_type": "markdown",
   "metadata": {},
   "source": [
    "Используем критерий Краскела-Уоллиса  \n",
    "Уровень значимости alpha выберем 0.05"
   ]
  },
  {
   "cell_type": "markdown",
   "metadata": {},
   "source": [
    "Убедимся, что у нас достаточно значнеий в каждой группе"
   ]
  },
  {
   "cell_type": "markdown",
   "metadata": {},
   "source": [
    "Для параметрических тестов в каждой группе должно быть больше 30 элементов, а для не параметрических тестов больше 10 значений."
   ]
  },
  {
   "cell_type": "code",
   "execution_count": null,
   "metadata": {},
   "outputs": [
    {
     "data": {
      "text/plain": [
       "age_cat\n",
       "старше 60    855\n",
       "до 30        751\n",
       "40-50        587\n",
       "50-60        532\n",
       "30-40        489\n",
       "Name: count, dtype: int64"
      ]
     },
     "metadata": {},
     "output_type": "display_data"
    }
   ],
   "source": [
    "df_by_userid_month['age_cat'].value_counts()"
   ]
  },
  {
   "cell_type": "markdown",
   "metadata": {},
   "source": [
    "критерий Краскела-Уоллиса уже учитывает множественное тестирование в своей структуре.  \n",
    "Поэтому поправка Бонферрони не нужна.   \n",
    "Но если после критерия Краскела-Уоллиса мы хотим сравнить отдельные пары, то будет множественное сравнение, и поправка Бонферрони нужна."
   ]
  },
  {
   "cell_type": "code",
   "execution_count": null,
   "metadata": {},
   "outputs": [],
   "source": [
    "pagri_data_tools.kruskal_df(df[['family_status', 'total_income']])"
   ]
  },
  {
   "cell_type": "markdown",
   "metadata": {},
   "source": [
    "Если нулевая гипотеза отклонилась, то можно определить в каких парах есть различия.  \n",
    "Можно использовать множественное сравнение и т тест или мана уитни, но обязательно использовать поправку бонферони.  \n",
    "Или можно использовать тест Тьюки."
   ]
  },
  {
   "cell_type": "markdown",
   "metadata": {},
   "source": [
    "Используем тест Тьюки, чтобы определить различия между группами  \n",
    "Уровень значимости alpha выберем 0.05"
   ]
  },
  {
   "cell_type": "markdown",
   "metadata": {},
   "source": [
    "тест Тьюки уже учитывает множественное тестирование в своей структуре.  \n",
    "Поэтому поправка Бонферрони не нужна. "
   ]
  },
  {
   "cell_type": "code",
   "execution_count": null,
   "metadata": {},
   "outputs": [],
   "source": [
    "pagri_data_tools.tukey_hsd_df(df[['family_status', 'total_income']])"
   ]
  },
  {
   "cell_type": "markdown",
   "metadata": {},
   "source": [
    "Смотрим в каких парах гипотеза отвергается"
   ]
  },
  {
   "cell_type": "markdown",
   "metadata": {},
   "source": [
    "Видим, что гипотеза отвергается в парах где есть вдова / вдовец\n"
   ]
  },
  {
   "cell_type": "markdown",
   "metadata": {},
   "source": [
    "**Результат:**  \n",
    "\n",
    "- На уровне значимости 0.05 нулевая гипотеза о том, что средний ежемесячный доход не различается между группами по семейному статусу, была отклонена.  \n",
    "Это указывает на то, что семейный статус оказывает статистически значимое влияние на ежемесячный доход."
   ]
  },
  {
   "cell_type": "markdown",
   "metadata": {},
   "source": [
    "#### Бутстреп (категориальная переменная имеет 2 значения)"
   ]
  },
  {
   "cell_type": "markdown",
   "metadata": {},
   "source": [
    "Если мы не хотим использовать параметрику или не параметрику или нам нужно проверить гипотезу не по среднему, например, медиана или какой-то перцинтиль,  \n",
    "то используем бутстреп"
   ]
  },
  {
   "cell_type": "markdown",
   "metadata": {},
   "source": [
    "**Если категориальная переменная имеет 2 занчения.**"
   ]
  },
  {
   "cell_type": "markdown",
   "metadata": {},
   "source": [
    "Вместо теста манна уитни, когда нет уверености в т тесте, можно использовать бутстреп"
   ]
  },
  {
   "cell_type": "markdown",
   "metadata": {},
   "source": [
    "**Гипотеза 7:  Медианный доход у должников и не должников не отличается**  \n",
    "\n",
    "H0: Медианный доход у должников и не должников не отличается  \n",
    "H1: Медианный доход у должников и не должников отличается\n"
   ]
  },
  {
   "cell_type": "markdown",
   "metadata": {},
   "source": [
    "Используем бутстреп для проверке гипотезы  \n",
    "Уровень значимости alpha выберем 0.05"
   ]
  },
  {
   "cell_type": "markdown",
   "metadata": {},
   "source": [
    "Когда мы сравниваем две группы в бутстрепе, мы можем просто посмотреть, находится ли 0 внутри доверительного интервала, чтобы определить, существует ли статистически значимое различие между группами.   \n",
    "Если 0 лежит вне доверительного интервала, то мы можем сказать, что существует статистически значимое различие между группами."
   ]
  },
  {
   "cell_type": "code",
   "execution_count": null,
   "metadata": {},
   "outputs": [],
   "source": [
    "yes = df[df.debt=='есть']['total_income']\n",
    "no = df[df.debt=='нет']['total_income']"
   ]
  },
  {
   "cell_type": "code",
   "execution_count": null,
   "metadata": {},
   "outputs": [],
   "source": [
    "fig = pagri_data_tools.bootstrap_diff_2sample(yes, no, stat_func=np.median)"
   ]
  },
  {
   "cell_type": "code",
   "execution_count": null,
   "metadata": {},
   "outputs": [],
   "source": [
    "fig.show()"
   ]
  },
  {
   "cell_type": "markdown",
   "metadata": {},
   "source": [
    "**Результат:**  \n",
    "\n",
    "- На уровне значимости 0.05 нулевая гипотеза о том, что медианный доход у должников и не должников не отличается, была отклонена.  \n",
    "Это указывает на то, что существует статистически значимая разница между медианным доходом должников и не должников.  \n",
    "95 % доверительный интервал разницы между медианным доходом должников и не должников равен (-2648.05, 179.34)\n"
   ]
  },
  {
   "cell_type": "markdown",
   "metadata": {},
   "source": [
    "#### Бутстреп (категориальная переменная больше 2 значений)"
   ]
  },
  {
   "cell_type": "markdown",
   "metadata": {},
   "source": [
    "Когда у нас больше двух групп, способ определения результата по позиции нуля от разности внутри или вне доверительного интервала не работает, поскольку мы имеем несколько доверительных интервалов для каждой пары сравнений."
   ]
  },
  {
   "cell_type": "markdown",
   "metadata": {},
   "source": [
    "Чтобы сравнить средние значения зарплаты между тремя и более группами, мы можем использовать бутстрэп. Алгоритм бутстрэпа будет следующим:\n",
    "\n",
    "- Создаем выборку с заменой из исходных данных.\n",
    "- Вычисляем средние значения зарплаты для каждой группы в выборке.\n",
    "- Вычисляем разности средних между группами (например, разность между Молодым и Взрослым, между Взрослым и Старым и т.д.).\n",
    "- Повторяем шаги 1-3 many times (например, 1000 раз).\n",
    "- Строим гистограмму распределения разностей средних, полученных на шаге 3.\n",
    "- Определяем p-value\n",
    "\n"
   ]
  },
  {
   "cell_type": "markdown",
   "metadata": {},
   "source": [
    "Поправка Бонферрони заключается в том, что для значимости результата необходимо, чтобы p-value для каждого сравнения было меньше уровня значимости, разделенного на количество сравнений. Например, если уровень значимости равен 0.05, а мы делаем три сравнения, то необходимо, чтобы p-value для каждого сравнения было меньше 0.05/3 = 0.0167.\n",
    "\n",
    "В случае использования бутстрэпа, мы можем применить поправку Бонферрони следующим образом:"
   ]
  },
  {
   "cell_type": "markdown",
   "metadata": {},
   "source": [
    "- Вычисляем разности средних для каждой пары сравнений.\n",
    "- Вычисляем p-value для каждой пары сравнений, используя гистограмму распределения разностей средних.\n",
    "- Применяем поправку Бонферрони, разделяя уровень значимости на количество сравнений.\n",
    "- Если p-value для какой-либо пары сравнений меньше поправленного уровня значимости, то считаем, что различие между группами статистически значимо."
   ]
  },
  {
   "cell_type": "markdown",
   "metadata": {},
   "source": [
    "В нашем примере, если мы применяем поправку Бонферрони, то необходимо, чтобы p-value для каждого сравнения было меньше 0.05/3 = 0.0167. Если мы получили следующие результаты:\n",
    "\n",
    "- Разность между Молодым и Взрослым: 8000 (p-value: 0.01)\n",
    "- Разность между Взрослым и Старым: 3000 (p-value: 0.04)\n",
    "- Разность между Молодым и Старым: 11000 (p-value: 0.001)\n",
    "- Тогда мы можем заключить, что средняя зарплата у Старых статистически значимо выше, чем у Молодых и Взрослых (поскольку p-value для этого сравнения меньше поправленного уровня значимости). Для остальных сравнений мы не можем сделать выводы о статистической значимости, поскольку p-value больше поправленного уровня значимости."
   ]
  },
  {
   "cell_type": "code",
   "execution_count": null,
   "metadata": {},
   "outputs": [],
   "source": []
  },
  {
   "cell_type": "markdown",
   "metadata": {},
   "source": [
    "> Для проверки дисперсии"
   ]
  },
  {
   "cell_type": "code",
   "execution_count": null,
   "metadata": {},
   "outputs": [],
   "source": [
    "pagri_data_tools.levene_df\n",
    "pagri_data_tools.levene\n",
    "pagri_data_tools.bartlett_df\n",
    "pagri_data_tools.bartlett"
   ]
  },
  {
   "cell_type": "markdown",
   "metadata": {},
   "source": [
    "> Выбираем критерий\n"
   ]
  },
  {
   "cell_type": "code",
   "execution_count": null,
   "metadata": {},
   "outputs": [],
   "source": [
    "pagri_data_tools.chi2_pearson\n",
    "pagri_data_tools.ttest_ind_df\n",
    "pagri_data_tools.ttest_ind\n",
    "pagri_data_tools.mannwhitneyu_df\n",
    "pagri_data_tools.mannwhitneyu\n",
    "pagri_data_tools.proportion_ztest_1sample\n",
    "pagri_data_tools.proportions_ztest_2sample\n",
    "pagri_data_tools.proportions_ztest_column_2sample\n",
    "pagri_data_tools.proportions_chi2\n",
    "pagri_data_tools.proportions_chi2_column\n",
    "pagri_data_tools.anova_oneway_df\n",
    "pagri_data_tools.anova_oneway\n",
    "pagri_data_tools.tukey_hsd_df\n",
    "pagri_data_tools.anova_oneway_welch_df\n",
    "pagri_data_tools.kruskal_df\n",
    "pagri_data_tools.kruskal\n",
    "pagri_data_tools.bootstrap_diff_2sample # важно, сохраняем fig и в следующей ячейке делаем fig.shwo(), иначе на google colab работает некорректно"
   ]
  },
  {
   "cell_type": "markdown",
   "metadata": {},
   "source": [
    "> Если отклоняем гипотезу, то строим доверитлеьный интервал\n"
   ]
  },
  {
   "cell_type": "code",
   "execution_count": null,
   "metadata": {},
   "outputs": [],
   "source": [
    "pagri_data_tools.confint_t_2samples\n",
    "pagri_data_tools.confint_t_2samples_df\n",
    "pagri_data_tools.confint_proportion_ztest_2sample\n",
    "pagri_data_tools.confint_proportion_ztest_column_2sample\n",
    "pagri_data_tools.confint_proportion_2sample_statsmodels\n",
    "pagri_data_tools.confint_proportion_coluns_2sample_statsmodels"
   ]
  },
  {
   "cell_type": "markdown",
   "metadata": {},
   "source": [
    "> Сделать опцию в бутстреп функции, чтобы строился только доверительный интервал\n"
   ]
  },
  {
   "cell_type": "markdown",
   "metadata": {},
   "source": [
    "> Также сделать функцию для доверилеьных интервалов для мана уитни через  \n",
    "> the Hodges-Lehmann estimation, which provides a point estimate and a confidence interval for the difference in medians.\n"
   ]
  },
  {
   "cell_type": "code",
   "execution_count": null,
   "metadata": {},
   "outputs": [],
   "source": [
    "import pingouin as pg\n",
    "\n",
    "# Perform the Mann-Whitney U test and calculate the confidence interval\n",
    "mw_test = pg.mwu(x, y, tail='two-sided', confidence=0.95)\n",
    "\n",
    "# Print the results\n",
    "print(mw_test)"
   ]
  },
  {
   "cell_type": "code",
   "execution_count": null,
   "metadata": {},
   "outputs": [],
   "source": [
    "import numpy as np\n",
    "from scipy import stats\n",
    "\n",
    "# Perform the Mann-Whitney U test\n",
    "u_stat, p_value = stats.mannwhitneyu(x, y, alternative='two-sided')\n",
    "\n",
    "# Calculate the Hodges-Lehmann estimation\n",
    "hl_est = np.median(np.array([x_i - y_j for x_i in x for y_j in y]))\n",
    "\n",
    "# Calculate the confidence interval\n",
    "ci = stats.t.interval(0.95, len(x) + len(y) - 2, loc=hl_est, scale=stats.sem(np.array([x_i - y_j for x_i in x for y_j in y])))\n",
    "\n",
    "# Print the results\n",
    "print('Hodges-Lehmann estimation:', hl_est)\n",
    "print('Confidence interval:', ci)"
   ]
  },
  {
   "cell_type": "markdown",
   "metadata": {},
   "source": [
    "> Подход следуюищй - мы до раздела проверка гипотез, когда изучаем данные (разделы пропусков, выбросов, дубликатов, зависиместей между перменными и графики),  \n",
    "> то мы делаем выводы и формируем наблюдеия.  \n",
    "> Вот эти наблюдения и выводы нужно проверить в проверке гипотез.  \n",
    "> И потом в основном выводе уже писать не просто, что у нас мужчин больше чем женьшин, а писать, что на уровен значисомти таком то у нас мужчина больше чем  \n",
    "> женщин с таким то доверительным интервалом.  \n",
    "> Таким образом выводы по вомзожности должны проходить через этап проверки гипотез, тогда эти выводы становятся более существенными.\n"
   ]
  },
  {
   "cell_type": "markdown",
   "metadata": {},
   "source": [
    "- Гипотезы появляются, когда мы задаем вопросы данным. Мы изучили данные, преобработали и теперь начинаем задавать вопросы.\n",
    "- Выдвигаем гипотезу (заметили что-то необычное и хотим проверить), далее формулируем ее и далее проверяем.\n",
    "- Не забываем формулировать гипотезы словами. Пишем что является гипотезой H0, а что гипотезой H1\n",
    "- Формулируем все гипотезы, которые хотим проверить. Если будет 100 гипотез, то все 100 нужно сформулировать и потом проверить и сделать вывод.\n",
    "- Гипотезы могут быть и простыми вопросами без гипотез H0 и H1, такие гипотезы мы проверяем графиками или анализируя таблицу.\n",
    "- Восновном, когда мы собиаремся применить стат аппарат для проверки гипотезы, то мы должны записать ее через H0 и H1.\n"
   ]
  },
  {
   "cell_type": "markdown",
   "metadata": {},
   "source": [
    "> Отличная статья про доверительные интервалы для разных статистик  \n",
    "> https://habr.com/ru/articles/807051/\n"
   ]
  },
  {
   "cell_type": "markdown",
   "metadata": {},
   "source": [
    "> Bootstrapping\n"
   ]
  },
  {
   "cell_type": "markdown",
   "metadata": {},
   "source": [
    "> В бутстрепе, если мы хотим сравнить две выборки, то нельзя смотреть  \n",
    "> где находится исходная разница средних в бутстрапированной выборке  \n",
    "> Так как мы берем бутстреп из наших выборок и впролне реально.что наша разность  \n",
    "> будет близка к с реднему бутстропированной выборки  \n",
    "> Поэтому p value нужно определять по месту нуля в бутстропированной выборке\n"
   ]
  },
  {
   "cell_type": "markdown",
   "metadata": {},
   "source": [
    "> Посмотрим p value для 0 (если различий нет, то разница должна быть 0)\n",
    "> Для этого посчитаем cdf для + и - среднего, чтобы получить 2 значения cdf\n",
    "> а теперь возьмем минимум и умножим на 2, так как альт гипотеза у нас.что\n",
    "> просто не равно 0, значит и справа и слева\n"
   ]
  },
  {
   "cell_type": "code",
   "execution_count": 182,
   "metadata": {},
   "outputs": [],
   "source": []
  },
  {
   "cell_type": "code",
   "execution_count": null,
   "metadata": {},
   "outputs": [],
   "source": [
    "Estimating the power of a non-parametric test using bootstrapping involves simulating the testing process multiple times to estimate the probability of rejecting the null hypothesis. Here's a general outline of the steps:\n",
    "\n",
    "**Specify the null and alternative hypotheses **: Define the null and alternative hypotheses for your test. For example, the null hypothesis might be that the two groups have the same distribution, and the alternative hypothesis might be that the two groups have different distributions.\n",
    "\n",
    "Generate simulated data: Generate simulated data that reflects the null hypothesis. For example, you could generate two groups of random data from the same distribution.\n",
    "\n",
    "Perform the Mann-Whitney U test: Perform the Mann-Whitney U test on the simulated data to obtain a p-value.\n",
    "\n",
    "Repeat steps 2-3 many times: Repeat steps 2-3 many times (e.g., 1000 times) to generate a distribution of p-values under the null hypothesis.\n",
    "\n",
    "Estimate the power: Estimate the power of the test by calculating the proportion of times the p-value is below a certain significance level (e.g., 0.05) when the alternative hypothesis is true. To do this, you'll need to generate simulated data that reflects the alternative hypothesis and repeat steps 2-4."
   ]
  },
  {
   "cell_type": "markdown",
   "metadata": {},
   "source": [
    "### Промежуточный вывод\n"
   ]
  },
  {
   "cell_type": "markdown",
   "metadata": {},
   "source": [
    "Чтобы собрать все наблюдения используем это  \n",
    "нужно поставить `_start_` где начало и `_end_` где конец"
   ]
  },
  {
   "cell_type": "markdown",
   "metadata": {},
   "source": [
    "Не забываем удалить метки `_start_` и `_end_` "
   ]
  },
  {
   "cell_type": "code",
   "execution_count": null,
   "metadata": {},
   "outputs": [],
   "source": [
    "import IPython\n",
    "notebook_path = \"/\".join(\n",
    "        IPython.extract_module_locals()[1][\"__vsc_ipynb_file__\"].split(\"/\"))\n",
    "pagri_data_tools.collect_observations(notebook_path, '/home/pagri/git_repos/pagri-projects/quarto/projects/prospective_tariff_for_telecom/temp_for_report.ipynb')"
   ]
  },
  {
   "cell_type": "markdown",
   "metadata": {},
   "source": [
    "- На уровне значимости 0.05 гипотеза, что есть зависимость между количеством публикаций и днем недели подтвердилась.  \n",
    "- На уровне значимости 0.05 гипотеза, что удаленность от центра влияет на количество публикаций, подтвердилась.  "
   ]
  },
  {
   "cell_type": "markdown",
   "metadata": {},
   "source": [
    "## Общий вывод\n"
   ]
  },
  {
   "cell_type": "markdown",
   "metadata": {},
   "source": [
    "ВАЖНО  \n",
    "проверить, что результат проверки гипотез учтен в выводах.  \n",
    "То есть если у нас был промежуточный вывод, но проверка гипотез опровергла этот вывод, то нужно изменить вывод на противоположный."
   ]
  },
  {
   "cell_type": "markdown",
   "metadata": {},
   "source": [
    "Проходим собираем все промежуточные выводы, вставляем сюда и выбираем важные. "
   ]
  },
  {
   "cell_type": "markdown",
   "metadata": {},
   "source": [
    "ВАЖНО  \n",
    "из промежуточных выводов в изучении данных собрать подобные выводы:  \n",
    "- Рынок жилья представлен объектами общей площадью от 12 до 900 кв.м. В основном это жилье от 30 до 100 кв.м. с пиком в сегменте 30-75 кв.м. В жилой площади квартиры преобладает диапазон 15-50 кв.м. Размер площади кухни-от 5 до 15 кв.м., с пиком 9 кв.м. Это стандартные небольшие квартиры эконом-класса. Подавляющее большинство квартир- 1-3 комнатные, с высотой потолка 2,6-2,7 м., но встречаются редкие варианты до 19 комнат и высотой потолка до 20 кв.м. (либо ошибка, либо свободная планировка с возможностью многоуровневости).\n",
    "- Цены на квартиры в основном находятся в диапазоне 2.5-15 млн.руб. с пиком в области 3-5 млн.руб.(небольшие квартиры эконом-класса), но есть и уникальные объекты стоимостью до 763 млн.руб. Стоимость квадратного метра недвижимости варьируется от 50-130 тыс.руб. с пиком в 90-100 тыс.руб. Наряду с типовыми предложениями на продажу выставлено жилье премиум-класса со стоимостью 1 кв.м. до 1.9 млн.руб.\n",
    "- Общее время продажи жилой недвижимости-до 1618 дней. Половина квартир продается за период до 94 дней, а среднее значение по всему массиву данных -185 дней. При этом можно увидеть, что пик продаж приходится на 45-60 день с момента публикации. Исходя из расчета выбросов можно сказать, что продажи прошли аномально быстро, если сделки были оформлены в период до 16 дней и слишком долго, если до оформления сделки свыше 1134 дней.    "
   ]
  },
  {
   "cell_type": "markdown",
   "metadata": {},
   "source": [
    "Это важно, так как дает представление о данных в сжатой и удобной форме.  \n",
    "А далее уже идут выводы о зависимостях.  "
   ]
  },
  {
   "cell_type": "markdown",
   "metadata": {},
   "source": [
    "Не забываем ставить 2 пробела после Выводы и другие для quarto"
   ]
  },
  {
   "cell_type": "markdown",
   "metadata": {},
   "source": [
    "После каждой строки поставить либо перенос, либо 2 пробела для quarto  \n",
    "так как когда следующая строка начинается с дефиса и jupyter это понимает и делает новую строку,   \n",
    "то quarto не сделает новую строку"
   ]
  },
  {
   "cell_type": "markdown",
   "metadata": {},
   "source": [
    "**Выводы:**  \n"
   ]
  },
  {
   "cell_type": "markdown",
   "metadata": {},
   "source": [
    "- Долги есть у людей с разным доходом.  \n",
    "- У должников в среднем больше детей.  \n",
    "- У должников среднее количество детей больше у женщин, а у не должников срднее количество детей больше у мужчин  \n",
    "- У должников средний возраст немного ниже для всех категорий семейного положения.  \n",
    "- Медианный доход у должников и не должников практически не отличается  \n",
    "- Должники имеют ниже средний возраст как мужчины так и женщины. Ситуация сохраняется во всех группах дохода.  \n",
    "- Цель получения кредита практически не зависит от среднего ежемесяченого дохода.  \n",
    "- 92 % клиентов не имеют долга.  \n",
    "- Люди от 30 до 50 лет имеют самый высокий средний доход.  \n",
    "- Больше всего кредит берут на цели, связанные с недвижимостью, кроме людей в гражданском браке  \n",
    "- Люди в гражданском браке чаще берут кредит на свадьбу  \n",
    "- Женщины чаще возвращают кредит.  \n",
    "- Анализ значимости признаков для модели случайного леса показал, что доход является самым значимым признаком для предсказания задолженности.  \n",
    "- 58 % клиентов либо женаты, либо замужем. 19 % в гражданском браке. Можно сделать вывод что большинство в браке.  \n",
    "- Большинство клиентов женщины (66 процентов).  \n",
    "- Только 5 процентов клиентов моложе 25 лет. Основная часть клиентов старше 30 лет.  \n",
    "- Чем меньше количество детей, тем больше значений с высоким доходом.  \n",
    "- Болшая часть женатых имеет доход 100-200 тыс  \n",
    "- На всех уровнях образоания, кроме ученой степени, доход у мужчин выше.  \n",
    "- У мужчин, которые в браке или были в браке, количество детей больше, чем у женщин в той же категории.  \n"
   ]
  },
  {
   "cell_type": "markdown",
   "metadata": {},
   "source": [
    "**Аномалии и особенности в данных:**  \n",
    "\n",
    "- В датафрейме есть строки дубликаты. 54 строки. Меньше 1 % от всего датафрейма.  \n",
    "- В столбце с количеством детей есть отрицательные значения. 47 штук. Меньше 1 процента от всего датафрейма. Также есть клиенты с 20 детьми.  \n",
    "- Колонока общий трудовой стаж содержит 74 % отрицаетльных значений. А также максимальное количество дней стажа больше 400 тысяч дней, это больше 1000 лет.  \n",
    "- В колонке возраста 101 нулевое значени.  \n",
    "- Колонка дохода имеет слишком много знаков после запятой.  \n",
    "- В колонке с образованием присутствуют одни и те же знчения с разными регистрами. При этом в колонке с id образования все впрорядке.  \n"
   ]
  },
  {
   "cell_type": "markdown",
   "metadata": {},
   "source": [
    "**Результаты предобработки данных:**  \n",
    "\n",
    "- Удалили колонки с id образования и семейного статуса, так как нам для графиков лучше подойдут названия, а не id.\n",
    "- Колонка со стажем имеет совершенно некорректные данные. Чтобы не внести искажение в анализ, удалим эту колонку.\n"
   ]
  },
  {
   "cell_type": "markdown",
   "metadata": {},
   "source": [
    "**Результаты проверки гипотез:**  \n",
    "\n",
    "- Гипотеза 1: У мужчин средний доход выше, чем у женщин  \n",
    "**Результат:** На уровне значимости 0.05 гипотеза подтвердилась.  \n",
    "- Гипотеза 2: Цель получения кредита практически не зависит от среднего ежемесячного дохода  \n",
    "**Результат:** На уровне значимости 0.05 у нас нет оснований отвергнуть гипотезу.  \n",
    "- Гипотеза 3: Средний доход по семейному статусу примерно одинаковый, но у вдовцов отличается  \n",
    "**Результат:** На уровне значимости 0.05 гипотеза подтвердилась.  \n",
    "- Гипотеза 4: У должников в среднем больше детей  \n",
    "**Результат:** На уровне значимости 0.05 гипотеза подтвердилась.  \n",
    "- Гипотеза 5: У должников средний возраст ниже  \n",
    "**Результат:** На уровне значимости 0.05 гипотеза подтвердилась. 95% доверительный интервал для разницы средних возрастов для должников и не должников равен   (-inf, -2.74).  \n",
    "- Гипотеза 6: Медианный доход у должников и не должников не отличается  \n",
    "**Результат:** На уровне значимости 0.05 нет оснований отвергнуть гипотезу. 95% доверительный интервал разницы между медианным доходом должников и не должников равен (-2648.05, 179.34).  \n",
    "- Гипотеза 7: Наличие детей не влияет на возврат кредита в срок  \n",
    "**Результат:** На уровне значимости 0.05 гипотеза не подтвердилась.  \n"
   ]
  },
  {
   "cell_type": "markdown",
   "metadata": {},
   "source": [
    "**Рекомендации:**  \n",
    "\n",
    "- Добавить контроль данных, чтобы не дублировались значения с разными регистрами в колонке с образованием.\n",
    "- Добавить уникальный идентификатор клиента, чтобы избежать дублирования строк.\n",
    "- Добавить проверку на отрицательные значения и на слишком болшьшие значения в количестве детей при загрузке данных.\n",
    "- Выяснить откуда возникают отрицательные значения в трудовом стаже и добавить контроль ввода невалидных данных.\n",
    "- Выяснить причину нулевых значений в колонке возраста и добавить проверку на нулевые значения при загрузке данных.\n",
    "- Выяснить причину большого количества знаков после запятой в колонке дохода.\n"
   ]
  },
  {
   "cell_type": "markdown",
   "metadata": {},
   "source": [
    "ВАЖНО   \n",
    "ячейки далее лучше удалить до обработки ноутбука, чтобы не было ошибок  \n",
    "Копировать что нужно можно из шаблона"
   ]
  },
  {
   "cell_type": "markdown",
   "metadata": {},
   "source": [
    "> Что нужно сообщить в выводе\n",
    "\n",
    "- информацию о том, что удалось подтвердить гипотезы (тут пишем только те, которые удалось подтвердить)\n",
    "- всю информацию о датасете, которые важны. Дубликаты, которые несут практическую пользу и рекомендации по ним, пропуски также с рекомендациями\n",
    "  > и остальные моменты по данным и рекомендации. Тут важно указывать именно найденные аномалии, которые имеют практическую пользу, которые нужно исправить и прочее.  \n",
    "  > Пишем, что были найдены выбросы, они были связаны возможно с тем то и тем то.\n",
    "- и в конце обязательно call to action\n",
    "  > написать что необходимо сделать с этими результатами\n"
   ]
  },
  {
   "cell_type": "markdown",
   "metadata": {},
   "source": [
    "> Советы по оформлению общего выывод\n",
    "\n",
    "- не нужно вставлять таблицы и графики в вывод.\n",
    "  > В выводе пишем словами самое важное и практически полезное, что мы получили, причем в порядке убывания важности.  \n",
    "  > И когда мы пишем, что увидели то-то, то приводим гиперссылку на график или результат ячейки, где это получено.  \n",
    "  > Так будет компактный вывод и при необходимости человек сможет быстро перейти и посмотреть график или таблицу\n"
   ]
  },
  {
   "cell_type": "markdown",
   "metadata": {},
   "source": [
    "**Удалось подтвердить гипотезу** о влиянии различных характеристик клиента на факт погашения кредита в срок. Каждый из рассмотренных параметров оказывает влияние на надёжность заёмщика. Рассмотренные факторы по-разному влияют на надёжность заёмщиков. Например, семейное положение оказалось более значимым фактором, чем уровень дохода.\n"
   ]
  },
  {
   "cell_type": "markdown",
   "id": "ruled-penny",
   "metadata": {},
   "source": [
    "- В ходе анализа исходного набора данных было проведено (были устранены пропуски в двух колонках с числовыми значениями - 'total_income' и 'days_employed').\n",
    "- После **устранения явных и скрытых дупликатов** и удаления оставшихся после обогащения пропусков объем датасета сократился на 0.05%\n",
    "- Были устранены **выбросы** в колонках 'days_employed' и 'children': в первом случае выбросы возникли в результате системной ошибки (данные были внесены в часах, а не в днях); во втором случае ошибка, вероятнее всего была допущена людьми, вносившими данные в систему\n",
    "- ...\n"
   ]
  },
  {
   "cell_type": "markdown",
   "id": "alleged-strand",
   "metadata": {},
   "source": [
    "**Необходимо**\n"
   ]
  },
  {
   "cell_type": "markdown",
   "id": "critical-worker",
   "metadata": {},
   "source": [
    "> 1.  Запросить в отделе по работе с клиентами информацию о возможности брать кредит без подтверждения дохода.\n",
    ">\n",
    "> 2.  Сообщить коллегам, занимающимся выгрузкой о наличие дубликатов, если вопрос не разрешится, запросить индентификационный номер клиента к датасету.\n",
    ">\n",
    "> 3.  Прописать в задаче на поставку данных формат данных (пол только F и M, положительные значения). Приложить информацию о найденных аномалиях.\n"
   ]
  },
  {
   "cell_type": "code",
   "execution_count": null,
   "metadata": {},
   "outputs": [],
   "source": []
  },
  {
   "cell_type": "markdown",
   "metadata": {},
   "source": [
    "**Сначала проверяем орфографические ошибки**\n"
   ]
  },
  {
   "cell_type": "code",
   "execution_count": null,
   "metadata": {},
   "outputs": [],
   "source": [
    "import IPython\n",
    "notebook_path = \"/\".join(\n",
    "        IPython.extract_module_locals()[1][\"__vsc_ipynb_file__\"].split(\"/\"))\n",
    "pagri_data_tools.correct_notebook_text(notebook_path)"
   ]
  },
  {
   "cell_type": "markdown",
   "metadata": {},
   "source": [
    "**Затем создаем номера у глав и оглавление**\n"
   ]
  },
  {
   "cell_type": "markdown",
   "metadata": {},
   "source": [
    "> Чтобы добавить номера глав и ссылки для оглавления и сделать оглавлнеие  \n",
    "> оглавление добавиться в начало ноутбука\n"
   ]
  },
  {
   "cell_type": "markdown",
   "metadata": {},
   "source": [
    "> Сначала можно в режиме `draft` сделать пробный варант, проверить и потом уже запустить в режиме `final`\n"
   ]
  },
  {
   "cell_type": "code",
   "execution_count": null,
   "metadata": {},
   "outputs": [],
   "source": [
    "import IPython\n",
    "notebook_path = \"/\".join(\n",
    "        IPython.extract_module_locals()[1][\"__vsc_ipynb_file__\"].split(\"/\"))\n",
    "pagri_data_tools.make_headers_link_and_toc(notebook_path)"
   ]
  },
  {
   "cell_type": "markdown",
   "metadata": {},
   "source": [
    "**Далее создаем ссыки на выводы и аномалии**\n"
   ]
  },
  {
   "cell_type": "markdown",
   "metadata": {},
   "source": [
    "> Чтобы было удобно искать где вставить якорь для ссылки, названия выводов и аномалий должно точно совпадать  \n",
    "> в итоговом списке аномалий и выводов и в тех местах (то есть в наблюдениях под ячейками), куда мы будем помещать ссылки\n"
   ]
  },
  {
   "cell_type": "markdown",
   "metadata": {},
   "source": [
    "> Чтобы сделать ссылки на выводы и аномалии, нужно  \n",
    "> в тех местах, куда хотим переходить по ссылке вставить текст выводов или аномалий (берем прямо из основных выводов)  \n",
    "> выводы должны начинаться с `_conclusion_`  \n",
    "> аномалии должны начинаться с `_anomaly_`  \n",
    "> Примеры:  \n",
    ">\n"
   ]
  },
  {
   "cell_type": "markdown",
   "metadata": {},
   "source": [
    "Окончательный текст выводов можно будет потом исправить в выводах всего отчета и поместить их в начало,  \n",
    "важно, выводы не менять до момента, пока мы не создадим ссылки на них.  \n",
    "Чтобы автомтика не нарушилась.  \n",
    "Затем можно будет исправить уже сам текст выводов и это не нарушит ссылки."
   ]
  },
  {
   "cell_type": "code",
   "execution_count": null,
   "metadata": {},
   "outputs": [],
   "source": [
    "==== _anomalies_ В столбце с количеством детей есть отрицательные значения. 47 штук. "
   ]
  },
  {
   "cell_type": "markdown",
   "metadata": {},
   "source": [
    "> Можно в одной ячейке и выводы и аномалии, с обеих ссылок будет переходить сюда, но назад будет возвращаться только в одно место,  \n",
    "> в то, которое было первым в ячейке\n"
   ]
  },
  {
   "cell_type": "markdown",
   "metadata": {},
   "source": [
    "ВАЖНО  \n",
    "разобраться почему когда рядом ставишь 2 вывода или аномалии или 1 вывод плюс 1 аномалия (вместе 2), то появляется  \n",
    "2 ссылки на оглавление"
   ]
  },
  {
   "cell_type": "markdown",
   "metadata": {},
   "source": [
    "Делаем так\n",
    "- Из всех выводов в выбираем те, которые хотим поместить в начале отчета\n",
    "- Собриаем их в отдельном файле (чтобы удобно было копировать) Можно использовать clipboard history\n",
    "- Добавляем в начало вывода _conclusiions_  \n",
    "- Далее по одному выводу полностью копируем, вставляем в поиск и удаляем в начале _conclusions_  \n",
    "при этом в буфере обмена с _conclusions_ \n",
    "- Переходим в нужное место через поиск и вставляем. \n"
   ]
  },
  {
   "cell_type": "code",
   "execution_count": null,
   "metadata": {},
   "outputs": [],
   "source": [
    "==== _conclusion_ Только 5 процентов клиентов моложе 25 лет. Основная часть клиентов старше 30 лет.\n",
    "==== _anomalies_ В колонке возраста 101 нулевое значени."
   ]
  },
  {
   "cell_type": "markdown",
   "metadata": {},
   "source": [
    "ВАЖНО  \n",
    "Проийти просмотреть чтобы не было 2 раза близко \"к оглавлению\"  \n",
    "это может быть из-за того что у нас ссылки на выводы рядом с названием главы или раздела  \n",
    "Или просто могут быть 2 выводы рядом.  "
   ]
  },
  {
   "cell_type": "markdown",
   "metadata": {},
   "source": [
    "> Содеражние выводов и аномалий появится в начале ноутбука  \n",
    "> также 2 режима `draft` и `final`\n"
   ]
  },
  {
   "cell_type": "markdown",
   "metadata": {},
   "source": [
    "> Подумать как сделать удобнее создание выводов  \n",
    "> Пока лучше сначала взять выводы из наблюдений и выбрать из них наиболее важные и интересные, не меняя их.  \n",
    "> Далее берем этот список и поиском находим ячейку с этим выводом и перед графиком помещаем  \n",
    "> _conclusion_ и сам вывод\n"
   ]
  },
  {
   "cell_type": "code",
   "execution_count": null,
   "metadata": {},
   "outputs": [],
   "source": []
  },
  {
   "cell_type": "markdown",
   "metadata": {},
   "source": [
    "> Чтобы был нужный порядок в списке выводов и аномалий в начале отчета, нужно передвать словарь со списками выводов и аномалий.  \n",
    "> Переменная order принимает словарь, где ключи `conclusions` и `anomalies`, а значения это соответствующие списки\n"
   ]
  },
  {
   "cell_type": "markdown",
   "metadata": {},
   "source": [
    "> Примеры списков\n"
   ]
  },
  {
   "cell_type": "code",
   "execution_count": null,
   "metadata": {},
   "outputs": [],
   "source": [
    "order = dict(\n",
    "            conclusions =[ 'Женщины чаще возвращают кредит, чем мужчины.']\n",
    "            , anomalies = ['В датафрейме есть строки дубликаты. 54 строки. Меньше 1 % от всего датафрейма.  ']\n",
    ")"
   ]
  },
  {
   "cell_type": "code",
   "execution_count": null,
   "metadata": {},
   "outputs": [],
   "source": [
    "pagri_data_tools.add_conclusions_and_anomalies()"
   ]
  },
  {
   "cell_type": "code",
   "execution_count": null,
   "metadata": {},
   "outputs": [],
   "source": []
  },
  {
   "cell_type": "markdown",
   "metadata": {},
   "source": [
    "**Ставим переносы для булитов там, где их нет**"
   ]
  },
  {
   "cell_type": "code",
   "execution_count": null,
   "metadata": {},
   "outputs": [],
   "source": [
    "import IPython\n",
    "notebook_path = \"/\".join(\n",
    "        IPython.extract_module_locals()[1][\"__vsc_ipynb_file__\"].split(\"/\"))\n",
    "pagri_data_tools.check_observes_new_line(notebook_path, mode='final')"
   ]
  },
  {
   "cell_type": "markdown",
   "metadata": {},
   "source": [
    "**Если сильно нужно, создаем ссыки на гипотезы**\n"
   ]
  },
  {
   "cell_type": "markdown",
   "metadata": {},
   "source": [
    "> В главе гипотез для каждой гипоетзы, куда будем переходить из оглавления, в начале перед гипотезой ставим _hypothesis_ и пробел\n"
   ]
  },
  {
   "cell_type": "code",
   "execution_count": null,
   "metadata": {},
   "outputs": [],
   "source": [
    "==== _hypotsis_ **Гипотеза 1: Название гипотезы**"
   ]
  },
  {
   "cell_type": "markdown",
   "metadata": {},
   "source": [
    "> Выполняем следующую функцию и в начале отчета появится список гипотез с ссылками  \n",
    "> Далее нужно добавить результат гипотез вручную\n"
   ]
  },
  {
   "cell_type": "code",
   "execution_count": null,
   "metadata": {},
   "outputs": [],
   "source": [
    "pagri_data_tools.add_hypotheses_links_and_toc()"
   ]
  },
  {
   "cell_type": "markdown",
   "metadata": {},
   "source": [
    "**Финальное размещение ноутбука на git hub с ссылкой на google colab**\n"
   ]
  },
  {
   "cell_type": "markdown",
   "metadata": {},
   "source": [
    "> Комитим на гит хаб финальную версию ноутбука.  \n",
    "> Создаем на гит хаб readme файл проекта, в котором в начале идет ссылка на google colab  \n",
    "> Далее ее открываем и переходим на google colab  \n",
    "> Выполняем все ячейки, смотрим все ли правильно отобразилось.  \n",
    "> Далее в меню File выбираем сохранить копию на гит хаб.  \n",
    "> Не меняем имя, тогда все содержимое ноутбука сохраниться на гит хаб.\n"
   ]
  }
 ],
 "metadata": {
  "kernelspec": {
   "display_name": "pagri-projects-W8_aXYna-py3.12",
   "language": "python",
   "name": "python3"
  },
  "language_info": {
   "codemirror_mode": {
    "name": "ipython",
    "version": 3
   },
   "file_extension": ".py",
   "mimetype": "text/x-python",
   "name": "python",
   "nbconvert_exporter": "python",
   "pygments_lexer": "ipython3",
   "version": "3.12.7"
  }
 },
 "nbformat": 4,
 "nbformat_minor": 2
}
