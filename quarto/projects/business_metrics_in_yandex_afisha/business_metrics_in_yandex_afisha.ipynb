{
 "cells": [
  {
   "cell_type": "raw",
   "metadata": {
    "vscode": {
     "languageId": "raw"
    }
   },
   "source": [
    "---\n",
    "description_for_list: \"Маркетологи Яндекс.Афиши оптимизируют расходы и эффективность рекламных кампаний. Для достижения этой цели необходимо провести глубокий анализ логов сервера, выгрузок заказов и статистики рекламных расходов.\"\n",
    "\n",
    "format:\n",
    "  html:\n",
    "    code-fold: true\n",
    "    code-summary: \"Show the code\"\n",
    "    fontsize: 16px\n",
    "    smooth-scroll: true\n",
    "    toc: true\n",
    "    toc-location: left\n",
    "    toc-title: Оглавление\n",
    "    grid:\n",
    "      body-width: 1100px\n",
    "---"
   ]
  },
  {
   "cell_type": "markdown",
   "metadata": {},
   "source": [
    "# Анализ бизнес-показателей в Яндекс.Афиша\n"
   ]
  },
  {
   "cell_type": "markdown",
   "metadata": {},
   "source": [
    "**Автор:**  \n",
    "\n",
    "Григорьев Павел\n"
   ]
  },
  {
   "cell_type": "markdown",
   "metadata": {},
   "source": [
    "**Описание проекта:**   \n",
    "\n",
    "Маркетологи Яндекс.Афиши нацелены на оптимизацию расходов и повышение эффективности рекламных кампаний. Для достижения этой цели необходимо провести глубокий анализ логов сервера, выгрузок заказов и статистики рекламных расходов. Это позволит выявить неэффективные источники трафика и оптимально перераспределить бюджет. Ключевые задачи проекта включают изучение поведения клиентов на сайте, определение времени первых покупок, расчет доходности каждого клиента и анализ сроков окупаемости затрат на привлечение. Полученные результаты помогут не только снизить затраты, но и значительно улучшить маркетинговые стратегии, обеспечивая более высокий возврат на инвестиции. ⬤"
   ]
  },
  {
   "cell_type": "markdown",
   "metadata": {},
   "source": [
    "**Цель:**  \n",
    "\n",
    "Оптимизировать маркетинговые расходы и повысить эффективность рекламных стратегий путем анализа источников трафика и поведения клиентов, с целью выявления неэффективных каналов."
   ]
  },
  {
   "cell_type": "markdown",
   "metadata": {},
   "source": [
    "**Источники данных:**  \n",
    "\n",
    "- лог сервера с данными о посещениях сайта Яндекс.Афиши\n",
    "- выгрузка всех заказов\n",
    "- статистика рекламных расходов"
   ]
  },
  {
   "cell_type": "markdown",
   "metadata": {},
   "source": [
    "**Условия проведения анализа данных:**  \n",
    "\n",
    "Для анализ будут использоваться данные с июня 2017 по конец мая 2018 года."
   ]
  },
  {
   "cell_type": "markdown",
   "metadata": {},
   "source": [
    "## Загрузка библиотек <skip>"
   ]
  },
  {
   "cell_type": "code",
   "execution_count": 90,
   "metadata": {},
   "outputs": [
    {
     "name": "stdout",
     "output_type": "stream",
     "text": [
      "The autoreload extension is already loaded. To reload it, use:\n",
      "  %reload_ext autoreload\n"
     ]
    }
   ],
   "source": [
    "%load_ext autoreload\n",
    "%autoreload 2\n",
    "import pandas as pd\n",
    "import numpy as np\n",
    "import plotly.express as px\n",
    "import pagri_data_tools  # type: ignore\n",
    "pd.set_option('display.max_columns', None)\n",
    "pd.options.display.float_format = '{:,.2f}'.format"
   ]
  },
  {
   "cell_type": "markdown",
   "metadata": {},
   "source": [
    "## Описание и изучение данных\n"
   ]
  },
  {
   "cell_type": "markdown",
   "metadata": {},
   "source": [
    "### Описание данных\n"
   ]
  },
  {
   "cell_type": "markdown",
   "metadata": {},
   "source": [
    "**Таблица visits_log (лог сервера с информацией о посещениях сайта):**\n",
    "\n",
    "- Uid - уникальный идентификатор пользователя,\n",
    "- Device - категория устройства пользователя,\n",
    "- Start Ts - дата и время начала сессии,\n",
    "- End Ts - дата и время окончания сессии,\n",
    "- Source Id - идентификатор источника перехода на сайт.\n"
   ]
  },
  {
   "cell_type": "markdown",
   "metadata": {},
   "source": [
    "**Таблица orders_log (информацию о заказах):**\n",
    "\n",
    "- Uid - уникальный идентификатор пользователя,\n",
    "- Buy Ts - дата и время заказа,\n",
    "- Revenue - сумма заказа."
   ]
  },
  {
   "cell_type": "markdown",
   "metadata": {},
   "source": [
    "**Таблица costs (информацию о расходах на маркетинг):**\n",
    "\n",
    "- source_id - идентификатор рекламного источника,\n",
    "- dt - дата проведения рекламной кампании,\n",
    "- costs - расходы на эту кампанию."
   ]
  },
  {
   "cell_type": "markdown",
   "metadata": {},
   "source": [
    "### Изучение данных\n"
   ]
  },
  {
   "cell_type": "markdown",
   "metadata": {},
   "source": [
    "#### Изучение переменных\n"
   ]
  },
  {
   "cell_type": "markdown",
   "metadata": {},
   "source": [
    "##### Таблица visits_log (лог сервера с информацией о посещениях сайта)"
   ]
  },
  {
   "cell_type": "markdown",
   "metadata": {},
   "source": [
    "Загружаем данные и задаем типы данных для столбцов, где это возможно."
   ]
  },
  {
   "cell_type": "code",
   "execution_count": 91,
   "metadata": {},
   "outputs": [
    {
     "data": {
      "text/html": [
       "<div>\n",
       "<style scoped>\n",
       "    .dataframe tbody tr th:only-of-type {\n",
       "        vertical-align: middle;\n",
       "    }\n",
       "\n",
       "    .dataframe tbody tr th {\n",
       "        vertical-align: top;\n",
       "    }\n",
       "\n",
       "    .dataframe thead th {\n",
       "        text-align: right;\n",
       "    }\n",
       "</style>\n",
       "<table border=\"1\" class=\"dataframe\">\n",
       "  <thead>\n",
       "    <tr style=\"text-align: right;\">\n",
       "      <th></th>\n",
       "      <th>device</th>\n",
       "      <th>session_end_dt</th>\n",
       "      <th>source_id</th>\n",
       "      <th>session_start_dt</th>\n",
       "      <th>uid</th>\n",
       "    </tr>\n",
       "  </thead>\n",
       "  <tbody>\n",
       "    <tr>\n",
       "      <th>349164</th>\n",
       "      <td>desktop</td>\n",
       "      <td>2018-04-24 09:37:00</td>\n",
       "      <td>2</td>\n",
       "      <td>2018-04-24 09:10:00</td>\n",
       "      <td>2569181675832811876</td>\n",
       "    </tr>\n",
       "    <tr>\n",
       "      <th>36050</th>\n",
       "      <td>desktop</td>\n",
       "      <td>2017-11-20 20:12:00</td>\n",
       "      <td>3</td>\n",
       "      <td>2017-11-20 19:15:00</td>\n",
       "      <td>8877700266692256763</td>\n",
       "    </tr>\n",
       "    <tr>\n",
       "      <th>189380</th>\n",
       "      <td>touch</td>\n",
       "      <td>2017-11-12 14:36:00</td>\n",
       "      <td>2</td>\n",
       "      <td>2017-11-12 14:13:00</td>\n",
       "      <td>7420756121024737125</td>\n",
       "    </tr>\n",
       "    <tr>\n",
       "      <th>351149</th>\n",
       "      <td>desktop</td>\n",
       "      <td>2017-12-07 16:09:00</td>\n",
       "      <td>4</td>\n",
       "      <td>2017-12-07 16:06:00</td>\n",
       "      <td>9717719112529363193</td>\n",
       "    </tr>\n",
       "    <tr>\n",
       "      <th>85669</th>\n",
       "      <td>desktop</td>\n",
       "      <td>2017-10-05 17:40:00</td>\n",
       "      <td>3</td>\n",
       "      <td>2017-10-05 17:39:00</td>\n",
       "      <td>8687122272170077156</td>\n",
       "    </tr>\n",
       "  </tbody>\n",
       "</table>\n",
       "</div>"
      ],
      "text/plain": [
       "         device      session_end_dt source_id    session_start_dt  \\\n",
       "349164  desktop 2018-04-24 09:37:00         2 2018-04-24 09:10:00   \n",
       "36050   desktop 2017-11-20 20:12:00         3 2017-11-20 19:15:00   \n",
       "189380    touch 2017-11-12 14:36:00         2 2017-11-12 14:13:00   \n",
       "351149  desktop 2017-12-07 16:09:00         4 2017-12-07 16:06:00   \n",
       "85669   desktop 2017-10-05 17:40:00         3 2017-10-05 17:39:00   \n",
       "\n",
       "                        uid  \n",
       "349164  2569181675832811876  \n",
       "36050   8877700266692256763  \n",
       "189380  7420756121024737125  \n",
       "351149  9717719112529363193  \n",
       "85669   8687122272170077156  "
      ]
     },
     "execution_count": 91,
     "metadata": {},
     "output_type": "execute_result"
    }
   ],
   "source": [
    "dtype = {'Device': 'category', 'Source Id': 'category'}\n",
    "df_visits = pd.read_csv('https://code.s3.yandex.net/datasets/visits_log.csv', dtype=dtype\n",
    "                , parse_dates=['End Ts', 'Start Ts'], date_format='%Y-%m-%d %H:%M:%S')\n",
    "df_visits.rename(columns={'Device': 'device', 'End Ts': 'session_end_dt', 'Start Ts': 'session_start_dt'\n",
    "                          , 'Source Id': 'source_id', 'Uid': 'uid'}, inplace=True)\n",
    "df_visits.sample(5, random_state=7)"
   ]
  },
  {
   "cell_type": "code",
   "execution_count": 92,
   "metadata": {},
   "outputs": [
    {
     "data": {
      "text/html": [
       "<style type=\"text/css\">\n",
       "#T_2766b caption {\n",
       "  font-size: 18px;\n",
       "  text-align: left;\n",
       "  font-weight: bold;\n",
       "}\n",
       "#T_2766b_row0_col0, #T_2766b_row0_col1, #T_2766b_row0_col2, #T_2766b_row0_col3, #T_2766b_row0_col4 {\n",
       "  text-align: left;\n",
       "}\n",
       "</style>\n",
       "<table id=\"T_2766b\">\n",
       "  <caption>DataFrame</caption>\n",
       "  <thead>\n",
       "    <tr>\n",
       "      <th id=\"T_2766b_level0_col0\" class=\"col_heading level0 col0\" >Rows</th>\n",
       "      <th id=\"T_2766b_level0_col1\" class=\"col_heading level0 col1\" >Features</th>\n",
       "      <th id=\"T_2766b_level0_col2\" class=\"col_heading level0 col2\" >RAM (Mb)</th>\n",
       "      <th id=\"T_2766b_level0_col3\" class=\"col_heading level0 col3\" >Duplicates</th>\n",
       "      <th id=\"T_2766b_level0_col4\" class=\"col_heading level0 col4\" >Dupl (sub - origin)</th>\n",
       "    </tr>\n",
       "  </thead>\n",
       "  <tbody>\n",
       "    <tr>\n",
       "      <td id=\"T_2766b_row0_col0\" class=\"data row0 col0\" >359 400</td>\n",
       "      <td id=\"T_2766b_row0_col1\" class=\"data row0 col1\" >5</td>\n",
       "      <td id=\"T_2766b_row0_col2\" class=\"data row0 col2\" >9</td>\n",
       "      <td id=\"T_2766b_row0_col3\" class=\"data row0 col3\" >---</td>\n",
       "      <td id=\"T_2766b_row0_col4\" class=\"data row0 col4\" >---</td>\n",
       "    </tr>\n",
       "  </tbody>\n",
       "</table>\n"
      ],
      "text/plain": [
       "<pandas.io.formats.style.Styler at 0x752d102713d0>"
      ]
     },
     "execution_count": 92,
     "metadata": {},
     "output_type": "execute_result"
    }
   ],
   "source": [
    "gen = pagri_data_tools.info_gen(df_visits)\n",
    "gen.next() "
   ]
  },
  {
   "cell_type": "code",
   "execution_count": 93,
   "metadata": {},
   "outputs": [
    {
     "data": {
      "text/html": [
       "\n",
       "            <div style=\"display: flex; justify-content: flex-start; align-items: flex-end;\">\n",
       "                <style type=\"text/css\">\n",
       "#T_63a9d caption {\n",
       "  font-size: 16px;\n",
       "  text-align: left;\n",
       "  font-weight: bold;\n",
       "}\n",
       "#T_63a9d_row0_col0, #T_63a9d_row0_col1, #T_63a9d_row0_col2, #T_63a9d_row0_col3, #T_63a9d_row0_col4, #T_63a9d_row0_col5, #T_63a9d_row0_col6, #T_63a9d_row0_col7, #T_63a9d_row0_col8, #T_63a9d_row1_col0, #T_63a9d_row1_col1, #T_63a9d_row1_col2, #T_63a9d_row1_col3, #T_63a9d_row1_col4, #T_63a9d_row1_col5, #T_63a9d_row1_col6, #T_63a9d_row1_col7, #T_63a9d_row1_col8, #T_63a9d_row2_col0, #T_63a9d_row2_col1, #T_63a9d_row2_col2, #T_63a9d_row2_col3, #T_63a9d_row2_col4, #T_63a9d_row2_col5, #T_63a9d_row2_col6, #T_63a9d_row2_col7, #T_63a9d_row2_col8, #T_63a9d_row3_col0, #T_63a9d_row3_col1, #T_63a9d_row3_col2, #T_63a9d_row3_col3, #T_63a9d_row3_col4, #T_63a9d_row3_col5, #T_63a9d_row3_col6, #T_63a9d_row3_col7, #T_63a9d_row3_col8 {\n",
       "  text-align: left;\n",
       "}\n",
       "</style>\n",
       "<table id=\"T_63a9d\">\n",
       "  <caption>Статистика столбца \"session_end_dt\"</caption>\n",
       "  <thead>\n",
       "  </thead>\n",
       "  <tbody>\n",
       "    <tr>\n",
       "      <td id=\"T_63a9d_row0_col0\" class=\"data row0 col0\" >First date</td>\n",
       "      <td id=\"T_63a9d_row0_col1\" class=\"data row0 col1\" >2017-06-01 00:02:00</td>\n",
       "      <td id=\"T_63a9d_row0_col2\" class=\"data row0 col2\" >                              </td>\n",
       "      <td id=\"T_63a9d_row0_col3\" class=\"data row0 col3\" >Zeros</td>\n",
       "      <td id=\"T_63a9d_row0_col4\" class=\"data row0 col4\" >---</td>\n",
       "      <td id=\"T_63a9d_row0_col5\" class=\"data row0 col5\" >                              </td>\n",
       "      <td id=\"T_63a9d_row0_col6\" class=\"data row0 col6\" >Years missing</td>\n",
       "      <td id=\"T_63a9d_row0_col7\" class=\"data row0 col7\" >0%</td>\n",
       "      <td id=\"T_63a9d_row0_col8\" class=\"data row0 col8\" >                              </td>\n",
       "    </tr>\n",
       "    <tr>\n",
       "      <td id=\"T_63a9d_row1_col0\" class=\"data row1 col0\" >Last date</td>\n",
       "      <td id=\"T_63a9d_row1_col1\" class=\"data row1 col1\" >2018-06-01 01:26:00</td>\n",
       "      <td id=\"T_63a9d_row1_col2\" class=\"data row1 col2\" >                              </td>\n",
       "      <td id=\"T_63a9d_row1_col3\" class=\"data row1 col3\" >Missing</td>\n",
       "      <td id=\"T_63a9d_row1_col4\" class=\"data row1 col4\" >---</td>\n",
       "      <td id=\"T_63a9d_row1_col5\" class=\"data row1 col5\" >                              </td>\n",
       "      <td id=\"T_63a9d_row1_col6\" class=\"data row1 col6\" >Months missing</td>\n",
       "      <td id=\"T_63a9d_row1_col7\" class=\"data row1 col7\" >0%</td>\n",
       "      <td id=\"T_63a9d_row1_col8\" class=\"data row1 col8\" >                              </td>\n",
       "    </tr>\n",
       "    <tr>\n",
       "      <td id=\"T_63a9d_row2_col0\" class=\"data row2 col0\" >Values</td>\n",
       "      <td id=\"T_63a9d_row2_col1\" class=\"data row2 col1\" >359 400 (100%)</td>\n",
       "      <td id=\"T_63a9d_row2_col2\" class=\"data row2 col2\" >                              </td>\n",
       "      <td id=\"T_63a9d_row2_col3\" class=\"data row2 col3\" >Distinct</td>\n",
       "      <td id=\"T_63a9d_row2_col4\" class=\"data row2 col4\" >224 760 (63%)</td>\n",
       "      <td id=\"T_63a9d_row2_col5\" class=\"data row2 col5\" >                              </td>\n",
       "      <td id=\"T_63a9d_row2_col6\" class=\"data row2 col6\" >Weeks missing</td>\n",
       "      <td id=\"T_63a9d_row2_col7\" class=\"data row2 col7\" >0%</td>\n",
       "      <td id=\"T_63a9d_row2_col8\" class=\"data row2 col8\" >                              </td>\n",
       "    </tr>\n",
       "    <tr>\n",
       "      <td id=\"T_63a9d_row3_col0\" class=\"data row3 col0\" >RAM (Mb)</td>\n",
       "      <td id=\"T_63a9d_row3_col1\" class=\"data row3 col1\" >3</td>\n",
       "      <td id=\"T_63a9d_row3_col2\" class=\"data row3 col2\" >                              </td>\n",
       "      <td id=\"T_63a9d_row3_col3\" class=\"data row3 col3\" >Duplicates</td>\n",
       "      <td id=\"T_63a9d_row3_col4\" class=\"data row3 col4\" >134 640 (37%)</td>\n",
       "      <td id=\"T_63a9d_row3_col5\" class=\"data row3 col5\" >                              </td>\n",
       "      <td id=\"T_63a9d_row3_col6\" class=\"data row3 col6\" >Days missing</td>\n",
       "      <td id=\"T_63a9d_row3_col7\" class=\"data row3 col7\" ><1%</td>\n",
       "      <td id=\"T_63a9d_row3_col8\" class=\"data row3 col8\" >                              </td>\n",
       "    </tr>\n",
       "  </tbody>\n",
       "</table>\n",
       "\n",
       "            </div>\n",
       "            "
      ],
      "text/plain": [
       "<IPython.core.display.HTML object>"
      ]
     },
     "metadata": {},
     "output_type": "display_data"
    }
   ],
   "source": [
    "gen.next()"
   ]
  },
  {
   "cell_type": "markdown",
   "metadata": {},
   "source": [
    "**Наблюдения:**  \n",
    "\n",
    "- В дате окончания сессии последняя дата попала на следующий месяц, нужно это учесть при расчете метрик.\n",
    "- В дате окончания сессии есть пропуски в днях, но совсем мало (меньше 1%)"
   ]
  },
  {
   "cell_type": "code",
   "execution_count": 94,
   "metadata": {},
   "outputs": [
    {
     "data": {
      "text/html": [
       "\n",
       "            <div style=\"display: flex; justify-content: flex-start; align-items: flex-end;\">\n",
       "                <style type=\"text/css\">\n",
       "#T_a5c6b caption {\n",
       "  font-size: 16px;\n",
       "  text-align: left;\n",
       "  font-weight: bold;\n",
       "}\n",
       "#T_a5c6b_row0_col0, #T_a5c6b_row0_col1, #T_a5c6b_row0_col2, #T_a5c6b_row0_col3, #T_a5c6b_row0_col4, #T_a5c6b_row0_col5, #T_a5c6b_row0_col6, #T_a5c6b_row0_col7, #T_a5c6b_row0_col8, #T_a5c6b_row1_col0, #T_a5c6b_row1_col1, #T_a5c6b_row1_col2, #T_a5c6b_row1_col3, #T_a5c6b_row1_col4, #T_a5c6b_row1_col5, #T_a5c6b_row1_col6, #T_a5c6b_row1_col7, #T_a5c6b_row1_col8, #T_a5c6b_row2_col0, #T_a5c6b_row2_col1, #T_a5c6b_row2_col2, #T_a5c6b_row2_col3, #T_a5c6b_row2_col4, #T_a5c6b_row2_col5, #T_a5c6b_row2_col6, #T_a5c6b_row2_col7, #T_a5c6b_row2_col8, #T_a5c6b_row3_col0, #T_a5c6b_row3_col1, #T_a5c6b_row3_col2, #T_a5c6b_row3_col3, #T_a5c6b_row3_col4, #T_a5c6b_row3_col5, #T_a5c6b_row3_col6, #T_a5c6b_row3_col7, #T_a5c6b_row3_col8 {\n",
       "  text-align: left;\n",
       "}\n",
       "</style>\n",
       "<table id=\"T_a5c6b\">\n",
       "  <caption>Статистика столбца \"session_start_dt\"</caption>\n",
       "  <thead>\n",
       "  </thead>\n",
       "  <tbody>\n",
       "    <tr>\n",
       "      <td id=\"T_a5c6b_row0_col0\" class=\"data row0 col0\" >First date</td>\n",
       "      <td id=\"T_a5c6b_row0_col1\" class=\"data row0 col1\" >2017-06-01 00:01:00</td>\n",
       "      <td id=\"T_a5c6b_row0_col2\" class=\"data row0 col2\" >                              </td>\n",
       "      <td id=\"T_a5c6b_row0_col3\" class=\"data row0 col3\" >Zeros</td>\n",
       "      <td id=\"T_a5c6b_row0_col4\" class=\"data row0 col4\" >---</td>\n",
       "      <td id=\"T_a5c6b_row0_col5\" class=\"data row0 col5\" >                              </td>\n",
       "      <td id=\"T_a5c6b_row0_col6\" class=\"data row0 col6\" >Years missing</td>\n",
       "      <td id=\"T_a5c6b_row0_col7\" class=\"data row0 col7\" >0%</td>\n",
       "      <td id=\"T_a5c6b_row0_col8\" class=\"data row0 col8\" >                              </td>\n",
       "    </tr>\n",
       "    <tr>\n",
       "      <td id=\"T_a5c6b_row1_col0\" class=\"data row1 col0\" >Last date</td>\n",
       "      <td id=\"T_a5c6b_row1_col1\" class=\"data row1 col1\" >2018-05-31 23:59:00</td>\n",
       "      <td id=\"T_a5c6b_row1_col2\" class=\"data row1 col2\" >                              </td>\n",
       "      <td id=\"T_a5c6b_row1_col3\" class=\"data row1 col3\" >Missing</td>\n",
       "      <td id=\"T_a5c6b_row1_col4\" class=\"data row1 col4\" >---</td>\n",
       "      <td id=\"T_a5c6b_row1_col5\" class=\"data row1 col5\" >                              </td>\n",
       "      <td id=\"T_a5c6b_row1_col6\" class=\"data row1 col6\" >Months missing</td>\n",
       "      <td id=\"T_a5c6b_row1_col7\" class=\"data row1 col7\" >0%</td>\n",
       "      <td id=\"T_a5c6b_row1_col8\" class=\"data row1 col8\" >                              </td>\n",
       "    </tr>\n",
       "    <tr>\n",
       "      <td id=\"T_a5c6b_row2_col0\" class=\"data row2 col0\" >Values</td>\n",
       "      <td id=\"T_a5c6b_row2_col1\" class=\"data row2 col1\" >359 400 (100%)</td>\n",
       "      <td id=\"T_a5c6b_row2_col2\" class=\"data row2 col2\" >                              </td>\n",
       "      <td id=\"T_a5c6b_row2_col3\" class=\"data row2 col3\" >Distinct</td>\n",
       "      <td id=\"T_a5c6b_row2_col4\" class=\"data row2 col4\" >224 303 (62%)</td>\n",
       "      <td id=\"T_a5c6b_row2_col5\" class=\"data row2 col5\" >                              </td>\n",
       "      <td id=\"T_a5c6b_row2_col6\" class=\"data row2 col6\" >Weeks missing</td>\n",
       "      <td id=\"T_a5c6b_row2_col7\" class=\"data row2 col7\" >0%</td>\n",
       "      <td id=\"T_a5c6b_row2_col8\" class=\"data row2 col8\" >                              </td>\n",
       "    </tr>\n",
       "    <tr>\n",
       "      <td id=\"T_a5c6b_row3_col0\" class=\"data row3 col0\" >RAM (Mb)</td>\n",
       "      <td id=\"T_a5c6b_row3_col1\" class=\"data row3 col1\" >3</td>\n",
       "      <td id=\"T_a5c6b_row3_col2\" class=\"data row3 col2\" >                              </td>\n",
       "      <td id=\"T_a5c6b_row3_col3\" class=\"data row3 col3\" >Duplicates</td>\n",
       "      <td id=\"T_a5c6b_row3_col4\" class=\"data row3 col4\" >135 097 (38%)</td>\n",
       "      <td id=\"T_a5c6b_row3_col5\" class=\"data row3 col5\" >                              </td>\n",
       "      <td id=\"T_a5c6b_row3_col6\" class=\"data row3 col6\" >Days missing</td>\n",
       "      <td id=\"T_a5c6b_row3_col7\" class=\"data row3 col7\" ><1%</td>\n",
       "      <td id=\"T_a5c6b_row3_col8\" class=\"data row3 col8\" >                              </td>\n",
       "    </tr>\n",
       "  </tbody>\n",
       "</table>\n",
       "\n",
       "            </div>\n",
       "            "
      ],
      "text/plain": [
       "<IPython.core.display.HTML object>"
      ]
     },
     "metadata": {},
     "output_type": "display_data"
    }
   ],
   "source": [
    "gen.next()"
   ]
  },
  {
   "cell_type": "markdown",
   "metadata": {},
   "source": [
    "**Наблюдения:**  \n",
    "\n",
    "- В дате начала сессии есть пропуски в днях, но совсем мало (меньше 1%)"
   ]
  },
  {
   "cell_type": "code",
   "execution_count": 95,
   "metadata": {},
   "outputs": [
    {
     "data": {
      "text/html": [
       "\n",
       "            <div style=\"display: flex; justify-content: flex-start; align-items: flex-end;\">\n",
       "                <style type=\"text/css\">\n",
       "#T_78ea8 caption {\n",
       "  font-size: 16px;\n",
       "  text-align: left;\n",
       "  font-weight: bold;\n",
       "}\n",
       "#T_78ea8_row0_col0, #T_78ea8_row0_col1, #T_78ea8_row0_col2, #T_78ea8_row1_col0, #T_78ea8_row1_col1, #T_78ea8_row1_col2, #T_78ea8_row2_col0, #T_78ea8_row2_col1, #T_78ea8_row2_col2, #T_78ea8_row3_col0, #T_78ea8_row3_col1, #T_78ea8_row3_col2, #T_78ea8_row4_col0, #T_78ea8_row4_col1, #T_78ea8_row4_col2, #T_78ea8_row5_col0, #T_78ea8_row5_col1, #T_78ea8_row5_col2, #T_78ea8_row6_col0, #T_78ea8_row6_col1, #T_78ea8_row6_col2 {\n",
       "  text-align: left;\n",
       "}\n",
       "</style>\n",
       "<table id=\"T_78ea8\">\n",
       "  <caption>Summary for \"uid</caption>\n",
       "  <thead>\n",
       "  </thead>\n",
       "  <tbody>\n",
       "    <tr>\n",
       "      <td id=\"T_78ea8_row0_col0\" class=\"data row0 col0\" >Values</td>\n",
       "      <td id=\"T_78ea8_row0_col1\" class=\"data row0 col1\" >359 400 (100%)</td>\n",
       "      <td id=\"T_78ea8_row0_col2\" class=\"data row0 col2\" >                              </td>\n",
       "    </tr>\n",
       "    <tr>\n",
       "      <td id=\"T_78ea8_row1_col0\" class=\"data row1 col0\" >Missing</td>\n",
       "      <td id=\"T_78ea8_row1_col1\" class=\"data row1 col1\" >---</td>\n",
       "      <td id=\"T_78ea8_row1_col2\" class=\"data row1 col2\" >                              </td>\n",
       "    </tr>\n",
       "    <tr>\n",
       "      <td id=\"T_78ea8_row2_col0\" class=\"data row2 col0\" >Distinct</td>\n",
       "      <td id=\"T_78ea8_row2_col1\" class=\"data row2 col1\" >228 169 (63%)</td>\n",
       "      <td id=\"T_78ea8_row2_col2\" class=\"data row2 col2\" >                              </td>\n",
       "    </tr>\n",
       "    <tr>\n",
       "      <td id=\"T_78ea8_row3_col0\" class=\"data row3 col0\" >Duplicates</td>\n",
       "      <td id=\"T_78ea8_row3_col1\" class=\"data row3 col1\" >131 231 (37%)</td>\n",
       "      <td id=\"T_78ea8_row3_col2\" class=\"data row3 col2\" >                              </td>\n",
       "    </tr>\n",
       "    <tr>\n",
       "      <td id=\"T_78ea8_row4_col0\" class=\"data row4 col0\" >Zeros</td>\n",
       "      <td id=\"T_78ea8_row4_col1\" class=\"data row4 col1\" >---</td>\n",
       "      <td id=\"T_78ea8_row4_col2\" class=\"data row4 col2\" >                              </td>\n",
       "    </tr>\n",
       "    <tr>\n",
       "      <td id=\"T_78ea8_row5_col0\" class=\"data row5 col0\" >Negative</td>\n",
       "      <td id=\"T_78ea8_row5_col1\" class=\"data row5 col1\" >---</td>\n",
       "      <td id=\"T_78ea8_row5_col2\" class=\"data row5 col2\" >                              </td>\n",
       "    </tr>\n",
       "    <tr>\n",
       "      <td id=\"T_78ea8_row6_col0\" class=\"data row6 col0\" >RAM (Mb)</td>\n",
       "      <td id=\"T_78ea8_row6_col1\" class=\"data row6 col1\" >3</td>\n",
       "      <td id=\"T_78ea8_row6_col2\" class=\"data row6 col2\" >                              </td>\n",
       "    </tr>\n",
       "  </tbody>\n",
       "</table>\n",
       "\n",
       "            </div>\n",
       "            "
      ],
      "text/plain": [
       "<IPython.core.display.HTML object>"
      ]
     },
     "metadata": {},
     "output_type": "display_data"
    }
   ],
   "source": [
    "gen.next(only_summary=True)"
   ]
  },
  {
   "cell_type": "markdown",
   "metadata": {},
   "source": [
    "**Наблюдения:**  \n",
    "\n",
    "- В таблице с логами о посещении сайта 63% уникльных пользователей."
   ]
  },
  {
   "cell_type": "code",
   "execution_count": 96,
   "metadata": {},
   "outputs": [
    {
     "data": {
      "text/html": [
       "\n",
       "            <div style=\"display: flex; justify-content: flex-start; align-items: flex-end;\">\n",
       "                <style type=\"text/css\">\n",
       "#T_05759 caption {\n",
       "  font-size: 16px;\n",
       "  text-align: left;\n",
       "  font-weight: bold;\n",
       "}\n",
       "#T_05759 th {\n",
       "  min-width: 100px;\n",
       "}\n",
       "#T_05759  td {\n",
       "  min-width: 100px;\n",
       "}\n",
       "#T_05759_row0_col0, #T_05759_row0_col1, #T_05759_row0_col2, #T_05759_row0_col3, #T_05759_row1_col0, #T_05759_row1_col1, #T_05759_row1_col2, #T_05759_row1_col3, #T_05759_row2_col0, #T_05759_row2_col1, #T_05759_row2_col2, #T_05759_row2_col3, #T_05759_row3_col0, #T_05759_row3_col1, #T_05759_row3_col2, #T_05759_row3_col3, #T_05759_row4_col0, #T_05759_row4_col1, #T_05759_row4_col2, #T_05759_row4_col3, #T_05759_row5_col0, #T_05759_row5_col1, #T_05759_row5_col2, #T_05759_row5_col3, #T_05759_row6_col0, #T_05759_row6_col1, #T_05759_row6_col2, #T_05759_row6_col3 {\n",
       "  text-align: left;\n",
       "}\n",
       "</style>\n",
       "<table id=\"T_05759\">\n",
       "  <caption>Статистика и топ-10 значений столбца \"device\"</caption>\n",
       "  <thead>\n",
       "  </thead>\n",
       "  <tbody>\n",
       "    <tr>\n",
       "      <td id=\"T_05759_row0_col0\" class=\"data row0 col0\" >Values</td>\n",
       "      <td id=\"T_05759_row0_col1\" class=\"data row0 col1\" >359 400 (100%)</td>\n",
       "      <td id=\"T_05759_row0_col2\" class=\"data row0 col2\" >                              </td>\n",
       "      <td id=\"T_05759_row0_col3\" class=\"data row0 col3\" >desktop (73%)</td>\n",
       "    </tr>\n",
       "    <tr>\n",
       "      <td id=\"T_05759_row1_col0\" class=\"data row1 col0\" >Missing</td>\n",
       "      <td id=\"T_05759_row1_col1\" class=\"data row1 col1\" >---</td>\n",
       "      <td id=\"T_05759_row1_col2\" class=\"data row1 col2\" >                              </td>\n",
       "      <td id=\"T_05759_row1_col3\" class=\"data row1 col3\" >touch (27%)</td>\n",
       "    </tr>\n",
       "    <tr>\n",
       "      <td id=\"T_05759_row2_col0\" class=\"data row2 col0\" >Distinct</td>\n",
       "      <td id=\"T_05759_row2_col1\" class=\"data row2 col1\" >2 (<1%)</td>\n",
       "      <td id=\"T_05759_row2_col2\" class=\"data row2 col2\" >                              </td>\n",
       "      <td id=\"T_05759_row2_col3\" class=\"data row2 col3\" ></td>\n",
       "    </tr>\n",
       "    <tr>\n",
       "      <td id=\"T_05759_row3_col0\" class=\"data row3 col0\" >Duplicated origin</td>\n",
       "      <td id=\"T_05759_row3_col1\" class=\"data row3 col1\" >359 398 (99.9%)</td>\n",
       "      <td id=\"T_05759_row3_col2\" class=\"data row3 col2\" >                              </td>\n",
       "      <td id=\"T_05759_row3_col3\" class=\"data row3 col3\" ></td>\n",
       "    </tr>\n",
       "    <tr>\n",
       "      <td id=\"T_05759_row4_col0\" class=\"data row4 col0\" >Dupl (modify - origin)</td>\n",
       "      <td id=\"T_05759_row4_col1\" class=\"data row4 col1\" >---</td>\n",
       "      <td id=\"T_05759_row4_col2\" class=\"data row4 col2\" >                              </td>\n",
       "      <td id=\"T_05759_row4_col3\" class=\"data row4 col3\" ></td>\n",
       "    </tr>\n",
       "    <tr>\n",
       "      <td id=\"T_05759_row5_col0\" class=\"data row5 col0\" >Empty</td>\n",
       "      <td id=\"T_05759_row5_col1\" class=\"data row5 col1\" >---</td>\n",
       "      <td id=\"T_05759_row5_col2\" class=\"data row5 col2\" >                              </td>\n",
       "      <td id=\"T_05759_row5_col3\" class=\"data row5 col3\" ></td>\n",
       "    </tr>\n",
       "    <tr>\n",
       "      <td id=\"T_05759_row6_col0\" class=\"data row6 col0\" >RAM (Mb)</td>\n",
       "      <td id=\"T_05759_row6_col1\" class=\"data row6 col1\" ><1 Mb</td>\n",
       "      <td id=\"T_05759_row6_col2\" class=\"data row6 col2\" >                              </td>\n",
       "      <td id=\"T_05759_row6_col3\" class=\"data row6 col3\" ></td>\n",
       "    </tr>\n",
       "  </tbody>\n",
       "</table>\n",
       "\n",
       "                <div>\n",
       "                    <img src=\"data:image/png;base64,iVBORw0KGgoAAAANSUhEUgAAAfQAAADcCAYAAACGXlNlAAAbFUlEQVR4Xu3dC7BPVf/H8e8hknIPf3IXXSjqkAz/idwiJEI0Eeq4hFxKCJ2HjNvIuBYiIkk0I0rjnsvIrancBuOW+1MuKR4U5z/f9fzPmXM4v9M+++z9++3Le880T/XsvfZar/U9v89vrb2P4pKSkpLEx0diYqLoXxwIIIAAAgiEWSCOQA/z9DN2BBBAAIGgCBDoQZlJxoEAAgggEGoBAj3U08/gEUAAAQSCIkCgB2UmGQcCCCCAQKgFCPRQTz+DRwABBBAIigCBHpSZZBwIIIAAAqEWINBDPf0MHgEEEEAgKAIEelBmknEggAACCIRaIBCB3rf7APH3H48T6hpk8AgggEBoBO7MnV3uynunK+MNRKD/b7FW8u8jl1wBolEEEEAAAQScEMiWPU7qdHpYit6f34nmbmsjEIEen7upnD5w0RUgGkUAAQQQQMAJgWx3xMmz/R6XYhULONEcge6KIo0igAACCCDwDwIE+j8A6X+YhRU6P0cIIIAAAl4XINAJdK/XKP1DAAEEELAgQKAT6BbKhFMQQAABBLwuQKAT6F6vUfqHAAIIIGBBgEAn0C2UCacggAACCHhdgEAn0L1eo/QPAQQQQMCCAIFOoFsoE05BAAEEEPC6AIFOoHu9RukfAggggIAFAQKdQLdQJpyCAAIIIOB1AQKdQPd6jdI/BBBAAAELAgQ6gW6hTDgFAQQQQMDrAgQ6ge71GqV/CCCAAAIWBAh0At1CmXAKAggggIDXBQh0At3rNUr/EEAAAQQsCBDoBLqFMuEUBBBAAAGvCxDoBLrXa5T+IYAAAghYECDQCXQLZcIpCCCAAAJeFyDQCXSv1yj9QwABBBCwIECgE+gWyoRTEEAAAQS8LkCgE+her1H6hwACCCBgQYBAJ9AtlAmnIIAAAgh4XYBAJ9C9XqP0DwEEEEDAggCBTqBbKBNOQQABBBDwugCBTqB7vUbpHwIIIICABQECnUC3UCacggACCCDgdQECnUD3eo3SPwQQQAABCwIEOoFuoUw4BQEEEEDA6wIEOoHu9RqlfwgggAACFgQIdALdQplwCgIIIICA1wUIdALd6zVK/xBAAAEELAgQ6AS6hTLhFAQQQAABrwtENdCPHTsmU6dOlTx58sjQoUMt2xw5ckRGjBgh9evXl/bt21u+zokTExMTJT53Uzl94KITzdEGAggggAACrghENdB1BPPmzZOjR49mKtD1Og3WihUrphvo27dvl+rVq7sCRKC7wkqjCCCAAAIOC0Q90BcsWCCHDh1yLNBPnjwpY8eOlYkTJzpM89/mCHRXWGkUAQQQQMBhgagEuob4nj17pGTJkrJ3714pXLiwCXTdgp8xY4b59wcPHpQePXpI2bJlZfTo0ZIrVy65fPmy1KhRQxo2bJhmhT5z5kw5e/asdOjQQWbPni0//vijNGrUSDp16iTnz5832/ra5unTp+XBBx+Udu3ayYoVK0wbHTt2NPc9d+6cDBs2TEqVKpUhKYHucMXRHAIIIICAKwKuB/quXbuSBg4cKEuXLpXs2bOn2XLv1auXvPjii1KrVi356quvZOPGjdK9e3cZPHiwLFy4UJKSkuTw4cNSvnz5lECvWbOmrFy5Urp27WpA9O+XLVsmkydPNv/cp08fady4sQn4GzduSIsWLcwXhPvvv9/cZ+vWraYf8+fPN3+ffJ1eO2fOnNuQ9fEAz9BdqT0aRQABBBBwUMD1QJ87d27Svn37ZNSoUabbqZ+h16tXzwRv/vz55ffff5fr16/Lm2++KS+99JLce++90qpVK9FzsmXLZgI9X758snbtWhPCZcqUSTfQ69atK7qC1wDXQ9uLj4+Xli1bpgl07ZN+eVi/fn0Kp4b3rYeGPIHuYMXRFAIIIICAKwKuB/qsWbOS9Jn5yJEj0w103R7XbfHUhwb75s2bZdasWVKpUiUZNGiQCfTffvvNvPy2adMms1UfFxd32wpdA13/vwoVKpgm+/fvb655/vnn0wS6PgLo3bu3rFmzJkNYttxdqTsaRQABBBBwWMD1QN+8eXOSrs6XLFkiOXPmvG3LXQO7W7duKcM6fvy43Lx5U0qXLm2eu48bN85shSe/5d62bVvzrLx58+bywgsvyKpVq2Tx4sUyffp000bfvn2lQYMG0qRJE9OObrmPGTNGypUrlybQFy1aJDt27DAv1GV0EOgOVxzNIYAAAgi4IuB6oCclJSWNHz9edu/ebV54u3Dhgllp63Ptv//+26zcdSu9SJEi8vTTT5utdj2/cuXKom+w6++e62pbV+nFixeX4cOHy+eff24CXNvQl9oSEhJMWGvQ63P3KVOmmC35M2fOmNV/mzZt5Nq1a+acnj17ytWrV82zeV29Fy1alEB3pbRoFAEEEEAgmgJRCfRoDijSvTTQa9euLdu2bTNb9VYPVuhWpTgPAQQQQCCWAqEK9NRvuVtFJ9CtSnEeAggggEAsBUIT6N988435vfN+/fqJPofXX12zchDoVpQ4BwEEEEAg1gKhCXS70AS6XTmuQwABBBCIpgCB/g/aBHo0y5F7IYAAAgjYFSDQCXS7tcN1CCCAAAIeEiDQCXQPlSNdQQABBBCwK0CgE+h2a4frEEAAAQQ8JECgE+geKke6ggACCCBgV4BAJ9Dt1g7XIYAAAgh4SIBAJ9A9VI50BQEEEEDArgCBTqDbrR2uQwABBBDwkACBTqB7qBzpCgIIIICAXQECnUC3WztchwACCCDgIQECnUD3UDnSFQQQQAABuwIEOoFut3a4DgEEEEDAQwIEOoHuoXKkKwgggAACdgUIdALdbu1wHQIIIICAhwQIdALdQ+VIVxBAAAEE7AoQ6AS63drhOgQQQAABDwkQ6AS6h8qRriCAAAII2BUg0Al0u7XDdQgggAACHhIg0Al0D5UjXUEAAQQQsCtAoBPodmuH6xBAAAEEPCRAoBPoHipHuoIAAgggYFeAQCfQ7dYO1yGAAAIIeEiAQCfQPVSOdAUBBBBAwK4AgU6g260drkMAAQQQ8JAAgU6ge6gc6QoCCCCAgF0BAp1At1s7XIcAAggg4CEBAp1A91A50hUEEEAAAbsCBDqBbrd2uA4BBBBAwEMCBDqB7qFypCsIIIAAAnYFCHQC3W7tcB0CCCCAgIcECHQLgd6uQYL859J1D00bXUEAAQQQQCCtQFxcnJSoVEgKlbzHFZq4pKSkJFdajlKjiYmJon9xIIAAAgggEGYBAj3Ms8/YEUAAAQQCI0CgB2YqGQgCCCCAQJgFCPQwzz5jRwABBBAIjACBHpipZCAIIIAAAmEWINDDPPuMHQEEEEAgMAIEemCmkoEggAACCIRZgEAP8+wzdgQQQACBwAgQ6IGZSgaCAAIIIBBmAQI9zLPP2BFAAAEEAiNAoAdmKhkIAggggECYBQj0MM8+Y0cAAQQQCIwAgR6YqWQgCCCAAAJhFiDQwzz7jB0BBBBAIDACBHpgppKBIIAAAgiEWYBAD/PsM3YEEEAAgcAIEOiBmUoGggACCCAQZgECPcyzz9gRQAABBAIjQKAHZioZCAIIIIBAmAUCEejtGiTIfy5dD/M8MvYoC+TKk1MerF08ynfldggggEBkgUAEenzupnL6wEXmGYGoCRSrmF+avhkvcdnionZPboQAAghkJECgUx8I2BAg0G2gcQkCCLgqQKC7ykvjQRUg0IM6s4wLAf8KEOj+nTt6HkMBAj2G+NwaAQTSFSDQKQwEbAgQ6DbQuAQBBFwVINBd5aXxoAoQ6EGdWcaFgH8FCHT/zh09j6EAgR5DfG6NAAJsuVMDCDglQKA7JUk7CCDglAArdKckaSdUAgR6qKabwSLgCwEC3RfTRCe9JkCge21G6A8CCBDo1AACNgQIdBtoXIIAAq4KEOiu8tJ4UAUI9KDOLONCwL8CBLp/546ex1CAQI8hPrdGAIF0BQh0CgMBGwIEug00LkEAAVcFCHRXeWk8qAIEelBnlnEh4F8BAt2/c0fPYyhAoMcQn1sjgABb7tQAAk4JEOhOSdIOAgg4JcAK3SlJ2gmVAIEequlmsAj4QoBA98U00UmvCRDoXpsR+oMAAgQ6NYCADQEC3QYalyCAgKsCBLqrvDQeVAECPagzy7gQ8K8Age7fuaPnMRQg0GOIz60RQCBdAQKdwkDAhgCBbgONSxBAwFUBAt1VXhoPqgCBHtSZZVwI+FeAQPfv3NHzGAoQ6DHE59YIIMCWOzWAgFMCBLpTkrSDAAJOCbBCd0qSdkIlQKCHaroZLAK+ECDQfTFNdNJrAgS612aE/iCAAIFODSBgQ4BAt4HGJQgg4KoAge4qL40HVYBAD+rMMi4E/CtAoPt37uh5DAUI9Bjic2sEEEhXgECnMBCwIUCg20DjEgQQcFWAQHeVl8aDKkCgB3VmGRcC/hUg0P07d/Q8hgIEegzxuTUCCHh7y33NmjUyaNAg0f/NkyeP5elKTEyU+NxN5fSBi5av4UQEsipAoGdVkOsRQMBpgUyv0K9fvy779u2TKlWqON0XqVGjhqxevZpAd1yWBp0WINCdFqU9BBDIqkCmA33ZsmVy7tw5eeWVV7J679uu10DXFfo999xjuW1W6JapONFBAQLdQUyaQgABRwQyFeinTp2SwYMHS65cuaRu3brStm1b2b59uyxdulRKlCghhw8fltatW8tjjz0mEydOlEOHDsm0adPkp59+kqFDh8qQIUPkiSeekD179sj8+fOldOnScv78eXn44YelRYsWZoX++uuvy/79+801o0ePlsqVK6cM9OjRo7cNes6cOWy5O1IKNJIZAQI9M1qciwAC0RDIVKBrh0aNGiXFihUzK/Rr165Js2bNTDgXKVJEjh8/Lp07d5bly5fLli1bZNGiRSbQ9dDze/ToIVWrVjXhPWXKFClXrpzcuHHDrMobNmyYZst96tSpcuXKFXnrrbdSHDS8bz005HmGHo1S4R6pBQh06gEBBLwmkKVAP3DggHTv3t0EcvKhK/fp06eLrubTC/QCBQpIQkKCrFu37jaL1M/Q582bJxrWurLP6GDL3WslFY7+EOjhmGdGiYCfBLIc6N26dZO1a9emjLlOnToyc+ZMOXnyZMRA79Kli2zYsIFA91Ol0Nc0AgQ6BYEAAl4TyHSg63PtggULmlV28pa7rqaLFi0qJ06cMFvu+uLcDz/8YLbb9f9LveWub8c/99xzMnz4cPM8PfXBCt1r5UF/IgkQ6NQGAgh4TSDTga6r8QkTJkijRo3MdvvOnTvNS3H6glvyS3Hx8fFy+fJl6dq1q+TLl08qVapkVvHVqlWTAQMGyK5du2TSpElSqFAhyZs3r3nBLkeOHNKzZ08T9DVr1jQvxP3666/mmX3hwoUjurHl7rWSCkd/CPRwzDOjRMBPApkOdK8NjkD32oyEoz8EejjmmVEi4CcBAt1Ps0VfPSNAoHtmKugIAgj8vwCBTikgYEOAQLeBxiUIIOCqAIHuKi+NB1WAQA/qzDIuBPwrQKD7d+7oeQwFCPQY4nNrBBBIV4BApzAQsCFAoNtA4xIEEHBVgEB3lZfGgypAoAd1ZhkXAv4VIND9O3f0PIYCBHoM8bk1Agiw5U4NIOCUAIHulCTtIICAUwKs0J2SpJ1QCRDooZpuBouALwQIdF9ME530mgCB7rUZoT8IIECgUwMI2BAg0G2gcQkCCLgqQKC7ykvjQRUg0IM6s4wLAf8KEOj+nTt6HkMBAj2G+NwaAQTSFSDQKQwEbAgQ6DbQuAQBBFwVINBd5aXxoAoQ6EGdWcaFgH8FCHT/zh09j6EAgR5DfG6NAAJsuVMDCDglQKA7JUk7CCDglAArdKckaSdUAgR6qKabwSLgCwEC3RfTRCe9JkCge21G6A8CCBDo1AACNgQIdBtoXIIAAq4KEOiu8tJ4UAUI9KDOLONCwL8CBLp/546ex1CAQI8hPrdGAIF0BQh0CgMBGwIEug00LkEAAVcFCHRXeWk8qAIEelBnlnEh4F8BAt2/c0fPYyhAoMcQn1sjgABb7tQAAk4JEOhOSdIOAgg4JcAK3SlJ2gmVAIEequlmsAj4QoBA98U00UmvCRDoXpsR+oMAAgQ6NYCADQEC3QYalyCAgKsCBLqrvDQeVAECPagzy7gQ8K8Age7fuaPnMRQg0GOIz60RQCBdAQKdwkDAhgCBbgONSxBAwFWBQAR67f9pKf8+cslVKBpHILVAkbJ5pV7CIxKXLQ4YBBBAwBMCgQj0vt0HSFKSJzzpREgE4uJE8hXNHZLRMkwEEPCDQCACPTEx0Q/W9BEBBBBAAAHXBAh012hpGAEEEEAAgegJEOjRs+ZOCCCAAAIIuCZAoLtGS8MIIIAAAghET4BAj541d0IAAQQQQMA1AQLdNVoaRgABBBBAIHoCBHr0rLkTAggggAACrgkQ6K7R0jACCCCAAALREyDQo2fNnRBAAAEEEHBNIBCB7poODSOAAAIIIOATAd8H+vr16w11nTp1fELuzW6OHTtWevbsKblz88eZ2p2hvXv3yu7du6VNmzZ2m+A6Efnkk0+kdu3aUq5cOTxsCvz222+ycOFC8zPNYV/g22+/lfz588uTTz5pv5EoXkmgRxHby7ci0LM+OwR61g21BQI9644EetYNtQUC3RlHy62wQrdMleGJBHrWHQn0rBsS6M4YEujOOBLozjhaboVAt0xFoDtDFbEVAt0ZYFboWXck0LNuyArdGcNMtUKgZ4or4sms0LPuSKBn3ZAVujOGBLozjqzQnXGkFQQQQAABBBDIhIDvX4rLxFg5FQEEEEAAgcAKEOiBnVoGhgACCCAQJgECPUyzzVgRQAABBAIrQKAHdmoZGAIIIIBAmAQI9DDNNmNFAAEEEAisAIEe2KllYAgggAACYRIg0MM025kY64IFC2TGjBmS/Hv+mbiUUyMIYJr10jhy5IiMGDFC6tevL+3bt896gyFtgVrM+sT//vvvMmnSJLl48aKMHz8+6w060IKvA33atGly6dIluXbtmhQrVkwSEhIcIAleE/oHnrz66quSPXv2lMF9+eWXUrhwYTl06JAJ7vvuu0+OHTsmvXv3ltKlS8upU6fMByaBLrJjxw6ZMmWK9OnTR6pWrZpiGKn+ML39Z+jPP/80f0a72qT+8OvXr59s37495YJmzZrJgAEDzD9H8k1MTJSKFSuGLtDffvtt8zOrP8fJP6vJ/wEbatHa5/avv/4q//rXv6RChQpy5coV89fAgQPl7rvvlnnz5sn06dMlLi7ONFaiRAn57LPPzN+vXr1a1q1bJ4UKFZJz587JkCFD5K677pJly5aZz0gC3Zp/xLO+//57gz1x4kRzjoZ5165dJT4+PostB+9yDfSjR49KkyZNbhtc586dpX///lKpUiUTXDNnzjRFTaD/l2rPnj1y+fJlGTlypPkgSA70jOoP07Rl9tdff8mqVatE//QyddPwST70g1Dr79YjI9+wBvqSJUukVatWhmr+/PmyceNG87NKLVr/zD579qwcPHjQ/Nf89Ojbt6889NBDJj800Bs2bChFixZN0+Aff/wh7dq1E/W/8847U0JfryHQrdtneOaoUaMMvH546qGrzPPnz5tvWxxpBSIFun7TbNq0qWzevFmyZcsmN27ckFq1ask333wjV69eTVmhq6uu3Lt06SJ169YNJW+LFi1EgyQ50CPV32uvvYZphArRulq+fLmlQM/o5zt1oOsXUP2QVvdbP4iDXKi6w7Z48WLRrXNq0f5Mv/POO1KwYEHzpTJSoK9cuVKWLl0qU6dONTfauXOnjB49Wr744os0ga7/Xr9gvfHGG2aBFIvDt1vuuv2p4dO6dWvjtmjRItmyZYtMmDAhFo6evqd+I9ViLVWqlOhzn5IlS5pv+vv37zfFp6un5EOfTU6ePFny5cuXEuj6ZUn/fZj/+9S3Bnqk+tNgwTT9H4f0An3cuHFSoEAB+fvvv0VXQi1btpTy5cubxxuRfr6TA71mzZqiH7a6Mxe2Y/jw4VK2bFl5+eWXI1pRixlXxc2bN+WFF14w72RoAOuXpJMnT5pV+IULF0z96UpePzt1p05DXA99bNSpUyfZsGFDSqBrGxr4PXr0MNv3sTp8G+i6VaI/0G3atEkJdN16ev/992Nl6Yv76ipcv40++uijxq9Xr17m+VDqQNfnxXnz5jWBrltNv/zyi9lyDvNxa6BHqj/9EMXUeqCnPvPnn38WfaauqyF9Rhnp51sDXb9wrl271nz5LFOmTKhKUx+N6Vbvu+++a3bWqEV70z979mzJkydPyqIwdSu6K9mhQwd57733ZPfu3bJr1y4ZM2ZMSqDrzvB3331n5kE/P/ULab169cwX0lgevg10/bakLyjoB6geH374oVl96osjHBkLfPrpp+Z5uX5oPvvss2bLXV+00aLUb6UrVqwwW+5anOqsq6hhw4ZJjRo1Qkt7a6BHqj99+RBTe4GuVz311FPmZ1lDPdLPtwa6Po+vXr26bNq0yTxuS36RKegFqiGiO2taZxrmelCLmZv1pKQk+fjjj81OZYMGDSJerF8uH3/8cfMoR5+fa13qoS9x6mei7gproOu/f+utt8yi5/PPPzdb+LE6fBvo27Ztk7lz56Y819AC79atm1SrVi1Wlp69rxaZvj2cO3du00fdrtO3Zbt3724+GHRFWaVKFdm6davMmjXLfECmfilOP0R050PbyZUrl2fH6WbHbg30jOoPU+uBrquk5Pdgzpw5Y3bcvv76a9m3b1/En+/kLfe2bduarc/mzZubrdOgHwsXLpT8+fPLM888k2ao1KL1mdeFygcffGBeEH7ggQfSXJi6FnUnUx/n6jtZuh2vf69b8vr5py916gJIH/WkfilOPyP1LXp9pyFWh28DXcEUVlfld9xxhxQpUkQ6duwYK0dP31efM+qvXOivYeivD+k3VN2m02dF+jxIv2Hq8/ETJ06YZ0D6K2xavPoG8kcffWSeveuHp4a+/kqRbneG5dAXCjVc9EOgcePG8sgjj5g3YTOqP0zTVof+WumaNWvMOy76LFKf++rKR389Ut830C3zHDlyyPHjx82uUPJOUHo/3xr6gwYNkuLFi5svpvolU19E0lWqbtEH9Th8+LB5/JUzZ840Q1RX/XeRPgupxbQVoS+yafBqZiQfGtj6Gai/U66/0aKPG7XO9O335D/rQJ31L13V68vEuiLXY+zYsebzQa/VXSPdpteFkn7RjMXh60CPBRj3RAABBBBAwIsCBLoXZ4U+IYAAAgggkEkBAj2TYJyOAAIIIICAFwX+D8eDgs4888xLAAAAAElFTkSuQmCC\" alt=\"График\"/>\n",
       "                </div>\n",
       "                      \n",
       "            </div>\n",
       "            "
      ],
      "text/plain": [
       "<IPython.core.display.HTML object>"
      ]
     },
     "metadata": {},
     "output_type": "display_data"
    }
   ],
   "source": [
    "gen.next()"
   ]
  },
  {
   "cell_type": "markdown",
   "metadata": {},
   "source": [
    "**Наблюдения:**  \n",
    "\n",
    "- Пользователей с девайсами desktop 73%, пользователей с девайсами touchpad 27%"
   ]
  },
  {
   "cell_type": "code",
   "execution_count": 97,
   "metadata": {},
   "outputs": [
    {
     "data": {
      "text/html": [
       "\n",
       "            <div style=\"display: flex; justify-content: flex-start; align-items: flex-end;\">\n",
       "                <style type=\"text/css\">\n",
       "#T_77e56 caption {\n",
       "  font-size: 16px;\n",
       "  text-align: left;\n",
       "  font-weight: bold;\n",
       "}\n",
       "#T_77e56 th {\n",
       "  min-width: 100px;\n",
       "}\n",
       "#T_77e56  td {\n",
       "  min-width: 100px;\n",
       "}\n",
       "#T_77e56_row0_col0, #T_77e56_row0_col1, #T_77e56_row0_col2, #T_77e56_row0_col3, #T_77e56_row1_col0, #T_77e56_row1_col1, #T_77e56_row1_col2, #T_77e56_row1_col3, #T_77e56_row2_col0, #T_77e56_row2_col1, #T_77e56_row2_col2, #T_77e56_row2_col3, #T_77e56_row3_col0, #T_77e56_row3_col1, #T_77e56_row3_col2, #T_77e56_row3_col3, #T_77e56_row4_col0, #T_77e56_row4_col1, #T_77e56_row4_col2, #T_77e56_row4_col3, #T_77e56_row5_col0, #T_77e56_row5_col1, #T_77e56_row5_col2, #T_77e56_row5_col3, #T_77e56_row6_col0, #T_77e56_row6_col1, #T_77e56_row6_col2, #T_77e56_row6_col3 {\n",
       "  text-align: left;\n",
       "}\n",
       "</style>\n",
       "<table id=\"T_77e56\">\n",
       "  <caption>Статистика и топ-10 значений столбца \"source_id\"</caption>\n",
       "  <thead>\n",
       "  </thead>\n",
       "  <tbody>\n",
       "    <tr>\n",
       "      <td id=\"T_77e56_row0_col0\" class=\"data row0 col0\" >Values</td>\n",
       "      <td id=\"T_77e56_row0_col1\" class=\"data row0 col1\" >359 400 (100%)</td>\n",
       "      <td id=\"T_77e56_row0_col2\" class=\"data row0 col2\" >                              </td>\n",
       "      <td id=\"T_77e56_row0_col3\" class=\"data row0 col3\" >4 (28%)</td>\n",
       "    </tr>\n",
       "    <tr>\n",
       "      <td id=\"T_77e56_row1_col0\" class=\"data row1 col0\" >Missing</td>\n",
       "      <td id=\"T_77e56_row1_col1\" class=\"data row1 col1\" >---</td>\n",
       "      <td id=\"T_77e56_row1_col2\" class=\"data row1 col2\" >                              </td>\n",
       "      <td id=\"T_77e56_row1_col3\" class=\"data row1 col3\" >3 (24%)</td>\n",
       "    </tr>\n",
       "    <tr>\n",
       "      <td id=\"T_77e56_row2_col0\" class=\"data row2 col0\" >Distinct</td>\n",
       "      <td id=\"T_77e56_row2_col1\" class=\"data row2 col1\" >9 (<1%)</td>\n",
       "      <td id=\"T_77e56_row2_col2\" class=\"data row2 col2\" >                              </td>\n",
       "      <td id=\"T_77e56_row2_col3\" class=\"data row2 col3\" >5 (19%)</td>\n",
       "    </tr>\n",
       "    <tr>\n",
       "      <td id=\"T_77e56_row3_col0\" class=\"data row3 col0\" >Duplicated origin</td>\n",
       "      <td id=\"T_77e56_row3_col1\" class=\"data row3 col1\" >359 391 (99.9%)</td>\n",
       "      <td id=\"T_77e56_row3_col2\" class=\"data row3 col2\" >                              </td>\n",
       "      <td id=\"T_77e56_row3_col3\" class=\"data row3 col3\" >2 (13%)</td>\n",
       "    </tr>\n",
       "    <tr>\n",
       "      <td id=\"T_77e56_row4_col0\" class=\"data row4 col0\" >Dupl (modify - origin)</td>\n",
       "      <td id=\"T_77e56_row4_col1\" class=\"data row4 col1\" >---</td>\n",
       "      <td id=\"T_77e56_row4_col2\" class=\"data row4 col2\" >                              </td>\n",
       "      <td id=\"T_77e56_row4_col3\" class=\"data row4 col3\" >1 (9%)</td>\n",
       "    </tr>\n",
       "    <tr>\n",
       "      <td id=\"T_77e56_row5_col0\" class=\"data row5 col0\" >Empty</td>\n",
       "      <td id=\"T_77e56_row5_col1\" class=\"data row5 col1\" >---</td>\n",
       "      <td id=\"T_77e56_row5_col2\" class=\"data row5 col2\" >                              </td>\n",
       "      <td id=\"T_77e56_row5_col3\" class=\"data row5 col3\" >9 (4%)</td>\n",
       "    </tr>\n",
       "    <tr>\n",
       "      <td id=\"T_77e56_row6_col0\" class=\"data row6 col0\" >RAM (Mb)</td>\n",
       "      <td id=\"T_77e56_row6_col1\" class=\"data row6 col1\" ><1 Mb</td>\n",
       "      <td id=\"T_77e56_row6_col2\" class=\"data row6 col2\" >                              </td>\n",
       "      <td id=\"T_77e56_row6_col3\" class=\"data row6 col3\" >10 (3%)</td>\n",
       "    </tr>\n",
       "  </tbody>\n",
       "</table>\n",
       "\n",
       "                <div>\n",
       "                    <img src=\"data:image/png;base64,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\" alt=\"График\"/>\n",
       "                </div>\n",
       "                      \n",
       "            </div>\n",
       "            "
      ],
      "text/plain": [
       "<IPython.core.display.HTML object>"
      ]
     },
     "metadata": {},
     "output_type": "display_data"
    }
   ],
   "source": [
    "gen.next()"
   ]
  },
  {
   "cell_type": "code",
   "execution_count": 98,
   "metadata": {},
   "outputs": [
    {
     "data": {
      "text/html": [
       "<style type=\"text/css\">\n",
       "#T_a5976 caption {\n",
       "  font-size: 16px;\n",
       "  text-align: left;\n",
       "  font-weight: bold;\n",
       "}\n",
       "#T_a5976_row0_col0, #T_a5976_row0_col1, #T_a5976_row0_col2, #T_a5976_row0_col3, #T_a5976_row0_col4, #T_a5976_row1_col0, #T_a5976_row1_col1, #T_a5976_row1_col2, #T_a5976_row1_col3, #T_a5976_row1_col4, #T_a5976_row2_col0, #T_a5976_row2_col1, #T_a5976_row2_col2, #T_a5976_row2_col3, #T_a5976_row2_col4, #T_a5976_row3_col0, #T_a5976_row3_col1, #T_a5976_row3_col2, #T_a5976_row3_col3, #T_a5976_row3_col4, #T_a5976_row4_col0, #T_a5976_row4_col1, #T_a5976_row4_col2, #T_a5976_row4_col3, #T_a5976_row4_col4 {\n",
       "  text-align: left;\n",
       "}\n",
       "</style>\n",
       "<table id=\"T_a5976\">\n",
       "  <caption>value counts for \"source_id\"</caption>\n",
       "  <thead>\n",
       "  </thead>\n",
       "  <tbody>\n",
       "    <tr>\n",
       "      <td id=\"T_a5976_row0_col0\" class=\"data row0 col0\" >4</td>\n",
       "      <td id=\"T_a5976_row0_col1\" class=\"data row0 col1\" >101 794 (28.32%)</td>\n",
       "      <td id=\"T_a5976_row0_col2\" class=\"data row0 col2\" >|</td>\n",
       "      <td id=\"T_a5976_row0_col3\" class=\"data row0 col3\" >9</td>\n",
       "      <td id=\"T_a5976_row0_col4\" class=\"data row0 col4\" >13 277 (3.69%)</td>\n",
       "    </tr>\n",
       "    <tr>\n",
       "      <td id=\"T_a5976_row1_col0\" class=\"data row1 col0\" >3</td>\n",
       "      <td id=\"T_a5976_row1_col1\" class=\"data row1 col1\" >85 610 (23.82%)</td>\n",
       "      <td id=\"T_a5976_row1_col2\" class=\"data row1 col2\" >|</td>\n",
       "      <td id=\"T_a5976_row1_col3\" class=\"data row1 col3\" >10</td>\n",
       "      <td id=\"T_a5976_row1_col4\" class=\"data row1 col4\" >10 025 (2.79%)</td>\n",
       "    </tr>\n",
       "    <tr>\n",
       "      <td id=\"T_a5976_row2_col0\" class=\"data row2 col0\" >5</td>\n",
       "      <td id=\"T_a5976_row2_col1\" class=\"data row2 col1\" >66 905 (18.62%)</td>\n",
       "      <td id=\"T_a5976_row2_col2\" class=\"data row2 col2\" >|</td>\n",
       "      <td id=\"T_a5976_row2_col3\" class=\"data row2 col3\" >7</td>\n",
       "      <td id=\"T_a5976_row2_col4\" class=\"data row2 col4\" >36 (0.01%)</td>\n",
       "    </tr>\n",
       "    <tr>\n",
       "      <td id=\"T_a5976_row3_col0\" class=\"data row3 col0\" >2</td>\n",
       "      <td id=\"T_a5976_row3_col1\" class=\"data row3 col1\" >47 626 (13.25%)</td>\n",
       "      <td id=\"T_a5976_row3_col2\" class=\"data row3 col2\" >|</td>\n",
       "      <td id=\"T_a5976_row3_col3\" class=\"data row3 col3\" >6</td>\n",
       "      <td id=\"T_a5976_row3_col4\" class=\"data row3 col4\" >6 (0.0%)</td>\n",
       "    </tr>\n",
       "    <tr>\n",
       "      <td id=\"T_a5976_row4_col0\" class=\"data row4 col0\" >1</td>\n",
       "      <td id=\"T_a5976_row4_col1\" class=\"data row4 col1\" >34 121 (9.49%)</td>\n",
       "      <td id=\"T_a5976_row4_col2\" class=\"data row4 col2\" >|</td>\n",
       "      <td id=\"T_a5976_row4_col3\" class=\"data row4 col3\" ></td>\n",
       "      <td id=\"T_a5976_row4_col4\" class=\"data row4 col4\" ></td>\n",
       "    </tr>\n",
       "  </tbody>\n",
       "</table>\n"
      ],
      "text/plain": [
       "<pandas.io.formats.style.Styler at 0x752d10271910>"
      ]
     },
     "execution_count": 98,
     "metadata": {},
     "output_type": "execute_result"
    }
   ],
   "source": [
    "pagri_data_tools.value_counts_table(df_visits, 'source_id', chunk_size = 5, tables_in_row = 10)"
   ]
  },
  {
   "cell_type": "markdown",
   "metadata": {},
   "source": [
    "**Наблюдения:**  \n",
    "\n",
    "- В таблице визитов 9 униклальных источников перехода на сайт\n",
    "- Источники 6 и 7 очень редко встречаются"
   ]
  },
  {
   "cell_type": "markdown",
   "metadata": {},
   "source": [
    "#####  Таблица orders_log (информацию о заказах)"
   ]
  },
  {
   "cell_type": "markdown",
   "metadata": {},
   "source": [
    "Загружаем данные и задаем типы данных для столбцов, где это возможно."
   ]
  },
  {
   "cell_type": "code",
   "execution_count": 99,
   "metadata": {},
   "outputs": [
    {
     "data": {
      "text/html": [
       "<div>\n",
       "<style scoped>\n",
       "    .dataframe tbody tr th:only-of-type {\n",
       "        vertical-align: middle;\n",
       "    }\n",
       "\n",
       "    .dataframe tbody tr th {\n",
       "        vertical-align: top;\n",
       "    }\n",
       "\n",
       "    .dataframe thead th {\n",
       "        text-align: right;\n",
       "    }\n",
       "</style>\n",
       "<table border=\"1\" class=\"dataframe\">\n",
       "  <thead>\n",
       "    <tr style=\"text-align: right;\">\n",
       "      <th></th>\n",
       "      <th>order_dt</th>\n",
       "      <th>revenue</th>\n",
       "      <th>uid</th>\n",
       "    </tr>\n",
       "  </thead>\n",
       "  <tbody>\n",
       "    <tr>\n",
       "      <th>49089</th>\n",
       "      <td>2018-05-26 18:28:00</td>\n",
       "      <td>5.50</td>\n",
       "      <td>1811520111156483535</td>\n",
       "    </tr>\n",
       "    <tr>\n",
       "      <th>50332</th>\n",
       "      <td>2018-05-31 19:43:00</td>\n",
       "      <td>1.77</td>\n",
       "      <td>4194075740388201505</td>\n",
       "    </tr>\n",
       "    <tr>\n",
       "      <th>3675</th>\n",
       "      <td>2017-07-17 14:24:00</td>\n",
       "      <td>1.83</td>\n",
       "      <td>6363711940649679047</td>\n",
       "    </tr>\n",
       "    <tr>\n",
       "      <th>37863</th>\n",
       "      <td>2018-03-02 20:13:00</td>\n",
       "      <td>18.33</td>\n",
       "      <td>16208519295351883434</td>\n",
       "    </tr>\n",
       "    <tr>\n",
       "      <th>20859</th>\n",
       "      <td>2017-11-29 09:42:00</td>\n",
       "      <td>0.24</td>\n",
       "      <td>17752546109465586272</td>\n",
       "    </tr>\n",
       "  </tbody>\n",
       "</table>\n",
       "</div>"
      ],
      "text/plain": [
       "                 order_dt  revenue                   uid\n",
       "49089 2018-05-26 18:28:00     5.50   1811520111156483535\n",
       "50332 2018-05-31 19:43:00     1.77   4194075740388201505\n",
       "3675  2017-07-17 14:24:00     1.83   6363711940649679047\n",
       "37863 2018-03-02 20:13:00    18.33  16208519295351883434\n",
       "20859 2017-11-29 09:42:00     0.24  17752546109465586272"
      ]
     },
     "execution_count": 99,
     "metadata": {},
     "output_type": "execute_result"
    }
   ],
   "source": [
    "df_orders = pd.read_csv('https://code.s3.yandex.net/datasets/orders_log.csv'\n",
    "                , parse_dates=['Buy Ts'], date_format='%Y-%m-%d %H:%M:%S')\n",
    "df_orders.rename(columns={'Buy Ts': 'order_dt', 'Revenue': 'revenue', 'Uid': 'uid'}, inplace=True)\n",
    "df_orders.sample(5, random_state=7)"
   ]
  },
  {
   "cell_type": "code",
   "execution_count": 100,
   "metadata": {},
   "outputs": [
    {
     "data": {
      "text/html": [
       "<style type=\"text/css\">\n",
       "#T_e4b45 caption {\n",
       "  font-size: 18px;\n",
       "  text-align: left;\n",
       "  font-weight: bold;\n",
       "}\n",
       "#T_e4b45_row0_col0, #T_e4b45_row0_col1, #T_e4b45_row0_col2, #T_e4b45_row0_col3, #T_e4b45_row0_col4 {\n",
       "  text-align: left;\n",
       "}\n",
       "</style>\n",
       "<table id=\"T_e4b45\">\n",
       "  <caption>DataFrame</caption>\n",
       "  <thead>\n",
       "    <tr>\n",
       "      <th id=\"T_e4b45_level0_col0\" class=\"col_heading level0 col0\" >Rows</th>\n",
       "      <th id=\"T_e4b45_level0_col1\" class=\"col_heading level0 col1\" >Features</th>\n",
       "      <th id=\"T_e4b45_level0_col2\" class=\"col_heading level0 col2\" >RAM (Mb)</th>\n",
       "      <th id=\"T_e4b45_level0_col3\" class=\"col_heading level0 col3\" >Duplicates</th>\n",
       "      <th id=\"T_e4b45_level0_col4\" class=\"col_heading level0 col4\" >Dupl (sub - origin)</th>\n",
       "    </tr>\n",
       "  </thead>\n",
       "  <tbody>\n",
       "    <tr>\n",
       "      <td id=\"T_e4b45_row0_col0\" class=\"data row0 col0\" >50 415</td>\n",
       "      <td id=\"T_e4b45_row0_col1\" class=\"data row0 col1\" >3</td>\n",
       "      <td id=\"T_e4b45_row0_col2\" class=\"data row0 col2\" >1</td>\n",
       "      <td id=\"T_e4b45_row0_col3\" class=\"data row0 col3\" >---</td>\n",
       "      <td id=\"T_e4b45_row0_col4\" class=\"data row0 col4\" >---</td>\n",
       "    </tr>\n",
       "  </tbody>\n",
       "</table>\n"
      ],
      "text/plain": [
       "<pandas.io.formats.style.Styler at 0x752d11f52510>"
      ]
     },
     "execution_count": 100,
     "metadata": {},
     "output_type": "execute_result"
    }
   ],
   "source": [
    "gen = pagri_data_tools.info_gen(df_orders)\n",
    "gen.next()"
   ]
  },
  {
   "cell_type": "code",
   "execution_count": 101,
   "metadata": {},
   "outputs": [
    {
     "data": {
      "text/html": [
       "\n",
       "            <div style=\"display: flex; justify-content: flex-start; align-items: flex-end;\">\n",
       "                <style type=\"text/css\">\n",
       "#T_6bad7 caption {\n",
       "  font-size: 16px;\n",
       "  text-align: left;\n",
       "  font-weight: bold;\n",
       "}\n",
       "#T_6bad7_row0_col0, #T_6bad7_row0_col1, #T_6bad7_row0_col2, #T_6bad7_row0_col3, #T_6bad7_row0_col4, #T_6bad7_row0_col5, #T_6bad7_row0_col6, #T_6bad7_row0_col7, #T_6bad7_row0_col8, #T_6bad7_row1_col0, #T_6bad7_row1_col1, #T_6bad7_row1_col2, #T_6bad7_row1_col3, #T_6bad7_row1_col4, #T_6bad7_row1_col5, #T_6bad7_row1_col6, #T_6bad7_row1_col7, #T_6bad7_row1_col8, #T_6bad7_row2_col0, #T_6bad7_row2_col1, #T_6bad7_row2_col2, #T_6bad7_row2_col3, #T_6bad7_row2_col4, #T_6bad7_row2_col5, #T_6bad7_row2_col6, #T_6bad7_row2_col7, #T_6bad7_row2_col8, #T_6bad7_row3_col0, #T_6bad7_row3_col1, #T_6bad7_row3_col2, #T_6bad7_row3_col3, #T_6bad7_row3_col4, #T_6bad7_row3_col5, #T_6bad7_row3_col6, #T_6bad7_row3_col7, #T_6bad7_row3_col8 {\n",
       "  text-align: left;\n",
       "}\n",
       "</style>\n",
       "<table id=\"T_6bad7\">\n",
       "  <caption>Статистика столбца \"order_dt\"</caption>\n",
       "  <thead>\n",
       "  </thead>\n",
       "  <tbody>\n",
       "    <tr>\n",
       "      <td id=\"T_6bad7_row0_col0\" class=\"data row0 col0\" >First date</td>\n",
       "      <td id=\"T_6bad7_row0_col1\" class=\"data row0 col1\" >2017-06-01 00:10:00</td>\n",
       "      <td id=\"T_6bad7_row0_col2\" class=\"data row0 col2\" >                              </td>\n",
       "      <td id=\"T_6bad7_row0_col3\" class=\"data row0 col3\" >Zeros</td>\n",
       "      <td id=\"T_6bad7_row0_col4\" class=\"data row0 col4\" >---</td>\n",
       "      <td id=\"T_6bad7_row0_col5\" class=\"data row0 col5\" >                              </td>\n",
       "      <td id=\"T_6bad7_row0_col6\" class=\"data row0 col6\" >Years missing</td>\n",
       "      <td id=\"T_6bad7_row0_col7\" class=\"data row0 col7\" >0%</td>\n",
       "      <td id=\"T_6bad7_row0_col8\" class=\"data row0 col8\" >                              </td>\n",
       "    </tr>\n",
       "    <tr>\n",
       "      <td id=\"T_6bad7_row1_col0\" class=\"data row1 col0\" >Last date</td>\n",
       "      <td id=\"T_6bad7_row1_col1\" class=\"data row1 col1\" >2018-06-01 00:02:00</td>\n",
       "      <td id=\"T_6bad7_row1_col2\" class=\"data row1 col2\" >                              </td>\n",
       "      <td id=\"T_6bad7_row1_col3\" class=\"data row1 col3\" >Missing</td>\n",
       "      <td id=\"T_6bad7_row1_col4\" class=\"data row1 col4\" >---</td>\n",
       "      <td id=\"T_6bad7_row1_col5\" class=\"data row1 col5\" >                              </td>\n",
       "      <td id=\"T_6bad7_row1_col6\" class=\"data row1 col6\" >Months missing</td>\n",
       "      <td id=\"T_6bad7_row1_col7\" class=\"data row1 col7\" >0%</td>\n",
       "      <td id=\"T_6bad7_row1_col8\" class=\"data row1 col8\" >                              </td>\n",
       "    </tr>\n",
       "    <tr>\n",
       "      <td id=\"T_6bad7_row2_col0\" class=\"data row2 col0\" >Values</td>\n",
       "      <td id=\"T_6bad7_row2_col1\" class=\"data row2 col1\" >50 415 (100%)</td>\n",
       "      <td id=\"T_6bad7_row2_col2\" class=\"data row2 col2\" >                              </td>\n",
       "      <td id=\"T_6bad7_row2_col3\" class=\"data row2 col3\" >Distinct</td>\n",
       "      <td id=\"T_6bad7_row2_col4\" class=\"data row2 col4\" >45 991 (91%)</td>\n",
       "      <td id=\"T_6bad7_row2_col5\" class=\"data row2 col5\" >                              </td>\n",
       "      <td id=\"T_6bad7_row2_col6\" class=\"data row2 col6\" >Weeks missing</td>\n",
       "      <td id=\"T_6bad7_row2_col7\" class=\"data row2 col7\" >0%</td>\n",
       "      <td id=\"T_6bad7_row2_col8\" class=\"data row2 col8\" >                              </td>\n",
       "    </tr>\n",
       "    <tr>\n",
       "      <td id=\"T_6bad7_row3_col0\" class=\"data row3 col0\" >RAM (Mb)</td>\n",
       "      <td id=\"T_6bad7_row3_col1\" class=\"data row3 col1\" ><1 Mb</td>\n",
       "      <td id=\"T_6bad7_row3_col2\" class=\"data row3 col2\" >                              </td>\n",
       "      <td id=\"T_6bad7_row3_col3\" class=\"data row3 col3\" >Duplicates</td>\n",
       "      <td id=\"T_6bad7_row3_col4\" class=\"data row3 col4\" >4 424 (9%)</td>\n",
       "      <td id=\"T_6bad7_row3_col5\" class=\"data row3 col5\" >                              </td>\n",
       "      <td id=\"T_6bad7_row3_col6\" class=\"data row3 col6\" >Days missing</td>\n",
       "      <td id=\"T_6bad7_row3_col7\" class=\"data row3 col7\" ><1%</td>\n",
       "      <td id=\"T_6bad7_row3_col8\" class=\"data row3 col8\" >                              </td>\n",
       "    </tr>\n",
       "  </tbody>\n",
       "</table>\n",
       "\n",
       "            </div>\n",
       "            "
      ],
      "text/plain": [
       "<IPython.core.display.HTML object>"
      ]
     },
     "metadata": {},
     "output_type": "display_data"
    }
   ],
   "source": [
    "gen.next()"
   ]
  },
  {
   "cell_type": "markdown",
   "metadata": {},
   "source": [
    "**Наблюдения:**  \n",
    "\n",
    "- В дате заказа последняя дата попала на следующий месяц, нужно это учесть при расчете метрик.\n",
    "- В дате заказа есть пропущенные дни, но их мало (меньше 1%)"
   ]
  },
  {
   "cell_type": "code",
   "execution_count": 102,
   "metadata": {},
   "outputs": [
    {
     "data": {
      "text/html": [
       "\n",
       "            <div style=\"display: flex; justify-content: flex-start; align-items: flex-end;\">\n",
       "                <style type=\"text/css\">\n",
       "#T_e57b8 caption {\n",
       "  font-size: 16px;\n",
       "  text-align: left;\n",
       "  font-weight: bold;\n",
       "}\n",
       "#T_e57b8_row0_col0, #T_e57b8_row0_col1, #T_e57b8_row0_col2, #T_e57b8_row0_col3, #T_e57b8_row0_col4, #T_e57b8_row0_col5, #T_e57b8_row0_col6, #T_e57b8_row0_col7, #T_e57b8_row0_col8, #T_e57b8_row0_col9, #T_e57b8_row1_col0, #T_e57b8_row1_col1, #T_e57b8_row1_col2, #T_e57b8_row1_col3, #T_e57b8_row1_col4, #T_e57b8_row1_col5, #T_e57b8_row1_col6, #T_e57b8_row1_col7, #T_e57b8_row1_col8, #T_e57b8_row1_col9, #T_e57b8_row2_col0, #T_e57b8_row2_col1, #T_e57b8_row2_col2, #T_e57b8_row2_col3, #T_e57b8_row2_col4, #T_e57b8_row2_col5, #T_e57b8_row2_col6, #T_e57b8_row2_col7, #T_e57b8_row2_col8, #T_e57b8_row2_col9, #T_e57b8_row3_col0, #T_e57b8_row3_col1, #T_e57b8_row3_col2, #T_e57b8_row3_col3, #T_e57b8_row3_col4, #T_e57b8_row3_col5, #T_e57b8_row3_col6, #T_e57b8_row3_col7, #T_e57b8_row3_col8, #T_e57b8_row3_col9, #T_e57b8_row4_col0, #T_e57b8_row4_col1, #T_e57b8_row4_col2, #T_e57b8_row4_col3, #T_e57b8_row4_col4, #T_e57b8_row4_col5, #T_e57b8_row4_col6, #T_e57b8_row4_col7, #T_e57b8_row4_col8, #T_e57b8_row4_col9, #T_e57b8_row5_col0, #T_e57b8_row5_col1, #T_e57b8_row5_col2, #T_e57b8_row5_col3, #T_e57b8_row5_col4, #T_e57b8_row5_col5, #T_e57b8_row5_col6, #T_e57b8_row5_col7, #T_e57b8_row5_col8, #T_e57b8_row5_col9, #T_e57b8_row6_col0, #T_e57b8_row6_col1, #T_e57b8_row6_col2, #T_e57b8_row6_col3, #T_e57b8_row6_col4, #T_e57b8_row6_col5, #T_e57b8_row6_col6, #T_e57b8_row6_col7, #T_e57b8_row6_col8, #T_e57b8_row6_col9 {\n",
       "  text-align: left;\n",
       "}\n",
       "</style>\n",
       "<table id=\"T_e57b8\">\n",
       "  <caption>Статистика и гистограмма столбца \"revenue\"</caption>\n",
       "  <thead>\n",
       "  </thead>\n",
       "  <tbody>\n",
       "    <tr>\n",
       "      <td id=\"T_e57b8_row0_col0\" class=\"data row0 col0\" >Values</td>\n",
       "      <td id=\"T_e57b8_row0_col1\" class=\"data row0 col1\" >50 415 (100%)</td>\n",
       "      <td id=\"T_e57b8_row0_col2\" class=\"data row0 col2\" >                              </td>\n",
       "      <td id=\"T_e57b8_row0_col3\" class=\"data row0 col3\" >Max</td>\n",
       "      <td id=\"T_e57b8_row0_col4\" class=\"data row0 col4\" >2 633.28</td>\n",
       "      <td id=\"T_e57b8_row0_col5\" class=\"data row0 col5\" >                              </td>\n",
       "      <td id=\"T_e57b8_row0_col6\" class=\"data row0 col6\" >Avg</td>\n",
       "      <td id=\"T_e57b8_row0_col7\" class=\"data row0 col7\" >4.0</td>\n",
       "      <td id=\"T_e57b8_row0_col8\" class=\"data row0 col8\" >                              </td>\n",
       "      <td id=\"T_e57b8_row0_col9\" class=\"data row0 col9\" >1.83 (5%)</td>\n",
       "    </tr>\n",
       "    <tr>\n",
       "      <td id=\"T_e57b8_row1_col0\" class=\"data row1 col0\" >Missing</td>\n",
       "      <td id=\"T_e57b8_row1_col1\" class=\"data row1 col1\" >---</td>\n",
       "      <td id=\"T_e57b8_row1_col2\" class=\"data row1 col2\" >                              </td>\n",
       "      <td id=\"T_e57b8_row1_col3\" class=\"data row1 col3\" >95%</td>\n",
       "      <td id=\"T_e57b8_row1_col4\" class=\"data row1 col4\" >13.75</td>\n",
       "      <td id=\"T_e57b8_row1_col5\" class=\"data row1 col5\" >                              </td>\n",
       "      <td id=\"T_e57b8_row1_col6\" class=\"data row1 col6\" >Mode</td>\n",
       "      <td id=\"T_e57b8_row1_col7\" class=\"data row1 col7\" >1.83</td>\n",
       "      <td id=\"T_e57b8_row1_col8\" class=\"data row1 col8\" >                              </td>\n",
       "      <td id=\"T_e57b8_row1_col9\" class=\"data row1 col9\" >2.44 (5%)</td>\n",
       "    </tr>\n",
       "    <tr>\n",
       "      <td id=\"T_e57b8_row2_col0\" class=\"data row2 col0\" >Distinct</td>\n",
       "      <td id=\"T_e57b8_row2_col1\" class=\"data row2 col1\" >1 149 (2%)</td>\n",
       "      <td id=\"T_e57b8_row2_col2\" class=\"data row2 col2\" >                              </td>\n",
       "      <td id=\"T_e57b8_row2_col3\" class=\"data row2 col3\" >75%</td>\n",
       "      <td id=\"T_e57b8_row2_col4\" class=\"data row2 col4\" >4.89</td>\n",
       "      <td id=\"T_e57b8_row2_col5\" class=\"data row2 col5\" >                              </td>\n",
       "      <td id=\"T_e57b8_row2_col6\" class=\"data row2 col6\" >Range</td>\n",
       "      <td id=\"T_e57b8_row2_col7\" class=\"data row2 col7\" >2 633.28</td>\n",
       "      <td id=\"T_e57b8_row2_col8\" class=\"data row2 col8\" >                              </td>\n",
       "      <td id=\"T_e57b8_row2_col9\" class=\"data row2 col9\" >3.67 (5%)</td>\n",
       "    </tr>\n",
       "    <tr>\n",
       "      <td id=\"T_e57b8_row3_col0\" class=\"data row3 col0\" >Duplicates</td>\n",
       "      <td id=\"T_e57b8_row3_col1\" class=\"data row3 col1\" >49 266 (98%)</td>\n",
       "      <td id=\"T_e57b8_row3_col2\" class=\"data row3 col2\" >                              </td>\n",
       "      <td id=\"T_e57b8_row3_col3\" class=\"data row3 col3\" >Median</td>\n",
       "      <td id=\"T_e57b8_row3_col4\" class=\"data row3 col4\" >2.5</td>\n",
       "      <td id=\"T_e57b8_row3_col5\" class=\"data row3 col5\" >                              </td>\n",
       "      <td id=\"T_e57b8_row3_col6\" class=\"data row3 col6\" >iQR</td>\n",
       "      <td id=\"T_e57b8_row3_col7\" class=\"data row3 col7\" >3.67</td>\n",
       "      <td id=\"T_e57b8_row3_col8\" class=\"data row3 col8\" >                              </td>\n",
       "      <td id=\"T_e57b8_row3_col9\" class=\"data row3 col9\" >1.22 (4%)</td>\n",
       "    </tr>\n",
       "    <tr>\n",
       "      <td id=\"T_e57b8_row4_col0\" class=\"data row4 col0\" >Zeros</td>\n",
       "      <td id=\"T_e57b8_row4_col1\" class=\"data row4 col1\" >51 (<1%)</td>\n",
       "      <td id=\"T_e57b8_row4_col2\" class=\"data row4 col2\" >                              </td>\n",
       "      <td id=\"T_e57b8_row4_col3\" class=\"data row4 col3\" >25%</td>\n",
       "      <td id=\"T_e57b8_row4_col4\" class=\"data row4 col4\" >1.22</td>\n",
       "      <td id=\"T_e57b8_row4_col5\" class=\"data row4 col5\" >                              </td>\n",
       "      <td id=\"T_e57b8_row4_col6\" class=\"data row4 col6\" >std</td>\n",
       "      <td id=\"T_e57b8_row4_col7\" class=\"data row4 col7\" >21.82</td>\n",
       "      <td id=\"T_e57b8_row4_col8\" class=\"data row4 col8\" >                              </td>\n",
       "      <td id=\"T_e57b8_row4_col9\" class=\"data row4 col9\" >3.05 (4%)</td>\n",
       "    </tr>\n",
       "    <tr>\n",
       "      <td id=\"T_e57b8_row5_col0\" class=\"data row5 col0\" >Negative</td>\n",
       "      <td id=\"T_e57b8_row5_col1\" class=\"data row5 col1\" >---</td>\n",
       "      <td id=\"T_e57b8_row5_col2\" class=\"data row5 col2\" >                              </td>\n",
       "      <td id=\"T_e57b8_row5_col3\" class=\"data row5 col3\" >5%</td>\n",
       "      <td id=\"T_e57b8_row5_col4\" class=\"data row5 col4\" >0.37</td>\n",
       "      <td id=\"T_e57b8_row5_col5\" class=\"data row5 col5\" >                              </td>\n",
       "      <td id=\"T_e57b8_row5_col6\" class=\"data row5 col6\" >kurt</td>\n",
       "      <td id=\"T_e57b8_row5_col7\" class=\"data row5 col7\" >5300.27</td>\n",
       "      <td id=\"T_e57b8_row5_col8\" class=\"data row5 col8\" >                              </td>\n",
       "      <td id=\"T_e57b8_row5_col9\" class=\"data row5 col9\" >4.89 (3%)</td>\n",
       "    </tr>\n",
       "    <tr>\n",
       "      <td id=\"T_e57b8_row6_col0\" class=\"data row6 col0\" >RAM (Mb)</td>\n",
       "      <td id=\"T_e57b8_row6_col1\" class=\"data row6 col1\" ><1 Mb</td>\n",
       "      <td id=\"T_e57b8_row6_col2\" class=\"data row6 col2\" >                              </td>\n",
       "      <td id=\"T_e57b8_row6_col3\" class=\"data row6 col3\" >Min</td>\n",
       "      <td id=\"T_e57b8_row6_col4\" class=\"data row6 col4\" >0</td>\n",
       "      <td id=\"T_e57b8_row6_col5\" class=\"data row6 col5\" >                              </td>\n",
       "      <td id=\"T_e57b8_row6_col6\" class=\"data row6 col6\" >skew</td>\n",
       "      <td id=\"T_e57b8_row6_col7\" class=\"data row6 col7\" >58.91</td>\n",
       "      <td id=\"T_e57b8_row6_col8\" class=\"data row6 col8\" >                              </td>\n",
       "      <td id=\"T_e57b8_row6_col9\" class=\"data row6 col9\" >0.61 (3%)</td>\n",
       "    </tr>\n",
       "  </tbody>\n",
       "</table>\n",
       "\n",
       "                <div>\n",
       "                    <img src=\"data:image/png;base64,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\" alt=\"График\"/>\n",
       "                </div>\n",
       "            \n",
       "                <div>\n",
       "                    <img src=\"data:image/png;base64,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\" alt=\"График\"/>\n",
       "                </div>            \n",
       "            </div>\n",
       "            "
      ],
      "text/plain": [
       "<IPython.core.display.HTML object>"
      ]
     },
     "metadata": {},
     "output_type": "display_data"
    }
   ],
   "source": [
    "gen.next('dual')"
   ]
  },
  {
   "cell_type": "markdown",
   "metadata": {},
   "source": [
    "**Наблюдения:**  \n",
    "\n",
    "- В столбце с суммой заказов 51 нулевое значение (меньше 1%)\n",
    "- Сумма заказа варируется от 0 до 2633.28 у.е.\n",
    "- В основном заказы совершаются в диапазоне от 1.22 до 4.89 у.е.\n",
    "- Сумма заказа в 2633.28 у.е. является выбросом"
   ]
  },
  {
   "cell_type": "code",
   "execution_count": 103,
   "metadata": {},
   "outputs": [
    {
     "data": {
      "text/html": [
       "\n",
       "            <div style=\"display: flex; justify-content: flex-start; align-items: flex-end;\">\n",
       "                <style type=\"text/css\">\n",
       "#T_8efca caption {\n",
       "  font-size: 16px;\n",
       "  text-align: left;\n",
       "  font-weight: bold;\n",
       "}\n",
       "#T_8efca_row0_col0, #T_8efca_row0_col1, #T_8efca_row0_col2, #T_8efca_row1_col0, #T_8efca_row1_col1, #T_8efca_row1_col2, #T_8efca_row2_col0, #T_8efca_row2_col1, #T_8efca_row2_col2, #T_8efca_row3_col0, #T_8efca_row3_col1, #T_8efca_row3_col2, #T_8efca_row4_col0, #T_8efca_row4_col1, #T_8efca_row4_col2, #T_8efca_row5_col0, #T_8efca_row5_col1, #T_8efca_row5_col2, #T_8efca_row6_col0, #T_8efca_row6_col1, #T_8efca_row6_col2 {\n",
       "  text-align: left;\n",
       "}\n",
       "</style>\n",
       "<table id=\"T_8efca\">\n",
       "  <caption>Summary for \"uid</caption>\n",
       "  <thead>\n",
       "  </thead>\n",
       "  <tbody>\n",
       "    <tr>\n",
       "      <td id=\"T_8efca_row0_col0\" class=\"data row0 col0\" >Values</td>\n",
       "      <td id=\"T_8efca_row0_col1\" class=\"data row0 col1\" >50 415 (100%)</td>\n",
       "      <td id=\"T_8efca_row0_col2\" class=\"data row0 col2\" >                              </td>\n",
       "    </tr>\n",
       "    <tr>\n",
       "      <td id=\"T_8efca_row1_col0\" class=\"data row1 col0\" >Missing</td>\n",
       "      <td id=\"T_8efca_row1_col1\" class=\"data row1 col1\" >---</td>\n",
       "      <td id=\"T_8efca_row1_col2\" class=\"data row1 col2\" >                              </td>\n",
       "    </tr>\n",
       "    <tr>\n",
       "      <td id=\"T_8efca_row2_col0\" class=\"data row2 col0\" >Distinct</td>\n",
       "      <td id=\"T_8efca_row2_col1\" class=\"data row2 col1\" >36 523 (72%)</td>\n",
       "      <td id=\"T_8efca_row2_col2\" class=\"data row2 col2\" >                              </td>\n",
       "    </tr>\n",
       "    <tr>\n",
       "      <td id=\"T_8efca_row3_col0\" class=\"data row3 col0\" >Duplicates</td>\n",
       "      <td id=\"T_8efca_row3_col1\" class=\"data row3 col1\" >13 892 (28%)</td>\n",
       "      <td id=\"T_8efca_row3_col2\" class=\"data row3 col2\" >                              </td>\n",
       "    </tr>\n",
       "    <tr>\n",
       "      <td id=\"T_8efca_row4_col0\" class=\"data row4 col0\" >Zeros</td>\n",
       "      <td id=\"T_8efca_row4_col1\" class=\"data row4 col1\" >---</td>\n",
       "      <td id=\"T_8efca_row4_col2\" class=\"data row4 col2\" >                              </td>\n",
       "    </tr>\n",
       "    <tr>\n",
       "      <td id=\"T_8efca_row5_col0\" class=\"data row5 col0\" >Negative</td>\n",
       "      <td id=\"T_8efca_row5_col1\" class=\"data row5 col1\" >---</td>\n",
       "      <td id=\"T_8efca_row5_col2\" class=\"data row5 col2\" >                              </td>\n",
       "    </tr>\n",
       "    <tr>\n",
       "      <td id=\"T_8efca_row6_col0\" class=\"data row6 col0\" >RAM (Mb)</td>\n",
       "      <td id=\"T_8efca_row6_col1\" class=\"data row6 col1\" ><1 Mb</td>\n",
       "      <td id=\"T_8efca_row6_col2\" class=\"data row6 col2\" >                              </td>\n",
       "    </tr>\n",
       "  </tbody>\n",
       "</table>\n",
       "\n",
       "            </div>\n",
       "            "
      ],
      "text/plain": [
       "<IPython.core.display.HTML object>"
      ]
     },
     "metadata": {},
     "output_type": "display_data"
    }
   ],
   "source": [
    "gen.next(only_summary=True)"
   ]
  },
  {
   "cell_type": "markdown",
   "metadata": {},
   "source": [
    "**Наблюдения:**  \n",
    "\n",
    "- В таблице с заказами 72% уникльных пользователей."
   ]
  },
  {
   "cell_type": "markdown",
   "metadata": {},
   "source": [
    "#####  Таблица costs (информацию о расходах на маркетинг)"
   ]
  },
  {
   "cell_type": "markdown",
   "metadata": {},
   "source": [
    "Загружаем данные и задаем типы данных для столбцов, где это возможно."
   ]
  },
  {
   "cell_type": "code",
   "execution_count": 104,
   "metadata": {},
   "outputs": [
    {
     "data": {
      "text/html": [
       "<div>\n",
       "<style scoped>\n",
       "    .dataframe tbody tr th:only-of-type {\n",
       "        vertical-align: middle;\n",
       "    }\n",
       "\n",
       "    .dataframe tbody tr th {\n",
       "        vertical-align: top;\n",
       "    }\n",
       "\n",
       "    .dataframe thead th {\n",
       "        text-align: right;\n",
       "    }\n",
       "</style>\n",
       "<table border=\"1\" class=\"dataframe\">\n",
       "  <thead>\n",
       "    <tr style=\"text-align: right;\">\n",
       "      <th></th>\n",
       "      <th>source_id</th>\n",
       "      <th>promo_date</th>\n",
       "      <th>promo_costs</th>\n",
       "    </tr>\n",
       "  </thead>\n",
       "  <tbody>\n",
       "    <tr>\n",
       "      <th>1770</th>\n",
       "      <td>5</td>\n",
       "      <td>2018-04-16</td>\n",
       "      <td>139.51</td>\n",
       "    </tr>\n",
       "    <tr>\n",
       "      <th>660</th>\n",
       "      <td>2</td>\n",
       "      <td>2018-03-25</td>\n",
       "      <td>125.00</td>\n",
       "    </tr>\n",
       "    <tr>\n",
       "      <th>1782</th>\n",
       "      <td>5</td>\n",
       "      <td>2018-04-28</td>\n",
       "      <td>81.28</td>\n",
       "    </tr>\n",
       "    <tr>\n",
       "      <th>1352</th>\n",
       "      <td>4</td>\n",
       "      <td>2018-02-19</td>\n",
       "      <td>164.76</td>\n",
       "    </tr>\n",
       "    <tr>\n",
       "      <th>1308</th>\n",
       "      <td>4</td>\n",
       "      <td>2018-01-06</td>\n",
       "      <td>301.00</td>\n",
       "    </tr>\n",
       "  </tbody>\n",
       "</table>\n",
       "</div>"
      ],
      "text/plain": [
       "     source_id promo_date  promo_costs\n",
       "1770         5 2018-04-16       139.51\n",
       "660          2 2018-03-25       125.00\n",
       "1782         5 2018-04-28        81.28\n",
       "1352         4 2018-02-19       164.76\n",
       "1308         4 2018-01-06       301.00"
      ]
     },
     "execution_count": 104,
     "metadata": {},
     "output_type": "execute_result"
    }
   ],
   "source": [
    "dtype = {'source_id': 'category'}\n",
    "df_costs = pd.read_csv('https://code.s3.yandex.net/datasets/costs.csv', dtype=dtype\n",
    "                , parse_dates=['dt'], date_format='%Y-%m-%d')\n",
    "df_costs.rename(columns={'dt': 'promo_date', 'costs': 'promo_costs'}, inplace=True)\n",
    "df_costs.sample(5, random_state=7)"
   ]
  },
  {
   "cell_type": "code",
   "execution_count": 105,
   "metadata": {},
   "outputs": [
    {
     "data": {
      "text/html": [
       "<style type=\"text/css\">\n",
       "#T_7d683 caption {\n",
       "  font-size: 18px;\n",
       "  text-align: left;\n",
       "  font-weight: bold;\n",
       "}\n",
       "#T_7d683_row0_col0, #T_7d683_row0_col1, #T_7d683_row0_col2, #T_7d683_row0_col3, #T_7d683_row0_col4 {\n",
       "  text-align: left;\n",
       "}\n",
       "</style>\n",
       "<table id=\"T_7d683\">\n",
       "  <caption>DataFrame</caption>\n",
       "  <thead>\n",
       "    <tr>\n",
       "      <th id=\"T_7d683_level0_col0\" class=\"col_heading level0 col0\" >Rows</th>\n",
       "      <th id=\"T_7d683_level0_col1\" class=\"col_heading level0 col1\" >Features</th>\n",
       "      <th id=\"T_7d683_level0_col2\" class=\"col_heading level0 col2\" >RAM (Mb)</th>\n",
       "      <th id=\"T_7d683_level0_col3\" class=\"col_heading level0 col3\" >Duplicates</th>\n",
       "      <th id=\"T_7d683_level0_col4\" class=\"col_heading level0 col4\" >Dupl (sub - origin)</th>\n",
       "    </tr>\n",
       "  </thead>\n",
       "  <tbody>\n",
       "    <tr>\n",
       "      <td id=\"T_7d683_row0_col0\" class=\"data row0 col0\" >2 542</td>\n",
       "      <td id=\"T_7d683_row0_col1\" class=\"data row0 col1\" >3</td>\n",
       "      <td id=\"T_7d683_row0_col2\" class=\"data row0 col2\" >0</td>\n",
       "      <td id=\"T_7d683_row0_col3\" class=\"data row0 col3\" >---</td>\n",
       "      <td id=\"T_7d683_row0_col4\" class=\"data row0 col4\" >---</td>\n",
       "    </tr>\n",
       "  </tbody>\n",
       "</table>\n"
      ],
      "text/plain": [
       "<pandas.io.formats.style.Styler at 0x752d0f278200>"
      ]
     },
     "execution_count": 105,
     "metadata": {},
     "output_type": "execute_result"
    }
   ],
   "source": [
    "gen = pagri_data_tools.info_gen(df_costs)\n",
    "gen.next()"
   ]
  },
  {
   "cell_type": "code",
   "execution_count": 106,
   "metadata": {},
   "outputs": [
    {
     "data": {
      "text/html": [
       "\n",
       "            <div style=\"display: flex; justify-content: flex-start; align-items: flex-end;\">\n",
       "                <style type=\"text/css\">\n",
       "#T_f6bac caption {\n",
       "  font-size: 16px;\n",
       "  text-align: left;\n",
       "  font-weight: bold;\n",
       "}\n",
       "#T_f6bac_row0_col0, #T_f6bac_row0_col1, #T_f6bac_row0_col2, #T_f6bac_row0_col3, #T_f6bac_row0_col4, #T_f6bac_row0_col5, #T_f6bac_row0_col6, #T_f6bac_row0_col7, #T_f6bac_row0_col8, #T_f6bac_row1_col0, #T_f6bac_row1_col1, #T_f6bac_row1_col2, #T_f6bac_row1_col3, #T_f6bac_row1_col4, #T_f6bac_row1_col5, #T_f6bac_row1_col6, #T_f6bac_row1_col7, #T_f6bac_row1_col8, #T_f6bac_row2_col0, #T_f6bac_row2_col1, #T_f6bac_row2_col2, #T_f6bac_row2_col3, #T_f6bac_row2_col4, #T_f6bac_row2_col5, #T_f6bac_row2_col6, #T_f6bac_row2_col7, #T_f6bac_row2_col8, #T_f6bac_row3_col0, #T_f6bac_row3_col1, #T_f6bac_row3_col2, #T_f6bac_row3_col3, #T_f6bac_row3_col4, #T_f6bac_row3_col5, #T_f6bac_row3_col6, #T_f6bac_row3_col7, #T_f6bac_row3_col8 {\n",
       "  text-align: left;\n",
       "}\n",
       "</style>\n",
       "<table id=\"T_f6bac\">\n",
       "  <caption>Статистика столбца \"promo_date\"</caption>\n",
       "  <thead>\n",
       "  </thead>\n",
       "  <tbody>\n",
       "    <tr>\n",
       "      <td id=\"T_f6bac_row0_col0\" class=\"data row0 col0\" >First date</td>\n",
       "      <td id=\"T_f6bac_row0_col1\" class=\"data row0 col1\" >2017-06-01 00:00:00</td>\n",
       "      <td id=\"T_f6bac_row0_col2\" class=\"data row0 col2\" >                              </td>\n",
       "      <td id=\"T_f6bac_row0_col3\" class=\"data row0 col3\" >Zeros</td>\n",
       "      <td id=\"T_f6bac_row0_col4\" class=\"data row0 col4\" >---</td>\n",
       "      <td id=\"T_f6bac_row0_col5\" class=\"data row0 col5\" >                              </td>\n",
       "      <td id=\"T_f6bac_row0_col6\" class=\"data row0 col6\" >Years missing</td>\n",
       "      <td id=\"T_f6bac_row0_col7\" class=\"data row0 col7\" >0%</td>\n",
       "      <td id=\"T_f6bac_row0_col8\" class=\"data row0 col8\" >                              </td>\n",
       "    </tr>\n",
       "    <tr>\n",
       "      <td id=\"T_f6bac_row1_col0\" class=\"data row1 col0\" >Last date</td>\n",
       "      <td id=\"T_f6bac_row1_col1\" class=\"data row1 col1\" >2018-05-31 00:00:00</td>\n",
       "      <td id=\"T_f6bac_row1_col2\" class=\"data row1 col2\" >                              </td>\n",
       "      <td id=\"T_f6bac_row1_col3\" class=\"data row1 col3\" >Missing</td>\n",
       "      <td id=\"T_f6bac_row1_col4\" class=\"data row1 col4\" >---</td>\n",
       "      <td id=\"T_f6bac_row1_col5\" class=\"data row1 col5\" >                              </td>\n",
       "      <td id=\"T_f6bac_row1_col6\" class=\"data row1 col6\" >Months missing</td>\n",
       "      <td id=\"T_f6bac_row1_col7\" class=\"data row1 col7\" >0%</td>\n",
       "      <td id=\"T_f6bac_row1_col8\" class=\"data row1 col8\" >                              </td>\n",
       "    </tr>\n",
       "    <tr>\n",
       "      <td id=\"T_f6bac_row2_col0\" class=\"data row2 col0\" >Values</td>\n",
       "      <td id=\"T_f6bac_row2_col1\" class=\"data row2 col1\" >2 542 (100%)</td>\n",
       "      <td id=\"T_f6bac_row2_col2\" class=\"data row2 col2\" >                              </td>\n",
       "      <td id=\"T_f6bac_row2_col3\" class=\"data row2 col3\" >Distinct</td>\n",
       "      <td id=\"T_f6bac_row2_col4\" class=\"data row2 col4\" >364 (14%)</td>\n",
       "      <td id=\"T_f6bac_row2_col5\" class=\"data row2 col5\" >                              </td>\n",
       "      <td id=\"T_f6bac_row2_col6\" class=\"data row2 col6\" >Weeks missing</td>\n",
       "      <td id=\"T_f6bac_row2_col7\" class=\"data row2 col7\" >0%</td>\n",
       "      <td id=\"T_f6bac_row2_col8\" class=\"data row2 col8\" >                              </td>\n",
       "    </tr>\n",
       "    <tr>\n",
       "      <td id=\"T_f6bac_row3_col0\" class=\"data row3 col0\" >RAM (Mb)</td>\n",
       "      <td id=\"T_f6bac_row3_col1\" class=\"data row3 col1\" ><1 Mb</td>\n",
       "      <td id=\"T_f6bac_row3_col2\" class=\"data row3 col2\" >                              </td>\n",
       "      <td id=\"T_f6bac_row3_col3\" class=\"data row3 col3\" >Duplicates</td>\n",
       "      <td id=\"T_f6bac_row3_col4\" class=\"data row3 col4\" >2 178 (86%)</td>\n",
       "      <td id=\"T_f6bac_row3_col5\" class=\"data row3 col5\" >                              </td>\n",
       "      <td id=\"T_f6bac_row3_col6\" class=\"data row3 col6\" >Days missing</td>\n",
       "      <td id=\"T_f6bac_row3_col7\" class=\"data row3 col7\" ><1%</td>\n",
       "      <td id=\"T_f6bac_row3_col8\" class=\"data row3 col8\" >                              </td>\n",
       "    </tr>\n",
       "  </tbody>\n",
       "</table>\n",
       "\n",
       "            </div>\n",
       "            "
      ],
      "text/plain": [
       "<IPython.core.display.HTML object>"
      ]
     },
     "metadata": {},
     "output_type": "display_data"
    }
   ],
   "source": [
    "gen.next()"
   ]
  },
  {
   "cell_type": "markdown",
   "metadata": {},
   "source": [
    "**Наблюдения:**  \n",
    "\n",
    "- В таблице с расходами на рекламные компании есть попущенные дни, но их мало (меньше 1%)\n"
   ]
  },
  {
   "cell_type": "code",
   "execution_count": 107,
   "metadata": {},
   "outputs": [
    {
     "data": {
      "text/html": [
       "\n",
       "            <div style=\"display: flex; justify-content: flex-start; align-items: flex-end;\">\n",
       "                <style type=\"text/css\">\n",
       "#T_aa28b caption {\n",
       "  font-size: 16px;\n",
       "  text-align: left;\n",
       "  font-weight: bold;\n",
       "}\n",
       "#T_aa28b_row0_col0, #T_aa28b_row0_col1, #T_aa28b_row0_col2, #T_aa28b_row0_col3, #T_aa28b_row0_col4, #T_aa28b_row0_col5, #T_aa28b_row0_col6, #T_aa28b_row0_col7, #T_aa28b_row0_col8, #T_aa28b_row0_col9, #T_aa28b_row1_col0, #T_aa28b_row1_col1, #T_aa28b_row1_col2, #T_aa28b_row1_col3, #T_aa28b_row1_col4, #T_aa28b_row1_col5, #T_aa28b_row1_col6, #T_aa28b_row1_col7, #T_aa28b_row1_col8, #T_aa28b_row1_col9, #T_aa28b_row2_col0, #T_aa28b_row2_col1, #T_aa28b_row2_col2, #T_aa28b_row2_col3, #T_aa28b_row2_col4, #T_aa28b_row2_col5, #T_aa28b_row2_col6, #T_aa28b_row2_col7, #T_aa28b_row2_col8, #T_aa28b_row2_col9, #T_aa28b_row3_col0, #T_aa28b_row3_col1, #T_aa28b_row3_col2, #T_aa28b_row3_col3, #T_aa28b_row3_col4, #T_aa28b_row3_col5, #T_aa28b_row3_col6, #T_aa28b_row3_col7, #T_aa28b_row3_col8, #T_aa28b_row3_col9, #T_aa28b_row4_col0, #T_aa28b_row4_col1, #T_aa28b_row4_col2, #T_aa28b_row4_col3, #T_aa28b_row4_col4, #T_aa28b_row4_col5, #T_aa28b_row4_col6, #T_aa28b_row4_col7, #T_aa28b_row4_col8, #T_aa28b_row4_col9, #T_aa28b_row5_col0, #T_aa28b_row5_col1, #T_aa28b_row5_col2, #T_aa28b_row5_col3, #T_aa28b_row5_col4, #T_aa28b_row5_col5, #T_aa28b_row5_col6, #T_aa28b_row5_col7, #T_aa28b_row5_col8, #T_aa28b_row5_col9, #T_aa28b_row6_col0, #T_aa28b_row6_col1, #T_aa28b_row6_col2, #T_aa28b_row6_col3, #T_aa28b_row6_col4, #T_aa28b_row6_col5, #T_aa28b_row6_col6, #T_aa28b_row6_col7, #T_aa28b_row6_col8, #T_aa28b_row6_col9 {\n",
       "  text-align: left;\n",
       "}\n",
       "</style>\n",
       "<table id=\"T_aa28b\">\n",
       "  <caption>Статистика и гистограмма столбца \"promo_costs\"</caption>\n",
       "  <thead>\n",
       "  </thead>\n",
       "  <tbody>\n",
       "    <tr>\n",
       "      <td id=\"T_aa28b_row0_col0\" class=\"data row0 col0\" >Values</td>\n",
       "      <td id=\"T_aa28b_row0_col1\" class=\"data row0 col1\" >2 542 (100%)</td>\n",
       "      <td id=\"T_aa28b_row0_col2\" class=\"data row0 col2\" >                              </td>\n",
       "      <td id=\"T_aa28b_row0_col3\" class=\"data row0 col3\" >Max</td>\n",
       "      <td id=\"T_aa28b_row0_col4\" class=\"data row0 col4\" >1 788.28</td>\n",
       "      <td id=\"T_aa28b_row0_col5\" class=\"data row0 col5\" >                              </td>\n",
       "      <td id=\"T_aa28b_row0_col6\" class=\"data row0 col6\" >Avg</td>\n",
       "      <td id=\"T_aa28b_row0_col7\" class=\"data row0 col7\" >129.48</td>\n",
       "      <td id=\"T_aa28b_row0_col8\" class=\"data row0 col8\" >                              </td>\n",
       "      <td id=\"T_aa28b_row0_col9\" class=\"data row0 col9\" >16.25 <1%</td>\n",
       "    </tr>\n",
       "    <tr>\n",
       "      <td id=\"T_aa28b_row1_col0\" class=\"data row1 col0\" >Missing</td>\n",
       "      <td id=\"T_aa28b_row1_col1\" class=\"data row1 col1\" >---</td>\n",
       "      <td id=\"T_aa28b_row1_col2\" class=\"data row1 col2\" >                              </td>\n",
       "      <td id=\"T_aa28b_row1_col3\" class=\"data row1 col3\" >95%</td>\n",
       "      <td id=\"T_aa28b_row1_col4\" class=\"data row1 col4\" >470.72</td>\n",
       "      <td id=\"T_aa28b_row1_col5\" class=\"data row1 col5\" >                              </td>\n",
       "      <td id=\"T_aa28b_row1_col6\" class=\"data row1 col6\" >Mode</td>\n",
       "      <td id=\"T_aa28b_row1_col7\" class=\"data row1 col7\" >---</td>\n",
       "      <td id=\"T_aa28b_row1_col8\" class=\"data row1 col8\" >                              </td>\n",
       "      <td id=\"T_aa28b_row1_col9\" class=\"data row1 col9\" >16.81 <1%</td>\n",
       "    </tr>\n",
       "    <tr>\n",
       "      <td id=\"T_aa28b_row2_col0\" class=\"data row2 col0\" >Distinct</td>\n",
       "      <td id=\"T_aa28b_row2_col1\" class=\"data row2 col1\" >2 396 (94%)</td>\n",
       "      <td id=\"T_aa28b_row2_col2\" class=\"data row2 col2\" >                              </td>\n",
       "      <td id=\"T_aa28b_row2_col3\" class=\"data row2 col3\" >75%</td>\n",
       "      <td id=\"T_aa28b_row2_col4\" class=\"data row2 col4\" >170.06</td>\n",
       "      <td id=\"T_aa28b_row2_col5\" class=\"data row2 col5\" >                              </td>\n",
       "      <td id=\"T_aa28b_row2_col6\" class=\"data row2 col6\" >Range</td>\n",
       "      <td id=\"T_aa28b_row2_col7\" class=\"data row2 col7\" >1 787.74</td>\n",
       "      <td id=\"T_aa28b_row2_col8\" class=\"data row2 col8\" >                              </td>\n",
       "      <td id=\"T_aa28b_row2_col9\" class=\"data row2 col9\" >57.07 <1%</td>\n",
       "    </tr>\n",
       "    <tr>\n",
       "      <td id=\"T_aa28b_row3_col0\" class=\"data row3 col0\" >Duplicates</td>\n",
       "      <td id=\"T_aa28b_row3_col1\" class=\"data row3 col1\" >146 (6%)</td>\n",
       "      <td id=\"T_aa28b_row3_col2\" class=\"data row3 col2\" >                              </td>\n",
       "      <td id=\"T_aa28b_row3_col3\" class=\"data row3 col3\" >Median</td>\n",
       "      <td id=\"T_aa28b_row3_col4\" class=\"data row3 col4\" >77.3</td>\n",
       "      <td id=\"T_aa28b_row3_col5\" class=\"data row3 col5\" >                              </td>\n",
       "      <td id=\"T_aa28b_row3_col6\" class=\"data row3 col6\" >iQR</td>\n",
       "      <td id=\"T_aa28b_row3_col7\" class=\"data row3 col7\" >148.12</td>\n",
       "      <td id=\"T_aa28b_row3_col8\" class=\"data row3 col8\" >                              </td>\n",
       "      <td id=\"T_aa28b_row3_col9\" class=\"data row3 col9\" >18.37 <1%</td>\n",
       "    </tr>\n",
       "    <tr>\n",
       "      <td id=\"T_aa28b_row4_col0\" class=\"data row4 col0\" >Zeros</td>\n",
       "      <td id=\"T_aa28b_row4_col1\" class=\"data row4 col1\" >---</td>\n",
       "      <td id=\"T_aa28b_row4_col2\" class=\"data row4 col2\" >                              </td>\n",
       "      <td id=\"T_aa28b_row4_col3\" class=\"data row4 col3\" >25%</td>\n",
       "      <td id=\"T_aa28b_row4_col4\" class=\"data row4 col4\" >21.95</td>\n",
       "      <td id=\"T_aa28b_row4_col5\" class=\"data row4 col5\" >                              </td>\n",
       "      <td id=\"T_aa28b_row4_col6\" class=\"data row4 col6\" >std</td>\n",
       "      <td id=\"T_aa28b_row4_col7\" class=\"data row4 col7\" >156.3</td>\n",
       "      <td id=\"T_aa28b_row4_col8\" class=\"data row4 col8\" >                              </td>\n",
       "      <td id=\"T_aa28b_row4_col9\" class=\"data row4 col9\" >6.35 <1%</td>\n",
       "    </tr>\n",
       "    <tr>\n",
       "      <td id=\"T_aa28b_row5_col0\" class=\"data row5 col0\" >Negative</td>\n",
       "      <td id=\"T_aa28b_row5_col1\" class=\"data row5 col1\" >---</td>\n",
       "      <td id=\"T_aa28b_row5_col2\" class=\"data row5 col2\" >                              </td>\n",
       "      <td id=\"T_aa28b_row5_col3\" class=\"data row5 col3\" >5%</td>\n",
       "      <td id=\"T_aa28b_row5_col4\" class=\"data row5 col4\" >7.39</td>\n",
       "      <td id=\"T_aa28b_row5_col5\" class=\"data row5 col5\" >                              </td>\n",
       "      <td id=\"T_aa28b_row5_col6\" class=\"data row5 col6\" >kurt</td>\n",
       "      <td id=\"T_aa28b_row5_col7\" class=\"data row5 col7\" >9.71</td>\n",
       "      <td id=\"T_aa28b_row5_col8\" class=\"data row5 col8\" >                              </td>\n",
       "      <td id=\"T_aa28b_row5_col9\" class=\"data row5 col9\" >10.32 <1%</td>\n",
       "    </tr>\n",
       "    <tr>\n",
       "      <td id=\"T_aa28b_row6_col0\" class=\"data row6 col0\" >RAM (Mb)</td>\n",
       "      <td id=\"T_aa28b_row6_col1\" class=\"data row6 col1\" ><1 Mb</td>\n",
       "      <td id=\"T_aa28b_row6_col2\" class=\"data row6 col2\" >                              </td>\n",
       "      <td id=\"T_aa28b_row6_col3\" class=\"data row6 col3\" >Min</td>\n",
       "      <td id=\"T_aa28b_row6_col4\" class=\"data row6 col4\" >0.54</td>\n",
       "      <td id=\"T_aa28b_row6_col5\" class=\"data row6 col5\" >                              </td>\n",
       "      <td id=\"T_aa28b_row6_col6\" class=\"data row6 col6\" >skew</td>\n",
       "      <td id=\"T_aa28b_row6_col7\" class=\"data row6 col7\" >2.49</td>\n",
       "      <td id=\"T_aa28b_row6_col8\" class=\"data row6 col8\" >                              </td>\n",
       "      <td id=\"T_aa28b_row6_col9\" class=\"data row6 col9\" >23.74 <1%</td>\n",
       "    </tr>\n",
       "  </tbody>\n",
       "</table>\n",
       "\n",
       "                <div>\n",
       "                    <img src=\"data:image/png;base64,iVBORw0KGgoAAAANSUhEUgAAASwAAADcCAYAAADKmJzYAAAbCUlEQVR4Xu2dC1BUV5rH/7ebphsVfJCoUUmNmokzQeOOiSRxo1HjZJPZJOuOEofJowo0sBVTlXUSKhtDEmappCDE2WxtIOCkksxCJREEw25Su6sgQioPQ0i5IpPoDGLE2ahAVBB59WPrnKZb5dF9gYa+p/nfKkqF757+zu87/eOcc29fNZfL5QIPEiABElCAgEZhKVAlpkgCJCAJUFgcCCRAAsoQoLCUKRUTJQESoLA4BkiABJQhQGEpUyomSgIkQGFxDJAACShDwDDC6rrYi+YTbQEBZ50UhpkLpgakLTZCAiRgHAKGEVZTXQuK0j6H0znwtjBNAzRNG/Rn/VGK2Jgl12DTyyuMQ5mZkAAJBISAoYT1wfbP4HK6MGma9arOXWzthCnMhDCLCeGTLEN23GF3oLOtF/OXzaSwAjI82AgJGIuA4YQVERWOxXfHXEXp8w+OwWTWMP/WmZg5f+ilXtuZS/hj9V/GXFjFaZ/im09OwdHtgt0JOJ2A2Xw5ZTHLcznFXW7iZxo0zYWwMHecJr4t5BuuyZjeTgdMZsCkabBMsmDqNTZ0tPWgt9sBe7cDmgnQTBrEBxLMZhOuXTAVKx+5Cee/78Dh8u/Q8l0b7D1OhIWbYI0Ig8VmxvU3z0T4pDB8U30K3Rd7YLaYEWY1w2zWYJsSDhdcMJlMsn3xiyDy2gg47U5Mv24yFsbNxrzYaEydNUnXSD17/AJO1bdCLOnFL5tZN0yT59umXP7FcuHMJRnT3dErf8blui60QwaJ1UhTfat8L/RnPbqWjX920IV1pOIk/lh5ClHXTkJd+UkMJqwjFU1ob+5E7Jp5iPLxRhoPYWWs3g17r0suTzU43RIyuQstPuRkEvaBExpcsDuAMCkcExwOl/zTpDllnMvltpoQBjyrYCE4h1MKShONykAnXJo4T6yLxbdccDnF34UR3Utl+briZ1KHkK9lljlJNck8xZ/i37KdvhcUq2/5z752xJ/iF8P0uVPwd/90q1xa+zpq/+M4Drxdj+6LvbD3um0sRDVpqhVb8u+WfxdvrrLMr6SsPMfqpFjc8uAC4787DJjhh698iYYvz3gzi5oZgUd/d9dVvyAMmHbAUgq6sD774Bg+/+AoBPjz318KiLCiY6Ygdu3Vs7RAEOts70H1O/Xut3vfm93p0mCStugzV99HM917bm6pmE1CGW4zCG04xOlOJ0xms1s0boP1yccFzaXBJX3l/t6VQhGGdJlMcPWJTRhHEwn1iUe+ojjP8xFRj5H6AIg23fLT4PT8vR8cW2Q4Ft15HdZvj/OJ7Y1f/zcutXWjq/2yjMwWk3zz3PGrRVjxqxvR/w3mafDpDx8IREkmVBtyn/eFzwf0eSL9AjCMsEQVnA5XQIRlsV6xPgvgkO680AVHtwNOMasRMyyTexbk+fy4JtaFTqEjTf5MSMntNhFrdkvF0bdWhFtwYiYm5aZpMLlcbrEJkQjJCREJ+YgZl0c44nU10Yx7iShmeiZhT5FL3yxP+kvkJWdOUncQEzq5HJVTQo+w5E+8UvSgEsvJBbfO8rsPuGP9f8LR60DXRbuXsjnMBFukBQvjZknh7Xr+M7kc7H9sLbx3wswKAjUExWrkf/7tfwc05/nlEKjXMXI7hhFW1LUROH86QDOseVMQe/f1Aefe1tKJL97/1r0cdK/BpGCkCPoE5J5pie/1zbA0DWax1BNRQjxihiTkLEQjloh9+1NurXj2vtzTNzFJcs+wrpDKVTMst/C867q+xZ6cmfXNsMRy0htzxUzucvsDMYkZ0o90XLiQwrI7r55h9QnL8yYaSlicYQ1/eA41w6Kwhs9yxGd4loRi8/Dk4ZaAzLDG8irhb1cVwS5WQGId5hLLMbHHJPac+vawNDHfEcsul5wxCg2JfSGxPBT7UiJOLhWFkMRek0UIBRBLS7E5756t9U2HhIukbjzLOPcUyj3z6pNZ33rQIyUhQtF+mJjhiTDhSTlzu7yH5V4Kitd0b/Z717d9M7LJM2x4KOMOv3tYlW8dwdcfNaKzraevr5f3sB79l1Vy436wN9my++djzZbFIx4zE/nEf99WhebGy/crWidZsGWne79wIhxBn2F5IIuBLW5rGGzT/cvSP8s3xAKDXCX83foy/HCmy/2Ol0tZwBzmFpacKfUtB4ULeh1ut4VZPNtcbnF4nOSwu+TtGn0LR4gB6HSIK4TujXuxOS/mZGKmJZaAk2dYsXjNPDkbPfXND+ho7oDTZIZJyMeiIcwahulzJ0tJNje2o6fL7r4KaRJ7bSZoZg3hERbYu3q9e/3hNgsio20Is5nwk5Xz5MUNvVcJ3VesfsDpP53DtNmTIfa/+p8vrhLWV56SbGJiZ/gV4UR4442mj2Jp2NbcBXGDtNirnSiyku8tozwPyyMsMcOY3O8+rPYW931YckN38tC/ScTlfbExPpYzrNEMNJ5LAiQwOgKGEhbvdB9dMXk2CYQ6AcMIS36WsPFCQHhbJ1t4c2JASLIREjAWAcMIy1hYmA0JkIARCVBYRqwKcyIBEhiUAIXFgUECJKAMgQHC2rlzJ5qampCRkSE7UV5ejsrKSkRHR6O1tRVpaWmIiIjw2cHXXnsNzzzzjDIQmCgJkIAaBK4S1oEDB/Duu+8iJiZGCqu9vR0JCQkoKSmB1WpFfn6+vB8oOTnZZ+/S09MhvniQAAmQQCAJeIXV0NCAiooKOXs6duyYFNbevXtRVlaGnJwc+Zq1tbXIzMxEcXGxN4cTJ04MyEdIj8IKZJnYFgmQgCAghXXhwgW8+eabSE1NxXvvvecVVkFBAerr66WkxCGklpiYiOrqai89Iaf+h5AYhcUBRgIkEGgCmt1ud2VnZ+OJJ55AVFQUhKQ8M6zCwkLU1dUhKyvLK6ykpCRUVVVxSRjoSrA9EiABvwS0Q4cOuZ599llYLO6PvHR0dKC3txfLly/HfffdJ/ev8vLy5M9qamog5FZUVERh+UXLABIggUATGHCV8MoZlpBXfHw8SktLYbPZkJubC7PZjJSUFAor0JVgeyRAAn4J+BSWOFtsxIsvceVQ3NYg9rnEFUNfB68S+uXOABIggREQGJMbR4cSlniUbvely4/T9ZWveDRL1Ex9/xHCCPrNU0iABBQkMK7Caj7Rjo9e+wq9XeIxwr6P6xZNx988uRThEWH+QvlzEiCBCUJgXIV1trENu7Z/ip7Oy88AH4pzzOJorH8+jsKaIAOR3SQBPQQoLD2UGEMCJGAIAhSWIcrAJEiABPQQoLD0UGIMCZCAIQhQWIYoA5MgARLQQ4DC0kOJMSRAAoYgQGEZogxMggRIQA8BCksPJcaQAAkYggCFZYgyMAkSIAE9BCgsPZQYQwIkYAgCFJYhysAkSIAE9BCgsPRQYgwJkIAhCFBYhigDkyABEtBDgMLSQ4kxJEAChiBAYRmiDEyCBEhADwEKSw8lxpAACRiCAIVliDIwCRIgAT0EKCw9lBhDAiRgCAIUliHKwCRIgAT0EKCw9FBiDAmQgCEIUFiGKAOTIAES0EOAwtJDiTEkQAKGIEBhGaIMTIIESEAPAQpLDyXGkAAJGIIAhWWIMjAJEiABPQQMLay/T7sNFptZTz8YQwIkMAEIGFZYS9Zdj/nLZ6KjtVtXGebeNAPX/ihKVyyDSIAE1CRgWGEte2A+ejsdqCs/qYvsppdXYF5stK5YBpEACahJgMJSs27MmgQmJAEKa0KWnZ0mATUJUFhq1o1Zk8CEJEBhTciys9MkoCYBKazf//73aGlpwZQpU3D8+HGsWLEC8fHxskfl5eWorKxEdHQ0WltbkZaWhoiICJ+9TU9Ph/jqf5xtbMOu7Z+ip9PulxY33f0iYgAJTDgCUlj79+/H2rVrZeebmpqwYcMGVFVVwW63IyEhASUlJbBarcjPz4emaUhOTqawJtxQYYdJIPgEBiwJDx06hBdffBEffvihnF2VlZUhJydHZlpbW4vMzEwUFxd7M+/q6hrQCxHDGVbwi8sMSCDUCHiFdfjwYezZsweNjY3Ytm0bli5dioKCAtTX10tJiaOhoQGJiYmorq72cvD87EowQmIUVqgNFfaHBIJPYMAM69y5c3j00UexY8cO1NTUoK6uDllZWV5hJSUlyeWir4N7WMEvLDMggVAkIIXlcDhgNl/+zN5TTz2FW2+9FbNnz5b7V3l5ebLvQmDZ2dkoKiqisEJxNLBPJGBwAlJYb7zxBp588kmZqpCX2HR/7rnnsHjxYnm1sLS0FDabDbm5uVJsKSkpFJbBC8v0SCAUCUhhvfTSS/JWhcjISHz//fdYsmQJNm3aJPtbUVEhv2JiYuRtDampqfKKIZeEoTgc2CcSMDYB3jhq7PowOxIggSsIUFgcDiRAAsoQoLCUKRUTJQESoLA4BkiABJQhQGEpUyomSgIkQGFxDJAACShDgMJSplRMlARIgMLiGCABElCGAIWlTKmYKAmQAIXFMUACJKAMAQpLmVIxURIgAQqLY4AESEAZAhSWMqVioiRAAhQWxwAJkIAyBCgsZUrFREmABCgsjgESIAFlCFBYypSKiZIACVBYHAMkQALKEKCwlCkVEyUBEqCwOAZIgASUIUBhKVMqJkoCJEBhcQyQAAkoQ4DCUqZUTJQESIDC4hggARJQhgCFpUypmCgJkACFxTFAAiSgDAEKS5lSMVESIAEKi2OABEhAGQIUljKlYqIkQAIUFscACZCAMgQoLGVKxURJgAQoLI4BEiABZQhQWMqUiomSAAlQWBwDJEACyhCQwsrPz0dLSwsiIyNx/PhxrF+/HqtXr5adKC8vR2VlJaKjo9Ha2oq0tDRERET47GB6ejrEV//jbGMbdm3/FD2ddr+Alj0wH72dDtSVn/QbKwI2vbwC82KjdcUyiARIQE0CUlglJSXYsGGD7ME333yDLVu2SEl1d3cjISEB4udWqxVCbJqmITk5mcJSs97MmgSUJjBgSfjdd99h48aNqKiowBdffIGysjLk5OTITtbW1iIzMxPFxcUUltJlZ/IkoCaBAcL6+OOPsW/fPrz++usoKChAfX29lJQ4GhoakJiYiOrqam9vRVz/4/z581wSqjkemDUJGJrAVcIS+1gZGRlSNtOnT0dhYSHq6uqQlZXlFVZSUhKqqqq8nRJy6n8IiXEPy9B1Z3IkoCQBr7BOnDiB999/H1u3bkVUVJTsjJhpif2rvLw8+e+amhpkZ2ejqKiIS0Ily82kSUBtAlJYYq/q8OHD2Lx5M8xms7dHHR0diI+PR2lpKWw2G3Jzc+XPU1JSKCy1687sSUBJAlJY99xzDzo7O6/qwI4dOxAXFyc338VXTEyMvK0hNTVVXjH0dfC2BiXHApMmAcMT4I2jhi8REyQBEvAQoLA4FkiABJQhQGEpUyomSgIkQGFxDJAACShDgMJSplRMlARIgMLiGCABElCGAIWlTKmYKAmQAIXFMUACJKAMAQpLmVIxURIgAQqLY4AESEAZAhSWMqVioiRAAhQWxwAJkIAyBCgsZUrFREmABCgsjgESIAFlCFBYypSKiZIACVBYHAMkQALKEAgZYf3qlRWYexP/X0JlRh4TJYEREAgZYSVk3Ql7jwNw+adgsZpx3aLp/gMZQQIkYCgCISOs+Iw7UPrbg3DYnX4Bz182E7988Ta/cQwgARIwFgEKy1j1YDYkQAI+CFBYHB4kQALKEKCwlCkVEyUBEqCwOAZIgASUIUBhKVMqJkoCJEBhcQyQAAkoQ4DCUqZUTJQESIDC4hggARJQhgCFpUypmCgJkACFxTFAAiSgDAEKS5lSMVESIAEKi2OABEhAGQIUljKlYqIkQAIUFscACZCAMgQoLGVKxURJgAS8wmpqakJeXh4WLlyIpKQkL5ny8nJUVlYiOjoara2tSEtLQ0REhE9y6enpEF/9j7ONbdi1/VP0dNr9kl/2wHz0djpQV37Sb6wI4POwdGFiEAkoTUAK68yZMzhy5Aj279+PBQsWYPPmzbJT7e3tSEhIQElJCaxWK/Lz86FpGpKTkykspcvO5ElATQJXLQkzMjIwZ84cr7D27t2LsrIy5OTkyN7V1tYiMzMTxcXFFJaa9WbWJKA0AZ/CKigoQH19vZSUOBoaGpCYmIjq6mpvp997770BAI4dO8YlodLDgsmTgDEJ+BRWYWEh6urqkJWV5RWW2N+qqqry9kbIqf8hJMY9LGMWnFmRgMoEfApr3759cv9KbMaLo6amBtnZ2SgqKuKSUOWqM3cSUJSAT2F1dHQgPj4epaWlsNlsyM3NhdlsRkpKCoWlaMGZNgmoTEAK6/Tp0zh48CD27NmDqVOnYt26dVi1apX8e0VFhfyKiYmRtzWkpqbKK4a+Dt7WoPKQYO4kYFwCvHHUuLVhZiRAAv0IUFgcEiRAAsoQoLCUKRUTJQESoLA4BkiABJQhQGEpUyomSgIkQGFxDJAACShDgMJSplRMlARIgMLiGCABElCGAIWlTKmYKAmQAIXFMUACJKAMAQpLmVIxURIgAQqLY4AESEAZAhSWMqVioiRAAhQWxwAJkIAyBCgsZUrFREmABCaksG5aPQ9xG26Aw+7UNQIiIsMReY3v/9pMV0MMIgESGBWBCSms2x/6MdqaO/Hng6d1wXvon1dg1g1TdcUyiARIYOwITFhh/XDqIo599r0usg+/thKzb5imK5ZBJEACY0eAwtLBlsLSAYkhJDAOBCgsHZApLB2QGEIC40CAwtIBmcLSAYkhJDAOBCgsHZApLB2QGEIC40CAwtIB+ZEdqzBrIa8S6kDFEBIYUwIUlg68D792JzrbenVEAuERYZj70xm6YhlEAiQwPAIUlg5em15egV3Pf6YjEli4fBbWPx+nK5ZBJEACwyNAYengRWHpgMQQEhgHAhSWDsgUlg5IDCGBcSBAYemATGHpgMQQEhgHAhSWDsjDEdaKhEUwh2loPtHut2VNA27b+GNEXx/pN5YBJEACAIWlYxQMR1h//etF+L+j59BYe9Zvy5pJw8PZK3nLhF9SDCABNwEKS8dIoLB0QGIICYwDAQpLB+SxFNavX12JcJtZRxaAmJFNnzNZVyyDSCAUCVBYOqo6VsIyhZmw8aXb8F//ekhHFsCPb5+NNVsW64plEAmEIgEKS0dVx1JYv0yLw+70L3RkAYgnpd73jz/TFcsgEghFAhSWjqoaRVixa2Jw71N/pSNjd0h7Syd6uxy64k1mDdOu43JTFywGBY2AX2GVl5ejsrIS0dHRaG1tRVpaGiIifD/fPD09HeKr/3G2sQ27tn+Knk673w4ve2A+ejsdqCs/6TdWBMRn3IHS3x7U9Zx28Yjk4Txx1CjCWvnYTzEpKhwXf+j2y8RiNWNGTCT2vqFvuRm7NgZ3PvITv+0ygASCScCnsNrb25GQkICSkhJYrVbk5+dD0zQkJyf7zJnC0ndbg9jDGs6ScHVSLI5/dQYnD7f4HTNTZtiw7h9uxoevfOk3VgT87G/nY+3j3B/TBYtBQSPgU1h79+5FWVkZcnJyZIK1tbXIzMxEcXGxN+EDBw4MSF58b7AZVmvTRXz+wVH09vhfptywfDZ6uuw4Wef/zSkSuOOhG/Hl7j/D4fT/P+H85M65aG++hL8cPacL/IpNi/DZrqO6Yn+6ai7O/aUDpxvO+403mTTE/fIGfLH7T35jRcDitTE4e/wCzp5o8xsfMcWC2Luvx1dlDX5jRcCiFXOwYPksXbEiqLfbAThduuJN4RrMZn1XQkWD4sZbiy1MV9sTJai7oxcufbihmQDrJEtIovEprIKCAtTX10tJiaOhoQGJiYmorq72K6yQpMVOkYCiBAabQKjYFZ/CKiwsRF1dHbKysrzCSkpKQlVVVcD6evbsWezevRtPPPFEwNo0YkNvvfUW7r33XsybN8+I6QUkp6+//hqnTp3Cgw8+GJD2jNrIUFseRs03lPLyKax9+/bJ/au8vDzZ55qaGmRnZ6OoqChgDCisgKEMekMUVtBLEPIJ+BRWR0cH4uPjUVpaCpvNhtzcXLkXkZKSEjAwFFbAUAa9IQor6CUI+QT83tZQUVEB8RUTEyNva0hNTZVXDAN1UFiBIhn8diis4Ncg1DPwK6yxBkBhjTXh8Wufwho/1hP1lYIurIkKnv0mARIYPgEKa/jMeAYJkECQCFBYQQLPlyUBEhg+AQpr+Mx4BgmQQJAIUFhBAs+XJQESGD4BCmv4zHgGCZBAkAhQWEECz5clARIYPgEKa/jMeAYJkECQCARVWCN5OGCQOPl92TVr1sBuv/xgwhdeeAH33HMPxMebxNMurrnmGvnB4Pvvvx933XWXbE+F/jscDnz00Ud4++235aOGPMdI+uXrHL+AxzigqalJfmZ24cKFEB/w9xyhWtcxxjlmzQdNWCN9OOCYkRhlwzt27MDTTz89oBXxLLHIyEg89thjuHjxovxspng6hdPpHNHDEUeZ5rBPF0/msFgs2LZtGw4ePOg9fyT9GuqcyZOD+2jmM2fO4MiRI9i/fz8WLFiAzZs3e/sZqnUd9kAwyAlBE5aehwMahJGuNIYa2Bs3boSYbS1dulS2Iz44Lr7ncrn8PhxR1wuPQ5B4Q4tHxlwprJH0a6hzfv7zn49DL/y/REZGBubMmaNLWCPpv/8MGOGPQNCEpefhgP6SN9LPf/Ob3yA2NhaXLl1CWFiYnD1NmzYNK1euxB/+8Af5m1sczz77LJYsWSKF5e/hiEbp32DCGkm/hjrnkUceMURXBxNWKNfVENCHmUTQhDUeDwccJouAhb/77rvy2WFiCbRq1Sq88847cm/EI6ybb75ZCmusH44YqA4NJqyR9Guocx5++OFApTqqdgYT1pUNhlpdRwUrSCcHTVjj8XDAIDHFt99+K/+jDvEoabFn9dxzz2HZsmUynccffxybNm2SwhrrhyMGqv+DCWsk/RrqnHXr1gUq1VG1409YoVbXUcEK0slBE9Z4PBxwvJiKpZ3oT1xcnHzJjz/+GHv27IF4LPKbb74pnx8mrjyJCw1i70M8EFEcY/1wxED1fzBhjaRfQ50T7E13D6f+wgr1ugZqfIxnO0ETlujkWD8ccLxAikvir776Km688UZ59e/06dPYunWrfH67ENkrr7yC2bNno7m5Gb/4xS9w++23y9RU6P8nn3yCo0ePYufOnXjmmWfk0vaWW24ZUb98sRivWg32OqJe4oKC+CUzdepUiBmfWL62tbWFbF2DyXs0rx1UYY0mcZ5LAiQw8QhQWBOv5uwxCShLgMJStnRMnAQmHoH/BzS19eTPD2deAAAAAElFTkSuQmCC\" alt=\"График\"/>\n",
       "                </div>\n",
       "                      \n",
       "            </div>\n",
       "            "
      ],
      "text/plain": [
       "<IPython.core.display.HTML object>"
      ]
     },
     "metadata": {},
     "output_type": "display_data"
    }
   ],
   "source": [
    "gen.next()"
   ]
  },
  {
   "cell_type": "markdown",
   "metadata": {},
   "source": [
    "**Наблюдения:**  \n",
    "\n",
    "- Расходы на рекламные компании варьируются от 0.54 до 1788.28 у.е.\n",
    "- В основном расходы на рекламу лежат в диапазоне от 21.95 до 170.06 у.е.\n",
    "- В расходах на рекламные компании значение 1788.28 у.е. является выбросом."
   ]
  },
  {
   "cell_type": "code",
   "execution_count": 108,
   "metadata": {},
   "outputs": [
    {
     "data": {
      "text/html": [
       "\n",
       "            <div style=\"display: flex; justify-content: flex-start; align-items: flex-end;\">\n",
       "                <style type=\"text/css\">\n",
       "#T_7c40b caption {\n",
       "  font-size: 16px;\n",
       "  text-align: left;\n",
       "  font-weight: bold;\n",
       "}\n",
       "#T_7c40b th {\n",
       "  min-width: 100px;\n",
       "}\n",
       "#T_7c40b  td {\n",
       "  min-width: 100px;\n",
       "}\n",
       "#T_7c40b_row0_col0, #T_7c40b_row0_col1, #T_7c40b_row0_col2, #T_7c40b_row0_col3, #T_7c40b_row1_col0, #T_7c40b_row1_col1, #T_7c40b_row1_col2, #T_7c40b_row1_col3, #T_7c40b_row2_col0, #T_7c40b_row2_col1, #T_7c40b_row2_col2, #T_7c40b_row2_col3, #T_7c40b_row3_col0, #T_7c40b_row3_col1, #T_7c40b_row3_col2, #T_7c40b_row3_col3, #T_7c40b_row4_col0, #T_7c40b_row4_col1, #T_7c40b_row4_col2, #T_7c40b_row4_col3, #T_7c40b_row5_col0, #T_7c40b_row5_col1, #T_7c40b_row5_col2, #T_7c40b_row5_col3, #T_7c40b_row6_col0, #T_7c40b_row6_col1, #T_7c40b_row6_col2, #T_7c40b_row6_col3 {\n",
       "  text-align: left;\n",
       "}\n",
       "</style>\n",
       "<table id=\"T_7c40b\">\n",
       "  <caption>Статистика и топ-10 значений столбца \"source_id\"</caption>\n",
       "  <thead>\n",
       "  </thead>\n",
       "  <tbody>\n",
       "    <tr>\n",
       "      <td id=\"T_7c40b_row0_col0\" class=\"data row0 col0\" >Values</td>\n",
       "      <td id=\"T_7c40b_row0_col1\" class=\"data row0 col1\" >2 542 (100%)</td>\n",
       "      <td id=\"T_7c40b_row0_col2\" class=\"data row0 col2\" >                              </td>\n",
       "      <td id=\"T_7c40b_row0_col3\" class=\"data row0 col3\" >5 (14%)</td>\n",
       "    </tr>\n",
       "    <tr>\n",
       "      <td id=\"T_7c40b_row1_col0\" class=\"data row1 col0\" >Missing</td>\n",
       "      <td id=\"T_7c40b_row1_col1\" class=\"data row1 col1\" >---</td>\n",
       "      <td id=\"T_7c40b_row1_col2\" class=\"data row1 col2\" >                              </td>\n",
       "      <td id=\"T_7c40b_row1_col3\" class=\"data row1 col3\" >1 (14%)</td>\n",
       "    </tr>\n",
       "    <tr>\n",
       "      <td id=\"T_7c40b_row2_col0\" class=\"data row2 col0\" >Distinct</td>\n",
       "      <td id=\"T_7c40b_row2_col1\" class=\"data row2 col1\" >7 (<1%)</td>\n",
       "      <td id=\"T_7c40b_row2_col2\" class=\"data row2 col2\" >                              </td>\n",
       "      <td id=\"T_7c40b_row2_col3\" class=\"data row2 col3\" >10 (14%)</td>\n",
       "    </tr>\n",
       "    <tr>\n",
       "      <td id=\"T_7c40b_row3_col0\" class=\"data row3 col0\" >Duplicated origin</td>\n",
       "      <td id=\"T_7c40b_row3_col1\" class=\"data row3 col1\" >2 535 (99.7%)</td>\n",
       "      <td id=\"T_7c40b_row3_col2\" class=\"data row3 col2\" >                              </td>\n",
       "      <td id=\"T_7c40b_row3_col3\" class=\"data row3 col3\" >2 (14%)</td>\n",
       "    </tr>\n",
       "    <tr>\n",
       "      <td id=\"T_7c40b_row4_col0\" class=\"data row4 col0\" >Dupl (modify - origin)</td>\n",
       "      <td id=\"T_7c40b_row4_col1\" class=\"data row4 col1\" >---</td>\n",
       "      <td id=\"T_7c40b_row4_col2\" class=\"data row4 col2\" >                              </td>\n",
       "      <td id=\"T_7c40b_row4_col3\" class=\"data row4 col3\" >3 (14%)</td>\n",
       "    </tr>\n",
       "    <tr>\n",
       "      <td id=\"T_7c40b_row5_col0\" class=\"data row5 col0\" >Empty</td>\n",
       "      <td id=\"T_7c40b_row5_col1\" class=\"data row5 col1\" >---</td>\n",
       "      <td id=\"T_7c40b_row5_col2\" class=\"data row5 col2\" >                              </td>\n",
       "      <td id=\"T_7c40b_row5_col3\" class=\"data row5 col3\" >4 (14%)</td>\n",
       "    </tr>\n",
       "    <tr>\n",
       "      <td id=\"T_7c40b_row6_col0\" class=\"data row6 col0\" >RAM (Mb)</td>\n",
       "      <td id=\"T_7c40b_row6_col1\" class=\"data row6 col1\" ><1 Mb</td>\n",
       "      <td id=\"T_7c40b_row6_col2\" class=\"data row6 col2\" >                              </td>\n",
       "      <td id=\"T_7c40b_row6_col3\" class=\"data row6 col3\" >9 (14%)</td>\n",
       "    </tr>\n",
       "  </tbody>\n",
       "</table>\n",
       "\n",
       "                <div>\n",
       "                    <img src=\"data:image/png;base64,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\" alt=\"График\"/>\n",
       "                </div>\n",
       "                      \n",
       "            </div>\n",
       "            "
      ],
      "text/plain": [
       "<IPython.core.display.HTML object>"
      ]
     },
     "metadata": {},
     "output_type": "display_data"
    }
   ],
   "source": [
    "gen.next()"
   ]
  },
  {
   "cell_type": "markdown",
   "metadata": {},
   "source": [
    "**Наблюдения:**  \n",
    "\n",
    "- В таблице с расходами на рекламные компании 7 уникальных рекламных  компаний, а в табице с посещениями сайтов 9.  \n",
    "Компании 6 и 7 отстутствуют в таблице с расходами на рекламные компании. Возможно это бесплатный трафик.\n"
   ]
  },
  {
   "cell_type": "markdown",
   "metadata": {},
   "source": [
    "Соберем все датафреймы в словарь для удобства дальнейшей работы."
   ]
  },
  {
   "cell_type": "code",
   "execution_count": 109,
   "metadata": {},
   "outputs": [],
   "source": [
    "dfs = dict(\n",
    "    visits = df_visits\n",
    "    , orders = df_orders\n",
    "    , costs = df_costs\n",
    ")"
   ]
  },
  {
   "cell_type": "markdown",
   "metadata": {},
   "source": [
    "#### Изучение дубликатов\n"
   ]
  },
  {
   "cell_type": "markdown",
   "metadata": {},
   "source": [
    "Посмотрим на дубли во всем датафрейме\n"
   ]
  },
  {
   "cell_type": "code",
   "execution_count": 110,
   "metadata": {},
   "outputs": [
    {
     "data": {
      "text/plain": [
       "'visits - no duplicates'"
      ]
     },
     "metadata": {},
     "output_type": "display_data"
    },
    {
     "data": {
      "text/plain": [
       "'orders - no duplicates'"
      ]
     },
     "metadata": {},
     "output_type": "display_data"
    },
    {
     "data": {
      "text/plain": [
       "'costs - no duplicates'"
      ]
     },
     "metadata": {},
     "output_type": "display_data"
    }
   ],
   "source": [
    "for key, df in dfs.items():\n",
    "    display(f'{key} - {pagri_data_tools.check_duplicated(df)}')"
   ]
  },
  {
   "cell_type": "markdown",
   "metadata": {},
   "source": [
    "Посмотрим сколько у нас дублей в каждой колонке\n"
   ]
  },
  {
   "cell_type": "code",
   "execution_count": 111,
   "metadata": {},
   "outputs": [
    {
     "name": "stdout",
     "output_type": "stream",
     "text": [
      "visits\n"
     ]
    },
    {
     "data": {
      "text/html": [
       "<style type=\"text/css\">\n",
       "#T_6ce61 caption {\n",
       "  font-size: 18px;\n",
       "  text-align: left;\n",
       "  font-weight: bold;\n",
       "}\n",
       "</style>\n",
       "<table id=\"T_6ce61\">\n",
       "  <caption>Duplicates</caption>\n",
       "  <thead>\n",
       "  </thead>\n",
       "  <tbody>\n",
       "    <tr>\n",
       "      <th id=\"T_6ce61_level0_row0\" class=\"row_heading level0 row0\" >device</th>\n",
       "      <td id=\"T_6ce61_row0_col0\" class=\"data row0 col0\" >359398 (100.00%)</td>\n",
       "    </tr>\n",
       "    <tr>\n",
       "      <th id=\"T_6ce61_level0_row1\" class=\"row_heading level0 row1\" >session_end_dt</th>\n",
       "      <td id=\"T_6ce61_row1_col0\" class=\"data row1 col0\" >134640 (37.46%)</td>\n",
       "    </tr>\n",
       "    <tr>\n",
       "      <th id=\"T_6ce61_level0_row2\" class=\"row_heading level0 row2\" >source_id</th>\n",
       "      <td id=\"T_6ce61_row2_col0\" class=\"data row2 col0\" >359391 (100.00%)</td>\n",
       "    </tr>\n",
       "    <tr>\n",
       "      <th id=\"T_6ce61_level0_row3\" class=\"row_heading level0 row3\" >session_start_dt</th>\n",
       "      <td id=\"T_6ce61_row3_col0\" class=\"data row3 col0\" >135097 (37.59%)</td>\n",
       "    </tr>\n",
       "    <tr>\n",
       "      <th id=\"T_6ce61_level0_row4\" class=\"row_heading level0 row4\" >uid</th>\n",
       "      <td id=\"T_6ce61_row4_col0\" class=\"data row4 col0\" >131231 (36.51%)</td>\n",
       "    </tr>\n",
       "  </tbody>\n",
       "</table>\n"
      ],
      "text/plain": [
       "<pandas.io.formats.style.Styler at 0x752d11e75c10>"
      ]
     },
     "metadata": {},
     "output_type": "display_data"
    },
    {
     "name": "stdout",
     "output_type": "stream",
     "text": [
      "orders\n"
     ]
    },
    {
     "data": {
      "text/html": [
       "<style type=\"text/css\">\n",
       "#T_1d000 caption {\n",
       "  font-size: 18px;\n",
       "  text-align: left;\n",
       "  font-weight: bold;\n",
       "}\n",
       "</style>\n",
       "<table id=\"T_1d000\">\n",
       "  <caption>Duplicates</caption>\n",
       "  <thead>\n",
       "  </thead>\n",
       "  <tbody>\n",
       "    <tr>\n",
       "      <th id=\"T_1d000_level0_row0\" class=\"row_heading level0 row0\" >order_dt</th>\n",
       "      <td id=\"T_1d000_row0_col0\" class=\"data row0 col0\" >4424 (8.78%)</td>\n",
       "    </tr>\n",
       "    <tr>\n",
       "      <th id=\"T_1d000_level0_row1\" class=\"row_heading level0 row1\" >revenue</th>\n",
       "      <td id=\"T_1d000_row1_col0\" class=\"data row1 col0\" >49266 (97.72%)</td>\n",
       "    </tr>\n",
       "    <tr>\n",
       "      <th id=\"T_1d000_level0_row2\" class=\"row_heading level0 row2\" >uid</th>\n",
       "      <td id=\"T_1d000_row2_col0\" class=\"data row2 col0\" >13892 (27.56%)</td>\n",
       "    </tr>\n",
       "  </tbody>\n",
       "</table>\n"
      ],
      "text/plain": [
       "<pandas.io.formats.style.Styler at 0x752d0fffbb60>"
      ]
     },
     "metadata": {},
     "output_type": "display_data"
    },
    {
     "name": "stdout",
     "output_type": "stream",
     "text": [
      "costs\n"
     ]
    },
    {
     "data": {
      "text/html": [
       "<style type=\"text/css\">\n",
       "#T_006bd caption {\n",
       "  font-size: 18px;\n",
       "  text-align: left;\n",
       "  font-weight: bold;\n",
       "}\n",
       "</style>\n",
       "<table id=\"T_006bd\">\n",
       "  <caption>Duplicates</caption>\n",
       "  <thead>\n",
       "  </thead>\n",
       "  <tbody>\n",
       "    <tr>\n",
       "      <th id=\"T_006bd_level0_row0\" class=\"row_heading level0 row0\" >source_id</th>\n",
       "      <td id=\"T_006bd_row0_col0\" class=\"data row0 col0\" >2535 (99.72%)</td>\n",
       "    </tr>\n",
       "    <tr>\n",
       "      <th id=\"T_006bd_level0_row1\" class=\"row_heading level0 row1\" >promo_date</th>\n",
       "      <td id=\"T_006bd_row1_col0\" class=\"data row1 col0\" >2178 (85.68%)</td>\n",
       "    </tr>\n",
       "    <tr>\n",
       "      <th id=\"T_006bd_level0_row2\" class=\"row_heading level0 row2\" >promo_costs</th>\n",
       "      <td id=\"T_006bd_row2_col0\" class=\"data row2 col0\" >146 (5.74%)</td>\n",
       "    </tr>\n",
       "  </tbody>\n",
       "</table>\n"
      ],
      "text/plain": [
       "<pandas.io.formats.style.Styler at 0x752d0fffaf00>"
      ]
     },
     "metadata": {},
     "output_type": "display_data"
    }
   ],
   "source": [
    "for key, df in dfs.items():\n",
    "    print(key)\n",
    "    series_duplicated = pagri_data_tools.find_columns_with_duplicates(df)   "
   ]
  },
  {
   "cell_type": "markdown",
   "metadata": {},
   "source": [
    "#### Изучение пропусков\n"
   ]
  },
  {
   "cell_type": "markdown",
   "metadata": {},
   "source": [
    "Посмотрим на пропуски в каждом столбце"
   ]
  },
  {
   "cell_type": "code",
   "execution_count": 112,
   "metadata": {},
   "outputs": [
    {
     "name": "stdout",
     "output_type": "stream",
     "text": [
      "visits\n",
      "There are no missing values\n",
      "orders\n",
      "There are no missing values\n",
      "costs\n",
      "There are no missing values\n"
     ]
    }
   ],
   "source": [
    "for key, df in dfs.items():\n",
    "    print(key)\n",
    "    series_duplicated = pagri_data_tools.find_columns_with_missing_values(df)   "
   ]
  },
  {
   "cell_type": "markdown",
   "metadata": {},
   "source": [
    "Пропусков не обнаружено"
   ]
  },
  {
   "cell_type": "markdown",
   "metadata": {},
   "source": [
    "#### Изучение выбросов\n"
   ]
  },
  {
   "cell_type": "markdown",
   "metadata": {},
   "source": [
    "Изучим выбросы в каждом столбце."
   ]
  },
  {
   "cell_type": "markdown",
   "metadata": {},
   "source": [
    "Посмотрим что за заказы с суммой больше 1000 у.е."
   ]
  },
  {
   "cell_type": "code",
   "execution_count": 113,
   "metadata": {},
   "outputs": [
    {
     "data": {
      "text/html": [
       "<div>\n",
       "<style scoped>\n",
       "    .dataframe tbody tr th:only-of-type {\n",
       "        vertical-align: middle;\n",
       "    }\n",
       "\n",
       "    .dataframe tbody tr th {\n",
       "        vertical-align: top;\n",
       "    }\n",
       "\n",
       "    .dataframe thead th {\n",
       "        text-align: right;\n",
       "    }\n",
       "</style>\n",
       "<table border=\"1\" class=\"dataframe\">\n",
       "  <thead>\n",
       "    <tr style=\"text-align: right;\">\n",
       "      <th></th>\n",
       "      <th>order_dt</th>\n",
       "      <th>revenue</th>\n",
       "      <th>uid</th>\n",
       "    </tr>\n",
       "  </thead>\n",
       "  <tbody>\n",
       "    <tr>\n",
       "      <th>23165</th>\n",
       "      <td>2017-12-10 13:04:00</td>\n",
       "      <td>1,195.64</td>\n",
       "      <td>5539673724080479777</td>\n",
       "    </tr>\n",
       "    <tr>\n",
       "      <th>23244</th>\n",
       "      <td>2017-12-10 20:17:00</td>\n",
       "      <td>2,633.28</td>\n",
       "      <td>5539673724080479777</td>\n",
       "    </tr>\n",
       "    <tr>\n",
       "      <th>24607</th>\n",
       "      <td>2017-12-17 18:06:00</td>\n",
       "      <td>1,109.10</td>\n",
       "      <td>11149926373378902217</td>\n",
       "    </tr>\n",
       "    <tr>\n",
       "      <th>36522</th>\n",
       "      <td>2018-02-23 08:54:00</td>\n",
       "      <td>1,236.28</td>\n",
       "      <td>11149926373378902217</td>\n",
       "    </tr>\n",
       "    <tr>\n",
       "      <th>36682</th>\n",
       "      <td>2018-02-24 09:25:00</td>\n",
       "      <td>1,221.37</td>\n",
       "      <td>11149926373378902217</td>\n",
       "    </tr>\n",
       "    <tr>\n",
       "      <th>40386</th>\n",
       "      <td>2018-03-18 09:13:00</td>\n",
       "      <td>1,073.11</td>\n",
       "      <td>11149926373378902217</td>\n",
       "    </tr>\n",
       "    <tr>\n",
       "      <th>47507</th>\n",
       "      <td>2018-05-16 19:53:00</td>\n",
       "      <td>1,080.44</td>\n",
       "      <td>11149926373378902217</td>\n",
       "    </tr>\n",
       "  </tbody>\n",
       "</table>\n",
       "</div>"
      ],
      "text/plain": [
       "                 order_dt  revenue                   uid\n",
       "23165 2017-12-10 13:04:00 1,195.64   5539673724080479777\n",
       "23244 2017-12-10 20:17:00 2,633.28   5539673724080479777\n",
       "24607 2017-12-17 18:06:00 1,109.10  11149926373378902217\n",
       "36522 2018-02-23 08:54:00 1,236.28  11149926373378902217\n",
       "36682 2018-02-24 09:25:00 1,221.37  11149926373378902217\n",
       "40386 2018-03-18 09:13:00 1,073.11  11149926373378902217\n",
       "47507 2018-05-16 19:53:00 1,080.44  11149926373378902217"
      ]
     },
     "execution_count": 113,
     "metadata": {},
     "output_type": "execute_result"
    }
   ],
   "source": [
    "df_orders[df_orders.revenue > 1000]"
   ]
  },
  {
   "cell_type": "markdown",
   "metadata": {},
   "source": [
    "Подозрительные 2 пользователя."
   ]
  },
  {
   "cell_type": "markdown",
   "metadata": {},
   "source": [
    "Сгруппируем по пользователям и посмотрим топ пользователй по сумме заказа."
   ]
  },
  {
   "cell_type": "code",
   "execution_count": 114,
   "metadata": {},
   "outputs": [
    {
     "data": {
      "text/html": [
       "<div>\n",
       "<style scoped>\n",
       "    .dataframe tbody tr th:only-of-type {\n",
       "        vertical-align: middle;\n",
       "    }\n",
       "\n",
       "    .dataframe tbody tr th {\n",
       "        vertical-align: top;\n",
       "    }\n",
       "\n",
       "    .dataframe thead th {\n",
       "        text-align: right;\n",
       "    }\n",
       "</style>\n",
       "<table border=\"1\" class=\"dataframe\">\n",
       "  <thead>\n",
       "    <tr style=\"text-align: right;\">\n",
       "      <th></th>\n",
       "      <th>revenue</th>\n",
       "    </tr>\n",
       "    <tr>\n",
       "      <th>uid</th>\n",
       "      <th></th>\n",
       "    </tr>\n",
       "  </thead>\n",
       "  <tbody>\n",
       "    <tr>\n",
       "      <th>5539673724080479777</th>\n",
       "      <td>11,810.18</td>\n",
       "    </tr>\n",
       "    <tr>\n",
       "      <th>11149926373378902217</th>\n",
       "      <td>10,519.46</td>\n",
       "    </tr>\n",
       "    <tr>\n",
       "      <th>17999372575896145244</th>\n",
       "      <td>1,979.33</td>\n",
       "    </tr>\n",
       "    <tr>\n",
       "      <th>6731421022966725351</th>\n",
       "      <td>1,450.68</td>\n",
       "    </tr>\n",
       "    <tr>\n",
       "      <th>3644482766749211722</th>\n",
       "      <td>1,444.29</td>\n",
       "    </tr>\n",
       "  </tbody>\n",
       "</table>\n",
       "</div>"
      ],
      "text/plain": [
       "                       revenue\n",
       "uid                           \n",
       "5539673724080479777  11,810.18\n",
       "11149926373378902217 10,519.46\n",
       "17999372575896145244  1,979.33\n",
       "6731421022966725351   1,450.68\n",
       "3644482766749211722   1,444.29"
      ]
     },
     "execution_count": 114,
     "metadata": {},
     "output_type": "execute_result"
    }
   ],
   "source": [
    "df_orders.groupby('uid')[['revenue']].sum().sort_values('revenue', ascending=False).head(5)"
   ]
  },
  {
   "cell_type": "markdown",
   "metadata": {},
   "source": [
    "**Наблюдения:**  \n",
    "\n",
    "- 2 пользователя (id 5539673724080479777 и 11149926373378902217) имеют намного болше суммы заказов, чем остальные. Скорее всего это оптовики или перекупы."
   ]
  },
  {
   "cell_type": "markdown",
   "metadata": {},
   "source": [
    "Посмотрим на расходы на рекламные компании больше 1000"
   ]
  },
  {
   "cell_type": "code",
   "execution_count": 115,
   "metadata": {},
   "outputs": [
    {
     "data": {
      "text/html": [
       "<div>\n",
       "<style scoped>\n",
       "    .dataframe tbody tr th:only-of-type {\n",
       "        vertical-align: middle;\n",
       "    }\n",
       "\n",
       "    .dataframe tbody tr th {\n",
       "        vertical-align: top;\n",
       "    }\n",
       "\n",
       "    .dataframe thead th {\n",
       "        text-align: right;\n",
       "    }\n",
       "</style>\n",
       "<table border=\"1\" class=\"dataframe\">\n",
       "  <thead>\n",
       "    <tr style=\"text-align: right;\">\n",
       "      <th></th>\n",
       "      <th>source_id</th>\n",
       "      <th>promo_date</th>\n",
       "      <th>promo_costs</th>\n",
       "    </tr>\n",
       "  </thead>\n",
       "  <tbody>\n",
       "    <tr>\n",
       "      <th>902</th>\n",
       "      <td>3</td>\n",
       "      <td>2017-11-24</td>\n",
       "      <td>1,788.28</td>\n",
       "    </tr>\n",
       "    <tr>\n",
       "      <th>919</th>\n",
       "      <td>3</td>\n",
       "      <td>2017-12-11</td>\n",
       "      <td>1,061.18</td>\n",
       "    </tr>\n",
       "  </tbody>\n",
       "</table>\n",
       "</div>"
      ],
      "text/plain": [
       "    source_id promo_date  promo_costs\n",
       "902         3 2017-11-24     1,788.28\n",
       "919         3 2017-12-11     1,061.18"
      ]
     },
     "execution_count": 115,
     "metadata": {},
     "output_type": "execute_result"
    }
   ],
   "source": [
    "df_costs[df_costs.promo_costs > 1000]"
   ]
  },
  {
   "cell_type": "markdown",
   "metadata": {},
   "source": [
    "**Наблюдения:**  \n",
    "\n",
    "- Для рекламной компании с id 3 были две очень крупные суммы расходов 2017-11-01 и 2017-12-11."
   ]
  },
  {
   "cell_type": "markdown",
   "metadata": {},
   "source": [
    "Посмотрим на выбросы используя квантили.    \n",
    "Выбросами будем считать значения, которые выходят за пределы 5 и 95 квантилей."
   ]
  },
  {
   "cell_type": "code",
   "execution_count": 116,
   "metadata": {},
   "outputs": [
    {
     "data": {
      "text/html": [
       "<style type=\"text/css\">\n",
       "#T_95f2e caption {\n",
       "  font-size: 18px;\n",
       "  text-align: left;\n",
       "  font-weight: bold;\n",
       "}\n",
       "</style>\n",
       "<table id=\"T_95f2e\">\n",
       "  <caption>Outliers</caption>\n",
       "  <thead>\n",
       "  </thead>\n",
       "  <tbody>\n",
       "    <tr>\n",
       "      <th id=\"T_95f2e_level0_row0\" class=\"row_heading level0 row0\" >revenue</th>\n",
       "      <td id=\"T_95f2e_row0_col0\" class=\"data row0 col0\" >4476 (8.88%)</td>\n",
       "    </tr>\n",
       "    <tr>\n",
       "      <th id=\"T_95f2e_level0_row1\" class=\"row_heading level0 row1\" >uid</th>\n",
       "      <td id=\"T_95f2e_row1_col0\" class=\"data row1 col0\" >5037 (9.99%)</td>\n",
       "    </tr>\n",
       "  </tbody>\n",
       "</table>\n"
      ],
      "text/plain": [
       "<pandas.io.formats.style.Styler at 0x752d0ffcfc50>"
      ]
     },
     "metadata": {},
     "output_type": "display_data"
    }
   ],
   "source": [
    "series_outliers = pagri_data_tools.detect_outliers_quantile(df_orders)"
   ]
  },
  {
   "cell_type": "markdown",
   "metadata": {},
   "source": [
    "**Наблюдения:**  \n",
    "\n",
    "- Процент выбросов в выручке меньше 10%, это указывает на то, что выбросов не слишком много."
   ]
  },
  {
   "cell_type": "markdown",
   "metadata": {},
   "source": [
    "Посмотрим на распределены выбросы во времени"
   ]
  },
  {
   "cell_type": "code",
   "execution_count": 117,
   "metadata": {},
   "outputs": [],
   "source": [
    "outliers_by_month = series_outliers.revenue.set_index('order_dt').resample('ME')[['revenue']].sum().reset_index()"
   ]
  },
  {
   "cell_type": "code",
   "execution_count": 118,
   "metadata": {},
   "outputs": [
    {
     "data": {
      "text/html": [
       "<div>                            <div id=\"e60ba432-2eed-46f6-9bc9-d4cc48bad476\" class=\"plotly-graph-div\" style=\"height:450px; width:1000px;\"></div>            <script type=\"text/javascript\">                require([\"plotly\"], function(Plotly) {                    window.PLOTLYENV=window.PLOTLYENV || {};                                    if (document.getElementById(\"e60ba432-2eed-46f6-9bc9-d4cc48bad476\")) {                    Plotly.newPlot(                        \"e60ba432-2eed-46f6-9bc9-d4cc48bad476\",                        [{\"alignmentgroup\":\"True\",\"customdata\":[[\"= 1\"],[\"= 1\"],[\"= 1\"],[\"= 1\"],[\"= 1\"],[\"= 1\"],[\"= 1\"],[\"= 1\"],[\"= 1\"],[\"= 1\"],[\"= 1\"],[\"= 1\"]],\"hovertemplate\":\"x = %{x}\\u003cbr\\u003ey = %{y:.4s}\\u003cbr\\u003e\\u0420\\u0430\\u0437\\u043c\\u0435\\u0440 \\u0433\\u0440\\u0443\\u043f\\u043f\\u044b %{customdata[0]}\\u003cextra\\u003e\\u003c\\u002fextra\\u003e\",\"legendgroup\":\"\",\"marker\":{\"color\":\"rgba(128, 60, 170, 0.9)\",\"pattern\":{\"shape\":\"\"}},\"name\":\"\",\"offsetgroup\":\"\",\"orientation\":\"v\",\"showlegend\":false,\"textposition\":\"auto\",\"x\":[\"2017-06-30T00:00:00\",\"2017-07-31T00:00:00\",\"2017-08-31T00:00:00\",\"2017-09-30T00:00:00\",\"2017-10-31T00:00:00\",\"2017-11-30T00:00:00\",\"2017-12-31T00:00:00\",\"2018-01-31T00:00:00\",\"2018-02-28T00:00:00\",\"2018-03-31T00:00:00\",\"2018-04-30T00:00:00\",\"2018-05-31T00:00:00\"],\"xaxis\":\"x\",\"y\":[2750.75,4423.93,2534.92,7750.7300000000005,10720.05,9503.6,17017.62,5065.93,8666.3,12346.14,6081.4800000000005,7871.97],\"yaxis\":\"y\",\"type\":\"bar\",\"hoverlabel\":{\"bgcolor\":\"white\"},\"textfont\":{\"family\":\"Segoe UI\",\"size\":14}}],                        {\"template\":{\"data\":{\"barpolar\":[{\"marker\":{\"line\":{\"color\":\"white\",\"width\":0.5},\"pattern\":{\"fillmode\":\"overlay\",\"size\":10,\"solidity\":0.2}},\"type\":\"barpolar\"}],\"bar\":[{\"error_x\":{\"color\":\"rgb(36,36,36)\"},\"error_y\":{\"color\":\"rgb(36,36,36)\"},\"marker\":{\"line\":{\"color\":\"white\",\"width\":0.5},\"pattern\":{\"fillmode\":\"overlay\",\"size\":10,\"solidity\":0.2}},\"type\":\"bar\"}],\"carpet\":[{\"aaxis\":{\"endlinecolor\":\"rgb(36,36,36)\",\"gridcolor\":\"white\",\"linecolor\":\"white\",\"minorgridcolor\":\"white\",\"startlinecolor\":\"rgb(36,36,36)\"},\"baxis\":{\"endlinecolor\":\"rgb(36,36,36)\",\"gridcolor\":\"white\",\"linecolor\":\"white\",\"minorgridcolor\":\"white\",\"startlinecolor\":\"rgb(36,36,36)\"},\"type\":\"carpet\"}],\"choropleth\":[{\"colorbar\":{\"outlinewidth\":1,\"tickcolor\":\"rgb(36,36,36)\",\"ticks\":\"outside\"},\"type\":\"choropleth\"}],\"contourcarpet\":[{\"colorbar\":{\"outlinewidth\":1,\"tickcolor\":\"rgb(36,36,36)\",\"ticks\":\"outside\"},\"type\":\"contourcarpet\"}],\"contour\":[{\"colorbar\":{\"outlinewidth\":1,\"tickcolor\":\"rgb(36,36,36)\",\"ticks\":\"outside\"},\"colorscale\":[[0.0,\"#440154\"],[0.1111111111111111,\"#482878\"],[0.2222222222222222,\"#3e4989\"],[0.3333333333333333,\"#31688e\"],[0.4444444444444444,\"#26828e\"],[0.5555555555555556,\"#1f9e89\"],[0.6666666666666666,\"#35b779\"],[0.7777777777777778,\"#6ece58\"],[0.8888888888888888,\"#b5de2b\"],[1.0,\"#fde725\"]],\"type\":\"contour\"}],\"heatmapgl\":[{\"colorbar\":{\"outlinewidth\":1,\"tickcolor\":\"rgb(36,36,36)\",\"ticks\":\"outside\"},\"colorscale\":[[0.0,\"#440154\"],[0.1111111111111111,\"#482878\"],[0.2222222222222222,\"#3e4989\"],[0.3333333333333333,\"#31688e\"],[0.4444444444444444,\"#26828e\"],[0.5555555555555556,\"#1f9e89\"],[0.6666666666666666,\"#35b779\"],[0.7777777777777778,\"#6ece58\"],[0.8888888888888888,\"#b5de2b\"],[1.0,\"#fde725\"]],\"type\":\"heatmapgl\"}],\"heatmap\":[{\"colorbar\":{\"outlinewidth\":1,\"tickcolor\":\"rgb(36,36,36)\",\"ticks\":\"outside\"},\"colorscale\":[[0.0,\"#440154\"],[0.1111111111111111,\"#482878\"],[0.2222222222222222,\"#3e4989\"],[0.3333333333333333,\"#31688e\"],[0.4444444444444444,\"#26828e\"],[0.5555555555555556,\"#1f9e89\"],[0.6666666666666666,\"#35b779\"],[0.7777777777777778,\"#6ece58\"],[0.8888888888888888,\"#b5de2b\"],[1.0,\"#fde725\"]],\"type\":\"heatmap\"}],\"histogram2dcontour\":[{\"colorbar\":{\"outlinewidth\":1,\"tickcolor\":\"rgb(36,36,36)\",\"ticks\":\"outside\"},\"colorscale\":[[0.0,\"#440154\"],[0.1111111111111111,\"#482878\"],[0.2222222222222222,\"#3e4989\"],[0.3333333333333333,\"#31688e\"],[0.4444444444444444,\"#26828e\"],[0.5555555555555556,\"#1f9e89\"],[0.6666666666666666,\"#35b779\"],[0.7777777777777778,\"#6ece58\"],[0.8888888888888888,\"#b5de2b\"],[1.0,\"#fde725\"]],\"type\":\"histogram2dcontour\"}],\"histogram2d\":[{\"colorbar\":{\"outlinewidth\":1,\"tickcolor\":\"rgb(36,36,36)\",\"ticks\":\"outside\"},\"colorscale\":[[0.0,\"#440154\"],[0.1111111111111111,\"#482878\"],[0.2222222222222222,\"#3e4989\"],[0.3333333333333333,\"#31688e\"],[0.4444444444444444,\"#26828e\"],[0.5555555555555556,\"#1f9e89\"],[0.6666666666666666,\"#35b779\"],[0.7777777777777778,\"#6ece58\"],[0.8888888888888888,\"#b5de2b\"],[1.0,\"#fde725\"]],\"type\":\"histogram2d\"}],\"histogram\":[{\"marker\":{\"line\":{\"color\":\"white\",\"width\":0.6}},\"type\":\"histogram\"}],\"mesh3d\":[{\"colorbar\":{\"outlinewidth\":1,\"tickcolor\":\"rgb(36,36,36)\",\"ticks\":\"outside\"},\"type\":\"mesh3d\"}],\"parcoords\":[{\"line\":{\"colorbar\":{\"outlinewidth\":1,\"tickcolor\":\"rgb(36,36,36)\",\"ticks\":\"outside\"}},\"type\":\"parcoords\"}],\"pie\":[{\"automargin\":true,\"type\":\"pie\"}],\"scatter3d\":[{\"line\":{\"colorbar\":{\"outlinewidth\":1,\"tickcolor\":\"rgb(36,36,36)\",\"ticks\":\"outside\"}},\"marker\":{\"colorbar\":{\"outlinewidth\":1,\"tickcolor\":\"rgb(36,36,36)\",\"ticks\":\"outside\"}},\"type\":\"scatter3d\"}],\"scattercarpet\":[{\"marker\":{\"colorbar\":{\"outlinewidth\":1,\"tickcolor\":\"rgb(36,36,36)\",\"ticks\":\"outside\"}},\"type\":\"scattercarpet\"}],\"scattergeo\":[{\"marker\":{\"colorbar\":{\"outlinewidth\":1,\"tickcolor\":\"rgb(36,36,36)\",\"ticks\":\"outside\"}},\"type\":\"scattergeo\"}],\"scattergl\":[{\"marker\":{\"colorbar\":{\"outlinewidth\":1,\"tickcolor\":\"rgb(36,36,36)\",\"ticks\":\"outside\"}},\"type\":\"scattergl\"}],\"scattermapbox\":[{\"marker\":{\"colorbar\":{\"outlinewidth\":1,\"tickcolor\":\"rgb(36,36,36)\",\"ticks\":\"outside\"}},\"type\":\"scattermapbox\"}],\"scatterpolargl\":[{\"marker\":{\"colorbar\":{\"outlinewidth\":1,\"tickcolor\":\"rgb(36,36,36)\",\"ticks\":\"outside\"}},\"type\":\"scatterpolargl\"}],\"scatterpolar\":[{\"marker\":{\"colorbar\":{\"outlinewidth\":1,\"tickcolor\":\"rgb(36,36,36)\",\"ticks\":\"outside\"}},\"type\":\"scatterpolar\"}],\"scatter\":[{\"fillpattern\":{\"fillmode\":\"overlay\",\"size\":10,\"solidity\":0.2},\"type\":\"scatter\"}],\"scatterternary\":[{\"marker\":{\"colorbar\":{\"outlinewidth\":1,\"tickcolor\":\"rgb(36,36,36)\",\"ticks\":\"outside\"}},\"type\":\"scatterternary\"}],\"surface\":[{\"colorbar\":{\"outlinewidth\":1,\"tickcolor\":\"rgb(36,36,36)\",\"ticks\":\"outside\"},\"colorscale\":[[0.0,\"#440154\"],[0.1111111111111111,\"#482878\"],[0.2222222222222222,\"#3e4989\"],[0.3333333333333333,\"#31688e\"],[0.4444444444444444,\"#26828e\"],[0.5555555555555556,\"#1f9e89\"],[0.6666666666666666,\"#35b779\"],[0.7777777777777778,\"#6ece58\"],[0.8888888888888888,\"#b5de2b\"],[1.0,\"#fde725\"]],\"type\":\"surface\"}],\"table\":[{\"cells\":{\"fill\":{\"color\":\"rgb(237,237,237)\"},\"line\":{\"color\":\"white\"}},\"header\":{\"fill\":{\"color\":\"rgb(217,217,217)\"},\"line\":{\"color\":\"white\"}},\"type\":\"table\"}]},\"layout\":{\"annotationdefaults\":{\"arrowhead\":0,\"arrowwidth\":1},\"autotypenumbers\":\"strict\",\"coloraxis\":{\"colorbar\":{\"outlinewidth\":1,\"tickcolor\":\"rgb(36,36,36)\",\"ticks\":\"outside\"}},\"colorscale\":{\"diverging\":[[0.0,\"rgb(103,0,31)\"],[0.1,\"rgb(178,24,43)\"],[0.2,\"rgb(214,96,77)\"],[0.3,\"rgb(244,165,130)\"],[0.4,\"rgb(253,219,199)\"],[0.5,\"rgb(247,247,247)\"],[0.6,\"rgb(209,229,240)\"],[0.7,\"rgb(146,197,222)\"],[0.8,\"rgb(67,147,195)\"],[0.9,\"rgb(33,102,172)\"],[1.0,\"rgb(5,48,97)\"]],\"sequential\":[[0.0,\"#440154\"],[0.1111111111111111,\"#482878\"],[0.2222222222222222,\"#3e4989\"],[0.3333333333333333,\"#31688e\"],[0.4444444444444444,\"#26828e\"],[0.5555555555555556,\"#1f9e89\"],[0.6666666666666666,\"#35b779\"],[0.7777777777777778,\"#6ece58\"],[0.8888888888888888,\"#b5de2b\"],[1.0,\"#fde725\"]],\"sequentialminus\":[[0.0,\"#440154\"],[0.1111111111111111,\"#482878\"],[0.2222222222222222,\"#3e4989\"],[0.3333333333333333,\"#31688e\"],[0.4444444444444444,\"#26828e\"],[0.5555555555555556,\"#1f9e89\"],[0.6666666666666666,\"#35b779\"],[0.7777777777777778,\"#6ece58\"],[0.8888888888888888,\"#b5de2b\"],[1.0,\"#fde725\"]]},\"colorway\":[\"#1F77B4\",\"#FF7F0E\",\"#2CA02C\",\"#D62728\",\"#9467BD\",\"#8C564B\",\"#E377C2\",\"#7F7F7F\",\"#BCBD22\",\"#17BECF\"],\"font\":{\"color\":\"rgb(36,36,36)\"},\"geo\":{\"bgcolor\":\"white\",\"lakecolor\":\"white\",\"landcolor\":\"white\",\"showlakes\":true,\"showland\":true,\"subunitcolor\":\"white\"},\"hoverlabel\":{\"align\":\"left\"},\"hovermode\":\"closest\",\"mapbox\":{\"style\":\"light\"},\"paper_bgcolor\":\"white\",\"plot_bgcolor\":\"white\",\"polar\":{\"angularaxis\":{\"gridcolor\":\"rgb(232,232,232)\",\"linecolor\":\"rgb(36,36,36)\",\"showgrid\":false,\"showline\":true,\"ticks\":\"outside\"},\"bgcolor\":\"white\",\"radialaxis\":{\"gridcolor\":\"rgb(232,232,232)\",\"linecolor\":\"rgb(36,36,36)\",\"showgrid\":false,\"showline\":true,\"ticks\":\"outside\"}},\"scene\":{\"xaxis\":{\"backgroundcolor\":\"white\",\"gridcolor\":\"rgb(232,232,232)\",\"gridwidth\":2,\"linecolor\":\"rgb(36,36,36)\",\"showbackground\":true,\"showgrid\":false,\"showline\":true,\"ticks\":\"outside\",\"zeroline\":false,\"zerolinecolor\":\"rgb(36,36,36)\"},\"yaxis\":{\"backgroundcolor\":\"white\",\"gridcolor\":\"rgb(232,232,232)\",\"gridwidth\":2,\"linecolor\":\"rgb(36,36,36)\",\"showbackground\":true,\"showgrid\":false,\"showline\":true,\"ticks\":\"outside\",\"zeroline\":false,\"zerolinecolor\":\"rgb(36,36,36)\"},\"zaxis\":{\"backgroundcolor\":\"white\",\"gridcolor\":\"rgb(232,232,232)\",\"gridwidth\":2,\"linecolor\":\"rgb(36,36,36)\",\"showbackground\":true,\"showgrid\":false,\"showline\":true,\"ticks\":\"outside\",\"zeroline\":false,\"zerolinecolor\":\"rgb(36,36,36)\"}},\"shapedefaults\":{\"fillcolor\":\"black\",\"line\":{\"width\":0},\"opacity\":0.3},\"ternary\":{\"aaxis\":{\"gridcolor\":\"rgb(232,232,232)\",\"linecolor\":\"rgb(36,36,36)\",\"showgrid\":false,\"showline\":true,\"ticks\":\"outside\"},\"baxis\":{\"gridcolor\":\"rgb(232,232,232)\",\"linecolor\":\"rgb(36,36,36)\",\"showgrid\":false,\"showline\":true,\"ticks\":\"outside\"},\"bgcolor\":\"white\",\"caxis\":{\"gridcolor\":\"rgb(232,232,232)\",\"linecolor\":\"rgb(36,36,36)\",\"showgrid\":false,\"showline\":true,\"ticks\":\"outside\"}},\"title\":{\"x\":0.05},\"xaxis\":{\"automargin\":true,\"gridcolor\":\"rgb(232,232,232)\",\"linecolor\":\"rgb(36,36,36)\",\"showgrid\":false,\"showline\":true,\"ticks\":\"outside\",\"title\":{\"standoff\":15},\"zeroline\":false,\"zerolinecolor\":\"rgb(36,36,36)\"},\"yaxis\":{\"automargin\":true,\"gridcolor\":\"rgb(232,232,232)\",\"linecolor\":\"rgb(36,36,36)\",\"showgrid\":false,\"showline\":true,\"ticks\":\"outside\",\"title\":{\"standoff\":15},\"zeroline\":false,\"zerolinecolor\":\"rgb(36,36,36)\"}}},\"xaxis\":{\"anchor\":\"y\",\"domain\":[0.0,1.0],\"title\":{\"font\":{\"size\":14,\"color\":\"rgba(0, 0, 0, 0.7)\"},\"text\":\"\\u041c\\u0435\\u0441\\u044f\\u0446 \\u0438 \\u0433\\u043e\\u0434\"},\"tickfont\":{\"size\":14,\"color\":\"rgba(0, 0, 0, 0.7)\"},\"linecolor\":\"rgba(0, 0, 0, 0.4)\",\"tickcolor\":\"rgba(0, 0, 0, 0.4)\",\"visible\":true,\"showgrid\":true,\"gridwidth\":1,\"gridcolor\":\"rgba(0, 0, 0, 0.1)\"},\"yaxis\":{\"anchor\":\"x\",\"domain\":[0.0,1.0],\"title\":{\"font\":{\"size\":14,\"color\":\"rgba(0, 0, 0, 0.7)\"},\"text\":\"\\u0421\\u0442\\u043e\\u0438\\u043c\\u043e\\u0441\\u0442\\u044c \\u0437\\u0430\\u043a\\u0430\\u0437\\u0430\"},\"tickfont\":{\"size\":14,\"color\":\"rgba(0, 0, 0, 0.7)\"},\"linecolor\":\"rgba(0, 0, 0, 0.4)\",\"tickcolor\":\"rgba(0, 0, 0, 0.4)\",\"visible\":true,\"showgrid\":true,\"gridwidth\":1,\"gridcolor\":\"rgba(0, 0, 0, 0.07)\"},\"legend\":{\"tracegroupgap\":0,\"title\":{\"font\":{\"color\":\"rgba(0, 0, 0, 0.7)\",\"size\":14}},\"font\":{\"color\":\"rgba(0, 0, 0, 0.7)\"},\"orientation\":\"h\",\"yanchor\":\"top\",\"y\":1.05,\"xanchor\":\"center\",\"x\":0.5},\"margin\":{\"t\":70,\"l\":50,\"r\":50,\"b\":50},\"barmode\":\"group\",\"title\":{\"font\":{\"size\":16,\"color\":\"rgba(0, 0, 0, 0.7)\"},\"text\":\"\\u0421\\u0443\\u043c\\u043c\\u0430\\u0440\\u043d\\u0430\\u044f \\u0441\\u0442\\u043e\\u0438\\u043c\\u043e\\u0441\\u0442\\u044c \\u0437\\u0430\\u043a\\u0430\\u0437\\u0430 \\u0432 \\u0437\\u0430\\u0432\\u0438\\u0441\\u0438\\u043c\\u043e\\u0441\\u0442\\u0438 \\u043e\\u0442 \\u043c\\u0435\\u0441\\u044f\\u0446\\u0430\"},\"font\":{\"size\":14,\"family\":\"Segoe UI\",\"color\":\"rgba(0, 0, 0, 0.7)\"},\"hoverlabel\":{\"bgcolor\":\"white\"},\"width\":1000,\"height\":450},                        {\"responsive\": true}                    ).then(function(){\n",
       "                            \n",
       "var gd = document.getElementById('e60ba432-2eed-46f6-9bc9-d4cc48bad476');\n",
       "var x = new MutationObserver(function (mutations, observer) {{\n",
       "        var display = window.getComputedStyle(gd).display;\n",
       "        if (!display || display === 'none') {{\n",
       "            console.log([gd, 'removed!']);\n",
       "            Plotly.purge(gd);\n",
       "            observer.disconnect();\n",
       "        }}\n",
       "}});\n",
       "\n",
       "// Listen for the removal of the full notebook cells\n",
       "var notebookContainer = gd.closest('#notebook-container');\n",
       "if (notebookContainer) {{\n",
       "    x.observe(notebookContainer, {childList: true});\n",
       "}}\n",
       "\n",
       "// Listen for the clearing of the current output cell\n",
       "var outputEl = gd.closest('.output');\n",
       "if (outputEl) {{\n",
       "    x.observe(outputEl, {childList: true});\n",
       "}}\n",
       "\n",
       "                        })                };                });            </script>        </div>"
      ]
     },
     "metadata": {},
     "output_type": "display_data"
    }
   ],
   "source": [
    "config = dict(\n",
    "    df = outliers_by_month\n",
    "    , x = 'order_dt'\n",
    "    , y = 'revenue'  \n",
    "    , barmode = 'group'\n",
    "    , orientation = 'v'\n",
    "    , func = 'sum'\n",
    "    , xaxis_show = True\n",
    "    , yaxis_show = True\n",
    "    , showgrid_x = False\n",
    "    , showgrid_y = True      \n",
    "    , sort = True    \n",
    "    , sort_axis = False    \n",
    "    , sort_legend = True      \n",
    "    , width = 1000\n",
    "    , height = 450                                                                                                                         \n",
    ")\n",
    "fig = pagri_data_tools.bar(config)\n",
    "fig = pagri_data_tools.plotly_default_settings(fig)\n",
    "fig.update_layout(\n",
    "    title_text = 'Суммарная стоимость заказа в зависимости от месяца'\n",
    "    , yaxis_title_text = 'Стоимость заказа'\n",
    "    , xaxis_title_text = 'Месяц и год'\n",
    ")"
   ]
  },
  {
   "cell_type": "markdown",
   "metadata": {},
   "source": [
    "**Наблюдения:**  \n",
    "\n",
    "- Боьше всего суммарных выбросов в стоимости заказа было в декабре 2017 года"
   ]
  },
  {
   "cell_type": "code",
   "execution_count": 119,
   "metadata": {},
   "outputs": [
    {
     "data": {
      "text/html": [
       "<style type=\"text/css\">\n",
       "#T_9ab04 caption {\n",
       "  font-size: 18px;\n",
       "  text-align: left;\n",
       "  font-weight: bold;\n",
       "}\n",
       "</style>\n",
       "<table id=\"T_9ab04\">\n",
       "  <caption>Outliers</caption>\n",
       "  <thead>\n",
       "  </thead>\n",
       "  <tbody>\n",
       "    <tr>\n",
       "      <th id=\"T_9ab04_level0_row0\" class=\"row_heading level0 row0\" >promo_costs</th>\n",
       "      <td id=\"T_9ab04_row0_col0\" class=\"data row0 col0\" >256 (10.07%)</td>\n",
       "    </tr>\n",
       "  </tbody>\n",
       "</table>\n"
      ],
      "text/plain": [
       "<pandas.io.formats.style.Styler at 0x752d0fff94c0>"
      ]
     },
     "metadata": {},
     "output_type": "display_data"
    }
   ],
   "source": [
    "series_outliers = pagri_data_tools.detect_outliers_quantile(df_costs)"
   ]
  },
  {
   "cell_type": "markdown",
   "metadata": {},
   "source": [
    "**Наблюдения:**  \n",
    "\n",
    "- Процент выбросов в расходах на рекламные компании чуть больше 10%, это указывает на то, что выбросов не слишком много."
   ]
  },
  {
   "cell_type": "code",
   "execution_count": 120,
   "metadata": {},
   "outputs": [
    {
     "data": {
      "text/html": [
       "<div>\n",
       "<style scoped>\n",
       "    .dataframe tbody tr th:only-of-type {\n",
       "        vertical-align: middle;\n",
       "    }\n",
       "\n",
       "    .dataframe tbody tr th {\n",
       "        vertical-align: top;\n",
       "    }\n",
       "\n",
       "    .dataframe thead th {\n",
       "        text-align: right;\n",
       "    }\n",
       "</style>\n",
       "<table border=\"1\" class=\"dataframe\">\n",
       "  <thead>\n",
       "    <tr style=\"text-align: right;\">\n",
       "      <th></th>\n",
       "      <th>source_id</th>\n",
       "      <th>promo_date</th>\n",
       "      <th>promo_costs</th>\n",
       "    </tr>\n",
       "  </thead>\n",
       "  <tbody>\n",
       "    <tr>\n",
       "      <th>30</th>\n",
       "      <td>1</td>\n",
       "      <td>2017-07-01</td>\n",
       "      <td>5.80</td>\n",
       "    </tr>\n",
       "  </tbody>\n",
       "</table>\n",
       "</div>"
      ],
      "text/plain": [
       "   source_id promo_date  promo_costs\n",
       "30         1 2017-07-01         5.80"
      ]
     },
     "execution_count": 120,
     "metadata": {},
     "output_type": "execute_result"
    }
   ],
   "source": [
    "series_outliers.promo_costs.head(1)"
   ]
  },
  {
   "cell_type": "markdown",
   "metadata": {},
   "source": [
    "Посмотрим на распределены выбросы во времени"
   ]
  },
  {
   "cell_type": "code",
   "execution_count": 121,
   "metadata": {},
   "outputs": [],
   "source": [
    "outliers_by_month = (\n",
    "    series_outliers['promo_costs']\n",
    "    .groupby([pd.Grouper(key='promo_date', freq='ME'), 'source_id'], observed=True)  # Группируем по месяцу и source_id\n",
    "    .agg({'promo_costs': 'sum'})  # Суммируем promo_costs\n",
    "    .reset_index()  # Сбрасываем индекс\n",
    ")"
   ]
  },
  {
   "cell_type": "code",
   "execution_count": 122,
   "metadata": {},
   "outputs": [
    {
     "data": {
      "text/html": [
       "<div>                            <div id=\"6a9717b3-3527-4107-90dd-5a2ccaaae812\" class=\"plotly-graph-div\" style=\"height:450px; width:1000px;\"></div>            <script type=\"text/javascript\">                require([\"plotly\"], function(Plotly) {                    window.PLOTLYENV=window.PLOTLYENV || {};                                    if (document.getElementById(\"6a9717b3-3527-4107-90dd-5a2ccaaae812\")) {                    Plotly.newPlot(                        \"6a9717b3-3527-4107-90dd-5a2ccaaae812\",                        [{\"alignmentgroup\":\"True\",\"customdata\":[[\"= 1\"],[\"= 1\"],[\"= 1\"],[\"= 1\"],[\"= 1\"],[\"= 1\"],[\"= 1\"],[\"= 1\"],[\"= 1\"],[\"= 1\"],[\"= 1\"],[\"= 1\"]],\"hovertemplate\":\"x = %{x}\\u003cbr\\u003ey = %{y:.4s}color = %{data.name}\\u003cbr\\u003e\\u0420\\u0430\\u0437\\u043c\\u0435\\u0440 \\u0433\\u0440\\u0443\\u043f\\u043f\\u044b %{customdata[0]}\\u003cextra\\u003e\\u003c\\u002fextra\\u003e\",\"legendgroup\":\"10\",\"marker\":{\"color\":\"rgba(128, 60, 170, 0.9)\",\"pattern\":{\"shape\":\"\"}},\"name\":\"10\",\"offsetgroup\":\"10\",\"orientation\":\"v\",\"showlegend\":true,\"textposition\":\"auto\",\"x\":[\"2017-06-30T00:00:00\",\"2017-07-31T00:00:00\",\"2017-08-31T00:00:00\",\"2017-09-30T00:00:00\",\"2017-10-31T00:00:00\",\"2017-11-30T00:00:00\",\"2017-12-31T00:00:00\",\"2018-01-31T00:00:00\",\"2018-02-28T00:00:00\",\"2018-03-31T00:00:00\",\"2018-04-30T00:00:00\",\"2018-05-31T00:00:00\"],\"xaxis\":\"x\",\"y\":[54.78,39.36,70.9,19.09,12.41,11.52,18.39,20.86,9.51,7.94,34.89,28.67],\"yaxis\":\"y\",\"type\":\"bar\",\"hoverlabel\":{\"bgcolor\":\"white\"},\"textfont\":{\"family\":\"Segoe UI\",\"size\":14}},{\"alignmentgroup\":\"True\",\"customdata\":[[\"= 1\"],[\"= 1\"],[\"= 1\"],[\"= 1\"],[\"= 1\"],[\"= 1\"],[\"= 1\"],[\"= 1\"],[\"= 1\"],[\"= 1\"],[\"= 1\"]],\"hovertemplate\":\"x = %{x}\\u003cbr\\u003ey = %{y:.4s}color = %{data.name}\\u003cbr\\u003e\\u0420\\u0430\\u0437\\u043c\\u0435\\u0440 \\u0433\\u0440\\u0443\\u043f\\u043f\\u044b %{customdata[0]}\\u003cextra\\u003e\\u003c\\u002fextra\\u003e\",\"legendgroup\":\"3\",\"marker\":{\"color\":\"#049CB3\",\"pattern\":{\"shape\":\"\"}},\"name\":\"3\",\"offsetgroup\":\"3\",\"orientation\":\"v\",\"showlegend\":true,\"textposition\":\"auto\",\"x\":[\"2017-06-30T00:00:00\",\"2017-07-31T00:00:00\",\"2017-09-30T00:00:00\",\"2017-10-31T00:00:00\",\"2017-11-30T00:00:00\",\"2017-12-31T00:00:00\",\"2018-01-31T00:00:00\",\"2018-02-28T00:00:00\",\"2018-03-31T00:00:00\",\"2018-04-30T00:00:00\",\"2018-05-31T00:00:00\"],\"xaxis\":\"x\",\"y\":[727.29,518.41,2669.6800000000003,11237.95,13528.25,12700.08,8278.76,9746.63,8872.43,2114.52,1434.08],\"yaxis\":\"y\",\"type\":\"bar\",\"hoverlabel\":{\"bgcolor\":\"white\"},\"textfont\":{\"family\":\"Segoe UI\",\"size\":14}},{\"alignmentgroup\":\"True\",\"customdata\":[[\"= 1\"],[\"= 1\"],[\"= 1\"],[\"= 1\"],[\"= 1\"],[\"= 1\"],[\"= 1\"],[\"= 1\"],[\"= 1\"],[\"= 1\"],[\"= 1\"]],\"hovertemplate\":\"x = %{x}\\u003cbr\\u003ey = %{y:.4s}color = %{data.name}\\u003cbr\\u003e\\u0420\\u0430\\u0437\\u043c\\u0435\\u0440 \\u0433\\u0440\\u0443\\u043f\\u043f\\u044b %{customdata[0]}\\u003cextra\\u003e\\u003c\\u002fextra\\u003e\",\"legendgroup\":\"4\",\"marker\":{\"color\":\"rgba(112, 155, 219, 0.9)\",\"pattern\":{\"shape\":\"\"}},\"name\":\"4\",\"offsetgroup\":\"4\",\"orientation\":\"v\",\"showlegend\":true,\"textposition\":\"auto\",\"x\":[\"2017-06-30T00:00:00\",\"2017-08-31T00:00:00\",\"2017-09-30T00:00:00\",\"2017-10-31T00:00:00\",\"2017-11-30T00:00:00\",\"2017-12-31T00:00:00\",\"2018-01-31T00:00:00\",\"2018-02-28T00:00:00\",\"2018-03-31T00:00:00\",\"2018-04-30T00:00:00\",\"2018-05-31T00:00:00\"],\"xaxis\":\"x\",\"y\":[2.38,5.74,523.77,567.32,11.280000000000001,2363.77,1118.46,723.5400000000001,988.9,491.55,493.85],\"yaxis\":\"y\",\"type\":\"bar\",\"hoverlabel\":{\"bgcolor\":\"white\"},\"textfont\":{\"family\":\"Segoe UI\",\"size\":14}},{\"alignmentgroup\":\"True\",\"customdata\":[[\"= 1\"],[\"= 1\"],[\"= 1\"],[\"= 1\"],[\"= 1\"],[\"= 1\"]],\"hovertemplate\":\"x = %{x}\\u003cbr\\u003ey = %{y:.4s}color = %{data.name}\\u003cbr\\u003e\\u0420\\u0430\\u0437\\u043c\\u0435\\u0440 \\u0433\\u0440\\u0443\\u043f\\u043f\\u044b %{customdata[0]}\\u003cextra\\u003e\\u003c\\u002fextra\\u003e\",\"legendgroup\":\"9\",\"marker\":{\"color\":\"rgba(99, 113, 156, 0.9)\",\"pattern\":{\"shape\":\"\"}},\"name\":\"9\",\"offsetgroup\":\"9\",\"orientation\":\"v\",\"showlegend\":true,\"textposition\":\"auto\",\"x\":[\"2017-06-30T00:00:00\",\"2017-07-31T00:00:00\",\"2017-08-31T00:00:00\",\"2018-03-31T00:00:00\",\"2018-04-30T00:00:00\",\"2018-05-31T00:00:00\"],\"xaxis\":\"x\",\"y\":[56.26,70.17,78.2,8.09,7.21,29.92],\"yaxis\":\"y\",\"type\":\"bar\",\"hoverlabel\":{\"bgcolor\":\"white\"},\"textfont\":{\"family\":\"Segoe UI\",\"size\":14}},{\"alignmentgroup\":\"True\",\"customdata\":[[\"= 1\"],[\"= 1\"]],\"hovertemplate\":\"x = %{x}\\u003cbr\\u003ey = %{y:.4s}color = %{data.name}\\u003cbr\\u003e\\u0420\\u0430\\u0437\\u043c\\u0435\\u0440 \\u0433\\u0440\\u0443\\u043f\\u043f\\u044b %{customdata[0]}\\u003cextra\\u003e\\u003c\\u002fextra\\u003e\",\"legendgroup\":\"1\",\"marker\":{\"color\":\"#5c6bc0\",\"pattern\":{\"shape\":\"\"}},\"name\":\"1\",\"offsetgroup\":\"1\",\"orientation\":\"v\",\"showlegend\":true,\"textposition\":\"auto\",\"x\":[\"2017-07-31T00:00:00\",\"2018-03-31T00:00:00\"],\"xaxis\":\"x\",\"y\":[5.8,6.98],\"yaxis\":\"y\",\"type\":\"bar\",\"hoverlabel\":{\"bgcolor\":\"white\"},\"textfont\":{\"family\":\"Segoe UI\",\"size\":14}},{\"alignmentgroup\":\"True\",\"customdata\":[[\"= 1\"]],\"hovertemplate\":\"x = %{x}\\u003cbr\\u003ey = %{y:.4s}color = %{data.name}\\u003cbr\\u003e\\u0420\\u0430\\u0437\\u043c\\u0435\\u0440 \\u0433\\u0440\\u0443\\u043f\\u043f\\u044b %{customdata[0]}\\u003cextra\\u003e\\u003c\\u002fextra\\u003e\",\"legendgroup\":\"2\",\"marker\":{\"color\":\"#B690C4\",\"pattern\":{\"shape\":\"\"}},\"name\":\"2\",\"offsetgroup\":\"2\",\"orientation\":\"v\",\"showlegend\":true,\"textposition\":\"auto\",\"x\":[\"2017-11-30T00:00:00\"],\"xaxis\":\"x\",\"y\":[507.09],\"yaxis\":\"y\",\"type\":\"bar\",\"hoverlabel\":{\"bgcolor\":\"white\"},\"textfont\":{\"family\":\"Segoe UI\",\"size\":14}},{\"alignmentgroup\":\"True\",\"customdata\":[[\"= 1\"],[\"= 1\"]],\"hovertemplate\":\"x = %{x}\\u003cbr\\u003ey = %{y:.4s}color = %{data.name}\\u003cbr\\u003e\\u0420\\u0430\\u0437\\u043c\\u0435\\u0440 \\u0433\\u0440\\u0443\\u043f\\u043f\\u044b %{customdata[0]}\\u003cextra\\u003e\\u003c\\u002fextra\\u003e\",\"legendgroup\":\"5\",\"marker\":{\"color\":\"rgba(17, 100, 120, 0.9)\",\"pattern\":{\"shape\":\"\"}},\"name\":\"5\",\"offsetgroup\":\"5\",\"orientation\":\"v\",\"showlegend\":true,\"textposition\":\"auto\",\"x\":[\"2017-11-30T00:00:00\",\"2018-03-31T00:00:00\"],\"xaxis\":\"x\",\"y\":[719.22,0.7],\"yaxis\":\"y\",\"type\":\"bar\",\"hoverlabel\":{\"bgcolor\":\"white\"},\"textfont\":{\"family\":\"Segoe UI\",\"size\":14}}],                        {\"template\":{\"data\":{\"barpolar\":[{\"marker\":{\"line\":{\"color\":\"white\",\"width\":0.5},\"pattern\":{\"fillmode\":\"overlay\",\"size\":10,\"solidity\":0.2}},\"type\":\"barpolar\"}],\"bar\":[{\"error_x\":{\"color\":\"rgb(36,36,36)\"},\"error_y\":{\"color\":\"rgb(36,36,36)\"},\"marker\":{\"line\":{\"color\":\"white\",\"width\":0.5},\"pattern\":{\"fillmode\":\"overlay\",\"size\":10,\"solidity\":0.2}},\"type\":\"bar\"}],\"carpet\":[{\"aaxis\":{\"endlinecolor\":\"rgb(36,36,36)\",\"gridcolor\":\"white\",\"linecolor\":\"white\",\"minorgridcolor\":\"white\",\"startlinecolor\":\"rgb(36,36,36)\"},\"baxis\":{\"endlinecolor\":\"rgb(36,36,36)\",\"gridcolor\":\"white\",\"linecolor\":\"white\",\"minorgridcolor\":\"white\",\"startlinecolor\":\"rgb(36,36,36)\"},\"type\":\"carpet\"}],\"choropleth\":[{\"colorbar\":{\"outlinewidth\":1,\"tickcolor\":\"rgb(36,36,36)\",\"ticks\":\"outside\"},\"type\":\"choropleth\"}],\"contourcarpet\":[{\"colorbar\":{\"outlinewidth\":1,\"tickcolor\":\"rgb(36,36,36)\",\"ticks\":\"outside\"},\"type\":\"contourcarpet\"}],\"contour\":[{\"colorbar\":{\"outlinewidth\":1,\"tickcolor\":\"rgb(36,36,36)\",\"ticks\":\"outside\"},\"colorscale\":[[0.0,\"#440154\"],[0.1111111111111111,\"#482878\"],[0.2222222222222222,\"#3e4989\"],[0.3333333333333333,\"#31688e\"],[0.4444444444444444,\"#26828e\"],[0.5555555555555556,\"#1f9e89\"],[0.6666666666666666,\"#35b779\"],[0.7777777777777778,\"#6ece58\"],[0.8888888888888888,\"#b5de2b\"],[1.0,\"#fde725\"]],\"type\":\"contour\"}],\"heatmapgl\":[{\"colorbar\":{\"outlinewidth\":1,\"tickcolor\":\"rgb(36,36,36)\",\"ticks\":\"outside\"},\"colorscale\":[[0.0,\"#440154\"],[0.1111111111111111,\"#482878\"],[0.2222222222222222,\"#3e4989\"],[0.3333333333333333,\"#31688e\"],[0.4444444444444444,\"#26828e\"],[0.5555555555555556,\"#1f9e89\"],[0.6666666666666666,\"#35b779\"],[0.7777777777777778,\"#6ece58\"],[0.8888888888888888,\"#b5de2b\"],[1.0,\"#fde725\"]],\"type\":\"heatmapgl\"}],\"heatmap\":[{\"colorbar\":{\"outlinewidth\":1,\"tickcolor\":\"rgb(36,36,36)\",\"ticks\":\"outside\"},\"colorscale\":[[0.0,\"#440154\"],[0.1111111111111111,\"#482878\"],[0.2222222222222222,\"#3e4989\"],[0.3333333333333333,\"#31688e\"],[0.4444444444444444,\"#26828e\"],[0.5555555555555556,\"#1f9e89\"],[0.6666666666666666,\"#35b779\"],[0.7777777777777778,\"#6ece58\"],[0.8888888888888888,\"#b5de2b\"],[1.0,\"#fde725\"]],\"type\":\"heatmap\"}],\"histogram2dcontour\":[{\"colorbar\":{\"outlinewidth\":1,\"tickcolor\":\"rgb(36,36,36)\",\"ticks\":\"outside\"},\"colorscale\":[[0.0,\"#440154\"],[0.1111111111111111,\"#482878\"],[0.2222222222222222,\"#3e4989\"],[0.3333333333333333,\"#31688e\"],[0.4444444444444444,\"#26828e\"],[0.5555555555555556,\"#1f9e89\"],[0.6666666666666666,\"#35b779\"],[0.7777777777777778,\"#6ece58\"],[0.8888888888888888,\"#b5de2b\"],[1.0,\"#fde725\"]],\"type\":\"histogram2dcontour\"}],\"histogram2d\":[{\"colorbar\":{\"outlinewidth\":1,\"tickcolor\":\"rgb(36,36,36)\",\"ticks\":\"outside\"},\"colorscale\":[[0.0,\"#440154\"],[0.1111111111111111,\"#482878\"],[0.2222222222222222,\"#3e4989\"],[0.3333333333333333,\"#31688e\"],[0.4444444444444444,\"#26828e\"],[0.5555555555555556,\"#1f9e89\"],[0.6666666666666666,\"#35b779\"],[0.7777777777777778,\"#6ece58\"],[0.8888888888888888,\"#b5de2b\"],[1.0,\"#fde725\"]],\"type\":\"histogram2d\"}],\"histogram\":[{\"marker\":{\"line\":{\"color\":\"white\",\"width\":0.6}},\"type\":\"histogram\"}],\"mesh3d\":[{\"colorbar\":{\"outlinewidth\":1,\"tickcolor\":\"rgb(36,36,36)\",\"ticks\":\"outside\"},\"type\":\"mesh3d\"}],\"parcoords\":[{\"line\":{\"colorbar\":{\"outlinewidth\":1,\"tickcolor\":\"rgb(36,36,36)\",\"ticks\":\"outside\"}},\"type\":\"parcoords\"}],\"pie\":[{\"automargin\":true,\"type\":\"pie\"}],\"scatter3d\":[{\"line\":{\"colorbar\":{\"outlinewidth\":1,\"tickcolor\":\"rgb(36,36,36)\",\"ticks\":\"outside\"}},\"marker\":{\"colorbar\":{\"outlinewidth\":1,\"tickcolor\":\"rgb(36,36,36)\",\"ticks\":\"outside\"}},\"type\":\"scatter3d\"}],\"scattercarpet\":[{\"marker\":{\"colorbar\":{\"outlinewidth\":1,\"tickcolor\":\"rgb(36,36,36)\",\"ticks\":\"outside\"}},\"type\":\"scattercarpet\"}],\"scattergeo\":[{\"marker\":{\"colorbar\":{\"outlinewidth\":1,\"tickcolor\":\"rgb(36,36,36)\",\"ticks\":\"outside\"}},\"type\":\"scattergeo\"}],\"scattergl\":[{\"marker\":{\"colorbar\":{\"outlinewidth\":1,\"tickcolor\":\"rgb(36,36,36)\",\"ticks\":\"outside\"}},\"type\":\"scattergl\"}],\"scattermapbox\":[{\"marker\":{\"colorbar\":{\"outlinewidth\":1,\"tickcolor\":\"rgb(36,36,36)\",\"ticks\":\"outside\"}},\"type\":\"scattermapbox\"}],\"scatterpolargl\":[{\"marker\":{\"colorbar\":{\"outlinewidth\":1,\"tickcolor\":\"rgb(36,36,36)\",\"ticks\":\"outside\"}},\"type\":\"scatterpolargl\"}],\"scatterpolar\":[{\"marker\":{\"colorbar\":{\"outlinewidth\":1,\"tickcolor\":\"rgb(36,36,36)\",\"ticks\":\"outside\"}},\"type\":\"scatterpolar\"}],\"scatter\":[{\"fillpattern\":{\"fillmode\":\"overlay\",\"size\":10,\"solidity\":0.2},\"type\":\"scatter\"}],\"scatterternary\":[{\"marker\":{\"colorbar\":{\"outlinewidth\":1,\"tickcolor\":\"rgb(36,36,36)\",\"ticks\":\"outside\"}},\"type\":\"scatterternary\"}],\"surface\":[{\"colorbar\":{\"outlinewidth\":1,\"tickcolor\":\"rgb(36,36,36)\",\"ticks\":\"outside\"},\"colorscale\":[[0.0,\"#440154\"],[0.1111111111111111,\"#482878\"],[0.2222222222222222,\"#3e4989\"],[0.3333333333333333,\"#31688e\"],[0.4444444444444444,\"#26828e\"],[0.5555555555555556,\"#1f9e89\"],[0.6666666666666666,\"#35b779\"],[0.7777777777777778,\"#6ece58\"],[0.8888888888888888,\"#b5de2b\"],[1.0,\"#fde725\"]],\"type\":\"surface\"}],\"table\":[{\"cells\":{\"fill\":{\"color\":\"rgb(237,237,237)\"},\"line\":{\"color\":\"white\"}},\"header\":{\"fill\":{\"color\":\"rgb(217,217,217)\"},\"line\":{\"color\":\"white\"}},\"type\":\"table\"}]},\"layout\":{\"annotationdefaults\":{\"arrowhead\":0,\"arrowwidth\":1},\"autotypenumbers\":\"strict\",\"coloraxis\":{\"colorbar\":{\"outlinewidth\":1,\"tickcolor\":\"rgb(36,36,36)\",\"ticks\":\"outside\"}},\"colorscale\":{\"diverging\":[[0.0,\"rgb(103,0,31)\"],[0.1,\"rgb(178,24,43)\"],[0.2,\"rgb(214,96,77)\"],[0.3,\"rgb(244,165,130)\"],[0.4,\"rgb(253,219,199)\"],[0.5,\"rgb(247,247,247)\"],[0.6,\"rgb(209,229,240)\"],[0.7,\"rgb(146,197,222)\"],[0.8,\"rgb(67,147,195)\"],[0.9,\"rgb(33,102,172)\"],[1.0,\"rgb(5,48,97)\"]],\"sequential\":[[0.0,\"#440154\"],[0.1111111111111111,\"#482878\"],[0.2222222222222222,\"#3e4989\"],[0.3333333333333333,\"#31688e\"],[0.4444444444444444,\"#26828e\"],[0.5555555555555556,\"#1f9e89\"],[0.6666666666666666,\"#35b779\"],[0.7777777777777778,\"#6ece58\"],[0.8888888888888888,\"#b5de2b\"],[1.0,\"#fde725\"]],\"sequentialminus\":[[0.0,\"#440154\"],[0.1111111111111111,\"#482878\"],[0.2222222222222222,\"#3e4989\"],[0.3333333333333333,\"#31688e\"],[0.4444444444444444,\"#26828e\"],[0.5555555555555556,\"#1f9e89\"],[0.6666666666666666,\"#35b779\"],[0.7777777777777778,\"#6ece58\"],[0.8888888888888888,\"#b5de2b\"],[1.0,\"#fde725\"]]},\"colorway\":[\"#1F77B4\",\"#FF7F0E\",\"#2CA02C\",\"#D62728\",\"#9467BD\",\"#8C564B\",\"#E377C2\",\"#7F7F7F\",\"#BCBD22\",\"#17BECF\"],\"font\":{\"color\":\"rgb(36,36,36)\"},\"geo\":{\"bgcolor\":\"white\",\"lakecolor\":\"white\",\"landcolor\":\"white\",\"showlakes\":true,\"showland\":true,\"subunitcolor\":\"white\"},\"hoverlabel\":{\"align\":\"left\"},\"hovermode\":\"closest\",\"mapbox\":{\"style\":\"light\"},\"paper_bgcolor\":\"white\",\"plot_bgcolor\":\"white\",\"polar\":{\"angularaxis\":{\"gridcolor\":\"rgb(232,232,232)\",\"linecolor\":\"rgb(36,36,36)\",\"showgrid\":false,\"showline\":true,\"ticks\":\"outside\"},\"bgcolor\":\"white\",\"radialaxis\":{\"gridcolor\":\"rgb(232,232,232)\",\"linecolor\":\"rgb(36,36,36)\",\"showgrid\":false,\"showline\":true,\"ticks\":\"outside\"}},\"scene\":{\"xaxis\":{\"backgroundcolor\":\"white\",\"gridcolor\":\"rgb(232,232,232)\",\"gridwidth\":2,\"linecolor\":\"rgb(36,36,36)\",\"showbackground\":true,\"showgrid\":false,\"showline\":true,\"ticks\":\"outside\",\"zeroline\":false,\"zerolinecolor\":\"rgb(36,36,36)\"},\"yaxis\":{\"backgroundcolor\":\"white\",\"gridcolor\":\"rgb(232,232,232)\",\"gridwidth\":2,\"linecolor\":\"rgb(36,36,36)\",\"showbackground\":true,\"showgrid\":false,\"showline\":true,\"ticks\":\"outside\",\"zeroline\":false,\"zerolinecolor\":\"rgb(36,36,36)\"},\"zaxis\":{\"backgroundcolor\":\"white\",\"gridcolor\":\"rgb(232,232,232)\",\"gridwidth\":2,\"linecolor\":\"rgb(36,36,36)\",\"showbackground\":true,\"showgrid\":false,\"showline\":true,\"ticks\":\"outside\",\"zeroline\":false,\"zerolinecolor\":\"rgb(36,36,36)\"}},\"shapedefaults\":{\"fillcolor\":\"black\",\"line\":{\"width\":0},\"opacity\":0.3},\"ternary\":{\"aaxis\":{\"gridcolor\":\"rgb(232,232,232)\",\"linecolor\":\"rgb(36,36,36)\",\"showgrid\":false,\"showline\":true,\"ticks\":\"outside\"},\"baxis\":{\"gridcolor\":\"rgb(232,232,232)\",\"linecolor\":\"rgb(36,36,36)\",\"showgrid\":false,\"showline\":true,\"ticks\":\"outside\"},\"bgcolor\":\"white\",\"caxis\":{\"gridcolor\":\"rgb(232,232,232)\",\"linecolor\":\"rgb(36,36,36)\",\"showgrid\":false,\"showline\":true,\"ticks\":\"outside\"}},\"title\":{\"x\":0.05},\"xaxis\":{\"automargin\":true,\"gridcolor\":\"rgb(232,232,232)\",\"linecolor\":\"rgb(36,36,36)\",\"showgrid\":false,\"showline\":true,\"ticks\":\"outside\",\"title\":{\"standoff\":15},\"zeroline\":false,\"zerolinecolor\":\"rgb(36,36,36)\"},\"yaxis\":{\"automargin\":true,\"gridcolor\":\"rgb(232,232,232)\",\"linecolor\":\"rgb(36,36,36)\",\"showgrid\":false,\"showline\":true,\"ticks\":\"outside\",\"title\":{\"standoff\":15},\"zeroline\":false,\"zerolinecolor\":\"rgb(36,36,36)\"}}},\"xaxis\":{\"anchor\":\"y\",\"domain\":[0.0,1.0],\"title\":{\"font\":{\"size\":14,\"color\":\"rgba(0, 0, 0, 0.7)\"},\"text\":\"\\u041c\\u0435\\u0441\\u044f\\u0446 \\u0438 \\u0433\\u043e\\u0434\"},\"tickfont\":{\"size\":14,\"color\":\"rgba(0, 0, 0, 0.7)\"},\"linecolor\":\"rgba(0, 0, 0, 0.4)\",\"tickcolor\":\"rgba(0, 0, 0, 0.4)\",\"visible\":true,\"showgrid\":true,\"gridwidth\":1,\"gridcolor\":\"rgba(0, 0, 0, 0.1)\"},\"yaxis\":{\"anchor\":\"x\",\"domain\":[0.0,1.0],\"title\":{\"font\":{\"size\":14,\"color\":\"rgba(0, 0, 0, 0.7)\"},\"text\":\"\\u0421\\u0442\\u043e\\u0438\\u043c\\u043e\\u0441\\u0442\\u044c \\u0440\\u0435\\u043a\\u043b\\u0430\\u043c\\u043d\\u043e\\u0439\\u043a\\u043e\\u043c\\u043f\\u0430\\u043d\\u0438\\u0438\"},\"tickfont\":{\"size\":14,\"color\":\"rgba(0, 0, 0, 0.7)\"},\"linecolor\":\"rgba(0, 0, 0, 0.4)\",\"tickcolor\":\"rgba(0, 0, 0, 0.4)\",\"visible\":true,\"showgrid\":true,\"gridwidth\":1,\"gridcolor\":\"rgba(0, 0, 0, 0.07)\"},\"legend\":{\"title\":{\"font\":{\"color\":\"rgba(0, 0, 0, 0.7)\",\"size\":14},\"text\":\"\\u041a\\u043e\\u043c\\u043f\\u0430\\u043d\\u043d\\u0438\\u044f\"},\"tracegroupgap\":0,\"font\":{\"color\":\"rgba(0, 0, 0, 0.7)\"},\"orientation\":\"h\",\"yanchor\":\"top\",\"y\":1.05,\"xanchor\":\"center\",\"x\":0.5},\"margin\":{\"t\":70,\"l\":50,\"r\":50,\"b\":50},\"barmode\":\"group\",\"title\":{\"font\":{\"size\":16,\"color\":\"rgba(0, 0, 0, 0.7)\"},\"text\":\"\\u0421\\u0443\\u043c\\u043c\\u0430\\u0440\\u043d\\u0430\\u044f \\u0441\\u0442\\u043e\\u0438\\u043c\\u043e\\u0441\\u0442\\u044c \\u0440\\u0435\\u043a\\u043b\\u0430\\u043c\\u043d\\u043e\\u0439 \\u043a\\u043e\\u043c\\u043f\\u0430\\u043d\\u0438\\u0438 \\u0432 \\u0437\\u0430\\u0432\\u0438\\u0441\\u0438\\u043c\\u043e\\u0441\\u0442\\u0438 \\u043e\\u0442 \\u043c\\u0435\\u0441\\u044f\\u0446\\u0430\"},\"font\":{\"size\":14,\"family\":\"Segoe UI\",\"color\":\"rgba(0, 0, 0, 0.7)\"},\"hoverlabel\":{\"bgcolor\":\"white\"},\"width\":1000,\"height\":450},                        {\"responsive\": true}                    ).then(function(){\n",
       "                            \n",
       "var gd = document.getElementById('6a9717b3-3527-4107-90dd-5a2ccaaae812');\n",
       "var x = new MutationObserver(function (mutations, observer) {{\n",
       "        var display = window.getComputedStyle(gd).display;\n",
       "        if (!display || display === 'none') {{\n",
       "            console.log([gd, 'removed!']);\n",
       "            Plotly.purge(gd);\n",
       "            observer.disconnect();\n",
       "        }}\n",
       "}});\n",
       "\n",
       "// Listen for the removal of the full notebook cells\n",
       "var notebookContainer = gd.closest('#notebook-container');\n",
       "if (notebookContainer) {{\n",
       "    x.observe(notebookContainer, {childList: true});\n",
       "}}\n",
       "\n",
       "// Listen for the clearing of the current output cell\n",
       "var outputEl = gd.closest('.output');\n",
       "if (outputEl) {{\n",
       "    x.observe(outputEl, {childList: true});\n",
       "}}\n",
       "\n",
       "                        })                };                });            </script>        </div>"
      ]
     },
     "metadata": {},
     "output_type": "display_data"
    }
   ],
   "source": [
    "config = dict(\n",
    "    df = outliers_by_month\n",
    "    , x = 'promo_date'\n",
    "    , y = 'promo_costs'  \n",
    "    , category = 'source_id'\n",
    "    , barmode = 'group'\n",
    "    , orientation = 'v'\n",
    "    , func = 'sum'\n",
    "    , xaxis_show = True\n",
    "    , yaxis_show = True\n",
    "    , showgrid_x = False\n",
    "    , showgrid_y = True      \n",
    "    , sort = True    \n",
    "    , sort_axis = False    \n",
    "    , sort_legend = True      \n",
    "    , width = 1000\n",
    "    , height = 450                                                                                                                         \n",
    ")\n",
    "fig = pagri_data_tools.bar(config)\n",
    "fig = pagri_data_tools.plotly_default_settings(fig)\n",
    "fig.update_layout(\n",
    "    title_text = 'Суммарная стоимость рекламной компании в зависимости от месяца'\n",
    "    , yaxis_title_text = 'Стоимость рекламнойкомпании'\n",
    "    , xaxis_title_text = 'Месяц и год'\n",
    "    , legend_title_text = 'Компанния'\n",
    ")"
   ]
  },
  {
   "cell_type": "markdown",
   "metadata": {},
   "source": [
    "**Наблюдения:**  \n",
    "\n",
    "- Боьше всего суммарные расходы в выбросах у компании с id 3.\n",
    "- С ноября 2017 по март 2018 тратилось много денег на компаню с id 3."
   ]
  },
  {
   "cell_type": "markdown",
   "metadata": {},
   "source": [
    "Посмотрим на выбросы в разрезе компаний."
   ]
  },
  {
   "cell_type": "code",
   "execution_count": 123,
   "metadata": {},
   "outputs": [
    {
     "data": {
      "text/html": [
       "<style type=\"text/css\">\n",
       "#T_6262a caption {\n",
       "  font-size: 18px;\n",
       "  text-align: left;\n",
       "  font-weight: bold;\n",
       "}\n",
       "</style>\n",
       "<table id=\"T_6262a\">\n",
       "  <caption>Share in \"promo_costs\" by category \"source_id\"</caption>\n",
       "  <thead>\n",
       "    <tr>\n",
       "      <th id=\"T_6262a_level0_col0\" class=\"col_heading level0 col0\" >source_id</th>\n",
       "      <th id=\"T_6262a_level0_col1\" class=\"col_heading level0 col1\" >total</th>\n",
       "      <th id=\"T_6262a_level0_col2\" class=\"col_heading level0 col2\" >count</th>\n",
       "      <th id=\"T_6262a_level0_col3\" class=\"col_heading level0 col3\" >count_in_total_pct</th>\n",
       "      <th id=\"T_6262a_level0_col4\" class=\"col_heading level0 col4\" >count_in_sum_count_pct</th>\n",
       "      <th id=\"T_6262a_level0_col5\" class=\"col_heading level0 col5\" >total_in_sum_total_pct</th>\n",
       "      <th id=\"T_6262a_level0_col6\" class=\"col_heading level0 col6\" >diff_sum_pct</th>\n",
       "    </tr>\n",
       "  </thead>\n",
       "  <tbody>\n",
       "    <tr>\n",
       "      <td id=\"T_6262a_row0_col0\" class=\"data row0 col0\" >1</td>\n",
       "      <td id=\"T_6262a_row0_col1\" class=\"data row0 col1\" >363</td>\n",
       "      <td id=\"T_6262a_row0_col2\" class=\"data row0 col2\" >2</td>\n",
       "      <td id=\"T_6262a_row0_col3\" class=\"data row0 col3\" >0.6%</td>\n",
       "      <td id=\"T_6262a_row0_col4\" class=\"data row0 col4\" >0.8%</td>\n",
       "      <td id=\"T_6262a_row0_col5\" class=\"data row0 col5\" >14.3%</td>\n",
       "      <td id=\"T_6262a_row0_col6\" class=\"data row0 col6\" >-13.5%</td>\n",
       "    </tr>\n",
       "    <tr>\n",
       "      <td id=\"T_6262a_row1_col0\" class=\"data row1 col0\" >10</td>\n",
       "      <td id=\"T_6262a_row1_col1\" class=\"data row1 col1\" >363</td>\n",
       "      <td id=\"T_6262a_row1_col2\" class=\"data row1 col2\" >70</td>\n",
       "      <td id=\"T_6262a_row1_col3\" class=\"data row1 col3\" >19.3%</td>\n",
       "      <td id=\"T_6262a_row1_col4\" class=\"data row1 col4\" >27.3%</td>\n",
       "      <td id=\"T_6262a_row1_col5\" class=\"data row1 col5\" >14.3%</td>\n",
       "      <td id=\"T_6262a_row1_col6\" class=\"data row1 col6\" >13.1%</td>\n",
       "    </tr>\n",
       "    <tr>\n",
       "      <td id=\"T_6262a_row2_col0\" class=\"data row2 col0\" >2</td>\n",
       "      <td id=\"T_6262a_row2_col1\" class=\"data row2 col1\" >363</td>\n",
       "      <td id=\"T_6262a_row2_col2\" class=\"data row2 col2\" >1</td>\n",
       "      <td id=\"T_6262a_row2_col3\" class=\"data row2 col3\" >0.3%</td>\n",
       "      <td id=\"T_6262a_row2_col4\" class=\"data row2 col4\" >0.4%</td>\n",
       "      <td id=\"T_6262a_row2_col5\" class=\"data row2 col5\" >14.3%</td>\n",
       "      <td id=\"T_6262a_row2_col6\" class=\"data row2 col6\" >-13.9%</td>\n",
       "    </tr>\n",
       "    <tr>\n",
       "      <td id=\"T_6262a_row3_col0\" class=\"data row3 col0\" >3</td>\n",
       "      <td id=\"T_6262a_row3_col1\" class=\"data row3 col1\" >363</td>\n",
       "      <td id=\"T_6262a_row3_col2\" class=\"data row3 col2\" >113</td>\n",
       "      <td id=\"T_6262a_row3_col3\" class=\"data row3 col3\" >31.1%</td>\n",
       "      <td id=\"T_6262a_row3_col4\" class=\"data row3 col4\" >44.1%</td>\n",
       "      <td id=\"T_6262a_row3_col5\" class=\"data row3 col5\" >14.3%</td>\n",
       "      <td id=\"T_6262a_row3_col6\" class=\"data row3 col6\" >29.9%</td>\n",
       "    </tr>\n",
       "    <tr>\n",
       "      <td id=\"T_6262a_row4_col0\" class=\"data row4 col0\" >4</td>\n",
       "      <td id=\"T_6262a_row4_col1\" class=\"data row4 col1\" >363</td>\n",
       "      <td id=\"T_6262a_row4_col2\" class=\"data row4 col2\" >25</td>\n",
       "      <td id=\"T_6262a_row4_col3\" class=\"data row4 col3\" >6.9%</td>\n",
       "      <td id=\"T_6262a_row4_col4\" class=\"data row4 col4\" >9.8%</td>\n",
       "      <td id=\"T_6262a_row4_col5\" class=\"data row4 col5\" >14.3%</td>\n",
       "      <td id=\"T_6262a_row4_col6\" class=\"data row4 col6\" >-4.5%</td>\n",
       "    </tr>\n",
       "    <tr>\n",
       "      <td id=\"T_6262a_row5_col0\" class=\"data row5 col0\" >5</td>\n",
       "      <td id=\"T_6262a_row5_col1\" class=\"data row5 col1\" >364</td>\n",
       "      <td id=\"T_6262a_row5_col2\" class=\"data row5 col2\" >2</td>\n",
       "      <td id=\"T_6262a_row5_col3\" class=\"data row5 col3\" >0.5%</td>\n",
       "      <td id=\"T_6262a_row5_col4\" class=\"data row5 col4\" >0.8%</td>\n",
       "      <td id=\"T_6262a_row5_col5\" class=\"data row5 col5\" >14.3%</td>\n",
       "      <td id=\"T_6262a_row5_col6\" class=\"data row5 col6\" >-13.5%</td>\n",
       "    </tr>\n",
       "    <tr>\n",
       "      <td id=\"T_6262a_row6_col0\" class=\"data row6 col0\" >9</td>\n",
       "      <td id=\"T_6262a_row6_col1\" class=\"data row6 col1\" >363</td>\n",
       "      <td id=\"T_6262a_row6_col2\" class=\"data row6 col2\" >43</td>\n",
       "      <td id=\"T_6262a_row6_col3\" class=\"data row6 col3\" >11.8%</td>\n",
       "      <td id=\"T_6262a_row6_col4\" class=\"data row6 col4\" >16.8%</td>\n",
       "      <td id=\"T_6262a_row6_col5\" class=\"data row6 col5\" >14.3%</td>\n",
       "      <td id=\"T_6262a_row6_col6\" class=\"data row6 col6\" >2.5%</td>\n",
       "    </tr>\n",
       "  </tbody>\n",
       "</table>\n"
      ],
      "text/plain": [
       "<pandas.io.formats.style.Styler at 0x752d102504a0>"
      ]
     },
     "metadata": {},
     "output_type": "display_data"
    }
   ],
   "source": [
    "pagri_data_tools.analyze_anomaly_by_category(df, series_outliers, \"by_category\", \"promo_costs\", \"source_id\")"
   ]
  },
  {
   "cell_type": "markdown",
   "metadata": {},
   "source": [
    "**Наблюдения:**\n",
    "- Рекламная. компания с id 3 имеет больше выбросов в расходах, чем другие компании. Также много выбросов в расходах у компании с id 10, но меньше"
   ]
  },
  {
   "cell_type": "markdown",
   "metadata": {},
   "source": [
    "#### Изучение отрицательных значений\n"
   ]
  },
  {
   "cell_type": "markdown",
   "metadata": {},
   "source": [
    "Изучим отрицательные значения в каждом столбце."
   ]
  },
  {
   "cell_type": "code",
   "execution_count": 124,
   "metadata": {},
   "outputs": [
    {
     "name": "stdout",
     "output_type": "stream",
     "text": [
      "There are no negative values\n"
     ]
    }
   ],
   "source": [
    "series_negative = pagri_data_tools.find_columns_with_negative_values(df_visits)"
   ]
  },
  {
   "cell_type": "code",
   "execution_count": 125,
   "metadata": {},
   "outputs": [
    {
     "name": "stdout",
     "output_type": "stream",
     "text": [
      "There are no negative values\n"
     ]
    }
   ],
   "source": [
    "series_negative = pagri_data_tools.find_columns_with_negative_values(df_orders)"
   ]
  },
  {
   "cell_type": "code",
   "execution_count": 126,
   "metadata": {},
   "outputs": [
    {
     "name": "stdout",
     "output_type": "stream",
     "text": [
      "There are no negative values\n"
     ]
    }
   ],
   "source": [
    "series_negative = pagri_data_tools.find_columns_with_negative_values(df_costs)"
   ]
  },
  {
   "cell_type": "markdown",
   "metadata": {},
   "source": [
    "Отрицательные значения не обнаружены"
   ]
  },
  {
   "cell_type": "markdown",
   "metadata": {},
   "source": [
    "#### Изучение нулевых значений\n"
   ]
  },
  {
   "cell_type": "markdown",
   "metadata": {},
   "source": [
    "Изучим нулевые значения в каждом столбце."
   ]
  },
  {
   "cell_type": "code",
   "execution_count": 127,
   "metadata": {},
   "outputs": [
    {
     "name": "stdout",
     "output_type": "stream",
     "text": [
      "There are no zeros values\n"
     ]
    }
   ],
   "source": [
    "series_negative = pagri_data_tools.find_columns_with_zeros_values(df_visits)"
   ]
  },
  {
   "cell_type": "code",
   "execution_count": 128,
   "metadata": {},
   "outputs": [
    {
     "data": {
      "text/html": [
       "<style type=\"text/css\">\n",
       "#T_1fd77 caption {\n",
       "  font-size: 18px;\n",
       "  text-align: left;\n",
       "  font-weight: bold;\n",
       "}\n",
       "</style>\n",
       "<table id=\"T_1fd77\">\n",
       "  <caption>Zeros</caption>\n",
       "  <thead>\n",
       "  </thead>\n",
       "  <tbody>\n",
       "    <tr>\n",
       "      <th id=\"T_1fd77_level0_row0\" class=\"row_heading level0 row0\" >revenue</th>\n",
       "      <td id=\"T_1fd77_row0_col0\" class=\"data row0 col0\" >51 (0.10%)</td>\n",
       "    </tr>\n",
       "  </tbody>\n",
       "</table>\n"
      ],
      "text/plain": [
       "<pandas.io.formats.style.Styler at 0x752d102ab020>"
      ]
     },
     "metadata": {},
     "output_type": "display_data"
    }
   ],
   "source": [
    "series_negative = pagri_data_tools.find_columns_with_zeros_values(df_orders)"
   ]
  },
  {
   "cell_type": "markdown",
   "metadata": {},
   "source": [
    "Посмотрим на нули в стоимости заказа"
   ]
  },
  {
   "cell_type": "code",
   "execution_count": 129,
   "metadata": {},
   "outputs": [
    {
     "data": {
      "text/html": [
       "<div>\n",
       "<style scoped>\n",
       "    .dataframe tbody tr th:only-of-type {\n",
       "        vertical-align: middle;\n",
       "    }\n",
       "\n",
       "    .dataframe tbody tr th {\n",
       "        vertical-align: top;\n",
       "    }\n",
       "\n",
       "    .dataframe thead th {\n",
       "        text-align: right;\n",
       "    }\n",
       "</style>\n",
       "<table border=\"1\" class=\"dataframe\">\n",
       "  <thead>\n",
       "    <tr style=\"text-align: right;\">\n",
       "      <th></th>\n",
       "      <th>order_dt</th>\n",
       "      <th>revenue</th>\n",
       "      <th>uid</th>\n",
       "    </tr>\n",
       "  </thead>\n",
       "  <tbody>\n",
       "    <tr>\n",
       "      <th>1802</th>\n",
       "      <td>2017-06-22 18:19:00</td>\n",
       "      <td>0.00</td>\n",
       "      <td>17030528792926543083</td>\n",
       "    </tr>\n",
       "    <tr>\n",
       "      <th>2787</th>\n",
       "      <td>2017-07-07 15:54:00</td>\n",
       "      <td>0.00</td>\n",
       "      <td>10281425020415612933</td>\n",
       "    </tr>\n",
       "    <tr>\n",
       "      <th>4783</th>\n",
       "      <td>2017-08-02 14:54:00</td>\n",
       "      <td>0.00</td>\n",
       "      <td>184148767273119549</td>\n",
       "    </tr>\n",
       "    <tr>\n",
       "      <th>5095</th>\n",
       "      <td>2017-08-09 14:48:00</td>\n",
       "      <td>0.00</td>\n",
       "      <td>5603453646174104178</td>\n",
       "    </tr>\n",
       "    <tr>\n",
       "      <th>5863</th>\n",
       "      <td>2017-08-23 13:43:00</td>\n",
       "      <td>0.00</td>\n",
       "      <td>5603453646174104178</td>\n",
       "    </tr>\n",
       "  </tbody>\n",
       "</table>\n",
       "</div>"
      ],
      "text/plain": [
       "                order_dt  revenue                   uid\n",
       "1802 2017-06-22 18:19:00     0.00  17030528792926543083\n",
       "2787 2017-07-07 15:54:00     0.00  10281425020415612933\n",
       "4783 2017-08-02 14:54:00     0.00    184148767273119549\n",
       "5095 2017-08-09 14:48:00     0.00   5603453646174104178\n",
       "5863 2017-08-23 13:43:00     0.00   5603453646174104178"
      ]
     },
     "execution_count": 129,
     "metadata": {},
     "output_type": "execute_result"
    }
   ],
   "source": [
    "series_negative.revenue.head()"
   ]
  },
  {
   "cell_type": "markdown",
   "metadata": {},
   "source": [
    "Посмотрим есть ли зависимость от пользователей"
   ]
  },
  {
   "cell_type": "code",
   "execution_count": 130,
   "metadata": {},
   "outputs": [
    {
     "data": {
      "text/html": [
       "<div>\n",
       "<style scoped>\n",
       "    .dataframe tbody tr th:only-of-type {\n",
       "        vertical-align: middle;\n",
       "    }\n",
       "\n",
       "    .dataframe tbody tr th {\n",
       "        vertical-align: top;\n",
       "    }\n",
       "\n",
       "    .dataframe thead th {\n",
       "        text-align: right;\n",
       "    }\n",
       "</style>\n",
       "<table border=\"1\" class=\"dataframe\">\n",
       "  <thead>\n",
       "    <tr style=\"text-align: right;\">\n",
       "      <th></th>\n",
       "      <th>revenue</th>\n",
       "    </tr>\n",
       "    <tr>\n",
       "      <th>uid</th>\n",
       "      <th></th>\n",
       "    </tr>\n",
       "  </thead>\n",
       "  <tbody>\n",
       "    <tr>\n",
       "      <th>2037345392173160982</th>\n",
       "      <td>12</td>\n",
       "    </tr>\n",
       "    <tr>\n",
       "      <th>5603453646174104178</th>\n",
       "      <td>6</td>\n",
       "    </tr>\n",
       "    <tr>\n",
       "      <th>8277558335454815700</th>\n",
       "      <td>6</td>\n",
       "    </tr>\n",
       "    <tr>\n",
       "      <th>4927261749585088199</th>\n",
       "      <td>4</td>\n",
       "    </tr>\n",
       "    <tr>\n",
       "      <th>5570343171257035973</th>\n",
       "      <td>4</td>\n",
       "    </tr>\n",
       "    <tr>\n",
       "      <th>2883839899480223178</th>\n",
       "      <td>2</td>\n",
       "    </tr>\n",
       "    <tr>\n",
       "      <th>184148767273119549</th>\n",
       "      <td>1</td>\n",
       "    </tr>\n",
       "    <tr>\n",
       "      <th>10281425020415612933</th>\n",
       "      <td>1</td>\n",
       "    </tr>\n",
       "    <tr>\n",
       "      <th>15254206642996645755</th>\n",
       "      <td>1</td>\n",
       "    </tr>\n",
       "    <tr>\n",
       "      <th>14973814017160376581</th>\n",
       "      <td>1</td>\n",
       "    </tr>\n",
       "  </tbody>\n",
       "</table>\n",
       "</div>"
      ],
      "text/plain": [
       "                      revenue\n",
       "uid                          \n",
       "2037345392173160982        12\n",
       "5603453646174104178         6\n",
       "8277558335454815700         6\n",
       "4927261749585088199         4\n",
       "5570343171257035973         4\n",
       "2883839899480223178         2\n",
       "184148767273119549          1\n",
       "10281425020415612933        1\n",
       "15254206642996645755        1\n",
       "14973814017160376581        1"
      ]
     },
     "execution_count": 130,
     "metadata": {},
     "output_type": "execute_result"
    }
   ],
   "source": [
    "series_negative.revenue.groupby('uid')[['revenue']].count().sort_values('revenue', ascending=False).head(10)"
   ]
  },
  {
   "cell_type": "markdown",
   "metadata": {},
   "source": [
    "**Наблюдения:**  \n",
    "\n",
    "- У пользователя с id 2037345392173160982 больше всего нулей в стоимости заказа."
   ]
  },
  {
   "cell_type": "code",
   "execution_count": 131,
   "metadata": {},
   "outputs": [
    {
     "name": "stdout",
     "output_type": "stream",
     "text": [
      "There are no zeros values\n"
     ]
    }
   ],
   "source": [
    "series_negative = pagri_data_tools.find_columns_with_zeros_values(df_costs)"
   ]
  },
  {
   "cell_type": "markdown",
   "metadata": {},
   "source": [
    "### Промежуточный вывод\n"
   ]
  },
  {
   "cell_type": "markdown",
   "metadata": {},
   "source": [
    "- В столбце с суммой заказов 51 нулевое значение (меньше 1%)\n",
    "- В таблице с расходами на рекламные компании 7 уникальных рекламных  компаний, а в табице с посещениями сайтов 9.  \n",
    "Компании 6 и 7 отстутствуют в таблице с расходами на рекламные компании. Возможно это бесплатный трафик.\n",
    "- Сумма заказа в 2633.28 у.е. является выбросом\n",
    "- В расходах на рекламные компании значение 1788.28 у.е. является выбросом.\n",
    "- 2 пользователя (id 5539673724080479777 и 11149926373378902217) имеют намного болше суммы заказов, чем остальные. Скорее всего это оптовики или перекупы.\n",
    "- Для рекламной компании с id 3 были две очень крупные суммы расходов 2017-11-01 и 2017-12-11.\n",
    "- Процент выбросов в выручке меньше 10%, это указывает на то, что выбросов не слишком много.\n",
    "- Боьше всего суммарных выбросов в стоимости заказа было в декабре 2017 года\n",
    "- Процент выбросов в расходах на рекламные компании чуть больше 10%, это указывает на то, что выбросов не слишком много.\n",
    "- Боьше всего суммарные расходы в выбросах у компании с id 3.\n",
    "- С ноября 2017 по март 2018 тратилось много денег на компаню с id 3.\n",
    "- Рекламная. компания с id 3 имеет больше выбросов в расходах, чем другие компании. Также много выбросов в расходах у компании с id 10, но меньше\n",
    "- У пользователя с id 2037345392173160982 больше всего нулей в стоимости заказа.\n",
    "- В дате окончания сессии последняя дата попала на следующий месяц, нужно это учесть при расчете метрик.\n",
    "- В дате окончания сессии есть пропуски в днях, но совсем мало (меньше 1%)\n",
    "- В дате начала сессии есть пропуски в днях, но совсем мало (меньше 1%)\n",
    "- В таблице с логами о посещении сайта 63% уникльных пользователей.\n",
    "- Пользователей с девайсами desktop 73%, пользователей с девайсами touchpad 27%\n",
    "- В таблице визитов 9 униклальных источников перехода на сайт\n",
    "- Источники 6 и 7 очень редко встречаются\n",
    "- В дате заказа последняя дата попала на следующий месяц, нужно это учесть при расчете метрик.\n",
    "- В дате заказа есть пропущенные дни, но их мало (меньше 1%)\n",
    "- Сумма заказа варируется от 0 до 2633.28 у.е.\n",
    "- В основном заказы совершаются в диапазоне от 1.22 до 4.89 у.е.\n",
    "- В таблице с заказами 72% уникльных пользователей.\n",
    "- В таблице с расходами на рекламные компании есть попущенные дни, но их мало (меньше 1%)\n",
    "- Расходы на рекламные компании варьируются от 0.54 до 1788.28 у.е.\n",
    "- В основном расходы на рекламу лежат в диапазоне от 21.95 до 170.06 у.е."
   ]
  },
  {
   "cell_type": "markdown",
   "metadata": {},
   "source": [
    "## Предобработка данных\n"
   ]
  },
  {
   "cell_type": "markdown",
   "metadata": {},
   "source": [
    "### Предварительная фильтрация данных\n"
   ]
  },
  {
   "cell_type": "markdown",
   "metadata": {},
   "source": [
    "В дате окончания сессии и в дате заказа есть данные за июнь 2018 года.  \n",
    "Чтобы даты во всех таблицах имели одинаковые границы, обрежем дату в окончании сессии и дате заказа от 2017-06-01 до 2018-06-01."
   ]
  },
  {
   "cell_type": "code",
   "execution_count": 132,
   "metadata": {},
   "outputs": [],
   "source": [
    "df_visits = df_visits[(df_visits.session_end_dt > '2017-06-01') & (df_visits.session_end_dt < '2018-06-01')]"
   ]
  },
  {
   "cell_type": "code",
   "execution_count": 133,
   "metadata": {},
   "outputs": [
    {
     "data": {
      "text/html": [
       "\n",
       "            <div style=\"display: flex; justify-content: flex-start; align-items: flex-end;\">\n",
       "                <style type=\"text/css\">\n",
       "#T_51a07 caption {\n",
       "  font-size: 16px;\n",
       "  text-align: left;\n",
       "  font-weight: bold;\n",
       "}\n",
       "#T_51a07_row0_col0, #T_51a07_row0_col1, #T_51a07_row0_col2, #T_51a07_row0_col3, #T_51a07_row0_col4, #T_51a07_row0_col5, #T_51a07_row0_col6, #T_51a07_row0_col7, #T_51a07_row0_col8, #T_51a07_row1_col0, #T_51a07_row1_col1, #T_51a07_row1_col2, #T_51a07_row1_col3, #T_51a07_row1_col4, #T_51a07_row1_col5, #T_51a07_row1_col6, #T_51a07_row1_col7, #T_51a07_row1_col8, #T_51a07_row2_col0, #T_51a07_row2_col1, #T_51a07_row2_col2, #T_51a07_row2_col3, #T_51a07_row2_col4, #T_51a07_row2_col5, #T_51a07_row2_col6, #T_51a07_row2_col7, #T_51a07_row2_col8, #T_51a07_row3_col0, #T_51a07_row3_col1, #T_51a07_row3_col2, #T_51a07_row3_col3, #T_51a07_row3_col4, #T_51a07_row3_col5, #T_51a07_row3_col6, #T_51a07_row3_col7, #T_51a07_row3_col8 {\n",
       "  text-align: left;\n",
       "}\n",
       "</style>\n",
       "<table id=\"T_51a07\">\n",
       "  <caption>Статистика столбца \"session_end_dt\"</caption>\n",
       "  <thead>\n",
       "  </thead>\n",
       "  <tbody>\n",
       "    <tr>\n",
       "      <td id=\"T_51a07_row0_col0\" class=\"data row0 col0\" >First date</td>\n",
       "      <td id=\"T_51a07_row0_col1\" class=\"data row0 col1\" >2017-06-01 00:02:00</td>\n",
       "      <td id=\"T_51a07_row0_col2\" class=\"data row0 col2\" >                              </td>\n",
       "      <td id=\"T_51a07_row0_col3\" class=\"data row0 col3\" >Zeros</td>\n",
       "      <td id=\"T_51a07_row0_col4\" class=\"data row0 col4\" >---</td>\n",
       "      <td id=\"T_51a07_row0_col5\" class=\"data row0 col5\" >                              </td>\n",
       "      <td id=\"T_51a07_row0_col6\" class=\"data row0 col6\" >Years missing</td>\n",
       "      <td id=\"T_51a07_row0_col7\" class=\"data row0 col7\" >0%</td>\n",
       "      <td id=\"T_51a07_row0_col8\" class=\"data row0 col8\" >                              </td>\n",
       "    </tr>\n",
       "    <tr>\n",
       "      <td id=\"T_51a07_row1_col0\" class=\"data row1 col0\" >Last date</td>\n",
       "      <td id=\"T_51a07_row1_col1\" class=\"data row1 col1\" >2018-05-31 23:59:00</td>\n",
       "      <td id=\"T_51a07_row1_col2\" class=\"data row1 col2\" >                              </td>\n",
       "      <td id=\"T_51a07_row1_col3\" class=\"data row1 col3\" >Missing</td>\n",
       "      <td id=\"T_51a07_row1_col4\" class=\"data row1 col4\" >---</td>\n",
       "      <td id=\"T_51a07_row1_col5\" class=\"data row1 col5\" >                              </td>\n",
       "      <td id=\"T_51a07_row1_col6\" class=\"data row1 col6\" >Months missing</td>\n",
       "      <td id=\"T_51a07_row1_col7\" class=\"data row1 col7\" >0%</td>\n",
       "      <td id=\"T_51a07_row1_col8\" class=\"data row1 col8\" >                              </td>\n",
       "    </tr>\n",
       "    <tr>\n",
       "      <td id=\"T_51a07_row2_col0\" class=\"data row2 col0\" >Values</td>\n",
       "      <td id=\"T_51a07_row2_col1\" class=\"data row2 col1\" >359 388 (100%)</td>\n",
       "      <td id=\"T_51a07_row2_col2\" class=\"data row2 col2\" >                              </td>\n",
       "      <td id=\"T_51a07_row2_col3\" class=\"data row2 col3\" >Distinct</td>\n",
       "      <td id=\"T_51a07_row2_col4\" class=\"data row2 col4\" >224 749 (63%)</td>\n",
       "      <td id=\"T_51a07_row2_col5\" class=\"data row2 col5\" >                              </td>\n",
       "      <td id=\"T_51a07_row2_col6\" class=\"data row2 col6\" >Weeks missing</td>\n",
       "      <td id=\"T_51a07_row2_col7\" class=\"data row2 col7\" >0%</td>\n",
       "      <td id=\"T_51a07_row2_col8\" class=\"data row2 col8\" >                              </td>\n",
       "    </tr>\n",
       "    <tr>\n",
       "      <td id=\"T_51a07_row3_col0\" class=\"data row3 col0\" >RAM (Mb)</td>\n",
       "      <td id=\"T_51a07_row3_col1\" class=\"data row3 col1\" >5</td>\n",
       "      <td id=\"T_51a07_row3_col2\" class=\"data row3 col2\" >                              </td>\n",
       "      <td id=\"T_51a07_row3_col3\" class=\"data row3 col3\" >Duplicates</td>\n",
       "      <td id=\"T_51a07_row3_col4\" class=\"data row3 col4\" >134 639 (37%)</td>\n",
       "      <td id=\"T_51a07_row3_col5\" class=\"data row3 col5\" >                              </td>\n",
       "      <td id=\"T_51a07_row3_col6\" class=\"data row3 col6\" >Days missing</td>\n",
       "      <td id=\"T_51a07_row3_col7\" class=\"data row3 col7\" ><1%</td>\n",
       "      <td id=\"T_51a07_row3_col8\" class=\"data row3 col8\" >                              </td>\n",
       "    </tr>\n",
       "  </tbody>\n",
       "</table>\n",
       "\n",
       "            </div>\n",
       "            "
      ],
      "text/plain": [
       "<IPython.core.display.HTML object>"
      ]
     },
     "metadata": {},
     "output_type": "display_data"
    }
   ],
   "source": [
    "gen = pagri_data_tools.info_gen(df_visits, column='session_end_dt', mode='column')\n",
    "gen.next()"
   ]
  },
  {
   "cell_type": "code",
   "execution_count": 134,
   "metadata": {},
   "outputs": [],
   "source": [
    "df_orders = df_orders[(df_orders.order_dt > '2017-06-01') & (df_orders.order_dt < '2018-06-01')]"
   ]
  },
  {
   "cell_type": "code",
   "execution_count": 135,
   "metadata": {},
   "outputs": [
    {
     "data": {
      "text/html": [
       "\n",
       "            <div style=\"display: flex; justify-content: flex-start; align-items: flex-end;\">\n",
       "                <style type=\"text/css\">\n",
       "#T_9c2a6 caption {\n",
       "  font-size: 16px;\n",
       "  text-align: left;\n",
       "  font-weight: bold;\n",
       "}\n",
       "#T_9c2a6_row0_col0, #T_9c2a6_row0_col1, #T_9c2a6_row0_col2, #T_9c2a6_row0_col3, #T_9c2a6_row0_col4, #T_9c2a6_row0_col5, #T_9c2a6_row0_col6, #T_9c2a6_row0_col7, #T_9c2a6_row0_col8, #T_9c2a6_row1_col0, #T_9c2a6_row1_col1, #T_9c2a6_row1_col2, #T_9c2a6_row1_col3, #T_9c2a6_row1_col4, #T_9c2a6_row1_col5, #T_9c2a6_row1_col6, #T_9c2a6_row1_col7, #T_9c2a6_row1_col8, #T_9c2a6_row2_col0, #T_9c2a6_row2_col1, #T_9c2a6_row2_col2, #T_9c2a6_row2_col3, #T_9c2a6_row2_col4, #T_9c2a6_row2_col5, #T_9c2a6_row2_col6, #T_9c2a6_row2_col7, #T_9c2a6_row2_col8, #T_9c2a6_row3_col0, #T_9c2a6_row3_col1, #T_9c2a6_row3_col2, #T_9c2a6_row3_col3, #T_9c2a6_row3_col4, #T_9c2a6_row3_col5, #T_9c2a6_row3_col6, #T_9c2a6_row3_col7, #T_9c2a6_row3_col8 {\n",
       "  text-align: left;\n",
       "}\n",
       "</style>\n",
       "<table id=\"T_9c2a6\">\n",
       "  <caption>Статистика столбца \"order_dt\"</caption>\n",
       "  <thead>\n",
       "  </thead>\n",
       "  <tbody>\n",
       "    <tr>\n",
       "      <td id=\"T_9c2a6_row0_col0\" class=\"data row0 col0\" >First date</td>\n",
       "      <td id=\"T_9c2a6_row0_col1\" class=\"data row0 col1\" >2017-06-01 00:10:00</td>\n",
       "      <td id=\"T_9c2a6_row0_col2\" class=\"data row0 col2\" >                              </td>\n",
       "      <td id=\"T_9c2a6_row0_col3\" class=\"data row0 col3\" >Zeros</td>\n",
       "      <td id=\"T_9c2a6_row0_col4\" class=\"data row0 col4\" >---</td>\n",
       "      <td id=\"T_9c2a6_row0_col5\" class=\"data row0 col5\" >                              </td>\n",
       "      <td id=\"T_9c2a6_row0_col6\" class=\"data row0 col6\" >Years missing</td>\n",
       "      <td id=\"T_9c2a6_row0_col7\" class=\"data row0 col7\" >0%</td>\n",
       "      <td id=\"T_9c2a6_row0_col8\" class=\"data row0 col8\" >                              </td>\n",
       "    </tr>\n",
       "    <tr>\n",
       "      <td id=\"T_9c2a6_row1_col0\" class=\"data row1 col0\" >Last date</td>\n",
       "      <td id=\"T_9c2a6_row1_col1\" class=\"data row1 col1\" >2018-05-31 23:56:00</td>\n",
       "      <td id=\"T_9c2a6_row1_col2\" class=\"data row1 col2\" >                              </td>\n",
       "      <td id=\"T_9c2a6_row1_col3\" class=\"data row1 col3\" >Missing</td>\n",
       "      <td id=\"T_9c2a6_row1_col4\" class=\"data row1 col4\" >---</td>\n",
       "      <td id=\"T_9c2a6_row1_col5\" class=\"data row1 col5\" >                              </td>\n",
       "      <td id=\"T_9c2a6_row1_col6\" class=\"data row1 col6\" >Months missing</td>\n",
       "      <td id=\"T_9c2a6_row1_col7\" class=\"data row1 col7\" >0%</td>\n",
       "      <td id=\"T_9c2a6_row1_col8\" class=\"data row1 col8\" >                              </td>\n",
       "    </tr>\n",
       "    <tr>\n",
       "      <td id=\"T_9c2a6_row2_col0\" class=\"data row2 col0\" >Values</td>\n",
       "      <td id=\"T_9c2a6_row2_col1\" class=\"data row2 col1\" >50 414 (100%)</td>\n",
       "      <td id=\"T_9c2a6_row2_col2\" class=\"data row2 col2\" >                              </td>\n",
       "      <td id=\"T_9c2a6_row2_col3\" class=\"data row2 col3\" >Distinct</td>\n",
       "      <td id=\"T_9c2a6_row2_col4\" class=\"data row2 col4\" >45 990 (91%)</td>\n",
       "      <td id=\"T_9c2a6_row2_col5\" class=\"data row2 col5\" >                              </td>\n",
       "      <td id=\"T_9c2a6_row2_col6\" class=\"data row2 col6\" >Weeks missing</td>\n",
       "      <td id=\"T_9c2a6_row2_col7\" class=\"data row2 col7\" >0%</td>\n",
       "      <td id=\"T_9c2a6_row2_col8\" class=\"data row2 col8\" >                              </td>\n",
       "    </tr>\n",
       "    <tr>\n",
       "      <td id=\"T_9c2a6_row3_col0\" class=\"data row3 col0\" >RAM (Mb)</td>\n",
       "      <td id=\"T_9c2a6_row3_col1\" class=\"data row3 col1\" >1</td>\n",
       "      <td id=\"T_9c2a6_row3_col2\" class=\"data row3 col2\" >                              </td>\n",
       "      <td id=\"T_9c2a6_row3_col3\" class=\"data row3 col3\" >Duplicates</td>\n",
       "      <td id=\"T_9c2a6_row3_col4\" class=\"data row3 col4\" >4 424 (9%)</td>\n",
       "      <td id=\"T_9c2a6_row3_col5\" class=\"data row3 col5\" >                              </td>\n",
       "      <td id=\"T_9c2a6_row3_col6\" class=\"data row3 col6\" >Days missing</td>\n",
       "      <td id=\"T_9c2a6_row3_col7\" class=\"data row3 col7\" ><1%</td>\n",
       "      <td id=\"T_9c2a6_row3_col8\" class=\"data row3 col8\" >                              </td>\n",
       "    </tr>\n",
       "  </tbody>\n",
       "</table>\n",
       "\n",
       "            </div>\n",
       "            "
      ],
      "text/plain": [
       "<IPython.core.display.HTML object>"
      ]
     },
     "metadata": {},
     "output_type": "display_data"
    }
   ],
   "source": [
    "gen = pagri_data_tools.info_gen(df_orders, column='order_dt', mode='column')\n",
    "gen.next()"
   ]
  },
  {
   "cell_type": "markdown",
   "metadata": {},
   "source": [
    "### Обработка выбросов\n"
   ]
  },
  {
   "cell_type": "markdown",
   "metadata": {},
   "source": [
    "В столбце с суммой заказов 51 нулевое значение (меньше 1%).  \n",
    "Так как этих значений мало, то удалим их, чтобы не мешали анализу."
   ]
  },
  {
   "cell_type": "code",
   "execution_count": 136,
   "metadata": {},
   "outputs": [
    {
     "data": {
      "text/plain": [
       "50414"
      ]
     },
     "execution_count": 136,
     "metadata": {},
     "output_type": "execute_result"
    }
   ],
   "source": [
    "df_orders.shape[0]"
   ]
  },
  {
   "cell_type": "code",
   "execution_count": 137,
   "metadata": {},
   "outputs": [
    {
     "data": {
      "text/plain": [
       "50363"
      ]
     },
     "execution_count": 137,
     "metadata": {},
     "output_type": "execute_result"
    }
   ],
   "source": [
    "df_orders = df_orders[df_orders.revenue != 0]\n",
    "df_orders.shape[0]"
   ]
  },
  {
   "cell_type": "code",
   "execution_count": 138,
   "metadata": {},
   "outputs": [
    {
     "data": {
      "text/html": [
       "<div>\n",
       "<style scoped>\n",
       "    .dataframe tbody tr th:only-of-type {\n",
       "        vertical-align: middle;\n",
       "    }\n",
       "\n",
       "    .dataframe tbody tr th {\n",
       "        vertical-align: top;\n",
       "    }\n",
       "\n",
       "    .dataframe thead th {\n",
       "        text-align: right;\n",
       "    }\n",
       "</style>\n",
       "<table border=\"1\" class=\"dataframe\">\n",
       "  <thead>\n",
       "    <tr style=\"text-align: right;\">\n",
       "      <th></th>\n",
       "      <th>zeros</th>\n",
       "    </tr>\n",
       "  </thead>\n",
       "  <tbody>\n",
       "  </tbody>\n",
       "</table>\n",
       "</div>"
      ],
      "text/plain": [
       "Empty DataFrame\n",
       "Columns: [zeros]\n",
       "Index: []"
      ]
     },
     "metadata": {},
     "output_type": "display_data"
    }
   ],
   "source": [
    "pagri_data_tools.check_zeros_value_in_df(df_orders)"
   ]
  },
  {
   "cell_type": "markdown",
   "metadata": {},
   "source": [
    "### Промежуточный вывод\n"
   ]
  },
  {
   "cell_type": "markdown",
   "metadata": {},
   "source": [
    "- Обрезали данные, чтобы все даты были от 2017-06-01 до 2018-06-01.\n",
    "- Удалили 51 нулевое значение (меньше 1%) в столбце с суммой заказа."
   ]
  },
  {
   "cell_type": "markdown",
   "metadata": {},
   "source": [
    "## Обогащение данных и создание новых переменных"
   ]
  },
  {
   "cell_type": "markdown",
   "metadata": {},
   "source": [
    "### Создание новых числовых переменных"
   ]
  },
  {
   "cell_type": "markdown",
   "metadata": {},
   "source": [
    "Создадим новую числовую переменную - длительность сессии в минутах."
   ]
  },
  {
   "cell_type": "code",
   "execution_count": 139,
   "metadata": {},
   "outputs": [
    {
     "data": {
      "text/plain": [
       "Index(['device', 'session_end_dt', 'source_id', 'session_start_dt', 'uid'], dtype='object')"
      ]
     },
     "execution_count": 139,
     "metadata": {},
     "output_type": "execute_result"
    }
   ],
   "source": [
    "df_visits.columns"
   ]
  },
  {
   "cell_type": "code",
   "execution_count": 140,
   "metadata": {},
   "outputs": [],
   "source": [
    "df_visits['session_duration'] = (df_visits.session_end_dt - df_visits.session_start_dt) / np.timedelta64(1, 'm')"
   ]
  },
  {
   "cell_type": "code",
   "execution_count": 141,
   "metadata": {},
   "outputs": [
    {
     "data": {
      "text/html": [
       "\n",
       "            <div style=\"display: flex; justify-content: flex-start; align-items: flex-end;\">\n",
       "                <style type=\"text/css\">\n",
       "#T_a1ceb caption {\n",
       "  font-size: 16px;\n",
       "  text-align: left;\n",
       "  font-weight: bold;\n",
       "}\n",
       "#T_a1ceb_row0_col0, #T_a1ceb_row0_col1, #T_a1ceb_row0_col2, #T_a1ceb_row0_col3, #T_a1ceb_row0_col4, #T_a1ceb_row0_col5, #T_a1ceb_row0_col6, #T_a1ceb_row0_col7, #T_a1ceb_row0_col8, #T_a1ceb_row0_col9, #T_a1ceb_row1_col0, #T_a1ceb_row1_col1, #T_a1ceb_row1_col2, #T_a1ceb_row1_col3, #T_a1ceb_row1_col4, #T_a1ceb_row1_col5, #T_a1ceb_row1_col6, #T_a1ceb_row1_col7, #T_a1ceb_row1_col8, #T_a1ceb_row1_col9, #T_a1ceb_row2_col0, #T_a1ceb_row2_col1, #T_a1ceb_row2_col2, #T_a1ceb_row2_col3, #T_a1ceb_row2_col4, #T_a1ceb_row2_col5, #T_a1ceb_row2_col6, #T_a1ceb_row2_col7, #T_a1ceb_row2_col8, #T_a1ceb_row2_col9, #T_a1ceb_row3_col0, #T_a1ceb_row3_col1, #T_a1ceb_row3_col2, #T_a1ceb_row3_col3, #T_a1ceb_row3_col4, #T_a1ceb_row3_col5, #T_a1ceb_row3_col6, #T_a1ceb_row3_col7, #T_a1ceb_row3_col8, #T_a1ceb_row3_col9, #T_a1ceb_row4_col0, #T_a1ceb_row4_col1, #T_a1ceb_row4_col2, #T_a1ceb_row4_col3, #T_a1ceb_row4_col4, #T_a1ceb_row4_col5, #T_a1ceb_row4_col6, #T_a1ceb_row4_col7, #T_a1ceb_row4_col8, #T_a1ceb_row4_col9, #T_a1ceb_row5_col0, #T_a1ceb_row5_col1, #T_a1ceb_row5_col2, #T_a1ceb_row5_col3, #T_a1ceb_row5_col4, #T_a1ceb_row5_col5, #T_a1ceb_row5_col6, #T_a1ceb_row5_col7, #T_a1ceb_row5_col8, #T_a1ceb_row5_col9, #T_a1ceb_row6_col0, #T_a1ceb_row6_col1, #T_a1ceb_row6_col2, #T_a1ceb_row6_col3, #T_a1ceb_row6_col4, #T_a1ceb_row6_col5, #T_a1ceb_row6_col6, #T_a1ceb_row6_col7, #T_a1ceb_row6_col8, #T_a1ceb_row6_col9 {\n",
       "  text-align: left;\n",
       "}\n",
       "</style>\n",
       "<table id=\"T_a1ceb\">\n",
       "  <caption>Статистика и гистограмма столбца \"session_duration\"</caption>\n",
       "  <thead>\n",
       "  </thead>\n",
       "  <tbody>\n",
       "    <tr>\n",
       "      <td id=\"T_a1ceb_row0_col0\" class=\"data row0 col0\" >Values</td>\n",
       "      <td id=\"T_a1ceb_row0_col1\" class=\"data row0 col1\" >359 388 (100%)</td>\n",
       "      <td id=\"T_a1ceb_row0_col2\" class=\"data row0 col2\" >                              </td>\n",
       "      <td id=\"T_a1ceb_row0_col3\" class=\"data row0 col3\" >Max</td>\n",
       "      <td id=\"T_a1ceb_row0_col4\" class=\"data row0 col4\" >711</td>\n",
       "      <td id=\"T_a1ceb_row0_col5\" class=\"data row0 col5\" >                              </td>\n",
       "      <td id=\"T_a1ceb_row0_col6\" class=\"data row0 col6\" >Avg</td>\n",
       "      <td id=\"T_a1ceb_row0_col7\" class=\"data row0 col7\" >10.72</td>\n",
       "      <td id=\"T_a1ceb_row0_col8\" class=\"data row0 col8\" >                              </td>\n",
       "      <td id=\"T_a1ceb_row0_col9\" class=\"data row0 col9\" >1 (15%)</td>\n",
       "    </tr>\n",
       "    <tr>\n",
       "      <td id=\"T_a1ceb_row1_col0\" class=\"data row1 col0\" >Missing</td>\n",
       "      <td id=\"T_a1ceb_row1_col1\" class=\"data row1 col1\" >---</td>\n",
       "      <td id=\"T_a1ceb_row1_col2\" class=\"data row1 col2\" >                              </td>\n",
       "      <td id=\"T_a1ceb_row1_col3\" class=\"data row1 col3\" >95%</td>\n",
       "      <td id=\"T_a1ceb_row1_col4\" class=\"data row1 col4\" >38</td>\n",
       "      <td id=\"T_a1ceb_row1_col5\" class=\"data row1 col5\" >                              </td>\n",
       "      <td id=\"T_a1ceb_row1_col6\" class=\"data row1 col6\" >Mode</td>\n",
       "      <td id=\"T_a1ceb_row1_col7\" class=\"data row1 col7\" >1</td>\n",
       "      <td id=\"T_a1ceb_row1_col8\" class=\"data row1 col8\" >                              </td>\n",
       "      <td id=\"T_a1ceb_row1_col9\" class=\"data row1 col9\" >0 (10%)</td>\n",
       "    </tr>\n",
       "    <tr>\n",
       "      <td id=\"T_a1ceb_row2_col0\" class=\"data row2 col0\" >Distinct</td>\n",
       "      <td id=\"T_a1ceb_row2_col1\" class=\"data row2 col1\" >312 (<1%)</td>\n",
       "      <td id=\"T_a1ceb_row2_col2\" class=\"data row2 col2\" >                              </td>\n",
       "      <td id=\"T_a1ceb_row2_col3\" class=\"data row2 col3\" >75%</td>\n",
       "      <td id=\"T_a1ceb_row2_col4\" class=\"data row2 col4\" >14</td>\n",
       "      <td id=\"T_a1ceb_row2_col5\" class=\"data row2 col5\" >                              </td>\n",
       "      <td id=\"T_a1ceb_row2_col6\" class=\"data row2 col6\" >Range</td>\n",
       "      <td id=\"T_a1ceb_row2_col7\" class=\"data row2 col7\" >757</td>\n",
       "      <td id=\"T_a1ceb_row2_col8\" class=\"data row2 col8\" >                              </td>\n",
       "      <td id=\"T_a1ceb_row2_col9\" class=\"data row2 col9\" >2 (10%)</td>\n",
       "    </tr>\n",
       "    <tr>\n",
       "      <td id=\"T_a1ceb_row3_col0\" class=\"data row3 col0\" >Duplicates</td>\n",
       "      <td id=\"T_a1ceb_row3_col1\" class=\"data row3 col1\" >359 076 (99.9%)</td>\n",
       "      <td id=\"T_a1ceb_row3_col2\" class=\"data row3 col2\" >                              </td>\n",
       "      <td id=\"T_a1ceb_row3_col3\" class=\"data row3 col3\" >Median</td>\n",
       "      <td id=\"T_a1ceb_row3_col4\" class=\"data row3 col4\" >5</td>\n",
       "      <td id=\"T_a1ceb_row3_col5\" class=\"data row3 col5\" >                              </td>\n",
       "      <td id=\"T_a1ceb_row3_col6\" class=\"data row3 col6\" >iQR</td>\n",
       "      <td id=\"T_a1ceb_row3_col7\" class=\"data row3 col7\" >12</td>\n",
       "      <td id=\"T_a1ceb_row3_col8\" class=\"data row3 col8\" >                              </td>\n",
       "      <td id=\"T_a1ceb_row3_col9\" class=\"data row3 col9\" >3 (7%)</td>\n",
       "    </tr>\n",
       "    <tr>\n",
       "      <td id=\"T_a1ceb_row4_col0\" class=\"data row4 col0\" >Zeros</td>\n",
       "      <td id=\"T_a1ceb_row4_col1\" class=\"data row4 col1\" >35 794 (10%)</td>\n",
       "      <td id=\"T_a1ceb_row4_col2\" class=\"data row4 col2\" >                              </td>\n",
       "      <td id=\"T_a1ceb_row4_col3\" class=\"data row4 col3\" >25%</td>\n",
       "      <td id=\"T_a1ceb_row4_col4\" class=\"data row4 col4\" >2</td>\n",
       "      <td id=\"T_a1ceb_row4_col5\" class=\"data row4 col5\" >                              </td>\n",
       "      <td id=\"T_a1ceb_row4_col6\" class=\"data row4 col6\" >std</td>\n",
       "      <td id=\"T_a1ceb_row4_col7\" class=\"data row4 col7\" >16.62</td>\n",
       "      <td id=\"T_a1ceb_row4_col8\" class=\"data row4 col8\" >                              </td>\n",
       "      <td id=\"T_a1ceb_row4_col9\" class=\"data row4 col9\" >4 (6%)</td>\n",
       "    </tr>\n",
       "    <tr>\n",
       "      <td id=\"T_a1ceb_row5_col0\" class=\"data row5 col0\" >Negative</td>\n",
       "      <td id=\"T_a1ceb_row5_col1\" class=\"data row5 col1\" >2 (<1%)</td>\n",
       "      <td id=\"T_a1ceb_row5_col2\" class=\"data row5 col2\" >                              </td>\n",
       "      <td id=\"T_a1ceb_row5_col3\" class=\"data row5 col3\" >5%</td>\n",
       "      <td id=\"T_a1ceb_row5_col4\" class=\"data row5 col4\" >0</td>\n",
       "      <td id=\"T_a1ceb_row5_col5\" class=\"data row5 col5\" >                              </td>\n",
       "      <td id=\"T_a1ceb_row5_col6\" class=\"data row5 col6\" >kurt</td>\n",
       "      <td id=\"T_a1ceb_row5_col7\" class=\"data row5 col7\" >81.26</td>\n",
       "      <td id=\"T_a1ceb_row5_col8\" class=\"data row5 col8\" >                              </td>\n",
       "      <td id=\"T_a1ceb_row5_col9\" class=\"data row5 col9\" >5 (5%)</td>\n",
       "    </tr>\n",
       "    <tr>\n",
       "      <td id=\"T_a1ceb_row6_col0\" class=\"data row6 col0\" >RAM (Mb)</td>\n",
       "      <td id=\"T_a1ceb_row6_col1\" class=\"data row6 col1\" >5</td>\n",
       "      <td id=\"T_a1ceb_row6_col2\" class=\"data row6 col2\" >                              </td>\n",
       "      <td id=\"T_a1ceb_row6_col3\" class=\"data row6 col3\" >Min</td>\n",
       "      <td id=\"T_a1ceb_row6_col4\" class=\"data row6 col4\" >-46</td>\n",
       "      <td id=\"T_a1ceb_row6_col5\" class=\"data row6 col5\" >                              </td>\n",
       "      <td id=\"T_a1ceb_row6_col6\" class=\"data row6 col6\" >skew</td>\n",
       "      <td id=\"T_a1ceb_row6_col7\" class=\"data row6 col7\" >5.74</td>\n",
       "      <td id=\"T_a1ceb_row6_col8\" class=\"data row6 col8\" >                              </td>\n",
       "      <td id=\"T_a1ceb_row6_col9\" class=\"data row6 col9\" >6 (4%)</td>\n",
       "    </tr>\n",
       "  </tbody>\n",
       "</table>\n",
       "\n",
       "                <div>\n",
       "                    <img src=\"data:image/png;base64,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\" alt=\"График\"/>\n",
       "                </div>\n",
       "            \n",
       "                <div>\n",
       "                    <img src=\"data:image/png;base64,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\" alt=\"График\"/>\n",
       "                </div>            \n",
       "            </div>\n",
       "            "
      ],
      "text/plain": [
       "<IPython.core.display.HTML object>"
      ]
     },
     "metadata": {},
     "output_type": "display_data"
    }
   ],
   "source": [
    "gen = pagri_data_tools.info_gen(df_visits, column='session_duration', mode='column')\n",
    "gen.next('dual')"
   ]
  },
  {
   "cell_type": "markdown",
   "metadata": {},
   "source": [
    "2 Отрицательных значения. Посмотрим на эти строки."
   ]
  },
  {
   "cell_type": "code",
   "execution_count": 142,
   "metadata": {},
   "outputs": [
    {
     "data": {
      "text/html": [
       "<div>\n",
       "<style scoped>\n",
       "    .dataframe tbody tr th:only-of-type {\n",
       "        vertical-align: middle;\n",
       "    }\n",
       "\n",
       "    .dataframe tbody tr th {\n",
       "        vertical-align: top;\n",
       "    }\n",
       "\n",
       "    .dataframe thead th {\n",
       "        text-align: right;\n",
       "    }\n",
       "</style>\n",
       "<table border=\"1\" class=\"dataframe\">\n",
       "  <thead>\n",
       "    <tr style=\"text-align: right;\">\n",
       "      <th></th>\n",
       "      <th>device</th>\n",
       "      <th>session_end_dt</th>\n",
       "      <th>source_id</th>\n",
       "      <th>session_start_dt</th>\n",
       "      <th>uid</th>\n",
       "      <th>session_duration</th>\n",
       "    </tr>\n",
       "  </thead>\n",
       "  <tbody>\n",
       "    <tr>\n",
       "      <th>4181</th>\n",
       "      <td>desktop</td>\n",
       "      <td>2018-03-25 03:18:00</td>\n",
       "      <td>3</td>\n",
       "      <td>2018-03-25 03:50:00</td>\n",
       "      <td>13092152539246794986</td>\n",
       "      <td>-32.00</td>\n",
       "    </tr>\n",
       "    <tr>\n",
       "      <th>177972</th>\n",
       "      <td>desktop</td>\n",
       "      <td>2018-03-25 03:09:00</td>\n",
       "      <td>9</td>\n",
       "      <td>2018-03-25 03:55:00</td>\n",
       "      <td>4621202742905035453</td>\n",
       "      <td>-46.00</td>\n",
       "    </tr>\n",
       "  </tbody>\n",
       "</table>\n",
       "</div>"
      ],
      "text/plain": [
       "         device      session_end_dt source_id    session_start_dt  \\\n",
       "4181    desktop 2018-03-25 03:18:00         3 2018-03-25 03:50:00   \n",
       "177972  desktop 2018-03-25 03:09:00         9 2018-03-25 03:55:00   \n",
       "\n",
       "                         uid  session_duration  \n",
       "4181    13092152539246794986            -32.00  \n",
       "177972   4621202742905035453            -46.00  "
      ]
     },
     "execution_count": 142,
     "metadata": {},
     "output_type": "execute_result"
    }
   ],
   "source": [
    "df_visits[df_visits.session_duration < 0]"
   ]
  },
  {
   "cell_type": "markdown",
   "metadata": {},
   "source": [
    "Это явно ошибка, удалим эти строки."
   ]
  },
  {
   "cell_type": "code",
   "execution_count": 143,
   "metadata": {},
   "outputs": [
    {
     "data": {
      "text/plain": [
       "359388"
      ]
     },
     "execution_count": 143,
     "metadata": {},
     "output_type": "execute_result"
    }
   ],
   "source": [
    "df_visits.shape[0]"
   ]
  },
  {
   "cell_type": "code",
   "execution_count": 144,
   "metadata": {},
   "outputs": [],
   "source": [
    "df_visits = df_visits[~(df_visits.session_duration < 0)]"
   ]
  },
  {
   "cell_type": "code",
   "execution_count": 145,
   "metadata": {},
   "outputs": [
    {
     "data": {
      "text/plain": [
       "359386"
      ]
     },
     "execution_count": 145,
     "metadata": {},
     "output_type": "execute_result"
    }
   ],
   "source": [
    "df_visits.shape[0]"
   ]
  },
  {
   "cell_type": "code",
   "execution_count": 146,
   "metadata": {},
   "outputs": [
    {
     "data": {
      "text/html": [
       "\n",
       "            <div style=\"display: flex; justify-content: flex-start; align-items: flex-end;\">\n",
       "                <style type=\"text/css\">\n",
       "#T_da98c caption {\n",
       "  font-size: 16px;\n",
       "  text-align: left;\n",
       "  font-weight: bold;\n",
       "}\n",
       "#T_da98c_row0_col0, #T_da98c_row0_col1, #T_da98c_row0_col2, #T_da98c_row0_col3, #T_da98c_row0_col4, #T_da98c_row0_col5, #T_da98c_row0_col6, #T_da98c_row0_col7, #T_da98c_row0_col8, #T_da98c_row0_col9, #T_da98c_row1_col0, #T_da98c_row1_col1, #T_da98c_row1_col2, #T_da98c_row1_col3, #T_da98c_row1_col4, #T_da98c_row1_col5, #T_da98c_row1_col6, #T_da98c_row1_col7, #T_da98c_row1_col8, #T_da98c_row1_col9, #T_da98c_row2_col0, #T_da98c_row2_col1, #T_da98c_row2_col2, #T_da98c_row2_col3, #T_da98c_row2_col4, #T_da98c_row2_col5, #T_da98c_row2_col6, #T_da98c_row2_col7, #T_da98c_row2_col8, #T_da98c_row2_col9, #T_da98c_row3_col0, #T_da98c_row3_col1, #T_da98c_row3_col2, #T_da98c_row3_col3, #T_da98c_row3_col4, #T_da98c_row3_col5, #T_da98c_row3_col6, #T_da98c_row3_col7, #T_da98c_row3_col8, #T_da98c_row3_col9, #T_da98c_row4_col0, #T_da98c_row4_col1, #T_da98c_row4_col2, #T_da98c_row4_col3, #T_da98c_row4_col4, #T_da98c_row4_col5, #T_da98c_row4_col6, #T_da98c_row4_col7, #T_da98c_row4_col8, #T_da98c_row4_col9, #T_da98c_row5_col0, #T_da98c_row5_col1, #T_da98c_row5_col2, #T_da98c_row5_col3, #T_da98c_row5_col4, #T_da98c_row5_col5, #T_da98c_row5_col6, #T_da98c_row5_col7, #T_da98c_row5_col8, #T_da98c_row5_col9, #T_da98c_row6_col0, #T_da98c_row6_col1, #T_da98c_row6_col2, #T_da98c_row6_col3, #T_da98c_row6_col4, #T_da98c_row6_col5, #T_da98c_row6_col6, #T_da98c_row6_col7, #T_da98c_row6_col8, #T_da98c_row6_col9 {\n",
       "  text-align: left;\n",
       "}\n",
       "</style>\n",
       "<table id=\"T_da98c\">\n",
       "  <caption>Статистика и гистограмма столбца \"session_duration\"</caption>\n",
       "  <thead>\n",
       "  </thead>\n",
       "  <tbody>\n",
       "    <tr>\n",
       "      <td id=\"T_da98c_row0_col0\" class=\"data row0 col0\" >Values</td>\n",
       "      <td id=\"T_da98c_row0_col1\" class=\"data row0 col1\" >359 386 (100%)</td>\n",
       "      <td id=\"T_da98c_row0_col2\" class=\"data row0 col2\" >                              </td>\n",
       "      <td id=\"T_da98c_row0_col3\" class=\"data row0 col3\" >Max</td>\n",
       "      <td id=\"T_da98c_row0_col4\" class=\"data row0 col4\" >711</td>\n",
       "      <td id=\"T_da98c_row0_col5\" class=\"data row0 col5\" >                              </td>\n",
       "      <td id=\"T_da98c_row0_col6\" class=\"data row0 col6\" >Avg</td>\n",
       "      <td id=\"T_da98c_row0_col7\" class=\"data row0 col7\" >10.72</td>\n",
       "      <td id=\"T_da98c_row0_col8\" class=\"data row0 col8\" >                              </td>\n",
       "      <td id=\"T_da98c_row0_col9\" class=\"data row0 col9\" >1 (15%)</td>\n",
       "    </tr>\n",
       "    <tr>\n",
       "      <td id=\"T_da98c_row1_col0\" class=\"data row1 col0\" >Missing</td>\n",
       "      <td id=\"T_da98c_row1_col1\" class=\"data row1 col1\" >---</td>\n",
       "      <td id=\"T_da98c_row1_col2\" class=\"data row1 col2\" >                              </td>\n",
       "      <td id=\"T_da98c_row1_col3\" class=\"data row1 col3\" >95%</td>\n",
       "      <td id=\"T_da98c_row1_col4\" class=\"data row1 col4\" >38</td>\n",
       "      <td id=\"T_da98c_row1_col5\" class=\"data row1 col5\" >                              </td>\n",
       "      <td id=\"T_da98c_row1_col6\" class=\"data row1 col6\" >Mode</td>\n",
       "      <td id=\"T_da98c_row1_col7\" class=\"data row1 col7\" >1</td>\n",
       "      <td id=\"T_da98c_row1_col8\" class=\"data row1 col8\" >                              </td>\n",
       "      <td id=\"T_da98c_row1_col9\" class=\"data row1 col9\" >0 (10%)</td>\n",
       "    </tr>\n",
       "    <tr>\n",
       "      <td id=\"T_da98c_row2_col0\" class=\"data row2 col0\" >Distinct</td>\n",
       "      <td id=\"T_da98c_row2_col1\" class=\"data row2 col1\" >310 (<1%)</td>\n",
       "      <td id=\"T_da98c_row2_col2\" class=\"data row2 col2\" >                              </td>\n",
       "      <td id=\"T_da98c_row2_col3\" class=\"data row2 col3\" >75%</td>\n",
       "      <td id=\"T_da98c_row2_col4\" class=\"data row2 col4\" >14</td>\n",
       "      <td id=\"T_da98c_row2_col5\" class=\"data row2 col5\" >                              </td>\n",
       "      <td id=\"T_da98c_row2_col6\" class=\"data row2 col6\" >Range</td>\n",
       "      <td id=\"T_da98c_row2_col7\" class=\"data row2 col7\" >711</td>\n",
       "      <td id=\"T_da98c_row2_col8\" class=\"data row2 col8\" >                              </td>\n",
       "      <td id=\"T_da98c_row2_col9\" class=\"data row2 col9\" >2 (10%)</td>\n",
       "    </tr>\n",
       "    <tr>\n",
       "      <td id=\"T_da98c_row3_col0\" class=\"data row3 col0\" >Duplicates</td>\n",
       "      <td id=\"T_da98c_row3_col1\" class=\"data row3 col1\" >359 076 (99.9%)</td>\n",
       "      <td id=\"T_da98c_row3_col2\" class=\"data row3 col2\" >                              </td>\n",
       "      <td id=\"T_da98c_row3_col3\" class=\"data row3 col3\" >Median</td>\n",
       "      <td id=\"T_da98c_row3_col4\" class=\"data row3 col4\" >5</td>\n",
       "      <td id=\"T_da98c_row3_col5\" class=\"data row3 col5\" >                              </td>\n",
       "      <td id=\"T_da98c_row3_col6\" class=\"data row3 col6\" >iQR</td>\n",
       "      <td id=\"T_da98c_row3_col7\" class=\"data row3 col7\" >12</td>\n",
       "      <td id=\"T_da98c_row3_col8\" class=\"data row3 col8\" >                              </td>\n",
       "      <td id=\"T_da98c_row3_col9\" class=\"data row3 col9\" >3 (7%)</td>\n",
       "    </tr>\n",
       "    <tr>\n",
       "      <td id=\"T_da98c_row4_col0\" class=\"data row4 col0\" >Zeros</td>\n",
       "      <td id=\"T_da98c_row4_col1\" class=\"data row4 col1\" >35 794 (10%)</td>\n",
       "      <td id=\"T_da98c_row4_col2\" class=\"data row4 col2\" >                              </td>\n",
       "      <td id=\"T_da98c_row4_col3\" class=\"data row4 col3\" >25%</td>\n",
       "      <td id=\"T_da98c_row4_col4\" class=\"data row4 col4\" >2</td>\n",
       "      <td id=\"T_da98c_row4_col5\" class=\"data row4 col5\" >                              </td>\n",
       "      <td id=\"T_da98c_row4_col6\" class=\"data row4 col6\" >std</td>\n",
       "      <td id=\"T_da98c_row4_col7\" class=\"data row4 col7\" >16.62</td>\n",
       "      <td id=\"T_da98c_row4_col8\" class=\"data row4 col8\" >                              </td>\n",
       "      <td id=\"T_da98c_row4_col9\" class=\"data row4 col9\" >4 (6%)</td>\n",
       "    </tr>\n",
       "    <tr>\n",
       "      <td id=\"T_da98c_row5_col0\" class=\"data row5 col0\" >Negative</td>\n",
       "      <td id=\"T_da98c_row5_col1\" class=\"data row5 col1\" >---</td>\n",
       "      <td id=\"T_da98c_row5_col2\" class=\"data row5 col2\" >                              </td>\n",
       "      <td id=\"T_da98c_row5_col3\" class=\"data row5 col3\" >5%</td>\n",
       "      <td id=\"T_da98c_row5_col4\" class=\"data row5 col4\" >0</td>\n",
       "      <td id=\"T_da98c_row5_col5\" class=\"data row5 col5\" >                              </td>\n",
       "      <td id=\"T_da98c_row5_col6\" class=\"data row5 col6\" >kurt</td>\n",
       "      <td id=\"T_da98c_row5_col7\" class=\"data row5 col7\" >81.27</td>\n",
       "      <td id=\"T_da98c_row5_col8\" class=\"data row5 col8\" >                              </td>\n",
       "      <td id=\"T_da98c_row5_col9\" class=\"data row5 col9\" >5 (5%)</td>\n",
       "    </tr>\n",
       "    <tr>\n",
       "      <td id=\"T_da98c_row6_col0\" class=\"data row6 col0\" >RAM (Mb)</td>\n",
       "      <td id=\"T_da98c_row6_col1\" class=\"data row6 col1\" >5</td>\n",
       "      <td id=\"T_da98c_row6_col2\" class=\"data row6 col2\" >                              </td>\n",
       "      <td id=\"T_da98c_row6_col3\" class=\"data row6 col3\" >Min</td>\n",
       "      <td id=\"T_da98c_row6_col4\" class=\"data row6 col4\" >0</td>\n",
       "      <td id=\"T_da98c_row6_col5\" class=\"data row6 col5\" >                              </td>\n",
       "      <td id=\"T_da98c_row6_col6\" class=\"data row6 col6\" >skew</td>\n",
       "      <td id=\"T_da98c_row6_col7\" class=\"data row6 col7\" >5.74</td>\n",
       "      <td id=\"T_da98c_row6_col8\" class=\"data row6 col8\" >                              </td>\n",
       "      <td id=\"T_da98c_row6_col9\" class=\"data row6 col9\" >6 (4%)</td>\n",
       "    </tr>\n",
       "  </tbody>\n",
       "</table>\n",
       "\n",
       "                <div>\n",
       "                    <img src=\"data:image/png;base64,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\" alt=\"График\"/>\n",
       "                </div>\n",
       "            \n",
       "                <div>\n",
       "                    <img src=\"data:image/png;base64,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\" alt=\"График\"/>\n",
       "                </div>            \n",
       "            </div>\n",
       "            "
      ],
      "text/plain": [
       "<IPython.core.display.HTML object>"
      ]
     },
     "metadata": {},
     "output_type": "display_data"
    }
   ],
   "source": [
    "gen = pagri_data_tools.info_gen(df_visits, column='session_duration', mode='column')\n",
    "gen.next('dual')"
   ]
  },
  {
   "cell_type": "markdown",
   "metadata": {},
   "source": [
    "**Наблюдения:**  \n",
    "\n",
    "- В длительности сессии есть 10% нулевых значений.\n",
    "- В длительности сессии есть 2 отрицательных значения.\n",
    "- Длительность сессии варьируется от 0 минут до 711 минут.\n",
    "- В основном длительность сессии длиться от 2 до 14 минут."
   ]
  },
  {
   "cell_type": "markdown",
   "metadata": {},
   "source": [
    "Посмотрим на длительнсоть сессий в разрезе пользователей"
   ]
  },
  {
   "cell_type": "code",
   "execution_count": 147,
   "metadata": {},
   "outputs": [
    {
     "data": {
      "text/html": [
       "<div>\n",
       "<style scoped>\n",
       "    .dataframe tbody tr th:only-of-type {\n",
       "        vertical-align: middle;\n",
       "    }\n",
       "\n",
       "    .dataframe tbody tr th {\n",
       "        vertical-align: top;\n",
       "    }\n",
       "\n",
       "    .dataframe thead th {\n",
       "        text-align: right;\n",
       "    }\n",
       "</style>\n",
       "<table border=\"1\" class=\"dataframe\">\n",
       "  <thead>\n",
       "    <tr style=\"text-align: right;\">\n",
       "      <th></th>\n",
       "      <th>session_duration</th>\n",
       "    </tr>\n",
       "    <tr>\n",
       "      <th>uid</th>\n",
       "      <th></th>\n",
       "    </tr>\n",
       "  </thead>\n",
       "  <tbody>\n",
       "    <tr>\n",
       "      <th>12869801667763685675</th>\n",
       "      <td>57</td>\n",
       "    </tr>\n",
       "    <tr>\n",
       "      <th>3263486045884611639</th>\n",
       "      <td>36</td>\n",
       "    </tr>\n",
       "    <tr>\n",
       "      <th>10246903932085021612</th>\n",
       "      <td>23</td>\n",
       "    </tr>\n",
       "    <tr>\n",
       "      <th>15087669361906245158</th>\n",
       "      <td>23</td>\n",
       "    </tr>\n",
       "    <tr>\n",
       "      <th>9019681082555518724</th>\n",
       "      <td>19</td>\n",
       "    </tr>\n",
       "    <tr>\n",
       "      <th>6803848156077244893</th>\n",
       "      <td>19</td>\n",
       "    </tr>\n",
       "    <tr>\n",
       "      <th>11255648391090536411</th>\n",
       "      <td>18</td>\n",
       "    </tr>\n",
       "    <tr>\n",
       "      <th>8056418121947262981</th>\n",
       "      <td>17</td>\n",
       "    </tr>\n",
       "    <tr>\n",
       "      <th>3644482766749211722</th>\n",
       "      <td>17</td>\n",
       "    </tr>\n",
       "    <tr>\n",
       "      <th>10534330097262531592</th>\n",
       "      <td>16</td>\n",
       "    </tr>\n",
       "  </tbody>\n",
       "</table>\n",
       "</div>"
      ],
      "text/plain": [
       "                      session_duration\n",
       "uid                                   \n",
       "12869801667763685675                57\n",
       "3263486045884611639                 36\n",
       "10246903932085021612                23\n",
       "15087669361906245158                23\n",
       "9019681082555518724                 19\n",
       "6803848156077244893                 19\n",
       "11255648391090536411                18\n",
       "8056418121947262981                 17\n",
       "3644482766749211722                 17\n",
       "10534330097262531592                16"
      ]
     },
     "execution_count": 147,
     "metadata": {},
     "output_type": "execute_result"
    }
   ],
   "source": [
    "df_visits[df_visits.session_duration == 0].groupby('uid')[['session_duration']].count().sort_values('session_duration', ascending=False).head(10)"
   ]
  },
  {
   "cell_type": "markdown",
   "metadata": {},
   "source": [
    "**Наблюдения:**  \n",
    "\n",
    "- У пользователя с id 12869801667763685675 боьше всего сессий с длительнсотью 0, но не существенно."
   ]
  },
  {
   "cell_type": "markdown",
   "metadata": {},
   "source": [
    "Посмотрим в разрезе устройства"
   ]
  },
  {
   "cell_type": "code",
   "execution_count": 148,
   "metadata": {},
   "outputs": [
    {
     "data": {
      "text/plain": [
       "device\n",
       "desktop    23689\n",
       "touch      12105\n",
       "Name: count, dtype: int64"
      ]
     },
     "execution_count": 148,
     "metadata": {},
     "output_type": "execute_result"
    }
   ],
   "source": [
    "df_visits[df_visits.session_duration == 0]['device'].value_counts()"
   ]
  },
  {
   "cell_type": "markdown",
   "metadata": {},
   "source": [
    "Посмотрим в разрезе источника трафика"
   ]
  },
  {
   "cell_type": "code",
   "execution_count": 149,
   "metadata": {},
   "outputs": [
    {
     "data": {
      "text/plain": [
       "source_id\n",
       "4     10898\n",
       "3      9025\n",
       "5      7385\n",
       "2      4158\n",
       "1      1975\n",
       "9      1297\n",
       "10     1054\n",
       "6         1\n",
       "7         1\n",
       "Name: count, dtype: int64"
      ]
     },
     "execution_count": 149,
     "metadata": {},
     "output_type": "execute_result"
    }
   ],
   "source": [
    "df_visits[df_visits.session_duration == 0]['source_id'].value_counts()"
   ]
  },
  {
   "cell_type": "markdown",
   "metadata": {},
   "source": [
    "Существенных аномалий в записях с длительнстью сессии в 0 минут не обнаружено. Скорее всего это очень короткие сессии."
   ]
  },
  {
   "cell_type": "markdown",
   "metadata": {},
   "source": [
    "### Категоризация данных\n"
   ]
  },
  {
   "cell_type": "markdown",
   "metadata": {},
   "source": [
    "Создадим новую категориальную переменную - является ли сессия нулевой."
   ]
  },
  {
   "cell_type": "code",
   "execution_count": 150,
   "metadata": {},
   "outputs": [],
   "source": [
    "df_visits['is_zero_session'] = df_visits.apply(lambda x: 'да' if x['session_duration'] == 0 else 'нет', axis=1)"
   ]
  },
  {
   "cell_type": "code",
   "execution_count": 151,
   "metadata": {},
   "outputs": [
    {
     "data": {
      "text/plain": [
       "is_zero_session\n",
       "нет    323592\n",
       "да      35794\n",
       "Name: count, dtype: int64"
      ]
     },
     "execution_count": 151,
     "metadata": {},
     "output_type": "execute_result"
    }
   ],
   "source": [
    "df_visits['is_zero_session'].value_counts()"
   ]
  },
  {
   "cell_type": "markdown",
   "metadata": {},
   "source": [
    "Создадим новую категориальную переменную из стоимости заказа."
   ]
  },
  {
   "cell_type": "markdown",
   "metadata": {},
   "source": [
    "Посмотрим на квантили в столбце с суммой заказа."
   ]
  },
  {
   "cell_type": "code",
   "execution_count": 152,
   "metadata": {},
   "outputs": [
    {
     "data": {
      "text/html": [
       "<style type=\"text/css\">\n",
       "#T_4b996 caption {\n",
       "  font-size: 15px;\n",
       "}\n",
       "#T_4b996_row0_col0, #T_4b996_row0_col1, #T_4b996_row1_col0, #T_4b996_row1_col1, #T_4b996_row2_col0, #T_4b996_row2_col1, #T_4b996_row3_col0, #T_4b996_row3_col1, #T_4b996_row4_col0, #T_4b996_row4_col1, #T_4b996_row5_col0, #T_4b996_row5_col1, #T_4b996_row6_col0, #T_4b996_row6_col1 {\n",
       "  text-align: left;\n",
       "}\n",
       "</style>\n",
       "<table id=\"T_4b996\">\n",
       "  <caption>Quantiles</caption>\n",
       "  <thead>\n",
       "  </thead>\n",
       "  <tbody>\n",
       "    <tr>\n",
       "      <td id=\"T_4b996_row0_col0\" class=\"data row0 col0\" >Max</td>\n",
       "      <td id=\"T_4b996_row0_col1\" class=\"data row0 col1\" >2 633.28</td>\n",
       "    </tr>\n",
       "    <tr>\n",
       "      <td id=\"T_4b996_row1_col0\" class=\"data row1 col0\" >95</td>\n",
       "      <td id=\"T_4b996_row1_col1\" class=\"data row1 col1\" >13.75</td>\n",
       "    </tr>\n",
       "    <tr>\n",
       "      <td id=\"T_4b996_row2_col0\" class=\"data row2 col0\" >75</td>\n",
       "      <td id=\"T_4b996_row2_col1\" class=\"data row2 col1\" >4.89</td>\n",
       "    </tr>\n",
       "    <tr>\n",
       "      <td id=\"T_4b996_row3_col0\" class=\"data row3 col0\" >50</td>\n",
       "      <td id=\"T_4b996_row3_col1\" class=\"data row3 col1\" >2.5</td>\n",
       "    </tr>\n",
       "    <tr>\n",
       "      <td id=\"T_4b996_row4_col0\" class=\"data row4 col0\" >25</td>\n",
       "      <td id=\"T_4b996_row4_col1\" class=\"data row4 col1\" >1.22</td>\n",
       "    </tr>\n",
       "    <tr>\n",
       "      <td id=\"T_4b996_row5_col0\" class=\"data row5 col0\" >5</td>\n",
       "      <td id=\"T_4b996_row5_col1\" class=\"data row5 col1\" >0.37</td>\n",
       "    </tr>\n",
       "    <tr>\n",
       "      <td id=\"T_4b996_row6_col0\" class=\"data row6 col0\" >Min</td>\n",
       "      <td id=\"T_4b996_row6_col1\" class=\"data row6 col1\" >0.01</td>\n",
       "    </tr>\n",
       "  </tbody>\n",
       "</table>\n"
      ],
      "text/plain": [
       "<pandas.io.formats.style.Styler at 0x752d10252990>"
      ]
     },
     "metadata": {},
     "output_type": "display_data"
    }
   ],
   "source": [
    "pagri_data_tools.quantiles_columns(df_orders.revenue)"
   ]
  },
  {
   "cell_type": "markdown",
   "metadata": {},
   "source": [
    "Сделаем следующие категории\n",
    "\n",
    "- Дешевые: Заказы ниже Q1   \n",
    "- Средние: Заказы между Q1 и Q3  \n",
    "- Дорогие: Заказы выше Q3  "
   ]
  },
  {
   "cell_type": "code",
   "execution_count": 153,
   "metadata": {},
   "outputs": [],
   "source": [
    "labels = ['Дешевые', 'Средние', 'Дорогие']\n",
    "bins = [-np.inf, 1.22, 4.89, np.inf]"
   ]
  },
  {
   "cell_type": "code",
   "execution_count": 154,
   "metadata": {},
   "outputs": [
    {
     "data": {
      "text/plain": [
       "revenue_cat\n",
       "Средние    25516\n",
       "Дешевые    12824\n",
       "Дорогие    12023\n",
       "Name: count, dtype: int64"
      ]
     },
     "execution_count": 154,
     "metadata": {},
     "output_type": "execute_result"
    }
   ],
   "source": [
    "df_orders['revenue_cat'] = pagri_data_tools.create_category_column(df_orders.revenue, labels=labels, bins=bins)\n",
    "df_orders['revenue_cat'].value_counts(dropna=False)"
   ]
  },
  {
   "cell_type": "markdown",
   "metadata": {},
   "source": [
    "Создадим новую категориальную переменную из расходов на рекламную компанию."
   ]
  },
  {
   "cell_type": "markdown",
   "metadata": {},
   "source": [
    "Посмотрим на квантили в столбце с суммой заказа."
   ]
  },
  {
   "cell_type": "code",
   "execution_count": 155,
   "metadata": {},
   "outputs": [
    {
     "data": {
      "text/html": [
       "<style type=\"text/css\">\n",
       "#T_986eb caption {\n",
       "  font-size: 15px;\n",
       "}\n",
       "#T_986eb_row0_col0, #T_986eb_row0_col1, #T_986eb_row1_col0, #T_986eb_row1_col1, #T_986eb_row2_col0, #T_986eb_row2_col1, #T_986eb_row3_col0, #T_986eb_row3_col1, #T_986eb_row4_col0, #T_986eb_row4_col1, #T_986eb_row5_col0, #T_986eb_row5_col1, #T_986eb_row6_col0, #T_986eb_row6_col1 {\n",
       "  text-align: left;\n",
       "}\n",
       "</style>\n",
       "<table id=\"T_986eb\">\n",
       "  <caption>Quantiles</caption>\n",
       "  <thead>\n",
       "  </thead>\n",
       "  <tbody>\n",
       "    <tr>\n",
       "      <td id=\"T_986eb_row0_col0\" class=\"data row0 col0\" >Max</td>\n",
       "      <td id=\"T_986eb_row0_col1\" class=\"data row0 col1\" >1 788.28</td>\n",
       "    </tr>\n",
       "    <tr>\n",
       "      <td id=\"T_986eb_row1_col0\" class=\"data row1 col0\" >95</td>\n",
       "      <td id=\"T_986eb_row1_col1\" class=\"data row1 col1\" >470.72</td>\n",
       "    </tr>\n",
       "    <tr>\n",
       "      <td id=\"T_986eb_row2_col0\" class=\"data row2 col0\" >75</td>\n",
       "      <td id=\"T_986eb_row2_col1\" class=\"data row2 col1\" >170.06</td>\n",
       "    </tr>\n",
       "    <tr>\n",
       "      <td id=\"T_986eb_row3_col0\" class=\"data row3 col0\" >50</td>\n",
       "      <td id=\"T_986eb_row3_col1\" class=\"data row3 col1\" >77.3</td>\n",
       "    </tr>\n",
       "    <tr>\n",
       "      <td id=\"T_986eb_row4_col0\" class=\"data row4 col0\" >25</td>\n",
       "      <td id=\"T_986eb_row4_col1\" class=\"data row4 col1\" >21.95</td>\n",
       "    </tr>\n",
       "    <tr>\n",
       "      <td id=\"T_986eb_row5_col0\" class=\"data row5 col0\" >5</td>\n",
       "      <td id=\"T_986eb_row5_col1\" class=\"data row5 col1\" >7.39</td>\n",
       "    </tr>\n",
       "    <tr>\n",
       "      <td id=\"T_986eb_row6_col0\" class=\"data row6 col0\" >Min</td>\n",
       "      <td id=\"T_986eb_row6_col1\" class=\"data row6 col1\" >0.54</td>\n",
       "    </tr>\n",
       "  </tbody>\n",
       "</table>\n"
      ],
      "text/plain": [
       "<pandas.io.formats.style.Styler at 0x752d1021f860>"
      ]
     },
     "metadata": {},
     "output_type": "display_data"
    }
   ],
   "source": [
    "pagri_data_tools.quantiles_columns(df_costs.promo_costs)"
   ]
  },
  {
   "cell_type": "markdown",
   "metadata": {},
   "source": [
    "Сделаем следующие категории\n",
    "\n",
    "- Дешевые: Заказы ниже Q1   \n",
    "- Средние: Заказы между Q1 и Q3  \n",
    "- Дорогие: Заказы выше Q3  "
   ]
  },
  {
   "cell_type": "code",
   "execution_count": 156,
   "metadata": {},
   "outputs": [],
   "source": [
    "labels = ['Дешевые', 'Средние', 'Дорогие']\n",
    "bins = [-np.inf, 21.95, 170.06, np.inf]"
   ]
  },
  {
   "cell_type": "markdown",
   "metadata": {},
   "source": [
    "Если нужно пропуски заменить, то добавляем параметр `fillnavalue='не укаазано'`"
   ]
  },
  {
   "cell_type": "code",
   "execution_count": 157,
   "metadata": {},
   "outputs": [
    {
     "data": {
      "text/plain": [
       "promo_costs_cat\n",
       "Средние    1270\n",
       "Дешевые     636\n",
       "Дорогие     636\n",
       "Name: count, dtype: int64"
      ]
     },
     "execution_count": 157,
     "metadata": {},
     "output_type": "execute_result"
    }
   ],
   "source": [
    "df_costs['promo_costs_cat'] = pagri_data_tools.create_category_column(df_costs.promo_costs, labels=labels, bins=bins)\n",
    "df_costs['promo_costs_cat'].value_counts(dropna=False)"
   ]
  },
  {
   "cell_type": "markdown",
   "metadata": {},
   "source": [
    "Для даты начала сессии создадим новую категориальную переменную в формате месяц год."
   ]
  },
  {
   "cell_type": "code",
   "execution_count": 158,
   "metadata": {},
   "outputs": [],
   "source": [
    "# Словарь для замены месяцев\n",
    "months_translation = {\n",
    "    'Jan': 'Янв',\n",
    "    'Feb': 'Фев',\n",
    "    'Mar': 'Мар',\n",
    "    'Apr': 'Апр',\n",
    "    'May': 'Май',\n",
    "    'Jun': 'Июн',\n",
    "    'Jul': 'Июл',\n",
    "    'Aug': 'Авг',\n",
    "    'Sep': 'Сен',\n",
    "    'Oct': 'Окт',\n",
    "    'Nov': 'Ноя',\n",
    "    'Dec': 'Дек'\n",
    "}\n",
    "# Получаем отдельно месяц и год\n",
    "months = df_visits['session_start_dt'].dt.strftime('%b').astype('category').cat.reorder_categories(list(months_translation.keys()), ordered=True)\n",
    "years = df_visits['session_start_dt'].dt.strftime('%y')\n",
    "months_years = pd.concat([months, years], axis=1)\n",
    "months_years.columns = ['month', 'year']\n",
    "# Создаем список уникальных (год, месяц) и сортируем\n",
    "unique_months = months_years.drop_duplicates().sort_values(by=['year', 'month'])\n",
    "\n",
    "# Создаем список для порядка\n",
    "month_year_order = []\n",
    "\n",
    "# Формируем month_year_order на основе уникальных (год, месяц)\n",
    "for _, row in unique_months.iterrows():\n",
    "    year = row['year']\n",
    "    month = row['month']\n",
    "    month_year_order.append(f\"{months_translation[month]}'{str(year)[-2:]}\")\n",
    "\n",
    "# Заменяем месяцы и соединяем с годом\n",
    "df_visits['session_start_dt_month_year'] = months.astype(str).map(months_translation) + \"'\" + years\n",
    "df_visits['session_start_dt_month_year'] = df_visits['session_start_dt_month_year'].astype('category')\n",
    "df_visits['session_start_dt_month_year'] = df_visits['session_start_dt_month_year'].cat.reorder_categories(month_year_order, ordered=True)"
   ]
  },
  {
   "cell_type": "markdown",
   "metadata": {},
   "source": [
    "Для даты заказа создадим новую категориальную переменную в формате месяц год."
   ]
  },
  {
   "cell_type": "code",
   "execution_count": 159,
   "metadata": {},
   "outputs": [],
   "source": [
    "# Словарь для замены месяцев\n",
    "months_translation = {\n",
    "    'Jan': 'Янв',\n",
    "    'Feb': 'Фев',\n",
    "    'Mar': 'Мар',\n",
    "    'Apr': 'Апр',\n",
    "    'May': 'Май',\n",
    "    'Jun': 'Июн',\n",
    "    'Jul': 'Июл',\n",
    "    'Aug': 'Авг',\n",
    "    'Sep': 'Сен',\n",
    "    'Oct': 'Окт',\n",
    "    'Nov': 'Ноя',\n",
    "    'Dec': 'Дек'\n",
    "}\n",
    "# Получаем отдельно месяц и год\n",
    "months = df_orders['order_dt'].dt.strftime('%b').astype('category').cat.reorder_categories(list(months_translation.keys()), ordered=True)\n",
    "years = df_orders['order_dt'].dt.strftime('%y')\n",
    "months_years = pd.concat([months, years], axis=1)\n",
    "months_years.columns = ['month', 'year']\n",
    "# Создаем список уникальных (год, месяц) и сортируем\n",
    "unique_months = months_years.drop_duplicates().sort_values(by=['year', 'month'])\n",
    "\n",
    "# Создаем список для порядка\n",
    "month_year_order = []\n",
    "\n",
    "# Формируем month_year_order на основе уникальных (год, месяц)\n",
    "for _, row in unique_months.iterrows():\n",
    "    year = row['year']\n",
    "    month = row['month']\n",
    "    month_year_order.append(f\"{months_translation[month]}'{str(year)[-2:]}\")\n",
    "\n",
    "# Заменяем месяцы и соединяем с годом\n",
    "df_orders['order_dt_month_year'] = months.astype(str).map(months_translation) + \"'\" + years\n",
    "df_orders['order_dt_month_year'] = df_orders['order_dt_month_year'].astype('category')\n",
    "df_orders['order_dt_month_year'] = df_orders['order_dt_month_year'].cat.reorder_categories(month_year_order, ordered=True)"
   ]
  },
  {
   "cell_type": "markdown",
   "metadata": {},
   "source": [
    "Для даты рекламной компании создадим новую категориальную переменную в формате месяц год."
   ]
  },
  {
   "cell_type": "code",
   "execution_count": 160,
   "metadata": {},
   "outputs": [],
   "source": [
    "# Словарь для замены месяцев\n",
    "months_translation = {\n",
    "    'Jan': 'Янв',\n",
    "    'Feb': 'Фев',\n",
    "    'Mar': 'Мар',\n",
    "    'Apr': 'Апр',\n",
    "    'May': 'Май',\n",
    "    'Jun': 'Июн',\n",
    "    'Jul': 'Июл',\n",
    "    'Aug': 'Авг',\n",
    "    'Sep': 'Сен',\n",
    "    'Oct': 'Окт',\n",
    "    'Nov': 'Ноя',\n",
    "    'Dec': 'Дек'\n",
    "}\n",
    "# Получаем отдельно месяц и год\n",
    "months = df_costs['promo_date'].dt.strftime('%b').astype('category').cat.reorder_categories(list(months_translation.keys()), ordered=True)\n",
    "years = df_costs['promo_date'].dt.strftime('%y')\n",
    "months_years = pd.concat([months, years], axis=1)\n",
    "months_years.columns = ['month', 'year']\n",
    "# Создаем список уникальных (год, месяц) и сортируем\n",
    "unique_months = months_years.drop_duplicates().sort_values(by=['year', 'month'])\n",
    "\n",
    "# Создаем список для порядка\n",
    "month_year_order = []\n",
    "\n",
    "# Формируем month_year_order на основе уникальных (год, месяц)\n",
    "for _, row in unique_months.iterrows():\n",
    "    year = row['year']\n",
    "    month = row['month']\n",
    "    month_year_order.append(f\"{months_translation[month]}'{str(year)[-2:]}\")\n",
    "\n",
    "# Заменяем месяцы и соединяем с годом\n",
    "df_costs['promo_date_month_year'] = months.astype(str).map(months_translation) + \"'\" + years\n",
    "df_costs['promo_date_month_year'] = df_costs['promo_date_month_year'].astype('category')\n",
    "df_costs['promo_date_month_year'] = df_costs['promo_date_month_year'].cat.reorder_categories(month_year_order, ordered=True)"
   ]
  },
  {
   "cell_type": "markdown",
   "metadata": {},
   "source": [
    "### Расчет метрик\n"
   ]
  },
  {
   "cell_type": "markdown",
   "metadata": {},
   "source": [
    "Сгруппируем данные по месяцам и объеденим таблицы"
   ]
  },
  {
   "cell_type": "code",
   "execution_count": 163,
   "metadata": {},
   "outputs": [
    {
     "data": {
      "text/html": [
       "<div>\n",
       "<style scoped>\n",
       "    .dataframe tbody tr th:only-of-type {\n",
       "        vertical-align: middle;\n",
       "    }\n",
       "\n",
       "    .dataframe tbody tr th {\n",
       "        vertical-align: top;\n",
       "    }\n",
       "\n",
       "    .dataframe thead th {\n",
       "        text-align: right;\n",
       "    }\n",
       "</style>\n",
       "<table border=\"1\" class=\"dataframe\">\n",
       "  <thead>\n",
       "    <tr style=\"text-align: right;\">\n",
       "      <th></th>\n",
       "      <th>device</th>\n",
       "      <th>session_end_dt</th>\n",
       "      <th>source_id</th>\n",
       "      <th>session_start_dt</th>\n",
       "      <th>uid</th>\n",
       "      <th>session_duration</th>\n",
       "      <th>is_zero_session</th>\n",
       "      <th>session_start_dt_month_year</th>\n",
       "      <th>user_first_month</th>\n",
       "      <th>is_new_user</th>\n",
       "    </tr>\n",
       "  </thead>\n",
       "  <tbody>\n",
       "    <tr>\n",
       "      <th>0</th>\n",
       "      <td>touch</td>\n",
       "      <td>2017-12-20 17:38:00</td>\n",
       "      <td>4</td>\n",
       "      <td>2017-12-20 17:20:00</td>\n",
       "      <td>16879256277535980062</td>\n",
       "      <td>18.00</td>\n",
       "      <td>нет</td>\n",
       "      <td>Дек'17</td>\n",
       "      <td>Дек'17</td>\n",
       "      <td>True</td>\n",
       "    </tr>\n",
       "  </tbody>\n",
       "</table>\n",
       "</div>"
      ],
      "text/plain": [
       "  device      session_end_dt source_id    session_start_dt  \\\n",
       "0  touch 2017-12-20 17:38:00         4 2017-12-20 17:20:00   \n",
       "\n",
       "                    uid  session_duration is_zero_session  \\\n",
       "0  16879256277535980062             18.00             нет   \n",
       "\n",
       "  session_start_dt_month_year user_first_month  is_new_user  \n",
       "0                      Дек'17           Дек'17         True  "
      ]
     },
     "execution_count": 163,
     "metadata": {},
     "output_type": "execute_result"
    }
   ],
   "source": [
    "df_visits.head(1)"
   ]
  },
  {
   "cell_type": "code",
   "execution_count": null,
   "metadata": {},
   "outputs": [],
   "source": [
    "# Находим первый месяц для каждого клиента\n",
    "df_visits['user_first_month'] = df_visits.groupby('uid')['session_start_dt_month_year'].transform('min')\n",
    "# Теперь мы можем определить новых клиентов\n",
    "df_visits['is_new_user'] = df_visits['user_first_month'] == df_visits['session_start_dt_month_year']\n"
   ]
  },
  {
   "cell_type": "code",
   "execution_count": 173,
   "metadata": {},
   "outputs": [],
   "source": [
    "# Сначала отфильтруем новых пользователей\n",
    "new_users_cnt = df_visits[df_visits['is_new_user']].groupby('session_start_dt_month_year', observed=True).agg(\n",
    "    new_user_cnt=('uid', 'nunique')\n",
    ")\n",
    "\n",
    "# Затем сгруппируем все данные\n",
    "df_visits_monthly = df_visits.groupby('session_start_dt_month_year', observed=True).agg(\n",
    "    session_cnt=('uid', 'count'),\n",
    "    mau=('uid', 'nunique'),\n",
    "    total_session_len=('session_duration', 'sum'),\n",
    "    avg_session_len=('session_duration', 'mean')\n",
    ")\n",
    "\n",
    "# Объединим результаты\n",
    "df_visits_monthly = df_visits_monthly.join(new_users_cnt, how='outer')\n",
    "df_visits_monthly.index.name = 'month_year'"
   ]
  },
  {
   "cell_type": "code",
   "execution_count": 174,
   "metadata": {},
   "outputs": [
    {
     "data": {
      "text/html": [
       "<div>\n",
       "<style scoped>\n",
       "    .dataframe tbody tr th:only-of-type {\n",
       "        vertical-align: middle;\n",
       "    }\n",
       "\n",
       "    .dataframe tbody tr th {\n",
       "        vertical-align: top;\n",
       "    }\n",
       "\n",
       "    .dataframe thead th {\n",
       "        text-align: right;\n",
       "    }\n",
       "</style>\n",
       "<table border=\"1\" class=\"dataframe\">\n",
       "  <thead>\n",
       "    <tr style=\"text-align: right;\">\n",
       "      <th></th>\n",
       "      <th>session_cnt</th>\n",
       "      <th>mau</th>\n",
       "      <th>total_session_len</th>\n",
       "      <th>avg_session_len</th>\n",
       "      <th>new_user_cnt</th>\n",
       "    </tr>\n",
       "    <tr>\n",
       "      <th>month_year</th>\n",
       "      <th></th>\n",
       "      <th></th>\n",
       "      <th></th>\n",
       "      <th></th>\n",
       "      <th></th>\n",
       "    </tr>\n",
       "  </thead>\n",
       "  <tbody>\n",
       "    <tr>\n",
       "      <th>Июн'17</th>\n",
       "      <td>16505</td>\n",
       "      <td>13259</td>\n",
       "      <td>165,056.63</td>\n",
       "      <td>10.00</td>\n",
       "      <td>13259</td>\n",
       "    </tr>\n",
       "    <tr>\n",
       "      <th>Июл'17</th>\n",
       "      <td>17828</td>\n",
       "      <td>14183</td>\n",
       "      <td>179,657.58</td>\n",
       "      <td>10.08</td>\n",
       "      <td>13140</td>\n",
       "    </tr>\n",
       "    <tr>\n",
       "      <th>Авг'17</th>\n",
       "      <td>14355</td>\n",
       "      <td>11631</td>\n",
       "      <td>140,940.72</td>\n",
       "      <td>9.82</td>\n",
       "      <td>10181</td>\n",
       "    </tr>\n",
       "    <tr>\n",
       "      <th>Сен'17</th>\n",
       "      <td>23907</td>\n",
       "      <td>18975</td>\n",
       "      <td>237,950.53</td>\n",
       "      <td>9.95</td>\n",
       "      <td>16704</td>\n",
       "    </tr>\n",
       "    <tr>\n",
       "      <th>Окт'17</th>\n",
       "      <td>37903</td>\n",
       "      <td>29692</td>\n",
       "      <td>388,181.10</td>\n",
       "      <td>10.24</td>\n",
       "      <td>25977</td>\n",
       "    </tr>\n",
       "  </tbody>\n",
       "</table>\n",
       "</div>"
      ],
      "text/plain": [
       "            session_cnt    mau  total_session_len  avg_session_len  \\\n",
       "month_year                                                           \n",
       "Июн'17            16505  13259         165,056.63            10.00   \n",
       "Июл'17            17828  14183         179,657.58            10.08   \n",
       "Авг'17            14355  11631         140,940.72             9.82   \n",
       "Сен'17            23907  18975         237,950.53             9.95   \n",
       "Окт'17            37903  29692         388,181.10            10.24   \n",
       "\n",
       "            new_user_cnt  \n",
       "month_year                \n",
       "Июн'17             13259  \n",
       "Июл'17             13140  \n",
       "Авг'17             10181  \n",
       "Сен'17             16704  \n",
       "Окт'17             25977  "
      ]
     },
     "execution_count": 174,
     "metadata": {},
     "output_type": "execute_result"
    }
   ],
   "source": [
    "df_visits_monthly.head(5)"
   ]
  },
  {
   "cell_type": "code",
   "execution_count": 176,
   "metadata": {},
   "outputs": [],
   "source": [
    "# Находим первый месяц для каждого покупателя\n",
    "df_orders['buyer_first_month'] = df_orders.groupby('uid')['order_dt_month_year'].transform('min')\n",
    "# Теперь мы можем определить новых покупателей\n",
    "df_orders['is_new_buyer'] = df_orders['buyer_first_month'] == df_orders['order_dt_month_year']"
   ]
  },
  {
   "cell_type": "code",
   "execution_count": 177,
   "metadata": {},
   "outputs": [],
   "source": [
    "# Сначала отфильтруем новых пользователей\n",
    "new_buers_cnt = df_orders[df_orders['is_new_buyer']].groupby('order_dt_month_year', observed=True).agg(\n",
    "    new_buer_cnt=('uid', 'nunique')\n",
    ")\n",
    "\n",
    "df_orders_monthly = df_orders.groupby('order_dt_month_year', observed=True).agg(\n",
    "    orders_cnt = ('uid', 'count')\n",
    "    , buyers = ('uid', 'nunique')\n",
    "    , total_revenue = ('revenue', 'sum')\n",
    "    , avg_order_value = ('revenue', 'mean')\n",
    ")\n",
    "df_orders_monthly = df_orders_monthly.join(new_buers_cnt, how='outer')\n",
    "df_orders_monthly.index.name = 'month_year'"
   ]
  },
  {
   "cell_type": "code",
   "execution_count": 178,
   "metadata": {},
   "outputs": [
    {
     "data": {
      "text/html": [
       "<div>\n",
       "<style scoped>\n",
       "    .dataframe tbody tr th:only-of-type {\n",
       "        vertical-align: middle;\n",
       "    }\n",
       "\n",
       "    .dataframe tbody tr th {\n",
       "        vertical-align: top;\n",
       "    }\n",
       "\n",
       "    .dataframe thead th {\n",
       "        text-align: right;\n",
       "    }\n",
       "</style>\n",
       "<table border=\"1\" class=\"dataframe\">\n",
       "  <thead>\n",
       "    <tr style=\"text-align: right;\">\n",
       "      <th></th>\n",
       "      <th>orders_cnt</th>\n",
       "      <th>buyers</th>\n",
       "      <th>total_revenue</th>\n",
       "      <th>avg_order_value</th>\n",
       "      <th>new_buer_cnt</th>\n",
       "    </tr>\n",
       "    <tr>\n",
       "      <th>month_year</th>\n",
       "      <th></th>\n",
       "      <th></th>\n",
       "      <th></th>\n",
       "      <th></th>\n",
       "      <th></th>\n",
       "    </tr>\n",
       "  </thead>\n",
       "  <tbody>\n",
       "    <tr>\n",
       "      <th>Июн'17</th>\n",
       "      <td>2353</td>\n",
       "      <td>2022</td>\n",
       "      <td>9,557.49</td>\n",
       "      <td>4.06</td>\n",
       "      <td>2022</td>\n",
       "    </tr>\n",
       "    <tr>\n",
       "      <th>Июл'17</th>\n",
       "      <td>2362</td>\n",
       "      <td>1983</td>\n",
       "      <td>12,539.47</td>\n",
       "      <td>5.31</td>\n",
       "      <td>1922</td>\n",
       "    </tr>\n",
       "    <tr>\n",
       "      <th>Авг'17</th>\n",
       "      <td>1803</td>\n",
       "      <td>1471</td>\n",
       "      <td>8,758.78</td>\n",
       "      <td>4.86</td>\n",
       "      <td>1369</td>\n",
       "    </tr>\n",
       "    <tr>\n",
       "      <th>Сен'17</th>\n",
       "      <td>3383</td>\n",
       "      <td>2748</td>\n",
       "      <td>18,345.51</td>\n",
       "      <td>5.42</td>\n",
       "      <td>2579</td>\n",
       "    </tr>\n",
       "    <tr>\n",
       "      <th>Окт'17</th>\n",
       "      <td>5677</td>\n",
       "      <td>4673</td>\n",
       "      <td>27,987.70</td>\n",
       "      <td>4.93</td>\n",
       "      <td>4340</td>\n",
       "    </tr>\n",
       "  </tbody>\n",
       "</table>\n",
       "</div>"
      ],
      "text/plain": [
       "            orders_cnt  buyers  total_revenue  avg_order_value  new_buer_cnt\n",
       "month_year                                                                  \n",
       "Июн'17            2353    2022       9,557.49             4.06          2022\n",
       "Июл'17            2362    1983      12,539.47             5.31          1922\n",
       "Авг'17            1803    1471       8,758.78             4.86          1369\n",
       "Сен'17            3383    2748      18,345.51             5.42          2579\n",
       "Окт'17            5677    4673      27,987.70             4.93          4340"
      ]
     },
     "execution_count": 178,
     "metadata": {},
     "output_type": "execute_result"
    }
   ],
   "source": [
    "df_orders_monthly.head(5)"
   ]
  },
  {
   "cell_type": "code",
   "execution_count": 179,
   "metadata": {},
   "outputs": [],
   "source": [
    "df_costs_monthly = df_costs.groupby('promo_date_month_year', observed=True).agg(\n",
    "    promo_cnt = ('source_id', 'count')\n",
    "    , promo_cnt_unq = ('source_id', 'nunique')\n",
    "    , total_promo_costs = ('promo_costs', 'sum')\n",
    "    , avg_promo_costs = ('promo_costs', 'mean')\n",
    ")\n",
    "df_costs_monthly.index.name = 'month_year'"
   ]
  },
  {
   "cell_type": "code",
   "execution_count": 77,
   "metadata": {},
   "outputs": [
    {
     "data": {
      "text/html": [
       "<div>\n",
       "<style scoped>\n",
       "    .dataframe tbody tr th:only-of-type {\n",
       "        vertical-align: middle;\n",
       "    }\n",
       "\n",
       "    .dataframe tbody tr th {\n",
       "        vertical-align: top;\n",
       "    }\n",
       "\n",
       "    .dataframe thead th {\n",
       "        text-align: right;\n",
       "    }\n",
       "</style>\n",
       "<table border=\"1\" class=\"dataframe\">\n",
       "  <thead>\n",
       "    <tr style=\"text-align: right;\">\n",
       "      <th></th>\n",
       "      <th>promo_cnt</th>\n",
       "      <th>promo_cnt_unq</th>\n",
       "      <th>total_promo_costs</th>\n",
       "      <th>avg_promo_costs</th>\n",
       "    </tr>\n",
       "    <tr>\n",
       "      <th>month_year</th>\n",
       "      <th></th>\n",
       "      <th></th>\n",
       "      <th></th>\n",
       "      <th></th>\n",
       "    </tr>\n",
       "  </thead>\n",
       "  <tbody>\n",
       "    <tr>\n",
       "      <th>Июн'17</th>\n",
       "      <td>210</td>\n",
       "      <td>7</td>\n",
       "      <td>18,015.00</td>\n",
       "      <td>85.79</td>\n",
       "    </tr>\n",
       "    <tr>\n",
       "      <th>Июл'17</th>\n",
       "      <td>217</td>\n",
       "      <td>7</td>\n",
       "      <td>18,240.59</td>\n",
       "      <td>84.06</td>\n",
       "    </tr>\n",
       "    <tr>\n",
       "      <th>Авг'17</th>\n",
       "      <td>217</td>\n",
       "      <td>7</td>\n",
       "      <td>14,790.54</td>\n",
       "      <td>68.16</td>\n",
       "    </tr>\n",
       "    <tr>\n",
       "      <th>Сен'17</th>\n",
       "      <td>210</td>\n",
       "      <td>7</td>\n",
       "      <td>24,368.91</td>\n",
       "      <td>116.04</td>\n",
       "    </tr>\n",
       "    <tr>\n",
       "      <th>Окт'17</th>\n",
       "      <td>217</td>\n",
       "      <td>7</td>\n",
       "      <td>36,322.88</td>\n",
       "      <td>167.39</td>\n",
       "    </tr>\n",
       "  </tbody>\n",
       "</table>\n",
       "</div>"
      ],
      "text/plain": [
       "            promo_cnt  promo_cnt_unq  total_promo_costs  avg_promo_costs\n",
       "month_year                                                              \n",
       "Июн'17            210              7          18,015.00            85.79\n",
       "Июл'17            217              7          18,240.59            84.06\n",
       "Авг'17            217              7          14,790.54            68.16\n",
       "Сен'17            210              7          24,368.91           116.04\n",
       "Окт'17            217              7          36,322.88           167.39"
      ]
     },
     "execution_count": 77,
     "metadata": {},
     "output_type": "execute_result"
    }
   ],
   "source": [
    "df_costs_monthly.head(5)"
   ]
  },
  {
   "cell_type": "code",
   "execution_count": 180,
   "metadata": {},
   "outputs": [
    {
     "data": {
      "text/plain": [
       "12"
      ]
     },
     "execution_count": 180,
     "metadata": {},
     "output_type": "execute_result"
    }
   ],
   "source": [
    "df_visits_monthly.shape[0]"
   ]
  },
  {
   "cell_type": "code",
   "execution_count": 181,
   "metadata": {},
   "outputs": [
    {
     "data": {
      "text/plain": [
       "12"
      ]
     },
     "execution_count": 181,
     "metadata": {},
     "output_type": "execute_result"
    }
   ],
   "source": [
    "df_orders_monthly.shape[0]"
   ]
  },
  {
   "cell_type": "code",
   "execution_count": 182,
   "metadata": {},
   "outputs": [
    {
     "data": {
      "text/plain": [
       "12"
      ]
     },
     "execution_count": 182,
     "metadata": {},
     "output_type": "execute_result"
    }
   ],
   "source": [
    "df_costs_monthly.shape[0]"
   ]
  },
  {
   "cell_type": "code",
   "execution_count": 183,
   "metadata": {},
   "outputs": [],
   "source": [
    "df_monthly = df_visits_monthly.join(df_orders_monthly, how='outer')"
   ]
  },
  {
   "cell_type": "code",
   "execution_count": 184,
   "metadata": {},
   "outputs": [],
   "source": [
    "df_monthly = df_monthly.join(df_costs_monthly, how='outer')"
   ]
  },
  {
   "cell_type": "code",
   "execution_count": 185,
   "metadata": {},
   "outputs": [],
   "source": [
    "df_monthly = df_monthly.reset_index()"
   ]
  },
  {
   "cell_type": "code",
   "execution_count": 186,
   "metadata": {},
   "outputs": [
    {
     "data": {
      "text/plain": [
       "12"
      ]
     },
     "execution_count": 186,
     "metadata": {},
     "output_type": "execute_result"
    }
   ],
   "source": [
    "df_monthly.shape[0]"
   ]
  },
  {
   "cell_type": "markdown",
   "metadata": {},
   "source": [
    "Убедимся, что у нас нет NA"
   ]
  },
  {
   "cell_type": "code",
   "execution_count": 187,
   "metadata": {},
   "outputs": [
    {
     "data": {
      "text/plain": [
       "month_year           0\n",
       "session_cnt          0\n",
       "mau                  0\n",
       "total_session_len    0\n",
       "avg_session_len      0\n",
       "new_user_cnt         0\n",
       "orders_cnt           0\n",
       "buyers               0\n",
       "total_revenue        0\n",
       "avg_order_value      0\n",
       "new_buer_cnt         0\n",
       "promo_cnt            0\n",
       "promo_cnt_unq        0\n",
       "total_promo_costs    0\n",
       "avg_promo_costs      0\n",
       "dtype: int64"
      ]
     },
     "execution_count": 187,
     "metadata": {},
     "output_type": "execute_result"
    }
   ],
   "source": [
    "df_monthly.isna().sum()"
   ]
  },
  {
   "cell_type": "markdown",
   "metadata": {},
   "source": [
    "Расчитаем разные метрики для будущего анализа"
   ]
  },
  {
   "cell_type": "code",
   "execution_count": 188,
   "metadata": {},
   "outputs": [
    {
     "data": {
      "text/html": [
       "<div>\n",
       "<style scoped>\n",
       "    .dataframe tbody tr th:only-of-type {\n",
       "        vertical-align: middle;\n",
       "    }\n",
       "\n",
       "    .dataframe tbody tr th {\n",
       "        vertical-align: top;\n",
       "    }\n",
       "\n",
       "    .dataframe thead th {\n",
       "        text-align: right;\n",
       "    }\n",
       "</style>\n",
       "<table border=\"1\" class=\"dataframe\">\n",
       "  <thead>\n",
       "    <tr style=\"text-align: right;\">\n",
       "      <th></th>\n",
       "      <th>month_year</th>\n",
       "      <th>session_cnt</th>\n",
       "      <th>mau</th>\n",
       "      <th>total_session_len</th>\n",
       "      <th>avg_session_len</th>\n",
       "      <th>new_user_cnt</th>\n",
       "      <th>orders_cnt</th>\n",
       "      <th>buyers</th>\n",
       "      <th>total_revenue</th>\n",
       "      <th>avg_order_value</th>\n",
       "      <th>new_buer_cnt</th>\n",
       "      <th>promo_cnt</th>\n",
       "      <th>promo_cnt_unq</th>\n",
       "      <th>total_promo_costs</th>\n",
       "      <th>avg_promo_costs</th>\n",
       "    </tr>\n",
       "  </thead>\n",
       "  <tbody>\n",
       "    <tr>\n",
       "      <th>0</th>\n",
       "      <td>Июн'17</td>\n",
       "      <td>16505</td>\n",
       "      <td>13259</td>\n",
       "      <td>165,056.63</td>\n",
       "      <td>10.00</td>\n",
       "      <td>13259</td>\n",
       "      <td>2353</td>\n",
       "      <td>2022</td>\n",
       "      <td>9,557.49</td>\n",
       "      <td>4.06</td>\n",
       "      <td>2022</td>\n",
       "      <td>210</td>\n",
       "      <td>7</td>\n",
       "      <td>18,015.00</td>\n",
       "      <td>85.79</td>\n",
       "    </tr>\n",
       "  </tbody>\n",
       "</table>\n",
       "</div>"
      ],
      "text/plain": [
       "  month_year  session_cnt    mau  total_session_len  avg_session_len  \\\n",
       "0     Июн'17        16505  13259         165,056.63            10.00   \n",
       "\n",
       "   new_user_cnt  orders_cnt  buyers  total_revenue  avg_order_value  \\\n",
       "0         13259        2353    2022       9,557.49             4.06   \n",
       "\n",
       "   new_buer_cnt  promo_cnt  promo_cnt_unq  total_promo_costs  avg_promo_costs  \n",
       "0          2022        210              7          18,015.00            85.79  "
      ]
     },
     "execution_count": 188,
     "metadata": {},
     "output_type": "execute_result"
    }
   ],
   "source": [
    "df_monthly.head(1)"
   ]
  },
  {
   "cell_type": "markdown",
   "metadata": {},
   "source": [
    "Доля новых пользователей и доля новых покупателей покупателей"
   ]
  },
  {
   "cell_type": "code",
   "execution_count": 189,
   "metadata": {},
   "outputs": [],
   "source": [
    "df_monthly['new_users_ratio'] = df_monthly['new_user_cnt'] / df_monthly['mau']\n",
    "df_monthly['new_buers_ratio'] = df_monthly['new_buer_cnt'] / df_monthly['buyers']"
   ]
  },
  {
   "cell_type": "markdown",
   "metadata": {},
   "source": [
    "Доля покупателей из всех пользователей и доля новых покупателей из всех новых пользователей"
   ]
  },
  {
   "cell_type": "code",
   "execution_count": 190,
   "metadata": {},
   "outputs": [],
   "source": [
    "df_monthly['buers_users_ration'] = df_monthly['buyers'] / df_monthly['mau']\n",
    "df_monthly['new_buers_users_ration'] = df_monthly['new_buer_cnt'] / df_monthly['new_user_cnt']"
   ]
  },
  {
   "cell_type": "markdown",
   "metadata": {},
   "source": [
    "Стоимость привлечения одного покупателя"
   ]
  },
  {
   "cell_type": "code",
   "execution_count": null,
   "metadata": {},
   "outputs": [],
   "source": [
    "df_monthly['cac'] = (df_monthly.total_promo_costs / df_monthly.new_buer_cnt).round(2)"
   ]
  },
  {
   "cell_type": "markdown",
   "metadata": {},
   "source": [
    "Стоимость привлечения одного пользователя"
   ]
  },
  {
   "cell_type": "code",
   "execution_count": null,
   "metadata": {},
   "outputs": [],
   "source": [
    "df_monthly['cpa'] = (df_monthly.total_promo_costs / df_monthly.new_user_cnt).round(2)"
   ]
  },
  {
   "cell_type": "markdown",
   "metadata": {},
   "source": [
    "Среднее количество покупок на одного клиента."
   ]
  },
  {
   "cell_type": "code",
   "execution_count": null,
   "metadata": {},
   "outputs": [],
   "source": [
    "df_monthly['apc'] = (df_monthly.orders_cnt / df_monthly.buyers).round(2)"
   ]
  },
  {
   "cell_type": "markdown",
   "metadata": {},
   "source": [
    "Средний чек"
   ]
  },
  {
   "cell_type": "code",
   "execution_count": null,
   "metadata": {},
   "outputs": [],
   "source": [
    "df_monthly['aov'] = (df_monthly.total_revenue / df_monthly.orders_cnt).round(2)"
   ]
  },
  {
   "cell_type": "markdown",
   "metadata": {},
   "source": [
    "Выручка с одного пользователя"
   ]
  },
  {
   "cell_type": "code",
   "execution_count": null,
   "metadata": {},
   "outputs": [],
   "source": [
    "df_monthly['arpu'] = (df_monthly.total_revenue / df_monthly.mau).round(2)"
   ]
  },
  {
   "cell_type": "markdown",
   "metadata": {},
   "source": [
    "Выручка с одного покупателя"
   ]
  },
  {
   "cell_type": "code",
   "execution_count": null,
   "metadata": {},
   "outputs": [],
   "source": [
    "df_monthly['arppu'] = (df_monthly.total_revenue / df_monthly.buyers).round(2)"
   ]
  },
  {
   "cell_type": "markdown",
   "metadata": {},
   "source": [
    "Валовая прибыль"
   ]
  },
  {
   "cell_type": "code",
   "execution_count": 199,
   "metadata": {},
   "outputs": [],
   "source": [
    "df_monthly['margin'] = df_monthly.total_revenue  - df_monthly.total_promo_costs"
   ]
  },
  {
   "cell_type": "markdown",
   "metadata": {},
   "source": [
    "Маржинальность"
   ]
  },
  {
   "cell_type": "code",
   "execution_count": 200,
   "metadata": {},
   "outputs": [],
   "source": [
    "df_monthly['margin_pct'] = (df_monthly.margin / df_monthly.total_revenue).round(2)"
   ]
  },
  {
   "cell_type": "markdown",
   "metadata": {},
   "source": [
    "Подготовим датафреймы для когортного анализа"
   ]
  },
  {
   "cell_type": "markdown",
   "metadata": {},
   "source": [
    "Таблица визитов"
   ]
  },
  {
   "cell_type": "code",
   "execution_count": 202,
   "metadata": {},
   "outputs": [
    {
     "data": {
      "text/html": [
       "<div>\n",
       "<style scoped>\n",
       "    .dataframe tbody tr th:only-of-type {\n",
       "        vertical-align: middle;\n",
       "    }\n",
       "\n",
       "    .dataframe tbody tr th {\n",
       "        vertical-align: top;\n",
       "    }\n",
       "\n",
       "    .dataframe thead th {\n",
       "        text-align: right;\n",
       "    }\n",
       "</style>\n",
       "<table border=\"1\" class=\"dataframe\">\n",
       "  <thead>\n",
       "    <tr style=\"text-align: right;\">\n",
       "      <th></th>\n",
       "      <th>device</th>\n",
       "      <th>session_end_dt</th>\n",
       "      <th>source_id</th>\n",
       "      <th>session_start_dt</th>\n",
       "      <th>uid</th>\n",
       "      <th>session_duration</th>\n",
       "      <th>is_zero_session</th>\n",
       "      <th>session_start_dt_month_year</th>\n",
       "      <th>user_first_month</th>\n",
       "      <th>is_new_user</th>\n",
       "    </tr>\n",
       "  </thead>\n",
       "  <tbody>\n",
       "    <tr>\n",
       "      <th>0</th>\n",
       "      <td>touch</td>\n",
       "      <td>2017-12-20 17:38:00</td>\n",
       "      <td>4</td>\n",
       "      <td>2017-12-20 17:20:00</td>\n",
       "      <td>16879256277535980062</td>\n",
       "      <td>18.00</td>\n",
       "      <td>нет</td>\n",
       "      <td>Дек'17</td>\n",
       "      <td>Дек'17</td>\n",
       "      <td>True</td>\n",
       "    </tr>\n",
       "  </tbody>\n",
       "</table>\n",
       "</div>"
      ],
      "text/plain": [
       "  device      session_end_dt source_id    session_start_dt  \\\n",
       "0  touch 2017-12-20 17:38:00         4 2017-12-20 17:20:00   \n",
       "\n",
       "                    uid  session_duration is_zero_session  \\\n",
       "0  16879256277535980062             18.00             нет   \n",
       "\n",
       "  session_start_dt_month_year user_first_month  is_new_user  \n",
       "0                      Дек'17           Дек'17         True  "
      ]
     },
     "execution_count": 202,
     "metadata": {},
     "output_type": "execute_result"
    }
   ],
   "source": [
    "df_visits.head(1)"
   ]
  },
  {
   "cell_type": "code",
   "execution_count": 233,
   "metadata": {},
   "outputs": [],
   "source": [
    "df_visits['tmp_user_first_month'] = df_visits.groupby('uid')['session_start_dt'].transform('min')"
   ]
  },
  {
   "cell_type": "code",
   "execution_count": null,
   "metadata": {},
   "outputs": [],
   "source": [
    "df_visits['cohort_lifetime'] = (\n",
    "    (df_visits['session_start_dt'].dt.year - df_visits['tmp_user_first_month'].dt.year) * 12 +\n",
    "    (df_visits['session_start_dt'].dt.month - df_visits['tmp_user_first_month'].dt.month)\n",
    ")"
   ]
  },
  {
   "cell_type": "markdown",
   "metadata": {},
   "source": [
    "Убедимся, что нет отрицательных значений"
   ]
  },
  {
   "cell_type": "code",
   "execution_count": 239,
   "metadata": {},
   "outputs": [
    {
     "data": {
      "text/plain": [
       "np.int64(0)"
      ]
     },
     "execution_count": 239,
     "metadata": {},
     "output_type": "execute_result"
    }
   ],
   "source": [
    "(df_visits['cohort_lifetime'] < 0).sum()"
   ]
  },
  {
   "cell_type": "code",
   "execution_count": 242,
   "metadata": {},
   "outputs": [],
   "source": [
    "df_visits.drop('tmp_user_first_month', axis=1, inplace=True)"
   ]
  },
  {
   "cell_type": "markdown",
   "metadata": {},
   "source": [
    "Таблица заказов"
   ]
  },
  {
   "cell_type": "code",
   "execution_count": 244,
   "metadata": {},
   "outputs": [
    {
     "data": {
      "text/html": [
       "<div>\n",
       "<style scoped>\n",
       "    .dataframe tbody tr th:only-of-type {\n",
       "        vertical-align: middle;\n",
       "    }\n",
       "\n",
       "    .dataframe tbody tr th {\n",
       "        vertical-align: top;\n",
       "    }\n",
       "\n",
       "    .dataframe thead th {\n",
       "        text-align: right;\n",
       "    }\n",
       "</style>\n",
       "<table border=\"1\" class=\"dataframe\">\n",
       "  <thead>\n",
       "    <tr style=\"text-align: right;\">\n",
       "      <th></th>\n",
       "      <th>order_dt</th>\n",
       "      <th>revenue</th>\n",
       "      <th>uid</th>\n",
       "      <th>revenue_cat</th>\n",
       "      <th>order_dt_month_year</th>\n",
       "      <th>buyer_first_month</th>\n",
       "      <th>is_new_buyer</th>\n",
       "    </tr>\n",
       "  </thead>\n",
       "  <tbody>\n",
       "    <tr>\n",
       "      <th>0</th>\n",
       "      <td>2017-06-01 00:10:00</td>\n",
       "      <td>17.00</td>\n",
       "      <td>10329302124590727494</td>\n",
       "      <td>Дорогие</td>\n",
       "      <td>Июн'17</td>\n",
       "      <td>Июн'17</td>\n",
       "      <td>True</td>\n",
       "    </tr>\n",
       "  </tbody>\n",
       "</table>\n",
       "</div>"
      ],
      "text/plain": [
       "             order_dt  revenue                   uid revenue_cat  \\\n",
       "0 2017-06-01 00:10:00    17.00  10329302124590727494     Дорогие   \n",
       "\n",
       "  order_dt_month_year buyer_first_month  is_new_buyer  \n",
       "0              Июн'17            Июн'17          True  "
      ]
     },
     "execution_count": 244,
     "metadata": {},
     "output_type": "execute_result"
    }
   ],
   "source": [
    "df_orders.head(1)"
   ]
  },
  {
   "cell_type": "code",
   "execution_count": 245,
   "metadata": {},
   "outputs": [],
   "source": [
    "df_orders['tmp_buyer_first_month'] = df_orders.groupby('uid')['order_dt'].transform('min')"
   ]
  },
  {
   "cell_type": "code",
   "execution_count": 246,
   "metadata": {},
   "outputs": [],
   "source": [
    "df_orders['cohort_lifetime'] = (\n",
    "    (df_orders['order_dt'].dt.year - df_orders['tmp_buyer_first_month'].dt.year) * 12 +\n",
    "    (df_orders['order_dt'].dt.month - df_orders['tmp_buyer_first_month'].dt.month)\n",
    ")"
   ]
  },
  {
   "cell_type": "markdown",
   "metadata": {},
   "source": [
    "Убедимся, что нет отрицательных значений"
   ]
  },
  {
   "cell_type": "code",
   "execution_count": 247,
   "metadata": {},
   "outputs": [
    {
     "data": {
      "text/plain": [
       "np.int64(0)"
      ]
     },
     "execution_count": 247,
     "metadata": {},
     "output_type": "execute_result"
    }
   ],
   "source": [
    "(df_orders['cohort_lifetime'] < 0).sum()"
   ]
  },
  {
   "cell_type": "code",
   "execution_count": 248,
   "metadata": {},
   "outputs": [],
   "source": [
    "df_orders.drop('tmp_buyer_first_month', axis=1, inplace=True)"
   ]
  },
  {
   "cell_type": "markdown",
   "metadata": {},
   "source": [
    "Сгруппируем данные по месяцу когорты и lifetime"
   ]
  },
  {
   "cell_type": "code",
   "execution_count": 282,
   "metadata": {},
   "outputs": [],
   "source": [
    "df_visits_cohort_by_month = df_visits.rename(columns={'user_first_month': 'cohort_month_year'}).groupby(['cohort_month_year', 'cohort_lifetime'], observed=True).agg(\n",
    "    visits_cnt=('uid', 'nunique'),\n",
    ")"
   ]
  },
  {
   "cell_type": "code",
   "execution_count": 283,
   "metadata": {},
   "outputs": [],
   "source": [
    "df_orders_cohort_by_month = df_orders.rename(columns={'buyer_first_month': 'cohort_month_year'}).groupby(['cohort_month_year', 'cohort_lifetime'], observed=True).agg(\n",
    "    buyers_cnt=('uid', 'nunique'),\n",
    "    revenue=('revenue', 'sum'),\n",
    "    orders_cnt=('uid', 'count'),\n",
    ")"
   ]
  },
  {
   "cell_type": "markdown",
   "metadata": {},
   "source": [
    "Объеденим таблицы в одну"
   ]
  },
  {
   "cell_type": "code",
   "execution_count": 277,
   "metadata": {},
   "outputs": [
    {
     "data": {
      "text/plain": [
       "78"
      ]
     },
     "execution_count": 277,
     "metadata": {},
     "output_type": "execute_result"
    }
   ],
   "source": [
    "df_visits_cohort_by_month.shape[0]"
   ]
  },
  {
   "cell_type": "code",
   "execution_count": 278,
   "metadata": {},
   "outputs": [
    {
     "data": {
      "text/plain": [
       "78"
      ]
     },
     "execution_count": 278,
     "metadata": {},
     "output_type": "execute_result"
    }
   ],
   "source": [
    "df_orders_cohort_by_month.shape[0]"
   ]
  },
  {
   "cell_type": "code",
   "execution_count": 285,
   "metadata": {},
   "outputs": [],
   "source": [
    "df_cohort = df_visits_cohort_by_month.join(df_orders_cohort_by_month, how='outer').reset_index()"
   ]
  },
  {
   "cell_type": "code",
   "execution_count": 280,
   "metadata": {},
   "outputs": [
    {
     "data": {
      "text/plain": [
       "78"
      ]
     },
     "execution_count": 280,
     "metadata": {},
     "output_type": "execute_result"
    }
   ],
   "source": [
    "df_cohort.shape[0]"
   ]
  },
  {
   "cell_type": "code",
   "execution_count": 289,
   "metadata": {},
   "outputs": [],
   "source": [
    "df_cohort = df_cohort.merge(df_costs_monthly.reset_index(), left_on='cohort_month_year', right_on='month_year', how='outer').drop('month_year', axis=1)"
   ]
  },
  {
   "cell_type": "markdown",
   "metadata": {},
   "source": [
    "Убедимся, что у нас нет NA"
   ]
  },
  {
   "cell_type": "code",
   "execution_count": 290,
   "metadata": {},
   "outputs": [
    {
     "data": {
      "text/plain": [
       "cohort_month_year    0\n",
       "cohort_lifetime      0\n",
       "visits_cnt           0\n",
       "buyers_cnt           0\n",
       "revenue              0\n",
       "orders_cnt           0\n",
       "promo_cnt            0\n",
       "promo_cnt_unq        0\n",
       "total_promo_costs    0\n",
       "avg_promo_costs      0\n",
       "dtype: int64"
      ]
     },
     "execution_count": 290,
     "metadata": {},
     "output_type": "execute_result"
    }
   ],
   "source": [
    "df_cohort.isna().sum()"
   ]
  },
  {
   "cell_type": "markdown",
   "metadata": {},
   "source": [
    "Все хорошо.  \n",
    "Теперь расчитаем метрики для когорт"
   ]
  },
  {
   "cell_type": "code",
   "execution_count": 291,
   "metadata": {},
   "outputs": [
    {
     "data": {
      "text/html": [
       "<div>\n",
       "<style scoped>\n",
       "    .dataframe tbody tr th:only-of-type {\n",
       "        vertical-align: middle;\n",
       "    }\n",
       "\n",
       "    .dataframe tbody tr th {\n",
       "        vertical-align: top;\n",
       "    }\n",
       "\n",
       "    .dataframe thead th {\n",
       "        text-align: right;\n",
       "    }\n",
       "</style>\n",
       "<table border=\"1\" class=\"dataframe\">\n",
       "  <thead>\n",
       "    <tr style=\"text-align: right;\">\n",
       "      <th></th>\n",
       "      <th>cohort_month_year</th>\n",
       "      <th>cohort_lifetime</th>\n",
       "      <th>visits_cnt</th>\n",
       "      <th>buyers_cnt</th>\n",
       "      <th>revenue</th>\n",
       "      <th>orders_cnt</th>\n",
       "      <th>promo_cnt</th>\n",
       "      <th>promo_cnt_unq</th>\n",
       "      <th>total_promo_costs</th>\n",
       "      <th>avg_promo_costs</th>\n",
       "    </tr>\n",
       "  </thead>\n",
       "  <tbody>\n",
       "    <tr>\n",
       "      <th>0</th>\n",
       "      <td>Июн'17</td>\n",
       "      <td>0</td>\n",
       "      <td>13259</td>\n",
       "      <td>2022</td>\n",
       "      <td>9,557.49</td>\n",
       "      <td>2353</td>\n",
       "      <td>210</td>\n",
       "      <td>7</td>\n",
       "      <td>18,015.00</td>\n",
       "      <td>85.79</td>\n",
       "    </tr>\n",
       "  </tbody>\n",
       "</table>\n",
       "</div>"
      ],
      "text/plain": [
       "  cohort_month_year  cohort_lifetime  visits_cnt  buyers_cnt  revenue  \\\n",
       "0            Июн'17                0       13259        2022 9,557.49   \n",
       "\n",
       "   orders_cnt  promo_cnt  promo_cnt_unq  total_promo_costs  avg_promo_costs  \n",
       "0        2353        210              7          18,015.00            85.79  "
      ]
     },
     "execution_count": 291,
     "metadata": {},
     "output_type": "execute_result"
    }
   ],
   "source": [
    "df_cohort.head(1)"
   ]
  },
  {
   "cell_type": "markdown",
   "metadata": {},
   "source": [
    "Стоимость привлечения одного покупателя"
   ]
  },
  {
   "cell_type": "code",
   "execution_count": null,
   "metadata": {},
   "outputs": [],
   "source": [
    "df_monthly['cac'] = (df_monthly.total_promo_costs / df_monthly.new_buer_cnt).round(2)"
   ]
  },
  {
   "cell_type": "markdown",
   "metadata": {},
   "source": [
    "Стоимость привлечения одного пользователя"
   ]
  },
  {
   "cell_type": "code",
   "execution_count": null,
   "metadata": {},
   "outputs": [],
   "source": [
    "df_monthly['cpa'] = (df_monthly.total_promo_costs / df_monthly.new_user_cnt).round(2)"
   ]
  },
  {
   "cell_type": "markdown",
   "metadata": {},
   "source": [
    "Среднее количество покупок на одного клиента."
   ]
  },
  {
   "cell_type": "code",
   "execution_count": null,
   "metadata": {},
   "outputs": [],
   "source": [
    "df_monthly['apc'] = (df_monthly.orders_cnt / df_monthly.buyers).round(2)"
   ]
  },
  {
   "cell_type": "markdown",
   "metadata": {},
   "source": [
    "Средний чек"
   ]
  },
  {
   "cell_type": "code",
   "execution_count": null,
   "metadata": {},
   "outputs": [],
   "source": [
    "df_monthly['aov'] = (df_monthly.total_revenue / df_monthly.orders_cnt).round(2)"
   ]
  },
  {
   "cell_type": "markdown",
   "metadata": {},
   "source": [
    "Выручка с одного пользователя"
   ]
  },
  {
   "cell_type": "code",
   "execution_count": null,
   "metadata": {},
   "outputs": [],
   "source": [
    "df_monthly['arpu'] = (df_monthly.total_revenue / df_monthly.mau).round(2)"
   ]
  },
  {
   "cell_type": "markdown",
   "metadata": {},
   "source": [
    "Выручка с одного покупателя"
   ]
  },
  {
   "cell_type": "code",
   "execution_count": null,
   "metadata": {},
   "outputs": [],
   "source": [
    "df_monthly['arppu'] = (df_monthly.total_revenue / df_monthly.buyers).round(2)"
   ]
  },
  {
   "cell_type": "markdown",
   "metadata": {},
   "source": [
    "Валовая прибыль"
   ]
  },
  {
   "cell_type": "code",
   "execution_count": null,
   "metadata": {},
   "outputs": [],
   "source": [
    "df_monthly['margin'] = df_monthly.total_revenue  - df_monthly.total_promo_costs"
   ]
  },
  {
   "cell_type": "markdown",
   "metadata": {},
   "source": [
    "Маржинальность"
   ]
  },
  {
   "cell_type": "code",
   "execution_count": null,
   "metadata": {},
   "outputs": [],
   "source": [
    "df_monthly['margin_pct'] = (df_monthly.margin / df_monthly.total_revenue).round(2)"
   ]
  },
  {
   "cell_type": "code",
   "execution_count": null,
   "metadata": {},
   "outputs": [],
   "source": []
  },
  {
   "cell_type": "code",
   "execution_count": null,
   "metadata": {},
   "outputs": [],
   "source": []
  },
  {
   "cell_type": "markdown",
   "metadata": {},
   "source": [
    "- $\\text{ROMI} = \\frac{\\text{LTV}}{\\text{CARC}} * 100$\n",
    "\n"
   ]
  },
  {
   "cell_type": "markdown",
   "metadata": {},
   "source": [
    "Способы расчета LTV  \n",
    "ВАЖНО: \n",
    "LTV расчитываются на определнном периоде, поэтому нужно это всегда уточнять и ARPU тогда должна быть расчитана на этот же период и  \n",
    "lifetime долен иметь изменрение такого же периода (то есть если ARPU за месяц, то lifetime в месяцах)  \n",
    "Лучше всего считать LTV через когорты, тогда нам не нужен lifetime  \n",
    "Расчет через валовую прибыль\n",
    "- $\\text{LTV} = \\text{margin rate} * \\frac{\\text{Total revenue by period}}{\\text{total users by period}}$\n",
    "- $\\text{LTV} = \\text{margin rate} * \\text{ARPU} * \\text{Lifetime}$\n",
    "- $ \\text{LTV} = \\text{(ARPU - CAC + CRC)} * \\text{Lifetime} $\n",
    "\n",
    "Расчет через выручку:\n",
    "- $\\text{LTV} = \\frac{\\text{Total revenue by period}}{\\text{total users by period}}$\n",
    "- $\\text{LTV} = \\text{ARPU} * \\text{Lifetime}$\n",
    "- $\\text{LTV} = \\text{AOV} * \\text{APC}$"
   ]
  },
  {
   "cell_type": "markdown",
   "metadata": {},
   "source": [
    "Чтобы рассчитать lifetime, нужно узнать Churn Rate за определенный период, который будет размерностью lifetime, то есть период должен быть таким же как в расчете ARPU\n",
    "\n",
    "$\\text{Lifetime} = \\frac{1}{\\text{Churn Rate}} $  "
   ]
  },
  {
   "cell_type": "markdown",
   "metadata": {},
   "source": [
    "Ltv лучше считать по когортам  \n",
    "И когда составили матрицу когорт, то уже успреднить каждый месяц жизни и потом суммировать все месяца (именно так, вертикально усредняем, горизонтально суммируем)  \n",
    "\n",
    "В иделае считать не просто среднее значение по когортам, а средневзвешенное.  \n",
    "То есть если мы хотим посчитать среднее значение по всем когортам какого-то показателя, то мы не просто суммируем все значения в когортах и делим на  \n",
    "число когорт, мы взвешиваем какждое значение когорты.  \n",
    "Есить 2 способа\n",
    "- умножать значение каждой когорты на ее размер и потом всю эту сумму разделить на общий размер всех когорт\n",
    "- сразу дать веса каждой когорты, то есть определить долю каждой когорты в общем.  \n",
    "Берем размер когорты и делим на размер всех когорт. И потом умнажаем значения в когортах на коэффиценты.  "
   ]
  },
  {
   "cell_type": "markdown",
   "metadata": {},
   "source": [
    "ВАЖНО  \n",
    "для всех метрик, считаем среднее (или мода или медиана) за все время, изображаем на графике во времени и в идеале строим когортный анализ.  \n",
    "То есть у нас должно быть аггрегированное за все время значение, разбитое во времени и разбитое по когортам."
   ]
  },
  {
   "cell_type": "markdown",
   "metadata": {},
   "source": [
    "Продуктовые метрики, которые полезно считать  \n",
    "- MAU, DAU, WAU  \n",
    "за весь период, динамика во времени по периодам\n",
    "- сколько раз за день пользователи в среднем заходят на сайт. график, отражающий изменения метрики во времени.\n",
    "    Сколько сессий в день можно нести два смысла\n",
    "    - сколько всего сессий в среднем проходит в день  \n",
    "    покажет среднюю нагрузку в день на сервис\n",
    "    - сколько в среднем совершает сессий 1 пользователь в день  \n",
    "    покажет поведение посетителей на платформе (как часто  они в днеь появляются)   \n",
    "- сколько времени пользователи проводят на сайте. график во времени  \n",
    "- продолжительность типичной пользовательской сессии за весь период. Чтобы выбрать подходящую среднюю меру, постройте график распределения. График во времени  \n",
    "    - рисуем гистограму или violine\n",
    "    - вычисляем все средние меры и выбираем наиболее подходящую из них и приводим число  \n",
    "    Если среднее, мода и медина примерно равны, то можно брать среднее.  \n",
    "    Но если они разные, то нужно подумать какое лучше взять и обосновать выбор.  \n",
    "    Как всегда пишем причины, почему выбрали эту метрику.  \n",
    "    Тут важно какой вопрос, если вопрос сколько обычно длиться одна сессия, и у нас ненормальное распределение длительностей сессий,  \n",
    "    то среднее значение будет некоректно, так как обычно в данном случае это будет мода, так как среднее будет  \n",
    "    смещенно вправо, елси у нас экспоненциальное распределение времени.  \n",
    "    Вот этот момент очень важен.  \n",
    "    Так как среднее введет в заблуждение.  \n",
    "    Обычно сессия длить как раз модальное значение.  \n",
    "- Рассчитайте Retention Rate, применяя когортный анализ. Покажите изменения метрики во времени на графике. Найдите средний Retention Rate на второй месяц «жизни» когорт.  \n",
    "    - расчитываем retention rate, для этого\n",
    "    - необходимо сделать когортный анализ по времени (по месяцам или неделям или дням и тп)  \n",
    "    Чтобы сделать когортный анализ, мы по одной оси откладываем даты, а по второй оси откладываем номер месяца,  \n",
    "    таким образом мы получим для одной даты разные значения retention rate черзе 1, 2, 3, 4 и так далее месяцев  \n",
    "    Будет динамика по месяцам от стартового месяца.  \n",
    "    Также дополнительно можно сделать тепловую карту времени и какой-нибудь каетгории (например возраст, пол польователей),  \n",
    "    retention rate можно считать просто относительно предыдущего месяца (тут уже не будет динамики по месяцам)\n",
    "\n",
    "    Ответ среднее значение, тепловая карта выводы  \n",
    "    Для описания тенденции, берем среднее значение за первый период (после нулевого) и смотрим как дальше относительно этого значения  \n",
    "    идут изменения"
   ]
  },
  {
   "cell_type": "markdown",
   "metadata": {},
   "source": [
    "Метрики электронной коммерции\n",
    "- сколько времени в среднем проходит с момента первого посещения сайта до совершения покупки. график во времени   \n",
    "    Нужно ответить на 2 вопроса\n",
    "    - Через сколько времени после первого посещения пользователь совершил первую покупку?  \n",
    "    - В какую по счету сессию люди начинают покупать?\n",
    "    Ответом будет среднее значение метрики (обоих вариантов) и выводы  \n",
    "    Дополнительно можно попробовать построить бар чар и посмотреть эти значения в разрезе какой-то категории\n",
    "- AOV. Применяя когортный анализ или другой метод, рассчитайте среднее количество покупок на одного покупателя за определённый период, например за 6 месяцев. график во времени\n",
    "    то есть сколько в среднем один покупатель делает покупок за период  \n",
    "    Для выбора периода нужно понять какой период нам лучше подходит, например если у нас данные за год,  \n",
    "    то период 6 месяцев будет нормально. \n",
    "    - Суммируем все покупки за все периоды и делим на количество покупателей, которое было в нулевой период  \n",
    "    Берем суммирем все покупки за первые 6 месяцев всех пользователей и   \n",
    "    делим на общее число пользователей в начале периода (в первый месяца)   \n",
    "    Важно уточнение за какой период  \n",
    "    Для расчета показателей за период X месяцев можно использовать только данные  \n",
    "    - по когортам, которые взаимодействуют с компанией в течении X месяцев или более  \n",
    "    - за первые X месяцев жизни когорт  \n",
    "- Рассчитайте средний чек, применяя группировку по времени совершения покупки. Когортный анализ не подходит — он может исказить расчёты. Постройте график, отражающий изменения метрики во времени.\n",
    "- Выясните, как меняется LTV на покупателя по когортам. Помните, что LTV — накопительная метрика. Рассчитайте средний LTV по когортам за 6 месяцев; в расчёт включайте когорты, «прожившие» не менее 6 месяцев. Маржинальность сервиса — 100%. Отразите изменения метрики во времени на графике;\n",
    "В финансовом менеджменте ответ на вопрос когда, также важен как ответ на вопрос сколько.  \n",
    "Тут важно указывать за какой промежуток, так как LTV считается за период и еденица периода должна идти в ответе.    \n",
    "Например, 3 y.e. это неверно    \n",
    "правильно будет 3 y.e./год   \n",
    "Тут у нас еденица расчета ltv это год     \n",
    "Для выбора периода нужно понять какой период нам лучше подходит, например если у нас данные за год,  \n",
    "то период 6 месяцев будет нормально. \n",
    "И нельзя сравнивать ltv за разные периоды.  \n",
    "Если мы выбрали год, то мы берем отсечку год от первого сессии и считаем сколько всего люди все потратили за это время  \n",
    "и делим на количество людей в первый период.  \n",
    "Очень частая ошибка считать сначала среднее по разным периодам (например среднее людей, которые прожили месяц, потом 2 и так далее),  \n",
    "а потом усреднять эти значения.  \n",
    "Тут нужно суммировать все доходы от всех и разделить на количество пользователей на старте.  \n",
    "Когорты это хорошо, но их нужно считать отдельно и не выводить из них общее среднее для всех.    \n",
    "Чтобы проверить правильно ли мы рассчитали LTV можно сравнить его с   \n",
    "LTV = среднее число покупок за выбранный период на одного пользователя * средний чек   \n",
    "До этого мы как раз посчитали среднее число покупок за период на одного пользователя и средний чек.  "
   ]
  },
  {
   "cell_type": "markdown",
   "metadata": {},
   "source": [
    "Маркетинговые метрики  \n",
    "- Посчитайте общую сумму расходов на маркетинг. Выясните, как траты распределены по источникам. Визуализируйте изменения метрик во времени;\n",
    "(значит нужно изучить как данные по расходам в всего изменяются во времени)  \n",
    "Ответ среднее занчение, график, выводы (можно сравнить с общей прибылью и можно cac сравнить с ltv)  \n",
    "график затрат на маркетинг не только по периодам, но ещё график затрат по источникам (бар плот и heatmap)  \n",
    "и сделать вывод какие источники самые затратные, какие менее затратные  \n",
    "- Рассчитайте средний CAC на одного покупателя для всего проекта и для каждого источника трафика. Отразите изменения метрик на графиках\n",
    "Важно, что метрика рассчитывается по покупателям, поэтому нам нужно использовать только тех, кто совершил хотя бы одну покупку  \n",
    "Сложность в том, что пользователи заходят с разных источников.  \n",
    "Возможные решения этой проблемы    \n",
    "    - вычислить в какую именно сессию была совершена покупка и привязать ее именно к этому источнику (с которого эта сессия произошла)\n",
    "    - привязать пользователя к тому источнику, с которого он чаще заходил  \n",
    "    - привязать пользователя к источнику, с которого он первый раз зашел на сервис     \n",
    "    этот метод предпочтительнее    \n",
    "Ответ - среднее значение метрики в целом и по разным источникам  \n",
    "таблица средних значений метрики по источника или/и график (бар плот)\n",
    "выводы\n",
    "-  Рассчитайте ROMI по когортам в разрезе источников. Сравните окупаемость за одинаковые периоды жизни когорт. Обратите внимание, что клиенты, пришедшие из разных источников, могут иметь разный LTV. Постройте графики, отражающие изменения метрик во времени.  \n",
    "Окупаемость считаем не от выручки, а от LTV (в целом и по источникам)  \n",
    "Не забывать про сопостовляемый период (как с LTV)\n",
    "Ответ - среднее значение метрики, таблица средних значений метрики по источникам и графики (бар плот и heatmap)"
   ]
  },
  {
   "cell_type": "markdown",
   "metadata": {},
   "source": [
    "ВАЖНО  \n",
    "Все метрики нужно посмотреть в разрезе разных параметров (которые есть, например, по платформам, полу пользователй и другим категориям) и сделать выводы,  \n",
    "о том как параметр влияет на каждую метрику. Посмотреть как они меняются во времени."
   ]
  },
  {
   "cell_type": "markdown",
   "metadata": {},
   "source": [
    "ВАЖНО  \n",
    "Если нам нужно выбрать главные метрики, которые нужно изучить, если у нас слишком много метрик или мало времени,  \n",
    "то собираем все метрики в датафрейм и строим матрицу корреляций.  \n",
    "И берем те метрики, которые имеют наибольшую корреляцию с целевой метрикой, чаще всего выручкой (60-70+)"
   ]
  },
  {
   "cell_type": "markdown",
   "metadata": {},
   "source": [
    "ВАЖНО  \n",
    "Выводы должны не просто описывать графики, а содержать рекомендации.  \n",
    "И общий вывод должен включить все метрики, которые мы получили (числами).  \n",
    "И сделать вывод основываясь на всех полученных метриках, а не просто сказать, что вот этот канал лушче других.  \n",
    "То есть в какой канал рекламы лучше направить больше выручки, какая категория больше приносит выручки (можно сделать предоложения почему). \n",
    "И итоговый вывод это всегда рекомендация что можно сделать, чтобы улучшить сервис, основываясь на полученных данных.  "
   ]
  },
  {
   "cell_type": "markdown",
   "metadata": {},
   "source": [
    "ВАЖНО  \n",
    "Сначал смотрим общую картину. Общую выручку, общие расходы, рентабельность и другие бизнес метрики, а потом уже спускаемся к детальным метрикам.  \n",
    "Хорошая проверка, это когда мы сначала просто смотрим выручку и расходы и получаем вывод о окупаемости сервиса.  \n",
    "А потом когда разобрали по метрикам, то результат должен сходиться, не должно быть так, что выручка - расходы говорит, что все плохо,  \n",
    "а выводы по метрикам, что все хорошо.  "
   ]
  },
  {
   "cell_type": "markdown",
   "metadata": {},
   "source": [
    "Что можно дополнительно посчитать"
   ]
  },
  {
   "cell_type": "markdown",
   "metadata": {},
   "source": [
    "- накопительная сумма продаж    \n",
    "- остаток на балансе (количество пришедших едениц минус количество ушедших)   \n",
    "- накопительный остаток   \n",
    "- создание категориальной переменной новый / постоянный клиент. Считаем для каждого клиента дату первой покупки,  если текущая дата  \n",
    "равна минимальной, то это новый. Также можно добавить, что если прошло больше N дней, то тоже новый."
   ]
  },
  {
   "cell_type": "markdown",
   "metadata": {},
   "source": [
    "#### Производные метрики"
   ]
  },
  {
   "cell_type": "markdown",
   "metadata": {},
   "source": [
    "Тут пишем разные производные метрики из имеющихся переменных.  \n",
    "Тут будут те метрики, которые нельзя отнести к остальным подразделам метрик. "
   ]
  },
  {
   "cell_type": "markdown",
   "metadata": {},
   "source": [
    "#### Ключевые показатели эффективности (KPI)"
   ]
  },
  {
   "cell_type": "markdown",
   "metadata": {},
   "source": [
    "Финансовые KPI\n",
    "\n",
    "- Выручка — общий доход от продаж товаров или услуг.\n",
    "- Прибыль — разница между доходами и расходами.\n",
    "- Рентабельность — отношение прибыли к выручке или к активам.\n",
    "- Коэффициент ликвидности — способность компании покрыть свои краткосрочные обязательства.\n",
    "- Себестоимость продаж — общие затраты на производство товаров или услуг.\n",
    "\n",
    "Операционные KPI\n",
    "\n",
    "- Производительность — количество продукции, произведенной за единицу времени.\n",
    "- Уровень запасов — количество товаров на складе в данный момент времени.\n",
    "- Время выполнения заказа — время, необходимое для обработки и доставки заказа.\n",
    "- Качество продукции — процент бракованных изделий или уровень удовлетворенности клиентов.\n",
    "\n",
    "Маркетинговые KPI\n",
    "\n",
    "- Стоимость привлечения клиента (CAC) — затраты на привлечение одного клиента.\n",
    "- Конверсия — процент пользователей, совершивших целевое действие (например, покупку).\n",
    "- Возврат на инвестиции в маркетинг (ROMI) — прибыль, полученная от маркетинговых кампаний.\n",
    "- Трафик на сайт — количество посетителей на сайте.\n",
    "\n",
    "KPI для HR\n",
    "\n",
    "- Текучесть кадров — процент сотрудников, покинувших компанию за определенный период.\n",
    "- Уровень удовлетворенности сотрудников — измеряется через опросы и анкетирования.\n",
    "- Среднее время найма — время, необходимое для заполнения вакансии.\n",
    "- Процент выполнения целей сотрудников — доля сотрудников, достигших своих KPI.\n",
    "\n",
    "KPI для обслуживания клиентов\n",
    "\n",
    "- Уровень удовлетворенности клиентов (CSAT) — измеряется через опросы после обслуживания.\n",
    "- Чистый промоутерский балл (NPS) — измеряет лояльность клиентов.\n",
    "- Время ответа на запросы — среднее время, необходимое для ответа на запросы клиентов.\n",
    "- Процент решенных проблем с первого обращения — доля запросов, решенных при первом контакте."
   ]
  },
  {
   "cell_type": "markdown",
   "metadata": {},
   "source": [
    "#### Финансовые метрики."
   ]
  },
  {
   "cell_type": "markdown",
   "metadata": {},
   "source": [
    "- Выручка\n",
    "- Прибыль\n",
    "- Рентабельность\n",
    "- Операционные расходы\n",
    "- Кэш-флоу"
   ]
  },
  {
   "cell_type": "markdown",
   "metadata": {},
   "source": [
    "#### Маркетинговые метрики"
   ]
  },
  {
   "cell_type": "markdown",
   "metadata": {},
   "source": [
    "- Стоимость привлечения клиента (CAC)\n",
    "- Пожизненная ценность клиента (LTV)\n",
    "- Конверсия\n",
    "- ROI (возврат на инвестиции)\n",
    "- Охват и вовлеченность"
   ]
  },
  {
   "cell_type": "markdown",
   "metadata": {},
   "source": [
    "#### Операционные метрики."
   ]
  },
  {
   "cell_type": "markdown",
   "metadata": {},
   "source": [
    "- Эффективность процессов\n",
    "- Время выполнения заказа\n",
    "- Уровень запасов\n",
    "- Производительность труда\n",
    "- Уровень дефектов"
   ]
  },
  {
   "cell_type": "markdown",
   "metadata": {},
   "source": [
    "#### Метрики пользовательского опыта."
   ]
  },
  {
   "cell_type": "markdown",
   "metadata": {},
   "source": [
    "- Удовлетворенность клиентов (CSAT)\n",
    "- Чистый промоутерский балл (NPS)\n",
    "- Время на сайте\n",
    "- Показатель отказов\n",
    "- Количество активных пользователей"
   ]
  },
  {
   "cell_type": "markdown",
   "metadata": {},
   "source": [
    "#### Метрики продаж"
   ]
  },
  {
   "cell_type": "markdown",
   "metadata": {},
   "source": [
    "- Объем продаж\n",
    "- Средний размер сделки\n",
    "- Темп роста продаж\n",
    "- Доля рынка\n",
    "- Уровень удержания клиентов"
   ]
  },
  {
   "cell_type": "markdown",
   "metadata": {},
   "source": [
    "#### Метрики производительности"
   ]
  },
  {
   "cell_type": "markdown",
   "metadata": {},
   "source": [
    "- Время выполнения задач\n",
    "- Эффективность использования ресурсов\n",
    "- Уровень производительности сотрудников\n",
    "- Качество продукции\n",
    "- Время простоя"
   ]
  },
  {
   "cell_type": "markdown",
   "metadata": {},
   "source": [
    "#### Метрики веб-аналитики"
   ]
  },
  {
   "cell_type": "markdown",
   "metadata": {},
   "source": [
    "- Посещения\n",
    "- Уникальные посетители\n",
    "- Время на странице\n",
    "- Конверсии по каналам\n",
    "- Источники трафика"
   ]
  },
  {
   "cell_type": "markdown",
   "metadata": {},
   "source": [
    "#### Метрики социальных медиа"
   ]
  },
  {
   "cell_type": "markdown",
   "metadata": {},
   "source": [
    "- Подписчики\n",
    "- Вовлеченность (лайки, комментарии, репосты)\n",
    "- Охват постов\n",
    "- Темп роста подписчиков\n",
    "- Анализ упоминаний бренда"
   ]
  },
  {
   "cell_type": "markdown",
   "metadata": {},
   "source": [
    "#### Метрики HR"
   ]
  },
  {
   "cell_type": "markdown",
   "metadata": {},
   "source": [
    "- Уровень текучести кадров\n",
    "- Удовлетворенность сотрудников\n",
    "- Время на заполнение вакансий\n",
    "- Эффективность обучения\n",
    "- Уровень вовлеченности сотрудников"
   ]
  },
  {
   "cell_type": "markdown",
   "metadata": {},
   "source": [
    "#### Метрики качества"
   ]
  },
  {
   "cell_type": "markdown",
   "metadata": {},
   "source": [
    "- Уровень удовлетворенности клиентов\n",
    "- Количество жалоб\n",
    "- Соответствие стандартам\n",
    "- Время на исправление дефектов\n",
    "- Показатели качества продукции"
   ]
  },
  {
   "cell_type": "markdown",
   "metadata": {},
   "source": [
    "#### Метрики продукта"
   ]
  },
  {
   "cell_type": "markdown",
   "metadata": {},
   "source": [
    "Финансовые метрики:\n",
    "\n",
    "- Выручка: общий доход от продаж.\n",
    "- LTV (Lifetime Value): пожизненная ценность клиента, показывающая, сколько дохода приносит клиент за все время взаимодействия с продуктом.\n",
    "- CAC (Customer Acquisition Cost): стоимость привлечения одного клиента.\n",
    "- ARPU (Average Revenue Per User): средний доход на пользователя.\n",
    "\n",
    "Метрики вовлеченности:\n",
    "    \n",
    "- DAU (Daily Active Users): количество уникальных пользователей, которые взаимодействуют с продуктом ежедневно.\n",
    "- WAU (Weekly Active Users): количество уникальных пользователей за неделю.\n",
    "- MAU (Monthly Active Users): количество уникальных пользователей за месяц.\n",
    "- Retention Rate: процент пользователей, которые продолжают использовать продукт после определенного периода.\n",
    "\n",
    "Метрики конверсии:\n",
    "\n",
    "- Conversion Rate: процент пользователей, которые выполняют целевое действие (например, покупка, регистрация).\n",
    "- Churn Rate: процент пользователей, которые перестают использовать продукт за определенный период.\n",
    "\n",
    "Метрики качества:\n",
    "\n",
    "- NPS (Net Promoter Score): показатель лояльности клиентов, основанный на их готовности рекомендовать продукт.\n",
    "- CSAT (Customer Satisfaction Score): уровень удовлетворенности клиентов продуктом.\n",
    "Метрики использования:\n",
    "\n",
    "- Average Session Duration: среднее время, проведенное пользователем в приложении или на сайте.\n",
    "- Bounce Rate: процент пользователей, которые покидают сайт после просмотра только одной страницы.\n",
    "\n",
    "Метрики роста:\n",
    "\n",
    "- GMV (Gross Merchandise Value): общий объем продаж товаров через платформу.\n",
    "- Monthly Recurring Revenue (MRR): ежемесячный повторяющийся доход, особенно важен для подписочных моделей."
   ]
  },
  {
   "cell_type": "markdown",
   "metadata": {},
   "source": [
    "#### Экономические метрики\n"
   ]
  },
  {
   "cell_type": "markdown",
   "metadata": {},
   "source": [
    "> тут будут расчеты экономических метрик\n"
   ]
  },
  {
   "cell_type": "markdown",
   "metadata": {},
   "source": [
    "> Если расчет метрик является важным аспектом вашего исследования и требует подробного описания, то создание отдельной главы будет лучшим решением.  \n",
    "> Если в этом разделе будет немного расчетов, то можно сделать расчеты метрик разделом предобработки данных\n"
   ]
  },
  {
   "cell_type": "markdown",
   "metadata": {},
   "source": [
    "> Расчитываем разные метрики на основе имеющихся данных и тех, которыми смогли обогатить данные\n"
   ]
  },
  {
   "cell_type": "markdown",
   "metadata": {},
   "source": [
    "> Важно следить за количеством недель в году, если мы создаем столбец месяца.  \n",
    "> Проверять чтобы у нас не появлялась неделя дополнительная, из за того, что мы захватили предыдущий год\n"
   ]
  },
  {
   "cell_type": "markdown",
   "metadata": {},
   "source": [
    "Финансовые метрики:\n",
    "\n",
    "- Выручка: общий доход от продаж товаров или услуг.\n",
    "- Прибыль: разница между выручкой и затратами, показывающая финансовый результат деятельности.\n",
    "- Рентабельность: отношение прибыли к выручке, выраженное в процентах, что позволяет оценить эффективность использования ресурсов.\n",
    "\n",
    "Метрики затрат:\n",
    "\n",
    "- Себестоимость: общие затраты на производство и продажу товаров или услуг.\n",
    "- Операционные расходы: затраты, связанные с основной деятельностью компании, включая зарплаты, аренду и коммунальные услуги.\n",
    "\n",
    "Метрики ликвидности:\n",
    "\n",
    "- Текущая ликвидность: отношение текущих активов к текущим обязательствам, показывающее способность компании покрывать краткосрочные долги.\n",
    "- Коэффициент быстрой ликвидности: более строгий показатель ликвидности, исключающий запасы из текущих активов.\n",
    "\n",
    "Метрики эффективности:\n",
    "\n",
    "- ROE (Return on Equity): доходность собственного капитала, показывающая, насколько эффективно компания использует средства акционеров.\n",
    "- ROA (Return on Assets): доходность активов, отражающая, как эффективно используются все активы компании для генерации прибыли.\n",
    "\n",
    "Метрики роста:\n",
    "\n",
    "- Темпы роста выручки: процентное изменение выручки за определенный период, показывающее динамику бизнеса.\n",
    "- Темпы роста прибыли: процентное изменение прибыли, что позволяет оценить финансовую устойчивость и развитие компании.\n",
    "\n",
    "Метрики инвестиционной привлекательности:\n",
    "\n",
    "- P/E (Price to Earnings Ratio): соотношение цены акции к прибыли на акцию, используемое для оценки стоимости компании.\n",
    "- EV/EBITDA (Enterprise Value to Earnings Before Interest, Taxes, Depreciation, and Amortization): показатель, который помогает оценить стоимость компании относительно ее операционной прибыли."
   ]
  },
  {
   "cell_type": "markdown",
   "metadata": {},
   "source": [
    "### Промежуточный вывод\n"
   ]
  },
  {
   "cell_type": "markdown",
   "metadata": {},
   "source": [
    "Чтобы собрать все наблюдения используем это  \n",
    "нужно поставить `_start_` где начало и `_end_` где конец"
   ]
  },
  {
   "cell_type": "markdown",
   "metadata": {},
   "source": [
    "Не забываем удалить метки `_start_` и `_end_` "
   ]
  },
  {
   "cell_type": "code",
   "execution_count": null,
   "metadata": {},
   "outputs": [],
   "source": [
    "import IPython\n",
    "notebook_path = \"/\".join(\n",
    "        IPython.extract_module_locals()[1][\"__vsc_ipynb_file__\"].split(\"/\"))\n",
    "pagri_data_tools.collect_observations(notebook_path, '/home/pagri/git_repos/pagri-projects/quarto/projects/prospective_tariff_for_telecom/temp_for_report.ipynb')"
   ]
  },
  {
   "cell_type": "markdown",
   "metadata": {},
   "source": [
    "## Визуализация взаимосвязей переменных\n"
   ]
  },
  {
   "cell_type": "markdown",
   "metadata": {},
   "source": [
    "Сначала пишем ИИ все наши таблицы и названия переменных, которые были и которые создали.  \n",
    "И спрашиваем какие зависимости нужно изучить. Пишем напиши подробный список.  \n",
    "Далее это вставляем в temp.ipynb и когда будем изучать то смотрим.  \n",
    "И в конце убедиться, что мы это все изучили. Если нет, то отедльно строим графики для этого.  \n",
    "Также в процессе сами думаем какие зависимости стоит изучить,  \n",
    "когда ИИ нам напишет список.  "
   ]
  },
  {
   "cell_type": "markdown",
   "metadata": {},
   "source": [
    "ВАЖНО  \n",
    "Смотрим и общую картину и по каждой нужно категории отедльно и делаем это за один проход, чтобы снова не проходить все данные.  \n",
    "И в такой последовательности мы можем сравнить общую картину и по каждой категории отдельно и сделать более точные выводы.\n",
    "В итоге будет график общей ситуации и далее графики по каждой категории.  \n",
    "Причем нужно определить, что для нас важно, что нужно отобразить в любом случае, даже если нет явных зависимостей.  \n",
    "А остальное сохраняем только то, что представляет интерес.  \n",
    "Схема следующая\n",
    "- Нужно выбрать важные категории и числовые переменные, которые мы хотим изучить отдельно.  \n",
    "- Когда изучаем графики, то изучаем всю картину целиком и затем изучаем отдельно каждую категорию."
   ]
  },
  {
   "cell_type": "markdown",
   "metadata": {},
   "source": [
    "ВАЖНО  \n",
    "Когда мы анализируем данные и у нас в категории болше 10 значений, то по возможности нужно брать топ 5-10 значений на графиках.  \n",
    "Нас в основном интересует топ 5-10 значений, а не все значения.  \n",
    "Бывают исключения, но чаще всего нам интересно оп 5-10 значений.  \n",
    "И тогда анализировать графики будет проще. И выводы можно будет сделать точнее.  "
   ]
  },
  {
   "cell_type": "markdown",
   "metadata": {},
   "source": [
    "ВАЖНО  \n",
    "Если у нас было несколько таблиц и мы создали общую из нескольких, то изучать нужно общую.  \n",
    "Или как минимуму общую тоже, так как будет ошибкой, изучить только исходые таблицы.  "
   ]
  },
  {
   "cell_type": "markdown",
   "metadata": {},
   "source": [
    "### Сравнительный анализ распределений числовых переменных по категориям"
   ]
  },
  {
   "cell_type": "markdown",
   "metadata": {},
   "source": [
    "Берем каждую числовую переменную и строим накладывающиеся гистограммы для всех категорий.  \n",
    "И так повторяем для всех числовых переменных."
   ]
  },
  {
   "cell_type": "markdown",
   "metadata": {},
   "source": [
    "ВАЖНО  \n",
    "Строим накладывющиеся гистограммы или боксплты / violin для всех числовых переменных.  \n",
    "Нужно изучить все числовые переменные и сравнить их распределения и сделать выводы какие лучше и прочее."
   ]
  },
  {
   "cell_type": "markdown",
   "metadata": {},
   "source": [
    "ВАЖНО   \n",
    "смотрим на выбросы  \n",
    "Мы могли при изучении отдельных столбцов не заметить их, если заметили, то возвращаемся в изучение и предобработку и изучаем их дополнительно"
   ]
  },
  {
   "cell_type": "markdown",
   "metadata": {},
   "source": [
    "ВАЖНО  \n",
    "категориальные переменные могут быть не только в отдельном столбце.  \n",
    "Категориальная переменная может быть разбита на разные столбцы.  \n",
    "Например, оценка пользователей и оценка критиков могут быть в отдельных столбцах.  \n",
    "Нужно при предобработке это не забыть привести  к категориальному типу, чтобы далее анализировать."
   ]
  },
  {
   "cell_type": "markdown",
   "metadata": {},
   "source": [
    "ВАЖНО  \n",
    "Если создали категориальную переменную есть пропуск или нет, то тут по ней тоже смотрим накладывающиеся гистограммы"
   ]
  },
  {
   "cell_type": "markdown",
   "metadata": {},
   "source": [
    "ВАЖНО  \n",
    "наложенные гистограммы нужно сделать не только для категориальных переменных.  \n",
    "У нас могут быть 2 числовые переменные, которые мы решили не соединятьь через melt  \n",
    "Но они имеют похожую природу. Для таких случаев тоже нужно сделать гистограммы."
   ]
  },
  {
   "cell_type": "markdown",
   "metadata": {},
   "source": [
    "ВАЖНО  \n",
    "Когда посторили боксплоты\n",
    "- сравниваем медианы, квартили, делаем выводы\n",
    "- сравниваем количество выбросво\n",
    "- сравниваем размахи внутри квартилей\n",
    "- сравниваем iqr\n",
    "- смотрим пересекаются ли irq у разных категорий, если не пересекаются, то это говорит о существенном отличии."
   ]
  },
  {
   "cell_type": "markdown",
   "metadata": {},
   "source": [
    "Сормируем словарь для подписей осей и названий графиков."
   ]
  },
  {
   "cell_type": "code",
   "execution_count": null,
   "metadata": {},
   "outputs": [],
   "source": [
    "titles_for_axis = dict(\n",
    "    # numeric column ['Именительный падеж', 'для кого / чего']\n",
    "    avg_score = ['Средняя оценка', 'средней оценки']\n",
    "    # categorical column ['Именительный падеж', 'для кого / чего']\n",
    "    # Распределение долей по городу и тарифу с нормализацией по городу\n",
    "    , genre = ['Жанр', 'жанра']\n",
    ")"
   ]
  },
  {
   "cell_type": "markdown",
   "metadata": {},
   "source": [
    "Строим накладывающиеся гистограммы для нужных числовых переменных в рарзрезе нужных категорий   \n",
    "в `histograms_stacked` есть `mode` со значениями`step` и `normal`  \n",
    "Если у нас категория имеет мало значений, то можно normal  \n",
    "Если у нас категория имеет много значений, то step  "
   ]
  },
  {
   "cell_type": "markdown",
   "metadata": {},
   "source": [
    "Если у нас числовая переменная разбита на несколько столбцов, то сначала мелтим ее"
   ]
  },
  {
   "cell_type": "code",
   "execution_count": null,
   "metadata": {},
   "outputs": [],
   "source": [
    "# Применяем melt для преобразования данных\n",
    "value_vars = ['critic_score', 'user_score']\n",
    "melted_df = pd.melt(df, # id_vars=df.columns.difference(value_vars), \n",
    "                    value_vars=value_vars,\n",
    "                    var_name='score_type', value_name='score')\n",
    "# Словарь для замены значений\n",
    "region_mapping = {\n",
    "    'critic_score': 'Оценка критиков',\n",
    "    'user_score': 'Оценка пользователей',\n",
    "}\n",
    "# Замена значений в столбце region\n",
    "melted_df['score_type'] = melted_df['score_type'].replace(region_mapping).astype('category')"
   ]
  },
  {
   "cell_type": "code",
   "execution_count": null,
   "metadata": {},
   "outputs": [],
   "source": [
    "config = dict(\n",
    "    df = df\n",
    "    , cat_var = 'genre'\n",
    "    , num_var = 'avg_score'\n",
    "    , top_n=3\n",
    "    , lower_quantile=0\n",
    "    , upper_quantile=1\n",
    "    , bins=20\n",
    "    , line_width=3\n",
    "    , opacity = 0.6\n",
    ")\n",
    "pagri_data_tools.histograms_stacked(config=config, titles_for_axis=titles_for_axis)"
   ]
  },
  {
   "cell_type": "markdown",
   "metadata": {},
   "source": [
    "Строим накладывающиеся боксплоты для нужных числовых переменных в рарзрезе нужных категорий"
   ]
  },
  {
   "cell_type": "code",
   "execution_count": null,
   "metadata": {},
   "outputs": [],
   "source": [
    "config = dict(\n",
    "    df = df\n",
    "    , cat_var = 'genre'\n",
    "    , num_var = 'avg_score'\n",
    "    , top_n='all'\n",
    ")\n",
    "pagri_data_tools.boxplots_stacked(config=config, titles_for_axis=titles_for_axis)"
   ]
  },
  {
   "cell_type": "markdown",
   "metadata": {},
   "source": [
    "Строим накладывающиеся violin для нужных числовых переменных в рарзрезе нужных категорий"
   ]
  },
  {
   "cell_type": "code",
   "execution_count": null,
   "metadata": {},
   "outputs": [],
   "source": [
    "config = dict(\n",
    "    df = df\n",
    "    , cat_var = 'genre'\n",
    "    , num_var = 'avg_score'\n",
    "    , top_n='all'\n",
    ")\n",
    "pagri_data_tools.violins_stacked(config=config, titles_for_axis=titles_for_axis)"
   ]
  },
  {
   "cell_type": "markdown",
   "metadata": {},
   "source": [
    "### Исследование корреляционных связей"
   ]
  },
  {
   "cell_type": "markdown",
   "metadata": {},
   "source": [
    "Следим за правильным порядком переменных полученных из времени"
   ]
  },
  {
   "cell_type": "markdown",
   "metadata": {},
   "source": [
    "Чтобы подготовить title_for_axis, пишем ии так  "
   ]
  },
  {
   "cell_type": "markdown",
   "metadata": {},
   "source": [
    "запомни - total_images = ['Число фотографий', 'числа фотографий', 0], - тут первый элемент списка это общая форма и с большой буквы, второй элемент это форма первого элемента при ответе на вопрос Чего и третий элеент списка это род элемента (0 - средний род, 1 - мужской род, 2 женский род) понятно?  "
   ]
  },
  {
   "cell_type": "markdown",
   "metadata": {},
   "source": [
    "и далее даем список нужных названий колонок в таком виде "
   ]
  },
  {
   "cell_type": "markdown",
   "metadata": {},
   "source": [
    "Для корреляций достаточно просто указать название без рода и склонения"
   ]
  },
  {
   "cell_type": "markdown",
   "metadata": {},
   "source": [
    "Сормируем словарь для подписей осей и названий графиков."
   ]
  },
  {
   "cell_type": "code",
   "execution_count": null,
   "metadata": {},
   "outputs": [],
   "source": [
    "\n",
    "titles_for_axis= dict(\n",
    "        total_images = 'Число фотографий',\n",
    "        last_price = 'Цена',\n",
    "        total_area = 'Общая площадь',\n",
    "        rooms = 'Число комнат',\n",
    "        ceiling_height = 'Высота потолков',\n",
    "        floors_total = 'Всего этажей',\n",
    "        living_area = 'Жилая площадь',\n",
    "        floor = 'Этаж'\n",
    ")"
   ]
  },
  {
   "cell_type": "markdown",
   "metadata": {},
   "source": [
    "ВАЖНО  \n",
    "проверить, что все категориальные переменные по прежнему имеют категориальный тип, чтобы при анализе они не поетрялись"
   ]
  },
  {
   "cell_type": "markdown",
   "metadata": {},
   "source": [
    "ВАЖНО  \n",
    "Изучаем корреляцию на всем периоде данных и на отдельных периодах (например последние N лет, месяцев, дней)  \n",
    "Также нужно посмотреть корреляцию в определенные периоды, для этого разбить нарпимер, на кварталы, сезоны или по другим категориям.  \n",
    "И посмотреть корреляции в каждом срезе.  "
   ]
  },
  {
   "cell_type": "code",
   "execution_count": null,
   "metadata": {},
   "outputs": [],
   "source": [
    "df.dtypes"
   ]
  },
  {
   "cell_type": "code",
   "execution_count": null,
   "metadata": {},
   "outputs": [],
   "source": [
    "for key, df in dict(\n",
    "            df_users = df_users\n",
    "            , df_calls = df_calls\n",
    "            , df_messages = df_messages\n",
    "            , df_internet = df_internet\n",
    "            , df_tariffs = df_tariffs\n",
    "            , df_calls_full = df_calls_full\n",
    "            , df_messages_full = df_messages_full\n",
    "            , df_internet_full = df_internet_full\n",
    "            , df_by_userid_month = df_by_userid_month\n",
    "            , df_arpu = df_arpu).items():\n",
    "    print(key)\n",
    "    display(df.dtypes)"
   ]
  },
  {
   "cell_type": "markdown",
   "metadata": {},
   "source": [
    ">Топ n значений одного столбца по значениям в другом\n",
    ">Сделать функцию, чтобы в столбцах, где бльше 20 уникльных значений посмотреть топ n значений по другой колонке.  \n",
    ">Например, топ 10 покупателей по сумме покупок и прочее.  \n",
    ">Идея в том, что если  в столбце до 20 уникальных значений, то мы проанализируем комбинации с другими стобцами на графиках.  \n",
    ">А вот если у нас столбец не числовой и в нем больше 20 уникальных значений, то на графике мы не сможем понять топ n."
   ]
  },
  {
   "cell_type": "markdown",
   "metadata": {},
   "source": [
    ">Изучаем топ n значений в категориальных столбцах датафрейма, где значений больше порогового, по значению в столбце value_column.  \n",
    ">Тут можно делать разные топы, использовать разные функции.  \n",
    ">Задача изучить то, что мы не сможем изучить на графиках из-за болшого количества занчений в категориальной переменной,  \n",
    ">поэтому мы берем топ n значений.  "
   ]
  },
  {
   "cell_type": "code",
   "execution_count": null,
   "metadata": {},
   "outputs": [],
   "source": [
    "gen = pagri_data_tools.top_n_values_gen()\n",
    "next(gen)"
   ]
  },
  {
   "cell_type": "markdown",
   "metadata": {},
   "source": [
    ">Чтобы сравнить метрики между собой мы можем\n",
    "- использовать корреляционный анализ (Пирсена, Спирмена, Кенделла)\n"
   ]
  },
  {
   "cell_type": "markdown",
   "metadata": {},
   "source": [
    ">`heatmap_corr(df)`"
   ]
  },
  {
   "cell_type": "markdown",
   "metadata": {},
   "source": [
    "( r = 1 ): Полная положительная линейная зависимость.  \n",
    "( 0.7 < r < 1 ): Сильная положительная линейная зависимость.  \n",
    "( 0.3 < r \\leq 0.7 ): Умеренная положительная линейная зависимость.  "
   ]
  },
  {
   "cell_type": "markdown",
   "metadata": {},
   "source": [
    "Если числовых переменных не много и они входят на один график, то просто строим график"
   ]
  },
  {
   "cell_type": "markdown",
   "metadata": {},
   "source": [
    "ВАЖНО  \n",
    "Посмотреть корреляцию в каждой категории категориальной переменной.  \n",
    "То есть задача взять категориальную переменную и посмотреть корреляцию для каждой категории отедльно.  \n",
    "Это важно, так как во всех категориях суммарно может затеряться зависимости.  \n",
    "Не нужно все их помещать в отчет, наша задача найти важные существенные зависимости и их уже пометсить в отчет.  \n",
    "Но чтобы их найти, нужно смотреть не только на картину в целом, но изучить корреляции в каждой категории."
   ]
  },
  {
   "cell_type": "markdown",
   "metadata": {},
   "source": [
    "Посмотрим на коэффициенты корреляции между числовыми переменными."
   ]
  },
  {
   "cell_type": "code",
   "execution_count": null,
   "metadata": {},
   "outputs": [],
   "source": [
    "pagri_data_tools.heatmap_corr(df, titles_for_axis=titles_for_axis)"
   ]
  },
  {
   "cell_type": "markdown",
   "metadata": {},
   "source": [
    "Лучше лишние ячейки убирать, если есть возможность "
   ]
  },
  {
   "cell_type": "code",
   "execution_count": null,
   "metadata": {},
   "outputs": [],
   "source": [
    "pagri_data_tools.heatmap_corr(df_by_userid_month[['sessions_per_day', 'calls_per_day']])"
   ]
  },
  {
   "cell_type": "markdown",
   "metadata": {},
   "source": [
    "Если нужно быстро просмотреть, то проганяем в цикле"
   ]
  },
  {
   "cell_type": "code",
   "execution_count": null,
   "metadata": {},
   "outputs": [],
   "source": [
    "for key, df in dict(\n",
    "            df_users = df_users\n",
    "            , df_calls = df_calls\n",
    "            , df_messages = df_messages\n",
    "            , df_internet = df_internet\n",
    "            , df_tariffs = df_tariffs\n",
    "            , df_calls_full = df_calls_full\n",
    "            , df_messages_full = df_messages_full\n",
    "            , df_internet_full = df_internet_full\n",
    "            , df_by_userid_month = df_by_userid_month\n",
    "            , df_arpu = df_arpu).items():\n",
    "    print(key)\n",
    "    display(pagri_data_tools.heatmap_corr(df))"
   ]
  },
  {
   "cell_type": "markdown",
   "metadata": {},
   "source": [
    "Если переменных много и нужно разделить на части, то используем эту функцию "
   ]
  },
  {
   "cell_type": "code",
   "execution_count": null,
   "metadata": {},
   "outputs": [],
   "source": [
    "gen = pagri_data_tools.heatmap_corr_gen(df, part_size=10, titles_for_axis=titles_for_axis)\n",
    "next(gen)"
   ]
  },
  {
   "cell_type": "markdown",
   "metadata": {},
   "source": [
    ">Использование регрессии и случайного леса для определения влияния переменных  "
   ]
  },
  {
   "cell_type": "markdown",
   "metadata": {},
   "source": [
    ">Коэффициенты регрессии позволяют оценить влияние каждой переменной на целевую переменную, учитывая влияние других переменных,  \n",
    ">в то время как важные компоненты в случайном лесе позволяют оценить важность каждой переменной для предсказания целевой переменной."
   ]
  },
  {
   "cell_type": "markdown",
   "metadata": {},
   "source": [
    ">Используем регрессиию"
   ]
  },
  {
   "cell_type": "markdown",
   "metadata": {},
   "source": [
    ">Чтобы построить регрессию и посмотреть стат значимость и коэффициенты удобно использовать модуль statsmodel"
   ]
  },
  {
   "cell_type": "markdown",
   "metadata": {},
   "source": [
    ">VIF означает Variance Inflation Factor (Фактор инфляции дисперсии). Это статистическая метрика,   \n",
    ">используемая для обнаружения мультиколлинеарности (сильной корреляции) между предикторами (фичами) в линейной регрессии."
   ]
  },
  {
   "cell_type": "markdown",
   "metadata": {},
   "source": [
    ">Обычно, VIF интерпретируется следующим образом:\n",
    ">\n",
    "- VIF < 5: слабая мультиколлинеарность\n",
    "- 5 ≤ VIF < 10: умеренная мультиколлинеарность\n",
    "- VIF ≥ 10: сильная мультиколлинеарность"
   ]
  },
  {
   "cell_type": "markdown",
   "metadata": {},
   "source": [
    ">\n",
    ">Смотрим R2 (коэффициент детерминации)\n",
    "- использовать коэффициенты у регресси\n",
    ">Мы строим регрессию и смотрим, у каких метрик больше коэффициенты. Таким образом мы поймем какие метрики сильнее зависят с целевой.  \n",
    ">Важно, чтобы независимые переменные некоррелировали по отдельности и вместе (мультиколлиниарность).  \n",
    ">По отдельности смотрим матрицу корреляции.  \n",
    ">Чтобы определить коррелириуют ли вместе, береме независимые переменные,  \n",
    ">и перебираем их выбирая одну из них целевой и смотрим R2.  \n",
    ">Если R2 большой, то значит эта метрика (которая целевая на этом шаге) хорошо описывается другими и ее можно выбросить.\n",
    ">Также не забываем поправки на гетероскедостичность (HC0, HC1, HC2, HC3) в статпакетах.  \n",
    ">Нам нужно ответить на следующие вопросы\n",
    ">    - Влияет ли метрика на целевую?\n",
    ">    Оцениваем коэффициенты в уравнении регресси у каждой метрики.  \n",
    ">    - Как влияет метрика на целевую?\n",
    ">    Смотрим R2 (коэффициент детерминации). И определяем какая часть целевой переменной определяется независимыми метриками.  \n",
    ">    - Коэффициенты при метриках в уравнении статистически значим? При какаом уровне значимости?\n",
    ">    Смотрим в стат пакете p value для каждого коэффициента, что нам говорит значим ли этот коэффициент.  \n",
    ">    То есть мы не просто смотрим его абсолютное значение, а учитываем p value.   \n",
    ">    - Дайте содержательную интерпретацию коэффицентам?\n",
    ">    При увеличении метрики k на 1, целевая метрика увеличивается на $b_{k} * 1$\n",
    ">    То есть нужно перевести коэффициенты в реальное сравнение, насколько увелчисться целевая метрика при изменении определенной метрики на 1\n",
    ">    - Найдите 95 процентный доверительный интервал.\n",
    ">    В стат пакете смотрим значение и оно говорит, что если мы многократно повторим ноши вычисления с новыми данными, то 95 процентов наших  \n",
    ">    полученных коэффицентов будут лежать в этом диапазоне.  "
   ]
  },
  {
   "cell_type": "markdown",
   "metadata": {},
   "source": [
    ">Строим модель и изучаем результат  \n",
    ">`linear_regression_with_vif`"
   ]
  },
  {
   "cell_type": "code",
   "execution_count": null,
   "metadata": {},
   "outputs": [],
   "source": [
    "pagri_data_tools.linear_regression_with_vif()"
   ]
  },
  {
   "cell_type": "markdown",
   "metadata": {},
   "source": [
    ">Испльзовать коэффициенты у классификацию    \n",
    ">Строим случайный лес какие метрики сильнее всего влияют на решения модели.   \n",
    ">`plot_feature_importances_classifier`   \n",
    ">`plot_feature_importances_regression`"
   ]
  },
  {
   "cell_type": "markdown",
   "metadata": {},
   "source": [
    ">Тут нужно подумать как использовать категориальные переменные тоже   \n",
    ">Нужно их перевести в one hot encoding или подобное, чтобы также проверить силу их влияния на целевую перменную"
   ]
  },
  {
   "cell_type": "code",
   "execution_count": null,
   "metadata": {},
   "outputs": [],
   "source": [
    "titles_for_axis = dict(\n",
    "    debt = 'долга'\n",
    "    , children = 'Кол-во детей'\n",
    "    , age = 'Возраст'\n",
    "    , total_income = 'Доход'\n",
    ")\n",
    "title = 'График важности признаков для предсказания цены'\n",
    "pagri_data_tools.plot_feature_importances_classifier(df, target='debt', titles_for_axis=titles_for_axis, title=title)\n",
    "pagri_data_tools.plot_feature_importances_regression()"
   ]
  },
  {
   "cell_type": "markdown",
   "metadata": {},
   "source": [
    ">На основе полученных данных формулируем гипотезы, которые будем проверять в блоке проверки гипотез"
   ]
  },
  {
   "cell_type": "markdown",
   "metadata": {},
   "source": [
    "> используем быблиотеку `shap`, чтобы определить метрики, которые лучше других помогают предсказывать целевую перемменную"
   ]
  },
  {
   "cell_type": "markdown",
   "metadata": {},
   "source": [
    "Добавить в dash app возможность сохранять код для ячейки с фильтром (срезом данных).  \n",
    "То есть у нас есть фильтр, мы хотим посмотреть срез данных и фильтруем данные.  \n",
    "И если увидели что-то важное, то мы сохраняем код для создания графика с этими x, y, category и фильтром.  \n",
    "То есть в коде сначала будет фильтрация датафрейма и потом создание графика в 2 строки.  "
   ]
  },
  {
   "cell_type": "markdown",
   "metadata": {},
   "source": [
    "важно мы не пишем все наблюдения, а только те, которые могут быть важны для анализа, то есть мы смотрим, задаем вопросы данным и   \n",
    "и если ответ важен, то мы записываем наблюдения)"
   ]
  },
  {
   "cell_type": "markdown",
   "metadata": {},
   "source": [
    "ВАЖНО   \n",
    "Когда мы видим таблицу или график, то мы придумываем вопросы к результату.  \n",
    "Все возможные вопросы (как, почему, зачем, сколько, как долго, быстро ли, медленно ли, важно ли это, из-за чего это и прочие вопрсоы)\n",
    "И отвечая на эти вопросы мы получаем наблюдения и выводы\n",
    "И чтобы задавать правильные вопросы, мы должны сначала подумать о физике параметров, которые мы видим."
   ]
  },
  {
   "cell_type": "markdown",
   "metadata": {},
   "source": [
    "Если у нас много значений в переменной, то мы агрегируем данные и можем построить бары.  \n",
    "Но если мы агрегируем данные по переменной, в которой много значений и нам это нужно.  \n",
    "То мы не сможем построить бары, и тогда мы строим гистограмму. То есть мы берем, например, для каждой заправки считаем среднее время заправки и так как у нас много заправок,  \n",
    "но мы хотим визуализировать среднее время по ним, и не агрегировать по другому параметру, то мы можем испльзовать гистограмму.  \n",
    "В данном случае гистограмма своего рода агрегация в бины, то есть мы получаем как бы новую переменную из бинов, в каждом бине будет агрегированы данные.  \n",
    "Это работает, когда нам нужно просто посмотреть колечество, так как в бинах будет количество. Таким образом мы получаем сколько у нас заправок имеют определенное среднее вермя заправки.\n"
   ]
  },
  {
   "cell_type": "markdown",
   "metadata": {},
   "source": [
    "> Про размер графиков  \n",
    "> Стандартный размер графиков width=600, height=400  \n",
    "> Для более сложных графиков, когда требуется больше места для отображения данных, можно использовать размеры width=800, height=600 или width=1000, height=800\n"
   ]
  },
  {
   "cell_type": "markdown",
   "metadata": {},
   "source": [
    "> Сравнивать количество элементов нужно в абсолютных и относительных величинах.  \n",
    "> Когда мы сравниваем только в абсолютных величинах, мы не учитываем размеры групп.  \n",
    "> В одной группе может быть элементов больше чем в другой и тогда сравнение будет не совсем точным.  \n",
    "> Если у нас 2 категориальные переменные, то мы можем сравнивать отностельные величины  \n",
    "> по одной переменной, а можем по другой.  \n",
    "> Это как сравнивать суммарный возраст в группах, это не дает полной картины и мы сравниваем средний возраст,  \n",
    "> чтобы размер группы не влиял.\n"
   ]
  },
  {
   "cell_type": "markdown",
   "metadata": {},
   "source": [
    "> ВАЖНО\n",
    "> Анализ графиков и выводы для них должны полностью перекрывать постановку задачи и цель.  \n",
    "> Это значит, что если цель проанализировать зависимость наличия долга, то мы в идеале должны проанализировать  \n",
    "> влиянеие каждой переменной на наличие долга (числовой и категориальной)  \n",
    "> Кончено нужно проанализировать все возможные зависимости.  \n",
    "> Но все зависимости с переменной в постновке задачи мы обязаны проверить и дать выводы. И о наличии и об отсутствие.  \n",
    "> Важные выводы делаем не только о наличие интересных моментов, но и об отсутствие.\n"
   ]
  },
  {
   "cell_type": "markdown",
   "metadata": {},
   "source": [
    "> Сначала раздел графиков  \n",
    "> На основе графиков формируются гипотезы (например, у нас у мужчин зп больше)\n",
    "> И после раздела графиков идет раздел проверки гипотез. Тут мы првоеряем разные гипотезы новые и те, что увидели на графиках.  \n",
    "> Это правильная последовательность сначала изучили графики и потом на основе их сформировали гипоетзы\n",
    "> Перед разделом про графики идет раздел с корреляцией и поиском главных компонет случайного леса.  \n",
    "> Мы выбиарем переменную, для которой мы далее хотим посмотреть разыне зависимости и указываем ее целевой для сучайного леса  \n",
    "> И смотрим какие фичи сильнее влияют.  \n",
    "> И теперь можем построить графики с целевой перменно и этими главными фичами и в выводе можно указать про то что это важные компоненты случаного леса\n"
   ]
  },
  {
   "cell_type": "markdown",
   "metadata": {},
   "source": [
    "> На основе полученных данных формулируем гипотезы, которые будем проверять в блоке проверки гипотез\n"
   ]
  },
  {
   "cell_type": "markdown",
   "metadata": {},
   "source": [
    "### Изучение зависимостей между числовыми переменными\n"
   ]
  },
  {
   "cell_type": "markdown",
   "metadata": {},
   "source": [
    "Построим графики рассеяния и изучим зависимости.\n"
   ]
  },
  {
   "cell_type": "markdown",
   "metadata": {},
   "source": [
    "ВАЖНО  \n",
    "Изучаем зависимости между числовыми переменными без фильтрации и с фильтрацией.  \n",
    "То есть нужно взять и пройти по каждой категории и посмотреть на зависимости в каждой категории.  \n",
    "Возможно даже в комбинации категорий.  \n",
    "Так как в общей картинке зависимости могут затеряться."
   ]
  },
  {
   "cell_type": "markdown",
   "metadata": {},
   "source": [
    "ВАЖНО смотрим на выбросы  \n",
    "Мы могли при изучении отдельных столбцов не заметить их, если заметили, то возвращаемся в изучение и предобработку и изучаем их дополнительно"
   ]
  },
  {
   "cell_type": "code",
   "execution_count": null,
   "metadata": {},
   "outputs": [],
   "source": [
    "pairs = {('total_images', 'last_price'): None, ('total_images', 'floors_total'): {'total_images': [-2.15, 22.45], 'floors_total': [0.51, 28.54]}, ('total_images', 'kitchen_area'): {'total_images': [-1.04, 28.44], 'kitchen_area': [-0.6, 59.26]}, ('total_images', 'parks_nearest'): {'total_images': [np.int64(0), np.int64(50)], 'parks_nearest': [np.float64(1.0), np.float64(3190.0)]}, ('total_images', 'ponds_around3000'): {'total_images': [np.int64(0), np.int64(50)], 'ponds_around3000': [np.float64(0.0), np.float64(3.0)]}, ('total_images', 'living_total_ratio'): {'total_images': [np.int64(0), np.int64(50)], 'living_total_ratio': [np.float64(0.02), np.float64(1.0)]}, ('total_images', 'kitchen_total_ratio'): {'total_images': [np.int64(0), np.int64(50)], 'kitchen_total_ratio': [np.float64(0.03), np.float64(0.79)]}, ('total_images', 'price_per_sqm'): {'total_images': [np.int64(0), np.int64(50)], 'price_per_sqm': [np.int64(7962), np.int64(1907500)]}, ('last_price', 'living_area'): {'last_price': [np.int64(430000), np.int64(763000000)], 'living_area': [np.float64(2.0), np.float64(427.55)]}}\n",
    "pagri_data_tools.pairplot_pairs(df, pairs, coloring=True, horizontal_spacing=0.12, rows=3, cols=3).show(config=dict(displayModeBar=False, dpi=200), renderer=\"png\")\n",
    "# если нужно интерактивый график, то\n",
    "pagri_data_tools.pairplot_pairs(df, pairs, coloring=True, horizontal_spacing=0.12, rows=3, cols=3)"
   ]
  },
  {
   "cell_type": "markdown",
   "metadata": {},
   "source": [
    "Чтобы в dash app выбрать нужные пары для scatterplot   \n",
    "ставим  `_gen_` в месте где хотим чтобы появились ячейки с кодом для постройки графиков      \n",
    "далее используем  `pagri_dash.scatterplot_analysis_dash`"
   ]
  },
  {
   "cell_type": "code",
   "execution_count": null,
   "metadata": {},
   "outputs": [],
   "source": [
    "_gen_ "
   ]
  },
  {
   "cell_type": "markdown",
   "metadata": {},
   "source": [
    "ВАЖНО  \n",
    "убираем лишние колонки, которые нам не нужно изучать, например, id, и другие числовые переменные, которые будут только тратить место в dash app"
   ]
  },
  {
   "cell_type": "code",
   "execution_count": null,
   "metadata": {},
   "outputs": [],
   "source": [
    "df_by_userid_month.drop(['user_id', 'messages_included'], axis=1)"
   ]
  },
  {
   "cell_type": "code",
   "execution_count": null,
   "metadata": {},
   "outputs": [],
   "source": [
    "import sys\n",
    "sys.path.append('/home/pagri/git_repos/pagri_private_modules')\n",
    "import pagri_dash\n",
    "pagri_dash.scatterplot_analysis_dash(df, \"path/to/notebook/for/save\")"
   ]
  },
  {
   "cell_type": "markdown",
   "metadata": {},
   "source": [
    "### Изучение зависимостей между категориальными переменными\n"
   ]
  },
  {
   "cell_type": "markdown",
   "metadata": {},
   "source": [
    "> Чтобы автоматически генерировались подписи осей и заголовок графика для категориальных, временных и числовых с категориальными зависимостейь\n",
    "> , нужно заполшнить такой словарь.  \n",
    "> Первый элемент списка - это подпись оси  \n",
    "> Второй элемент списка - это как это название будет отображаться в заголовке графика  \n",
    "> Для числовых столбцов также указывается род, чтобы правильно выбрать (Середнее, средний, средняя) (0 - средний род, 1 - мужской род, 2 - женский род)\n"
   ]
  },
  {
   "cell_type": "markdown",
   "metadata": {},
   "source": [
    "ВАЖНО построить распределение количества по категориальным переменным без разбивки по другим категориям.  \n",
    "То есть например, посмотреть количество новых пользователей по месяцам, по кородам и так далее.  \n",
    "И так все количества, и не только категориальные.  \n",
    "Это важно, так как по этим графикам будет видна общая динамика без разбивки на категории.  \n",
    "И плюс всякие user_id и прочее в dash app не отображается, поэтому нужно это изучить отдельно.  "
   ]
  },
  {
   "cell_type": "markdown",
   "metadata": {},
   "source": [
    "ВАЖНО  \n",
    "Добавить возможность выбирать 1 col и 2 cols  как это в app dash числовые и категориальные  \n",
    "Так как часто полезно посмотреть на распределение количества только в одной категории."
   ]
  },
  {
   "cell_type": "code",
   "execution_count": null,
   "metadata": {},
   "outputs": [],
   "source": [
    "f'Среднее / Медианное / Суммарное {numeric} в зависимости от {category} и {category}'  "
   ]
  },
  {
   "cell_type": "markdown",
   "metadata": {},
   "source": [
    "ВАЖНО  \n",
    "titles_for_axis далее будет один для всех разделов  \n",
    "поэтому если нужно добавить, то возвращаемся и добавляем сюда, чтобы была одна переменная"
   ]
  },
  {
   "cell_type": "markdown",
   "metadata": {},
   "source": [
    "Бывает полезно посмотреть сравнение по месяцам, дням, годам униклальных значений и всех занчений.  \n",
    "Подумать есть ли у нас подобные ситуации, для которох можно постриоть такой график"
   ]
  },
  {
   "cell_type": "code",
   "execution_count": null,
   "metadata": {},
   "outputs": [],
   "source": [
    "#Рассмотрим количество выпущенных игр за весь период наблюдений и сравним количество всего и уникальных игр\n",
    "sum_un=df.pivot_table(index='year_of_release', values='name', aggfunc=lambda x: len(x.unique())) #Количество выпускаемых игр\n",
    "sum_total=df.pivot_table(index='year_of_release', values='name', aggfunc='count') #Количество выпускаемых игр с учетом релиза на разных платформах\n",
    "graph=sum_un.merge(sum_total, left_index=True, right_index=True)\n",
    "fig = px.line(graph)\n",
    "fig"
   ]
  },
  {
   "cell_type": "markdown",
   "metadata": {},
   "source": [
    "Сормируем словарь для подписей осей и названий графиков."
   ]
  },
  {
   "cell_type": "code",
   "execution_count": null,
   "metadata": {},
   "outputs": [],
   "source": [
    "titles_for_axis = dict(\n",
    "    # numeric column ['Именительный падеж', 'мменительный падеж с маленькой буквы', 'род цифорой']\n",
    "    # (0 - средний род, 1 - мужской род, 2 - женский род[) (Середнее образовние, средний доход, средняя температура) )\n",
    "    # для функций count и nunique пишем - Количество <чего / кого количество> - и также с маленькой буквы, цифра 0 в качестве рода\n",
    "    age = ['Возраст', 'возраст', 1]\n",
    "    , using_duration = ['Длительность использования', 'длительность использования', 2]\n",
    "    , mb_used = ['Объем интернет трафика', 'объем интернет трафика', 1]\n",
    "    , revenue = ['Выручка', 'выручка', 2]\n",
    "    # categorical column ['Именительный падеж', 'для кого / чего', 'по кому чему']\n",
    "    # Распределение долей по городу и тарифу с нормализацией по городу\n",
    "    , city = ['Город', 'города', 'городу']\n",
    "    , tariff = ['Тариф', 'тарифа', 'тарифу']\n",
    "    , is_active = ['активный ли клиент', 'активности клиента', 'активности клиента']\n",
    ")"
   ]
  },
  {
   "cell_type": "markdown",
   "metadata": {},
   "source": [
    "Важно когда мы смотрем очередной график, то задавать не только вопросы к данным, но и думать как можно отфильтровать  \n",
    "данные, чтобы сделать дополнительные полезные выводы.  \n",
    "То есть мы фильтруем данные и потом эти графики поместим в раздел с анализом срезов.  "
   ]
  },
  {
   "cell_type": "markdown",
   "metadata": {},
   "source": [
    "Чтобы в dash app выбрать нужные пары для scatterplot   \n",
    "ставим  `_gen_` в месте где хотим чтобы появились ячейки с кодом для постройки графиков      \n",
    "далее используем  `pagri_dash.scatterplot_analysis_dash`"
   ]
  },
  {
   "cell_type": "code",
   "execution_count": null,
   "metadata": {},
   "outputs": [],
   "source": [
    "_gen_ "
   ]
  },
  {
   "cell_type": "markdown",
   "metadata": {},
   "source": [
    "Как правильно писать выводы для нормализации по col и row:\n",
    "В dash app нормализация идет по значениям в легенде,   \n",
    "Например, у нас по index - город, а по столбцам - тарифы.\n",
    "- нормализация по index (в dash будет row)  \n",
    "При нормализации по индексам вы получаете долю пользователей каждого тарифа в каждом городе относительно общего числа пользователей в этом городе.\n",
    "то есть если по оси город, а в легенде название тарифа, то нормализация будет по тарифам.  \n",
    "И мы сравниваем \n",
    "А если в легенде город, то нормализация идет по городам, и мы сравниваем по городам.  \n",
    "И можно сделать такие выводы  \n",
    "    - В Москве 60% пользователей выбирают тариф \"Ультра\", что указывает на его популярность среди москвичей.\n",
    "    - В Санкт-Петербурге 70% пользователей предпочитают тариф \"Смарт\", что может говорить о том, что данный тариф более привлекателен для жителей этого города.\n",
    "то ессть при нормализации по городу, мы получаем долю пользователей тарифа в городе.  \n",
    "- нормализация по столбцам (в dash будет col)  \n",
    "При нормализации по столбцам вы получаете долю пользователей каждого города для каждого тарифа относительно общего числа пользователей, выбравших этот тариф.\n",
    "А когда мы нормализуем по тарифу, то мы получаем долю пользователей города в тарифе.      \n",
    "    - Из всех пользователей, выбравших тариф \"Ультра\", 40% приходятся на Москву, что может указывать на то, что этот тариф пользуется спросом именно в этом городе.\n",
    "    - Из всех пользователей, выбравших тариф \"Смарт\", 50% находятся в Санкт-Петербурге, что может свидетельствовать о том, что данный тариф более популярен среди петербуржцев.\n",
    "- Нормализация по всем значениям (в dash all)    \n",
    "При нормализации по всем значениям вы получаете долю пользователей каждого тарифа в каждом городе относительно общего числа пользователей всех тарифов в обоих городах.\n",
    "    - В общем числе всех пользователей (Москва и Санкт-Петербург) 30% выбирают тариф \"Ультра\", что может указывать на его общую популярность.\n",
    "    - Тариф \"Смарт\" составляет 20% от общего числа пользователей, что показывает, что он менее популярен по сравнению с тарифом \"Ультра\" на уровне всей выборки."
   ]
  },
  {
   "cell_type": "markdown",
   "metadata": {},
   "source": [
    "Сначала смотрим 1_cat, чтобы записать распределение по 1 категории.  \n",
    "Не забываем делеть swap_cols чтобы изучить обе категориальные переменные.  \n",
    "Записываем, если есть различия в долях в категории.  "
   ]
  },
  {
   "cell_type": "markdown",
   "metadata": {},
   "source": [
    "ОЧЕНЬ ВАЖНО  \n",
    "Если много значений и бары сливаютсю, то включаем heatmap  \n",
    "ВАжно не забывать, что heatmap для этого и нужен."
   ]
  },
  {
   "cell_type": "code",
   "execution_count": null,
   "metadata": {},
   "outputs": [],
   "source": [
    "import sys\n",
    "sys.path.append('/home/pagri/git_repos/pagri_private_modules')\n",
    "import pagri_dash\n",
    "pagri_dash.category_analysis_dash(df, 'df', \"path/to/notebook/for/save\")"
   ]
  },
  {
   "cell_type": "markdown",
   "metadata": {},
   "source": [
    "> Строим матрицу тепловой карты для категориальных переменных и изучаем зависимости  \n"
   ]
  },
  {
   "cell_type": "markdown",
   "metadata": {},
   "source": [
    "Чтобы в dash app выбрать нужные пары для scatterplot   \n",
    "ставим  `_gen_` в месте где хотим чтобы появились ячейки с кодом для постройки графиков      \n",
    "далее используем  `pagri_dash.scatterplot_analysis_dash`"
   ]
  },
  {
   "cell_type": "code",
   "execution_count": null,
   "metadata": {},
   "outputs": [],
   "source": [
    "_gen_ "
   ]
  },
  {
   "cell_type": "code",
   "execution_count": null,
   "metadata": {},
   "outputs": [],
   "source": [
    "import sys\n",
    "sys.path.append('/home/pagri/git_repos/pagri_private_modules')\n",
    "import pagri_dash\n",
    "pagri_dash.categorical_heatmap_matrix_dash(df, 'df', \"/home/pagri/git_repos/pagri-projects/quarto/projects/housing-ads-investigation/temp.ipynb\")"
   ]
  },
  {
   "cell_type": "markdown",
   "metadata": {},
   "source": [
    "> Посмотрим на распределение количества элементов между группами\n"
   ]
  },
  {
   "cell_type": "markdown",
   "metadata": {},
   "source": [
    "> Нужно подумать как отобразить не только процент от всего количества, но и пороцент в группе  \n",
    "> То есть у нас есть значение в ячейке, сумма всех, сумма по категории на оси x и сумма по категории на оси Y  \n",
    "> Вот нужно как-то отобразить процент от суммы, процент от одной категории и от другой категории\n"
   ]
  },
  {
   "cell_type": "code",
   "execution_count": null,
   "metadata": {},
   "outputs": [],
   "source": [
    "12 (0.5% of total, 20% of row, 15% of col) "
   ]
  },
  {
   "cell_type": "markdown",
   "metadata": {},
   "source": [
    "> Можно сделать кнопки, чтобы можно было подсветку делать внури колонок и строк\n"
   ]
  },
  {
   "cell_type": "markdown",
   "metadata": {},
   "source": [
    "> Можно сделать кнопки (процент от общего) (процент от тут указывается название оси x) (аналогично для второй оси)\n"
   ]
  },
  {
   "cell_type": "code",
   "execution_count": null,
   "metadata": {},
   "outputs": [],
   "source": [
    "pagri_data_tools.categorical_graph_analys_gen()"
   ]
  },
  {
   "cell_type": "markdown",
   "metadata": {},
   "source": [
    "> Строим treemap  \n",
    "> `treemap`  \n",
    "> `treemap_dash`\n",
    ">\n",
    "> ```\n",
    "> app = treemap_dash(df)\n",
    "> if __name__ == '__main__':\n",
    ">    app.run_server(debug=True)\n",
    "> ```\n"
   ]
  },
  {
   "cell_type": "markdown",
   "metadata": {},
   "source": [
    "ВАЖНО  \n",
    "на treemap очень хорошо заметно выделяющиеся цепочки категорий по количеству.  \n",
    "Важно посмотреть по 3 и более категорий в ряд,  \n",
    "не нужно сильна всматриваться, задача заметить категории которые выделяются (будет явно больше прямоугольник)  \n",
    "И если нашли выделяющиеся важные категории, то сохраняем график и делаем выводы."
   ]
  },
  {
   "cell_type": "code",
   "execution_count": null,
   "metadata": {},
   "outputs": [],
   "source": [
    "pagri_data_tools.treemap()"
   ]
  },
  {
   "cell_type": "code",
   "execution_count": null,
   "metadata": {},
   "outputs": [],
   "source": [
    "app = pagri_data_tools.treemap_dash(df)\n",
    "if __name__ == '__main__':\n",
    "    app.run_server(debug=True)"
   ]
  },
  {
   "cell_type": "markdown",
   "metadata": {},
   "source": [
    "> Строим parallel_categories  \n",
    "> `parallel_categories `  \n",
    "> `parallel_categories_dash `\n",
    ">\n",
    "> ```\n",
    "> app = treemap_dash(df)\n",
    "> if __name__ == '__main__':\n",
    ">    app.run_server(debug=True)\n",
    "> ```\n"
   ]
  },
  {
   "cell_type": "code",
   "execution_count": null,
   "metadata": {},
   "outputs": [],
   "source": [
    "pagri_data_tools.parallel_categories()"
   ]
  },
  {
   "cell_type": "code",
   "execution_count": null,
   "metadata": {},
   "outputs": [],
   "source": [
    "app = pagri_data_tools.parallel_categories_dash(df)\n",
    "if __name__ == '__main__':\n",
    "    app.run_server(debug=True)"
   ]
  },
  {
   "cell_type": "markdown",
   "metadata": {},
   "source": [
    "> Строим Sankey  \n",
    "> `sankey `  \n",
    "> `sankey_dash`\n",
    ">\n",
    "> ```\n",
    "> app = treemap_dash(df)\n",
    "> if __name__ == '__main__':\n",
    ">    app.run_server(debug=True)\n",
    "> ```\n"
   ]
  },
  {
   "cell_type": "code",
   "execution_count": null,
   "metadata": {},
   "outputs": [],
   "source": [
    "pagri_data_tools.sankey()"
   ]
  },
  {
   "cell_type": "code",
   "execution_count": null,
   "metadata": {},
   "outputs": [],
   "source": [
    "app = pagri_data_tools.sankey_dash(df)\n",
    "if __name__ == '__main__':\n",
    "    app.run_server(debug=True)"
   ]
  },
  {
   "cell_type": "markdown",
   "metadata": {},
   "source": [
    "### Изучение зависимостей между числовыми и категориальными переменными\n"
   ]
  },
  {
   "cell_type": "markdown",
   "metadata": {},
   "source": [
    "Построим графики для числовых переменных в разрезе категорий."
   ]
  },
  {
   "cell_type": "markdown",
   "metadata": {},
   "source": [
    "добавить слайдер как доп переменную и анимация будет сразу"
   ]
  },
  {
   "cell_type": "code",
   "execution_count": null,
   "metadata": {},
   "outputs": [],
   "source": [
    "df = px.data.gapminder()\n",
    "\n",
    "fig = px.bar(df, x=\"continent\", y=\"pop\", color=\"continent\",\n",
    "  animation_frame=\"year\", animation_group=\"country\", range_y=[0,4000000000], width=900, height=500)\n",
    "fig.show()"
   ]
  },
  {
   "cell_type": "markdown",
   "metadata": {},
   "source": [
    "Важно когда мы смотрем очередной график, то задавать не только вопросы к данным, но и думать как можно отфильтровать  \n",
    "данные, чтобы сделать дополнительные полезные выводы.  \n",
    "То есть мы фильтруем данные и потом эти графики поместим в раздел с анализом срезов.  "
   ]
  },
  {
   "cell_type": "markdown",
   "metadata": {},
   "source": [
    "> Можно добавить кнопку среднее и количество  \n",
    "> Чтобы можно было посмотртеть распределение по количеству, когда смотрить среднее.\n"
   ]
  },
  {
   "cell_type": "code",
   "execution_count": null,
   "metadata": {},
   "outputs": [],
   "source": [
    "_gen_ "
   ]
  },
  {
   "cell_type": "markdown",
   "metadata": {},
   "source": [
    "Добавить в hover количество элементов в группе,  \n",
    "чтобы понимать размер группы."
   ]
  },
  {
   "cell_type": "markdown",
   "metadata": {},
   "source": [
    "Добавить возможность перескакивать комбинации.  \n",
    "Если много колонок, то комбинаций очень много и часть может быть просто не нужна для анализа.  "
   ]
  },
  {
   "cell_type": "markdown",
   "metadata": {},
   "source": [
    "Изучаем следующим образом  \n",
    "- смотрим на график и определяем есть ли взаимодейсвие (то есть отличаются ли значения в разных группах, это будет видно как разная высота баров)\n",
    "- если разницы в барах нет, или она минимальная, то сразу можно пропускать\n",
    "- если разница есть, то думаем важна ли для нас ээта комбинация столбцов\n",
    "- если нет, то пропускаем\n",
    "- если да, то пишем наблюдения и сохраняем"
   ]
  },
  {
   "cell_type": "markdown",
   "metadata": {},
   "source": [
    "Не забываем смотреть 1_cat чтобы изучить отдельную категорию.  \n",
    "То есть график появлился, смотрим на обе категории и на числовую переменную и думаем, нужно ли нам по отдельности изучить  \n",
    "каждую категориальную переменную c числовой. Если уже изучили, то не изучаем.\n",
    "Нужно подумать как сохранять уже изученые комбинации, чтобы не повторяться (может в dash app добавить всплывающее окно, для графиков, для которых уже был вывод, что уже было)"
   ]
  },
  {
   "cell_type": "markdown",
   "metadata": {},
   "source": [
    "ВАЖНО  \n",
    "Если много переменных, и не все они нужны для анализа,  \n",
    "то смотрим df.columns, выбираем нужные и в dash передаем датафрейм с нужными колонками."
   ]
  },
  {
   "cell_type": "markdown",
   "metadata": {},
   "source": [
    "ВАЖНО  \n",
    "не забываем смотреть sum для переменных типа выручки"
   ]
  },
  {
   "cell_type": "markdown",
   "metadata": {},
   "source": [
    "ВАЖНО  \n",
    "id это такая же числовая переменная, как и все остальные, но ее нужно аггрегировать, используя  \n",
    "`count` и `nunique`"
   ]
  },
  {
   "cell_type": "markdown",
   "metadata": {},
   "source": [
    "ВАЖНО  \n",
    "для графика heatmap   \n",
    "важно смотреть по какой колоноке больше значений и ее делать по оси X  \n",
    "Так как ширина графика больше высоты"
   ]
  },
  {
   "cell_type": "markdown",
   "metadata": {},
   "source": [
    "ВАЖНО  \n",
    "Если на графика 2 категориальной переменной, то хороший размер 1000 на 450 (width на height)  \n",
    "Если на графике 1 категориальной переменной, то хороший размер 600 на 400 (width на height)"
   ]
  },
  {
   "cell_type": "code",
   "execution_count": null,
   "metadata": {},
   "outputs": [],
   "source": [
    "import sys\n",
    "sys.path.append('/home/pagri/git_repos/pagri_private_modules')\n",
    "import pagri_dash\n",
    "pagri_dash.numeric_category_analysis_dash(df, 'df', \"/home/pagri/git_repos/pagri-projects/quarto/projects/housing-ads-investigation/temp.ipynb\")"
   ]
  },
  {
   "cell_type": "markdown",
   "metadata": {},
   "source": [
    "### Анализ временных зависимостей\n"
   ]
  },
  {
   "cell_type": "markdown",
   "metadata": {},
   "source": [
    "Изучим графики, представляющие различные временные переменные."
   ]
  },
  {
   "cell_type": "markdown",
   "metadata": {},
   "source": [
    "\n",
    "Это раздел нужен, чтобы изучить тредны, сезонность и определить какие категории уже свое отжили, а какие перспективные.  \n",
    "Какие категории падают по продажам, может нужно с этим что-то сделать и так далее.\n",
    "Смотрим на графики с временными зависимостями и отвечаем на такие вопросы:\n",
    "- Есть ли категории, которые присутствуют не все время?\n",
    "Например, у нас продажи игр и есть категория платформы, мы построили график суммарных продаж по платформам и по годам. И видим, что явно   \n",
    "заметно, что платформа живет определенное время, так как есть пик продаж и потом продаж мало.\n",
    "- Есить ли тренды, сезонность, циклы?\n",
    "- Какие категории были популярны в прошлом, какие начинают становится популярными, какие показывают устойчивость долгое время\n",
    "- Какие категории будут популяны ближайшее время исходя из того в какой-момент времени они находятся сейчас и какие результаты показывали в прошлом и показывают сейчас. "
   ]
  },
  {
   "cell_type": "markdown",
   "metadata": {},
   "source": [
    "ОЧЕНЬ ВАЖНО  \n",
    "Обязательно смотрим heatmap для для всех числовых переменных в разрезе категорий по годам.  \n",
    "Этот график отлично показывает участки, когда категория была активно, динамику во времени и прочее.  \n",
    "По оси X идет время а по оси Y идет категория, и тогда каждая полоска это динами во времени, если например, у нас продажи,  \n",
    "то будет четко видно где спад, а где подъем, когда мы подкрашиваем значения."
   ]
  },
  {
   "cell_type": "markdown",
   "metadata": {},
   "source": [
    "Проходим и из предыдущих разделов копируем все графики с временными переменными и вставляем сюда."
   ]
  },
  {
   "cell_type": "markdown",
   "metadata": {},
   "source": [
    "Когда мы хотим изучить верменную зависимость, то нам нуно создать новые переменные с обрезанными (trunc or round) значениям, чтобы можно было сгруппировать используя groupby or pivot_table  \n",
    "по этой обрезанной переменной и применить функцию агрегации и построить график, например, среднее время заправки на азс по часам.  \n",
    "Вот когда мы работаем с временем, нам нужно думать какие переменные создать, обрезая текущее время.\n"
   ]
  },
  {
   "cell_type": "markdown",
   "metadata": {},
   "source": [
    "> Строим когортный анализ, если есть возможность\n"
   ]
  },
  {
   "cell_type": "markdown",
   "metadata": {},
   "source": [
    "> Если у нас есть даты, то мы можем посмотреть не просто абсолютные значения на каждую дату какой-то метрики,  \n",
    "> а посмотреть относительные значения относительно предыдущего значения.  \n",
    "> Для этого нужно составить таблицу, в которой будет изменение в процентах относительно предыдущего значения.  \n",
    "> И затем визуализировать для каждой даты динамику этого показателя\n"
   ]
  },
  {
   "cell_type": "markdown",
   "metadata": {},
   "source": [
    "ВАЖНО  \n",
    "Если у нас есть время, то нужно посмотреть среднее время жизни определенных продуктов и прочее.  \n",
    "Тут важно, чтобы категории не жили все время, которое у нас есть в данных, иначе у всех будет одно время.  \n",
    "Это нужно делатЬ, если у нас есть категориальная переменная, занчения которой не всегда присутствуют.\n",
    "Например, у нас данные по годам продаж игр. Нужно взять продажи по годам и выбрать период, когда они активно продавались.  \n",
    "Это можно сделать через квантили или через 2-3 std.  \n",
    "Посчитать средене по всем играм.  \n",
    "Также у нас могут быть категории, например, платформы, тогда мы можем сагрегировать по платформам и посмотреть среднее время жизни платформы. \n"
   ]
  },
  {
   "cell_type": "markdown",
   "metadata": {},
   "source": [
    "Построим график времени жизни платформы"
   ]
  },
  {
   "cell_type": "code",
   "execution_count": null,
   "metadata": {},
   "outputs": [],
   "source": [
    "platform_lt = df.groupby('platform').agg({'year_of_release':'nunique'})\n",
    "px.bar(platform_lt, x=platform_lt.index, y='year_of_release')"
   ]
  },
  {
   "cell_type": "markdown",
   "metadata": {},
   "source": [
    "Посчитаем общее среднее время жизни платформы"
   ]
  },
  {
   "cell_type": "code",
   "execution_count": null,
   "metadata": {},
   "outputs": [],
   "source": [
    "print('Среднее время жизни платформы', df.groupby('platform').agg({'year_of_release':'nunique'}).mean())"
   ]
  },
  {
   "cell_type": "markdown",
   "metadata": {},
   "source": [
    "И так мы можем делать со всеми категориальными переменнми, если у нас есть временная переменная.  \n",
    "Схема такая\n",
    "- мы группируем по категорилаьной переменной и считаем уникльное количество нужных нам временных периодов.\n",
    "- строим график\n",
    "- считаем общее среднее время жизни"
   ]
  },
  {
   "cell_type": "markdown",
   "metadata": {},
   "source": [
    "И далее мы получаем временной интервал (среднее время жизни), который мы можем использовать для фильтрации.  \n",
    "То есть нам нужно определить перспективные направления в определенной категориальной перменной.  \n",
    "У нас сейчас нарпимер, 2015 год. Мы выяснили что среднее время жизни категории 5 лет.  \n",
    "Тогда мы смотрим сколько на момент 2015 года прожила каждая категория. И далее считаем сколько ей осталось ещё жить.  \n",
    "Сортируем по времени оставшейся жизни. В итоге получаем топ переспективных категорий."
   ]
  },
  {
   "cell_type": "markdown",
   "metadata": {},
   "source": [
    "Общая схема такая\n",
    "- Выбираем категориальную переменную, в которой нам нужно определить перспективные категории.\n",
    "- Строим график для каждой категории ее вермени жизни. Делаем выводы.\n",
    "- Считаем среднее время жизни платформ (в идеале если есть другие категории, которые разделют категории на общие, то использовать расчет внутри подгруп).\n",
    "- Далее Берем актуальные на данный момент категории и считаем сколько они прожили к данному моменту.\n",
    "- Вычитаем среднее время жизни всех платформ и строим график топ по оставшемуся времени жизни.\n",
    "- Делаем выводы, какие категории будут лучше ближайшее время."
   ]
  },
  {
   "cell_type": "markdown",
   "metadata": {},
   "source": [
    "ВАЖНО  \n",
    "Если нам нужно определить перспективные категории в будущем,  \n",
    "то нужно использовать среднее время жизни категории. И взять период от текущего момента минус среднее время жизни.  \n",
    "И изучить именно этот период. Так мы получим более точные результаты.  \n",
    "Для выбранного периода строим данные по количеству проданных копий, например, по сумме выручки.   \n",
    "Строим боксплоты или vilon рядом за этот временной период и сравниваем, какие категории дали лучше результаты.  \n",
    "И делаем выводы.  \n",
    "Таким образом важно изучить общие данные и данные за среднее время жизни категории отложенного от текущего момента назад.  "
   ]
  },
  {
   "cell_type": "markdown",
   "metadata": {},
   "source": [
    "ВАЖНО  \n",
    "Чтобы определить самую перспективную категорию, нужно взять отрезок времени от текущего минус среднее время жизни.  \n",
    "И построить например, график общих продаж по годам в разрезе категории. Таким образом мы увидим у кого прибыль расте, а у кого падает.  \n",
    "И так как мы значем среденее время жизни, то мы можем уже делать выводы о будущем.  \n"
   ]
  },
  {
   "cell_type": "markdown",
   "metadata": {},
   "source": [
    "ВАЖНО  \n",
    "Вообще очень важно на графиках, с временными зависимостями смотреть конечную дату и делать выводы, какие категории уже на спаде, а какие сейчас актуальны.    \n",
    "Это можно понять по графику суммарных продаж по годам, суммарной выручки по годам, количествую новых пользователей по годам и так далее.  \n",
    "Нужно делать, например, такие выводы:  \n",
    "    Эти платформы относительно молоды (3-5 лет), свой пик они уже прошли и не показывают потенциальных перспектив роста продаж, но их продажи пока выше остальных и какое-то время они способны продержаться на плаву и заполнить нишу на рынке игровых платформ, ведь геймеры никуда не делись. Мы не видим платформ моложе либо с тенденцией роста к концу 2016 года, поэтому есть смысл сделать ставки на эти три: большинство крупных проектов подошли к своему завершению, и между ними и новыми разработками, которые возможно скоро появятся на рынке, будет явный провал, который надо переждать для \"поддержания штанов\""
   ]
  },
  {
   "cell_type": "markdown",
   "metadata": {},
   "source": [
    "Таким образом, смотрим на график (это моежт быть и бары, лини и heatmap в зависимости от количества категорий),  \n",
    "и изучаем динамику. \n",
    "Пишем выводы, что данные категории уже не актуальны, что определенные категории набирают оброты, что другие категории показывают лучшую устойчивость..  \n",
    "Например - \n",
    "- Жанр А был популярен до Х года, но последнее время потерял популярность, это видно по суммарным продажам и количеству новых пользователей.\n",
    "- Жанр Б показвает устойчивый рост, что говрит о том, что он ещё будет определенное время популярным.\n",
    "- Жанр В только появился на рынке и показывает хорошие результаты, то есть он может быть перспективным.\n",
    "И так делаем выводы по каждой категории.  \n",
    "Суть в том, чтобы проанализировать динамику во времени.  \n",
    "Для этого и создается раздел анализ временных зависимостей, чтобы изучить тредны, сезонность и определить какие категории уже свое отжили, а какие перспективные.  \n",
    "Какие категории падают по продажам, может нужно с этим что-то сделать и так далее."
   ]
  },
  {
   "cell_type": "markdown",
   "metadata": {},
   "source": [
    "ВАЖНО  \n",
    "пройти просмотреть все графики и где нужно изменить тип на линии  \n",
    "Если на графике динамика чего-то то линия лучше баров.  \n",
    "Если идет сравнение то бары лучше."
   ]
  },
  {
   "cell_type": "markdown",
   "metadata": {},
   "source": [
    "ВАЖНО  \n",
    "Пройти просмотреть все графики  \n",
    "Где только 1 категориальная переменная сделать горизонтальную ориентацию"
   ]
  },
  {
   "cell_type": "markdown",
   "metadata": {},
   "source": [
    "ВАЖНО  \n",
    "Пройти просмотреть все графики и где нужно проставить числа над барами"
   ]
  },
  {
   "cell_type": "markdown",
   "metadata": {},
   "source": [
    "### ВАЖНО"
   ]
  },
  {
   "cell_type": "markdown",
   "metadata": {},
   "source": [
    "- Берем все датафреймы, которые анализировали.  \n",
    "- И по очереди выводим все колонки, с указанием категориальная, числовая или другая.  \n",
    "- Собираем все выводы от графиков. \n",
    "- И внимательно думаем, какие зависимости мы пропустили.  \n",
    "- Строим их"
   ]
  },
  {
   "cell_type": "code",
   "execution_count": null,
   "metadata": {},
   "outputs": [],
   "source": [
    "df_by_userid_month.dtypes"
   ]
  },
  {
   "cell_type": "markdown",
   "metadata": {},
   "source": [
    "### Анализ срезов данных "
   ]
  },
  {
   "cell_type": "markdown",
   "metadata": {},
   "source": [
    "ВАЖНО  \n",
    "Посмотреть графики для каждой категории в нужных категориальных переменных. \n",
    "Например, у нас категориальная переменная регион.  \n",
    "Нужно посмотреть все зависимости для каждого региона отдельно и отобразить графики.  \n",
    "Схема следующая\n",
    "- Нужно выбрать важные категории и числовые переменные, которые мы хотим изучить отдельно.  \n",
    "- Когда изучаем графики, то изучаем всю картину целиком и затем изучаем отдельно каждую категорию."
   ]
  },
  {
   "cell_type": "markdown",
   "metadata": {},
   "source": [
    "ВАЖНО  \n",
    "Не нужно для всех категорий строитьотдельные графики.  \n",
    "Тут логика следующая:\n",
    "- Если на одном графике помещются данные по всем топ 5 категорий и можно сразу увдиеть результат по отдельным категоирям, то нет смысла строить отдельно.  \n",
    "- Если же мы смотрим на график и нам охота посмотреть ситуацию по отдельной категории, то лучше простроить ее отдельно.  \n",
    "- Нужно смотреть по ситуации и в зависимости от того, насколько разбивка по категориям на одном графике показывает ситуацию."
   ]
  },
  {
   "cell_type": "markdown",
   "metadata": {},
   "source": [
    "ВАЖНО  \n",
    "если у нас по условию задачи нужно сравнить что-то, то нужно построить наложенные гистограамы (в виде каги) каждой категории.  \n",
    "То есть если мы сравниваем тарифы, то нужно наложить гистограммы выручки, количества сообщений, звонков, гигабайт и так далее.  \n",
    "Таким образом мы не только сравниваем аггрегирующие метрики на графике, разбивая метрику по категории, но и   \n",
    "строим накладывающиеся гистограммы по каждой категории. Это очено важно, так как дает более глубокое сравнение.  "
   ]
  },
  {
   "cell_type": "markdown",
   "metadata": {},
   "source": [
    "Вообще если есть время, то в идеале построить накладывющиеся гистограммы для всех важных числовых метрик по всем важным категориям.  \n",
    "То есть берем метрику и категориальную переменную и строим гистограмму.  \n",
    "Нужно сделать отдельную функцию.  "
   ]
  },
  {
   "cell_type": "markdown",
   "metadata": {},
   "source": [
    "ВАЖНО  \n",
    "Если у нас есть странные значения, например нулевая длительность звонков, или что-то подобное,   \n",
    "то это также является срезом, который нужно изучить. Не только при предобработке, когда мы смотрели это по категориям.  \n",
    "Тут мы не только смотрим по категориям на графиках, но ещё и смотрим все метрики и графики для этого среза или срезов.  \n",
    "Таким образом выбросы, пропуски и любые аномальные занчения, которые можно объеденить в группу, являются срезом.  \n",
    "И этот срез нужно отдельно изучить, построив все графики, которые строили для общего датафрейма.  "
   ]
  },
  {
   "cell_type": "markdown",
   "metadata": {},
   "source": [
    "ВАЖНО  \n",
    "Если у нас много пропусков (болше 20 процентов)  \n",
    "То можно создать категориальуню переменную (с пропусками / без пропусков) для каждой колонки с пропусками.  \n",
    "И изучить срезы отдельно. То есть сравнить их."
   ]
  },
  {
   "cell_type": "markdown",
   "metadata": {},
   "source": [
    "ВАЖНО  \n",
    "Важно изучать топ N чего-то. Так как нас интересует увеличение результатов, и именно эти топ n уже показали результаты и нужно это изучить. И сделать выводы.  \n",
    "Смотрим на категориальные переменные и числовые переменные в разделе, где мы их изучали.  \n",
    "Отбираем нужные категории и числовые переменные. \n",
    "Категории мы также можем отобрать и в разделе изучения категорий, когда изучаем доли. То есть выбираем топ N не только по числовой переменной,  \n",
    "но и по количествую в категориальной переменной. То есть мы изучим отедльно самые распространенные категории.\n",
    "Выбрать топ 5 значений категориальной переменной по нужной количественной переменной.  \n",
    "И посмотреть их отдельно на одном графике вместе (то есть фильтруем 5 значений категориальной переменной по топ числовой переменной).  \n",
    "И каждую по отдельности.  \n",
    "Причем смотрим и распределения и средние значения и суммы по определенной числовой переменной.\n",
    "Схема такая\n",
    "- когда изучаем общие данные, выбираем категории и числовые переменные, которые можно изучить через топ N.\n",
    "- и в этом разаделе уже смотрим их по отдельности. Даже если мы до этого изучили всю картину и были графики, где эти категории уже есть в разрезе,  \n",
    "то для лучшего понимания картины тут тоже строим графики, но уже для выбранных категорий и далее по отдельности. Можно и распределения построить.  \n",
    "Задача проанализировать чем эти топ N категории отличаются от остальных.  \n",
    "Например у нас данные о продажах игр.  \n",
    "Мы построили график суммарных продаж и увидели, что определнное количество игр имеют болше результат чем другие (не обязательно 5, может быть и 2, 3, тут лучше ориентироваться на то, насколько выбранные отличаются от остальных, наша задача отобрать те, которые явно выделяются)."
   ]
  },
  {
   "cell_type": "markdown",
   "metadata": {},
   "source": [
    "И так повторяем для всех важных категорий и числовых переменных.  \n",
    "Суть в том, чтобы проаназировать как ведут себя лидеры.  \n",
    "Также можно и изучить топ с самыми худшими результатами."
   ]
  },
  {
   "cell_type": "markdown",
   "metadata": {},
   "source": [
    "Срезы нужно обязательно сравнить со всем датафреймом.  \n",
    "То есть мы например, изучили центр города и нужно сделать выводы основываясь на сравнении центра и всего города."
   ]
  },
  {
   "cell_type": "markdown",
   "metadata": {},
   "source": [
    "Нужно создать 2 генератора и параллельно идти, чтобы сначала выводился срез, а потом уже целый датафрейм.  \n",
    "Тут наша задача не изучать выбросы, дубли и прочее.  \n",
    "Тут задача найти отличия среза от всего датафрейма."
   ]
  },
  {
   "cell_type": "markdown",
   "metadata": {},
   "source": [
    "Возможно лучше прйти все колонки так попарно, а потом выбрать только те, которые имеют отличия.  \n",
    "И построить только их."
   ]
  },
  {
   "cell_type": "markdown",
   "metadata": {},
   "source": [
    "ВАЖНО  \n",
    "Еслиу нас есть временные переменные, то важно посмотреть графики за последние 10, 5, 3 или 1 год, в зависимости от задачи.   \n",
    "Так как важно проанализировать не только всю историю, но и последнее время, так как именно это время актуально.  \n",
    "Берем строим графики, например, суммарные продажи по жанрам за последние 3-5 лет и так далее.   "
   ]
  },
  {
   "cell_type": "markdown",
   "metadata": {},
   "source": [
    "Срезы нужны не только чтобы изучить отдельно часть данных, важно сравнивать срез со всем датафреймом.  \n",
    "Нужно подумать какие срезы будет полезно сравнить со всем датафреймом.  \n",
    "И провести сравнительный анализ. И поместить в отчет то, что имеет отличия и важно для выводов."
   ]
  },
  {
   "cell_type": "markdown",
   "metadata": {},
   "source": [
    "Часто когда есть пользователи, то нужно изучить срезы активные и не активные пользователи.  \n",
    "И постараться понять что отличает не активных.  "
   ]
  },
  {
   "cell_type": "markdown",
   "metadata": {},
   "source": [
    "сделать приложение dash чтобы можно было выбирать колонки для анализа,  \n",
    "чтобы можно было фильтровать по всем категориальным переменным,  \n",
    "чтобы были слайдеры для фильтрации по числовым переменным,\n",
    "чтобы можно было выбирать типы графиков и строить разные графики.  \n",
    "Это не генератор, а это для ad-hoc анализа.   \n",
    "То есть мы подумали что интересно будет изучить этот срез и эти переменные и изучили.  \n",
    "А потом можно подумать как это автоматиировать, чтобы в цикле строились нужные графики.  "
   ]
  },
  {
   "cell_type": "markdown",
   "metadata": {},
   "source": [
    "Анализ срезов состоит из анализа срезов из одного значения, то есть мы выбираем конкретное значени и по  нему фильтруем.  \n",
    "и анализа срезов из нескольких переменных, когда мы выбираем несколько значений для среза или даже несколько переменных и в них выбираем определенные значения.  "
   ]
  },
  {
   "cell_type": "markdown",
   "metadata": {},
   "source": [
    "Анализ срезов по одному значению мы просто фильтруем по нему и смотрим результат функции `info_gen` или 'info_column'  "
   ]
  },
  {
   "cell_type": "markdown",
   "metadata": {},
   "source": [
    "А анализ срезво по нескольким значениям или переменным будет результатом анализа графиков в dash app.  \n",
    "То есть мы в процессе анализа фильтруем данные и после работы в dahs app мы фильтрованные графики помещаюем в этот раздел.  \n",
    "Чтобы разделить срезы и полный анализ.  "
   ]
  },
  {
   "cell_type": "markdown",
   "metadata": {},
   "source": [
    "ВАЖНО  \n",
    "Чтобы изучить активных и неактивных пользователей, нужно создать признак 'is_acitve'  \n",
    "И внимательно посмотреть на графики с временными зависимостями, где во времени идет сранвение по 'is_active'  \n",
    "Таким образом мы как бы посмотрим в прошлое, как вели себя пользователи, которые стали неактивными, и как вели себя активные пользователи"
   ]
  },
  {
   "cell_type": "markdown",
   "metadata": {},
   "source": [
    "Нужно подумать как лучше изучать срезы.  \n",
    "В данном разделе лучше изучить срезы отдельных значений, то есть отдельный город, отдельный пол и прочее.  \n",
    "То есть мы фильтруем по одному значению и его изучаем в функцией `info`  \n",
    "А изучение срезов данных, которые состоят из набора значений (например изучить цену в топ 10 городах), это уже будет сделано  \n",
    "в анализе графиков.  "
   ]
  },
  {
   "cell_type": "markdown",
   "metadata": {},
   "source": [
    "Тут мы изучаем подготовленный набор данных в разрезе разных категориальных переменных.  \n",
    "Задача посмотреть на отдельные срезы и найти закономерности в данных.  "
   ]
  },
  {
   "cell_type": "markdown",
   "metadata": {},
   "source": [
    "Например у нас есть данные о продажах квартир, мы создали новые категориальные перменные, обогатили данные  \n",
    "И теперь хотим посмотреть какое распределение цены только в центре, или какая площадь квартир возле парков и прочее.  \n",
    "То есть мы тут изучаем отдельно переменные в разрезе категорий, то есть строим срезы.  \n",
    "ВАжно, что тут мы изучаем отедльные переменные, срезы в зависимостях переменных будем строить в разаделе визуализации. "
   ]
  },
  {
   "cell_type": "markdown",
   "metadata": {},
   "source": [
    "Определить цель. Прежде чем начинать анализ срезов, важно четко определить, какие вопросы вы хотите ответить или какие гипотезы хотите проверить. Это может включать:\n",
    "- Сравнение различных групп (например, по возрасту, полу, региону).\n",
    "- Изучение влияния определенных факторов на целевую переменную.\n",
    "- Выявление аномалий или неожиданных паттернов в данных."
   ]
  },
  {
   "cell_type": "markdown",
   "metadata": {},
   "source": [
    "Выбор переменных для срезов. Выберите переменные, по которым вы хотите сделать срезы. Это могут быть как категориальные, так и количественные переменные. Примеры:\n",
    "- Категориальные переменные: пол, категория товара, регион, уровень образования.\n",
    "- Количественные переменные: возраст, доход, количество покупок (то есть мы можем просто взять срез с зарплатой до 100 тысяч и прочее, не обязательно иметь категорию для создания срезов, причем у нас может быть категория доходов, но срез мы можем взять в другом диапазоне)."
   ]
  },
  {
   "cell_type": "markdown",
   "metadata": {},
   "source": [
    "Важно когда мы выбрали параметры по которым хотим сделать срез, то далее нужно выбрать условие по которому мы будем создавать срез.  \n",
    "Срез это фильтрация или группировка, то есть должна быть либо функция аггрегации или значения по которым мы будем фильтровть.  \n",
    "Например мы для среза выбрали параметр города. Теперь нам нужно отобрать города для среза.  \n",
    "Мы выбираем параметр количество объявлений (все зависит от цели, можно было выбрать и количество населения, значение других параметров, все что поможет нам создать топ)\n",
    "И далее по нему фильтруем или аггрегируем.  "
   ]
  },
  {
   "cell_type": "markdown",
   "metadata": {},
   "source": [
    "Срезы данных можно создавать различными способами. Вот несколько подходов:\n",
    "- Фильтрация данных: Используйте условия для выбора подмножеств данных.  \n",
    "Например, выберите только тех клиентов, которые находятся в определенном регионе или имеют доход выше определенного порога.  \n",
    "- Группировка данных: Используйте функции группировки (например, groupby в pandas для Python) для агрегирования данных по выбранным переменным.   \n",
    "Это позволяет вам получить сводные статистики по группам.\n",
    "- Кросс-табуляция: Для категориальных переменных создайте кросс-таблицы, чтобы увидеть взаимосвязи между переменными."
   ]
  },
  {
   "cell_type": "markdown",
   "metadata": {},
   "source": [
    "Анализ срезов. После создания срезов данных проведите анализ:\n",
    "- Статистический анализ: Рассчитайте основные статистики (среднее, медиана, стандартное отклонение) для каждой группы или среза. Это поможет вам понять, как различаются группы по ключевым показателям.\n",
    "- Визуализация: Постройте графики для визуального представления данных. Это могут быть:  \n",
    "Гистограммы для распределения количественных переменных.  \n",
    "Столбчатые графики для сравнения категориальных переменных.  \n",
    "Ящики с усами (boxplots) для визуализации разброса и выявления аномалий.  \n",
    "- Сравнительный анализ: Сравните срезы между собой. Например, как различается средний доход мужчин и женщин или как меняется поведение клиентов в зависимости от региона."
   ]
  },
  {
   "cell_type": "markdown",
   "metadata": {},
   "source": [
    "Если мы для среза выбрали одно значение (например конкретный город), то мы просто посмотреть результат функции`info` и проанализировать его  \n",
    "Но если мы выбрали для среза набор значений, то нам нужно уже построить графики для сравнения стат параметров или других аггреигующих параметров  \n",
    "для каждого занчения в срезе. То есть нам нужно выбрать параметры по которым мы будем сравнивать значения в срезе.  "
   ]
  },
  {
   "cell_type": "markdown",
   "metadata": {},
   "source": [
    "Фильруем датасет по определенному значению и далее либо изучаем по отедльным столбцам, либо по всем испоьзуя генератор"
   ]
  },
  {
   "cell_type": "markdown",
   "metadata": {},
   "source": [
    "То есть мы изучаем срез по одному значению"
   ]
  },
  {
   "cell_type": "markdown",
   "metadata": {},
   "source": [
    "Созадем 2 генератора (или больше, если хотим сравнить несколько срезов), для среза и всего датафрейма и идем изучаем их вместе.  "
   ]
  },
  {
   "cell_type": "markdown",
   "metadata": {},
   "source": [
    "Нужно сделать отдельный генератор, чтобы в нем не было информации про пропуски, нули и прочее,   \n",
    "И организовать так, чтобы было удобно сравнивать.  \n",
    "Также гистограммы нужно сделать на одном графике, чтобы накладывлись друг на друга и сделать прозрачность.    \n",
    "Это очень удобно и если гистограммы будут накладываться друг на друга, то можно будет увидеть сразу отличия средних и мод на графике.    \n",
    "В идеале сделать, чтобы были не столбцы, а типа каги, то есть линия со ступеньками, так удобнее сравнивать гистограммы. "
   ]
  },
  {
   "cell_type": "markdown",
   "metadata": {},
   "source": [
    "ОЧЕНЬ ВАЖНО  \n",
    "- в наблюдения пишем обязательно диапазон значений столбца.  \n",
    "Рынок жилья представлен объектами общей площадью от 12 до 900 кв.м. \n",
    "- пишем медианное занчение и по гистограмме и по квантилям определяем оснвоной диапазон.  \n",
    "В основном это жилье от 30 до 100 кв.м. с пиком в сегменте 30-75 кв.м  \n",
    "Это все нужно, чтобы потом сформулировать вот такой вывод (в оснвоном выводе отчета), то есть мы для разных столбцов пишем диапазоны,  \n",
    "основной дипазаон, медианы, моды, а потом уже собираем это в 1 или несколько выводов,  \n",
    "Например.  \n",
    "Рынок жилья представлен объектами общей площадью от 12 до 900 кв.м. В основном это жилье от 30 до 100 кв.м. с пиком в сегменте 30-75 кв.м. В жилой площади квартиры преобладает диапазон 15-50 кв.м. Размер площади кухни-от 5 до 15 кв.м., с пиком 9 кв.м. Это стандартные небольшие квартиры эконом-класса. Подавляющее большинство квартир- 1-3 комнатные, с высотой потолка 2,6-2,7 м., но встречаются редкие варианты до 19 комнат и высотой потолка до 20 кв.м. (либо ошибка, либо свободная планировка с возможностью многоуровневости).\n"
   ]
  },
  {
   "cell_type": "markdown",
   "metadata": {},
   "source": [
    "В итоге мы сраним диапазоны, моды, медианы в срезе и во всем датафйреме.  \n"
   ]
  },
  {
   "cell_type": "markdown",
   "metadata": {},
   "source": [
    "Было бы идеально определить отличия в срезе и в общей картине, не просто сухими цифрами,  \n",
    "а собрать все наблюдения вместе и расписать это в подобном виде-   \n",
    "Рынок недвижимости центральной части города представлен несколько более широким по площади диапазоном : основная масса- это жилье от 30 до 150 кв.м с пиком в сегменте 45-80 кв.м. При этом жилая площадь занимает большую долю, чем среднестатистическая квартира: в центре СПб большое количество домов старой застройки, в которой пространство \"сдвинуто\" в пользу жилой площади. Особенностью этой части города является то, что большинство квартир, предлагаемых на продажу,- 2-3 комнатные: здесь в общей массе достаточно низкая доля 1-комнатного жилья и выше доля 4-комнатных квартир. Наибольшее количество предложений в абсолютном выражении (цена за объект) приходится на диапазон 5-15 млн.руб. с пиком 5-8 млн.руб.(маленькие квартиры эконом-класса), но есть и уникальные объекты стоимостью до 35 млн.руб. Стоимость квадратного метра недвижимости в основном варьируется от 70 до 150 тыс.руб. с пиком в 100 тыс.руб. Наряду с типовыми предложениями на продажу выставлено жилье со стоимостью 1 кв.м. до 266 тыс.руб за кв.м. В целом цены жилья центра города выше по цене, чем аналогичное в других районах."
   ]
  },
  {
   "cell_type": "code",
   "execution_count": null,
   "metadata": {},
   "outputs": [],
   "source": [
    "df_sliced = df[df.location_zone == 'Центр']\n",
    "gen_slice = pagri_data_tools.info_gen(df_sliced)\n",
    "gen = pagri_data_tools.info_gen(df)"
   ]
  },
  {
   "cell_type": "code",
   "execution_count": null,
   "metadata": {},
   "outputs": [],
   "source": [
    "next(gen_slice)\n",
    "next(gen)"
   ]
  },
  {
   "cell_type": "markdown",
   "metadata": {},
   "source": [
    "Если есть что-то важное и есть отличия, по которым можно сделать выводы, то строим отдельно в отчет"
   ]
  },
  {
   "cell_type": "code",
   "execution_count": null,
   "metadata": {},
   "outputs": [],
   "source": [
    "print('Центр города')\n",
    "pagri_data_tools.info_column(df_sliced, 'last_price')\n",
    "print('Весь датафрейм')\n",
    "pagri_data_tools.info_column(df, 'last_price')"
   ]
  },
  {
   "cell_type": "markdown",
   "metadata": {},
   "source": [
    "**Наблюдения:**  \n",
    "- пишем тут наблюдения"
   ]
  },
  {
   "cell_type": "markdown",
   "metadata": {},
   "source": [
    "ВАЖНО  \n",
    "Сравниваем не только отдельные столбцы с общей картиной.  \n",
    "Нужно взять срез и посмотреть на корреляцию, зависимости между числовыми, категориальными и т.д.  \n",
    "Как это делали для всего датафрейма, только в укороченной версии, то есть можно взять общей картины, что мы нашли интересного  \n",
    "(то есть взять названия столбцов) и посмотреть на эти же графики, но уже в срезах.  \n",
    "Если есть время, то можно и полностью прогнать все необходимые срезы по всем столбцам как для всего датафрейма.  "
   ]
  },
  {
   "cell_type": "markdown",
   "metadata": {},
   "source": [
    "Полезно изучить топ определенного столбца.  \n",
    "То есть нам нужно выбрать параметр по которому мы отберем топ значений для категорий.  \n",
    "Затем выбрать параметр для которого мы будем считать топ значений (числовая переменная)\n",
    "И построить топ.  \n",
    "Например, топ цен квартир в 10 городах с максимальным количеством объявлений.  \n"
   ]
  },
  {
   "cell_type": "code",
   "execution_count": null,
   "metadata": {},
   "outputs": [],
   "source": [
    "selected_cities = df.groupby('locality_name').size().rename('count').sort_values(ascending=False).to_frame().head(10)\n",
    "selected_cities"
   ]
  },
  {
   "cell_type": "code",
   "execution_count": null,
   "metadata": {},
   "outputs": [],
   "source": [
    "selected_cities = selected_cities.index"
   ]
  },
  {
   "cell_type": "code",
   "execution_count": null,
   "metadata": {},
   "outputs": [],
   "source": [
    "config = dict(\n",
    "    df = df[df.locality_name.isin(selected_cities)]\n",
    "    , x = 'locality_name'\n",
    "    , x_axis_label = 'Название населённого пункта'\n",
    "    , y = 'price_per_sqm'\n",
    "    , y_axis_label = 'Цена квадратного метра'\n",
    "    , title = 'Цена кв метра в зависимости от населенного пункта'\n",
    "    , func = 'mean'\n",
    "    , width = None\n",
    "    , height = None\n",
    "    , orientation = 'v'\n",
    ")\n",
    "pagri_data_tools.bar(config)"
   ]
  },
  {
   "cell_type": "markdown",
   "metadata": {},
   "source": [
    "### Когортный анализ\n"
   ]
  },
  {
   "cell_type": "markdown",
   "metadata": {},
   "source": [
    "> Не забывать про когортный анализ. Если у нас есть параметр, по которому мы можем наши данные разбить на когорты, то  \n",
    "> нужно разложить на когорты и посмотреть динамику по когортам.  \n",
    "> Когорты это например, пользователи пришедшие в одни день или месяц.  \n",
    "> Если мы объеденим пользователей в когорты и посмотрим динамику какого-то параметра по месяцам например, то увидим как изменяется.  \n",
    "> Тут также нужно помнить, что если значение например за 3 месяц больше значения за 4 месяц, то это ничего не значит само по себе.  \n",
    "> Так как мы имеем дело с выборкой, то нам нужно проверить статистически значимая это разница.  \n",
    "> Тут нам понядобятся стат тесты.\n"
   ]
  },
  {
   "cell_type": "markdown",
   "metadata": {},
   "source": [
    "Для когортного анализа нам нужно \n",
    "- сгруппировать по временному периоду\n",
    "- выбрать нужные метрики (одна или несколько), которые мы хотим расчитать для каждой когорты\n",
    "- аггрегировать данные по когортам и рассчитать аггрегированные метрики\n",
    "- если хотим посмотреть в разрезе каких-то категорий, то к аггрегации по когортам добавляем аггрегацию по этим категориям  \n",
    "При чем этими каетегориями могут быть не только время прощедшее с регистрации.\n"
   ]
  },
  {
   "cell_type": "markdown",
   "metadata": {},
   "source": [
    "Для каких метрик можно строить когортный анализ\n",
    "- выручка, количество заказов, количество клиентов, количество транзакций, средний чек, arpu, arppu и другие метрики\n",
    "- mau, dau, wau, retention rate, churn rate и другие метрики"
   ]
  },
  {
   "cell_type": "markdown",
   "metadata": {},
   "source": [
    "Если мы группируем по времени прощелшем с регистрации (или другой даты, по которой создана когорта), то периоды будут lifetime.  \n",
    "И можно сказать так - Retention Rate на нулевой месяц lifetime составит 100%  \n",
    "ВАЖНО   \n",
    "перед словом lifetime должна идти еденица измерения (день, месяц, год)"
   ]
  },
  {
   "cell_type": "markdown",
   "metadata": {},
   "source": [
    "Retantion rate и Churn rate можно считать относительно стартовой даты  \n",
    "churn rate = (активные в текущем месяце / активные в начальный месяц - 1) * 100  \n",
    "А можно считать относительно предыдущего месяца  \n",
    "churn rate = (активные в текущем месяце / активные в предыдущий месяц - 1) * 100"
   ]
  },
  {
   "cell_type": "code",
   "execution_count": null,
   "metadata": {},
   "outputs": [],
   "source": [
    "first_activity_date = user_activity.groupby(['user_id'])['activity_date'].min()\n",
    "first_activity_date.name = 'first_activity_date'\n",
    "user_activity = user_activity.join(first_activity_date,on='user_id') \n"
   ]
  },
  {
   "cell_type": "markdown",
   "metadata": {},
   "source": [
    "Чтобы группировать когорты по неделям, лучше всего использовать день начала недели, его можно рассчитать так"
   ]
  },
  {
   "cell_type": "markdown",
   "metadata": {},
   "source": [
    "Получим день начала недели, за которую произошло событие. Он станет идентификатором недели. "
   ]
  },
  {
   "cell_type": "code",
   "execution_count": null,
   "metadata": {},
   "outputs": [],
   "source": [
    "# unit использоуется для подстраховки\n",
    "user_activity['activity_week'] = pd.to_datetime(\n",
    "    user_activity['activity_date'], unit='d'\n",
    ") - pd.to_timedelta(user_activity['activity_date'].dt.dayofweek, unit='d')\n",
    "user_activity['first_activity_week'] = pd.to_datetime(\n",
    "    user_activity['first_activity_date'], unit='d'\n",
    ") - pd.to_timedelta(\n",
    "    user_activity['first_activity_date'].dt.dayofweek, unit='d'\n",
    ") "
   ]
  },
  {
   "cell_type": "markdown",
   "metadata": {},
   "source": [
    "Теперь для каждой строки датафрейма посчитаем lifetime"
   ]
  },
  {
   "cell_type": "code",
   "execution_count": null,
   "metadata": {},
   "outputs": [],
   "source": [
    "user_activity['cohort_lifetime'] = (\n",
    "    user_activity['activity_week'] - user_activity['first_activity_week']\n",
    ")\n",
    "user_activity['cohort_lifetime'] = user_activity[\n",
    "    'cohort_lifetime'\n",
    "] / np.timedelta64(1, 'W')\n",
    "user_activity['cohort_lifetime'] = user_activity['cohort_lifetime'].astype(\n",
    "    'int'\n",
    ") "
   ]
  },
  {
   "cell_type": "markdown",
   "metadata": {},
   "source": [
    "Сгруппируем данные по когорте и lifetime. Посчитаем для каждой когорты количество активных пользователей на определённую «неделю жизни»:"
   ]
  },
  {
   "cell_type": "code",
   "execution_count": null,
   "metadata": {},
   "outputs": [],
   "source": [
    "cohorts = user_activity.groupby(['first_activity_week','cohort_lifetime']).agg({'user_id':'nunique'}).reset_index() "
   ]
  },
  {
   "cell_type": "markdown",
   "metadata": {},
   "source": [
    "Найдём исходное количество пользователей в когорте. Возьмём их число на нулевую неделю:"
   ]
  },
  {
   "cell_type": "code",
   "execution_count": null,
   "metadata": {},
   "outputs": [],
   "source": [
    "\n",
    "initial_users_count = cohorts[cohorts['cohort_lifetime'] == 0][\n",
    "    ['first_activity_week', 'user_id']\n",
    "]\n",
    "initial_users_count = initial_users_count.rename(columns={'user_id':'cohort_users'}) \n",
    "cohorts = cohorts.merge(initial_users_count,on='first_activity_week') "
   ]
  },
  {
   "cell_type": "markdown",
   "metadata": {},
   "source": [
    "рассчитаем Retention Rate"
   ]
  },
  {
   "cell_type": "code",
   "execution_count": null,
   "metadata": {},
   "outputs": [],
   "source": [
    "cohorts['retention'] = cohorts['user_id']/cohorts['cohort_users'] "
   ]
  },
  {
   "cell_type": "markdown",
   "metadata": {},
   "source": [
    "Найти Churn Rate просто — достаточно определить, на сколько пользователей в когорте становится меньше в сравнении с предыдущим периодом. Чтобы рассчитать этот показатель, вызовем метод pct_change() (от англ. percentage change, «процентное изменение»). Он позволяет вычислить процентное изменение значения в столбце относительно предыдущей строки датафрейма. Если применить его с группировкой, метод сработает внутри группы."
   ]
  },
  {
   "cell_type": "markdown",
   "metadata": {},
   "source": [
    "По умолчанию он сравнивает значения в строках, что полезно для анализа временных рядов. Вы можете указ ить ось для вычисления изменения по столбцам или задать период для расчета."
   ]
  },
  {
   "cell_type": "code",
   "execution_count": null,
   "metadata": {},
   "outputs": [],
   "source": [
    "pd.DataFrame().pct_change()"
   ]
  },
  {
   "cell_type": "code",
   "execution_count": null,
   "metadata": {},
   "outputs": [],
   "source": [
    "cohorts['churn_rate'] = cohorts.groupby(['first_activity_week'])['user_id'].pct_change() "
   ]
  },
  {
   "cell_type": "markdown",
   "metadata": {},
   "source": [
    "Также нужно построить churn rate относителльно стартового периода.  \n",
    "(текущее / стартовое - 1) * 100"
   ]
  },
  {
   "cell_type": "markdown",
   "metadata": {},
   "source": [
    "Поведенческие когорты  \n"
   ]
  },
  {
   "cell_type": "markdown",
   "metadata": {},
   "source": [
    "Это когортный анализ в разрезе каких-то категорий."
   ]
  },
  {
   "cell_type": "markdown",
   "metadata": {},
   "source": [
    "Суть в том, что нам нужно разбить пользователей на когорты (по сути тут просто категории) и для каждой из них сделать когортный анализ,  \n",
    "то есть создать когорты уже по времени действия для каждой категории и потом сравнить результаты"
   ]
  },
  {
   "cell_type": "markdown",
   "metadata": {},
   "source": [
    "Чтобы провести поведенческий анализ, необходимо разделить пользователй по какому-то признаку и для каждой группы построить когортную матрицу,   \n",
    "или просто столбец (если мы просто хотим для каждой когорты получить аггрегированную метрики без разбивки по какой-то категории)   \n",
    "и далее визуализировать. Если матрица, то используем heatmap, если столбец, то используем barplot."
   ]
  },
  {
   "cell_type": "markdown",
   "metadata": {},
   "source": [
    "Например, у нас есть логи пользователей и категориальная переменная их действий (то есть где была активность)"
   ]
  },
  {
   "cell_type": "markdown",
   "metadata": {},
   "source": [
    "Сформируем поведенческую когорту по типу события help."
   ]
  },
  {
   "cell_type": "markdown",
   "metadata": {},
   "source": [
    "По каждому пользователю выделим дату совершения первого события и добавим её к датафрейму events:"
   ]
  },
  {
   "cell_type": "code",
   "execution_count": null,
   "metadata": {},
   "outputs": [],
   "source": [
    "min_event_datetime = events.groupby(['user_id'])['event_datetime'].min()\n",
    "min_event_datetime.name = 'min_event_datetime'\n",
    "events = events.join(min_event_datetime,on='user_id') "
   ]
  },
  {
   "cell_type": "markdown",
   "metadata": {},
   "source": [
    "Сформируем пользовательскую когорту на основе события, совершаемого в первую неделю жизни пользователя в сервисе. Нужно рассчитать параметр, который позволит для каждого события определить, через какое время после первого события оно произошло.\n",
    "Создадим новый столбец time_to_event, содержащий время между событием и первым событием пользователя:"
   ]
  },
  {
   "cell_type": "code",
   "execution_count": null,
   "metadata": {},
   "outputs": [],
   "source": [
    "events['time_to_event'] = events['event_datetime'] - events['min_event_datetime'] "
   ]
  },
  {
   "cell_type": "markdown",
   "metadata": {},
   "source": [
    "Нужны лишь события типа help и только те, у которых после первого события прошло меньше 7 дней. Обратите внимание на применение среза по timedelta: можно просто указать количество дней. Это работает и с другими единицами измерения времени. Например, с минутами."
   ]
  },
  {
   "cell_type": "code",
   "execution_count": null,
   "metadata": {},
   "outputs": [],
   "source": [
    "filtered_events = events[(events['event_type'] == 'help') & (events['time_to_event'] < '7 days')]"
   ]
  },
  {
   "cell_type": "markdown",
   "metadata": {},
   "source": [
    "Сгруппируем датафрейм по пользователям и подсчитаем количество совершённых действий:"
   ]
  },
  {
   "cell_type": "code",
   "execution_count": null,
   "metadata": {},
   "outputs": [],
   "source": [
    "count_events_by_users = filtered_events.groupby(['user_id']).agg({'event_datetime':'count'}).reset_index() "
   ]
  },
  {
   "cell_type": "markdown",
   "metadata": {},
   "source": [
    "Найдём медианное количество переходов в «Помощь» за первую неделю:"
   ]
  },
  {
   "cell_type": "code",
   "execution_count": null,
   "metadata": {},
   "outputs": [],
   "source": [
    "print(count_events_by_users['event_datetime'].median()) "
   ]
  },
  {
   "cell_type": "markdown",
   "metadata": {},
   "source": [
    "Разделим пользователей по целевому поведению, установив 5 обращений как рубеж:"
   ]
  },
  {
   "cell_type": "code",
   "execution_count": null,
   "metadata": {},
   "outputs": [],
   "source": [
    "count_events_by_users['is_target_behavior'] = (\n",
    "    count_events_by_users['event_datetime'] > 5\n",
    ")\n",
    "\n",
    "user_ids_with_target_behavior = count_events_by_users[\n",
    "    count_events_by_users['is_target_behavior']\n",
    "]['user_id'].unique()\n",
    "user_ids_without_target_behavior = count_events_by_users[\n",
    "    ~count_events_by_users['is_target_behavior']\n",
    "]['user_id'].unique() "
   ]
  },
  {
   "cell_type": "code",
   "execution_count": null,
   "metadata": {},
   "outputs": [],
   "source": [
    "events.loc[\n",
    "    events['user_id'].isin(user_ids_with_target_behavior),\n",
    "    'is_in_behavioral_cohort',\n",
    "] = 'yes'\n",
    "events.loc[\n",
    "    events['user_id'].isin(user_ids_without_target_behavior),\n",
    "    'is_in_behavioral_cohort',\n",
    "] = 'no'\n",
    "events['is_in_behavioral_cohort'] = events['is_in_behavioral_cohort'].fillna(\n",
    "    'no_behavior'\n",
    ") "
   ]
  },
  {
   "cell_type": "markdown",
   "metadata": {},
   "source": [
    "Посмотрим, как разделилось число пользователей между группами:"
   ]
  },
  {
   "cell_type": "code",
   "execution_count": null,
   "metadata": {},
   "outputs": [],
   "source": [
    "print(events.groupby('is_in_behavioral_cohort')['user_id'].nunique()) "
   ]
  },
  {
   "cell_type": "markdown",
   "metadata": {},
   "source": [
    "Проанализируем, как для каждой поведенческой когорты изменяется Retention Rate с течением времени. Выделим недельные когорты и подсчитаем относительную неделю lifetime пользователя в мобильном приложении:"
   ]
  },
  {
   "cell_type": "code",
   "execution_count": null,
   "metadata": {},
   "outputs": [],
   "source": [
    "events['event_week'] = pd.to_datetime(\n",
    "    events['event_datetime'].dt.date\n",
    ") - pd.to_timedelta(events['event_datetime'].dt.dayofweek, unit='d')\n",
    "events['min_event_week'] = pd.to_datetime(\n",
    "    events['min_event_datetime'].dt.date\n",
    ") - pd.to_timedelta(events['min_event_datetime'].dt.dayofweek, unit='d')\n",
    "\n",
    "events['cohort_lifetime'] = events['event_week'] - events['min_event_week']\n",
    "events['cohort_lifetime'] = events['cohort_lifetime'] / np.timedelta64(1, 'W')\n",
    "events['cohort_lifetime'] = events['cohort_lifetime'].astype(int) "
   ]
  },
  {
   "cell_type": "markdown",
   "metadata": {},
   "source": [
    "Создадим функцию расчёта и вывода Retention Rate в зависимости от lifetime:"
   ]
  },
  {
   "cell_type": "code",
   "execution_count": null,
   "metadata": {},
   "outputs": [],
   "source": [
    "def printRetentionRate(df):\n",
    "cohorts = df.groupby(['min_event_week','cohort_lifetime'],as_index=False).agg({'user_id':'nunique'}).sort_values(['min_event_week','cohort_lifetime'])\n",
    "\n",
    "inital_users_count = cohorts[cohorts['cohort_lifetime'] == 0][['min_event_week','user_id']]\n",
    "inital_users_count = inital_users_count.rename(columns={'user_id':'cohort_users'})\n",
    "\n",
    "cohorts = cohorts.merge(inital_users_count,on='min_event_week')\n",
    "\n",
    "cohorts['retention'] = cohorts['user_id']/cohorts['cohort_users']\n",
    "\n",
    "\n",
    "print (cohorts.groupby(['cohort_lifetime'])['retention'].mean())\n",
    "cohorts.groupby(['cohort_lifetime'])['retention'].mean().plot.bar() "
   ]
  },
  {
   "cell_type": "markdown",
   "metadata": {},
   "source": [
    "И теперь для каждой категории проведем когортный анализ и сравним категории между собой."
   ]
  },
  {
   "cell_type": "code",
   "execution_count": null,
   "metadata": {},
   "outputs": [],
   "source": [
    "printRetentionRate(events[events['is_in_behavioral_cohort'] == 'no_behavior']) \n",
    "printRetentionRate(events[events['is_in_behavioral_cohort'] == 'yes']) \n",
    "printRetentionRate(events[events['is_in_behavioral_cohort'] == 'no']) "
   ]
  },
  {
   "cell_type": "markdown",
   "metadata": {},
   "source": [
    "Примеры вывыодов для когортного анализа когортной матрицы   \n",
    "После первого месяца количество покупателей в когорте снижается.  \n",
    "В некоторых когортах число покупателей периодически начинает расти. Например, в когорте 2010-12-01.  \n",
    "Количество покупателей уменьшается во всех когортах в декабре 2011. Возможно, это связано с сезонностью.  \n",
    "Пользователи когорты декабря 2010 года продолжают составлять большую долю покупателей даже спустя год. В ноябре 2011 года их 445.  "
   ]
  },
  {
   "cell_type": "markdown",
   "metadata": {},
   "source": [
    "Отслеживание абсолютных показателей по месяцам позволяет исследовать изменения с течением времени. А также заметить общие черты в поведении всех когорт — например, обнаружить сезонное снижение числа пользователей. Можно сделать и вывод о доле каждой когорты в общем количестве покупателей месяца.\n"
   ]
  },
  {
   "cell_type": "markdown",
   "metadata": {},
   "source": [
    "Если мы строим когорты по месяцам, то количество дней в месяцах разное и при делениии на np.timedelta64(1, 'M') могут быть дробные числа, поэтому округляем до целого числа."
   ]
  },
  {
   "cell_type": "code",
   "execution_count": null,
   "metadata": {},
   "outputs": [],
   "source": [
    "orders_grouped_by_cohorts['cohort_lifetime'] = orders_grouped_by_cohorts[\n",
    "    'cohort_lifetime'\n",
    "] / np.timedelta64(1, 'M')\n",
    "orders_grouped_by_cohorts['cohort_lifetime'] = (\n",
    "    orders_grouped_by_cohorts['cohort_lifetime'].round().astype('int')\n",
    ")"
   ]
  },
  {
   "cell_type": "markdown",
   "metadata": {},
   "source": [
    "Оставим в данных о месяце первого заказа только год и месяц:"
   ]
  },
  {
   "cell_type": "code",
   "execution_count": null,
   "metadata": {},
   "outputs": [],
   "source": [
    "orders_grouped_by_cohorts['first_order_month'] = orders_grouped_by_cohorts[\n",
    "    'first_order_month'\n",
    "].dt.strftime('%Y-%m') "
   ]
  },
  {
   "cell_type": "markdown",
   "metadata": {},
   "source": [
    "ВАЖНО  \n",
    "когортную матирцу изучаем целиком, делаем выводы, а потом находим значение метрик средней когорты,  \n",
    "для этого просто береме среднее занчение для каждого периода жизни когорты, то есть у нас есть певый месяц жизни для всех когорт,  \n",
    "это столбик в матрице чаще всего, вот мы его успредняем и в итоге у нас будет значение lifetime и значение метрики."
   ]
  },
  {
   "cell_type": "code",
   "execution_count": null,
   "metadata": {},
   "outputs": [],
   "source": []
  },
  {
   "cell_type": "markdown",
   "metadata": {},
   "source": [
    "### RFM анализ"
   ]
  },
  {
   "cell_type": "code",
   "execution_count": null,
   "metadata": {},
   "outputs": [],
   "source": [
    "rfm_analysis = pd.DataFrame()\n",
    "# Recency (from calls)\n",
    "recency = calls.groupby('user_id')['call_date'].max()\n",
    "# Frequency\n",
    "frequency = calls.groupby('user_id')['id'].count()\n",
    "# Monetary (можно использовать duration или mb_used как прокси)\n",
    "monetary = calls.groupby('user_id')['duration'].sum()"
   ]
  },
  {
   "cell_type": "markdown",
   "metadata": {},
   "source": [
    "### Промежуточный вывод\n"
   ]
  },
  {
   "cell_type": "markdown",
   "metadata": {},
   "source": [
    "Чтобы собрать все наблюдения используем это  \n",
    "нужно поставить `_start_` где начало и `_end_` где конец"
   ]
  },
  {
   "cell_type": "markdown",
   "metadata": {},
   "source": [
    "Не забываем удалить метки `_start_` и `_end_` "
   ]
  },
  {
   "cell_type": "code",
   "execution_count": null,
   "metadata": {},
   "outputs": [],
   "source": [
    "import IPython\n",
    "notebook_path = \"/\".join(\n",
    "        IPython.extract_module_locals()[1][\"__vsc_ipynb_file__\"].split(\"/\"))\n",
    "pagri_data_tools.collect_observations(notebook_path, '/home/pagri/git_repos/pagri-projects/quarto/projects/prospective_tariff_for_telecom/temp_for_report.ipynb')"
   ]
  },
  {
   "cell_type": "markdown",
   "metadata": {},
   "source": [
    "ВАЖНО   \n",
    "пройти и отсортировать графики с одинаковыми числовыми переменными  \n",
    "То есть, чтобы 1 числовая переменная в разрезе разных категорий шли подряд.  \n",
    "То есть чтобы все графики с выручкой шли подряд, чтобы все графики по количеству звонков в разрезе разных категорий шли подряд.  "
   ]
  },
  {
   "cell_type": "markdown",
   "metadata": {},
   "source": [
    "ВАЖНО  \n",
    "подумать для каждого раздела в визуализации (временные, числовые, категориальные и числовые с категориальными)  \n",
    "какие закономерности не проверил.  \n",
    "убедиться, что все зависимости, которые были в задании изучили.  \n",
    "Это самый важный моменты, тут лучше остановится и тщательно подумать,  \n",
    "так как могут быть изучены не все зависимости."
   ]
  },
  {
   "cell_type": "markdown",
   "metadata": {},
   "source": [
    "ВАЖНО   \n",
    "Убедиться, что сетки по осям стоят где нужно, часто для вертикальных или горизонатльных графиков лишняя сетка вдоль баров"
   ]
  },
  {
   "cell_type": "markdown",
   "metadata": {},
   "source": [
    "## Формулирование и провера гипотез\n"
   ]
  },
  {
   "cell_type": "markdown",
   "metadata": {},
   "source": [
    "### Формулирование гипотез\n"
   ]
  },
  {
   "cell_type": "markdown",
   "metadata": {},
   "source": [
    "ВАЖНО  \n",
    "Гипотезы формулируем для случаев, когда на графике нет явных различие числовой переменной по категории.  \n",
    "Если различия явные, то нет смысла  проводить тест."
   ]
  },
  {
   "cell_type": "markdown",
   "metadata": {},
   "source": [
    "ВАЖНО  \n",
    "Если у нас числовая перменная разбита на 2 столбца, то также нужно проверить гипотезы."
   ]
  },
  {
   "cell_type": "markdown",
   "metadata": {},
   "source": [
    "ВАЖНО  \n",
    "это редко бывает, но нужно об этом помнить  \n",
    "Когда мы хотим проверить какую-то гипотезу на основе среднего или другой статистики, то нужно подумать нет ли сильного разделения на группы  \n",
    "по какой-нибудь категориальной переменной.  \n",
    "Если у нас есть такое разделение, то нужно использовать стратифицированную выборку.  \n",
    "То есть мы должны взять выборку из каждой группы пропорционально её размеру.  \n",
    "Считаем коэффициенты каждой группы (ее размер делим на количество всей выборки) и умнажаем их на количество нужных элементов.  \n",
    "То есть мы из каждой страты возьмем прпорциональное количество элементов.  \n",
    "Нарпимер, мы хотим сравнить средние значения дохода в двух компаниях.  \n",
    "И берем по 100 сотрудников из каждой. Без стратификации у нас редкие сотрудники могут не попасть.  \n",
    "Поэтому мы берем категориальную переменную (например должность) и делим выборку на группы. И из каждой берем пропорциональное количество элементов."
   ]
  },
  {
   "cell_type": "markdown",
   "metadata": {},
   "source": [
    "Смотрим выводы раздела визуализации взаимосвязей и из них формулируем гипотезы.  "
   ]
  },
  {
   "cell_type": "markdown",
   "metadata": {},
   "source": [
    "И далее думаем какие гипотезы можно ещё проверить, которых у нас нет в выводах.  "
   ]
  },
  {
   "cell_type": "markdown",
   "metadata": {},
   "source": [
    "На основе проведенного анализа данных сформулирем следующие гипотезы:\n"
   ]
  },
  {
   "cell_type": "markdown",
   "metadata": {},
   "source": [
    "- Гипотеза 1: Нет зависимость между наличием детей и возвратом кредита в срок.  \n",
    "- Гипотеза 2: У мужчин средний доход выше  \n",
    "- Гипотеза 3: Цель получения кредита не зависит от среднего ежемесяченого доход  \n",
    "- Гипотеза 4: Средний доход по семейному статусу одинаковый, но у вдовцов отличается  \n",
    "- Гипотеза 5: У должников в среднем больше детей  \n",
    "- Гипотеза 6: У должников средний возраст ниже  \n",
    "- Гипотеза 7: Медианный доход у должников и не должников не отличаетс"
   ]
  },
  {
   "cell_type": "markdown",
   "metadata": {},
   "source": [
    "> Не забываем что гипотезы можно проверять и между 2 категориальными переменными.  \n",
    "> Проверять есть ли между ними зависимости.  \n",
    "> Также если мы на графиках определили, что есть между 2 категориальными перменными связь, то тут можем это проверить\n"
   ]
  },
  {
   "cell_type": "markdown",
   "metadata": {},
   "source": [
    "### Проверка гипотез\n"
   ]
  },
  {
   "cell_type": "markdown",
   "metadata": {},
   "source": [
    "ВАЖНО  \n",
    "принято в выводе писать положительный результат  \n",
    "то есть пишем что гипотеза подтвердилась и указваем какая гипотеза.  \n",
    "То если мы опровергли нулевую гипотезу, то пишем альтернативную гипотезу и пишем что она подтвердилась.  \n",
    "Если у нас нет оснований отвергнуть нулевую гипотезу, то пишем нулевую гипотезу и пишем что нет оснований ее отвергнуть.  \n",
    "То есть если мы отвергаем, то формулируем вывод как положительный, чтобы не было путаницы, а если нет оснований, то так и пишем.  "
   ]
  },
  {
   "cell_type": "markdown",
   "metadata": {},
   "source": [
    "> Алгоритм проверки статистических гипотез\n",
    "\n",
    "- постановка задачи\n",
    "  > - Сформулировать, что мы хотим узнать о выборках с точки зрения бизнес задачи (равны ли средние доходы в группах)\n",
    "  > - перевод бизнес-вопроса на язык статистики: средний доход в группах - проверка равенства средних значений\n",
    "- формулировка гипотез\n",
    "  > - формулировка нулевой гипотезы - с т.зр. равенства стат прараметров оцениваемых выборок  \n",
    "  >   (Н0: Средние траты клиентов по группе А равны средним тратам клинентов по группе В)\n",
    "  > - формулировка альтернативной гипотезы - с точки зрения неравенства параметров  \n",
    "  >   (Н1: Средние траты клиентов по группе А не равны средним тратам клинентов по группе В)\n",
    "- выбор критерия alpha (почему 0.05 или 0.01)\n",
    "  > - цена ошибки первого рода (при большой цене ошибки - в мед исследованиях, потенциальном ущербе ) - значение может быть больше, например 0.1\n",
    "  > - в ежедневных бизнес задачах, обычно - 0.05\n",
    "- анализ распределения\n",
    "  > - визуальная оценка\n",
    "  > - следим за выбросами\n",
    "  > - проверка гипотез о типе распредеделения (например критерий Шапиро-Уилка)\n",
    "  > - если распределение не нормальное и размер выборки достаточный (больше 30-50 элементов)  \n",
    "  >   может быть использован t-test именно для проверки гипотезы о равенстве средних.  \n",
    "  >   Согласно ЦПТ (центральная предельная теорема) средние этих выборок будут распределены нормально. См. статью Зотова\n",
    "- выбор критерия\n",
    "  > - при оценке равенства средних T-test или Welch T-test (если есть сомнения, то лучше Уэлча)\n",
    "  >   - при рвенстве дисперсий используем обычный т тест\n",
    "  >   - если дисперсии в выборках разные, то используем т теста Уэлча\n",
    "- получение результата\n",
    "  > - расчет p-value\n",
    "- интерпретация p-value\n",
    "  > - сравнение p-value и alpha\n",
    "  > - если альфа > p-value - отвергаем нулевую гипотезу\n",
    "  > - если альфа < p-value - не можем отвергнуть нулевую гипотезу\n"
   ]
  },
  {
   "cell_type": "markdown",
   "metadata": {},
   "source": [
    "> Какая у нас задача\n",
    "\n",
    "- Исследовать взаимосвязь между 2 переменными\n",
    "  > - обе переменные наминативные\n",
    "  >   - Хи-квадрат Пирсона (не чувствителен к гетероскедастичности) (нормальность не обязательна)\n",
    "  > - обе переменные количественные\n",
    "  >   - Коэффициент корреляции Пирсона (параметрика) (чувствителен к выбросам) (только непрерывные переменные)\n",
    "  >   - Коэффициент корреляции Спирмена (чувствителен к выбросам) / Кендалла (менее чувствителен к выбросам) (непараметрика) (непрерывные переменные и порядковые категориальные переменные)\n",
    "  > - одна переменная номинативная (принимает 2 занчения), вторая количественная\n",
    "  >   - значения\n",
    "  >     - Т-критерий Стьюдента (параметрика) (желательно нормальность) (чувствителен к выбросам) (чувствителен к гетероскедастичности)\n",
    "  >       - если дисперсии равны (тест левена, барлета) и количество в группах равно (тест на равенство пропорций), то используем обычный т тест (эта формула более точно даст результат для этого случая)\n",
    "  >       - если дисперсии не равны (тест левена, барлета) или количество в группах не равно (тест на равенство пропорций), то используем тест Уэлча (эта формула использует больше неопределенности и лучше подходит для этого случая)\n",
    "  >     - U-критерий Манна-Уитни (непараметрика) (нормальность не обязательна) (не чувствителен к гетероскедастичности)\n",
    "  >       Если тестируемая фича полностью сдвигает выборку на некий коэффициент theta или масштабирует выборку на некий параметр theta (theta > 0),  \n",
    "  >       то критерий Манна-Уитни применим\n",
    "  >   - доли\n",
    "  >     - Z тест для долей (параметрика) (желательно нормальность) (чувствителен к выбросам) (чувствителен к гетероскедастичности)\n",
    "  >     - Chi-square тест для долей (непараметрика) (нормальность не обязательна) (не чувствителен к гетероскедастичности)\n",
    "- Исследовать взаимосвязь между несколькими переменными\n",
    "  > - Дисперсионный анализ (параметрика) (дисперсии в группах должны быть примерно равны) (желательно нормальность) (чувствителен к выбросам) (чувствителен к гетероскедастичности)\n",
    "  > - Welch's ANOVA (устройчив к разной дисперсии в группах) (требует более больших размеров групп для точных результатов) (желательно нормальность) (чувствителен к выбросам) (не чувствителен к гетероскедастичности)\n",
    "  > - Критерий Краскела-Уоллиса (непараметрика) (нормальность не обязательна) (не чувствителен к гетероскедастичности)\n",
    "  > - Тест Тьюки (если anova или Краскела-Уоллиса нашил различия) (дисперсии в группах должны быть примерно равны) (параметрика) (желательно нормальность) (чувствителен к выбросам) (чувствителен к гетероскедастичности)\n",
    "- Проверить на равенство дисперсий в группах перед anova\n",
    "  > - Levene's test (не требует нормальность) (менее чувствительный)\n",
    "  > - Bartlett's test (требует нормальность) (более чувствительный)\n"
   ]
  },
  {
   "cell_type": "markdown",
   "metadata": {},
   "source": [
    "Сормируем словарь для подписей осей и названий гистограм.\n"
   ]
  },
  {
   "cell_type": "code",
   "execution_count": null,
   "metadata": {},
   "outputs": [],
   "source": [
    "titles_for_axis = dict(\n",
    "    # numeric column\n",
    "    children = ['Количество детей', 'количества детей']\n",
    "    , age = ['Возраст', 'возраста']\n",
    "    , total_income = ['Ежемесячный доход', 'ежемесячного дохода']    \n",
    ")"
   ]
  },
  {
   "cell_type": "markdown",
   "metadata": {},
   "source": [
    "Примеры для разных критериев"
   ]
  },
  {
   "cell_type": "markdown",
   "metadata": {},
   "source": [
    "#### 2 категориальные переменные и мы хотим сравнить количество в каждой группе."
   ]
  },
  {
   "cell_type": "markdown",
   "metadata": {},
   "source": [
    "**Гипотеза 1: Нет зависимость между наличием детей и возвратом кредита в срок**\n"
   ]
  },
  {
   "cell_type": "markdown",
   "metadata": {},
   "source": [
    "> H0: Наличие детей не влияет на возврат кредита в срок.  \n",
    "> H1: Наличие детей влияет на возврат кредита в срок.\n"
   ]
  },
  {
   "cell_type": "markdown",
   "metadata": {},
   "source": [
    "Так как у нас обе переменных категориальные, то воспользуемся критерием хи-квадрат Пирсона.  \n",
    "Уровень значимости alpha выберем 0.05\n"
   ]
  },
  {
   "cell_type": "markdown",
   "metadata": {},
   "source": [
    "Убедимся, что у нас достаточно значнеий в каждой группе"
   ]
  },
  {
   "cell_type": "markdown",
   "metadata": {},
   "source": [
    "Для параметрических тестов в каждой группе должно быть больше 30 элементов, а для не параметрических тестов больше 10 значений."
   ]
  },
  {
   "cell_type": "code",
   "execution_count": null,
   "metadata": {},
   "outputs": [
    {
     "data": {
      "text/plain": [
       "age_cat\n",
       "старше 60    855\n",
       "до 30        751\n",
       "40-50        587\n",
       "50-60        532\n",
       "30-40        489\n",
       "Name: count, dtype: int64"
      ]
     },
     "metadata": {},
     "output_type": "display_data"
    }
   ],
   "source": [
    "df_by_userid_month['age_cat'].value_counts()"
   ]
  },
  {
   "cell_type": "code",
   "execution_count": null,
   "metadata": {},
   "outputs": [
    {
     "name": "stdout",
     "output_type": "stream",
     "text": [
      "Хи-квадрат Пирсона\n",
      "alpha =  0.05\n",
      "p-value =  1.724356890544321e-05\n",
      "Отклоняем нулевую гипотезу, поскольку p-value меньше уровня значимости\n"
     ]
    }
   ],
   "source": [
    "pagri_data_tools.chi2_pearson(df.has_child, df.debt)"
   ]
  },
  {
   "cell_type": "markdown",
   "metadata": {},
   "source": [
    "**Результат:**  \n",
    "\n",
    "На уровне значимости 0.05 нулевая гипотеза о том, что наличие детей не влияет на возврат кредита в срок, была отклонена. Это свидетельствует о том, что существует статистически значимое влияние наличия детей на возврат кредита в срок.\n"
   ]
  },
  {
   "cell_type": "markdown",
   "metadata": {},
   "source": [
    "#### Одна категориальная переменная и мы хотим проверить отличается ли количество в одной категориальной переменной, то используем chisquare"
   ]
  },
  {
   "cell_type": "markdown",
   "metadata": {},
   "source": [
    "Он проверяет, насколько наблюдаемое распределение категориальной переменной отличается от ожидаемого равномерного распределения.  "
   ]
  },
  {
   "cell_type": "markdown",
   "metadata": {},
   "source": [
    "**Гипотеза 1: Нет зависимости между количеством публикаций и днем недели.**  "
   ]
  },
  {
   "cell_type": "markdown",
   "metadata": {},
   "source": [
    "H0: День недели не влияет на количество объявлений  \n",
    "H1: День недели влияет на количество объявлений"
   ]
  },
  {
   "cell_type": "code",
   "execution_count": null,
   "metadata": {},
   "outputs": [
    {
     "data": {
      "text/plain": [
       "publication_weekday\n",
       "Понедельник    3591\n",
       "Вторник        4157\n",
       "Среда          3940\n",
       "Четверг        4270\n",
       "Пятница        3970\n",
       "Суббота        1918\n",
       "Воскресенье    1681\n",
       "Name: count, dtype: int64"
      ]
     },
     "metadata": {},
     "output_type": "display_data"
    }
   ],
   "source": [
    "daily_counts = df['publication_weekday'].value_counts().sort_index()\n",
    "daily_counts"
   ]
  },
  {
   "cell_type": "markdown",
   "metadata": {},
   "source": [
    "Убедимся, что у нас достаточно значнеий в каждой группе"
   ]
  },
  {
   "cell_type": "markdown",
   "metadata": {},
   "source": [
    "Для параметрических тестов в каждой группе должно быть больше 30 элементов, а для не параметрических тестов больше 10 значений."
   ]
  },
  {
   "cell_type": "code",
   "execution_count": null,
   "metadata": {},
   "outputs": [
    {
     "data": {
      "text/plain": [
       "age_cat\n",
       "старше 60    855\n",
       "до 30        751\n",
       "40-50        587\n",
       "50-60        532\n",
       "30-40        489\n",
       "Name: count, dtype: int64"
      ]
     },
     "metadata": {},
     "output_type": "display_data"
    }
   ],
   "source": [
    "df_by_userid_month['age_cat'].value_counts()"
   ]
  },
  {
   "cell_type": "code",
   "execution_count": null,
   "metadata": {},
   "outputs": [],
   "source": [
    "pagri_data_tools.chisquare(daily_counts)"
   ]
  },
  {
   "cell_type": "markdown",
   "metadata": {},
   "source": [
    "**Результат:**  \n",
    "\n",
    "- На уровне значимости 0.05 нулевая гипотеза о том, что день недели не влияет на количество объявлений, была отклонена. Это указывает на то, что существует статистически значимое влияние дня недели на количество объявлений."
   ]
  },
  {
   "cell_type": "code",
   "execution_count": null,
   "metadata": {},
   "outputs": [],
   "source": []
  },
  {
   "cell_type": "markdown",
   "metadata": {},
   "source": [
    "#### Категориальная с 2 значениями и числовая переменная  (тест манна уитни)"
   ]
  },
  {
   "cell_type": "markdown",
   "metadata": {},
   "source": [
    "**Гипотеза 2: У мужчин средний доход выше**  "
   ]
  },
  {
   "cell_type": "markdown",
   "metadata": {},
   "source": [
    "H0: У мужчин средний доход не выше, чем у женщин   \n",
    "H1: У мужчин средний доход выше, чем у женщин"
   ]
  },
  {
   "cell_type": "markdown",
   "metadata": {},
   "source": [
    "посмотрим на распределение"
   ]
  },
  {
   "cell_type": "code",
   "execution_count": null,
   "metadata": {},
   "outputs": [],
   "source": [
    "pagri_data_tools.histogram(df.total_income, titles_for_axis)"
   ]
  },
  {
   "cell_type": "markdown",
   "metadata": {},
   "source": [
    "Делаем вывод о распределении.  \n",
    "Выбираем критерий для проверки гипотезы.  \n",
    "Определяем уровнь значимости"
   ]
  },
  {
   "cell_type": "markdown",
   "metadata": {},
   "source": [
    "Если распределение не нормальное или много выбросов или просто нет уверености, что параметрика будет хрошо работать, то используем  \n",
    "тест манна уитни"
   ]
  },
  {
   "cell_type": "markdown",
   "metadata": {},
   "source": [
    "У нас значительные выбросы в доходе нужно использовать непараметрический тест"
   ]
  },
  {
   "cell_type": "markdown",
   "metadata": {},
   "source": [
    "Используем критерий Манна-Уитни  \n",
    "Альтернатива будет - больше  \n",
    "Уровень значимости alpha выберем 0.05"
   ]
  },
  {
   "cell_type": "markdown",
   "metadata": {},
   "source": [
    "Убедимся, что у нас достаточно значнеий в каждой группе"
   ]
  },
  {
   "cell_type": "markdown",
   "metadata": {},
   "source": [
    "Для параметрических тестов в каждой группе должно быть больше 30 элементов, а для не параметрических тестов больше 10 значений."
   ]
  },
  {
   "cell_type": "code",
   "execution_count": null,
   "metadata": {},
   "outputs": [
    {
     "data": {
      "text/plain": [
       "age_cat\n",
       "старше 60    855\n",
       "до 30        751\n",
       "40-50        587\n",
       "50-60        532\n",
       "30-40        489\n",
       "Name: count, dtype: int64"
      ]
     },
     "metadata": {},
     "output_type": "display_data"
    }
   ],
   "source": [
    "df_by_userid_month['age_cat'].value_counts()"
   ]
  },
  {
   "cell_type": "code",
   "execution_count": null,
   "metadata": {},
   "outputs": [],
   "source": [
    "male = df[df.gender=='M']['total_income']\n",
    "female = df[df.gender=='F']['total_income']"
   ]
  },
  {
   "cell_type": "markdown",
   "metadata": {},
   "source": [
    "Если используем альтернативу, то отсчет идет от первого аргумента функции.  \n",
    "То есть он должен быть больше или меньше, исходя из постановки гипотезы. И исходя из этого выбераем параметр alternative."
   ]
  },
  {
   "cell_type": "code",
   "execution_count": null,
   "metadata": {},
   "outputs": [],
   "source": [
    "pagri_data_tools.mannwhitneyu(male, female, alternative='l')"
   ]
  },
  {
   "cell_type": "markdown",
   "metadata": {},
   "source": [
    "**Результат:**  \n",
    "\n",
    "- На уровне значимости 0.05 нулевая гипотеза о том, что у мужчин средний доход не выше, чем у женщин, была отклонена. Это указывает на то, что доход мужчин статистически значимо выше, чем у женщин."
   ]
  },
  {
   "cell_type": "markdown",
   "metadata": {},
   "source": [
    "#### Категориальная с 2 значениями и числовая переменная  (т тест)"
   ]
  },
  {
   "cell_type": "markdown",
   "metadata": {},
   "source": [
    "Если используем ттест, то сначала проводим тест на проверку дисперсии\n"
   ]
  },
  {
   "cell_type": "markdown",
   "metadata": {},
   "source": [
    "Распределение близко к нормальному, поэтому будем использовать тест ANOVA"
   ]
  },
  {
   "cell_type": "markdown",
   "metadata": {},
   "source": [
    "Проверим гипотезу, что дисперсии в группах не отличаются"
   ]
  },
  {
   "cell_type": "markdown",
   "metadata": {},
   "source": [
    "H0: Дисперсия оценок критиков в разных категориях продаж не отличается.  \n",
    "H1: Дисперсия оценок критиков в разных категориях продаж отличается.  "
   ]
  },
  {
   "cell_type": "markdown",
   "metadata": {},
   "source": [
    "\n",
    "Используем тест Левена\n"
   ]
  },
  {
   "cell_type": "code",
   "execution_count": null,
   "metadata": {},
   "outputs": [],
   "source": [
    "yes = df[df.debt=='есть']['age']\n",
    "no = df[df.debt=='нет']['age']"
   ]
  },
  {
   "cell_type": "code",
   "execution_count": null,
   "metadata": {},
   "outputs": [],
   "source": [
    "pagri_data_tools.levene([yes, no])"
   ]
  },
  {
   "cell_type": "code",
   "execution_count": null,
   "metadata": {},
   "outputs": [],
   "source": [
    "pagri_data_tools.levene_df(df[['sales_cat', 'critic_score']])"
   ]
  },
  {
   "cell_type": "markdown",
   "metadata": {},
   "source": [
    "Так как дисперсия в группах разная, будем использовать тест Уэлча.  \n",
    "Уровень значимости alpha выберем 0.05"
   ]
  },
  {
   "cell_type": "markdown",
   "metadata": {},
   "source": [
    "Если используем альтернативу, то отсчет идет от первого аргумента функции.  \n",
    "То есть он должен быть больше или меньше, исходя из постановки гипотезы. И исходя из этого выбераем параметр alternative."
   ]
  },
  {
   "cell_type": "code",
   "execution_count": null,
   "metadata": {},
   "outputs": [],
   "source": [
    "pagri_data_tools.ttest_ind(yes, no, equal_var=False, alternative='s')"
   ]
  },
  {
   "cell_type": "markdown",
   "metadata": {},
   "source": [
    "Построим доверительный интервал"
   ]
  },
  {
   "cell_type": "code",
   "execution_count": null,
   "metadata": {},
   "outputs": [],
   "source": [
    "pagri_data_tools.confint_t_2samples(yes, no, equal_var=False, alternative='s')"
   ]
  },
  {
   "cell_type": "markdown",
   "metadata": {},
   "source": [
    "#### Категориальная переменная, у которой больше 2 значений и числовая (ANOVA)"
   ]
  },
  {
   "cell_type": "markdown",
   "metadata": {},
   "source": [
    "**Гипотеза 4: Средний доход по семейному статусу не отличается**  \n",
    "\n",
    "H0: Средний ежемесячный доход не различается между группами по семейному статусу  \n",
    "H1: Средний ежемесячный доход различается между группами по семейному статусу  \n"
   ]
  },
  {
   "cell_type": "markdown",
   "metadata": {},
   "source": [
    "посмотрим на распределение"
   ]
  },
  {
   "cell_type": "code",
   "execution_count": null,
   "metadata": {},
   "outputs": [],
   "source": [
    "pagri_data_tools.histogram(df.total_income, titles_for_axis)"
   ]
  },
  {
   "cell_type": "markdown",
   "metadata": {},
   "source": [
    "Делаем вывод о распределении.  \n",
    "Выбираем критерий для проверки гипотезы.  \n",
    "Определяем уровнь значимости"
   ]
  },
  {
   "cell_type": "markdown",
   "metadata": {},
   "source": [
    "Предположения ANOVA:\n",
    "- Данные должны быть нормально распределены.\n",
    "- Дисперсии в группах должны быть равны (гомоскедастичность).\n",
    "- Наблюдения должны быть независимыми."
   ]
  },
  {
   "cell_type": "markdown",
   "metadata": {},
   "source": [
    "Если хоть одно из этого не выполняется, то лучше использовать kruskal"
   ]
  },
  {
   "cell_type": "markdown",
   "metadata": {},
   "source": [
    "Если распределение не нормальное или много выбросов или просто нет уверености, что параметрика будет хрошо работать, то используем  \n",
    "тест манна уитни"
   ]
  },
  {
   "cell_type": "markdown",
   "metadata": {},
   "source": [
    "Если эти предположения выполняются, то используем тест ANOVA"
   ]
  },
  {
   "cell_type": "markdown",
   "metadata": {},
   "source": [
    "Если используем anova, то сначала проводим тест на проверку дисперсии\n"
   ]
  },
  {
   "cell_type": "markdown",
   "metadata": {},
   "source": [
    "ANOVA уже учитывает множественное тестирование в своей структуре.  \n",
    "Поэтому поправка Бонферрони не нужна.   \n",
    "Но если после anova мы хотим сравнить отдельные пары, то будет множественное сравнение, и поправка Бонферрони нужна."
   ]
  },
  {
   "cell_type": "markdown",
   "metadata": {},
   "source": [
    "Если используем anova, то сначала проводим тест на проверку дисперсии\n"
   ]
  },
  {
   "cell_type": "markdown",
   "metadata": {},
   "source": [
    "\n",
    "Проверим гипотезу, что дисперсии в группах не отличаются\n",
    "\n",
    "H0: У должников и не должников дисперсия не отличается  \n",
    "H1: У должников и не должников дисперсия отличается\n",
    "\n",
    "Используем тест Левена\n"
   ]
  },
  {
   "cell_type": "code",
   "execution_count": null,
   "metadata": {},
   "outputs": [],
   "source": [
    "gropu_a = df[df.debt=='a']['age']\n",
    "gropu_b = df[df.debt=='b']['age']\n",
    "gropu_c = df[df.debt=='c']['age']"
   ]
  },
  {
   "cell_type": "code",
   "execution_count": null,
   "metadata": {},
   "outputs": [],
   "source": [
    "pagri_data_tools.levene([gropu_a, gropu_b, gropu_c])"
   ]
  },
  {
   "cell_type": "code",
   "execution_count": null,
   "metadata": {},
   "outputs": [],
   "source": [
    "pagri_data_tools.levene_df(df[['sales_cat', 'critic_score']])"
   ]
  },
  {
   "cell_type": "markdown",
   "metadata": {},
   "source": [
    "Так как дисперсия в группах разная, будем использовать тест Уэлча.  \n",
    "Уровень значимости alpha выберем 0.05"
   ]
  },
  {
   "cell_type": "markdown",
   "metadata": {},
   "source": [
    "Убедимся, что у нас достаточно значнеий в каждой группе"
   ]
  },
  {
   "cell_type": "markdown",
   "metadata": {},
   "source": [
    "Для параметрических тестов в каждой группе должно быть больше 30 элементов, а для не параметрических тестов больше 10 значений."
   ]
  },
  {
   "cell_type": "code",
   "execution_count": null,
   "metadata": {},
   "outputs": [
    {
     "data": {
      "text/plain": [
       "age_cat\n",
       "старше 60    855\n",
       "до 30        751\n",
       "40-50        587\n",
       "50-60        532\n",
       "30-40        489\n",
       "Name: count, dtype: int64"
      ]
     },
     "metadata": {},
     "output_type": "display_data"
    }
   ],
   "source": [
    "df_by_userid_month['age_cat'].value_counts()"
   ]
  },
  {
   "cell_type": "markdown",
   "metadata": {},
   "source": [
    "Если дисперсии не отличаютс, то проводим обычный ANOVA"
   ]
  },
  {
   "cell_type": "code",
   "execution_count": null,
   "metadata": {},
   "outputs": [],
   "source": [
    "pagri_data_tools.anova_oneway_df(df[['family_status', 'total_income']])"
   ]
  },
  {
   "cell_type": "markdown",
   "metadata": {},
   "source": [
    "Если гипотеза о равенстве дисперсий была отклонена, то используем ANOVA Welch."
   ]
  },
  {
   "cell_type": "code",
   "execution_count": null,
   "metadata": {},
   "outputs": [],
   "source": [
    "pagri_data_tools.anova_oneway_welch_df(df[['family_status', 'total_income']])"
   ]
  },
  {
   "cell_type": "markdown",
   "metadata": {},
   "source": [
    "Если нулевая гипотеза отклонилась, то можно определить в каких парах есть различия.  \n",
    "Можно использовать множественное сравнение и т тест или мана уитни, но обязательно использовать поправку бонферони.  \n",
    "Или можно использовать тест Тьюки."
   ]
  },
  {
   "cell_type": "markdown",
   "metadata": {},
   "source": [
    "Используем тест Тьюки, чтобы определить различия между группами  \n",
    "Уровень значимости alpha выберем 0.05"
   ]
  },
  {
   "cell_type": "markdown",
   "metadata": {},
   "source": [
    "тест Тьюки уже учитывает множественное тестирование в своей структуре.  \n",
    "Поэтому поправка Бонферрони не нужна. "
   ]
  },
  {
   "cell_type": "code",
   "execution_count": null,
   "metadata": {},
   "outputs": [],
   "source": [
    "pagri_data_tools.tukey_hsd_df(df[['family_status', 'total_income']])"
   ]
  },
  {
   "cell_type": "markdown",
   "metadata": {},
   "source": [
    "Смотрим в каких парах гипотеза отвергается"
   ]
  },
  {
   "cell_type": "markdown",
   "metadata": {},
   "source": [
    "Видим, что гипотеза отвергается в парах где есть вдова / вдовец\n"
   ]
  },
  {
   "cell_type": "markdown",
   "metadata": {},
   "source": [
    "**Результат:**  \n",
    "\n",
    "- На уровне значимости 0.05 нулевая гипотеза о том, что средний ежемесячный доход не различается между группами по семейному статусу, была отклонена.  \n",
    "Это указывает на то, что семейный статус оказывает статистически значимое влияние на ежемесячный доход."
   ]
  },
  {
   "cell_type": "markdown",
   "metadata": {},
   "source": [
    "#### Категориальная переменная, у которой больше 2 значений и числовая (Kruskal-Wallis)"
   ]
  },
  {
   "cell_type": "markdown",
   "metadata": {},
   "source": [
    "Если распределение не нормальное или много выбросов или просто нет уверености, что параметрика будет хрошо работать, то используем  непараметрические методы."
   ]
  },
  {
   "cell_type": "markdown",
   "metadata": {},
   "source": [
    "Используем критерий Краскела-Уоллиса  \n",
    "Уровень значимости alpha выберем 0.05"
   ]
  },
  {
   "cell_type": "markdown",
   "metadata": {},
   "source": [
    "Убедимся, что у нас достаточно значнеий в каждой группе"
   ]
  },
  {
   "cell_type": "markdown",
   "metadata": {},
   "source": [
    "Для параметрических тестов в каждой группе должно быть больше 30 элементов, а для не параметрических тестов больше 10 значений."
   ]
  },
  {
   "cell_type": "code",
   "execution_count": null,
   "metadata": {},
   "outputs": [
    {
     "data": {
      "text/plain": [
       "age_cat\n",
       "старше 60    855\n",
       "до 30        751\n",
       "40-50        587\n",
       "50-60        532\n",
       "30-40        489\n",
       "Name: count, dtype: int64"
      ]
     },
     "metadata": {},
     "output_type": "display_data"
    }
   ],
   "source": [
    "df_by_userid_month['age_cat'].value_counts()"
   ]
  },
  {
   "cell_type": "markdown",
   "metadata": {},
   "source": [
    "критерий Краскела-Уоллиса уже учитывает множественное тестирование в своей структуре.  \n",
    "Поэтому поправка Бонферрони не нужна.   \n",
    "Но если после критерия Краскела-Уоллиса мы хотим сравнить отдельные пары, то будет множественное сравнение, и поправка Бонферрони нужна."
   ]
  },
  {
   "cell_type": "code",
   "execution_count": null,
   "metadata": {},
   "outputs": [],
   "source": [
    "pagri_data_tools.kruskal_df(df[['family_status', 'total_income']])"
   ]
  },
  {
   "cell_type": "markdown",
   "metadata": {},
   "source": [
    "Если нулевая гипотеза отклонилась, то можно определить в каких парах есть различия.  \n",
    "Можно использовать множественное сравнение и т тест или мана уитни, но обязательно использовать поправку бонферони.  \n",
    "Или можно использовать тест Тьюки."
   ]
  },
  {
   "cell_type": "markdown",
   "metadata": {},
   "source": [
    "Используем тест Тьюки, чтобы определить различия между группами  \n",
    "Уровень значимости alpha выберем 0.05"
   ]
  },
  {
   "cell_type": "markdown",
   "metadata": {},
   "source": [
    "тест Тьюки уже учитывает множественное тестирование в своей структуре.  \n",
    "Поэтому поправка Бонферрони не нужна. "
   ]
  },
  {
   "cell_type": "code",
   "execution_count": null,
   "metadata": {},
   "outputs": [],
   "source": [
    "pagri_data_tools.tukey_hsd_df(df[['family_status', 'total_income']])"
   ]
  },
  {
   "cell_type": "markdown",
   "metadata": {},
   "source": [
    "Смотрим в каких парах гипотеза отвергается"
   ]
  },
  {
   "cell_type": "markdown",
   "metadata": {},
   "source": [
    "Видим, что гипотеза отвергается в парах где есть вдова / вдовец\n"
   ]
  },
  {
   "cell_type": "markdown",
   "metadata": {},
   "source": [
    "**Результат:**  \n",
    "\n",
    "- На уровне значимости 0.05 нулевая гипотеза о том, что средний ежемесячный доход не различается между группами по семейному статусу, была отклонена.  \n",
    "Это указывает на то, что семейный статус оказывает статистически значимое влияние на ежемесячный доход."
   ]
  },
  {
   "cell_type": "markdown",
   "metadata": {},
   "source": [
    "#### Бутстреп (категориальная переменная имеет 2 значения)"
   ]
  },
  {
   "cell_type": "markdown",
   "metadata": {},
   "source": [
    "Если мы не хотим использовать параметрику или не параметрику или нам нужно проверить гипотезу не по среднему, например, медиана или какой-то перцинтиль,  \n",
    "то используем бутстреп"
   ]
  },
  {
   "cell_type": "markdown",
   "metadata": {},
   "source": [
    "**Если категориальная переменная имеет 2 занчения.**"
   ]
  },
  {
   "cell_type": "markdown",
   "metadata": {},
   "source": [
    "Вместо теста манна уитни, когда нет уверености в т тесте, можно использовать бутстреп"
   ]
  },
  {
   "cell_type": "markdown",
   "metadata": {},
   "source": [
    "**Гипотеза 7:  Медианный доход у должников и не должников не отличается**  \n",
    "\n",
    "H0: Медианный доход у должников и не должников не отличается  \n",
    "H1: Медианный доход у должников и не должников отличается\n"
   ]
  },
  {
   "cell_type": "markdown",
   "metadata": {},
   "source": [
    "Используем бутстреп для проверке гипотезы  \n",
    "Уровень значимости alpha выберем 0.05"
   ]
  },
  {
   "cell_type": "markdown",
   "metadata": {},
   "source": [
    "Когда мы сравниваем две группы в бутстрепе, мы можем просто посмотреть, находится ли 0 внутри доверительного интервала, чтобы определить, существует ли статистически значимое различие между группами.   \n",
    "Если 0 лежит вне доверительного интервала, то мы можем сказать, что существует статистически значимое различие между группами."
   ]
  },
  {
   "cell_type": "code",
   "execution_count": null,
   "metadata": {},
   "outputs": [],
   "source": [
    "yes = df[df.debt=='есть']['total_income']\n",
    "no = df[df.debt=='нет']['total_income']"
   ]
  },
  {
   "cell_type": "code",
   "execution_count": null,
   "metadata": {},
   "outputs": [],
   "source": [
    "fig = pagri_data_tools.bootstrap_diff_2sample(yes, no, stat_func=np.median)"
   ]
  },
  {
   "cell_type": "code",
   "execution_count": null,
   "metadata": {},
   "outputs": [],
   "source": [
    "fig.show()"
   ]
  },
  {
   "cell_type": "markdown",
   "metadata": {},
   "source": [
    "**Результат:**  \n",
    "\n",
    "- На уровне значимости 0.05 нулевая гипотеза о том, что медианный доход у должников и не должников не отличается, была отклонена.  \n",
    "Это указывает на то, что существует статистически значимая разница между медианным доходом должников и не должников.  \n",
    "95 % доверительный интервал разницы между медианным доходом должников и не должников равен (-2648.05, 179.34)\n"
   ]
  },
  {
   "cell_type": "markdown",
   "metadata": {},
   "source": [
    "#### Бутстреп (категориальная переменная больше 2 значений)"
   ]
  },
  {
   "cell_type": "markdown",
   "metadata": {},
   "source": [
    "Когда у нас больше двух групп, способ определения результата по позиции нуля от разности внутри или вне доверительного интервала не работает, поскольку мы имеем несколько доверительных интервалов для каждой пары сравнений."
   ]
  },
  {
   "cell_type": "markdown",
   "metadata": {},
   "source": [
    "Чтобы сравнить средние значения зарплаты между тремя и более группами, мы можем использовать бутстрэп. Алгоритм бутстрэпа будет следующим:\n",
    "\n",
    "- Создаем выборку с заменой из исходных данных.\n",
    "- Вычисляем средние значения зарплаты для каждой группы в выборке.\n",
    "- Вычисляем разности средних между группами (например, разность между Молодым и Взрослым, между Взрослым и Старым и т.д.).\n",
    "- Повторяем шаги 1-3 many times (например, 1000 раз).\n",
    "- Строим гистограмму распределения разностей средних, полученных на шаге 3.\n",
    "- Определяем p-value\n",
    "\n"
   ]
  },
  {
   "cell_type": "markdown",
   "metadata": {},
   "source": [
    "Поправка Бонферрони заключается в том, что для значимости результата необходимо, чтобы p-value для каждого сравнения было меньше уровня значимости, разделенного на количество сравнений. Например, если уровень значимости равен 0.05, а мы делаем три сравнения, то необходимо, чтобы p-value для каждого сравнения было меньше 0.05/3 = 0.0167.\n",
    "\n",
    "В случае использования бутстрэпа, мы можем применить поправку Бонферрони следующим образом:"
   ]
  },
  {
   "cell_type": "markdown",
   "metadata": {},
   "source": [
    "- Вычисляем разности средних для каждой пары сравнений.\n",
    "- Вычисляем p-value для каждой пары сравнений, используя гистограмму распределения разностей средних.\n",
    "- Применяем поправку Бонферрони, разделяя уровень значимости на количество сравнений.\n",
    "- Если p-value для какой-либо пары сравнений меньше поправленного уровня значимости, то считаем, что различие между группами статистически значимо."
   ]
  },
  {
   "cell_type": "markdown",
   "metadata": {},
   "source": [
    "В нашем примере, если мы применяем поправку Бонферрони, то необходимо, чтобы p-value для каждого сравнения было меньше 0.05/3 = 0.0167. Если мы получили следующие результаты:\n",
    "\n",
    "- Разность между Молодым и Взрослым: 8000 (p-value: 0.01)\n",
    "- Разность между Взрослым и Старым: 3000 (p-value: 0.04)\n",
    "- Разность между Молодым и Старым: 11000 (p-value: 0.001)\n",
    "- Тогда мы можем заключить, что средняя зарплата у Старых статистически значимо выше, чем у Молодых и Взрослых (поскольку p-value для этого сравнения меньше поправленного уровня значимости). Для остальных сравнений мы не можем сделать выводы о статистической значимости, поскольку p-value больше поправленного уровня значимости."
   ]
  },
  {
   "cell_type": "code",
   "execution_count": null,
   "metadata": {},
   "outputs": [],
   "source": []
  },
  {
   "cell_type": "markdown",
   "metadata": {},
   "source": [
    "> Для проверки дисперсии"
   ]
  },
  {
   "cell_type": "code",
   "execution_count": null,
   "metadata": {},
   "outputs": [],
   "source": [
    "pagri_data_tools.levene_df\n",
    "pagri_data_tools.levene\n",
    "pagri_data_tools.bartlett_df\n",
    "pagri_data_tools.bartlett"
   ]
  },
  {
   "cell_type": "markdown",
   "metadata": {},
   "source": [
    "> Выбираем критерий\n"
   ]
  },
  {
   "cell_type": "code",
   "execution_count": null,
   "metadata": {},
   "outputs": [],
   "source": [
    "pagri_data_tools.chi2_pearson\n",
    "pagri_data_tools.ttest_ind_df\n",
    "pagri_data_tools.ttest_ind\n",
    "pagri_data_tools.mannwhitneyu_df\n",
    "pagri_data_tools.mannwhitneyu\n",
    "pagri_data_tools.proportion_ztest_1sample\n",
    "pagri_data_tools.proportions_ztest_2sample\n",
    "pagri_data_tools.proportions_ztest_column_2sample\n",
    "pagri_data_tools.proportions_chi2\n",
    "pagri_data_tools.proportions_chi2_column\n",
    "pagri_data_tools.anova_oneway_df\n",
    "pagri_data_tools.anova_oneway\n",
    "pagri_data_tools.tukey_hsd_df\n",
    "pagri_data_tools.anova_oneway_welch_df\n",
    "pagri_data_tools.kruskal_df\n",
    "pagri_data_tools.kruskal\n",
    "pagri_data_tools.bootstrap_diff_2sample # важно, сохраняем fig и в следующей ячейке делаем fig.shwo(), иначе на google colab работает некорректно"
   ]
  },
  {
   "cell_type": "markdown",
   "metadata": {},
   "source": [
    "> Если отклоняем гипотезу, то строим доверитлеьный интервал\n"
   ]
  },
  {
   "cell_type": "code",
   "execution_count": null,
   "metadata": {},
   "outputs": [],
   "source": [
    "pagri_data_tools.confint_t_2samples\n",
    "pagri_data_tools.confint_t_2samples_df\n",
    "pagri_data_tools.confint_proportion_ztest_2sample\n",
    "pagri_data_tools.confint_proportion_ztest_column_2sample\n",
    "pagri_data_tools.confint_proportion_2sample_statsmodels\n",
    "pagri_data_tools.confint_proportion_coluns_2sample_statsmodels"
   ]
  },
  {
   "cell_type": "markdown",
   "metadata": {},
   "source": [
    "> Сделать опцию в бутстреп функции, чтобы строился только доверительный интервал\n"
   ]
  },
  {
   "cell_type": "markdown",
   "metadata": {},
   "source": [
    "> Также сделать функцию для доверилеьных интервалов для мана уитни через  \n",
    "> the Hodges-Lehmann estimation, which provides a point estimate and a confidence interval for the difference in medians.\n"
   ]
  },
  {
   "cell_type": "code",
   "execution_count": null,
   "metadata": {},
   "outputs": [],
   "source": [
    "import pingouin as pg\n",
    "\n",
    "# Perform the Mann-Whitney U test and calculate the confidence interval\n",
    "mw_test = pg.mwu(x, y, tail='two-sided', confidence=0.95)\n",
    "\n",
    "# Print the results\n",
    "print(mw_test)"
   ]
  },
  {
   "cell_type": "code",
   "execution_count": null,
   "metadata": {},
   "outputs": [],
   "source": [
    "import numpy as np\n",
    "from scipy import stats\n",
    "\n",
    "# Perform the Mann-Whitney U test\n",
    "u_stat, p_value = stats.mannwhitneyu(x, y, alternative='two-sided')\n",
    "\n",
    "# Calculate the Hodges-Lehmann estimation\n",
    "hl_est = np.median(np.array([x_i - y_j for x_i in x for y_j in y]))\n",
    "\n",
    "# Calculate the confidence interval\n",
    "ci = stats.t.interval(0.95, len(x) + len(y) - 2, loc=hl_est, scale=stats.sem(np.array([x_i - y_j for x_i in x for y_j in y])))\n",
    "\n",
    "# Print the results\n",
    "print('Hodges-Lehmann estimation:', hl_est)\n",
    "print('Confidence interval:', ci)"
   ]
  },
  {
   "cell_type": "markdown",
   "metadata": {},
   "source": [
    "> Подход следуюищй - мы до раздела проверка гипотез, когда изучаем данные (разделы пропусков, выбросов, дубликатов, зависиместей между перменными и графики),  \n",
    "> то мы делаем выводы и формируем наблюдеия.  \n",
    "> Вот эти наблюдения и выводы нужно проверить в проверке гипотез.  \n",
    "> И потом в основном выводе уже писать не просто, что у нас мужчин больше чем женьшин, а писать, что на уровен значисомти таком то у нас мужчина больше чем  \n",
    "> женщин с таким то доверительным интервалом.  \n",
    "> Таким образом выводы по вомзожности должны проходить через этап проверки гипотез, тогда эти выводы становятся более существенными.\n"
   ]
  },
  {
   "cell_type": "markdown",
   "metadata": {},
   "source": [
    "- Гипотезы появляются, когда мы задаем вопросы данным. Мы изучили данные, преобработали и теперь начинаем задавать вопросы.\n",
    "- Выдвигаем гипотезу (заметили что-то необычное и хотим проверить), далее формулируем ее и далее проверяем.\n",
    "- Не забываем формулировать гипотезы словами. Пишем что является гипотезой H0, а что гипотезой H1\n",
    "- Формулируем все гипотезы, которые хотим проверить. Если будет 100 гипотез, то все 100 нужно сформулировать и потом проверить и сделать вывод.\n",
    "- Гипотезы могут быть и простыми вопросами без гипотез H0 и H1, такие гипотезы мы проверяем графиками или анализируя таблицу.\n",
    "- Восновном, когда мы собиаремся применить стат аппарат для проверки гипотезы, то мы должны записать ее через H0 и H1.\n"
   ]
  },
  {
   "cell_type": "markdown",
   "metadata": {},
   "source": [
    "> Отличная статья про доверительные интервалы для разных статистик  \n",
    "> https://habr.com/ru/articles/807051/\n"
   ]
  },
  {
   "cell_type": "markdown",
   "metadata": {},
   "source": [
    "> Bootstrapping\n"
   ]
  },
  {
   "cell_type": "markdown",
   "metadata": {},
   "source": [
    "> В бутстрепе, если мы хотим сравнить две выборки, то нельзя смотреть  \n",
    "> где находится исходная разница средних в бутстрапированной выборке  \n",
    "> Так как мы берем бутстреп из наших выборок и впролне реально.что наша разность  \n",
    "> будет близка к с реднему бутстропированной выборки  \n",
    "> Поэтому p value нужно определять по месту нуля в бутстропированной выборке\n"
   ]
  },
  {
   "cell_type": "markdown",
   "metadata": {},
   "source": [
    "> Посмотрим p value для 0 (если различий нет, то разница должна быть 0)\n",
    "> Для этого посчитаем cdf для + и - среднего, чтобы получить 2 значения cdf\n",
    "> а теперь возьмем минимум и умножим на 2, так как альт гипотеза у нас.что\n",
    "> просто не равно 0, значит и справа и слева\n"
   ]
  },
  {
   "cell_type": "code",
   "execution_count": 182,
   "metadata": {},
   "outputs": [],
   "source": []
  },
  {
   "cell_type": "code",
   "execution_count": null,
   "metadata": {},
   "outputs": [],
   "source": [
    "Estimating the power of a non-parametric test using bootstrapping involves simulating the testing process multiple times to estimate the probability of rejecting the null hypothesis. Here's a general outline of the steps:\n",
    "\n",
    "**Specify the null and alternative hypotheses **: Define the null and alternative hypotheses for your test. For example, the null hypothesis might be that the two groups have the same distribution, and the alternative hypothesis might be that the two groups have different distributions.\n",
    "\n",
    "Generate simulated data: Generate simulated data that reflects the null hypothesis. For example, you could generate two groups of random data from the same distribution.\n",
    "\n",
    "Perform the Mann-Whitney U test: Perform the Mann-Whitney U test on the simulated data to obtain a p-value.\n",
    "\n",
    "Repeat steps 2-3 many times: Repeat steps 2-3 many times (e.g., 1000 times) to generate a distribution of p-values under the null hypothesis.\n",
    "\n",
    "Estimate the power: Estimate the power of the test by calculating the proportion of times the p-value is below a certain significance level (e.g., 0.05) when the alternative hypothesis is true. To do this, you'll need to generate simulated data that reflects the alternative hypothesis and repeat steps 2-4."
   ]
  },
  {
   "cell_type": "markdown",
   "metadata": {},
   "source": [
    "### Промежуточный вывод\n"
   ]
  },
  {
   "cell_type": "markdown",
   "metadata": {},
   "source": [
    "Чтобы собрать все наблюдения используем это  \n",
    "нужно поставить `_start_` где начало и `_end_` где конец"
   ]
  },
  {
   "cell_type": "markdown",
   "metadata": {},
   "source": [
    "Не забываем удалить метки `_start_` и `_end_` "
   ]
  },
  {
   "cell_type": "code",
   "execution_count": null,
   "metadata": {},
   "outputs": [],
   "source": [
    "import IPython\n",
    "notebook_path = \"/\".join(\n",
    "        IPython.extract_module_locals()[1][\"__vsc_ipynb_file__\"].split(\"/\"))\n",
    "pagri_data_tools.collect_observations(notebook_path, '/home/pagri/git_repos/pagri-projects/quarto/projects/prospective_tariff_for_telecom/temp_for_report.ipynb')"
   ]
  },
  {
   "cell_type": "markdown",
   "metadata": {},
   "source": [
    "- На уровне значимости 0.05 гипотеза, что есть зависимость между количеством публикаций и днем недели подтвердилась.  \n",
    "- На уровне значимости 0.05 гипотеза, что удаленность от центра влияет на количество публикаций, подтвердилась.  "
   ]
  },
  {
   "cell_type": "markdown",
   "metadata": {},
   "source": [
    "## Общий вывод\n"
   ]
  },
  {
   "cell_type": "markdown",
   "metadata": {},
   "source": [
    "ВАЖНО  \n",
    "проверить, что результат проверки гипотез учтен в выводах.  \n",
    "То есть если у нас был промежуточный вывод, но проверка гипотез опровергла этот вывод, то нужно изменить вывод на противоположный."
   ]
  },
  {
   "cell_type": "markdown",
   "metadata": {},
   "source": [
    "Проходим собираем все промежуточные выводы, вставляем сюда и выбираем важные. "
   ]
  },
  {
   "cell_type": "markdown",
   "metadata": {},
   "source": [
    "ВАЖНО  \n",
    "из промежуточных выводов в изучении данных собрать подобные выводы:  \n",
    "- Рынок жилья представлен объектами общей площадью от 12 до 900 кв.м. В основном это жилье от 30 до 100 кв.м. с пиком в сегменте 30-75 кв.м. В жилой площади квартиры преобладает диапазон 15-50 кв.м. Размер площади кухни-от 5 до 15 кв.м., с пиком 9 кв.м. Это стандартные небольшие квартиры эконом-класса. Подавляющее большинство квартир- 1-3 комнатные, с высотой потолка 2,6-2,7 м., но встречаются редкие варианты до 19 комнат и высотой потолка до 20 кв.м. (либо ошибка, либо свободная планировка с возможностью многоуровневости).\n",
    "- Цены на квартиры в основном находятся в диапазоне 2.5-15 млн.руб. с пиком в области 3-5 млн.руб.(небольшие квартиры эконом-класса), но есть и уникальные объекты стоимостью до 763 млн.руб. Стоимость квадратного метра недвижимости варьируется от 50-130 тыс.руб. с пиком в 90-100 тыс.руб. Наряду с типовыми предложениями на продажу выставлено жилье премиум-класса со стоимостью 1 кв.м. до 1.9 млн.руб.\n",
    "- Общее время продажи жилой недвижимости-до 1618 дней. Половина квартир продается за период до 94 дней, а среднее значение по всему массиву данных -185 дней. При этом можно увидеть, что пик продаж приходится на 45-60 день с момента публикации. Исходя из расчета выбросов можно сказать, что продажи прошли аномально быстро, если сделки были оформлены в период до 16 дней и слишком долго, если до оформления сделки свыше 1134 дней.    "
   ]
  },
  {
   "cell_type": "markdown",
   "metadata": {},
   "source": [
    "Это важно, так как дает представление о данных в сжатой и удобной форме.  \n",
    "А далее уже идут выводы о зависимостях.  "
   ]
  },
  {
   "cell_type": "markdown",
   "metadata": {},
   "source": [
    "Не забываем ставить 2 пробела после Выводы и другие для quarto"
   ]
  },
  {
   "cell_type": "markdown",
   "metadata": {},
   "source": [
    "После каждой строки поставить либо перенос, либо 2 пробела для quarto  \n",
    "так как когда следующая строка начинается с дефиса и jupyter это понимает и делает новую строку,   \n",
    "то quarto не сделает новую строку"
   ]
  },
  {
   "cell_type": "markdown",
   "metadata": {},
   "source": [
    "**Выводы:**  \n"
   ]
  },
  {
   "cell_type": "markdown",
   "metadata": {},
   "source": [
    "- Долги есть у людей с разным доходом.  \n",
    "- У должников в среднем больше детей.  \n",
    "- У должников среднее количество детей больше у женщин, а у не должников срднее количество детей больше у мужчин  \n",
    "- У должников средний возраст немного ниже для всех категорий семейного положения.  \n",
    "- Медианный доход у должников и не должников практически не отличается  \n",
    "- Должники имеют ниже средний возраст как мужчины так и женщины. Ситуация сохраняется во всех группах дохода.  \n",
    "- Цель получения кредита практически не зависит от среднего ежемесяченого дохода.  \n",
    "- 92 % клиентов не имеют долга.  \n",
    "- Люди от 30 до 50 лет имеют самый высокий средний доход.  \n",
    "- Больше всего кредит берут на цели, связанные с недвижимостью, кроме людей в гражданском браке  \n",
    "- Люди в гражданском браке чаще берут кредит на свадьбу  \n",
    "- Женщины чаще возвращают кредит.  \n",
    "- Анализ значимости признаков для модели случайного леса показал, что доход является самым значимым признаком для предсказания задолженности.  \n",
    "- 58 % клиентов либо женаты, либо замужем. 19 % в гражданском браке. Можно сделать вывод что большинство в браке.  \n",
    "- Большинство клиентов женщины (66 процентов).  \n",
    "- Только 5 процентов клиентов моложе 25 лет. Основная часть клиентов старше 30 лет.  \n",
    "- Чем меньше количество детей, тем больше значений с высоким доходом.  \n",
    "- Болшая часть женатых имеет доход 100-200 тыс  \n",
    "- На всех уровнях образоания, кроме ученой степени, доход у мужчин выше.  \n",
    "- У мужчин, которые в браке или были в браке, количество детей больше, чем у женщин в той же категории.  \n"
   ]
  },
  {
   "cell_type": "markdown",
   "metadata": {},
   "source": [
    "**Аномалии и особенности в данных:**  \n",
    "\n",
    "- В датафрейме есть строки дубликаты. 54 строки. Меньше 1 % от всего датафрейма.  \n",
    "- В столбце с количеством детей есть отрицательные значения. 47 штук. Меньше 1 процента от всего датафрейма. Также есть клиенты с 20 детьми.  \n",
    "- Колонока общий трудовой стаж содержит 74 % отрицаетльных значений. А также максимальное количество дней стажа больше 400 тысяч дней, это больше 1000 лет.  \n",
    "- В колонке возраста 101 нулевое значени.  \n",
    "- Колонка дохода имеет слишком много знаков после запятой.  \n",
    "- В колонке с образованием присутствуют одни и те же знчения с разными регистрами. При этом в колонке с id образования все впрорядке.  \n"
   ]
  },
  {
   "cell_type": "markdown",
   "metadata": {},
   "source": [
    "**Результаты предобработки данных:**  \n",
    "\n",
    "- Удалили колонки с id образования и семейного статуса, так как нам для графиков лучше подойдут названия, а не id.\n",
    "- Колонка со стажем имеет совершенно некорректные данные. Чтобы не внести искажение в анализ, удалим эту колонку.\n"
   ]
  },
  {
   "cell_type": "markdown",
   "metadata": {},
   "source": [
    "**Результаты проверки гипотез:**  \n",
    "\n",
    "- Гипотеза 1: У мужчин средний доход выше, чем у женщин  \n",
    "**Результат:** На уровне значимости 0.05 гипотеза подтвердилась.  \n",
    "- Гипотеза 2: Цель получения кредита практически не зависит от среднего ежемесячного дохода  \n",
    "**Результат:** На уровне значимости 0.05 у нас нет оснований отвергнуть гипотезу.  \n",
    "- Гипотеза 3: Средний доход по семейному статусу примерно одинаковый, но у вдовцов отличается  \n",
    "**Результат:** На уровне значимости 0.05 гипотеза подтвердилась.  \n",
    "- Гипотеза 4: У должников в среднем больше детей  \n",
    "**Результат:** На уровне значимости 0.05 гипотеза подтвердилась.  \n",
    "- Гипотеза 5: У должников средний возраст ниже  \n",
    "**Результат:** На уровне значимости 0.05 гипотеза подтвердилась. 95% доверительный интервал для разницы средних возрастов для должников и не должников равен   (-inf, -2.74).  \n",
    "- Гипотеза 6: Медианный доход у должников и не должников не отличается  \n",
    "**Результат:** На уровне значимости 0.05 нет оснований отвергнуть гипотезу. 95% доверительный интервал разницы между медианным доходом должников и не должников равен (-2648.05, 179.34).  \n",
    "- Гипотеза 7: Наличие детей не влияет на возврат кредита в срок  \n",
    "**Результат:** На уровне значимости 0.05 гипотеза не подтвердилась.  \n"
   ]
  },
  {
   "cell_type": "markdown",
   "metadata": {},
   "source": [
    "**Рекомендации:**  \n",
    "\n",
    "- Добавить контроль данных, чтобы не дублировались значения с разными регистрами в колонке с образованием.\n",
    "- Добавить уникальный идентификатор клиента, чтобы избежать дублирования строк.\n",
    "- Добавить проверку на отрицательные значения и на слишком болшьшие значения в количестве детей при загрузке данных.\n",
    "- Выяснить откуда возникают отрицательные значения в трудовом стаже и добавить контроль ввода невалидных данных.\n",
    "- Выяснить причину нулевых значений в колонке возраста и добавить проверку на нулевые значения при загрузке данных.\n",
    "- Выяснить причину большого количества знаков после запятой в колонке дохода.\n"
   ]
  },
  {
   "cell_type": "markdown",
   "metadata": {},
   "source": [
    "ВАЖНО   \n",
    "ячейки далее лучше удалить до обработки ноутбука, чтобы не было ошибок  \n",
    "Копировать что нужно можно из шаблона"
   ]
  },
  {
   "cell_type": "markdown",
   "metadata": {},
   "source": [
    "> Что нужно сообщить в выводе\n",
    "\n",
    "- информацию о том, что удалось подтвердить гипотезы (тут пишем только те, которые удалось подтвердить)\n",
    "- всю информацию о датасете, которые важны. Дубликаты, которые несут практическую пользу и рекомендации по ним, пропуски также с рекомендациями\n",
    "  > и остальные моменты по данным и рекомендации. Тут важно указывать именно найденные аномалии, которые имеют практическую пользу, которые нужно исправить и прочее.  \n",
    "  > Пишем, что были найдены выбросы, они были связаны возможно с тем то и тем то.\n",
    "- и в конце обязательно call to action\n",
    "  > написать что необходимо сделать с этими результатами\n"
   ]
  },
  {
   "cell_type": "markdown",
   "metadata": {},
   "source": [
    "> Советы по оформлению общего выывод\n",
    "\n",
    "- не нужно вставлять таблицы и графики в вывод.\n",
    "  > В выводе пишем словами самое важное и практически полезное, что мы получили, причем в порядке убывания важности.  \n",
    "  > И когда мы пишем, что увидели то-то, то приводим гиперссылку на график или результат ячейки, где это получено.  \n",
    "  > Так будет компактный вывод и при необходимости человек сможет быстро перейти и посмотреть график или таблицу\n"
   ]
  },
  {
   "cell_type": "markdown",
   "metadata": {},
   "source": [
    "**Удалось подтвердить гипотезу** о влиянии различных характеристик клиента на факт погашения кредита в срок. Каждый из рассмотренных параметров оказывает влияние на надёжность заёмщика. Рассмотренные факторы по-разному влияют на надёжность заёмщиков. Например, семейное положение оказалось более значимым фактором, чем уровень дохода.\n"
   ]
  },
  {
   "cell_type": "markdown",
   "id": "ruled-penny",
   "metadata": {},
   "source": [
    "- В ходе анализа исходного набора данных было проведено (были устранены пропуски в двух колонках с числовыми значениями - 'total_income' и 'days_employed').\n",
    "- После **устранения явных и скрытых дупликатов** и удаления оставшихся после обогащения пропусков объем датасета сократился на 0.05%\n",
    "- Были устранены **выбросы** в колонках 'days_employed' и 'children': в первом случае выбросы возникли в результате системной ошибки (данные были внесены в часах, а не в днях); во втором случае ошибка, вероятнее всего была допущена людьми, вносившими данные в систему\n",
    "- ...\n"
   ]
  },
  {
   "cell_type": "markdown",
   "id": "alleged-strand",
   "metadata": {},
   "source": [
    "**Необходимо**\n"
   ]
  },
  {
   "cell_type": "markdown",
   "id": "critical-worker",
   "metadata": {},
   "source": [
    "> 1.  Запросить в отделе по работе с клиентами информацию о возможности брать кредит без подтверждения дохода.\n",
    ">\n",
    "> 2.  Сообщить коллегам, занимающимся выгрузкой о наличие дубликатов, если вопрос не разрешится, запросить индентификационный номер клиента к датасету.\n",
    ">\n",
    "> 3.  Прописать в задаче на поставку данных формат данных (пол только F и M, положительные значения). Приложить информацию о найденных аномалиях.\n"
   ]
  },
  {
   "cell_type": "code",
   "execution_count": null,
   "metadata": {},
   "outputs": [],
   "source": []
  },
  {
   "cell_type": "markdown",
   "metadata": {},
   "source": [
    "**Сначала проверяем орфографические ошибки**\n"
   ]
  },
  {
   "cell_type": "code",
   "execution_count": null,
   "metadata": {},
   "outputs": [],
   "source": [
    "import IPython\n",
    "notebook_path = \"/\".join(\n",
    "        IPython.extract_module_locals()[1][\"__vsc_ipynb_file__\"].split(\"/\"))\n",
    "pagri_data_tools.correct_notebook_text(notebook_path)"
   ]
  },
  {
   "cell_type": "markdown",
   "metadata": {},
   "source": [
    "**Затем создаем номера у глав и оглавление**\n"
   ]
  },
  {
   "cell_type": "markdown",
   "metadata": {},
   "source": [
    "> Чтобы добавить номера глав и ссылки для оглавления и сделать оглавлнеие  \n",
    "> оглавление добавиться в начало ноутбука\n"
   ]
  },
  {
   "cell_type": "markdown",
   "metadata": {},
   "source": [
    "> Сначала можно в режиме `draft` сделать пробный варант, проверить и потом уже запустить в режиме `final`\n"
   ]
  },
  {
   "cell_type": "code",
   "execution_count": null,
   "metadata": {},
   "outputs": [],
   "source": [
    "import IPython\n",
    "notebook_path = \"/\".join(\n",
    "        IPython.extract_module_locals()[1][\"__vsc_ipynb_file__\"].split(\"/\"))\n",
    "pagri_data_tools.make_headers_link_and_toc(notebook_path)"
   ]
  },
  {
   "cell_type": "markdown",
   "metadata": {},
   "source": [
    "**Далее создаем ссыки на выводы и аномалии**\n"
   ]
  },
  {
   "cell_type": "markdown",
   "metadata": {},
   "source": [
    "> Чтобы было удобно искать где вставить якорь для ссылки, названия выводов и аномалий должно точно совпадать  \n",
    "> в итоговом списке аномалий и выводов и в тех местах (то есть в наблюдениях под ячейками), куда мы будем помещать ссылки\n"
   ]
  },
  {
   "cell_type": "markdown",
   "metadata": {},
   "source": [
    "> Чтобы сделать ссылки на выводы и аномалии, нужно  \n",
    "> в тех местах, куда хотим переходить по ссылке вставить текст выводов или аномалий (берем прямо из основных выводов)  \n",
    "> выводы должны начинаться с `_conclusion_`  \n",
    "> аномалии должны начинаться с `_anomalies_`  \n",
    "> Примеры:  \n",
    ">\n"
   ]
  },
  {
   "cell_type": "markdown",
   "metadata": {},
   "source": [
    "Окончательный текст выводов можно будет потом исправить в выводах всего отчета и поместить их в начало,  \n",
    "важно, выводы не менять до момента, пока мы не создадим ссылки на них.  \n",
    "Чтобы автомтика не нарушилась.  \n",
    "Затем можно будет исправить уже сам текст выводов и это не нарушит ссылки."
   ]
  },
  {
   "cell_type": "code",
   "execution_count": null,
   "metadata": {},
   "outputs": [],
   "source": [
    "==== _anomalies_ В столбце с количеством детей есть отрицательные значения. 47 штук. "
   ]
  },
  {
   "cell_type": "markdown",
   "metadata": {},
   "source": [
    "> Можно в одной ячейке и выводы и аномалии, с обеих ссылок будет переходить сюда, но назад будет возвращаться только в одно место,  \n",
    "> в то, которое было первым в ячейке\n"
   ]
  },
  {
   "cell_type": "markdown",
   "metadata": {},
   "source": [
    "ВАЖНО  \n",
    "разобраться почему когда рядом ставишь 2 вывода или аномалии или 1 вывод плюс 1 аномалия (вместе 2), то появляется  \n",
    "2 ссылки на оглавление"
   ]
  },
  {
   "cell_type": "markdown",
   "metadata": {},
   "source": [
    "Делаем так\n",
    "- Из всех выводов в выбираем те, которые хотим поместить в начале отчета\n",
    "- Собриаем их в отдельном файле (чтобы удобно было копировать) Можно использовать clipboard history\n",
    "- Добавляем в начало вывода _conclusiions_  \n",
    "- Далее по одному выводу полностью копируем, вставляем в поиск и удаляем в начале _conclusions_  \n",
    "при этом в буфере обмена с _conclusions_ \n",
    "- Переходим в нужное место через поиск и вставляем. \n"
   ]
  },
  {
   "cell_type": "code",
   "execution_count": null,
   "metadata": {},
   "outputs": [],
   "source": [
    "==== _conclusion_ Только 5 процентов клиентов моложе 25 лет. Основная часть клиентов старше 30 лет.\n",
    "==== _anomalies_ В колонке возраста 101 нулевое значени."
   ]
  },
  {
   "cell_type": "markdown",
   "metadata": {},
   "source": [
    "ВАЖНО  \n",
    "Проийти просмотреть чтобы не было 2 раза близко \"к оглавлению\"  \n",
    "это может быть из-за того что у нас ссылки на выводы рядом с названием главы или раздела  \n",
    "Или просто могут быть 2 выводы рядом.  "
   ]
  },
  {
   "cell_type": "markdown",
   "metadata": {},
   "source": [
    "> Содеражние выводов и аномалий появится в начале ноутбука  \n",
    "> также 2 режима `draft` и `final`\n"
   ]
  },
  {
   "cell_type": "markdown",
   "metadata": {},
   "source": [
    "> Подумать как сделать удобнее создание выводов  \n",
    "> Пока лучше сначала взять выводы из наблюдений и выбрать из них наиболее важные и интересные, не меняя их.  \n",
    "> Далее берем этот список и поиском находим ячейку с этим выводом и перед графиком помещаем  \n",
    "> _conclusion_ и сам вывод\n"
   ]
  },
  {
   "cell_type": "code",
   "execution_count": null,
   "metadata": {},
   "outputs": [],
   "source": []
  },
  {
   "cell_type": "markdown",
   "metadata": {},
   "source": [
    "> Чтобы был нужный порядок в списке выводов и аномалий в начале отчета, нужно передвать словарь со списками выводов и аномалий.  \n",
    "> Переменная order принимает словарь, где ключи `conclusions` и `anomalies`, а значения это соответствующие списки\n"
   ]
  },
  {
   "cell_type": "markdown",
   "metadata": {},
   "source": [
    "> Примеры списков\n"
   ]
  },
  {
   "cell_type": "code",
   "execution_count": null,
   "metadata": {},
   "outputs": [],
   "source": [
    "order = dict(\n",
    "            conclusions =[ 'Женщины чаще возвращают кредит, чем мужчины.']\n",
    "            , anomalies = ['В датафрейме есть строки дубликаты. 54 строки. Меньше 1 % от всего датафрейма.  ']\n",
    ")"
   ]
  },
  {
   "cell_type": "code",
   "execution_count": null,
   "metadata": {},
   "outputs": [],
   "source": [
    "import IPython\n",
    "notebook_path = \"/\".join(\n",
    "        IPython.extract_module_locals()[1][\"__vsc_ipynb_file__\"].split(\"/\"))\n",
    "pagri_data_tools.add_conclusions_and_anomalies(notebook_path)"
   ]
  },
  {
   "cell_type": "code",
   "execution_count": null,
   "metadata": {},
   "outputs": [],
   "source": []
  },
  {
   "cell_type": "markdown",
   "metadata": {},
   "source": [
    "**Ставим переносы для булитов там, где их нет**"
   ]
  },
  {
   "cell_type": "code",
   "execution_count": null,
   "metadata": {},
   "outputs": [],
   "source": [
    "import IPython\n",
    "notebook_path = \"/\".join(\n",
    "        IPython.extract_module_locals()[1][\"__vsc_ipynb_file__\"].split(\"/\"))\n",
    "pagri_data_tools.check_observes_new_line(notebook_path, mode='final')"
   ]
  },
  {
   "cell_type": "markdown",
   "metadata": {},
   "source": [
    "ВАЖНО  \n",
    "не забываме перенести рекомендации в начало после аномалий  \n",
    "Порядок\n",
    "- главные выводы\n",
    "- аномалии в данных\n",
    "- рекомендации"
   ]
  },
  {
   "cell_type": "markdown",
   "metadata": {},
   "source": [
    "**Если сильно нужно, создаем ссыки на гипотезы**\n"
   ]
  },
  {
   "cell_type": "markdown",
   "metadata": {},
   "source": [
    "> В главе гипотез для каждой гипоетзы, куда будем переходить из оглавления, в начале перед гипотезой ставим _hypothesis_ и пробел\n"
   ]
  },
  {
   "cell_type": "code",
   "execution_count": null,
   "metadata": {},
   "outputs": [],
   "source": [
    "==== _hypotsis_ **Гипотеза 1: Название гипотезы**"
   ]
  },
  {
   "cell_type": "markdown",
   "metadata": {},
   "source": [
    "> Выполняем следующую функцию и в начале отчета появится список гипотез с ссылками  \n",
    "> Далее нужно добавить результат гипотез вручную\n"
   ]
  },
  {
   "cell_type": "code",
   "execution_count": null,
   "metadata": {},
   "outputs": [],
   "source": [
    "pagri_data_tools.add_hypotheses_links_and_toc()"
   ]
  },
  {
   "cell_type": "markdown",
   "metadata": {},
   "source": [
    "**Финальное размещение ноутбука на git hub с ссылкой на google colab**\n"
   ]
  },
  {
   "cell_type": "markdown",
   "metadata": {},
   "source": [
    "> Комитим на гит хаб финальную версию ноутбука.  \n",
    "> Создаем на гит хаб readme файл проекта, в котором в начале идет ссылка на google colab  \n",
    "> Далее ее открываем и переходим на google colab  \n",
    "> Выполняем все ячейки, смотрим все ли правильно отобразилось.  \n",
    "> Далее в меню File выбираем сохранить копию на гит хаб.  \n",
    "> Не меняем имя, тогда все содержимое ноутбука сохраниться на гит хаб.\n"
   ]
  }
 ],
 "metadata": {
  "kernelspec": {
   "display_name": "pagri-projects-W8_aXYna-py3.12",
   "language": "python",
   "name": "python3"
  },
  "language_info": {
   "codemirror_mode": {
    "name": "ipython",
    "version": 3
   },
   "file_extension": ".py",
   "mimetype": "text/x-python",
   "name": "python",
   "nbconvert_exporter": "python",
   "pygments_lexer": "ipython3",
   "version": "3.12.7"
  }
 },
 "nbformat": 4,
 "nbformat_minor": 2
}
