{
 "cells": [
  {
   "cell_type": "code",
   "execution_count": null,
   "id": "2d94cb1e",
   "metadata": {},
   "outputs": [],
   "source": [
    "_gen_ "
   ]
  },
  {
   "cell_type": "code",
   "execution_count": null,
   "metadata": {},
   "outputs": [
    {
     "name": "stdout",
     "output_type": "stream",
     "text": [
      "Corrected notebook saved to /home/pagri/git_repos/pagri-projects/quarto/projects/research_on_video_game_sales/temp_for_report.ipynb\n"
     ]
    }
   ],
   "source": [
    "_pagristart_\n",
    "_pagriend_\n",
    "import IPython\n",
    "notebook_path = \"/\".join(\n",
    "        IPython.extract_module_locals()[1][\"__vsc_ipynb_file__\"].split(\"/\"))\n",
    "pagri_data_tools.collect_observations(notebook_path, '')"
   ]
  },
  {
   "cell_type": "code",
   "execution_count": null,
   "metadata": {
    "vscode": {
     "languageId": "plaintext"
    }
   },
   "outputs": [],
   "source": [
    "df_visits (лог сервера с информацией о посещениях сайта)\n",
    "\n",
    "df_orders (информацию о заказах)\n",
    "\n",
    "df_costs (информацию о расходах на маркетинг)\n",
    "\n",
    "df_monthly\n",
    "\n",
    "df_cohort\n",
    "\n"
   ]
  },
  {
   "cell_type": "code",
   "execution_count": null,
   "metadata": {
    "vscode": {
     "languageId": "plaintext"
    }
   },
   "outputs": [],
   "source": [
    "оптовики\n",
    "5539673724080479777\n",
    "11149926373378902217"
   ]
  },
  {
   "cell_type": "code",
   "execution_count": null,
   "metadata": {
    "vscode": {
     "languageId": "plaintext"
    }
   },
   "outputs": [],
   "source": [
    "- В колонке с датой прекращения пользования тарифом 92 % пропусков. Значит 92 % пользователей ещё пользуются таррифом.\n",
    "\n",
    "\n",
    "\n",
    "- На гистограмме выручки присутствуют 2 пика. Это связанно с абоненской платой, так как у нас 2 тарифа\n"
   ]
  },
  {
   "cell_type": "markdown",
   "metadata": {},
   "source": [
    "**Таблица visits_log (лог сервера с информацией о посещениях сайта):**\n",
    "\n",
    "- Uid - уникальный идентификатор пользователя,\n",
    "- Device - категория устройства пользователя,\n",
    "- Start Ts - дата и время начала сессии,\n",
    "- End Ts - дата и время окончания сессии,\n",
    "- Source Id - идентификатор источника перехода на сайт.\n"
   ]
  },
  {
   "cell_type": "markdown",
   "metadata": {},
   "source": [
    "**Таблица orders_log (информацию о заказах):**\n",
    "\n",
    "- Uid - уникальный идентификатор пользователя,\n",
    "- Buy Ts - дата и время заказа,\n",
    "- Revenue - сумма заказа."
   ]
  },
  {
   "cell_type": "markdown",
   "metadata": {},
   "source": [
    "**Таблица costs (информацию о расходах на маркетинг):**\n",
    "\n",
    "- source_id - идентификатор рекламного источника,\n",
    "- dt - дата проведения рекламной кампании,\n",
    "- costs - расходы на эту кампанию."
   ]
  },
  {
   "cell_type": "code",
   "execution_count": null,
   "metadata": {
    "vscode": {
     "languageId": "plaintext"
    }
   },
   "outputs": [],
   "source": [
    "Переменные с id\n",
    "- user_id (users) - уникальный идентификатор пользователя\n",
    "- id (calls) - уникальный номер звонка\n",
    "- id (messages) - уникальный номер сообщения\n",
    "- user_id (calls) - идентификатор пользователя, сделавшего звонок\n",
    "- user_id (messages) - идентификатор пользователя, отправившего сообщение\n",
    "- id (internet) - уникальный номер сессии\n",
    "- user_id (internet) - идентификатор пользователя\n",
    "\n",
    "Категориальные переменные\n",
    "- city (users) - город проживания пользователя\n",
    "- tarif (users) - название тарифного плана\n",
    "- tariff_name (tariffs) - название тарифа\n",
    "- age_cat (users) - возрастная категория\n",
    "- duration_cat (calls) - категория длительности звонка\n",
    "- mb_used_cat (internet) - категория объема интернет трафика\n",
    "- reg_date_weekday (users) - день недели подключения тарифа\n",
    "- reg_date_month (users) - месяц подключения тарифа\n",
    "- reg_date_weekday (users) - день недели подключения тарифа\n",
    "- reg_date_month (users) - месяц подключения тарифа\n",
    "- call_date_weekday (calls) - день недели звонка\n",
    "- call_date_month (calls) - месяц звонка\n",
    "- message_date_weekday (messages) - день недели сообщения\n",
    "- message_date_month (messages) - месяц сообщения\n",
    "- session_date_weekday (internet) - день недели интернет-сессии\n",
    "- session_date_month (internet) - месяц интернет-сессии\n",
    "- is_active - активен ли тариф\n",
    "\n",
    "Числовые переменные\n",
    "- age (users) - возраст пользователя (годы)\n",
    "- duration (calls) - длительность звонка в минутах\n",
    "- mb_used (internet) - объём потраченного за сессию интернет-трафика (в мегабайтах)\n",
    "- rub_monthly_fee (tariffs) - ежемесячная абонентская плата в рублях\n",
    "- minutes_included (tariffs) - количество минут разговора в месяц, включённых в абонентскую плату\n",
    "- messages_included (tariffs) - количество сообщений в месяц, включённых в абонентскую плату\n",
    "- mb_per_month_included (tariffs) - объём интернет-трафика, включённого в абонентскую плату (в мегабайтах)\n",
    "- rub_per_minute (tariffs) - стоимость минуты разговора сверх тарифного пакета (например, если в тарифе 100 минут разговора в месяц, то со 101 минуты будет взиматься плата)\n",
    "- rub_per_message (tariffs) - стоимость отправки сообщения сверх тарифного пакета\n",
    "- rub_per_gb (tariffs) - стоимость дополнительного гигабайта интернет-трафика сверх тарифного пакета (1 гигабайт = 1024 мегабайта)\n",
    "\n",
    "Временные переменные\n",
    "- reg_date (users) - дата подключения тарифа (день, месяц, год)\n",
    "- churn_date (users) - дата прекращения пользования тарифом (если значение пропущено, то тариф ещё действовал на момент выгрузки данных)\n",
    "- call_date (calls) - дата звонка\n",
    "- message_date (messages) - дата сообщения\n",
    "- session_date (internet) - дата интернет-сессии\n",
    "\n",
    "Остальные\n",
    "- first_name (users) - имя пользователя\n",
    "- last_name (users) - фамилия пользователя\n"
   ]
  }
 ],
 "metadata": {
  "language_info": {
   "name": "python"
  }
 },
 "nbformat": 4,
 "nbformat_minor": 2
}
